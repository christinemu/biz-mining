{
 "cells": [
  {
   "cell_type": "code",
   "execution_count": 23,
   "metadata": {
    "init_cell": true,
    "slideshow": {
     "slide_type": "notes"
    }
   },
   "outputs": [],
   "source": [
    "import pandas as pd\n",
    "import numpy as np\n",
    "import matplotlib.pyplot as plt\n",
    "from IPython.display import display\n",
    "from IPython.core.interactiveshell import InteractiveShell\n",
    "InteractiveShell.ast_node_interactivity = \"all\"\n",
    "plt.rcParams['font.sans-serif']=['Microsoft Yahei']\n",
    "plt.style.use(\"ggplot\")"
   ]
  },
  {
   "cell_type": "markdown",
   "metadata": {
    "slideshow": {
     "slide_type": "slide"
    }
   },
   "source": [
    "<div class=\"jumbotron\">\n",
    "    <h1 class=\"display-1\">分类技术：进阶</h1>\n",
    "    <hr class=\"my-4\">\n",
    "    <p>主讲：李岩</p>\n",
    "    <p>管理学院</p>\n",
    "    <p>liyan@cumtb.edu.cn</p>\n",
    "</div>"
   ]
  },
  {
   "cell_type": "markdown",
   "metadata": {
    "slideshow": {
     "slide_type": "slide"
    }
   },
   "source": [
    "## 分类技术在评价中的应用"
   ]
  },
  {
   "cell_type": "markdown",
   "metadata": {
    "slideshow": {
     "slide_type": "fragment"
    }
   },
   "source": [
    "- 数据集记录了151名助教在5个学期中的教学效果的评估，评估结果分别是“差”、“一般”、“好”。数据属性的含义如下表所示："
   ]
  },
  {
   "cell_type": "markdown",
   "metadata": {
    "slideshow": {
     "slide_type": "fragment"
    }
   },
   "source": [
    "No.|含义|取值\n",
    "---|---|---\n",
    "1|助教是否以英语为母语|二元变量，1=是，2=否\n",
    "2|课程的讲师|分类变量，25个类别\n",
    "3|课程|分类变量，26个类别\n",
    "4|暑期或正常学期|二元变量，1=暑期，2=正常学期\n",
    "5|班级大小|整数\n",
    "6|评估结果|1=差，2=一般，3=好"
   ]
  },
  {
   "cell_type": "markdown",
   "metadata": {
    "slideshow": {
     "slide_type": "slide"
    }
   },
   "source": [
    "### 读取数据"
   ]
  },
  {
   "cell_type": "code",
   "execution_count": 3,
   "metadata": {
    "slideshow": {
     "slide_type": "fragment"
    }
   },
   "outputs": [
    {
     "data": {
      "text/html": [
       "<div>\n",
       "<style scoped>\n",
       "    .dataframe tbody tr th:only-of-type {\n",
       "        vertical-align: middle;\n",
       "    }\n",
       "\n",
       "    .dataframe tbody tr th {\n",
       "        vertical-align: top;\n",
       "    }\n",
       "\n",
       "    .dataframe thead th {\n",
       "        text-align: right;\n",
       "    }\n",
       "</style>\n",
       "<table border=\"1\" class=\"dataframe\">\n",
       "  <thead>\n",
       "    <tr style=\"text-align: right;\">\n",
       "      <th></th>\n",
       "      <th>1</th>\n",
       "      <th>23</th>\n",
       "      <th>3</th>\n",
       "      <th>1.1</th>\n",
       "      <th>19</th>\n",
       "      <th>3.1</th>\n",
       "    </tr>\n",
       "  </thead>\n",
       "  <tbody>\n",
       "    <tr>\n",
       "      <th>0</th>\n",
       "      <td>2</td>\n",
       "      <td>15</td>\n",
       "      <td>3</td>\n",
       "      <td>1</td>\n",
       "      <td>17</td>\n",
       "      <td>3</td>\n",
       "    </tr>\n",
       "    <tr>\n",
       "      <th>1</th>\n",
       "      <td>1</td>\n",
       "      <td>23</td>\n",
       "      <td>3</td>\n",
       "      <td>2</td>\n",
       "      <td>49</td>\n",
       "      <td>3</td>\n",
       "    </tr>\n",
       "    <tr>\n",
       "      <th>2</th>\n",
       "      <td>1</td>\n",
       "      <td>5</td>\n",
       "      <td>2</td>\n",
       "      <td>2</td>\n",
       "      <td>33</td>\n",
       "      <td>3</td>\n",
       "    </tr>\n",
       "    <tr>\n",
       "      <th>3</th>\n",
       "      <td>2</td>\n",
       "      <td>7</td>\n",
       "      <td>11</td>\n",
       "      <td>2</td>\n",
       "      <td>55</td>\n",
       "      <td>3</td>\n",
       "    </tr>\n",
       "    <tr>\n",
       "      <th>4</th>\n",
       "      <td>2</td>\n",
       "      <td>23</td>\n",
       "      <td>3</td>\n",
       "      <td>1</td>\n",
       "      <td>20</td>\n",
       "      <td>3</td>\n",
       "    </tr>\n",
       "  </tbody>\n",
       "</table>\n",
       "</div>"
      ],
      "text/plain": [
       "   1  23   3  1.1  19  3.1\n",
       "0  2  15   3    1  17    3\n",
       "1  1  23   3    2  49    3\n",
       "2  1   5   2    2  33    3\n",
       "3  2   7  11    2  55    3\n",
       "4  2  23   3    1  20    3"
      ]
     },
     "execution_count": 3,
     "metadata": {},
     "output_type": "execute_result"
    }
   ],
   "source": [
    "tadf = pd.read_csv('./data/classificationSupplement/tae.txt')\n",
    "tadf.head()"
   ]
  },
  {
   "cell_type": "markdown",
   "metadata": {
    "slideshow": {
     "slide_type": "fragment"
    }
   },
   "source": [
    "- 原始数据不含有属性（列）名，用上述方式导致将第一行数据作为列名，这种读取方式不正确"
   ]
  },
  {
   "cell_type": "code",
   "execution_count": 4,
   "metadata": {
    "scrolled": true,
    "slideshow": {
     "slide_type": "fragment"
    }
   },
   "outputs": [
    {
     "data": {
      "text/html": [
       "<div>\n",
       "<style scoped>\n",
       "    .dataframe tbody tr th:only-of-type {\n",
       "        vertical-align: middle;\n",
       "    }\n",
       "\n",
       "    .dataframe tbody tr th {\n",
       "        vertical-align: top;\n",
       "    }\n",
       "\n",
       "    .dataframe thead th {\n",
       "        text-align: right;\n",
       "    }\n",
       "</style>\n",
       "<table border=\"1\" class=\"dataframe\">\n",
       "  <thead>\n",
       "    <tr style=\"text-align: right;\">\n",
       "      <th></th>\n",
       "      <th>english</th>\n",
       "      <th>instructor</th>\n",
       "      <th>course</th>\n",
       "      <th>period</th>\n",
       "      <th>size</th>\n",
       "      <th>label</th>\n",
       "    </tr>\n",
       "  </thead>\n",
       "  <tbody>\n",
       "    <tr>\n",
       "      <th>0</th>\n",
       "      <td>1</td>\n",
       "      <td>23</td>\n",
       "      <td>3</td>\n",
       "      <td>1</td>\n",
       "      <td>19</td>\n",
       "      <td>3</td>\n",
       "    </tr>\n",
       "    <tr>\n",
       "      <th>1</th>\n",
       "      <td>2</td>\n",
       "      <td>15</td>\n",
       "      <td>3</td>\n",
       "      <td>1</td>\n",
       "      <td>17</td>\n",
       "      <td>3</td>\n",
       "    </tr>\n",
       "    <tr>\n",
       "      <th>2</th>\n",
       "      <td>1</td>\n",
       "      <td>23</td>\n",
       "      <td>3</td>\n",
       "      <td>2</td>\n",
       "      <td>49</td>\n",
       "      <td>3</td>\n",
       "    </tr>\n",
       "    <tr>\n",
       "      <th>3</th>\n",
       "      <td>1</td>\n",
       "      <td>5</td>\n",
       "      <td>2</td>\n",
       "      <td>2</td>\n",
       "      <td>33</td>\n",
       "      <td>3</td>\n",
       "    </tr>\n",
       "    <tr>\n",
       "      <th>4</th>\n",
       "      <td>2</td>\n",
       "      <td>7</td>\n",
       "      <td>11</td>\n",
       "      <td>2</td>\n",
       "      <td>55</td>\n",
       "      <td>3</td>\n",
       "    </tr>\n",
       "  </tbody>\n",
       "</table>\n",
       "</div>"
      ],
      "text/plain": [
       "   english  instructor  course  period  size  label\n",
       "0        1          23       3       1    19      3\n",
       "1        2          15       3       1    17      3\n",
       "2        1          23       3       2    49      3\n",
       "3        1           5       2       2    33      3\n",
       "4        2           7      11       2    55      3"
      ]
     },
     "execution_count": 4,
     "metadata": {},
     "output_type": "execute_result"
    }
   ],
   "source": [
    "tadf = pd.read_csv('./data/classificationSupplement/tae.txt',names=['english','instructor','course','period','size','label'])\n",
    "tadf.head()"
   ]
  },
  {
   "cell_type": "markdown",
   "metadata": {
    "slideshow": {
     "slide_type": "slide"
    }
   },
   "source": [
    "### 数据预处理"
   ]
  },
  {
   "cell_type": "markdown",
   "metadata": {
    "slideshow": {
     "slide_type": "fragment"
    }
   },
   "source": [
    "#### 缺失值检验"
   ]
  },
  {
   "cell_type": "code",
   "execution_count": 5,
   "metadata": {
    "slideshow": {
     "slide_type": "fragment"
    }
   },
   "outputs": [
    {
     "data": {
      "text/plain": [
       "english       0\n",
       "instructor    0\n",
       "course        0\n",
       "period        0\n",
       "size          0\n",
       "label         0\n",
       "dtype: int64"
      ]
     },
     "execution_count": 5,
     "metadata": {},
     "output_type": "execute_result"
    }
   ],
   "source": [
    "tadf.isna().sum(axis=0)"
   ]
  },
  {
   "cell_type": "markdown",
   "metadata": {
    "slideshow": {
     "slide_type": "fragment"
    }
   },
   "source": [
    "- 不存在缺失值"
   ]
  },
  {
   "cell_type": "markdown",
   "metadata": {
    "slideshow": {
     "slide_type": "fragment"
    }
   },
   "source": [
    "#### `one-hot`编码"
   ]
  },
  {
   "cell_type": "markdown",
   "metadata": {
    "slideshow": {
     "slide_type": "fragment"
    }
   },
   "source": [
    "- 将评估结果列和其他属性分开"
   ]
  },
  {
   "cell_type": "code",
   "execution_count": 6,
   "metadata": {
    "slideshow": {
     "slide_type": "fragment"
    }
   },
   "outputs": [
    {
     "data": {
      "text/html": [
       "<div>\n",
       "<style scoped>\n",
       "    .dataframe tbody tr th:only-of-type {\n",
       "        vertical-align: middle;\n",
       "    }\n",
       "\n",
       "    .dataframe tbody tr th {\n",
       "        vertical-align: top;\n",
       "    }\n",
       "\n",
       "    .dataframe thead th {\n",
       "        text-align: right;\n",
       "    }\n",
       "</style>\n",
       "<table border=\"1\" class=\"dataframe\">\n",
       "  <thead>\n",
       "    <tr style=\"text-align: right;\">\n",
       "      <th></th>\n",
       "      <th>english</th>\n",
       "      <th>instructor</th>\n",
       "      <th>course</th>\n",
       "      <th>period</th>\n",
       "      <th>size</th>\n",
       "    </tr>\n",
       "  </thead>\n",
       "  <tbody>\n",
       "    <tr>\n",
       "      <th>0</th>\n",
       "      <td>1</td>\n",
       "      <td>23</td>\n",
       "      <td>3</td>\n",
       "      <td>1</td>\n",
       "      <td>19</td>\n",
       "    </tr>\n",
       "    <tr>\n",
       "      <th>1</th>\n",
       "      <td>2</td>\n",
       "      <td>15</td>\n",
       "      <td>3</td>\n",
       "      <td>1</td>\n",
       "      <td>17</td>\n",
       "    </tr>\n",
       "    <tr>\n",
       "      <th>2</th>\n",
       "      <td>1</td>\n",
       "      <td>23</td>\n",
       "      <td>3</td>\n",
       "      <td>2</td>\n",
       "      <td>49</td>\n",
       "    </tr>\n",
       "    <tr>\n",
       "      <th>3</th>\n",
       "      <td>1</td>\n",
       "      <td>5</td>\n",
       "      <td>2</td>\n",
       "      <td>2</td>\n",
       "      <td>33</td>\n",
       "    </tr>\n",
       "    <tr>\n",
       "      <th>4</th>\n",
       "      <td>2</td>\n",
       "      <td>7</td>\n",
       "      <td>11</td>\n",
       "      <td>2</td>\n",
       "      <td>55</td>\n",
       "    </tr>\n",
       "  </tbody>\n",
       "</table>\n",
       "</div>"
      ],
      "text/plain": [
       "   english  instructor  course  period  size\n",
       "0        1          23       3       1    19\n",
       "1        2          15       3       1    17\n",
       "2        1          23       3       2    49\n",
       "3        1           5       2       2    33\n",
       "4        2           7      11       2    55"
      ]
     },
     "execution_count": 6,
     "metadata": {},
     "output_type": "execute_result"
    },
    {
     "data": {
      "text/plain": [
       "0    3\n",
       "1    3\n",
       "2    3\n",
       "3    3\n",
       "4    3\n",
       "Name: label, dtype: int64"
      ]
     },
     "execution_count": 6,
     "metadata": {},
     "output_type": "execute_result"
    }
   ],
   "source": [
    "taX = tadf.iloc[:,:-1]\n",
    "taY = tadf['label']\n",
    "taX.head()\n",
    "taY.head()"
   ]
  },
  {
   "cell_type": "markdown",
   "metadata": {
    "slideshow": {
     "slide_type": "slide"
    }
   },
   "source": [
    "- 对预测属性进行`one-hot`编码"
   ]
  },
  {
   "cell_type": "code",
   "execution_count": 7,
   "metadata": {
    "slideshow": {
     "slide_type": "fragment"
    }
   },
   "outputs": [
    {
     "data": {
      "text/html": [
       "<div>\n",
       "<style scoped>\n",
       "    .dataframe tbody tr th:only-of-type {\n",
       "        vertical-align: middle;\n",
       "    }\n",
       "\n",
       "    .dataframe tbody tr th {\n",
       "        vertical-align: top;\n",
       "    }\n",
       "\n",
       "    .dataframe thead th {\n",
       "        text-align: right;\n",
       "    }\n",
       "</style>\n",
       "<table border=\"1\" class=\"dataframe\">\n",
       "  <thead>\n",
       "    <tr style=\"text-align: right;\">\n",
       "      <th></th>\n",
       "      <th>size</th>\n",
       "      <th>english_1</th>\n",
       "      <th>english_2</th>\n",
       "      <th>instructor_1</th>\n",
       "      <th>instructor_2</th>\n",
       "      <th>instructor_3</th>\n",
       "      <th>instructor_4</th>\n",
       "      <th>instructor_5</th>\n",
       "      <th>instructor_6</th>\n",
       "      <th>instructor_7</th>\n",
       "      <th>...</th>\n",
       "      <th>course_19</th>\n",
       "      <th>course_20</th>\n",
       "      <th>course_21</th>\n",
       "      <th>course_22</th>\n",
       "      <th>course_23</th>\n",
       "      <th>course_24</th>\n",
       "      <th>course_25</th>\n",
       "      <th>course_26</th>\n",
       "      <th>period_1</th>\n",
       "      <th>period_2</th>\n",
       "    </tr>\n",
       "  </thead>\n",
       "  <tbody>\n",
       "    <tr>\n",
       "      <th>0</th>\n",
       "      <td>19</td>\n",
       "      <td>1</td>\n",
       "      <td>0</td>\n",
       "      <td>0</td>\n",
       "      <td>0</td>\n",
       "      <td>0</td>\n",
       "      <td>0</td>\n",
       "      <td>0</td>\n",
       "      <td>0</td>\n",
       "      <td>0</td>\n",
       "      <td>...</td>\n",
       "      <td>0</td>\n",
       "      <td>0</td>\n",
       "      <td>0</td>\n",
       "      <td>0</td>\n",
       "      <td>0</td>\n",
       "      <td>0</td>\n",
       "      <td>0</td>\n",
       "      <td>0</td>\n",
       "      <td>1</td>\n",
       "      <td>0</td>\n",
       "    </tr>\n",
       "    <tr>\n",
       "      <th>1</th>\n",
       "      <td>17</td>\n",
       "      <td>0</td>\n",
       "      <td>1</td>\n",
       "      <td>0</td>\n",
       "      <td>0</td>\n",
       "      <td>0</td>\n",
       "      <td>0</td>\n",
       "      <td>0</td>\n",
       "      <td>0</td>\n",
       "      <td>0</td>\n",
       "      <td>...</td>\n",
       "      <td>0</td>\n",
       "      <td>0</td>\n",
       "      <td>0</td>\n",
       "      <td>0</td>\n",
       "      <td>0</td>\n",
       "      <td>0</td>\n",
       "      <td>0</td>\n",
       "      <td>0</td>\n",
       "      <td>1</td>\n",
       "      <td>0</td>\n",
       "    </tr>\n",
       "    <tr>\n",
       "      <th>2</th>\n",
       "      <td>49</td>\n",
       "      <td>1</td>\n",
       "      <td>0</td>\n",
       "      <td>0</td>\n",
       "      <td>0</td>\n",
       "      <td>0</td>\n",
       "      <td>0</td>\n",
       "      <td>0</td>\n",
       "      <td>0</td>\n",
       "      <td>0</td>\n",
       "      <td>...</td>\n",
       "      <td>0</td>\n",
       "      <td>0</td>\n",
       "      <td>0</td>\n",
       "      <td>0</td>\n",
       "      <td>0</td>\n",
       "      <td>0</td>\n",
       "      <td>0</td>\n",
       "      <td>0</td>\n",
       "      <td>0</td>\n",
       "      <td>1</td>\n",
       "    </tr>\n",
       "    <tr>\n",
       "      <th>3</th>\n",
       "      <td>33</td>\n",
       "      <td>1</td>\n",
       "      <td>0</td>\n",
       "      <td>0</td>\n",
       "      <td>0</td>\n",
       "      <td>0</td>\n",
       "      <td>0</td>\n",
       "      <td>1</td>\n",
       "      <td>0</td>\n",
       "      <td>0</td>\n",
       "      <td>...</td>\n",
       "      <td>0</td>\n",
       "      <td>0</td>\n",
       "      <td>0</td>\n",
       "      <td>0</td>\n",
       "      <td>0</td>\n",
       "      <td>0</td>\n",
       "      <td>0</td>\n",
       "      <td>0</td>\n",
       "      <td>0</td>\n",
       "      <td>1</td>\n",
       "    </tr>\n",
       "    <tr>\n",
       "      <th>4</th>\n",
       "      <td>55</td>\n",
       "      <td>0</td>\n",
       "      <td>1</td>\n",
       "      <td>0</td>\n",
       "      <td>0</td>\n",
       "      <td>0</td>\n",
       "      <td>0</td>\n",
       "      <td>0</td>\n",
       "      <td>0</td>\n",
       "      <td>1</td>\n",
       "      <td>...</td>\n",
       "      <td>0</td>\n",
       "      <td>0</td>\n",
       "      <td>0</td>\n",
       "      <td>0</td>\n",
       "      <td>0</td>\n",
       "      <td>0</td>\n",
       "      <td>0</td>\n",
       "      <td>0</td>\n",
       "      <td>0</td>\n",
       "      <td>1</td>\n",
       "    </tr>\n",
       "  </tbody>\n",
       "</table>\n",
       "<p>5 rows × 56 columns</p>\n",
       "</div>"
      ],
      "text/plain": [
       "   size  english_1  english_2  instructor_1  instructor_2  instructor_3  \\\n",
       "0    19          1          0             0             0             0   \n",
       "1    17          0          1             0             0             0   \n",
       "2    49          1          0             0             0             0   \n",
       "3    33          1          0             0             0             0   \n",
       "4    55          0          1             0             0             0   \n",
       "\n",
       "   instructor_4  instructor_5  instructor_6  instructor_7  ...  course_19  \\\n",
       "0             0             0             0             0  ...          0   \n",
       "1             0             0             0             0  ...          0   \n",
       "2             0             0             0             0  ...          0   \n",
       "3             0             1             0             0  ...          0   \n",
       "4             0             0             0             1  ...          0   \n",
       "\n",
       "   course_20  course_21  course_22  course_23  course_24  course_25  \\\n",
       "0          0          0          0          0          0          0   \n",
       "1          0          0          0          0          0          0   \n",
       "2          0          0          0          0          0          0   \n",
       "3          0          0          0          0          0          0   \n",
       "4          0          0          0          0          0          0   \n",
       "\n",
       "   course_26  period_1  period_2  \n",
       "0          0         1         0  \n",
       "1          0         1         0  \n",
       "2          0         0         1  \n",
       "3          0         0         1  \n",
       "4          0         0         1  \n",
       "\n",
       "[5 rows x 56 columns]"
      ]
     },
     "execution_count": 7,
     "metadata": {},
     "output_type": "execute_result"
    }
   ],
   "source": [
    "taXOH = pd.get_dummies(taX,columns=['english','instructor','course','period'])\n",
    "taXOH.head()"
   ]
  },
  {
   "cell_type": "markdown",
   "metadata": {
    "slideshow": {
     "slide_type": "slide"
    }
   },
   "source": [
    "### 分割训练集与检验集"
   ]
  },
  {
   "cell_type": "code",
   "execution_count": 8,
   "metadata": {
    "slideshow": {
     "slide_type": "fragment"
    }
   },
   "outputs": [],
   "source": [
    "from sklearn.model_selection import train_test_split"
   ]
  },
  {
   "cell_type": "code",
   "execution_count": 9,
   "metadata": {
    "slideshow": {
     "slide_type": "fragment"
    }
   },
   "outputs": [],
   "source": [
    "taTrainX,taTestX,taTrainY,taTestY = train_test_split(taXOH,taY,test_size=0.25,random_state=10, stratify=taY)"
   ]
  },
  {
   "cell_type": "markdown",
   "metadata": {
    "slideshow": {
     "slide_type": "fragment"
    }
   },
   "source": [
    "- `stratify`：`None`或数组，如果是数组，表明按照类别分层抽样组成训练集和检验集，使得训练集和检验集中的类别的比例与原始数据集的类别比例近似相等"
   ]
  },
  {
   "cell_type": "code",
   "execution_count": 10,
   "metadata": {
    "slideshow": {
     "slide_type": "fragment"
    }
   },
   "outputs": [
    {
     "data": {
      "text/plain": [
       "3    0.345133\n",
       "2    0.327434\n",
       "1    0.327434\n",
       "Name: label, dtype: float64"
      ]
     },
     "execution_count": 10,
     "metadata": {},
     "output_type": "execute_result"
    },
    {
     "data": {
      "text/plain": [
       "3    0.342105\n",
       "2    0.342105\n",
       "1    0.315789\n",
       "Name: label, dtype: float64"
      ]
     },
     "execution_count": 10,
     "metadata": {},
     "output_type": "execute_result"
    },
    {
     "data": {
      "text/plain": [
       "3    0.344371\n",
       "2    0.331126\n",
       "1    0.324503\n",
       "Name: label, dtype: float64"
      ]
     },
     "execution_count": 10,
     "metadata": {},
     "output_type": "execute_result"
    }
   ],
   "source": [
    "taTrainY.value_counts(normalize=True)      #训练集的类别比例\n",
    "taTestY.value_counts(normalize=True)      #检验集的类别比例\n",
    "taY.value_counts(normalize=True)          #原始数据的类别比例"
   ]
  },
  {
   "cell_type": "markdown",
   "metadata": {
    "slideshow": {
     "slide_type": "slide"
    }
   },
   "source": [
    "### 建立神经网络模型"
   ]
  },
  {
   "cell_type": "code",
   "execution_count": 11,
   "metadata": {
    "slideshow": {
     "slide_type": "fragment"
    }
   },
   "outputs": [],
   "source": [
    "from sklearn.neural_network import MLPClassifier"
   ]
  },
  {
   "cell_type": "markdown",
   "metadata": {
    "slideshow": {
     "slide_type": "fragment"
    }
   },
   "source": [
    "- 输入层神经元数量：56\n",
    "    + `one-hot`编码后的预测属性的数量"
   ]
  },
  {
   "cell_type": "markdown",
   "metadata": {
    "slideshow": {
     "slide_type": "fragment"
    }
   },
   "source": [
    "- 输出层神经元数量：3\n",
    "    + 评估类别的数量"
   ]
  },
  {
   "cell_type": "markdown",
   "metadata": {
    "slideshow": {
     "slide_type": "fragment"
    }
   },
   "source": [
    "- 隐藏层神经元数量：13"
   ]
  },
  {
   "cell_type": "code",
   "execution_count": 12,
   "metadata": {
    "slideshow": {
     "slide_type": "fragment"
    }
   },
   "outputs": [
    {
     "data": {
      "text/plain": [
       "12.96148139681572"
      ]
     },
     "execution_count": 12,
     "metadata": {},
     "output_type": "execute_result"
    }
   ],
   "source": [
    "np.sqrt(56*3)"
   ]
  },
  {
   "cell_type": "code",
   "execution_count": 13,
   "metadata": {
    "slideshow": {
     "slide_type": "fragment"
    }
   },
   "outputs": [],
   "source": [
    "taAnn = MLPClassifier(hidden_layer_sizes=(13,),solver='lbfgs',activation='relu',learning_rate='constant',max_iter=3000,random_state=12)"
   ]
  },
  {
   "cell_type": "markdown",
   "metadata": {
    "slideshow": {
     "slide_type": "slide"
    }
   },
   "source": [
    "### 训练神经网络模型"
   ]
  },
  {
   "cell_type": "markdown",
   "metadata": {
    "slideshow": {
     "slide_type": "fragment"
    }
   },
   "source": [
    "#### 管道（`pipeline`）命令"
   ]
  },
  {
   "cell_type": "markdown",
   "metadata": {
    "slideshow": {
     "slide_type": "fragment"
    }
   },
   "source": [
    "- 很多数据挖掘算法都会牵涉到多个步骤：标准化属性、建立模型、训练模型\n",
    "- 可以用`pipeline`把这些步骤串联起来，训练的时候数据会依次经过每个步骤"
   ]
  },
  {
   "cell_type": "markdown",
   "metadata": {
    "slideshow": {
     "slide_type": "fragment"
    }
   },
   "source": [
    "<center><img src=\"./img/classificationSupplement/pipeline.png\" width=50%></center>"
   ]
  },
  {
   "cell_type": "markdown",
   "metadata": {
    "slideshow": {
     "slide_type": "fragment"
    }
   },
   "source": [
    "```python\n",
    "from sklearn.pipeline import Pipeline\n",
    "Pipeline(steps)\n",
    "```\n",
    "- `steps`：变换阶段构成的**列表**，每个变换阶段用一个**元组**表示：`(变换阶段名称,变换函数)`\n",
    "    + 例如，`[('scl',StandardScaler()),('ann',MLPClassifier())]`"
   ]
  },
  {
   "cell_type": "code",
   "execution_count": 24,
   "metadata": {
    "slideshow": {
     "slide_type": "fragment"
    }
   },
   "outputs": [],
   "source": [
    "from sklearn.preprocessing import StandardScaler\n",
    "from sklearn.pipeline import Pipeline"
   ]
  },
  {
   "cell_type": "code",
   "execution_count": 25,
   "metadata": {
    "slideshow": {
     "slide_type": "fragment"
    }
   },
   "outputs": [],
   "source": [
    "pipeAnn = Pipeline([\n",
    "    ('scl',StandardScaler()),\n",
    "    ('ann', taAnn)\n",
    "])"
   ]
  },
  {
   "cell_type": "markdown",
   "metadata": {
    "slideshow": {
     "slide_type": "slide"
    }
   },
   "source": [
    "#### 交叉验证"
   ]
  },
  {
   "cell_type": "code",
   "execution_count": 26,
   "metadata": {
    "slideshow": {
     "slide_type": "fragment"
    }
   },
   "outputs": [],
   "source": [
    "from sklearn.model_selection import cross_val_score"
   ]
  },
  {
   "cell_type": "code",
   "execution_count": 27,
   "metadata": {
    "slideshow": {
     "slide_type": "fragment"
    }
   },
   "outputs": [
    {
     "name": "stdout",
     "output_type": "stream",
     "text": [
      "初始建立的神经网络模型预测的平均准确率是0.5750，标准差是0.1354\n"
     ]
    }
   ],
   "source": [
    "taRes = cross_val_score(pipeAnn,taTrainX,taTrainY,scoring='accuracy',cv=10,n_jobs=-1)\n",
    "print(f'初始建立的神经网络模型预测的平均准确率是{taRes.mean():.4f}，标准差是{taRes.std():.4f}')"
   ]
  },
  {
   "cell_type": "markdown",
   "metadata": {
    "slideshow": {
     "slide_type": "slide"
    }
   },
   "source": [
    "### 搜索最优参数"
   ]
  },
  {
   "cell_type": "markdown",
   "metadata": {
    "slideshow": {
     "slide_type": "fragment"
    }
   },
   "source": [
    "- 每个模型都有若干个参数需要设置，但是事先我们并不知道如何设置参数最好"
   ]
  },
  {
   "cell_type": "markdown",
   "metadata": {
    "slideshow": {
     "slide_type": "fragment"
    }
   },
   "source": [
    "- 一种朴素的想法是尝试所有参数的**组合**，从中选出最优的参数组合"
   ]
  },
  {
   "cell_type": "markdown",
   "metadata": {
    "slideshow": {
     "slide_type": "fragment"
    }
   },
   "source": [
    "- 网格(grid)搜索可以实现这样的目的"
   ]
  },
  {
   "cell_type": "markdown",
   "metadata": {
    "slideshow": {
     "slide_type": "fragment"
    }
   },
   "source": [
    "<center><img src=\"./img/classificationSupplement/grid_search.jpg\" width=30%></center>"
   ]
  },
  {
   "cell_type": "markdown",
   "metadata": {
    "slideshow": {
     "slide_type": "fragment"
    }
   },
   "source": [
    "```python\n",
    "from sklearn.model_selection import GridSearchCV\n",
    "GridSearchCV(estimator, param_grid, scoring=None, n_jobs=None, cv=None)\n",
    "```"
   ]
  },
  {
   "cell_type": "markdown",
   "metadata": {
    "slideshow": {
     "slide_type": "fragment"
    }
   },
   "source": [
    "- `estimator`：带估计的模型，可以是用`pipeline`构成的模型\n",
    "- `param_grid`：模型参数的可选范围，字典结构，字典的键（key）是参数名称，字典的值（value）是该参数的取值范围\n",
    "    + 如果是待估计模型是`pipeline`构成的，那么字典的键应该`变换阶段名称__参数名称`"
   ]
  },
  {
   "cell_type": "code",
   "execution_count": 28,
   "metadata": {
    "slideshow": {
     "slide_type": "slide"
    }
   },
   "outputs": [],
   "source": [
    "from sklearn.model_selection import GridSearchCV"
   ]
  },
  {
   "cell_type": "code",
   "execution_count": 29,
   "metadata": {
    "slideshow": {
     "slide_type": "fragment"
    }
   },
   "outputs": [],
   "source": [
    "taAnnParams = {\n",
    "    'ann__hidden_layer_sizes':range(13,56),\n",
    "    'ann__activation':['relu','logistic','tanh'],\n",
    "    'ann__learning_rate':['constant','invscaling'],\n",
    "}"
   ]
  },
  {
   "cell_type": "code",
   "execution_count": 30,
   "metadata": {
    "slideshow": {
     "slide_type": "fragment"
    }
   },
   "outputs": [],
   "source": [
    "taAnnGs = GridSearchCV(pipeAnn,param_grid=taAnnParams,cv=10,n_jobs=-1)"
   ]
  },
  {
   "cell_type": "code",
   "execution_count": 31,
   "metadata": {
    "slideshow": {
     "slide_type": "fragment"
    }
   },
   "outputs": [
    {
     "name": "stdout",
     "output_type": "stream",
     "text": [
      "CPU times: user 11.8 s, sys: 268 ms, total: 12.1 s\n",
      "Wall time: 15min 49s\n"
     ]
    },
    {
     "data": {
      "text/plain": [
       "GridSearchCV(cv=10, error_score=nan,\n",
       "             estimator=Pipeline(memory=None,\n",
       "                                steps=[('scl',\n",
       "                                        StandardScaler(copy=True,\n",
       "                                                       with_mean=True,\n",
       "                                                       with_std=True)),\n",
       "                                       ('ann',\n",
       "                                        MLPClassifier(activation='relu',\n",
       "                                                      alpha=0.0001,\n",
       "                                                      batch_size='auto',\n",
       "                                                      beta_1=0.9, beta_2=0.999,\n",
       "                                                      early_stopping=False,\n",
       "                                                      epsilon=1e-08,\n",
       "                                                      hidden_layer_sizes=(13,),\n",
       "                                                      learning_rate='constant',\n",
       "                                                      learning_rate_init=0.001,\n",
       "                                                      max_fun=15...\n",
       "                                                      solver='lbfgs',\n",
       "                                                      tol=0.0001,\n",
       "                                                      validation_fraction=0.1,\n",
       "                                                      verbose=False,\n",
       "                                                      warm_start=False))],\n",
       "                                verbose=False),\n",
       "             iid='deprecated', n_jobs=-1,\n",
       "             param_grid={'ann__activation': ['relu', 'logistic', 'tanh'],\n",
       "                         'ann__hidden_layer_sizes': range(13, 56),\n",
       "                         'ann__learning_rate': ['constant', 'invscaling']},\n",
       "             pre_dispatch='2*n_jobs', refit=True, return_train_score=False,\n",
       "             scoring=None, verbose=0)"
      ]
     },
     "execution_count": 31,
     "metadata": {},
     "output_type": "execute_result"
    }
   ],
   "source": [
    "%%time\n",
    "taAnnGs.fit(taTrainX,taTrainY)"
   ]
  },
  {
   "cell_type": "markdown",
   "metadata": {
    "slideshow": {
     "slide_type": "slide"
    }
   },
   "source": [
    "#### 网格搜索的常用属性"
   ]
  },
  {
   "cell_type": "markdown",
   "metadata": {
    "slideshow": {
     "slide_type": "fragment"
    }
   },
   "source": [
    "- `best_params_`：最优参数组合"
   ]
  },
  {
   "cell_type": "code",
   "execution_count": 32,
   "metadata": {
    "slideshow": {
     "slide_type": "fragment"
    }
   },
   "outputs": [
    {
     "data": {
      "text/plain": [
       "{'ann__activation': 'logistic',\n",
       " 'ann__hidden_layer_sizes': 33,\n",
       " 'ann__learning_rate': 'constant'}"
      ]
     },
     "execution_count": 32,
     "metadata": {},
     "output_type": "execute_result"
    }
   ],
   "source": [
    "taAnnGs.best_params_"
   ]
  },
  {
   "cell_type": "markdown",
   "metadata": {
    "slideshow": {
     "slide_type": "fragment"
    }
   },
   "source": [
    "- `best_score_`：最优的性能指标"
   ]
  },
  {
   "cell_type": "code",
   "execution_count": 33,
   "metadata": {
    "slideshow": {
     "slide_type": "fragment"
    }
   },
   "outputs": [
    {
     "data": {
      "text/plain": [
       "0.6886363636363636"
      ]
     },
     "execution_count": 33,
     "metadata": {},
     "output_type": "execute_result"
    }
   ],
   "source": [
    "taAnnGs.best_score_"
   ]
  },
  {
   "cell_type": "markdown",
   "metadata": {
    "slideshow": {
     "slide_type": "fragment"
    }
   },
   "source": [
    "- `best_estimator_`：训练的最优模型"
   ]
  },
  {
   "cell_type": "code",
   "execution_count": 34,
   "metadata": {
    "slideshow": {
     "slide_type": "fragment"
    }
   },
   "outputs": [
    {
     "data": {
      "text/plain": [
       "Pipeline(memory=None,\n",
       "         steps=[('scl',\n",
       "                 StandardScaler(copy=True, with_mean=True, with_std=True)),\n",
       "                ('ann',\n",
       "                 MLPClassifier(activation='logistic', alpha=0.0001,\n",
       "                               batch_size='auto', beta_1=0.9, beta_2=0.999,\n",
       "                               early_stopping=False, epsilon=1e-08,\n",
       "                               hidden_layer_sizes=33, learning_rate='constant',\n",
       "                               learning_rate_init=0.001, max_fun=15000,\n",
       "                               max_iter=3000, momentum=0.9, n_iter_no_change=10,\n",
       "                               nesterovs_momentum=True, power_t=0.5,\n",
       "                               random_state=12, shuffle=True, solver='lbfgs',\n",
       "                               tol=0.0001, validation_fraction=0.1,\n",
       "                               verbose=False, warm_start=False))],\n",
       "         verbose=False)"
      ]
     },
     "execution_count": 34,
     "metadata": {},
     "output_type": "execute_result"
    }
   ],
   "source": [
    "taAnnOptimal = taAnnGs.best_estimator_\n",
    "taAnnOptimal"
   ]
  },
  {
   "cell_type": "markdown",
   "metadata": {
    "slideshow": {
     "slide_type": "slide"
    }
   },
   "source": [
    "#### 在完整训练集上重新训练并在检验集上检验"
   ]
  },
  {
   "cell_type": "code",
   "execution_count": 35,
   "metadata": {
    "slideshow": {
     "slide_type": "fragment"
    }
   },
   "outputs": [
    {
     "data": {
      "text/plain": [
       "Pipeline(memory=None,\n",
       "         steps=[('scl',\n",
       "                 StandardScaler(copy=True, with_mean=True, with_std=True)),\n",
       "                ('ann',\n",
       "                 MLPClassifier(activation='logistic', alpha=0.0001,\n",
       "                               batch_size='auto', beta_1=0.9, beta_2=0.999,\n",
       "                               early_stopping=False, epsilon=1e-08,\n",
       "                               hidden_layer_sizes=33, learning_rate='constant',\n",
       "                               learning_rate_init=0.001, max_fun=15000,\n",
       "                               max_iter=3000, momentum=0.9, n_iter_no_change=10,\n",
       "                               nesterovs_momentum=True, power_t=0.5,\n",
       "                               random_state=12, shuffle=True, solver='lbfgs',\n",
       "                               tol=0.0001, validation_fraction=0.1,\n",
       "                               verbose=False, warm_start=False))],\n",
       "         verbose=False)"
      ]
     },
     "execution_count": 35,
     "metadata": {},
     "output_type": "execute_result"
    }
   ],
   "source": [
    "taAnnOptimal.fit(taTrainX,taTrainY)"
   ]
  },
  {
   "cell_type": "markdown",
   "metadata": {
    "slideshow": {
     "slide_type": "fragment"
    }
   },
   "source": [
    "##### 检验分类准确率"
   ]
  },
  {
   "cell_type": "code",
   "execution_count": 36,
   "metadata": {
    "slideshow": {
     "slide_type": "fragment"
    }
   },
   "outputs": [],
   "source": [
    "from sklearn import metrics"
   ]
  },
  {
   "cell_type": "code",
   "execution_count": 37,
   "metadata": {
    "slideshow": {
     "slide_type": "fragment"
    }
   },
   "outputs": [
    {
     "name": "stdout",
     "output_type": "stream",
     "text": [
      "筛选的神经网络模型在完整训练集上的准确率是0.9735\n"
     ]
    }
   ],
   "source": [
    "print(f'筛选的神经网络模型在完整训练集上的准确率是{metrics.accuracy_score(taTrainY,taAnnOptimal.predict(taTrainX)):.4f}')"
   ]
  },
  {
   "cell_type": "code",
   "execution_count": 38,
   "metadata": {
    "slideshow": {
     "slide_type": "fragment"
    }
   },
   "outputs": [
    {
     "name": "stdout",
     "output_type": "stream",
     "text": [
      "筛选的神经网络模型在检验集上的准确率是0.6053\n"
     ]
    }
   ],
   "source": [
    "print(f'筛选的神经网络模型在检验集上的准确率是{metrics.accuracy_score(taTestY,taAnnOptimal.predict(taTestX)):.4f}')"
   ]
  },
  {
   "cell_type": "markdown",
   "metadata": {
    "slideshow": {
     "slide_type": "slide"
    }
   },
   "source": [
    "### 建立决策树模型"
   ]
  },
  {
   "cell_type": "code",
   "execution_count": 39,
   "metadata": {
    "slideshow": {
     "slide_type": "fragment"
    }
   },
   "outputs": [],
   "source": [
    "from sklearn import tree"
   ]
  },
  {
   "cell_type": "code",
   "execution_count": 40,
   "metadata": {
    "slideshow": {
     "slide_type": "fragment"
    }
   },
   "outputs": [],
   "source": [
    "taDt = tree.DecisionTreeClassifier(ccp_alpha=0.035,random_state=10)"
   ]
  },
  {
   "cell_type": "markdown",
   "metadata": {
    "slideshow": {
     "slide_type": "fragment"
    }
   },
   "source": [
    "#### 获得后剪枝`ccp_alpha`值列表"
   ]
  },
  {
   "cell_type": "code",
   "execution_count": 41,
   "metadata": {
    "slideshow": {
     "slide_type": "fragment"
    }
   },
   "outputs": [],
   "source": [
    "taCcpPath = taDt.cost_complexity_pruning_path(taTrainX,taTrainY)\n",
    "taAlphas = taCcpPath['ccp_alphas']"
   ]
  },
  {
   "cell_type": "markdown",
   "metadata": {
    "slideshow": {
     "slide_type": "slide"
    }
   },
   "source": [
    "#### 网格搜索最优`ccp_alpha`"
   ]
  },
  {
   "cell_type": "code",
   "execution_count": 42,
   "metadata": {
    "slideshow": {
     "slide_type": "fragment"
    }
   },
   "outputs": [],
   "source": [
    "taDtGs = GridSearchCV(estimator=taDt,param_grid={'ccp_alpha':taAlphas[:-1]},scoring='accuracy',cv=10,n_jobs=-1)"
   ]
  },
  {
   "cell_type": "code",
   "execution_count": 43,
   "metadata": {
    "slideshow": {
     "slide_type": "fragment"
    }
   },
   "outputs": [
    {
     "name": "stdout",
     "output_type": "stream",
     "text": [
      "CPU times: user 324 ms, sys: 16 ms, total: 340 ms\n",
      "Wall time: 970 ms\n"
     ]
    },
    {
     "data": {
      "text/plain": [
       "GridSearchCV(cv=10, error_score=nan,\n",
       "             estimator=DecisionTreeClassifier(ccp_alpha=0.035,\n",
       "                                              class_weight=None,\n",
       "                                              criterion='gini', max_depth=None,\n",
       "                                              max_features=None,\n",
       "                                              max_leaf_nodes=None,\n",
       "                                              min_impurity_decrease=0.0,\n",
       "                                              min_impurity_split=None,\n",
       "                                              min_samples_leaf=1,\n",
       "                                              min_samples_split=2,\n",
       "                                              min_weight_fraction_leaf=0.0,\n",
       "                                              presort='deprecated',\n",
       "                                              random_state=10,\n",
       "                                              splitter='best'),\n",
       "             iid='d...\n",
       "             param_grid={'ccp_alpha': array([0.        , 0.00255654, 0.00294985, 0.00393314, 0.00505689,\n",
       "       0.00821745, 0.00884956, 0.01061947, 0.01061947, 0.01144185,\n",
       "       0.01179941, 0.01179941, 0.01300617, 0.01327434, 0.01327434,\n",
       "       0.01348504, 0.01359039, 0.01395602, 0.0142054 , 0.01591893,\n",
       "       0.01806785, 0.02000158, 0.02437759, 0.02654867])},\n",
       "             pre_dispatch='2*n_jobs', refit=True, return_train_score=False,\n",
       "             scoring='accuracy', verbose=0)"
      ]
     },
     "execution_count": 43,
     "metadata": {},
     "output_type": "execute_result"
    }
   ],
   "source": [
    "%%time\n",
    "taDtGs.fit(taTrainX,taTrainY)"
   ]
  },
  {
   "cell_type": "code",
   "execution_count": 44,
   "metadata": {
    "slideshow": {
     "slide_type": "fragment"
    }
   },
   "outputs": [
    {
     "data": {
      "text/plain": [
       "{'ccp_alpha': 0.005056890012642226}"
      ]
     },
     "execution_count": 44,
     "metadata": {},
     "output_type": "execute_result"
    }
   ],
   "source": [
    "taDtGs.best_params_"
   ]
  },
  {
   "cell_type": "code",
   "execution_count": 45,
   "metadata": {
    "slideshow": {
     "slide_type": "fragment"
    }
   },
   "outputs": [
    {
     "data": {
      "text/plain": [
       "0.6007575757575758"
      ]
     },
     "execution_count": 45,
     "metadata": {},
     "output_type": "execute_result"
    }
   ],
   "source": [
    "taDtGs.best_score_"
   ]
  },
  {
   "cell_type": "code",
   "execution_count": 46,
   "metadata": {
    "slideshow": {
     "slide_type": "fragment"
    }
   },
   "outputs": [],
   "source": [
    "taDtOptimal = taDtGs.best_estimator_"
   ]
  },
  {
   "cell_type": "markdown",
   "metadata": {
    "slideshow": {
     "slide_type": "slide"
    }
   },
   "source": [
    "#### 可视化决策规则"
   ]
  },
  {
   "cell_type": "code",
   "execution_count": 47,
   "metadata": {
    "slideshow": {
     "slide_type": "fragment"
    }
   },
   "outputs": [],
   "source": [
    "from graphviz import Source"
   ]
  },
  {
   "cell_type": "code",
   "execution_count": 48,
   "metadata": {
    "slideshow": {
     "slide_type": "fragment"
    }
   },
   "outputs": [
    {
     "data": {
      "text/plain": [
       "array([1, 2, 3])"
      ]
     },
     "execution_count": 48,
     "metadata": {},
     "output_type": "execute_result"
    },
    {
     "data": {
      "image/svg+xml": [
       "<?xml version=\"1.0\" encoding=\"UTF-8\" standalone=\"no\"?>\n",
       "<!DOCTYPE svg PUBLIC \"-//W3C//DTD SVG 1.1//EN\"\n",
       " \"http://www.w3.org/Graphics/SVG/1.1/DTD/svg11.dtd\">\n",
       "<!-- Generated by graphviz version 2.38.0 (20140413.2041)\n",
       " -->\n",
       "<!-- Title: Tree Pages: 1 -->\n",
       "<svg width=\"2186pt\" height=\"2218pt\"\n",
       " viewBox=\"0.00 0.00 2185.50 2218.00\" xmlns=\"http://www.w3.org/2000/svg\" xmlns:xlink=\"http://www.w3.org/1999/xlink\">\n",
       "<g id=\"graph0\" class=\"graph\" transform=\"scale(1 1) rotate(0) translate(4 2214)\">\n",
       "<title>Tree</title>\n",
       "<polygon fill=\"white\" stroke=\"none\" points=\"-4,4 -4,-2214 2181.5,-2214 2181.5,4 -4,4\"/>\n",
       "<!-- 0 -->\n",
       "<g id=\"node1\" class=\"node\"><title>0</title>\n",
       "<polygon fill=\"#fcfafe\" stroke=\"black\" points=\"1738.5,-2210 1612.5,-2210 1612.5,-2127 1738.5,-2127 1738.5,-2210\"/>\n",
       "<text text-anchor=\"middle\" x=\"1675.5\" y=\"-2194.8\" font-family=\"Times,serif\" font-size=\"14.00\">period_1 &lt;= 0.5</text>\n",
       "<text text-anchor=\"middle\" x=\"1675.5\" y=\"-2179.8\" font-family=\"Times,serif\" font-size=\"14.00\">gini = 0.666</text>\n",
       "<text text-anchor=\"middle\" x=\"1675.5\" y=\"-2164.8\" font-family=\"Times,serif\" font-size=\"14.00\">samples = 113</text>\n",
       "<text text-anchor=\"middle\" x=\"1675.5\" y=\"-2149.8\" font-family=\"Times,serif\" font-size=\"14.00\">value = [37, 37, 39]</text>\n",
       "<text text-anchor=\"middle\" x=\"1675.5\" y=\"-2134.8\" font-family=\"Times,serif\" font-size=\"14.00\">class = 好</text>\n",
       "</g>\n",
       "<!-- 1 -->\n",
       "<g id=\"node2\" class=\"node\"><title>1</title>\n",
       "<polygon fill=\"#fefbf8\" stroke=\"black\" points=\"1609.5,-2091 1483.5,-2091 1483.5,-2008 1609.5,-2008 1609.5,-2091\"/>\n",
       "<text text-anchor=\"middle\" x=\"1546.5\" y=\"-2075.8\" font-family=\"Times,serif\" font-size=\"14.00\">english_2 &lt;= 0.5</text>\n",
       "<text text-anchor=\"middle\" x=\"1546.5\" y=\"-2060.8\" font-family=\"Times,serif\" font-size=\"14.00\">gini = 0.66</text>\n",
       "<text text-anchor=\"middle\" x=\"1546.5\" y=\"-2045.8\" font-family=\"Times,serif\" font-size=\"14.00\">samples = 93</text>\n",
       "<text text-anchor=\"middle\" x=\"1546.5\" y=\"-2030.8\" font-family=\"Times,serif\" font-size=\"14.00\">value = [35, 33, 25]</text>\n",
       "<text text-anchor=\"middle\" x=\"1546.5\" y=\"-2015.8\" font-family=\"Times,serif\" font-size=\"14.00\">class = 差</text>\n",
       "</g>\n",
       "<!-- 0&#45;&gt;1 -->\n",
       "<g id=\"edge1\" class=\"edge\"><title>0&#45;&gt;1</title>\n",
       "<path fill=\"none\" stroke=\"black\" d=\"M1630.74,-2126.91C1620.44,-2117.56 1609.39,-2107.54 1598.79,-2097.93\"/>\n",
       "<polygon fill=\"black\" stroke=\"black\" points=\"1600.94,-2095.15 1591.18,-2091.02 1596.23,-2100.33 1600.94,-2095.15\"/>\n",
       "<text text-anchor=\"middle\" x=\"1592.39\" y=\"-2112.29\" font-family=\"Times,serif\" font-size=\"14.00\">True</text>\n",
       "</g>\n",
       "<!-- 70 -->\n",
       "<g id=\"node71\" class=\"node\"><title>70</title>\n",
       "<polygon fill=\"#b083ef\" stroke=\"black\" points=\"1862,-2091 1749,-2091 1749,-2008 1862,-2008 1862,-2091\"/>\n",
       "<text text-anchor=\"middle\" x=\"1805.5\" y=\"-2075.8\" font-family=\"Times,serif\" font-size=\"14.00\">size &lt;= 15.0</text>\n",
       "<text text-anchor=\"middle\" x=\"1805.5\" y=\"-2060.8\" font-family=\"Times,serif\" font-size=\"14.00\">gini = 0.46</text>\n",
       "<text text-anchor=\"middle\" x=\"1805.5\" y=\"-2045.8\" font-family=\"Times,serif\" font-size=\"14.00\">samples = 20</text>\n",
       "<text text-anchor=\"middle\" x=\"1805.5\" y=\"-2030.8\" font-family=\"Times,serif\" font-size=\"14.00\">value = [2, 4, 14]</text>\n",
       "<text text-anchor=\"middle\" x=\"1805.5\" y=\"-2015.8\" font-family=\"Times,serif\" font-size=\"14.00\">class = 好</text>\n",
       "</g>\n",
       "<!-- 0&#45;&gt;70 -->\n",
       "<g id=\"edge70\" class=\"edge\"><title>0&#45;&gt;70</title>\n",
       "<path fill=\"none\" stroke=\"black\" d=\"M1720.6,-2126.91C1730.99,-2117.56 1742.12,-2107.54 1752.8,-2097.93\"/>\n",
       "<polygon fill=\"black\" stroke=\"black\" points=\"1755.39,-2100.31 1760.48,-2091.02 1750.7,-2095.11 1755.39,-2100.31\"/>\n",
       "<text text-anchor=\"middle\" x=\"1759.16\" y=\"-2112.29\" font-family=\"Times,serif\" font-size=\"14.00\">False</text>\n",
       "</g>\n",
       "<!-- 2 -->\n",
       "<g id=\"node3\" class=\"node\"><title>2</title>\n",
       "<polygon fill=\"#caacf4\" stroke=\"black\" points=\"1341.5,-1972 1235.5,-1972 1235.5,-1889 1341.5,-1889 1341.5,-1972\"/>\n",
       "<text text-anchor=\"middle\" x=\"1288.5\" y=\"-1956.8\" font-family=\"Times,serif\" font-size=\"14.00\">size &lt;= 28.0</text>\n",
       "<text text-anchor=\"middle\" x=\"1288.5\" y=\"-1941.8\" font-family=\"Times,serif\" font-size=\"14.00\">gini = 0.586</text>\n",
       "<text text-anchor=\"middle\" x=\"1288.5\" y=\"-1926.8\" font-family=\"Times,serif\" font-size=\"14.00\">samples = 16</text>\n",
       "<text text-anchor=\"middle\" x=\"1288.5\" y=\"-1911.8\" font-family=\"Times,serif\" font-size=\"14.00\">value = [3, 4, 9]</text>\n",
       "<text text-anchor=\"middle\" x=\"1288.5\" y=\"-1896.8\" font-family=\"Times,serif\" font-size=\"14.00\">class = 好</text>\n",
       "</g>\n",
       "<!-- 1&#45;&gt;2 -->\n",
       "<g id=\"edge2\" class=\"edge\"><title>1&#45;&gt;2</title>\n",
       "<path fill=\"none\" stroke=\"black\" d=\"M1483.39,-2019.88C1443.11,-2001.61 1391.13,-1978.04 1350.98,-1959.83\"/>\n",
       "<polygon fill=\"black\" stroke=\"black\" points=\"1352.37,-1956.62 1341.82,-1955.68 1349.48,-1963 1352.37,-1956.62\"/>\n",
       "</g>\n",
       "<!-- 13 -->\n",
       "<g id=\"node14\" class=\"node\"><title>13</title>\n",
       "<polygon fill=\"#fdf7f3\" stroke=\"black\" points=\"1609.5,-1972 1483.5,-1972 1483.5,-1889 1609.5,-1889 1609.5,-1972\"/>\n",
       "<text text-anchor=\"middle\" x=\"1546.5\" y=\"-1956.8\" font-family=\"Times,serif\" font-size=\"14.00\">course_22 &lt;= 0.5</text>\n",
       "<text text-anchor=\"middle\" x=\"1546.5\" y=\"-1941.8\" font-family=\"Times,serif\" font-size=\"14.00\">gini = 0.642</text>\n",
       "<text text-anchor=\"middle\" x=\"1546.5\" y=\"-1926.8\" font-family=\"Times,serif\" font-size=\"14.00\">samples = 77</text>\n",
       "<text text-anchor=\"middle\" x=\"1546.5\" y=\"-1911.8\" font-family=\"Times,serif\" font-size=\"14.00\">value = [32, 29, 16]</text>\n",
       "<text text-anchor=\"middle\" x=\"1546.5\" y=\"-1896.8\" font-family=\"Times,serif\" font-size=\"14.00\">class = 差</text>\n",
       "</g>\n",
       "<!-- 1&#45;&gt;13 -->\n",
       "<g id=\"edge13\" class=\"edge\"><title>1&#45;&gt;13</title>\n",
       "<path fill=\"none\" stroke=\"black\" d=\"M1546.5,-2007.91C1546.5,-1999.65 1546.5,-1990.86 1546.5,-1982.3\"/>\n",
       "<polygon fill=\"black\" stroke=\"black\" points=\"1550,-1982.02 1546.5,-1972.02 1543,-1982.02 1550,-1982.02\"/>\n",
       "</g>\n",
       "<!-- 3 -->\n",
       "<g id=\"node4\" class=\"node\"><title>3</title>\n",
       "<polygon fill=\"#7beeab\" stroke=\"black\" points=\"1153,-1853 1040,-1853 1040,-1770 1153,-1770 1153,-1853\"/>\n",
       "<text text-anchor=\"middle\" x=\"1096.5\" y=\"-1837.8\" font-family=\"Times,serif\" font-size=\"14.00\">course_17 &lt;= 0.5</text>\n",
       "<text text-anchor=\"middle\" x=\"1096.5\" y=\"-1822.8\" font-family=\"Times,serif\" font-size=\"14.00\">gini = 0.375</text>\n",
       "<text text-anchor=\"middle\" x=\"1096.5\" y=\"-1807.8\" font-family=\"Times,serif\" font-size=\"14.00\">samples = 4</text>\n",
       "<text text-anchor=\"middle\" x=\"1096.5\" y=\"-1792.8\" font-family=\"Times,serif\" font-size=\"14.00\">value = [0, 3, 1]</text>\n",
       "<text text-anchor=\"middle\" x=\"1096.5\" y=\"-1777.8\" font-family=\"Times,serif\" font-size=\"14.00\">class = 一般</text>\n",
       "</g>\n",
       "<!-- 2&#45;&gt;3 -->\n",
       "<g id=\"edge3\" class=\"edge\"><title>2&#45;&gt;3</title>\n",
       "<path fill=\"none\" stroke=\"black\" d=\"M1235.27,-1897.06C1212.54,-1883.21 1185.78,-1866.91 1161.86,-1852.33\"/>\n",
       "<polygon fill=\"black\" stroke=\"black\" points=\"1163.55,-1849.26 1153.19,-1847.05 1159.91,-1855.24 1163.55,-1849.26\"/>\n",
       "</g>\n",
       "<!-- 6 -->\n",
       "<g id=\"node7\" class=\"node\"><title>6</title>\n",
       "<polygon fill=\"#b991f1\" stroke=\"black\" points=\"1350,-1853 1227,-1853 1227,-1770 1350,-1770 1350,-1853\"/>\n",
       "<text text-anchor=\"middle\" x=\"1288.5\" y=\"-1837.8\" font-family=\"Times,serif\" font-size=\"14.00\">instructor_6 &lt;= 0.5</text>\n",
       "<text text-anchor=\"middle\" x=\"1288.5\" y=\"-1822.8\" font-family=\"Times,serif\" font-size=\"14.00\">gini = 0.486</text>\n",
       "<text text-anchor=\"middle\" x=\"1288.5\" y=\"-1807.8\" font-family=\"Times,serif\" font-size=\"14.00\">samples = 12</text>\n",
       "<text text-anchor=\"middle\" x=\"1288.5\" y=\"-1792.8\" font-family=\"Times,serif\" font-size=\"14.00\">value = [3, 1, 8]</text>\n",
       "<text text-anchor=\"middle\" x=\"1288.5\" y=\"-1777.8\" font-family=\"Times,serif\" font-size=\"14.00\">class = 好</text>\n",
       "</g>\n",
       "<!-- 2&#45;&gt;6 -->\n",
       "<g id=\"edge6\" class=\"edge\"><title>2&#45;&gt;6</title>\n",
       "<path fill=\"none\" stroke=\"black\" d=\"M1288.5,-1888.91C1288.5,-1880.65 1288.5,-1871.86 1288.5,-1863.3\"/>\n",
       "<polygon fill=\"black\" stroke=\"black\" points=\"1292,-1863.02 1288.5,-1853.02 1285,-1863.02 1292,-1863.02\"/>\n",
       "</g>\n",
       "<!-- 4 -->\n",
       "<g id=\"node5\" class=\"node\"><title>4</title>\n",
       "<polygon fill=\"#39e581\" stroke=\"black\" points=\"1025.5,-1726.5 919.5,-1726.5 919.5,-1658.5 1025.5,-1658.5 1025.5,-1726.5\"/>\n",
       "<text text-anchor=\"middle\" x=\"972.5\" y=\"-1711.3\" font-family=\"Times,serif\" font-size=\"14.00\">gini = 0.0</text>\n",
       "<text text-anchor=\"middle\" x=\"972.5\" y=\"-1696.3\" font-family=\"Times,serif\" font-size=\"14.00\">samples = 3</text>\n",
       "<text text-anchor=\"middle\" x=\"972.5\" y=\"-1681.3\" font-family=\"Times,serif\" font-size=\"14.00\">value = [0, 3, 0]</text>\n",
       "<text text-anchor=\"middle\" x=\"972.5\" y=\"-1666.3\" font-family=\"Times,serif\" font-size=\"14.00\">class = 一般</text>\n",
       "</g>\n",
       "<!-- 3&#45;&gt;4 -->\n",
       "<g id=\"edge4\" class=\"edge\"><title>3&#45;&gt;4</title>\n",
       "<path fill=\"none\" stroke=\"black\" d=\"M1053.48,-1769.91C1041.08,-1758.21 1027.57,-1745.46 1015.19,-1733.78\"/>\n",
       "<polygon fill=\"black\" stroke=\"black\" points=\"1017.33,-1730.98 1007.65,-1726.67 1012.52,-1736.08 1017.33,-1730.98\"/>\n",
       "</g>\n",
       "<!-- 5 -->\n",
       "<g id=\"node6\" class=\"node\"><title>5</title>\n",
       "<polygon fill=\"#8139e5\" stroke=\"black\" points=\"1149.5,-1726.5 1043.5,-1726.5 1043.5,-1658.5 1149.5,-1658.5 1149.5,-1726.5\"/>\n",
       "<text text-anchor=\"middle\" x=\"1096.5\" y=\"-1711.3\" font-family=\"Times,serif\" font-size=\"14.00\">gini = 0.0</text>\n",
       "<text text-anchor=\"middle\" x=\"1096.5\" y=\"-1696.3\" font-family=\"Times,serif\" font-size=\"14.00\">samples = 1</text>\n",
       "<text text-anchor=\"middle\" x=\"1096.5\" y=\"-1681.3\" font-family=\"Times,serif\" font-size=\"14.00\">value = [0, 0, 1]</text>\n",
       "<text text-anchor=\"middle\" x=\"1096.5\" y=\"-1666.3\" font-family=\"Times,serif\" font-size=\"14.00\">class = 好</text>\n",
       "</g>\n",
       "<!-- 3&#45;&gt;5 -->\n",
       "<g id=\"edge5\" class=\"edge\"><title>3&#45;&gt;5</title>\n",
       "<path fill=\"none\" stroke=\"black\" d=\"M1096.5,-1769.91C1096.5,-1759.2 1096.5,-1747.62 1096.5,-1736.78\"/>\n",
       "<polygon fill=\"black\" stroke=\"black\" points=\"1100,-1736.67 1096.5,-1726.67 1093,-1736.67 1100,-1736.67\"/>\n",
       "</g>\n",
       "<!-- 7 -->\n",
       "<g id=\"node8\" class=\"node\"><title>7</title>\n",
       "<polygon fill=\"#b083ef\" stroke=\"black\" points=\"1274,-1734 1167,-1734 1167,-1651 1274,-1651 1274,-1734\"/>\n",
       "<text text-anchor=\"middle\" x=\"1220.5\" y=\"-1718.8\" font-family=\"Times,serif\" font-size=\"14.00\">course_7 &lt;= 0.5</text>\n",
       "<text text-anchor=\"middle\" x=\"1220.5\" y=\"-1703.8\" font-family=\"Times,serif\" font-size=\"14.00\">gini = 0.397</text>\n",
       "<text text-anchor=\"middle\" x=\"1220.5\" y=\"-1688.8\" font-family=\"Times,serif\" font-size=\"14.00\">samples = 11</text>\n",
       "<text text-anchor=\"middle\" x=\"1220.5\" y=\"-1673.8\" font-family=\"Times,serif\" font-size=\"14.00\">value = [3, 0, 8]</text>\n",
       "<text text-anchor=\"middle\" x=\"1220.5\" y=\"-1658.8\" font-family=\"Times,serif\" font-size=\"14.00\">class = 好</text>\n",
       "</g>\n",
       "<!-- 6&#45;&gt;7 -->\n",
       "<g id=\"edge7\" class=\"edge\"><title>6&#45;&gt;7</title>\n",
       "<path fill=\"none\" stroke=\"black\" d=\"M1264.91,-1769.91C1259.84,-1761.2 1254.44,-1751.9 1249.21,-1742.89\"/>\n",
       "<polygon fill=\"black\" stroke=\"black\" points=\"1252.1,-1740.91 1244.05,-1734.02 1246.05,-1744.43 1252.1,-1740.91\"/>\n",
       "</g>\n",
       "<!-- 12 -->\n",
       "<g id=\"node13\" class=\"node\"><title>12</title>\n",
       "<polygon fill=\"#39e581\" stroke=\"black\" points=\"1397.5,-1726.5 1291.5,-1726.5 1291.5,-1658.5 1397.5,-1658.5 1397.5,-1726.5\"/>\n",
       "<text text-anchor=\"middle\" x=\"1344.5\" y=\"-1711.3\" font-family=\"Times,serif\" font-size=\"14.00\">gini = 0.0</text>\n",
       "<text text-anchor=\"middle\" x=\"1344.5\" y=\"-1696.3\" font-family=\"Times,serif\" font-size=\"14.00\">samples = 1</text>\n",
       "<text text-anchor=\"middle\" x=\"1344.5\" y=\"-1681.3\" font-family=\"Times,serif\" font-size=\"14.00\">value = [0, 1, 0]</text>\n",
       "<text text-anchor=\"middle\" x=\"1344.5\" y=\"-1666.3\" font-family=\"Times,serif\" font-size=\"14.00\">class = 一般</text>\n",
       "</g>\n",
       "<!-- 6&#45;&gt;12 -->\n",
       "<g id=\"edge12\" class=\"edge\"><title>6&#45;&gt;12</title>\n",
       "<path fill=\"none\" stroke=\"black\" d=\"M1307.93,-1769.91C1313.21,-1758.87 1318.94,-1746.9 1324.27,-1735.77\"/>\n",
       "<polygon fill=\"black\" stroke=\"black\" points=\"1327.46,-1737.2 1328.63,-1726.67 1321.15,-1734.18 1327.46,-1737.2\"/>\n",
       "</g>\n",
       "<!-- 8 -->\n",
       "<g id=\"node9\" class=\"node\"><title>8</title>\n",
       "<polygon fill=\"#a06aec\" stroke=\"black\" points=\"1146.5,-1615 1016.5,-1615 1016.5,-1532 1146.5,-1532 1146.5,-1615\"/>\n",
       "<text text-anchor=\"middle\" x=\"1081.5\" y=\"-1599.8\" font-family=\"Times,serif\" font-size=\"14.00\">instructor_14 &lt;= 0.5</text>\n",
       "<text text-anchor=\"middle\" x=\"1081.5\" y=\"-1584.8\" font-family=\"Times,serif\" font-size=\"14.00\">gini = 0.32</text>\n",
       "<text text-anchor=\"middle\" x=\"1081.5\" y=\"-1569.8\" font-family=\"Times,serif\" font-size=\"14.00\">samples = 10</text>\n",
       "<text text-anchor=\"middle\" x=\"1081.5\" y=\"-1554.8\" font-family=\"Times,serif\" font-size=\"14.00\">value = [2, 0, 8]</text>\n",
       "<text text-anchor=\"middle\" x=\"1081.5\" y=\"-1539.8\" font-family=\"Times,serif\" font-size=\"14.00\">class = 好</text>\n",
       "</g>\n",
       "<!-- 7&#45;&gt;8 -->\n",
       "<g id=\"edge8\" class=\"edge\"><title>7&#45;&gt;8</title>\n",
       "<path fill=\"none\" stroke=\"black\" d=\"M1172.27,-1650.91C1161.06,-1641.47 1149.03,-1631.34 1137.51,-1621.65\"/>\n",
       "<polygon fill=\"black\" stroke=\"black\" points=\"1139.54,-1618.78 1129.64,-1615.02 1135.04,-1624.14 1139.54,-1618.78\"/>\n",
       "</g>\n",
       "<!-- 11 -->\n",
       "<g id=\"node12\" class=\"node\"><title>11</title>\n",
       "<polygon fill=\"#e58139\" stroke=\"black\" points=\"1273.5,-1607.5 1167.5,-1607.5 1167.5,-1539.5 1273.5,-1539.5 1273.5,-1607.5\"/>\n",
       "<text text-anchor=\"middle\" x=\"1220.5\" y=\"-1592.3\" font-family=\"Times,serif\" font-size=\"14.00\">gini = 0.0</text>\n",
       "<text text-anchor=\"middle\" x=\"1220.5\" y=\"-1577.3\" font-family=\"Times,serif\" font-size=\"14.00\">samples = 1</text>\n",
       "<text text-anchor=\"middle\" x=\"1220.5\" y=\"-1562.3\" font-family=\"Times,serif\" font-size=\"14.00\">value = [1, 0, 0]</text>\n",
       "<text text-anchor=\"middle\" x=\"1220.5\" y=\"-1547.3\" font-family=\"Times,serif\" font-size=\"14.00\">class = 差</text>\n",
       "</g>\n",
       "<!-- 7&#45;&gt;11 -->\n",
       "<g id=\"edge11\" class=\"edge\"><title>7&#45;&gt;11</title>\n",
       "<path fill=\"none\" stroke=\"black\" d=\"M1220.5,-1650.91C1220.5,-1640.2 1220.5,-1628.62 1220.5,-1617.78\"/>\n",
       "<polygon fill=\"black\" stroke=\"black\" points=\"1224,-1617.67 1220.5,-1607.67 1217,-1617.67 1224,-1617.67\"/>\n",
       "</g>\n",
       "<!-- 9 -->\n",
       "<g id=\"node10\" class=\"node\"><title>9</title>\n",
       "<polygon fill=\"#9152e8\" stroke=\"black\" points=\"1010.5,-1488.5 904.5,-1488.5 904.5,-1420.5 1010.5,-1420.5 1010.5,-1488.5\"/>\n",
       "<text text-anchor=\"middle\" x=\"957.5\" y=\"-1473.3\" font-family=\"Times,serif\" font-size=\"14.00\">gini = 0.198</text>\n",
       "<text text-anchor=\"middle\" x=\"957.5\" y=\"-1458.3\" font-family=\"Times,serif\" font-size=\"14.00\">samples = 9</text>\n",
       "<text text-anchor=\"middle\" x=\"957.5\" y=\"-1443.3\" font-family=\"Times,serif\" font-size=\"14.00\">value = [1, 0, 8]</text>\n",
       "<text text-anchor=\"middle\" x=\"957.5\" y=\"-1428.3\" font-family=\"Times,serif\" font-size=\"14.00\">class = 好</text>\n",
       "</g>\n",
       "<!-- 8&#45;&gt;9 -->\n",
       "<g id=\"edge9\" class=\"edge\"><title>8&#45;&gt;9</title>\n",
       "<path fill=\"none\" stroke=\"black\" d=\"M1038.48,-1531.91C1026.08,-1520.21 1012.57,-1507.46 1000.19,-1495.78\"/>\n",
       "<polygon fill=\"black\" stroke=\"black\" points=\"1002.33,-1492.98 992.651,-1488.67 997.523,-1498.08 1002.33,-1492.98\"/>\n",
       "</g>\n",
       "<!-- 10 -->\n",
       "<g id=\"node11\" class=\"node\"><title>10</title>\n",
       "<polygon fill=\"#e58139\" stroke=\"black\" points=\"1134.5,-1488.5 1028.5,-1488.5 1028.5,-1420.5 1134.5,-1420.5 1134.5,-1488.5\"/>\n",
       "<text text-anchor=\"middle\" x=\"1081.5\" y=\"-1473.3\" font-family=\"Times,serif\" font-size=\"14.00\">gini = 0.0</text>\n",
       "<text text-anchor=\"middle\" x=\"1081.5\" y=\"-1458.3\" font-family=\"Times,serif\" font-size=\"14.00\">samples = 1</text>\n",
       "<text text-anchor=\"middle\" x=\"1081.5\" y=\"-1443.3\" font-family=\"Times,serif\" font-size=\"14.00\">value = [1, 0, 0]</text>\n",
       "<text text-anchor=\"middle\" x=\"1081.5\" y=\"-1428.3\" font-family=\"Times,serif\" font-size=\"14.00\">class = 差</text>\n",
       "</g>\n",
       "<!-- 8&#45;&gt;10 -->\n",
       "<g id=\"edge10\" class=\"edge\"><title>8&#45;&gt;10</title>\n",
       "<path fill=\"none\" stroke=\"black\" d=\"M1081.5,-1531.91C1081.5,-1521.2 1081.5,-1509.62 1081.5,-1498.78\"/>\n",
       "<polygon fill=\"black\" stroke=\"black\" points=\"1085,-1498.67 1081.5,-1488.67 1078,-1498.67 1085,-1498.67\"/>\n",
       "</g>\n",
       "<!-- 14 -->\n",
       "<g id=\"node15\" class=\"node\"><title>14</title>\n",
       "<polygon fill=\"#fdf7f2\" stroke=\"black\" points=\"1549.5,-1853 1423.5,-1853 1423.5,-1770 1549.5,-1770 1549.5,-1853\"/>\n",
       "<text text-anchor=\"middle\" x=\"1486.5\" y=\"-1837.8\" font-family=\"Times,serif\" font-size=\"14.00\">instructor_9 &lt;= 0.5</text>\n",
       "<text text-anchor=\"middle\" x=\"1486.5\" y=\"-1822.8\" font-family=\"Times,serif\" font-size=\"14.00\">gini = 0.629</text>\n",
       "<text text-anchor=\"middle\" x=\"1486.5\" y=\"-1807.8\" font-family=\"Times,serif\" font-size=\"14.00\">samples = 74</text>\n",
       "<text text-anchor=\"middle\" x=\"1486.5\" y=\"-1792.8\" font-family=\"Times,serif\" font-size=\"14.00\">value = [32, 29, 13]</text>\n",
       "<text text-anchor=\"middle\" x=\"1486.5\" y=\"-1777.8\" font-family=\"Times,serif\" font-size=\"14.00\">class = 差</text>\n",
       "</g>\n",
       "<!-- 13&#45;&gt;14 -->\n",
       "<g id=\"edge14\" class=\"edge\"><title>13&#45;&gt;14</title>\n",
       "<path fill=\"none\" stroke=\"black\" d=\"M1525.68,-1888.91C1521.26,-1880.29 1516.55,-1871.09 1511.97,-1862.17\"/>\n",
       "<polygon fill=\"black\" stroke=\"black\" points=\"1514.96,-1860.32 1507.28,-1853.02 1508.73,-1863.52 1514.96,-1860.32\"/>\n",
       "</g>\n",
       "<!-- 69 -->\n",
       "<g id=\"node70\" class=\"node\"><title>69</title>\n",
       "<polygon fill=\"#8139e5\" stroke=\"black\" points=\"1673.5,-1845.5 1567.5,-1845.5 1567.5,-1777.5 1673.5,-1777.5 1673.5,-1845.5\"/>\n",
       "<text text-anchor=\"middle\" x=\"1620.5\" y=\"-1830.3\" font-family=\"Times,serif\" font-size=\"14.00\">gini = 0.0</text>\n",
       "<text text-anchor=\"middle\" x=\"1620.5\" y=\"-1815.3\" font-family=\"Times,serif\" font-size=\"14.00\">samples = 3</text>\n",
       "<text text-anchor=\"middle\" x=\"1620.5\" y=\"-1800.3\" font-family=\"Times,serif\" font-size=\"14.00\">value = [0, 0, 3]</text>\n",
       "<text text-anchor=\"middle\" x=\"1620.5\" y=\"-1785.3\" font-family=\"Times,serif\" font-size=\"14.00\">class = 好</text>\n",
       "</g>\n",
       "<!-- 13&#45;&gt;69 -->\n",
       "<g id=\"edge69\" class=\"edge\"><title>13&#45;&gt;69</title>\n",
       "<path fill=\"none\" stroke=\"black\" d=\"M1572.17,-1888.91C1579.22,-1877.76 1586.88,-1865.66 1593.97,-1854.44\"/>\n",
       "<polygon fill=\"black\" stroke=\"black\" points=\"1597.14,-1855.99 1599.52,-1845.67 1591.22,-1852.25 1597.14,-1855.99\"/>\n",
       "</g>\n",
       "<!-- 15 -->\n",
       "<g id=\"node16\" class=\"node\"><title>15</title>\n",
       "<polygon fill=\"#fcf0e7\" stroke=\"black\" points=\"1549.5,-1734 1423.5,-1734 1423.5,-1651 1549.5,-1651 1549.5,-1734\"/>\n",
       "<text text-anchor=\"middle\" x=\"1486.5\" y=\"-1718.8\" font-family=\"Times,serif\" font-size=\"14.00\">course_2 &lt;= 0.5</text>\n",
       "<text text-anchor=\"middle\" x=\"1486.5\" y=\"-1703.8\" font-family=\"Times,serif\" font-size=\"14.00\">gini = 0.611</text>\n",
       "<text text-anchor=\"middle\" x=\"1486.5\" y=\"-1688.8\" font-family=\"Times,serif\" font-size=\"14.00\">samples = 69</text>\n",
       "<text text-anchor=\"middle\" x=\"1486.5\" y=\"-1673.8\" font-family=\"Times,serif\" font-size=\"14.00\">value = [32, 27, 10]</text>\n",
       "<text text-anchor=\"middle\" x=\"1486.5\" y=\"-1658.8\" font-family=\"Times,serif\" font-size=\"14.00\">class = 差</text>\n",
       "</g>\n",
       "<!-- 14&#45;&gt;15 -->\n",
       "<g id=\"edge15\" class=\"edge\"><title>14&#45;&gt;15</title>\n",
       "<path fill=\"none\" stroke=\"black\" d=\"M1486.5,-1769.91C1486.5,-1761.65 1486.5,-1752.86 1486.5,-1744.3\"/>\n",
       "<polygon fill=\"black\" stroke=\"black\" points=\"1490,-1744.02 1486.5,-1734.02 1483,-1744.02 1490,-1744.02\"/>\n",
       "</g>\n",
       "<!-- 64 -->\n",
       "<g id=\"node65\" class=\"node\"><title>64</title>\n",
       "<polygon fill=\"#d5bdf6\" stroke=\"black\" points=\"1793,-1734 1686,-1734 1686,-1651 1793,-1651 1793,-1734\"/>\n",
       "<text text-anchor=\"middle\" x=\"1739.5\" y=\"-1718.8\" font-family=\"Times,serif\" font-size=\"14.00\">course_5 &lt;= 0.5</text>\n",
       "<text text-anchor=\"middle\" x=\"1739.5\" y=\"-1703.8\" font-family=\"Times,serif\" font-size=\"14.00\">gini = 0.48</text>\n",
       "<text text-anchor=\"middle\" x=\"1739.5\" y=\"-1688.8\" font-family=\"Times,serif\" font-size=\"14.00\">samples = 5</text>\n",
       "<text text-anchor=\"middle\" x=\"1739.5\" y=\"-1673.8\" font-family=\"Times,serif\" font-size=\"14.00\">value = [0, 2, 3]</text>\n",
       "<text text-anchor=\"middle\" x=\"1739.5\" y=\"-1658.8\" font-family=\"Times,serif\" font-size=\"14.00\">class = 好</text>\n",
       "</g>\n",
       "<!-- 14&#45;&gt;64 -->\n",
       "<g id=\"edge64\" class=\"edge\"><title>14&#45;&gt;64</title>\n",
       "<path fill=\"none\" stroke=\"black\" d=\"M1549.5,-1774.53C1552.53,-1772.97 1555.54,-1771.45 1558.5,-1770 1596.85,-1751.18 1640.99,-1732.47 1676.08,-1718.26\"/>\n",
       "<polygon fill=\"black\" stroke=\"black\" points=\"1677.76,-1721.36 1685.73,-1714.38 1675.15,-1714.87 1677.76,-1721.36\"/>\n",
       "</g>\n",
       "<!-- 16 -->\n",
       "<g id=\"node17\" class=\"node\"><title>16</title>\n",
       "<polygon fill=\"#f4fef8\" stroke=\"black\" points=\"1411,-1615 1292,-1615 1292,-1532 1411,-1532 1411,-1615\"/>\n",
       "<text text-anchor=\"middle\" x=\"1351.5\" y=\"-1599.8\" font-family=\"Times,serif\" font-size=\"14.00\">course_1 &lt;= 0.5</text>\n",
       "<text text-anchor=\"middle\" x=\"1351.5\" y=\"-1584.8\" font-family=\"Times,serif\" font-size=\"14.00\">gini = 0.617</text>\n",
       "<text text-anchor=\"middle\" x=\"1351.5\" y=\"-1569.8\" font-family=\"Times,serif\" font-size=\"14.00\">samples = 59</text>\n",
       "<text text-anchor=\"middle\" x=\"1351.5\" y=\"-1554.8\" font-family=\"Times,serif\" font-size=\"14.00\">value = [24, 26, 9]</text>\n",
       "<text text-anchor=\"middle\" x=\"1351.5\" y=\"-1539.8\" font-family=\"Times,serif\" font-size=\"14.00\">class = 一般</text>\n",
       "</g>\n",
       "<!-- 15&#45;&gt;16 -->\n",
       "<g id=\"edge16\" class=\"edge\"><title>15&#45;&gt;16</title>\n",
       "<path fill=\"none\" stroke=\"black\" d=\"M1439.66,-1650.91C1428.77,-1641.47 1417.09,-1631.34 1405.9,-1621.65\"/>\n",
       "<polygon fill=\"black\" stroke=\"black\" points=\"1408.1,-1618.93 1398.25,-1615.02 1403.52,-1624.22 1408.1,-1618.93\"/>\n",
       "</g>\n",
       "<!-- 57 -->\n",
       "<g id=\"node58\" class=\"node\"><title>57</title>\n",
       "<polygon fill=\"#eb9d65\" stroke=\"black\" points=\"1559.5,-1615 1429.5,-1615 1429.5,-1532 1559.5,-1532 1559.5,-1615\"/>\n",
       "<text text-anchor=\"middle\" x=\"1494.5\" y=\"-1599.8\" font-family=\"Times,serif\" font-size=\"14.00\">instructor_20 &lt;= 0.5</text>\n",
       "<text text-anchor=\"middle\" x=\"1494.5\" y=\"-1584.8\" font-family=\"Times,serif\" font-size=\"14.00\">gini = 0.34</text>\n",
       "<text text-anchor=\"middle\" x=\"1494.5\" y=\"-1569.8\" font-family=\"Times,serif\" font-size=\"14.00\">samples = 10</text>\n",
       "<text text-anchor=\"middle\" x=\"1494.5\" y=\"-1554.8\" font-family=\"Times,serif\" font-size=\"14.00\">value = [8, 1, 1]</text>\n",
       "<text text-anchor=\"middle\" x=\"1494.5\" y=\"-1539.8\" font-family=\"Times,serif\" font-size=\"14.00\">class = 差</text>\n",
       "</g>\n",
       "<!-- 15&#45;&gt;57 -->\n",
       "<g id=\"edge57\" class=\"edge\"><title>15&#45;&gt;57</title>\n",
       "<path fill=\"none\" stroke=\"black\" d=\"M1489.28,-1650.91C1489.85,-1642.56 1490.45,-1633.67 1491.05,-1625.02\"/>\n",
       "<polygon fill=\"black\" stroke=\"black\" points=\"1494.54,-1625.24 1491.73,-1615.02 1487.56,-1624.76 1494.54,-1625.24\"/>\n",
       "</g>\n",
       "<!-- 17 -->\n",
       "<g id=\"node18\" class=\"node\"><title>17</title>\n",
       "<polygon fill=\"#d5f9e4\" stroke=\"black\" points=\"1272,-1496 1153,-1496 1153,-1413 1272,-1413 1272,-1496\"/>\n",
       "<text text-anchor=\"middle\" x=\"1212.5\" y=\"-1480.8\" font-family=\"Times,serif\" font-size=\"14.00\">size &lt;= 38.5</text>\n",
       "<text text-anchor=\"middle\" x=\"1212.5\" y=\"-1465.8\" font-family=\"Times,serif\" font-size=\"14.00\">gini = 0.611</text>\n",
       "<text text-anchor=\"middle\" x=\"1212.5\" y=\"-1450.8\" font-family=\"Times,serif\" font-size=\"14.00\">samples = 51</text>\n",
       "<text text-anchor=\"middle\" x=\"1212.5\" y=\"-1435.8\" font-family=\"Times,serif\" font-size=\"14.00\">value = [18, 25, 8]</text>\n",
       "<text text-anchor=\"middle\" x=\"1212.5\" y=\"-1420.8\" font-family=\"Times,serif\" font-size=\"14.00\">class = 一般</text>\n",
       "</g>\n",
       "<!-- 16&#45;&gt;17 -->\n",
       "<g id=\"edge17\" class=\"edge\"><title>16&#45;&gt;17</title>\n",
       "<path fill=\"none\" stroke=\"black\" d=\"M1303.27,-1531.91C1292.06,-1522.47 1280.03,-1512.34 1268.51,-1502.65\"/>\n",
       "<polygon fill=\"black\" stroke=\"black\" points=\"1270.54,-1499.78 1260.64,-1496.02 1266.04,-1505.14 1270.54,-1499.78\"/>\n",
       "</g>\n",
       "<!-- 54 -->\n",
       "<g id=\"node55\" class=\"node\"><title>54</title>\n",
       "<polygon fill=\"#eca572\" stroke=\"black\" points=\"1420.5,-1496 1290.5,-1496 1290.5,-1413 1420.5,-1413 1420.5,-1496\"/>\n",
       "<text text-anchor=\"middle\" x=\"1355.5\" y=\"-1480.8\" font-family=\"Times,serif\" font-size=\"14.00\">instructor_22 &lt;= 0.5</text>\n",
       "<text text-anchor=\"middle\" x=\"1355.5\" y=\"-1465.8\" font-family=\"Times,serif\" font-size=\"14.00\">gini = 0.406</text>\n",
       "<text text-anchor=\"middle\" x=\"1355.5\" y=\"-1450.8\" font-family=\"Times,serif\" font-size=\"14.00\">samples = 8</text>\n",
       "<text text-anchor=\"middle\" x=\"1355.5\" y=\"-1435.8\" font-family=\"Times,serif\" font-size=\"14.00\">value = [6, 1, 1]</text>\n",
       "<text text-anchor=\"middle\" x=\"1355.5\" y=\"-1420.8\" font-family=\"Times,serif\" font-size=\"14.00\">class = 差</text>\n",
       "</g>\n",
       "<!-- 16&#45;&gt;54 -->\n",
       "<g id=\"edge54\" class=\"edge\"><title>16&#45;&gt;54</title>\n",
       "<path fill=\"none\" stroke=\"black\" d=\"M1352.89,-1531.91C1353.17,-1523.56 1353.48,-1514.67 1353.77,-1506.02\"/>\n",
       "<polygon fill=\"black\" stroke=\"black\" points=\"1357.27,-1506.13 1354.11,-1496.02 1350.27,-1505.9 1357.27,-1506.13\"/>\n",
       "</g>\n",
       "<!-- 18 -->\n",
       "<g id=\"node19\" class=\"node\"><title>18</title>\n",
       "<polygon fill=\"#f6fefa\" stroke=\"black\" points=\"1092.5,-1377 962.5,-1377 962.5,-1294 1092.5,-1294 1092.5,-1377\"/>\n",
       "<text text-anchor=\"middle\" x=\"1027.5\" y=\"-1361.8\" font-family=\"Times,serif\" font-size=\"14.00\">instructor_10 &lt;= 0.5</text>\n",
       "<text text-anchor=\"middle\" x=\"1027.5\" y=\"-1346.8\" font-family=\"Times,serif\" font-size=\"14.00\">gini = 0.583</text>\n",
       "<text text-anchor=\"middle\" x=\"1027.5\" y=\"-1331.8\" font-family=\"Times,serif\" font-size=\"14.00\">samples = 41</text>\n",
       "<text text-anchor=\"middle\" x=\"1027.5\" y=\"-1316.8\" font-family=\"Times,serif\" font-size=\"14.00\">value = [18, 19, 4]</text>\n",
       "<text text-anchor=\"middle\" x=\"1027.5\" y=\"-1301.8\" font-family=\"Times,serif\" font-size=\"14.00\">class = 一般</text>\n",
       "</g>\n",
       "<!-- 17&#45;&gt;18 -->\n",
       "<g id=\"edge18\" class=\"edge\"><title>17&#45;&gt;18</title>\n",
       "<path fill=\"none\" stroke=\"black\" d=\"M1152.95,-1415.84C1136.15,-1405.22 1117.69,-1393.54 1100.22,-1382.49\"/>\n",
       "<polygon fill=\"black\" stroke=\"black\" points=\"1102.06,-1379.51 1091.74,-1377.12 1098.32,-1385.43 1102.06,-1379.51\"/>\n",
       "</g>\n",
       "<!-- 49 -->\n",
       "<g id=\"node50\" class=\"node\"><title>49</title>\n",
       "<polygon fill=\"#bdf6d5\" stroke=\"black\" points=\"1272,-1377 1159,-1377 1159,-1294 1272,-1294 1272,-1377\"/>\n",
       "<text text-anchor=\"middle\" x=\"1215.5\" y=\"-1361.8\" font-family=\"Times,serif\" font-size=\"14.00\">course_11 &lt;= 0.5</text>\n",
       "<text text-anchor=\"middle\" x=\"1215.5\" y=\"-1346.8\" font-family=\"Times,serif\" font-size=\"14.00\">gini = 0.48</text>\n",
       "<text text-anchor=\"middle\" x=\"1215.5\" y=\"-1331.8\" font-family=\"Times,serif\" font-size=\"14.00\">samples = 10</text>\n",
       "<text text-anchor=\"middle\" x=\"1215.5\" y=\"-1316.8\" font-family=\"Times,serif\" font-size=\"14.00\">value = [0, 6, 4]</text>\n",
       "<text text-anchor=\"middle\" x=\"1215.5\" y=\"-1301.8\" font-family=\"Times,serif\" font-size=\"14.00\">class = 一般</text>\n",
       "</g>\n",
       "<!-- 17&#45;&gt;49 -->\n",
       "<g id=\"edge49\" class=\"edge\"><title>17&#45;&gt;49</title>\n",
       "<path fill=\"none\" stroke=\"black\" d=\"M1213.54,-1412.91C1213.75,-1404.56 1213.98,-1395.67 1214.2,-1387.02\"/>\n",
       "<polygon fill=\"black\" stroke=\"black\" points=\"1217.7,-1387.11 1214.46,-1377.02 1210.71,-1386.93 1217.7,-1387.11\"/>\n",
       "</g>\n",
       "<!-- 19 -->\n",
       "<g id=\"node20\" class=\"node\"><title>19</title>\n",
       "<polygon fill=\"#ecfdf3\" stroke=\"black\" points=\"908.5,-1258 778.5,-1258 778.5,-1175 908.5,-1175 908.5,-1258\"/>\n",
       "<text text-anchor=\"middle\" x=\"843.5\" y=\"-1242.8\" font-family=\"Times,serif\" font-size=\"14.00\">instructor_16 &lt;= 0.5</text>\n",
       "<text text-anchor=\"middle\" x=\"843.5\" y=\"-1227.8\" font-family=\"Times,serif\" font-size=\"14.00\">gini = 0.547</text>\n",
       "<text text-anchor=\"middle\" x=\"843.5\" y=\"-1212.8\" font-family=\"Times,serif\" font-size=\"14.00\">samples = 38</text>\n",
       "<text text-anchor=\"middle\" x=\"843.5\" y=\"-1197.8\" font-family=\"Times,serif\" font-size=\"14.00\">value = [17, 19, 2]</text>\n",
       "<text text-anchor=\"middle\" x=\"843.5\" y=\"-1182.8\" font-family=\"Times,serif\" font-size=\"14.00\">class = 一般</text>\n",
       "</g>\n",
       "<!-- 18&#45;&gt;19 -->\n",
       "<g id=\"edge19\" class=\"edge\"><title>18&#45;&gt;19</title>\n",
       "<path fill=\"none\" stroke=\"black\" d=\"M963.662,-1293.91C948.248,-1284.11 931.667,-1273.56 915.893,-1263.53\"/>\n",
       "<polygon fill=\"black\" stroke=\"black\" points=\"917.542,-1260.43 907.225,-1258.02 913.786,-1266.34 917.542,-1260.43\"/>\n",
       "</g>\n",
       "<!-- 46 -->\n",
       "<g id=\"node47\" class=\"node\"><title>46</title>\n",
       "<polygon fill=\"#c09cf2\" stroke=\"black\" points=\"1080.5,-1258 974.5,-1258 974.5,-1175 1080.5,-1175 1080.5,-1258\"/>\n",
       "<text text-anchor=\"middle\" x=\"1027.5\" y=\"-1242.8\" font-family=\"Times,serif\" font-size=\"14.00\">size &lt;= 23.0</text>\n",
       "<text text-anchor=\"middle\" x=\"1027.5\" y=\"-1227.8\" font-family=\"Times,serif\" font-size=\"14.00\">gini = 0.444</text>\n",
       "<text text-anchor=\"middle\" x=\"1027.5\" y=\"-1212.8\" font-family=\"Times,serif\" font-size=\"14.00\">samples = 3</text>\n",
       "<text text-anchor=\"middle\" x=\"1027.5\" y=\"-1197.8\" font-family=\"Times,serif\" font-size=\"14.00\">value = [1, 0, 2]</text>\n",
       "<text text-anchor=\"middle\" x=\"1027.5\" y=\"-1182.8\" font-family=\"Times,serif\" font-size=\"14.00\">class = 好</text>\n",
       "</g>\n",
       "<!-- 18&#45;&gt;46 -->\n",
       "<g id=\"edge46\" class=\"edge\"><title>18&#45;&gt;46</title>\n",
       "<path fill=\"none\" stroke=\"black\" d=\"M1027.5,-1293.91C1027.5,-1285.65 1027.5,-1276.86 1027.5,-1268.3\"/>\n",
       "<polygon fill=\"black\" stroke=\"black\" points=\"1031,-1268.02 1027.5,-1258.02 1024,-1268.02 1031,-1268.02\"/>\n",
       "</g>\n",
       "<!-- 20 -->\n",
       "<g id=\"node21\" class=\"node\"><title>20</title>\n",
       "<polygon fill=\"#d0f9e1\" stroke=\"black\" points=\"772,-1139 653,-1139 653,-1056 772,-1056 772,-1139\"/>\n",
       "<text text-anchor=\"middle\" x=\"712.5\" y=\"-1123.8\" font-family=\"Times,serif\" font-size=\"14.00\">course_5 &lt;= 0.5</text>\n",
       "<text text-anchor=\"middle\" x=\"712.5\" y=\"-1108.8\" font-family=\"Times,serif\" font-size=\"14.00\">gini = 0.542</text>\n",
       "<text text-anchor=\"middle\" x=\"712.5\" y=\"-1093.8\" font-family=\"Times,serif\" font-size=\"14.00\">samples = 35</text>\n",
       "<text text-anchor=\"middle\" x=\"712.5\" y=\"-1078.8\" font-family=\"Times,serif\" font-size=\"14.00\">value = [14, 19, 2]</text>\n",
       "<text text-anchor=\"middle\" x=\"712.5\" y=\"-1063.8\" font-family=\"Times,serif\" font-size=\"14.00\">class = 一般</text>\n",
       "</g>\n",
       "<!-- 19&#45;&gt;20 -->\n",
       "<g id=\"edge20\" class=\"edge\"><title>19&#45;&gt;20</title>\n",
       "<path fill=\"none\" stroke=\"black\" d=\"M798.05,-1174.91C787.584,-1165.56 776.363,-1155.54 765.604,-1145.93\"/>\n",
       "<polygon fill=\"black\" stroke=\"black\" points=\"767.659,-1143.07 757.869,-1139.02 762.996,-1148.29 767.659,-1143.07\"/>\n",
       "</g>\n",
       "<!-- 45 -->\n",
       "<g id=\"node46\" class=\"node\"><title>45</title>\n",
       "<polygon fill=\"#e58139\" stroke=\"black\" points=\"896.5,-1131.5 790.5,-1131.5 790.5,-1063.5 896.5,-1063.5 896.5,-1131.5\"/>\n",
       "<text text-anchor=\"middle\" x=\"843.5\" y=\"-1116.3\" font-family=\"Times,serif\" font-size=\"14.00\">gini = 0.0</text>\n",
       "<text text-anchor=\"middle\" x=\"843.5\" y=\"-1101.3\" font-family=\"Times,serif\" font-size=\"14.00\">samples = 3</text>\n",
       "<text text-anchor=\"middle\" x=\"843.5\" y=\"-1086.3\" font-family=\"Times,serif\" font-size=\"14.00\">value = [3, 0, 0]</text>\n",
       "<text text-anchor=\"middle\" x=\"843.5\" y=\"-1071.3\" font-family=\"Times,serif\" font-size=\"14.00\">class = 差</text>\n",
       "</g>\n",
       "<!-- 19&#45;&gt;45 -->\n",
       "<g id=\"edge45\" class=\"edge\"><title>19&#45;&gt;45</title>\n",
       "<path fill=\"none\" stroke=\"black\" d=\"M843.5,-1174.91C843.5,-1164.2 843.5,-1152.62 843.5,-1141.78\"/>\n",
       "<polygon fill=\"black\" stroke=\"black\" points=\"847,-1141.67 843.5,-1131.67 840,-1141.67 847,-1141.67\"/>\n",
       "</g>\n",
       "<!-- 21 -->\n",
       "<g id=\"node22\" class=\"node\"><title>21</title>\n",
       "<polygon fill=\"#bdf6d5\" stroke=\"black\" points=\"709.5,-1020 579.5,-1020 579.5,-937 709.5,-937 709.5,-1020\"/>\n",
       "<text text-anchor=\"middle\" x=\"644.5\" y=\"-1004.8\" font-family=\"Times,serif\" font-size=\"14.00\">instructor_22 &lt;= 0.5</text>\n",
       "<text text-anchor=\"middle\" x=\"644.5\" y=\"-989.8\" font-family=\"Times,serif\" font-size=\"14.00\">gini = 0.533</text>\n",
       "<text text-anchor=\"middle\" x=\"644.5\" y=\"-974.8\" font-family=\"Times,serif\" font-size=\"14.00\">samples = 33</text>\n",
       "<text text-anchor=\"middle\" x=\"644.5\" y=\"-959.8\" font-family=\"Times,serif\" font-size=\"14.00\">value = [12, 19, 2]</text>\n",
       "<text text-anchor=\"middle\" x=\"644.5\" y=\"-944.8\" font-family=\"Times,serif\" font-size=\"14.00\">class = 一般</text>\n",
       "</g>\n",
       "<!-- 20&#45;&gt;21 -->\n",
       "<g id=\"edge21\" class=\"edge\"><title>20&#45;&gt;21</title>\n",
       "<path fill=\"none\" stroke=\"black\" d=\"M688.908,-1055.91C683.844,-1047.2 678.44,-1037.9 673.207,-1028.89\"/>\n",
       "<polygon fill=\"black\" stroke=\"black\" points=\"676.102,-1026.91 668.051,-1020.02 670.049,-1030.43 676.102,-1026.91\"/>\n",
       "</g>\n",
       "<!-- 44 -->\n",
       "<g id=\"node45\" class=\"node\"><title>44</title>\n",
       "<polygon fill=\"#e58139\" stroke=\"black\" points=\"833.5,-1012.5 727.5,-1012.5 727.5,-944.5 833.5,-944.5 833.5,-1012.5\"/>\n",
       "<text text-anchor=\"middle\" x=\"780.5\" y=\"-997.3\" font-family=\"Times,serif\" font-size=\"14.00\">gini = 0.0</text>\n",
       "<text text-anchor=\"middle\" x=\"780.5\" y=\"-982.3\" font-family=\"Times,serif\" font-size=\"14.00\">samples = 2</text>\n",
       "<text text-anchor=\"middle\" x=\"780.5\" y=\"-967.3\" font-family=\"Times,serif\" font-size=\"14.00\">value = [2, 0, 0]</text>\n",
       "<text text-anchor=\"middle\" x=\"780.5\" y=\"-952.3\" font-family=\"Times,serif\" font-size=\"14.00\">class = 差</text>\n",
       "</g>\n",
       "<!-- 20&#45;&gt;44 -->\n",
       "<g id=\"edge44\" class=\"edge\"><title>20&#45;&gt;44</title>\n",
       "<path fill=\"none\" stroke=\"black\" d=\"M736.092,-1055.91C742.57,-1044.76 749.605,-1032.66 756.125,-1021.44\"/>\n",
       "<polygon fill=\"black\" stroke=\"black\" points=\"759.225,-1023.07 761.223,-1012.67 753.172,-1019.55 759.225,-1023.07\"/>\n",
       "</g>\n",
       "<!-- 22 -->\n",
       "<g id=\"node23\" class=\"node\"><title>22</title>\n",
       "<polygon fill=\"#aaf4c9\" stroke=\"black\" points=\"641.5,-901 511.5,-901 511.5,-818 641.5,-818 641.5,-901\"/>\n",
       "<text text-anchor=\"middle\" x=\"576.5\" y=\"-885.8\" font-family=\"Times,serif\" font-size=\"14.00\">instructor_23 &lt;= 0.5</text>\n",
       "<text text-anchor=\"middle\" x=\"576.5\" y=\"-870.8\" font-family=\"Times,serif\" font-size=\"14.00\">gini = 0.516</text>\n",
       "<text text-anchor=\"middle\" x=\"576.5\" y=\"-855.8\" font-family=\"Times,serif\" font-size=\"14.00\">samples = 31</text>\n",
       "<text text-anchor=\"middle\" x=\"576.5\" y=\"-840.8\" font-family=\"Times,serif\" font-size=\"14.00\">value = [10, 19, 2]</text>\n",
       "<text text-anchor=\"middle\" x=\"576.5\" y=\"-825.8\" font-family=\"Times,serif\" font-size=\"14.00\">class = 一般</text>\n",
       "</g>\n",
       "<!-- 21&#45;&gt;22 -->\n",
       "<g id=\"edge22\" class=\"edge\"><title>21&#45;&gt;22</title>\n",
       "<path fill=\"none\" stroke=\"black\" d=\"M620.908,-936.907C615.844,-928.195 610.44,-918.897 605.207,-909.893\"/>\n",
       "<polygon fill=\"black\" stroke=\"black\" points=\"608.102,-907.908 600.051,-901.021 602.049,-911.425 608.102,-907.908\"/>\n",
       "</g>\n",
       "<!-- 43 -->\n",
       "<g id=\"node44\" class=\"node\"><title>43</title>\n",
       "<polygon fill=\"#e58139\" stroke=\"black\" points=\"765.5,-893.5 659.5,-893.5 659.5,-825.5 765.5,-825.5 765.5,-893.5\"/>\n",
       "<text text-anchor=\"middle\" x=\"712.5\" y=\"-878.3\" font-family=\"Times,serif\" font-size=\"14.00\">gini = 0.0</text>\n",
       "<text text-anchor=\"middle\" x=\"712.5\" y=\"-863.3\" font-family=\"Times,serif\" font-size=\"14.00\">samples = 2</text>\n",
       "<text text-anchor=\"middle\" x=\"712.5\" y=\"-848.3\" font-family=\"Times,serif\" font-size=\"14.00\">value = [2, 0, 0]</text>\n",
       "<text text-anchor=\"middle\" x=\"712.5\" y=\"-833.3\" font-family=\"Times,serif\" font-size=\"14.00\">class = 差</text>\n",
       "</g>\n",
       "<!-- 21&#45;&gt;43 -->\n",
       "<g id=\"edge43\" class=\"edge\"><title>21&#45;&gt;43</title>\n",
       "<path fill=\"none\" stroke=\"black\" d=\"M668.092,-936.907C674.57,-925.763 681.605,-913.658 688.125,-902.439\"/>\n",
       "<polygon fill=\"black\" stroke=\"black\" points=\"691.225,-904.072 693.223,-893.667 685.172,-900.554 691.225,-904.072\"/>\n",
       "</g>\n",
       "<!-- 23 -->\n",
       "<g id=\"node24\" class=\"node\"><title>23</title>\n",
       "<polygon fill=\"#92f1ba\" stroke=\"black\" points=\"569,-782 456,-782 456,-699 569,-699 569,-782\"/>\n",
       "<text text-anchor=\"middle\" x=\"512.5\" y=\"-766.8\" font-family=\"Times,serif\" font-size=\"14.00\">size &lt;= 28.0</text>\n",
       "<text text-anchor=\"middle\" x=\"512.5\" y=\"-751.8\" font-family=\"Times,serif\" font-size=\"14.00\">gini = 0.483</text>\n",
       "<text text-anchor=\"middle\" x=\"512.5\" y=\"-736.8\" font-family=\"Times,serif\" font-size=\"14.00\">samples = 27</text>\n",
       "<text text-anchor=\"middle\" x=\"512.5\" y=\"-721.8\" font-family=\"Times,serif\" font-size=\"14.00\">value = [7, 18, 2]</text>\n",
       "<text text-anchor=\"middle\" x=\"512.5\" y=\"-706.8\" font-family=\"Times,serif\" font-size=\"14.00\">class = 一般</text>\n",
       "</g>\n",
       "<!-- 22&#45;&gt;23 -->\n",
       "<g id=\"edge23\" class=\"edge\"><title>22&#45;&gt;23</title>\n",
       "<path fill=\"none\" stroke=\"black\" d=\"M554.296,-817.907C549.53,-809.195 544.444,-799.897 539.519,-790.893\"/>\n",
       "<polygon fill=\"black\" stroke=\"black\" points=\"542.535,-789.114 534.665,-782.021 536.394,-792.474 542.535,-789.114\"/>\n",
       "</g>\n",
       "<!-- 40 -->\n",
       "<g id=\"node41\" class=\"node\"><title>40</title>\n",
       "<polygon fill=\"#eeab7b\" stroke=\"black\" points=\"693.5,-782 587.5,-782 587.5,-699 693.5,-699 693.5,-782\"/>\n",
       "<text text-anchor=\"middle\" x=\"640.5\" y=\"-766.8\" font-family=\"Times,serif\" font-size=\"14.00\">size &lt;= 10.5</text>\n",
       "<text text-anchor=\"middle\" x=\"640.5\" y=\"-751.8\" font-family=\"Times,serif\" font-size=\"14.00\">gini = 0.375</text>\n",
       "<text text-anchor=\"middle\" x=\"640.5\" y=\"-736.8\" font-family=\"Times,serif\" font-size=\"14.00\">samples = 4</text>\n",
       "<text text-anchor=\"middle\" x=\"640.5\" y=\"-721.8\" font-family=\"Times,serif\" font-size=\"14.00\">value = [3, 1, 0]</text>\n",
       "<text text-anchor=\"middle\" x=\"640.5\" y=\"-706.8\" font-family=\"Times,serif\" font-size=\"14.00\">class = 差</text>\n",
       "</g>\n",
       "<!-- 22&#45;&gt;40 -->\n",
       "<g id=\"edge40\" class=\"edge\"><title>22&#45;&gt;40</title>\n",
       "<path fill=\"none\" stroke=\"black\" d=\"M598.704,-817.907C603.47,-809.195 608.556,-799.897 613.481,-790.893\"/>\n",
       "<polygon fill=\"black\" stroke=\"black\" points=\"616.606,-792.474 618.335,-782.021 610.465,-789.114 616.606,-792.474\"/>\n",
       "</g>\n",
       "<!-- 24 -->\n",
       "<g id=\"node25\" class=\"node\"><title>24</title>\n",
       "<polygon fill=\"#6eeca3\" stroke=\"black\" points=\"442,-663 329,-663 329,-580 442,-580 442,-663\"/>\n",
       "<text text-anchor=\"middle\" x=\"385.5\" y=\"-647.8\" font-family=\"Times,serif\" font-size=\"14.00\">course_16 &lt;= 0.5</text>\n",
       "<text text-anchor=\"middle\" x=\"385.5\" y=\"-632.8\" font-family=\"Times,serif\" font-size=\"14.00\">gini = 0.388</text>\n",
       "<text text-anchor=\"middle\" x=\"385.5\" y=\"-617.8\" font-family=\"Times,serif\" font-size=\"14.00\">samples = 17</text>\n",
       "<text text-anchor=\"middle\" x=\"385.5\" y=\"-602.8\" font-family=\"Times,serif\" font-size=\"14.00\">value = [2, 13, 2]</text>\n",
       "<text text-anchor=\"middle\" x=\"385.5\" y=\"-587.8\" font-family=\"Times,serif\" font-size=\"14.00\">class = 一般</text>\n",
       "</g>\n",
       "<!-- 23&#45;&gt;24 -->\n",
       "<g id=\"edge24\" class=\"edge\"><title>23&#45;&gt;24</title>\n",
       "<path fill=\"none\" stroke=\"black\" d=\"M468.438,-698.907C458.292,-689.56 447.413,-679.538 436.983,-669.929\"/>\n",
       "<polygon fill=\"black\" stroke=\"black\" points=\"439.21,-667.222 429.484,-663.021 434.467,-672.371 439.21,-667.222\"/>\n",
       "</g>\n",
       "<!-- 35 -->\n",
       "<g id=\"node36\" class=\"node\"><title>35</title>\n",
       "<polygon fill=\"#ffffff\" stroke=\"black\" points=\"566.5,-663 460.5,-663 460.5,-580 566.5,-580 566.5,-663\"/>\n",
       "<text text-anchor=\"middle\" x=\"513.5\" y=\"-647.8\" font-family=\"Times,serif\" font-size=\"14.00\">size &lt;= 30.5</text>\n",
       "<text text-anchor=\"middle\" x=\"513.5\" y=\"-632.8\" font-family=\"Times,serif\" font-size=\"14.00\">gini = 0.5</text>\n",
       "<text text-anchor=\"middle\" x=\"513.5\" y=\"-617.8\" font-family=\"Times,serif\" font-size=\"14.00\">samples = 10</text>\n",
       "<text text-anchor=\"middle\" x=\"513.5\" y=\"-602.8\" font-family=\"Times,serif\" font-size=\"14.00\">value = [5, 5, 0]</text>\n",
       "<text text-anchor=\"middle\" x=\"513.5\" y=\"-587.8\" font-family=\"Times,serif\" font-size=\"14.00\">class = 差</text>\n",
       "</g>\n",
       "<!-- 23&#45;&gt;35 -->\n",
       "<g id=\"edge35\" class=\"edge\"><title>23&#45;&gt;35</title>\n",
       "<path fill=\"none\" stroke=\"black\" d=\"M512.847,-698.907C512.918,-690.649 512.993,-681.864 513.066,-673.302\"/>\n",
       "<polygon fill=\"black\" stroke=\"black\" points=\"516.568,-673.05 513.154,-663.021 509.568,-672.99 516.568,-673.05\"/>\n",
       "</g>\n",
       "<!-- 25 -->\n",
       "<g id=\"node26\" class=\"node\"><title>25</title>\n",
       "<polygon fill=\"#63eb9c\" stroke=\"black\" points=\"315.5,-544 185.5,-544 185.5,-461 315.5,-461 315.5,-544\"/>\n",
       "<text text-anchor=\"middle\" x=\"250.5\" y=\"-528.8\" font-family=\"Times,serif\" font-size=\"14.00\">instructor_13 &lt;= 0.5</text>\n",
       "<text text-anchor=\"middle\" x=\"250.5\" y=\"-513.8\" font-family=\"Times,serif\" font-size=\"14.00\">gini = 0.32</text>\n",
       "<text text-anchor=\"middle\" x=\"250.5\" y=\"-498.8\" font-family=\"Times,serif\" font-size=\"14.00\">samples = 16</text>\n",
       "<text text-anchor=\"middle\" x=\"250.5\" y=\"-483.8\" font-family=\"Times,serif\" font-size=\"14.00\">value = [1, 13, 2]</text>\n",
       "<text text-anchor=\"middle\" x=\"250.5\" y=\"-468.8\" font-family=\"Times,serif\" font-size=\"14.00\">class = 一般</text>\n",
       "</g>\n",
       "<!-- 24&#45;&gt;25 -->\n",
       "<g id=\"edge25\" class=\"edge\"><title>24&#45;&gt;25</title>\n",
       "<path fill=\"none\" stroke=\"black\" d=\"M338.662,-579.907C327.772,-570.469 316.088,-560.343 304.903,-550.649\"/>\n",
       "<polygon fill=\"black\" stroke=\"black\" points=\"307.104,-547.925 297.255,-544.021 302.519,-553.215 307.104,-547.925\"/>\n",
       "</g>\n",
       "<!-- 34 -->\n",
       "<g id=\"node35\" class=\"node\"><title>34</title>\n",
       "<polygon fill=\"#e58139\" stroke=\"black\" points=\"439.5,-536.5 333.5,-536.5 333.5,-468.5 439.5,-468.5 439.5,-536.5\"/>\n",
       "<text text-anchor=\"middle\" x=\"386.5\" y=\"-521.3\" font-family=\"Times,serif\" font-size=\"14.00\">gini = 0.0</text>\n",
       "<text text-anchor=\"middle\" x=\"386.5\" y=\"-506.3\" font-family=\"Times,serif\" font-size=\"14.00\">samples = 1</text>\n",
       "<text text-anchor=\"middle\" x=\"386.5\" y=\"-491.3\" font-family=\"Times,serif\" font-size=\"14.00\">value = [1, 0, 0]</text>\n",
       "<text text-anchor=\"middle\" x=\"386.5\" y=\"-476.3\" font-family=\"Times,serif\" font-size=\"14.00\">class = 差</text>\n",
       "</g>\n",
       "<!-- 24&#45;&gt;34 -->\n",
       "<g id=\"edge34\" class=\"edge\"><title>24&#45;&gt;34</title>\n",
       "<path fill=\"none\" stroke=\"black\" d=\"M385.847,-579.907C385.938,-569.204 386.037,-557.615 386.13,-546.776\"/>\n",
       "<polygon fill=\"black\" stroke=\"black\" points=\"389.631,-546.697 386.217,-536.667 382.631,-546.637 389.631,-546.697\"/>\n",
       "</g>\n",
       "<!-- 26 -->\n",
       "<g id=\"node27\" class=\"node\"><title>26</title>\n",
       "<polygon fill=\"#55e993\" stroke=\"black\" points=\"243,-425 130,-425 130,-342 243,-342 243,-425\"/>\n",
       "<text text-anchor=\"middle\" x=\"186.5\" y=\"-409.8\" font-family=\"Times,serif\" font-size=\"14.00\">course_21 &lt;= 0.5</text>\n",
       "<text text-anchor=\"middle\" x=\"186.5\" y=\"-394.8\" font-family=\"Times,serif\" font-size=\"14.00\">gini = 0.24</text>\n",
       "<text text-anchor=\"middle\" x=\"186.5\" y=\"-379.8\" font-family=\"Times,serif\" font-size=\"14.00\">samples = 15</text>\n",
       "<text text-anchor=\"middle\" x=\"186.5\" y=\"-364.8\" font-family=\"Times,serif\" font-size=\"14.00\">value = [1, 13, 1]</text>\n",
       "<text text-anchor=\"middle\" x=\"186.5\" y=\"-349.8\" font-family=\"Times,serif\" font-size=\"14.00\">class = 一般</text>\n",
       "</g>\n",
       "<!-- 25&#45;&gt;26 -->\n",
       "<g id=\"edge26\" class=\"edge\"><title>25&#45;&gt;26</title>\n",
       "<path fill=\"none\" stroke=\"black\" d=\"M228.296,-460.907C223.53,-452.195 218.444,-442.897 213.519,-433.893\"/>\n",
       "<polygon fill=\"black\" stroke=\"black\" points=\"216.535,-432.114 208.665,-425.021 210.394,-435.474 216.535,-432.114\"/>\n",
       "</g>\n",
       "<!-- 33 -->\n",
       "<g id=\"node34\" class=\"node\"><title>33</title>\n",
       "<polygon fill=\"#8139e5\" stroke=\"black\" points=\"367.5,-417.5 261.5,-417.5 261.5,-349.5 367.5,-349.5 367.5,-417.5\"/>\n",
       "<text text-anchor=\"middle\" x=\"314.5\" y=\"-402.3\" font-family=\"Times,serif\" font-size=\"14.00\">gini = 0.0</text>\n",
       "<text text-anchor=\"middle\" x=\"314.5\" y=\"-387.3\" font-family=\"Times,serif\" font-size=\"14.00\">samples = 1</text>\n",
       "<text text-anchor=\"middle\" x=\"314.5\" y=\"-372.3\" font-family=\"Times,serif\" font-size=\"14.00\">value = [0, 0, 1]</text>\n",
       "<text text-anchor=\"middle\" x=\"314.5\" y=\"-357.3\" font-family=\"Times,serif\" font-size=\"14.00\">class = 好</text>\n",
       "</g>\n",
       "<!-- 25&#45;&gt;33 -->\n",
       "<g id=\"edge33\" class=\"edge\"><title>25&#45;&gt;33</title>\n",
       "<path fill=\"none\" stroke=\"black\" d=\"M272.704,-460.907C278.74,-449.873 285.291,-437.898 291.376,-426.773\"/>\n",
       "<polygon fill=\"black\" stroke=\"black\" points=\"294.629,-428.12 296.357,-417.667 288.488,-424.76 294.629,-428.12\"/>\n",
       "</g>\n",
       "<!-- 27 -->\n",
       "<g id=\"node28\" class=\"node\"><title>27</title>\n",
       "<polygon fill=\"#48e78b\" stroke=\"black\" points=\"182,-306 59,-306 59,-223 182,-223 182,-306\"/>\n",
       "<text text-anchor=\"middle\" x=\"120.5\" y=\"-290.8\" font-family=\"Times,serif\" font-size=\"14.00\">instructor_8 &lt;= 0.5</text>\n",
       "<text text-anchor=\"middle\" x=\"120.5\" y=\"-275.8\" font-family=\"Times,serif\" font-size=\"14.00\">gini = 0.133</text>\n",
       "<text text-anchor=\"middle\" x=\"120.5\" y=\"-260.8\" font-family=\"Times,serif\" font-size=\"14.00\">samples = 14</text>\n",
       "<text text-anchor=\"middle\" x=\"120.5\" y=\"-245.8\" font-family=\"Times,serif\" font-size=\"14.00\">value = [1, 13, 0]</text>\n",
       "<text text-anchor=\"middle\" x=\"120.5\" y=\"-230.8\" font-family=\"Times,serif\" font-size=\"14.00\">class = 一般</text>\n",
       "</g>\n",
       "<!-- 26&#45;&gt;27 -->\n",
       "<g id=\"edge27\" class=\"edge\"><title>26&#45;&gt;27</title>\n",
       "<path fill=\"none\" stroke=\"black\" d=\"M163.602,-341.907C158.687,-333.195 153.442,-323.897 148.363,-314.893\"/>\n",
       "<polygon fill=\"black\" stroke=\"black\" points=\"151.32,-313.011 143.358,-306.021 145.223,-316.45 151.32,-313.011\"/>\n",
       "</g>\n",
       "<!-- 32 -->\n",
       "<g id=\"node33\" class=\"node\"><title>32</title>\n",
       "<polygon fill=\"#8139e5\" stroke=\"black\" points=\"306.5,-298.5 200.5,-298.5 200.5,-230.5 306.5,-230.5 306.5,-298.5\"/>\n",
       "<text text-anchor=\"middle\" x=\"253.5\" y=\"-283.3\" font-family=\"Times,serif\" font-size=\"14.00\">gini = 0.0</text>\n",
       "<text text-anchor=\"middle\" x=\"253.5\" y=\"-268.3\" font-family=\"Times,serif\" font-size=\"14.00\">samples = 1</text>\n",
       "<text text-anchor=\"middle\" x=\"253.5\" y=\"-253.3\" font-family=\"Times,serif\" font-size=\"14.00\">value = [0, 0, 1]</text>\n",
       "<text text-anchor=\"middle\" x=\"253.5\" y=\"-238.3\" font-family=\"Times,serif\" font-size=\"14.00\">class = 好</text>\n",
       "</g>\n",
       "<!-- 26&#45;&gt;32 -->\n",
       "<g id=\"edge32\" class=\"edge\"><title>26&#45;&gt;32</title>\n",
       "<path fill=\"none\" stroke=\"black\" d=\"M209.745,-341.907C216.127,-330.763 223.059,-318.658 229.484,-307.439\"/>\n",
       "<polygon fill=\"black\" stroke=\"black\" points=\"232.575,-309.084 234.507,-298.667 226.5,-305.606 232.575,-309.084\"/>\n",
       "</g>\n",
       "<!-- 28 -->\n",
       "<g id=\"node29\" class=\"node\"><title>28</title>\n",
       "<polygon fill=\"#39e581\" stroke=\"black\" points=\"113,-179.5 0,-179.5 0,-111.5 113,-111.5 113,-179.5\"/>\n",
       "<text text-anchor=\"middle\" x=\"56.5\" y=\"-164.3\" font-family=\"Times,serif\" font-size=\"14.00\">gini = 0.0</text>\n",
       "<text text-anchor=\"middle\" x=\"56.5\" y=\"-149.3\" font-family=\"Times,serif\" font-size=\"14.00\">samples = 11</text>\n",
       "<text text-anchor=\"middle\" x=\"56.5\" y=\"-134.3\" font-family=\"Times,serif\" font-size=\"14.00\">value = [0, 11, 0]</text>\n",
       "<text text-anchor=\"middle\" x=\"56.5\" y=\"-119.3\" font-family=\"Times,serif\" font-size=\"14.00\">class = 一般</text>\n",
       "</g>\n",
       "<!-- 27&#45;&gt;28 -->\n",
       "<g id=\"edge28\" class=\"edge\"><title>27&#45;&gt;28</title>\n",
       "<path fill=\"none\" stroke=\"black\" d=\"M98.2955,-222.907C92.2596,-211.873 85.709,-199.898 79.6235,-188.773\"/>\n",
       "<polygon fill=\"black\" stroke=\"black\" points=\"82.5123,-186.76 74.6426,-179.667 76.371,-190.12 82.5123,-186.76\"/>\n",
       "</g>\n",
       "<!-- 29 -->\n",
       "<g id=\"node30\" class=\"node\"><title>29</title>\n",
       "<polygon fill=\"#9cf2c0\" stroke=\"black\" points=\"238,-187 131,-187 131,-104 238,-104 238,-187\"/>\n",
       "<text text-anchor=\"middle\" x=\"184.5\" y=\"-171.8\" font-family=\"Times,serif\" font-size=\"14.00\">course_7 &lt;= 0.5</text>\n",
       "<text text-anchor=\"middle\" x=\"184.5\" y=\"-156.8\" font-family=\"Times,serif\" font-size=\"14.00\">gini = 0.444</text>\n",
       "<text text-anchor=\"middle\" x=\"184.5\" y=\"-141.8\" font-family=\"Times,serif\" font-size=\"14.00\">samples = 3</text>\n",
       "<text text-anchor=\"middle\" x=\"184.5\" y=\"-126.8\" font-family=\"Times,serif\" font-size=\"14.00\">value = [1, 2, 0]</text>\n",
       "<text text-anchor=\"middle\" x=\"184.5\" y=\"-111.8\" font-family=\"Times,serif\" font-size=\"14.00\">class = 一般</text>\n",
       "</g>\n",
       "<!-- 27&#45;&gt;29 -->\n",
       "<g id=\"edge29\" class=\"edge\"><title>27&#45;&gt;29</title>\n",
       "<path fill=\"none\" stroke=\"black\" d=\"M142.704,-222.907C147.47,-214.195 152.556,-204.897 157.481,-195.893\"/>\n",
       "<polygon fill=\"black\" stroke=\"black\" points=\"160.606,-197.474 162.335,-187.021 154.465,-194.114 160.606,-197.474\"/>\n",
       "</g>\n",
       "<!-- 30 -->\n",
       "<g id=\"node31\" class=\"node\"><title>30</title>\n",
       "<polygon fill=\"#39e581\" stroke=\"black\" points=\"175.5,-68 69.5,-68 69.5,-0 175.5,-0 175.5,-68\"/>\n",
       "<text text-anchor=\"middle\" x=\"122.5\" y=\"-52.8\" font-family=\"Times,serif\" font-size=\"14.00\">gini = 0.0</text>\n",
       "<text text-anchor=\"middle\" x=\"122.5\" y=\"-37.8\" font-family=\"Times,serif\" font-size=\"14.00\">samples = 2</text>\n",
       "<text text-anchor=\"middle\" x=\"122.5\" y=\"-22.8\" font-family=\"Times,serif\" font-size=\"14.00\">value = [0, 2, 0]</text>\n",
       "<text text-anchor=\"middle\" x=\"122.5\" y=\"-7.8\" font-family=\"Times,serif\" font-size=\"14.00\">class = 一般</text>\n",
       "</g>\n",
       "<!-- 29&#45;&gt;30 -->\n",
       "<g id=\"edge30\" class=\"edge\"><title>29&#45;&gt;30</title>\n",
       "<path fill=\"none\" stroke=\"black\" d=\"M161.413,-103.726C156.507,-95.0615 151.318,-85.8962 146.383,-77.1802\"/>\n",
       "<polygon fill=\"black\" stroke=\"black\" points=\"149.327,-75.277 141.355,-68.2996 143.236,-78.726 149.327,-75.277\"/>\n",
       "</g>\n",
       "<!-- 31 -->\n",
       "<g id=\"node32\" class=\"node\"><title>31</title>\n",
       "<polygon fill=\"#e58139\" stroke=\"black\" points=\"299.5,-68 193.5,-68 193.5,-0 299.5,-0 299.5,-68\"/>\n",
       "<text text-anchor=\"middle\" x=\"246.5\" y=\"-52.8\" font-family=\"Times,serif\" font-size=\"14.00\">gini = 0.0</text>\n",
       "<text text-anchor=\"middle\" x=\"246.5\" y=\"-37.8\" font-family=\"Times,serif\" font-size=\"14.00\">samples = 1</text>\n",
       "<text text-anchor=\"middle\" x=\"246.5\" y=\"-22.8\" font-family=\"Times,serif\" font-size=\"14.00\">value = [1, 0, 0]</text>\n",
       "<text text-anchor=\"middle\" x=\"246.5\" y=\"-7.8\" font-family=\"Times,serif\" font-size=\"14.00\">class = 差</text>\n",
       "</g>\n",
       "<!-- 29&#45;&gt;31 -->\n",
       "<g id=\"edge31\" class=\"edge\"><title>29&#45;&gt;31</title>\n",
       "<path fill=\"none\" stroke=\"black\" d=\"M207.587,-103.726C212.493,-95.0615 217.682,-85.8962 222.617,-77.1802\"/>\n",
       "<polygon fill=\"black\" stroke=\"black\" points=\"225.764,-78.726 227.645,-68.2996 219.673,-75.277 225.764,-78.726\"/>\n",
       "</g>\n",
       "<!-- 36 -->\n",
       "<g id=\"node37\" class=\"node\"><title>36</title>\n",
       "<polygon fill=\"#e58139\" stroke=\"black\" points=\"564.5,-536.5 458.5,-536.5 458.5,-468.5 564.5,-468.5 564.5,-536.5\"/>\n",
       "<text text-anchor=\"middle\" x=\"511.5\" y=\"-521.3\" font-family=\"Times,serif\" font-size=\"14.00\">gini = 0.0</text>\n",
       "<text text-anchor=\"middle\" x=\"511.5\" y=\"-506.3\" font-family=\"Times,serif\" font-size=\"14.00\">samples = 3</text>\n",
       "<text text-anchor=\"middle\" x=\"511.5\" y=\"-491.3\" font-family=\"Times,serif\" font-size=\"14.00\">value = [3, 0, 0]</text>\n",
       "<text text-anchor=\"middle\" x=\"511.5\" y=\"-476.3\" font-family=\"Times,serif\" font-size=\"14.00\">class = 差</text>\n",
       "</g>\n",
       "<!-- 35&#45;&gt;36 -->\n",
       "<g id=\"edge36\" class=\"edge\"><title>35&#45;&gt;36</title>\n",
       "<path fill=\"none\" stroke=\"black\" d=\"M512.806,-579.907C512.623,-569.204 512.425,-557.615 512.24,-546.776\"/>\n",
       "<polygon fill=\"black\" stroke=\"black\" points=\"515.737,-546.606 512.067,-536.667 508.738,-546.725 515.737,-546.606\"/>\n",
       "</g>\n",
       "<!-- 37 -->\n",
       "<g id=\"node38\" class=\"node\"><title>37</title>\n",
       "<polygon fill=\"#88efb3\" stroke=\"black\" points=\"696,-544 583,-544 583,-461 696,-461 696,-544\"/>\n",
       "<text text-anchor=\"middle\" x=\"639.5\" y=\"-528.8\" font-family=\"Times,serif\" font-size=\"14.00\">course_15 &lt;= 0.5</text>\n",
       "<text text-anchor=\"middle\" x=\"639.5\" y=\"-513.8\" font-family=\"Times,serif\" font-size=\"14.00\">gini = 0.408</text>\n",
       "<text text-anchor=\"middle\" x=\"639.5\" y=\"-498.8\" font-family=\"Times,serif\" font-size=\"14.00\">samples = 7</text>\n",
       "<text text-anchor=\"middle\" x=\"639.5\" y=\"-483.8\" font-family=\"Times,serif\" font-size=\"14.00\">value = [2, 5, 0]</text>\n",
       "<text text-anchor=\"middle\" x=\"639.5\" y=\"-468.8\" font-family=\"Times,serif\" font-size=\"14.00\">class = 一般</text>\n",
       "</g>\n",
       "<!-- 35&#45;&gt;37 -->\n",
       "<g id=\"edge37\" class=\"edge\"><title>35&#45;&gt;37</title>\n",
       "<path fill=\"none\" stroke=\"black\" d=\"M557.215,-579.907C567.281,-570.56 578.075,-560.538 588.423,-550.929\"/>\n",
       "<polygon fill=\"black\" stroke=\"black\" points=\"590.916,-553.39 595.862,-544.021 586.153,-548.261 590.916,-553.39\"/>\n",
       "</g>\n",
       "<!-- 38 -->\n",
       "<g id=\"node39\" class=\"node\"><title>38</title>\n",
       "<polygon fill=\"#39e581\" stroke=\"black\" points=\"630.5,-417.5 524.5,-417.5 524.5,-349.5 630.5,-349.5 630.5,-417.5\"/>\n",
       "<text text-anchor=\"middle\" x=\"577.5\" y=\"-402.3\" font-family=\"Times,serif\" font-size=\"14.00\">gini = 0.0</text>\n",
       "<text text-anchor=\"middle\" x=\"577.5\" y=\"-387.3\" font-family=\"Times,serif\" font-size=\"14.00\">samples = 4</text>\n",
       "<text text-anchor=\"middle\" x=\"577.5\" y=\"-372.3\" font-family=\"Times,serif\" font-size=\"14.00\">value = [0, 4, 0]</text>\n",
       "<text text-anchor=\"middle\" x=\"577.5\" y=\"-357.3\" font-family=\"Times,serif\" font-size=\"14.00\">class = 一般</text>\n",
       "</g>\n",
       "<!-- 37&#45;&gt;38 -->\n",
       "<g id=\"edge38\" class=\"edge\"><title>37&#45;&gt;38</title>\n",
       "<path fill=\"none\" stroke=\"black\" d=\"M617.989,-460.907C612.142,-449.873 605.796,-437.898 599.901,-426.773\"/>\n",
       "<polygon fill=\"black\" stroke=\"black\" points=\"602.851,-424.864 595.076,-417.667 596.665,-428.142 602.851,-424.864\"/>\n",
       "</g>\n",
       "<!-- 39 -->\n",
       "<g id=\"node40\" class=\"node\"><title>39</title>\n",
       "<polygon fill=\"#f2c09c\" stroke=\"black\" points=\"754.5,-417.5 648.5,-417.5 648.5,-349.5 754.5,-349.5 754.5,-417.5\"/>\n",
       "<text text-anchor=\"middle\" x=\"701.5\" y=\"-402.3\" font-family=\"Times,serif\" font-size=\"14.00\">gini = 0.444</text>\n",
       "<text text-anchor=\"middle\" x=\"701.5\" y=\"-387.3\" font-family=\"Times,serif\" font-size=\"14.00\">samples = 3</text>\n",
       "<text text-anchor=\"middle\" x=\"701.5\" y=\"-372.3\" font-family=\"Times,serif\" font-size=\"14.00\">value = [2, 1, 0]</text>\n",
       "<text text-anchor=\"middle\" x=\"701.5\" y=\"-357.3\" font-family=\"Times,serif\" font-size=\"14.00\">class = 差</text>\n",
       "</g>\n",
       "<!-- 37&#45;&gt;39 -->\n",
       "<g id=\"edge39\" class=\"edge\"><title>37&#45;&gt;39</title>\n",
       "<path fill=\"none\" stroke=\"black\" d=\"M661.011,-460.907C666.858,-449.873 673.204,-437.898 679.099,-426.773\"/>\n",
       "<polygon fill=\"black\" stroke=\"black\" points=\"682.335,-428.142 683.924,-417.667 676.149,-424.864 682.335,-428.142\"/>\n",
       "</g>\n",
       "<!-- 41 -->\n",
       "<g id=\"node42\" class=\"node\"><title>41</title>\n",
       "<polygon fill=\"#39e581\" stroke=\"black\" points=\"691.5,-655.5 585.5,-655.5 585.5,-587.5 691.5,-587.5 691.5,-655.5\"/>\n",
       "<text text-anchor=\"middle\" x=\"638.5\" y=\"-640.3\" font-family=\"Times,serif\" font-size=\"14.00\">gini = 0.0</text>\n",
       "<text text-anchor=\"middle\" x=\"638.5\" y=\"-625.3\" font-family=\"Times,serif\" font-size=\"14.00\">samples = 1</text>\n",
       "<text text-anchor=\"middle\" x=\"638.5\" y=\"-610.3\" font-family=\"Times,serif\" font-size=\"14.00\">value = [0, 1, 0]</text>\n",
       "<text text-anchor=\"middle\" x=\"638.5\" y=\"-595.3\" font-family=\"Times,serif\" font-size=\"14.00\">class = 一般</text>\n",
       "</g>\n",
       "<!-- 40&#45;&gt;41 -->\n",
       "<g id=\"edge41\" class=\"edge\"><title>40&#45;&gt;41</title>\n",
       "<path fill=\"none\" stroke=\"black\" d=\"M639.806,-698.907C639.623,-688.204 639.425,-676.615 639.24,-665.776\"/>\n",
       "<polygon fill=\"black\" stroke=\"black\" points=\"642.737,-665.606 639.067,-655.667 635.738,-665.725 642.737,-665.606\"/>\n",
       "</g>\n",
       "<!-- 42 -->\n",
       "<g id=\"node43\" class=\"node\"><title>42</title>\n",
       "<polygon fill=\"#e58139\" stroke=\"black\" points=\"815.5,-655.5 709.5,-655.5 709.5,-587.5 815.5,-587.5 815.5,-655.5\"/>\n",
       "<text text-anchor=\"middle\" x=\"762.5\" y=\"-640.3\" font-family=\"Times,serif\" font-size=\"14.00\">gini = 0.0</text>\n",
       "<text text-anchor=\"middle\" x=\"762.5\" y=\"-625.3\" font-family=\"Times,serif\" font-size=\"14.00\">samples = 3</text>\n",
       "<text text-anchor=\"middle\" x=\"762.5\" y=\"-610.3\" font-family=\"Times,serif\" font-size=\"14.00\">value = [3, 0, 0]</text>\n",
       "<text text-anchor=\"middle\" x=\"762.5\" y=\"-595.3\" font-family=\"Times,serif\" font-size=\"14.00\">class = 差</text>\n",
       "</g>\n",
       "<!-- 40&#45;&gt;42 -->\n",
       "<g id=\"edge42\" class=\"edge\"><title>40&#45;&gt;42</title>\n",
       "<path fill=\"none\" stroke=\"black\" d=\"M682.827,-698.907C695.024,-687.211 708.322,-674.457 720.499,-662.78\"/>\n",
       "<polygon fill=\"black\" stroke=\"black\" points=\"723.121,-665.115 727.916,-655.667 718.276,-660.062 723.121,-665.115\"/>\n",
       "</g>\n",
       "<!-- 47 -->\n",
       "<g id=\"node48\" class=\"node\"><title>47</title>\n",
       "<polygon fill=\"#e58139\" stroke=\"black\" points=\"1020.5,-1131.5 914.5,-1131.5 914.5,-1063.5 1020.5,-1063.5 1020.5,-1131.5\"/>\n",
       "<text text-anchor=\"middle\" x=\"967.5\" y=\"-1116.3\" font-family=\"Times,serif\" font-size=\"14.00\">gini = 0.0</text>\n",
       "<text text-anchor=\"middle\" x=\"967.5\" y=\"-1101.3\" font-family=\"Times,serif\" font-size=\"14.00\">samples = 1</text>\n",
       "<text text-anchor=\"middle\" x=\"967.5\" y=\"-1086.3\" font-family=\"Times,serif\" font-size=\"14.00\">value = [1, 0, 0]</text>\n",
       "<text text-anchor=\"middle\" x=\"967.5\" y=\"-1071.3\" font-family=\"Times,serif\" font-size=\"14.00\">class = 差</text>\n",
       "</g>\n",
       "<!-- 46&#45;&gt;47 -->\n",
       "<g id=\"edge47\" class=\"edge\"><title>46&#45;&gt;47</title>\n",
       "<path fill=\"none\" stroke=\"black\" d=\"M1006.68,-1174.91C1001.02,-1163.87 994.883,-1151.9 989.178,-1140.77\"/>\n",
       "<polygon fill=\"black\" stroke=\"black\" points=\"992.186,-1138.97 984.509,-1131.67 985.958,-1142.16 992.186,-1138.97\"/>\n",
       "</g>\n",
       "<!-- 48 -->\n",
       "<g id=\"node49\" class=\"node\"><title>48</title>\n",
       "<polygon fill=\"#8139e5\" stroke=\"black\" points=\"1144.5,-1131.5 1038.5,-1131.5 1038.5,-1063.5 1144.5,-1063.5 1144.5,-1131.5\"/>\n",
       "<text text-anchor=\"middle\" x=\"1091.5\" y=\"-1116.3\" font-family=\"Times,serif\" font-size=\"14.00\">gini = 0.0</text>\n",
       "<text text-anchor=\"middle\" x=\"1091.5\" y=\"-1101.3\" font-family=\"Times,serif\" font-size=\"14.00\">samples = 2</text>\n",
       "<text text-anchor=\"middle\" x=\"1091.5\" y=\"-1086.3\" font-family=\"Times,serif\" font-size=\"14.00\">value = [0, 0, 2]</text>\n",
       "<text text-anchor=\"middle\" x=\"1091.5\" y=\"-1071.3\" font-family=\"Times,serif\" font-size=\"14.00\">class = 好</text>\n",
       "</g>\n",
       "<!-- 46&#45;&gt;48 -->\n",
       "<g id=\"edge48\" class=\"edge\"><title>46&#45;&gt;48</title>\n",
       "<path fill=\"none\" stroke=\"black\" d=\"M1049.7,-1174.91C1055.74,-1163.87 1062.29,-1151.9 1068.38,-1140.77\"/>\n",
       "<polygon fill=\"black\" stroke=\"black\" points=\"1071.63,-1142.12 1073.36,-1131.67 1065.49,-1138.76 1071.63,-1142.12\"/>\n",
       "</g>\n",
       "<!-- 50 -->\n",
       "<g id=\"node51\" class=\"node\"><title>50</title>\n",
       "<polygon fill=\"#7beeab\" stroke=\"black\" points=\"1268.5,-1258 1162.5,-1258 1162.5,-1175 1268.5,-1175 1268.5,-1258\"/>\n",
       "<text text-anchor=\"middle\" x=\"1215.5\" y=\"-1242.8\" font-family=\"Times,serif\" font-size=\"14.00\">size &lt;= 40.5</text>\n",
       "<text text-anchor=\"middle\" x=\"1215.5\" y=\"-1227.8\" font-family=\"Times,serif\" font-size=\"14.00\">gini = 0.375</text>\n",
       "<text text-anchor=\"middle\" x=\"1215.5\" y=\"-1212.8\" font-family=\"Times,serif\" font-size=\"14.00\">samples = 8</text>\n",
       "<text text-anchor=\"middle\" x=\"1215.5\" y=\"-1197.8\" font-family=\"Times,serif\" font-size=\"14.00\">value = [0, 6, 2]</text>\n",
       "<text text-anchor=\"middle\" x=\"1215.5\" y=\"-1182.8\" font-family=\"Times,serif\" font-size=\"14.00\">class = 一般</text>\n",
       "</g>\n",
       "<!-- 49&#45;&gt;50 -->\n",
       "<g id=\"edge50\" class=\"edge\"><title>49&#45;&gt;50</title>\n",
       "<path fill=\"none\" stroke=\"black\" d=\"M1215.5,-1293.91C1215.5,-1285.65 1215.5,-1276.86 1215.5,-1268.3\"/>\n",
       "<polygon fill=\"black\" stroke=\"black\" points=\"1219,-1268.02 1215.5,-1258.02 1212,-1268.02 1219,-1268.02\"/>\n",
       "</g>\n",
       "<!-- 53 -->\n",
       "<g id=\"node54\" class=\"node\"><title>53</title>\n",
       "<polygon fill=\"#8139e5\" stroke=\"black\" points=\"1392.5,-1250.5 1286.5,-1250.5 1286.5,-1182.5 1392.5,-1182.5 1392.5,-1250.5\"/>\n",
       "<text text-anchor=\"middle\" x=\"1339.5\" y=\"-1235.3\" font-family=\"Times,serif\" font-size=\"14.00\">gini = 0.0</text>\n",
       "<text text-anchor=\"middle\" x=\"1339.5\" y=\"-1220.3\" font-family=\"Times,serif\" font-size=\"14.00\">samples = 2</text>\n",
       "<text text-anchor=\"middle\" x=\"1339.5\" y=\"-1205.3\" font-family=\"Times,serif\" font-size=\"14.00\">value = [0, 0, 2]</text>\n",
       "<text text-anchor=\"middle\" x=\"1339.5\" y=\"-1190.3\" font-family=\"Times,serif\" font-size=\"14.00\">class = 好</text>\n",
       "</g>\n",
       "<!-- 49&#45;&gt;53 -->\n",
       "<g id=\"edge53\" class=\"edge\"><title>49&#45;&gt;53</title>\n",
       "<path fill=\"none\" stroke=\"black\" d=\"M1258.52,-1293.91C1270.92,-1282.21 1284.43,-1269.46 1296.81,-1257.78\"/>\n",
       "<polygon fill=\"black\" stroke=\"black\" points=\"1299.48,-1260.08 1304.35,-1250.67 1294.67,-1254.98 1299.48,-1260.08\"/>\n",
       "</g>\n",
       "<!-- 51 -->\n",
       "<g id=\"node52\" class=\"node\"><title>51</title>\n",
       "<polygon fill=\"#8139e5\" stroke=\"black\" points=\"1268.5,-1131.5 1162.5,-1131.5 1162.5,-1063.5 1268.5,-1063.5 1268.5,-1131.5\"/>\n",
       "<text text-anchor=\"middle\" x=\"1215.5\" y=\"-1116.3\" font-family=\"Times,serif\" font-size=\"14.00\">gini = 0.0</text>\n",
       "<text text-anchor=\"middle\" x=\"1215.5\" y=\"-1101.3\" font-family=\"Times,serif\" font-size=\"14.00\">samples = 2</text>\n",
       "<text text-anchor=\"middle\" x=\"1215.5\" y=\"-1086.3\" font-family=\"Times,serif\" font-size=\"14.00\">value = [0, 0, 2]</text>\n",
       "<text text-anchor=\"middle\" x=\"1215.5\" y=\"-1071.3\" font-family=\"Times,serif\" font-size=\"14.00\">class = 好</text>\n",
       "</g>\n",
       "<!-- 50&#45;&gt;51 -->\n",
       "<g id=\"edge51\" class=\"edge\"><title>50&#45;&gt;51</title>\n",
       "<path fill=\"none\" stroke=\"black\" d=\"M1215.5,-1174.91C1215.5,-1164.2 1215.5,-1152.62 1215.5,-1141.78\"/>\n",
       "<polygon fill=\"black\" stroke=\"black\" points=\"1219,-1141.67 1215.5,-1131.67 1212,-1141.67 1219,-1141.67\"/>\n",
       "</g>\n",
       "<!-- 52 -->\n",
       "<g id=\"node53\" class=\"node\"><title>52</title>\n",
       "<polygon fill=\"#39e581\" stroke=\"black\" points=\"1392.5,-1131.5 1286.5,-1131.5 1286.5,-1063.5 1392.5,-1063.5 1392.5,-1131.5\"/>\n",
       "<text text-anchor=\"middle\" x=\"1339.5\" y=\"-1116.3\" font-family=\"Times,serif\" font-size=\"14.00\">gini = 0.0</text>\n",
       "<text text-anchor=\"middle\" x=\"1339.5\" y=\"-1101.3\" font-family=\"Times,serif\" font-size=\"14.00\">samples = 6</text>\n",
       "<text text-anchor=\"middle\" x=\"1339.5\" y=\"-1086.3\" font-family=\"Times,serif\" font-size=\"14.00\">value = [0, 6, 0]</text>\n",
       "<text text-anchor=\"middle\" x=\"1339.5\" y=\"-1071.3\" font-family=\"Times,serif\" font-size=\"14.00\">class = 一般</text>\n",
       "</g>\n",
       "<!-- 50&#45;&gt;52 -->\n",
       "<g id=\"edge52\" class=\"edge\"><title>50&#45;&gt;52</title>\n",
       "<path fill=\"none\" stroke=\"black\" d=\"M1258.52,-1174.91C1270.92,-1163.21 1284.43,-1150.46 1296.81,-1138.78\"/>\n",
       "<polygon fill=\"black\" stroke=\"black\" points=\"1299.48,-1141.08 1304.35,-1131.67 1294.67,-1135.98 1299.48,-1141.08\"/>\n",
       "</g>\n",
       "<!-- 55 -->\n",
       "<g id=\"node56\" class=\"node\"><title>55</title>\n",
       "<polygon fill=\"#e9965a\" stroke=\"black\" points=\"1403.5,-1369.5 1297.5,-1369.5 1297.5,-1301.5 1403.5,-1301.5 1403.5,-1369.5\"/>\n",
       "<text text-anchor=\"middle\" x=\"1350.5\" y=\"-1354.3\" font-family=\"Times,serif\" font-size=\"14.00\">gini = 0.245</text>\n",
       "<text text-anchor=\"middle\" x=\"1350.5\" y=\"-1339.3\" font-family=\"Times,serif\" font-size=\"14.00\">samples = 7</text>\n",
       "<text text-anchor=\"middle\" x=\"1350.5\" y=\"-1324.3\" font-family=\"Times,serif\" font-size=\"14.00\">value = [6, 0, 1]</text>\n",
       "<text text-anchor=\"middle\" x=\"1350.5\" y=\"-1309.3\" font-family=\"Times,serif\" font-size=\"14.00\">class = 差</text>\n",
       "</g>\n",
       "<!-- 54&#45;&gt;55 -->\n",
       "<g id=\"edge55\" class=\"edge\"><title>54&#45;&gt;55</title>\n",
       "<path fill=\"none\" stroke=\"black\" d=\"M1353.77,-1412.91C1353.31,-1402.2 1352.81,-1390.62 1352.35,-1379.78\"/>\n",
       "<polygon fill=\"black\" stroke=\"black\" points=\"1355.84,-1379.51 1351.92,-1369.67 1348.85,-1379.81 1355.84,-1379.51\"/>\n",
       "</g>\n",
       "<!-- 56 -->\n",
       "<g id=\"node57\" class=\"node\"><title>56</title>\n",
       "<polygon fill=\"#39e581\" stroke=\"black\" points=\"1527.5,-1369.5 1421.5,-1369.5 1421.5,-1301.5 1527.5,-1301.5 1527.5,-1369.5\"/>\n",
       "<text text-anchor=\"middle\" x=\"1474.5\" y=\"-1354.3\" font-family=\"Times,serif\" font-size=\"14.00\">gini = 0.0</text>\n",
       "<text text-anchor=\"middle\" x=\"1474.5\" y=\"-1339.3\" font-family=\"Times,serif\" font-size=\"14.00\">samples = 1</text>\n",
       "<text text-anchor=\"middle\" x=\"1474.5\" y=\"-1324.3\" font-family=\"Times,serif\" font-size=\"14.00\">value = [0, 1, 0]</text>\n",
       "<text text-anchor=\"middle\" x=\"1474.5\" y=\"-1309.3\" font-family=\"Times,serif\" font-size=\"14.00\">class = 一般</text>\n",
       "</g>\n",
       "<!-- 54&#45;&gt;56 -->\n",
       "<g id=\"edge56\" class=\"edge\"><title>54&#45;&gt;56</title>\n",
       "<path fill=\"none\" stroke=\"black\" d=\"M1396.79,-1412.91C1408.68,-1401.21 1421.65,-1388.46 1433.53,-1376.78\"/>\n",
       "<polygon fill=\"black\" stroke=\"black\" points=\"1436.09,-1379.17 1440.77,-1369.67 1431.18,-1374.18 1436.09,-1379.17\"/>\n",
       "</g>\n",
       "<!-- 58 -->\n",
       "<g id=\"node59\" class=\"node\"><title>58</title>\n",
       "<polygon fill=\"#e58139\" stroke=\"black\" points=\"1544.5,-1488.5 1438.5,-1488.5 1438.5,-1420.5 1544.5,-1420.5 1544.5,-1488.5\"/>\n",
       "<text text-anchor=\"middle\" x=\"1491.5\" y=\"-1473.3\" font-family=\"Times,serif\" font-size=\"14.00\">gini = 0.0</text>\n",
       "<text text-anchor=\"middle\" x=\"1491.5\" y=\"-1458.3\" font-family=\"Times,serif\" font-size=\"14.00\">samples = 6</text>\n",
       "<text text-anchor=\"middle\" x=\"1491.5\" y=\"-1443.3\" font-family=\"Times,serif\" font-size=\"14.00\">value = [6, 0, 0]</text>\n",
       "<text text-anchor=\"middle\" x=\"1491.5\" y=\"-1428.3\" font-family=\"Times,serif\" font-size=\"14.00\">class = 差</text>\n",
       "</g>\n",
       "<!-- 57&#45;&gt;58 -->\n",
       "<g id=\"edge58\" class=\"edge\"><title>57&#45;&gt;58</title>\n",
       "<path fill=\"none\" stroke=\"black\" d=\"M1493.46,-1531.91C1493.18,-1521.2 1492.89,-1509.62 1492.61,-1498.78\"/>\n",
       "<polygon fill=\"black\" stroke=\"black\" points=\"1496.11,-1498.57 1492.35,-1488.67 1489.11,-1498.75 1496.11,-1498.57\"/>\n",
       "</g>\n",
       "<!-- 59 -->\n",
       "<g id=\"node60\" class=\"node\"><title>59</title>\n",
       "<polygon fill=\"#f6d5bd\" stroke=\"black\" points=\"1668.5,-1496 1562.5,-1496 1562.5,-1413 1668.5,-1413 1668.5,-1496\"/>\n",
       "<text text-anchor=\"middle\" x=\"1615.5\" y=\"-1480.8\" font-family=\"Times,serif\" font-size=\"14.00\">size &lt;= 19.5</text>\n",
       "<text text-anchor=\"middle\" x=\"1615.5\" y=\"-1465.8\" font-family=\"Times,serif\" font-size=\"14.00\">gini = 0.625</text>\n",
       "<text text-anchor=\"middle\" x=\"1615.5\" y=\"-1450.8\" font-family=\"Times,serif\" font-size=\"14.00\">samples = 4</text>\n",
       "<text text-anchor=\"middle\" x=\"1615.5\" y=\"-1435.8\" font-family=\"Times,serif\" font-size=\"14.00\">value = [2, 1, 1]</text>\n",
       "<text text-anchor=\"middle\" x=\"1615.5\" y=\"-1420.8\" font-family=\"Times,serif\" font-size=\"14.00\">class = 差</text>\n",
       "</g>\n",
       "<!-- 57&#45;&gt;59 -->\n",
       "<g id=\"edge59\" class=\"edge\"><title>57&#45;&gt;59</title>\n",
       "<path fill=\"none\" stroke=\"black\" d=\"M1536.48,-1531.91C1546.05,-1522.65 1556.31,-1512.73 1566.16,-1503.21\"/>\n",
       "<polygon fill=\"black\" stroke=\"black\" points=\"1568.84,-1505.49 1573.59,-1496.02 1563.97,-1500.46 1568.84,-1505.49\"/>\n",
       "</g>\n",
       "<!-- 60 -->\n",
       "<g id=\"node61\" class=\"node\"><title>60</title>\n",
       "<polygon fill=\"#e58139\" stroke=\"black\" points=\"1664.5,-1369.5 1558.5,-1369.5 1558.5,-1301.5 1664.5,-1301.5 1664.5,-1369.5\"/>\n",
       "<text text-anchor=\"middle\" x=\"1611.5\" y=\"-1354.3\" font-family=\"Times,serif\" font-size=\"14.00\">gini = 0.0</text>\n",
       "<text text-anchor=\"middle\" x=\"1611.5\" y=\"-1339.3\" font-family=\"Times,serif\" font-size=\"14.00\">samples = 2</text>\n",
       "<text text-anchor=\"middle\" x=\"1611.5\" y=\"-1324.3\" font-family=\"Times,serif\" font-size=\"14.00\">value = [2, 0, 0]</text>\n",
       "<text text-anchor=\"middle\" x=\"1611.5\" y=\"-1309.3\" font-family=\"Times,serif\" font-size=\"14.00\">class = 差</text>\n",
       "</g>\n",
       "<!-- 59&#45;&gt;60 -->\n",
       "<g id=\"edge60\" class=\"edge\"><title>59&#45;&gt;60</title>\n",
       "<path fill=\"none\" stroke=\"black\" d=\"M1614.11,-1412.91C1613.75,-1402.2 1613.35,-1390.62 1612.98,-1379.78\"/>\n",
       "<polygon fill=\"black\" stroke=\"black\" points=\"1616.47,-1379.54 1612.63,-1369.67 1609.48,-1379.78 1616.47,-1379.54\"/>\n",
       "</g>\n",
       "<!-- 61 -->\n",
       "<g id=\"node62\" class=\"node\"><title>61</title>\n",
       "<polygon fill=\"#ffffff\" stroke=\"black\" points=\"1788.5,-1377 1682.5,-1377 1682.5,-1294 1788.5,-1294 1788.5,-1377\"/>\n",
       "<text text-anchor=\"middle\" x=\"1735.5\" y=\"-1361.8\" font-family=\"Times,serif\" font-size=\"14.00\">size &lt;= 35.0</text>\n",
       "<text text-anchor=\"middle\" x=\"1735.5\" y=\"-1346.8\" font-family=\"Times,serif\" font-size=\"14.00\">gini = 0.5</text>\n",
       "<text text-anchor=\"middle\" x=\"1735.5\" y=\"-1331.8\" font-family=\"Times,serif\" font-size=\"14.00\">samples = 2</text>\n",
       "<text text-anchor=\"middle\" x=\"1735.5\" y=\"-1316.8\" font-family=\"Times,serif\" font-size=\"14.00\">value = [0, 1, 1]</text>\n",
       "<text text-anchor=\"middle\" x=\"1735.5\" y=\"-1301.8\" font-family=\"Times,serif\" font-size=\"14.00\">class = 一般</text>\n",
       "</g>\n",
       "<!-- 59&#45;&gt;61 -->\n",
       "<g id=\"edge61\" class=\"edge\"><title>59&#45;&gt;61</title>\n",
       "<path fill=\"none\" stroke=\"black\" d=\"M1657.13,-1412.91C1666.63,-1403.65 1676.8,-1393.73 1686.57,-1384.21\"/>\n",
       "<polygon fill=\"black\" stroke=\"black\" points=\"1689.22,-1386.51 1693.94,-1377.02 1684.34,-1381.5 1689.22,-1386.51\"/>\n",
       "</g>\n",
       "<!-- 62 -->\n",
       "<g id=\"node63\" class=\"node\"><title>62</title>\n",
       "<polygon fill=\"#39e581\" stroke=\"black\" points=\"1726.5,-1250.5 1620.5,-1250.5 1620.5,-1182.5 1726.5,-1182.5 1726.5,-1250.5\"/>\n",
       "<text text-anchor=\"middle\" x=\"1673.5\" y=\"-1235.3\" font-family=\"Times,serif\" font-size=\"14.00\">gini = 0.0</text>\n",
       "<text text-anchor=\"middle\" x=\"1673.5\" y=\"-1220.3\" font-family=\"Times,serif\" font-size=\"14.00\">samples = 1</text>\n",
       "<text text-anchor=\"middle\" x=\"1673.5\" y=\"-1205.3\" font-family=\"Times,serif\" font-size=\"14.00\">value = [0, 1, 0]</text>\n",
       "<text text-anchor=\"middle\" x=\"1673.5\" y=\"-1190.3\" font-family=\"Times,serif\" font-size=\"14.00\">class = 一般</text>\n",
       "</g>\n",
       "<!-- 61&#45;&gt;62 -->\n",
       "<g id=\"edge62\" class=\"edge\"><title>61&#45;&gt;62</title>\n",
       "<path fill=\"none\" stroke=\"black\" d=\"M1713.99,-1293.91C1708.14,-1282.87 1701.8,-1270.9 1695.9,-1259.77\"/>\n",
       "<polygon fill=\"black\" stroke=\"black\" points=\"1698.85,-1257.86 1691.08,-1250.67 1692.67,-1261.14 1698.85,-1257.86\"/>\n",
       "</g>\n",
       "<!-- 63 -->\n",
       "<g id=\"node64\" class=\"node\"><title>63</title>\n",
       "<polygon fill=\"#8139e5\" stroke=\"black\" points=\"1850.5,-1250.5 1744.5,-1250.5 1744.5,-1182.5 1850.5,-1182.5 1850.5,-1250.5\"/>\n",
       "<text text-anchor=\"middle\" x=\"1797.5\" y=\"-1235.3\" font-family=\"Times,serif\" font-size=\"14.00\">gini = 0.0</text>\n",
       "<text text-anchor=\"middle\" x=\"1797.5\" y=\"-1220.3\" font-family=\"Times,serif\" font-size=\"14.00\">samples = 1</text>\n",
       "<text text-anchor=\"middle\" x=\"1797.5\" y=\"-1205.3\" font-family=\"Times,serif\" font-size=\"14.00\">value = [0, 0, 1]</text>\n",
       "<text text-anchor=\"middle\" x=\"1797.5\" y=\"-1190.3\" font-family=\"Times,serif\" font-size=\"14.00\">class = 好</text>\n",
       "</g>\n",
       "<!-- 61&#45;&gt;63 -->\n",
       "<g id=\"edge63\" class=\"edge\"><title>61&#45;&gt;63</title>\n",
       "<path fill=\"none\" stroke=\"black\" d=\"M1757.01,-1293.91C1762.86,-1282.87 1769.2,-1270.9 1775.1,-1259.77\"/>\n",
       "<polygon fill=\"black\" stroke=\"black\" points=\"1778.33,-1261.14 1779.92,-1250.67 1772.15,-1257.86 1778.33,-1261.14\"/>\n",
       "</g>\n",
       "<!-- 65 -->\n",
       "<g id=\"node66\" class=\"node\"><title>65</title>\n",
       "<polygon fill=\"#9cf2c0\" stroke=\"black\" points=\"1792.5,-1615 1686.5,-1615 1686.5,-1532 1792.5,-1532 1792.5,-1615\"/>\n",
       "<text text-anchor=\"middle\" x=\"1739.5\" y=\"-1599.8\" font-family=\"Times,serif\" font-size=\"14.00\">size &lt;= 29.5</text>\n",
       "<text text-anchor=\"middle\" x=\"1739.5\" y=\"-1584.8\" font-family=\"Times,serif\" font-size=\"14.00\">gini = 0.444</text>\n",
       "<text text-anchor=\"middle\" x=\"1739.5\" y=\"-1569.8\" font-family=\"Times,serif\" font-size=\"14.00\">samples = 3</text>\n",
       "<text text-anchor=\"middle\" x=\"1739.5\" y=\"-1554.8\" font-family=\"Times,serif\" font-size=\"14.00\">value = [0, 2, 1]</text>\n",
       "<text text-anchor=\"middle\" x=\"1739.5\" y=\"-1539.8\" font-family=\"Times,serif\" font-size=\"14.00\">class = 一般</text>\n",
       "</g>\n",
       "<!-- 64&#45;&gt;65 -->\n",
       "<g id=\"edge65\" class=\"edge\"><title>64&#45;&gt;65</title>\n",
       "<path fill=\"none\" stroke=\"black\" d=\"M1739.5,-1650.91C1739.5,-1642.65 1739.5,-1633.86 1739.5,-1625.3\"/>\n",
       "<polygon fill=\"black\" stroke=\"black\" points=\"1743,-1625.02 1739.5,-1615.02 1736,-1625.02 1743,-1625.02\"/>\n",
       "</g>\n",
       "<!-- 68 -->\n",
       "<g id=\"node69\" class=\"node\"><title>68</title>\n",
       "<polygon fill=\"#8139e5\" stroke=\"black\" points=\"1916.5,-1607.5 1810.5,-1607.5 1810.5,-1539.5 1916.5,-1539.5 1916.5,-1607.5\"/>\n",
       "<text text-anchor=\"middle\" x=\"1863.5\" y=\"-1592.3\" font-family=\"Times,serif\" font-size=\"14.00\">gini = 0.0</text>\n",
       "<text text-anchor=\"middle\" x=\"1863.5\" y=\"-1577.3\" font-family=\"Times,serif\" font-size=\"14.00\">samples = 2</text>\n",
       "<text text-anchor=\"middle\" x=\"1863.5\" y=\"-1562.3\" font-family=\"Times,serif\" font-size=\"14.00\">value = [0, 0, 2]</text>\n",
       "<text text-anchor=\"middle\" x=\"1863.5\" y=\"-1547.3\" font-family=\"Times,serif\" font-size=\"14.00\">class = 好</text>\n",
       "</g>\n",
       "<!-- 64&#45;&gt;68 -->\n",
       "<g id=\"edge68\" class=\"edge\"><title>64&#45;&gt;68</title>\n",
       "<path fill=\"none\" stroke=\"black\" d=\"M1782.52,-1650.91C1794.92,-1639.21 1808.43,-1626.46 1820.81,-1614.78\"/>\n",
       "<polygon fill=\"black\" stroke=\"black\" points=\"1823.48,-1617.08 1828.35,-1607.67 1818.67,-1611.98 1823.48,-1617.08\"/>\n",
       "</g>\n",
       "<!-- 66 -->\n",
       "<g id=\"node67\" class=\"node\"><title>66</title>\n",
       "<polygon fill=\"#39e581\" stroke=\"black\" points=\"1792.5,-1488.5 1686.5,-1488.5 1686.5,-1420.5 1792.5,-1420.5 1792.5,-1488.5\"/>\n",
       "<text text-anchor=\"middle\" x=\"1739.5\" y=\"-1473.3\" font-family=\"Times,serif\" font-size=\"14.00\">gini = 0.0</text>\n",
       "<text text-anchor=\"middle\" x=\"1739.5\" y=\"-1458.3\" font-family=\"Times,serif\" font-size=\"14.00\">samples = 2</text>\n",
       "<text text-anchor=\"middle\" x=\"1739.5\" y=\"-1443.3\" font-family=\"Times,serif\" font-size=\"14.00\">value = [0, 2, 0]</text>\n",
       "<text text-anchor=\"middle\" x=\"1739.5\" y=\"-1428.3\" font-family=\"Times,serif\" font-size=\"14.00\">class = 一般</text>\n",
       "</g>\n",
       "<!-- 65&#45;&gt;66 -->\n",
       "<g id=\"edge66\" class=\"edge\"><title>65&#45;&gt;66</title>\n",
       "<path fill=\"none\" stroke=\"black\" d=\"M1739.5,-1531.91C1739.5,-1521.2 1739.5,-1509.62 1739.5,-1498.78\"/>\n",
       "<polygon fill=\"black\" stroke=\"black\" points=\"1743,-1498.67 1739.5,-1488.67 1736,-1498.67 1743,-1498.67\"/>\n",
       "</g>\n",
       "<!-- 67 -->\n",
       "<g id=\"node68\" class=\"node\"><title>67</title>\n",
       "<polygon fill=\"#8139e5\" stroke=\"black\" points=\"1916.5,-1488.5 1810.5,-1488.5 1810.5,-1420.5 1916.5,-1420.5 1916.5,-1488.5\"/>\n",
       "<text text-anchor=\"middle\" x=\"1863.5\" y=\"-1473.3\" font-family=\"Times,serif\" font-size=\"14.00\">gini = 0.0</text>\n",
       "<text text-anchor=\"middle\" x=\"1863.5\" y=\"-1458.3\" font-family=\"Times,serif\" font-size=\"14.00\">samples = 1</text>\n",
       "<text text-anchor=\"middle\" x=\"1863.5\" y=\"-1443.3\" font-family=\"Times,serif\" font-size=\"14.00\">value = [0, 0, 1]</text>\n",
       "<text text-anchor=\"middle\" x=\"1863.5\" y=\"-1428.3\" font-family=\"Times,serif\" font-size=\"14.00\">class = 好</text>\n",
       "</g>\n",
       "<!-- 65&#45;&gt;67 -->\n",
       "<g id=\"edge67\" class=\"edge\"><title>65&#45;&gt;67</title>\n",
       "<path fill=\"none\" stroke=\"black\" d=\"M1782.52,-1531.91C1794.92,-1520.21 1808.43,-1507.46 1820.81,-1495.78\"/>\n",
       "<polygon fill=\"black\" stroke=\"black\" points=\"1823.48,-1498.08 1828.35,-1488.67 1818.67,-1492.98 1823.48,-1498.08\"/>\n",
       "</g>\n",
       "<!-- 71 -->\n",
       "<g id=\"node72\" class=\"node\"><title>71</title>\n",
       "<polygon fill=\"#f2c09c\" stroke=\"black\" points=\"1860.5,-1972 1750.5,-1972 1750.5,-1889 1860.5,-1889 1860.5,-1972\"/>\n",
       "<text text-anchor=\"middle\" x=\"1805.5\" y=\"-1956.8\" font-family=\"Times,serif\" font-size=\"14.00\">english_2 &lt;= 0.5</text>\n",
       "<text text-anchor=\"middle\" x=\"1805.5\" y=\"-1941.8\" font-family=\"Times,serif\" font-size=\"14.00\">gini = 0.444</text>\n",
       "<text text-anchor=\"middle\" x=\"1805.5\" y=\"-1926.8\" font-family=\"Times,serif\" font-size=\"14.00\">samples = 3</text>\n",
       "<text text-anchor=\"middle\" x=\"1805.5\" y=\"-1911.8\" font-family=\"Times,serif\" font-size=\"14.00\">value = [2, 1, 0]</text>\n",
       "<text text-anchor=\"middle\" x=\"1805.5\" y=\"-1896.8\" font-family=\"Times,serif\" font-size=\"14.00\">class = 差</text>\n",
       "</g>\n",
       "<!-- 70&#45;&gt;71 -->\n",
       "<g id=\"edge71\" class=\"edge\"><title>70&#45;&gt;71</title>\n",
       "<path fill=\"none\" stroke=\"black\" d=\"M1805.5,-2007.91C1805.5,-1999.65 1805.5,-1990.86 1805.5,-1982.3\"/>\n",
       "<polygon fill=\"black\" stroke=\"black\" points=\"1809,-1982.02 1805.5,-1972.02 1802,-1982.02 1809,-1982.02\"/>\n",
       "</g>\n",
       "<!-- 74 -->\n",
       "<g id=\"node75\" class=\"node\"><title>74</title>\n",
       "<polygon fill=\"#9c63eb\" stroke=\"black\" points=\"2053,-1972 1940,-1972 1940,-1889 2053,-1889 2053,-1972\"/>\n",
       "<text text-anchor=\"middle\" x=\"1996.5\" y=\"-1956.8\" font-family=\"Times,serif\" font-size=\"14.00\">course_15 &lt;= 0.5</text>\n",
       "<text text-anchor=\"middle\" x=\"1996.5\" y=\"-1941.8\" font-family=\"Times,serif\" font-size=\"14.00\">gini = 0.291</text>\n",
       "<text text-anchor=\"middle\" x=\"1996.5\" y=\"-1926.8\" font-family=\"Times,serif\" font-size=\"14.00\">samples = 17</text>\n",
       "<text text-anchor=\"middle\" x=\"1996.5\" y=\"-1911.8\" font-family=\"Times,serif\" font-size=\"14.00\">value = [0, 3, 14]</text>\n",
       "<text text-anchor=\"middle\" x=\"1996.5\" y=\"-1896.8\" font-family=\"Times,serif\" font-size=\"14.00\">class = 好</text>\n",
       "</g>\n",
       "<!-- 70&#45;&gt;74 -->\n",
       "<g id=\"edge74\" class=\"edge\"><title>70&#45;&gt;74</title>\n",
       "<path fill=\"none\" stroke=\"black\" d=\"M1862.03,-2013.87C1883.69,-2000.61 1908.57,-1985.36 1931,-1971.63\"/>\n",
       "<polygon fill=\"black\" stroke=\"black\" points=\"1933.08,-1974.45 1939.78,-1966.24 1929.43,-1968.48 1933.08,-1974.45\"/>\n",
       "</g>\n",
       "<!-- 72 -->\n",
       "<g id=\"node73\" class=\"node\"><title>72</title>\n",
       "<polygon fill=\"#e58139\" stroke=\"black\" points=\"1797.5,-1845.5 1691.5,-1845.5 1691.5,-1777.5 1797.5,-1777.5 1797.5,-1845.5\"/>\n",
       "<text text-anchor=\"middle\" x=\"1744.5\" y=\"-1830.3\" font-family=\"Times,serif\" font-size=\"14.00\">gini = 0.0</text>\n",
       "<text text-anchor=\"middle\" x=\"1744.5\" y=\"-1815.3\" font-family=\"Times,serif\" font-size=\"14.00\">samples = 2</text>\n",
       "<text text-anchor=\"middle\" x=\"1744.5\" y=\"-1800.3\" font-family=\"Times,serif\" font-size=\"14.00\">value = [2, 0, 0]</text>\n",
       "<text text-anchor=\"middle\" x=\"1744.5\" y=\"-1785.3\" font-family=\"Times,serif\" font-size=\"14.00\">class = 差</text>\n",
       "</g>\n",
       "<!-- 71&#45;&gt;72 -->\n",
       "<g id=\"edge72\" class=\"edge\"><title>71&#45;&gt;72</title>\n",
       "<path fill=\"none\" stroke=\"black\" d=\"M1784.34,-1888.91C1778.58,-1877.87 1772.34,-1865.9 1766.54,-1854.77\"/>\n",
       "<polygon fill=\"black\" stroke=\"black\" points=\"1769.52,-1852.92 1761.79,-1845.67 1763.31,-1856.15 1769.52,-1852.92\"/>\n",
       "</g>\n",
       "<!-- 73 -->\n",
       "<g id=\"node74\" class=\"node\"><title>73</title>\n",
       "<polygon fill=\"#39e581\" stroke=\"black\" points=\"1921.5,-1845.5 1815.5,-1845.5 1815.5,-1777.5 1921.5,-1777.5 1921.5,-1845.5\"/>\n",
       "<text text-anchor=\"middle\" x=\"1868.5\" y=\"-1830.3\" font-family=\"Times,serif\" font-size=\"14.00\">gini = 0.0</text>\n",
       "<text text-anchor=\"middle\" x=\"1868.5\" y=\"-1815.3\" font-family=\"Times,serif\" font-size=\"14.00\">samples = 1</text>\n",
       "<text text-anchor=\"middle\" x=\"1868.5\" y=\"-1800.3\" font-family=\"Times,serif\" font-size=\"14.00\">value = [0, 1, 0]</text>\n",
       "<text text-anchor=\"middle\" x=\"1868.5\" y=\"-1785.3\" font-family=\"Times,serif\" font-size=\"14.00\">class = 一般</text>\n",
       "</g>\n",
       "<!-- 71&#45;&gt;73 -->\n",
       "<g id=\"edge73\" class=\"edge\"><title>71&#45;&gt;73</title>\n",
       "<path fill=\"none\" stroke=\"black\" d=\"M1827.36,-1888.91C1833.3,-1877.87 1839.75,-1865.9 1845.74,-1854.77\"/>\n",
       "<polygon fill=\"black\" stroke=\"black\" points=\"1848.98,-1856.13 1850.64,-1845.67 1842.82,-1852.81 1848.98,-1856.13\"/>\n",
       "</g>\n",
       "<!-- 75 -->\n",
       "<g id=\"node76\" class=\"node\"><title>75</title>\n",
       "<polygon fill=\"#8a47e7\" stroke=\"black\" points=\"2053,-1845.5 1940,-1845.5 1940,-1777.5 2053,-1777.5 2053,-1845.5\"/>\n",
       "<text text-anchor=\"middle\" x=\"1996.5\" y=\"-1830.3\" font-family=\"Times,serif\" font-size=\"14.00\">gini = 0.124</text>\n",
       "<text text-anchor=\"middle\" x=\"1996.5\" y=\"-1815.3\" font-family=\"Times,serif\" font-size=\"14.00\">samples = 15</text>\n",
       "<text text-anchor=\"middle\" x=\"1996.5\" y=\"-1800.3\" font-family=\"Times,serif\" font-size=\"14.00\">value = [0, 1, 14]</text>\n",
       "<text text-anchor=\"middle\" x=\"1996.5\" y=\"-1785.3\" font-family=\"Times,serif\" font-size=\"14.00\">class = 好</text>\n",
       "</g>\n",
       "<!-- 74&#45;&gt;75 -->\n",
       "<g id=\"edge75\" class=\"edge\"><title>74&#45;&gt;75</title>\n",
       "<path fill=\"none\" stroke=\"black\" d=\"M1996.5,-1888.91C1996.5,-1878.2 1996.5,-1866.62 1996.5,-1855.78\"/>\n",
       "<polygon fill=\"black\" stroke=\"black\" points=\"2000,-1855.67 1996.5,-1845.67 1993,-1855.67 2000,-1855.67\"/>\n",
       "</g>\n",
       "<!-- 76 -->\n",
       "<g id=\"node77\" class=\"node\"><title>76</title>\n",
       "<polygon fill=\"#39e581\" stroke=\"black\" points=\"2177.5,-1845.5 2071.5,-1845.5 2071.5,-1777.5 2177.5,-1777.5 2177.5,-1845.5\"/>\n",
       "<text text-anchor=\"middle\" x=\"2124.5\" y=\"-1830.3\" font-family=\"Times,serif\" font-size=\"14.00\">gini = 0.0</text>\n",
       "<text text-anchor=\"middle\" x=\"2124.5\" y=\"-1815.3\" font-family=\"Times,serif\" font-size=\"14.00\">samples = 2</text>\n",
       "<text text-anchor=\"middle\" x=\"2124.5\" y=\"-1800.3\" font-family=\"Times,serif\" font-size=\"14.00\">value = [0, 2, 0]</text>\n",
       "<text text-anchor=\"middle\" x=\"2124.5\" y=\"-1785.3\" font-family=\"Times,serif\" font-size=\"14.00\">class = 一般</text>\n",
       "</g>\n",
       "<!-- 74&#45;&gt;76 -->\n",
       "<g id=\"edge76\" class=\"edge\"><title>74&#45;&gt;76</title>\n",
       "<path fill=\"none\" stroke=\"black\" d=\"M2040.91,-1888.91C2053.83,-1877.1 2067.92,-1864.22 2080.79,-1852.45\"/>\n",
       "<polygon fill=\"black\" stroke=\"black\" points=\"2083.2,-1855 2088.21,-1845.67 2078.47,-1849.83 2083.2,-1855\"/>\n",
       "</g>\n",
       "</g>\n",
       "</svg>\n"
      ],
      "text/plain": [
       "<graphviz.files.Source at 0x7f8314580438>"
      ]
     },
     "execution_count": 48,
     "metadata": {},
     "output_type": "execute_result"
    }
   ],
   "source": [
    "taDot = tree.export_graphviz(taDtOptimal,feature_names=taTrainX.columns,class_names=['差','一般','好'],filled=True)\n",
    "taAnnOptimal.classes_\n",
    "taGraphviz = Source(taDot)\n",
    "taGraphviz"
   ]
  },
  {
   "cell_type": "markdown",
   "metadata": {
    "slideshow": {
     "slide_type": "slide"
    }
   },
   "source": [
    "#### 在完整训练集和检验集上检验"
   ]
  },
  {
   "cell_type": "code",
   "execution_count": 49,
   "metadata": {
    "slideshow": {
     "slide_type": "fragment"
    }
   },
   "outputs": [
    {
     "name": "stdout",
     "output_type": "stream",
     "text": [
      "筛选的决策树模型在完整训练集上的准确率是0.9646\n"
     ]
    }
   ],
   "source": [
    "print(f'筛选的决策树模型在完整训练集上的准确率是{metrics.accuracy_score(taTrainY,taDtOptimal.predict(taTrainX)):.4f}')"
   ]
  },
  {
   "cell_type": "code",
   "execution_count": 50,
   "metadata": {
    "slideshow": {
     "slide_type": "fragment"
    }
   },
   "outputs": [
    {
     "name": "stdout",
     "output_type": "stream",
     "text": [
      "筛选的决策树模型在检验集上的准确率是0.5000\n"
     ]
    }
   ],
   "source": [
    "print(f'筛选的决策树模型在检验集上的准确率是{metrics.accuracy_score(taTestY,taDtOptimal.predict(taTestX)):.4f}')"
   ]
  },
  {
   "cell_type": "markdown",
   "metadata": {
    "slideshow": {
     "slide_type": "slide"
    }
   },
   "source": [
    "## 分类技术在直接营销中的应用"
   ]
  },
  {
   "cell_type": "markdown",
   "metadata": {
    "slideshow": {
     "slide_type": "fragment"
    }
   },
   "source": [
    "- 一家银行开展一项直接营销的活动，通过电话联系客户让他们在该银行储蓄\n",
    "- 目标是预测一个客户是否会来该银行储蓄"
   ]
  },
  {
   "cell_type": "markdown",
   "metadata": {
    "slideshow": {
     "slide_type": "slide"
    }
   },
   "source": [
    "### 读取数据"
   ]
  },
  {
   "cell_type": "code",
   "execution_count": 51,
   "metadata": {
    "scrolled": true,
    "slideshow": {
     "slide_type": "fragment"
    }
   },
   "outputs": [
    {
     "data": {
      "text/html": [
       "<div>\n",
       "<style scoped>\n",
       "    .dataframe tbody tr th:only-of-type {\n",
       "        vertical-align: middle;\n",
       "    }\n",
       "\n",
       "    .dataframe tbody tr th {\n",
       "        vertical-align: top;\n",
       "    }\n",
       "\n",
       "    .dataframe thead th {\n",
       "        text-align: right;\n",
       "    }\n",
       "</style>\n",
       "<table border=\"1\" class=\"dataframe\">\n",
       "  <thead>\n",
       "    <tr style=\"text-align: right;\">\n",
       "      <th></th>\n",
       "      <th>age;\"job\";\"marital\";\"education\";\"default\";\"balance\";\"housing\";\"loan\";\"contact\";\"day\";\"month\";\"duration\";\"campaign\";\"pdays\";\"previous\";\"poutcome\";\"y\"</th>\n",
       "    </tr>\n",
       "  </thead>\n",
       "  <tbody>\n",
       "    <tr>\n",
       "      <th>0</th>\n",
       "      <td>30;\"unemployed\";\"married\";\"primary\";\"no\";1787;...</td>\n",
       "    </tr>\n",
       "    <tr>\n",
       "      <th>1</th>\n",
       "      <td>33;\"services\";\"married\";\"secondary\";\"no\";4789;...</td>\n",
       "    </tr>\n",
       "    <tr>\n",
       "      <th>2</th>\n",
       "      <td>35;\"management\";\"single\";\"tertiary\";\"no\";1350;...</td>\n",
       "    </tr>\n",
       "    <tr>\n",
       "      <th>3</th>\n",
       "      <td>30;\"management\";\"married\";\"tertiary\";\"no\";1476...</td>\n",
       "    </tr>\n",
       "    <tr>\n",
       "      <th>4</th>\n",
       "      <td>59;\"blue-collar\";\"married\";\"secondary\";\"no\";0;...</td>\n",
       "    </tr>\n",
       "  </tbody>\n",
       "</table>\n",
       "</div>"
      ],
      "text/plain": [
       "  age;\"job\";\"marital\";\"education\";\"default\";\"balance\";\"housing\";\"loan\";\"contact\";\"day\";\"month\";\"duration\";\"campaign\";\"pdays\";\"previous\";\"poutcome\";\"y\"\n",
       "0  30;\"unemployed\";\"married\";\"primary\";\"no\";1787;...                                                                                                  \n",
       "1  33;\"services\";\"married\";\"secondary\";\"no\";4789;...                                                                                                  \n",
       "2  35;\"management\";\"single\";\"tertiary\";\"no\";1350;...                                                                                                  \n",
       "3  30;\"management\";\"married\";\"tertiary\";\"no\";1476...                                                                                                  \n",
       "4  59;\"blue-collar\";\"married\";\"secondary\";\"no\";0;...                                                                                                  "
      ]
     },
     "execution_count": 51,
     "metadata": {},
     "output_type": "execute_result"
    }
   ],
   "source": [
    "dmDf = pd.read_csv('./data/classificationSupplement/bank_direct_marketing.csv')\n",
    "dmDf.head()"
   ]
  },
  {
   "cell_type": "markdown",
   "metadata": {
    "slideshow": {
     "slide_type": "fragment"
    }
   },
   "source": [
    "```python\n",
    "pd.read_csv(sep=',')\n",
    "```\n",
    "- `sep`：每行元素之间的分隔符，默认是逗号"
   ]
  },
  {
   "cell_type": "code",
   "execution_count": 52,
   "metadata": {
    "scrolled": true,
    "slideshow": {
     "slide_type": "fragment"
    }
   },
   "outputs": [
    {
     "data": {
      "text/html": [
       "<div>\n",
       "<style scoped>\n",
       "    .dataframe tbody tr th:only-of-type {\n",
       "        vertical-align: middle;\n",
       "    }\n",
       "\n",
       "    .dataframe tbody tr th {\n",
       "        vertical-align: top;\n",
       "    }\n",
       "\n",
       "    .dataframe thead th {\n",
       "        text-align: right;\n",
       "    }\n",
       "</style>\n",
       "<table border=\"1\" class=\"dataframe\">\n",
       "  <thead>\n",
       "    <tr style=\"text-align: right;\">\n",
       "      <th></th>\n",
       "      <th>age</th>\n",
       "      <th>job</th>\n",
       "      <th>marital</th>\n",
       "      <th>education</th>\n",
       "      <th>default</th>\n",
       "      <th>balance</th>\n",
       "      <th>housing</th>\n",
       "      <th>loan</th>\n",
       "      <th>contact</th>\n",
       "      <th>day</th>\n",
       "      <th>month</th>\n",
       "      <th>duration</th>\n",
       "      <th>campaign</th>\n",
       "      <th>pdays</th>\n",
       "      <th>previous</th>\n",
       "      <th>poutcome</th>\n",
       "      <th>y</th>\n",
       "    </tr>\n",
       "  </thead>\n",
       "  <tbody>\n",
       "    <tr>\n",
       "      <th>0</th>\n",
       "      <td>30</td>\n",
       "      <td>unemployed</td>\n",
       "      <td>married</td>\n",
       "      <td>primary</td>\n",
       "      <td>no</td>\n",
       "      <td>1787</td>\n",
       "      <td>no</td>\n",
       "      <td>no</td>\n",
       "      <td>cellular</td>\n",
       "      <td>19</td>\n",
       "      <td>oct</td>\n",
       "      <td>79</td>\n",
       "      <td>1</td>\n",
       "      <td>-1</td>\n",
       "      <td>0</td>\n",
       "      <td>unknown</td>\n",
       "      <td>no</td>\n",
       "    </tr>\n",
       "    <tr>\n",
       "      <th>1</th>\n",
       "      <td>33</td>\n",
       "      <td>services</td>\n",
       "      <td>married</td>\n",
       "      <td>secondary</td>\n",
       "      <td>no</td>\n",
       "      <td>4789</td>\n",
       "      <td>yes</td>\n",
       "      <td>yes</td>\n",
       "      <td>cellular</td>\n",
       "      <td>11</td>\n",
       "      <td>may</td>\n",
       "      <td>220</td>\n",
       "      <td>1</td>\n",
       "      <td>339</td>\n",
       "      <td>4</td>\n",
       "      <td>failure</td>\n",
       "      <td>no</td>\n",
       "    </tr>\n",
       "    <tr>\n",
       "      <th>2</th>\n",
       "      <td>35</td>\n",
       "      <td>management</td>\n",
       "      <td>single</td>\n",
       "      <td>tertiary</td>\n",
       "      <td>no</td>\n",
       "      <td>1350</td>\n",
       "      <td>yes</td>\n",
       "      <td>no</td>\n",
       "      <td>cellular</td>\n",
       "      <td>16</td>\n",
       "      <td>apr</td>\n",
       "      <td>185</td>\n",
       "      <td>1</td>\n",
       "      <td>330</td>\n",
       "      <td>1</td>\n",
       "      <td>failure</td>\n",
       "      <td>no</td>\n",
       "    </tr>\n",
       "    <tr>\n",
       "      <th>3</th>\n",
       "      <td>30</td>\n",
       "      <td>management</td>\n",
       "      <td>married</td>\n",
       "      <td>tertiary</td>\n",
       "      <td>no</td>\n",
       "      <td>1476</td>\n",
       "      <td>yes</td>\n",
       "      <td>yes</td>\n",
       "      <td>unknown</td>\n",
       "      <td>3</td>\n",
       "      <td>jun</td>\n",
       "      <td>199</td>\n",
       "      <td>4</td>\n",
       "      <td>-1</td>\n",
       "      <td>0</td>\n",
       "      <td>unknown</td>\n",
       "      <td>no</td>\n",
       "    </tr>\n",
       "    <tr>\n",
       "      <th>4</th>\n",
       "      <td>59</td>\n",
       "      <td>blue-collar</td>\n",
       "      <td>married</td>\n",
       "      <td>secondary</td>\n",
       "      <td>no</td>\n",
       "      <td>0</td>\n",
       "      <td>yes</td>\n",
       "      <td>no</td>\n",
       "      <td>unknown</td>\n",
       "      <td>5</td>\n",
       "      <td>may</td>\n",
       "      <td>226</td>\n",
       "      <td>1</td>\n",
       "      <td>-1</td>\n",
       "      <td>0</td>\n",
       "      <td>unknown</td>\n",
       "      <td>no</td>\n",
       "    </tr>\n",
       "  </tbody>\n",
       "</table>\n",
       "</div>"
      ],
      "text/plain": [
       "   age          job  marital  education default  balance housing loan  \\\n",
       "0   30   unemployed  married    primary      no     1787      no   no   \n",
       "1   33     services  married  secondary      no     4789     yes  yes   \n",
       "2   35   management   single   tertiary      no     1350     yes   no   \n",
       "3   30   management  married   tertiary      no     1476     yes  yes   \n",
       "4   59  blue-collar  married  secondary      no        0     yes   no   \n",
       "\n",
       "    contact  day month  duration  campaign  pdays  previous poutcome   y  \n",
       "0  cellular   19   oct        79         1     -1         0  unknown  no  \n",
       "1  cellular   11   may       220         1    339         4  failure  no  \n",
       "2  cellular   16   apr       185         1    330         1  failure  no  \n",
       "3   unknown    3   jun       199         4     -1         0  unknown  no  \n",
       "4   unknown    5   may       226         1     -1         0  unknown  no  "
      ]
     },
     "execution_count": 52,
     "metadata": {},
     "output_type": "execute_result"
    }
   ],
   "source": [
    "dmDf = pd.read_csv('./data/classificationSupplement/bank_direct_marketing.csv',sep=';')\n",
    "dmDf.head()"
   ]
  },
  {
   "cell_type": "markdown",
   "metadata": {
    "slideshow": {
     "slide_type": "fragment"
    }
   },
   "source": [
    "属性名称|含义|取值\n",
    "---|---|---\n",
    "age|年龄|数值型\n",
    "job|工作|标称型\n",
    "marital|婚姻状况|标称型\n",
    "education|教育水平|序列型\n",
    "default|是否有违约行为|二元型,yes或no\n",
    "balance|平均年账户余额|数值型\n",
    "housing|是否有购房贷款|二元型，yes或no\n",
    "loan|是否有个人贷款|二元型,yes或no\n",
    "contact|联系方式|标称型\n",
    "day|在此次营销中最后一次与客户电话沟通发生在本月的第几天|数值型\n",
    "month|在此次营销中最后一次与客户电话沟通发生在本年度的第几月|区间型\n",
    "duration|在此次营销中最后一次与客户电话沟通的时间长度|数值型\n",
    "campaign|在此次营销活动中与该客户沟通的次数|数值型\n",
    "pdays|在上一次营销活动中该客户沟通距现在的天数|数值型，-1表示没有被沟通\n",
    "previous|在此次营销活动之前该客户被沟通的次数|数值型\n",
    "poutcome|上次营销活动的结果|标称型\n",
    "y|该客户是否申请了定期储蓄|二元型，yes或no"
   ]
  },
  {
   "cell_type": "code",
   "execution_count": 53,
   "metadata": {
    "scrolled": false,
    "slideshow": {
     "slide_type": "fragment"
    }
   },
   "outputs": [
    {
     "data": {
      "text/plain": [
       "(4521, 17)"
      ]
     },
     "execution_count": 53,
     "metadata": {},
     "output_type": "execute_result"
    },
    {
     "data": {
      "text/plain": [
       "age           int64\n",
       "job          object\n",
       "marital      object\n",
       "education    object\n",
       "default      object\n",
       "balance       int64\n",
       "housing      object\n",
       "loan         object\n",
       "contact      object\n",
       "day           int64\n",
       "month        object\n",
       "duration      int64\n",
       "campaign      int64\n",
       "pdays         int64\n",
       "previous      int64\n",
       "poutcome     object\n",
       "y            object\n",
       "dtype: object"
      ]
     },
     "execution_count": 53,
     "metadata": {},
     "output_type": "execute_result"
    }
   ],
   "source": [
    "dmDf.shape\n",
    "dmDf.dtypes"
   ]
  },
  {
   "cell_type": "markdown",
   "metadata": {
    "slideshow": {
     "slide_type": "slide"
    }
   },
   "source": [
    "### 探索数据"
   ]
  },
  {
   "cell_type": "code",
   "execution_count": 54,
   "metadata": {
    "scrolled": true,
    "slideshow": {
     "slide_type": "fragment"
    }
   },
   "outputs": [
    {
     "data": {
      "text/plain": [
       "<matplotlib.axes._subplots.AxesSubplot at 0x7f8317aea588>"
      ]
     },
     "execution_count": 54,
     "metadata": {},
     "output_type": "execute_result"
    },
    {
     "data": {
      "image/png": "[encoded data removed]",
      "text/plain": [
       "<Figure size 864x432 with 1 Axes>"
      ]
     },
     "metadata": {},
     "output_type": "display_data"
    }
   ],
   "source": [
    "dmDf['y'].value_counts().plot(kind='pie',figsize=(12,6),autopct='%.2f%%')"
   ]
  },
  {
   "cell_type": "code",
   "execution_count": 55,
   "metadata": {
    "scrolled": true,
    "slideshow": {
     "slide_type": "fragment"
    }
   },
   "outputs": [
    {
     "data": {
      "text/plain": [
       "<matplotlib.axes._subplots.AxesSubplot at 0x7f8317b1d320>"
      ]
     },
     "execution_count": 55,
     "metadata": {},
     "output_type": "execute_result"
    },
    {
     "data": {
      "image/png": "[encoded data removed]",
      "text/plain": [
       "<Figure size 864x432 with 1 Axes>"
      ]
     },
     "metadata": {},
     "output_type": "display_data"
    }
   ],
   "source": [
    "dmDf.loc[dmDf['y']=='yes','age'].plot(kind='hist',bins=30,figsize=(12,6),title='选择存储客户的年龄分布')"
   ]
  },
  {
   "cell_type": "code",
   "execution_count": 56,
   "metadata": {},
   "outputs": [
    {
     "data": {
      "text/plain": [
       "<matplotlib.axes._subplots.AxesSubplot at 0x7f8317198fd0>"
      ]
     },
     "execution_count": 56,
     "metadata": {},
     "output_type": "execute_result"
    },
    {
     "data": {
      "image/png": "[encoded data removed]",
      "text/plain": [
       "<Figure size 864x432 with 1 Axes>"
      ]
     },
     "metadata": {},
     "output_type": "display_data"
    }
   ],
   "source": [
    "dmDf.loc[dmDf['y']=='yes','balance'].plot(kind='hist',bins=30,figsize=(12,6),title='选择存储客户的账户余额分布')"
   ]
  },
  {
   "cell_type": "code",
   "execution_count": 57,
   "metadata": {
    "slideshow": {
     "slide_type": "fragment"
    }
   },
   "outputs": [
    {
     "data": {
      "text/plain": [
       "<matplotlib.axes._subplots.AxesSubplot at 0x7f830dee48d0>"
      ]
     },
     "execution_count": 57,
     "metadata": {},
     "output_type": "execute_result"
    },
    {
     "data": {
      "image/png": "[encoded data removed]",
      "text/plain": [
       "<Figure size 864x432 with 1 Axes>"
      ]
     },
     "metadata": {},
     "output_type": "display_data"
    }
   ],
   "source": [
    "dmDf.loc[dmDf['y']=='yes','job'].value_counts().plot(kind='bar',figsize=(12,6),title='选择存储客户的工作状况')"
   ]
  },
  {
   "cell_type": "code",
   "execution_count": 58,
   "metadata": {
    "slideshow": {
     "slide_type": "fragment"
    }
   },
   "outputs": [
    {
     "data": {
      "text/plain": [
       "<matplotlib.axes._subplots.AxesSubplot at 0x7f830ddee6d8>"
      ]
     },
     "execution_count": 58,
     "metadata": {},
     "output_type": "execute_result"
    },
    {
     "data": {
      "image/png": "[encoded data removed]",
      "text/plain": [
       "<Figure size 864x432 with 1 Axes>"
      ]
     },
     "metadata": {},
     "output_type": "display_data"
    }
   ],
   "source": [
    "dmDf.loc[dmDf['y']=='yes','marital'].value_counts().plot(kind='bar',figsize=(12,6),title='选择存储客户的婚姻状况')"
   ]
  },
  {
   "cell_type": "code",
   "execution_count": 59,
   "metadata": {
    "slideshow": {
     "slide_type": "slide"
    }
   },
   "outputs": [
    {
     "data": {
      "text/plain": [
       "<matplotlib.axes._subplots.AxesSubplot at 0x7f830ddc4cc0>"
      ]
     },
     "execution_count": 59,
     "metadata": {},
     "output_type": "execute_result"
    },
    {
     "data": {
      "image/png": "[encoded data removed]",
      "text/plain": [
       "<Figure size 864x432 with 1 Axes>"
      ]
     },
     "metadata": {},
     "output_type": "display_data"
    }
   ],
   "source": [
    "dmDf.loc[dmDf['y']=='yes','education'].value_counts().plot(kind='bar',figsize=(12,6),title='选择存储客户的教育状况')"
   ]
  },
  {
   "cell_type": "code",
   "execution_count": 60,
   "metadata": {
    "scrolled": true,
    "slideshow": {
     "slide_type": "fragment"
    }
   },
   "outputs": [
    {
     "data": {
      "text/plain": [
       "<matplotlib.axes._subplots.AxesSubplot at 0x7f830dd38630>"
      ]
     },
     "execution_count": 60,
     "metadata": {},
     "output_type": "execute_result"
    },
    {
     "data": {
      "image/png": "[encoded data removed]",
      "text/plain": [
       "<Figure size 864x432 with 1 Axes>"
      ]
     },
     "metadata": {},
     "output_type": "display_data"
    }
   ],
   "source": [
    "dmDf.loc[dmDf['y']=='yes','contact'].value_counts().plot(kind='bar',figsize=(12,6),title='与选择存储客户的沟通方式')"
   ]
  },
  {
   "cell_type": "markdown",
   "metadata": {
    "slideshow": {
     "slide_type": "slide"
    }
   },
   "source": [
    "### 维度规约"
   ]
  },
  {
   "cell_type": "markdown",
   "metadata": {
    "slideshow": {
     "slide_type": "fragment"
    }
   },
   "source": [
    "#### 为什么要维度规约？"
   ]
  },
  {
   "cell_type": "markdown",
   "metadata": {
    "slideshow": {
     "slide_type": "fragment"
    }
   },
   "source": [
    "- 降低维度灾难（curse of dimensionality）"
   ]
  },
  {
   "cell_type": "markdown",
   "metadata": {
    "slideshow": {
     "slide_type": "fragment"
    }
   },
   "source": [
    "<dl class=\"row alert-danger\">\n",
    "    <dt class=\"col-md-4\">维度灾难</dt>\n",
    "    <dd class=\"col-md-8\">随着属性数量的增加，没有足够多的数据点创建模型，很多数据挖掘算法的效果显著降低</dd>\n",
    "</dl>"
   ]
  },
  {
   "cell_type": "markdown",
   "metadata": {
    "slideshow": {
     "slide_type": "fragment"
    }
   },
   "source": [
    "- 降低过度拟合\n",
    "    + 属性过多，形成的分类规则复杂，过度适应训练集"
   ]
  },
  {
   "cell_type": "markdown",
   "metadata": {
    "slideshow": {
     "slide_type": "slide"
    }
   },
   "source": [
    "#### 维度规约的方法"
   ]
  },
  {
   "cell_type": "markdown",
   "metadata": {
    "slideshow": {
     "slide_type": "fragment"
    }
   },
   "source": [
    "<center><img src=\"./img/classificationSupplement/dimension_reduction.png\" width=40%></center>"
   ]
  },
  {
   "cell_type": "markdown",
   "metadata": {
    "slideshow": {
     "slide_type": "fragment"
    }
   },
   "source": [
    "- 特征选择的原因\n",
    "    + **不相关特征**：一些属性与分类结果无关，例如学生ID与学生成绩没有明显联系\n",
    "    + **冗余特征**：若干个属性之间信息重复，例如购买的产品价格与支付的消费税都包含了同样的信息"
   ]
  },
  {
   "cell_type": "markdown",
   "metadata": {
    "slideshow": {
     "slide_type": "fragment"
    }
   },
   "source": [
    "- 特征选择的方法\n",
    "    + 领域知识判断\n",
    "    + 单变量统计检验：判断每个属性与分类变量之间的相关性\n",
    "    + 嵌入到数据挖掘过程中：一些挖掘算法本身在计算过程中会筛选属性，例如决策树"
   ]
  },
  {
   "cell_type": "markdown",
   "metadata": {
    "slideshow": {
     "slide_type": "slide"
    }
   },
   "source": [
    "- 特征提取的原因\n",
    "    + **共线性问题**：一些属性之间高度相关，影响例如回归分析中的系数准确性"
   ]
  },
  {
   "cell_type": "markdown",
   "metadata": {
    "slideshow": {
     "slide_type": "fragment"
    }
   },
   "source": [
    "- 特征提取的方法\n",
    "    + 主成分分析（Principal component analysis, PCA）：将原始属性通过线性变换为互相正交的少数主成分，即新属性"
   ]
  },
  {
   "cell_type": "markdown",
   "metadata": {
    "slideshow": {
     "slide_type": "slide"
    }
   },
   "source": [
    "#### 单变量统计筛选属性"
   ]
  },
  {
   "cell_type": "markdown",
   "metadata": {
    "slideshow": {
     "slide_type": "fragment"
    }
   },
   "source": [
    "##### 标称、序列型属性与分类结果的线性相关性检验"
   ]
  },
  {
   "cell_type": "code",
   "execution_count": 61,
   "metadata": {
    "slideshow": {
     "slide_type": "slide"
    }
   },
   "outputs": [],
   "source": [
    "from scipy import stats"
   ]
  },
  {
   "cell_type": "code",
   "execution_count": 62,
   "metadata": {
    "slideshow": {
     "slide_type": "fragment"
    }
   },
   "outputs": [
    {
     "data": {
      "text/html": [
       "<div>\n",
       "<style scoped>\n",
       "    .dataframe tbody tr th:only-of-type {\n",
       "        vertical-align: middle;\n",
       "    }\n",
       "\n",
       "    .dataframe tbody tr th {\n",
       "        vertical-align: top;\n",
       "    }\n",
       "\n",
       "    .dataframe thead th {\n",
       "        text-align: right;\n",
       "    }\n",
       "</style>\n",
       "<table border=\"1\" class=\"dataframe\">\n",
       "  <thead>\n",
       "    <tr style=\"text-align: right;\">\n",
       "      <th>y</th>\n",
       "      <th>no</th>\n",
       "      <th>yes</th>\n",
       "      <th>All</th>\n",
       "    </tr>\n",
       "    <tr>\n",
       "      <th>job</th>\n",
       "      <th></th>\n",
       "      <th></th>\n",
       "      <th></th>\n",
       "    </tr>\n",
       "  </thead>\n",
       "  <tbody>\n",
       "    <tr>\n",
       "      <th>admin.</th>\n",
       "      <td>420</td>\n",
       "      <td>58</td>\n",
       "      <td>478</td>\n",
       "    </tr>\n",
       "    <tr>\n",
       "      <th>blue-collar</th>\n",
       "      <td>877</td>\n",
       "      <td>69</td>\n",
       "      <td>946</td>\n",
       "    </tr>\n",
       "    <tr>\n",
       "      <th>entrepreneur</th>\n",
       "      <td>153</td>\n",
       "      <td>15</td>\n",
       "      <td>168</td>\n",
       "    </tr>\n",
       "    <tr>\n",
       "      <th>housemaid</th>\n",
       "      <td>98</td>\n",
       "      <td>14</td>\n",
       "      <td>112</td>\n",
       "    </tr>\n",
       "    <tr>\n",
       "      <th>management</th>\n",
       "      <td>838</td>\n",
       "      <td>131</td>\n",
       "      <td>969</td>\n",
       "    </tr>\n",
       "    <tr>\n",
       "      <th>retired</th>\n",
       "      <td>176</td>\n",
       "      <td>54</td>\n",
       "      <td>230</td>\n",
       "    </tr>\n",
       "    <tr>\n",
       "      <th>self-employed</th>\n",
       "      <td>163</td>\n",
       "      <td>20</td>\n",
       "      <td>183</td>\n",
       "    </tr>\n",
       "    <tr>\n",
       "      <th>services</th>\n",
       "      <td>379</td>\n",
       "      <td>38</td>\n",
       "      <td>417</td>\n",
       "    </tr>\n",
       "    <tr>\n",
       "      <th>student</th>\n",
       "      <td>65</td>\n",
       "      <td>19</td>\n",
       "      <td>84</td>\n",
       "    </tr>\n",
       "    <tr>\n",
       "      <th>technician</th>\n",
       "      <td>685</td>\n",
       "      <td>83</td>\n",
       "      <td>768</td>\n",
       "    </tr>\n",
       "    <tr>\n",
       "      <th>unemployed</th>\n",
       "      <td>115</td>\n",
       "      <td>13</td>\n",
       "      <td>128</td>\n",
       "    </tr>\n",
       "    <tr>\n",
       "      <th>unknown</th>\n",
       "      <td>31</td>\n",
       "      <td>7</td>\n",
       "      <td>38</td>\n",
       "    </tr>\n",
       "    <tr>\n",
       "      <th>All</th>\n",
       "      <td>4000</td>\n",
       "      <td>521</td>\n",
       "      <td>4521</td>\n",
       "    </tr>\n",
       "  </tbody>\n",
       "</table>\n",
       "</div>"
      ],
      "text/plain": [
       "y                no  yes   All\n",
       "job                           \n",
       "admin.          420   58   478\n",
       "blue-collar     877   69   946\n",
       "entrepreneur    153   15   168\n",
       "housemaid        98   14   112\n",
       "management      838  131   969\n",
       "retired         176   54   230\n",
       "self-employed   163   20   183\n",
       "services        379   38   417\n",
       "student          65   19    84\n",
       "technician      685   83   768\n",
       "unemployed      115   13   128\n",
       "unknown          31    7    38\n",
       "All            4000  521  4521"
      ]
     },
     "execution_count": 62,
     "metadata": {},
     "output_type": "execute_result"
    }
   ],
   "source": [
    "crtJob = pd.crosstab(dmDf['job'],dmDf['y'],margins=True)\n",
    "crtJob"
   ]
  },
  {
   "cell_type": "code",
   "execution_count": 63,
   "metadata": {
    "slideshow": {
     "slide_type": "fragment"
    }
   },
   "outputs": [
    {
     "name": "stdout",
     "output_type": "stream",
     "text": [
      "卡方值为68.988,p值为0.000\n"
     ]
    }
   ],
   "source": [
    "chiJob,pvJob,_,_ = stats.chi2_contingency(crtJob)\n",
    "print(f'卡方值为{chiJob:.3f},p值为{pvJob:.3f}')"
   ]
  },
  {
   "cell_type": "code",
   "execution_count": 64,
   "metadata": {
    "scrolled": true,
    "slideshow": {
     "slide_type": "slide"
    }
   },
   "outputs": [
    {
     "name": "stdout",
     "output_type": "stream",
     "text": [
      "job和存储与否的卡方值为68.988,p值为0.000\n",
      "marital和存储与否的卡方值为19.030,p值为0.004\n",
      "default和存储与否的卡方值为0.008,p值为1.000\n",
      "housing和存储与否的卡方值为49.544,p值为0.000\n",
      "loan和存储与否的卡方值为22.481,p值为0.000\n",
      "contact和存储与否的卡方值为87.870,p值为0.000\n",
      "poutcome和存储与否的卡方值为386.877,p值为0.000\n"
     ]
    }
   ],
   "source": [
    "for each in ['job','marital','default','housing','loan','contact','poutcome']:\n",
    "    crtb = pd.crosstab(dmDf[each],dmDf['y'],margins=True)\n",
    "    chi,pv,_,_ = stats.chi2_contingency(crtb)\n",
    "    print(f'{each}和存储与否的卡方值为{chi:.3f},p值为{pv:.3f}')"
   ]
  },
  {
   "cell_type": "markdown",
   "metadata": {
    "slideshow": {
     "slide_type": "slide"
    }
   },
   "source": [
    "##### 区间、比率型属性与分类结果的线性相关性检验"
   ]
  },
  {
   "cell_type": "markdown",
   "metadata": {
    "slideshow": {
     "slide_type": "slide"
    }
   },
   "source": [
    "###### 将分类结果转变为数值型"
   ]
  },
  {
   "cell_type": "code",
   "execution_count": 65,
   "metadata": {
    "slideshow": {
     "slide_type": "fragment"
    }
   },
   "outputs": [
    {
     "data": {
      "text/plain": [
       "array(['no', 'yes'], dtype=object)"
      ]
     },
     "execution_count": 65,
     "metadata": {},
     "output_type": "execute_result"
    }
   ],
   "source": [
    "dmDf['y'].unique()"
   ]
  },
  {
   "cell_type": "markdown",
   "metadata": {
    "slideshow": {
     "slide_type": "fragment"
    }
   },
   "source": [
    "```python\n",
    "pandas.factorize(values, sort = False, na_sentinel = -1)\n",
    "```\n",
    "- `values`：需要转换的分类属性\n",
    "- `sort`：是否对类别排序\n",
    "- `na_sentinel`：替换需要转换的分类属性中的缺失值\n",
    "- 返回包含两个元素的元组，分别是转换为数值的属性、原属性中的所有独特类别"
   ]
  },
  {
   "cell_type": "code",
   "execution_count": 66,
   "metadata": {
    "slideshow": {
     "slide_type": "fragment"
    }
   },
   "outputs": [
    {
     "data": {
      "text/plain": [
       "array([0, 0, 0, ..., 0, 0, 0])"
      ]
     },
     "execution_count": 66,
     "metadata": {},
     "output_type": "execute_result"
    }
   ],
   "source": [
    "yVal,_ = pd.factorize(dmDf['y'],sort=True)\n",
    "yVal"
   ]
  },
  {
   "cell_type": "markdown",
   "metadata": {
    "slideshow": {
     "slide_type": "slide"
    }
   },
   "source": [
    "###### 将序列属性转换为数值"
   ]
  },
  {
   "cell_type": "code",
   "execution_count": 67,
   "metadata": {
    "slideshow": {
     "slide_type": "fragment"
    }
   },
   "outputs": [
    {
     "data": {
      "text/plain": [
       "array(['primary', 'secondary', 'tertiary', 'unknown'], dtype=object)"
      ]
     },
     "execution_count": 67,
     "metadata": {},
     "output_type": "execute_result"
    },
    {
     "data": {
      "text/plain": [
       "array(['oct', 'may', 'apr', 'jun', 'feb', 'aug', 'jan', 'jul', 'nov',\n",
       "       'sep', 'mar', 'dec'], dtype=object)"
      ]
     },
     "execution_count": 67,
     "metadata": {},
     "output_type": "execute_result"
    }
   ],
   "source": [
    "dmDf['education'].unique()\n",
    "dmDf['month'].unique()"
   ]
  },
  {
   "cell_type": "code",
   "execution_count": 68,
   "metadata": {
    "scrolled": false,
    "slideshow": {
     "slide_type": "fragment"
    }
   },
   "outputs": [
    {
     "data": {
      "text/html": [
       "<div>\n",
       "<style scoped>\n",
       "    .dataframe tbody tr th:only-of-type {\n",
       "        vertical-align: middle;\n",
       "    }\n",
       "\n",
       "    .dataframe tbody tr th {\n",
       "        vertical-align: top;\n",
       "    }\n",
       "\n",
       "    .dataframe thead th {\n",
       "        text-align: right;\n",
       "    }\n",
       "</style>\n",
       "<table border=\"1\" class=\"dataframe\">\n",
       "  <thead>\n",
       "    <tr style=\"text-align: right;\">\n",
       "      <th></th>\n",
       "      <th>age</th>\n",
       "      <th>job</th>\n",
       "      <th>marital</th>\n",
       "      <th>education</th>\n",
       "      <th>default</th>\n",
       "      <th>balance</th>\n",
       "      <th>housing</th>\n",
       "      <th>loan</th>\n",
       "      <th>contact</th>\n",
       "      <th>day</th>\n",
       "      <th>month</th>\n",
       "      <th>duration</th>\n",
       "      <th>campaign</th>\n",
       "      <th>pdays</th>\n",
       "      <th>previous</th>\n",
       "      <th>poutcome</th>\n",
       "      <th>y</th>\n",
       "    </tr>\n",
       "  </thead>\n",
       "  <tbody>\n",
       "    <tr>\n",
       "      <th>0</th>\n",
       "      <td>30</td>\n",
       "      <td>unemployed</td>\n",
       "      <td>married</td>\n",
       "      <td>1</td>\n",
       "      <td>no</td>\n",
       "      <td>1787</td>\n",
       "      <td>no</td>\n",
       "      <td>no</td>\n",
       "      <td>cellular</td>\n",
       "      <td>19</td>\n",
       "      <td>10</td>\n",
       "      <td>79</td>\n",
       "      <td>1</td>\n",
       "      <td>-1</td>\n",
       "      <td>0</td>\n",
       "      <td>unknown</td>\n",
       "      <td>no</td>\n",
       "    </tr>\n",
       "    <tr>\n",
       "      <th>1</th>\n",
       "      <td>33</td>\n",
       "      <td>services</td>\n",
       "      <td>married</td>\n",
       "      <td>2</td>\n",
       "      <td>no</td>\n",
       "      <td>4789</td>\n",
       "      <td>yes</td>\n",
       "      <td>yes</td>\n",
       "      <td>cellular</td>\n",
       "      <td>11</td>\n",
       "      <td>5</td>\n",
       "      <td>220</td>\n",
       "      <td>1</td>\n",
       "      <td>339</td>\n",
       "      <td>4</td>\n",
       "      <td>failure</td>\n",
       "      <td>no</td>\n",
       "    </tr>\n",
       "    <tr>\n",
       "      <th>2</th>\n",
       "      <td>35</td>\n",
       "      <td>management</td>\n",
       "      <td>single</td>\n",
       "      <td>3</td>\n",
       "      <td>no</td>\n",
       "      <td>1350</td>\n",
       "      <td>yes</td>\n",
       "      <td>no</td>\n",
       "      <td>cellular</td>\n",
       "      <td>16</td>\n",
       "      <td>4</td>\n",
       "      <td>185</td>\n",
       "      <td>1</td>\n",
       "      <td>330</td>\n",
       "      <td>1</td>\n",
       "      <td>failure</td>\n",
       "      <td>no</td>\n",
       "    </tr>\n",
       "    <tr>\n",
       "      <th>3</th>\n",
       "      <td>30</td>\n",
       "      <td>management</td>\n",
       "      <td>married</td>\n",
       "      <td>3</td>\n",
       "      <td>no</td>\n",
       "      <td>1476</td>\n",
       "      <td>yes</td>\n",
       "      <td>yes</td>\n",
       "      <td>unknown</td>\n",
       "      <td>3</td>\n",
       "      <td>6</td>\n",
       "      <td>199</td>\n",
       "      <td>4</td>\n",
       "      <td>-1</td>\n",
       "      <td>0</td>\n",
       "      <td>unknown</td>\n",
       "      <td>no</td>\n",
       "    </tr>\n",
       "    <tr>\n",
       "      <th>4</th>\n",
       "      <td>59</td>\n",
       "      <td>blue-collar</td>\n",
       "      <td>married</td>\n",
       "      <td>2</td>\n",
       "      <td>no</td>\n",
       "      <td>0</td>\n",
       "      <td>yes</td>\n",
       "      <td>no</td>\n",
       "      <td>unknown</td>\n",
       "      <td>5</td>\n",
       "      <td>5</td>\n",
       "      <td>226</td>\n",
       "      <td>1</td>\n",
       "      <td>-1</td>\n",
       "      <td>0</td>\n",
       "      <td>unknown</td>\n",
       "      <td>no</td>\n",
       "    </tr>\n",
       "  </tbody>\n",
       "</table>\n",
       "</div>"
      ],
      "text/plain": [
       "   age          job  marital  education default  balance housing loan  \\\n",
       "0   30   unemployed  married          1      no     1787      no   no   \n",
       "1   33     services  married          2      no     4789     yes  yes   \n",
       "2   35   management   single          3      no     1350     yes   no   \n",
       "3   30   management  married          3      no     1476     yes  yes   \n",
       "4   59  blue-collar  married          2      no        0     yes   no   \n",
       "\n",
       "    contact  day  month  duration  campaign  pdays  previous poutcome   y  \n",
       "0  cellular   19     10        79         1     -1         0  unknown  no  \n",
       "1  cellular   11      5       220         1    339         4  failure  no  \n",
       "2  cellular   16      4       185         1    330         1  failure  no  \n",
       "3   unknown    3      6       199         4     -1         0  unknown  no  \n",
       "4   unknown    5      5       226         1     -1         0  unknown  no  "
      ]
     },
     "execution_count": 68,
     "metadata": {},
     "output_type": "execute_result"
    }
   ],
   "source": [
    "dmDf['education'].replace({'primary':1,'secondary':2,'tertiary':3,'unknown':0},inplace=True)\n",
    "dmDf['month'].replace({'jan':1,'feb':2,'mar':3,'apr':4,'may':5,'jun':6,'jul':7,'aug':8,'sep':9,'oct':10,'nov':11,'dec':12},inplace=True)\n",
    "dmDf.head()"
   ]
  },
  {
   "cell_type": "code",
   "execution_count": 69,
   "metadata": {
    "scrolled": true,
    "slideshow": {
     "slide_type": "slide"
    }
   },
   "outputs": [
    {
     "name": "stdout",
     "output_type": "stream",
     "text": [
      "age和存储与否的相关系数是0.045，显著性是0.002\n",
      "education和存储与否的相关系数是0.050，显著性是0.001\n",
      "balance和存储与否的相关系数是0.018，显著性是0.229\n",
      "day和存储与否的相关系数是-0.011，显著性是0.450\n",
      "duration和存储与否的相关系数是0.401，显著性是0.000\n",
      "campaign和存储与否的相关系数是-0.061，显著性是0.000\n",
      "month和存储与否的相关系数是0.023，显著性是0.117\n",
      "pdays和存储与否的相关系数是0.104，显著性是0.000\n",
      "previous和存储与否的相关系数是0.117，显著性是0.000\n"
     ]
    }
   ],
   "source": [
    "for each in ['age','education','balance','day','duration','campaign','month','pdays','previous']:\n",
    "    r,pv = stats.pearsonr(dmDf[each],yVal)\n",
    "    print(f'{each}和存储与否的相关系数是{r:.3f}，显著性是{pv:.3f}')"
   ]
  },
  {
   "cell_type": "code",
   "execution_count": 70,
   "metadata": {
    "scrolled": false,
    "slideshow": {
     "slide_type": "slide"
    }
   },
   "outputs": [
    {
     "data": {
      "text/html": [
       "<div>\n",
       "<style scoped>\n",
       "    .dataframe tbody tr th:only-of-type {\n",
       "        vertical-align: middle;\n",
       "    }\n",
       "\n",
       "    .dataframe tbody tr th {\n",
       "        vertical-align: top;\n",
       "    }\n",
       "\n",
       "    .dataframe thead th {\n",
       "        text-align: right;\n",
       "    }\n",
       "</style>\n",
       "<table border=\"1\" class=\"dataframe\">\n",
       "  <thead>\n",
       "    <tr style=\"text-align: right;\">\n",
       "      <th></th>\n",
       "      <th>age</th>\n",
       "      <th>job</th>\n",
       "      <th>marital</th>\n",
       "      <th>education</th>\n",
       "      <th>housing</th>\n",
       "      <th>loan</th>\n",
       "      <th>contact</th>\n",
       "      <th>campaign</th>\n",
       "      <th>pdays</th>\n",
       "      <th>previous</th>\n",
       "      <th>poutcome</th>\n",
       "    </tr>\n",
       "  </thead>\n",
       "  <tbody>\n",
       "    <tr>\n",
       "      <th>0</th>\n",
       "      <td>30</td>\n",
       "      <td>unemployed</td>\n",
       "      <td>married</td>\n",
       "      <td>1</td>\n",
       "      <td>no</td>\n",
       "      <td>no</td>\n",
       "      <td>cellular</td>\n",
       "      <td>1</td>\n",
       "      <td>-1</td>\n",
       "      <td>0</td>\n",
       "      <td>unknown</td>\n",
       "    </tr>\n",
       "    <tr>\n",
       "      <th>1</th>\n",
       "      <td>33</td>\n",
       "      <td>services</td>\n",
       "      <td>married</td>\n",
       "      <td>2</td>\n",
       "      <td>yes</td>\n",
       "      <td>yes</td>\n",
       "      <td>cellular</td>\n",
       "      <td>1</td>\n",
       "      <td>339</td>\n",
       "      <td>4</td>\n",
       "      <td>failure</td>\n",
       "    </tr>\n",
       "    <tr>\n",
       "      <th>2</th>\n",
       "      <td>35</td>\n",
       "      <td>management</td>\n",
       "      <td>single</td>\n",
       "      <td>3</td>\n",
       "      <td>yes</td>\n",
       "      <td>no</td>\n",
       "      <td>cellular</td>\n",
       "      <td>1</td>\n",
       "      <td>330</td>\n",
       "      <td>1</td>\n",
       "      <td>failure</td>\n",
       "    </tr>\n",
       "    <tr>\n",
       "      <th>3</th>\n",
       "      <td>30</td>\n",
       "      <td>management</td>\n",
       "      <td>married</td>\n",
       "      <td>3</td>\n",
       "      <td>yes</td>\n",
       "      <td>yes</td>\n",
       "      <td>unknown</td>\n",
       "      <td>4</td>\n",
       "      <td>-1</td>\n",
       "      <td>0</td>\n",
       "      <td>unknown</td>\n",
       "    </tr>\n",
       "    <tr>\n",
       "      <th>4</th>\n",
       "      <td>59</td>\n",
       "      <td>blue-collar</td>\n",
       "      <td>married</td>\n",
       "      <td>2</td>\n",
       "      <td>yes</td>\n",
       "      <td>no</td>\n",
       "      <td>unknown</td>\n",
       "      <td>1</td>\n",
       "      <td>-1</td>\n",
       "      <td>0</td>\n",
       "      <td>unknown</td>\n",
       "    </tr>\n",
       "  </tbody>\n",
       "</table>\n",
       "</div>"
      ],
      "text/plain": [
       "   age          job  marital  education housing loan   contact  campaign  \\\n",
       "0   30   unemployed  married          1      no   no  cellular         1   \n",
       "1   33     services  married          2     yes  yes  cellular         1   \n",
       "2   35   management   single          3     yes   no  cellular         1   \n",
       "3   30   management  married          3     yes  yes   unknown         4   \n",
       "4   59  blue-collar  married          2     yes   no   unknown         1   \n",
       "\n",
       "   pdays  previous poutcome  \n",
       "0     -1         0  unknown  \n",
       "1    339         4  failure  \n",
       "2    330         1  failure  \n",
       "3     -1         0  unknown  \n",
       "4     -1         0  unknown  "
      ]
     },
     "execution_count": 70,
     "metadata": {},
     "output_type": "execute_result"
    },
    {
     "data": {
      "text/plain": [
       "0    no\n",
       "1    no\n",
       "2    no\n",
       "3    no\n",
       "4    no\n",
       "Name: y, dtype: object"
      ]
     },
     "execution_count": 70,
     "metadata": {},
     "output_type": "execute_result"
    }
   ],
   "source": [
    "dmX = dmDf.loc[:,['age','job','marital','education','housing','loan','contact','campaign','pdays','previous','poutcome']]\n",
    "dmY = dmDf['y']\n",
    "dmX.head()\n",
    "dmY.head()"
   ]
  },
  {
   "cell_type": "markdown",
   "metadata": {
    "slideshow": {
     "slide_type": "slide"
    }
   },
   "source": [
    "### 数据预处理"
   ]
  },
  {
   "cell_type": "markdown",
   "metadata": {
    "slideshow": {
     "slide_type": "slide"
    }
   },
   "source": [
    "#### `one-hot`编码"
   ]
  },
  {
   "cell_type": "code",
   "execution_count": 71,
   "metadata": {
    "scrolled": true,
    "slideshow": {
     "slide_type": "fragment"
    }
   },
   "outputs": [
    {
     "data": {
      "text/html": [
       "<div>\n",
       "<style scoped>\n",
       "    .dataframe tbody tr th:only-of-type {\n",
       "        vertical-align: middle;\n",
       "    }\n",
       "\n",
       "    .dataframe tbody tr th {\n",
       "        vertical-align: top;\n",
       "    }\n",
       "\n",
       "    .dataframe thead th {\n",
       "        text-align: right;\n",
       "    }\n",
       "</style>\n",
       "<table border=\"1\" class=\"dataframe\">\n",
       "  <thead>\n",
       "    <tr style=\"text-align: right;\">\n",
       "      <th></th>\n",
       "      <th>age</th>\n",
       "      <th>education</th>\n",
       "      <th>campaign</th>\n",
       "      <th>pdays</th>\n",
       "      <th>previous</th>\n",
       "      <th>job_admin.</th>\n",
       "      <th>job_blue-collar</th>\n",
       "      <th>job_entrepreneur</th>\n",
       "      <th>job_housemaid</th>\n",
       "      <th>job_management</th>\n",
       "      <th>...</th>\n",
       "      <th>housing_yes</th>\n",
       "      <th>loan_no</th>\n",
       "      <th>loan_yes</th>\n",
       "      <th>contact_cellular</th>\n",
       "      <th>contact_telephone</th>\n",
       "      <th>contact_unknown</th>\n",
       "      <th>poutcome_failure</th>\n",
       "      <th>poutcome_other</th>\n",
       "      <th>poutcome_success</th>\n",
       "      <th>poutcome_unknown</th>\n",
       "    </tr>\n",
       "  </thead>\n",
       "  <tbody>\n",
       "    <tr>\n",
       "      <th>0</th>\n",
       "      <td>30</td>\n",
       "      <td>1</td>\n",
       "      <td>1</td>\n",
       "      <td>-1</td>\n",
       "      <td>0</td>\n",
       "      <td>0</td>\n",
       "      <td>0</td>\n",
       "      <td>0</td>\n",
       "      <td>0</td>\n",
       "      <td>0</td>\n",
       "      <td>...</td>\n",
       "      <td>0</td>\n",
       "      <td>1</td>\n",
       "      <td>0</td>\n",
       "      <td>1</td>\n",
       "      <td>0</td>\n",
       "      <td>0</td>\n",
       "      <td>0</td>\n",
       "      <td>0</td>\n",
       "      <td>0</td>\n",
       "      <td>1</td>\n",
       "    </tr>\n",
       "    <tr>\n",
       "      <th>1</th>\n",
       "      <td>33</td>\n",
       "      <td>2</td>\n",
       "      <td>1</td>\n",
       "      <td>339</td>\n",
       "      <td>4</td>\n",
       "      <td>0</td>\n",
       "      <td>0</td>\n",
       "      <td>0</td>\n",
       "      <td>0</td>\n",
       "      <td>0</td>\n",
       "      <td>...</td>\n",
       "      <td>1</td>\n",
       "      <td>0</td>\n",
       "      <td>1</td>\n",
       "      <td>1</td>\n",
       "      <td>0</td>\n",
       "      <td>0</td>\n",
       "      <td>1</td>\n",
       "      <td>0</td>\n",
       "      <td>0</td>\n",
       "      <td>0</td>\n",
       "    </tr>\n",
       "    <tr>\n",
       "      <th>2</th>\n",
       "      <td>35</td>\n",
       "      <td>3</td>\n",
       "      <td>1</td>\n",
       "      <td>330</td>\n",
       "      <td>1</td>\n",
       "      <td>0</td>\n",
       "      <td>0</td>\n",
       "      <td>0</td>\n",
       "      <td>0</td>\n",
       "      <td>1</td>\n",
       "      <td>...</td>\n",
       "      <td>1</td>\n",
       "      <td>1</td>\n",
       "      <td>0</td>\n",
       "      <td>1</td>\n",
       "      <td>0</td>\n",
       "      <td>0</td>\n",
       "      <td>1</td>\n",
       "      <td>0</td>\n",
       "      <td>0</td>\n",
       "      <td>0</td>\n",
       "    </tr>\n",
       "    <tr>\n",
       "      <th>3</th>\n",
       "      <td>30</td>\n",
       "      <td>3</td>\n",
       "      <td>4</td>\n",
       "      <td>-1</td>\n",
       "      <td>0</td>\n",
       "      <td>0</td>\n",
       "      <td>0</td>\n",
       "      <td>0</td>\n",
       "      <td>0</td>\n",
       "      <td>1</td>\n",
       "      <td>...</td>\n",
       "      <td>1</td>\n",
       "      <td>0</td>\n",
       "      <td>1</td>\n",
       "      <td>0</td>\n",
       "      <td>0</td>\n",
       "      <td>1</td>\n",
       "      <td>0</td>\n",
       "      <td>0</td>\n",
       "      <td>0</td>\n",
       "      <td>1</td>\n",
       "    </tr>\n",
       "    <tr>\n",
       "      <th>4</th>\n",
       "      <td>59</td>\n",
       "      <td>2</td>\n",
       "      <td>1</td>\n",
       "      <td>-1</td>\n",
       "      <td>0</td>\n",
       "      <td>0</td>\n",
       "      <td>1</td>\n",
       "      <td>0</td>\n",
       "      <td>0</td>\n",
       "      <td>0</td>\n",
       "      <td>...</td>\n",
       "      <td>1</td>\n",
       "      <td>1</td>\n",
       "      <td>0</td>\n",
       "      <td>0</td>\n",
       "      <td>0</td>\n",
       "      <td>1</td>\n",
       "      <td>0</td>\n",
       "      <td>0</td>\n",
       "      <td>0</td>\n",
       "      <td>1</td>\n",
       "    </tr>\n",
       "  </tbody>\n",
       "</table>\n",
       "<p>5 rows × 31 columns</p>\n",
       "</div>"
      ],
      "text/plain": [
       "   age  education  campaign  pdays  previous  job_admin.  job_blue-collar  \\\n",
       "0   30          1         1     -1         0           0                0   \n",
       "1   33          2         1    339         4           0                0   \n",
       "2   35          3         1    330         1           0                0   \n",
       "3   30          3         4     -1         0           0                0   \n",
       "4   59          2         1     -1         0           0                1   \n",
       "\n",
       "   job_entrepreneur  job_housemaid  job_management  ...  housing_yes  loan_no  \\\n",
       "0                 0              0               0  ...            0        1   \n",
       "1                 0              0               0  ...            1        0   \n",
       "2                 0              0               1  ...            1        1   \n",
       "3                 0              0               1  ...            1        0   \n",
       "4                 0              0               0  ...            1        1   \n",
       "\n",
       "   loan_yes  contact_cellular  contact_telephone  contact_unknown  \\\n",
       "0         0                 1                  0                0   \n",
       "1         1                 1                  0                0   \n",
       "2         0                 1                  0                0   \n",
       "3         1                 0                  0                1   \n",
       "4         0                 0                  0                1   \n",
       "\n",
       "   poutcome_failure  poutcome_other  poutcome_success  poutcome_unknown  \n",
       "0                 0               0                 0                 1  \n",
       "1                 1               0                 0                 0  \n",
       "2                 1               0                 0                 0  \n",
       "3                 0               0                 0                 1  \n",
       "4                 0               0                 0                 1  \n",
       "\n",
       "[5 rows x 31 columns]"
      ]
     },
     "execution_count": 71,
     "metadata": {},
     "output_type": "execute_result"
    }
   ],
   "source": [
    "dmXOH = pd.get_dummies(dmX,columns=['job','marital','housing','loan','contact','poutcome'])\n",
    "dmXOH.head()"
   ]
  },
  {
   "cell_type": "markdown",
   "metadata": {
    "slideshow": {
     "slide_type": "slide"
    }
   },
   "source": [
    "### 划分训练集与检验集"
   ]
  },
  {
   "cell_type": "code",
   "execution_count": 72,
   "metadata": {
    "slideshow": {
     "slide_type": "fragment"
    }
   },
   "outputs": [],
   "source": [
    "dmTrX,dmTeX,dmTrY,dmTeY = train_test_split(dmXOH,dmY,test_size=0.25,stratify=dmY,random_state=10)"
   ]
  },
  {
   "cell_type": "markdown",
   "metadata": {
    "slideshow": {
     "slide_type": "slide"
    }
   },
   "source": [
    "### 建立神经网络模型"
   ]
  },
  {
   "cell_type": "markdown",
   "metadata": {
    "slideshow": {
     "slide_type": "fragment"
    }
   },
   "source": [
    "- 隐藏层神经元初始数量"
   ]
  },
  {
   "cell_type": "code",
   "execution_count": 73,
   "metadata": {
    "slideshow": {
     "slide_type": "fragment"
    }
   },
   "outputs": [
    {
     "data": {
      "text/plain": [
       "5.916079783099616"
      ]
     },
     "execution_count": 73,
     "metadata": {},
     "output_type": "execute_result"
    }
   ],
   "source": [
    "np.sqrt(35*1)"
   ]
  },
  {
   "cell_type": "markdown",
   "metadata": {
    "slideshow": {
     "slide_type": "fragment"
    }
   },
   "source": [
    "#### 建立管道模型"
   ]
  },
  {
   "cell_type": "code",
   "execution_count": 74,
   "metadata": {
    "slideshow": {
     "slide_type": "fragment"
    }
   },
   "outputs": [],
   "source": [
    "dmPipe = Pipeline([\n",
    "    ('scl',StandardScaler()),\n",
    "    ('ann',MLPClassifier(hidden_layer_sizes=(6,),solver='adam',activation='relu',learning_rate='constant',max_iter=3000,random_state=12))\n",
    "])"
   ]
  },
  {
   "cell_type": "markdown",
   "metadata": {
    "slideshow": {
     "slide_type": "fragment"
    }
   },
   "source": [
    "#### 网格搜索最优参数"
   ]
  },
  {
   "cell_type": "markdown",
   "metadata": {
    "slideshow": {
     "slide_type": "fragment"
    }
   },
   "source": [
    "##### 自定义得分函数\n",
    "- 处理`pos_label`默认值不是1的情况"
   ]
  },
  {
   "cell_type": "markdown",
   "metadata": {
    "slideshow": {
     "slide_type": "fragment"
    }
   },
   "source": [
    "```python\n",
    "metrics.make_scorer(score_func, **kwargs)\n",
    "```\n",
    "- `score_func`：分类性能函数\n",
    "- `**kwargs`：`score_func`需要的参数\n",
    "- 例如，如果`score_func=f1_score`，那么`**kwargs`位置则可写`pos_label='yes'`"
   ]
  },
  {
   "cell_type": "code",
   "execution_count": 75,
   "metadata": {
    "slideshow": {
     "slide_type": "fragment"
    }
   },
   "outputs": [],
   "source": [
    "from sklearn.metrics import recall_score,make_scorer"
   ]
  },
  {
   "cell_type": "code",
   "execution_count": 76,
   "metadata": {
    "slideshow": {
     "slide_type": "fragment"
    }
   },
   "outputs": [],
   "source": [
    "recall_scorer = make_scorer(recall_score, pos_label='yes')"
   ]
  },
  {
   "cell_type": "code",
   "execution_count": 77,
   "metadata": {
    "slideshow": {
     "slide_type": "fragment"
    }
   },
   "outputs": [],
   "source": [
    "dmParams = {\n",
    "    'ann__hidden_layer_sizes':range(6,62,10),\n",
    "    'ann__solver':['adam'],\n",
    "    'ann__activation':['relu','logistic'],\n",
    "}"
   ]
  },
  {
   "cell_type": "code",
   "execution_count": 78,
   "metadata": {
    "slideshow": {
     "slide_type": "fragment"
    }
   },
   "outputs": [],
   "source": [
    "dmGs = GridSearchCV(estimator=dmPipe,param_grid=dmParams,scoring=recall_scorer,cv=5,n_jobs=-1)"
   ]
  },
  {
   "cell_type": "code",
   "execution_count": 79,
   "metadata": {
    "slideshow": {
     "slide_type": "fragment"
    }
   },
   "outputs": [
    {
     "name": "stdout",
     "output_type": "stream",
     "text": [
      "CPU times: user 14.2 s, sys: 8.18 s, total: 22.4 s\n",
      "Wall time: 2min 2s\n"
     ]
    },
    {
     "data": {
      "text/plain": [
       "GridSearchCV(cv=5, error_score=nan,\n",
       "             estimator=Pipeline(memory=None,\n",
       "                                steps=[('scl',\n",
       "                                        StandardScaler(copy=True,\n",
       "                                                       with_mean=True,\n",
       "                                                       with_std=True)),\n",
       "                                       ('ann',\n",
       "                                        MLPClassifier(activation='relu',\n",
       "                                                      alpha=0.0001,\n",
       "                                                      batch_size='auto',\n",
       "                                                      beta_1=0.9, beta_2=0.999,\n",
       "                                                      early_stopping=False,\n",
       "                                                      epsilon=1e-08,\n",
       "                                                      hidden_layer_sizes=(6,),\n",
       "                                                      learning_rate='constant',\n",
       "                                                      learning_rate_init=0.001,\n",
       "                                                      max_fun=1500...\n",
       "                                                      solver='adam', tol=0.0001,\n",
       "                                                      validation_fraction=0.1,\n",
       "                                                      verbose=False,\n",
       "                                                      warm_start=False))],\n",
       "                                verbose=False),\n",
       "             iid='deprecated', n_jobs=-1,\n",
       "             param_grid={'ann__activation': ['relu', 'logistic'],\n",
       "                         'ann__hidden_layer_sizes': range(6, 62, 10),\n",
       "                         'ann__solver': ['adam']},\n",
       "             pre_dispatch='2*n_jobs', refit=True, return_train_score=False,\n",
       "             scoring=make_scorer(recall_score, pos_label=yes), verbose=0)"
      ]
     },
     "execution_count": 79,
     "metadata": {},
     "output_type": "execute_result"
    }
   ],
   "source": [
    "%%time\n",
    "dmGs.fit(dmTrX,dmTrY)"
   ]
  },
  {
   "cell_type": "code",
   "execution_count": 80,
   "metadata": {
    "slideshow": {
     "slide_type": "fragment"
    }
   },
   "outputs": [
    {
     "data": {
      "text/plain": [
       "{'ann__activation': 'relu',\n",
       " 'ann__hidden_layer_sizes': 56,\n",
       " 'ann__solver': 'adam'}"
      ]
     },
     "execution_count": 80,
     "metadata": {},
     "output_type": "execute_result"
    }
   ],
   "source": [
    "dmGs.best_params_"
   ]
  },
  {
   "cell_type": "code",
   "execution_count": 81,
   "metadata": {
    "slideshow": {
     "slide_type": "fragment"
    }
   },
   "outputs": [
    {
     "data": {
      "text/plain": [
       "0.16864654333008763"
      ]
     },
     "execution_count": 81,
     "metadata": {},
     "output_type": "execute_result"
    }
   ],
   "source": [
    "dmGs.best_score_"
   ]
  },
  {
   "cell_type": "code",
   "execution_count": 82,
   "metadata": {
    "slideshow": {
     "slide_type": "fragment"
    }
   },
   "outputs": [],
   "source": [
    "dmAnnOpt = dmGs.best_estimator_"
   ]
  },
  {
   "cell_type": "markdown",
   "metadata": {
    "slideshow": {
     "slide_type": "slide"
    }
   },
   "source": [
    "#### 性能检验"
   ]
  },
  {
   "cell_type": "code",
   "execution_count": 83,
   "metadata": {
    "slideshow": {
     "slide_type": "fragment"
    }
   },
   "outputs": [
    {
     "name": "stdout",
     "output_type": "stream",
     "text": [
      "建立的神经网络模型在检验集上的准确率是0.8798\n"
     ]
    }
   ],
   "source": [
    "print(f'建立的神经网络模型在检验集上的准确率是{metrics.accuracy_score(dmTeY,dmAnnOpt.predict(dmTeX)):.4f}')"
   ]
  },
  {
   "cell_type": "code",
   "execution_count": 84,
   "metadata": {
    "scrolled": true,
    "slideshow": {
     "slide_type": "fragment"
    }
   },
   "outputs": [
    {
     "name": "stdout",
     "output_type": "stream",
     "text": [
      "建立的神经网络模型在检验集上对存储的召回率是0.1769\n"
     ]
    }
   ],
   "source": [
    "print(f'建立的神经网络模型在检验集上对存储的召回率是{metrics.recall_score(dmTeY,dmAnnOpt.predict(dmTeX),pos_label=\"yes\"):.4f}')"
   ]
  },
  {
   "cell_type": "code",
   "execution_count": 85,
   "metadata": {
    "slideshow": {
     "slide_type": "fragment"
    }
   },
   "outputs": [
    {
     "name": "stdout",
     "output_type": "stream",
     "text": [
      "建立的神经网络模型在检验集上对未存储的召回率是0.9710\n"
     ]
    }
   ],
   "source": [
    "print(f'建立的神经网络模型在检验集上对未存储的召回率是{metrics.recall_score(dmTeY,dmAnnOpt.predict(dmTeX),pos_label=\"no\"):.4f}')"
   ]
  },
  {
   "cell_type": "markdown",
   "metadata": {
    "slideshow": {
     "slide_type": "slide"
    }
   },
   "source": [
    "### 类别样本数量不平衡"
   ]
  },
  {
   "cell_type": "markdown",
   "metadata": {
    "slideshow": {
     "slide_type": "fragment"
    }
   },
   "source": [
    "<dl class=\"row alert-danger\">\n",
    "    <dt class=\"col-md-4\">类不平衡</dt>\n",
    "    <dd class=\"col-md-8\">在训练分类器中所使用的训练集的类别分布不均</dd>\n",
    "</dl>"
   ]
  },
  {
   "cell_type": "markdown",
   "metadata": {
    "slideshow": {
     "slide_type": "fragment"
    }
   },
   "source": [
    "- 不利影响\n",
    "    + 某个类别的样本太少，提供的信息就少，分类算法不会学习对该类型的识别\n",
    "    + 导致分类模型的**准确率**高，但是对于该类的**召回率**低"
   ]
  },
  {
   "cell_type": "markdown",
   "metadata": {
    "slideshow": {
     "slide_type": "fragment"
    }
   },
   "source": [
    "- 解决方法\n",
    "    + 过采样（over-sampling）：对训练集里面样本数量较少的类别进行多次抽样，合成新的样本\n",
    "        - SMOTE算法\n",
    "    + 欠采样（under-sampling）： 抛弃训练集里面样本数量较多的类别的一些样本"
   ]
  },
  {
   "cell_type": "markdown",
   "metadata": {
    "slideshow": {
     "slide_type": "slide"
    }
   },
   "source": [
    "#### 处理样本类别不平衡的包"
   ]
  },
  {
   "cell_type": "markdown",
   "metadata": {
    "slideshow": {
     "slide_type": "fragment"
    }
   },
   "source": [
    "- `imbalanced-learn`\n",
    "    + [https://imbalanced-learn.readthedocs.io/en/stable/index.html](https://imbalanced-learn.readthedocs.io/en/stable/index.html)"
   ]
  },
  {
   "cell_type": "markdown",
   "metadata": {
    "slideshow": {
     "slide_type": "fragment"
    }
   },
   "source": [
    "- 安装方法：\n",
    "\n",
    "```python\n",
    "pip install -U imbalanced-learn\n",
    "```"
   ]
  },
  {
   "cell_type": "markdown",
   "metadata": {
    "slideshow": {
     "slide_type": "fragment"
    }
   },
   "source": [
    "- 使用方法\n",
    "    + 导入过采样函数：`from imblearn.over_sampling import SMOTE`\n",
    "    + 导入管道函数：`import imblearn.pipeline as imbpipe`"
   ]
  },
  {
   "cell_type": "markdown",
   "metadata": {
    "slideshow": {
     "slide_type": "slide"
    }
   },
   "source": [
    "#### 用过采样方法重新训练神经网络模型"
   ]
  },
  {
   "cell_type": "code",
   "execution_count": 86,
   "metadata": {
    "slideshow": {
     "slide_type": "fragment"
    }
   },
   "outputs": [],
   "source": [
    "from imblearn.over_sampling import SMOTE\n",
    "import imblearn.pipeline as imbpipe"
   ]
  },
  {
   "cell_type": "code",
   "execution_count": 87,
   "metadata": {
    "slideshow": {
     "slide_type": "fragment"
    }
   },
   "outputs": [],
   "source": [
    "dmImbPipe = imbpipe.Pipeline([\n",
    "    ('scl',StandardScaler()),\n",
    "    ('sampling',SMOTE(random_state=0,n_jobs=-1)),\n",
    "    ('ann',MLPClassifier(hidden_layer_sizes=(9,),solver='adam',activation='relu',learning_rate='constant',max_iter=3000,random_state=12))\n",
    "])"
   ]
  },
  {
   "cell_type": "code",
   "execution_count": 88,
   "metadata": {
    "slideshow": {
     "slide_type": "fragment"
    }
   },
   "outputs": [],
   "source": [
    "dmImbGs = GridSearchCV(estimator=dmImbPipe,param_grid=dmParams,scoring=recall_scorer,cv=5,n_jobs=-1)"
   ]
  },
  {
   "cell_type": "code",
   "execution_count": 89,
   "metadata": {
    "scrolled": true,
    "slideshow": {
     "slide_type": "slide"
    }
   },
   "outputs": [
    {
     "name": "stdout",
     "output_type": "stream",
     "text": [
      "CPU times: user 6.39 s, sys: 32 ms, total: 6.42 s\n",
      "Wall time: 8min 43s\n"
     ]
    },
    {
     "data": {
      "text/plain": [
       "GridSearchCV(cv=5, error_score=nan,\n",
       "             estimator=Pipeline(memory=None,\n",
       "                                steps=[('scl',\n",
       "                                        StandardScaler(copy=True,\n",
       "                                                       with_mean=True,\n",
       "                                                       with_std=True)),\n",
       "                                       ('sampling',\n",
       "                                        SMOTE(k_neighbors=5, n_jobs=-1,\n",
       "                                              random_state=0,\n",
       "                                              sampling_strategy='auto')),\n",
       "                                       ('ann',\n",
       "                                        MLPClassifier(activation='relu',\n",
       "                                                      alpha=0.0001,\n",
       "                                                      batch_size='auto',\n",
       "                                                      beta_1=0.9, beta_2=0.999,\n",
       "                                                      early_stopping=False,\n",
       "                                                      epsilon=1e-08,\n",
       "                                                      hi...\n",
       "                                                      solver='adam', tol=0.0001,\n",
       "                                                      validation_fraction=0.1,\n",
       "                                                      verbose=False,\n",
       "                                                      warm_start=False))],\n",
       "                                verbose=False),\n",
       "             iid='deprecated', n_jobs=-1,\n",
       "             param_grid={'ann__activation': ['relu', 'logistic'],\n",
       "                         'ann__hidden_layer_sizes': range(6, 62, 10),\n",
       "                         'ann__solver': ['adam']},\n",
       "             pre_dispatch='2*n_jobs', refit=True, return_train_score=False,\n",
       "             scoring=make_scorer(recall_score, pos_label=yes), verbose=0)"
      ]
     },
     "execution_count": 89,
     "metadata": {},
     "output_type": "execute_result"
    }
   ],
   "source": [
    "%%time\n",
    "dmImbGs.fit(dmTrX,dmTrY)"
   ]
  },
  {
   "cell_type": "code",
   "execution_count": 90,
   "metadata": {
    "slideshow": {
     "slide_type": "fragment"
    }
   },
   "outputs": [
    {
     "data": {
      "text/plain": [
       "{'ann__activation': 'relu',\n",
       " 'ann__hidden_layer_sizes': 6,\n",
       " 'ann__solver': 'adam'}"
      ]
     },
     "execution_count": 90,
     "metadata": {},
     "output_type": "execute_result"
    }
   ],
   "source": [
    "dmImbGs.best_params_"
   ]
  },
  {
   "cell_type": "code",
   "execution_count": 91,
   "metadata": {
    "slideshow": {
     "slide_type": "fragment"
    }
   },
   "outputs": [
    {
     "data": {
      "text/plain": [
       "0.506166828951639"
      ]
     },
     "execution_count": 91,
     "metadata": {},
     "output_type": "execute_result"
    }
   ],
   "source": [
    "dmImbGs.best_score_"
   ]
  },
  {
   "cell_type": "code",
   "execution_count": 92,
   "metadata": {
    "slideshow": {
     "slide_type": "fragment"
    }
   },
   "outputs": [],
   "source": [
    "dmImbAnnOpt = dmImbGs.best_estimator_"
   ]
  },
  {
   "cell_type": "code",
   "execution_count": 93,
   "metadata": {
    "slideshow": {
     "slide_type": "fragment"
    }
   },
   "outputs": [
    {
     "name": "stdout",
     "output_type": "stream",
     "text": [
      "建立的神经网络模型在检验集上的准确率是0.6808\n"
     ]
    }
   ],
   "source": [
    "print(f'建立的神经网络模型在检验集上的准确率是{metrics.accuracy_score(dmTeY,dmImbAnnOpt.predict(dmTeX)):.4f}')"
   ]
  },
  {
   "cell_type": "code",
   "execution_count": 94,
   "metadata": {
    "slideshow": {
     "slide_type": "fragment"
    }
   },
   "outputs": [
    {
     "name": "stdout",
     "output_type": "stream",
     "text": [
      "建立的神经网络模型在检验集上对订阅的召回率是0.4923\n"
     ]
    }
   ],
   "source": [
    "print(f'建立的神经网络模型在检验集上对订阅的召回率是{metrics.recall_score(dmTeY,dmImbAnnOpt.predict(dmTeX),pos_label=\"yes\"):.4f}')"
   ]
  },
  {
   "cell_type": "code",
   "execution_count": 95,
   "metadata": {
    "slideshow": {
     "slide_type": "fragment"
    }
   },
   "outputs": [
    {
     "name": "stdout",
     "output_type": "stream",
     "text": [
      "建立的神经网络模型在检验集上对订阅的召回率是0.9710\n"
     ]
    }
   ],
   "source": [
    "print(f'建立的神经网络模型在检验集上对订阅的召回率是{metrics.recall_score(dmTeY,dmAnnOpt.predict(dmTeX),pos_label=\"no\"):.4f}')"
   ]
  },
  {
   "cell_type": "markdown",
   "metadata": {
    "slideshow": {
     "slide_type": "slide"
    }
   },
   "source": [
    "### 建立决策树模型"
   ]
  },
  {
   "cell_type": "markdown",
   "metadata": {
    "slideshow": {
     "slide_type": "fragment"
    }
   },
   "source": [
    "#### 建立模型"
   ]
  },
  {
   "cell_type": "code",
   "execution_count": 96,
   "metadata": {
    "slideshow": {
     "slide_type": "fragment"
    }
   },
   "outputs": [],
   "source": [
    "dmTree = tree.DecisionTreeClassifier(ccp_alpha=0.2,class_weight='balanced',random_state=14)"
   ]
  },
  {
   "cell_type": "markdown",
   "metadata": {
    "slideshow": {
     "slide_type": "fragment"
    }
   },
   "source": [
    "- `class_weight`：给类别赋权重，调整样本类别不均衡\n",
    "    + `balanced`根据数据中的分类变量中各个类比出现的频率自动计算类别权重，频率越低，权重越大"
   ]
  },
  {
   "cell_type": "markdown",
   "metadata": {
    "slideshow": {
     "slide_type": "fragment"
    }
   },
   "source": [
    "#### 获得后剪枝`ccp_alpha`列表"
   ]
  },
  {
   "cell_type": "code",
   "execution_count": 97,
   "metadata": {
    "slideshow": {
     "slide_type": "fragment"
    }
   },
   "outputs": [],
   "source": [
    "dmCcpPath = dmTree.cost_complexity_pruning_path(dmTrX,dmTrY)\n",
    "dmAlphas = dmCcpPath['ccp_alphas']"
   ]
  },
  {
   "cell_type": "markdown",
   "metadata": {
    "slideshow": {
     "slide_type": "slide"
    }
   },
   "source": [
    "#### 网格搜索最优参数"
   ]
  },
  {
   "cell_type": "code",
   "execution_count": 98,
   "metadata": {
    "slideshow": {
     "slide_type": "fragment"
    }
   },
   "outputs": [],
   "source": [
    "dmTreeGs = GridSearchCV(estimator=dmTree,param_grid={'ccp_alpha':dmAlphas[:-1]},scoring=recall_scorer,cv=5,n_jobs=-1)"
   ]
  },
  {
   "cell_type": "code",
   "execution_count": 99,
   "metadata": {
    "scrolled": true,
    "slideshow": {
     "slide_type": "fragment"
    }
   },
   "outputs": [
    {
     "name": "stdout",
     "output_type": "stream",
     "text": [
      "CPU times: user 1.45 s, sys: 88 ms, total: 1.54 s\n",
      "Wall time: 22.4 s\n"
     ]
    },
    {
     "data": {
      "text/plain": [
       "GridSearchCV(cv=5, error_score=nan,\n",
       "             estimator=DecisionTreeClassifier(ccp_alpha=0.2,\n",
       "                                              class_weight='balanced',\n",
       "                                              criterion='gini', max_depth=None,\n",
       "                                              max_features=None,\n",
       "                                              max_leaf_nodes=None,\n",
       "                                              min_impurity_decrease=0.0,\n",
       "                                              min_impurity_split=None,\n",
       "                                              min_samples_leaf=1,\n",
       "                                              min_samples_split=2,\n",
       "                                              min_weight_fraction_leaf=0.0,\n",
       "                                              presort='deprecated',\n",
       "                                              random_state=14,\n",
       "                                              splitter='best'),\n",
       "             iid...\n",
       "       1.88855382e-03, 1.94278976e-03, 2.02692733e-03, 2.06305203e-03,\n",
       "       2.09076195e-03, 2.12134645e-03, 2.17231586e-03, 2.19397371e-03,\n",
       "       2.26242804e-03, 2.39086550e-03, 2.58032224e-03, 2.71512907e-03,\n",
       "       2.83957563e-03, 3.07784466e-03, 3.09410368e-03, 3.14399137e-03,\n",
       "       5.58607053e-03, 7.93542536e-03, 2.29880960e-02])},\n",
       "             pre_dispatch='2*n_jobs', refit=True, return_train_score=False,\n",
       "             scoring=make_scorer(recall_score, pos_label=yes), verbose=0)"
      ]
     },
     "execution_count": 99,
     "metadata": {},
     "output_type": "execute_result"
    }
   ],
   "source": [
    "%%time\n",
    "dmTreeGs.fit(dmTrX,dmTrY)"
   ]
  },
  {
   "cell_type": "code",
   "execution_count": 100,
   "metadata": {
    "slideshow": {
     "slide_type": "fragment"
    }
   },
   "outputs": [
    {
     "data": {
      "text/plain": [
       "{'ccp_alpha': 0.007935425363715165}"
      ]
     },
     "execution_count": 100,
     "metadata": {},
     "output_type": "execute_result"
    }
   ],
   "source": [
    "dmTreeGs.best_params_"
   ]
  },
  {
   "cell_type": "code",
   "execution_count": 101,
   "metadata": {
    "slideshow": {
     "slide_type": "fragment"
    }
   },
   "outputs": [
    {
     "data": {
      "text/plain": [
       "0.9002921129503407"
      ]
     },
     "execution_count": 101,
     "metadata": {},
     "output_type": "execute_result"
    }
   ],
   "source": [
    "dmTreeGs.best_score_"
   ]
  },
  {
   "cell_type": "code",
   "execution_count": 102,
   "metadata": {
    "slideshow": {
     "slide_type": "fragment"
    }
   },
   "outputs": [],
   "source": [
    "dmTreeOpt = dmTreeGs.best_estimator_"
   ]
  },
  {
   "cell_type": "markdown",
   "metadata": {
    "slideshow": {
     "slide_type": "slide"
    }
   },
   "source": [
    "#### 性能检验"
   ]
  },
  {
   "cell_type": "code",
   "execution_count": 103,
   "metadata": {
    "slideshow": {
     "slide_type": "fragment"
    }
   },
   "outputs": [
    {
     "name": "stdout",
     "output_type": "stream",
     "text": [
      "建立的决策树模型在检验集上的准确率是0.3554\n"
     ]
    }
   ],
   "source": [
    "print(f'建立的决策树模型在检验集上的准确率是{metrics.accuracy_score(dmTeY,dmTreeOpt.predict(dmTeX)):.4f}')"
   ]
  },
  {
   "cell_type": "code",
   "execution_count": 104,
   "metadata": {
    "slideshow": {
     "slide_type": "fragment"
    }
   },
   "outputs": [
    {
     "name": "stdout",
     "output_type": "stream",
     "text": [
      "建立的决策树模型在检验集上对存储的召回率是0.8308\n"
     ]
    }
   ],
   "source": [
    "print(f'建立的决策树模型在检验集上对存储的召回率是{metrics.recall_score(dmTeY,dmTreeOpt.predict(dmTeX),pos_label=\"yes\"):.4f}')"
   ]
  },
  {
   "cell_type": "code",
   "execution_count": 105,
   "metadata": {
    "slideshow": {
     "slide_type": "fragment"
    }
   },
   "outputs": [
    {
     "name": "stdout",
     "output_type": "stream",
     "text": [
      "建立的决策树模型在检验集上对不存储的召回率是0.2937\n"
     ]
    }
   ],
   "source": [
    "print(f'建立的决策树模型在检验集上对不存储的召回率是{metrics.recall_score(dmTeY,dmTreeOpt.predict(dmTeX),pos_label=\"no\"):.4f}')"
   ]
  }
 ],
 "metadata": {
  "celltoolbar": "幻灯片",
  "hide_input": false,
  "kernelspec": {
   "display_name": "Python 3",
   "language": "python",
   "name": "python3"
  },
  "toc": {
   "base_numbering": 1,
   "nav_menu": {},
   "number_sections": true,
   "sideBar": true,
   "skip_h1_title": false,
   "title_cell": "Table of Contents",
   "title_sidebar": "Contents",
   "toc_cell": false,
   "toc_position": {
    "height": "calc(100% - 180px)",
    "left": "10px",
    "top": "150px",
    "width": "372.364px"
   },
   "toc_section_display": true,
   "toc_window_display": true
  }
 },
 "nbformat": 4,
 "nbformat_minor": 4
}
