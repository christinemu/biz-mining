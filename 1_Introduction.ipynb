{
 "cells": [
  {
   "cell_type": "code",
   "execution_count": 8,
   "metadata": {
    "init_cell": true,
    "slideshow": {
     "slide_type": "notes"
    }
   },
   "outputs": [],
   "source": [
    "import json\n",
    "import pandas as pd\n",
    "import numpy as np\n",
    "import matplotlib as mpl\n",
    "import matplotlib.pyplot as plt\n",
    "def set_chinese_font():\n",
    "    mpl.rcParams['font.sans-serif'] = ['Microsoft Yahei']\n",
    "    mpl.rcParams['font.serif'] = ['Microsoft Yahei']\n",
    "    mpl.rcParams['axes.unicode_minus'] = False\n",
    "%matplotlib inline\n",
    "set_chinese_font()"
   ]
  },
  {
   "cell_type": "markdown",
   "metadata": {
    "slideshow": {
     "slide_type": "slide"
    }
   },
   "source": [
    "<div class=\"jumbotron\">\n",
    "    <h1 class=\"display-1\">大数据智能分析理论与方法</h1>\n",
    "    <hr class=\"my-4\">\n",
    "    <p>主讲：李岩</p>\n",
    "    <p>管理学院</p>\n",
    "    <p>liyan@cumtb.edu.cn</p>\n",
    "</div>"
   ]
  },
  {
   "cell_type": "markdown",
   "metadata": {
    "slideshow": {
     "slide_type": "slide"
    }
   },
   "source": [
    "## 为什么要学习大数据智能分析理论与方法？"
   ]
  },
  {
   "cell_type": "markdown",
   "metadata": {
    "slideshow": {
     "slide_type": "fragment"
    }
   },
   "source": [
    "<center><img src=\"./img/introduction/nvidiaphlxsp.png\" width=50%></center>"
   ]
  },
  {
   "cell_type": "markdown",
   "metadata": {
    "slideshow": {
     "slide_type": "fragment"
    }
   },
   "source": [
    "<center><img src=\"./img/introduction/nvidiaAmongSeven.avif\" width=100%><center>"
   ]
  },
  {
   "cell_type": "markdown",
   "metadata": {
    "slideshow": {
     "slide_type": "fragment"
    }
   },
   "source": [
    "> <span class=\"girk\">有竞争力的现代人</span>"
   ]
  },
  {
   "cell_type": "markdown",
   "metadata": {
    "slideshow": {
     "slide_type": "fragment"
    }
   },
   "source": [
    "- 全局观\n",
    "- 专业性\n",
    "- 有自己的观点"
   ]
  },
  {
   "cell_type": "markdown",
   "metadata": {
    "slideshow": {
     "slide_type": "slide"
    }
   },
   "source": [
    "### 全局观"
   ]
  },
  {
   "cell_type": "markdown",
   "metadata": {
    "slideshow": {
     "slide_type": "fragment"
    }
   },
   "source": [
    "<span class=\"mark\">大数据的特点（6V）</span>"
   ]
  },
  {
   "cell_type": "markdown",
   "metadata": {
    "slideshow": {
     "slide_type": "fragment"
    }
   },
   "source": [
    "- 规模（Volume）\n",
    "- 速度（Velocity）\n",
    "- 多样性（Varity）\n",
    "- 真实性（Veracity）\n",
    "- 价值（Value）\n",
    "- 联结性（Valence)"
   ]
  },
  {
   "cell_type": "markdown",
   "metadata": {
    "slideshow": {
     "slide_type": "slide"
    }
   },
   "source": [
    "#### 规模（Volume）"
   ]
  },
  {
   "cell_type": "markdown",
   "metadata": {
    "cell_style": "split",
    "slideshow": {
     "slide_type": "fragment"
    }
   },
   "source": [
    "<center>\n",
    "<img src=\"./img/introduction/LIBRARY-OF-ALEXANDRIA.jpg\" width=\"40%\">\n",
    "</center>"
   ]
  },
  {
   "cell_type": "markdown",
   "metadata": {
    "cell_style": "split",
    "slideshow": {
     "slide_type": "fragment"
    }
   },
   "source": [
    "- 古埃及的亚历山大图书馆（the Library of Alexandria）在公元3世纪被认为存储了当时人类所有的知识"
   ]
  },
  {
   "cell_type": "markdown",
   "metadata": {
    "cell_style": "split",
    "slideshow": {
     "slide_type": "fragment"
    }
   },
   "source": [
    "- 当今全球每个人能够获得的数据是古亚历山大图书馆收藏量的320倍，达到1200 exabytes"
   ]
  },
  {
   "cell_type": "markdown",
   "metadata": {
    "cell_style": "split",
    "slideshow": {
     "slide_type": "slide"
    }
   },
   "source": [
    "<center>\n",
    "<img src=\"./img/introduction/bytes.jpg\" width=\"80%\">\n",
    "</center>"
   ]
  },
  {
   "cell_type": "markdown",
   "metadata": {
    "slideshow": {
     "slide_type": "slide"
    }
   },
   "source": [
    "#### 速度（Velocity）"
   ]
  },
  {
   "cell_type": "markdown",
   "metadata": {
    "slideshow": {
     "slide_type": "fragment"
    }
   },
   "source": [
    "- Domo公司统计的“数据永不眠”（Data Never Sleeps）\n",
    "\n",
    "\n",
    "[https://mms.businesswire.com/media/20241218637346/en/2335196/1/DNS12_Final.pdf](https://mms.businesswire.com/media/20241218637346/en/2335196/1/DNS12_Final.pdf)"
   ]
  },
  {
   "cell_type": "markdown",
   "metadata": {
    "slideshow": {
     "slide_type": "fragment"
    }
   },
   "source": [
    "<center>\n",
    "<img src=\"./img/introduction/product-feature-dns-1-vs-10-stats.png\">\n",
    "</center>"
   ]
  },
  {
   "cell_type": "markdown",
   "metadata": {
    "slideshow": {
     "slide_type": "slide"
    }
   },
   "source": [
    "#### 多样（Variety）"
   ]
  },
  {
   "cell_type": "markdown",
   "metadata": {
    "slideshow": {
     "slide_type": "fragment"
    }
   },
   "source": [
    "<center>\n",
    "<img src=\"./img/introduction/forms-of-big-data-variety.png\">\n",
    "</center>"
   ]
  },
  {
   "cell_type": "markdown",
   "metadata": {
    "slideshow": {
     "slide_type": "fragment"
    }
   },
   "source": [
    "- 数据形态多样"
   ]
  },
  {
   "cell_type": "markdown",
   "metadata": {
    "slideshow": {
     "slide_type": "fragment"
    }
   },
   "source": [
    "- 非结构化（unstructured）数据大量涌现"
   ]
  },
  {
   "cell_type": "markdown",
   "metadata": {
    "slideshow": {
     "slide_type": "slide"
    }
   },
   "source": [
    "#### 真实性（Veracity）"
   ]
  },
  {
   "cell_type": "markdown",
   "metadata": {
    "slideshow": {
     "slide_type": "fragment"
    }
   },
   "source": [
    "<center>\n",
    "<img src=\"./img/introduction/veracitycn.png\" width=\"100%\">\n",
    "</center>"
   ]
  },
  {
   "cell_type": "markdown",
   "metadata": {
    "slideshow": {
     "slide_type": "fragment"
    }
   },
   "source": [
    "- 虚假信息（fake information）\n",
    "    - 虚假评论"
   ]
  },
  {
   "cell_type": "markdown",
   "metadata": {
    "slideshow": {
     "slide_type": "fragment"
    }
   },
   "source": [
    "- 深度虚假（deepfake）\n",
    "    - 一种合成媒体，涉及使用先进的机器学习和人工智能技术操纵或生成视频、音频片段或图像等内容。"
   ]
  },
  {
   "cell_type": "markdown",
   "metadata": {
    "slideshow": {
     "slide_type": "slide"
    }
   },
   "source": [
    "#### 价值（Value）"
   ]
  },
  {
   "cell_type": "markdown",
   "metadata": {
    "slideshow": {
     "slide_type": "fragment"
    }
   },
   "source": [
    "<center>\n",
    "<img src=\"./img/introduction/data-value.jpg\" width=100%>\n",
    "</center>"
   ]
  },
  {
   "cell_type": "markdown",
   "metadata": {
    "slideshow": {
     "slide_type": "slide"
    }
   },
   "source": [
    "### 连结性（Valence）"
   ]
  },
  {
   "cell_type": "markdown",
   "metadata": {
    "slideshow": {
     "slide_type": "fragment"
    }
   },
   "source": [
    "- 大数据如何相互结合，在不同的数据集之间形成连接"
   ]
  },
  {
   "cell_type": "markdown",
   "metadata": {
    "slideshow": {
     "slide_type": "fragment"
    }
   },
   "source": [
    "<center><img src=\"./img/introduction/valence.png\" width=60%></center>"
   ]
  },
  {
   "cell_type": "markdown",
   "metadata": {
    "slideshow": {
     "slide_type": "slide"
    }
   },
   "source": [
    "### 专业性"
   ]
  },
  {
   "cell_type": "markdown",
   "metadata": {
    "slideshow": {
     "slide_type": "fragment"
    }
   },
   "source": [
    "#### 如何体现出专业性？"
   ]
  },
  {
   "cell_type": "markdown",
   "metadata": {
    "slideshow": {
     "slide_type": "fragment"
    }
   },
   "source": [
    "> 用数据分析解决问题的能力"
   ]
  },
  {
   "cell_type": "markdown",
   "metadata": {
    "slideshow": {
     "slide_type": "fragment"
    }
   },
   "source": [
    "<center>\n",
    "<img src=\"./img/introduction/dataAnalystsAbility.jpg\" width=\"80%\">\n",
    "</center>"
   ]
  },
  {
   "cell_type": "markdown",
   "metadata": {
    "slideshow": {
     "slide_type": "subslide"
    }
   },
   "source": [
    "##### 数学知识"
   ]
  },
  {
   "cell_type": "markdown",
   "metadata": {
    "slideshow": {
     "slide_type": "fragment"
    }
   },
   "source": [
    "- 对于初级数据分析师，了解描述统计相关的基础内容，有一定的公式计算能力"
   ]
  },
  {
   "cell_type": "markdown",
   "metadata": {
    "slideshow": {
     "slide_type": "fragment"
    }
   },
   "source": [
    "- 对于高级数据分析师，统计模型相关知识是必备能力，矩阵运算有一定了解"
   ]
  },
  {
   "cell_type": "markdown",
   "metadata": {
    "slideshow": {
     "slide_type": "fragment"
    }
   },
   "source": [
    "- 对于数据挖掘工程师，除了统计学以外，各类算法也需要熟练使用"
   ]
  },
  {
   "cell_type": "markdown",
   "metadata": {
    "slideshow": {
     "slide_type": "subslide"
    }
   },
   "source": [
    "##### 分析工具"
   ]
  },
  {
   "cell_type": "markdown",
   "metadata": {
    "slideshow": {
     "slide_type": "fragment"
    }
   },
   "source": [
    "-  对于初级数据分析师，熟练使用Excel，例如数据透视表和公式。另外，还要学会一个统计分析工具，例如SPSS"
   ]
  },
  {
   "cell_type": "markdown",
   "metadata": {
    "slideshow": {
     "slide_type": "fragment"
    }
   },
   "source": [
    "- 对于高级数据分析师，使用分析工具是核心能力，SAS/Stata/Python/R/Matlab至少要熟练使用其中之一"
   ]
  },
  {
   "cell_type": "markdown",
   "metadata": {
    "slideshow": {
     "slide_type": "fragment"
    }
   },
   "source": [
    "- 对于数据挖掘工程师，商业分析工具不是其核心，主要工作要依靠自己编写代码来解决"
   ]
  },
  {
   "cell_type": "markdown",
   "metadata": {
    "slideshow": {
     "slide_type": "slide"
    }
   },
   "source": [
    "##### 编程语言"
   ]
  },
  {
   "cell_type": "markdown",
   "metadata": {
    "slideshow": {
     "slide_type": "fragment"
    }
   },
   "source": [
    " - 对于初级数据分析师，熟悉SQL语句基本就可以了"
   ]
  },
  {
   "cell_type": "markdown",
   "metadata": {
    "slideshow": {
     "slide_type": "fragment"
    }
   },
   "source": [
    "- 对于高级数据分析师，除了SQL以外，学习Python是很有必要的，用来获取和处理数据都将会事半功倍"
   ]
  },
  {
   "cell_type": "markdown",
   "metadata": {
    "slideshow": {
     "slide_type": "fragment"
    }
   },
   "source": [
    "- 对于数据挖掘工程师，Python/Java/C++至少得熟悉一门"
   ]
  },
  {
   "cell_type": "markdown",
   "metadata": {
    "slideshow": {
     "slide_type": "slide"
    }
   },
   "source": [
    "##### 数据可视化"
   ]
  },
  {
   "cell_type": "markdown",
   "metadata": {
    "slideshow": {
     "slide_type": "fragment"
    }
   },
   "source": [
    "- 对于初级数据分析师，能用Excel和PPT做出基本的图表和报告，能清楚的展示数据"
   ]
  },
  {
   "cell_type": "markdown",
   "metadata": {
    "slideshow": {
     "slide_type": "fragment"
    }
   },
   "source": [
    "- 对于高级数据分析师，需要探寻更好的数据可视化方法，使用更有效的数据可视化工具，根据实际需求做出适合受众的数据可视化内容，掌握R/Python"
   ]
  },
  {
   "cell_type": "markdown",
   "metadata": {
    "slideshow": {
     "slide_type": "fragment"
    }
   },
   "source": [
    "- 对于数据挖掘工程师，了解一些数据可视化工具是有必要的，也要根据需求做一些复杂的可视化图表"
   ]
  },
  {
   "cell_type": "markdown",
   "metadata": {
    "slideshow": {
     "slide_type": "slide"
    }
   },
   "source": [
    "### 就业"
   ]
  },
  {
   "cell_type": "markdown",
   "metadata": {
    "slideshow": {
     "slide_type": "fragment"
    }
   },
   "source": [
    "<center><img src=\"./img/introduction/dataAnalysisIndustry.png\" width=\"100%\"></center>"
   ]
  },
  {
   "cell_type": "markdown",
   "metadata": {
    "slideshow": {
     "slide_type": "slide"
    }
   },
   "source": [
    "<center><img src=\"./img/introduction/dataSalary.jpg\" width=\"80%\"></center>"
   ]
  },
  {
   "cell_type": "markdown",
   "metadata": {
    "slideshow": {
     "slide_type": "fragment"
    }
   },
   "source": [
    "- 2023 Stack Overflow Developer Survey\n",
    "[https://survey.stackoverflow.co/2023/#developer-profile](https://survey.stackoverflow.co/2023/#developer-profile)"
   ]
  },
  {
   "cell_type": "markdown",
   "metadata": {
    "slideshow": {
     "slide_type": "slide"
    }
   },
   "source": [
    "- 工作中使用generative AI\n",
    "\n",
    "<center><img src=\"./img/introduction/employeesUsingAI.png\" width=50%></center>"
   ]
  },
  {
   "cell_type": "markdown",
   "metadata": {
    "slideshow": {
     "slide_type": "fragment"
    }
   },
   "source": [
    "[https://www.oliverwymanforum.com/global-consumer-sentiment/how-will-ai-affect-global-economics/workforce.html](https://www.oliverwymanforum.com/global-consumer-sentiment/how-will-ai-affect-global-economics/workforce.html)"
   ]
  },
  {
   "cell_type": "markdown",
   "metadata": {
    "slideshow": {
     "slide_type": "slide"
    }
   },
   "source": [
    "## 数据智能分析"
   ]
  },
  {
   "cell_type": "markdown",
   "metadata": {
    "slideshow": {
     "slide_type": "fragment"
    }
   },
   "source": [
    "### 数据智能分析的目的"
   ]
  },
  {
   "cell_type": "markdown",
   "metadata": {
    "slideshow": {
     "slide_type": "fragment"
    }
   },
   "source": [
    "<div class=\"alert alert-info\">\n",
    "    <strong>利用计算机的运算能力对数据进行处理，从数据中提取有价值的信息，进而形成“知识”。</strong>\n",
    "</div>"
   ]
  },
  {
   "cell_type": "markdown",
   "metadata": {
    "slideshow": {
     "slide_type": "fragment"
    }
   },
   "source": [
    "<center>\n",
    "<img src=\"./img/introduction/dataScience.jpg\" width=60%>\n",
    "</center>"
   ]
  },
  {
   "cell_type": "markdown",
   "metadata": {
    "slideshow": {
     "slide_type": "slide"
    }
   },
   "source": [
    "### 数据智能学分析流程"
   ]
  },
  {
   "cell_type": "markdown",
   "metadata": {
    "slideshow": {
     "slide_type": "fragment"
    }
   },
   "source": [
    "<center><img src=\"./img/introduction/dataAnalysisProcess.png\" width=80%></center>"
   ]
  },
  {
   "cell_type": "markdown",
   "metadata": {
    "slideshow": {
     "slide_type": "slide"
    }
   },
   "source": [
    "#### 数据收集"
   ]
  },
  {
   "cell_type": "markdown",
   "metadata": {
    "slideshow": {
     "slide_type": "fragment"
    }
   },
   "source": [
    "##### 一手数据"
   ]
  },
  {
   "cell_type": "markdown",
   "metadata": {
    "slideshow": {
     "slide_type": "fragment"
    }
   },
   "source": [
    "- 调研\n",
    "- 访谈\n",
    "- 实验"
   ]
  },
  {
   "cell_type": "markdown",
   "metadata": {
    "slideshow": {
     "slide_type": "slide"
    }
   },
   "source": [
    "<p class=\"display-1 h2\">瑞幸咖啡遭做空，收盘跌幅10.74％</p>"
   ]
  },
  {
   "cell_type": "markdown",
   "metadata": {
    "slideshow": {
     "slide_type": "fragment"
    }
   },
   "source": [
    "<center><img src=\"./img/introduction/luckin.jpg\" width=\"30%\"></center>"
   ]
  },
  {
   "cell_type": "markdown",
   "metadata": {
    "slideshow": {
     "slide_type": "fragment"
    }
   },
   "source": [
    "- 美东时间2020年1月31日，浑水（Muddy Waters LLC）发布匿名报告指控瑞幸咖啡（NASDAQ:LK）财务造假"
   ]
  },
  {
   "cell_type": "markdown",
   "metadata": {
    "slideshow": {
     "slide_type": "fragment"
    }
   },
   "source": [
    "- 报告声称：“在2019年第三季度和2019年第四季度，每店每日商品数量分别夸大了至少69%和88%”"
   ]
  },
  {
   "cell_type": "markdown",
   "metadata": {
    "slideshow": {
     "slide_type": "fragment"
    }
   },
   "source": [
    "- 瑞幸股价盘中大跌超过25%，收跌近11%"
   ]
  },
  {
   "cell_type": "markdown",
   "metadata": {
    "slideshow": {
     "slide_type": "slide"
    }
   },
   "source": [
    "- 如何收集数据？\n",
    "    + 雇佣了92个全职和1400个兼职调查员\n",
    "    + 收集了25000多张小票\n",
    "    + 11,260小时的门店流量视频\n",
    "    + 大量内部微信聊天记录"
   ]
  },
  {
   "cell_type": "markdown",
   "metadata": {
    "slideshow": {
     "slide_type": "fragment"
    }
   },
   "source": [
    "<center><img src=\"./img/introduction/luckinwechat.jpg\" width=\"80%\"></center>"
   ]
  },
  {
   "cell_type": "markdown",
   "metadata": {
    "slideshow": {
     "slide_type": "skip"
    }
   },
   "source": [
    "- 网络爬虫\n",
    "    - 网络爬虫是一种按照一定的规则，自动地抓取互联网信息的程序或者脚本\n",
    "    - 可以理解为一个自动访问网页并进行相关操作的小机器人"
   ]
  },
  {
   "cell_type": "markdown",
   "metadata": {
    "slideshow": {
     "slide_type": "slide"
    }
   },
   "source": [
    "##### 二手数据"
   ]
  },
  {
   "cell_type": "markdown",
   "metadata": {
    "slideshow": {
     "slide_type": "fragment"
    }
   },
   "source": [
    "- 同花顺数据库\n",
    "- Wind万得数据库\n",
    "- Choice数据库\n",
    "- CSMAR数据库"
   ]
  },
  {
   "cell_type": "markdown",
   "metadata": {
    "slideshow": {
     "slide_type": "fragment"
    }
   },
   "source": [
    "- [Tushare财经数据接口   /http://tushare.org/](http://tushare.org/)\n",
    "- [AKShare https://www.akshare.xyz](https://www.akshare.xyz)"
   ]
  },
  {
   "cell_type": "markdown",
   "metadata": {
    "slideshow": {
     "slide_type": "slide"
    }
   },
   "source": [
    "#### 数据整理（data processing）"
   ]
  },
  {
   "cell_type": "markdown",
   "metadata": {
    "slideshow": {
     "slide_type": "fragment"
    }
   },
   "source": [
    "- 把原始数据转换成结构化的数据"
   ]
  },
  {
   "cell_type": "markdown",
   "metadata": {
    "slideshow": {
     "slide_type": "fragment"
    }
   },
   "source": [
    "|id|姓名|性别|年龄|学号|成绩|\n",
    "---|---|---|---|---|---\n",
    "|1|Tom|男|21|20170201|90|"
   ]
  },
  {
   "cell_type": "markdown",
   "metadata": {
    "slideshow": {
     "slide_type": "slide"
    }
   },
   "source": [
    "#### 数据清理（data cleaning）"
   ]
  },
  {
   "cell_type": "markdown",
   "metadata": {
    "slideshow": {
     "slide_type": "fragment"
    }
   },
   "source": [
    "- 识别异常点（outliers）\n",
    "- 删除无效数据（invalid）\n",
    "- 剔除重复数据(duplicates)\n",
    "- 补全缺失数据（missing values）"
   ]
  },
  {
   "cell_type": "markdown",
   "metadata": {
    "slideshow": {
     "slide_type": "slide"
    }
   },
   "source": [
    "#### 探索性分析（exploratory data analysis）"
   ]
  },
  {
   "cell_type": "markdown",
   "metadata": {
    "slideshow": {
     "slide_type": "fragment"
    }
   },
   "source": [
    "- 描述型统计（descriptive statistics）\n",
    "    + 均值\n",
    "    + 标准差\n",
    "    + 分位数"
   ]
  },
  {
   "cell_type": "markdown",
   "metadata": {
    "slideshow": {
     "slide_type": "fragment"
    }
   },
   "source": [
    "- 数据可视化（data visualization）\n",
    "    + 直方图显示数据分布\n",
    "    + 散点图显示变量间关系\n",
    "    + 曲线图表示数据变化趋势"
   ]
  },
  {
   "cell_type": "markdown",
   "metadata": {
    "slideshow": {
     "slide_type": "slide"
    }
   },
   "source": [
    "#### 建模与算法"
   ]
  },
  {
   "cell_type": "markdown",
   "metadata": {
    "slideshow": {
     "slide_type": "fragment"
    }
   },
   "source": [
    "- 统计、计量模型\n",
    "    + 多元线性回归、逻辑回归\n",
    "    + 因子分析、主成分分析\n",
    "    + 时间序列分析"
   ]
  },
  {
   "cell_type": "markdown",
   "metadata": {
    "slideshow": {
     "slide_type": "fragment"
    }
   },
   "source": [
    "- 机器学习模型\n",
    "    - 有监督学习\n",
    "    - 无监督学习\n",
    "    - 强化学习"
   ]
  },
  {
   "cell_type": "markdown",
   "metadata": {
    "slideshow": {
     "slide_type": "fragment"
    }
   },
   "source": [
    "- 根据所要分析的问题，选择相应的建模方法\n",
    "    + 分类、预测，还是解释现象？"
   ]
  },
  {
   "cell_type": "markdown",
   "metadata": {
    "slideshow": {
     "slide_type": "slide"
    }
   },
   "source": [
    "#### 交流、可视化结果"
   ]
  },
  {
   "cell_type": "markdown",
   "metadata": {
    "slideshow": {
     "slide_type": "fragment"
    }
   },
   "source": [
    "- 交作业\n",
    "- 向主管领导汇报、与同事交流结果\n",
    "- 在期刊上发表论文\n",
    "- 参加学术会议演讲结果"
   ]
  },
  {
   "cell_type": "markdown",
   "metadata": {
    "slideshow": {
     "slide_type": "slide"
    }
   },
   "source": [
    "#### 数据产品 "
   ]
  },
  {
   "cell_type": "markdown",
   "metadata": {
    "slideshow": {
     "slide_type": "fragment"
    }
   },
   "source": [
    "- 推荐系统\n",
    "- 客户管理系统"
   ]
  },
  {
   "cell_type": "markdown",
   "metadata": {
    "slideshow": {
     "slide_type": "fragment"
    }
   },
   "source": [
    "- 作用于真实世界，形成一个完整的反馈"
   ]
  },
  {
   "cell_type": "markdown",
   "metadata": {
    "slideshow": {
     "slide_type": "slide"
    }
   },
   "source": [
    "## 课程结构安排"
   ]
  },
  {
   "cell_type": "markdown",
   "metadata": {
    "slideshow": {
     "slide_type": "fragment"
    }
   },
   "source": [
    "<center><img src=\"./img/introduction/structure.png\" width=\"100%\"></center>"
   ]
  },
  {
   "cell_type": "markdown",
   "metadata": {
    "slideshow": {
     "slide_type": "subslide"
    }
   },
   "source": [
    "### 基础"
   ]
  },
  {
   "cell_type": "markdown",
   "metadata": {
    "slideshow": {
     "slide_type": "fragment"
    }
   },
   "source": [
    "- Python安装与Jupyter Notebook配置"
   ]
  },
  {
   "cell_type": "markdown",
   "metadata": {
    "slideshow": {
     "slide_type": "fragment"
    }
   },
   "source": [
    "- Python编程基础"
   ]
  },
  {
   "cell_type": "markdown",
   "metadata": {
    "slideshow": {
     "slide_type": "subslide"
    }
   },
   "source": [
    "### 数据整理"
   ]
  },
  {
   "cell_type": "markdown",
   "metadata": {
    "slideshow": {
     "slide_type": "fragment"
    }
   },
   "source": [
    "- 数据探索：数据整理、清洗"
   ]
  },
  {
   "cell_type": "markdown",
   "metadata": {
    "slideshow": {
     "slide_type": "fragment"
    }
   },
   "source": [
    "- Pandas：Python的数据分析库"
   ]
  },
  {
   "cell_type": "markdown",
   "metadata": {
    "slideshow": {
     "slide_type": "fragment"
    }
   },
   "source": [
    "- Numpy: 数组运算，通常作为Pandas的分析输入基础"
   ]
  },
  {
   "cell_type": "markdown",
   "metadata": {
    "slideshow": {
     "slide_type": "fragment"
    }
   },
   "source": [
    "- 描述性统计与可视化"
   ]
  },
  {
   "cell_type": "markdown",
   "metadata": {
    "slideshow": {
     "slide_type": "fragment"
    }
   },
   "source": [
    "- Matplotlib：Python的二维绘图库"
   ]
  },
  {
   "cell_type": "markdown",
   "metadata": {
    "slideshow": {
     "slide_type": "subslide"
    }
   },
   "source": [
    "### 建模与算法"
   ]
  },
  {
   "cell_type": "markdown",
   "metadata": {
    "slideshow": {
     "slide_type": "fragment"
    }
   },
   "source": [
    "- 分类问题\n",
    "    + 决策树\n",
    "    + 神经网络"
   ]
  },
  {
   "cell_type": "markdown",
   "metadata": {
    "slideshow": {
     "slide_type": "fragment"
    }
   },
   "source": [
    "- 聚类问题\n",
    "    + k-means聚类\n",
    "    + 层次聚类"
   ]
  },
  {
   "cell_type": "markdown",
   "metadata": {
    "slideshow": {
     "slide_type": "fragment"
    }
   },
   "source": [
    "- 关联分析\n",
    "    + apriori算法"
   ]
  },
  {
   "cell_type": "markdown",
   "metadata": {
    "slideshow": {
     "slide_type": "fragment"
    }
   },
   "source": [
    "- Scikit-learn：数据挖掘和分析工具库"
   ]
  },
  {
   "cell_type": "markdown",
   "metadata": {
    "slideshow": {
     "slide_type": "slide"
    }
   },
   "source": [
    "### 考核"
   ]
  },
  {
   "cell_type": "markdown",
   "metadata": {
    "slideshow": {
     "slide_type": "fragment"
    }
   },
   "source": [
    "<center>\n",
    "    \n",
    "|考核内容|百分比|\n",
    "|:---:|:---:|\n",
    "|考勤、提问|10%|\n",
    "|实验报告|30%|\n",
    "|考试|60%|\n",
    "    \n",
    "</center>"
   ]
  },
  {
   "cell_type": "markdown",
   "metadata": {
    "slideshow": {
     "slide_type": "slide"
    }
   },
   "source": [
    "## 豆瓣电影评分靠谱吗？"
   ]
  },
  {
   "cell_type": "markdown",
   "metadata": {
    "slideshow": {
     "slide_type": "subslide"
    }
   },
   "source": [
    "[豆瓣的电影评分靠谱吗？ —— 一点数据分析的视角/https://zhuanlan.zhihu.com/p/24815577](https://zhuanlan.zhihu.com/p/24815577)"
   ]
  },
  {
   "cell_type": "markdown",
   "metadata": {
    "slideshow": {
     "slide_type": "fragment"
    }
   },
   "source": [
    "### 动机"
   ]
  },
  {
   "cell_type": "markdown",
   "metadata": {
    "slideshow": {
     "slide_type": "fragment"
    }
   },
   "source": [
    "<center><img src=\"./img/introduction/secret_life.png\",width=100%>"
   ]
  },
  {
   "cell_type": "markdown",
   "metadata": {
    "slideshow": {
     "slide_type": "fragment"
    }
   },
   "source": [
    "- 有的人觉得这是导演“令人满意的答卷”，有的却说这部电影\"令人失望（disappointing）"
   ]
  },
  {
   "cell_type": "markdown",
   "metadata": {
    "slideshow": {
     "slide_type": "fragment"
    }
   },
   "source": [
    "> 豆瓣电影的评分是否可靠？会不会存在一些国内外评价差异比较大的电影？"
   ]
  },
  {
   "cell_type": "markdown",
   "metadata": {
    "slideshow": {
     "slide_type": "subslide"
    }
   },
   "source": [
    "### 数据收集"
   ]
  },
  {
   "cell_type": "markdown",
   "metadata": {
    "slideshow": {
     "slide_type": "fragment"
    }
   },
   "source": [
    "- 针对Movieinsider 2008-2014国外上映的电影的榜单（北美为主）\n",
    "- 抓取豆瓣和IMDB的评分, 总共2000+部"
   ]
  },
  {
   "cell_type": "code",
   "execution_count": 7,
   "metadata": {
    "slideshow": {
     "slide_type": "fragment"
    }
   },
   "outputs": [
    {
     "data": {
      "text/html": [
       "<div>\n",
       "<style scoped>\n",
       "    .dataframe tbody tr th:only-of-type {\n",
       "        vertical-align: middle;\n",
       "    }\n",
       "\n",
       "    .dataframe tbody tr th {\n",
       "        vertical-align: top;\n",
       "    }\n",
       "\n",
       "    .dataframe thead th {\n",
       "        text-align: right;\n",
       "    }\n",
       "</style>\n",
       "<table border=\"1\" class=\"dataframe\">\n",
       "  <thead>\n",
       "    <tr style=\"text-align: right;\">\n",
       "      <th></th>\n",
       "      <th>name</th>\n",
       "      <th>detail_url</th>\n",
       "      <th>movie_tt_id</th>\n",
       "      <th>omdb_info</th>\n",
       "      <th>douban_info</th>\n",
       "    </tr>\n",
       "  </thead>\n",
       "  <tbody>\n",
       "    <tr>\n",
       "      <th>0</th>\n",
       "      <td>One Missed Call</td>\n",
       "      <td>http://www.movieinsider.com/m2401/one-missed-c...</td>\n",
       "      <td>tt0479968</td>\n",
       "      <td>{'Title': 'One Missed Call', 'Year': '2008', '...</td>\n",
       "      <td>{'rating': {'max': 10, 'average': 5.8, 'stars'...</td>\n",
       "    </tr>\n",
       "    <tr>\n",
       "      <th>1</th>\n",
       "      <td>The Pirates Who Don't Do Anything: A VeggieTal...</td>\n",
       "      <td>http://www.movieinsider.com/m3221/the-pirates-...</td>\n",
       "      <td>tt0475998</td>\n",
       "      <td>{'Title': 'The Pirates Who Don't Do Anything: ...</td>\n",
       "      <td>{'rating': {'max': 10, 'average': 6, 'stars': ...</td>\n",
       "    </tr>\n",
       "    <tr>\n",
       "      <th>2</th>\n",
       "      <td>In the Name of the King: A Dungeon Siege Tale</td>\n",
       "      <td>http://www.movieinsider.com/m2828/in-the-name-...</td>\n",
       "      <td>tt0460780</td>\n",
       "      <td>{'Title': 'In the Name of the King: A Dungeon ...</td>\n",
       "      <td>{'rating': {'max': 10, 'average': 4.6, 'stars'...</td>\n",
       "    </tr>\n",
       "    <tr>\n",
       "      <th>3</th>\n",
       "      <td>First Sunday</td>\n",
       "      <td>http://www.movieinsider.com/m3101/first-sunday/</td>\n",
       "      <td>tt0486578</td>\n",
       "      <td>{'Title': 'First Sunday', 'Year': '2008', 'Rat...</td>\n",
       "      <td>{'rating': {'max': 10, 'average': 5.9, 'stars'...</td>\n",
       "    </tr>\n",
       "    <tr>\n",
       "      <th>4</th>\n",
       "      <td>Teeth</td>\n",
       "      <td>http://www.movieinsider.com/m1023/teeth/</td>\n",
       "      <td>tt0780622</td>\n",
       "      <td>{'Title': 'Teeth', 'Year': '2007', 'Rated': 'R...</td>\n",
       "      <td>{'rating': {'max': 10, 'average': 5.8, 'stars'...</td>\n",
       "    </tr>\n",
       "  </tbody>\n",
       "</table>\n",
       "</div>"
      ],
      "text/plain": [
       "                                                name  \\\n",
       "0                                    One Missed Call   \n",
       "1  The Pirates Who Don't Do Anything: A VeggieTal...   \n",
       "2      In the Name of the King: A Dungeon Siege Tale   \n",
       "3                                       First Sunday   \n",
       "4                                              Teeth   \n",
       "\n",
       "                                          detail_url movie_tt_id  \\\n",
       "0  http://www.movieinsider.com/m2401/one-missed-c...   tt0479968   \n",
       "1  http://www.movieinsider.com/m3221/the-pirates-...   tt0475998   \n",
       "2  http://www.movieinsider.com/m2828/in-the-name-...   tt0460780   \n",
       "3    http://www.movieinsider.com/m3101/first-sunday/   tt0486578   \n",
       "4           http://www.movieinsider.com/m1023/teeth/   tt0780622   \n",
       "\n",
       "                                           omdb_info  \\\n",
       "0  {'Title': 'One Missed Call', 'Year': '2008', '...   \n",
       "1  {'Title': 'The Pirates Who Don't Do Anything: ...   \n",
       "2  {'Title': 'In the Name of the King: A Dungeon ...   \n",
       "3  {'Title': 'First Sunday', 'Year': '2008', 'Rat...   \n",
       "4  {'Title': 'Teeth', 'Year': '2007', 'Rated': 'R...   \n",
       "\n",
       "                                         douban_info  \n",
       "0  {'rating': {'max': 10, 'average': 5.8, 'stars'...  \n",
       "1  {'rating': {'max': 10, 'average': 6, 'stars': ...  \n",
       "2  {'rating': {'max': 10, 'average': 4.6, 'stars'...  \n",
       "3  {'rating': {'max': 10, 'average': 5.9, 'stars'...  \n",
       "4  {'rating': {'max': 10, 'average': 5.8, 'stars'...  "
      ]
     },
     "execution_count": 7,
     "metadata": {},
     "output_type": "execute_result"
    }
   ],
   "source": [
    "data = []\n",
    "for year in range(2008,2015):\n",
    "    file = \"./data/introduction/movie/movie_list_%s_v2.json\" % year\n",
    "    with open(file, encoding='utf-8' ) as data_file:    \n",
    "        data += json.load(data_file)   \n",
    "df = pd.DataFrame(data)\n",
    "df.head()"
   ]
  },
  {
   "cell_type": "code",
   "execution_count": 8,
   "metadata": {
    "slideshow": {
     "slide_type": "notes"
    }
   },
   "outputs": [],
   "source": [
    "# Problem, handling unicode json\n",
    "df.drop('detail_url', 1, inplace=True)\n",
    "df.drop_duplicates('movie_tt_id', inplace=True)\n",
    "df['temp_string'] = df['douban_info'].astype(str)\n",
    "df.drop_duplicates('temp_string', inplace=True)\n",
    "df['temp_string'] = df['omdb_info'].astype(str)\n",
    "df.drop_duplicates('temp_string', inplace=True)\n",
    "df = df.dropna()\n",
    "df.drop('temp_string', 1, inplace=True)"
   ]
  },
  {
   "cell_type": "code",
   "execution_count": 9,
   "metadata": {
    "slideshow": {
     "slide_type": "subslide"
    }
   },
   "outputs": [
    {
     "data": {
      "text/plain": [
       "{'Title': 'One Missed Call',\n",
       " 'Year': '2008',\n",
       " 'Rated': 'PG-13',\n",
       " 'Released': '4 Jan 2008',\n",
       " 'Runtime': '87 min',\n",
       " 'Genre': 'Horror, Mystery',\n",
       " 'Director': 'Eric Valette',\n",
       " 'Writer': 'Andrew Klavan (screenplay), Yasushi Akimoto (novel), Minako Daira (screenplay)',\n",
       " 'Actors': 'Shannyn Sossamon, Edward Burns, Ana Claudia Talancón, Ray Wise',\n",
       " 'Plot': 'Several people start receiving voice-mails from their future selves - messages which include the date, time, and some of the details of their deaths.',\n",
       " 'Language': 'English',\n",
       " 'Country': 'Japan, USA, Germany',\n",
       " 'Awards': '2 nominations.',\n",
       " 'Poster': 'http://ia.media-imdb.com/images/M/MV5BMjA2NTk0OTcyMV5BMl5BanBnXkFtZTcwMzk1MDU1MQ@@._V1_SX300.jpg',\n",
       " 'Metascore': '24',\n",
       " 'imdbRating': '3.9',\n",
       " 'imdbVotes': '24943',\n",
       " 'imdbID': 'tt0479968',\n",
       " 'Type': 'movie',\n",
       " 'Response': 'True'}"
      ]
     },
     "execution_count": 9,
     "metadata": {},
     "output_type": "execute_result"
    }
   ],
   "source": [
    "df['omdb_info'][0]"
   ]
  },
  {
   "cell_type": "code",
   "execution_count": 10,
   "metadata": {
    "slideshow": {
     "slide_type": "subslide"
    }
   },
   "outputs": [
    {
     "data": {
      "text/plain": [
       "{'rating': {'max': 10, 'average': 6, 'stars': '30', 'min': 0},\n",
       " 'reviews_count': 4,\n",
       " 'wish_count': 235,\n",
       " 'douban_site': '',\n",
       " 'year': '2008',\n",
       " 'images': {'small': 'http://img6.douban.com/spic/s2767431.jpg',\n",
       "  'large': 'http://img6.douban.com/lpic/s2767431.jpg',\n",
       "  'medium': 'http://img6.douban.com/mpic/s2767431.jpg'},\n",
       " 'alt': 'https://movie.douban.com/subject/1939774/',\n",
       " 'id': '1939774',\n",
       " 'mobile_url': 'https://movie.douban.com/subject/1939774/mobile',\n",
       " 'title': '无所事事的海盗',\n",
       " 'do_count': None,\n",
       " 'share_url': 'http://m.douban.com/movie/subject/1939774',\n",
       " 'seasons_count': None,\n",
       " 'schedule_url': '',\n",
       " 'episodes_count': None,\n",
       " 'countries': ['美国'],\n",
       " 'genres': ['动画', '冒险', '喜剧'],\n",
       " 'collect_count': 809,\n",
       " 'casts': [{'alt': None, 'avatars': None, 'name': 'Phil Vischer', 'id': None},\n",
       "  {'alt': None, 'avatars': None, 'name': 'Mike Nawrocki', 'id': None},\n",
       "  {'alt': 'https://movie.douban.com/celebrity/1076005/',\n",
       "   'avatars': {'small': 'http://img6.douban.com/f/movie/ca527386eb8c4e325611e22dfcb04cc116d6b423/pics/movie/celebrity-default-small.png',\n",
       "    'large': 'http://img6.douban.com/f/movie/63acc16ca6309ef191f0378faf793d1096a3e606/pics/movie/celebrity-default-large.png',\n",
       "    'medium': 'http://img6.douban.com/f/movie/8dd0c794499fe925ae2ae89ee30cd225750457b4/pics/movie/celebrity-default-medium.png'},\n",
       "   'name': 'Cam Clarke',\n",
       "   'id': '1076005'},\n",
       "  {'alt': None, 'avatars': None, 'name': 'Laura Gerow', 'id': None}],\n",
       " 'current_season': None,\n",
       " 'original_title': \"The Pirates Who Don't Do Anything: A VeggieTales Movie\",\n",
       " 'summary': '艾略特（Mike Nawrocki 配音）、乔治（Phil Vischer 配音）和塞其维克在同一间餐厅打工，每天重复着日复一日的枯燥生活，它们感到自己的灵魂正在繁重的工作中慢慢死去。三人的心中都有着各自的英雄梦，它们都觉得自己不会在碌碌无为中了却此生，然而残酷的现实预示着，这恐怖噩梦的预想或许就要成真。\\n某日，一个神秘的魔法球掉落到了三人的脚边，彻底改变了它们平凡的命运，在魔法力量的影响下，三人穿越回了十七世纪，改头换面成为了驰骋在无垠大海中的海盗。等待着它们的，是一位又一位凶险的敌人和一个又一个艰巨的任务，在寻找回家的路的同时，三人亦领略了何为勇气和爱。©豆瓣',\n",
       " 'subtype': 'movie',\n",
       " 'directors': [{'alt': None,\n",
       "   'avatars': None,\n",
       "   'name': 'Mike Nawrocki',\n",
       "   'id': None}],\n",
       " 'comments_count': 121,\n",
       " 'ratings_count': 608,\n",
       " 'aka': ['蔬菜海盗历险记', '无所事事的海盗']}"
      ]
     },
     "execution_count": 10,
     "metadata": {},
     "output_type": "execute_result"
    }
   ],
   "source": [
    "df['douban_info'][1]"
   ]
  },
  {
   "cell_type": "markdown",
   "metadata": {
    "slideshow": {
     "slide_type": "slide"
    }
   },
   "source": [
    "### 数据清理"
   ]
  },
  {
   "cell_type": "markdown",
   "metadata": {
    "slideshow": {
     "slide_type": "fragment"
    }
   },
   "source": [
    "- 数据存在的问题\n",
    "    + ['imdb_info']['imdbRating'] 可能不存在\n",
    "    + ['imdb_rating'] 有 'N/A'的情况\n",
    "    + 有的['imdb_rating']为类似'23,421', 需要去掉逗号"
   ]
  },
  {
   "cell_type": "code",
   "execution_count": 11,
   "metadata": {},
   "outputs": [],
   "source": [
    "df['imdb_rating'] = df['omdb_info'].apply(lambda x: x.get('imdbRating', np.nan))\n",
    "df['metascore'] = df['omdb_info'].apply(lambda x: x.get('Metascore', np.nan))\n",
    "df = df.dropna()\n",
    "df = df[(df.imdb_rating != 'N/A') &(df.metascore != 'N/A')]\n",
    "\n",
    "df['year']=df['omdb_info'].apply(lambda x: x.get('Year', np.nan))\n",
    "df['year'] = df['year'].astype(float)\n",
    "df['imdb_ratings_count'] = df['omdb_info'].apply(lambda x: int(x['imdbVotes'].replace(',', '')))\n",
    "df['imdb_rating'] = df['imdb_rating'].astype(float)\n",
    "df['imdb_ratings_count'] = df['imdb_ratings_count'].astype(int)\n",
    "# df['name'] = df['name'].apply(lambda x: x.encode('ascii','ignore'))\n",
    "df['metascore'] = df['metascore'].astype(float)\n",
    "df['metascore'] = df['metascore']/10\n",
    "df['genre']=df['omdb_info'].apply(lambda x: x.get('Genre', 'none'))\n",
    "df['country']=df['omdb_info'].apply(lambda x: x.get('Country', 'none'))\n",
    "# df['genre'] = df['genre_all'].apply(lambda x: x)\n",
    "# # df['country'] = df['country_all'].apply(lambda x: x.split(',')[0])\n",
    "# df['country'] = df['country_all'].apply(lambda x: x)\n",
    "\n",
    "df['name'] = df['douban_info'].apply(lambda x: x['title'])\n",
    "df['db_rating'] = df['douban_info'].apply(lambda x: x['rating']['average'])\n",
    "df['db_ratings_count'] = df['douban_info'].apply(lambda x: x['ratings_count'])\n",
    "df['image_url']=df['douban_info'].apply(lambda x: x['images']['large'])\n",
    "df['douban_url']=df['douban_info'].apply(lambda x: x['alt'])\n",
    "df['douban_year']=df['douban_info'].apply(lambda x: x['year'])\n",
    "df['genre_douban']=df['douban_info'].apply(lambda x: x['genres'])\n",
    "df['country_douban']=df['douban_info'].apply(lambda x: x['countries'])\n",
    "\n",
    "df.drop('douban_info', 1, inplace=True)\n",
    "df.drop('omdb_info', 1, inplace=True)"
   ]
  },
  {
   "cell_type": "markdown",
   "metadata": {
    "slideshow": {
     "slide_type": "subslide"
    }
   },
   "source": [
    "### 数据探索分析"
   ]
  },
  {
   "cell_type": "code",
   "execution_count": 12,
   "metadata": {
    "scrolled": true,
    "slideshow": {
     "slide_type": "fragment"
    }
   },
   "outputs": [
    {
     "data": {
      "text/html": [
       "<div>\n",
       "<style scoped>\n",
       "    .dataframe tbody tr th:only-of-type {\n",
       "        vertical-align: middle;\n",
       "    }\n",
       "\n",
       "    .dataframe tbody tr th {\n",
       "        vertical-align: top;\n",
       "    }\n",
       "\n",
       "    .dataframe thead th {\n",
       "        text-align: right;\n",
       "    }\n",
       "</style>\n",
       "<table border=\"1\" class=\"dataframe\">\n",
       "  <thead>\n",
       "    <tr style=\"text-align: right;\">\n",
       "      <th></th>\n",
       "      <th>imdb_rating</th>\n",
       "      <th>metascore</th>\n",
       "      <th>year</th>\n",
       "      <th>imdb_ratings_count</th>\n",
       "      <th>db_rating</th>\n",
       "      <th>db_ratings_count</th>\n",
       "    </tr>\n",
       "  </thead>\n",
       "  <tbody>\n",
       "    <tr>\n",
       "      <th>count</th>\n",
       "      <td>2502.000000</td>\n",
       "      <td>2502.000000</td>\n",
       "      <td>2502.000000</td>\n",
       "      <td>2.502000e+03</td>\n",
       "      <td>2502.000000</td>\n",
       "      <td>2502.000000</td>\n",
       "    </tr>\n",
       "    <tr>\n",
       "      <th>mean</th>\n",
       "      <td>6.374221</td>\n",
       "      <td>5.441647</td>\n",
       "      <td>2010.620703</td>\n",
       "      <td>5.662486e+04</td>\n",
       "      <td>6.085651</td>\n",
       "      <td>20699.289768</td>\n",
       "    </tr>\n",
       "    <tr>\n",
       "      <th>std</th>\n",
       "      <td>0.993491</td>\n",
       "      <td>1.721034</td>\n",
       "      <td>3.179870</td>\n",
       "      <td>1.093372e+05</td>\n",
       "      <td>2.324885</td>\n",
       "      <td>50322.771295</td>\n",
       "    </tr>\n",
       "    <tr>\n",
       "      <th>min</th>\n",
       "      <td>1.600000</td>\n",
       "      <td>0.100000</td>\n",
       "      <td>1939.000000</td>\n",
       "      <td>1.200000e+01</td>\n",
       "      <td>0.000000</td>\n",
       "      <td>0.000000</td>\n",
       "    </tr>\n",
       "    <tr>\n",
       "      <th>25%</th>\n",
       "      <td>5.800000</td>\n",
       "      <td>4.200000</td>\n",
       "      <td>2009.000000</td>\n",
       "      <td>2.821000e+03</td>\n",
       "      <td>5.900000</td>\n",
       "      <td>235.000000</td>\n",
       "    </tr>\n",
       "    <tr>\n",
       "      <th>50%</th>\n",
       "      <td>6.450000</td>\n",
       "      <td>5.500000</td>\n",
       "      <td>2011.000000</td>\n",
       "      <td>1.350950e+04</td>\n",
       "      <td>6.700000</td>\n",
       "      <td>2592.500000</td>\n",
       "    </tr>\n",
       "    <tr>\n",
       "      <th>75%</th>\n",
       "      <td>7.100000</td>\n",
       "      <td>6.700000</td>\n",
       "      <td>2012.000000</td>\n",
       "      <td>6.073825e+04</td>\n",
       "      <td>7.500000</td>\n",
       "      <td>14463.750000</td>\n",
       "    </tr>\n",
       "    <tr>\n",
       "      <th>max</th>\n",
       "      <td>9.000000</td>\n",
       "      <td>10.000000</td>\n",
       "      <td>2014.000000</td>\n",
       "      <td>1.451699e+06</td>\n",
       "      <td>9.500000</td>\n",
       "      <td>586362.000000</td>\n",
       "    </tr>\n",
       "  </tbody>\n",
       "</table>\n",
       "</div>"
      ],
      "text/plain": [
       "       imdb_rating    metascore         year  imdb_ratings_count    db_rating  \\\n",
       "count  2502.000000  2502.000000  2502.000000        2.502000e+03  2502.000000   \n",
       "mean      6.374221     5.441647  2010.620703        5.662486e+04     6.085651   \n",
       "std       0.993491     1.721034     3.179870        1.093372e+05     2.324885   \n",
       "min       1.600000     0.100000  1939.000000        1.200000e+01     0.000000   \n",
       "25%       5.800000     4.200000  2009.000000        2.821000e+03     5.900000   \n",
       "50%       6.450000     5.500000  2011.000000        1.350950e+04     6.700000   \n",
       "75%       7.100000     6.700000  2012.000000        6.073825e+04     7.500000   \n",
       "max       9.000000    10.000000  2014.000000        1.451699e+06     9.500000   \n",
       "\n",
       "       db_ratings_count  \n",
       "count       2502.000000  \n",
       "mean       20699.289768  \n",
       "std        50322.771295  \n",
       "min            0.000000  \n",
       "25%          235.000000  \n",
       "50%         2592.500000  \n",
       "75%        14463.750000  \n",
       "max       586362.000000  "
      ]
     },
     "execution_count": 12,
     "metadata": {},
     "output_type": "execute_result"
    }
   ],
   "source": [
    "df.describe()"
   ]
  },
  {
   "cell_type": "code",
   "execution_count": 13,
   "metadata": {
    "slideshow": {
     "slide_type": "subslide"
    }
   },
   "outputs": [
    {
     "data": {
      "image/png": "[encoded data removed]",
      "text/plain": [
       "<Figure size 864x432 with 1 Axes>"
      ]
     },
     "metadata": {
      "needs_background": "light"
     },
     "output_type": "display_data"
    }
   ],
   "source": [
    "bins=np.linspace(0,10)\n",
    "df['imdb_rating'].hist(bins=bins, alpha=0.5, density=True, label = 'IMDB', figsize=(12,6))\n",
    "df['db_rating'].hist(bins=bins, alpha=0.5, density=True,label = 'douban', figsize=(12,6))\n",
    "plt.legend()\n",
    "plt.show()"
   ]
  },
  {
   "cell_type": "markdown",
   "metadata": {
    "slideshow": {
     "slide_type": "fragment"
    }
   },
   "source": [
    "- 可见，豆瓣有些电影没有评分"
   ]
  },
  {
   "cell_type": "markdown",
   "metadata": {
    "slideshow": {
     "slide_type": "subslide"
    }
   },
   "source": [
    "### 重新数据清理"
   ]
  },
  {
   "cell_type": "markdown",
   "metadata": {
    "slideshow": {
     "slide_type": "fragment"
    }
   },
   "source": [
    "- 筛选出Imdb和豆瓣都有评分的电影"
   ]
  },
  {
   "cell_type": "code",
   "execution_count": 14,
   "metadata": {
    "slideshow": {
     "slide_type": "fragment"
    }
   },
   "outputs": [],
   "source": [
    "dfFilter = df.query('db_rating > 0')"
   ]
  },
  {
   "cell_type": "markdown",
   "metadata": {
    "slideshow": {
     "slide_type": "subslide"
    }
   },
   "source": [
    "### 重新数据探索"
   ]
  },
  {
   "cell_type": "code",
   "execution_count": 15,
   "metadata": {
    "slideshow": {
     "slide_type": "fragment"
    }
   },
   "outputs": [
    {
     "data": {
      "text/html": [
       "<div>\n",
       "<style scoped>\n",
       "    .dataframe tbody tr th:only-of-type {\n",
       "        vertical-align: middle;\n",
       "    }\n",
       "\n",
       "    .dataframe tbody tr th {\n",
       "        vertical-align: top;\n",
       "    }\n",
       "\n",
       "    .dataframe thead th {\n",
       "        text-align: right;\n",
       "    }\n",
       "</style>\n",
       "<table border=\"1\" class=\"dataframe\">\n",
       "  <thead>\n",
       "    <tr style=\"text-align: right;\">\n",
       "      <th></th>\n",
       "      <th>imdb_rating</th>\n",
       "      <th>metascore</th>\n",
       "      <th>year</th>\n",
       "      <th>imdb_ratings_count</th>\n",
       "      <th>db_rating</th>\n",
       "      <th>db_ratings_count</th>\n",
       "    </tr>\n",
       "  </thead>\n",
       "  <tbody>\n",
       "    <tr>\n",
       "      <th>count</th>\n",
       "      <td>2231.000000</td>\n",
       "      <td>2231.000000</td>\n",
       "      <td>2231.000000</td>\n",
       "      <td>2.231000e+03</td>\n",
       "      <td>2231.000000</td>\n",
       "      <td>2231.000000</td>\n",
       "    </tr>\n",
       "    <tr>\n",
       "      <th>mean</th>\n",
       "      <td>6.413043</td>\n",
       "      <td>5.473151</td>\n",
       "      <td>2010.589870</td>\n",
       "      <td>6.341743e+04</td>\n",
       "      <td>6.824877</td>\n",
       "      <td>23212.752577</td>\n",
       "    </tr>\n",
       "    <tr>\n",
       "      <th>std</th>\n",
       "      <td>0.969127</td>\n",
       "      <td>1.728433</td>\n",
       "      <td>3.272232</td>\n",
       "      <td>1.139344e+05</td>\n",
       "      <td>1.007254</td>\n",
       "      <td>52742.542957</td>\n",
       "    </tr>\n",
       "    <tr>\n",
       "      <th>min</th>\n",
       "      <td>1.600000</td>\n",
       "      <td>0.100000</td>\n",
       "      <td>1939.000000</td>\n",
       "      <td>1.580000e+02</td>\n",
       "      <td>2.600000</td>\n",
       "      <td>20.000000</td>\n",
       "    </tr>\n",
       "    <tr>\n",
       "      <th>25%</th>\n",
       "      <td>5.800000</td>\n",
       "      <td>4.200000</td>\n",
       "      <td>2009.000000</td>\n",
       "      <td>4.834000e+03</td>\n",
       "      <td>6.200000</td>\n",
       "      <td>622.000000</td>\n",
       "    </tr>\n",
       "    <tr>\n",
       "      <th>50%</th>\n",
       "      <td>6.500000</td>\n",
       "      <td>5.500000</td>\n",
       "      <td>2011.000000</td>\n",
       "      <td>1.882100e+04</td>\n",
       "      <td>6.800000</td>\n",
       "      <td>3735.000000</td>\n",
       "    </tr>\n",
       "    <tr>\n",
       "      <th>75%</th>\n",
       "      <td>7.100000</td>\n",
       "      <td>6.700000</td>\n",
       "      <td>2012.000000</td>\n",
       "      <td>7.037450e+04</td>\n",
       "      <td>7.550000</td>\n",
       "      <td>18163.500000</td>\n",
       "    </tr>\n",
       "    <tr>\n",
       "      <th>max</th>\n",
       "      <td>9.000000</td>\n",
       "      <td>10.000000</td>\n",
       "      <td>2014.000000</td>\n",
       "      <td>1.451699e+06</td>\n",
       "      <td>9.500000</td>\n",
       "      <td>586362.000000</td>\n",
       "    </tr>\n",
       "  </tbody>\n",
       "</table>\n",
       "</div>"
      ],
      "text/plain": [
       "       imdb_rating    metascore         year  imdb_ratings_count    db_rating  \\\n",
       "count  2231.000000  2231.000000  2231.000000        2.231000e+03  2231.000000   \n",
       "mean      6.413043     5.473151  2010.589870        6.341743e+04     6.824877   \n",
       "std       0.969127     1.728433     3.272232        1.139344e+05     1.007254   \n",
       "min       1.600000     0.100000  1939.000000        1.580000e+02     2.600000   \n",
       "25%       5.800000     4.200000  2009.000000        4.834000e+03     6.200000   \n",
       "50%       6.500000     5.500000  2011.000000        1.882100e+04     6.800000   \n",
       "75%       7.100000     6.700000  2012.000000        7.037450e+04     7.550000   \n",
       "max       9.000000    10.000000  2014.000000        1.451699e+06     9.500000   \n",
       "\n",
       "       db_ratings_count  \n",
       "count       2231.000000  \n",
       "mean       23212.752577  \n",
       "std        52742.542957  \n",
       "min           20.000000  \n",
       "25%          622.000000  \n",
       "50%         3735.000000  \n",
       "75%        18163.500000  \n",
       "max       586362.000000  "
      ]
     },
     "execution_count": 15,
     "metadata": {},
     "output_type": "execute_result"
    }
   ],
   "source": [
    "dfFilter.describe()"
   ]
  },
  {
   "cell_type": "code",
   "execution_count": 16,
   "metadata": {
    "scrolled": false,
    "slideshow": {
     "slide_type": "subslide"
    }
   },
   "outputs": [
    {
     "data": {
      "image/png": "[encoded data removed]",
      "text/plain": [
       "<Figure size 864x432 with 1 Axes>"
      ]
     },
     "metadata": {
      "needs_background": "light"
     },
     "output_type": "display_data"
    }
   ],
   "source": [
    "dfFilter['imdb_rating'].hist(bins=bins, alpha=0.5, density=True, label = 'IMDB', figsize=(12,6))\n",
    "dfFilter['db_rating'].hist(bins=bins,alpha=0.5,  density=True, label = 'douban', figsize=(12,6))\n",
    "plt.legend()\n",
    "plt.show()"
   ]
  },
  {
   "cell_type": "code",
   "execution_count": 17,
   "metadata": {
    "slideshow": {
     "slide_type": "notes"
    }
   },
   "outputs": [],
   "source": [
    "def plt_configure(ax=None, xlabel=None, ylabel=None, title='', legend=False, tight=False, figsize=False, no_axis=False):\n",
    "    if ax == None :\n",
    "        ax=plt.gca()\n",
    "        plt.suptitle(title)\n",
    "    else:\n",
    "        ax.set_title(title)\n",
    "    if xlabel:\n",
    "        ax.set_xlabel(xlabel)\n",
    "    if ylabel:\n",
    "        ax.set_ylabel(ylabel)\n",
    "    if legend:\n",
    "        if isinstance(legend, dict):\n",
    "            ax.legend(**legend)\n",
    "        else:\n",
    "            ax.legend()\n",
    "    if tight:\n",
    "        if tight == 'xtight' or tight == 'x':\n",
    "            ax.autoscale(enable=True, axis='x', tight=True)\n",
    "        elif tight == 'ytight':\n",
    "            ax.autoscale(enable=True, axis='y', tight=True)\n",
    "        else:\n",
    "            ax.axis('tight')\n",
    "    if figsize:\n",
    "        plt.gcf().set_size_inches(figsize)\n",
    "    if no_axis:\n",
    "        plt.gca().axis('off')\n",
    "        legend = ax.legend()\n",
    "        if legend:\n",
    "            legend.remove()"
   ]
  },
  {
   "cell_type": "code",
   "execution_count": 18,
   "metadata": {
    "slideshow": {
     "slide_type": "notes"
    }
   },
   "outputs": [],
   "source": [
    "def plot_movie_scatter_comparison(df, title='', type='rank', legend=True, regression=True):\n",
    "    fig, ax = plt.subplots(figsize=(12,6))\n",
    "    # 1. plot scatter\n",
    "    if type == 'rating':\n",
    "        douban, imdb = df.db_rating, df.imdb_rating\n",
    "        start, scale = 0, 10\n",
    "    elif type =='rank_norm':\n",
    "        douban, imdb = df.db_rank_norm, df.imdb_rank_norm\n",
    "        start, scale = -4, 4\n",
    "        deviation_range = 1.28\n",
    "    else:\n",
    "        douban, imdb = df.db_rank, df.imdb_rank\n",
    "        start, scale = 0, 100\n",
    "        deviation_range = 20\n",
    "    x = [start, scale]\n",
    "    plt.plot(x, x, '--', color='black', label='1:1')\n",
    "\n",
    "    # 2. regression\n",
    "    x = np.linspace(start, scale)\n",
    "    if type != 'rating':\n",
    "        plt.fill_between(x, x - deviation_range, x + deviation_range, alpha=0.15)\n",
    "    if regression and len(df) >=20:\n",
    "        fit = np.polyfit(douban, imdb, 1)\n",
    "        fit_fn = np.poly1d(fit)\n",
    "        plt.plot(x, fit_fn(x), '-', label='Regression')\n",
    "    else:\n",
    "        fit_fn = 'Not available'\n",
    "\n",
    "    # 3. Plot scatter\n",
    "    scatter_plot = ax.scatter(douban, imdb, alpha=0.3)\n",
    "\n",
    "    plt.axis([start, scale, start, scale])\n",
    "    if type == 'rating':\n",
    "        plt_configure(xlabel='Douban Rating', ylabel='IMDB Rating', title=title)\n",
    "    elif type == 'rank_norm':\n",
    "        plt_configure(xlabel='Douban Rank (Normed)', ylabel='IMDB Rank (Normed)', title=title)\n",
    "    else:\n",
    "        plt_configure(xlabel='Douban Rank', ylabel='IMDB Rank', title=title)\n",
    "    if legend == True:\n",
    "        plt.gca().legend(loc='best')\n",
    "    plt.gca().set_aspect('equal')\n",
    "    return fig, fit_fn, scatter_plot"
   ]
  },
  {
   "cell_type": "markdown",
   "metadata": {
    "slideshow": {
     "slide_type": "subslide"
    }
   },
   "source": [
    "#### 散点图可以非常直观的比较两者的差别"
   ]
  },
  {
   "cell_type": "code",
   "execution_count": 19,
   "metadata": {
    "scrolled": true,
    "slideshow": {
     "slide_type": "fragment"
    }
   },
   "outputs": [
    {
     "name": "stdout",
     "output_type": "stream",
     "text": [
      "回归线： \n",
      "0.7563 x + 1.251\n"
     ]
    },
    {
     "data": {
      "image/png": "[encoded data removed]",
      "text/plain": [
       "<Figure size 864x432 with 1 Axes>"
      ]
     },
     "metadata": {
      "needs_background": "light"
     },
     "output_type": "display_data"
    }
   ],
   "source": [
    "fig, fit_fn , scatter_plot = plot_movie_scatter_comparison(dfFilter, title='', type='rating')\n",
    "print('回归线：{}'.format(fit_fn))\n",
    "# plt.show()"
   ]
  },
  {
   "cell_type": "code",
   "execution_count": 20,
   "metadata": {
    "scrolled": true,
    "slideshow": {
     "slide_type": "notes"
    }
   },
   "outputs": [
    {
     "name": "stderr",
     "output_type": "stream",
     "text": [
      "/home/VENV36/lib/python3.6/site-packages/pandas/core/indexing.py:1596: SettingWithCopyWarning: \n",
      "A value is trying to be set on a copy of a slice from a DataFrame.\n",
      "Try using .loc[row_indexer,col_indexer] = value instead\n",
      "\n",
      "See the caveats in the documentation: https://pandas.pydata.org/pandas-docs/stable/user_guide/indexing.html#returning-a-view-versus-a-copy\n",
      "  self.obj[key] = _infer_fill_value(value)\n",
      "/home/VENV36/lib/python3.6/site-packages/pandas/core/indexing.py:1743: SettingWithCopyWarning: \n",
      "A value is trying to be set on a copy of a slice from a DataFrame.\n",
      "Try using .loc[row_indexer,col_indexer] = value instead\n",
      "\n",
      "See the caveats in the documentation: https://pandas.pydata.org/pandas-docs/stable/user_guide/indexing.html#returning-a-view-versus-a-copy\n",
      "  isetter(ilocs[0], value)\n"
     ]
    }
   ],
   "source": [
    "dfFilter.loc[:,'diff']=dfFilter['db_rating']-dfFilter['imdb_rating'];\n",
    "dfFilter.loc[:,'diff_abs']=dfFilter['diff'].abs();\n",
    "dfFilter.loc[:,'imdb_rank'] = dfFilter['imdb_rating'].rank()/len(dfFilter)*100;\n",
    "dfFilter.loc[:,'db_rank'] = dfFilter['db_rating'].rank()/len(dfFilter)*100;\n",
    "dfFilter.loc[:,'rank_diff']=dfFilter['db_rank']-dfFilter['imdb_rank'];\n",
    "dfFilter.loc[:,'rank_diff_abs']=dfFilter['rank_diff'].abs();"
   ]
  },
  {
   "cell_type": "markdown",
   "metadata": {
    "slideshow": {
     "slide_type": "subslide"
    }
   },
   "source": [
    "#### 分剧情比较"
   ]
  },
  {
   "cell_type": "code",
   "execution_count": 21,
   "metadata": {
    "slideshow": {
     "slide_type": "notes"
    }
   },
   "outputs": [],
   "source": [
    "def category_overview2(df, category_name, category, main=False):\n",
    "    if main:\n",
    "        mask = df[category_name].apply(lambda x: category in x[0:1])\n",
    "    else:\n",
    "        mask = df[category_name].apply(lambda x: category in x[0:2])\n",
    "    sub_df = df[mask]\n",
    "    fig, fit_fn , scatter_plot = plot_movie_scatter_comparison(sub_df, legend=False)\n",
    "    slope = fit_fn[1]\n",
    "    mean_rank_diff = sub_df['rank_diff'].mean()\n",
    "#     print(category, len(sub_df), fit_fn, mean_rank_diff)\n",
    "    return len(sub_df), slope, mean_rank_diff"
   ]
  },
  {
   "cell_type": "code",
   "execution_count": 22,
   "metadata": {
    "slideshow": {
     "slide_type": "notes"
    }
   },
   "outputs": [],
   "source": [
    "def align_figures():\n",
    "    import matplotlib\n",
    "    from matplotlib._pylab_helpers import Gcf\n",
    "    from IPython.display import display_html\n",
    "    import base64\n",
    "    from ipykernel.pylab.backend_inline import show\n",
    "\n",
    "    images = []\n",
    "    for figure_manager in Gcf.get_all_fig_managers():\n",
    "        fig = figure_manager.canvas.figure\n",
    "        png = get_ipython().display_formatter.format(fig)[0]['image/png']\n",
    "        src = base64.encodebytes(png).decode()\n",
    "        images.append('<img style=\"margin:0\" align=\"left\" src=\"data:image/png;base64,{}\"/>'.format(src))\n",
    "\n",
    "    html = \"{}\".format(\"\".join(images))\n",
    "    show._draw_called = False\n",
    "    matplotlib.pyplot.close('all')\n",
    "    display_html(html, raw=True)"
   ]
  },
  {
   "cell_type": "code",
   "execution_count": 23,
   "metadata": {
    "scrolled": true,
    "slideshow": {
     "slide_type": "fragment"
    }
   },
   "outputs": [
    {
     "data": {
      "text/html": [
       "<img style=\"margin:0\" align=\"left\" src=\"data:image/png;base64,iVBORw0KGgoAAAANSUhEUgAAARkAAAEnCAYAAACdYDfKAAAAOXRFWHRTb2Z0d2FyZQBNYXRwbG90\n",
       "bGliIHZlcnNpb24zLjMuNCwgaHR0cHM6Ly9tYXRwbG90bGliLm9yZy8QVMy6AAAACXBIWXMAAAsT\n",
       "AAALEwEAmpwYAAB/e0lEQVR4nO2dd5xbxfX2v3NVV9rVVtvrggsuuGAwtukQIKGEFhJK6CEJhJLe\n",
       "3lTCjxQISUggkAYJAUIgBAKBUFIgCYTejA244IrL9ipp1XXvvH+MpJV2pStt0XrXvs/ns5Y1d+7c\n",
       "c1WOZs7zzDlCSokFCxYslAva7jbAggULezYsJ2PBgoWywnIyFixYKCssJ2PBgoWywnIyFixYKCss\n",
       "J2PBgoWywnIyezCEEM8IIRpT/z9cCPH9PH1eFkLMKGGsSUKI9UKIRiHEx4UQUghx1YA+s1PtlSWM\n",
       "5xJCnCyEuCHPsWOFEOuEEBEhxBNCiPqsY6cKId4RQoRS9zfX7JgQQhNCPCeEOLaYTRbKA8vJTFAI\n",
       "IbamvlDZf6GUEzgzzykuoFYIUZlyLC8LIV4GlgB/y2r7ToFL3gDcIqVsTT0PAd8TQtQMw/b3AZ3A\n",
       "7cBlA441AH8FvgU0AgK4KXWsEXgAuBqYAmwBbjM7JqU0gCuB24QQ1ud9N8B60Scu4lLK/bP/gNdS\n",
       "x76X3VEIMQWoBt4PfBD4MXB/6q8LeDTr+R8HXkgIMQk4Bbgrq3kDsAq4dhi2bwaWAhfnOXYe8IaU\n",
       "8hEppR/4LnCWEMIJLAJCqWN9wMNAeiZT8JiUci2wFThtGLZaGCEsJzNx4RBC/CP7DzigQN9PAQcD\n",
       "L6KcTBPKSWwAIqhf/fTzvjznfwB4XkoZGdD+JeByIcTCfBcVQrwghBj0xZZSNksp3ytg68HAq1nP\n",
       "3wQqUA5jNeq+zxFCOIArULMeihwDeAI4ucA1LZQR9t1tgIVhIyGl/CCAEOLvwCXA54Fonr77Av8D\n",
       "aoB/AL/MOiZQziK9v2Qn8JEB5x+ImrXkQEq5TghxG2o5M+gLLKU8svTbyaAR5VjSY8SFEEGgTkq5\n",
       "XghxYuoebgH+A3w91a+n0LEUVgEXDMMeCyOE5WQmLpxCiB+k/r8Y+CYqTvK+PH1jwA5gpZTycSFE\n",
       "FNg/T7+klPIXedrrgW0F7LgW2CSEOBVYOwT7C8HG4Bm2BhhCCHfqeu8CL6BmaOcDfzA7lhqjM3Uf\n",
       "FsYYlpOZuLABL6f+fwbwBtALbB/YUUp51QB25TyU0xk4O7kDyOdkoqjA8SBIKf1CiG8BP2N0Yh49\n",
       "QF36SSoWUwm0o4LE04GDpZQJIcSLwD1CiL8Anyx0TEoZRi258s3yLJQZlpOZgBBCuIAkaoZyKOpL\n",
       "uD/Ql5qplDLM+ahgbjY8Bfo2AfuYjPV7FIPz6VIuXARvA0dlPT8EFZzehgruviSlTKSOPQV4gUlF\n",
       "jm0HZqTuw8IYwwr8TkwcAGwCTk09/xJqVnPpEMb4kpTysOw/wF+g7/PkX4YBkKKJP48Kto4UfwKO\n",
       "FkKcnWLFrgVuT13jFeDDQojlQggvKubyHmpWZnaMlP0vjIJ9FoYIy8lMTFyACmyCYn0ekVI+QspJ\n",
       "SCn3F0LYUUHUZIExbsrWy6Q0M9UF+r4E1AkhFhUySEr5IvBQdlshdikltpPAf4H6lIBPpsbZhFr6\n",
       "3IxivbbRT5Pfg1rSPQk0A4cBp0uVFKngsRTbdC5wXyH7LZQPwkpaNfEghLgO9SX8NioOkqad95NS\n",
       "VgghngNmAauklB9OnXMscLaU8rNCiN8Bf5FS/iNrTBewXUrZWOCa5wNnSSnPLstNlRFCiM8B+0sp\n",
       "R2OmZWGIsGIyExBSym+n/vvF1N/A40eXOpYQ4v3Ab1FU9gMm1/yTEKJWCDFZStk+JIN3I4QKUDmB\n",
       "r+xuW/ZWWDMZCxYslBVWTMaCBQtlheVkLFiwUFZYTsaCBQtlheVkLFiwUFZYTsaCBQtlheVkLFiw\n",
       "UFZYTsaCBQtlheVkLFiwUFZYTsaCBQtlheVkLFiwUFZYTsaCBQtlxZg5GSFEhRBiwVhdz4IFC+MD\n",
       "ZXcyQgifEOIRoA34Wlb7F4QQO4QQ7wohTs5qv0EIsUsI8bYQYkW57bNgwUJ5MRapHgzgVuBxVCIh\n",
       "UlX/PoMqLLYP8LQQYhZwNCr14mzgOFQSomVjYKMFCxbKhLLPZKSUfVLKf5Oboe0jwANSyqCUch0q\n",
       "TeIK4EzgLillUkr5FDApVRnQggULExS7K2nVPsA7Wc93AVNT7Y9mtTel2luz2hBCXA5cDuD1elcs\n",
       "XJi3tpgFC7sHegISYTASoDnA4QGbI3PYkJKEPvw8TkKPI5IRhJFEanakvQJpcxY9x97XDEYSNAdS\n",
       "aAg9ikjGENJAajZU3jLA0BEYxA3Y1GXgcSC7wnLYE5Ld5WScqGVUGgagm7TnQEp5O6qOMitXrpSv\n",
       "v/56+Sy1YGEo8DfBu0+C2wfOSoj3QTQA+50C1dMJRhN0BGPDHt4WbMa77V/oriqkw4tIhLDFgoTm\n",
       "nIheNc30HM/GhzE8U0AmcXRvQosFIRFCk0kMuwdNjyERCCNCS9Dg+LvD2ATMrhnZgmd3OZkWVI2c\n",
       "NGagKhcObJ+GmuVYsDAx0LRKORiXTz1PPzatIuiaTEcwhi3YjKt9DVqkE6OigdjkA9GrpuVtt4Xa\n",
       "8G55EluoBd07Fd1Vg17ViHRWASCdVeiAq30N4TxOxhZsxvfWnWjRLoQ0sHVvwhYPYIt0oKIl6jdc\n",
       "S/QBBgKZcTC7AgaPX1TFV/4RGtFLsrt0Mk8A5wkhPEKIxahiXqtT7ZcIIWxCiBOAjVLK7t1kowUL\n",
       "Q0e4U81gsuGsJOJvyzgY77Z/IZJhDM8kRDKMd9u/cLa+Oajdt+YOal+7CZEIoldORySCeLf8DVtf\n",
       "W87w0uFFi3QOMiV9LeW0JmFIG87gNkQyjKpKnEw9StSiQaIbktPvSzmYCz0cPVMgJSPK0Vv2mYwQ\n",
       "ogpV27gKcKey5n8K+COqrGkUuCxVuuKvwDHAVlRBL6t2sYWJBU+DWiKlZzBAuM9PQKhqM672NUgj\n",
       "ibN7IyIWQLp8JCsm4d3yJPGGhTkzFEfPZqRMIN2qoKZ016FX1ONueZm+unmZ8UUihBYLUPvCdZkZ\n",
       "T2juKdhDrUgjiS0exOHfhqN3I9KQaEYwj+HKj9g0wXUfcONxwNGzlHsQgpKqBRZC2Z2MlDIIzMtz\n",
       "6L/A9QP6pouEfb7cdlmwUBZMX65iMgDOSsJ9fsL+bmJzTgTA0bsFh38HutODdFWDHsXVvREt2kVs\n",
       "aq4sTIsHkfaKnLakbw6u9jcR8WAmJuPsWIezZxOJqmlqxhP3U7P6NpKuWgQ6UnNhi/SgJULkCXEC\n",
       "0BI0eHGnzlmLHZw0L+UW7JVII0nS6EvkPalEWNsKLFgYTVRPV0Feu4dITwuBpCMnKKtF/RiaBnYP\n",
       "CPVoaBpIiUjkxj4MZxVSGAMuoBObdCDS7kELdyDtHkQiRKJqmprxaDaku46kuwZXxxrFIskEyapp\n",
       "9HMqWtYfmRjMp/4WoTOcvo7AMAwMZxW90ZGFLKy6Sxb2XvibVKA23KmWOdOXKycxCogkdILRBORO\n",
       "RNBdPpx9zWh9rQhDR2o2DIeXeM1cbLEgOmRmKInaebiaX8P93lMIPYG0OTCctfiXfQpN9svObOF2\n",
       "dE8jjp7NiGQEaa8g6W4APYG9dweuzrcQUodMaKX/MRPkDUqeuLCKBo8A7BiajWTdfELzP0Rf/Gt9\n",
       "jADWTMbC3ok01ZwMQ+Vk9fjuk6p9hONG1j5GIOjPCezags0AGO46hJ5efaiZhdATJKtnE5pzYs4M\n",
       "JTLtMKRDeal0WETocSqaX84JENui3bg6VoORQNo9YCRw9qwDKXD2vAsIJHYyOpiUk2kJygyL9Ngn\n",
       "pnLknArAjiFsirWqnIrhrkET2EbyklgzGQt7J0yo5pHMZiLvvUbAqDCnmB0VJCqmgc0NehR7pAcA\n",
       "vWpaDg1d+8J1JGrnIN39sRpH+2ocvZuITT80M37SOxVXx9voFbVK/GfElSNLhDEcFciKemyxAFKP\n",
       "IXS1JDOc1TyyqVexSJ+cxqGLp5OUoNu9OGKdRCcdhO6dhLNrHXbNcjIWLBRGoSVRuFPNYLLhrIS+\n",
       "Eivw5hk36JpMpLsF6ZmU01U6vGjhjtQzg7h3Gp6m59CivRjuGsLTjyZXg6pgC7UgseHqfA4R70M6\n",
       "K0GXCBmncv2DaNFuDHcdEtDddbg61iISYaQhkTYntkQAiR0hhJrEGAYSAdJAiwe4armdk5YuYGZ9\n",
       "BSKkdDPCFSPhmY5mxCHSjeHw0B2RvUN70XNhLZcs7LkwWxKlqeZsxPtU+zDGjax9jO7mbRgVDYMC\n",
       "uCIRwqhQ42qxAJ6m/6G7q0k0LEZ3V+Np+h9aLDDoMlJquNteBT2BdPhUjMW/FS2wC/QwRkU96GFc\n",
       "za/h6NlEsqIe3VmHZsSwJQKARBAHGUMKB1LYaA3qHP37CK+EZqJ76pjtjSA1N4na+eCqIultBIcT\n",
       "3V2LEBrxSQcQ17HYJQsW8iJ7SSQ09ej2qfbpy5XcPxYAaajHaEC1D3HcsPAQMCpwta9RKt1YEBEP\n",
       "gjQQ8SC2WJDY5AMBsAd2Im0O0JyAAM2JtDmwB3YOvo4gFT6RqXCKRMgkaFrO+UKPgJRgd2OLdoKw\n",
       "gWZPnSwAgdAjtAbiHH93mLfbdaLRCNJWoY4mAkinF0OzoyUjivIOd2CMSB3TD8vJWNhzUUB9S7gz\n",
       "h2qmr109pvYXDWXccDxJIJLIqG71qmmDArg5FHaij3jtYtAcSnmrOYjXLk7J+nMhMIhNPQRsTrR4\n",
       "EGxOdGct0lWTcz42B9hcIOwImQBhQ9pcAEitAhC0BBMcf3eAXUHJ4xfXcvRM5YgMuxfNUMrfZNU+\n",
       "CKkjjCTCiBObeij5lnFDhRWTsbDnIo/6NmdJVD19eEFeTwO0vEW85W0IdlHpriVWt4jEpMXA4ABu\n",
       "NnTvVOz+bdjC7WjxPgxnJVIaJKvnDNq7ZDiqQEiiM47OnO/e9jRapBtny+toiTCGw4M0dKTNhhbr\n",
       "Tu0SiCMEgA2EoD1s4/i7g+wKGDxxUSVHzXKQcPqQDjeaHkUa4PBvRyT6kA4vhseGsLlwtb6O4a7H\n",
       "acOR92ZKhDWTsbDnYiRLIjNodpLrnyAe6sFw10Hcj/e9f2GI4r/ZsZp5uNpXQ8yP4fBCzI+rfTUJ\n",
       "d8OgvUvS7sEebEFEu1X6hWg3wohhj3Rk9DAiGcGW6MMe9UM8hG6vAnTQIxg2L0KPUO1McGCjjccv\n",
       "quGomRoGGrZwJ7ZQO1oygkgklBhQashkgor21yAeRgg7Se8U6ipEzUheLmsmY2HPRXpJ1LRKLYk8\n",
       "DbDfUSMW3MW2vUisej6aHlPBX1ctcU8jFS2vEt33BNNzXb2biU46EEekHREPIV0+ojXz8LS+Qmje\n",
       "qTnUd3zyYvSKOmyxXmx9TejeqUhDkvRORSMOyQQ4KzCM1FYBhwchQRe1CBmn1R/G7vZR74xz73mV\n",
       "GE4vceHGZkSUEBBIVs5Ssx5NYFTUokV70TUftkSAcONyjIo6kkaBvQglwnIyFvZsDHdJVADBaALZ\n",
       "vRO9cjq6liUfMXRsfcWFfLZQC3rtPPT6/XLOdex6Hunw5vSVDi+G20dg5WcybTM2/Q3dOxkj69qO\n",
       "xCYwkoTnfSjT1trp58O/+C21U6fw7yv2Q3oaVPBbSoxkmHj94oy9euV0SI3n6HgLbBWKHq9QGzMN\n",
       "aTkZC3s7hrs9YNcbsO5RCLSAbyosPgNmFM5dn044VeudiqNzLY7AdrR4CMPpJeGbRaJ+EQCetX+m\n",
       "eu3d2MJd6J56/EsuIbzkXEDFZGw9m/tnMk4viYrJ6N4pONrX4upejxbtwUjFeaTdnbO7Wre5EIFm\n",
       "NRtJbTWQiRjS7spsK2jpgzNu+A/NvXFu/PrxaMZbaG1vock4xEIIqeNsfh3DVYVeMRl7zzaETUPa\n",
       "3Ag9ioFfJbcCHn9PG7Hi14rJWJjYGO72gF1vwIu3QjwINTPU44u3qvY8yM5ol3A34G59AxIhDIcH\n",
       "EiHcrW+QcDfgWftn6l77CSRC6N7JkAhR99pP8Kz9M6BiMu6ONRALqJlLLIC7Yw1xz3S87/0L4v7+\n",
       "OM/Gv+J576mcfDLCSOKItiKSMcUmJWPKeUgBsR5agpJTrn+K5q4+/vSDKzmuoRtduLHHuhARP5oe\n",
       "RhhJtGQYLRnDHngPe99OiAWwRXqRRhJHXwvhin24cbWNH6xyjFjxazkZCxMbZloYM6x7FDy14KlX\n",
       "SwVPvXq+7tFBXQemzPS0vkLctw84KlVcxlFJ3LcPntZXqF57N7rDC+5aNa67Ft3hpXrt3YCKycQm\n",
       "LwNXtUq94KomNnkZFR1vEK9bAK5apXtx1SI1OyIZytldLaSO4agGuxthJMDuRq+YhPTWg7OGz93x\n",
       "As29Mf78vY9z1LwqIo0rsckoSVc9Ah0QSLsTw1kJmoZ0eAC7et1kDCFs7Jh5JlduOoi/bLVzwbzE\n",
       "iBW/1nLJwsTGcLcHBFrUDCYb7hrozc32mi8nry3Uhu6blRMXUTGZZrVE8g60x4ct1J46t4VkzVyS\n",
       "dQtyznW1v010xtE5cR5790ZEMldsq+lxcHqINq7s79e7FZEI07foHH5w3XE0t3WyYukCbJsfJzZ1\n",
       "BdLmIjH5AGxNAaTNTToLnjCSCJsLkabJpcG6bsmXNhyGPwbfPmUhH1g0hR9+ylL8WtibMdztAb6p\n",
       "EO3NbYv2qvYUCiX91r1TID7g3HgvuncKuqce4gO2CMQDqh0VkxFxf85hEfeje+oHtUubA8OeK1Ex\n",
       "bE6MAYnqmnvDXPOvLnRdZ/qUBg4+YCEiEVLXSoQw3LWQDGPY3KDHUmpgVKUDaWCkdno/1lrNJ949\n",
       "DA3Jbe+L8YFFUwbd+3BgzWQsTAwUCu5OXw6r71PtekKpXz0NsKxI5tbFZ8CzP4ae7WT0+5oDjlFF\n",
       "ToPRBME1jzN5/Z/UzMU7hcCi84nuewKBRedT9+qNqpCYswbivdijAboPuBwt0k3DM19DsDlzKYmd\n",
       "zmN/DEBo7inUvHYzBHZkqf4d+JdcQvXq3+II7UAkk0i7nYSjHlxePBseRtNjGDYXhk0J6Gw9GxHY\n",
       "afaHOeUXG9jlT3LO0bexuF5TzsNRSaJuHp5t/0Em47j8W5Fo2JJRDM0BEgy7HSF1whUz+elaD3/s\n",
       "XczBlR38cP9WHAvOHBmllAVrJmNh/KOk4K4Y8FgEVY3QMF/9qifC6rFhPlQ1ZhxM3as3QiKIXjkN\n",
       "EkHqXr0R99aniO57At2HfBUcVdj6msFRRfchXyW67wm4dr2MyKljCIIkrl0vA2oWlKiZB5pdxXM0\n",
       "O4maedj923EEtiMNVQNJGgbOSEsqD42eoph1bHqUePVc0Fy0dvs55Zcb2eVP8tfPH8zCRg8IgS3c\n",
       "hi24CwMbyAQ2PUy8ag6GtwG9og7D5kSvqCVRO5+d00/j8o6z+GPvUi6q38SvFr1NnWO03Evq/qUc\n",
       "USLy3Q6r7tJegHWPpURvWdsDYgG13wgKH1t8+pDHjEgXLdOOZ/ITn4REENz1/cejXeCoov3U3xcc\n",
       "duav5yKMJNhd/Y3JGFKzs+OqLXi2/F2peVOiOwARD1L7/PdUgTVnvz12/3tINKL7nphps/VsBM3F\n",
       "xn0/ztmf+T+a27r46xcO5oh5NSQmL8PRs1kVlTPi2KJ+olNXIhBIm5NY4wqVG9juITz3ZDa1Bfm/\n",
       "h16nOyb45vIkJ880Mvak+wDMnVz1hpSyPwg0RFgzGQvjH2YbHc2ODXHMMG6C3S2ACu7irBkwbo1q\n",
       "N4Ew4jBwe4Gwq3ZAi3TmFd1piVC/08wcSO26zh4KO1o8yLadLfT6+7jv5qs5apa7P3NeMqJ2aNu9\n",
       "aNFesLmRNjdaKk6U3sj57/VtfP7+1RjS4Lb3xTIOJrvPaMGKyVgY/yi20dHsWIljhuNJgoFeZCrv\n",
       "Sya4mz2TSQV3zSA1p5rJZEtLZBKpqTKy6XwzOTOZREjtY0qGc2YyCIEcIFGJJuO4nFUcdtBiXvnr\n",
       "r/BUuDHWvqHKz4KqbmDEwYhjuGtAjyIQGKlx9ViIW7ZM5b7NG1g6vZoblrbQYA8jGWBPRQl5dUqE\n",
       "5WQsjBxDVM7mhZlqt1hwN6sESX9Z2KPMrzd9Obz8a+jcSCISwLB5cFbPJ7DsUgAV3H3ph8hIF8ph\n",
       "6AgDug+/HCis6g3u+yF8m/8CKbEcMgkYBPdVkv/Y5AOpfeZq3O1voCUiGI4KopNXEFh0IbVrfosR\n",
       "C6jlDVIFZxG4t/4LIZM09wlO/EOQz3xwEZdyE7XxIIazioR3KjYjhqN9NSIRxRFsQugRdFcdni3/\n",
       "ACSGu4FQ2za+2nwML0cauMj9Al8TLxKNno5djyJiXdgivWjxXsBGePbx2ILNBUvfDgXWcsnCyDBE\n",
       "5WxelKzazRPcHW5emGArdG4ikYgTwwlGEkfv5sxyKDFpCdHGg0FzoqWWINHGg0lMWmKq6u056SYC\n",
       "885GanaQcaRmJzDvbHpOugmAio2P4W1+AWHElYzfiONtfgEtFiTum4XQbAhDR2g2dGc1NpKp0rFw\n",
       "4t1+dvYmWOLuACOWShoew9WzEV3zqmByLAjJMNLmRtpdiEQfIt7Hu/HJnLftZFZFpnB95YN8e/JL\n",
       "OJJBalb/BnvbGrR4H/bgDjCSGA4vIhnJSYA+EliBXwsjw7+uUY7Fk7WsCHeBswpO/F5pY5gFdhef\n",
       "Xvz4MO2Ohf2EbdWZJhHtRjqq6Dny2wUDtNLuofqNWyERUqreNKI94PDS8tEnTS87/Z4jIBnNXRbF\n",
       "A2iJMKEFH85UiwSoXP07hNTZJRv54K82sqs3zuMXVnL0bBeROQODwU78h3yZyvUPqPFtDhw9mzEc\n",
       "Hv4eXsS3e06jihC/rPgNyyraSVbtA4AW3Amak/D8DyH0uFpuJcNgcxGvW4C0e5h6+EetwK+F3YhA\n",
       "i1LKZsNdo9pLRbHg7XCDuyaI9zYRFrljSmc1tpCyu2CANtKJLdyV6yRAqXrDXUWvq0X9gwO8do9K\n",
       "e+mszu1rxAkntIyD+dsV8zl6liMTf+mHDS0lSNSiPWp8zYmMhflp4Hi+3P0RFtlbeLTiOpY5WxHJ\n",
       "eOZMIRxo8RBaPK0GBmxuVUJ3lALAlpOxMDKUoJwtimKq3ZEk/c6DYDRByDk5v/LWq+w2SwheTNVr\n",
       "BsNdrWYK2UiGMewVg+wxNCceh8Glhzfwtyvmc+S+lSrlrzYwlKqrvUiQUff6E/Cp8JX8LnAI53pX\n",
       "cefUv1DvSoAeRdqdmTOlTGA4vRhOH0KPpoaLIl2+UQsAW07Gwsiw+AwI96glkqGrx3CPai8VxTLY\n",
       "jWKGu/RWgdDcU7BHe3OyztmjvYTmngJgmhDcv+QSbImQWiIZOkR7sCVC+JdcUvT6/sWXYEtElJMy\n",
       "khAPYEtECM4/J8eetpadvOpXTuvzR1Rw5Gw3xAMIYUN31ijNjqFDtAthQKzhQEQ8SHTKcrYEbZy3\n",
       "7RReis/l+5UP8X3vA+CbTdw3B02PYwhHxm6hG0QnryBZMQmRCCGi3djiYZIVk3ISoI8EVkzGwshR\n",
       "bnaplOMlYOBeJGfrm3i3PJnJ1RKaewrxxoMyxwfm3I1NPjDDtpjljCmGyjduo3rd3aoutrsa/+JL\n",
       "6FtxRcaejl1bOO2GfxNM2Hjlt19myub7cvoma/fFN2C7Q2LSElzta3hmW4jvvl2HV0vws5kvcmBl\n",
       "DxgSIaTKRyMceHc9k2N3bObRuNrXYO/ZjC0WwHBXk6iZm7nfkYrxLArbgjlK+XLPWFHcqYzUSQRb\n",
       "Yddr/Y7MN63/fLOxUw4w3ttE0jkZZ5YjcW99Cu+GB9BSOhVdOHKcjKNjLZUbHsx8mQ1hzziZZP0C\n",
       "otOPzDioZH3/ruq6x6+gavs/gQTgIDjrJLpPuy1z3HDXYLhqELqO4apRehZAC3fS9d47nH7Dv2nu\n",
       "jfPHn38Pp2/SoL6Gp4FEzVwMhwfdOxXD00DcO5XbW2Lcu2YHSxps/GzmG0xNdGHYK0n69kEgVTzI\n",
       "WYF/xedyHGZ/Cd0akrXzco6NBqyZjIXCSFPLbt8ADUqJpUNKHafY8TRN7qlVQeVor1qSHfE5tQep\n",
       "0LnBVnjxVmLOasKiEhH3Y4/20rvsCtxbn6J2zW0YNmemXKymx+k58AoCR3wN99an1CZIty93E+Qh\n",
       "X8XwNFCz+jaS7hqkszpn3MrXf0PV9sdRNLvS14AkOOs0uk+7LUN/6w6vCh7HA9gSIfpmnYx/4/Oc\n",
       "9Iv1NPfGePjzKzi2rhdhREh6Gvr7RnrQvdOJTT0wc+1wKMRXAufxUnOS0+Y6+J7zj2geH0gNZ886\n",
       "RCyMXjWDZOVkhDSI1y5AaHZCKYbKu+1f6K4qpMOLSISwxYI5ZVysbQUWyofhJoQa6jjFjpslmDI7\n",
       "d92jysHYqjNJn5LuGrxbnsS3/l7lYJxesNnA6cWwOfGtvxcA3/o/KQfjTl3TXU/S7cO3/k94tzyp\n",
       "HExWMqn0uGoGo4quodkyRdhUOwWTWlVtepCfPtuhHMxXj+OIpfPQkn7Q4zl9hdSxhXZlrr3FmMZ5\n",
       "207mtZY4X/jAPL7X8F80jw/prsMe7cRw1YIGtnAL0l2HdHixRzrQXVW42tfgal+jHIyzCoSmanen\n",
       "jo0WLCdjoTBGizoeKUVtRpObnGtGU2uJkJrBZMPmVu2Y712yhVoG0c399HcCBmWrtKXaKUh/a8kI\n",
       "3zvvEP59zYkcsZ9KeiUMHc0YUFxNSpW4CvhvVy0fe2t/+gwHv53zLGcsm4493G9beh+TQKAlFHOU\n",
       "3seUpqfNqPrRguVkLBTGaFHHI6WozWjyAudGHLWmNLXh8EKask1Dj6p2iiSmKpR4yjsVcMCgTCx6\n",
       "qp1B9HeLP8YFt62mNerEaQRZsk+/wE9qNgxtwFdUCJKai9/smM6XNyxgdkWEPy18gWWTU+Nn2Zbe\n",
       "xySRGA7lUIUeVXR1ip4uVrt7NGA5GQuFMVrU8UgpajOaPM+5kb4e2qsWm9LUgUUXqhlBPAS6DvEQ\n",
       "mh4nsOhCQO1dskcDOVSxPRogsOh803GDs05CbTqKq/OMOComcxJADv3d0hPm5J+9xlMb/LzjPWbQ\n",
       "9Qx7NdicOVR5EC+fjn+e23bO4PRJ7fx+/gtMN1oz1Hu2bUl3A1qsBwzQPVNVcbhEKIeeLla7ezSw\n",
       "WwO/QogvA1ehWK4bpZS/FEJ8AfgKEAG+KKX8u9kYVuC3zBgF6rikcYodN6PJs86NOGppr1qcCVqa\n",
       "0dS+F3+Mb/29GXYpsOhCAkd8LXNJ99anBlHF6eJtZuMWY5c8a/9M+MXfcvLNb9LkT3Lvjf+Ppedd\n",
       "nfd6WqQ7Q5VvdsznquAn2BW285VZW7iwchVG5WDqPds2w5HLLuku3yAGyYyqh5EHfncbhS2EmA18\n",
       "HlgCuIGtQohngM+k2vYBnhZCzJJSjiiRsYUCKMWBmFHHQxmnWJG1YserGmHGwf3XqGoc1CWS0PEn\n",
       "E2RlLUALd+Lo3YIt1IaWCKNlxZMMVzXS6UUaSaTTi+HKjbMkJi2hT56T+fIlJi3JHDOjv8OLz8Yu\n",
       "EhlnEV50ds64Pe/8h4/c9DpNfp3HL67hwNouelDOwdn6BloihC24C2ftQqL7nkB0+pE83wLf3HUY\n",
       "druDXxywnfe3/A6tW2lnEu4GdO+UjKMAjUT1bBLVM0kvVrRoNwBC9G8uHehcIrM+MKrUdRq7bSYj\n",
       "hJgOvAAsAnzAG8DPgWop5dWpPi8CX5ZSvlxoHGsmM0yUQk+bUcfZs4jRoLmHayvAu08S1rwEdGcO\n",
       "BevoWFuQhrb3bKXujZvRHRVqr08yjC0RoXvFF+lbcQW2YHNBatf79h8L0t/xxoMKXjO67wnU/vNL\n",
       "hN58gA//KcRPP1jFUTM1wCBaOQ93eEfumMkIUe9MfuW8mF81z2ehJ8AvvHcxK/Q2uruq3+54H+Hp\n",
       "RxOZfwoiGcPV8gqahFjdQlzdG5AJteHRcFWiGQaxugVoiRBCQqJ6RkHqOo0JO5ORUjYJIa4FXka5\n",
       "2wuAs4B3srrtAgZtghFCXA5cDjBz5syy27pHIpv6hf7HplX9ziGbOob+x3WP9juZUsYpp62gHIzh\n",
       "BqFqSOuAq30NlRse7KehQdHQKHra0b1BOZg00+P0oQPV6+6mb8UVudQuuePm0N8ANi9GHHzr7yXe\n",
       "s6HgNZurD2LapkfxVdl5+apJ/bOKZAx330YMhy9nzL6E5Gs9Z/BPfQGnTurk6rlbmbT2HaSQOXbL\n",
       "RAR362uEl5yLs3ujotSRuNtWkfBNxxHzg5FAr56Jngxjj3QgkhEkIJ2LBt1fOMvJVLlzqyUMB7st\n",
       "8CuE8KEcyxeAnwFfBZyoojBpGAwO1SOlvF1KuVJKuXLSpEljYe6eh1Lo6VJ2WJdhh/RQbI342wjo\n",
       "zpxDmd3SJjR0wd3QUcXMmFG7ZvR3oWu2N+/g3NNP5DOP+VU6zqxlSyZdZ9aY2/V6zo5dw9P6QXx1\n",
       "zna+P38LbptEJBOZVJsZaA6V8wb6d1Pb3GqJZHOr/DRGInMNEQtAMo6m50YhBlLXVW4Hk6pcjBS7\n",
       "k126CHhLSvmMlPLOVFsrkP3zNwPYOeaW7Q0ohZ4uZYf1KO+QHoqtEUctflFdeLe0CQ1dcDe0W8Vl\n",
       "zKhdM/o73zVb21v54K3raG1u5uKDPKlseVlIP0+N+b/4fpzp/yKd0sddrp9y4bRW0j5J2h0qa142\n",
       "jASGXdVOyuym1qOq3K0eVdUPNEfmGtLlA7sTw5Y7S8mmrkfLwcDudTJRYJkQwiGEqAIWAE8D5wkh\n",
       "PEKIxUAdsHo32rjnohR6upQd1qO4Q3ootqZpajMK1oyGLrQb2r9Y7aQ2H7cw/T3wmq2tTZx64ys0\n",
       "+RPcef/DHHjc2YCh0nPqunrEIFq5AJGMc1vwKC4LXsZ00ckjrmtZ6QvkUOUJ70yEFDl2C6kTbTwY\n",
       "EQ+S8M1SlHqkh+iU5dgjPRiaA8NRmbPDWnfXI131ee9vNB0M7N7ArxP4PXAMiq6+W0p5nRDiW8Cn\n",
       "UE7oMinlC2bjWIHfEaAUVqiUHdajRXOXaOtAmtqMgjWjoQvthk7DbFwz+jt9Ta2vlaN/+g4b2iLc\n",
       "+edHWXnYEQDU/vNLVG39m0rBqTkJ7vshmo+7kZvue5Snu+o5zfYK11U+QGLxR4nue8IgqtzZ9Oog\n",
       "uyMLTs9hlxQMstmlgTusgUH355k0a5CDEUKMKPBrbZC0MKFQqHTseMXrL78IkHEw+dDcG+GaR9fy\n",
       "XleITx29Lx9dOSM3ZjNGKDSDGamTsVI9WJgwmCgOpr2tleef+Q9nnnuBqXMBeP29br7/xHoAfnjm\n",
       "Ug6eXWfav1wY7SVSNiwnM1FRyhJlLJYxUNqSasPfYdU9StxX1QjLL4aFJ/cff+5WeOMOiPRCRQ2s\n",
       "uBSO/lzmcGjLKyTffoSGPApbM/WtWXKpYsslsyVRoWPtba187MSVtHQFOP+9/8cUn5vgvh/KVCtI\n",
       "2+R7527u6t6fG8MnM6dS59pzj2Ru9/P4nsifjKqQGjeN7KWdPdCk/h8PDFoi5kM5HQxYy6WJiVIE\n",
       "cGMhkoPSBHsb/g7P/BAqqsFVA7FeiPjh2G8qR/PcrfDCT8BeAY5KSPRBMgJH/j84+nOEtryCfPHW\n",
       "vPlbgIK5XexdG/Pmbuk++P+hRXtNxXi+F39cUHAH5D22fp8LOPPbd9Lc6efxC6s4enZFpu5SuiyK\n",
       "Z+2fcb/6c74VPp8nowdwkusdbvDei5z9ATxtr+aK+EJdRBsPJjbjEFPBXLZw0N61maqND2HYnehV\n",
       "s5EyliMGHIhSHIwVk9kbnUwpJULKUUYkH0opiXLfBaqu9MA+jiq44D64eZlyKu4sWX/UD/YKgle+\n",
       "RvIf1yASwZxyIenyJUDBY+6mFwqWLtFivXlLk2B303Txi8y440CEHu8XxwHEQ0ib0uQMPNbSFeCE\n",
       "33fS5E/y+AWVHD03S9eTVQtbv+98PtdxBu8mG/lSzQtcVv0aItaDPdRGbPLSnIqV2aVOMvc2oE41\n",
       "kFO+pfr1W9RraXeDsKNXTi1Yw7vUGcxInYy1C3siohQB3FiI5KA0wV6wVc1gsuGqUe2glkiOAbY6\n",
       "KtEjPXQEY6b5W0yPmZQuKSrGMxHc5Tv21BadZn+Sxy/wqhlMNlK1sFdt7+Gc1otp0mv5zeRH+FTN\n",
       "a0r/ksonM0jEl1XqJHNveXK9ZAsHtWgvOLzqmnoqfpWnhne5l0g59o3JVSyMLkoRwI2FSA5KE+xV\n",
       "NaolUjZivf2bHCtq1BIpC3o8SDK1YdEsf4vpMZPSJUXFeCaCu+xj6ZXAx5Y5eecr+3DUnMFiO2kk\n",
       "uUM/la899Bb1tggP1P+G93ney7HJsFcMFg5mlTrJ3FueXC/ZwkHDXaNmbzKJtKWcyIAa3mPpYMBy\n",
       "MhMTpQjgxkIkB6UJ9pZfrGIw4S4lQAt3qefLL1bHV1yqpvhRP+g6eqQXGe8XxpnlbzE7Zla6pJgY\n",
       "z1xwp461dAU44pbtvLCxG02P4z30klTN636xXTRh8JXEFVyfOJ8j5jZw+7E6c+XOQTapkii5wsHs\n",
       "UidmuV6yhYPh6Uer/8f8GI6qHAEijL2DAYtdmphI139uWqXqP3saVIH57IBuKX1GAzNWqCDvukeh\n",
       "d5eawSy7KJddSrNIq+5RAemqRjj00/3taRbpjTvQw50kXdX4V1yRYXrijQfRu+wKxSD1NaF7p9K7\n",
       "8NwMg1ToWPp49dq7sYXa0T31dC/7dE7pEsUu9WC4q+k+oP+aGRZp/b1oiSCGw0vP/p/ItLd2Bznr\n",
       "67+kyZ/E0Oz0HHhZTi6aqq1/o0Wv4sr4l1gnZ/GJI2dz4aEzEWIJ3XaZ16ZoWjjY14zunUL34Zf3\n",
       "s0vhDoyKBkLTDh/ELulV0wjNOVFt6vRNo2/BmeqcWI8a54DLie57wm5xMGAFfi2MI0wkHcyFHzmF\n",
       "1uZmfn//Qxx82JGD+qze2ct3H1tHUjf41imLOHxu8eqS5cRIHIwlxrOwR2CiOJjurk5TByOl5K9v\n",
       "NvOrZzYzo9bD985Ywsw6T4HRxga7awaThuVkxgLlEMWNldCumIiu1D4mgr1gNEFwzeNMLrDHCIYv\n",
       "uBtJ+s184yb3O4sVhxzGBYdO5aQd12Hb0H+sd79zuOnpjfxzbRvvd2/iRvkHKp6uHFRdstB+qrzX\n",
       "q18wyH4t3DnofMPTMCjlpuHy4aqeQvXcQ8lNbjC2sJZL5UY5RHFjJbQrJqIrtY+JYC/YcADBNY+b\n",
       "ZpNztr45LMFdsn5BwfOKFXcbWIStpaMLWzKM6wPfBBh0zY6onSvlN1jnd/K5in9ype9FNFdVjj3h\n",
       "JecWLBoXnnIIldv/njOmPdJDsnI6scb+Qm7Org1ooU6SvqmZ8x2BFnRPA/GGhf0F3fQE+n5nUDlp\n",
       "+og/G5ZOZrxjtAqklXvMfFh1j3IennpVAM1Tr56vumdofQoUZ4u9/QgdwZhpITXAtJhaoWJp1Wvv\n",
       "Nj2vWHG37HFbgklO/vUWzry7Bd87dw265uvsz0cCX+a9gOTW+of5dPULaBU1g+yBwkXjqjY9OOg+\n",
       "kDq2vqYc+23BFoQRzTkfI4atrzWnoJvmqaOyY1X5PhtDgOVkyo1yiOLGSmhXTERXap88gr2Y3Ues\n",
       "W+UjM8tgp44PT3Bndl7R4m6pcVv8MU6+aRVNvTF+fPYC7JHuzDEp4b7AAXyi9SwqtTh/8d3KSbxc\n",
       "0B6ze1VivNzzhARNz41TaXps0JdWkzLTTyQj2B0uXBVVarYI5flsDAGWkyk3yiGKGyuhXTERXal9\n",
       "Bgj2YgmdSLArVQzNvJCaOj48wZ3ZeUWLu3nqaenoyjiYRz+7jCNmampcTz3xWIjvdB3P97s/wBEV\n",
       "23mg7jfM8emm9pjdqxLj5Z4nBRi23ICtYXPl5KcFMITI9NNcXtyargR5ntR2inJ8NoYAy8mUG+UQ\n",
       "xY2V0K6YiK7UPlmCvVg8QSTQkRHMgXkhNTAX45kJ7kZS3M2/5BK+8pdtNPVEefTTSzlihsyMu3nu\n",
       "J/hY18d5qG8pV/he5le+u6nVu5TIz8Qes3sNzj9n0HkIG3rl9Bz79aqpSM2dcz6aC72yEVeil4rq\n",
       "Roh0q9d7xsHl+2wMAVbgdyxgsUuw6w1ibz9CrHvnIJYHzDPYwe5hl8LP/5auF+7m8CmJzLiv1nyQ\n",
       "ax9bRyQa5YaaRzmZlwZd08wes3sdCbtUUTOV2u1PqqWpsxLqZqkNp6Pw2bB2YU8EJ2Nhwuhg2tta\n",
       "+d0vf87/+873cDhyE20//lYLt/x7E5N9Lr5/xv7MafAWGGVsUfZ8MJYYbxxhrGYXo2VPKTOQN/4I\n",
       "r98BoU7wNsDKS2HFRbl9iiStCkYTdDdvw2OSfMlsxgHm+XbNzjU7NnBGsWnSSVz4xR/R2tzMWedd\n",
       "xNK6ON4tT2IEW7m+40geap/KwbNrufrURdT3voP3hfzjFkuGVcimfPdoC7UN6ptdLTKjg/Ezvj57\n",
       "WbBmMqOFsdKujJY9pehb3vgjPHs9uCrB4YNEAGJ9cMy3+h1NkaRVaQdTqBqjXjXNVAeT/vIVOt8W\n",
       "ait4LhROaKWFO3P0Kq3trZx64yvsCkru/POjHDG7gprVt9Fqm8xXtx3M6qCPT9av45ITD8WmiYLj\n",
       "OpteNU2GVeheAwvOwtnXlHOPzvZ1OHo3k6ya2t832EKiZh7xyYtxe6uptsWgZ4d6L2pnluWzZ+lk\n",
       "xgvGSrsyWvaUom95/Q7lYCpqwW5Tj65K1Z5GAQ0M6x7NLJFyqjEKTVUrdFXhal8DmOtgANPzzc41\n",
       "18n061VaA3FOuWkVTf44f/3i4aw87Ai8W57kTX0W5284mg0hLzcs2MTnZ2/Ht+3v5rqddXf3V6bU\n",
       "7KoypaOC6nV3m96rb/2fBt2jw78JZCKnLzKBw78Jd2Ut1R6Xel/DXWoGM14+ewNgOZnRwlhpV0bL\n",
       "nlL0LaFONYPJhsOn2tMokLQq3tuUicGYVWMEcx1MsfOHndAqS6/S1B2mL5rg4a8cy9HTVcHSx3a6\n",
       "+OS7h+EQBncdsI6TJnWXNG6xZFiFz20bdI9aPMTAOm5IcOhhqiuy4kV6HAZUg9zd2phsWE5mtDBW\n",
       "2pXRsqcUfYu3QS2RspEIqPY08iStivV1E3JOzjw3q8YI5jqYYucPO6GVdwrhoBLIrdi3nrd+cgZH\n",
       "zHYQ9TTy839v4pqmg1le2c29B65lP2+45HGLJcMqfO6UQfdoOL0MrEhrt2m4KgY4fpsTBlSD3N3a\n",
       "mGxYTma0MFbaldGypxR9y8pLVQwm0gNJXT3G+lR7GgOSVsUCHSSCXRkNDJhXYwRzHUyx84eb0GrT\n",
       "pJM4+vvP86sn3gBDx2304g8l+UTnRTy6upnzFjm5bZ+nqdXbh5Yoq0gyrELnBhadP+geE9XzQTgy\n",
       "fV2JXtxOFzQsyH1fPfXKoYyXz94AWIHf0cRezi7Fe5sIOScPYobAnB2CsWWXdompKl1D007++sXD\n",
       "OXq6zhptMZ9vPxV/wsZXT1zABxZNGTZrVQ52yR1to6JuhnLqVY2D31co22fPorAnAgp92UupV1QI\n",
       "pTiI0YC3HqqmAkJdx5sn+VLbehJbn4NgO25PPbGaeYOcTDHo3inEGpdnvmDZOWlB7flxta7KfDGT\n",
       "3sa89YcGwt61EXfTCxmB2w69gQu/cRutzc3c/71LOUb7H492LOTq6EnUu5Lcct4K5k+pyntu9n2Z\n",
       "2Wu4azBcNQhdx3DVqLy7JdxrvnuMNx6Ea/YhVGTrYPxNQ3ptdzesmcxooRBlPG05NK8a3O6bAW/9\n",
       "2bxeUSGUQj+PBoVdIs2t//cHxO2DUy2kVa5mFLReNa3ocTOKG0qvuxQN9XL4jevYGRDc//3LOD76\n",
       "GD9MnMsfYsdwiH0Tt7puQxx8GX0rrhiU6iH7vmIzjy5or2vHcwXPCy85t+C9xiun49v40KD7SBzy\n",
       "WWr3O8z8c2ZR2HsJClHG6x7N377qnoLUb1GUQj+PBoVdQp/Ea3coB5Mn1UIaxSjskVDcQ0kD4a6q\n",
       "53PHNvK3q/ZjJW9wSfRL/CF2DJd4XuLO+vuocekZqtkshYSZvWbnmd2rotRz70Pz1qmtAsU+Z+FO\n",
       "FROzKOw9HIUo4/RekoHtwdbi9YoKoRT6eTQo7CJ9gtEEMthumtoAilPYI6G4S0kD0eKP8eLmXgA+\n",
       "ecy+1E+azFldV7E6OZsfVT/Mt3z/wC6MXKrZrGaTGaVucp7ZvdpCbTn34bRreHz1gz8P+d5XPaFo\n",
       "7JxrWhT2nodClLFvav72qsbi9YoKoRT6eTQobJM+aaFdsdQGUJzCHgnFXSwNREtHF6fcvIoLbn+L\n",
       "cFznMf9szg18BkPYuM93Kx+uWNN/YjbVbFazyYxSL/J6FDpX907J3IfTruF12fN/HvK9rzaHorFz\n",
       "rmlR2HseClHGi8/I37784uL1igqhFPp5NCjsAn3C+1+QEdoVS20AxSnskVDcZsc2Np7BKb96l13d\n",
       "Ue65bCm/6D2cr/nPZlGN5M7DOlgmNxakms3uy8zeYq9HoXNVCoheXIlevA5R+POQ7331NKilrEVh\n",
       "lwfjJvALhVmk3cUujQaFPaBPeP8LaJ16bE6XYqkNoDiFPRKKuxBNfdGZp9Kyczv3XbWMP3vP5cXE\n",
       "As6eGeLyMz+I3aYVpZrN7svM3mKvR6Fza7vf6U/XYPZ5yPe+wrilsC0nY6FkTJR0DQA3Xv9d7r79\n",
       "11x/x0Pcv81OZ1+MLx6/gJP3byx+8m7A7i5bYgZLJ2NhTDCRHAzAl75+NdMPP4NfvxXE6za4+dxl\n",
       "LJrqK37ibsB4djCjgZKcjBBiipSybUDbCinlGyO5uBCiGrgNOBqIAouAq4CvABHgi1LKv4/kGmXB\n",
       "aCl7zcYpdo1SbBgNO5+7leTrd+CO9DA9z5ICoPafX6Jq698QRhypOQnu+yF6Tropp0+xJUSx42ZZ\n",
       "7Or/+jEqm/9LSzDJlY9H+eEnTuDe+Tdw/yo/S2vi/NJzO43/3DGkrHml2FQIxcbNzmODbyoVB1+i\n",
       "lqn5ls997WMjuiwjSlouCSE2Ax+RUr6den4WcKuUsrjk0nzcPwAbgesAF6oC1d+BFcA+wNPALCll\n",
       "otAYY75cGq28MWbjgPk1SrFhNOx87lb0535M0p4/NwooB+Pb/BdAA2EHmQQMAvPOzjgaM2FbeMm5\n",
       "RY/7XvxxwRpJjrZ3qGz+Ny1Bg+PvDtMU93DsZd/gbecyPrJPmO+HrsXmdA+pJlO88aCiNhVCsdw4\n",
       "2XWX7BV1uPWACq4vOQda3sgVZ7asVTl8fdMKiyHHAGMlxvsk8LAQ4nQhxLeA7wPHDfeiAEKIRuAI\n",
       "4HqpEAU+AjwgpQxKKdcB76EczvjBaOWNMRun2DVKsWEU7Ey+fodyMAVyo4AqLA8a2F1KsGd3AVqq\n",
       "XaGYQK3YcbMaSWoGoxxMi2MfFl1+Mxuc+3Od/Xdcz63KwQyxJlMpNhVCsXHTeWzs3gbcLke/wPGN\n",
       "OwaLM/uaIRE1F0xOAJTkZKSU/wOOAb4BHAIcIqV8d4TXXgJsAx4SQrwrhLgRNXvZntVnFzBIOCKE\n",
       "uFwI8boQ4vWOjo4RmjFEjFbeGLNxil2jFBtGaGcwmkBGekxzowAII65mMNkQdtWeQjGBWlEBm0mN\n",
       "pJZgkuPvDtM+5TAaL/4p0u7mXucPOM/+n2HXZCrFpkIoOm6oTc1gHLb+Dq4aiPQOFmcm42AYuW0D\n",
       "BZMTAAWdjBAiIYSIp/9Qs4pDgVOBnlTbSDAZWAx8DlgOHAl8CHLKyhiAPvBEKeXtUsqVUsqVkyZN\n",
       "GqEZQ8Ro5Y0xG6fYNUqxYQR2poO8xXKjAEjNmVoiZUEmVXsKRWsRFROwmdRI0mw2HIddhO/0b7HY\n",
       "totH3dewQtsIaMOuyVSKTYVQbFx8U9USKRuxXqioGSzOtDtB0wb3rRqfDFkhFHQyUkqHlNI54M+e\n",
       "andIKZ2Fzi0R7cAbUspdUsoQ8BRwF7mVwWcAO0d4ndHFaOWNMRun2DVKsWGYdmazSMVyowAE9039\n",
       "LiRjSrCXjAFGql2hmECteK2iwTWSOv1Rts6+gK97byC4/0f5qO0/3Ov8PlNQM7W+accNuyZTKTYV\n",
       "gtm4VW6HCvLmE0GuuHSwOLNyGjjc5oLJCYCSdTJCiMOAWUBmnielvG/YFxbCC6wB3gd0Af8FHgIu\n",
       "BVYCs4G/AEukiZG7RSezh7JL+WjqYoI1GHt2qSni4gOP+NA++E10dw3fqHueTwR/jRAGoNE37Ti6\n",
       "PvKHouOOJbvkmn1IP01dSAQ5TtmlMRHjCSHuQ33xXwXSTI+UUn5yuBdOjXsycCOKWbpLSvmDVGD5\n",
       "UyhK+zIp5QtmY1hivNHBRNHBtLe1csGnv0Zy5fn4vB6uO3MZS2dUFz9xN2Ki62DGysnsAualGKBx\n",
       "BcvJjBwTxcG0trZw4bdvQS7+IPtUCm684NBx/+Wd6A4Gxo7CfgYYkSbGwvjERHEwfdEEl9z8GHLx\n",
       "B1k5WfDbS48a91/ePcHBjAZK3VYwA1gjhFgFZD6RUsoTy2LVeMd4iMmMgp2hLa+QfPsRGgrEJGB0\n",
       "Nj9C8diOWS3sHd1h/u+Bl9Ab5nFh5AG+7dxG4N1+O+oev4Kq7f9EreQdBGedRPdptxUdd7g1q0uB\n",
       "qYMptDG21Pd8vOWSLoJSl0vH5GuXUj476hYNEXul4ncU7AxteQX54q0FlalQXKkLxVNrgnIwZlUV\n",
       "s1WwOGsg3os9GqD7kK/y1545/Py/2/BqcW6ueYBDqrpz7HBv+w9V2x9H1Q6xoRQPkuCs0wgvPrvg\n",
       "uFqk2/TezGwq5miKOph8FTcPOBcCu4q/57uhUumYbJCUUj4rhLADkxhUCWYvQ7aSFvofm1YN7U02\n",
       "GwdGfg2T8YOuySTffgSRVqaCUqaiFKtpJ5OjegWlek21p51MTjpJUOkkU+3hlJPJqaoISjmcau9b\n",
       "cUVONUd1nXriEm5/ajV3Be0k23dw5z4PsrzaDdhy7HB2rAMEZHQ5NjDiVG3/J3aRGDRuElKzk1bT\n",
       "e8tnU/pcMydTdImUXXET+h9X3QP7n1H8PR+tz98YoqSYjBDiyyiaeSuKYdoBmLI+eyzGg+J3BONH\n",
       "/G10BGNFlalQmuq1WOpMoISqiv3VHAFCup1PN5/KXX2HEH33ee6o+CXLGwcUL8vYkSBLVZG2HEgM\n",
       "GledV4Mt1FZchWxybiGUFIMpUHGTYGtp7/l4q1RaAkoN/H4e2Bd4HDgIOAr4Z7mMGtcYD4rfYY4f\n",
       "7vPjF8UqGfbv4hiN1JpACVUVp0C8F4AdsUrO3Xw8z4dn0vfs7/j5J9/P+5Y0mtjhYLAoXAccOeP2\n",
       "n9eL7p1SXIVscm4+lBzkzVNxk2iv0sCU8p6Pt0qlJaBUJxOXUnYBa4FlUsqXgQ+Wz6xxjPGg+B3G\n",
       "+OFgD2F/d8lVG2F0UmtCceWwSj0Z4PluL+dtPZH2uJPAw//H7z5+MAcffqSpHcFZJwESjLg6ZsRR\n",
       "MZmTMuMSTaloo13YowECi84vQWVc+NyBGBKLNKDiZibN5vKLS3vPx1ul0hJQauD3C8BrqCXTf4Bu\n",
       "YKuUsoSEtOXFXqv4HcL4EX8bflE95KqNMDbskpSSB//xH25bZ2Oho52b93mOxKxj8Sw/qyQ7die7\n",
       "NCyaeoKxS2OeflMIUY+S/G+UUgaHe+HRgiXGM8d418FE4jo//ue7PLuxA1vTGr552v68//3v391m\n",
       "lYS9RQdTdjGeEOIQIcRZqfwvpJZN9cCIsuJZKD/Gu4Np7o3wuT+9yf82dSDeepTWh6/H53EXP3Ec\n",
       "YG9xMKMBUwpbCPF94EzgdeAGIcRFwKdRKRouKL954wBDyQw/1PrUZtUKilUyKHKtYDSBf9PL1JaY\n",
       "BrLQcmC0llQD+/xryqe4+p3JGIaB+N+vaXvzP/zl6jM5MnAf+gv/HXQds+WW2XLN7B6HkiYz+9wq\n",
       "t4NJ/nfgpQLvT7HPwVA+J2NcmaAcMF0uCSG2AftLKUNCiH2At4BfAtdIKY2CJ44hyrpcGkrdYVsF\n",
       "vHa7ed3obBQSZR3xOXW80LEZK4rWqE47mFLTQBYSmxVLJQmlCfay+0iHj9/3LuVnwROY6Umw4+Gf\n",
       "0LZxDX/98lEccuCCvNcxE/NFFpxeUAzo6Fhb8B4NT8OwXp/okd+gZvK0wu9PX7t5/fBS6osP5/M3\n",
       "jsV4xZZLiVSuF6SUOwE/48jBlB1DqTv8+h3Fa0tnI1uUNbAWttkxMK1RnV4ilZoGEnfqGu56km4f\n",
       "vvV/yphYbAwoLU1luk/YOYmvdp/GjcGTONG9jgerf8HRBy/jL1efqRxMoVSY2WK+AWlAzepSm93j\n",
       "cF4f4amhZsOfzN+fYvXDS6lBPpzP3zipe50PxZzMdCHEv9J/QAPwj6znezaGUnc41Fm8tnQ2Comy\n",
       "Ai3mx6BgjepEoDkTgyklDWQxsdloCfZs4S52aftwYcu5/D20H5dVPMMXtUeojrfxf9f/hCNn2U2v\n",
       "YybmM61LbSbGG+LrY7cJXN469dqbvT/FaoyXUoM8jQlY9zofim0rOKXI8T0baeGTK+tLZHMwaGdF\n",
       "vA+8DWrqm52e0SxVYlqUld0/u/ax2bF0jeqs44lwDzH35MzztNguvW0ABqSXTIvN3FnXGCA2KzYG\n",
       "ZAn20vJ8GCTYe0E7iC+1fAgdG9dXPsi1v/gL92sGL39zZUnXyYj5sp1ZSsyXFgOmtzVAVl1qk3sc\n",
       "yutjtwmVkzfcpV57s/cuHjL/HOR57wp+Toby+ZuoYjwp5bNmf2Nl5G7DUOoOr7y0eG3pbBQSZS0+\n",
       "w/wYDKpRnQh2ood6coRixcR2pYjNRirYk1Ly4Bu7uLTjPBq0IL90/oJrf/EgTT1RbvnwJPqWfryk\n",
       "65iJ+czEgGb3WOrr44j34NbIfT/N3p9iNcZLqUE+nM/fRBfjjWeUXSczztmlRKCZmHvysJihcrJL\n",
       "PQvO5qdPbeTp9e0cNa+Bz/he5OOf/zZNPVEe+fRS9j/j8zkMVLHr7A52qW7nf1UMJt/7afb+7GHs\n",
       "klULey8W441XHUxbIMo1j65lc3sfHz9yNhceOpMvX3Up//7Hk/z+/oc4+LAjd7eJRWHpYPoxpk5G\n",
       "CFEFLAA2SSkDxfqPBfZWJzNeHczqnb1897F1JHWDb56ykCPmqliBv7eH97Zu4cDlw/6sjhksB5OL\n",
       "slLYQohThRCrhRB3CCEOAd4Bfga8I4TYu4PCuxHj0cFIKXl4VRNffXANPredX164nHmVSf7v618m\n",
       "Fo1SXVNrOZi9FMXYpZ8Cl6HSPDwGHCelXCeEmAk8mfqzMIYYjw4mnjS46emN/HNtG4fvW883T1lI\n",
       "uLeTCz9yCq3NzZx70cdZvPSA3W1mUVgOpjwo5mTsUsrngeeFEN9P1adGSrlDCDG+3o3xkPd0qIFf\n",
       "M5vzBBaDDQdkHEwpAdligd1SairV/Pc7VG16EC0ZwbBXEJx/Dr3HfT9zvCMY47v3Ps26UCWfczzK\n",
       "Z7r+w+anTufC65+gtbmZO+9/mMVLDyhqSym1mwrBbGyze8wOWMvKSbgOuQxWXFTa+2OGYp+DoYw7\n",
       "Hj7XI0SxbQWdqOURwBeBm9OHgC9KKce4RuxgrFy5Ur7+70fHPO/pIAxFLg7muVqDrYNk6/G+LtqX\n",
       "fIp440Elyf2LbRsolncXlIOpXvcHpGZX6S2NOMJI4l/8MXqP+z5v7/Lz3YdfI5bQ+Yn7Tk5wv0tL\n",
       "b4gT72hnZ5/GnQ88zsrDjihqS+0/v4Rv818ATdXVlknAIDDv7KKOxmxse8/WgvdouGsyWx1s7hqc\n",
       "ehBifXDMt5SjGW4u3WKfg6GMuxvy+eZDubcV3IpKPeZA7VlK/98O/GK4Fx115JNfj7XUeihy8WI2\n",
       "D5Ctxxw1hG2+jOS9FLl/sW0DZlL9NKo2PagcjKNC3ZOjAqnZqdz4II+ububLD67Bp/fwoOdHnODd\n",
       "DDYbnXEXsSQ8fskkVh52REm2VG39G6CB3aWuY3cBWqrdHGZjm91jequDzVOH02mHilpwVartIcXe\n",
       "n5F8DoYy7nj4XI8CTJdLUsrvjpUhI0K4Eyon57Y5K9VmtbFCsHXwr4urRv0a5YOZzYEWqJkBQCyh\n",
       "E47r4KzG1qfGsoVa0CtzryWzjqs+beiVA0plOWuw9TUDpJYPtbnH7R60aE/mqZaMIG25cv6Y8PDd\n",
       "yNk88O9NHDqnjl+3fYYqp51gVFDpEiyd6uKdr8zGJfvYUaItwoiDGFBaXdhVexGYjW12j0LXoaoR\n",
       "pz3rd9bhg77UtorhfqaKfQ6GMu54+FyPAkrJJ3OEEOIZIURQCNEjhHhcCLFsDGwrHeMh72laLp4N\n",
       "s20FZjanZOsZB8NAyXsJ+XmL5KgtlncXwLBXpNJZKrQZ1VwY+SIP6Mdy4aEz+cGH96fSqdHSG+Lw\n",
       "W7dzw3+6AXCKGEbWfqJitkjNmVoiZUEmVXsRmI1tdo+ycpJaImUjEVDbQ2D4n6lin4OhjDsePtej\n",
       "gGIU9mHA74HrgSnAzNTzP48rRzMe8p4ORS5ezObFZxDv6yIS6MgreS9F7l9s20CxvLsAwfnnIIwk\n",
       "JCKsis/iw8GvsdGYwY/nvMWlR83Bpgk2TvkQJ97RTpM/wftmuyAeQtPjBBZdWLItwX0/BBiQjKnX\n",
       "LhkDjFS7OUzz+Ba4x9jST6ggb6wPIj2Q1NVjrE9tDyn2/ozkczCUccfD53oUUCzw+y/g/6SULw1o\n",
       "Pwb4upRyt2tlMmK88RCFHyV2KZ0Pxow9Gkt26Ym1rXwvdh6NooefLtxMwynfAKC9rVXR1Lve4/FL\n",
       "JnH0dB3D4SWw6EICR3xtSLaMFbsUW/oJfCd8SZ34xh9VDCbUqWYwKy+12KU8KKviVwixU0q5z1CP\n",
       "jSX2NMXveNLBJHSDX/xnM4+91cLKWbVcfeoifBWq/lE8HudDHziSpp07ufP+hzNB3vEMSwczPJS7\n",
       "gmTE5FjY5JiFYWA8OZiuvhjXPraOtc0Bzjt4n8zyKA2n08mnv/j/mDZ9huVgLJiimJOZJYTYmKdd\n",
       "ALt9FrMnYTw5mPUtAa7521pC0STfOXURxy3sZzja21rZtGE9Rx5zHB8666O70crSYTmY3YtiTmbB\n",
       "mFgxnlAsxcJojpmKCSRD7dhd9XiyEnAXi2GUEpMp1idfioaH5DHc/PRG6r0ubj3/IJZ2PEH1A6rP\n",
       "rkQVF/1mO92hOM+8/g6VlSpRVCl1l4oph4dja/q1Mju3Ot5Bfcc7YxvTKBZHKXR8HMRfygEr1UM2\n",
       "zJJ7D9fRFBqzdh68fR9Ju5eEvTInAbdRUWeqkC1F8Vusz8AE4IlYHz/qPZ57Y0exYmYNV5+2mKlb\n",
       "H870aYm4OPnmVTT1xrn3xq+x9LyrAeVgCiXyTjuaYsrhodqa/Vol6xcUPLeibgb1TU+PrWK2mEq3\n",
       "0PFpy6F51W5X9+ZDuXdhbxJCbMzzt6nAMmpio1gC79Ec8827lYNxVg9KwF1MIVuK4rdYn+wE4F2y\n",
       "kk/2Xsa9saP4eOWr3HDWAVRXODJ9WmIeTv75Gpr8SR69Yj4nai9mrmOWyDuNQsrhqk0PDtnWga9V\n",
       "oXNrd/yDev87Y6+YLabSLXR83aN7hLo3H4qJ8f6Hir88haqzdELq7/jU456FYgm8R3FMPRZUM5hs\n",
       "pBJwF0vyXVKC72KJslMJwN+JTeHs5gt5O97IT+of51uuv2QCvOk+d7/QTFNvjEc/u4wjFk7LSRJu\n",
       "lsg70ycZUTOYbGhO1T4EW/O/VoPPdXjr8Eba8yfiLnfS7WLXLHQ80DL2to4RiuX4vRRYCWxCifCu\n",
       "A2ZIKbdLKbeP9OJCCKcQYp0Q4nep518QQuwQQrwrhDARmJQJ6QTR2chO4D1KY8b6utUvc3xA3q9U\n",
       "Au5iCtnSFL/mfXRPPY/453Bhy0cRSO5t/DOnOV7NSQCeThL+9ZNn8+I3D+GIeTWDkoSnE3nnXCeV\n",
       "yDvTZ4ByWDXGVXuJthZ+rXLPddo1vEZQve67QzFb7JqFjvum7hHq3nwouq1ASumXUt4spTwAuBP4\n",
       "ghDiVSHEp0fh+t8C3gMQQswFPgMsAT4C3CGEcIzCNUpHsQTeozBmLNBBIthFYNGFBRNwF1PIlqL4\n",
       "NeuT1A2u1T7LN/1ncZBzB39pvIcl8t3M9UGxSB+8q4v3WnsQsV7mT3Ll2JiGWSLvNLKVw+g6JCII\n",
       "I0lw/jkl3Y9ZsvLsc5028Or+/vdsdyhmi12z0PHFZ+wR6t58GGr6zeXAFcAxwINSyu8M+8JCLAJu\n",
       "BB4EjgI2ADVSyqtTx18EviylfNlsnFEX45WRXYr3NhFyTs6wH2aMSbnYpXbfEr73+HpW7+zl3Fkh\n",
       "vq3/CnekI+f6GSVvczN/uuGznKC9aFqCdjywS7U7/qGWSAPfs93B2Oxh7FLZc/wKITyoeMwVQAj4\n",
       "DfCQlDIx7IsKIYB/AVehHMxRqbHfkVL+NtXnAeBPUsq/5jn/cuBygJkzZ67Yvn3EK7eyYzzoYDa1\n",
       "BfnOo2vpCcf5ygkLOHHJ4M2b2Q7GUvJagPKzS79E1b9eBlwipTxWSnn/SBxMClcCz0gpN2e1OQEj\n",
       "67kB6PlOllLeLqVcKaVcOWnSbs+bVRTjwcH8e30bn79/NVLCLecdlNfBdLS1WQ7GwqijmBjvKtQX\n",
       "/QrgcjUBARTjJKWUxffi58fFQJUQ4hygDvACtwDZc8MZwM5hjj98DJyyanbY8VLu8qmqMf+0tkDK\n",
       "zOCax5mcZ+ljtkQwWx4A+F78Mb7196IlQgU3JXrW/hnvO3/gps5D+X30GJbVxrn63EOp86q3beCS\n",
       "LDHzDKZN34cf/uwXGQczGhsxS7G3lOsMRMbBDLcGUrHlSTmWzsVs2gOx28V4QoiPo5ZLvwbuQbFZ\n",
       "s4G/AEtkEQNHNSYzUCjV8ha8+3eYtFB9+KK94G+GhvkwdWmuaMo3A97686CUmb01B+Lb9PAgYV1g\n",
       "/pl4Ot7MKyKzd20sKD4LLzkX34s/pnbNbRg2J9jcoEfR9Dg9B16R+eJ61v4Z8cov+ULo47wcn8sF\n",
       "nlf4lvsh+g75MuEl5+akrWyPuKnUQvhkiK6Dv0Js7olAcUEfFE/zCRS1t5TrDESOgykkoOxrL5wK\n",
       "c+oB5qK5cggzYehpWscByr1c+s1wjg0HUso3gD8Ca4GHgE8VczCjjoFCqba16sOQjPYL6YwEdG4c\n",
       "LJpadU/elJnV6+7OK6xT7fkFaGbiMwDf+nvVF9bpVeI2pxfD5sS3/t7MrbS8+SRnBr7MG/FZ/KD+\n",
       "X3xn8ovYnO6sMZTgrzXq4eQb/sMnfr9e2bXh/swYo5HmsxR7S7lONnKWSGYCSrNUmMVEc+UQZsLQ\n",
       "07TuAShGYV8uhIgLIRJZf3EhRAL41GgYIKW8S0p5Wer/10sp50gpF0kpXxiN8YeEgUKpSLf6tcnJ\n",
       "riYgNiCjmrNSTX1Tort0RjvprEaL+vMK67Sov6AAzUx8BqAlQmpGkA2bW7UD/93QzvltF5HAzj1T\n",
       "H+SsqrWDxrCF2mgNuzj1h0/T1B3mC6csyhH8qT6liP7MhYOl2FvKddIYFIMxE1AGW9X7lw1XjWov\n",
       "JporhzATzG3aQ1HMydwppXRKKR1Zf04ppQO4awzsG1sMFEpV1KnprD07z60EV1XuefE+tbbOkzLT\n",
       "cFfnFdYZ7uqCAjQz8RmgUlvq0dzjepSEvZLb/7eV7z+xnkXOdv5S92sOdLXmHaMp4ePUG5SDefir\n",
       "x3HEfpNzBH8wOmk+zexNp+gs5TpQIMhrJqA0S4VZTDRXDmEmDD1N6x6AUhS/Qz42YTFQKDVliVov\n",
       "29394jzNAQ0LBoumll+cN2Wmf/EleYV1qj2/AM1MfAYQWHQhmh6HeEiJ2+Ihgkk7n+S73P/aTk4/\n",
       "cCq3HGun0WjLO4aUko/9YRtN3REe/vwKjphfP0jwB6OT5rOQvdkpOku5TkEWyUxAaZYKs5horhzC\n",
       "TBh6mtY9ALs98DtSjLoYb5jsUtA1uWDKzELsy2ixSxu0eVwZ/xKtiQo+/4H5nHbA1KJjbNywnui6\n",
       "pzjetdqUFRoP7FJRmtpil8qKsovxxjvGQ/rN3amD+d/GDm74xwY8TjvXnr6Y/adXF+zb3tbKYw8/\n",
       "yCev/CxZcoRxDUsHs/tR7vSbFopgdzkY3ZDc9eJ73PvKDhZPreLaDy2hobLwlzFbyXviKaezz6zZ\n",
       "Y2fsMGE5mD0De5eTSU+PuzZBpBcqahSFKCUg8y+PZh6uymnkmVIPdDCF9vAUah9uDee+aJIf/uU5\n",
       "XmrTONu7hm9VvUW0/VyilblLlPR1O3Zt4aKv3EprZy933v/XjIMZjex6UNpyqZT9TdkY5GDMli5m\n",
       "x8yWROXaKzTcvUvDGWsCYO9ZLqWFdkYS2jeApkE0CHocnB6YeYQS2m18Eibvp8R1gV3Q/i4sOAWm\n",
       "Lc0RbAVdkwc5mHwZ4qKTD8SdTuyU1Z60VVDz9u+HXMN57eyLuObB12gJGXyz4X98tKEJkRgsgEvb\n",
       "0xzUOfOLP6alvYs/X38VSz90FXrVtFHJrgelifFKyZ6XjbwOppAwDgofq2osLLiD8tSZHm5mvL24\n",
       "Fvaeg7T4qq8dXF41g4n3gR4DTx30bIP2d5QwKhFTAqxETD1vfydHsBV577VBS6RCGeK8W57M2169\n",
       "Nr9Iz6yG82tvvspn7nuTcDTK76c9wrlTWhG2/AK4tD2rt7TS2e3nvpu/w8Erl2Uy1o1Gdj0oTYxX\n",
       "Sva8NPIukcyEcWbHzAR35aozPdzMeHtwLey9x8mkxVexAKSSJWEkFT1pr1DtA8V3ybB6HunuHwY3\n",
       "we7BgqxCGeJsoZb87eGugiI2LerP0eYYUnBr9DQ+4/8Y+9R6+MvkO1leHcl7buacvjakw8uJRx/M\n",
       "K3/9NYcuW5STsW40suupPiWI8UrIngcmMRgzYZzZMTPBXbmy5g03M16+6+6OzH5lwN7jZNLiK5cP\n",
       "Umkf0ezq1y8ZUe0DxXd2j3peUQdAOJ4kGOjNyfqWRqEMcbp3av52T31JNZz7DBef6T2PX4Q/wEfc\n",
       "b/Dz85YxqdprKoBrb2vl+Ct/wj/+/T8Aqqu8meumbR+N7HqqTwlivBKy55kGec2EcWbHzAR35cqa\n",
       "N9zMeHtrLew9CmnxVeVkiIWUCMpZCTYXhLuhdg5M3l8JoxwuNcNxuNTzyfsTjsUJ+rsHZX1Lo1CG\n",
       "uNDcU/K2+5fkF+ll13DeGnFxTtdlPBubzzWu+/nGoV6cds1UAJdmkba3dNLgsRXMWDfS7HpplCLG\n",
       "K5Y9ryiLZCaMMztmJrgrV9a84WbG21trYU8EDEknM0x2KRKLEexuKcqKjCa79OY/7+X/1jbgIMHP\n",
       "q//EwmXvy6lTne/cHd6lOflgDl0y25TRGQ/sUsk0tcUuTdha2HsXhV09fXCaw4GYekCO+jJDU2f5\n",
       "laHmPrGF2nC1rsr0T3ob0aumEd33hEFfRkNK7n15B3e+M4NFri5urXuQxuoKArX75vbzNJComYvh\n",
       "8KB7p9KTdA1KOOXY+hSVGx7MfPkNYc9xMvaujbibXsgogmM18wbdRyl9Btpi5JnO61XTCA9wzkPS\n",
       "wVQ1woyD+79spe71Sb/nQz1WTgzlurvLxlHE3jWTgVxaMBGDHakaQjOPUMujLIown9CuEK0bWHAW\n",
       "zr6mQTRtvHI6vo0PlZQrJRxPcsPf3+X5zZ18qOJtrml8Hre7qqTibrZID9/8n8b7zriYlYcdUZRa\n",
       "NiuYlt56UEqf4eSCgSE6GDMqN9hanrwvw8U4oZ1HExaFPVRk04I92xR9naawsyjCQkreQrSub/2f\n",
       "8tK0iuItnitlV0+Yz9z3Ji9u6eRrk1/juqnP4vbUFC3u1tobZlOXRK+o5funzchktCtGLRfLWVNq\n",
       "n6HmgoFhKHnNqNxy5X0ZLvYQ2nk0sfc5mWxaMBZQO6zTFDaAs5KIv63gVoHCtG5bAQq7rSgN/Mq2\n",
       "Lq66dxU9oTg/PusAPuH6L2JgzpE8xd1au4Oc8e17uOAH95OwVQ2JWi6Ws6bkPkPIBQPD3CpgRuWW\n",
       "K+/LcLGH0M6jib3PyWTTgi6fynqXprCBcJ8fvyi8ybAwrTulAIU9pSANLKXkvld28K2H36HR5+Y3\n",
       "F61g+azakoq7tbU1c8a376G5K8Atnzsdhx4cErVcLGdNyX1KzAUDI9iLZEbllivvy3Cxh9DOo4m9\n",
       "z8lk04K1cxR9naKww8Eewv7uvBR1GoVo3cCi8/PStIriHdy/Y+bJfPfxdfzu+W0cu98kbj3/IBqr\n",
       "Vfa4YrTwVt8hfOjah2nu9PPgNedx+L6VQ6aWi+WsKbVPKTQ3jHCzoxmVW668L8PFHkI7jyb2vsAv\n",
       "5LJLQgMpiSSS+EV10Y17UJhdKkTTDuy/cfIH+eaLkve6Qlx29L6cu3LGoNQLZrTw179wFU8+8hB/\n",
       "ufpMjpxlHza1XCxnTal9irFto7Kb2ozKLVfel3LYOgFhUdilIN+bvvj0zLHIe68RDLZARYpuHsJu\n",
       "4WwUoqp17xRijcvRIp28FJzM1f8Mg9C48TgPx4X/gO2pwV9Oe89WHN0b0KJ+tFgP9p6tmetcc91P\n",
       "uOTcj3DQFJ1oys5she1YI954UGlVBcwcwe5I5FQu5zRc2nkPc05p7PkzGTNKEYisfYyAUaGCtIFd\n",
       "VLS+TqRxJbpvRt7dwoUo2759jqNy538LUttJZxV/fK+aX621s29lgusPh8XN+altZ9Org3Zht3f3\n",
       "8bVVM/jWbX/DJwNFdzWPFYVthpLKlsxYUbxMSDko7HKVPBkuxjH1bVHYxWBCKUbee005mBTtbI90\n",
       "kHTXYI90FNwtXIiyVbuq81PbIXsV31lTyy/WOjh2usFvjwqweGdhanvgLuyWSAXH/76Tx559gy2b\n",
       "N5a0q3msKOxCKLlsCRQvE1IOCtuivscMe76TKUApRvxtBLtzd0iLWECVMcliVAbuFi5I2Ya78ra3\n",
       "+iN86sU6nt6l8eklSa47JElFhTm1nb0Lu8Wf4KRfvUuTX+exSxo4YNnyknY1jxWFnQ9DKlsCxcuE\n",
       "lIPCtqjvMcOe72TyUIppmnrg7mDp8qkyJllfrIG7hQtStp76Qe2vddo4u/3jtIThp0ck+dh+OkIU\n",
       "p7bTu7AzDqY3waOfnMYRC1XcpZRdzWNFYQ/EkMuWQPEyIeWgsC3qe8yw5zuZAZRiNk09cHdwsmIS\n",
       "9mgvyYpJeXcLQ2HKVu2qVu1S1/njdh9XbjqYWo+Tuw9u4sg6f0nUdmjuKZld2H19fgxD8ugnp3HM\n",
       "DPAvVtRxsV3NMHYUdjaGVbYEipcJKQeFbVHfY4Y9P/ALmah9xN82iKYeSDsnvY3YQ62m7FIhytbZ\n",
       "+ia2Tf/gBxun80TvLN63j52vffhQqmLtJVHb6XEC/l6mbrqfmvV/wAj1onlrcnL85rM7n51jRWHD\n",
       "CMuWQHF2qRwUtkV9lwSrJEqJOpmxqCrQFohyzaNr2dzex8ePnM2Fh85EG2LpkXQ+mBNPOZ3/d/V3\n",
       "y2Tp6MKqKrBnw9LJlIC+9u2Etr5KZZ5f/YEzAkPYqWh5NTO7SLgb8LS+kjMbMDwNg2YgryXm8N1H\n",
       "3yKZTHDLrJc5Sn+eUNvQirtt9R3ChVd8ndbmZt5/xAo8W/4+olwwxVBKHphifarcDiY1/af8Ghez\n",
       "X/mRFHCzUHbs8TOZvvbtRN9+LK+mBMjRmzg61uHd9k9idQswKqdhb3+bivY3idfMxqicAfFenMEW\n",
       "khX1xBsWKXYo5ueB5kn8uG0FMx0Bbpq/hlk+e0b3Ep50EL5NDw/SqwTmn4mn482MTqatrZkPXfsw\n",
       "Tb0J7rrzdxzX0F1QBzPc9ArZKKXKQLE+GQdjpnEZDZhpSFreKnz9qQeMW+3JRIKlkzFBMJqgb+ur\n",
       "BTUlA/Umrq71JN0+bLqqVuDs24HuqFDBz5TWROpRbH1tSHcdMexcs2slP2xdyTGuzdyz+FVm1bhy\n",
       "9TPr8lclUO1KJ5OUgrOuf5Lm7jAPXn0mR89ymOpghpNeYSBKqTJg1iezRCqmcRkNmGlIzK6/B2tP\n",
       "JhL2WCeTjsGYaUoGHtOi3eCsQaQSjWvxMNg9aIlopo+QEk2P0hZzcunbi3msfRJXzNjJrzy/w1sx\n",
       "4DrOaqV5yaNX0aL+jE7GbtP45oXH8MA153HULHtRHcxQ0yvkQylVBgr1cUba+2MwxTQuowEzDYnZ\n",
       "9fdg7clEwh7pZLKDvGaakoHHDHcdxHuRqZIphlNJ+g2HO9NHCsGrxkIuXLOEbeEKfrZwI1dNeQfp\n",
       "rcurezHc1Xn1KoZbLZH+8epGAE49bCFHzK9WOpkiOpihpFcohFKqDOTr40gGcFZnsVjFNC6jATMN\n",
       "idn192DtyUTCHudkBrJIZpqSgcdi9YuwRwPoNlWtIF45E1sioqT1ho6MdPGn2Pu4JHA5Xi3BH5a+\n",
       "xfu9WwbpZHL0M4vzVyXY2PgRPnTtw1x10yP4A6EcnUwxHUyp6RXMUEqVgYF9HPEeXIlgv34Fimtc\n",
       "RgNmGhKz6+/B2pOJhD0q8FuIpjbTlJTKLul9nXw3eDoP+xdwxDQ7N0x7jprYrkE6mXyMz0CGZtOk\n",
       "kzj7iz+itWlXwXQNxXQwY80uOSPtagaTjzkaix3UFru02zBhKWwhhBu4BTgWcAE3SylvEkJ8AfgK\n",
       "EAG+KKX8eynjBaMJupu34RnwxQSo2P5fnB1vIRDEJi3NOc+147kcsVlw7hmZtAxpcV6baxbffFnj\n",
       "Hb+Ljx1UxydW1uHsCBCNTC8pzUJ2VYK0Dqa1uZl7fv0TDqveBXliKfmy+2dDC3fi6N2iKk4mwmh5\n",
       "4gzFHFVi0hL65DmZ44lJSwaNkZi0BN1xHk7Dr76kUw8YbMzCk4s7lWJf9mLCOLP0CWbX3wOy/U90\n",
       "7LaZjBCiHuVgHgbqgbXAR4HfAiuAfYCngVlSykShcVauXCn/+/xLdDdvG5T+wB7YhRYNoMU6ka4a\n",
       "JGCP9hKv2Ze+hefg2vFcTioDLdqDLdJF35xTic49HltgFxu2vscXm44jrNu4ZlmQkzxbkQKSvhnD\n",
       "qkpwx69v5eYfXcc9v/oRJ2ovDYuGHo0i98WOp8eoa/o3VdV1I6OAi6UxGG9pFyzkYMJS2FLKLinl\n",
       "Q1KhE9gJvA94QEoZlFKuA95DOZyCMKSkIxjLm/7AFu3C4d+EdNcptsbhJVlRiy3ahat9zeBUBpoN\n",
       "3VFBRetLIDQe3abxifc+gEdL8LtjExw3y4WIdWGLdg25KkHamX/yys/y5LMvc1z1rmHT0KNR5L6U\n",
       "dBE1ve8oBzNSCrgYlTze0i5YGFWMi8CvEGJ/wA00ANuzDu0CBlEmQojLhRCvCyFeb2vvAPIXdScZ\n",
       "R4uHkLZ+dgibW7VHOgenMtATYPeQjIb50Zt2frB1Lof4/Ny73wvMrVZOQtMTkIznXKZYVYL2tlYu\n",
       "+PDJbNywHiEE+8yaPSIaejSK3Bc7XuV2UG34R4cCLkYlj7e0CxZGFbvdyQghGoB7gE8ATsDIOmwA\n",
       "+sBzpJS3SylXSilX1tUrOjIf7YvdieH0IvR+nQt6VLVXNAxOZWBz0BG3cXHki/x1m41PTN/FrXNf\n",
       "psrr6TfI5gC7M/ceTFI3NMWquPAjp/DOmtUEenv6zRgBDT0aRe7NjmeEdqNFARcbZ7ylXbAwqtit\n",
       "e5eEELXA48C3pJSvCSFOBrIX+zNQy6iiSHobqVp/H+hJDM8kDJsbLdwFiSjOjrdJ+GYDYA+8h3RU\n",
       "odXuR3DuGdS8/VvlxZw+1sSm8jn/eQSo5Eez3+SDNTuw9XURqZ2nqORECOlSjsm963k1o7E70d31\n",
       "BBadT80bv1RJp/Q4hs3JrmQdp9++g9b2Tu772Tc4vHILxhY/sckHEpp7CnUvfBdbsAVNj2HYXOhV\n",
       "U+k+8v8Ac/YosOh86l/4LvS+h5AGUmhgc9F15OWZ1yM2+UCqX/05rs41aPE+DGclsYYD8R/yhcxx\n",
       "3+o7cPg3ocVDGE4vier5GIdeSX1aaDd9Oay+T8049ATYHMoxLLsg98UvFtSdvhye/TE0vwmxILiq\n",
       "YNpBcMzX1PHFZ6iYDOTGZJZdVMpbP3xYzNOYYLfNZIQQPuAx4AdZDNITwHlCCI8QYjFQB6wuNpYt\n",
       "2Iy7fQ3x2v0wPJOwB3bg2fksiep9CS/4MHHfTJxd63B2riNZNZPwnBOQDjeaw0Xv0k+Bw8tfu2Zy\n",
       "Yc+nsNns3LlkFR+sb8NwVpKomYe0V6CFO5B2D+GZ70M6fUh1D+pRghbpTi01DKSm0RaMc8pNr9HS\n",
       "2safr7ucw5bMxPBMQiTDeLf9C3vXRrRQJ6CDzQ7oaKFOtHBnZm+SSATRK6cjEkFqVt+Gs/VNQNWe\n",
       "1ivqQWgIQwehoVfU59SgdnSsxd36GhhxDHsFGHHcra/h6FirXrNQG47ezWAkMWwuMJJUBLdSL7vz\n",
       "vVsDHrOQDuomw1A5WT2++6RqT6PlLdj5KhgJtUwyEup5y1vq+IwVKsjrrILeXeqx3EHfUuy2MCrY\n",
       "nTOZzwMHATcLIW5OtZ0I/BHFNEWBy2QJ9Fd2EFOvnglCoLtr0GSchKeB6L4fBGclEojNOCpzng4k\n",
       "Kqbwjfqf8+jOZg6epHPdQXF8lcuIpPqIeFA5l7mKIvVs+TuJ6hlI56LMOCIepHrNHSR9U1UwFnDH\n",
       "ksyfFuBX729k/5XLVIAVlI0wqD8A0S586/9EomZuf1AYVFAYtWcp3niQemxYhJxxZL8N0e7McUgF\n",
       "h731eceP7nuC2v9UNTVzDaddw637VbA1/eVuWgW1M6Fx//4xYgHVnv7Fzw7qQv9jdp9V90Blgwro\n",
       "phHuUu1p6nnGirFlkkqx28KoYHeySz+QUnqllPOy/rZKKa+XUs6RUi6SUr5QylgDg5j5cvWSjKug\n",
       "bRa6DC+ffU7j0dXNnLNiBj9f1oQvK/4Cg3PnFgqYqiByDW29EfzhOB6Xnfu/9H6Onpo07Z+DVPC2\n",
       "WFC4lKBx0Ry/WWM47Rpel31wsLWUvT+l9BmL/U1DhbWvacyw2wO/o4FScvVid6qgbQrrewQf/4+T\n",
       "9QEX3z5lIVcdOxfNWzx3bqGAqe6pp7W9lZN/+DQX3/qcoqzjvSr3b4H+hYK3xYLCpQSNSyl1K+L+\n",
       "fgcDg4OtpQR+S+kzFvubhgprX9OYYY9IWhWbfKASlqFmCcmKSVT4txOp6Q/Y6u56hFRLmydafNzw\n",
       "poM6p84vzpjJ3DlT8o4jEiGc7esQyTCeLU+ge6cSmXoIzlgwp48tFmRj4xl89NPfprk3zu1nVONs\n",
       "exPsLnoO+ixO/y5ErAtNT2DYHEiXSmNZt+pWZO82hJRIIRA2N51HXo7haVD5YiBXqLdQpb0MzT2F\n",
       "uueuxRZuzQSZdU8j3Udfm3lNAovOp+6lHyIjXYAN0BEGdB9+eWaM+ndup0J3gFGTP9haSuB3+nIV\n",
       "y4ABQrv+ZSnLL1Y5XyA358uhnx6lT8AwUIrd5UI5As7jOIi9R8xk9KpphOaciLR70MId6FXT6V12\n",
       "BXrV9EzAtm/hOfTsdzY/W1fN995wsrTO4LZz5jN3zr4Fx7EFW1VwVMhMANa38SHildMzfaTdwzbv\n",
       "Ms766i009Sb522UzOXK2EwQYzlqMijqkUCFTKaV6FGBU1JGsqAfsKniLnWQqeBtvPIjeZVcgHVXY\n",
       "+pqQjqocJbAW7sQW7YI0syQNbNGunK0FiUlLiDYeDJoTLRkBzUm08eDM1gHX7EOoOPqLJQZbTQK/\n",
       "1dOVctfugb529ThQEbzwZJVEylGlvgyOqtFNajUclGJ3OVCOgPM4D2JP+A2SS5ctl48+9b+i/XrD\n",
       "cb73+HpW7+zlrOXTufKYudg08/y7tS9ch0gEM8FRUAFW6aii58hvZ9ouOecM3nzlOR781mkctmz/\n",
       "nL72UDuheadmAr+gZlPezU+Q9E4uOnY+TH7ik5AIDgrq4qii/dTfAypALZLhQdeVdg+2JR8qLSfv\n",
       "usfUB9aVteyMBdQXMl3m18LQUI7XtMzv04TdIDmW2NQW5DuPrqUnHOcbJy/kxMWl1Y22hVrQK3N/\n",
       "2aSzGltf7i/E9358E4knvsHBBywa3Lf97fyB31Abidr5RcfOb1cbeuWAzZPOGmx9zZmnWqQTwzNp\n",
       "0HW9iR6qSk36He5Uv4w516lUv/wWhodyvKbj/H3aI5ZLZvj3+jY+f/9qpIRbzjuoZAcD5gHW9rZW\n",
       "fvGzH2MYBrPm7MvBBx1YoO+U/IFfk+Juxe0anuLXQ4yquiEEW63g6OijHK/pOH+f9siZjC3YjK11\n",
       "Db9+K8m97/k4cGoF13x4GbUeZ+Z4sZpFkAqwvvhDRPx1hJ5E2uxIZx3vzjiLi087lua2Ts46qJ4Z\n",
       "K08u2Ld32adw9jUNChQHFp1PzerfDurffcQ3geKK37pXbyQJubuwD8hV/PrW3IGjdxNarA/h9lEx\n",
       "dSEsvKr0F7LU4OhoBB3HceByVFGOgPPuDGKXgD1uJmMLNpN492m+/KKde9/zcc7sCLctXkeD3pk5\n",
       "7t32L0QynKPAtQWb844nNQFSQ0hAarT0Bjn3iq/R3N7JfTd/m3nTavBu+xdauHNQX6kJDE9DTjBZ\n",
       "2j2E5pyI4WnI2x8oqviN7nsC3Yd8FRxVaonkqMpJ8wApRW+PUvTaXF4qbDp0bhqaNqWU4OhoBB3H\n",
       "eeByVFGOgPPuCmKXiD0u8Nu06h98/RUnHVGNry9LctpsI0e1axYQTat60xgY+G3tDvLhb/yOpp4I\n",
       "997yXQ5dtihz/lADuWZBZaCkgLMZ0uM7Khv6dTDhLsUinfi9ksYoCaMRdLQCzOMaEzafTDnwzLvt\n",
       "fOp/LhKGxq/fl+C02WpD91BSHGRjoLJ2w44OOvtiPPK55RkHkz7fLNVDPpipdkenGkELDm9dv4OB\n",
       "8qRPGA3lrKW+3aOxR8RkdENyx/PbuP+1nSytk/xoeQ91vv4P7cAUB7bALuyRDkQsAGiIZBRps+PZ\n",
       "8vec+IzunYqtr5lkLIyTGCfM8rD2+0fjc0qM9Q+gRXsw3LXE6hahe6eg9TVj02OIZARpr0C3uQoG\n",
       "ctNja3pMzazsHrUTO9VfxP25M5khViOw1UzHawRRSQdTKEf6hHTQMXsWMtSg42iMUQh7S6xnHGPC\n",
       "z2QMQ/Ktv77N/a/t5PQDp3LTR/ZjsggUzPSf9DZS0fo6IuYHNJyda3H2bCDpmzUoPhOZeghd297h\n",
       "qO88yZ9faYNYD3V6u9r/E/enSqj48b73L6K1C3F1b4RYj0qSFevB1b2RyNRD8todmXoIzkz/Coj1\n",
       "4Ez1H2k1giq3A++BZyoFbzhVjSDcpZ4vPmNUXvcMRqMiQLmqCuxNsZ5xjAnvZLZ3h3lzRy9fPmEB\n",
       "Xzp+AVrN9LyB1vTsxB5qJdK4EumqxhF4D8NdTbx+Mba4f1AKyo6ODk667T12dEWZ5dPBWU2iYhLJ\n",
       "qhngqgU9Aq5a4nULcPdsIDTnpFThNlUkLjTnJDSZzGu3JpOEZp8IzupU/2pCs09Ek8miil8zZBJO\n",
       "jVX6hNEIOpYrcGlVkBwXmPDLJUNKfvbRA9l/ejW2YDMV2/+Lu/llRU+7G4hOPyynvxbpROhxHD1b\n",
       "sPu3Yzi8iHgI0bsVABFopaLlJWJPfJtzb99Os19y7y3Xsv+yRfQBvjdvw7C5SNTOyzJCx7HreRKL\n",
       "PkpiclZaBGmghTvy2q1FOtGrppKQcbR4AMPpQ6+amokNxRsPGnKJk4yDyTQ0woyD+5cK5dqQOBoV\n",
       "AUYyRqElUTGRmrWUGhNM+JnMrDpPxsFUbngQz85nVYBUCGzhVjw7nqFyw4OZJZAWDeDd+gQkIypg\n",
       "G+nA2bMJicDZsoaqrY/TF4lx0m+b2NWb4PGP1fK+2n5HYTi9g7bwmInusndw50LD1fIKQo9jOGsQ\n",
       "ehxXyysM9y0Z5GD2lqWC2X2aidT2ltdnHGDCOxm7Td2Cq32N2jRoxJFOHzh9SGclGPFMdQIAe3AX\n",
       "huYAmwsphJpGaza0eBBHz3oMzY7X4+W8Qxt59DNLOWLfKjw7/p2J7ySq54NwDIqXBBadb1r1MR80\n",
       "CRKJ+leiDVNNMMjBwN6zVDC7T7NYz97y+owDTPjlUhpapBOScYSRRNpTFLXmRCRCaNFeKnY8ixbp\n",
       "xNn9LknfLLRkRKVJcFajxUPY+1po7fHTkfCx/wzB10+eA4CeqMLe14QW7sCoaCCw7FJsoTalxu1r\n",
       "QvdOpXfhucQbDyKRVhKn+oamHZ5XSaxgEJl2KI7AdkTMj3T5iEw7FOSgvOmmyOtgQC0BhA3aX1Vf\n",
       "LpcPaudAPDyk8cc9zJZE6VhP0yr13NOgVLDV02HTv8b1fp89CXuMkzEqGsDuRGp2lUPW5gQjrhSv\n",
       "wWbikxarBOOuSuz+7cQnL4VkBHtfM7rLS4vu4+S7dhFP+HnrG4v6Xxg9QtK3D33799d21qum5Y2X\n",
       "FKv6ONBekQwTa+wPxKZFgaWioIMB9eu840Xw1IG7GpJR9Xzm4SWPPyFQjP4uFOspJ21uIQcTfrmU\n",
       "RmzygejuejV7iQcgHkDE+1RcxF1Hon4xCI3otCMQMoG9dwsYBkKP097dxwdvWUdTwOCuM6twEU0V\n",
       "oe/BlgjhX3JJWewd6vIqG6YOBiBHyS0KtO8BGC79XS7a3MIg7DEzGb1qGn0Lz0Hf3pBhl3RPIyIZ\n",
       "Qq+ox9WxBsPpI1E9h9C+p+Le9Ry2mJ+d+iROuf1VmrvDPHjtBRw4w4FseQlbqB3dU0/vwgvA7aPy\n",
       "nXty6mvn22BZ6sbLtL3RyQcO2gRZeHnVj6IOBgAJldNg27MQ7VFVMucco9p3B8rF5JgticpxXimw\n",
       "WKsc7HF7l7JhCzZT8/pNSGFDumoRehSRCBOvnY9epd70b/74Nzzwjxe57+arOXTZopx9TPnqRTv8\n",
       "u/LWwo5OPhB3umpCgdrSA20rVos6H0pzMMBzN8GGx5RzyezM7YGFp8PRXyrtxR0tFKuFvSdhD7xX\n",
       "K2mVCVzta0hWNFLR9jqSbUiHD93uxt36JhF7BbZYDzd8ZF8uPnE5iw/cL7NkCU07PHO+NJI4uzeq\n",
       "CgguH1qoA+mqJNGg9i6lS5yoMiULB5U+cbWvIcbgmU9OLeoB/cMFZkWeSbP6HUyxX0v/TjAkRLpT\n",
       "QWBNTWL8JdXKG13sTeVH9qZ7LRF7TEwmH+w9m7FH2khUzUA6fBD34wg20d7axJXX30WHrRGtcQkr\n",
       "6vqwd28apA529G5RWwX0GNJVDXoMp38b2oCSqmqDZEvejZf2ns15U0vYezYX3KiZLx1FXdO/mWSk\n",
       "NgyWovHoawW7O2d87G7VPtbYmzZA7k33WiL2uJlMdrInR+9Wkt6pJOv3y6Si7Nr4Mqf89GWa/XE+\n",
       "8/4nmbJkPvHa/dCrpmeWSJ4tf0eLdOJqXYXu8PYzDnYPusONFh2Q0S4RUhseUxsv0wreZMUkbLEA\n",
       "8appg2YszmATeiKUm3IiJd4bOMtxV9ZSpbn7fw2bVoGuQ/uGfnraOyX319JA0eGaA/SYepR6bqXx\n",
       "UjAa8YW9icnZm+61ROwRM5m0Y6h98Xrqn78WLdSays2r4epci633PZAGre3tnPqT52nuifDgd85k\n",
       "+ZIFoMdwdW/E0btl0AxC2hw4gzvV1gApEckIhqtOlYcdwApFph6S2XhpOHyImJ+K1tdBiLwzFsNd\n",
       "XZBd0iKdiGQMV+sb+Jr+R3Xnm5CI9f8adm2CjvXKebjVDIuO9ao9japG6GtTH3DNqR772oa2tWC0\n",
       "VLF7E5OzN91riZjwMxmhxzMBVEfPVnS7E3u0m4SrBr1qGlKz4ejdTEd7G2fc+CLNPSofzIqlC9QA\n",
       "dg9GMooW9Q+aQSSrZyM1J7ZoD9jsGE4fsSkHIe0VmQ2YadGdq30NkcaVmRQS0lVNpGYe9lAbIs+M\n",
       "JVEzNxObGSzeU1sO7N4GPL56SEaUxmWf1D6sSC9oGjhSmhqHBxIR1Z6GqxKm7J9yNEE1Za+do9rT\n",
       "KDZLGa34QjmZnPGGveleS8TEdzLJSMYxaLEejIp6pJHAHngPIdWuay3Sgx6vxSV0HvvkdA6bYSOe\n",
       "+mILPYqQBkmXb1CG/0T1HGyRHnSbg8g+x2QYoPCs4wYxQNr2f6P7Zqha3GlIA5GMYMtTDC7tUAqJ\n",
       "9xw2DY/LRg7lLFJ6l4oaCDSDvxlkEoQdXFVQvU9/34oa8DZA3SywVyhHFQupdshlQSonq5nOu0/m\n",
       "siCjmQV/NDZRThTsTfdaAia+kzH6a00b7jpIhgAbjsBOkpVT6ekNUmvXmVOZ4OX/txQbMSRS5cZN\n",
       "zU4SldMzlHb2rMOoqCNWtwB7qK3oVoF0dYCBM5Zk7TyTGUt+VDg0PHOPhp5tEPWrGcTMI/q3HHjq\n",
       "1awl3KGUvHa3Eg9mF7Svnw+OCuUQor1qjMn7gG+GOl7KLMWKL1gYBUx4JyM1e+bLHW1cgXfbPyAe\n",
       "wLBX0Nbayim3tXDcwlp+dv5UNGEn6ZiMva8VYcRzZidpkd3AMrVCsxM44BNFRXL5StyWMmMZiCq3\n",
       "Q5UtSYZhn6yEV+mctwDhboh2qy97RovRrdrTmL5cMUmTF+bqNdKxgVL2NmXK1HaBHldbNTz1uWVq\n",
       "JzIs0dyYYMIHfqW9IhNATdbMJjzjfQhDpyWQ5ORb32FXwODsg6epndN6HJw+DFc1CPugpFYDy9QO\n",
       "pLTNkFbwOjs34Nn8OM7ODURNFL/5kBHaFQse9u6AyYvA6VXOyOlVz3t39A9WNBGUUHEePaZy/+ox\n",
       "9TxfKdrMkq2AcNPfpJKBv36nepwI6RKsVA9jhok/k7E5Cc05MbMcSTQsYlPUzZlfuYmWgM7DXziU\n",
       "I2foSD2KtDkhEULabITmnkbf/hcOGm8os45s2ILNuNvXKEHe1BWIREgpgL1Thr5VoJTgocsHVVn5\n",
       "euMhSERzBzWLDYhsZ5In7gPq+rUzoTErEVcskLukKiW2Mx5hiebGDBPeyQg9nqOMjTQs5bxL/4/m\n",
       "9m7uv/5KDpsUQPq3KvrZ5kLoUeINy4jMOg4ovdBbMRRT8Jqh5K0CaUxbBjteUg7B7lZxmUjP0HZY\n",
       "S0PFeQrFfaC0wG+pX9bxtjQZ56Vd9yRMeCejxQP9ythEiKrtT/PNr/8/3G4XB890EO/ZjOGsQkv0\n",
       "YTg8xCcdQCTFDmXvH0qf7932r5KXSDl2FKg9XSj9Zhp5HUyx2cG849WXIdylAsA2J9TNVe2lwtNg\n",
       "HvdJ9ykW+C3lyzoeZztWUHvMMOGdjC3SRfXrv6ApWc9/eyZx+snHc/wCtcGxWHqmkcw+BqIQu1Q4\n",
       "/abJDKbY7KB6ugq+jmRmUEpp01L6lPJlHY9Lk3Fe2nVPwoR3MhJBc9jGKT9/hpZAkqOW7kvdlNJU\n",
       "rcOdfeSDGbuUD6ZLpFJmByPVYpQS9ymlTykM1HhcmliiuTHDuHMyQoiPAj8CdOB6KeXvzfonDDj5\n",
       "lrdp6k3wyFWLmBF+h76K/c1OyWA4s49CSDNTpehhisZgxmoqX4qjKtmZmTBQ43VpYonmxgTjyskI\n",
       "IaqAnwKHoZzMaiHEY1LKglOLTW1h7Jrgkc8s46jZdmSko+TsckOdfRRDKcxUSUHeiTSVL4WBmkj3\n",
       "Y2HUMd50MicBz0opm6SUrcB/gA+YnZDQJY98dhlHzXYihSA26YCSg7Yj0cUMByWzSOUqdlYOlJLa\n",
       "YCLdj4VRx7iayQD7ANuznu8CBhVvFkJcDlwOYNcwPn3X6oBNw25Iks3BV1r64r8cryn5G4CJlFik\n",
       "qL11FaJGE2iG7Oe+NSFshsTojnyyt9wGZmGPe23HEfYbycnjzck4yc14YqCWTTmQUt4O3A4ghHh9\n",
       "Y5c+7NSAYwkhxOsjSWM41phI9k4kW2Fi2SuEeH0k54+35VILkD2HngHshnyRFixYGC2MNyfzL+Ak\n",
       "IcRkIUQjcESqzYIFCxMU42q5JKVsFUJ8G3gp1fQVKWXI7BxSy6YJgolkK0wseyeSrTCx7B2RrRO+\n",
       "JIoFCxbGN8bbcsmCBQt7GCwnY8GCBQCEEBVCiAWjPe6EdTJCiI8KIbYJITYLIT65u+0ZCCGEWwhx\n",
       "uxBioxBiuxDiS6n2Lwghdggh3hVCnLy77cyGEMIphFgnhPhd6vl4trVaCHG/EKJJCLElZfu4tFcI\n",
       "8WUhxKbU5/UzqbZxY6sQwieEeARoA76W1Z7XRiHEDUKIXUKIt4UQK4peQEo54f6AKhS1PR1oBFqB\n",
       "SbvbrgE21gNnoVLNNaTewGOAjSn7FwPNgGN325pl87XAk8DvgLnj3NY/AFenXl/3eLUXmA28B3hT\n",
       "nwk/sGQ82QpUopT1lwG/S7XlfT2B9wPPo0ijE4DVxcafqDOZIW8/GGtIKbuklA9JhU6UU3wf8ICU\n",
       "MiilXIf68BX/JRgDCCEWAQcDD6SaPsL4tTUtb7g+9fpGGb/2JlKPBuqLGQROYRzZKqXsk1L+G0hm\n",
       "NRd6Pc8E7pJSJqWUTwGTUu9HQUxUJ1PS9oPxAiHE/qhf2wbGod1CCAHcAnwhq3k8v8ZLgG3AQ6mp\n",
       "/I2MU3ullE2oGeLLwNPABSiR6bizdQAKvZ4D25soYvtEdTIlbT8YDxBCNAD3AJ9g/Np9JfCMlHJz\n",
       "Vtt4tRVgMmoK/zlgOXAk8CHGob1CCB/KsXwB+BnwVcb3a5tGIRuHbPu4EuMNAS3AsVnPZwCv7B5T\n",
       "CkMIUQs8DnxLSvlaKng2HrdNXAxUCSHOAepQ8YNbGJ+2ArQDb0gpdwEIIZ5CfdDHo70XAW9JKZ8B\n",
       "nhFCfAQVQxyPtmaj0Bafge3TULOcgpioM5lxv/0g9Qv2GPADKeXfU81PAOcJITxCiMWoL/Tq3WRi\n",
       "BlLKI6SUS6WUy4BrgL+inOO4szWFl4HFQohpQggXcDzQx/i0NwosE0I4UvmSFqCWTePR1mwU+qw+\n",
       "AVwihLAJIU4ANkopu03GmZgzGTm87Qdjjc8DBwE3CyFuTrWdCPwRWIv68F0mU6H88QYp5RtCiHFp\n",
       "q5QyJIT4HPAU4EIFIn+acjjjzd4/ohiZrUAEuFtK+cJ4em1Tzu9NFJPkFkIcC3yKPJ9VIcRfUSzp\n",
       "VqALtRQ0H398vA8WLFjYUzFRl0sWLFiYILCcjAULFsoKy8lYsGChrLCcjAULFsoKy8lYsGChrLCc\n",
       "jAULFsoKy8lYGDGEEO8JIWbsbjvyQQjx8XTqCgu7B5aT2QshhJCpPDy7hBAvCSFO3d02DYQQ4i4h\n",
       "RKsQYqsQ4h0hxNG72yYLw8OEVPxaGDF0KeU8gJRk/B4hRKWU8s+72a6B+KqU8o9CiPcDvwUW7m6D\n",
       "LAwd1kxmL0cqV8gFwI8gk4LxN6lMbpuEEFek2o8VQjydPi8107goa6jzU1n1tgghjkv1eX8qe9p7\n",
       "Qog/CyG0VHtSCPG1VN/XhRBTipj5P9QGPYQQXiHE31PnviOEWJplz41CiFdSM6BzBg4ihLjNWjqN\n",
       "PSwnYwEp5btAhRBiMvAN1Ax3AXAY8BUhxAElDFMvpVwMXArckWrrRqVh2BeVIe59qXYbsEtKORfY\n",
       "kDrHDB9HbSoElQnv26lzfwN8Javf4tT1LgKuyx5ACHEpMB+4qoR7sTCKsJZLFtKwo7K4nQJcmtqw\n",
       "1yWEeAiVVuOtIuffASClfCa147ge2IHaaHcgMJP+FAESeDD1/2eBQuVafyyEuAVYA5yRGr9PCDFL\n",
       "qLzOBwOBrP4PSSmTQohngVlZ7QcChwNHSykTWBhTWDMZCwghlgNtUsoelLMxBnTRUakZbVltjgF9\n",
       "slM3ulE7jp9Mnfsd4BnULATAyPqyJwaMm42vAYtQaQYOSdl6JXAFKkZzXdaYADGA1NjZY/ahcuSY\n",
       "pom0UB5YTmYvhxDiQOAu+rPUPwV8TijUAR9GLVW2AwuFEC4hhBs1M8jGOanxzgK2SCnDwP7A/agv\n",
       "+ZHDsU9K2YZaTv1KCFGRGvO/Uso1qFzPpWAL8Gng0VSmQgtjCGu5tHfCJoTYjJpxbAO+LKVMxzy+\n",
       "B/wK9cWMAN9PxWwQQtwDvIjKMbJxwJj1Qoh1QBi4JNX2I2AVsB615BkWpJSvCyH+CXwXuBN4QAjx\n",
       "MeCfQxjjSSHEMuARIcQHpJSx4dpjYWiw8slYsGChrLCWSxYsWCgrLCdjwYKFssJyMhYsWCgrLCdj\n",
       "wYKFssJyMhYsWCgrLCdjwYKFssJyMhYsWCgrLCdjwYKFssJyMhYsWCgr/j9LdqtoVnuzegAAAABJ\n",
       "RU5ErkJggg==\n",
       "\"/><img style=\"margin:0\" align=\"left\" src=\"data:image/png;base64,iVBORw0KGgoAAAANSUhEUgAAARkAAAEnCAYAAACdYDfKAAAAOXRFWHRTb2Z0d2FyZQBNYXRwbG90\n",
       "bGliIHZlcnNpb24zLjMuNCwgaHR0cHM6Ly9tYXRwbG90bGliLm9yZy8QVMy6AAAACXBIWXMAAAsT\n",
       "AAALEwEAmpwYAAB1OklEQVR4nO2dd5xcVfn/32fu1J3dna1JNj0khBQgkIQQmogKCiiIgIiiICjF\n",
       "Aij6xa9KFRQQFOUrP0AREKQKikoRRIrUkIQE0kNC2vY6uzt97j2/P87M7MzstC2zJbnv12uzmXvv\n",
       "OfdMe/ac5/mc5xFSSkxMTEyKhWW0B2BiYrJ3YxoZExOTomIaGRMTk6JiGhkTE5OiYhoZExOTomIa\n",
       "GRMTk6JiGpm9ACGEUwhRk/ZzuRDi6gzHSwbQ7ytCiElZztUKITYKISYJIc4TQkghxCVp18yMHS8t\n",
       "4F6aEOI6IUSjECIohPhN0hhk2k9UCFEZO3+yEGKdEMIXu3a2EMIihPivEOLjhT5Xk+JhHe0BmAwL\n",
       "i4Evph1bCDiAqrTjzwPPCyG2A/60c7OA2cCRUsqn8tzzJuC3UsomIQSAD7heCPGIlLJr4E+Bm4CP\n",
       "AccCDcAcACnlx5MvEkJ8BzhZStkZM4CPA18B/g38BrhbSvkpIcTFwFNCiPlSSmMQ4zEZJkwjsxcg\n",
       "pXxTCPFJ4OSkw7Wo99eedOx1KeXzsf+HpZQHJvcjhHgl9t/rgaxGRghRC5wEfCfp8CagHbgWuHwg\n",
       "4xdCTAEuA+ZLKbfFDq/Jcvl5wG2x/88HfFLKv8X6eQr4PwAp5fqYIf0s8PeBjMdkeDGNzN7DDcDG\n",
       "PNf8I+n/NiHE82nnDy7wXp9EGaxA2vHvASuFEHdJKTelNxJCvAH8Qkr5z7RTJwMrkgxMRoQQC4H9\n",
       "gb/FDq1BPY8zY8cuAv6a1OQZ4ERMIzOqmD6ZvQcN9Re+JsvPz4DKpOsjUsrPSCk/A0jga8CdQLCA\n",
       "ey0CVqcflFJuAO4Gfp2pkZTyqAwGBtSMpEEI8RchhF8I8b4Q4qgM150H/CVu3KSUncAJwF3ALqAH\n",
       "uDLp+tWxsZqMIuZMZu+iCjgny7m6tMd2IcQNsf8vAP4X5Vf5WAH3qQY+ynLuWmCrEOJkYH0BfQGU\n",
       "AscDX0IZkh8CTwgh9pNSBkE5hlG+l7PjjYQQztj9NgNvAN+Mnf9T7JK22FhNRhHTyOw9GMA1QCfK\n",
       "T/E4gBDieJQz9c8oIxJHA96O/f9UYBXQBews4F5BlFO5H1JKrxDix8CvUP6QQmgD/i2l/FdszD9D\n",
       "Gb159PlmPg2EgNeS2n0DmAIcJqWMCCHeBB4UQvxFSukHXBQ2MzMpIqaR2QuIfSmPjz0sAWYLIb4f\n",
       "e7w/0IFyyp4rhFiN8p1EUV/aw1EziQOBXinlP2PRolzUA9NynP8jcDHwrQKfwiZgadLj+DI+2Sie\n",
       "CzwkU9MGzAfeklJGYo9fBNwop/dOYGpsrCajiGlk9gKklFcJIW4BTs9z6d+llB1CiMOArSiHaxvK\n",
       "6IDypdyQrXESr9MX4ck0HkMIcSkqrFwITwC3xhy4zwNXAeuAbQBCiArgFPo7pt8BbhZC/B61ZLoS\n",
       "2IHyz4Ba+r1R4BhMioTp+N17mAhcglryZPo5D5geu/bLwH9i/39dSvm3WBjYCyClPFAIYQUmoWY8\n",
       "6bwFVAkh5mcbjJTyTeDJ5GNCiDeEEP2WULGlzRmo0Hkjyph8IUnf8iVgjZRya1rTB4F7gWdR2prl\n",
       "wOeklFIIYQPOAh7ONkaTkUGYSav2DoQQc1B/2bOFsecCJ0gp1wghbgRuB36C8pv0xq45QErpEkL8\n",
       "F5gBrJZSfj7L/c4GTpdSnjF8z2L4EEJ8FzhQSnnRaI9lX8dcLu1d/DeHUXgo/n8p5U9i/72cDMI5\n",
       "KeUx+W4kpXxECFEphJggpWwZ1GiLhFBOJTtwxWiPxcScyZiYmBQZ0ydjYmJSVEwjY2JiUlRMI2Ni\n",
       "YlJUTCNjYmJSVEwjY2JiUlRMI2NiYlJUTCNjYmJSVEwjY2JiUlRMI2NiYlJUTCNjYmJSVEwjY2Ji\n",
       "UlRGzMgIIVxCiLkjdT8TE5OxQdGNjBCiXAjxN6AZ+J+k45cJIXYJITYLIU5MOn6TEGKPEOIDIcSS\n",
       "Yo/PxMSkuIxEqgcDuAP4JyqpEEKI2cC3UQXIpgH/FkLMAI4BjgZmAsehEhIdMgJjNDExKRJFn8lI\n",
       "KXullC+RmmHtNOBxKWVPrIzGDmAJ8AXgfillVEr5IlCbrUyqiYnJ+GC0klZNQ+VwjbMHVbJjGvB0\n",
       "0vH62PGm5MZCiAuBCwHcbveSefPmFXWwJiYDQo9AxA9GBCw2sJWAZkucNqQkog9vHiehhxHRAMKI\n",
       "Ii1WpNWF1Oz5G8baWsI9iEgvWKxg6Ag9QjQSZktrGKswgr1h6Rrs2EbLyNhRy6g4BqDnOJ6ClPIe\n",
       "4B6ApUuXypUrVxZvpCYmA8FbD5ufBWc52Esh3AvBbjjgJPBMoScYobUnNKy31HoacH/0ArqjDGlz\n",
       "IyI+tFAPvlknoJdNLqit5t2OQCAiflz1b1Dfq/GZ323CaoGpZZYhDXi0jEwjql5OnKnA7gzHJ6Nm\n",
       "OSYm44P61crAOMrV4/jv+tX0OCYMi4HRehpwtKzFEmjDcNVgCXQoA2MvA0Day9ABR8ta/GlGJlNb\n",
       "aUSxd34IaFjCXezpEZz4uw3Ud+v87ZKFfOvB9UOado2WTuYZ4EtCiBIhxAJU5cM1sePnCiG0WFGy\n",
       "LVLKjlEao4nJwPG3qRlMMvZSAt7mYTMw7o9eQET9GCW1iKgfZ/3riGhq39LmxhJoy9vWteMFHM1r\n",
       "kBY70mJFD/n5wu+3Uu+N8LeL5nLU3Johj7noMxkhRBnwHlAGOIUQH0eVE30IVcY0CHwjVsbir6hq\n",
       "h9tRxci+XOzxmZgMKyU1aokUn8EA/l4v3cIzLN07Wtb2m7UYJbU4GldiuGsRoW6ko5yoqxa9rG9R\n",
       "oPU0UP7+fVgCbWjuCUQ8szBcVQgkItRBtGI2tq7tWGxOrv/cNEqskmNmOtEtQ5+HjER0qUdKOUdK\n",
       "OVFK6Yn9/2Up5c+llLOklPOllG/ErjWklJdKKWdIKRdLKTcVe3wmJsPKlMXKBxPqBmng7+nE7+0g\n",
       "NGHRsHRvCbQhbe6UY9GSOhztGxAhL9Jejgh5cTWtJOpWgdn4DMYSbMcomQB6CGfze1gCHRh2D5ZI\n",
       "gMauAH/ZEMWwl/KZ2XaOXDCVnvlfIjzhYIy++leDwiyJYmIynHimKCdv/WoCnY10Cw+hAhywhWK4\n",
       "ahARX2ImA2D1NxKqXoB0eLCEuzEcHgIVc7D6mgjTN/vRSmoRehhpLUEHbN6P0F2VNHqjnHrNEzR1\n",
       "9HLUPd+isu5wLNEAhqOMYMUsdnf/ekh+UdPImJgMN54pRXPyRt2TcO1+DS3YDtEwWO1Yvbvxzzoe\n",
       "oyTJfyINLP5WQM1+jJJaIp5ZOJrfU6ctDrTOHTR3h/ncz/9FQ1eQR265nLKZC5GhHrqTDGNYJ9Jv\n",
       "YAPA3CBpYjLMDFeYOqOjdvdrWILdSEAIgQQMmwsR8ae0FREfhksZnfjsx3BVEZp4KFKzo3l30Nra\n",
       "zEm3vEZ9V5gnfnoax1Y2IiLBgkLfA8GcyZiYDCPDqYPJ5OTVgu1IIDT16MR1mncX9o7NBF2VqTqZ\n",
       "yUcAEJqwSOloAMNZQVibizPQwZO7wjS0d/Pwb67i0EPmEwj3qKXUMBoYMI2MicmwUaiBsTe9h3vb\n",
       "s2i+RnR3Hb7ZJxGedGi/6yyBNhAa9o4tiaiRJdAJgKNpVeJYpHwGhrMSe9umlD7jxkIvm4xv1glq\n",
       "2eVvRXdWE/XM4Gtf+SSfPP54ppVbsDWtQgS9CJRRGk5DYy6XTEyGgYEYmIo1dyMiPeilUxCRHirW\n",
       "3I296b0MV1twNbwDegjp8IAewtq9A5t3R8qxkp0vo/XUE66Zh3/OZwnXzMPZshatpyHRk142Gf/s\n",
       "E9leezwnX3obq5oFIuJjWrkFZ/N7oIfA6sCw2pUCOKntUDGNjInJEBnIEsm97VmizgqkswosGtJZ\n",
       "RdRZgXvbsxmvNwQIBOpfgZAgkanHQh1IzamWVcKiFL+OMhwta1P6amlu4iunncTmDevpdk1DC/Vg\n",
       "b9+AbnWqfqJBItULMrYdCqaRMTEZAgP1wWi+RqQ9VZgn7R40X2OGqw1CdYcjNTuWcBdSsxMun0nU\n",
       "MyvlmO6ejEzagAn9Fb9xA9PU0MB9jz7F4uNOwTfrBIiGsOhhpGYnNPFQDFdVRrXwUDB9MiZ7N956\n",
       "tZ/I36bUuFMWKy3LMLQdjJNXd9eh9TZg0UOIqB9pLcHQHOjuun7XGq4aRNRPaFJf7jZnNIABKccc\n",
       "0QAirW08uqT1NNCz6TW+evFPaWrr4sH/dxtH1nqxrHsQw1VDuPZgpM2ZorvRuvdg9TVTGrvGrmFj\n",
       "CJgzGZO9l/iO6KgfSieo35ufVceH2HawUaRA3TLsHVsg1InUXBDqxN6xhUDdsn7XhiYsQgv1IMI9\n",
       "IA1EuAfdWY10VKcck45qdGfqMS3UQ9Q9CfdHL1DuhIUHzObRGy/kBMtbaD31iZC41d+GtXtPoq3m\n",
       "3RVTC09MXFPlEhUDfqJJmDMZk72XHDui885mirSb2iKj+GaegKNjI5ZgB4azEt+k5VhktN+16VEh\n",
       "w1VD77wz1XCSjvXM73/MN/kIuja8gl0IKmuruOvGK3A0rSIaMrAGWtE905H2MiKeqYhIEGktweJv\n",
       "xeprJjBpKbpnOqDC5lGjf7qVgWAaGZO9F3+bmoUkYy+F3pZBtw10Ng5JB2MJtBGZsJDIxIP6Diap\n",
       "c9PRyyb3S9cA5D3W0tzEV791NdXVVfz1rp8hhFAhb7vaepC4tc2NiPjxz1ZptkvXPYhRUpvSryFN\n",
       "I2NikpkMO6IJ96rjg2g7HLupDVcNtpb1sZlMJ4azklDVfCK1CzJen76toBANS8LJ29bFbT+6ACGU\n",
       "x0Y61OZJw6GegyXQga19A5ZoGGPbc4QmLMq4N8oi0IbynE2fjMneS9qOaELd6vGUxQNuO1y7qQ1h\n",
       "xb3jBQh7MZxVEPbi3vEChuj/9z7TtoJ8GpbkKNID9/+RIw+oS/hboq5arMEuoq5aLP42HA1vYQ16\n",
       "CU04ONF31D2pnx/IajGNjIlJZuI7oq0laolkLUmkwRxI20BnI91R27Ds6XE1riBcNRcclaAHwFFJ\n",
       "uGoursYV/a5N2VaQQ/+SzI+//51+Yeq4v0Uvm0LXIRehl03B3rIW6fAQmHIERklNom+rrymljbSW\n",
       "0BGQXUN5zuZyyWTvxjOl8JB1hrbDtZs6juZrRC+dgm5JmhwYOlpv/4hXfPd0MtLmzuq/Abj+lttp\n",
       "rN/DkmXLgcw+nXBy36JvnhHvO72NuQvbxKRIFCPpt+6uQ4S9KcdE2JtdJxPxpV6btLs6TktzE7f9\n",
       "4np0XWfylKkJA5OLQvseDsyZjMn4YCiiukEwFAOTy1nrm30SFe/eDt27EAgkEoSNrsPOypg7xtmy\n",
       "Fh1SdlcHPftRsu05LIE2Gn0a51x+M42NzZx6+heZMzd3eaD4PWxd27B6dxKuOgC9fGq/ndvDiTmT\n",
       "MRn7DEVUNwiGamByOWt190QilXPAYkVEAmCxqsfQP0F4y1qCExal+EeCExbhbFmLiPpp9Fs58zvX\n",
       "0li/hwfuu6cgAxO/R6RyDuGqA7B3bsbasRVpLRn2PDJxzJmMydhnKKK6ATLUJVKmHDDJ5UkcLWsJ\n",
       "1y4gNOXwRBsR7sG97VnCNfP6tbP6mhIaFoCSbc+hO8po6o5yxneuo6Glk0du+wHLpttITVuVf2y6\n",
       "Z7rKQWMtSbnHcGPOZEzGPlnKjOAfvk18MDw+mEyJvpM3HGY7r/kac7ZL7/+j3Y10eXt5+PafsmzJ\n",
       "oQVtaMw3tmJhzmRMxj5DEdUVyHA5eTOJ2TKlwkw/r7vrcraLE9A8OCM+lh+6gHf+eiclLici3FOQ\n",
       "wzbf2IqFaWRMRoahOG6nLFY+GEgr/Xp07nYFjingbcYnPGgDyAiXzbmbnOoyWyrM0k1PpCQC153V\n",
       "+GafRMmu1xChdix6BEOzIR3ViX1JENsqcMHVfPukgzjv2Fk4k9rH9zSlj61vsWIAFmxd2xEyknLv\n",
       "5LbFwFwumRSfoTpuhyKqyzMmv78Hr6WiIDVtnFzO3fimxmRnbbpDVSWe6ksELmJFYKUAAUgp1e+k\n",
       "/A0tzU2c84WTaWhoZO6Umozt08eG0HA1rsDRtAKEhogGsHduRYR6M7YtFuZMxqT4DIfjdiiiuixj\n",
       "8lvcdBtOELnrR6eTz7mbbVNjvG3EMxVpn584luz4jdSkHne0rGWH38I5XziZxvp6Hv7Vj1iycDqh\n",
       "5CVP7Lq4Yzk+NnvHFqKuSgQCW/dOACJlk5EOTyIfTXLbYmHOZEyKzwg5bgdCwNtMt25POVaoE3Qo\n",
       "DtSBOn6DnQ0JA3Pfo09xxNyagh3LItQNmhOpObGEu7GE1S5sEerO2DadcNTgVy9uyfuc8mHOZEyK\n",
       "zwg4bgdCTzCCT3gG7QQdigN1oI5fZ+VkvvTVr3PwIYtZuvxIjG3egh3L0lEOehCBwLCr116EvCoB\n",
       "eZ5xt/WGuPbv69nQ2JP3OeXDnMmYFJ+h7IYeZuJRpExZ57RQT0G7rIvR1jf7pJTjLQ27WffBekIT\n",
       "FnH+xd9h6fIjC7p38vlI+QysgU5EsINI+YyUXdi5xr2u3svFD61me5uPaz6XOQXFQBBSjoDnp4gs\n",
       "XbpUrly5crSHYZKPEd4WkIn0MPVgcrUUs238eOuebZx2xR34wjr/WbEOh9M5oHtniy7FtypYfU0Z\n",
       "20op+fvaRv7v5Q+ZVO7k+lMXMqvGzewJZauklEsLenIZMJdLJiPDUB23QzRSmXQwuRy0kLsIm+Zr\n",
       "xtG0OnEu6p6U+LKWrH8Mz/oH0Pzt6CXVeBeei3/hWXnHaGtdT+/bf+KMm16iqSvMQ7+5npJIB476\n",
       "VIOS696FPK9w2mOtpwEa13Lbu0H+3lTFUVXdXLvch93hRcedsY+BYM5kTMY+8RC4szxNJ1NYGHsw\n",
       "Qrt4Ebaos0I5S8NerMEuug65CCDrOWv7Fqre/SW6zQ32cgh3o0V8dBz2Q/wLz0qEmHVHWYqOJqq5\n",
       "CLx+F5/+v400dIV46tIlHDvZIFB3GKEpyxLX2ls3YOv8kGhZXb97Z6pCmQ+tp4HejS/xw7UT2NDt\n",
       "5JuTPuTbkzYTqZ6LsFjxzTqBmbMPGNJMxvTJmIx9kkPgwqJ+O8vV8TwMVsmbqwhbrnOe9Q8oA+Os\n",
       "BIsGzkp0mxvP+geA7ImoPOsf4LZXW5WB+cFxHHnQHAwLOFrfT7nW1rUVZKTg4nD52LDhA855Zyo7\n",
       "em38av91fGt2O9JRopKND1ORN3O5ZDL2GWRC8CHtpo4ll0pG2j2J5FLZzmn+dnR3+ljL0XxqrNkS\n",
       "UWn+dq7/0jK+epyPhdMqARBYlYM3CUuoF2lzZR1XoUgp+duaBu58w8EUt+SP+7/JTI8NEKA5VRQq\n",
       "T4KsQjFnMiZjn3gIPJk8IfCh7kXKlVwq57mSakiqBqDG2q2O0z9ZVHNbJ9+48mYa9TLsRk/CwABI\n",
       "ohhJoWoAw1GqctBkuHehhCI6Nz+/mTv+8yFHTNS576hOZno0hB6MPfmgSjo+TPuaTCNjMvYZYAh8\n",
       "ODY7+mafhDXYhQh2gKEjgh1Yg134Zp+U85x34bloER8EO8HQIdiJFvHhXXgukBpibm5t54xLfsrL\n",
       "77zPuvJPYA12Q7A91q4diwGh2oNTwtWRiv1B2DLeuxCau4Nc+ugaXtjQzLlHzOBnn5uHx+gm6qpF\n",
       "RHyIYAda2E/UVVtwWD4fo+r4FUJ8H7gEtWy7VUr5OyHEZcAVQAC4XEr5XK4+TMfvPkKB0aXhTJmZ\n",
       "K7qU61y+6JLW00DXhlc441tX09DWxQP3/5HFx52Cc/uLlG98BM3XjO6eSPf8s4nULuwXrtZ8zVnv\n",
       "nYs1u7u47h8biOoG/3vSPI6cXZMYj6NlLdbOD9FC3RhOD5GK2Ynw9rgNYQshZgKXAgsBJ7BdCPEK\n",
       "8O3YsWnAv4UQM6SUQ0pkbJKFkdSu7FkFG56G7kYor4MFp8LUJfnbxSkgBD5QAzMUrYvF34ataxua\n",
       "rxlLxI8laYtEtHouwSlH9YWYq+emtG1paeHsb19HY2sXD9/+Ew5ZuhQdMEpqiFTMxrCVoLvrMAap\n",
       "iE5/XsHag3l8q+SuV7cxtbKE609dyPSqkn7tDGcF0co5A3odCmE0l0txw2GgjF0PcBLwuJSyR0q5\n",
       "AdgBDOCTaFIwI5nScs8qePMOCPdAxVT1+8071PFhYjAGJleazHgIW0R60EunICI9VKy5G3vTezi3\n",
       "v0jVilsh0oNeOhkiPVStuBXn9hdztovf17XrVdwuOw/f/hOWL5yO+6MXcG5/sX+7d2+nfO29KWMs\n",
       "X3MvFe/enrP/5OcVCvm5+R9ruPOVbRw5u4Y7v3JoioEZTG2ngTJqMxkpZb0Q4lrgbZSx+zJwOrAu\n",
       "6bI9QD+PlhDiQuBCgOnTpxd9rHslI5jSkg1PQ0klxJyfid8bnh7YbCYLg1ki5dtJnRKmBhUqRoW2\n",
       "bV3biDrLwRl7Hs5qokD5xkeIVMzO2q7JNo1JbaupnTyV5x+4NZFuQY+1jbonpLSjexe2rq2JVJ3S\n",
       "XobNuxVkNGP/4UmHpjyvBh/86O0qtnoFF88Pc8aJC7CIpPwRBbwOZU7bgF7XTIzaTEYIUY4yLJcB\n",
       "vwJ+ANhRM5s4BvSvwyulvEdKuVRKubS2tjb9tEkhjOTO6O5GcFakHnNWqONDZLA+mHw7qTVfI9Ke\n",
       "WpJW2j1ovkY0XzPYK1I7tFeg+Zqztmvds42zPncCV/7iDiWsS/qyq13Yzf3aCQSWUGpUzRL2kRZc\n",
       "Sowr+XmtaBGc97KdBr/gtiPCnD+9qZ+Byfc6lDlt1JY5+rUZKKO5XDoHeF9K+YqU8r7YsSYg+c/o\n",
       "VGD3iI9sX2AQYeFBU14Hwa7UY8EudXwIDMXJm6/uUO4Q9kQId6V2GO5Cd0/M2K65uYHP3vQSTQ0N\n",
       "fPGUz2S8r+6e2K+dRGI4Uv8QGHa3ymyVYVwAurOGP28yuPx1GzVOyX3HhTmqOnt6zmyvg8MzcVgM\n",
       "DIyukQkChwghbEKIMmAu8G/gS0KIEiHEAqAKWDOKY9x7Gcmd0QtOBX8n+GPhWX+7erzg1EF3OdQo\n",
       "Ur7dzLnC1N3zz+4XbrYGu+mef3a/ds2Nuznl2qeo7whw36NPccjxZ2W8r+oz9X4IG5GK/VND2J7s\n",
       "IexAROcnH0zgjo1uPl4X5g/Hhphuz71DPNPrUCL9eGYfnvH6wTBqIWwhhB34I3AsKlz9gJTyRiHE\n",
       "j4FvoozQN6SUb+TqxwxhD4HxFF1KYrjC1PmiS7nC1JnCzcH9jk9pZ+lt4LjrXmBzvZf7HvtbIl1D\n",
       "tvtmup/unlhQCHuHcx5X/309H7X6uHBZNefV7UYLFhY1Sx6PwzNRGZikz4EQYkghbHODpMm4ohil\n",
       "Y4vJyrffBEgYmGLw7o4ObnhmIwA/PXk+h82sGlQ/2XwwQzUy5t4lk3HDeDEwLc1NvP7Kf/jCWV8u\n",
       "qnGRUvLou7u59/WPmFnj5vpTFjK5wpW/YQaGy8mbCdPImORmuJZUQ+ynt2Unvu0rKB2gcG4ogrvB\n",
       "LJdampv4yqkn0NzUyGfqOqiZMjtnUqnkMWVSCker52YcQyCsc/O/NvHaljaOO6CWH3z6AFw2bVDP\n",
       "uZgGBszlkkkuhpjHZbj66W3ZSfCDf/TLwZKvdnO23C2F1HzOlU/G4m+jasWtSitjr4BwF9ZgNxv3\n",
       "O58zLr2RpoZ6Hr71Cg5furjfPbONyYiEqPjg9yl5aKzBTqKuOkKTD00Zw7rZ3+R/35TsbPdx4cf2\n",
       "48wlUxMh8YE+50IMjLlcMikewyXYG0I/PcEIvu0rEDkEY9nIJzTLxUDFeHu6gpz1je/R5A0rA3PY\n",
       "0oz3zDamirX39OWhAfXb34bmr0c6P5kYwyveGv73mS6EzcnNpx/MkhmVJDOQ51zsGUwccxe2SXaG\n",
       "S7A3yH7iPpjBliAZSumSgYrx/r3ZT2Onn0d+8W0OX5oqAyikFrYl6FUzmCSElFh0lSzTkPCH3ZP5\n",
       "7odLmWLr4a5zlvQzMAN5ziNlYMA0Mia5GC7B3hDzweQTzmVjsO2gcDFe3N1wzuFVvHfTiSw7fHnO\n",
       "e2Ydk9PTLw+NFAJDs+OLWvjhpv353a5pnFjVwB8P2sgkT2py8YE855E0MGAaGZNcDJdgb4j5YAZb\n",
       "gmQopUsKEeM1NdXz8Wuf580PPsQa7KbkiPMHVLIk+bx3Qf88NFg0PrQfxNfWzufVjkp+OHUDN096\n",
       "DWPuZwb9nEfawIDp+DXJxwhHl7KFqQcbJSpWdMm74jHO+sb3aOjw8eQVH+OgUy9NiPEGUrIkV3Tp\n",
       "n7UXcu0HldhkhFunvcGSidaCcsdk63+wBsYU45lGZq9hPOlgvnLaSTQ1NPDHR5/ksOVHDWv/hpQ8\n",
       "+NZOHnhrJ3MnlnLdKQuZWJ55eVQoQ5nBmNElk72C8WJgOtrbimpgekNRbnpuE29ua+eEBRP53qf2\n",
       "xxHTvwyW0VgiJWMamdFktKsqFnL/ERhjIQYm19IlF7mWLrn2HwGUrrobz4YHsAS9GE4P3gXnEl10\n",
       "AUuWLees45fxCf0VtBceGVBqzlxj2r1rB1c/9xF7fILvHxThlOVlGAUamGxVI502O+VODQIdEOgC\n",
       "VwVU7z+inzVzuTRaDJfQrZj3H4ExFmpgsgnjchmaXMI0W+v6jIK6jmU/ILjf8ZSuupuqVbej21xg\n",
       "LaGxoxstGsTx8SsIT1k2qMJv4UmHZh3TC6EF3PCGD4cGPz88wmJPT8HCweQ+RTSEq+EdDAGW2gWU\n",
       "9WyFiA+EHVzlYBhQOx80reD30VwujVdGMjPdYO9f5DEWukTKJYzLZWRyCdNKNz2RNbtdcL/j8Wx4\n",
       "QBkYezmN3gif/n0DZXZ4vfZ+AsG2rOMBco41fUy6rYy7Npdw39YACzw6Nx1hMKEEJIULB5P7tHds\n",
       "IeqqxK5puNveg8rp0NYJIgzVsyDiB18zTJg3Yp81M4Q9WoxkZrrB3r+IYxyIDyaXMC4XuYRpubLb\n",
       "AUocZy1RBubOzdR3Rbjl1Klooe48Qr3cY00eU08YfviWlfu2lvD5yo/4f8dGmZCU37tQ4WBynyLU\n",
       "jd3pxu0uVUskqxNkVIXFQT0OdY/oZ800MqPFSGamG+z9izTGgTp5cwnjcpFLmJYrux2A4fTQ2NGd\n",
       "MDB/v2h/jppuwXB6Bl34LXlM27sFX3/ZxtvNFn54YC9Xz63HaQxOOJj8PG3uStyWCEQD4KqCaBCE\n",
       "VZXMBfXYUT6inzXTyIwWI5mZbrD3L8IYBxNFyiWMy0UuYVqu7HYA3gXn8v2/NlHfFebv35zFUVMN\n",
       "tEgA74JzB134LT6mV3bpXPCyDX9UcOcRXs6qa8U/56RBCwfjz7NEBnBPnAP+DvUz5TD122YHW6nK\n",
       "SBjygXviiH7WTMfvaLKPRZeGEqYejehS4KVbaX/rIY6YGElEl3qXXJR3PNnO6Ybkvjc+4uEVuzmw\n",
       "Uuemg5uoqaxMjGkowkFPuJVq7zr1PgkLSAnIvv8PIbpkivHGs5HZhxgvOpiW5ib+8Lvf8MOrrsdm\n",
       "G3o5kDg9wQg3PrORFTs6OfmgOr77iTnYrcOzkCh6PhgzujQOKMaMZaRmQcMw2xkOA5Prr/xwndtN\n",
       "HV/56vk0NTRw+pfO4aCq8KBK0abPZN6v+jQ/ekOntSfE94/fn88eXHh1xnyzm4SBGe1ZcQ5Mn0yx\n",
       "KUalxpGq/ljIffJcM1wGJluVw+E619LUwJe/eDpNDfXc9+hTHFQVzloJsmT9Y1S9+0uI+NDdEyDi\n",
       "o+rdX1Ky/rF+FSRfaHZz8XNewuEQvz5r0YANTK7qjikGZqSqgQ4CcyZTbIqhNRkpjc0QtTQ9jgnD\n",
       "skTKpXcBhnyuua2T0y+/hcY2Lw//+icctPxI3G/cmFXv4qx/o1+CKR3wrH+A4JSjiDoriDqq+L+d\n",
       "07i/fjKHuDu45YCtWCd/bNiet1Y7o2+JNNqaqzyYM5liUwytyUhpbIagpQl4m4fNB5NL7zIc5xpb\n",
       "2vH5gzz8659wxFwV1s2phfG390swhb0czd+O5mukU1TznQ3zuL9+MmdMauaeAzczKbJr2J63O9qV\n",
       "6oMZbc1VHsyZTLGJa00cSR/KoWoUitHnYO+T4Rp/r5dukfoFHQpxHUj8LzqkakgGey7Q04GrvIZD\n",
       "FszhrSd/h0uEMKxKDRfXu8RnMpCkhSmpVgmmnEmZ6cLd6CXVbGAO33//AFojTq6Zs53PT2xFBLvy\n",
       "anoKfd4lhCirmpR64Uh9HgaJOZMpNsXQw4yUxmYQWhp/Tyd+b0dB+o5CyaV3Gey53dRxwvlX8Yc/\n",
       "PwnSwCVCBVeQ9C7sn2BKi/h4vPIizt1wKLoBfzzgbT5f21SwpqeQ510iA5QLf//3ebQ1V3kwQ9gj\n",
       "wT4SXQp4m/EKz4D0HYUynNGlRr8llq6hnod/9SOOmFsz4AqSydGlkKuGn1u/zSM73Bw81cMNy3Sm\n",
       "NTw/YE1PruftjnapGUy297mInwczhJ2N0QjpZbtn/Gc4GY4+C3mNeppgz7t95WXLJ/e/pvF9wu89\n",
       "DF0NlLonYgjrgI1M3vQIvmYcTasT56PuSYl76GWT824ijNPS0pIIUz9w3+85fLoNsuwP0t0TCU1a\n",
       "nDBQ8S0HAKHpx+B1luP1dvCTD+pY2aZx2qFTuOTY/XD4mwgZmdsNFL1sMlrtDMpGMR/MUNk7l0uj\n",
       "EdIb42HEfhQy3j2r4M07INwDFVPV7zfvUMfjbHqO6H9uJOzvQi+dDJEeqlbcinP7iwUPJT3smxwu\n",
       "LuR8NtJDwCFfF1856wyaGup54L57+Hh1R9bwcCHh783tIc59ezLvd1i4dmErlx9WgsPflDPsPFAK\n",
       "EtqN8c/e3jmTGY2Q3hgPI/ajkPFueBpKKqEklg4h/nvD0zB1CQDhVX8ibCvLmjKhEPKlchiuVA+O\n",
       "smouOutE5szej8On29Cj2esT5Qub/6O1hpveL6XCAfccG2G+WyDzhM0LnW3FKVjJO8Y/e3vnTGY0\n",
       "QnpjPIzYj0LG290IzorUa5wV6jhKaKd3NeRMmVAI+dIjDDXVQ3NbJ++sUQXpv3L6yRwxtyZvfaJs\n",
       "5w1fG79erXPdmjIWVknuOy7MvEpZUNh8IAxoq8AY/+ztnUZmNNIojHbqhoFSyHjL6yDYlXpNsAvK\n",
       "6xJK3nwpEwohX3qEoaR6aGms54xvX8M3fvRL/MFQIoSdrz5RpvOdvX6+vXoKj+0q4+xZAX57dIQq\n",
       "Z2rbodR6ijPgvUhj/LO3dxqZ0QjpjfEwYj8KGe+CU8HfqVIEGLr67e/EN/vkhNAuX8qEQsiXHmGw\n",
       "qR52U8cZl/2ChuY2/vCLK3BbwgWFt6F/+HhjS4DzXvOwvsvKT4+byBVzmrBFBxY2L4RBbXYc45+9\n",
       "vTeEPZaiS2OVQsa7Z5XywcSiS77ZJ9NcvjDlknwpEwohX3RpoKkeWpqbOOcLJ9NYvydrmLrQ+kjP\n",
       "fBjg5g1VVJXYuO7zB7P/xLJBh9RzMaTd1GM4hL33GhmTYWe8pGsAuPXn1/HAPf+P+x59iqXLjxxU\n",
       "HxHd4M6Xt/H02gYWT6/gqpMX4CkZvvQPyYx22ZJcmEbGNDIjwngyMAC6rrP9w63sf8C8QbXv8IW5\n",
       "9u/rWdfQzVlLp/KNY/ZDs4hhHqViLBsYGCExnhBiopSyOe3YEinlqmxtCuzXA9wNHAMEgfnAJcAV\n",
       "QAC4XEr53FDuMaKkLS1YcGoi1Dtg8k1/hyOr3aqHYOW94GsDdw0svQCWnNPvOYU++BuyYzeVWZYp\n",
       "hSxlBlu6NU75m7dQvvHPWCI+DJub7vlfofvI/wH66iM1t3RwyT+6ufFHl1H+mSvZ/4B5OceW7Z4b\n",
       "Grq55h/r6Q1G+enJ8/nEvAn93p6hZLFLbuvwTMQz+3Agy9Im03sI42pZXtBMRgjxIXCalPKD2OPT\n",
       "gTuklEPSjgsh/gRsAW4EHKhX+jlgCTAN+DcwQ0oZydbHmJnJxIVrJZUqzBvsUk7TI787cEOTr97R\n",
       "cNRMWvUQvPpzcJSCrRwi3RDqhWN/3Gdo9qwi/Ppv8GvlWesdFVITKVf9o3jayVzny9+8hcq1d2No\n",
       "dtCcoAex6GE6F12E4fBQtep29gRsfPqeBuq9YZ47r4YDTrsyZ30k3T0x4z0fCx3O7W+0UlPq4PpT\n",
       "FjJ7Qmm/tyffeHOR3Nbp9uDRQtlrWWV6Dztju7krp49Yva6R2lZwPvCUEOL7wEHAOcBxg70pgBBi\n",
       "EnAkcJ5Uli4ohDgNeFxK2QNsEELsQBmct4dyrxGhAOFaweQTVw1HzaSV9yoD44rtJLbGfq+8N2Fk\n",
       "Qh/8jYBWnlMEV4hQLpewLZ/wzV82mfKNf1YGxh7Tn2hujDCUb/wz0u5WBub3DdR7I/z9orksm2rA\n",
       "hgfw56iPFJq0OOWeIa2MX29289ddLSydUclPT55PuSuz/yXfeHMRb+ssrcTjsqH+tpJZOJfpPfS3\n",
       "AQImHZj5fR2DFBTCllK+BhwL/AhYBiyTUm4e4r0XAh8BTwohNgshbkXNXnYmXbMH6CeGEEJcKIRY\n",
       "KYRY2draOsRhDBN5hGsDIp+4ajhqJvna1AwmGVu5Oo7ywYQ6ducVwRUilBus8C1xPuJTM5hkNCeW\n",
       "iI/mlg41g4mXLdmvFKwlWILenGNLvmdrAL79Xxt/3eXi3FlefvGFg7IamELGmwtLoE3NYJL7zyac\n",
       "y/Qe6hHQw6nHxpDwLhNZjYwQIiKECMd/gB3A4cDJQGfs2FCYACwAvgssBo4CTgGMpGsMQE9vKKW8\n",
       "R0q5VEq5tLa2dojDGCZyCNcGTD5x1XDUTHLXqCVSMpFucNckCe3yi+AKuWYwwreU8zY36MHUsepB\n",
       "DJsbraScarfoMzAAUX/e+kjxe65tF5z3HzsfegU/X9zNJYtseR28QxHcOTwT1RIpmWzCuUzvoWYD\n",
       "zV5Y+zFCViMjpbRJKe1pP9bYcZuU0p6tbYG0AKuklHuklD7gReB+Uj1gU4HdQ7zPyJBFuMaCUwfe\n",
       "Vz5x1XDUTFp6gfLBBDohqqvfoV4Ci85LRJEKEcEVcs1AhW/p57vnfwWLHoawD3Qdwj7avEFa55yF\n",
       "bdkFvHpBNUdNNcCIQri7oPpIwdqD+euH8O3XbLisknuP6uKE6vYB1TkaqOCuzGlTTt5ChXOZ3sOS\n",
       "GrUUH6PCu0wUHMIWQiwHZgBa/JiU8uFB31gIN7AW+BjQDrwMPAlcACwFZgJ/ARbKHIMcM45fGPfR\n",
       "pcCi82icfXpKF4VEjkY6ulQfcPCpP/mYf/gnuP2uPyaiS5agt6D6SL01i/jtS1t5dl0TR0zU+dnC\n",
       "BkrLqwcdISokupQSph6IcG4MRJdGRCcjhHgY9cVfAcQjPVJKef5gbxzr90TgVpT3634p5Q1CiB8D\n",
       "30SFtL8hpXwjVx9jysiMY8aLDqaluSmWcKphUEK71p4Q1/x9PZuaejhn+XTOPWJm0fQvcca6DiYf\n",
       "I2Vk9gBzpJTBvBePMKaRGTr7ioF5f08X1/1jA8GIwY9OnMcx+xffjzHeDQyMXAj7FWAysH2wNzIZ\n",
       "m4wXAyOl5Ftf/8qgDIyUkqfXNPC7V7ZR53Hyqy8uZEa1O3/DIbI3GJjhoFAjMxVYK4RYDSQ+kVLK\n",
       "E4oyqr2NwWxeG07/ThYKMTCDrUGdTq6Ki4XgaF7DbV9aQNhbxTL9ZXxNrry1pwHE1hf57au7+Jt3\n",
       "Dse6d/OToyZijRmYfH6VwaiF4+Q0MEPdzDjONuIWulw6NtNxKeWrwz6iATLml0uFqHPTGU71cBYK\n",
       "NTD51LyFEK+4qNvcql5RuBst4qPjsB/mNTQtzU28/NhdfHduU8ZxAFnH2NrWxlX/aWNdZDKX1LzP\n",
       "JeWvYQ9107HsB0RqF+ZU7eZ67tnUwvG2eQ3MQD8Pw9l+EIzIcklK+aoQwgrUAsX1ku1tDCY14nCq\n",
       "hzNQ6BJpsGkv0/GsfyBrxcVcRibug2nes4PP/epsplT0HweQcYwbV7/BlVvmEDJquGPaaxxXXg9U\n",
       "ExUqNWivPDOnajfXc09XC2et7JiJoabKHOOpNjNRkOI3tp2gHeWTWQHsAnJGfUxiDCY14nCqh9MY\n",
       "iA9msGkv+/WTo+JiNpKdvE/+8JNMmTw14zjSxygl/Ll9HhdvXEiF8PPIrOdjBiZ+X5UaNJ9qt1C1\n",
       "cHLbfpUdMzHUVJljPNVmJgrNjHcpsB/wT+BQ4GjgX8Ua1F7FYFIjDqd6OImBOnkHm/ayXz/xiovJ\n",
       "xCouZiI9irRs8SFZx5E8xoBu4aqts/nljlkcU9nJw7P+xX5iV9p9VWrQfKrdQtTCyWSs7JiJoabK\n",
       "HOOpNjNRqJEJSynbgfXAIVLKt4HPFG9YexGDSY04nOrhGIOJIg027WU62Soueheem/H6le+8RUtT\n",
       "UyKKlGsc8XMN3gDnfzCfZ1ur+Xbt+1x/4kyMA8/Imho0n2o31z0LruyYiaGmyhzjqTYzUajj9zLg\n",
       "XdSS6T9AB7BdSjn4T/0wMeYdvzDq0aWhhKlHMrpkGAYWi/q719HeRlV131/nXON4f827XPuqF92Q\n",
       "3Lj/VhYvPSJxLldq0OGILuWt7JiJcRZdGvHMeEKIapTkf0ssJcOoMi6MzCgyXnQwLc1NXHD26Vx5\n",
       "9c84+uOfKKiNlJInVu3hnte2M62qhJ+dupCplSVFHmkf+4oOpujRJSHEMlQKhjeklE1SynYhxBJg\n",
       "FTB3sDc2KT7jycDEfTBOpzN/AyAY0bn1hS38Z1MLx+xfw5WfOYAS+8jVKtxXDMxwkPNdEUL8DPgC\n",
       "sBK4SQhxDvAtVIqGLxd/eOOMgS5xck178/W16TlY/aCqVV02CRZ/FeadmDjdE4zge/tP1OVYogzX\n",
       "UqiQagXZNjEmDEz9Hv7y0y9wVPfD6G+8nLNawS5tJpfvPJxtnQbfOHoW505vo/Tdmwcsmhvsps0y\n",
       "p41aow02ZHnv8i1nRkBoOZbI5/g9B5Wg6lzgE8DzqNQLh0spzTVKMoXUjU4mV/3ifH1teg5e+QVE\n",
       "etSHN9KjHm9S6ZDjBqbq3V9CxIfungARH1Xv/pKS9Y8Bg68vnY5z+4tUrbgVIj1Za2GXrrqbqlW3\n",
       "QzSI4ayEaJCqVbcTeeXXCQPz1+8fzRH7V+Sthf1GdAFf+WARLd4gvzyuhPNmtFO59p6Mz6OQetYD\n",
       "rYXtCbcqA5PtvctXl3qgn5O9gHzzy0gs1wtSyt1CCC9wtZTSyNNu32OgArpcoqo97+bua/WD4PL0\n",
       "P7/6QXpmforWnhB1eQRwwyW0K9/4CFFnec5a2J4ND6DbXH1aGXs5OjB95+Mc/fFP8qVZPSzbP3ct\n",
       "7IijgvvbFnLHzmnsVxLg1/u9y9SABtsyi/HyieYgd83qTCk27TYr5d514CX7e0eOc54pRRdajkXy\n",
       "zWSmCCFeiP8ANcDzSY9N4gxUQJdLVJWvr54mcKSdd1QQ6W5I+GDyCeCGTWjna85bC9sS9IK1zyHb\n",
       "6I2ws9uKNdzNNT//JUfNsOYcS6i7hSt3HsZvdk7nU9UdPHDweqaW2TKK8ZLb5hLcDTQlqMtupdxT\n",
       "od6fXO9dPrFcEYWWY5V8M5mBCSL2ZeICumSBWS4BXVxU5UgyBHFRVb6+yiZBKPV8xN9JyNlXuiMh\n",
       "gIvPZCBFABcXm8VnADBIoV28FrYzaaxptbANp0ctG+zlNHojfPrOzdgskhVXzM07lvrOANd99Gm2\n",
       "B0q4fMYuvjalESFABPvGmq1tXDQXn41AquAu17nkti67VeXkjWemg+zvXb5zA/2c7AXknMlIKV/N\n",
       "9TNSgxwXDFRAl0tUla+vxV+FgFcd13UiPW3ovs6U+tP5BHDDJbQrpBa2d8G5aJEAjW0dfPp3m6nv\n",
       "CvN/n/XQe+B5Ocfyb+fxXPLn1bTopdw14xXOq1mPkJnFeIWI5gZSszp+vkQG8Di11Pcn13uXTyxX\n",
       "BKHlWMesIDmcjEJ0KdLdQMg5IWNEJ58AbiSjS74Xf8kZl99MvTfM09+cxUGf/VYiRWb6WKIlddwV\n",
       "/CS/Xxtiv1o315+6kBmBTVnHOtiUDPmiS55wK9XedQOPIO1l0SWzTO1YMjIjzHjRwQBcfvH5vPT8\n",
       "s/zx0Sc5bPlRWa/zh6Pc/Pxm/ru1jU/Mm8APTpiL06Zlvb5YmDqYPkbUyAghylACvK1Syu58148E\n",
       "+6qRGU8GBsDb1cmO7dtYtDj7Z3V3h5+rn17P7k4/F31sP85YMhUhRj6ziGlgUhmqkcnpkxFCnCyE\n",
       "WCOEuDem/F0H/ApYJ4QwncKjxHgxMC3NTVxz5fcJBYN4KipzGpi3trXzrT+vptMf5pYzDubMpdNM\n",
       "A7OXkC+6dBvwDVSah38Ax0kpNwghpgPPxn5MRpDxZGDiWwXOOuc8Fhx0cMbrDCl56O2d3P/mTuZM\n",
       "KOX6UxcyqbywrQXDjWlgikM+I2OVUr4OvC6E+JmUcgOAlHKXEGLvfDeKscM12xaAAToAkw3McNRD\n",
       "ylWvKE4hTt10B/OWSafylR/dncgHs+CggzM6oVvnnM5Nz23ijW3tfGaazg2uu3A/35DxPrnGkcvB\n",
       "XegubIdnoiq8llxbcLCO+Xzva1q9K5ZekKg/vjeS0ycjhGhDLY8ALgduj58CLpdSjnqN2GH1yRQj\n",
       "f2p8C4DLowR0oS4Vfl54JjSuKjiPb7qByZd7N981cam/bnMpoVzUjxYJ0LHk8oShiW8ZiDrLleAu\n",
       "3IU1qHLkJn/Bk/P3Nra2c+LvNrOnR3Df439n6fIjM+b43RF0c3HkCnb7rVx6UJSL2m5Bd2W+T65x\n",
       "WAIdWfMHG66qrO2Sc/w63R5VOjb5vc71Wehpyp6DGXLnZ171ELz6c3CUqtrjkW5VyfPYH49ZQ1NU\n",
       "nwxwB2CL/fwu6f9W4P8Ge9MxS7LUX1jUb2d5n1x8MCRvAdA09dvlgVX39snLLbHjJZXqL2Aa6Uuk\n",
       "lC0BFk1J6Z0ViZy3hVyTIvW3WJXU3+bCs+GBRB8pWwYsmtoy4CynfOMjiWtS8vdaNNqjJYR0+Psl\n",
       "ByTKlqRf85KxhDO8l9ETCHHbmYv4RvjPysBkuU+ucaT3jbMS3ebGs/6BnO3i2wacpZV4Shz93+tc\n",
       "n4XkrQHp712uc6BmMI5ScFWCVVO/HaXq+F5KzuWSlPK6kRrImMDfpja1JWMvhd6WwffZ09R/FuSo\n",
       "gMAHmeXlXXtSm2fwwWi+RvTS1D6l3YPWW1/wNWqJVJlyHmsJlmBnUh/NatNjMvYKtN6Gvmv87eju\n",
       "CfQEo5Q6NA6cUsraa5bjCrWxJ+0aQ8Lvuo7gTu9yDrQ38buSe9GnnYT2Vu775BpHvO/Uc+VovhZA\n",
       "ZG1nCbThqKhTSt7EuaT3OtdnobtRbW5MJvm9y3XO1walE1PP28qht5m9lbzpN4UQRwohXhFC9Agh\n",
       "OoUQ/xRCHDICYxt5ipE/Nb4FIJlQF7gq8ubxzebkLST3br5rElL/ZKJ+dTzRR2zLQDJpWwb0kmoa\n",
       "W9s55qZ3ueX5HQDYjd6U/L16STXdwTDfbjmVO73LOa10PQ9V3sOEMmtB98l1Plf+4FztHJ6JaomU\n",
       "ci7pvc71WciVgzlffmZ3jVoiJRPpVsf3UvKFsJcDfwR+DkwEpsceP7ZXGppi5E9N2wKAv109XnJB\n",
       "Tnl5rihSIVsC8l0Tl/oT7gYjGvNlBPAu6Mu7W8iWgS2TTuXE322mvjPIMbPLM+bvXTPjfM5q+yav\n",
       "B2ZwVeW/udH9GCVRb+KafPfJdT7X9ols7aIHf1U5eXO914Pd9pFv28DSC5QPJtAJUV39DvWq43sp\n",
       "+Ry/LwDXSCnfSjt+LHCllHLUtTLDLsYbA9Gl4arsWOzoUiJMvWcXf7/kAI6pi/aL7ry2tZWbn9uM\n",
       "S4T5bcUjLNPfz7jFIV8Ua7iiS9GDv0rF4s+pTvO912Z0CSiy4lcIsVtKOW2g50aSvU3xO150MOFw\n",
       "mFM+eRT1u3dnrE2tG5L739zBn9/Zxfy6Mq793MJR16CYOpjBUewcv4Ec5/w5zpkMgvFiYADsdjvf\n",
       "uvyHTJ4ytZ+B6QlGuPGZjazY0clJB03i0k/sj91aaPWd4mAamNEjn5GZIYTYkuG4QCUXNxkmxouB\n",
       "aWluYuumjRx17HGccvoX+53/qM3HVU+vo6U7xPc+tT+fWzQ5Qy8ji2lgRpd8Rmbfq0ZQDJ9MnjV6\n",
       "xjD1EGoCFdpHvvOQ6u/YEynjnLt20uEL88rKdZSWlqWM5aUGjav2LKPEYeXXZy1i4WRPwffK55MZ\n",
       "bFoKT7iV6tZBpGvIx1DajrNUD0MlX9Kqnbl+RmqQI0a+JNCDIU/i6GwGJleS60KSgA82UXb8PPSp\n",
       "eYn42BP1cOJv1tDU3Mx9134zxcCUvXcPv/2ojh/sOoK5rm7+Mu0pDrVsL3gs+ZKRDzbpuSfcSnX9\n",
       "vweX8DsXQ2m7DyYSzxfC3iqE2JLhZ2uWZdT4phiK3xwK0GxLpJQk1sKiklw7yhIJsAtR/ObrI995\n",
       "6FPqNoZKOPE3a6n3Rnn6ov05wfJm4pro5he4eM8nua95NmdMaub3B2+lssw5oLHkUxYX8nzTKXPa\n",
       "VMKpbO/nUN7robTNpwjeC8m3XHoN+BjwAnAf0Fr0EY0mxVD8ZlGHhjt2ZfXBWAJtGCWp28KkzY3F\n",
       "r17+QhS/+frIdx76lLoP/GcX9V0hnv7OIRy5X1lMTQvbWnq5du2BtERLuHrOdk6b2DqoseRTFhfy\n",
       "fJNJ+GDyvZ+Dfa+H8jnJpxbeC8m3XLoAWApsRYnwbgSmDtdySQhhF0JsEEL8Ifb4MiHELiHEZiHE\n",
       "ifnaDzvFUPxmUICGejvw2Sdkvp6+JNbJJCe5LkTxm6+PfOehLxn5lSfO5M3/XcaRcyoSatr/bGrh\n",
       "O4+8R0TY+OMBbycMzGDGkl/xm//5xklx8uZ6P4fyXg+lbT5F8F5I3riilNIrpbxdSnkwajZzmRBi\n",
       "hRDiW8Nw/x8DOwCEELOBbwMLgdOAe4UQtuxNi0AxFL9pCtBQdyuRnvacCbvzJbkuRPFbaKLsbOdb\n",
       "mpv4zP3t7GjqRIS62L/WAcFOZDjADdp3uOGZjcydWMrvP1vNodrOIY0ln+K30KTn/aJIQ0n4nYuh\n",
       "tDUTiee5WIjFwEXAscATUsqrBn1jIeYDtwJPAEcDm4AKKeVPY+ffBL4vpXw7Vz/jQvEbiyaEu+rx\n",
       "2ScUFBkZzehScsKpR276Dsdb3kTzt9PmmMqloYtY2e7g84dM5pKPz8amWYZlLEONLmUNUw8l4Xcu\n",
       "9qHoUtFz/AohSlB1ry8CfMBdwJNSysigb6ryKr4AXIIyMEfH+l4npfx97JrHgUeklH/N0P5C4EKA\n",
       "6dOnL9m5c+wHusaTDiZuYJKVvFuae7jm7+vp8IX53qfm8pkDJ43ySPswdTDFpdg5fn8HvA8cApwr\n",
       "pfy4lPLRoRiYGBcDr0gpP0w6ZgeSy98agJ6psZTyHinlUinl0traUc+blZfxYmBam5szGpgXNzRz\n",
       "6aNrkBJ++6VDTQNjMiDyRZcuQX3RLwIuTErsLAAppbQP8r5fBcqEEGcCVYAb+C0puQ+ZCuweZP+D\n",
       "ZyjT4AwbIXtmfgrv1repzDDVLzQ15GCWF4Vck76xUJ/5RSZPmcYvfvV/LF1+JFHd4I9/fZ5Hd7pZ\n",
       "Zt3Gr8qexdp+Jv5JZ6Xcp5DlUjFqQCUMzGCXREOpjzRaS61xyKjXXRJCnIdaLv0/4EFUNGsm8Bdg\n",
       "ocwzwDGTfjNDms2or5OO/U6jpPW9fmkw/bWHUr71qbypIaXNjYj40EI9+GadgF42uaC0mPmuSU6J\n",
       "2Rx0UmbxUyYCtC/9AYEDv0SnP8yNj73C6g4HXy15ix9Wv4Ut0pVIbRk3EIWkAs2UfjO5n0L6SCfF\n",
       "wGR7z2Bw5zxT+kRzmdJolk0a/OekGClei0yxl0t3DebcYJBSrgIeAtYDTwLfzGdghp2hiKzS0mxG\n",
       "7JUEbWV4NjyQUUimjudODTlY8Voh1yQL7T7zmzWc++c96DY3FRv+xOamHi55aDXrOy3c7PkLP57w\n",
       "NjZNpKS2jFOIUC5XisxC+0gmZYmU6z0b7DnILZobLSHfOCVfCPtCIURYCBFJ+gkLISLAN4djAFLK\n",
       "+6WU34j9/+dSyllSyvlSyjeGo/8B4W9Tf12SsZeq4/noaVIzGCASNQhFDbBXYAl6kXZPyqXS7sES\n",
       "9KoZRsq9KtB8zVgCbUibO7WNzY0loMah+Zqzto2T7xrN305jwMFJt69mT2eI7x0/A+zlPN0xk0sf\n",
       "fQ8h4NHyOznFsyOtj3I0f3vSfRozPj/N19h3jb9dzWCy9FNIH3H6+WByvWeDPQdqiZQpPWp349A+\n",
       "J0NpO07JZ2Tuk1LapZS2pB+7lNIG3D8C4xtZhiKyiqXZTBgYgHAXhtOTUUhmOD1ZBWhDFa8Vcs2e\n",
       "SFnCwDz9nUM4bHYVN7QdzY98Z3HgFA93fWUJ88qDWVNb9t2ngFSgOVJkFtoHZHHyDlZwl++9ziWa\n",
       "Gy0h3zilEMXvgM+NW4Yislr8VaK+TkK9rSmCMu+CczMKydTxzAK0oYrX8l0jpeScxzvZ0xXm6Qtn\n",
       "M3fGRL7ecCp/9i/n7Jk+bjn9YDwltpypLeMUIpTL108hfWSNIg1WcJfvvc4lmhstId84ZdQdv0Nl\n",
       "rIjxeoIRetb+M2M0J1vkZDSjS1s2bSS05kkmRj7isrZT8Eo3Pz7Ix9HHpypP80WFoPjRpbxhajO6\n",
       "VFSKLsYb64yF9JvjRQfT0tzEP556gvMv/g5CCJ79oJHfvLSVareDn526kNkTSvN3MsKYOpjRp9jp\n",
       "N03yMJ4MTFxo94nPfJa/bYvwj7WNLJlRyU9Pnp9af2iMYBqYvQPTyKSTPpUNeJWuIb3SAIUbmMEs\n",
       "l/ItQQpZLsWXXK17tnHOFXfQ1NbFb/70FL96u4v1Dd2cM6uXKyO34HisbUhLoULI10/68tA2bSnV\n",
       "tbMK63ywy4/RWraMs+XSUBnd7M5jjfSMZ7veUnWL/a3qQxDpUYK7Tc8NyMBkyupWuururNng8mWC\n",
       "y5dJDvqy0bU0NXDaD+6gsbWdX1zzQ/7fesm2ll5uWNTF1d3XYI32qgqMER9V7/6SkvWP5R17vox0\n",
       "hb4G8X7SM+eViLDKaFfMLHXFyIJYCKN131HENDLJpAuldr2j6hQLkVLHOrzqTwUvkbIJzXKJ8fKJ\n",
       "0woR48UFfWu2NdHW4eU719/ObzuX4hIR/u/Lh3J6x905BXK5xp4rI91AXoN4P8niQ5fDTnlFVfHF\n",
       "baMlijPFePs46UKpQKeqUxztMygRmwe9qyFD48xkE5rlEuPlE6cVIsYzepuRNjcfP/Iwzr7xAR5r\n",
       "m8bSCQb3H17PfrWleQVyucaeSSSXi3z9xMWHLru1zzdUbHHbaIniTDHePk66UMpVqeoUW5XzMRI1\n",
       "CPnaU0Rv+cgmNMslxssnTssntGtpbuJTF/+Sx198h0tes/FcvZNzD4jyq6WdlJbHBHB5BHK5xp4p\n",
       "I10u8tbldtVQQijV+VxscdtoieJMMd4+TrpQavrhqk6xlEQiUUK9rf1Eb/nIJjTLJcbLJ07LJbSL\n",
       "R5Hqqeb3/iPY3i34+bIQ39q/C3u4T9A3XEK7obwG8X5s05ZSLvwjK24bLVGcKcYbfxRdjBfwEt70\n",
       "DHpXQ9YoTj5GKrq0y30QXz7tJLzVB+I57gIml9u4ZUk3c2ytGQV9wyW0G8prUFC6hnyY0aWiYupk\n",
       "hhvPlJQ3vCcYoXX651MuKaQoWjK6eyKhSYsT18eXNcH9js9qsLK1iWOU1BCpmI1hK0F319EZdfDl\n",
       "00/BN/8UyhYcx7JZVVyzJMKk3S8nvthR96SUcRquKnT3JEDE9kxVDXgcg3k94qToYNJe937k+mLm\n",
       "a5uNxvdhzSN98gSLdWS+7IMd7zjFXC7lYDCF19IZ6PWFtMkUErZv+itln/0RrgXH8bXlM7hleYRp\n",
       "G+4ZljB4rrEXck2m8Vavu4da77rC3ohihH3j+X8iPf3kCSbDi2lksjDYwmtDvb6QNskh4aYuP3+r\n",
       "r+SLH51I1OnhZ6cu5LyjZlK2/blhC4PnGnsh16SHsG2lNbjKagovaFaMsG9a/p+4PIHVDw6+T5OM\n",
       "mEYmA7mEdvlyvQz1+kLaxEPCje09fPZPTVzbcBjlVp2H9/s3R82pSbkmpY8BhsELGXsh1ySPxW61\n",
       "4HZY+3KzFEIxwr5J+X8SOCrUcZNhxTQyaeRT8hZSFG0o1xfSRnfXsauxic8+60I/7BwWOZr487w3\n",
       "mF7d90Ucahi80LEXVCQuNpaEgYGBFTQrRtg3lv8nhVCXOm4yrJhGJolCtgrky/Uy1OsLafOObRmf\n",
       "X3Uo+qwj+JzjA+476H0qIm0poeWhhMEHMvZCrvHNPglH1Itb9w6uoFkxwr6Lv6r2pfnbQY+NKeBV\n",
       "x02GFTOEHWMgu6kHGk0ZTPQlW5v3dnVy5aMrCEcNvlPxLhfPackaWh7OTZa5xp7vmjKnTTl5h1LQ\n",
       "rBhh3wzVJeKbX036MEPYw0CygUn/whjCiqtxRb8vqj+DkcimO7G1rqd00xOJL7MhrHmNTHobHSuP\n",
       "bjG4+9VtTKmu4Py6XXzeo6mSeFmw+NuwdW1TeYMjfixpPoxI7UJ65ZmJ5xqpXdivD9eWf+DZ8ACW\n",
       "oFIpexecS++Si1Ku0XzNOJpWZwyVJ8LU9S3Q9qH6Qod9/YvT5zMiucK+g01MNe9E06iMAPv8cind\n",
       "wCSHY21tG6lacSsWX1PeXcjxsh9EfCm7mitevipvqDid9PByIBTg6n9u4v+9so3DZ1Zw7wk2zrS8\n",
       "lHN3dL4QdSGh59JVd1O16naIBjGclRANUrXqdkpX3Z24JtcO64SByRcuHkqIOlfbfXDH81hknzYy\n",
       "6Uuk9HCso30jUWc5mh7Kuws5W9mPsq1P5A0Vp5McXt4TLedLe87kpciB+N54kC/OilK7K3d4Or2P\n",
       "TPctJPTs2fAAus2lNlJarGAvR7e58GzIv1O7ctfzfUK7fOHiYpUY2Qd3PI9F9lkjk8kHkx6OtQQ7\n",
       "wF6BiAYSx7LtQs62q9kSDeQNFffrKxZefrN3Emd+eALbep14n76BR5ZuYtGhSworQ5InRF1QeDro\n",
       "BWtJah/WEnU8cZ/+Y7G5q3AHkpZD+cLFxSoxsg/ueB6L7JNGJpuTNz0cazirINyFtLoSx7LtQs62\n",
       "q9mwuvKGitOJlkzkj82zuHjnsfR2tNDx8BU8egosXzRX3auQMiR5QtQFhaedHrXESBmcXx1P3Cd1\n",
       "LHarBbfRkxqezhcuLlaJkX1wx/NYZJ8zMrmiSOnh2FD1fKzBbnTNkXcXcrZdzT37n5k3VJxMIKJz\n",
       "ee85/KrjKJZbt2B55mqeOHcyx06zJtoUsjs6X4i6kNCzd8G5aJGAMp5GNFZeNoB3Qead2nYNFaZO\n",
       "D0/nCxcXq8TIPrjjeSyyT4WwCwlTFxpdykS26FIhoWKA+q4A1zy9nh3tPi5eEOWS6J+hpwlRPqlf\n",
       "m0J2R+e7byHh6dJVd+eNLtmb3qNy1/NqiZQtPJ0vXFysXdjjbMfzWMQsiVKgkRnrVQXe3dHBDc9s\n",
       "xDAMAi/dyaeXzuWHP71utIdVEGZVgb0bUyeTD289gR3vEuhopCTDX+v0v+ZR9ySsvqbEY0vXLsq2\n",
       "PZ0yOwlNPybjDCDbzCDbrEPracDevJaHNoS5c6uH6eUaux+/nuatH3DC15Yz4Znzs85ChmMmU0g+\n",
       "mYKEdkYbbMgzW8g3oxitQmsmRWfvnsl46wms/wfdhgtpcyMiPrRQD75ZJySMgvujF1Qo1+ZG696D\n",
       "q2klgUlL0cun4tz2b0o/egbdVa10IuFutGA3gclHEdzvuJQ+gxMW4YyHhZOOh0unUL7lSRXmtau6\n",
       "2NZgF91zTyfa1cC1m+r4T6ODj1X38OadP6SxpYOHfvVjTgw/q0LQ9goId2ENdtOx7AeJipQVa+7u\n",
       "12fXIRclDE1cJ5Otj7iuR7e5VVQs3I0W8dFx2A8Thib99Ul//RIGZvOzKjRsL1WO1WA3HHBS6pIl\n",
       "1zX5zu9ZBW/eASWVamNlsEv5fY78rlp65bu/yZAY6kxmr3b8Bna8qwxMFi1IulbEGmgl6qzAGmgF\n",
       "YcHV9JbSiVi0hPZFahacrav69ene9mxG3YnSq/TXkXSu/SfnrZzKK412vr0gzLv3XEljcyt/vu1K\n",
       "jneszalxKaSKQD6dTDZdT3K1glxamj4lbwFalHzX5Du/4WllYEpiz6WkWj3e8LSphRkH7LXLpZ5g\n",
       "hEBHI7KkNuW4tLmx+FsBpRUxks6LULeqJBALRVtCPRiOcoQeSerBiiWcGvqVNrfSi9QtyXC8mUjl\n",
       "/inHX/PN5CcfzcJi0/jN0REOmyCpufBLVJaXcuTcGrQNzUqlm4y9Aq1XqXE1XyN6aepfaWn3oPX2\n",
       "KVk1X54+/O1KmZxyvhzN16dvSX994s/JHemkLO6D8bcpNW1KP6Wp2wbyXZPvfHcjVExNPe+sgK49\n",
       "hd3fZFTZK2cycSdvPi1I+nnpKFeVBGKiOsNRBlE/Uksu4RrFsKeK2ETEp/QiGe6luycmdCSGhN/v\n",
       "nsxlm+Yx1e7j1gU76dy8AoATjz2cIxZO70txmUPjMhw6mUKqFWR6/UoIUVaVlA6hEC1KvmvynS+v\n",
       "U0ukZOKpIkwtzJhnrzMyyVGkfFqQ9PNRVy3WYBdRVy1Ig8CkI5ROxNAT2hehGwRrl/Tr0zf7pIz3\n",
       "UnqVLny+bn6wcQ537prGyZ4dXLMkwrf+53ouvfa3eLt7UsaWT+MyHDqZQqoVpL8+JTKgqgok60wK\n",
       "0aLkuybf+QWnKh+Mv71/qghTCzPm2ascv9ly8uaKjoxEdKlpy0p+8mIru4JOvj9jB4fPncpZF19J\n",
       "U0M9D//qRxwxt6bf2PJFhkY6uuSOdqkZzGAiR4VcY0aXxizjNoQthHACvwU+DjiA26WUvxZCXAZc\n",
       "AQSAy6WUBWV2zqaD0csmE/U1425ajdbwDo6m1SlfyPQ0BVTMwdH1YcqXtzFNfObc/mLG1A2ZUjq8\n",
       "1mznpud92KWVe2a9xmRbkM9941aaWtp59Lqvc4LvCSxv9Re6FZKGYaiEph+D11meYhQz4bJrlFlz\n",
       "fFQKyb4/1Az9U5dkzz+zj2X/H2+M2kxGCFGNMjBPAdXAeuCLwO+BJcA04N/ADCllJEs3LF26VL78\n",
       "+ltZhXa5wr1Ayjlr1zYcLWsI1i5Cr5wzoNBw7/RPUrrrpcRxI9TFPa0H8389H2OBs53b9n+fSaUO\n",
       "7nzqVX7x2Ds8/uPTOEGLRa+sJRD1o0UCdCy5nMDcz+UMHQ9HCDtfeBrULKaq/iXKPFXFDQ/nC2Gb\n",
       "jCrjdiYjpWwHnow9bBNC7AY+BjwupewBNgghdqAMztvZ+jGkzKnkTQn3ggr3xo4DKees/hZ0mxtb\n",
       "oAW9+oCUa+Nf3pTQMKjQMFC+8c+Eq+eCs5oe3cb/tn6eV3qmcppzFVfOb8Pu8oAQXHL6cXx22X4s\n",
       "6PoPuq2kb+e2vRwdlV7BqJjeFzoGFTpGhZT9ZZNzPqf843yE4H7Hp4anM9wDoKJrnTIwjtgY47/r\n",
       "Vw/vlz85DF3M+5iMCmPC8SuEOBBwAjXAzqRTe4B+W56FEBcKIVYKIVY2t7Tm7DtXWoT0c5ZwL9jL\n",
       "EUkh6kJTKFgiPrBXsC1YztnbT+D1nsn8ZOIKbrbdS6df8Lkf/4mNu1oQQjB96jSVAiJLGoVCqxVk\n",
       "ek75xlloqocypw2P4R2ZVAlmSoa9mlE3MkKIGuBB4OuAHTCSThuAnt5GSnmPlHKplHJpVXXuUGWu\n",
       "cG/6OcNeCuFuZFKIutDQsGFz8++OKs7+6AS6dTv3zvwPZ5euoCFSwqk//RNrtzXi7Q0m+jSsrqxp\n",
       "FAqpVlDMVA8Jod1IhYfNMPRezaiK8YQQlcA/gR9LKd8VQpwIJM+PpwK78/WTK4Lkm32S8l9Aqv9i\n",
       "noqiVLx7O3TvAglSGtgDbUT0CK5tzyI1G9Liwj/705SuexDDVUPvzE9T9e6vEdGNCCOKtFiJamXc\n",
       "7L6Se+uncLC2g98572JiZw8NfgfH399JY3svT/zkcyyfNyURbu7Z/0w8mx6O/bU2AAtYbLQvu4jQ\n",
       "hEXKXwKp/pLJRySeU/XL/4vmq8eihzE0O7p7Cu3H/SLxmnTPP5uq169DdO3AgsRAIC0OOo6+EFDh\n",
       "6Yo3fo6zZRWWsA/D7iY4YQnRT1xDdVxoN2UxrImNUY+AZlNf/EO+nPoG5Ir8xMkVAZqyWPlkIM0n\n",
       "c3S+t95kHDBqMxkhRDnwD+CGpAjSM8CXhBAlQogFQBWwJmc/ejhnrtrwpEPpOuQipK0MrbceaStL\n",
       "OEh190QiFXPAYsWih0Bo6MIJmh2BAD2MFupEREOJvp0tq5F6FOUuF3ili4t7zuXe+imc4XiXh92/\n",
       "ps7SSUuPzqfv3kFDew9/uvt2lh90QOr9JxyILi2ABAQg0aUFw1mBXjYZ36wTkNYSLP5WpLUkxSFr\n",
       "bd+C1d+AkAZSaAhpYPU3YG3fknhdjJIajJIawKJyuGBJOgaOXf/FVf8GGGGkrQSMMO6mN6hueiPT\n",
       "q5z2O4n4vqJwj1LlhnvU4z2r+q7Jl2vXM0U5ea0lSqlrLTGdvnsRozmTuRQ4FLhdCHF77NgJwEOo\n",
       "SFMQ+IbME/4S0UBeB2Z40qEZc8A4WtYSnrCA0NTDASjd+DiG1Q6OSoKVc7B1foge6sTRvpHIhAOR\n",
       "drVvx3CVoVctZWvQw2W7j6EhUsJ1rsf4Ql0ruJYTBOyhKPtPfpk7TlrInJPOpTPt3tWv/QTdMxnd\n",
       "Wdl3MNiJZ/0D+BeehV42OWNFBFD7jqLOSrXvKENbiDmBa+Yhpx7Z91oFOxLOYc/6B9Cd5Yk+NIvA\n",
       "GvHCynthyTmqQf1qqJwOkw7su0+oO9Uhm7yvCPp+b3i6bzZTiGPXDEPvtYzaTEZKeYOU0i2lnJP0\n",
       "s11K+XMp5Swp5XwpZaY/qykIIzrgMrBx+uf07Yzl9FW+EhHLz2sJdvRdE+pBWOy84J3Glz86Hr9h\n",
       "5Y8z/s1XLC8gHBU0dwXw+sOUOKw8+r1PcMyUfi4lIHtOYM3fnnfchbTNW6Y2qQ/NIrBbLWArB1/S\n",
       "61aIQ7a7Ue0jSia9BK3p2N2nGXXH71CRFuuAy8DG6Z/TtzKW01dFfWQsP68RCxUDROzl3NZ1DN/f\n",
       "czRzHV4e3+9fLLZuxbC5aWpp4sRf/Juv3vFfpJQ5c/kWsncoG4W0zVumNtZHwsAARLrBPYA9R5B7\n",
       "X9FA+jHZaxn3u7Cl1YUW6snqJM1FuoM1VDUf944XCJdMAkNH1xw4gt346o4AadDt8/P9ngt401fL\n",
       "WY63uMr5FLZ2ibQ42DLxFE6/8k4avBHuOdmBo/4NpK2U9mN+ltEx7V14LtVv3wj+NoQEKQCLRvsh\n",
       "3wJybwnwLjyX6jdvQAZaEVIghURIjfYjv5V4br7ZJ6U4tRGAsNF12FmJPmrevQlrjx8sNjAiYBjw\n",
       "iUv7XqBCHL8LTlU+GEjN9XLIOan95HPsFmtrwFjccjAWx1RExv9MRrPndJLmIt3BGqldQMeyH6C7\n",
       "J6H11mO4J9Gx7AdEauazrbmLr79eybu9NVxX9SLXl/4Vh4wAFurDZZx29Z+p90b553m1HD3TjkAi\n",
       "JFgCHRkd04ariqirDiksICNIYSHqqiNaPTdvYbZo9VyiZdMQworQowhhJVo2jWj13L7nlu7UtliJ\n",
       "VMxJzKxs+38C68yPKQMT9qnfM4+GOcdleKVyOH6nLlHJo+xlKvWCvUw9To4u5XPsFqsI21gs7jYW\n",
       "x1Rkxv0GyYMOWSyffvG1ot7jlc0t3PL8ZtxOK7+a8S6LnA0JtS3A6T+9nxWb6nnqssM48qA5fQ2D\n",
       "7WhhH92LLkg4pgFEuAf3h88QdU9I6UcEO5C2Mmxd21SVRWd1Sl/Yymg5+Y9UvnEjItKTsW3nUT8B\n",
       "oGTbc4iov999pbUEbeEp1O5+QX3AHUm+nVC3MgALPqceb/hH/muGg2LdZ6TGP97HlAczM14R0Q3J\n",
       "3a9u4/p/bmTOhFLuPmcJh1q29HOo3nrJZ3nmvFqOXDgrtQN7BZq/PaNjWvM151Ai51brFqL4zabo\n",
       "dUe7lNCuEGfsSDlsi3WfsehwHotjKjKmkcmCNxDhR0++z2Mr93DqIZO57YuLqHLbEw7Vpo4ebn3s\n",
       "vxiGZL9qC8sPmJBZYVtSnTeZVeJ4Qok89KRVeRNODUeyqeGiWPcZiw7nsTimIjPuHb/JJDtY++yn\n",
       "kZLGwNGyFkfze9g6P0QKiHpm98vF8mFLL1c/vZ52X4grj53AaZUfYtn4NoarhkDdMvwrHuLzN79M\n",
       "fXsvpx02hXlVqhCaZ9NjGIF2BFYkUSwGdB5yEdYMjunu+WdTsfIOtEAzFj2EoTnQXRPp+Nh1WPxt\n",
       "MbXuR1hQemBpcSbUuvmcuqCc2uVr78XWtRVLqBfhLMdVNw/mXaIuKMQZm3D8toMeBs2udDDpit+h\n",
       "OjKLpfgtppJ4sM95H1Q37zUzmXjqAhH1g9BwNa7A0bQChIaI+inb+ASlm57A1roBZ8MKiPRgiQTQ\n",
       "fE1UrLkbe9N7ALy0sZnvPvIeuiG543NTOdP+TorTtmPnBk687R3q23t58oefZPaMaXQdchGBuZ8j\n",
       "UHcYWBxqDBYHgbrDCE0/JqNjGkALdapsbsIK0kALdWLxtyllrrsG0ECPAhqGu0+tm8+pC2qDpK3z\n",
       "QzCiaA43Lk2Htq199acHpLKVab+TGA5HZrEUv8XqdyjPeR9UN+81jt9kR6ejaRXoIQQCqdkJTVqC\n",
       "Y8/rCMDa0wDRgIqC6GGwWIm6qohYy7g5ehZ/WVXPwVM9XPO5BUxpfCnFedrc1smZ37qK+pYO7nvs\n",
       "7yxd3qemzeVo9c8+MX3YTHjm/KzO3UjF7JyO3ULuFXcO20prcDtiE1Z/u3reJ1xf2ItbiJNyHDoy\n",
       "h8w+9pxNx2+MZEenCHWD5kRqzr7KA3oEomGl6rXGHKIWGyLqp11U8611c/nLqnq+cOgUbj3jYCpL\n",
       "7P2cp5u376Ktq5dHb/p2ioFJv3+cXMrjXM7dfI7dQu6l+Rqxuav6DAz0V+LmYyw5h8cS++JzHgLj\n",
       "3idjCXkpXfcgNu8uotEQumc60lEOehCBwLCXYwl0oPXWo/W2oPmaEMYmsDowNBcfyJlc+uFc2g03\n",
       "18/ewqdmhrHs2Iol0IbNuwvZuR06d+KMejmprIrV93yX0vJytDduTEnRabhq0Lr3YA20qtIqjnKi\n",
       "rlr0sikZ8/Hq7olY/C3KnaKHkJoDiVoK6e46tN4GtRSK+sFaonw2Mcdu3KmbMpNJUzlrFVNwBxuh\n",
       "p68PbI5UJW4+4k7K5L/Y2ZzDua7Z29gXn/MQGP8zGWlglNQSdU/E1bQSzbuLSPkMrIFORLAD3e7B\n",
       "0fAWlpAfLdiBRMMS9SPCPv7unc2X274OUueBGS9yasn7VK24FVvbRlVvSI/Q895fOfqqZ3lkdTeE\n",
       "u5i85xlKPnoBEelBL52CiPRQseZuCHbjalqJCHmR9nJEyIuraSUEu6lYc3e/64OV87D21kOoC2mx\n",
       "QagLa289vTM/TaBuGfaOLRDqBM0FoU7sHVsI1C0D8ldhKHPacM8+Glo2q2oEmkv9btkM0/MroRMM\n",
       "RyWCvZF98TkPgfFvZIQGwoLumU5g0lKsvmaQOoG6ZYQmLcPavRPp8GDYHETKp4OzhJDVw/Xhs/lh\n",
       "+AIWa9t4bMpfONDdiaaHiDrLcbRvBGGhfc+HnPD7RnZ1BJheZQNHJbrFgogE+lVvLN3xLwKTliId\n",
       "HiyRbqTDQ2DSUkp3/CtjtUdn5yZ8sz4L9rLYxswy9dhZjkVG8c08AewetTnT7sE38wQsMgr0Vyon\n",
       "q5wTCaeMKMw9CRweCLSr33NPUscLpRAn5T7oyNwnn/MQGP/LpXA3jqZV6I5KtGAHmq+R0KTFicRV\n",
       "pevUTKe8dT2Gs5rWoOTy0MWsDE/l645X+R/3P9HLD03svJaxXdfNbZ2cddO/qe8K89fvHcXSIz9O\n",
       "BLB2bEGEfdg6P0REA0iri6izRonrbCUQgLgvXdpKMlaQlHYPWssH9M7/IqHpSb4daSSqW+pldURk\n",
       "OLH00svqUnwumSojlNTOUAYGlH/AMxmMkPpL6yhXjwfqNxiJSgTjkX3xOQ+SvWImo/YHPY/W24he\n",
       "OjklcVXcf2E4K/mg183pLV9nXXgit1Q/y49Kn8WiWVTiJqsrsevaK8s449vXsKczxFOXLuGI+X0l\n",
       "UiUGwgiBEVG7tY0I9s4NGJoDV8M7oIeQDg/oIVwN76A7PFmEcxNz7B63ZOwr/nZl2ttUs+pWauv/\n",
       "k9wb7HoT9JBy+Ooh9TjT/iMTkyIy/o0MEi3Yha7Z0AJtRCr2SykMH/dfPB45mq/t/ixWDB6p/D2f\n",
       "Ld2EtJciLQ4soU6izhp0zYE12I1tykGc/uljeOy6r/GxaRq65khUahRYVS5gIwxIMMIIPYLhrMIQ\n",
       "qIx6COV0FhCuOShjtcfu+Wfn9Ktk6itOSiUCi4bVXYPdXQWrH+y7SIiU1yjzcROT4jPul0sgsAQ7\n",
       "MByV6IDN+xGW1rUYtjJ0exnemZ/mV/WH8PSHXg73dHLbhH9RFfShBTowLDaMkhp0ewWWSDf1oTKa\n",
       "3CdwiB7kx8c40N0T6BVTcO95Ba1hBXpJNcHag4hWz8PZvBpLoB3DWYVvv6Oxt68nVHc4tu6dWMJd\n",
       "GPZywnWHg9Txz/6Mii711qO76+iadxbhSYdiZIo6lU0GDPSSOlz1r2MJdmE4KwhMOZp4jnXN16xm\n",
       "MIBVEzhtGlgqUsVg0oDa+bDnXZV6oaQSph6mjsfZx1IOmIwO497IGDY3obqlWHoasAbaMPQwhr0C\n",
       "EerE2+vnB4+8ywfNQc5aOpVvHPMxaJmBseZuws4DUxKLb647lS9+8wqifi+vP3wLtrol2FrWU7rj\n",
       "BcJVcwlOPQYR9uJo24hePp3e+WcmxiDCPejBDqTVQWjSkpTj0lqSMf2n1tOAs2WtSpFZtwQR8eFs\n",
       "WatC28FuXPX/RXdUorsnQ9SPq/6/+Oyq1nV8b5PVXaMMDECoC8om9d1AWKB1o0qfWTsXokH1OB5d\n",
       "Si6oVjpBhWA3P2s6ME2Gnb1iuRR11WLv3oXuqkFqDtADfNDr4UtbjmNrW4CrTp7PRcfORrOI1MJo\n",
       "sWjPnoCNs7/2DZoaG7jjqouxuStBWHB0bCTqLI9J99W1kfLpOJvf7bfM8c0+KefyJ52U4mrCkrLE\n",
       "s/bsQQqbShIlBGg2pLBh7dkDqEoE9kg3zkiXShLub4eAFxZ/NellSVZyi/7Hk/PuCov67SxXx01M\n",
       "hpFxP5MRRhS9bArByYcjQr3YWj/gL9553NC6nIlOg3sPb6Ju3scT12u+Rgy7JxYd8tPYKzjl5ldp\n",
       "aO/h0Vsu5fAFM7A1rcIS7sba+SG6swate6eS8VtLiLpqsQTasbdt6lfsXndPVBs0/a0Yrhp8k4/I\n",
       "mjzLEmhTWpwkpM2Nxd+KJdJDuGYh1kArRH1gLSFcsxBLzIFsW3ASdqtPJf1u36FSZh52IcxL3r4g\n",
       "oXQyfPSq0sg4K2HWsST8M/42NYNJxl6qQrLFYF9amu1Lz7UAxr2R0V3V+GefqFS99Sv5mfdknmyZ\n",
       "wpGedm6Z8ib2skNJ3lhv2Mqwta9HOquQVje3PP0ODe3dPPHjU1ly0Fwcje8gnVUY9gqksGLv2oxe\n",
       "MhFpdatIUst7YHFkXObkqjCQTi7Vru6uQ0R6iFT2JcASwQ50d53SwRhtoAfgiItTd/J66/s+zIEu\n",
       "2PEKuCrBM1Vds+MVcMb21oykanVfWprtS8+1QMa9kYnTGrTwv9uP4X1/NedPqefbU7ZiDUWIBLso\n",
       "2fZcIr+uYS/HYkTQ9RAIKzedMplvLgxzYEUD+rZnQGhEnJWARNpLEb0NiGAnVu8OpAAt1EWw5tCM\n",
       "JVhCsd/pReYy5fjNVcAt6p6UsSBd5OBzlA5mw2olqmvZ1KeBKZ2QWmLEuxssdrDa1WrJalePvbFa\n",
       "eVMWwzt3xfrwgcMNE+bB4RcP/5uzL9W63peea4HsBT4ZWFfv5WtvTWRrqJJb5m7msroPsFjtRCoP\n",
       "wN6+LiVVg7V3Fx+5DuH8P6yhu+lDSkNNLJw7G8M9ARENogXasfg7ESEvaFYi7ikIYVE6E6GhW8vB\n",
       "Zk+5v7S5sXVty5jL1970XsbjQFbVbqaCdJFl36HygOXqhu1blXFI1sC0bFLH4wR7YOKBKndvJJbD\n",
       "d+KB6jiolA8tm0FGwe5Sv1s296WCGE72pQ2F+9JzLZBxP5PxdnfzvcfeY7IjzO8ObWG/qnIMbzki\n",
       "1I2zfSO6szZl1tEQcvH5qx6godPPd44qp3JmLdJZqnY129zooU60qI/e/U/G6m8DIdAdsxJLF1vL\n",
       "e2g9TThifhvDrjZCWoJewqV1/WY4iSJrmYrPzT4x6/JKd08kNGkxlkAbDs9EPJOm9Z0MdKlNj4HO\n",
       "1M2Pga6+a8rr+huMUHffBskNT0PFlL5ibKAcyMlF2YaLfWlD4b70XAtk3M9kmgOCwycYPLCsgQM7\n",
       "X6Jk539UuFazYwl2oAU7ce58FefOl+la8yyn/PRRGtq7eeqywzh8sgbSwNrbiGErJeqeiBBWLP4W\n",
       "kAbSYkHTI+gOD0ipthFYnGjBdkTIi2Hr2wgpIUsu38asaRm0ngZKtj1H6boHKdn2XKK0bnICLkdF\n",
       "HR5rJDUpkrBAyxbo/Ah6WtTvli3qeJzpR0DrptQNkq2b+kLYhRRlGy72pQ2F+9JzLZBxP5Opdkhu\n",
       "PTKKRUxF767G2r0He8SHRCKFA4u/Casw2BOp5NSrH6WhM8DfvnMoyw+YhGhdhwWBtDqwta9DL5+J\n",
       "YS1BWF1Y/K1Ey6YTrpiLRYYTAjvDWUnIWYV0eGL7ijwEKuZg9TVndOQqJ27/42BRPhlHmVpGRXy4\n",
       "P3oB36wTEuFtZ2klHpcNiO1Hiq/rg96YQbEAOom3MZi0fcGIwgEnQvN6tUHSVQXTj+zbIFleB949\n",
       "EA2pJF5WF1gHmAqiUOIbCutXq+hVSY1KN7k3+ij2pedaIOPeyEy0+ijZ9TLSUY4W6sZiRAjWLgDN\n",
       "ib1pNVZ/N1HNjuELY7MK/nF+HcunCXTNQcSzP/bOjUSt1QjDAqFObMFuOpb9gOB+x6P1NFC28QkI\n",
       "eVXkNxpAC3bin3V8IhUmoDY26sHMReZmn6SiT2nHDYstaw1vS6BNzWBctr57JIeXQ72gWVVqzniO\n",
       "X82qjsfxt0HdwTD5kJRxJvqYfgS88gtwecBRoWY6AS8s/MIwv0Mx9qUNhfvScy2AcW9kQMY2EQax\n",
       "dm3DcFQqHwWA1UEzlVRFo8xydfPODxdikbFJgBFFC7cTddaAxaF8G3YPvknLEykVAES4G5t3B5ZQ\n",
       "L4ajFLAiIv6UEYiIj0jFbEITFmXUyWTSz7h2vpR5GeVvVT4YLURiBgOp63ohoLcdAm0QDavIkasG\n",
       "KpNKspTUQNcuZVSSI1Dlsc2eRlT9xW1eB/4Ote1g+lEDSwUxEEztyD7LuDcyIhrC3roeadFiYlZD\n",
       "+U40J43eMCfd8i7HLZrObV9eBLofXTfQgu2AhGgEbC7CEw4iNPFQDFdVSroF186XsQTbiFbMRmpO\n",
       "hB7E0r0HR/N7BFyVBZfFzaSfyaaTcXgm4pl9eO6M9r1t4GsEqxOcHrVZ09eojscpnwzrnlTGI14+\n",
       "tuMjOFIlvlIznYNgcpIiOXmmE2c4jEMh2pHRMEKm4RsRxr3jV6E2/UlnBbqtHKnZaWmu56Rb36Sh\n",
       "K8TnP3YQhs2FJRJGoBOumh+rEiBBs/cZGFLTWNpb30c6KlQKCCGQVhdG2WQkImP1gdJNT+BseAt7\n",
       "63qcDW+pfC8xZ246mbLblUi/MjD5kiJ17wabW5UowVC/bW51PE53A9TOg95W2LVC/a6dp45DYfV/\n",
       "Cs3K761XybVX3qd+p5/Pt4VhNEq37oPlYkeLcT+TkTYXkYr9VEY8I4y1t4Gd7kV8/sZ/0dgZ4Inr\n",
       "z2PJYUuRrR8QKZ+GtDoBSaRsEqHaRVh9jUjNpr7oabMSgcBIvx8g7KX9KhCUrvszjtZ1KvWDoSMt\n",
       "GtaeRnRXDb0HfqXfuOPZ7eLLKIdnImWzP9VnSHKt642o+mIYEdAjao+TxQaRQN817VuhpzF1g2RP\n",
       "o1paQWH1f+pXq71RyaI/98Q00V8Bs5R8WxgKEbAN96zDFM2NGOPeyBAN4Wx4WzlBLRphZzVf/t87\n",
       "aGzu4eHbf8rC48+it2wygZgTV4TasegRZDSAcJTgm3kCrsYVGdItQKj2IFyNK4gKAZpT+X2CXUTc\n",
       "dVSmJRJ31r+NCHWpHDU2pzI2oS6c9W9nNDLQt4wqc9rwlDlST+b6UlXNgs4d4KoAi1UZnUCXOh4n\n",
       "0AUWC9hi/ilbiTJCcS2NZwpMXqx0Md2NKqq04NTUL1j7VujcqdTATk/fTu5okk+qkC9rSQ107gZf\n",
       "c6qxKtQIFUOqP9J7t/Zhxr2RseghRDQACIhGsYl2rjn/ZOyeCRy2aB6WnS9huGqIuichhVofSinV\n",
       "vuRwN862DVn3IQVmHIcWaFM+nGAXWO3oVieO9g1EyiarxOBhLxVr7sbStRujxANazFhoDqQWwhLM\n",
       "rfRM5ORNJt+X6rBvwkvXK6MhrEqtqznU8TiuChXSjvhVeDoaAMNQx+P3aFgNkxbC9MPVPRpWq3QR\n",
       "yfufchkqKOzLWj4Z3ntIzbwQgFQzr2P/R53PJ2ArxqzDFM2NGOPeJyOFAM1Fvd/KEx/4MeweTqxt\n",
       "4LiyHQkpv9ZTT+XbN+NoWo21pwER8SOtLizBLkSoPWO6BVAzjd55ZxKcfATh2oUEJx8BCHSHB2ug\n",
       "A3v7eqyx5FeWqB+hh1XBOClBDyP0cEqZknQyGhhQX5743qRt/1G/jWifD2PeifDJq6FilvqyVsxS\n",
       "j5N3YVfvr/YiaQ5lIDWHely9f9898qV6cFUowxTxq+cU8acaKijMt9O8Ti3TNFss3G5Tj5vXqfP5\n",
       "BGzFkOqborkRY9zPZJDQ0OnnxP/3IY3eMEctOZDJ0R0YMQ2KtXM7JTtewNa5FXQd3T0Bi6uasNWO\n",
       "zbudaNnUlO5ENISjYUXKZsZk/4t78xNYIoFYTmC1M1sL9yCtVpWjxggjoj6kRT0OTl6ecdhZDQyk\n",
       "LVMq1CykZVOqz2XeiWmpHdKYshh6m5RhSfa5JH9x881AqvcHm0sdC3YpQzRhWl8YPH6ffL6dhjVq\n",
       "J7g9KWQf9qnjS87NL2ArxqzDFM2NGGPOyAghvgjcjJKy/lxK+cdc14ex8um7ttHQFeLJK45jgs2H\n",
       "8Pei+Ttw7nwFR+v7WMI9sdIpBpZoAOFvxWorURGnpCTflkCHSvXg8PRT4cb9NEKClNFYZAfQ7MhI\n",
       "D7qrllDNQrW0imlXdGc1gRnH9RtzTgMDhS1T8jEcX9x8hqqQ+yRIL4ec9jiXo7tYRepN0dyIMKaM\n",
       "jBCiDLgNWI4yMmuEEP+QUrZma/NhUw9Wi+DJ7x/LMdMkmr+FqHsSRkk11t4GrD0NRF3VWCxWQCKF\n",
       "BfQo1t4GwlXzEREVRpY2N7b2DVgkBKoX9C2fiG1mjBmZSOUcnA0r0MM9qtxt1IcWjRCcfCi9887M\n",
       "mOohmbwGBtL8KU7lcE1fphTCUL+4hRqQfF/WukWw+221LIv7hwJdMC3zLC/j8zBnHeOWMWVkgE8D\n",
       "r0op6wGEEP8BPgk8mq1BJGrw16tPYfm8CRhBL5GyaQgkQoIl2Iph0bCEe5AWG9JWChiIcC+GcBOa\n",
       "eEhs2aM0L5ZomMDkwxOaGehT4cYJTTwUw+LA0bERS7Adw1mJf8JiIrUL8iatKsjAgFqmWEtUNCbo\n",
       "VbON2unD+6UaLgNSCPsfD75WtUQLdCqfTNVsdXwg4zWNyrhESJk+jR09hBDfA2qklD+JPb4FaJRS\n",
       "/jrtuguBC2MPD7RrbC61C3elk8qwTjgUJQhQ7hQepxWXJtBCOkFNoMW78EekLxDF3xGQXWGdCECV\n",
       "S1RYBBZDSj1+L4sQmiExOgKyC8CuYatyiYqogW5IdItAs1rQkvvJQQ2Q11s5xHsMJwWNtxDsGrZS\n",
       "u3DbLFgjBtHesPQN83MZtrGOEONpvAdIKcvyX5aZsTaTiUlYExioZVMKUsp7gHsAhBArQ1G5dGSG\n",
       "NzSEECulHB9jhfE13vE0Vhhf4xVCrBxK+7EWwm4EkufEU4HdWa41MTEZB4w1I/MC8GkhxAQhxCTg\n",
       "yNgxExOTccqYWi5JKZuEED8B3oodukJK6cvVhtiyaZwwnsYK42u842msML7GO6SxjinHr4mJyd7H\n",
       "WFsumZiY7GWYRsbExAQAIYRLCDF3uPsdt0ZGCPFFIcRHQogPhRDnj/Z40hFCOIUQ9wghtgghdsY0\n",
       "QAghLhNC7BJCbBZC5Nh8NPIIIexCiA1CiD/EHo/lsXqEEI8KIeqFENtiYx+T4xVCfF8IsTX2ef12\n",
       "7NiYGasQolwI8TegGfifpOMZxyiEuEkIsUcI8YEQIn/9HCnluPsBylCh7SnAJKAJqB3tcaWNsRo4\n",
       "HbXvuCb2Bh4LbImNfwHQANhGe6xJY74WeBb4AzB7jI/1T8BPY6+vc6yOF5gJ7ADcsc+EF1g4lsYK\n",
       "lKKU9d8A/hA7lvH1BD4BvI4KGh0PrMnX/3idySS2H0gpm4D49oMxg5SyXUr5pFS0oYzix4DHpZQ9\n",
       "UsoNqA/fMFdSGxxCiPnAYcDjsUOnMXbHGpc3/Dz2+gYZu+ONq5oN1BezBziJMTRWKWWvlPIlIDmL\n",
       "fLbX8wvA/VLKqJTyRaA29n5kZbwamWnAzqTHe4AiFAwaHoQQB6L+2tYwBscthBDAb4HLkg6P5dd4\n",
       "IfAR8GRsKn8rY3S8Uu3DuxZ4G/g38GWUyHTMjTWNbK9n+vF68ox9vBqZgrYfjAWEEDXAg8DXGbvj\n",
       "vhh4RUr5YdKxsTpWgAmoKfx3gcXAUcApjMHxCiHKUYblMuBXwA8Y269tnGxjHPDYx5QYbwA0Ah9P\n",
       "ejwVeGd0hpIdIUQl8E/gx1LKd2POs7G4beKrQJkQ4kygCuU/+C1jc6wALcAqKeUeACHEi6gP+lgc\n",
       "7znA+1LKV4BXhBCnoXyIY3GsyWTb4pN+fDJqlpOV8TqTGfPbD2J/wf4B3CClfC52+BngS0KIEiHE\n",
       "AtQXes0oDTGBlPJIKeVBUspDgKuBv6KM45gba4y3gQVCiMlCCAfwKaCXsTneIHCIEMIWy5c0F7Vs\n",
       "GotjTSbbZ/UZ4FwhhCaEOB7YIqXsyNXRuJzJyMFtPxhpLgUOBW4XQtweO3YC8BCwHvXh+4aMufLH\n",
       "GlLKVUKIMTlWKaVPCPFd4EVUmc37pZS3xQzOWBvvQ6iIzHYgADwgpXxjLL22MeP3HiqS5BRCfBz4\n",
       "Jhk+q0KIv6KipNuBdtRSMHf/Y+N9MDEx2VsZr8slExOTcYJpZExMTIqKaWRMTEyKimlkTExMiopp\n",
       "ZExMTIqKaWRMTEyKimlkTIaMEGKHEGJq/itHHiHEefHUFSajg2lk9kGEEDKWh2ePEOItIcTJoz2m\n",
       "dIQQ9wshmoQQ24UQ64QQx4z2mEwGx7hU/JoMGV1KOQcgJhl/UAhRKqV8bJTHlc4PpJQPCSE+Afwe\n",
       "mDfaAzIZOOZMZh8nlivky8DNkEjBeFcsk9tWIcRFseMfF0L8O94uNtM4J6mrs2NZ9bYJIY6LXfOJ\n",
       "WPa0HUKIx4QQltjxqBDif2LXrhRCTMwzzNdQG/QQQriFEM/F2q4TQhyUNJ5bhRDvxGZAZ6Z3IoS4\n",
       "21w6jTymkTFBSrkZcAkhJgA/Qs1w5wLLgSuEEAcX0E21lHIBcAFwb+xYByoNw36oDHEfix3XgD1S\n",
       "ytnAplibXJyH2lQIKhPeT2Jt7wKuSLpuQex+5wA3JncghLgA2B+4pIDnYjKMmMslkzhWVBa3k4AL\n",
       "Yhv22oUQT6LSaryfp/29AFLKV2I7jquBXaiNdouA6fSlCJDAE7H/vwpkK9d6ixDit8Ba4NRY/71C\n",
       "iBlC5XU+DOhOuv5JKWVUCPEqMCPp+CLgCOAYKeVI1hI3wZzJmABCiMVAs5SyE2VsjLRLdFRqRi3p\n",
       "mC3tmuTUjU7UjuNnY22vAl5BzUIAjKQveySt32T+B5iPSjOwLDbWi4GLUD6aG5P6BAgBxPpO7rMX\n",
       "lSMnZ5pIk+JgGpl9HCHEIuB++rLUvwh8VyiqgM+jlio7gXlCCIcQwomaGSRzZqy/04FtUko/cCDw\n",
       "KOpLftRgxielbEYtp+4UQrhifb4spVyLyvVcCNuAbwFPxzIVmowg5nJp30QTQnyImnF8BHxfShn3\n",
       "eVwP3In6YgaAn8V8NgghHgTeROUY2ZLWZ7UQYgPgB86NHbsZWA1sRC15BoWUcqUQ4l/AdcB9wONC\n",
       "iK8B/xpAH88KIQ4B/iaE+KSUMjTY8ZgMDDOfjImJSVExl0smJiZFxTQyJiYmRcU0MiYmJkXFNDIm\n",
       "JiZFxTQyJiYmRcU0MiYmJkXFNDImJiZFxTQyJiYmRcU0MiYmJkXl/wN/goXcdHB8GgAAAABJRU5E\n",
       "rkJggg==\n",
       "\"/><img style=\"margin:0\" align=\"left\" src=\"data:image/png;base64,iVBORw0KGgoAAAANSUhEUgAAARkAAAEnCAYAAACdYDfKAAAAOXRFWHRTb2Z0d2FyZQBNYXRwbG90\n",
       "bGliIHZlcnNpb24zLjMuNCwgaHR0cHM6Ly9tYXRwbG90bGliLm9yZy8QVMy6AAAACXBIWXMAAAsT\n",
       "AAALEwEAmpwYAABiOklEQVR4nO2dd3ykVfX/32d6ZtI32c1WdlnYCmyFpSxNmiwKAlKkfEFUQIqg\n",
       "qChFEAUBUfiBFQsiSFWKICiIFAEpy8LC9iVbUya9TKaX+/vjmclOkqnJTDJJnvfrlZ3MfZ7nPmdK\n",
       "zt57z+eeI0opdHR0dPKFYaQN0NHRGdvoTkZHRyev6E5GR0cnr+hORkdHJ6/oTkZHRyev6E5GR0cn\n",
       "r+hOZowjIo+LyKokx84Wkauiv18lIldk0W+1iGwUkRoRuVBElIh8vd85M6PtxWn6miwi/xERl4g0\n",
       "isj1/Y5/XURqRcQtIn8WEVu/41eKyA4R8YvI09G2R0Xkgkxfj07+0J3MGEBEVojIp/1+LoweNgCh\n",
       "JJd+DdgR/f1i4L0sbns7cK9Syhl97gZuEZHyrIzXMAG3ApOAU4Hvi8gxACJyMnAjcDowG5gJ/DB2\n",
       "oYhcDnwDOA2oAH4cPXQlcKuIlAzCHp0cIroYb2wiIp8BzgSOAzYA9dFDDyil3hWRKcAaYDqwFPgn\n",
       "mqOwAc64rjYppb7Yr+9q4GNgb6WUN+rQrgDagI1Kqauj580EtgMlSqmeLGxfjebA/iwijwBblVI3\n",
       "RY8dATyulJocHdE0Aqcrpf6ToJ9fR+25N9N76+QefSQzdtkA/AloAP4R/X0iMCt6/CI0BxIE7gT+\n",
       "D7gB+JNSar+4ny/27xg4BnhTKeXt1/5N4GIRmZfIIBF5S0Q+l8xgEXGIyJnAhKjNAEVA/P+ELUCN\n",
       "iFQARwA9iRxMlH8AJya7n87woDuZMYCIPBZdk+j9AZ5TSr0D+IHV0d+7gYCITAC+Hb32LEAppZ7L\n",
       "4paL0EZBfVBKbQB+C9yd6CKl1GFKqeeTvQagJ3r9VUqptuihfwFfEZEDRKQSuCna7gDmA9tF5Nci\n",
       "0iMiW0XklLhu10Rt1RlBdCczBlBKnQ3MRfs8D1BKzVRKHRg9PBVoiv5uB3xoI5a3om1rgKviurtQ\n",
       "RNbF/Xw2wS0noE2NEnEzsExEThrEaygBzgH+ICKfjx76HfAY8AqwEVgfbe8BioHlwNtADXAH8IiI\n",
       "TI6e0xq1VWcE0Z3M2OE0tOnBjOiUAxEpQpsixdZYitCcjCI6IlBKbVVKrY3rp/906Z8J7uUDrImM\n",
       "UEp1AdcBPwfM2bwApVSPUupFtNHMRdG2sFLqO0qpaqXUJDRn06aU6kRzIuuVUg9Fr/09mkNd0e/1\n",
       "6owgupMZO1wF3IM2wvixiBiAo4D3ousuoI1kvEqpb6GNBAZLPdqCcTL+CLiAywbZfwRtEToRZ6At\n",
       "UgNsAsr7HTfEXTuNPQveOiOE7mTGAFF9SwBtynAE2kjlFOBq4PG4U4tI/scbo/906eIE57wZvU9C\n",
       "lFIRtLDyJRnaf4GIHB5d+F0Zve7R6LHp0fUYm4icAVwA3Ba99A0gJCJXi0iJiFyJFg7/X/T4EeyZ\n",
       "FuqMELqTGRsI2ggmpiX5M/AVNE3Jw6Jhjx5rSdNX/+nS/QnO+R9QKSLzk3WilHob+FsfI5NHl/xR\n",
       "m1uB+4HvKqVi0aVytGlgF3AtcGp0gRml6S/OAM5FmyZ9CfhcXLj8QuChNK9XJ8/oOpkxiIhMRFsk\n",
       "/SyanqUjeujv0QVWomHm3yiljoq77kJgP6XUtzO4x5fQ9CmJQtwjTnTh+Aql1Akjbct4xzTSBujk\n",
       "HqVUs4gsV0ptjzbZRURUDv9HUUo9KiIVIjJRKdWcq35zyGTgyyNthI4+ktHR0ckz+pqMjo5OXtGd\n",
       "jI6OTl7RnYyOjk5e0Z2Mjo5OXtGdjI6OTl7RnYyOjk5e0Z2Mjo5OXtGdjI6OTl7RnYyOjk5e0Z2M\n",
       "jo5OXtGdjI6OTl4ZNicjIkUiMme47qejo1MY5N3JiEipiDyDlu/ju3HtV4nILhHZLCInxrXfLiJ1\n",
       "IvKJiCzLt306Ojr5ZThSPUSA+4DngYMBRGQ2cDmwEC2N479FZC/gcGAlWrKlo4E/AIuHwUYdHZ08\n",
       "kfeRTDTB8yv0rWJ4KvCEUsoVzXK2A1iGlgz7T0qpkFLqZaBaRGrybaOOjk7+GKmkVdOBdXHP69CS\n",
       "DE0Hno1rr4+2x1c0JJp39mIAh8OxbN68hLXEdHQKkohSBMN98zgZ/F2gIiDGPY0qDGIgYi3rc66E\n",
       "A0jIi0RCKIMJZSpCGS1p72vqadT6NMT92UdCIEZCxVoVGaO3DWUwYQh6CIbCfNrQjpGwxx1QjsG+\n",
       "3pFyMha0aVSMCBBO0d6HaN7Z+wGWL1+uVq9enT9LdXRyiMsXpMXlH9BevO4hIvZqkLjJhYpg8LTQ\n",
       "s9/5vU1GVwOO7S8RtpagzA4k6Mbod+GedTzhkikp71310hWEi6eCIc6RRcIYe+ppPf4XANhrX0RC\n",
       "Hjo3vs7nf/h3TEYDVdaIayiveaScTCNa0bEY04DdCdqnoI1ydHRGD131UL8GPK1gr4KpS6FsalIH\n",
       "AxApqsLYXYfJ24Ih0E3EUkqoqJpwydQ+51mb16IiISztW/qcZ21eiyfqZIyuBqzNazF4W4kUVeGf\n",
       "uIhwyRTCjslIoAtlq+ztTwJdRMwl2GtfxOBtBQy01m3nCzc/Q0N7D0/ccBpX3PXEkJZVRkon8w/g\n",
       "bBGxi8gCoBL4KNp+gYgYReQ4YItSqn2EbNTRyZ6uetj8AoQ8UDxRe9z8Aj3NO5M6GICQo4Yi52rE\n",
       "30XEXIr4uyhyribk6Lskaer4FEvHFiQcIGIpR8IBLB1bMHV8CuwZ6UjIQ8RejYQ8OLa/hNHVgHv2\n",
       "Kky+TsTXDpEw4mvH5GpEmey954cMFs6++c/Ut7v567eP5tD5U3AH05bRSUnec/yKSAnwIVoJUhta\n",
       "SY6vAYdEH33AV5VSb0ULkt2DVjOoDThHKbUpVf/6dEmnoNjwnOZYrKW9TR5XB90hM57ZJya9zF77\n",
       "IkZXPSZvC+LvRlm1EYoyFREpquwdldh2vQGi+o5GfO0Y3a0IEcztm4lYSvDM+AzBmsXa8YALZbLj\n",
       "mX0iFueHOGpfwOhuJOyYTNhaTrikBmUp6e3vtf++jc1RypLjz8bavJbFx56109kTmTnYtyTv0yWl\n",
       "lAvYJ8GhV9lTpCt2bqwo2DfybZeOTl7wtGojmNjTQIjusAWDN3W5K4O3lXDpNMJlM/a0eVopqnsT\n",
       "z8xjtFFJ0I3J7SRidhA22cBog7APU+curO2b8FfORpmLIRygZOvTuIBgzWKU2YHBo90/ULOEQM2S\n",
       "3nsUr3sIZXbQ1NrB+2s38bljDuGolQdra0ElU/CUTKHJrVqH8pboJVF0dHKJvQoCPWAt1RyMN4gE\n",
       "3USKqlJeFimqQoLuPiMKS/smQvaq3jZlKSFYNh2D3w1GK+LvQllLMXqchGxlYJuACgVAmQiLYK97\n",
       "g66axSnvHymqormxntOvvpPm1k4OWbaQKruktTcb9L1LOjq5ZOpS8HVrUySPHwm4MPpd+CcuSnmZ\n",
       "f+IiTN112OrexLbjP9jq3sTUvZtgZV95RrByHhL2EKicg2/GkQQq52AMuFHWCRh7GpFAD0Z3MwZf\n",
       "N6bOndF+6hLe3+L8kM61L3LGpd/H6WzikZv/jyq7ZGRvNuhORkcnl5RNpWfm8XSHzBg8LSiTPaPw\n",
       "MoAorYi5iKCAiLEICXr6nKNMVnxTV6JM9t7+Q8VTMHidoEIoowVRYQxBF8pg0fpLsOxqcX6I77V7\n",
       "OPmWp6nvDPHU1Ss4xvYJRpczY3szRZ8u6ejkEJcvSItMgBSLvImwNq8lWDYNZdlTXtzYtQtLx2Z8\n",
       "RRUpNTGWprUUb3mKsNGHIRwgIgYMRjP+yUvxT1uJBFx9QtwAjtoXePzjNhra3Tz5w3M4cMEM/L52\n",
       "jP7OPn239SSPiGWK7mR0CoMk2pKC7TcBqXQw8STSsRi8rZoYL45w6TSCIW/vqCVSVIV7yiEY3U2U\n",
       "fvxAb4QIEdwzT8C++z8YPS0oswN/9WIiDm1dJX7hF0AphdHdyEWfO4zjD1nEtGpNUawsZRh76nvP\n",
       "2+x0ceOz6xgq+nRJZ+RJoi2hqz79tSPRbwKycTCJdCxgQIJ95SgSdBOq2AfP7BPp2e98PLNPxOhu\n",
       "ovyj3yJBF+HiqUjQhW33fzF378Az6zh8M47EX70ACftQSG8/sYXc5iYnZ5x0LGucggS6eh0MaMK8\n",
       "sEPbXvDKxmauevwjjAYZ8nujOxmdkad+DdhKNW2JGLRHW6nWXoj99iNTBwPatChsLdEiRmJAWUoI\n",
       "W7XokdHvQgIuUJGkC8aO2hcI2co1nYzBiLJVEjEXYeqpRxBC9kkYQgFEBSGi+vTT3OTk3FNXsXnD\n",
       "etqrlg8U5vk66Z51Ir/77zZufWEj82pK+PW5S4f8/ujTJZ2Rp5+2BABLMfQ0F2a/cWTjYICE0yJt\n",
       "vcWDe9bx2jQqbmrUfwHW6G7U9h/FX2+0oUx2lNGCIewjULkvRJS2+Guy455yCI0eA+eeugpnQwMP\n",
       "PPYUiw8+lE7nAZowr6eesGMy9bPP5KZ3zbyzbTefO2AyV35mH8zGoY9DdCejM/LEaUt6CfRo7YXY\n",
       "L0BXPd4d7+Ntb8Qetz8Iku8dgsR6mEx0NDES7T9CIGyvxF+zJ8dbvMq3taWFc089odfBLD/4UKCv\n",
       "MK++w8sNz6xjd4eLb3xmH05ZPAWRoU+VQJ8u6RQCUW0J/m4t3YG/W3s+dYhD9Xz121WPd/1zdLu6\n",
       "BuwPSrV3CDQ9TKJpUchRk/K6GIn2HyFmgmX7Jp1qlZSWMn+/A/o4mHjW7OzgskfW0OEJcOcXD+AL\n",
       "S6bmzMHAMOxdyjf63qUxwiiKLnnXPkO3q6vvaCQ6cgCQkCfhsdjepUQjHWvz2rTXxei//8g9exVh\n",
       "x6QBfTZ6DJjNZioqJyR8HUopnv6wgV+99ikzKu38+Av7MaW8aMB5syeWfKCUWj7Y90ufLukUBmVT\n",
       "8xNaznG/Ll8Qb3sjKsG6SixMnGjNJT6EHI7uCYrHsPOVtNfF6L//KEZ8n7FF3glV1Tz67D8HjEyC\n",
       "4Qj/75WtvPCJk0NnT+C6VfOwW/LjDnQnozN+STfK6Xe8p+oAWmQC9qIqzC0bsLZtxOBrJ2KrxD9h\n",
       "PsEqTUiXbs0l0Ugk2VqNwd9NxVu3ph21hBM4GGdDAz/5+S8GOJgOT4Cbnl3PuoZuzl0xgy8fNhND\n",
       "DqdH/dHXZHTGJ+k0NP2OezwufJ88h9HVQERMOLb/CwKdRGyVEOjEsf1fRMSUdM0ltj5icX44QOdS\n",
       "/tFviYhpwHWWlg0UNbzb99z376F07R+Srt3EO5hEazCfNvfw9YfXsLW5hxtPms9XVs7Kq4MB3cno\n",
       "jFfSaWjijnuCEbojNsLWEqzNaylqfA9/5RywViBhH1gr8FfOoajxPcIlU3DPOr7P3qL4bQCJdC4h\n",
       "WzlFje8NuE6CboIlU/qciwpi7tw6QGdjbV4LwHXfuiKpg3ltcwvfePRDlIL/d/Zijp7XL7yfJ/Tp\n",
       "ks74JJ2GJno8lq4B9qyRxLQqkQS5ciHxmkuMhDqXqJy//3X22n8MOFcQxN/T9/q4tZtb7ryHxvo6\n",
       "lh108B7TlOLBt3fw0Du7WDC5lFtOWUilI33i8Vyhj2R0xicxDU088RoaexWenq5eBwN71lZiWpV4\n",
       "4iX5qcjm2kTnKhQRa3GftubGem77878Jh8NMmTqtj4PxBsLc9Pf1PPTOLj67sIafn7loWB0M6CMZ\n",
       "neFiqKHkXIeipy7V1lxAG8EEejQNzdyVAPRUHYDvk+eQ/lUBphxCyFFDxft3o7p3IsqAkggiZjoO\n",
       "/Gba27pnr6L8o98SQhvBSKALk6+TznlnZXQuYiZYvo8W3jY7aG6s54tX/YT6VhervrqVfebM6w2R\n",
       "N7Z18J0Pq9nWY+Zb8zo5Yx8PAW9JTtM4ZII+ktHJP0PdqJiPjY5lU2HuKjDZtSmSya49j1YVaJYJ\n",
       "SddWwo5JBCr2BbEgIS+IhUDFvoQdk9LeNlCzhM7Fl6DMJRh76lHmEjoXX5IwJJ3w3AOvpnvRV1Am\n",
       "Oy27P+X0q39KfauLBx57utfBOLa/xIdNAS58p4YmL/xy77c4e6YHQzixwC/f6CMZnfwTv8gKex7r\n",
       "12Q2Ghnq9clIoKGJ34uUbG3F2ryWQPUC/FNX9LYlytmSjGQ6l2zO3eExcN51N9DY0skDjz3du8hr\n",
       "bV7Lk85q7lrnYLrNyz37fszMohCqeyf+mmWEo+dkYmeu0EcyOvnH06pNSeKxFGvtw3F9hmS62dHg\n",
       "bUWZ+xZUVGZHtG7R8LBzey2dHR19okihcISffhDmjk+KWTExwkNz32avYoUy2jAEukfETtBHMjrD\n",
       "wVA3KuZzo2OUbHZTD3WT41Dw+/1YrVYOPPgwXnv/E+wOzdl1eYLc/Nx61taVcP5sD5ceYMTeZIew\n",
       "D0GIWEqH1c54dCczWhnGjG9DZupS+OgR8LRBOABGC9gnwOJzMr8+xSLtoIm+h96uJtxShrGfcjYZ\n",
       "/omLtFKxMGBRGFLvws6W+L4a3Ua++M07ueiyqznrvAt7HUxtSw83PrOeNref64+exGnhf2Gsb8Pg\n",
       "69TEg7ZK/JMWY617E5OnFe/UwzC6GoZtAVifLo1GhjHjW25R/R4zJMUi7aCJvocej4suQ3nSXc+J\n",
       "SCW4S7cLOxvi+2r0mDjjiptpqNvNvlP3pHn479ZWrnz0Q4KRCPectZjj9y3tTUiuzA5CpTMgEsTa\n",
       "+C4CeKetRJltw7oArI9kRiP5WgjNF/VroGIG1Oy3p83fnZ29ud5AWb8Gj8FBd8QGotU0ymZRNNWi\n",
       "cG/mO7LvN1Ffzu4QX7zihzQ0d/Doz77NQTPMuJXi4Xd28cDbO5hXU8ItpyykqtiKtfatAQnJbXVv\n",
       "ogD/tD0jv+FcANadzGhkGDK+5ZQCtNfb1US3oRzitu0k2/WcDcky3w2mX4O3lR5DKV+8/Hoamtp4\n",
       "5J4bOGjRXPzdrdzy/EZe39LCcQsmcc1xc7CYDEnvTygwYH9SLl5rpuhOZjQyDAuhOaXA7HX5gril\n",
       "LC+Lt7lcFI4UVeEIeTjvC8exeP4+rFg8n6YuN99ZPZVPu1u45Ii9OXP5tD67rBPdH5OFSL++h3MB\n",
       "WF+TGY3kK+Nbvigge2NRpHS7pQdLrvptbnKyusmI0e/i0tOPYsWiuax1ernwjTLqPSZuPXU/zjpw\n",
       "+oA0DonuH7ZNQFkn5Py1ZoqeGW+0MpqiS1AQ9vYPU+cyChTPUPuNpWvwuN289so/KevaxHNbvdyx\n",
       "oZKaUgs/PnUxMybYs7o/MGib9Mx445V8ZZLrTybOIZNzhsveJCTSwaTaLZ2ORImnMlXxpurT9f4T\n",
       "/N8Nf6apw8uff3M3hsqZ3PFxmKfX13PgzApuOGk+5cEWrLWvJ3UYyV7XcKp849GnSzrJySRUPgrC\n",
       "6dmWLUlHssRTFueHgw5hx2pTn3LjwzR0eHnyus+xIvIB33v0LZ7+sJ4vLpvKbafuT3mwJWch8uFC\n",
       "H8noJCeTUHmBh9Nz7WCgX+Ip0BJPRdv9NUsHFcJ21L7AT/5Vq9WmvvkcqmfO5ewNs3EGgnz3hPl8\n",
       "dr8aILch8uFCH8noJCeTPUPDtK9oMOTDwYCWeEpZyvq0KUsZRnfjoPc1Gd2N/ODCz/KvO79MoOYA\n",
       "Lvh4IZ6ImT/OerXXwUBh7JvKFt3J6CQnXWKnTM8ZAfLlYCB14qlYCLnPsRTh4uYmJ5dfdB7OYCmW\n",
       "SA/vmBZz9cY5zLB5eWTeW+w30drn/Gz7LwR0J6OTnExCzwUUno6RTwcDiQusmXyduGevyiqEHYsi\n",
       "vfGff/OxYSHX187nvp0zOGFCK3+c8xZTI07cs1f1uSZfofd8MqJORkS+JSJbRWS7iFwebbtKRHaJ\n",
       "yGYROTFdHzp5JJM9Q/nYVzQE8u1gIHXiqXSJxGPEVxW4+8G/cX/bPF7smsmV03dwx+TXsFkdCZNZ\n",
       "Zdp/ITFiOhkRmQm8BiwEbMA24FDgaWAZMB34N7CXUiqYuJdxrJMZbdR9ABuehe5GKJ0MC06BacvS\n",
       "XxcjgzB5tg4mnZ4l1fGhaGHaaj/iS2edRWNzG7fdfisPdi7EG4LrT5rHobMLb9ozVJ3MSI5kYo4j\n",
       "ghblcgGrgCeUUi6l1AZgB5rD0RnN1H0Ab98HAReUT9Me375Pa8+EDMLkg3EwqULBqY4PZae10dVA\n",
       "0a7XcRRZuPpHP+MXTXMpwsevT5lakA4mF4yYk1FK1QM3A++gjVjOAaYBO+NOqwMGpHEXkYtFZLWI\n",
       "rG5pGZ5NXjpDYMOzYK/QcsgYjNqjvUJrz4Q0NZIGM0XqEwpOUL8o1fF01yajva0VY8MaKmqmserb\n",
       "9/CX1pksmqB44PBu5oU2ZWX/cFFiMw+5jxHTyYhIKZpjuQqYBXwbqIc+e7kiaLvS+6CUuh+4H7Tp\n",
       "Ut6N1Rka3Y3aCCYeWzl01mV2fYpd3INdg0m3Wzrd8Wx3WsfWYJbPm4YcfTXvNBs5Y3aIq/YPYxL7\n",
       "sO2IzoYSm5nqEmv6E9MwktOl84CPlVKvKaUeiLY5gfiJ9jRg97BbppNbSieDr7Nvm69Ta8+EJGFy\n",
       "r7li0Iu86ULBqY4PJkx97qmraPEoti++nNUtBr63JMg1i8KYDIUZgs6Vg4GRdTI+YLGImEWkBJiD\n",
       "Nm06W0TsIrIAqAQ+GkEbdXLBglPA06Gl34yEtUdPh9aeCQnC5N6eDppLFgzapHSh4FTHBxOmbjdP\n",
       "ZMqF9xAwOvj1skZOndpVsCHoXDoYGNnokgX4I3Ak4AUeVErdKiLXAV9Dc0JfVUq9laofPbo0Sshh\n",
       "dMlrrqC5ZMGQw7b5ji4ppfjCCUfR6NiXkpXnM7u6mB99YSFTpD0vu79zQSIHIyJDii7pqR50RhXD\n",
       "oYPJFYFQhOsfeZMPWhRHzKni2s/Oo8hsTH/hCJFsBDNUJ6NvkNQZNYwWB9Pc5OSfr7zGO2oOm1oU\n",
       "Xz50JucdPGNAgqlCItdTpHh0J6OTmlwlm9r0Iqx5CFxOKKmBpefDvDhBd5rplLv2XUKfPENVgvwt\n",
       "qXK7DGXKM5hrm5ucnHPRJQQPuhB7eQ8/PHkhh+87vIu62QoF8+lgQJ8u6aQiJoKzlfard5TltoFN\n",
       "L8JrP4GiMrCWg78TvF1w1Pc1RxMT69krtNC2r1NbGD70Spi2DHftu6i379PSK8QXqV98CYBWlD7B\n",
       "sbBjklYfyVrStz7SrOMBkh6LL22SzbXbHYs587pfEFl6FpUOCz89axl7VxcnfEvyRSq7EzmaTByM\n",
       "Pl3SyR+5yhWz5iHNwdgnaM9jj2se0pxMvFgv/viGZ3FVHUDok2eQJPlbgEHldgFS5mVJlbcl0bW7\n",
       "Wzo58/89hjrofGaXws/OPZQy+9CFbNmSTb6ZfI9gYui7sHWSk6tcMS6nNoKJx1qutYM2RbL1O24r\n",
       "J9BZT4vLnzJ/y2Bzu6TLy5LNte4gfOu9UtSCE1kxSfj1RYePiIOBzPPNDJeDAd3J6KQiV7liSmq0\n",
       "KVI8/k6tHRKK9fw97bgtmso3Vf6WweZ2yZUYb5cLvvKamV1Uc+nsTn5y3hGYjSP3Z5WJUHA4HQzo\n",
       "TkYnFbnKFbP0fG0NxtMG4agYz9ultcMAsZ6/u4Wgq603l0qq/C2Dze2SCzHevza0ctY/wrS4w/xy\n",
       "qZMvHXNgLt/9QZHudQ23gwF94VcnHcMcXQp01uO2TByQ/T9VBGm4o0tKKR5++T0eWOsm1F7HDxd1\n",
       "c+xJpxWMoC6Z3YN1MLoYT3cyY4bRoIMJhCLc8fzHvFrbhb/2Pe445xBWrlyZ/sIRZigjGD26pDMm\n",
       "GA0Opt0d4Ian1rKp2YP7vb9y79VnseKQse1gcoHuZIaDwezbKYCKixnbkck5Kd4Dly9Ie8N27Cmm\n",
       "LoMtpjbYqVR/tja5uPHZ9XR5g+zT+haXXHIch090YVj3UNb7j/JVuTIRI+1gQF/4zT+DyQpXKAXT\n",
       "clXcLcV7EHMwqTLNpSqmlopcFWF7bXMzVz76IeFwmHvPXswfrruQo6vaB50Zb7iKsxWCgwHdyeSf\n",
       "wWSFS5MJbtjIxI5MzknyHvg/eYYWlz9tprk+xdQMRk1wZyvvFeMlI9V1mWS3iyjFH9/azi3PbyTQ\n",
       "VIv/H7eyz8TiQWfGg/QZ+XJFoTgY0J1M/kkiNKO7Mfk1hVIwLVfF3RK8B35TKf52LR9ZOgFZKsFd\n",
       "KoZShM0TCHHTs+t5+J1dyPZ3aHn8Bn5www2IyJAKrA1HcbZCcjCgO5n8M5iscIVSMC1Xxd36vQf+\n",
       "YBivq42wQ3sP0gnIUgnuUjFYoV5Dp5crH/2I/21rQz56iubn7+aBR55k+cGHZmRvKvJdnK3QHAzo\n",
       "Tib/DCYrXKEUTMtVcbe498AfCOLtbukVzEF6AVkqwV0qBiPU+19oXy77yxpae/xM3fYPmv/7OA88\n",
       "9lSvg8nE3lTkszhbIToY0HUyw4MeXYK6D/B/8gz+9t0Jo0PpIi75ji6FbVU83roX977dwvQKOz/+\n",
       "wn5YQz3s3rmdJcsPGtDvUCJE+Ygu5dPB6GK80eBkdApaBxMMR/jFfz7luY8bWTrVQemGZ/j+jTdh\n",
       "No/MJsdsyXs+GF2MV0AUyugjl+TgNbl8Qbq2vkPFIEYiQyXdqKHTE+Dm5zbwcV0Xpyys5LlbLqSp\n",
       "oZ6zzv4ScxcsHHS/w0WhTpHi0ddkckWhaFtySQ5eU8zBDEbnMlTSaVJqW3r4+l/WsMnp4orDJvP8\n",
       "LRfQ1FDPA489ldbBDJfWJRWjwcGA7mRyR6FoW3LJEF9TbIo0WJ3LUEmlSXlja4smsIsobjpuOr/+\n",
       "1tk4GxoGLPJm2+9wMVocDOhOJncUirYllwzhNcWvwQxW5zJUEmlSwiYHf/wkwM1/38CsKge/Pncp\n",
       "Dn8b7p6ejBxMsn5zrXVJxWhyMKCvyeSOmF4klqISRkbbkksG+Zr6L/LG9CqxFJmQmc5lqMQ0KbFU\n",
       "lN4Q3PKegVed5Ry/YBJfP2waZcVWJixZxqvvfYzVZhtUvzB8VSBHm4MBfSSTOwpF25JLBvGaEkWR\n",
       "BqtzGSrxmpRGt+Li14y87rRw2cFVfHlJGV/87BE8cP+vADJ2MP37Hc4qkKPRwYDuZHJH2VQti7/J\n",
       "Dj3N2mO2Wf0LjSxfU7IwdaBmCZ2LL0GZSzD21KPMJXQuviTv0aVwyRTcs47nw85iLnrVTKPHyO0n\n",
       "TuWIfSZw3mkn4WxoYP8DFg+6X2WyY/C0oEz2pNUAcsVodTCgT5fSk00It2xqdk5lKOHhTK5Nl43u\n",
       "g4dh9R/A3QqOKlj+FVh2Xt8+XE6oe3+PkLB0SkIxnnfH+3jbG7EnCeeGHZPw1yztDfmGHZP6HM9X\n",
       "ydhntwv3vl1ETZmNH39hP2zBbs49dRXOhgYe+tUdHB1+FeNLj2QdVg+XTBmQ/T/GYIWDyRjNDgb0\n",
       "kUxq8hmWHkrfmVwbq3UUdGlOIejSnm96UTv+wcPw+m0QckPxJO3x9du09hiZpKnoqse7/jm6XV1J\n",
       "w7npQr5DOZ7smOqq595XtvLzl7ewZEY5vzpnKZPsht4RzEO/uoPjDf/LeVh9sGkpkjHaHQzoTiY1\n",
       "+QxLD6XvTK6Nr3VkjKZXKCrT2kEbwViLoagCTEbt0VqstcfIIE2Fd8f7dEeKUoZz04V8h3I80bF2\n",
       "KeXaZzbzzEcNnLl8Greduj/FNhNWm42LLr2CBx57iqPL6vISVs9luH4sOBjQnUxq8hmWHkrfmVyb\n",
       "rtaRuxXMpX2Pm0u19hhp0lS4fEFc7Y1pw7lDqXGU7nj/Y9u6hS+/VcHaNgPf++xcLj1yNm0tTax+\n",
       "520Azj7/yyw/+NC8hdVz1e9YcTCgO5nU5DPlwlD6zuTadLWOHFUQ7O57PNittcdIkaYitsibSeqC\n",
       "odQ4Snc8/tgbDQa++poZXwh+fbif4xfW0Nzk5LzTTuKyi87D6/H0Xj/Y9BHpyEW/Y8nBgO5kUpPP\n",
       "sPRQ+s7k2nS1jpZ/Bfw94O2AUFh79Pdo7TGSpKlwzz6pN4qUSTh3KDWO0h33T1yEwefiwfUhrn3H\n",
       "xF6OEA8dVMe+8/bvdTCN9fX86o8PU2S399qUr7D6UPsdaw4G9F3Y6cnnpsfREF3ql6bCPfskmkr7\n",
       "7uvJZLPgUKJHqY77gmHuev4j/rOthxMmu/n+ckEmL6LRY+h1MMmUvLmOAg2130J1MHqqBz3Vw7BR\n",
       "aOkaWlx+bnx2HVubevjq4bM4+8DpiAgAd932Qx68/9cZbxUYaQrVwYDuZHQnM0wUmoNZ39DFD55d\n",
       "jz8U4fpV8zlk9oQ+x8PhMNs+3cq+c+eNkIWZU8gOBoYpn4yITFJKNfVrW6aUSlHXI6N+y4DfAocD\n",
       "PmA+8HXgGsALXK2UenEo9xhWkk1hsm2HwWXTy9SeGBneI52DsW17mdKNj2J0NxF2TKJ7/pfw7X1c\n",
       "1uekIn4K8pR7EbfumEN1qY2fnbmI2ZYurLUv0lJXyzX3PMktd9zNxDlL2XfuvCHlfRmqzZlQ6A4m\n",
       "F2S68PuWiOwfeyIipwPP5eD+9wHrgGnAQmA6cHn091OBP4jI6EhPlkwgV/dBdu1d9YOr1ZSpPTHB\n",
       "Xob3yMTBVL53FwRdhIunQNBF5Xt3Ydv2clbnpCImcAsHerij9TBu3jaHZUVOfn+smdmWLhzbX6LZ\n",
       "2cCp376Pt9asp2PNsymFepnkfRmqzZkwHhwMZO5kLgKeEpHPi8h1wI+Ao4dyYxGpAQ4FblMaPjTH\n",
       "8oRSyqWU2gDsALL873uESCaQ2/Bsdu31awZXqylTe2KCvQzukckUqXTjo4RspWCL9mObQMhWSunG\n",
       "R7M6JxWO2hdoN1Vx5baD+UvjFM6Z3Mgv5n7E5LoXsTavpcEV5rSr76SxuZ1H7rmRpUsOSCrUyzTv\n",
       "y1BtTsd4cTCQoZNRSr0BHAl8DzgIOEgptXmI914IbAf+JiKbReQutJHMzrhz6oABAgMRuVhEVovI\n",
       "6paWliGakSOSCeS6G7Nr97QOrlZTpvbEBHsZCO0yWYMxupvA0q8fS7nWnsU5qdjV1sN5m1fyflcp\n",
       "P9hnG9/ZexdGaylGdyMtdbVxDuYGViyen1SoB5nnfRmqzakYTw4GUjgZEQmKSCD2gzaqWAGcBHRE\n",
       "24bCRGABcCWwFDgMOBmIxJ0TAcL9L1RK3a+UWq6UWl5dXT1EM3JEMoFc6eTs2u1Vg6vVlKk9McFe\n",
       "BkK7TAg7JkGgXz+Bzj4bIDM5Jxnvbm/j3G3H0hMy8Lv9NnLqJO0/lZjAzVBczYRSR6+DgcRCvRiZ\n",
       "5n0Zis2pGG8OBlI4GaWUWSll6fdjirablVKWId67GfhAKVWnlHIDLwN/AuLFHtOA3UO8z/CQTCC3\n",
       "4JTs2qcuHVytpkztiQn2MhDaZUL3/C9h8nWDL9qPrw2Tr5vu+V/K6pz+KKV4/P3dXPfUOiaXWnh8\n",
       "1j9ZYtnVK3DraHbSPv1YiucczvM/v5KDF0xLKNQbbN6XwdicjvHoYCCLELaIHAzsBRhjbUqpRwZ9\n",
       "YxEHsBY4AmgDXgX+BnwFWA7MBP4KLFQpjCyoEPYojy4lEtplQq6jS4FQhLte2sy/NzZz5JxqvvvZ\n",
       "uZS1fdwbXar3l/D5H/2dBUtXcM9v/jjoNBC5eF2ZMpodzLDoZETkEbQ//PeAYLRZKaUuGuyNo/2e\n",
       "CNwFWIE/KaV+HF1Y/hpaSPurSqm3UvVRUE5mFFMoOpjWHj8/eHY9m5wuvnzYTM5bMaNXYAfQ3OTs\n",
       "zQejC+2Gh+FyMnXAPtEIUEGhO5mhUygOZmNjNz94dj3uQIjrTpzPyn37rp3oDmZkGK7ibq8BU4Bt\n",
       "g72RTmFSKA7m5Q1N3PXSZiY4rPziS0vYu7pvZEwpxWVfPld3MKOQTJ3MNGCtiKwBer+RSqnj82JV\n",
       "rhnpyo4FuiaTiYPJZE0jkw2Byc4JRxS//+82Hl9dx9KqMLfvv5vS7nb8tr73MfU08pPLTyPQvZID\n",
       "q7vwuxoyWndJdSxfGySNrgbKO9dRFunKz/dtpL/PWZLpdOnIRO1KqddzblGWpJ0uxZSvtlJNJxLo\n",
       "0aIsw5XkO9n9pyyFhjWJ7XI5NfWtvULTrvg6tUjQoVdm7mjSvO5MHYxj+0uaoM3sQIJujH5Xn6TZ\n",
       "MTVuyFaOspQhgS5Mvs4+icKTnVO34GJuWm3m3e3tnDGtm6sPCGC09r1Po8fAK8/8hUsOmZDQDiCp\n",
       "jamOGd1Nae0eDEZXA5X1r1BSVpmf79sIfJ+HZbqklHpdRExANSDpzi8o4pWvsOexfs3wOJlk99/w\n",
       "LNQsTGxX3ft71Liw53HDs5k7mRSv22WdmNEUqY9iFjTFbLQ9lkS7T7pJ0NJNRttjf6yJzqn12bnq\n",
       "uSZ2BxxcuyjAadMDA+7TueE1zv3mXTjrd3HiQ7cxZfpAO4CkNqY6ZnWuSWv3YCjvXKc5mHx930b6\n",
       "+zwIMlL8isi30MLM29AiTLuAlFGfgmGkKztmqwTOs+LX29WU8RpMJorZTNJN9j/nfx1lnLfpMLqC\n",
       "Ru464wBOr3EOuI+zK8AXL/sBzoYGHrv9cqZMm5HQjmxSc8Yfy0f6zRKbWZsi5fP7NtLf50GQ6d6l\n",
       "bwB7A88DS4CVwL/yZVROyWcKzaHcfwQUv56eLrqkLMkFA8lEMZtJusneCpIK/tJQwxUb5jLZ4uHh\n",
       "/T9m0bTyAfdpau3gi5f9gIbWTh547CkOPOjgjNJvZnMs1+k3exd58/19G+nv8yDI1MkElFJtwHpg\n",
       "sVLqHeCz+TMrh4x0ZcdslcB5Uvx6XB14utqzqnKYiWI2k3ST7tmriHi6+eHmqdy1fS+OKm/i4b3+\n",
       "RdnCYxLe570P1uBs7eTBP/2R5Qcfmjb95mCO5TL9Zp8oUr6/byP9fR4EmS78XgW8jzZl+g/QDmxT\n",
       "SmXxrc8PGelkRno1foSjS96uJrqkLCu1a4xcRJfa3QFu/ut7rGsNc+nE9XxtVgfeffqeY3Q1YHZ+\n",
       "iMnfTqSoikbTdMr22i8jO0YyupQwTJ3v79swf5+HPTOeiExAk/xvUUq5BnvjXKGL8VIz0jqYLU0u\n",
       "bnxmPd2+INd+dh5HzU28obW5yclXvnQ61/7gR6w86jPDbOXgGC86mKE6mbTTJRE5SEROj+Z/ITpt\n",
       "mgAMKSueTv4ZaQfzn03NfOOxjxCB+760JKWDOffUVezYVosti8L3I8l4cTC5IGUIW0R+BJwGrAZu\n",
       "F5HzgMvQUjSck3/zCoBshqbZDmOHMl1KU4nA5QvifufPTF7/IEZPG2H7BLoWXoBn4Vm95+RKjNa/\n",
       "H9feJ/Lb2gr+8u4u9p9ays0nL2Sy83VK3x+42TDTrQL5mC5l+7pi70+JzUx1pBU2jB5B3EiScrok\n",
       "ItuB/ZRSbhGZDnwM/BL4gVIqkvTCYSSv06VshE/ZiqRSnZ9OjBerc11UplWF9HdqNZWO+j7MO7HX\n",
       "wVS+/1PCZgdYSiHQjTHopv3A7+BZeFZGIrpM6N+P2+vmxtr5vOqaxqr9a7jqmH0p2fkKle/dpWWa\n",
       "s5RDoBOTr5vauZdw8uU/zsjBDEZwl+pYOkeT7P0JHnQFFTXTR1bgOczkW4wXjOZ6QSm1W0S6KCAH\n",
       "k3eyET5lK5JKdX46MV58nev442sewjXzWFpcfiavf1BzMLYK7ZitgjBQtv5BPAvPykhElwnx/ez2\n",
       "WvnmlsXs8Ni4dmYtxx93BCLSN5UlaKksgel1z7HyqGM46eRTU+5FSiUKhMGJ8TxpnEyi98dgNFCx\n",
       "8wUIHzjqBHEjSTonM1VEXop7XgX8M7b1ftTsXRosnlYtCXc8lmLoaR7auenO727UknvHYyuHzjrt\n",
       "d5dz4JfZWk6wc3fvGozR00bY0b//UoxuzR6ju5Fwcd8+lKUMY099YnuTEOvnvc5Svrt5HwB+tWAD\n",
       "hxg30ioXRc9p0pJxR3F2egkEzMyyNXPTbQ+kvYfB20rE3nc9R5kdGDxalrzBHsvkdcWwmAzYiyZo\n",
       "n0G2n/U4J52TGVrNztFOTPgU+58Kkgufsjk33fkxMV5shAJ9xXixOtdxx4OeDvy2PV/8sH0CBLr3\n",
       "jGQAAt1aO3ECuej/1DA4MVrIPpkn6sr46e557FXk5Z75W5ghjYTN8WK8aCpL2wScnV5W/eTfmCXC\n",
       "2z/KTGoVE9XFRiTQVxQ42GOpiH9/LCYDDqtJ0yuVTs7+sx7npIwuKaVeT/UzXEaOGNkIn7IVSaU6\n",
       "P50Yr1+d66CrlbC7o09qyK6FF2AMusHXEU0f2YEx6KZr4QVAbmpBB8MRbm47mtt3L2RlWTMP7vcJ\n",
       "M6RxQD+xVJZOZz2rbnuZhnY3/++MmbgXZhY7yIcYLx2x98ca7MRhlr6fwSgUxI0kegXJdBR4dCnY\n",
       "3YDfNjFhakj7+scpy1N0qdMT4Ka/b+CT+i7OX2jh6uL/YPYk76frvcc566vfpKHdzd+uOYL9T/lG\n",
       "VqksRyK6VNG+TluDSfQZjLTAcxjRy9SOYzHeSOlgapt7uOHZdXR4gnzn+LkcM39i2muuvvQiXvnn\n",
       "C/zxsb9x4MGHDYOVQ0PXwexhWJ2MiJQAc4CtSqnuwd40l4xXJzNSDuaNLS3c/uImim0mfnTKfsyt\n",
       "KUl/EdDV2cGObbUsWjro7+qwoTuYvuRV8SsiJ4nIRyLyBxE5CK2k7M+BdSIyvheFR5CRcDARpfjT\n",
       "2zu4+bkN7F3t4DfnLUvrYJqbnNx07bfw+3yUlVfoDmacki669DPgq2hpHp4DjlZKbRCRGcAL0R+d\n",
       "YWQkHIw3EOb2f27iv1tbOWHhJL557BwsptQ7UuKVvGeddyEL9j9gmKwdPLqDyQ/pnIxJKfUm8KaI\n",
       "/Chanxql1C4RKaxPoxAW4rK1IdXiboK+4jPaZbKgme6cTPpo+/QDrnu5iVqPnWv22s4XFpUQzMLB\n",
       "PPDYUyzY/4C090q3CJ3qeC4WfhM6mCw/n7G68DtU0m2QLBeR66K1kIpiv4vI9UB5/s3LkJhEP+TR\n",
       "RFIhj/a8Kzth2bDaUPeBtnUg4NKEdwGX9rzug4R9edc/R3vDdmCPzF5CHiL2aiTkwbH9JYyuht7u\n",
       "052TSR8b1r7Pxc+34vRb+MX8DZxftZmKtfdjcX6Y9G1ItBcp3b1iEn4JuggXT0WCLso/+m3vfVId\n",
       "T9V3Jq8RUjiYLD6fYf++jSLSOZn7AHP055dxv5uAX+TXtCyIl+iLQXu0lWrthWrDhmf3bB0wGLVH\n",
       "e4XW3q8vj9jpjhT1SuX7yOzFoMnlrSW9xzM5J93x5z9u4OpXeigzhXho0QYOqezRth7YynHUJp8l\n",
       "d7S1EQgE+uxFSnevPhJ+g3HAfVIdT9V3Ju9T0ilSFp/PiHzfRhEpp0tKqR8OlyFDohBk3tnakGrr\n",
       "QFxfnkCIbm8Q4uTw6WT2mZyT7Hikp4X/98pWnv2ogZXFTdw2fxclcVXPk2096Olx4XAUM3fBQl5+\n",
       "ew0Wy56L0tmSbotDquND2XKQcg0mw8+nF31bQVIyySdzqIi8JiIuEekQkedFZPEw2JY5hZD3NFsb\n",
       "UuXxjfbV62DoK4fPJPduunMSHe92e7jyw6k8+1EDZy2fxj0LaymNtPftI8HWg+YmJ6cefyS/uucu\n",
       "gD4OJhNb0uXbTXV8sDl+0y7yZvD59EHfVpCUdCHsg4E/ArcBk4AZ0eePF5SjKQSZd7Y2pNo6MHUp\n",
       "3p4OXF3tCeXwmcjl053T//i2Vg9f/m8pn3SY+N6J87jkyNn49km/9SB+DWbFIYlFdulsSbfFIdXx\n",
       "wWwrME9fnj6KlObzGfHv2ygiXT6Zl4CblFL/69d+JHCtUmrEtTK9YrxCWO3PUXTJ5QvS3rB9yJGh\n",
       "TKNL/93p5qZPqiiymLjlCwcwf/KejX+pojrZ1KYulOiSefpyJkydlepTTPv5AIXxfRsm8qr4FZHd\n",
       "Sqnp2R4bTsaa4nc4dTBKKf7y7i7++NYO5taUcMvJCzPWiQQCAU4+5jDqd+/Wa1OPcfKdtMqb4phn\n",
       "sDfVScxwOhhfMMxP/7WZVze3cOz8iVxz3BysZmPG11ssFi67+jtMmTpNdzA6KUnnZPYSkS0J2gUY\n",
       "8VHMWGI4HUxzt48bnl1PbXMPFx8+i7MOnE4sEVnaa5ucbN20kcOOPJqTTz8zz5bmBt3BjCzpnMyc\n",
       "YbFiuMhkHp2PuXYGSb+Hy8Gsq+/ipr+vJxCKcPtnp3CkbT2G9a9nVFOp3l/CeT/6O+3dPby2eh3F\n",
       "xSUDzkmW6mEoKRcAbNtepnTjwETk6UjpYEZqXWUcredA+qRVO1P9DJeROSETlWY+lJyxpN9Bl/ZF\n",
       "Crq055teBIbXwbz4SSPfemItdouJX50yjWPCb6VUw8YrbesDZZxy48M4Gxv4/c9v6eNgUql1ITN1\n",
       "cSps216m8r27IOjS0ngGXVS+dxe2bS+nvC6tgxkJ1e44VAunC2FvFZEtCX62JplGFS6ZqDTzoeSM\n",
       "T/ptjCpHi8q0pN/D5GDCEcUvX/2Un760hUXTy/nVuUuYG9yYVg0bU9o2esyccuNfaGh38+T1n+fo\n",
       "sroB5yRT60JmCuVU9ElEbjBqichtpZRufDTpNWmnSCOl2h2HauF006U3gCOAl4AHgPQZmAuVTFSa\n",
       "+VByZpD0O590e4P86B8b+WBnB6ctncrXj5yN0SAZqYZjStuHn32bhrZunrz5HA6eN7WP4jeThOSZ\n",
       "3CsV/RORA2Apx9iTeCSU0RrMSKl2x6FaON106SvAcmArmgjvVmBarqZLImIRkQ0i8vvo86tEZJeI\n",
       "bBaRE9NdnxWZqDTzoeSMJf2Oo3/S73yxs83N5Y98yNrdnXzn+DlccfQ+GA3aAm8mquGY0vaaM1fy\n",
       "6t1f4+AFMwYoftOpdTO9Vyp6E5HHE+jU2vuR8SLvSKl2x6FaOO22AqVUl1LqHqXUAWijmatE5D0R\n",
       "uSwH978O2AEgIrOBy4GFwKnAH0TEnIN7aGSi0syHkjODpN/54J1tbVz+yId4AiF+fuYiTty/71aA\n",
       "dCrc5iYnp9z5b3bt3I3B38E+k8sTKn4zSUg+lITesCcROb6o+tbXhsnXPeA9zCqKNFKq3XGoFk7r\n",
       "ZPrREf0pBbKrndEPEZkPHAg8EW06FXhCKeWK5q3ZASxLcnn2lE3VKvyZ7NrQ1GQfWPEvk3OyZd6J\n",
       "WmVHcwnBzt34DXbaD/p2Vkm0s0EpxaPv7eL6p9cxtbyIX5+7lP2mlg04L1wyBfes41EmOwZPC8pk\n",
       "762sGFPyfrB2I7UTT0CZSzD21KPMJQMqTAZqltC5+JKU56S6Vyb49j6O9oO+DeYSbYpkLhnwHmYd\n",
       "ps7HZ13I9x1B0ub4FRE7Wt3rSwA38Bvgb0qp4KBvqokyXgK+DqyM/riBdUqp30XPeQJ4VCn1dILr\n",
       "LwYuBpgxY8aynTsLP9A1HIu8/mCYu17awiubmjl6bjXfOWEutiwEdpDdVoFCQdfB5Je8Kn5F5JfA\n",
       "CcA/gQtimfFywKXAa0qpT0VkZbTNAsSXv40A4UQXK6XuB+4HbVtBjmzKG8PhYFpcfn7w7Ho2N7n4\n",
       "ysqZnHPQjIwFdr19NDXpDkYn56SLLn0d7Q/9EuDiuC+tAEopZUl2YRrOB0pE5AygEnAA9wLxY8Zp\n",
       "wO5B9r+HodZCKp0C3Q2Drrvksk6kvWE79gRCtFQCtXQCt+IPfkvZhgcx+Lr40Lgfl7u/hlvZ+NEp\n",
       "CzlsH20RMdv0m46i2UyZOp2f/PwXvQ5mqCK6GEPZAJkM3cGMDka87pKIXIg2Xfo18BBaNGsm8Fdg\n",
       "oUpjYMoNkjHhk61UCxMGerRFtmRz4P7nd+yG3e/AjBVQPiP19Qnu5e3poK1kIbaYTsTsQIJujH4X\n",
       "vomLEra7Zx2P0d1E+Ue/1fQnljIk0IXJ19m71lH8wW+p/OAewuYingkeyo2uLzBJOrlzmYtJR34Z\n",
       "2COAS9R/zMHFjjd3Bym2RCiRAD0zjyNSOjWjPjIlJthL9nrSHU+E7mCGj3yXRPnNYI4NBqXUB8DD\n",
       "wHrgb8DX0jmYtGQrfOp/vrtJS7nY05z++iQpMx21LyQUoiVrtzavTStwK9vwIAGTnTt8X+Ra1xks\n",
       "sezmybJ7WLrrd73mZJp+09kd4rTLb+brt/yesLUEW8vHGfeRKUNJr5kI3cGMLtJFly4WkYCIBON+\n",
       "AiISBL6WCwOUUn9SSn01+vttSqlZSqn5Sqm3hty5p1UbVcRjKdbaMznf362lXPTH1bFLdn3ctbGM\n",
       "dsrswOhuRJkdfU5N1W7wtmrHLH0jQspShtHdCECPN8Al7kv5o+cwzrO/yx8qHqLCAgbfHr2Kwdua\n",
       "tP/YcWdXgC9efhMNTW18/bxT+hzPpI9MSfd60h2PR3cwo490TuYBpZRFKWWO+7EopczAn4bBvqGR\n",
       "rfCp//nWUi3lonVPEqek1ydJmRl2TE4oREvWHimqSilw293u4Yuea/lfYDa3lP6dG0tfwCwRCHmI\n",
       "2Pb8oaYTwDW6jZwRdTCP3HMDKxbPzzqFZ6YMJb1mPLqDGZ1kovjN+ljBkK3wqf/5jklaysXiiemv\n",
       "T5Iy0z17VUIhWrJ2/8RFSQVu/yk6nsseWUOHoZI/F93NWaZXIRKCQDfGoJeuBRf0mpNKAKeU4pIf\n",
       "/4H6pjYevetbrFg0d1ApPDNlKOk1Y+gOZvQy4gu/QyVtZrxhii6lSpmZLEKTaXQpZJ/MH4PH8KsP\n",
       "/cyscvDjU/Zjn08f7I0uRWxldC24gJ5ll/SxKVX/WzZtpKdxKytnmIeUwjNThhJd0h3MyJLX9Juj\n",
       "gUJIv5lPHUwgFOHuf2/hX+ubOGLfKq797DyKLNkJ7GI0Nzl57qknuejSK7LW0IwUuoMZefKdflMn\n",
       "Dfl0MG09fm76+3o2NLq44JC9OP+QvTAM0jnEK3mPX/V5pu81M7fG5gHdwYwNxqeTiZ8SeTuhazf4\n",
       "XAMz0kPijPUAG54l0FlPyDIRS3Ron2zInyyrW6opwvYP/s11bwboDpu5e8pbrKg5DJ/MzOplxqY6\n",
       "LXW1nHfNfThbO3ngsad7HUwuKh5kek6mtvapKlCdYVUBnYJm/E2X4kVzXU7Y9CwYLDBpPyCsLfQe\n",
       "eqXmaGL1kO0VWijb1wmttSDgL5uFR4p7hWM904+mePerAwRlnuollG59Sku6ZCmHQKe2g3jf07C3\n",
       "fJhQgPbKlnZue18xweTl3ulvMM+wA5OvO6uNlTEhXYMrzGlX30ljcxuP3/Z19j/56wPEeMmEdrk6\n",
       "J1NbY33Y8VMqnjG/cXC0kFcx3pgkXjRX/z7YKjQn4m7uW+8YEtdD9rYR7GnDYyzrIxwrW/9gQkFZ\n",
       "2YYHE2Z109r7nh+wlvPAq+u56X0T+9uaeWz2v5lnd2WUCa4/MSHdR7VOWtu7eOSeGzlw+eKc1tPO\n",
       "9JxMbVWWEoqsFkrLK8d8trjxxPhzMvGCO2+79rvRouVaBW3E0h0VgXU3as/jCIWCRAJ912CUpQyj\n",
       "py2hoMzg69JGMPFYyjH4uvqc3xMycvX2FfyhYTpnOj7idzNfp9Lk73ON0d2U8cuM9DShzA6OP/xA\n",
       "3n3616xYPH+AGC+d0C5X56Qj1keRxURZUTSFUCrRpM6oYvw5mXjBXVGl9ns4oOX1gD31jmFAPWR/\n",
       "MEwQIxFT31xaEugibJ+QUFAWsZUlzOoWsZX1nr/ba+WCjxfwVkc535/5KTdOW4s52D7gmkSZ4BLR\n",
       "3OTk2Et/yj9feQOAshLNCeS6nnam56QjUlSFHf8eBwNjPlvceGL8OZl4wd3UA8HXoa3DOCb2rXcM\n",
       "feoh+wNBvN0tRCwVRGyVA4RjXQsvSCgo61pwQcKsblp7J+81C+etXUhbwMT9e73GSYctxbUgs0xw\n",
       "iYhFkXY2tlJlN2ZcC3uwYrxcCPbM05drazDjKFvceGL8LfxC1tEl/yfP4G/f3RsBAhJGhbKJLnln\n",
       "Hctzb7zHfau9zLJ2c/f8LVQsPKY3ujSYOkP9E06tWDgz7/W0Mz0nGb1h6nFWi2g0oetkBkPZ1Iy/\n",
       "wD2WKnoqDsBgmxLdVzSJcMmUhCkIAjVLErYHqxfSo87o/SP0VC7g5y9v4YVPfBxeE+aWhd0UlSzE\n",
       "Hzcd8u19XEqn0v8Pu9k2i3PPOKdPwqkw4BmEOjeecMmUIfeRjD46mCw+k4InTTG/8cb4my5lQU/z\n",
       "TnyfPDfoomQwsLBZh9vLt/+2jhc+cXLRrE7uXNZJUWlVVn0nKpY2ufV/fPa4z2Sc0W6oBdeG2s+Y\n",
       "FdqlKeY3HtGdTBJcviA9297LaXh2S5eRC9+sZGO3ldv32cQlC0OINfu+4/tsauviU6eLiK2UG//v\n",
       "mIxTZuYqV8xg+hmzDgZSFvMbr+hOJgGxrQK5DM++Umfg4tfNKOC3R/pZVfTJoPuO9dnU2sHpl/2A\n",
       "C675CUGxDcquwdx/KP2MaQcD2hTJWt63zVqutY9TdCfTj/i9SLkIz4ZsVfxuneL698zsW6Z44OgA\n",
       "8x09KfPJpCNSVEVzYz2nX/YDGpvb+dn1l2FWvqzDxrnIFZNNP2PewUDCYn74O7X2cYruZOLov9lx\n",
       "qOFZbyDMtWur+cNWO5+b7uOXK/1UGdLnk0nHbiZz+jduo7G5jUfuvo6DF0zLOmycq1wxmfYzLhwM\n",
       "DCjmh6dNe770/JG2bMQYn9GlBCTaTR0rSmZtXovB00KkqAr3lEMyCs86u3zc8Mw6drS5ufKQKs6Z\n",
       "uAujr7VPH2HHpEH1fee9v6WhrYdH7r6eQ+ZUETHZM742F68t237GjYOBPVGkNQ9pYfmSGlhx2biO\n",
       "LulOpqse74738bY3Yk+kJXE3YXWu6dW+hBw1Sf8QY2Hlj+pdfG/tREIY+clp+3PgzEq8LBxwfqrw\n",
       "cKod2j+49adccNapLJ8UhhRrKOn0K5mEpzMpVZLqPSpoHUy+bJp34rh2Kv0Z39Olrnq865+j29WV\n",
       "MPwaK9UhQRfh4qlI0EX5R7/F4vxwQFexUO7TtREuXz2RckuYPy/fycETfFmblei+vtfu4fsXn4W7\n",
       "p4dS1c3BxQ0pw8a5CFFn8vpTndPHwWx+QdsfVjxRe9z8gtY+UhSiTWOUce1kvDvepztSlDT8mk2p\n",
       "DqNzLT/ZUsMdnxSzYmKE3x8dZmplUdYh4UT3bfSYWXX7f/jHP1+m9tMtw7Y7OpPXn+ycil3/3DNF\n",
       "yrY0zXBQiDaNUcatk3H5grjak5clgcxLdXR5glz1XwN/21nEeXNC/PTQEMXmwYWE+9/X2e7ilOsf\n",
       "oqHdzV+/fQwHLF46bLujM3n9ic4xOypxeJv3NGRbmmY4KESbxijj0snEFnnThV8zKdVR29LD1/+y\n",
       "hk+6rNy82MUV+4UxysC+siF2314H09bNE9//HCuWLQaGb3d0Jq+//zkWkwFHxLVnJztkX5pmOChE\n",
       "m8Yo487JxEeR0oVf05XqeHNrK1c++iHBSIR7T57B56pbhxwSjr+vu7OFiFI88f3PccQse+99h2t3\n",
       "dCalSuLPsRjBEe7qu5Mdsi9NMxwUok1jlHG1CztRmDpdBCZRdMU/aTEPv7OLB97ewbyaEm45ZSFV\n",
       "xdaclQ/p7upkgmcbxdteRHXXI6VTB0R1hiv3bibRJYvzQyp2/VObIiXayQ7jK7o0xtBLomToZHJV\n",
       "VcAbDHPnPzfz+pYWjlswiWuOm4PFlLsBYSxdw/GrPs93bvhhzvrNJ+NKBzMO0VM9pCONDiYd8f+T\n",
       "15lmcvWOFdR2Rrj0yL05Y9m0PvWLkv2vn6y9/0hjN5M59/yLcDY0cOySWVS8dWvKEUQ68lFFoH8f\n",
       "JTYz1V3r4H/9Kjr0H8mMFCMxWkl3z3E2ghrbazJpdDDpiNeArI7M49xPDqCxy8cdRxZx5vLpAxxM\n",
       "Ir2Iff3jCdtt217uo2NpdjZwzpmn42yo58+/vJ0TjO9kpM9JRi50Mun66HUwb98HAReUT9Me375P\n",
       "q/Qw0oyEFibdPcehPmdMO5l0Oph0xDQgT3XN5eINCykxRXho/jsc63s56bkDqhUkqWJQuvHRXh1L\n",
       "KKw4+zs/p6G1i7/87Fo+U16fsT4nGbmuItC/j94pUqKKDvEVH0aSkdDCpLvnONTnjNnpkssXxNve\n",
       "iLJX92lXZgcGT0tGfageJ3e2HsqjzikcUt7J7XM/pdRgwtgz8H8do7uRcHHfIW+qKgbG5j2pHkwm\n",
       "I9+5+GwqSos5dE4VxoZ3E/eV4L7JMHhbiQzhtafqwxHsoCS2BtPdqI1g4rGVQ2ddxvfJG55WbbQQ\n",
       "j6UYepoTnz8c9xwJm0aYMTmSyVQHk4pub5Cv7z6GR51TOG9KI/cu2EypKTxAJxIjqaYkSRWDsGMS\n",
       "zY31vPTf9wE48cgVHLJwRjTFZ3p9SjpyVUWgfx92/JRUxqUt6FfRAehb8WEkGQktTLp7jkN9zphz\n",
       "MtnoYJKxo83NZY+sYY2rgh9PeYdvT/4Ik0qsE4mRTFOSrIrB1uoTOP0bt/GNm++lq9vVx7ZM9Cnp\n",
       "yIVOpn8fduXVqgrEa0niKjoQCQ+s+DCSjIQWJt09x6E+Z0yFsAejg+nP/2rbuPWFjVhNBm45ZSFL\n",
       "DNvS6kRiZBpd2lZ6EGdeci3Ohnoe+fn3tHQN/WzLRJ+SjlxGlxyhTm0EkygSkqheuB5dGjPRpVEb\n",
       "whYRG3AvcBRgBe5RSt0tIlcB1wBe4GqlVEYZmJPpYNKlM4j9EYmnlQfravj1Bgtzy8P8dJGTam8X\n",
       "IUcN/pqlvX+oYcekrP9446sY9C1b8jT7H3woPQmuCTsmDbhvIrtT2ZCLSgPhkikYq/faswaTiGnL\n",
       "hu5U8vWHNxJVENLdcyxVZsiAkZwuOYB/AXOBZcD3RORI4HJgIXAq8AcRMSfvQmOwQrtYiNbv93Dj\n",
       "hin8aoOFz5bu5HeLt1NdWYnRVU/5R7/F6KrvDeEWb3qSko1PDgjr2ra9nFFaiOeeerJP2ZJUdiUL\n",
       "Heeq0kAmDIvQbhyGdccTI+ZklFJtSqm/KY1WYDdwBPCEUsqllNoA7EBzQEmJKDVoJa+1eS2NkTIu\n",
       "/V8lL9cZuWLGTm7bZwPFgWYQAyZvCyFbOSZvS28I1+hrQ/xtA8K6pRsfTRl2jk1LL7r0Cl54/Z2U\n",
       "VQXShZ9zVWkgHcOm5B2HYd3xREEs/IrIfoANqAJ2xh2qAwaEKUTkYhFZLSKrm5ozD8n2Z31jNxe+\n",
       "WcHOHuGOg0N8tXojWMswBLoBMAS6UZYyxN+956JQAEM42KcfZXZgdDclTYvQ3OTknC+cyJZNGxER\n",
       "pu81M6Vd6dI05KrSQCqGdauAnnZhTDPiTkZEqoCHgC8DFiASdzgChPtfo5S6Xym1XCm1vHLC4EJ/\n",
       "/1rv5NL3J2EzRvj9UUGOmBJBWUuRQBcRS6l2c4v2XFlL91xoshAx9p3BSdBN2DEpYdi53l/Cuaeu\n",
       "Yt3aj+ju7MjItnTh51xVGkjGsO9FGodh3fHEiIrxRKQCeB64Tin1voicCMSviE1Dm0alJNUiaP9j\n",
       "7qoD+M2HPp78oI6lU+zcue8mSmwOlHIQKqqmqGsn3vJ9QEUIFVVjb91IKBSgaOerRIxmlJhRllIk\n",
       "4EKZHUjQjdHvonv+l6hYfR8GrxNDOEDEaKE+UMHnf1eHs7lViyIV1xKp7Uq7UOyfuAjH9pcIQ597\n",
       "uKccktHxoTAimx2nLtXWYEAbwQR6tLDu3JXDa4dOXhixkYyIlALPAT+OiyD9AzhbROwisgCoBD5K\n",
       "2U84kHQRtP8Cqcvj5YanP+bJD+r4wuIp3H7mcsxzj0WZ7Bg8LYRLptK5+BLCJVMxeFpQpiICFfui\n",
       "rMUopRAgYi3FM+OI3muUyY571vEAGAIdoACMNHWHOPH/fUCjs4nHb72YgxfOyHiRNlYBoP89Yo4p\n",
       "3fHBMmK7qcumwtxVYLJryleTXXs+jiIwY5mRHMl8A1gC3CMi90TbjgceBtYDPuCrKo2QR0LePYug\n",
       "oC2CQu8iaOzYTpfwnf9V0OAWvrfYz/HH7KsdTxDmDUQf7bUvEjDbevsGkIALk9uJZ3bfbPQT3riB\n",
       "YHEN2CYAYPOH2HdyF786t4b9li9OaF+q8HK68HMuwtPxjHi6hnEW1h1PjJiTUUr9GPhxgkO3RX8y\n",
       "QiKhxIug0T06EXs1bzsN/OB9E2YD/GJlgKX2poTalP5ks//H6G4iXDyFpk4vNouRMruFx775GSzN\n",
       "H9Oewr5CYMQdjM6YZsQXfoeKMpiSLoKGbVX8ZVOEa942McWulYhdUubKeIE0mwXWsGMSzmYnJ/7k\n",
       "35x/33+1kHWgU9u7lMdF2qGiOxidfDPqd2ErUxFGv2vAImj7xBXc9d9mXtrq4jOT/dy4PEKxpw5L\n",
       "02YitgqszjWEraVEbJXRniIDFo39ExdRvOlJjL42CAXAZCFsm4B3+hHYa1/ss9C8tfoEzr72Cho6\n",
       "A/z6jGmYOrciEehcfAmmBPa5pxyScutArlJ5pqIs0MKElnWjRt6uMzoZ/SMZo2XAIujOiZ/hGy9o\n",
       "Duai5ZXcelCYku6tWDo2E3JMxujrRIIuLG2bse16jaLG90CMCRdlRWlruSKCAgz+buy73uiz0Oxa\n",
       "/SRnXHEL9V0hnr1sISv3MoPBgq/mQPwzDk+4SGt0NyVVCA+Horcs0MKE+n/rKludvDPqRzLQdxF0\n",
       "k7ObG59dj9sf4ocnL+Twfavwsj9S+yLhkilY2rcQttjBZMfQ4wQgWFSBuXsn/pplfRZlrc1rCZZN\n",
       "Q1nm997LVvcm+Nt625SlhCvuehSns5FHfv5dFi5fRkwNIwGX1tfsEwcs0pZ+/MAehTBoCmG05Ff+\n",
       "mqVJF7NzsdhbYjNrI5iYyhb2PNav0UczOjllTDiZGK9sbOLOf22m0mHhvi8tYXb1HhVpbBFX/N0o\n",
       "q6bMlUgQMIDRhvg1IV38omyihV9CAQxxaTcBbr/2Uro/foEDlvXdJZ1qgTdpkque+pwknEpG7xrM\n",
       "OEyepDMyjPrpEkA4orj/jW3c+sIm5k8u5dfnLu3jYGDPIq6ylkJYq0+tDGaUwQhhX6+qN52yNqb4\n",
       "bWrt4O4//pVIJMKsSSUcuGRRVgu8qRJT5UvR22eRV1fZ6gwToz6fzH777acWfeU23moyctr0Hq6Z\n",
       "14nZEGGP/9QWdEOOGmzNa1GRENb2LUQMBgz+HozuZoy+FiImu3ZecQ2B6gPQdjQYMHlatSlTdNHW\n",
       "1F1HU5uLL9z4Z+qb23n59z9kziQHvomLKNr9xoBF4p55ZyRcsLU4P6Ti7Z9gCHQg4SDKaCZiqaDj\n",
       "0O8TdkzSdnr72zCEg5rS2DoB1/zEfWXCgChSbOezrbSfylYXwen0ZdTmk8kVOzt8eJsNfHdBJ+eb\n",
       "/kOkGYIVc7G2byYi4J+8Agl5sDWvxTdxESa3k2DYh8HXRUQJ5o5PCVsrwFSEBFzYGnYRtk8iWL1A\n",
       "G/kISNCHBD1EiqrYVnkkX/rGBTQ2t/PY7Zez9957445mm4stEhtEiESfpyQ67RK0RWXipmFKNDfZ\n",
       "qzSWRB1kRsIwdUxlW79GmyLZqzQZv+5gdHLMqB/J2Kfsq5783Z0cGl4NYT+CYOreTbB0mvbHa7Tg\n",
       "r1mm7TUy2fsodSveuhUJunoXX80dn4K/Ayzl9Mw/A6DPdc1NTs477SQa6+sH5IOx176IhDwD1MH9\n",
       "75ns3gDia0eZS/DXLM2qr1ToOhidoTLUkcyoX5OZWRJhWbXS0jEYbSijDYOvY8/v0bQNiVIhGN2N\n",
       "fdIzSMgLlnIMvvbetvjrtm7aSHtba8KEU9mmX+h/b9iTGiJXqRx0B6NTCIz66ZI13EPRrlcxeloI\n",
       "RYJgKSFiq4CwD0GIWEoxeNsxt23A6OnA3LVLm5YohSm6iRKzAwQM/k4iGIjY90RdjN11RDobKF73\n",
       "EMdNq+K/r75M0eQ5A+zoXViOH31ksPDbZyQTt/Br7K7D5G3BEOgmYiklVFRNuCTzqYzuYHQKhVE/\n",
       "kpFImIjBQthajrVtI4buOnyTlmLydiC+dsKWMqwN/8PsagQURrcTW8O7GN1OIqYizJ07MHZvh4gi\n",
       "Aph76gmUTAMVwdi1i65N/+Wo7zzEk29sQkIeJrW8nVAUl211gFQVCUKOGoqcqxF/FxFzKeLvosi5\n",
       "mpCjJmFf/dEdjE4hMeqdTMRcDCYbymgmUDGPSFEVEWsJ3skH4a85CFP3TpS1jJCjmoijGkPYT9ha\n",
       "jCHsB6OZUNleKEspxp56lL0G996fQwwmDJ4WWnfXsuqnb7KruZNpkyemTHOZbfqFQM0SOhdfgjKX\n",
       "aPc2l9C5+BICNUswuZ14a5ajrGVIQNP1eGuWY3I7074fuoPRKTRG/XRJGUz4a5ZpU6LObRh7GgAD\n",
       "Bl8nZtduzO1bCRZPx+yuJ2KyYvK2ogxWjN5aJORHmax4Jx8MliK8M44GFcHgaWFb9XH834U/pL61\n",
       "i0fuuZEVi6MK3xSiuGzTL8RXMYhHW5Oxa/UaYq/TbO+zJpNo35N15kG6g9EpOEb9SAbA4G3H2vQh\n",
       "EugmYi6laPfrOLa/gIpoGhNb83sY3U6t+FjQh6VjE0RCRExFqEiEIudqCHgAbR2lO+LgvNNOor6l\n",
       "k0fvuqbXwcSO538HtYGihnch7NfUyWG/9jz6cVmcHw7Y9zRh3f1Ud63Ls106Otkz6kcyqDDmzm0o\n",
       "EQxKERFBIgHC1nJMARcYLWCwEgFMvjYMwR5UVM+CyQaRIAowelp611FMM4/jlC+ezSGL53LohHbC\n",
       "/VJt5iLNZToiEtPPiLaAHaeTcdS+0Gffk7m4iqKwWSuwVihF1XR0oox+JyMGjD0NhIun4CvfG0vz\n",
       "WggHweTQQtIogiXTMXmaUZEIEvahDFYM4QBBi4OItRwiEYz+Tpydfpr9xezf8jHXHldDpMiMz6EJ\n",
       "+AyeFi1H8JRDcpZyIXk6hwjBirnYmtZg8HUQsVXgm7SUWI71+H1PFpMBh9UEkfLCKHI/WEZZVUWd\n",
       "zBn1TiZiLcMz+6Re8ZqyloLRDCH3Hq1J0EPYWgYGIyGjGSI+MBahLKWEymZCJMhu1wxOu+p2Qp4u\n",
       "3nzkTsz2aiToxta8Nif5c/sTS+cQtpZoGzeDbhzbX4rmCzZg7thMqHQ6qmJfJOzD3LEZf81BwJ7w\n",
       "t7m4SnMwUDhF7gdD/BaH4onaFofNL+hbHMYIY2JNJj58HCzdC2WwYPR3ErKUELaUYvR3YAh5CRVP\n",
       "JVg2E2PIq63HGEyYOmtpdTby+R/9HWdjA/fdeClmR0Vei6ZB+gJtBgUKhfavwhAnzHbPXoU11IUj\n",
       "3FV4Re4Hg17cbUwz6kcysCd8bG1eiwQ9eKcfialrF9bWjxF/NxGDpvw19jQQKptFzz5fwNKxFYO3\n",
       "ncYuPyf+YiONrd389furWLZgrz6FnyTkx9bwfs4z1KVL5+CdsgJz907Er9V98k5ZAUorQWWdeRBF\n",
       "FXZtDaazThvBLD5v9K7H6GknxjRjwslA3/BxbCricVT37rg2d+0gXDQBgwoRKNuLQM0SjF27uP2u\n",
       "39PQ1s0j91zPIdUdSOO7+KccQqSoEoO3naKGdwnZygZMaYbqaNIphCXkwV+zx2nE9i716mBKclDk\n",
       "vlCIpZ2IL6Knp50YM4yJ6VI8FueHTHjjBuxbnqJ46zMQdGtZ50qmY/K2EhHB0vQxtro3cdQ+z4/P\n",
       "PYjn7v0uK5YsJDBhAQYF5rYNoCJY2jYQEQhOWJDz6VMqhXCyY+bpy8emDmbqUi3NhL8bVER79HVr\n",
       "7TqjnjHlZGL6EYO/k4h9EoagG2vrOow9Tq16gX0iYKD90/f46t0v0GKYhKW4guWlbRi87USKKvFO\n",
       "WYEhFNCmLSE//skriBTt2V+Uq5rTqRTCiY7JvJOYMHXWkO9bkOjF3cY0Y2a6ZHQ1UP7BfRj8nVpa\n",
       "zUCPVtM62IO581MitjLCxTU0tbRw8i820dDh4Yojqllu9hO2V2Pu2o6/qFJTAM84Es/sE3vTN8ST\n",
       "SzFeKoVw/LESm5kJY3EEE49e3G3MMiZGMrE1GIO3lYhtAhGTA7O7gQhGBAMGbxsSdFPvsXDyDY/R\n",
       "0O7myRtPY/FiLW+LuXMHxp7GAZsas930mA/0vUg6o50x4WRi4eCIfRKEPShbOSHHZAwEiRitREx2\n",
       "mprbOO2ae2jo8PC37x7HwfvPQdnKCFbMJWIyYfS0DlvN6UzRHYzOWGBMTJdMHZ9iDLhQgKVrNyF7\n",
       "NcpWiYoEiFhLCJbvQ3dkIibbWzx92UyOLN9NwCmEKvYFo5lwyXSCJdMTZp3Ldc3pTEnrYHSFrM4o\n",
       "YdQ7GQkHsLRtwuDvAISwbQJGbxvK2w7mItp9RsrVFuaadvHetYsRUQQjQYx+F4bW9QSq5hOomJNV\n",
       "Qqh8U2IzUx1phQ1JnEhXPXz0iHYsHNQUzi2bYPE5uqPRKThG/XTJ6HZidX6ApXUTxp4mlMmGMpgx\n",
       "hP3U+4s57rZX+e7DazB37QAVQiIhDEE/RLR8MiZXHcaAe1jXWVLR62A2v5C8uuPWl6G9FgxGKKrQ\n",
       "HttrtXYdnQJj1I9kDEEPEWsJKDD6uzF4OzGE3DS6hZMe+JT6ziBnHOCASABjJEDY5MAcbCFicRAR\n",
       "ExL0ooZQCSCX9E6RNqxJXd2xcS0UlYPZrrWb7VAU0drj0adUOgXAqB/JIAIGC1gchK1lGJSPxp4w\n",
       "x/2hifoOP3+/ZF9WzrQi4SAS9GD0d6FQ+GuWE5wwh0DNUkKl0/KyPykb+qzBeFo1WX08lmKtvZf+\n",
       "nrHf89imQ73Wtc4IM+qdjDKYkbAfIkEMIS+RcIiT/9xKfVeIZ69YzCFzJhAxO8BoRiIhJOQmVLoX\n",
       "ymDEGPQSLJuVM4HdYBmwyJuuuuOUxeDtgKBHU8gGPdrzKYv3nK9vOtQpEEb9dEkZLURMRRjdzZh8\n",
       "rRAO85MTyrFUTuXgeVMQXxsS8hIqmYKv5iBszveImBxgtOKrnEekqBIJuJIK7JLnfMkNCaNIU5dq\n",
       "ow7oV91xpda2z7GaMtbTBt5OLTFX5WytPYa+6VCnQBj1IxmDvxtL2yZampw8+YmPiKmIz8yv5LBZ\n",
       "xSijiYiYiRgsBKoPIOyYhHfq4WA0aAmtohUJbA3vYOr4FHvti30qEcREfhLyaBskQx4c219KWK1g\n",
       "MCQNU6eT2ZdN1SJJex0GNftrj/0jS3qta50CYdSPZFBhnJ1ejn3QRUOP4vAFNVRUTkYiQSTkIzhx\n",
       "Aa755xB2TNKSRJXU4CuqwNy+Cfv2l4mY7fgnLSFcOm3ALus+OV9A2yCJJv4bqnYmrQ4mncw+3fF0\n",
       "oyEdnWGi4EYyInKmiGwXkU9F5KJ05wcjwrF/7qHOpXj2/Goqy4oRtI2MwfK96Vz+TQI1S/o4jIi9\n",
       "Cv+0lQTLphOxTyBcNiNx4qgcVXLsz7AoefVNhzoFQkGNZESkBPgZcDAQBj4SkeeUUolrkABbWkOY\n",
       "DPD8/01g5V4mImE/IYsDf+Uc/HH5eBMliTKEg/SvBR6fOCrbqpCZMKxbBfRNhzoFQKGNZE4AXldK\n",
       "1SulnMB/gGNSXRAMK56/YBKHzzABSqs+EAmirBP6COxiDiOeiNEMJkuftngnkusNkvpeJJ3xiPT/\n",
       "n3wkEZFvAlVKqeujz+8EGpVSd/c772LgYgCLkaXzJhiCBgMGQMIRgq0e1drmVe2BMMHYNRYj5soi\n",
       "KQ9FCEcUYYNgtBqxAPjDBGJtJgPGdq/qjF1rMWIutojDbMAUjBDqCSh3fL9ZUgWMXKw8e0aTvaPJ\n",
       "Vhhd9s5VSpWkPy0xBTVdAizQJ8VuBG3a1Ael1P3A/QAisnptU3j58Jg3NERktVJqVNgKo8ve0WQr\n",
       "jC57RWT1UK4vtOlSIxC/iDAN2D1Ctujo6OSAQnMyLwEniMhEEakBDo226ejojFIKarqklHKKyPXA\n",
       "/6JN1yil3KmuITptGiWMJlthdNk7mmyF0WXvkGwtqIVfHR2dsUehTZd0dHTGGLqT0dHRAUBEikRk\n",
       "Tq77HbVOJtvtB8ONiNhE5H4R2SIiO6MaIETkKhHZJSKbRWRgUuERREQsIrJBRH4ffV7ItpaJyGMi\n",
       "Ui8itVHbC9JeEfmWiGyNfl8vj7YVjK0iUioizwBNwHfj2hPaKCK3i0idiHwiIunLmCqlRt0PUIIW\n",
       "2p4K1ABOoHqk7epn4wTgdLRsUlXRD/BIYEvU/gVAA2AeaVvjbL4ZeAH4PTC7wG39M3BD9P21Faq9\n",
       "wExgB+CIfie6gIWFZCtQjKas/yrw+2hbwvcT+AzwJlrQ6Djgo3T9j9aRTNbbD4YbpVSbUupvSqMV\n",
       "zSkeATyhlHIppTagffkKoqC1iMwHDgSeiDadSuHaGpM33BZ9f30Urr0xdXgE7Q/TBayigGxVSvUo\n",
       "pV4BQnHNyd7P04A/KaVCSqmXgero55GU0epkpgM7457XAZNHyJa0iMh+aP/bVlGAdouIAPcCV8U1\n",
       "F/J7vBDYDvwtOpS/iwK1VylVjzZCfAf4N3AOmsi04GztR7L3s397PWlsH61OJqPtB4WAiFQBDwFf\n",
       "pnDtvhR4TSn1aVxbodoKMBFtCH8lsBQ4DDiZArRXRErRHMtVwM+Bb1PY722MZDZmbXtBifGyoBE4\n",
       "Ku75NODdkTElOSJSATwPXKeUej+6eFaI2ybOB0pE5AygEm394F4K01aAZuADpVQdgIi8jPZFL0R7\n",
       "zwM+Vkq9BrwmIqeirSEWoq3xJNvi0799CtooJymjdSRT8NsPov+DPQf8WCn1YrT5H8DZImIXkQVo\n",
       "f9AfjZCJvSilDlVK7a+UWgz8AHgazTkWnK1R3gEWiMgUEbECxwI9FKa9PmCxiJij+ZLmoE2bCtHW\n",
       "eJJ9V/8BXCAiRhE5DtiilGpP1dGoHMmowW0/GG6+ASwB7hGRe6JtxwMPA+vRvnxfVdGl/EJDKfWB\n",
       "iBSkrUopt4hcCbwMWNEWIn8WdTiFZu/DaBGZbYAXeFAp9VYhvbdR5/chWiTJJiJHAV8jwXdVRJ5G\n",
       "i5JuA9rQpoKp+y+Mz0FHR2esMlqnSzo6OqME3cno6OjkFd3J6Ojo5BXdyejo6OQV3cno6OjkFd3J\n",
       "6Ojo5BXdyegMGRHZISLTRtqORIjIhbHUFTojg+5kxiEioqJ5eOpE5H8ictJI29QfEfmTiDhFZJuI\n",
       "rBORw0faJp3BMSoVvzpDJqyU2gcgKhl/SESKlVKPj7Bd/fm2UuphEfkM8Dtg3kgbpJM9+khmnBPN\n",
       "FXIOcAf0pmD8TTST21YRuSTafpSI/Dt2XXSkcV5cV1+KZtWrFZGjo+d8Jpo9bYeIPC4ihmh7SES+\n",
       "Gz13tYhMSmPmG2gb9BARh4i8GL12nYjsH2fPXSLybnQEdEb/TkTkt/rUafjRnYwOSqnNQJGITAS+\n",
       "hzbCnQMcDFwjIgdk0M0EpdQC4CvAH6Jt7WhpGPZGyxB3RLTdCNQppWYDm6LXpOJCtE2FoGXCuz56\n",
       "7W+Aa+LOWxC933nArfEdiMhXgH2Br2fwWnRyiD5d0olhQsvitgr4SnTDXpuI/A0trcbHaa7/A4BS\n",
       "6rXojuMJwC60jXaLgBnsSRGggCejv78OJCvXeqeI3AusBU6J9t8jInuJltf5QKA77vy/KaVCIvI6\n",
       "sFdc+yLgEOBwpdRg65jrDBJ9JKODiCwFmpRSHWjOJtLvlDBaakZjXJu53znxqRttaDuOX4heeyPw\n",
       "GtooBCAS98ce7NdvPN8F5qOlGTgoauulwCVoazS3xvUJ4AeI9h3fZw9ajpyUaSJ18oPuZMY5IrII\n",
       "+BN7stS/DFwpGpXAF9CmKjuBeSJiFREb2sggnjOi/Z0O1CqlPMB+wGNof+SHDcY+pVQT2nTqVyJS\n",
       "FO3zVaXUWrRcz5lQC1wGPBvNVKgzjOjTpfGJUUQ+RRtxbAe+pZSKrXncAvwK7Q/TC/woumaDiDwE\n",
       "vI2WY2RLvz4niMgGwANcEG27A1gDbESb8gwKpdRqEfkX8EPgAeAJEfk/4F9Z9PGCiCwGnhGRY5RS\n",
       "/sHao5Mdej4ZHR2dvKJPl3R0dPKK7mR0dHTyiu5kdHR08oruZHR0dPKK7mR0dHTyiu5kdHR08oru\n",
       "ZHR0dPKK7mR0dHTyiu5kdHR08sr/Bw79M4L67SCIAAAAAElFTkSuQmCC\n",
       "\"/><img style=\"margin:0\" align=\"left\" src=\"data:image/png;base64,iVBORw0KGgoAAAANSUhEUgAAARkAAAEnCAYAAACdYDfKAAAAOXRFWHRTb2Z0d2FyZQBNYXRwbG90\n",
       "bGliIHZlcnNpb24zLjMuNCwgaHR0cHM6Ly9tYXRwbG90bGliLm9yZy8QVMy6AAAACXBIWXMAAAsT\n",
       "AAALEwEAmpwYAABPW0lEQVR4nO2dd3hcxdWH37NNqy7bcu8Y496NbYypAQdMCwY+bCCNHjqBhN5r\n",
       "ElooCZAE00I3JRDTa+hgsHED96Leu7Qr7c73x92VV/Jq+2p3pXmfRwjNvXfmXNn788w5Z86IUgqN\n",
       "RqOJF6ZEG6DRaHo2WmQ0Gk1c0SKj0WjiihYZjUYTV7TIaDSauKJFRqPRxBUtMr0AEbGKSF8RGSUi\n",
       "Jk/bfiJyi597vxSRYSH02V9ENojIIBH5jYgoEfldp3tGedqzgvSVKyJ/FZEdIlIrIi+JSF/PtTQR\n",
       "uVFENotIg4i8KyIjPddERC4WkfUi0uixfZrn2h0ickPovyVNvNAi0wMQkYEislZE1ojIKhH5XkQ2\n",
       "isi3IvIt8D/gI+BBIN/zWBrQR0SyPB/OL0XkS2AS8B+ftuu6GPZO4H6lVInn50bgZhHJi+AV5gJ1\n",
       "wL7AOI+Nd3iujQYGA4cAw4BK4FGfdzgY+AUwEPgMeMFz7UbgVyKyVwT2aGKI6GS8noGICPAU8JJS\n",
       "6lUR+QtQrJS6R0SOBa4ADlNKNYvIQGAexgf5esANjPB0dQmwDKj1/PyaUmpbp7H6Az8Ae3n6+w1w\n",
       "AYYAbFBKXeK5bxSwDchWSjUEsN2klHL7/HwycJ1SarKfa3OB95VSWZ53Rnn+EnveqwTor5SqEJEr\n",
       "gIFKqd+H/pvUxBpLog3QRI+IHAn8FUMs9hWRWz2XLCJyOmD3/PyDiJwJHOBp+xw4AvgH0OS5pxnY\n",
       "AlR4fvYnDj8DPlVKNXdqvxT4VkQeVkr96MfOz4A7lFJv+Lb7ioiH/hiCFexa538h+wNOoN7z83+B\n",
       "FwEtMglEi0zPwAK8rJS6EkBEngXOV0pV+d4kIn8HzMBewCdAHvAW8JDvbRhi4f0A7wKO7zTeNOC7\n",
       "zkYopdaLyCPAvcCRfq7vH+xFRMQGnAfc08Utl2DM2PxxKfCiUsrh+XkdMFpEbEopZ7CxNfFBi0zP\n",
       "YAqwQEQ+xfgznQUM96wmOlMKOICdwGyl1Bsi0gJM9nNvm1LqQT/t/TCWQf64EdgkIkdhfMjD5X6M\n",
       "Jc9jnS+IyFXAEOB2P9eWAouAGd42pZQSkSqPvcUR2KKJAVpkegZ3Y3w4wZiZnAB80MW9rUoph4gc\n",
       "7NO2BEN0Os9O/oXhLO5MC4bTdQ+UUrUicjXGTOToUIz34vGhHAzM77xMEpElwEWea02drh3osfMI\n",
       "H0e0l3SPvZoEoUWmB+BZHjhE5LfAfAwfi++/3BaMqNEhSqmPuujGOxPwJaOLewuB4QFMegw4F2PZ\n",
       "ExIi8mvP/Qf4WeYdhiGiC/04oacALwGnKKW+6XQtG7ACNaHaoYk9WmR6CCJyEPBHjDDwE8C1nqXQ\n",
       "QOBpjJnNxwG6uFQp9VanPgu6uPdTjNmTX5RSbhG5CHgvRNsXYUS6DlVK7ex0bSbwb2CxUmpVp2sj\n",
       "gRXABUqpt/10vQD4wo+DWNON6DyZHoCInAQ8CSxRSq0EFgLXicgHwBrgSaXURUE+bPf65st4cmZy\n",
       "u7j3C6CviEzoqjOl1OfA8k52fiYi/pZQf8DIhdngSd5TIvKR59qFwADgfz7Xtnuu/QYjd+Z5n2u+\n",
       "7/gbunYSa7oJnSfTAxCRu4G3MUK404BDMULRbwAzgYMw8lo2Ax8opV7y+GROVEpdICL/xMivecun\n",
       "zzRgh1JqUBdjLgVOUEqdGLcXiwIRmYGR77OvUqo10fb0ZvRyqQeglLpMRPbFEJMvgHuVUu0+GRFJ\n",
       "x4hATQG2BupLRA7F8OkIu7Nn/Y35rIj0EZEBSqmyGLxGrBmL4afRApNg9ExGo9HEFe2T0Wg0cUWL\n",
       "jEajiStaZDQaTVzRIqPRaOKKFhmNRhNXtMhoNJq4okVGo9HEFS0yGo0mrmiR0Wg0cUWLjEajiSta\n",
       "ZDQaTVzpNpERkXQR2ae7xtNoNMlB3EVGRHJE5FWM2rJ/9Gm/WER2ishPnmr73vY7RaTAc4bQrHjb\n",
       "p9Fo4kt3lHpwAw9g1DaZByAiY4DzMUpCDgfe81Q5OwCjmtkojMO8/gVM7wYbNRpNnIj7TEYp1aCU\n",
       "eh9o82k+HnhBKVWvlFoPbMeosL8YeFwp1aaUehfoLyJ+iyZpNJrUIFFFq4YDa31+LsAovzgceM2n\n",
       "vdDT3qECvYicDZwNkJmZOWv8+PFxNVajiSVupWh1JXcdJ0t9AW2OZjaVNWETt6POoezBn+qir1ga\n",
       "FgY2jGWUFzfgCtDeAaXUo3jOQ549e7b69ttv42epRhND6ltaKa93BL8xwajHjuLI+77DYjIxMFM1\n",
       "RtNXokLYxcBQn5+HYZxU2Ll9CMYsR6NJeVJFYMpKSzjyvpUUVTez/PJDou4vUSLzX2CJiGSIyESg\n",
       "L7DK0/5rETGLyOHAxs5n8Gg0qUiqCIzL5eKMpSdQWNPKq+dNZv/RXR29FTpxXy55Dtj6HsgG7J4q\n",
       "+WdhnAW0DuN0vzM9R4q+glEMeyvGoeqnxNs+jSbeJFJgzPVFpJWtxtRcgTs9H7dYSC/+GnNjMa7M\n",
       "wTSOWYQrc2CHe6647CLS09OZZV0NtZuwmMQajQ0pX0hc+2Q0yUyiBSZz2zu40rJR1kys5evJ3PY2\n",
       "jr774M4agjhrsdYX4ewzll0yhK837OSYA6ZidtTTOHohAGllq5l+2Mk7ShrcoyK1Qx+JotHEiUQv\n",
       "kdLKVhsCY8s2fq7cQJs9B7PLgdtkRtn7oup2ULltDYvvf5qyihr2e/kh8jOySStbTdOYI2nKHkJp\n",
       "o6qIxg4tMhpNHAgkMJ2XMI4B03BlD4m5DabmCkyOBuylb2FqqcJSu4PWnFHQ1tx+T2m1k6Pu+pTi\n",
       "OjfP3Hct/fJyUMqNqak8dnbErCeNRgMEF5jMbe8gbU24M/ojbU1kbnsHc31RzO0wOerI3PoGuJpw\n",
       "p/dDmazYan6C1hYASqrqOfLuzyiscfDMfdcyd7px6rC0NuJOz4+dHTHrSaPRBF0idVjCiAlly8aV\n",
       "ZixPYo2lbhfKbAWTDRBcWYNBuTE1l4LbxYpPv6eouoUXrz+ZeROHgXIjznrMjnocA6bFzo6Y9aTR\n",
       "9HJC8cGYmitAzNiqNiKOOlRaDq05I5HWJr/3h7q08r3P1FKHpb6AjB0f4krLRbCC1Y47Ix8nZqyV\n",
       "68jc+CrnTe/HwYffwcAJ87BtWdEx4hTD5ZueyWg0MSB0J6+J9KKvwOVApeWCy2H87OejGOrSyvc+\n",
       "k6OezG0rsFVuwGXPBbcDa3MZben5uK1ZlBdv48B/VvO5eR6OAVMZ1/AlmZvewJk/nqa9j8aZPx57\n",
       "2eqYLt+0yGg0URJuFMktIAjGfwW3+L8v1KWV73320u9wpfXBnd4Hty0XE2Ls16neRMWWlfz879tY\n",
       "W9xCc6sLZe8LqhVr7aa4Lt+0yGg0URB+mNqNY/BclNmGyVmDMttwDJ5Lxy17BqbmCpQ1s0ObsmYa\n",
       "S64u7jO1VIMlA0w2lDUNx8CZYM2mrLiIIx9YR2GdmxdvOpV5E0d4OgSTszHoGNGgfTIaTYREkgfj\n",
       "Ts9H2ppwDNpdj02c9SjLnun77vR8pLWxPc8FjMgPmMjY8ma7nwZMmOsKsDSXI846zM4G3Ol9jVlJ\n",
       "1iBKG9s4atkaiurcvHjNMbsFBkDAbesoZDq6pNEkAZEm2jkGTMPsqEec9UGjOf7utdQVYGmq6OCn\n",
       "sdZsJWPXJ4ijFmefiZhb67DUbsdtyUBaquhramb8lOk8+fC9HDDKaMPtMr6LldbcsSHZEyl6W4FG\n",
       "EybRZvKGk4zX+V5TcxXKau8wu7EXfIo4GnBn9kccdYizCUtjMSXVjTB4BmkzTsA5aAYAtpLvyewc\n",
       "Seq0d6mzPWMGZK9USs2O9H31ckmjCYNYbBVwZQ+hKcQQced7s9Y+tYefhjYnWNI6LMFKyys58dbr\n",
       "6DO0jWdfuwWvb9k5aEa74PjSlT1vrikOyc5AaJHRaEIk0XuRwL+fBoutg9u4tKKaE8+7nqKKGm57\n",
       "6AZEdoev/M1k/ImOUorHP9/OU1/ujNpm7ZPRaEIgGQQG/PtpXPZ+qLR+iLPemMH87lqKyqp44vHH\n",
       "mD1vfvuztpLvyVv1CNJajytrKNJaT96qR7CVfN9hjFaXmzvf+omnvtzJEZOiL7GtRUajCUKyCAwY\n",
       "y6fG0QtRlgxMTeUoSwYN40+ifsJJKEsGl996P0Xl1TzxxDJmHnJsh2czt6ygzZ5n5Md4dmG32fPI\n",
       "3LKi/Z4GRxtXvryGd9eX8tv5o/jDz6M/Kk0vlzSaACSTwHjpyqfTlD2EG/4+heLCAmbOmbfHdXNj\n",
       "Ma6soR3alC0Xc0MhAGV1LVz1ylp2VjVxxRHj+HkMZjGgZzIaTZcko8D4o6y0hLvvuBmXy8WQocOY\n",
       "5UdgAFyZgxFnbYc2cdbiyhzMlrIGzn/2e8rqWrhz8ZSYCQzomYxG45dECIy/0DYQMLxcVlrCaYuP\n",
       "oriwkONO+D/23qfr44Eaxyyizzf3oup2IMqEEjciVt4ZdiHXPL+KTJuFvy6Zzl79s2L6Xnomo9F0\n",
       "IlEC03kzZNaPL5K94cUuN0j6Csyy514OKDAArsyBOPuMBbEhbc0gNl5qW8DlHzYxKNfOg6fMiLnA\n",
       "gJ7JaDQdSNQSqXOpTGXLxtxSiQKUbUJ7m8tz7/YmUweB8Y0iBRrD2X8ijqFzUQr+9aOZf260MKe/\n",
       "i+tOnk5mWnzkQIuMRuMhkT4YU3MF7oz+HRvbnJik4xZtZc3E1FTOjvIt1FRXhywwvmO0uuHO7yz8\n",
       "d6eZo0e0cfW4IlriJDCgRUajARLv5A0lyQ7A2ViDLSOffSfvz0ffrCEjs1P2b5AxGpuauPL7PnxT\n",
       "ZuKsCW2csVcNWGO3GdIfWmQ0vZ6uBCZeBb/99esYMM3wvzgqMblacZutKLGibDnGLm1rJmXFhZx0\n",
       "8Z2cfu4FnDTmyLAEBmBXxkSufu8ntjYK1810cvSQOuP4k6H7Rf1OgdCOX02vJpDAxKPgd5f9Npai\n",
       "BAQjpV8Ad1oOTSMORFkyKN+1mRMu+QsFFXWMnrxv2ONuKW/gd/8potCRzj37OTimfwnKkkHj6IVx\n",
       "OSnBFz2T0fRaAi2R/DlivU7XUDc3htNv5pYVOPPH05o/of1ecdZjaSxhe9YMTrv6WorLa1j23Csh\n",
       "+2C8fLu9ihtfX0+Gzcxfl85gTP8sGiJ+g/DRMxlNrySYDybUqnTh0lW/5sZiv+0t1UVhR5F8eWtt\n",
       "CVe9spZBOXYeOmUmY+IQog6Gnsloeh2hOHm7qkoXbcW4rvp1ZQ72227vM4Qlv/wtU6fPDEtglFI8\n",
       "+cUOnvhiB7NG5HHDsZPIimMEKRB6JqPpVYQaRQqngl04dNVv45hFHdrLinaxds06HAOmcfq5F4Ql\n",
       "MG0uN395eyNPfLGDn08ayO2LpyRMYEDPZDS9iHDC1N7dzmllqzE1lRvh3yH7Re0kDdSvt0Jd+a7N\n",
       "LL7sARqdLj44+o+khdF/o6ONG19fz8od1fxq3kh+PX9kh3oyiUCLjCY1qC2Ewu+gqQIy8mHoTMgd\n",
       "Gvw5D5HkwZgbS0kr+a69wFNb5qCQRCZYYaiudlG7soewvcnEqVddQ0lFLcuee5mM1irSCkMLo5fX\n",
       "O7j6lTVsr2ziDwv34cgpg8N633ihl0ua5Ke2EH5aAW1NkDXA+P7TCqM9BCIRmFALPMXqOTD2Ip16\n",
       "/CJKiopY9tzLzJ00KuQw+tbyBi545nuKalq4/fjJSSMwoEVGkwoUfgf2HEjLATEZ3+05RnsQIs3k\n",
       "DaXAUyyfA/jHg/e1C8zsefNDPtztux3VXPzcKtwo/rpkOvuO6hv2+8YTLTKa5KepAmydQq+2LKM9\n",
       "ANFsFTA3FqNsuR3alC0Xc2PgwtqRPgfwh+tu5qUV77c7eUMJo7+zvpQrXl5D/+w0Hlo6g70HdH+I\n",
       "OhhaZDTJT0Y+ODuljzkbjPYuiHYvUqACT7F8rqy0hPNPP42K8nJsNhvjJk5qv+YNd3foyxNGV0rx\n",
       "1Jc7uPPNH5k6LJf7l8xgQI49nFfsNrTIaJKfoTOhpQ4cdaDcxveWOqPdD7HY7Ng4ZhGWlpoOB6FZ\n",
       "WmpoHLMoZs95fTCffPAeu3Zs2+N6l+Hu/Knc/c5Gln22ncMnDuTOxVPIsidvDCehIiMivxeRTSKy\n",
       "TUTO97RdLCI7ReQnETkykfZpkoTcoTBukXHGc0OZ8X3cIr/RpVjtpnYOmkHN9HNQ1mzMDYUoazY1\n",
       "08/xe3xIJM91dvLOmD1nj778FQ0vH3oYV75XyYq1Jfxy3giuPGIcVnNyzxUSJn8iMgq4CJgE2IGt\n",
       "IvIRcL6nbTjwnoiMVEq1JspOTZKQOzRoyDpcgQkaas4ciGPQzPbwsStzYEjPdnWAmpfqNe/yq1+d\n",
       "SWlFHS9dfzJTRqXj7KJP3zHLm4VL/1fA1ioHly/ch0VJFEEKRCIl0CscbgyxqwcWAS8opeqVUuuB\n",
       "7cAs/49rNLuJRGAChZoD7cKOJkxtK/me3HVPk5lm5sUblrLf2DzyVj1Cxrrn9+zzm/vIWf0vpK2J\n",
       "TW0DOPNjG0U1zdx5xJCUERhIoMgopQqBG4EvgfeAU4BhwA6f2wqAPX6bInK2iHwrIt+Wl5d3g7Wa\n",
       "ZCaSJVKwUHOg8HGkYeqqygrSNr5B/qDBvH/vOcybPKr92dx1T+zRJ6oVa80mvqnJ4ZxP0nBh4uH5\n",
       "tRyYtjni31W4ZNutUfeRMJERkRwMYbkYuAe4HLBBh2JgbsDV+Vml1KNKqdlKqdn9+/fvfFnTi4jU\n",
       "BxMs1BwofBxJmLqstISTj1nIZQ+8grLldkj1V7ZczE2Ve/QpCG9UDuWSz6wMSFf882An++Tbo94J\n",
       "HirZdiv9s8PZ1OCfRC6XTgN+UEp9pJRa5mkrAXwX3sOAXd1umSYliMbJGyzUHCh8HEmY2uvkXbpw\n",
       "jv9nM/p1aFcKHq6azpUVRzAtX/HIga0MyojNTvBQiJXAQGJFpgWYLiJWEckG9sFYNi0RkQwRmQj0\n",
       "BVYl0EZNkhJtFClYqDnQLuxIwtTeKNKUY87x+2ztpF+3t7e2ubll4xAeqJzDUf1K+eu+VWRbY7cT\n",
       "PBixFBhIrMg8jTFz2QqsBJ5SSn3maV8HLAfOUkqpxJmoSUZiEaYOFmr2Fz72lqoMNUytlOLsX57c\n",
       "YatAV882TTqZmunn0GDK49J1o3ilYji/mmTjD4v3x2Lb04Z4EWuBAZBU/wzPnj1bffvtt4k2Q9NN\n",
       "JPpUgXD59svPAUKqB1PZ4OCqV9aytbyBSw4by9FT41t7tzNdCYyIrFRKzY603+RNE9RoOpEqAlNW\n",
       "WsKnH33A4pNPCbnY1PbKRq5cvoa6llZuO34yc0f3i7OVHYnHDMaLFhlNYKKs4xIyBSth/WtQVww5\n",
       "g2HicTBsd4pUQ9kOGrd+TVaYx5PYt75LzoZnMTeW4socSN2EpbTsdXhIJgU6EqWra2WlJZx29MGU\n",
       "lpZyQv0y+g8eHnTMVbtquO61taRZzNx38nT2GZjd5b3xIJ4CA3rvkiYQUdZxCZmClfD5A+Csh7xh\n",
       "xvfPHzDaMQSmZc3rYR9PYt/6Ln2/vgta63FlDYHWevp+fRf2re8GNSlQMl5X1yq3rOK0ow+mpLiY\n",
       "ly6cSf8ho4KO+f6GUv740g/kZ6bx4CkzepzAgBYZTSCiqOMSFutfg4w+kNEPTGbje0YfWP8a9S2t\n",
       "NGz9OqS6Kp3J2fAsbfYcsHv6tfejzZ5DzoZng5oUKBnP37WiehdLTz6ZkpISll88m/2njA04plKK\n",
       "Z77ayW0rfmTy0BzuXzqdQd28i7o7BAa0yGgCEWEdl7CpKwZ7Xsc2ex7OmkLK6x0RH09ibiwFW6d+\n",
       "bXlGexACjenv2ocrN1JSXsmrv5vM/pP2Cjimy624971N/PPTbfxs/ADuXDw1Jpm14dBdAgPaJ6MJ\n",
       "hLeOS1rO7rYgdVwiImcwtNQYMxgPjoYqmmwDgMiPJ3FlDgRnjTGT8eKs6bDpsCuCjem9ppRCRFjy\n",
       "8zkcPHcaYyreCzhms9PFzW+s56ttVSydM5wzFozG1M2FvrtTYEDPZDSBCLOOS8RMPA6aqqGpEtwu\n",
       "HHXltNZXhpQYF4i6CUuxtNRBi9EvLZVYWuqom7A0qEmBxvReKyvaxZG/vYKvv12J2VFP3sSDA45Z\n",
       "2eDgkudX8c32Ki49bCxnHbBXjxcY0DMZTSC8dVwKvzPquGTkw7gFsY8uDZsF8y+E9a/hrNpJk20A\n",
       "jdNP3CMxLtzjSVr2OpwqDN+MuaEIV+ZAqqaeHVJ0KdiY2zKns/T0kykuq8RtSmtPknNlD/E75o+5\n",
       "87nq2e+pbW7l1l9MZt5e3RuihsQIDOhkPE0SkUp5MN6tAo89t5x95+0f8P7Vu2q47rV1WM3CHYun\n",
       "dHsECaITGJ2Mp+kRpIrAVFVWhCUw728o5c9v/8SQ3HTuWDyFQbndX4c3UTMYL1pkNNETJJEuGPUt\n",
       "rdRu+pI+AarURUqghLpIyMnNY9aceZx07BEc0L8O09qn/ParlOK5b3bxj/9tY9qwXG4+blLQCFKs\n",
       "bYXECwxox68mWoIk0gXDKzCRVpoLRKCEunApKy2hrLQEi8XCX265lkPyq7rs1+VW3Pf+Jv7xv20c\n",
       "Mq4/fzoheIg6lrZ6SQaBAS0ymmgJkEgXDO8SKZoD0QIR6uFowfD6YM7+5ckopQL22+x0cd1ra3l9\n",
       "dTFL9h3ONUdNwGYJ/jGLla1ekkVgQC+XNNFSV2zMYHyx50FNQcDHfH0w5sZiXFkdI1bKlou5Ibrt\n",
       "C6bmCtwZHSsnKmsmpqbQS7Z2rgcjIl32W1VdyaVfrGJzmbGL+thpoS91YmGrl2QSGNAzGU20eBPp\n",
       "fGmpMdq7oLOTN9KD1IIRqLpdKHQWGO+Oan/9bq9q4Yyvh7CzsolbjpsclsDEwlYvySYwoEVGEy2d\n",
       "EuloqjR+nnic39v9RZEiPUgtGJEm8Xm58crL9hAYf/2uKm7mrM9yaFFW7j15OvuNCT8HJlpbITkF\n",
       "BnSejCYWhBhdChSmDnYGUqREE7GpKC9n145tfg9e8/b73tYmblrbj8E5Nu44cQaDc9MTYms8BSba\n",
       "PBktMppuIVXyYMpKS/jnQ3/lD9fdjNXadURIKcXz3+zi0f9tY8rQXG45bhI56d27ydFLvGcwOhlP\n",
       "k/QkUmDCmR34+mBOWHIaE4f38fusy6144IPN/Gd1EYeM688VR4zvEEEKNmYs82GSdYnki/bJaOJK\n",
       "ogUm1NyTzk7eicP7+H3WWVXAda+t5T+ri/yGqIONGct8mFQQGNAio4kjiV4ihZp74i+K5O/ZMnK4\n",
       "9JWNfL2tiosO3ZuzD9xzF3WwMWOVD5MqAgNaZDRxItECA4ELT/lSUlRIY0NDhyhS52d31AtnftaH\n",
       "bfXCzcdN4hcz/O9EDzZmpAW4fEklgQHtk9HEgWQQGAheeKq5qYn0jAymzpjFh1//QJrd7vfZVRXC\n",
       "H7+wYhbF3xY4GTWm69yVYGNGWoDLS6oJDOiZjCbGJIvAQODck7LSEo49bAHLHv0bQAeB8X32/e0O\n",
       "LvrUSp7NxbJ9CxkzbkrEY4ZyPRCpKDCgRUYTQ5JJYKDrUyCLm0ztPpgpU6f7fbYtazD/qtuXa77L\n",
       "YUKOg38c5KTPpEODRoECnTwZyvWuSFWBAb1cSizxPtMoWP+xGr+2kObt39BcVUxGhCHZaMK+ga65\n",
       "sofQ5NOPr5P3iWWPsqB/7R7lGlxuxUMfbubVVRUcvE9/rjxyPFaLCVf4vxm/dLYpGKksMKBnMokj\n",
       "3mcaBes/VuPXFtK87nXq6msjDslGE/YNJyTsaGnhtMVHtQvMwf32LNfQWl3ADf9Zx6urivi/2cO4\n",
       "9ujQdlGH+i7hkuoCA3omkzh8zzSC3d8Lv4vNbCZY/zEav3n7N9S509sdmcqWjQsjVBvqv9Ydwrp+\n",
       "+gh0HQj4bIdx7HZOP/cC9h47jgX9a3G1dXyu3CFc9spGfqwxc9Ghe3cZQYrmXcKhJwgM6JlM4oj3\n",
       "mUbB+o/B+PUtrdRXFUcdko0m7BtKSListKT94Pslv/wts+fN9xuiPuOzPmypFW46tusQdbTvEio9\n",
       "RWBAi0zi8J5p5EsszzQK1n+U43udvLEoURCsj0DXgz1bVlrCaYuP4rzTT6O5qcnvmKsrhbM+ttLc\n",
       "Bn87wMn+e0f+ZxCL30dPEhjQIpM44n2mUbD+oxjfN4oUixIF0YR9g4WpT1t8FMWFhfztsadJz8jY\n",
       "Y8wPtju48H9W8qxGiHrvICHqaN8lGD1NYEDvwk4sKRhd8hemjsWGv1hHl4qbTO0C07keDBi7qJd/\n",
       "vp6/fVnBtLwW/jzfjX1Y9IW7o/l9JKvA6FIPqSwyKUay5cEE4q7bb+KJR//uV2B2h6iLOGif/lx1\n",
       "5PiwIkjxIFkFBrTIaJHpJlJJYABcLhdbN29i7LjxHdpbWl3c9t8NfLalkpNmDeOcg7r/qNjOJLPA\n",
       "QDfVkxGRgUqp0k5ts5RSoZ170XW/ucAjwAFACzAB+B1wGdAMXKKUejOaMXo1sVguxSDRLhSiWS55\n",
       "q+qVF2zhoie+45bb/0S/6T/fQ2Cqm5xc88pafiqp54JD9mbxzMBLw0gTAMN5l7TcgeSOmQt0YUuU\n",
       "Z1olA6HOET8TkXaPmIicALweg/EfANYCw4BJwHDgfM//Hw/8S0QSU24s1YlFMl4MEu1CIZpkPFvJ\n",
       "9+SteoTSshKOvvN9Pl2zg7r/PbrHmU27qpq44Jnv2VbRyM3HTQpJYCJJAAznXdLyBpNrae06CTLK\n",
       "M62ShVCT8U4HXhaR3wNTgNOAQ6IZWEQGAfOB3yhjzdYiIscDLyil6oH1IrIdmAV8Gc1YvZIYJOPF\n",
       "ItEuFKJJxksr+Y6CZivH3vw6RZX1vHjTqczaKwu1ZUV7jeC1hbVc++paTCLc83/TmDA4JyqboOsE\n",
       "wEDXfN/FntWH3HQr4Fkm+UuC9D3TCnZ/X/9aSs1mQhIZpdQnInIQ8CJQDsxRSjUEeSwYk4BtwHIR\n",
       "mYgxM7JizGy8FAB7nIshImcDZwOMGDEiSjN6KE0VxgzFF1sWNJSFdL2+pZXmqmJUjM4CCkSwM4cC\n",
       "XS8v2MKxd75vCMyNpzBv4giU29V+ZtMnG8u5bcUGBubYuWPxFIbmhVboO5hNkV4zNVcYMxjfesC+\n",
       "fy6+RHimVbLRpciISCvQ2Sts8rRVi4hSStmiGHsAMBGYC1QD7wGDgB987nHDnvvSlFKPAo+C4fiN\n",
       "woaeizfZLs3nX21/yXh+rnudvBlR1j4JlWhqsJhyBtM3K42/XngM8yYa/+CIs5a2jMG8uLKAhz/a\n",
       "woTBOdz2i8nkZoS+8g5mU6TX0nIHkmt20D6Dga6TIL1nWmX4HLES5EyrZKRLn4xSyqqUsnX6snja\n",
       "rVEKDEAZsFIpVaCUagTeBR6nowdsGLArynF6JxEm4zXkT41pol0oRJKMV1VSRF3uBOwzTuTdqw9h\n",
       "v72y2s9skuZabq85lL9/tIUDxuZz90lTwxKYYDZFei3bbjWcvKEmQYZ5plWyEnIIW0TmASMBs7dN\n",
       "KfVMxAOLZAKrgQOBSuBDYDlwBjAbGAW8BExSAYzUIewAhBldasifSpl0PJgslpX1AxFORKa40czi\n",
       "i+9k0vTZ3PfwYx3ObGqwD+XKkgP5ZFcbJ84ayrkHjYk4RB3L6FJG/5G7w9ThJEEmQXSpW/JkROQZ\n",
       "jA/+10Crp1kppU6PdGBPv0cCd2HMHR9XSt0qIlcDZ2GEtM9USn0WqA8tMrEhVfJgujo6FqCmycm1\n",
       "r65lQ3E95x8yhsUzhwXoqftI9jyYYHSXyBQAeyulWiIdKF5okYmeniAwBdVNXPnyGioanFyzaAIH\n",
       "jI2t3yhSUl1goPsOd/sIGAJsjXQgTXKSKgKjlOK8357qV2DWFdVyzStrERHuOWkaE4cED1F3Bz1B\n",
       "YGJBqCIzDFgtIt8B7X8jlVIL42JVvIn3xsQUoaFsB41bvyYrgL8lVmdU27e+S86GZzE3luLKHEjd\n",
       "hKW07HV4+/VgPhlLQzF3nL8YZ90C9u1fi6O+CFf2ED7ZVM7t/13PQGszfx/+IUO3fUijabeN0fiU\n",
       "kvVs6lQj1OXSQf7alVIfx9yiMAl7ueTNdLXnGPkJzgbDuz9uUa8SmoayHbSsed1IHLNmIq2NmB31\n",
       "HYpae7Np2+x5KFsu4qzF0lJDzfRzwhIa+9Z36fv1XbTZc8CWB84aLC11VM25nJa9Dm/PgvVnS3GT\n",
       "ifdf/Tfn7Ndvj+uPN+zLQ19UMDW9gnvHrqZPZnoHG12ZA7vsN5hYBLKpJxf99ke0y6WQthV4xOQz\n",
       "YCOwyecr9fDNdBWT8d2eY7T3EupbWmnY+nXQkwwzt6wwBMbeF0xmlL0vbfY8MresCGu8nA3PGgJj\n",
       "7wcmM9j70WbPIWfDs0DXpyrWrP+IU49fxO2338HOGmf79TZrNn/ZPIgHv6jgkD4VPDJ+JX2ys/aw\n",
       "MZrTGiN9tqcJTCwISWQ82wkqMXwyXwM7MUQn9Yh32cskx+uDCaVMpLmxGGXL7XiPLRdzY3FYY5ob\n",
       "S40ZjC+2PKMd/yUrS2qdnHje9ZQUFfHcneczZJiRaNfigmu+svD8tnSWjKjj7qEfkmbP7vCs18Zo\n",
       "SmFG8qwWGP+EukHyImAv4A1gBrAAeDteRsWVeJe9TGJ8nbyhlIl0ZQ5GnLUd73HW4soML+PUlTkQ\n",
       "nDUdG501RrsfW0orqjnxvOspqqhh2XMvs++ceUhrIzUOuPB/Vj4uMnHJxAYumWmBrK5tjKYUZrjP\n",
       "aoHpmlBFxqmUqgTWAdOVUl8CR8TPrDgS77KXSUrnKFIo2byNYxZhaalBWqras2ktLTU0jlkU1th1\n",
       "E5ZiaamDFk/maksllpY66iYs9WvL1yu/o6Sihicef4zZ8+bjGDCNoupmzvzQwsYa4fZZ9Zw2tBzH\n",
       "gGkBbYwmYzmcZ7XABCZUx+/FwDcYS6YPgCpgq1Iq4fnNEeXJ9LLoUldh6lCiJ90ZXbKWfI/FUYU7\n",
       "PZ9iy3ByR04GYH1RHde88gO427h7eimTh+T4rSfjz8Z4R5d6g8B0e2U8EemHkfK/0VOSIaHoZLzA\n",
       "pEoeTFlpCWcsPYErrr+FBQcf2t7+v00V3LZiA/lZNu5cPIVhfTIC9NK99AaBgW5IxhORORjFpD5T\n",
       "SpUopSpFZBawEtgn0oE18SeVBMabyWv3Ofj+5e8KeejDzYwfnM1tv5hMXka0e3JjR28RmFgQUGRE\n",
       "5BZgMfAtcKeInAach1Gi4ZT4m6eJlFgJTChLhmjuaReYwgJeunYx+9c9Q+unH/Ln2kN5/kcn++/d\n",
       "j2sWTSCzpZS0LbHdqBnVqQLuCljfxZK7ly3HgxHM8XsaRoGqXwOHAm9hlF6Yq5TSa5QkJZYCE+xc\n",
       "52juqd+1vl1gXvn9AvYbm0dj+nCu+Glvnv/RyYnjbNx4zCQyW0pjer50qHb7o11guipdGu8zzlOQ\n",
       "YMulVk+tF5RSu0SkFrheKeWOv2maSIjlEimUc52juad/yzYWHPwzloyuZ87YPKrMA7h0wz6srs/m\n",
       "smEbODWvkhrTfjE9Xzqcd+tM+xJpfYDSpRDfM85TkGAiM1RE3vH5OR94Szz1OVJ271IPJdY+mGAl\n",
       "KCO9p7SiGqfTycjcJm64/S/kv3MB290DuGDdREocafx53CYO71uNuaE45DHi8W6+dPDBBCttGuha\n",
       "LySYyISXEKFJGPFw8gYrQRnJPaUV1Zxw3vVYzSbee/IuAFa5x3Lxmgm4MfHI5A1Mz2lAWnYn/YUy\n",
       "RjzezcseTt5gpU0DXeuFBPTJKKU+DvTVXUZqAhOvKFIoCWnh3FNWtIsTzrue4rJK/nzhCbQNnsFn\n",
       "mys468fpZIqTJ8d9zvSs2j2S/uJRBjTUPv1GkQIldPbSZM9A6BMkU5x4h6ljFV2q3LKKpSefTHFZ\n",
       "Jf++92pmLFzCS5sVD36wmXGDsvnL/ophhW91mfQXjzKgwfoMGKYOFEHqYdElfUxtLxaZVMmDAbjk\n",
       "3NN5/60VPPbccmbNnc8jH2/lxZUF7D+mH9ccNQG71Ry8k25E58HspltFRkSyMRLwNiml6iIdNJb0\n",
       "VpFJJYEBqK2pZvvWLUyYOpM73vyRjzeWc9z0IVxwyN6YTYk9i7ozWmA6Etd6MiJylIisEpF/eTJ/\n",
       "1wL3AGtFRDuFE0SqCExZaQk3XPF7HC0t5Ob1YdSEaVz+4mo+3ljOuQftxUWHaoHpDQSLLt0NnIlR\n",
       "5uF14BCl1HoRGQGs8HxpupFUEhjvVoGTT/sNecPHcuXLayita+H6oydw8LgBwTvpZrTAxIdgImNR\n",
       "Sn0KfCoityil1gMopXaKiP7T6Ey4Dr8wz9TxFZhYOWSDEcou7M7j7GIwp/7y9Pai36b+o7jw6a9w\n",
       "tzpYlr+c6ZvbqLOGV+M3UkLtt1sFpoc5hoMRbFtBnohc7TkLKd37/yJyDZAXf/NSiHDTyQtWwucP\n",
       "gLPeOO/YWW/8XLDS7+2dBSYW6f7B8Nb4ldZ6XFlDkdZ68lY9gq3k+y7HKSsp4pT/O4GSokKWPfcy\n",
       "jvx9uPS578hoq+XpoS8xvZ+C1nr6fn0X9q3vxsxWf4Tab7cLTC/bdhBMZB4ArJ6vh3z+3wI8GF/T\n",
       "Uoxwawevfw0y+hjnHJvMxveMPkZ7JzovkUKpPxtNfVsvodT47TxOZZMbR5ubZ+65kkL7SG74zzrG\n",
       "Wiv597DljM4xh1XjNxxb/RFKv92+ROqFNaYDLpeUUjd1lyEpT7BU887UFRszGF/seVBT0KHJnw8m\n",
       "Vun+wTA3FuPK6jiNV7ZczA27/9X1jtPQ2Exmhp0Je4/kk+fv55/r4On3N7PfXv140HEvaZ1swZaH\n",
       "uaEoZrb6I1i/CfHBhPv3pAcQtPymiMwXkY9EpF5EqkXkDRGZ3g22pRbh1g7OGQwtNR3bWmqMdg9d\n",
       "OXlDqT8bTX1bL6HU+HWn51NWXMgRv/0jf318OQ4X3Pp9Gk9vz+G4aUO4+bhJpGX3DavGbyS2+iNQ\n",
       "vwlz8vbCGtPBQtjzgMeA24GBwAjPz89roelEuOnkE4+Dpmpo8tS9bao0fp5oVDQNFEWKVbp/MEKp\n",
       "8buLwZxw0e0Ul1UydcpkLv6fifeK0jhnTj8u+pkRog63xm8stg0E6tc6fHbioki9cNtBwGQ8zw7s\n",
       "G5RSX3RqPwi4QimV8FyZpErGi1F0KZQwdTJEl3aHqQt54E/X80T1OIqaLVx9yGAOmj6uQz/RniAZ\n",
       "KZ37tQ6fTb+ho6PuNypSLLoU14xfEdmllBoe7rXuJKlEJgakSh6M0+nk2J/tT+GuXdz8j5d4erOJ\n",
       "NrfiluMmMXVYXqLN84vOg4mMeNf4bQ5wrSnSQTX+SRWBAbDZbJx3yR+oSR/CP9Yr8jLM3LN4MiP7\n",
       "ZQZ/OAFogUkcwURmpIhs9NMuGMXFNTEiVQSmrLSETT9uYP+DDoG9F/Dk+5vYe0AWtx8/hb6ZyVPo\n",
       "2xctMIklmMjo0wi6gUQJTLhnKnl9MNVVVfz2obdYvqqUeXv15bqjJpJui24XdTQ+mUDvEXG5hmD0\n",
       "olIP0RKsaNWOQF/dZWRPJpECEyyb15d2J29JGQdc9STLV5VyzLTB3HLc5JgITKQZv4HeI6jARJp5\n",
       "G+jZXpjRG4xgR6JsAvx5hgVQSik904mCRC6ROmTzgpHN62nvPJvxCkxpZS1zrnqG1RWKsw4YzZJ9\n",
       "h+Ot9xwN0RQK7+o9+ux8i8wpB3T9oG/mLYRX8DvQs6ALiXci2HLpE+BA4B1gGRBdCqamnUT7YELJ\n",
       "5vXywr+fpKy+lYkXP0ZBI1yzaAI/mxC7XdTRZPz6ew9rZl8ym4oDPxhN5q0uJB4WwZZLZwCzgU0Y\n",
       "SXi3AcNitVwSEZuIrBeRf3p+vlhEdorITyJyZLT9JyuJFhgILZvXy+GnnMvoc/5Gk9vCn0+YGlOB\n",
       "gegyfju/h81iItNd3yFz2i/RZN4GerYXZvQGI+i2AqVUrVLqPqXUVIzZzMUi8rWInBeD8a8GtgOI\n",
       "yBjgfGAScDzwLxGxxmCMpCIZBAaCZ/OWlZbw65OO4z+fr+PS51eTnmblgaXTmTY8L+a2RJPx6/se\n",
       "NjNkumo7ZE53STSZt7qQeFgEFZlOVHu+coAg/1QERkQmAPsCL3iajgdeUErVe+rWbAe6Lq6SgiSL\n",
       "wAA4B82gZvo5KGs25oZClDWbmunn4Bw0o90Hs74pi79+UcHwvhk8uHRG3HJgXNlDaBy9EGXJwNRU\n",
       "jrJk0Dh6YUjRJe97WDNyjSWSLRvmXxiwLg9g+EfGLQJLhrGUsWQYP4fiNwn0bDT99lCC1vgVkQyM\n",
       "c6/PARqBh4HlSqnWiAc1vIXvAL8DFni+GoG1Sql/eO55AXhWKfWKn+fPBs4GGDFixKwdO5I/0JVM\n",
       "AhOIstISTjn+KBpGHkDG7OOZO7ov1x8dfYg6nug8mPgS14xfEXkI+DnGGdi/9lbGiwHnAh8ppTaL\n",
       "yAJPmw3wPf7WDbj8PayUehR4FIxtBTGyKW6kisCUl5ZyygnH0DR5MRnjFnD01MFc/LOxSVeH1xct\n",
       "MMlPsOjS7zA+6OcAZ/uEK70h7EhTPH8JZIvISUBfIBO4H/CdUw4DdkXYf+TEOJEqXgITj82PFX0O\n",
       "xHroxdhzh3PmgtEsnTMcS0NxTDYuhpv4FwohCYxOjEs4waJLJqWU1fNl8/myRiEwKKXmK6WmKKWm\n",
       "A9cDrwBvAEtEJENEJmKIz6pIx4iIGCdSxVNgYllas7gtl61VzVz1QTWuPsO5ZtF4Tpk7AktDcUzK\n",
       "Yoab+BcKIQuMToxLOMHqyTwcybVIUEqtBJ4G1gHLgbNUd588F8PSiPFcIsWytGZxk5Wj7v6Uk9fM\n",
       "pbQtg7+NW8PPJgyM2Ti+YwUq4xkOIS+RemGpy2QkWHTpbBFxikirz5dTRFqBs2JhgFLqcaXUmZ7/\n",
       "v10pNVopNUEp9Vks+g+LpgojccoXW5bRHgbx9sGYmitQ1o6RHmXNxNQcup3mxmKKG8wc87fVtB52\n",
       "FTnpZh6fvJZ5lh9jOo53LGXL7diPLRdzY5CEOT+E5YOJ0Z+nJjqCicwyn+WR77LJCjzeDfZ1LzFI\n",
       "pOoOJ28sylUWOrI55oldtB50CSPSW3h25k/sbSnZo7RmLMpihpP4F4iwnbw6MS4pCCXjN+xrKUuU\n",
       "iVTdFUWKtlyl2+3mxLfttM07g0nWIp6d9RMDVekepTVjVRYzlDKewYgoiqQT45KCcJPxejZRJFJ1\n",
       "Z5g6muS1VpebO9/6icbRBzM3r54nZu8gp3lXh2S8WIzjS6DEv1CIOEytE+OSgqDJeMlOMpTfTJU8\n",
       "mG27Crn6pVWUurM4Y8EoTpkzIia7qOOJzoNJPPEuv6kJQqoIzPqtu7jg8c9QWf05Z14/lswdmWiT\n",
       "gqIFpmegRSYYAZK5ohWYaBLUwknG+2rDdq5a/gNuew7nTk1jyYGTQ+6ju+7xe6pAf59TBXQlupRF\n",
       "+2QCESCZKxYCE2mCWjjJeO98v4WrXvsJV1srl8/LZckRC0Luo7vu6Xw9Q5z0K3xvd9KcrkSX0miR\n",
       "CUQXyVzN27+JeokUTYJaqElyK9YU86cPdtFWW8L1hwzi6EP3D6uP7rrH93p6mo2cvL4dk+YCJdXp\n",
       "hLukRy+XAuGnAloTdhqqiiDKc8fCqUzXmWCV5JRSPPbpVv79dQFzRvXl0l9NYWD/fmH10Z33eK+n\n",
       "2yzkpntKCPlWk9OV6FIaPZMJRKdkriZnG/V1NVGf0QzRJagFSpJrdbm58ZVV/PvrAqbmOrn1F5P3\n",
       "EJhgfXT3Pe70fDJw7BYY6Jg0pyvRpTRaZALhk8zV5HBSX1sVkzOaIboEta6S5CpyJ/P751byv211\n",
       "NH7xHKdOysBi9v9HHKvztGNxj3X4bHKkqeukOV2JLqXReTLBqC2kefs31FcVx/SMZohtdGlXxkQu\n",
       "/W8RBdVN1L33MA/fdCmz580Pq49ERJfaw9TBIkQ6upQwdJ5MnKlPG0D5kMOi9sH4wzloRsQ1VVzZ\n",
       "Q9qPC9lc1sCVy1dTVVtPzRt/4dG7bmH2vPkxqeHiO0409/ijx+bBaNHrgF4uBSAVEu2+2V7Fxc+t\n",
       "wmwycYB7TQeBCRQij0VNmlDxN1bfwvfp7/bshg4Whk6lEHay2ZME6JlMF6SCwKxYU8w9725kaLaF\n",
       "u5bMpH/2fu3Xgh3eFs2BauHSeSx7Vh+yTfbdB54FO2gtlQ5Ti+bQuB6Knsn4IdkFRinFss+2cdc7\n",
       "G3EXb6Dgycvok96x0HewGi6xqhUTCr5jtYepfeu6BKv7Euh6stWMSTZ7kgA9k+lEsgtMq8vN3e9s\n",
       "5J31pci2LylbcT/LnnkRi6XjH6U3RO6dyUDHELk3rOydXUBktWJCwTuWPavP7jC1vxC191/9cK8H\n",
       "utbdBLO1F6JnMj4ku8A0ONq46uU1hsCse5OyN+5l2TMv+o0iBQuRx6pWTCg4BkwjQzWRa2oOP0Qd\n",
       "7HqyhbCTzZ4kQIewPSS7wJTVtXDVK2vZWdXEiPIv+PqZe1n23MsBw9TBokuxOPEgFLLtVsPJG2mI\n",
       "Otj1ZIvmJJs9UaJD2DEgkMCE80Hs6t5w26GjQKxnby7YPJNml4k7F09hfL+ZbD15IVOmBQ5HuzIH\n",
       "4hg0s71/V+bAjtcjDD2Hw+4w9dDoPmi5UT7fnaSSrd1Ar18uBROYUMO8Xd1rK/k+rHZzfVGH8POn\n",
       "bRM5Y90UcDSw10//Znw/K5lZWUEFpjtD1F0Rch5MNGFfHTJOenq1yARbIoVzJEhX92ZuWRFWe1rZ\n",
       "6vbw86u1+3DRjxMYYG2m9sWr+PA/z7Nl88aQ3i1Wx5lESliJdtHspNa7sJOeXisyofhgwgnzdnWv\n",
       "ubE4rHZTcwWmhmL+XjqZGzePYUpGNQVPXk5xwS5euvxnTJ0emgOxO0PUnQk7kzeasK8OGSc9vVJk\n",
       "QnXyhnMkSFf3ujIHh9XuSMvn2pIDeaRgOIfnFrH20T9QXFLGC1cdzdxZ00N8w9gdZxIuEW0ViGYn\n",
       "td6FnfT0OpEJJ4oUTpi3q3sbxywKub25sYFLV+bzesVAzuu/hrPTP0a523jhqqM5cHRGWEeIdGeI\n",
       "2kvEe5GiCfvqkHHS06tC2JGEqbsrulRCfy79JpftNa2ct2AY/zeshqytb6LqCpGcoRFtbuyuEDXE\n",
       "YLNjNGHfHhYyTjaiDWH3GpFJ5jyYLeUNXPXyGpqcLi45YDB/Ou8kFi46hj9ce1OiTQuJHrubWgPo\n",
       "PJngeOrBNFcVkxGjf81jOUP4dnsVN76+ngybmRsOH8bVpy+mpKiIgw9bGJWN0D3JeN0mMKmUjKfp\n",
       "QM/2ydQW0rzuderqa2OWKxLL/JO315Vw1StrGZRj5yYfgXnsueXsO2//4B0EoDtKPXSrwKRKqQfN\n",
       "HvTomUzz9m+oc6fHtJxBLEokKKV46ssdPP75DmaNyOPaReNYuujgmAkMxL/UQ7cukVKp1INmD3qs\n",
       "yNS3tNJcVYwKUkk/XEKpzh+INpebe97dxFvrSvj5pIH8/vB9sJpNXHLFNfTp2zcmAgPBT0OI5j26\n",
       "3QejTytIaXrkcsnr5I1Hrkg0fTY62rj6lbW8ta6EX80byW+m5/LJe28BsHDRMTETGAh+GkKk75EQ\n",
       "J68+rSCl6XEi4xtFikeuSKR9ltc7uOT5VXy3s5o/LNyHRXvbOW3xUVx+wTnU1dZEbE9XxKPUQ8Ki\n",
       "SKlU6kGzBz1KZDqHqV3ZQ2gcvRBlycDUVI6yZNA4emFU0aVI+txa3sAFz3xPUU0LdyyewqwBwqnH\n",
       "L6KkqIh/PPU8Obl5EdvTFc5BM6iZfg7Kmo25oRBlzaZm+jnt0aVw3yOhYercoTBuEVgyjGWQJcP4\n",
       "2bvbuatrmqQgYXkyImIH7gcOBtKA+5RS94rIxcBlQDNwiVLqzUD9ePNkIs2DiUVF/0B9fekYxQ3/\n",
       "WYfdZuaO46eQoxraBeaJZY+yYIQ1bslysQq16zyY3k20eTKJnMlkAm8D44BZwJUichBwPjAJOB74\n",
       "l4hYu+7CIBqBifTQ+1D6+vijt7li+Q8MyLHz0NIZ7D0gi9dffrFdYA7uVxW3UgyxCrVrgdFES8JE\n",
       "RilVqZRargwqgF3AgcALSql6pdR6YDuGAHWJW6mIM3mjOfQ+UF9KzDxaPplrCvdjVnYNfz15evsH\n",
       "9fRzL2DFx1+yYIQ1rqUYYlHqQQuMJhYkhU9GRCYDdiAf2OFzqQDY43BoETlbRL4VkW9LyyIPRwer\n",
       "6B9JX61u4ebNo/nbzuEclV/G34e/R1NtBaf84kg2/rgBEWH4yFFxL8UQbf9aYDSxIuEiIyL5wFPA\n",
       "bwEb4Pa57AZcnZ9RSj2qlJqtlJrdt1/kocpoDr3311dTcwOXbNiHV8sGcNawAm4dsZKy1ixOPX4R\n",
       "a1evoq6muv3+eJdiiKZ/LTCaWJLQZDwR6QO8AVytlPpGRI4EfMMCwzCWUWERqsOzccwi8lY9QhvG\n",
       "DEactVhaaqgZf3LYfe0YfARXrtjBJkcON/X/mBPSN1Ba4OKYB9ZRUla5R9Fvx4Bp5Kz+F9bqzZic\n",
       "9bht2bT22Zu6aWeE+7p+CaV/f47qtFFzOgpMT94X1JPfLYlI2ExGRHKA14FbfSJI/wWWiEiGiEwE\n",
       "+gKrwuk3HIdnsDBvqH1tq2jk7Hda2Nmay0ND3+WkzFWU1bk58p6vKC6r8HuqgLmxFFv1JlBOlCUd\n",
       "lBNb9SbMjaXhvG7Xv4cg/ftzVPdb+yj9a9fu7qQn7wvqye+WZCRyJnMRMAO4T0Tu87QtBJ4G1gEt\n",
       "wJkqzBh7uHtyAh16H0pf3+2s5ob/rCNdWnl4/3r26X8wdRwMLQ7GjC7mL9cdzxQ/x5ZkbllBa/aQ\n",
       "joevtVS17y2KlmD9d97bZM3KJ91lhfWvwTCPr70nH7nak98tyUiYyCilbgVu9XPpds9XRES7tyic\n",
       "vt5dX8pf3v6JYX3SuX/STgb060tZZTX2NBs5WZksu+tqTE3lNPjpO9jeomgJ1r/vdZvFRGaaBdx5\n",
       "UFOw+4Fge4ZSmZ78bklGwh2/sSaWDtUu6/ba83n6yx3c8eaPTB6aw/1LZjCgbx/KigtZ/LvrOeuq\n",
       "u1BKBRw3lk7nSPr3Xm8XGICWGsjxGb8n7wvqye+WZPQ4kYnlfiV/fanmem77aRCPfbadwyYM4M7F\n",
       "U8myW9jFYE648FZKSsu58qgxpBd+hqWuoMtxg+0tspV8T5/PbiP/nQvo89ltYScIBuu/ccwi0tpq\n",
       "yXTVgtsFTZXQVA0Tj9vdSU/eF9ST3y3J6HEiE8v9Sp37alAZXLRxEm/8WMepc0dw1ZHjsVlMlJWW\n",
       "sOTUX1FcUceL1x7P/AlDUYAE8CYFcjrHIhM5mFM7bdQc0g+4BGzZxhLJlg3zL9ztj4GevS+oJ79b\n",
       "kpHyNX6nTJ+pXnv3k7iPU9ng4KpX1rK1vIFLDhvL0VN3i9avTzqO777+jGfvuow5s3d/SMVZj7Jk\n",
       "0DTmyLDG6vPZbUhr/R5OW2XNpnr/a6J+F50HowkHXeO3G9he2ciVy9dQ19LKbcdPZu7ofh2u3/zn\n",
       "e2n86klmz+oYFYrU4RxPp7AWGE130+OWS7Fm1a4aLnz2e9rcivtOnt4uMGWlJTx4z59xu92MHL0X\n",
       "s/edGzOHc7ycwlpgNIlAz2QC8P6GUv701o8My3Tz1xk7GdhQgyNjGsVNJk5bfBTFhYUcddzxjB4z\n",
       "FseAaWRuewcXxgxGWhuNQ9yG7Ndl/12VmQglEzkUfLOV03IHkjtmLh0TqkNAZ8VqokTPZPyglOKZ\n",
       "r3Zy24ofmZrbzD/2q2Zgv75IWxP1377Iab/4OcWFhSx77mVGjxkLhO9wDuTcDea0DQXfbOW0vMHk\n",
       "WlrDz2jVWbGaGKBnMp1wuRX3v7+J138oZuGwNq6b0og13cj4Lalr46Q/PkRxWRXLnv/PHlsFXNlD\n",
       "Qj6xINhpAoEykUPBm61sz+pDbroVoy4Y4WW06qxYTQzQMxkfmp0urn11La//UMzSOcO5eWIRVvvu\n",
       "cgk/bd1JRU0Dz915/h4CEy6xLDPhD1NzBfbMXI/AeLBlGcueUGmqMJ7xJdw+NL2eXj+T8fotqmqq\n",
       "+P33Q9hUZ+LSw8ZyzLQhsOUnpLURh9ixWa0cOGca37zwZzJz+tEU5biuzMGYG4owuRzGMsSSgduc\n",
       "FrOM37TcgeSaHbTPYCD8jFZvVqx3BhNJH5peT6+eyXj9FturHZz+9RB2NAj3TCvhF3sZ1x0DplFe\n",
       "VMDCX17G8jc/Rpz15JrbojrtwEvz4DnYqjaCoxrM6eCoxla1kebBc6LuO9tuNZy80Wa06qxYTQzo\n",
       "1SKTVraabxr6cNbneThdwt8PbGW/YZb2EpXFTSZ+cfVj7CqpYEQfS0xOO/BiUm00jloItlxMLVVg\n",
       "y6Vx1EJMqi2qftvD1LHIaNVZsZoY0CuXS94l0kcrf+C6gjkMzXBxzwIXQzJBKSOBrqy0xAhTF5ey\n",
       "7Pn/MGne/KiXSL6YmitwZQ+mVTkxOetw23JwZQ8OuTxmSAWnvEeGREMs+khWdHi+W+h1MxlzfREZ\n",
       "W9/hqR8VV+6ax9TMGp4a8wHDTFWAkUBX585sz4PxV3AqNphIK/4KcTlx2/IQl5O04q8I5Y8kpIJT\n",
       "msDo8Hy30etmMuaS1dyxaRAv70hn4eBmbh/4NRazQtVsxWm2YnbUYxl1OMeduIS5++0fJ4ExMClo\n",
       "QwEKhcIc4jaykApOaQKjw/PdRo8SmWD1eJtbXVz/hfBpeTq/3KeN300yQc1ILMXfYC5bQ0llPQW5\n",
       "sxiTM5TzL/1DnK110zxkLta6HYijFpWWQ/OQuaD2qJu+ByEVnNIERhet6jZ6jMh4I0WutGyjHm9r\n",
       "I5nb3ml31FY1Orn6lTVsLrfzx8kNLN7Hiqm5CmvtNtoy+7NLDeTYG1/E6XyG9z6cjbnfqLja607P\n",
       "R9qacAzac9d2MLx7m6xZ+V0XnNIERofnu40e45MJdJjZzsomLnjme3ZWNnHbz4fwf4PLEWc91pqt\n",
       "KBHKqho49oYXKSqv4YHrziW7ZkPc7Y2muFZIBac0gdHh+W6jx8xkuqrHu6qgjj+89T0Wk3DvydMZ\n",
       "Nyibxvos0spWY24ootCZw7G3vU1RRQ3P3Hctc6aNi6g8Q7h49zqlla3G1FSOOz2fxiH7hRQeTxs1\n",
       "h/Q+GYYPpqbAmMFMP037Y8LBG54v/M5YImXkw7gF2h8TB3qMyHjr8XpPFgB4b0crN60awKBcK3ee\n",
       "MIXBuelAxz1Gf/7zw+0CM3f6BMRZH7MD1oIRzl4nL+15MNmztKhES08OzycRPUZkfEstuC2Z/Psn\n",
       "Nw9uyGHKIDu3LJ5Bju8eHp9nbjnraE475iAmTRzXvmQJVJ6hu/DnxM7oPzK8ejA6D0STBPQYn4x3\n",
       "+dFmzuDulW08uCGTQ/fK4i8n77uHwJSVlnDJuadT5UrHNe4oJk2YEHU94Fji71C5voXv098dxsZE\n",
       "nQeiSRJ6zEwGoME+kFvXDOeLXZUs2Xc4Zx4wGpNIh3vKSks49fhFlBQV8duzzyN35uywlyzxpvOh\n",
       "cvasPmSb7OGXaXC5oOxHw6mZlgOZA3UeiKbb6TEiU9Xo5JpX17KptJ6LDt2bX8zY84PkKzDLnnuZ\n",
       "aTMjro0cE7rK6/F1YqfbLEa5BmUOL4ejchNU74C0TLDnQlsLlG8wZjQaTTfSI0RmZ1UTV728hqpG\n",
       "JzcdO4n9997TcdtZYLyZvMES+OJFoLwerxN7d8Epws/haK4Bkwmsnrwbawa0NhvtXrTPRtMNpLxP\n",
       "ptnp4qJnv6el1cW9J0/bQ2DM9UVkbHkT65rnSFMOnlj2aAeB6ez7yNz2Dub6oj2ez1r7FBlb3uxw\n",
       "LRoC5fU4BkwjQzWRa2qOPIcjPQ/cbmhtAqWM72630Q7aZ6PpNlJ+JlNQ3cS+6VbuWDyFIXnpHa6Z\n",
       "64twrn4FW78BDN1rPO8/diPW1ioa64twZQ/Zw/ehbNm4MASgKXsI5voisje8iDgqMblacZut2Co3\n",
       "Uj/hpKhnO4HO2c7oP5LsfsdGl8PRbyxY043nW2oMn8yA4ZAzzLiu9+5ouomUFxm71cz9S2d0LDPp\n",
       "oWb9R5x4yX0cOHcGt11+JmLPxWUytYtIoA86QPqODzHXbUXZ++JOy0RcLZjqtpK+40MaJp8ald3+\n",
       "8nqktdGoaJedBkSZwzF0JjSUwIDxxp4cZ0PH2VBTBYgZyr7e7RjuMxqc2mejiS0pv1wa1ifdr8CU\n",
       "lZZw4nnXU1RezbGH7d/erqyZ7TVbvB90X3zPSrKV/4BKy0NZ0kEEZUlHpeVhK/8harv9bSvIUE2e\n",
       "Y0tiQNCCUwI7PweXA+x5xvednxvtGk0MSfmZjMieH4p2J29FjXF07PQJu+/3EZFgZyUJgrtT3wow\n",
       "xeCD2HlbQVruQLLHHBbbpUqgjNYOvzfVRbtGEz0pLzKdcbvdnLH0BEqKinji8ceY368Kl7MeZc3E\n",
       "XFeArfonWrNHkLHlTRwDpgXcP+ToP4X04q9pEwGzHVwtWFpqYlKHF3ZvK8i2Wz1LpG5EuWHEfKje\n",
       "Bi21xnJpxPyQSk1oNOHQ40TGZDJxxfW3kKEaWDDCCtX12OoLQQRTSzXOvuNw5QzrEDJuGnOk376a\n",
       "Rx6CubkCc0ul4Ty12HDm7UXzyENiZm/Cjo7NyDciSsN9BNNRZyyrNJoYkvI+GS9lpSX897WXATho\n",
       "1ngO7leFtDXR1ncszvzxuwUmd8QeIeOucGUPoWH8SbQM2Q9n/0m0DNmPhvHRR5a8JPRsal3qQNNN\n",
       "9IiZjNcHU1ZSwrz9D2B47Z6haZQLS1OZITIefCNJXRHJTulQSKjAgC51oOk2kk5kROT/gD8BLuB2\n",
       "pdRjge5va21tz+R97Lnl9Mvvj6lkz9C0Oz1/D0HxdQJ3JwkXGC+61IGmG0gqkRGRbOBuYB6GyKwS\n",
       "kdeVUl1ON7Zu2YTFbOGx55az7zwjVO0vB6UtYwA2R7VR4tJPJKm7SBqB0Wi6iWTzyfwc+FgpVaiU\n",
       "KgE+AH4W6IG21tYOAgP+c1DEZKF+wikoS0bCyjpogdH0RpJqJgMMB3b4/FwA7FEdW0TOBs72/OhY\n",
       "cuwRexw4ZDNjzbJJptWEpdVNW4NTNTpdtMbF6tDJB1LptPpUsjeVbIXUsndcNA8nm8jYoEP+mxtj\n",
       "2dQBpdSjwKMAIvKtUiqxNRtCJJVshdSyN5VshdSyV0S+jeb5ZFsuFQO+nshhwK4E2aLRaGJAsonM\n",
       "O8DPRWSAiAwC5nvaNBpNipJUyyWlVImIXAN84Wm6TCnVGOgZPMumFCGVbIXUsjeVbIXUsjcqW0Wp\n",
       "EA9g1mg0mghItuWSRqPpYWiR0Wg0AIhIuojsE+t+U1ZkROT/RGSbiGwWkdMTbU9nRMQuIo+KyEYR\n",
       "2SEil3raLxaRnSLyk4j43/6dIETEJiLrReSfnp+T2dZcEXlORApFZIvH9qS0V0R+LyKbPH9fz/e0\n",
       "JY2tIpIjIq8CpcAffdr92igid4pIgYisEZHgx5gqpVLuC8jGCG0PBQYBJUD/RNvVycZ+wAkYpeby\n",
       "PX+ABwEbPfZPBIoAa6Jt9bH5RmAF8E9gTJLb+iRwref3a09We4FRwHYg0/N3ohaYlEy2AlkYmfVn\n",
       "Av/0tPn9fQKHAp9iBI0OB1YF6z9VZzJhbz/obpRSlUqp5cqgAkMUDwReUErVK6XWY/zlS4oDrUVk\n",
       "ArAv8IKn6XiS11ZvesPtnt9vC8lrrzfL3I3xwawHFpFEtiqlGpRS7wNtPs1d/T4XA48rpdqUUu8C\n",
       "/T1/Hl2SqiIT0vaDZEFEJmP8a5tPEtotRg3T+4GLfZqT+Xc8CdgGLPdM5e8iSe1VShVizBC/BN4D\n",
       "TsFIMk06WzvR1e+zc3shQWxPVZEJaftBMiAi+cBTwG9JXrvPBT5SSm32aUtWWwEGYEzhLwRmAvsD\n",
       "x5KE9opIDoawXAzcA1xOcv9uvXRlY9i2J1UyXhgUAwf7/DwM+CoxpnSNiPQB3gCuVkp943GeJeO2\n",
       "iV8C2SJyEtAXw39wP8lpK0AZsFIpVQAgIu9i/EVPRntPA35QSn0EfCQix2P4EJPRVl+62uLTuX0I\n",
       "xiynS1J1JpP02w88/4K9DtyqlHrT0/xfYImIZIjIRIwP9KoEmdiOUmq+UmqKUmo6cD3wCoY4Jp2t\n",
       "Hr4EJorIEBFJAw4DGkhOe1uA6SJi9dRL2gdj2ZSMtvrS1d/V/wK/FhGziBwObFRKVQXqKCVnMiqy\n",
       "7QfdzUXADOA+EbnP07YQeBpYh/GX70zlceUnG0qplSKSlLYqpRpF5ELgXSANwxF5t0dwks3epzEi\n",
       "MluBZuAJpdRnyfS79Yjf9xiRJLuIHAychZ+/qyLyCkaUdCtQibEUDNx/cvw5aDSankqqLpc0Gk2K\n",
       "oEVGo9HEFS0yGo0mrmiR0Wg0cUWLjEajiStaZDQaTVzRIqOJGhHZLiLDEm2HP0TkN97SFZrEoEWm\n",
       "FyIiylOHp0BEvhCRoxJtU2dE5HERKRGRrSKyVkQOSLRNmshIyYxfTdS4lFJ7A3hSxp8SkSyl1PMJ\n",
       "tqszlyulnhaRQ4F/AOMTbZAmfPRMppfjqRVyCvAnaC/B+LCnktsmETnH036wiLznfc4z0zjNp6ul\n",
       "nqp6W0TkEM89h3qqp20XkedFxORpbxORP3ru/VZEBgYx8xOMDXqISKaIvOl5dq2ITPGx5y4R+coz\n",
       "Azqpcyci8oheOnU/WmQ0KKV+AtJFZABwJcYMdx9gHnCZiEwNoZt+SqmJwBnAvzxtVRhlGPbCqBB3\n",
       "oKfdDBQopcYAP3qeCcRvMDYVglEJ7xrPsw8Dl/ncN9Ez3mnAbb4diMgZwFjgdyG8iyaG6OWSxosF\n",
       "o4rbIuAMz4a9ShFZjlFW44cgz/8LQCn1kWfHcT9gJ8ZGu2nACHaXCFDAi57//xjo6rjWP4vI/cBq\n",
       "4DhP/w0iMlKMus77AnU+9y9XSrWJyMfASJ/2acB+wAFKqUSfh97r0DMZDSIyEyhVSlVjiI270y0u\n",
       "jNKMZp82a6d7fEs32jF2HK/wPHsd8BHGLATA7fNhb+3Ury9/BCZglBmY47H1XOAcDB/NbT59AjgA\n",
       "PH379tmAUSMnYJlITXzQItPLEZFpwOPsrlL/LnChGPQFfoGxVNkBjBeRNBGxY8wMfDnJ098JwBal\n",
       "VBMwGXgO40O+fyT2KaVKMZZTfxORdE+fHyqlVmPUeg6FLcB5wGueSoWabkQvl3onZhHZjDHj2Ab8\n",
       "Xinl9XncDPwN44PZDNzi8dkgIk8Bn2PUGNnYqc9+IrIeaAJ+7Wn7E/AdsAFjyRMRSqlvReRt4CZg\n",
       "GfCCiPwKeDuMPlaIyHTgVRH5mVLKEak9mvDQ9WQ0Gk1c0csljUYTV7TIaDSauKJFRqPRxBUtMhqN\n",
       "Jq5okdFoNHFFi4xGo4krWmQ0Gk1c0SKj0WjiihYZjUYTV/4fTDYt/6TLTP8AAAAASUVORK5CYII=\n",
       "\"/><img style=\"margin:0\" align=\"left\" src=\"data:image/png;base64,iVBORw0KGgoAAAANSUhEUgAAARkAAAEnCAYAAACdYDfKAAAAOXRFWHRTb2Z0d2FyZQBNYXRwbG90\n",
       "bGliIHZlcnNpb24zLjMuNCwgaHR0cHM6Ly9tYXRwbG90bGliLm9yZy8QVMy6AAAACXBIWXMAAAsT\n",
       "AAALEwEAmpwYAABN2UlEQVR4nO2dd3yb1fX/30eybNnyip3thBACmZBFgABhl1BCgbJaVlsKlN1C\n",
       "W0Z/7A0FSimUlW/LKLRAKQUKDS2jhLZQRggJZBBCtoc84iXLQ+v+/ngkR7a1lyX7vl8vv2I9z3Pv\n",
       "PVLsj+8999xzRCmFRqPRpAvTYBug0WiGNlpkNBpNWtEio9Fo0ooWGY1Gk1a0yGg0mrSiRUaj0aQV\n",
       "LTJDABEZJyKT/d+PFRHJwJijRGS9f7xzRESJyMX9ntndf704hv4KRORYEbk7xL3jRGSNiDhFZLmI\n",
       "TAnxTMCGb/lfPyciP0jmPWpSgxaZocEE4G8iMhN4G5gqIh+KyCYR+dL/9ZWIrAMQkQki0iEiq/xf\n",
       "3WG+7xCR3cOMeTfwoFLK7n/tBG4VkfJ4jReRQ4EmYClwfr97Y4E/A9cDY4BNwOP9nikCrgOagy7/\n",
       "GLhDREritUeTWrTIDAGUUp8AvwFWAlcppTb4bx2llJqulJoOHAR4gpqtUErNVUrNBbaG+X5FqPFE\n",
       "ZBSwBHgq6PKX/vFvTuAtfA3sA3wvxL0ZgFMp9YpSqgP4K9B/JnMl8HfAEbiglGoCXgN+mIA9mhSi\n",
       "RWYIICKzMf5y1wM1YR6zAO6g1wsCMxagO8z3C8L0dRTwX6VUV7/rPwUuEJHpYex8P7CcCUYpVauU\n",
       "2hpmrFWARUROExELcCHwclCf44ALgNtCtP07cGyYfjUZQovM0GAKxizgt8AJYZ6xAj3+79uBy4Jm\n",
       "LH8F5gNHAk8EXb8MaA3R1xyMWUsflFLrMJYyvw5lgFLqYKXU67G9pd42LcBi4DFgO8Zs5ZqgR24H\n",
       "fqOU2hmi+Uq/rZpBRIvMEEAp9TKwBlgEzAvz2CQMvwkYQnSl35m6BsPfYQJKgbuCrl8JHBair0og\n",
       "1C81GMulfUXkuETeS39ExOrvcwPwLHAccIb/3mzgcODBMM2b/LZqBpG8wTZAkzwiYgYewVguze53\n",
       "71yMv/aFwOUASqlnMX5hA89sDWrymVJqUZQhu4GCUDeUUm0ici1wPzBgaZQA5wNVwH5KKbeIfAA8\n",
       "IyJ/AX4F3KCU6gnTttBvq2YQ0TOZocFtGEugawBb8A2l1BNKqfFKqRFKqT8AiMjkwGzFP2MZH9Rk\n",
       "XvA9EQm+F6AGmBjBnicwljWXJPOm/MwA/qeUCviT3sJ4j6OAQ4BHRKRVRFqB3YDnReQy/7MTCO+j\n",
       "0mQIPZMZGtyslHKJSCUQNkZGRCqAF5RSRwN7B13fGvRYLDOZ/2LMIkKilPKJyE8wttOT5SPglyLy\n",
       "fxhLpmuArcB2pZQ1+EH/+7gsyO9zKPB+CmzQJIGeyQwBlFIu/7fzgWr/990Yf9mDWQy0isj/xTGT\n",
       "eTjEkP8DKkRkRgSbPgBeCr4WbndJRA4XEQW8C1T6g+oCiY6eAX4PLANqgYXA8Sq2REjn+NtrBhHR\n",
       "SatyH78P5FygDDhTKfWWiHwfY7YRcNDmYfxROVMp9WG/9luBPTGWF8/GMJNBRM4ATlFKnZqyN5JC\n",
       "ROR4jFnNMYNty3BHL5eGBvdhRMu2BXwXfv/LH9I1oFLqOREZISKjlVIN6RonCcahA/GyAj2T0Wg0\n",
       "aUX7ZDQaTVrRIqPRaNKKFhmNRpNWtMhoNJq0okVGo9GkFS0yGo0mrWiR0Wg0aUWLjEajSStaZDQa\n",
       "TVrRIqPRaNKKFhmNRpNWMiYyIlIoIlMzNZ5Go8kO0i4yIlIqIq9gpIa8Ouj65SKyXUQ2iMixQdfv\n",
       "FpFqEflCRPZNt30ajSa9ZCLVgw94CHgdI+EQ/gqAlwKzMNI4vi0ikzDSKS4CdgeOwEhWNDcDNmo0\n",
       "mjSR9pmMUqpDKfUOfQuLnQT8WSnl8JfR2ArsC5wMPKWU8iil3gJG+SsIajSaHGWwklZNxCjhEaAa\n",
       "I8nQRODVoOs1/uv2oGuIyAUYBb2w2Wz7Tp8espaYRpOV+JTC7U1PHifxujB1tyDKA0qBCEry8OWX\n",
       "ID434vOgTHmovEKUOR9z105QXkzuTvB5wWTGZykCMdOTV8qWTRvp6elpUkqNStSmwRKZfIxlVAAf\n",
       "4I1wvQ9KqaUYmeBYsGCBWrEiZDVVjSbrcHS7aXSEq+CSPMVr/kiB/WOUtQJltiLebsztNShTHl2T\n",
       "j0JZbIjbibnHgXPyYmwbXsa2ZRnegnLIs4HHibmnlU1lizjx5hcxm/OAnm3J2DRYW9h1GLV0AkwA\n",
       "doS4Pp5dibE1mpwmEYExO2op2vQGxWueoWjTG5gdtRGfz2/8HFVQjsorNGYxeYWIrwdzVxMqvwTE\n",
       "hMovwVtQQkHDavIc1fhMFjAXgAiYC6h1+Dj56kew19byxPMvRRwvFgZLZP4OnC4iRSIyE6jAqHn8\n",
       "d+AHImIWkaOBr5RSzYNko0aTMhIVGNuWNxFPJ76iUYinE9uWNyMKjSD0X4iJuwtMfRctymLD1NWE\n",
       "ye3AXTkLTHmIx4kXEyc99iW1Ozt44vmX2G/hwXHZHIq0L5dEpAT4DCgBrCJyOPAjjAqGazFKd5yv\n",
       "lFIi8jJGWdTNGFn2z0y3fRpNukl0iVTQsBpvQYkxAwFjBuK/3lkSquYe9Izah8K6j/GIgNkK3m7A\n",
       "h8fWd/9E3E58hSPx2sYhbgfuEXv23rvpzE4KbaVMT4HAQAZERinlwCi30Z93gTv7PesDfuL/0mhy\n",
       "nmR8MKauJnxFff2tymLD1NkYtk3XpCMwdzVh7t4J3a2Ql49r1BxUfinicvT1yYw/EI9tLOWrHqe6\n",
       "xcmHm9r49oLxHDO9lNa5F+IKO0p86JIoGk2aSNbJ6yscibidvTMZ2DUDCYe3ZDwd00+joGG1IVKF\n",
       "I+kZPQcwZkCmzkZ8hSNxjj8Qb8l4vCXj2VB1Cmd8/3zqmx0seuxirPMuxDV2XsJ290eLjEaTatpq\n",
       "6Nr6CV3NdRT5f8m9YZY3kegZPQfbljfxQp8ZSHfZHhRteqOPiAT3b3bWU2BfidlZh9c2Do9tLK6x\n",
       "80IusRrq7Zx14TXYW3p48oXXMS08KGUzmAD6gKRGk0raauha+xrtjraYnbXh8JaMxzl5MSqvCFNn\n",
       "IyqviO7Rc7A2rA7rDM63f0b5qscRtwNvcRXidlC+6nHy7Z8N6L+h3s5ZJy3BXlvLk8//lQULDxpo\n",
       "gy/5eB49k9FoUkjX1k9o9xXG5ayNhLdkfJ92RZveiOgMtm1ahsdajrJWGPetFXgA26ZlA5ZAby17\n",
       "PaLAdPR4uOPv6+O2uT9aZDSaRGirgZqV0NkERSOhaj6OgtF0NdehojhrzY7aAT6TWJdT0ZzBZmcd\n",
       "3uKqvvfzyzB31Ox6rRQiwlk/PJ8jFn+T8VUTBoxT09LF9a+sobq1Kya7ItqcdA8azXCjrQY2LANP\n",
       "JxSPBk8nXWtfo7l2S6+zNphgZ20isS/BROvfaxuHuNr63ne14bWNA4wl0mnHfYM1n68CCCkwK7e3\n",
       "cMmfVtLS6eKeU/aJya5IaJHRaOKlZiVYS6GgFMREpxTR7iukoGE1PaPnYO5xIC4HKB/icmDucfTZ\n",
       "4eld7vSLvo2FaP07pywhr7sV6W4GnxfpbiavuxXnlCW9PpgN69bS3dk5oG+lFK98VsPVf/mcSls+\n",
       "j5w1n3m7jUj649Iio9HES2cT5Bcb37o8tHe5eyNoQzlrnZMX9y6HTF1NKIutT3eBtrEQrX/X2Hm0\n",
       "zr0QZSnB3FGDspTQOvdCqmVcRCev2+vjgbc38uC/vuaAyZU8dMY8xpcXJvtJAdonoxnOhPCrUFYV\n",
       "vV3RSHB1GDOYLjcQPX4lQCKxL/3p7wzuj2vsvD5O3qbGRs468ZgBAhPwDbW3NfOLz8fx2U4zZ+w/\n",
       "kXMPnozZJDHbEw09k9EMT0L4VdiwzLgejar5dHW04GhrHrBkieZzibbcSQclpaXM2Hv2AIGxbXmT\n",
       "Tc09/OCj8axtMXHb3g1cNNeaUoEBLTKa4Uo/vwoFpcbrmpVRmzoKRtMw9siQS5ZoPpdoy51U0lBv\n",
       "p6V5JwUFBTy49Kk+S6SChtX8q6WSH31QjtsnPHaom8W7m2L2DcWDXi5phiedTcYMJpj8YuhoiNis\n",
       "96hAmCVLLOeNoi13UkHAyVs5chTPvfoPRHbNTpRSPL3WxWMby5gxQvHLhW5GFYJSkc9FJYoWGU3u\n",
       "k4hvxe9XoaB01zVXh3E9TL8dI2fTKJWAEVlr27SsN3TfOWUJrrHz8BWOxNKwloLm9Zi6W/BZR9BT\n",
       "MQP3qJkpe7vR4myCI3nvuv+3fQSmx+3l3je/4l8byzlmfDf/bz/BajbuxesbihW9XNLkNon6Vqrm\n",
       "Q3c79LSD8hn/drcb10P029npoPuL1zA7aiOG7vskD9vWN8HVhs9aAa42bFvfxCep+XsezecT6ahA\n",
       "o6OHK15YzbtfNnDB/pXcPrOOQm/6fUN6JqPJbYJ9K7Dr35qVkWczZVUwbYnxXEeDMYOZtmhXm6B+\n",
       "O10e2n1WxO9bKbCvDBu6D+CqmIrJ24N4OlEFI3AVjaWw7mO69zg66bcbLcfMtT+7LKTArK9r58ZX\n",
       "19Lp8nLribM4eM+RdDoqQp7MTjVaZDS5TYK+FcAQlHBC5O83EAcDu3wr0UL3vcVVeE3mXTd93j5h\n",
       "/ckQzedz6z0PUFdTzb77L+y9/9a6eu57cwOVtgIeOmMf9hhlxPhkwjcEermkyXUCvpVg+vtWEuy3\n",
       "s6OtV2CgXza5MKH70cL6kyXUsYKGuhru/MPbeL1exldN6BUYr0+x9N+bueuNL5k5rpRHz5rfKzCZ\n",
       "RM9kNLlN1XzDdwLGDMbVYfhWpi0yriUYcNcxcjY9K57F2r0TPC7Iy8drraRj+ml4bGMZ8cmvUe3b\n",
       "EGVCiQ8RCy37/RSA8lWP48GY3YirjbzuVlqnfzclb7d/jpmGuhpOvfwuapocLDl/I3tONcoDOXs8\n",
       "3LFsPR9ubub42eO47Mg9sZgHZ06hZzKa3CbgW8krMpZIeUXG67KqhJ3Cjm43Ozt6EAUKEDGSc4s/\n",
       "tYrXNgbXiL1A8hFPF0g+rhF7GdfDhPWnKtNccJxN446vOeWKe6lpcvDk8y/3CkxNaxeXPfcZH29p\n",
       "5vKj9uSnR08dNIEBPZPRDAXC+VYScAoH4mCKGlbjLpuAyp/Re09cjt5gNdeomfRUHTDgXmfJ+AFh\n",
       "/anGWzKerZ0mzr72euoaW3ny+Zd7nbwrt7dw62vrUMA9p8xm/qTkDzgmixYZzdAlTqdwcE7eaA7W\n",
       "eBN8p5ptWzbR2tLSZxfp1VU1PPSvr5k4oojbT9qbqhQdcEwWLTKaoUssAXd++if9jnaQMdlDjonS\n",
       "09NDQUEB+y08mOWffEGRzYbH6+Ohd7/mtdV1LNyjguuWzMBWkD2/2tljiUaTaqI5hf2EqioQLom3\n",
       "c/yBABHvpZLg6N46p5lTf3oP515yBd89+xyKbDbaOt3c8vpaVu1o47sLJnD+IXuQ76yjoDpMtYIE\n",
       "svEli3b8aoYukZzCfsKVLYl0kDFThxyDo3vrOvM47bKbqa3ewV5VRhDgliYnl/xpJWtr2/nFsdO5\n",
       "8LAp5DvrBkQEF3/5IiXrX0w4G1+y6JmMZmgTIeAuWl2kSMFqmQhkC0T32ts9nHrZLdQ2tPDcr65k\n",
       "/90svL2piTv+/iWF+WYe+O5cZowr7dMmOCLY3L0TBb1O7GSTm8eLFhnNsCTZwmuZwNTVRIeplFMv\n",
       "vY7a+p386YHr2W/2NJ5Z28MjG9ey15hibjtxb0aVFPRp098pjceFSfrmiMmko1qLjGbYkQsCA4bz\n",
       "2ebp5OxvH83cGXsyZ58Z3Pyx4p+15RwxbRRXHTMNq8U8oE1/pzR5+fj69Z0pRzVokdEMM3JFYBrq\n",
       "7TTVm1lY7OCiUw6nwWPjkuUm1rVZOH9BJWccOqNPCocAoRzWXmsloghZCzsTaJHRDBtySWDOOmkJ\n",
       "nU4ny9/5BzVbv+KaD/Po8Ji5ffE4Dtpnati2Aad08OnqjumnAaFrYWcCLTKayCSabDuT48TQNpTA\n",
       "hEs8FQtFa1+gbO3TmDt34i2qpG3WD+icldz5JLOjltZ1y/neJTdib2rl6aee4D87erjnPwVU5ntZ\n",
       "emg3u+1ejDdKP+Gc0plw8oZCb2FrwpNMsu1MjRND23ACE2vN6P4UrX2Bik/uBbcTr200uJ1UfHIv\n",
       "RWtfiPutBzA7anGseJFTL72J2qZW/njvz1nb2M3t/6pnVrmHJ450M9XmzOjWc6rQIqMJTxLJtjM2\n",
       "TpS24ZZIfWpGm8xG4ilreW/iqUiUrX0ar8UG1hFgMoN1BF6LjbK1T8f91gMUNKzmty/9h9rGVp64\n",
       "/yZe8hzAkzvGcMqoGh481McIa/yF4LIFvVzShCeZhFCZGidC20g+mFhqRofD3LnTmMH0GbMUszPx\n",
       "z8XU1cS1P/4BRx57HI/X7s5Wh/CLCWs5ffQOuk1H7LIxw2ekUoGeyWjCk66EUKkcJ0zbLsuIyIF2\n",
       "SSSX8hZVgqu935jtxvU4aai3c+m5Z9PQZWHtTh93bJ5MY5fw64PdnD7ejsqz9LUxg1vPqUKLjCY8\n",
       "0ZJtZ8M4Idp2dbTQUBK5OkCkmtHRaJv1A8xuJ3S3gM8L3S2Y3U7aZv0g1ncM7NpF+ve/3ubpbRVc\n",
       "9mEZI/K9/O7wHg4ob8drrUQVVGa0EFw6GFSREZGfichGEdkiIpf6r10uIttFZIOIHDuY9g17Yjj7\n",
       "M+jj9GvbpQpoGHtk1O3ZZJJLdc76Ls37XQUWm7FEstho3u+quHaXeqsK2Os58Y4XeXFbAQsm2Pjd\n",
       "YS52NzWg8oromH4ajhmnZaQQXDoZNJ+MiOwO/ASYBViBzSKyHLjUf20i8LaITFJKucP1o0kzkZJt\n",
       "Z8s4/rbxxsF4bWPoGTu/92Sy1zYm5rY9ux1Cm7V0wElnAOvmtyhd/xxmZz1e2xjaZ5zRp1JBQGDq\n",
       "d7Zx4LXP8YHdx3cWTOBHh+yByST0W/wN2HqOVncp2xjMmUxAOHwYYucAlgB/Vko5lFLrgK3AvoNj\n",
       "niaXiFdgotUvSrStdfNbVHx8H7gdeIvHg9tBxcf3Yd38Vp8+CkZPZtpPnmBbB1zzzWlcdNiUmGpQ\n",
       "J2P3YDFoIqOUqgFuBj4E3gbOBCYA24IeqwYGeOJE5AIRWSEiKxobc8vTrkk9iUTyRqtZnWjb0vXP\n",
       "4bGWgrXSv71dicdaSun652je2YTH42Gz0wJH/RSfycL935nDMbPGZsTuRCixWqI/FIXBXC6VYgjL\n",
       "5cBk4EqgBvqc5fLBwABHpdRSYCnAggULVNqN1WQtiR4ViKVmdSJtzc56YwYTTH45DTVb+M7xi6k6\n",
       "6hyqy+ew5+hibjtxFqNLrRmzO15KrJY+J7wTZTCXS2cDnyulliulnvRfswPBC/MJwI6MW6bJCZI5\n",
       "ixSqflGs28OR2nptY8DV2ueevcHOMQ9vpHPWSewon8NhU0fxm9Pnxi0wydodD6kSGBhckekG5oqI\n",
       "RURKgKkYy6bTRaRIRGYCFcCqQbRRk6Uke9ixZ/QczD2OhLaHI7Vtn3EGed3t0L0TfF7s9hqWPLyB\n",
       "zqOvxzr9UH548O7c8K0ZA1I0ZMLuWEmlwMDgRvw+CxwJbAa6gKeVUu+LyLPAWgwROl8ppZdDmj6k\n",
       "4jR1qNPKsZ5MjtTWWzKeZqB0/XOYHDWc8pyTrm/dja20kuu+NYtD9kpuxpGM3bGQaoEBkFz/HV6w\n",
       "YIFasWLFYJuhyRC5kq4B4N0vG7jrjfWUWOCe7+zLlNGZLxEbD+EERkQ+VUotSLRffXZJkzPkisDY\n",
       "7XXc/7cVrHCUsk9VKTefMIsRRfmDbVZE0jGDCaBFJlfJVJ6XLLElVwRme3Ut59z/ElTN5sg9y7jm\n",
       "W7MHlIjNtmC6dAoM6LNLuUmm8rxkiS25IjBrNu3gnKXvocbtzQmTTVx3wpyQApNNwXTpFhjQIpOb\n",
       "ZCrPSxbYkisC897nm/nJC5/jKyjl/H3yuOLkQ0Lm4M10MF0kMiEwoEUmN+lsMnKmBJNfbFwfQrbk\n",
       "isC8/nkdt721HU9nG1cfVMZZ3zwk7LOmriaUxdbnmrLYMHVl9v8uUwID2ieTm8RR4zlXbckFgfH6\n",
       "FI+8+zUvr6pl/90ruPA7ezF5YmRfVLQa25kgkwIDeiaTm2Qqz8sg2ZILAtPe5eZnz63g5VW1HDLe\n",
       "xB0n7RNVYCAzwXSRyLTAgBaZ3CRTeV4GwZZcEJhtO51c9MwnfFHTTvvbj/KtyaaYTlBD5Brb6WYw\n",
       "BAb0cil3yVSel1hIkS25IDAfbt7Jba+vo8vRRstr97D0gbvYb+HBcfWRiTra/RksgQEtMposIdsF\n",
       "RinFn1dUs/Tfm1Gt1ex8+U5+97ulcQvMYDCYAgNaZDSZIkLAXiwCEymALZkibZEI9Otx1HNr/SJe\n",
       "axrDoXtV4nz3L3xHC0zM6LNLmvQTCNizlhrb264Owzk8bQmOgtExCYxty5tGfElwLefJizE76ylf\n",
       "9bhRQym/DHG1kdfdGnO+3nAEir/ZzaP56eb9+aKjhO+XrORHxx+Ge9wgONgTIFUCk+zZJe341aSf\n",
       "MAF7XVs/iWmJFCmALZkibZGwbVrGF77dOOvLRXzlLCLvvYd4/cnfJt1vpsiGGUwALTKa9BMiYK8T\n",
       "K47mupiaRwpgMzvrUPllfe/ll2F2xtZ3ON6uMfPDDQtRPh/e12/Gvupf3HHeMeR12pPqNxNkk8CA\n",
       "FhlNJuhXgK3T5cHR3hpzAFrkTHSJF2kLOZZSPPn+Fq7acSB7WFpoee4q7F+v4cWbz+TAPUsT7jdT\n",
       "ZJvAgBYZTSYICtjr7HHhaGuOKwAtUgBbMkXa+tPl8nLz39bxzIfbOW6KBfMbt1BXU82LN57OgXsU\n",
       "J9xvpshGgQHt+NVkirYaurZ+gqO5LqH0BuneXbK3d3P9K2vY2uTkosOmcMr8Khzr3qXho7+wcIIp\n",
       "pbtW6SCdApOs41eLjCYjZHMczBfVbdz0t7W4fT5+cvA4Pnn5d1x1w61YLMmXA8kE6Z7B6Mx4mvSS\n",
       "goRUqRCYdCV6+vvndfzmnY2MLbPys0Vjueqcb2OvreWU089m2sxZYdtFmj0lamsi7bJ1iRSM9slo\n",
       "wpOChFSpEphUJ3ry+hS/ffdrfvXWV8ydWM7N36jqFZgnn/9rVIEpX/U44nbgLa5C3A7KVz1Ovv2z\n",
       "hG1NpF0uCAzomYwmEsHxLbDr35qVMc1mUrVE6hMnA0acjP96ImeAHN1ubn19PZ9ua+HUfas4aZqN\n",
       "759yXK/ALFh4UMT2fWJzwIjN8V/vGTs/IVvjfY+5IjCgZzKaSCSRkCqVPphUJnravrOTS//0Gat3\n",
       "tHLV4qlccvieNNprcXZ0xCQwQMTYnERtjaddLgkM6JmMJhIJJqRKtZM3VYmePt7SzG1/X4fFZOJX\n",
       "p81hzwrDsTt73r68+/HnFFhjq+gYiM0JzGRgV2xOorbG2i7XBAb0TEYTiQQSUqVjFynZRE9KKV5c\n",
       "sYNrX/6CsaVWHj17PmMsXZzwjUU8ufQRgJgFBogYm5OorbG0y0WBAS0ymkjEmZAqXdvUySR6cnl8\n",
       "3PPPDTz63mYW7TmSB8+Yh3S1ctZJS7DX1rLP7Llx2+MaO4/WuReiLCWYO2pQlpLeA5mJ2hqtXa4K\n",
       "DAzl5VI21SVKB6l4f7H0EUtCKn+gXVdzHUVhtl7TWWso3HZys9PFTX9by9radr5/4CS+f+Akmhrq\n",
       "ewUmmg8mks2usfPCBuZFS0oVrt9w7XJZYGCozmSyqS5ROkjF+0vVZ9RWQ9fa12h3tIXdek12CzpS\n",
       "+3DbyVvXreDiZ1fydUMHN35rJucctDvunh7OPjm2XaR01UeKt99cFxgYqjOZJLdes55UvL8UfUZd\n",
       "Wz+h3VcYces12S3oSO0L7CsHbCcvaxnLjf9sp9RWxIOnz2WvMUa7AquVcy+6jD33mhZ1FynV2+aJ\n",
       "9DsUBAaG6kwmm+oSpYNUvL8U9OHoduNorou69ZrsFnSsqR58Ch7dXsXVm+cxzdrCI2fNZ68xJTTU\n",
       "21nx4QcAnP69H8a0TZ2u+kix9jtUBAaGqsj0Sy0ADF5donSQiveXZB8BJ2+kNAwBYnkmErGkeujy\n",
       "mrhqw14s3TGBEyqrWbr3Bips+TTU2zn75OO45Nyz6ersjGm8VNicTL9DSWBgqIpMNtUlSgepeH9J\n",
       "9BG8ixTL1muyW9DRUj00tLs4Z/U0lu8cwc8nrOeOMf/BvdexvQJTV1PDI088S2FRUcwfT7rqI0Xr\n",
       "d6gJDAzlU9h6dyktfYTapo5l5yjZ3aVw7b+obuOmV1bj8bi5Z+IHHDjWhHPKEqplXK/AxBrJG+uY\n",
       "yRKu32wVGJ3qQad6yBjZlq7hjS/q+PXbxgnq20/cm90qd81U7rvzFp5e+mjCApNpslVgQIuMFpkM\n",
       "kU0C4/UpHntvEy+trGHfSSO48VszKLH2zf3i9XrZ/PVG9po2fZCsjJ1sFhjIUD4ZERmjlKrvd21f\n",
       "pdSniQ7s76MMeBw4BOgGZgAXAz8HuoArlFJvJDOGJgIxLpeiCUwsywrr5rcoXf8cZmc9XtsY2mec\n",
       "QfceR8fcR+B+R/tOrl8zno8azJw8v4qLD5tCYcMqbJuW0Vi9iZ88vZLb7vwllXOPSVpgotmcCrJd\n",
       "YFJBrI7f90Vkn8ALETkFeC0F4z8ErAEmALOAicCl/u9PAn4vIrmRnizXiDEYLxaBiRZcZt38FhUf\n",
       "3wduB97i8eB2UPHxfVg3vxVTH4H721t7OPfjKj5tNHH9zEYuX1BEYcMqylc9Tn2DnW/d/Q7//WIb\n",
       "7f9ZSr79s6Q+nmg2p4LhIDAQu8icC/xVRI4XkWuB24AjkhlYRMYCBwF3KoNuDGH5s1LKoZRaB2wF\n",
       "9k1mHE0YwtRComZl7yOxLJEi1UQKULr+OTzWUrBWgskM1ko81lJK1z8XUx8FDat5v62Cc98vx+EW\n",
       "fnuIm+P3kN66S9VdFk649TVqdzp48Zaz2HefvZKujxTN5mQZLgIDMS6XlFL/FpHDgBeBRmB/pVRH\n",
       "lGbRmAVsAV4SkZkYMyMLxswmQDUwoAaFiFwAXACw2267JWnGMKWzyZjBBJNfbByEJHYfjKmrCV/R\n",
       "qD7XlMWGqbOx97XZWW/MBvqMVY65ozZqH0opnl/fw4MbytmjTHHvgW7GFYFSxv3G6k2ccPc7hsDc\n",
       "fCYLZ+6G8nkxdyR3hCSazckwnAQGIoiMiLiB/l5hk/9ai4gopVR+EmOPBmYCBwAtwNvAWODzoGd8\n",
       "gLd/Q6XUUmApGI7fJGwYvkTIFROPkzeWPChe2xhwtRqzgt6xWo3rEfrozh/Jvf/8in9sGMHhY3u4\n",
       "cX8oyus7hql0HBXFBfzmx8ezcKbxByeZukux2pwow01gIMJySSllUUrl9/vK81+3JCkwAA3Ap0qp\n",
       "aqWUE3gLeAoI9jxOAHYkOY4mFGGC8TpGzo5rFymWoLX2GWeQ190O3TvB54XuneR1t9M+44ywfbS2\n",
       "O7n04wr+sdbO9+dXcM/etdh8u+4322tpL5uBdd6pvHXtERy4R3HSdZeCiWZzIgxHgYE4trBFZCEw\n",
       "CTAHriml/pTwwCI2YDVwKLATeBd4CTgPWADsDvwFmKUiGKm3sJOg3+5Sx8jZNEhl9Hb9SPXu0pc9\n",
       "o7jykxLaenxcfcw0jpg+us/9OqeZky+/m1lzF/DAY0+kpO5SKFK5u5TLApOROBkR+RPGL/7HgNt/\n",
       "WSmlzk10YH+/xwL3AQXAU0qp2/2O5R9hbGmfr5R6P1IfWmRSQ7bEwfx7YyN3L/uSYmset397b6aO\n",
       "Kelzv6HeHnM+mGwhlwUGMicy1cCe/h2grEKLTPJkg8AopXjmw2089cE2Zowr4dYTZlFZ3PcXUwvM\n",
       "4JCp4m7LgfHA5kQH0mQn2SAwXW4v9/xjA+991cjimWP42dFTyc/r6y5USnHJD8/SApODxCoyE4DV\n",
       "IrIS6P2JVEotTotV6WaoH56MkVgEJlWHBMP1U9/ezQ2vrmVTQwc/nuXi7KpPUNu2DBhHRLjprvvo\n",
       "6eoaIDCZrNgY63stb11Dma9tWP98BYh1uXRYqOtKqfdSblGcxL1cCkS6WkuNuBBXh7HLEiFB9lAk\n",
       "VoGxbXnTCJSz2BC3E3OPI+Yk3tH6+ajwEK5/ux6X28sds2o5cELegHHqOk28/cbfOfOc81JqY6re\n",
       "W6h+K2reoaSsYsj8fGVkuaSUek9E8oBRgCQ6WFYw1FNzxkCsS6RUpaAM1c+rOwq4+4sdjCot5JGF\n",
       "7exRlDdgnNZ1yznrp/dhr63l8KOPYXzVhJTZmK70muWtawyBGcY/X/2J6ViBiPwMY5t5M8YO03Yg\n",
       "4q5P1jLUU3NGIR4fTKpSUAb34/HBA5+buW11CXPLe3jkzPlMsTQOGMfe5uLUS27s9cGEEphkbExH\n",
       "es0Sq8VYIg3jn69QxHp26SfAHsDrwDxgEfDPdBmVVoZ6as4IxOvkTVUKykA/Dhdc+YGF57/O4zu7\n",
       "d/HrRT5KCy0DxqlvauHUS26ktqk1qpM3URtTnV6z18k7jH++whGryLiUUjuBtcBcpdSHwDfTZ1Ya\n",
       "GeqpOcOQyC5SqlJQ9oyeQ3VzF+e/a+aTRuEX+zi4ei873rFzQo7z8acrsTe18vRTT0TdRUpnxcZY\n",
       "6bOLNEx/viIRq+P3cuATjCXTv4BmYLNS6sT0mhedhOJkhtnuUjLb1KnYgVmxtZlbX1uLGS+/nNPA\n",
       "3KqSkPliLPbPyOtpxlc4krq8iZRN2jutNqbivYXcph5iP18Zz4wnIpUYIf9fKaUciQ6cKnQwXmQG\n",
       "Mw5GKcVfP6vh0eWbmFRp4/Zvz2JcWWHIZxvq7Zx3xilcc+NtLDr8yAxbmhjDJQ4m7btLIrI/RjKp\n",
       "95VSdqXUThHZF/gUmJrowJr0M5gC4/b6+M3bG1m2xs7BUyr5f0umU5Qf+sctOJLXGkfh+8FkuAhM\n",
       "KogoMiJyG3AysAK4W0TOBi7BSNFwZvrNyzHinSZXfwrrXoX2OigdBzNPhAn7Rr8H8OUbsPIZcNih\n",
       "ZCzM/x5MP7b3tqPbTXPtFopiSGmZ6kA7e8ksbvjXTr6oaeesA3bjhwfvjklCRz7k7FEBXxOsy8CS\n",
       "aAgsvaI5fs/GSFD1A+BI4B8YqRcOUErpNUow8daWrv4UPngIXA4on2D8+8FDxvVI98AQmOV3gdth\n",
       "/MC5HcbrL410yAGBiSWlZbK1nvv3s7G5h4tf/IoNdgfXLZnBeYsmhxWY1pbm3BWYTNRaHyI13aOJ\n",
       "jNuf6wWl1A6gDbhRKeVLu2W5RgzpLPuw7lUoGgFF/vSORZXG63WvRr4HxgymsMy4bvbfLyyDlc/0\n",
       "LpFiSWkZLW1mLAT3s7w2jx+9X45HmXhsURdHzRgdsW1pWTmLDj8qtwSmpCD+/+tEydQ4aSaaT6ZK\n",
       "RN4Mej0S+If4/zLl7NmldBAlneUA2uuMWUow1nJorTa+j3TPYR84ZS4ox926o9cHEy0tZixpM2PB\n",
       "1NWEt3AUT643s3R9HjNH+LhnoYvRvkbC5WdtqLfjdrmomrgbN915b1zjDRZ9fDDx/l8nSqbGSTPR\n",
       "RCa59GLDiQjpLENSOg66W41ZSIDuVuN64Ptw90rGQk/f++7OFnqsu34go6XFjCVtZix0WkZy+0cm\n",
       "3q7L45sTvfy/+R6sXie+gtD9BHwweRYLr//rA8xmc8jnsokBTt54/68TJVPjpJmIyyWl1HuRvjJl\n",
       "ZE4QbxDWzBOhswU6/ekdO3car2eeGPkeGE7erjbjuteL29GE19nSJzVktGCzVASjNbR386P/jeCd\n",
       "unwune7kpn1dWL3h+wl28t76y/tzU2AgcwF3QySwT1eQTCWDsLvkbq+lxzo6ZGrIWAumJbK7tLa2\n",
       "jRtfXUuPx8cNR4zmiMJNEfsJFpgnnn+J/RYeHNM4g0nEbepM7fpkwe6SLlObTSKTYQYrDuafa+3c\n",
       "/9ZXjCwu4PZv783kkbaoba646Fze+ceyoSEww4yMioyIlGAE4G1USrUnOmgqGa4iMxgC4/Uplv57\n",
       "My9+Ws3cieXcdPxMygpjK/DZ1trC1s2bmDM/4Z/VjKEFpi/JikxEn4yIHCciq0Tk9/7I3zXA/cAa\n",
       "EdFO4UFiMASmo8fDda+s4cVPqzlxznjuOWWfqALTUG/npmt+Rk93N2XlI7TADFOi7S79CjgfI83D\n",
       "a8ARSql1IrIbsMz/pckggyEw1S2dXP/KWmpau7jiG3txwpzofptgH8x3zz6HmfvMzoClyaEFJj1E\n",
       "E5k8pdR/gf+KyG3++tQopbaLiP7fSJZITr0Q9xwFozMuMJ+t/5pb3qoGfDx4oJu99xhY0rN/3aPN\n",
       "pftz1oXX9EbyxiIwyTipU1F3KaMCkwXO3EwSLeK3XESu9ddCKgx8LyLXAeXpN28IEylkPMS9rrWv\n",
       "0Vy7JWPmKaV45X/ruPqNakZavTx5hJsFIzoGHD3It39G+arHEbcDb3EV9Q12zjj7HOw11TFH8kY7\n",
       "4hDpfv/xxe2gfNXj5Ns/i/m9ZlxghsBRgXiINpN5CAgsvB8O+h7gt2mxaLgQKdcw9LnXKUU4fN1J\n",
       "55+NFbfXx4PvfM3fv2jkkDEubt4fbBZBMTAPrm3TMjzWcpS1AoCdPfn0eBR/uf5kpsV4VCBavt1I\n",
       "9wvsK/uMr6wVePx2xTKbyfgSaRjmmI4oMkqpWzJlyLAjWsi4/16ny0N7lxsSCPlPhNZOFze/to7P\n",
       "q9s4Z3IbF8zJx2TaNeHtf/TA7KzDW1yFo7OH4sJ8Zu4+ho8fuYTCHjuxZrVN5ghEYPw+9/LLMHdE\n",
       "nxkMig9miBwViIeo6TdF5CARWS4iDhFpEZHXRWRuBmwb2kTKBeu/1yswJJd/NlY2N3ZwyR8/Y31d\n",
       "O9ctmc5FcyyYPZHz4Hpt46ivr+UbP/8997/4XwAKVAde27iYx42WbzfSfa9tHOJq63vP1RZ1/EFz\n",
       "8g7DHMDRtrAXAk8AdwJjgN38r1/QQpMkkULGq+bT1dGCo6056fyzsfL+1038+LlVRrKp0+dy1Iwx\n",
       "MR092Fy6Pyfc/Fdqm9o4eOZEpLuZvO5WnFNij3BI5giEc8oS8rpbke5m8HljGn9Qd5GGyFGBeIgY\n",
       "jOc/gX2TUup//a4fBlyjlBr0WJmcDsYLs8sQyAeTjuqG/VFK8aePt/PEf7cydWwJt504i5FBNagj\n",
       "7er0blPXVPOX60/m4El5Ce/uZGp3KSu2qXNsdymtEb8iskMpNTHee5kkp0UmBJmMg+lxe7n3za/4\n",
       "15cNHDV9NFcunkqBJbZDiy6XixOOOpiaHTtyLx+MJi7SneO3K8K9zkQH1YQmkwLT6OjhhlfXsLG+\n",
       "g/MXTeaM/SciYTLYhSI/P59LrriK8VUTtMBoIhJNZCaJyFchrgtGcnFNisikwKyva+eGV9fS5fJy\n",
       "27dncdCU2J2ODfV2Nn65noMPO4ITTvlOGq1MHVpgBpdoIqOrEWSAUAKTijQNoZ75xw4z9725gZHF\n",
       "Bfzq2LHM8HyCaU1sfp+AD6aleSfLV6yhuLgk7LPxkqqk5v3JinQNw5xoSau2RfrKlJFDmXACk2wS\n",
       "8P7P+Nyd/P7NT7jrjS+ZOa6Ux04czz5t78WcSDz4LNJjTz2XcoFJRVLz/kQVmGEWeTtYRCuJshEI\n",
       "5RkWQCml9EwnCcItkZKJgA1E4gY/43TDjZ+O4H27mZN2d3Pxt2dTuvWfUfsIkO6yJbG8n3iJukQa\n",
       "hpG3g0W05dK/gUOBN4EngfSHnA4TIvlgUpEEPPDMjg646n8WdnQIV85x8Z2xdjrMprgSif/5j39I\n",
       "a9mSVCU1DxCTD2YYRt4OFtGWS+cBC4CNGEF4dwATUrVcEpF8EVknIr/zv75cRLaLyAYROTZa+1wl\n",
       "mpM3mQjY4D4+rXNx3vJ8mnuE3xzs5rSJ7XH1EeDSn17F3975T9p2keKxJRoxO3mHYeTtYBH1WIFS\n",
       "qk0p9YBSajbGbOZyEflYRC5JwfjXAlsBRGQKcCkwCzgJ+L2IxJZ2LYeIZRcpFUnAn2+cxE8+KqUy\n",
       "38sTh/WwX3l7XH001Nv5wWknsm3LZkSEyVP2StMnkpqk5hDnLtIwjLwdLKKKTD9a/F+lQOyHU0Ig\n",
       "IjOA/YA/+y+dBPxZKeXw563ZCuwbpnlOEus2tbdkPM7Ji1F5RZg6G1F5RTgnL+7dbYl03+P18eu3\n",
       "v+KB9xvZf2IxvzvMxW6mhrj6CPhgVn7yEY0N9Wn9TGJ5v7EQ9zZ1WRVMWwJ5RcYSKa/IeK39MSkn\n",
       "mk8GESnCqHt9IeAEHgMuU0q5Ex1UjKivB4GLgUX+yxMx0nsGqCaMkInIBcAFALvttluiZmSUeONg\n",
       "vCXjIzo9Q91v63Rz82trWV3dxun7TeS8RZMRk4QtshaqjwFO3gMOjNnmZIj2fiORcBxMWZUWlQwQ\n",
       "bXfpYeAYjBrYPwhkxksBFwHLlVJfi0hAZPKB4PK3PgYmYQNAKbUUWArGsYIU2ZQ2MhFot6XJyfWv\n",
       "rKGpo4drl0znGzPGxN1HY319btam1oF2WU20mczFGL/oFwIXBIWdB7aw8xMc93tAiYicBlQANoyZ\n",
       "TfCflQnAjgT7T5wUB2gFDjsWhQg0i3SwL55gvPdax3DjSitF+RYe+O5cZowrDWdOH/qPYSucwviq\n",
       "idx1/2/jEphYDiimowaUFpjcYNDrLonIORhLpkeBZzB2s3YH/gLMUlEMTOkByUCAlrXU2M50dRjO\n",
       "wATX6gGBsW1504gDsdgQtxNzjwNXcRWlX71kZHXLL0NcbeR1t9I690K8tjEh2wT8FIHgNU9+CU9v\n",
       "KeOxdXnMKHVx6/HTqRgb2/Ix0Ie3oISGdjfF+T5KxEXH7kfjK439vQbSX4Z6H8GCGcv7CXc/FFpg\n",
       "Mke6S6I8lsi9RFBKfQo8C6wFXgJ+FE1gUk5wgJaYjH+tpbtSYsZBYInUJ9BMTEagWUEJpeuf25U2\n",
       "0mQ20kZay7FtWha2TUHDasAIUnPmlXDj5yN4dJ2Foyf4ePRgBxOca2O2LzCGvd3DyZfezMW3/g5v\n",
       "QQnWxs/jep990m/2ex/9x4r0fiLd748WmNwi2u7SBSLiEhF30JdLRNzAj1JhgFLqKaXU+f7v71RK\n",
       "TVZKzVBKvZ+K/uOis8mYwQSTX2xcj4NgH4ypqwll6VthUVlsmJ31qPyyvtfzyzA768K2MXUZdjS1\n",
       "tHDxhxW8tcPExbM83LKfhwLrrvuxYOpqwt7m4tRLb6K2ficXn31inzFixeysC/s+gseK9H6i3Q9G\n",
       "C0zuEU1knlRK5SulLEFf+UopC/BUBuzLLCkI0Orv5A0XaOa1jQmbNjJScNr6unbO+WgcW9vhlws9\n",
       "/GCaF5H4g9fqnGZO8wvMnx64ngPmzkgoAC6W9JepCC4ELTC5SiwRv3Hfy1mSDNAKtYsULtCsfcYZ\n",
       "YdNGhmvzevtkrnhhFXmWfJ7Yr5bDRrYlFLymlOLC239PTf1OnrvvZxwwZ1rCAXCxpL9MRXChFpjc\n",
       "ZdAdv8mS8sx4Ce4uRdqmDrdzEuvuksc6koe3VfHHVS3MmVDGzcfPosLbmFRqhK++XE9H3UYW7WZJ\n",
       "Or1CuneXtMAMLmlNv5kLZEP6zXTGwTh7PNy57Ev+t3knx88ex2VH7onFHG+gtkFDvZ3X/voi5150\n",
       "WVxZ8AYTLTCDT7rTb2qikE6BqW3t4vpX1rC9uZPLj9qTE+cmHq8THMm7eMnxTJy0e+oMTRNaYIYG\n",
       "WmQSWR5VfwrrXsXVWoMnfzT5CWTnh8hLhM+2t3DLa+tQwD2nzGb+pBEJ999YvYmzf/4Q9qZWnnz+\n",
       "5awUmP6fhWXiAipHTR5sszQpILF591Ahkexo1Z/CBw/R09mGs2BsQrWXIXI2uFdX1XL1S18woiif\n",
       "R86an7DA2La8SYO9lpOufIi6xp28cMcFHDBr97j7Sjf9P4sicVFZ87bOUjdEGN4zmUSyo617lZ78\n",
       "MjrNRmxIvLWXA4TKBtfjgwffWsdLWyws3KOC65bMwFaQ2H9RoP9Vq76kqbmNPz1wA/vNnIDKUD3t\n",
       "eAj+LArz8ygttEFPns5SN0QY3iKTQHY0V2sNnQVj+1yLtfZyMP2zwbX1wLUfj+DTJjPfXTCB8w/Z\n",
       "A7Mpceesr6MeU8lYFh+yHx+9/ChlJTaU8mWknna8BD6Lwvw8ygr9KYR0lrohw/BeLsUZfOfoduPM\n",
       "H51Q7eX+BAegbW4Xzl2ezxfNJm6a38OFh01JSmAa6u1846J7+cc7/wagrMSIps1EPe1E8BWOpIie\n",
       "XQIDOkvdEGJ4i0wcwXeBXaREai+HIhCA9v6Obs5fbqHbo1i6oI4jF+yd1FsK7CJtq2tiZJE56Wxz\n",
       "mcAycQGl0qmz1A1RhrfIxJgdLXib2jV2Hq1zL0RZSjB31KAsJX1OHMeKp3gc/9e2gCs/KWW3IhdP\n",
       "Ht7D5LmHJVVrqG/CqZfZ54SLk8o2lwlKrBYqqybrLHVDmOHtk4mBUHEwrrHzEtqy7m3v8XHfmxt4\n",
       "e/1Ojpg2mquOmYbVYg6doStG2ttaByacilK3KNECcakSqj5xMEMpS50uGteH4T2TibKFnY5Au6aO\n",
       "Hq54YRVvr2/g3IN35/rjZmCNsch9JEpKyzjmuBN6BSYdBeJSVXQNhnCgnS4aN4DhPZOJsIXtKBid\n",
       "coHZYHdw/atrcPZ4uPWEWSzaK3nHZkO9HWeHg8lT9uLK627uvZ7qAnHhnkmEISswoIvGhWB4i0yY\n",
       "LeyulrqUC8w76xu4980NjCiy8NAZ85gyqjh6oygEfDBKKf7xn0/Iy9v135nKAnGRnomXIS0woIvG\n",
       "hWB4i0xgCzvw1wbo7GijXcoiNIoPn1I8+f5W/vjRdmZPKOPm42dSXpRoauRd9K8qECwwsGuLPDAL\n",
       "gdA5XMLdj/WZeBjyAgMhf6aG+3b88PbJ9NvC7nS00NnWnLJt3k6XhxtfXcsfP9rOcfuM495TZ6dF\n",
       "YEIl/U5FDpdUFV2DYSIwoIvGhWB4i0zQFnZXSx3tHkvKtnnr2rr48XOr+HDzTi47Yk9+dvReCado\n",
       "6M+v7rwlatmSZArExdpHrAwbgQFdNC4Ew3u5BFBWFbeTN9q27uodrdz0t7Uo4JenzGbfBA44RuLG\n",
       "O+7l7HMvYJ85kbfRkymYliqGlcAEGErb8SlgeM9kiH+bOtq27mura7nyL59TXpTPw2fOS5nANNTb\n",
       "uebyi3F2dGArLo4qMNHIxBb2sBQYzQCGtcgkEgcTrnyH2b6a37yzkV+/vZF9J43gt2fOY8KIopTY\n",
       "GfDBLHv1ZTZ9/VVK+oylDEm8pUqC0QKjCTBsl0uJBtqF2tZtVTau+6+wormW7yyYwI+SPEEdTLCT\n",
       "94nnX2L23NQ4ENO5ha0FRhPMsBSZZCJ5+2/rbmkXrvogn/puE9d8cxrHzBobpYfY6S8w+y08OGV9\n",
       "p2sLWwuMpj/DbrmU7FGB4G3d9+vgvOV5dHkUDxw/MaUCA+DscODz+VIuMJCeLWwtMJpQDKtqBak6\n",
       "i2Rqr+EvH6zj4bUWppYpbj9uDyrHTUq63wDtba2UlJYhIng8ngGBdqkilQcktcAMXXS1ghhJlcC4\n",
       "PD5+9b6Dt9blc/jUUVz9zWkpOeAYILBEWrzkeK66/pa0CQzEtsUdyzNaYDSRGBYik0jhtVD3G2Qk\n",
       "V6+sYF1DNxfMcHHexE9R27elLP1BsA/myIP2pWjTG2lJsRAP0T6fmAVmsNIf6LQLg86Q98lEE5hY\n",
       "0yGs6xnND5cXsLnJyb0ztnDelHaULXXpD4IF5qknlnLEyOa0pFiIh2ifT1wCMxjpD3TahaxgSItM\n",
       "tCVStDiQwP03G8q48D8FmE0mnp65gm+UbE4odiQcHo+Hc77z7d5dpEMmWRKOT0klkT6fuJZIwekP\n",
       "xGT8ay01rqeTwRpX04chu1yKxQcTNQ6ks4lHt43jqQ0W5lT6uOsAN+PtzYhXwrdJgLy8PK645jpG\n",
       "VFSw38KDMa15JuUpFhIh3Odjc7dQEo8PZrDSH+i0C1nBkJzJxOrkDa4YECAQB9Ll8nLNF+N5aoOF\n",
       "4yd5+e0hbiqsQF4+PrMlZJt4aai3884/lwGweMnxvdvUkezKJKHsKKKHkoo4t+rjrAqRMgZrXE0f\n",
       "hpzIxLOLFC4OZGvhTH783Gf8x57HldN2ct3eLVjEuO+1VqIKKpNOfxDwwVx52YW0t7XGZFemKw30\n",
       "t6NIdRlVBeJNWzBY6Q902oWsYEjFySSyTd1/9+Rj71RueLser09x47dmcEBl94DdFSCp5Nqx5INJ\n",
       "ZwLveAjYYfO0GjOYRHdn9O5SzpKzcTIiYgUeBA4HCoAHlFK/FpHLgZ8DXcAVSqk3YukvnMDE88v6\n",
       "ylYz966uZoLNx3372pnobcfjHLg0MDvrKbCvxOysw2sbh8c2NmYBCBaYp59cyqJRbYYPpp9t0eJT\n",
       "MiVC3pLxmEdNis8HE4rBSn+g0y4MOoO5XLIB/wSmAfsCvxCRw4BLgVnAScDvRcQSvguDSAITyxa1\n",
       "19XJvRvHc/eqAhba6nhy/hYmjhqB2VFD+arHMTtqetuXrvo95Z88gLgdeIurELeD8lWPk2//LKY3\n",
       "/dpfX+wVmMMrE9umTmcVgf7oQDtNsgyayCildiqlXlIGTcAO4FDgz0oph1JqHbAVQ4DC4lMq7BIp\n",
       "li3qZinlihUVvLg5j7PH1fKbqasZ4akHMZHX1YjHWk5eV2Nve0vbRlBulLUCTGaUtQKPtRzbpmXR\n",
       "3i8A5150Gcve+5BFuyW+TZ1MCoZ40AKjSQVZ4fgVkb0BKzAS2BZ0qxoYUGRaRC4QkRUisqK+Ify2\n",
       "rqmrCWWx9bmmLDZMXU0AbGts5dz3R/BZo3DdfDdXjv8cc0EpJle70d7VjsovQ3rad/XpckI/N5bK\n",
       "L8PsrAtrR0O9nTO/fSxffbkeEWHipN2j2haJZNrGihYYTaoYdJERkZHAM8APgXzAF3TbBwMLKyql\n",
       "liqlFiilFlRUht+OjLQV/OHmnZz70Ticbnj4UDfH7+5DFZQirjZ8+UameV++8VoFZZ735dugX6oY\n",
       "cbXhtQ3QQmCXD2bN6lW0t7bEZFs00r3FrQVGk0oGNRhPREYArwPXKqU+EZFjgWAv3QSMZVRC9Iye\n",
       "Y/hcMP7Si9uJqdvBkzurePSzL5ha3M1vJr1PZd4kvGoCnsJRFLZto6t8T1A+PIWjKGpaj8fjonDb\n",
       "u/jMFjyF48jrtCPdzcYsx9VGXncrrdO/O2D8SLtIoWwz9zhwjj8QgHz7Z9g2Let1LjunLOktjRut\n",
       "bTJogYkRvWsVM4M2kxGRUuA14PagHaS/A6eLSJGIzAQqgFWJjtE/2363FHHj5qk88lkPh4918dgR\n",
       "UDl2EvktG8hr3oi3pIrWuRfiLanyZ+cvxDViL1RBMUopBPCWjqd91tkoSwnmjhqUpYTWuRcOqI3d\n",
       "1NAQcZs6UiWAfPtnlK96PKxzOVVVBPqjBSZG9JmouBjMmcxPgHnAAyLygP/aYuBZYC3QDZyvkgzk\n",
       "CWwFNztd3PjqWtbVtfOjqU5+OCsPk5jwlu1Gd+EIVF4RnVOOBcDlb1u06Q1cFmvfzHAuBybloeXg\n",
       "6yKOaysuZo89p3LX/b+NWLYk1Da1bdMyPNZyw7kMhnPZfz0gZqmuRKAFJg50Kdq4GDSRUUrdDtwe\n",
       "4tad/q+U8VW9gxteWYuj281dcxo5Yo/iPn6VcOeCEslx21hfj7XQSklpGY//4fmE7DU76/AW9/1h\n",
       "VfllmDvS85dSC0yc6DNRcTHojt90s3xDA5c/vwoRePCMeRwx2Raz0zReB2tDvZ0zTzqWS8/9HslM\n",
       "wLy2cYirre+4EZzLyaAFJgH0mai4GLKnsH1K8fQHW3nmw+3MGl/KLSfMYpSvCVNDM4U17+MpGom7\n",
       "YjoqryCs0zScg7W7bI8BCaXqOk29Ppi77v8tIolXK3BOWUL5qsfxQFTnciRSlnBK05eq+YYPBowZ\n",
       "jKvDOBM1bdHg2pWlDMmZTJfLyy2vreOZD7fzzVlj+dVpcxjla8K25U2UxUrXhEUIYK3+D+LuDus0\n",
       "DeVg7R49B2vD6j7Rto4VL3LWiYujlo6NFdfYebTOvTCqczkSKUs4pRmILkUbF0NuJmNv7+b6V9aw\n",
       "tcnJxYdP4dT5VYhInyhZlV9Cd9EixOVA5RVF3JXp72At2vTGrmhbQOWXcNl9z2Gvq+XJF/6WtMAE\n",
       "cI2dF5eo9KdPVLDfTq//unnUJC0wyaLPRMXMkBKZL6rbuOlva3H7fNx18j7st3tF771EC5X1J1Q/\n",
       "d19zEU21W5mZIoFJBSlLOKXRJMmQWS698UUdP39xNcXWPB4+c34fgYHURckG+qlvauHXT/wFn8/H\n",
       "5DElLNjvgKTfQypJWcIpjSZJcn8mo+Dhd7/mpZU17DtpBDd+awbl7kYKNr3Xx+EZjxM3XLUCX+FI\n",
       "PLaxtK7/N6dd/TA1Dc2ceOgcpo6x4Rx/YNbkgIGBTusievwJpw5P/WA6+lUTgZyfyVS3dvLSyhpO\n",
       "mV/F3SfvQ7m7MaTDE4jJiRuuWkHgfuv6f3PSL5ZS09DM83dfyh577IFz8mKAjKVfiIVgp7XN3UJp\n",
       "SWl6nJM6+lUThZyfyXS5vNy+eCrH7mPEkERyeHZOOTaqE7f32ZLxA/qyt3s47eqHqW1o5skX/sas\n",
       "hQfRGWNfg0HKEk5FQke/aqKQ8zOZCSOKegUG4kuDEO3Z/vc3bN5OU2sHz9996YBdpEykX4iXjGxT\n",
       "dzYZsSLB5Bcb1zUahsBMpjC/b4nYgMOzz3kjv4M34DOxtG7C1N2GucOOt2gE7sqZ+Aor+jwb3FeP\n",
       "WMm3WDh0/zl88ud7sJVW9s5gYhk3HOn04WQsDiYQ/RqUDkNHv2qCyfmZTH/CZfr32Mb6fSQ1WNq2\n",
       "I24HoLA46iio/R+mzqYBVQF6Rs+hsbaaxd/7OS+98R7iclBm9oSsGhBvhYF0ptDMaKCdrgigicKQ\n",
       "E5lwaRDynHa8BSXkdTXizS9CWSvw2UbhsY1CFZSR37B6QMqEuk4T3772CXbYm9htRF7ElArxpl9I\n",
       "VwrNjEfy6uhXTRRyfrkUilBpEEzb3jFmDD3tqIIyAJTZisnbTVfVQZg6G3tTPYBx2PHsk4+jrq5+\n",
       "gJM3nnHDkWxwYKilVtFgRfLq6FdNBIbcTCYcvT6TglLwdgMg3m4jxWY/30lHh8MQmJqalJxFimRP\n",
       "MLEGB4ZaalXUvMMon3a2arKPYSMyAZ+Jp3AUZlcn0t2MuJ3G636+E5utmBNPPT1tAhNsTyJVIvsv\n",
       "tazFIygpq9CF5DVZyZBcLvUnsLTA5SCvpx2vtRyUwlNQirekqndXp6HeTsvOnUybOYtLf3pVWm0K\n",
       "+HAKGlZj6mzEVzgS5/gDY9pdCl5qFebnUVZoAWXWSZM0WcmQF5neAm4FJXgq9sIbSLrdzykbSPrt\n",
       "crl464OV5Ofnp922RFNoBpZa1uIRhsCA3jbWZC1DfrkUyy5OcFWBX/12aUYEJhl6Rs+hSHVSZurS\n",
       "28aarGfIi0y0SNxIZUuylaJRkyiZfYLeNtbkBEN+uRQtEvfh++/JKYHZFQejt401ucGQn8lE28W5\n",
       "9pY7eeG1N3NMYDSa3GHIi0yoSNwttrn8+KrraWttocBqZeY+swfbzKhogdHkKkN+uQR9d3Ea6u2c\n",
       "ffxR2O11/HSOk91nz+5TAjYb0QKjyWWG/EwmmF6BqavlxWu/xdw5cweUgM02tMBocp1hIzK9u0j2\n",
       "Ol687ngWzt0bTGajBKy1HNumZYNt4gC0wGiGAsNGZNwuFxZLPi9ddRQLZ8/oc0/ll2F21g2SZaHR\n",
       "AqMZKgxZn0zgKEFb/TZKRk1kt7HzeP3dD6j8312Iq623mD2krwRsomiB0QwlhuRMJnCUoMFey3GX\n",
       "/5obfvV/2La8icVpxzllCXndrUh3M/i8SHczed2tOKcsGWyzAS0wmqHHkJzJFDSsptbh5eQr7qGu\n",
       "oZkTjjmi9yhB55RjaZ17IbZNyzB31OC1jaN1+ndTsruUbDpNLTCaociQFJnG6k2cfOVD1DU086cH\n",
       "rueAuTNQytebECrZErChCD6I6Ssahbid2La8GTE7XjBaYDRDlSEnMj6fjzOvfZy6hp386YEbOGCu\n",
       "4eRNpFpkOELNWCKWYokiMlpgNEOZISEy/X/p/9+VP6a0cwf7zZyAUr7eapHO8QemZKxQMxZcDjwV\n",
       "e/V5NpZ0mlpgNEOdnHf8itfV6+R95YONiKeTxVPymXvUyTEn9Y6HcKkjzD3tcafT1AKjGQ7k/ExG\n",
       "PF29Tt76xhYOWvAwo2wl5DntvYnBe2c6295Jur5RuATgPmsZ5h7HgFrb4WZPWmA0w4Wsm8mIyHdE\n",
       "ZIuIfC0i50Z73uPq6d1Feub+axk5oqxPvphU1zcKlwDcXT4l5pIoWmA0w4msmsmISAnwK2Ah4AVW\n",
       "ichrSqmwjo1N1Q2YzSb++OvrWThvptFP0DIlGYdsKHpGzzF8MgycscSSTlMLjGa4kW0zmWOA95RS\n",
       "NUopO/Av4KhIDdweL8/feREHzpoYMl9MqmtUx1vELRgtMJrhSFbNZICJwLag19XAgHh/EbkAuMD/\n",
       "sufUK3+zoThfbBYTeW4fng6Xcrq8uAEqCqXcJJh8SnkD7U0iZp/C19x1SWv63kpIRgK5VBwpl+zN\n",
       "JVsht+ydlkzjbBOZfMAX9NqHsWzqg1JqKbAUQERW9HjUgsyYlxwiskKp3LAVcsveXLIVcsteEVmR\n",
       "TPtsWy7VAcGJaycAOwbJFo1GkwKyTWTeBI4RkdEiMhY4yH9No9HkKFm1XFJK2UXkOuB//ks/V0o5\n",
       "I7XBv2zKEXLJVsgte3PJVsgte5OyVZRSqTJEo9FoBpBtyyWNRjPE0CKj0WgAEJFCEZma6n5zVmTi\n",
       "PX6QaUTEKiJLReQrEdkmIj/1X79cRLaLyAYROXaw7QxGRPJFZJ2I/M7/OpttLROR50WkRkQ2+W3P\n",
       "SntF5GcistH/83qp/1rW2CoipSLyClAPXB10PaSNInK3iFSLyBcism/UAZRSOfcFlGBsbVcBYwE7\n",
       "MGqw7epnYyVwCiAYgVf1wGHAV377ZwK1gGWwbQ2y+WZgGfA7YEqW2/oH4Hr/52vNVnuB3YGtgM3/\n",
       "M9EGzMomW4FijMj684Hf+a+F/DyBI4H/YmwaHQ2sitZ/rs5k4j5+kGmUUjuVUi8pgyYMUTwU+LNS\n",
       "yqGUWofxwxf9L0EGEJEZwH7An/2XTiJ7bQ2EN9zp/3y7yV573f5/fRi/mA5gCVlkq1KqQyn1DuAJ\n",
       "uhzu8zwZeEop5VFKvQWM8v9/hCVXRSam4wfZgojsjfHXdiRZaLeICPAgcHnQ5Wz+jGcBW4CX/FP5\n",
       "+8hSe5VSNRgzxA+Bt4EzMYJMs87WfoT7PPtfryGK7bkqMjEdP8gGRGQk8AzwQ7LX7ouA5Uqpr4Ou\n",
       "ZautAKMxpvA/BuYDBwMnkIX2ikgphrBcDtwPXEl2f7YBwtkYt+1ZFYwXB3XA4UGvJwAfDY4p4RGR\n",
       "EcDrwLVKqU/8zrNsPDbxPaBERE4DKjD8Bw+SnbYCNACfKqWqAUTkLYwf9Gy092zgc6XUcmC5iJyE\n",
       "4UPMRluDCXfEp//18RiznLDk6kwm648f+P+CvQbcrpR6w3/578DpIlIkIjMxfqFXDZKJvSilDlJK\n",
       "7aOUmgvcCLyMIY5ZZ6ufD4GZIjJeRAqAbwAdZKe93cBcEbH48yVNxVg2ZaOtwYT7Wf078AMRMYvI\n",
       "0cBXSqnmSB3l5ExGJXb8INP8BJgHPCAiD/ivLQaeBdZi/PCdr/yu/GxDKfWpiGSlrUopp4j8GHgL\n",
       "KMBwRP7KLzjZZu+zGDsym4Eu4Gml1PvZ9Nn6xe8zjJ0kq4gcDvyIED+rIvIyxi7pZmAnxlIwcv/Z\n",
       "8f+g0WiGKrm6XNJoNDmCFhmNRpNWtMhoNJq0okVGo9GkFS0yGo0mrWiR0Wg0aUWLjCZpRGSriEwY\n",
       "bDtCISLnBFJXaAYHLTLDEBFR/jw81SLyPxE5brBt6o+IPCUidhHZLCJrROSQwbZJkxg5GfGrSRqv\n",
       "UmpPAH/I+DMiUqyUemGQ7erPlUqpZ0XkSOD/gOmDbZAmfvRMZpjjzxVyJvBL6E3B+Jg/k9tGEbnQ\n",
       "f/1wEXk70M4/0zg7qKsz/Fn1NonIEf5njvRnT9sqIi+IiMl/3SMiV/ufXSEiY6KY+W+MA3qIiE1E\n",
       "3vC3XSMi+wTZc5+IfOSfAZ3WvxMReVwvnTKPFhkNSqkNQKGIjAZ+gTHDnQosBH4uIrNj6KZSKTUT\n",
       "OA/4vf9aM0Yahj0wMsQd6r9uBqqVUlOAL/1tInEOxqFCMDLhXedv+xjw86DnZvrHOxu4I7gDETkP\n",
       "2Au4OIb3okkhermkCZCHkcVtCXCe/8DeThF5CSOtxudR2v8eQCm13H/iuBLYjnHQbg6wG7tSBCjg\n",
       "Rf/37wHhyrXeIyIPAquBE/39d4jIJDHyOu8HtAc9/5JSyiMi7wGTgq7PAQ4EDlFKudFkFD2T0SAi\n",
       "84F6pVQLhtj4+j3ixUjNaA66Zun3THDqRivGieNl/rY3AMsxZiEAvqBfdne/foO5GpiBkWZgf7+t\n",
       "FwEXYvho7gjqE6AHwN93cJ8dGDlyIqaJ1KQHLTLDHBGZAzzFriz1bwE/FoMK4NsYS5VtwHQRKRAR\n",
       "K8bMIJjT/P2dAmxSSnUCewPPY/ySH5yIfUqpeozl1CMiUujv812l1GqMXM+xsAm4BHjVn6lQk0H0\n",
       "cml4YhaRrzFmHFuAnymlAj6PW4FHMH4xu4Db/D4bROQZ4AOMHCNf9euzUkTWAZ3AD/zXfgmsBNZj\n",
       "LHkSQim1QkT+CdwCPAn8WUS+D/wzjj6Wichc4BUROUop1ZOoPZr40PlkNBpNWtHLJY1Gk1a0yGg0\n",
       "mrSiRUaj0aQVLTIajSataJHRaDRpRYuMRqNJK1pkNBpNWtEio9Fo0ooWGY1Gk1b+P0nBLiZjasQd\n",
       "AAAAAElFTkSuQmCC\n",
       "\"/><img style=\"margin:0\" align=\"left\" src=\"data:image/png;base64,iVBORw0KGgoAAAANSUhEUgAAARkAAAEnCAYAAACdYDfKAAAAOXRFWHRTb2Z0d2FyZQBNYXRwbG90\n",
       "bGliIHZlcnNpb24zLjMuNCwgaHR0cHM6Ly9tYXRwbG90bGliLm9yZy8QVMy6AAAACXBIWXMAAAsT\n",
       "AAALEwEAmpwYAABDsklEQVR4nO2deXxU1fn/389MMtkTCGHfRJSdBBERxX2tqCibWpdvrbVo1YoV\n",
       "UasVFRcsglpr+2utVlutVRDUqljRWq0bKqDs+06SSUhC9mWSmfP7487AJCSZ7c6WnPfrlddkzr33\n",
       "3Ocmk0+e85xznkeUUmg0Gk24sETbAI1G07HRIqPRaMKKFhmNRhNWtMhoNJqwokVGo9GEFS0yGo0m\n",
       "rGiR6USIyBsiMikM/XYXkc0i0ktErhcRJSK/aHHOMe72dB997XGf5/1V5nXcKiIPi0ihiNSLyO9E\n",
       "xCIin4vIWWY/myZ0EqJtgMZcRORk4B8tmh9VSr2M8U+lqcX5jwEX+9n9v5RSc1tpfwJ4VillFxGA\n",
       "GmCeiPxTKVUegPkopY5pYd9CIK3Fvc4AzgQKgOOUUi4RuRlYJiLDlVKuQO6pCS+iF+N1fETkHOAK\n",
       "4HxgE5DvPvSSUuobr/OWA31aXL5bKTWlnb67A+uAY5VSdSJyPXAbUApsVkrd4T7vGGA3kKGUqvbT\n",
       "7gRgPzBVKfW1iPR19zFcKbWzlfM/AP6fUupf/vSviQx6uNQ52AS8jPGf/3339z2AQe6hxh/d541Q\n",
       "So1xH38BGAcMBxCRP7fR97nAF0qpuhbtvwJmisiw1i4SkS9F5BIfdl8IVCmlvna/vxj4tjWBcfM+\n",
       "cJGPPjURRotMB0NEXnfHNQ5/Ae8qpVYCDcAq9/eVgAPjM+BPnKatIVUesKZlo1JqE/Bn4OnWLlJK\n",
       "TVRKvefjntcDr3i9Hw4UiMibIlIrIutEZKLX8TVuezQxhI7JdDCUUleJSBKwHRillKr0OtwXKHJ/\n",
       "nwrUt7xeRH4AugMKuNGPW3bDGMK0xkPAdhG5GNjoj/1ednQFLgHmeDWnYwz5rsIQoDnAEhE5VilV\n",
       "D5S47dHEENqT6ZhMxRg6DBCRKwBEJAVjiGR3n5NCKyLjHi49iRFgHefHveqBpNYOKKUqgPuAp4DE\n",
       "gJ4AfowxNNrj1VYCfKyU+tAd13kEyAE8Q7JWn0kTXbTIdExmAc9gBF8fFRELcBbGH22j+5xUoGUc\n",
       "xePJzAHuBVb5ca98oH87x/8KVAG3+Gf6YX4C/L1F2xagi9d7z+e3xv3ajyNBbU2MoEWmgyEit2HE\n",
       "WnphTPUq4DLgDuANr1NTOPLH6eEzpdQYpVRfpVQ/YCzwqo9bfuG+T6u4p5NvB24K4BmGA6OBJS0O\n",
       "LQHGiMgMEckAHgU2AJ5A8BnAl/7eRxMZtMh0PATDg5kGDMbwBn4GHAO8Kgap7mMHvS9USv2kxXuX\n",
       "UupRH/f7Gsh2C0OrKKW+ApY2M7L92aWfAO+0iCehlKoFpgPzgEIgF2N62yUiicCVwGs+7NVEGL1O\n",
       "poMjIj2AzcCPMNazHHIf+pc7SGwFdnm1t8UIpZStjXv8GJimlJpuktkBIyK/xAh0++0xaSKDnl3q\n",
       "4CilikVknFLKMwOUKiKi3P9dlFJOYKCvfkTkQDv3+KeIdBWRHkqpYnMs9x8xlhnbgNmRvrfGN9qT\n",
       "0Wg0YUXHZDQaTVjRIqPRaMKKFhmNRhNWtMhoNJqwokVGo9GEFS0yGo0mrGiR0Wg0YUWLjEajCSta\n",
       "ZDQaTVjRIqPRaMKKFhmNRhNWIiYyIpIiIkMidT+NRhMbhF1kRCRTRN7GyC17t1f7LBHZJyJbReQi\n",
       "r/YnROSAiKwXkRPDbZ9GowkvkUj14AJ+D7wHTAAQkcHArcBIjNSNH4vIQOB04DSMBEtnAy8CYyJg\n",
       "o0ajCRNh92SUUtVKqf/QvHLhFGCxUqrKXTpjD3AiRgLsl5VSTUqpj4DuItIr3DZqNJrwEa2kVf0x\n",
       "crN6OAD0dre/49We7263e7UhIjOBmQBpaWknDhvWav0wjSYmcSlFo9PcPE7SWIu1oQJcjWBJxJmU\n",
       "hUpM9e9apwOLowpprAZLAsqajBILTY0OduaX0NDgKFFKdQ/WtmiJjA1jGOXBBTjbaW+GUup54HmA\n",
       "cePGqVWr/Emqr9FEn6r6Rg5WNZjap83+PV1++DNNyV1QtizEUUFCfTnlY27C0euEdq+1VhWQtnsF\n",
       "1opdCIISwdpYx96EQUz91SKsFgHYG4p90ZrCLsQoNOahH0bN45btfTC8HI0m7gmHwACk7VxuCExy\n",
       "NlisIIngqKDrN0+SuvMDrFUFh8+1VhWQuvMD0je8QurOD0jZ+1+cSRlYXI2ohFRISCW/ysm02+dT\n",
       "cPAQ/5x/a8j2RUtk3geuEpFUERkBZAM/uNt/IiJWETkf2KaUKouSjRqNaYRLYACsNYUoWxYA0lBF\n",
       "YsUusCQhTfVIU63hqVQVHPZapKkWV2p3pKmW5PwvkKYGXLZMxFmP0+niysfepqCkiteevJPxJ08I\n",
       "2b6wD5fc9XG+BzKAZBE5C/g5Rj2fjRgV/25USikReQs4EyN7filwdbjt02jCTTgFBsCZ1htxVKCS\n",
       "s0moLUJZbeBy4ErphrJl4ASSitca5yZloGwZAIizEYujlrRtb9HY9XgsjkoSUrsz95qJpCZZGT+s\n",
       "DzU9Qi8tHveJxHVMRhPLhFtgoHlMJrFiP0oU1sZaagb9iKaux4JyYak1Smy5UruDWLDUlZFc9D3K\n",
       "5SSxfCf7LP34bv1uJp86BIuznrq+E6kbeDbOjD4M7pGxWinlT8niVtElUTSaMBEJgQFw9DqB8jE3\n",
       "kbZzOdJUh7JlHBEYQBprcKXkHP5e2TJIrNiNMzEFQdhnHcDkh9+mqKyKU07KI/G0u3Bm9DHNPi0y\n",
       "Gk0YMEtgrFUFJBWvxVJXgislhwb38KVlm6PXCTh6nXA47uJMygDlQhprsDZUUdPnFADjGCD1FZCQ\n",
       "RNHBEi597EMKymp57ekHyOyfQ7WJAgN6g6RGYzpmCkzLQG36liVkbF7SrM0T2AVwZvShZtAFqIRU\n",
       "LLUHUQmp1Ay6AGdGn2bHBCg8VMUlj31IQUk5rz3zGyaMHHDY4zET7cloNCZi5hApqXhts0CtsmVg\n",
       "rS9FAco2/HCbJ7Bb6/ZAnBl9Dn/fEs+xhh55vPe7BygoOcRrT9/PhBH9mnk8ZqJFRtN5qciH/DVQ\n",
       "WwKpOdB3LGT19X1dG5gdg7HUlYBYsZVtQxoqUUmZWOoOoWzpzc5TiWmHA7tt4T3sciZ3w9FzDFfM\n",
       "eoRzzjmLgbZyrCVbcCVnkVS8lgYwNSajh0uazklFPmxdDk21kN7DeN263GgPgvAEeS2kFHwDzgZU\n",
       "UhY4G7DWFEJT8/t4B3Zbw3vYVVibwOSZ97NjxYsA5Iw+F2wZOHKG0dj1uKOGX2agPRlN5yR/DSRn\n",
       "QlKm8d7zmr8mYG8mnLNILsFY7o8gCK6kbGORnaMKlZh2VGC3NTzDLntlE9NufYjC4jJqXAmtrp1p\n",
       "bfgVKtqT0XROakugxbADW7rRHgDhnaZ20dD7ZJTVhsVRjrLaqBt4Fo3dR7Qa2G0LS10J9goH026Z\n",
       "S2FxGa898xvGn3gClroSLHUlqMS0ZuerxDRjqGYS2pPRdE5Sc8BRfcSDAeN9qv+zK+FeB+NKyUGa\n",
       "amnodSR3mziqcCZ1bfc67/gLWKjYsYoZDy3FXlbL6wt+xUljhiOOqsNDLGvlARLqDh6O+zSldMeZ\n",
       "EXxsqiXak9F0TvqOhfpKaKgE5TJe6yuNdj+IxEK7hh55WBuqEEeVsebFUUVC5QESakvanML2jr8g\n",
       "VpLs35JtqWZ0/64sue8SzuhZhbViH9aGKhp65NGU1osU+yqkoQJly0QaKkixr6IpzUjj5HSFviNA\n",
       "i4ymc5LVF4ZOgoRUqC42XodO8iseE6mVvK2teXGm5NCY1c+IoYjFiKEkZRyOr3hPe5fu2UhpYwqW\n",
       "7P68OHsyE/KGg7ORhJqiw0OshBo7db3GoZKysDRWopKyqOs1joQaOy6lWLhia8jPoYdLms5LVt+Y\n",
       "CvK2Rss1L+kbXmk9huKewrbUleBK7U5RySFm3P93crpk8N7j1yE0GMMu9z4mTwzHUleCM7MfzqwB\n",
       "Xh26kJqD/O7j7Xy4sSjkZ9Aio9H4SaQFpjVcKTmH9x958J7CdqXkUFyYz7Q7FmAvq+F3t/4IcTUA\n",
       "FpLsq7HUFONKyTk8vEqs2IfFvgZXWg8aswbhSskGRw2LdvTm3V2FXHVSf34bos16uKTR+EEsCAy0\n",
       "HqfxxFcA9tObabc/TmFxKf9ccAenDkolsaoAS0MF0lAB1kSa0nqSsXkJ6VuW0JTWE6yJSEMFyfY1\n",
       "WMr38YcNCSzelci0sX35+emDQrZZi4xG44NYERhof28SwD1zH6WgtJrXnr6fk0cNoqHXeJqSu6ES\n",
       "bKikLBp6jsWZNQBpKMVaX4ozawANPceikrJQqokXtibxyt4uTM7rwy1nDUZEQrZZD5c0mnaIJYHx\n",
       "0N7epHkLnqEw/wCjx0+g2t2WvuGVw3lkPFicjXhySblSsmlIyeblLRaez0/kRyN7cfu5x5kiMKA9\n",
       "GY2mTWJRYFqjuMjOovnzcDqd9OnbjxPHN0+Z6YnjNGuzJkKC7fD717Zb+dOmRC7s18TsC4ZgMUlg\n",
       "QIuMRtMq8SQw1069mJf//Ed279ze6jmtxXFUUjecyd0QRxVLN9fx7PoEzs/cz4PD7dhqCk21UYuM\n",
       "RtOCeBOYwvx8Xnp9GccNab3+WGtxnKrhM6geNoN3dlt4cnMXzupykIcnWLAmJesNkhpNOIlXgRk3\n",
       "4dR2z28tjrNiUxG/3diVU7o7mHdqJhYrKNAbJDWacBEvAgOwd/dOyg8d8ktgWuPTrcUs+PcWTsxu\n",
       "YP4pTmzWI8f0BkmNJgzEi8A0NDSQlJTESRMm8ul360lNS/N9UQu+2F7Co+9vZmSfLJ48oZYUVy2K\n",
       "1hf3mYH2ZDSdHrMFpmWVxpbxDV/H26K4yM7kcyfyxqsvAwQlMCt3lTLvvU0M65XB/KmjsPRpf3Gf\n",
       "GWiR0XRqwiEwLZN/t7VLurXjbeGJwRQcOMDg44YEZdvqvYd48F8bGZSTxhNTc0m1Jfhc3GcGerik\n",
       "6bSEY4jUWvJv70Cqr+OtEWiQtzXW7i/nN29voH/XVBZMzyU9+ciffnuL+8xAezKaTkm4YjC+Ms0F\n",
       "momurrY2ZIHZkF/Br99aT6/MZJ6ckUtWSmLAfYSC9mQ0nY6w5uT1Y5d0e8dbkpKaylXX/ZTcMWOD\n",
       "Epgt9kp+vWw93dKSWDgjl66pNt8XmYz2ZDSdinDPIvnaJe3ruIfiIjvr134PwA033xaUwOworuae\n",
       "pevJSE5k0YxcuqUnhf6AQaBFRtNpiMQ0ta9Aqj+B1uIiO9dMmcTN/3cVDfX1Qdmxu6SGOW+uIznB\n",
       "yqIrcumRmWzK8wWDHi5pOgXhmEVqWY/a6UcFR1/HPQJjLyjgpdeXkZR8tDi0d2+AfWW13LVkLQkW\n",
       "YdEVufTOSgn5mUJBezKaDk+kp6mDpaXAtDZE8nXv/PI6Zi9Zi1KwcEYu/bqmRvWZQHsymg5ONKap\n",
       "g+Uvzz3TrsD4uvculc3sxWtpbHKx6Io8Bnbzf7Fee/2GivZkNB2WaE1TB8ucB+bx5vL/tBvkbeve\n",
       "JYcOMXvxWmocTSyYnsvg7ult9BBYv2bsYdIio+mQRGKa2ptg9/sUF9m59YZrKTl4EJvNxtARIwO+\n",
       "d1lVLbeu7k15bSMLpuUypGdGG1cH1q9Ze5i0yGg6HNGepvYXTwzmf598zP69u4O6d0V1Nbd9nUFR\n",
       "vZX5U0cxvHem70786NfMPUxRFRkRuVNEtovIbhG51d02S0T2ichWEbkomvZp4o9YmKb2h5ZB3hPG\n",
       "jQ/43tUVJfzym64cqE/i0Smjye3XJcgnMueZ2iJqgV8ROQa4HRgJJAO7RORT4FZ3W3/gYxEZqJRq\n",
       "jJadmvghXtI1+DOL1B7OjD4ctPXgrjfXsbu6mkcuG8XYAe3Xx/a333DsYYqmJ+MRDheG2FUBk4DF\n",
       "SqkqpdQmYA9wYuuXazRHiKTAmDHdm5qWHvRepDqHk18vW8+O4mrmXjKC8YOyA+4jkkTNk1FK5YvI\n",
       "Q8BKDLG7GpgGbPA67QDQu+W1IjITmAkwYMCAloc1nYxIezDBTmGXlZaQmdWFHj178faKz4IqOVLf\n",
       "6OT+t9ezqbCSBy4ZwcTjzEsu1RoZyaFvpoyaJyMimRjCMgt4CrgLsGF4Nh5cGClHm6GUel4pNU4p\n",
       "Na579+6RMFcTo0RjiBTMdG9xkZ0rL72AB+bMAghKYBxNLua+s5G1+yv49UXDOHNIeD/7GcmJdM8I\n",
       "fb9TNIdL1wLrlFKfKqVecrfZAe8K6P2A/RG3TBMXRCsGE+h0r3cMZtqV1wR1z0ani4fe3ciqvYe4\n",
       "68KhnDu8Z1D9+ItZAgPRFZl6YIyIJIpIBjAE+Bi4SkRSRWQEkA38EEUbNTFKNIO8gUz3hhrkBWhy\n",
       "unj0/c2s3FXGHecdz0WjepnxGG1ipsBAdLcVvAqcA+wC6oC/KaW+FJFXgY0YInSj8tTS1GjcRHsW\n",
       "yTPdm1S8FkvtQVwpOdT0OeWo6V6lFDOvuzIkgXG6FPM/2MLn20u49ezBTM4LXwY7MF9gACTe/4bH\n",
       "jRunVq1aFW0zNBEi2gITKKtWfgUQlMC4lOLJD7fy4cYiZp4+iKvGh3eSoy2BEZHVSqlxwfarV/xq\n",
       "4oZ4EZjiIjvL3ngNMMQlGIFRSvHMx9v5cGMR1586MGoCYwZ6F7YmLoiGwASTX8UTgykqLOT0s86l\n",
       "e0//A7Se+0ltCQt39Oa9XYlcPb4/100YGOqjtEs4BQa0J6OJA6IlMIEuuPMO8r74zzcDFpi03Sug\n",
       "sZZnd/Vmya5ErhlQwcy8pKCmu/0l3AIDWmQ0MU60hkjNFtyJxVhwl5TRZn4Vb4H56+tLOWnCxKDu\n",
       "9+cdXfjHjkSmHevkl6MbST64zozHaZVICAxokdHEMNGMwQS64O5///2YosLCoATGc78Xd2bx0tYE\n",
       "Lh3oZHZeE9jMrUntTaQEBnRMRhOjRDvI62/pEqUUIsL0q67ljLPPo0fP4NawvHKgF89vTuSiAU7u\n",
       "HduERUAc5tak9hBJgQHtyWhikGgLDPi34K64yM6UC886PE0drMAsW5PP7zfaOL9nNb8ZdQgr4alJ\n",
       "DZEXGNAio4kxYkFgwHd+FU8MZue2rSiCX2v23roCnvvvDiYO7sa9l47BagtfTepoCAzo4ZImhogV\n",
       "gfHQVn6VUIO8Hj7caOfpj7YzflA2D1wyAkmwUJvV1/eFQRAtgQHtyWhihFgTmLYoKy0xRWA+2VLM\n",
       "kx9uZeyALsybPBJbQvj+FKMpMKA9GU0MEE6BCaVgmc3+PWk7l2OtKcSZ1puawZPIzBnNieMnMO2q\n",
       "a4IWmP9tP8jjyzczqm8W8y4fZbrAeD9zcqKNzGQr1JVBXTmkdIFux0PfsRAmr6kleu+SJqqEW2DS\n",
       "dq8w1rskpiGNNVgbqvyKddjs39Plhz/TlNwFZcuiqKiAhIZKks+6A0evE4K26eudpTz4r40M6ZnB\n",
       "gumjSbWZ+3/e+5lTxElm8bfQWANig5RMcLmg+3CwWmHoJL+ERu9d0sQt4R4iBbqgzpu0ncsNgUnO\n",
       "xl5ey+R573LF774gdcf7Qdvz3Z4yHnp3I8d2T+OJaeYLDBx55uT0rmTW7YfUbGh0QGM1pHaDpDSo\n",
       "KYLkTMhfY/r9W0OLjCYqRCIGE0rBMmtNIcqWhb2sisvuf4WC0koe+9mFJNTag7Llh/3lzH1nI/2z\n",
       "U1kwLZf0pPBEKix1JSSnZZGVkggNlZCQDKoJXO4EkwnJRrstHWrDs9CvJTomo4k4kQry+rugrjWc\n",
       "ab0pKirgsnnvUlBayZKHruaUY9NxJgZeOG1DfgX3vbWeXlnJLJyeS2ZK6Hlz2yIpqydZ1gYgCZIy\n",
       "oakeJAE825+a6o12RzWkhjc/sAftyWgiSiRnkUIpWFYzeBL3/OU/FJRUsGTuVZxybDoJ9eXUDJ4U\n",
       "kA2bCyu5d9l6ctKTWDQjjy6ptmAfxycZyYlkDT4Z6isNb6XrIKgtg0QbJKZDbSk01EBaT+OcvmPD\n",
       "Zos3OvCriRjxkq7BQ+XGTyj+5k0m9LMcnl0KJOi7o7iaOxevJSM5gWeuHBPWaeRm09QV+Ua8pbYE\n",
       "xAJKhTS7FGrgVw+XNBEhWutgAi1YVlxk54U//I45D8wjc+Q5ZI48h2AiF7tLarhryVpSbVYWzciL\n",
       "nMCAIR4Rmp72By0ymrATqwvtWno5++nNNdfdYFQVuOpaho4YGVS/+0pruWvJWhITLCyakUevrOSg\n",
       "7PHH64r2Qjt/0DEZTViJZYHxTkpVbC/g6iumYS/I56XXlwUtMPnldcx+05giXzQ9j75dU4Kyx58k\n",
       "WfEgMKBFRhNGYlVgoPkamqLSCqbesYCCkgpee+reoHLyAtgr65m9eC2NTS4WzshjQLfUoOzxZ01P\n",
       "vAgMaJHRhIlYFhhovoamsLiUmtp6Xnv6fk4ZEty07sGqBmYvXkutw8mC6bkMyknzfVEb9nhoa01P\n",
       "PAkM6JiMJgzEusCAsYamrqqMlMwcxow4jq+X/oEUacCV4L/34aGsxsHsJWupqGvkyem5DOkZ+Foa\n",
       "f9f0xJvAgPZkNCYTDwIDsJ/eXHDDA7zwj6WgXKRIQ1BJosprDYEpqW7giamjGd47Myh7/FnTE48C\n",
       "A1pkNCYSLwJTXGTnqutuoKC0mtEjhgWdJKqyrpG731xPYUU9j10+ilF9s4K2yVeSrHgVGNDDJY1J\n",
       "xKrAtDdN/dLrbzF6wqlU+3mt95RydUMT9yxbz96yGh69fBQnDOgasq1tremJZ4EB7cloTCCWBcZ7\n",
       "Wrihppxrrpx+eJq6vVmk9qaUax1N3Lt0PTuLq3no0pGcdEx22J4h3gUGtCejCZFYFRhoMS0MJGV0\n",
       "46YrL+K4wccy2sc0dctrlS0DJ6AK1nL/D73ZYq9k7qUjOGVwt7DZ3xEEBrQnowmBWBYYODItXFRy\n",
       "iG9+2AzANdMu9muaurUp5XpLGvd8LazPr+C+ScM54/juYbEbOo7AgPZkNEES6wIDxrRwcWE+03/1\n",
       "JOUV1Xzz9v8jzeLwK9VDyynlRhf8eqWVb0sTuedHQzlnWI+w2d2RBAa0J6MJgngQGDCmqafPmk9B\n",
       "UQkvzJ9NmsXh9zS195Ryk9PFAyvhq2Ibd57ekwtGBldfyR86msCAFhlNgMSLwBQX2fnx//2M/JKq\n",
       "wyt5A5mm9kwpN1pSefgbF5/ak7j91O5cPH542GzuiAIDerikCYB4ERiAv7/4Zwrz831OU7dHY3pv\n",
       "Ht1RyUf2Im4+81guH9ffdDs9dFSBAZ20SuMn8SQwAE6nk107tnP80GFBXe9Siqc+2sby9XZumHgM\n",
       "104YaLKFR4h1gYlItQIR6dlK24nB3tSrjywReV1E8kVkp4jYRGSWiOwTka0iclGo99CETrwITHGR\n",
       "nZ9fO4PCgnysVmvQAqOU4rlPdrB8vZ1rJwwIWGCsVQWk7vyA9A2vkLrzA//TNVTkw6Z3YdVLxmtF\n",
       "fusX+XtejOBvTOZLERnteSMi04B3Tbj/74ENQD9gJNAfuNX9/RTgRREJX9ZljU/iSWCumTKJlV98\n",
       "TmH+gaD7UUrxp8928fYPBVwxrh8/PfWYgK4PJC/MUQKzdTk01UJ6D+N16/KjBcTf82IIf0XmBmCZ\n",
       "iFwqIvcBjwBnh3JjEekFnAo8rgzqMYRlsVKqSim1CdgDhOwxaYIj3gTG2CqwjLEnnRx0X3/9cg9L\n",
       "Vh9gygl9uemMYxER3xd54W9emKOGSPlrjFpISZlGXt6kzNZrI/l7XgzhV+BXKfU/ETkTWAIcBMYr\n",
       "pYKJpXkzEtgNLBWRERieUSKGZ+PhANC75YUiMhOYCTBgwIAQzdC0RrwKTLAJpwBe+Xov//hmH5fk\n",
       "9ua2swcHLDBgLOJzpTZfpKcS07DUHjz8vtUYTG2J4Zl4Y0uH6uLgzosh2hQZEWkEWkaFLe62QyKi\n",
       "lFKh1HfoAYwATgYOAR8DvYB1Xue4AGfLC5VSzwPPgxH4DcEGTSvEi8AAJCQk0DW7G/Ofei4kgXn9\n",
       "23289NUeLhzZkzvOOz4ogQHfeWHaDPKm5hi1kJK8UkW0VhvJ3/NiiDZFRikV7lhIMbBaKXUAQEQ+\n",
       "whAU7zTr/YD9YbZD40W8CEzJwYNkZGaS3S2HN95dEbQoACxbc4DnP9/N2UO7c9cFQ7GE0FdDjzyj\n",
       "FjU0r7/d55T2Z5H6jjViK2B4Jo5qozbS0NOCOy+G8HsxnohMEJErReRqz1eI914JjBCRPiKSBJwH\n",
       "VANXiUiqewiVDfwQ4n00fhIvAlNcZOfHl13IPbN+ARCSwLy7toDn/ruT047L4dcXDcNqCb4vaDsv\n",
       "TGr3ge1PU2f1haGTICHVGPokpBrvW5Y28fe8GMKvmIyIvAaMA74FGt3NCngt2BsrpWpE5JfAR0AS\n",
       "8LJSapFbcDYC9cCNKt4X8sQJ8SQwnhjM/KeeC6mvf2+w8/TH25lwbDYPXDKcBKs5C+Bb5oXxex2M\n",
       "v/WSYqyuki/8XfF7BnCcewbINJRSHwAftGh7HHjczPto2iceBSbUIO9/Nhfx5IdbGTewKw9dOpJE\n",
       "kwSmJbG+0C4S+PuT/RTwPy+hJm6IF4FRSnHLT68xRWD+t+0g8z/YQl7/LOZdNhJbghaYcOKvJ9MP\n",
       "WCsia4DDn0il1AVhsUoTEWJJYHxVTxQRHpy/kIa6upAE5qudJTzy/maG987ksctHk5xoNcP8o9AC\n",
       "cwR/RebBsFqhiTixJjBpu1fgTMowVsk21pC2ewU1gy6gsNbCxx+8z9XX/4zRef4Xu2+N7/aU8fC7\n",
       "mziuRzrzp44mxaYFJhL4uxjvMxFJALoDoYXfNVEnlgQG2k51Wb7pU6751ULsBQWcdf6F9OnbL+h7\n",
       "fL/vEA+8s5GB2WksmDaa9KTwJCDQAnM0/m6QvBMoBXZhzDDtA74Mo12aMBFrAgOtp7q0VziYfsvc\n",
       "wzGYUARm/YEK7n9rA32yknlyei4ZyeFZAqYFpnX8jXjdDhwLvAecAJwGfBguozThIRYFBo6skvVQ\n",
       "VHKI6bfMpaCkPOQg7+bCSn791nq6ZySxcEYeWalaYCKNvyLjUEqVYqxfGaOUWgn8KHxmacwmVgUG\n",
       "jq6e+O3qNdhLyvnby38NSWC2FVVx99J1dElNZOGMPLLTQtkF0zZaYNrHr6RVIjIL+A5jyPQJUAbs\n",
       "UkpdFl7zfKOTVvkmlgXGg7WqgET79yQ0lOFKyaEwoT9ZA0cF3d+ug9XcuXgtKTYrz1w5hp6ZySZa\n",
       "e4TOIDARSVqllPqdUuorpdRWIBe4Hrg22JtqIkc8CAxAYa2F8296nH+X9KV28EUhCcy+0lrmvLkO\n",
       "W4KFRTPytMBEGZ8iIyLjRWSaO/8L7mFTN2B1uI3ThEa8CIxnJe+eXTtJTg5NEPIP1TF7iZG7ZdGM\n",
       "PPp0STHDxKPQAuM/7c7jicgjwFRgFfCEiFwL3IKRoiHUDZKainwj2VBtibFVv+9Y0/akxJrAtLXY\n",
       "zt+tAu0t1vMcs5cd4q7vetOkEnnqyhPon50almfRAhMYvjyZazESVP0EOAf4N0bqhZOVUjoQEgph\n",
       "TKMYiwLTWkrKqv2b/BaYtlJaeo4VV9Vzy6re1DXB/xuzj+OSKsLyLFpgAsfXiqRGpVQNgFJqv4hU\n",
       "AHOVUq7wm9bB8U6jCEde89eE5M3EmsBA24vtutfv5rSzzuXiyVPanUVq63pPSssilcmt33ShwiE8\n",
       "d3ojg9OSUMVrm+2ENgMtMMHhS2T6isgKr/c5wL89+Tv03qUQCEMaxVgUGDg6JWVRySEcDgcDs2p5\n",
       "8PEnA74ejqS0LGuwcOvqPpTUCc+e1sjwrgqlmqe7NAMtMMHjS2QmRcSKzojJaRRjVWCgeUrKopJD\n",
       "TLtlLolWCx//fWHA13uQxhoOWXO4bU0yhTXC0xMbGd1NHT7mT71rf9ECExrtioxS6rNIGdLpMDGN\n",
       "YiwLDBxJSVlQUs60OxZQWFzK64/fTFNv/zY8tpbSsra6hts39GVfjYOnxhRwYlYiSjVPd2kGWmBC\n",
       "R9fCjhYmpVGMdYEBI1Pc7rQxTJ21gMKiUv7x1H3kTr7Fr5rUnuu9U1pWq1Ru3TSUnWUOHpo8ktHj\n",
       "zjgq3aW/fbeHFhhz0LWwo0mIaRTjQWA8PPLksxSWVPDXxe+QO2Hi0SUofOBJaVnX6OTepevZcrCC\n",
       "By8dyYRju+EEHeSNYQKqhS0iGcAQYLtSqjJsVgVAZ91WEE8CA1BRfog9u3aSNzbo1ek0NDq5/+0N\n",
       "/LC/nPsnDefsYT18XxQEWmCaE9ZtBSJysYj8ICIvish4jMJrTwEbREQHhaNEvAhMcZGdB++5k4b6\n",
       "erK6dA1JYBxNLh58dxPf7yvn7h8N0wITR/iKySwCbgM+w6jweJFS6kyMVA8LwmybphXiSWCumTKJ\n",
       "ZW+8xs7t20Lqq8np4pH3NvHt7jLuPH8IF4zoaZKVzdECEx58xWQSlFJfAF+IyCPu+tQopfa5S5do\n",
       "Iki8CYxnJe+I0bk+c/i2hdOleGz5Fr7cWcrt5xzHxblHVS02hYgKTBi3k8QivkSmi4jc5/4+xet7\n",
       "AbqEzSrNUcSrwIybcGq7OXzbExqnS/Hbf2/hs20H+cWZx3L5CeH5Q4y4wGxdbqz2Tu9hLF3Yujzm\n",
       "C7SFgq/h0u+BRPfXH7y+TwBCq6yl8Zt4ERiAQ6WlOByOZnuRmm0LEIuxLSAp4/C2gNZwKcXTH23j\n",
       "483F3HjaIGaM6x8WeyM+RPLeTiIW4zU502jvoPhajPdwpAzRtE68CEx1dRVpaekMHTGSj75ag812\n",
       "JAtde9sCWkMpxe//s4PlG+xcN2EAV588ICw2RyUGE4btJLGOP/lkThWRT0WkSkQOich7IjImArZ1\n",
       "euJFYIqL7Ey54Ez++IyxTcBbYODoHL7Q9tJ/pRT/77OdvLO2gKtO6s/1px4TFpujFuT1bCfxJoTt\n",
       "JPGArynsCcBfMcrG9gQGuN+/oYUmvMSTwHhiMCefMrHVc1rm8BVHFdaGKhp65DU7TynFC1/s5s3V\n",
       "+Uwd25efnz4Iz2ZcM4nqLFLfscb2kYZKUC7jtb7SaO+g+PJk5gE/VUqtUErVKqWqlFLLgJnoetVh\n",
       "Ix4Fpr18MC23BbS19P+VlXv557f7uTSvN7eeNbjjCQyYtp0knvA1uzRcKfV1y0Z3sbdXw2RTpyZe\n",
       "BMbhcPB/0y/1uza1Z1tAW/zz2328/NVefjSyF7POPb5jCoyHELeTxBu+RKaunWO1ZhqiiR+BASPu\n",
       "cssdc+jTt19IZUsA3lx9gL98vptzh/Vg9gVDsHRkgemE+BKZgSLS2nJNAcIzp9hJiReBKS6ys33L\n",
       "ZiaeeTaTp10Rcn/v/FDAHz/dyRnH53DvRcOwWrTAdDR8icyQiFjRyYkngblmyiQOlZXy6aoNpKdn\n",
       "+L6oHT5YX8jv/rOdU47txv0XD9cC00HxtU5mb6QM6azEm8B4YjChCszHm4tYuGIbJx3TlQcvHUGi\n",
       "1fzURlpgYgNfJVG2A63lghBAKaW0pxMC8SowocZgPt16kCc+2EJe/y48PHkktgQtMB0ZX8Ol/wFn\n",
       "ACuAlwBzszN3YuJFYAAW/+PvpgnMlztKeGz5Zkb0zuSxy0eRnGg1ycojaIGJLdr9F6KU+hkwDtiO\n",
       "sQjvMaCfUmqvGUMpEbGJyCYRecH9fpaI7BORrSJyUaj9xyrxJDAAt/5qDv/6z+chC8y3u8uY994m\n",
       "ju+Rzvypo0mxaYHpDPj0U5VSFUqpZ5RSuRjezCwR+VZEbjHh/vcBewBEZDBwKzASmAK8KCKJJtwj\n",
       "pogXgSkusvOTGZexd/cuRIRBg48Pqb81ew8x918bGdgtjd9OG01akvmZX7XAxCaBDoYPub8ygZAS\n",
       "e4jIcOAkYLG7aQqw2L2qeBOG+JwYyj1ijXgSmGumTGLNd99wsLgo5P7WHSjnN29voF+XFJ6clktG\n",
       "svn/O7TAxC4+/52ISCpG3eubgBrgT8BtSqnGYG8qxnLOZ4FfYGTZA2PdzQav0w7QhpCJyEyMrQ0M\n",
       "GBCeHbpmE28CczgGc3JopUU2FVTy62Ub6JGZzILpuWSlaoHpbPjaIPkHYB0wBviJUuospdTroQiM\n",
       "m5uBT5VSO7zabIB3+VsXtJ7UXin1vFJqnFJqXPfu3Vs7JaaIF4E5WFRk6izStqIq7lm2juw0Gwtn\n",
       "5JKdZvN9UYBogYl9fHkyv8D4Q78JmOm1n8QzhR3sp+Y6IENEZgDZQBqGZ+O9oaMfsD/I/mOGeBEY\n",
       "gOTUFPr07c/8p54LWWB2Hqzm7jfXkZGUyKIZueSkmy8EWmCCIAqpP30txgtL8Tel1OFPsIhcjzFk\n",
       "eg94RUQWAsdgiM8P4bh/pIgXgSkpLiYtPZ2MjExeXvx2yJsT95bWMGfJOpISrCy6IpcemckmWXoE\n",
       "LTBBEKXUn76GS38K5lgwKKVWA68CG4GlwM9VIEWhYox4EZjiIjtXT7mIO27+KUDIAnPgUC13LVmH\n",
       "xSIsuiKX3lkpZpjZDC0wQRKl1J++PJWZIuIQkUavL4eINAI/N8MApdTLSqkb3d8/rpQapJQarpT6\n",
       "0oz+o0E8Ccy1Uy+mMD+fn98yK+T+CivqmL14HU6XYuGMXPp1TTXByuZogQmB2hIj1ac3tnSjPYz4\n",
       "EpmXlFI2pVSi15dNKZUIvBxWy+KUeBQYM4K8xZX1zF68joYmJ0/OyOWYbmkmWXoELTAhEqXUn/6s\n",
       "+A34WGclXgRGKcUdN/3UNIEpqW5g9pJ1VDU0smB6LoO7p/u+KEC0wJhAlFJ/mr/sspMSLwIDRtzl\n",
       "oSeeorL8UMgCc6jWwV1L1lFW4+DJ6bkM6Rna7uzW0AJjEp7Un/lrjNSfqTkw9LTozi5p/CNeBKa4\n",
       "yM67y5Zww823MWTY8JD7q6hrZM6SdRRX1vPEtNGM6JNpgpXN0QJjMlFI/alFJkTiSWA8C+0umHQp\n",
       "/QceE1J/1fVN3P3mOvYfqmX+lNHk9utiip3eaIHpGGiRCYF4FJiXXl8WkMC0VsO60taDe5atY09p\n",
       "DfMuG8lJ2XUk7VzZbp3rQGtha4HpOIRlsV1nIF4FJpAYjKeGtTTVGjWsm2qx7PiI+95czbaiauZe\n",
       "MoJTcxqOOidt9wqsVQXt9tPyHG+0wHQstMgEQbwIDMD6H9ZQcvBgULNILWtY11kz+NXaPmy013H/\n",
       "pOFMPC7HrzrXgdTC1gLT8dDDpQCJF4FpamoiISGBcy+cxGer1pOZ1SXgPrxrWDuccO/XiawuFR4a\n",
       "XcrpQ7sfdY6HlnWu/a2FrQWmY6I9mQCIF4EpLrIz+dzTWLH8XYCgBAaO1LBudMF93ySwstjCfbnV\n",
       "XDg49ahzvGlZ59qfc7TAdFy0yPhJPAnMNVMmsX/vHrKzu4XUV0OPPFRdFQ9+A1/YrcwZVc2UniXN\n",
       "alj7U+fa1zlaYDo2WmT8IN4Exqx8MI603jywN5dPCpO4Y+ghph1nOaqGtT91rts7RwtMx0fHZHwQ\n",
       "LwJTWVFuqsC4lGLRim18tKOKG08bxOSTz2yzLrGvOtdtndNMYKKQ50QTGbQn0w7xIjAAGZlZXHjx\n",
       "ZFMERinF7/6znX9vtPN/pwzk6pPNT3F6lMBsXQ5NtUaek6Za431Fvun31UQe7cm0QbwITHGRnZrq\n",
       "KgYNPp677n8o5P6UUvzh0528u7aQH4/vz09OGRi6kS04aojknecEjrzmr9HeTAdAi0wrxJPAXDNl\n",
       "Ekop/v35dyQkhPbrVErxl893s2xNPtPG9uXG0waFnMSqJa3GYGpLDA/GG1u6sYlPE/dokWlBvAmM\n",
       "JwYTqsAA/O3rvbz+3X4m5/XhlrMGR0Zg4EiekySvDZYRyHOiiQw6JuNFvApMqDEYgNe+2cffv97L\n",
       "RaN6cfu5x0VOYCBqeU40kUGLjJt4ERiARY8/bKrALFl9gBe+2M15w3tw5/lDsERSYOBInpOEVGOI\n",
       "lJAa9uTWmsghcZyrG4Bx48apVatWhdSHWQIT6E7jYKmprmbXzu2Mzjsh5L7e/j6fZz/ZwZlDuvOb\n",
       "i4djtTQXmFCfKerrYPTUeMiIyGql1Lhgr+/0noyZAhPITuNAKS6yc8+sX1BTXU1aeropArN8fSHP\n",
       "frKDiYO7cf+kYa0KTCjPFBMCo6fGo06nFhkzh0iB7DQOFE8MZvk7b7FzxzYTrIUVm4pYtGIb4wdl\n",
       "88AlI0iwHv1RCOWZoi4wELUSIJrmdFqRMTsGY6krQSU2z9CvEtOw1IVWbsI7yPvX15eSOyb0YOin\n",
       "W4tZ8O8tnDCgCw9fOgJbQusfg2CfKSYEBqJWAkTTnE4pMuEI8vqz0zhQWgrMSRMmhmomX2wv4dH3\n",
       "NzOyTxaPXD6KpERrm+cG80wxIzAQtRIgmuZ0OpEJ1yySP7uRA6WmugqXy2WawKzcVcq89zYxrFcG\n",
       "86eOIqUdgYHAnymmBAb01HiM0Klml8I9TW3W7FJlRTkZmVmIyOHkU6Gyeu8h7ntrPcd0S2PRjDzS\n",
       "k/3r099nijmB8aBnl0Im1NmlTrPiNxLrYPzZjewLzxDpgkmXMuc3D5siMGsPlPObtzfQv2sqC6bn\n",
       "+i0w4N8zxazAQFRKgGia0ylEJhSBidTaF2gegznn1BNJ3flByPfdWFDBfcs20CszmSdn5JKVkmiq\n",
       "zTEtMNFCe0/N6PAxmVAFJpxrX7zxFpiX//o8Z+eUhXzfrfYq7l26nuw0Gwtn5NI11WaqzVpgWkGv\n",
       "zTmKDi0yoQ6Rwrn2xZumpiauv+Lyw7NIpw9MDPm+O4uruXvpOjKSE1k0I5du6eaKgRaYNtBrc46i\n",
       "ww6XzIjB+JtlP1QSEhK445776ZqdzUkTJmLZ8EpI991TWsOcN9eRkmhl0RW59MhMNtVeLTDtoNNW\n",
       "HEWH9GTMCvKGY+2LN8VFdv7z4XIALph06eFp6lDuu7+slruWrMNqERbOyKV3VooptnrQAuMDvTbn\n",
       "KDqcyJg5ixSOtS8ePDGYu267icqKclPuW1Bex+wla3G5FAtn5NKva2q75weKFhg/0GtzjqJDiYzZ\n",
       "09T+ZOIPBu8g719eeeOoukjB3Leosp7ZS9biaHLx5IxcBnZLa/PcYNAC4yc6bcVRRC0mIyLJwLPA\n",
       "WUAS8IxS6mkRmQXMBuqAO5RSH/jTXzjTNdQOvsi0PgtrrFwz6wns9uJ288EEsubmYFUDs5espbqh\n",
       "iUUz8hjcPb3NZwlGILXABIhem9OMaHoyacCHwFDgROBeETkTuBUYCUwBXhQRnws7YjldQ8s+3/73\n",
       "f7EX5PO3l543JeFUWY2Du5as5VBNIwum5TKkZ4apz6IFRhMqUfNklFKlwFL32xIR2Q+cASxWSlUB\n",
       "m0RkD4YArWyrH5dS4UnXAMbUsbs92JW8nj5diemICDOvm85FZ5zIgAGJbdYx8peK2kbmvLmOg1UN\n",
       "PDFtNMN7H8mRa8azaIHRmEFMxGREZBSQDOQAe70OHQB6t3L+TBFZJSKriorNm04OR7oGS10J9goH\n",
       "U38xl6279iEiDBh4TMgpIKrqG5mzdB355XU8OmUUuf26HHXfUJ5FC4zGLKIuMiKSA7wC/BSwAS6v\n",
       "wy7A2fIapdTzSqlxSqlx2d3MmxoMx5R1YY2V6bfMZd2WXZRX1pjSZ01DE3cvXc/e0hrmTR7J2AFd\n",
       "jzonlGfRAqMxk6iKjIh0Bd4D7lNKfQcUAt4Rs37A/kjZY/aUdXGRnamznqCguIx/LryTk/OGhtxn\n",
       "ncPJr5etZ0dxNXMvGcH4QdmmPosWGI3ZRE1kRCQTeBd41GsG6X3gKhFJFZERQDbwQ6RsMnPKuqS4\n",
       "2Jimthfzt7+9xPixY0Lus77Ryf1vr2dTYSW/uXg4E49r2ysJ5lm0wGjCQTS3FdwOnAA8IyLPuNsu\n",
       "AF4FNgL1wI0qwglvzEjXAJCWns6xxw1h/lPPMXbCqSEHeR1NLh7810bW7q/gvknDOHNId5/XBPIs\n",
       "WmA04SLuk1aNHjNWvfPR/6JtxmEOFhWRnJJMRmaWaX02Og2BWbmrjDkXDuWiUb1M6xu0wGjaR5dE\n",
       "iSGKi+xcPeUibr3hOswSb6dL8ej7m1m5q4w7zjteC4wm7uiwu7AjjfdWgflPPWdKmVenSzH/gy18\n",
       "vr2EW84azOQ8c5Nl+SUw8Z6AKd7t7wBoT8YEwlGb2qUUC1ds5ZMtxcw8fRDTT+xngqVH8Ftg4jkB\n",
       "U7zb30HQImMCc267yVSBUUrxzMfb+XBjEdefOpCrxg8wwcoj+D1EivcETPFufwdBD5dMYN6CpzlY\n",
       "XMS4k08JuS+lFH/4707eW1fI1eP7c92EgSZYeISAYjDxnoAp3u3vIGhPJkiKi+w899QCXC4XAwcd\n",
       "a5rA/OXz3Sz7Pp8ZJ/bjZ6cNMiW24yHgIG+8J2CKd/s7CNqTCYLiIjvXTr2Ywvx8Lr5sCoMGH29K\n",
       "v3/7ai+vf7efy/L6cPOZx4YsMDb796TtXI61phBrl76k5U2FjBP976DvWCOGAYYH4Kg2EjANPS0k\n",
       "uyJGvNvfQdCeTIB4C8xLry8zTWD+8c1e/r5yL5NG9+KX5x5nisB0+eHPSGMV1q4DSFO18NXv4cBq\n",
       "/zuJ9wRM8W5/B0F7MgHQUmDMCPICLF61nxe/2MP5I3ryq/OGYDFhiJS2czlNyV1ITM8hLSkB6GYc\n",
       "2PQO9AvAm4n3BEzxbn8HQHsyAbB9y2bKSktMFZi3v8/nT5/t4qwh3bn7wqFYLebEYKw1hSSmZbsF\n",
       "xk1yF6gsNKV/jcZftCfjBw6HA5vNxsQzz+bTVRtIT88wpd/31hXy7Cc7mHhcN+6bNCwggfGVWtPa\n",
       "pS9prioOezAA9eWQeVR6Ho0mrGhPxgfFRXYmn3ca77z5BoBpArNio52nP9rGyYOyeeDiESRY/f9V\n",
       "+EqtmZGcaAR5aw9BbSm4nMZr7SEYcZkp9ms0/qJFph08MZj8ffvo26+/af3+d0sxCz7cytgBXXh4\n",
       "8khsCYH9GtqrbHl4mrrfiXDqL8GWAeUHjNdTfxlYPEajMQE9XGqDcAV5P99ewmPLNzOqbxbzLh8V\n",
       "sMCAkVoTsWIr24bFUYnLlklj5kBScZDhvQ6m34laVDRRR3syrVBdXRUWgVm5q5RH3tvEsF4ZPD5l\n",
       "FCmJ1iB7spBU+A3idOCydUGcDjKKV5GR7LOwg0YTcbQn0wppaelcNv0qTj5lomkC892eMh7810aO\n",
       "7Z7GE1NzSbWF9qO3KGhCAQqb1UIKFjBxdbBGYxZaZLwoLrJzqLSUoSNGcuuv5pjW7w/7y5n7zkb6\n",
       "Z6eyYFou6cmh/thd1PU5mcTKvSQ5q0nN6ApdR4I6Kud6/KBTMnRYtMi48aRrcDgcfPTVGmw2myn9\n",
       "bsiv4L631tMrK5mF03PJTAl9SONKyUGaarEMOJlUT38NlcaK1njEk5IhOdPY0OioNt7r1bkdAh2T\n",
       "oXk+mEXPPW+awGwurOTeZevJSU9i4fRcuqSa029DjzxSVS1ZlrqOUdRdp2To0HR6kQlHwimA7UVV\n",
       "3LN0PVkpiSyakUe3dPNSXKZ2H0hG7uSOsyentsTYwOiNLd1o18Q9nX649IenFpguMLtLapjz5jpS\n",
       "bVYWzcgzNYfukXQNHWhPjiclQ9KRMrs6JUPHodN7Mvc9/DhvvLvCNIHZV1rLXUvWkphgYdGMPHpl\n",
       "JZvSL3TgpN99xxrDvYbKjjH80zSjU4pMcZGdO26+gYryQyQlJzNidK4p/eaX1zH7zbUALJqeR9+u\n",
       "Kab0Cx1YYECnZOjgdLrhkncM5qczbyFvbPvlZHxtRPRgr6xn9uK1NDa5ePrKMQzoZt5MT4cWGA86\n",
       "JUOHpVN5Mi2DvP4ITHsbET0crGpg9uK11DqcPDk9l0E5aabZ3CkERtOh6TSeTDCzSM02IoKxEdHd\n",
       "7in/WlbjYPaStVTUNfLk9FyO73n0Lm1/vaGWaIHRdAQ6jcg0OhwkJtoCmkWy1JXgSm1ec1olpmGp\n",
       "PQhAea0hMCXVDSyYlsvw3plH9eHxhpxJGYY31FhD2u4V1Ay6oF2h6Vq2ga57lxtJpjJ7Gyka9GZH\n",
       "TRzS4UWm/FAZmVld6Nt/AO/99yssFv9HiK6UHKSx5rAnAyCNNbhScqisa2TOm+sorKhn/pRRjOqb\n",
       "1arH4o831JKuZRvouvZPkNoVuvQzkk199fvAUzXE0lL9WLJFE1E6dEymuMjOjIvPY979dwMEJDBg\n",
       "rKy1NlQhjipQLsRRhbWhitIuo7hn6Xr2ldXyyGUjOWFA1zbjNwmHdqASm8doVGKaka6hFTKSEw0P\n",
       "JrUrpHYDi9V4Te1q5Of1l1iqnhhLtmgiTocVGe8YzCWXTQ2qD2dGH2oGXYBKSMVSexCVkMrBvucx\n",
       "58MSdhys5qFLR3LSMdlA24mkrA2VSGNNs3493lBLDsdgKguNfLzeBJqfN5aW6seSLZqI0yGHS2Zu\n",
       "FXBm9Dk8rKlvdPLrZevZYq9k7iUjOGXwkfy5bcVvXMlZWBuqcLrfS2MN1oYqavo0LwbXLMib2dsY\n",
       "IqWGkJ83lqonxpItmojT4TwZl8vFz348zfStAo4mFw+8vYH1+RX8+qLhnDGkuaB44jfeSGMNjV0G\n",
       "H+UNtQz6HjWLNOKy0PPzxlL1xFiyRRNxOpwnY7FYuGfuIyQnJ5smMI1OFw/+ayOr95Vzz4+Gcu7w\n",
       "Hked09Ajz5hF4miPxdsbakmr09Se/Lyb3jHy82b2hjHXBhb0jaXqibFkiybiiFIq2jaExOgxY9U7\n",
       "H/2P4iI73638iouDjL+0RZPTxcPvbeLLHaXcef7xXJLb9rRzoOthwr4OJpZmdGLJFk1AiMhqpVT7\n",
       "K1fboUN4Mp4YTLHdzoSJp9Mtp7vvi/zA6VI8vnwLX+4o5bazB7crMEC7HktLIrLQLpaW6seSLZqI\n",
       "EnMxGRG5QkR2i8gOEbnB1/lNjY2Hg7wvvLbEVIFZ8OFWPt12kJlnHMvUsf1M6Rf0Sl5N5yKmhksi\n",
       "kgFsAiYATuAHYLRS6mBb1yQlJ6sEawJ/fX0pJ02YaIodLqV46qNtLF9v56cTj+G6CQNN6Re0wGji\n",
       "j1CHS7HmyVwIfKaUyldK2YFPgHPbu6CpsdFUgVFK8ftPdrB8vZ1rTh6gBUajCZFY82R+BeQope53\n",
       "v18AFCqlnm5x3kxgpvvtKGBDRA0NnhwgnnJKxpO98WQrxJe9Q5VSQddnjrXArw1web13YQybmqGU\n",
       "eh54HkBEVoXiykWSeLIV4sveeLIV4steEVkVyvWxNlwqBLynIPoB+6Nki0ajMYFYE5kVwIUi0kNE\n",
       "egGnuts0Gk2cElPDJaWUXUTuB752N81WStW0dw3uYVOcEE+2QnzZG0+2QnzZG5KtMRX41Wg0HY9Y\n",
       "Gy5pNJoOhhYZjUYDgIikiMgQs/uNW5EJdPtBpBGRZBF5XkS2iche9xogRGSWiOwTka0iclG07fRG\n",
       "RGwisklEXnC/j2Vbs0TkdRHJF5Gdbttj0l4RuVNEtrs/r7e622LGVhHJFJG3gSLgbq/2Vm0UkSdE\n",
       "5ICIrBcR36kBlFJx9wVkYExt9wV6AXage7TtamFjN2AaIBgLr4qAM4FtbvtHAAVAYrRt9bL5IWA5\n",
       "8AIwOMZt/TvwG/fPNzlW7QWOAfYAae7PRAUwMpZsBdIxVtbfCLzgbmv15wmcA3yBMWl0PvCDr/7j\n",
       "1ZMJePtBpFFKlSqlliqDEgxRPANYrJSqUkptwvjwxUQJAhEZDpwELHY3TSF2bfUsb3jc/fOtJ3bt\n",
       "bXS/ujD+MKuAScSQrUqpaqXUf4Amr+a2fp5TgZeVUk1KqY+A7u7fR5vEq8j0B/Z6vT8ABJCbMrKI\n",
       "yCiM/7Y5xKDdIiLAs8Asr+ZY/hmPBHYDS92u/EJi1F6lVD6Gh7gS+Bi4GmORaczZ2oK2fp4t2/Px\n",
       "YXu8ioxf2w9iARHJAV4Bfkrs2n0z8KlSaodXW6zaCtADw4X/JTAWmAhMJgbtFZFMDGGZBTwF3EVs\n",
       "/2w9tGVjwLbH1GK8ACgEzvJ63w/4JjqmtI2IdAXeA+5TSn3nDp7F4raJ64AMEZkBZGPED54lNm0F\n",
       "KAZWK6UOAIjIRxgf9Fi091pgnVLqU+BTEZmCEUOMRVu9aWuLT8v2PhheTpvEqycT89sP3P/B3gUe\n",
       "VUp94G5+H7hKRFJFZATGH/QPUTLxMEqpU5VSo5VSY4C5wFsY4hhztrpZCYwQkT4ikgScB1QTm/bW\n",
       "A2NEJNGdL2kIxrApFm31pq3P6vvAT0TEKiLnA9uUUmXtdRSXnowKbvtBpLkdOAF4RkSecbddALwK\n",
       "bMT48N2o3KH8WEMptVpEYtJWpVSNiPwS+AhIwghELnILTqzZ+yrGjMwuoA74m1Lqy1j62brF73uM\n",
       "maRkETkL+DmtfFZF5C2MWdJdQCnGULD9/mPj96DRaDoq8Tpc0mg0cYIWGY1GE1a0yGg0mrCiRUaj\n",
       "0YQVLTIajSasaJHRaDRhRYuMJmREZI+ImFdi00RE5HpP6gpNdNAi0wkREeXOw3NARL4WkYujbVNL\n",
       "RORlEbGLyC4R2SAip0fbJk1wxOWKX03IOJVSxwG4l4y/IiLpSqk3omxXS+5SSr0qIucAfwGGRdsg\n",
       "TeBoT6aT484VcjXwWzicgvFP7kxu20XkJnf7WSLysec6t6dxrVdXP3Zn1dspIme7zznHnT1tj4i8\n",
       "ISIWd3uTiNztPneViPT0Yeb/MDboISJpIvKB+9oNIjLay56FIvKN2wOa0bITEfmzHjpFHi0yGpRS\n",
       "W4EUEekB3Ivh4Q4BJgCzRSTXj266KaVGAD8DXnS3lWGkYTgWI0PcGe52K3BAKTUY2OK+pj2ux9hU\n",
       "CEYmvPvd1/4JmO113gj3/a4FHvPuQER+BhwP/MKPZ9GYiB4uaTwkYGRxmwT8zL1hr1RElmKk1Vjn\n",
       "4/oXAZRSn7p3HHcD9mFstMsDBnAkRYAClri//wxoq1zrAhF5FlgLXObuv1pEBoqR1/kkoNLr/KVK\n",
       "qSYR+QwY6NWeB5wCnK6UakQTUbQno0FExgJFSqlDGGLjanGKEyM1o9WrLbHFOd6pG5Mxdhwvd1/7\n",
       "APAphhcC4PL6Y29s0a83dwPDMdIMjHfbejNwE0aM5jGvPgEaANx9e/dZjZEjp900kZrwoEWmkyMi\n",
       "ecDLHMlS/xHwSzHIBi7HGKrsBYaJSJKIJGN4Bt7McPc3DdiplKoFRgGvY/yRTwzGPqVUEcZw6o8i\n",
       "kuLu879KqbUYuZ79YSdwC/COO1OhJoLo4VLnxCoiOzA8jt3AnUopT8xjHvBHjD/MOuARd8wGEXkF\n",
       "+Aojx8i2Fn12E5FNQC3wE3fbb4E1wGaMIU9QKKVWiciHwMPAS8BiEfk/4MMA+lguImOAt0XkXKVU\n",
       "Q7D2aAJD55PRaDRhRQ+XNBpNWNEio9FowooWGY1GE1a0yGg0mrCiRUaj0YQVLTIajSasaJHRaDRh\n",
       "RYuMRqMJK1pkNBpNWPn/D/k4NrcaZgcAAAAASUVORK5CYII=\n",
       "\"/><img style=\"margin:0\" align=\"left\" src=\"data:image/png;base64,iVBORw0KGgoAAAANSUhEUgAAARkAAAEnCAYAAACdYDfKAAAAOXRFWHRTb2Z0d2FyZQBNYXRwbG90\n",
       "bGliIHZlcnNpb24zLjMuNCwgaHR0cHM6Ly9tYXRwbG90bGliLm9yZy8QVMy6AAAACXBIWXMAAAsT\n",
       "AAALEwEAmpwYAABEcElEQVR4nO2dd5zU1dX/32e292XpSxdBehMFkdjFAD8LEB8VTaLRYO8afdSg\n",
       "Yu8lxkdNDKYJarBExdhiiS2KFKVKL7s7O7tsr9Pu74/vDM4u0/vs3vfrtS92vu2eWXY+e+85554j\n",
       "Sik0Go0mVpgSbYBGo+naaJHRaDQxRYuMRqOJKVpkNBpNTNEio9FoYooWGY1GE1O0yHQBRKRYRCaI\n",
       "yGwRuUhEbvRyjdnLsVEi8mqYY/YWkU0i0k9EzhcRJSKXdrpmqOt4fhDPy3LZf7+Xc8eJyEYRaRWR\n",
       "t0Wkp5dr3Db8P9frZSLyy3Demya6aJHpGvwMuBn4AzAE2CkiRSLyZxHp7+e+G4APAUTkARHZ1umr\n",
       "TUSyfdx7P/CkUsotXs3AEhEpDtV4ETkGqAaeAy7qdK4X8BpwC9APEOCxTtfkArcCNR6HrwTuEZGC\n",
       "UO3RRBmllP7qIl/AB8ChHq9PBDYBYwFzp2tLgc1AJpAHjPfyvApAvBzv7TqX43p9PrAKeBd43OO6\n",
       "oYAC8gPYXeq69jigutO5K4APPF5PwxC0TI9ji4HHgV3A//M4/n/AVYn+f+nuX3om0wUQkUdEZDNw\n",
       "FPCuiGwWkUKl1IfAXOAHL7c9CtymlLICl9FpBuHCpFyf1k6cCHymlGrtdPxaYJGIjPJh5+fu5Ywn\n",
       "SqlypdQuH2/vCOBrj9drgBxguOuZ/YFFwF1e7n0bmO3juZo4oUWmC6CUuh6YAjiBU5RSo4Dfi8gS\n",
       "pdQOpZTN83oRmQX0VEr9w7W8OQu4zdujfQw5EVjtxY6NwLN0Ws54nD9aKfVWkG/LTT/A4vEMK9AI\n",
       "lLgO3Q08oZTa7+Xe1S5bNQlEi0zXYR6QD/xdRI7F+Os+XUSu8XLtNGCQiHyLscS4WynVGMJYPQFv\n",
       "H2qAO4DDRWRuCM/zRxoH/56aAKeITMBYYj3p495qDFs1CUSLTNfh18A2YAnwPJAOnAH8rfOFSqm7\n",
       "XLOdy4C3lFKvd75GREyAw8dYbUCWtxNKqXoMJ+2jQEaob8ILtfw4a0FEMjHE1AI8AvxWKdXu494c\n",
       "l62aBKJFpgsgImcATcBuYAvwc+B0DKfpbSLyMtBTRHaKyL9d9/QCHgKuEJFHReSETo/NxvcHtAwY\n",
       "5MekP2EsaS4L7x114HvgSI/XR2LMomzAT4CnRaROROqAwcByEbnCde1Al62aBKJFpmtwER0dn0Mx\n",
       "lkRpGI7SP2DMCKYopU4QkSxgBYYfpg0jjP2QiIjHM/KAzo5dN58Bx/gyRinlBK4CLg7nzXRiGfAT\n",
       "EfmZiPTFWI49p5Tao5TKVkoVu7+APcDZSqmnXPceA3weBRs0EZCeaAM0UeFqpdR2t0YopZZhfDgP\n",
       "ICJOpVSt6+XJQAFwCXAhxtKjBmNm8KnrmmnAPh/jfQmUiMhopdQmbxcopb4QkRXAeR42fA7c19n5\n",
       "KyLHAR95vFauZ4hSaquI/AojRF3sel93+LCrM+cDByUmauKLeI9QalIREfkAuEQptc3LObNSql+A\n",
       "+2/H+FC2AS3Ar5RSH/i49hxggVLqZ5FbHn1E5FTgCqXUKYm2pbujZzKaAyil7hSRuzDyY+wBrl0m\n",
       "Ij1EpI9SyuLv2gTRH7gg0UZo9ExGo9HEGO341Wg0MUWLjEajiSlaZDQaTUzRIqPRaGKKFhmNRhNT\n",
       "tMhoNJqYokVGo9HEFC0yGo0mpmiR0Wg0MUWLjEajiSlaZDQaTUyJm8iISI6IjIzXeBqNJjmIuciI\n",
       "SKGIvA5UAr/xOH61iOwRkS0iMtvj+P0isk9EvheRw2Ntn0ajiS3xKPXgBH4HvAVMBxCR4cDlGP2A\n",
       "BgEfiMgQjKJJMzEqux2PUat2Uhxs1Gg0MSLmMxmlVJOr/49nfZJ5wMtKqUZXG41dwOHAfOAFpZRd\n",
       "KfU+0FtE/BZa0mg0yU2iilYNAtZ7vN6HUWRoEPCGx/Ey1/EOfZxFZBFGyw/y8vIOHzXKay8xjSYp\n",
       "cSqFzRF+HSdxWBF7K+K0o0zpqPQcVFpm1OwztdeDcmJ3KLbvKUc5bA3tdlUU7vMSJTKZGMsoN06M\n",
       "9hu+jndAKfUcRt9kpk6dqlatWhU7SzWaKNLYZqOq0VcHl8CkNZaTt/M9HFkFqIw8xNZMWnsjzcNm\n",
       "4SgojYqN+ev/SkVLOgsuv4O0tDSy02wRVT5MVAi7Ahjg8XogsNfL8VJ8F7PWaFKKSAUGIMuyzhCY\n",
       "zAIQEyqzAEdWAVmWdQeuSWssJ3f7O+Sv/yu5298hrbE8pDEqmtP42WWLqbDU8PfHbo3IXkicyLwN\n",
       "nC0iuSIyBqN511rX8V+KSJqInAz8oJSqSZCNGk3UiIbAAJhaq1EZeR2OqYw8TK3VwI8zHbG34Mzt\n",
       "jdhbyNv5XtBC43A4WHjT45RbanjxoWuZPmkUJpG0SGyO+XJJRAowev8UANmu9he/xuhsuAGjMv5F\n",
       "SiklIq8BxwI7MBp4LYy1fRpNrIlEYNIay8myrMPUWo0zpxdgQmzNxkzGhdiaXec6zXTAmOm4jrcU\n",
       "lB70vPY+Ezsss9LS0rhx8b3k0cK0IRmYWqpwqg4ujJBJ+ULi2iejSWYiFZjO/pf0hn2IAlvRQK8+\n",
       "mfz1f8WZ2xvEY5GinJhaqmgdcqJPf05Fi4lvv/6K2aee0cEGq93J6NKib5VSU8P9GeiWKBpNjIh0\n",
       "ieRtVmIvHIjY2lDpucYsI6cXzaVHHZiNOHN6+Zzp+Jrl1G38mHOvfRhLZSXTZsykpKcxK6pptrL4\n",
       "jfVEihYZjSYGRMMHY2qtNmYlHhgzkBZahs/ucNy9DMqo2056/W6sJYfhKBz442yl9Chydn8IkkZm\n",
       "zQ+YrA04MwvZZyvmZ9c+gnl/E0uXv3pAYHZUNXHLa+upb7VF9B5Ab5DUaKJOtJy87lmJJ57+Fzee\n",
       "zl5bj0OxlhxGZu0W0mu2otJzPcLbJrIq/os4rDgzi6msqmHBlfdQXlXH0uWvMnX6DAC+3L6fK5et\n",
       "xaEUT5w9KeL3oWcyGk0UiZbAALT3mWj4UKCjD6X0qA7XdV4GOYoG05bTA5Wee9CMx6TAjgIUb3+9\n",
       "lfKaZpY/eA1jp89AKcU/vt3HM5/sYETffO46fRy9C7Iifh9aZDSaKBFNgQFwFJTSPGyWEQ3y8L+k\n",
       "NVdS+N1S0porcOT1BxHa+03pcK/KyMPUUtXpiU5aS6eRXr8LU3s9v5o7jRNOPIkBvYuodTh58sNt\n",
       "vP19BceM6MXNs0eRnRFR5PoAWmQ0migQbYFx4ygopcUjxJxpXkPx2mexZxfjyB+AWOvJqt6EMy0b\n",
       "W59xB67ztqxy5vTCYi7nwsWvcs8NFzFhyCGUWhupdeZy04rvWLu3nnOnDeaCo4diEonae9Aio9FE\n",
       "SKwExht521dizy5GZZcAoLJLsBYOJtv8NfbiIX6XVXvpz8KrrqC8up7W1lbE2si+mlau3tCfyqYG\n",
       "bp49illj+kbdZi0yGk0ExFNgAGOJlD+gwzFnfilOW7PPsDaApdLMuT//Feb9Tbz42K0cNbIX/63N\n",
       "539X9SE9DR45cyLjBoS9B9IvWmQ0mjCJt8AAOPL6I9b6AzMZALHWYy8efpCT1011VRXnzpuDubyc\n",
       "pctfY/z0GSxbV84TX2xlcEk298wbR/+inJjZrEPYGk0YJEJgAJqHzyG9rQ5pqwGnA2mrIb2tjubh\n",
       "c3zeU1BYyOhxE1i6/FUmH3kUT320jcc+2MrUoSX87pzJMRUY0NsKNJqQSZTAuMk0ryFv+8oD0aXm\n",
       "4XOw9pt80HWWSjMZGRn0KOkJQHO7nbvf3sR/d9awYMoALjl2OGmmwA7e4X0K9LYCjSZeJFpgAKz9\n",
       "JnsVFU8slWbOnTeHnr16s+yNf1HZ0M6tr69nT00L1540glMnRqf2TDBokdFogiQZBCYY3AJjLi/n\n",
       "vkefYkN5A4vf2IDdqXhg/nimDOkRV3u0yGg0QZCKArN0+avUFg7n4VfW0bcwm3vOGMegkty426RF\n",
       "RqMJQKoIDMAt112Bubyc55etYJ29P39/ZzOTBhVzx6ljKMzJSIhNWmQ0Gj+kksAALHnwcXbv2cvK\n",
       "qkI+3bqHueP7c/WJh5KelrhAsg5hazQ+SBWBsVSaeeS+JTgcDjIKe/PCtkz+s7WaS48bznUnj0io\n",
       "wICeyWjiRX0ZlK2GlmrI7QUDpkDRgMD3JYhkFhjPEHZZewE/v/uflFfuZ9KJ83hmTRMt7Q7uPmMc\n",
       "Rw3vmWhTAT2T0cSD+jLYshLsLZDfx/h3y0rjeBKS7AJTvPZZxNZImbWIMxb/nYrycm68/3c8/GUd\n",
       "aSI8ec6kpBEY0DMZTTwoWw3ZhZBVaLx2/1u2OulmM8ksMPDjBsmKlgxOX/xXyvc3ceGNt/JCWR/G\n",
       "9M9jyenjKMmLXqO3aKBnMprY01INmfkdj2XmG8eTiGQXGDA2SKrMInZW1FLXbGfujY/xhu0IZhft\n",
       "4dH/mZR0AgN6JqOJB7m9wNr04wwGjNe5vXzfE2dSQWAAWjJ7k22t57CRhzDt2qf5b3MRl5X+wEWD\n",
       "LNSlJ+ecQYuMJvYMmGL4YMCYwViboK0BDpuZWLtczujW+kqapYi0Tj2Ikg1LpZlf3PwKC08cz3v9\n",
       "jmW/LYsHhq1hbu5m6g69ONHm+SQ5pU/TtSgaAIfNgfRcaLIY/x42J7H+GJczuqWlkXpTccidFuON\n",
       "pdLMefPnUpU1kGW9FmFV6fzpkI+Y1beZukkXB9zLlEj0TEYTH4oGJJeTt2w1LaY8GpzZIAd3Wkwm\n",
       "LJVmzp0/l/qe4yk+9gIG9cznnnnj6F1wMrWJNi4ItMhouiWt9ZU0mIrBo9KB9+LbiaW1pYVzF5xK\n",
       "04ifkj9+FjMO7ckts0eTkxmdIt/xQIuMptvR2GajWYr89pROFuymDHovuB2Hs4CzjxjERT8ZFtUi\n",
       "3/FAi4ymW+GOIqUF2dMoUVgqzXy/Yx9/3uSkmkJ+c8pIfjquX6LNCgstMppug2eY2ldPo2SILlkq\n",
       "zSz89ZU4pl9AUVERD585gQkDixNtVthokdH4J8X2HPnCWx5M555GoeDuPW1qrcaZ04t2j/C3v3OB\n",
       "sFSaOefaO3HOvIS++ek8snAKA4pjW4M31ugQtsY3KbbnyBfRTrTz7D3tzO3dIfzt71wgzBUVnLP4\n",
       "GdThZ3NYzwz+eOHRKS8woGcyGn+k0J4jX8Qik7dz72nP8Dfg85y/WVOL1c5Vf/4PauTxzOhn4s5z\n",
       "ZgZV5DsV0CKj8U1LtTGD8SQz30ioSwFitVXA1FqNM7d3h2Oe4W9/57xR2dDGra+vpyazL2eNzuPi\n",
       "2WE3BkhKtMhofJMCe458Ecu9SM6cXn7D36GExj9fv5M73tpMZm4+980fzxFDS7xel8pon4zGNwOm\n",
       "GHuM2htAOY1/2xqM40lMrDc7tveZSFp7I2JtBOVErI2ktTfS3mei33Odef2/P/DblduxtjRwxcSM\n",
       "LikwkGCREZHrRGSriOwUkctdx64WkT0iskVEvPfd1MSHZNxzFIB47KZ2h7/dvadVei7Nw2bhKCj1\n",
       "e86NUorfv7eeJz+rwGrexpKTBzL72OkxtTmRJGy5JCJDgauAsUA2sENEPgYudx0bBHwgIkOUUrZE\n",
       "2dntidaeoziEwuNZrsFf+NvfuXabgyVvrOPL3Y20bfyYRy88iekzjo6lqQknkTMZt3A4McSuEZgD\n",
       "vKyUalRKbQR2AYcnxjxN1IhDKDwV6sHsb2rn2pfX8dXuRjK3vMsTF3V9gYEEzmSUUmUicgfwFYbY\n",
       "LQQWAOs9LtsH9O98r4gsAhYBDB48OOa2aiIkxqHwVBCYbZYm/nfFOpqsTu48bSxHH3oMkgJ7kAqy\n",
       "I+/VlLCZjIgUYgjL1cCjwA1AJsbMxo0TcHS+Vyn1nFJqqlJqau/evTuf1iQbMSy/mQoC8/m2aq5c\n",
       "tpr91VWMKPsXM0f0ShmB6V2QFfFzErlcOg/4Tin1sVJqqeuYGfD80zYQ2Bt3yzTRxR0K9yQKofBk\n",
       "FxilFMu/2cviNzbQbtnF/mU384v5cxNtVlBES2AgsSLTBkwSkQwRKQBGAh8AZ4tIroiMAUqAtQm0\n",
       "URMNYhAKT3aBsTmcPPTuDzz36Q7Yu4aq5bfy/J/+xNTpMxJtWkCiKTCQ2GS8vwEnADuAVuDPSqnP\n",
       "ReRvwAYMEbpIKaUSaKMmGrhD4WWrjVB4bi+jvm+Y/phkF5j6Vhu3/3MD3+2rJ3PbR5S98yxLl6/o\n",
       "lgIDIKn+GZ46dapatWpVos3QxIlkF5g9+1u45fXvqWps5zenjKKofhtASguMiHyrlAp7r4PeVqBJ\n",
       "GZJdYFbtquHOtzaSLnB6SSUnjj4G6BPwvmQgFjMYN1pkujLJVAsmkC0BzocrMJ59ox15/WkePudA\n",
       "Zf9I6r505o21Zfzu39sYWJTJvmW38cz2jZx5yjH07ts3rOfFk1gKDOi9S12XZKoFE8iWAOcjERh3\n",
       "32hH/gDE1kjx2mfJNK+JqO6LJw6n4skPt/LEh9uYVJrHvj9fR+W2DTy/7B9aYFzomUxXJZlqwQSy\n",
       "xc/5xqw+YS+R3H2jVbax8VBll2B3HW/vNyWsui+eNLXbueutjXyzq5a5o3vwzt0XUFlexp+Wr+CI\n",
       "6cmfyRsPgQE9k+m6JFP/6UC2+DjfWl8ZkQ/G3TfaE5VZRFpzBabWalRGXsdzGXmYWoP7+ZTXtXLl\n",
       "i2tYvaeO608eyZCG77BUlGuB8YKeyXRVkqkWTCBbvJxvaaqnQYqIBEdef8Raf2AmAyDWehx5/QPW\n",
       "hPHHd/vqWPzGBhTwwPzxTBnSAyacxzHHn0SfvsnfUSCeAgN6JtN1SaZaMIFs6XS+pbGWlvoarzVY\n",
       "QqF5+BzS2+qQthpwOpC2GtLb6mgePiekui+evLvBzA2vfEdhTgZLZg1iya/PYNVXXwBogfGBFpmu\n",
       "SjLVgglki8f51toKGuwZB9VgCQdrv8nUTboYlVFAWlMZKqPgQN/oYOq+eOJUij/8ZwcP/GsL4wcW\n",
       "ccdJA7jhl2ew/YctKFIj1ywRAgM6GU+TRCRrHkyrzcG9Kzfx+bb9nDqhP2eNK+CXC+ZiLu8ePhid\n",
       "jKfpEiSrwFQ1tnPr6+vZUdXE5ccP57jBWZx92indRmCigRaZZCUeiXTxTNbzM1YwAhNu4lwkTdh+\n",
       "2L6DW9/ZQ5td8fB0K4ePMNGe04PDj5zOgrPP9SkwgZ4bzSTAQCRaYEAvl5ITd3JadqER2rU2GY7R\n",
       "aPpU4jFGEGMFkwfjTpxzZBV07FsdwG/j7z7A7zM/WbuF+z8qpyRL8fAMGwXN+zBZmyiYembYYzoK\n",
       "SsN+L+EQLYHRy6WuSDwS6eKZrOdjrNZd31BVelLA2/01U/OXOBdOE7bMynU8t97G0i/MTOjh4IEZ\n",
       "TqyNdcy/5kHyc7J4508jaA1zzJaC0rDfS6gkwwzGjY4uJSPxSKSLZ7Kel7FayKaxpiKo28NNnPN3\n",
       "n7dzbaY87vhasfSLXcwubeapn9ixNtay4LLFVFhquPOaC0hr2x+RrZEmAQZDMgkMaJFJTmJUSS7u\n",
       "Y/gYq8Vqp7GhLqjEN/ixmZonwSTO+buv87n9bXD5p+m8W5HHRTOHsfgIoc5SdkBgXnz8NqaPHRzR\n",
       "mJG8l2BJNoEBLTLJSTwS6eKZrOcxVku7lcb6mqAS39yEmzgXbBO2rXWKCz9KZ2tDGned3J+F0wZj\n",
       "7TuRWx5ZSoVlPy8+dgvTxwyMeMxI3kswJKPAgHb8Ji9dMLrUuusbGmsqwoqoxCq69M1337P4m0zy\n",
       "MuCe2UM49JBDDtxbu/N7zN/9myOGl0RtzEjeiz9iKTCROn61yGjiQrLlwSil+Me3+3jmkx2M6JvP\n",
       "XaePo3dBFpZKM3/8/RPc+NslZGRE3g4kHsR6BqOjS5qkp7HNRv3Wr+jho3hUvLE5nDzx4VZWfm/m\n",
       "mBG9uHn2KLIz0rBUmjl33hzM5eUsOPs8xgzqEbd8lnBJ1iWSJ9ono4kpboHxVTwq3jS02rhpxXes\n",
       "/N7MudMGs/jUMQcJzNLlrzJmUI+oFLWKJakgMKBFRhND3EukDsWjTGlG8ajsYvK2r4yrPXtqWrj8\n",
       "xTVsKG/g5tmjuHDmMEwiBwnM1OkzOuaziMnIZ8kqOJBjk2hSRWBAL5c0McLTB5PWXIEjv6NDWWUW\n",
       "kdYUv1Kgq3fXcsebG0k3CY+cOZFxA36sVWMuL6O5qemAwICRz+LM7didVGXkYWqpipvNvkglgQEt\n",
       "MpoY0NnJ6694VDx4c105T3y4lcEludw7bzz9irIBaG1pISc3lwmTD+ejr78jKzv7wD2RFLWKJakm\n",
       "MKCXS5oo4y2K5K94VCxxOBVPfbSNxz7YytShJfzunMkHBMZSaea0k2ay9LmnAToIDMQ2nyVcUlFg\n",
       "QIuMJor4ClP7Kx4VK5rb7dz2+npeXV3G/MkDuOeMceRlGRN3Tx/M+AmTvN4falGrWJOqAgN6uRSY\n",
       "WCasRfLsZOqpROA8GGu/yXELWZvr27j19fXs3t/MtSeN4NSJPwqDp8D89ekHON7xEWnvveg1rO4o\n",
       "KI3qpsVwSWWBAT2T8U8sexdF8uxk6qlEciXarS+r57K/r6aqsZ0HFkzoIDDtbW2cN3/uAYGZZfoy\n",
       "KcLq/kh1gQE9k/FPLMshRPLsJOqplEwC8/7GSh5+bwt9CrK5Z944BpfkdjiflZ3Nry65gkNHHMbx\n",
       "jo+w27z3ZEpUkmBnuoLAgJ7J+CeW5RAieXaS9FRKFoFxKsXzn+3kvnc2M7a0kKcWTu4gMJZK84GO\n",
       "Amf//AKmTp/htydTMtBVBAb0TMY/sexdFMmzk6CnUrIITJvNwf3vbObTrdXMGd+Pq08cQUbaj387\n",
       "LZVmzps/l7raWj5ZtZ6cXEN8Eh1W90dXEhjQMxn/xLIcQiTPTnBPpWQRmKrGdq55aS3/2VrNpcce\n",
       "wvUnj/QqMBVlZTz9p78dEBhIXFg9EF1NYECLjH9i2bsokmcnsKdSsgjMD5WNXPbiavbWtHLXGWM5\n",
       "c+ogROTAeU+B8czkdZOIsHoguqLAgF4uBaZoQOw+vJE8O5Z2+SBZBObTrVXct3IzRTkZPHnOJIb3\n",
       "zj/omr88/6xPgXETz7B6ILqqwICuJ6MJkmQQGKUUy77eyx8/28mY/gUsOX0cJXmZXq91OBzs2LaV\n",
       "EYeNirOVoZPsAhOXejIi0lcpVdnp2OFKqW/DHdj1jCLgWeAnQBswGrgUuB5oBa5RSr0TyRhJQaIS\n",
       "56I0bjQEJtJqcY66fTz23hZW7k1n1kA7N8zqQ3ongbFUmrn1+itZ8uDj9C8doAUmSQjWJ/O5iIx3\n",
       "vxCRBcCbURj/d8B6YCAwFhgEXO76fh7wvIikRnkyXyQqcS5K40ZLYPzVZgl0vtGyhxtWbGDl3nQW\n",
       "jbaxZGIdJXs/6FDbxZ3J+9Vn/6GibF9E9saL7iAwELxP5lfAqyJyHTAeOA84PpKBRaQfMAM4Xxlr\n",
       "tjYRmQe8rJRqBDaKyC7gcOCrSMZKKIlKnIvCuNFaIkXSi2hDexG3rdhOTVsWdx9p46SBTqAAh/x4\n",
       "f+d6MFOOmBaxzbGmuwgMBCkySqlPReRY4BWgCjhSKdUU4LZAjAV2AitEZAzGzCgDY2bjZh9wUOKC\n",
       "iCwCFgEMHjw4QjNiTEu1MZPwJDPfiAol8bjR9MEEqs3i6/xXuxu5Zf0aclD83zFWxpTIQfd7KziV\n",
       "7HQngQE/IiMiNqCzV9jkOlYrIkop5d3rFhx9gDHANKAW+ADoB3zncY0TcHS+USn1HPAcGI7fCGyI\n",
       "PYlKnItg3Gg7eQPVZul8Xil45QcHj2/ozSG9c3h0ShN9M5pRHHx/eno6PUp6ct+jT2mBSVJ8+mSU\n",
       "UhlKqcxOX+mu4xkRCgyABfhWKbVPKdUMvA+8AHjO5QcCeyMcJ7EkKnEuzHFjEUUKpReR3eHkodVO\n",
       "Ht2Qz4yh+Txx9iSKhkw46P4aczkNRaMp6dmLl958TwtMEhN0Mp6ITBeRs0RkofsrwrG/AsaISKmI\n",
       "ZAEnAU3A2SKS61pClQBrIxwnsSQqcS6McWMVpg5Um8V9vt6Zy7X/EV7dncPCiT24Y/7h5GSmHXS/\n",
       "ua6d/3fTH7jhtiUAHZLwkpXuKjAQfAj7RWAq8DVgcx1WwIvhDqyUahaRKzFmMFnAC0qpR1yCswEj\n",
       "pH2RSvVEHkhI4lyo48Y6DyZQbZbd9mJu+bIn5vo2fnPKSH46rp/X+y2VZs5dNAez2cJ9518UM3uj\n",
       "SXcWGAgyGU9E9gGHKqXaYm9SaOhkvMhJdKLd2r113P7PDQiw5PSxTBhY7PU67eRNDPFq7vYxUArs\n",
       "CHcgTXKSaIFZ+X0Fj32wlYHFOdw9bxwDinO8XqeU4rILztUCk4IEKzIDgXUisho48BuplJoVE6s0\n",
       "cckSTqTAOJyK5z7dwSvf7mPqkB4sPnUM+Vm+fx1FhNvve5j21lYtMClGsCJze0yt0HTEna2bXWjk\n",
       "ulibjNdRdBgnUmBarHbueXszX+7Yz+mTSrni+ENJM3l33loqzXzwztssPP9Cxk9Mjs2MgdAC05Fg\n",
       "k/E+EZF0oDeQ/K78VCfGWcKJFJjKBqPI967qZq484VDmTfb9fjx9MMedfAqlAwbG0dLw0AJzMMFG\n",
       "l67DmM1kAvsxkub2AsNiZ1o3JoZZwokUmI3lDfz2jfVY7U7umz+eI4aW+Ly2s5NXC0zqEmyezFXA\n",
       "IcBbwGRgJvBurIzq9rizdT2JQpZwIgXm35stXPvyWrIz0vjdwskhCYz2waQ2wYqMVSm1HyN/ZZJS\n",
       "6ivgp7Ezq5sTgyzhRAmMUooXvtjF3W9vYlS/Qp5eOIWhPfP83rPqv19iMZu1wHQRgs2TuRr4BmOp\n",
       "9G+gBtihlDo9tuYFpsvmyUQxupQogWm3OXjw3S18tKWKU8b25dqTRpKZ7vvvmtPpxGQyztfsr6ak\n",
       "Z2L7TgdDdxCYuOTJKKWe8BhwAjAU+CHcQTVBEKUs4UQJzP6mdn77xga2mBtZ9JNhnHXEIL/p/5ZK\n",
       "Mxees4CbFt/FzONO0ALThQgoMiJyJEYxqc+VUmal1H4RORz4FhgZawM14ZMogdlmaeLW19bT2Gbj\n",
       "ztPGMnOEf8Hw9MFkd2p8n6xogQkevyIjIncB84FVwP0ich5wGUaJhkg3SGpiSGObjfqtX9Fj+0rS\n",
       "miu89noOVPIyHD7fVs09KzdRkJXBk+dM5tA++X7HSmYnry+btcCERiDH73kYBap+CZwA/AsjdD1N\n",
       "KdUFHSFdA7fAFK991mev50AlL0NFKcXyr/ew+I0NDO2Zx9PndhQYb2M17t2Y1ALjzeYia5UWmBAJ\n",
       "tFyyuWq9oJTaKyL1wGKllDP2pmnCwb1E6rF9JfZs372eA5XEDAWbw8lj72/lXxvMHDeyNzf99DCy\n",
       "MtIOnPc1Vu+2ncw87kTmnjYvqQQGvNucmZFOYf16GKDTw0IhkMgMEJH3PF73Av7lduDpvUvJhacP\n",
       "Jq25Akd+R8exyiwirckoJB6oJGaw1LfYWPzPDXxfVs8vjhrCL48acpCDt/NYldW1WK1WhhS1cPu9\n",
       "D4U0XrzobHNOZjqF2cWxL5vaBQkkMont2akJms5O3kC9ngOVxAyG3fubueW19VQ3tXPrnNGcOLqP\n",
       "1+s8x6qsrmXBZYvJSDPxwV8eDvVtxg1Pm3My0ynKyTDyleLYb7yr4FdklFKfxMsQTfh4iyI1D59D\n",
       "8dpnsWPMYMRaT3pbHXWjzgKMkpd5O9/DgTGDEVszae2NNJceFdSY3+yqYclbG8lMM/HY/0xiTGmh\n",
       "z2vdY5VX17HgmgepsOxn+b2XYO+fvBse3TZnZrhmMO6EyMNmJtq0lEN3kExx/IWpM81ryItBdOn1\n",
       "NWU89dE2hvbK454zxtG3MHDYef/2tZxz1llUWPbz98duYfKssyOOZMWaImsVPevXx78pX5IRr6JV\n",
       "miQkUB5MoF7PgUpiHnS9U/H7j7bx+tpyph9Swm1zR5ObGdyv0F0PPUlFdT1/evkNJkw/+uAWFElG\n",
       "QXYGPXsP007eKBDSTEZECjAS8LYqpRpiZlUIdNeZTLwT7Zra7dz11ka+2VXLmYcPZNExh/isAeON\n",
       "+rpadu3YzsQpYf9BjBs6D6Yjkc5k/ObJiMhcEVkrIs+7Mn/XA48C60VEO4UTRLwFpryulStfXMPq\n",
       "PXVcf/JILj1ueFACY6k0c/tN19He1kZRcQ8tMN2UQHPdR4CLMMo8vAkcr5TaKCKDgZWuL00cibfA\n",
       "fLevjsVvbEABDy4Yz+TBPYK6zzOT96zzzmfM+AmxNTQKaIGJDYFEJl0p9RnwmYjcpZTaCKCU2uNq\n",
       "XaKJFV52YTdm9YmrwPxrvZlH3/+BfkXZ3DtvHAN75AZ1X+etAtEQmFhsgfDEq8DEoc5ydyCQyBSL\n",
       "yC2u73M8vhegOGZWdXe81Pht3fAmNf1OgDhEZJxK8cf/7GT5N3uZMriY208dQ0F2RlD3xmIvkjvF\n",
       "35FVYKT425rJ2/lehwZxkeBTYGJcZ7m7EEhkfge4f7t+7/E9wFMxsUhzUI3fFsml0dkWVsp/qLRa\n",
       "Hdz7ziY+37afUyf258rjDyU9LehGo9Tu34/Vao3qXqRoboHojM8lUozrLHcnAiXj3RkvQzQeeNT4\n",
       "bbHaaWi1QRgp/6FS1djOra+tZ0d1E1ccP5x5kwcE3QK2qamRvLx8Dhszlve/WE1mZqSt0n8kWlsg\n",
       "OuPXBxPDOsvdjYB/okRkhoh8LCKNIlIrIm+JyKQ42NZ9cdX4PSAwhJ7yHyqbzQ1c+vfVlNe3cs+8\n",
       "ccyfMjBogbFUmpk361ieftzYJhBNgYEfU/w9ifTnEdDJG6M6y92RQCHs6cCfgHuBvsBg1+uXtNDE\n",
       "kAFTaG2qpbG+BpQTsTaS1t5Ie5+JMRnu4y0WrnlpHZlpJn53zmSmDesZ9L2ePphpRx0dE/va+0wk\n",
       "rb0RsTZG5ecRVBQpBnWWuyuBZjJLgAuUUu8ppVqUUo1KqVeBRRjCo4kBjVl9sPQ7AZWei6mlCpWe\n",
       "GzUnpydKKf765W6WvLWJkX3y+f25kxnWy3+Rb0/iVXDKUVBK87BZUfl5BB2mLhpgOHnTc40lUnqu\n",
       "dvqGid+MXxHZq5QaFOq5eNLVMn7jlQdjtTt56N0tfLjZwslj+nL9yf6LfB90v9XKaSceTdnevUlX\n",
       "cMoXOg8mPGK9d6nVz7mWcAfVeCdeAlPTbGXxG+vZWNHIhTOHsvDIwUH7X9xkZmZy2TU3UjpgoBYY\n",
       "jV8CicwQEfHWlUAwiotrokS8BGZHVRO3vLae+lYbd5w6hmNG9g58kweWSjNbN2/i6GOP57QF/xMj\n",
       "K6OLFpjEEkhkdDcCb0Q5EzReAvPl9v3c/fYmcrPSeOLsSYzsWxD4Jg/cPpjamv18vGo9+fnG/bHO\n",
       "xoXAZSt8oQUm8fhdhCuldvv7ipeRSYU7E9TeYuRR2FuM1/VlYT0uHgKjlOKVVXu57fX1DCrJ4emF\n",
       "U8IWGHN5Oc+8sKyDwESzILk3Ms1r/BZF94UWmOQgUEuUrYA3z7AASinV/WY6UcwEjYfA2BxOnvxw\n",
       "G29/X8FPRvTi5tmjyPEo8h0M/qJIsczGdZMXoCi6N7TAJA+BlkufAscA7wFLgdimnKYCUcoEjYfA\n",
       "NLTauOPNjazdW8e50wZzwdFDMYXo4AV4+e9/8RmmjlU2rieBiqJ3RgtMchFouXQhMBXYipGEdw8w\n",
       "MFrLJRHJFJGNIvJH1+urRWSPiGwRkdmRPj8mRCETNB4Cs7emhSuWrWFDeT03zx7FhTOHhSUwAJdf\n",
       "eyP//PA/XqNIscjG7Yy7KHqHMTyKonuiBSb5CJgYoZSqV0o9rpSagDGbuVpEvhaRy6Iw/i3ALgAR\n",
       "GQ5cDowF5gHPi0hwW3/jSYSZoPEQmNW7a7n8xTU0tdl55MyJzBrTN+RnWCrN/PLM09m9cwciwrDh\n",
       "I7xeF+1sXG80D59Delsd0lYDTgfSVkN6Wx3NwzvWTdMCk5wEn31lUOv6KgQO/jMSAiIyGjgCeNl1\n",
       "aB7wsiureCOG+BweyRgxIYJM0HgIzFvflXPTq9/TKz+T3587mXEDikJ+htsHs/qb/1JlqfR7bTSz\n",
       "cX1h7TeZukkXozIKSGsqQ2UUUDfp4g7+GC0wyUvAKtAikovR9/pioBl4BrhCKWULd1AxMr+eBC4F\n",
       "3D0mBmGU93SzDx9CJiKLMLY2MHjw4HDNCJ+iAUnn5HU4Fc98sp0Vq8s4clgJv507mrys0OvEH+Tk\n",
       "nRa4RUqoBcnDwV9RdC0wyU2g6NLvgVMwemD/0l0ZLwpcAnyslNomIm6RyQQ82986wXtRe6XUc8Bz\n",
       "YGwriJJNMSPWAtPcbufutzfx3501zJ8ygEuPDa4Gb2eqKiuTtje1L7TAJD+B/tRdivFBvxhY5JF6\n",
       "7g5hh7un/+dAgYicCZQAeRgzG8/pwUBgb5jPTxpiJTDuBDhzTS3Xr+3PrkYT15w0gtMmhj+jyM7N\n",
       "oXTAIO579KkDAhOPRLtw0QKTGgQqWhWqzyYolFIH/kSKyPkYS6a3gL+KyMPAUAzxWRuL8eNFLAUm\n",
       "b+d7rGnuwW9WlWJXiicnVzDukBFh9TOqtljIy8+noKCQF15+/cA+pliXvYwELTCpQ6B6Ms+Ecy4c\n",
       "lFLfAn8DNgArgF+rFG5vGcslUpZlHW9X9eKyr4rIy1D88Tg7U0szyLKsC/lZlkozC+fN5ppLLgDo\n",
       "sFGyQ6KdmIxEu6yCsMaJJlpgUotAM5VFImIVEZvHl1VEbMCvo2GAUuoFpdRFru/vVUoNU0qNVkp9\n",
       "Ho3nJ4JYCoxTKZ79zsbtawsYX6J4/jgbQwqUkQDXWh3SsyyVZs6bP5eKsjJ+fdnVB503tVajMjrW\n",
       "lwlnnGiiBSb1CCQyS5VSmUqpDI+vTKVUBvBCHOxLOWIpMG02B0ve2sjSHUWcNqiNJ2baKHJ93kJN\n",
       "gPMUGF9O3ngk2oWCFpjUJJiM35DPdVdiKTDVTe1c89Ja/vNDNZdN78VvD6sg0x5eApxSimsuvsCv\n",
       "wEB8Eu2CRQtM6hJ6IoXGK7EUmB8qG7n19fW0tDu464yxzBjei5bGHkbUp6UKZ04vmkuPCtoZKyLc\n",
       "cf+jNNTV+g1TuxPtwh0nWmiBSW20yESBWArMp1uruH/lZgpzMnjynEkM750PhJcAZ6k08+arr/Cr\n",
       "S65g5KjRQd0Tj0Q7f2iBSX20yERIrARGKcWyr/fyx892Mrp/AXedPo6SvPBbjXhm8s6acyqDhgyN\n",
       "nrExQgtM10CLTAR0FphQE9d8XW+1O3ls5Vre3drIrH7N3Dq1BZz9cBDejKLzVgEtMJp4EpNku+6A\n",
       "N4EJpUKcr+sbLXu48aVveHdrI4tGNnPndBPZKvxqc/FqWxJNtMB0LfRMJgy8LZFCrRDn7fqtjWlc\n",
       "v2I7+9uEe6Y0cuLQrKCe5Y/v166muqpKC4wmYWiRCRFfPphQK8R1vv5Ls3Db18Vkm5w8c4SF0aUd\n",
       "SzSEWm3ObreTnp7OiafM4ZNV31NYVBz0vYlCC0zXRC+XQsCfkzfUxDX39UrBS9vSuP6LDAbkOlh6\n",
       "vJXR/QsjSoKzVJo57cSZvLfyTQAtMJqEokUmSAJFkUJNXGvvMxHV2shDq5089l06P+lr5Y+H76No\n",
       "yISIkuDcPpi9u3dRUhJ8T+tEogWma6NFJgiCCVOHWiGuLqM3l28ew6u7c/j50Abum+5AjTgZR0Fp\n",
       "2NXmtJNXk4x0XZ9MlBqwNVl207zja/KDCEv7SlzrHKrenjWam9+zUFHfxm9OOYyfjutHW5DP8kVD\n",
       "fZ0WmGQhys3/Up2uOZOJUgO2Jstu2r5/M6LGZZ1D1avNNi5dsYOGlnYePnMCPx3XL9R355WCwiJO\n",
       "mXuaFphEE+Xmf12BrjmTiUIDtsY2G807vkYibFzmGar+5y4TD6zJZlCeg4ePaqZkYHGIb+xgLJVm\n",
       "mpsaGTZ8BDfcekfEz4sHXVZgIKrN/7oKXVNkImzA5vbB5EehcZmptRpbTm9+/30aL25NZ1ofJ/cc\n",
       "aaPQVkVT4Nv94vbBKKX413++IT09+f87u7TAQNSa/3Ulkv+3MhzcDdjcf0Ug6AZsnk7eA2HmzB/7\n",
       "RodaT6UxvRe3f5HGZ5Z0fnaIg2sm2MmwR16TpbOTVwtMkhDB715XpWv6ZMJswNY5ihRpPRVzQxuL\n",
       "vizmy6oMbhjXxA0TrWTYI6/JoqNISUyEzf+6Il1TZMJowOYtTB1J47KN5Q1c/vfVmJscPDB7AD87\n",
       "1BS15meP3HunFphkJYLmf10VSeFa3YDRd2nVqlURPSPa5Ro+3GThwXc30ys/i3vnjWNIz7zAN3XC\n",
       "347u5qYmdmzfyviJ3pudRWOMaF3TrQSmiyIi3yqlpoZ7f9ecyYRANAVGKcULn+/inpWbGNWvkKcX\n",
       "TglbYDrv0G5c9Qo3X/ZLmpuayMvPj4rABNo1Huk1WmA00M1FJpoC025zcPfbm/jLV7s5ZWxfHvrZ\n",
       "BIpyM8J6VudWJOYGO/NufIq3336b7dt+iIq9wbQ7ieSa4rr1WmA0QFeNLgVBNAVmf1M7v31jA1vM\n",
       "jSz6yTDOOmJQh/5FoeK5Q7uyupYFly2moqqWZfddzrhJ0XEgBrNrPNxrsvOKKHLURsVOTerTLUUm\n",
       "mgKzzdLEra+tp7HNxp2njWXmiMhDle7QubnBbgiMpYYXH7qOIw+fTEsUbPYcw194PpxrcjLTKTK1\n",
       "Qlb3DdlqOtLtlkvRFJjPt1Vz1fI1ADxx9qSoCAz8GDpvrqtGORUvPnQtR48qjWorkmDC86Fek5Nh\n",
       "MgSmm4dsNR3pVtGlaAmMUoqXVu3jD5/uYGS/Au4+fSw986Pnf2ior6NYmsmu+g5nUyWm/L4xaXQf\n",
       "zehScd16ipz1ekNgFyTS6FK3WS5FS2BsDiePvb+Vf20wc9zI3tz008PIykiLgoUG7kS7WXNO5cbb\n",
       "7ozac70RzE7vYK7J7T2EokNGRtM0TReiW4iMP4EJ9Jfa83yNqRc3re3JuopWfjF9CL+YMQRTEA5e\n",
       "X2NkmteQt30lac0VOPL6s6PwSM69+CbM5eUcd9KsiN93qN0TwnlGUoSpU620QqrZGyFd3icTSGD8\n",
       "5YF4nt9u78OFn2SxqbKZ357Qj/OPHhq0wHgbI3vH+xSvfRaxNeLIH0Clxcw5552PuWwff1q+giOm\n",
       "Hx3R+w61e0I4z0gagUml0gqpZm8U6NIiE2iJFCgPxH3+q9pCfv1pFi0OE08f1cDcwh1B2+BrjMJN\n",
       "y7BnF6OyS7ArYcG9KymvaeGV2+ZHLDDBvLdIn5EUAgMdSyuIyfg3u9A4noykmr1RoMsul4LxwQTK\n",
       "AzG1VvOyuR+PfZfB0ALFwzNs9M/JCrnUg7cx0porsfUYAUB6mon/PfdYSvKymDkkjeqgnx76uNGw\n",
       "Pc9WS0EyCAykXmmFVLM3CnTJmUywTl5/HQYcTsWDP/Tn4XWZTO/r5LljbfTPDb3Ug68xHHl9qaws\n",
       "519fGxm8c6ePYsaIIhx5/YN+djjjRmp7Lu0UlESnml9UcJdW8CSZSyukmr1RoMuJTChRJF95IPuL\n",
       "x3HLa9/zj50ZnDeknocOryUvPfRSD/7G2Nr7FE6741Uufex16huakbYa0tvqaB4+J9y3HtS4kdie\n",
       "q1oplJbkyoFJtdIKqWZvFOhSeTLhhKk7R092Zo/h5vct7Ktt5ZoTR3DaMBX1CM1e+nP2z3+FuWwf\n",
       "/7htPkcPSceR15/m4XOw9ots46O/cSOxPc9eZ8xgkjESkmrRmhSzN9I8mYSJjIhkA08CxwFZwONK\n",
       "qcdE5GrgeqAVuEYp9Y6/57hFJhp5MN/tq2PxGxtQwB2njmHy4B5er+scenaLQzAfas+CU39e+hwz\n",
       "B2dEJALxIGmcvJqEkMqlHvKAd4HDgMOBm0XkWOByYCwwD3heRAJuZY6GwLy7wcwNr3xHYU4Gv184\n",
       "2a/AeIaexdZI8dpnyd7xflAh4zdffeWAwBzXsyaiEHM80AKjiZSEiYxSar9SaoUyqAb2AscALyul\n",
       "GpVSG4FdGALkE6dSEQmMUyn+8J8dPPCvLUwYWMTvF05mYI9cn9fnbV95IPSMKc0IQWcXU7hpmd+Q\n",
       "sXvG+KtLrmDlJ18xc3BGxCHmWKMFRhMNksLxKyLjgGygF7Db49Q+4KBwi4gsEpFVIrKq0hJ8SLYz\n",
       "rTYHd/xzI8u+3supE/pz//zxFGT7nzilNVegMos6HFOZRaQ1V6IyOhaoUhl5mFqrsVSaWXjGbH7Y\n",
       "vAkRYdCQoZhaq31enwxogdFEi4SLjIj0Av4KXABkAk6P007A0fkepdRzSqmpSqmpJT3DC/1VNbZz\n",
       "9fK1fLG9msuPH841J40gPS3wj8OR1x+x1nd8D9Z6HHl9vYaMK5rTOHfeHNavW0tD3Y81VqIRYo4V\n",
       "WmA00SShyXgi0gN4C7hFKfWNiMwGPN3sAzGWUVHB7ZjdbG7ghrV9aHGkc8+8cUwb1vOga9zOWHte\n",
       "P9KbzQdet/Y/ksIfVmDHmMGItZ70tjoaRp9DZlMZDowZidiaqSrfx/z/fR6z2XJQ0e/2PhPJ2/le\n",
       "h+vT2htpLj0qWm83LLTAaKJNwmYyIlIIvAnc7RFBehs4W0RyRWQMUAKsjcZ47n04/95j5+Kv+5Ih\n",
       "ij9N3cOMXu0HXeN2xqY1llG89lnSGssOOGczm8poGLkAlVFAWlMZKqOAukkX03bIyR06G1garJzu\n",
       "Q2Agsk4IsUILjCYWJHImcxUwGXhcRB53HZsF/A3YALQBF6koxdgzK9fxhz19eHZLHuNLnDww3U5P\n",
       "UzbKo+Vsh706QHprFfbsYtJbq3AUDT7Qptak7NQefetBY3iWRTC1tHDIyDe47/FnfLYtCaaMQrzQ\n",
       "AqOJFQkTGaXU3cDdXk7d6/qKGla7kwe+VrxbkcdPBzn43yl2stJAKf/1ak3WBpyZRUh7w492B9j/\n",
       "U1VZSXZONgWFRTz7l+XRfBsxQwuMJpZ02Q2SbmqarSx+YwMbK/K49LBmfjEmHXeFhkD1ap2ZhUh7\n",
       "PSrrx2iSP+esO9Guf+lA/vzKGxEVE48XWmA0saZLiozbebvDUs91a/pSa01jyUn9mCNf4rAV+HS0\n",
       "dnbG2nN6k1O9GYfdRvauf0N6Jo7snjSNOvOgMT0zee979KkOAhON9P5YoAVGEw8SHsKONm7n7edl\n",
       "Ni76uh8Op+IPh+/j2EMKAjpaD3bG5mArPhRnVh4iggLEi4fIX2/qaBSPigVaYDTxosvNZDIr1/G3\n",
       "st48uTGPEcWKh46y0zcty3DwDp8dUk3b3O3vYM3I7tgSxNpIloezGODGKy722Zu6szPZ7Tzu/Ix4\n",
       "ogVGE0+6lMjYHU4e+NbJ6/vyOa7Uwe1T7eSkH+zgDZZgCz8tefAxqiyVTJ12cI5LNIpHRRMtMJp4\n",
       "02WWSw2tNn6z4nte35fP+Ye2cO80Q2Ag/Exaf1m5lkozTz36IE6nkyHDDvEqMIGeEW+0wGgSQZcQ\n",
       "mb01LVyxbA0byuu55bi+XDGskjRb+MWa3Pgq/LSX/pw3fy7PPvkou3duD+sZ0WzUFgxaYDSJIuWL\n",
       "Vg0fM0HlnPkQ6SZhyeljGTegKKrRHG8Fp875xYVUlJV59cEE84x4R5e0wGgiods3d9tX28pR+Znc\n",
       "O288/Yqygehm0no+y1Jp5rz5c0MSmGjbEypaYDSJJuVFJi8znd+dM5m8rNi/la2bN1GzvzokgUkk\n",
       "WmA0yUDKi8yA4pyQBcZz+WJqbyC9YS8mW5PPOrtWq5XMzEyOPvZ4Pl61nvz8Ah9PTh60wGiShdR3\n",
       "/IaYue+ZHGdqbyJvx0oyazfjzCg8UEoz07zmwPWWSjOnnTSTN/7xEoAWGI0mRFJfZELEMzkuu3I1\n",
       "juxinFk9SG+rPlBKM2/7SuBHH0zZnj0MGDgowZYHhxYYTbKR8sulUPFMjjO11eDM6QkIYm8BXKU0\n",
       "m8rCcvLqKJJGczDdbibjmRznzC4BezM4raj0HMAopVlnKglLYBK5R0kLjCZZ6XYi45kc19Z3Cmlt\n",
       "dZjaa7Fn9zrQxVHGnsHpPzs7pChSNBrch4sWGE0y0+2WS+6d1lmWdTiz8mk+ZI4rutRAWXsB+4pO\n",
       "Ynj/KVx+bWhtQ/3tUYrlMkoLjCbZ6XYiA96T49zlGqzWN3n/i9PIzMwM6ZmdC14BrmWZyahRk1Vg\n",
       "LKNszeTtfC8q9Xy1wGhSgW63XPKGZz2YR556LmSBAd97lICYLKO0wGhShS4xk/G3HAm0VNm/fS3n\n",
       "nXUWZst+Xnz8ViaNHXpwo6cg8FyGmVqqcOb0orn0KHJ2f+i9iVsEpR60wGhSiZQXGXFYfS5HAL9L\n",
       "lbTGcv7vvluoqDIEZvrYwaRFsJTxtgzztYwKt9SDFhhNqpH6ImNv9Vl5DvBblS7Lso7br/o5C888\n",
       "nXEjh6Eg6lXrotnETQuMJhVJeZ+MOO0+e0r76jddtW8711zyKxose8jK78G4kcMOujdaRKuJmxYY\n",
       "TaqS8jMZZUr3uxzpfM5SUcb8639HRXU92+dMZkpJ9JYyvoi01IMWGE0qk/IzGZWe47PyXOeIj6V8\n",
       "LwuuupeK6jqWLn+VMccvSIqqdf7QAqNJdVJfZNIyfS5HPJcqVXu3Mf/qBynf38TS5a8xdfqMpOxH\n",
       "7YkWGE1XIOWXS+B9OdI5dN3QdxrpeX9j6VNLO2wVSKZ+1J5ogdF0FVJeZMRhJX/938mq+h6Fwtp7\n",
       "AtZeY8h27SXab8umOK2Jw2yVvPPPf6CKBiba5IBogdF0JVJ+uWRqqyWn4muc6VmQnk2W+WsK1/4B\n",
       "5bRjbrBz6qLbuO2pV3BkFZBT/X2izQ2IFhhNVyP1ZzLKjj2nB6TnogDERHrVBqr37WDBnSuosNRw\n",
       "2klHJ7ShWrBogdF0RVJeZFAK0rJ/fJmWjbnBzumP/oWKunZefPw2pk0ajVgbE9JQLVi0wGi6Kim/\n",
       "XEIEHG0HXipbK/OeWk15TTPLHr6OaRMPS8rQtCdaYDRdmZSfyShJJ721Fnu2QgCTtY7bLzoVGTSV\n",
       "Iw/r02GzYrKEpj3RAqPp6qS8yIhyIi1V1O7ayGe7rcw543+YunCeEZpOtHEB0AKj6Q6kvsjYmjHX\n",
       "tzLnqY1U1LfzzSwnOYk2Kgi0wGi6C0nnkxGR/xGRnSKyTUR+Feh6m9PEnIf/S3lNMy/dNJcefUvj\n",
       "Ulc3ErTAaLoTSTWTEZEC4BFgOkbVhbUi8qZSymfseWtlI+kmEyuuncnRA2w0JXmoWguMpruRbDOZ\n",
       "U4BPlFJlSikz8G/gRH832OxOVtxwPEeP7IUgMdlFHS20wGi6I0k1kwEGAbs9Xu8D+ne+SEQWAYsA\n",
       "0k04r3rmw0YTSLtDWVvtb7bUtKo6qwNbfEwOiV5A9IrVxJ5UsjeVbIXUsvewSG5ONpHJBJwer51w\n",
       "cMldpdRzwHMAIrJqS7VjanzMiwwRWaWUSglbIbXsTSVbIbXsFZFVkdyfbMulCmCAx+uBwN4E2aLR\n",
       "aKJAsonMe8ApItJHRPoBM1zHNBpNipJUyyWllFlEbgW+dB26XinVHOC252JsVjRJJVshtexNJVsh\n",
       "teyNyFZRSkXLEI1GozmIZFsuaTSaLoYWGY1GA4CI5IjIyGg/N2VFJtTtB/FGRLJF5DkR+UFEdovI\n",
       "ta7jV4vIHhHZIiKzE22nJyKSKSIbReSPrtfJbGuRiCwXkTIR2e6yPSntFZHrRGSr6/f1ctexpLFV\n",
       "RApF5HWgEviNx3GvNorI/SKyT0S+F5HDAw6glEq5L6AAI7Q9AOgHmIHeibark409gQWAYCReVQLH\n",
       "Aj+47B8DlAMZibbVw+Y7gJXAH4HhSW7rX4DbXD/f7GS1FxgK7ALyXL8T9cDYZLIVyMfIrL8I+KPr\n",
       "mNefJ3AC8BlG0OhkYG2g56fqTCbk7QfxRim1Xym1QhlUY4jiMcDLSqlGpdRGjF++wH8J4oCIjAaO\n",
       "AF52HZpH8trqTm+41/XzbSN57XVnnjsxPpiNwBySyFalVJNS6kPA7nHY189zPvCCUsqulHof6O36\n",
       "//BJqopMUNsPkgURGYfx17YXSWi3iAjwJHC1x+Fk/hmPBXYCK1xT+YdJUnuVUmUYM8SvgA+AhRhJ\n",
       "pklnayd8/Tw7Hy8jgO2pKjJBbT9IBkSkF/BX4AKS1+5LgI+VUts8jiWrrQB9MKbwVwJTgKOB00hC\n",
       "e0WkEENYrgYeBW4guX+2bnzZGLLtSZWMFwIVwHEerwcC/02MKb4RkR7AW8AtSqlvXM6zZNw28XOg\n",
       "QETOBEow/AdPkpy2AliAb5VS+wBE5H2MX/RktPc84Dul1MfAxyIyD8OHmIy2euJri0/n46UYsxyf\n",
       "pOpMJum3H7j+gr0J3K2Uesd1+G3gbBHJFZExGB/otQky8QBKqRlKqfFKqUnAYuA1DHFMOltdfAWM\n",
       "EZFSEckCTgKaSE5724BJIpLhqpc0EmPZlIy2euLrd/Vt4JcikiYiJwM/KKVq/D0oJWcyKrztB/Hm\n",
       "KmAy8LiIPO46Ngv4G7AB45fvIuVy5ScbSqlvRSQpbVVKNYvIlcD7QBaGI/IRl+Akm71/w4jI7ABa\n",
       "gT8rpT5Ppp+tS/zWYESSskXkOODXePldFZHXMKKkO4D9GEtB/89Pjv8HjUbTVUnV5ZJGo0kRtMho\n",
       "NJqYokVGo9HEFC0yGo0mpmiR0Wg0MUWLjEajiSlaZDQRIyK7RGRgou3whoic7y5doUkMWmS6ISKi\n",
       "XHV49onIlyIyN9E2dUZEXhARs4jsEJH1IvKTRNukCY+UzPjVRIxDKXUogCtl/K8ikq+UeinBdnXm\n",
       "BqXU30TkBOAPwKhEG6QJHT2T6ea4aoUsBB6AAyUYn3FVctsqIhe7jh8nIh+473PNNM7zeNQ5rqp6\n",
       "20XkeNc1J7iqp+0SkZdExOQ6bheR37iuXSUifQOY+SnGBj1EJE9E3nHdu15ExnvY87CI/Nc1Azqz\n",
       "80NE5Fm9dIo/WmQ0KKW2ADki0ge4GWOGOxKYDlwvIhOCeExPpdQY4ELgedexGowyDIdgVIg7xnU8\n",
       "DdinlBoObHbd44/zMTYVglEJ71bXvc8A13tcN8Y13nnAPZ4PEJELgRHApUG8F00U0csljZt0jCpu\n",
       "c4ALXRv29ovICoyyGt8FuP95AKXUx64dxz2BPRgb7SYCg/mxRIACXnF9/wngq13rgyLyJLAOON31\n",
       "/CYRGSJGXecjgAaP61copewi8gkwxOP4ROAo4CdKqWTskd6l0TMZDSIyBahUStViiI2z0yUOjNKM\n",
       "aR7HMjpd41m6MRtjx/FK172/BT7GmIUAOD0+7LZOz/XkN8BojDIDR7psvQS4GMNHc4/HMwHaAVzP\n",
       "9nxmE0aNHL9lIjWxQYtMN0dEJgIv8GOV+veBK8WgBDgDY6myGxglIlkiko0xM/DkTNfzFgDblVIt\n",
       "wDhgOcaH/Ohw7FNKVWIsp54WkRzXMz9SSq3DqPUcDNuBy4A3XJUKNXFEL5e6J2kisg1jxrETuE4p\n",
       "5fZ5LAGexvhgtgJ3uXw2iMhfgS8waoz80OmZPUVkI9AC/NJ17AFgNbAJY8kTFkqpVSLyLnAnsBR4\n",
       "WUR+AbwbwjNWisgk4HUROVEp1R6uPZrQ0PVkNBpNTNHLJY1GE1O0yGg0mpiiRUaj0cQULTIajSam\n",
       "aJHRaDQxRYuMRqOJKVpkNBpNTNEio9FoYooWGY1GE1P+P210EKhPZ8uNAAAAAElFTkSuQmCC\n",
       "\"/><img style=\"margin:0\" align=\"left\" src=\"data:image/png;base64,iVBORw0KGgoAAAANSUhEUgAAARkAAAEnCAYAAACdYDfKAAAAOXRFWHRTb2Z0d2FyZQBNYXRwbG90\n",
       "bGliIHZlcnNpb24zLjMuNCwgaHR0cHM6Ly9tYXRwbG90bGliLm9yZy8QVMy6AAAACXBIWXMAAAsT\n",
       "AAALEwEAmpwYAABFtUlEQVR4nO2dd3hb5fXHP8eyZMc7zt4JgQScTUIIgUIYhRJmwl4tq+xVoGWP\n",
       "Ai2UmbIKFAj8oCRAE0qBMAuBshsyyCIEZ3vJjuMlb+n9/XElI9va0tVw3s/z+HF879V7z5Wjr9/3\n",
       "nPOeI0opNBqNxizSEm2ARqPp2WiR0Wg0pqJFRqPRmIoWGY1GYypaZDQajalokdFoNKaiRUbTgYhk\n",
       "icgmETk3hGv7ich6ERkoIueKiBKRS7tcM9J9PCeE8TJE5GgRuc/HOYuIHCIiD4lIZpdzL4hIlYjU\n",
       "iMg/RCTbfXyBiPwm6ENrTEd0nkzPQERagNVBLhuplOorIrOAxUApsDeQp5RqFJHngMOAXsB0pdS2\n",
       "APd7DlimlPqbW5QeB5qAvZRSNe5rRgKbgVylVEOAsQ4G3gFqgF5Kqb5e5/YEvgEcwLCuY4nIGcAS\n",
       "oAB4E3hLKXWbiPQFVgL7KKXqg7wvGhPRM5meQxlwONDs60spNQ3w/qC/BpwAfOcWmPuAA4D9gHuB\n",
       "D0RkhK8biUg/YDbwgtfhH4DlwJ0R2P4TMAE4x8e5KuAXwMG+XqiUWqCUqlVKbQU+Aoa4j1cBbwHn\n",
       "RWCPJoakJ9oATUypB84N4/qzgUUi8iowEDjM/eH8q4g4gKUicp1SanGX1x0OfK6Uaupy/HfAMhF5\n",
       "Sin1Q9ebicgXwL1Kqbe9jyulSt3nR3Z9jXtWVOPrnNe4VmAycBxwkdepd4DLgUf9vVZjPlpkehY5\n",
       "GMsWX/zKx7ETgfMBAS7EEBXv808D1T5eNwlj1tIJpdQ6EXkaeAQ42sf5AwPYHhEicgnwN8AF3AV8\n",
       "5nV6udtWTQLRy6Wew++BTzF8E92+RGQVcEmX17wCzFZK/QUoAqYD1yml9gb2Ad5XSi31ca8+wE4/\n",
       "dtwJTBWRYyJ9kHBQSj0FZADTgGOB+71OV2HYqkkgeibTc9gIbFBKne7rpIgsxfCbePMs8KGIlAP9\n",
       "MGZBT4nIcAz/zN+BcT6Ga8b4YHdDKVUrIjcDD2N86E1HKdUKrBCRm4DXMQQXDAd2czxs0PhHi0zP\n",
       "4nAR+dzPuQldDyildolILsYSY6FS6j4RKQWmAHOABX7GKsGI9PjjeYxZ02UhWx4bXBhRKA9DMWzV\n",
       "JBAtMj2Ljfj3ydze5efx7r/8rUqpjSKSIyJ7YMwEBgCnAof4Getz4CF/RiilXCJyFUa0xzRE5EBg\n",
       "OEYIux9wN8YS0MPBwBdm2qAJjvbJ9CzaMcLUvr6cXa7dBbRhzFgArgQalVIPAo3AVqXUFj/3+Qoo\n",
       "FJF9/BmilPoSWOR9TES+EJFuSygRmSUiCvgE6ONO4FPucyPd/97svrzefX4kUAf8ASN8/zHwX+A2\n",
       "r6HPBV7yZ6MmPuhkvB6CiEzGmDn85OeSImCiUmqLOxnvdKXUJSIyA1jY5do8wIIhRPOUUvN83O8M\n",
       "4CSl1MkxeYAYIyLHAVcopY5KtC27O3q51LP4KIjjtxtKqa+BkeHeSCm1QER6i0h/pZQ93NfHgUHo\n",
       "RLykQM9kNBqNqWifjEajMRUtMhqNxlS0yGg0GlPRIqPRaExFi4xGozEVLTIajcZUtMhoNBpT0SKj\n",
       "0WhMRYuMRqMxFS0yGo3GVLTIaDQaU4mbyIhILxEZE6/7aTSa5MB0kRGRPBH5F1CBUfvDc/xqEdkm\n",
       "IhtE5Giv4/eJyA4RWS0iU822T6PRmEs8Sj24gMeAt4EZACIyGqNVxTiMMo4fuXv8/AI4CKP0wKHA\n",
       "cxitLjQaTYpi+kxGKdWglPoPRtU2D3OA15RS9UqpdcAWYCowF3hBKdWulPoQ6CciA822UaPRmEei\n",
       "ilYNA9Z4/bwDo8jQMIxWox5K3MfLvV8sIhfhbuKVnZ09de+99zbVWI0mlriUos3ZuY5TWkstKBeI\n",
       "5eeDygmShisjP+iY4mxF2psQVzsqLR2V3gtlsUVlZ3tbG5uLN9LS0lKllOoX6TiJEhkbxjLKgwuj\n",
       "Bq2/451QSj0DPAMwbdo0tWzZMvMs1WhiSH1zG5X1Ld2O56x5CVdWPxCvxYVykdZYScN4X917f8ZS\n",
       "X0r25g9wZuSirNlImwNLSz2OUUfizB0ckZ32inLOmjMbiyUdaNka0SBuEhXCLsPds9jNUGC7j+OD\n",
       "MWY5Gk3K409gAFy9+iJtjk7HpM2Bq1ffoONm2FcZAmPLBUlD2XJxZuSSYV8VkZ0egSkvLeX5hYuC\n",
       "vyAIiRKZd4DTRSRLRIqAQmCl+/hvRMQiIr8EflRK+WqTqtGkFIEEBqCl/yQsLfVIaz0oF9Jaj6Wl\n",
       "npb+wbvspjVVoazZnY4pazZpTVVh2+l0OrngjJM6BGa/GdF3FjZ9ueRuHrYCyAUy3ZXyfwu8DKzF\n",
       "6PB3oVJKicgbGL1+NmG0QT3TbPs0GrMJJjAAztzBOEYdSYZ9FWmNlbh69cUx+AAsjgryvp+PxVGG\n",
       "M3sQjtGzaR04pdNrPbMgZcvtOBbqLKgrFouF39/6R3pl9YqJwEAPKCSufTKaZCYUgfGHrXwFBSuf\n",
       "pj2zAGXLR1prSW+uoWbyxZ2EJhY+GXtFOd99+zVHH3dit3Oj++d+p5SaFtFDoLcVaDSmEY3AAGQX\n",
       "LzEEJrMQ0iyozELaMwvILl7S6TrPLEilZ5HWWIlKzwpbYM6aM5sbr7mc6p3hL7GCofsuaTQmEInA\n",
       "WOpLjeVSUxWuXn2x1m6irWDPTtcoWz6Whu7tvZ25g2kMM5JkqS+lZt1Szrnsdsqranjxhecp7BP+\n",
       "EisYeiaj0cSYSAUme/MHSHsjrqx+SHsj0urA0lDa6TpprcWZPShqGy31pdQve52TL7+D0qoaFjx4\n",
       "HbP6VGOpLw3+4jDRIqPRxJBIl0i+wtDNA/fDWr8Naa4GlxNpria9uQbH6NlR25lhX8U73/xIaWUN\n",
       "r8y7jenTpkYV9g6EXi5pNDEiGh9MWlOVkYznRVv/cTQ5mxHA0lCCM3sQNXuf1i26FAreSzFnZh+s\n",
       "tZv4zanHccSsAxkywFgiKWs2aY2VEdkfCC0yGk0MiNbJ6y8M3TpwXxpHHx3glcHxjj6VNaZz4VW3\n",
       "8OBZkyiamsmQAcM73S+SsHcw9HJJo4mSaAUGokvGC4ZnKVZe185Jl9/JuuId1GUMxrZrQ8D7KaV4\n",
       "+euodhQAeiaj0URFLAQG/CfjRbr3yJu0pirKGtM56fI7KbNX88q8W9lv0ljaqjd2hL273s/pUvz1\n",
       "Pxt5+/uyqO+vRUajiZBYCYyHUMPQXUPdLf0nBRQje5OVky+7jbLKGl6Zdyv7T94Haa2nvfeePpdi\n",
       "TW1O7n57HV9vquas/Yfz56ieSi+XNJqIiLXAhIqvUHf25g8Chp5to2Ywfo/BLHjwWvafNDbgUmxX\n",
       "YyvXvraKbzdXc80Re3HBQaOitlnPZDSaMEmUwECXUDcYO67dx7vOguwV5VitVnr3Hcm85xYEXYrt\n",
       "2NXIjYtXs7OhlT8eP44D94yNE1iLjEYTBokUGPAd6vYVevZsFejTtx8L3nwv6FJsfVkdN79h1JF7\n",
       "6JRJFA3Oi5nNWmQ0mhDxFphw/SKxwl+oG9LIKn7XcPI6LJx19X2Ul9u59+HHERGfY3me4fOtDm75\n",
       "vi99s23ce/JkhvbOiqnN2iej0YRAV4EJ1y8SK3yFuq21O7A0VSHtjZQ1pnPy5XdQXlrCi/OfYdqM\n",
       "mT7H8TzD4p9c/GFFX0bntDN/yk+MSK+Juc1aZDSaIHRdIsW6El04+Npx3Z7Vl/a8oShbLtff+zSl\n",
       "lTUseOh6Dhpu9TuOrWIVj20ewP1rcjhgoIsnDnGRn5uttxVoNPHGlw8mVL+IWXT1r+SseamjMt59\n",
       "N1xEaUUV+00Y49eeNqeLB75VvFuWzYkjnVw/uZ30NFDKnGfQMxmNxg/+nLzR1OM1gzKHhb88+X84\n",
       "nU6GDOjLfhP39mtPQ0s7Ny1ezbtl2Vw61sENUwyBAb2tQKOJK4GiSGZuAQgXe0U5J13zF5557X02\n",
       "Ff8U0J7K+haueXUlq3bUctOsAVww3E5am/nPoJdLGk0XgoWpzdwCEA72inLOnnsMZWUVvPjifPYa\n",
       "bvVrz+YqBzctXk1DSzv3zhnPtJGFOOrz4vIMWmQ0Gi9CzYOJpBJdLOkQmJIS5i9czL4zZtLo59pV\n",
       "22u49c01ZKZbmHfaZPbsnwPE7xm0yGg0bhKdaBcOWzcXU7NrF/MXLvYbpgb45Ac79733A4Pze3Hv\n",
       "SRMYmJcZRysNtMhoNKSOwLS0tJCRkcF+Mw5k6f9Wk5Wd7fM6pRSvf7eDpz7dxIQh+dx9wjjyevkP\n",
       "aZuJdvymKrUlsO4tWDbf+F7bvbi0JjRSRWDsFeUcf/iBvPryCwB+BcbpUjyxtJinPt3EIWP68cDJ\n",
       "ExMmMKBFJjWpLYENS6C9EXL6G983LNFCEwGpJDBnzz2G0h07GL3nGL/XtbjLNCxeXsLJU4dw27H7\n",
       "YEtP7MdcL5dSkZLlkJkHGe5NbJ7vJcshf4j/12k6kWoC43Hy+vPB1DW1ceu/1rC2tI5LZ43mlKlD\n",
       "42ypb7TIpCKNVcYMxhtbDjTYE2NPCpIqAtPU2BiSwJTXNnPj4tWU1TZx27FFzBrbz+d1iUCLTCqS\n",
       "1RdaG36ewYDxc1ZiMk5TjVQRGIBeWVmcfs55TJy8r1+B2VhRz01vrDG2C5w8kYlDC+JrZBC0TyYV\n",
       "GbIvNNdBSx0ol/G9uc44rglIqgiMvaKc1atWAHD+JVf4FZj/banmmldXkZ4m/PX0yUknMKBnMqlJ\n",
       "/hAYO9vwwTTYjRnM2IO0PyYIqSQwZ82ZTaPDwcffrCIj03duy7trynnogw2M6pvNvXMn0DcnI86W\n",
       "hoYWmVQlf0jyiEptiSF4jVWG4A3ZN3lsc5NqAlNeWsr8hYvJaqsmo6Rzcaz2nEG89PVWXvhyK1NH\n",
       "9ObO44rIzkjej7JeLmmiIwXC6akqMPuPG9mtOFZG8Qc8vGQlL3y5lSOLBnDvnPFJLTCgZzKaaEny\n",
       "cHqqCAzA3x+f1yEw02bMJKP43U5Fwx1pudy6Oo8v7XWctf9wzj9wpN/SmsmEnslooqOxygife2PL\n",
       "MY4nmFQSGIDf33YX/1zynw4nb1pTVUcxqp3NcPlnVr62W7mxqJoLDhqVEgIDWmQ00eIJp3uTBOH0\n",
       "VBEYe0U5l59/NlWVldhsNsYWjes45ymOta1euOhTG5vqhfv3q+fEMfHf5BgNWmQ00ZGE4fRUEpiz\n",
       "5szms48/YvvWzd3Ot/SfxNqKVn67NB1HG/xtRi2zCnYmpDhWNCRUZETkWhHZKCKbReRy97GrRWSb\n",
       "iGwQke49NDXJhSecnp5lhNPTs4yfE+SPSTWB8fhgpkyb3u2azypsXLJ8CLk2eG56GUX9bDhGHRn3\n",
       "4ljRkjDHr4iMBK4CxgGZwCYRWQpc7j42DPhIREYopdoSZacmBOIRTg8hTB5rgTGrt1JXgfGVaPfm\n",
       "yhIe+/gnxgzI5c9zxlOQZesoSpWonk+RksiZjEc4XBhiVw/MBl5TStUrpdYBW4CpiTFPkzSEECY3\n",
       "Q2DM7K2UlZ3jU2BcSvH3/27ir//5if1H9eGhUydRkGWLm11mkLCZjFKqRETuBL7GELszgZOANV6X\n",
       "7QAGdX2tiFwEXAQwfPhw023VJJggYXIzlkjh9JwOleqdVeTlF9B/wED+9cGn3aJDbU4XD7y/gY/W\n",
       "2zlu4iCuOnwvLGmdrzHDrkDkZkZfhyZhMxkRycMQlquBh4HrARvGzMaDC3B2fa1S6hml1DSl1LR+\n",
       "/ZJnt6nGJAKEyc3ywXiHjz0oazZpTZGF5u0V5Zx23JHc9vurAboJTENLOzcuXs1H6+1ceNAorjmi\n",
       "u8CYYVcgcjOt9MuNfqtCIpdLZwPfK6WWKqXmu4+VA94L7aHA9rhbpkku/ITJm6y9TXPyxrK3krcP\n",
       "5qTTzup23tOq5Psdtdx49N6cuf9wvzkw8er5FCuBgcSKTDMwWUSsIpILjAE+Ak4XkSwRKQIKgZUJ\n",
       "tFGTDPgIkzc17MKeW2TaLWPVWymYk3dzlYMrXllBeW0z984Zz5FFA+JiVyBiKTCQWJF5GWPmsgn4\n",
       "DnhJKfWF+/haYBHwW6WUSpyJmqSgS5i8SWVgH3iYqREVXz2nww0fK6W46JzT/ArMyu01XLVwBS6l\n",
       "mHfaZKaNLIyLXYGItcAASKp/hqdNm6aWLVuWaDM0cSJV8mA8LPv6S4BuAvPxD3b+8t4PDC7oxX1z\n",
       "JzAgAa1KuuJPYETkO6XUtEjH1RskNSlDqgiMvaKcz5d+zNzTzuwmLkopXlu2g6c/28TEoUarklhE\n",
       "cKLFjBmMBy0ympSgwb4Vx6ZvyYljAlokSW8eH0xFWRm/mHU4/Qb87GNxuhRPLi3mjRUlzBrTjxuP\n",
       "3jvhnQTAXIEBvXdJkwI02LfSvPqtuCagRZL05u3kfW7BPzsJTEubk7veXscbK0o4ZepQbk2CViVg\n",
       "vsCAnslokpz65jYcm75F4piABuEnvXkLzPMLF7HfjAM7ztW6W5WsK63jslmjOTlJWpXEQ2BAi4wm\n",
       "ifH4YHKaqnBldU66VNZs0horTbt3Wpj3/OyTj6goK+smMGW1TdywaDUVdc1J1aokXgIDWmQ0SYq3\n",
       "k9eTgOaZVYA5CWjehHpPpRQiwsmnn83Bhx5B/wEDO879WFHPTYtX0+5SSdWqJJ4CA9ono0lCukaR\n",
       "4pGA1pVQ7mmvKGfOUbM6wtTeAvPN5p1c8+pKrJY0Hk2iViXxFhjQIqNJMnyFqc1OQPNFsHt6fDDF\n",
       "P25A0TnX7N3VZdzyxhqGFmTxxJlTGNEn29ct4k4iBAb0ckmTRATKg3HmDjbNyesPf/f05+RVSvF/\n",
       "X23lxa+2Mm1Eb+48vogsW3J8xBIlMKBFRpMkpEqiXfXOKp8C0+50Me+jjSxZU85R4wZw3S/HkG5J\n",
       "joVCIgUGtMhoghFK47YorwlFYJKlGlxefgFTp8/gpNPP6hCYplYnf3x7Hd9urubsGcM5b2bytCpJ\n",
       "tMCA3rukCYSnIl1mnlG/pbXB2A3tXcM3ymvqM/qHJDDZmz8w8las2UibA0tLfVzr3doryoHOzl2A\n",
       "akcrNy1eTXFlA9ccMYZjJ3arsZYwYiUw0e5dSo75nCY58a5IJ2nG98w843gMrmna8r+QlkidEuMk\n",
       "zUiMy8glw77KhIfujscHc9E5p+H9R3lbdSNXvLKC7dWN3HPi+B4pMLFAL5c0/mmsMmrqemPLMboS\n",
       "RHlNI5k0VJdCCBORcBPjYknXejCeZdCaklpu/dca0kR4+LRJ7D0wz3RbQiWZBAb0TEYTiFAat0Vw\n",
       "TWNrO/V1NSEn08WrGlxX/BWc+u/GKq7/5/fkZlp57MwpWmCCoEVG459QGreFeU1jSyv1tdVhJdMl\n",
       "IhkP4M4br+smMG+sKOHOf69ldL9sHjtjMkMKeplqQzgko8CAdvxqghHD6FLTlv9RX10WUXQoEdGl\n",
       "qspKtm/dzJRp041WJZ9t4tVlO5g5ug+3HrMPmVaLqfcPBzMFJlrHrxYZTVxIlTwYe0U5zz7xV35/\n",
       "211YrUYxqdZ2F/e/v4GPf7Bz/KTBXHnYnj47CSQKs2cwujKeJulJ1jyYrvfcziDOOud8o6vA6Wcz\n",
       "tmgcDc3t3P7vtazcXsOFB43ijOnDkiYHBpJ3ieSN9sloTCVUgYl3V8Su97SXl3LmqSdRXlrC/IWL\n",
       "GVs0DntdM1e/upI1JbXcFKRVSSJIBYEBPZPRmEioS6R4d0Xses+Kql2cdM39lFXV8sojtzBhxkw2\n",
       "VTZw4+LVNLY6uW/uBPYd0dsUOyIlVQQG9ExGYxLh+GDi2RXR1z3L7DtxNDbzyiO3cMCYvizftour\n",
       "F65EAX89bbIWmCjRMxlNzAnXyZuoolRN9dX0yuvL5KI9+WrRE/SSFt4ty+XuD1czpHfytCrxJtUE\n",
       "BvRMRhNjIokiJSIPZjuDOPL823j2H4tAucikhZc3pHHHdxmMG5zHo6dP1gITI/RMRhMzIg1TewpE\n",
       "ZdhXkdZYiatXXxyDDzAtumSvKDeiSDsbmFC0N8pRyUMbB/HPzVYOHduPG36VHK1KvElVgQEtMj2b\n",
       "UJLkYkS0eTDxKkrVeavAG4yZuj+/X/IDn2+u4tRpQ7no4D1IizKCFMtwvKW+lIKaNeS7ak3/HZpF\n",
       "csm1JnZ4yiu0NxqbE9sbjZ9rS2J+q1RJtGtpbubsucd0bBXYa+J+XPf693zxUxWXHzqaSw4ZHROB\n",
       "iVU43lJfSmHJf8hPbzP9d2gmeibTU/EurwA/fy9ZHtO/hKkiMAAZmZmcf8kV7LnXWAbvPYUrF66g\n",
       "oq6ZO44r4uAxsWlVEstwfEHNGnLzC03/HZqNnsn0VBqrjJIL3thyjOMxIlUExl5R3tFR4PRzziN3\n",
       "5ASuXLCC2qY2HjplUswEBmIXjs/NtBpLJJN/h/FAz2R6Kp7yChleZQi6lmCIglQSmLPnHkPNrl18\n",
       "umwNq8qbuOvtdeT3svLI3IkM75MV0/vFIhzf4eQ1+XcYL/RMpqcSSgmGCEk1gSkrKeHJ51/mk2Kj\n",
       "0NTQ3lk8fsaUmAsMRB+O7xRFMvF3GE+0yPRU8ocYdXbTs4wqdelZnevuRkgqCszzCxaxxjmYBz/4\n",
       "kakjejPvtEn0yTEnHBxNj6huYWqTfofxRi+XejL5Q3ZbJ+//Pfc0ZSUlPPvKIj6p7ct7a7fGrVVJ\n",
       "JOF4v3kwMf4dJgJdT0YTEqkkMABOp5N1P2zgHz+08+2WXfx6xgh+M3NEUu2i9pDsiXZxqScjIgOU\n",
       "UhVdjk1VSn0X6Y3dY+QDTwO/AJqBfYBLgeuAJuAapdS70dxjtyZGyXjBBMZWvoLs4iVYHGU4swfh\n",
       "GD2b1oFTOl1jZr0Yz9iVO4q5bt7r3PWXR0gfMp7HlzdRXNnAtb+Mb6uScJ61k8DEMXkynoQ6b/xC\n",
       "RCZ4fhCRk4C3YnD/x4A1wFBgHDAMuNz97znAcyJijcF9dj9ilIwXisAUrHwaaavHmTMEaaunYOXT\n",
       "2MpXdFxjZr0Yz9j28lLmXP8YXyxfy/pvPuSKf/wvIa1KwnnWbgITp+TJeBOqyJwPLBaR40TkZuBu\n",
       "4NBobiwiA4GZwJ+VQTOGsLymlKpXSq0DtgBTo7nPbkso/ZCCEMoSKbt4Ce2ZBajMQkizoDILac8s\n",
       "ILt4Scc1ZvZNyrCvorTeydxr7qfMXs09993HI7um09LaxiOnTWbGHn2ivke49oTyrN2WSDH4fSUr\n",
       "IYmMUuoz4BDgRmA6MF0ptSHKe48DNgOLRGSDiDyIMZPZ6nXNDqDbnyERuUhElonIsspK83vvpCRR\n",
       "JuOF6oOxOMpQtvxOx5QtH4ujrONnM+vFVO4o7hCYG/70AE+V70m+DZ6fXsrYgbnBB4gxoTyrTx9M\n",
       "HJInE4Vfn4yItAFdvcJp7mO7REQppWxR3Ls/UATsD+wCPgIGAt97XeMCnF1fqJR6BngGDMdvFDb0\n",
       "XKJI5ArHyevMHoS01hozGTfSWosz++e/DWbWi0nL6UefvGxOuPx25lcMYVyh4qFpu8jP6k1j1KOH\n",
       "T7Bn9evk7SGJd77wO5NRSlmVUrYuX+nu49YoBQbADnynlNqhlHIAHwIvAN6erqHA9ijvs3sSYSJX\n",
       "uFEkx+jZpDfXIM3V4HIizdWkN9fgGD274xoz6sVUVVbS0tJC1l4H8ctL72DRzqEcPMjFE/tX00fV\n",
       "md6TyR+BnjVgFKmHJN75IuQQtojMAEYAHc1mlFKvRHxjkWxgFXAwsBP4BFgEXABMA0YC/wTGqQBG\n",
       "6hB2AMKMVkQapo53dMlTrmGfSfvS75hr+WRDJSeNauP6vcqQrPh0OgiEr2fN6jcieJg6SaNL8Qph\n",
       "v4Lxwf8WaHMfVkDEIqOUcojIlRgzmAzgBaXUQyKSAazFCGlfGEhgNEEII5ErmjyY1oFTuolKV2JV\n",
       "L8YjMBVVNYzY99d8sqGS3/5iFKfvN4ymJMmB6fqsIefB9IDEO1+ENJMRkR3Anu4IUFKhZzLRkyqJ\n",
       "dh6Bsde1MO7yJ6lqFv7wq7Ecsc+ARJvml2RPtAuFeDV3WwoMBjZFeiNNcpIqAqOU4rLzzqKyxcIe\n",
       "Fz9JfbuF++aOS7pOAt70BIGJBaGKzFBglYgsBzr+RyqljjTFKk1ciJXAhOJvidYnIyKc8fv7eG5V\n",
       "I1abjQfnTmB0v5ygr8vc9CF56xdgcVTgzB5A3T5n0LzHL8N+xnAxVWCS1Hfjj1BF5g5TrdDEnVgK\n",
       "TPbmD3Bm5BoZrm0Osjd/0GnncSjX+MNeUc5H777DgP2P5emVTQztncV9cyfQP4ROApmbPqTw2wdp\n",
       "z8zDmTMYWmso/PZBqsFUoTFdYDYsMRL1cvobYe4NS5J6d3ZIIqOU+lRE0oF+QHJ41zQRE8slUijl\n",
       "JiMtSWmvKOfMObOpGziNnJ17MnlYPncdP56czND+NuatX0B7Zh5kurN+M/vQ7j5ulsiYvkSKU1nV\n",
       "WBJSxq+IXIsRZt6EEWHaBnxhol0ak4i1DyaUDNdIMn4NgTkGx16/IufAszh0bD/umzsxZIEBsDgq\n",
       "wFbQ+aCtwDhuAnHxwaRgZnCoe5euAvYA3gamAAcB75tllMYczHDyejJcvemazRvKNd7YK8o58+QT\n",
       "aJpyBr0mHsVp04ZyyzH7hN0LyZk9AFprOh9srTGOx5i4OXk9mcHeJHlmcKi/tVal1E6M/JXJSqmv\n",
       "gV+ZZ5Ym1pgVRQolmzfcjN/PvvyalhkXkrnHflxx6J5cHGGrkrp9ziC9uQ6ad4LLCc07SW+uo26f\n",
       "MyJ+Xl/ENYqUgpnBoYrMEyIyE1gAvCAiqzGydTUpgJlh6lDKTYZaktLlclFa08S/dw0ma/BY7ji+\n",
       "iLn7Ru5naN7jl1RPvx6suVgaSsGaS/X062Pqj4l7mDoFS3KGXRlPRPpgpPz/qJSqN8OocNDJeIFJ\n",
       "lTwYe0U5515yFZZZl2FJt3LPieMZPyQ/+AsTyO6SBxNtMl7QmYyITBeRk9z1X3Avm/oAUVXF05hP\n",
       "KgnMmZdeR9P+F2CzCI+ePkULTA8ioKteRO4G5gLLgPtE5GzgMowSDWeab14PZ8d3sO5NqCuDvEFQ\n",
       "dAIMjU2NrngKTDQbJO0V5Zzxuz/iOuAChuZa+Os5B1CY3X2Dv5nlO8MlN9NKP1cVrEudhLhEEmwm\n",
       "czZGgarfAIcB72GUXthfKaXXKNGw4zv48jForYeCocb3Lx8zjkdJvAUm0vKbddvWcsbNj6Kmns7Y\n",
       "wnSePv9AvwJjVvnOcOkQmB5aKtMMgolMm7vWC0qp7UAtcLtSymW6ZT2ddW9CVm/I6gNpFuN7Vm/j\n",
       "eBTEe4kUafnNFmsuf/+6DFV0FNP6C4+fexBZNt8TazPLd4ZDxxKpB5fKNINgmU1DROQDr5/7Au95\n",
       "2krovUtRUFdmzGC8ySyAmh0RD5kIH4zFUYYzp/MyQdnysTT8/Fc9rakKV9bP/aY3l9dw39o8VtVa\n",
       "+fUBI/jNAYFblXR9PbiT+RrjV3q1kw+mscqYwXhjyzGiPZpuBBOZ2UHOayIlbxA01xgzGA/NNcbx\n",
       "CEiUkzfc8pvrS2o5790WKLBx45Rmjpw5Mug9zCzfGQrdnLw9uFSmGQRcLimlPg30FS8jeyRFJ0Dj\n",
       "Lmh0J4o17jR+Ljoh7KESGUUKp/zm8uJyzvs4DZXTj0v6rOLo/ScEGPlnzCjfGSo+o0gpmBCXSHQv\n",
       "7EQxdCrMvBJsucYSyZZr/BxmdCnRYerWgVOomXwxypqLpaEEZc2lZvLFnaJLztzBLGkez2Xf9sWF\n",
       "hetHbOGMU04LOToUTX/paAjYOjbFEuISiW5Tm8IkWmBC5bMfK/njm6tpq63gliOGcdSsgxJtUlB0\n",
       "HszPxKsynudmucAYYKNSqi7Sm2qiJ1UEZvHyHTzxSTFjB+Zy9sG5zNx/v0SbFBQtMLElWDLeMcCf\n",
       "MLJ7nwZex+jqOEpELlFKLQnwco1JpILAuJTikXdX8876Xczcoze3HTuODKsl+AsTjBaY2BPMJ/MQ\n",
       "cAXwKUbv66OVUodglHq432TbND5IBYFpbXdx26IVvLN+F02r3uP00UoLzG5MsOVSulLqc+BzEbnb\n",
       "3Z8apdQ2d+sSTTQEqtXq41x9Rv8OgYlFryMzUvXrm9u48fUVrLc30fD5yzzxh3MZPzExjdbCQQuM\n",
       "eQSbyRSIyM0icjPQy/NvEbkFKDDfvB6Mp1arr9R0H+ea1r5FdelmILpUfk8qvhmp+hV1zVz+8jLW\n",
       "l9dT9/6jPHnDeex3wIHRvU9xQAuMuQQTmccAq/vrCa9/pwOPm2taDydQanqXc42SRZ2rV0cafaSp\n",
       "/N6p+LFO1S+2N3DFghVUOdpwfvI4T911HdNmzIz+fTIZLTDmE3C5pJT6Y7wM2e0IlpruPtfY2k5d\n",
       "Uxt4pdFHksoPnVPxY5mq/93WXdz+5hqyM9J5/Mx9GXrpq9hs0bZKNx8tMPEhlHoyM0VkqYjUi8gu\n",
       "EXlbRCbHwbaeTaBare5zHQJD5zR6Tyq/N/5S+Ttd4zVGuHV3/fHhugpuXPQ9TVU72M/xDXv0y9EC\n",
       "o+lEQJERkRnA88CfgQHAcPfPr2qhiZJAqelD9qWpYRf1tdU+0+jDSeX3l4ofbaq+UopXvtnGve/+\n",
       "gLNiI1ULb+HQmdNj/z6ZgBaY+BIw49e9A/sOpdRXXY4fAtyglEr4BsqUzvj1E12qb26junRzwMhP\n",
       "IqNLTpfisY9/4t+rSpFt32F/62Hmv/Ka9sH0UKLN+A0mMtuVUsPCPRdPUlpkfJDseTDNbU7ueWc9\n",
       "XxbvJO3Hj6l4/xnmL1ykBaYHY/a2gqYA5xojvanGN8kuMDWNrdz6rzWsL6vnqsP2JG1kBYPP0wKj\n",
       "CUwwkRkhIj/6OC5AwmcxPYlkF5iSmiZuXLQae30zp492ceKUITDl1ESbFRJaYBJLMJEZExcrdnPM\n",
       "EphYZPRa6ksp3rCa676y0u4SnB/O4+nilZxxxBpycnKDDxBDWyJBC0ziCZYnszVehuyumCkw2Zs/\n",
       "wJmRa2T0tjnI3vxBWHVYLPWlLP/2v9y0egD5Vif1i2+nong9L744P2yBidaWSNACkxwE24W9EfDl\n",
       "GRZAKaX0TCcKzFwidcroBSOj1328McQP9rvfruH+lQMYldPOlpdvonzbFhY8dD3Th1vDcsjFwpZw\n",
       "0QKTPARbLn0GHAx8AMwH4le5uYdjtg8mmoxepRTzv9zCyyszOGCAk0EbFvP1ti28Mu9Wpk8aG3ZW\n",
       "cLwLgWuBSS6CLZcuEJF84DyMJLzvgb8ppb6Ixc1FxAasBL5USl0oIlcD12FEta5RSr0bi/skG/Fw\n",
       "8kZafLvd6eKhD3/k/bUVHDeinRvH1ZA28wROOmI6o4cPRlrrw84KjmchcC0wyUfQbQVKqVql1Dyl\n",
       "1ESM2czVIvKtiFwWg/vfjFEECxEZDVwOjAPmAM+JiDUG90gq4hVFiiSjt7G1nZveWMP7ays4ZWIf\n",
       "Vr7yAKVbN5HW1sDoYQMjLuAdr0LgWmCSk3ALie9yf+UBkfXucCMi+wD7Aa+5D80BXlNK1bvr1mwB\n",
       "YtOzNUmIZ5g63OLbOxtauGbhKlZs28UlBwxk8R2/ZvnylWzL2DvqAt7xKASuBSZ5CVrjV0SyMPpe\n",
       "Xww4gKeAK5RSbZHeVIxOXo8Cl2JU2QMj72aN12U78CNkInIRcBHA8OHDIzUjriQiD8aZOzgkx+rW\n",
       "nQ5uWLSauuY2/nDoUB64/BTKS0uZv3AxU2bMjEnWZai2RIIWmOQm2AbJJzD8MJOB3yilZimlFkYj\n",
       "MG4uAZYqpX7yOmYDvNvfugCnrxcrpZ5RSk1TSk3r16+fr0uSimROtPt+Rw1XLVxJm9PFHUcM7yQw\n",
       "OpNXEwuCzWQuxfigXwxc5NVK1BPCjnRP/zlAroicAhQC2RgzG+8iKUOB7RGO/zOBSlzGgUACEyhB\n",
       "LR7Ja/9dtYE/fVzGoF7tPDKzHVtBXwYPGca9Dz8ed4GJ5Hm1wKQGCe+7JCLnYiyZ/ga8BEwDRgL/\n",
       "BMapIAYG3CDpKWOZmWcUhGptMMopxKkRVzCB8SSoKWs20ubA0lKPY5TRXtzfuVgJzeIv1/LEV5VM\n",
       "6N3ODXvvZHC2k1xppWHkL3HlxbdJWaD3wt/zaoGJH9FukAy2XHoqknORoJT6DngZWAssAn4bTGCC\n",
       "EqjEpckEWyIFKn8Z69KY3riU4smlP/H4V1UcMrCVW4t2cu41d3DpXc/izMgls/L7qO8RLuE+rxaY\n",
       "1CJYdOkiEWkVkTavr1YRaQN+GwsDlFIvKKUudP/7z0qpUUqpfWKSi9NYZcxgvLHlGMdNJBQfTFpT\n",
       "Fcqa3emYsmaT1lQV8Fw0tLa7uOft9fzzuxJOHV7PVXvu5Kyr7qC0YieXnn1CTO4RCeE8rxaY1COY\n",
       "yMxXStmUUlavL5tSygq8EAf7oiNQiUuTCNXJG6j8ZaxKY3a16w+Lvmfpj5VcdPAenDmsjtOvMATm\n",
       "lXm3sv/kfUxLkAtGqM+rBSY1CSgySqkLIjmXNAQqcWkC4USRAiWoxTp5raKumasWrGRdaR23zN6H\n",
       "06YN5ZI/PUdJxU4WPHgt+08aa1qCXCiE8rxaYFKXhDt+oyVoZbw4RZciCVPHI7r0k72Bmxavprnd\n",
       "yV3Hj2PK8N4A/PjDehrKNnLQcGvcyy/4ItDzaoFJLKaW30wFkqH8ZrLmwSzbUs2db60j25bOvXPH\n",
       "k+Nq4K3Fr3P+JVfglY6Q1GiBSTxml9/UBCFZBeaDdRU88P4GRhRmce/cCajGXZw1ZzblpaUcOfs4\n",
       "ho0YmWgTg6IFpmegRSYKugpMoqq/eaOUYsG323n2881MHlbAXSeMo7GmqkNg5i9c3CEwodgbq2cK\n",
       "d5xuApPgpEpN5IS7QVLjxpfAxLq3dLg4XYp5/9nIs59v5vC9+/OXkyZ0ExhPJm8o9sbqmcIdx6fA\n",
       "+Osbrkl6tMhEgK8lkpkJdKHQ1Obk9jfX8taqMs6YPoybZu+N1ZLG6pXLqaqs7LYXKRR7Y/VM4Yzj\n",
       "c4mUwKRKTfTo5VKY+PPBxLv6mzc1ja3c/MYaNpQbrUpOnDKE9vZ20tLTOfyo2Xy6bDV5+QVh2xur\n",
       "Zwp1HL8+mGB9wzVJjZ7JhEEgJ68ZCXShULKriSsXrGRTlYM/Hj+OE6cMwV5RzvGHH8QHS94C6CYw\n",
       "odobq2cKZZyATt4EJFVqYocWmRAJFkWKV/U3b9aX1XHlghXUN7fx0CkTOWivvtgryjlrzmy2b91C\n",
       "YWGfqOyN1TMFGydoFCnOSZWa2KJFJgRCCVPHo/qbN18WV3Hta6voZbPw2BlTGDc4v0NgQqkHE4q9\n",
       "sXqmQOOEFKbOH2LsnE/PMpZI6Vlx20mviR7tkwlCg30rjk3fkhNC6DXc6m+RhoffWlXKX/+zkT37\n",
       "5/DnORMozLZRV1sTssCEY2/SVLTLH6JFJUXRM5kANNi30rz6LVPC0pGEh5VSPPf5Zh75aCP7jSzk\n",
       "kVMnU5ht1A3LzcvnqGOOT8qKdr6etbDkP/RzxX/Htyb+6JmMH+qb23Bs+hYxqSlZuA3P2pwuHvrg\n",
       "Rz5YV8HsCQP53RFjsKQJ9opyHA31jBq9F9ffcmdUNplF12fNzOlNblqmEYLWs5MejxYZH3h8MDkm\n",
       "hqXDCQ87Wtq58611fLd1F+fNHMnZM4YjIh0+GKUU7/33f6SnJ+ev0/tZe9nSye9lBWXRIejdhOT8\n",
       "X5lAvJ28ZjYlC3XsqoYWbl68hk1VDfz+qLEcPX4gQDcnb7IKDPz8rJk5vQ2BAR2C3o3QPhkvukaR\n",
       "zAxLhzL2lp0OrnhlBSU1Tfx5zgS/ApNsPpiutPSfRJZqJD+tSYegd0O0yLjxFaY2MywdbOzvd9Rw\n",
       "1YKVtLsUj5w2iemjCjte+9Cf/5gyAgOQ1W8EuROP1yHo3RRdT4bI25ZEc20glm6o5N531zMwL5O/\n",
       "nDSRgfmZnc47GhrY+v2XTBvgTIqCU4HQ5RpSH1O7FewOhNK2JJQwc6x2LP/zux3c/fY6xg7I5bEz\n",
       "pnQIjL2inBuuvhRHQwN5qo4ZOaUJ3fEdClpgNLCbi0w0bUuiudYXnlYlTy4t5qC9+vLAyRPJcztJ\n",
       "PT6YJW++QfFPPyZ8x3coaIHReNhtRSbatiXRXNuV1nYXd7tblcydMoTbjy0iw2oBOjt5n1+4iImT\n",
       "9zWtZUqs0AKj8SZ5454mEm7bklBC2JGGu+ub27j1X2tZXVLLJYfswSlTh3bU3+0qMPvNODCqe8UD\n",
       "LTCarux2M5lYtS2J5loP5e5WJT+U13HrMftw6rRhnQp8OxrqcblcnQQm0nvFAy0wGl/sVtGlWLct\n",
       "ieban+wN3Lh4NS3tTu4+YTyThxV0nKurrSE3Lx8Rob293WeiXTLUE/ZGC0zPRXcrCJFIuwqEsws5\n",
       "1Gv/t6WaO/+9jpyMdB49fQqj+v7sX/EskY6cfRy/v/WPfjN5zdwdHS5aYDSB2C1EJpq2JbGYMXiP\n",
       "8VblAP68IoMRfbK5d+6ETh9Obx/MYTOnklX8rt/7hmKXrXwF2cVLsDjKcGYPwjF6Nq0Dp0T0Pvgj\n",
       "N9NKv9o18NWbUFcGeYOg6AQYOjWm94kY3eUg4fR4n0y0AhNt7otnDNoaeW77IO5ensG+vZt47NgB\n",
       "fgXmheef4dC+1X7vG4pdtvIVFKx8Gmmrx5kzBGmrp2Dl09jKV0T0XviiQ2C+fAxa66FgqPH9y8dg\n",
       "x3cxu0/E6C4HSUGPFploG6/FIh8lw76KFmsuf1nXm6fXWTlqmJNHZjjoU7Om45r29nbOPfXEjijS\n",
       "L0ZYA943FLuyi5fQnlmAyiyENAsqs5D2zAKyi5dE/H5407FEWvcmZPWGrD6QZjG+Z/U2jica3eUg\n",
       "Keixy6VYdHaMRbX+lvqd3Lx2MF+UW/j1mHYuGeckjc5jpKenc80Nt9C7sJD9ZhxI2pqXAt43FLss\n",
       "jjKcOZ2XBcqWj6Uh+r/inXwwdWXGDMabzAKo2RH1faJGdzlICnrkTCZWrWOjrda/q7GVS5cP5qvy\n",
       "NK6f1MZl452kyc9j2CvK+c/7xsziyNnHdcuD8XffUOxyZg9CWms7X9NaizN7UEi2+6ObkzdvEDTX\n",
       "dL6oucY4nmh0l4OkoMeJTCx7U0eTj2K0KllBcV0690+yc8qw2k5jbGcQZ82ZzfVXXExdbU1Y9w3F\n",
       "Lsfo2aQ31yDN1eByIs3VpDfX4Bg9O+L3w2cUqegEaNwFjTvB5TS+N+4yjica3eUgKehReTKxFBgP\n",
       "kUSX1pfVcfMbhs/lTyeOZ0JuQ6cxtjOI0885P2C5hmD3jXd0KWCYesd3hg9GR5d6JNHmySRMZEQk\n",
       "E3gUmAVkAPOUUo+IyNXAdUATcI1S6t1A43hEJlYCE+0H84ufqrjnnfUUZtv4y0kTGNo7q5MglDks\n",
       "zL36PsrL7SlTD0bnwezepHKph2zgfWAsMBW4UUQOAS4HxgFzgOdExBpsoFgKTDRh33+vKuWOf69l\n",
       "ZN9sHj9zSofAeIeb//XeJ5SXlvDi/Ge0wGh2CxIWXVJK7QQWuX+sEpHtwMHAa0qpemCdiGzBEKCv\n",
       "/Y3jUipmS6ROYV8wwr7u44FmM0opnv9iC//4Zhsz9ijktmOL6OXeRe0JN7usOYgIF51zMkcfPJXh\n",
       "w600xsRq89ACo4kFSeH4FZHxQCbQF9jqdWoH0C1MISIXicgyEVlWYY9dQ3uLowxly+90TNnysTjK\n",
       "/L6mzenivvc28I9vtnHMhEHcfcL4DoEBI9xcXtvK3EtvZ8OmbYgIw0eMTJqyDP7QAqOJFQkXGRHp\n",
       "C7wEnAfYAJfXaRfg7PoapdQzSqlpSqlphX1iF44MN+zraGnn5sWr+XBdBecdOJJrf7kXljTpdE2Z\n",
       "w8LJl93O9z9soqbOCDsnS1kGf2iB0cSShCbjiUhv4G3gZqXU/0TkaMDb9T8U2B7NPcKJDjlGz6Zg\n",
       "5dO0Y8xgpLWW9OYaavY+rduYdVu/53dfWNjssHLjIQM5ctqIbuPZK8o56+r7KLdXs+Ch65k+aWxH\n",
       "uNkx+IBoHss0tMBoYk3CZjIikge8BdzjFUF6BzhdRLJEpAgoBFZGeo9w9x61DpxCzeSLUdZcLA0l\n",
       "KGsuNZMv7uSPsdSXUr76Ey781EZps5WHp9dxsu3rbmNW2e3GXqRyOy++OJ/p+06OeceDWKMFRmMG\n",
       "iZzJXAVMAeaJyDz3sSOBl4G1QDNwoYoixh5uK1gwhCaQk3ftutXcsGwwtjThbwe3MbYgE2drbrcx\n",
       "s3Ny2GPPMdz78OPsO2OmdvJqdlsSGV26B7jHx6k/u7+iJhZ7j7xZusHOvV9kMDhb8ciBrQzO7j5m\n",
       "ZUUFmb0yyc3L5+n/WxiV/fFCC4zGTBLu+DWTaPceefP6su3c9fZ6igpd/H3mrg6B8R7TXlHOmXOO\n",
       "5vLzzyFVMqm1wGjMpsfuwgZjj0/25g9wYsw2pM0RttPV6VL87dNiFi8v4eC9+nLrL/Ip3P4RzlbV\n",
       "aczN6aM76sHc+/DjnWr1JitJJTA6/b/H0qNnMtG2mTValaxj8fISTtp3CLcdW0R676HdxtycPTno\n",
       "XqRkI+kERheX6rH06JkMRF4Lt66pjdveXMOakjounTWaU6b+XDOl65jXnnKCFpho8C4uBT9/L1mu\n",
       "ZzM9gB4vMpFQXtvMjYtXU1bbxG3HFjFrbL+A1991/yNU2iuYtn9y5r54k3QCA7q4VA+nRy+XImFj\n",
       "RT1XLFhBtaOV+0+e6Fdg7BXlPP7w/bhcLkaM2kMLTDTo4lI9mh4xk4lVDyJPq5LczHQePGMyI/tk\n",
       "+7zOXlHO2XOPoaykhGNOmMOo0XtF+wim4F22wlIwhOxJcyE3Seq8eDNkX8MHA8YMprXBKC419qDE\n",
       "2qWJCSk/kxFna9QdBQDeW1POzW+sYXBBJo+fOSUkgZm/cHFSC4ynbIWl93CyVWPydBHoSv4QGDsb\n",
       "0rOMJVJ6lvGz9sf0CFJ+JiPtTWFn9XqjlOLlr7cx/8stTB1ewJ3HjyM7w/fb0lVgktnJ6ylbYc3p\n",
       "636ePsaJdW8mT9U6b/KHaFHpoaS+yLjaUdbOs45Qs3qdLsW8jzbyzuoyjiwawHVHjsFq8T+52/jD\n",
       "eqp3ViW9wIBRtsLSe3hnwUyWLgKa3YqUFxmVlo60OTpmMhBaVm9Tm5O7317H15uqOWv/4Zx/4Ei/\n",
       "CXStra3YbDYOPORQli5bQ05Ors/r4knQGsAFQ8h21dMxg4Hk6SKg2a1IeZ+MSu8VdkeBXY2tXPvq\n",
       "Kr7dXM3vjtiLCw4a5Vdg7BXlHH/EQbz5z1cBkkZgAvmhcjOthpM3WbsIaHYrUl9kLLawsnp37Grk\n",
       "ildWsGWng7tOGMdxk/z7bTw+mJJt2xgydJhZjxA2gTpIdoSph06FmVeCLddYItlyjZ+T0R+j6dGk\n",
       "/HIJQs/qXVdax81vrEZQPHlgIxOa3sVV7DvkHYmTN1ah9GD4212e3baLXO88mKFTtahoEk7Kz2RC\n",
       "5Yufqrju9VXk2oQXpm5hfG6D35B3Q0N9RAITi1B6KPjaXZ5FC7mFA2N+L40mWnYLkXlzpdGqZFTf\n",
       "bJ49sJbBvXsFblafncMJJ58eVhQp0BIm1nTtIJmlmsiTRt0ZUZOU9Ijlkj+UUjz3+WZe+XY7B+zR\n",
       "h1uP3Yc+G17Blem7kJW9opxdO3cytmgcl//u92HdK5ICWZEurzy7yzPsq4wlUuFAGDJL55lokpIe\n",
       "KzJtThcPvL+Bj9bbOW7iIK463Ogk4FlqdA15lzksnHXRbFpbW/nwy+XYbLaw7udvXH+hdM/yypmR\n",
       "ayyv2hxkb/4g5FIUztzBWPqN6OyD0WiSkB65XGpoaeemxav5aL2dCw4ayTVH/NyqxFez+srSHUbr\n",
       "2NJSHnr8mbAFxt+4gULp0S6vknazo0bThR43k6msb+GmN1azdWcjN/5qLEeO6+wM9V5qpDVWGr2p\n",
       "b3ou6t7UztzBNPef1K2Ptr9ZSTT1h7XAaFKJHiUym6sc3LhoNY7Wdu6dM55pIwt9Xucd8n7whmuj\n",
       "Fhgwlj+Z9lW09t0bNWgq0uYg074KZ/YAn0IT7vLKgxYYTarRY0Rm5fYabntzDZnpFuadNpk9++eE\n",
       "9Lpbf38lv5m1FxNzinEV13ZPzw/RORuo/UqL+7v3GJHUH465wOi6upo40CN8Mh//YOeGRd/TNzuD\n",
       "x86cElRg7BXlXHPJ+TTsWE+f0k+ZsEd/n7kt4eS+pDVV+dyomb7rJ59jAGFlKpsiMLquriYOpPxM\n",
       "ZpejlXveWc+EIfncc+I4cjOtAa+3V5R3dBW4dPYUBowd7LdMRDjN4fwtfywtdbTm+rnH6KNDylQ2\n",
       "ZYmk6+pq4kTKz2QqG1o4ZEw/Hjh5YlgCM3/hYqbuUeC7TERTFeB/duI5742/6JIrMz/kMXxhmg+m\n",
       "scqoQueNLcc4rtHEkJSfyfTOsnLbsfuQFqTPUVeBmTZjJq7i2oDO13Ccs12jVq5efXEMPoAM+yos\n",
       "dTtIb6pEWupQGXm09+qHMzf4bMFUJ6+nrq5nBgO6rq7GFFJeZPrlZgYVGIC21lasVlunKFIw52u4\n",
       "zllfGzXbHRXkbHyT9swClC0faamlV+1WagYG3rjYu3oNvbcugboyowZM0Qmx3eyo6+pq4oSkSjtV\n",
       "f0yYvK9688PP/J6v2VVNXn4BaWlpuFwu0tI6rxCDFn8KI/Xf17UZ9lVY6ktIb6okrbUOl+3nmUzj\n",
       "6KN9jtO7eg29Vz0FWb2NanbNNUYtmFiXatDRJU0IiMh3Sqlpkb4+5Wcy4mwlq/jdTh9sMByrlTuK\n",
       "OfW6xzjokMO4/aG/dRMYCF4mItQyEv62CdBaT3vhXjjzh/98sXL5TbrLzbQaM5is3pDlrmqXZVJ9\n",
       "Xl1XVxMHUl5k0lrrfg4PtznIW/Uc6Q3llDY4OelP71K2s4GT9+2Lpb7UlNouHvxFomz1JThD9Ot0\n",
       "+GDqyqBgaOeTuj6vJkVJeZFRYkGcbdiqV2BpKMNWuYYdzb047rG1lO6sZ9FNxzJ13AicIXYviBR/\n",
       "2wRcmflYWuqD+nU6OXnzBhlLpCxdn1eT+qR8CFuUi4yKFYizlbS2JpzOdk5+7H+U7qzj9TvPZMaE\n",
       "0aQ32kMOGUeKr0JS0uagrWB00KS7blGkohN0fV5NjyHlZzLibEZZs8DVTnr9NsTZxJ+O6Y+1cDj7\n",
       "FQ1HKUVaYwWuAVMiGj9Ux2+gSFQgv47PMLWnPu+6N40lUt4gmHx2apfS1E7m3ZbUFxlXO9JST9WO\n",
       "TXy1rpJTJuRwxN6ZQD1NLXWg2kEsfksuBBKRcGq++MuTCeQHCpgH05Pq83q2MGTmGVsYWhuMn3WX\n",
       "yN2ClBcZJRaqf/ya2U9soKyujV8U/YK+uRmktTVgrd5Ae8FI6ovO9PlhDyYi4WwrgNAjUbCb7abW\n",
       "Wxh2a5LOJyMip4rIZhH5SUTOD3Z9q0rnV09upKS2jX9euT+9BwwDi5W23nvRVrAHNdN+R+tA30ul\n",
       "YIWjwtlWEA67lcCA3sKwm5NUMxkRyQUeAmYATmCliLyllPJbyam4pIp0gUW/O5CDRuficrXi2OsE\n",
       "lMWKSs8KuFwJVjgq0povgdjtBAb0FobdnGSbyRwFfKqUKlFKlQMfA4cHekFbWzuvPHANB0wZT0vh\n",
       "WJxZ/VAWa9AukuA/IuQRkXBLagZjtxQYMJy8zXXQUgfKZXxvrtPdFXYTkmomAwwDtnr9vAPolhwi\n",
       "IhcBFwGkCW3n3fDA1nSR9F5WeqUJabUt1DW0Kkerk7ZAN7NZsBb2koJ2F06XwpkmWNLTsFQ3qRrP\n",
       "a20WrDk2ybamkd7moj2UcQPQF0ilNULM7I3x++iL3fa9jQNjo3lxsomMDXB5/ezCWDZ1Qin1DPAM\n",
       "gIgs29kY+b6KeCIiy6LZAxJvUsneVLIVUsteEVkWzeuTbblUBniHG4YC2xNki0ajiQHJJjIfAEeJ\n",
       "SH8RGQjMdB/TaDQpSlItl5RS5SJyC/CV+9B1SilHoNfgXjalCKlkK6SWvalkK6SWvVHZmvL1ZDQa\n",
       "TXKTbMsljUbTw9Aio9FoABCRXiIyJtbjpqzIhLv9IN6ISKaIPCMiP4rIVhH5nfv41SKyTUQ2iIjv\n",
       "+psJQkRsIrJORJ51/5zMtuaLyEIRKRGRYrftSWmviFwrIhvd/18vdx9LGltFJE9E/gVUAH/wOu7T\n",
       "RhG5T0R2iMhqEQm+i1cplXJfQC5GaHsIMBAoB/ol2q4uNvYBTgIEI/GqAjgE+NFtfxFQClgTbauX\n",
       "zXcCS4BngdFJbuv/Abe639/MZLUXGAlsAbLd/ydqgXHJZCuQg5FZfyHwrPuYz/cTOAz4HCNo9Etg\n",
       "ZbDxU3UmE/b2g3ijlNqplFqkDKowRPFg4DWlVL1Sah3Gf76kqOcgIvsA+wGvuQ/NIXlt9aQ3/Nn9\n",
       "/jaTvPZ6sppdGB/MemA2SWSrUqpBKfUfoN3rsL/3cy7wglKqXSn1IdDP/fvwS6qKTEjbD5IFERmP\n",
       "8de2L0lot4gI8ChwtdfhZH6PxwGbgUXuqfyDJKm9SqkSjBni18BHwJkYSaZJZ2sX/L2fXY+XEMT2\n",
       "VBWZkLYfJAMi0hd4CTiP5LX7EmCpUuonr2PJaitAf4wp/JXAvsCBwPEkob0ikochLFcDDwPXk9zv\n",
       "rQd/NoZte1Il44VBGTDL6+ehwDeJMcU/ItIbeBu4WSn1P7fzLBm3TZwD5IrIKUAhhv/gUZLTVgA7\n",
       "8J1SageAiHyI8R89Ge09G/heKbUUWCoiczB8iMloqzf+tvh0PT4YY5bjl1SdyST99gP3X7C3gHuU\n",
       "Uu+6D78DnC4iWSJShPGBXpkgEztQSs1USk1QSk0GbgfewBDHpLPVzddAkYgMFpEM4AiggeS0txmY\n",
       "LCJWd72kMRjLpmS01Rt//1ffAX4jIhYR+SXwo1KqOtBAKTmTUZFtP4g3VwFTgHkiMs997EjgZWAt\n",
       "xn++C5XblZ9sKKW+E5GktFUp5RCRK4EPgQwMR+RDbsFJNntfxojIbAKagBeVUl8k03vrFr8VGJGk\n",
       "TBGZBfwWH/9XReQNjCjpJmAnxlIw8PjJ8XvQaDQ9lVRdLmk0mhRBi4xGozEVLTIajcZUtMhoNBpT\n",
       "0SKj0WhMRYuMRqMxFS0ymqgRkS0iMjTRdvhCRM71lK7QJAYtMrshIqLcdXh2iMhXInJMom3qioi8\n",
       "ICLlIrJJRNaIyC8SbZMmMlIy41cTNU6l1J4A7pTxl0QkRyn1aoLt6sr1SqmXReQw4O/A3ok2SBM+\n",
       "eiazm+OuFXIm8BfoKMH4lLuS20YRudh9fJaIfOR5nXumcbbXUGe4q+oVi8ih7msOc1dP2yIir4pI\n",
       "mvt4u4j8wX3tMhEZEMTMzzA26CEi2SLyrvu1a0Rkgpc9D4rIN+4Z0CldBxGRp/XSKf5okdGglNoA\n",
       "9BKR/sCNGDPcMcAM4DoRmRjCMH2UUkXABcBz7mPVGGUY9sCoEHew+7gF2KGUGg384H5NIM7F2FQI\n",
       "RiW8W9yvfQq4zuu6Ivf9zgb+5D2AiFwA7AVcGsKzaGKIXi5pPKRjVHGbDVzg3rC3U0QWYZTV+D7I\n",
       "658DUEotde847gNsw9hoNwkYzs8lAhTwuvvfnwL+2rXeLyKPAquAE9zjN4jICDHqOu8H1Hldv0gp\n",
       "1S4inwIjvI5PAg4AfqGUimX/bU0I6JmMBhHZF6hQSu3CEBtXl0ucGKUZLV7HrF2u8S7dmImx43iJ\n",
       "+7W3AUsxZiEALq8Pe1uXcb35A7APRpmB6W5bLwEuxvDR/MlrTIAWAPfY3mM2YNTICVgmUmMOWmR2\n",
       "c0RkEvACP1ep/xC4UgwKgRMxlipbgb1FJENEMjFmBt6c4h7vJKBYKdUIjAcWYnzID4zEPqVUBcZy\n",
       "6kkR6eUe8xOl1CqMWs+hUAxcBrzprlSoiSN6ubR7YhGRnzBmHJuBa5VSHp/HXcCTGB/MJuBut88G\n",
       "EXkJ+BKjxsiPXcbsIyLrgEbgN+5jfwGWA+sxljwRoZRaJiLvA38E5gOvicivgffDGGOJiEwG/iUi\n",
       "hyulWiK1RxMeup6MRqMxFb1c0mg0pqJFRqPRmIoWGY1GYypaZDQajalokdFoNKaiRUaj0ZiKFhmN\n",
       "RmMqWmQ0Go2paJHRaDSm8v8pD9IPH5rGCwAAAABJRU5ErkJggg==\n",
       "\"/><img style=\"margin:0\" align=\"left\" src=\"data:image/png;base64,iVBORw0KGgoAAAANSUhEUgAAARkAAAEnCAYAAACdYDfKAAAAOXRFWHRTb2Z0d2FyZQBNYXRwbG90\n",
       "bGliIHZlcnNpb24zLjMuNCwgaHR0cHM6Ly9tYXRwbG90bGliLm9yZy8QVMy6AAAACXBIWXMAAAsT\n",
       "AAALEwEAmpwYAABELUlEQVR4nO2dd3xcxfW3n6NVXVXLveBecJWLDAbTSUxsYoMxBNNCCZiO6RB6\n",
       "78UBkh8QWgIvtgFjQjHEELoTinEvuFdJK1m9t915/7i78kpeba/SPJ/PWtq59849V9Z+NXPmzDmi\n",
       "lEKj0WhCRVykDdBoNB0bLTIajSakaJHRaDQhRYuMRqMJKVpkNBpNSNEio9FoQooWGY1GE1K0yHRS\n",
       "RORXp++zRKSbj9d3F5HNItJLRC4SESUiV7Y5Z6C9Pc2L/pJEZLqIPObi2AkisklE6kTkExHp6u6Y\n",
       "iMSJyHcicoIvz6QJDVpkOggicriIlIjI9+28KtoKiYjMEJHFwE/AESKyoc2rSUTOb+eWjwHPKaUs\n",
       "9vc1wAMikuWH7ccBxcDLwKVtjnUDlgJ3AL0AAZ51d0wpZQOuAF4SEf07HmH0f0DHQgHN7bzaEg+M\n",
       "BB4ALgaOB34HLAbGAv8C3rO/b4WIdAdmAG84Nf8KrALu88Pu7fZ7XuDi2FzgF6XUB0qpCuB+YI6I\n",
       "JLo7ppTaCOwEfu+HPZogEh9pAzRBZTfwSjvH7m7z/gfgOGAYMAW4E8gDegObgW+B8+yjgracDHyv\n",
       "lKpr034DsFJEXlRK/dr2IhFZATyqlPrYuV0plW8/PtDFvSZjjLQcrAZSgCEejm0GPgGmAx+66FcT\n",
       "JvRIpmNhBarbeVnbnLsdY9rxAnASxlTjecAG9AS6As+JyBUu7pODMWpphVJqE/CSvd9DUEpNbSsw\n",
       "XtALKHLqoxGoArI9HMNuY46P99MEGT2S6QCIyLvAYAxheAhDMKqcTkkA0oFlIrISY9QyD2OaZAYK\n",
       "gVs4OP35PfAo8AeMUUFbugK72jHnPmCbiJwKbPT3mZwwcegfwzgMMXR3DAw/T1c0EUWLTAdAKXUW\n",
       "gIicBVwFXKqU2iEiCUAf4GPgYqXUF/bzzgfuAiqBHKXU3fb295VSZ4hIvVJqpYg0AfkublkPJLVj\n",
       "S4WI3AE8Q3D8IWUcHJlg98WkYYxg3B0DY+pUHwQbNAGgRaaDYF8+vh/jg/eeiNgwpkl1wA7gVhE5\n",
       "Win1ADAJOBHIApJFZCaG32K4vbtEEdlg//5v9pczecBhbsx5DWN156pAnwtYDxzj9P4IoARjJOXu\n",
       "GEA/u62aCKJ9Mh0AERFgGtAfKMVw5P4EfKyU+h3wKXAzxvQCpdQNSqnxGCtI39nPfxroLiLJQKNS\n",
       "aoz91VZgAL7HcBq7xO4svg64PAiPtxA4VkTOFJGeGNOxl+33cHcMu40rgmCDJgC0yHQMZgJWpVQ9\n",
       "kAFkAtcD+0XEDDwIbAGOFpFrAERkPHAKsAz40t5HLfAqhg/HHf8DskVkZHsnKKX+CyxxbhORFSJy\n",
       "yBTKHlCngK+ArvYAPmXvZxtwCbAAY0S2C/syubtj9qni2cDbHp5FE2JEZ8aLfUTkPGCNUmqjiNyD\n",
       "4dQttx/OAt5QSt1lj5QdhjGieRM4Wyn1s4iMAN4HTgPOAa4GmjAcyN8qpc51cc9zgDlKqTND+nB+\n",
       "IiLXAmOUUsEYTWkCQItMJ0RE0oGuSqnd9vcmYJJS6iencwTDZ6eUUq6C+RCRq4D3lFJFro5HCrvt\n",
       "NwIvKaWqI21PZ0eLjEajCSnaJ6PRaEKKFhmNRhNStMhoNJqQokVGo9GEFC0yGo0mpGiR0Wg0IUWL\n",
       "jEajCSlaZDQaTUjRIqPRaEKKFhmNRhNSwiYyIpIiIsM9n6nRaDoSIRcZEckQkQ8wUjze6tQ+X0T2\n",
       "isgWEZnu1P6YiOwXkfUiMinU9mk0mtASjsx4NowE1R9jJEdCRIZgpBMYjZFh7QsRGQAci5HpbCBG\n",
       "5rZXgfFhsFGj0YSIkI9klFLVSqn/0Lr2z2zgHaVUlT3D/W6MlJBnYOQ+aVZKfY6Rqa1XqG3UaDSh\n",
       "I1I5fg8DNji9349R7+cwjJSQDhx1gCxObYjIPIzETKSmpk46/PDDQ2qsRhNMbErRZPU/xYpYG5Hm\n",
       "OsTWjIqLR8WnoEyJQbTQoLmpiV07ttHQ0FCslOrubz+REplEDpatwP691U17K5RSL2OUNCU3N1et\n",
       "XLkydJZqNEGkqr6JA1UNfl9vqsondddyrEnpqIRUpKkGU0MVNYOmYU3vEzQ7iwotnDd7BiZTPNCw\n",
       "J5C+IiUyBUBfp/f9gH0u2vtgjHI0mpgnUIEBSCpaawhMYjoAKjEdq7291guRMVXlk1S0lri6Yg56\n",
       "S2zYUrrR0CMHa3qfFoGx5Ofz2qIlzJ31u4BsjlSczCfAXBExi8gojNo5a+ztF4qISUR+C2xVSpVG\n",
       "yEaNJmgEQ2AA4uqKUQmprdpUQqpdNNzjGAVJcy2IiSTLT6QU/ARiQpprSd21HMr38adz5rQIzOQp\n",
       "UwO2OeQjGXs+2dUYFQyTReQE4DLgLYwKg/UYxciUiCzFKPy+E6N+ziEJrDWaWCNYAgNgS+mGNNW0\n",
       "jGQApKkGW0o3j9c6j4ISS7eikrNpRpFQuYeGXpOwAuaSDdxy1/2kmFOYPGUqzVZXpdB9I+Qio5Sq\n",
       "Aoa6OPQV8Eibcx31eq4LtV0aTTgIpsAANPTIMXwy0Non0+coj9fG1RVjMxv+27jGSmyJWYBCGioo\n",
       "LC7j57WbmDVlKMeddAEA9U1WHvh4U8A26wqSGk2ICLbAAFjT+1AzaJrhV6k9gC2lGzV9jvLK6es8\n",
       "CrIlZiDWehSKgpo45txyD0XFZRz13vOk2G2/c+kGNuZXBmyzFhmNJgSEQmAcWNP7eOXkbYvzKKgp\n",
       "YwBJBT9yoLSWWY9/RUFxOYsfuZK04cdSWN3AbUvWs7+slntmjuKSxwOzV2+Q1GiCTCgFJhAcoyAV\n",
       "bwZlZW/CCGY8/hX5B8p5+9k7GTvrSnY3ZXHtwtVYKup5dPZYjh/ud3hMC3oko9EEkWgVGAfOo6AP\n",
       "Xn+F/JJqXn/nQ8ZOOZrNhVXcvmQNCnjmDzmM6JXuvjMv0SKj0QSJcAmMc6yLc3yLN+c2p/bCVF2A\n",
       "qb6Ey47ry2/+/Qk9R0xi1d4y7v5gIxkp8Tw+Zxz9s81Bs1dPlzSaIBBOgXHEutjM3VviW0xV+R7P\n",
       "NVXlUf/1AmZdehtr9lYhzbUMa1jP92u38Of319MzI4nn5k4IqsCAHsloNAETzimSLxG/bc8tztvF\n",
       "aY99SX5pDXUNTajEdN7bk8Tj6wsY1SeTh08fQ0ZKQtBt1iMZjSYAwu2D8SXi1/ncwuIyTrvzn+SX\n",
       "1vDuHTM5Imckr/9q4rH16RzdvZ4nzxwXEoEBPZLRaPwmEk5eXyJ+HeceqLYx56p7sJTW8O4dv+eI\n",
       "cYfz+DoT7+yI59SuBdzfby3Ne5Vb304g6JGMRuMHkVpFauiRg6mhCmmsAmVDGqswNVTR0COn3XMz\n",
       "Eq2MGTaQhY9cwZT+adyxcyzv7Ijngu7beKTP/7D1HOvWtxMoeiSj0fhIJJepfYn4LaiNIzlrMr2a\n",
       "9vLyHedTk9CNy39J56dCK/P7/MpFffNo6HYUtpRso2+8383tC1pkNBofiIY4GG8ifh3pGrp2687C\n",
       "f31GZX0zdyxdzxZLFbdMG85ZspcG89EgByczKiGVuNoDQbdXi4xG4yXeCowvcSyhwDkfzKPPvMCB\n",
       "KmObQH5FHffNHM0xw7ph2+H/bm5f0T4ZjcYLfBEYb+NYQoGzwLy+6H26D8vh2oVrKK5u4Ik54zhm\n",
       "mCEivvh2AkWLjEbjAV+mSK1iUyTOiGNJSiepaG2IrTS448ZrWgQmdcAY5i9aQ7PNxrNnjyfnsKyW\n",
       "85z3McXVHkDFm4OewtOBni5pNG7w1QfjnLPFQah8Ha544IkFFOTtx9ZjODe9u5Yu5kSeOHMcfbNS\n",
       "DjnX393cvqJHMhpNO/jj5HXEpjgTKl+Hg6JCC08/+gBWq5U+fftRkTGYO5duoG9WCs+fM8GlwIQT\n",
       "PZLRaFxQVd9Eaf4uzO04cNtz7jb0yCHt13cx1ZdAcyPEJ2JN7kr14WeFxM6iQgvnn3EqBXl5nDbn\n",
       "D6yvSeeFL7cztl8mD50+hrSkyH/E9UhGo2mDQ2Dac+B6cu6KAgWIiPHV/xJLbnEWmNcWLuH7A8k8\n",
       "/+V2jh7SlcfPGBsVAgN6JKPRtMIxRTK72YgIuD3WlNkPlTiypU9prAp6kJuzwLy6cAnf13Tno7V7\n",
       "mD6mFzf+djimOAnavQJFi4xGY8fZB+PJgevvsWCxZ9cOysvK+PvbS1hWnMW3WwuYO/kwLjt2ECLR\n",
       "IzCgp0saDXCok9edA9ffY8GgocGwcfKUqSxbsYb38tL4dmsxVxw/mHnHDY46gQE9ktFECxV5kLcK\n",
       "aovB3A36ToTMvp6vC8I96yoKqZFMTE6OXU+lR/w9FghFhRYumPN7LrniGk4541zu+mQb24uquf13\n",
       "I5g2updXfUQiGlmPZDSRpyIPtiyD5lpI62F83bLMaA/xPWtrq6iIyzrEeesuWM3fY4Hg8MHk799P\n",
       "l37DuG7RGnaX1PLgaWN8EphIRCPrkYwm8uStguQMSMow3ju+5q0K3WgmbxW1calU2pJBXGeYcxes\n",
       "5u8xf3B28j766hL+viWOhqYmnpwzjrH9Mr3uJ9A62v6iRzKayFNbDIlprdsS04z2EFFXUUilNbFV\n",
       "m7c1pcNJXW1ti8Dc+/J7vLwZULDg7ByfBAYCq6MdCHoko4k85m7QWH1wBAPGe3NoomSr6puokcyw\n",
       "7UIOhBSzmbkXXExC//G8ulnRLS2RJ88cR6/MZJ/7CqSOdiDokYwm8vSdCPWV0FAJymZ8ra802oOM\n",
       "YxUpnLuQ/aGo0ML6tasBOOy4s/jHr1b6Z5t57pzxfgkMhHfntTN6JKOJPJl9YcQMwwdTXWSMYEYc\n",
       "E3R/jPMydSA1pUONI11DbU0N1770GS+v2MuE/lk8MGs0qQFE8UbqmbXIaKKDzL4hXbJ2tdkxEAdt\n",
       "qJaCnfPB/OGxd3l5xV6OG96NO6aPJDE+8IlHuHZeO6OnS5oOT7BTZoZqKbhFYAosnPrQO3yVZ2Pm\n",
       "uN7cfeqooAhMpNAjGU2HJhQ5eUO1FPz3FxZgKTzACfcs4qdCxR+nDODCowdEZRSvL2iR0XRYQpX0\n",
       "O1SJqa669R72Dp7JxtJmrjlxKGdMDHHEc5iI3TGYRuOGUFYVCOb+pKJCC1dfcj7b9xZw69JN7Cy3\n",
       "cueMkR1GYECPZDQdkFCXLfG0r8lbHD6Youpmij7aRk2z8MjsMUwemB0awyNEREcyInKjiGwTkV0i\n",
       "crW9bb6I7BWRLSIyPZL2aWKPcNRFCsb+JIfAHGhMYMClz9OEiaf/kNPhBAYiOJIRkYHAdcBoIBnY\n",
       "KSJfA1fb2w4DvhCRAUqppkjZqYkdXAmMu6XmSNVHcghMCZn0Of8+UpKSeOLMsQzomur54hgkkiMZ\n",
       "h3DYMMSuCpgBvKOUqlJKbQJ2A5MiY54mlmhPYPxNoemOYCxhJwzKpduZ99Ej04ji7agCAxEcySil\n",
       "8kTkPuAHDLE7F5gDbHA6bT/Qu+21IjIPmAfQv3//kNuqiW7amyK5W2qG9lNoelqG9ncJu7SkmIzM\n",
       "LH4pUjROOo/hPdN5dPZYMs0Jvj90mEhPDty2SE6XMjCEZT4wCLgZyMMY2TiwYdQBb4VS6mXgZYDc\n",
       "3NwQpWnWxALufDCBpNB0hz9L2EWFFs6dPYO+J1/Evqwccgd04f5Zo0lJNHm8X6RIT06ge3pSwP1E\n",
       "crp0PrBOKfW1Uup1e5sFcF676wfsC7tlmpjAk5M3VGkyfb3WEJhTqR50EvuycjhxRHcenj2mUwgM\n",
       "RFZk6oHxIpIgIunAcOALYK6ImEVkFJANrImgjZooxZtVJHe7jgPZkezLtUWFFs494/fUjjoN88SZ\n",
       "nD6+D3eeOpIEU/SGqAVTYCCyIvMWxshlJ/AL8KZSaoW9fSOwBLhMKaWnQ5pWeLtMHao0md5eq5Ti\n",
       "sgvPp27CuSSPPJ6Lpw7k2pOGEhfF2wSCLTAAEuuf4dzcXLVy5cpIm6EJE+GIgwkWVfVNzP/n/9hT\n",
       "pZj/m2HMyol8Ggl3tCcwIvKLUirX3351xK8mZogVgSkqtPDZf77mm6ah5NXCPTNHcfzw7p4vjCCh\n",
       "GME40CLTkQlXmZFg3MdDH6EQmETLalJ3LMNUU4A1tTc1Q2bQ2GtCQH0WFVo494ILaTrqMlKz63h0\n",
       "9lgmDugSJItDQygFBvQGyY5LuMqMBOM+HvoIlcBkrXkJaarCmtYXaaoia81LJFpW+91nUaGFcy+e\n",
       "R/OxV5PRtTsL5o7v9AIDWmQ6Ls5lRiTO+JqcYbRH233c9BGqKVLqjmU0J2ehkrMhzoRKzqY5OYvU\n",
       "Hcv86q+o0MK5866j+dgr6dolk7+dP5nhPdM9XxhBwiEwoEWm4xKuMiPBuE87fdRVFIbMB2OqKUAl\n",
       "ti4pohIzMdUU+NXf68tWYJ06j95ZZl68cAqHZZuDYWbICJfAgBaZjoujzIgzoSgzEoz7uOijtrqC\n",
       "CvGtrpAvWFN7I40VrdqksQJr6iG7WNyilOKjtfksL+3GiF7pvHTR0WH78PpLOAUGtMh0XMJVZiQY\n",
       "92nTR21VGbUVpSEt1VEzZAbx9eVIfSnYrEh9KfH15dQMmeF1H4WWAmZceS/PfrGNIwdns+CcXDJS\n",
       "oncfEoRfYECLTMfFUWYk3myUGYk3G++DvboUjPs49VFXVkBlc0JQ6ke7o7HXBMrHX45KSMdUnYdK\n",
       "SKd8/OVery5ZLAWce/8rNAw7mYndhQdmjSY5IXq3CUBkBAb0EnbHJsRlRoJ6n8y+VCX1CGscTGOv\n",
       "CX4tWefnF3DB4wtRQ4/j2D7CvXOPjeooXoicwIAWGU2UECuBdvmWIs5/9l/QfxLTB8Rx85xjor6a\n",
       "QCQFBrTIaKKAaBWYtpnzijLG8NB/iqDnCM7qX8tNEyBu41thzarnra0OeyItMKB9MpoIE80C45z9\n",
       "buOeIq5+ZxM7D9Tw8Cl9uW1EYdCLuwXLVoc9mY0HIi4woEVGE0GiVWCgdfa7lfuq+dOKDPZVKRZM\n",
       "qeVk846DmfEkzsiMl5TeknEvkrY67ElM60LXig2eLw4DWmQ0ESGaBQaM7HcqIZVvd1ZzzYoUbEq4\n",
       "dcBuctMOtBxzRiWkElcX5EBHH211kJIYT0ZmVvADL/1Ei4wm7ES7wICR/e6zzWXcujINa3019x5e\n",
       "wJyJ3QPOqhcqWx32pCTGk5mSEJrASz/RIqMJK7EgMADLKgdz/6YeNJfl88iYIn6f0yMoWfVCgcMe\n",
       "s6ojM9kUusBLP9GrS5qwESsC8/6qPP76lYWRPZK5ZEgVxw3PwhZvpqbPUS0rSDWDphmrObUHsKV0\n",
       "a3Us3FjT+yCHn0pGxQYjINLcDUYcE54YKS/QIqMJC7EgMEop/vr5Rt5fX8JRg7O55/ejSEqYSrWL\n",
       "c63pfTyWTgkX6ckJdO0+CPoOirQpLtEiowmcICScilQ1RwdWm+Lxj9fyxbYK6jZ+yXmnnIW5vpCk\n",
       "vb7bFMxn8dRXNMTBeEL7ZDSBEYSEU8GoyBgIjc027lqyii+2VVC78gOeu2waYwdk+2VTMJ/FU1+x\n",
       "IDCgRUYTKEFIOOUqziNccSe1jc3ctPgXftxbTfV3/+SF+Wcx+aipftsUzGdx11esCAxokdEEShAS\n",
       "TkUq7qSstpEb31nL5sJaGr97jb/d/idypxwdkE3BfJb2+kptLo8ZgQHtk9EEiiPhVFJGS1NtdQWV\n",
       "PiSccsR5OGpLQ+jjTiwV9dz87hpKapp48LQxTLzqJZKSkwO2KZjP4qovMw2kZ/fyua9IokcymsAI\n",
       "QsKpcMed7Cqu4er/9wv5B8o4IWE7Rw3p2kpgArEpmM/Sti+zqiNDaqMm/sVbtMhoAiMICacCqebo\n",
       "KxvyKrhu4SrKSksofe8eTp44Iqg2BfNZnPtKbSojIz0jNInHQoyeLkWScNVFCjVBSDhlqikkybKq\n",
       "pQZSc2ovrz+Y3i4Z/7CzhPs+3EhjRREl793Pq39/qcUH4wp/Y2GCGUNjTe+DqfsA0mPIB9MWPZKJ\n",
       "FOGqixQGAg20C6QGkrdLxss3Wrjrgw00Fu+leNEdHgUmWoilVaT20COZSOG89AsHv+atiqnRTDAi\n",
       "eVvVQAKjBpK93VN6zFbLvGAs89rbHaOJd1fu4/++2cmE/lnkdN3FqNff0AITRrTIRIraYmME40xi\n",
       "mrH3JEYI1lYBU00B1rTWwqoSMzFVex7VxdUVYzO3rjOtElINf4hSvPL9Lhb+tI+xXYVHZ48lMT4y\n",
       "mxh9paMIDOjpUuQIV12kEBHMvUiB1EBqL+1CY1I3nlq+lYU/7UN2/pf/PXkx1sb6oNgbajqSwIAW\n",
       "mcgRrrpIISDYmx0DqYHkasm4qbaa29d259MNFmTzvyn65C/87dU3STFHd1VH6HgCA1pkIke46iIF\n",
       "mVDspg6kBlLbJeMqZebqzSNZsaeGuDXvU/TFa7y+6H3tg4kg2icTScJVFylIhDJdg781kODgknFp\n",
       "TSO3LVnHnpJacpo28fl3i7XARAFaZDReEe35YPLK67j1vXWU1Tby8OwxTDxsKjtnn8iwEYdH2jSP\n",
       "dGSBAS9FRkR6KqUK27RNUkr9EsjNRSQTeAk4FqgHRgJXAjcBdcD1SqlPA7lHzBItgXoVedTt/pm6\n",
       "0gLM7QS6RToXzPaiam5bso6mZitdNyym35l/xmTKZtiIwyNumyc6usCA9z6ZFSIy1vFGROYAHwXh\n",
       "/s8DG4B+wGjgMOBq+/ezgVdFJLormIeCaAnUq8ijbuNHVFZVtBvoFulcMGv3lXPD4jUIitqPH2bN\n",
       "8vcoyNsfFbZ5ojMIDHgvMpcA74vITBG5A3gQODGQG4tIL+Bo4BFlUI8hLO8opaqUUpuA3cCkQO4T\n",
       "k7jJ0RJO6nb/TKUtxW1ulEjmglmxvZhbl6wjM9lE+Xt3U7hlDa8vep+Jk4+MuG2e6CwCA15Ol5RS\n",
       "34rI8cC7wAHgCKWUq9SnvjAa2AUsEZFRGCOjBIyRjYP9wCHBEiIyD5gH0L9//wDNiEKiIFCvqr6J\n",
       "utICVDuBbg7cBcOFkk/XF/D051sZ3DWZna/fROHu7Yc4eSNlmyc6k8CAm5GMiDSJSKPjhTGqOBI4\n",
       "FSiztwVCD2AUcC0wEZgKzAJsTufYAGvbC5VSLyulcpVSud27d297OPaJcKCew8nrTX2hcNcgUkqx\n",
       "8Ke9PLl8K5MGdOHeUwaSnZbichUp2uojQecTGHAzklFKhdoXUgT8opTaDyAin2MIirN3sx+wL8R2\n",
       "RB99Jxo+GDBGMI3VRqDeiGNCfmvnVaSGHjmk7lqOFWMEIE01mBqqqOlzVMv53pwTLGxK8dI3O3n3\n",
       "l/0cPTCD26cPI82cwuKPliMih5wfTtu8oTMKDPgQjCciU0TkbBE51/EK8N4/AKNEpI+IJAG/AaqB\n",
       "uSJitk+hsoE1Ad4n9ohQoF7bZWpvcqOEKxdMs9XGE59t4d1f9nPKiCx+ePpS7rrxagCXAhNO27yh\n",
       "swoMeL+E/TaQC/wENNmbFfC2vzdWStWIyLXA50AS8IZS6mm74GzEWNK+VCml/L1HTBPmQL324mC8\n",
       "yY0S6hpE9U1WHvh4Ez/sLOWscV1Zcu8fKczP57Fnnvd4bTTUR+rMAgMg3nyGRWQ/MNS+AhRV5Obm\n",
       "qpUrV0bajJgmmgPtquqbuGPpBjblV3LJET1547ZzseTn60jeMCIivyilcv293tvp0tdA9EQwaYJG\n",
       "NAtMcXUD1y9ey9bCKu7+/UiWPnq1FpgYxNttBf2AtSKyCmj5jVRKTQuJVZqwEM2VHfeV1nLbkvVU\n",
       "1DXx6OyxTBzQha6PPkVDXd0hAuOvjaF8Ni0wB/F2unS8q3al1DdBt8hH9HTJP3yp7GhNSm+9OhNi\n",
       "5+nWwipuX7IegFtO6MOun/7DuRf9Kag2hvLZOprABDpd8jYY7xsRiQe6A65d+ZqYwa/KjrhObRls\n",
       "Vu0t4+4PNpKREs9tJ/ThlgtPx5Kfzwm/PYU+ffsFzcZQPVtHE5hg4JVPRkRuBEqAnRgrTHuBFSG0\n",
       "SxMifPHBhLuy47dbD/Dn99fTKzOZe3/Tr0VgXl/0vkuBCcTGUDybFhjXeOv4vQ4YDHwMTACOAf4d\n",
       "KqM0ocFXJ284I2Y/XpfP/R9tYkTPdO48sTfXnjfLKyevvzYG+9m0wLSPtyLTqJQqwYhfGa+U+gH4\n",
       "XejM0gQbf1aRwlHZUSnFmz/s4ZnPt3Hk4GyeOHMcv675iSKLxatVpGio9KgFxj3eOn7nAz9jTJm+\n",
       "BEqBnUqp00Jrnme049czgSxTh3IFxqYUf/1qB0tX5zFtVE9u/M1QEhMMN2FpSTHZXb0bVURydakz\n",
       "CEy4HL9/cbrhOGAgsNXfm2rCR6BxMKGKmG2y2nj8sy18+WsRZ03qx+zDzcw55Xhuu+dBjjnhJK8F\n",
       "JhAbA322ziAwwcCjyIjIERjJpFYopSxKqRIRmQT8AgwPtYEa/4nWQLu6Riv3fbSRn3eXMe/YQZw0\n",
       "IJHzZs/Akp9PcpvC99GKFhjvcSsyIvIgcAawEnhMRM4HrsJI0RDoBsmOR7SkzMQQmNL8XZijJPVk\n",
       "omU1qTuWUVlRwm17T2JTbTq3TBvOpB7SIjA6krdj4snxez5GgqoLgZOAzzBSLxyplNKOEGeiJWUm\n",
       "BwUmWlJPOmpdW2qauGj3b9laa2ZBv285LnGrFphOgKfpUpNSqgZAKbVPRCqAe5RSNg/XdT6ipLa1\n",
       "Y4pkjkAgXXuk7ljGVtWXK7ccSY3VxN9GbyE3qQZr0Xccc8LJnDprthaYDownkekrIsud3ncDPnPk\n",
       "79B7l5yIkpSZDh9MNKWe3Higgav3HEe8KF4Zs5nMxkL2lsNAs4V7H3kh7Pb4gxYY//EkMp7rhGoM\n",
       "HCkzHSMYiEjKTAeOYDPHSAYik3ry592l3LvrBLrFN/C3MVtJqCvmtDvfJD5O8e2zl4bVFn/RAhMY\n",
       "bkUmGjZAxgxRkjLTQTSknvzP5iIe/+xXBmYm8Er3D6kvtzLrgQ/JL65kyc0nUj/892GzxV+0wASO\n",
       "riAZLBwpM/NWGVMkczdDYMKcMtOBI/VkUtFa4moPYEvpRk2fo8K2urR0dR4vfLmdsf0yeej0MZRs\n",
       "reecP15KfnEl79xzNqNnelfrOpJogQkOWmSCSZSkzHQQidSTSin+8d89/POHPUwd2pW7Tx1FYnwc\n",
       "1/91IXllDbz27sccPmUqgZa6CDVaYIKHV9sKWk4WSccIwNumlKoMmVU+0Fm3FURjoJ3Vpnjuy218\n",
       "tLaA6WN6ceNvh2OKMxYJKsrL2L1zBzkT/Y5ODxtaYFoT0vSbInKqiKwRkVftkb8bgGeADSKincIR\n",
       "IhoFprHZxoOfbOKjtQWcc8Rh3DxtOCUHCrn3thtpqK8nM6uLFphOiqdgvKeBa4BvMCo8TldKHY+R\n",
       "6uGJENumcUE0CkxtYzN/Xrqeb7cWc+Xxg7ns2MEcKCrkvNkzeH/x2+zYFhvb3LTAhAZPPpl4pdT3\n",
       "wPci8qC9PjVKqb320iWaMBIJgfG0U7mstpE/v7+e7UXV3D79cKaN6klRoaVVJO+osePCarMv9jvQ\n",
       "AhM6PIlMlojcYf8+xel7AbJCZpXmECIlMI48uDZzd6SphtRdy1vy4Foq6rl1yToOVDXw0OljmDK4\n",
       "6yECE8lIXk/2O9ACE1o8iczzgKNc7V+dvgeIjVDNDkCkpkju8uBubMjk1iXraGiy8eSZ4xjTNxOA\n",
       "spISGhsbIy4w4F0eXy0wocdTMN794TJE45pI+mDa25qwPq+CGz5dQ1JCHH+ZO55B3VKprq4iNTWN\n",
       "EaNG8/l/V5GYmBgRm53xtLVCC0x48Jh+U0SOFpGvRaRKRMpE5GMRGR8G2zo9kXbyusqDu2J/I9f8\n",
       "0pMscwLPz53AoG6pFBVamD3teP624CmAqBAYcJ/HVwtM+PC0hD0FeA14BOgJ9Le/X6yFJrREWmDg\n",
       "0Dy4n+5s5NaVGQzoksxf5o6nV2ZyKx/MkUdNjai9bWkvj2/CYblaYMKIp5HMA8DFSqnlSqlapVSV\n",
       "Uup9YB6G8GhCQDQIDBzcmqDizSzcVM/9a9LJ6W3mmXNy6WJOjConryuc7Y+rPYCKNyOHn0rXvoMi\n",
       "bVqnwpPjd6RS6n9tG+3F3t4KkU2dmmgRGAfNab15cU09C7fs47jh3bhj+kgS4+NobGzkj2fOjFqB\n",
       "ceC8tSI9OYGuegQTdjyJTJ2bY7XBNEQTfQJjtSme/XwryzZYmDmuN9edPKxlm0BiYiJXXX8Lffr2\n",
       "i1qBcUb7YCKHJ5EZICKuwjUFI7m4JkhEm8A0NFl56JPNrNhRwgVT+nPR0QMREYoKLWz7dTNTjz+R\n",
       "WXP+EGkzvUILTGTxJDK6GkEY8EdgvIlkdSTvNtUUYE3tTc2QGV6lV6huaOauDzawfn8F1540lNkT\n",
       "jJ3lDh9MWWkJX6/cQFpauoeefLM3FAQkMFGUGD6Wcev4VUrtcfcKl5EdGX8FxlOScEfybmmqwprW\n",
       "F2mqImvNSyRaVrvtu7SmkRsWr2FTfiV3njryEIGx5Ofz4hsLfRaYSCQ1D1hgoiQxfKzjqSTKNsBV\n",
       "LggBlFJKj3QCwN8pkjeRrKk7ltGcnIVKzjbOSc6m2d7e3mgmr7yOW99bR1ltIw/PHsPkgca1ga4i\n",
       "eWNvsAl4ihQlieE7Ap6mS98CxwHLgdeB8Geh7qAE4oPxJkm4qaYAa1rrD4NKzMRU7fov8faiam5b\n",
       "sg6rTfH0WTmM7H0wV/E7/++fAa0ihTupeVB8MFGQGL6j4Gm69CcgF9iGEYT3MNAvWNMlEUkUkU0i\n",
       "8or9/XwR2SsiW0RkeqD9RyuBOnndRbI6sKb2RhorWp/TWIE1tfch/a3dV84Ni9cQH2dsE3AWGICr\n",
       "b7iFD//znd+rSN7YGyyC5uR1JIZ3JoyJ4TsSHrcVKKUqlFILlFLjMEYz80XkJxG5Kgj3vwPYDSAi\n",
       "Q4CrgdHAbOBVEUlo/9LYJBirSO1Fsjb0yGk5p2bIDOLry5H6UrBZkfpS4uvLqRnSOtfYiu3F3Lpk\n",
       "HV3Tknj+nPEM6JoKGFOkC886jT27diIiDBoyLKT2BoOgriL1nWgkgm+oBGUzvtZXGu0an/AoMm0o\n",
       "s78ygEP/JPqAiIwEJgPv2JtmA+/Yo4o3YYjPpEDuEW0Ea5naVSRr2/QFjb0mUD7+clRCOqbqPFRC\n",
       "OuXjWyfv/nR9Afd+uJGhPdL4y9zx9Mgw6lA7fDCrfv6RA0WFYbE3UIK+TO1IDB9vNqZI8WbjvfbH\n",
       "+IzHROIiYsaoe305UAO8CFyjlGry96ZiVId7DrgSI8seGHE3G5xO2087QiYi8zC2NtC/f39/zQgr\n",
       "wY6D8SZJeGOvCS6dvEopFv28j79/t4vcAV24f9ZoUhJNgAsn75HBKaESyqTmIYuDCXNi+I6Kpw2S\n",
       "fwXWAeOBC5VSJyilFgUiMHauAL5WSm13aksEnMvf2gCrq4uVUi8rpXKVUrndu3d3dUpUEU2Bdjal\n",
       "ePGbnfz9u12cOKI7D88e0yIwBwoLo3ovkit0oF3042kkcyXGB/1yYJ6jPC0Hl7D93dN/AZAuImcB\n",
       "2UAqxsjG+c9GP2Cfn/0HjwADsqrqmyjN34XZRSBauAPUmq02nlq+leWbCjl9fB+uOWkocQf/T0k2\n",
       "p9Cn72E8+swLLQLjjY3BeA5/+tACExv4VBIlJAaIXIQxZfo/4E2M1ayBwHvAaOXBwJCWRHEEZCVn\n",
       "tKkK6d3c3CEwjhSQzpUc63vkkOyIH3Gu8BhkX4WD+iYrD3y8iR92lnLx1IGcf2R/HH80iouKSE1L\n",
       "I8VsRinV0u6cvrI9G705xxP+9KEFJnyEuiTKi/4c8wel1C/AW8BGYAlwmSeBCTnOAVkSZ3xNzjDa\n",
       "PeCYIrUKRJM4IxAtKZ3UHctcticVrQ36Y1TVN3Hre+v4cWcpN/xmGBdMGdAiJEWFFs6dPZ3rr7gY\n",
       "AKfRaru2O9vozTme8LUPLTCxhafVpXki0igiTU6vRhFpAi4LhgFKqTeUUpfav39EKTVIKTVSKbUi\n",
       "GP0HRG2xMYJxJjHNaHeDsw8mrq4YlZDa6rhKSMVUU+CyPa7Ofd++UlzdwPWL17KlsIp7Zo5iZs7B\n",
       "kUFRoYXzzziVgrw8Lrtq/iHXtme7s43enOMJX/rQAhN7eBKZ15VSiUqpBKdXolIqAXgjDPZFFj8C\n",
       "sto6edsLRLOm9g55gNq+0lquXbgaS0U9j54xluOHH3SSOwtMe05eb4LoghFo520fWmBiE28ifn0+\n",
       "1mHwMSDL1SpSe4FoNUNmhDRAbWthFfMXraGhycazZ+cwsX+XlmNKKa6//GK3AuPOdmcbgxFo500f\n",
       "WmBil4g7fgMl5LWwvVxdcrdM3d7KSahWl1btLePuDzaSkRLPE3PGcVi2+ZBztv66mcryMo/L1NGw\n",
       "uqQFJrIE6vjVIhMEoikO5putB3hk2Wb6dTHz2BljW304iwotfPT+u1xyxTWtHLzRjBaYyBOoyHiM\n",
       "+NW4J5oE5sO1+fzli22M7pPBw7PHkJ58cOuXcyTvtBkzOWzAwMgZ6iVaYDoGWmT8wT6FqqsopEYy\n",
       "MYUpy1t7KKV464e9vP7f3UwZnM09vx9FcoKpZQpyYP8Ozr/peSzF5by+aGmLwEQqW503aIHpOPi6\n",
       "QVJjD9Crra2iIi4rbFne2sOmFC98tYPX/7ubaaN68sCs0S0Ck7prOUWWfGbf/DwFB0pY/PA8jhw9\n",
       "EIhctjpv0ALTsdAi4yt5q6iNS6XSlhzyIDpPNFltPLLsV5auzuOsSf249XcjiDcZ/6WOALc1OywU\n",
       "l1bw9oK7mZw7vsXOYATRhQItMB0PPV3ykbqKQirjsozdW3ZCmeWtXTsardz74UZW7ilj3rGDmHtE\n",
       "693otupC4tJ7Me3Yyfy49P/ITE9FKVuLneHOVucNWmA6Jnok4wNV9U1USGbYsry1R0VtEze9u5ZV\n",
       "e8u4ZdrwQwSmqNDCb654ks/+8y0Amemph9gZzmx13qAFpuOiRcZLHKtI4cry1h5FlfXMX7yGHQeq\n",
       "uX/WaKaPbZ1yx7GKtKegmG5mU7t2Rvo5nNEC07HRIuMFzsvU4cjy1h57Smq4duEaSqobeGLOOKYO\n",
       "bT3qaJ1wailjZ13Zrp2RfA5ntMB0fLRPxgOu4mBCmeWtPTYXVPLn99djihOePXs8Q3u03rhZWVF+\n",
       "aMKpIKwUhXKZWwtM50CPZNwQLYF2P+8u5aZ31pKaFM9z50w4RGAA0jMyOeXUWS0C42mJ2psl7FAu\n",
       "c2uB6TzokUw7RIvA/GdzEY9/9isDupp5fM44slNbJyMsKrRQU13FoCHDuPnO+1raPRVU86bgWqiK\n",
       "smmB6VxokXFBtAjM0tV5vPDldsb2y+Sh08eQltT6v8vhg1FK8dl3PxMff/C4pyVqb5awQ7HMrQWm\n",
       "86FFpg3RIDBKKf7x3z3884c9TB3albtPHUVifOuZbduqAs4CAweXqB2jEHC9hN3ecW/P8QUtMJ0T\n",
       "7ZNxIhoExmpTLPjPNv75wx5mjOnFfTNHexQYV+kaPC1RhytXjAMtMJ0XLTJ2okFgGpttPPjJJj5a\n",
       "W8C5RxzGTdOGY4o7NCXD04/c77Fsiaclam+WsIO1zK0FpnOjp0v4LjChSEJV29jM3f/ayOq95Vx5\n",
       "/GDmjjCRtPMzl33d8/CTnH/JPMbmHFq4rZWdNYUkWVZhqinAmtqb5tRePguEN8v1XiWcCrC0jCZ2\n",
       "6fQjGX8ExtWybqJltd/LvWW1jdz4zlrW7ivn9umHM3eE6ZC+qla+y+1XXUhNdTWpaWkeBSbRspqs\n",
       "NS8hTVVY0/oiTVVkrXmJRMtqt8/h6/K0u35aCcyWZdBcC2k9jK9blhntmg5PpxYZf6ZIwS5xYqmo\n",
       "Z/6iNewpqeWh08cwbVTPQ+5hqWxm9i0v8Mknn7Bj+1av7EzdsYzm5CxUcjbEmVDJ2TQnZ5G6Y5nb\n",
       "5/B1F3Z7/WSVbzg4RQqgtIwm9um0IuOvDyaYJU52Hqjm2kWrKa9t4skzxzFlcNdD7lFYXMacq+4h\n",
       "/0AZCx+9mnHjXScxb4uppgCVmNnansRMTDUFbp/D15IsrvpJTs0k01ZxsMHP0jKajkGnFJlAnLzB\n",
       "KnGyIa+C6xcbo4YFZ+cwpu9BQXDcwyEwBUWlvP3kjRxx5BSv7bSm9kYaK1q1SWMF1tTebp/D1+Xp\n",
       "tv2kJMaTaWpoXTbGj9Iymo5DpxOZQFeRglHi5IedJdzy3jqyzAk8P3cCg7unubxHTXkxyqZ4+8kb\n",
       "mHp4H5+WjmuGzCC+vhypLwWbFakvJb6+nJohM9w+h6/L0879pCTEkRlXd2jZGB9Ly2g6Fp2qWkGw\n",
       "lqkDWV1avqmQJz77laE90nj0jLF0MSce0n9lRTlZUkPygXVG8qm0nn5tTEy0rCZ1x7KW1aWaITNo\n",
       "7HXQYRyszY+mqnyyyjcYU6T2Vo706lLMokuieCky0RAH8+4v+/m/r3cwsX8WD5w2GnPioREEjkC7\n",
       "aTNmcstd90fASt/RcTAdG10SxQsiLTBKKV75fhcLf9rHccO7ccf0kYdE8ULrSN4TfjMt4PuGuuga\n",
       "aIHReKbD+2QiLTBWm+Kp5VtZ+NM+Zub0drkPCVoLzGuLljB5ytSA7huMOBhPfWiB0XhDhx7JRFpg\n",
       "GpqsPPTJZlbsKOGPRw3gwqMGuKzc2NzczEV/OD1oAgPBSdPgrg9T9wFaYDRe0WFFJtICU93QzN0f\n",
       "bGDd/gquPWkosye07+SMj4/n+tvupEt2dlAEBoKTpqG9PlKbykjXAqPxkg4pMpEWmNKaRm5bso49\n",
       "JbXcMWMkJ4/s4fK8okIL69es4uRTDEdvMAlGmgZXfZhpID27V1Bt1XRsOpxPJtICk1dex7ULV5NX\n",
       "XsfDs8e4FZjzZs/g5msup7KiPOh2BCMOpm0fZlVHhtTq+BaNT3QokYm0wGwvqua6haupaWjm6bNy\n",
       "mDww2+V5zk7ev7+5mIzMrKDbEow0Dc59pDaVkZGeASNm6PgWjU9EbLokIsnAc8AJQBKwQCn1rIjM\n",
       "B24C6oDrlVKfetNfpAVm7f5y7lq6AXNiPM/8YSwDuqa6PM+bhFPBIhhVFazpfTB1H6B9MBq/iaRP\n",
       "JhX4N3A50BXYKCKrgKuB0cBhwBciMkAp1eSuo0gLzIrtxTzw8SZ6Z6bwxJyx9MhIbvfcj95/NywC\n",
       "Eyz0MrUmUKIm4ldEVgL/ApKUUnfZ2/4L3KiU+qG96yZOmqTe++ybMFl5KJ+uL+Dpz7cyolc6j8we\n",
       "S2ZKgsvzlFKICEop9u/dw2EDBobXUD/QAqOBwCN+o8InIyJjgGSgG7DH6dB+oLeL8+eJyEoRWVlY\n",
       "FJkC8UopFv60lyeXb2XSgC48dWZOuwJTVGjh3NOns/XXzYiIFhhNpyLiIiMi3YA3gYuBRMDmdNgG\n",
       "WNteo5R6WSmVq5TKze4a/nQBNqV48Zud/P27XZx0eA8eOn0MKYkml+c6fDAb1q6hsrwszJb6hxYY\n",
       "TTCJaJyMiHQBPgbuUEr9LCLTAeeli37APn/6dt5zc1BLbQGXWm222nhq+VaWbypk9oS+XH3iEOJc\n",
       "RPGCs5M3j7efuZ2j0nZg21ER1FKvwUYLjJfoXeVeE7GRjIhkAB8BDzmtIH0CzBURs4iMArKBNb72\n",
       "7bznBjGRZPmJlIKfQEwBlVqtb7Jyz4cbWb6pkIunDuQaNwJTXFTUIjCLH57HlNH9g17qNdhogfES\n",
       "nbPYJyI5XboOmAAsEJHtIrIdKAPeAjYCS4DLlB+eaec9NwmVe4z8tildjO/9zGVbVd/ELe+t48ed\n",
       "pdzwm2FcMMX1PiQHqWlpDB46nLefuZ3JueMDzqUbarTA+IDOWewTEZsuKaUeAh5ycegR+8tvnPfc\n",
       "xDVWYkvMAhTSYKSj9HUPT3F1A7ctWc/+slrumTmK44d3b/fcA4WFJKckk56RyUv/XETahjexucql\n",
       "G0Cp12CjBcZHaouNEYwziWlQXRQZe6KciDt+Q4Fz3llbYgZirQdrPSopA/BtD8++0lquXbgaS0U9\n",
       "j54x1q3AFBVaOHf2dK6+5AIcA7Bg5dINFVpg/EDnLPaJDikyzntumjIGGPlt68qM7xuriK/cT1xd\n",
       "KWkb3sS849N2/SNbC6uYv2gNDU02nj07h4n9u7R7z6JCC+edNg1L3l5umzOB1J2fYarKD2qp12Cj\n",
       "BcZPdM5in+iQIuO85wZlpaHXEdT1PgKUFWmqRxSohGS3jthVe8u4YfFakhNMPHfOeIb3TG/nbk4C\n",
       "k5/HwqduYvKRR7X0CwSl1Guw0QITAJl9jT1c8WZjihRv1nu63NAhUz1A+/t2zDs+pSkh2W0yp2+2\n",
       "HuCRZZvp18XM43PG0i3N/Yfxlmsux1KQz8Knb+aI3EmH9jtkesB7iIKJFpggkNlXi4qXdFiRaQ9P\n",
       "yZw+XJvPX77Yxug+GTw8ewzpya6jeJ154Ilnqfnxn+ROal06NtocvKAFRhN+OuR0yR3tFmdL7sab\n",
       "/9vDgi+2ceTgbJ44c5xbgSkqtPDCM09gs9kYMGgwuZOPjGoHL2iB0USGTjeSaeiRQ+qu5VgxRhrS\n",
       "VIPUV/FEwRCWbtzNtFE9uXnacOJNhv66ytZfUBvH+WecSkFeHqeeNptBQ4a57NfUUEVNn6Mi+rwO\n",
       "QiowOvpV44ZON5Jpm8ypMc7M7bvGsnRjBWdN6setvxvRSmDaZuuvWvku559+CgV5eby+6H0GDRnm\n",
       "st9ocfBCGARGR79q3NDpRjJw0Clc12jl3g83snJPGZcdO4i5kw9rFcXbNlu/pbKZs279KwVFpby+\n",
       "+MND8sEEI0lUsAn5FMk5+hUOfs1bpUczGqCTigxARW0Tf166nq2FVdwybTjTxx6SUeIQJ/GWnXsp\n",
       "Lq9m0WNXM1onnDLQ0a8aD3RKkSmsrOe2JeuxVNZz/6zRTB3q2jnrcBI3SDKJCQkcd0QOP7/zBKkZ\n",
       "XakNs81tiZrKjo7oV8cIBnT0q6YVnc4ns6ekhusWrqGkuoHH54xtV2DAcBIfyN/PtAtuYsmn3yCN\n",
       "VWSamiMerRtVlR119KvGA51KZDYXVDJ/0RqsSrHg7PHk9Mtye35BbRyn3/Ea+yzF9O8SHzXO3Fa+\n",
       "ojY7u8O+TK2jXzUe6HDTpfamET/vLuXef20kOy2RJ+aMo09Witt+igotxjJ1QSGvL/6Q0VOO9nuK\n",
       "5E/he3fXRF1lRx39qnFDhxrJtDeN+Gr1Fu5YuoF+Xcw8N3eCR4Gprq5qiYMJtKqAP4XvPV3jKqBQ\n",
       "V3bURCsdSmRcTSMW5XfnoS8LGNMng2fOziE7NdFjP6mpaZx25tyglC1xN7Xx9xpd2VETS3So6ZJj\n",
       "GhFXV0p8+S5e3N2DlwuGckK3Cm6fcxyJ8e41tajQQsW+zeR0qee23/bCllJBQ1V+QD6YuLpiEBOJ\n",
       "pVuRhkpUUoaRcqKp/cmXp/1VjsC/pKK1xhQpuxf0PUFPWTRRSYcSGVtKN0yV+4kv3cZDeTksKerL\n",
       "7K77uKvfOqrrct2KhSNdQ3NtBd+//QQJ5u5IUw2pu5YH6OyNIyX/R5pTuqCSMsFaT0r+j0bqCTfP\n",
       "0bbQfdt9ULqyoyZW6FDTpYYeOVCyjVt2TWRJUV8u6bOHe/uvx9Z1uNvpSUtVgYJ8nr/7ChJSuwQ1\n",
       "H69NQBCMfwVb+6mBW57DU6IrvdlREyt0qJFMVVIPbt59LD+Xp3Nzv82c17+MxswJ2JKzWqVccF65\n",
       "Kagxcd78x7BYilj02NVM9iJdg2+rRTYaeh9JQuUe4hrLsSVm0Nj7SFCHlJNqwXk6FFd7AFtKN2r6\n",
       "HNVyDy0wmliiw4hMWW0jf35/PTsq0rh3fBXTBw/GUR1bGqtaphqOlRtrUjo2c3cWPP9/WPLz+Mc/\n",
       "Xmdy/wSP05S213uaUtlSuiHNtTT0mnSwz8YqI2ufG9rbB6UFRhNrdIjpkqWinvmL1rCnpJaHT+nL\n",
       "zO7F7U41korWomzNJJZuJXnvNzxybi4fPXsdx/RP8Gqa4utqUTBz/GqB0cQiMS8yDc1Wrl24mvLa\n",
       "Jp48cxxHjB7mNuVCQvkOynas5rKn3qesKZFkk5XcLjUklO/wKl1DXF0xylWJk7pil/YFKwWEFhhN\n",
       "rBLz06V9pXWMEvjL3PEM6mZ8+N2lXCjKz+O0Bz8kv7SGK04rJ3dgBnHV+0mq2oc5awgNPXKoHTK9\n",
       "3ft5s/LTlkBTQGiB0cQyMS8ypjjhrzP7MLDiW+Is7h2xRYUWLrh3EQUl1bx7z5nkDkgnseRXFGBN\n",
       "7d0SWetupBGuDHgO53Jqc7k9DkZnm9PEJjE/XeqfmcDQ4q88hu07lqnzS6pY+OiVTBkzmISKXdgS\n",
       "zDRnDsSa3turJetwZMBzOJfN0kh6tz4625wmpon5kUxSQwkJRWsxpfagKXMQtpTsQ0qcmKryMW37\n",
       "giRbDYseu5ajh2bRmNEPqa+A+CSkuZ6mzEGAdxUGQp0BL6loLYlpXcjIyrY36Gxzmtgl5kUGWzM2\n",
       "cw+wNpBcuJr6nq3jYqr2baJ3yQ/0757JF289i8lah1TsN4q8ATYUjT0nYEsxPtDRUGEgtbncGME4\n",
       "o7PNaWKUmJ8uEReP2Boh3ow1IYWEil0tQlFUaGHO7Nn8+cUPUYnpxJniUYnpNGX2w5aSTXnudVgz\n",
       "B6NMCVFTQjY9OcHwwehay5oOQsyLjDIlIU21SHMdxCURV1OEqaGKffTmvNkzKCgqYda041tfY19y\n",
       "jrYKAy2rSDrbnKYDEfPTJRUXT0PPCSRU7GoJwd+VOp65F1yCJT+ftxfcyZTR/VFO1zhPiaKlwkCr\n",
       "ZWpHtrm8VcYUydwNRhyj/TGamCTmRQZlxZacRaNpOKbU3tR2G8slZ12AZX8Bby+4k0lHn4CpaG1Q\n",
       "l5z9yXTnDpdxMDrbnKaDEPsiI3EtI5j6zMGYi9Zy95VnkmTOYMro/piK1lLfI4f4GovLzYa+4uve\n",
       "JU/oQDtNRyfmRcaWlEn1mAsoKrSw7oO/ctoJ4zluqjFKUYAViK+xuI3i9YW2Bd9UYvohS+beogVG\n",
       "0xmIeZGBg4F2Rfn7ODr3BbplHzzmTdyLL3jKWuctWmA0nYWoW10SkT+IyC4R2S4il3g6v7mpyUg4\n",
       "lZ/Pm0//me5prXUz2HEvrpJ4+3oPLTCazkRUjWREJB14GpiCMdNZIyIfKaXaHSbs3LGNeFM8ry1a\n",
       "woTRgzCFeF9RoHuXtMBoOhvRNpI5BfhGKZWnlLIAXwInu7uguamJ1xYtYfKUqWGJewnkHlpgNJ2R\n",
       "qBrJAIcBe5ze7wd6tz1JROYB8+xvG+bO+t2GMNgWDLoBrhPPRCexZG8s2QqxZe+IQC6ONpFJBGxO\n",
       "720Y06ZWKKVeBl4GEJGVSqnc8JgXGLFkK8SWvbFkK8SWvSKyMpDro226VAA4R6D1A/ZFyBaNRhME\n",
       "ok1klgOniEgPEekFHG1v02g0MUpUTZeUUhYRuRP4n73pJqVUjbtrsE+bYoRYshViy95YshViy96A\n",
       "bBWllOezNBqNxk+ibbqk0Wg6GFpkNBoNACKSIiLDg91vzIqMr9sPwo2IJIvIyyKyVUT2iMgN9vb5\n",
       "IrJXRLaISHB2bQYJEUkUkU0i8or9fTTbmikii0QkT0R22G2PSntF5EYR2Wb/fb3a3hY1topIhoh8\n",
       "ABQCtzq1u7RRRB4Tkf0isl5EJrnosjVKqZh7AekYS9t9gV6ABegeabva2NgVmAMIRuBVIXA8sNVu\n",
       "/yggH0iItK1ONt8HLANeAYZEua3/BO6y/3yTo9VeYCCwG0i1/05UAKOjyVYgDSOy/lLgFXuby58n\n",
       "cBLwPcai0W+BNZ76j9WRjM/bD8KNUqpEKbVEGRRjiOJxwDtKqSql1CaMXz7PfwnCgIiMBCYD79ib\n",
       "ZhO9tjrCGx6x/3zriV57m+xfbRgfzCpgBlFkq1KqWin1H6DZqbm9n+cZwBtKqWal1OdAd/v/R7vE\n",
       "qsh4tf0gWhCRMRh/bbsRhXaLiADPAfOdmqP5Zzwa2AUssQ/lnyJK7VVK5WGMEH8AvgDOxQgyjTpb\n",
       "29Dez7Ntex4ebI9VkfFq+0E0ICLdgDeBi4leu68AvlZKbXdqi1ZbAXpgDOGvBSYCU4FZRKG9IpKB\n",
       "ISzzgWeAm4nun62D9mz02faoCsbzgQLgBKf3/YAfI2NK+4hIF+Bj4A6l1M9251k0bpu4AEgXkbOA\n",
       "bAz/wXNEp60ARcAvSqn9ACLyOcYvejTaez6wTin1NfC1iMzG8CFGo63OtLfFp217H4xRTrvE6kgm\n",
       "6rcf2P+CfQQ8pJT61N78CTBXRMwiMgrjA70mQia2oJQ6Wik1Vik1HrgHWIohjlFnq50fgFEi0kdE\n",
       "koDfANVEp731wHgRSbDnSxqOMW2KRludae939RPgQhExichvga1KqVJ3HcXkSEb5t/0g3FwHTAAW\n",
       "iMgCe9s04C1gI8Yv36XK7sqPNpRSv4hIVNqqlKoRkWuBz4EkDEfk03bBiTZ738JYkdkJ1AH/UEqt\n",
       "iKafrV38VmOsJCWLyAnAZbj4XRWRpRirpDuBEoypoPv+o+P/QaPRdFRidbqk0WhiBC0yGo0mpGiR\n",
       "0Wg0IUWLjEajCSlaZDQaTUjRIqPRaEKKFhlNwIjIbhHpF2k7XCEiFzlSV2gigxaZToiIKHsenv0i\n",
       "8j8ROTXSNrVFRN4QEYuI7BSRDSJybKRt0vhHTEb8agLGqpQaCmAPGX9TRNKUUosjbFdbblZKvSUi\n",
       "JwF/Bw6PtEEa39EjmU6OPVfIucDj0JKC8UV7JrdtInK5vf0EEfnCcZ19pHG+U1fn2LPq7RCRE+3n\n",
       "nGTPnrZbRBaLSJy9vVlEbrWfu1JEenow81uMDXqISKqIfGq/doOIjHWy5ykR+dE+AjqrbSci8pKe\n",
       "OoUfLTIalFJbgBQR6QHcjjHCHQ5MAW4SkXFedNNVKTUK+BPwqr2tFCMNw2CMDHHH2dtNwH6l1BDg\n",
       "V/s17rgIY1MhGJnw7rRf+yJwk9N5o+z3Ox942LkDEfkTMAy40otn0QQRPV3SOIjHyOI2A/iTfcNe\n",
       "iYgswUirsc7D9a8CKKW+tu847grsxdholwP052CKAAW8a//+G6C9cq1PiMhzwFrgNHv/1SIyQIy8\n",
       "zpOBSqfzlyilmkXkG2CAU3sOcBRwrFKqCU1Y0SMZDSIyEShUSpVhiI2tzSlWjNSMJqe2hDbnOKdu\n",
       "TMbYcbzMfu3dwNcYoxAAm9OHvalNv87cCozESDNwhN3WK4DLMXw0Dzv1CdAAYO/buc9qjBw5btNE\n",
       "akKDFplOjojkAG9wMEv958C1YpANnI4xVdkDHC4iSSKSjDEycOYse39zgB1KqVpgDLAI40M+1R/7\n",
       "lFKFGNOpv4lIir3Pr5RSazFyPXvDDuAq4F/2TIWaMKKnS50Tk4hsxxhx7AJuVEo5fB4PAH/D+GDW\n",
       "AQ/afTaIyJvAfzFyjGxt02dXEdkE1AIX2tseB1YBmzGmPH6hlFopIv8G7gdeB94RkT8C//ahj2Ui\n",
       "Mh74QEROVko1+GuPxjd0PhmNRhNS9HRJo9GEFC0yGo0mpGiR0Wg0IUWLjEajCSlaZDQaTUjRIqPR\n",
       "aEKKFhmNRhNStMhoNJqQokVGo9GElP8PrusuDHiEXTAAAAAASUVORK5CYII=\n",
       "\"/>"
      ]
     },
     "metadata": {},
     "output_type": "display_data"
    }
   ],
   "source": [
    "categories = ['剧情','喜剧',  '动作', '爱情','犯罪', '动画', '科幻', '冒险','悬疑']\n",
    "slopes = []\n",
    "mean_deviations = []\n",
    "for category in categories:\n",
    "    movie_number, slope, mean_rank_diff = category_overview2(dfFilter, 'genre_douban',category)\n",
    "    slopes.append(slope)\n",
    "    mean_deviations.append(mean_rank_diff)\n",
    "    plt_configure(title=category + ' (N: '+str(movie_number) +')')\n",
    "    plt.gcf().set_size_inches(8,4)\n",
    "align_figures()"
   ]
  }
 ],
 "metadata": {
  "celltoolbar": "幻灯片",
  "hide_input": false,
  "kernelspec": {
   "display_name": "Python 3",
   "language": "python",
   "name": "python3"
  },
  "language_info": {
   "codemirror_mode": {
    "name": "ipython",
    "version": 3
   },
   "file_extension": ".py",
   "mimetype": "text/x-python",
   "name": "python",
   "nbconvert_exporter": "python",
   "pygments_lexer": "ipython3",
   "version": "3.6.8"
  },
  "latex_envs": {
   "LaTeX_envs_menu_present": true,
   "autoclose": true,
   "autocomplete": true,
   "bibliofile": "biblio.bib",
   "cite_by": "apalike",
   "current_citInitial": 1,
   "eqLabelWithNumbers": true,
   "eqNumInitial": 1,
   "hotkeys": {
    "equation": "Ctrl-E",
    "itemize": "Ctrl-I"
   },
   "labels_anchors": false,
   "latex_user_defs": false,
   "report_style_numbering": false,
   "user_envs_cfg": false
  },
  "toc": {
   "base_numbering": 1,
   "nav_menu": {},
   "number_sections": true,
   "sideBar": true,
   "skip_h1_title": true,
   "title_cell": "Table of Contents",
   "title_sidebar": "Contents",
   "toc_cell": false,
   "toc_position": {
    "height": "calc(100% - 180px)",
    "left": "10px",
    "top": "150px",
    "width": "249.141px"
   },
   "toc_section_display": true,
   "toc_window_display": false
  },
  "varInspector": {
   "cols": {
    "lenName": 16,
    "lenType": 16,
    "lenVar": 40
   },
   "kernels_config": {
    "python": {
     "delete_cmd_postfix": "",
     "delete_cmd_prefix": "del ",
     "library": "var_list.py",
     "varRefreshCmd": "print(var_dic_list())"
    },
    "r": {
     "delete_cmd_postfix": ") ",
     "delete_cmd_prefix": "rm(",
     "library": "var_list.r",
     "varRefreshCmd": "cat(var_dic_list()) "
    }
   },
   "types_to_exclude": [
    "module",
    "function",
    "builtin_function_or_method",
    "instance",
    "_Feature"
   ],
   "window_display": false
  }
 },
 "nbformat": 4,
 "nbformat_minor": 2
}
