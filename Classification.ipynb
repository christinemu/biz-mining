{
 "cells": [
  {
   "cell_type": "code",
   "execution_count": 135,
   "metadata": {
    "init_cell": true,
    "slideshow": {
     "slide_type": "notes"
    }
   },
   "outputs": [],
   "source": [
    "import pandas as pd\n",
    "import numpy as np\n",
    "import matplotlib.pyplot as plt\n",
    "import graphviz\n",
    "from sklearn import metrics,ensemble\n",
    "from IPython.core.interactiveshell import InteractiveShell\n",
    "InteractiveShell.ast_node_interactivity = \"all\""
   ]
  },
  {
   "cell_type": "markdown",
   "metadata": {
    "slideshow": {
     "slide_type": "slide"
    }
   },
   "source": [
    "<div class=\"jumbotron\">\n",
    "    <h1 class=\"display-1\">分类技术</h1>\n",
    "    <hr class=\"my-4\">\n",
    "    <p>主讲：李岩</p>\n",
    "    <p>管理学院</p>\n",
    "    <p>liyan@cumtb.edu.cn</p>\n",
    "</div>"
   ]
  },
  {
   "cell_type": "markdown",
   "metadata": {
    "slideshow": {
     "slide_type": "slide"
    }
   },
   "source": [
    "> 如何判断贷款者是否会拖欠贷款？"
   ]
  },
  {
   "cell_type": "code",
   "execution_count": 2,
   "metadata": {
    "slideshow": {
     "slide_type": "notes"
    }
   },
   "outputs": [],
   "source": [
    "debtDict = {'Tid': range(10), \n",
    "            '有房者': ['是', '否', '否', '是', '否', '否', '是','否', '否', '否'], \n",
    "            '婚姻状况': ['单身', '已婚', '单身', '已婚', '离异', '已婚', '离异', '单身', '已婚', '单身'], \n",
    "            '年收入': ['125K', '100K', '70K', '120K', '95K', '60K', '220K', '85K', '75K', '90K'], \n",
    "            '拖欠贷款者': ['否', '否', '否', '否', '是', '否', '否', '是', '否', '是']}"
   ]
  },
  {
   "cell_type": "code",
   "execution_count": 3,
   "metadata": {
    "hide_input": false,
    "slideshow": {
     "slide_type": "fragment"
    }
   },
   "outputs": [
    {
     "data": {
      "text/html": [
       "<div>\n",
       "<style scoped>\n",
       "    .dataframe tbody tr th:only-of-type {\n",
       "        vertical-align: middle;\n",
       "    }\n",
       "\n",
       "    .dataframe tbody tr th {\n",
       "        vertical-align: top;\n",
       "    }\n",
       "\n",
       "    .dataframe thead th {\n",
       "        text-align: right;\n",
       "    }\n",
       "</style>\n",
       "<table border=\"1\" class=\"dataframe\">\n",
       "  <thead>\n",
       "    <tr style=\"text-align: right;\">\n",
       "      <th></th>\n",
       "      <th>Tid</th>\n",
       "      <th>有房者</th>\n",
       "      <th>婚姻状况</th>\n",
       "      <th>年收入</th>\n",
       "      <th>拖欠贷款者</th>\n",
       "    </tr>\n",
       "  </thead>\n",
       "  <tbody>\n",
       "    <tr>\n",
       "      <th>0</th>\n",
       "      <td>0</td>\n",
       "      <td>是</td>\n",
       "      <td>单身</td>\n",
       "      <td>125K</td>\n",
       "      <td>否</td>\n",
       "    </tr>\n",
       "    <tr>\n",
       "      <th>1</th>\n",
       "      <td>1</td>\n",
       "      <td>否</td>\n",
       "      <td>已婚</td>\n",
       "      <td>100K</td>\n",
       "      <td>否</td>\n",
       "    </tr>\n",
       "    <tr>\n",
       "      <th>2</th>\n",
       "      <td>2</td>\n",
       "      <td>否</td>\n",
       "      <td>单身</td>\n",
       "      <td>70K</td>\n",
       "      <td>否</td>\n",
       "    </tr>\n",
       "    <tr>\n",
       "      <th>3</th>\n",
       "      <td>3</td>\n",
       "      <td>是</td>\n",
       "      <td>已婚</td>\n",
       "      <td>120K</td>\n",
       "      <td>否</td>\n",
       "    </tr>\n",
       "    <tr>\n",
       "      <th>4</th>\n",
       "      <td>4</td>\n",
       "      <td>否</td>\n",
       "      <td>离异</td>\n",
       "      <td>95K</td>\n",
       "      <td>是</td>\n",
       "    </tr>\n",
       "    <tr>\n",
       "      <th>5</th>\n",
       "      <td>5</td>\n",
       "      <td>否</td>\n",
       "      <td>已婚</td>\n",
       "      <td>60K</td>\n",
       "      <td>否</td>\n",
       "    </tr>\n",
       "    <tr>\n",
       "      <th>6</th>\n",
       "      <td>6</td>\n",
       "      <td>是</td>\n",
       "      <td>离异</td>\n",
       "      <td>220K</td>\n",
       "      <td>否</td>\n",
       "    </tr>\n",
       "    <tr>\n",
       "      <th>7</th>\n",
       "      <td>7</td>\n",
       "      <td>否</td>\n",
       "      <td>单身</td>\n",
       "      <td>85K</td>\n",
       "      <td>是</td>\n",
       "    </tr>\n",
       "    <tr>\n",
       "      <th>8</th>\n",
       "      <td>8</td>\n",
       "      <td>否</td>\n",
       "      <td>已婚</td>\n",
       "      <td>75K</td>\n",
       "      <td>否</td>\n",
       "    </tr>\n",
       "    <tr>\n",
       "      <th>9</th>\n",
       "      <td>9</td>\n",
       "      <td>否</td>\n",
       "      <td>单身</td>\n",
       "      <td>90K</td>\n",
       "      <td>是</td>\n",
       "    </tr>\n",
       "  </tbody>\n",
       "</table>\n",
       "</div>"
      ],
      "text/plain": [
       "   Tid 有房者 婚姻状况   年收入 拖欠贷款者\n",
       "0    0   是   单身  125K     否\n",
       "1    1   否   已婚  100K     否\n",
       "2    2   否   单身   70K     否\n",
       "3    3   是   已婚  120K     否\n",
       "4    4   否   离异   95K     是\n",
       "5    5   否   已婚   60K     否\n",
       "6    6   是   离异  220K     否\n",
       "7    7   否   单身   85K     是\n",
       "8    8   否   已婚   75K     否\n",
       "9    9   否   单身   90K     是"
      ]
     },
     "execution_count": 3,
     "metadata": {},
     "output_type": "execute_result"
    }
   ],
   "source": [
    "pd.DataFrame(debtDict)"
   ]
  },
  {
   "cell_type": "markdown",
   "metadata": {
    "slideshow": {
     "slide_type": "slide"
    }
   },
   "source": [
    "## 基本概念"
   ]
  },
  {
   "cell_type": "markdown",
   "metadata": {
    "slideshow": {
     "slide_type": "fragment"
    }
   },
   "source": [
    "### 分类（classification） "
   ]
  },
  {
   "cell_type": "markdown",
   "metadata": {
    "slideshow": {
     "slide_type": "fragment"
    }
   },
   "source": [
    "- 给定一条记录$(\\boldsymbol{x}, y)$，其中，$y$是分类属性或者目标属性，$\\boldsymbol{x}$是该记录预测属性的集合"
   ]
  },
  {
   "cell_type": "markdown",
   "metadata": {
    "slideshow": {
     "slide_type": "fragment"
    }
   },
   "source": [
    "- 通过学习得到一个**目标函数**（target function）$f$，把每个属性集$\\boldsymbol{x}$映射到一个预先定义的**类标签**$y$"
   ]
  },
  {
   "cell_type": "markdown",
   "metadata": {
    "slideshow": {
     "slide_type": "fragment"
    }
   },
   "source": [
    "$$\n",
    "y = f(\\boldsymbol{x})\n",
    "$$"
   ]
  },
  {
   "cell_type": "markdown",
   "metadata": {
    "slideshow": {
     "slide_type": "fragment"
    }
   },
   "source": [
    "- 目标函数也被称作**分类模型**（classification model）"
   ]
  },
  {
   "cell_type": "markdown",
   "metadata": {
    "slideshow": {
     "slide_type": "subslide"
    }
   },
   "source": [
    "#### 分类模型的功能"
   ]
  },
  {
   "cell_type": "markdown",
   "metadata": {
    "slideshow": {
     "slide_type": "fragment"
    }
   },
   "source": [
    "1. 描述性建模：识别哪些属性决定一个数据记录属于哪个类别"
   ]
  },
  {
   "cell_type": "markdown",
   "metadata": {
    "slideshow": {
     "slide_type": "fragment"
    }
   },
   "source": [
    "2. 预测性建模：根据已知的数据记录的属性，自动识别该数据记录属于的类别"
   ]
  },
  {
   "cell_type": "markdown",
   "metadata": {
    "slideshow": {
     "slide_type": "subslide"
    }
   },
   "source": [
    "#### 分类模型的适用领域"
   ]
  },
  {
   "cell_type": "markdown",
   "metadata": {
    "slideshow": {
     "slide_type": "fragment"
    }
   },
   "source": [
    "- 非常适合分类属性是**二元**或者**标称**类型的数据集"
   ]
  },
  {
   "cell_type": "markdown",
   "metadata": {
    "slideshow": {
     "slide_type": "fragment"
    }
   },
   "source": [
    "- 不适用于分类属性是**序数**或**连续**类型的数据集\n",
    "    + 因为没有考虑标签之间的顺序大小关系"
   ]
  },
  {
   "cell_type": "markdown",
   "metadata": {
    "slideshow": {
     "slide_type": "fragment"
    }
   },
   "source": [
    "任务|属性集$\\boldsymbol{x}$|分类属性$y$\n",
    "---|---|---\n",
    "分类e-mail|从e-mail的header和内容中提取的特征|垃圾邮件`or`非垃圾邮件\n",
    "识别癌变细胞|通过磁共振扫描提取的特征|恶性的`or`良性的\n",
    "分类星系|从天文望远镜获取的图像中提取特征|椭圆的、螺旋的、`or`不规则星系"
   ]
  },
  {
   "cell_type": "markdown",
   "metadata": {
    "slideshow": {
     "slide_type": "slide"
    }
   },
   "source": [
    "### 建立分类模型的一般方法"
   ]
  },
  {
   "cell_type": "markdown",
   "metadata": {
    "slideshow": {
     "slide_type": "fragment"
    }
   },
   "source": [
    "<center><img src=\"./img/classification/classificationProcess.png\" width=80%></center>"
   ]
  },
  {
   "cell_type": "markdown",
   "metadata": {
    "slideshow": {
     "slide_type": "slide"
    }
   },
   "source": [
    "#### 训练集与检验集"
   ]
  },
  {
   "cell_type": "markdown",
   "metadata": {
    "slideshow": {
     "slide_type": "fragment"
    }
   },
   "source": [
    "- 训练集（training set）：由类标签已知的数据记录组成，用于建立分类模型"
   ]
  },
  {
   "cell_type": "markdown",
   "metadata": {
    "slideshow": {
     "slide_type": "fragment"
    }
   },
   "source": [
    "- 检验集（test set）：用来检验分类规则的数据记录集合"
   ]
  },
  {
   "cell_type": "markdown",
   "metadata": {
    "slideshow": {
     "slide_type": "fragment"
    }
   },
   "source": [
    "#### 分类算法"
   ]
  },
  {
   "cell_type": "markdown",
   "metadata": {
    "slideshow": {
     "slide_type": "fragment"
    }
   },
   "source": [
    "+ k最近邻分类\n",
    "+ **决策树**\n",
    "+ **随机森林**\n",
    "+ 朴素贝叶斯分类\n",
    "+ 逻辑回归\n",
    "+ **神经网络**\n",
    "+ 支持向量机"
   ]
  },
  {
   "cell_type": "markdown",
   "metadata": {
    "slideshow": {
     "slide_type": "subslide"
    }
   },
   "source": [
    "#### 混淆矩阵（confusion matrix）"
   ]
  },
  {
   "cell_type": "markdown",
   "metadata": {
    "slideshow": {
     "slide_type": "fragment"
    }
   },
   "source": [
    "- 由分类模型做出的正确和错误的分类结果构成的矩阵"
   ]
  },
  {
   "cell_type": "markdown",
   "metadata": {
    "slideshow": {
     "slide_type": "fragment"
    }
   },
   "source": [
    "- 二元分类问题的混淆矩阵"
   ]
  },
  {
   "cell_type": "markdown",
   "metadata": {
    "slideshow": {
     "slide_type": "fragment"
    }
   },
   "source": [
    "![](./img/classification/confusionMatrix.gv.svg)"
   ]
  },
  {
   "cell_type": "markdown",
   "metadata": {
    "slideshow": {
     "slide_type": "subslide"
    }
   },
   "source": [
    "#### 性能度量（performance metric）"
   ]
  },
  {
   "cell_type": "markdown",
   "metadata": {
    "slideshow": {
     "slide_type": "fragment"
    }
   },
   "source": [
    "- 汇总混淆矩阵的信息"
   ]
  },
  {
   "cell_type": "markdown",
   "metadata": {
    "slideshow": {
     "slide_type": "fragment"
    }
   },
   "source": [
    "- 准确率（accuracy）"
   ]
  },
  {
   "cell_type": "markdown",
   "metadata": {
    "slideshow": {
     "slide_type": "fragment"
    }
   },
   "source": [
    "$$\n",
    "准确率=\\frac{正确预测数}{预测总数}=\\frac{f_{11}+f_{00}}{f_{11}+f_{10}+f_{01}+f_{00}}\n",
    "$$"
   ]
  },
  {
   "cell_type": "markdown",
   "metadata": {
    "slideshow": {
     "slide_type": "fragment"
    }
   },
   "source": [
    "- 错误率（error rate）"
   ]
  },
  {
   "cell_type": "markdown",
   "metadata": {
    "slideshow": {
     "slide_type": "fragment"
    }
   },
   "source": [
    "$$\n",
    "错误率=\\frac{错误预测数}{预测总数}=\\frac{f_{10}+f_{01}}{f_{11}+f_{10}+f_{01}+f_{00}}\n",
    "$$"
   ]
  },
  {
   "cell_type": "markdown",
   "metadata": {
    "slideshow": {
     "slide_type": "fragment"
    }
   },
   "source": [
    "$$\n",
    "错误率+准确率=1\n",
    "$$"
   ]
  },
  {
   "cell_type": "markdown",
   "metadata": {
    "slideshow": {
     "slide_type": "slide"
    }
   },
   "source": [
    "## 决策树"
   ]
  },
  {
   "cell_type": "markdown",
   "metadata": {
    "cell_style": "split",
    "slideshow": {
     "slide_type": "fragment"
    }
   },
   "source": [
    "<center><img src=\"./img/classification/classificationSample.gv.svg\" with=100%></center>"
   ]
  },
  {
   "cell_type": "markdown",
   "metadata": {
    "cell_style": "split",
    "slideshow": {
     "slide_type": "fragment"
    }
   },
   "source": [
    "<center><img src=\"./img/classification/decisionTree.gv.svg\" with=50%></center>"
   ]
  },
  {
   "cell_type": "markdown",
   "metadata": {
    "slideshow": {
     "slide_type": "fragment"
    }
   },
   "source": [
    "<center><img src=\"./img/classification/decisionTree1.gv.svg\"></center>"
   ]
  },
  {
   "cell_type": "markdown",
   "metadata": {
    "slideshow": {
     "slide_type": "fragment"
    }
   },
   "source": [
    "> 对于同一个问题而言，决策树不是唯一的"
   ]
  },
  {
   "cell_type": "markdown",
   "metadata": {
    "slideshow": {
     "slide_type": "slide"
    }
   },
   "source": [
    "### 基本概念"
   ]
  },
  {
   "cell_type": "markdown",
   "metadata": {
    "cell_style": "split",
    "slideshow": {
     "slide_type": "fragment"
    }
   },
   "source": [
    "<center><img src=\"./img/classification/decisionTreeC.gv.svg\" with=60%></center>"
   ]
  },
  {
   "cell_type": "markdown",
   "metadata": {
    "cell_style": "split",
    "slideshow": {
     "slide_type": "fragment"
    }
   },
   "source": [
    "- **根结点**（root node）\n",
    "    + 没有入边，但有零条或多条出边"
   ]
  },
  {
   "cell_type": "markdown",
   "metadata": {
    "cell_style": "split",
    "slideshow": {
     "slide_type": "fragment"
    }
   },
   "source": [
    "- **内部结点**（internal node）\n",
    "    + 恰有一条入边和两条或多条出边"
   ]
  },
  {
   "cell_type": "markdown",
   "metadata": {
    "cell_style": "split",
    "slideshow": {
     "slide_type": "fragment"
    }
   },
   "source": [
    "- **叶结点**（leaf node）\n",
    "    + 恰有一条入边，但没有出边\n",
    "    + 又被称为终结点（terminal node）"
   ]
  },
  {
   "cell_type": "markdown",
   "metadata": {
    "cell_style": "split",
    "slideshow": {
     "slide_type": "fragment"
    }
   },
   "source": [
    "- 每个叶结点赋予一个类标签"
   ]
  },
  {
   "cell_type": "markdown",
   "metadata": {
    "cell_style": "split",
    "slideshow": {
     "slide_type": "fragment"
    }
   },
   "source": [
    "- 每个**非叶**结点包含属性测试的条件"
   ]
  },
  {
   "cell_type": "markdown",
   "metadata": {
    "slideshow": {
     "slide_type": "slide"
    }
   },
   "source": [
    "### 构造决策树 "
   ]
  },
  {
   "cell_type": "markdown",
   "metadata": {
    "slideshow": {
     "slide_type": "fragment"
    }
   },
   "source": [
    "- **Hunt**算法\n",
    "- CART\n",
    "- ID3, C4.5\n",
    "- SLIQ, SPRINT"
   ]
  },
  {
   "cell_type": "markdown",
   "metadata": {
    "slideshow": {
     "slide_type": "subslide"
    }
   },
   "source": [
    "#### Hunt算法基本思路 "
   ]
  },
  {
   "cell_type": "markdown",
   "metadata": {
    "slideshow": {
     "slide_type": "fragment"
    }
   },
   "source": [
    "假设$D_t$是一个训练集，构成一个结点$t$"
   ]
  },
  {
   "cell_type": "markdown",
   "metadata": {
    "slideshow": {
     "slide_type": "fragment"
    }
   },
   "source": [
    "- 如果$D_t$包含的所有数据对象都属于同一个类别$y_t$，那么结点$t$是一个叶结点，标记为$y_t$"
   ]
  },
  {
   "cell_type": "markdown",
   "metadata": {
    "slideshow": {
     "slide_type": "fragment"
    }
   },
   "source": [
    "- 如果$D_t$包含的数据对象属于多个类别，那么用一个属性尝试将数据对象分成子集。之后，对每个子集再递归应用以上步骤"
   ]
  },
  {
   "cell_type": "markdown",
   "metadata": {
    "cell_style": "split",
    "slideshow": {
     "slide_type": "subslide"
    }
   },
   "source": [
    "<center><img src=\"./img/classification/step0.gv.svg\" with=100%></center>"
   ]
  },
  {
   "cell_type": "markdown",
   "metadata": {
    "cell_style": "split",
    "slideshow": {
     "slide_type": "fragment"
    }
   },
   "source": [
    "<center><img src=\"./img/classification/step1.gv.svg\" width=20%></center>"
   ]
  },
  {
   "cell_type": "markdown",
   "metadata": {
    "cell_style": "split",
    "slideshow": {
     "slide_type": "fragment"
    }
   },
   "source": [
    "<center><img src=\"./img/classification/step2.gv.svg\" width=20%></center>"
   ]
  },
  {
   "cell_type": "markdown",
   "metadata": {
    "cell_style": "split",
    "slideshow": {
     "slide_type": "fragment"
    }
   },
   "source": [
    "<center><img src=\"./img/classification/step3.gv.svg\" width=20%></center>"
   ]
  },
  {
   "cell_type": "markdown",
   "metadata": {
    "slideshow": {
     "slide_type": "subslide"
    }
   },
   "source": [
    "#### 构造决策树需要考虑的问题 "
   ]
  },
  {
   "cell_type": "markdown",
   "metadata": {
    "slideshow": {
     "slide_type": "fragment"
    }
   },
   "source": [
    "- 如何选择测试条件？\n",
    "    + 选择哪个属性作为分裂的条件？\n",
    "    + 针对每个条件应当如何选择划分点？即，如何评估划分的优劣"
   ]
  },
  {
   "cell_type": "markdown",
   "metadata": {
    "slideshow": {
     "slide_type": "fragment"
    }
   },
   "source": [
    "- 如何停止树的增长？\n",
    "    + 直到所有的数据对象都属于**相同**的类别，或都有**相同**的属性值\n",
    "    + 其他方法"
   ]
  },
  {
   "cell_type": "markdown",
   "metadata": {
    "slideshow": {
     "slide_type": "slide"
    }
   },
   "source": [
    "### 选择最佳划分"
   ]
  },
  {
   "cell_type": "code",
   "execution_count": 4,
   "metadata": {
    "slideshow": {
     "slide_type": "notes"
    }
   },
   "outputs": [],
   "source": [
    "carDict = [\n",
    "    range(1,21),\n",
    "    ['男']*6+['女']*4+['男']*4+['女']*6,\n",
    "    ['家用']+['运动']*8+['豪华']\n",
    "    +['家用']*3+['豪华']*7,\n",
    "    ['小']+['中']*2+['大']+['超大']*2+['小']*2+['中']+['大']*2+['超大']+['中']+['超大']+['小']*2\n",
    "    +['中']*3+['大'],\n",
    "    ['C0']*10+['C1']*10\n",
    "]\n",
    "cardf = pd.DataFrame(carDict,index=['ID', '性别','车型', '大小', '列别']).T"
   ]
  },
  {
   "cell_type": "code",
   "execution_count": 5,
   "metadata": {
    "slideshow": {
     "slide_type": "fragment"
    },
    "variables": {
     "cardf": {}
    }
   },
   "outputs": [
    {
     "data": {
      "text/html": [
       "<div>\n",
       "<style scoped>\n",
       "    .dataframe tbody tr th:only-of-type {\n",
       "        vertical-align: middle;\n",
       "    }\n",
       "\n",
       "    .dataframe tbody tr th {\n",
       "        vertical-align: top;\n",
       "    }\n",
       "\n",
       "    .dataframe thead th {\n",
       "        text-align: right;\n",
       "    }\n",
       "</style>\n",
       "<table border=\"1\" class=\"dataframe\">\n",
       "  <thead>\n",
       "    <tr style=\"text-align: right;\">\n",
       "      <th></th>\n",
       "      <th>ID</th>\n",
       "      <th>性别</th>\n",
       "      <th>车型</th>\n",
       "      <th>大小</th>\n",
       "      <th>列别</th>\n",
       "    </tr>\n",
       "  </thead>\n",
       "  <tbody>\n",
       "    <tr>\n",
       "      <th>0</th>\n",
       "      <td>1</td>\n",
       "      <td>男</td>\n",
       "      <td>家用</td>\n",
       "      <td>小</td>\n",
       "      <td>C0</td>\n",
       "    </tr>\n",
       "    <tr>\n",
       "      <th>1</th>\n",
       "      <td>2</td>\n",
       "      <td>男</td>\n",
       "      <td>运动</td>\n",
       "      <td>中</td>\n",
       "      <td>C0</td>\n",
       "    </tr>\n",
       "    <tr>\n",
       "      <th>2</th>\n",
       "      <td>3</td>\n",
       "      <td>男</td>\n",
       "      <td>运动</td>\n",
       "      <td>中</td>\n",
       "      <td>C0</td>\n",
       "    </tr>\n",
       "    <tr>\n",
       "      <th>3</th>\n",
       "      <td>4</td>\n",
       "      <td>男</td>\n",
       "      <td>运动</td>\n",
       "      <td>大</td>\n",
       "      <td>C0</td>\n",
       "    </tr>\n",
       "    <tr>\n",
       "      <th>4</th>\n",
       "      <td>5</td>\n",
       "      <td>男</td>\n",
       "      <td>运动</td>\n",
       "      <td>超大</td>\n",
       "      <td>C0</td>\n",
       "    </tr>\n",
       "    <tr>\n",
       "      <th>5</th>\n",
       "      <td>6</td>\n",
       "      <td>男</td>\n",
       "      <td>运动</td>\n",
       "      <td>超大</td>\n",
       "      <td>C0</td>\n",
       "    </tr>\n",
       "    <tr>\n",
       "      <th>6</th>\n",
       "      <td>7</td>\n",
       "      <td>女</td>\n",
       "      <td>运动</td>\n",
       "      <td>小</td>\n",
       "      <td>C0</td>\n",
       "    </tr>\n",
       "    <tr>\n",
       "      <th>7</th>\n",
       "      <td>8</td>\n",
       "      <td>女</td>\n",
       "      <td>运动</td>\n",
       "      <td>小</td>\n",
       "      <td>C0</td>\n",
       "    </tr>\n",
       "    <tr>\n",
       "      <th>8</th>\n",
       "      <td>9</td>\n",
       "      <td>女</td>\n",
       "      <td>运动</td>\n",
       "      <td>中</td>\n",
       "      <td>C0</td>\n",
       "    </tr>\n",
       "    <tr>\n",
       "      <th>9</th>\n",
       "      <td>10</td>\n",
       "      <td>女</td>\n",
       "      <td>豪华</td>\n",
       "      <td>大</td>\n",
       "      <td>C0</td>\n",
       "    </tr>\n",
       "    <tr>\n",
       "      <th>10</th>\n",
       "      <td>11</td>\n",
       "      <td>男</td>\n",
       "      <td>家用</td>\n",
       "      <td>大</td>\n",
       "      <td>C1</td>\n",
       "    </tr>\n",
       "    <tr>\n",
       "      <th>11</th>\n",
       "      <td>12</td>\n",
       "      <td>男</td>\n",
       "      <td>家用</td>\n",
       "      <td>超大</td>\n",
       "      <td>C1</td>\n",
       "    </tr>\n",
       "    <tr>\n",
       "      <th>12</th>\n",
       "      <td>13</td>\n",
       "      <td>男</td>\n",
       "      <td>家用</td>\n",
       "      <td>中</td>\n",
       "      <td>C1</td>\n",
       "    </tr>\n",
       "    <tr>\n",
       "      <th>13</th>\n",
       "      <td>14</td>\n",
       "      <td>男</td>\n",
       "      <td>豪华</td>\n",
       "      <td>超大</td>\n",
       "      <td>C1</td>\n",
       "    </tr>\n",
       "    <tr>\n",
       "      <th>14</th>\n",
       "      <td>15</td>\n",
       "      <td>女</td>\n",
       "      <td>豪华</td>\n",
       "      <td>小</td>\n",
       "      <td>C1</td>\n",
       "    </tr>\n",
       "    <tr>\n",
       "      <th>15</th>\n",
       "      <td>16</td>\n",
       "      <td>女</td>\n",
       "      <td>豪华</td>\n",
       "      <td>小</td>\n",
       "      <td>C1</td>\n",
       "    </tr>\n",
       "    <tr>\n",
       "      <th>16</th>\n",
       "      <td>17</td>\n",
       "      <td>女</td>\n",
       "      <td>豪华</td>\n",
       "      <td>中</td>\n",
       "      <td>C1</td>\n",
       "    </tr>\n",
       "    <tr>\n",
       "      <th>17</th>\n",
       "      <td>18</td>\n",
       "      <td>女</td>\n",
       "      <td>豪华</td>\n",
       "      <td>中</td>\n",
       "      <td>C1</td>\n",
       "    </tr>\n",
       "    <tr>\n",
       "      <th>18</th>\n",
       "      <td>19</td>\n",
       "      <td>女</td>\n",
       "      <td>豪华</td>\n",
       "      <td>中</td>\n",
       "      <td>C1</td>\n",
       "    </tr>\n",
       "    <tr>\n",
       "      <th>19</th>\n",
       "      <td>20</td>\n",
       "      <td>女</td>\n",
       "      <td>豪华</td>\n",
       "      <td>大</td>\n",
       "      <td>C1</td>\n",
       "    </tr>\n",
       "  </tbody>\n",
       "</table>\n",
       "</div>"
      ],
      "text/plain": [
       "    ID 性别  车型  大小  列别\n",
       "0    1  男  家用   小  C0\n",
       "1    2  男  运动   中  C0\n",
       "2    3  男  运动   中  C0\n",
       "3    4  男  运动   大  C0\n",
       "4    5  男  运动  超大  C0\n",
       "5    6  男  运动  超大  C0\n",
       "6    7  女  运动   小  C0\n",
       "7    8  女  运动   小  C0\n",
       "8    9  女  运动   中  C0\n",
       "9   10  女  豪华   大  C0\n",
       "10  11  男  家用   大  C1\n",
       "11  12  男  家用  超大  C1\n",
       "12  13  男  家用   中  C1\n",
       "13  14  男  豪华  超大  C1\n",
       "14  15  女  豪华   小  C1\n",
       "15  16  女  豪华   小  C1\n",
       "16  17  女  豪华   中  C1\n",
       "17  18  女  豪华   中  C1\n",
       "18  19  女  豪华   中  C1\n",
       "19  20  女  豪华   大  C1"
      ]
     },
     "execution_count": 5,
     "metadata": {},
     "output_type": "execute_result"
    }
   ],
   "source": [
    "cardf"
   ]
  },
  {
   "cell_type": "markdown",
   "metadata": {
    "cell_style": "split",
    "slideshow": {
     "slide_type": "fragment"
    }
   },
   "source": [
    "<center><img src=\"./img/classification/carCustomerID.svg\" width=30%></center>"
   ]
  },
  {
   "cell_type": "markdown",
   "metadata": {
    "cell_style": "split",
    "slideshow": {
     "slide_type": "fragment"
    }
   },
   "source": [
    "<center><img src=\"./img/classification/carGender.svg\" width=15%></center>"
   ]
  },
  {
   "cell_type": "markdown",
   "metadata": {
    "cell_style": "split",
    "slideshow": {
     "slide_type": "fragment"
    }
   },
   "source": [
    "<center><img src=\"./img/classification/carType.svg\" width=20%></center>"
   ]
  },
  {
   "cell_type": "markdown",
   "metadata": {
    "slideshow": {
     "slide_type": "slide"
    }
   },
   "source": [
    "- 最佳选择划分通常根据结点的**不纯性的程度**（degree of impurity）"
   ]
  },
  {
   "cell_type": "markdown",
   "metadata": {
    "slideshow": {
     "slide_type": "fragment"
    }
   },
   "source": [
    "- 不纯的程度越低，类分布就越倾斜"
   ]
  },
  {
   "cell_type": "markdown",
   "metadata": {
    "slideshow": {
     "slide_type": "slide"
    }
   },
   "source": [
    "#### 不纯性度量 "
   ]
  },
  {
   "cell_type": "markdown",
   "metadata": {
    "slideshow": {
     "slide_type": "fragment"
    }
   },
   "source": [
    "令$p(i|t)$表示给定结点$t$中属于类$i$的记录所占的比例，类别个数为$c$"
   ]
  },
  {
   "cell_type": "markdown",
   "metadata": {
    "slideshow": {
     "slide_type": "fragment"
    }
   },
   "source": [
    "- 熵（Entropy）\n",
    "\n",
    "$$ \\text{Entropy}(t)=-\\sum_{i=0}^{c-1}p(i|t)\\log_2p(i|t) $$"
   ]
  },
  {
   "cell_type": "markdown",
   "metadata": {
    "slideshow": {
     "slide_type": "fragment"
    }
   },
   "source": [
    "> ID3、C4.5算法用熵选择最佳划分"
   ]
  },
  {
   "cell_type": "markdown",
   "metadata": {
    "slideshow": {
     "slide_type": "fragment"
    }
   },
   "source": [
    "- Gini系数\n",
    "\n",
    "$$ \\text{Gini}(t)=1-\\sum_{i=1}^{c-1}\\left[p(i|t)\\right]^2 $$"
   ]
  },
  {
   "cell_type": "markdown",
   "metadata": {
    "slideshow": {
     "slide_type": "fragment"
    }
   },
   "source": [
    "> CART算法用Gini系数选择最佳划分\n",
    "- 每个非叶节点只有两个分支，形成二叉树"
   ]
  },
  {
   "cell_type": "markdown",
   "metadata": {
    "slideshow": {
     "slide_type": "subslide"
    }
   },
   "source": [
    "假设一个节点中只包含有两个类别（类别1和类别2），各自所占的比例是$p_1$和$p_2$，且$p_1+p_2=1$"
   ]
  },
  {
   "cell_type": "code",
   "execution_count": 6,
   "metadata": {
    "slideshow": {
     "slide_type": "fragment"
    }
   },
   "outputs": [
    {
     "data": {
      "text/plain": [
       "<matplotlib.axes._subplots.AxesSubplot at 0x7f2b93284710>"
      ]
     },
     "execution_count": 6,
     "metadata": {},
     "output_type": "execute_result"
    },
    {
     "data": {
      "text/plain": [
       "[Text(0.5, 0, '$p_1$')]"
      ]
     },
     "execution_count": 6,
     "metadata": {},
     "output_type": "execute_result"
    },
    {
     "data": {
      "image/png": "[encoded data removed]",
      "text/plain": [
       "<Figure size 864x432 with 1 Axes>"
      ]
     },
     "metadata": {
      "needs_background": "light"
     },
     "output_type": "display_data"
    }
   ],
   "source": [
    "x = np.linspace(0.01,0.99)\n",
    "x1 = np.ones(x.shape) - x\n",
    "xE = -x*np.log2(x)-x1*np.log2(x1)\n",
    "xG = 1-(np.power(x,2)+np.power(x1,2))\n",
    "df = pd.DataFrame({'x':x,'Entropy':xE,'Gini':xG})\n",
    "ax = df.plot(x='x',y='Entropy',kind='line',figsize=(12,6))\n",
    "df.plot(x='x',y='Gini',kind='line',ax=ax)\n",
    "ax.set(xlabel='$p_1$')"
   ]
  },
  {
   "cell_type": "markdown",
   "metadata": {
    "slideshow": {
     "slide_type": "subslide"
    }
   },
   "source": [
    "#### 确定测试条件"
   ]
  },
  {
   "cell_type": "markdown",
   "metadata": {
    "slideshow": {
     "slide_type": "fragment"
    }
   },
   "source": [
    "- 对于选择的一个测试条件，计算父结点（划分前）的不纯度与子结点（划分后）的不纯度的差，差越大，测试条件的效果就越好"
   ]
  },
  {
   "cell_type": "markdown",
   "metadata": {
    "slideshow": {
     "slide_type": "slide"
    }
   },
   "source": [
    "### `sklearn`实现 "
   ]
  },
  {
   "cell_type": "markdown",
   "metadata": {
    "slideshow": {
     "slide_type": "slide"
    }
   },
   "source": [
    "#### 建立模型"
   ]
  },
  {
   "cell_type": "markdown",
   "metadata": {
    "slideshow": {
     "slide_type": "fragment"
    }
   },
   "source": [
    "```python\n",
    "from sklearn import tree\n",
    "tree.DecisionTreeClassifier(criterion='gini'）\n",
    "```\n",
    "- `criterion`：`str`类型，不纯性的度量，可以是`gini`和`entropy`，默认是`gini`"
   ]
  },
  {
   "cell_type": "markdown",
   "metadata": {
    "slideshow": {
     "slide_type": "fragment"
    }
   },
   "source": [
    "- 生成的决策树的属性（Attributes）\n",
    "    + `classes_ `：由类标签构成的数组\n",
    "    + `n_classes_`：`int`，类别的数量\n",
    "    + `tree_`：建立的决策树"
   ]
  },
  {
   "cell_type": "markdown",
   "metadata": {
    "slideshow": {
     "slide_type": "fragment"
    }
   },
   "source": [
    "- `feature_importances_`：每个属性在构造决策树中的重要性，即每个属性导致`Gini`系数的减少量（标准化）"
   ]
  },
  {
   "cell_type": "code",
   "execution_count": 7,
   "metadata": {
    "slideshow": {
     "slide_type": "fragment"
    }
   },
   "outputs": [
    {
     "data": {
      "text/plain": [
       "DecisionTreeClassifier()"
      ]
     },
     "execution_count": 7,
     "metadata": {},
     "output_type": "execute_result"
    }
   ],
   "source": [
    "from sklearn import tree\n",
    "dtDebt = tree.DecisionTreeClassifier()\n",
    "dtDebt"
   ]
  },
  {
   "cell_type": "markdown",
   "metadata": {
    "slideshow": {
     "slide_type": "slide"
    }
   },
   "source": [
    "#### 训练模型"
   ]
  },
  {
   "cell_type": "markdown",
   "metadata": {
    "slideshow": {
     "slide_type": "fragment"
    }
   },
   "source": [
    "```python\n",
    "dt.fit(X, y)\n",
    "```\n",
    "- `X`：输入的属性矩阵，形状为`[n_samples, n_features]`\n",
    "- `y`：类别标签数组，形状为`[n_samples]`"
   ]
  },
  {
   "cell_type": "code",
   "execution_count": 8,
   "metadata": {
    "slideshow": {
     "slide_type": "fragment"
    }
   },
   "outputs": [
    {
     "data": {
      "text/html": [
       "<div>\n",
       "<style scoped>\n",
       "    .dataframe tbody tr th:only-of-type {\n",
       "        vertical-align: middle;\n",
       "    }\n",
       "\n",
       "    .dataframe tbody tr th {\n",
       "        vertical-align: top;\n",
       "    }\n",
       "\n",
       "    .dataframe thead th {\n",
       "        text-align: right;\n",
       "    }\n",
       "</style>\n",
       "<table border=\"1\" class=\"dataframe\">\n",
       "  <thead>\n",
       "    <tr style=\"text-align: right;\">\n",
       "      <th></th>\n",
       "      <th>有房者</th>\n",
       "      <th>婚姻状况</th>\n",
       "      <th>年收入</th>\n",
       "      <th>拖欠贷款</th>\n",
       "    </tr>\n",
       "  </thead>\n",
       "  <tbody>\n",
       "    <tr>\n",
       "      <th>0</th>\n",
       "      <td>是</td>\n",
       "      <td>单身</td>\n",
       "      <td>125</td>\n",
       "      <td>否</td>\n",
       "    </tr>\n",
       "    <tr>\n",
       "      <th>1</th>\n",
       "      <td>否</td>\n",
       "      <td>已婚</td>\n",
       "      <td>100</td>\n",
       "      <td>否</td>\n",
       "    </tr>\n",
       "    <tr>\n",
       "      <th>2</th>\n",
       "      <td>否</td>\n",
       "      <td>单身</td>\n",
       "      <td>70</td>\n",
       "      <td>否</td>\n",
       "    </tr>\n",
       "    <tr>\n",
       "      <th>3</th>\n",
       "      <td>是</td>\n",
       "      <td>已婚</td>\n",
       "      <td>120</td>\n",
       "      <td>否</td>\n",
       "    </tr>\n",
       "    <tr>\n",
       "      <th>4</th>\n",
       "      <td>否</td>\n",
       "      <td>离异</td>\n",
       "      <td>95</td>\n",
       "      <td>是</td>\n",
       "    </tr>\n",
       "    <tr>\n",
       "      <th>5</th>\n",
       "      <td>否</td>\n",
       "      <td>已婚</td>\n",
       "      <td>60</td>\n",
       "      <td>否</td>\n",
       "    </tr>\n",
       "    <tr>\n",
       "      <th>6</th>\n",
       "      <td>是</td>\n",
       "      <td>离异</td>\n",
       "      <td>220</td>\n",
       "      <td>否</td>\n",
       "    </tr>\n",
       "    <tr>\n",
       "      <th>7</th>\n",
       "      <td>否</td>\n",
       "      <td>单身</td>\n",
       "      <td>85</td>\n",
       "      <td>是</td>\n",
       "    </tr>\n",
       "    <tr>\n",
       "      <th>8</th>\n",
       "      <td>否</td>\n",
       "      <td>已婚</td>\n",
       "      <td>75</td>\n",
       "      <td>否</td>\n",
       "    </tr>\n",
       "    <tr>\n",
       "      <th>9</th>\n",
       "      <td>否</td>\n",
       "      <td>单身</td>\n",
       "      <td>90</td>\n",
       "      <td>是</td>\n",
       "    </tr>\n",
       "  </tbody>\n",
       "</table>\n",
       "</div>"
      ],
      "text/plain": [
       "  有房者 婚姻状况  年收入 拖欠贷款\n",
       "0   是   单身  125    否\n",
       "1   否   已婚  100    否\n",
       "2   否   单身   70    否\n",
       "3   是   已婚  120    否\n",
       "4   否   离异   95    是\n",
       "5   否   已婚   60    否\n",
       "6   是   离异  220    否\n",
       "7   否   单身   85    是\n",
       "8   否   已婚   75    否\n",
       "9   否   单身   90    是"
      ]
     },
     "execution_count": 8,
     "metadata": {},
     "output_type": "execute_result"
    }
   ],
   "source": [
    "debt=[['是','否','否','是','否','否','是','否','否','否'],\n",
    "      ['单身','已婚','单身','已婚','离异','已婚','离异','单身','已婚','单身'],\n",
    "      [125,100,70,120,95,60,220,85,75,90],\n",
    "      ['否','否','否','否','是','否','否','是','否','是']]\n",
    "debttrain = pd.DataFrame(debt, index=['有房者','婚姻状况','年收入','拖欠贷款']).T\n",
    "debttrain"
   ]
  },
  {
   "cell_type": "code",
   "execution_count": 9,
   "metadata": {
    "scrolled": true,
    "slideshow": {
     "slide_type": "fragment"
    }
   },
   "outputs": [
    {
     "ename": "ValueError",
     "evalue": "could not convert string to float: '是'",
     "output_type": "error",
     "traceback": [
      "\u001b[0;31m---------------------------------------------------------------------------\u001b[0m",
      "\u001b[0;31mValueError\u001b[0m                                Traceback (most recent call last)",
      "\u001b[0;32m<ipython-input-9-436b348b2d1d>\u001b[0m in \u001b[0;36m<module>\u001b[0;34m\u001b[0m\n\u001b[0;32m----> 1\u001b[0;31m \u001b[0mdtDebt\u001b[0m\u001b[0;34m.\u001b[0m\u001b[0mfit\u001b[0m\u001b[0;34m(\u001b[0m\u001b[0mdebttrain\u001b[0m\u001b[0;34m.\u001b[0m\u001b[0miloc\u001b[0m\u001b[0;34m[\u001b[0m\u001b[0;34m:\u001b[0m\u001b[0;34m,\u001b[0m\u001b[0;34m:\u001b[0m\u001b[0;34m-\u001b[0m\u001b[0;36m1\u001b[0m\u001b[0;34m]\u001b[0m\u001b[0;34m,\u001b[0m \u001b[0mdebttrain\u001b[0m\u001b[0;34m.\u001b[0m\u001b[0miloc\u001b[0m\u001b[0;34m[\u001b[0m\u001b[0;34m:\u001b[0m\u001b[0;34m,\u001b[0m\u001b[0;34m-\u001b[0m\u001b[0;36m1\u001b[0m\u001b[0;34m]\u001b[0m\u001b[0;34m)\u001b[0m\u001b[0;34m\u001b[0m\u001b[0;34m\u001b[0m\u001b[0m\n\u001b[0m",
      "\u001b[0;32m/home/VENV36/lib/python3.6/site-packages/sklearn/tree/_classes.py\u001b[0m in \u001b[0;36mfit\u001b[0;34m(self, X, y, sample_weight, check_input, X_idx_sorted)\u001b[0m\n\u001b[1;32m    900\u001b[0m             \u001b[0msample_weight\u001b[0m\u001b[0;34m=\u001b[0m\u001b[0msample_weight\u001b[0m\u001b[0;34m,\u001b[0m\u001b[0;34m\u001b[0m\u001b[0;34m\u001b[0m\u001b[0m\n\u001b[1;32m    901\u001b[0m             \u001b[0mcheck_input\u001b[0m\u001b[0;34m=\u001b[0m\u001b[0mcheck_input\u001b[0m\u001b[0;34m,\u001b[0m\u001b[0;34m\u001b[0m\u001b[0;34m\u001b[0m\u001b[0m\n\u001b[0;32m--> 902\u001b[0;31m             X_idx_sorted=X_idx_sorted)\n\u001b[0m\u001b[1;32m    903\u001b[0m         \u001b[0;32mreturn\u001b[0m \u001b[0mself\u001b[0m\u001b[0;34m\u001b[0m\u001b[0;34m\u001b[0m\u001b[0m\n\u001b[1;32m    904\u001b[0m \u001b[0;34m\u001b[0m\u001b[0m\n",
      "\u001b[0;32m/home/VENV36/lib/python3.6/site-packages/sklearn/tree/_classes.py\u001b[0m in \u001b[0;36mfit\u001b[0;34m(self, X, y, sample_weight, check_input, X_idx_sorted)\u001b[0m\n\u001b[1;32m    156\u001b[0m             X, y = self._validate_data(X, y,\n\u001b[1;32m    157\u001b[0m                                        validate_separately=(check_X_params,\n\u001b[0;32m--> 158\u001b[0;31m                                                             check_y_params))\n\u001b[0m\u001b[1;32m    159\u001b[0m             \u001b[0;32mif\u001b[0m \u001b[0missparse\u001b[0m\u001b[0;34m(\u001b[0m\u001b[0mX\u001b[0m\u001b[0;34m)\u001b[0m\u001b[0;34m:\u001b[0m\u001b[0;34m\u001b[0m\u001b[0;34m\u001b[0m\u001b[0m\n\u001b[1;32m    160\u001b[0m                 \u001b[0mX\u001b[0m\u001b[0;34m.\u001b[0m\u001b[0msort_indices\u001b[0m\u001b[0;34m(\u001b[0m\u001b[0;34m)\u001b[0m\u001b[0;34m\u001b[0m\u001b[0;34m\u001b[0m\u001b[0m\n",
      "\u001b[0;32m/home/VENV36/lib/python3.6/site-packages/sklearn/base.py\u001b[0m in \u001b[0;36m_validate_data\u001b[0;34m(self, X, y, reset, validate_separately, **check_params)\u001b[0m\n\u001b[1;32m    428\u001b[0m                 \u001b[0;31m# :(\u001b[0m\u001b[0;34m\u001b[0m\u001b[0;34m\u001b[0m\u001b[0;34m\u001b[0m\u001b[0m\n\u001b[1;32m    429\u001b[0m                 \u001b[0mcheck_X_params\u001b[0m\u001b[0;34m,\u001b[0m \u001b[0mcheck_y_params\u001b[0m \u001b[0;34m=\u001b[0m \u001b[0mvalidate_separately\u001b[0m\u001b[0;34m\u001b[0m\u001b[0;34m\u001b[0m\u001b[0m\n\u001b[0;32m--> 430\u001b[0;31m                 \u001b[0mX\u001b[0m \u001b[0;34m=\u001b[0m \u001b[0mcheck_array\u001b[0m\u001b[0;34m(\u001b[0m\u001b[0mX\u001b[0m\u001b[0;34m,\u001b[0m \u001b[0;34m**\u001b[0m\u001b[0mcheck_X_params\u001b[0m\u001b[0;34m)\u001b[0m\u001b[0;34m\u001b[0m\u001b[0;34m\u001b[0m\u001b[0m\n\u001b[0m\u001b[1;32m    431\u001b[0m                 \u001b[0my\u001b[0m \u001b[0;34m=\u001b[0m \u001b[0mcheck_array\u001b[0m\u001b[0;34m(\u001b[0m\u001b[0my\u001b[0m\u001b[0;34m,\u001b[0m \u001b[0;34m**\u001b[0m\u001b[0mcheck_y_params\u001b[0m\u001b[0;34m)\u001b[0m\u001b[0;34m\u001b[0m\u001b[0;34m\u001b[0m\u001b[0m\n\u001b[1;32m    432\u001b[0m             \u001b[0;32melse\u001b[0m\u001b[0;34m:\u001b[0m\u001b[0;34m\u001b[0m\u001b[0;34m\u001b[0m\u001b[0m\n",
      "\u001b[0;32m/home/VENV36/lib/python3.6/site-packages/sklearn/utils/validation.py\u001b[0m in \u001b[0;36minner_f\u001b[0;34m(*args, **kwargs)\u001b[0m\n\u001b[1;32m     61\u001b[0m             \u001b[0mextra_args\u001b[0m \u001b[0;34m=\u001b[0m \u001b[0mlen\u001b[0m\u001b[0;34m(\u001b[0m\u001b[0margs\u001b[0m\u001b[0;34m)\u001b[0m \u001b[0;34m-\u001b[0m \u001b[0mlen\u001b[0m\u001b[0;34m(\u001b[0m\u001b[0mall_args\u001b[0m\u001b[0;34m)\u001b[0m\u001b[0;34m\u001b[0m\u001b[0;34m\u001b[0m\u001b[0m\n\u001b[1;32m     62\u001b[0m             \u001b[0;32mif\u001b[0m \u001b[0mextra_args\u001b[0m \u001b[0;34m<=\u001b[0m \u001b[0;36m0\u001b[0m\u001b[0;34m:\u001b[0m\u001b[0;34m\u001b[0m\u001b[0;34m\u001b[0m\u001b[0m\n\u001b[0;32m---> 63\u001b[0;31m                 \u001b[0;32mreturn\u001b[0m \u001b[0mf\u001b[0m\u001b[0;34m(\u001b[0m\u001b[0;34m*\u001b[0m\u001b[0margs\u001b[0m\u001b[0;34m,\u001b[0m \u001b[0;34m**\u001b[0m\u001b[0mkwargs\u001b[0m\u001b[0;34m)\u001b[0m\u001b[0;34m\u001b[0m\u001b[0;34m\u001b[0m\u001b[0m\n\u001b[0m\u001b[1;32m     64\u001b[0m \u001b[0;34m\u001b[0m\u001b[0m\n\u001b[1;32m     65\u001b[0m             \u001b[0;31m# extra_args > 0\u001b[0m\u001b[0;34m\u001b[0m\u001b[0;34m\u001b[0m\u001b[0;34m\u001b[0m\u001b[0m\n",
      "\u001b[0;32m/home/VENV36/lib/python3.6/site-packages/sklearn/utils/validation.py\u001b[0m in \u001b[0;36mcheck_array\u001b[0;34m(array, accept_sparse, accept_large_sparse, dtype, order, copy, force_all_finite, ensure_2d, allow_nd, ensure_min_samples, ensure_min_features, estimator)\u001b[0m\n\u001b[1;32m    614\u001b[0m                     \u001b[0marray\u001b[0m \u001b[0;34m=\u001b[0m \u001b[0marray\u001b[0m\u001b[0;34m.\u001b[0m\u001b[0mastype\u001b[0m\u001b[0;34m(\u001b[0m\u001b[0mdtype\u001b[0m\u001b[0;34m,\u001b[0m \u001b[0mcasting\u001b[0m\u001b[0;34m=\u001b[0m\u001b[0;34m\"unsafe\"\u001b[0m\u001b[0;34m,\u001b[0m \u001b[0mcopy\u001b[0m\u001b[0;34m=\u001b[0m\u001b[0;32mFalse\u001b[0m\u001b[0;34m)\u001b[0m\u001b[0;34m\u001b[0m\u001b[0;34m\u001b[0m\u001b[0m\n\u001b[1;32m    615\u001b[0m                 \u001b[0;32melse\u001b[0m\u001b[0;34m:\u001b[0m\u001b[0;34m\u001b[0m\u001b[0;34m\u001b[0m\u001b[0m\n\u001b[0;32m--> 616\u001b[0;31m                     \u001b[0marray\u001b[0m \u001b[0;34m=\u001b[0m \u001b[0mnp\u001b[0m\u001b[0;34m.\u001b[0m\u001b[0masarray\u001b[0m\u001b[0;34m(\u001b[0m\u001b[0marray\u001b[0m\u001b[0;34m,\u001b[0m \u001b[0morder\u001b[0m\u001b[0;34m=\u001b[0m\u001b[0morder\u001b[0m\u001b[0;34m,\u001b[0m \u001b[0mdtype\u001b[0m\u001b[0;34m=\u001b[0m\u001b[0mdtype\u001b[0m\u001b[0;34m)\u001b[0m\u001b[0;34m\u001b[0m\u001b[0;34m\u001b[0m\u001b[0m\n\u001b[0m\u001b[1;32m    617\u001b[0m             \u001b[0;32mexcept\u001b[0m \u001b[0mComplexWarning\u001b[0m \u001b[0;32mas\u001b[0m \u001b[0mcomplex_warning\u001b[0m\u001b[0;34m:\u001b[0m\u001b[0;34m\u001b[0m\u001b[0;34m\u001b[0m\u001b[0m\n\u001b[1;32m    618\u001b[0m                 raise ValueError(\"Complex data not supported\\n\"\n",
      "\u001b[0;32m/home/VENV36/lib/python3.6/site-packages/numpy/core/_asarray.py\u001b[0m in \u001b[0;36masarray\u001b[0;34m(a, dtype, order)\u001b[0m\n\u001b[1;32m     83\u001b[0m \u001b[0;34m\u001b[0m\u001b[0m\n\u001b[1;32m     84\u001b[0m     \"\"\"\n\u001b[0;32m---> 85\u001b[0;31m     \u001b[0;32mreturn\u001b[0m \u001b[0marray\u001b[0m\u001b[0;34m(\u001b[0m\u001b[0ma\u001b[0m\u001b[0;34m,\u001b[0m \u001b[0mdtype\u001b[0m\u001b[0;34m,\u001b[0m \u001b[0mcopy\u001b[0m\u001b[0;34m=\u001b[0m\u001b[0;32mFalse\u001b[0m\u001b[0;34m,\u001b[0m \u001b[0morder\u001b[0m\u001b[0;34m=\u001b[0m\u001b[0morder\u001b[0m\u001b[0;34m)\u001b[0m\u001b[0;34m\u001b[0m\u001b[0;34m\u001b[0m\u001b[0m\n\u001b[0m\u001b[1;32m     86\u001b[0m \u001b[0;34m\u001b[0m\u001b[0m\n\u001b[1;32m     87\u001b[0m \u001b[0;34m\u001b[0m\u001b[0m\n",
      "\u001b[0;31mValueError\u001b[0m: could not convert string to float: '是'"
     ]
    }
   ],
   "source": [
    "dtDebt.fit(debttrain.iloc[:,:-1], debttrain.iloc[:,-1])"
   ]
  },
  {
   "cell_type": "markdown",
   "metadata": {
    "slideshow": {
     "slide_type": "subslide"
    }
   },
   "source": [
    "#### 转变预测属性"
   ]
  },
  {
   "cell_type": "markdown",
   "metadata": {
    "slideshow": {
     "slide_type": "fragment"
    }
   },
   "source": [
    "> `DecisionTreeClassifer`只支持数值型预测属性\n",
    "- 但是对类别标签没有要求"
   ]
  },
  {
   "cell_type": "markdown",
   "metadata": {
    "slideshow": {
     "slide_type": "fragment"
    }
   },
   "source": [
    "##### **One-Hot Encoding**：将标称属性转换成二元属性"
   ]
  },
  {
   "cell_type": "markdown",
   "metadata": {
    "slideshow": {
     "slide_type": "fragment"
    }
   },
   "source": [
    "```python\n",
    "pandas.get_dummies(data, columns=None)\n",
    "```\n",
    "- `data`：`Series`类型，或者`DataFrame`类型\n",
    "- `columns`：列名的`list`类型，数据集中哪些列需要转换，默认是将数据集中所有列进行转换\n",
    "- 返回值：由二元化的属性构成的`DataFrame`"
   ]
  },
  {
   "cell_type": "code",
   "execution_count": null,
   "metadata": {
    "slideshow": {
     "slide_type": "fragment"
    }
   },
   "outputs": [],
   "source": [
    "debttrainOH = pd.get_dummies(debttrain, columns=['有房者','婚姻状况'])\n",
    "debttrain\n",
    "debttrainOH\n",
    "debttrainY = debttrainOH.pop('拖欠贷款')\n",
    "debttrainOH"
   ]
  },
  {
   "cell_type": "code",
   "execution_count": null,
   "metadata": {
    "slideshow": {
     "slide_type": "slide"
    }
   },
   "outputs": [],
   "source": [
    "dtDebt.fit(debttrainOH, debttrainY)"
   ]
  },
  {
   "cell_type": "markdown",
   "metadata": {
    "slideshow": {
     "slide_type": "subslide"
    }
   },
   "source": [
    "#### 决策树可视化"
   ]
  },
  {
   "cell_type": "markdown",
   "metadata": {
    "slideshow": {
     "slide_type": "fragment"
    }
   },
   "source": [
    "##### 决策规则以文本形式输出"
   ]
  },
  {
   "cell_type": "markdown",
   "metadata": {
    "slideshow": {
     "slide_type": "fragment"
    }
   },
   "source": [
    "```python\n",
    "tree.export_text(decision_tree, feature_names=None)\n",
    "```\n",
    "- `decision_tree`：训练过的决策树模型\n",
    "- `feature_names`：由预测属性名称构成的列表"
   ]
  },
  {
   "cell_type": "code",
   "execution_count": null,
   "metadata": {
    "slideshow": {
     "slide_type": "fragment"
    }
   },
   "outputs": [],
   "source": [
    "print(tree.export_text(dtDebt,feature_names=list(debttrainOH.columns)))"
   ]
  },
  {
   "cell_type": "code",
   "execution_count": null,
   "metadata": {},
   "outputs": [],
   "source": [
    "tree.plot_tree(dtDebt,filled=True,figsize=(12,6))"
   ]
  },
  {
   "cell_type": "markdown",
   "metadata": {
    "slideshow": {
     "slide_type": "slide"
    }
   },
   "source": [
    "##### 决策规则以图形形式输出：Graphviz"
   ]
  },
  {
   "cell_type": "markdown",
   "metadata": {
    "slideshow": {
     "slide_type": "fragment"
    }
   },
   "source": [
    "- Graphviz是一个开源的流程图绘制软件\n",
    "- 官方网站：[http://graphviz.org/](http://graphviz.org/)"
   ]
  },
  {
   "cell_type": "markdown",
   "metadata": {
    "slideshow": {
     "slide_type": "fragment"
    }
   },
   "source": [
    "- 下载安装\n",
    "    + `Windows`系统下载`graphviz-2.38.msi`：[https://graphviz.gitlab.io/_pages/Download/Download_windows.html](https://graphviz.gitlab.io/_pages/Download/Download_windows.html)\n",
    "    + `Mac`系统，参考[https://blog.csdn.net/w1573007/article/details/80117725?depth_1-utm_source=distribute.pc_relevant.none-task&utm_source=distribute.pc_relevant.none-task](https://blog.csdn.net/w1573007/article/details/80117725?depth_1-utm_source=distribute.pc_relevant.none-task&utm_source=distribute.pc_relevant.none-task)"
   ]
  },
  {
   "cell_type": "markdown",
   "metadata": {
    "slideshow": {
     "slide_type": "subslide"
    }
   },
   "source": [
    "- 将Graphviz添加到`Windows`的环境变量"
   ]
  },
  {
   "cell_type": "markdown",
   "metadata": {
    "slideshow": {
     "slide_type": "fragment"
    }
   },
   "source": [
    "<center><img src=\"./img/classification/graphvizPath.png\" width=60%></center>"
   ]
  },
  {
   "cell_type": "markdown",
   "metadata": {
    "slideshow": {
     "slide_type": "fragment"
    }
   },
   "source": [
    "> 将`C:\\Program Files (x86)\\Graphviz2.38\\bin\\;`添加到`Path`变量值的最后，与前面的项目之间用英文`;`间隔\n",
    "<center><img src=\"./img/classification/graphvizPath1.png\" width=40%></center>"
   ]
  },
  {
   "cell_type": "markdown",
   "metadata": {
    "slideshow": {
     "slide_type": "fragment"
    }
   },
   "source": [
    "-  Python中安装Graphviz包\n",
    "\n",
    "```python\n",
    "pip install graphviz\n",
    "```"
   ]
  },
  {
   "cell_type": "markdown",
   "metadata": {
    "slideshow": {
     "slide_type": "slide"
    }
   },
   "source": [
    "##### 显示决策树"
   ]
  },
  {
   "cell_type": "markdown",
   "metadata": {
    "slideshow": {
     "slide_type": "fragment"
    }
   },
   "source": [
    "- `sklearn`中将决策树导出成为`Graphviz`图形的函数"
   ]
  },
  {
   "cell_type": "markdown",
   "metadata": {
    "slideshow": {
     "slide_type": "fragment"
    }
   },
   "source": [
    "```python\n",
    "tree.export_graphviz(decision_tree, feature_names=None, class_names=None, filled=False)\n",
    "```\n",
    "- `decision_tree`：生成的决策树\n",
    "- `feature_names`：`str`列表，由预测属性的名称构成\n",
    "- `class_names`：`str`列表，给每个类别命名，依据类别对应的数值的升序排列，与`dt.classes_`显示的类别顺序一致\n",
    "- `filled`：是否给节点上色，默认否"
   ]
  },
  {
   "cell_type": "code",
   "execution_count": 10,
   "metadata": {
    "slideshow": {
     "slide_type": "fragment"
    }
   },
   "outputs": [
    {
     "ename": "NotFittedError",
     "evalue": "This DecisionTreeClassifier instance is not fitted yet. Call 'fit' with appropriate arguments before using this estimator.",
     "output_type": "error",
     "traceback": [
      "\u001b[0;31m---------------------------------------------------------------------------\u001b[0m",
      "\u001b[0;31mNotFittedError\u001b[0m                            Traceback (most recent call last)",
      "\u001b[0;32m<ipython-input-10-798c8ad352ed>\u001b[0m in \u001b[0;36m<module>\u001b[0;34m\u001b[0m\n\u001b[0;32m----> 1\u001b[0;31m \u001b[0mdotDataRaw\u001b[0m \u001b[0;34m=\u001b[0m \u001b[0mtree\u001b[0m\u001b[0;34m.\u001b[0m\u001b[0mexport_graphviz\u001b[0m\u001b[0;34m(\u001b[0m\u001b[0mdtDebt\u001b[0m\u001b[0;34m)\u001b[0m\u001b[0;34m\u001b[0m\u001b[0;34m\u001b[0m\u001b[0m\n\u001b[0m",
      "\u001b[0;32m/home/VENV36/lib/python3.6/site-packages/sklearn/utils/validation.py\u001b[0m in \u001b[0;36minner_f\u001b[0;34m(*args, **kwargs)\u001b[0m\n\u001b[1;32m     61\u001b[0m             \u001b[0mextra_args\u001b[0m \u001b[0;34m=\u001b[0m \u001b[0mlen\u001b[0m\u001b[0;34m(\u001b[0m\u001b[0margs\u001b[0m\u001b[0;34m)\u001b[0m \u001b[0;34m-\u001b[0m \u001b[0mlen\u001b[0m\u001b[0;34m(\u001b[0m\u001b[0mall_args\u001b[0m\u001b[0;34m)\u001b[0m\u001b[0;34m\u001b[0m\u001b[0;34m\u001b[0m\u001b[0m\n\u001b[1;32m     62\u001b[0m             \u001b[0;32mif\u001b[0m \u001b[0mextra_args\u001b[0m \u001b[0;34m<=\u001b[0m \u001b[0;36m0\u001b[0m\u001b[0;34m:\u001b[0m\u001b[0;34m\u001b[0m\u001b[0;34m\u001b[0m\u001b[0m\n\u001b[0;32m---> 63\u001b[0;31m                 \u001b[0;32mreturn\u001b[0m \u001b[0mf\u001b[0m\u001b[0;34m(\u001b[0m\u001b[0;34m*\u001b[0m\u001b[0margs\u001b[0m\u001b[0;34m,\u001b[0m \u001b[0;34m**\u001b[0m\u001b[0mkwargs\u001b[0m\u001b[0;34m)\u001b[0m\u001b[0;34m\u001b[0m\u001b[0;34m\u001b[0m\u001b[0m\n\u001b[0m\u001b[1;32m     64\u001b[0m \u001b[0;34m\u001b[0m\u001b[0m\n\u001b[1;32m     65\u001b[0m             \u001b[0;31m# extra_args > 0\u001b[0m\u001b[0;34m\u001b[0m\u001b[0;34m\u001b[0m\u001b[0;34m\u001b[0m\u001b[0m\n",
      "\u001b[0;32m/home/VENV36/lib/python3.6/site-packages/sklearn/tree/_export.py\u001b[0m in \u001b[0;36mexport_graphviz\u001b[0;34m(decision_tree, out_file, max_depth, feature_names, class_names, label, filled, leaves_parallel, impurity, node_ids, proportion, rotate, rounded, special_characters, precision)\u001b[0m\n\u001b[1;32m    767\u001b[0m     \"\"\"\n\u001b[1;32m    768\u001b[0m \u001b[0;34m\u001b[0m\u001b[0m\n\u001b[0;32m--> 769\u001b[0;31m     \u001b[0mcheck_is_fitted\u001b[0m\u001b[0;34m(\u001b[0m\u001b[0mdecision_tree\u001b[0m\u001b[0;34m)\u001b[0m\u001b[0;34m\u001b[0m\u001b[0;34m\u001b[0m\u001b[0m\n\u001b[0m\u001b[1;32m    770\u001b[0m     \u001b[0mown_file\u001b[0m \u001b[0;34m=\u001b[0m \u001b[0;32mFalse\u001b[0m\u001b[0;34m\u001b[0m\u001b[0;34m\u001b[0m\u001b[0m\n\u001b[1;32m    771\u001b[0m     \u001b[0mreturn_string\u001b[0m \u001b[0;34m=\u001b[0m \u001b[0;32mFalse\u001b[0m\u001b[0;34m\u001b[0m\u001b[0;34m\u001b[0m\u001b[0m\n",
      "\u001b[0;32m/home/VENV36/lib/python3.6/site-packages/sklearn/utils/validation.py\u001b[0m in \u001b[0;36minner_f\u001b[0;34m(*args, **kwargs)\u001b[0m\n\u001b[1;32m     61\u001b[0m             \u001b[0mextra_args\u001b[0m \u001b[0;34m=\u001b[0m \u001b[0mlen\u001b[0m\u001b[0;34m(\u001b[0m\u001b[0margs\u001b[0m\u001b[0;34m)\u001b[0m \u001b[0;34m-\u001b[0m \u001b[0mlen\u001b[0m\u001b[0;34m(\u001b[0m\u001b[0mall_args\u001b[0m\u001b[0;34m)\u001b[0m\u001b[0;34m\u001b[0m\u001b[0;34m\u001b[0m\u001b[0m\n\u001b[1;32m     62\u001b[0m             \u001b[0;32mif\u001b[0m \u001b[0mextra_args\u001b[0m \u001b[0;34m<=\u001b[0m \u001b[0;36m0\u001b[0m\u001b[0;34m:\u001b[0m\u001b[0;34m\u001b[0m\u001b[0;34m\u001b[0m\u001b[0m\n\u001b[0;32m---> 63\u001b[0;31m                 \u001b[0;32mreturn\u001b[0m \u001b[0mf\u001b[0m\u001b[0;34m(\u001b[0m\u001b[0;34m*\u001b[0m\u001b[0margs\u001b[0m\u001b[0;34m,\u001b[0m \u001b[0;34m**\u001b[0m\u001b[0mkwargs\u001b[0m\u001b[0;34m)\u001b[0m\u001b[0;34m\u001b[0m\u001b[0;34m\u001b[0m\u001b[0m\n\u001b[0m\u001b[1;32m     64\u001b[0m \u001b[0;34m\u001b[0m\u001b[0m\n\u001b[1;32m     65\u001b[0m             \u001b[0;31m# extra_args > 0\u001b[0m\u001b[0;34m\u001b[0m\u001b[0;34m\u001b[0m\u001b[0;34m\u001b[0m\u001b[0m\n",
      "\u001b[0;32m/home/VENV36/lib/python3.6/site-packages/sklearn/utils/validation.py\u001b[0m in \u001b[0;36mcheck_is_fitted\u001b[0;34m(estimator, attributes, msg, all_or_any)\u001b[0m\n\u001b[1;32m   1039\u001b[0m \u001b[0;34m\u001b[0m\u001b[0m\n\u001b[1;32m   1040\u001b[0m     \u001b[0;32mif\u001b[0m \u001b[0;32mnot\u001b[0m \u001b[0mattrs\u001b[0m\u001b[0;34m:\u001b[0m\u001b[0;34m\u001b[0m\u001b[0;34m\u001b[0m\u001b[0m\n\u001b[0;32m-> 1041\u001b[0;31m         \u001b[0;32mraise\u001b[0m \u001b[0mNotFittedError\u001b[0m\u001b[0;34m(\u001b[0m\u001b[0mmsg\u001b[0m \u001b[0;34m%\u001b[0m \u001b[0;34m{\u001b[0m\u001b[0;34m'name'\u001b[0m\u001b[0;34m:\u001b[0m \u001b[0mtype\u001b[0m\u001b[0;34m(\u001b[0m\u001b[0mestimator\u001b[0m\u001b[0;34m)\u001b[0m\u001b[0;34m.\u001b[0m\u001b[0m__name__\u001b[0m\u001b[0;34m}\u001b[0m\u001b[0;34m)\u001b[0m\u001b[0;34m\u001b[0m\u001b[0;34m\u001b[0m\u001b[0m\n\u001b[0m\u001b[1;32m   1042\u001b[0m \u001b[0;34m\u001b[0m\u001b[0m\n\u001b[1;32m   1043\u001b[0m \u001b[0;34m\u001b[0m\u001b[0m\n",
      "\u001b[0;31mNotFittedError\u001b[0m: This DecisionTreeClassifier instance is not fitted yet. Call 'fit' with appropriate arguments before using this estimator."
     ]
    }
   ],
   "source": [
    "dotDataRaw = tree.export_graphviz(dtDebt)"
   ]
  },
  {
   "cell_type": "code",
   "execution_count": null,
   "metadata": {
    "slideshow": {
     "slide_type": "fragment"
    }
   },
   "outputs": [],
   "source": [
    "import graphviz\n",
    "graphRaw = graphviz.Source(dotDataRaw)\n",
    "graphRaw"
   ]
  },
  {
   "cell_type": "code",
   "execution_count": null,
   "metadata": {
    "slideshow": {
     "slide_type": "subslide"
    }
   },
   "outputs": [],
   "source": [
    "dotData = tree.export_graphviz(dtDebt, feature_names=debttrainOH.columns, class_names=['无拖欠','拖欠'], filled=True)\n",
    "dtDebt.classes_"
   ]
  },
  {
   "cell_type": "code",
   "execution_count": null,
   "metadata": {
    "slideshow": {
     "slide_type": "fragment"
    }
   },
   "outputs": [],
   "source": [
    "graph = graphviz.Source(dotData)\n",
    "graph"
   ]
  },
  {
   "cell_type": "markdown",
   "metadata": {
    "slideshow": {
     "slide_type": "slide"
    }
   },
   "source": [
    "#### 用决策树预测"
   ]
  },
  {
   "cell_type": "markdown",
   "metadata": {
    "slideshow": {
     "slide_type": "fragment"
    }
   },
   "source": [
    "```python\n",
    "dt.predict(X)\n",
    "```\n",
    "- `X`：输入的属性矩阵，形状为`[n_samples, n_features]`\n",
    "- 返回值：预测的类别，形状为`[n_samples]`的数组"
   ]
  },
  {
   "cell_type": "markdown",
   "metadata": {
    "slideshow": {
     "slide_type": "fragment"
    }
   },
   "source": [
    "```python\n",
    "dt.predict_proba(X)\n",
    "```\n",
    "- 返回值：预测属于每个类别的概率，形状为[n_samples, n_classes]的矩阵，每个样本属于每个类别的概率的顺序与`dt.classes_`一致"
   ]
  },
  {
   "cell_type": "code",
   "execution_count": 11,
   "metadata": {
    "slideshow": {
     "slide_type": "subslide"
    }
   },
   "outputs": [
    {
     "data": {
      "text/html": [
       "<div>\n",
       "<style scoped>\n",
       "    .dataframe tbody tr th:only-of-type {\n",
       "        vertical-align: middle;\n",
       "    }\n",
       "\n",
       "    .dataframe tbody tr th {\n",
       "        vertical-align: top;\n",
       "    }\n",
       "\n",
       "    .dataframe thead th {\n",
       "        text-align: right;\n",
       "    }\n",
       "</style>\n",
       "<table border=\"1\" class=\"dataframe\">\n",
       "  <thead>\n",
       "    <tr style=\"text-align: right;\">\n",
       "      <th></th>\n",
       "      <th>年收入</th>\n",
       "      <th>有房者_否</th>\n",
       "      <th>有房者_是</th>\n",
       "      <th>婚姻状况_单身</th>\n",
       "      <th>婚姻状况_已婚</th>\n",
       "      <th>婚姻状况_离异</th>\n",
       "    </tr>\n",
       "  </thead>\n",
       "  <tbody>\n",
       "    <tr>\n",
       "      <th>0</th>\n",
       "      <td>200</td>\n",
       "      <td>0</td>\n",
       "      <td>1</td>\n",
       "      <td>1</td>\n",
       "      <td>0</td>\n",
       "      <td>0</td>\n",
       "    </tr>\n",
       "    <tr>\n",
       "      <th>1</th>\n",
       "      <td>80</td>\n",
       "      <td>1</td>\n",
       "      <td>0</td>\n",
       "      <td>0</td>\n",
       "      <td>1</td>\n",
       "      <td>0</td>\n",
       "    </tr>\n",
       "    <tr>\n",
       "      <th>2</th>\n",
       "      <td>70</td>\n",
       "      <td>1</td>\n",
       "      <td>0</td>\n",
       "      <td>1</td>\n",
       "      <td>0</td>\n",
       "      <td>0</td>\n",
       "    </tr>\n",
       "    <tr>\n",
       "      <th>3</th>\n",
       "      <td>100</td>\n",
       "      <td>0</td>\n",
       "      <td>1</td>\n",
       "      <td>0</td>\n",
       "      <td>1</td>\n",
       "      <td>0</td>\n",
       "    </tr>\n",
       "    <tr>\n",
       "      <th>4</th>\n",
       "      <td>65</td>\n",
       "      <td>1</td>\n",
       "      <td>0</td>\n",
       "      <td>0</td>\n",
       "      <td>0</td>\n",
       "      <td>1</td>\n",
       "    </tr>\n",
       "  </tbody>\n",
       "</table>\n",
       "</div>"
      ],
      "text/plain": [
       "   年收入  有房者_否  有房者_是  婚姻状况_单身  婚姻状况_已婚  婚姻状况_离异\n",
       "0  200      0      1        1        0        0\n",
       "1   80      1      0        0        1        0\n",
       "2   70      1      0        1        0        0\n",
       "3  100      0      1        0        1        0\n",
       "4   65      1      0        0        0        1"
      ]
     },
     "execution_count": 11,
     "metadata": {},
     "output_type": "execute_result"
    }
   ],
   "source": [
    "debtt = [['是','否','否','是','否'],\n",
    "         ['单身','已婚','单身','已婚','离异'],\n",
    "         [200,80,70,100,65]]\n",
    "debttest = pd.DataFrame(debtt,index=['有房者','婚姻状况','年收入']).T \n",
    "debttestOH = pd.get_dummies(debttest, columns=['有房者','婚姻状况'])\n",
    "debttestOH"
   ]
  },
  {
   "cell_type": "code",
   "execution_count": 12,
   "metadata": {
    "cell_style": "center",
    "scrolled": true,
    "slideshow": {
     "slide_type": "fragment"
    }
   },
   "outputs": [
    {
     "ename": "NotFittedError",
     "evalue": "This DecisionTreeClassifier instance is not fitted yet. Call 'fit' with appropriate arguments before using this estimator.",
     "output_type": "error",
     "traceback": [
      "\u001b[0;31m---------------------------------------------------------------------------\u001b[0m",
      "\u001b[0;31mNotFittedError\u001b[0m                            Traceback (most recent call last)",
      "\u001b[0;32m<ipython-input-12-2349d892f87e>\u001b[0m in \u001b[0;36m<module>\u001b[0;34m\u001b[0m\n\u001b[0;32m----> 1\u001b[0;31m \u001b[0mdtDebt\u001b[0m\u001b[0;34m.\u001b[0m\u001b[0mpredict\u001b[0m\u001b[0;34m(\u001b[0m\u001b[0mdebttestOH\u001b[0m\u001b[0;34m)\u001b[0m\u001b[0;34m\u001b[0m\u001b[0;34m\u001b[0m\u001b[0m\n\u001b[0m\u001b[1;32m      2\u001b[0m \u001b[0mdtDebt\u001b[0m\u001b[0;34m.\u001b[0m\u001b[0mpredict_proba\u001b[0m\u001b[0;34m(\u001b[0m\u001b[0mdebttestOH\u001b[0m\u001b[0;34m)\u001b[0m\u001b[0;34m\u001b[0m\u001b[0;34m\u001b[0m\u001b[0m\n",
      "\u001b[0;32m/home/VENV36/lib/python3.6/site-packages/sklearn/tree/_classes.py\u001b[0m in \u001b[0;36mpredict\u001b[0;34m(self, X, check_input)\u001b[0m\n\u001b[1;32m    434\u001b[0m             \u001b[0mThe\u001b[0m \u001b[0mpredicted\u001b[0m \u001b[0mclasses\u001b[0m\u001b[0;34m,\u001b[0m \u001b[0;32mor\u001b[0m \u001b[0mthe\u001b[0m \u001b[0mpredict\u001b[0m \u001b[0mvalues\u001b[0m\u001b[0;34m.\u001b[0m\u001b[0;34m\u001b[0m\u001b[0;34m\u001b[0m\u001b[0m\n\u001b[1;32m    435\u001b[0m         \"\"\"\n\u001b[0;32m--> 436\u001b[0;31m         \u001b[0mcheck_is_fitted\u001b[0m\u001b[0;34m(\u001b[0m\u001b[0mself\u001b[0m\u001b[0;34m)\u001b[0m\u001b[0;34m\u001b[0m\u001b[0;34m\u001b[0m\u001b[0m\n\u001b[0m\u001b[1;32m    437\u001b[0m         \u001b[0mX\u001b[0m \u001b[0;34m=\u001b[0m \u001b[0mself\u001b[0m\u001b[0;34m.\u001b[0m\u001b[0m_validate_X_predict\u001b[0m\u001b[0;34m(\u001b[0m\u001b[0mX\u001b[0m\u001b[0;34m,\u001b[0m \u001b[0mcheck_input\u001b[0m\u001b[0;34m)\u001b[0m\u001b[0;34m\u001b[0m\u001b[0;34m\u001b[0m\u001b[0m\n\u001b[1;32m    438\u001b[0m         \u001b[0mproba\u001b[0m \u001b[0;34m=\u001b[0m \u001b[0mself\u001b[0m\u001b[0;34m.\u001b[0m\u001b[0mtree_\u001b[0m\u001b[0;34m.\u001b[0m\u001b[0mpredict\u001b[0m\u001b[0;34m(\u001b[0m\u001b[0mX\u001b[0m\u001b[0;34m)\u001b[0m\u001b[0;34m\u001b[0m\u001b[0;34m\u001b[0m\u001b[0m\n",
      "\u001b[0;32m/home/VENV36/lib/python3.6/site-packages/sklearn/utils/validation.py\u001b[0m in \u001b[0;36minner_f\u001b[0;34m(*args, **kwargs)\u001b[0m\n\u001b[1;32m     61\u001b[0m             \u001b[0mextra_args\u001b[0m \u001b[0;34m=\u001b[0m \u001b[0mlen\u001b[0m\u001b[0;34m(\u001b[0m\u001b[0margs\u001b[0m\u001b[0;34m)\u001b[0m \u001b[0;34m-\u001b[0m \u001b[0mlen\u001b[0m\u001b[0;34m(\u001b[0m\u001b[0mall_args\u001b[0m\u001b[0;34m)\u001b[0m\u001b[0;34m\u001b[0m\u001b[0;34m\u001b[0m\u001b[0m\n\u001b[1;32m     62\u001b[0m             \u001b[0;32mif\u001b[0m \u001b[0mextra_args\u001b[0m \u001b[0;34m<=\u001b[0m \u001b[0;36m0\u001b[0m\u001b[0;34m:\u001b[0m\u001b[0;34m\u001b[0m\u001b[0;34m\u001b[0m\u001b[0m\n\u001b[0;32m---> 63\u001b[0;31m                 \u001b[0;32mreturn\u001b[0m \u001b[0mf\u001b[0m\u001b[0;34m(\u001b[0m\u001b[0;34m*\u001b[0m\u001b[0margs\u001b[0m\u001b[0;34m,\u001b[0m \u001b[0;34m**\u001b[0m\u001b[0mkwargs\u001b[0m\u001b[0;34m)\u001b[0m\u001b[0;34m\u001b[0m\u001b[0;34m\u001b[0m\u001b[0m\n\u001b[0m\u001b[1;32m     64\u001b[0m \u001b[0;34m\u001b[0m\u001b[0m\n\u001b[1;32m     65\u001b[0m             \u001b[0;31m# extra_args > 0\u001b[0m\u001b[0;34m\u001b[0m\u001b[0;34m\u001b[0m\u001b[0;34m\u001b[0m\u001b[0m\n",
      "\u001b[0;32m/home/VENV36/lib/python3.6/site-packages/sklearn/utils/validation.py\u001b[0m in \u001b[0;36mcheck_is_fitted\u001b[0;34m(estimator, attributes, msg, all_or_any)\u001b[0m\n\u001b[1;32m   1039\u001b[0m \u001b[0;34m\u001b[0m\u001b[0m\n\u001b[1;32m   1040\u001b[0m     \u001b[0;32mif\u001b[0m \u001b[0;32mnot\u001b[0m \u001b[0mattrs\u001b[0m\u001b[0;34m:\u001b[0m\u001b[0;34m\u001b[0m\u001b[0;34m\u001b[0m\u001b[0m\n\u001b[0;32m-> 1041\u001b[0;31m         \u001b[0;32mraise\u001b[0m \u001b[0mNotFittedError\u001b[0m\u001b[0;34m(\u001b[0m\u001b[0mmsg\u001b[0m \u001b[0;34m%\u001b[0m \u001b[0;34m{\u001b[0m\u001b[0;34m'name'\u001b[0m\u001b[0;34m:\u001b[0m \u001b[0mtype\u001b[0m\u001b[0;34m(\u001b[0m\u001b[0mestimator\u001b[0m\u001b[0;34m)\u001b[0m\u001b[0;34m.\u001b[0m\u001b[0m__name__\u001b[0m\u001b[0;34m}\u001b[0m\u001b[0;34m)\u001b[0m\u001b[0;34m\u001b[0m\u001b[0;34m\u001b[0m\u001b[0m\n\u001b[0m\u001b[1;32m   1042\u001b[0m \u001b[0;34m\u001b[0m\u001b[0m\n\u001b[1;32m   1043\u001b[0m \u001b[0;34m\u001b[0m\u001b[0m\n",
      "\u001b[0;31mNotFittedError\u001b[0m: This DecisionTreeClassifier instance is not fitted yet. Call 'fit' with appropriate arguments before using this estimator."
     ]
    }
   ],
   "source": [
    "dtDebt.predict(debttestOH)\n",
    "dtDebt.predict_proba(debttestOH)"
   ]
  },
  {
   "cell_type": "markdown",
   "metadata": {
    "slideshow": {
     "slide_type": "slide"
    }
   },
   "source": [
    "### Titanic生存分类"
   ]
  },
  {
   "cell_type": "markdown",
   "metadata": {
    "slideshow": {
     "slide_type": "fragment"
    }
   },
   "source": [
    "#### 读取数据"
   ]
  },
  {
   "cell_type": "code",
   "execution_count": 13,
   "metadata": {
    "scrolled": true,
    "slideshow": {
     "slide_type": "fragment"
    }
   },
   "outputs": [
    {
     "data": {
      "text/html": [
       "<div>\n",
       "<style scoped>\n",
       "    .dataframe tbody tr th:only-of-type {\n",
       "        vertical-align: middle;\n",
       "    }\n",
       "\n",
       "    .dataframe tbody tr th {\n",
       "        vertical-align: top;\n",
       "    }\n",
       "\n",
       "    .dataframe thead th {\n",
       "        text-align: right;\n",
       "    }\n",
       "</style>\n",
       "<table border=\"1\" class=\"dataframe\">\n",
       "  <thead>\n",
       "    <tr style=\"text-align: right;\">\n",
       "      <th></th>\n",
       "      <th>PassengerId</th>\n",
       "      <th>Survived</th>\n",
       "      <th>Pclass</th>\n",
       "      <th>Name</th>\n",
       "      <th>Sex</th>\n",
       "      <th>Age</th>\n",
       "      <th>SibSp</th>\n",
       "      <th>Parch</th>\n",
       "      <th>Ticket</th>\n",
       "      <th>Fare</th>\n",
       "      <th>Cabin</th>\n",
       "      <th>Embarked</th>\n",
       "    </tr>\n",
       "  </thead>\n",
       "  <tbody>\n",
       "    <tr>\n",
       "      <th>0</th>\n",
       "      <td>1</td>\n",
       "      <td>0</td>\n",
       "      <td>3</td>\n",
       "      <td>Braund, Mr. Owen Harris</td>\n",
       "      <td>male</td>\n",
       "      <td>22.0</td>\n",
       "      <td>1</td>\n",
       "      <td>0</td>\n",
       "      <td>A/5 21171</td>\n",
       "      <td>7.2500</td>\n",
       "      <td>NaN</td>\n",
       "      <td>S</td>\n",
       "    </tr>\n",
       "    <tr>\n",
       "      <th>1</th>\n",
       "      <td>2</td>\n",
       "      <td>1</td>\n",
       "      <td>1</td>\n",
       "      <td>Cumings, Mrs. John Bradley (Florence Briggs Th...</td>\n",
       "      <td>female</td>\n",
       "      <td>38.0</td>\n",
       "      <td>1</td>\n",
       "      <td>0</td>\n",
       "      <td>PC 17599</td>\n",
       "      <td>71.2833</td>\n",
       "      <td>C85</td>\n",
       "      <td>C</td>\n",
       "    </tr>\n",
       "    <tr>\n",
       "      <th>2</th>\n",
       "      <td>3</td>\n",
       "      <td>1</td>\n",
       "      <td>3</td>\n",
       "      <td>Heikkinen, Miss. Laina</td>\n",
       "      <td>female</td>\n",
       "      <td>26.0</td>\n",
       "      <td>0</td>\n",
       "      <td>0</td>\n",
       "      <td>STON/O2. 3101282</td>\n",
       "      <td>7.9250</td>\n",
       "      <td>NaN</td>\n",
       "      <td>S</td>\n",
       "    </tr>\n",
       "    <tr>\n",
       "      <th>3</th>\n",
       "      <td>4</td>\n",
       "      <td>1</td>\n",
       "      <td>1</td>\n",
       "      <td>Futrelle, Mrs. Jacques Heath (Lily May Peel)</td>\n",
       "      <td>female</td>\n",
       "      <td>35.0</td>\n",
       "      <td>1</td>\n",
       "      <td>0</td>\n",
       "      <td>113803</td>\n",
       "      <td>53.1000</td>\n",
       "      <td>C123</td>\n",
       "      <td>S</td>\n",
       "    </tr>\n",
       "    <tr>\n",
       "      <th>4</th>\n",
       "      <td>5</td>\n",
       "      <td>0</td>\n",
       "      <td>3</td>\n",
       "      <td>Allen, Mr. William Henry</td>\n",
       "      <td>male</td>\n",
       "      <td>35.0</td>\n",
       "      <td>0</td>\n",
       "      <td>0</td>\n",
       "      <td>373450</td>\n",
       "      <td>8.0500</td>\n",
       "      <td>NaN</td>\n",
       "      <td>S</td>\n",
       "    </tr>\n",
       "  </tbody>\n",
       "</table>\n",
       "</div>"
      ],
      "text/plain": [
       "   PassengerId  Survived  Pclass  \\\n",
       "0            1         0       3   \n",
       "1            2         1       1   \n",
       "2            3         1       3   \n",
       "3            4         1       1   \n",
       "4            5         0       3   \n",
       "\n",
       "                                                Name     Sex   Age  SibSp  \\\n",
       "0                            Braund, Mr. Owen Harris    male  22.0      1   \n",
       "1  Cumings, Mrs. John Bradley (Florence Briggs Th...  female  38.0      1   \n",
       "2                             Heikkinen, Miss. Laina  female  26.0      0   \n",
       "3       Futrelle, Mrs. Jacques Heath (Lily May Peel)  female  35.0      1   \n",
       "4                           Allen, Mr. William Henry    male  35.0      0   \n",
       "\n",
       "   Parch            Ticket     Fare Cabin Embarked  \n",
       "0      0         A/5 21171   7.2500   NaN        S  \n",
       "1      0          PC 17599  71.2833   C85        C  \n",
       "2      0  STON/O2. 3101282   7.9250   NaN        S  \n",
       "3      0            113803  53.1000  C123        S  \n",
       "4      0            373450   8.0500   NaN        S  "
      ]
     },
     "execution_count": 13,
     "metadata": {},
     "output_type": "execute_result"
    }
   ],
   "source": [
    "titRawDf = pd.read_csv('./data/analysis/train.csv')\n",
    "titRawDf.head()"
   ]
  },
  {
   "cell_type": "code",
   "execution_count": 14,
   "metadata": {
    "scrolled": true,
    "slideshow": {
     "slide_type": "fragment"
    }
   },
   "outputs": [
    {
     "data": {
      "text/html": [
       "<div>\n",
       "<style scoped>\n",
       "    .dataframe tbody tr th:only-of-type {\n",
       "        vertical-align: middle;\n",
       "    }\n",
       "\n",
       "    .dataframe tbody tr th {\n",
       "        vertical-align: top;\n",
       "    }\n",
       "\n",
       "    .dataframe thead th {\n",
       "        text-align: right;\n",
       "    }\n",
       "</style>\n",
       "<table border=\"1\" class=\"dataframe\">\n",
       "  <thead>\n",
       "    <tr style=\"text-align: right;\">\n",
       "      <th></th>\n",
       "      <th>Pclass</th>\n",
       "      <th>Sex</th>\n",
       "      <th>Age</th>\n",
       "      <th>SibSp</th>\n",
       "      <th>Parch</th>\n",
       "      <th>Fare</th>\n",
       "      <th>Embarked</th>\n",
       "      <th>Survived</th>\n",
       "    </tr>\n",
       "    <tr>\n",
       "      <th>PassengerId</th>\n",
       "      <th></th>\n",
       "      <th></th>\n",
       "      <th></th>\n",
       "      <th></th>\n",
       "      <th></th>\n",
       "      <th></th>\n",
       "      <th></th>\n",
       "      <th></th>\n",
       "    </tr>\n",
       "  </thead>\n",
       "  <tbody>\n",
       "    <tr>\n",
       "      <th>1</th>\n",
       "      <td>3</td>\n",
       "      <td>male</td>\n",
       "      <td>22.0</td>\n",
       "      <td>1</td>\n",
       "      <td>0</td>\n",
       "      <td>7.2500</td>\n",
       "      <td>S</td>\n",
       "      <td>0</td>\n",
       "    </tr>\n",
       "    <tr>\n",
       "      <th>2</th>\n",
       "      <td>1</td>\n",
       "      <td>female</td>\n",
       "      <td>38.0</td>\n",
       "      <td>1</td>\n",
       "      <td>0</td>\n",
       "      <td>71.2833</td>\n",
       "      <td>C</td>\n",
       "      <td>1</td>\n",
       "    </tr>\n",
       "    <tr>\n",
       "      <th>3</th>\n",
       "      <td>3</td>\n",
       "      <td>female</td>\n",
       "      <td>26.0</td>\n",
       "      <td>0</td>\n",
       "      <td>0</td>\n",
       "      <td>7.9250</td>\n",
       "      <td>S</td>\n",
       "      <td>1</td>\n",
       "    </tr>\n",
       "    <tr>\n",
       "      <th>4</th>\n",
       "      <td>1</td>\n",
       "      <td>female</td>\n",
       "      <td>35.0</td>\n",
       "      <td>1</td>\n",
       "      <td>0</td>\n",
       "      <td>53.1000</td>\n",
       "      <td>S</td>\n",
       "      <td>1</td>\n",
       "    </tr>\n",
       "    <tr>\n",
       "      <th>5</th>\n",
       "      <td>3</td>\n",
       "      <td>male</td>\n",
       "      <td>35.0</td>\n",
       "      <td>0</td>\n",
       "      <td>0</td>\n",
       "      <td>8.0500</td>\n",
       "      <td>S</td>\n",
       "      <td>0</td>\n",
       "    </tr>\n",
       "  </tbody>\n",
       "</table>\n",
       "</div>"
      ],
      "text/plain": [
       "             Pclass     Sex   Age  SibSp  Parch     Fare Embarked  Survived\n",
       "PassengerId                                                                \n",
       "1                 3    male  22.0      1      0   7.2500        S         0\n",
       "2                 1  female  38.0      1      0  71.2833        C         1\n",
       "3                 3  female  26.0      0      0   7.9250        S         1\n",
       "4                 1  female  35.0      1      0  53.1000        S         1\n",
       "5                 3    male  35.0      0      0   8.0500        S         0"
      ]
     },
     "execution_count": 14,
     "metadata": {},
     "output_type": "execute_result"
    }
   ],
   "source": [
    "titDf = titRawDf.loc[:,['PassengerId','Pclass','Sex','Age','SibSp','Parch','Fare','Embarked','Survived']]\n",
    "titDf.set_index('PassengerId',inplace=True)\n",
    "titDf.head()"
   ]
  },
  {
   "cell_type": "markdown",
   "metadata": {
    "slideshow": {
     "slide_type": "slide"
    }
   },
   "source": [
    "#### 数据预处理"
   ]
  },
  {
   "cell_type": "markdown",
   "metadata": {
    "slideshow": {
     "slide_type": "fragment"
    }
   },
   "source": [
    "##### 删除包含缺失值的行"
   ]
  },
  {
   "cell_type": "code",
   "execution_count": 15,
   "metadata": {
    "scrolled": true,
    "slideshow": {
     "slide_type": "fragment"
    }
   },
   "outputs": [],
   "source": [
    "titDf.dropna(axis=0,how='any',inplace=True)"
   ]
  },
  {
   "cell_type": "markdown",
   "metadata": {
    "slideshow": {
     "slide_type": "slide"
    }
   },
   "source": [
    "##### one-hot编码"
   ]
  },
  {
   "cell_type": "code",
   "execution_count": 16,
   "metadata": {
    "scrolled": true,
    "slideshow": {
     "slide_type": "fragment"
    }
   },
   "outputs": [
    {
     "data": {
      "text/plain": [
       "Pclass        int64\n",
       "Sex          object\n",
       "Age         float64\n",
       "SibSp         int64\n",
       "Parch         int64\n",
       "Fare        float64\n",
       "Embarked     object\n",
       "Survived      int64\n",
       "dtype: object"
      ]
     },
     "execution_count": 16,
     "metadata": {},
     "output_type": "execute_result"
    }
   ],
   "source": [
    "titDf.dtypes"
   ]
  },
  {
   "cell_type": "code",
   "execution_count": 17,
   "metadata": {
    "slideshow": {
     "slide_type": "fragment"
    }
   },
   "outputs": [
    {
     "data": {
      "text/html": [
       "<div>\n",
       "<style scoped>\n",
       "    .dataframe tbody tr th:only-of-type {\n",
       "        vertical-align: middle;\n",
       "    }\n",
       "\n",
       "    .dataframe tbody tr th {\n",
       "        vertical-align: top;\n",
       "    }\n",
       "\n",
       "    .dataframe thead th {\n",
       "        text-align: right;\n",
       "    }\n",
       "</style>\n",
       "<table border=\"1\" class=\"dataframe\">\n",
       "  <thead>\n",
       "    <tr style=\"text-align: right;\">\n",
       "      <th></th>\n",
       "      <th>Pclass</th>\n",
       "      <th>Sex</th>\n",
       "      <th>Age</th>\n",
       "      <th>SibSp</th>\n",
       "      <th>Parch</th>\n",
       "      <th>Fare</th>\n",
       "      <th>Embarked</th>\n",
       "    </tr>\n",
       "    <tr>\n",
       "      <th>PassengerId</th>\n",
       "      <th></th>\n",
       "      <th></th>\n",
       "      <th></th>\n",
       "      <th></th>\n",
       "      <th></th>\n",
       "      <th></th>\n",
       "      <th></th>\n",
       "    </tr>\n",
       "  </thead>\n",
       "  <tbody>\n",
       "    <tr>\n",
       "      <th>1</th>\n",
       "      <td>3</td>\n",
       "      <td>male</td>\n",
       "      <td>22.0</td>\n",
       "      <td>1</td>\n",
       "      <td>0</td>\n",
       "      <td>7.2500</td>\n",
       "      <td>S</td>\n",
       "    </tr>\n",
       "    <tr>\n",
       "      <th>2</th>\n",
       "      <td>1</td>\n",
       "      <td>female</td>\n",
       "      <td>38.0</td>\n",
       "      <td>1</td>\n",
       "      <td>0</td>\n",
       "      <td>71.2833</td>\n",
       "      <td>C</td>\n",
       "    </tr>\n",
       "    <tr>\n",
       "      <th>3</th>\n",
       "      <td>3</td>\n",
       "      <td>female</td>\n",
       "      <td>26.0</td>\n",
       "      <td>0</td>\n",
       "      <td>0</td>\n",
       "      <td>7.9250</td>\n",
       "      <td>S</td>\n",
       "    </tr>\n",
       "    <tr>\n",
       "      <th>4</th>\n",
       "      <td>1</td>\n",
       "      <td>female</td>\n",
       "      <td>35.0</td>\n",
       "      <td>1</td>\n",
       "      <td>0</td>\n",
       "      <td>53.1000</td>\n",
       "      <td>S</td>\n",
       "    </tr>\n",
       "    <tr>\n",
       "      <th>5</th>\n",
       "      <td>3</td>\n",
       "      <td>male</td>\n",
       "      <td>35.0</td>\n",
       "      <td>0</td>\n",
       "      <td>0</td>\n",
       "      <td>8.0500</td>\n",
       "      <td>S</td>\n",
       "    </tr>\n",
       "  </tbody>\n",
       "</table>\n",
       "</div>"
      ],
      "text/plain": [
       "             Pclass     Sex   Age  SibSp  Parch     Fare Embarked\n",
       "PassengerId                                                      \n",
       "1                 3    male  22.0      1      0   7.2500        S\n",
       "2                 1  female  38.0      1      0  71.2833        C\n",
       "3                 3  female  26.0      0      0   7.9250        S\n",
       "4                 1  female  35.0      1      0  53.1000        S\n",
       "5                 3    male  35.0      0      0   8.0500        S"
      ]
     },
     "execution_count": 17,
     "metadata": {},
     "output_type": "execute_result"
    }
   ],
   "source": [
    "titX = titDf.iloc[:,:-1]\n",
    "titY = titDf['Survived']\n",
    "titX.head()"
   ]
  },
  {
   "cell_type": "code",
   "execution_count": 18,
   "metadata": {
    "slideshow": {
     "slide_type": "fragment"
    }
   },
   "outputs": [
    {
     "data": {
      "text/html": [
       "<div>\n",
       "<style scoped>\n",
       "    .dataframe tbody tr th:only-of-type {\n",
       "        vertical-align: middle;\n",
       "    }\n",
       "\n",
       "    .dataframe tbody tr th {\n",
       "        vertical-align: top;\n",
       "    }\n",
       "\n",
       "    .dataframe thead th {\n",
       "        text-align: right;\n",
       "    }\n",
       "</style>\n",
       "<table border=\"1\" class=\"dataframe\">\n",
       "  <thead>\n",
       "    <tr style=\"text-align: right;\">\n",
       "      <th></th>\n",
       "      <th>Pclass</th>\n",
       "      <th>Age</th>\n",
       "      <th>SibSp</th>\n",
       "      <th>Parch</th>\n",
       "      <th>Fare</th>\n",
       "      <th>Sex_female</th>\n",
       "      <th>Sex_male</th>\n",
       "      <th>Embarked_C</th>\n",
       "      <th>Embarked_Q</th>\n",
       "      <th>Embarked_S</th>\n",
       "    </tr>\n",
       "    <tr>\n",
       "      <th>PassengerId</th>\n",
       "      <th></th>\n",
       "      <th></th>\n",
       "      <th></th>\n",
       "      <th></th>\n",
       "      <th></th>\n",
       "      <th></th>\n",
       "      <th></th>\n",
       "      <th></th>\n",
       "      <th></th>\n",
       "      <th></th>\n",
       "    </tr>\n",
       "  </thead>\n",
       "  <tbody>\n",
       "    <tr>\n",
       "      <th>1</th>\n",
       "      <td>3</td>\n",
       "      <td>22.0</td>\n",
       "      <td>1</td>\n",
       "      <td>0</td>\n",
       "      <td>7.2500</td>\n",
       "      <td>0</td>\n",
       "      <td>1</td>\n",
       "      <td>0</td>\n",
       "      <td>0</td>\n",
       "      <td>1</td>\n",
       "    </tr>\n",
       "    <tr>\n",
       "      <th>2</th>\n",
       "      <td>1</td>\n",
       "      <td>38.0</td>\n",
       "      <td>1</td>\n",
       "      <td>0</td>\n",
       "      <td>71.2833</td>\n",
       "      <td>1</td>\n",
       "      <td>0</td>\n",
       "      <td>1</td>\n",
       "      <td>0</td>\n",
       "      <td>0</td>\n",
       "    </tr>\n",
       "    <tr>\n",
       "      <th>3</th>\n",
       "      <td>3</td>\n",
       "      <td>26.0</td>\n",
       "      <td>0</td>\n",
       "      <td>0</td>\n",
       "      <td>7.9250</td>\n",
       "      <td>1</td>\n",
       "      <td>0</td>\n",
       "      <td>0</td>\n",
       "      <td>0</td>\n",
       "      <td>1</td>\n",
       "    </tr>\n",
       "    <tr>\n",
       "      <th>4</th>\n",
       "      <td>1</td>\n",
       "      <td>35.0</td>\n",
       "      <td>1</td>\n",
       "      <td>0</td>\n",
       "      <td>53.1000</td>\n",
       "      <td>1</td>\n",
       "      <td>0</td>\n",
       "      <td>0</td>\n",
       "      <td>0</td>\n",
       "      <td>1</td>\n",
       "    </tr>\n",
       "    <tr>\n",
       "      <th>5</th>\n",
       "      <td>3</td>\n",
       "      <td>35.0</td>\n",
       "      <td>0</td>\n",
       "      <td>0</td>\n",
       "      <td>8.0500</td>\n",
       "      <td>0</td>\n",
       "      <td>1</td>\n",
       "      <td>0</td>\n",
       "      <td>0</td>\n",
       "      <td>1</td>\n",
       "    </tr>\n",
       "  </tbody>\n",
       "</table>\n",
       "</div>"
      ],
      "text/plain": [
       "             Pclass   Age  SibSp  Parch     Fare  Sex_female  Sex_male  \\\n",
       "PassengerId                                                              \n",
       "1                 3  22.0      1      0   7.2500           0         1   \n",
       "2                 1  38.0      1      0  71.2833           1         0   \n",
       "3                 3  26.0      0      0   7.9250           1         0   \n",
       "4                 1  35.0      1      0  53.1000           1         0   \n",
       "5                 3  35.0      0      0   8.0500           0         1   \n",
       "\n",
       "             Embarked_C  Embarked_Q  Embarked_S  \n",
       "PassengerId                                      \n",
       "1                     0           0           1  \n",
       "2                     1           0           0  \n",
       "3                     0           0           1  \n",
       "4                     0           0           1  \n",
       "5                     0           0           1  "
      ]
     },
     "execution_count": 18,
     "metadata": {},
     "output_type": "execute_result"
    }
   ],
   "source": [
    "titXOH = pd.get_dummies(titX,columns=['Sex','Embarked'])\n",
    "titXOH.head()"
   ]
  },
  {
   "cell_type": "markdown",
   "metadata": {
    "slideshow": {
     "slide_type": "slide"
    }
   },
   "source": [
    "#### 分割训练集与测试集"
   ]
  },
  {
   "cell_type": "markdown",
   "metadata": {
    "slideshow": {
     "slide_type": "fragment"
    }
   },
   "source": [
    "```python\n",
    "from sklearn.model_selection import train_test_split\n",
    "train_test_split(*arrays, test_size=0.25)\n",
    "```"
   ]
  },
  {
   "cell_type": "markdown",
   "metadata": {
    "slideshow": {
     "slide_type": "fragment"
    }
   },
   "source": [
    "- `*arrays`：需要被划分的数据集，可以是`lists`类型、`numpy.arrays`类型，`pandas.DataFrame`类型"
   ]
  },
  {
   "cell_type": "markdown",
   "metadata": {
    "slideshow": {
     "slide_type": "fragment"
    }
   },
   "source": [
    "- `test_size`：检验集的规模\n",
    "    + `float`类型，取值范围`[0,1]`，表示检验集占原数据集的比例\n",
    "    + `int`类型，表示检验集包含的数据记录的绝对数量\n",
    "    + 默认为0.25"
   ]
  },
  {
   "cell_type": "markdown",
   "metadata": {
    "slideshow": {
     "slide_type": "fragment"
    }
   },
   "source": [
    "- 返回值：分割好的训练集与检验集，与输入的`*array`的类型相同"
   ]
  },
  {
   "cell_type": "code",
   "execution_count": 19,
   "metadata": {
    "slideshow": {
     "slide_type": "fragment"
    }
   },
   "outputs": [],
   "source": [
    "from sklearn.model_selection import train_test_split"
   ]
  },
  {
   "cell_type": "code",
   "execution_count": 20,
   "metadata": {
    "collapsed": true,
    "slideshow": {
     "slide_type": "fragment"
    }
   },
   "outputs": [
    {
     "data": {
      "text/html": [
       "<div>\n",
       "<style scoped>\n",
       "    .dataframe tbody tr th:only-of-type {\n",
       "        vertical-align: middle;\n",
       "    }\n",
       "\n",
       "    .dataframe tbody tr th {\n",
       "        vertical-align: top;\n",
       "    }\n",
       "\n",
       "    .dataframe thead th {\n",
       "        text-align: right;\n",
       "    }\n",
       "</style>\n",
       "<table border=\"1\" class=\"dataframe\">\n",
       "  <thead>\n",
       "    <tr style=\"text-align: right;\">\n",
       "      <th></th>\n",
       "      <th>Pclass</th>\n",
       "      <th>Age</th>\n",
       "      <th>SibSp</th>\n",
       "      <th>Parch</th>\n",
       "      <th>Fare</th>\n",
       "      <th>Sex_female</th>\n",
       "      <th>Sex_male</th>\n",
       "      <th>Embarked_C</th>\n",
       "      <th>Embarked_Q</th>\n",
       "      <th>Embarked_S</th>\n",
       "    </tr>\n",
       "    <tr>\n",
       "      <th>PassengerId</th>\n",
       "      <th></th>\n",
       "      <th></th>\n",
       "      <th></th>\n",
       "      <th></th>\n",
       "      <th></th>\n",
       "      <th></th>\n",
       "      <th></th>\n",
       "      <th></th>\n",
       "      <th></th>\n",
       "      <th></th>\n",
       "    </tr>\n",
       "  </thead>\n",
       "  <tbody>\n",
       "    <tr>\n",
       "      <th>765</th>\n",
       "      <td>3</td>\n",
       "      <td>16.00</td>\n",
       "      <td>0</td>\n",
       "      <td>0</td>\n",
       "      <td>7.7750</td>\n",
       "      <td>0</td>\n",
       "      <td>1</td>\n",
       "      <td>0</td>\n",
       "      <td>0</td>\n",
       "      <td>1</td>\n",
       "    </tr>\n",
       "    <tr>\n",
       "      <th>658</th>\n",
       "      <td>3</td>\n",
       "      <td>32.00</td>\n",
       "      <td>1</td>\n",
       "      <td>1</td>\n",
       "      <td>15.5000</td>\n",
       "      <td>1</td>\n",
       "      <td>0</td>\n",
       "      <td>0</td>\n",
       "      <td>1</td>\n",
       "      <td>0</td>\n",
       "    </tr>\n",
       "    <tr>\n",
       "      <th>804</th>\n",
       "      <td>3</td>\n",
       "      <td>0.42</td>\n",
       "      <td>0</td>\n",
       "      <td>1</td>\n",
       "      <td>8.5167</td>\n",
       "      <td>0</td>\n",
       "      <td>1</td>\n",
       "      <td>1</td>\n",
       "      <td>0</td>\n",
       "      <td>0</td>\n",
       "    </tr>\n",
       "    <tr>\n",
       "      <th>685</th>\n",
       "      <td>2</td>\n",
       "      <td>60.00</td>\n",
       "      <td>1</td>\n",
       "      <td>1</td>\n",
       "      <td>39.0000</td>\n",
       "      <td>0</td>\n",
       "      <td>1</td>\n",
       "      <td>0</td>\n",
       "      <td>0</td>\n",
       "      <td>1</td>\n",
       "    </tr>\n",
       "    <tr>\n",
       "      <th>705</th>\n",
       "      <td>3</td>\n",
       "      <td>26.00</td>\n",
       "      <td>1</td>\n",
       "      <td>0</td>\n",
       "      <td>7.8542</td>\n",
       "      <td>0</td>\n",
       "      <td>1</td>\n",
       "      <td>0</td>\n",
       "      <td>0</td>\n",
       "      <td>1</td>\n",
       "    </tr>\n",
       "    <tr>\n",
       "      <th>...</th>\n",
       "      <td>...</td>\n",
       "      <td>...</td>\n",
       "      <td>...</td>\n",
       "      <td>...</td>\n",
       "      <td>...</td>\n",
       "      <td>...</td>\n",
       "      <td>...</td>\n",
       "      <td>...</td>\n",
       "      <td>...</td>\n",
       "      <td>...</td>\n",
       "    </tr>\n",
       "    <tr>\n",
       "      <th>871</th>\n",
       "      <td>3</td>\n",
       "      <td>26.00</td>\n",
       "      <td>0</td>\n",
       "      <td>0</td>\n",
       "      <td>7.8958</td>\n",
       "      <td>0</td>\n",
       "      <td>1</td>\n",
       "      <td>0</td>\n",
       "      <td>0</td>\n",
       "      <td>1</td>\n",
       "    </tr>\n",
       "    <tr>\n",
       "      <th>513</th>\n",
       "      <td>1</td>\n",
       "      <td>36.00</td>\n",
       "      <td>0</td>\n",
       "      <td>0</td>\n",
       "      <td>26.2875</td>\n",
       "      <td>0</td>\n",
       "      <td>1</td>\n",
       "      <td>0</td>\n",
       "      <td>0</td>\n",
       "      <td>1</td>\n",
       "    </tr>\n",
       "    <tr>\n",
       "      <th>147</th>\n",
       "      <td>3</td>\n",
       "      <td>27.00</td>\n",
       "      <td>0</td>\n",
       "      <td>0</td>\n",
       "      <td>7.7958</td>\n",
       "      <td>0</td>\n",
       "      <td>1</td>\n",
       "      <td>0</td>\n",
       "      <td>0</td>\n",
       "      <td>1</td>\n",
       "    </tr>\n",
       "    <tr>\n",
       "      <th>364</th>\n",
       "      <td>3</td>\n",
       "      <td>35.00</td>\n",
       "      <td>0</td>\n",
       "      <td>0</td>\n",
       "      <td>7.0500</td>\n",
       "      <td>0</td>\n",
       "      <td>1</td>\n",
       "      <td>0</td>\n",
       "      <td>0</td>\n",
       "      <td>1</td>\n",
       "    </tr>\n",
       "    <tr>\n",
       "      <th>404</th>\n",
       "      <td>3</td>\n",
       "      <td>28.00</td>\n",
       "      <td>1</td>\n",
       "      <td>0</td>\n",
       "      <td>15.8500</td>\n",
       "      <td>0</td>\n",
       "      <td>1</td>\n",
       "      <td>0</td>\n",
       "      <td>0</td>\n",
       "      <td>1</td>\n",
       "    </tr>\n",
       "  </tbody>\n",
       "</table>\n",
       "<p>534 rows × 10 columns</p>\n",
       "</div>"
      ],
      "text/plain": [
       "             Pclass    Age  SibSp  Parch     Fare  Sex_female  Sex_male  \\\n",
       "PassengerId                                                               \n",
       "765               3  16.00      0      0   7.7750           0         1   \n",
       "658               3  32.00      1      1  15.5000           1         0   \n",
       "804               3   0.42      0      1   8.5167           0         1   \n",
       "685               2  60.00      1      1  39.0000           0         1   \n",
       "705               3  26.00      1      0   7.8542           0         1   \n",
       "...             ...    ...    ...    ...      ...         ...       ...   \n",
       "871               3  26.00      0      0   7.8958           0         1   \n",
       "513               1  36.00      0      0  26.2875           0         1   \n",
       "147               3  27.00      0      0   7.7958           0         1   \n",
       "364               3  35.00      0      0   7.0500           0         1   \n",
       "404               3  28.00      1      0  15.8500           0         1   \n",
       "\n",
       "             Embarked_C  Embarked_Q  Embarked_S  \n",
       "PassengerId                                      \n",
       "765                   0           0           1  \n",
       "658                   0           1           0  \n",
       "804                   1           0           0  \n",
       "685                   0           0           1  \n",
       "705                   0           0           1  \n",
       "...                 ...         ...         ...  \n",
       "871                   0           0           1  \n",
       "513                   0           0           1  \n",
       "147                   0           0           1  \n",
       "364                   0           0           1  \n",
       "404                   0           0           1  \n",
       "\n",
       "[534 rows x 10 columns]"
      ]
     },
     "execution_count": 20,
     "metadata": {},
     "output_type": "execute_result"
    },
    {
     "data": {
      "text/html": [
       "<div>\n",
       "<style scoped>\n",
       "    .dataframe tbody tr th:only-of-type {\n",
       "        vertical-align: middle;\n",
       "    }\n",
       "\n",
       "    .dataframe tbody tr th {\n",
       "        vertical-align: top;\n",
       "    }\n",
       "\n",
       "    .dataframe thead th {\n",
       "        text-align: right;\n",
       "    }\n",
       "</style>\n",
       "<table border=\"1\" class=\"dataframe\">\n",
       "  <thead>\n",
       "    <tr style=\"text-align: right;\">\n",
       "      <th></th>\n",
       "      <th>Pclass</th>\n",
       "      <th>Age</th>\n",
       "      <th>SibSp</th>\n",
       "      <th>Parch</th>\n",
       "      <th>Fare</th>\n",
       "      <th>Sex_female</th>\n",
       "      <th>Sex_male</th>\n",
       "      <th>Embarked_C</th>\n",
       "      <th>Embarked_Q</th>\n",
       "      <th>Embarked_S</th>\n",
       "    </tr>\n",
       "    <tr>\n",
       "      <th>PassengerId</th>\n",
       "      <th></th>\n",
       "      <th></th>\n",
       "      <th></th>\n",
       "      <th></th>\n",
       "      <th></th>\n",
       "      <th></th>\n",
       "      <th></th>\n",
       "      <th></th>\n",
       "      <th></th>\n",
       "      <th></th>\n",
       "    </tr>\n",
       "  </thead>\n",
       "  <tbody>\n",
       "    <tr>\n",
       "      <th>817</th>\n",
       "      <td>3</td>\n",
       "      <td>23.0</td>\n",
       "      <td>0</td>\n",
       "      <td>0</td>\n",
       "      <td>7.9250</td>\n",
       "      <td>1</td>\n",
       "      <td>0</td>\n",
       "      <td>0</td>\n",
       "      <td>0</td>\n",
       "      <td>1</td>\n",
       "    </tr>\n",
       "    <tr>\n",
       "      <th>398</th>\n",
       "      <td>2</td>\n",
       "      <td>46.0</td>\n",
       "      <td>0</td>\n",
       "      <td>0</td>\n",
       "      <td>26.0000</td>\n",
       "      <td>0</td>\n",
       "      <td>1</td>\n",
       "      <td>0</td>\n",
       "      <td>0</td>\n",
       "      <td>1</td>\n",
       "    </tr>\n",
       "    <tr>\n",
       "      <th>413</th>\n",
       "      <td>1</td>\n",
       "      <td>33.0</td>\n",
       "      <td>1</td>\n",
       "      <td>0</td>\n",
       "      <td>90.0000</td>\n",
       "      <td>1</td>\n",
       "      <td>0</td>\n",
       "      <td>0</td>\n",
       "      <td>1</td>\n",
       "      <td>0</td>\n",
       "    </tr>\n",
       "    <tr>\n",
       "      <th>54</th>\n",
       "      <td>2</td>\n",
       "      <td>29.0</td>\n",
       "      <td>1</td>\n",
       "      <td>0</td>\n",
       "      <td>26.0000</td>\n",
       "      <td>1</td>\n",
       "      <td>0</td>\n",
       "      <td>0</td>\n",
       "      <td>0</td>\n",
       "      <td>1</td>\n",
       "    </tr>\n",
       "    <tr>\n",
       "      <th>828</th>\n",
       "      <td>2</td>\n",
       "      <td>1.0</td>\n",
       "      <td>0</td>\n",
       "      <td>2</td>\n",
       "      <td>37.0042</td>\n",
       "      <td>0</td>\n",
       "      <td>1</td>\n",
       "      <td>1</td>\n",
       "      <td>0</td>\n",
       "      <td>0</td>\n",
       "    </tr>\n",
       "    <tr>\n",
       "      <th>...</th>\n",
       "      <td>...</td>\n",
       "      <td>...</td>\n",
       "      <td>...</td>\n",
       "      <td>...</td>\n",
       "      <td>...</td>\n",
       "      <td>...</td>\n",
       "      <td>...</td>\n",
       "      <td>...</td>\n",
       "      <td>...</td>\n",
       "      <td>...</td>\n",
       "    </tr>\n",
       "    <tr>\n",
       "      <th>180</th>\n",
       "      <td>3</td>\n",
       "      <td>36.0</td>\n",
       "      <td>0</td>\n",
       "      <td>0</td>\n",
       "      <td>0.0000</td>\n",
       "      <td>0</td>\n",
       "      <td>1</td>\n",
       "      <td>0</td>\n",
       "      <td>0</td>\n",
       "      <td>1</td>\n",
       "    </tr>\n",
       "    <tr>\n",
       "      <th>289</th>\n",
       "      <td>2</td>\n",
       "      <td>42.0</td>\n",
       "      <td>0</td>\n",
       "      <td>0</td>\n",
       "      <td>13.0000</td>\n",
       "      <td>0</td>\n",
       "      <td>1</td>\n",
       "      <td>0</td>\n",
       "      <td>0</td>\n",
       "      <td>1</td>\n",
       "    </tr>\n",
       "    <tr>\n",
       "      <th>867</th>\n",
       "      <td>2</td>\n",
       "      <td>27.0</td>\n",
       "      <td>1</td>\n",
       "      <td>0</td>\n",
       "      <td>13.8583</td>\n",
       "      <td>1</td>\n",
       "      <td>0</td>\n",
       "      <td>1</td>\n",
       "      <td>0</td>\n",
       "      <td>0</td>\n",
       "    </tr>\n",
       "    <tr>\n",
       "      <th>663</th>\n",
       "      <td>1</td>\n",
       "      <td>47.0</td>\n",
       "      <td>0</td>\n",
       "      <td>0</td>\n",
       "      <td>25.5875</td>\n",
       "      <td>0</td>\n",
       "      <td>1</td>\n",
       "      <td>0</td>\n",
       "      <td>0</td>\n",
       "      <td>1</td>\n",
       "    </tr>\n",
       "    <tr>\n",
       "      <th>223</th>\n",
       "      <td>3</td>\n",
       "      <td>51.0</td>\n",
       "      <td>0</td>\n",
       "      <td>0</td>\n",
       "      <td>8.0500</td>\n",
       "      <td>0</td>\n",
       "      <td>1</td>\n",
       "      <td>0</td>\n",
       "      <td>0</td>\n",
       "      <td>1</td>\n",
       "    </tr>\n",
       "  </tbody>\n",
       "</table>\n",
       "<p>178 rows × 10 columns</p>\n",
       "</div>"
      ],
      "text/plain": [
       "             Pclass   Age  SibSp  Parch     Fare  Sex_female  Sex_male  \\\n",
       "PassengerId                                                              \n",
       "817               3  23.0      0      0   7.9250           1         0   \n",
       "398               2  46.0      0      0  26.0000           0         1   \n",
       "413               1  33.0      1      0  90.0000           1         0   \n",
       "54                2  29.0      1      0  26.0000           1         0   \n",
       "828               2   1.0      0      2  37.0042           0         1   \n",
       "...             ...   ...    ...    ...      ...         ...       ...   \n",
       "180               3  36.0      0      0   0.0000           0         1   \n",
       "289               2  42.0      0      0  13.0000           0         1   \n",
       "867               2  27.0      1      0  13.8583           1         0   \n",
       "663               1  47.0      0      0  25.5875           0         1   \n",
       "223               3  51.0      0      0   8.0500           0         1   \n",
       "\n",
       "             Embarked_C  Embarked_Q  Embarked_S  \n",
       "PassengerId                                      \n",
       "817                   0           0           1  \n",
       "398                   0           0           1  \n",
       "413                   0           1           0  \n",
       "54                    0           0           1  \n",
       "828                   1           0           0  \n",
       "...                 ...         ...         ...  \n",
       "180                   0           0           1  \n",
       "289                   0           0           1  \n",
       "867                   1           0           0  \n",
       "663                   0           0           1  \n",
       "223                   0           0           1  \n",
       "\n",
       "[178 rows x 10 columns]"
      ]
     },
     "execution_count": 20,
     "metadata": {},
     "output_type": "execute_result"
    },
    {
     "data": {
      "text/plain": [
       "0    322\n",
       "1    212\n",
       "Name: Survived, dtype: int64"
      ]
     },
     "execution_count": 20,
     "metadata": {},
     "output_type": "execute_result"
    },
    {
     "data": {
      "text/plain": [
       "0    102\n",
       "1     76\n",
       "Name: Survived, dtype: int64"
      ]
     },
     "execution_count": 20,
     "metadata": {},
     "output_type": "execute_result"
    }
   ],
   "source": [
    "titTrainX,titTestX,titTrainY,titTestY = train_test_split(titXOH,titY)\n",
    "titTrainX\n",
    "titTestX\n",
    "titTrainY.value_counts()\n",
    "titTestY.value_counts()"
   ]
  },
  {
   "cell_type": "markdown",
   "metadata": {
    "slideshow": {
     "slide_type": "slide"
    }
   },
   "source": [
    "#### 建立决策树模型"
   ]
  },
  {
   "cell_type": "code",
   "execution_count": 21,
   "metadata": {
    "slideshow": {
     "slide_type": "fragment"
    }
   },
   "outputs": [],
   "source": [
    "titDt = tree.DecisionTreeClassifier(random_state=10)"
   ]
  },
  {
   "cell_type": "markdown",
   "metadata": {
    "slideshow": {
     "slide_type": "fragment"
    }
   },
   "source": [
    "#### 在训练集上训练模型"
   ]
  },
  {
   "cell_type": "code",
   "execution_count": 22,
   "metadata": {
    "scrolled": false,
    "slideshow": {
     "slide_type": "fragment"
    }
   },
   "outputs": [
    {
     "data": {
      "text/plain": [
       "DecisionTreeClassifier(random_state=10)"
      ]
     },
     "execution_count": 22,
     "metadata": {},
     "output_type": "execute_result"
    }
   ],
   "source": [
    "titDt.fit(titTrainX,titTrainY)"
   ]
  },
  {
   "cell_type": "markdown",
   "metadata": {
    "slideshow": {
     "slide_type": "slide"
    }
   },
   "source": [
    "#### 可视化决策树"
   ]
  },
  {
   "cell_type": "code",
   "execution_count": 23,
   "metadata": {
    "slideshow": {
     "slide_type": "fragment"
    }
   },
   "outputs": [
    {
     "name": "stdout",
     "output_type": "stream",
     "text": [
      "|--- Sex_female <= 0.50\n",
      "|   |--- Age <= 13.00\n",
      "|   |   |--- SibSp <= 2.50\n",
      "|   |   |   |--- Parch <= 0.50\n",
      "|   |   |   |   |--- Fare <= 15.01\n",
      "|   |   |   |   |   |--- class: 1\n",
      "|   |   |   |   |--- Fare >  15.01\n",
      "|   |   |   |   |   |--- class: 0\n",
      "|   |   |   |--- Parch >  0.50\n",
      "|   |   |   |   |--- class: 1\n",
      "|   |   |--- SibSp >  2.50\n",
      "|   |   |   |--- class: 0\n",
      "|   |--- Age >  13.00\n",
      "|   |   |--- Pclass <= 1.50\n",
      "|   |   |   |--- Age <= 53.00\n",
      "|   |   |   |   |--- Fare <= 32.51\n",
      "|   |   |   |   |   |--- Fare <= 15.64\n",
      "|   |   |   |   |   |   |--- class: 0\n",
      "|   |   |   |   |   |--- Fare >  15.64\n",
      "|   |   |   |   |   |   |--- Fare <= 30.25\n",
      "|   |   |   |   |   |   |   |--- Fare <= 27.14\n",
      "|   |   |   |   |   |   |   |   |--- Age <= 40.50\n",
      "|   |   |   |   |   |   |   |   |   |--- class: 1\n",
      "|   |   |   |   |   |   |   |   |--- Age >  40.50\n",
      "|   |   |   |   |   |   |   |   |   |--- Age <= 48.00\n",
      "|   |   |   |   |   |   |   |   |   |   |--- class: 0\n",
      "|   |   |   |   |   |   |   |   |   |--- Age >  48.00\n",
      "|   |   |   |   |   |   |   |   |   |   |--- class: 1\n",
      "|   |   |   |   |   |   |   |--- Fare >  27.14\n",
      "|   |   |   |   |   |   |   |   |--- Age <= 27.50\n",
      "|   |   |   |   |   |   |   |   |   |--- class: 1\n",
      "|   |   |   |   |   |   |   |   |--- Age >  27.50\n",
      "|   |   |   |   |   |   |   |   |   |--- class: 0\n",
      "|   |   |   |   |   |   |--- Fare >  30.25\n",
      "|   |   |   |   |   |   |   |--- class: 1\n",
      "|   |   |   |   |--- Fare >  32.51\n",
      "|   |   |   |   |   |--- Fare <= 387.66\n",
      "|   |   |   |   |   |   |--- Fare <= 134.64\n",
      "|   |   |   |   |   |   |   |--- Fare <= 85.64\n",
      "|   |   |   |   |   |   |   |   |--- Fare <= 77.01\n",
      "|   |   |   |   |   |   |   |   |   |--- Embarked_C <= 0.50\n",
      "|   |   |   |   |   |   |   |   |   |   |--- Parch <= 0.50\n",
      "|   |   |   |   |   |   |   |   |   |   |   |--- truncated branch of depth 5\n",
      "|   |   |   |   |   |   |   |   |   |   |--- Parch >  0.50\n",
      "|   |   |   |   |   |   |   |   |   |   |   |--- class: 1\n",
      "|   |   |   |   |   |   |   |   |   |--- Embarked_C >  0.50\n",
      "|   |   |   |   |   |   |   |   |   |   |--- Age <= 50.00\n",
      "|   |   |   |   |   |   |   |   |   |   |   |--- class: 1\n",
      "|   |   |   |   |   |   |   |   |   |   |--- Age >  50.00\n",
      "|   |   |   |   |   |   |   |   |   |   |   |--- class: 0\n",
      "|   |   |   |   |   |   |   |   |--- Fare >  77.01\n",
      "|   |   |   |   |   |   |   |   |   |--- class: 0\n",
      "|   |   |   |   |   |   |   |--- Fare >  85.64\n",
      "|   |   |   |   |   |   |   |   |--- Embarked_S <= 0.50\n",
      "|   |   |   |   |   |   |   |   |   |--- Age <= 17.50\n",
      "|   |   |   |   |   |   |   |   |   |   |--- class: 1\n",
      "|   |   |   |   |   |   |   |   |   |--- Age >  17.50\n",
      "|   |   |   |   |   |   |   |   |   |   |--- Fare <= 98.75\n",
      "|   |   |   |   |   |   |   |   |   |   |   |--- truncated branch of depth 2\n",
      "|   |   |   |   |   |   |   |   |   |   |--- Fare >  98.75\n",
      "|   |   |   |   |   |   |   |   |   |   |   |--- class: 0\n",
      "|   |   |   |   |   |   |   |   |--- Embarked_S >  0.50\n",
      "|   |   |   |   |   |   |   |   |   |--- class: 1\n",
      "|   |   |   |   |   |   |--- Fare >  134.64\n",
      "|   |   |   |   |   |   |   |--- class: 0\n",
      "|   |   |   |   |   |--- Fare >  387.66\n",
      "|   |   |   |   |   |   |--- class: 1\n",
      "|   |   |   |--- Age >  53.00\n",
      "|   |   |   |   |--- Embarked_C <= 0.50\n",
      "|   |   |   |   |   |--- class: 0\n",
      "|   |   |   |   |--- Embarked_C >  0.50\n",
      "|   |   |   |   |   |--- Fare <= 42.50\n",
      "|   |   |   |   |   |   |--- Fare <= 33.10\n",
      "|   |   |   |   |   |   |   |--- class: 0\n",
      "|   |   |   |   |   |   |--- Fare >  33.10\n",
      "|   |   |   |   |   |   |   |--- class: 1\n",
      "|   |   |   |   |   |--- Fare >  42.50\n",
      "|   |   |   |   |   |   |--- class: 0\n",
      "|   |   |--- Pclass >  1.50\n",
      "|   |   |   |--- Age <= 32.50\n",
      "|   |   |   |   |--- Age <= 31.50\n",
      "|   |   |   |   |   |--- Fare <= 7.01\n",
      "|   |   |   |   |   |   |--- Age <= 22.00\n",
      "|   |   |   |   |   |   |   |--- class: 0\n",
      "|   |   |   |   |   |   |--- Age >  22.00\n",
      "|   |   |   |   |   |   |   |--- class: 1\n",
      "|   |   |   |   |   |--- Fare >  7.01\n",
      "|   |   |   |   |   |   |--- Embarked_C <= 0.50\n",
      "|   |   |   |   |   |   |   |--- Fare <= 11.00\n",
      "|   |   |   |   |   |   |   |   |--- Fare <= 7.91\n",
      "|   |   |   |   |   |   |   |   |   |--- Fare <= 7.80\n",
      "|   |   |   |   |   |   |   |   |   |   |--- Fare <= 7.79\n",
      "|   |   |   |   |   |   |   |   |   |   |   |--- truncated branch of depth 6\n",
      "|   |   |   |   |   |   |   |   |   |   |--- Fare >  7.79\n",
      "|   |   |   |   |   |   |   |   |   |   |   |--- truncated branch of depth 4\n",
      "|   |   |   |   |   |   |   |   |   |--- Fare >  7.80\n",
      "|   |   |   |   |   |   |   |   |   |   |--- class: 0\n",
      "|   |   |   |   |   |   |   |   |--- Fare >  7.91\n",
      "|   |   |   |   |   |   |   |   |   |--- Age <= 30.75\n",
      "|   |   |   |   |   |   |   |   |   |   |--- Age <= 19.50\n",
      "|   |   |   |   |   |   |   |   |   |   |   |--- truncated branch of depth 4\n",
      "|   |   |   |   |   |   |   |   |   |   |--- Age >  19.50\n",
      "|   |   |   |   |   |   |   |   |   |   |   |--- truncated branch of depth 6\n",
      "|   |   |   |   |   |   |   |   |   |--- Age >  30.75\n",
      "|   |   |   |   |   |   |   |   |   |   |--- class: 1\n",
      "|   |   |   |   |   |   |   |--- Fare >  11.00\n",
      "|   |   |   |   |   |   |   |   |--- class: 0\n",
      "|   |   |   |   |   |   |--- Embarked_C >  0.50\n",
      "|   |   |   |   |   |   |   |--- Age <= 29.50\n",
      "|   |   |   |   |   |   |   |   |--- Fare <= 7.56\n",
      "|   |   |   |   |   |   |   |   |   |--- Age <= 21.75\n",
      "|   |   |   |   |   |   |   |   |   |   |--- Parch <= 0.50\n",
      "|   |   |   |   |   |   |   |   |   |   |   |--- class: 1\n",
      "|   |   |   |   |   |   |   |   |   |   |--- Parch >  0.50\n",
      "|   |   |   |   |   |   |   |   |   |   |   |--- class: 0\n",
      "|   |   |   |   |   |   |   |   |   |--- Age >  21.75\n",
      "|   |   |   |   |   |   |   |   |   |   |--- class: 0\n",
      "|   |   |   |   |   |   |   |   |--- Fare >  7.56\n",
      "|   |   |   |   |   |   |   |   |   |--- SibSp <= 0.50\n",
      "|   |   |   |   |   |   |   |   |   |   |--- class: 1\n",
      "|   |   |   |   |   |   |   |   |   |--- SibSp >  0.50\n",
      "|   |   |   |   |   |   |   |   |   |   |--- Age <= 22.50\n",
      "|   |   |   |   |   |   |   |   |   |   |   |--- class: 1\n",
      "|   |   |   |   |   |   |   |   |   |   |--- Age >  22.50\n",
      "|   |   |   |   |   |   |   |   |   |   |   |--- class: 0\n",
      "|   |   |   |   |   |   |   |--- Age >  29.50\n",
      "|   |   |   |   |   |   |   |   |--- class: 0\n",
      "|   |   |   |   |--- Age >  31.50\n",
      "|   |   |   |   |   |--- Fare <= 20.93\n",
      "|   |   |   |   |   |   |--- Fare <= 8.21\n",
      "|   |   |   |   |   |   |   |--- Fare <= 7.99\n",
      "|   |   |   |   |   |   |   |   |--- Fare <= 7.80\n",
      "|   |   |   |   |   |   |   |   |   |--- class: 0\n",
      "|   |   |   |   |   |   |   |   |--- Fare >  7.80\n",
      "|   |   |   |   |   |   |   |   |   |--- Fare <= 7.88\n",
      "|   |   |   |   |   |   |   |   |   |   |--- class: 1\n",
      "|   |   |   |   |   |   |   |   |   |--- Fare >  7.88\n",
      "|   |   |   |   |   |   |   |   |   |   |--- Fare <= 7.91\n",
      "|   |   |   |   |   |   |   |   |   |   |   |--- class: 0\n",
      "|   |   |   |   |   |   |   |   |   |   |--- Fare >  7.91\n",
      "|   |   |   |   |   |   |   |   |   |   |   |--- class: 0\n",
      "|   |   |   |   |   |   |   |--- Fare >  7.99\n",
      "|   |   |   |   |   |   |   |   |--- class: 1\n",
      "|   |   |   |   |   |   |--- Fare >  8.21\n",
      "|   |   |   |   |   |   |   |--- class: 0\n",
      "|   |   |   |   |   |--- Fare >  20.93\n",
      "|   |   |   |   |   |   |--- Fare <= 65.00\n",
      "|   |   |   |   |   |   |   |--- class: 1\n",
      "|   |   |   |   |   |   |--- Fare >  65.00\n",
      "|   |   |   |   |   |   |   |--- class: 0\n",
      "|   |   |   |--- Age >  32.50\n",
      "|   |   |   |   |--- Fare <= 7.91\n",
      "|   |   |   |   |   |--- class: 0\n",
      "|   |   |   |   |--- Fare >  7.91\n",
      "|   |   |   |   |   |--- Fare <= 7.99\n",
      "|   |   |   |   |   |   |--- Age <= 38.00\n",
      "|   |   |   |   |   |   |   |--- class: 0\n",
      "|   |   |   |   |   |   |--- Age >  38.00\n",
      "|   |   |   |   |   |   |   |--- Age <= 41.50\n",
      "|   |   |   |   |   |   |   |   |--- class: 0\n",
      "|   |   |   |   |   |   |   |--- Age >  41.50\n",
      "|   |   |   |   |   |   |   |   |--- class: 1\n",
      "|   |   |   |   |   |--- Fare >  7.99\n",
      "|   |   |   |   |   |   |--- Age <= 34.50\n",
      "|   |   |   |   |   |   |   |--- Pclass <= 2.50\n",
      "|   |   |   |   |   |   |   |   |--- Fare <= 17.00\n",
      "|   |   |   |   |   |   |   |   |   |--- Fare <= 12.64\n",
      "|   |   |   |   |   |   |   |   |   |   |--- class: 0\n",
      "|   |   |   |   |   |   |   |   |   |--- Fare >  12.64\n",
      "|   |   |   |   |   |   |   |   |   |   |--- class: 0\n",
      "|   |   |   |   |   |   |   |   |--- Fare >  17.00\n",
      "|   |   |   |   |   |   |   |   |   |--- class: 0\n",
      "|   |   |   |   |   |   |   |--- Pclass >  2.50\n",
      "|   |   |   |   |   |   |   |   |--- class: 0\n",
      "|   |   |   |   |   |   |--- Age >  34.50\n",
      "|   |   |   |   |   |   |   |--- class: 0\n",
      "|--- Sex_female >  0.50\n",
      "|   |--- Pclass <= 2.50\n",
      "|   |   |--- Age <= 3.00\n",
      "|   |   |   |--- Fare <= 88.78\n",
      "|   |   |   |   |--- class: 1\n",
      "|   |   |   |--- Fare >  88.78\n",
      "|   |   |   |   |--- class: 0\n",
      "|   |   |--- Age >  3.00\n",
      "|   |   |   |--- Fare <= 28.86\n",
      "|   |   |   |   |--- Fare <= 28.23\n",
      "|   |   |   |   |   |--- Age <= 56.00\n",
      "|   |   |   |   |   |   |--- SibSp <= 0.50\n",
      "|   |   |   |   |   |   |   |--- Fare <= 13.25\n",
      "|   |   |   |   |   |   |   |   |--- Fare <= 12.82\n",
      "|   |   |   |   |   |   |   |   |   |--- class: 1\n",
      "|   |   |   |   |   |   |   |   |--- Fare >  12.82\n",
      "|   |   |   |   |   |   |   |   |   |--- Age <= 26.00\n",
      "|   |   |   |   |   |   |   |   |   |   |--- class: 0\n",
      "|   |   |   |   |   |   |   |   |   |--- Age >  26.00\n",
      "|   |   |   |   |   |   |   |   |   |   |--- Age <= 37.00\n",
      "|   |   |   |   |   |   |   |   |   |   |   |--- class: 1\n",
      "|   |   |   |   |   |   |   |   |   |   |--- Age >  37.00\n",
      "|   |   |   |   |   |   |   |   |   |   |   |--- truncated branch of depth 2\n",
      "|   |   |   |   |   |   |   |--- Fare >  13.25\n",
      "|   |   |   |   |   |   |   |   |--- class: 1\n",
      "|   |   |   |   |   |   |--- SibSp >  0.50\n",
      "|   |   |   |   |   |   |   |--- Age <= 25.00\n",
      "|   |   |   |   |   |   |   |   |--- class: 1\n",
      "|   |   |   |   |   |   |   |--- Age >  25.00\n",
      "|   |   |   |   |   |   |   |   |--- Age <= 27.50\n",
      "|   |   |   |   |   |   |   |   |   |--- class: 0\n",
      "|   |   |   |   |   |   |   |   |--- Age >  27.50\n",
      "|   |   |   |   |   |   |   |   |   |--- Fare <= 25.00\n",
      "|   |   |   |   |   |   |   |   |   |   |--- class: 1\n",
      "|   |   |   |   |   |   |   |   |   |--- Fare >  25.00\n",
      "|   |   |   |   |   |   |   |   |   |   |--- Age <= 40.00\n",
      "|   |   |   |   |   |   |   |   |   |   |   |--- class: 1\n",
      "|   |   |   |   |   |   |   |   |   |   |--- Age >  40.00\n",
      "|   |   |   |   |   |   |   |   |   |   |   |--- truncated branch of depth 2\n",
      "|   |   |   |   |   |--- Age >  56.00\n",
      "|   |   |   |   |   |   |--- Fare <= 18.52\n",
      "|   |   |   |   |   |   |   |--- class: 0\n",
      "|   |   |   |   |   |   |--- Fare >  18.52\n",
      "|   |   |   |   |   |   |   |--- class: 1\n",
      "|   |   |   |   |--- Fare >  28.23\n",
      "|   |   |   |   |   |--- class: 0\n",
      "|   |   |   |--- Fare >  28.86\n",
      "|   |   |   |   |--- Parch <= 1.50\n",
      "|   |   |   |   |   |--- class: 1\n",
      "|   |   |   |   |--- Parch >  1.50\n",
      "|   |   |   |   |   |--- Age <= 24.50\n",
      "|   |   |   |   |   |   |--- class: 1\n",
      "|   |   |   |   |   |--- Age >  24.50\n",
      "|   |   |   |   |   |   |--- Age <= 28.00\n",
      "|   |   |   |   |   |   |   |--- class: 0\n",
      "|   |   |   |   |   |   |--- Age >  28.00\n",
      "|   |   |   |   |   |   |   |--- class: 1\n",
      "|   |--- Pclass >  2.50\n",
      "|   |   |--- Age <= 36.50\n",
      "|   |   |   |--- Fare <= 20.80\n",
      "|   |   |   |   |--- Parch <= 1.50\n",
      "|   |   |   |   |   |--- Age <= 16.50\n",
      "|   |   |   |   |   |   |--- Fare <= 9.10\n",
      "|   |   |   |   |   |   |   |--- class: 1\n",
      "|   |   |   |   |   |   |--- Fare >  9.10\n",
      "|   |   |   |   |   |   |   |--- Fare <= 11.38\n",
      "|   |   |   |   |   |   |   |   |--- class: 0\n",
      "|   |   |   |   |   |   |   |--- Fare >  11.38\n",
      "|   |   |   |   |   |   |   |   |--- Age <= 9.25\n",
      "|   |   |   |   |   |   |   |   |   |--- class: 1\n",
      "|   |   |   |   |   |   |   |   |--- Age >  9.25\n",
      "|   |   |   |   |   |   |   |   |   |--- Age <= 14.75\n",
      "|   |   |   |   |   |   |   |   |   |   |--- class: 0\n",
      "|   |   |   |   |   |   |   |   |   |--- Age >  14.75\n",
      "|   |   |   |   |   |   |   |   |   |   |--- class: 1\n",
      "|   |   |   |   |   |--- Age >  16.50\n",
      "|   |   |   |   |   |   |--- Age <= 32.50\n",
      "|   |   |   |   |   |   |   |--- Fare <= 7.89\n",
      "|   |   |   |   |   |   |   |   |--- Age <= 26.25\n",
      "|   |   |   |   |   |   |   |   |   |--- Age <= 18.50\n",
      "|   |   |   |   |   |   |   |   |   |   |--- Fare <= 7.12\n",
      "|   |   |   |   |   |   |   |   |   |   |   |--- class: 0\n",
      "|   |   |   |   |   |   |   |   |   |   |--- Fare >  7.12\n",
      "|   |   |   |   |   |   |   |   |   |   |   |--- truncated branch of depth 2\n",
      "|   |   |   |   |   |   |   |   |   |--- Age >  18.50\n",
      "|   |   |   |   |   |   |   |   |   |   |--- Embarked_S <= 0.50\n",
      "|   |   |   |   |   |   |   |   |   |   |   |--- truncated branch of depth 3\n",
      "|   |   |   |   |   |   |   |   |   |   |--- Embarked_S >  0.50\n",
      "|   |   |   |   |   |   |   |   |   |   |   |--- class: 1\n",
      "|   |   |   |   |   |   |   |   |--- Age >  26.25\n",
      "|   |   |   |   |   |   |   |   |   |--- class: 0\n",
      "|   |   |   |   |   |   |   |--- Fare >  7.89\n",
      "|   |   |   |   |   |   |   |   |--- Fare <= 19.26\n",
      "|   |   |   |   |   |   |   |   |   |--- Parch <= 0.50\n",
      "|   |   |   |   |   |   |   |   |   |   |--- Age <= 23.00\n",
      "|   |   |   |   |   |   |   |   |   |   |   |--- truncated branch of depth 3\n",
      "|   |   |   |   |   |   |   |   |   |   |--- Age >  23.00\n",
      "|   |   |   |   |   |   |   |   |   |   |   |--- truncated branch of depth 4\n",
      "|   |   |   |   |   |   |   |   |   |--- Parch >  0.50\n",
      "|   |   |   |   |   |   |   |   |   |   |--- class: 0\n",
      "|   |   |   |   |   |   |   |   |--- Fare >  19.26\n",
      "|   |   |   |   |   |   |   |   |   |--- class: 1\n",
      "|   |   |   |   |   |   |--- Age >  32.50\n",
      "|   |   |   |   |   |   |   |--- class: 1\n",
      "|   |   |   |   |--- Parch >  1.50\n",
      "|   |   |   |   |   |--- class: 1\n",
      "|   |   |   |--- Fare >  20.80\n",
      "|   |   |   |   |--- Age <= 6.50\n",
      "|   |   |   |   |   |--- Age <= 3.50\n",
      "|   |   |   |   |   |   |--- class: 0\n",
      "|   |   |   |   |   |--- Age >  3.50\n",
      "|   |   |   |   |   |   |--- class: 1\n",
      "|   |   |   |   |--- Age >  6.50\n",
      "|   |   |   |   |   |--- class: 0\n",
      "|   |   |--- Age >  36.50\n",
      "|   |   |   |--- class: 0\n",
      "\n"
     ]
    }
   ],
   "source": [
    "print(tree.export_text(titDt,feature_names=list(titTrainX.columns)))"
   ]
  },
  {
   "cell_type": "code",
   "execution_count": 70,
   "metadata": {
    "slideshow": {
     "slide_type": "subslide"
    }
   },
   "outputs": [
    {
     "data": {
      "image/svg+xml": [
       "<?xml version=\"1.0\" encoding=\"UTF-8\" standalone=\"no\"?>\n",
       "<!DOCTYPE svg PUBLIC \"-//W3C//DTD SVG 1.1//EN\"\n",
       " \"http://www.w3.org/Graphics/SVG/1.1/DTD/svg11.dtd\">\n",
       "<!-- Generated by graphviz version 2.38.0 (20140413.2041)\n",
       " -->\n",
       "<!-- Title: Tree Pages: 1 -->\n",
       "<svg width=\"4690pt\" height=\"1980pt\"\n",
       " viewBox=\"0.00 0.00 4689.50 1980.00\" xmlns=\"http://www.w3.org/2000/svg\" xmlns:xlink=\"http://www.w3.org/1999/xlink\">\n",
       "<g id=\"graph0\" class=\"graph\" transform=\"scale(1 1) rotate(0) translate(4 1976)\">\n",
       "<title>Tree</title>\n",
       "<polygon fill=\"white\" stroke=\"none\" points=\"-4,4 -4,-1976 4685.5,-1976 4685.5,4 -4,4\"/>\n",
       "<!-- 0 -->\n",
       "<g id=\"node1\" class=\"node\"><title>0</title>\n",
       "<polygon fill=\"#f6d4bb\" stroke=\"black\" points=\"2496,-1972 2374,-1972 2374,-1889 2496,-1889 2496,-1972\"/>\n",
       "<text text-anchor=\"middle\" x=\"2435\" y=\"-1956.8\" font-family=\"Times,serif\" font-size=\"14.00\">Sex_female &lt;= 0.5</text>\n",
       "<text text-anchor=\"middle\" x=\"2435\" y=\"-1941.8\" font-family=\"Times,serif\" font-size=\"14.00\">gini = 0.479</text>\n",
       "<text text-anchor=\"middle\" x=\"2435\" y=\"-1926.8\" font-family=\"Times,serif\" font-size=\"14.00\">samples = 534</text>\n",
       "<text text-anchor=\"middle\" x=\"2435\" y=\"-1911.8\" font-family=\"Times,serif\" font-size=\"14.00\">value = [322, 212]</text>\n",
       "<text text-anchor=\"middle\" x=\"2435\" y=\"-1896.8\" font-family=\"Times,serif\" font-size=\"14.00\">class = 未生还</text>\n",
       "</g>\n",
       "<!-- 1 -->\n",
       "<g id=\"node2\" class=\"node\"><title>1</title>\n",
       "<polygon fill=\"#eca26c\" stroke=\"black\" points=\"1688,-1853 1576,-1853 1576,-1770 1688,-1770 1688,-1853\"/>\n",
       "<text text-anchor=\"middle\" x=\"1632\" y=\"-1837.8\" font-family=\"Times,serif\" font-size=\"14.00\">Age &lt;= 13.0</text>\n",
       "<text text-anchor=\"middle\" x=\"1632\" y=\"-1822.8\" font-family=\"Times,serif\" font-size=\"14.00\">gini = 0.326</text>\n",
       "<text text-anchor=\"middle\" x=\"1632\" y=\"-1807.8\" font-family=\"Times,serif\" font-size=\"14.00\">samples = 351</text>\n",
       "<text text-anchor=\"middle\" x=\"1632\" y=\"-1792.8\" font-family=\"Times,serif\" font-size=\"14.00\">value = [279, 72]</text>\n",
       "<text text-anchor=\"middle\" x=\"1632\" y=\"-1777.8\" font-family=\"Times,serif\" font-size=\"14.00\">class = 未生还</text>\n",
       "</g>\n",
       "<!-- 0&#45;&gt;1 -->\n",
       "<g id=\"edge1\" class=\"edge\"><title>0&#45;&gt;1</title>\n",
       "<path fill=\"none\" stroke=\"black\" d=\"M2373.99,-1920.61C2226.4,-1899.11 1851.06,-1844.42 1698.25,-1822.15\"/>\n",
       "<polygon fill=\"black\" stroke=\"black\" points=\"1698.47,-1818.65 1688.07,-1820.67 1697.46,-1825.57 1698.47,-1818.65\"/>\n",
       "<text text-anchor=\"middle\" x=\"1703.01\" y=\"-1837.01\" font-family=\"Times,serif\" font-size=\"14.00\">True</text>\n",
       "</g>\n",
       "<!-- 166 -->\n",
       "<g id=\"node167\" class=\"node\"><title>166</title>\n",
       "<polygon fill=\"#76bbed\" stroke=\"black\" points=\"3295,-1853 3183,-1853 3183,-1770 3295,-1770 3295,-1853\"/>\n",
       "<text text-anchor=\"middle\" x=\"3239\" y=\"-1837.8\" font-family=\"Times,serif\" font-size=\"14.00\">Pclass &lt;= 2.5</text>\n",
       "<text text-anchor=\"middle\" x=\"3239\" y=\"-1822.8\" font-family=\"Times,serif\" font-size=\"14.00\">gini = 0.36</text>\n",
       "<text text-anchor=\"middle\" x=\"3239\" y=\"-1807.8\" font-family=\"Times,serif\" font-size=\"14.00\">samples = 183</text>\n",
       "<text text-anchor=\"middle\" x=\"3239\" y=\"-1792.8\" font-family=\"Times,serif\" font-size=\"14.00\">value = [43, 140]</text>\n",
       "<text text-anchor=\"middle\" x=\"3239\" y=\"-1777.8\" font-family=\"Times,serif\" font-size=\"14.00\">class = 生还</text>\n",
       "</g>\n",
       "<!-- 0&#45;&gt;166 -->\n",
       "<g id=\"edge166\" class=\"edge\"><title>0&#45;&gt;166</title>\n",
       "<path fill=\"none\" stroke=\"black\" d=\"M2496.09,-1920.61C2643.86,-1899.11 3019.67,-1844.42 3172.67,-1822.15\"/>\n",
       "<polygon fill=\"black\" stroke=\"black\" points=\"3173.47,-1825.57 3182.86,-1820.67 3172.46,-1818.65 3173.47,-1825.57\"/>\n",
       "<text text-anchor=\"middle\" x=\"3167.91\" y=\"-1837.01\" font-family=\"Times,serif\" font-size=\"14.00\">False</text>\n",
       "</g>\n",
       "<!-- 2 -->\n",
       "<g id=\"node3\" class=\"node\"><title>2</title>\n",
       "<polygon fill=\"#c8e4f8\" stroke=\"black\" points=\"1233.5,-1734 1128.5,-1734 1128.5,-1651 1233.5,-1651 1233.5,-1734\"/>\n",
       "<text text-anchor=\"middle\" x=\"1181\" y=\"-1718.8\" font-family=\"Times,serif\" font-size=\"14.00\">SibSp &lt;= 2.5</text>\n",
       "<text text-anchor=\"middle\" x=\"1181\" y=\"-1703.8\" font-family=\"Times,serif\" font-size=\"14.00\">gini = 0.487</text>\n",
       "<text text-anchor=\"middle\" x=\"1181\" y=\"-1688.8\" font-family=\"Times,serif\" font-size=\"14.00\">samples = 31</text>\n",
       "<text text-anchor=\"middle\" x=\"1181\" y=\"-1673.8\" font-family=\"Times,serif\" font-size=\"14.00\">value = [13, 18]</text>\n",
       "<text text-anchor=\"middle\" x=\"1181\" y=\"-1658.8\" font-family=\"Times,serif\" font-size=\"14.00\">class = 生还</text>\n",
       "</g>\n",
       "<!-- 1&#45;&gt;2 -->\n",
       "<g id=\"edge2\" class=\"edge\"><title>1&#45;&gt;2</title>\n",
       "<path fill=\"none\" stroke=\"black\" d=\"M1575.79,-1795.92C1491.21,-1773.98 1331.75,-1732.61 1243.58,-1709.73\"/>\n",
       "<polygon fill=\"black\" stroke=\"black\" points=\"1244.27,-1706.3 1233.71,-1707.17 1242.51,-1713.07 1244.27,-1706.3\"/>\n",
       "</g>\n",
       "<!-- 9 -->\n",
       "<g id=\"node10\" class=\"node\"><title>9</title>\n",
       "<polygon fill=\"#ea9b61\" stroke=\"black\" points=\"1688,-1734 1576,-1734 1576,-1651 1688,-1651 1688,-1734\"/>\n",
       "<text text-anchor=\"middle\" x=\"1632\" y=\"-1718.8\" font-family=\"Times,serif\" font-size=\"14.00\">Pclass &lt;= 1.5</text>\n",
       "<text text-anchor=\"middle\" x=\"1632\" y=\"-1703.8\" font-family=\"Times,serif\" font-size=\"14.00\">gini = 0.281</text>\n",
       "<text text-anchor=\"middle\" x=\"1632\" y=\"-1688.8\" font-family=\"Times,serif\" font-size=\"14.00\">samples = 320</text>\n",
       "<text text-anchor=\"middle\" x=\"1632\" y=\"-1673.8\" font-family=\"Times,serif\" font-size=\"14.00\">value = [266, 54]</text>\n",
       "<text text-anchor=\"middle\" x=\"1632\" y=\"-1658.8\" font-family=\"Times,serif\" font-size=\"14.00\">class = 未生还</text>\n",
       "</g>\n",
       "<!-- 1&#45;&gt;9 -->\n",
       "<g id=\"edge9\" class=\"edge\"><title>1&#45;&gt;9</title>\n",
       "<path fill=\"none\" stroke=\"black\" d=\"M1632,-1769.91C1632,-1761.65 1632,-1752.86 1632,-1744.3\"/>\n",
       "<polygon fill=\"black\" stroke=\"black\" points=\"1635.5,-1744.02 1632,-1734.02 1628.5,-1744.02 1635.5,-1744.02\"/>\n",
       "</g>\n",
       "<!-- 3 -->\n",
       "<g id=\"node4\" class=\"node\"><title>3</title>\n",
       "<polygon fill=\"#44a2e6\" stroke=\"black\" points=\"1054,-1615 956,-1615 956,-1532 1054,-1532 1054,-1615\"/>\n",
       "<text text-anchor=\"middle\" x=\"1005\" y=\"-1599.8\" font-family=\"Times,serif\" font-size=\"14.00\">Parch &lt;= 0.5</text>\n",
       "<text text-anchor=\"middle\" x=\"1005\" y=\"-1584.8\" font-family=\"Times,serif\" font-size=\"14.00\">gini = 0.1</text>\n",
       "<text text-anchor=\"middle\" x=\"1005\" y=\"-1569.8\" font-family=\"Times,serif\" font-size=\"14.00\">samples = 19</text>\n",
       "<text text-anchor=\"middle\" x=\"1005\" y=\"-1554.8\" font-family=\"Times,serif\" font-size=\"14.00\">value = [1, 18]</text>\n",
       "<text text-anchor=\"middle\" x=\"1005\" y=\"-1539.8\" font-family=\"Times,serif\" font-size=\"14.00\">class = 生还</text>\n",
       "</g>\n",
       "<!-- 2&#45;&gt;3 -->\n",
       "<g id=\"edge3\" class=\"edge\"><title>2&#45;&gt;3</title>\n",
       "<path fill=\"none\" stroke=\"black\" d=\"M1128.19,-1656.4C1107.55,-1642.67 1083.81,-1626.89 1062.71,-1612.86\"/>\n",
       "<polygon fill=\"black\" stroke=\"black\" points=\"1064.42,-1609.8 1054.16,-1607.18 1060.55,-1615.63 1064.42,-1609.8\"/>\n",
       "</g>\n",
       "<!-- 8 -->\n",
       "<g id=\"node9\" class=\"node\"><title>8</title>\n",
       "<polygon fill=\"#e58139\" stroke=\"black\" points=\"1231.5,-1607.5 1130.5,-1607.5 1130.5,-1539.5 1231.5,-1539.5 1231.5,-1607.5\"/>\n",
       "<text text-anchor=\"middle\" x=\"1181\" y=\"-1592.3\" font-family=\"Times,serif\" font-size=\"14.00\">gini = 0.0</text>\n",
       "<text text-anchor=\"middle\" x=\"1181\" y=\"-1577.3\" font-family=\"Times,serif\" font-size=\"14.00\">samples = 12</text>\n",
       "<text text-anchor=\"middle\" x=\"1181\" y=\"-1562.3\" font-family=\"Times,serif\" font-size=\"14.00\">value = [12, 0]</text>\n",
       "<text text-anchor=\"middle\" x=\"1181\" y=\"-1547.3\" font-family=\"Times,serif\" font-size=\"14.00\">class = 未生还</text>\n",
       "</g>\n",
       "<!-- 2&#45;&gt;8 -->\n",
       "<g id=\"edge8\" class=\"edge\"><title>2&#45;&gt;8</title>\n",
       "<path fill=\"none\" stroke=\"black\" d=\"M1181,-1650.91C1181,-1640.2 1181,-1628.62 1181,-1617.78\"/>\n",
       "<polygon fill=\"black\" stroke=\"black\" points=\"1184.5,-1617.67 1181,-1607.67 1177.5,-1617.67 1184.5,-1617.67\"/>\n",
       "</g>\n",
       "<!-- 4 -->\n",
       "<g id=\"node5\" class=\"node\"><title>4</title>\n",
       "<polygon fill=\"#ffffff\" stroke=\"black\" points=\"900,-1496 798,-1496 798,-1413 900,-1413 900,-1496\"/>\n",
       "<text text-anchor=\"middle\" x=\"849\" y=\"-1480.8\" font-family=\"Times,serif\" font-size=\"14.00\">Fare &lt;= 15.015</text>\n",
       "<text text-anchor=\"middle\" x=\"849\" y=\"-1465.8\" font-family=\"Times,serif\" font-size=\"14.00\">gini = 0.5</text>\n",
       "<text text-anchor=\"middle\" x=\"849\" y=\"-1450.8\" font-family=\"Times,serif\" font-size=\"14.00\">samples = 2</text>\n",
       "<text text-anchor=\"middle\" x=\"849\" y=\"-1435.8\" font-family=\"Times,serif\" font-size=\"14.00\">value = [1, 1]</text>\n",
       "<text text-anchor=\"middle\" x=\"849\" y=\"-1420.8\" font-family=\"Times,serif\" font-size=\"14.00\">class = 未生还</text>\n",
       "</g>\n",
       "<!-- 3&#45;&gt;4 -->\n",
       "<g id=\"edge4\" class=\"edge\"><title>3&#45;&gt;4</title>\n",
       "<path fill=\"none\" stroke=\"black\" d=\"M955.641,-1535.48C940.59,-1524.19 923.887,-1511.67 908.252,-1499.94\"/>\n",
       "<polygon fill=\"black\" stroke=\"black\" points=\"910.288,-1497.09 900.188,-1493.89 906.088,-1502.69 910.288,-1497.09\"/>\n",
       "</g>\n",
       "<!-- 7 -->\n",
       "<g id=\"node8\" class=\"node\"><title>7</title>\n",
       "<polygon fill=\"#399de5\" stroke=\"black\" points=\"1054,-1488.5 956,-1488.5 956,-1420.5 1054,-1420.5 1054,-1488.5\"/>\n",
       "<text text-anchor=\"middle\" x=\"1005\" y=\"-1473.3\" font-family=\"Times,serif\" font-size=\"14.00\">gini = 0.0</text>\n",
       "<text text-anchor=\"middle\" x=\"1005\" y=\"-1458.3\" font-family=\"Times,serif\" font-size=\"14.00\">samples = 17</text>\n",
       "<text text-anchor=\"middle\" x=\"1005\" y=\"-1443.3\" font-family=\"Times,serif\" font-size=\"14.00\">value = [0, 17]</text>\n",
       "<text text-anchor=\"middle\" x=\"1005\" y=\"-1428.3\" font-family=\"Times,serif\" font-size=\"14.00\">class = 生还</text>\n",
       "</g>\n",
       "<!-- 3&#45;&gt;7 -->\n",
       "<g id=\"edge7\" class=\"edge\"><title>3&#45;&gt;7</title>\n",
       "<path fill=\"none\" stroke=\"black\" d=\"M1005,-1531.91C1005,-1521.2 1005,-1509.62 1005,-1498.78\"/>\n",
       "<polygon fill=\"black\" stroke=\"black\" points=\"1008.5,-1498.67 1005,-1488.67 1001.5,-1498.67 1008.5,-1498.67\"/>\n",
       "</g>\n",
       "<!-- 5 -->\n",
       "<g id=\"node6\" class=\"node\"><title>5</title>\n",
       "<polygon fill=\"#399de5\" stroke=\"black\" points=\"780,-1369.5 688,-1369.5 688,-1301.5 780,-1301.5 780,-1369.5\"/>\n",
       "<text text-anchor=\"middle\" x=\"734\" y=\"-1354.3\" font-family=\"Times,serif\" font-size=\"14.00\">gini = 0.0</text>\n",
       "<text text-anchor=\"middle\" x=\"734\" y=\"-1339.3\" font-family=\"Times,serif\" font-size=\"14.00\">samples = 1</text>\n",
       "<text text-anchor=\"middle\" x=\"734\" y=\"-1324.3\" font-family=\"Times,serif\" font-size=\"14.00\">value = [0, 1]</text>\n",
       "<text text-anchor=\"middle\" x=\"734\" y=\"-1309.3\" font-family=\"Times,serif\" font-size=\"14.00\">class = 生还</text>\n",
       "</g>\n",
       "<!-- 4&#45;&gt;5 -->\n",
       "<g id=\"edge5\" class=\"edge\"><title>4&#45;&gt;5</title>\n",
       "<path fill=\"none\" stroke=\"black\" d=\"M809.101,-1412.91C797.713,-1401.32 785.306,-1388.7 773.916,-1377.11\"/>\n",
       "<polygon fill=\"black\" stroke=\"black\" points=\"776.106,-1374.35 766.6,-1369.67 771.114,-1379.25 776.106,-1374.35\"/>\n",
       "</g>\n",
       "<!-- 6 -->\n",
       "<g id=\"node7\" class=\"node\"><title>6</title>\n",
       "<polygon fill=\"#e58139\" stroke=\"black\" points=\"899.5,-1369.5 798.5,-1369.5 798.5,-1301.5 899.5,-1301.5 899.5,-1369.5\"/>\n",
       "<text text-anchor=\"middle\" x=\"849\" y=\"-1354.3\" font-family=\"Times,serif\" font-size=\"14.00\">gini = 0.0</text>\n",
       "<text text-anchor=\"middle\" x=\"849\" y=\"-1339.3\" font-family=\"Times,serif\" font-size=\"14.00\">samples = 1</text>\n",
       "<text text-anchor=\"middle\" x=\"849\" y=\"-1324.3\" font-family=\"Times,serif\" font-size=\"14.00\">value = [1, 0]</text>\n",
       "<text text-anchor=\"middle\" x=\"849\" y=\"-1309.3\" font-family=\"Times,serif\" font-size=\"14.00\">class = 未生还</text>\n",
       "</g>\n",
       "<!-- 4&#45;&gt;6 -->\n",
       "<g id=\"edge6\" class=\"edge\"><title>4&#45;&gt;6</title>\n",
       "<path fill=\"none\" stroke=\"black\" d=\"M849,-1412.91C849,-1402.2 849,-1390.62 849,-1379.78\"/>\n",
       "<polygon fill=\"black\" stroke=\"black\" points=\"852.5,-1379.67 849,-1369.67 845.5,-1379.67 852.5,-1379.67\"/>\n",
       "</g>\n",
       "<!-- 10 -->\n",
       "<g id=\"node11\" class=\"node\"><title>10</title>\n",
       "<polygon fill=\"#f3c4a2\" stroke=\"black\" points=\"1411.5,-1615 1306.5,-1615 1306.5,-1532 1411.5,-1532 1411.5,-1615\"/>\n",
       "<text text-anchor=\"middle\" x=\"1359\" y=\"-1599.8\" font-family=\"Times,serif\" font-size=\"14.00\">Age &lt;= 53.0</text>\n",
       "<text text-anchor=\"middle\" x=\"1359\" y=\"-1584.8\" font-family=\"Times,serif\" font-size=\"14.00\">gini = 0.453</text>\n",
       "<text text-anchor=\"middle\" x=\"1359\" y=\"-1569.8\" font-family=\"Times,serif\" font-size=\"14.00\">samples = 78</text>\n",
       "<text text-anchor=\"middle\" x=\"1359\" y=\"-1554.8\" font-family=\"Times,serif\" font-size=\"14.00\">value = [51, 27]</text>\n",
       "<text text-anchor=\"middle\" x=\"1359\" y=\"-1539.8\" font-family=\"Times,serif\" font-size=\"14.00\">class = 未生还</text>\n",
       "</g>\n",
       "<!-- 9&#45;&gt;10 -->\n",
       "<g id=\"edge10\" class=\"edge\"><title>9&#45;&gt;10</title>\n",
       "<path fill=\"none\" stroke=\"black\" d=\"M1575.77,-1667.4C1530.79,-1648.12 1467.78,-1621.12 1421.28,-1601.19\"/>\n",
       "<polygon fill=\"black\" stroke=\"black\" points=\"1422.49,-1597.9 1411.92,-1597.18 1419.73,-1604.34 1422.49,-1597.9\"/>\n",
       "</g>\n",
       "<!-- 67 -->\n",
       "<g id=\"node68\" class=\"node\"><title>67</title>\n",
       "<polygon fill=\"#e89152\" stroke=\"black\" points=\"1960,-1615 1848,-1615 1848,-1532 1960,-1532 1960,-1615\"/>\n",
       "<text text-anchor=\"middle\" x=\"1904\" y=\"-1599.8\" font-family=\"Times,serif\" font-size=\"14.00\">Age &lt;= 32.5</text>\n",
       "<text text-anchor=\"middle\" x=\"1904\" y=\"-1584.8\" font-family=\"Times,serif\" font-size=\"14.00\">gini = 0.198</text>\n",
       "<text text-anchor=\"middle\" x=\"1904\" y=\"-1569.8\" font-family=\"Times,serif\" font-size=\"14.00\">samples = 242</text>\n",
       "<text text-anchor=\"middle\" x=\"1904\" y=\"-1554.8\" font-family=\"Times,serif\" font-size=\"14.00\">value = [215, 27]</text>\n",
       "<text text-anchor=\"middle\" x=\"1904\" y=\"-1539.8\" font-family=\"Times,serif\" font-size=\"14.00\">class = 未生还</text>\n",
       "</g>\n",
       "<!-- 9&#45;&gt;67 -->\n",
       "<g id=\"edge67\" class=\"edge\"><title>9&#45;&gt;67</title>\n",
       "<path fill=\"none\" stroke=\"black\" d=\"M1688.03,-1667.4C1731.68,-1648.62 1792.37,-1622.52 1838.3,-1602.76\"/>\n",
       "<polygon fill=\"black\" stroke=\"black\" points=\"1839.77,-1605.94 1847.58,-1598.77 1837.01,-1599.51 1839.77,-1605.94\"/>\n",
       "</g>\n",
       "<!-- 11 -->\n",
       "<g id=\"node12\" class=\"node\"><title>11</title>\n",
       "<polygon fill=\"#f7dac4\" stroke=\"black\" points=\"1214.5,-1496 1109.5,-1496 1109.5,-1413 1214.5,-1413 1214.5,-1496\"/>\n",
       "<text text-anchor=\"middle\" x=\"1162\" y=\"-1480.8\" font-family=\"Times,serif\" font-size=\"14.00\">Fare &lt;= 32.51</text>\n",
       "<text text-anchor=\"middle\" x=\"1162\" y=\"-1465.8\" font-family=\"Times,serif\" font-size=\"14.00\">gini = 0.485</text>\n",
       "<text text-anchor=\"middle\" x=\"1162\" y=\"-1450.8\" font-family=\"Times,serif\" font-size=\"14.00\">samples = 63</text>\n",
       "<text text-anchor=\"middle\" x=\"1162\" y=\"-1435.8\" font-family=\"Times,serif\" font-size=\"14.00\">value = [37, 26]</text>\n",
       "<text text-anchor=\"middle\" x=\"1162\" y=\"-1420.8\" font-family=\"Times,serif\" font-size=\"14.00\">class = 未生还</text>\n",
       "</g>\n",
       "<!-- 10&#45;&gt;11 -->\n",
       "<g id=\"edge11\" class=\"edge\"><title>10&#45;&gt;11</title>\n",
       "<path fill=\"none\" stroke=\"black\" d=\"M1306.47,-1541.3C1280.97,-1526.16 1250.17,-1507.87 1223.57,-1492.07\"/>\n",
       "<polygon fill=\"black\" stroke=\"black\" points=\"1225.11,-1488.91 1214.73,-1486.82 1221.54,-1494.93 1225.11,-1488.91\"/>\n",
       "</g>\n",
       "<!-- 60 -->\n",
       "<g id=\"node61\" class=\"node\"><title>60</title>\n",
       "<polygon fill=\"#e78a47\" stroke=\"black\" points=\"1424,-1496 1294,-1496 1294,-1413 1424,-1413 1424,-1496\"/>\n",
       "<text text-anchor=\"middle\" x=\"1359\" y=\"-1480.8\" font-family=\"Times,serif\" font-size=\"14.00\">Embarked_C &lt;= 0.5</text>\n",
       "<text text-anchor=\"middle\" x=\"1359\" y=\"-1465.8\" font-family=\"Times,serif\" font-size=\"14.00\">gini = 0.124</text>\n",
       "<text text-anchor=\"middle\" x=\"1359\" y=\"-1450.8\" font-family=\"Times,serif\" font-size=\"14.00\">samples = 15</text>\n",
       "<text text-anchor=\"middle\" x=\"1359\" y=\"-1435.8\" font-family=\"Times,serif\" font-size=\"14.00\">value = [14, 1]</text>\n",
       "<text text-anchor=\"middle\" x=\"1359\" y=\"-1420.8\" font-family=\"Times,serif\" font-size=\"14.00\">class = 未生还</text>\n",
       "</g>\n",
       "<!-- 10&#45;&gt;60 -->\n",
       "<g id=\"edge60\" class=\"edge\"><title>10&#45;&gt;60</title>\n",
       "<path fill=\"none\" stroke=\"black\" d=\"M1359,-1531.91C1359,-1523.65 1359,-1514.86 1359,-1506.3\"/>\n",
       "<polygon fill=\"black\" stroke=\"black\" points=\"1362.5,-1506.02 1359,-1496.02 1355.5,-1506.02 1362.5,-1506.02\"/>\n",
       "</g>\n",
       "<!-- 12 -->\n",
       "<g id=\"node13\" class=\"node\"><title>12</title>\n",
       "<polygon fill=\"#cee6f8\" stroke=\"black\" points=\"1020,-1377 918,-1377 918,-1294 1020,-1294 1020,-1377\"/>\n",
       "<text text-anchor=\"middle\" x=\"969\" y=\"-1361.8\" font-family=\"Times,serif\" font-size=\"14.00\">Fare &lt;= 15.644</text>\n",
       "<text text-anchor=\"middle\" x=\"969\" y=\"-1346.8\" font-family=\"Times,serif\" font-size=\"14.00\">gini = 0.49</text>\n",
       "<text text-anchor=\"middle\" x=\"969\" y=\"-1331.8\" font-family=\"Times,serif\" font-size=\"14.00\">samples = 21</text>\n",
       "<text text-anchor=\"middle\" x=\"969\" y=\"-1316.8\" font-family=\"Times,serif\" font-size=\"14.00\">value = [9, 12]</text>\n",
       "<text text-anchor=\"middle\" x=\"969\" y=\"-1301.8\" font-family=\"Times,serif\" font-size=\"14.00\">class = 生还</text>\n",
       "</g>\n",
       "<!-- 11&#45;&gt;12 -->\n",
       "<g id=\"edge12\" class=\"edge\"><title>11&#45;&gt;12</title>\n",
       "<path fill=\"none\" stroke=\"black\" d=\"M1109.26,-1421.53C1084.29,-1406.39 1054.37,-1388.25 1028.58,-1372.62\"/>\n",
       "<polygon fill=\"black\" stroke=\"black\" points=\"1030.37,-1369.61 1020.01,-1367.42 1026.75,-1375.6 1030.37,-1369.61\"/>\n",
       "</g>\n",
       "<!-- 25 -->\n",
       "<g id=\"node26\" class=\"node\"><title>25</title>\n",
       "<polygon fill=\"#f2c09c\" stroke=\"black\" points=\"1216.5,-1377 1107.5,-1377 1107.5,-1294 1216.5,-1294 1216.5,-1377\"/>\n",
       "<text text-anchor=\"middle\" x=\"1162\" y=\"-1361.8\" font-family=\"Times,serif\" font-size=\"14.00\">Fare &lt;= 387.665</text>\n",
       "<text text-anchor=\"middle\" x=\"1162\" y=\"-1346.8\" font-family=\"Times,serif\" font-size=\"14.00\">gini = 0.444</text>\n",
       "<text text-anchor=\"middle\" x=\"1162\" y=\"-1331.8\" font-family=\"Times,serif\" font-size=\"14.00\">samples = 42</text>\n",
       "<text text-anchor=\"middle\" x=\"1162\" y=\"-1316.8\" font-family=\"Times,serif\" font-size=\"14.00\">value = [28, 14]</text>\n",
       "<text text-anchor=\"middle\" x=\"1162\" y=\"-1301.8\" font-family=\"Times,serif\" font-size=\"14.00\">class = 未生还</text>\n",
       "</g>\n",
       "<!-- 11&#45;&gt;25 -->\n",
       "<g id=\"edge25\" class=\"edge\"><title>11&#45;&gt;25</title>\n",
       "<path fill=\"none\" stroke=\"black\" d=\"M1162,-1412.91C1162,-1404.65 1162,-1395.86 1162,-1387.3\"/>\n",
       "<polygon fill=\"black\" stroke=\"black\" points=\"1165.5,-1387.02 1162,-1377.02 1158.5,-1387.02 1165.5,-1387.02\"/>\n",
       "</g>\n",
       "<!-- 13 -->\n",
       "<g id=\"node14\" class=\"node\"><title>13</title>\n",
       "<polygon fill=\"#e58139\" stroke=\"black\" points=\"832.5,-1250.5 731.5,-1250.5 731.5,-1182.5 832.5,-1182.5 832.5,-1250.5\"/>\n",
       "<text text-anchor=\"middle\" x=\"782\" y=\"-1235.3\" font-family=\"Times,serif\" font-size=\"14.00\">gini = 0.0</text>\n",
       "<text text-anchor=\"middle\" x=\"782\" y=\"-1220.3\" font-family=\"Times,serif\" font-size=\"14.00\">samples = 4</text>\n",
       "<text text-anchor=\"middle\" x=\"782\" y=\"-1205.3\" font-family=\"Times,serif\" font-size=\"14.00\">value = [4, 0]</text>\n",
       "<text text-anchor=\"middle\" x=\"782\" y=\"-1190.3\" font-family=\"Times,serif\" font-size=\"14.00\">class = 未生还</text>\n",
       "</g>\n",
       "<!-- 12&#45;&gt;13 -->\n",
       "<g id=\"edge13\" class=\"edge\"><title>12&#45;&gt;13</title>\n",
       "<path fill=\"none\" stroke=\"black\" d=\"M917.952,-1300.14C914.603,-1298.03 911.266,-1295.97 908,-1294 879.388,-1276.74 870.546,-1275.37 842,-1258 840.913,-1257.34 839.818,-1256.67 838.717,-1255.98\"/>\n",
       "<polygon fill=\"black\" stroke=\"black\" points=\"840.534,-1252.99 830.21,-1250.61 836.797,-1258.91 840.534,-1252.99\"/>\n",
       "</g>\n",
       "<!-- 14 -->\n",
       "<g id=\"node15\" class=\"node\"><title>14</title>\n",
       "<polygon fill=\"#8bc6f0\" stroke=\"black\" points=\"949,-1258 851,-1258 851,-1175 949,-1175 949,-1258\"/>\n",
       "<text text-anchor=\"middle\" x=\"900\" y=\"-1242.8\" font-family=\"Times,serif\" font-size=\"14.00\">Fare &lt;= 30.25</text>\n",
       "<text text-anchor=\"middle\" x=\"900\" y=\"-1227.8\" font-family=\"Times,serif\" font-size=\"14.00\">gini = 0.415</text>\n",
       "<text text-anchor=\"middle\" x=\"900\" y=\"-1212.8\" font-family=\"Times,serif\" font-size=\"14.00\">samples = 17</text>\n",
       "<text text-anchor=\"middle\" x=\"900\" y=\"-1197.8\" font-family=\"Times,serif\" font-size=\"14.00\">value = [5, 12]</text>\n",
       "<text text-anchor=\"middle\" x=\"900\" y=\"-1182.8\" font-family=\"Times,serif\" font-size=\"14.00\">class = 生还</text>\n",
       "</g>\n",
       "<!-- 12&#45;&gt;14 -->\n",
       "<g id=\"edge14\" class=\"edge\"><title>12&#45;&gt;14</title>\n",
       "<path fill=\"none\" stroke=\"black\" d=\"M945.061,-1293.91C939.923,-1285.2 934.439,-1275.9 929.129,-1266.89\"/>\n",
       "<polygon fill=\"black\" stroke=\"black\" points=\"931.992,-1264.86 923.897,-1258.02 925.962,-1268.41 931.992,-1264.86\"/>\n",
       "</g>\n",
       "<!-- 15 -->\n",
       "<g id=\"node16\" class=\"node\"><title>15</title>\n",
       "<polygon fill=\"#b5daf5\" stroke=\"black\" points=\"543,-1139 441,-1139 441,-1056 543,-1056 543,-1139\"/>\n",
       "<text text-anchor=\"middle\" x=\"492\" y=\"-1123.8\" font-family=\"Times,serif\" font-size=\"14.00\">Fare &lt;= 27.135</text>\n",
       "<text text-anchor=\"middle\" x=\"492\" y=\"-1108.8\" font-family=\"Times,serif\" font-size=\"14.00\">gini = 0.473</text>\n",
       "<text text-anchor=\"middle\" x=\"492\" y=\"-1093.8\" font-family=\"Times,serif\" font-size=\"14.00\">samples = 13</text>\n",
       "<text text-anchor=\"middle\" x=\"492\" y=\"-1078.8\" font-family=\"Times,serif\" font-size=\"14.00\">value = [5, 8]</text>\n",
       "<text text-anchor=\"middle\" x=\"492\" y=\"-1063.8\" font-family=\"Times,serif\" font-size=\"14.00\">class = 生还</text>\n",
       "</g>\n",
       "<!-- 14&#45;&gt;15 -->\n",
       "<g id=\"edge15\" class=\"edge\"><title>14&#45;&gt;15</title>\n",
       "<path fill=\"none\" stroke=\"black\" d=\"M850.899,-1179.82C847.621,-1178.06 844.306,-1176.43 841,-1175 745.244,-1133.53 624.63,-1113.53 553.178,-1104.69\"/>\n",
       "<polygon fill=\"black\" stroke=\"black\" points=\"553.348,-1101.18 543.001,-1103.46 552.511,-1108.13 553.348,-1101.18\"/>\n",
       "</g>\n",
       "<!-- 24 -->\n",
       "<g id=\"node25\" class=\"node\"><title>24</title>\n",
       "<polygon fill=\"#399de5\" stroke=\"black\" points=\"920,-1131.5 828,-1131.5 828,-1063.5 920,-1063.5 920,-1131.5\"/>\n",
       "<text text-anchor=\"middle\" x=\"874\" y=\"-1116.3\" font-family=\"Times,serif\" font-size=\"14.00\">gini = 0.0</text>\n",
       "<text text-anchor=\"middle\" x=\"874\" y=\"-1101.3\" font-family=\"Times,serif\" font-size=\"14.00\">samples = 4</text>\n",
       "<text text-anchor=\"middle\" x=\"874\" y=\"-1086.3\" font-family=\"Times,serif\" font-size=\"14.00\">value = [0, 4]</text>\n",
       "<text text-anchor=\"middle\" x=\"874\" y=\"-1071.3\" font-family=\"Times,serif\" font-size=\"14.00\">class = 生还</text>\n",
       "</g>\n",
       "<!-- 14&#45;&gt;24 -->\n",
       "<g id=\"edge24\" class=\"edge\"><title>14&#45;&gt;24</title>\n",
       "<path fill=\"none\" stroke=\"black\" d=\"M890.979,-1174.91C888.576,-1164.09 885.973,-1152.38 883.542,-1141.44\"/>\n",
       "<polygon fill=\"black\" stroke=\"black\" points=\"886.956,-1140.67 881.37,-1131.67 880.123,-1142.19 886.956,-1140.67\"/>\n",
       "</g>\n",
       "<!-- 16 -->\n",
       "<g id=\"node17\" class=\"node\"><title>16</title>\n",
       "<polygon fill=\"#55abe9\" stroke=\"black\" points=\"368,-1020 276,-1020 276,-937 368,-937 368,-1020\"/>\n",
       "<text text-anchor=\"middle\" x=\"322\" y=\"-1004.8\" font-family=\"Times,serif\" font-size=\"14.00\">Age &lt;= 40.5</text>\n",
       "<text text-anchor=\"middle\" x=\"322\" y=\"-989.8\" font-family=\"Times,serif\" font-size=\"14.00\">gini = 0.219</text>\n",
       "<text text-anchor=\"middle\" x=\"322\" y=\"-974.8\" font-family=\"Times,serif\" font-size=\"14.00\">samples = 8</text>\n",
       "<text text-anchor=\"middle\" x=\"322\" y=\"-959.8\" font-family=\"Times,serif\" font-size=\"14.00\">value = [1, 7]</text>\n",
       "<text text-anchor=\"middle\" x=\"322\" y=\"-944.8\" font-family=\"Times,serif\" font-size=\"14.00\">class = 生还</text>\n",
       "</g>\n",
       "<!-- 15&#45;&gt;16 -->\n",
       "<g id=\"edge16\" class=\"edge\"><title>15&#45;&gt;16</title>\n",
       "<path fill=\"none\" stroke=\"black\" d=\"M440.994,-1061.4C420.622,-1047.38 397.131,-1031.21 376.43,-1016.96\"/>\n",
       "<polygon fill=\"black\" stroke=\"black\" points=\"378.27,-1013.98 368.048,-1011.19 374.302,-1019.74 378.27,-1013.98\"/>\n",
       "</g>\n",
       "<!-- 21 -->\n",
       "<g id=\"node22\" class=\"node\"><title>21</title>\n",
       "<polygon fill=\"#eca06a\" stroke=\"black\" points=\"542.5,-1020 441.5,-1020 441.5,-937 542.5,-937 542.5,-1020\"/>\n",
       "<text text-anchor=\"middle\" x=\"492\" y=\"-1004.8\" font-family=\"Times,serif\" font-size=\"14.00\">Age &lt;= 27.5</text>\n",
       "<text text-anchor=\"middle\" x=\"492\" y=\"-989.8\" font-family=\"Times,serif\" font-size=\"14.00\">gini = 0.32</text>\n",
       "<text text-anchor=\"middle\" x=\"492\" y=\"-974.8\" font-family=\"Times,serif\" font-size=\"14.00\">samples = 5</text>\n",
       "<text text-anchor=\"middle\" x=\"492\" y=\"-959.8\" font-family=\"Times,serif\" font-size=\"14.00\">value = [4, 1]</text>\n",
       "<text text-anchor=\"middle\" x=\"492\" y=\"-944.8\" font-family=\"Times,serif\" font-size=\"14.00\">class = 未生还</text>\n",
       "</g>\n",
       "<!-- 15&#45;&gt;21 -->\n",
       "<g id=\"edge21\" class=\"edge\"><title>15&#45;&gt;21</title>\n",
       "<path fill=\"none\" stroke=\"black\" d=\"M492,-1055.91C492,-1047.65 492,-1038.86 492,-1030.3\"/>\n",
       "<polygon fill=\"black\" stroke=\"black\" points=\"495.5,-1030.02 492,-1020.02 488.5,-1030.02 495.5,-1030.02\"/>\n",
       "</g>\n",
       "<!-- 17 -->\n",
       "<g id=\"node18\" class=\"node\"><title>17</title>\n",
       "<polygon fill=\"#399de5\" stroke=\"black\" points=\"258,-893.5 166,-893.5 166,-825.5 258,-825.5 258,-893.5\"/>\n",
       "<text text-anchor=\"middle\" x=\"212\" y=\"-878.3\" font-family=\"Times,serif\" font-size=\"14.00\">gini = 0.0</text>\n",
       "<text text-anchor=\"middle\" x=\"212\" y=\"-863.3\" font-family=\"Times,serif\" font-size=\"14.00\">samples = 5</text>\n",
       "<text text-anchor=\"middle\" x=\"212\" y=\"-848.3\" font-family=\"Times,serif\" font-size=\"14.00\">value = [0, 5]</text>\n",
       "<text text-anchor=\"middle\" x=\"212\" y=\"-833.3\" font-family=\"Times,serif\" font-size=\"14.00\">class = 生还</text>\n",
       "</g>\n",
       "<!-- 16&#45;&gt;17 -->\n",
       "<g id=\"edge17\" class=\"edge\"><title>16&#45;&gt;17</title>\n",
       "<path fill=\"none\" stroke=\"black\" d=\"M283.836,-936.907C272.943,-925.321 261.075,-912.698 250.181,-901.111\"/>\n",
       "<polygon fill=\"black\" stroke=\"black\" points=\"252.582,-898.555 243.183,-893.667 247.482,-903.35 252.582,-898.555\"/>\n",
       "</g>\n",
       "<!-- 18 -->\n",
       "<g id=\"node19\" class=\"node\"><title>18</title>\n",
       "<polygon fill=\"#9ccef2\" stroke=\"black\" points=\"368,-901 276,-901 276,-818 368,-818 368,-901\"/>\n",
       "<text text-anchor=\"middle\" x=\"322\" y=\"-885.8\" font-family=\"Times,serif\" font-size=\"14.00\">Age &lt;= 48.0</text>\n",
       "<text text-anchor=\"middle\" x=\"322\" y=\"-870.8\" font-family=\"Times,serif\" font-size=\"14.00\">gini = 0.444</text>\n",
       "<text text-anchor=\"middle\" x=\"322\" y=\"-855.8\" font-family=\"Times,serif\" font-size=\"14.00\">samples = 3</text>\n",
       "<text text-anchor=\"middle\" x=\"322\" y=\"-840.8\" font-family=\"Times,serif\" font-size=\"14.00\">value = [1, 2]</text>\n",
       "<text text-anchor=\"middle\" x=\"322\" y=\"-825.8\" font-family=\"Times,serif\" font-size=\"14.00\">class = 生还</text>\n",
       "</g>\n",
       "<!-- 16&#45;&gt;18 -->\n",
       "<g id=\"edge18\" class=\"edge\"><title>16&#45;&gt;18</title>\n",
       "<path fill=\"none\" stroke=\"black\" d=\"M322,-936.907C322,-928.649 322,-919.864 322,-911.302\"/>\n",
       "<polygon fill=\"black\" stroke=\"black\" points=\"325.5,-911.021 322,-901.021 318.5,-911.021 325.5,-911.021\"/>\n",
       "</g>\n",
       "<!-- 19 -->\n",
       "<g id=\"node20\" class=\"node\"><title>19</title>\n",
       "<polygon fill=\"#ffffff\" stroke=\"black\" points=\"266.5,-774.5 165.5,-774.5 165.5,-706.5 266.5,-706.5 266.5,-774.5\"/>\n",
       "<text text-anchor=\"middle\" x=\"216\" y=\"-759.3\" font-family=\"Times,serif\" font-size=\"14.00\">gini = 0.5</text>\n",
       "<text text-anchor=\"middle\" x=\"216\" y=\"-744.3\" font-family=\"Times,serif\" font-size=\"14.00\">samples = 2</text>\n",
       "<text text-anchor=\"middle\" x=\"216\" y=\"-729.3\" font-family=\"Times,serif\" font-size=\"14.00\">value = [1, 1]</text>\n",
       "<text text-anchor=\"middle\" x=\"216\" y=\"-714.3\" font-family=\"Times,serif\" font-size=\"14.00\">class = 未生还</text>\n",
       "</g>\n",
       "<!-- 18&#45;&gt;19 -->\n",
       "<g id=\"edge19\" class=\"edge\"><title>18&#45;&gt;19</title>\n",
       "<path fill=\"none\" stroke=\"black\" d=\"M285.224,-817.907C274.727,-806.321 263.29,-793.698 252.792,-782.111\"/>\n",
       "<polygon fill=\"black\" stroke=\"black\" points=\"255.357,-779.728 246.049,-774.667 250.169,-784.428 255.357,-779.728\"/>\n",
       "</g>\n",
       "<!-- 20 -->\n",
       "<g id=\"node21\" class=\"node\"><title>20</title>\n",
       "<polygon fill=\"#399de5\" stroke=\"black\" points=\"377,-774.5 285,-774.5 285,-706.5 377,-706.5 377,-774.5\"/>\n",
       "<text text-anchor=\"middle\" x=\"331\" y=\"-759.3\" font-family=\"Times,serif\" font-size=\"14.00\">gini = 0.0</text>\n",
       "<text text-anchor=\"middle\" x=\"331\" y=\"-744.3\" font-family=\"Times,serif\" font-size=\"14.00\">samples = 1</text>\n",
       "<text text-anchor=\"middle\" x=\"331\" y=\"-729.3\" font-family=\"Times,serif\" font-size=\"14.00\">value = [0, 1]</text>\n",
       "<text text-anchor=\"middle\" x=\"331\" y=\"-714.3\" font-family=\"Times,serif\" font-size=\"14.00\">class = 生还</text>\n",
       "</g>\n",
       "<!-- 18&#45;&gt;20 -->\n",
       "<g id=\"edge20\" class=\"edge\"><title>18&#45;&gt;20</title>\n",
       "<path fill=\"none\" stroke=\"black\" d=\"M325.123,-817.907C325.946,-807.204 326.837,-795.615 327.671,-784.776\"/>\n",
       "<polygon fill=\"black\" stroke=\"black\" points=\"331.171,-784.906 328.449,-774.667 324.192,-784.369 331.171,-784.906\"/>\n",
       "</g>\n",
       "<!-- 22 -->\n",
       "<g id=\"node23\" class=\"node\"><title>22</title>\n",
       "<polygon fill=\"#399de5\" stroke=\"black\" points=\"478,-893.5 386,-893.5 386,-825.5 478,-825.5 478,-893.5\"/>\n",
       "<text text-anchor=\"middle\" x=\"432\" y=\"-878.3\" font-family=\"Times,serif\" font-size=\"14.00\">gini = 0.0</text>\n",
       "<text text-anchor=\"middle\" x=\"432\" y=\"-863.3\" font-family=\"Times,serif\" font-size=\"14.00\">samples = 1</text>\n",
       "<text text-anchor=\"middle\" x=\"432\" y=\"-848.3\" font-family=\"Times,serif\" font-size=\"14.00\">value = [0, 1]</text>\n",
       "<text text-anchor=\"middle\" x=\"432\" y=\"-833.3\" font-family=\"Times,serif\" font-size=\"14.00\">class = 生还</text>\n",
       "</g>\n",
       "<!-- 21&#45;&gt;22 -->\n",
       "<g id=\"edge22\" class=\"edge\"><title>21&#45;&gt;22</title>\n",
       "<path fill=\"none\" stroke=\"black\" d=\"M471.183,-936.907C465.525,-925.873 459.383,-913.898 453.678,-902.773\"/>\n",
       "<polygon fill=\"black\" stroke=\"black\" points=\"456.686,-900.968 449.009,-893.667 450.458,-904.162 456.686,-900.968\"/>\n",
       "</g>\n",
       "<!-- 23 -->\n",
       "<g id=\"node24\" class=\"node\"><title>23</title>\n",
       "<polygon fill=\"#e58139\" stroke=\"black\" points=\"597.5,-893.5 496.5,-893.5 496.5,-825.5 597.5,-825.5 597.5,-893.5\"/>\n",
       "<text text-anchor=\"middle\" x=\"547\" y=\"-878.3\" font-family=\"Times,serif\" font-size=\"14.00\">gini = 0.0</text>\n",
       "<text text-anchor=\"middle\" x=\"547\" y=\"-863.3\" font-family=\"Times,serif\" font-size=\"14.00\">samples = 4</text>\n",
       "<text text-anchor=\"middle\" x=\"547\" y=\"-848.3\" font-family=\"Times,serif\" font-size=\"14.00\">value = [4, 0]</text>\n",
       "<text text-anchor=\"middle\" x=\"547\" y=\"-833.3\" font-family=\"Times,serif\" font-size=\"14.00\">class = 未生还</text>\n",
       "</g>\n",
       "<!-- 21&#45;&gt;23 -->\n",
       "<g id=\"edge23\" class=\"edge\"><title>21&#45;&gt;23</title>\n",
       "<path fill=\"none\" stroke=\"black\" d=\"M511.082,-936.907C516.269,-925.873 521.899,-913.898 527.128,-902.773\"/>\n",
       "<polygon fill=\"black\" stroke=\"black\" points=\"530.322,-904.206 531.409,-893.667 523.987,-901.228 530.322,-904.206\"/>\n",
       "</g>\n",
       "<!-- 26 -->\n",
       "<g id=\"node27\" class=\"node\"><title>26</title>\n",
       "<polygon fill=\"#f1bc95\" stroke=\"black\" points=\"1101.5,-1258 992.5,-1258 992.5,-1175 1101.5,-1175 1101.5,-1258\"/>\n",
       "<text text-anchor=\"middle\" x=\"1047\" y=\"-1242.8\" font-family=\"Times,serif\" font-size=\"14.00\">Fare &lt;= 134.642</text>\n",
       "<text text-anchor=\"middle\" x=\"1047\" y=\"-1227.8\" font-family=\"Times,serif\" font-size=\"14.00\">gini = 0.433</text>\n",
       "<text text-anchor=\"middle\" x=\"1047\" y=\"-1212.8\" font-family=\"Times,serif\" font-size=\"14.00\">samples = 41</text>\n",
       "<text text-anchor=\"middle\" x=\"1047\" y=\"-1197.8\" font-family=\"Times,serif\" font-size=\"14.00\">value = [28, 13]</text>\n",
       "<text text-anchor=\"middle\" x=\"1047\" y=\"-1182.8\" font-family=\"Times,serif\" font-size=\"14.00\">class = 未生还</text>\n",
       "</g>\n",
       "<!-- 25&#45;&gt;26 -->\n",
       "<g id=\"edge26\" class=\"edge\"><title>25&#45;&gt;26</title>\n",
       "<path fill=\"none\" stroke=\"black\" d=\"M1122.1,-1293.91C1113,-1284.65 1103.25,-1274.73 1093.89,-1265.21\"/>\n",
       "<polygon fill=\"black\" stroke=\"black\" points=\"1096.33,-1262.7 1086.83,-1258.02 1091.34,-1267.61 1096.33,-1262.7\"/>\n",
       "</g>\n",
       "<!-- 59 -->\n",
       "<g id=\"node60\" class=\"node\"><title>59</title>\n",
       "<polygon fill=\"#399de5\" stroke=\"black\" points=\"1212,-1250.5 1120,-1250.5 1120,-1182.5 1212,-1182.5 1212,-1250.5\"/>\n",
       "<text text-anchor=\"middle\" x=\"1166\" y=\"-1235.3\" font-family=\"Times,serif\" font-size=\"14.00\">gini = 0.0</text>\n",
       "<text text-anchor=\"middle\" x=\"1166\" y=\"-1220.3\" font-family=\"Times,serif\" font-size=\"14.00\">samples = 1</text>\n",
       "<text text-anchor=\"middle\" x=\"1166\" y=\"-1205.3\" font-family=\"Times,serif\" font-size=\"14.00\">value = [0, 1]</text>\n",
       "<text text-anchor=\"middle\" x=\"1166\" y=\"-1190.3\" font-family=\"Times,serif\" font-size=\"14.00\">class = 生还</text>\n",
       "</g>\n",
       "<!-- 25&#45;&gt;59 -->\n",
       "<g id=\"edge59\" class=\"edge\"><title>25&#45;&gt;59</title>\n",
       "<path fill=\"none\" stroke=\"black\" d=\"M1163.39,-1293.91C1163.75,-1283.2 1164.15,-1271.62 1164.52,-1260.78\"/>\n",
       "<polygon fill=\"black\" stroke=\"black\" points=\"1168.02,-1260.78 1164.87,-1250.67 1161.03,-1260.54 1168.02,-1260.78\"/>\n",
       "</g>\n",
       "<!-- 27 -->\n",
       "<g id=\"node28\" class=\"node\"><title>27</title>\n",
       "<polygon fill=\"#f4c8a9\" stroke=\"black\" points=\"1043.5,-1139 938.5,-1139 938.5,-1056 1043.5,-1056 1043.5,-1139\"/>\n",
       "<text text-anchor=\"middle\" x=\"991\" y=\"-1123.8\" font-family=\"Times,serif\" font-size=\"14.00\">Fare &lt;= 85.638</text>\n",
       "<text text-anchor=\"middle\" x=\"991\" y=\"-1108.8\" font-family=\"Times,serif\" font-size=\"14.00\">gini = 0.461</text>\n",
       "<text text-anchor=\"middle\" x=\"991\" y=\"-1093.8\" font-family=\"Times,serif\" font-size=\"14.00\">samples = 36</text>\n",
       "<text text-anchor=\"middle\" x=\"991\" y=\"-1078.8\" font-family=\"Times,serif\" font-size=\"14.00\">value = [23, 13]</text>\n",
       "<text text-anchor=\"middle\" x=\"991\" y=\"-1063.8\" font-family=\"Times,serif\" font-size=\"14.00\">class = 未生还</text>\n",
       "</g>\n",
       "<!-- 26&#45;&gt;27 -->\n",
       "<g id=\"edge27\" class=\"edge\"><title>26&#45;&gt;27</title>\n",
       "<path fill=\"none\" stroke=\"black\" d=\"M1027.57,-1174.91C1023.44,-1166.29 1019.04,-1157.09 1014.78,-1148.17\"/>\n",
       "<polygon fill=\"black\" stroke=\"black\" points=\"1017.87,-1146.53 1010.39,-1139.02 1011.55,-1149.55 1017.87,-1146.53\"/>\n",
       "</g>\n",
       "<!-- 58 -->\n",
       "<g id=\"node59\" class=\"node\"><title>58</title>\n",
       "<polygon fill=\"#e58139\" stroke=\"black\" points=\"1162.5,-1131.5 1061.5,-1131.5 1061.5,-1063.5 1162.5,-1063.5 1162.5,-1131.5\"/>\n",
       "<text text-anchor=\"middle\" x=\"1112\" y=\"-1116.3\" font-family=\"Times,serif\" font-size=\"14.00\">gini = 0.0</text>\n",
       "<text text-anchor=\"middle\" x=\"1112\" y=\"-1101.3\" font-family=\"Times,serif\" font-size=\"14.00\">samples = 5</text>\n",
       "<text text-anchor=\"middle\" x=\"1112\" y=\"-1086.3\" font-family=\"Times,serif\" font-size=\"14.00\">value = [5, 0]</text>\n",
       "<text text-anchor=\"middle\" x=\"1112\" y=\"-1071.3\" font-family=\"Times,serif\" font-size=\"14.00\">class = 未生还</text>\n",
       "</g>\n",
       "<!-- 26&#45;&gt;58 -->\n",
       "<g id=\"edge58\" class=\"edge\"><title>26&#45;&gt;58</title>\n",
       "<path fill=\"none\" stroke=\"black\" d=\"M1069.55,-1174.91C1075.74,-1163.76 1082.47,-1151.66 1088.7,-1140.44\"/>\n",
       "<polygon fill=\"black\" stroke=\"black\" points=\"1091.78,-1142.11 1093.57,-1131.67 1085.66,-1138.71 1091.78,-1142.11\"/>\n",
       "</g>\n",
       "<!-- 28 -->\n",
       "<g id=\"node29\" class=\"node\"><title>28</title>\n",
       "<polygon fill=\"#f0b68c\" stroke=\"black\" points=\"873,-1020 771,-1020 771,-937 873,-937 873,-1020\"/>\n",
       "<text text-anchor=\"middle\" x=\"822\" y=\"-1004.8\" font-family=\"Times,serif\" font-size=\"14.00\">Fare &lt;= 77.008</text>\n",
       "<text text-anchor=\"middle\" x=\"822\" y=\"-989.8\" font-family=\"Times,serif\" font-size=\"14.00\">gini = 0.417</text>\n",
       "<text text-anchor=\"middle\" x=\"822\" y=\"-974.8\" font-family=\"Times,serif\" font-size=\"14.00\">samples = 27</text>\n",
       "<text text-anchor=\"middle\" x=\"822\" y=\"-959.8\" font-family=\"Times,serif\" font-size=\"14.00\">value = [19, 8]</text>\n",
       "<text text-anchor=\"middle\" x=\"822\" y=\"-944.8\" font-family=\"Times,serif\" font-size=\"14.00\">class = 未生还</text>\n",
       "</g>\n",
       "<!-- 27&#45;&gt;28 -->\n",
       "<g id=\"edge28\" class=\"edge\"><title>27&#45;&gt;28</title>\n",
       "<path fill=\"none\" stroke=\"black\" d=\"M938.454,-1060.12C920.388,-1047.61 900.037,-1033.53 881.461,-1020.67\"/>\n",
       "<polygon fill=\"black\" stroke=\"black\" points=\"883.28,-1017.67 873.066,-1014.85 879.295,-1023.42 883.28,-1017.67\"/>\n",
       "</g>\n",
       "<!-- 49 -->\n",
       "<g id=\"node50\" class=\"node\"><title>49</title>\n",
       "<polygon fill=\"#d7ebfa\" stroke=\"black\" points=\"1055,-1020 927,-1020 927,-937 1055,-937 1055,-1020\"/>\n",
       "<text text-anchor=\"middle\" x=\"991\" y=\"-1004.8\" font-family=\"Times,serif\" font-size=\"14.00\">Embarked_S &lt;= 0.5</text>\n",
       "<text text-anchor=\"middle\" x=\"991\" y=\"-989.8\" font-family=\"Times,serif\" font-size=\"14.00\">gini = 0.494</text>\n",
       "<text text-anchor=\"middle\" x=\"991\" y=\"-974.8\" font-family=\"Times,serif\" font-size=\"14.00\">samples = 9</text>\n",
       "<text text-anchor=\"middle\" x=\"991\" y=\"-959.8\" font-family=\"Times,serif\" font-size=\"14.00\">value = [4, 5]</text>\n",
       "<text text-anchor=\"middle\" x=\"991\" y=\"-944.8\" font-family=\"Times,serif\" font-size=\"14.00\">class = 生还</text>\n",
       "</g>\n",
       "<!-- 27&#45;&gt;49 -->\n",
       "<g id=\"edge49\" class=\"edge\"><title>27&#45;&gt;49</title>\n",
       "<path fill=\"none\" stroke=\"black\" d=\"M991,-1055.91C991,-1047.65 991,-1038.86 991,-1030.3\"/>\n",
       "<polygon fill=\"black\" stroke=\"black\" points=\"994.5,-1030.02 991,-1020.02 987.5,-1030.02 994.5,-1030.02\"/>\n",
       "</g>\n",
       "<!-- 29 -->\n",
       "<g id=\"node30\" class=\"node\"><title>29</title>\n",
       "<polygon fill=\"#f5cfb3\" stroke=\"black\" points=\"746,-901 616,-901 616,-818 746,-818 746,-901\"/>\n",
       "<text text-anchor=\"middle\" x=\"681\" y=\"-885.8\" font-family=\"Times,serif\" font-size=\"14.00\">Embarked_C &lt;= 0.5</text>\n",
       "<text text-anchor=\"middle\" x=\"681\" y=\"-870.8\" font-family=\"Times,serif\" font-size=\"14.00\">gini = 0.472</text>\n",
       "<text text-anchor=\"middle\" x=\"681\" y=\"-855.8\" font-family=\"Times,serif\" font-size=\"14.00\">samples = 21</text>\n",
       "<text text-anchor=\"middle\" x=\"681\" y=\"-840.8\" font-family=\"Times,serif\" font-size=\"14.00\">value = [13, 8]</text>\n",
       "<text text-anchor=\"middle\" x=\"681\" y=\"-825.8\" font-family=\"Times,serif\" font-size=\"14.00\">class = 未生还</text>\n",
       "</g>\n",
       "<!-- 28&#45;&gt;29 -->\n",
       "<g id=\"edge29\" class=\"edge\"><title>28&#45;&gt;29</title>\n",
       "<path fill=\"none\" stroke=\"black\" d=\"M773.081,-936.907C761.707,-927.469 749.503,-917.343 737.821,-907.649\"/>\n",
       "<polygon fill=\"black\" stroke=\"black\" points=\"739.763,-904.713 729.833,-901.021 735.293,-910.1 739.763,-904.713\"/>\n",
       "</g>\n",
       "<!-- 48 -->\n",
       "<g id=\"node49\" class=\"node\"><title>48</title>\n",
       "<polygon fill=\"#e58139\" stroke=\"black\" points=\"872.5,-893.5 771.5,-893.5 771.5,-825.5 872.5,-825.5 872.5,-893.5\"/>\n",
       "<text text-anchor=\"middle\" x=\"822\" y=\"-878.3\" font-family=\"Times,serif\" font-size=\"14.00\">gini = 0.0</text>\n",
       "<text text-anchor=\"middle\" x=\"822\" y=\"-863.3\" font-family=\"Times,serif\" font-size=\"14.00\">samples = 6</text>\n",
       "<text text-anchor=\"middle\" x=\"822\" y=\"-848.3\" font-family=\"Times,serif\" font-size=\"14.00\">value = [6, 0]</text>\n",
       "<text text-anchor=\"middle\" x=\"822\" y=\"-833.3\" font-family=\"Times,serif\" font-size=\"14.00\">class = 未生还</text>\n",
       "</g>\n",
       "<!-- 28&#45;&gt;48 -->\n",
       "<g id=\"edge48\" class=\"edge\"><title>28&#45;&gt;48</title>\n",
       "<path fill=\"none\" stroke=\"black\" d=\"M822,-936.907C822,-926.204 822,-914.615 822,-903.776\"/>\n",
       "<polygon fill=\"black\" stroke=\"black\" points=\"825.5,-903.667 822,-893.667 818.5,-903.667 825.5,-903.667\"/>\n",
       "</g>\n",
       "<!-- 30 -->\n",
       "<g id=\"node31\" class=\"node\"><title>30</title>\n",
       "<polygon fill=\"#eeab7b\" stroke=\"black\" points=\"505.5,-782 404.5,-782 404.5,-699 505.5,-699 505.5,-782\"/>\n",
       "<text text-anchor=\"middle\" x=\"455\" y=\"-766.8\" font-family=\"Times,serif\" font-size=\"14.00\">Parch &lt;= 0.5</text>\n",
       "<text text-anchor=\"middle\" x=\"455\" y=\"-751.8\" font-family=\"Times,serif\" font-size=\"14.00\">gini = 0.375</text>\n",
       "<text text-anchor=\"middle\" x=\"455\" y=\"-736.8\" font-family=\"Times,serif\" font-size=\"14.00\">samples = 16</text>\n",
       "<text text-anchor=\"middle\" x=\"455\" y=\"-721.8\" font-family=\"Times,serif\" font-size=\"14.00\">value = [12, 4]</text>\n",
       "<text text-anchor=\"middle\" x=\"455\" y=\"-706.8\" font-family=\"Times,serif\" font-size=\"14.00\">class = 未生还</text>\n",
       "</g>\n",
       "<!-- 29&#45;&gt;30 -->\n",
       "<g id=\"edge30\" class=\"edge\"><title>29&#45;&gt;30</title>\n",
       "<path fill=\"none\" stroke=\"black\" d=\"M615.607,-823.058C612.363,-821.34 609.147,-819.646 606,-818 576.055,-802.333 542.542,-785.304 514.71,-771.299\"/>\n",
       "<polygon fill=\"black\" stroke=\"black\" points=\"516.009,-768.035 505.503,-766.671 512.866,-774.289 516.009,-768.035\"/>\n",
       "</g>\n",
       "<!-- 45 -->\n",
       "<g id=\"node46\" class=\"node\"><title>45</title>\n",
       "<polygon fill=\"#6ab6ec\" stroke=\"black\" points=\"726,-782 634,-782 634,-699 726,-699 726,-782\"/>\n",
       "<text text-anchor=\"middle\" x=\"680\" y=\"-766.8\" font-family=\"Times,serif\" font-size=\"14.00\">Age &lt;= 50.0</text>\n",
       "<text text-anchor=\"middle\" x=\"680\" y=\"-751.8\" font-family=\"Times,serif\" font-size=\"14.00\">gini = 0.32</text>\n",
       "<text text-anchor=\"middle\" x=\"680\" y=\"-736.8\" font-family=\"Times,serif\" font-size=\"14.00\">samples = 5</text>\n",
       "<text text-anchor=\"middle\" x=\"680\" y=\"-721.8\" font-family=\"Times,serif\" font-size=\"14.00\">value = [1, 4]</text>\n",
       "<text text-anchor=\"middle\" x=\"680\" y=\"-706.8\" font-family=\"Times,serif\" font-size=\"14.00\">class = 生还</text>\n",
       "</g>\n",
       "<!-- 29&#45;&gt;45 -->\n",
       "<g id=\"edge45\" class=\"edge\"><title>29&#45;&gt;45</title>\n",
       "<path fill=\"none\" stroke=\"black\" d=\"M680.653,-817.907C680.582,-809.649 680.507,-800.864 680.434,-792.302\"/>\n",
       "<polygon fill=\"black\" stroke=\"black\" points=\"683.932,-791.99 680.346,-782.021 676.932,-792.05 683.932,-791.99\"/>\n",
       "</g>\n",
       "<!-- 31 -->\n",
       "<g id=\"node32\" class=\"node\"><title>31</title>\n",
       "<polygon fill=\"#eca06a\" stroke=\"black\" points=\"391,-663 289,-663 289,-580 391,-580 391,-663\"/>\n",
       "<text text-anchor=\"middle\" x=\"340\" y=\"-647.8\" font-family=\"Times,serif\" font-size=\"14.00\">Fare &lt;= 52.827</text>\n",
       "<text text-anchor=\"middle\" x=\"340\" y=\"-632.8\" font-family=\"Times,serif\" font-size=\"14.00\">gini = 0.32</text>\n",
       "<text text-anchor=\"middle\" x=\"340\" y=\"-617.8\" font-family=\"Times,serif\" font-size=\"14.00\">samples = 15</text>\n",
       "<text text-anchor=\"middle\" x=\"340\" y=\"-602.8\" font-family=\"Times,serif\" font-size=\"14.00\">value = [12, 3]</text>\n",
       "<text text-anchor=\"middle\" x=\"340\" y=\"-587.8\" font-family=\"Times,serif\" font-size=\"14.00\">class = 未生还</text>\n",
       "</g>\n",
       "<!-- 30&#45;&gt;31 -->\n",
       "<g id=\"edge31\" class=\"edge\"><title>30&#45;&gt;31</title>\n",
       "<path fill=\"none\" stroke=\"black\" d=\"M415.101,-698.907C406.003,-689.651 396.254,-679.732 386.893,-670.209\"/>\n",
       "<polygon fill=\"black\" stroke=\"black\" points=\"389.334,-667.699 379.828,-663.021 384.342,-672.606 389.334,-667.699\"/>\n",
       "</g>\n",
       "<!-- 44 -->\n",
       "<g id=\"node45\" class=\"node\"><title>44</title>\n",
       "<polygon fill=\"#399de5\" stroke=\"black\" points=\"501,-655.5 409,-655.5 409,-587.5 501,-587.5 501,-655.5\"/>\n",
       "<text text-anchor=\"middle\" x=\"455\" y=\"-640.3\" font-family=\"Times,serif\" font-size=\"14.00\">gini = 0.0</text>\n",
       "<text text-anchor=\"middle\" x=\"455\" y=\"-625.3\" font-family=\"Times,serif\" font-size=\"14.00\">samples = 1</text>\n",
       "<text text-anchor=\"middle\" x=\"455\" y=\"-610.3\" font-family=\"Times,serif\" font-size=\"14.00\">value = [0, 1]</text>\n",
       "<text text-anchor=\"middle\" x=\"455\" y=\"-595.3\" font-family=\"Times,serif\" font-size=\"14.00\">class = 生还</text>\n",
       "</g>\n",
       "<!-- 30&#45;&gt;44 -->\n",
       "<g id=\"edge44\" class=\"edge\"><title>30&#45;&gt;44</title>\n",
       "<path fill=\"none\" stroke=\"black\" d=\"M455,-698.907C455,-688.204 455,-676.615 455,-665.776\"/>\n",
       "<polygon fill=\"black\" stroke=\"black\" points=\"458.5,-665.667 455,-655.667 451.5,-665.667 458.5,-665.667\"/>\n",
       "</g>\n",
       "<!-- 32 -->\n",
       "<g id=\"node33\" class=\"node\"><title>32</title>\n",
       "<polygon fill=\"#f0b78e\" stroke=\"black\" points=\"331.5,-544 230.5,-544 230.5,-461 331.5,-461 331.5,-544\"/>\n",
       "<text text-anchor=\"middle\" x=\"281\" y=\"-528.8\" font-family=\"Times,serif\" font-size=\"14.00\">SibSp &lt;= 0.5</text>\n",
       "<text text-anchor=\"middle\" x=\"281\" y=\"-513.8\" font-family=\"Times,serif\" font-size=\"14.00\">gini = 0.42</text>\n",
       "<text text-anchor=\"middle\" x=\"281\" y=\"-498.8\" font-family=\"Times,serif\" font-size=\"14.00\">samples = 10</text>\n",
       "<text text-anchor=\"middle\" x=\"281\" y=\"-483.8\" font-family=\"Times,serif\" font-size=\"14.00\">value = [7, 3]</text>\n",
       "<text text-anchor=\"middle\" x=\"281\" y=\"-468.8\" font-family=\"Times,serif\" font-size=\"14.00\">class = 未生还</text>\n",
       "</g>\n",
       "<!-- 31&#45;&gt;32 -->\n",
       "<g id=\"edge32\" class=\"edge\"><title>31&#45;&gt;32</title>\n",
       "<path fill=\"none\" stroke=\"black\" d=\"M319.53,-579.907C315.183,-571.286 310.546,-562.09 306.05,-553.175\"/>\n",
       "<polygon fill=\"black\" stroke=\"black\" points=\"309.061,-551.374 301.434,-544.021 302.811,-554.526 309.061,-551.374\"/>\n",
       "</g>\n",
       "<!-- 43 -->\n",
       "<g id=\"node44\" class=\"node\"><title>43</title>\n",
       "<polygon fill=\"#e58139\" stroke=\"black\" points=\"450.5,-536.5 349.5,-536.5 349.5,-468.5 450.5,-468.5 450.5,-536.5\"/>\n",
       "<text text-anchor=\"middle\" x=\"400\" y=\"-521.3\" font-family=\"Times,serif\" font-size=\"14.00\">gini = 0.0</text>\n",
       "<text text-anchor=\"middle\" x=\"400\" y=\"-506.3\" font-family=\"Times,serif\" font-size=\"14.00\">samples = 5</text>\n",
       "<text text-anchor=\"middle\" x=\"400\" y=\"-491.3\" font-family=\"Times,serif\" font-size=\"14.00\">value = [5, 0]</text>\n",
       "<text text-anchor=\"middle\" x=\"400\" y=\"-476.3\" font-family=\"Times,serif\" font-size=\"14.00\">class = 未生还</text>\n",
       "</g>\n",
       "<!-- 31&#45;&gt;43 -->\n",
       "<g id=\"edge43\" class=\"edge\"><title>31&#45;&gt;43</title>\n",
       "<path fill=\"none\" stroke=\"black\" d=\"M360.817,-579.907C366.475,-568.873 372.617,-556.898 378.322,-545.773\"/>\n",
       "<polygon fill=\"black\" stroke=\"black\" points=\"381.542,-547.162 382.991,-536.667 375.314,-543.968 381.542,-547.162\"/>\n",
       "</g>\n",
       "<!-- 33 -->\n",
       "<g id=\"node34\" class=\"node\"><title>33</title>\n",
       "<polygon fill=\"#e9965a\" stroke=\"black\" points=\"271.5,-425 170.5,-425 170.5,-342 271.5,-342 271.5,-425\"/>\n",
       "<text text-anchor=\"middle\" x=\"221\" y=\"-409.8\" font-family=\"Times,serif\" font-size=\"14.00\">Age &lt;= 29.5</text>\n",
       "<text text-anchor=\"middle\" x=\"221\" y=\"-394.8\" font-family=\"Times,serif\" font-size=\"14.00\">gini = 0.245</text>\n",
       "<text text-anchor=\"middle\" x=\"221\" y=\"-379.8\" font-family=\"Times,serif\" font-size=\"14.00\">samples = 7</text>\n",
       "<text text-anchor=\"middle\" x=\"221\" y=\"-364.8\" font-family=\"Times,serif\" font-size=\"14.00\">value = [6, 1]</text>\n",
       "<text text-anchor=\"middle\" x=\"221\" y=\"-349.8\" font-family=\"Times,serif\" font-size=\"14.00\">class = 未生还</text>\n",
       "</g>\n",
       "<!-- 32&#45;&gt;33 -->\n",
       "<g id=\"edge33\" class=\"edge\"><title>32&#45;&gt;33</title>\n",
       "<path fill=\"none\" stroke=\"black\" d=\"M260.183,-460.907C255.762,-452.286 251.046,-443.09 246.474,-434.175\"/>\n",
       "<polygon fill=\"black\" stroke=\"black\" points=\"249.457,-432.322 241.78,-425.021 243.229,-435.516 249.457,-432.322\"/>\n",
       "</g>\n",
       "<!-- 38 -->\n",
       "<g id=\"node39\" class=\"node\"><title>38</title>\n",
       "<polygon fill=\"#9ccef2\" stroke=\"black\" points=\"392,-425 290,-425 290,-342 392,-342 392,-425\"/>\n",
       "<text text-anchor=\"middle\" x=\"341\" y=\"-409.8\" font-family=\"Times,serif\" font-size=\"14.00\">Fare &lt;= 52.277</text>\n",
       "<text text-anchor=\"middle\" x=\"341\" y=\"-394.8\" font-family=\"Times,serif\" font-size=\"14.00\">gini = 0.444</text>\n",
       "<text text-anchor=\"middle\" x=\"341\" y=\"-379.8\" font-family=\"Times,serif\" font-size=\"14.00\">samples = 3</text>\n",
       "<text text-anchor=\"middle\" x=\"341\" y=\"-364.8\" font-family=\"Times,serif\" font-size=\"14.00\">value = [1, 2]</text>\n",
       "<text text-anchor=\"middle\" x=\"341\" y=\"-349.8\" font-family=\"Times,serif\" font-size=\"14.00\">class = 生还</text>\n",
       "</g>\n",
       "<!-- 32&#45;&gt;38 -->\n",
       "<g id=\"edge38\" class=\"edge\"><title>32&#45;&gt;38</title>\n",
       "<path fill=\"none\" stroke=\"black\" d=\"M301.817,-460.907C306.238,-452.286 310.954,-443.09 315.526,-434.175\"/>\n",
       "<polygon fill=\"black\" stroke=\"black\" points=\"318.771,-435.516 320.22,-425.021 312.543,-432.322 318.771,-435.516\"/>\n",
       "</g>\n",
       "<!-- 34 -->\n",
       "<g id=\"node35\" class=\"node\"><title>34</title>\n",
       "<polygon fill=\"#ffffff\" stroke=\"black\" points=\"153.5,-306 52.5,-306 52.5,-223 153.5,-223 153.5,-306\"/>\n",
       "<text text-anchor=\"middle\" x=\"103\" y=\"-290.8\" font-family=\"Times,serif\" font-size=\"14.00\">Fare &lt;= 41.3</text>\n",
       "<text text-anchor=\"middle\" x=\"103\" y=\"-275.8\" font-family=\"Times,serif\" font-size=\"14.00\">gini = 0.5</text>\n",
       "<text text-anchor=\"middle\" x=\"103\" y=\"-260.8\" font-family=\"Times,serif\" font-size=\"14.00\">samples = 2</text>\n",
       "<text text-anchor=\"middle\" x=\"103\" y=\"-245.8\" font-family=\"Times,serif\" font-size=\"14.00\">value = [1, 1]</text>\n",
       "<text text-anchor=\"middle\" x=\"103\" y=\"-230.8\" font-family=\"Times,serif\" font-size=\"14.00\">class = 未生还</text>\n",
       "</g>\n",
       "<!-- 33&#45;&gt;34 -->\n",
       "<g id=\"edge34\" class=\"edge\"><title>33&#45;&gt;34</title>\n",
       "<path fill=\"none\" stroke=\"black\" d=\"M180.06,-341.907C170.725,-332.651 160.721,-322.732 151.117,-313.209\"/>\n",
       "<polygon fill=\"black\" stroke=\"black\" points=\"153.433,-310.576 143.867,-306.021 148.504,-315.547 153.433,-310.576\"/>\n",
       "</g>\n",
       "<!-- 37 -->\n",
       "<g id=\"node38\" class=\"node\"><title>37</title>\n",
       "<polygon fill=\"#e58139\" stroke=\"black\" points=\"272.5,-298.5 171.5,-298.5 171.5,-230.5 272.5,-230.5 272.5,-298.5\"/>\n",
       "<text text-anchor=\"middle\" x=\"222\" y=\"-283.3\" font-family=\"Times,serif\" font-size=\"14.00\">gini = 0.0</text>\n",
       "<text text-anchor=\"middle\" x=\"222\" y=\"-268.3\" font-family=\"Times,serif\" font-size=\"14.00\">samples = 5</text>\n",
       "<text text-anchor=\"middle\" x=\"222\" y=\"-253.3\" font-family=\"Times,serif\" font-size=\"14.00\">value = [5, 0]</text>\n",
       "<text text-anchor=\"middle\" x=\"222\" y=\"-238.3\" font-family=\"Times,serif\" font-size=\"14.00\">class = 未生还</text>\n",
       "</g>\n",
       "<!-- 33&#45;&gt;37 -->\n",
       "<g id=\"edge37\" class=\"edge\"><title>33&#45;&gt;37</title>\n",
       "<path fill=\"none\" stroke=\"black\" d=\"M221.347,-341.907C221.438,-331.204 221.537,-319.615 221.63,-308.776\"/>\n",
       "<polygon fill=\"black\" stroke=\"black\" points=\"225.131,-308.697 221.717,-298.667 218.131,-308.637 225.131,-308.697\"/>\n",
       "</g>\n",
       "<!-- 35 -->\n",
       "<g id=\"node36\" class=\"node\"><title>35</title>\n",
       "<polygon fill=\"#399de5\" stroke=\"black\" points=\"92,-179.5 0,-179.5 0,-111.5 92,-111.5 92,-179.5\"/>\n",
       "<text text-anchor=\"middle\" x=\"46\" y=\"-164.3\" font-family=\"Times,serif\" font-size=\"14.00\">gini = 0.0</text>\n",
       "<text text-anchor=\"middle\" x=\"46\" y=\"-149.3\" font-family=\"Times,serif\" font-size=\"14.00\">samples = 1</text>\n",
       "<text text-anchor=\"middle\" x=\"46\" y=\"-134.3\" font-family=\"Times,serif\" font-size=\"14.00\">value = [0, 1]</text>\n",
       "<text text-anchor=\"middle\" x=\"46\" y=\"-119.3\" font-family=\"Times,serif\" font-size=\"14.00\">class = 生还</text>\n",
       "</g>\n",
       "<!-- 34&#45;&gt;35 -->\n",
       "<g id=\"edge35\" class=\"edge\"><title>34&#45;&gt;35</title>\n",
       "<path fill=\"none\" stroke=\"black\" d=\"M83.2241,-222.907C77.8484,-211.873 72.0143,-199.898 66.5944,-188.773\"/>\n",
       "<polygon fill=\"black\" stroke=\"black\" points=\"69.6845,-187.124 62.1583,-179.667 63.3915,-190.19 69.6845,-187.124\"/>\n",
       "</g>\n",
       "<!-- 36 -->\n",
       "<g id=\"node37\" class=\"node\"><title>36</title>\n",
       "<polygon fill=\"#e58139\" stroke=\"black\" points=\"211.5,-179.5 110.5,-179.5 110.5,-111.5 211.5,-111.5 211.5,-179.5\"/>\n",
       "<text text-anchor=\"middle\" x=\"161\" y=\"-164.3\" font-family=\"Times,serif\" font-size=\"14.00\">gini = 0.0</text>\n",
       "<text text-anchor=\"middle\" x=\"161\" y=\"-149.3\" font-family=\"Times,serif\" font-size=\"14.00\">samples = 1</text>\n",
       "<text text-anchor=\"middle\" x=\"161\" y=\"-134.3\" font-family=\"Times,serif\" font-size=\"14.00\">value = [1, 0]</text>\n",
       "<text text-anchor=\"middle\" x=\"161\" y=\"-119.3\" font-family=\"Times,serif\" font-size=\"14.00\">class = 未生还</text>\n",
       "</g>\n",
       "<!-- 34&#45;&gt;36 -->\n",
       "<g id=\"edge36\" class=\"edge\"><title>34&#45;&gt;36</title>\n",
       "<path fill=\"none\" stroke=\"black\" d=\"M123.123,-222.907C128.593,-211.873 134.529,-199.898 140.044,-188.773\"/>\n",
       "<polygon fill=\"black\" stroke=\"black\" points=\"143.253,-190.181 144.558,-179.667 136.981,-187.072 143.253,-190.181\"/>\n",
       "</g>\n",
       "<!-- 39 -->\n",
       "<g id=\"node40\" class=\"node\"><title>39</title>\n",
       "<polygon fill=\"#ffffff\" stroke=\"black\" points=\"391.5,-306 290.5,-306 290.5,-223 391.5,-223 391.5,-306\"/>\n",
       "<text text-anchor=\"middle\" x=\"341\" y=\"-290.8\" font-family=\"Times,serif\" font-size=\"14.00\">Age &lt;= 45.0</text>\n",
       "<text text-anchor=\"middle\" x=\"341\" y=\"-275.8\" font-family=\"Times,serif\" font-size=\"14.00\">gini = 0.5</text>\n",
       "<text text-anchor=\"middle\" x=\"341\" y=\"-260.8\" font-family=\"Times,serif\" font-size=\"14.00\">samples = 2</text>\n",
       "<text text-anchor=\"middle\" x=\"341\" y=\"-245.8\" font-family=\"Times,serif\" font-size=\"14.00\">value = [1, 1]</text>\n",
       "<text text-anchor=\"middle\" x=\"341\" y=\"-230.8\" font-family=\"Times,serif\" font-size=\"14.00\">class = 未生还</text>\n",
       "</g>\n",
       "<!-- 38&#45;&gt;39 -->\n",
       "<g id=\"edge39\" class=\"edge\"><title>38&#45;&gt;39</title>\n",
       "<path fill=\"none\" stroke=\"black\" d=\"M341,-341.907C341,-333.649 341,-324.864 341,-316.302\"/>\n",
       "<polygon fill=\"black\" stroke=\"black\" points=\"344.5,-316.021 341,-306.021 337.5,-316.021 344.5,-316.021\"/>\n",
       "</g>\n",
       "<!-- 42 -->\n",
       "<g id=\"node43\" class=\"node\"><title>42</title>\n",
       "<polygon fill=\"#399de5\" stroke=\"black\" points=\"502,-298.5 410,-298.5 410,-230.5 502,-230.5 502,-298.5\"/>\n",
       "<text text-anchor=\"middle\" x=\"456\" y=\"-283.3\" font-family=\"Times,serif\" font-size=\"14.00\">gini = 0.0</text>\n",
       "<text text-anchor=\"middle\" x=\"456\" y=\"-268.3\" font-family=\"Times,serif\" font-size=\"14.00\">samples = 1</text>\n",
       "<text text-anchor=\"middle\" x=\"456\" y=\"-253.3\" font-family=\"Times,serif\" font-size=\"14.00\">value = [0, 1]</text>\n",
       "<text text-anchor=\"middle\" x=\"456\" y=\"-238.3\" font-family=\"Times,serif\" font-size=\"14.00\">class = 生还</text>\n",
       "</g>\n",
       "<!-- 38&#45;&gt;42 -->\n",
       "<g id=\"edge42\" class=\"edge\"><title>38&#45;&gt;42</title>\n",
       "<path fill=\"none\" stroke=\"black\" d=\"M380.899,-341.907C392.287,-330.321 404.694,-317.698 416.084,-306.111\"/>\n",
       "<polygon fill=\"black\" stroke=\"black\" points=\"418.886,-308.252 423.4,-298.667 413.894,-303.345 418.886,-308.252\"/>\n",
       "</g>\n",
       "<!-- 40 -->\n",
       "<g id=\"node41\" class=\"node\"><title>40</title>\n",
       "<polygon fill=\"#e58139\" stroke=\"black\" points=\"361.5,-179.5 260.5,-179.5 260.5,-111.5 361.5,-111.5 361.5,-179.5\"/>\n",
       "<text text-anchor=\"middle\" x=\"311\" y=\"-164.3\" font-family=\"Times,serif\" font-size=\"14.00\">gini = 0.0</text>\n",
       "<text text-anchor=\"middle\" x=\"311\" y=\"-149.3\" font-family=\"Times,serif\" font-size=\"14.00\">samples = 1</text>\n",
       "<text text-anchor=\"middle\" x=\"311\" y=\"-134.3\" font-family=\"Times,serif\" font-size=\"14.00\">value = [1, 0]</text>\n",
       "<text text-anchor=\"middle\" x=\"311\" y=\"-119.3\" font-family=\"Times,serif\" font-size=\"14.00\">class = 未生还</text>\n",
       "</g>\n",
       "<!-- 39&#45;&gt;40 -->\n",
       "<g id=\"edge40\" class=\"edge\"><title>39&#45;&gt;40</title>\n",
       "<path fill=\"none\" stroke=\"black\" d=\"M330.592,-222.907C327.819,-212.094 324.814,-200.376 322.011,-189.441\"/>\n",
       "<polygon fill=\"black\" stroke=\"black\" points=\"325.378,-188.484 319.504,-179.667 318.598,-190.223 325.378,-188.484\"/>\n",
       "</g>\n",
       "<!-- 41 -->\n",
       "<g id=\"node42\" class=\"node\"><title>41</title>\n",
       "<polygon fill=\"#399de5\" stroke=\"black\" points=\"472,-179.5 380,-179.5 380,-111.5 472,-111.5 472,-179.5\"/>\n",
       "<text text-anchor=\"middle\" x=\"426\" y=\"-164.3\" font-family=\"Times,serif\" font-size=\"14.00\">gini = 0.0</text>\n",
       "<text text-anchor=\"middle\" x=\"426\" y=\"-149.3\" font-family=\"Times,serif\" font-size=\"14.00\">samples = 1</text>\n",
       "<text text-anchor=\"middle\" x=\"426\" y=\"-134.3\" font-family=\"Times,serif\" font-size=\"14.00\">value = [0, 1]</text>\n",
       "<text text-anchor=\"middle\" x=\"426\" y=\"-119.3\" font-family=\"Times,serif\" font-size=\"14.00\">class = 生还</text>\n",
       "</g>\n",
       "<!-- 39&#45;&gt;41 -->\n",
       "<g id=\"edge41\" class=\"edge\"><title>39&#45;&gt;41</title>\n",
       "<path fill=\"none\" stroke=\"black\" d=\"M370.49,-222.907C378.747,-211.542 387.729,-199.178 396.015,-187.774\"/>\n",
       "<polygon fill=\"black\" stroke=\"black\" points=\"398.858,-189.814 401.904,-179.667 393.195,-185.7 398.858,-189.814\"/>\n",
       "</g>\n",
       "<!-- 46 -->\n",
       "<g id=\"node47\" class=\"node\"><title>46</title>\n",
       "<polygon fill=\"#399de5\" stroke=\"black\" points=\"611,-655.5 519,-655.5 519,-587.5 611,-587.5 611,-655.5\"/>\n",
       "<text text-anchor=\"middle\" x=\"565\" y=\"-640.3\" font-family=\"Times,serif\" font-size=\"14.00\">gini = 0.0</text>\n",
       "<text text-anchor=\"middle\" x=\"565\" y=\"-625.3\" font-family=\"Times,serif\" font-size=\"14.00\">samples = 4</text>\n",
       "<text text-anchor=\"middle\" x=\"565\" y=\"-610.3\" font-family=\"Times,serif\" font-size=\"14.00\">value = [0, 4]</text>\n",
       "<text text-anchor=\"middle\" x=\"565\" y=\"-595.3\" font-family=\"Times,serif\" font-size=\"14.00\">class = 生还</text>\n",
       "</g>\n",
       "<!-- 45&#45;&gt;46 -->\n",
       "<g id=\"edge46\" class=\"edge\"><title>45&#45;&gt;46</title>\n",
       "<path fill=\"none\" stroke=\"black\" d=\"M640.101,-698.907C628.713,-687.321 616.306,-674.698 604.916,-663.111\"/>\n",
       "<polygon fill=\"black\" stroke=\"black\" points=\"607.106,-660.345 597.6,-655.667 602.114,-665.252 607.106,-660.345\"/>\n",
       "</g>\n",
       "<!-- 47 -->\n",
       "<g id=\"node48\" class=\"node\"><title>47</title>\n",
       "<polygon fill=\"#e58139\" stroke=\"black\" points=\"730.5,-655.5 629.5,-655.5 629.5,-587.5 730.5,-587.5 730.5,-655.5\"/>\n",
       "<text text-anchor=\"middle\" x=\"680\" y=\"-640.3\" font-family=\"Times,serif\" font-size=\"14.00\">gini = 0.0</text>\n",
       "<text text-anchor=\"middle\" x=\"680\" y=\"-625.3\" font-family=\"Times,serif\" font-size=\"14.00\">samples = 1</text>\n",
       "<text text-anchor=\"middle\" x=\"680\" y=\"-610.3\" font-family=\"Times,serif\" font-size=\"14.00\">value = [1, 0]</text>\n",
       "<text text-anchor=\"middle\" x=\"680\" y=\"-595.3\" font-family=\"Times,serif\" font-size=\"14.00\">class = 未生还</text>\n",
       "</g>\n",
       "<!-- 45&#45;&gt;47 -->\n",
       "<g id=\"edge47\" class=\"edge\"><title>45&#45;&gt;47</title>\n",
       "<path fill=\"none\" stroke=\"black\" d=\"M680,-698.907C680,-688.204 680,-676.615 680,-665.776\"/>\n",
       "<polygon fill=\"black\" stroke=\"black\" points=\"683.5,-665.667 680,-655.667 676.5,-665.667 683.5,-665.667\"/>\n",
       "</g>\n",
       "<!-- 50 -->\n",
       "<g id=\"node51\" class=\"node\"><title>50</title>\n",
       "<polygon fill=\"#f8e0ce\" stroke=\"black\" points=\"995.5,-901 894.5,-901 894.5,-818 995.5,-818 995.5,-901\"/>\n",
       "<text text-anchor=\"middle\" x=\"945\" y=\"-885.8\" font-family=\"Times,serif\" font-size=\"14.00\">Age &lt;= 17.5</text>\n",
       "<text text-anchor=\"middle\" x=\"945\" y=\"-870.8\" font-family=\"Times,serif\" font-size=\"14.00\">gini = 0.49</text>\n",
       "<text text-anchor=\"middle\" x=\"945\" y=\"-855.8\" font-family=\"Times,serif\" font-size=\"14.00\">samples = 7</text>\n",
       "<text text-anchor=\"middle\" x=\"945\" y=\"-840.8\" font-family=\"Times,serif\" font-size=\"14.00\">value = [4, 3]</text>\n",
       "<text text-anchor=\"middle\" x=\"945\" y=\"-825.8\" font-family=\"Times,serif\" font-size=\"14.00\">class = 未生还</text>\n",
       "</g>\n",
       "<!-- 49&#45;&gt;50 -->\n",
       "<g id=\"edge50\" class=\"edge\"><title>49&#45;&gt;50</title>\n",
       "<path fill=\"none\" stroke=\"black\" d=\"M975.041,-936.907C971.687,-928.377 968.112,-919.284 964.641,-910.456\"/>\n",
       "<polygon fill=\"black\" stroke=\"black\" points=\"967.848,-909.047 960.931,-901.021 961.333,-911.608 967.848,-909.047\"/>\n",
       "</g>\n",
       "<!-- 57 -->\n",
       "<g id=\"node58\" class=\"node\"><title>57</title>\n",
       "<polygon fill=\"#399de5\" stroke=\"black\" points=\"1106,-893.5 1014,-893.5 1014,-825.5 1106,-825.5 1106,-893.5\"/>\n",
       "<text text-anchor=\"middle\" x=\"1060\" y=\"-878.3\" font-family=\"Times,serif\" font-size=\"14.00\">gini = 0.0</text>\n",
       "<text text-anchor=\"middle\" x=\"1060\" y=\"-863.3\" font-family=\"Times,serif\" font-size=\"14.00\">samples = 2</text>\n",
       "<text text-anchor=\"middle\" x=\"1060\" y=\"-848.3\" font-family=\"Times,serif\" font-size=\"14.00\">value = [0, 2]</text>\n",
       "<text text-anchor=\"middle\" x=\"1060\" y=\"-833.3\" font-family=\"Times,serif\" font-size=\"14.00\">class = 生还</text>\n",
       "</g>\n",
       "<!-- 49&#45;&gt;57 -->\n",
       "<g id=\"edge57\" class=\"edge\"><title>49&#45;&gt;57</title>\n",
       "<path fill=\"none\" stroke=\"black\" d=\"M1014.94,-936.907C1021.51,-925.763 1028.65,-913.658 1035.27,-902.439\"/>\n",
       "<polygon fill=\"black\" stroke=\"black\" points=\"1038.37,-904.059 1040.44,-893.667 1032.35,-900.503 1038.37,-904.059\"/>\n",
       "</g>\n",
       "<!-- 51 -->\n",
       "<g id=\"node52\" class=\"node\"><title>51</title>\n",
       "<polygon fill=\"#399de5\" stroke=\"black\" points=\"877,-774.5 785,-774.5 785,-706.5 877,-706.5 877,-774.5\"/>\n",
       "<text text-anchor=\"middle\" x=\"831\" y=\"-759.3\" font-family=\"Times,serif\" font-size=\"14.00\">gini = 0.0</text>\n",
       "<text text-anchor=\"middle\" x=\"831\" y=\"-744.3\" font-family=\"Times,serif\" font-size=\"14.00\">samples = 1</text>\n",
       "<text text-anchor=\"middle\" x=\"831\" y=\"-729.3\" font-family=\"Times,serif\" font-size=\"14.00\">value = [0, 1]</text>\n",
       "<text text-anchor=\"middle\" x=\"831\" y=\"-714.3\" font-family=\"Times,serif\" font-size=\"14.00\">class = 生还</text>\n",
       "</g>\n",
       "<!-- 50&#45;&gt;51 -->\n",
       "<g id=\"edge51\" class=\"edge\"><title>50&#45;&gt;51</title>\n",
       "<path fill=\"none\" stroke=\"black\" d=\"M905.448,-817.907C894.159,-806.321 881.859,-793.698 870.569,-782.111\"/>\n",
       "<polygon fill=\"black\" stroke=\"black\" points=\"872.802,-779.387 863.317,-774.667 867.788,-784.272 872.802,-779.387\"/>\n",
       "</g>\n",
       "<!-- 52 -->\n",
       "<g id=\"node53\" class=\"node\"><title>52</title>\n",
       "<polygon fill=\"#f2c09c\" stroke=\"black\" points=\"997,-782 895,-782 895,-699 997,-699 997,-782\"/>\n",
       "<text text-anchor=\"middle\" x=\"946\" y=\"-766.8\" font-family=\"Times,serif\" font-size=\"14.00\">Fare &lt;= 98.752</text>\n",
       "<text text-anchor=\"middle\" x=\"946\" y=\"-751.8\" font-family=\"Times,serif\" font-size=\"14.00\">gini = 0.444</text>\n",
       "<text text-anchor=\"middle\" x=\"946\" y=\"-736.8\" font-family=\"Times,serif\" font-size=\"14.00\">samples = 6</text>\n",
       "<text text-anchor=\"middle\" x=\"946\" y=\"-721.8\" font-family=\"Times,serif\" font-size=\"14.00\">value = [4, 2]</text>\n",
       "<text text-anchor=\"middle\" x=\"946\" y=\"-706.8\" font-family=\"Times,serif\" font-size=\"14.00\">class = 未生还</text>\n",
       "</g>\n",
       "<!-- 50&#45;&gt;52 -->\n",
       "<g id=\"edge52\" class=\"edge\"><title>50&#45;&gt;52</title>\n",
       "<path fill=\"none\" stroke=\"black\" d=\"M945.347,-817.907C945.418,-809.649 945.493,-800.864 945.566,-792.302\"/>\n",
       "<polygon fill=\"black\" stroke=\"black\" points=\"949.068,-792.05 945.654,-782.021 942.068,-791.99 949.068,-792.05\"/>\n",
       "</g>\n",
       "<!-- 53 -->\n",
       "<g id=\"node54\" class=\"node\"><title>53</title>\n",
       "<polygon fill=\"#9ccef2\" stroke=\"black\" points=\"879.5,-663 748.5,-663 748.5,-580 879.5,-580 879.5,-663\"/>\n",
       "<text text-anchor=\"middle\" x=\"814\" y=\"-647.8\" font-family=\"Times,serif\" font-size=\"14.00\">Embarked_Q &lt;= 0.5</text>\n",
       "<text text-anchor=\"middle\" x=\"814\" y=\"-632.8\" font-family=\"Times,serif\" font-size=\"14.00\">gini = 0.444</text>\n",
       "<text text-anchor=\"middle\" x=\"814\" y=\"-617.8\" font-family=\"Times,serif\" font-size=\"14.00\">samples = 3</text>\n",
       "<text text-anchor=\"middle\" x=\"814\" y=\"-602.8\" font-family=\"Times,serif\" font-size=\"14.00\">value = [1, 2]</text>\n",
       "<text text-anchor=\"middle\" x=\"814\" y=\"-587.8\" font-family=\"Times,serif\" font-size=\"14.00\">class = 生还</text>\n",
       "</g>\n",
       "<!-- 52&#45;&gt;53 -->\n",
       "<g id=\"edge53\" class=\"edge\"><title>52&#45;&gt;53</title>\n",
       "<path fill=\"none\" stroke=\"black\" d=\"M900.203,-698.907C889.658,-689.56 878.35,-679.538 867.509,-669.929\"/>\n",
       "<polygon fill=\"black\" stroke=\"black\" points=\"869.521,-667.035 859.716,-663.021 864.878,-672.273 869.521,-667.035\"/>\n",
       "</g>\n",
       "<!-- 56 -->\n",
       "<g id=\"node57\" class=\"node\"><title>56</title>\n",
       "<polygon fill=\"#e58139\" stroke=\"black\" points=\"998.5,-655.5 897.5,-655.5 897.5,-587.5 998.5,-587.5 998.5,-655.5\"/>\n",
       "<text text-anchor=\"middle\" x=\"948\" y=\"-640.3\" font-family=\"Times,serif\" font-size=\"14.00\">gini = 0.0</text>\n",
       "<text text-anchor=\"middle\" x=\"948\" y=\"-625.3\" font-family=\"Times,serif\" font-size=\"14.00\">samples = 3</text>\n",
       "<text text-anchor=\"middle\" x=\"948\" y=\"-610.3\" font-family=\"Times,serif\" font-size=\"14.00\">value = [3, 0]</text>\n",
       "<text text-anchor=\"middle\" x=\"948\" y=\"-595.3\" font-family=\"Times,serif\" font-size=\"14.00\">class = 未生还</text>\n",
       "</g>\n",
       "<!-- 52&#45;&gt;56 -->\n",
       "<g id=\"edge56\" class=\"edge\"><title>52&#45;&gt;56</title>\n",
       "<path fill=\"none\" stroke=\"black\" d=\"M946.694,-698.907C946.877,-688.204 947.075,-676.615 947.26,-665.776\"/>\n",
       "<polygon fill=\"black\" stroke=\"black\" points=\"950.762,-665.725 947.433,-655.667 943.763,-665.606 950.762,-665.725\"/>\n",
       "</g>\n",
       "<!-- 54 -->\n",
       "<g id=\"node55\" class=\"node\"><title>54</title>\n",
       "<polygon fill=\"#399de5\" stroke=\"black\" points=\"745,-536.5 653,-536.5 653,-468.5 745,-468.5 745,-536.5\"/>\n",
       "<text text-anchor=\"middle\" x=\"699\" y=\"-521.3\" font-family=\"Times,serif\" font-size=\"14.00\">gini = 0.0</text>\n",
       "<text text-anchor=\"middle\" x=\"699\" y=\"-506.3\" font-family=\"Times,serif\" font-size=\"14.00\">samples = 2</text>\n",
       "<text text-anchor=\"middle\" x=\"699\" y=\"-491.3\" font-family=\"Times,serif\" font-size=\"14.00\">value = [0, 2]</text>\n",
       "<text text-anchor=\"middle\" x=\"699\" y=\"-476.3\" font-family=\"Times,serif\" font-size=\"14.00\">class = 生还</text>\n",
       "</g>\n",
       "<!-- 53&#45;&gt;54 -->\n",
       "<g id=\"edge54\" class=\"edge\"><title>53&#45;&gt;54</title>\n",
       "<path fill=\"none\" stroke=\"black\" d=\"M774.101,-579.907C762.713,-568.321 750.306,-555.698 738.916,-544.111\"/>\n",
       "<polygon fill=\"black\" stroke=\"black\" points=\"741.106,-541.345 731.6,-536.667 736.114,-546.252 741.106,-541.345\"/>\n",
       "</g>\n",
       "<!-- 55 -->\n",
       "<g id=\"node56\" class=\"node\"><title>55</title>\n",
       "<polygon fill=\"#e58139\" stroke=\"black\" points=\"864.5,-536.5 763.5,-536.5 763.5,-468.5 864.5,-468.5 864.5,-536.5\"/>\n",
       "<text text-anchor=\"middle\" x=\"814\" y=\"-521.3\" font-family=\"Times,serif\" font-size=\"14.00\">gini = 0.0</text>\n",
       "<text text-anchor=\"middle\" x=\"814\" y=\"-506.3\" font-family=\"Times,serif\" font-size=\"14.00\">samples = 1</text>\n",
       "<text text-anchor=\"middle\" x=\"814\" y=\"-491.3\" font-family=\"Times,serif\" font-size=\"14.00\">value = [1, 0]</text>\n",
       "<text text-anchor=\"middle\" x=\"814\" y=\"-476.3\" font-family=\"Times,serif\" font-size=\"14.00\">class = 未生还</text>\n",
       "</g>\n",
       "<!-- 53&#45;&gt;55 -->\n",
       "<g id=\"edge55\" class=\"edge\"><title>53&#45;&gt;55</title>\n",
       "<path fill=\"none\" stroke=\"black\" d=\"M814,-579.907C814,-569.204 814,-557.615 814,-546.776\"/>\n",
       "<polygon fill=\"black\" stroke=\"black\" points=\"817.5,-546.667 814,-536.667 810.5,-546.667 817.5,-546.667\"/>\n",
       "</g>\n",
       "<!-- 61 -->\n",
       "<g id=\"node62\" class=\"node\"><title>61</title>\n",
       "<polygon fill=\"#e58139\" stroke=\"black\" points=\"1342.5,-1369.5 1241.5,-1369.5 1241.5,-1301.5 1342.5,-1301.5 1342.5,-1369.5\"/>\n",
       "<text text-anchor=\"middle\" x=\"1292\" y=\"-1354.3\" font-family=\"Times,serif\" font-size=\"14.00\">gini = 0.0</text>\n",
       "<text text-anchor=\"middle\" x=\"1292\" y=\"-1339.3\" font-family=\"Times,serif\" font-size=\"14.00\">samples = 11</text>\n",
       "<text text-anchor=\"middle\" x=\"1292\" y=\"-1324.3\" font-family=\"Times,serif\" font-size=\"14.00\">value = [11, 0]</text>\n",
       "<text text-anchor=\"middle\" x=\"1292\" y=\"-1309.3\" font-family=\"Times,serif\" font-size=\"14.00\">class = 未生还</text>\n",
       "</g>\n",
       "<!-- 60&#45;&gt;61 -->\n",
       "<g id=\"edge61\" class=\"edge\"><title>60&#45;&gt;61</title>\n",
       "<path fill=\"none\" stroke=\"black\" d=\"M1335.75,-1412.91C1329.37,-1401.76 1322.44,-1389.66 1316.02,-1378.44\"/>\n",
       "<polygon fill=\"black\" stroke=\"black\" points=\"1319,-1376.61 1310.99,-1369.67 1312.93,-1380.08 1319,-1376.61\"/>\n",
       "</g>\n",
       "<!-- 62 -->\n",
       "<g id=\"node63\" class=\"node\"><title>62</title>\n",
       "<polygon fill=\"#eeab7b\" stroke=\"black\" points=\"1463,-1377 1361,-1377 1361,-1294 1463,-1294 1463,-1377\"/>\n",
       "<text text-anchor=\"middle\" x=\"1412\" y=\"-1361.8\" font-family=\"Times,serif\" font-size=\"14.00\">Fare &lt;= 42.502</text>\n",
       "<text text-anchor=\"middle\" x=\"1412\" y=\"-1346.8\" font-family=\"Times,serif\" font-size=\"14.00\">gini = 0.375</text>\n",
       "<text text-anchor=\"middle\" x=\"1412\" y=\"-1331.8\" font-family=\"Times,serif\" font-size=\"14.00\">samples = 4</text>\n",
       "<text text-anchor=\"middle\" x=\"1412\" y=\"-1316.8\" font-family=\"Times,serif\" font-size=\"14.00\">value = [3, 1]</text>\n",
       "<text text-anchor=\"middle\" x=\"1412\" y=\"-1301.8\" font-family=\"Times,serif\" font-size=\"14.00\">class = 未生还</text>\n",
       "</g>\n",
       "<!-- 60&#45;&gt;62 -->\n",
       "<g id=\"edge62\" class=\"edge\"><title>60&#45;&gt;62</title>\n",
       "<path fill=\"none\" stroke=\"black\" d=\"M1377.39,-1412.91C1381.29,-1404.29 1385.46,-1395.09 1389.5,-1386.17\"/>\n",
       "<polygon fill=\"black\" stroke=\"black\" points=\"1392.71,-1387.57 1393.64,-1377.02 1386.33,-1384.69 1392.71,-1387.57\"/>\n",
       "</g>\n",
       "<!-- 63 -->\n",
       "<g id=\"node64\" class=\"node\"><title>63</title>\n",
       "<polygon fill=\"#ffffff\" stroke=\"black\" points=\"1357,-1258 1255,-1258 1255,-1175 1357,-1175 1357,-1258\"/>\n",
       "<text text-anchor=\"middle\" x=\"1306\" y=\"-1242.8\" font-family=\"Times,serif\" font-size=\"14.00\">Fare &lt;= 33.098</text>\n",
       "<text text-anchor=\"middle\" x=\"1306\" y=\"-1227.8\" font-family=\"Times,serif\" font-size=\"14.00\">gini = 0.5</text>\n",
       "<text text-anchor=\"middle\" x=\"1306\" y=\"-1212.8\" font-family=\"Times,serif\" font-size=\"14.00\">samples = 2</text>\n",
       "<text text-anchor=\"middle\" x=\"1306\" y=\"-1197.8\" font-family=\"Times,serif\" font-size=\"14.00\">value = [1, 1]</text>\n",
       "<text text-anchor=\"middle\" x=\"1306\" y=\"-1182.8\" font-family=\"Times,serif\" font-size=\"14.00\">class = 未生还</text>\n",
       "</g>\n",
       "<!-- 62&#45;&gt;63 -->\n",
       "<g id=\"edge63\" class=\"edge\"><title>62&#45;&gt;63</title>\n",
       "<path fill=\"none\" stroke=\"black\" d=\"M1375.22,-1293.91C1366.92,-1284.74 1358.03,-1274.93 1349.48,-1265.49\"/>\n",
       "<polygon fill=\"black\" stroke=\"black\" points=\"1352.02,-1263.08 1342.71,-1258.02 1346.83,-1267.78 1352.02,-1263.08\"/>\n",
       "</g>\n",
       "<!-- 66 -->\n",
       "<g id=\"node67\" class=\"node\"><title>66</title>\n",
       "<polygon fill=\"#e58139\" stroke=\"black\" points=\"1476.5,-1250.5 1375.5,-1250.5 1375.5,-1182.5 1476.5,-1182.5 1476.5,-1250.5\"/>\n",
       "<text text-anchor=\"middle\" x=\"1426\" y=\"-1235.3\" font-family=\"Times,serif\" font-size=\"14.00\">gini = 0.0</text>\n",
       "<text text-anchor=\"middle\" x=\"1426\" y=\"-1220.3\" font-family=\"Times,serif\" font-size=\"14.00\">samples = 2</text>\n",
       "<text text-anchor=\"middle\" x=\"1426\" y=\"-1205.3\" font-family=\"Times,serif\" font-size=\"14.00\">value = [2, 0]</text>\n",
       "<text text-anchor=\"middle\" x=\"1426\" y=\"-1190.3\" font-family=\"Times,serif\" font-size=\"14.00\">class = 未生还</text>\n",
       "</g>\n",
       "<!-- 62&#45;&gt;66 -->\n",
       "<g id=\"edge66\" class=\"edge\"><title>62&#45;&gt;66</title>\n",
       "<path fill=\"none\" stroke=\"black\" d=\"M1416.86,-1293.91C1418.14,-1283.2 1419.52,-1271.62 1420.82,-1260.78\"/>\n",
       "<polygon fill=\"black\" stroke=\"black\" points=\"1424.32,-1261.01 1422.03,-1250.67 1417.37,-1260.18 1424.32,-1261.01\"/>\n",
       "</g>\n",
       "<!-- 64 -->\n",
       "<g id=\"node65\" class=\"node\"><title>64</title>\n",
       "<polygon fill=\"#e58139\" stroke=\"black\" points=\"1281.5,-1131.5 1180.5,-1131.5 1180.5,-1063.5 1281.5,-1063.5 1281.5,-1131.5\"/>\n",
       "<text text-anchor=\"middle\" x=\"1231\" y=\"-1116.3\" font-family=\"Times,serif\" font-size=\"14.00\">gini = 0.0</text>\n",
       "<text text-anchor=\"middle\" x=\"1231\" y=\"-1101.3\" font-family=\"Times,serif\" font-size=\"14.00\">samples = 1</text>\n",
       "<text text-anchor=\"middle\" x=\"1231\" y=\"-1086.3\" font-family=\"Times,serif\" font-size=\"14.00\">value = [1, 0]</text>\n",
       "<text text-anchor=\"middle\" x=\"1231\" y=\"-1071.3\" font-family=\"Times,serif\" font-size=\"14.00\">class = 未生还</text>\n",
       "</g>\n",
       "<!-- 63&#45;&gt;64 -->\n",
       "<g id=\"edge64\" class=\"edge\"><title>63&#45;&gt;64</title>\n",
       "<path fill=\"none\" stroke=\"black\" d=\"M1279.98,-1174.91C1272.76,-1163.65 1264.92,-1151.42 1257.67,-1140.11\"/>\n",
       "<polygon fill=\"black\" stroke=\"black\" points=\"1260.6,-1138.2 1252.26,-1131.67 1254.71,-1141.97 1260.6,-1138.2\"/>\n",
       "</g>\n",
       "<!-- 65 -->\n",
       "<g id=\"node66\" class=\"node\"><title>65</title>\n",
       "<polygon fill=\"#399de5\" stroke=\"black\" points=\"1392,-1131.5 1300,-1131.5 1300,-1063.5 1392,-1063.5 1392,-1131.5\"/>\n",
       "<text text-anchor=\"middle\" x=\"1346\" y=\"-1116.3\" font-family=\"Times,serif\" font-size=\"14.00\">gini = 0.0</text>\n",
       "<text text-anchor=\"middle\" x=\"1346\" y=\"-1101.3\" font-family=\"Times,serif\" font-size=\"14.00\">samples = 1</text>\n",
       "<text text-anchor=\"middle\" x=\"1346\" y=\"-1086.3\" font-family=\"Times,serif\" font-size=\"14.00\">value = [0, 1]</text>\n",
       "<text text-anchor=\"middle\" x=\"1346\" y=\"-1071.3\" font-family=\"Times,serif\" font-size=\"14.00\">class = 生还</text>\n",
       "</g>\n",
       "<!-- 63&#45;&gt;65 -->\n",
       "<g id=\"edge65\" class=\"edge\"><title>63&#45;&gt;65</title>\n",
       "<path fill=\"none\" stroke=\"black\" d=\"M1319.88,-1174.91C1323.57,-1164.09 1327.58,-1152.38 1331.32,-1141.44\"/>\n",
       "<polygon fill=\"black\" stroke=\"black\" points=\"1334.74,-1142.26 1334.66,-1131.67 1328.11,-1140 1334.74,-1142.26\"/>\n",
       "</g>\n",
       "<!-- 68 -->\n",
       "<g id=\"node69\" class=\"node\"><title>68</title>\n",
       "<polygon fill=\"#ea975c\" stroke=\"black\" points=\"1960,-1496 1848,-1496 1848,-1413 1960,-1413 1960,-1496\"/>\n",
       "<text text-anchor=\"middle\" x=\"1904\" y=\"-1480.8\" font-family=\"Times,serif\" font-size=\"14.00\">Age &lt;= 31.5</text>\n",
       "<text text-anchor=\"middle\" x=\"1904\" y=\"-1465.8\" font-family=\"Times,serif\" font-size=\"14.00\">gini = 0.256</text>\n",
       "<text text-anchor=\"middle\" x=\"1904\" y=\"-1450.8\" font-family=\"Times,serif\" font-size=\"14.00\">samples = 159</text>\n",
       "<text text-anchor=\"middle\" x=\"1904\" y=\"-1435.8\" font-family=\"Times,serif\" font-size=\"14.00\">value = [135, 24]</text>\n",
       "<text text-anchor=\"middle\" x=\"1904\" y=\"-1420.8\" font-family=\"Times,serif\" font-size=\"14.00\">class = 未生还</text>\n",
       "</g>\n",
       "<!-- 67&#45;&gt;68 -->\n",
       "<g id=\"edge68\" class=\"edge\"><title>67&#45;&gt;68</title>\n",
       "<path fill=\"none\" stroke=\"black\" d=\"M1904,-1531.91C1904,-1523.65 1904,-1514.86 1904,-1506.3\"/>\n",
       "<polygon fill=\"black\" stroke=\"black\" points=\"1907.5,-1506.02 1904,-1496.02 1900.5,-1506.02 1907.5,-1506.02\"/>\n",
       "</g>\n",
       "<!-- 149 -->\n",
       "<g id=\"node150\" class=\"node\"><title>149</title>\n",
       "<polygon fill=\"#e68640\" stroke=\"black\" points=\"2306.5,-1496 2205.5,-1496 2205.5,-1413 2306.5,-1413 2306.5,-1496\"/>\n",
       "<text text-anchor=\"middle\" x=\"2256\" y=\"-1480.8\" font-family=\"Times,serif\" font-size=\"14.00\">Fare &lt;= 7.91</text>\n",
       "<text text-anchor=\"middle\" x=\"2256\" y=\"-1465.8\" font-family=\"Times,serif\" font-size=\"14.00\">gini = 0.07</text>\n",
       "<text text-anchor=\"middle\" x=\"2256\" y=\"-1450.8\" font-family=\"Times,serif\" font-size=\"14.00\">samples = 83</text>\n",
       "<text text-anchor=\"middle\" x=\"2256\" y=\"-1435.8\" font-family=\"Times,serif\" font-size=\"14.00\">value = [80, 3]</text>\n",
       "<text text-anchor=\"middle\" x=\"2256\" y=\"-1420.8\" font-family=\"Times,serif\" font-size=\"14.00\">class = 未生还</text>\n",
       "</g>\n",
       "<!-- 67&#45;&gt;149 -->\n",
       "<g id=\"edge149\" class=\"edge\"><title>67&#45;&gt;149</title>\n",
       "<path fill=\"none\" stroke=\"black\" d=\"M1960.16,-1553.83C2024.51,-1532.45 2129.54,-1497.53 2195.6,-1475.58\"/>\n",
       "<polygon fill=\"black\" stroke=\"black\" points=\"2197.07,-1478.78 2205.46,-1472.3 2194.86,-1472.13 2197.07,-1478.78\"/>\n",
       "</g>\n",
       "<!-- 69 -->\n",
       "<g id=\"node70\" class=\"node\"><title>69</title>\n",
       "<polygon fill=\"#e99355\" stroke=\"black\" points=\"1840,-1377 1728,-1377 1728,-1294 1840,-1294 1840,-1377\"/>\n",
       "<text text-anchor=\"middle\" x=\"1784\" y=\"-1361.8\" font-family=\"Times,serif\" font-size=\"14.00\">Fare &lt;= 7.01</text>\n",
       "<text text-anchor=\"middle\" x=\"1784\" y=\"-1346.8\" font-family=\"Times,serif\" font-size=\"14.00\">gini = 0.216</text>\n",
       "<text text-anchor=\"middle\" x=\"1784\" y=\"-1331.8\" font-family=\"Times,serif\" font-size=\"14.00\">samples = 146</text>\n",
       "<text text-anchor=\"middle\" x=\"1784\" y=\"-1316.8\" font-family=\"Times,serif\" font-size=\"14.00\">value = [128, 18]</text>\n",
       "<text text-anchor=\"middle\" x=\"1784\" y=\"-1301.8\" font-family=\"Times,serif\" font-size=\"14.00\">class = 未生还</text>\n",
       "</g>\n",
       "<!-- 68&#45;&gt;69 -->\n",
       "<g id=\"edge69\" class=\"edge\"><title>68&#45;&gt;69</title>\n",
       "<path fill=\"none\" stroke=\"black\" d=\"M1862.37,-1412.91C1852.87,-1403.65 1842.7,-1393.73 1832.93,-1384.21\"/>\n",
       "<polygon fill=\"black\" stroke=\"black\" points=\"1835.16,-1381.5 1825.56,-1377.02 1830.28,-1386.51 1835.16,-1381.5\"/>\n",
       "</g>\n",
       "<!-- 134 -->\n",
       "<g id=\"node135\" class=\"node\"><title>134</title>\n",
       "<polygon fill=\"#fbede3\" stroke=\"black\" points=\"2074,-1377 1972,-1377 1972,-1294 2074,-1294 2074,-1377\"/>\n",
       "<text text-anchor=\"middle\" x=\"2023\" y=\"-1361.8\" font-family=\"Times,serif\" font-size=\"14.00\">Fare &lt;= 20.925</text>\n",
       "<text text-anchor=\"middle\" x=\"2023\" y=\"-1346.8\" font-family=\"Times,serif\" font-size=\"14.00\">gini = 0.497</text>\n",
       "<text text-anchor=\"middle\" x=\"2023\" y=\"-1331.8\" font-family=\"Times,serif\" font-size=\"14.00\">samples = 13</text>\n",
       "<text text-anchor=\"middle\" x=\"2023\" y=\"-1316.8\" font-family=\"Times,serif\" font-size=\"14.00\">value = [7, 6]</text>\n",
       "<text text-anchor=\"middle\" x=\"2023\" y=\"-1301.8\" font-family=\"Times,serif\" font-size=\"14.00\">class = 未生还</text>\n",
       "</g>\n",
       "<!-- 68&#45;&gt;134 -->\n",
       "<g id=\"edge134\" class=\"edge\"><title>68&#45;&gt;134</title>\n",
       "<path fill=\"none\" stroke=\"black\" d=\"M1945.29,-1412.91C1954.7,-1403.65 1964.79,-1393.73 1974.48,-1384.21\"/>\n",
       "<polygon fill=\"black\" stroke=\"black\" points=\"1977.11,-1386.53 1981.79,-1377.02 1972.2,-1381.54 1977.11,-1386.53\"/>\n",
       "</g>\n",
       "<!-- 70 -->\n",
       "<g id=\"node71\" class=\"node\"><title>70</title>\n",
       "<polygon fill=\"#f6d5bd\" stroke=\"black\" points=\"1644.5,-1258 1543.5,-1258 1543.5,-1175 1644.5,-1175 1644.5,-1258\"/>\n",
       "<text text-anchor=\"middle\" x=\"1594\" y=\"-1242.8\" font-family=\"Times,serif\" font-size=\"14.00\">Age &lt;= 22.0</text>\n",
       "<text text-anchor=\"middle\" x=\"1594\" y=\"-1227.8\" font-family=\"Times,serif\" font-size=\"14.00\">gini = 0.48</text>\n",
       "<text text-anchor=\"middle\" x=\"1594\" y=\"-1212.8\" font-family=\"Times,serif\" font-size=\"14.00\">samples = 5</text>\n",
       "<text text-anchor=\"middle\" x=\"1594\" y=\"-1197.8\" font-family=\"Times,serif\" font-size=\"14.00\">value = [3, 2]</text>\n",
       "<text text-anchor=\"middle\" x=\"1594\" y=\"-1182.8\" font-family=\"Times,serif\" font-size=\"14.00\">class = 未生还</text>\n",
       "</g>\n",
       "<!-- 69&#45;&gt;70 -->\n",
       "<g id=\"edge70\" class=\"edge\"><title>69&#45;&gt;70</title>\n",
       "<path fill=\"none\" stroke=\"black\" d=\"M1727.76,-1299.87C1704.28,-1285.41 1676.97,-1268.59 1653.18,-1253.94\"/>\n",
       "<polygon fill=\"black\" stroke=\"black\" points=\"1654.94,-1250.92 1644.59,-1248.65 1651.27,-1256.88 1654.94,-1250.92\"/>\n",
       "</g>\n",
       "<!-- 73 -->\n",
       "<g id=\"node74\" class=\"node\"><title>73</title>\n",
       "<polygon fill=\"#e89152\" stroke=\"black\" points=\"1849,-1258 1719,-1258 1719,-1175 1849,-1175 1849,-1258\"/>\n",
       "<text text-anchor=\"middle\" x=\"1784\" y=\"-1242.8\" font-family=\"Times,serif\" font-size=\"14.00\">Embarked_C &lt;= 0.5</text>\n",
       "<text text-anchor=\"middle\" x=\"1784\" y=\"-1227.8\" font-family=\"Times,serif\" font-size=\"14.00\">gini = 0.201</text>\n",
       "<text text-anchor=\"middle\" x=\"1784\" y=\"-1212.8\" font-family=\"Times,serif\" font-size=\"14.00\">samples = 141</text>\n",
       "<text text-anchor=\"middle\" x=\"1784\" y=\"-1197.8\" font-family=\"Times,serif\" font-size=\"14.00\">value = [125, 16]</text>\n",
       "<text text-anchor=\"middle\" x=\"1784\" y=\"-1182.8\" font-family=\"Times,serif\" font-size=\"14.00\">class = 未生还</text>\n",
       "</g>\n",
       "<!-- 69&#45;&gt;73 -->\n",
       "<g id=\"edge73\" class=\"edge\"><title>69&#45;&gt;73</title>\n",
       "<path fill=\"none\" stroke=\"black\" d=\"M1784,-1293.91C1784,-1285.65 1784,-1276.86 1784,-1268.3\"/>\n",
       "<polygon fill=\"black\" stroke=\"black\" points=\"1787.5,-1268.02 1784,-1258.02 1780.5,-1268.02 1787.5,-1268.02\"/>\n",
       "</g>\n",
       "<!-- 71 -->\n",
       "<g id=\"node72\" class=\"node\"><title>71</title>\n",
       "<polygon fill=\"#e58139\" stroke=\"black\" points=\"1529.5,-1131.5 1428.5,-1131.5 1428.5,-1063.5 1529.5,-1063.5 1529.5,-1131.5\"/>\n",
       "<text text-anchor=\"middle\" x=\"1479\" y=\"-1116.3\" font-family=\"Times,serif\" font-size=\"14.00\">gini = 0.0</text>\n",
       "<text text-anchor=\"middle\" x=\"1479\" y=\"-1101.3\" font-family=\"Times,serif\" font-size=\"14.00\">samples = 3</text>\n",
       "<text text-anchor=\"middle\" x=\"1479\" y=\"-1086.3\" font-family=\"Times,serif\" font-size=\"14.00\">value = [3, 0]</text>\n",
       "<text text-anchor=\"middle\" x=\"1479\" y=\"-1071.3\" font-family=\"Times,serif\" font-size=\"14.00\">class = 未生还</text>\n",
       "</g>\n",
       "<!-- 70&#45;&gt;71 -->\n",
       "<g id=\"edge71\" class=\"edge\"><title>70&#45;&gt;71</title>\n",
       "<path fill=\"none\" stroke=\"black\" d=\"M1554.1,-1174.91C1542.71,-1163.32 1530.31,-1150.7 1518.92,-1139.11\"/>\n",
       "<polygon fill=\"black\" stroke=\"black\" points=\"1521.11,-1136.35 1511.6,-1131.67 1516.11,-1141.25 1521.11,-1136.35\"/>\n",
       "</g>\n",
       "<!-- 72 -->\n",
       "<g id=\"node73\" class=\"node\"><title>72</title>\n",
       "<polygon fill=\"#399de5\" stroke=\"black\" points=\"1640,-1131.5 1548,-1131.5 1548,-1063.5 1640,-1063.5 1640,-1131.5\"/>\n",
       "<text text-anchor=\"middle\" x=\"1594\" y=\"-1116.3\" font-family=\"Times,serif\" font-size=\"14.00\">gini = 0.0</text>\n",
       "<text text-anchor=\"middle\" x=\"1594\" y=\"-1101.3\" font-family=\"Times,serif\" font-size=\"14.00\">samples = 2</text>\n",
       "<text text-anchor=\"middle\" x=\"1594\" y=\"-1086.3\" font-family=\"Times,serif\" font-size=\"14.00\">value = [0, 2]</text>\n",
       "<text text-anchor=\"middle\" x=\"1594\" y=\"-1071.3\" font-family=\"Times,serif\" font-size=\"14.00\">class = 生还</text>\n",
       "</g>\n",
       "<!-- 70&#45;&gt;72 -->\n",
       "<g id=\"edge72\" class=\"edge\"><title>70&#45;&gt;72</title>\n",
       "<path fill=\"none\" stroke=\"black\" d=\"M1594,-1174.91C1594,-1164.2 1594,-1152.62 1594,-1141.78\"/>\n",
       "<polygon fill=\"black\" stroke=\"black\" points=\"1597.5,-1141.67 1594,-1131.67 1590.5,-1141.67 1597.5,-1141.67\"/>\n",
       "</g>\n",
       "<!-- 74 -->\n",
       "<g id=\"node75\" class=\"node\"><title>74</title>\n",
       "<polygon fill=\"#e88e4e\" stroke=\"black\" points=\"1770,-1139 1658,-1139 1658,-1056 1770,-1056 1770,-1139\"/>\n",
       "<text text-anchor=\"middle\" x=\"1714\" y=\"-1123.8\" font-family=\"Times,serif\" font-size=\"14.00\">Fare &lt;= 11.0</text>\n",
       "<text text-anchor=\"middle\" x=\"1714\" y=\"-1108.8\" font-family=\"Times,serif\" font-size=\"14.00\">gini = 0.174</text>\n",
       "<text text-anchor=\"middle\" x=\"1714\" y=\"-1093.8\" font-family=\"Times,serif\" font-size=\"14.00\">samples = 125</text>\n",
       "<text text-anchor=\"middle\" x=\"1714\" y=\"-1078.8\" font-family=\"Times,serif\" font-size=\"14.00\">value = [113, 12]</text>\n",
       "<text text-anchor=\"middle\" x=\"1714\" y=\"-1063.8\" font-family=\"Times,serif\" font-size=\"14.00\">class = 未生还</text>\n",
       "</g>\n",
       "<!-- 73&#45;&gt;74 -->\n",
       "<g id=\"edge74\" class=\"edge\"><title>73&#45;&gt;74</title>\n",
       "<path fill=\"none\" stroke=\"black\" d=\"M1759.71,-1174.91C1754.45,-1166.1 1748.82,-1156.7 1743.38,-1147.61\"/>\n",
       "<polygon fill=\"black\" stroke=\"black\" points=\"1746.38,-1145.81 1738.24,-1139.02 1740.37,-1149.4 1746.38,-1145.81\"/>\n",
       "</g>\n",
       "<!-- 121 -->\n",
       "<g id=\"node122\" class=\"node\"><title>121</title>\n",
       "<polygon fill=\"#eeab7b\" stroke=\"black\" points=\"1889.5,-1139 1788.5,-1139 1788.5,-1056 1889.5,-1056 1889.5,-1139\"/>\n",
       "<text text-anchor=\"middle\" x=\"1839\" y=\"-1123.8\" font-family=\"Times,serif\" font-size=\"14.00\">Age &lt;= 29.5</text>\n",
       "<text text-anchor=\"middle\" x=\"1839\" y=\"-1108.8\" font-family=\"Times,serif\" font-size=\"14.00\">gini = 0.375</text>\n",
       "<text text-anchor=\"middle\" x=\"1839\" y=\"-1093.8\" font-family=\"Times,serif\" font-size=\"14.00\">samples = 16</text>\n",
       "<text text-anchor=\"middle\" x=\"1839\" y=\"-1078.8\" font-family=\"Times,serif\" font-size=\"14.00\">value = [12, 4]</text>\n",
       "<text text-anchor=\"middle\" x=\"1839\" y=\"-1063.8\" font-family=\"Times,serif\" font-size=\"14.00\">class = 未生还</text>\n",
       "</g>\n",
       "<!-- 73&#45;&gt;121 -->\n",
       "<g id=\"edge121\" class=\"edge\"><title>73&#45;&gt;121</title>\n",
       "<path fill=\"none\" stroke=\"black\" d=\"M1803.08,-1174.91C1807.13,-1166.29 1811.46,-1157.09 1815.65,-1148.17\"/>\n",
       "<polygon fill=\"black\" stroke=\"black\" points=\"1818.86,-1149.56 1819.95,-1139.02 1812.53,-1146.58 1818.86,-1149.56\"/>\n",
       "</g>\n",
       "<!-- 75 -->\n",
       "<g id=\"node76\" class=\"node\"><title>75</title>\n",
       "<polygon fill=\"#e99457\" stroke=\"black\" points=\"1603.5,-1020 1498.5,-1020 1498.5,-937 1603.5,-937 1603.5,-1020\"/>\n",
       "<text text-anchor=\"middle\" x=\"1551\" y=\"-1004.8\" font-family=\"Times,serif\" font-size=\"14.00\">Fare &lt;= 7.91</text>\n",
       "<text text-anchor=\"middle\" x=\"1551\" y=\"-989.8\" font-family=\"Times,serif\" font-size=\"14.00\">gini = 0.231</text>\n",
       "<text text-anchor=\"middle\" x=\"1551\" y=\"-974.8\" font-family=\"Times,serif\" font-size=\"14.00\">samples = 90</text>\n",
       "<text text-anchor=\"middle\" x=\"1551\" y=\"-959.8\" font-family=\"Times,serif\" font-size=\"14.00\">value = [78, 12]</text>\n",
       "<text text-anchor=\"middle\" x=\"1551\" y=\"-944.8\" font-family=\"Times,serif\" font-size=\"14.00\">class = 未生还</text>\n",
       "</g>\n",
       "<!-- 74&#45;&gt;75 -->\n",
       "<g id=\"edge75\" class=\"edge\"><title>74&#45;&gt;75</title>\n",
       "<path fill=\"none\" stroke=\"black\" d=\"M1657.9,-1056.24C1643.06,-1045.58 1626.97,-1034.03 1611.89,-1023.21\"/>\n",
       "<polygon fill=\"black\" stroke=\"black\" points=\"1613.8,-1020.27 1603.63,-1017.28 1609.71,-1025.95 1613.8,-1020.27\"/>\n",
       "</g>\n",
       "<!-- 120 -->\n",
       "<g id=\"node121\" class=\"node\"><title>120</title>\n",
       "<polygon fill=\"#e58139\" stroke=\"black\" points=\"1764.5,-1012.5 1663.5,-1012.5 1663.5,-944.5 1764.5,-944.5 1764.5,-1012.5\"/>\n",
       "<text text-anchor=\"middle\" x=\"1714\" y=\"-997.3\" font-family=\"Times,serif\" font-size=\"14.00\">gini = 0.0</text>\n",
       "<text text-anchor=\"middle\" x=\"1714\" y=\"-982.3\" font-family=\"Times,serif\" font-size=\"14.00\">samples = 35</text>\n",
       "<text text-anchor=\"middle\" x=\"1714\" y=\"-967.3\" font-family=\"Times,serif\" font-size=\"14.00\">value = [35, 0]</text>\n",
       "<text text-anchor=\"middle\" x=\"1714\" y=\"-952.3\" font-family=\"Times,serif\" font-size=\"14.00\">class = 未生还</text>\n",
       "</g>\n",
       "<!-- 74&#45;&gt;120 -->\n",
       "<g id=\"edge120\" class=\"edge\"><title>74&#45;&gt;120</title>\n",
       "<path fill=\"none\" stroke=\"black\" d=\"M1714,-1055.91C1714,-1045.2 1714,-1033.62 1714,-1022.78\"/>\n",
       "<polygon fill=\"black\" stroke=\"black\" points=\"1717.5,-1022.67 1714,-1012.67 1710.5,-1022.67 1717.5,-1022.67\"/>\n",
       "</g>\n",
       "<!-- 76 -->\n",
       "<g id=\"node77\" class=\"node\"><title>76</title>\n",
       "<polygon fill=\"#e78c4b\" stroke=\"black\" points=\"1398.5,-901 1297.5,-901 1297.5,-818 1398.5,-818 1398.5,-901\"/>\n",
       "<text text-anchor=\"middle\" x=\"1348\" y=\"-885.8\" font-family=\"Times,serif\" font-size=\"14.00\">Fare &lt;= 7.798</text>\n",
       "<text text-anchor=\"middle\" x=\"1348\" y=\"-870.8\" font-family=\"Times,serif\" font-size=\"14.00\">gini = 0.153</text>\n",
       "<text text-anchor=\"middle\" x=\"1348\" y=\"-855.8\" font-family=\"Times,serif\" font-size=\"14.00\">samples = 48</text>\n",
       "<text text-anchor=\"middle\" x=\"1348\" y=\"-840.8\" font-family=\"Times,serif\" font-size=\"14.00\">value = [44, 4]</text>\n",
       "<text text-anchor=\"middle\" x=\"1348\" y=\"-825.8\" font-family=\"Times,serif\" font-size=\"14.00\">class = 未生还</text>\n",
       "</g>\n",
       "<!-- 75&#45;&gt;76 -->\n",
       "<g id=\"edge76\" class=\"edge\"><title>75&#45;&gt;76</title>\n",
       "<path fill=\"none\" stroke=\"black\" d=\"M1498.46,-947.217C1470.57,-931.141 1436.18,-911.326 1407.33,-894.697\"/>\n",
       "<polygon fill=\"black\" stroke=\"black\" points=\"1408.98,-891.608 1398.57,-889.646 1405.49,-897.672 1408.98,-891.608\"/>\n",
       "</g>\n",
       "<!-- 97 -->\n",
       "<g id=\"node98\" class=\"node\"><title>97</title>\n",
       "<polygon fill=\"#eb9f68\" stroke=\"black\" points=\"1601.5,-901 1500.5,-901 1500.5,-818 1601.5,-818 1601.5,-901\"/>\n",
       "<text text-anchor=\"middle\" x=\"1551\" y=\"-885.8\" font-family=\"Times,serif\" font-size=\"14.00\">Age &lt;= 30.75</text>\n",
       "<text text-anchor=\"middle\" x=\"1551\" y=\"-870.8\" font-family=\"Times,serif\" font-size=\"14.00\">gini = 0.308</text>\n",
       "<text text-anchor=\"middle\" x=\"1551\" y=\"-855.8\" font-family=\"Times,serif\" font-size=\"14.00\">samples = 42</text>\n",
       "<text text-anchor=\"middle\" x=\"1551\" y=\"-840.8\" font-family=\"Times,serif\" font-size=\"14.00\">value = [34, 8]</text>\n",
       "<text text-anchor=\"middle\" x=\"1551\" y=\"-825.8\" font-family=\"Times,serif\" font-size=\"14.00\">class = 未生还</text>\n",
       "</g>\n",
       "<!-- 75&#45;&gt;97 -->\n",
       "<g id=\"edge97\" class=\"edge\"><title>75&#45;&gt;97</title>\n",
       "<path fill=\"none\" stroke=\"black\" d=\"M1551,-936.907C1551,-928.649 1551,-919.864 1551,-911.302\"/>\n",
       "<polygon fill=\"black\" stroke=\"black\" points=\"1554.5,-911.021 1551,-901.021 1547.5,-911.021 1554.5,-911.021\"/>\n",
       "</g>\n",
       "<!-- 77 -->\n",
       "<g id=\"node78\" class=\"node\"><title>77</title>\n",
       "<polygon fill=\"#ea975b\" stroke=\"black\" points=\"1257.5,-782 1156.5,-782 1156.5,-699 1257.5,-699 1257.5,-782\"/>\n",
       "<text text-anchor=\"middle\" x=\"1207\" y=\"-766.8\" font-family=\"Times,serif\" font-size=\"14.00\">Fare &lt;= 7.785</text>\n",
       "<text text-anchor=\"middle\" x=\"1207\" y=\"-751.8\" font-family=\"Times,serif\" font-size=\"14.00\">gini = 0.252</text>\n",
       "<text text-anchor=\"middle\" x=\"1207\" y=\"-736.8\" font-family=\"Times,serif\" font-size=\"14.00\">samples = 27</text>\n",
       "<text text-anchor=\"middle\" x=\"1207\" y=\"-721.8\" font-family=\"Times,serif\" font-size=\"14.00\">value = [23, 4]</text>\n",
       "<text text-anchor=\"middle\" x=\"1207\" y=\"-706.8\" font-family=\"Times,serif\" font-size=\"14.00\">class = 未生还</text>\n",
       "</g>\n",
       "<!-- 76&#45;&gt;77 -->\n",
       "<g id=\"edge77\" class=\"edge\"><title>76&#45;&gt;77</title>\n",
       "<path fill=\"none\" stroke=\"black\" d=\"M1299.08,-817.907C1287.71,-808.469 1275.5,-798.343 1263.82,-788.649\"/>\n",
       "<polygon fill=\"black\" stroke=\"black\" points=\"1265.76,-785.713 1255.83,-782.021 1261.29,-791.1 1265.76,-785.713\"/>\n",
       "</g>\n",
       "<!-- 96 -->\n",
       "<g id=\"node97\" class=\"node\"><title>96</title>\n",
       "<polygon fill=\"#e58139\" stroke=\"black\" points=\"1398.5,-774.5 1297.5,-774.5 1297.5,-706.5 1398.5,-706.5 1398.5,-774.5\"/>\n",
       "<text text-anchor=\"middle\" x=\"1348\" y=\"-759.3\" font-family=\"Times,serif\" font-size=\"14.00\">gini = 0.0</text>\n",
       "<text text-anchor=\"middle\" x=\"1348\" y=\"-744.3\" font-family=\"Times,serif\" font-size=\"14.00\">samples = 21</text>\n",
       "<text text-anchor=\"middle\" x=\"1348\" y=\"-729.3\" font-family=\"Times,serif\" font-size=\"14.00\">value = [21, 0]</text>\n",
       "<text text-anchor=\"middle\" x=\"1348\" y=\"-714.3\" font-family=\"Times,serif\" font-size=\"14.00\">class = 未生还</text>\n",
       "</g>\n",
       "<!-- 76&#45;&gt;96 -->\n",
       "<g id=\"edge96\" class=\"edge\"><title>76&#45;&gt;96</title>\n",
       "<path fill=\"none\" stroke=\"black\" d=\"M1348,-817.907C1348,-807.204 1348,-795.615 1348,-784.776\"/>\n",
       "<polygon fill=\"black\" stroke=\"black\" points=\"1351.5,-784.667 1348,-774.667 1344.5,-784.667 1351.5,-784.667\"/>\n",
       "</g>\n",
       "<!-- 78 -->\n",
       "<g id=\"node79\" class=\"node\"><title>78</title>\n",
       "<polygon fill=\"#e78d4c\" stroke=\"black\" points=\"1117.5,-663 1016.5,-663 1016.5,-580 1117.5,-580 1117.5,-663\"/>\n",
       "<text text-anchor=\"middle\" x=\"1067\" y=\"-647.8\" font-family=\"Times,serif\" font-size=\"14.00\">Age &lt;= 23.0</text>\n",
       "<text text-anchor=\"middle\" x=\"1067\" y=\"-632.8\" font-family=\"Times,serif\" font-size=\"14.00\">gini = 0.159</text>\n",
       "<text text-anchor=\"middle\" x=\"1067\" y=\"-617.8\" font-family=\"Times,serif\" font-size=\"14.00\">samples = 23</text>\n",
       "<text text-anchor=\"middle\" x=\"1067\" y=\"-602.8\" font-family=\"Times,serif\" font-size=\"14.00\">value = [21, 2]</text>\n",
       "<text text-anchor=\"middle\" x=\"1067\" y=\"-587.8\" font-family=\"Times,serif\" font-size=\"14.00\">class = 未生还</text>\n",
       "</g>\n",
       "<!-- 77&#45;&gt;78 -->\n",
       "<g id=\"edge78\" class=\"edge\"><title>77&#45;&gt;78</title>\n",
       "<path fill=\"none\" stroke=\"black\" d=\"M1158.43,-698.907C1147.13,-689.469 1135.02,-679.343 1123.42,-669.649\"/>\n",
       "<polygon fill=\"black\" stroke=\"black\" points=\"1125.4,-666.748 1115.49,-663.021 1120.92,-672.119 1125.4,-666.748\"/>\n",
       "</g>\n",
       "<!-- 89 -->\n",
       "<g id=\"node90\" class=\"node\"><title>89</title>\n",
       "<polygon fill=\"#ffffff\" stroke=\"black\" points=\"1257.5,-663 1156.5,-663 1156.5,-580 1257.5,-580 1257.5,-663\"/>\n",
       "<text text-anchor=\"middle\" x=\"1207\" y=\"-647.8\" font-family=\"Times,serif\" font-size=\"14.00\">Age &lt;= 21.5</text>\n",
       "<text text-anchor=\"middle\" x=\"1207\" y=\"-632.8\" font-family=\"Times,serif\" font-size=\"14.00\">gini = 0.5</text>\n",
       "<text text-anchor=\"middle\" x=\"1207\" y=\"-617.8\" font-family=\"Times,serif\" font-size=\"14.00\">samples = 4</text>\n",
       "<text text-anchor=\"middle\" x=\"1207\" y=\"-602.8\" font-family=\"Times,serif\" font-size=\"14.00\">value = [2, 2]</text>\n",
       "<text text-anchor=\"middle\" x=\"1207\" y=\"-587.8\" font-family=\"Times,serif\" font-size=\"14.00\">class = 未生还</text>\n",
       "</g>\n",
       "<!-- 77&#45;&gt;89 -->\n",
       "<g id=\"edge89\" class=\"edge\"><title>77&#45;&gt;89</title>\n",
       "<path fill=\"none\" stroke=\"black\" d=\"M1207,-698.907C1207,-690.649 1207,-681.864 1207,-673.302\"/>\n",
       "<polygon fill=\"black\" stroke=\"black\" points=\"1210.5,-673.021 1207,-663.021 1203.5,-673.021 1210.5,-673.021\"/>\n",
       "</g>\n",
       "<!-- 79 -->\n",
       "<g id=\"node80\" class=\"node\"><title>79</title>\n",
       "<polygon fill=\"#e58139\" stroke=\"black\" points=\"983.5,-536.5 882.5,-536.5 882.5,-468.5 983.5,-468.5 983.5,-536.5\"/>\n",
       "<text text-anchor=\"middle\" x=\"933\" y=\"-521.3\" font-family=\"Times,serif\" font-size=\"14.00\">gini = 0.0</text>\n",
       "<text text-anchor=\"middle\" x=\"933\" y=\"-506.3\" font-family=\"Times,serif\" font-size=\"14.00\">samples = 13</text>\n",
       "<text text-anchor=\"middle\" x=\"933\" y=\"-491.3\" font-family=\"Times,serif\" font-size=\"14.00\">value = [13, 0]</text>\n",
       "<text text-anchor=\"middle\" x=\"933\" y=\"-476.3\" font-family=\"Times,serif\" font-size=\"14.00\">class = 未生还</text>\n",
       "</g>\n",
       "<!-- 78&#45;&gt;79 -->\n",
       "<g id=\"edge79\" class=\"edge\"><title>78&#45;&gt;79</title>\n",
       "<path fill=\"none\" stroke=\"black\" d=\"M1020.51,-579.907C1006.99,-568.101 992.231,-555.217 978.754,-543.45\"/>\n",
       "<polygon fill=\"black\" stroke=\"black\" points=\"980.821,-540.608 970.986,-536.667 976.217,-545.881 980.821,-540.608\"/>\n",
       "</g>\n",
       "<!-- 80 -->\n",
       "<g id=\"node81\" class=\"node\"><title>80</title>\n",
       "<polygon fill=\"#eca06a\" stroke=\"black\" points=\"1102.5,-544 1001.5,-544 1001.5,-461 1102.5,-461 1102.5,-544\"/>\n",
       "<text text-anchor=\"middle\" x=\"1052\" y=\"-528.8\" font-family=\"Times,serif\" font-size=\"14.00\">Age &lt;= 25.5</text>\n",
       "<text text-anchor=\"middle\" x=\"1052\" y=\"-513.8\" font-family=\"Times,serif\" font-size=\"14.00\">gini = 0.32</text>\n",
       "<text text-anchor=\"middle\" x=\"1052\" y=\"-498.8\" font-family=\"Times,serif\" font-size=\"14.00\">samples = 10</text>\n",
       "<text text-anchor=\"middle\" x=\"1052\" y=\"-483.8\" font-family=\"Times,serif\" font-size=\"14.00\">value = [8, 2]</text>\n",
       "<text text-anchor=\"middle\" x=\"1052\" y=\"-468.8\" font-family=\"Times,serif\" font-size=\"14.00\">class = 未生还</text>\n",
       "</g>\n",
       "<!-- 78&#45;&gt;80 -->\n",
       "<g id=\"edge80\" class=\"edge\"><title>78&#45;&gt;80</title>\n",
       "<path fill=\"none\" stroke=\"black\" d=\"M1061.8,-579.907C1060.73,-571.558 1059.59,-562.671 1058.48,-554.02\"/>\n",
       "<polygon fill=\"black\" stroke=\"black\" points=\"1061.94,-553.495 1057.19,-544.021 1055,-554.385 1061.94,-553.495\"/>\n",
       "</g>\n",
       "<!-- 81 -->\n",
       "<g id=\"node82\" class=\"node\"><title>81</title>\n",
       "<polygon fill=\"#f2c09c\" stroke=\"black\" points=\"975.5,-425 874.5,-425 874.5,-342 975.5,-342 975.5,-425\"/>\n",
       "<text text-anchor=\"middle\" x=\"925\" y=\"-409.8\" font-family=\"Times,serif\" font-size=\"14.00\">Fare &lt;= 7.096</text>\n",
       "<text text-anchor=\"middle\" x=\"925\" y=\"-394.8\" font-family=\"Times,serif\" font-size=\"14.00\">gini = 0.444</text>\n",
       "<text text-anchor=\"middle\" x=\"925\" y=\"-379.8\" font-family=\"Times,serif\" font-size=\"14.00\">samples = 6</text>\n",
       "<text text-anchor=\"middle\" x=\"925\" y=\"-364.8\" font-family=\"Times,serif\" font-size=\"14.00\">value = [4, 2]</text>\n",
       "<text text-anchor=\"middle\" x=\"925\" y=\"-349.8\" font-family=\"Times,serif\" font-size=\"14.00\">class = 未生还</text>\n",
       "</g>\n",
       "<!-- 80&#45;&gt;81 -->\n",
       "<g id=\"edge81\" class=\"edge\"><title>80&#45;&gt;81</title>\n",
       "<path fill=\"none\" stroke=\"black\" d=\"M1007.94,-460.907C997.792,-451.56 986.913,-441.538 976.483,-431.929\"/>\n",
       "<polygon fill=\"black\" stroke=\"black\" points=\"978.71,-429.222 968.984,-425.021 973.967,-434.371 978.71,-429.222\"/>\n",
       "</g>\n",
       "<!-- 88 -->\n",
       "<g id=\"node89\" class=\"node\"><title>88</title>\n",
       "<polygon fill=\"#e58139\" stroke=\"black\" points=\"1094.5,-417.5 993.5,-417.5 993.5,-349.5 1094.5,-349.5 1094.5,-417.5\"/>\n",
       "<text text-anchor=\"middle\" x=\"1044\" y=\"-402.3\" font-family=\"Times,serif\" font-size=\"14.00\">gini = 0.0</text>\n",
       "<text text-anchor=\"middle\" x=\"1044\" y=\"-387.3\" font-family=\"Times,serif\" font-size=\"14.00\">samples = 4</text>\n",
       "<text text-anchor=\"middle\" x=\"1044\" y=\"-372.3\" font-family=\"Times,serif\" font-size=\"14.00\">value = [4, 0]</text>\n",
       "<text text-anchor=\"middle\" x=\"1044\" y=\"-357.3\" font-family=\"Times,serif\" font-size=\"14.00\">class = 未生还</text>\n",
       "</g>\n",
       "<!-- 80&#45;&gt;88 -->\n",
       "<g id=\"edge88\" class=\"edge\"><title>80&#45;&gt;88</title>\n",
       "<path fill=\"none\" stroke=\"black\" d=\"M1049.22,-460.907C1048.49,-450.204 1047.7,-438.615 1046.96,-427.776\"/>\n",
       "<polygon fill=\"black\" stroke=\"black\" points=\"1050.44,-427.405 1046.27,-417.667 1043.46,-427.882 1050.44,-427.405\"/>\n",
       "</g>\n",
       "<!-- 82 -->\n",
       "<g id=\"node83\" class=\"node\"><title>82</title>\n",
       "<polygon fill=\"#e58139\" stroke=\"black\" points=\"915.5,-298.5 814.5,-298.5 814.5,-230.5 915.5,-230.5 915.5,-298.5\"/>\n",
       "<text text-anchor=\"middle\" x=\"865\" y=\"-283.3\" font-family=\"Times,serif\" font-size=\"14.00\">gini = 0.0</text>\n",
       "<text text-anchor=\"middle\" x=\"865\" y=\"-268.3\" font-family=\"Times,serif\" font-size=\"14.00\">samples = 2</text>\n",
       "<text text-anchor=\"middle\" x=\"865\" y=\"-253.3\" font-family=\"Times,serif\" font-size=\"14.00\">value = [2, 0]</text>\n",
       "<text text-anchor=\"middle\" x=\"865\" y=\"-238.3\" font-family=\"Times,serif\" font-size=\"14.00\">class = 未生还</text>\n",
       "</g>\n",
       "<!-- 81&#45;&gt;82 -->\n",
       "<g id=\"edge82\" class=\"edge\"><title>81&#45;&gt;82</title>\n",
       "<path fill=\"none\" stroke=\"black\" d=\"M904.183,-341.907C898.525,-330.873 892.383,-318.898 886.678,-307.773\"/>\n",
       "<polygon fill=\"black\" stroke=\"black\" points=\"889.686,-305.968 882.009,-298.667 883.458,-309.162 889.686,-305.968\"/>\n",
       "</g>\n",
       "<!-- 83 -->\n",
       "<g id=\"node84\" class=\"node\"><title>83</title>\n",
       "<polygon fill=\"#ffffff\" stroke=\"black\" points=\"1034.5,-306 933.5,-306 933.5,-223 1034.5,-223 1034.5,-306\"/>\n",
       "<text text-anchor=\"middle\" x=\"984\" y=\"-290.8\" font-family=\"Times,serif\" font-size=\"14.00\">Age &lt;= 24.5</text>\n",
       "<text text-anchor=\"middle\" x=\"984\" y=\"-275.8\" font-family=\"Times,serif\" font-size=\"14.00\">gini = 0.5</text>\n",
       "<text text-anchor=\"middle\" x=\"984\" y=\"-260.8\" font-family=\"Times,serif\" font-size=\"14.00\">samples = 4</text>\n",
       "<text text-anchor=\"middle\" x=\"984\" y=\"-245.8\" font-family=\"Times,serif\" font-size=\"14.00\">value = [2, 2]</text>\n",
       "<text text-anchor=\"middle\" x=\"984\" y=\"-230.8\" font-family=\"Times,serif\" font-size=\"14.00\">class = 未生还</text>\n",
       "</g>\n",
       "<!-- 81&#45;&gt;83 -->\n",
       "<g id=\"edge83\" class=\"edge\"><title>81&#45;&gt;83</title>\n",
       "<path fill=\"none\" stroke=\"black\" d=\"M945.47,-341.907C949.817,-333.286 954.454,-324.09 958.95,-315.175\"/>\n",
       "<polygon fill=\"black\" stroke=\"black\" points=\"962.189,-316.526 963.566,-306.021 955.939,-313.374 962.189,-316.526\"/>\n",
       "</g>\n",
       "<!-- 84 -->\n",
       "<g id=\"node85\" class=\"node\"><title>84</title>\n",
       "<polygon fill=\"#399de5\" stroke=\"black\" points=\"972,-179.5 880,-179.5 880,-111.5 972,-111.5 972,-179.5\"/>\n",
       "<text text-anchor=\"middle\" x=\"926\" y=\"-164.3\" font-family=\"Times,serif\" font-size=\"14.00\">gini = 0.0</text>\n",
       "<text text-anchor=\"middle\" x=\"926\" y=\"-149.3\" font-family=\"Times,serif\" font-size=\"14.00\">samples = 1</text>\n",
       "<text text-anchor=\"middle\" x=\"926\" y=\"-134.3\" font-family=\"Times,serif\" font-size=\"14.00\">value = [0, 1]</text>\n",
       "<text text-anchor=\"middle\" x=\"926\" y=\"-119.3\" font-family=\"Times,serif\" font-size=\"14.00\">class = 生还</text>\n",
       "</g>\n",
       "<!-- 83&#45;&gt;84 -->\n",
       "<g id=\"edge84\" class=\"edge\"><title>83&#45;&gt;84</title>\n",
       "<path fill=\"none\" stroke=\"black\" d=\"M963.877,-222.907C958.407,-211.873 952.471,-199.898 946.956,-188.773\"/>\n",
       "<polygon fill=\"black\" stroke=\"black\" points=\"950.019,-187.072 942.442,-179.667 943.747,-190.181 950.019,-187.072\"/>\n",
       "</g>\n",
       "<!-- 85 -->\n",
       "<g id=\"node86\" class=\"node\"><title>85</title>\n",
       "<polygon fill=\"#f2c09c\" stroke=\"black\" points=\"1091.5,-187 990.5,-187 990.5,-104 1091.5,-104 1091.5,-187\"/>\n",
       "<text text-anchor=\"middle\" x=\"1041\" y=\"-171.8\" font-family=\"Times,serif\" font-size=\"14.00\">Fare &lt;= 7.513</text>\n",
       "<text text-anchor=\"middle\" x=\"1041\" y=\"-156.8\" font-family=\"Times,serif\" font-size=\"14.00\">gini = 0.444</text>\n",
       "<text text-anchor=\"middle\" x=\"1041\" y=\"-141.8\" font-family=\"Times,serif\" font-size=\"14.00\">samples = 3</text>\n",
       "<text text-anchor=\"middle\" x=\"1041\" y=\"-126.8\" font-family=\"Times,serif\" font-size=\"14.00\">value = [2, 1]</text>\n",
       "<text text-anchor=\"middle\" x=\"1041\" y=\"-111.8\" font-family=\"Times,serif\" font-size=\"14.00\">class = 未生还</text>\n",
       "</g>\n",
       "<!-- 83&#45;&gt;85 -->\n",
       "<g id=\"edge85\" class=\"edge\"><title>83&#45;&gt;85</title>\n",
       "<path fill=\"none\" stroke=\"black\" d=\"M1003.78,-222.907C1007.98,-214.286 1012.46,-205.09 1016.8,-196.175\"/>\n",
       "<polygon fill=\"black\" stroke=\"black\" points=\"1020.03,-197.544 1021.26,-187.021 1013.73,-194.478 1020.03,-197.544\"/>\n",
       "</g>\n",
       "<!-- 86 -->\n",
       "<g id=\"node87\" class=\"node\"><title>86</title>\n",
       "<polygon fill=\"#e58139\" stroke=\"black\" points=\"1031.5,-68 930.5,-68 930.5,-0 1031.5,-0 1031.5,-68\"/>\n",
       "<text text-anchor=\"middle\" x=\"981\" y=\"-52.8\" font-family=\"Times,serif\" font-size=\"14.00\">gini = 0.0</text>\n",
       "<text text-anchor=\"middle\" x=\"981\" y=\"-37.8\" font-family=\"Times,serif\" font-size=\"14.00\">samples = 1</text>\n",
       "<text text-anchor=\"middle\" x=\"981\" y=\"-22.8\" font-family=\"Times,serif\" font-size=\"14.00\">value = [1, 0]</text>\n",
       "<text text-anchor=\"middle\" x=\"981\" y=\"-7.8\" font-family=\"Times,serif\" font-size=\"14.00\">class = 未生还</text>\n",
       "</g>\n",
       "<!-- 85&#45;&gt;86 -->\n",
       "<g id=\"edge86\" class=\"edge\"><title>85&#45;&gt;86</title>\n",
       "<path fill=\"none\" stroke=\"black\" d=\"M1018.66,-103.726C1013.91,-95.0615 1008.89,-85.8962 1004.11,-77.1802\"/>\n",
       "<polygon fill=\"black\" stroke=\"black\" points=\"1007.12,-75.3875 999.246,-68.2996 1000.98,-78.7513 1007.12,-75.3875\"/>\n",
       "</g>\n",
       "<!-- 87 -->\n",
       "<g id=\"node88\" class=\"node\"><title>87</title>\n",
       "<polygon fill=\"#ffffff\" stroke=\"black\" points=\"1150.5,-68 1049.5,-68 1049.5,-0 1150.5,-0 1150.5,-68\"/>\n",
       "<text text-anchor=\"middle\" x=\"1100\" y=\"-52.8\" font-family=\"Times,serif\" font-size=\"14.00\">gini = 0.5</text>\n",
       "<text text-anchor=\"middle\" x=\"1100\" y=\"-37.8\" font-family=\"Times,serif\" font-size=\"14.00\">samples = 2</text>\n",
       "<text text-anchor=\"middle\" x=\"1100\" y=\"-22.8\" font-family=\"Times,serif\" font-size=\"14.00\">value = [1, 1]</text>\n",
       "<text text-anchor=\"middle\" x=\"1100\" y=\"-7.8\" font-family=\"Times,serif\" font-size=\"14.00\">class = 未生还</text>\n",
       "</g>\n",
       "<!-- 85&#45;&gt;87 -->\n",
       "<g id=\"edge87\" class=\"edge\"><title>85&#45;&gt;87</title>\n",
       "<path fill=\"none\" stroke=\"black\" d=\"M1062.97,-103.726C1067.64,-95.0615 1072.58,-85.8962 1077.27,-77.1802\"/>\n",
       "<polygon fill=\"black\" stroke=\"black\" points=\"1080.4,-78.7632 1082.06,-68.2996 1074.23,-75.4428 1080.4,-78.7632\"/>\n",
       "</g>\n",
       "<!-- 90 -->\n",
       "<g id=\"node91\" class=\"node\"><title>90</title>\n",
       "<polygon fill=\"#399de5\" stroke=\"black\" points=\"1213,-536.5 1121,-536.5 1121,-468.5 1213,-468.5 1213,-536.5\"/>\n",
       "<text text-anchor=\"middle\" x=\"1167\" y=\"-521.3\" font-family=\"Times,serif\" font-size=\"14.00\">gini = 0.0</text>\n",
       "<text text-anchor=\"middle\" x=\"1167\" y=\"-506.3\" font-family=\"Times,serif\" font-size=\"14.00\">samples = 1</text>\n",
       "<text text-anchor=\"middle\" x=\"1167\" y=\"-491.3\" font-family=\"Times,serif\" font-size=\"14.00\">value = [0, 1]</text>\n",
       "<text text-anchor=\"middle\" x=\"1167\" y=\"-476.3\" font-family=\"Times,serif\" font-size=\"14.00\">class = 生还</text>\n",
       "</g>\n",
       "<!-- 89&#45;&gt;90 -->\n",
       "<g id=\"edge90\" class=\"edge\"><title>89&#45;&gt;90</title>\n",
       "<path fill=\"none\" stroke=\"black\" d=\"M1193.12,-579.907C1189.43,-569.094 1185.42,-557.376 1181.68,-546.441\"/>\n",
       "<polygon fill=\"black\" stroke=\"black\" points=\"1184.89,-544.997 1178.34,-536.667 1178.26,-547.261 1184.89,-544.997\"/>\n",
       "</g>\n",
       "<!-- 91 -->\n",
       "<g id=\"node92\" class=\"node\"><title>91</title>\n",
       "<polygon fill=\"#f2c09c\" stroke=\"black\" points=\"1332.5,-544 1231.5,-544 1231.5,-461 1332.5,-461 1332.5,-544\"/>\n",
       "<text text-anchor=\"middle\" x=\"1282\" y=\"-528.8\" font-family=\"Times,serif\" font-size=\"14.00\">Age &lt;= 24.5</text>\n",
       "<text text-anchor=\"middle\" x=\"1282\" y=\"-513.8\" font-family=\"Times,serif\" font-size=\"14.00\">gini = 0.444</text>\n",
       "<text text-anchor=\"middle\" x=\"1282\" y=\"-498.8\" font-family=\"Times,serif\" font-size=\"14.00\">samples = 3</text>\n",
       "<text text-anchor=\"middle\" x=\"1282\" y=\"-483.8\" font-family=\"Times,serif\" font-size=\"14.00\">value = [2, 1]</text>\n",
       "<text text-anchor=\"middle\" x=\"1282\" y=\"-468.8\" font-family=\"Times,serif\" font-size=\"14.00\">class = 未生还</text>\n",
       "</g>\n",
       "<!-- 89&#45;&gt;91 -->\n",
       "<g id=\"edge91\" class=\"edge\"><title>89&#45;&gt;91</title>\n",
       "<path fill=\"none\" stroke=\"black\" d=\"M1233.02,-579.907C1238.66,-571.105 1244.69,-561.703 1250.52,-552.612\"/>\n",
       "<polygon fill=\"black\" stroke=\"black\" points=\"1253.57,-554.328 1256.03,-544.021 1247.68,-550.551 1253.57,-554.328\"/>\n",
       "</g>\n",
       "<!-- 92 -->\n",
       "<g id=\"node93\" class=\"node\"><title>92</title>\n",
       "<polygon fill=\"#e58139\" stroke=\"black\" points=\"1213.5,-417.5 1112.5,-417.5 1112.5,-349.5 1213.5,-349.5 1213.5,-417.5\"/>\n",
       "<text text-anchor=\"middle\" x=\"1163\" y=\"-402.3\" font-family=\"Times,serif\" font-size=\"14.00\">gini = 0.0</text>\n",
       "<text text-anchor=\"middle\" x=\"1163\" y=\"-387.3\" font-family=\"Times,serif\" font-size=\"14.00\">samples = 1</text>\n",
       "<text text-anchor=\"middle\" x=\"1163\" y=\"-372.3\" font-family=\"Times,serif\" font-size=\"14.00\">value = [1, 0]</text>\n",
       "<text text-anchor=\"middle\" x=\"1163\" y=\"-357.3\" font-family=\"Times,serif\" font-size=\"14.00\">class = 未生还</text>\n",
       "</g>\n",
       "<!-- 91&#45;&gt;92 -->\n",
       "<g id=\"edge92\" class=\"edge\"><title>91&#45;&gt;92</title>\n",
       "<path fill=\"none\" stroke=\"black\" d=\"M1240.71,-460.907C1228.82,-449.211 1215.85,-436.457 1203.97,-424.78\"/>\n",
       "<polygon fill=\"black\" stroke=\"black\" points=\"1206.32,-422.182 1196.73,-417.667 1201.41,-427.174 1206.32,-422.182\"/>\n",
       "</g>\n",
       "<!-- 93 -->\n",
       "<g id=\"node94\" class=\"node\"><title>93</title>\n",
       "<polygon fill=\"#ffffff\" stroke=\"black\" points=\"1332.5,-425 1231.5,-425 1231.5,-342 1332.5,-342 1332.5,-425\"/>\n",
       "<text text-anchor=\"middle\" x=\"1282\" y=\"-409.8\" font-family=\"Times,serif\" font-size=\"14.00\">Age &lt;= 27.5</text>\n",
       "<text text-anchor=\"middle\" x=\"1282\" y=\"-394.8\" font-family=\"Times,serif\" font-size=\"14.00\">gini = 0.5</text>\n",
       "<text text-anchor=\"middle\" x=\"1282\" y=\"-379.8\" font-family=\"Times,serif\" font-size=\"14.00\">samples = 2</text>\n",
       "<text text-anchor=\"middle\" x=\"1282\" y=\"-364.8\" font-family=\"Times,serif\" font-size=\"14.00\">value = [1, 1]</text>\n",
       "<text text-anchor=\"middle\" x=\"1282\" y=\"-349.8\" font-family=\"Times,serif\" font-size=\"14.00\">class = 未生还</text>\n",
       "</g>\n",
       "<!-- 91&#45;&gt;93 -->\n",
       "<g id=\"edge93\" class=\"edge\"><title>91&#45;&gt;93</title>\n",
       "<path fill=\"none\" stroke=\"black\" d=\"M1282,-460.907C1282,-452.649 1282,-443.864 1282,-435.302\"/>\n",
       "<polygon fill=\"black\" stroke=\"black\" points=\"1285.5,-435.021 1282,-425.021 1278.5,-435.021 1285.5,-435.021\"/>\n",
       "</g>\n",
       "<!-- 94 -->\n",
       "<g id=\"node95\" class=\"node\"><title>94</title>\n",
       "<polygon fill=\"#399de5\" stroke=\"black\" points=\"1271,-298.5 1179,-298.5 1179,-230.5 1271,-230.5 1271,-298.5\"/>\n",
       "<text text-anchor=\"middle\" x=\"1225\" y=\"-283.3\" font-family=\"Times,serif\" font-size=\"14.00\">gini = 0.0</text>\n",
       "<text text-anchor=\"middle\" x=\"1225\" y=\"-268.3\" font-family=\"Times,serif\" font-size=\"14.00\">samples = 1</text>\n",
       "<text text-anchor=\"middle\" x=\"1225\" y=\"-253.3\" font-family=\"Times,serif\" font-size=\"14.00\">value = [0, 1]</text>\n",
       "<text text-anchor=\"middle\" x=\"1225\" y=\"-238.3\" font-family=\"Times,serif\" font-size=\"14.00\">class = 生还</text>\n",
       "</g>\n",
       "<!-- 93&#45;&gt;94 -->\n",
       "<g id=\"edge94\" class=\"edge\"><title>93&#45;&gt;94</title>\n",
       "<path fill=\"none\" stroke=\"black\" d=\"M1262.22,-341.907C1256.85,-330.873 1251.01,-318.898 1245.59,-307.773\"/>\n",
       "<polygon fill=\"black\" stroke=\"black\" points=\"1248.68,-306.124 1241.16,-298.667 1242.39,-309.19 1248.68,-306.124\"/>\n",
       "</g>\n",
       "<!-- 95 -->\n",
       "<g id=\"node96\" class=\"node\"><title>95</title>\n",
       "<polygon fill=\"#e58139\" stroke=\"black\" points=\"1390.5,-298.5 1289.5,-298.5 1289.5,-230.5 1390.5,-230.5 1390.5,-298.5\"/>\n",
       "<text text-anchor=\"middle\" x=\"1340\" y=\"-283.3\" font-family=\"Times,serif\" font-size=\"14.00\">gini = 0.0</text>\n",
       "<text text-anchor=\"middle\" x=\"1340\" y=\"-268.3\" font-family=\"Times,serif\" font-size=\"14.00\">samples = 1</text>\n",
       "<text text-anchor=\"middle\" x=\"1340\" y=\"-253.3\" font-family=\"Times,serif\" font-size=\"14.00\">value = [1, 0]</text>\n",
       "<text text-anchor=\"middle\" x=\"1340\" y=\"-238.3\" font-family=\"Times,serif\" font-size=\"14.00\">class = 未生还</text>\n",
       "</g>\n",
       "<!-- 93&#45;&gt;95 -->\n",
       "<g id=\"edge95\" class=\"edge\"><title>93&#45;&gt;95</title>\n",
       "<path fill=\"none\" stroke=\"black\" d=\"M1302.12,-341.907C1307.59,-330.873 1313.53,-318.898 1319.04,-307.773\"/>\n",
       "<polygon fill=\"black\" stroke=\"black\" points=\"1322.25,-309.181 1323.56,-298.667 1315.98,-306.072 1322.25,-309.181\"/>\n",
       "</g>\n",
       "<!-- 98 -->\n",
       "<g id=\"node99\" class=\"node\"><title>98</title>\n",
       "<polygon fill=\"#ea9b62\" stroke=\"black\" points=\"1560.5,-782 1459.5,-782 1459.5,-699 1560.5,-699 1560.5,-782\"/>\n",
       "<text text-anchor=\"middle\" x=\"1510\" y=\"-766.8\" font-family=\"Times,serif\" font-size=\"14.00\">Age &lt;= 19.5</text>\n",
       "<text text-anchor=\"middle\" x=\"1510\" y=\"-751.8\" font-family=\"Times,serif\" font-size=\"14.00\">gini = 0.283</text>\n",
       "<text text-anchor=\"middle\" x=\"1510\" y=\"-736.8\" font-family=\"Times,serif\" font-size=\"14.00\">samples = 41</text>\n",
       "<text text-anchor=\"middle\" x=\"1510\" y=\"-721.8\" font-family=\"Times,serif\" font-size=\"14.00\">value = [34, 7]</text>\n",
       "<text text-anchor=\"middle\" x=\"1510\" y=\"-706.8\" font-family=\"Times,serif\" font-size=\"14.00\">class = 未生还</text>\n",
       "</g>\n",
       "<!-- 97&#45;&gt;98 -->\n",
       "<g id=\"edge98\" class=\"edge\"><title>97&#45;&gt;98</title>\n",
       "<path fill=\"none\" stroke=\"black\" d=\"M1536.78,-817.907C1533.82,-809.468 1530.67,-800.477 1527.6,-791.738\"/>\n",
       "<polygon fill=\"black\" stroke=\"black\" points=\"1530.81,-790.301 1524.2,-782.021 1524.2,-792.616 1530.81,-790.301\"/>\n",
       "</g>\n",
       "<!-- 119 -->\n",
       "<g id=\"node120\" class=\"node\"><title>119</title>\n",
       "<polygon fill=\"#399de5\" stroke=\"black\" points=\"1671,-774.5 1579,-774.5 1579,-706.5 1671,-706.5 1671,-774.5\"/>\n",
       "<text text-anchor=\"middle\" x=\"1625\" y=\"-759.3\" font-family=\"Times,serif\" font-size=\"14.00\">gini = 0.0</text>\n",
       "<text text-anchor=\"middle\" x=\"1625\" y=\"-744.3\" font-family=\"Times,serif\" font-size=\"14.00\">samples = 1</text>\n",
       "<text text-anchor=\"middle\" x=\"1625\" y=\"-729.3\" font-family=\"Times,serif\" font-size=\"14.00\">value = [0, 1]</text>\n",
       "<text text-anchor=\"middle\" x=\"1625\" y=\"-714.3\" font-family=\"Times,serif\" font-size=\"14.00\">class = 生还</text>\n",
       "</g>\n",
       "<!-- 97&#45;&gt;119 -->\n",
       "<g id=\"edge119\" class=\"edge\"><title>97&#45;&gt;119</title>\n",
       "<path fill=\"none\" stroke=\"black\" d=\"M1576.67,-817.907C1583.72,-806.763 1591.38,-794.658 1598.47,-783.439\"/>\n",
       "<polygon fill=\"black\" stroke=\"black\" points=\"1601.64,-784.989 1604.02,-774.667 1595.72,-781.248 1601.64,-784.989\"/>\n",
       "</g>\n",
       "<!-- 99 -->\n",
       "<g id=\"node100\" class=\"node\"><title>99</title>\n",
       "<polygon fill=\"#f1b991\" stroke=\"black\" points=\"1560.5,-663 1459.5,-663 1459.5,-580 1560.5,-580 1560.5,-663\"/>\n",
       "<text text-anchor=\"middle\" x=\"1510\" y=\"-647.8\" font-family=\"Times,serif\" font-size=\"14.00\">Fare &lt;= 8.104</text>\n",
       "<text text-anchor=\"middle\" x=\"1510\" y=\"-632.8\" font-family=\"Times,serif\" font-size=\"14.00\">gini = 0.426</text>\n",
       "<text text-anchor=\"middle\" x=\"1510\" y=\"-617.8\" font-family=\"Times,serif\" font-size=\"14.00\">samples = 13</text>\n",
       "<text text-anchor=\"middle\" x=\"1510\" y=\"-602.8\" font-family=\"Times,serif\" font-size=\"14.00\">value = [9, 4]</text>\n",
       "<text text-anchor=\"middle\" x=\"1510\" y=\"-587.8\" font-family=\"Times,serif\" font-size=\"14.00\">class = 未生还</text>\n",
       "</g>\n",
       "<!-- 98&#45;&gt;99 -->\n",
       "<g id=\"edge99\" class=\"edge\"><title>98&#45;&gt;99</title>\n",
       "<path fill=\"none\" stroke=\"black\" d=\"M1510,-698.907C1510,-690.649 1510,-681.864 1510,-673.302\"/>\n",
       "<polygon fill=\"black\" stroke=\"black\" points=\"1513.5,-673.021 1510,-663.021 1506.5,-673.021 1513.5,-673.021\"/>\n",
       "</g>\n",
       "<!-- 108 -->\n",
       "<g id=\"node109\" class=\"node\"><title>108</title>\n",
       "<polygon fill=\"#e89051\" stroke=\"black\" points=\"1679.5,-663 1578.5,-663 1578.5,-580 1679.5,-580 1679.5,-663\"/>\n",
       "<text text-anchor=\"middle\" x=\"1629\" y=\"-647.8\" font-family=\"Times,serif\" font-size=\"14.00\">Age &lt;= 26.5</text>\n",
       "<text text-anchor=\"middle\" x=\"1629\" y=\"-632.8\" font-family=\"Times,serif\" font-size=\"14.00\">gini = 0.191</text>\n",
       "<text text-anchor=\"middle\" x=\"1629\" y=\"-617.8\" font-family=\"Times,serif\" font-size=\"14.00\">samples = 28</text>\n",
       "<text text-anchor=\"middle\" x=\"1629\" y=\"-602.8\" font-family=\"Times,serif\" font-size=\"14.00\">value = [25, 3]</text>\n",
       "<text text-anchor=\"middle\" x=\"1629\" y=\"-587.8\" font-family=\"Times,serif\" font-size=\"14.00\">class = 未生还</text>\n",
       "</g>\n",
       "<!-- 98&#45;&gt;108 -->\n",
       "<g id=\"edge108\" class=\"edge\"><title>98&#45;&gt;108</title>\n",
       "<path fill=\"none\" stroke=\"black\" d=\"M1551.29,-698.907C1560.7,-689.651 1570.79,-679.732 1580.48,-670.209\"/>\n",
       "<polygon fill=\"black\" stroke=\"black\" points=\"1583.11,-672.527 1587.79,-663.021 1578.2,-667.536 1583.11,-672.527\"/>\n",
       "</g>\n",
       "<!-- 100 -->\n",
       "<g id=\"node101\" class=\"node\"><title>100</title>\n",
       "<polygon fill=\"#bddef6\" stroke=\"black\" points=\"1556,-544 1464,-544 1464,-461 1556,-461 1556,-544\"/>\n",
       "<text text-anchor=\"middle\" x=\"1510\" y=\"-528.8\" font-family=\"Times,serif\" font-size=\"14.00\">Age &lt;= 17.0</text>\n",
       "<text text-anchor=\"middle\" x=\"1510\" y=\"-513.8\" font-family=\"Times,serif\" font-size=\"14.00\">gini = 0.48</text>\n",
       "<text text-anchor=\"middle\" x=\"1510\" y=\"-498.8\" font-family=\"Times,serif\" font-size=\"14.00\">samples = 5</text>\n",
       "<text text-anchor=\"middle\" x=\"1510\" y=\"-483.8\" font-family=\"Times,serif\" font-size=\"14.00\">value = [2, 3]</text>\n",
       "<text text-anchor=\"middle\" x=\"1510\" y=\"-468.8\" font-family=\"Times,serif\" font-size=\"14.00\">class = 生还</text>\n",
       "</g>\n",
       "<!-- 99&#45;&gt;100 -->\n",
       "<g id=\"edge100\" class=\"edge\"><title>99&#45;&gt;100</title>\n",
       "<path fill=\"none\" stroke=\"black\" d=\"M1510,-579.907C1510,-571.649 1510,-562.864 1510,-554.302\"/>\n",
       "<polygon fill=\"black\" stroke=\"black\" points=\"1513.5,-554.021 1510,-544.021 1506.5,-554.021 1513.5,-554.021\"/>\n",
       "</g>\n",
       "<!-- 105 -->\n",
       "<g id=\"node106\" class=\"node\"><title>105</title>\n",
       "<polygon fill=\"#e99355\" stroke=\"black\" points=\"1676.5,-544 1575.5,-544 1575.5,-461 1676.5,-461 1676.5,-544\"/>\n",
       "<text text-anchor=\"middle\" x=\"1626\" y=\"-528.8\" font-family=\"Times,serif\" font-size=\"14.00\">Pclass &lt;= 2.5</text>\n",
       "<text text-anchor=\"middle\" x=\"1626\" y=\"-513.8\" font-family=\"Times,serif\" font-size=\"14.00\">gini = 0.219</text>\n",
       "<text text-anchor=\"middle\" x=\"1626\" y=\"-498.8\" font-family=\"Times,serif\" font-size=\"14.00\">samples = 8</text>\n",
       "<text text-anchor=\"middle\" x=\"1626\" y=\"-483.8\" font-family=\"Times,serif\" font-size=\"14.00\">value = [7, 1]</text>\n",
       "<text text-anchor=\"middle\" x=\"1626\" y=\"-468.8\" font-family=\"Times,serif\" font-size=\"14.00\">class = 未生还</text>\n",
       "</g>\n",
       "<!-- 99&#45;&gt;105 -->\n",
       "<g id=\"edge105\" class=\"edge\"><title>99&#45;&gt;105</title>\n",
       "<path fill=\"none\" stroke=\"black\" d=\"M1550.25,-579.907C1559.42,-570.651 1569.26,-560.732 1578.7,-551.209\"/>\n",
       "<polygon fill=\"black\" stroke=\"black\" points=\"1581.27,-553.586 1585.83,-544.021 1576.3,-548.658 1581.27,-553.586\"/>\n",
       "</g>\n",
       "<!-- 101 -->\n",
       "<g id=\"node102\" class=\"node\"><title>101</title>\n",
       "<polygon fill=\"#ffffff\" stroke=\"black\" points=\"1451.5,-417.5 1350.5,-417.5 1350.5,-349.5 1451.5,-349.5 1451.5,-417.5\"/>\n",
       "<text text-anchor=\"middle\" x=\"1401\" y=\"-402.3\" font-family=\"Times,serif\" font-size=\"14.00\">gini = 0.5</text>\n",
       "<text text-anchor=\"middle\" x=\"1401\" y=\"-387.3\" font-family=\"Times,serif\" font-size=\"14.00\">samples = 2</text>\n",
       "<text text-anchor=\"middle\" x=\"1401\" y=\"-372.3\" font-family=\"Times,serif\" font-size=\"14.00\">value = [1, 1]</text>\n",
       "<text text-anchor=\"middle\" x=\"1401\" y=\"-357.3\" font-family=\"Times,serif\" font-size=\"14.00\">class = 未生还</text>\n",
       "</g>\n",
       "<!-- 100&#45;&gt;101 -->\n",
       "<g id=\"edge101\" class=\"edge\"><title>100&#45;&gt;101</title>\n",
       "<path fill=\"none\" stroke=\"black\" d=\"M1472.18,-460.907C1461.39,-449.321 1449.63,-436.698 1438.83,-425.111\"/>\n",
       "<polygon fill=\"black\" stroke=\"black\" points=\"1441.28,-422.598 1431.9,-417.667 1436.15,-427.37 1441.28,-422.598\"/>\n",
       "</g>\n",
       "<!-- 102 -->\n",
       "<g id=\"node103\" class=\"node\"><title>102</title>\n",
       "<polygon fill=\"#9ccef2\" stroke=\"black\" points=\"1562,-425 1470,-425 1470,-342 1562,-342 1562,-425\"/>\n",
       "<text text-anchor=\"middle\" x=\"1516\" y=\"-409.8\" font-family=\"Times,serif\" font-size=\"14.00\">Age &lt;= 18.5</text>\n",
       "<text text-anchor=\"middle\" x=\"1516\" y=\"-394.8\" font-family=\"Times,serif\" font-size=\"14.00\">gini = 0.444</text>\n",
       "<text text-anchor=\"middle\" x=\"1516\" y=\"-379.8\" font-family=\"Times,serif\" font-size=\"14.00\">samples = 3</text>\n",
       "<text text-anchor=\"middle\" x=\"1516\" y=\"-364.8\" font-family=\"Times,serif\" font-size=\"14.00\">value = [1, 2]</text>\n",
       "<text text-anchor=\"middle\" x=\"1516\" y=\"-349.8\" font-family=\"Times,serif\" font-size=\"14.00\">class = 生还</text>\n",
       "</g>\n",
       "<!-- 100&#45;&gt;102 -->\n",
       "<g id=\"edge102\" class=\"edge\"><title>100&#45;&gt;102</title>\n",
       "<path fill=\"none\" stroke=\"black\" d=\"M1512.08,-460.907C1512.51,-452.558 1512.97,-443.671 1513.41,-435.02\"/>\n",
       "<polygon fill=\"black\" stroke=\"black\" points=\"1516.91,-435.187 1513.92,-425.021 1509.91,-434.828 1516.91,-435.187\"/>\n",
       "</g>\n",
       "<!-- 103 -->\n",
       "<g id=\"node104\" class=\"node\"><title>103</title>\n",
       "<polygon fill=\"#399de5\" stroke=\"black\" points=\"1532,-298.5 1440,-298.5 1440,-230.5 1532,-230.5 1532,-298.5\"/>\n",
       "<text text-anchor=\"middle\" x=\"1486\" y=\"-283.3\" font-family=\"Times,serif\" font-size=\"14.00\">gini = 0.0</text>\n",
       "<text text-anchor=\"middle\" x=\"1486\" y=\"-268.3\" font-family=\"Times,serif\" font-size=\"14.00\">samples = 1</text>\n",
       "<text text-anchor=\"middle\" x=\"1486\" y=\"-253.3\" font-family=\"Times,serif\" font-size=\"14.00\">value = [0, 1]</text>\n",
       "<text text-anchor=\"middle\" x=\"1486\" y=\"-238.3\" font-family=\"Times,serif\" font-size=\"14.00\">class = 生还</text>\n",
       "</g>\n",
       "<!-- 102&#45;&gt;103 -->\n",
       "<g id=\"edge103\" class=\"edge\"><title>102&#45;&gt;103</title>\n",
       "<path fill=\"none\" stroke=\"black\" d=\"M1505.59,-341.907C1502.82,-331.094 1499.81,-319.376 1497.01,-308.441\"/>\n",
       "<polygon fill=\"black\" stroke=\"black\" points=\"1500.38,-307.484 1494.5,-298.667 1493.6,-309.223 1500.38,-307.484\"/>\n",
       "</g>\n",
       "<!-- 104 -->\n",
       "<g id=\"node105\" class=\"node\"><title>104</title>\n",
       "<polygon fill=\"#ffffff\" stroke=\"black\" points=\"1651.5,-298.5 1550.5,-298.5 1550.5,-230.5 1651.5,-230.5 1651.5,-298.5\"/>\n",
       "<text text-anchor=\"middle\" x=\"1601\" y=\"-283.3\" font-family=\"Times,serif\" font-size=\"14.00\">gini = 0.5</text>\n",
       "<text text-anchor=\"middle\" x=\"1601\" y=\"-268.3\" font-family=\"Times,serif\" font-size=\"14.00\">samples = 2</text>\n",
       "<text text-anchor=\"middle\" x=\"1601\" y=\"-253.3\" font-family=\"Times,serif\" font-size=\"14.00\">value = [1, 1]</text>\n",
       "<text text-anchor=\"middle\" x=\"1601\" y=\"-238.3\" font-family=\"Times,serif\" font-size=\"14.00\">class = 未生还</text>\n",
       "</g>\n",
       "<!-- 102&#45;&gt;104 -->\n",
       "<g id=\"edge104\" class=\"edge\"><title>102&#45;&gt;104</title>\n",
       "<path fill=\"none\" stroke=\"black\" d=\"M1545.49,-341.907C1553.75,-330.542 1562.73,-318.178 1571.01,-306.774\"/>\n",
       "<polygon fill=\"black\" stroke=\"black\" points=\"1573.86,-308.814 1576.9,-298.667 1568.2,-304.7 1573.86,-308.814\"/>\n",
       "</g>\n",
       "<!-- 106 -->\n",
       "<g id=\"node107\" class=\"node\"><title>106</title>\n",
       "<polygon fill=\"#ffffff\" stroke=\"black\" points=\"1681.5,-417.5 1580.5,-417.5 1580.5,-349.5 1681.5,-349.5 1681.5,-417.5\"/>\n",
       "<text text-anchor=\"middle\" x=\"1631\" y=\"-402.3\" font-family=\"Times,serif\" font-size=\"14.00\">gini = 0.5</text>\n",
       "<text text-anchor=\"middle\" x=\"1631\" y=\"-387.3\" font-family=\"Times,serif\" font-size=\"14.00\">samples = 2</text>\n",
       "<text text-anchor=\"middle\" x=\"1631\" y=\"-372.3\" font-family=\"Times,serif\" font-size=\"14.00\">value = [1, 1]</text>\n",
       "<text text-anchor=\"middle\" x=\"1631\" y=\"-357.3\" font-family=\"Times,serif\" font-size=\"14.00\">class = 未生还</text>\n",
       "</g>\n",
       "<!-- 105&#45;&gt;106 -->\n",
       "<g id=\"edge106\" class=\"edge\"><title>105&#45;&gt;106</title>\n",
       "<path fill=\"none\" stroke=\"black\" d=\"M1627.73,-460.907C1628.19,-450.204 1628.69,-438.615 1629.15,-427.776\"/>\n",
       "<polygon fill=\"black\" stroke=\"black\" points=\"1632.65,-427.807 1629.58,-417.667 1625.66,-427.508 1632.65,-427.807\"/>\n",
       "</g>\n",
       "<!-- 107 -->\n",
       "<g id=\"node108\" class=\"node\"><title>107</title>\n",
       "<polygon fill=\"#e58139\" stroke=\"black\" points=\"1800.5,-417.5 1699.5,-417.5 1699.5,-349.5 1800.5,-349.5 1800.5,-417.5\"/>\n",
       "<text text-anchor=\"middle\" x=\"1750\" y=\"-402.3\" font-family=\"Times,serif\" font-size=\"14.00\">gini = 0.0</text>\n",
       "<text text-anchor=\"middle\" x=\"1750\" y=\"-387.3\" font-family=\"Times,serif\" font-size=\"14.00\">samples = 6</text>\n",
       "<text text-anchor=\"middle\" x=\"1750\" y=\"-372.3\" font-family=\"Times,serif\" font-size=\"14.00\">value = [6, 0]</text>\n",
       "<text text-anchor=\"middle\" x=\"1750\" y=\"-357.3\" font-family=\"Times,serif\" font-size=\"14.00\">class = 未生还</text>\n",
       "</g>\n",
       "<!-- 105&#45;&gt;107 -->\n",
       "<g id=\"edge107\" class=\"edge\"><title>105&#45;&gt;107</title>\n",
       "<path fill=\"none\" stroke=\"black\" d=\"M1669.02,-460.907C1681.42,-449.211 1694.93,-436.457 1707.31,-424.78\"/>\n",
       "<polygon fill=\"black\" stroke=\"black\" points=\"1709.98,-427.075 1714.85,-417.667 1705.17,-421.984 1709.98,-427.075\"/>\n",
       "</g>\n",
       "<!-- 109 -->\n",
       "<g id=\"node110\" class=\"node\"><title>109</title>\n",
       "<polygon fill=\"#e58139\" stroke=\"black\" points=\"1795.5,-536.5 1694.5,-536.5 1694.5,-468.5 1795.5,-468.5 1795.5,-536.5\"/>\n",
       "<text text-anchor=\"middle\" x=\"1745\" y=\"-521.3\" font-family=\"Times,serif\" font-size=\"14.00\">gini = 0.0</text>\n",
       "<text text-anchor=\"middle\" x=\"1745\" y=\"-506.3\" font-family=\"Times,serif\" font-size=\"14.00\">samples = 16</text>\n",
       "<text text-anchor=\"middle\" x=\"1745\" y=\"-491.3\" font-family=\"Times,serif\" font-size=\"14.00\">value = [16, 0]</text>\n",
       "<text text-anchor=\"middle\" x=\"1745\" y=\"-476.3\" font-family=\"Times,serif\" font-size=\"14.00\">class = 未生还</text>\n",
       "</g>\n",
       "<!-- 108&#45;&gt;109 -->\n",
       "<g id=\"edge109\" class=\"edge\"><title>108&#45;&gt;109</title>\n",
       "<path fill=\"none\" stroke=\"black\" d=\"M1669.25,-579.907C1680.84,-568.211 1693.49,-555.457 1705.06,-543.78\"/>\n",
       "<polygon fill=\"black\" stroke=\"black\" points=\"1707.56,-546.233 1712.12,-536.667 1702.59,-541.304 1707.56,-546.233\"/>\n",
       "</g>\n",
       "<!-- 110 -->\n",
       "<g id=\"node111\" class=\"node\"><title>110</title>\n",
       "<polygon fill=\"#eeab7b\" stroke=\"black\" points=\"1915.5,-544 1814.5,-544 1814.5,-461 1915.5,-461 1915.5,-544\"/>\n",
       "<text text-anchor=\"middle\" x=\"1865\" y=\"-528.8\" font-family=\"Times,serif\" font-size=\"14.00\">Age &lt;= 27.5</text>\n",
       "<text text-anchor=\"middle\" x=\"1865\" y=\"-513.8\" font-family=\"Times,serif\" font-size=\"14.00\">gini = 0.375</text>\n",
       "<text text-anchor=\"middle\" x=\"1865\" y=\"-498.8\" font-family=\"Times,serif\" font-size=\"14.00\">samples = 12</text>\n",
       "<text text-anchor=\"middle\" x=\"1865\" y=\"-483.8\" font-family=\"Times,serif\" font-size=\"14.00\">value = [9, 3]</text>\n",
       "<text text-anchor=\"middle\" x=\"1865\" y=\"-468.8\" font-family=\"Times,serif\" font-size=\"14.00\">class = 未生还</text>\n",
       "</g>\n",
       "<!-- 108&#45;&gt;110 -->\n",
       "<g id=\"edge110\" class=\"edge\"><title>108&#45;&gt;110</title>\n",
       "<path fill=\"none\" stroke=\"black\" d=\"M1679.8,-584.789C1682.86,-583.083 1685.94,-581.472 1689,-580 1737.26,-556.774 1755.65,-567.042 1804,-544 1804.43,-543.795 1804.86,-543.587 1805.29,-543.377\"/>\n",
       "<polygon fill=\"black\" stroke=\"black\" points=\"1807.13,-546.365 1814.37,-538.626 1803.88,-540.164 1807.13,-546.365\"/>\n",
       "</g>\n",
       "<!-- 111 -->\n",
       "<g id=\"node112\" class=\"node\"><title>111</title>\n",
       "<polygon fill=\"#399de5\" stroke=\"black\" points=\"1911,-417.5 1819,-417.5 1819,-349.5 1911,-349.5 1911,-417.5\"/>\n",
       "<text text-anchor=\"middle\" x=\"1865\" y=\"-402.3\" font-family=\"Times,serif\" font-size=\"14.00\">gini = 0.0</text>\n",
       "<text text-anchor=\"middle\" x=\"1865\" y=\"-387.3\" font-family=\"Times,serif\" font-size=\"14.00\">samples = 1</text>\n",
       "<text text-anchor=\"middle\" x=\"1865\" y=\"-372.3\" font-family=\"Times,serif\" font-size=\"14.00\">value = [0, 1]</text>\n",
       "<text text-anchor=\"middle\" x=\"1865\" y=\"-357.3\" font-family=\"Times,serif\" font-size=\"14.00\">class = 生还</text>\n",
       "</g>\n",
       "<!-- 110&#45;&gt;111 -->\n",
       "<g id=\"edge111\" class=\"edge\"><title>110&#45;&gt;111</title>\n",
       "<path fill=\"none\" stroke=\"black\" d=\"M1865,-460.907C1865,-450.204 1865,-438.615 1865,-427.776\"/>\n",
       "<polygon fill=\"black\" stroke=\"black\" points=\"1868.5,-427.667 1865,-417.667 1861.5,-427.667 1868.5,-427.667\"/>\n",
       "</g>\n",
       "<!-- 112 -->\n",
       "<g id=\"node113\" class=\"node\"><title>112</title>\n",
       "<polygon fill=\"#eb9d65\" stroke=\"black\" points=\"2030.5,-425 1929.5,-425 1929.5,-342 2030.5,-342 2030.5,-425\"/>\n",
       "<text text-anchor=\"middle\" x=\"1980\" y=\"-409.8\" font-family=\"Times,serif\" font-size=\"14.00\">Fare &lt;= 9.492</text>\n",
       "<text text-anchor=\"middle\" x=\"1980\" y=\"-394.8\" font-family=\"Times,serif\" font-size=\"14.00\">gini = 0.298</text>\n",
       "<text text-anchor=\"middle\" x=\"1980\" y=\"-379.8\" font-family=\"Times,serif\" font-size=\"14.00\">samples = 11</text>\n",
       "<text text-anchor=\"middle\" x=\"1980\" y=\"-364.8\" font-family=\"Times,serif\" font-size=\"14.00\">value = [9, 2]</text>\n",
       "<text text-anchor=\"middle\" x=\"1980\" y=\"-349.8\" font-family=\"Times,serif\" font-size=\"14.00\">class = 未生还</text>\n",
       "</g>\n",
       "<!-- 110&#45;&gt;112 -->\n",
       "<g id=\"edge112\" class=\"edge\"><title>110&#45;&gt;112</title>\n",
       "<path fill=\"none\" stroke=\"black\" d=\"M1904.9,-460.907C1914,-451.651 1923.75,-441.732 1933.11,-432.209\"/>\n",
       "<polygon fill=\"black\" stroke=\"black\" points=\"1935.66,-434.606 1940.17,-425.021 1930.67,-429.699 1935.66,-434.606\"/>\n",
       "</g>\n",
       "<!-- 113 -->\n",
       "<g id=\"node114\" class=\"node\"><title>113</title>\n",
       "<polygon fill=\"#e58139\" stroke=\"black\" points=\"1970.5,-298.5 1869.5,-298.5 1869.5,-230.5 1970.5,-230.5 1970.5,-298.5\"/>\n",
       "<text text-anchor=\"middle\" x=\"1920\" y=\"-283.3\" font-family=\"Times,serif\" font-size=\"14.00\">gini = 0.0</text>\n",
       "<text text-anchor=\"middle\" x=\"1920\" y=\"-268.3\" font-family=\"Times,serif\" font-size=\"14.00\">samples = 5</text>\n",
       "<text text-anchor=\"middle\" x=\"1920\" y=\"-253.3\" font-family=\"Times,serif\" font-size=\"14.00\">value = [5, 0]</text>\n",
       "<text text-anchor=\"middle\" x=\"1920\" y=\"-238.3\" font-family=\"Times,serif\" font-size=\"14.00\">class = 未生还</text>\n",
       "</g>\n",
       "<!-- 112&#45;&gt;113 -->\n",
       "<g id=\"edge113\" class=\"edge\"><title>112&#45;&gt;113</title>\n",
       "<path fill=\"none\" stroke=\"black\" d=\"M1959.18,-341.907C1953.52,-330.873 1947.38,-318.898 1941.68,-307.773\"/>\n",
       "<polygon fill=\"black\" stroke=\"black\" points=\"1944.69,-305.968 1937.01,-298.667 1938.46,-309.162 1944.69,-305.968\"/>\n",
       "</g>\n",
       "<!-- 114 -->\n",
       "<g id=\"node115\" class=\"node\"><title>114</title>\n",
       "<polygon fill=\"#f2c09c\" stroke=\"black\" points=\"2089.5,-306 1988.5,-306 1988.5,-223 2089.5,-223 2089.5,-306\"/>\n",
       "<text text-anchor=\"middle\" x=\"2039\" y=\"-290.8\" font-family=\"Times,serif\" font-size=\"14.00\">Fare &lt;= 10.0</text>\n",
       "<text text-anchor=\"middle\" x=\"2039\" y=\"-275.8\" font-family=\"Times,serif\" font-size=\"14.00\">gini = 0.444</text>\n",
       "<text text-anchor=\"middle\" x=\"2039\" y=\"-260.8\" font-family=\"Times,serif\" font-size=\"14.00\">samples = 6</text>\n",
       "<text text-anchor=\"middle\" x=\"2039\" y=\"-245.8\" font-family=\"Times,serif\" font-size=\"14.00\">value = [4, 2]</text>\n",
       "<text text-anchor=\"middle\" x=\"2039\" y=\"-230.8\" font-family=\"Times,serif\" font-size=\"14.00\">class = 未生还</text>\n",
       "</g>\n",
       "<!-- 112&#45;&gt;114 -->\n",
       "<g id=\"edge114\" class=\"edge\"><title>112&#45;&gt;114</title>\n",
       "<path fill=\"none\" stroke=\"black\" d=\"M2000.47,-341.907C2004.82,-333.286 2009.45,-324.09 2013.95,-315.175\"/>\n",
       "<polygon fill=\"black\" stroke=\"black\" points=\"2017.19,-316.526 2018.57,-306.021 2010.94,-313.374 2017.19,-316.526\"/>\n",
       "</g>\n",
       "<!-- 115 -->\n",
       "<g id=\"node116\" class=\"node\"><title>115</title>\n",
       "<polygon fill=\"#9ccef2\" stroke=\"black\" points=\"2027,-187 1935,-187 1935,-104 2027,-104 2027,-187\"/>\n",
       "<text text-anchor=\"middle\" x=\"1981\" y=\"-171.8\" font-family=\"Times,serif\" font-size=\"14.00\">Age &lt;= 28.5</text>\n",
       "<text text-anchor=\"middle\" x=\"1981\" y=\"-156.8\" font-family=\"Times,serif\" font-size=\"14.00\">gini = 0.444</text>\n",
       "<text text-anchor=\"middle\" x=\"1981\" y=\"-141.8\" font-family=\"Times,serif\" font-size=\"14.00\">samples = 3</text>\n",
       "<text text-anchor=\"middle\" x=\"1981\" y=\"-126.8\" font-family=\"Times,serif\" font-size=\"14.00\">value = [1, 2]</text>\n",
       "<text text-anchor=\"middle\" x=\"1981\" y=\"-111.8\" font-family=\"Times,serif\" font-size=\"14.00\">class = 生还</text>\n",
       "</g>\n",
       "<!-- 114&#45;&gt;115 -->\n",
       "<g id=\"edge115\" class=\"edge\"><title>114&#45;&gt;115</title>\n",
       "<path fill=\"none\" stroke=\"black\" d=\"M2018.88,-222.907C2014.6,-214.286 2010.04,-205.09 2005.63,-196.175\"/>\n",
       "<polygon fill=\"black\" stroke=\"black\" points=\"2008.66,-194.426 2001.09,-187.021 2002.39,-197.535 2008.66,-194.426\"/>\n",
       "</g>\n",
       "<!-- 118 -->\n",
       "<g id=\"node119\" class=\"node\"><title>118</title>\n",
       "<polygon fill=\"#e58139\" stroke=\"black\" points=\"2146.5,-179.5 2045.5,-179.5 2045.5,-111.5 2146.5,-111.5 2146.5,-179.5\"/>\n",
       "<text text-anchor=\"middle\" x=\"2096\" y=\"-164.3\" font-family=\"Times,serif\" font-size=\"14.00\">gini = 0.0</text>\n",
       "<text text-anchor=\"middle\" x=\"2096\" y=\"-149.3\" font-family=\"Times,serif\" font-size=\"14.00\">samples = 3</text>\n",
       "<text text-anchor=\"middle\" x=\"2096\" y=\"-134.3\" font-family=\"Times,serif\" font-size=\"14.00\">value = [3, 0]</text>\n",
       "<text text-anchor=\"middle\" x=\"2096\" y=\"-119.3\" font-family=\"Times,serif\" font-size=\"14.00\">class = 未生还</text>\n",
       "</g>\n",
       "<!-- 114&#45;&gt;118 -->\n",
       "<g id=\"edge118\" class=\"edge\"><title>114&#45;&gt;118</title>\n",
       "<path fill=\"none\" stroke=\"black\" d=\"M2058.78,-222.907C2064.15,-211.873 2069.99,-199.898 2075.41,-188.773\"/>\n",
       "<polygon fill=\"black\" stroke=\"black\" points=\"2078.61,-190.19 2079.84,-179.667 2072.32,-187.124 2078.61,-190.19\"/>\n",
       "</g>\n",
       "<!-- 116 -->\n",
       "<g id=\"node117\" class=\"node\"><title>116</title>\n",
       "<polygon fill=\"#e58139\" stroke=\"black\" points=\"1973.5,-68 1872.5,-68 1872.5,-0 1973.5,-0 1973.5,-68\"/>\n",
       "<text text-anchor=\"middle\" x=\"1923\" y=\"-52.8\" font-family=\"Times,serif\" font-size=\"14.00\">gini = 0.0</text>\n",
       "<text text-anchor=\"middle\" x=\"1923\" y=\"-37.8\" font-family=\"Times,serif\" font-size=\"14.00\">samples = 1</text>\n",
       "<text text-anchor=\"middle\" x=\"1923\" y=\"-22.8\" font-family=\"Times,serif\" font-size=\"14.00\">value = [1, 0]</text>\n",
       "<text text-anchor=\"middle\" x=\"1923\" y=\"-7.8\" font-family=\"Times,serif\" font-size=\"14.00\">class = 未生还</text>\n",
       "</g>\n",
       "<!-- 115&#45;&gt;116 -->\n",
       "<g id=\"edge116\" class=\"edge\"><title>115&#45;&gt;116</title>\n",
       "<path fill=\"none\" stroke=\"black\" d=\"M1959.4,-103.726C1954.81,-95.0615 1949.96,-85.8962 1945.34,-77.1802\"/>\n",
       "<polygon fill=\"black\" stroke=\"black\" points=\"1948.41,-75.4982 1940.64,-68.2996 1942.23,-78.7748 1948.41,-75.4982\"/>\n",
       "</g>\n",
       "<!-- 117 -->\n",
       "<g id=\"node118\" class=\"node\"><title>117</title>\n",
       "<polygon fill=\"#399de5\" stroke=\"black\" points=\"2084,-68 1992,-68 1992,-0 2084,-0 2084,-68\"/>\n",
       "<text text-anchor=\"middle\" x=\"2038\" y=\"-52.8\" font-family=\"Times,serif\" font-size=\"14.00\">gini = 0.0</text>\n",
       "<text text-anchor=\"middle\" x=\"2038\" y=\"-37.8\" font-family=\"Times,serif\" font-size=\"14.00\">samples = 2</text>\n",
       "<text text-anchor=\"middle\" x=\"2038\" y=\"-22.8\" font-family=\"Times,serif\" font-size=\"14.00\">value = [0, 2]</text>\n",
       "<text text-anchor=\"middle\" x=\"2038\" y=\"-7.8\" font-family=\"Times,serif\" font-size=\"14.00\">class = 生还</text>\n",
       "</g>\n",
       "<!-- 115&#45;&gt;117 -->\n",
       "<g id=\"edge117\" class=\"edge\"><title>115&#45;&gt;117</title>\n",
       "<path fill=\"none\" stroke=\"black\" d=\"M2002.22,-103.726C2006.74,-95.0615 2011.51,-85.8962 2016.04,-77.1802\"/>\n",
       "<polygon fill=\"black\" stroke=\"black\" points=\"2019.15,-78.7859 2020.67,-68.2996 2012.94,-75.5537 2019.15,-78.7859\"/>\n",
       "</g>\n",
       "<!-- 122 -->\n",
       "<g id=\"node123\" class=\"node\"><title>122</title>\n",
       "<polygon fill=\"#f2c09c\" stroke=\"black\" points=\"1889.5,-1020 1788.5,-1020 1788.5,-937 1889.5,-937 1889.5,-1020\"/>\n",
       "<text text-anchor=\"middle\" x=\"1839\" y=\"-1004.8\" font-family=\"Times,serif\" font-size=\"14.00\">Fare &lt;= 7.562</text>\n",
       "<text text-anchor=\"middle\" x=\"1839\" y=\"-989.8\" font-family=\"Times,serif\" font-size=\"14.00\">gini = 0.444</text>\n",
       "<text text-anchor=\"middle\" x=\"1839\" y=\"-974.8\" font-family=\"Times,serif\" font-size=\"14.00\">samples = 12</text>\n",
       "<text text-anchor=\"middle\" x=\"1839\" y=\"-959.8\" font-family=\"Times,serif\" font-size=\"14.00\">value = [8, 4]</text>\n",
       "<text text-anchor=\"middle\" x=\"1839\" y=\"-944.8\" font-family=\"Times,serif\" font-size=\"14.00\">class = 未生还</text>\n",
       "</g>\n",
       "<!-- 121&#45;&gt;122 -->\n",
       "<g id=\"edge122\" class=\"edge\"><title>121&#45;&gt;122</title>\n",
       "<path fill=\"none\" stroke=\"black\" d=\"M1839,-1055.91C1839,-1047.65 1839,-1038.86 1839,-1030.3\"/>\n",
       "<polygon fill=\"black\" stroke=\"black\" points=\"1842.5,-1030.02 1839,-1020.02 1835.5,-1030.02 1842.5,-1030.02\"/>\n",
       "</g>\n",
       "<!-- 133 -->\n",
       "<g id=\"node134\" class=\"node\"><title>133</title>\n",
       "<polygon fill=\"#e58139\" stroke=\"black\" points=\"2008.5,-1012.5 1907.5,-1012.5 1907.5,-944.5 2008.5,-944.5 2008.5,-1012.5\"/>\n",
       "<text text-anchor=\"middle\" x=\"1958\" y=\"-997.3\" font-family=\"Times,serif\" font-size=\"14.00\">gini = 0.0</text>\n",
       "<text text-anchor=\"middle\" x=\"1958\" y=\"-982.3\" font-family=\"Times,serif\" font-size=\"14.00\">samples = 4</text>\n",
       "<text text-anchor=\"middle\" x=\"1958\" y=\"-967.3\" font-family=\"Times,serif\" font-size=\"14.00\">value = [4, 0]</text>\n",
       "<text text-anchor=\"middle\" x=\"1958\" y=\"-952.3\" font-family=\"Times,serif\" font-size=\"14.00\">class = 未生还</text>\n",
       "</g>\n",
       "<!-- 121&#45;&gt;133 -->\n",
       "<g id=\"edge133\" class=\"edge\"><title>121&#45;&gt;133</title>\n",
       "<path fill=\"none\" stroke=\"black\" d=\"M1880.29,-1055.91C1892.18,-1044.21 1905.15,-1031.46 1917.03,-1019.78\"/>\n",
       "<polygon fill=\"black\" stroke=\"black\" points=\"1919.59,-1022.17 1924.27,-1012.67 1914.68,-1017.18 1919.59,-1022.17\"/>\n",
       "</g>\n",
       "<!-- 123 -->\n",
       "<g id=\"node124\" class=\"node\"><title>123</title>\n",
       "<polygon fill=\"#ea9a61\" stroke=\"black\" points=\"1889.5,-901 1788.5,-901 1788.5,-818 1889.5,-818 1889.5,-901\"/>\n",
       "<text text-anchor=\"middle\" x=\"1839\" y=\"-885.8\" font-family=\"Times,serif\" font-size=\"14.00\">Age &lt;= 21.75</text>\n",
       "<text text-anchor=\"middle\" x=\"1839\" y=\"-870.8\" font-family=\"Times,serif\" font-size=\"14.00\">gini = 0.278</text>\n",
       "<text text-anchor=\"middle\" x=\"1839\" y=\"-855.8\" font-family=\"Times,serif\" font-size=\"14.00\">samples = 6</text>\n",
       "<text text-anchor=\"middle\" x=\"1839\" y=\"-840.8\" font-family=\"Times,serif\" font-size=\"14.00\">value = [5, 1]</text>\n",
       "<text text-anchor=\"middle\" x=\"1839\" y=\"-825.8\" font-family=\"Times,serif\" font-size=\"14.00\">class = 未生还</text>\n",
       "</g>\n",
       "<!-- 122&#45;&gt;123 -->\n",
       "<g id=\"edge123\" class=\"edge\"><title>122&#45;&gt;123</title>\n",
       "<path fill=\"none\" stroke=\"black\" d=\"M1839,-936.907C1839,-928.649 1839,-919.864 1839,-911.302\"/>\n",
       "<polygon fill=\"black\" stroke=\"black\" points=\"1842.5,-911.021 1839,-901.021 1835.5,-911.021 1842.5,-911.021\"/>\n",
       "</g>\n",
       "<!-- 128 -->\n",
       "<g id=\"node129\" class=\"node\"><title>128</title>\n",
       "<polygon fill=\"#ffffff\" stroke=\"black\" points=\"2011.5,-901 1910.5,-901 1910.5,-818 2011.5,-818 2011.5,-901\"/>\n",
       "<text text-anchor=\"middle\" x=\"1961\" y=\"-885.8\" font-family=\"Times,serif\" font-size=\"14.00\">SibSp &lt;= 0.5</text>\n",
       "<text text-anchor=\"middle\" x=\"1961\" y=\"-870.8\" font-family=\"Times,serif\" font-size=\"14.00\">gini = 0.5</text>\n",
       "<text text-anchor=\"middle\" x=\"1961\" y=\"-855.8\" font-family=\"Times,serif\" font-size=\"14.00\">samples = 6</text>\n",
       "<text text-anchor=\"middle\" x=\"1961\" y=\"-840.8\" font-family=\"Times,serif\" font-size=\"14.00\">value = [3, 3]</text>\n",
       "<text text-anchor=\"middle\" x=\"1961\" y=\"-825.8\" font-family=\"Times,serif\" font-size=\"14.00\">class = 未生还</text>\n",
       "</g>\n",
       "<!-- 122&#45;&gt;128 -->\n",
       "<g id=\"edge128\" class=\"edge\"><title>122&#45;&gt;128</title>\n",
       "<path fill=\"none\" stroke=\"black\" d=\"M1881.33,-936.907C1890.98,-927.651 1901.32,-917.732 1911.25,-908.209\"/>\n",
       "<polygon fill=\"black\" stroke=\"black\" points=\"1913.95,-910.469 1918.75,-901.021 1909.11,-905.416 1913.95,-910.469\"/>\n",
       "</g>\n",
       "<!-- 124 -->\n",
       "<g id=\"node125\" class=\"node\"><title>124</title>\n",
       "<polygon fill=\"#f2c09c\" stroke=\"black\" points=\"1790.5,-782 1689.5,-782 1689.5,-699 1790.5,-699 1790.5,-782\"/>\n",
       "<text text-anchor=\"middle\" x=\"1740\" y=\"-766.8\" font-family=\"Times,serif\" font-size=\"14.00\">Parch &lt;= 0.5</text>\n",
       "<text text-anchor=\"middle\" x=\"1740\" y=\"-751.8\" font-family=\"Times,serif\" font-size=\"14.00\">gini = 0.444</text>\n",
       "<text text-anchor=\"middle\" x=\"1740\" y=\"-736.8\" font-family=\"Times,serif\" font-size=\"14.00\">samples = 3</text>\n",
       "<text text-anchor=\"middle\" x=\"1740\" y=\"-721.8\" font-family=\"Times,serif\" font-size=\"14.00\">value = [2, 1]</text>\n",
       "<text text-anchor=\"middle\" x=\"1740\" y=\"-706.8\" font-family=\"Times,serif\" font-size=\"14.00\">class = 未生还</text>\n",
       "</g>\n",
       "<!-- 123&#45;&gt;124 -->\n",
       "<g id=\"edge124\" class=\"edge\"><title>123&#45;&gt;124</title>\n",
       "<path fill=\"none\" stroke=\"black\" d=\"M1804.65,-817.907C1796.97,-808.832 1788.76,-799.121 1780.84,-789.769\"/>\n",
       "<polygon fill=\"black\" stroke=\"black\" points=\"1783.42,-787.394 1774.29,-782.021 1778.07,-791.916 1783.42,-787.394\"/>\n",
       "</g>\n",
       "<!-- 127 -->\n",
       "<g id=\"node128\" class=\"node\"><title>127</title>\n",
       "<polygon fill=\"#e58139\" stroke=\"black\" points=\"1909.5,-774.5 1808.5,-774.5 1808.5,-706.5 1909.5,-706.5 1909.5,-774.5\"/>\n",
       "<text text-anchor=\"middle\" x=\"1859\" y=\"-759.3\" font-family=\"Times,serif\" font-size=\"14.00\">gini = 0.0</text>\n",
       "<text text-anchor=\"middle\" x=\"1859\" y=\"-744.3\" font-family=\"Times,serif\" font-size=\"14.00\">samples = 3</text>\n",
       "<text text-anchor=\"middle\" x=\"1859\" y=\"-729.3\" font-family=\"Times,serif\" font-size=\"14.00\">value = [3, 0]</text>\n",
       "<text text-anchor=\"middle\" x=\"1859\" y=\"-714.3\" font-family=\"Times,serif\" font-size=\"14.00\">class = 未生还</text>\n",
       "</g>\n",
       "<!-- 123&#45;&gt;127 -->\n",
       "<g id=\"edge127\" class=\"edge\"><title>123&#45;&gt;127</title>\n",
       "<path fill=\"none\" stroke=\"black\" d=\"M1845.94,-817.907C1847.77,-807.204 1849.75,-795.615 1851.6,-784.776\"/>\n",
       "<polygon fill=\"black\" stroke=\"black\" points=\"1855.1,-785.114 1853.33,-774.667 1848.2,-783.934 1855.1,-785.114\"/>\n",
       "</g>\n",
       "<!-- 125 -->\n",
       "<g id=\"node126\" class=\"node\"><title>125</title>\n",
       "<polygon fill=\"#399de5\" stroke=\"black\" points=\"1790,-655.5 1698,-655.5 1698,-587.5 1790,-587.5 1790,-655.5\"/>\n",
       "<text text-anchor=\"middle\" x=\"1744\" y=\"-640.3\" font-family=\"Times,serif\" font-size=\"14.00\">gini = 0.0</text>\n",
       "<text text-anchor=\"middle\" x=\"1744\" y=\"-625.3\" font-family=\"Times,serif\" font-size=\"14.00\">samples = 1</text>\n",
       "<text text-anchor=\"middle\" x=\"1744\" y=\"-610.3\" font-family=\"Times,serif\" font-size=\"14.00\">value = [0, 1]</text>\n",
       "<text text-anchor=\"middle\" x=\"1744\" y=\"-595.3\" font-family=\"Times,serif\" font-size=\"14.00\">class = 生还</text>\n",
       "</g>\n",
       "<!-- 124&#45;&gt;125 -->\n",
       "<g id=\"edge125\" class=\"edge\"><title>124&#45;&gt;125</title>\n",
       "<path fill=\"none\" stroke=\"black\" d=\"M1741.39,-698.907C1741.75,-688.204 1742.15,-676.615 1742.52,-665.776\"/>\n",
       "<polygon fill=\"black\" stroke=\"black\" points=\"1746.02,-665.781 1742.87,-655.667 1739.03,-665.541 1746.02,-665.781\"/>\n",
       "</g>\n",
       "<!-- 126 -->\n",
       "<g id=\"node127\" class=\"node\"><title>126</title>\n",
       "<polygon fill=\"#e58139\" stroke=\"black\" points=\"1909.5,-655.5 1808.5,-655.5 1808.5,-587.5 1909.5,-587.5 1909.5,-655.5\"/>\n",
       "<text text-anchor=\"middle\" x=\"1859\" y=\"-640.3\" font-family=\"Times,serif\" font-size=\"14.00\">gini = 0.0</text>\n",
       "<text text-anchor=\"middle\" x=\"1859\" y=\"-625.3\" font-family=\"Times,serif\" font-size=\"14.00\">samples = 2</text>\n",
       "<text text-anchor=\"middle\" x=\"1859\" y=\"-610.3\" font-family=\"Times,serif\" font-size=\"14.00\">value = [2, 0]</text>\n",
       "<text text-anchor=\"middle\" x=\"1859\" y=\"-595.3\" font-family=\"Times,serif\" font-size=\"14.00\">class = 未生还</text>\n",
       "</g>\n",
       "<!-- 124&#45;&gt;126 -->\n",
       "<g id=\"edge126\" class=\"edge\"><title>124&#45;&gt;126</title>\n",
       "<path fill=\"none\" stroke=\"black\" d=\"M1781.29,-698.907C1793.18,-687.211 1806.15,-674.457 1818.03,-662.78\"/>\n",
       "<polygon fill=\"black\" stroke=\"black\" points=\"1820.59,-665.174 1825.27,-655.667 1815.68,-660.182 1820.59,-665.174\"/>\n",
       "</g>\n",
       "<!-- 129 -->\n",
       "<g id=\"node130\" class=\"node\"><title>129</title>\n",
       "<polygon fill=\"#399de5\" stroke=\"black\" points=\"2020,-774.5 1928,-774.5 1928,-706.5 2020,-706.5 2020,-774.5\"/>\n",
       "<text text-anchor=\"middle\" x=\"1974\" y=\"-759.3\" font-family=\"Times,serif\" font-size=\"14.00\">gini = 0.0</text>\n",
       "<text text-anchor=\"middle\" x=\"1974\" y=\"-744.3\" font-family=\"Times,serif\" font-size=\"14.00\">samples = 2</text>\n",
       "<text text-anchor=\"middle\" x=\"1974\" y=\"-729.3\" font-family=\"Times,serif\" font-size=\"14.00\">value = [0, 2]</text>\n",
       "<text text-anchor=\"middle\" x=\"1974\" y=\"-714.3\" font-family=\"Times,serif\" font-size=\"14.00\">class = 生还</text>\n",
       "</g>\n",
       "<!-- 128&#45;&gt;129 -->\n",
       "<g id=\"edge129\" class=\"edge\"><title>128&#45;&gt;129</title>\n",
       "<path fill=\"none\" stroke=\"black\" d=\"M1965.51,-817.907C1966.7,-807.204 1967.99,-795.615 1969.19,-784.776\"/>\n",
       "<polygon fill=\"black\" stroke=\"black\" points=\"1972.69,-784.992 1970.31,-774.667 1965.73,-784.219 1972.69,-784.992\"/>\n",
       "</g>\n",
       "<!-- 130 -->\n",
       "<g id=\"node131\" class=\"node\"><title>130</title>\n",
       "<polygon fill=\"#eeab7b\" stroke=\"black\" points=\"2139.5,-782 2038.5,-782 2038.5,-699 2139.5,-699 2139.5,-782\"/>\n",
       "<text text-anchor=\"middle\" x=\"2089\" y=\"-766.8\" font-family=\"Times,serif\" font-size=\"14.00\">Age &lt;= 22.5</text>\n",
       "<text text-anchor=\"middle\" x=\"2089\" y=\"-751.8\" font-family=\"Times,serif\" font-size=\"14.00\">gini = 0.375</text>\n",
       "<text text-anchor=\"middle\" x=\"2089\" y=\"-736.8\" font-family=\"Times,serif\" font-size=\"14.00\">samples = 4</text>\n",
       "<text text-anchor=\"middle\" x=\"2089\" y=\"-721.8\" font-family=\"Times,serif\" font-size=\"14.00\">value = [3, 1]</text>\n",
       "<text text-anchor=\"middle\" x=\"2089\" y=\"-706.8\" font-family=\"Times,serif\" font-size=\"14.00\">class = 未生还</text>\n",
       "</g>\n",
       "<!-- 128&#45;&gt;130 -->\n",
       "<g id=\"edge130\" class=\"edge\"><title>128&#45;&gt;130</title>\n",
       "<path fill=\"none\" stroke=\"black\" d=\"M2005.41,-817.907C2015.64,-808.56 2026.6,-798.538 2037.11,-788.929\"/>\n",
       "<polygon fill=\"black\" stroke=\"black\" points=\"2039.65,-791.351 2044.67,-782.021 2034.93,-786.184 2039.65,-791.351\"/>\n",
       "</g>\n",
       "<!-- 131 -->\n",
       "<g id=\"node132\" class=\"node\"><title>131</title>\n",
       "<polygon fill=\"#399de5\" stroke=\"black\" points=\"2048,-655.5 1956,-655.5 1956,-587.5 2048,-587.5 2048,-655.5\"/>\n",
       "<text text-anchor=\"middle\" x=\"2002\" y=\"-640.3\" font-family=\"Times,serif\" font-size=\"14.00\">gini = 0.0</text>\n",
       "<text text-anchor=\"middle\" x=\"2002\" y=\"-625.3\" font-family=\"Times,serif\" font-size=\"14.00\">samples = 1</text>\n",
       "<text text-anchor=\"middle\" x=\"2002\" y=\"-610.3\" font-family=\"Times,serif\" font-size=\"14.00\">value = [0, 1]</text>\n",
       "<text text-anchor=\"middle\" x=\"2002\" y=\"-595.3\" font-family=\"Times,serif\" font-size=\"14.00\">class = 生还</text>\n",
       "</g>\n",
       "<!-- 130&#45;&gt;131 -->\n",
       "<g id=\"edge131\" class=\"edge\"><title>130&#45;&gt;131</title>\n",
       "<path fill=\"none\" stroke=\"black\" d=\"M2058.82,-698.907C2050.36,-687.542 2041.17,-675.178 2032.69,-663.774\"/>\n",
       "<polygon fill=\"black\" stroke=\"black\" points=\"2035.44,-661.603 2026.66,-655.667 2029.82,-665.78 2035.44,-661.603\"/>\n",
       "</g>\n",
       "<!-- 132 -->\n",
       "<g id=\"node133\" class=\"node\"><title>132</title>\n",
       "<polygon fill=\"#e58139\" stroke=\"black\" points=\"2167.5,-655.5 2066.5,-655.5 2066.5,-587.5 2167.5,-587.5 2167.5,-655.5\"/>\n",
       "<text text-anchor=\"middle\" x=\"2117\" y=\"-640.3\" font-family=\"Times,serif\" font-size=\"14.00\">gini = 0.0</text>\n",
       "<text text-anchor=\"middle\" x=\"2117\" y=\"-625.3\" font-family=\"Times,serif\" font-size=\"14.00\">samples = 3</text>\n",
       "<text text-anchor=\"middle\" x=\"2117\" y=\"-610.3\" font-family=\"Times,serif\" font-size=\"14.00\">value = [3, 0]</text>\n",
       "<text text-anchor=\"middle\" x=\"2117\" y=\"-595.3\" font-family=\"Times,serif\" font-size=\"14.00\">class = 未生还</text>\n",
       "</g>\n",
       "<!-- 130&#45;&gt;132 -->\n",
       "<g id=\"edge132\" class=\"edge\"><title>130&#45;&gt;132</title>\n",
       "<path fill=\"none\" stroke=\"black\" d=\"M2098.71,-698.907C2101.3,-688.094 2104.11,-676.376 2106.72,-665.441\"/>\n",
       "<polygon fill=\"black\" stroke=\"black\" points=\"2110.14,-666.207 2109.06,-655.667 2103.33,-664.578 2110.14,-666.207\"/>\n",
       "</g>\n",
       "<!-- 135 -->\n",
       "<g id=\"node136\" class=\"node\"><title>135</title>\n",
       "<polygon fill=\"#f2c09c\" stroke=\"black\" points=\"2073.5,-1258 1972.5,-1258 1972.5,-1175 2073.5,-1175 2073.5,-1258\"/>\n",
       "<text text-anchor=\"middle\" x=\"2023\" y=\"-1242.8\" font-family=\"Times,serif\" font-size=\"14.00\">Fare &lt;= 8.206</text>\n",
       "<text text-anchor=\"middle\" x=\"2023\" y=\"-1227.8\" font-family=\"Times,serif\" font-size=\"14.00\">gini = 0.444</text>\n",
       "<text text-anchor=\"middle\" x=\"2023\" y=\"-1212.8\" font-family=\"Times,serif\" font-size=\"14.00\">samples = 9</text>\n",
       "<text text-anchor=\"middle\" x=\"2023\" y=\"-1197.8\" font-family=\"Times,serif\" font-size=\"14.00\">value = [6, 3]</text>\n",
       "<text text-anchor=\"middle\" x=\"2023\" y=\"-1182.8\" font-family=\"Times,serif\" font-size=\"14.00\">class = 未生还</text>\n",
       "</g>\n",
       "<!-- 134&#45;&gt;135 -->\n",
       "<g id=\"edge135\" class=\"edge\"><title>134&#45;&gt;135</title>\n",
       "<path fill=\"none\" stroke=\"black\" d=\"M2023,-1293.91C2023,-1285.65 2023,-1276.86 2023,-1268.3\"/>\n",
       "<polygon fill=\"black\" stroke=\"black\" points=\"2026.5,-1268.02 2023,-1258.02 2019.5,-1268.02 2026.5,-1268.02\"/>\n",
       "</g>\n",
       "<!-- 146 -->\n",
       "<g id=\"node147\" class=\"node\"><title>146</title>\n",
       "<polygon fill=\"#7bbeee\" stroke=\"black\" points=\"2243,-1258 2141,-1258 2141,-1175 2243,-1175 2243,-1258\"/>\n",
       "<text text-anchor=\"middle\" x=\"2192\" y=\"-1242.8\" font-family=\"Times,serif\" font-size=\"14.00\">Fare &lt;= 64.998</text>\n",
       "<text text-anchor=\"middle\" x=\"2192\" y=\"-1227.8\" font-family=\"Times,serif\" font-size=\"14.00\">gini = 0.375</text>\n",
       "<text text-anchor=\"middle\" x=\"2192\" y=\"-1212.8\" font-family=\"Times,serif\" font-size=\"14.00\">samples = 4</text>\n",
       "<text text-anchor=\"middle\" x=\"2192\" y=\"-1197.8\" font-family=\"Times,serif\" font-size=\"14.00\">value = [1, 3]</text>\n",
       "<text text-anchor=\"middle\" x=\"2192\" y=\"-1182.8\" font-family=\"Times,serif\" font-size=\"14.00\">class = 生还</text>\n",
       "</g>\n",
       "<!-- 134&#45;&gt;146 -->\n",
       "<g id=\"edge146\" class=\"edge\"><title>134&#45;&gt;146</title>\n",
       "<path fill=\"none\" stroke=\"black\" d=\"M2074.16,-1299.08C2092.53,-1286.37 2113.39,-1271.92 2132.41,-1258.75\"/>\n",
       "<polygon fill=\"black\" stroke=\"black\" points=\"2134.49,-1261.57 2140.72,-1253 2130.5,-1255.82 2134.49,-1261.57\"/>\n",
       "</g>\n",
       "<!-- 136 -->\n",
       "<g id=\"node137\" class=\"node\"><title>136</title>\n",
       "<polygon fill=\"#f8e0ce\" stroke=\"black\" points=\"2008.5,-1139 1907.5,-1139 1907.5,-1056 2008.5,-1056 2008.5,-1139\"/>\n",
       "<text text-anchor=\"middle\" x=\"1958\" y=\"-1123.8\" font-family=\"Times,serif\" font-size=\"14.00\">Fare &lt;= 7.988</text>\n",
       "<text text-anchor=\"middle\" x=\"1958\" y=\"-1108.8\" font-family=\"Times,serif\" font-size=\"14.00\">gini = 0.49</text>\n",
       "<text text-anchor=\"middle\" x=\"1958\" y=\"-1093.8\" font-family=\"Times,serif\" font-size=\"14.00\">samples = 7</text>\n",
       "<text text-anchor=\"middle\" x=\"1958\" y=\"-1078.8\" font-family=\"Times,serif\" font-size=\"14.00\">value = [4, 3]</text>\n",
       "<text text-anchor=\"middle\" x=\"1958\" y=\"-1063.8\" font-family=\"Times,serif\" font-size=\"14.00\">class = 未生还</text>\n",
       "</g>\n",
       "<!-- 135&#45;&gt;136 -->\n",
       "<g id=\"edge136\" class=\"edge\"><title>135&#45;&gt;136</title>\n",
       "<path fill=\"none\" stroke=\"black\" d=\"M2000.45,-1174.91C1995.61,-1166.2 1990.44,-1156.9 1985.44,-1147.89\"/>\n",
       "<polygon fill=\"black\" stroke=\"black\" points=\"1988.43,-1146.06 1980.51,-1139.02 1982.31,-1149.46 1988.43,-1146.06\"/>\n",
       "</g>\n",
       "<!-- 145 -->\n",
       "<g id=\"node146\" class=\"node\"><title>145</title>\n",
       "<polygon fill=\"#e58139\" stroke=\"black\" points=\"2127.5,-1131.5 2026.5,-1131.5 2026.5,-1063.5 2127.5,-1063.5 2127.5,-1131.5\"/>\n",
       "<text text-anchor=\"middle\" x=\"2077\" y=\"-1116.3\" font-family=\"Times,serif\" font-size=\"14.00\">gini = 0.0</text>\n",
       "<text text-anchor=\"middle\" x=\"2077\" y=\"-1101.3\" font-family=\"Times,serif\" font-size=\"14.00\">samples = 2</text>\n",
       "<text text-anchor=\"middle\" x=\"2077\" y=\"-1086.3\" font-family=\"Times,serif\" font-size=\"14.00\">value = [2, 0]</text>\n",
       "<text text-anchor=\"middle\" x=\"2077\" y=\"-1071.3\" font-family=\"Times,serif\" font-size=\"14.00\">class = 未生还</text>\n",
       "</g>\n",
       "<!-- 135&#45;&gt;145 -->\n",
       "<g id=\"edge145\" class=\"edge\"><title>135&#45;&gt;145</title>\n",
       "<path fill=\"none\" stroke=\"black\" d=\"M2041.74,-1174.91C2046.83,-1163.87 2052.35,-1151.9 2057.49,-1140.77\"/>\n",
       "<polygon fill=\"black\" stroke=\"black\" points=\"2060.68,-1142.21 2061.69,-1131.67 2054.32,-1139.28 2060.68,-1142.21\"/>\n",
       "</g>\n",
       "<!-- 137 -->\n",
       "<g id=\"node138\" class=\"node\"><title>137</title>\n",
       "<polygon fill=\"#f2c09c\" stroke=\"black\" points=\"2127.5,-1020 2026.5,-1020 2026.5,-937 2127.5,-937 2127.5,-1020\"/>\n",
       "<text text-anchor=\"middle\" x=\"2077\" y=\"-1004.8\" font-family=\"Times,serif\" font-size=\"14.00\">Fare &lt;= 7.802</text>\n",
       "<text text-anchor=\"middle\" x=\"2077\" y=\"-989.8\" font-family=\"Times,serif\" font-size=\"14.00\">gini = 0.444</text>\n",
       "<text text-anchor=\"middle\" x=\"2077\" y=\"-974.8\" font-family=\"Times,serif\" font-size=\"14.00\">samples = 6</text>\n",
       "<text text-anchor=\"middle\" x=\"2077\" y=\"-959.8\" font-family=\"Times,serif\" font-size=\"14.00\">value = [4, 2]</text>\n",
       "<text text-anchor=\"middle\" x=\"2077\" y=\"-944.8\" font-family=\"Times,serif\" font-size=\"14.00\">class = 未生还</text>\n",
       "</g>\n",
       "<!-- 136&#45;&gt;137 -->\n",
       "<g id=\"edge137\" class=\"edge\"><title>136&#45;&gt;137</title>\n",
       "<path fill=\"none\" stroke=\"black\" d=\"M1999.29,-1055.91C2008.7,-1046.65 2018.79,-1036.73 2028.48,-1027.21\"/>\n",
       "<polygon fill=\"black\" stroke=\"black\" points=\"2031.11,-1029.53 2035.79,-1020.02 2026.2,-1024.54 2031.11,-1029.53\"/>\n",
       "</g>\n",
       "<!-- 144 -->\n",
       "<g id=\"node145\" class=\"node\"><title>144</title>\n",
       "<polygon fill=\"#399de5\" stroke=\"black\" points=\"2238,-1012.5 2146,-1012.5 2146,-944.5 2238,-944.5 2238,-1012.5\"/>\n",
       "<text text-anchor=\"middle\" x=\"2192\" y=\"-997.3\" font-family=\"Times,serif\" font-size=\"14.00\">gini = 0.0</text>\n",
       "<text text-anchor=\"middle\" x=\"2192\" y=\"-982.3\" font-family=\"Times,serif\" font-size=\"14.00\">samples = 1</text>\n",
       "<text text-anchor=\"middle\" x=\"2192\" y=\"-967.3\" font-family=\"Times,serif\" font-size=\"14.00\">value = [0, 1]</text>\n",
       "<text text-anchor=\"middle\" x=\"2192\" y=\"-952.3\" font-family=\"Times,serif\" font-size=\"14.00\">class = 生还</text>\n",
       "</g>\n",
       "<!-- 136&#45;&gt;144 -->\n",
       "<g id=\"edge144\" class=\"edge\"><title>136&#45;&gt;144</title>\n",
       "<path fill=\"none\" stroke=\"black\" d=\"M2008.58,-1060.37C2011.38,-1058.81 2014.2,-1057.34 2017,-1056 2066.81,-1032.08 2086.49,-1044.53 2136,-1020 2137.38,-1019.32 2138.76,-1018.6 2140.14,-1017.86\"/>\n",
       "<polygon fill=\"black\" stroke=\"black\" points=\"2142.3,-1020.65 2149.18,-1012.6 2138.77,-1014.6 2142.3,-1020.65\"/>\n",
       "</g>\n",
       "<!-- 138 -->\n",
       "<g id=\"node139\" class=\"node\"><title>138</title>\n",
       "<polygon fill=\"#e58139\" stroke=\"black\" points=\"2130.5,-893.5 2029.5,-893.5 2029.5,-825.5 2130.5,-825.5 2130.5,-893.5\"/>\n",
       "<text text-anchor=\"middle\" x=\"2080\" y=\"-878.3\" font-family=\"Times,serif\" font-size=\"14.00\">gini = 0.0</text>\n",
       "<text text-anchor=\"middle\" x=\"2080\" y=\"-863.3\" font-family=\"Times,serif\" font-size=\"14.00\">samples = 1</text>\n",
       "<text text-anchor=\"middle\" x=\"2080\" y=\"-848.3\" font-family=\"Times,serif\" font-size=\"14.00\">value = [1, 0]</text>\n",
       "<text text-anchor=\"middle\" x=\"2080\" y=\"-833.3\" font-family=\"Times,serif\" font-size=\"14.00\">class = 未生还</text>\n",
       "</g>\n",
       "<!-- 137&#45;&gt;138 -->\n",
       "<g id=\"edge138\" class=\"edge\"><title>137&#45;&gt;138</title>\n",
       "<path fill=\"none\" stroke=\"black\" d=\"M2078.04,-936.907C2078.32,-926.204 2078.61,-914.615 2078.89,-903.776\"/>\n",
       "<polygon fill=\"black\" stroke=\"black\" points=\"2082.39,-903.753 2079.15,-893.667 2075.39,-903.574 2082.39,-903.753\"/>\n",
       "</g>\n",
       "<!-- 139 -->\n",
       "<g id=\"node140\" class=\"node\"><title>139</title>\n",
       "<polygon fill=\"#f6d5bd\" stroke=\"black\" points=\"2254.5,-901 2153.5,-901 2153.5,-818 2254.5,-818 2254.5,-901\"/>\n",
       "<text text-anchor=\"middle\" x=\"2204\" y=\"-885.8\" font-family=\"Times,serif\" font-size=\"14.00\">Fare &lt;= 7.875</text>\n",
       "<text text-anchor=\"middle\" x=\"2204\" y=\"-870.8\" font-family=\"Times,serif\" font-size=\"14.00\">gini = 0.48</text>\n",
       "<text text-anchor=\"middle\" x=\"2204\" y=\"-855.8\" font-family=\"Times,serif\" font-size=\"14.00\">samples = 5</text>\n",
       "<text text-anchor=\"middle\" x=\"2204\" y=\"-840.8\" font-family=\"Times,serif\" font-size=\"14.00\">value = [3, 2]</text>\n",
       "<text text-anchor=\"middle\" x=\"2204\" y=\"-825.8\" font-family=\"Times,serif\" font-size=\"14.00\">class = 未生还</text>\n",
       "</g>\n",
       "<!-- 137&#45;&gt;139 -->\n",
       "<g id=\"edge139\" class=\"edge\"><title>137&#45;&gt;139</title>\n",
       "<path fill=\"none\" stroke=\"black\" d=\"M2121.06,-936.907C2131.21,-927.56 2142.09,-917.538 2152.52,-907.929\"/>\n",
       "<polygon fill=\"black\" stroke=\"black\" points=\"2155.03,-910.371 2160.02,-901.021 2150.29,-905.222 2155.03,-910.371\"/>\n",
       "</g>\n",
       "<!-- 140 -->\n",
       "<g id=\"node141\" class=\"node\"><title>140</title>\n",
       "<polygon fill=\"#399de5\" stroke=\"black\" points=\"2250,-774.5 2158,-774.5 2158,-706.5 2250,-706.5 2250,-774.5\"/>\n",
       "<text text-anchor=\"middle\" x=\"2204\" y=\"-759.3\" font-family=\"Times,serif\" font-size=\"14.00\">gini = 0.0</text>\n",
       "<text text-anchor=\"middle\" x=\"2204\" y=\"-744.3\" font-family=\"Times,serif\" font-size=\"14.00\">samples = 1</text>\n",
       "<text text-anchor=\"middle\" x=\"2204\" y=\"-729.3\" font-family=\"Times,serif\" font-size=\"14.00\">value = [0, 1]</text>\n",
       "<text text-anchor=\"middle\" x=\"2204\" y=\"-714.3\" font-family=\"Times,serif\" font-size=\"14.00\">class = 生还</text>\n",
       "</g>\n",
       "<!-- 139&#45;&gt;140 -->\n",
       "<g id=\"edge140\" class=\"edge\"><title>139&#45;&gt;140</title>\n",
       "<path fill=\"none\" stroke=\"black\" d=\"M2204,-817.907C2204,-807.204 2204,-795.615 2204,-784.776\"/>\n",
       "<polygon fill=\"black\" stroke=\"black\" points=\"2207.5,-784.667 2204,-774.667 2200.5,-784.667 2207.5,-784.667\"/>\n",
       "</g>\n",
       "<!-- 141 -->\n",
       "<g id=\"node142\" class=\"node\"><title>141</title>\n",
       "<polygon fill=\"#eeab7b\" stroke=\"black\" points=\"2369.5,-782 2268.5,-782 2268.5,-699 2369.5,-699 2369.5,-782\"/>\n",
       "<text text-anchor=\"middle\" x=\"2319\" y=\"-766.8\" font-family=\"Times,serif\" font-size=\"14.00\">Fare &lt;= 7.91</text>\n",
       "<text text-anchor=\"middle\" x=\"2319\" y=\"-751.8\" font-family=\"Times,serif\" font-size=\"14.00\">gini = 0.375</text>\n",
       "<text text-anchor=\"middle\" x=\"2319\" y=\"-736.8\" font-family=\"Times,serif\" font-size=\"14.00\">samples = 4</text>\n",
       "<text text-anchor=\"middle\" x=\"2319\" y=\"-721.8\" font-family=\"Times,serif\" font-size=\"14.00\">value = [3, 1]</text>\n",
       "<text text-anchor=\"middle\" x=\"2319\" y=\"-706.8\" font-family=\"Times,serif\" font-size=\"14.00\">class = 未生还</text>\n",
       "</g>\n",
       "<!-- 139&#45;&gt;141 -->\n",
       "<g id=\"edge141\" class=\"edge\"><title>139&#45;&gt;141</title>\n",
       "<path fill=\"none\" stroke=\"black\" d=\"M2243.9,-817.907C2253,-808.651 2262.75,-798.732 2272.11,-789.209\"/>\n",
       "<polygon fill=\"black\" stroke=\"black\" points=\"2274.66,-791.606 2279.17,-782.021 2269.67,-786.699 2274.66,-791.606\"/>\n",
       "</g>\n",
       "<!-- 142 -->\n",
       "<g id=\"node143\" class=\"node\"><title>142</title>\n",
       "<polygon fill=\"#e58139\" stroke=\"black\" points=\"2341.5,-655.5 2240.5,-655.5 2240.5,-587.5 2341.5,-587.5 2341.5,-655.5\"/>\n",
       "<text text-anchor=\"middle\" x=\"2291\" y=\"-640.3\" font-family=\"Times,serif\" font-size=\"14.00\">gini = 0.0</text>\n",
       "<text text-anchor=\"middle\" x=\"2291\" y=\"-625.3\" font-family=\"Times,serif\" font-size=\"14.00\">samples = 1</text>\n",
       "<text text-anchor=\"middle\" x=\"2291\" y=\"-610.3\" font-family=\"Times,serif\" font-size=\"14.00\">value = [1, 0]</text>\n",
       "<text text-anchor=\"middle\" x=\"2291\" y=\"-595.3\" font-family=\"Times,serif\" font-size=\"14.00\">class = 未生还</text>\n",
       "</g>\n",
       "<!-- 141&#45;&gt;142 -->\n",
       "<g id=\"edge142\" class=\"edge\"><title>141&#45;&gt;142</title>\n",
       "<path fill=\"none\" stroke=\"black\" d=\"M2309.29,-698.907C2306.7,-688.094 2303.89,-676.376 2301.28,-665.441\"/>\n",
       "<polygon fill=\"black\" stroke=\"black\" points=\"2304.67,-664.578 2298.94,-655.667 2297.86,-666.207 2304.67,-664.578\"/>\n",
       "</g>\n",
       "<!-- 143 -->\n",
       "<g id=\"node144\" class=\"node\"><title>143</title>\n",
       "<polygon fill=\"#f2c09c\" stroke=\"black\" points=\"2460.5,-655.5 2359.5,-655.5 2359.5,-587.5 2460.5,-587.5 2460.5,-655.5\"/>\n",
       "<text text-anchor=\"middle\" x=\"2410\" y=\"-640.3\" font-family=\"Times,serif\" font-size=\"14.00\">gini = 0.444</text>\n",
       "<text text-anchor=\"middle\" x=\"2410\" y=\"-625.3\" font-family=\"Times,serif\" font-size=\"14.00\">samples = 3</text>\n",
       "<text text-anchor=\"middle\" x=\"2410\" y=\"-610.3\" font-family=\"Times,serif\" font-size=\"14.00\">value = [2, 1]</text>\n",
       "<text text-anchor=\"middle\" x=\"2410\" y=\"-595.3\" font-family=\"Times,serif\" font-size=\"14.00\">class = 未生还</text>\n",
       "</g>\n",
       "<!-- 141&#45;&gt;143 -->\n",
       "<g id=\"edge143\" class=\"edge\"><title>141&#45;&gt;143</title>\n",
       "<path fill=\"none\" stroke=\"black\" d=\"M2350.57,-698.907C2359.41,-687.542 2369.03,-675.178 2377.9,-663.774\"/>\n",
       "<polygon fill=\"black\" stroke=\"black\" points=\"2380.83,-665.709 2384.2,-655.667 2375.3,-661.412 2380.83,-665.709\"/>\n",
       "</g>\n",
       "<!-- 147 -->\n",
       "<g id=\"node148\" class=\"node\"><title>147</title>\n",
       "<polygon fill=\"#399de5\" stroke=\"black\" points=\"2238,-1131.5 2146,-1131.5 2146,-1063.5 2238,-1063.5 2238,-1131.5\"/>\n",
       "<text text-anchor=\"middle\" x=\"2192\" y=\"-1116.3\" font-family=\"Times,serif\" font-size=\"14.00\">gini = 0.0</text>\n",
       "<text text-anchor=\"middle\" x=\"2192\" y=\"-1101.3\" font-family=\"Times,serif\" font-size=\"14.00\">samples = 3</text>\n",
       "<text text-anchor=\"middle\" x=\"2192\" y=\"-1086.3\" font-family=\"Times,serif\" font-size=\"14.00\">value = [0, 3]</text>\n",
       "<text text-anchor=\"middle\" x=\"2192\" y=\"-1071.3\" font-family=\"Times,serif\" font-size=\"14.00\">class = 生还</text>\n",
       "</g>\n",
       "<!-- 146&#45;&gt;147 -->\n",
       "<g id=\"edge147\" class=\"edge\"><title>146&#45;&gt;147</title>\n",
       "<path fill=\"none\" stroke=\"black\" d=\"M2192,-1174.91C2192,-1164.2 2192,-1152.62 2192,-1141.78\"/>\n",
       "<polygon fill=\"black\" stroke=\"black\" points=\"2195.5,-1141.67 2192,-1131.67 2188.5,-1141.67 2195.5,-1141.67\"/>\n",
       "</g>\n",
       "<!-- 148 -->\n",
       "<g id=\"node149\" class=\"node\"><title>148</title>\n",
       "<polygon fill=\"#e58139\" stroke=\"black\" points=\"2357.5,-1131.5 2256.5,-1131.5 2256.5,-1063.5 2357.5,-1063.5 2357.5,-1131.5\"/>\n",
       "<text text-anchor=\"middle\" x=\"2307\" y=\"-1116.3\" font-family=\"Times,serif\" font-size=\"14.00\">gini = 0.0</text>\n",
       "<text text-anchor=\"middle\" x=\"2307\" y=\"-1101.3\" font-family=\"Times,serif\" font-size=\"14.00\">samples = 1</text>\n",
       "<text text-anchor=\"middle\" x=\"2307\" y=\"-1086.3\" font-family=\"Times,serif\" font-size=\"14.00\">value = [1, 0]</text>\n",
       "<text text-anchor=\"middle\" x=\"2307\" y=\"-1071.3\" font-family=\"Times,serif\" font-size=\"14.00\">class = 未生还</text>\n",
       "</g>\n",
       "<!-- 146&#45;&gt;148 -->\n",
       "<g id=\"edge148\" class=\"edge\"><title>146&#45;&gt;148</title>\n",
       "<path fill=\"none\" stroke=\"black\" d=\"M2231.9,-1174.91C2243.29,-1163.32 2255.69,-1150.7 2267.08,-1139.11\"/>\n",
       "<polygon fill=\"black\" stroke=\"black\" points=\"2269.89,-1141.25 2274.4,-1131.67 2264.89,-1136.35 2269.89,-1141.25\"/>\n",
       "</g>\n",
       "<!-- 150 -->\n",
       "<g id=\"node151\" class=\"node\"><title>150</title>\n",
       "<polygon fill=\"#e58139\" stroke=\"black\" points=\"2306.5,-1369.5 2205.5,-1369.5 2205.5,-1301.5 2306.5,-1301.5 2306.5,-1369.5\"/>\n",
       "<text text-anchor=\"middle\" x=\"2256\" y=\"-1354.3\" font-family=\"Times,serif\" font-size=\"14.00\">gini = 0.0</text>\n",
       "<text text-anchor=\"middle\" x=\"2256\" y=\"-1339.3\" font-family=\"Times,serif\" font-size=\"14.00\">samples = 29</text>\n",
       "<text text-anchor=\"middle\" x=\"2256\" y=\"-1324.3\" font-family=\"Times,serif\" font-size=\"14.00\">value = [29, 0]</text>\n",
       "<text text-anchor=\"middle\" x=\"2256\" y=\"-1309.3\" font-family=\"Times,serif\" font-size=\"14.00\">class = 未生还</text>\n",
       "</g>\n",
       "<!-- 149&#45;&gt;150 -->\n",
       "<g id=\"edge150\" class=\"edge\"><title>149&#45;&gt;150</title>\n",
       "<path fill=\"none\" stroke=\"black\" d=\"M2256,-1412.91C2256,-1402.2 2256,-1390.62 2256,-1379.78\"/>\n",
       "<polygon fill=\"black\" stroke=\"black\" points=\"2259.5,-1379.67 2256,-1369.67 2252.5,-1379.67 2259.5,-1379.67\"/>\n",
       "</g>\n",
       "<!-- 151 -->\n",
       "<g id=\"node152\" class=\"node\"><title>151</title>\n",
       "<polygon fill=\"#e78845\" stroke=\"black\" points=\"2532.5,-1377 2431.5,-1377 2431.5,-1294 2532.5,-1294 2532.5,-1377\"/>\n",
       "<text text-anchor=\"middle\" x=\"2482\" y=\"-1361.8\" font-family=\"Times,serif\" font-size=\"14.00\">Fare &lt;= 7.988</text>\n",
       "<text text-anchor=\"middle\" x=\"2482\" y=\"-1346.8\" font-family=\"Times,serif\" font-size=\"14.00\">gini = 0.105</text>\n",
       "<text text-anchor=\"middle\" x=\"2482\" y=\"-1331.8\" font-family=\"Times,serif\" font-size=\"14.00\">samples = 54</text>\n",
       "<text text-anchor=\"middle\" x=\"2482\" y=\"-1316.8\" font-family=\"Times,serif\" font-size=\"14.00\">value = [51, 3]</text>\n",
       "<text text-anchor=\"middle\" x=\"2482\" y=\"-1301.8\" font-family=\"Times,serif\" font-size=\"14.00\">class = 未生还</text>\n",
       "</g>\n",
       "<!-- 149&#45;&gt;151 -->\n",
       "<g id=\"edge151\" class=\"edge\"><title>149&#45;&gt;151</title>\n",
       "<path fill=\"none\" stroke=\"black\" d=\"M2306.72,-1427.24C2341.03,-1409.48 2386.49,-1385.95 2422.51,-1367.3\"/>\n",
       "<polygon fill=\"black\" stroke=\"black\" points=\"2424.18,-1370.38 2431.45,-1362.67 2420.96,-1364.16 2424.18,-1370.38\"/>\n",
       "</g>\n",
       "<!-- 152 -->\n",
       "<g id=\"node153\" class=\"node\"><title>152</title>\n",
       "<polygon fill=\"#ffffff\" stroke=\"black\" points=\"2532.5,-1258 2431.5,-1258 2431.5,-1175 2532.5,-1175 2532.5,-1258\"/>\n",
       "<text text-anchor=\"middle\" x=\"2482\" y=\"-1242.8\" font-family=\"Times,serif\" font-size=\"14.00\">Age &lt;= 38.0</text>\n",
       "<text text-anchor=\"middle\" x=\"2482\" y=\"-1227.8\" font-family=\"Times,serif\" font-size=\"14.00\">gini = 0.5</text>\n",
       "<text text-anchor=\"middle\" x=\"2482\" y=\"-1212.8\" font-family=\"Times,serif\" font-size=\"14.00\">samples = 4</text>\n",
       "<text text-anchor=\"middle\" x=\"2482\" y=\"-1197.8\" font-family=\"Times,serif\" font-size=\"14.00\">value = [2, 2]</text>\n",
       "<text text-anchor=\"middle\" x=\"2482\" y=\"-1182.8\" font-family=\"Times,serif\" font-size=\"14.00\">class = 未生还</text>\n",
       "</g>\n",
       "<!-- 151&#45;&gt;152 -->\n",
       "<g id=\"edge152\" class=\"edge\"><title>151&#45;&gt;152</title>\n",
       "<path fill=\"none\" stroke=\"black\" d=\"M2482,-1293.91C2482,-1285.65 2482,-1276.86 2482,-1268.3\"/>\n",
       "<polygon fill=\"black\" stroke=\"black\" points=\"2485.5,-1268.02 2482,-1258.02 2478.5,-1268.02 2485.5,-1268.02\"/>\n",
       "</g>\n",
       "<!-- 157 -->\n",
       "<g id=\"node158\" class=\"node\"><title>157</title>\n",
       "<polygon fill=\"#e6843d\" stroke=\"black\" points=\"2706.5,-1258 2605.5,-1258 2605.5,-1175 2706.5,-1175 2706.5,-1258\"/>\n",
       "<text text-anchor=\"middle\" x=\"2656\" y=\"-1242.8\" font-family=\"Times,serif\" font-size=\"14.00\">Age &lt;= 34.5</text>\n",
       "<text text-anchor=\"middle\" x=\"2656\" y=\"-1227.8\" font-family=\"Times,serif\" font-size=\"14.00\">gini = 0.039</text>\n",
       "<text text-anchor=\"middle\" x=\"2656\" y=\"-1212.8\" font-family=\"Times,serif\" font-size=\"14.00\">samples = 50</text>\n",
       "<text text-anchor=\"middle\" x=\"2656\" y=\"-1197.8\" font-family=\"Times,serif\" font-size=\"14.00\">value = [49, 1]</text>\n",
       "<text text-anchor=\"middle\" x=\"2656\" y=\"-1182.8\" font-family=\"Times,serif\" font-size=\"14.00\">class = 未生还</text>\n",
       "</g>\n",
       "<!-- 151&#45;&gt;157 -->\n",
       "<g id=\"edge157\" class=\"edge\"><title>151&#45;&gt;157</title>\n",
       "<path fill=\"none\" stroke=\"black\" d=\"M2532.8,-1300.34C2552.9,-1286.83 2576.14,-1271.2 2596.98,-1257.19\"/>\n",
       "<polygon fill=\"black\" stroke=\"black\" points=\"2599.1,-1259.98 2605.44,-1251.5 2595.19,-1254.17 2599.1,-1259.98\"/>\n",
       "</g>\n",
       "<!-- 153 -->\n",
       "<g id=\"node154\" class=\"node\"><title>153</title>\n",
       "<polygon fill=\"#e58139\" stroke=\"black\" points=\"2476.5,-1131.5 2375.5,-1131.5 2375.5,-1063.5 2476.5,-1063.5 2476.5,-1131.5\"/>\n",
       "<text text-anchor=\"middle\" x=\"2426\" y=\"-1116.3\" font-family=\"Times,serif\" font-size=\"14.00\">gini = 0.0</text>\n",
       "<text text-anchor=\"middle\" x=\"2426\" y=\"-1101.3\" font-family=\"Times,serif\" font-size=\"14.00\">samples = 1</text>\n",
       "<text text-anchor=\"middle\" x=\"2426\" y=\"-1086.3\" font-family=\"Times,serif\" font-size=\"14.00\">value = [1, 0]</text>\n",
       "<text text-anchor=\"middle\" x=\"2426\" y=\"-1071.3\" font-family=\"Times,serif\" font-size=\"14.00\">class = 未生还</text>\n",
       "</g>\n",
       "<!-- 152&#45;&gt;153 -->\n",
       "<g id=\"edge153\" class=\"edge\"><title>152&#45;&gt;153</title>\n",
       "<path fill=\"none\" stroke=\"black\" d=\"M2462.57,-1174.91C2457.29,-1163.87 2451.56,-1151.9 2446.23,-1140.77\"/>\n",
       "<polygon fill=\"black\" stroke=\"black\" points=\"2449.35,-1139.18 2441.87,-1131.67 2443.04,-1142.2 2449.35,-1139.18\"/>\n",
       "</g>\n",
       "<!-- 154 -->\n",
       "<g id=\"node155\" class=\"node\"><title>154</title>\n",
       "<polygon fill=\"#9ccef2\" stroke=\"black\" points=\"2587,-1139 2495,-1139 2495,-1056 2587,-1056 2587,-1139\"/>\n",
       "<text text-anchor=\"middle\" x=\"2541\" y=\"-1123.8\" font-family=\"Times,serif\" font-size=\"14.00\">Age &lt;= 41.5</text>\n",
       "<text text-anchor=\"middle\" x=\"2541\" y=\"-1108.8\" font-family=\"Times,serif\" font-size=\"14.00\">gini = 0.444</text>\n",
       "<text text-anchor=\"middle\" x=\"2541\" y=\"-1093.8\" font-family=\"Times,serif\" font-size=\"14.00\">samples = 3</text>\n",
       "<text text-anchor=\"middle\" x=\"2541\" y=\"-1078.8\" font-family=\"Times,serif\" font-size=\"14.00\">value = [1, 2]</text>\n",
       "<text text-anchor=\"middle\" x=\"2541\" y=\"-1063.8\" font-family=\"Times,serif\" font-size=\"14.00\">class = 生还</text>\n",
       "</g>\n",
       "<!-- 152&#45;&gt;154 -->\n",
       "<g id=\"edge154\" class=\"edge\"><title>152&#45;&gt;154</title>\n",
       "<path fill=\"none\" stroke=\"black\" d=\"M2502.47,-1174.91C2506.82,-1166.29 2511.45,-1157.09 2515.95,-1148.17\"/>\n",
       "<polygon fill=\"black\" stroke=\"black\" points=\"2519.19,-1149.53 2520.57,-1139.02 2512.94,-1146.37 2519.19,-1149.53\"/>\n",
       "</g>\n",
       "<!-- 155 -->\n",
       "<g id=\"node156\" class=\"node\"><title>155</title>\n",
       "<polygon fill=\"#ffffff\" stroke=\"black\" points=\"2476.5,-1012.5 2375.5,-1012.5 2375.5,-944.5 2476.5,-944.5 2476.5,-1012.5\"/>\n",
       "<text text-anchor=\"middle\" x=\"2426\" y=\"-997.3\" font-family=\"Times,serif\" font-size=\"14.00\">gini = 0.5</text>\n",
       "<text text-anchor=\"middle\" x=\"2426\" y=\"-982.3\" font-family=\"Times,serif\" font-size=\"14.00\">samples = 2</text>\n",
       "<text text-anchor=\"middle\" x=\"2426\" y=\"-967.3\" font-family=\"Times,serif\" font-size=\"14.00\">value = [1, 1]</text>\n",
       "<text text-anchor=\"middle\" x=\"2426\" y=\"-952.3\" font-family=\"Times,serif\" font-size=\"14.00\">class = 未生还</text>\n",
       "</g>\n",
       "<!-- 154&#45;&gt;155 -->\n",
       "<g id=\"edge155\" class=\"edge\"><title>154&#45;&gt;155</title>\n",
       "<path fill=\"none\" stroke=\"black\" d=\"M2501.1,-1055.91C2489.71,-1044.32 2477.31,-1031.7 2465.92,-1020.11\"/>\n",
       "<polygon fill=\"black\" stroke=\"black\" points=\"2468.11,-1017.35 2458.6,-1012.67 2463.11,-1022.25 2468.11,-1017.35\"/>\n",
       "</g>\n",
       "<!-- 156 -->\n",
       "<g id=\"node157\" class=\"node\"><title>156</title>\n",
       "<polygon fill=\"#399de5\" stroke=\"black\" points=\"2587,-1012.5 2495,-1012.5 2495,-944.5 2587,-944.5 2587,-1012.5\"/>\n",
       "<text text-anchor=\"middle\" x=\"2541\" y=\"-997.3\" font-family=\"Times,serif\" font-size=\"14.00\">gini = 0.0</text>\n",
       "<text text-anchor=\"middle\" x=\"2541\" y=\"-982.3\" font-family=\"Times,serif\" font-size=\"14.00\">samples = 1</text>\n",
       "<text text-anchor=\"middle\" x=\"2541\" y=\"-967.3\" font-family=\"Times,serif\" font-size=\"14.00\">value = [0, 1]</text>\n",
       "<text text-anchor=\"middle\" x=\"2541\" y=\"-952.3\" font-family=\"Times,serif\" font-size=\"14.00\">class = 生还</text>\n",
       "</g>\n",
       "<!-- 154&#45;&gt;156 -->\n",
       "<g id=\"edge156\" class=\"edge\"><title>154&#45;&gt;156</title>\n",
       "<path fill=\"none\" stroke=\"black\" d=\"M2541,-1055.91C2541,-1045.2 2541,-1033.62 2541,-1022.78\"/>\n",
       "<polygon fill=\"black\" stroke=\"black\" points=\"2544.5,-1022.67 2541,-1012.67 2537.5,-1022.67 2544.5,-1022.67\"/>\n",
       "</g>\n",
       "<!-- 158 -->\n",
       "<g id=\"node159\" class=\"node\"><title>158</title>\n",
       "<polygon fill=\"#e78c49\" stroke=\"black\" points=\"2706.5,-1139 2605.5,-1139 2605.5,-1056 2706.5,-1056 2706.5,-1139\"/>\n",
       "<text text-anchor=\"middle\" x=\"2656\" y=\"-1123.8\" font-family=\"Times,serif\" font-size=\"14.00\">Pclass &lt;= 2.5</text>\n",
       "<text text-anchor=\"middle\" x=\"2656\" y=\"-1108.8\" font-family=\"Times,serif\" font-size=\"14.00\">gini = 0.142</text>\n",
       "<text text-anchor=\"middle\" x=\"2656\" y=\"-1093.8\" font-family=\"Times,serif\" font-size=\"14.00\">samples = 13</text>\n",
       "<text text-anchor=\"middle\" x=\"2656\" y=\"-1078.8\" font-family=\"Times,serif\" font-size=\"14.00\">value = [12, 1]</text>\n",
       "<text text-anchor=\"middle\" x=\"2656\" y=\"-1063.8\" font-family=\"Times,serif\" font-size=\"14.00\">class = 未生还</text>\n",
       "</g>\n",
       "<!-- 157&#45;&gt;158 -->\n",
       "<g id=\"edge158\" class=\"edge\"><title>157&#45;&gt;158</title>\n",
       "<path fill=\"none\" stroke=\"black\" d=\"M2656,-1174.91C2656,-1166.65 2656,-1157.86 2656,-1149.3\"/>\n",
       "<polygon fill=\"black\" stroke=\"black\" points=\"2659.5,-1149.02 2656,-1139.02 2652.5,-1149.02 2659.5,-1149.02\"/>\n",
       "</g>\n",
       "<!-- 165 -->\n",
       "<g id=\"node166\" class=\"node\"><title>165</title>\n",
       "<polygon fill=\"#e58139\" stroke=\"black\" points=\"2825.5,-1131.5 2724.5,-1131.5 2724.5,-1063.5 2825.5,-1063.5 2825.5,-1131.5\"/>\n",
       "<text text-anchor=\"middle\" x=\"2775\" y=\"-1116.3\" font-family=\"Times,serif\" font-size=\"14.00\">gini = 0.0</text>\n",
       "<text text-anchor=\"middle\" x=\"2775\" y=\"-1101.3\" font-family=\"Times,serif\" font-size=\"14.00\">samples = 37</text>\n",
       "<text text-anchor=\"middle\" x=\"2775\" y=\"-1086.3\" font-family=\"Times,serif\" font-size=\"14.00\">value = [37, 0]</text>\n",
       "<text text-anchor=\"middle\" x=\"2775\" y=\"-1071.3\" font-family=\"Times,serif\" font-size=\"14.00\">class = 未生还</text>\n",
       "</g>\n",
       "<!-- 157&#45;&gt;165 -->\n",
       "<g id=\"edge165\" class=\"edge\"><title>157&#45;&gt;165</title>\n",
       "<path fill=\"none\" stroke=\"black\" d=\"M2697.29,-1174.91C2709.18,-1163.21 2722.15,-1150.46 2734.03,-1138.78\"/>\n",
       "<polygon fill=\"black\" stroke=\"black\" points=\"2736.59,-1141.17 2741.27,-1131.67 2731.68,-1136.18 2736.59,-1141.17\"/>\n",
       "</g>\n",
       "<!-- 159 -->\n",
       "<g id=\"node160\" class=\"node\"><title>159</title>\n",
       "<polygon fill=\"#e9965a\" stroke=\"black\" points=\"2706.5,-1020 2605.5,-1020 2605.5,-937 2706.5,-937 2706.5,-1020\"/>\n",
       "<text text-anchor=\"middle\" x=\"2656\" y=\"-1004.8\" font-family=\"Times,serif\" font-size=\"14.00\">Fare &lt;= 17.0</text>\n",
       "<text text-anchor=\"middle\" x=\"2656\" y=\"-989.8\" font-family=\"Times,serif\" font-size=\"14.00\">gini = 0.245</text>\n",
       "<text text-anchor=\"middle\" x=\"2656\" y=\"-974.8\" font-family=\"Times,serif\" font-size=\"14.00\">samples = 7</text>\n",
       "<text text-anchor=\"middle\" x=\"2656\" y=\"-959.8\" font-family=\"Times,serif\" font-size=\"14.00\">value = [6, 1]</text>\n",
       "<text text-anchor=\"middle\" x=\"2656\" y=\"-944.8\" font-family=\"Times,serif\" font-size=\"14.00\">class = 未生还</text>\n",
       "</g>\n",
       "<!-- 158&#45;&gt;159 -->\n",
       "<g id=\"edge159\" class=\"edge\"><title>158&#45;&gt;159</title>\n",
       "<path fill=\"none\" stroke=\"black\" d=\"M2656,-1055.91C2656,-1047.65 2656,-1038.86 2656,-1030.3\"/>\n",
       "<polygon fill=\"black\" stroke=\"black\" points=\"2659.5,-1030.02 2656,-1020.02 2652.5,-1030.02 2659.5,-1030.02\"/>\n",
       "</g>\n",
       "<!-- 164 -->\n",
       "<g id=\"node165\" class=\"node\"><title>164</title>\n",
       "<polygon fill=\"#e58139\" stroke=\"black\" points=\"2825.5,-1012.5 2724.5,-1012.5 2724.5,-944.5 2825.5,-944.5 2825.5,-1012.5\"/>\n",
       "<text text-anchor=\"middle\" x=\"2775\" y=\"-997.3\" font-family=\"Times,serif\" font-size=\"14.00\">gini = 0.0</text>\n",
       "<text text-anchor=\"middle\" x=\"2775\" y=\"-982.3\" font-family=\"Times,serif\" font-size=\"14.00\">samples = 6</text>\n",
       "<text text-anchor=\"middle\" x=\"2775\" y=\"-967.3\" font-family=\"Times,serif\" font-size=\"14.00\">value = [6, 0]</text>\n",
       "<text text-anchor=\"middle\" x=\"2775\" y=\"-952.3\" font-family=\"Times,serif\" font-size=\"14.00\">class = 未生还</text>\n",
       "</g>\n",
       "<!-- 158&#45;&gt;164 -->\n",
       "<g id=\"edge164\" class=\"edge\"><title>158&#45;&gt;164</title>\n",
       "<path fill=\"none\" stroke=\"black\" d=\"M2697.29,-1055.91C2709.18,-1044.21 2722.15,-1031.46 2734.03,-1019.78\"/>\n",
       "<polygon fill=\"black\" stroke=\"black\" points=\"2736.59,-1022.17 2741.27,-1012.67 2731.68,-1017.18 2736.59,-1022.17\"/>\n",
       "</g>\n",
       "<!-- 160 -->\n",
       "<g id=\"node161\" class=\"node\"><title>160</title>\n",
       "<polygon fill=\"#eeab7b\" stroke=\"black\" points=\"2705,-901 2603,-901 2603,-818 2705,-818 2705,-901\"/>\n",
       "<text text-anchor=\"middle\" x=\"2654\" y=\"-885.8\" font-family=\"Times,serif\" font-size=\"14.00\">Fare &lt;= 12.637</text>\n",
       "<text text-anchor=\"middle\" x=\"2654\" y=\"-870.8\" font-family=\"Times,serif\" font-size=\"14.00\">gini = 0.375</text>\n",
       "<text text-anchor=\"middle\" x=\"2654\" y=\"-855.8\" font-family=\"Times,serif\" font-size=\"14.00\">samples = 4</text>\n",
       "<text text-anchor=\"middle\" x=\"2654\" y=\"-840.8\" font-family=\"Times,serif\" font-size=\"14.00\">value = [3, 1]</text>\n",
       "<text text-anchor=\"middle\" x=\"2654\" y=\"-825.8\" font-family=\"Times,serif\" font-size=\"14.00\">class = 未生还</text>\n",
       "</g>\n",
       "<!-- 159&#45;&gt;160 -->\n",
       "<g id=\"edge160\" class=\"edge\"><title>159&#45;&gt;160</title>\n",
       "<path fill=\"none\" stroke=\"black\" d=\"M2655.31,-936.907C2655.16,-928.558 2655.01,-919.671 2654.86,-911.02\"/>\n",
       "<polygon fill=\"black\" stroke=\"black\" points=\"2658.36,-910.959 2654.69,-901.021 2651.36,-911.079 2658.36,-910.959\"/>\n",
       "</g>\n",
       "<!-- 163 -->\n",
       "<g id=\"node164\" class=\"node\"><title>163</title>\n",
       "<polygon fill=\"#e58139\" stroke=\"black\" points=\"2824.5,-893.5 2723.5,-893.5 2723.5,-825.5 2824.5,-825.5 2824.5,-893.5\"/>\n",
       "<text text-anchor=\"middle\" x=\"2774\" y=\"-878.3\" font-family=\"Times,serif\" font-size=\"14.00\">gini = 0.0</text>\n",
       "<text text-anchor=\"middle\" x=\"2774\" y=\"-863.3\" font-family=\"Times,serif\" font-size=\"14.00\">samples = 3</text>\n",
       "<text text-anchor=\"middle\" x=\"2774\" y=\"-848.3\" font-family=\"Times,serif\" font-size=\"14.00\">value = [3, 0]</text>\n",
       "<text text-anchor=\"middle\" x=\"2774\" y=\"-833.3\" font-family=\"Times,serif\" font-size=\"14.00\">class = 未生还</text>\n",
       "</g>\n",
       "<!-- 159&#45;&gt;163 -->\n",
       "<g id=\"edge163\" class=\"edge\"><title>159&#45;&gt;163</title>\n",
       "<path fill=\"none\" stroke=\"black\" d=\"M2696.94,-936.907C2708.74,-925.211 2721.6,-912.457 2733.38,-900.78\"/>\n",
       "<polygon fill=\"black\" stroke=\"black\" points=\"2735.91,-903.193 2740.55,-893.667 2730.98,-898.222 2735.91,-903.193\"/>\n",
       "</g>\n",
       "<!-- 161 -->\n",
       "<g id=\"node162\" class=\"node\"><title>161</title>\n",
       "<polygon fill=\"#e58139\" stroke=\"black\" points=\"2702.5,-774.5 2601.5,-774.5 2601.5,-706.5 2702.5,-706.5 2702.5,-774.5\"/>\n",
       "<text text-anchor=\"middle\" x=\"2652\" y=\"-759.3\" font-family=\"Times,serif\" font-size=\"14.00\">gini = 0.0</text>\n",
       "<text text-anchor=\"middle\" x=\"2652\" y=\"-744.3\" font-family=\"Times,serif\" font-size=\"14.00\">samples = 1</text>\n",
       "<text text-anchor=\"middle\" x=\"2652\" y=\"-729.3\" font-family=\"Times,serif\" font-size=\"14.00\">value = [1, 0]</text>\n",
       "<text text-anchor=\"middle\" x=\"2652\" y=\"-714.3\" font-family=\"Times,serif\" font-size=\"14.00\">class = 未生还</text>\n",
       "</g>\n",
       "<!-- 160&#45;&gt;161 -->\n",
       "<g id=\"edge161\" class=\"edge\"><title>160&#45;&gt;161</title>\n",
       "<path fill=\"none\" stroke=\"black\" d=\"M2653.31,-817.907C2653.12,-807.204 2652.93,-795.615 2652.74,-784.776\"/>\n",
       "<polygon fill=\"black\" stroke=\"black\" points=\"2656.24,-784.606 2652.57,-774.667 2649.24,-784.725 2656.24,-784.606\"/>\n",
       "</g>\n",
       "<!-- 162 -->\n",
       "<g id=\"node163\" class=\"node\"><title>162</title>\n",
       "<polygon fill=\"#f2c09c\" stroke=\"black\" points=\"2821.5,-774.5 2720.5,-774.5 2720.5,-706.5 2821.5,-706.5 2821.5,-774.5\"/>\n",
       "<text text-anchor=\"middle\" x=\"2771\" y=\"-759.3\" font-family=\"Times,serif\" font-size=\"14.00\">gini = 0.444</text>\n",
       "<text text-anchor=\"middle\" x=\"2771\" y=\"-744.3\" font-family=\"Times,serif\" font-size=\"14.00\">samples = 3</text>\n",
       "<text text-anchor=\"middle\" x=\"2771\" y=\"-729.3\" font-family=\"Times,serif\" font-size=\"14.00\">value = [2, 1]</text>\n",
       "<text text-anchor=\"middle\" x=\"2771\" y=\"-714.3\" font-family=\"Times,serif\" font-size=\"14.00\">class = 未生还</text>\n",
       "</g>\n",
       "<!-- 160&#45;&gt;162 -->\n",
       "<g id=\"edge162\" class=\"edge\"><title>160&#45;&gt;162</title>\n",
       "<path fill=\"none\" stroke=\"black\" d=\"M2694.59,-817.907C2706.29,-806.211 2719.04,-793.457 2730.72,-781.78\"/>\n",
       "<polygon fill=\"black\" stroke=\"black\" points=\"2733.24,-784.213 2737.83,-774.667 2728.29,-779.263 2733.24,-784.213\"/>\n",
       "</g>\n",
       "<!-- 167 -->\n",
       "<g id=\"node168\" class=\"node\"><title>167</title>\n",
       "<polygon fill=\"#49a5e7\" stroke=\"black\" points=\"3291.5,-1734 3186.5,-1734 3186.5,-1651 3291.5,-1651 3291.5,-1734\"/>\n",
       "<text text-anchor=\"middle\" x=\"3239\" y=\"-1718.8\" font-family=\"Times,serif\" font-size=\"14.00\">Age &lt;= 3.0</text>\n",
       "<text text-anchor=\"middle\" x=\"3239\" y=\"-1703.8\" font-family=\"Times,serif\" font-size=\"14.00\">gini = 0.141</text>\n",
       "<text text-anchor=\"middle\" x=\"3239\" y=\"-1688.8\" font-family=\"Times,serif\" font-size=\"14.00\">samples = 118</text>\n",
       "<text text-anchor=\"middle\" x=\"3239\" y=\"-1673.8\" font-family=\"Times,serif\" font-size=\"14.00\">value = [9, 109]</text>\n",
       "<text text-anchor=\"middle\" x=\"3239\" y=\"-1658.8\" font-family=\"Times,serif\" font-size=\"14.00\">class = 生还</text>\n",
       "</g>\n",
       "<!-- 166&#45;&gt;167 -->\n",
       "<g id=\"edge167\" class=\"edge\"><title>166&#45;&gt;167</title>\n",
       "<path fill=\"none\" stroke=\"black\" d=\"M3239,-1769.91C3239,-1761.65 3239,-1752.86 3239,-1744.3\"/>\n",
       "<polygon fill=\"black\" stroke=\"black\" points=\"3242.5,-1744.02 3239,-1734.02 3235.5,-1744.02 3242.5,-1744.02\"/>\n",
       "</g>\n",
       "<!-- 208 -->\n",
       "<g id=\"node209\" class=\"node\"><title>208</title>\n",
       "<polygon fill=\"#fdf4ee\" stroke=\"black\" points=\"3926.5,-1734 3821.5,-1734 3821.5,-1651 3926.5,-1651 3926.5,-1734\"/>\n",
       "<text text-anchor=\"middle\" x=\"3874\" y=\"-1718.8\" font-family=\"Times,serif\" font-size=\"14.00\">Age &lt;= 36.5</text>\n",
       "<text text-anchor=\"middle\" x=\"3874\" y=\"-1703.8\" font-family=\"Times,serif\" font-size=\"14.00\">gini = 0.499</text>\n",
       "<text text-anchor=\"middle\" x=\"3874\" y=\"-1688.8\" font-family=\"Times,serif\" font-size=\"14.00\">samples = 65</text>\n",
       "<text text-anchor=\"middle\" x=\"3874\" y=\"-1673.8\" font-family=\"Times,serif\" font-size=\"14.00\">value = [34, 31]</text>\n",
       "<text text-anchor=\"middle\" x=\"3874\" y=\"-1658.8\" font-family=\"Times,serif\" font-size=\"14.00\">class = 未生还</text>\n",
       "</g>\n",
       "<!-- 166&#45;&gt;208 -->\n",
       "<g id=\"edge208\" class=\"edge\"><title>166&#45;&gt;208</title>\n",
       "<path fill=\"none\" stroke=\"black\" d=\"M3295.07,-1800.17C3413.29,-1778.39 3687.36,-1727.89 3811.22,-1705.07\"/>\n",
       "<polygon fill=\"black\" stroke=\"black\" points=\"3812.1,-1708.46 3821.31,-1703.21 3810.84,-1701.58 3812.1,-1708.46\"/>\n",
       "</g>\n",
       "<!-- 168 -->\n",
       "<g id=\"node169\" class=\"node\"><title>168</title>\n",
       "<polygon fill=\"#ffffff\" stroke=\"black\" points=\"3229,-1615 3127,-1615 3127,-1532 3229,-1532 3229,-1615\"/>\n",
       "<text text-anchor=\"middle\" x=\"3178\" y=\"-1599.8\" font-family=\"Times,serif\" font-size=\"14.00\">Fare &lt;= 88.775</text>\n",
       "<text text-anchor=\"middle\" x=\"3178\" y=\"-1584.8\" font-family=\"Times,serif\" font-size=\"14.00\">gini = 0.5</text>\n",
       "<text text-anchor=\"middle\" x=\"3178\" y=\"-1569.8\" font-family=\"Times,serif\" font-size=\"14.00\">samples = 2</text>\n",
       "<text text-anchor=\"middle\" x=\"3178\" y=\"-1554.8\" font-family=\"Times,serif\" font-size=\"14.00\">value = [1, 1]</text>\n",
       "<text text-anchor=\"middle\" x=\"3178\" y=\"-1539.8\" font-family=\"Times,serif\" font-size=\"14.00\">class = 未生还</text>\n",
       "</g>\n",
       "<!-- 167&#45;&gt;168 -->\n",
       "<g id=\"edge168\" class=\"edge\"><title>167&#45;&gt;168</title>\n",
       "<path fill=\"none\" stroke=\"black\" d=\"M3217.84,-1650.91C3213.29,-1642.2 3208.45,-1632.9 3203.75,-1623.89\"/>\n",
       "<polygon fill=\"black\" stroke=\"black\" points=\"3206.85,-1622.27 3199.13,-1615.02 3200.65,-1625.51 3206.85,-1622.27\"/>\n",
       "</g>\n",
       "<!-- 171 -->\n",
       "<g id=\"node172\" class=\"node\"><title>171</title>\n",
       "<polygon fill=\"#48a4e7\" stroke=\"black\" points=\"3352.5,-1615 3247.5,-1615 3247.5,-1532 3352.5,-1532 3352.5,-1615\"/>\n",
       "<text text-anchor=\"middle\" x=\"3300\" y=\"-1599.8\" font-family=\"Times,serif\" font-size=\"14.00\">Fare &lt;= 28.856</text>\n",
       "<text text-anchor=\"middle\" x=\"3300\" y=\"-1584.8\" font-family=\"Times,serif\" font-size=\"14.00\">gini = 0.128</text>\n",
       "<text text-anchor=\"middle\" x=\"3300\" y=\"-1569.8\" font-family=\"Times,serif\" font-size=\"14.00\">samples = 116</text>\n",
       "<text text-anchor=\"middle\" x=\"3300\" y=\"-1554.8\" font-family=\"Times,serif\" font-size=\"14.00\">value = [8, 108]</text>\n",
       "<text text-anchor=\"middle\" x=\"3300\" y=\"-1539.8\" font-family=\"Times,serif\" font-size=\"14.00\">class = 生还</text>\n",
       "</g>\n",
       "<!-- 167&#45;&gt;171 -->\n",
       "<g id=\"edge171\" class=\"edge\"><title>167&#45;&gt;171</title>\n",
       "<path fill=\"none\" stroke=\"black\" d=\"M3260.16,-1650.91C3264.71,-1642.2 3269.55,-1632.9 3274.25,-1623.89\"/>\n",
       "<polygon fill=\"black\" stroke=\"black\" points=\"3277.35,-1625.51 3278.87,-1615.02 3271.15,-1622.27 3277.35,-1625.51\"/>\n",
       "</g>\n",
       "<!-- 169 -->\n",
       "<g id=\"node170\" class=\"node\"><title>169</title>\n",
       "<polygon fill=\"#399de5\" stroke=\"black\" points=\"3109,-1488.5 3017,-1488.5 3017,-1420.5 3109,-1420.5 3109,-1488.5\"/>\n",
       "<text text-anchor=\"middle\" x=\"3063\" y=\"-1473.3\" font-family=\"Times,serif\" font-size=\"14.00\">gini = 0.0</text>\n",
       "<text text-anchor=\"middle\" x=\"3063\" y=\"-1458.3\" font-family=\"Times,serif\" font-size=\"14.00\">samples = 1</text>\n",
       "<text text-anchor=\"middle\" x=\"3063\" y=\"-1443.3\" font-family=\"Times,serif\" font-size=\"14.00\">value = [0, 1]</text>\n",
       "<text text-anchor=\"middle\" x=\"3063\" y=\"-1428.3\" font-family=\"Times,serif\" font-size=\"14.00\">class = 生还</text>\n",
       "</g>\n",
       "<!-- 168&#45;&gt;169 -->\n",
       "<g id=\"edge169\" class=\"edge\"><title>168&#45;&gt;169</title>\n",
       "<path fill=\"none\" stroke=\"black\" d=\"M3138.1,-1531.91C3126.71,-1520.32 3114.31,-1507.7 3102.92,-1496.11\"/>\n",
       "<polygon fill=\"black\" stroke=\"black\" points=\"3105.11,-1493.35 3095.6,-1488.67 3100.11,-1498.25 3105.11,-1493.35\"/>\n",
       "</g>\n",
       "<!-- 170 -->\n",
       "<g id=\"node171\" class=\"node\"><title>170</title>\n",
       "<polygon fill=\"#e58139\" stroke=\"black\" points=\"3228.5,-1488.5 3127.5,-1488.5 3127.5,-1420.5 3228.5,-1420.5 3228.5,-1488.5\"/>\n",
       "<text text-anchor=\"middle\" x=\"3178\" y=\"-1473.3\" font-family=\"Times,serif\" font-size=\"14.00\">gini = 0.0</text>\n",
       "<text text-anchor=\"middle\" x=\"3178\" y=\"-1458.3\" font-family=\"Times,serif\" font-size=\"14.00\">samples = 1</text>\n",
       "<text text-anchor=\"middle\" x=\"3178\" y=\"-1443.3\" font-family=\"Times,serif\" font-size=\"14.00\">value = [1, 0]</text>\n",
       "<text text-anchor=\"middle\" x=\"3178\" y=\"-1428.3\" font-family=\"Times,serif\" font-size=\"14.00\">class = 未生还</text>\n",
       "</g>\n",
       "<!-- 168&#45;&gt;170 -->\n",
       "<g id=\"edge170\" class=\"edge\"><title>168&#45;&gt;170</title>\n",
       "<path fill=\"none\" stroke=\"black\" d=\"M3178,-1531.91C3178,-1521.2 3178,-1509.62 3178,-1498.78\"/>\n",
       "<polygon fill=\"black\" stroke=\"black\" points=\"3181.5,-1498.67 3178,-1488.67 3174.5,-1498.67 3181.5,-1498.67\"/>\n",
       "</g>\n",
       "<!-- 172 -->\n",
       "<g id=\"node173\" class=\"node\"><title>172</title>\n",
       "<polygon fill=\"#5aade9\" stroke=\"black\" points=\"3350,-1496 3248,-1496 3248,-1413 3350,-1413 3350,-1496\"/>\n",
       "<text text-anchor=\"middle\" x=\"3299\" y=\"-1480.8\" font-family=\"Times,serif\" font-size=\"14.00\">Fare &lt;= 28.231</text>\n",
       "<text text-anchor=\"middle\" x=\"3299\" y=\"-1465.8\" font-family=\"Times,serif\" font-size=\"14.00\">gini = 0.245</text>\n",
       "<text text-anchor=\"middle\" x=\"3299\" y=\"-1450.8\" font-family=\"Times,serif\" font-size=\"14.00\">samples = 49</text>\n",
       "<text text-anchor=\"middle\" x=\"3299\" y=\"-1435.8\" font-family=\"Times,serif\" font-size=\"14.00\">value = [7, 42]</text>\n",
       "<text text-anchor=\"middle\" x=\"3299\" y=\"-1420.8\" font-family=\"Times,serif\" font-size=\"14.00\">class = 生还</text>\n",
       "</g>\n",
       "<!-- 171&#45;&gt;172 -->\n",
       "<g id=\"edge172\" class=\"edge\"><title>171&#45;&gt;172</title>\n",
       "<path fill=\"none\" stroke=\"black\" d=\"M3299.65,-1531.91C3299.58,-1523.65 3299.51,-1514.86 3299.43,-1506.3\"/>\n",
       "<polygon fill=\"black\" stroke=\"black\" points=\"3302.93,-1505.99 3299.35,-1496.02 3295.93,-1506.05 3302.93,-1505.99\"/>\n",
       "</g>\n",
       "<!-- 201 -->\n",
       "<g id=\"node202\" class=\"node\"><title>201</title>\n",
       "<polygon fill=\"#3c9ee5\" stroke=\"black\" points=\"3466,-1496 3368,-1496 3368,-1413 3466,-1413 3466,-1496\"/>\n",
       "<text text-anchor=\"middle\" x=\"3417\" y=\"-1480.8\" font-family=\"Times,serif\" font-size=\"14.00\">Parch &lt;= 1.5</text>\n",
       "<text text-anchor=\"middle\" x=\"3417\" y=\"-1465.8\" font-family=\"Times,serif\" font-size=\"14.00\">gini = 0.029</text>\n",
       "<text text-anchor=\"middle\" x=\"3417\" y=\"-1450.8\" font-family=\"Times,serif\" font-size=\"14.00\">samples = 67</text>\n",
       "<text text-anchor=\"middle\" x=\"3417\" y=\"-1435.8\" font-family=\"Times,serif\" font-size=\"14.00\">value = [1, 66]</text>\n",
       "<text text-anchor=\"middle\" x=\"3417\" y=\"-1420.8\" font-family=\"Times,serif\" font-size=\"14.00\">class = 生还</text>\n",
       "</g>\n",
       "<!-- 171&#45;&gt;201 -->\n",
       "<g id=\"edge201\" class=\"edge\"><title>171&#45;&gt;201</title>\n",
       "<path fill=\"none\" stroke=\"black\" d=\"M3340.59,-1531.91C3349.85,-1522.65 3359.77,-1512.73 3369.29,-1503.21\"/>\n",
       "<polygon fill=\"black\" stroke=\"black\" points=\"3371.88,-1505.57 3376.48,-1496.02 3366.93,-1500.62 3371.88,-1505.57\"/>\n",
       "</g>\n",
       "<!-- 173 -->\n",
       "<g id=\"node174\" class=\"node\"><title>173</title>\n",
       "<polygon fill=\"#55abe9\" stroke=\"black\" points=\"3230,-1377 3132,-1377 3132,-1294 3230,-1294 3230,-1377\"/>\n",
       "<text text-anchor=\"middle\" x=\"3181\" y=\"-1361.8\" font-family=\"Times,serif\" font-size=\"14.00\">Age &lt;= 56.0</text>\n",
       "<text text-anchor=\"middle\" x=\"3181\" y=\"-1346.8\" font-family=\"Times,serif\" font-size=\"14.00\">gini = 0.219</text>\n",
       "<text text-anchor=\"middle\" x=\"3181\" y=\"-1331.8\" font-family=\"Times,serif\" font-size=\"14.00\">samples = 48</text>\n",
       "<text text-anchor=\"middle\" x=\"3181\" y=\"-1316.8\" font-family=\"Times,serif\" font-size=\"14.00\">value = [6, 42]</text>\n",
       "<text text-anchor=\"middle\" x=\"3181\" y=\"-1301.8\" font-family=\"Times,serif\" font-size=\"14.00\">class = 生还</text>\n",
       "</g>\n",
       "<!-- 172&#45;&gt;173 -->\n",
       "<g id=\"edge173\" class=\"edge\"><title>172&#45;&gt;173</title>\n",
       "<path fill=\"none\" stroke=\"black\" d=\"M3258.06,-1412.91C3248.72,-1403.65 3238.72,-1393.73 3229.12,-1384.21\"/>\n",
       "<polygon fill=\"black\" stroke=\"black\" points=\"3231.43,-1381.58 3221.87,-1377.02 3226.5,-1386.55 3231.43,-1381.58\"/>\n",
       "</g>\n",
       "<!-- 200 -->\n",
       "<g id=\"node201\" class=\"node\"><title>200</title>\n",
       "<polygon fill=\"#e58139\" stroke=\"black\" points=\"3349.5,-1369.5 3248.5,-1369.5 3248.5,-1301.5 3349.5,-1301.5 3349.5,-1369.5\"/>\n",
       "<text text-anchor=\"middle\" x=\"3299\" y=\"-1354.3\" font-family=\"Times,serif\" font-size=\"14.00\">gini = 0.0</text>\n",
       "<text text-anchor=\"middle\" x=\"3299\" y=\"-1339.3\" font-family=\"Times,serif\" font-size=\"14.00\">samples = 1</text>\n",
       "<text text-anchor=\"middle\" x=\"3299\" y=\"-1324.3\" font-family=\"Times,serif\" font-size=\"14.00\">value = [1, 0]</text>\n",
       "<text text-anchor=\"middle\" x=\"3299\" y=\"-1309.3\" font-family=\"Times,serif\" font-size=\"14.00\">class = 未生还</text>\n",
       "</g>\n",
       "<!-- 172&#45;&gt;200 -->\n",
       "<g id=\"edge200\" class=\"edge\"><title>172&#45;&gt;200</title>\n",
       "<path fill=\"none\" stroke=\"black\" d=\"M3299,-1412.91C3299,-1402.2 3299,-1390.62 3299,-1379.78\"/>\n",
       "<polygon fill=\"black\" stroke=\"black\" points=\"3302.5,-1379.67 3299,-1369.67 3295.5,-1379.67 3302.5,-1379.67\"/>\n",
       "</g>\n",
       "<!-- 174 -->\n",
       "<g id=\"node175\" class=\"node\"><title>174</title>\n",
       "<polygon fill=\"#51a9e8\" stroke=\"black\" points=\"3175,-1258 3077,-1258 3077,-1175 3175,-1175 3175,-1258\"/>\n",
       "<text text-anchor=\"middle\" x=\"3126\" y=\"-1242.8\" font-family=\"Times,serif\" font-size=\"14.00\">SibSp &lt;= 0.5</text>\n",
       "<text text-anchor=\"middle\" x=\"3126\" y=\"-1227.8\" font-family=\"Times,serif\" font-size=\"14.00\">gini = 0.194</text>\n",
       "<text text-anchor=\"middle\" x=\"3126\" y=\"-1212.8\" font-family=\"Times,serif\" font-size=\"14.00\">samples = 46</text>\n",
       "<text text-anchor=\"middle\" x=\"3126\" y=\"-1197.8\" font-family=\"Times,serif\" font-size=\"14.00\">value = [5, 41]</text>\n",
       "<text text-anchor=\"middle\" x=\"3126\" y=\"-1182.8\" font-family=\"Times,serif\" font-size=\"14.00\">class = 生还</text>\n",
       "</g>\n",
       "<!-- 173&#45;&gt;174 -->\n",
       "<g id=\"edge174\" class=\"edge\"><title>173&#45;&gt;174</title>\n",
       "<path fill=\"none\" stroke=\"black\" d=\"M3161.92,-1293.91C3157.87,-1285.29 3153.54,-1276.09 3149.35,-1267.17\"/>\n",
       "<polygon fill=\"black\" stroke=\"black\" points=\"3152.47,-1265.58 3145.05,-1258.02 3146.14,-1268.56 3152.47,-1265.58\"/>\n",
       "</g>\n",
       "<!-- 197 -->\n",
       "<g id=\"node198\" class=\"node\"><title>197</title>\n",
       "<polygon fill=\"#ffffff\" stroke=\"black\" points=\"3295,-1258 3193,-1258 3193,-1175 3295,-1175 3295,-1258\"/>\n",
       "<text text-anchor=\"middle\" x=\"3244\" y=\"-1242.8\" font-family=\"Times,serif\" font-size=\"14.00\">Fare &lt;= 18.525</text>\n",
       "<text text-anchor=\"middle\" x=\"3244\" y=\"-1227.8\" font-family=\"Times,serif\" font-size=\"14.00\">gini = 0.5</text>\n",
       "<text text-anchor=\"middle\" x=\"3244\" y=\"-1212.8\" font-family=\"Times,serif\" font-size=\"14.00\">samples = 2</text>\n",
       "<text text-anchor=\"middle\" x=\"3244\" y=\"-1197.8\" font-family=\"Times,serif\" font-size=\"14.00\">value = [1, 1]</text>\n",
       "<text text-anchor=\"middle\" x=\"3244\" y=\"-1182.8\" font-family=\"Times,serif\" font-size=\"14.00\">class = 未生还</text>\n",
       "</g>\n",
       "<!-- 173&#45;&gt;197 -->\n",
       "<g id=\"edge197\" class=\"edge\"><title>173&#45;&gt;197</title>\n",
       "<path fill=\"none\" stroke=\"black\" d=\"M3202.86,-1293.91C3207.55,-1285.2 3212.56,-1275.9 3217.4,-1266.89\"/>\n",
       "<polygon fill=\"black\" stroke=\"black\" points=\"3220.52,-1268.48 3222.18,-1258.02 3214.36,-1265.17 3220.52,-1268.48\"/>\n",
       "</g>\n",
       "<!-- 175 -->\n",
       "<g id=\"node176\" class=\"node\"><title>175</title>\n",
       "<polygon fill=\"#46a4e7\" stroke=\"black\" points=\"3059,-1139 2961,-1139 2961,-1056 3059,-1056 3059,-1139\"/>\n",
       "<text text-anchor=\"middle\" x=\"3010\" y=\"-1123.8\" font-family=\"Times,serif\" font-size=\"14.00\">Fare &lt;= 13.25</text>\n",
       "<text text-anchor=\"middle\" x=\"3010\" y=\"-1108.8\" font-family=\"Times,serif\" font-size=\"14.00\">gini = 0.117</text>\n",
       "<text text-anchor=\"middle\" x=\"3010\" y=\"-1093.8\" font-family=\"Times,serif\" font-size=\"14.00\">samples = 32</text>\n",
       "<text text-anchor=\"middle\" x=\"3010\" y=\"-1078.8\" font-family=\"Times,serif\" font-size=\"14.00\">value = [2, 30]</text>\n",
       "<text text-anchor=\"middle\" x=\"3010\" y=\"-1063.8\" font-family=\"Times,serif\" font-size=\"14.00\">class = 生还</text>\n",
       "</g>\n",
       "<!-- 174&#45;&gt;175 -->\n",
       "<g id=\"edge175\" class=\"edge\"><title>174&#45;&gt;175</title>\n",
       "<path fill=\"none\" stroke=\"black\" d=\"M3085.75,-1174.91C3076.58,-1165.65 3066.74,-1155.73 3057.3,-1146.21\"/>\n",
       "<polygon fill=\"black\" stroke=\"black\" points=\"3059.7,-1143.66 3050.17,-1139.02 3054.73,-1148.59 3059.7,-1143.66\"/>\n",
       "</g>\n",
       "<!-- 186 -->\n",
       "<g id=\"node187\" class=\"node\"><title>186</title>\n",
       "<polygon fill=\"#6fb8ec\" stroke=\"black\" points=\"3175,-1139 3077,-1139 3077,-1056 3175,-1056 3175,-1139\"/>\n",
       "<text text-anchor=\"middle\" x=\"3126\" y=\"-1123.8\" font-family=\"Times,serif\" font-size=\"14.00\">Age &lt;= 25.0</text>\n",
       "<text text-anchor=\"middle\" x=\"3126\" y=\"-1108.8\" font-family=\"Times,serif\" font-size=\"14.00\">gini = 0.337</text>\n",
       "<text text-anchor=\"middle\" x=\"3126\" y=\"-1093.8\" font-family=\"Times,serif\" font-size=\"14.00\">samples = 14</text>\n",
       "<text text-anchor=\"middle\" x=\"3126\" y=\"-1078.8\" font-family=\"Times,serif\" font-size=\"14.00\">value = [3, 11]</text>\n",
       "<text text-anchor=\"middle\" x=\"3126\" y=\"-1063.8\" font-family=\"Times,serif\" font-size=\"14.00\">class = 生还</text>\n",
       "</g>\n",
       "<!-- 174&#45;&gt;186 -->\n",
       "<g id=\"edge186\" class=\"edge\"><title>174&#45;&gt;186</title>\n",
       "<path fill=\"none\" stroke=\"black\" d=\"M3126,-1174.91C3126,-1166.65 3126,-1157.86 3126,-1149.3\"/>\n",
       "<polygon fill=\"black\" stroke=\"black\" points=\"3129.5,-1149.02 3126,-1139.02 3122.5,-1149.02 3129.5,-1149.02\"/>\n",
       "</g>\n",
       "<!-- 176 -->\n",
       "<g id=\"node177\" class=\"node\"><title>176</title>\n",
       "<polygon fill=\"#53aae8\" stroke=\"black\" points=\"2946,-1020 2844,-1020 2844,-937 2946,-937 2946,-1020\"/>\n",
       "<text text-anchor=\"middle\" x=\"2895\" y=\"-1004.8\" font-family=\"Times,serif\" font-size=\"14.00\">Fare &lt;= 12.825</text>\n",
       "<text text-anchor=\"middle\" x=\"2895\" y=\"-989.8\" font-family=\"Times,serif\" font-size=\"14.00\">gini = 0.208</text>\n",
       "<text text-anchor=\"middle\" x=\"2895\" y=\"-974.8\" font-family=\"Times,serif\" font-size=\"14.00\">samples = 17</text>\n",
       "<text text-anchor=\"middle\" x=\"2895\" y=\"-959.8\" font-family=\"Times,serif\" font-size=\"14.00\">value = [2, 15]</text>\n",
       "<text text-anchor=\"middle\" x=\"2895\" y=\"-944.8\" font-family=\"Times,serif\" font-size=\"14.00\">class = 生还</text>\n",
       "</g>\n",
       "<!-- 175&#45;&gt;176 -->\n",
       "<g id=\"edge176\" class=\"edge\"><title>175&#45;&gt;176</title>\n",
       "<path fill=\"none\" stroke=\"black\" d=\"M2970.1,-1055.91C2961,-1046.65 2951.25,-1036.73 2941.89,-1027.21\"/>\n",
       "<polygon fill=\"black\" stroke=\"black\" points=\"2944.33,-1024.7 2934.83,-1020.02 2939.34,-1029.61 2944.33,-1024.7\"/>\n",
       "</g>\n",
       "<!-- 185 -->\n",
       "<g id=\"node186\" class=\"node\"><title>185</title>\n",
       "<polygon fill=\"#399de5\" stroke=\"black\" points=\"3062,-1012.5 2964,-1012.5 2964,-944.5 3062,-944.5 3062,-1012.5\"/>\n",
       "<text text-anchor=\"middle\" x=\"3013\" y=\"-997.3\" font-family=\"Times,serif\" font-size=\"14.00\">gini = 0.0</text>\n",
       "<text text-anchor=\"middle\" x=\"3013\" y=\"-982.3\" font-family=\"Times,serif\" font-size=\"14.00\">samples = 15</text>\n",
       "<text text-anchor=\"middle\" x=\"3013\" y=\"-967.3\" font-family=\"Times,serif\" font-size=\"14.00\">value = [0, 15]</text>\n",
       "<text text-anchor=\"middle\" x=\"3013\" y=\"-952.3\" font-family=\"Times,serif\" font-size=\"14.00\">class = 生还</text>\n",
       "</g>\n",
       "<!-- 175&#45;&gt;185 -->\n",
       "<g id=\"edge185\" class=\"edge\"><title>175&#45;&gt;185</title>\n",
       "<path fill=\"none\" stroke=\"black\" d=\"M3011.04,-1055.91C3011.32,-1045.2 3011.61,-1033.62 3011.89,-1022.78\"/>\n",
       "<polygon fill=\"black\" stroke=\"black\" points=\"3015.39,-1022.75 3012.15,-1012.67 3008.39,-1022.57 3015.39,-1022.75\"/>\n",
       "</g>\n",
       "<!-- 177 -->\n",
       "<g id=\"node178\" class=\"node\"><title>177</title>\n",
       "<polygon fill=\"#399de5\" stroke=\"black\" points=\"2938,-893.5 2846,-893.5 2846,-825.5 2938,-825.5 2938,-893.5\"/>\n",
       "<text text-anchor=\"middle\" x=\"2892\" y=\"-878.3\" font-family=\"Times,serif\" font-size=\"14.00\">gini = 0.0</text>\n",
       "<text text-anchor=\"middle\" x=\"2892\" y=\"-863.3\" font-family=\"Times,serif\" font-size=\"14.00\">samples = 8</text>\n",
       "<text text-anchor=\"middle\" x=\"2892\" y=\"-848.3\" font-family=\"Times,serif\" font-size=\"14.00\">value = [0, 8]</text>\n",
       "<text text-anchor=\"middle\" x=\"2892\" y=\"-833.3\" font-family=\"Times,serif\" font-size=\"14.00\">class = 生还</text>\n",
       "</g>\n",
       "<!-- 176&#45;&gt;177 -->\n",
       "<g id=\"edge177\" class=\"edge\"><title>176&#45;&gt;177</title>\n",
       "<path fill=\"none\" stroke=\"black\" d=\"M2893.96,-936.907C2893.68,-926.204 2893.39,-914.615 2893.11,-903.776\"/>\n",
       "<polygon fill=\"black\" stroke=\"black\" points=\"2896.61,-903.574 2892.85,-893.667 2889.61,-903.753 2896.61,-903.574\"/>\n",
       "</g>\n",
       "<!-- 178 -->\n",
       "<g id=\"node179\" class=\"node\"><title>178</title>\n",
       "<polygon fill=\"#72b9ec\" stroke=\"black\" points=\"3048,-901 2956,-901 2956,-818 3048,-818 3048,-901\"/>\n",
       "<text text-anchor=\"middle\" x=\"3002\" y=\"-885.8\" font-family=\"Times,serif\" font-size=\"14.00\">Age &lt;= 26.0</text>\n",
       "<text text-anchor=\"middle\" x=\"3002\" y=\"-870.8\" font-family=\"Times,serif\" font-size=\"14.00\">gini = 0.346</text>\n",
       "<text text-anchor=\"middle\" x=\"3002\" y=\"-855.8\" font-family=\"Times,serif\" font-size=\"14.00\">samples = 9</text>\n",
       "<text text-anchor=\"middle\" x=\"3002\" y=\"-840.8\" font-family=\"Times,serif\" font-size=\"14.00\">value = [2, 7]</text>\n",
       "<text text-anchor=\"middle\" x=\"3002\" y=\"-825.8\" font-family=\"Times,serif\" font-size=\"14.00\">class = 生还</text>\n",
       "</g>\n",
       "<!-- 176&#45;&gt;178 -->\n",
       "<g id=\"edge178\" class=\"edge\"><title>176&#45;&gt;178</title>\n",
       "<path fill=\"none\" stroke=\"black\" d=\"M2932.12,-936.907C2940.51,-927.742 2949.48,-917.927 2958.11,-908.489\"/>\n",
       "<polygon fill=\"black\" stroke=\"black\" points=\"2960.78,-910.762 2964.94,-901.021 2955.61,-906.038 2960.78,-910.762\"/>\n",
       "</g>\n",
       "<!-- 179 -->\n",
       "<g id=\"node180\" class=\"node\"><title>179</title>\n",
       "<polygon fill=\"#e58139\" stroke=\"black\" points=\"2996.5,-774.5 2895.5,-774.5 2895.5,-706.5 2996.5,-706.5 2996.5,-774.5\"/>\n",
       "<text text-anchor=\"middle\" x=\"2946\" y=\"-759.3\" font-family=\"Times,serif\" font-size=\"14.00\">gini = 0.0</text>\n",
       "<text text-anchor=\"middle\" x=\"2946\" y=\"-744.3\" font-family=\"Times,serif\" font-size=\"14.00\">samples = 1</text>\n",
       "<text text-anchor=\"middle\" x=\"2946\" y=\"-729.3\" font-family=\"Times,serif\" font-size=\"14.00\">value = [1, 0]</text>\n",
       "<text text-anchor=\"middle\" x=\"2946\" y=\"-714.3\" font-family=\"Times,serif\" font-size=\"14.00\">class = 未生还</text>\n",
       "</g>\n",
       "<!-- 178&#45;&gt;179 -->\n",
       "<g id=\"edge179\" class=\"edge\"><title>178&#45;&gt;179</title>\n",
       "<path fill=\"none\" stroke=\"black\" d=\"M2982.57,-817.907C2977.29,-806.873 2971.56,-794.898 2966.23,-783.773\"/>\n",
       "<polygon fill=\"black\" stroke=\"black\" points=\"2969.35,-782.176 2961.87,-774.667 2963.04,-785.198 2969.35,-782.176\"/>\n",
       "</g>\n",
       "<!-- 180 -->\n",
       "<g id=\"node181\" class=\"node\"><title>180</title>\n",
       "<polygon fill=\"#55abe9\" stroke=\"black\" points=\"3107,-782 3015,-782 3015,-699 3107,-699 3107,-782\"/>\n",
       "<text text-anchor=\"middle\" x=\"3061\" y=\"-766.8\" font-family=\"Times,serif\" font-size=\"14.00\">Age &lt;= 37.0</text>\n",
       "<text text-anchor=\"middle\" x=\"3061\" y=\"-751.8\" font-family=\"Times,serif\" font-size=\"14.00\">gini = 0.219</text>\n",
       "<text text-anchor=\"middle\" x=\"3061\" y=\"-736.8\" font-family=\"Times,serif\" font-size=\"14.00\">samples = 8</text>\n",
       "<text text-anchor=\"middle\" x=\"3061\" y=\"-721.8\" font-family=\"Times,serif\" font-size=\"14.00\">value = [1, 7]</text>\n",
       "<text text-anchor=\"middle\" x=\"3061\" y=\"-706.8\" font-family=\"Times,serif\" font-size=\"14.00\">class = 生还</text>\n",
       "</g>\n",
       "<!-- 178&#45;&gt;180 -->\n",
       "<g id=\"edge180\" class=\"edge\"><title>178&#45;&gt;180</title>\n",
       "<path fill=\"none\" stroke=\"black\" d=\"M3022.47,-817.907C3026.82,-809.286 3031.45,-800.09 3035.95,-791.175\"/>\n",
       "<polygon fill=\"black\" stroke=\"black\" points=\"3039.19,-792.526 3040.57,-782.021 3032.94,-789.374 3039.19,-792.526\"/>\n",
       "</g>\n",
       "<!-- 181 -->\n",
       "<g id=\"node182\" class=\"node\"><title>181</title>\n",
       "<polygon fill=\"#399de5\" stroke=\"black\" points=\"3049,-655.5 2957,-655.5 2957,-587.5 3049,-587.5 3049,-655.5\"/>\n",
       "<text text-anchor=\"middle\" x=\"3003\" y=\"-640.3\" font-family=\"Times,serif\" font-size=\"14.00\">gini = 0.0</text>\n",
       "<text text-anchor=\"middle\" x=\"3003\" y=\"-625.3\" font-family=\"Times,serif\" font-size=\"14.00\">samples = 6</text>\n",
       "<text text-anchor=\"middle\" x=\"3003\" y=\"-610.3\" font-family=\"Times,serif\" font-size=\"14.00\">value = [0, 6]</text>\n",
       "<text text-anchor=\"middle\" x=\"3003\" y=\"-595.3\" font-family=\"Times,serif\" font-size=\"14.00\">class = 生还</text>\n",
       "</g>\n",
       "<!-- 180&#45;&gt;181 -->\n",
       "<g id=\"edge181\" class=\"edge\"><title>180&#45;&gt;181</title>\n",
       "<path fill=\"none\" stroke=\"black\" d=\"M3040.88,-698.907C3035.41,-687.873 3029.47,-675.898 3023.96,-664.773\"/>\n",
       "<polygon fill=\"black\" stroke=\"black\" points=\"3027.02,-663.072 3019.44,-655.667 3020.75,-666.181 3027.02,-663.072\"/>\n",
       "</g>\n",
       "<!-- 182 -->\n",
       "<g id=\"node183\" class=\"node\"><title>182</title>\n",
       "<polygon fill=\"#ffffff\" stroke=\"black\" points=\"3168.5,-663 3067.5,-663 3067.5,-580 3168.5,-580 3168.5,-663\"/>\n",
       "<text text-anchor=\"middle\" x=\"3118\" y=\"-647.8\" font-family=\"Times,serif\" font-size=\"14.00\">Age &lt;= 40.0</text>\n",
       "<text text-anchor=\"middle\" x=\"3118\" y=\"-632.8\" font-family=\"Times,serif\" font-size=\"14.00\">gini = 0.5</text>\n",
       "<text text-anchor=\"middle\" x=\"3118\" y=\"-617.8\" font-family=\"Times,serif\" font-size=\"14.00\">samples = 2</text>\n",
       "<text text-anchor=\"middle\" x=\"3118\" y=\"-602.8\" font-family=\"Times,serif\" font-size=\"14.00\">value = [1, 1]</text>\n",
       "<text text-anchor=\"middle\" x=\"3118\" y=\"-587.8\" font-family=\"Times,serif\" font-size=\"14.00\">class = 未生还</text>\n",
       "</g>\n",
       "<!-- 180&#45;&gt;182 -->\n",
       "<g id=\"edge182\" class=\"edge\"><title>180&#45;&gt;182</title>\n",
       "<path fill=\"none\" stroke=\"black\" d=\"M3080.78,-698.907C3084.98,-690.286 3089.46,-681.09 3093.8,-672.175\"/>\n",
       "<polygon fill=\"black\" stroke=\"black\" points=\"3097.03,-673.544 3098.26,-663.021 3090.73,-670.478 3097.03,-673.544\"/>\n",
       "</g>\n",
       "<!-- 183 -->\n",
       "<g id=\"node184\" class=\"node\"><title>183</title>\n",
       "<polygon fill=\"#e58139\" stroke=\"black\" points=\"3110.5,-536.5 3009.5,-536.5 3009.5,-468.5 3110.5,-468.5 3110.5,-536.5\"/>\n",
       "<text text-anchor=\"middle\" x=\"3060\" y=\"-521.3\" font-family=\"Times,serif\" font-size=\"14.00\">gini = 0.0</text>\n",
       "<text text-anchor=\"middle\" x=\"3060\" y=\"-506.3\" font-family=\"Times,serif\" font-size=\"14.00\">samples = 1</text>\n",
       "<text text-anchor=\"middle\" x=\"3060\" y=\"-491.3\" font-family=\"Times,serif\" font-size=\"14.00\">value = [1, 0]</text>\n",
       "<text text-anchor=\"middle\" x=\"3060\" y=\"-476.3\" font-family=\"Times,serif\" font-size=\"14.00\">class = 未生还</text>\n",
       "</g>\n",
       "<!-- 182&#45;&gt;183 -->\n",
       "<g id=\"edge183\" class=\"edge\"><title>182&#45;&gt;183</title>\n",
       "<path fill=\"none\" stroke=\"black\" d=\"M3097.88,-579.907C3092.41,-568.873 3086.47,-556.898 3080.96,-545.773\"/>\n",
       "<polygon fill=\"black\" stroke=\"black\" points=\"3084.02,-544.072 3076.44,-536.667 3077.75,-547.181 3084.02,-544.072\"/>\n",
       "</g>\n",
       "<!-- 184 -->\n",
       "<g id=\"node185\" class=\"node\"><title>184</title>\n",
       "<polygon fill=\"#399de5\" stroke=\"black\" points=\"3221,-536.5 3129,-536.5 3129,-468.5 3221,-468.5 3221,-536.5\"/>\n",
       "<text text-anchor=\"middle\" x=\"3175\" y=\"-521.3\" font-family=\"Times,serif\" font-size=\"14.00\">gini = 0.0</text>\n",
       "<text text-anchor=\"middle\" x=\"3175\" y=\"-506.3\" font-family=\"Times,serif\" font-size=\"14.00\">samples = 1</text>\n",
       "<text text-anchor=\"middle\" x=\"3175\" y=\"-491.3\" font-family=\"Times,serif\" font-size=\"14.00\">value = [0, 1]</text>\n",
       "<text text-anchor=\"middle\" x=\"3175\" y=\"-476.3\" font-family=\"Times,serif\" font-size=\"14.00\">class = 生还</text>\n",
       "</g>\n",
       "<!-- 182&#45;&gt;184 -->\n",
       "<g id=\"edge184\" class=\"edge\"><title>182&#45;&gt;184</title>\n",
       "<path fill=\"none\" stroke=\"black\" d=\"M3137.78,-579.907C3143.15,-568.873 3148.99,-556.898 3154.41,-545.773\"/>\n",
       "<polygon fill=\"black\" stroke=\"black\" points=\"3157.61,-547.19 3158.84,-536.667 3151.32,-544.124 3157.61,-547.19\"/>\n",
       "</g>\n",
       "<!-- 187 -->\n",
       "<g id=\"node188\" class=\"node\"><title>187</title>\n",
       "<polygon fill=\"#399de5\" stroke=\"black\" points=\"3172,-1012.5 3080,-1012.5 3080,-944.5 3172,-944.5 3172,-1012.5\"/>\n",
       "<text text-anchor=\"middle\" x=\"3126\" y=\"-997.3\" font-family=\"Times,serif\" font-size=\"14.00\">gini = 0.0</text>\n",
       "<text text-anchor=\"middle\" x=\"3126\" y=\"-982.3\" font-family=\"Times,serif\" font-size=\"14.00\">samples = 6</text>\n",
       "<text text-anchor=\"middle\" x=\"3126\" y=\"-967.3\" font-family=\"Times,serif\" font-size=\"14.00\">value = [0, 6]</text>\n",
       "<text text-anchor=\"middle\" x=\"3126\" y=\"-952.3\" font-family=\"Times,serif\" font-size=\"14.00\">class = 生还</text>\n",
       "</g>\n",
       "<!-- 186&#45;&gt;187 -->\n",
       "<g id=\"edge187\" class=\"edge\"><title>186&#45;&gt;187</title>\n",
       "<path fill=\"none\" stroke=\"black\" d=\"M3126,-1055.91C3126,-1045.2 3126,-1033.62 3126,-1022.78\"/>\n",
       "<polygon fill=\"black\" stroke=\"black\" points=\"3129.5,-1022.67 3126,-1012.67 3122.5,-1022.67 3129.5,-1022.67\"/>\n",
       "</g>\n",
       "<!-- 188 -->\n",
       "<g id=\"node189\" class=\"node\"><title>188</title>\n",
       "<polygon fill=\"#b0d8f5\" stroke=\"black\" points=\"3282,-1020 3190,-1020 3190,-937 3282,-937 3282,-1020\"/>\n",
       "<text text-anchor=\"middle\" x=\"3236\" y=\"-1004.8\" font-family=\"Times,serif\" font-size=\"14.00\">Age &lt;= 27.5</text>\n",
       "<text text-anchor=\"middle\" x=\"3236\" y=\"-989.8\" font-family=\"Times,serif\" font-size=\"14.00\">gini = 0.469</text>\n",
       "<text text-anchor=\"middle\" x=\"3236\" y=\"-974.8\" font-family=\"Times,serif\" font-size=\"14.00\">samples = 8</text>\n",
       "<text text-anchor=\"middle\" x=\"3236\" y=\"-959.8\" font-family=\"Times,serif\" font-size=\"14.00\">value = [3, 5]</text>\n",
       "<text text-anchor=\"middle\" x=\"3236\" y=\"-944.8\" font-family=\"Times,serif\" font-size=\"14.00\">class = 生还</text>\n",
       "</g>\n",
       "<!-- 186&#45;&gt;188 -->\n",
       "<g id=\"edge188\" class=\"edge\"><title>186&#45;&gt;188</title>\n",
       "<path fill=\"none\" stroke=\"black\" d=\"M3164.16,-1055.91C3172.78,-1046.74 3182.01,-1036.93 3190.88,-1027.49\"/>\n",
       "<polygon fill=\"black\" stroke=\"black\" points=\"3193.6,-1029.7 3197.9,-1020.02 3188.5,-1024.91 3193.6,-1029.7\"/>\n",
       "</g>\n",
       "<!-- 189 -->\n",
       "<g id=\"node190\" class=\"node\"><title>189</title>\n",
       "<polygon fill=\"#e58139\" stroke=\"black\" points=\"3229.5,-893.5 3128.5,-893.5 3128.5,-825.5 3229.5,-825.5 3229.5,-893.5\"/>\n",
       "<text text-anchor=\"middle\" x=\"3179\" y=\"-878.3\" font-family=\"Times,serif\" font-size=\"14.00\">gini = 0.0</text>\n",
       "<text text-anchor=\"middle\" x=\"3179\" y=\"-863.3\" font-family=\"Times,serif\" font-size=\"14.00\">samples = 2</text>\n",
       "<text text-anchor=\"middle\" x=\"3179\" y=\"-848.3\" font-family=\"Times,serif\" font-size=\"14.00\">value = [2, 0]</text>\n",
       "<text text-anchor=\"middle\" x=\"3179\" y=\"-833.3\" font-family=\"Times,serif\" font-size=\"14.00\">class = 未生还</text>\n",
       "</g>\n",
       "<!-- 188&#45;&gt;189 -->\n",
       "<g id=\"edge189\" class=\"edge\"><title>188&#45;&gt;189</title>\n",
       "<path fill=\"none\" stroke=\"black\" d=\"M3216.22,-936.907C3210.85,-925.873 3205.01,-913.898 3199.59,-902.773\"/>\n",
       "<polygon fill=\"black\" stroke=\"black\" points=\"3202.68,-901.124 3195.16,-893.667 3196.39,-904.19 3202.68,-901.124\"/>\n",
       "</g>\n",
       "<!-- 190 -->\n",
       "<g id=\"node191\" class=\"node\"><title>190</title>\n",
       "<polygon fill=\"#61b1ea\" stroke=\"black\" points=\"3340,-901 3248,-901 3248,-818 3340,-818 3340,-901\"/>\n",
       "<text text-anchor=\"middle\" x=\"3294\" y=\"-885.8\" font-family=\"Times,serif\" font-size=\"14.00\">Fare &lt;= 25.0</text>\n",
       "<text text-anchor=\"middle\" x=\"3294\" y=\"-870.8\" font-family=\"Times,serif\" font-size=\"14.00\">gini = 0.278</text>\n",
       "<text text-anchor=\"middle\" x=\"3294\" y=\"-855.8\" font-family=\"Times,serif\" font-size=\"14.00\">samples = 6</text>\n",
       "<text text-anchor=\"middle\" x=\"3294\" y=\"-840.8\" font-family=\"Times,serif\" font-size=\"14.00\">value = [1, 5]</text>\n",
       "<text text-anchor=\"middle\" x=\"3294\" y=\"-825.8\" font-family=\"Times,serif\" font-size=\"14.00\">class = 生还</text>\n",
       "</g>\n",
       "<!-- 188&#45;&gt;190 -->\n",
       "<g id=\"edge190\" class=\"edge\"><title>188&#45;&gt;190</title>\n",
       "<path fill=\"none\" stroke=\"black\" d=\"M3256.12,-936.907C3260.4,-928.286 3264.96,-919.09 3269.37,-910.175\"/>\n",
       "<polygon fill=\"black\" stroke=\"black\" points=\"3272.61,-911.535 3273.91,-901.021 3266.34,-908.426 3272.61,-911.535\"/>\n",
       "</g>\n",
       "<!-- 191 -->\n",
       "<g id=\"node192\" class=\"node\"><title>191</title>\n",
       "<polygon fill=\"#399de5\" stroke=\"black\" points=\"3285,-774.5 3193,-774.5 3193,-706.5 3285,-706.5 3285,-774.5\"/>\n",
       "<text text-anchor=\"middle\" x=\"3239\" y=\"-759.3\" font-family=\"Times,serif\" font-size=\"14.00\">gini = 0.0</text>\n",
       "<text text-anchor=\"middle\" x=\"3239\" y=\"-744.3\" font-family=\"Times,serif\" font-size=\"14.00\">samples = 3</text>\n",
       "<text text-anchor=\"middle\" x=\"3239\" y=\"-729.3\" font-family=\"Times,serif\" font-size=\"14.00\">value = [0, 3]</text>\n",
       "<text text-anchor=\"middle\" x=\"3239\" y=\"-714.3\" font-family=\"Times,serif\" font-size=\"14.00\">class = 生还</text>\n",
       "</g>\n",
       "<!-- 190&#45;&gt;191 -->\n",
       "<g id=\"edge191\" class=\"edge\"><title>190&#45;&gt;191</title>\n",
       "<path fill=\"none\" stroke=\"black\" d=\"M3274.92,-817.907C3269.73,-806.873 3264.1,-794.898 3258.87,-783.773\"/>\n",
       "<polygon fill=\"black\" stroke=\"black\" points=\"3262.01,-782.228 3254.59,-774.667 3255.68,-785.206 3262.01,-782.228\"/>\n",
       "</g>\n",
       "<!-- 192 -->\n",
       "<g id=\"node193\" class=\"node\"><title>192</title>\n",
       "<polygon fill=\"#9ccef2\" stroke=\"black\" points=\"3395,-782 3303,-782 3303,-699 3395,-699 3395,-782\"/>\n",
       "<text text-anchor=\"middle\" x=\"3349\" y=\"-766.8\" font-family=\"Times,serif\" font-size=\"14.00\">Age &lt;= 40.0</text>\n",
       "<text text-anchor=\"middle\" x=\"3349\" y=\"-751.8\" font-family=\"Times,serif\" font-size=\"14.00\">gini = 0.444</text>\n",
       "<text text-anchor=\"middle\" x=\"3349\" y=\"-736.8\" font-family=\"Times,serif\" font-size=\"14.00\">samples = 3</text>\n",
       "<text text-anchor=\"middle\" x=\"3349\" y=\"-721.8\" font-family=\"Times,serif\" font-size=\"14.00\">value = [1, 2]</text>\n",
       "<text text-anchor=\"middle\" x=\"3349\" y=\"-706.8\" font-family=\"Times,serif\" font-size=\"14.00\">class = 生还</text>\n",
       "</g>\n",
       "<!-- 190&#45;&gt;192 -->\n",
       "<g id=\"edge192\" class=\"edge\"><title>190&#45;&gt;192</title>\n",
       "<path fill=\"none\" stroke=\"black\" d=\"M3313.08,-817.907C3317.13,-809.286 3321.46,-800.09 3325.65,-791.175\"/>\n",
       "<polygon fill=\"black\" stroke=\"black\" points=\"3328.86,-792.56 3329.95,-782.021 3322.53,-789.582 3328.86,-792.56\"/>\n",
       "</g>\n",
       "<!-- 193 -->\n",
       "<g id=\"node194\" class=\"node\"><title>193</title>\n",
       "<polygon fill=\"#399de5\" stroke=\"black\" points=\"3338,-655.5 3246,-655.5 3246,-587.5 3338,-587.5 3338,-655.5\"/>\n",
       "<text text-anchor=\"middle\" x=\"3292\" y=\"-640.3\" font-family=\"Times,serif\" font-size=\"14.00\">gini = 0.0</text>\n",
       "<text text-anchor=\"middle\" x=\"3292\" y=\"-625.3\" font-family=\"Times,serif\" font-size=\"14.00\">samples = 1</text>\n",
       "<text text-anchor=\"middle\" x=\"3292\" y=\"-610.3\" font-family=\"Times,serif\" font-size=\"14.00\">value = [0, 1]</text>\n",
       "<text text-anchor=\"middle\" x=\"3292\" y=\"-595.3\" font-family=\"Times,serif\" font-size=\"14.00\">class = 生还</text>\n",
       "</g>\n",
       "<!-- 192&#45;&gt;193 -->\n",
       "<g id=\"edge193\" class=\"edge\"><title>192&#45;&gt;193</title>\n",
       "<path fill=\"none\" stroke=\"black\" d=\"M3329.22,-698.907C3323.85,-687.873 3318.01,-675.898 3312.59,-664.773\"/>\n",
       "<polygon fill=\"black\" stroke=\"black\" points=\"3315.68,-663.124 3308.16,-655.667 3309.39,-666.19 3315.68,-663.124\"/>\n",
       "</g>\n",
       "<!-- 194 -->\n",
       "<g id=\"node195\" class=\"node\"><title>194</title>\n",
       "<polygon fill=\"#ffffff\" stroke=\"black\" points=\"3457.5,-663 3356.5,-663 3356.5,-580 3457.5,-580 3457.5,-663\"/>\n",
       "<text text-anchor=\"middle\" x=\"3407\" y=\"-647.8\" font-family=\"Times,serif\" font-size=\"14.00\">Age &lt;= 44.5</text>\n",
       "<text text-anchor=\"middle\" x=\"3407\" y=\"-632.8\" font-family=\"Times,serif\" font-size=\"14.00\">gini = 0.5</text>\n",
       "<text text-anchor=\"middle\" x=\"3407\" y=\"-617.8\" font-family=\"Times,serif\" font-size=\"14.00\">samples = 2</text>\n",
       "<text text-anchor=\"middle\" x=\"3407\" y=\"-602.8\" font-family=\"Times,serif\" font-size=\"14.00\">value = [1, 1]</text>\n",
       "<text text-anchor=\"middle\" x=\"3407\" y=\"-587.8\" font-family=\"Times,serif\" font-size=\"14.00\">class = 未生还</text>\n",
       "</g>\n",
       "<!-- 192&#45;&gt;194 -->\n",
       "<g id=\"edge194\" class=\"edge\"><title>192&#45;&gt;194</title>\n",
       "<path fill=\"none\" stroke=\"black\" d=\"M3369.12,-698.907C3373.4,-690.286 3377.96,-681.09 3382.37,-672.175\"/>\n",
       "<polygon fill=\"black\" stroke=\"black\" points=\"3385.61,-673.535 3386.91,-663.021 3379.34,-670.426 3385.61,-673.535\"/>\n",
       "</g>\n",
       "<!-- 195 -->\n",
       "<g id=\"node196\" class=\"node\"><title>195</title>\n",
       "<polygon fill=\"#e58139\" stroke=\"black\" points=\"3399.5,-536.5 3298.5,-536.5 3298.5,-468.5 3399.5,-468.5 3399.5,-536.5\"/>\n",
       "<text text-anchor=\"middle\" x=\"3349\" y=\"-521.3\" font-family=\"Times,serif\" font-size=\"14.00\">gini = 0.0</text>\n",
       "<text text-anchor=\"middle\" x=\"3349\" y=\"-506.3\" font-family=\"Times,serif\" font-size=\"14.00\">samples = 1</text>\n",
       "<text text-anchor=\"middle\" x=\"3349\" y=\"-491.3\" font-family=\"Times,serif\" font-size=\"14.00\">value = [1, 0]</text>\n",
       "<text text-anchor=\"middle\" x=\"3349\" y=\"-476.3\" font-family=\"Times,serif\" font-size=\"14.00\">class = 未生还</text>\n",
       "</g>\n",
       "<!-- 194&#45;&gt;195 -->\n",
       "<g id=\"edge195\" class=\"edge\"><title>194&#45;&gt;195</title>\n",
       "<path fill=\"none\" stroke=\"black\" d=\"M3386.88,-579.907C3381.41,-568.873 3375.47,-556.898 3369.96,-545.773\"/>\n",
       "<polygon fill=\"black\" stroke=\"black\" points=\"3373.02,-544.072 3365.44,-536.667 3366.75,-547.181 3373.02,-544.072\"/>\n",
       "</g>\n",
       "<!-- 196 -->\n",
       "<g id=\"node197\" class=\"node\"><title>196</title>\n",
       "<polygon fill=\"#399de5\" stroke=\"black\" points=\"3510,-536.5 3418,-536.5 3418,-468.5 3510,-468.5 3510,-536.5\"/>\n",
       "<text text-anchor=\"middle\" x=\"3464\" y=\"-521.3\" font-family=\"Times,serif\" font-size=\"14.00\">gini = 0.0</text>\n",
       "<text text-anchor=\"middle\" x=\"3464\" y=\"-506.3\" font-family=\"Times,serif\" font-size=\"14.00\">samples = 1</text>\n",
       "<text text-anchor=\"middle\" x=\"3464\" y=\"-491.3\" font-family=\"Times,serif\" font-size=\"14.00\">value = [0, 1]</text>\n",
       "<text text-anchor=\"middle\" x=\"3464\" y=\"-476.3\" font-family=\"Times,serif\" font-size=\"14.00\">class = 生还</text>\n",
       "</g>\n",
       "<!-- 194&#45;&gt;196 -->\n",
       "<g id=\"edge196\" class=\"edge\"><title>194&#45;&gt;196</title>\n",
       "<path fill=\"none\" stroke=\"black\" d=\"M3426.78,-579.907C3432.15,-568.873 3437.99,-556.898 3443.41,-545.773\"/>\n",
       "<polygon fill=\"black\" stroke=\"black\" points=\"3446.61,-547.19 3447.84,-536.667 3440.32,-544.124 3446.61,-547.19\"/>\n",
       "</g>\n",
       "<!-- 198 -->\n",
       "<g id=\"node199\" class=\"node\"><title>198</title>\n",
       "<polygon fill=\"#e58139\" stroke=\"black\" points=\"3294.5,-1131.5 3193.5,-1131.5 3193.5,-1063.5 3294.5,-1063.5 3294.5,-1131.5\"/>\n",
       "<text text-anchor=\"middle\" x=\"3244\" y=\"-1116.3\" font-family=\"Times,serif\" font-size=\"14.00\">gini = 0.0</text>\n",
       "<text text-anchor=\"middle\" x=\"3244\" y=\"-1101.3\" font-family=\"Times,serif\" font-size=\"14.00\">samples = 1</text>\n",
       "<text text-anchor=\"middle\" x=\"3244\" y=\"-1086.3\" font-family=\"Times,serif\" font-size=\"14.00\">value = [1, 0]</text>\n",
       "<text text-anchor=\"middle\" x=\"3244\" y=\"-1071.3\" font-family=\"Times,serif\" font-size=\"14.00\">class = 未生还</text>\n",
       "</g>\n",
       "<!-- 197&#45;&gt;198 -->\n",
       "<g id=\"edge198\" class=\"edge\"><title>197&#45;&gt;198</title>\n",
       "<path fill=\"none\" stroke=\"black\" d=\"M3244,-1174.91C3244,-1164.2 3244,-1152.62 3244,-1141.78\"/>\n",
       "<polygon fill=\"black\" stroke=\"black\" points=\"3247.5,-1141.67 3244,-1131.67 3240.5,-1141.67 3247.5,-1141.67\"/>\n",
       "</g>\n",
       "<!-- 199 -->\n",
       "<g id=\"node200\" class=\"node\"><title>199</title>\n",
       "<polygon fill=\"#399de5\" stroke=\"black\" points=\"3405,-1131.5 3313,-1131.5 3313,-1063.5 3405,-1063.5 3405,-1131.5\"/>\n",
       "<text text-anchor=\"middle\" x=\"3359\" y=\"-1116.3\" font-family=\"Times,serif\" font-size=\"14.00\">gini = 0.0</text>\n",
       "<text text-anchor=\"middle\" x=\"3359\" y=\"-1101.3\" font-family=\"Times,serif\" font-size=\"14.00\">samples = 1</text>\n",
       "<text text-anchor=\"middle\" x=\"3359\" y=\"-1086.3\" font-family=\"Times,serif\" font-size=\"14.00\">value = [0, 1]</text>\n",
       "<text text-anchor=\"middle\" x=\"3359\" y=\"-1071.3\" font-family=\"Times,serif\" font-size=\"14.00\">class = 生还</text>\n",
       "</g>\n",
       "<!-- 197&#45;&gt;199 -->\n",
       "<g id=\"edge199\" class=\"edge\"><title>197&#45;&gt;199</title>\n",
       "<path fill=\"none\" stroke=\"black\" d=\"M3283.9,-1174.91C3295.29,-1163.32 3307.69,-1150.7 3319.08,-1139.11\"/>\n",
       "<polygon fill=\"black\" stroke=\"black\" points=\"3321.89,-1141.25 3326.4,-1131.67 3316.89,-1136.35 3321.89,-1141.25\"/>\n",
       "</g>\n",
       "<!-- 202 -->\n",
       "<g id=\"node203\" class=\"node\"><title>202</title>\n",
       "<polygon fill=\"#399de5\" stroke=\"black\" points=\"3466,-1369.5 3368,-1369.5 3368,-1301.5 3466,-1301.5 3466,-1369.5\"/>\n",
       "<text text-anchor=\"middle\" x=\"3417\" y=\"-1354.3\" font-family=\"Times,serif\" font-size=\"14.00\">gini = 0.0</text>\n",
       "<text text-anchor=\"middle\" x=\"3417\" y=\"-1339.3\" font-family=\"Times,serif\" font-size=\"14.00\">samples = 56</text>\n",
       "<text text-anchor=\"middle\" x=\"3417\" y=\"-1324.3\" font-family=\"Times,serif\" font-size=\"14.00\">value = [0, 56]</text>\n",
       "<text text-anchor=\"middle\" x=\"3417\" y=\"-1309.3\" font-family=\"Times,serif\" font-size=\"14.00\">class = 生还</text>\n",
       "</g>\n",
       "<!-- 201&#45;&gt;202 -->\n",
       "<g id=\"edge202\" class=\"edge\"><title>201&#45;&gt;202</title>\n",
       "<path fill=\"none\" stroke=\"black\" d=\"M3417,-1412.91C3417,-1402.2 3417,-1390.62 3417,-1379.78\"/>\n",
       "<polygon fill=\"black\" stroke=\"black\" points=\"3420.5,-1379.67 3417,-1369.67 3413.5,-1379.67 3420.5,-1379.67\"/>\n",
       "</g>\n",
       "<!-- 203 -->\n",
       "<g id=\"node204\" class=\"node\"><title>203</title>\n",
       "<polygon fill=\"#4da7e8\" stroke=\"black\" points=\"3582,-1377 3484,-1377 3484,-1294 3582,-1294 3582,-1377\"/>\n",
       "<text text-anchor=\"middle\" x=\"3533\" y=\"-1361.8\" font-family=\"Times,serif\" font-size=\"14.00\">Age &lt;= 24.5</text>\n",
       "<text text-anchor=\"middle\" x=\"3533\" y=\"-1346.8\" font-family=\"Times,serif\" font-size=\"14.00\">gini = 0.165</text>\n",
       "<text text-anchor=\"middle\" x=\"3533\" y=\"-1331.8\" font-family=\"Times,serif\" font-size=\"14.00\">samples = 11</text>\n",
       "<text text-anchor=\"middle\" x=\"3533\" y=\"-1316.8\" font-family=\"Times,serif\" font-size=\"14.00\">value = [1, 10]</text>\n",
       "<text text-anchor=\"middle\" x=\"3533\" y=\"-1301.8\" font-family=\"Times,serif\" font-size=\"14.00\">class = 生还</text>\n",
       "</g>\n",
       "<!-- 201&#45;&gt;203 -->\n",
       "<g id=\"edge203\" class=\"edge\"><title>201&#45;&gt;203</title>\n",
       "<path fill=\"none\" stroke=\"black\" d=\"M3457.25,-1412.91C3466.42,-1403.65 3476.26,-1393.73 3485.7,-1384.21\"/>\n",
       "<polygon fill=\"black\" stroke=\"black\" points=\"3488.27,-1386.59 3492.83,-1377.02 3483.3,-1381.66 3488.27,-1386.59\"/>\n",
       "</g>\n",
       "<!-- 204 -->\n",
       "<g id=\"node205\" class=\"node\"><title>204</title>\n",
       "<polygon fill=\"#399de5\" stroke=\"black\" points=\"3497,-1250.5 3405,-1250.5 3405,-1182.5 3497,-1182.5 3497,-1250.5\"/>\n",
       "<text text-anchor=\"middle\" x=\"3451\" y=\"-1235.3\" font-family=\"Times,serif\" font-size=\"14.00\">gini = 0.0</text>\n",
       "<text text-anchor=\"middle\" x=\"3451\" y=\"-1220.3\" font-family=\"Times,serif\" font-size=\"14.00\">samples = 7</text>\n",
       "<text text-anchor=\"middle\" x=\"3451\" y=\"-1205.3\" font-family=\"Times,serif\" font-size=\"14.00\">value = [0, 7]</text>\n",
       "<text text-anchor=\"middle\" x=\"3451\" y=\"-1190.3\" font-family=\"Times,serif\" font-size=\"14.00\">class = 生还</text>\n",
       "</g>\n",
       "<!-- 203&#45;&gt;204 -->\n",
       "<g id=\"edge204\" class=\"edge\"><title>203&#45;&gt;204</title>\n",
       "<path fill=\"none\" stroke=\"black\" d=\"M3504.55,-1293.91C3496.66,-1282.65 3488.09,-1270.42 3480.16,-1259.11\"/>\n",
       "<polygon fill=\"black\" stroke=\"black\" points=\"3482.85,-1256.85 3474.25,-1250.67 3477.12,-1260.86 3482.85,-1256.85\"/>\n",
       "</g>\n",
       "<!-- 205 -->\n",
       "<g id=\"node206\" class=\"node\"><title>205</title>\n",
       "<polygon fill=\"#7bbeee\" stroke=\"black\" points=\"3607,-1258 3515,-1258 3515,-1175 3607,-1175 3607,-1258\"/>\n",
       "<text text-anchor=\"middle\" x=\"3561\" y=\"-1242.8\" font-family=\"Times,serif\" font-size=\"14.00\">Age &lt;= 28.0</text>\n",
       "<text text-anchor=\"middle\" x=\"3561\" y=\"-1227.8\" font-family=\"Times,serif\" font-size=\"14.00\">gini = 0.375</text>\n",
       "<text text-anchor=\"middle\" x=\"3561\" y=\"-1212.8\" font-family=\"Times,serif\" font-size=\"14.00\">samples = 4</text>\n",
       "<text text-anchor=\"middle\" x=\"3561\" y=\"-1197.8\" font-family=\"Times,serif\" font-size=\"14.00\">value = [1, 3]</text>\n",
       "<text text-anchor=\"middle\" x=\"3561\" y=\"-1182.8\" font-family=\"Times,serif\" font-size=\"14.00\">class = 生还</text>\n",
       "</g>\n",
       "<!-- 203&#45;&gt;205 -->\n",
       "<g id=\"edge205\" class=\"edge\"><title>203&#45;&gt;205</title>\n",
       "<path fill=\"none\" stroke=\"black\" d=\"M3542.71,-1293.91C3544.71,-1285.56 3546.84,-1276.67 3548.91,-1268.02\"/>\n",
       "<polygon fill=\"black\" stroke=\"black\" points=\"3552.38,-1268.56 3551.3,-1258.02 3545.57,-1266.93 3552.38,-1268.56\"/>\n",
       "</g>\n",
       "<!-- 206 -->\n",
       "<g id=\"node207\" class=\"node\"><title>206</title>\n",
       "<polygon fill=\"#e58139\" stroke=\"black\" points=\"3524.5,-1131.5 3423.5,-1131.5 3423.5,-1063.5 3524.5,-1063.5 3524.5,-1131.5\"/>\n",
       "<text text-anchor=\"middle\" x=\"3474\" y=\"-1116.3\" font-family=\"Times,serif\" font-size=\"14.00\">gini = 0.0</text>\n",
       "<text text-anchor=\"middle\" x=\"3474\" y=\"-1101.3\" font-family=\"Times,serif\" font-size=\"14.00\">samples = 1</text>\n",
       "<text text-anchor=\"middle\" x=\"3474\" y=\"-1086.3\" font-family=\"Times,serif\" font-size=\"14.00\">value = [1, 0]</text>\n",
       "<text text-anchor=\"middle\" x=\"3474\" y=\"-1071.3\" font-family=\"Times,serif\" font-size=\"14.00\">class = 未生还</text>\n",
       "</g>\n",
       "<!-- 205&#45;&gt;206 -->\n",
       "<g id=\"edge206\" class=\"edge\"><title>205&#45;&gt;206</title>\n",
       "<path fill=\"none\" stroke=\"black\" d=\"M3530.82,-1174.91C3522.36,-1163.54 3513.17,-1151.18 3504.69,-1139.77\"/>\n",
       "<polygon fill=\"black\" stroke=\"black\" points=\"3507.44,-1137.6 3498.66,-1131.67 3501.82,-1141.78 3507.44,-1137.6\"/>\n",
       "</g>\n",
       "<!-- 207 -->\n",
       "<g id=\"node208\" class=\"node\"><title>207</title>\n",
       "<polygon fill=\"#399de5\" stroke=\"black\" points=\"3635,-1131.5 3543,-1131.5 3543,-1063.5 3635,-1063.5 3635,-1131.5\"/>\n",
       "<text text-anchor=\"middle\" x=\"3589\" y=\"-1116.3\" font-family=\"Times,serif\" font-size=\"14.00\">gini = 0.0</text>\n",
       "<text text-anchor=\"middle\" x=\"3589\" y=\"-1101.3\" font-family=\"Times,serif\" font-size=\"14.00\">samples = 3</text>\n",
       "<text text-anchor=\"middle\" x=\"3589\" y=\"-1086.3\" font-family=\"Times,serif\" font-size=\"14.00\">value = [0, 3]</text>\n",
       "<text text-anchor=\"middle\" x=\"3589\" y=\"-1071.3\" font-family=\"Times,serif\" font-size=\"14.00\">class = 生还</text>\n",
       "</g>\n",
       "<!-- 205&#45;&gt;207 -->\n",
       "<g id=\"edge207\" class=\"edge\"><title>205&#45;&gt;207</title>\n",
       "<path fill=\"none\" stroke=\"black\" d=\"M3570.71,-1174.91C3573.3,-1164.09 3576.11,-1152.38 3578.72,-1141.44\"/>\n",
       "<polygon fill=\"black\" stroke=\"black\" points=\"3582.14,-1142.21 3581.06,-1131.67 3575.33,-1140.58 3582.14,-1142.21\"/>\n",
       "</g>\n",
       "<!-- 209 -->\n",
       "<g id=\"node210\" class=\"node\"><title>209</title>\n",
       "<polygon fill=\"#e5f2fc\" stroke=\"black\" points=\"3926.5,-1615 3821.5,-1615 3821.5,-1532 3926.5,-1532 3926.5,-1615\"/>\n",
       "<text text-anchor=\"middle\" x=\"3874\" y=\"-1599.8\" font-family=\"Times,serif\" font-size=\"14.00\">Fare &lt;= 20.8</text>\n",
       "<text text-anchor=\"middle\" x=\"3874\" y=\"-1584.8\" font-family=\"Times,serif\" font-size=\"14.00\">gini = 0.498</text>\n",
       "<text text-anchor=\"middle\" x=\"3874\" y=\"-1569.8\" font-family=\"Times,serif\" font-size=\"14.00\">samples = 58</text>\n",
       "<text text-anchor=\"middle\" x=\"3874\" y=\"-1554.8\" font-family=\"Times,serif\" font-size=\"14.00\">value = [27, 31]</text>\n",
       "<text text-anchor=\"middle\" x=\"3874\" y=\"-1539.8\" font-family=\"Times,serif\" font-size=\"14.00\">class = 生还</text>\n",
       "</g>\n",
       "<!-- 208&#45;&gt;209 -->\n",
       "<g id=\"edge209\" class=\"edge\"><title>208&#45;&gt;209</title>\n",
       "<path fill=\"none\" stroke=\"black\" d=\"M3874,-1650.91C3874,-1642.65 3874,-1633.86 3874,-1625.3\"/>\n",
       "<polygon fill=\"black\" stroke=\"black\" points=\"3877.5,-1625.02 3874,-1615.02 3870.5,-1625.02 3877.5,-1625.02\"/>\n",
       "</g>\n",
       "<!-- 262 -->\n",
       "<g id=\"node263\" class=\"node\"><title>262</title>\n",
       "<polygon fill=\"#e58139\" stroke=\"black\" points=\"4045.5,-1607.5 3944.5,-1607.5 3944.5,-1539.5 4045.5,-1539.5 4045.5,-1607.5\"/>\n",
       "<text text-anchor=\"middle\" x=\"3995\" y=\"-1592.3\" font-family=\"Times,serif\" font-size=\"14.00\">gini = 0.0</text>\n",
       "<text text-anchor=\"middle\" x=\"3995\" y=\"-1577.3\" font-family=\"Times,serif\" font-size=\"14.00\">samples = 7</text>\n",
       "<text text-anchor=\"middle\" x=\"3995\" y=\"-1562.3\" font-family=\"Times,serif\" font-size=\"14.00\">value = [7, 0]</text>\n",
       "<text text-anchor=\"middle\" x=\"3995\" y=\"-1547.3\" font-family=\"Times,serif\" font-size=\"14.00\">class = 未生还</text>\n",
       "</g>\n",
       "<!-- 208&#45;&gt;262 -->\n",
       "<g id=\"edge262\" class=\"edge\"><title>208&#45;&gt;262</title>\n",
       "<path fill=\"none\" stroke=\"black\" d=\"M3915.98,-1650.91C3928.08,-1639.21 3941.27,-1626.46 3953.34,-1614.78\"/>\n",
       "<polygon fill=\"black\" stroke=\"black\" points=\"3955.94,-1617.13 3960.7,-1607.67 3951.08,-1612.1 3955.94,-1617.13\"/>\n",
       "</g>\n",
       "<!-- 210 -->\n",
       "<g id=\"node211\" class=\"node\"><title>210</title>\n",
       "<polygon fill=\"#c2e1f7\" stroke=\"black\" points=\"3926.5,-1496 3821.5,-1496 3821.5,-1413 3926.5,-1413 3926.5,-1496\"/>\n",
       "<text text-anchor=\"middle\" x=\"3874\" y=\"-1480.8\" font-family=\"Times,serif\" font-size=\"14.00\">Parch &lt;= 1.5</text>\n",
       "<text text-anchor=\"middle\" x=\"3874\" y=\"-1465.8\" font-family=\"Times,serif\" font-size=\"14.00\">gini = 0.483</text>\n",
       "<text text-anchor=\"middle\" x=\"3874\" y=\"-1450.8\" font-family=\"Times,serif\" font-size=\"14.00\">samples = 49</text>\n",
       "<text text-anchor=\"middle\" x=\"3874\" y=\"-1435.8\" font-family=\"Times,serif\" font-size=\"14.00\">value = [20, 29]</text>\n",
       "<text text-anchor=\"middle\" x=\"3874\" y=\"-1420.8\" font-family=\"Times,serif\" font-size=\"14.00\">class = 生还</text>\n",
       "</g>\n",
       "<!-- 209&#45;&gt;210 -->\n",
       "<g id=\"edge210\" class=\"edge\"><title>209&#45;&gt;210</title>\n",
       "<path fill=\"none\" stroke=\"black\" d=\"M3874,-1531.91C3874,-1523.65 3874,-1514.86 3874,-1506.3\"/>\n",
       "<polygon fill=\"black\" stroke=\"black\" points=\"3877.5,-1506.02 3874,-1496.02 3870.5,-1506.02 3877.5,-1506.02\"/>\n",
       "</g>\n",
       "<!-- 257 -->\n",
       "<g id=\"node258\" class=\"node\"><title>257</title>\n",
       "<polygon fill=\"#eca572\" stroke=\"black\" points=\"4105.5,-1496 4004.5,-1496 4004.5,-1413 4105.5,-1413 4105.5,-1496\"/>\n",
       "<text text-anchor=\"middle\" x=\"4055\" y=\"-1480.8\" font-family=\"Times,serif\" font-size=\"14.00\">Age &lt;= 6.5</text>\n",
       "<text text-anchor=\"middle\" x=\"4055\" y=\"-1465.8\" font-family=\"Times,serif\" font-size=\"14.00\">gini = 0.346</text>\n",
       "<text text-anchor=\"middle\" x=\"4055\" y=\"-1450.8\" font-family=\"Times,serif\" font-size=\"14.00\">samples = 9</text>\n",
       "<text text-anchor=\"middle\" x=\"4055\" y=\"-1435.8\" font-family=\"Times,serif\" font-size=\"14.00\">value = [7, 2]</text>\n",
       "<text text-anchor=\"middle\" x=\"4055\" y=\"-1420.8\" font-family=\"Times,serif\" font-size=\"14.00\">class = 未生还</text>\n",
       "</g>\n",
       "<!-- 209&#45;&gt;257 -->\n",
       "<g id=\"edge257\" class=\"edge\"><title>209&#45;&gt;257</title>\n",
       "<path fill=\"none\" stroke=\"black\" d=\"M3926.75,-1538.01C3929.88,-1535.97 3932.98,-1533.96 3936,-1532 3955.39,-1519.43 3976.61,-1505.77 3995.68,-1493.51\"/>\n",
       "<polygon fill=\"black\" stroke=\"black\" points=\"3997.76,-1496.34 4004.28,-1487.99 3993.97,-1490.45 3997.76,-1496.34\"/>\n",
       "</g>\n",
       "<!-- 211 -->\n",
       "<g id=\"node212\" class=\"node\"><title>211</title>\n",
       "<polygon fill=\"#deeffb\" stroke=\"black\" points=\"3869.5,-1377 3764.5,-1377 3764.5,-1294 3869.5,-1294 3869.5,-1377\"/>\n",
       "<text text-anchor=\"middle\" x=\"3817\" y=\"-1361.8\" font-family=\"Times,serif\" font-size=\"14.00\">Age &lt;= 16.5</text>\n",
       "<text text-anchor=\"middle\" x=\"3817\" y=\"-1346.8\" font-family=\"Times,serif\" font-size=\"14.00\">gini = 0.496</text>\n",
       "<text text-anchor=\"middle\" x=\"3817\" y=\"-1331.8\" font-family=\"Times,serif\" font-size=\"14.00\">samples = 44</text>\n",
       "<text text-anchor=\"middle\" x=\"3817\" y=\"-1316.8\" font-family=\"Times,serif\" font-size=\"14.00\">value = [20, 24]</text>\n",
       "<text text-anchor=\"middle\" x=\"3817\" y=\"-1301.8\" font-family=\"Times,serif\" font-size=\"14.00\">class = 生还</text>\n",
       "</g>\n",
       "<!-- 210&#45;&gt;211 -->\n",
       "<g id=\"edge211\" class=\"edge\"><title>210&#45;&gt;211</title>\n",
       "<path fill=\"none\" stroke=\"black\" d=\"M3854.22,-1412.91C3850.02,-1404.29 3845.54,-1395.09 3841.2,-1386.17\"/>\n",
       "<polygon fill=\"black\" stroke=\"black\" points=\"3844.27,-1384.48 3836.74,-1377.02 3837.97,-1387.54 3844.27,-1384.48\"/>\n",
       "</g>\n",
       "<!-- 256 -->\n",
       "<g id=\"node257\" class=\"node\"><title>256</title>\n",
       "<polygon fill=\"#399de5\" stroke=\"black\" points=\"3980,-1369.5 3888,-1369.5 3888,-1301.5 3980,-1301.5 3980,-1369.5\"/>\n",
       "<text text-anchor=\"middle\" x=\"3934\" y=\"-1354.3\" font-family=\"Times,serif\" font-size=\"14.00\">gini = 0.0</text>\n",
       "<text text-anchor=\"middle\" x=\"3934\" y=\"-1339.3\" font-family=\"Times,serif\" font-size=\"14.00\">samples = 5</text>\n",
       "<text text-anchor=\"middle\" x=\"3934\" y=\"-1324.3\" font-family=\"Times,serif\" font-size=\"14.00\">value = [0, 5]</text>\n",
       "<text text-anchor=\"middle\" x=\"3934\" y=\"-1309.3\" font-family=\"Times,serif\" font-size=\"14.00\">class = 生还</text>\n",
       "</g>\n",
       "<!-- 210&#45;&gt;256 -->\n",
       "<g id=\"edge256\" class=\"edge\"><title>210&#45;&gt;256</title>\n",
       "<path fill=\"none\" stroke=\"black\" d=\"M3894.82,-1412.91C3900.48,-1401.87 3906.62,-1389.9 3912.32,-1378.77\"/>\n",
       "<polygon fill=\"black\" stroke=\"black\" points=\"3915.54,-1380.16 3916.99,-1369.67 3909.31,-1376.97 3915.54,-1380.16\"/>\n",
       "</g>\n",
       "<!-- 212 -->\n",
       "<g id=\"node213\" class=\"node\"><title>212</title>\n",
       "<polygon fill=\"#6ab6ec\" stroke=\"black\" points=\"3861.5,-1258 3766.5,-1258 3766.5,-1175 3861.5,-1175 3861.5,-1258\"/>\n",
       "<text text-anchor=\"middle\" x=\"3814\" y=\"-1242.8\" font-family=\"Times,serif\" font-size=\"14.00\">Fare &lt;= 9.098</text>\n",
       "<text text-anchor=\"middle\" x=\"3814\" y=\"-1227.8\" font-family=\"Times,serif\" font-size=\"14.00\">gini = 0.32</text>\n",
       "<text text-anchor=\"middle\" x=\"3814\" y=\"-1212.8\" font-family=\"Times,serif\" font-size=\"14.00\">samples = 10</text>\n",
       "<text text-anchor=\"middle\" x=\"3814\" y=\"-1197.8\" font-family=\"Times,serif\" font-size=\"14.00\">value = [2, 8]</text>\n",
       "<text text-anchor=\"middle\" x=\"3814\" y=\"-1182.8\" font-family=\"Times,serif\" font-size=\"14.00\">class = 生还</text>\n",
       "</g>\n",
       "<!-- 211&#45;&gt;212 -->\n",
       "<g id=\"edge212\" class=\"edge\"><title>211&#45;&gt;212</title>\n",
       "<path fill=\"none\" stroke=\"black\" d=\"M3815.96,-1293.91C3815.75,-1285.56 3815.52,-1276.67 3815.3,-1268.02\"/>\n",
       "<polygon fill=\"black\" stroke=\"black\" points=\"3818.79,-1267.93 3815.04,-1258.02 3811.8,-1268.11 3818.79,-1267.93\"/>\n",
       "</g>\n",
       "<!-- 221 -->\n",
       "<g id=\"node222\" class=\"node\"><title>221</title>\n",
       "<polygon fill=\"#fcf1e9\" stroke=\"black\" points=\"3986.5,-1258 3881.5,-1258 3881.5,-1175 3986.5,-1175 3986.5,-1258\"/>\n",
       "<text text-anchor=\"middle\" x=\"3934\" y=\"-1242.8\" font-family=\"Times,serif\" font-size=\"14.00\">Age &lt;= 32.5</text>\n",
       "<text text-anchor=\"middle\" x=\"3934\" y=\"-1227.8\" font-family=\"Times,serif\" font-size=\"14.00\">gini = 0.498</text>\n",
       "<text text-anchor=\"middle\" x=\"3934\" y=\"-1212.8\" font-family=\"Times,serif\" font-size=\"14.00\">samples = 34</text>\n",
       "<text text-anchor=\"middle\" x=\"3934\" y=\"-1197.8\" font-family=\"Times,serif\" font-size=\"14.00\">value = [18, 16]</text>\n",
       "<text text-anchor=\"middle\" x=\"3934\" y=\"-1182.8\" font-family=\"Times,serif\" font-size=\"14.00\">class = 未生还</text>\n",
       "</g>\n",
       "<!-- 211&#45;&gt;221 -->\n",
       "<g id=\"edge221\" class=\"edge\"><title>211&#45;&gt;221</title>\n",
       "<path fill=\"none\" stroke=\"black\" d=\"M3857.59,-1293.91C3866.85,-1284.65 3876.77,-1274.73 3886.29,-1265.21\"/>\n",
       "<polygon fill=\"black\" stroke=\"black\" points=\"3888.88,-1267.57 3893.48,-1258.02 3883.93,-1262.62 3888.88,-1267.57\"/>\n",
       "</g>\n",
       "<!-- 213 -->\n",
       "<g id=\"node214\" class=\"node\"><title>213</title>\n",
       "<polygon fill=\"#399de5\" stroke=\"black\" points=\"3745,-1131.5 3653,-1131.5 3653,-1063.5 3745,-1063.5 3745,-1131.5\"/>\n",
       "<text text-anchor=\"middle\" x=\"3699\" y=\"-1116.3\" font-family=\"Times,serif\" font-size=\"14.00\">gini = 0.0</text>\n",
       "<text text-anchor=\"middle\" x=\"3699\" y=\"-1101.3\" font-family=\"Times,serif\" font-size=\"14.00\">samples = 3</text>\n",
       "<text text-anchor=\"middle\" x=\"3699\" y=\"-1086.3\" font-family=\"Times,serif\" font-size=\"14.00\">value = [0, 3]</text>\n",
       "<text text-anchor=\"middle\" x=\"3699\" y=\"-1071.3\" font-family=\"Times,serif\" font-size=\"14.00\">class = 生还</text>\n",
       "</g>\n",
       "<!-- 212&#45;&gt;213 -->\n",
       "<g id=\"edge213\" class=\"edge\"><title>212&#45;&gt;213</title>\n",
       "<path fill=\"none\" stroke=\"black\" d=\"M3774.1,-1174.91C3762.71,-1163.32 3750.31,-1150.7 3738.92,-1139.11\"/>\n",
       "<polygon fill=\"black\" stroke=\"black\" points=\"3741.11,-1136.35 3731.6,-1131.67 3736.11,-1141.25 3741.11,-1136.35\"/>\n",
       "</g>\n",
       "<!-- 214 -->\n",
       "<g id=\"node215\" class=\"node\"><title>214</title>\n",
       "<polygon fill=\"#88c4ef\" stroke=\"black\" points=\"3865,-1139 3763,-1139 3763,-1056 3865,-1056 3865,-1139\"/>\n",
       "<text text-anchor=\"middle\" x=\"3814\" y=\"-1123.8\" font-family=\"Times,serif\" font-size=\"14.00\">Fare &lt;= 11.375</text>\n",
       "<text text-anchor=\"middle\" x=\"3814\" y=\"-1108.8\" font-family=\"Times,serif\" font-size=\"14.00\">gini = 0.408</text>\n",
       "<text text-anchor=\"middle\" x=\"3814\" y=\"-1093.8\" font-family=\"Times,serif\" font-size=\"14.00\">samples = 7</text>\n",
       "<text text-anchor=\"middle\" x=\"3814\" y=\"-1078.8\" font-family=\"Times,serif\" font-size=\"14.00\">value = [2, 5]</text>\n",
       "<text text-anchor=\"middle\" x=\"3814\" y=\"-1063.8\" font-family=\"Times,serif\" font-size=\"14.00\">class = 生还</text>\n",
       "</g>\n",
       "<!-- 212&#45;&gt;214 -->\n",
       "<g id=\"edge214\" class=\"edge\"><title>212&#45;&gt;214</title>\n",
       "<path fill=\"none\" stroke=\"black\" d=\"M3814,-1174.91C3814,-1166.65 3814,-1157.86 3814,-1149.3\"/>\n",
       "<polygon fill=\"black\" stroke=\"black\" points=\"3817.5,-1149.02 3814,-1139.02 3810.5,-1149.02 3817.5,-1149.02\"/>\n",
       "</g>\n",
       "<!-- 215 -->\n",
       "<g id=\"node216\" class=\"node\"><title>215</title>\n",
       "<polygon fill=\"#e58139\" stroke=\"black\" points=\"3749.5,-1012.5 3648.5,-1012.5 3648.5,-944.5 3749.5,-944.5 3749.5,-1012.5\"/>\n",
       "<text text-anchor=\"middle\" x=\"3699\" y=\"-997.3\" font-family=\"Times,serif\" font-size=\"14.00\">gini = 0.0</text>\n",
       "<text text-anchor=\"middle\" x=\"3699\" y=\"-982.3\" font-family=\"Times,serif\" font-size=\"14.00\">samples = 1</text>\n",
       "<text text-anchor=\"middle\" x=\"3699\" y=\"-967.3\" font-family=\"Times,serif\" font-size=\"14.00\">value = [1, 0]</text>\n",
       "<text text-anchor=\"middle\" x=\"3699\" y=\"-952.3\" font-family=\"Times,serif\" font-size=\"14.00\">class = 未生还</text>\n",
       "</g>\n",
       "<!-- 214&#45;&gt;215 -->\n",
       "<g id=\"edge215\" class=\"edge\"><title>214&#45;&gt;215</title>\n",
       "<path fill=\"none\" stroke=\"black\" d=\"M3774.1,-1055.91C3762.71,-1044.32 3750.31,-1031.7 3738.92,-1020.11\"/>\n",
       "<polygon fill=\"black\" stroke=\"black\" points=\"3741.11,-1017.35 3731.6,-1012.67 3736.11,-1022.25 3741.11,-1017.35\"/>\n",
       "</g>\n",
       "<!-- 216 -->\n",
       "<g id=\"node217\" class=\"node\"><title>216</title>\n",
       "<polygon fill=\"#61b1ea\" stroke=\"black\" points=\"3860,-1020 3768,-1020 3768,-937 3860,-937 3860,-1020\"/>\n",
       "<text text-anchor=\"middle\" x=\"3814\" y=\"-1004.8\" font-family=\"Times,serif\" font-size=\"14.00\">Age &lt;= 9.25</text>\n",
       "<text text-anchor=\"middle\" x=\"3814\" y=\"-989.8\" font-family=\"Times,serif\" font-size=\"14.00\">gini = 0.278</text>\n",
       "<text text-anchor=\"middle\" x=\"3814\" y=\"-974.8\" font-family=\"Times,serif\" font-size=\"14.00\">samples = 6</text>\n",
       "<text text-anchor=\"middle\" x=\"3814\" y=\"-959.8\" font-family=\"Times,serif\" font-size=\"14.00\">value = [1, 5]</text>\n",
       "<text text-anchor=\"middle\" x=\"3814\" y=\"-944.8\" font-family=\"Times,serif\" font-size=\"14.00\">class = 生还</text>\n",
       "</g>\n",
       "<!-- 214&#45;&gt;216 -->\n",
       "<g id=\"edge216\" class=\"edge\"><title>214&#45;&gt;216</title>\n",
       "<path fill=\"none\" stroke=\"black\" d=\"M3814,-1055.91C3814,-1047.65 3814,-1038.86 3814,-1030.3\"/>\n",
       "<polygon fill=\"black\" stroke=\"black\" points=\"3817.5,-1030.02 3814,-1020.02 3810.5,-1030.02 3817.5,-1030.02\"/>\n",
       "</g>\n",
       "<!-- 217 -->\n",
       "<g id=\"node218\" class=\"node\"><title>217</title>\n",
       "<polygon fill=\"#399de5\" stroke=\"black\" points=\"3745,-893.5 3653,-893.5 3653,-825.5 3745,-825.5 3745,-893.5\"/>\n",
       "<text text-anchor=\"middle\" x=\"3699\" y=\"-878.3\" font-family=\"Times,serif\" font-size=\"14.00\">gini = 0.0</text>\n",
       "<text text-anchor=\"middle\" x=\"3699\" y=\"-863.3\" font-family=\"Times,serif\" font-size=\"14.00\">samples = 4</text>\n",
       "<text text-anchor=\"middle\" x=\"3699\" y=\"-848.3\" font-family=\"Times,serif\" font-size=\"14.00\">value = [0, 4]</text>\n",
       "<text text-anchor=\"middle\" x=\"3699\" y=\"-833.3\" font-family=\"Times,serif\" font-size=\"14.00\">class = 生还</text>\n",
       "</g>\n",
       "<!-- 216&#45;&gt;217 -->\n",
       "<g id=\"edge217\" class=\"edge\"><title>216&#45;&gt;217</title>\n",
       "<path fill=\"none\" stroke=\"black\" d=\"M3774.1,-936.907C3762.71,-925.321 3750.31,-912.698 3738.92,-901.111\"/>\n",
       "<polygon fill=\"black\" stroke=\"black\" points=\"3741.11,-898.345 3731.6,-893.667 3736.11,-903.252 3741.11,-898.345\"/>\n",
       "</g>\n",
       "<!-- 218 -->\n",
       "<g id=\"node219\" class=\"node\"><title>218</title>\n",
       "<polygon fill=\"#ffffff\" stroke=\"black\" points=\"3864.5,-901 3763.5,-901 3763.5,-818 3864.5,-818 3864.5,-901\"/>\n",
       "<text text-anchor=\"middle\" x=\"3814\" y=\"-885.8\" font-family=\"Times,serif\" font-size=\"14.00\">Age &lt;= 14.75</text>\n",
       "<text text-anchor=\"middle\" x=\"3814\" y=\"-870.8\" font-family=\"Times,serif\" font-size=\"14.00\">gini = 0.5</text>\n",
       "<text text-anchor=\"middle\" x=\"3814\" y=\"-855.8\" font-family=\"Times,serif\" font-size=\"14.00\">samples = 2</text>\n",
       "<text text-anchor=\"middle\" x=\"3814\" y=\"-840.8\" font-family=\"Times,serif\" font-size=\"14.00\">value = [1, 1]</text>\n",
       "<text text-anchor=\"middle\" x=\"3814\" y=\"-825.8\" font-family=\"Times,serif\" font-size=\"14.00\">class = 未生还</text>\n",
       "</g>\n",
       "<!-- 216&#45;&gt;218 -->\n",
       "<g id=\"edge218\" class=\"edge\"><title>216&#45;&gt;218</title>\n",
       "<path fill=\"none\" stroke=\"black\" d=\"M3814,-936.907C3814,-928.649 3814,-919.864 3814,-911.302\"/>\n",
       "<polygon fill=\"black\" stroke=\"black\" points=\"3817.5,-911.021 3814,-901.021 3810.5,-911.021 3817.5,-911.021\"/>\n",
       "</g>\n",
       "<!-- 219 -->\n",
       "<g id=\"node220\" class=\"node\"><title>219</title>\n",
       "<polygon fill=\"#e58139\" stroke=\"black\" points=\"3749.5,-774.5 3648.5,-774.5 3648.5,-706.5 3749.5,-706.5 3749.5,-774.5\"/>\n",
       "<text text-anchor=\"middle\" x=\"3699\" y=\"-759.3\" font-family=\"Times,serif\" font-size=\"14.00\">gini = 0.0</text>\n",
       "<text text-anchor=\"middle\" x=\"3699\" y=\"-744.3\" font-family=\"Times,serif\" font-size=\"14.00\">samples = 1</text>\n",
       "<text text-anchor=\"middle\" x=\"3699\" y=\"-729.3\" font-family=\"Times,serif\" font-size=\"14.00\">value = [1, 0]</text>\n",
       "<text text-anchor=\"middle\" x=\"3699\" y=\"-714.3\" font-family=\"Times,serif\" font-size=\"14.00\">class = 未生还</text>\n",
       "</g>\n",
       "<!-- 218&#45;&gt;219 -->\n",
       "<g id=\"edge219\" class=\"edge\"><title>218&#45;&gt;219</title>\n",
       "<path fill=\"none\" stroke=\"black\" d=\"M3774.1,-817.907C3762.71,-806.321 3750.31,-793.698 3738.92,-782.111\"/>\n",
       "<polygon fill=\"black\" stroke=\"black\" points=\"3741.11,-779.345 3731.6,-774.667 3736.11,-784.252 3741.11,-779.345\"/>\n",
       "</g>\n",
       "<!-- 220 -->\n",
       "<g id=\"node221\" class=\"node\"><title>220</title>\n",
       "<polygon fill=\"#399de5\" stroke=\"black\" points=\"3860,-774.5 3768,-774.5 3768,-706.5 3860,-706.5 3860,-774.5\"/>\n",
       "<text text-anchor=\"middle\" x=\"3814\" y=\"-759.3\" font-family=\"Times,serif\" font-size=\"14.00\">gini = 0.0</text>\n",
       "<text text-anchor=\"middle\" x=\"3814\" y=\"-744.3\" font-family=\"Times,serif\" font-size=\"14.00\">samples = 1</text>\n",
       "<text text-anchor=\"middle\" x=\"3814\" y=\"-729.3\" font-family=\"Times,serif\" font-size=\"14.00\">value = [0, 1]</text>\n",
       "<text text-anchor=\"middle\" x=\"3814\" y=\"-714.3\" font-family=\"Times,serif\" font-size=\"14.00\">class = 生还</text>\n",
       "</g>\n",
       "<!-- 218&#45;&gt;220 -->\n",
       "<g id=\"edge220\" class=\"edge\"><title>218&#45;&gt;220</title>\n",
       "<path fill=\"none\" stroke=\"black\" d=\"M3814,-817.907C3814,-807.204 3814,-795.615 3814,-784.776\"/>\n",
       "<polygon fill=\"black\" stroke=\"black\" points=\"3817.5,-784.667 3814,-774.667 3810.5,-784.667 3817.5,-784.667\"/>\n",
       "</g>\n",
       "<!-- 222 -->\n",
       "<g id=\"node223\" class=\"node\"><title>222</title>\n",
       "<polygon fill=\"#f8dcc8\" stroke=\"black\" points=\"3988.5,-1139 3883.5,-1139 3883.5,-1056 3988.5,-1056 3988.5,-1139\"/>\n",
       "<text text-anchor=\"middle\" x=\"3936\" y=\"-1123.8\" font-family=\"Times,serif\" font-size=\"14.00\">Fare &lt;= 7.888</text>\n",
       "<text text-anchor=\"middle\" x=\"3936\" y=\"-1108.8\" font-family=\"Times,serif\" font-size=\"14.00\">gini = 0.487</text>\n",
       "<text text-anchor=\"middle\" x=\"3936\" y=\"-1093.8\" font-family=\"Times,serif\" font-size=\"14.00\">samples = 31</text>\n",
       "<text text-anchor=\"middle\" x=\"3936\" y=\"-1078.8\" font-family=\"Times,serif\" font-size=\"14.00\">value = [18, 13]</text>\n",
       "<text text-anchor=\"middle\" x=\"3936\" y=\"-1063.8\" font-family=\"Times,serif\" font-size=\"14.00\">class = 未生还</text>\n",
       "</g>\n",
       "<!-- 221&#45;&gt;222 -->\n",
       "<g id=\"edge222\" class=\"edge\"><title>221&#45;&gt;222</title>\n",
       "<path fill=\"none\" stroke=\"black\" d=\"M3934.69,-1174.91C3934.84,-1166.56 3934.99,-1157.67 3935.14,-1149.02\"/>\n",
       "<polygon fill=\"black\" stroke=\"black\" points=\"3938.64,-1149.08 3935.31,-1139.02 3931.64,-1148.96 3938.64,-1149.08\"/>\n",
       "</g>\n",
       "<!-- 255 -->\n",
       "<g id=\"node256\" class=\"node\"><title>255</title>\n",
       "<polygon fill=\"#399de5\" stroke=\"black\" points=\"4099,-1131.5 4007,-1131.5 4007,-1063.5 4099,-1063.5 4099,-1131.5\"/>\n",
       "<text text-anchor=\"middle\" x=\"4053\" y=\"-1116.3\" font-family=\"Times,serif\" font-size=\"14.00\">gini = 0.0</text>\n",
       "<text text-anchor=\"middle\" x=\"4053\" y=\"-1101.3\" font-family=\"Times,serif\" font-size=\"14.00\">samples = 3</text>\n",
       "<text text-anchor=\"middle\" x=\"4053\" y=\"-1086.3\" font-family=\"Times,serif\" font-size=\"14.00\">value = [0, 3]</text>\n",
       "<text text-anchor=\"middle\" x=\"4053\" y=\"-1071.3\" font-family=\"Times,serif\" font-size=\"14.00\">class = 生还</text>\n",
       "</g>\n",
       "<!-- 221&#45;&gt;255 -->\n",
       "<g id=\"edge255\" class=\"edge\"><title>221&#45;&gt;255</title>\n",
       "<path fill=\"none\" stroke=\"black\" d=\"M3975.29,-1174.91C3987.18,-1163.21 4000.15,-1150.46 4012.03,-1138.78\"/>\n",
       "<polygon fill=\"black\" stroke=\"black\" points=\"4014.59,-1141.17 4019.27,-1131.67 4009.68,-1136.18 4014.59,-1141.17\"/>\n",
       "</g>\n",
       "<!-- 223 -->\n",
       "<g id=\"node224\" class=\"node\"><title>223</title>\n",
       "<polygon fill=\"#b5daf5\" stroke=\"black\" points=\"3983,-1020 3889,-1020 3889,-937 3983,-937 3983,-1020\"/>\n",
       "<text text-anchor=\"middle\" x=\"3936\" y=\"-1004.8\" font-family=\"Times,serif\" font-size=\"14.00\">Age &lt;= 26.25</text>\n",
       "<text text-anchor=\"middle\" x=\"3936\" y=\"-989.8\" font-family=\"Times,serif\" font-size=\"14.00\">gini = 0.473</text>\n",
       "<text text-anchor=\"middle\" x=\"3936\" y=\"-974.8\" font-family=\"Times,serif\" font-size=\"14.00\">samples = 13</text>\n",
       "<text text-anchor=\"middle\" x=\"3936\" y=\"-959.8\" font-family=\"Times,serif\" font-size=\"14.00\">value = [5, 8]</text>\n",
       "<text text-anchor=\"middle\" x=\"3936\" y=\"-944.8\" font-family=\"Times,serif\" font-size=\"14.00\">class = 生还</text>\n",
       "</g>\n",
       "<!-- 222&#45;&gt;223 -->\n",
       "<g id=\"edge223\" class=\"edge\"><title>222&#45;&gt;223</title>\n",
       "<path fill=\"none\" stroke=\"black\" d=\"M3936,-1055.91C3936,-1047.65 3936,-1038.86 3936,-1030.3\"/>\n",
       "<polygon fill=\"black\" stroke=\"black\" points=\"3939.5,-1030.02 3936,-1020.02 3932.5,-1030.02 3939.5,-1030.02\"/>\n",
       "</g>\n",
       "<!-- 238 -->\n",
       "<g id=\"node239\" class=\"node\"><title>238</title>\n",
       "<polygon fill=\"#efb185\" stroke=\"black\" points=\"4388,-1020 4286,-1020 4286,-937 4388,-937 4388,-1020\"/>\n",
       "<text text-anchor=\"middle\" x=\"4337\" y=\"-1004.8\" font-family=\"Times,serif\" font-size=\"14.00\">Fare &lt;= 19.262</text>\n",
       "<text text-anchor=\"middle\" x=\"4337\" y=\"-989.8\" font-family=\"Times,serif\" font-size=\"14.00\">gini = 0.401</text>\n",
       "<text text-anchor=\"middle\" x=\"4337\" y=\"-974.8\" font-family=\"Times,serif\" font-size=\"14.00\">samples = 18</text>\n",
       "<text text-anchor=\"middle\" x=\"4337\" y=\"-959.8\" font-family=\"Times,serif\" font-size=\"14.00\">value = [13, 5]</text>\n",
       "<text text-anchor=\"middle\" x=\"4337\" y=\"-944.8\" font-family=\"Times,serif\" font-size=\"14.00\">class = 未生还</text>\n",
       "</g>\n",
       "<!-- 222&#45;&gt;238 -->\n",
       "<g id=\"edge238\" class=\"edge\"><title>222&#45;&gt;238</title>\n",
       "<path fill=\"none\" stroke=\"black\" d=\"M3988.76,-1060.32C3991.83,-1058.76 3994.92,-1057.3 3998,-1056 4090.49,-1016.86 4206.03,-996.279 4275.53,-986.667\"/>\n",
       "<polygon fill=\"black\" stroke=\"black\" points=\"4276.42,-990.078 4285.87,-985.272 4275.49,-983.141 4276.42,-990.078\"/>\n",
       "</g>\n",
       "<!-- 224 -->\n",
       "<g id=\"node225\" class=\"node\"><title>224</title>\n",
       "<polygon fill=\"#83c2ef\" stroke=\"black\" points=\"3979,-901 3887,-901 3887,-818 3979,-818 3979,-901\"/>\n",
       "<text text-anchor=\"middle\" x=\"3933\" y=\"-885.8\" font-family=\"Times,serif\" font-size=\"14.00\">Age &lt;= 18.5</text>\n",
       "<text text-anchor=\"middle\" x=\"3933\" y=\"-870.8\" font-family=\"Times,serif\" font-size=\"14.00\">gini = 0.397</text>\n",
       "<text text-anchor=\"middle\" x=\"3933\" y=\"-855.8\" font-family=\"Times,serif\" font-size=\"14.00\">samples = 11</text>\n",
       "<text text-anchor=\"middle\" x=\"3933\" y=\"-840.8\" font-family=\"Times,serif\" font-size=\"14.00\">value = [3, 8]</text>\n",
       "<text text-anchor=\"middle\" x=\"3933\" y=\"-825.8\" font-family=\"Times,serif\" font-size=\"14.00\">class = 生还</text>\n",
       "</g>\n",
       "<!-- 223&#45;&gt;224 -->\n",
       "<g id=\"edge224\" class=\"edge\"><title>223&#45;&gt;224</title>\n",
       "<path fill=\"none\" stroke=\"black\" d=\"M3934.96,-936.907C3934.75,-928.558 3934.52,-919.671 3934.3,-911.02\"/>\n",
       "<polygon fill=\"black\" stroke=\"black\" points=\"3937.79,-910.928 3934.04,-901.021 3930.8,-911.107 3937.79,-910.928\"/>\n",
       "</g>\n",
       "<!-- 237 -->\n",
       "<g id=\"node238\" class=\"node\"><title>237</title>\n",
       "<polygon fill=\"#e58139\" stroke=\"black\" points=\"4098.5,-893.5 3997.5,-893.5 3997.5,-825.5 4098.5,-825.5 4098.5,-893.5\"/>\n",
       "<text text-anchor=\"middle\" x=\"4048\" y=\"-878.3\" font-family=\"Times,serif\" font-size=\"14.00\">gini = 0.0</text>\n",
       "<text text-anchor=\"middle\" x=\"4048\" y=\"-863.3\" font-family=\"Times,serif\" font-size=\"14.00\">samples = 2</text>\n",
       "<text text-anchor=\"middle\" x=\"4048\" y=\"-848.3\" font-family=\"Times,serif\" font-size=\"14.00\">value = [2, 0]</text>\n",
       "<text text-anchor=\"middle\" x=\"4048\" y=\"-833.3\" font-family=\"Times,serif\" font-size=\"14.00\">class = 未生还</text>\n",
       "</g>\n",
       "<!-- 223&#45;&gt;237 -->\n",
       "<g id=\"edge237\" class=\"edge\"><title>223&#45;&gt;237</title>\n",
       "<path fill=\"none\" stroke=\"black\" d=\"M3974.86,-936.907C3985.95,-925.321 3998.03,-912.698 4009.12,-901.111\"/>\n",
       "<polygon fill=\"black\" stroke=\"black\" points=\"4011.86,-903.311 4016.25,-893.667 4006.81,-898.47 4011.86,-903.311\"/>\n",
       "</g>\n",
       "<!-- 225 -->\n",
       "<g id=\"node226\" class=\"node\"><title>225</title>\n",
       "<polygon fill=\"#f2c09c\" stroke=\"black\" points=\"3979.5,-782 3878.5,-782 3878.5,-699 3979.5,-699 3979.5,-782\"/>\n",
       "<text text-anchor=\"middle\" x=\"3929\" y=\"-766.8\" font-family=\"Times,serif\" font-size=\"14.00\">Fare &lt;= 7.123</text>\n",
       "<text text-anchor=\"middle\" x=\"3929\" y=\"-751.8\" font-family=\"Times,serif\" font-size=\"14.00\">gini = 0.444</text>\n",
       "<text text-anchor=\"middle\" x=\"3929\" y=\"-736.8\" font-family=\"Times,serif\" font-size=\"14.00\">samples = 3</text>\n",
       "<text text-anchor=\"middle\" x=\"3929\" y=\"-721.8\" font-family=\"Times,serif\" font-size=\"14.00\">value = [2, 1]</text>\n",
       "<text text-anchor=\"middle\" x=\"3929\" y=\"-706.8\" font-family=\"Times,serif\" font-size=\"14.00\">class = 未生还</text>\n",
       "</g>\n",
       "<!-- 224&#45;&gt;225 -->\n",
       "<g id=\"edge225\" class=\"edge\"><title>224&#45;&gt;225</title>\n",
       "<path fill=\"none\" stroke=\"black\" d=\"M3931.61,-817.907C3931.33,-809.558 3931.02,-800.671 3930.73,-792.02\"/>\n",
       "<polygon fill=\"black\" stroke=\"black\" points=\"3934.23,-791.895 3930.39,-782.021 3927.23,-792.135 3934.23,-791.895\"/>\n",
       "</g>\n",
       "<!-- 230 -->\n",
       "<g id=\"node231\" class=\"node\"><title>230</title>\n",
       "<polygon fill=\"#55abe9\" stroke=\"black\" points=\"4126,-782 3998,-782 3998,-699 4126,-699 4126,-782\"/>\n",
       "<text text-anchor=\"middle\" x=\"4062\" y=\"-766.8\" font-family=\"Times,serif\" font-size=\"14.00\">Embarked_S &lt;= 0.5</text>\n",
       "<text text-anchor=\"middle\" x=\"4062\" y=\"-751.8\" font-family=\"Times,serif\" font-size=\"14.00\">gini = 0.219</text>\n",
       "<text text-anchor=\"middle\" x=\"4062\" y=\"-736.8\" font-family=\"Times,serif\" font-size=\"14.00\">samples = 8</text>\n",
       "<text text-anchor=\"middle\" x=\"4062\" y=\"-721.8\" font-family=\"Times,serif\" font-size=\"14.00\">value = [1, 7]</text>\n",
       "<text text-anchor=\"middle\" x=\"4062\" y=\"-706.8\" font-family=\"Times,serif\" font-size=\"14.00\">class = 生还</text>\n",
       "</g>\n",
       "<!-- 224&#45;&gt;230 -->\n",
       "<g id=\"edge230\" class=\"edge\"><title>224&#45;&gt;230</title>\n",
       "<path fill=\"none\" stroke=\"black\" d=\"M3977.76,-817.907C3988.06,-808.56 3999.11,-798.538 4009.71,-788.929\"/>\n",
       "<polygon fill=\"black\" stroke=\"black\" points=\"4012.27,-791.332 4017.32,-782.021 4007.56,-786.146 4012.27,-791.332\"/>\n",
       "</g>\n",
       "<!-- 226 -->\n",
       "<g id=\"node227\" class=\"node\"><title>226</title>\n",
       "<polygon fill=\"#e58139\" stroke=\"black\" points=\"3860.5,-655.5 3759.5,-655.5 3759.5,-587.5 3860.5,-587.5 3860.5,-655.5\"/>\n",
       "<text text-anchor=\"middle\" x=\"3810\" y=\"-640.3\" font-family=\"Times,serif\" font-size=\"14.00\">gini = 0.0</text>\n",
       "<text text-anchor=\"middle\" x=\"3810\" y=\"-625.3\" font-family=\"Times,serif\" font-size=\"14.00\">samples = 1</text>\n",
       "<text text-anchor=\"middle\" x=\"3810\" y=\"-610.3\" font-family=\"Times,serif\" font-size=\"14.00\">value = [1, 0]</text>\n",
       "<text text-anchor=\"middle\" x=\"3810\" y=\"-595.3\" font-family=\"Times,serif\" font-size=\"14.00\">class = 未生还</text>\n",
       "</g>\n",
       "<!-- 225&#45;&gt;226 -->\n",
       "<g id=\"edge226\" class=\"edge\"><title>225&#45;&gt;226</title>\n",
       "<path fill=\"none\" stroke=\"black\" d=\"M3887.71,-698.907C3875.82,-687.211 3862.85,-674.457 3850.97,-662.78\"/>\n",
       "<polygon fill=\"black\" stroke=\"black\" points=\"3853.32,-660.182 3843.73,-655.667 3848.41,-665.174 3853.32,-660.182\"/>\n",
       "</g>\n",
       "<!-- 227 -->\n",
       "<g id=\"node228\" class=\"node\"><title>227</title>\n",
       "<polygon fill=\"#ffffff\" stroke=\"black\" points=\"3979.5,-663 3878.5,-663 3878.5,-580 3979.5,-580 3979.5,-663\"/>\n",
       "<text text-anchor=\"middle\" x=\"3929\" y=\"-647.8\" font-family=\"Times,serif\" font-size=\"14.00\">Fare &lt;= 7.635</text>\n",
       "<text text-anchor=\"middle\" x=\"3929\" y=\"-632.8\" font-family=\"Times,serif\" font-size=\"14.00\">gini = 0.5</text>\n",
       "<text text-anchor=\"middle\" x=\"3929\" y=\"-617.8\" font-family=\"Times,serif\" font-size=\"14.00\">samples = 2</text>\n",
       "<text text-anchor=\"middle\" x=\"3929\" y=\"-602.8\" font-family=\"Times,serif\" font-size=\"14.00\">value = [1, 1]</text>\n",
       "<text text-anchor=\"middle\" x=\"3929\" y=\"-587.8\" font-family=\"Times,serif\" font-size=\"14.00\">class = 未生还</text>\n",
       "</g>\n",
       "<!-- 225&#45;&gt;227 -->\n",
       "<g id=\"edge227\" class=\"edge\"><title>225&#45;&gt;227</title>\n",
       "<path fill=\"none\" stroke=\"black\" d=\"M3929,-698.907C3929,-690.649 3929,-681.864 3929,-673.302\"/>\n",
       "<polygon fill=\"black\" stroke=\"black\" points=\"3932.5,-673.021 3929,-663.021 3925.5,-673.021 3932.5,-673.021\"/>\n",
       "</g>\n",
       "<!-- 228 -->\n",
       "<g id=\"node229\" class=\"node\"><title>228</title>\n",
       "<polygon fill=\"#399de5\" stroke=\"black\" points=\"3860,-536.5 3768,-536.5 3768,-468.5 3860,-468.5 3860,-536.5\"/>\n",
       "<text text-anchor=\"middle\" x=\"3814\" y=\"-521.3\" font-family=\"Times,serif\" font-size=\"14.00\">gini = 0.0</text>\n",
       "<text text-anchor=\"middle\" x=\"3814\" y=\"-506.3\" font-family=\"Times,serif\" font-size=\"14.00\">samples = 1</text>\n",
       "<text text-anchor=\"middle\" x=\"3814\" y=\"-491.3\" font-family=\"Times,serif\" font-size=\"14.00\">value = [0, 1]</text>\n",
       "<text text-anchor=\"middle\" x=\"3814\" y=\"-476.3\" font-family=\"Times,serif\" font-size=\"14.00\">class = 生还</text>\n",
       "</g>\n",
       "<!-- 227&#45;&gt;228 -->\n",
       "<g id=\"edge228\" class=\"edge\"><title>227&#45;&gt;228</title>\n",
       "<path fill=\"none\" stroke=\"black\" d=\"M3889.1,-579.907C3877.71,-568.321 3865.31,-555.698 3853.92,-544.111\"/>\n",
       "<polygon fill=\"black\" stroke=\"black\" points=\"3856.11,-541.345 3846.6,-536.667 3851.11,-546.252 3856.11,-541.345\"/>\n",
       "</g>\n",
       "<!-- 229 -->\n",
       "<g id=\"node230\" class=\"node\"><title>229</title>\n",
       "<polygon fill=\"#e58139\" stroke=\"black\" points=\"3979.5,-536.5 3878.5,-536.5 3878.5,-468.5 3979.5,-468.5 3979.5,-536.5\"/>\n",
       "<text text-anchor=\"middle\" x=\"3929\" y=\"-521.3\" font-family=\"Times,serif\" font-size=\"14.00\">gini = 0.0</text>\n",
       "<text text-anchor=\"middle\" x=\"3929\" y=\"-506.3\" font-family=\"Times,serif\" font-size=\"14.00\">samples = 1</text>\n",
       "<text text-anchor=\"middle\" x=\"3929\" y=\"-491.3\" font-family=\"Times,serif\" font-size=\"14.00\">value = [1, 0]</text>\n",
       "<text text-anchor=\"middle\" x=\"3929\" y=\"-476.3\" font-family=\"Times,serif\" font-size=\"14.00\">class = 未生还</text>\n",
       "</g>\n",
       "<!-- 227&#45;&gt;229 -->\n",
       "<g id=\"edge229\" class=\"edge\"><title>227&#45;&gt;229</title>\n",
       "<path fill=\"none\" stroke=\"black\" d=\"M3929,-579.907C3929,-569.204 3929,-557.615 3929,-546.776\"/>\n",
       "<polygon fill=\"black\" stroke=\"black\" points=\"3932.5,-546.667 3929,-536.667 3925.5,-546.667 3932.5,-546.667\"/>\n",
       "</g>\n",
       "<!-- 231 -->\n",
       "<g id=\"node232\" class=\"node\"><title>231</title>\n",
       "<polygon fill=\"#9ccef2\" stroke=\"black\" points=\"4099,-663 4007,-663 4007,-580 4099,-580 4099,-663\"/>\n",
       "<text text-anchor=\"middle\" x=\"4053\" y=\"-647.8\" font-family=\"Times,serif\" font-size=\"14.00\">Age &lt;= 20.0</text>\n",
       "<text text-anchor=\"middle\" x=\"4053\" y=\"-632.8\" font-family=\"Times,serif\" font-size=\"14.00\">gini = 0.444</text>\n",
       "<text text-anchor=\"middle\" x=\"4053\" y=\"-617.8\" font-family=\"Times,serif\" font-size=\"14.00\">samples = 3</text>\n",
       "<text text-anchor=\"middle\" x=\"4053\" y=\"-602.8\" font-family=\"Times,serif\" font-size=\"14.00\">value = [1, 2]</text>\n",
       "<text text-anchor=\"middle\" x=\"4053\" y=\"-587.8\" font-family=\"Times,serif\" font-size=\"14.00\">class = 生还</text>\n",
       "</g>\n",
       "<!-- 230&#45;&gt;231 -->\n",
       "<g id=\"edge231\" class=\"edge\"><title>230&#45;&gt;231</title>\n",
       "<path fill=\"none\" stroke=\"black\" d=\"M4058.88,-698.907C4058.24,-690.558 4057.55,-681.671 4056.89,-673.02\"/>\n",
       "<polygon fill=\"black\" stroke=\"black\" points=\"4060.37,-672.723 4056.12,-663.021 4053.39,-673.26 4060.37,-672.723\"/>\n",
       "</g>\n",
       "<!-- 236 -->\n",
       "<g id=\"node237\" class=\"node\"><title>236</title>\n",
       "<polygon fill=\"#399de5\" stroke=\"black\" points=\"4209,-655.5 4117,-655.5 4117,-587.5 4209,-587.5 4209,-655.5\"/>\n",
       "<text text-anchor=\"middle\" x=\"4163\" y=\"-640.3\" font-family=\"Times,serif\" font-size=\"14.00\">gini = 0.0</text>\n",
       "<text text-anchor=\"middle\" x=\"4163\" y=\"-625.3\" font-family=\"Times,serif\" font-size=\"14.00\">samples = 5</text>\n",
       "<text text-anchor=\"middle\" x=\"4163\" y=\"-610.3\" font-family=\"Times,serif\" font-size=\"14.00\">value = [0, 5]</text>\n",
       "<text text-anchor=\"middle\" x=\"4163\" y=\"-595.3\" font-family=\"Times,serif\" font-size=\"14.00\">class = 生还</text>\n",
       "</g>\n",
       "<!-- 230&#45;&gt;236 -->\n",
       "<g id=\"edge236\" class=\"edge\"><title>230&#45;&gt;236</title>\n",
       "<path fill=\"none\" stroke=\"black\" d=\"M4097.04,-698.907C4106.95,-687.432 4117.73,-674.938 4127.66,-663.442\"/>\n",
       "<polygon fill=\"black\" stroke=\"black\" points=\"4130.48,-665.524 4134.37,-655.667 4125.18,-660.95 4130.48,-665.524\"/>\n",
       "</g>\n",
       "<!-- 232 -->\n",
       "<g id=\"node233\" class=\"node\"><title>232</title>\n",
       "<polygon fill=\"#399de5\" stroke=\"black\" points=\"4090,-536.5 3998,-536.5 3998,-468.5 4090,-468.5 4090,-536.5\"/>\n",
       "<text text-anchor=\"middle\" x=\"4044\" y=\"-521.3\" font-family=\"Times,serif\" font-size=\"14.00\">gini = 0.0</text>\n",
       "<text text-anchor=\"middle\" x=\"4044\" y=\"-506.3\" font-family=\"Times,serif\" font-size=\"14.00\">samples = 1</text>\n",
       "<text text-anchor=\"middle\" x=\"4044\" y=\"-491.3\" font-family=\"Times,serif\" font-size=\"14.00\">value = [0, 1]</text>\n",
       "<text text-anchor=\"middle\" x=\"4044\" y=\"-476.3\" font-family=\"Times,serif\" font-size=\"14.00\">class = 生还</text>\n",
       "</g>\n",
       "<!-- 231&#45;&gt;232 -->\n",
       "<g id=\"edge232\" class=\"edge\"><title>231&#45;&gt;232</title>\n",
       "<path fill=\"none\" stroke=\"black\" d=\"M4049.88,-579.907C4049.05,-569.204 4048.16,-557.615 4047.33,-546.776\"/>\n",
       "<polygon fill=\"black\" stroke=\"black\" points=\"4050.81,-546.369 4046.55,-536.667 4043.83,-546.906 4050.81,-546.369\"/>\n",
       "</g>\n",
       "<!-- 233 -->\n",
       "<g id=\"node234\" class=\"node\"><title>233</title>\n",
       "<polygon fill=\"#ffffff\" stroke=\"black\" points=\"4209.5,-544 4108.5,-544 4108.5,-461 4209.5,-461 4209.5,-544\"/>\n",
       "<text text-anchor=\"middle\" x=\"4159\" y=\"-528.8\" font-family=\"Times,serif\" font-size=\"14.00\">Age &lt;= 21.5</text>\n",
       "<text text-anchor=\"middle\" x=\"4159\" y=\"-513.8\" font-family=\"Times,serif\" font-size=\"14.00\">gini = 0.5</text>\n",
       "<text text-anchor=\"middle\" x=\"4159\" y=\"-498.8\" font-family=\"Times,serif\" font-size=\"14.00\">samples = 2</text>\n",
       "<text text-anchor=\"middle\" x=\"4159\" y=\"-483.8\" font-family=\"Times,serif\" font-size=\"14.00\">value = [1, 1]</text>\n",
       "<text text-anchor=\"middle\" x=\"4159\" y=\"-468.8\" font-family=\"Times,serif\" font-size=\"14.00\">class = 未生还</text>\n",
       "</g>\n",
       "<!-- 231&#45;&gt;233 -->\n",
       "<g id=\"edge233\" class=\"edge\"><title>231&#45;&gt;233</title>\n",
       "<path fill=\"none\" stroke=\"black\" d=\"M4089.78,-579.907C4098.08,-570.742 4106.97,-560.927 4115.52,-551.489\"/>\n",
       "<polygon fill=\"black\" stroke=\"black\" points=\"4118.17,-553.782 4122.29,-544.021 4112.98,-549.082 4118.17,-553.782\"/>\n",
       "</g>\n",
       "<!-- 234 -->\n",
       "<g id=\"node235\" class=\"node\"><title>234</title>\n",
       "<polygon fill=\"#e58139\" stroke=\"black\" points=\"4095.5,-417.5 3994.5,-417.5 3994.5,-349.5 4095.5,-349.5 4095.5,-417.5\"/>\n",
       "<text text-anchor=\"middle\" x=\"4045\" y=\"-402.3\" font-family=\"Times,serif\" font-size=\"14.00\">gini = 0.0</text>\n",
       "<text text-anchor=\"middle\" x=\"4045\" y=\"-387.3\" font-family=\"Times,serif\" font-size=\"14.00\">samples = 1</text>\n",
       "<text text-anchor=\"middle\" x=\"4045\" y=\"-372.3\" font-family=\"Times,serif\" font-size=\"14.00\">value = [1, 0]</text>\n",
       "<text text-anchor=\"middle\" x=\"4045\" y=\"-357.3\" font-family=\"Times,serif\" font-size=\"14.00\">class = 未生还</text>\n",
       "</g>\n",
       "<!-- 233&#45;&gt;234 -->\n",
       "<g id=\"edge234\" class=\"edge\"><title>233&#45;&gt;234</title>\n",
       "<path fill=\"none\" stroke=\"black\" d=\"M4119.45,-460.907C4108.16,-449.321 4095.86,-436.698 4084.57,-425.111\"/>\n",
       "<polygon fill=\"black\" stroke=\"black\" points=\"4086.8,-422.387 4077.32,-417.667 4081.79,-427.272 4086.8,-422.387\"/>\n",
       "</g>\n",
       "<!-- 235 -->\n",
       "<g id=\"node236\" class=\"node\"><title>235</title>\n",
       "<polygon fill=\"#399de5\" stroke=\"black\" points=\"4206,-417.5 4114,-417.5 4114,-349.5 4206,-349.5 4206,-417.5\"/>\n",
       "<text text-anchor=\"middle\" x=\"4160\" y=\"-402.3\" font-family=\"Times,serif\" font-size=\"14.00\">gini = 0.0</text>\n",
       "<text text-anchor=\"middle\" x=\"4160\" y=\"-387.3\" font-family=\"Times,serif\" font-size=\"14.00\">samples = 1</text>\n",
       "<text text-anchor=\"middle\" x=\"4160\" y=\"-372.3\" font-family=\"Times,serif\" font-size=\"14.00\">value = [0, 1]</text>\n",
       "<text text-anchor=\"middle\" x=\"4160\" y=\"-357.3\" font-family=\"Times,serif\" font-size=\"14.00\">class = 生还</text>\n",
       "</g>\n",
       "<!-- 233&#45;&gt;235 -->\n",
       "<g id=\"edge235\" class=\"edge\"><title>233&#45;&gt;235</title>\n",
       "<path fill=\"none\" stroke=\"black\" d=\"M4159.35,-460.907C4159.44,-450.204 4159.54,-438.615 4159.63,-427.776\"/>\n",
       "<polygon fill=\"black\" stroke=\"black\" points=\"4163.13,-427.697 4159.72,-417.667 4156.13,-427.637 4163.13,-427.697\"/>\n",
       "</g>\n",
       "<!-- 239 -->\n",
       "<g id=\"node240\" class=\"node\"><title>239</title>\n",
       "<polygon fill=\"#eda876\" stroke=\"black\" points=\"4387.5,-901 4286.5,-901 4286.5,-818 4387.5,-818 4387.5,-901\"/>\n",
       "<text text-anchor=\"middle\" x=\"4337\" y=\"-885.8\" font-family=\"Times,serif\" font-size=\"14.00\">Parch &lt;= 0.5</text>\n",
       "<text text-anchor=\"middle\" x=\"4337\" y=\"-870.8\" font-family=\"Times,serif\" font-size=\"14.00\">gini = 0.36</text>\n",
       "<text text-anchor=\"middle\" x=\"4337\" y=\"-855.8\" font-family=\"Times,serif\" font-size=\"14.00\">samples = 17</text>\n",
       "<text text-anchor=\"middle\" x=\"4337\" y=\"-840.8\" font-family=\"Times,serif\" font-size=\"14.00\">value = [13, 4]</text>\n",
       "<text text-anchor=\"middle\" x=\"4337\" y=\"-825.8\" font-family=\"Times,serif\" font-size=\"14.00\">class = 未生还</text>\n",
       "</g>\n",
       "<!-- 238&#45;&gt;239 -->\n",
       "<g id=\"edge239\" class=\"edge\"><title>238&#45;&gt;239</title>\n",
       "<path fill=\"none\" stroke=\"black\" d=\"M4337,-936.907C4337,-928.649 4337,-919.864 4337,-911.302\"/>\n",
       "<polygon fill=\"black\" stroke=\"black\" points=\"4340.5,-911.021 4337,-901.021 4333.5,-911.021 4340.5,-911.021\"/>\n",
       "</g>\n",
       "<!-- 254 -->\n",
       "<g id=\"node255\" class=\"node\"><title>254</title>\n",
       "<polygon fill=\"#399de5\" stroke=\"black\" points=\"4498,-893.5 4406,-893.5 4406,-825.5 4498,-825.5 4498,-893.5\"/>\n",
       "<text text-anchor=\"middle\" x=\"4452\" y=\"-878.3\" font-family=\"Times,serif\" font-size=\"14.00\">gini = 0.0</text>\n",
       "<text text-anchor=\"middle\" x=\"4452\" y=\"-863.3\" font-family=\"Times,serif\" font-size=\"14.00\">samples = 1</text>\n",
       "<text text-anchor=\"middle\" x=\"4452\" y=\"-848.3\" font-family=\"Times,serif\" font-size=\"14.00\">value = [0, 1]</text>\n",
       "<text text-anchor=\"middle\" x=\"4452\" y=\"-833.3\" font-family=\"Times,serif\" font-size=\"14.00\">class = 生还</text>\n",
       "</g>\n",
       "<!-- 238&#45;&gt;254 -->\n",
       "<g id=\"edge254\" class=\"edge\"><title>238&#45;&gt;254</title>\n",
       "<path fill=\"none\" stroke=\"black\" d=\"M4376.9,-936.907C4388.29,-925.321 4400.69,-912.698 4412.08,-901.111\"/>\n",
       "<polygon fill=\"black\" stroke=\"black\" points=\"4414.89,-903.252 4419.4,-893.667 4409.89,-898.345 4414.89,-903.252\"/>\n",
       "</g>\n",
       "<!-- 240 -->\n",
       "<g id=\"node241\" class=\"node\"><title>240</title>\n",
       "<polygon fill=\"#f1b991\" stroke=\"black\" points=\"4387.5,-782 4286.5,-782 4286.5,-699 4387.5,-699 4387.5,-782\"/>\n",
       "<text text-anchor=\"middle\" x=\"4337\" y=\"-766.8\" font-family=\"Times,serif\" font-size=\"14.00\">Age &lt;= 23.0</text>\n",
       "<text text-anchor=\"middle\" x=\"4337\" y=\"-751.8\" font-family=\"Times,serif\" font-size=\"14.00\">gini = 0.426</text>\n",
       "<text text-anchor=\"middle\" x=\"4337\" y=\"-736.8\" font-family=\"Times,serif\" font-size=\"14.00\">samples = 13</text>\n",
       "<text text-anchor=\"middle\" x=\"4337\" y=\"-721.8\" font-family=\"Times,serif\" font-size=\"14.00\">value = [9, 4]</text>\n",
       "<text text-anchor=\"middle\" x=\"4337\" y=\"-706.8\" font-family=\"Times,serif\" font-size=\"14.00\">class = 未生还</text>\n",
       "</g>\n",
       "<!-- 239&#45;&gt;240 -->\n",
       "<g id=\"edge240\" class=\"edge\"><title>239&#45;&gt;240</title>\n",
       "<path fill=\"none\" stroke=\"black\" d=\"M4337,-817.907C4337,-809.649 4337,-800.864 4337,-792.302\"/>\n",
       "<polygon fill=\"black\" stroke=\"black\" points=\"4340.5,-792.021 4337,-782.021 4333.5,-792.021 4340.5,-792.021\"/>\n",
       "</g>\n",
       "<!-- 253 -->\n",
       "<g id=\"node254\" class=\"node\"><title>253</title>\n",
       "<polygon fill=\"#e58139\" stroke=\"black\" points=\"4506.5,-774.5 4405.5,-774.5 4405.5,-706.5 4506.5,-706.5 4506.5,-774.5\"/>\n",
       "<text text-anchor=\"middle\" x=\"4456\" y=\"-759.3\" font-family=\"Times,serif\" font-size=\"14.00\">gini = 0.0</text>\n",
       "<text text-anchor=\"middle\" x=\"4456\" y=\"-744.3\" font-family=\"Times,serif\" font-size=\"14.00\">samples = 4</text>\n",
       "<text text-anchor=\"middle\" x=\"4456\" y=\"-729.3\" font-family=\"Times,serif\" font-size=\"14.00\">value = [4, 0]</text>\n",
       "<text text-anchor=\"middle\" x=\"4456\" y=\"-714.3\" font-family=\"Times,serif\" font-size=\"14.00\">class = 未生还</text>\n",
       "</g>\n",
       "<!-- 239&#45;&gt;253 -->\n",
       "<g id=\"edge253\" class=\"edge\"><title>239&#45;&gt;253</title>\n",
       "<path fill=\"none\" stroke=\"black\" d=\"M4378.29,-817.907C4390.18,-806.211 4403.15,-793.457 4415.03,-781.78\"/>\n",
       "<polygon fill=\"black\" stroke=\"black\" points=\"4417.59,-784.174 4422.27,-774.667 4412.68,-779.182 4417.59,-784.174\"/>\n",
       "</g>\n",
       "<!-- 241 -->\n",
       "<g id=\"node242\" class=\"node\"><title>241</title>\n",
       "<polygon fill=\"#e9965a\" stroke=\"black\" points=\"4388,-663 4286,-663 4286,-580 4388,-580 4388,-663\"/>\n",
       "<text text-anchor=\"middle\" x=\"4337\" y=\"-647.8\" font-family=\"Times,serif\" font-size=\"14.00\">Fare &lt;= 10.179</text>\n",
       "<text text-anchor=\"middle\" x=\"4337\" y=\"-632.8\" font-family=\"Times,serif\" font-size=\"14.00\">gini = 0.245</text>\n",
       "<text text-anchor=\"middle\" x=\"4337\" y=\"-617.8\" font-family=\"Times,serif\" font-size=\"14.00\">samples = 7</text>\n",
       "<text text-anchor=\"middle\" x=\"4337\" y=\"-602.8\" font-family=\"Times,serif\" font-size=\"14.00\">value = [6, 1]</text>\n",
       "<text text-anchor=\"middle\" x=\"4337\" y=\"-587.8\" font-family=\"Times,serif\" font-size=\"14.00\">class = 未生还</text>\n",
       "</g>\n",
       "<!-- 240&#45;&gt;241 -->\n",
       "<g id=\"edge241\" class=\"edge\"><title>240&#45;&gt;241</title>\n",
       "<path fill=\"none\" stroke=\"black\" d=\"M4337,-698.907C4337,-690.649 4337,-681.864 4337,-673.302\"/>\n",
       "<polygon fill=\"black\" stroke=\"black\" points=\"4340.5,-673.021 4337,-663.021 4333.5,-673.021 4340.5,-673.021\"/>\n",
       "</g>\n",
       "<!-- 246 -->\n",
       "<g id=\"node247\" class=\"node\"><title>246</title>\n",
       "<polygon fill=\"#ffffff\" stroke=\"black\" points=\"4567,-663 4465,-663 4465,-580 4567,-580 4567,-663\"/>\n",
       "<text text-anchor=\"middle\" x=\"4516\" y=\"-647.8\" font-family=\"Times,serif\" font-size=\"14.00\">Fare &lt;= 10.569</text>\n",
       "<text text-anchor=\"middle\" x=\"4516\" y=\"-632.8\" font-family=\"Times,serif\" font-size=\"14.00\">gini = 0.5</text>\n",
       "<text text-anchor=\"middle\" x=\"4516\" y=\"-617.8\" font-family=\"Times,serif\" font-size=\"14.00\">samples = 6</text>\n",
       "<text text-anchor=\"middle\" x=\"4516\" y=\"-602.8\" font-family=\"Times,serif\" font-size=\"14.00\">value = [3, 3]</text>\n",
       "<text text-anchor=\"middle\" x=\"4516\" y=\"-587.8\" font-family=\"Times,serif\" font-size=\"14.00\">class = 未生还</text>\n",
       "</g>\n",
       "<!-- 240&#45;&gt;246 -->\n",
       "<g id=\"edge246\" class=\"edge\"><title>240&#45;&gt;246</title>\n",
       "<path fill=\"none\" stroke=\"black\" d=\"M4387.69,-705.171C4390.83,-703.076 4393.96,-701.005 4397,-699 4416.21,-686.345 4437.29,-672.711 4456.3,-660.507\"/>\n",
       "<polygon fill=\"black\" stroke=\"black\" points=\"4458.35,-663.353 4464.88,-655.01 4454.57,-657.46 4458.35,-663.353\"/>\n",
       "</g>\n",
       "<!-- 242 -->\n",
       "<g id=\"node243\" class=\"node\"><title>242</title>\n",
       "<polygon fill=\"#f2c09c\" stroke=\"black\" points=\"4328.5,-544 4227.5,-544 4227.5,-461 4328.5,-461 4328.5,-544\"/>\n",
       "<text text-anchor=\"middle\" x=\"4278\" y=\"-528.8\" font-family=\"Times,serif\" font-size=\"14.00\">Fare &lt;= 9.84</text>\n",
       "<text text-anchor=\"middle\" x=\"4278\" y=\"-513.8\" font-family=\"Times,serif\" font-size=\"14.00\">gini = 0.444</text>\n",
       "<text text-anchor=\"middle\" x=\"4278\" y=\"-498.8\" font-family=\"Times,serif\" font-size=\"14.00\">samples = 3</text>\n",
       "<text text-anchor=\"middle\" x=\"4278\" y=\"-483.8\" font-family=\"Times,serif\" font-size=\"14.00\">value = [2, 1]</text>\n",
       "<text text-anchor=\"middle\" x=\"4278\" y=\"-468.8\" font-family=\"Times,serif\" font-size=\"14.00\">class = 未生还</text>\n",
       "</g>\n",
       "<!-- 241&#45;&gt;242 -->\n",
       "<g id=\"edge242\" class=\"edge\"><title>241&#45;&gt;242</title>\n",
       "<path fill=\"none\" stroke=\"black\" d=\"M4316.53,-579.907C4312.18,-571.286 4307.55,-562.09 4303.05,-553.175\"/>\n",
       "<polygon fill=\"black\" stroke=\"black\" points=\"4306.06,-551.374 4298.43,-544.021 4299.81,-554.526 4306.06,-551.374\"/>\n",
       "</g>\n",
       "<!-- 245 -->\n",
       "<g id=\"node246\" class=\"node\"><title>245</title>\n",
       "<polygon fill=\"#e58139\" stroke=\"black\" points=\"4447.5,-536.5 4346.5,-536.5 4346.5,-468.5 4447.5,-468.5 4447.5,-536.5\"/>\n",
       "<text text-anchor=\"middle\" x=\"4397\" y=\"-521.3\" font-family=\"Times,serif\" font-size=\"14.00\">gini = 0.0</text>\n",
       "<text text-anchor=\"middle\" x=\"4397\" y=\"-506.3\" font-family=\"Times,serif\" font-size=\"14.00\">samples = 4</text>\n",
       "<text text-anchor=\"middle\" x=\"4397\" y=\"-491.3\" font-family=\"Times,serif\" font-size=\"14.00\">value = [4, 0]</text>\n",
       "<text text-anchor=\"middle\" x=\"4397\" y=\"-476.3\" font-family=\"Times,serif\" font-size=\"14.00\">class = 未生还</text>\n",
       "</g>\n",
       "<!-- 241&#45;&gt;245 -->\n",
       "<g id=\"edge245\" class=\"edge\"><title>241&#45;&gt;245</title>\n",
       "<path fill=\"none\" stroke=\"black\" d=\"M4357.82,-579.907C4363.48,-568.873 4369.62,-556.898 4375.32,-545.773\"/>\n",
       "<polygon fill=\"black\" stroke=\"black\" points=\"4378.54,-547.162 4379.99,-536.667 4372.31,-543.968 4378.54,-547.162\"/>\n",
       "</g>\n",
       "<!-- 243 -->\n",
       "<g id=\"node244\" class=\"node\"><title>243</title>\n",
       "<polygon fill=\"#e58139\" stroke=\"black\" points=\"4327.5,-417.5 4226.5,-417.5 4226.5,-349.5 4327.5,-349.5 4327.5,-417.5\"/>\n",
       "<text text-anchor=\"middle\" x=\"4277\" y=\"-402.3\" font-family=\"Times,serif\" font-size=\"14.00\">gini = 0.0</text>\n",
       "<text text-anchor=\"middle\" x=\"4277\" y=\"-387.3\" font-family=\"Times,serif\" font-size=\"14.00\">samples = 2</text>\n",
       "<text text-anchor=\"middle\" x=\"4277\" y=\"-372.3\" font-family=\"Times,serif\" font-size=\"14.00\">value = [2, 0]</text>\n",
       "<text text-anchor=\"middle\" x=\"4277\" y=\"-357.3\" font-family=\"Times,serif\" font-size=\"14.00\">class = 未生还</text>\n",
       "</g>\n",
       "<!-- 242&#45;&gt;243 -->\n",
       "<g id=\"edge243\" class=\"edge\"><title>242&#45;&gt;243</title>\n",
       "<path fill=\"none\" stroke=\"black\" d=\"M4277.65,-460.907C4277.56,-450.204 4277.46,-438.615 4277.37,-427.776\"/>\n",
       "<polygon fill=\"black\" stroke=\"black\" points=\"4280.87,-427.637 4277.28,-417.667 4273.87,-427.697 4280.87,-427.637\"/>\n",
       "</g>\n",
       "<!-- 244 -->\n",
       "<g id=\"node245\" class=\"node\"><title>244</title>\n",
       "<polygon fill=\"#399de5\" stroke=\"black\" points=\"4438,-417.5 4346,-417.5 4346,-349.5 4438,-349.5 4438,-417.5\"/>\n",
       "<text text-anchor=\"middle\" x=\"4392\" y=\"-402.3\" font-family=\"Times,serif\" font-size=\"14.00\">gini = 0.0</text>\n",
       "<text text-anchor=\"middle\" x=\"4392\" y=\"-387.3\" font-family=\"Times,serif\" font-size=\"14.00\">samples = 1</text>\n",
       "<text text-anchor=\"middle\" x=\"4392\" y=\"-372.3\" font-family=\"Times,serif\" font-size=\"14.00\">value = [0, 1]</text>\n",
       "<text text-anchor=\"middle\" x=\"4392\" y=\"-357.3\" font-family=\"Times,serif\" font-size=\"14.00\">class = 生还</text>\n",
       "</g>\n",
       "<!-- 242&#45;&gt;244 -->\n",
       "<g id=\"edge244\" class=\"edge\"><title>242&#45;&gt;244</title>\n",
       "<path fill=\"none\" stroke=\"black\" d=\"M4317.55,-460.907C4328.84,-449.321 4341.14,-436.698 4352.43,-425.111\"/>\n",
       "<polygon fill=\"black\" stroke=\"black\" points=\"4355.21,-427.272 4359.68,-417.667 4350.2,-422.387 4355.21,-427.272\"/>\n",
       "</g>\n",
       "<!-- 247 -->\n",
       "<g id=\"node248\" class=\"node\"><title>247</title>\n",
       "<polygon fill=\"#eeab7b\" stroke=\"black\" points=\"4566.5,-544 4465.5,-544 4465.5,-461 4566.5,-461 4566.5,-544\"/>\n",
       "<text text-anchor=\"middle\" x=\"4516\" y=\"-528.8\" font-family=\"Times,serif\" font-size=\"14.00\">Age &lt;= 27.5</text>\n",
       "<text text-anchor=\"middle\" x=\"4516\" y=\"-513.8\" font-family=\"Times,serif\" font-size=\"14.00\">gini = 0.375</text>\n",
       "<text text-anchor=\"middle\" x=\"4516\" y=\"-498.8\" font-family=\"Times,serif\" font-size=\"14.00\">samples = 4</text>\n",
       "<text text-anchor=\"middle\" x=\"4516\" y=\"-483.8\" font-family=\"Times,serif\" font-size=\"14.00\">value = [3, 1]</text>\n",
       "<text text-anchor=\"middle\" x=\"4516\" y=\"-468.8\" font-family=\"Times,serif\" font-size=\"14.00\">class = 未生还</text>\n",
       "</g>\n",
       "<!-- 246&#45;&gt;247 -->\n",
       "<g id=\"edge247\" class=\"edge\"><title>246&#45;&gt;247</title>\n",
       "<path fill=\"none\" stroke=\"black\" d=\"M4516,-579.907C4516,-571.649 4516,-562.864 4516,-554.302\"/>\n",
       "<polygon fill=\"black\" stroke=\"black\" points=\"4519.5,-554.021 4516,-544.021 4512.5,-554.021 4519.5,-554.021\"/>\n",
       "</g>\n",
       "<!-- 252 -->\n",
       "<g id=\"node253\" class=\"node\"><title>252</title>\n",
       "<polygon fill=\"#399de5\" stroke=\"black\" points=\"4677,-536.5 4585,-536.5 4585,-468.5 4677,-468.5 4677,-536.5\"/>\n",
       "<text text-anchor=\"middle\" x=\"4631\" y=\"-521.3\" font-family=\"Times,serif\" font-size=\"14.00\">gini = 0.0</text>\n",
       "<text text-anchor=\"middle\" x=\"4631\" y=\"-506.3\" font-family=\"Times,serif\" font-size=\"14.00\">samples = 2</text>\n",
       "<text text-anchor=\"middle\" x=\"4631\" y=\"-491.3\" font-family=\"Times,serif\" font-size=\"14.00\">value = [0, 2]</text>\n",
       "<text text-anchor=\"middle\" x=\"4631\" y=\"-476.3\" font-family=\"Times,serif\" font-size=\"14.00\">class = 生还</text>\n",
       "</g>\n",
       "<!-- 246&#45;&gt;252 -->\n",
       "<g id=\"edge252\" class=\"edge\"><title>246&#45;&gt;252</title>\n",
       "<path fill=\"none\" stroke=\"black\" d=\"M4555.9,-579.907C4567.29,-568.321 4579.69,-555.698 4591.08,-544.111\"/>\n",
       "<polygon fill=\"black\" stroke=\"black\" points=\"4593.89,-546.252 4598.4,-536.667 4588.89,-541.345 4593.89,-546.252\"/>\n",
       "</g>\n",
       "<!-- 248 -->\n",
       "<g id=\"node249\" class=\"node\"><title>248</title>\n",
       "<polygon fill=\"#ffffff\" stroke=\"black\" points=\"4562.5,-425 4461.5,-425 4461.5,-342 4562.5,-342 4562.5,-425\"/>\n",
       "<text text-anchor=\"middle\" x=\"4512\" y=\"-409.8\" font-family=\"Times,serif\" font-size=\"14.00\">SibSp &lt;= 0.5</text>\n",
       "<text text-anchor=\"middle\" x=\"4512\" y=\"-394.8\" font-family=\"Times,serif\" font-size=\"14.00\">gini = 0.5</text>\n",
       "<text text-anchor=\"middle\" x=\"4512\" y=\"-379.8\" font-family=\"Times,serif\" font-size=\"14.00\">samples = 2</text>\n",
       "<text text-anchor=\"middle\" x=\"4512\" y=\"-364.8\" font-family=\"Times,serif\" font-size=\"14.00\">value = [1, 1]</text>\n",
       "<text text-anchor=\"middle\" x=\"4512\" y=\"-349.8\" font-family=\"Times,serif\" font-size=\"14.00\">class = 未生还</text>\n",
       "</g>\n",
       "<!-- 247&#45;&gt;248 -->\n",
       "<g id=\"edge248\" class=\"edge\"><title>247&#45;&gt;248</title>\n",
       "<path fill=\"none\" stroke=\"black\" d=\"M4514.61,-460.907C4514.33,-452.558 4514.02,-443.671 4513.73,-435.02\"/>\n",
       "<polygon fill=\"black\" stroke=\"black\" points=\"4517.23,-434.895 4513.39,-425.021 4510.23,-435.135 4517.23,-434.895\"/>\n",
       "</g>\n",
       "<!-- 251 -->\n",
       "<g id=\"node252\" class=\"node\"><title>251</title>\n",
       "<polygon fill=\"#e58139\" stroke=\"black\" points=\"4681.5,-417.5 4580.5,-417.5 4580.5,-349.5 4681.5,-349.5 4681.5,-417.5\"/>\n",
       "<text text-anchor=\"middle\" x=\"4631\" y=\"-402.3\" font-family=\"Times,serif\" font-size=\"14.00\">gini = 0.0</text>\n",
       "<text text-anchor=\"middle\" x=\"4631\" y=\"-387.3\" font-family=\"Times,serif\" font-size=\"14.00\">samples = 2</text>\n",
       "<text text-anchor=\"middle\" x=\"4631\" y=\"-372.3\" font-family=\"Times,serif\" font-size=\"14.00\">value = [2, 0]</text>\n",
       "<text text-anchor=\"middle\" x=\"4631\" y=\"-357.3\" font-family=\"Times,serif\" font-size=\"14.00\">class = 未生还</text>\n",
       "</g>\n",
       "<!-- 247&#45;&gt;251 -->\n",
       "<g id=\"edge251\" class=\"edge\"><title>247&#45;&gt;251</title>\n",
       "<path fill=\"none\" stroke=\"black\" d=\"M4555.9,-460.907C4567.29,-449.321 4579.69,-436.698 4591.08,-425.111\"/>\n",
       "<polygon fill=\"black\" stroke=\"black\" points=\"4593.89,-427.252 4598.4,-417.667 4588.89,-422.345 4593.89,-427.252\"/>\n",
       "</g>\n",
       "<!-- 249 -->\n",
       "<g id=\"node250\" class=\"node\"><title>249</title>\n",
       "<polygon fill=\"#399de5\" stroke=\"black\" points=\"4500,-298.5 4408,-298.5 4408,-230.5 4500,-230.5 4500,-298.5\"/>\n",
       "<text text-anchor=\"middle\" x=\"4454\" y=\"-283.3\" font-family=\"Times,serif\" font-size=\"14.00\">gini = 0.0</text>\n",
       "<text text-anchor=\"middle\" x=\"4454\" y=\"-268.3\" font-family=\"Times,serif\" font-size=\"14.00\">samples = 1</text>\n",
       "<text text-anchor=\"middle\" x=\"4454\" y=\"-253.3\" font-family=\"Times,serif\" font-size=\"14.00\">value = [0, 1]</text>\n",
       "<text text-anchor=\"middle\" x=\"4454\" y=\"-238.3\" font-family=\"Times,serif\" font-size=\"14.00\">class = 生还</text>\n",
       "</g>\n",
       "<!-- 248&#45;&gt;249 -->\n",
       "<g id=\"edge249\" class=\"edge\"><title>248&#45;&gt;249</title>\n",
       "<path fill=\"none\" stroke=\"black\" d=\"M4491.88,-341.907C4486.41,-330.873 4480.47,-318.898 4474.96,-307.773\"/>\n",
       "<polygon fill=\"black\" stroke=\"black\" points=\"4478.02,-306.072 4470.44,-298.667 4471.75,-309.181 4478.02,-306.072\"/>\n",
       "</g>\n",
       "<!-- 250 -->\n",
       "<g id=\"node251\" class=\"node\"><title>250</title>\n",
       "<polygon fill=\"#e58139\" stroke=\"black\" points=\"4619.5,-298.5 4518.5,-298.5 4518.5,-230.5 4619.5,-230.5 4619.5,-298.5\"/>\n",
       "<text text-anchor=\"middle\" x=\"4569\" y=\"-283.3\" font-family=\"Times,serif\" font-size=\"14.00\">gini = 0.0</text>\n",
       "<text text-anchor=\"middle\" x=\"4569\" y=\"-268.3\" font-family=\"Times,serif\" font-size=\"14.00\">samples = 1</text>\n",
       "<text text-anchor=\"middle\" x=\"4569\" y=\"-253.3\" font-family=\"Times,serif\" font-size=\"14.00\">value = [1, 0]</text>\n",
       "<text text-anchor=\"middle\" x=\"4569\" y=\"-238.3\" font-family=\"Times,serif\" font-size=\"14.00\">class = 未生还</text>\n",
       "</g>\n",
       "<!-- 248&#45;&gt;250 -->\n",
       "<g id=\"edge250\" class=\"edge\"><title>248&#45;&gt;250</title>\n",
       "<path fill=\"none\" stroke=\"black\" d=\"M4531.78,-341.907C4537.15,-330.873 4542.99,-318.898 4548.41,-307.773\"/>\n",
       "<polygon fill=\"black\" stroke=\"black\" points=\"4551.61,-309.19 4552.84,-298.667 4545.32,-306.124 4551.61,-309.19\"/>\n",
       "</g>\n",
       "<!-- 258 -->\n",
       "<g id=\"node259\" class=\"node\"><title>258</title>\n",
       "<polygon fill=\"#ffffff\" stroke=\"black\" points=\"4105.5,-1377 4004.5,-1377 4004.5,-1294 4105.5,-1294 4105.5,-1377\"/>\n",
       "<text text-anchor=\"middle\" x=\"4055\" y=\"-1361.8\" font-family=\"Times,serif\" font-size=\"14.00\">Age &lt;= 3.5</text>\n",
       "<text text-anchor=\"middle\" x=\"4055\" y=\"-1346.8\" font-family=\"Times,serif\" font-size=\"14.00\">gini = 0.5</text>\n",
       "<text text-anchor=\"middle\" x=\"4055\" y=\"-1331.8\" font-family=\"Times,serif\" font-size=\"14.00\">samples = 4</text>\n",
       "<text text-anchor=\"middle\" x=\"4055\" y=\"-1316.8\" font-family=\"Times,serif\" font-size=\"14.00\">value = [2, 2]</text>\n",
       "<text text-anchor=\"middle\" x=\"4055\" y=\"-1301.8\" font-family=\"Times,serif\" font-size=\"14.00\">class = 未生还</text>\n",
       "</g>\n",
       "<!-- 257&#45;&gt;258 -->\n",
       "<g id=\"edge258\" class=\"edge\"><title>257&#45;&gt;258</title>\n",
       "<path fill=\"none\" stroke=\"black\" d=\"M4055,-1412.91C4055,-1404.65 4055,-1395.86 4055,-1387.3\"/>\n",
       "<polygon fill=\"black\" stroke=\"black\" points=\"4058.5,-1387.02 4055,-1377.02 4051.5,-1387.02 4058.5,-1387.02\"/>\n",
       "</g>\n",
       "<!-- 261 -->\n",
       "<g id=\"node262\" class=\"node\"><title>261</title>\n",
       "<polygon fill=\"#e58139\" stroke=\"black\" points=\"4224.5,-1369.5 4123.5,-1369.5 4123.5,-1301.5 4224.5,-1301.5 4224.5,-1369.5\"/>\n",
       "<text text-anchor=\"middle\" x=\"4174\" y=\"-1354.3\" font-family=\"Times,serif\" font-size=\"14.00\">gini = 0.0</text>\n",
       "<text text-anchor=\"middle\" x=\"4174\" y=\"-1339.3\" font-family=\"Times,serif\" font-size=\"14.00\">samples = 5</text>\n",
       "<text text-anchor=\"middle\" x=\"4174\" y=\"-1324.3\" font-family=\"Times,serif\" font-size=\"14.00\">value = [5, 0]</text>\n",
       "<text text-anchor=\"middle\" x=\"4174\" y=\"-1309.3\" font-family=\"Times,serif\" font-size=\"14.00\">class = 未生还</text>\n",
       "</g>\n",
       "<!-- 257&#45;&gt;261 -->\n",
       "<g id=\"edge261\" class=\"edge\"><title>257&#45;&gt;261</title>\n",
       "<path fill=\"none\" stroke=\"black\" d=\"M4096.29,-1412.91C4108.18,-1401.21 4121.15,-1388.46 4133.03,-1376.78\"/>\n",
       "<polygon fill=\"black\" stroke=\"black\" points=\"4135.59,-1379.17 4140.27,-1369.67 4130.68,-1374.18 4135.59,-1379.17\"/>\n",
       "</g>\n",
       "<!-- 259 -->\n",
       "<g id=\"node260\" class=\"node\"><title>259</title>\n",
       "<polygon fill=\"#e58139\" stroke=\"black\" points=\"4105.5,-1250.5 4004.5,-1250.5 4004.5,-1182.5 4105.5,-1182.5 4105.5,-1250.5\"/>\n",
       "<text text-anchor=\"middle\" x=\"4055\" y=\"-1235.3\" font-family=\"Times,serif\" font-size=\"14.00\">gini = 0.0</text>\n",
       "<text text-anchor=\"middle\" x=\"4055\" y=\"-1220.3\" font-family=\"Times,serif\" font-size=\"14.00\">samples = 2</text>\n",
       "<text text-anchor=\"middle\" x=\"4055\" y=\"-1205.3\" font-family=\"Times,serif\" font-size=\"14.00\">value = [2, 0]</text>\n",
       "<text text-anchor=\"middle\" x=\"4055\" y=\"-1190.3\" font-family=\"Times,serif\" font-size=\"14.00\">class = 未生还</text>\n",
       "</g>\n",
       "<!-- 258&#45;&gt;259 -->\n",
       "<g id=\"edge259\" class=\"edge\"><title>258&#45;&gt;259</title>\n",
       "<path fill=\"none\" stroke=\"black\" d=\"M4055,-1293.91C4055,-1283.2 4055,-1271.62 4055,-1260.78\"/>\n",
       "<polygon fill=\"black\" stroke=\"black\" points=\"4058.5,-1260.67 4055,-1250.67 4051.5,-1260.67 4058.5,-1260.67\"/>\n",
       "</g>\n",
       "<!-- 260 -->\n",
       "<g id=\"node261\" class=\"node\"><title>260</title>\n",
       "<polygon fill=\"#399de5\" stroke=\"black\" points=\"4216,-1250.5 4124,-1250.5 4124,-1182.5 4216,-1182.5 4216,-1250.5\"/>\n",
       "<text text-anchor=\"middle\" x=\"4170\" y=\"-1235.3\" font-family=\"Times,serif\" font-size=\"14.00\">gini = 0.0</text>\n",
       "<text text-anchor=\"middle\" x=\"4170\" y=\"-1220.3\" font-family=\"Times,serif\" font-size=\"14.00\">samples = 2</text>\n",
       "<text text-anchor=\"middle\" x=\"4170\" y=\"-1205.3\" font-family=\"Times,serif\" font-size=\"14.00\">value = [0, 2]</text>\n",
       "<text text-anchor=\"middle\" x=\"4170\" y=\"-1190.3\" font-family=\"Times,serif\" font-size=\"14.00\">class = 生还</text>\n",
       "</g>\n",
       "<!-- 258&#45;&gt;260 -->\n",
       "<g id=\"edge260\" class=\"edge\"><title>258&#45;&gt;260</title>\n",
       "<path fill=\"none\" stroke=\"black\" d=\"M4094.9,-1293.91C4106.29,-1282.32 4118.69,-1269.7 4130.08,-1258.11\"/>\n",
       "<polygon fill=\"black\" stroke=\"black\" points=\"4132.89,-1260.25 4137.4,-1250.67 4127.89,-1255.35 4132.89,-1260.25\"/>\n",
       "</g>\n",
       "</g>\n",
       "</svg>\n"
      ],
      "text/plain": [
       "<graphviz.files.Source at 0x7f2b82009b00>"
      ]
     },
     "execution_count": 70,
     "metadata": {},
     "output_type": "execute_result"
    }
   ],
   "source": [
    "titDot = tree.export_graphviz(titDt,feature_names=list(titTrainX.columns),class_names=['未生还','生还'],filled=True)\n",
    "titDtGraph = graphviz.Source(titDot)\n",
    "titDtGraph"
   ]
  },
  {
   "cell_type": "markdown",
   "metadata": {
    "slideshow": {
     "slide_type": "fragment"
    }
   },
   "source": [
    "保存决策树图片\n",
    "\n",
    "```python\n",
    "graph.render(filename=None, directory=None, cleanup=False, format=None)\n",
    "```\n",
    "- `filename`：保存的文件名称\n",
    "- `directory`：保存的文件所在的路径\n",
    "- `cleanup`：删除中间文件\n",
    "- `format`：保存的图片格式，例如`png`,`pdf`"
   ]
  },
  {
   "cell_type": "code",
   "execution_count": 71,
   "metadata": {
    "slideshow": {
     "slide_type": "fragment"
    }
   },
   "outputs": [
    {
     "data": {
      "text/plain": [
       "'./img/classification/titDt.pdf'"
      ]
     },
     "execution_count": 71,
     "metadata": {},
     "output_type": "execute_result"
    }
   ],
   "source": [
    "titDtGraph.render(filename='titDt',directory='./img/classification/',cleanup=True,format='pdf')"
   ]
  },
  {
   "cell_type": "markdown",
   "metadata": {
    "slideshow": {
     "slide_type": "slide"
    }
   },
   "source": [
    "#### 分类性能度量 "
   ]
  },
  {
   "cell_type": "code",
   "execution_count": 72,
   "metadata": {
    "slideshow": {
     "slide_type": "fragment"
    }
   },
   "outputs": [],
   "source": [
    "titTrainYPre = titDt.predict(titTrainX)"
   ]
  },
  {
   "cell_type": "markdown",
   "metadata": {
    "slideshow": {
     "slide_type": "fragment"
    }
   },
   "source": [
    "##### 混淆矩阵"
   ]
  },
  {
   "cell_type": "markdown",
   "metadata": {
    "slideshow": {
     "slide_type": "fragment"
    }
   },
   "source": [
    "```python\n",
    "    from sklear import metrics\n",
    "    metrics.confusion_matrix(y_true, y_pred)\n",
    "    metrics.plot_confusion_matrix(estimator, X, y_true, values_format=None)\n",
    "```\n",
    "- `estimator`：训练好的分类器\n",
    "- `X`：预测属性\n",
    "- `value_formats`：数字的显示格式"
   ]
  },
  {
   "cell_type": "code",
   "execution_count": 73,
   "metadata": {
    "slideshow": {
     "slide_type": "fragment"
    }
   },
   "outputs": [],
   "source": [
    "from sklearn import metrics"
   ]
  },
  {
   "cell_type": "code",
   "execution_count": 74,
   "metadata": {
    "scrolled": true,
    "slideshow": {
     "slide_type": "fragment"
    }
   },
   "outputs": [
    {
     "data": {
      "text/plain": [
       "array([[322,   0],\n",
       "       [  8, 204]])"
      ]
     },
     "execution_count": 74,
     "metadata": {},
     "output_type": "execute_result"
    },
    {
     "data": {
      "text/plain": [
       "<sklearn.metrics._plot.confusion_matrix.ConfusionMatrixDisplay at 0x7f2b8201c400>"
      ]
     },
     "execution_count": 74,
     "metadata": {},
     "output_type": "execute_result"
    },
    {
     "data": {
      "image/png": "[encoded data removed]",
      "text/plain": [
       "<Figure size 432x288 with 2 Axes>"
      ]
     },
     "metadata": {
      "needs_background": "light"
     },
     "output_type": "display_data"
    }
   ],
   "source": [
    "metrics.confusion_matrix(titTrainY, titTrainYPre)\n",
    "metrics.plot_confusion_matrix(titDt,titTrainX,titTrainY,values_format='.0f')"
   ]
  },
  {
   "cell_type": "markdown",
   "metadata": {
    "slideshow": {
     "slide_type": "slide"
    }
   },
   "source": [
    "<center><img src=\"./img/classification/classificationScoreN1.png\" width=80%></center>"
   ]
  },
  {
   "cell_type": "markdown",
   "metadata": {
    "slideshow": {
     "slide_type": "slide"
    }
   },
   "source": [
    "<center><img src=\"./img/classification/PosNeg.svg\" width=60%></center>"
   ]
  },
  {
   "cell_type": "markdown",
   "metadata": {
    "slideshow": {
     "slide_type": "slide"
    }
   },
   "source": [
    "- 精确率（precision score, 查准率）\n",
    "$$precision = \\frac{TP}{TP+FP}$$"
   ]
  },
  {
   "cell_type": "markdown",
   "metadata": {
    "slideshow": {
     "slide_type": "fragment"
    }
   },
   "source": [
    "- 针对某个类别的样本，不做出错误分类的能力"
   ]
  },
  {
   "cell_type": "markdown",
   "metadata": {
    "slideshow": {
     "slide_type": "fragment"
    }
   },
   "source": [
    "- 召回率（recall score，查全率）\n",
    "$$recall = \\frac{TP}{TP+FN}$$"
   ]
  },
  {
   "cell_type": "markdown",
   "metadata": {
    "slideshow": {
     "slide_type": "fragment"
    }
   },
   "source": [
    "- 能够识别所有属于某个真实类别的样本的能力"
   ]
  },
  {
   "cell_type": "markdown",
   "metadata": {
    "slideshow": {
     "slide_type": "slide"
    }
   },
   "source": [
    "##### 准确率 (accuracy score)"
   ]
  },
  {
   "cell_type": "markdown",
   "metadata": {
    "slideshow": {
     "slide_type": "fragment"
    }
   },
   "source": [
    "```python\n",
    "from sklearn import metrics\n",
    "metrics.accuracy_score(y_true, y_pred)\n",
    "```\n",
    "- `y_true`：真实类标签构成的数组\n",
    "- `y_pred`：分类模型预测的类标签构成的数组"
   ]
  },
  {
   "cell_type": "code",
   "execution_count": 75,
   "metadata": {
    "slideshow": {
     "slide_type": "fragment"
    }
   },
   "outputs": [
    {
     "data": {
      "text/plain": [
       "0.9850187265917603"
      ]
     },
     "execution_count": 75,
     "metadata": {},
     "output_type": "execute_result"
    }
   ],
   "source": [
    "metrics.accuracy_score(titTrainY,titTrainYPre)"
   ]
  },
  {
   "cell_type": "markdown",
   "metadata": {
    "slideshow": {
     "slide_type": "slide"
    }
   },
   "source": [
    "##### 召回率 （recall score）"
   ]
  },
  {
   "cell_type": "markdown",
   "metadata": {
    "slideshow": {
     "slide_type": "fragment"
    }
   },
   "source": [
    "```python\n",
    "metrics.recall_score(y_true, y_pred, pos_label=1)\n",
    "```"
   ]
  },
  {
   "cell_type": "code",
   "execution_count": 146,
   "metadata": {
    "slideshow": {
     "slide_type": "fragment"
    }
   },
   "outputs": [
    {
     "name": "stdout",
     "output_type": "stream",
     "text": [
      "未生还的分类的召回率是0.9622641509433962\n"
     ]
    }
   ],
   "source": [
    "print(f'未生还的分类的召回率是{metrics.recall_score(titTrainY,titTrainYPre,pos_label=1)}')"
   ]
  },
  {
   "cell_type": "code",
   "execution_count": 77,
   "metadata": {
    "collapsed": true,
    "slideshow": {
     "slide_type": "fragment"
    }
   },
   "outputs": [
    {
     "name": "stdout",
     "output_type": "stream",
     "text": [
      "生还的分类的召回率是0.9622641509433962\n"
     ]
    }
   ],
   "source": [
    "print(f'生还的分类的召回率是{metrics.recall_score(titTrainY,titDt.predict(titTrainX),pos_label=1)}')"
   ]
  },
  {
   "cell_type": "markdown",
   "metadata": {
    "slideshow": {
     "slide_type": "slide"
    }
   },
   "source": [
    "##### 精确率（precision score）"
   ]
  },
  {
   "cell_type": "markdown",
   "metadata": {
    "slideshow": {
     "slide_type": "fragment"
    }
   },
   "source": [
    "```python\n",
    "from sklearn import metrics\n",
    "metrics.precision_score(y_true, y_pred, pos_label=1)\n",
    "```"
   ]
  },
  {
   "cell_type": "code",
   "execution_count": 78,
   "metadata": {
    "slideshow": {
     "slide_type": "fragment"
    }
   },
   "outputs": [
    {
     "name": "stdout",
     "output_type": "stream",
     "text": [
      "未生还的分类的精确率是0.9757575757575757\n"
     ]
    }
   ],
   "source": [
    "print(f'未生还的分类的精确率是{metrics.precision_score(titTrainY,titTrainYPre,pos_label=0)}')"
   ]
  },
  {
   "cell_type": "code",
   "execution_count": 79,
   "metadata": {
    "slideshow": {
     "slide_type": "fragment"
    }
   },
   "outputs": [
    {
     "name": "stdout",
     "output_type": "stream",
     "text": [
      "生还的分类的精确率是1.0\n"
     ]
    }
   ],
   "source": [
    "print(f'生还的分类的精确率是{metrics.precision_score(titTrainY,titTrainYPre,pos_label=1)}')"
   ]
  },
  {
   "cell_type": "markdown",
   "metadata": {
    "slideshow": {
     "slide_type": "slide"
    }
   },
   "source": [
    "##### $F_1$ score"
   ]
  },
  {
   "cell_type": "markdown",
   "metadata": {
    "slideshow": {
     "slide_type": "fragment"
    }
   },
   "source": [
    "- 同时考虑召回率和精确率，是召回率和精确率的调和均值"
   ]
  },
  {
   "cell_type": "markdown",
   "metadata": {
    "slideshow": {
     "slide_type": "fragment"
    }
   },
   "source": [
    "```python\n",
    "from sklearn import metrics\n",
    "metrics.f1_score(y_true, y_pred, pos_label=1)\n",
    "```"
   ]
  },
  {
   "cell_type": "code",
   "execution_count": 80,
   "metadata": {
    "slideshow": {
     "slide_type": "fragment"
    }
   },
   "outputs": [
    {
     "name": "stdout",
     "output_type": "stream",
     "text": [
      "未生还的分类的F1_score是0.9877300613496933\n"
     ]
    }
   ],
   "source": [
    "print(f'未生还的分类的F1_score是{metrics.f1_score(titTrainY,titTrainYPre,pos_label=0)}')"
   ]
  },
  {
   "cell_type": "code",
   "execution_count": 81,
   "metadata": {
    "slideshow": {
     "slide_type": "fragment"
    }
   },
   "outputs": [
    {
     "name": "stdout",
     "output_type": "stream",
     "text": [
      "生还的分类的F1_score是0.9807692307692307\n"
     ]
    }
   ],
   "source": [
    "print(f'生还的分类的F1_score是{metrics.f1_score(titTrainY,titTrainYPre,pos_label=1)}')"
   ]
  },
  {
   "cell_type": "markdown",
   "metadata": {
    "slideshow": {
     "slide_type": "slide"
    }
   },
   "source": [
    "##### P-R曲线"
   ]
  },
  {
   "cell_type": "markdown",
   "metadata": {
    "slideshow": {
     "slide_type": "fragment"
    }
   },
   "source": [
    "- 由精确率和召回率构成的图线\n",
    "- x轴为召回率，y轴为精确率"
   ]
  },
  {
   "cell_type": "markdown",
   "metadata": {
    "slideshow": {
     "slide_type": "fragment"
    }
   },
   "source": [
    "```python\n",
    "sklearn.metrics.plot_precision_recall_curve(estimator, X, y, pos_label)\n",
    "```\n",
    "- `estimator`：训练过的分类模型\n",
    "- `X`：输入的属性\n",
    "- `y`：标签值（二元标签）\n",
    "- `pos_label`：`int`或`str`，指定类别，默认为1"
   ]
  },
  {
   "cell_type": "code",
   "execution_count": 147,
   "metadata": {
    "slideshow": {
     "slide_type": "fragment"
    }
   },
   "outputs": [
    {
     "data": {
      "text/plain": [
       "<sklearn.metrics._plot.precision_recall_curve.PrecisionRecallDisplay at 0x7f2b804aecc0>"
      ]
     },
     "execution_count": 147,
     "metadata": {},
     "output_type": "execute_result"
    },
    {
     "data": {
      "image/png": "[encoded data removed]",
      "text/plain": [
       "<Figure size 432x288 with 1 Axes>"
      ]
     },
     "metadata": {
      "needs_background": "light"
     },
     "output_type": "display_data"
    }
   ],
   "source": [
    "metrics.plot_precision_recall_curve(titDt,titTrainX,titTrainY,pos_label=0)"
   ]
  },
  {
   "cell_type": "markdown",
   "metadata": {
    "slideshow": {
     "slide_type": "fragment"
    }
   },
   "source": [
    "- `AP`：average precision score，越大越好"
   ]
  },
  {
   "cell_type": "markdown",
   "metadata": {
    "slideshow": {
     "slide_type": "slide"
    }
   },
   "source": [
    "##### ROC曲线"
   ]
  },
  {
   "cell_type": "markdown",
   "metadata": {
    "slideshow": {
     "slide_type": "fragment"
    }
   },
   "source": [
    "- Receiver Operating Curve, 由“真正例率”（True Positive Rate）和“假正例率”（False Positive Rate）构成的曲线\n",
    "$$\n",
    "TPR = \\frac{TP}{TP+FN}\\\\\n",
    "FPR = \\frac{FP}{FP+TN}\n",
    "$$\n",
    "- x轴是FPR，y轴是TPR"
   ]
  },
  {
   "cell_type": "markdown",
   "metadata": {
    "slideshow": {
     "slide_type": "fragment"
    }
   },
   "source": [
    "```python\n",
    "sklearn.metrics.plot_roc_curve(estimator, X, y, pos_label)\n",
    "```\n",
    "- `estimator`：训练过的分类模型\n",
    "- `X`：输入的属性\n",
    "- `y`：标签值（二元标签）\n",
    "- `pos_label`：`int`或`str`，指定类别，默认为1"
   ]
  },
  {
   "cell_type": "code",
   "execution_count": 148,
   "metadata": {
    "slideshow": {
     "slide_type": "fragment"
    }
   },
   "outputs": [
    {
     "data": {
      "text/plain": [
       "<sklearn.metrics._plot.roc_curve.RocCurveDisplay at 0x7f2b80498048>"
      ]
     },
     "execution_count": 148,
     "metadata": {},
     "output_type": "execute_result"
    },
    {
     "data": {
      "image/png": "[encoded data removed]",
      "text/plain": [
       "<Figure size 432x288 with 1 Axes>"
      ]
     },
     "metadata": {
      "needs_background": "light"
     },
     "output_type": "display_data"
    }
   ],
   "source": [
    "metrics.plot_roc_curve(titDt,titTrainX,titTrainY,pos_label=0)"
   ]
  },
  {
   "cell_type": "markdown",
   "metadata": {
    "slideshow": {
     "slide_type": "fragment"
    }
   },
   "source": [
    "- `AUC`：area under curve，曲线下面积，越大越好"
   ]
  },
  {
   "cell_type": "markdown",
   "metadata": {
    "slideshow": {
     "slide_type": "slide"
    }
   },
   "source": [
    "- 两种曲线的选用条件\n",
    "    - ROC，适用于类别均衡情况\n",
    "    - PR，适用于类别不均衡情况"
   ]
  },
  {
   "cell_type": "markdown",
   "metadata": {
    "slideshow": {
     "slide_type": "slide"
    }
   },
   "source": [
    "##### 在检验集上的分类性能"
   ]
  },
  {
   "cell_type": "markdown",
   "metadata": {
    "slideshow": {
     "slide_type": "fragment"
    }
   },
   "source": [
    "###### 生成检验集的类别预测"
   ]
  },
  {
   "cell_type": "code",
   "execution_count": 84,
   "metadata": {
    "slideshow": {
     "slide_type": "fragment"
    }
   },
   "outputs": [],
   "source": [
    "titTestYPre = titDt.predict(titTestX)"
   ]
  },
  {
   "cell_type": "markdown",
   "metadata": {
    "slideshow": {
     "slide_type": "fragment"
    }
   },
   "source": [
    "###### 分类性能指标"
   ]
  },
  {
   "cell_type": "code",
   "execution_count": 85,
   "metadata": {
    "slideshow": {
     "slide_type": "fragment"
    }
   },
   "outputs": [
    {
     "name": "stdout",
     "output_type": "stream",
     "text": [
      "对检验集的分类准确率是0.7696629213483146\n"
     ]
    }
   ],
   "source": [
    "print(f'对检验集的分类准确率是{metrics.accuracy_score(titTestY,titTestYPre)}')"
   ]
  },
  {
   "cell_type": "code",
   "execution_count": 86,
   "metadata": {
    "slideshow": {
     "slide_type": "fragment"
    }
   },
   "outputs": [
    {
     "name": "stdout",
     "output_type": "stream",
     "text": [
      "在检验集上未生还分类的召回率是0.8627450980392157\n"
     ]
    }
   ],
   "source": [
    "print(f'在检验集上未生还分类的召回率是{metrics.recall_score(titTestY,titTestYPre,pos_label=0)}')"
   ]
  },
  {
   "cell_type": "code",
   "execution_count": 87,
   "metadata": {
    "slideshow": {
     "slide_type": "fragment"
    }
   },
   "outputs": [
    {
     "name": "stdout",
     "output_type": "stream",
     "text": [
      "在检验集上生还分类的召回率是0.6447368421052632\n"
     ]
    }
   ],
   "source": [
    "print(f'在检验集上生还分类的召回率是{metrics.recall_score(titTestY,titTestYPre,pos_label=1)}')"
   ]
  },
  {
   "cell_type": "markdown",
   "metadata": {
    "slideshow": {
     "slide_type": "slide"
    }
   },
   "source": [
    "###### 分类性能指标-续"
   ]
  },
  {
   "cell_type": "code",
   "execution_count": 88,
   "metadata": {
    "slideshow": {
     "slide_type": "fragment"
    }
   },
   "outputs": [
    {
     "name": "stdout",
     "output_type": "stream",
     "text": [
      "在检验集上未生还分类的精确率是0.7652173913043478\n"
     ]
    }
   ],
   "source": [
    "print(f'在检验集上未生还分类的精确率是{metrics.precision_score(titTestY,titTestYPre,pos_label=0)}')"
   ]
  },
  {
   "cell_type": "code",
   "execution_count": 89,
   "metadata": {
    "slideshow": {
     "slide_type": "fragment"
    }
   },
   "outputs": [
    {
     "name": "stdout",
     "output_type": "stream",
     "text": [
      "在检验集上生还分类的精确率是0.7777777777777778\n"
     ]
    }
   ],
   "source": [
    "print(f'在检验集上生还分类的精确率是{metrics.precision_score(titTestY,titTestYPre,pos_label=1)}')"
   ]
  },
  {
   "cell_type": "code",
   "execution_count": 90,
   "metadata": {
    "slideshow": {
     "slide_type": "fragment"
    }
   },
   "outputs": [
    {
     "name": "stdout",
     "output_type": "stream",
     "text": [
      "在检验集上未生还分类的F1_score是0.8110599078341014\n"
     ]
    }
   ],
   "source": [
    "print(f'在检验集上未生还分类的F1_score是{metrics.f1_score(titTestY,titTestYPre,pos_label=0)}')"
   ]
  },
  {
   "cell_type": "code",
   "execution_count": 91,
   "metadata": {
    "slideshow": {
     "slide_type": "fragment"
    }
   },
   "outputs": [
    {
     "name": "stdout",
     "output_type": "stream",
     "text": [
      "在检验集上生还分类的F1_score是0.7050359712230216\n"
     ]
    }
   ],
   "source": [
    "print(f'在检验集上生还分类的F1_score是{metrics.f1_score(titTestY,titTestYPre,pos_label=1)}')"
   ]
  },
  {
   "cell_type": "code",
   "execution_count": 92,
   "metadata": {
    "slideshow": {
     "slide_type": "slide"
    }
   },
   "outputs": [
    {
     "data": {
      "text/plain": [
       "<sklearn.metrics._plot.precision_recall_curve.PrecisionRecallDisplay at 0x7f2b90c07160>"
      ]
     },
     "execution_count": 92,
     "metadata": {},
     "output_type": "execute_result"
    },
    {
     "data": {
      "image/png": "[encoded data removed]",
      "text/plain": [
       "<Figure size 432x288 with 1 Axes>"
      ]
     },
     "metadata": {
      "needs_background": "light"
     },
     "output_type": "display_data"
    }
   ],
   "source": [
    "metrics.plot_precision_recall_curve(titDt,titTestX,titTestY)"
   ]
  },
  {
   "cell_type": "code",
   "execution_count": 93,
   "metadata": {
    "slideshow": {
     "slide_type": "fragment"
    }
   },
   "outputs": [
    {
     "data": {
      "text/plain": [
       "<sklearn.metrics._plot.roc_curve.RocCurveDisplay at 0x7f2b80e4b4a8>"
      ]
     },
     "execution_count": 93,
     "metadata": {},
     "output_type": "execute_result"
    },
    {
     "data": {
      "image/png": "[encoded data removed]",
      "text/plain": [
       "<Figure size 432x288 with 1 Axes>"
      ]
     },
     "metadata": {
      "needs_background": "light"
     },
     "output_type": "display_data"
    }
   ],
   "source": [
    "metrics.plot_roc_curve(titDt,titTestX,titTestY)"
   ]
  },
  {
   "cell_type": "markdown",
   "metadata": {
    "slideshow": {
     "slide_type": "fragment"
    }
   },
   "source": [
    "<p class=\"alert alert-danger\">生成的决策树模型在<strong>训练集</strong>上的分类性能优异，但是在<strong>检验集</strong>上的分类性能一般。</p>"
   ]
  },
  {
   "cell_type": "markdown",
   "metadata": {
    "slideshow": {
     "slide_type": "slide"
    }
   },
   "source": [
    "### 决策树的剪枝"
   ]
  },
  {
   "cell_type": "markdown",
   "metadata": {
    "slideshow": {
     "slide_type": "fragment"
    }
   },
   "source": [
    "- 为什么需要剪枝？\n",
    "    + 生成的决策树过于复杂，对训练集的过度拟合\n",
    "    + 决策树算法没有考虑数据中存在噪声"
   ]
  },
  {
   "cell_type": "markdown",
   "metadata": {
    "slideshow": {
     "slide_type": "fragment"
    }
   },
   "source": [
    "- 剪枝方法\n",
    "    + 先剪枝\n",
    "    + 后剪枝"
   ]
  },
  {
   "cell_type": "markdown",
   "metadata": {
    "slideshow": {
     "slide_type": "slide"
    }
   },
   "source": [
    "#### 先剪枝（Forward-Pruning）"
   ]
  },
  {
   "cell_type": "markdown",
   "metadata": {
    "slideshow": {
     "slide_type": "fragment"
    }
   },
   "source": [
    "<p class=\"alert alert-info\">提前停止树的构造而对树进行剪枝</p>\n",
    "\n",
    "- 在决策树到达一定高度的情况下就停止树的生长\n",
    "- 到达结点的样本个数小于某一个阈值可停止树的生长"
   ]
  },
  {
   "cell_type": "markdown",
   "metadata": {
    "slideshow": {
     "slide_type": "slide"
    }
   },
   "source": [
    "```python\n",
    "tree.DecisionTreeClassifier(max_depth=None, min_samples_split=2, min_samples_leaf=1)\n",
    "```"
   ]
  },
  {
   "cell_type": "markdown",
   "metadata": {
    "slideshow": {
     "slide_type": "fragment"
    }
   },
   "source": [
    "- `max_depth`：`int`类型或`None`，树的最大深度。若为`None`，则所有的叶结点都只包含纯类，或者所有叶结点包含的样本数量小于`min_samples_split`\n",
    "    + 值过大会导致算法对训练集的**过拟合**，而过小会妨碍算法对数据的学习\n",
    "    + 推荐初始设置为3，先观察生成的决策树对数据的初步拟合状况，再决定是否要增加深度"
   ]
  },
  {
   "cell_type": "markdown",
   "metadata": {
    "slideshow": {
     "slide_type": "fragment"
    }
   },
   "source": [
    "- `min_samples_split`：`int`类型或`float`类型，划分一个内部结点需要的最少的样本数量。\n",
    "    + `int`类型，`min_samples_split`为最小值，默认是2个样本\n",
    "    + `float`类型，在全部样本中的占比，`ceil(min_samples_split * n_samples)`为最小值\n",
    "    + 值越大，决策树的枝越少，达到一定的先剪枝效果"
   ]
  },
  {
   "cell_type": "markdown",
   "metadata": {
    "slideshow": {
     "slide_type": "fragment"
    }
   },
   "source": [
    "- `min_samples_leaf`：`int`类型或`float`类型，每个叶结点需要包含的最少的样本数量。\n",
    "    + `int`类型，`min_samples_leaf`为最小值，默认是1个样本\n",
    "    + `float`类型，在全部样本中的占比，`ceil(min_samples_leaf * n_samples)`为最小值\n",
    "    + 值越大，决策树的枝越少，达到一定的先剪枝效果"
   ]
  },
  {
   "cell_type": "markdown",
   "metadata": {
    "slideshow": {
     "slide_type": "slide"
    }
   },
   "source": [
    "#### 对titanic决策树先剪枝"
   ]
  },
  {
   "cell_type": "markdown",
   "metadata": {
    "slideshow": {
     "slide_type": "fragment"
    }
   },
   "source": [
    "##### 决策树模型"
   ]
  },
  {
   "cell_type": "code",
   "execution_count": 94,
   "metadata": {
    "slideshow": {
     "slide_type": "fragment"
    }
   },
   "outputs": [],
   "source": [
    "titDtForp = tree.DecisionTreeClassifier(max_depth=5,min_samples_split=10,min_samples_leaf=10)"
   ]
  },
  {
   "cell_type": "markdown",
   "metadata": {
    "slideshow": {
     "slide_type": "fragment"
    }
   },
   "source": [
    "##### 训练"
   ]
  },
  {
   "cell_type": "code",
   "execution_count": 95,
   "metadata": {
    "slideshow": {
     "slide_type": "fragment"
    }
   },
   "outputs": [
    {
     "data": {
      "text/plain": [
       "DecisionTreeClassifier(max_depth=5, min_samples_leaf=10, min_samples_split=10)"
      ]
     },
     "execution_count": 95,
     "metadata": {},
     "output_type": "execute_result"
    }
   ],
   "source": [
    "titDtForp.fit(titTrainX,titTrainY)"
   ]
  },
  {
   "cell_type": "code",
   "execution_count": 96,
   "metadata": {
    "scrolled": true,
    "slideshow": {
     "slide_type": "fragment"
    }
   },
   "outputs": [
    {
     "data": {
      "image/svg+xml": [
       "<?xml version=\"1.0\" encoding=\"UTF-8\" standalone=\"no\"?>\n",
       "<!DOCTYPE svg PUBLIC \"-//W3C//DTD SVG 1.1//EN\"\n",
       " \"http://www.w3.org/Graphics/SVG/1.1/DTD/svg11.dtd\">\n",
       "<!-- Generated by graphviz version 2.38.0 (20140413.2041)\n",
       " -->\n",
       "<!-- Title: Tree Pages: 1 -->\n",
       "<svg width=\"1351pt\" height=\"671pt\"\n",
       " viewBox=\"0.00 0.00 1351.00 671.00\" xmlns=\"http://www.w3.org/2000/svg\" xmlns:xlink=\"http://www.w3.org/1999/xlink\">\n",
       "<g id=\"graph0\" class=\"graph\" transform=\"scale(1 1) rotate(0) translate(4 667)\">\n",
       "<title>Tree</title>\n",
       "<polygon fill=\"white\" stroke=\"none\" points=\"-4,4 -4,-667 1347,-667 1347,4 -4,4\"/>\n",
       "<!-- 0 -->\n",
       "<g id=\"node1\" class=\"node\"><title>0</title>\n",
       "<polygon fill=\"#f6d4bb\" stroke=\"black\" points=\"657,-663 535,-663 535,-580 657,-580 657,-663\"/>\n",
       "<text text-anchor=\"middle\" x=\"596\" y=\"-647.8\" font-family=\"Times,serif\" font-size=\"14.00\">Sex_female &lt;= 0.5</text>\n",
       "<text text-anchor=\"middle\" x=\"596\" y=\"-632.8\" font-family=\"Times,serif\" font-size=\"14.00\">gini = 0.479</text>\n",
       "<text text-anchor=\"middle\" x=\"596\" y=\"-617.8\" font-family=\"Times,serif\" font-size=\"14.00\">samples = 534</text>\n",
       "<text text-anchor=\"middle\" x=\"596\" y=\"-602.8\" font-family=\"Times,serif\" font-size=\"14.00\">value = [322, 212]</text>\n",
       "<text text-anchor=\"middle\" x=\"596\" y=\"-587.8\" font-family=\"Times,serif\" font-size=\"14.00\">class = 未生还</text>\n",
       "</g>\n",
       "<!-- 1 -->\n",
       "<g id=\"node2\" class=\"node\"><title>1</title>\n",
       "<polygon fill=\"#eca26c\" stroke=\"black\" points=\"414,-544 302,-544 302,-461 414,-461 414,-544\"/>\n",
       "<text text-anchor=\"middle\" x=\"358\" y=\"-528.8\" font-family=\"Times,serif\" font-size=\"14.00\">Age &lt;= 13.0</text>\n",
       "<text text-anchor=\"middle\" x=\"358\" y=\"-513.8\" font-family=\"Times,serif\" font-size=\"14.00\">gini = 0.326</text>\n",
       "<text text-anchor=\"middle\" x=\"358\" y=\"-498.8\" font-family=\"Times,serif\" font-size=\"14.00\">samples = 351</text>\n",
       "<text text-anchor=\"middle\" x=\"358\" y=\"-483.8\" font-family=\"Times,serif\" font-size=\"14.00\">value = [279, 72]</text>\n",
       "<text text-anchor=\"middle\" x=\"358\" y=\"-468.8\" font-family=\"Times,serif\" font-size=\"14.00\">class = 未生还</text>\n",
       "</g>\n",
       "<!-- 0&#45;&gt;1 -->\n",
       "<g id=\"edge1\" class=\"edge\"><title>0&#45;&gt;1</title>\n",
       "<path fill=\"none\" stroke=\"black\" d=\"M534.709,-590.37C500.573,-573.588 458.076,-552.697 423.313,-535.608\"/>\n",
       "<polygon fill=\"black\" stroke=\"black\" points=\"424.709,-532.394 414.191,-531.123 421.621,-538.676 424.709,-532.394\"/>\n",
       "<text text-anchor=\"middle\" x=\"422.256\" y=\"-551.086\" font-family=\"Times,serif\" font-size=\"14.00\">True</text>\n",
       "</g>\n",
       "<!-- 18 -->\n",
       "<g id=\"node19\" class=\"node\"><title>18</title>\n",
       "<polygon fill=\"#76bbed\" stroke=\"black\" points=\"891,-544 779,-544 779,-461 891,-461 891,-544\"/>\n",
       "<text text-anchor=\"middle\" x=\"835\" y=\"-528.8\" font-family=\"Times,serif\" font-size=\"14.00\">Pclass &lt;= 2.5</text>\n",
       "<text text-anchor=\"middle\" x=\"835\" y=\"-513.8\" font-family=\"Times,serif\" font-size=\"14.00\">gini = 0.36</text>\n",
       "<text text-anchor=\"middle\" x=\"835\" y=\"-498.8\" font-family=\"Times,serif\" font-size=\"14.00\">samples = 183</text>\n",
       "<text text-anchor=\"middle\" x=\"835\" y=\"-483.8\" font-family=\"Times,serif\" font-size=\"14.00\">value = [43, 140]</text>\n",
       "<text text-anchor=\"middle\" x=\"835\" y=\"-468.8\" font-family=\"Times,serif\" font-size=\"14.00\">class = 生还</text>\n",
       "</g>\n",
       "<!-- 0&#45;&gt;18 -->\n",
       "<g id=\"edge18\" class=\"edge\"><title>0&#45;&gt;18</title>\n",
       "<path fill=\"none\" stroke=\"black\" d=\"M657.238,-590.522C691.644,-573.678 734.582,-552.659 769.637,-535.498\"/>\n",
       "<polygon fill=\"black\" stroke=\"black\" points=\"771.392,-538.536 778.835,-530.995 768.314,-532.248 771.392,-538.536\"/>\n",
       "<text text-anchor=\"middle\" x=\"770.73\" y=\"-550.945\" font-family=\"Times,serif\" font-size=\"14.00\">False</text>\n",
       "</g>\n",
       "<!-- 2 -->\n",
       "<g id=\"node3\" class=\"node\"><title>2</title>\n",
       "<polygon fill=\"#c8e4f8\" stroke=\"black\" points=\"222.5,-425 117.5,-425 117.5,-342 222.5,-342 222.5,-425\"/>\n",
       "<text text-anchor=\"middle\" x=\"170\" y=\"-409.8\" font-family=\"Times,serif\" font-size=\"14.00\">SibSp &lt;= 2.5</text>\n",
       "<text text-anchor=\"middle\" x=\"170\" y=\"-394.8\" font-family=\"Times,serif\" font-size=\"14.00\">gini = 0.487</text>\n",
       "<text text-anchor=\"middle\" x=\"170\" y=\"-379.8\" font-family=\"Times,serif\" font-size=\"14.00\">samples = 31</text>\n",
       "<text text-anchor=\"middle\" x=\"170\" y=\"-364.8\" font-family=\"Times,serif\" font-size=\"14.00\">value = [13, 18]</text>\n",
       "<text text-anchor=\"middle\" x=\"170\" y=\"-349.8\" font-family=\"Times,serif\" font-size=\"14.00\">class = 生还</text>\n",
       "</g>\n",
       "<!-- 1&#45;&gt;2 -->\n",
       "<g id=\"edge2\" class=\"edge\"><title>1&#45;&gt;2</title>\n",
       "<path fill=\"none\" stroke=\"black\" d=\"M301.848,-466.555C279.59,-452.702 253.933,-436.735 231.201,-422.588\"/>\n",
       "<polygon fill=\"black\" stroke=\"black\" points=\"232.985,-419.576 222.646,-417.264 229.287,-425.519 232.985,-419.576\"/>\n",
       "</g>\n",
       "<!-- 5 -->\n",
       "<g id=\"node6\" class=\"node\"><title>5</title>\n",
       "<polygon fill=\"#ea9b61\" stroke=\"black\" points=\"414,-425 302,-425 302,-342 414,-342 414,-425\"/>\n",
       "<text text-anchor=\"middle\" x=\"358\" y=\"-409.8\" font-family=\"Times,serif\" font-size=\"14.00\">Pclass &lt;= 1.5</text>\n",
       "<text text-anchor=\"middle\" x=\"358\" y=\"-394.8\" font-family=\"Times,serif\" font-size=\"14.00\">gini = 0.281</text>\n",
       "<text text-anchor=\"middle\" x=\"358\" y=\"-379.8\" font-family=\"Times,serif\" font-size=\"14.00\">samples = 320</text>\n",
       "<text text-anchor=\"middle\" x=\"358\" y=\"-364.8\" font-family=\"Times,serif\" font-size=\"14.00\">value = [266, 54]</text>\n",
       "<text text-anchor=\"middle\" x=\"358\" y=\"-349.8\" font-family=\"Times,serif\" font-size=\"14.00\">class = 未生还</text>\n",
       "</g>\n",
       "<!-- 1&#45;&gt;5 -->\n",
       "<g id=\"edge5\" class=\"edge\"><title>1&#45;&gt;5</title>\n",
       "<path fill=\"none\" stroke=\"black\" d=\"M358,-460.907C358,-452.649 358,-443.864 358,-435.302\"/>\n",
       "<polygon fill=\"black\" stroke=\"black\" points=\"361.5,-435.021 358,-425.021 354.5,-435.021 361.5,-435.021\"/>\n",
       "</g>\n",
       "<!-- 3 -->\n",
       "<g id=\"node4\" class=\"node\"><title>3</title>\n",
       "<polygon fill=\"#44a2e6\" stroke=\"black\" points=\"101,-298.5 3,-298.5 3,-230.5 101,-230.5 101,-298.5\"/>\n",
       "<text text-anchor=\"middle\" x=\"52\" y=\"-283.3\" font-family=\"Times,serif\" font-size=\"14.00\">gini = 0.1</text>\n",
       "<text text-anchor=\"middle\" x=\"52\" y=\"-268.3\" font-family=\"Times,serif\" font-size=\"14.00\">samples = 19</text>\n",
       "<text text-anchor=\"middle\" x=\"52\" y=\"-253.3\" font-family=\"Times,serif\" font-size=\"14.00\">value = [1, 18]</text>\n",
       "<text text-anchor=\"middle\" x=\"52\" y=\"-238.3\" font-family=\"Times,serif\" font-size=\"14.00\">class = 生还</text>\n",
       "</g>\n",
       "<!-- 2&#45;&gt;3 -->\n",
       "<g id=\"edge3\" class=\"edge\"><title>2&#45;&gt;3</title>\n",
       "<path fill=\"none\" stroke=\"black\" d=\"M129.06,-341.907C117.264,-330.211 104.401,-317.457 92.624,-305.78\"/>\n",
       "<polygon fill=\"black\" stroke=\"black\" points=\"95.0159,-303.222 85.4504,-298.667 90.0872,-308.193 95.0159,-303.222\"/>\n",
       "</g>\n",
       "<!-- 4 -->\n",
       "<g id=\"node5\" class=\"node\"><title>4</title>\n",
       "<polygon fill=\"#e58139\" stroke=\"black\" points=\"220.5,-298.5 119.5,-298.5 119.5,-230.5 220.5,-230.5 220.5,-298.5\"/>\n",
       "<text text-anchor=\"middle\" x=\"170\" y=\"-283.3\" font-family=\"Times,serif\" font-size=\"14.00\">gini = 0.0</text>\n",
       "<text text-anchor=\"middle\" x=\"170\" y=\"-268.3\" font-family=\"Times,serif\" font-size=\"14.00\">samples = 12</text>\n",
       "<text text-anchor=\"middle\" x=\"170\" y=\"-253.3\" font-family=\"Times,serif\" font-size=\"14.00\">value = [12, 0]</text>\n",
       "<text text-anchor=\"middle\" x=\"170\" y=\"-238.3\" font-family=\"Times,serif\" font-size=\"14.00\">class = 未生还</text>\n",
       "</g>\n",
       "<!-- 2&#45;&gt;4 -->\n",
       "<g id=\"edge4\" class=\"edge\"><title>2&#45;&gt;4</title>\n",
       "<path fill=\"none\" stroke=\"black\" d=\"M170,-341.907C170,-331.204 170,-319.615 170,-308.776\"/>\n",
       "<polygon fill=\"black\" stroke=\"black\" points=\"173.5,-308.667 170,-298.667 166.5,-308.667 173.5,-308.667\"/>\n",
       "</g>\n",
       "<!-- 6 -->\n",
       "<g id=\"node7\" class=\"node\"><title>6</title>\n",
       "<polygon fill=\"#f3c4a2\" stroke=\"black\" points=\"343.5,-306 238.5,-306 238.5,-223 343.5,-223 343.5,-306\"/>\n",
       "<text text-anchor=\"middle\" x=\"291\" y=\"-290.8\" font-family=\"Times,serif\" font-size=\"14.00\">Age &lt;= 53.0</text>\n",
       "<text text-anchor=\"middle\" x=\"291\" y=\"-275.8\" font-family=\"Times,serif\" font-size=\"14.00\">gini = 0.453</text>\n",
       "<text text-anchor=\"middle\" x=\"291\" y=\"-260.8\" font-family=\"Times,serif\" font-size=\"14.00\">samples = 78</text>\n",
       "<text text-anchor=\"middle\" x=\"291\" y=\"-245.8\" font-family=\"Times,serif\" font-size=\"14.00\">value = [51, 27]</text>\n",
       "<text text-anchor=\"middle\" x=\"291\" y=\"-230.8\" font-family=\"Times,serif\" font-size=\"14.00\">class = 未生还</text>\n",
       "</g>\n",
       "<!-- 5&#45;&gt;6 -->\n",
       "<g id=\"edge6\" class=\"edge\"><title>5&#45;&gt;6</title>\n",
       "<path fill=\"none\" stroke=\"black\" d=\"M334.755,-341.907C329.766,-333.195 324.441,-323.897 319.285,-314.893\"/>\n",
       "<polygon fill=\"black\" stroke=\"black\" points=\"322.211,-312.959 314.204,-306.021 316.136,-316.438 322.211,-312.959\"/>\n",
       "</g>\n",
       "<!-- 11 -->\n",
       "<g id=\"node12\" class=\"node\"><title>11</title>\n",
       "<polygon fill=\"#e89152\" stroke=\"black\" points=\"474,-306 362,-306 362,-223 474,-223 474,-306\"/>\n",
       "<text text-anchor=\"middle\" x=\"418\" y=\"-290.8\" font-family=\"Times,serif\" font-size=\"14.00\">Age &lt;= 32.5</text>\n",
       "<text text-anchor=\"middle\" x=\"418\" y=\"-275.8\" font-family=\"Times,serif\" font-size=\"14.00\">gini = 0.198</text>\n",
       "<text text-anchor=\"middle\" x=\"418\" y=\"-260.8\" font-family=\"Times,serif\" font-size=\"14.00\">samples = 242</text>\n",
       "<text text-anchor=\"middle\" x=\"418\" y=\"-245.8\" font-family=\"Times,serif\" font-size=\"14.00\">value = [215, 27]</text>\n",
       "<text text-anchor=\"middle\" x=\"418\" y=\"-230.8\" font-family=\"Times,serif\" font-size=\"14.00\">class = 未生还</text>\n",
       "</g>\n",
       "<!-- 5&#45;&gt;11 -->\n",
       "<g id=\"edge11\" class=\"edge\"><title>5&#45;&gt;11</title>\n",
       "<path fill=\"none\" stroke=\"black\" d=\"M378.817,-341.907C383.238,-333.286 387.954,-324.09 392.526,-315.175\"/>\n",
       "<polygon fill=\"black\" stroke=\"black\" points=\"395.771,-316.516 397.22,-306.021 389.543,-313.322 395.771,-316.516\"/>\n",
       "</g>\n",
       "<!-- 7 -->\n",
       "<g id=\"node8\" class=\"node\"><title>7</title>\n",
       "<polygon fill=\"#f7dac4\" stroke=\"black\" points=\"221.5,-187 116.5,-187 116.5,-104 221.5,-104 221.5,-187\"/>\n",
       "<text text-anchor=\"middle\" x=\"169\" y=\"-171.8\" font-family=\"Times,serif\" font-size=\"14.00\">Fare &lt;= 32.51</text>\n",
       "<text text-anchor=\"middle\" x=\"169\" y=\"-156.8\" font-family=\"Times,serif\" font-size=\"14.00\">gini = 0.485</text>\n",
       "<text text-anchor=\"middle\" x=\"169\" y=\"-141.8\" font-family=\"Times,serif\" font-size=\"14.00\">samples = 63</text>\n",
       "<text text-anchor=\"middle\" x=\"169\" y=\"-126.8\" font-family=\"Times,serif\" font-size=\"14.00\">value = [37, 26]</text>\n",
       "<text text-anchor=\"middle\" x=\"169\" y=\"-111.8\" font-family=\"Times,serif\" font-size=\"14.00\">class = 未生还</text>\n",
       "</g>\n",
       "<!-- 6&#45;&gt;7 -->\n",
       "<g id=\"edge7\" class=\"edge\"><title>6&#45;&gt;7</title>\n",
       "<path fill=\"none\" stroke=\"black\" d=\"M248.673,-222.907C239.021,-213.651 228.678,-203.732 218.748,-194.209\"/>\n",
       "<polygon fill=\"black\" stroke=\"black\" points=\"220.892,-191.416 211.252,-187.021 216.047,-196.469 220.892,-191.416\"/>\n",
       "</g>\n",
       "<!-- 10 -->\n",
       "<g id=\"node11\" class=\"node\"><title>10</title>\n",
       "<polygon fill=\"#e78a47\" stroke=\"black\" points=\"341.5,-179.5 240.5,-179.5 240.5,-111.5 341.5,-111.5 341.5,-179.5\"/>\n",
       "<text text-anchor=\"middle\" x=\"291\" y=\"-164.3\" font-family=\"Times,serif\" font-size=\"14.00\">gini = 0.124</text>\n",
       "<text text-anchor=\"middle\" x=\"291\" y=\"-149.3\" font-family=\"Times,serif\" font-size=\"14.00\">samples = 15</text>\n",
       "<text text-anchor=\"middle\" x=\"291\" y=\"-134.3\" font-family=\"Times,serif\" font-size=\"14.00\">value = [14, 1]</text>\n",
       "<text text-anchor=\"middle\" x=\"291\" y=\"-119.3\" font-family=\"Times,serif\" font-size=\"14.00\">class = 未生还</text>\n",
       "</g>\n",
       "<!-- 6&#45;&gt;10 -->\n",
       "<g id=\"edge10\" class=\"edge\"><title>6&#45;&gt;10</title>\n",
       "<path fill=\"none\" stroke=\"black\" d=\"M291,-222.907C291,-212.204 291,-200.615 291,-189.776\"/>\n",
       "<polygon fill=\"black\" stroke=\"black\" points=\"294.5,-189.667 291,-179.667 287.5,-189.667 294.5,-189.667\"/>\n",
       "</g>\n",
       "<!-- 8 -->\n",
       "<g id=\"node9\" class=\"node\"><title>8</title>\n",
       "<polygon fill=\"#cee6f8\" stroke=\"black\" points=\"98,-68 7.10543e-15,-68 7.10543e-15,-0 98,-0 98,-68\"/>\n",
       "<text text-anchor=\"middle\" x=\"49\" y=\"-52.8\" font-family=\"Times,serif\" font-size=\"14.00\">gini = 0.49</text>\n",
       "<text text-anchor=\"middle\" x=\"49\" y=\"-37.8\" font-family=\"Times,serif\" font-size=\"14.00\">samples = 21</text>\n",
       "<text text-anchor=\"middle\" x=\"49\" y=\"-22.8\" font-family=\"Times,serif\" font-size=\"14.00\">value = [9, 12]</text>\n",
       "<text text-anchor=\"middle\" x=\"49\" y=\"-7.8\" font-family=\"Times,serif\" font-size=\"14.00\">class = 生还</text>\n",
       "</g>\n",
       "<!-- 7&#45;&gt;8 -->\n",
       "<g id=\"edge8\" class=\"edge\"><title>7&#45;&gt;8</title>\n",
       "<path fill=\"none\" stroke=\"black\" d=\"M124.316,-103.726C114.121,-94.423 103.293,-84.5428 93.1218,-75.2612\"/>\n",
       "<polygon fill=\"black\" stroke=\"black\" points=\"95.2388,-72.4547 85.4927,-68.2996 90.5204,-77.6255 95.2388,-72.4547\"/>\n",
       "</g>\n",
       "<!-- 9 -->\n",
       "<g id=\"node10\" class=\"node\"><title>9</title>\n",
       "<polygon fill=\"#f2c09c\" stroke=\"black\" points=\"221.5,-68 116.5,-68 116.5,-0 221.5,-0 221.5,-68\"/>\n",
       "<text text-anchor=\"middle\" x=\"169\" y=\"-52.8\" font-family=\"Times,serif\" font-size=\"14.00\">gini = 0.444</text>\n",
       "<text text-anchor=\"middle\" x=\"169\" y=\"-37.8\" font-family=\"Times,serif\" font-size=\"14.00\">samples = 42</text>\n",
       "<text text-anchor=\"middle\" x=\"169\" y=\"-22.8\" font-family=\"Times,serif\" font-size=\"14.00\">value = [28, 14]</text>\n",
       "<text text-anchor=\"middle\" x=\"169\" y=\"-7.8\" font-family=\"Times,serif\" font-size=\"14.00\">class = 未生还</text>\n",
       "</g>\n",
       "<!-- 7&#45;&gt;9 -->\n",
       "<g id=\"edge9\" class=\"edge\"><title>7&#45;&gt;9</title>\n",
       "<path fill=\"none\" stroke=\"black\" d=\"M169,-103.726C169,-95.5175 169,-86.8595 169,-78.56\"/>\n",
       "<polygon fill=\"black\" stroke=\"black\" points=\"172.5,-78.2996 169,-68.2996 165.5,-78.2996 172.5,-78.2996\"/>\n",
       "</g>\n",
       "<!-- 12 -->\n",
       "<g id=\"node13\" class=\"node\"><title>12</title>\n",
       "<polygon fill=\"#ea975c\" stroke=\"black\" points=\"473,-187 361,-187 361,-104 473,-104 473,-187\"/>\n",
       "<text text-anchor=\"middle\" x=\"417\" y=\"-171.8\" font-family=\"Times,serif\" font-size=\"14.00\">Age &lt;= 31.5</text>\n",
       "<text text-anchor=\"middle\" x=\"417\" y=\"-156.8\" font-family=\"Times,serif\" font-size=\"14.00\">gini = 0.256</text>\n",
       "<text text-anchor=\"middle\" x=\"417\" y=\"-141.8\" font-family=\"Times,serif\" font-size=\"14.00\">samples = 159</text>\n",
       "<text text-anchor=\"middle\" x=\"417\" y=\"-126.8\" font-family=\"Times,serif\" font-size=\"14.00\">value = [135, 24]</text>\n",
       "<text text-anchor=\"middle\" x=\"417\" y=\"-111.8\" font-family=\"Times,serif\" font-size=\"14.00\">class = 未生还</text>\n",
       "</g>\n",
       "<!-- 11&#45;&gt;12 -->\n",
       "<g id=\"edge12\" class=\"edge\"><title>11&#45;&gt;12</title>\n",
       "<path fill=\"none\" stroke=\"black\" d=\"M417.653,-222.907C417.582,-214.649 417.507,-205.864 417.434,-197.302\"/>\n",
       "<polygon fill=\"black\" stroke=\"black\" points=\"420.932,-196.99 417.346,-187.021 413.932,-197.05 420.932,-196.99\"/>\n",
       "</g>\n",
       "<!-- 15 -->\n",
       "<g id=\"node16\" class=\"node\"><title>15</title>\n",
       "<polygon fill=\"#e68640\" stroke=\"black\" points=\"592.5,-187 491.5,-187 491.5,-104 592.5,-104 592.5,-187\"/>\n",
       "<text text-anchor=\"middle\" x=\"542\" y=\"-171.8\" font-family=\"Times,serif\" font-size=\"14.00\">Fare &lt;= 7.91</text>\n",
       "<text text-anchor=\"middle\" x=\"542\" y=\"-156.8\" font-family=\"Times,serif\" font-size=\"14.00\">gini = 0.07</text>\n",
       "<text text-anchor=\"middle\" x=\"542\" y=\"-141.8\" font-family=\"Times,serif\" font-size=\"14.00\">samples = 83</text>\n",
       "<text text-anchor=\"middle\" x=\"542\" y=\"-126.8\" font-family=\"Times,serif\" font-size=\"14.00\">value = [80, 3]</text>\n",
       "<text text-anchor=\"middle\" x=\"542\" y=\"-111.8\" font-family=\"Times,serif\" font-size=\"14.00\">class = 未生还</text>\n",
       "</g>\n",
       "<!-- 11&#45;&gt;15 -->\n",
       "<g id=\"edge15\" class=\"edge\"><title>11&#45;&gt;15</title>\n",
       "<path fill=\"none\" stroke=\"black\" d=\"M461.021,-222.907C470.928,-213.56 481.55,-203.538 491.734,-193.929\"/>\n",
       "<polygon fill=\"black\" stroke=\"black\" points=\"494.183,-196.429 499.055,-187.021 489.379,-191.338 494.183,-196.429\"/>\n",
       "</g>\n",
       "<!-- 13 -->\n",
       "<g id=\"node14\" class=\"node\"><title>13</title>\n",
       "<polygon fill=\"#e99355\" stroke=\"black\" points=\"352,-68 240,-68 240,-0 352,-0 352,-68\"/>\n",
       "<text text-anchor=\"middle\" x=\"296\" y=\"-52.8\" font-family=\"Times,serif\" font-size=\"14.00\">gini = 0.216</text>\n",
       "<text text-anchor=\"middle\" x=\"296\" y=\"-37.8\" font-family=\"Times,serif\" font-size=\"14.00\">samples = 146</text>\n",
       "<text text-anchor=\"middle\" x=\"296\" y=\"-22.8\" font-family=\"Times,serif\" font-size=\"14.00\">value = [128, 18]</text>\n",
       "<text text-anchor=\"middle\" x=\"296\" y=\"-7.8\" font-family=\"Times,serif\" font-size=\"14.00\">class = 未生还</text>\n",
       "</g>\n",
       "<!-- 12&#45;&gt;13 -->\n",
       "<g id=\"edge13\" class=\"edge\"><title>12&#45;&gt;13</title>\n",
       "<path fill=\"none\" stroke=\"black\" d=\"M371.944,-103.726C361.664,-94.423 350.746,-84.5428 340.489,-75.2612\"/>\n",
       "<polygon fill=\"black\" stroke=\"black\" points=\"342.56,-72.4144 332.797,-68.2996 337.863,-77.6047 342.56,-72.4144\"/>\n",
       "</g>\n",
       "<!-- 14 -->\n",
       "<g id=\"node15\" class=\"node\"><title>14</title>\n",
       "<polygon fill=\"#fbede3\" stroke=\"black\" points=\"471.5,-68 370.5,-68 370.5,-0 471.5,-0 471.5,-68\"/>\n",
       "<text text-anchor=\"middle\" x=\"421\" y=\"-52.8\" font-family=\"Times,serif\" font-size=\"14.00\">gini = 0.497</text>\n",
       "<text text-anchor=\"middle\" x=\"421\" y=\"-37.8\" font-family=\"Times,serif\" font-size=\"14.00\">samples = 13</text>\n",
       "<text text-anchor=\"middle\" x=\"421\" y=\"-22.8\" font-family=\"Times,serif\" font-size=\"14.00\">value = [7, 6]</text>\n",
       "<text text-anchor=\"middle\" x=\"421\" y=\"-7.8\" font-family=\"Times,serif\" font-size=\"14.00\">class = 未生还</text>\n",
       "</g>\n",
       "<!-- 12&#45;&gt;14 -->\n",
       "<g id=\"edge14\" class=\"edge\"><title>12&#45;&gt;14</title>\n",
       "<path fill=\"none\" stroke=\"black\" d=\"M418.489,-103.726C418.789,-95.5175 419.106,-86.8595 419.409,-78.56\"/>\n",
       "<polygon fill=\"black\" stroke=\"black\" points=\"422.916,-78.4207 419.784,-68.2996 415.921,-78.1651 422.916,-78.4207\"/>\n",
       "</g>\n",
       "<!-- 16 -->\n",
       "<g id=\"node17\" class=\"node\"><title>16</title>\n",
       "<polygon fill=\"#e58139\" stroke=\"black\" points=\"590.5,-68 489.5,-68 489.5,-0 590.5,-0 590.5,-68\"/>\n",
       "<text text-anchor=\"middle\" x=\"540\" y=\"-52.8\" font-family=\"Times,serif\" font-size=\"14.00\">gini = 0.0</text>\n",
       "<text text-anchor=\"middle\" x=\"540\" y=\"-37.8\" font-family=\"Times,serif\" font-size=\"14.00\">samples = 29</text>\n",
       "<text text-anchor=\"middle\" x=\"540\" y=\"-22.8\" font-family=\"Times,serif\" font-size=\"14.00\">value = [29, 0]</text>\n",
       "<text text-anchor=\"middle\" x=\"540\" y=\"-7.8\" font-family=\"Times,serif\" font-size=\"14.00\">class = 未生还</text>\n",
       "</g>\n",
       "<!-- 15&#45;&gt;16 -->\n",
       "<g id=\"edge16\" class=\"edge\"><title>15&#45;&gt;16</title>\n",
       "<path fill=\"none\" stroke=\"black\" d=\"M541.255,-103.726C541.105,-95.5175 540.947,-86.8595 540.796,-78.56\"/>\n",
       "<polygon fill=\"black\" stroke=\"black\" points=\"544.29,-78.234 540.608,-68.2996 537.292,-78.3619 544.29,-78.234\"/>\n",
       "</g>\n",
       "<!-- 17 -->\n",
       "<g id=\"node18\" class=\"node\"><title>17</title>\n",
       "<polygon fill=\"#e78845\" stroke=\"black\" points=\"709.5,-68 608.5,-68 608.5,-0 709.5,-0 709.5,-68\"/>\n",
       "<text text-anchor=\"middle\" x=\"659\" y=\"-52.8\" font-family=\"Times,serif\" font-size=\"14.00\">gini = 0.105</text>\n",
       "<text text-anchor=\"middle\" x=\"659\" y=\"-37.8\" font-family=\"Times,serif\" font-size=\"14.00\">samples = 54</text>\n",
       "<text text-anchor=\"middle\" x=\"659\" y=\"-22.8\" font-family=\"Times,serif\" font-size=\"14.00\">value = [51, 3]</text>\n",
       "<text text-anchor=\"middle\" x=\"659\" y=\"-7.8\" font-family=\"Times,serif\" font-size=\"14.00\">class = 未生还</text>\n",
       "</g>\n",
       "<!-- 15&#45;&gt;17 -->\n",
       "<g id=\"edge17\" class=\"edge\"><title>15&#45;&gt;17</title>\n",
       "<path fill=\"none\" stroke=\"black\" d=\"M585.566,-103.726C595.507,-94.423 606.064,-84.5428 615.981,-75.2612\"/>\n",
       "<polygon fill=\"black\" stroke=\"black\" points=\"618.51,-77.6882 623.42,-68.2996 613.727,-72.5774 618.51,-77.6882\"/>\n",
       "</g>\n",
       "<!-- 19 -->\n",
       "<g id=\"node20\" class=\"node\"><title>19</title>\n",
       "<polygon fill=\"#49a5e7\" stroke=\"black\" points=\"887.5,-425 782.5,-425 782.5,-342 887.5,-342 887.5,-425\"/>\n",
       "<text text-anchor=\"middle\" x=\"835\" y=\"-409.8\" font-family=\"Times,serif\" font-size=\"14.00\">Fare &lt;= 28.856</text>\n",
       "<text text-anchor=\"middle\" x=\"835\" y=\"-394.8\" font-family=\"Times,serif\" font-size=\"14.00\">gini = 0.141</text>\n",
       "<text text-anchor=\"middle\" x=\"835\" y=\"-379.8\" font-family=\"Times,serif\" font-size=\"14.00\">samples = 118</text>\n",
       "<text text-anchor=\"middle\" x=\"835\" y=\"-364.8\" font-family=\"Times,serif\" font-size=\"14.00\">value = [9, 109]</text>\n",
       "<text text-anchor=\"middle\" x=\"835\" y=\"-349.8\" font-family=\"Times,serif\" font-size=\"14.00\">class = 生还</text>\n",
       "</g>\n",
       "<!-- 18&#45;&gt;19 -->\n",
       "<g id=\"edge19\" class=\"edge\"><title>18&#45;&gt;19</title>\n",
       "<path fill=\"none\" stroke=\"black\" d=\"M835,-460.907C835,-452.649 835,-443.864 835,-435.302\"/>\n",
       "<polygon fill=\"black\" stroke=\"black\" points=\"838.5,-435.021 835,-425.021 831.5,-435.021 838.5,-435.021\"/>\n",
       "</g>\n",
       "<!-- 28 -->\n",
       "<g id=\"node29\" class=\"node\"><title>28</title>\n",
       "<polygon fill=\"#fdf4ee\" stroke=\"black\" points=\"1174.5,-425 1069.5,-425 1069.5,-342 1174.5,-342 1174.5,-425\"/>\n",
       "<text text-anchor=\"middle\" x=\"1122\" y=\"-409.8\" font-family=\"Times,serif\" font-size=\"14.00\">Fare &lt;= 20.8</text>\n",
       "<text text-anchor=\"middle\" x=\"1122\" y=\"-394.8\" font-family=\"Times,serif\" font-size=\"14.00\">gini = 0.499</text>\n",
       "<text text-anchor=\"middle\" x=\"1122\" y=\"-379.8\" font-family=\"Times,serif\" font-size=\"14.00\">samples = 65</text>\n",
       "<text text-anchor=\"middle\" x=\"1122\" y=\"-364.8\" font-family=\"Times,serif\" font-size=\"14.00\">value = [34, 31]</text>\n",
       "<text text-anchor=\"middle\" x=\"1122\" y=\"-349.8\" font-family=\"Times,serif\" font-size=\"14.00\">class = 未生还</text>\n",
       "</g>\n",
       "<!-- 18&#45;&gt;28 -->\n",
       "<g id=\"edge28\" class=\"edge\"><title>18&#45;&gt;28</title>\n",
       "<path fill=\"none\" stroke=\"black\" d=\"M891.018,-478.663C939.446,-458.921 1009.37,-430.416 1059.58,-409.947\"/>\n",
       "<polygon fill=\"black\" stroke=\"black\" points=\"1061.09,-413.11 1069.03,-406.094 1058.45,-406.628 1061.09,-413.11\"/>\n",
       "</g>\n",
       "<!-- 20 -->\n",
       "<g id=\"node21\" class=\"node\"><title>20</title>\n",
       "<polygon fill=\"#59ade9\" stroke=\"black\" points=\"826,-306 728,-306 728,-223 826,-223 826,-306\"/>\n",
       "<text text-anchor=\"middle\" x=\"777\" y=\"-290.8\" font-family=\"Times,serif\" font-size=\"14.00\">Age &lt;= 22.5</text>\n",
       "<text text-anchor=\"middle\" x=\"777\" y=\"-275.8\" font-family=\"Times,serif\" font-size=\"14.00\">gini = 0.241</text>\n",
       "<text text-anchor=\"middle\" x=\"777\" y=\"-260.8\" font-family=\"Times,serif\" font-size=\"14.00\">samples = 50</text>\n",
       "<text text-anchor=\"middle\" x=\"777\" y=\"-245.8\" font-family=\"Times,serif\" font-size=\"14.00\">value = [7, 43]</text>\n",
       "<text text-anchor=\"middle\" x=\"777\" y=\"-230.8\" font-family=\"Times,serif\" font-size=\"14.00\">class = 生还</text>\n",
       "</g>\n",
       "<!-- 19&#45;&gt;20 -->\n",
       "<g id=\"edge20\" class=\"edge\"><title>19&#45;&gt;20</title>\n",
       "<path fill=\"none\" stroke=\"black\" d=\"M814.877,-341.907C810.603,-333.286 806.045,-324.09 801.625,-315.175\"/>\n",
       "<polygon fill=\"black\" stroke=\"black\" points=\"804.665,-313.426 797.087,-306.021 798.393,-316.535 804.665,-313.426\"/>\n",
       "</g>\n",
       "<!-- 25 -->\n",
       "<g id=\"node26\" class=\"node\"><title>25</title>\n",
       "<polygon fill=\"#3fa0e6\" stroke=\"black\" points=\"942,-306 844,-306 844,-223 942,-223 942,-306\"/>\n",
       "<text text-anchor=\"middle\" x=\"893\" y=\"-290.8\" font-family=\"Times,serif\" font-size=\"14.00\">Parch &lt;= 1.5</text>\n",
       "<text text-anchor=\"middle\" x=\"893\" y=\"-275.8\" font-family=\"Times,serif\" font-size=\"14.00\">gini = 0.057</text>\n",
       "<text text-anchor=\"middle\" x=\"893\" y=\"-260.8\" font-family=\"Times,serif\" font-size=\"14.00\">samples = 68</text>\n",
       "<text text-anchor=\"middle\" x=\"893\" y=\"-245.8\" font-family=\"Times,serif\" font-size=\"14.00\">value = [2, 66]</text>\n",
       "<text text-anchor=\"middle\" x=\"893\" y=\"-230.8\" font-family=\"Times,serif\" font-size=\"14.00\">class = 生还</text>\n",
       "</g>\n",
       "<!-- 19&#45;&gt;25 -->\n",
       "<g id=\"edge25\" class=\"edge\"><title>19&#45;&gt;25</title>\n",
       "<path fill=\"none\" stroke=\"black\" d=\"M855.123,-341.907C859.397,-333.286 863.955,-324.09 868.375,-315.175\"/>\n",
       "<polygon fill=\"black\" stroke=\"black\" points=\"871.607,-316.535 872.913,-306.021 865.335,-313.426 871.607,-316.535\"/>\n",
       "</g>\n",
       "<!-- 21 -->\n",
       "<g id=\"node22\" class=\"node\"><title>21</title>\n",
       "<polygon fill=\"#399de5\" stroke=\"black\" points=\"710,-179.5 612,-179.5 612,-111.5 710,-111.5 710,-179.5\"/>\n",
       "<text text-anchor=\"middle\" x=\"661\" y=\"-164.3\" font-family=\"Times,serif\" font-size=\"14.00\">gini = 0.0</text>\n",
       "<text text-anchor=\"middle\" x=\"661\" y=\"-149.3\" font-family=\"Times,serif\" font-size=\"14.00\">samples = 11</text>\n",
       "<text text-anchor=\"middle\" x=\"661\" y=\"-134.3\" font-family=\"Times,serif\" font-size=\"14.00\">value = [0, 11]</text>\n",
       "<text text-anchor=\"middle\" x=\"661\" y=\"-119.3\" font-family=\"Times,serif\" font-size=\"14.00\">class = 生还</text>\n",
       "</g>\n",
       "<!-- 20&#45;&gt;21 -->\n",
       "<g id=\"edge21\" class=\"edge\"><title>20&#45;&gt;21</title>\n",
       "<path fill=\"none\" stroke=\"black\" d=\"M736.754,-222.907C725.158,-211.211 712.513,-198.457 700.935,-186.78\"/>\n",
       "<polygon fill=\"black\" stroke=\"black\" points=\"703.41,-184.304 693.883,-179.667 698.439,-189.233 703.41,-184.304\"/>\n",
       "</g>\n",
       "<!-- 22 -->\n",
       "<g id=\"node23\" class=\"node\"><title>22</title>\n",
       "<polygon fill=\"#64b2eb\" stroke=\"black\" points=\"826,-187 728,-187 728,-104 826,-104 826,-187\"/>\n",
       "<text text-anchor=\"middle\" x=\"777\" y=\"-171.8\" font-family=\"Times,serif\" font-size=\"14.00\">SibSp &lt;= 0.5</text>\n",
       "<text text-anchor=\"middle\" x=\"777\" y=\"-156.8\" font-family=\"Times,serif\" font-size=\"14.00\">gini = 0.295</text>\n",
       "<text text-anchor=\"middle\" x=\"777\" y=\"-141.8\" font-family=\"Times,serif\" font-size=\"14.00\">samples = 39</text>\n",
       "<text text-anchor=\"middle\" x=\"777\" y=\"-126.8\" font-family=\"Times,serif\" font-size=\"14.00\">value = [7, 32]</text>\n",
       "<text text-anchor=\"middle\" x=\"777\" y=\"-111.8\" font-family=\"Times,serif\" font-size=\"14.00\">class = 生还</text>\n",
       "</g>\n",
       "<!-- 20&#45;&gt;22 -->\n",
       "<g id=\"edge22\" class=\"edge\"><title>20&#45;&gt;22</title>\n",
       "<path fill=\"none\" stroke=\"black\" d=\"M777,-222.907C777,-214.649 777,-205.864 777,-197.302\"/>\n",
       "<polygon fill=\"black\" stroke=\"black\" points=\"780.5,-197.021 777,-187.021 773.5,-197.021 780.5,-197.021\"/>\n",
       "</g>\n",
       "<!-- 23 -->\n",
       "<g id=\"node24\" class=\"node\"><title>23</title>\n",
       "<polygon fill=\"#5aade9\" stroke=\"black\" points=\"826,-68 728,-68 728,-0 826,-0 826,-68\"/>\n",
       "<text text-anchor=\"middle\" x=\"777\" y=\"-52.8\" font-family=\"Times,serif\" font-size=\"14.00\">gini = 0.245</text>\n",
       "<text text-anchor=\"middle\" x=\"777\" y=\"-37.8\" font-family=\"Times,serif\" font-size=\"14.00\">samples = 28</text>\n",
       "<text text-anchor=\"middle\" x=\"777\" y=\"-22.8\" font-family=\"Times,serif\" font-size=\"14.00\">value = [4, 24]</text>\n",
       "<text text-anchor=\"middle\" x=\"777\" y=\"-7.8\" font-family=\"Times,serif\" font-size=\"14.00\">class = 生还</text>\n",
       "</g>\n",
       "<!-- 22&#45;&gt;23 -->\n",
       "<g id=\"edge23\" class=\"edge\"><title>22&#45;&gt;23</title>\n",
       "<path fill=\"none\" stroke=\"black\" d=\"M777,-103.726C777,-95.5175 777,-86.8595 777,-78.56\"/>\n",
       "<polygon fill=\"black\" stroke=\"black\" points=\"780.5,-78.2996 777,-68.2996 773.5,-78.2996 780.5,-78.2996\"/>\n",
       "</g>\n",
       "<!-- 24 -->\n",
       "<g id=\"node25\" class=\"node\"><title>24</title>\n",
       "<polygon fill=\"#83c2ef\" stroke=\"black\" points=\"936,-68 844,-68 844,-0 936,-0 936,-68\"/>\n",
       "<text text-anchor=\"middle\" x=\"890\" y=\"-52.8\" font-family=\"Times,serif\" font-size=\"14.00\">gini = 0.397</text>\n",
       "<text text-anchor=\"middle\" x=\"890\" y=\"-37.8\" font-family=\"Times,serif\" font-size=\"14.00\">samples = 11</text>\n",
       "<text text-anchor=\"middle\" x=\"890\" y=\"-22.8\" font-family=\"Times,serif\" font-size=\"14.00\">value = [3, 8]</text>\n",
       "<text text-anchor=\"middle\" x=\"890\" y=\"-7.8\" font-family=\"Times,serif\" font-size=\"14.00\">class = 生还</text>\n",
       "</g>\n",
       "<!-- 22&#45;&gt;24 -->\n",
       "<g id=\"edge24\" class=\"edge\"><title>22&#45;&gt;24</title>\n",
       "<path fill=\"none\" stroke=\"black\" d=\"M819.077,-103.726C828.678,-94.423 838.874,-84.5428 848.452,-75.2612\"/>\n",
       "<polygon fill=\"black\" stroke=\"black\" points=\"850.89,-77.7721 855.636,-68.2996 846.019,-72.7451 850.89,-77.7721\"/>\n",
       "</g>\n",
       "<!-- 26 -->\n",
       "<g id=\"node27\" class=\"node\"><title>26</title>\n",
       "<polygon fill=\"#399de5\" stroke=\"black\" points=\"942,-179.5 844,-179.5 844,-111.5 942,-111.5 942,-179.5\"/>\n",
       "<text text-anchor=\"middle\" x=\"893\" y=\"-164.3\" font-family=\"Times,serif\" font-size=\"14.00\">gini = 0.0</text>\n",
       "<text text-anchor=\"middle\" x=\"893\" y=\"-149.3\" font-family=\"Times,serif\" font-size=\"14.00\">samples = 56</text>\n",
       "<text text-anchor=\"middle\" x=\"893\" y=\"-134.3\" font-family=\"Times,serif\" font-size=\"14.00\">value = [0, 56]</text>\n",
       "<text text-anchor=\"middle\" x=\"893\" y=\"-119.3\" font-family=\"Times,serif\" font-size=\"14.00\">class = 生还</text>\n",
       "</g>\n",
       "<!-- 25&#45;&gt;26 -->\n",
       "<g id=\"edge26\" class=\"edge\"><title>25&#45;&gt;26</title>\n",
       "<path fill=\"none\" stroke=\"black\" d=\"M893,-222.907C893,-212.204 893,-200.615 893,-189.776\"/>\n",
       "<polygon fill=\"black\" stroke=\"black\" points=\"896.5,-189.667 893,-179.667 889.5,-189.667 896.5,-189.667\"/>\n",
       "</g>\n",
       "<!-- 27 -->\n",
       "<g id=\"node28\" class=\"node\"><title>27</title>\n",
       "<polygon fill=\"#61b1ea\" stroke=\"black\" points=\"1058,-179.5 960,-179.5 960,-111.5 1058,-111.5 1058,-179.5\"/>\n",
       "<text text-anchor=\"middle\" x=\"1009\" y=\"-164.3\" font-family=\"Times,serif\" font-size=\"14.00\">gini = 0.278</text>\n",
       "<text text-anchor=\"middle\" x=\"1009\" y=\"-149.3\" font-family=\"Times,serif\" font-size=\"14.00\">samples = 12</text>\n",
       "<text text-anchor=\"middle\" x=\"1009\" y=\"-134.3\" font-family=\"Times,serif\" font-size=\"14.00\">value = [2, 10]</text>\n",
       "<text text-anchor=\"middle\" x=\"1009\" y=\"-119.3\" font-family=\"Times,serif\" font-size=\"14.00\">class = 生还</text>\n",
       "</g>\n",
       "<!-- 25&#45;&gt;27 -->\n",
       "<g id=\"edge27\" class=\"edge\"><title>25&#45;&gt;27</title>\n",
       "<path fill=\"none\" stroke=\"black\" d=\"M933.246,-222.907C944.842,-211.211 957.487,-198.457 969.065,-186.78\"/>\n",
       "<polygon fill=\"black\" stroke=\"black\" points=\"971.561,-189.233 976.117,-179.667 966.59,-184.304 971.561,-189.233\"/>\n",
       "</g>\n",
       "<!-- 29 -->\n",
       "<g id=\"node30\" class=\"node\"><title>29</title>\n",
       "<polygon fill=\"#d6ebfa\" stroke=\"black\" points=\"1174.5,-306 1069.5,-306 1069.5,-223 1174.5,-223 1174.5,-306\"/>\n",
       "<text text-anchor=\"middle\" x=\"1122\" y=\"-290.8\" font-family=\"Times,serif\" font-size=\"14.00\">Age &lt;= 16.5</text>\n",
       "<text text-anchor=\"middle\" x=\"1122\" y=\"-275.8\" font-family=\"Times,serif\" font-size=\"14.00\">gini = 0.493</text>\n",
       "<text text-anchor=\"middle\" x=\"1122\" y=\"-260.8\" font-family=\"Times,serif\" font-size=\"14.00\">samples = 52</text>\n",
       "<text text-anchor=\"middle\" x=\"1122\" y=\"-245.8\" font-family=\"Times,serif\" font-size=\"14.00\">value = [23, 29]</text>\n",
       "<text text-anchor=\"middle\" x=\"1122\" y=\"-230.8\" font-family=\"Times,serif\" font-size=\"14.00\">class = 生还</text>\n",
       "</g>\n",
       "<!-- 28&#45;&gt;29 -->\n",
       "<g id=\"edge29\" class=\"edge\"><title>28&#45;&gt;29</title>\n",
       "<path fill=\"none\" stroke=\"black\" d=\"M1122,-341.907C1122,-333.649 1122,-324.864 1122,-316.302\"/>\n",
       "<polygon fill=\"black\" stroke=\"black\" points=\"1125.5,-316.021 1122,-306.021 1118.5,-316.021 1125.5,-316.021\"/>\n",
       "</g>\n",
       "<!-- 34 -->\n",
       "<g id=\"node35\" class=\"node\"><title>34</title>\n",
       "<polygon fill=\"#ea985d\" stroke=\"black\" points=\"1293.5,-298.5 1192.5,-298.5 1192.5,-230.5 1293.5,-230.5 1293.5,-298.5\"/>\n",
       "<text text-anchor=\"middle\" x=\"1243\" y=\"-283.3\" font-family=\"Times,serif\" font-size=\"14.00\">gini = 0.26</text>\n",
       "<text text-anchor=\"middle\" x=\"1243\" y=\"-268.3\" font-family=\"Times,serif\" font-size=\"14.00\">samples = 13</text>\n",
       "<text text-anchor=\"middle\" x=\"1243\" y=\"-253.3\" font-family=\"Times,serif\" font-size=\"14.00\">value = [11, 2]</text>\n",
       "<text text-anchor=\"middle\" x=\"1243\" y=\"-238.3\" font-family=\"Times,serif\" font-size=\"14.00\">class = 未生还</text>\n",
       "</g>\n",
       "<!-- 28&#45;&gt;34 -->\n",
       "<g id=\"edge34\" class=\"edge\"><title>28&#45;&gt;34</title>\n",
       "<path fill=\"none\" stroke=\"black\" d=\"M1163.98,-341.907C1176.08,-330.211 1189.27,-317.457 1201.34,-305.78\"/>\n",
       "<polygon fill=\"black\" stroke=\"black\" points=\"1203.94,-308.134 1208.7,-298.667 1199.08,-303.102 1203.94,-308.134\"/>\n",
       "</g>\n",
       "<!-- 30 -->\n",
       "<g id=\"node31\" class=\"node\"><title>30</title>\n",
       "<polygon fill=\"#65b3eb\" stroke=\"black\" points=\"1168,-179.5 1076,-179.5 1076,-111.5 1168,-111.5 1168,-179.5\"/>\n",
       "<text text-anchor=\"middle\" x=\"1122\" y=\"-164.3\" font-family=\"Times,serif\" font-size=\"14.00\">gini = 0.298</text>\n",
       "<text text-anchor=\"middle\" x=\"1122\" y=\"-149.3\" font-family=\"Times,serif\" font-size=\"14.00\">samples = 11</text>\n",
       "<text text-anchor=\"middle\" x=\"1122\" y=\"-134.3\" font-family=\"Times,serif\" font-size=\"14.00\">value = [2, 9]</text>\n",
       "<text text-anchor=\"middle\" x=\"1122\" y=\"-119.3\" font-family=\"Times,serif\" font-size=\"14.00\">class = 生还</text>\n",
       "</g>\n",
       "<!-- 29&#45;&gt;30 -->\n",
       "<g id=\"edge30\" class=\"edge\"><title>29&#45;&gt;30</title>\n",
       "<path fill=\"none\" stroke=\"black\" d=\"M1122,-222.907C1122,-212.204 1122,-200.615 1122,-189.776\"/>\n",
       "<polygon fill=\"black\" stroke=\"black\" points=\"1125.5,-189.667 1122,-179.667 1118.5,-189.667 1125.5,-189.667\"/>\n",
       "</g>\n",
       "<!-- 31 -->\n",
       "<g id=\"node32\" class=\"node\"><title>31</title>\n",
       "<polygon fill=\"#fef9f6\" stroke=\"black\" points=\"1291.5,-187 1186.5,-187 1186.5,-104 1291.5,-104 1291.5,-187\"/>\n",
       "<text text-anchor=\"middle\" x=\"1239\" y=\"-171.8\" font-family=\"Times,serif\" font-size=\"14.00\">Fare &lt;= 14.873</text>\n",
       "<text text-anchor=\"middle\" x=\"1239\" y=\"-156.8\" font-family=\"Times,serif\" font-size=\"14.00\">gini = 0.5</text>\n",
       "<text text-anchor=\"middle\" x=\"1239\" y=\"-141.8\" font-family=\"Times,serif\" font-size=\"14.00\">samples = 41</text>\n",
       "<text text-anchor=\"middle\" x=\"1239\" y=\"-126.8\" font-family=\"Times,serif\" font-size=\"14.00\">value = [21, 20]</text>\n",
       "<text text-anchor=\"middle\" x=\"1239\" y=\"-111.8\" font-family=\"Times,serif\" font-size=\"14.00\">class = 未生还</text>\n",
       "</g>\n",
       "<!-- 29&#45;&gt;31 -->\n",
       "<g id=\"edge31\" class=\"edge\"><title>29&#45;&gt;31</title>\n",
       "<path fill=\"none\" stroke=\"black\" d=\"M1162.59,-222.907C1171.85,-213.651 1181.77,-203.732 1191.29,-194.209\"/>\n",
       "<polygon fill=\"black\" stroke=\"black\" points=\"1193.88,-196.567 1198.48,-187.021 1188.93,-191.617 1193.88,-196.567\"/>\n",
       "</g>\n",
       "<!-- 32 -->\n",
       "<g id=\"node33\" class=\"node\"><title>32</title>\n",
       "<polygon fill=\"#f8dcc8\" stroke=\"black\" points=\"1232.5,-68 1127.5,-68 1127.5,-0 1232.5,-0 1232.5,-68\"/>\n",
       "<text text-anchor=\"middle\" x=\"1180\" y=\"-52.8\" font-family=\"Times,serif\" font-size=\"14.00\">gini = 0.487</text>\n",
       "<text text-anchor=\"middle\" x=\"1180\" y=\"-37.8\" font-family=\"Times,serif\" font-size=\"14.00\">samples = 31</text>\n",
       "<text text-anchor=\"middle\" x=\"1180\" y=\"-22.8\" font-family=\"Times,serif\" font-size=\"14.00\">value = [18, 13]</text>\n",
       "<text text-anchor=\"middle\" x=\"1180\" y=\"-7.8\" font-family=\"Times,serif\" font-size=\"14.00\">class = 未生还</text>\n",
       "</g>\n",
       "<!-- 31&#45;&gt;32 -->\n",
       "<g id=\"edge32\" class=\"edge\"><title>31&#45;&gt;32</title>\n",
       "<path fill=\"none\" stroke=\"black\" d=\"M1217.03,-103.726C1212.36,-95.0615 1207.42,-85.8962 1202.73,-77.1802\"/>\n",
       "<polygon fill=\"black\" stroke=\"black\" points=\"1205.77,-75.4428 1197.94,-68.2996 1199.6,-78.7632 1205.77,-75.4428\"/>\n",
       "</g>\n",
       "<!-- 33 -->\n",
       "<g id=\"node34\" class=\"node\"><title>33</title>\n",
       "<polygon fill=\"#8ec7f0\" stroke=\"black\" points=\"1343,-68 1251,-68 1251,-0 1343,-0 1343,-68\"/>\n",
       "<text text-anchor=\"middle\" x=\"1297\" y=\"-52.8\" font-family=\"Times,serif\" font-size=\"14.00\">gini = 0.42</text>\n",
       "<text text-anchor=\"middle\" x=\"1297\" y=\"-37.8\" font-family=\"Times,serif\" font-size=\"14.00\">samples = 10</text>\n",
       "<text text-anchor=\"middle\" x=\"1297\" y=\"-22.8\" font-family=\"Times,serif\" font-size=\"14.00\">value = [3, 7]</text>\n",
       "<text text-anchor=\"middle\" x=\"1297\" y=\"-7.8\" font-family=\"Times,serif\" font-size=\"14.00\">class = 生还</text>\n",
       "</g>\n",
       "<!-- 31&#45;&gt;33 -->\n",
       "<g id=\"edge33\" class=\"edge\"><title>31&#45;&gt;33</title>\n",
       "<path fill=\"none\" stroke=\"black\" d=\"M1260.6,-103.726C1265.19,-95.0615 1270.04,-85.8962 1274.66,-77.1802\"/>\n",
       "<polygon fill=\"black\" stroke=\"black\" points=\"1277.77,-78.7748 1279.36,-68.2996 1271.59,-75.4982 1277.77,-78.7748\"/>\n",
       "</g>\n",
       "</g>\n",
       "</svg>\n"
      ],
      "text/plain": [
       "<graphviz.files.Source at 0x7f2b80e13e80>"
      ]
     },
     "execution_count": 96,
     "metadata": {},
     "output_type": "execute_result"
    }
   ],
   "source": [
    "titDotForp = tree.export_graphviz(titDtForp,feature_names=list(titTrainX.columns),class_names=['未生还','生还'],filled=True)\n",
    "titDtForpGraph = graphviz.Source(titDotForp)\n",
    "titDtForpGraph"
   ]
  },
  {
   "cell_type": "markdown",
   "metadata": {
    "slideshow": {
     "slide_type": "slide"
    }
   },
   "source": [
    "##### 决策树在训练集上的性能"
   ]
  },
  {
   "cell_type": "code",
   "execution_count": 97,
   "metadata": {
    "slideshow": {
     "slide_type": "fragment"
    }
   },
   "outputs": [],
   "source": [
    "titTrainYPreForp = titDtForp.predict(titTrainX)"
   ]
  },
  {
   "cell_type": "code",
   "execution_count": 98,
   "metadata": {
    "slideshow": {
     "slide_type": "fragment"
    }
   },
   "outputs": [
    {
     "name": "stdout",
     "output_type": "stream",
     "text": [
      "先剪枝的决策树在训练集上的F1_score是0.792838874680307\n"
     ]
    }
   ],
   "source": [
    "print(f'先剪枝的决策树在训练集上的F1_score是{metrics.f1_score(titTrainY,titTrainYPreForp)}')"
   ]
  },
  {
   "cell_type": "code",
   "execution_count": 117,
   "metadata": {
    "slideshow": {
     "slide_type": "fragment"
    }
   },
   "outputs": [
    {
     "data": {
      "text/plain": [
       "<sklearn.metrics._plot.roc_curve.RocCurveDisplay at 0x7f2b80f01390>"
      ]
     },
     "execution_count": 117,
     "metadata": {},
     "output_type": "execute_result"
    },
    {
     "data": {
      "image/png": "[encoded data removed]",
      "text/plain": [
       "<Figure size 432x288 with 1 Axes>"
      ]
     },
     "metadata": {
      "needs_background": "light"
     },
     "output_type": "display_data"
    }
   ],
   "source": [
    "metrics.plot_roc_curve(titDtForp,titTrainX,titTrainY)"
   ]
  },
  {
   "cell_type": "markdown",
   "metadata": {
    "slideshow": {
     "slide_type": "slide"
    }
   },
   "source": [
    "##### 在训练集上与未剪枝的决策树比较"
   ]
  },
  {
   "cell_type": "code",
   "execution_count": 124,
   "metadata": {
    "slideshow": {
     "slide_type": "fragment"
    }
   },
   "outputs": [
    {
     "data": {
      "text/plain": [
       "<sklearn.metrics._plot.roc_curve.RocCurveDisplay at 0x7f2b80984ac8>"
      ]
     },
     "execution_count": 124,
     "metadata": {},
     "output_type": "execute_result"
    },
    {
     "data": {
      "image/png": "[encoded data removed]",
      "text/plain": [
       "<Figure size 432x288 with 1 Axes>"
      ]
     },
     "metadata": {
      "needs_background": "light"
     },
     "output_type": "display_data"
    }
   ],
   "source": [
    "titTrainDisp = metrics.plot_roc_curve(titDtForp,titTrainX,titTrainY,label='forward-pruning')\n",
    "metrics.plot_roc_curve(titDt,titTrainX,titTrainY,ax=titTrainDisp.ax_,label='original')\n",
    "# titTrainDisp.ax_：得到绘图的轴"
   ]
  },
  {
   "cell_type": "markdown",
   "metadata": {
    "slideshow": {
     "slide_type": "fragment"
    }
   },
   "source": [
    "##### 决策树在检验集上的性能"
   ]
  },
  {
   "cell_type": "code",
   "execution_count": 99,
   "metadata": {
    "slideshow": {
     "slide_type": "fragment"
    }
   },
   "outputs": [],
   "source": [
    "titTestYPreForp = titDtForp.predict(titTestX)"
   ]
  },
  {
   "cell_type": "code",
   "execution_count": 100,
   "metadata": {
    "slideshow": {
     "slide_type": "fragment"
    }
   },
   "outputs": [
    {
     "name": "stdout",
     "output_type": "stream",
     "text": [
      "先剪枝的决策树在训练集上的F1_score是0.7703703703703703\n"
     ]
    }
   ],
   "source": [
    "print(f'先剪枝的决策树在训练集上的F1_score是{metrics.f1_score(titTestY,titTestYPreForp)}')"
   ]
  },
  {
   "cell_type": "code",
   "execution_count": 119,
   "metadata": {
    "slideshow": {
     "slide_type": "fragment"
    }
   },
   "outputs": [
    {
     "data": {
      "text/plain": [
       "<sklearn.metrics._plot.roc_curve.RocCurveDisplay at 0x7f2b80c19390>"
      ]
     },
     "execution_count": 119,
     "metadata": {},
     "output_type": "execute_result"
    },
    {
     "data": {
      "image/png": "[encoded data removed]",
      "text/plain": [
       "<Figure size 432x288 with 1 Axes>"
      ]
     },
     "metadata": {
      "needs_background": "light"
     },
     "output_type": "display_data"
    }
   ],
   "source": [
    "metrics.plot_roc_curve(titDtForp,titTestX,titTestY)"
   ]
  },
  {
   "cell_type": "markdown",
   "metadata": {
    "slideshow": {
     "slide_type": "slide"
    }
   },
   "source": [
    "##### 在检验集上与未剪枝的决策树比较"
   ]
  },
  {
   "cell_type": "code",
   "execution_count": 122,
   "metadata": {
    "slideshow": {
     "slide_type": "fragment"
    }
   },
   "outputs": [
    {
     "data": {
      "text/plain": [
       "<sklearn.metrics._plot.roc_curve.RocCurveDisplay at 0x7f2b80aa5668>"
      ]
     },
     "execution_count": 122,
     "metadata": {},
     "output_type": "execute_result"
    },
    {
     "data": {
      "image/png": "[encoded data removed]",
      "text/plain": [
       "<Figure size 432x288 with 1 Axes>"
      ]
     },
     "metadata": {
      "needs_background": "light"
     },
     "output_type": "display_data"
    }
   ],
   "source": [
    "titTestDisp = metrics.plot_roc_curve(titDtForp,titTestX,titTestY,label='forward-pruning')\n",
    "metrics.plot_roc_curve(titDt,titTestX,titTestY,ax=titTestDisp.ax_,label='original')\n",
    "# titTestDisp.ax_：获得绘图的轴"
   ]
  },
  {
   "cell_type": "markdown",
   "metadata": {
    "slideshow": {
     "slide_type": "slide"
    }
   },
   "source": [
    "#### 后剪枝（Post-Pruning）"
   ]
  },
  {
   "cell_type": "markdown",
   "metadata": {
    "slideshow": {
     "slide_type": "fragment"
    }
   },
   "source": [
    "<p class=\"alert alert-danger\">构造完整的决策树，然后用叶结点替换那些置信度不够的结点的子树，该叶结点所应标记的类别为被替换的子树中大多数样本所属的类别。</p>"
   ]
  },
  {
   "cell_type": "markdown",
   "metadata": {
    "slideshow": {
     "slide_type": "fragment"
    }
   },
   "source": [
    "```python\n",
    "tree.DecisionTreeClassifier(ccp_alpha=None)\n",
    "```\n",
    "- `ccp_alpha`：非负的浮点数，利用成本复杂度剪枝（cost-complexity pruning），保留那些成本复杂度值低于该参数的子树"
   ]
  },
  {
   "cell_type": "markdown",
   "metadata": {
    "slideshow": {
     "slide_type": "slide"
    }
   },
   "source": [
    "#### 对titanic决策树后剪枝"
   ]
  },
  {
   "cell_type": "markdown",
   "metadata": {
    "slideshow": {
     "slide_type": "fragment"
    }
   },
   "source": [
    "##### 建立后剪枝模型"
   ]
  },
  {
   "cell_type": "code",
   "execution_count": 101,
   "metadata": {
    "slideshow": {
     "slide_type": "fragment"
    }
   },
   "outputs": [],
   "source": [
    "titDtPostp = tree.DecisionTreeClassifier(ccp_alpha=0.035,random_state=10)"
   ]
  },
  {
   "cell_type": "markdown",
   "metadata": {
    "slideshow": {
     "slide_type": "fragment"
    }
   },
   "source": [
    "##### 训练决策树"
   ]
  },
  {
   "cell_type": "code",
   "execution_count": 102,
   "metadata": {
    "slideshow": {
     "slide_type": "fragment"
    }
   },
   "outputs": [
    {
     "data": {
      "text/plain": [
       "DecisionTreeClassifier(ccp_alpha=0.035, random_state=10)"
      ]
     },
     "execution_count": 102,
     "metadata": {},
     "output_type": "execute_result"
    }
   ],
   "source": [
    "titDtPostp.fit(titTrainX,titTrainY)"
   ]
  },
  {
   "cell_type": "markdown",
   "metadata": {
    "slideshow": {
     "slide_type": "slide"
    }
   },
   "source": [
    "##### 可视化决策树"
   ]
  },
  {
   "cell_type": "code",
   "execution_count": 103,
   "metadata": {
    "slideshow": {
     "slide_type": "fragment"
    }
   },
   "outputs": [
    {
     "data": {
      "image/svg+xml": [
       "<?xml version=\"1.0\" encoding=\"UTF-8\" standalone=\"no\"?>\n",
       "<!DOCTYPE svg PUBLIC \"-//W3C//DTD SVG 1.1//EN\"\n",
       " \"http://www.w3.org/Graphics/SVG/1.1/DTD/svg11.dtd\">\n",
       "<!-- Generated by graphviz version 2.38.0 (20140413.2041)\n",
       " -->\n",
       "<!-- Title: Tree Pages: 1 -->\n",
       "<svg width=\"250pt\" height=\"195pt\"\n",
       " viewBox=\"0.00 0.00 250.00 195.00\" xmlns=\"http://www.w3.org/2000/svg\" xmlns:xlink=\"http://www.w3.org/1999/xlink\">\n",
       "<g id=\"graph0\" class=\"graph\" transform=\"scale(1 1) rotate(0) translate(4 191)\">\n",
       "<title>Tree</title>\n",
       "<polygon fill=\"white\" stroke=\"none\" points=\"-4,4 -4,-191 246,-191 246,4 -4,4\"/>\n",
       "<!-- 0 -->\n",
       "<g id=\"node1\" class=\"node\"><title>0</title>\n",
       "<polygon fill=\"#f6d4bb\" stroke=\"black\" points=\"182,-187 60,-187 60,-104 182,-104 182,-187\"/>\n",
       "<text text-anchor=\"middle\" x=\"121\" y=\"-171.8\" font-family=\"Times,serif\" font-size=\"14.00\">Sex_female &lt;= 0.5</text>\n",
       "<text text-anchor=\"middle\" x=\"121\" y=\"-156.8\" font-family=\"Times,serif\" font-size=\"14.00\">gini = 0.479</text>\n",
       "<text text-anchor=\"middle\" x=\"121\" y=\"-141.8\" font-family=\"Times,serif\" font-size=\"14.00\">samples = 534</text>\n",
       "<text text-anchor=\"middle\" x=\"121\" y=\"-126.8\" font-family=\"Times,serif\" font-size=\"14.00\">value = [322, 212]</text>\n",
       "<text text-anchor=\"middle\" x=\"121\" y=\"-111.8\" font-family=\"Times,serif\" font-size=\"14.00\">class = 未生还</text>\n",
       "</g>\n",
       "<!-- 1 -->\n",
       "<g id=\"node2\" class=\"node\"><title>1</title>\n",
       "<polygon fill=\"#eca26c\" stroke=\"black\" points=\"112,-68 0,-68 0,-0 112,-0 112,-68\"/>\n",
       "<text text-anchor=\"middle\" x=\"56\" y=\"-52.8\" font-family=\"Times,serif\" font-size=\"14.00\">gini = 0.326</text>\n",
       "<text text-anchor=\"middle\" x=\"56\" y=\"-37.8\" font-family=\"Times,serif\" font-size=\"14.00\">samples = 351</text>\n",
       "<text text-anchor=\"middle\" x=\"56\" y=\"-22.8\" font-family=\"Times,serif\" font-size=\"14.00\">value = [279, 72]</text>\n",
       "<text text-anchor=\"middle\" x=\"56\" y=\"-7.8\" font-family=\"Times,serif\" font-size=\"14.00\">class = 未生还</text>\n",
       "</g>\n",
       "<!-- 0&#45;&gt;1 -->\n",
       "<g id=\"edge1\" class=\"edge\"><title>0&#45;&gt;1</title>\n",
       "<path fill=\"none\" stroke=\"black\" d=\"M96.7964,-103.726C91.5988,-94.9703 86.0978,-85.7032 80.8752,-76.9051\"/>\n",
       "<polygon fill=\"black\" stroke=\"black\" points=\"83.8811,-75.1121 75.7669,-68.2996 77.8617,-78.6853 83.8811,-75.1121\"/>\n",
       "<text text-anchor=\"middle\" x=\"69.5892\" y=\"-88.8243\" font-family=\"Times,serif\" font-size=\"14.00\">True</text>\n",
       "</g>\n",
       "<!-- 2 -->\n",
       "<g id=\"node3\" class=\"node\"><title>2</title>\n",
       "<polygon fill=\"#76bbed\" stroke=\"black\" points=\"242,-68 130,-68 130,-0 242,-0 242,-68\"/>\n",
       "<text text-anchor=\"middle\" x=\"186\" y=\"-52.8\" font-family=\"Times,serif\" font-size=\"14.00\">gini = 0.36</text>\n",
       "<text text-anchor=\"middle\" x=\"186\" y=\"-37.8\" font-family=\"Times,serif\" font-size=\"14.00\">samples = 183</text>\n",
       "<text text-anchor=\"middle\" x=\"186\" y=\"-22.8\" font-family=\"Times,serif\" font-size=\"14.00\">value = [43, 140]</text>\n",
       "<text text-anchor=\"middle\" x=\"186\" y=\"-7.8\" font-family=\"Times,serif\" font-size=\"14.00\">class = 生还</text>\n",
       "</g>\n",
       "<!-- 0&#45;&gt;2 -->\n",
       "<g id=\"edge2\" class=\"edge\"><title>0&#45;&gt;2</title>\n",
       "<path fill=\"none\" stroke=\"black\" d=\"M145.204,-103.726C150.401,-94.9703 155.902,-85.7032 161.125,-76.9051\"/>\n",
       "<polygon fill=\"black\" stroke=\"black\" points=\"164.138,-78.6853 166.233,-68.2996 158.119,-75.1121 164.138,-78.6853\"/>\n",
       "<text text-anchor=\"middle\" x=\"172.411\" y=\"-88.8243\" font-family=\"Times,serif\" font-size=\"14.00\">False</text>\n",
       "</g>\n",
       "</g>\n",
       "</svg>\n"
      ],
      "text/plain": [
       "<graphviz.files.Source at 0x7f2b80da6c18>"
      ]
     },
     "execution_count": 103,
     "metadata": {},
     "output_type": "execute_result"
    }
   ],
   "source": [
    "titDotPostp = tree.export_graphviz(titDtPostp,feature_names=list(titTrainX.columns),class_names=['未生还','生还'],filled=True)\n",
    "titDtPostpGraph = graphviz.Source(titDotPostp)\n",
    "titDtPostpGraph"
   ]
  },
  {
   "cell_type": "markdown",
   "metadata": {
    "slideshow": {
     "slide_type": "slide"
    }
   },
   "source": [
    "##### 在训练集上的分类性能"
   ]
  },
  {
   "cell_type": "code",
   "execution_count": 104,
   "metadata": {
    "slideshow": {
     "slide_type": "fragment"
    }
   },
   "outputs": [],
   "source": [
    "titTrainYPrePostp = titDtPostp.predict(titTrainX)"
   ]
  },
  {
   "cell_type": "code",
   "execution_count": 105,
   "metadata": {
    "slideshow": {
     "slide_type": "fragment"
    }
   },
   "outputs": [
    {
     "name": "stdout",
     "output_type": "stream",
     "text": [
      "后剪枝的决策树在训练集上的F1_score是0.7088607594936709\n"
     ]
    }
   ],
   "source": [
    "print(f'后剪枝的决策树在训练集上的F1_score是{metrics.f1_score(titTrainY,titTrainYPrePostp)}')"
   ]
  },
  {
   "cell_type": "code",
   "execution_count": 125,
   "metadata": {
    "slideshow": {
     "slide_type": "fragment"
    }
   },
   "outputs": [
    {
     "data": {
      "text/plain": [
       "<sklearn.metrics._plot.roc_curve.RocCurveDisplay at 0x7f2b80913940>"
      ]
     },
     "execution_count": 125,
     "metadata": {},
     "output_type": "execute_result"
    },
    {
     "data": {
      "text/plain": [
       "<sklearn.metrics._plot.roc_curve.RocCurveDisplay at 0x7f2b80984b70>"
      ]
     },
     "execution_count": 125,
     "metadata": {},
     "output_type": "execute_result"
    },
    {
     "data": {
      "image/png": "[encoded data removed]",
      "text/plain": [
       "<Figure size 432x288 with 1 Axes>"
      ]
     },
     "metadata": {
      "needs_background": "light"
     },
     "output_type": "display_data"
    }
   ],
   "source": [
    "titTrainDisp = metrics.plot_roc_curve(titDt,titTrainX,titTrainY,label='original')\n",
    "metrics.plot_roc_curve(titDtForp,titTrainX,titTrainY,label='forward-pruning',ax=titTrainDisp.ax_)\n",
    "metrics.plot_roc_curve(titDtPostp,titTrainX,titTrainY,label='post-pruning',ax=titTrainDisp.ax_)"
   ]
  },
  {
   "cell_type": "markdown",
   "metadata": {
    "slideshow": {
     "slide_type": "fragment"
    }
   },
   "source": [
    "##### 在检验集上的分类性能"
   ]
  },
  {
   "cell_type": "code",
   "execution_count": 106,
   "metadata": {
    "slideshow": {
     "slide_type": "fragment"
    }
   },
   "outputs": [],
   "source": [
    "titTestYPrePostp = titDtPostp.predict(titTestX)"
   ]
  },
  {
   "cell_type": "code",
   "execution_count": 107,
   "metadata": {
    "slideshow": {
     "slide_type": "fragment"
    }
   },
   "outputs": [
    {
     "name": "stdout",
     "output_type": "stream",
     "text": [
      "后剪枝的决策树在检验集上的F1_score是0.7236842105263158\n"
     ]
    }
   ],
   "source": [
    "print(f'后剪枝的决策树在检验集上的F1_score是{metrics.f1_score(titTestY,titTestYPrePostp)}')"
   ]
  },
  {
   "cell_type": "code",
   "execution_count": 126,
   "metadata": {
    "slideshow": {
     "slide_type": "fragment"
    }
   },
   "outputs": [
    {
     "data": {
      "text/plain": [
       "<sklearn.metrics._plot.roc_curve.RocCurveDisplay at 0x7f2b80913f60>"
      ]
     },
     "execution_count": 126,
     "metadata": {},
     "output_type": "execute_result"
    },
    {
     "data": {
      "text/plain": [
       "<sklearn.metrics._plot.roc_curve.RocCurveDisplay at 0x7f2b8088d898>"
      ]
     },
     "execution_count": 126,
     "metadata": {},
     "output_type": "execute_result"
    },
    {
     "data": {
      "image/png": "[encoded data removed]",
      "text/plain": [
       "<Figure size 432x288 with 1 Axes>"
      ]
     },
     "metadata": {
      "needs_background": "light"
     },
     "output_type": "display_data"
    }
   ],
   "source": [
    "titTestDisp = metrics.plot_roc_curve(titDt,titTestX,titTestY,label='original')\n",
    "metrics.plot_roc_curve(titDtForp,titTestX,titTestY,label='forward-pruning',ax=titTestDisp.ax_)\n",
    "metrics.plot_roc_curve(titDtPostp,titTestX,titTestY,label='post-pruning',ax=titTestDisp.ax_)"
   ]
  },
  {
   "cell_type": "markdown",
   "metadata": {
    "slideshow": {
     "slide_type": "slide"
    }
   },
   "source": [
    "##### 如何选择$ccp\\_alpha$?"
   ]
  },
  {
   "cell_type": "markdown",
   "metadata": {
    "slideshow": {
     "slide_type": "fragment"
    }
   },
   "source": [
    "```python\n",
    "dt.cost_complexity_pruning_path(self, X, y)\n",
    "```\n",
    "- 返回利用成本复杂度剪枝计算过程，字典结构，包括`ccp_alpha`数组和`impurities`数组\n",
    "- `X`：训练集的预测属性\n",
    "- `y`：类别列表"
   ]
  },
  {
   "cell_type": "markdown",
   "metadata": {
    "slideshow": {
     "slide_type": "fragment"
    }
   },
   "source": [
    "###### 得到剪枝的`ccp_alpha`"
   ]
  },
  {
   "cell_type": "code",
   "execution_count": 127,
   "metadata": {
    "slideshow": {
     "slide_type": "fragment"
    }
   },
   "outputs": [
    {
     "data": {
      "text/plain": [
       "{'ccp_alphas': array([0.        , 0.00029338, 0.00031211, 0.00037453, 0.00062422,\n",
       "        0.00062422, 0.00062422, 0.00078027, 0.00104037, 0.0010856 ,\n",
       "        0.00109238, 0.00109238, 0.00116521, 0.00122981, 0.00124844,\n",
       "        0.00124844, 0.00124844, 0.00124844, 0.00124844, 0.00140449,\n",
       "        0.00140449, 0.00140449, 0.00149813, 0.00156055, 0.00157412,\n",
       "        0.00160514, 0.00160514, 0.00164081, 0.00170705, 0.0017741 ,\n",
       "        0.00181234, 0.00187266, 0.00187266, 0.00189997, 0.00191167,\n",
       "        0.00197064, 0.00206849, 0.00208073, 0.00224719, 0.00230481,\n",
       "        0.00239757, 0.00256624, 0.00291303, 0.00298956, 0.00299625,\n",
       "        0.00328737, 0.0032972 , 0.00347268, 0.00347432, 0.00389043,\n",
       "        0.00390346, 0.00450767, 0.00543323, 0.00668296, 0.01215749,\n",
       "        0.02134064, 0.03133794, 0.14122945]),\n",
       " 'impurities': array([0.01622971, 0.01740325, 0.01771536, 0.01846442, 0.01908864,\n",
       "        0.01971286, 0.02033708, 0.02111735, 0.02423845, 0.02858085,\n",
       "        0.03076562, 0.03404277, 0.0375384 , 0.04122782, 0.0437247 ,\n",
       "        0.04747002, 0.0499669 , 0.05121534, 0.05371222, 0.06073469,\n",
       "        0.06354368, 0.06494817, 0.07094068, 0.07406178, 0.07721002,\n",
       "        0.08042029, 0.08363056, 0.08691218, 0.09032628, 0.09387448,\n",
       "        0.09931148, 0.10118414, 0.1030568 , 0.13155642, 0.13920311,\n",
       "        0.14511504, 0.14718353, 0.15550646, 0.15775365, 0.16236327,\n",
       "        0.16476084, 0.18015826, 0.18598431, 0.19196343, 0.19495969,\n",
       "        0.20153444, 0.20812883, 0.21507419, 0.21854852, 0.22243894,\n",
       "        0.23024586, 0.2392612 , 0.24469443, 0.25137739, 0.26353488,\n",
       "        0.30621615, 0.3375541 , 0.47878354])}"
      ]
     },
     "execution_count": 127,
     "metadata": {},
     "output_type": "execute_result"
    }
   ],
   "source": [
    "ccp_path = titDt.cost_complexity_pruning_path(titTrainX, titTrainY)\n",
    "alphas = ccp_path['ccp_alphas']\n",
    "ccp_path"
   ]
  },
  {
   "cell_type": "markdown",
   "metadata": {
    "slideshow": {
     "slide_type": "fragment"
    }
   },
   "source": [
    "###### 生成具有不同`ccp_alpha`决策树列表"
   ]
  },
  {
   "cell_type": "code",
   "execution_count": 109,
   "metadata": {
    "slideshow": {
     "slide_type": "fragment"
    }
   },
   "outputs": [
    {
     "data": {
      "text/plain": [
       "DecisionTreeClassifier(random_state=10)"
      ]
     },
     "execution_count": 109,
     "metadata": {},
     "output_type": "execute_result"
    },
    {
     "data": {
      "text/plain": [
       "DecisionTreeClassifier(ccp_alpha=0.0002933832709113611, random_state=10)"
      ]
     },
     "execution_count": 109,
     "metadata": {},
     "output_type": "execute_result"
    },
    {
     "data": {
      "text/plain": [
       "DecisionTreeClassifier(ccp_alpha=0.0003121098626716603, random_state=10)"
      ]
     },
     "execution_count": 109,
     "metadata": {},
     "output_type": "execute_result"
    },
    {
     "data": {
      "text/plain": [
       "DecisionTreeClassifier(ccp_alpha=0.00037453183520599225, random_state=10)"
      ]
     },
     "execution_count": 109,
     "metadata": {},
     "output_type": "execute_result"
    },
    {
     "data": {
      "text/plain": [
       "DecisionTreeClassifier(ccp_alpha=0.0006242197253433209, random_state=10)"
      ]
     },
     "execution_count": 109,
     "metadata": {},
     "output_type": "execute_result"
    },
    {
     "data": {
      "text/plain": [
       "DecisionTreeClassifier(ccp_alpha=0.0006242197253433209, random_state=10)"
      ]
     },
     "execution_count": 109,
     "metadata": {},
     "output_type": "execute_result"
    },
    {
     "data": {
      "text/plain": [
       "DecisionTreeClassifier(ccp_alpha=0.0006242197253433209, random_state=10)"
      ]
     },
     "execution_count": 109,
     "metadata": {},
     "output_type": "execute_result"
    },
    {
     "data": {
      "text/plain": [
       "DecisionTreeClassifier(ccp_alpha=0.0007802746566791512, random_state=10)"
      ]
     },
     "execution_count": 109,
     "metadata": {},
     "output_type": "execute_result"
    },
    {
     "data": {
      "text/plain": [
       "DecisionTreeClassifier(ccp_alpha=0.0010403662089055348, random_state=10)"
      ]
     },
     "execution_count": 109,
     "metadata": {},
     "output_type": "execute_result"
    },
    {
     "data": {
      "text/plain": [
       "DecisionTreeClassifier(ccp_alpha=0.00108559952233621, random_state=10)"
      ]
     },
     "execution_count": 109,
     "metadata": {},
     "output_type": "execute_result"
    },
    {
     "data": {
      "text/plain": [
       "DecisionTreeClassifier(ccp_alpha=0.0010923845193508116, random_state=10)"
      ]
     },
     "execution_count": 109,
     "metadata": {},
     "output_type": "execute_result"
    },
    {
     "data": {
      "text/plain": [
       "DecisionTreeClassifier(ccp_alpha=0.0010923845193508116, random_state=10)"
      ]
     },
     "execution_count": 109,
     "metadata": {},
     "output_type": "execute_result"
    },
    {
     "data": {
      "text/plain": [
       "DecisionTreeClassifier(ccp_alpha=0.0011652101539741993, random_state=10)"
      ]
     },
     "execution_count": 109,
     "metadata": {},
     "output_type": "execute_result"
    },
    {
     "data": {
      "text/plain": [
       "DecisionTreeClassifier(ccp_alpha=0.0012298060260495264, random_state=10)"
      ]
     },
     "execution_count": 109,
     "metadata": {},
     "output_type": "execute_result"
    },
    {
     "data": {
      "text/plain": [
       "DecisionTreeClassifier(ccp_alpha=0.0012484394506866417, random_state=10)"
      ]
     },
     "execution_count": 109,
     "metadata": {},
     "output_type": "execute_result"
    },
    {
     "data": {
      "text/plain": [
       "DecisionTreeClassifier(ccp_alpha=0.0012484394506866417, random_state=10)"
      ]
     },
     "execution_count": 109,
     "metadata": {},
     "output_type": "execute_result"
    },
    {
     "data": {
      "text/plain": [
       "DecisionTreeClassifier(ccp_alpha=0.0012484394506866417, random_state=10)"
      ]
     },
     "execution_count": 109,
     "metadata": {},
     "output_type": "execute_result"
    },
    {
     "data": {
      "text/plain": [
       "DecisionTreeClassifier(ccp_alpha=0.0012484394506866417, random_state=10)"
      ]
     },
     "execution_count": 109,
     "metadata": {},
     "output_type": "execute_result"
    },
    {
     "data": {
      "text/plain": [
       "DecisionTreeClassifier(ccp_alpha=0.0012484394506866417, random_state=10)"
      ]
     },
     "execution_count": 109,
     "metadata": {},
     "output_type": "execute_result"
    },
    {
     "data": {
      "text/plain": [
       "DecisionTreeClassifier(ccp_alpha=0.0014044943820224719, random_state=10)"
      ]
     },
     "execution_count": 109,
     "metadata": {},
     "output_type": "execute_result"
    },
    {
     "data": {
      "text/plain": [
       "DecisionTreeClassifier(ccp_alpha=0.0014044943820224719, random_state=10)"
      ]
     },
     "execution_count": 109,
     "metadata": {},
     "output_type": "execute_result"
    },
    {
     "data": {
      "text/plain": [
       "DecisionTreeClassifier(ccp_alpha=0.001404494382022472, random_state=10)"
      ]
     },
     "execution_count": 109,
     "metadata": {},
     "output_type": "execute_result"
    },
    {
     "data": {
      "text/plain": [
       "DecisionTreeClassifier(ccp_alpha=0.0014981273408239697, random_state=10)"
      ]
     },
     "execution_count": 109,
     "metadata": {},
     "output_type": "execute_result"
    },
    {
     "data": {
      "text/plain": [
       "DecisionTreeClassifier(ccp_alpha=0.0015605493133583022, random_state=10)"
      ]
     },
     "execution_count": 109,
     "metadata": {},
     "output_type": "execute_result"
    },
    {
     "data": {
      "text/plain": [
       "DecisionTreeClassifier(ccp_alpha=0.0015741193073875058, random_state=10)"
      ]
     },
     "execution_count": 109,
     "metadata": {},
     "output_type": "execute_result"
    },
    {
     "data": {
      "text/plain": [
       "DecisionTreeClassifier(ccp_alpha=0.0016051364365971112, random_state=10)"
      ]
     },
     "execution_count": 109,
     "metadata": {},
     "output_type": "execute_result"
    },
    {
     "data": {
      "text/plain": [
       "DecisionTreeClassifier(ccp_alpha=0.0016051364365971112, random_state=10)"
      ]
     },
     "execution_count": 109,
     "metadata": {},
     "output_type": "execute_result"
    },
    {
     "data": {
      "text/plain": [
       "DecisionTreeClassifier(ccp_alpha=0.0016408061351881557, random_state=10)"
      ]
     },
     "execution_count": 109,
     "metadata": {},
     "output_type": "execute_result"
    },
    {
     "data": {
      "text/plain": [
       "DecisionTreeClassifier(ccp_alpha=0.001707052930824425, random_state=10)"
      ]
     },
     "execution_count": 109,
     "metadata": {},
     "output_type": "execute_result"
    },
    {
     "data": {
      "text/plain": [
       "DecisionTreeClassifier(ccp_alpha=0.0017740981667652286, random_state=10)"
      ]
     },
     "execution_count": 109,
     "metadata": {},
     "output_type": "execute_result"
    },
    {
     "data": {
      "text/plain": [
       "DecisionTreeClassifier(ccp_alpha=0.0018123354210598092, random_state=10)"
      ]
     },
     "execution_count": 109,
     "metadata": {},
     "output_type": "execute_result"
    },
    {
     "data": {
      "text/plain": [
       "DecisionTreeClassifier(ccp_alpha=0.0018726591760299626, random_state=10)"
      ]
     },
     "execution_count": 109,
     "metadata": {},
     "output_type": "execute_result"
    },
    {
     "data": {
      "text/plain": [
       "DecisionTreeClassifier(ccp_alpha=0.0018726591760299626, random_state=10)"
      ]
     },
     "execution_count": 109,
     "metadata": {},
     "output_type": "execute_result"
    },
    {
     "data": {
      "text/plain": [
       "DecisionTreeClassifier(ccp_alpha=0.001899974322876546, random_state=10)"
      ]
     },
     "execution_count": 109,
     "metadata": {},
     "output_type": "execute_result"
    },
    {
     "data": {
      "text/plain": [
       "DecisionTreeClassifier(ccp_alpha=0.00191167290886392, random_state=10)"
      ]
     },
     "execution_count": 109,
     "metadata": {},
     "output_type": "execute_result"
    },
    {
     "data": {
      "text/plain": [
       "DecisionTreeClassifier(ccp_alpha=0.001970642565753094, random_state=10)"
      ]
     },
     "execution_count": 109,
     "metadata": {},
     "output_type": "execute_result"
    },
    {
     "data": {
      "text/plain": [
       "DecisionTreeClassifier(ccp_alpha=0.0020684928153533594, random_state=10)"
      ]
     },
     "execution_count": 109,
     "metadata": {},
     "output_type": "execute_result"
    },
    {
     "data": {
      "text/plain": [
       "DecisionTreeClassifier(ccp_alpha=0.0020807324178110697, random_state=10)"
      ]
     },
     "execution_count": 109,
     "metadata": {},
     "output_type": "execute_result"
    },
    {
     "data": {
      "text/plain": [
       "DecisionTreeClassifier(ccp_alpha=0.0022471910112359574, random_state=10)"
      ]
     },
     "execution_count": 109,
     "metadata": {},
     "output_type": "execute_result"
    },
    {
     "data": {
      "text/plain": [
       "DecisionTreeClassifier(ccp_alpha=0.0023048112935753384, random_state=10)"
      ]
     },
     "execution_count": 109,
     "metadata": {},
     "output_type": "execute_result"
    },
    {
     "data": {
      "text/plain": [
       "DecisionTreeClassifier(ccp_alpha=0.002397571217795937, random_state=10)"
      ]
     },
     "execution_count": 109,
     "metadata": {},
     "output_type": "execute_result"
    },
    {
     "data": {
      "text/plain": [
       "DecisionTreeClassifier(ccp_alpha=0.002566236648633651, random_state=10)"
      ]
     },
     "execution_count": 109,
     "metadata": {},
     "output_type": "execute_result"
    },
    {
     "data": {
      "text/plain": [
       "DecisionTreeClassifier(ccp_alpha=0.0029130253849354967, random_state=10)"
      ]
     },
     "execution_count": 109,
     "metadata": {},
     "output_type": "execute_result"
    },
    {
     "data": {
      "text/plain": [
       "DecisionTreeClassifier(ccp_alpha=0.002989559465707222, random_state=10)"
      ]
     },
     "execution_count": 109,
     "metadata": {},
     "output_type": "execute_result"
    },
    {
     "data": {
      "text/plain": [
       "DecisionTreeClassifier(ccp_alpha=0.0029962546816479393, random_state=10)"
      ]
     },
     "execution_count": 109,
     "metadata": {},
     "output_type": "execute_result"
    },
    {
     "data": {
      "text/plain": [
       "DecisionTreeClassifier(ccp_alpha=0.003287374164503561, random_state=10)"
      ]
     },
     "execution_count": 109,
     "metadata": {},
     "output_type": "execute_result"
    },
    {
     "data": {
      "text/plain": [
       "DecisionTreeClassifier(ccp_alpha=0.003297198150405835, random_state=10)"
      ]
     },
     "execution_count": 109,
     "metadata": {},
     "output_type": "execute_result"
    },
    {
     "data": {
      "text/plain": [
       "DecisionTreeClassifier(ccp_alpha=0.003472681207314388, random_state=10)"
      ]
     },
     "execution_count": 109,
     "metadata": {},
     "output_type": "execute_result"
    },
    {
     "data": {
      "text/plain": [
       "DecisionTreeClassifier(ccp_alpha=0.003474321291335729, random_state=10)"
      ]
     },
     "execution_count": 109,
     "metadata": {},
     "output_type": "execute_result"
    },
    {
     "data": {
      "text/plain": [
       "DecisionTreeClassifier(ccp_alpha=0.0038904278401704767, random_state=10)"
      ]
     },
     "execution_count": 109,
     "metadata": {},
     "output_type": "execute_result"
    },
    {
     "data": {
      "text/plain": [
       "DecisionTreeClassifier(ccp_alpha=0.0039034567268678502, random_state=10)"
      ]
     },
     "execution_count": 109,
     "metadata": {},
     "output_type": "execute_result"
    },
    {
     "data": {
      "text/plain": [
       "DecisionTreeClassifier(ccp_alpha=0.004507670733711718, random_state=10)"
      ]
     },
     "execution_count": 109,
     "metadata": {},
     "output_type": "execute_result"
    },
    {
     "data": {
      "text/plain": [
       "DecisionTreeClassifier(ccp_alpha=0.0054332267815413796, random_state=10)"
      ]
     },
     "execution_count": 109,
     "metadata": {},
     "output_type": "execute_result"
    },
    {
     "data": {
      "text/plain": [
       "DecisionTreeClassifier(ccp_alpha=0.006682959298224711, random_state=10)"
      ]
     },
     "execution_count": 109,
     "metadata": {},
     "output_type": "execute_result"
    },
    {
     "data": {
      "text/plain": [
       "DecisionTreeClassifier(ccp_alpha=0.012157492660556962, random_state=10)"
      ]
     },
     "execution_count": 109,
     "metadata": {},
     "output_type": "execute_result"
    },
    {
     "data": {
      "text/plain": [
       "DecisionTreeClassifier(ccp_alpha=0.021340638220443103, random_state=10)"
      ]
     },
     "execution_count": 109,
     "metadata": {},
     "output_type": "execute_result"
    },
    {
     "data": {
      "text/plain": [
       "DecisionTreeClassifier(ccp_alpha=0.031337943542956784, random_state=10)"
      ]
     },
     "execution_count": 109,
     "metadata": {},
     "output_type": "execute_result"
    }
   ],
   "source": [
    "dts = []\n",
    "for ccp_alpha in alphas[:-1]:\n",
    "    # alphas[:-1]去除掉最大值，因为只包含一个节点\n",
    "    dt = tree.DecisionTreeClassifier(random_state=10, ccp_alpha=ccp_alpha)\n",
    "    dt.fit(titTrainX, titTrainY)\n",
    "    dts.append(dt)"
   ]
  },
  {
   "cell_type": "markdown",
   "metadata": {
    "slideshow": {
     "slide_type": "slide"
    }
   },
   "source": [
    "###### 计算每个决策树在训练集和检验集上的f1-score"
   ]
  },
  {
   "cell_type": "code",
   "execution_count": 128,
   "metadata": {
    "slideshow": {
     "slide_type": "fragment"
    }
   },
   "outputs": [],
   "source": [
    "trainScoreLst = [metrics.f1_score(titTrainY,dt.predict(titTrainX)) for dt in dts]\n",
    "testScoreLst = [metrics.f1_score(titTestY,dt.predict(titTestX)) for dt in dts]"
   ]
  },
  {
   "cell_type": "code",
   "execution_count": 129,
   "metadata": {
    "slideshow": {
     "slide_type": "fragment"
    }
   },
   "outputs": [
    {
     "data": {
      "text/plain": [
       "<matplotlib.axes._subplots.AxesSubplot at 0x7f2b80853f60>"
      ]
     },
     "execution_count": 129,
     "metadata": {},
     "output_type": "execute_result"
    },
    {
     "data": {
      "text/plain": [
       "[Text(0, 0.5, 'accuracy'),\n",
       " Text(0.5, 0, 'ccp_alpha'),\n",
       " Text(0.5, 1.0, 'ccp_alpha v.s. accuracy')]"
      ]
     },
     "execution_count": 129,
     "metadata": {},
     "output_type": "execute_result"
    },
    {
     "data": {
      "image/png": "[encoded data removed]",
      "text/plain": [
       "<Figure size 864x432 with 1 Axes>"
      ]
     },
     "metadata": {
      "needs_background": "light"
     },
     "output_type": "display_data"
    }
   ],
   "source": [
    "alphaTestDf = pd.DataFrame({'a':alphas[:-1],'train':trainScoreLst,'test':testScoreLst})\n",
    "ax = alphaTestDf.plot(x='a',y='train',kind='line',figsize=(12,6),marker='o')\n",
    "alphaTestDf.plot(x='a',y='test',kind='line',marker='d',ax=ax)\n",
    "ax.set(title='ccp_alpha v.s. accuracy',xlabel='ccp_alpha',ylabel='accuracy')"
   ]
  },
  {
   "cell_type": "markdown",
   "metadata": {
    "slideshow": {
     "slide_type": "fragment"
    }
   },
   "source": [
    "[绘图数据点可选标记 https://matplotlib.org/3.2.1/api/markers_api.html](https://matplotlib.org/3.2.1/api/markers_api.html)"
   ]
  },
  {
   "cell_type": "markdown",
   "metadata": {
    "slideshow": {
     "slide_type": "slide"
    }
   },
   "source": [
    "##### 选取最佳的`ccp_alpha`"
   ]
  },
  {
   "cell_type": "code",
   "execution_count": 130,
   "metadata": {
    "slideshow": {
     "slide_type": "fragment"
    }
   },
   "outputs": [
    {
     "data": {
      "text/html": [
       "<div>\n",
       "<style scoped>\n",
       "    .dataframe tbody tr th:only-of-type {\n",
       "        vertical-align: middle;\n",
       "    }\n",
       "\n",
       "    .dataframe tbody tr th {\n",
       "        vertical-align: top;\n",
       "    }\n",
       "\n",
       "    .dataframe thead th {\n",
       "        text-align: right;\n",
       "    }\n",
       "</style>\n",
       "<table border=\"1\" class=\"dataframe\">\n",
       "  <thead>\n",
       "    <tr style=\"text-align: right;\">\n",
       "      <th></th>\n",
       "      <th>a</th>\n",
       "      <th>train</th>\n",
       "      <th>test</th>\n",
       "    </tr>\n",
       "  </thead>\n",
       "  <tbody>\n",
       "    <tr>\n",
       "      <th>39</th>\n",
       "      <td>0.002305</td>\n",
       "      <td>0.866995</td>\n",
       "      <td>0.820144</td>\n",
       "    </tr>\n",
       "    <tr>\n",
       "      <th>40</th>\n",
       "      <td>0.002398</td>\n",
       "      <td>0.865526</td>\n",
       "      <td>0.820144</td>\n",
       "    </tr>\n",
       "  </tbody>\n",
       "</table>\n",
       "</div>"
      ],
      "text/plain": [
       "           a     train      test\n",
       "39  0.002305  0.866995  0.820144\n",
       "40  0.002398  0.865526  0.820144"
      ]
     },
     "execution_count": 130,
     "metadata": {},
     "output_type": "execute_result"
    }
   ],
   "source": [
    "alphaTestDf.loc[(alphaTestDf['train']>=0.8)& (alphaTestDf['test']==alphaTestDf['test'].max()),:]"
   ]
  },
  {
   "cell_type": "markdown",
   "metadata": {
    "slideshow": {
     "slide_type": "slide"
    }
   },
   "source": [
    "##### 可视化决策树"
   ]
  },
  {
   "cell_type": "code",
   "execution_count": 131,
   "metadata": {
    "slideshow": {
     "slide_type": "fragment"
    }
   },
   "outputs": [
    {
     "name": "stdout",
     "output_type": "stream",
     "text": [
      "|--- Sex_female <= 0.50\n",
      "|   |--- Age <= 13.00\n",
      "|   |   |--- SibSp <= 2.50\n",
      "|   |   |   |--- class: 1\n",
      "|   |   |--- SibSp >  2.50\n",
      "|   |   |   |--- class: 0\n",
      "|   |--- Age >  13.00\n",
      "|   |   |--- Pclass <= 1.50\n",
      "|   |   |   |--- Age <= 53.00\n",
      "|   |   |   |   |--- Fare <= 32.51\n",
      "|   |   |   |   |   |--- Fare <= 15.64\n",
      "|   |   |   |   |   |   |--- class: 0\n",
      "|   |   |   |   |   |--- Fare >  15.64\n",
      "|   |   |   |   |   |   |--- Fare <= 30.25\n",
      "|   |   |   |   |   |   |   |--- Fare <= 27.14\n",
      "|   |   |   |   |   |   |   |   |--- class: 1\n",
      "|   |   |   |   |   |   |   |--- Fare >  27.14\n",
      "|   |   |   |   |   |   |   |   |--- Age <= 27.50\n",
      "|   |   |   |   |   |   |   |   |   |--- class: 1\n",
      "|   |   |   |   |   |   |   |   |--- Age >  27.50\n",
      "|   |   |   |   |   |   |   |   |   |--- class: 0\n",
      "|   |   |   |   |   |   |--- Fare >  30.25\n",
      "|   |   |   |   |   |   |   |--- class: 1\n",
      "|   |   |   |   |--- Fare >  32.51\n",
      "|   |   |   |   |   |--- Fare <= 387.66\n",
      "|   |   |   |   |   |   |--- Fare <= 134.64\n",
      "|   |   |   |   |   |   |   |--- Fare <= 85.64\n",
      "|   |   |   |   |   |   |   |   |--- Fare <= 77.01\n",
      "|   |   |   |   |   |   |   |   |   |--- Embarked_C <= 0.50\n",
      "|   |   |   |   |   |   |   |   |   |   |--- class: 0\n",
      "|   |   |   |   |   |   |   |   |   |--- Embarked_C >  0.50\n",
      "|   |   |   |   |   |   |   |   |   |   |--- Age <= 50.00\n",
      "|   |   |   |   |   |   |   |   |   |   |   |--- class: 1\n",
      "|   |   |   |   |   |   |   |   |   |   |--- Age >  50.00\n",
      "|   |   |   |   |   |   |   |   |   |   |   |--- class: 0\n",
      "|   |   |   |   |   |   |   |   |--- Fare >  77.01\n",
      "|   |   |   |   |   |   |   |   |   |--- class: 0\n",
      "|   |   |   |   |   |   |   |--- Fare >  85.64\n",
      "|   |   |   |   |   |   |   |   |--- class: 1\n",
      "|   |   |   |   |   |   |--- Fare >  134.64\n",
      "|   |   |   |   |   |   |   |--- class: 0\n",
      "|   |   |   |   |   |--- Fare >  387.66\n",
      "|   |   |   |   |   |   |--- class: 1\n",
      "|   |   |   |--- Age >  53.00\n",
      "|   |   |   |   |--- class: 0\n",
      "|   |   |--- Pclass >  1.50\n",
      "|   |   |   |--- Age <= 32.50\n",
      "|   |   |   |   |--- Age <= 31.50\n",
      "|   |   |   |   |   |--- Fare <= 7.01\n",
      "|   |   |   |   |   |   |--- Age <= 22.00\n",
      "|   |   |   |   |   |   |   |--- class: 0\n",
      "|   |   |   |   |   |   |--- Age >  22.00\n",
      "|   |   |   |   |   |   |   |--- class: 1\n",
      "|   |   |   |   |   |--- Fare >  7.01\n",
      "|   |   |   |   |   |   |--- class: 0\n",
      "|   |   |   |   |--- Age >  31.50\n",
      "|   |   |   |   |   |--- class: 0\n",
      "|   |   |   |--- Age >  32.50\n",
      "|   |   |   |   |--- class: 0\n",
      "|--- Sex_female >  0.50\n",
      "|   |--- Pclass <= 2.50\n",
      "|   |   |--- class: 1\n",
      "|   |--- Pclass >  2.50\n",
      "|   |   |--- Age <= 36.50\n",
      "|   |   |   |--- Fare <= 20.80\n",
      "|   |   |   |   |--- Parch <= 1.50\n",
      "|   |   |   |   |   |--- Age <= 16.50\n",
      "|   |   |   |   |   |   |--- class: 1\n",
      "|   |   |   |   |   |--- Age >  16.50\n",
      "|   |   |   |   |   |   |--- Age <= 32.50\n",
      "|   |   |   |   |   |   |   |--- Fare <= 7.89\n",
      "|   |   |   |   |   |   |   |   |--- Age <= 26.25\n",
      "|   |   |   |   |   |   |   |   |   |--- class: 1\n",
      "|   |   |   |   |   |   |   |   |--- Age >  26.25\n",
      "|   |   |   |   |   |   |   |   |   |--- class: 0\n",
      "|   |   |   |   |   |   |   |--- Fare >  7.89\n",
      "|   |   |   |   |   |   |   |   |--- class: 0\n",
      "|   |   |   |   |   |   |--- Age >  32.50\n",
      "|   |   |   |   |   |   |   |--- class: 1\n",
      "|   |   |   |   |--- Parch >  1.50\n",
      "|   |   |   |   |   |--- class: 1\n",
      "|   |   |   |--- Fare >  20.80\n",
      "|   |   |   |   |--- Age <= 6.50\n",
      "|   |   |   |   |   |--- Age <= 3.50\n",
      "|   |   |   |   |   |   |--- class: 0\n",
      "|   |   |   |   |   |--- Age >  3.50\n",
      "|   |   |   |   |   |   |--- class: 1\n",
      "|   |   |   |   |--- Age >  6.50\n",
      "|   |   |   |   |   |--- class: 0\n",
      "|   |   |--- Age >  36.50\n",
      "|   |   |   |--- class: 0\n",
      "\n"
     ]
    }
   ],
   "source": [
    "print(tree.export_text(dts[40],feature_names=list(titTrainX.columns)))"
   ]
  },
  {
   "cell_type": "markdown",
   "metadata": {
    "slideshow": {
     "slide_type": "slide"
    }
   },
   "source": [
    "## 随机森林（Random Forest）"
   ]
  },
  {
   "cell_type": "markdown",
   "metadata": {
    "slideshow": {
     "slide_type": "slide"
    }
   },
   "source": [
    "### 集成学习"
   ]
  },
  {
   "cell_type": "markdown",
   "metadata": {
    "slideshow": {
     "slide_type": "fragment"
    }
   },
   "source": [
    "<dl class=\"row alert-danger\">\n",
    "    <dt class=\"col-md-3\">集成学习（ensemble learning）</dt>\n",
    "    <dd class=\"col-md-9\">通过构建并结合多个分类器来完成学习任务。</dd>\n",
    "</dl>"
   ]
  },
  {
   "cell_type": "markdown",
   "metadata": {
    "slideshow": {
     "slide_type": "fragment"
    }
   },
   "source": [
    "- 典型方法\n",
    "    - 装袋算法（bagging）与随机森林（random forest）\n",
    "    - 提升算法（boosting）：将弱分类器提升为强分类器的算法"
   ]
  },
  {
   "cell_type": "markdown",
   "metadata": {
    "slideshow": {
     "slide_type": "fragment"
    }
   },
   "source": [
    "### 装袋"
   ]
  },
  {
   "cell_type": "markdown",
   "metadata": {
    "slideshow": {
     "slide_type": "fragment"
    }
   },
   "source": [
    "<dl class=\"row alert-info\">\n",
    "    <dt class=\"col-md-3\">自助法（bootstraping）</dt>\n",
    "    <dd class=\"col-md-9\">有放回的随机采样方法。</dd>\n",
    "</dl>"
   ]
  },
  {
   "cell_type": "markdown",
   "metadata": {
    "slideshow": {
     "slide_type": "fragment"
    }
   },
   "source": [
    "- 原理：如果$N$个独立同分布（$iid$）的样本，每个样本的方差为$\\sigma^2$，那么样本均值的方差为$\\frac{\\sigma^2}{N}$"
   ]
  },
  {
   "cell_type": "markdown",
   "metadata": {
    "slideshow": {
     "slide_type": "fragment"
    }
   },
   "source": [
    "- 装袋过程\n",
    "    1. 通过自助采样，生成$B$个样本；\n",
    "    2. 在每个样本上训练一个分类器$\\hat{f}_b(\\boldsymbol{\\rm x})$；\n",
    "    3. 将各个分类器合成得到最终分类器\n",
    "    $$\n",
    "        \\hat{f}_{\\text{avg}}(\\boldsymbol{\\rm x})=\\frac{1}{B}\\sum_{b=1}^B\\hat{f}_b(\\boldsymbol{\\rm x})\n",
    "    $$"
   ]
  },
  {
   "cell_type": "markdown",
   "metadata": {
    "slideshow": {
     "slide_type": "slide"
    }
   },
   "source": [
    "### 随机森林"
   ]
  },
  {
   "cell_type": "markdown",
   "metadata": {
    "slideshow": {
     "slide_type": "fragment"
    }
   },
   "source": [
    "- 特征装袋（feature bagging），降低不同决策树之间的相关性"
   ]
  },
  {
   "cell_type": "markdown",
   "metadata": {
    "slideshow": {
     "slide_type": "fragment"
    }
   },
   "source": [
    "- 组合多个决策树，通过投票的方式确定样本所属的类别，使得整体模型在抑止过度拟合的同时，获得较好的精确度"
   ]
  },
  {
   "cell_type": "markdown",
   "metadata": {
    "slideshow": {
     "slide_type": "slide"
    }
   },
   "source": [
    "<center><img src=\"./img/classification/randomForest.jpg\" width=100%></center>"
   ]
  },
  {
   "cell_type": "markdown",
   "metadata": {
    "slideshow": {
     "slide_type": "slide"
    }
   },
   "source": [
    "### 建立随机森林模型"
   ]
  },
  {
   "cell_type": "markdown",
   "metadata": {
    "slideshow": {
     "slide_type": "fragment"
    }
   },
   "source": [
    "```python\n",
    "from sklearn import ensemble\n",
    "ensemble.RandomForestClassifier()\n",
    "```"
   ]
  },
  {
   "cell_type": "code",
   "execution_count": 136,
   "metadata": {
    "slideshow": {
     "slide_type": "fragment"
    }
   },
   "outputs": [],
   "source": [
    "rbRandTree = ensemble.RandomForestClassifier(random_state=10)"
   ]
  },
  {
   "cell_type": "code",
   "execution_count": 137,
   "metadata": {
    "slideshow": {
     "slide_type": "fragment"
    }
   },
   "outputs": [
    {
     "data": {
      "text/plain": [
       "RandomForestClassifier(random_state=10)"
      ]
     },
     "execution_count": 137,
     "metadata": {},
     "output_type": "execute_result"
    }
   ],
   "source": [
    "rbRandTree.fit(titTrainX,titTrainY)"
   ]
  },
  {
   "cell_type": "markdown",
   "metadata": {
    "slideshow": {
     "slide_type": "slide"
    }
   },
   "source": [
    "### 训练集分类效果检验"
   ]
  },
  {
   "cell_type": "code",
   "execution_count": 138,
   "metadata": {
    "slideshow": {
     "slide_type": "fragment"
    }
   },
   "outputs": [],
   "source": [
    "rbRandTrainYPre = rbRandTree.predict(titTrainX)"
   ]
  },
  {
   "cell_type": "code",
   "execution_count": 139,
   "metadata": {
    "slideshow": {
     "slide_type": "fragment"
    }
   },
   "outputs": [
    {
     "data": {
      "text/plain": [
       "0.9850187265917603"
      ]
     },
     "execution_count": 139,
     "metadata": {},
     "output_type": "execute_result"
    }
   ],
   "source": [
    "metrics.accuracy_score(rbRandTrainYPre,titTrainY)"
   ]
  },
  {
   "cell_type": "code",
   "execution_count": 140,
   "metadata": {
    "slideshow": {
     "slide_type": "fragment"
    }
   },
   "outputs": [
    {
     "data": {
      "text/plain": [
       "0.9809523809523809"
      ]
     },
     "execution_count": 140,
     "metadata": {},
     "output_type": "execute_result"
    }
   ],
   "source": [
    "metrics.f1_score(rbRandTrainYPre,titTrainY,pos_label=1)"
   ]
  },
  {
   "cell_type": "code",
   "execution_count": 141,
   "metadata": {
    "slideshow": {
     "slide_type": "fragment"
    }
   },
   "outputs": [
    {
     "data": {
      "text/plain": [
       "0.9876543209876544"
      ]
     },
     "execution_count": 141,
     "metadata": {},
     "output_type": "execute_result"
    }
   ],
   "source": [
    "metrics.f1_score(rbRandTrainYPre,titTrainY,pos_label=0)"
   ]
  },
  {
   "cell_type": "markdown",
   "metadata": {
    "slideshow": {
     "slide_type": "slide"
    }
   },
   "source": [
    "### 检验集分类效果检验"
   ]
  },
  {
   "cell_type": "code",
   "execution_count": 142,
   "metadata": {
    "slideshow": {
     "slide_type": "fragment"
    }
   },
   "outputs": [],
   "source": [
    "rbRandTestYPre = rbRandTree.predict(titTestX)"
   ]
  },
  {
   "cell_type": "code",
   "execution_count": 143,
   "metadata": {
    "slideshow": {
     "slide_type": "fragment"
    }
   },
   "outputs": [
    {
     "data": {
      "text/plain": [
       "0.8089887640449438"
      ]
     },
     "execution_count": 143,
     "metadata": {},
     "output_type": "execute_result"
    }
   ],
   "source": [
    "metrics.accuracy_score(rbRandTestYPre,titTestY)"
   ]
  },
  {
   "cell_type": "code",
   "execution_count": 144,
   "metadata": {
    "slideshow": {
     "slide_type": "fragment"
    }
   },
   "outputs": [
    {
     "data": {
      "text/plain": [
       "0.7536231884057972"
      ]
     },
     "execution_count": 144,
     "metadata": {},
     "output_type": "execute_result"
    }
   ],
   "source": [
    "metrics.f1_score(rbRandTestYPre,titTestY,pos_label=1)"
   ]
  },
  {
   "cell_type": "code",
   "execution_count": 145,
   "metadata": {
    "slideshow": {
     "slide_type": "fragment"
    }
   },
   "outputs": [
    {
     "data": {
      "text/plain": [
       "0.8440366972477066"
      ]
     },
     "execution_count": 145,
     "metadata": {},
     "output_type": "execute_result"
    }
   ],
   "source": [
    "metrics.f1_score(rbRandTestYPre,titTestY,pos_label=0)"
   ]
  },
  {
   "cell_type": "markdown",
   "metadata": {
    "slideshow": {
     "slide_type": "slide"
    }
   },
   "source": [
    "- 随机森林与原始决策树、先剪枝决策树、后剪枝决策树关于ROC曲线的比较"
   ]
  },
  {
   "cell_type": "code",
   "execution_count": 159,
   "metadata": {
    "slideshow": {
     "slide_type": "fragment"
    }
   },
   "outputs": [
    {
     "data": {
      "text/plain": [
       "<sklearn.metrics._plot.roc_curve.RocCurveDisplay at 0x7f2b7bea6978>"
      ]
     },
     "execution_count": 159,
     "metadata": {},
     "output_type": "execute_result"
    },
    {
     "data": {
      "text/plain": [
       "<sklearn.metrics._plot.roc_curve.RocCurveDisplay at 0x7f2b7be54908>"
      ]
     },
     "execution_count": 159,
     "metadata": {},
     "output_type": "execute_result"
    },
    {
     "data": {
      "text/plain": [
       "<sklearn.metrics._plot.roc_curve.RocCurveDisplay at 0x7f2b7be5e668>"
      ]
     },
     "execution_count": 159,
     "metadata": {},
     "output_type": "execute_result"
    },
    {
     "data": {
      "image/png": "[encoded data removed]",
      "text/plain": [
       "<Figure size 432x288 with 1 Axes>"
      ]
     },
     "metadata": {
      "needs_background": "light"
     },
     "output_type": "display_data"
    }
   ],
   "source": [
    "randTreeDisp = metrics.plot_roc_curve(rbRandTree,titTestX,titTestY,label='random forest')\n",
    "metrics.plot_roc_curve(titDt,titTestX,titTestY,label='original',ax=randTreeDisp.ax_)\n",
    "metrics.plot_roc_curve(titDtForp,titTestX,titTestY,label='forward pruning',ax=randTreeDisp.ax_)\n",
    "metrics.plot_roc_curve(dts[40],titTestX,titTestY,label='post pruning',ax=randTreeDisp.ax_)"
   ]
  }
 ],
 "metadata": {
  "celltoolbar": "Slideshow",
  "hide_input": false,
  "kernelspec": {
   "display_name": "Python 3",
   "language": "python",
   "name": "python3"
  },
  "language_info": {
   "codemirror_mode": {
    "name": "ipython",
    "version": 3
   },
   "file_extension": ".py",
   "mimetype": "text/x-python",
   "name": "python",
   "nbconvert_exporter": "python",
   "pygments_lexer": "ipython3",
   "version": "3.6.8"
  },
  "toc": {
   "base_numbering": 1,
   "nav_menu": {},
   "number_sections": true,
   "sideBar": true,
   "skip_h1_title": false,
   "title_cell": "Table of Contents",
   "title_sidebar": "Contents",
   "toc_cell": false,
   "toc_position": {
    "height": "calc(100% - 180px)",
    "left": "10px",
    "top": "150px",
    "width": "245px"
   },
   "toc_section_display": true,
   "toc_window_display": true
  },
  "varInspector": {
   "cols": {
    "lenName": 16,
    "lenType": 16,
    "lenVar": 40
   },
   "kernels_config": {
    "python": {
     "delete_cmd_postfix": "",
     "delete_cmd_prefix": "del ",
     "library": "var_list.py",
     "varRefreshCmd": "print(var_dic_list())"
    },
    "r": {
     "delete_cmd_postfix": ") ",
     "delete_cmd_prefix": "rm(",
     "library": "var_list.r",
     "varRefreshCmd": "cat(var_dic_list()) "
    }
   },
   "types_to_exclude": [
    "module",
    "function",
    "builtin_function_or_method",
    "instance",
    "_Feature"
   ],
   "window_display": false
  }
 },
 "nbformat": 4,
 "nbformat_minor": 2
}
