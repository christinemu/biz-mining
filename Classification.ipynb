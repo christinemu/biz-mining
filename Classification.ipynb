{
 "cells": [
  {
   "cell_type": "code",
   "execution_count": 2,
   "metadata": {
    "slideshow": {
     "slide_type": "notes"
    }
   },
   "outputs": [
    {
     "name": "stderr",
     "output_type": "stream",
     "text": [
      "/home/VENV36/lib/python3.6/site-packages/pandas/compat/__init__.py:117: UserWarning: Could not import the lzma module. Your installed Python is incomplete. Attempting to use lzma compression will result in a RuntimeError.\n",
      "  warnings.warn(msg)\n"
     ]
    }
   ],
   "source": [
    "import pandas as pd\n",
    "import numpy as np\n",
    "from graphviz import Digraph\n",
    "import matplotlib.pyplot as plt\n",
    "from IPython.display import display\n",
    "from IPython.core.interactiveshell import InteractiveShell\n",
    "InteractiveShell.ast_node_interactivity = \"all\""
   ]
  },
  {
   "cell_type": "markdown",
   "metadata": {
    "slideshow": {
     "slide_type": "slide"
    }
   },
   "source": [
    "<div class=\"jumbotron\">\n",
    "    <h1 class=\"display-1\">分类技术</h1>\n",
    "    <hr class=\"my-4\">\n",
    "    <p>主讲：李岩</p>\n",
    "    <p>管理学院</p>\n",
    "    <p>liyan@cumtb.edu.cn</p>\n",
    "</div"
   ]
  },
  {
   "cell_type": "markdown",
   "metadata": {
    "slideshow": {
     "slide_type": "slide"
    }
   },
   "source": [
    "> 如何判断贷款者是否会拖欠贷款？"
   ]
  },
  {
   "cell_type": "code",
   "execution_count": 3,
   "metadata": {
    "slideshow": {
     "slide_type": "notes"
    }
   },
   "outputs": [],
   "source": [
    "import pandas as pd\n",
    "import matplotlib.pyplot as plt\n",
    "debtDict = {'Tid': range(10), \n",
    "            '有房者': ['是', '否', '否', '是', '否', '否', '是','否', '否', '否'], \n",
    "            '婚姻状况': ['单身', '已婚', '单身', '已婚', '离异', '已婚', '离异', '单身', '已婚', '单身'], \n",
    "            '年收入': ['125K', '100K', '70K', '120K', '95K', '60K', '220K', '85K', '75K', '90K'], \n",
    "            '拖欠贷款者': ['否', '否', '否', '否', '是', '否', '否', '是', '否', '是']}"
   ]
  },
  {
   "cell_type": "code",
   "execution_count": 4,
   "metadata": {
    "slideshow": {
     "slide_type": "fragment"
    }
   },
   "outputs": [
    {
     "data": {
      "text/html": [
       "<div>\n",
       "<style scoped>\n",
       "    .dataframe tbody tr th:only-of-type {\n",
       "        vertical-align: middle;\n",
       "    }\n",
       "\n",
       "    .dataframe tbody tr th {\n",
       "        vertical-align: top;\n",
       "    }\n",
       "\n",
       "    .dataframe thead th {\n",
       "        text-align: right;\n",
       "    }\n",
       "</style>\n",
       "<table border=\"1\" class=\"dataframe\">\n",
       "  <thead>\n",
       "    <tr style=\"text-align: right;\">\n",
       "      <th></th>\n",
       "      <th>Tid</th>\n",
       "      <th>有房者</th>\n",
       "      <th>婚姻状况</th>\n",
       "      <th>年收入</th>\n",
       "      <th>拖欠贷款者</th>\n",
       "    </tr>\n",
       "  </thead>\n",
       "  <tbody>\n",
       "    <tr>\n",
       "      <th>0</th>\n",
       "      <td>0</td>\n",
       "      <td>是</td>\n",
       "      <td>单身</td>\n",
       "      <td>125K</td>\n",
       "      <td>否</td>\n",
       "    </tr>\n",
       "    <tr>\n",
       "      <th>1</th>\n",
       "      <td>1</td>\n",
       "      <td>否</td>\n",
       "      <td>已婚</td>\n",
       "      <td>100K</td>\n",
       "      <td>否</td>\n",
       "    </tr>\n",
       "    <tr>\n",
       "      <th>2</th>\n",
       "      <td>2</td>\n",
       "      <td>否</td>\n",
       "      <td>单身</td>\n",
       "      <td>70K</td>\n",
       "      <td>否</td>\n",
       "    </tr>\n",
       "    <tr>\n",
       "      <th>3</th>\n",
       "      <td>3</td>\n",
       "      <td>是</td>\n",
       "      <td>已婚</td>\n",
       "      <td>120K</td>\n",
       "      <td>否</td>\n",
       "    </tr>\n",
       "    <tr>\n",
       "      <th>4</th>\n",
       "      <td>4</td>\n",
       "      <td>否</td>\n",
       "      <td>离异</td>\n",
       "      <td>95K</td>\n",
       "      <td>是</td>\n",
       "    </tr>\n",
       "    <tr>\n",
       "      <th>5</th>\n",
       "      <td>5</td>\n",
       "      <td>否</td>\n",
       "      <td>已婚</td>\n",
       "      <td>60K</td>\n",
       "      <td>否</td>\n",
       "    </tr>\n",
       "    <tr>\n",
       "      <th>6</th>\n",
       "      <td>6</td>\n",
       "      <td>是</td>\n",
       "      <td>离异</td>\n",
       "      <td>220K</td>\n",
       "      <td>否</td>\n",
       "    </tr>\n",
       "    <tr>\n",
       "      <th>7</th>\n",
       "      <td>7</td>\n",
       "      <td>否</td>\n",
       "      <td>单身</td>\n",
       "      <td>85K</td>\n",
       "      <td>是</td>\n",
       "    </tr>\n",
       "    <tr>\n",
       "      <th>8</th>\n",
       "      <td>8</td>\n",
       "      <td>否</td>\n",
       "      <td>已婚</td>\n",
       "      <td>75K</td>\n",
       "      <td>否</td>\n",
       "    </tr>\n",
       "    <tr>\n",
       "      <th>9</th>\n",
       "      <td>9</td>\n",
       "      <td>否</td>\n",
       "      <td>单身</td>\n",
       "      <td>90K</td>\n",
       "      <td>是</td>\n",
       "    </tr>\n",
       "  </tbody>\n",
       "</table>\n",
       "</div>"
      ],
      "text/plain": [
       "   Tid 有房者 婚姻状况   年收入 拖欠贷款者\n",
       "0    0   是   单身  125K     否\n",
       "1    1   否   已婚  100K     否\n",
       "2    2   否   单身   70K     否\n",
       "3    3   是   已婚  120K     否\n",
       "4    4   否   离异   95K     是\n",
       "5    5   否   已婚   60K     否\n",
       "6    6   是   离异  220K     否\n",
       "7    7   否   单身   85K     是\n",
       "8    8   否   已婚   75K     否\n",
       "9    9   否   单身   90K     是"
      ]
     },
     "execution_count": 4,
     "metadata": {},
     "output_type": "execute_result"
    }
   ],
   "source": [
    "pd.DataFrame(debtDict)"
   ]
  },
  {
   "cell_type": "markdown",
   "metadata": {
    "slideshow": {
     "slide_type": "slide"
    }
   },
   "source": [
    "## 基本概念"
   ]
  },
  {
   "cell_type": "markdown",
   "metadata": {
    "slideshow": {
     "slide_type": "fragment"
    }
   },
   "source": [
    "### 分类（classification） "
   ]
  },
  {
   "cell_type": "markdown",
   "metadata": {
    "slideshow": {
     "slide_type": "fragment"
    }
   },
   "source": [
    "- 给定一条记录$(\\boldsymbol{x}, y)$，其中，$y$是分类属性或者目标属性，$\\boldsymbol{x}$是该记录预测属性的集合"
   ]
  },
  {
   "cell_type": "markdown",
   "metadata": {
    "slideshow": {
     "slide_type": "fragment"
    }
   },
   "source": [
    "- 通过学习得到一个**目标函数**（target function）$f$，把每个属性集$\\boldsymbol{x}$映射到一个预先定义的**类标签**$y$"
   ]
  },
  {
   "cell_type": "markdown",
   "metadata": {
    "slideshow": {
     "slide_type": "fragment"
    }
   },
   "source": [
    "$$\n",
    "y = f(\\boldsymbol{x})\n",
    "$$"
   ]
  },
  {
   "cell_type": "markdown",
   "metadata": {
    "slideshow": {
     "slide_type": "fragment"
    }
   },
   "source": [
    "- 目标函数也被称作**分类模型**（classification model）"
   ]
  },
  {
   "cell_type": "markdown",
   "metadata": {
    "slideshow": {
     "slide_type": "subslide"
    }
   },
   "source": [
    "#### 分类模型的功能"
   ]
  },
  {
   "cell_type": "markdown",
   "metadata": {
    "slideshow": {
     "slide_type": "fragment"
    }
   },
   "source": [
    "1. 描述性建模：识别哪些属性决定一个数据记录属于哪个类别"
   ]
  },
  {
   "cell_type": "markdown",
   "metadata": {
    "slideshow": {
     "slide_type": "fragment"
    }
   },
   "source": [
    "2. 预测性建模：根据已知的数据记录的属性，自动识别该数据记录属于的类别"
   ]
  },
  {
   "cell_type": "markdown",
   "metadata": {
    "slideshow": {
     "slide_type": "subslide"
    }
   },
   "source": [
    "#### 分类模型的适用领域"
   ]
  },
  {
   "cell_type": "markdown",
   "metadata": {
    "slideshow": {
     "slide_type": "fragment"
    }
   },
   "source": [
    "- 非常适合分类属性是**二元**或者**标称**类型的数据集"
   ]
  },
  {
   "cell_type": "markdown",
   "metadata": {
    "slideshow": {
     "slide_type": "fragment"
    }
   },
   "source": [
    "- 不适用于分类属性是**序数**或**连续**类型的数据集\n",
    "    + 因为没有考虑标签之间的顺序大小关系"
   ]
  },
  {
   "cell_type": "markdown",
   "metadata": {
    "slideshow": {
     "slide_type": "fragment"
    }
   },
   "source": [
    "任务|属性集$\\boldsymbol{x}$|分类属性$y$\n",
    "---|---|---\n",
    "分类e-mail|从e-mail的header和内容中提取的特征|垃圾邮件`or`非垃圾邮件\n",
    "识别癌变细胞|通过磁共振扫描提取的特征|恶性的`or`良性的\n",
    "分类星系|从天文望远镜获取的图像中提取特征|椭圆的、螺旋的、`or`不规则星系"
   ]
  },
  {
   "cell_type": "markdown",
   "metadata": {
    "slideshow": {
     "slide_type": "slide"
    }
   },
   "source": [
    "### 建立分类模型的一般方法"
   ]
  },
  {
   "cell_type": "markdown",
   "metadata": {
    "slideshow": {
     "slide_type": "fragment"
    }
   },
   "source": [
    "<center><img src=\"./img/classification/classificationProcess.png\" width=80%></center>"
   ]
  },
  {
   "cell_type": "markdown",
   "metadata": {
    "slideshow": {
     "slide_type": "slide"
    }
   },
   "source": [
    "#### 训练集与检验集"
   ]
  },
  {
   "cell_type": "markdown",
   "metadata": {
    "slideshow": {
     "slide_type": "fragment"
    }
   },
   "source": [
    "- 训练集（training set）：由类标签已知的数据记录组成，用于建立分类模型"
   ]
  },
  {
   "cell_type": "markdown",
   "metadata": {
    "slideshow": {
     "slide_type": "fragment"
    }
   },
   "source": [
    "- 检验集（test set）：用来检验分类规则的数据记录集合"
   ]
  },
  {
   "cell_type": "code",
   "execution_count": 163,
   "metadata": {
    "scrolled": true,
    "slideshow": {
     "slide_type": "skip"
    }
   },
   "outputs": [
    {
     "data": {
      "text/plain": [
       "'classification.gv.svg'"
      ]
     },
     "execution_count": 163,
     "metadata": {},
     "output_type": "execute_result"
    }
   ],
   "source": [
    "import os\n",
    "from graphviz import Digraph\n",
    "os.environ[\"PATH\"] += os.pathsep + 'D:/Graphviz2.38/bin'\n",
    "ps = Digraph(name='classification', format='svg', encoding='utf-8', node_attr={'shape': 'plaintext'}, graph_attr={'rankdir': 'LR', 'rank': 'same'}, edge_attr={'arrowhead': 'vee', 'arrowsize': '1'})\n",
    "with ps.subgraph(name='set') as a:\n",
    "    a.node('B0', '检验集', fontname=\"STKAITI\")\n",
    "    a.node('A', '''<\n",
    "    <TABLE BORDER=\"0\" CELLBORDER=\"1\" CELLSPACING=\"0\">\n",
    "        <TH>\n",
    "            <TD BGCOLOR=\"lightblue\">Tid</TD>\n",
    "            <TD BGCOLOR=\"lightblue\">有房者</TD>\n",
    "            <TD BGCOLOR=\"lightblue\">婚姻状况</TD>\n",
    "            <TD BGCOLOR=\"lightblue\">年收入</TD>\n",
    "            <TD BGCOLOR=\"lightblue\">拖欠贷款</TD>\n",
    "        </TH>\n",
    "        <TR>\n",
    "            <TD>0</TD>\n",
    "            <TD>是</TD>\n",
    "            <TD>单身</TD>\n",
    "            <TD>125K</TD>\n",
    "            <TD>否</TD>\n",
    "        </TR>\n",
    "        <TR>\n",
    "            <TD>1</TD>\n",
    "            <TD>否</TD>\n",
    "            <TD>已婚</TD>\n",
    "            <TD>100K</TD>\n",
    "            <TD>否</TD>\n",
    "        </TR>\n",
    "        <TR>\n",
    "            <TD>2</TD>\n",
    "            <TD>否</TD>\n",
    "            <TD>单身</TD>\n",
    "            <TD>70K</TD>\n",
    "            <TD>否</TD>\n",
    "        </TR>\n",
    "        <TR>\n",
    "            <TD>3</TD>\n",
    "            <TD>是</TD>\n",
    "            <TD>已婚</TD>\n",
    "            <TD>120K</TD>\n",
    "            <TD>否</TD>\n",
    "        </TR>\n",
    "        <TR>\n",
    "            <TD>4</TD>\n",
    "            <TD>否</TD>\n",
    "            <TD>离异</TD>\n",
    "            <TD>95K</TD>\n",
    "            <TD BGCOLOR=\"sandybrown\">是</TD>\n",
    "        </TR>\n",
    "        <TR>\n",
    "            <TD>5</TD>\n",
    "            <TD>否</TD>\n",
    "            <TD>已婚</TD>\n",
    "            <TD>60K</TD>\n",
    "            <TD>否</TD>\n",
    "        </TR>\n",
    "        <TR>\n",
    "            <TD>6</TD>\n",
    "            <TD>是</TD>\n",
    "            <TD>离异</TD>\n",
    "            <TD>220K</TD>\n",
    "            <TD>否</TD>\n",
    "        </TR>\n",
    "        <TR>\n",
    "            <TD>7</TD>\n",
    "            <TD>否</TD>\n",
    "            <TD>单身</TD>\n",
    "            <TD>85K</TD>\n",
    "            <TD BGCOLOR=\"sandybrown\">是</TD>\n",
    "        </TR>\n",
    "        <TR>\n",
    "            <TD>8</TD>\n",
    "            <TD>否</TD>\n",
    "            <TD>已婚</TD>\n",
    "            <TD>75K</TD>\n",
    "            <TD>否</TD>\n",
    "        </TR>\n",
    "            <TR>\n",
    "            <TD>9</TD>\n",
    "            <TD>否</TD>\n",
    "            <TD>单身</TD>\n",
    "            <TD>90K</TD>\n",
    "            <TD BGCOLOR=\"sandybrown\">是</TD>\n",
    "        </TR>\n",
    "    </TABLE>>''', fontname=\"STKAITI\")\n",
    "\n",
    "    a.node('B', '''<\n",
    "    <TABLE BORDER=\"0\" CELLBORDER=\"1\" CELLSPACING=\"0\">\n",
    "        <TH>\n",
    "            <TD BGCOLOR=\"lightblue\">Tid</TD>\n",
    "            <TD BGCOLOR=\"lightblue\">有房者</TD>\n",
    "            <TD BGCOLOR=\"lightblue\">婚姻状况</TD>\n",
    "            <TD BGCOLOR=\"lightblue\">年收入</TD>\n",
    "            <TD BGCOLOR=\"lightblue\">拖欠贷款</TD>\n",
    "        </TH>\n",
    "        <TR>\n",
    "            <TD>10</TD>\n",
    "            <TD>是</TD>\n",
    "            <TD>单身</TD>\n",
    "            <TD>200K</TD>\n",
    "            <TD>？</TD>\n",
    "        </TR>\n",
    "        <TR>\n",
    "            <TD>11</TD>\n",
    "            <TD>否</TD>\n",
    "            <TD>已婚</TD>\n",
    "            <TD>80K</TD>\n",
    "            <TD>？</TD>\n",
    "        </TR>\n",
    "        <TR>\n",
    "            <TD>12</TD>\n",
    "            <TD>否</TD>\n",
    "            <TD>单身</TD>\n",
    "            <TD>70K</TD>\n",
    "            <TD>？</TD>\n",
    "        </TR>\n",
    "        <TR>\n",
    "            <TD>13</TD>\n",
    "            <TD>是</TD>\n",
    "            <TD>已婚</TD>\n",
    "            <TD>100K</TD>\n",
    "            <TD>？</TD>\n",
    "        </TR>\n",
    "        <TR>\n",
    "            <TD>14</TD>\n",
    "            <TD>否</TD>\n",
    "            <TD>离异</TD>\n",
    "            <TD>65K</TD>\n",
    "            <TD>？</TD>\n",
    "        </TR>\n",
    "    </TABLE>>''', fontname=\"STKAITI\")\n",
    "    a.node('A0', '训练集', fontname=\"STKAITI\")\n",
    "\n",
    "with ps.subgraph(name='module') as b:\n",
    "    b.node('C', '学习算法', shape='rectangle', fontname=\"STKAITI\")\n",
    "    b.node('D', '归纳：\\n学习模型', shape='box', fontname=\"STKAITI\")\n",
    "    b.node('E', '推论：\\n应用模型', shape='box', fontname=\"STKAITI\")\n",
    "#         c.edges(['CG', 'CH', 'CI', 'CJ', 'CK', 'CL', 'CM'])\n",
    "\n",
    "ps.node('F', '模型', shape='folder', fontname=\"STKAITI\")\n",
    "ps.edges(['AD', 'CD', 'DF', 'FE', 'EB'])\n",
    "ps.view()"
   ]
  },
  {
   "cell_type": "markdown",
   "metadata": {
    "slideshow": {
     "slide_type": "fragment"
    }
   },
   "source": [
    "#### 分类算法"
   ]
  },
  {
   "cell_type": "markdown",
   "metadata": {
    "slideshow": {
     "slide_type": "fragment"
    }
   },
   "source": [
    "+ k最近邻分类\n",
    "+ **决策树**\n",
    "+ 朴素贝叶斯分类\n",
    "+ 逻辑回归\n",
    "+ **神经网络**\n",
    "+ 支持向量机\n",
    "+ 随机森林"
   ]
  },
  {
   "cell_type": "markdown",
   "metadata": {
    "slideshow": {
     "slide_type": "subslide"
    }
   },
   "source": [
    "#### 混淆矩阵（confusion matrix）"
   ]
  },
  {
   "cell_type": "markdown",
   "metadata": {
    "slideshow": {
     "slide_type": "fragment"
    }
   },
   "source": [
    "- 由分类模型做出的正确和错误的分类结果构成的矩阵"
   ]
  },
  {
   "cell_type": "markdown",
   "metadata": {
    "slideshow": {
     "slide_type": "fragment"
    }
   },
   "source": [
    "- 二元分类问题的混淆矩阵"
   ]
  },
  {
   "cell_type": "code",
   "execution_count": 231,
   "metadata": {
    "slideshow": {
     "slide_type": "skip"
    }
   },
   "outputs": [
    {
     "data": {
      "text/plain": [
       "'confusionMatrix.gv.svg'"
      ]
     },
     "execution_count": 231,
     "metadata": {},
     "output_type": "execute_result"
    }
   ],
   "source": [
    "import os\n",
    "from graphviz import Digraph\n",
    "os.environ[\"PATH\"] += os.pathsep + 'D:/Graphviz2.38/bin'\n",
    "ps = Digraph(name='confusionMatrix', format='svg', encoding='utf-8', node_attr={'shape': 'plaintext'}, graph_attr={'rankdir': 'LR', 'dpi': '120'})\n",
    "ps.node('B', '''<\n",
    "<TABLE BORDER=\"0\" CELLBORDER=\"1\" CELLSPACING=\"0\" WIDTH=\"600\" HEIGHT=\"200\">\n",
    "    <TR>\n",
    "        <TD COLSPAN=\"2\" ROWSPAN=\"2\"></TD>\n",
    "        <TD BGCOLOR=\"lightblue\" COLSPAN=\"2\">预测的类</TD>\n",
    "    </TR>\n",
    "    <TR>\n",
    "        <TD>类=1</TD>\n",
    "        <TD>类=0</TD>\n",
    "    </TR>\n",
    "    <TR>\n",
    "        <TD BGCOLOR=\"sandybrown\"  ROWSPAN=\"2\">实际的类</TD>\n",
    "        <TD>类=1</TD>\n",
    "        <TD>f_11</TD>\n",
    "        <TD>f_10</TD>\n",
    "    </TR>\n",
    "    <TR>\n",
    "        <TD>类=0</TD>\n",
    "        <TD>f_01</TD>\n",
    "        <TD>f_00</TD>\n",
    "    </TR>\n",
    "</TABLE>>''', fontname=\"STKAITI\")\n",
    "ps.view()"
   ]
  },
  {
   "cell_type": "markdown",
   "metadata": {
    "slideshow": {
     "slide_type": "fragment"
    }
   },
   "source": [
    "![](./img/classification/confusionMatrix.gv.svg)"
   ]
  },
  {
   "cell_type": "markdown",
   "metadata": {
    "slideshow": {
     "slide_type": "subslide"
    }
   },
   "source": [
    "#### 性能度量（performance metric）"
   ]
  },
  {
   "cell_type": "markdown",
   "metadata": {
    "slideshow": {
     "slide_type": "fragment"
    }
   },
   "source": [
    "- 汇总混淆矩阵的信息"
   ]
  },
  {
   "cell_type": "markdown",
   "metadata": {
    "slideshow": {
     "slide_type": "fragment"
    }
   },
   "source": [
    "- 准确率（accuracy）"
   ]
  },
  {
   "cell_type": "markdown",
   "metadata": {
    "slideshow": {
     "slide_type": "fragment"
    }
   },
   "source": [
    "$$\n",
    "准确率=\\frac{正确预测数}{预测总数}=\\frac{f_{11}+f_{00}}{f_{11}+f_{10}+f_{01}+f_{00}}\n",
    "$$"
   ]
  },
  {
   "cell_type": "markdown",
   "metadata": {
    "slideshow": {
     "slide_type": "fragment"
    }
   },
   "source": [
    "- 错误率（error rate）"
   ]
  },
  {
   "cell_type": "markdown",
   "metadata": {
    "slideshow": {
     "slide_type": "fragment"
    }
   },
   "source": [
    "$$\n",
    "错误率=\\frac{错误预测数}{预测总数}=\\frac{f_{10}+f_{01}}{f_{11}+f_{10}+f_{01}+f_{00}}\n",
    "$$"
   ]
  },
  {
   "cell_type": "markdown",
   "metadata": {
    "slideshow": {
     "slide_type": "fragment"
    }
   },
   "source": [
    "$$\n",
    "错误率+准确率=1\n",
    "$$"
   ]
  },
  {
   "cell_type": "markdown",
   "metadata": {
    "slideshow": {
     "slide_type": "slide"
    }
   },
   "source": [
    "## 决策树"
   ]
  },
  {
   "cell_type": "code",
   "execution_count": 2,
   "metadata": {
    "slideshow": {
     "slide_type": "skip"
    }
   },
   "outputs": [
    {
     "data": {
      "text/plain": [
       "'./img/classification/classificationSample.gv.svg'"
      ]
     },
     "execution_count": 2,
     "metadata": {},
     "output_type": "execute_result"
    }
   ],
   "source": [
    "import os\n",
    "from graphviz import Digraph\n",
    "os.environ[\"PATH\"] += os.pathsep + 'D:/Graphviz2.38/bin'\n",
    "classificationSample = Digraph(name='classificationSample', format='svg', encoding='utf-8', node_attr={'shape': 'plaintext'}, graph_attr={'rankdir': 'LR', 'rank': 'same'}, edge_attr={'arrowhead': 'vee', 'arrowsize': '1'})\n",
    "classificationSample.node('A', '''<\n",
    "<TABLE BORDER=\"0\" CELLBORDER=\"1\" CELLSPACING=\"0\">\n",
    "    <TH>\n",
    "        <TD BGCOLOR=\"lightblue\">Tid</TD>\n",
    "        <TD BGCOLOR=\"lightblue\">有房者</TD>\n",
    "        <TD BGCOLOR=\"lightblue\">婚姻状况</TD>\n",
    "        <TD BGCOLOR=\"lightblue\">年收入</TD>\n",
    "        <TD BGCOLOR=\"lightblue\">拖欠贷款</TD>\n",
    "    </TH>\n",
    "    <TR>\n",
    "        <TD>0</TD>\n",
    "        <TD>是</TD>\n",
    "        <TD>单身</TD>\n",
    "        <TD>125K</TD>\n",
    "        <TD>否</TD>\n",
    "    </TR>\n",
    "    <TR>\n",
    "        <TD>1</TD>\n",
    "        <TD>否</TD>\n",
    "        <TD>已婚</TD>\n",
    "        <TD>100K</TD>\n",
    "        <TD>否</TD>\n",
    "    </TR>\n",
    "    <TR>\n",
    "        <TD>2</TD>\n",
    "        <TD>否</TD>\n",
    "        <TD>单身</TD>\n",
    "        <TD>70K</TD>\n",
    "        <TD>否</TD>\n",
    "    </TR>\n",
    "    <TR>\n",
    "        <TD>3</TD>\n",
    "        <TD>是</TD>\n",
    "        <TD>已婚</TD>\n",
    "        <TD>120K</TD>\n",
    "        <TD>否</TD>\n",
    "    </TR>\n",
    "    <TR>\n",
    "        <TD>4</TD>\n",
    "        <TD>否</TD>\n",
    "        <TD>离异</TD>\n",
    "        <TD>95K</TD>\n",
    "        <TD BGCOLOR=\"sandybrown\">是</TD>\n",
    "    </TR>\n",
    "    <TR>\n",
    "        <TD>5</TD>\n",
    "        <TD>否</TD>\n",
    "        <TD>已婚</TD>\n",
    "        <TD>60K</TD>\n",
    "        <TD>否</TD>\n",
    "    </TR>\n",
    "    <TR>\n",
    "        <TD>6</TD>\n",
    "        <TD>是</TD>\n",
    "        <TD>离异</TD>\n",
    "        <TD>220K</TD>\n",
    "        <TD>否</TD>\n",
    "    </TR>\n",
    "    <TR>\n",
    "        <TD>7</TD>\n",
    "        <TD>否</TD>\n",
    "        <TD>单身</TD>\n",
    "        <TD>85K</TD>\n",
    "        <TD BGCOLOR=\"sandybrown\">是</TD>\n",
    "    </TR>\n",
    "    <TR>\n",
    "        <TD>8</TD>\n",
    "        <TD>否</TD>\n",
    "        <TD>已婚</TD>\n",
    "        <TD>75K</TD>\n",
    "        <TD>否</TD>\n",
    "    </TR>\n",
    "        <TR>\n",
    "        <TD>9</TD>\n",
    "        <TD>否</TD>\n",
    "        <TD>单身</TD>\n",
    "        <TD>90K</TD>\n",
    "        <TD BGCOLOR=\"sandybrown\">是</TD>\n",
    "    </TR>\n",
    "</TABLE>>''', fontname=\"STKAITI\")\n",
    "classificationSample.render(directory='./img/classification/')"
   ]
  },
  {
   "cell_type": "markdown",
   "metadata": {
    "cell_style": "split",
    "slideshow": {
     "slide_type": "fragment"
    }
   },
   "source": [
    "<center><img src=\"./img/classification/classificationSample.gv.svg\" with=100%></center>"
   ]
  },
  {
   "cell_type": "code",
   "execution_count": 3,
   "metadata": {
    "cell_style": "center",
    "slideshow": {
     "slide_type": "skip"
    }
   },
   "outputs": [
    {
     "data": {
      "text/plain": [
       "'./img/classification/decisionTree.gv.svg'"
      ]
     },
     "execution_count": 3,
     "metadata": {},
     "output_type": "execute_result"
    }
   ],
   "source": [
    "from graphviz import Digraph\n",
    "g = Digraph(name='decisionTree', format='svg', encoding='UTF-8', node_attr={'shape': 'rect', 'fontname': 'STKAITI'})\n",
    "g.node('A0', '区分属性', shape='plaintext')\n",
    "g.node('A', '有房者', shape='oval')\n",
    "g.node('B', '无拖欠', style='filled', color='lightblue')\n",
    "g.node('C', '婚姻状况', shape='oval')\n",
    "g.node('D', '年收入', shape='oval')\n",
    "g.node('E', '无拖欠', style='filled', color='lightblue')\n",
    "g.node('F', '无拖欠', style='filled', color='lightblue')\n",
    "g.node('G', '拖欠', style='filled', color='sandybrown')\n",
    "g.edge('A0', 'A', style='dashed')\n",
    "g.edge('A0', 'C', style='dashed')\n",
    "g.edge('A', 'B', label='是')\n",
    "g.edge('A', 'C', label='否')\n",
    "g.edge('C', 'D', label='单身/离异')\n",
    "g.edge('C', 'E', label='已婚')\n",
    "g.edge('D', 'F', label='<80K')\n",
    "g.edge('D', 'G', label='>80K')\n",
    "g.render(directory='./img/classification/')"
   ]
  },
  {
   "cell_type": "markdown",
   "metadata": {
    "cell_style": "split",
    "slideshow": {
     "slide_type": "fragment"
    }
   },
   "source": [
    "<center><img src=\"./img/classification/decisionTree.gv.svg\" with=50%></center>"
   ]
  },
  {
   "cell_type": "code",
   "execution_count": 94,
   "metadata": {
    "slideshow": {
     "slide_type": "skip"
    }
   },
   "outputs": [
    {
     "data": {
      "text/plain": [
       "'./img/classification/decisionTree1.gv.svg'"
      ]
     },
     "execution_count": 94,
     "metadata": {},
     "output_type": "execute_result"
    }
   ],
   "source": [
    "from graphviz import Digraph\n",
    "g1 = Digraph(name='decisionTree1', format='svg', encoding='UTF-8', node_attr={'shape': 'rect', 'fontname': 'STKAITI'})\n",
    "g1.node('A', '有房者', shape='oval')\n",
    "g1.node('B', '无拖欠', style='filled', color='lightblue', xlabel='{4,0}')\n",
    "g1.node('C', '婚姻状况', shape='oval')\n",
    "g1.node('D', '年收入', shape='oval')\n",
    "g1.node('E', '无拖欠', style='filled', color='lightblue',xlabel='{2,0}')\n",
    "g1.node('F', '无拖欠', style='filled', color='lightblue',xlabel='{1,0}')\n",
    "g1.node('G', '拖欠', style='filled', color='sandybrown',xlabel='{0,3}')\n",
    "g1.edge('C', 'B', label='已婚')\n",
    "g1.edge('C', 'A', label='单身/离异')\n",
    "g1.edge('A', 'E', label='有房')\n",
    "g1.edge('A', 'D', label='无房')\n",
    "g1.edge('D', 'F', label='<80K')\n",
    "g1.edge('D', 'G', label='>80K')\n",
    "g1.render(directory='./img/classification/')"
   ]
  },
  {
   "cell_type": "markdown",
   "metadata": {
    "slideshow": {
     "slide_type": "fragment"
    }
   },
   "source": [
    "<center><img src=\"./img/classification/decisionTree1.gv.svg\"></center>"
   ]
  },
  {
   "cell_type": "markdown",
   "metadata": {
    "slideshow": {
     "slide_type": "fragment"
    }
   },
   "source": [
    "> 对于同一个问题而言，决策树不是唯一的"
   ]
  },
  {
   "cell_type": "markdown",
   "metadata": {
    "slideshow": {
     "slide_type": "slide"
    }
   },
   "source": [
    "### 基本概念"
   ]
  },
  {
   "cell_type": "code",
   "execution_count": 4,
   "metadata": {
    "slideshow": {
     "slide_type": "skip"
    }
   },
   "outputs": [
    {
     "data": {
      "text/plain": [
       "'./img/classification/decisionTreeC.gv.svg'"
      ]
     },
     "execution_count": 4,
     "metadata": {},
     "output_type": "execute_result"
    }
   ],
   "source": [
    "from graphviz import Digraph\n",
    "g2 = Digraph(name='decisionTreeC', format='svg', encoding='UTF-8', node_attr={'shape': 'rect', 'fontname': 'STKAITI'})\n",
    "with g2.subgraph() as a:\n",
    "    a.attr(rank='same')\n",
    "    a.node('A', '有房者', shape='oval')\n",
    "    a.node('A0', '内部结点', shape='plaintext')\n",
    "    a.edge('A0', 'A', style='dashed')\n",
    "with g2.subgraph() as a:\n",
    "    a.attr(rank='same')\n",
    "    g2.node('C', '婚姻状况', shape='oval')\n",
    "    a.node('C0', '根结点', shape='plaintext')\n",
    "    a.edge('C0', 'C', style='dashed')\n",
    "with g2.subgraph() as a:\n",
    "    a.attr(rank='same')\n",
    "    a.node('G0', '叶结点', shape='plaintext')\n",
    "    a.node('B', '无拖欠', style='filled', color='lightblue')\n",
    "g2.node('D', '年收入', shape='oval')\n",
    "g2.node('E', '无拖欠', style='filled', color='lightblue')\n",
    "g2.node('F', '无拖欠', style='filled', color='lightblue')\n",
    "g2.node('G', '拖欠', style='filled', color='sandybrown')\n",
    "g2.edge('G0', 'F', style='dashed')\n",
    "g2.edge('G0', 'G', style='dashed')\n",
    "g2.edge('G0', 'B', style='dashed')\n",
    "g2.edge('G0', 'E', style='dashed')\n",
    "g2.edge('A0', 'D', style='dashed')\n",
    "g2.edge('C', 'B', label='已婚')\n",
    "g2.edge('C', 'A', label='单身/离异')\n",
    "g2.edge('A', 'E', label='有房')\n",
    "g2.edge('A', 'D', label='无房')\n",
    "g2.edge('D', 'F', label='<80K')\n",
    "g2.edge('D', 'G', label='>80K')\n",
    "g2.render(directory='./img/classification/')"
   ]
  },
  {
   "cell_type": "markdown",
   "metadata": {
    "cell_style": "split",
    "slideshow": {
     "slide_type": "fragment"
    }
   },
   "source": [
    "<center><img src=\"./img/classification/decisionTreeC.gv.svg\" with=60%></center>"
   ]
  },
  {
   "cell_type": "markdown",
   "metadata": {
    "cell_style": "split",
    "slideshow": {
     "slide_type": "fragment"
    }
   },
   "source": [
    "- **根结点**（root node）\n",
    "    + 没有入边，但有零条或多条出边"
   ]
  },
  {
   "cell_type": "markdown",
   "metadata": {
    "cell_style": "split",
    "slideshow": {
     "slide_type": "fragment"
    }
   },
   "source": [
    "- **内部结点**（internal node）\n",
    "    + 恰有一条入边和两条或多条出边"
   ]
  },
  {
   "cell_type": "markdown",
   "metadata": {
    "cell_style": "split",
    "slideshow": {
     "slide_type": "fragment"
    }
   },
   "source": [
    "- **叶结点**（leaf node）\n",
    "    + 恰有一条入边，但没有出边\n",
    "    + 又被称为终结点（terminal node）"
   ]
  },
  {
   "cell_type": "markdown",
   "metadata": {
    "cell_style": "split",
    "slideshow": {
     "slide_type": "fragment"
    }
   },
   "source": [
    "- 每个叶结点赋予一个类标签"
   ]
  },
  {
   "cell_type": "markdown",
   "metadata": {
    "cell_style": "split",
    "slideshow": {
     "slide_type": "fragment"
    }
   },
   "source": [
    "- 每个**非叶**结点包含属性测试的条件"
   ]
  },
  {
   "cell_type": "markdown",
   "metadata": {
    "slideshow": {
     "slide_type": "slide"
    }
   },
   "source": [
    "### 构造决策树 "
   ]
  },
  {
   "cell_type": "markdown",
   "metadata": {
    "slideshow": {
     "slide_type": "fragment"
    }
   },
   "source": [
    "- **Hunt**算法\n",
    "- CART\n",
    "- ID3, C4.5\n",
    "- SLIQ, SPRINT"
   ]
  },
  {
   "cell_type": "markdown",
   "metadata": {
    "slideshow": {
     "slide_type": "subslide"
    }
   },
   "source": [
    "#### Hunt算法基本思路 "
   ]
  },
  {
   "cell_type": "markdown",
   "metadata": {
    "slideshow": {
     "slide_type": "fragment"
    }
   },
   "source": [
    "假设$D_t$是一个训练集，构成一个结点$t$"
   ]
  },
  {
   "cell_type": "markdown",
   "metadata": {
    "slideshow": {
     "slide_type": "fragment"
    }
   },
   "source": [
    "- 如果$D_t$包含的所有数据对象都属于同一个类别$y_t$，那么结点$t$是一个叶结点，标记为$y_t$"
   ]
  },
  {
   "cell_type": "markdown",
   "metadata": {
    "slideshow": {
     "slide_type": "fragment"
    }
   },
   "source": [
    "- 如果$D_t$包含的数据对象属于多个类别，那么用一个属性尝试将数据对象分成子集。之后，对每个子集再递归应用以上步骤"
   ]
  },
  {
   "cell_type": "code",
   "execution_count": 5,
   "metadata": {
    "slideshow": {
     "slide_type": "skip"
    }
   },
   "outputs": [
    {
     "data": {
      "text/plain": [
       "'./img/classification/step0.gv.svg'"
      ]
     },
     "execution_count": 5,
     "metadata": {},
     "output_type": "execute_result"
    }
   ],
   "source": [
    "from graphviz import Digraph\n",
    "e = Digraph(name='step0', format='svg', node_attr={'shape': 'rect', 'fontname': 'STKAITI'})\n",
    "e.node('A', '拖欠贷款者', xlabel='(7, 3)')\n",
    "e.render(directory='./img/classification/')"
   ]
  },
  {
   "cell_type": "markdown",
   "metadata": {
    "cell_style": "split",
    "slideshow": {
     "slide_type": "subslide"
    }
   },
   "source": [
    "<center><img src=\"./img/classification/step0.gv.svg\" with=100%></center>"
   ]
  },
  {
   "cell_type": "code",
   "execution_count": 12,
   "metadata": {
    "slideshow": {
     "slide_type": "skip"
    }
   },
   "outputs": [
    {
     "data": {
      "text/plain": [
       "'./img/classification/step1.gv.svg'"
      ]
     },
     "execution_count": 12,
     "metadata": {},
     "output_type": "execute_result"
    }
   ],
   "source": [
    "from graphviz import Digraph\n",
    "e1 = Digraph(name='step1', format='svg', node_attr={'shape': 'rect', 'fontname': 'STKAITI'}, edge_attr={'arrowhead': 'vee'})\n",
    "e1.node('A', '有房者', shape='oval')\n",
    "e1.node('B', '未拖欠贷款', xlabel='(3, 0)', style='filled', color='lightblue')\n",
    "e1.node('C', '拖欠贷款', xlabel='(4, 3)')\n",
    "e1.edge('A', 'B', label='是')\n",
    "e1.edge('A', 'C', label='否')\n",
    "e1.render(directory='./img/classification/')"
   ]
  },
  {
   "cell_type": "markdown",
   "metadata": {
    "cell_style": "split",
    "slideshow": {
     "slide_type": "fragment"
    }
   },
   "source": [
    "<center><img src=\"./img/classification/step1.gv.svg\" width=20%></center>"
   ]
  },
  {
   "cell_type": "code",
   "execution_count": 13,
   "metadata": {
    "slideshow": {
     "slide_type": "skip"
    }
   },
   "outputs": [
    {
     "data": {
      "text/plain": [
       "'./img/classification/step2.gv.svg'"
      ]
     },
     "execution_count": 13,
     "metadata": {},
     "output_type": "execute_result"
    }
   ],
   "source": [
    "from graphviz import Digraph\n",
    "e2 = Digraph(name='step2', format='svg', node_attr={'shape': 'rect', 'fontname': 'STKAITI'}, edge_attr={'arrowhead': 'vee'})\n",
    "e2.node('A', '有房者', shape='oval')\n",
    "e2.node('B', '未拖欠贷款', xlabel='(3, 0)', style='filled', color='lightblue')\n",
    "e2.node('C', '婚姻状况', shape='oval')\n",
    "e2.node('D', '拖欠贷款', xlabel='(1, 3)')\n",
    "e2.node('E', '未拖欠贷款', xlabel='(3, 0)', style='filled', color='lightblue')\n",
    "e2.edge('A', 'B', label='是')\n",
    "e2.edge('A', 'C', label='否')\n",
    "e2.edge('C', 'D', label='是')\n",
    "e2.edge('C', 'E', label='否')\n",
    "e2.render(directory='./img/classification/')"
   ]
  },
  {
   "cell_type": "markdown",
   "metadata": {
    "cell_style": "split",
    "slideshow": {
     "slide_type": "fragment"
    }
   },
   "source": [
    "<center><img src=\"./img/classification/step2.gv.svg\" width=20%></center>"
   ]
  },
  {
   "cell_type": "code",
   "execution_count": 14,
   "metadata": {
    "slideshow": {
     "slide_type": "skip"
    }
   },
   "outputs": [
    {
     "data": {
      "text/plain": [
       "'./img/classification/step3.gv.svg'"
      ]
     },
     "execution_count": 14,
     "metadata": {},
     "output_type": "execute_result"
    }
   ],
   "source": [
    "from graphviz import Digraph\n",
    "e3 = Digraph(name='step3', format='svg', node_attr={'shape': 'rect', 'fontname': 'STKAITI'}, edge_attr={'arrowhead': 'vee'})\n",
    "e3.node('A', '有房者', shape='oval')\n",
    "e3.node('B', '拖欠贷款', xlabel='(3, 0)', style='filled', color='lightblue')\n",
    "e3.node('C', '婚姻状况', shape='oval')\n",
    "e3.node('D', '年收入', shape='oval')\n",
    "e3.node('E', '未拖欠贷款', xlabel='(3, 0)', style='filled', color='lightblue')\n",
    "e3.node('F', '未拖欠贷款', xlabel='（1， 0）', style='filled', color='lightblue')\n",
    "e3.node('G', '拖欠贷款', xlabel='(0, 3)', style='filled', color='sandybrown')\n",
    "e3.edge('A', 'B', label='是')\n",
    "e3.edge('A', 'C', label='否')\n",
    "e3.edge('C', 'D', label='单身/离异')\n",
    "e3.edge('C', 'E', label='已婚')\n",
    "e3.edge('D', 'F', label='<80K')\n",
    "e3.edge('D', 'G', label='>=80K')\n",
    "e3.render(directory='./img/classification/')"
   ]
  },
  {
   "cell_type": "markdown",
   "metadata": {
    "cell_style": "split",
    "slideshow": {
     "slide_type": "fragment"
    }
   },
   "source": [
    "<center><img src=\"./img/classification/step3.gv.svg\" width=20%></center>"
   ]
  },
  {
   "cell_type": "markdown",
   "metadata": {
    "slideshow": {
     "slide_type": "subslide"
    }
   },
   "source": [
    "#### 构造决策树需要考虑的问题 "
   ]
  },
  {
   "cell_type": "markdown",
   "metadata": {
    "slideshow": {
     "slide_type": "fragment"
    }
   },
   "source": [
    "- 如何选择测试条件？\n",
    "    + 选择哪个属性作为分裂的条件？\n",
    "    + 针对每个条件应当如何选择划分点？即，如何评估划分的优劣"
   ]
  },
  {
   "cell_type": "markdown",
   "metadata": {
    "slideshow": {
     "slide_type": "fragment"
    }
   },
   "source": [
    "- 如何停止树的增长？\n",
    "    + 直到所有的数据对象都属于**相同**的类别，或都有**相同**的属性值\n",
    "    + 其他方法"
   ]
  },
  {
   "cell_type": "markdown",
   "metadata": {
    "slideshow": {
     "slide_type": "slide"
    }
   },
   "source": [
    "### 选择最佳划分"
   ]
  },
  {
   "cell_type": "code",
   "execution_count": 6,
   "metadata": {
    "slideshow": {
     "slide_type": "skip"
    }
   },
   "outputs": [],
   "source": [
    "import pandas as pd\n",
    "carDict = [\n",
    "    range(1,21),\n",
    "    ['男']*6+['女']*4+['男']*4+['女']*6,\n",
    "    ['家用']+['运动']*8+['豪华']\n",
    "    +['家用']*3+['豪华']*7,\n",
    "    ['小']+['中']*2+['大']+['超大']*2+['小']*2+['中']+['大']*2+['超大']+['中']+['超大']+['小']*2\n",
    "    +['中']*3+['大'],\n",
    "    ['C0']*10+['C1']*10\n",
    "]\n",
    "cardf = pd.DataFrame(carDict,index=['ID', '性别','车型', '大小', '列别']).T"
   ]
  },
  {
   "cell_type": "code",
   "execution_count": 7,
   "metadata": {
    "slideshow": {
     "slide_type": "fragment"
    },
    "variables": {
     "cardf": {}
    }
   },
   "outputs": [
    {
     "data": {
      "text/html": [
       "<div>\n",
       "<style scoped>\n",
       "    .dataframe tbody tr th:only-of-type {\n",
       "        vertical-align: middle;\n",
       "    }\n",
       "\n",
       "    .dataframe tbody tr th {\n",
       "        vertical-align: top;\n",
       "    }\n",
       "\n",
       "    .dataframe thead th {\n",
       "        text-align: right;\n",
       "    }\n",
       "</style>\n",
       "<table border=\"1\" class=\"dataframe\">\n",
       "  <thead>\n",
       "    <tr style=\"text-align: right;\">\n",
       "      <th></th>\n",
       "      <th>ID</th>\n",
       "      <th>性别</th>\n",
       "      <th>车型</th>\n",
       "      <th>大小</th>\n",
       "      <th>列别</th>\n",
       "    </tr>\n",
       "  </thead>\n",
       "  <tbody>\n",
       "    <tr>\n",
       "      <th>0</th>\n",
       "      <td>1</td>\n",
       "      <td>男</td>\n",
       "      <td>家用</td>\n",
       "      <td>小</td>\n",
       "      <td>C0</td>\n",
       "    </tr>\n",
       "    <tr>\n",
       "      <th>1</th>\n",
       "      <td>2</td>\n",
       "      <td>男</td>\n",
       "      <td>运动</td>\n",
       "      <td>中</td>\n",
       "      <td>C0</td>\n",
       "    </tr>\n",
       "    <tr>\n",
       "      <th>2</th>\n",
       "      <td>3</td>\n",
       "      <td>男</td>\n",
       "      <td>运动</td>\n",
       "      <td>中</td>\n",
       "      <td>C0</td>\n",
       "    </tr>\n",
       "    <tr>\n",
       "      <th>3</th>\n",
       "      <td>4</td>\n",
       "      <td>男</td>\n",
       "      <td>运动</td>\n",
       "      <td>大</td>\n",
       "      <td>C0</td>\n",
       "    </tr>\n",
       "    <tr>\n",
       "      <th>4</th>\n",
       "      <td>5</td>\n",
       "      <td>男</td>\n",
       "      <td>运动</td>\n",
       "      <td>超大</td>\n",
       "      <td>C0</td>\n",
       "    </tr>\n",
       "    <tr>\n",
       "      <th>5</th>\n",
       "      <td>6</td>\n",
       "      <td>男</td>\n",
       "      <td>运动</td>\n",
       "      <td>超大</td>\n",
       "      <td>C0</td>\n",
       "    </tr>\n",
       "    <tr>\n",
       "      <th>6</th>\n",
       "      <td>7</td>\n",
       "      <td>女</td>\n",
       "      <td>运动</td>\n",
       "      <td>小</td>\n",
       "      <td>C0</td>\n",
       "    </tr>\n",
       "    <tr>\n",
       "      <th>7</th>\n",
       "      <td>8</td>\n",
       "      <td>女</td>\n",
       "      <td>运动</td>\n",
       "      <td>小</td>\n",
       "      <td>C0</td>\n",
       "    </tr>\n",
       "    <tr>\n",
       "      <th>8</th>\n",
       "      <td>9</td>\n",
       "      <td>女</td>\n",
       "      <td>运动</td>\n",
       "      <td>中</td>\n",
       "      <td>C0</td>\n",
       "    </tr>\n",
       "    <tr>\n",
       "      <th>9</th>\n",
       "      <td>10</td>\n",
       "      <td>女</td>\n",
       "      <td>豪华</td>\n",
       "      <td>大</td>\n",
       "      <td>C0</td>\n",
       "    </tr>\n",
       "    <tr>\n",
       "      <th>10</th>\n",
       "      <td>11</td>\n",
       "      <td>男</td>\n",
       "      <td>家用</td>\n",
       "      <td>大</td>\n",
       "      <td>C1</td>\n",
       "    </tr>\n",
       "    <tr>\n",
       "      <th>11</th>\n",
       "      <td>12</td>\n",
       "      <td>男</td>\n",
       "      <td>家用</td>\n",
       "      <td>超大</td>\n",
       "      <td>C1</td>\n",
       "    </tr>\n",
       "    <tr>\n",
       "      <th>12</th>\n",
       "      <td>13</td>\n",
       "      <td>男</td>\n",
       "      <td>家用</td>\n",
       "      <td>中</td>\n",
       "      <td>C1</td>\n",
       "    </tr>\n",
       "    <tr>\n",
       "      <th>13</th>\n",
       "      <td>14</td>\n",
       "      <td>男</td>\n",
       "      <td>豪华</td>\n",
       "      <td>超大</td>\n",
       "      <td>C1</td>\n",
       "    </tr>\n",
       "    <tr>\n",
       "      <th>14</th>\n",
       "      <td>15</td>\n",
       "      <td>女</td>\n",
       "      <td>豪华</td>\n",
       "      <td>小</td>\n",
       "      <td>C1</td>\n",
       "    </tr>\n",
       "    <tr>\n",
       "      <th>15</th>\n",
       "      <td>16</td>\n",
       "      <td>女</td>\n",
       "      <td>豪华</td>\n",
       "      <td>小</td>\n",
       "      <td>C1</td>\n",
       "    </tr>\n",
       "    <tr>\n",
       "      <th>16</th>\n",
       "      <td>17</td>\n",
       "      <td>女</td>\n",
       "      <td>豪华</td>\n",
       "      <td>中</td>\n",
       "      <td>C1</td>\n",
       "    </tr>\n",
       "    <tr>\n",
       "      <th>17</th>\n",
       "      <td>18</td>\n",
       "      <td>女</td>\n",
       "      <td>豪华</td>\n",
       "      <td>中</td>\n",
       "      <td>C1</td>\n",
       "    </tr>\n",
       "    <tr>\n",
       "      <th>18</th>\n",
       "      <td>19</td>\n",
       "      <td>女</td>\n",
       "      <td>豪华</td>\n",
       "      <td>中</td>\n",
       "      <td>C1</td>\n",
       "    </tr>\n",
       "    <tr>\n",
       "      <th>19</th>\n",
       "      <td>20</td>\n",
       "      <td>女</td>\n",
       "      <td>豪华</td>\n",
       "      <td>大</td>\n",
       "      <td>C1</td>\n",
       "    </tr>\n",
       "  </tbody>\n",
       "</table>\n",
       "</div>"
      ],
      "text/plain": [
       "    ID 性别  车型  大小  列别\n",
       "0    1  男  家用   小  C0\n",
       "1    2  男  运动   中  C0\n",
       "2    3  男  运动   中  C0\n",
       "3    4  男  运动   大  C0\n",
       "4    5  男  运动  超大  C0\n",
       "5    6  男  运动  超大  C0\n",
       "6    7  女  运动   小  C0\n",
       "7    8  女  运动   小  C0\n",
       "8    9  女  运动   中  C0\n",
       "9   10  女  豪华   大  C0\n",
       "10  11  男  家用   大  C1\n",
       "11  12  男  家用  超大  C1\n",
       "12  13  男  家用   中  C1\n",
       "13  14  男  豪华  超大  C1\n",
       "14  15  女  豪华   小  C1\n",
       "15  16  女  豪华   小  C1\n",
       "16  17  女  豪华   中  C1\n",
       "17  18  女  豪华   中  C1\n",
       "18  19  女  豪华   中  C1\n",
       "19  20  女  豪华   大  C1"
      ]
     },
     "execution_count": 7,
     "metadata": {},
     "output_type": "execute_result"
    }
   ],
   "source": [
    "cardf"
   ]
  },
  {
   "cell_type": "code",
   "execution_count": 26,
   "metadata": {
    "slideshow": {
     "slide_type": "skip"
    }
   },
   "outputs": [
    {
     "data": {
      "text/plain": [
       "'./img/classification/carCustomerID.svg'"
      ]
     },
     "execution_count": 26,
     "metadata": {},
     "output_type": "execute_result"
    }
   ],
   "source": [
    "from graphviz import Digraph\n",
    "car = Digraph(format='svg', node_attr={'fontname': 'STKAITI', 'shape': 'record'})\n",
    "# car.node('A', '性别', shape='oval')\n",
    "# car.node('struct0', '{<g0>C0:6|<g1>C1:4}')\n",
    "# car.node('struct1', '{<g2>C0:4|<g3>C1:6}')\n",
    "# car.edge('A', 'struct0:g0', xlabel='男')\n",
    "# car.edge('A', 'struct1:g2', label='女')\n",
    "# car.render(filename='./img/classification/carGender')\n",
    "# car.node('A', '车型', shape='oval')\n",
    "# car.node('B', '{<t0>C0:1|<t1>C1:3}')\n",
    "# car.node('C', '{<t2>C0:8|C1:0}')\n",
    "# car.node('D', '{<t3>C0:1|C1:7}')\n",
    "# car.edge('A','B', xlabel='家用')\n",
    "# car.edge('A', 'C', label='运动')\n",
    "# car.edge('A', 'D', label='豪华')\n",
    "# car.render(filename='./img/classification/carType')\n",
    "car.node('A', '顾客ID', shape='oval')\n",
    "with car.subgraph() as a:\n",
    "    a.attr(rank='same')\n",
    "    a.node('B', '{<t0>C0:1|<t1>C1:0}')\n",
    "    a.node('C', '{<t2>C0:1|C1:0}')\n",
    "    a.edge('B', 'C', style='dotted', dir='none')\n",
    "\n",
    "with car.subgraph() as a:\n",
    "    a.attr(rank='same')\n",
    "    a.node('D', '{<t3>C0:0|C1:1}')\n",
    "    a.node('E', '{<t4>C0:0|C1:1}')\n",
    "    a.edge('D', 'E', style='dotted', dir='none')\n",
    "car.edge('A','B', xlabel='1')\n",
    "car.edge('A', 'C', label='10')\n",
    "car.edge('A', 'D', label='11')\n",
    "car.edge('A', 'E', label='20')\n",
    "\n",
    "car.render(filename='./img/classification/carCustomerID')"
   ]
  },
  {
   "cell_type": "markdown",
   "metadata": {
    "cell_style": "split",
    "slideshow": {
     "slide_type": "fragment"
    }
   },
   "source": [
    "<center><img src=\"./img/classification/carCustomerID.svg\" width=30%></center>"
   ]
  },
  {
   "cell_type": "markdown",
   "metadata": {
    "cell_style": "split",
    "slideshow": {
     "slide_type": "fragment"
    }
   },
   "source": [
    "<center><img src=\"./img/classification/carGender.svg\" width=15%></center>"
   ]
  },
  {
   "cell_type": "markdown",
   "metadata": {
    "cell_style": "split",
    "slideshow": {
     "slide_type": "fragment"
    }
   },
   "source": [
    "<center><img src=\"./img/classification/carType.svg\" width=20%></center>"
   ]
  },
  {
   "cell_type": "markdown",
   "metadata": {
    "slideshow": {
     "slide_type": "slide"
    }
   },
   "source": [
    "- 最佳选择划分通常根据结点的**不纯性的程度**（degree of impurity）"
   ]
  },
  {
   "cell_type": "markdown",
   "metadata": {
    "slideshow": {
     "slide_type": "fragment"
    }
   },
   "source": [
    "- 不纯的程度越低，类分布就越倾斜"
   ]
  },
  {
   "cell_type": "markdown",
   "metadata": {
    "slideshow": {
     "slide_type": "slide"
    }
   },
   "source": [
    "#### 不纯性度量 "
   ]
  },
  {
   "cell_type": "markdown",
   "metadata": {
    "slideshow": {
     "slide_type": "fragment"
    }
   },
   "source": [
    "令$p(i|t)$表示给定结点$t$中属于类$i$的记录所占的比例，类别个数为$c$"
   ]
  },
  {
   "cell_type": "markdown",
   "metadata": {
    "slideshow": {
     "slide_type": "fragment"
    }
   },
   "source": [
    "- 熵（Entropy）\n",
    "\n",
    "$$ \\text{Entropy}(t)=-\\sum_{i=0}^{c-1}p(i|t)\\log_2p(i|t) $$"
   ]
  },
  {
   "cell_type": "markdown",
   "metadata": {
    "slideshow": {
     "slide_type": "fragment"
    }
   },
   "source": [
    "> ID3、C4.5算法用熵选择最佳划分"
   ]
  },
  {
   "cell_type": "markdown",
   "metadata": {
    "slideshow": {
     "slide_type": "fragment"
    }
   },
   "source": [
    "- Gini系数\n",
    "\n",
    "$$ \\text{Gini}(t)=1-\\sum_{i=1}^{c-1}\\left[p(i|t)\\right]^2 $$"
   ]
  },
  {
   "cell_type": "markdown",
   "metadata": {
    "slideshow": {
     "slide_type": "fragment"
    }
   },
   "source": [
    "> CART算法用Gini系数选择最佳划分\n",
    "- 每个非叶节点只有两个分支，形成二叉树"
   ]
  },
  {
   "cell_type": "markdown",
   "metadata": {
    "slideshow": {
     "slide_type": "subslide"
    }
   },
   "source": [
    "假设一个节点中只包含有两个类别（类别1和类别2），各自所占的比例是$p_1$和$p_2$，且$p_1+p_2=1$"
   ]
  },
  {
   "cell_type": "code",
   "execution_count": 6,
   "metadata": {
    "slideshow": {
     "slide_type": "fragment"
    }
   },
   "outputs": [
    {
     "data": {
      "text/plain": [
       "<matplotlib.axes._subplots.AxesSubplot at 0x7f4ff4bb5668>"
      ]
     },
     "execution_count": 6,
     "metadata": {},
     "output_type": "execute_result"
    },
    {
     "data": {
      "text/plain": [
       "[Text(0.5, 0, '$p_1$')]"
      ]
     },
     "execution_count": 6,
     "metadata": {},
     "output_type": "execute_result"
    },
    {
     "data": {
      "image/png": "[encoded data removed]",
      "text/plain": [
       "<Figure size 864x432 with 1 Axes>"
      ]
     },
     "metadata": {
      "needs_background": "light"
     },
     "output_type": "display_data"
    }
   ],
   "source": [
    "x = np.linspace(0.01,0.99)\n",
    "x1 = np.ones(x.shape) - x\n",
    "xE = -x*np.log2(x)-x1*np.log2(x1)\n",
    "xG = 1-(np.power(x,2)+np.power(x1,2))\n",
    "df = pd.DataFrame({'x':x,'Entropy':xE,'Gini':xG})\n",
    "ax = df.plot(x='x',y='Entropy',kind='line',figsize=(12,6))\n",
    "df.plot(x='x',y='Gini',kind='line',ax=ax)\n",
    "ax.set(xlabel='$p_1$')"
   ]
  },
  {
   "cell_type": "markdown",
   "metadata": {
    "slideshow": {
     "slide_type": "subslide"
    }
   },
   "source": [
    "#### 确定测试条件"
   ]
  },
  {
   "cell_type": "markdown",
   "metadata": {
    "slideshow": {
     "slide_type": "fragment"
    }
   },
   "source": [
    "- 对于选择的一个测试条件，计算父结点（划分前）的不纯度与子结点（划分后）的不纯度的差，差越大，测试条件的效果就越好"
   ]
  },
  {
   "cell_type": "markdown",
   "metadata": {
    "slideshow": {
     "slide_type": "slide"
    }
   },
   "source": [
    "### `sklearn`实现 "
   ]
  },
  {
   "cell_type": "markdown",
   "metadata": {
    "slideshow": {
     "slide_type": "slide"
    }
   },
   "source": [
    "#### 建立模型"
   ]
  },
  {
   "cell_type": "markdown",
   "metadata": {
    "slideshow": {
     "slide_type": "fragment"
    }
   },
   "source": [
    "```python\n",
    "from sklearn import tree\n",
    "tree.DecisionTreeClassifier(criterion='gini'）\n",
    "```\n",
    "- `criterion`：`str`类型，不纯性的度量，可以是`gini`和`entropy`，默认是`gini`"
   ]
  },
  {
   "cell_type": "markdown",
   "metadata": {
    "slideshow": {
     "slide_type": "fragment"
    }
   },
   "source": [
    "- 生成的决策树的属性（Attributes）\n",
    "    + `classes_ `：由类标签构成的数组\n",
    "    + `n_classes_`：`int`，类别的数量\n",
    "    + `tree_`：建立的决策树"
   ]
  },
  {
   "cell_type": "markdown",
   "metadata": {
    "slideshow": {
     "slide_type": "fragment"
    }
   },
   "source": [
    "- `feature_importances_`：每个属性在构造决策树中的重要性，即每个属性导致`Gini`系数的减少量（标准化）"
   ]
  },
  {
   "cell_type": "code",
   "execution_count": 7,
   "metadata": {
    "slideshow": {
     "slide_type": "fragment"
    }
   },
   "outputs": [
    {
     "data": {
      "text/plain": [
       "DecisionTreeClassifier(ccp_alpha=0.0, class_weight=None, criterion='gini',\n",
       "                       max_depth=None, max_features=None, max_leaf_nodes=None,\n",
       "                       min_impurity_decrease=0.0, min_impurity_split=None,\n",
       "                       min_samples_leaf=1, min_samples_split=2,\n",
       "                       min_weight_fraction_leaf=0.0, presort='deprecated',\n",
       "                       random_state=None, splitter='best')"
      ]
     },
     "execution_count": 7,
     "metadata": {},
     "output_type": "execute_result"
    }
   ],
   "source": [
    "from sklearn import tree\n",
    "dtDebt = tree.DecisionTreeClassifier()\n",
    "dtDebt"
   ]
  },
  {
   "cell_type": "markdown",
   "metadata": {
    "slideshow": {
     "slide_type": "slide"
    }
   },
   "source": [
    "#### 训练模型"
   ]
  },
  {
   "cell_type": "markdown",
   "metadata": {
    "slideshow": {
     "slide_type": "fragment"
    }
   },
   "source": [
    "```python\n",
    "dt.fit(X, y)\n",
    "```\n",
    "- `X`：输入的属性矩阵，形状为`[n_samples, n_features]`\n",
    "- `y`：类别标签数组，形状为`[n_samples]`"
   ]
  },
  {
   "cell_type": "code",
   "execution_count": null,
   "metadata": {
    "slideshow": {
     "slide_type": "fragment"
    }
   },
   "outputs": [
    {
     "data": {
      "text/html": [
       "<div>\n",
       "<style scoped>\n",
       "    .dataframe tbody tr th:only-of-type {\n",
       "        vertical-align: middle;\n",
       "    }\n",
       "\n",
       "    .dataframe tbody tr th {\n",
       "        vertical-align: top;\n",
       "    }\n",
       "\n",
       "    .dataframe thead th {\n",
       "        text-align: right;\n",
       "    }\n",
       "</style>\n",
       "<table border=\"1\" class=\"dataframe\">\n",
       "  <thead>\n",
       "    <tr style=\"text-align: right;\">\n",
       "      <th></th>\n",
       "      <th>有房者</th>\n",
       "      <th>婚姻状况</th>\n",
       "      <th>年收入</th>\n",
       "      <th>拖欠贷款</th>\n",
       "    </tr>\n",
       "  </thead>\n",
       "  <tbody>\n",
       "    <tr>\n",
       "      <th>0</th>\n",
       "      <td>是</td>\n",
       "      <td>单身</td>\n",
       "      <td>125</td>\n",
       "      <td>否</td>\n",
       "    </tr>\n",
       "    <tr>\n",
       "      <th>1</th>\n",
       "      <td>否</td>\n",
       "      <td>已婚</td>\n",
       "      <td>100</td>\n",
       "      <td>否</td>\n",
       "    </tr>\n",
       "    <tr>\n",
       "      <th>2</th>\n",
       "      <td>否</td>\n",
       "      <td>单身</td>\n",
       "      <td>70</td>\n",
       "      <td>否</td>\n",
       "    </tr>\n",
       "    <tr>\n",
       "      <th>3</th>\n",
       "      <td>是</td>\n",
       "      <td>已婚</td>\n",
       "      <td>120</td>\n",
       "      <td>否</td>\n",
       "    </tr>\n",
       "    <tr>\n",
       "      <th>4</th>\n",
       "      <td>否</td>\n",
       "      <td>离异</td>\n",
       "      <td>95</td>\n",
       "      <td>是</td>\n",
       "    </tr>\n",
       "    <tr>\n",
       "      <th>5</th>\n",
       "      <td>否</td>\n",
       "      <td>已婚</td>\n",
       "      <td>60</td>\n",
       "      <td>否</td>\n",
       "    </tr>\n",
       "    <tr>\n",
       "      <th>6</th>\n",
       "      <td>是</td>\n",
       "      <td>离异</td>\n",
       "      <td>220</td>\n",
       "      <td>否</td>\n",
       "    </tr>\n",
       "    <tr>\n",
       "      <th>7</th>\n",
       "      <td>否</td>\n",
       "      <td>单身</td>\n",
       "      <td>85</td>\n",
       "      <td>是</td>\n",
       "    </tr>\n",
       "    <tr>\n",
       "      <th>8</th>\n",
       "      <td>否</td>\n",
       "      <td>已婚</td>\n",
       "      <td>75</td>\n",
       "      <td>否</td>\n",
       "    </tr>\n",
       "    <tr>\n",
       "      <th>9</th>\n",
       "      <td>否</td>\n",
       "      <td>单身</td>\n",
       "      <td>90</td>\n",
       "      <td>是</td>\n",
       "    </tr>\n",
       "  </tbody>\n",
       "</table>\n",
       "</div>"
      ],
      "text/plain": [
       "  有房者 婚姻状况  年收入 拖欠贷款\n",
       "0   是   单身  125    否\n",
       "1   否   已婚  100    否\n",
       "2   否   单身   70    否\n",
       "3   是   已婚  120    否\n",
       "4   否   离异   95    是\n",
       "5   否   已婚   60    否\n",
       "6   是   离异  220    否\n",
       "7   否   单身   85    是\n",
       "8   否   已婚   75    否\n",
       "9   否   单身   90    是"
      ]
     },
     "execution_count": 3,
     "metadata": {},
     "output_type": "execute_result"
    }
   ],
   "source": [
    "debt=[['是','否','否','是','否','否','是','否','否','否'],\n",
    "      ['单身','已婚','单身','已婚','离异','已婚','离异','单身','已婚','单身'],\n",
    "      [125,100,70,120,95,60,220,85,75,90],\n",
    "      ['否','否','否','否','是','否','否','是','否','是']]\n",
    "debttrain = pd.DataFrame(debt, index=['有房者','婚姻状况','年收入','拖欠贷款']).T\n",
    "debttrain"
   ]
  },
  {
   "cell_type": "code",
   "execution_count": 34,
   "metadata": {
    "scrolled": true,
    "slideshow": {
     "slide_type": "fragment"
    }
   },
   "outputs": [
    {
     "ename": "ValueError",
     "evalue": "could not convert string to float: '是'",
     "output_type": "error",
     "traceback": [
      "\u001b[0;31m---------------------------------------------------------------------------\u001b[0m",
      "\u001b[0;31mValueError\u001b[0m                                Traceback (most recent call last)",
      "\u001b[0;32m<ipython-input-34-436b348b2d1d>\u001b[0m in \u001b[0;36m<module>\u001b[0;34m\u001b[0m\n\u001b[0;32m----> 1\u001b[0;31m \u001b[0mdtDebt\u001b[0m\u001b[0;34m.\u001b[0m\u001b[0mfit\u001b[0m\u001b[0;34m(\u001b[0m\u001b[0mdebttrain\u001b[0m\u001b[0;34m.\u001b[0m\u001b[0miloc\u001b[0m\u001b[0;34m[\u001b[0m\u001b[0;34m:\u001b[0m\u001b[0;34m,\u001b[0m\u001b[0;34m:\u001b[0m\u001b[0;34m-\u001b[0m\u001b[0;36m1\u001b[0m\u001b[0;34m]\u001b[0m\u001b[0;34m,\u001b[0m \u001b[0mdebttrain\u001b[0m\u001b[0;34m.\u001b[0m\u001b[0miloc\u001b[0m\u001b[0;34m[\u001b[0m\u001b[0;34m:\u001b[0m\u001b[0;34m,\u001b[0m\u001b[0;34m-\u001b[0m\u001b[0;36m1\u001b[0m\u001b[0;34m]\u001b[0m\u001b[0;34m)\u001b[0m\u001b[0;34m\u001b[0m\u001b[0;34m\u001b[0m\u001b[0m\n\u001b[0m",
      "\u001b[0;32m/home/VENV36/lib/python3.6/site-packages/sklearn/tree/_classes.py\u001b[0m in \u001b[0;36mfit\u001b[0;34m(self, X, y, sample_weight, check_input, X_idx_sorted)\u001b[0m\n\u001b[1;32m    875\u001b[0m             \u001b[0msample_weight\u001b[0m\u001b[0;34m=\u001b[0m\u001b[0msample_weight\u001b[0m\u001b[0;34m,\u001b[0m\u001b[0;34m\u001b[0m\u001b[0;34m\u001b[0m\u001b[0m\n\u001b[1;32m    876\u001b[0m             \u001b[0mcheck_input\u001b[0m\u001b[0;34m=\u001b[0m\u001b[0mcheck_input\u001b[0m\u001b[0;34m,\u001b[0m\u001b[0;34m\u001b[0m\u001b[0;34m\u001b[0m\u001b[0m\n\u001b[0;32m--> 877\u001b[0;31m             X_idx_sorted=X_idx_sorted)\n\u001b[0m\u001b[1;32m    878\u001b[0m         \u001b[0;32mreturn\u001b[0m \u001b[0mself\u001b[0m\u001b[0;34m\u001b[0m\u001b[0;34m\u001b[0m\u001b[0m\n\u001b[1;32m    879\u001b[0m \u001b[0;34m\u001b[0m\u001b[0m\n",
      "\u001b[0;32m/home/VENV36/lib/python3.6/site-packages/sklearn/tree/_classes.py\u001b[0m in \u001b[0;36mfit\u001b[0;34m(self, X, y, sample_weight, check_input, X_idx_sorted)\u001b[0m\n\u001b[1;32m    147\u001b[0m \u001b[0;34m\u001b[0m\u001b[0m\n\u001b[1;32m    148\u001b[0m         \u001b[0;32mif\u001b[0m \u001b[0mcheck_input\u001b[0m\u001b[0;34m:\u001b[0m\u001b[0;34m\u001b[0m\u001b[0;34m\u001b[0m\u001b[0m\n\u001b[0;32m--> 149\u001b[0;31m             \u001b[0mX\u001b[0m \u001b[0;34m=\u001b[0m \u001b[0mcheck_array\u001b[0m\u001b[0;34m(\u001b[0m\u001b[0mX\u001b[0m\u001b[0;34m,\u001b[0m \u001b[0mdtype\u001b[0m\u001b[0;34m=\u001b[0m\u001b[0mDTYPE\u001b[0m\u001b[0;34m,\u001b[0m \u001b[0maccept_sparse\u001b[0m\u001b[0;34m=\u001b[0m\u001b[0;34m\"csc\"\u001b[0m\u001b[0;34m)\u001b[0m\u001b[0;34m\u001b[0m\u001b[0;34m\u001b[0m\u001b[0m\n\u001b[0m\u001b[1;32m    150\u001b[0m             \u001b[0my\u001b[0m \u001b[0;34m=\u001b[0m \u001b[0mcheck_array\u001b[0m\u001b[0;34m(\u001b[0m\u001b[0my\u001b[0m\u001b[0;34m,\u001b[0m \u001b[0mensure_2d\u001b[0m\u001b[0;34m=\u001b[0m\u001b[0;32mFalse\u001b[0m\u001b[0;34m,\u001b[0m \u001b[0mdtype\u001b[0m\u001b[0;34m=\u001b[0m\u001b[0;32mNone\u001b[0m\u001b[0;34m)\u001b[0m\u001b[0;34m\u001b[0m\u001b[0;34m\u001b[0m\u001b[0m\n\u001b[1;32m    151\u001b[0m             \u001b[0;32mif\u001b[0m \u001b[0missparse\u001b[0m\u001b[0;34m(\u001b[0m\u001b[0mX\u001b[0m\u001b[0;34m)\u001b[0m\u001b[0;34m:\u001b[0m\u001b[0;34m\u001b[0m\u001b[0;34m\u001b[0m\u001b[0m\n",
      "\u001b[0;32m/home/VENV36/lib/python3.6/site-packages/sklearn/utils/validation.py\u001b[0m in \u001b[0;36mcheck_array\u001b[0;34m(array, accept_sparse, accept_large_sparse, dtype, order, copy, force_all_finite, ensure_2d, allow_nd, ensure_min_samples, ensure_min_features, warn_on_dtype, estimator)\u001b[0m\n\u001b[1;32m    529\u001b[0m                     \u001b[0marray\u001b[0m \u001b[0;34m=\u001b[0m \u001b[0marray\u001b[0m\u001b[0;34m.\u001b[0m\u001b[0mastype\u001b[0m\u001b[0;34m(\u001b[0m\u001b[0mdtype\u001b[0m\u001b[0;34m,\u001b[0m \u001b[0mcasting\u001b[0m\u001b[0;34m=\u001b[0m\u001b[0;34m\"unsafe\"\u001b[0m\u001b[0;34m,\u001b[0m \u001b[0mcopy\u001b[0m\u001b[0;34m=\u001b[0m\u001b[0;32mFalse\u001b[0m\u001b[0;34m)\u001b[0m\u001b[0;34m\u001b[0m\u001b[0;34m\u001b[0m\u001b[0m\n\u001b[1;32m    530\u001b[0m                 \u001b[0;32melse\u001b[0m\u001b[0;34m:\u001b[0m\u001b[0;34m\u001b[0m\u001b[0;34m\u001b[0m\u001b[0m\n\u001b[0;32m--> 531\u001b[0;31m                     \u001b[0marray\u001b[0m \u001b[0;34m=\u001b[0m \u001b[0mnp\u001b[0m\u001b[0;34m.\u001b[0m\u001b[0masarray\u001b[0m\u001b[0;34m(\u001b[0m\u001b[0marray\u001b[0m\u001b[0;34m,\u001b[0m \u001b[0morder\u001b[0m\u001b[0;34m=\u001b[0m\u001b[0morder\u001b[0m\u001b[0;34m,\u001b[0m \u001b[0mdtype\u001b[0m\u001b[0;34m=\u001b[0m\u001b[0mdtype\u001b[0m\u001b[0;34m)\u001b[0m\u001b[0;34m\u001b[0m\u001b[0;34m\u001b[0m\u001b[0m\n\u001b[0m\u001b[1;32m    532\u001b[0m             \u001b[0;32mexcept\u001b[0m \u001b[0mComplexWarning\u001b[0m\u001b[0;34m:\u001b[0m\u001b[0;34m\u001b[0m\u001b[0;34m\u001b[0m\u001b[0m\n\u001b[1;32m    533\u001b[0m                 raise ValueError(\"Complex data not supported\\n\"\n",
      "\u001b[0;32m/home/VENV36/lib/python3.6/site-packages/numpy/core/_asarray.py\u001b[0m in \u001b[0;36masarray\u001b[0;34m(a, dtype, order)\u001b[0m\n\u001b[1;32m     83\u001b[0m \u001b[0;34m\u001b[0m\u001b[0m\n\u001b[1;32m     84\u001b[0m     \"\"\"\n\u001b[0;32m---> 85\u001b[0;31m     \u001b[0;32mreturn\u001b[0m \u001b[0marray\u001b[0m\u001b[0;34m(\u001b[0m\u001b[0ma\u001b[0m\u001b[0;34m,\u001b[0m \u001b[0mdtype\u001b[0m\u001b[0;34m,\u001b[0m \u001b[0mcopy\u001b[0m\u001b[0;34m=\u001b[0m\u001b[0;32mFalse\u001b[0m\u001b[0;34m,\u001b[0m \u001b[0morder\u001b[0m\u001b[0;34m=\u001b[0m\u001b[0morder\u001b[0m\u001b[0;34m)\u001b[0m\u001b[0;34m\u001b[0m\u001b[0;34m\u001b[0m\u001b[0m\n\u001b[0m\u001b[1;32m     86\u001b[0m \u001b[0;34m\u001b[0m\u001b[0m\n\u001b[1;32m     87\u001b[0m \u001b[0;34m\u001b[0m\u001b[0m\n",
      "\u001b[0;31mValueError\u001b[0m: could not convert string to float: '是'"
     ]
    }
   ],
   "source": [
    "dtDebt.fit(debttrain.iloc[:,:-1], debttrain.iloc[:,-1])"
   ]
  },
  {
   "cell_type": "markdown",
   "metadata": {
    "slideshow": {
     "slide_type": "subslide"
    }
   },
   "source": [
    "#### 转变预测属性"
   ]
  },
  {
   "cell_type": "markdown",
   "metadata": {
    "slideshow": {
     "slide_type": "fragment"
    }
   },
   "source": [
    "> `DecisionTreeClassifer`只支持数值型预测属性\n",
    "- 但是对类别标签没有要求"
   ]
  },
  {
   "cell_type": "markdown",
   "metadata": {
    "slideshow": {
     "slide_type": "fragment"
    }
   },
   "source": [
    "##### **One-Hot Encoding**：将标称属性转换成二元属性"
   ]
  },
  {
   "cell_type": "markdown",
   "metadata": {
    "slideshow": {
     "slide_type": "fragment"
    }
   },
   "source": [
    "```python\n",
    "pandas.get_dummies(data, columns=None)\n",
    "```\n",
    "- `data`：`Series`类型，或者`DataFrame`类型\n",
    "- `columns`：列名的`list`类型，数据集中哪些列需要转换，默认是将数据集中所有列进行转换\n",
    "- 返回值：由二元化的属性构成的`DataFrame`"
   ]
  },
  {
   "cell_type": "code",
   "execution_count": 84,
   "metadata": {
    "slideshow": {
     "slide_type": "fragment"
    }
   },
   "outputs": [
    {
     "data": {
      "text/html": [
       "<div>\n",
       "<style scoped>\n",
       "    .dataframe tbody tr th:only-of-type {\n",
       "        vertical-align: middle;\n",
       "    }\n",
       "\n",
       "    .dataframe tbody tr th {\n",
       "        vertical-align: top;\n",
       "    }\n",
       "\n",
       "    .dataframe thead th {\n",
       "        text-align: right;\n",
       "    }\n",
       "</style>\n",
       "<table border=\"1\" class=\"dataframe\">\n",
       "  <thead>\n",
       "    <tr style=\"text-align: right;\">\n",
       "      <th></th>\n",
       "      <th>有房者</th>\n",
       "      <th>婚姻状况</th>\n",
       "      <th>年收入</th>\n",
       "      <th>拖欠贷款</th>\n",
       "    </tr>\n",
       "  </thead>\n",
       "  <tbody>\n",
       "    <tr>\n",
       "      <th>0</th>\n",
       "      <td>是</td>\n",
       "      <td>单身</td>\n",
       "      <td>125</td>\n",
       "      <td>否</td>\n",
       "    </tr>\n",
       "    <tr>\n",
       "      <th>1</th>\n",
       "      <td>否</td>\n",
       "      <td>已婚</td>\n",
       "      <td>100</td>\n",
       "      <td>否</td>\n",
       "    </tr>\n",
       "    <tr>\n",
       "      <th>2</th>\n",
       "      <td>否</td>\n",
       "      <td>单身</td>\n",
       "      <td>70</td>\n",
       "      <td>否</td>\n",
       "    </tr>\n",
       "    <tr>\n",
       "      <th>3</th>\n",
       "      <td>是</td>\n",
       "      <td>已婚</td>\n",
       "      <td>120</td>\n",
       "      <td>否</td>\n",
       "    </tr>\n",
       "    <tr>\n",
       "      <th>4</th>\n",
       "      <td>否</td>\n",
       "      <td>离异</td>\n",
       "      <td>95</td>\n",
       "      <td>是</td>\n",
       "    </tr>\n",
       "    <tr>\n",
       "      <th>5</th>\n",
       "      <td>否</td>\n",
       "      <td>已婚</td>\n",
       "      <td>60</td>\n",
       "      <td>否</td>\n",
       "    </tr>\n",
       "    <tr>\n",
       "      <th>6</th>\n",
       "      <td>是</td>\n",
       "      <td>离异</td>\n",
       "      <td>220</td>\n",
       "      <td>否</td>\n",
       "    </tr>\n",
       "    <tr>\n",
       "      <th>7</th>\n",
       "      <td>否</td>\n",
       "      <td>单身</td>\n",
       "      <td>85</td>\n",
       "      <td>是</td>\n",
       "    </tr>\n",
       "    <tr>\n",
       "      <th>8</th>\n",
       "      <td>否</td>\n",
       "      <td>已婚</td>\n",
       "      <td>75</td>\n",
       "      <td>否</td>\n",
       "    </tr>\n",
       "    <tr>\n",
       "      <th>9</th>\n",
       "      <td>否</td>\n",
       "      <td>单身</td>\n",
       "      <td>90</td>\n",
       "      <td>是</td>\n",
       "    </tr>\n",
       "  </tbody>\n",
       "</table>\n",
       "</div>"
      ],
      "text/plain": [
       "  有房者 婚姻状况  年收入 拖欠贷款\n",
       "0   是   单身  125    否\n",
       "1   否   已婚  100    否\n",
       "2   否   单身   70    否\n",
       "3   是   已婚  120    否\n",
       "4   否   离异   95    是\n",
       "5   否   已婚   60    否\n",
       "6   是   离异  220    否\n",
       "7   否   单身   85    是\n",
       "8   否   已婚   75    否\n",
       "9   否   单身   90    是"
      ]
     },
     "execution_count": 84,
     "metadata": {},
     "output_type": "execute_result"
    },
    {
     "data": {
      "text/html": [
       "<div>\n",
       "<style scoped>\n",
       "    .dataframe tbody tr th:only-of-type {\n",
       "        vertical-align: middle;\n",
       "    }\n",
       "\n",
       "    .dataframe tbody tr th {\n",
       "        vertical-align: top;\n",
       "    }\n",
       "\n",
       "    .dataframe thead th {\n",
       "        text-align: right;\n",
       "    }\n",
       "</style>\n",
       "<table border=\"1\" class=\"dataframe\">\n",
       "  <thead>\n",
       "    <tr style=\"text-align: right;\">\n",
       "      <th></th>\n",
       "      <th>年收入</th>\n",
       "      <th>拖欠贷款</th>\n",
       "      <th>有房者_否</th>\n",
       "      <th>有房者_是</th>\n",
       "      <th>婚姻状况_单身</th>\n",
       "      <th>婚姻状况_已婚</th>\n",
       "      <th>婚姻状况_离异</th>\n",
       "    </tr>\n",
       "  </thead>\n",
       "  <tbody>\n",
       "    <tr>\n",
       "      <th>0</th>\n",
       "      <td>125</td>\n",
       "      <td>否</td>\n",
       "      <td>0</td>\n",
       "      <td>1</td>\n",
       "      <td>1</td>\n",
       "      <td>0</td>\n",
       "      <td>0</td>\n",
       "    </tr>\n",
       "    <tr>\n",
       "      <th>1</th>\n",
       "      <td>100</td>\n",
       "      <td>否</td>\n",
       "      <td>1</td>\n",
       "      <td>0</td>\n",
       "      <td>0</td>\n",
       "      <td>1</td>\n",
       "      <td>0</td>\n",
       "    </tr>\n",
       "    <tr>\n",
       "      <th>2</th>\n",
       "      <td>70</td>\n",
       "      <td>否</td>\n",
       "      <td>1</td>\n",
       "      <td>0</td>\n",
       "      <td>1</td>\n",
       "      <td>0</td>\n",
       "      <td>0</td>\n",
       "    </tr>\n",
       "    <tr>\n",
       "      <th>3</th>\n",
       "      <td>120</td>\n",
       "      <td>否</td>\n",
       "      <td>0</td>\n",
       "      <td>1</td>\n",
       "      <td>0</td>\n",
       "      <td>1</td>\n",
       "      <td>0</td>\n",
       "    </tr>\n",
       "    <tr>\n",
       "      <th>4</th>\n",
       "      <td>95</td>\n",
       "      <td>是</td>\n",
       "      <td>1</td>\n",
       "      <td>0</td>\n",
       "      <td>0</td>\n",
       "      <td>0</td>\n",
       "      <td>1</td>\n",
       "    </tr>\n",
       "    <tr>\n",
       "      <th>5</th>\n",
       "      <td>60</td>\n",
       "      <td>否</td>\n",
       "      <td>1</td>\n",
       "      <td>0</td>\n",
       "      <td>0</td>\n",
       "      <td>1</td>\n",
       "      <td>0</td>\n",
       "    </tr>\n",
       "    <tr>\n",
       "      <th>6</th>\n",
       "      <td>220</td>\n",
       "      <td>否</td>\n",
       "      <td>0</td>\n",
       "      <td>1</td>\n",
       "      <td>0</td>\n",
       "      <td>0</td>\n",
       "      <td>1</td>\n",
       "    </tr>\n",
       "    <tr>\n",
       "      <th>7</th>\n",
       "      <td>85</td>\n",
       "      <td>是</td>\n",
       "      <td>1</td>\n",
       "      <td>0</td>\n",
       "      <td>1</td>\n",
       "      <td>0</td>\n",
       "      <td>0</td>\n",
       "    </tr>\n",
       "    <tr>\n",
       "      <th>8</th>\n",
       "      <td>75</td>\n",
       "      <td>否</td>\n",
       "      <td>1</td>\n",
       "      <td>0</td>\n",
       "      <td>0</td>\n",
       "      <td>1</td>\n",
       "      <td>0</td>\n",
       "    </tr>\n",
       "    <tr>\n",
       "      <th>9</th>\n",
       "      <td>90</td>\n",
       "      <td>是</td>\n",
       "      <td>1</td>\n",
       "      <td>0</td>\n",
       "      <td>1</td>\n",
       "      <td>0</td>\n",
       "      <td>0</td>\n",
       "    </tr>\n",
       "  </tbody>\n",
       "</table>\n",
       "</div>"
      ],
      "text/plain": [
       "   年收入 拖欠贷款  有房者_否  有房者_是  婚姻状况_单身  婚姻状况_已婚  婚姻状况_离异\n",
       "0  125    否      0      1        1        0        0\n",
       "1  100    否      1      0        0        1        0\n",
       "2   70    否      1      0        1        0        0\n",
       "3  120    否      0      1        0        1        0\n",
       "4   95    是      1      0        0        0        1\n",
       "5   60    否      1      0        0        1        0\n",
       "6  220    否      0      1        0        0        1\n",
       "7   85    是      1      0        1        0        0\n",
       "8   75    否      1      0        0        1        0\n",
       "9   90    是      1      0        1        0        0"
      ]
     },
     "execution_count": 84,
     "metadata": {},
     "output_type": "execute_result"
    },
    {
     "data": {
      "text/html": [
       "<div>\n",
       "<style scoped>\n",
       "    .dataframe tbody tr th:only-of-type {\n",
       "        vertical-align: middle;\n",
       "    }\n",
       "\n",
       "    .dataframe tbody tr th {\n",
       "        vertical-align: top;\n",
       "    }\n",
       "\n",
       "    .dataframe thead th {\n",
       "        text-align: right;\n",
       "    }\n",
       "</style>\n",
       "<table border=\"1\" class=\"dataframe\">\n",
       "  <thead>\n",
       "    <tr style=\"text-align: right;\">\n",
       "      <th></th>\n",
       "      <th>年收入</th>\n",
       "      <th>有房者_否</th>\n",
       "      <th>有房者_是</th>\n",
       "      <th>婚姻状况_单身</th>\n",
       "      <th>婚姻状况_已婚</th>\n",
       "      <th>婚姻状况_离异</th>\n",
       "    </tr>\n",
       "  </thead>\n",
       "  <tbody>\n",
       "    <tr>\n",
       "      <th>0</th>\n",
       "      <td>125</td>\n",
       "      <td>0</td>\n",
       "      <td>1</td>\n",
       "      <td>1</td>\n",
       "      <td>0</td>\n",
       "      <td>0</td>\n",
       "    </tr>\n",
       "    <tr>\n",
       "      <th>1</th>\n",
       "      <td>100</td>\n",
       "      <td>1</td>\n",
       "      <td>0</td>\n",
       "      <td>0</td>\n",
       "      <td>1</td>\n",
       "      <td>0</td>\n",
       "    </tr>\n",
       "    <tr>\n",
       "      <th>2</th>\n",
       "      <td>70</td>\n",
       "      <td>1</td>\n",
       "      <td>0</td>\n",
       "      <td>1</td>\n",
       "      <td>0</td>\n",
       "      <td>0</td>\n",
       "    </tr>\n",
       "    <tr>\n",
       "      <th>3</th>\n",
       "      <td>120</td>\n",
       "      <td>0</td>\n",
       "      <td>1</td>\n",
       "      <td>0</td>\n",
       "      <td>1</td>\n",
       "      <td>0</td>\n",
       "    </tr>\n",
       "    <tr>\n",
       "      <th>4</th>\n",
       "      <td>95</td>\n",
       "      <td>1</td>\n",
       "      <td>0</td>\n",
       "      <td>0</td>\n",
       "      <td>0</td>\n",
       "      <td>1</td>\n",
       "    </tr>\n",
       "    <tr>\n",
       "      <th>5</th>\n",
       "      <td>60</td>\n",
       "      <td>1</td>\n",
       "      <td>0</td>\n",
       "      <td>0</td>\n",
       "      <td>1</td>\n",
       "      <td>0</td>\n",
       "    </tr>\n",
       "    <tr>\n",
       "      <th>6</th>\n",
       "      <td>220</td>\n",
       "      <td>0</td>\n",
       "      <td>1</td>\n",
       "      <td>0</td>\n",
       "      <td>0</td>\n",
       "      <td>1</td>\n",
       "    </tr>\n",
       "    <tr>\n",
       "      <th>7</th>\n",
       "      <td>85</td>\n",
       "      <td>1</td>\n",
       "      <td>0</td>\n",
       "      <td>1</td>\n",
       "      <td>0</td>\n",
       "      <td>0</td>\n",
       "    </tr>\n",
       "    <tr>\n",
       "      <th>8</th>\n",
       "      <td>75</td>\n",
       "      <td>1</td>\n",
       "      <td>0</td>\n",
       "      <td>0</td>\n",
       "      <td>1</td>\n",
       "      <td>0</td>\n",
       "    </tr>\n",
       "    <tr>\n",
       "      <th>9</th>\n",
       "      <td>90</td>\n",
       "      <td>1</td>\n",
       "      <td>0</td>\n",
       "      <td>1</td>\n",
       "      <td>0</td>\n",
       "      <td>0</td>\n",
       "    </tr>\n",
       "  </tbody>\n",
       "</table>\n",
       "</div>"
      ],
      "text/plain": [
       "   年收入  有房者_否  有房者_是  婚姻状况_单身  婚姻状况_已婚  婚姻状况_离异\n",
       "0  125      0      1        1        0        0\n",
       "1  100      1      0        0        1        0\n",
       "2   70      1      0        1        0        0\n",
       "3  120      0      1        0        1        0\n",
       "4   95      1      0        0        0        1\n",
       "5   60      1      0        0        1        0\n",
       "6  220      0      1        0        0        1\n",
       "7   85      1      0        1        0        0\n",
       "8   75      1      0        0        1        0\n",
       "9   90      1      0        1        0        0"
      ]
     },
     "execution_count": 84,
     "metadata": {},
     "output_type": "execute_result"
    }
   ],
   "source": [
    "debttrainOH = pd.get_dummies(debttrain, columns=['有房者','婚姻状况'])\n",
    "debttrain\n",
    "debttrainOH\n",
    "debttrainY = debttrainOH.pop('拖欠贷款')\n",
    "debttrainOH"
   ]
  },
  {
   "cell_type": "code",
   "execution_count": 91,
   "metadata": {
    "slideshow": {
     "slide_type": "slide"
    }
   },
   "outputs": [
    {
     "data": {
      "text/plain": [
       "DecisionTreeClassifier(ccp_alpha=0.0, class_weight=None, criterion='gini',\n",
       "                       max_depth=None, max_features=None, max_leaf_nodes=None,\n",
       "                       min_impurity_decrease=0.0, min_impurity_split=None,\n",
       "                       min_samples_leaf=1, min_samples_split=2,\n",
       "                       min_weight_fraction_leaf=0.0, presort='deprecated',\n",
       "                       random_state=None, splitter='best')"
      ]
     },
     "execution_count": 91,
     "metadata": {},
     "output_type": "execute_result"
    }
   ],
   "source": [
    "dtDebt.fit(debttrainOH, debttrainY)"
   ]
  },
  {
   "cell_type": "markdown",
   "metadata": {
    "slideshow": {
     "slide_type": "subslide"
    }
   },
   "source": [
    "#### 决策树可视化"
   ]
  },
  {
   "cell_type": "markdown",
   "metadata": {
    "slideshow": {
     "slide_type": "fragment"
    }
   },
   "source": [
    "##### 决策规则以文本形式输出"
   ]
  },
  {
   "cell_type": "markdown",
   "metadata": {
    "slideshow": {
     "slide_type": "fragment"
    }
   },
   "source": [
    "```python\n",
    "tree.export_text(decision_tree, feature_names=None)\n",
    "```\n",
    "- `decision_tree`：训练过的决策树模型\n",
    "- `feature_names`：由预测属性名称构成的列表"
   ]
  },
  {
   "cell_type": "code",
   "execution_count": 93,
   "metadata": {
    "slideshow": {
     "slide_type": "fragment"
    }
   },
   "outputs": [
    {
     "name": "stdout",
     "output_type": "stream",
     "text": [
      "|--- 婚姻状况_已婚 <= 0.50\n",
      "|   |--- 有房者_否 <= 0.50\n",
      "|   |   |--- class: 否\n",
      "|   |--- 有房者_否 >  0.50\n",
      "|   |   |--- 年收入 <= 77.50\n",
      "|   |   |   |--- class: 否\n",
      "|   |   |--- 年收入 >  77.50\n",
      "|   |   |   |--- class: 是\n",
      "|--- 婚姻状况_已婚 >  0.50\n",
      "|   |--- class: 否\n",
      "\n"
     ]
    }
   ],
   "source": [
    "print(tree.export_text(dtDebt,feature_names=list(debttrainOH.columns)))"
   ]
  },
  {
   "cell_type": "markdown",
   "metadata": {
    "slideshow": {
     "slide_type": "slide"
    }
   },
   "source": [
    "##### 决策规则以图形形式输出：Graphviz"
   ]
  },
  {
   "cell_type": "markdown",
   "metadata": {
    "slideshow": {
     "slide_type": "fragment"
    }
   },
   "source": [
    "- Graphviz是一个开源的流程图绘制软件\n",
    "- 官方网站：[http://graphviz.org/](http://graphviz.org/)"
   ]
  },
  {
   "cell_type": "markdown",
   "metadata": {
    "slideshow": {
     "slide_type": "fragment"
    }
   },
   "source": [
    "- 下载安装\n",
    "    + `Windows`系统下载`graphviz-2.38.msi`：[https://graphviz.gitlab.io/_pages/Download/Download_windows.html](https://graphviz.gitlab.io/_pages/Download/Download_windows.html)\n",
    "    + `Mac`系统，参考[https://blog.csdn.net/w1573007/article/details/80117725?depth_1-utm_source=distribute.pc_relevant.none-task&utm_source=distribute.pc_relevant.none-task](https://blog.csdn.net/w1573007/article/details/80117725?depth_1-utm_source=distribute.pc_relevant.none-task&utm_source=distribute.pc_relevant.none-task)"
   ]
  },
  {
   "cell_type": "markdown",
   "metadata": {
    "slideshow": {
     "slide_type": "subslide"
    }
   },
   "source": [
    "- 将Graphviz添加到`Windows`的环境变量"
   ]
  },
  {
   "cell_type": "markdown",
   "metadata": {
    "slideshow": {
     "slide_type": "fragment"
    }
   },
   "source": [
    "<center><img src=\"./img/classification/graphvizPath.png\" width=60%></center>"
   ]
  },
  {
   "cell_type": "markdown",
   "metadata": {
    "slideshow": {
     "slide_type": "fragment"
    }
   },
   "source": [
    "> 将`C:\\Program Files (x86)\\Graphviz2.38\\bin\\;`添加到`Path`变量值的最后，与前面的项目之间用英文`;`间隔\n",
    "<center><img src=\"./img/classification/graphvizPath1.png\" width=40%></center>"
   ]
  },
  {
   "cell_type": "markdown",
   "metadata": {
    "slideshow": {
     "slide_type": "fragment"
    }
   },
   "source": [
    "-  Python中安装Graphviz包\n",
    "\n",
    "```python\n",
    "pip install graphviz\n",
    "```"
   ]
  },
  {
   "cell_type": "markdown",
   "metadata": {
    "slideshow": {
     "slide_type": "slide"
    }
   },
   "source": [
    "##### 显示决策树"
   ]
  },
  {
   "cell_type": "markdown",
   "metadata": {
    "slideshow": {
     "slide_type": "fragment"
    }
   },
   "source": [
    "- `sklearn`中将决策树导出成为`Graphviz`图形的函数"
   ]
  },
  {
   "cell_type": "markdown",
   "metadata": {
    "slideshow": {
     "slide_type": "fragment"
    }
   },
   "source": [
    "```python\n",
    "tree.export_graphviz(decision_tree, feature_names=None, class_names=None, filled=False)\n",
    "```\n",
    "- `decision_tree`：生成的决策树\n",
    "- `feature_names`：`str`列表，由预测属性的名称构成\n",
    "- `class_names`：`str`列表，给每个类别命名，依据类别对应的数值的升序排列，与`dt.classes_`显示的类别顺序一致\n",
    "- `filled`：是否给节点上色，默认否"
   ]
  },
  {
   "cell_type": "code",
   "execution_count": 111,
   "metadata": {
    "slideshow": {
     "slide_type": "fragment"
    }
   },
   "outputs": [],
   "source": [
    "dotDataRaw = tree.export_graphviz(dtDebt)"
   ]
  },
  {
   "cell_type": "code",
   "execution_count": 112,
   "metadata": {
    "slideshow": {
     "slide_type": "fragment"
    }
   },
   "outputs": [
    {
     "data": {
      "image/svg+xml": [
       "<?xml version=\"1.0\" encoding=\"UTF-8\" standalone=\"no\"?>\n",
       "<!DOCTYPE svg PUBLIC \"-//W3C//DTD SVG 1.1//EN\"\n",
       " \"http://www.w3.org/Graphics/SVG/1.1/DTD/svg11.dtd\">\n",
       "<!-- Generated by graphviz version 2.38.0 (20140413.2041)\n",
       " -->\n",
       "<!-- Title: Tree Pages: 1 -->\n",
       "<svg width=\"265pt\" height=\"373pt\"\n",
       " viewBox=\"0.00 0.00 265.00 373.00\" xmlns=\"http://www.w3.org/2000/svg\" xmlns:xlink=\"http://www.w3.org/1999/xlink\">\n",
       "<g id=\"graph0\" class=\"graph\" transform=\"scale(1 1) rotate(0) translate(4 369)\">\n",
       "<title>Tree</title>\n",
       "<polygon fill=\"white\" stroke=\"none\" points=\"-4,4 -4,-369 261,-369 261,4 -4,4\"/>\n",
       "<!-- 0 -->\n",
       "<g id=\"node1\" class=\"node\"><title>0</title>\n",
       "<polygon fill=\"none\" stroke=\"black\" points=\"202,-365 110,-365 110,-297 202,-297 202,-365\"/>\n",
       "<text text-anchor=\"middle\" x=\"156\" y=\"-349.8\" font-family=\"Times,serif\" font-size=\"14.00\">X[4] &lt;= 0.5</text>\n",
       "<text text-anchor=\"middle\" x=\"156\" y=\"-334.8\" font-family=\"Times,serif\" font-size=\"14.00\">gini = 0.42</text>\n",
       "<text text-anchor=\"middle\" x=\"156\" y=\"-319.8\" font-family=\"Times,serif\" font-size=\"14.00\">samples = 10</text>\n",
       "<text text-anchor=\"middle\" x=\"156\" y=\"-304.8\" font-family=\"Times,serif\" font-size=\"14.00\">value = [7, 3]</text>\n",
       "</g>\n",
       "<!-- 1 -->\n",
       "<g id=\"node2\" class=\"node\"><title>1</title>\n",
       "<polygon fill=\"none\" stroke=\"black\" points=\"147,-261 55,-261 55,-193 147,-193 147,-261\"/>\n",
       "<text text-anchor=\"middle\" x=\"101\" y=\"-245.8\" font-family=\"Times,serif\" font-size=\"14.00\">X[1] &lt;= 0.5</text>\n",
       "<text text-anchor=\"middle\" x=\"101\" y=\"-230.8\" font-family=\"Times,serif\" font-size=\"14.00\">gini = 0.5</text>\n",
       "<text text-anchor=\"middle\" x=\"101\" y=\"-215.8\" font-family=\"Times,serif\" font-size=\"14.00\">samples = 6</text>\n",
       "<text text-anchor=\"middle\" x=\"101\" y=\"-200.8\" font-family=\"Times,serif\" font-size=\"14.00\">value = [3, 3]</text>\n",
       "</g>\n",
       "<!-- 0&#45;&gt;1 -->\n",
       "<g id=\"edge1\" class=\"edge\"><title>0&#45;&gt;1</title>\n",
       "<path fill=\"none\" stroke=\"black\" d=\"M138.143,-296.884C133.58,-288.422 128.612,-279.207 123.837,-270.352\"/>\n",
       "<polygon fill=\"black\" stroke=\"black\" points=\"126.782,-268.44 118.956,-261.299 120.621,-271.762 126.782,-268.44\"/>\n",
       "<text text-anchor=\"middle\" x=\"111.786\" y=\"-281.549\" font-family=\"Times,serif\" font-size=\"14.00\">True</text>\n",
       "</g>\n",
       "<!-- 6 -->\n",
       "<g id=\"node7\" class=\"node\"><title>6</title>\n",
       "<polygon fill=\"none\" stroke=\"black\" points=\"257,-253.5 165,-253.5 165,-200.5 257,-200.5 257,-253.5\"/>\n",
       "<text text-anchor=\"middle\" x=\"211\" y=\"-238.3\" font-family=\"Times,serif\" font-size=\"14.00\">gini = 0.0</text>\n",
       "<text text-anchor=\"middle\" x=\"211\" y=\"-223.3\" font-family=\"Times,serif\" font-size=\"14.00\">samples = 4</text>\n",
       "<text text-anchor=\"middle\" x=\"211\" y=\"-208.3\" font-family=\"Times,serif\" font-size=\"14.00\">value = [4, 0]</text>\n",
       "</g>\n",
       "<!-- 0&#45;&gt;6 -->\n",
       "<g id=\"edge6\" class=\"edge\"><title>0&#45;&gt;6</title>\n",
       "<path fill=\"none\" stroke=\"black\" d=\"M173.857,-296.884C179.787,-285.886 186.402,-273.617 192.388,-262.517\"/>\n",
       "<polygon fill=\"black\" stroke=\"black\" points=\"195.574,-263.983 197.239,-253.52 189.412,-260.661 195.574,-263.983\"/>\n",
       "<text text-anchor=\"middle\" x=\"204.409\" y=\"-273.77\" font-family=\"Times,serif\" font-size=\"14.00\">False</text>\n",
       "</g>\n",
       "<!-- 2 -->\n",
       "<g id=\"node3\" class=\"node\"><title>2</title>\n",
       "<polygon fill=\"none\" stroke=\"black\" points=\"92,-149.5 0,-149.5 0,-96.5 92,-96.5 92,-149.5\"/>\n",
       "<text text-anchor=\"middle\" x=\"46\" y=\"-134.3\" font-family=\"Times,serif\" font-size=\"14.00\">gini = 0.0</text>\n",
       "<text text-anchor=\"middle\" x=\"46\" y=\"-119.3\" font-family=\"Times,serif\" font-size=\"14.00\">samples = 2</text>\n",
       "<text text-anchor=\"middle\" x=\"46\" y=\"-104.3\" font-family=\"Times,serif\" font-size=\"14.00\">value = [2, 0]</text>\n",
       "</g>\n",
       "<!-- 1&#45;&gt;2 -->\n",
       "<g id=\"edge2\" class=\"edge\"><title>1&#45;&gt;2</title>\n",
       "<path fill=\"none\" stroke=\"black\" d=\"M83.1431,-192.884C77.2128,-181.886 70.5976,-169.617 64.6119,-158.517\"/>\n",
       "<polygon fill=\"black\" stroke=\"black\" points=\"67.5876,-156.661 59.7607,-149.52 61.4263,-159.983 67.5876,-156.661\"/>\n",
       "</g>\n",
       "<!-- 3 -->\n",
       "<g id=\"node4\" class=\"node\"><title>3</title>\n",
       "<polygon fill=\"none\" stroke=\"black\" points=\"202,-157 110,-157 110,-89 202,-89 202,-157\"/>\n",
       "<text text-anchor=\"middle\" x=\"156\" y=\"-141.8\" font-family=\"Times,serif\" font-size=\"14.00\">X[0] &lt;= 77.5</text>\n",
       "<text text-anchor=\"middle\" x=\"156\" y=\"-126.8\" font-family=\"Times,serif\" font-size=\"14.00\">gini = 0.375</text>\n",
       "<text text-anchor=\"middle\" x=\"156\" y=\"-111.8\" font-family=\"Times,serif\" font-size=\"14.00\">samples = 4</text>\n",
       "<text text-anchor=\"middle\" x=\"156\" y=\"-96.8\" font-family=\"Times,serif\" font-size=\"14.00\">value = [1, 3]</text>\n",
       "</g>\n",
       "<!-- 1&#45;&gt;3 -->\n",
       "<g id=\"edge3\" class=\"edge\"><title>1&#45;&gt;3</title>\n",
       "<path fill=\"none\" stroke=\"black\" d=\"M118.857,-192.884C123.42,-184.422 128.388,-175.207 133.163,-166.352\"/>\n",
       "<polygon fill=\"black\" stroke=\"black\" points=\"136.379,-167.762 138.044,-157.299 130.218,-164.44 136.379,-167.762\"/>\n",
       "</g>\n",
       "<!-- 4 -->\n",
       "<g id=\"node5\" class=\"node\"><title>4</title>\n",
       "<polygon fill=\"none\" stroke=\"black\" points=\"147,-53 55,-53 55,-0 147,-0 147,-53\"/>\n",
       "<text text-anchor=\"middle\" x=\"101\" y=\"-37.8\" font-family=\"Times,serif\" font-size=\"14.00\">gini = 0.0</text>\n",
       "<text text-anchor=\"middle\" x=\"101\" y=\"-22.8\" font-family=\"Times,serif\" font-size=\"14.00\">samples = 1</text>\n",
       "<text text-anchor=\"middle\" x=\"101\" y=\"-7.8\" font-family=\"Times,serif\" font-size=\"14.00\">value = [1, 0]</text>\n",
       "</g>\n",
       "<!-- 3&#45;&gt;4 -->\n",
       "<g id=\"edge4\" class=\"edge\"><title>3&#45;&gt;4</title>\n",
       "<path fill=\"none\" stroke=\"black\" d=\"M136.764,-88.9485C131.706,-80.2579 126.236,-70.8608 121.133,-62.0917\"/>\n",
       "<polygon fill=\"black\" stroke=\"black\" points=\"124.034,-60.1189 115.979,-53.2367 117.984,-63.6401 124.034,-60.1189\"/>\n",
       "</g>\n",
       "<!-- 5 -->\n",
       "<g id=\"node6\" class=\"node\"><title>5</title>\n",
       "<polygon fill=\"none\" stroke=\"black\" points=\"257,-53 165,-53 165,-0 257,-0 257,-53\"/>\n",
       "<text text-anchor=\"middle\" x=\"211\" y=\"-37.8\" font-family=\"Times,serif\" font-size=\"14.00\">gini = 0.0</text>\n",
       "<text text-anchor=\"middle\" x=\"211\" y=\"-22.8\" font-family=\"Times,serif\" font-size=\"14.00\">samples = 3</text>\n",
       "<text text-anchor=\"middle\" x=\"211\" y=\"-7.8\" font-family=\"Times,serif\" font-size=\"14.00\">value = [0, 3]</text>\n",
       "</g>\n",
       "<!-- 3&#45;&gt;5 -->\n",
       "<g id=\"edge5\" class=\"edge\"><title>3&#45;&gt;5</title>\n",
       "<path fill=\"none\" stroke=\"black\" d=\"M175.236,-88.9485C180.294,-80.2579 185.764,-70.8608 190.867,-62.0917\"/>\n",
       "<polygon fill=\"black\" stroke=\"black\" points=\"194.016,-63.6401 196.021,-53.2367 187.966,-60.1189 194.016,-63.6401\"/>\n",
       "</g>\n",
       "</g>\n",
       "</svg>\n"
      ],
      "text/plain": [
       "<graphviz.files.Source at 0x7f8c4eca4048>"
      ]
     },
     "execution_count": 112,
     "metadata": {},
     "output_type": "execute_result"
    }
   ],
   "source": [
    "import graphviz\n",
    "graphRaw = graphviz.Source(dotDataRaw)\n",
    "graphRaw"
   ]
  },
  {
   "cell_type": "code",
   "execution_count": 114,
   "metadata": {
    "slideshow": {
     "slide_type": "subslide"
    }
   },
   "outputs": [
    {
     "data": {
      "text/plain": [
       "array(['否', '是'], dtype=object)"
      ]
     },
     "execution_count": 114,
     "metadata": {},
     "output_type": "execute_result"
    }
   ],
   "source": [
    "dotData = tree.export_graphviz(dtDebt, feature_names=debttrainOH.columns, class_names=['无拖欠','拖欠'], filled=True)\n",
    "dtDebt.classes_"
   ]
  },
  {
   "cell_type": "code",
   "execution_count": 115,
   "metadata": {
    "slideshow": {
     "slide_type": "fragment"
    }
   },
   "outputs": [
    {
     "data": {
      "image/svg+xml": [
       "<?xml version=\"1.0\" encoding=\"UTF-8\" standalone=\"no\"?>\n",
       "<!DOCTYPE svg PUBLIC \"-//W3C//DTD SVG 1.1//EN\"\n",
       " \"http://www.w3.org/Graphics/SVG/1.1/DTD/svg11.dtd\">\n",
       "<!-- Generated by graphviz version 2.38.0 (20140413.2041)\n",
       " -->\n",
       "<!-- Title: Tree Pages: 1 -->\n",
       "<svg width=\"300pt\" height=\"433pt\"\n",
       " viewBox=\"0.00 0.00 300.00 433.00\" xmlns=\"http://www.w3.org/2000/svg\" xmlns:xlink=\"http://www.w3.org/1999/xlink\">\n",
       "<g id=\"graph0\" class=\"graph\" transform=\"scale(1 1) rotate(0) translate(4 429)\">\n",
       "<title>Tree</title>\n",
       "<polygon fill=\"white\" stroke=\"none\" points=\"-4,4 -4,-429 296,-429 296,4 -4,4\"/>\n",
       "<!-- 0 -->\n",
       "<g id=\"node1\" class=\"node\"><title>0</title>\n",
       "<polygon fill=\"#f0b78e\" stroke=\"black\" points=\"251.5,-425 101.5,-425 101.5,-342 251.5,-342 251.5,-425\"/>\n",
       "<text text-anchor=\"middle\" x=\"176.5\" y=\"-409.8\" font-family=\"Times,serif\" font-size=\"14.00\">婚姻状况_已婚 &lt;= 0.5</text>\n",
       "<text text-anchor=\"middle\" x=\"176.5\" y=\"-394.8\" font-family=\"Times,serif\" font-size=\"14.00\">gini = 0.42</text>\n",
       "<text text-anchor=\"middle\" x=\"176.5\" y=\"-379.8\" font-family=\"Times,serif\" font-size=\"14.00\">samples = 10</text>\n",
       "<text text-anchor=\"middle\" x=\"176.5\" y=\"-364.8\" font-family=\"Times,serif\" font-size=\"14.00\">value = [7, 3]</text>\n",
       "<text text-anchor=\"middle\" x=\"176.5\" y=\"-349.8\" font-family=\"Times,serif\" font-size=\"14.00\">class = 无拖欠</text>\n",
       "</g>\n",
       "<!-- 1 -->\n",
       "<g id=\"node2\" class=\"node\"><title>1</title>\n",
       "<polygon fill=\"#ffffff\" stroke=\"black\" points=\"172.5,-306 50.5,-306 50.5,-223 172.5,-223 172.5,-306\"/>\n",
       "<text text-anchor=\"middle\" x=\"111.5\" y=\"-290.8\" font-family=\"Times,serif\" font-size=\"14.00\">有房者_否 &lt;= 0.5</text>\n",
       "<text text-anchor=\"middle\" x=\"111.5\" y=\"-275.8\" font-family=\"Times,serif\" font-size=\"14.00\">gini = 0.5</text>\n",
       "<text text-anchor=\"middle\" x=\"111.5\" y=\"-260.8\" font-family=\"Times,serif\" font-size=\"14.00\">samples = 6</text>\n",
       "<text text-anchor=\"middle\" x=\"111.5\" y=\"-245.8\" font-family=\"Times,serif\" font-size=\"14.00\">value = [3, 3]</text>\n",
       "<text text-anchor=\"middle\" x=\"111.5\" y=\"-230.8\" font-family=\"Times,serif\" font-size=\"14.00\">class = 无拖欠</text>\n",
       "</g>\n",
       "<!-- 0&#45;&gt;1 -->\n",
       "<g id=\"edge1\" class=\"edge\"><title>0&#45;&gt;1</title>\n",
       "<path fill=\"none\" stroke=\"black\" d=\"M153.949,-341.907C149.109,-333.195 143.943,-323.897 138.941,-314.893\"/>\n",
       "<polygon fill=\"black\" stroke=\"black\" points=\"141.928,-313.063 134.012,-306.021 135.808,-316.462 141.928,-313.063\"/>\n",
       "<text text-anchor=\"middle\" x=\"127.144\" y=\"-326.359\" font-family=\"Times,serif\" font-size=\"14.00\">True</text>\n",
       "</g>\n",
       "<!-- 6 -->\n",
       "<g id=\"node7\" class=\"node\"><title>6</title>\n",
       "<polygon fill=\"#e58139\" stroke=\"black\" points=\"292,-298.5 191,-298.5 191,-230.5 292,-230.5 292,-298.5\"/>\n",
       "<text text-anchor=\"middle\" x=\"241.5\" y=\"-283.3\" font-family=\"Times,serif\" font-size=\"14.00\">gini = 0.0</text>\n",
       "<text text-anchor=\"middle\" x=\"241.5\" y=\"-268.3\" font-family=\"Times,serif\" font-size=\"14.00\">samples = 4</text>\n",
       "<text text-anchor=\"middle\" x=\"241.5\" y=\"-253.3\" font-family=\"Times,serif\" font-size=\"14.00\">value = [4, 0]</text>\n",
       "<text text-anchor=\"middle\" x=\"241.5\" y=\"-238.3\" font-family=\"Times,serif\" font-size=\"14.00\">class = 无拖欠</text>\n",
       "</g>\n",
       "<!-- 0&#45;&gt;6 -->\n",
       "<g id=\"edge6\" class=\"edge\"><title>0&#45;&gt;6</title>\n",
       "<path fill=\"none\" stroke=\"black\" d=\"M199.051,-341.907C205.243,-330.763 211.968,-318.658 218.2,-307.439\"/>\n",
       "<polygon fill=\"black\" stroke=\"black\" points=\"221.277,-309.108 223.074,-298.667 215.158,-305.709 221.277,-309.108\"/>\n",
       "<text text-anchor=\"middle\" x=\"229.942\" y=\"-319.005\" font-family=\"Times,serif\" font-size=\"14.00\">False</text>\n",
       "</g>\n",
       "<!-- 2 -->\n",
       "<g id=\"node3\" class=\"node\"><title>2</title>\n",
       "<polygon fill=\"#e58139\" stroke=\"black\" points=\"101,-179.5 0,-179.5 0,-111.5 101,-111.5 101,-179.5\"/>\n",
       "<text text-anchor=\"middle\" x=\"50.5\" y=\"-164.3\" font-family=\"Times,serif\" font-size=\"14.00\">gini = 0.0</text>\n",
       "<text text-anchor=\"middle\" x=\"50.5\" y=\"-149.3\" font-family=\"Times,serif\" font-size=\"14.00\">samples = 2</text>\n",
       "<text text-anchor=\"middle\" x=\"50.5\" y=\"-134.3\" font-family=\"Times,serif\" font-size=\"14.00\">value = [2, 0]</text>\n",
       "<text text-anchor=\"middle\" x=\"50.5\" y=\"-119.3\" font-family=\"Times,serif\" font-size=\"14.00\">class = 无拖欠</text>\n",
       "</g>\n",
       "<!-- 1&#45;&gt;2 -->\n",
       "<g id=\"edge2\" class=\"edge\"><title>1&#45;&gt;2</title>\n",
       "<path fill=\"none\" stroke=\"black\" d=\"M90.3364,-222.907C84.5833,-211.873 78.3398,-199.898 72.5396,-188.773\"/>\n",
       "<polygon fill=\"black\" stroke=\"black\" points=\"75.5188,-186.916 67.7922,-179.667 69.3118,-190.152 75.5188,-186.916\"/>\n",
       "</g>\n",
       "<!-- 3 -->\n",
       "<g id=\"node4\" class=\"node\"><title>3</title>\n",
       "<polygon fill=\"#7bbeee\" stroke=\"black\" points=\"226,-187 119,-187 119,-104 226,-104 226,-187\"/>\n",
       "<text text-anchor=\"middle\" x=\"172.5\" y=\"-171.8\" font-family=\"Times,serif\" font-size=\"14.00\">年收入 &lt;= 77.5</text>\n",
       "<text text-anchor=\"middle\" x=\"172.5\" y=\"-156.8\" font-family=\"Times,serif\" font-size=\"14.00\">gini = 0.375</text>\n",
       "<text text-anchor=\"middle\" x=\"172.5\" y=\"-141.8\" font-family=\"Times,serif\" font-size=\"14.00\">samples = 4</text>\n",
       "<text text-anchor=\"middle\" x=\"172.5\" y=\"-126.8\" font-family=\"Times,serif\" font-size=\"14.00\">value = [1, 3]</text>\n",
       "<text text-anchor=\"middle\" x=\"172.5\" y=\"-111.8\" font-family=\"Times,serif\" font-size=\"14.00\">class = 拖欠</text>\n",
       "</g>\n",
       "<!-- 1&#45;&gt;3 -->\n",
       "<g id=\"edge3\" class=\"edge\"><title>1&#45;&gt;3</title>\n",
       "<path fill=\"none\" stroke=\"black\" d=\"M132.664,-222.907C137.206,-214.195 142.054,-204.897 146.748,-195.893\"/>\n",
       "<polygon fill=\"black\" stroke=\"black\" points=\"149.854,-197.506 151.374,-187.021 143.647,-194.27 149.854,-197.506\"/>\n",
       "</g>\n",
       "<!-- 4 -->\n",
       "<g id=\"node5\" class=\"node\"><title>4</title>\n",
       "<polygon fill=\"#e58139\" stroke=\"black\" points=\"165,-68 64,-68 64,-0 165,-0 165,-68\"/>\n",
       "<text text-anchor=\"middle\" x=\"114.5\" y=\"-52.8\" font-family=\"Times,serif\" font-size=\"14.00\">gini = 0.0</text>\n",
       "<text text-anchor=\"middle\" x=\"114.5\" y=\"-37.8\" font-family=\"Times,serif\" font-size=\"14.00\">samples = 1</text>\n",
       "<text text-anchor=\"middle\" x=\"114.5\" y=\"-22.8\" font-family=\"Times,serif\" font-size=\"14.00\">value = [1, 0]</text>\n",
       "<text text-anchor=\"middle\" x=\"114.5\" y=\"-7.8\" font-family=\"Times,serif\" font-size=\"14.00\">class = 无拖欠</text>\n",
       "</g>\n",
       "<!-- 3&#45;&gt;4 -->\n",
       "<g id=\"edge4\" class=\"edge\"><title>3&#45;&gt;4</title>\n",
       "<path fill=\"none\" stroke=\"black\" d=\"M150.903,-103.726C146.313,-95.0615 141.459,-85.8962 136.842,-77.1802\"/>\n",
       "<polygon fill=\"black\" stroke=\"black\" points=\"139.912,-75.4982 132.138,-68.2996 133.726,-78.7748 139.912,-75.4982\"/>\n",
       "</g>\n",
       "<!-- 5 -->\n",
       "<g id=\"node6\" class=\"node\"><title>5</title>\n",
       "<polygon fill=\"#399de5\" stroke=\"black\" points=\"275.5,-68 183.5,-68 183.5,-0 275.5,-0 275.5,-68\"/>\n",
       "<text text-anchor=\"middle\" x=\"229.5\" y=\"-52.8\" font-family=\"Times,serif\" font-size=\"14.00\">gini = 0.0</text>\n",
       "<text text-anchor=\"middle\" x=\"229.5\" y=\"-37.8\" font-family=\"Times,serif\" font-size=\"14.00\">samples = 3</text>\n",
       "<text text-anchor=\"middle\" x=\"229.5\" y=\"-22.8\" font-family=\"Times,serif\" font-size=\"14.00\">value = [0, 3]</text>\n",
       "<text text-anchor=\"middle\" x=\"229.5\" y=\"-7.8\" font-family=\"Times,serif\" font-size=\"14.00\">class = 拖欠</text>\n",
       "</g>\n",
       "<!-- 3&#45;&gt;5 -->\n",
       "<g id=\"edge5\" class=\"edge\"><title>3&#45;&gt;5</title>\n",
       "<path fill=\"none\" stroke=\"black\" d=\"M193.725,-103.726C198.235,-95.0615 203.006,-85.8962 207.543,-77.1802\"/>\n",
       "<polygon fill=\"black\" stroke=\"black\" points=\"210.653,-78.7859 212.166,-68.2996 204.444,-75.5537 210.653,-78.7859\"/>\n",
       "</g>\n",
       "</g>\n",
       "</svg>\n"
      ],
      "text/plain": [
       "<graphviz.files.Source at 0x7f8c4f6d7438>"
      ]
     },
     "execution_count": 115,
     "metadata": {},
     "output_type": "execute_result"
    }
   ],
   "source": [
    "import graphviz\n",
    "graph = graphviz.Source(dotData)\n",
    "graph"
   ]
  },
  {
   "cell_type": "markdown",
   "metadata": {
    "slideshow": {
     "slide_type": "slide"
    }
   },
   "source": [
    "#### 用决策树预测"
   ]
  },
  {
   "cell_type": "markdown",
   "metadata": {
    "slideshow": {
     "slide_type": "fragment"
    }
   },
   "source": [
    "```python\n",
    "dt.predict(X)\n",
    "```\n",
    "- `X`：输入的属性矩阵，形状为`[n_samples, n_features]`\n",
    "- 返回值：预测的类别，形状为`[n_samples]`的数组"
   ]
  },
  {
   "cell_type": "markdown",
   "metadata": {
    "slideshow": {
     "slide_type": "fragment"
    }
   },
   "source": [
    "```python\n",
    "dt.predict_proba(X)\n",
    "```\n",
    "- 返回值：预测属于每个类别的概率，形状为[n_samples, n_classes]的矩阵，每个样本属于每个类别的概率的顺序与`dt.classes_`一致"
   ]
  },
  {
   "cell_type": "code",
   "execution_count": 108,
   "metadata": {
    "slideshow": {
     "slide_type": "subslide"
    }
   },
   "outputs": [
    {
     "data": {
      "text/html": [
       "<div>\n",
       "<style scoped>\n",
       "    .dataframe tbody tr th:only-of-type {\n",
       "        vertical-align: middle;\n",
       "    }\n",
       "\n",
       "    .dataframe tbody tr th {\n",
       "        vertical-align: top;\n",
       "    }\n",
       "\n",
       "    .dataframe thead th {\n",
       "        text-align: right;\n",
       "    }\n",
       "</style>\n",
       "<table border=\"1\" class=\"dataframe\">\n",
       "  <thead>\n",
       "    <tr style=\"text-align: right;\">\n",
       "      <th></th>\n",
       "      <th>年收入</th>\n",
       "      <th>有房者_否</th>\n",
       "      <th>有房者_是</th>\n",
       "      <th>婚姻状况_单身</th>\n",
       "      <th>婚姻状况_已婚</th>\n",
       "      <th>婚姻状况_离异</th>\n",
       "    </tr>\n",
       "  </thead>\n",
       "  <tbody>\n",
       "    <tr>\n",
       "      <th>0</th>\n",
       "      <td>200</td>\n",
       "      <td>0</td>\n",
       "      <td>1</td>\n",
       "      <td>1</td>\n",
       "      <td>0</td>\n",
       "      <td>0</td>\n",
       "    </tr>\n",
       "    <tr>\n",
       "      <th>1</th>\n",
       "      <td>80</td>\n",
       "      <td>1</td>\n",
       "      <td>0</td>\n",
       "      <td>0</td>\n",
       "      <td>1</td>\n",
       "      <td>0</td>\n",
       "    </tr>\n",
       "    <tr>\n",
       "      <th>2</th>\n",
       "      <td>70</td>\n",
       "      <td>1</td>\n",
       "      <td>0</td>\n",
       "      <td>1</td>\n",
       "      <td>0</td>\n",
       "      <td>0</td>\n",
       "    </tr>\n",
       "    <tr>\n",
       "      <th>3</th>\n",
       "      <td>100</td>\n",
       "      <td>0</td>\n",
       "      <td>1</td>\n",
       "      <td>0</td>\n",
       "      <td>1</td>\n",
       "      <td>0</td>\n",
       "    </tr>\n",
       "    <tr>\n",
       "      <th>4</th>\n",
       "      <td>65</td>\n",
       "      <td>1</td>\n",
       "      <td>0</td>\n",
       "      <td>0</td>\n",
       "      <td>0</td>\n",
       "      <td>1</td>\n",
       "    </tr>\n",
       "  </tbody>\n",
       "</table>\n",
       "</div>"
      ],
      "text/plain": [
       "   年收入  有房者_否  有房者_是  婚姻状况_单身  婚姻状况_已婚  婚姻状况_离异\n",
       "0  200      0      1        1        0        0\n",
       "1   80      1      0        0        1        0\n",
       "2   70      1      0        1        0        0\n",
       "3  100      0      1        0        1        0\n",
       "4   65      1      0        0        0        1"
      ]
     },
     "execution_count": 108,
     "metadata": {},
     "output_type": "execute_result"
    }
   ],
   "source": [
    "debtt = [['是','否','否','是','否'],\n",
    "         ['单身','已婚','单身','已婚','离异'],\n",
    "         [200,80,70,100,65]]\n",
    "debttest = pd.DataFrame(debtt,index=['有房者','婚姻状况','年收入']).T \n",
    "debttestOH = pd.get_dummies(debttest, columns=['有房者','婚姻状况'])\n",
    "debttestOH"
   ]
  },
  {
   "cell_type": "code",
   "execution_count": 113,
   "metadata": {
    "cell_style": "center",
    "slideshow": {
     "slide_type": "fragment"
    }
   },
   "outputs": [
    {
     "data": {
      "text/plain": [
       "array(['否', '否', '否', '否', '否'], dtype=object)"
      ]
     },
     "execution_count": 113,
     "metadata": {},
     "output_type": "execute_result"
    },
    {
     "data": {
      "text/plain": [
       "array([[1., 0.],\n",
       "       [1., 0.],\n",
       "       [1., 0.],\n",
       "       [1., 0.],\n",
       "       [1., 0.]])"
      ]
     },
     "execution_count": 113,
     "metadata": {},
     "output_type": "execute_result"
    }
   ],
   "source": [
    "dtDebt.predict(debttestOH)\n",
    "dtDebt.predict_proba(debttestOH)"
   ]
  },
  {
   "cell_type": "markdown",
   "metadata": {
    "slideshow": {
     "slide_type": "slide"
    }
   },
   "source": [
    "#### 分类性能度量 "
   ]
  },
  {
   "cell_type": "markdown",
   "metadata": {
    "slideshow": {
     "slide_type": "fragment"
    }
   },
   "source": [
    "`sklearn.metrics`中有多种衡量决策树性能的指标"
   ]
  },
  {
   "cell_type": "markdown",
   "metadata": {
    "slideshow": {
     "slide_type": "fragment"
    }
   },
   "source": [
    "- 混淆矩阵"
   ]
  },
  {
   "cell_type": "markdown",
   "metadata": {
    "slideshow": {
     "slide_type": "fragment"
    }
   },
   "source": [
    "```python\n",
    "sklearn.metrics.confusion_matrix(y_true, y_pred)\n",
    "```"
   ]
  },
  {
   "cell_type": "code",
   "execution_count": 35,
   "metadata": {
    "scrolled": true,
    "slideshow": {
     "slide_type": "fragment"
    }
   },
   "outputs": [
    {
     "data": {
      "text/html": [
       "<div>\n",
       "<style scoped>\n",
       "    .dataframe tbody tr th:only-of-type {\n",
       "        vertical-align: middle;\n",
       "    }\n",
       "\n",
       "    .dataframe tbody tr th {\n",
       "        vertical-align: top;\n",
       "    }\n",
       "\n",
       "    .dataframe thead th {\n",
       "        text-align: right;\n",
       "    }\n",
       "</style>\n",
       "<table border=\"1\" class=\"dataframe\">\n",
       "  <thead>\n",
       "    <tr style=\"text-align: right;\">\n",
       "      <th></th>\n",
       "      <th>setosa</th>\n",
       "      <th>versicolor</th>\n",
       "      <th>virginica</th>\n",
       "    </tr>\n",
       "  </thead>\n",
       "  <tbody>\n",
       "    <tr>\n",
       "      <th>setosa</th>\n",
       "      <td>14</td>\n",
       "      <td>0</td>\n",
       "      <td>0</td>\n",
       "    </tr>\n",
       "    <tr>\n",
       "      <th>versicolor</th>\n",
       "      <td>0</td>\n",
       "      <td>9</td>\n",
       "      <td>0</td>\n",
       "    </tr>\n",
       "    <tr>\n",
       "      <th>virginica</th>\n",
       "      <td>0</td>\n",
       "      <td>2</td>\n",
       "      <td>13</td>\n",
       "    </tr>\n",
       "  </tbody>\n",
       "</table>\n",
       "</div>"
      ],
      "text/plain": [
       "            setosa  versicolor  virginica\n",
       "setosa          14           0          0\n",
       "versicolor       0           9          0\n",
       "virginica        0           2         13"
      ]
     },
     "execution_count": 35,
     "metadata": {},
     "output_type": "execute_result"
    }
   ],
   "source": [
    "from sklearn.metrics import confusion_matrix\n",
    "confusionM = confusion_matrix(iristestcopy['species'], iristestcopy['预测'])\n",
    "pd.DataFrame(confusionM,columns=irisdf['species'].unique(), index=irisdf['species'].unique())"
   ]
  },
  {
   "cell_type": "markdown",
   "metadata": {
    "slideshow": {
     "slide_type": "subslide"
    }
   },
   "source": [
    "- 准确率"
   ]
  },
  {
   "cell_type": "markdown",
   "metadata": {
    "slideshow": {
     "slide_type": "fragment"
    }
   },
   "source": [
    "```python\n",
    "sklearn.metrics.accuracy_score(y_true, y_pred)\n",
    "```"
   ]
  },
  {
   "cell_type": "markdown",
   "metadata": {
    "slideshow": {
     "slide_type": "fragment"
    }
   },
   "source": [
    "- 错误率"
   ]
  },
  {
   "cell_type": "markdown",
   "metadata": {
    "slideshow": {
     "slide_type": "fragment"
    }
   },
   "source": [
    "$$\n",
    "1-\\text{accuracy_score}()\n",
    "$$"
   ]
  },
  {
   "cell_type": "code",
   "execution_count": 82,
   "metadata": {
    "slideshow": {
     "slide_type": "fragment"
    }
   },
   "outputs": [
    {
     "data": {
      "text/plain": [
       "0.9736842105263158"
      ]
     },
     "execution_count": 82,
     "metadata": {},
     "output_type": "execute_result"
    }
   ],
   "source": [
    "from sklearn.metrics import accuracy_score\n",
    "accuracyS = accuracy_score(iristestcopy['species'], iristestcopy['预测'])\n",
    "accuracyS"
   ]
  },
  {
   "cell_type": "markdown",
   "metadata": {
    "slideshow": {
     "slide_type": "subslide"
    }
   },
   "source": [
    "- 在训练集上的准确率"
   ]
  },
  {
   "cell_type": "code",
   "execution_count": 85,
   "metadata": {},
   "outputs": [
    {
     "data": {
      "text/plain": [
       "0.9732142857142857"
      ]
     },
     "execution_count": 85,
     "metadata": {},
     "output_type": "execute_result"
    }
   ],
   "source": [
    "irisPredTrain = clsIris.predict(irisdftrain.iloc[:,:-1])\n",
    "accuracyIrisTrain = accuracy_score(irisdftrain['species'], irisPredTrain)\n",
    "accuracyIrisTrain"
   ]
  },
  {
   "cell_type": "markdown",
   "metadata": {
    "slideshow": {
     "slide_type": "slide"
    }
   },
   "source": [
    "- `max_depth`：`int`类型或`None`，树的最大深度。若为`None`，则所有的叶结点都只包含纯类，或者所有叶结点包含的样本数量小于`min_samples_split`\n",
    "    + 值过大会导致算法对训练集的**过拟合**，而过小会妨碍算法对数据的学习\n",
    "    + 推荐初始设置为3，先观察生成的决策树对数据的初步拟合状况，再决定是否要增加深度"
   ]
  },
  {
   "cell_type": "markdown",
   "metadata": {
    "slideshow": {
     "slide_type": "fragment"
    }
   },
   "source": [
    "- `min_samples_split`：`int`类型或`float`类型，划分一个内部结点需要的最少的样本数量。\n",
    "    + `int`类型，`min_samples_split`为最小值，默认是2个样本\n",
    "    + `float`类型，在全部样本中的占比，`ceil(min_samples_split * n_samples)`为最小值\n",
    "    + 值越大，决策树的枝越少，达到一定的剪枝效果"
   ]
  },
  {
   "cell_type": "markdown",
   "metadata": {
    "slideshow": {
     "slide_type": "fragment"
    }
   },
   "source": [
    "- `min_samples_leaf`：`int`类型或`float`类型，每个叶结点需要包含的最少的样本数量。\n",
    "    + `int`类型，`min_samples_leaf`为最小值\n",
    "    + `float`类型，在全部样本中的占比，`ceil(min_samples_leaf * n_samples)`为最小值"
   ]
  },
  {
   "cell_type": "markdown",
   "metadata": {
    "slideshow": {
     "slide_type": "slide"
    }
   },
   "source": [
    "#### 分割训练集与测试集"
   ]
  },
  {
   "cell_type": "markdown",
   "metadata": {
    "slideshow": {
     "slide_type": "fragment"
    }
   },
   "source": [
    "```python\n",
    "from sklearn.model_selection import train_test_split\n",
    "train_test_split(*arrays, **options)\n",
    "```"
   ]
  },
  {
   "cell_type": "markdown",
   "metadata": {
    "slideshow": {
     "slide_type": "fragment"
    }
   },
   "source": [
    "- `*arrays`：需要被划分的数据集，可以是`lists`类型、`numpy.arrays`类型，`pandas.DataFrame`类型"
   ]
  },
  {
   "cell_type": "markdown",
   "metadata": {
    "slideshow": {
     "slide_type": "fragment"
    }
   },
   "source": [
    "- `test_size`：检验集的规模\n",
    "    + `float`类型，取值范围`[0,1]`，表示检验集占原数据集的比例\n",
    "    + `int`类型，表示检验集包含的数据记录的绝对数量\n",
    "    + 默认为0.25"
   ]
  },
  {
   "cell_type": "markdown",
   "metadata": {
    "slideshow": {
     "slide_type": "fragment"
    }
   },
   "source": [
    "- `train_size`：训练集的规模\n",
    "    + `float`类型，取值范围`[0,1]`，表示训练集占原数据集的比例\n",
    "    + `int`类型，表示训练集包含的数据记录的绝对数量\n",
    "    + 默认与`test_size`互补"
   ]
  },
  {
   "cell_type": "markdown",
   "metadata": {
    "slideshow": {
     "slide_type": "fragment"
    }
   },
   "source": [
    "- `random_state`：随机数生成\n",
    "    + `int`类型，表示随机数生成的种子\n",
    "    + 默认用`numpy.random`的随机数生成器"
   ]
  },
  {
   "cell_type": "markdown",
   "metadata": {
    "slideshow": {
     "slide_type": "fragment"
    }
   },
   "source": [
    "- 返回值：分割好的训练集与检验集，与输入的`*array`的类型相同"
   ]
  },
  {
   "cell_type": "markdown",
   "metadata": {
    "slideshow": {
     "slide_type": "subslide"
    }
   },
   "source": [
    "##### Iris数据集分割训练集与检验集"
   ]
  },
  {
   "cell_type": "code",
   "execution_count": 21,
   "metadata": {
    "slideshow": {
     "slide_type": "fragment"
    }
   },
   "outputs": [],
   "source": [
    "from sklearn.model_selection import train_test_split"
   ]
  },
  {
   "cell_type": "code",
   "execution_count": 5,
   "metadata": {
    "slideshow": {
     "slide_type": "fragment"
    }
   },
   "outputs": [
    {
     "data": {
      "text/html": [
       "<div>\n",
       "<style scoped>\n",
       "    .dataframe tbody tr th:only-of-type {\n",
       "        vertical-align: middle;\n",
       "    }\n",
       "\n",
       "    .dataframe tbody tr th {\n",
       "        vertical-align: top;\n",
       "    }\n",
       "\n",
       "    .dataframe thead th {\n",
       "        text-align: right;\n",
       "    }\n",
       "</style>\n",
       "<table border=\"1\" class=\"dataframe\">\n",
       "  <thead>\n",
       "    <tr style=\"text-align: right;\">\n",
       "      <th></th>\n",
       "      <th>sepal_length</th>\n",
       "      <th>sepal_width</th>\n",
       "      <th>petal_length</th>\n",
       "      <th>petal_width</th>\n",
       "      <th>species</th>\n",
       "    </tr>\n",
       "  </thead>\n",
       "  <tbody>\n",
       "    <tr>\n",
       "      <th>0</th>\n",
       "      <td>5.1</td>\n",
       "      <td>3.5</td>\n",
       "      <td>1.4</td>\n",
       "      <td>0.2</td>\n",
       "      <td>setosa</td>\n",
       "    </tr>\n",
       "    <tr>\n",
       "      <th>1</th>\n",
       "      <td>4.9</td>\n",
       "      <td>3.0</td>\n",
       "      <td>1.4</td>\n",
       "      <td>0.2</td>\n",
       "      <td>setosa</td>\n",
       "    </tr>\n",
       "    <tr>\n",
       "      <th>2</th>\n",
       "      <td>4.7</td>\n",
       "      <td>3.2</td>\n",
       "      <td>1.3</td>\n",
       "      <td>0.2</td>\n",
       "      <td>setosa</td>\n",
       "    </tr>\n",
       "    <tr>\n",
       "      <th>3</th>\n",
       "      <td>4.6</td>\n",
       "      <td>3.1</td>\n",
       "      <td>1.5</td>\n",
       "      <td>0.2</td>\n",
       "      <td>setosa</td>\n",
       "    </tr>\n",
       "    <tr>\n",
       "      <th>4</th>\n",
       "      <td>5.0</td>\n",
       "      <td>3.6</td>\n",
       "      <td>1.4</td>\n",
       "      <td>0.2</td>\n",
       "      <td>setosa</td>\n",
       "    </tr>\n",
       "  </tbody>\n",
       "</table>\n",
       "</div>"
      ],
      "text/plain": [
       "   sepal_length  sepal_width  petal_length  petal_width species\n",
       "0           5.1          3.5           1.4          0.2  setosa\n",
       "1           4.9          3.0           1.4          0.2  setosa\n",
       "2           4.7          3.2           1.3          0.2  setosa\n",
       "3           4.6          3.1           1.5          0.2  setosa\n",
       "4           5.0          3.6           1.4          0.2  setosa"
      ]
     },
     "execution_count": 5,
     "metadata": {},
     "output_type": "execute_result"
    },
    {
     "data": {
      "text/plain": [
       "array(['setosa', 'versicolor', 'virginica'], dtype=object)"
      ]
     },
     "execution_count": 5,
     "metadata": {},
     "output_type": "execute_result"
    }
   ],
   "source": [
    "irisdf = pd.read_csv('./data/visualization/iris.csv',header=0)\n",
    "irisdf.head()\n",
    "irisdf['species'].unique()"
   ]
  },
  {
   "cell_type": "code",
   "execution_count": 22,
   "metadata": {
    "slideshow": {
     "slide_type": "fragment"
    }
   },
   "outputs": [
    {
     "data": {
      "text/plain": [
       "(112, 5)"
      ]
     },
     "execution_count": 22,
     "metadata": {},
     "output_type": "execute_result"
    },
    {
     "data": {
      "text/plain": [
       "(38, 5)"
      ]
     },
     "execution_count": 22,
     "metadata": {},
     "output_type": "execute_result"
    }
   ],
   "source": [
    "irisdftrain, irisdftest = train_test_split(irisdf)\n",
    "irisdftrain.shape\n",
    "irisdftest.shape"
   ]
  },
  {
   "cell_type": "code",
   "execution_count": 30,
   "metadata": {
    "slideshow": {
     "slide_type": "fragment"
    }
   },
   "outputs": [
    {
     "data": {
      "text/plain": [
       "DecisionTreeClassifier(class_weight=None, criterion='gini', max_depth=None,\n",
       "            max_features=None, max_leaf_nodes=None,\n",
       "            min_impurity_decrease=0.0, min_impurity_split=None,\n",
       "            min_samples_leaf=2, min_samples_split=2,\n",
       "            min_weight_fraction_leaf=0.0, presort=False, random_state=None,\n",
       "            splitter='best')"
      ]
     },
     "execution_count": 30,
     "metadata": {},
     "output_type": "execute_result"
    },
    {
     "data": {
      "image/svg+xml": [
       "<?xml version=\"1.0\" encoding=\"UTF-8\" standalone=\"no\"?>\r\n",
       "<!DOCTYPE svg PUBLIC \"-//W3C//DTD SVG 1.1//EN\"\r\n",
       " \"http://www.w3.org/Graphics/SVG/1.1/DTD/svg11.dtd\">\r\n",
       "<!-- Generated by graphviz version 2.38.0 (20140413.2041)\r\n",
       " -->\r\n",
       "<!-- Title: Tree Pages: 1 -->\r\n",
       "<svg width=\"678pt\" height=\"552pt\"\r\n",
       " viewBox=\"0.00 0.00 678.00 552.00\" xmlns=\"http://www.w3.org/2000/svg\" xmlns:xlink=\"http://www.w3.org/1999/xlink\">\r\n",
       "<g id=\"graph0\" class=\"graph\" transform=\"scale(1 1) rotate(0) translate(4 548)\">\r\n",
       "<title>Tree</title>\r\n",
       "<polygon fill=\"white\" stroke=\"none\" points=\"-4,4 -4,-548 674,-548 674,4 -4,4\"/>\r\n",
       "<!-- 0 -->\r\n",
       "<g id=\"node1\" class=\"node\"><title>0</title>\r\n",
       "<polygon fill=\"#39e581\" fill-opacity=\"0.066667\" stroke=\"black\" points=\"403.5,-544 274.5,-544 274.5,-461 403.5,-461 403.5,-544\"/>\r\n",
       "<text text-anchor=\"middle\" x=\"339\" y=\"-528.8\" font-family=\"Times New Roman,serif\" font-size=\"14.00\">petal_width &lt;= 0.75</text>\r\n",
       "<text text-anchor=\"middle\" x=\"339\" y=\"-513.8\" font-family=\"Times New Roman,serif\" font-size=\"14.00\">gini = 0.665</text>\r\n",
       "<text text-anchor=\"middle\" x=\"339\" y=\"-498.8\" font-family=\"Times New Roman,serif\" font-size=\"14.00\">samples = 112</text>\r\n",
       "<text text-anchor=\"middle\" x=\"339\" y=\"-483.8\" font-family=\"Times New Roman,serif\" font-size=\"14.00\">value = [36, 41, 35]</text>\r\n",
       "<text text-anchor=\"middle\" x=\"339\" y=\"-468.8\" font-family=\"Times New Roman,serif\" font-size=\"14.00\">class = versicolor</text>\r\n",
       "</g>\r\n",
       "<!-- 1 -->\r\n",
       "<g id=\"node2\" class=\"node\"><title>1</title>\r\n",
       "<polygon fill=\"#e58139\" stroke=\"black\" points=\"326,-417.5 214,-417.5 214,-349.5 326,-349.5 326,-417.5\"/>\r\n",
       "<text text-anchor=\"middle\" x=\"270\" y=\"-402.3\" font-family=\"Times New Roman,serif\" font-size=\"14.00\">gini = 0.0</text>\r\n",
       "<text text-anchor=\"middle\" x=\"270\" y=\"-387.3\" font-family=\"Times New Roman,serif\" font-size=\"14.00\">samples = 36</text>\r\n",
       "<text text-anchor=\"middle\" x=\"270\" y=\"-372.3\" font-family=\"Times New Roman,serif\" font-size=\"14.00\">value = [36, 0, 0]</text>\r\n",
       "<text text-anchor=\"middle\" x=\"270\" y=\"-357.3\" font-family=\"Times New Roman,serif\" font-size=\"14.00\">class = setosa</text>\r\n",
       "</g>\r\n",
       "<!-- 0&#45;&gt;1 -->\r\n",
       "<g id=\"edge1\" class=\"edge\"><title>0&#45;&gt;1</title>\r\n",
       "<path fill=\"none\" stroke=\"black\" d=\"M315.061,-460.907C308.488,-449.763 301.35,-437.658 294.733,-426.439\"/>\r\n",
       "<polygon fill=\"black\" stroke=\"black\" points=\"297.655,-424.503 289.56,-417.667 291.625,-428.059 297.655,-424.503\"/>\r\n",
       "<text text-anchor=\"middle\" x=\"283.313\" y=\"-438.174\" font-family=\"Times New Roman,serif\" font-size=\"14.00\">True</text>\r\n",
       "</g>\r\n",
       "<!-- 2 -->\r\n",
       "<g id=\"node3\" class=\"node\"><title>2</title>\r\n",
       "<polygon fill=\"#39e581\" fill-opacity=\"0.145098\" stroke=\"black\" points=\"473.5,-425 344.5,-425 344.5,-342 473.5,-342 473.5,-425\"/>\r\n",
       "<text text-anchor=\"middle\" x=\"409\" y=\"-409.8\" font-family=\"Times New Roman,serif\" font-size=\"14.00\">petal_width &lt;= 1.75</text>\r\n",
       "<text text-anchor=\"middle\" x=\"409\" y=\"-394.8\" font-family=\"Times New Roman,serif\" font-size=\"14.00\">gini = 0.497</text>\r\n",
       "<text text-anchor=\"middle\" x=\"409\" y=\"-379.8\" font-family=\"Times New Roman,serif\" font-size=\"14.00\">samples = 76</text>\r\n",
       "<text text-anchor=\"middle\" x=\"409\" y=\"-364.8\" font-family=\"Times New Roman,serif\" font-size=\"14.00\">value = [0, 41, 35]</text>\r\n",
       "<text text-anchor=\"middle\" x=\"409\" y=\"-349.8\" font-family=\"Times New Roman,serif\" font-size=\"14.00\">class = versicolor</text>\r\n",
       "</g>\r\n",
       "<!-- 0&#45;&gt;2 -->\r\n",
       "<g id=\"edge2\" class=\"edge\"><title>0&#45;&gt;2</title>\r\n",
       "<path fill=\"none\" stroke=\"black\" d=\"M363.286,-460.907C368.553,-452.105 374.178,-442.703 379.617,-433.612\"/>\r\n",
       "<polygon fill=\"black\" stroke=\"black\" points=\"382.626,-435.399 384.757,-425.021 376.619,-431.805 382.626,-435.399\"/>\r\n",
       "<text text-anchor=\"middle\" x=\"390.851\" y=\"-445.567\" font-family=\"Times New Roman,serif\" font-size=\"14.00\">False</text>\r\n",
       "</g>\r\n",
       "<!-- 3 -->\r\n",
       "<g id=\"node4\" class=\"node\"><title>3</title>\r\n",
       "<polygon fill=\"#39e581\" fill-opacity=\"0.901961\" stroke=\"black\" points=\"400.5,-306 269.5,-306 269.5,-223 400.5,-223 400.5,-306\"/>\r\n",
       "<text text-anchor=\"middle\" x=\"335\" y=\"-290.8\" font-family=\"Times New Roman,serif\" font-size=\"14.00\">petal_length &lt;= 4.95</text>\r\n",
       "<text text-anchor=\"middle\" x=\"335\" y=\"-275.8\" font-family=\"Times New Roman,serif\" font-size=\"14.00\">gini = 0.165</text>\r\n",
       "<text text-anchor=\"middle\" x=\"335\" y=\"-260.8\" font-family=\"Times New Roman,serif\" font-size=\"14.00\">samples = 44</text>\r\n",
       "<text text-anchor=\"middle\" x=\"335\" y=\"-245.8\" font-family=\"Times New Roman,serif\" font-size=\"14.00\">value = [0, 40, 4]</text>\r\n",
       "<text text-anchor=\"middle\" x=\"335\" y=\"-230.8\" font-family=\"Times New Roman,serif\" font-size=\"14.00\">class = versicolor</text>\r\n",
       "</g>\r\n",
       "<!-- 2&#45;&gt;3 -->\r\n",
       "<g id=\"edge3\" class=\"edge\"><title>2&#45;&gt;3</title>\r\n",
       "<path fill=\"none\" stroke=\"black\" d=\"M383.326,-341.907C377.758,-333.105 371.812,-323.703 366.062,-314.612\"/>\r\n",
       "<polygon fill=\"black\" stroke=\"black\" points=\"368.932,-312.601 360.629,-306.021 363.016,-316.343 368.932,-312.601\"/>\r\n",
       "</g>\r\n",
       "<!-- 10 -->\r\n",
       "<g id=\"node11\" class=\"node\"><title>10</title>\r\n",
       "<polygon fill=\"#8139e5\" fill-opacity=\"0.968627\" stroke=\"black\" points=\"549.5,-306 418.5,-306 418.5,-223 549.5,-223 549.5,-306\"/>\r\n",
       "<text text-anchor=\"middle\" x=\"484\" y=\"-290.8\" font-family=\"Times New Roman,serif\" font-size=\"14.00\">petal_length &lt;= 4.85</text>\r\n",
       "<text text-anchor=\"middle\" x=\"484\" y=\"-275.8\" font-family=\"Times New Roman,serif\" font-size=\"14.00\">gini = 0.061</text>\r\n",
       "<text text-anchor=\"middle\" x=\"484\" y=\"-260.8\" font-family=\"Times New Roman,serif\" font-size=\"14.00\">samples = 32</text>\r\n",
       "<text text-anchor=\"middle\" x=\"484\" y=\"-245.8\" font-family=\"Times New Roman,serif\" font-size=\"14.00\">value = [0, 1, 31]</text>\r\n",
       "<text text-anchor=\"middle\" x=\"484\" y=\"-230.8\" font-family=\"Times New Roman,serif\" font-size=\"14.00\">class = virginica</text>\r\n",
       "</g>\r\n",
       "<!-- 2&#45;&gt;10 -->\r\n",
       "<g id=\"edge10\" class=\"edge\"><title>2&#45;&gt;10</title>\r\n",
       "<path fill=\"none\" stroke=\"black\" d=\"M435.021,-341.907C440.664,-333.105 446.69,-323.703 452.518,-314.612\"/>\r\n",
       "<polygon fill=\"black\" stroke=\"black\" points=\"455.575,-316.328 458.025,-306.021 449.682,-312.551 455.575,-316.328\"/>\r\n",
       "</g>\r\n",
       "<!-- 4 -->\r\n",
       "<g id=\"node5\" class=\"node\"><title>4</title>\r\n",
       "<polygon fill=\"#39e581\" fill-opacity=\"0.972549\" stroke=\"black\" points=\"254,-187 120,-187 120,-104 254,-104 254,-187\"/>\r\n",
       "<text text-anchor=\"middle\" x=\"187\" y=\"-171.8\" font-family=\"Times New Roman,serif\" font-size=\"14.00\">sepal_length &lt;= 4.95</text>\r\n",
       "<text text-anchor=\"middle\" x=\"187\" y=\"-156.8\" font-family=\"Times New Roman,serif\" font-size=\"14.00\">gini = 0.05</text>\r\n",
       "<text text-anchor=\"middle\" x=\"187\" y=\"-141.8\" font-family=\"Times New Roman,serif\" font-size=\"14.00\">samples = 39</text>\r\n",
       "<text text-anchor=\"middle\" x=\"187\" y=\"-126.8\" font-family=\"Times New Roman,serif\" font-size=\"14.00\">value = [0, 38, 1]</text>\r\n",
       "<text text-anchor=\"middle\" x=\"187\" y=\"-111.8\" font-family=\"Times New Roman,serif\" font-size=\"14.00\">class = versicolor</text>\r\n",
       "</g>\r\n",
       "<!-- 3&#45;&gt;4 -->\r\n",
       "<g id=\"edge4\" class=\"edge\"><title>3&#45;&gt;4</title>\r\n",
       "<path fill=\"none\" stroke=\"black\" d=\"M283.652,-222.907C271.599,-213.379 258.658,-203.148 246.288,-193.37\"/>\r\n",
       "<polygon fill=\"black\" stroke=\"black\" points=\"248.272,-190.477 238.257,-187.021 243.931,-195.968 248.272,-190.477\"/>\r\n",
       "</g>\r\n",
       "<!-- 7 -->\r\n",
       "<g id=\"node8\" class=\"node\"><title>7</title>\r\n",
       "<polygon fill=\"#8139e5\" fill-opacity=\"0.333333\" stroke=\"black\" points=\"401.5,-187 272.5,-187 272.5,-104 401.5,-104 401.5,-187\"/>\r\n",
       "<text text-anchor=\"middle\" x=\"337\" y=\"-171.8\" font-family=\"Times New Roman,serif\" font-size=\"14.00\">petal_width &lt;= 1.55</text>\r\n",
       "<text text-anchor=\"middle\" x=\"337\" y=\"-156.8\" font-family=\"Times New Roman,serif\" font-size=\"14.00\">gini = 0.48</text>\r\n",
       "<text text-anchor=\"middle\" x=\"337\" y=\"-141.8\" font-family=\"Times New Roman,serif\" font-size=\"14.00\">samples = 5</text>\r\n",
       "<text text-anchor=\"middle\" x=\"337\" y=\"-126.8\" font-family=\"Times New Roman,serif\" font-size=\"14.00\">value = [0, 2, 3]</text>\r\n",
       "<text text-anchor=\"middle\" x=\"337\" y=\"-111.8\" font-family=\"Times New Roman,serif\" font-size=\"14.00\">class = virginica</text>\r\n",
       "</g>\r\n",
       "<!-- 3&#45;&gt;7 -->\r\n",
       "<g id=\"edge7\" class=\"edge\"><title>3&#45;&gt;7</title>\r\n",
       "<path fill=\"none\" stroke=\"black\" d=\"M335.694,-222.907C335.837,-214.558 335.989,-205.671 336.136,-197.02\"/>\r\n",
       "<polygon fill=\"black\" stroke=\"black\" points=\"339.636,-197.079 336.307,-187.021 332.637,-196.959 339.636,-197.079\"/>\r\n",
       "</g>\r\n",
       "<!-- 5 -->\r\n",
       "<g id=\"node6\" class=\"node\"><title>5</title>\r\n",
       "<polygon fill=\"none\" stroke=\"black\" points=\"116,-68 0,-68 0,-0 116,-0 116,-68\"/>\r\n",
       "<text text-anchor=\"middle\" x=\"58\" y=\"-52.8\" font-family=\"Times New Roman,serif\" font-size=\"14.00\">gini = 0.5</text>\r\n",
       "<text text-anchor=\"middle\" x=\"58\" y=\"-37.8\" font-family=\"Times New Roman,serif\" font-size=\"14.00\">samples = 2</text>\r\n",
       "<text text-anchor=\"middle\" x=\"58\" y=\"-22.8\" font-family=\"Times New Roman,serif\" font-size=\"14.00\">value = [0, 1, 1]</text>\r\n",
       "<text text-anchor=\"middle\" x=\"58\" y=\"-7.8\" font-family=\"Times New Roman,serif\" font-size=\"14.00\">class = versicolor</text>\r\n",
       "</g>\r\n",
       "<!-- 4&#45;&gt;5 -->\r\n",
       "<g id=\"edge5\" class=\"edge\"><title>4&#45;&gt;5</title>\r\n",
       "<path fill=\"none\" stroke=\"black\" d=\"M138.965,-103.726C127.898,-94.3318 116.137,-84.349 105.11,-74.9883\"/>\r\n",
       "<polygon fill=\"black\" stroke=\"black\" points=\"107.118,-72.1026 97.2297,-68.2996 102.588,-77.4393 107.118,-72.1026\"/>\r\n",
       "</g>\r\n",
       "<!-- 6 -->\r\n",
       "<g id=\"node7\" class=\"node\"><title>6</title>\r\n",
       "<polygon fill=\"#39e581\" stroke=\"black\" points=\"250,-68 134,-68 134,-0 250,-0 250,-68\"/>\r\n",
       "<text text-anchor=\"middle\" x=\"192\" y=\"-52.8\" font-family=\"Times New Roman,serif\" font-size=\"14.00\">gini = 0.0</text>\r\n",
       "<text text-anchor=\"middle\" x=\"192\" y=\"-37.8\" font-family=\"Times New Roman,serif\" font-size=\"14.00\">samples = 37</text>\r\n",
       "<text text-anchor=\"middle\" x=\"192\" y=\"-22.8\" font-family=\"Times New Roman,serif\" font-size=\"14.00\">value = [0, 37, 0]</text>\r\n",
       "<text text-anchor=\"middle\" x=\"192\" y=\"-7.8\" font-family=\"Times New Roman,serif\" font-size=\"14.00\">class = versicolor</text>\r\n",
       "</g>\r\n",
       "<!-- 4&#45;&gt;6 -->\r\n",
       "<g id=\"edge6\" class=\"edge\"><title>4&#45;&gt;6</title>\r\n",
       "<path fill=\"none\" stroke=\"black\" d=\"M188.862,-103.726C189.237,-95.5175 189.632,-86.8595 190.011,-78.56\"/>\r\n",
       "<polygon fill=\"black\" stroke=\"black\" points=\"193.52,-78.4489 190.479,-68.2996 186.527,-78.1295 193.52,-78.4489\"/>\r\n",
       "</g>\r\n",
       "<!-- 8 -->\r\n",
       "<g id=\"node9\" class=\"node\"><title>8</title>\r\n",
       "<polygon fill=\"#8139e5\" stroke=\"black\" points=\"380.5,-68 273.5,-68 273.5,-0 380.5,-0 380.5,-68\"/>\r\n",
       "<text text-anchor=\"middle\" x=\"327\" y=\"-52.8\" font-family=\"Times New Roman,serif\" font-size=\"14.00\">gini = 0.0</text>\r\n",
       "<text text-anchor=\"middle\" x=\"327\" y=\"-37.8\" font-family=\"Times New Roman,serif\" font-size=\"14.00\">samples = 3</text>\r\n",
       "<text text-anchor=\"middle\" x=\"327\" y=\"-22.8\" font-family=\"Times New Roman,serif\" font-size=\"14.00\">value = [0, 0, 3]</text>\r\n",
       "<text text-anchor=\"middle\" x=\"327\" y=\"-7.8\" font-family=\"Times New Roman,serif\" font-size=\"14.00\">class = virginica</text>\r\n",
       "</g>\r\n",
       "<!-- 7&#45;&gt;8 -->\r\n",
       "<g id=\"edge8\" class=\"edge\"><title>7&#45;&gt;8</title>\r\n",
       "<path fill=\"none\" stroke=\"black\" d=\"M333.276,-103.726C332.518,-95.4263 331.718,-86.6671 330.953,-78.2834\"/>\r\n",
       "<polygon fill=\"black\" stroke=\"black\" points=\"334.436,-77.9398 330.041,-68.2996 327.465,-78.5765 334.436,-77.9398\"/>\r\n",
       "</g>\r\n",
       "<!-- 9 -->\r\n",
       "<g id=\"node10\" class=\"node\"><title>9</title>\r\n",
       "<polygon fill=\"#39e581\" stroke=\"black\" points=\"515,-68 399,-68 399,-0 515,-0 515,-68\"/>\r\n",
       "<text text-anchor=\"middle\" x=\"457\" y=\"-52.8\" font-family=\"Times New Roman,serif\" font-size=\"14.00\">gini = 0.0</text>\r\n",
       "<text text-anchor=\"middle\" x=\"457\" y=\"-37.8\" font-family=\"Times New Roman,serif\" font-size=\"14.00\">samples = 2</text>\r\n",
       "<text text-anchor=\"middle\" x=\"457\" y=\"-22.8\" font-family=\"Times New Roman,serif\" font-size=\"14.00\">value = [0, 2, 0]</text>\r\n",
       "<text text-anchor=\"middle\" x=\"457\" y=\"-7.8\" font-family=\"Times New Roman,serif\" font-size=\"14.00\">class = versicolor</text>\r\n",
       "</g>\r\n",
       "<!-- 7&#45;&gt;9 -->\r\n",
       "<g id=\"edge9\" class=\"edge\"><title>7&#45;&gt;9</title>\r\n",
       "<path fill=\"none\" stroke=\"black\" d=\"M381.684,-103.726C391.879,-94.423 402.707,-84.5428 412.878,-75.2612\"/>\r\n",
       "<polygon fill=\"black\" stroke=\"black\" points=\"415.48,-77.6255 420.507,-68.2996 410.761,-72.4547 415.48,-77.6255\"/>\r\n",
       "</g>\r\n",
       "<!-- 11 -->\r\n",
       "<g id=\"node12\" class=\"node\"><title>11</title>\r\n",
       "<polygon fill=\"none\" stroke=\"black\" points=\"540,-179.5 424,-179.5 424,-111.5 540,-111.5 540,-179.5\"/>\r\n",
       "<text text-anchor=\"middle\" x=\"482\" y=\"-164.3\" font-family=\"Times New Roman,serif\" font-size=\"14.00\">gini = 0.5</text>\r\n",
       "<text text-anchor=\"middle\" x=\"482\" y=\"-149.3\" font-family=\"Times New Roman,serif\" font-size=\"14.00\">samples = 2</text>\r\n",
       "<text text-anchor=\"middle\" x=\"482\" y=\"-134.3\" font-family=\"Times New Roman,serif\" font-size=\"14.00\">value = [0, 1, 1]</text>\r\n",
       "<text text-anchor=\"middle\" x=\"482\" y=\"-119.3\" font-family=\"Times New Roman,serif\" font-size=\"14.00\">class = versicolor</text>\r\n",
       "</g>\r\n",
       "<!-- 10&#45;&gt;11 -->\r\n",
       "<g id=\"edge11\" class=\"edge\"><title>10&#45;&gt;11</title>\r\n",
       "<path fill=\"none\" stroke=\"black\" d=\"M483.306,-222.907C483.123,-212.204 482.925,-200.615 482.74,-189.776\"/>\r\n",
       "<polygon fill=\"black\" stroke=\"black\" points=\"486.237,-189.606 482.567,-179.667 479.238,-189.725 486.237,-189.606\"/>\r\n",
       "</g>\r\n",
       "<!-- 12 -->\r\n",
       "<g id=\"node13\" class=\"node\"><title>12</title>\r\n",
       "<polygon fill=\"#8139e5\" stroke=\"black\" points=\"670,-179.5 558,-179.5 558,-111.5 670,-111.5 670,-179.5\"/>\r\n",
       "<text text-anchor=\"middle\" x=\"614\" y=\"-164.3\" font-family=\"Times New Roman,serif\" font-size=\"14.00\">gini = 0.0</text>\r\n",
       "<text text-anchor=\"middle\" x=\"614\" y=\"-149.3\" font-family=\"Times New Roman,serif\" font-size=\"14.00\">samples = 30</text>\r\n",
       "<text text-anchor=\"middle\" x=\"614\" y=\"-134.3\" font-family=\"Times New Roman,serif\" font-size=\"14.00\">value = [0, 0, 30]</text>\r\n",
       "<text text-anchor=\"middle\" x=\"614\" y=\"-119.3\" font-family=\"Times New Roman,serif\" font-size=\"14.00\">class = virginica</text>\r\n",
       "</g>\r\n",
       "<!-- 10&#45;&gt;12 -->\r\n",
       "<g id=\"edge12\" class=\"edge\"><title>10&#45;&gt;12</title>\r\n",
       "<path fill=\"none\" stroke=\"black\" d=\"M529.103,-222.907C542.222,-211.101 556.537,-198.217 569.612,-186.45\"/>\r\n",
       "<polygon fill=\"black\" stroke=\"black\" points=\"572.056,-188.958 577.148,-179.667 567.373,-183.755 572.056,-188.958\"/>\r\n",
       "</g>\r\n",
       "</g>\r\n",
       "</svg>\r\n"
      ],
      "text/plain": [
       "<graphviz.files.Source at 0x1008c278>"
      ]
     },
     "execution_count": 30,
     "metadata": {},
     "output_type": "execute_result"
    }
   ],
   "source": [
    "import sklearn\n",
    "clsIris = DecisionTreeClassifier(min_samples_leaf=2)\n",
    "resIris = clsIris.fit(irisdftrain.iloc[:,:-1], irisdftrain.iloc[:,-1])\n",
    "resIris\n",
    "dotDataIris = sklearn.tree.export_graphviz(resIris, out_file=None, \n",
    "                               feature_names=irisdftrain.columns[:-1], \n",
    "                                   class_names=irisdf['species'].unique(), filled=True)\n",
    "graphIris = Source(dotDataIris)\n",
    "graphIris"
   ]
  },
  {
   "cell_type": "code",
   "execution_count": 33,
   "metadata": {
    "slideshow": {
     "slide_type": "skip"
    }
   },
   "outputs": [],
   "source": [
    "def highlightCell(s):\n",
    "    diff = s['species'] == s['预测']\n",
    "    return ['background-color: red' if diff is False else '']*6"
   ]
  },
  {
   "cell_type": "code",
   "execution_count": 72,
   "metadata": {
    "slideshow": {
     "slide_type": "subslide"
    }
   },
   "outputs": [
    {
     "data": {
      "text/plain": [
       "array(['versicolor', 'setosa', 'virginica', 'versicolor', 'virginica',\n",
       "       'versicolor', 'setosa', 'versicolor', 'setosa', 'setosa', 'setosa',\n",
       "       'setosa', 'virginica', 'setosa', 'versicolor', 'virginica',\n",
       "       'virginica', 'setosa', 'versicolor', 'versicolor', 'setosa',\n",
       "       'setosa', 'virginica', 'virginica', 'setosa', 'versicolor',\n",
       "       'versicolor', 'virginica', 'virginica', 'virginica', 'setosa',\n",
       "       'setosa', 'versicolor', 'virginica', 'versicolor', 'virginica',\n",
       "       'virginica', 'setosa'], dtype=object)"
      ]
     },
     "execution_count": 72,
     "metadata": {},
     "output_type": "execute_result"
    },
    {
     "data": {
      "text/html": [
       "<style  type=\"text/css\" >\n",
       "    #T_f65f2494_619f_11e9_940a_4437e600cba8row0_col0 {\n",
       "            background-color:  red;\n",
       "        }    #T_f65f2494_619f_11e9_940a_4437e600cba8row0_col1 {\n",
       "            background-color:  red;\n",
       "        }    #T_f65f2494_619f_11e9_940a_4437e600cba8row0_col2 {\n",
       "            background-color:  red;\n",
       "        }    #T_f65f2494_619f_11e9_940a_4437e600cba8row0_col3 {\n",
       "            background-color:  red;\n",
       "        }    #T_f65f2494_619f_11e9_940a_4437e600cba8row0_col4 {\n",
       "            background-color:  red;\n",
       "        }    #T_f65f2494_619f_11e9_940a_4437e600cba8row0_col5 {\n",
       "            background-color:  red;\n",
       "        }    #T_f65f2494_619f_11e9_940a_4437e600cba8row32_col0 {\n",
       "            background-color:  red;\n",
       "        }    #T_f65f2494_619f_11e9_940a_4437e600cba8row32_col1 {\n",
       "            background-color:  red;\n",
       "        }    #T_f65f2494_619f_11e9_940a_4437e600cba8row32_col2 {\n",
       "            background-color:  red;\n",
       "        }    #T_f65f2494_619f_11e9_940a_4437e600cba8row32_col3 {\n",
       "            background-color:  red;\n",
       "        }    #T_f65f2494_619f_11e9_940a_4437e600cba8row32_col4 {\n",
       "            background-color:  red;\n",
       "        }    #T_f65f2494_619f_11e9_940a_4437e600cba8row32_col5 {\n",
       "            background-color:  red;\n",
       "        }</style><table id=\"T_f65f2494_619f_11e9_940a_4437e600cba8\" ><thead>    <tr>        <th class=\"blank level0\" ></th>        <th class=\"col_heading level0 col0\" >sepal_length</th>        <th class=\"col_heading level0 col1\" >sepal_width</th>        <th class=\"col_heading level0 col2\" >petal_length</th>        <th class=\"col_heading level0 col3\" >petal_width</th>        <th class=\"col_heading level0 col4\" >species</th>        <th class=\"col_heading level0 col5\" >预测</th>    </tr></thead><tbody>\n",
       "                <tr>\n",
       "                        <th id=\"T_f65f2494_619f_11e9_940a_4437e600cba8level0_row0\" class=\"row_heading level0 row0\" >129</th>\n",
       "                        <td id=\"T_f65f2494_619f_11e9_940a_4437e600cba8row0_col0\" class=\"data row0 col0\" >7.2</td>\n",
       "                        <td id=\"T_f65f2494_619f_11e9_940a_4437e600cba8row0_col1\" class=\"data row0 col1\" >3</td>\n",
       "                        <td id=\"T_f65f2494_619f_11e9_940a_4437e600cba8row0_col2\" class=\"data row0 col2\" >5.8</td>\n",
       "                        <td id=\"T_f65f2494_619f_11e9_940a_4437e600cba8row0_col3\" class=\"data row0 col3\" >1.6</td>\n",
       "                        <td id=\"T_f65f2494_619f_11e9_940a_4437e600cba8row0_col4\" class=\"data row0 col4\" >virginica</td>\n",
       "                        <td id=\"T_f65f2494_619f_11e9_940a_4437e600cba8row0_col5\" class=\"data row0 col5\" >versicolor</td>\n",
       "            </tr>\n",
       "            <tr>\n",
       "                        <th id=\"T_f65f2494_619f_11e9_940a_4437e600cba8level0_row1\" class=\"row_heading level0 row1\" >43</th>\n",
       "                        <td id=\"T_f65f2494_619f_11e9_940a_4437e600cba8row1_col0\" class=\"data row1 col0\" >5</td>\n",
       "                        <td id=\"T_f65f2494_619f_11e9_940a_4437e600cba8row1_col1\" class=\"data row1 col1\" >3.5</td>\n",
       "                        <td id=\"T_f65f2494_619f_11e9_940a_4437e600cba8row1_col2\" class=\"data row1 col2\" >1.6</td>\n",
       "                        <td id=\"T_f65f2494_619f_11e9_940a_4437e600cba8row1_col3\" class=\"data row1 col3\" >0.6</td>\n",
       "                        <td id=\"T_f65f2494_619f_11e9_940a_4437e600cba8row1_col4\" class=\"data row1 col4\" >setosa</td>\n",
       "                        <td id=\"T_f65f2494_619f_11e9_940a_4437e600cba8row1_col5\" class=\"data row1 col5\" >setosa</td>\n",
       "            </tr>\n",
       "            <tr>\n",
       "                        <th id=\"T_f65f2494_619f_11e9_940a_4437e600cba8level0_row2\" class=\"row_heading level0 row2\" >131</th>\n",
       "                        <td id=\"T_f65f2494_619f_11e9_940a_4437e600cba8row2_col0\" class=\"data row2 col0\" >7.9</td>\n",
       "                        <td id=\"T_f65f2494_619f_11e9_940a_4437e600cba8row2_col1\" class=\"data row2 col1\" >3.8</td>\n",
       "                        <td id=\"T_f65f2494_619f_11e9_940a_4437e600cba8row2_col2\" class=\"data row2 col2\" >6.4</td>\n",
       "                        <td id=\"T_f65f2494_619f_11e9_940a_4437e600cba8row2_col3\" class=\"data row2 col3\" >2</td>\n",
       "                        <td id=\"T_f65f2494_619f_11e9_940a_4437e600cba8row2_col4\" class=\"data row2 col4\" >virginica</td>\n",
       "                        <td id=\"T_f65f2494_619f_11e9_940a_4437e600cba8row2_col5\" class=\"data row2 col5\" >virginica</td>\n",
       "            </tr>\n",
       "            <tr>\n",
       "                        <th id=\"T_f65f2494_619f_11e9_940a_4437e600cba8level0_row3\" class=\"row_heading level0 row3\" >54</th>\n",
       "                        <td id=\"T_f65f2494_619f_11e9_940a_4437e600cba8row3_col0\" class=\"data row3 col0\" >6.5</td>\n",
       "                        <td id=\"T_f65f2494_619f_11e9_940a_4437e600cba8row3_col1\" class=\"data row3 col1\" >2.8</td>\n",
       "                        <td id=\"T_f65f2494_619f_11e9_940a_4437e600cba8row3_col2\" class=\"data row3 col2\" >4.6</td>\n",
       "                        <td id=\"T_f65f2494_619f_11e9_940a_4437e600cba8row3_col3\" class=\"data row3 col3\" >1.5</td>\n",
       "                        <td id=\"T_f65f2494_619f_11e9_940a_4437e600cba8row3_col4\" class=\"data row3 col4\" >versicolor</td>\n",
       "                        <td id=\"T_f65f2494_619f_11e9_940a_4437e600cba8row3_col5\" class=\"data row3 col5\" >versicolor</td>\n",
       "            </tr>\n",
       "            <tr>\n",
       "                        <th id=\"T_f65f2494_619f_11e9_940a_4437e600cba8level0_row4\" class=\"row_heading level0 row4\" >132</th>\n",
       "                        <td id=\"T_f65f2494_619f_11e9_940a_4437e600cba8row4_col0\" class=\"data row4 col0\" >6.4</td>\n",
       "                        <td id=\"T_f65f2494_619f_11e9_940a_4437e600cba8row4_col1\" class=\"data row4 col1\" >2.8</td>\n",
       "                        <td id=\"T_f65f2494_619f_11e9_940a_4437e600cba8row4_col2\" class=\"data row4 col2\" >5.6</td>\n",
       "                        <td id=\"T_f65f2494_619f_11e9_940a_4437e600cba8row4_col3\" class=\"data row4 col3\" >2.2</td>\n",
       "                        <td id=\"T_f65f2494_619f_11e9_940a_4437e600cba8row4_col4\" class=\"data row4 col4\" >virginica</td>\n",
       "                        <td id=\"T_f65f2494_619f_11e9_940a_4437e600cba8row4_col5\" class=\"data row4 col5\" >virginica</td>\n",
       "            </tr>\n",
       "            <tr>\n",
       "                        <th id=\"T_f65f2494_619f_11e9_940a_4437e600cba8level0_row5\" class=\"row_heading level0 row5\" >79</th>\n",
       "                        <td id=\"T_f65f2494_619f_11e9_940a_4437e600cba8row5_col0\" class=\"data row5 col0\" >5.7</td>\n",
       "                        <td id=\"T_f65f2494_619f_11e9_940a_4437e600cba8row5_col1\" class=\"data row5 col1\" >2.6</td>\n",
       "                        <td id=\"T_f65f2494_619f_11e9_940a_4437e600cba8row5_col2\" class=\"data row5 col2\" >3.5</td>\n",
       "                        <td id=\"T_f65f2494_619f_11e9_940a_4437e600cba8row5_col3\" class=\"data row5 col3\" >1</td>\n",
       "                        <td id=\"T_f65f2494_619f_11e9_940a_4437e600cba8row5_col4\" class=\"data row5 col4\" >versicolor</td>\n",
       "                        <td id=\"T_f65f2494_619f_11e9_940a_4437e600cba8row5_col5\" class=\"data row5 col5\" >versicolor</td>\n",
       "            </tr>\n",
       "            <tr>\n",
       "                        <th id=\"T_f65f2494_619f_11e9_940a_4437e600cba8level0_row6\" class=\"row_heading level0 row6\" >36</th>\n",
       "                        <td id=\"T_f65f2494_619f_11e9_940a_4437e600cba8row6_col0\" class=\"data row6 col0\" >5.5</td>\n",
       "                        <td id=\"T_f65f2494_619f_11e9_940a_4437e600cba8row6_col1\" class=\"data row6 col1\" >3.5</td>\n",
       "                        <td id=\"T_f65f2494_619f_11e9_940a_4437e600cba8row6_col2\" class=\"data row6 col2\" >1.3</td>\n",
       "                        <td id=\"T_f65f2494_619f_11e9_940a_4437e600cba8row6_col3\" class=\"data row6 col3\" >0.2</td>\n",
       "                        <td id=\"T_f65f2494_619f_11e9_940a_4437e600cba8row6_col4\" class=\"data row6 col4\" >setosa</td>\n",
       "                        <td id=\"T_f65f2494_619f_11e9_940a_4437e600cba8row6_col5\" class=\"data row6 col5\" >setosa</td>\n",
       "            </tr>\n",
       "            <tr>\n",
       "                        <th id=\"T_f65f2494_619f_11e9_940a_4437e600cba8level0_row7\" class=\"row_heading level0 row7\" >95</th>\n",
       "                        <td id=\"T_f65f2494_619f_11e9_940a_4437e600cba8row7_col0\" class=\"data row7 col0\" >5.7</td>\n",
       "                        <td id=\"T_f65f2494_619f_11e9_940a_4437e600cba8row7_col1\" class=\"data row7 col1\" >3</td>\n",
       "                        <td id=\"T_f65f2494_619f_11e9_940a_4437e600cba8row7_col2\" class=\"data row7 col2\" >4.2</td>\n",
       "                        <td id=\"T_f65f2494_619f_11e9_940a_4437e600cba8row7_col3\" class=\"data row7 col3\" >1.2</td>\n",
       "                        <td id=\"T_f65f2494_619f_11e9_940a_4437e600cba8row7_col4\" class=\"data row7 col4\" >versicolor</td>\n",
       "                        <td id=\"T_f65f2494_619f_11e9_940a_4437e600cba8row7_col5\" class=\"data row7 col5\" >versicolor</td>\n",
       "            </tr>\n",
       "            <tr>\n",
       "                        <th id=\"T_f65f2494_619f_11e9_940a_4437e600cba8level0_row8\" class=\"row_heading level0 row8\" >47</th>\n",
       "                        <td id=\"T_f65f2494_619f_11e9_940a_4437e600cba8row8_col0\" class=\"data row8 col0\" >4.6</td>\n",
       "                        <td id=\"T_f65f2494_619f_11e9_940a_4437e600cba8row8_col1\" class=\"data row8 col1\" >3.2</td>\n",
       "                        <td id=\"T_f65f2494_619f_11e9_940a_4437e600cba8row8_col2\" class=\"data row8 col2\" >1.4</td>\n",
       "                        <td id=\"T_f65f2494_619f_11e9_940a_4437e600cba8row8_col3\" class=\"data row8 col3\" >0.2</td>\n",
       "                        <td id=\"T_f65f2494_619f_11e9_940a_4437e600cba8row8_col4\" class=\"data row8 col4\" >setosa</td>\n",
       "                        <td id=\"T_f65f2494_619f_11e9_940a_4437e600cba8row8_col5\" class=\"data row8 col5\" >setosa</td>\n",
       "            </tr>\n",
       "            <tr>\n",
       "                        <th id=\"T_f65f2494_619f_11e9_940a_4437e600cba8level0_row9\" class=\"row_heading level0 row9\" >28</th>\n",
       "                        <td id=\"T_f65f2494_619f_11e9_940a_4437e600cba8row9_col0\" class=\"data row9 col0\" >5.2</td>\n",
       "                        <td id=\"T_f65f2494_619f_11e9_940a_4437e600cba8row9_col1\" class=\"data row9 col1\" >3.4</td>\n",
       "                        <td id=\"T_f65f2494_619f_11e9_940a_4437e600cba8row9_col2\" class=\"data row9 col2\" >1.4</td>\n",
       "                        <td id=\"T_f65f2494_619f_11e9_940a_4437e600cba8row9_col3\" class=\"data row9 col3\" >0.2</td>\n",
       "                        <td id=\"T_f65f2494_619f_11e9_940a_4437e600cba8row9_col4\" class=\"data row9 col4\" >setosa</td>\n",
       "                        <td id=\"T_f65f2494_619f_11e9_940a_4437e600cba8row9_col5\" class=\"data row9 col5\" >setosa</td>\n",
       "            </tr>\n",
       "            <tr>\n",
       "                        <th id=\"T_f65f2494_619f_11e9_940a_4437e600cba8level0_row10\" class=\"row_heading level0 row10\" >27</th>\n",
       "                        <td id=\"T_f65f2494_619f_11e9_940a_4437e600cba8row10_col0\" class=\"data row10 col0\" >5.2</td>\n",
       "                        <td id=\"T_f65f2494_619f_11e9_940a_4437e600cba8row10_col1\" class=\"data row10 col1\" >3.5</td>\n",
       "                        <td id=\"T_f65f2494_619f_11e9_940a_4437e600cba8row10_col2\" class=\"data row10 col2\" >1.5</td>\n",
       "                        <td id=\"T_f65f2494_619f_11e9_940a_4437e600cba8row10_col3\" class=\"data row10 col3\" >0.2</td>\n",
       "                        <td id=\"T_f65f2494_619f_11e9_940a_4437e600cba8row10_col4\" class=\"data row10 col4\" >setosa</td>\n",
       "                        <td id=\"T_f65f2494_619f_11e9_940a_4437e600cba8row10_col5\" class=\"data row10 col5\" >setosa</td>\n",
       "            </tr>\n",
       "            <tr>\n",
       "                        <th id=\"T_f65f2494_619f_11e9_940a_4437e600cba8level0_row11\" class=\"row_heading level0 row11\" >1</th>\n",
       "                        <td id=\"T_f65f2494_619f_11e9_940a_4437e600cba8row11_col0\" class=\"data row11 col0\" >4.9</td>\n",
       "                        <td id=\"T_f65f2494_619f_11e9_940a_4437e600cba8row11_col1\" class=\"data row11 col1\" >3</td>\n",
       "                        <td id=\"T_f65f2494_619f_11e9_940a_4437e600cba8row11_col2\" class=\"data row11 col2\" >1.4</td>\n",
       "                        <td id=\"T_f65f2494_619f_11e9_940a_4437e600cba8row11_col3\" class=\"data row11 col3\" >0.2</td>\n",
       "                        <td id=\"T_f65f2494_619f_11e9_940a_4437e600cba8row11_col4\" class=\"data row11 col4\" >setosa</td>\n",
       "                        <td id=\"T_f65f2494_619f_11e9_940a_4437e600cba8row11_col5\" class=\"data row11 col5\" >setosa</td>\n",
       "            </tr>\n",
       "            <tr>\n",
       "                        <th id=\"T_f65f2494_619f_11e9_940a_4437e600cba8level0_row12\" class=\"row_heading level0 row12\" >140</th>\n",
       "                        <td id=\"T_f65f2494_619f_11e9_940a_4437e600cba8row12_col0\" class=\"data row12 col0\" >6.7</td>\n",
       "                        <td id=\"T_f65f2494_619f_11e9_940a_4437e600cba8row12_col1\" class=\"data row12 col1\" >3.1</td>\n",
       "                        <td id=\"T_f65f2494_619f_11e9_940a_4437e600cba8row12_col2\" class=\"data row12 col2\" >5.6</td>\n",
       "                        <td id=\"T_f65f2494_619f_11e9_940a_4437e600cba8row12_col3\" class=\"data row12 col3\" >2.4</td>\n",
       "                        <td id=\"T_f65f2494_619f_11e9_940a_4437e600cba8row12_col4\" class=\"data row12 col4\" >virginica</td>\n",
       "                        <td id=\"T_f65f2494_619f_11e9_940a_4437e600cba8row12_col5\" class=\"data row12 col5\" >virginica</td>\n",
       "            </tr>\n",
       "            <tr>\n",
       "                        <th id=\"T_f65f2494_619f_11e9_940a_4437e600cba8level0_row13\" class=\"row_heading level0 row13\" >11</th>\n",
       "                        <td id=\"T_f65f2494_619f_11e9_940a_4437e600cba8row13_col0\" class=\"data row13 col0\" >4.8</td>\n",
       "                        <td id=\"T_f65f2494_619f_11e9_940a_4437e600cba8row13_col1\" class=\"data row13 col1\" >3.4</td>\n",
       "                        <td id=\"T_f65f2494_619f_11e9_940a_4437e600cba8row13_col2\" class=\"data row13 col2\" >1.6</td>\n",
       "                        <td id=\"T_f65f2494_619f_11e9_940a_4437e600cba8row13_col3\" class=\"data row13 col3\" >0.2</td>\n",
       "                        <td id=\"T_f65f2494_619f_11e9_940a_4437e600cba8row13_col4\" class=\"data row13 col4\" >setosa</td>\n",
       "                        <td id=\"T_f65f2494_619f_11e9_940a_4437e600cba8row13_col5\" class=\"data row13 col5\" >setosa</td>\n",
       "            </tr>\n",
       "            <tr>\n",
       "                        <th id=\"T_f65f2494_619f_11e9_940a_4437e600cba8level0_row14\" class=\"row_heading level0 row14\" >84</th>\n",
       "                        <td id=\"T_f65f2494_619f_11e9_940a_4437e600cba8row14_col0\" class=\"data row14 col0\" >5.4</td>\n",
       "                        <td id=\"T_f65f2494_619f_11e9_940a_4437e600cba8row14_col1\" class=\"data row14 col1\" >3</td>\n",
       "                        <td id=\"T_f65f2494_619f_11e9_940a_4437e600cba8row14_col2\" class=\"data row14 col2\" >4.5</td>\n",
       "                        <td id=\"T_f65f2494_619f_11e9_940a_4437e600cba8row14_col3\" class=\"data row14 col3\" >1.5</td>\n",
       "                        <td id=\"T_f65f2494_619f_11e9_940a_4437e600cba8row14_col4\" class=\"data row14 col4\" >versicolor</td>\n",
       "                        <td id=\"T_f65f2494_619f_11e9_940a_4437e600cba8row14_col5\" class=\"data row14 col5\" >versicolor</td>\n",
       "            </tr>\n",
       "            <tr>\n",
       "                        <th id=\"T_f65f2494_619f_11e9_940a_4437e600cba8level0_row15\" class=\"row_heading level0 row15\" >117</th>\n",
       "                        <td id=\"T_f65f2494_619f_11e9_940a_4437e600cba8row15_col0\" class=\"data row15 col0\" >7.7</td>\n",
       "                        <td id=\"T_f65f2494_619f_11e9_940a_4437e600cba8row15_col1\" class=\"data row15 col1\" >3.8</td>\n",
       "                        <td id=\"T_f65f2494_619f_11e9_940a_4437e600cba8row15_col2\" class=\"data row15 col2\" >6.7</td>\n",
       "                        <td id=\"T_f65f2494_619f_11e9_940a_4437e600cba8row15_col3\" class=\"data row15 col3\" >2.2</td>\n",
       "                        <td id=\"T_f65f2494_619f_11e9_940a_4437e600cba8row15_col4\" class=\"data row15 col4\" >virginica</td>\n",
       "                        <td id=\"T_f65f2494_619f_11e9_940a_4437e600cba8row15_col5\" class=\"data row15 col5\" >virginica</td>\n",
       "            </tr>\n",
       "            <tr>\n",
       "                        <th id=\"T_f65f2494_619f_11e9_940a_4437e600cba8level0_row16\" class=\"row_heading level0 row16\" >100</th>\n",
       "                        <td id=\"T_f65f2494_619f_11e9_940a_4437e600cba8row16_col0\" class=\"data row16 col0\" >6.3</td>\n",
       "                        <td id=\"T_f65f2494_619f_11e9_940a_4437e600cba8row16_col1\" class=\"data row16 col1\" >3.3</td>\n",
       "                        <td id=\"T_f65f2494_619f_11e9_940a_4437e600cba8row16_col2\" class=\"data row16 col2\" >6</td>\n",
       "                        <td id=\"T_f65f2494_619f_11e9_940a_4437e600cba8row16_col3\" class=\"data row16 col3\" >2.5</td>\n",
       "                        <td id=\"T_f65f2494_619f_11e9_940a_4437e600cba8row16_col4\" class=\"data row16 col4\" >virginica</td>\n",
       "                        <td id=\"T_f65f2494_619f_11e9_940a_4437e600cba8row16_col5\" class=\"data row16 col5\" >virginica</td>\n",
       "            </tr>\n",
       "            <tr>\n",
       "                        <th id=\"T_f65f2494_619f_11e9_940a_4437e600cba8level0_row17\" class=\"row_heading level0 row17\" >26</th>\n",
       "                        <td id=\"T_f65f2494_619f_11e9_940a_4437e600cba8row17_col0\" class=\"data row17 col0\" >5</td>\n",
       "                        <td id=\"T_f65f2494_619f_11e9_940a_4437e600cba8row17_col1\" class=\"data row17 col1\" >3.4</td>\n",
       "                        <td id=\"T_f65f2494_619f_11e9_940a_4437e600cba8row17_col2\" class=\"data row17 col2\" >1.6</td>\n",
       "                        <td id=\"T_f65f2494_619f_11e9_940a_4437e600cba8row17_col3\" class=\"data row17 col3\" >0.4</td>\n",
       "                        <td id=\"T_f65f2494_619f_11e9_940a_4437e600cba8row17_col4\" class=\"data row17 col4\" >setosa</td>\n",
       "                        <td id=\"T_f65f2494_619f_11e9_940a_4437e600cba8row17_col5\" class=\"data row17 col5\" >setosa</td>\n",
       "            </tr>\n",
       "            <tr>\n",
       "                        <th id=\"T_f65f2494_619f_11e9_940a_4437e600cba8level0_row18\" class=\"row_heading level0 row18\" >78</th>\n",
       "                        <td id=\"T_f65f2494_619f_11e9_940a_4437e600cba8row18_col0\" class=\"data row18 col0\" >6</td>\n",
       "                        <td id=\"T_f65f2494_619f_11e9_940a_4437e600cba8row18_col1\" class=\"data row18 col1\" >2.9</td>\n",
       "                        <td id=\"T_f65f2494_619f_11e9_940a_4437e600cba8row18_col2\" class=\"data row18 col2\" >4.5</td>\n",
       "                        <td id=\"T_f65f2494_619f_11e9_940a_4437e600cba8row18_col3\" class=\"data row18 col3\" >1.5</td>\n",
       "                        <td id=\"T_f65f2494_619f_11e9_940a_4437e600cba8row18_col4\" class=\"data row18 col4\" >versicolor</td>\n",
       "                        <td id=\"T_f65f2494_619f_11e9_940a_4437e600cba8row18_col5\" class=\"data row18 col5\" >versicolor</td>\n",
       "            </tr>\n",
       "            <tr>\n",
       "                        <th id=\"T_f65f2494_619f_11e9_940a_4437e600cba8level0_row19\" class=\"row_heading level0 row19\" >75</th>\n",
       "                        <td id=\"T_f65f2494_619f_11e9_940a_4437e600cba8row19_col0\" class=\"data row19 col0\" >6.6</td>\n",
       "                        <td id=\"T_f65f2494_619f_11e9_940a_4437e600cba8row19_col1\" class=\"data row19 col1\" >3</td>\n",
       "                        <td id=\"T_f65f2494_619f_11e9_940a_4437e600cba8row19_col2\" class=\"data row19 col2\" >4.4</td>\n",
       "                        <td id=\"T_f65f2494_619f_11e9_940a_4437e600cba8row19_col3\" class=\"data row19 col3\" >1.4</td>\n",
       "                        <td id=\"T_f65f2494_619f_11e9_940a_4437e600cba8row19_col4\" class=\"data row19 col4\" >versicolor</td>\n",
       "                        <td id=\"T_f65f2494_619f_11e9_940a_4437e600cba8row19_col5\" class=\"data row19 col5\" >versicolor</td>\n",
       "            </tr>\n",
       "            <tr>\n",
       "                        <th id=\"T_f65f2494_619f_11e9_940a_4437e600cba8level0_row20\" class=\"row_heading level0 row20\" >48</th>\n",
       "                        <td id=\"T_f65f2494_619f_11e9_940a_4437e600cba8row20_col0\" class=\"data row20 col0\" >5.3</td>\n",
       "                        <td id=\"T_f65f2494_619f_11e9_940a_4437e600cba8row20_col1\" class=\"data row20 col1\" >3.7</td>\n",
       "                        <td id=\"T_f65f2494_619f_11e9_940a_4437e600cba8row20_col2\" class=\"data row20 col2\" >1.5</td>\n",
       "                        <td id=\"T_f65f2494_619f_11e9_940a_4437e600cba8row20_col3\" class=\"data row20 col3\" >0.2</td>\n",
       "                        <td id=\"T_f65f2494_619f_11e9_940a_4437e600cba8row20_col4\" class=\"data row20 col4\" >setosa</td>\n",
       "                        <td id=\"T_f65f2494_619f_11e9_940a_4437e600cba8row20_col5\" class=\"data row20 col5\" >setosa</td>\n",
       "            </tr>\n",
       "            <tr>\n",
       "                        <th id=\"T_f65f2494_619f_11e9_940a_4437e600cba8level0_row21\" class=\"row_heading level0 row21\" >3</th>\n",
       "                        <td id=\"T_f65f2494_619f_11e9_940a_4437e600cba8row21_col0\" class=\"data row21 col0\" >4.6</td>\n",
       "                        <td id=\"T_f65f2494_619f_11e9_940a_4437e600cba8row21_col1\" class=\"data row21 col1\" >3.1</td>\n",
       "                        <td id=\"T_f65f2494_619f_11e9_940a_4437e600cba8row21_col2\" class=\"data row21 col2\" >1.5</td>\n",
       "                        <td id=\"T_f65f2494_619f_11e9_940a_4437e600cba8row21_col3\" class=\"data row21 col3\" >0.2</td>\n",
       "                        <td id=\"T_f65f2494_619f_11e9_940a_4437e600cba8row21_col4\" class=\"data row21 col4\" >setosa</td>\n",
       "                        <td id=\"T_f65f2494_619f_11e9_940a_4437e600cba8row21_col5\" class=\"data row21 col5\" >setosa</td>\n",
       "            </tr>\n",
       "            <tr>\n",
       "                        <th id=\"T_f65f2494_619f_11e9_940a_4437e600cba8level0_row22\" class=\"row_heading level0 row22\" >108</th>\n",
       "                        <td id=\"T_f65f2494_619f_11e9_940a_4437e600cba8row22_col0\" class=\"data row22 col0\" >6.7</td>\n",
       "                        <td id=\"T_f65f2494_619f_11e9_940a_4437e600cba8row22_col1\" class=\"data row22 col1\" >2.5</td>\n",
       "                        <td id=\"T_f65f2494_619f_11e9_940a_4437e600cba8row22_col2\" class=\"data row22 col2\" >5.8</td>\n",
       "                        <td id=\"T_f65f2494_619f_11e9_940a_4437e600cba8row22_col3\" class=\"data row22 col3\" >1.8</td>\n",
       "                        <td id=\"T_f65f2494_619f_11e9_940a_4437e600cba8row22_col4\" class=\"data row22 col4\" >virginica</td>\n",
       "                        <td id=\"T_f65f2494_619f_11e9_940a_4437e600cba8row22_col5\" class=\"data row22 col5\" >virginica</td>\n",
       "            </tr>\n",
       "            <tr>\n",
       "                        <th id=\"T_f65f2494_619f_11e9_940a_4437e600cba8level0_row23\" class=\"row_heading level0 row23\" >144</th>\n",
       "                        <td id=\"T_f65f2494_619f_11e9_940a_4437e600cba8row23_col0\" class=\"data row23 col0\" >6.7</td>\n",
       "                        <td id=\"T_f65f2494_619f_11e9_940a_4437e600cba8row23_col1\" class=\"data row23 col1\" >3.3</td>\n",
       "                        <td id=\"T_f65f2494_619f_11e9_940a_4437e600cba8row23_col2\" class=\"data row23 col2\" >5.7</td>\n",
       "                        <td id=\"T_f65f2494_619f_11e9_940a_4437e600cba8row23_col3\" class=\"data row23 col3\" >2.5</td>\n",
       "                        <td id=\"T_f65f2494_619f_11e9_940a_4437e600cba8row23_col4\" class=\"data row23 col4\" >virginica</td>\n",
       "                        <td id=\"T_f65f2494_619f_11e9_940a_4437e600cba8row23_col5\" class=\"data row23 col5\" >virginica</td>\n",
       "            </tr>\n",
       "            <tr>\n",
       "                        <th id=\"T_f65f2494_619f_11e9_940a_4437e600cba8level0_row24\" class=\"row_heading level0 row24\" >7</th>\n",
       "                        <td id=\"T_f65f2494_619f_11e9_940a_4437e600cba8row24_col0\" class=\"data row24 col0\" >5</td>\n",
       "                        <td id=\"T_f65f2494_619f_11e9_940a_4437e600cba8row24_col1\" class=\"data row24 col1\" >3.4</td>\n",
       "                        <td id=\"T_f65f2494_619f_11e9_940a_4437e600cba8row24_col2\" class=\"data row24 col2\" >1.5</td>\n",
       "                        <td id=\"T_f65f2494_619f_11e9_940a_4437e600cba8row24_col3\" class=\"data row24 col3\" >0.2</td>\n",
       "                        <td id=\"T_f65f2494_619f_11e9_940a_4437e600cba8row24_col4\" class=\"data row24 col4\" >setosa</td>\n",
       "                        <td id=\"T_f65f2494_619f_11e9_940a_4437e600cba8row24_col5\" class=\"data row24 col5\" >setosa</td>\n",
       "            </tr>\n",
       "            <tr>\n",
       "                        <th id=\"T_f65f2494_619f_11e9_940a_4437e600cba8level0_row25\" class=\"row_heading level0 row25\" >87</th>\n",
       "                        <td id=\"T_f65f2494_619f_11e9_940a_4437e600cba8row25_col0\" class=\"data row25 col0\" >6.3</td>\n",
       "                        <td id=\"T_f65f2494_619f_11e9_940a_4437e600cba8row25_col1\" class=\"data row25 col1\" >2.3</td>\n",
       "                        <td id=\"T_f65f2494_619f_11e9_940a_4437e600cba8row25_col2\" class=\"data row25 col2\" >4.4</td>\n",
       "                        <td id=\"T_f65f2494_619f_11e9_940a_4437e600cba8row25_col3\" class=\"data row25 col3\" >1.3</td>\n",
       "                        <td id=\"T_f65f2494_619f_11e9_940a_4437e600cba8row25_col4\" class=\"data row25 col4\" >versicolor</td>\n",
       "                        <td id=\"T_f65f2494_619f_11e9_940a_4437e600cba8row25_col5\" class=\"data row25 col5\" >versicolor</td>\n",
       "            </tr>\n",
       "            <tr>\n",
       "                        <th id=\"T_f65f2494_619f_11e9_940a_4437e600cba8level0_row26\" class=\"row_heading level0 row26\" >69</th>\n",
       "                        <td id=\"T_f65f2494_619f_11e9_940a_4437e600cba8row26_col0\" class=\"data row26 col0\" >5.6</td>\n",
       "                        <td id=\"T_f65f2494_619f_11e9_940a_4437e600cba8row26_col1\" class=\"data row26 col1\" >2.5</td>\n",
       "                        <td id=\"T_f65f2494_619f_11e9_940a_4437e600cba8row26_col2\" class=\"data row26 col2\" >3.9</td>\n",
       "                        <td id=\"T_f65f2494_619f_11e9_940a_4437e600cba8row26_col3\" class=\"data row26 col3\" >1.1</td>\n",
       "                        <td id=\"T_f65f2494_619f_11e9_940a_4437e600cba8row26_col4\" class=\"data row26 col4\" >versicolor</td>\n",
       "                        <td id=\"T_f65f2494_619f_11e9_940a_4437e600cba8row26_col5\" class=\"data row26 col5\" >versicolor</td>\n",
       "            </tr>\n",
       "            <tr>\n",
       "                        <th id=\"T_f65f2494_619f_11e9_940a_4437e600cba8level0_row27\" class=\"row_heading level0 row27\" >103</th>\n",
       "                        <td id=\"T_f65f2494_619f_11e9_940a_4437e600cba8row27_col0\" class=\"data row27 col0\" >6.3</td>\n",
       "                        <td id=\"T_f65f2494_619f_11e9_940a_4437e600cba8row27_col1\" class=\"data row27 col1\" >2.9</td>\n",
       "                        <td id=\"T_f65f2494_619f_11e9_940a_4437e600cba8row27_col2\" class=\"data row27 col2\" >5.6</td>\n",
       "                        <td id=\"T_f65f2494_619f_11e9_940a_4437e600cba8row27_col3\" class=\"data row27 col3\" >1.8</td>\n",
       "                        <td id=\"T_f65f2494_619f_11e9_940a_4437e600cba8row27_col4\" class=\"data row27 col4\" >virginica</td>\n",
       "                        <td id=\"T_f65f2494_619f_11e9_940a_4437e600cba8row27_col5\" class=\"data row27 col5\" >virginica</td>\n",
       "            </tr>\n",
       "            <tr>\n",
       "                        <th id=\"T_f65f2494_619f_11e9_940a_4437e600cba8level0_row28\" class=\"row_heading level0 row28\" >120</th>\n",
       "                        <td id=\"T_f65f2494_619f_11e9_940a_4437e600cba8row28_col0\" class=\"data row28 col0\" >6.9</td>\n",
       "                        <td id=\"T_f65f2494_619f_11e9_940a_4437e600cba8row28_col1\" class=\"data row28 col1\" >3.2</td>\n",
       "                        <td id=\"T_f65f2494_619f_11e9_940a_4437e600cba8row28_col2\" class=\"data row28 col2\" >5.7</td>\n",
       "                        <td id=\"T_f65f2494_619f_11e9_940a_4437e600cba8row28_col3\" class=\"data row28 col3\" >2.3</td>\n",
       "                        <td id=\"T_f65f2494_619f_11e9_940a_4437e600cba8row28_col4\" class=\"data row28 col4\" >virginica</td>\n",
       "                        <td id=\"T_f65f2494_619f_11e9_940a_4437e600cba8row28_col5\" class=\"data row28 col5\" >virginica</td>\n",
       "            </tr>\n",
       "            <tr>\n",
       "                        <th id=\"T_f65f2494_619f_11e9_940a_4437e600cba8level0_row29\" class=\"row_heading level0 row29\" >110</th>\n",
       "                        <td id=\"T_f65f2494_619f_11e9_940a_4437e600cba8row29_col0\" class=\"data row29 col0\" >6.5</td>\n",
       "                        <td id=\"T_f65f2494_619f_11e9_940a_4437e600cba8row29_col1\" class=\"data row29 col1\" >3.2</td>\n",
       "                        <td id=\"T_f65f2494_619f_11e9_940a_4437e600cba8row29_col2\" class=\"data row29 col2\" >5.1</td>\n",
       "                        <td id=\"T_f65f2494_619f_11e9_940a_4437e600cba8row29_col3\" class=\"data row29 col3\" >2</td>\n",
       "                        <td id=\"T_f65f2494_619f_11e9_940a_4437e600cba8row29_col4\" class=\"data row29 col4\" >virginica</td>\n",
       "                        <td id=\"T_f65f2494_619f_11e9_940a_4437e600cba8row29_col5\" class=\"data row29 col5\" >virginica</td>\n",
       "            </tr>\n",
       "            <tr>\n",
       "                        <th id=\"T_f65f2494_619f_11e9_940a_4437e600cba8level0_row30\" class=\"row_heading level0 row30\" >40</th>\n",
       "                        <td id=\"T_f65f2494_619f_11e9_940a_4437e600cba8row30_col0\" class=\"data row30 col0\" >5</td>\n",
       "                        <td id=\"T_f65f2494_619f_11e9_940a_4437e600cba8row30_col1\" class=\"data row30 col1\" >3.5</td>\n",
       "                        <td id=\"T_f65f2494_619f_11e9_940a_4437e600cba8row30_col2\" class=\"data row30 col2\" >1.3</td>\n",
       "                        <td id=\"T_f65f2494_619f_11e9_940a_4437e600cba8row30_col3\" class=\"data row30 col3\" >0.3</td>\n",
       "                        <td id=\"T_f65f2494_619f_11e9_940a_4437e600cba8row30_col4\" class=\"data row30 col4\" >setosa</td>\n",
       "                        <td id=\"T_f65f2494_619f_11e9_940a_4437e600cba8row30_col5\" class=\"data row30 col5\" >setosa</td>\n",
       "            </tr>\n",
       "            <tr>\n",
       "                        <th id=\"T_f65f2494_619f_11e9_940a_4437e600cba8level0_row31\" class=\"row_heading level0 row31\" >32</th>\n",
       "                        <td id=\"T_f65f2494_619f_11e9_940a_4437e600cba8row31_col0\" class=\"data row31 col0\" >5.2</td>\n",
       "                        <td id=\"T_f65f2494_619f_11e9_940a_4437e600cba8row31_col1\" class=\"data row31 col1\" >4.1</td>\n",
       "                        <td id=\"T_f65f2494_619f_11e9_940a_4437e600cba8row31_col2\" class=\"data row31 col2\" >1.5</td>\n",
       "                        <td id=\"T_f65f2494_619f_11e9_940a_4437e600cba8row31_col3\" class=\"data row31 col3\" >0.1</td>\n",
       "                        <td id=\"T_f65f2494_619f_11e9_940a_4437e600cba8row31_col4\" class=\"data row31 col4\" >setosa</td>\n",
       "                        <td id=\"T_f65f2494_619f_11e9_940a_4437e600cba8row31_col5\" class=\"data row31 col5\" >setosa</td>\n",
       "            </tr>\n",
       "            <tr>\n",
       "                        <th id=\"T_f65f2494_619f_11e9_940a_4437e600cba8level0_row32\" class=\"row_heading level0 row32\" >138</th>\n",
       "                        <td id=\"T_f65f2494_619f_11e9_940a_4437e600cba8row32_col0\" class=\"data row32 col0\" >6</td>\n",
       "                        <td id=\"T_f65f2494_619f_11e9_940a_4437e600cba8row32_col1\" class=\"data row32 col1\" >3</td>\n",
       "                        <td id=\"T_f65f2494_619f_11e9_940a_4437e600cba8row32_col2\" class=\"data row32 col2\" >4.8</td>\n",
       "                        <td id=\"T_f65f2494_619f_11e9_940a_4437e600cba8row32_col3\" class=\"data row32 col3\" >1.8</td>\n",
       "                        <td id=\"T_f65f2494_619f_11e9_940a_4437e600cba8row32_col4\" class=\"data row32 col4\" >virginica</td>\n",
       "                        <td id=\"T_f65f2494_619f_11e9_940a_4437e600cba8row32_col5\" class=\"data row32 col5\" >versicolor</td>\n",
       "            </tr>\n",
       "            <tr>\n",
       "                        <th id=\"T_f65f2494_619f_11e9_940a_4437e600cba8level0_row33\" class=\"row_heading level0 row33\" >101</th>\n",
       "                        <td id=\"T_f65f2494_619f_11e9_940a_4437e600cba8row33_col0\" class=\"data row33 col0\" >5.8</td>\n",
       "                        <td id=\"T_f65f2494_619f_11e9_940a_4437e600cba8row33_col1\" class=\"data row33 col1\" >2.7</td>\n",
       "                        <td id=\"T_f65f2494_619f_11e9_940a_4437e600cba8row33_col2\" class=\"data row33 col2\" >5.1</td>\n",
       "                        <td id=\"T_f65f2494_619f_11e9_940a_4437e600cba8row33_col3\" class=\"data row33 col3\" >1.9</td>\n",
       "                        <td id=\"T_f65f2494_619f_11e9_940a_4437e600cba8row33_col4\" class=\"data row33 col4\" >virginica</td>\n",
       "                        <td id=\"T_f65f2494_619f_11e9_940a_4437e600cba8row33_col5\" class=\"data row33 col5\" >virginica</td>\n",
       "            </tr>\n",
       "            <tr>\n",
       "                        <th id=\"T_f65f2494_619f_11e9_940a_4437e600cba8level0_row34\" class=\"row_heading level0 row34\" >97</th>\n",
       "                        <td id=\"T_f65f2494_619f_11e9_940a_4437e600cba8row34_col0\" class=\"data row34 col0\" >6.2</td>\n",
       "                        <td id=\"T_f65f2494_619f_11e9_940a_4437e600cba8row34_col1\" class=\"data row34 col1\" >2.9</td>\n",
       "                        <td id=\"T_f65f2494_619f_11e9_940a_4437e600cba8row34_col2\" class=\"data row34 col2\" >4.3</td>\n",
       "                        <td id=\"T_f65f2494_619f_11e9_940a_4437e600cba8row34_col3\" class=\"data row34 col3\" >1.3</td>\n",
       "                        <td id=\"T_f65f2494_619f_11e9_940a_4437e600cba8row34_col4\" class=\"data row34 col4\" >versicolor</td>\n",
       "                        <td id=\"T_f65f2494_619f_11e9_940a_4437e600cba8row34_col5\" class=\"data row34 col5\" >versicolor</td>\n",
       "            </tr>\n",
       "            <tr>\n",
       "                        <th id=\"T_f65f2494_619f_11e9_940a_4437e600cba8level0_row35\" class=\"row_heading level0 row35\" >123</th>\n",
       "                        <td id=\"T_f65f2494_619f_11e9_940a_4437e600cba8row35_col0\" class=\"data row35 col0\" >6.3</td>\n",
       "                        <td id=\"T_f65f2494_619f_11e9_940a_4437e600cba8row35_col1\" class=\"data row35 col1\" >2.7</td>\n",
       "                        <td id=\"T_f65f2494_619f_11e9_940a_4437e600cba8row35_col2\" class=\"data row35 col2\" >4.9</td>\n",
       "                        <td id=\"T_f65f2494_619f_11e9_940a_4437e600cba8row35_col3\" class=\"data row35 col3\" >1.8</td>\n",
       "                        <td id=\"T_f65f2494_619f_11e9_940a_4437e600cba8row35_col4\" class=\"data row35 col4\" >virginica</td>\n",
       "                        <td id=\"T_f65f2494_619f_11e9_940a_4437e600cba8row35_col5\" class=\"data row35 col5\" >virginica</td>\n",
       "            </tr>\n",
       "            <tr>\n",
       "                        <th id=\"T_f65f2494_619f_11e9_940a_4437e600cba8level0_row36\" class=\"row_heading level0 row36\" >135</th>\n",
       "                        <td id=\"T_f65f2494_619f_11e9_940a_4437e600cba8row36_col0\" class=\"data row36 col0\" >7.7</td>\n",
       "                        <td id=\"T_f65f2494_619f_11e9_940a_4437e600cba8row36_col1\" class=\"data row36 col1\" >3</td>\n",
       "                        <td id=\"T_f65f2494_619f_11e9_940a_4437e600cba8row36_col2\" class=\"data row36 col2\" >6.1</td>\n",
       "                        <td id=\"T_f65f2494_619f_11e9_940a_4437e600cba8row36_col3\" class=\"data row36 col3\" >2.3</td>\n",
       "                        <td id=\"T_f65f2494_619f_11e9_940a_4437e600cba8row36_col4\" class=\"data row36 col4\" >virginica</td>\n",
       "                        <td id=\"T_f65f2494_619f_11e9_940a_4437e600cba8row36_col5\" class=\"data row36 col5\" >virginica</td>\n",
       "            </tr>\n",
       "            <tr>\n",
       "                        <th id=\"T_f65f2494_619f_11e9_940a_4437e600cba8level0_row37\" class=\"row_heading level0 row37\" >37</th>\n",
       "                        <td id=\"T_f65f2494_619f_11e9_940a_4437e600cba8row37_col0\" class=\"data row37 col0\" >4.9</td>\n",
       "                        <td id=\"T_f65f2494_619f_11e9_940a_4437e600cba8row37_col1\" class=\"data row37 col1\" >3.1</td>\n",
       "                        <td id=\"T_f65f2494_619f_11e9_940a_4437e600cba8row37_col2\" class=\"data row37 col2\" >1.5</td>\n",
       "                        <td id=\"T_f65f2494_619f_11e9_940a_4437e600cba8row37_col3\" class=\"data row37 col3\" >0.1</td>\n",
       "                        <td id=\"T_f65f2494_619f_11e9_940a_4437e600cba8row37_col4\" class=\"data row37 col4\" >setosa</td>\n",
       "                        <td id=\"T_f65f2494_619f_11e9_940a_4437e600cba8row37_col5\" class=\"data row37 col5\" >setosa</td>\n",
       "            </tr>\n",
       "    </tbody></table>"
      ],
      "text/plain": [
       "<pandas.io.formats.style.Styler at 0x14b68898>"
      ]
     },
     "execution_count": 72,
     "metadata": {},
     "output_type": "execute_result"
    }
   ],
   "source": [
    "clsIris.predict(irisdftest.iloc[:,:-1])\n",
    "iristestcopy = irisdftest.copy()\n",
    "iristestcopy.loc[:,'预测'] = clsIris.predict(irisdftest.iloc[:,:-1])\n",
    "iristestcopy.style.apply(highlightCell, axis=1)"
   ]
  },
  {
   "cell_type": "markdown",
   "metadata": {
    "slideshow": {
     "slide_type": "slide"
    }
   },
   "source": [
    "### 决策树的特点"
   ]
  },
  {
   "cell_type": "markdown",
   "metadata": {
    "slideshow": {
     "slide_type": "fragment"
    }
   },
   "source": [
    "- 非参数建模，不需要对数据给予任何假设"
   ]
  },
  {
   "cell_type": "markdown",
   "metadata": {
    "slideshow": {
     "slide_type": "fragment"
    }
   },
   "source": [
    "- 决策树相对容易解释，其算法对噪声具有较好的鲁棒性，并且冗余属性不会对分类准确率造成不利影响"
   ]
  },
  {
   "cell_type": "markdown",
   "metadata": {
    "slideshow": {
     "slide_type": "fragment"
    }
   },
   "source": [
    "- 数据碎片（data fragmentation）：决策树归纳采用自顶向下的方式，叶结点可能由于包含的数据记录过少，而不能做出具有统计意义的类别判断"
   ]
  },
  {
   "cell_type": "markdown",
   "metadata": {
    "slideshow": {
     "slide_type": "subslide"
    }
   },
   "source": [
    "- 子树重复，造成决策树过于复杂"
   ]
  },
  {
   "cell_type": "code",
   "execution_count": 10,
   "metadata": {
    "slideshow": {
     "slide_type": "skip"
    }
   },
   "outputs": [
    {
     "data": {
      "text/plain": [
       "'./img/classification/treeRep.svg'"
      ]
     },
     "execution_count": 10,
     "metadata": {},
     "output_type": "execute_result"
    }
   ],
   "source": [
    "treeRep = Digraph(format='svg', node_attr={'shape': 'rect'})\n",
    "treeRep.node('A', 'P', shape='oval')\n",
    "with treeRep.subgraph(name='cluster0') as a:\n",
    "    a.attr(color='lightblue', style='filled')\n",
    "    a.node('B','Q', shape='oval')\n",
    "    a.node('C', 'S', shape='oval')\n",
    "    a.node('D', '0')\n",
    "    a.node('E', '0')\n",
    "    a.node('F', '1')\n",
    "    a.edges(['BC', 'BD', 'CE', 'CF'])\n",
    "treeRep.node('G', 'R', shape='oval')\n",
    "with treeRep.subgraph(name='cluster1') as a:\n",
    "    a.attr(color='lightblue', style='filled')\n",
    "    a.node('H','Q', shape='oval')\n",
    "    a.node('I', 'S', shape='oval')\n",
    "    a.node('J', '0')\n",
    "    a.node('K', '0')\n",
    "    a.node('L', '1')\n",
    "    a.edges(['HI', 'HJ', 'IK', 'IL'])\n",
    "treeRep.node('M','1')\n",
    "treeRep.edges(['AB', 'AG', 'GH', 'GM'])\n",
    "treeRep.render(filename='treeRep',directory='./img/classification/')"
   ]
  },
  {
   "cell_type": "markdown",
   "metadata": {
    "slideshow": {
     "slide_type": "fragment"
    }
   },
   "source": [
    "<img src=\"./img/classification/treeRep.svg\" width=50%>"
   ]
  },
  {
   "cell_type": "markdown",
   "metadata": {
    "slideshow": {
     "slide_type": "subslide"
    }
   },
   "source": [
    "- 单一属性测试条件，限制了对复杂关系建模的能力"
   ]
  },
  {
   "cell_type": "code",
   "execution_count": 36,
   "metadata": {
    "slideshow": {
     "slide_type": "skip"
    }
   },
   "outputs": [],
   "source": [
    "dbr = [(0.09,0.4,0),(0.1,0.1,0),(0.1,0.58,1),(0.15,0.9,1),(0.25,0.2,0),(0.3,0.7,1),\n",
    "       (0.35,0.45,0),(0.4,0.5,1),(0.45,0.1,1),(0.5,0.35,0),(0.55,0.9,0),(0.68,0.25,1),\n",
    "       (0.75,0.8,0),(0.9,0.6,0),(0.92,0.3,1)]\n",
    "dbrdf = pd.DataFrame(dbr,columns=['x','y', 'class'])"
   ]
  },
  {
   "cell_type": "markdown",
   "metadata": {
    "slideshow": {
     "slide_type": "fragment"
    },
    "variables": {
     "dbrdf": {}
    }
   },
   "source": [
    "对于如下的数据集，{{dbrdf}}"
   ]
  },
  {
   "cell_type": "code",
   "execution_count": 58,
   "metadata": {
    "slideshow": {
     "slide_type": "skip"
    }
   },
   "outputs": [
    {
     "data": {
      "text/plain": [
       "'./img/classification/wDecisionTree.svg'"
      ]
     },
     "execution_count": 58,
     "metadata": {},
     "output_type": "execute_result"
    }
   ],
   "source": [
    "wtree = Digraph(format='svg', node_attr={'shape':'record','fontname':'STKAITI'})\n",
    "wtree.node('A', 'x<0.43',shape='oval')\n",
    "wtree.node('B','y<0.47',shape='oval')\n",
    "wtree.node('C','y<0.33',shape='oval')\n",
    "wtree.node('D','{v:4|o:0}')\n",
    "wtree.node('E','{v:0|o:4}')\n",
    "wtree.node('F','{v:0|o:3}')\n",
    "wtree.node('G','{v:4|o:0}')\n",
    "wtree.edge('A','B',xlabel='是')\n",
    "wtree.edge('A','C',label='否')\n",
    "wtree.edge('B','D',xlabel='是')\n",
    "wtree.edge('B','E',label='否')\n",
    "wtree.edge('C','F',label='是')\n",
    "wtree.edge('C','G',label='否')\n",
    "wtree.render(filename='wDecisionTree',directory='./img/classification/')"
   ]
  },
  {
   "cell_type": "markdown",
   "metadata": {
    "slideshow": {
     "slide_type": "fragment"
    }
   },
   "source": [
    "<img src=\"./img/classification/wDecisionTree.svg\" width=50%>"
   ]
  },
  {
   "cell_type": "code",
   "execution_count": 45,
   "metadata": {
    "slideshow": {
     "slide_type": "fragment"
    }
   },
   "outputs": [
    {
     "data": {
      "image/svg+xml": [
       "<?xml version=\"1.0\" encoding=\"UTF-8\" standalone=\"no\"?>\r\n",
       "<!DOCTYPE svg PUBLIC \"-//W3C//DTD SVG 1.1//EN\"\r\n",
       " \"http://www.w3.org/Graphics/SVG/1.1/DTD/svg11.dtd\">\r\n",
       "<!-- Generated by graphviz version 2.38.0 (20140413.2041)\r\n",
       " -->\r\n",
       "<!-- Title: Tree Pages: 1 -->\r\n",
       "<svg width=\"426pt\" height=\"314pt\"\r\n",
       " viewBox=\"0.00 0.00 426.00 314.00\" xmlns=\"http://www.w3.org/2000/svg\" xmlns:xlink=\"http://www.w3.org/1999/xlink\">\r\n",
       "<g id=\"graph0\" class=\"graph\" transform=\"scale(1 1) rotate(0) translate(4 310)\">\r\n",
       "<title>Tree</title>\r\n",
       "<polygon fill=\"white\" stroke=\"none\" points=\"-4,4 -4,-310 422,-310 422,4 -4,4\"/>\r\n",
       "<!-- 0 -->\r\n",
       "<g id=\"node1\" class=\"node\"><title>0</title>\r\n",
       "<polygon fill=\"#e58139\" fill-opacity=\"0.125490\" stroke=\"black\" points=\"254,-306 163,-306 163,-223 254,-223 254,-306\"/>\r\n",
       "<text text-anchor=\"middle\" x=\"208.5\" y=\"-290.8\" font-family=\"Times New Roman,serif\" font-size=\"14.00\">x &lt;= 0.475</text>\r\n",
       "<text text-anchor=\"middle\" x=\"208.5\" y=\"-275.8\" font-family=\"Times New Roman,serif\" font-size=\"14.00\">gini = 0.498</text>\r\n",
       "<text text-anchor=\"middle\" x=\"208.5\" y=\"-260.8\" font-family=\"Times New Roman,serif\" font-size=\"14.00\">samples = 15</text>\r\n",
       "<text text-anchor=\"middle\" x=\"208.5\" y=\"-245.8\" font-family=\"Times New Roman,serif\" font-size=\"14.00\">value = [8, 7]</text>\r\n",
       "<text text-anchor=\"middle\" x=\"208.5\" y=\"-230.8\" font-family=\"Times New Roman,serif\" font-size=\"14.00\">class = 0</text>\r\n",
       "</g>\r\n",
       "<!-- 1 -->\r\n",
       "<g id=\"node2\" class=\"node\"><title>1</title>\r\n",
       "<polygon fill=\"#399de5\" fill-opacity=\"0.200000\" stroke=\"black\" points=\"200,-187 109,-187 109,-104 200,-104 200,-187\"/>\r\n",
       "<text text-anchor=\"middle\" x=\"154.5\" y=\"-171.8\" font-family=\"Times New Roman,serif\" font-size=\"14.00\">y &lt;= 0.475</text>\r\n",
       "<text text-anchor=\"middle\" x=\"154.5\" y=\"-156.8\" font-family=\"Times New Roman,serif\" font-size=\"14.00\">gini = 0.494</text>\r\n",
       "<text text-anchor=\"middle\" x=\"154.5\" y=\"-141.8\" font-family=\"Times New Roman,serif\" font-size=\"14.00\">samples = 9</text>\r\n",
       "<text text-anchor=\"middle\" x=\"154.5\" y=\"-126.8\" font-family=\"Times New Roman,serif\" font-size=\"14.00\">value = [4, 5]</text>\r\n",
       "<text text-anchor=\"middle\" x=\"154.5\" y=\"-111.8\" font-family=\"Times New Roman,serif\" font-size=\"14.00\">class = 1</text>\r\n",
       "</g>\r\n",
       "<!-- 0&#45;&gt;1 -->\r\n",
       "<g id=\"edge1\" class=\"edge\"><title>0&#45;&gt;1</title>\r\n",
       "<path fill=\"none\" stroke=\"black\" d=\"M189.765,-222.907C185.786,-214.286 181.542,-205.09 177.427,-196.175\"/>\r\n",
       "<polygon fill=\"black\" stroke=\"black\" points=\"180.57,-194.634 173.202,-187.021 174.215,-197.567 180.57,-194.634\"/>\r\n",
       "<text text-anchor=\"middle\" x=\"164.559\" y=\"-206.779\" font-family=\"Times New Roman,serif\" font-size=\"14.00\">True</text>\r\n",
       "</g>\r\n",
       "<!-- 4 -->\r\n",
       "<g id=\"node5\" class=\"node\"><title>4</title>\r\n",
       "<polygon fill=\"#e58139\" fill-opacity=\"0.498039\" stroke=\"black\" points=\"309,-187 218,-187 218,-104 309,-104 309,-187\"/>\r\n",
       "<text text-anchor=\"middle\" x=\"263.5\" y=\"-171.8\" font-family=\"Times New Roman,serif\" font-size=\"14.00\">y &lt;= 0.475</text>\r\n",
       "<text text-anchor=\"middle\" x=\"263.5\" y=\"-156.8\" font-family=\"Times New Roman,serif\" font-size=\"14.00\">gini = 0.444</text>\r\n",
       "<text text-anchor=\"middle\" x=\"263.5\" y=\"-141.8\" font-family=\"Times New Roman,serif\" font-size=\"14.00\">samples = 6</text>\r\n",
       "<text text-anchor=\"middle\" x=\"263.5\" y=\"-126.8\" font-family=\"Times New Roman,serif\" font-size=\"14.00\">value = [4, 2]</text>\r\n",
       "<text text-anchor=\"middle\" x=\"263.5\" y=\"-111.8\" font-family=\"Times New Roman,serif\" font-size=\"14.00\">class = 0</text>\r\n",
       "</g>\r\n",
       "<!-- 0&#45;&gt;4 -->\r\n",
       "<g id=\"edge4\" class=\"edge\"><title>0&#45;&gt;4</title>\r\n",
       "<path fill=\"none\" stroke=\"black\" d=\"M227.582,-222.907C231.635,-214.286 235.957,-205.09 240.149,-196.175\"/>\r\n",
       "<polygon fill=\"black\" stroke=\"black\" points=\"243.365,-197.56 244.452,-187.021 237.03,-194.582 243.365,-197.56\"/>\r\n",
       "<text text-anchor=\"middle\" x=\"252.929\" y=\"-206.84\" font-family=\"Times New Roman,serif\" font-size=\"14.00\">False</text>\r\n",
       "</g>\r\n",
       "<!-- 2 -->\r\n",
       "<g id=\"node3\" class=\"node\"><title>2</title>\r\n",
       "<polygon fill=\"#e58139\" fill-opacity=\"0.749020\" stroke=\"black\" points=\"91,-68 0,-68 0,-0 91,-0 91,-68\"/>\r\n",
       "<text text-anchor=\"middle\" x=\"45.5\" y=\"-52.8\" font-family=\"Times New Roman,serif\" font-size=\"14.00\">gini = 0.32</text>\r\n",
       "<text text-anchor=\"middle\" x=\"45.5\" y=\"-37.8\" font-family=\"Times New Roman,serif\" font-size=\"14.00\">samples = 5</text>\r\n",
       "<text text-anchor=\"middle\" x=\"45.5\" y=\"-22.8\" font-family=\"Times New Roman,serif\" font-size=\"14.00\">value = [4, 1]</text>\r\n",
       "<text text-anchor=\"middle\" x=\"45.5\" y=\"-7.8\" font-family=\"Times New Roman,serif\" font-size=\"14.00\">class = 0</text>\r\n",
       "</g>\r\n",
       "<!-- 1&#45;&gt;2 -->\r\n",
       "<g id=\"edge2\" class=\"edge\"><title>1&#45;&gt;2</title>\r\n",
       "<path fill=\"none\" stroke=\"black\" d=\"M113.912,-103.726C104.742,-94.5142 95.0093,-84.7364 85.8492,-75.5343\"/>\r\n",
       "<polygon fill=\"black\" stroke=\"black\" points=\"88.183,-72.9176 78.6475,-68.2996 83.2219,-77.8561 88.183,-72.9176\"/>\r\n",
       "</g>\r\n",
       "<!-- 3 -->\r\n",
       "<g id=\"node4\" class=\"node\"><title>3</title>\r\n",
       "<polygon fill=\"#399de5\" stroke=\"black\" points=\"200,-68 109,-68 109,-0 200,-0 200,-68\"/>\r\n",
       "<text text-anchor=\"middle\" x=\"154.5\" y=\"-52.8\" font-family=\"Times New Roman,serif\" font-size=\"14.00\">gini = 0.0</text>\r\n",
       "<text text-anchor=\"middle\" x=\"154.5\" y=\"-37.8\" font-family=\"Times New Roman,serif\" font-size=\"14.00\">samples = 4</text>\r\n",
       "<text text-anchor=\"middle\" x=\"154.5\" y=\"-22.8\" font-family=\"Times New Roman,serif\" font-size=\"14.00\">value = [0, 4]</text>\r\n",
       "<text text-anchor=\"middle\" x=\"154.5\" y=\"-7.8\" font-family=\"Times New Roman,serif\" font-size=\"14.00\">class = 1</text>\r\n",
       "</g>\r\n",
       "<!-- 1&#45;&gt;3 -->\r\n",
       "<g id=\"edge3\" class=\"edge\"><title>1&#45;&gt;3</title>\r\n",
       "<path fill=\"none\" stroke=\"black\" d=\"M154.5,-103.726C154.5,-95.5175 154.5,-86.8595 154.5,-78.56\"/>\r\n",
       "<polygon fill=\"black\" stroke=\"black\" points=\"158,-78.2996 154.5,-68.2996 151,-78.2996 158,-78.2996\"/>\r\n",
       "</g>\r\n",
       "<!-- 5 -->\r\n",
       "<g id=\"node6\" class=\"node\"><title>5</title>\r\n",
       "<polygon fill=\"#399de5\" fill-opacity=\"0.498039\" stroke=\"black\" points=\"309,-68 218,-68 218,-0 309,-0 309,-68\"/>\r\n",
       "<text text-anchor=\"middle\" x=\"263.5\" y=\"-52.8\" font-family=\"Times New Roman,serif\" font-size=\"14.00\">gini = 0.444</text>\r\n",
       "<text text-anchor=\"middle\" x=\"263.5\" y=\"-37.8\" font-family=\"Times New Roman,serif\" font-size=\"14.00\">samples = 3</text>\r\n",
       "<text text-anchor=\"middle\" x=\"263.5\" y=\"-22.8\" font-family=\"Times New Roman,serif\" font-size=\"14.00\">value = [1, 2]</text>\r\n",
       "<text text-anchor=\"middle\" x=\"263.5\" y=\"-7.8\" font-family=\"Times New Roman,serif\" font-size=\"14.00\">class = 1</text>\r\n",
       "</g>\r\n",
       "<!-- 4&#45;&gt;5 -->\r\n",
       "<g id=\"edge5\" class=\"edge\"><title>4&#45;&gt;5</title>\r\n",
       "<path fill=\"none\" stroke=\"black\" d=\"M263.5,-103.726C263.5,-95.5175 263.5,-86.8595 263.5,-78.56\"/>\r\n",
       "<polygon fill=\"black\" stroke=\"black\" points=\"267,-78.2996 263.5,-68.2996 260,-78.2996 267,-78.2996\"/>\r\n",
       "</g>\r\n",
       "<!-- 6 -->\r\n",
       "<g id=\"node7\" class=\"node\"><title>6</title>\r\n",
       "<polygon fill=\"#e58139\" stroke=\"black\" points=\"418,-68 327,-68 327,-0 418,-0 418,-68\"/>\r\n",
       "<text text-anchor=\"middle\" x=\"372.5\" y=\"-52.8\" font-family=\"Times New Roman,serif\" font-size=\"14.00\">gini = 0.0</text>\r\n",
       "<text text-anchor=\"middle\" x=\"372.5\" y=\"-37.8\" font-family=\"Times New Roman,serif\" font-size=\"14.00\">samples = 3</text>\r\n",
       "<text text-anchor=\"middle\" x=\"372.5\" y=\"-22.8\" font-family=\"Times New Roman,serif\" font-size=\"14.00\">value = [3, 0]</text>\r\n",
       "<text text-anchor=\"middle\" x=\"372.5\" y=\"-7.8\" font-family=\"Times New Roman,serif\" font-size=\"14.00\">class = 0</text>\r\n",
       "</g>\r\n",
       "<!-- 4&#45;&gt;6 -->\r\n",
       "<g id=\"edge6\" class=\"edge\"><title>4&#45;&gt;6</title>\r\n",
       "<path fill=\"none\" stroke=\"black\" d=\"M304.088,-103.726C313.258,-94.5142 322.991,-84.7364 332.151,-75.5343\"/>\r\n",
       "<polygon fill=\"black\" stroke=\"black\" points=\"334.778,-77.8561 339.352,-68.2996 329.817,-72.9176 334.778,-77.8561\"/>\r\n",
       "</g>\r\n",
       "</g>\r\n",
       "</svg>\r\n"
      ],
      "text/plain": [
       "<graphviz.files.Source at 0x103d5048>"
      ]
     },
     "execution_count": 45,
     "metadata": {},
     "output_type": "execute_result"
    }
   ],
   "source": [
    "dbrdfDT = DecisionTreeClassifier(max_depth=2,min_samples_leaf=3)\n",
    "dbrdfres = dbrdfDT.fit(dbrdf.iloc[:,:-1],dbrdf.iloc[:,-1])\n",
    "dbrdfdot = sklearn.tree.export_graphviz(dbrdfres,out_file=None,filled=True,feature_names=['x','y'],class_names=['0','1'])\n",
    "dbrdfgh = Source(dbrdfdot)\n",
    "dbrdfgh"
   ]
  },
  {
   "cell_type": "code",
   "execution_count": 57,
   "metadata": {
    "scrolled": true,
    "slideshow": {
     "slide_type": "skip"
    }
   },
   "outputs": [
    {
     "data": {
      "image/png": "[encoded data removed]",
      "text/plain": [
       "<Figure size 864x432 with 1 Axes>"
      ]
     },
     "metadata": {
      "needs_background": "light"
     },
     "output_type": "display_data"
    }
   ],
   "source": [
    "dbrdf0 = dbrdf.loc[dbrdf['class']==0,:]\n",
    "dbrdf1 = dbrdf.loc[dbrdf['class']==1,:]\n",
    "figdb, axdb = plt.subplots(figsize=(12,6))\n",
    "axdb.scatter('x','y', s=100, c='m', marker='v', data=dbrdf0)\n",
    "axdb.scatter('x','y', s=100, c='c', data=dbrdf1)\n",
    "axdb.plot(np.ones(10)*0.43,np.linspace(0,1,num=10),'b--',\n",
    "          np.linspace(0,0.43,num=4),np.ones(4)*0.47,'r--',\n",
    "          np.linspace(0.43,1,num=4),np.ones(4)*0.33,'g--')\n",
    "axdb.set_xticks(np.linspace(0,1,num=11))\n",
    "axdb.set_yticks(np.linspace(0,1,num=11))\n",
    "plt.savefig('./img/classification/wrongTree.svg',format='svg')"
   ]
  },
  {
   "cell_type": "markdown",
   "metadata": {
    "slideshow": {
     "slide_type": "subslide"
    }
   },
   "source": [
    "<img src=\"./img/classification/wrongTree.svg\" width=100%>"
   ]
  },
  {
   "cell_type": "markdown",
   "metadata": {
    "slideshow": {
     "slide_type": "fragment"
    }
   },
   "source": [
    "- 两个不同类之间的边界被称为**决策边界**(decision boundary)"
   ]
  },
  {
   "cell_type": "markdown",
   "metadata": {
    "slideshow": {
     "slide_type": "fragment"
    }
   },
   "source": [
    "- 单个属性的测试条件只能形成平行于坐标轴的边界"
   ]
  },
  {
   "cell_type": "markdown",
   "metadata": {
    "slideshow": {
     "slide_type": "fragment"
    }
   },
   "source": [
    "> 一个可行的解决方法：构造**斜决策树**（oblique decision tree）"
   ]
  },
  {
   "cell_type": "markdown",
   "metadata": {
    "slideshow": {
     "slide_type": "fragment"
    }
   },
   "source": [
    "- 斜决策树可以同时使用多个属性构建一个测试条件"
   ]
  },
  {
   "cell_type": "markdown",
   "metadata": {
    "slideshow": {
     "slide_type": "fragment"
    }
   },
   "source": [
    "<img src=\"./img/classification/obliqueDT.png\" with=100%>"
   ]
  },
  {
   "cell_type": "markdown",
   "metadata": {
    "slideshow": {
     "slide_type": "fragment"
    }
   },
   "source": [
    "测试条件：\n",
    "$$\n",
    "x+y<20\n",
    "$$"
   ]
  },
  {
   "cell_type": "markdown",
   "metadata": {
    "slideshow": {
     "slide_type": "slide"
    }
   },
   "source": [
    "## 模型过分拟合"
   ]
  },
  {
   "cell_type": "markdown",
   "metadata": {
    "slideshow": {
     "slide_type": "fragment"
    }
   },
   "source": [
    "### 分类模型的误差 "
   ]
  },
  {
   "cell_type": "code",
   "execution_count": 3,
   "metadata": {
    "slideshow": {
     "slide_type": "skip"
    }
   },
   "outputs": [
    {
     "data": {
      "text/plain": [
       "'./img/classification/clerr.svg'"
      ]
     },
     "execution_count": 3,
     "metadata": {},
     "output_type": "execute_result"
    }
   ],
   "source": [
    "clerr = Digraph(format='svg',node_attr={'shape':'oval','fontname':'STKAITI'})\n",
    "clerr.node('A','分类模型误差',shape='plaintext')\n",
    "clerr.node('B','训练误差')\n",
    "clerr.node('C','泛化误差')\n",
    "clerr.edges(['AB','AC'])\n",
    "clerr.render(filename='clerr',directory='./img/classification/')"
   ]
  },
  {
   "cell_type": "markdown",
   "metadata": {
    "cell_style": "split",
    "slideshow": {
     "slide_type": "fragment"
    }
   },
   "source": [
    "<img src=\"./img/classification/clerr.svg\" width=100%>"
   ]
  },
  {
   "cell_type": "markdown",
   "metadata": {
    "cell_style": "split",
    "slideshow": {
     "slide_type": "fragment"
    }
   },
   "source": [
    "- 训练误差（training error）：在训练集上误分类样本的比例"
   ]
  },
  {
   "cell_type": "markdown",
   "metadata": {
    "cell_style": "split",
    "slideshow": {
     "slide_type": "fragment"
    }
   },
   "source": [
    "- 泛化误差（generalization error）：分类模型在未知记录上的期望误差"
   ]
  },
  {
   "cell_type": "code",
   "execution_count": 46,
   "metadata": {
    "scrolled": true,
    "slideshow": {
     "slide_type": "skip"
    }
   },
   "outputs": [
    {
     "data": {
      "text/plain": [
       "<Figure size 864x432 with 0 Axes>"
      ]
     },
     "execution_count": 46,
     "metadata": {},
     "output_type": "execute_result"
    },
    {
     "data": {
      "text/plain": [
       "[<matplotlib.lines.Line2D at 0x11868470>,\n",
       " <matplotlib.lines.Line2D at 0x11868588>]"
      ]
     },
     "execution_count": 46,
     "metadata": {},
     "output_type": "execute_result"
    },
    {
     "data": {
      "image/png": "[encoded data removed]",
      "text/plain": [
       "<Figure size 864x432 with 1 Axes>"
      ]
     },
     "metadata": {
      "needs_background": "light"
     },
     "output_type": "display_data"
    }
   ],
   "source": [
    "N = 1500\n",
    "\n",
    "mean1 = [6, 14]\n",
    "mean2 = [10, 6]\n",
    "mean3 = [14, 14]\n",
    "cov = [[3.5, 0], [0, 3.5]]  # diagonal covariance\n",
    "\n",
    "np.random.seed(50)\n",
    "X = np.random.multivariate_normal(mean1, cov, int(N/6))\n",
    "X = np.concatenate((X, np.random.multivariate_normal(mean2, cov, int(N/6))))\n",
    "X = np.concatenate((X, np.random.multivariate_normal(mean3, cov, int(N/6))))\n",
    "X = np.concatenate((X, 20*np.random.rand(int(N/2),2)))\n",
    "Y = np.concatenate((np.ones(int(N/2)),np.zeros(int(N/2))))\n",
    "plt.figure(figsize=(12,6))\n",
    "plt.plot(X[:int(N/2),0],X[:int(N/2),1],'r+',\n",
    "         X[int(N/2):,0],X[int(N/2):,1],'bo',ms=4)\n",
    "plt.savefig('./img/classification/overfittingMatrix.svg',format='svg')"
   ]
  },
  {
   "cell_type": "markdown",
   "metadata": {
    "slideshow": {
     "slide_type": "fragment"
    }
   },
   "source": [
    "<img src=\"./img/classification/overfittingMatrix.svg\" width=100%>"
   ]
  },
  {
   "cell_type": "markdown",
   "metadata": {
    "slideshow": {
     "slide_type": "subslide"
    }
   },
   "source": [
    "- 分割训练集与检验集"
   ]
  },
  {
   "cell_type": "code",
   "execution_count": 48,
   "metadata": {
    "slideshow": {
     "slide_type": "fragment"
    }
   },
   "outputs": [],
   "source": [
    "from sklearn import tree\n",
    "from sklearn.metrics import accuracy_score\n",
    "from sklearn.model_selection import train_test_split\n",
    "X_train, X_test, Y_train, Y_test = train_test_split(X, Y, test_size=0.7, random_state=1)"
   ]
  },
  {
   "cell_type": "markdown",
   "metadata": {
    "slideshow": {
     "slide_type": "slide"
    }
   },
   "source": [
    "### 模型拟合不足（model underfitting）"
   ]
  },
  {
   "cell_type": "markdown",
   "metadata": {
    "slideshow": {
     "slide_type": "fragment"
    }
   },
   "source": [
    "- 生成深度为2的决策树"
   ]
  },
  {
   "cell_type": "code",
   "execution_count": 49,
   "metadata": {
    "slideshow": {
     "slide_type": "fragment"
    }
   },
   "outputs": [
    {
     "data": {
      "image/svg+xml": [
       "<?xml version=\"1.0\" encoding=\"UTF-8\" standalone=\"no\"?>\r\n",
       "<!DOCTYPE svg PUBLIC \"-//W3C//DTD SVG 1.1//EN\"\r\n",
       " \"http://www.w3.org/Graphics/SVG/1.1/DTD/svg11.dtd\">\r\n",
       "<!-- Generated by graphviz version 2.38.0 (20140413.2041)\r\n",
       " -->\r\n",
       "<!-- Title: Tree Pages: 1 -->\r\n",
       "<svg width=\"475pt\" height=\"269pt\"\r\n",
       " viewBox=\"0.00 0.00 475.00 269.00\" xmlns=\"http://www.w3.org/2000/svg\" xmlns:xlink=\"http://www.w3.org/1999/xlink\">\r\n",
       "<g id=\"graph0\" class=\"graph\" transform=\"scale(1 1) rotate(0) translate(4 265)\">\r\n",
       "<title>Tree</title>\r\n",
       "<polygon fill=\"white\" stroke=\"none\" points=\"-4,4 -4,-265 471,-265 471,4 -4,4\"/>\r\n",
       "<!-- 0 -->\r\n",
       "<g id=\"node1\" class=\"node\"><title>0</title>\r\n",
       "<polygon fill=\"#e58139\" fill-opacity=\"0.086275\" stroke=\"black\" points=\"283,-261 165,-261 165,-193 283,-193 283,-261\"/>\r\n",
       "<text text-anchor=\"middle\" x=\"224\" y=\"-245.8\" font-family=\"Times New Roman,serif\" font-size=\"14.00\">X[0] &lt;= 3.253</text>\r\n",
       "<text text-anchor=\"middle\" x=\"224\" y=\"-230.8\" font-family=\"Times New Roman,serif\" font-size=\"14.00\">gini = 0.499</text>\r\n",
       "<text text-anchor=\"middle\" x=\"224\" y=\"-215.8\" font-family=\"Times New Roman,serif\" font-size=\"14.00\">samples = 450</text>\r\n",
       "<text text-anchor=\"middle\" x=\"224\" y=\"-200.8\" font-family=\"Times New Roman,serif\" font-size=\"14.00\">value = [235, 215]</text>\r\n",
       "</g>\r\n",
       "<!-- 1 -->\r\n",
       "<g id=\"node2\" class=\"node\"><title>1</title>\r\n",
       "<polygon fill=\"#e58139\" fill-opacity=\"0.941176\" stroke=\"black\" points=\"210,-157 112,-157 112,-89 210,-89 210,-157\"/>\r\n",
       "<text text-anchor=\"middle\" x=\"161\" y=\"-141.8\" font-family=\"Times New Roman,serif\" font-size=\"14.00\">X[0] &lt;= 2.213</text>\r\n",
       "<text text-anchor=\"middle\" x=\"161\" y=\"-126.8\" font-family=\"Times New Roman,serif\" font-size=\"14.00\">gini = 0.108</text>\r\n",
       "<text text-anchor=\"middle\" x=\"161\" y=\"-111.8\" font-family=\"Times New Roman,serif\" font-size=\"14.00\">samples = 35</text>\r\n",
       "<text text-anchor=\"middle\" x=\"161\" y=\"-96.8\" font-family=\"Times New Roman,serif\" font-size=\"14.00\">value = [33, 2]</text>\r\n",
       "</g>\r\n",
       "<!-- 0&#45;&gt;1 -->\r\n",
       "<g id=\"edge1\" class=\"edge\"><title>0&#45;&gt;1</title>\r\n",
       "<path fill=\"none\" stroke=\"black\" d=\"M203.546,-192.884C198.264,-184.332 192.508,-175.013 186.986,-166.072\"/>\r\n",
       "<polygon fill=\"black\" stroke=\"black\" points=\"189.8,-163.968 181.567,-157.299 183.844,-167.647 189.8,-163.968\"/>\r\n",
       "<text text-anchor=\"middle\" x=\"175.817\" y=\"-177.929\" font-family=\"Times New Roman,serif\" font-size=\"14.00\">True</text>\r\n",
       "</g>\r\n",
       "<!-- 4 -->\r\n",
       "<g id=\"node5\" class=\"node\"><title>4</title>\r\n",
       "<polygon fill=\"#399de5\" fill-opacity=\"0.050980\" stroke=\"black\" points=\"346,-157 228,-157 228,-89 346,-89 346,-157\"/>\r\n",
       "<text text-anchor=\"middle\" x=\"287\" y=\"-141.8\" font-family=\"Times New Roman,serif\" font-size=\"14.00\">X[0] &lt;= 15.401</text>\r\n",
       "<text text-anchor=\"middle\" x=\"287\" y=\"-126.8\" font-family=\"Times New Roman,serif\" font-size=\"14.00\">gini = 0.5</text>\r\n",
       "<text text-anchor=\"middle\" x=\"287\" y=\"-111.8\" font-family=\"Times New Roman,serif\" font-size=\"14.00\">samples = 415</text>\r\n",
       "<text text-anchor=\"middle\" x=\"287\" y=\"-96.8\" font-family=\"Times New Roman,serif\" font-size=\"14.00\">value = [202, 213]</text>\r\n",
       "</g>\r\n",
       "<!-- 0&#45;&gt;4 -->\r\n",
       "<g id=\"edge4\" class=\"edge\"><title>0&#45;&gt;4</title>\r\n",
       "<path fill=\"none\" stroke=\"black\" d=\"M244.454,-192.884C249.736,-184.332 255.492,-175.013 261.014,-166.072\"/>\r\n",
       "<polygon fill=\"black\" stroke=\"black\" points=\"264.156,-167.647 266.433,-157.299 258.2,-163.968 264.156,-167.647\"/>\r\n",
       "<text text-anchor=\"middle\" x=\"272.183\" y=\"-177.929\" font-family=\"Times New Roman,serif\" font-size=\"14.00\">False</text>\r\n",
       "</g>\r\n",
       "<!-- 2 -->\r\n",
       "<g id=\"node3\" class=\"node\"><title>2</title>\r\n",
       "<polygon fill=\"#e58139\" stroke=\"black\" points=\"98,-53 0,-53 0,-0 98,-0 98,-53\"/>\r\n",
       "<text text-anchor=\"middle\" x=\"49\" y=\"-37.8\" font-family=\"Times New Roman,serif\" font-size=\"14.00\">gini = 0.0</text>\r\n",
       "<text text-anchor=\"middle\" x=\"49\" y=\"-22.8\" font-family=\"Times New Roman,serif\" font-size=\"14.00\">samples = 24</text>\r\n",
       "<text text-anchor=\"middle\" x=\"49\" y=\"-7.8\" font-family=\"Times New Roman,serif\" font-size=\"14.00\">value = [24, 0]</text>\r\n",
       "</g>\r\n",
       "<!-- 1&#45;&gt;2 -->\r\n",
       "<g id=\"edge2\" class=\"edge\"><title>1&#45;&gt;2</title>\r\n",
       "<path fill=\"none\" stroke=\"black\" d=\"M121.828,-88.9485C110.66,-79.526 98.5089,-69.2731 87.3888,-59.8906\"/>\r\n",
       "<polygon fill=\"black\" stroke=\"black\" points=\"89.4028,-57.0104 79.5028,-53.2367 84.8886,-62.3605 89.4028,-57.0104\"/>\r\n",
       "</g>\r\n",
       "<!-- 3 -->\r\n",
       "<g id=\"node4\" class=\"node\"><title>3</title>\r\n",
       "<polygon fill=\"#e58139\" fill-opacity=\"0.776471\" stroke=\"black\" points=\"207.5,-53 116.5,-53 116.5,-0 207.5,-0 207.5,-53\"/>\r\n",
       "<text text-anchor=\"middle\" x=\"162\" y=\"-37.8\" font-family=\"Times New Roman,serif\" font-size=\"14.00\">gini = 0.298</text>\r\n",
       "<text text-anchor=\"middle\" x=\"162\" y=\"-22.8\" font-family=\"Times New Roman,serif\" font-size=\"14.00\">samples = 11</text>\r\n",
       "<text text-anchor=\"middle\" x=\"162\" y=\"-7.8\" font-family=\"Times New Roman,serif\" font-size=\"14.00\">value = [9, 2]</text>\r\n",
       "</g>\r\n",
       "<!-- 1&#45;&gt;3 -->\r\n",
       "<g id=\"edge3\" class=\"edge\"><title>1&#45;&gt;3</title>\r\n",
       "<path fill=\"none\" stroke=\"black\" d=\"M161.35,-88.9485C161.437,-80.7153 161.531,-71.848 161.619,-63.4814\"/>\r\n",
       "<polygon fill=\"black\" stroke=\"black\" points=\"165.122,-63.2732 161.728,-53.2367 158.122,-63.1991 165.122,-63.2732\"/>\r\n",
       "</g>\r\n",
       "<!-- 5 -->\r\n",
       "<g id=\"node6\" class=\"node\"><title>5</title>\r\n",
       "<polygon fill=\"#399de5\" fill-opacity=\"0.266667\" stroke=\"black\" points=\"345,-53 227,-53 227,-0 345,-0 345,-53\"/>\r\n",
       "<text text-anchor=\"middle\" x=\"286\" y=\"-37.8\" font-family=\"Times New Roman,serif\" font-size=\"14.00\">gini = 0.488</text>\r\n",
       "<text text-anchor=\"middle\" x=\"286\" y=\"-22.8\" font-family=\"Times New Roman,serif\" font-size=\"14.00\">samples = 345</text>\r\n",
       "<text text-anchor=\"middle\" x=\"286\" y=\"-7.8\" font-family=\"Times New Roman,serif\" font-size=\"14.00\">value = [146, 199]</text>\r\n",
       "</g>\r\n",
       "<!-- 4&#45;&gt;5 -->\r\n",
       "<g id=\"edge5\" class=\"edge\"><title>4&#45;&gt;5</title>\r\n",
       "<path fill=\"none\" stroke=\"black\" d=\"M286.65,-88.9485C286.563,-80.7153 286.469,-71.848 286.381,-63.4814\"/>\r\n",
       "<polygon fill=\"black\" stroke=\"black\" points=\"289.878,-63.1991 286.272,-53.2367 282.878,-63.2732 289.878,-63.1991\"/>\r\n",
       "</g>\r\n",
       "<!-- 6 -->\r\n",
       "<g id=\"node7\" class=\"node\"><title>6</title>\r\n",
       "<polygon fill=\"#e58139\" fill-opacity=\"0.749020\" stroke=\"black\" points=\"467,-53 363,-53 363,-0 467,-0 467,-53\"/>\r\n",
       "<text text-anchor=\"middle\" x=\"415\" y=\"-37.8\" font-family=\"Times New Roman,serif\" font-size=\"14.00\">gini = 0.32</text>\r\n",
       "<text text-anchor=\"middle\" x=\"415\" y=\"-22.8\" font-family=\"Times New Roman,serif\" font-size=\"14.00\">samples = 70</text>\r\n",
       "<text text-anchor=\"middle\" x=\"415\" y=\"-7.8\" font-family=\"Times New Roman,serif\" font-size=\"14.00\">value = [56, 14]</text>\r\n",
       "</g>\r\n",
       "<!-- 4&#45;&gt;6 -->\r\n",
       "<g id=\"edge6\" class=\"edge\"><title>4&#45;&gt;6</title>\r\n",
       "<path fill=\"none\" stroke=\"black\" d=\"M331.768,-88.9485C344.779,-79.3431 358.958,-68.8747 371.866,-59.345\"/>\r\n",
       "<polygon fill=\"black\" stroke=\"black\" points=\"374.173,-61.992 380.14,-53.2367 370.016,-56.3605 374.173,-61.992\"/>\r\n",
       "</g>\r\n",
       "</g>\r\n",
       "</svg>\r\n"
      ],
      "text/plain": [
       "<graphviz.files.Source at 0x11c98128>"
      ]
     },
     "execution_count": 49,
     "metadata": {},
     "output_type": "execute_result"
    }
   ],
   "source": [
    "dt2 = sklearn.tree.DecisionTreeClassifi er(max_depth=2)\n",
    "res2 = dt2.fit(X_train,Y_train)\n",
    "dot2 = tree.export_graphviz(res2, out_file=None,filled=True)\n",
    "graph2 = Source(dot2)\n",
    "graph2"
   ]
  },
  {
   "cell_type": "code",
   "execution_count": 52,
   "metadata": {
    "slideshow": {
     "slide_type": "fragment"
    }
   },
   "outputs": [
    {
     "data": {
      "text/plain": [
       "('2层深度的决策树在训练集上的误差为：0.36', '检验集上的误差为：0.3638095238095238')"
      ]
     },
     "execution_count": 52,
     "metadata": {},
     "output_type": "execute_result"
    }
   ],
   "source": [
    "dt2PredTrain = dt2.predict(X_train)\n",
    "dt2TrainErr = 1 - accuracy_score(Y_train, dt2PredTrain)\n",
    "dt2PredTest = dt2.predict(X_test)\n",
    "dt2TestErr = 1 - accuracy_score(Y_test, dt2PredTest)\n",
    "'2层深度的决策树在训练集上的误差为：{}'.format(dt2TrainErr), '检验集上的误差为：{}'.format(dt2TestErr)"
   ]
  },
  {
   "cell_type": "markdown",
   "metadata": {
    "slideshow": {
     "slide_type": "fragment"
    }
   },
   "source": [
    "> 决策树过小，决策树模型还未学习到数据的真实结构，造成训练和检验错误率都很大"
   ]
  },
  {
   "cell_type": "markdown",
   "metadata": {
    "slideshow": {
     "slide_type": "subslide"
    }
   },
   "source": [
    "- 生成深度为5的决策树"
   ]
  },
  {
   "cell_type": "code",
   "execution_count": 53,
   "metadata": {
    "slideshow": {
     "slide_type": "fragment"
    }
   },
   "outputs": [
    {
     "data": {
      "image/svg+xml": [
       "<?xml version=\"1.0\" encoding=\"UTF-8\" standalone=\"no\"?>\r\n",
       "<!DOCTYPE svg PUBLIC \"-//W3C//DTD SVG 1.1//EN\"\r\n",
       " \"http://www.w3.org/Graphics/SVG/1.1/DTD/svg11.dtd\">\r\n",
       "<!-- Generated by graphviz version 2.38.0 (20140413.2041)\r\n",
       " -->\r\n",
       "<!-- Title: Tree Pages: 1 -->\r\n",
       "<svg width=\"933pt\" height=\"581pt\"\r\n",
       " viewBox=\"0.00 0.00 933.00 581.00\" xmlns=\"http://www.w3.org/2000/svg\" xmlns:xlink=\"http://www.w3.org/1999/xlink\">\r\n",
       "<g id=\"graph0\" class=\"graph\" transform=\"scale(1 1) rotate(0) translate(4 577)\">\r\n",
       "<title>Tree</title>\r\n",
       "<polygon fill=\"white\" stroke=\"none\" points=\"-4,4 -4,-577 929,-577 929,4 -4,4\"/>\r\n",
       "<!-- 0 -->\r\n",
       "<g id=\"node1\" class=\"node\"><title>0</title>\r\n",
       "<polygon fill=\"#e58139\" fill-opacity=\"0.086275\" stroke=\"black\" points=\"348,-573 230,-573 230,-505 348,-505 348,-573\"/>\r\n",
       "<text text-anchor=\"middle\" x=\"289\" y=\"-557.8\" font-family=\"Times New Roman,serif\" font-size=\"14.00\">X[0] &lt;= 3.253</text>\r\n",
       "<text text-anchor=\"middle\" x=\"289\" y=\"-542.8\" font-family=\"Times New Roman,serif\" font-size=\"14.00\">gini = 0.499</text>\r\n",
       "<text text-anchor=\"middle\" x=\"289\" y=\"-527.8\" font-family=\"Times New Roman,serif\" font-size=\"14.00\">samples = 450</text>\r\n",
       "<text text-anchor=\"middle\" x=\"289\" y=\"-512.8\" font-family=\"Times New Roman,serif\" font-size=\"14.00\">value = [235, 215]</text>\r\n",
       "</g>\r\n",
       "<!-- 1 -->\r\n",
       "<g id=\"node2\" class=\"node\"><title>1</title>\r\n",
       "<polygon fill=\"#e58139\" fill-opacity=\"0.941176\" stroke=\"black\" points=\"245,-469 147,-469 147,-401 245,-401 245,-469\"/>\r\n",
       "<text text-anchor=\"middle\" x=\"196\" y=\"-453.8\" font-family=\"Times New Roman,serif\" font-size=\"14.00\">X[0] &lt;= 2.213</text>\r\n",
       "<text text-anchor=\"middle\" x=\"196\" y=\"-438.8\" font-family=\"Times New Roman,serif\" font-size=\"14.00\">gini = 0.108</text>\r\n",
       "<text text-anchor=\"middle\" x=\"196\" y=\"-423.8\" font-family=\"Times New Roman,serif\" font-size=\"14.00\">samples = 35</text>\r\n",
       "<text text-anchor=\"middle\" x=\"196\" y=\"-408.8\" font-family=\"Times New Roman,serif\" font-size=\"14.00\">value = [33, 2]</text>\r\n",
       "</g>\r\n",
       "<!-- 0&#45;&gt;1 -->\r\n",
       "<g id=\"edge1\" class=\"edge\"><title>0&#45;&gt;1</title>\r\n",
       "<path fill=\"none\" stroke=\"black\" d=\"M258.806,-504.884C250.684,-495.976 241.803,-486.235 233.343,-476.957\"/>\r\n",
       "<polygon fill=\"black\" stroke=\"black\" points=\"235.685,-474.331 226.361,-469.299 230.512,-479.047 235.685,-474.331\"/>\r\n",
       "<text text-anchor=\"middle\" x=\"225.209\" y=\"-490.573\" font-family=\"Times New Roman,serif\" font-size=\"14.00\">True</text>\r\n",
       "</g>\r\n",
       "<!-- 6 -->\r\n",
       "<g id=\"node7\" class=\"node\"><title>6</title>\r\n",
       "<polygon fill=\"#399de5\" fill-opacity=\"0.050980\" stroke=\"black\" points=\"442,-469 324,-469 324,-401 442,-401 442,-469\"/>\r\n",
       "<text text-anchor=\"middle\" x=\"383\" y=\"-453.8\" font-family=\"Times New Roman,serif\" font-size=\"14.00\">X[0] &lt;= 15.401</text>\r\n",
       "<text text-anchor=\"middle\" x=\"383\" y=\"-438.8\" font-family=\"Times New Roman,serif\" font-size=\"14.00\">gini = 0.5</text>\r\n",
       "<text text-anchor=\"middle\" x=\"383\" y=\"-423.8\" font-family=\"Times New Roman,serif\" font-size=\"14.00\">samples = 415</text>\r\n",
       "<text text-anchor=\"middle\" x=\"383\" y=\"-408.8\" font-family=\"Times New Roman,serif\" font-size=\"14.00\">value = [202, 213]</text>\r\n",
       "</g>\r\n",
       "<!-- 0&#45;&gt;6 -->\r\n",
       "<g id=\"edge6\" class=\"edge\"><title>0&#45;&gt;6</title>\r\n",
       "<path fill=\"none\" stroke=\"black\" d=\"M319.519,-504.884C327.81,-495.887 336.884,-486.041 345.512,-476.678\"/>\r\n",
       "<polygon fill=\"black\" stroke=\"black\" points=\"348.109,-479.025 352.312,-469.299 342.962,-474.281 348.109,-479.025\"/>\r\n",
       "<text text-anchor=\"middle\" x=\"353.332\" y=\"-490.579\" font-family=\"Times New Roman,serif\" font-size=\"14.00\">False</text>\r\n",
       "</g>\r\n",
       "<!-- 2 -->\r\n",
       "<g id=\"node3\" class=\"node\"><title>2</title>\r\n",
       "<polygon fill=\"#e58139\" stroke=\"black\" points=\"129,-357.5 31,-357.5 31,-304.5 129,-304.5 129,-357.5\"/>\r\n",
       "<text text-anchor=\"middle\" x=\"80\" y=\"-342.3\" font-family=\"Times New Roman,serif\" font-size=\"14.00\">gini = 0.0</text>\r\n",
       "<text text-anchor=\"middle\" x=\"80\" y=\"-327.3\" font-family=\"Times New Roman,serif\" font-size=\"14.00\">samples = 24</text>\r\n",
       "<text text-anchor=\"middle\" x=\"80\" y=\"-312.3\" font-family=\"Times New Roman,serif\" font-size=\"14.00\">value = [24, 0]</text>\r\n",
       "</g>\r\n",
       "<!-- 1&#45;&gt;2 -->\r\n",
       "<g id=\"edge2\" class=\"edge\"><title>1&#45;&gt;2</title>\r\n",
       "<path fill=\"none\" stroke=\"black\" d=\"M158.338,-400.884C144.955,-389.116 129.918,-375.894 116.623,-364.203\"/>\r\n",
       "<polygon fill=\"black\" stroke=\"black\" points=\"118.844,-361.495 109.023,-357.52 114.221,-366.752 118.844,-361.495\"/>\r\n",
       "</g>\r\n",
       "<!-- 3 -->\r\n",
       "<g id=\"node4\" class=\"node\"><title>3</title>\r\n",
       "<polygon fill=\"#e58139\" fill-opacity=\"0.776471\" stroke=\"black\" points=\"244.5,-365 147.5,-365 147.5,-297 244.5,-297 244.5,-365\"/>\r\n",
       "<text text-anchor=\"middle\" x=\"196\" y=\"-349.8\" font-family=\"Times New Roman,serif\" font-size=\"14.00\">X[0] &lt;= 2.351</text>\r\n",
       "<text text-anchor=\"middle\" x=\"196\" y=\"-334.8\" font-family=\"Times New Roman,serif\" font-size=\"14.00\">gini = 0.298</text>\r\n",
       "<text text-anchor=\"middle\" x=\"196\" y=\"-319.8\" font-family=\"Times New Roman,serif\" font-size=\"14.00\">samples = 11</text>\r\n",
       "<text text-anchor=\"middle\" x=\"196\" y=\"-304.8\" font-family=\"Times New Roman,serif\" font-size=\"14.00\">value = [9, 2]</text>\r\n",
       "</g>\r\n",
       "<!-- 1&#45;&gt;3 -->\r\n",
       "<g id=\"edge3\" class=\"edge\"><title>1&#45;&gt;3</title>\r\n",
       "<path fill=\"none\" stroke=\"black\" d=\"M196,-400.884C196,-392.778 196,-383.982 196,-375.472\"/>\r\n",
       "<polygon fill=\"black\" stroke=\"black\" points=\"199.5,-375.299 196,-365.299 192.5,-375.299 199.5,-375.299\"/>\r\n",
       "</g>\r\n",
       "<!-- 4 -->\r\n",
       "<g id=\"node5\" class=\"node\"><title>4</title>\r\n",
       "<polygon fill=\"#399de5\" stroke=\"black\" points=\"132.5,-253.5 41.5,-253.5 41.5,-200.5 132.5,-200.5 132.5,-253.5\"/>\r\n",
       "<text text-anchor=\"middle\" x=\"87\" y=\"-238.3\" font-family=\"Times New Roman,serif\" font-size=\"14.00\">gini = 0.0</text>\r\n",
       "<text text-anchor=\"middle\" x=\"87\" y=\"-223.3\" font-family=\"Times New Roman,serif\" font-size=\"14.00\">samples = 2</text>\r\n",
       "<text text-anchor=\"middle\" x=\"87\" y=\"-208.3\" font-family=\"Times New Roman,serif\" font-size=\"14.00\">value = [0, 2]</text>\r\n",
       "</g>\r\n",
       "<!-- 3&#45;&gt;4 -->\r\n",
       "<g id=\"edge4\" class=\"edge\"><title>3&#45;&gt;4</title>\r\n",
       "<path fill=\"none\" stroke=\"black\" d=\"M160.611,-296.884C148.153,-285.226 134.17,-272.141 121.764,-260.532\"/>\r\n",
       "<polygon fill=\"black\" stroke=\"black\" points=\"123.964,-257.797 114.271,-253.52 119.181,-262.908 123.964,-257.797\"/>\r\n",
       "</g>\r\n",
       "<!-- 5 -->\r\n",
       "<g id=\"node6\" class=\"node\"><title>5</title>\r\n",
       "<polygon fill=\"#e58139\" stroke=\"black\" points=\"241.5,-253.5 150.5,-253.5 150.5,-200.5 241.5,-200.5 241.5,-253.5\"/>\r\n",
       "<text text-anchor=\"middle\" x=\"196\" y=\"-238.3\" font-family=\"Times New Roman,serif\" font-size=\"14.00\">gini = 0.0</text>\r\n",
       "<text text-anchor=\"middle\" x=\"196\" y=\"-223.3\" font-family=\"Times New Roman,serif\" font-size=\"14.00\">samples = 9</text>\r\n",
       "<text text-anchor=\"middle\" x=\"196\" y=\"-208.3\" font-family=\"Times New Roman,serif\" font-size=\"14.00\">value = [9, 0]</text>\r\n",
       "</g>\r\n",
       "<!-- 3&#45;&gt;5 -->\r\n",
       "<g id=\"edge5\" class=\"edge\"><title>3&#45;&gt;5</title>\r\n",
       "<path fill=\"none\" stroke=\"black\" d=\"M196,-296.884C196,-286.326 196,-274.597 196,-263.854\"/>\r\n",
       "<polygon fill=\"black\" stroke=\"black\" points=\"199.5,-263.52 196,-253.52 192.5,-263.52 199.5,-263.52\"/>\r\n",
       "</g>\r\n",
       "<!-- 7 -->\r\n",
       "<g id=\"node8\" class=\"node\"><title>7</title>\r\n",
       "<polygon fill=\"#399de5\" fill-opacity=\"0.266667\" stroke=\"black\" points=\"442,-365 324,-365 324,-297 442,-297 442,-365\"/>\r\n",
       "<text text-anchor=\"middle\" x=\"383\" y=\"-349.8\" font-family=\"Times New Roman,serif\" font-size=\"14.00\">X[1] &lt;= 17.24</text>\r\n",
       "<text text-anchor=\"middle\" x=\"383\" y=\"-334.8\" font-family=\"Times New Roman,serif\" font-size=\"14.00\">gini = 0.488</text>\r\n",
       "<text text-anchor=\"middle\" x=\"383\" y=\"-319.8\" font-family=\"Times New Roman,serif\" font-size=\"14.00\">samples = 345</text>\r\n",
       "<text text-anchor=\"middle\" x=\"383\" y=\"-304.8\" font-family=\"Times New Roman,serif\" font-size=\"14.00\">value = [146, 199]</text>\r\n",
       "</g>\r\n",
       "<!-- 6&#45;&gt;7 -->\r\n",
       "<g id=\"edge7\" class=\"edge\"><title>6&#45;&gt;7</title>\r\n",
       "<path fill=\"none\" stroke=\"black\" d=\"M383,-400.884C383,-392.778 383,-383.982 383,-375.472\"/>\r\n",
       "<polygon fill=\"black\" stroke=\"black\" points=\"386.5,-375.299 383,-365.299 379.5,-375.299 386.5,-375.299\"/>\r\n",
       "</g>\r\n",
       "<!-- 20 -->\r\n",
       "<g id=\"node21\" class=\"node\"><title>20</title>\r\n",
       "<polygon fill=\"#e58139\" fill-opacity=\"0.749020\" stroke=\"black\" points=\"664,-365 560,-365 560,-297 664,-297 664,-365\"/>\r\n",
       "<text text-anchor=\"middle\" x=\"612\" y=\"-349.8\" font-family=\"Times New Roman,serif\" font-size=\"14.00\">X[1] &lt;= 12.728</text>\r\n",
       "<text text-anchor=\"middle\" x=\"612\" y=\"-334.8\" font-family=\"Times New Roman,serif\" font-size=\"14.00\">gini = 0.32</text>\r\n",
       "<text text-anchor=\"middle\" x=\"612\" y=\"-319.8\" font-family=\"Times New Roman,serif\" font-size=\"14.00\">samples = 70</text>\r\n",
       "<text text-anchor=\"middle\" x=\"612\" y=\"-304.8\" font-family=\"Times New Roman,serif\" font-size=\"14.00\">value = [56, 14]</text>\r\n",
       "</g>\r\n",
       "<!-- 6&#45;&gt;20 -->\r\n",
       "<g id=\"edge20\" class=\"edge\"><title>6&#45;&gt;20</title>\r\n",
       "<path fill=\"none\" stroke=\"black\" d=\"M442.271,-407.6C475.583,-392.762 517.096,-374.272 550.728,-359.291\"/>\r\n",
       "<polygon fill=\"black\" stroke=\"black\" points=\"552.281,-362.431 559.992,-355.165 549.433,-356.037 552.281,-362.431\"/>\r\n",
       "</g>\r\n",
       "<!-- 8 -->\r\n",
       "<g id=\"node9\" class=\"node\"><title>8</title>\r\n",
       "<polygon fill=\"#399de5\" fill-opacity=\"0.364706\" stroke=\"black\" points=\"378,-261 260,-261 260,-193 378,-193 378,-261\"/>\r\n",
       "<text text-anchor=\"middle\" x=\"319\" y=\"-245.8\" font-family=\"Times New Roman,serif\" font-size=\"14.00\">X[1] &lt;= 4.779</text>\r\n",
       "<text text-anchor=\"middle\" x=\"319\" y=\"-230.8\" font-family=\"Times New Roman,serif\" font-size=\"14.00\">gini = 0.475</text>\r\n",
       "<text text-anchor=\"middle\" x=\"319\" y=\"-215.8\" font-family=\"Times New Roman,serif\" font-size=\"14.00\">samples = 322</text>\r\n",
       "<text text-anchor=\"middle\" x=\"319\" y=\"-200.8\" font-family=\"Times New Roman,serif\" font-size=\"14.00\">value = [125, 197]</text>\r\n",
       "</g>\r\n",
       "<!-- 7&#45;&gt;8 -->\r\n",
       "<g id=\"edge8\" class=\"edge\"><title>7&#45;&gt;8</title>\r\n",
       "<path fill=\"none\" stroke=\"black\" d=\"M362.221,-296.884C356.8,-288.243 350.887,-278.819 345.223,-269.793\"/>\r\n",
       "<polygon fill=\"black\" stroke=\"black\" points=\"348.173,-267.91 339.894,-261.299 342.244,-271.63 348.173,-267.91\"/>\r\n",
       "</g>\r\n",
       "<!-- 15 -->\r\n",
       "<g id=\"node16\" class=\"node\"><title>15</title>\r\n",
       "<polygon fill=\"#e58139\" fill-opacity=\"0.905882\" stroke=\"black\" points=\"494,-261 396,-261 396,-193 494,-193 494,-261\"/>\r\n",
       "<text text-anchor=\"middle\" x=\"445\" y=\"-245.8\" font-family=\"Times New Roman,serif\" font-size=\"14.00\">X[0] &lt;= 11.47</text>\r\n",
       "<text text-anchor=\"middle\" x=\"445\" y=\"-230.8\" font-family=\"Times New Roman,serif\" font-size=\"14.00\">gini = 0.159</text>\r\n",
       "<text text-anchor=\"middle\" x=\"445\" y=\"-215.8\" font-family=\"Times New Roman,serif\" font-size=\"14.00\">samples = 23</text>\r\n",
       "<text text-anchor=\"middle\" x=\"445\" y=\"-200.8\" font-family=\"Times New Roman,serif\" font-size=\"14.00\">value = [21, 2]</text>\r\n",
       "</g>\r\n",
       "<!-- 7&#45;&gt;15 -->\r\n",
       "<g id=\"edge15\" class=\"edge\"><title>7&#45;&gt;15</title>\r\n",
       "<path fill=\"none\" stroke=\"black\" d=\"M403.13,-296.884C408.327,-288.332 413.992,-279.013 419.427,-270.072\"/>\r\n",
       "<polygon fill=\"black\" stroke=\"black\" points=\"422.556,-271.663 424.759,-261.299 416.574,-268.027 422.556,-271.663\"/>\r\n",
       "</g>\r\n",
       "<!-- 9 -->\r\n",
       "<g id=\"node10\" class=\"node\"><title>9</title>\r\n",
       "<polygon fill=\"#e58139\" fill-opacity=\"0.600000\" stroke=\"black\" points=\"220,-157 116,-157 116,-89 220,-89 220,-157\"/>\r\n",
       "<text text-anchor=\"middle\" x=\"168\" y=\"-141.8\" font-family=\"Times New Roman,serif\" font-size=\"14.00\">X[0] &lt;= 6.589</text>\r\n",
       "<text text-anchor=\"middle\" x=\"168\" y=\"-126.8\" font-family=\"Times New Roman,serif\" font-size=\"14.00\">gini = 0.408</text>\r\n",
       "<text text-anchor=\"middle\" x=\"168\" y=\"-111.8\" font-family=\"Times New Roman,serif\" font-size=\"14.00\">samples = 49</text>\r\n",
       "<text text-anchor=\"middle\" x=\"168\" y=\"-96.8\" font-family=\"Times New Roman,serif\" font-size=\"14.00\">value = [35, 14]</text>\r\n",
       "</g>\r\n",
       "<!-- 8&#45;&gt;9 -->\r\n",
       "<g id=\"edge9\" class=\"edge\"><title>8&#45;&gt;9</title>\r\n",
       "<path fill=\"none\" stroke=\"black\" d=\"M269.975,-192.884C255.793,-183.304 240.185,-172.761 225.535,-162.864\"/>\r\n",
       "<polygon fill=\"black\" stroke=\"black\" points=\"227.283,-159.822 217.038,-157.125 223.365,-165.623 227.283,-159.822\"/>\r\n",
       "</g>\r\n",
       "<!-- 12 -->\r\n",
       "<g id=\"node13\" class=\"node\"><title>12</title>\r\n",
       "<polygon fill=\"#399de5\" fill-opacity=\"0.509804\" stroke=\"black\" points=\"374.5,-157 263.5,-157 263.5,-89 374.5,-89 374.5,-157\"/>\r\n",
       "<text text-anchor=\"middle\" x=\"319\" y=\"-141.8\" font-family=\"Times New Roman,serif\" font-size=\"14.00\">X[1] &lt;= 11.911</text>\r\n",
       "<text text-anchor=\"middle\" x=\"319\" y=\"-126.8\" font-family=\"Times New Roman,serif\" font-size=\"14.00\">gini = 0.442</text>\r\n",
       "<text text-anchor=\"middle\" x=\"319\" y=\"-111.8\" font-family=\"Times New Roman,serif\" font-size=\"14.00\">samples = 273</text>\r\n",
       "<text text-anchor=\"middle\" x=\"319\" y=\"-96.8\" font-family=\"Times New Roman,serif\" font-size=\"14.00\">value = [90, 183]</text>\r\n",
       "</g>\r\n",
       "<!-- 8&#45;&gt;12 -->\r\n",
       "<g id=\"edge12\" class=\"edge\"><title>8&#45;&gt;12</title>\r\n",
       "<path fill=\"none\" stroke=\"black\" d=\"M319,-192.884C319,-184.778 319,-175.982 319,-167.472\"/>\r\n",
       "<polygon fill=\"black\" stroke=\"black\" points=\"322.5,-167.299 319,-157.299 315.5,-167.299 322.5,-167.299\"/>\r\n",
       "</g>\r\n",
       "<!-- 10 -->\r\n",
       "<g id=\"node11\" class=\"node\"><title>10</title>\r\n",
       "<polygon fill=\"#e58139\" stroke=\"black\" points=\"98,-53 0,-53 0,-0 98,-0 98,-53\"/>\r\n",
       "<text text-anchor=\"middle\" x=\"49\" y=\"-37.8\" font-family=\"Times New Roman,serif\" font-size=\"14.00\">gini = 0.0</text>\r\n",
       "<text text-anchor=\"middle\" x=\"49\" y=\"-22.8\" font-family=\"Times New Roman,serif\" font-size=\"14.00\">samples = 12</text>\r\n",
       "<text text-anchor=\"middle\" x=\"49\" y=\"-7.8\" font-family=\"Times New Roman,serif\" font-size=\"14.00\">value = [12, 0]</text>\r\n",
       "</g>\r\n",
       "<!-- 9&#45;&gt;10 -->\r\n",
       "<g id=\"edge10\" class=\"edge\"><title>9&#45;&gt;10</title>\r\n",
       "<path fill=\"none\" stroke=\"black\" d=\"M126.38,-88.9485C114.399,-79.4346 101.352,-69.074 89.4443,-59.6175\"/>\r\n",
       "<polygon fill=\"black\" stroke=\"black\" points=\"91.4169,-56.7147 81.4092,-53.2367 87.0637,-62.1965 91.4169,-56.7147\"/>\r\n",
       "</g>\r\n",
       "<!-- 11 -->\r\n",
       "<g id=\"node12\" class=\"node\"><title>11</title>\r\n",
       "<polygon fill=\"#e58139\" fill-opacity=\"0.392157\" stroke=\"black\" points=\"220,-53 116,-53 116,-0 220,-0 220,-53\"/>\r\n",
       "<text text-anchor=\"middle\" x=\"168\" y=\"-37.8\" font-family=\"Times New Roman,serif\" font-size=\"14.00\">gini = 0.47</text>\r\n",
       "<text text-anchor=\"middle\" x=\"168\" y=\"-22.8\" font-family=\"Times New Roman,serif\" font-size=\"14.00\">samples = 37</text>\r\n",
       "<text text-anchor=\"middle\" x=\"168\" y=\"-7.8\" font-family=\"Times New Roman,serif\" font-size=\"14.00\">value = [23, 14]</text>\r\n",
       "</g>\r\n",
       "<!-- 9&#45;&gt;11 -->\r\n",
       "<g id=\"edge11\" class=\"edge\"><title>9&#45;&gt;11</title>\r\n",
       "<path fill=\"none\" stroke=\"black\" d=\"M168,-88.9485C168,-80.7153 168,-71.848 168,-63.4814\"/>\r\n",
       "<polygon fill=\"black\" stroke=\"black\" points=\"171.5,-63.2367 168,-53.2367 164.5,-63.2367 171.5,-63.2367\"/>\r\n",
       "</g>\r\n",
       "<!-- 13 -->\r\n",
       "<g id=\"node14\" class=\"node\"><title>13</title>\r\n",
       "<polygon fill=\"#399de5\" fill-opacity=\"0.301961\" stroke=\"black\" points=\"342,-53 238,-53 238,-0 342,-0 342,-53\"/>\r\n",
       "<text text-anchor=\"middle\" x=\"290\" y=\"-37.8\" font-family=\"Times New Roman,serif\" font-size=\"14.00\">gini = 0.484</text>\r\n",
       "<text text-anchor=\"middle\" x=\"290\" y=\"-22.8\" font-family=\"Times New Roman,serif\" font-size=\"14.00\">samples = 134</text>\r\n",
       "<text text-anchor=\"middle\" x=\"290\" y=\"-7.8\" font-family=\"Times New Roman,serif\" font-size=\"14.00\">value = [55, 79]</text>\r\n",
       "</g>\r\n",
       "<!-- 12&#45;&gt;13 -->\r\n",
       "<g id=\"edge13\" class=\"edge\"><title>12&#45;&gt;13</title>\r\n",
       "<path fill=\"none\" stroke=\"black\" d=\"M308.857,-88.9485C306.274,-80.5323 303.488,-71.4536 300.871,-62.9243\"/>\r\n",
       "<polygon fill=\"black\" stroke=\"black\" points=\"304.178,-61.7698 297.898,-53.2367 297.486,-63.8235 304.178,-61.7698\"/>\r\n",
       "</g>\r\n",
       "<!-- 14 -->\r\n",
       "<g id=\"node15\" class=\"node\"><title>14</title>\r\n",
       "<polygon fill=\"#399de5\" fill-opacity=\"0.662745\" stroke=\"black\" points=\"471.5,-53 360.5,-53 360.5,-0 471.5,-0 471.5,-53\"/>\r\n",
       "<text text-anchor=\"middle\" x=\"416\" y=\"-37.8\" font-family=\"Times New Roman,serif\" font-size=\"14.00\">gini = 0.377</text>\r\n",
       "<text text-anchor=\"middle\" x=\"416\" y=\"-22.8\" font-family=\"Times New Roman,serif\" font-size=\"14.00\">samples = 139</text>\r\n",
       "<text text-anchor=\"middle\" x=\"416\" y=\"-7.8\" font-family=\"Times New Roman,serif\" font-size=\"14.00\">value = [35, 104]</text>\r\n",
       "</g>\r\n",
       "<!-- 12&#45;&gt;14 -->\r\n",
       "<g id=\"edge14\" class=\"edge\"><title>12&#45;&gt;14</title>\r\n",
       "<path fill=\"none\" stroke=\"black\" d=\"M352.926,-88.9485C362.41,-79.709 372.713,-69.671 382.191,-60.4381\"/>\r\n",
       "<polygon fill=\"black\" stroke=\"black\" points=\"384.862,-62.7219 389.582,-53.2367 379.977,-57.7079 384.862,-62.7219\"/>\r\n",
       "</g>\r\n",
       "<!-- 16 -->\r\n",
       "<g id=\"node17\" class=\"node\"><title>16</title>\r\n",
       "<polygon fill=\"#e58139\" stroke=\"black\" points=\"492,-149.5 394,-149.5 394,-96.5 492,-96.5 492,-149.5\"/>\r\n",
       "<text text-anchor=\"middle\" x=\"443\" y=\"-134.3\" font-family=\"Times New Roman,serif\" font-size=\"14.00\">gini = 0.0</text>\r\n",
       "<text text-anchor=\"middle\" x=\"443\" y=\"-119.3\" font-family=\"Times New Roman,serif\" font-size=\"14.00\">samples = 19</text>\r\n",
       "<text text-anchor=\"middle\" x=\"443\" y=\"-104.3\" font-family=\"Times New Roman,serif\" font-size=\"14.00\">value = [19, 0]</text>\r\n",
       "</g>\r\n",
       "<!-- 15&#45;&gt;16 -->\r\n",
       "<g id=\"edge16\" class=\"edge\"><title>15&#45;&gt;16</title>\r\n",
       "<path fill=\"none\" stroke=\"black\" d=\"M444.351,-192.884C444.141,-182.216 443.909,-170.352 443.696,-159.519\"/>\r\n",
       "<polygon fill=\"black\" stroke=\"black\" points=\"447.196,-159.449 443.5,-149.52 440.197,-159.587 447.196,-159.449\"/>\r\n",
       "</g>\r\n",
       "<!-- 17 -->\r\n",
       "<g id=\"node18\" class=\"node\"><title>17</title>\r\n",
       "<polygon fill=\"none\" stroke=\"black\" points=\"614,-157 510,-157 510,-89 614,-89 614,-157\"/>\r\n",
       "<text text-anchor=\"middle\" x=\"562\" y=\"-141.8\" font-family=\"Times New Roman,serif\" font-size=\"14.00\">X[0] &lt;= 11.885</text>\r\n",
       "<text text-anchor=\"middle\" x=\"562\" y=\"-126.8\" font-family=\"Times New Roman,serif\" font-size=\"14.00\">gini = 0.5</text>\r\n",
       "<text text-anchor=\"middle\" x=\"562\" y=\"-111.8\" font-family=\"Times New Roman,serif\" font-size=\"14.00\">samples = 4</text>\r\n",
       "<text text-anchor=\"middle\" x=\"562\" y=\"-96.8\" font-family=\"Times New Roman,serif\" font-size=\"14.00\">value = [2, 2]</text>\r\n",
       "</g>\r\n",
       "<!-- 15&#45;&gt;17 -->\r\n",
       "<g id=\"edge17\" class=\"edge\"><title>15&#45;&gt;17</title>\r\n",
       "<path fill=\"none\" stroke=\"black\" d=\"M482.987,-192.884C493.51,-183.709 505.048,-173.65 515.977,-164.123\"/>\r\n",
       "<polygon fill=\"black\" stroke=\"black\" points=\"518.566,-166.509 523.804,-157.299 513.966,-161.233 518.566,-166.509\"/>\r\n",
       "</g>\r\n",
       "<!-- 18 -->\r\n",
       "<g id=\"node19\" class=\"node\"><title>18</title>\r\n",
       "<polygon fill=\"#399de5\" stroke=\"black\" points=\"580.5,-53 489.5,-53 489.5,-0 580.5,-0 580.5,-53\"/>\r\n",
       "<text text-anchor=\"middle\" x=\"535\" y=\"-37.8\" font-family=\"Times New Roman,serif\" font-size=\"14.00\">gini = 0.0</text>\r\n",
       "<text text-anchor=\"middle\" x=\"535\" y=\"-22.8\" font-family=\"Times New Roman,serif\" font-size=\"14.00\">samples = 2</text>\r\n",
       "<text text-anchor=\"middle\" x=\"535\" y=\"-7.8\" font-family=\"Times New Roman,serif\" font-size=\"14.00\">value = [0, 2]</text>\r\n",
       "</g>\r\n",
       "<!-- 17&#45;&gt;18 -->\r\n",
       "<g id=\"edge18\" class=\"edge\"><title>17&#45;&gt;18</title>\r\n",
       "<path fill=\"none\" stroke=\"black\" d=\"M552.557,-88.9485C550.152,-80.5323 547.558,-71.4536 545.121,-62.9243\"/>\r\n",
       "<polygon fill=\"black\" stroke=\"black\" points=\"548.466,-61.8904 542.353,-53.2367 541.735,-63.8135 548.466,-61.8904\"/>\r\n",
       "</g>\r\n",
       "<!-- 19 -->\r\n",
       "<g id=\"node20\" class=\"node\"><title>19</title>\r\n",
       "<polygon fill=\"#e58139\" stroke=\"black\" points=\"689.5,-53 598.5,-53 598.5,-0 689.5,-0 689.5,-53\"/>\r\n",
       "<text text-anchor=\"middle\" x=\"644\" y=\"-37.8\" font-family=\"Times New Roman,serif\" font-size=\"14.00\">gini = 0.0</text>\r\n",
       "<text text-anchor=\"middle\" x=\"644\" y=\"-22.8\" font-family=\"Times New Roman,serif\" font-size=\"14.00\">samples = 2</text>\r\n",
       "<text text-anchor=\"middle\" x=\"644\" y=\"-7.8\" font-family=\"Times New Roman,serif\" font-size=\"14.00\">value = [2, 0]</text>\r\n",
       "</g>\r\n",
       "<!-- 17&#45;&gt;19 -->\r\n",
       "<g id=\"edge19\" class=\"edge\"><title>17&#45;&gt;19</title>\r\n",
       "<path fill=\"none\" stroke=\"black\" d=\"M590.68,-88.9485C598.538,-79.892 607.062,-70.0682 614.942,-60.9875\"/>\r\n",
       "<polygon fill=\"black\" stroke=\"black\" points=\"617.757,-63.0835 621.668,-53.2367 612.47,-58.4958 617.757,-63.0835\"/>\r\n",
       "</g>\r\n",
       "<!-- 21 -->\r\n",
       "<g id=\"node22\" class=\"node\"><title>21</title>\r\n",
       "<polygon fill=\"#e58139\" stroke=\"black\" points=\"661,-253.5 563,-253.5 563,-200.5 661,-200.5 661,-253.5\"/>\r\n",
       "<text text-anchor=\"middle\" x=\"612\" y=\"-238.3\" font-family=\"Times New Roman,serif\" font-size=\"14.00\">gini = 0.0</text>\r\n",
       "<text text-anchor=\"middle\" x=\"612\" y=\"-223.3\" font-family=\"Times New Roman,serif\" font-size=\"14.00\">samples = 33</text>\r\n",
       "<text text-anchor=\"middle\" x=\"612\" y=\"-208.3\" font-family=\"Times New Roman,serif\" font-size=\"14.00\">value = [33, 0]</text>\r\n",
       "</g>\r\n",
       "<!-- 20&#45;&gt;21 -->\r\n",
       "<g id=\"edge21\" class=\"edge\"><title>20&#45;&gt;21</title>\r\n",
       "<path fill=\"none\" stroke=\"black\" d=\"M612,-296.884C612,-286.326 612,-274.597 612,-263.854\"/>\r\n",
       "<polygon fill=\"black\" stroke=\"black\" points=\"615.5,-263.52 612,-253.52 608.5,-263.52 615.5,-263.52\"/>\r\n",
       "</g>\r\n",
       "<!-- 22 -->\r\n",
       "<g id=\"node23\" class=\"node\"><title>22</title>\r\n",
       "<polygon fill=\"#e58139\" fill-opacity=\"0.392157\" stroke=\"black\" points=\"809,-261 705,-261 705,-193 809,-193 809,-261\"/>\r\n",
       "<text text-anchor=\"middle\" x=\"757\" y=\"-245.8\" font-family=\"Times New Roman,serif\" font-size=\"14.00\">X[0] &lt;= 18.629</text>\r\n",
       "<text text-anchor=\"middle\" x=\"757\" y=\"-230.8\" font-family=\"Times New Roman,serif\" font-size=\"14.00\">gini = 0.47</text>\r\n",
       "<text text-anchor=\"middle\" x=\"757\" y=\"-215.8\" font-family=\"Times New Roman,serif\" font-size=\"14.00\">samples = 37</text>\r\n",
       "<text text-anchor=\"middle\" x=\"757\" y=\"-200.8\" font-family=\"Times New Roman,serif\" font-size=\"14.00\">value = [23, 14]</text>\r\n",
       "</g>\r\n",
       "<!-- 20&#45;&gt;22 -->\r\n",
       "<g id=\"edge22\" class=\"edge\"><title>20&#45;&gt;22</title>\r\n",
       "<path fill=\"none\" stroke=\"black\" d=\"M659.077,-296.884C672.5,-287.442 687.253,-277.064 701.144,-267.292\"/>\r\n",
       "<polygon fill=\"black\" stroke=\"black\" points=\"703.497,-269.916 709.663,-261.299 699.47,-264.19 703.497,-269.916\"/>\r\n",
       "</g>\r\n",
       "<!-- 23 -->\r\n",
       "<g id=\"node24\" class=\"node\"><title>23</title>\r\n",
       "<polygon fill=\"#399de5\" fill-opacity=\"0.070588\" stroke=\"black\" points=\"809,-157 705,-157 705,-89 809,-89 809,-157\"/>\r\n",
       "<text text-anchor=\"middle\" x=\"757\" y=\"-141.8\" font-family=\"Times New Roman,serif\" font-size=\"14.00\">X[1] &lt;= 17.295</text>\r\n",
       "<text text-anchor=\"middle\" x=\"757\" y=\"-126.8\" font-family=\"Times New Roman,serif\" font-size=\"14.00\">gini = 0.499</text>\r\n",
       "<text text-anchor=\"middle\" x=\"757\" y=\"-111.8\" font-family=\"Times New Roman,serif\" font-size=\"14.00\">samples = 27</text>\r\n",
       "<text text-anchor=\"middle\" x=\"757\" y=\"-96.8\" font-family=\"Times New Roman,serif\" font-size=\"14.00\">value = [13, 14]</text>\r\n",
       "</g>\r\n",
       "<!-- 22&#45;&gt;23 -->\r\n",
       "<g id=\"edge23\" class=\"edge\"><title>22&#45;&gt;23</title>\r\n",
       "<path fill=\"none\" stroke=\"black\" d=\"M757,-192.884C757,-184.778 757,-175.982 757,-167.472\"/>\r\n",
       "<polygon fill=\"black\" stroke=\"black\" points=\"760.5,-167.299 757,-157.299 753.5,-167.299 760.5,-167.299\"/>\r\n",
       "</g>\r\n",
       "<!-- 26 -->\r\n",
       "<g id=\"node27\" class=\"node\"><title>26</title>\r\n",
       "<polygon fill=\"#e58139\" stroke=\"black\" points=\"925,-149.5 827,-149.5 827,-96.5 925,-96.5 925,-149.5\"/>\r\n",
       "<text text-anchor=\"middle\" x=\"876\" y=\"-134.3\" font-family=\"Times New Roman,serif\" font-size=\"14.00\">gini = 0.0</text>\r\n",
       "<text text-anchor=\"middle\" x=\"876\" y=\"-119.3\" font-family=\"Times New Roman,serif\" font-size=\"14.00\">samples = 10</text>\r\n",
       "<text text-anchor=\"middle\" x=\"876\" y=\"-104.3\" font-family=\"Times New Roman,serif\" font-size=\"14.00\">value = [10, 0]</text>\r\n",
       "</g>\r\n",
       "<!-- 22&#45;&gt;26 -->\r\n",
       "<g id=\"edge26\" class=\"edge\"><title>22&#45;&gt;26</title>\r\n",
       "<path fill=\"none\" stroke=\"black\" d=\"M795.636,-192.884C809.365,-181.116 824.791,-167.894 838.429,-156.203\"/>\r\n",
       "<polygon fill=\"black\" stroke=\"black\" points=\"840.912,-158.685 846.227,-149.52 836.356,-153.37 840.912,-158.685\"/>\r\n",
       "</g>\r\n",
       "<!-- 24 -->\r\n",
       "<g id=\"node25\" class=\"node\"><title>24</title>\r\n",
       "<polygon fill=\"#399de5\" fill-opacity=\"0.498039\" stroke=\"black\" points=\"806,-53 708,-53 708,-0 806,-0 806,-53\"/>\r\n",
       "<text text-anchor=\"middle\" x=\"757\" y=\"-37.8\" font-family=\"Times New Roman,serif\" font-size=\"14.00\">gini = 0.444</text>\r\n",
       "<text text-anchor=\"middle\" x=\"757\" y=\"-22.8\" font-family=\"Times New Roman,serif\" font-size=\"14.00\">samples = 21</text>\r\n",
       "<text text-anchor=\"middle\" x=\"757\" y=\"-7.8\" font-family=\"Times New Roman,serif\" font-size=\"14.00\">value = [7, 14]</text>\r\n",
       "</g>\r\n",
       "<!-- 23&#45;&gt;24 -->\r\n",
       "<g id=\"edge24\" class=\"edge\"><title>23&#45;&gt;24</title>\r\n",
       "<path fill=\"none\" stroke=\"black\" d=\"M757,-88.9485C757,-80.7153 757,-71.848 757,-63.4814\"/>\r\n",
       "<polygon fill=\"black\" stroke=\"black\" points=\"760.5,-63.2367 757,-53.2367 753.5,-63.2367 760.5,-63.2367\"/>\r\n",
       "</g>\r\n",
       "<!-- 25 -->\r\n",
       "<g id=\"node26\" class=\"node\"><title>25</title>\r\n",
       "<polygon fill=\"#e58139\" stroke=\"black\" points=\"915.5,-53 824.5,-53 824.5,-0 915.5,-0 915.5,-53\"/>\r\n",
       "<text text-anchor=\"middle\" x=\"870\" y=\"-37.8\" font-family=\"Times New Roman,serif\" font-size=\"14.00\">gini = 0.0</text>\r\n",
       "<text text-anchor=\"middle\" x=\"870\" y=\"-22.8\" font-family=\"Times New Roman,serif\" font-size=\"14.00\">samples = 6</text>\r\n",
       "<text text-anchor=\"middle\" x=\"870\" y=\"-7.8\" font-family=\"Times New Roman,serif\" font-size=\"14.00\">value = [6, 0]</text>\r\n",
       "</g>\r\n",
       "<!-- 23&#45;&gt;25 -->\r\n",
       "<g id=\"edge25\" class=\"edge\"><title>23&#45;&gt;25</title>\r\n",
       "<path fill=\"none\" stroke=\"black\" d=\"M796.522,-88.9485C807.789,-79.526 820.049,-69.2731 831.268,-59.8906\"/>\r\n",
       "<polygon fill=\"black\" stroke=\"black\" points=\"833.799,-62.3368 839.225,-53.2367 829.308,-56.967 833.799,-62.3368\"/>\r\n",
       "</g>\r\n",
       "</g>\r\n",
       "</svg>\r\n"
      ],
      "text/plain": [
       "<graphviz.files.Source at 0x11d267b8>"
      ]
     },
     "execution_count": 53,
     "metadata": {},
     "output_type": "execute_result"
    }
   ],
   "source": [
    "dt5 = tree.DecisionTreeClassifier(max_depth=5)\n",
    "res5 = dt5.fit(X_train,Y_train)\n",
    "dot5 = tree.export_graphviz(res5, out_file=None, filled=True)\n",
    "graph5 = Source(dot5)\n",
    "graph5"
   ]
  },
  {
   "cell_type": "code",
   "execution_count": 54,
   "metadata": {
    "slideshow": {
     "slide_type": "fragment"
    }
   },
   "outputs": [
    {
     "data": {
      "text/plain": [
       "('5层深度的决策树在训练集上的误差为：0.2466666666666667', '检验集上的误差为：0.30000000000000004')"
      ]
     },
     "execution_count": 54,
     "metadata": {},
     "output_type": "execute_result"
    }
   ],
   "source": [
    "dt5PredTrain = dt5.predict(X_train)\n",
    "dt5TrainErr = 1 - accuracy_score(Y_train, dt5PredTrain)\n",
    "dt5PredTest = dt5.predict(X_test)\n",
    "dt5TestErr = 1 - accuracy_score(Y_test, dt5PredTest)\n",
    "'5层深度的决策树在训练集上的误差为：{}'.format(dt5TrainErr), '检验集上的误差为：{}'.format(dt5TestErr)"
   ]
  },
  {
   "cell_type": "markdown",
   "metadata": {
    "slideshow": {
     "slide_type": "subslide"
    }
   },
   "source": [
    "- 生成不同深度的决策树，比较错误率"
   ]
  },
  {
   "cell_type": "code",
   "execution_count": 58,
   "metadata": {
    "slideshow": {
     "slide_type": "fragment"
    }
   },
   "outputs": [],
   "source": [
    "maxdepths = [2,3,4,5,6,7,8,9,10,15,20,25,30,35 \n",
    "testErr = np.zeros(len(maxdepths))"
   ]
  },
  {
   "cell_type": "code",
   "execution_count": 59,
   "metadata": {
    "slideshow": {
     "slide_type": "fragment"
    }
   },
   "outputs": [],
   "source": [
    "index = 0\n",
    "for depth in maxdepths:\n",
    "    clf = tree.DecisionTreeClassifier(max_depth=depth)\n",
    "    clf = clf.fit(X_train, Y_train)\n",
    "    Y_predTrain = clf.predict(X_train)\n",
    "    Y_predTest = clf.predict(X_test)\n",
    "    trainErr[index] = 1 - accuracy_score(Y_train, Y_predTrain)\n",
    "    testErr[index] = 1 - accuracy_score(Y_test, Y_predTest)\n",
    "    index += 1"
   ]
  },
  {
   "cell_type": "code",
   "execution_count": 60,
   "metadata": {
    "scrolled": true,
    "slideshow": {
     "slide_type": "fragment"
    }
   },
   "outputs": [
    {
     "data": {
      "text/plain": [
       "<Figure size 864x432 with 0 Axes>"
      ]
     },
     "execution_count": 60,
     "metadata": {},
     "output_type": "execute_result"
    },
    {
     "data": {
      "text/plain": [
       "[<matplotlib.lines.Line2D at 0x114f98d0>,\n",
       " <matplotlib.lines.Line2D at 0x11db8ba8>]"
      ]
     },
     "execution_count": 60,
     "metadata": {},
     "output_type": "execute_result"
    },
    {
     "data": {
      "text/plain": [
       "<matplotlib.legend.Legend at 0x1222d320>"
      ]
     },
     "execution_count": 60,
     "metadata": {},
     "output_type": "execute_result"
    },
    {
     "data": {
      "text/plain": [
       "Text(0.5, 0, 'Max depth (number of nodes)')"
      ]
     },
     "execution_count": 60,
     "metadata": {},
     "output_type": "execute_result"
    },
    {
     "data": {
      "text/plain": [
       "Text(0, 0.5, 'Error rate')"
      ]
     },
     "execution_count": 60,
     "metadata": {},
     "output_type": "execute_result"
    },
    {
     "data": {
      "image/png": "[encoded data removed]",
      "text/plain": [
       "<Figure size 864x432 with 1 Axes>"
      ]
     },
     "metadata": {
      "needs_background": "light"
     },
     "output_type": "display_data"
    }
   ],
   "source": [
    "plt.figure(figsize=(12,6)) ainErr,'ro-',maxdepths,testErr,'bv--')\n",
    "plt.legend(['Training Error Rate','Test Error Rate'])\n",
    "plt.xlabel('Max depth (number of nodes)')\n",
    "plt.ylabel('Error rate')"
   ]
  },
  {
   "cell_type": "markdown",
   "metadata": {
    "slideshow": {
     "slide_type": "slide"
    }
   },
   "source": [
    "### 过分拟合"
   ]
  },
  {
   "cell_type": "markdown",
   "metadata": {
    "slideshow": {
     "slide_type": "fragment"
    }
   },
   "source": [
    "- 一个对训练集过度匹配的分类模型可以取得非常低的训练误差，但是其泛化误差却高于训练误差，这种现象被称作模型的过分拟合（model overfitting）"
   ]
  },
  {
   "cell_type": "markdown",
   "metadata": {
    "slideshow": {
     "slide_type": "fragment"
    }
   },
   "source": [
    "- 随着分类模型**复杂度**（complexity）的增加，训练误差会持续降低，但是这种模型会匹配了训练集中存在的噪声，从而导致较高的泛化误差"
   ]
  },
  {
   "cell_type": "markdown",
   "metadata": {
    "slideshow": {
     "slide_type": "subslide"
    }
   },
   "source": [
    "### 过分拟合的原因"
   ]
  },
  {
   "cell_type": "markdown",
   "metadata": {
    "slideshow": {
     "slide_type": "fragment"
    }
   },
   "source": [
    "- 训练集存在**噪声**\n",
    "    + 错误分类的数据会干扰分类模型的构建准则"
   ]
  },
  {
   "cell_type": "markdown",
   "metadata": {
    "slideshow": {
     "slide_type": "fragment"
    }
   },
   "source": [
    "- 训练集缺乏**代表性**的样本\n",
    "    + 训练集中的数据数量过少"
   ]
  },
  {
   "cell_type": "markdown",
   "metadata": {
    "slideshow": {
     "slide_type": "fragment"
    }
   },
   "source": [
    "- 多重比较过程（multiple comparison process）"
   ]
  },
  {
   "cell_type": "markdown",
   "metadata": {
    "slideshow": {
     "slide_type": "fragment"
    }
   },
   "source": [
    "一个股票分析师预测10次股票走势，至少8次正确的概率是"
   ]
  },
  {
   "cell_type": "markdown",
   "metadata": {
    "slideshow": {
     "slide_type": "fragment"
    }
   },
   "source": [
    "$$\n",
    "p(8)=\\frac{C_{10}^8+C_{10}^9+C_{10}^{10}}{2^{10}}=0.0547\n",
    "$$"
   ]
  },
  {
   "cell_type": "markdown",
   "metadata": {
    "slideshow": {
     "slide_type": "fragment"
    }
   },
   "source": [
    "从50名股票分析师中找到一位能够至少8次预测正确的概率是"
   ]
  },
  {
   "cell_type": "markdown",
   "metadata": {
    "slideshow": {
     "slide_type": "fragment"
    }
   },
   "source": [
    "$$\n",
    "1-(1-0.0547)^{50}=0.9399\n",
    "$$"
   ]
  },
  {
   "cell_type": "markdown",
   "metadata": {
    "slideshow": {
     "slide_type": "fragment"
    }
   },
   "source": [
    "- 模型复杂度\n",
    "    + 模型复杂度越高，训练误差越低，但是泛化误差却在增大"
   ]
  },
  {
   "cell_type": "markdown",
   "metadata": {
    "slideshow": {
     "slide_type": "slide"
    }
   },
   "source": [
    "### 泛化误差估计"
   ]
  },
  {
   "cell_type": "markdown",
   "metadata": {
    "slideshow": {
     "slide_type": "fragment"
    }
   },
   "source": [
    "#### 利用训练误差估计泛化误差"
   ]
  },
  {
   "cell_type": "markdown",
   "metadata": {
    "slideshow": {
     "slide_type": "fragment"
    }
   },
   "source": [
    "<img src=\"./img/classification/optError.png\" width=100%>"
   ]
  },
  {
   "cell_type": "markdown",
   "metadata": {
    "slideshow": {
     "slide_type": "fragment"
    }
   },
   "source": [
    "- 左边决策树在训练集上的错误率是 $e(T_L)=\\frac{4}{24}=0.167$"
   ]
  },
  {
   "cell_type": "markdown",
   "metadata": {
    "slideshow": {
     "slide_type": "fragment"
    }
   },
   "source": [
    "- 右边决策树在训练集上的错误率是 $e(T_R)=\\frac{6}{24}=0.25$"
   ]
  },
  {
   "cell_type": "markdown",
   "metadata": {
    "slideshow": {
     "slide_type": "fragment"
    }
   },
   "source": [
    "> 泛化误差的**乐观**估计，效果较差"
   ]
  },
  {
   "cell_type": "markdown",
   "metadata": {
    "slideshow": {
     "slide_type": "subslide"
    }
   },
   "source": [
    "#### 奥卡姆剃刀（Occam's razor）原则"
   ]
  },
  {
   "cell_type": "markdown",
   "metadata": {
    "slideshow": {
     "slide_type": "fragment"
    }
   },
   "source": [
    "> 给定两个具有相同泛化误差的模型，较简单的模型比较复杂的模型更可取"
   ]
  },
  {
   "cell_type": "markdown",
   "metadata": {
    "slideshow": {
     "slide_type": "fragment"
    }
   },
   "source": [
    "- **悲观估计**（pessimistic error estimate）：将模型的复杂度作为惩罚项（penalty terms）引入到泛化误差的估计中"
   ]
  },
  {
   "cell_type": "markdown",
   "metadata": {
    "slideshow": {
     "slide_type": "fragment"
    }
   },
   "source": [
    "假设决策树$T$有$k$个叶结点，$e(t_i), i=1,2,\\cdots,k$为每个叶结点的训练误差，$\\Omega(t_i)$为每个叶结点对应的惩罚项，$n(t_i)$是每个叶结点包含的数据记录个数，则泛化误差的悲观估计为"
   ]
  },
  {
   "cell_type": "markdown",
   "metadata": {
    "slideshow": {
     "slide_type": "fragment"
    }
   },
   "source": [
    "$$\n",
    "e_g(T)=\\frac{\\sum_{i=1}^k[e(t_i)+\\Omega(t_i)]}{\\sum_{i=1}^kn(t_i)}=\\frac{e(T)+\\Omega(T)}{N_t}\n",
    "$$"
   ]
  },
  {
   "cell_type": "markdown",
   "metadata": {
    "cell_style": "split",
    "slideshow": {
     "slide_type": "subslide"
    }
   },
   "source": [
    "<img src=\"./img/classification/optError.png\" width=100%>"
   ]
  },
  {
   "cell_type": "markdown",
   "metadata": {
    "cell_style": "split",
    "slideshow": {
     "slide_type": "fragment"
    }
   },
   "source": [
    "假设$\\Omega(t)=1$"
   ]
  },
  {
   "cell_type": "markdown",
   "metadata": {
    "cell_style": "split",
    "slideshow": {
     "slide_type": "fragment"
    }
   },
   "source": [
    "- 左边决策树的泛化误差估计为 $e_g(T_L)=\\frac{4+7\\times1}{24}=\\frac{11}{24}=0.458$"
   ]
  },
  {
   "cell_type": "markdown",
   "metadata": {
    "cell_style": "split",
    "slideshow": {
     "slide_type": "fragment"
    }
   },
   "source": [
    "- 右边决策树的泛化误差估计为 $e_g(T_R)=\\frac{6+4\\times1}{24}=\\frac{10}{24}=0.417$"
   ]
  },
  {
   "cell_type": "markdown",
   "metadata": {
    "slideshow": {
     "slide_type": "subslide"
    }
   },
   "source": [
    "#### 估计统计上界"
   ]
  },
  {
   "cell_type": "markdown",
   "metadata": {
    "slideshow": {
     "slide_type": "fragment"
    }
   },
   "source": [
    "- 根据训练误差的统计修正估计泛化误差"
   ]
  },
  {
   "cell_type": "markdown",
   "metadata": {
    "slideshow": {
     "slide_type": "subslide"
    }
   },
   "source": [
    "#### 使用确认集"
   ]
  },
  {
   "cell_type": "markdown",
   "metadata": {
    "slideshow": {
     "slide_type": "fragment"
    }
   },
   "source": [
    "- 将原始训练集分成两个子集，一个子集用于训练，另一个用于估计泛化误差，被称作**确认集**(validation set)"
   ]
  },
  {
   "cell_type": "markdown",
   "metadata": {
    "slideshow": {
     "slide_type": "subslide"
    }
   },
   "source": [
    "### 处理过分拟合"
   ]
  },
  {
   "cell_type": "markdown",
   "metadata": {
    "slideshow": {
     "slide_type": "fragment"
    }
   },
   "source": [
    "- 先剪枝\n",
    "    + 提前设定不纯性度量增益或估计的泛化误差改进的阈值"
   ]
  },
  {
   "cell_type": "markdown",
   "metadata": {
    "slideshow": {
     "slide_type": "fragment"
    }
   },
   "source": [
    "- 后剪枝"
   ]
  },
  {
   "cell_type": "markdown",
   "metadata": {
    "slideshow": {
     "slide_type": "slide"
    }
   },
   "source": [
    "## 评估分类器性能"
   ]
  },
  {
   "cell_type": "markdown",
   "metadata": {
    "slideshow": {
     "slide_type": "fragment"
    }
   },
   "source": [
    "也被称作**模型选择**（model selection）"
   ]
  },
  {
   "cell_type": "code",
   "execution_count": 3,
   "metadata": {
    "slideshow": {
     "slide_type": "skip"
    }
   },
   "outputs": [
    {
     "name": "stderr",
     "output_type": "stream",
     "text": [
      "Warning: gvrender_set_style: unsupported style None - ignoring\r\n"
     ]
    },
    {
     "data": {
      "text/plain": [
       "'./img/classification/modelSel.svg'"
      ]
     },
     "execution_count": 3,
     "metadata": {},
     "output_type": "execute_result"
    }
   ],
   "source": [
    "modSel = Digraph(format='svg',node_attr={'fontname':'STKAITI'},graph_attr={'rankdir':'LR'})\n",
    "modSel.node('A','模型选择方法',shape='plaintext')\n",
    "modSel.node('B','保持方法\\n Holdout')\n",
    "modSel.node('B1','分成训练集与检验集，用检验集评估模型性能',shape='plaintext')\n",
    "modSel.node('C','随机二次抽样')\n",
    "modSel.node('C1','多次应用“保持方法”,但未控制每个记录用于训练与检验的次数',shape='plaintext')\n",
    "modSel.node('D', '交叉验证')\n",
    "modSel.node('E','自助法\\n bootstrap')\n",
    "modSel.edges(['AB','AC','AD','AE'])\n",
    "modSel.edge('B','B1',shape='None')\n",
    "modSel.edge('C','C1', style='None')\n",
    "modSel.render(filename='modelSel',directory='./img/classification/')"
   ]
  },
  {
   "cell_type": "markdown",
   "metadata": {
    "slideshow": {
     "slide_type": "fragment"
    }
   },
   "source": [
    "<img src=\"./img/classification/modelSel.svg\" width=100%>"
   ]
  },
  {
   "cell_type": "markdown",
   "metadata": {
    "slideshow": {
     "slide_type": "subslide"
    }
   },
   "source": [
    "### 交叉验证法"
   ]
  },
  {
   "cell_type": "markdown",
   "metadata": {
    "slideshow": {
     "slide_type": "fragment"
    }
   },
   "source": [
    "- 交叉验证（cross-validation）：每个记录用于训练的次数相同，并且恰好检验一次"
   ]
  },
  {
   "cell_type": "markdown",
   "metadata": {
    "slideshow": {
     "slide_type": "fragment"
    }
   },
   "source": [
    "- $k$折交叉验证（k-folder cross-validation）"
   ]
  },
  {
   "cell_type": "markdown",
   "metadata": {
    "slideshow": {
     "slide_type": "fragment"
    }
   },
   "source": [
    "<img src=\"./img/classification/grid_search_cross_validation.jpg\" width=100%>"
   ]
  },
  {
   "cell_type": "markdown",
   "metadata": {
    "slideshow": {
     "slide_type": "fragment"
    }
   },
   "source": [
    "交叉验证的步骤："
   ]
  },
  {
   "cell_type": "markdown",
   "metadata": {
    "slideshow": {
     "slide_type": "fragment"
    }
   },
   "source": [
    "1. $k-1$折数据作为训练集训练模型"
   ]
  },
  {
   "cell_type": "markdown",
   "metadata": {
    "slideshow": {
     "slide_type": "fragment"
    }
   },
   "source": [
    "2. 剩下的1折数据作为检验集测试分类模型的性能"
   ]
  },
  {
   "cell_type": "markdown",
   "metadata": {
    "slideshow": {
     "slide_type": "fragment"
    }
   },
   "source": [
    "3. 以所有循环性能度量的均值作为交叉验证的测试结果"
   ]
  },
  {
   "cell_type": "markdown",
   "metadata": {
    "slideshow": {
     "slide_type": "subslide"
    }
   },
   "source": [
    "### Python实现交叉验证"
   ]
  },
  {
   "cell_type": "markdown",
   "metadata": {
    "slideshow": {
     "slide_type": "fragment"
    }
   },
   "source": [
    "```python\n",
    "sklearn.model_selection.cross_val_score(estimator, X, y=None, cv=’warn’)\n",
    "```"
   ]
  },
  {
   "cell_type": "markdown",
   "metadata": {
    "slideshow": {
     "slide_type": "fragment"
    }
   },
   "source": [
    "- `estimator`：构建的分类模型"
   ]
  },
  {
   "cell_type": "markdown",
   "metadata": {
    "slideshow": {
     "slide_type": "fragment"
    }
   },
   "source": [
    "- `X`：输入的数据集"
   ]
  },
  {
   "cell_type": "markdown",
   "metadata": {
    "slideshow": {
     "slide_type": "fragment"
    }
   },
   "source": [
    "- `y`：目标属性"
   ]
  },
  {
   "cell_type": "markdown",
   "metadata": {
    "slideshow": {
     "slide_type": "fragment"
    }
   },
   "source": [
    "- `cv`：训练集的划分方法，`int`类型，表示具体的折数，默认是3折"
   ]
  },
  {
   "cell_type": "markdown",
   "metadata": {
    "slideshow": {
     "slide_type": "fragment"
    }
   },
   "source": [
    "- 返回值：每一次交叉验证的准确率"
   ]
  },
  {
   "cell_type": "code",
   "execution_count": 4,
   "metadata": {
    "slideshow": {
     "slide_type": "subslide"
    }
   },
   "outputs": [],
   "source": [
    "from sklearn.model_selection import cross_val_score"
   ]
  },
  {
   "cell_type": "code",
   "execution_count": 9,
   "metadata": {
    "slideshow": {
     "slide_type": "fragment"
    }
   },
   "outputs": [
    {
     "data": {
      "text/plain": [
       "array([1.        , 0.93333333, 1.        , 0.93333333, 0.93333333,\n",
       "       0.86666667, 0.93333333, 1.        , 1.        , 1.        ])"
      ]
     },
     "execution_count": 9,
     "metadata": {},
     "output_type": "execute_result"
    },
    {
     "data": {
      "text/plain": [
       "'Accuracy: 0.96 (+/- 0.09)'"
      ]
     },
     "execution_count": 9,
     "metadata": {},
     "output_type": "execute_result"
    }
   ],
   "source": [
    "irisdt = DecisionTreeClassifier()\n",
    "scores = cross_val_score(irisdt, irisdf.iloc[:,:-1], irisdf.iloc[:,-1], cv=10)\n",
    "scores\n",
    "\"Accuracy: %0.2f (+/- %0.2f)\" % (scores.mean(), scores.std() * 2)"
   ]
  }
 ],
 "metadata": {
  "celltoolbar": "幻灯片",
  "hide_input": false,
  "kernelspec": {
   "display_name": "Python 3",
   "language": "python",
   "name": "python3"
  },
  "language_info": {
   "codemirror_mode": {
    "name": "ipython",
    "version": 3
   },
   "file_extension": ".py",
   "mimetype": "text/x-python",
   "name": "python",
   "nbconvert_exporter": "python",
   "pygments_lexer": "ipython3",
   "version": "3.6.8"
  },
  "toc": {
   "base_numbering": 1,
   "nav_menu": {},
   "number_sections": true,
   "sideBar": true,
   "skip_h1_title": false,
   "title_cell": "Table of Contents",
   "title_sidebar": "Contents",
   "toc_cell": false,
   "toc_position": {
    "height": "calc(100% - 180px)",
    "left": "10px",
    "top": "150px",
    "width": "245px"
   },
   "toc_section_display": true,
   "toc_window_display": true
  },
  "varInspector": {
   "cols": {
    "lenName": 16,
    "lenType": 16,
    "lenVar": 40
   },
   "kernels_config": {
    "python": {
     "delete_cmd_postfix": "",
     "delete_cmd_prefix": "del ",
     "library": "var_list.py",
     "varRefreshCmd": "print(var_dic_list())"
    },
    "r": {
     "delete_cmd_postfix": ") ",
     "delete_cmd_prefix": "rm(",
     "library": "var_list.r",
     "varRefreshCmd": "cat(var_dic_list()) "
    }
   },
   "types_to_exclude": [
    "module",
    "function",
    "builtin_function_or_method",
    "instance",
    "_Feature"
   ],
   "window_display": false
  }
 },
 "nbformat": 4,
 "nbformat_minor": 2
}
