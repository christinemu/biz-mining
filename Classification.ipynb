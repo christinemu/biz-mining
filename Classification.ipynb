{
 "cells": [
  {
   "cell_type": "code",
   "execution_count": 1,
   "metadata": {
    "init_cell": true,
    "slideshow": {
     "slide_type": "notes"
    }
   },
   "outputs": [
    {
     "name": "stderr",
     "output_type": "stream",
     "text": [
      "/home/VENV36/lib/python3.6/site-packages/pandas/compat/__init__.py:117: UserWarning: Could not import the lzma module. Your installed Python is incomplete. Attempting to use lzma compression will result in a RuntimeError.\n",
      "  warnings.warn(msg)\n"
     ]
    }
   ],
   "source": [
    "import pandas as pd\n",
    "import numpy as np\n",
    "import matplotlib.pyplot as plt\n",
    "from IPython.core.interactiveshell import InteractiveShell\n",
    "InteractiveShell.ast_node_interactivity = \"all\""
   ]
  },
  {
   "cell_type": "markdown",
   "metadata": {
    "slideshow": {
     "slide_type": "slide"
    }
   },
   "source": [
    "<div class=\"jumbotron\">\n",
    "    <h1 class=\"display-1\">分类技术</h1>\n",
    "    <hr class=\"my-4\">\n",
    "    <p>主讲：李岩</p>\n",
    "    <p>管理学院</p>\n",
    "    <p>liyan@cumtb.edu.cn</p>\n",
    "</div>"
   ]
  },
  {
   "cell_type": "markdown",
   "metadata": {
    "slideshow": {
     "slide_type": "slide"
    }
   },
   "source": [
    "> 如何判断贷款者是否会拖欠贷款？"
   ]
  },
  {
   "cell_type": "code",
   "execution_count": 2,
   "metadata": {
    "slideshow": {
     "slide_type": "notes"
    }
   },
   "outputs": [],
   "source": [
    "debtDict = {'Tid': range(10), \n",
    "            '有房者': ['是', '否', '否', '是', '否', '否', '是','否', '否', '否'], \n",
    "            '婚姻状况': ['单身', '已婚', '单身', '已婚', '离异', '已婚', '离异', '单身', '已婚', '单身'], \n",
    "            '年收入': ['125K', '100K', '70K', '120K', '95K', '60K', '220K', '85K', '75K', '90K'], \n",
    "            '拖欠贷款者': ['否', '否', '否', '否', '是', '否', '否', '是', '否', '是']}"
   ]
  },
  {
   "cell_type": "code",
   "execution_count": 3,
   "metadata": {
    "hide_input": false,
    "slideshow": {
     "slide_type": "fragment"
    }
   },
   "outputs": [
    {
     "data": {
      "text/html": [
       "<div>\n",
       "<style scoped>\n",
       "    .dataframe tbody tr th:only-of-type {\n",
       "        vertical-align: middle;\n",
       "    }\n",
       "\n",
       "    .dataframe tbody tr th {\n",
       "        vertical-align: top;\n",
       "    }\n",
       "\n",
       "    .dataframe thead th {\n",
       "        text-align: right;\n",
       "    }\n",
       "</style>\n",
       "<table border=\"1\" class=\"dataframe\">\n",
       "  <thead>\n",
       "    <tr style=\"text-align: right;\">\n",
       "      <th></th>\n",
       "      <th>Tid</th>\n",
       "      <th>有房者</th>\n",
       "      <th>婚姻状况</th>\n",
       "      <th>年收入</th>\n",
       "      <th>拖欠贷款者</th>\n",
       "    </tr>\n",
       "  </thead>\n",
       "  <tbody>\n",
       "    <tr>\n",
       "      <th>0</th>\n",
       "      <td>0</td>\n",
       "      <td>是</td>\n",
       "      <td>单身</td>\n",
       "      <td>125K</td>\n",
       "      <td>否</td>\n",
       "    </tr>\n",
       "    <tr>\n",
       "      <th>1</th>\n",
       "      <td>1</td>\n",
       "      <td>否</td>\n",
       "      <td>已婚</td>\n",
       "      <td>100K</td>\n",
       "      <td>否</td>\n",
       "    </tr>\n",
       "    <tr>\n",
       "      <th>2</th>\n",
       "      <td>2</td>\n",
       "      <td>否</td>\n",
       "      <td>单身</td>\n",
       "      <td>70K</td>\n",
       "      <td>否</td>\n",
       "    </tr>\n",
       "    <tr>\n",
       "      <th>3</th>\n",
       "      <td>3</td>\n",
       "      <td>是</td>\n",
       "      <td>已婚</td>\n",
       "      <td>120K</td>\n",
       "      <td>否</td>\n",
       "    </tr>\n",
       "    <tr>\n",
       "      <th>4</th>\n",
       "      <td>4</td>\n",
       "      <td>否</td>\n",
       "      <td>离异</td>\n",
       "      <td>95K</td>\n",
       "      <td>是</td>\n",
       "    </tr>\n",
       "    <tr>\n",
       "      <th>5</th>\n",
       "      <td>5</td>\n",
       "      <td>否</td>\n",
       "      <td>已婚</td>\n",
       "      <td>60K</td>\n",
       "      <td>否</td>\n",
       "    </tr>\n",
       "    <tr>\n",
       "      <th>6</th>\n",
       "      <td>6</td>\n",
       "      <td>是</td>\n",
       "      <td>离异</td>\n",
       "      <td>220K</td>\n",
       "      <td>否</td>\n",
       "    </tr>\n",
       "    <tr>\n",
       "      <th>7</th>\n",
       "      <td>7</td>\n",
       "      <td>否</td>\n",
       "      <td>单身</td>\n",
       "      <td>85K</td>\n",
       "      <td>是</td>\n",
       "    </tr>\n",
       "    <tr>\n",
       "      <th>8</th>\n",
       "      <td>8</td>\n",
       "      <td>否</td>\n",
       "      <td>已婚</td>\n",
       "      <td>75K</td>\n",
       "      <td>否</td>\n",
       "    </tr>\n",
       "    <tr>\n",
       "      <th>9</th>\n",
       "      <td>9</td>\n",
       "      <td>否</td>\n",
       "      <td>单身</td>\n",
       "      <td>90K</td>\n",
       "      <td>是</td>\n",
       "    </tr>\n",
       "  </tbody>\n",
       "</table>\n",
       "</div>"
      ],
      "text/plain": [
       "   Tid 有房者 婚姻状况   年收入 拖欠贷款者\n",
       "0    0   是   单身  125K     否\n",
       "1    1   否   已婚  100K     否\n",
       "2    2   否   单身   70K     否\n",
       "3    3   是   已婚  120K     否\n",
       "4    4   否   离异   95K     是\n",
       "5    5   否   已婚   60K     否\n",
       "6    6   是   离异  220K     否\n",
       "7    7   否   单身   85K     是\n",
       "8    8   否   已婚   75K     否\n",
       "9    9   否   单身   90K     是"
      ]
     },
     "execution_count": 3,
     "metadata": {},
     "output_type": "execute_result"
    }
   ],
   "source": [
    "pd.DataFrame(debtDict)"
   ]
  },
  {
   "cell_type": "markdown",
   "metadata": {
    "slideshow": {
     "slide_type": "slide"
    }
   },
   "source": [
    "## 基本概念"
   ]
  },
  {
   "cell_type": "markdown",
   "metadata": {
    "slideshow": {
     "slide_type": "fragment"
    }
   },
   "source": [
    "### 分类（classification） "
   ]
  },
  {
   "cell_type": "markdown",
   "metadata": {
    "slideshow": {
     "slide_type": "fragment"
    }
   },
   "source": [
    "- 给定一条记录$(\\boldsymbol{x}, y)$，其中，$y$是分类属性或者目标属性，$\\boldsymbol{x}$是该记录预测属性的集合"
   ]
  },
  {
   "cell_type": "markdown",
   "metadata": {
    "slideshow": {
     "slide_type": "fragment"
    }
   },
   "source": [
    "- 通过学习得到一个**目标函数**（target function）$f$，把每个属性集$\\boldsymbol{x}$映射到一个预先定义的**类标签**$y$"
   ]
  },
  {
   "cell_type": "markdown",
   "metadata": {
    "slideshow": {
     "slide_type": "fragment"
    }
   },
   "source": [
    "$$\n",
    "y = f(\\boldsymbol{x})\n",
    "$$"
   ]
  },
  {
   "cell_type": "markdown",
   "metadata": {
    "slideshow": {
     "slide_type": "fragment"
    }
   },
   "source": [
    "- 目标函数也被称作**分类模型**（classification model）"
   ]
  },
  {
   "cell_type": "markdown",
   "metadata": {
    "slideshow": {
     "slide_type": "subslide"
    }
   },
   "source": [
    "#### 分类模型的功能"
   ]
  },
  {
   "cell_type": "markdown",
   "metadata": {
    "slideshow": {
     "slide_type": "fragment"
    }
   },
   "source": [
    "1. 描述性建模：识别哪些属性决定一个数据记录属于哪个类别"
   ]
  },
  {
   "cell_type": "markdown",
   "metadata": {
    "slideshow": {
     "slide_type": "fragment"
    }
   },
   "source": [
    "2. 预测性建模：根据已知的数据记录的属性，自动识别该数据记录属于的类别"
   ]
  },
  {
   "cell_type": "markdown",
   "metadata": {
    "slideshow": {
     "slide_type": "subslide"
    }
   },
   "source": [
    "#### 分类模型的适用领域"
   ]
  },
  {
   "cell_type": "markdown",
   "metadata": {
    "slideshow": {
     "slide_type": "fragment"
    }
   },
   "source": [
    "- 非常适合分类属性是**二元**或者**标称**类型的数据集"
   ]
  },
  {
   "cell_type": "markdown",
   "metadata": {
    "slideshow": {
     "slide_type": "fragment"
    }
   },
   "source": [
    "- 不适用于分类属性是**序数**或**连续**类型的数据集\n",
    "    + 因为没有考虑标签之间的顺序大小关系"
   ]
  },
  {
   "cell_type": "markdown",
   "metadata": {
    "slideshow": {
     "slide_type": "fragment"
    }
   },
   "source": [
    "任务|属性集$\\boldsymbol{x}$|分类属性$y$\n",
    "---|---|---\n",
    "分类e-mail|从e-mail的header和内容中提取的特征|垃圾邮件`or`非垃圾邮件\n",
    "识别癌变细胞|通过磁共振扫描提取的特征|恶性的`or`良性的\n",
    "分类星系|从天文望远镜获取的图像中提取特征|椭圆的、螺旋的、`or`不规则星系"
   ]
  },
  {
   "cell_type": "markdown",
   "metadata": {
    "slideshow": {
     "slide_type": "slide"
    }
   },
   "source": [
    "### 建立分类模型的一般方法"
   ]
  },
  {
   "cell_type": "markdown",
   "metadata": {
    "slideshow": {
     "slide_type": "fragment"
    }
   },
   "source": [
    "<center><img src=\"./img/classification/classificationProcess.png\" width=80%></center>"
   ]
  },
  {
   "cell_type": "markdown",
   "metadata": {
    "slideshow": {
     "slide_type": "slide"
    }
   },
   "source": [
    "#### 训练集与检验集"
   ]
  },
  {
   "cell_type": "markdown",
   "metadata": {
    "slideshow": {
     "slide_type": "fragment"
    }
   },
   "source": [
    "- 训练集（training set）：由类标签已知的数据记录组成，用于建立分类模型"
   ]
  },
  {
   "cell_type": "markdown",
   "metadata": {
    "slideshow": {
     "slide_type": "fragment"
    }
   },
   "source": [
    "- 检验集（test set）：用来检验分类规则的数据记录集合"
   ]
  },
  {
   "cell_type": "markdown",
   "metadata": {
    "slideshow": {
     "slide_type": "fragment"
    }
   },
   "source": [
    "#### 分类算法"
   ]
  },
  {
   "cell_type": "markdown",
   "metadata": {
    "slideshow": {
     "slide_type": "fragment"
    }
   },
   "source": [
    "+ k最近邻分类\n",
    "+ **决策树**\n",
    "+ 朴素贝叶斯分类\n",
    "+ 逻辑回归\n",
    "+ **神经网络**\n",
    "+ 支持向量机\n",
    "+ 随机森林"
   ]
  },
  {
   "cell_type": "markdown",
   "metadata": {
    "slideshow": {
     "slide_type": "subslide"
    }
   },
   "source": [
    "#### 混淆矩阵（confusion matrix）"
   ]
  },
  {
   "cell_type": "markdown",
   "metadata": {
    "slideshow": {
     "slide_type": "fragment"
    }
   },
   "source": [
    "- 由分类模型做出的正确和错误的分类结果构成的矩阵"
   ]
  },
  {
   "cell_type": "markdown",
   "metadata": {
    "slideshow": {
     "slide_type": "fragment"
    }
   },
   "source": [
    "- 二元分类问题的混淆矩阵"
   ]
  },
  {
   "cell_type": "markdown",
   "metadata": {
    "slideshow": {
     "slide_type": "fragment"
    }
   },
   "source": [
    "![](./img/classification/confusionMatrix.gv.svg)"
   ]
  },
  {
   "cell_type": "markdown",
   "metadata": {
    "slideshow": {
     "slide_type": "subslide"
    }
   },
   "source": [
    "#### 性能度量（performance metric）"
   ]
  },
  {
   "cell_type": "markdown",
   "metadata": {
    "slideshow": {
     "slide_type": "fragment"
    }
   },
   "source": [
    "- 汇总混淆矩阵的信息"
   ]
  },
  {
   "cell_type": "markdown",
   "metadata": {
    "slideshow": {
     "slide_type": "fragment"
    }
   },
   "source": [
    "- 准确率（accuracy）"
   ]
  },
  {
   "cell_type": "markdown",
   "metadata": {
    "slideshow": {
     "slide_type": "fragment"
    }
   },
   "source": [
    "$$\n",
    "准确率=\\frac{正确预测数}{预测总数}=\\frac{f_{11}+f_{00}}{f_{11}+f_{10}+f_{01}+f_{00}}\n",
    "$$"
   ]
  },
  {
   "cell_type": "markdown",
   "metadata": {
    "slideshow": {
     "slide_type": "fragment"
    }
   },
   "source": [
    "- 错误率（error rate）"
   ]
  },
  {
   "cell_type": "markdown",
   "metadata": {
    "slideshow": {
     "slide_type": "fragment"
    }
   },
   "source": [
    "$$\n",
    "错误率=\\frac{错误预测数}{预测总数}=\\frac{f_{10}+f_{01}}{f_{11}+f_{10}+f_{01}+f_{00}}\n",
    "$$"
   ]
  },
  {
   "cell_type": "markdown",
   "metadata": {
    "slideshow": {
     "slide_type": "fragment"
    }
   },
   "source": [
    "$$\n",
    "错误率+准确率=1\n",
    "$$"
   ]
  },
  {
   "cell_type": "markdown",
   "metadata": {
    "slideshow": {
     "slide_type": "slide"
    }
   },
   "source": [
    "## 决策树"
   ]
  },
  {
   "cell_type": "markdown",
   "metadata": {
    "cell_style": "split",
    "slideshow": {
     "slide_type": "fragment"
    }
   },
   "source": [
    "<center><img src=\"./img/classification/classificationSample.gv.svg\" with=100%></center>"
   ]
  },
  {
   "cell_type": "markdown",
   "metadata": {
    "cell_style": "split",
    "slideshow": {
     "slide_type": "fragment"
    }
   },
   "source": [
    "<center><img src=\"./img/classification/decisionTree.gv.svg\" with=50%></center>"
   ]
  },
  {
   "cell_type": "markdown",
   "metadata": {
    "slideshow": {
     "slide_type": "fragment"
    }
   },
   "source": [
    "<center><img src=\"./img/classification/decisionTree1.gv.svg\"></center>"
   ]
  },
  {
   "cell_type": "markdown",
   "metadata": {
    "slideshow": {
     "slide_type": "fragment"
    }
   },
   "source": [
    "> 对于同一个问题而言，决策树不是唯一的"
   ]
  },
  {
   "cell_type": "markdown",
   "metadata": {
    "slideshow": {
     "slide_type": "slide"
    }
   },
   "source": [
    "### 基本概念"
   ]
  },
  {
   "cell_type": "markdown",
   "metadata": {
    "cell_style": "split",
    "slideshow": {
     "slide_type": "fragment"
    }
   },
   "source": [
    "<center><img src=\"./img/classification/decisionTreeC.gv.svg\" with=60%></center>"
   ]
  },
  {
   "cell_type": "markdown",
   "metadata": {
    "cell_style": "split",
    "slideshow": {
     "slide_type": "fragment"
    }
   },
   "source": [
    "- **根结点**（root node）\n",
    "    + 没有入边，但有零条或多条出边"
   ]
  },
  {
   "cell_type": "markdown",
   "metadata": {
    "cell_style": "split",
    "slideshow": {
     "slide_type": "fragment"
    }
   },
   "source": [
    "- **内部结点**（internal node）\n",
    "    + 恰有一条入边和两条或多条出边"
   ]
  },
  {
   "cell_type": "markdown",
   "metadata": {
    "cell_style": "split",
    "slideshow": {
     "slide_type": "fragment"
    }
   },
   "source": [
    "- **叶结点**（leaf node）\n",
    "    + 恰有一条入边，但没有出边\n",
    "    + 又被称为终结点（terminal node）"
   ]
  },
  {
   "cell_type": "markdown",
   "metadata": {
    "cell_style": "split",
    "slideshow": {
     "slide_type": "fragment"
    }
   },
   "source": [
    "- 每个叶结点赋予一个类标签"
   ]
  },
  {
   "cell_type": "markdown",
   "metadata": {
    "cell_style": "split",
    "slideshow": {
     "slide_type": "fragment"
    }
   },
   "source": [
    "- 每个**非叶**结点包含属性测试的条件"
   ]
  },
  {
   "cell_type": "markdown",
   "metadata": {
    "slideshow": {
     "slide_type": "slide"
    }
   },
   "source": [
    "### 构造决策树 "
   ]
  },
  {
   "cell_type": "markdown",
   "metadata": {
    "slideshow": {
     "slide_type": "fragment"
    }
   },
   "source": [
    "- **Hunt**算法\n",
    "- CART\n",
    "- ID3, C4.5\n",
    "- SLIQ, SPRINT"
   ]
  },
  {
   "cell_type": "markdown",
   "metadata": {
    "slideshow": {
     "slide_type": "subslide"
    }
   },
   "source": [
    "#### Hunt算法基本思路 "
   ]
  },
  {
   "cell_type": "markdown",
   "metadata": {
    "slideshow": {
     "slide_type": "fragment"
    }
   },
   "source": [
    "假设$D_t$是一个训练集，构成一个结点$t$"
   ]
  },
  {
   "cell_type": "markdown",
   "metadata": {
    "slideshow": {
     "slide_type": "fragment"
    }
   },
   "source": [
    "- 如果$D_t$包含的所有数据对象都属于同一个类别$y_t$，那么结点$t$是一个叶结点，标记为$y_t$"
   ]
  },
  {
   "cell_type": "markdown",
   "metadata": {
    "slideshow": {
     "slide_type": "fragment"
    }
   },
   "source": [
    "- 如果$D_t$包含的数据对象属于多个类别，那么用一个属性尝试将数据对象分成子集。之后，对每个子集再递归应用以上步骤"
   ]
  },
  {
   "cell_type": "markdown",
   "metadata": {
    "cell_style": "split",
    "slideshow": {
     "slide_type": "subslide"
    }
   },
   "source": [
    "<center><img src=\"./img/classification/step0.gv.svg\" with=100%></center>"
   ]
  },
  {
   "cell_type": "markdown",
   "metadata": {
    "cell_style": "split",
    "slideshow": {
     "slide_type": "fragment"
    }
   },
   "source": [
    "<center><img src=\"./img/classification/step1.gv.svg\" width=20%></center>"
   ]
  },
  {
   "cell_type": "markdown",
   "metadata": {
    "cell_style": "split",
    "slideshow": {
     "slide_type": "fragment"
    }
   },
   "source": [
    "<center><img src=\"./img/classification/step2.gv.svg\" width=20%></center>"
   ]
  },
  {
   "cell_type": "markdown",
   "metadata": {
    "cell_style": "split",
    "slideshow": {
     "slide_type": "fragment"
    }
   },
   "source": [
    "<center><img src=\"./img/classification/step3.gv.svg\" width=20%></center>"
   ]
  },
  {
   "cell_type": "markdown",
   "metadata": {
    "slideshow": {
     "slide_type": "subslide"
    }
   },
   "source": [
    "#### 构造决策树需要考虑的问题 "
   ]
  },
  {
   "cell_type": "markdown",
   "metadata": {
    "slideshow": {
     "slide_type": "fragment"
    }
   },
   "source": [
    "- 如何选择测试条件？\n",
    "    + 选择哪个属性作为分裂的条件？\n",
    "    + 针对每个条件应当如何选择划分点？即，如何评估划分的优劣"
   ]
  },
  {
   "cell_type": "markdown",
   "metadata": {
    "slideshow": {
     "slide_type": "fragment"
    }
   },
   "source": [
    "- 如何停止树的增长？\n",
    "    + 直到所有的数据对象都属于**相同**的类别，或都有**相同**的属性值\n",
    "    + 其他方法"
   ]
  },
  {
   "cell_type": "markdown",
   "metadata": {
    "slideshow": {
     "slide_type": "slide"
    }
   },
   "source": [
    "### 选择最佳划分"
   ]
  },
  {
   "cell_type": "code",
   "execution_count": 4,
   "metadata": {
    "slideshow": {
     "slide_type": "notes"
    }
   },
   "outputs": [],
   "source": [
    "carDict = [\n",
    "    range(1,21),\n",
    "    ['男']*6+['女']*4+['男']*4+['女']*6,\n",
    "    ['家用']+['运动']*8+['豪华']\n",
    "    +['家用']*3+['豪华']*7,\n",
    "    ['小']+['中']*2+['大']+['超大']*2+['小']*2+['中']+['大']*2+['超大']+['中']+['超大']+['小']*2\n",
    "    +['中']*3+['大'],\n",
    "    ['C0']*10+['C1']*10\n",
    "]\n",
    "cardf = pd.DataFrame(carDict,index=['ID', '性别','车型', '大小', '列别']).T"
   ]
  },
  {
   "cell_type": "code",
   "execution_count": 5,
   "metadata": {
    "slideshow": {
     "slide_type": "fragment"
    },
    "variables": {
     "cardf": {}
    }
   },
   "outputs": [
    {
     "data": {
      "text/html": [
       "<div>\n",
       "<style scoped>\n",
       "    .dataframe tbody tr th:only-of-type {\n",
       "        vertical-align: middle;\n",
       "    }\n",
       "\n",
       "    .dataframe tbody tr th {\n",
       "        vertical-align: top;\n",
       "    }\n",
       "\n",
       "    .dataframe thead th {\n",
       "        text-align: right;\n",
       "    }\n",
       "</style>\n",
       "<table border=\"1\" class=\"dataframe\">\n",
       "  <thead>\n",
       "    <tr style=\"text-align: right;\">\n",
       "      <th></th>\n",
       "      <th>ID</th>\n",
       "      <th>性别</th>\n",
       "      <th>车型</th>\n",
       "      <th>大小</th>\n",
       "      <th>列别</th>\n",
       "    </tr>\n",
       "  </thead>\n",
       "  <tbody>\n",
       "    <tr>\n",
       "      <th>0</th>\n",
       "      <td>1</td>\n",
       "      <td>男</td>\n",
       "      <td>家用</td>\n",
       "      <td>小</td>\n",
       "      <td>C0</td>\n",
       "    </tr>\n",
       "    <tr>\n",
       "      <th>1</th>\n",
       "      <td>2</td>\n",
       "      <td>男</td>\n",
       "      <td>运动</td>\n",
       "      <td>中</td>\n",
       "      <td>C0</td>\n",
       "    </tr>\n",
       "    <tr>\n",
       "      <th>2</th>\n",
       "      <td>3</td>\n",
       "      <td>男</td>\n",
       "      <td>运动</td>\n",
       "      <td>中</td>\n",
       "      <td>C0</td>\n",
       "    </tr>\n",
       "    <tr>\n",
       "      <th>3</th>\n",
       "      <td>4</td>\n",
       "      <td>男</td>\n",
       "      <td>运动</td>\n",
       "      <td>大</td>\n",
       "      <td>C0</td>\n",
       "    </tr>\n",
       "    <tr>\n",
       "      <th>4</th>\n",
       "      <td>5</td>\n",
       "      <td>男</td>\n",
       "      <td>运动</td>\n",
       "      <td>超大</td>\n",
       "      <td>C0</td>\n",
       "    </tr>\n",
       "    <tr>\n",
       "      <th>5</th>\n",
       "      <td>6</td>\n",
       "      <td>男</td>\n",
       "      <td>运动</td>\n",
       "      <td>超大</td>\n",
       "      <td>C0</td>\n",
       "    </tr>\n",
       "    <tr>\n",
       "      <th>6</th>\n",
       "      <td>7</td>\n",
       "      <td>女</td>\n",
       "      <td>运动</td>\n",
       "      <td>小</td>\n",
       "      <td>C0</td>\n",
       "    </tr>\n",
       "    <tr>\n",
       "      <th>7</th>\n",
       "      <td>8</td>\n",
       "      <td>女</td>\n",
       "      <td>运动</td>\n",
       "      <td>小</td>\n",
       "      <td>C0</td>\n",
       "    </tr>\n",
       "    <tr>\n",
       "      <th>8</th>\n",
       "      <td>9</td>\n",
       "      <td>女</td>\n",
       "      <td>运动</td>\n",
       "      <td>中</td>\n",
       "      <td>C0</td>\n",
       "    </tr>\n",
       "    <tr>\n",
       "      <th>9</th>\n",
       "      <td>10</td>\n",
       "      <td>女</td>\n",
       "      <td>豪华</td>\n",
       "      <td>大</td>\n",
       "      <td>C0</td>\n",
       "    </tr>\n",
       "    <tr>\n",
       "      <th>10</th>\n",
       "      <td>11</td>\n",
       "      <td>男</td>\n",
       "      <td>家用</td>\n",
       "      <td>大</td>\n",
       "      <td>C1</td>\n",
       "    </tr>\n",
       "    <tr>\n",
       "      <th>11</th>\n",
       "      <td>12</td>\n",
       "      <td>男</td>\n",
       "      <td>家用</td>\n",
       "      <td>超大</td>\n",
       "      <td>C1</td>\n",
       "    </tr>\n",
       "    <tr>\n",
       "      <th>12</th>\n",
       "      <td>13</td>\n",
       "      <td>男</td>\n",
       "      <td>家用</td>\n",
       "      <td>中</td>\n",
       "      <td>C1</td>\n",
       "    </tr>\n",
       "    <tr>\n",
       "      <th>13</th>\n",
       "      <td>14</td>\n",
       "      <td>男</td>\n",
       "      <td>豪华</td>\n",
       "      <td>超大</td>\n",
       "      <td>C1</td>\n",
       "    </tr>\n",
       "    <tr>\n",
       "      <th>14</th>\n",
       "      <td>15</td>\n",
       "      <td>女</td>\n",
       "      <td>豪华</td>\n",
       "      <td>小</td>\n",
       "      <td>C1</td>\n",
       "    </tr>\n",
       "    <tr>\n",
       "      <th>15</th>\n",
       "      <td>16</td>\n",
       "      <td>女</td>\n",
       "      <td>豪华</td>\n",
       "      <td>小</td>\n",
       "      <td>C1</td>\n",
       "    </tr>\n",
       "    <tr>\n",
       "      <th>16</th>\n",
       "      <td>17</td>\n",
       "      <td>女</td>\n",
       "      <td>豪华</td>\n",
       "      <td>中</td>\n",
       "      <td>C1</td>\n",
       "    </tr>\n",
       "    <tr>\n",
       "      <th>17</th>\n",
       "      <td>18</td>\n",
       "      <td>女</td>\n",
       "      <td>豪华</td>\n",
       "      <td>中</td>\n",
       "      <td>C1</td>\n",
       "    </tr>\n",
       "    <tr>\n",
       "      <th>18</th>\n",
       "      <td>19</td>\n",
       "      <td>女</td>\n",
       "      <td>豪华</td>\n",
       "      <td>中</td>\n",
       "      <td>C1</td>\n",
       "    </tr>\n",
       "    <tr>\n",
       "      <th>19</th>\n",
       "      <td>20</td>\n",
       "      <td>女</td>\n",
       "      <td>豪华</td>\n",
       "      <td>大</td>\n",
       "      <td>C1</td>\n",
       "    </tr>\n",
       "  </tbody>\n",
       "</table>\n",
       "</div>"
      ],
      "text/plain": [
       "    ID 性别  车型  大小  列别\n",
       "0    1  男  家用   小  C0\n",
       "1    2  男  运动   中  C0\n",
       "2    3  男  运动   中  C0\n",
       "3    4  男  运动   大  C0\n",
       "4    5  男  运动  超大  C0\n",
       "5    6  男  运动  超大  C0\n",
       "6    7  女  运动   小  C0\n",
       "7    8  女  运动   小  C0\n",
       "8    9  女  运动   中  C0\n",
       "9   10  女  豪华   大  C0\n",
       "10  11  男  家用   大  C1\n",
       "11  12  男  家用  超大  C1\n",
       "12  13  男  家用   中  C1\n",
       "13  14  男  豪华  超大  C1\n",
       "14  15  女  豪华   小  C1\n",
       "15  16  女  豪华   小  C1\n",
       "16  17  女  豪华   中  C1\n",
       "17  18  女  豪华   中  C1\n",
       "18  19  女  豪华   中  C1\n",
       "19  20  女  豪华   大  C1"
      ]
     },
     "execution_count": 5,
     "metadata": {},
     "output_type": "execute_result"
    }
   ],
   "source": [
    "cardf"
   ]
  },
  {
   "cell_type": "markdown",
   "metadata": {
    "cell_style": "split",
    "slideshow": {
     "slide_type": "fragment"
    }
   },
   "source": [
    "<center><img src=\"./img/classification/carCustomerID.svg\" width=30%></center>"
   ]
  },
  {
   "cell_type": "markdown",
   "metadata": {
    "cell_style": "split",
    "slideshow": {
     "slide_type": "fragment"
    }
   },
   "source": [
    "<center><img src=\"./img/classification/carGender.svg\" width=15%></center>"
   ]
  },
  {
   "cell_type": "markdown",
   "metadata": {
    "cell_style": "split",
    "slideshow": {
     "slide_type": "fragment"
    }
   },
   "source": [
    "<center><img src=\"./img/classification/carType.svg\" width=20%></center>"
   ]
  },
  {
   "cell_type": "markdown",
   "metadata": {
    "slideshow": {
     "slide_type": "slide"
    }
   },
   "source": [
    "- 最佳选择划分通常根据结点的**不纯性的程度**（degree of impurity）"
   ]
  },
  {
   "cell_type": "markdown",
   "metadata": {
    "slideshow": {
     "slide_type": "fragment"
    }
   },
   "source": [
    "- 不纯的程度越低，类分布就越倾斜"
   ]
  },
  {
   "cell_type": "markdown",
   "metadata": {
    "slideshow": {
     "slide_type": "slide"
    }
   },
   "source": [
    "#### 不纯性度量 "
   ]
  },
  {
   "cell_type": "markdown",
   "metadata": {
    "slideshow": {
     "slide_type": "fragment"
    }
   },
   "source": [
    "令$p(i|t)$表示给定结点$t$中属于类$i$的记录所占的比例，类别个数为$c$"
   ]
  },
  {
   "cell_type": "markdown",
   "metadata": {
    "slideshow": {
     "slide_type": "fragment"
    }
   },
   "source": [
    "- 熵（Entropy）\n",
    "\n",
    "$$ \\text{Entropy}(t)=-\\sum_{i=0}^{c-1}p(i|t)\\log_2p(i|t) $$"
   ]
  },
  {
   "cell_type": "markdown",
   "metadata": {
    "slideshow": {
     "slide_type": "fragment"
    }
   },
   "source": [
    "> ID3、C4.5算法用熵选择最佳划分"
   ]
  },
  {
   "cell_type": "markdown",
   "metadata": {
    "slideshow": {
     "slide_type": "fragment"
    }
   },
   "source": [
    "- Gini系数\n",
    "\n",
    "$$ \\text{Gini}(t)=1-\\sum_{i=1}^{c-1}\\left[p(i|t)\\right]^2 $$"
   ]
  },
  {
   "cell_type": "markdown",
   "metadata": {
    "slideshow": {
     "slide_type": "fragment"
    }
   },
   "source": [
    "> CART算法用Gini系数选择最佳划分\n",
    "- 每个非叶节点只有两个分支，形成二叉树"
   ]
  },
  {
   "cell_type": "markdown",
   "metadata": {
    "slideshow": {
     "slide_type": "subslide"
    }
   },
   "source": [
    "假设一个节点中只包含有两个类别（类别1和类别2），各自所占的比例是$p_1$和$p_2$，且$p_1+p_2=1$"
   ]
  },
  {
   "cell_type": "code",
   "execution_count": 6,
   "metadata": {
    "slideshow": {
     "slide_type": "fragment"
    }
   },
   "outputs": [
    {
     "data": {
      "text/plain": [
       "<matplotlib.axes._subplots.AxesSubplot at 0x7f380adc6f98>"
      ]
     },
     "execution_count": 6,
     "metadata": {},
     "output_type": "execute_result"
    },
    {
     "data": {
      "text/plain": [
       "[Text(0.5, 0, '$p_1$')]"
      ]
     },
     "execution_count": 6,
     "metadata": {},
     "output_type": "execute_result"
    },
    {
     "data": {
      "image/png": "[encoded data removed]",
      "text/plain": [
       "<Figure size 864x432 with 1 Axes>"
      ]
     },
     "metadata": {
      "needs_background": "light"
     },
     "output_type": "display_data"
    }
   ],
   "source": [
    "x = np.linspace(0.01,0.99)\n",
    "x1 = np.ones(x.shape) - x\n",
    "xE = -x*np.log2(x)-x1*np.log2(x1)\n",
    "xG = 1-(np.power(x,2)+np.power(x1,2))\n",
    "df = pd.DataFrame({'x':x,'Entropy':xE,'Gini':xG})\n",
    "ax = df.plot(x='x',y='Entropy',kind='line',figsize=(12,6))\n",
    "df.plot(x='x',y='Gini',kind='line',ax=ax)\n",
    "ax.set(xlabel='$p_1$')"
   ]
  },
  {
   "cell_type": "markdown",
   "metadata": {
    "slideshow": {
     "slide_type": "subslide"
    }
   },
   "source": [
    "#### 确定测试条件"
   ]
  },
  {
   "cell_type": "markdown",
   "metadata": {
    "slideshow": {
     "slide_type": "fragment"
    }
   },
   "source": [
    "- 对于选择的一个测试条件，计算父结点（划分前）的不纯度与子结点（划分后）的不纯度的差，差越大，测试条件的效果就越好"
   ]
  },
  {
   "cell_type": "markdown",
   "metadata": {
    "slideshow": {
     "slide_type": "slide"
    }
   },
   "source": [
    "### `sklearn`实现 "
   ]
  },
  {
   "cell_type": "markdown",
   "metadata": {
    "slideshow": {
     "slide_type": "slide"
    }
   },
   "source": [
    "#### 建立模型"
   ]
  },
  {
   "cell_type": "markdown",
   "metadata": {
    "slideshow": {
     "slide_type": "fragment"
    }
   },
   "source": [
    "```python\n",
    "from sklearn import tree\n",
    "tree.DecisionTreeClassifier(criterion='gini'）\n",
    "```\n",
    "- `criterion`：`str`类型，不纯性的度量，可以是`gini`和`entropy`，默认是`gini`"
   ]
  },
  {
   "cell_type": "markdown",
   "metadata": {
    "slideshow": {
     "slide_type": "fragment"
    }
   },
   "source": [
    "- 生成的决策树的属性（Attributes）\n",
    "    + `classes_ `：由类标签构成的数组\n",
    "    + `n_classes_`：`int`，类别的数量\n",
    "    + `tree_`：建立的决策树"
   ]
  },
  {
   "cell_type": "markdown",
   "metadata": {
    "slideshow": {
     "slide_type": "fragment"
    }
   },
   "source": [
    "- `feature_importances_`：每个属性在构造决策树中的重要性，即每个属性导致`Gini`系数的减少量（标准化）"
   ]
  },
  {
   "cell_type": "code",
   "execution_count": 7,
   "metadata": {
    "slideshow": {
     "slide_type": "fragment"
    }
   },
   "outputs": [
    {
     "data": {
      "text/plain": [
       "DecisionTreeClassifier(ccp_alpha=0.0, class_weight=None, criterion='gini',\n",
       "                       max_depth=None, max_features=None, max_leaf_nodes=None,\n",
       "                       min_impurity_decrease=0.0, min_impurity_split=None,\n",
       "                       min_samples_leaf=1, min_samples_split=2,\n",
       "                       min_weight_fraction_leaf=0.0, presort='deprecated',\n",
       "                       random_state=None, splitter='best')"
      ]
     },
     "execution_count": 7,
     "metadata": {},
     "output_type": "execute_result"
    }
   ],
   "source": [
    "from sklearn import tree\n",
    "dtDebt = tree.DecisionTreeClassifier()\n",
    "dtDebt"
   ]
  },
  {
   "cell_type": "markdown",
   "metadata": {
    "slideshow": {
     "slide_type": "slide"
    }
   },
   "source": [
    "#### 训练模型"
   ]
  },
  {
   "cell_type": "markdown",
   "metadata": {
    "slideshow": {
     "slide_type": "fragment"
    }
   },
   "source": [
    "```python\n",
    "dt.fit(X, y)\n",
    "```\n",
    "- `X`：输入的属性矩阵，形状为`[n_samples, n_features]`\n",
    "- `y`：类别标签数组，形状为`[n_samples]`"
   ]
  },
  {
   "cell_type": "code",
   "execution_count": 8,
   "metadata": {
    "slideshow": {
     "slide_type": "fragment"
    }
   },
   "outputs": [
    {
     "data": {
      "text/html": [
       "<div>\n",
       "<style scoped>\n",
       "    .dataframe tbody tr th:only-of-type {\n",
       "        vertical-align: middle;\n",
       "    }\n",
       "\n",
       "    .dataframe tbody tr th {\n",
       "        vertical-align: top;\n",
       "    }\n",
       "\n",
       "    .dataframe thead th {\n",
       "        text-align: right;\n",
       "    }\n",
       "</style>\n",
       "<table border=\"1\" class=\"dataframe\">\n",
       "  <thead>\n",
       "    <tr style=\"text-align: right;\">\n",
       "      <th></th>\n",
       "      <th>有房者</th>\n",
       "      <th>婚姻状况</th>\n",
       "      <th>年收入</th>\n",
       "      <th>拖欠贷款</th>\n",
       "    </tr>\n",
       "  </thead>\n",
       "  <tbody>\n",
       "    <tr>\n",
       "      <th>0</th>\n",
       "      <td>是</td>\n",
       "      <td>单身</td>\n",
       "      <td>125</td>\n",
       "      <td>否</td>\n",
       "    </tr>\n",
       "    <tr>\n",
       "      <th>1</th>\n",
       "      <td>否</td>\n",
       "      <td>已婚</td>\n",
       "      <td>100</td>\n",
       "      <td>否</td>\n",
       "    </tr>\n",
       "    <tr>\n",
       "      <th>2</th>\n",
       "      <td>否</td>\n",
       "      <td>单身</td>\n",
       "      <td>70</td>\n",
       "      <td>否</td>\n",
       "    </tr>\n",
       "    <tr>\n",
       "      <th>3</th>\n",
       "      <td>是</td>\n",
       "      <td>已婚</td>\n",
       "      <td>120</td>\n",
       "      <td>否</td>\n",
       "    </tr>\n",
       "    <tr>\n",
       "      <th>4</th>\n",
       "      <td>否</td>\n",
       "      <td>离异</td>\n",
       "      <td>95</td>\n",
       "      <td>是</td>\n",
       "    </tr>\n",
       "    <tr>\n",
       "      <th>5</th>\n",
       "      <td>否</td>\n",
       "      <td>已婚</td>\n",
       "      <td>60</td>\n",
       "      <td>否</td>\n",
       "    </tr>\n",
       "    <tr>\n",
       "      <th>6</th>\n",
       "      <td>是</td>\n",
       "      <td>离异</td>\n",
       "      <td>220</td>\n",
       "      <td>否</td>\n",
       "    </tr>\n",
       "    <tr>\n",
       "      <th>7</th>\n",
       "      <td>否</td>\n",
       "      <td>单身</td>\n",
       "      <td>85</td>\n",
       "      <td>是</td>\n",
       "    </tr>\n",
       "    <tr>\n",
       "      <th>8</th>\n",
       "      <td>否</td>\n",
       "      <td>已婚</td>\n",
       "      <td>75</td>\n",
       "      <td>否</td>\n",
       "    </tr>\n",
       "    <tr>\n",
       "      <th>9</th>\n",
       "      <td>否</td>\n",
       "      <td>单身</td>\n",
       "      <td>90</td>\n",
       "      <td>是</td>\n",
       "    </tr>\n",
       "  </tbody>\n",
       "</table>\n",
       "</div>"
      ],
      "text/plain": [
       "  有房者 婚姻状况  年收入 拖欠贷款\n",
       "0   是   单身  125    否\n",
       "1   否   已婚  100    否\n",
       "2   否   单身   70    否\n",
       "3   是   已婚  120    否\n",
       "4   否   离异   95    是\n",
       "5   否   已婚   60    否\n",
       "6   是   离异  220    否\n",
       "7   否   单身   85    是\n",
       "8   否   已婚   75    否\n",
       "9   否   单身   90    是"
      ]
     },
     "execution_count": 8,
     "metadata": {},
     "output_type": "execute_result"
    }
   ],
   "source": [
    "debt=[['是','否','否','是','否','否','是','否','否','否'],\n",
    "      ['单身','已婚','单身','已婚','离异','已婚','离异','单身','已婚','单身'],\n",
    "      [125,100,70,120,95,60,220,85,75,90],\n",
    "      ['否','否','否','否','是','否','否','是','否','是']]\n",
    "debttrain = pd.DataFrame(debt, index=['有房者','婚姻状况','年收入','拖欠贷款']).T\n",
    "debttrain"
   ]
  },
  {
   "cell_type": "code",
   "execution_count": 9,
   "metadata": {
    "scrolled": true,
    "slideshow": {
     "slide_type": "fragment"
    }
   },
   "outputs": [
    {
     "ename": "ValueError",
     "evalue": "could not convert string to float: '是'",
     "output_type": "error",
     "traceback": [
      "\u001b[0;31m---------------------------------------------------------------------------\u001b[0m",
      "\u001b[0;31mValueError\u001b[0m                                Traceback (most recent call last)",
      "\u001b[0;32m<ipython-input-9-436b348b2d1d>\u001b[0m in \u001b[0;36m<module>\u001b[0;34m\u001b[0m\n\u001b[0;32m----> 1\u001b[0;31m \u001b[0mdtDebt\u001b[0m\u001b[0;34m.\u001b[0m\u001b[0mfit\u001b[0m\u001b[0;34m(\u001b[0m\u001b[0mdebttrain\u001b[0m\u001b[0;34m.\u001b[0m\u001b[0miloc\u001b[0m\u001b[0;34m[\u001b[0m\u001b[0;34m:\u001b[0m\u001b[0;34m,\u001b[0m\u001b[0;34m:\u001b[0m\u001b[0;34m-\u001b[0m\u001b[0;36m1\u001b[0m\u001b[0;34m]\u001b[0m\u001b[0;34m,\u001b[0m \u001b[0mdebttrain\u001b[0m\u001b[0;34m.\u001b[0m\u001b[0miloc\u001b[0m\u001b[0;34m[\u001b[0m\u001b[0;34m:\u001b[0m\u001b[0;34m,\u001b[0m\u001b[0;34m-\u001b[0m\u001b[0;36m1\u001b[0m\u001b[0;34m]\u001b[0m\u001b[0;34m)\u001b[0m\u001b[0;34m\u001b[0m\u001b[0;34m\u001b[0m\u001b[0m\n\u001b[0m",
      "\u001b[0;32m/home/VENV36/lib/python3.6/site-packages/sklearn/tree/_classes.py\u001b[0m in \u001b[0;36mfit\u001b[0;34m(self, X, y, sample_weight, check_input, X_idx_sorted)\u001b[0m\n\u001b[1;32m    875\u001b[0m             \u001b[0msample_weight\u001b[0m\u001b[0;34m=\u001b[0m\u001b[0msample_weight\u001b[0m\u001b[0;34m,\u001b[0m\u001b[0;34m\u001b[0m\u001b[0;34m\u001b[0m\u001b[0m\n\u001b[1;32m    876\u001b[0m             \u001b[0mcheck_input\u001b[0m\u001b[0;34m=\u001b[0m\u001b[0mcheck_input\u001b[0m\u001b[0;34m,\u001b[0m\u001b[0;34m\u001b[0m\u001b[0;34m\u001b[0m\u001b[0m\n\u001b[0;32m--> 877\u001b[0;31m             X_idx_sorted=X_idx_sorted)\n\u001b[0m\u001b[1;32m    878\u001b[0m         \u001b[0;32mreturn\u001b[0m \u001b[0mself\u001b[0m\u001b[0;34m\u001b[0m\u001b[0;34m\u001b[0m\u001b[0m\n\u001b[1;32m    879\u001b[0m \u001b[0;34m\u001b[0m\u001b[0m\n",
      "\u001b[0;32m/home/VENV36/lib/python3.6/site-packages/sklearn/tree/_classes.py\u001b[0m in \u001b[0;36mfit\u001b[0;34m(self, X, y, sample_weight, check_input, X_idx_sorted)\u001b[0m\n\u001b[1;32m    147\u001b[0m \u001b[0;34m\u001b[0m\u001b[0m\n\u001b[1;32m    148\u001b[0m         \u001b[0;32mif\u001b[0m \u001b[0mcheck_input\u001b[0m\u001b[0;34m:\u001b[0m\u001b[0;34m\u001b[0m\u001b[0;34m\u001b[0m\u001b[0m\n\u001b[0;32m--> 149\u001b[0;31m             \u001b[0mX\u001b[0m \u001b[0;34m=\u001b[0m \u001b[0mcheck_array\u001b[0m\u001b[0;34m(\u001b[0m\u001b[0mX\u001b[0m\u001b[0;34m,\u001b[0m \u001b[0mdtype\u001b[0m\u001b[0;34m=\u001b[0m\u001b[0mDTYPE\u001b[0m\u001b[0;34m,\u001b[0m \u001b[0maccept_sparse\u001b[0m\u001b[0;34m=\u001b[0m\u001b[0;34m\"csc\"\u001b[0m\u001b[0;34m)\u001b[0m\u001b[0;34m\u001b[0m\u001b[0;34m\u001b[0m\u001b[0m\n\u001b[0m\u001b[1;32m    150\u001b[0m             \u001b[0my\u001b[0m \u001b[0;34m=\u001b[0m \u001b[0mcheck_array\u001b[0m\u001b[0;34m(\u001b[0m\u001b[0my\u001b[0m\u001b[0;34m,\u001b[0m \u001b[0mensure_2d\u001b[0m\u001b[0;34m=\u001b[0m\u001b[0;32mFalse\u001b[0m\u001b[0;34m,\u001b[0m \u001b[0mdtype\u001b[0m\u001b[0;34m=\u001b[0m\u001b[0;32mNone\u001b[0m\u001b[0;34m)\u001b[0m\u001b[0;34m\u001b[0m\u001b[0;34m\u001b[0m\u001b[0m\n\u001b[1;32m    151\u001b[0m             \u001b[0;32mif\u001b[0m \u001b[0missparse\u001b[0m\u001b[0;34m(\u001b[0m\u001b[0mX\u001b[0m\u001b[0;34m)\u001b[0m\u001b[0;34m:\u001b[0m\u001b[0;34m\u001b[0m\u001b[0;34m\u001b[0m\u001b[0m\n",
      "\u001b[0;32m/home/VENV36/lib/python3.6/site-packages/sklearn/utils/validation.py\u001b[0m in \u001b[0;36mcheck_array\u001b[0;34m(array, accept_sparse, accept_large_sparse, dtype, order, copy, force_all_finite, ensure_2d, allow_nd, ensure_min_samples, ensure_min_features, warn_on_dtype, estimator)\u001b[0m\n\u001b[1;32m    529\u001b[0m                     \u001b[0marray\u001b[0m \u001b[0;34m=\u001b[0m \u001b[0marray\u001b[0m\u001b[0;34m.\u001b[0m\u001b[0mastype\u001b[0m\u001b[0;34m(\u001b[0m\u001b[0mdtype\u001b[0m\u001b[0;34m,\u001b[0m \u001b[0mcasting\u001b[0m\u001b[0;34m=\u001b[0m\u001b[0;34m\"unsafe\"\u001b[0m\u001b[0;34m,\u001b[0m \u001b[0mcopy\u001b[0m\u001b[0;34m=\u001b[0m\u001b[0;32mFalse\u001b[0m\u001b[0;34m)\u001b[0m\u001b[0;34m\u001b[0m\u001b[0;34m\u001b[0m\u001b[0m\n\u001b[1;32m    530\u001b[0m                 \u001b[0;32melse\u001b[0m\u001b[0;34m:\u001b[0m\u001b[0;34m\u001b[0m\u001b[0;34m\u001b[0m\u001b[0m\n\u001b[0;32m--> 531\u001b[0;31m                     \u001b[0marray\u001b[0m \u001b[0;34m=\u001b[0m \u001b[0mnp\u001b[0m\u001b[0;34m.\u001b[0m\u001b[0masarray\u001b[0m\u001b[0;34m(\u001b[0m\u001b[0marray\u001b[0m\u001b[0;34m,\u001b[0m \u001b[0morder\u001b[0m\u001b[0;34m=\u001b[0m\u001b[0morder\u001b[0m\u001b[0;34m,\u001b[0m \u001b[0mdtype\u001b[0m\u001b[0;34m=\u001b[0m\u001b[0mdtype\u001b[0m\u001b[0;34m)\u001b[0m\u001b[0;34m\u001b[0m\u001b[0;34m\u001b[0m\u001b[0m\n\u001b[0m\u001b[1;32m    532\u001b[0m             \u001b[0;32mexcept\u001b[0m \u001b[0mComplexWarning\u001b[0m\u001b[0;34m:\u001b[0m\u001b[0;34m\u001b[0m\u001b[0;34m\u001b[0m\u001b[0m\n\u001b[1;32m    533\u001b[0m                 raise ValueError(\"Complex data not supported\\n\"\n",
      "\u001b[0;32m/home/VENV36/lib/python3.6/site-packages/numpy/core/_asarray.py\u001b[0m in \u001b[0;36masarray\u001b[0;34m(a, dtype, order)\u001b[0m\n\u001b[1;32m     83\u001b[0m \u001b[0;34m\u001b[0m\u001b[0m\n\u001b[1;32m     84\u001b[0m     \"\"\"\n\u001b[0;32m---> 85\u001b[0;31m     \u001b[0;32mreturn\u001b[0m \u001b[0marray\u001b[0m\u001b[0;34m(\u001b[0m\u001b[0ma\u001b[0m\u001b[0;34m,\u001b[0m \u001b[0mdtype\u001b[0m\u001b[0;34m,\u001b[0m \u001b[0mcopy\u001b[0m\u001b[0;34m=\u001b[0m\u001b[0;32mFalse\u001b[0m\u001b[0;34m,\u001b[0m \u001b[0morder\u001b[0m\u001b[0;34m=\u001b[0m\u001b[0morder\u001b[0m\u001b[0;34m)\u001b[0m\u001b[0;34m\u001b[0m\u001b[0;34m\u001b[0m\u001b[0m\n\u001b[0m\u001b[1;32m     86\u001b[0m \u001b[0;34m\u001b[0m\u001b[0m\n\u001b[1;32m     87\u001b[0m \u001b[0;34m\u001b[0m\u001b[0m\n",
      "\u001b[0;31mValueError\u001b[0m: could not convert string to float: '是'"
     ]
    }
   ],
   "source": [
    "dtDebt.fit(debttrain.iloc[:,:-1], debttrain.iloc[:,-1])"
   ]
  },
  {
   "cell_type": "markdown",
   "metadata": {
    "slideshow": {
     "slide_type": "subslide"
    }
   },
   "source": [
    "#### 转变预测属性"
   ]
  },
  {
   "cell_type": "markdown",
   "metadata": {
    "slideshow": {
     "slide_type": "fragment"
    }
   },
   "source": [
    "> `DecisionTreeClassifer`只支持数值型预测属性\n",
    "- 但是对类别标签没有要求"
   ]
  },
  {
   "cell_type": "markdown",
   "metadata": {
    "slideshow": {
     "slide_type": "fragment"
    }
   },
   "source": [
    "##### **One-Hot Encoding**：将标称属性转换成二元属性"
   ]
  },
  {
   "cell_type": "markdown",
   "metadata": {
    "slideshow": {
     "slide_type": "fragment"
    }
   },
   "source": [
    "```python\n",
    "pandas.get_dummies(data, columns=None)\n",
    "```\n",
    "- `data`：`Series`类型，或者`DataFrame`类型\n",
    "- `columns`：列名的`list`类型，数据集中哪些列需要转换，默认是将数据集中所有列进行转换\n",
    "- 返回值：由二元化的属性构成的`DataFrame`"
   ]
  },
  {
   "cell_type": "code",
   "execution_count": 10,
   "metadata": {
    "slideshow": {
     "slide_type": "fragment"
    }
   },
   "outputs": [
    {
     "data": {
      "text/html": [
       "<div>\n",
       "<style scoped>\n",
       "    .dataframe tbody tr th:only-of-type {\n",
       "        vertical-align: middle;\n",
       "    }\n",
       "\n",
       "    .dataframe tbody tr th {\n",
       "        vertical-align: top;\n",
       "    }\n",
       "\n",
       "    .dataframe thead th {\n",
       "        text-align: right;\n",
       "    }\n",
       "</style>\n",
       "<table border=\"1\" class=\"dataframe\">\n",
       "  <thead>\n",
       "    <tr style=\"text-align: right;\">\n",
       "      <th></th>\n",
       "      <th>有房者</th>\n",
       "      <th>婚姻状况</th>\n",
       "      <th>年收入</th>\n",
       "      <th>拖欠贷款</th>\n",
       "    </tr>\n",
       "  </thead>\n",
       "  <tbody>\n",
       "    <tr>\n",
       "      <th>0</th>\n",
       "      <td>是</td>\n",
       "      <td>单身</td>\n",
       "      <td>125</td>\n",
       "      <td>否</td>\n",
       "    </tr>\n",
       "    <tr>\n",
       "      <th>1</th>\n",
       "      <td>否</td>\n",
       "      <td>已婚</td>\n",
       "      <td>100</td>\n",
       "      <td>否</td>\n",
       "    </tr>\n",
       "    <tr>\n",
       "      <th>2</th>\n",
       "      <td>否</td>\n",
       "      <td>单身</td>\n",
       "      <td>70</td>\n",
       "      <td>否</td>\n",
       "    </tr>\n",
       "    <tr>\n",
       "      <th>3</th>\n",
       "      <td>是</td>\n",
       "      <td>已婚</td>\n",
       "      <td>120</td>\n",
       "      <td>否</td>\n",
       "    </tr>\n",
       "    <tr>\n",
       "      <th>4</th>\n",
       "      <td>否</td>\n",
       "      <td>离异</td>\n",
       "      <td>95</td>\n",
       "      <td>是</td>\n",
       "    </tr>\n",
       "    <tr>\n",
       "      <th>5</th>\n",
       "      <td>否</td>\n",
       "      <td>已婚</td>\n",
       "      <td>60</td>\n",
       "      <td>否</td>\n",
       "    </tr>\n",
       "    <tr>\n",
       "      <th>6</th>\n",
       "      <td>是</td>\n",
       "      <td>离异</td>\n",
       "      <td>220</td>\n",
       "      <td>否</td>\n",
       "    </tr>\n",
       "    <tr>\n",
       "      <th>7</th>\n",
       "      <td>否</td>\n",
       "      <td>单身</td>\n",
       "      <td>85</td>\n",
       "      <td>是</td>\n",
       "    </tr>\n",
       "    <tr>\n",
       "      <th>8</th>\n",
       "      <td>否</td>\n",
       "      <td>已婚</td>\n",
       "      <td>75</td>\n",
       "      <td>否</td>\n",
       "    </tr>\n",
       "    <tr>\n",
       "      <th>9</th>\n",
       "      <td>否</td>\n",
       "      <td>单身</td>\n",
       "      <td>90</td>\n",
       "      <td>是</td>\n",
       "    </tr>\n",
       "  </tbody>\n",
       "</table>\n",
       "</div>"
      ],
      "text/plain": [
       "  有房者 婚姻状况  年收入 拖欠贷款\n",
       "0   是   单身  125    否\n",
       "1   否   已婚  100    否\n",
       "2   否   单身   70    否\n",
       "3   是   已婚  120    否\n",
       "4   否   离异   95    是\n",
       "5   否   已婚   60    否\n",
       "6   是   离异  220    否\n",
       "7   否   单身   85    是\n",
       "8   否   已婚   75    否\n",
       "9   否   单身   90    是"
      ]
     },
     "execution_count": 10,
     "metadata": {},
     "output_type": "execute_result"
    },
    {
     "data": {
      "text/html": [
       "<div>\n",
       "<style scoped>\n",
       "    .dataframe tbody tr th:only-of-type {\n",
       "        vertical-align: middle;\n",
       "    }\n",
       "\n",
       "    .dataframe tbody tr th {\n",
       "        vertical-align: top;\n",
       "    }\n",
       "\n",
       "    .dataframe thead th {\n",
       "        text-align: right;\n",
       "    }\n",
       "</style>\n",
       "<table border=\"1\" class=\"dataframe\">\n",
       "  <thead>\n",
       "    <tr style=\"text-align: right;\">\n",
       "      <th></th>\n",
       "      <th>年收入</th>\n",
       "      <th>拖欠贷款</th>\n",
       "      <th>有房者_否</th>\n",
       "      <th>有房者_是</th>\n",
       "      <th>婚姻状况_单身</th>\n",
       "      <th>婚姻状况_已婚</th>\n",
       "      <th>婚姻状况_离异</th>\n",
       "    </tr>\n",
       "  </thead>\n",
       "  <tbody>\n",
       "    <tr>\n",
       "      <th>0</th>\n",
       "      <td>125</td>\n",
       "      <td>否</td>\n",
       "      <td>0</td>\n",
       "      <td>1</td>\n",
       "      <td>1</td>\n",
       "      <td>0</td>\n",
       "      <td>0</td>\n",
       "    </tr>\n",
       "    <tr>\n",
       "      <th>1</th>\n",
       "      <td>100</td>\n",
       "      <td>否</td>\n",
       "      <td>1</td>\n",
       "      <td>0</td>\n",
       "      <td>0</td>\n",
       "      <td>1</td>\n",
       "      <td>0</td>\n",
       "    </tr>\n",
       "    <tr>\n",
       "      <th>2</th>\n",
       "      <td>70</td>\n",
       "      <td>否</td>\n",
       "      <td>1</td>\n",
       "      <td>0</td>\n",
       "      <td>1</td>\n",
       "      <td>0</td>\n",
       "      <td>0</td>\n",
       "    </tr>\n",
       "    <tr>\n",
       "      <th>3</th>\n",
       "      <td>120</td>\n",
       "      <td>否</td>\n",
       "      <td>0</td>\n",
       "      <td>1</td>\n",
       "      <td>0</td>\n",
       "      <td>1</td>\n",
       "      <td>0</td>\n",
       "    </tr>\n",
       "    <tr>\n",
       "      <th>4</th>\n",
       "      <td>95</td>\n",
       "      <td>是</td>\n",
       "      <td>1</td>\n",
       "      <td>0</td>\n",
       "      <td>0</td>\n",
       "      <td>0</td>\n",
       "      <td>1</td>\n",
       "    </tr>\n",
       "    <tr>\n",
       "      <th>5</th>\n",
       "      <td>60</td>\n",
       "      <td>否</td>\n",
       "      <td>1</td>\n",
       "      <td>0</td>\n",
       "      <td>0</td>\n",
       "      <td>1</td>\n",
       "      <td>0</td>\n",
       "    </tr>\n",
       "    <tr>\n",
       "      <th>6</th>\n",
       "      <td>220</td>\n",
       "      <td>否</td>\n",
       "      <td>0</td>\n",
       "      <td>1</td>\n",
       "      <td>0</td>\n",
       "      <td>0</td>\n",
       "      <td>1</td>\n",
       "    </tr>\n",
       "    <tr>\n",
       "      <th>7</th>\n",
       "      <td>85</td>\n",
       "      <td>是</td>\n",
       "      <td>1</td>\n",
       "      <td>0</td>\n",
       "      <td>1</td>\n",
       "      <td>0</td>\n",
       "      <td>0</td>\n",
       "    </tr>\n",
       "    <tr>\n",
       "      <th>8</th>\n",
       "      <td>75</td>\n",
       "      <td>否</td>\n",
       "      <td>1</td>\n",
       "      <td>0</td>\n",
       "      <td>0</td>\n",
       "      <td>1</td>\n",
       "      <td>0</td>\n",
       "    </tr>\n",
       "    <tr>\n",
       "      <th>9</th>\n",
       "      <td>90</td>\n",
       "      <td>是</td>\n",
       "      <td>1</td>\n",
       "      <td>0</td>\n",
       "      <td>1</td>\n",
       "      <td>0</td>\n",
       "      <td>0</td>\n",
       "    </tr>\n",
       "  </tbody>\n",
       "</table>\n",
       "</div>"
      ],
      "text/plain": [
       "   年收入 拖欠贷款  有房者_否  有房者_是  婚姻状况_单身  婚姻状况_已婚  婚姻状况_离异\n",
       "0  125    否      0      1        1        0        0\n",
       "1  100    否      1      0        0        1        0\n",
       "2   70    否      1      0        1        0        0\n",
       "3  120    否      0      1        0        1        0\n",
       "4   95    是      1      0        0        0        1\n",
       "5   60    否      1      0        0        1        0\n",
       "6  220    否      0      1        0        0        1\n",
       "7   85    是      1      0        1        0        0\n",
       "8   75    否      1      0        0        1        0\n",
       "9   90    是      1      0        1        0        0"
      ]
     },
     "execution_count": 10,
     "metadata": {},
     "output_type": "execute_result"
    },
    {
     "data": {
      "text/html": [
       "<div>\n",
       "<style scoped>\n",
       "    .dataframe tbody tr th:only-of-type {\n",
       "        vertical-align: middle;\n",
       "    }\n",
       "\n",
       "    .dataframe tbody tr th {\n",
       "        vertical-align: top;\n",
       "    }\n",
       "\n",
       "    .dataframe thead th {\n",
       "        text-align: right;\n",
       "    }\n",
       "</style>\n",
       "<table border=\"1\" class=\"dataframe\">\n",
       "  <thead>\n",
       "    <tr style=\"text-align: right;\">\n",
       "      <th></th>\n",
       "      <th>年收入</th>\n",
       "      <th>有房者_否</th>\n",
       "      <th>有房者_是</th>\n",
       "      <th>婚姻状况_单身</th>\n",
       "      <th>婚姻状况_已婚</th>\n",
       "      <th>婚姻状况_离异</th>\n",
       "    </tr>\n",
       "  </thead>\n",
       "  <tbody>\n",
       "    <tr>\n",
       "      <th>0</th>\n",
       "      <td>125</td>\n",
       "      <td>0</td>\n",
       "      <td>1</td>\n",
       "      <td>1</td>\n",
       "      <td>0</td>\n",
       "      <td>0</td>\n",
       "    </tr>\n",
       "    <tr>\n",
       "      <th>1</th>\n",
       "      <td>100</td>\n",
       "      <td>1</td>\n",
       "      <td>0</td>\n",
       "      <td>0</td>\n",
       "      <td>1</td>\n",
       "      <td>0</td>\n",
       "    </tr>\n",
       "    <tr>\n",
       "      <th>2</th>\n",
       "      <td>70</td>\n",
       "      <td>1</td>\n",
       "      <td>0</td>\n",
       "      <td>1</td>\n",
       "      <td>0</td>\n",
       "      <td>0</td>\n",
       "    </tr>\n",
       "    <tr>\n",
       "      <th>3</th>\n",
       "      <td>120</td>\n",
       "      <td>0</td>\n",
       "      <td>1</td>\n",
       "      <td>0</td>\n",
       "      <td>1</td>\n",
       "      <td>0</td>\n",
       "    </tr>\n",
       "    <tr>\n",
       "      <th>4</th>\n",
       "      <td>95</td>\n",
       "      <td>1</td>\n",
       "      <td>0</td>\n",
       "      <td>0</td>\n",
       "      <td>0</td>\n",
       "      <td>1</td>\n",
       "    </tr>\n",
       "    <tr>\n",
       "      <th>5</th>\n",
       "      <td>60</td>\n",
       "      <td>1</td>\n",
       "      <td>0</td>\n",
       "      <td>0</td>\n",
       "      <td>1</td>\n",
       "      <td>0</td>\n",
       "    </tr>\n",
       "    <tr>\n",
       "      <th>6</th>\n",
       "      <td>220</td>\n",
       "      <td>0</td>\n",
       "      <td>1</td>\n",
       "      <td>0</td>\n",
       "      <td>0</td>\n",
       "      <td>1</td>\n",
       "    </tr>\n",
       "    <tr>\n",
       "      <th>7</th>\n",
       "      <td>85</td>\n",
       "      <td>1</td>\n",
       "      <td>0</td>\n",
       "      <td>1</td>\n",
       "      <td>0</td>\n",
       "      <td>0</td>\n",
       "    </tr>\n",
       "    <tr>\n",
       "      <th>8</th>\n",
       "      <td>75</td>\n",
       "      <td>1</td>\n",
       "      <td>0</td>\n",
       "      <td>0</td>\n",
       "      <td>1</td>\n",
       "      <td>0</td>\n",
       "    </tr>\n",
       "    <tr>\n",
       "      <th>9</th>\n",
       "      <td>90</td>\n",
       "      <td>1</td>\n",
       "      <td>0</td>\n",
       "      <td>1</td>\n",
       "      <td>0</td>\n",
       "      <td>0</td>\n",
       "    </tr>\n",
       "  </tbody>\n",
       "</table>\n",
       "</div>"
      ],
      "text/plain": [
       "   年收入  有房者_否  有房者_是  婚姻状况_单身  婚姻状况_已婚  婚姻状况_离异\n",
       "0  125      0      1        1        0        0\n",
       "1  100      1      0        0        1        0\n",
       "2   70      1      0        1        0        0\n",
       "3  120      0      1        0        1        0\n",
       "4   95      1      0        0        0        1\n",
       "5   60      1      0        0        1        0\n",
       "6  220      0      1        0        0        1\n",
       "7   85      1      0        1        0        0\n",
       "8   75      1      0        0        1        0\n",
       "9   90      1      0        1        0        0"
      ]
     },
     "execution_count": 10,
     "metadata": {},
     "output_type": "execute_result"
    }
   ],
   "source": [
    "debttrainOH = pd.get_dummies(debttrain, columns=['有房者','婚姻状况'])\n",
    "debttrain\n",
    "debttrainOH\n",
    "debttrainY = debttrainOH.pop('拖欠贷款')\n",
    "debttrainOH"
   ]
  },
  {
   "cell_type": "code",
   "execution_count": 11,
   "metadata": {
    "slideshow": {
     "slide_type": "slide"
    }
   },
   "outputs": [
    {
     "data": {
      "text/plain": [
       "DecisionTreeClassifier(ccp_alpha=0.0, class_weight=None, criterion='gini',\n",
       "                       max_depth=None, max_features=None, max_leaf_nodes=None,\n",
       "                       min_impurity_decrease=0.0, min_impurity_split=None,\n",
       "                       min_samples_leaf=1, min_samples_split=2,\n",
       "                       min_weight_fraction_leaf=0.0, presort='deprecated',\n",
       "                       random_state=None, splitter='best')"
      ]
     },
     "execution_count": 11,
     "metadata": {},
     "output_type": "execute_result"
    }
   ],
   "source": [
    "dtDebt.fit(debttrainOH, debttrainY)"
   ]
  },
  {
   "cell_type": "markdown",
   "metadata": {
    "slideshow": {
     "slide_type": "subslide"
    }
   },
   "source": [
    "#### 决策树可视化"
   ]
  },
  {
   "cell_type": "markdown",
   "metadata": {
    "slideshow": {
     "slide_type": "fragment"
    }
   },
   "source": [
    "##### 决策规则以文本形式输出"
   ]
  },
  {
   "cell_type": "markdown",
   "metadata": {
    "slideshow": {
     "slide_type": "fragment"
    }
   },
   "source": [
    "```python\n",
    "tree.export_text(decision_tree, feature_names=None)\n",
    "```\n",
    "- `decision_tree`：训练过的决策树模型\n",
    "- `feature_names`：由预测属性名称构成的列表"
   ]
  },
  {
   "cell_type": "code",
   "execution_count": 12,
   "metadata": {
    "slideshow": {
     "slide_type": "fragment"
    }
   },
   "outputs": [
    {
     "name": "stdout",
     "output_type": "stream",
     "text": [
      "|--- 年收入 <= 97.50\n",
      "|   |--- 年收入 <= 80.00\n",
      "|   |   |--- class: 否\n",
      "|   |--- 年收入 >  80.00\n",
      "|   |   |--- class: 是\n",
      "|--- 年收入 >  97.50\n",
      "|   |--- class: 否\n",
      "\n"
     ]
    }
   ],
   "source": [
    "print(tree.export_text(dtDebt,feature_names=list(debttrainOH.columns)))"
   ]
  },
  {
   "cell_type": "markdown",
   "metadata": {
    "slideshow": {
     "slide_type": "slide"
    }
   },
   "source": [
    "##### 决策规则以图形形式输出：Graphviz"
   ]
  },
  {
   "cell_type": "markdown",
   "metadata": {
    "slideshow": {
     "slide_type": "fragment"
    }
   },
   "source": [
    "- Graphviz是一个开源的流程图绘制软件\n",
    "- 官方网站：[http://graphviz.org/](http://graphviz.org/)"
   ]
  },
  {
   "cell_type": "markdown",
   "metadata": {
    "slideshow": {
     "slide_type": "fragment"
    }
   },
   "source": [
    "- 下载安装\n",
    "    + `Windows`系统下载`graphviz-2.38.msi`：[https://graphviz.gitlab.io/_pages/Download/Download_windows.html](https://graphviz.gitlab.io/_pages/Download/Download_windows.html)\n",
    "    + `Mac`系统，参考[https://blog.csdn.net/w1573007/article/details/80117725?depth_1-utm_source=distribute.pc_relevant.none-task&utm_source=distribute.pc_relevant.none-task](https://blog.csdn.net/w1573007/article/details/80117725?depth_1-utm_source=distribute.pc_relevant.none-task&utm_source=distribute.pc_relevant.none-task)"
   ]
  },
  {
   "cell_type": "markdown",
   "metadata": {
    "slideshow": {
     "slide_type": "subslide"
    }
   },
   "source": [
    "- 将Graphviz添加到`Windows`的环境变量"
   ]
  },
  {
   "cell_type": "markdown",
   "metadata": {
    "slideshow": {
     "slide_type": "fragment"
    }
   },
   "source": [
    "<center><img src=\"./img/classification/graphvizPath.png\" width=60%></center>"
   ]
  },
  {
   "cell_type": "markdown",
   "metadata": {
    "slideshow": {
     "slide_type": "fragment"
    }
   },
   "source": [
    "> 将`C:\\Program Files (x86)\\Graphviz2.38\\bin\\;`添加到`Path`变量值的最后，与前面的项目之间用英文`;`间隔\n",
    "<center><img src=\"./img/classification/graphvizPath1.png\" width=40%></center>"
   ]
  },
  {
   "cell_type": "markdown",
   "metadata": {
    "slideshow": {
     "slide_type": "fragment"
    }
   },
   "source": [
    "-  Python中安装Graphviz包\n",
    "\n",
    "```python\n",
    "pip install graphviz\n",
    "```"
   ]
  },
  {
   "cell_type": "markdown",
   "metadata": {
    "slideshow": {
     "slide_type": "slide"
    }
   },
   "source": [
    "##### 显示决策树"
   ]
  },
  {
   "cell_type": "markdown",
   "metadata": {
    "slideshow": {
     "slide_type": "fragment"
    }
   },
   "source": [
    "- `sklearn`中将决策树导出成为`Graphviz`图形的函数"
   ]
  },
  {
   "cell_type": "markdown",
   "metadata": {
    "slideshow": {
     "slide_type": "fragment"
    }
   },
   "source": [
    "```python\n",
    "tree.export_graphviz(decision_tree, feature_names=None, class_names=None, filled=False)\n",
    "```\n",
    "- `decision_tree`：生成的决策树\n",
    "- `feature_names`：`str`列表，由预测属性的名称构成\n",
    "- `class_names`：`str`列表，给每个类别命名，依据类别对应的数值的升序排列，与`dt.classes_`显示的类别顺序一致\n",
    "- `filled`：是否给节点上色，默认否"
   ]
  },
  {
   "cell_type": "code",
   "execution_count": 13,
   "metadata": {
    "slideshow": {
     "slide_type": "fragment"
    }
   },
   "outputs": [],
   "source": [
    "dotDataRaw = tree.export_graphviz(dtDebt)"
   ]
  },
  {
   "cell_type": "code",
   "execution_count": 14,
   "metadata": {
    "slideshow": {
     "slide_type": "fragment"
    }
   },
   "outputs": [
    {
     "data": {
      "image/svg+xml": [
       "<?xml version=\"1.0\" encoding=\"UTF-8\" standalone=\"no\"?>\n",
       "<!DOCTYPE svg PUBLIC \"-//W3C//DTD SVG 1.1//EN\"\n",
       " \"http://www.w3.org/Graphics/SVG/1.1/DTD/svg11.dtd\">\n",
       "<!-- Generated by graphviz version 2.38.0 (20140413.2041)\n",
       " -->\n",
       "<!-- Title: Tree Pages: 1 -->\n",
       "<svg width=\"265pt\" height=\"269pt\"\n",
       " viewBox=\"0.00 0.00 265.00 269.00\" xmlns=\"http://www.w3.org/2000/svg\" xmlns:xlink=\"http://www.w3.org/1999/xlink\">\n",
       "<g id=\"graph0\" class=\"graph\" transform=\"scale(1 1) rotate(0) translate(4 265)\">\n",
       "<title>Tree</title>\n",
       "<polygon fill=\"white\" stroke=\"none\" points=\"-4,4 -4,-265 261,-265 261,4 -4,4\"/>\n",
       "<!-- 0 -->\n",
       "<g id=\"node1\" class=\"node\"><title>0</title>\n",
       "<polygon fill=\"none\" stroke=\"black\" points=\"202,-261 110,-261 110,-193 202,-193 202,-261\"/>\n",
       "<text text-anchor=\"middle\" x=\"156\" y=\"-245.8\" font-family=\"Times,serif\" font-size=\"14.00\">X[0] &lt;= 97.5</text>\n",
       "<text text-anchor=\"middle\" x=\"156\" y=\"-230.8\" font-family=\"Times,serif\" font-size=\"14.00\">gini = 0.42</text>\n",
       "<text text-anchor=\"middle\" x=\"156\" y=\"-215.8\" font-family=\"Times,serif\" font-size=\"14.00\">samples = 10</text>\n",
       "<text text-anchor=\"middle\" x=\"156\" y=\"-200.8\" font-family=\"Times,serif\" font-size=\"14.00\">value = [7, 3]</text>\n",
       "</g>\n",
       "<!-- 1 -->\n",
       "<g id=\"node2\" class=\"node\"><title>1</title>\n",
       "<polygon fill=\"none\" stroke=\"black\" points=\"147,-157 55,-157 55,-89 147,-89 147,-157\"/>\n",
       "<text text-anchor=\"middle\" x=\"101\" y=\"-141.8\" font-family=\"Times,serif\" font-size=\"14.00\">X[0] &lt;= 80.0</text>\n",
       "<text text-anchor=\"middle\" x=\"101\" y=\"-126.8\" font-family=\"Times,serif\" font-size=\"14.00\">gini = 0.5</text>\n",
       "<text text-anchor=\"middle\" x=\"101\" y=\"-111.8\" font-family=\"Times,serif\" font-size=\"14.00\">samples = 6</text>\n",
       "<text text-anchor=\"middle\" x=\"101\" y=\"-96.8\" font-family=\"Times,serif\" font-size=\"14.00\">value = [3, 3]</text>\n",
       "</g>\n",
       "<!-- 0&#45;&gt;1 -->\n",
       "<g id=\"edge1\" class=\"edge\"><title>0&#45;&gt;1</title>\n",
       "<path fill=\"none\" stroke=\"black\" d=\"M138.143,-192.884C133.58,-184.422 128.612,-175.207 123.837,-166.352\"/>\n",
       "<polygon fill=\"black\" stroke=\"black\" points=\"126.782,-164.44 118.956,-157.299 120.621,-167.762 126.782,-164.44\"/>\n",
       "<text text-anchor=\"middle\" x=\"111.786\" y=\"-177.549\" font-family=\"Times,serif\" font-size=\"14.00\">True</text>\n",
       "</g>\n",
       "<!-- 4 -->\n",
       "<g id=\"node5\" class=\"node\"><title>4</title>\n",
       "<polygon fill=\"none\" stroke=\"black\" points=\"257,-149.5 165,-149.5 165,-96.5 257,-96.5 257,-149.5\"/>\n",
       "<text text-anchor=\"middle\" x=\"211\" y=\"-134.3\" font-family=\"Times,serif\" font-size=\"14.00\">gini = 0.0</text>\n",
       "<text text-anchor=\"middle\" x=\"211\" y=\"-119.3\" font-family=\"Times,serif\" font-size=\"14.00\">samples = 4</text>\n",
       "<text text-anchor=\"middle\" x=\"211\" y=\"-104.3\" font-family=\"Times,serif\" font-size=\"14.00\">value = [4, 0]</text>\n",
       "</g>\n",
       "<!-- 0&#45;&gt;4 -->\n",
       "<g id=\"edge4\" class=\"edge\"><title>0&#45;&gt;4</title>\n",
       "<path fill=\"none\" stroke=\"black\" d=\"M173.857,-192.884C179.787,-181.886 186.402,-169.617 192.388,-158.517\"/>\n",
       "<polygon fill=\"black\" stroke=\"black\" points=\"195.574,-159.983 197.239,-149.52 189.412,-156.661 195.574,-159.983\"/>\n",
       "<text text-anchor=\"middle\" x=\"204.409\" y=\"-169.77\" font-family=\"Times,serif\" font-size=\"14.00\">False</text>\n",
       "</g>\n",
       "<!-- 2 -->\n",
       "<g id=\"node3\" class=\"node\"><title>2</title>\n",
       "<polygon fill=\"none\" stroke=\"black\" points=\"92,-53 0,-53 0,-0 92,-0 92,-53\"/>\n",
       "<text text-anchor=\"middle\" x=\"46\" y=\"-37.8\" font-family=\"Times,serif\" font-size=\"14.00\">gini = 0.0</text>\n",
       "<text text-anchor=\"middle\" x=\"46\" y=\"-22.8\" font-family=\"Times,serif\" font-size=\"14.00\">samples = 3</text>\n",
       "<text text-anchor=\"middle\" x=\"46\" y=\"-7.8\" font-family=\"Times,serif\" font-size=\"14.00\">value = [3, 0]</text>\n",
       "</g>\n",
       "<!-- 1&#45;&gt;2 -->\n",
       "<g id=\"edge2\" class=\"edge\"><title>1&#45;&gt;2</title>\n",
       "<path fill=\"none\" stroke=\"black\" d=\"M81.7637,-88.9485C76.7056,-80.2579 71.2365,-70.8608 66.1328,-62.0917\"/>\n",
       "<polygon fill=\"black\" stroke=\"black\" points=\"69.0342,-60.1189 60.979,-53.2367 62.9843,-63.6401 69.0342,-60.1189\"/>\n",
       "</g>\n",
       "<!-- 3 -->\n",
       "<g id=\"node4\" class=\"node\"><title>3</title>\n",
       "<polygon fill=\"none\" stroke=\"black\" points=\"202,-53 110,-53 110,-0 202,-0 202,-53\"/>\n",
       "<text text-anchor=\"middle\" x=\"156\" y=\"-37.8\" font-family=\"Times,serif\" font-size=\"14.00\">gini = 0.0</text>\n",
       "<text text-anchor=\"middle\" x=\"156\" y=\"-22.8\" font-family=\"Times,serif\" font-size=\"14.00\">samples = 3</text>\n",
       "<text text-anchor=\"middle\" x=\"156\" y=\"-7.8\" font-family=\"Times,serif\" font-size=\"14.00\">value = [0, 3]</text>\n",
       "</g>\n",
       "<!-- 1&#45;&gt;3 -->\n",
       "<g id=\"edge3\" class=\"edge\"><title>1&#45;&gt;3</title>\n",
       "<path fill=\"none\" stroke=\"black\" d=\"M120.236,-88.9485C125.294,-80.2579 130.764,-70.8608 135.867,-62.0917\"/>\n",
       "<polygon fill=\"black\" stroke=\"black\" points=\"139.016,-63.6401 141.021,-53.2367 132.966,-60.1189 139.016,-63.6401\"/>\n",
       "</g>\n",
       "</g>\n",
       "</svg>\n"
      ],
      "text/plain": [
       "<graphviz.files.Source at 0x7f37fac02668>"
      ]
     },
     "execution_count": 14,
     "metadata": {},
     "output_type": "execute_result"
    }
   ],
   "source": [
    "import graphviz\n",
    "graphRaw = graphviz.Source(dotDataRaw)\n",
    "graphRaw"
   ]
  },
  {
   "cell_type": "code",
   "execution_count": 15,
   "metadata": {
    "slideshow": {
     "slide_type": "subslide"
    }
   },
   "outputs": [
    {
     "data": {
      "text/plain": [
       "array(['否', '是'], dtype=object)"
      ]
     },
     "execution_count": 15,
     "metadata": {},
     "output_type": "execute_result"
    }
   ],
   "source": [
    "dotData = tree.export_graphviz(dtDebt, feature_names=debttrainOH.columns, class_names=['无拖欠','拖欠'], filled=True)\n",
    "dtDebt.classes_"
   ]
  },
  {
   "cell_type": "code",
   "execution_count": 16,
   "metadata": {
    "slideshow": {
     "slide_type": "fragment"
    }
   },
   "outputs": [
    {
     "data": {
      "image/svg+xml": [
       "<?xml version=\"1.0\" encoding=\"UTF-8\" standalone=\"no\"?>\n",
       "<!DOCTYPE svg PUBLIC \"-//W3C//DTD SVG 1.1//EN\"\n",
       " \"http://www.w3.org/Graphics/SVG/1.1/DTD/svg11.dtd\">\n",
       "<!-- Generated by graphviz version 2.38.0 (20140413.2041)\n",
       " -->\n",
       "<!-- Title: Tree Pages: 1 -->\n",
       "<svg width=\"288pt\" height=\"314pt\"\n",
       " viewBox=\"0.00 0.00 288.00 314.00\" xmlns=\"http://www.w3.org/2000/svg\" xmlns:xlink=\"http://www.w3.org/1999/xlink\">\n",
       "<g id=\"graph0\" class=\"graph\" transform=\"scale(1 1) rotate(0) translate(4 310)\">\n",
       "<title>Tree</title>\n",
       "<polygon fill=\"white\" stroke=\"none\" points=\"-4,4 -4,-310 284,-310 284,4 -4,4\"/>\n",
       "<!-- 0 -->\n",
       "<g id=\"node1\" class=\"node\"><title>0</title>\n",
       "<polygon fill=\"#f0b78e\" stroke=\"black\" points=\"222,-306 115,-306 115,-223 222,-223 222,-306\"/>\n",
       "<text text-anchor=\"middle\" x=\"168.5\" y=\"-290.8\" font-family=\"Times,serif\" font-size=\"14.00\">年收入 &lt;= 97.5</text>\n",
       "<text text-anchor=\"middle\" x=\"168.5\" y=\"-275.8\" font-family=\"Times,serif\" font-size=\"14.00\">gini = 0.42</text>\n",
       "<text text-anchor=\"middle\" x=\"168.5\" y=\"-260.8\" font-family=\"Times,serif\" font-size=\"14.00\">samples = 10</text>\n",
       "<text text-anchor=\"middle\" x=\"168.5\" y=\"-245.8\" font-family=\"Times,serif\" font-size=\"14.00\">value = [7, 3]</text>\n",
       "<text text-anchor=\"middle\" x=\"168.5\" y=\"-230.8\" font-family=\"Times,serif\" font-size=\"14.00\">class = 无拖欠</text>\n",
       "</g>\n",
       "<!-- 1 -->\n",
       "<g id=\"node2\" class=\"node\"><title>1</title>\n",
       "<polygon fill=\"#ffffff\" stroke=\"black\" points=\"161,-187 54,-187 54,-104 161,-104 161,-187\"/>\n",
       "<text text-anchor=\"middle\" x=\"107.5\" y=\"-171.8\" font-family=\"Times,serif\" font-size=\"14.00\">年收入 &lt;= 80.0</text>\n",
       "<text text-anchor=\"middle\" x=\"107.5\" y=\"-156.8\" font-family=\"Times,serif\" font-size=\"14.00\">gini = 0.5</text>\n",
       "<text text-anchor=\"middle\" x=\"107.5\" y=\"-141.8\" font-family=\"Times,serif\" font-size=\"14.00\">samples = 6</text>\n",
       "<text text-anchor=\"middle\" x=\"107.5\" y=\"-126.8\" font-family=\"Times,serif\" font-size=\"14.00\">value = [3, 3]</text>\n",
       "<text text-anchor=\"middle\" x=\"107.5\" y=\"-111.8\" font-family=\"Times,serif\" font-size=\"14.00\">class = 无拖欠</text>\n",
       "</g>\n",
       "<!-- 0&#45;&gt;1 -->\n",
       "<g id=\"edge1\" class=\"edge\"><title>0&#45;&gt;1</title>\n",
       "<path fill=\"none\" stroke=\"black\" d=\"M147.336,-222.907C142.794,-214.195 137.946,-204.897 133.252,-195.893\"/>\n",
       "<polygon fill=\"black\" stroke=\"black\" points=\"136.353,-194.27 128.626,-187.021 130.146,-197.506 136.353,-194.27\"/>\n",
       "<text text-anchor=\"middle\" x=\"121.124\" y=\"-207.168\" font-family=\"Times,serif\" font-size=\"14.00\">True</text>\n",
       "</g>\n",
       "<!-- 4 -->\n",
       "<g id=\"node5\" class=\"node\"><title>4</title>\n",
       "<polygon fill=\"#e58139\" stroke=\"black\" points=\"280,-179.5 179,-179.5 179,-111.5 280,-111.5 280,-179.5\"/>\n",
       "<text text-anchor=\"middle\" x=\"229.5\" y=\"-164.3\" font-family=\"Times,serif\" font-size=\"14.00\">gini = 0.0</text>\n",
       "<text text-anchor=\"middle\" x=\"229.5\" y=\"-149.3\" font-family=\"Times,serif\" font-size=\"14.00\">samples = 4</text>\n",
       "<text text-anchor=\"middle\" x=\"229.5\" y=\"-134.3\" font-family=\"Times,serif\" font-size=\"14.00\">value = [4, 0]</text>\n",
       "<text text-anchor=\"middle\" x=\"229.5\" y=\"-119.3\" font-family=\"Times,serif\" font-size=\"14.00\">class = 无拖欠</text>\n",
       "</g>\n",
       "<!-- 0&#45;&gt;4 -->\n",
       "<g id=\"edge4\" class=\"edge\"><title>0&#45;&gt;4</title>\n",
       "<path fill=\"none\" stroke=\"black\" d=\"M189.664,-222.907C195.417,-211.873 201.66,-199.898 207.46,-188.773\"/>\n",
       "<polygon fill=\"black\" stroke=\"black\" points=\"210.688,-190.152 212.208,-179.667 204.481,-186.916 210.688,-190.152\"/>\n",
       "<text text-anchor=\"middle\" x=\"219.71\" y=\"-199.815\" font-family=\"Times,serif\" font-size=\"14.00\">False</text>\n",
       "</g>\n",
       "<!-- 2 -->\n",
       "<g id=\"node3\" class=\"node\"><title>2</title>\n",
       "<polygon fill=\"#e58139\" stroke=\"black\" points=\"101,-68 0,-68 0,-0 101,-0 101,-68\"/>\n",
       "<text text-anchor=\"middle\" x=\"50.5\" y=\"-52.8\" font-family=\"Times,serif\" font-size=\"14.00\">gini = 0.0</text>\n",
       "<text text-anchor=\"middle\" x=\"50.5\" y=\"-37.8\" font-family=\"Times,serif\" font-size=\"14.00\">samples = 3</text>\n",
       "<text text-anchor=\"middle\" x=\"50.5\" y=\"-22.8\" font-family=\"Times,serif\" font-size=\"14.00\">value = [3, 0]</text>\n",
       "<text text-anchor=\"middle\" x=\"50.5\" y=\"-7.8\" font-family=\"Times,serif\" font-size=\"14.00\">class = 无拖欠</text>\n",
       "</g>\n",
       "<!-- 1&#45;&gt;2 -->\n",
       "<g id=\"edge2\" class=\"edge\"><title>1&#45;&gt;2</title>\n",
       "<path fill=\"none\" stroke=\"black\" d=\"M86.2753,-103.726C81.7649,-95.0615 76.9939,-85.8962 72.4568,-77.1802\"/>\n",
       "<polygon fill=\"black\" stroke=\"black\" points=\"75.556,-75.5537 67.834,-68.2996 69.3469,-78.7859 75.556,-75.5537\"/>\n",
       "</g>\n",
       "<!-- 3 -->\n",
       "<g id=\"node4\" class=\"node\"><title>3</title>\n",
       "<polygon fill=\"#399de5\" stroke=\"black\" points=\"211.5,-68 119.5,-68 119.5,-0 211.5,-0 211.5,-68\"/>\n",
       "<text text-anchor=\"middle\" x=\"165.5\" y=\"-52.8\" font-family=\"Times,serif\" font-size=\"14.00\">gini = 0.0</text>\n",
       "<text text-anchor=\"middle\" x=\"165.5\" y=\"-37.8\" font-family=\"Times,serif\" font-size=\"14.00\">samples = 3</text>\n",
       "<text text-anchor=\"middle\" x=\"165.5\" y=\"-22.8\" font-family=\"Times,serif\" font-size=\"14.00\">value = [0, 3]</text>\n",
       "<text text-anchor=\"middle\" x=\"165.5\" y=\"-7.8\" font-family=\"Times,serif\" font-size=\"14.00\">class = 拖欠</text>\n",
       "</g>\n",
       "<!-- 1&#45;&gt;3 -->\n",
       "<g id=\"edge3\" class=\"edge\"><title>1&#45;&gt;3</title>\n",
       "<path fill=\"none\" stroke=\"black\" d=\"M129.097,-103.726C133.687,-95.0615 138.541,-85.8962 143.158,-77.1802\"/>\n",
       "<polygon fill=\"black\" stroke=\"black\" points=\"146.274,-78.7748 147.862,-68.2996 140.088,-75.4982 146.274,-78.7748\"/>\n",
       "</g>\n",
       "</g>\n",
       "</svg>\n"
      ],
      "text/plain": [
       "<graphviz.files.Source at 0x7f37fac0cb70>"
      ]
     },
     "execution_count": 16,
     "metadata": {},
     "output_type": "execute_result"
    }
   ],
   "source": [
    "graph = graphviz.Source(dotData)\n",
    "graph"
   ]
  },
  {
   "cell_type": "markdown",
   "metadata": {
    "slideshow": {
     "slide_type": "slide"
    }
   },
   "source": [
    "#### 用决策树预测"
   ]
  },
  {
   "cell_type": "markdown",
   "metadata": {
    "slideshow": {
     "slide_type": "fragment"
    }
   },
   "source": [
    "```python\n",
    "dt.predict(X)\n",
    "```\n",
    "- `X`：输入的属性矩阵，形状为`[n_samples, n_features]`\n",
    "- 返回值：预测的类别，形状为`[n_samples]`的数组"
   ]
  },
  {
   "cell_type": "markdown",
   "metadata": {
    "slideshow": {
     "slide_type": "fragment"
    }
   },
   "source": [
    "```python\n",
    "dt.predict_proba(X)\n",
    "```\n",
    "- 返回值：预测属于每个类别的概率，形状为[n_samples, n_classes]的矩阵，每个样本属于每个类别的概率的顺序与`dt.classes_`一致"
   ]
  },
  {
   "cell_type": "code",
   "execution_count": 17,
   "metadata": {
    "slideshow": {
     "slide_type": "subslide"
    }
   },
   "outputs": [
    {
     "data": {
      "text/html": [
       "<div>\n",
       "<style scoped>\n",
       "    .dataframe tbody tr th:only-of-type {\n",
       "        vertical-align: middle;\n",
       "    }\n",
       "\n",
       "    .dataframe tbody tr th {\n",
       "        vertical-align: top;\n",
       "    }\n",
       "\n",
       "    .dataframe thead th {\n",
       "        text-align: right;\n",
       "    }\n",
       "</style>\n",
       "<table border=\"1\" class=\"dataframe\">\n",
       "  <thead>\n",
       "    <tr style=\"text-align: right;\">\n",
       "      <th></th>\n",
       "      <th>年收入</th>\n",
       "      <th>有房者_否</th>\n",
       "      <th>有房者_是</th>\n",
       "      <th>婚姻状况_单身</th>\n",
       "      <th>婚姻状况_已婚</th>\n",
       "      <th>婚姻状况_离异</th>\n",
       "    </tr>\n",
       "  </thead>\n",
       "  <tbody>\n",
       "    <tr>\n",
       "      <th>0</th>\n",
       "      <td>200</td>\n",
       "      <td>0</td>\n",
       "      <td>1</td>\n",
       "      <td>1</td>\n",
       "      <td>0</td>\n",
       "      <td>0</td>\n",
       "    </tr>\n",
       "    <tr>\n",
       "      <th>1</th>\n",
       "      <td>80</td>\n",
       "      <td>1</td>\n",
       "      <td>0</td>\n",
       "      <td>0</td>\n",
       "      <td>1</td>\n",
       "      <td>0</td>\n",
       "    </tr>\n",
       "    <tr>\n",
       "      <th>2</th>\n",
       "      <td>70</td>\n",
       "      <td>1</td>\n",
       "      <td>0</td>\n",
       "      <td>1</td>\n",
       "      <td>0</td>\n",
       "      <td>0</td>\n",
       "    </tr>\n",
       "    <tr>\n",
       "      <th>3</th>\n",
       "      <td>100</td>\n",
       "      <td>0</td>\n",
       "      <td>1</td>\n",
       "      <td>0</td>\n",
       "      <td>1</td>\n",
       "      <td>0</td>\n",
       "    </tr>\n",
       "    <tr>\n",
       "      <th>4</th>\n",
       "      <td>65</td>\n",
       "      <td>1</td>\n",
       "      <td>0</td>\n",
       "      <td>0</td>\n",
       "      <td>0</td>\n",
       "      <td>1</td>\n",
       "    </tr>\n",
       "  </tbody>\n",
       "</table>\n",
       "</div>"
      ],
      "text/plain": [
       "   年收入  有房者_否  有房者_是  婚姻状况_单身  婚姻状况_已婚  婚姻状况_离异\n",
       "0  200      0      1        1        0        0\n",
       "1   80      1      0        0        1        0\n",
       "2   70      1      0        1        0        0\n",
       "3  100      0      1        0        1        0\n",
       "4   65      1      0        0        0        1"
      ]
     },
     "execution_count": 17,
     "metadata": {},
     "output_type": "execute_result"
    }
   ],
   "source": [
    "debtt = [['是','否','否','是','否'],\n",
    "         ['单身','已婚','单身','已婚','离异'],\n",
    "         [200,80,70,100,65]]\n",
    "debttest = pd.DataFrame(debtt,index=['有房者','婚姻状况','年收入']).T \n",
    "debttestOH = pd.get_dummies(debttest, columns=['有房者','婚姻状况'])\n",
    "debttestOH"
   ]
  },
  {
   "cell_type": "code",
   "execution_count": 18,
   "metadata": {
    "cell_style": "center",
    "scrolled": true,
    "slideshow": {
     "slide_type": "fragment"
    }
   },
   "outputs": [
    {
     "data": {
      "text/plain": [
       "array(['否', '否', '否', '否', '否'], dtype=object)"
      ]
     },
     "execution_count": 18,
     "metadata": {},
     "output_type": "execute_result"
    },
    {
     "data": {
      "text/plain": [
       "array([[1., 0.],\n",
       "       [1., 0.],\n",
       "       [1., 0.],\n",
       "       [1., 0.],\n",
       "       [1., 0.]])"
      ]
     },
     "execution_count": 18,
     "metadata": {},
     "output_type": "execute_result"
    }
   ],
   "source": [
    "dtDebt.predict(debttestOH)\n",
    "dtDebt.predict_proba(debttestOH)"
   ]
  },
  {
   "cell_type": "markdown",
   "metadata": {
    "slideshow": {
     "slide_type": "slide"
    }
   },
   "source": [
    "### Titanic生存分类"
   ]
  },
  {
   "cell_type": "markdown",
   "metadata": {
    "slideshow": {
     "slide_type": "fragment"
    }
   },
   "source": [
    "#### 读取数据"
   ]
  },
  {
   "cell_type": "code",
   "execution_count": 19,
   "metadata": {
    "scrolled": true,
    "slideshow": {
     "slide_type": "fragment"
    }
   },
   "outputs": [
    {
     "data": {
      "text/html": [
       "<div>\n",
       "<style scoped>\n",
       "    .dataframe tbody tr th:only-of-type {\n",
       "        vertical-align: middle;\n",
       "    }\n",
       "\n",
       "    .dataframe tbody tr th {\n",
       "        vertical-align: top;\n",
       "    }\n",
       "\n",
       "    .dataframe thead th {\n",
       "        text-align: right;\n",
       "    }\n",
       "</style>\n",
       "<table border=\"1\" class=\"dataframe\">\n",
       "  <thead>\n",
       "    <tr style=\"text-align: right;\">\n",
       "      <th></th>\n",
       "      <th>PassengerId</th>\n",
       "      <th>Survived</th>\n",
       "      <th>Pclass</th>\n",
       "      <th>Name</th>\n",
       "      <th>Sex</th>\n",
       "      <th>Age</th>\n",
       "      <th>SibSp</th>\n",
       "      <th>Parch</th>\n",
       "      <th>Ticket</th>\n",
       "      <th>Fare</th>\n",
       "      <th>Cabin</th>\n",
       "      <th>Embarked</th>\n",
       "    </tr>\n",
       "  </thead>\n",
       "  <tbody>\n",
       "    <tr>\n",
       "      <th>0</th>\n",
       "      <td>1</td>\n",
       "      <td>0</td>\n",
       "      <td>3</td>\n",
       "      <td>Braund, Mr. Owen Harris</td>\n",
       "      <td>male</td>\n",
       "      <td>22.0</td>\n",
       "      <td>1</td>\n",
       "      <td>0</td>\n",
       "      <td>A/5 21171</td>\n",
       "      <td>7.2500</td>\n",
       "      <td>NaN</td>\n",
       "      <td>S</td>\n",
       "    </tr>\n",
       "    <tr>\n",
       "      <th>1</th>\n",
       "      <td>2</td>\n",
       "      <td>1</td>\n",
       "      <td>1</td>\n",
       "      <td>Cumings, Mrs. John Bradley (Florence Briggs Th...</td>\n",
       "      <td>female</td>\n",
       "      <td>38.0</td>\n",
       "      <td>1</td>\n",
       "      <td>0</td>\n",
       "      <td>PC 17599</td>\n",
       "      <td>71.2833</td>\n",
       "      <td>C85</td>\n",
       "      <td>C</td>\n",
       "    </tr>\n",
       "    <tr>\n",
       "      <th>2</th>\n",
       "      <td>3</td>\n",
       "      <td>1</td>\n",
       "      <td>3</td>\n",
       "      <td>Heikkinen, Miss. Laina</td>\n",
       "      <td>female</td>\n",
       "      <td>26.0</td>\n",
       "      <td>0</td>\n",
       "      <td>0</td>\n",
       "      <td>STON/O2. 3101282</td>\n",
       "      <td>7.9250</td>\n",
       "      <td>NaN</td>\n",
       "      <td>S</td>\n",
       "    </tr>\n",
       "    <tr>\n",
       "      <th>3</th>\n",
       "      <td>4</td>\n",
       "      <td>1</td>\n",
       "      <td>1</td>\n",
       "      <td>Futrelle, Mrs. Jacques Heath (Lily May Peel)</td>\n",
       "      <td>female</td>\n",
       "      <td>35.0</td>\n",
       "      <td>1</td>\n",
       "      <td>0</td>\n",
       "      <td>113803</td>\n",
       "      <td>53.1000</td>\n",
       "      <td>C123</td>\n",
       "      <td>S</td>\n",
       "    </tr>\n",
       "    <tr>\n",
       "      <th>4</th>\n",
       "      <td>5</td>\n",
       "      <td>0</td>\n",
       "      <td>3</td>\n",
       "      <td>Allen, Mr. William Henry</td>\n",
       "      <td>male</td>\n",
       "      <td>35.0</td>\n",
       "      <td>0</td>\n",
       "      <td>0</td>\n",
       "      <td>373450</td>\n",
       "      <td>8.0500</td>\n",
       "      <td>NaN</td>\n",
       "      <td>S</td>\n",
       "    </tr>\n",
       "  </tbody>\n",
       "</table>\n",
       "</div>"
      ],
      "text/plain": [
       "   PassengerId  Survived  Pclass  \\\n",
       "0            1         0       3   \n",
       "1            2         1       1   \n",
       "2            3         1       3   \n",
       "3            4         1       1   \n",
       "4            5         0       3   \n",
       "\n",
       "                                                Name     Sex   Age  SibSp  \\\n",
       "0                            Braund, Mr. Owen Harris    male  22.0      1   \n",
       "1  Cumings, Mrs. John Bradley (Florence Briggs Th...  female  38.0      1   \n",
       "2                             Heikkinen, Miss. Laina  female  26.0      0   \n",
       "3       Futrelle, Mrs. Jacques Heath (Lily May Peel)  female  35.0      1   \n",
       "4                           Allen, Mr. William Henry    male  35.0      0   \n",
       "\n",
       "   Parch            Ticket     Fare Cabin Embarked  \n",
       "0      0         A/5 21171   7.2500   NaN        S  \n",
       "1      0          PC 17599  71.2833   C85        C  \n",
       "2      0  STON/O2. 3101282   7.9250   NaN        S  \n",
       "3      0            113803  53.1000  C123        S  \n",
       "4      0            373450   8.0500   NaN        S  "
      ]
     },
     "execution_count": 19,
     "metadata": {},
     "output_type": "execute_result"
    }
   ],
   "source": [
    "titRawDf = pd.read_csv('./data/analysis/train.csv')\n",
    "titRawDf.head()"
   ]
  },
  {
   "cell_type": "code",
   "execution_count": 20,
   "metadata": {
    "scrolled": true,
    "slideshow": {
     "slide_type": "fragment"
    }
   },
   "outputs": [
    {
     "data": {
      "text/html": [
       "<div>\n",
       "<style scoped>\n",
       "    .dataframe tbody tr th:only-of-type {\n",
       "        vertical-align: middle;\n",
       "    }\n",
       "\n",
       "    .dataframe tbody tr th {\n",
       "        vertical-align: top;\n",
       "    }\n",
       "\n",
       "    .dataframe thead th {\n",
       "        text-align: right;\n",
       "    }\n",
       "</style>\n",
       "<table border=\"1\" class=\"dataframe\">\n",
       "  <thead>\n",
       "    <tr style=\"text-align: right;\">\n",
       "      <th></th>\n",
       "      <th>Pclass</th>\n",
       "      <th>Sex</th>\n",
       "      <th>Age</th>\n",
       "      <th>SibSp</th>\n",
       "      <th>Parch</th>\n",
       "      <th>Fare</th>\n",
       "      <th>Embarked</th>\n",
       "      <th>Survived</th>\n",
       "    </tr>\n",
       "    <tr>\n",
       "      <th>PassengerId</th>\n",
       "      <th></th>\n",
       "      <th></th>\n",
       "      <th></th>\n",
       "      <th></th>\n",
       "      <th></th>\n",
       "      <th></th>\n",
       "      <th></th>\n",
       "      <th></th>\n",
       "    </tr>\n",
       "  </thead>\n",
       "  <tbody>\n",
       "    <tr>\n",
       "      <th>1</th>\n",
       "      <td>3</td>\n",
       "      <td>male</td>\n",
       "      <td>22.0</td>\n",
       "      <td>1</td>\n",
       "      <td>0</td>\n",
       "      <td>7.2500</td>\n",
       "      <td>S</td>\n",
       "      <td>0</td>\n",
       "    </tr>\n",
       "    <tr>\n",
       "      <th>2</th>\n",
       "      <td>1</td>\n",
       "      <td>female</td>\n",
       "      <td>38.0</td>\n",
       "      <td>1</td>\n",
       "      <td>0</td>\n",
       "      <td>71.2833</td>\n",
       "      <td>C</td>\n",
       "      <td>1</td>\n",
       "    </tr>\n",
       "    <tr>\n",
       "      <th>3</th>\n",
       "      <td>3</td>\n",
       "      <td>female</td>\n",
       "      <td>26.0</td>\n",
       "      <td>0</td>\n",
       "      <td>0</td>\n",
       "      <td>7.9250</td>\n",
       "      <td>S</td>\n",
       "      <td>1</td>\n",
       "    </tr>\n",
       "    <tr>\n",
       "      <th>4</th>\n",
       "      <td>1</td>\n",
       "      <td>female</td>\n",
       "      <td>35.0</td>\n",
       "      <td>1</td>\n",
       "      <td>0</td>\n",
       "      <td>53.1000</td>\n",
       "      <td>S</td>\n",
       "      <td>1</td>\n",
       "    </tr>\n",
       "    <tr>\n",
       "      <th>5</th>\n",
       "      <td>3</td>\n",
       "      <td>male</td>\n",
       "      <td>35.0</td>\n",
       "      <td>0</td>\n",
       "      <td>0</td>\n",
       "      <td>8.0500</td>\n",
       "      <td>S</td>\n",
       "      <td>0</td>\n",
       "    </tr>\n",
       "  </tbody>\n",
       "</table>\n",
       "</div>"
      ],
      "text/plain": [
       "             Pclass     Sex   Age  SibSp  Parch     Fare Embarked  Survived\n",
       "PassengerId                                                                \n",
       "1                 3    male  22.0      1      0   7.2500        S         0\n",
       "2                 1  female  38.0      1      0  71.2833        C         1\n",
       "3                 3  female  26.0      0      0   7.9250        S         1\n",
       "4                 1  female  35.0      1      0  53.1000        S         1\n",
       "5                 3    male  35.0      0      0   8.0500        S         0"
      ]
     },
     "execution_count": 20,
     "metadata": {},
     "output_type": "execute_result"
    }
   ],
   "source": [
    "titDf = titRawDf.loc[:,['PassengerId','Pclass','Sex','Age','SibSp','Parch','Fare','Embarked','Survived']]\n",
    "titDf.set_index('PassengerId',inplace=True)\n",
    "titDf.head()"
   ]
  },
  {
   "cell_type": "markdown",
   "metadata": {
    "slideshow": {
     "slide_type": "slide"
    }
   },
   "source": [
    "#### 数据预处理"
   ]
  },
  {
   "cell_type": "markdown",
   "metadata": {
    "slideshow": {
     "slide_type": "fragment"
    }
   },
   "source": [
    "##### 删除包含缺失值的行"
   ]
  },
  {
   "cell_type": "code",
   "execution_count": 21,
   "metadata": {
    "scrolled": true,
    "slideshow": {
     "slide_type": "fragment"
    }
   },
   "outputs": [],
   "source": [
    "titDf.dropna(axis=0,how='any',inplace=True)"
   ]
  },
  {
   "cell_type": "markdown",
   "metadata": {
    "slideshow": {
     "slide_type": "slide"
    }
   },
   "source": [
    "##### one-hot编码"
   ]
  },
  {
   "cell_type": "code",
   "execution_count": 22,
   "metadata": {
    "scrolled": true,
    "slideshow": {
     "slide_type": "fragment"
    }
   },
   "outputs": [
    {
     "data": {
      "text/plain": [
       "Pclass        int64\n",
       "Sex          object\n",
       "Age         float64\n",
       "SibSp         int64\n",
       "Parch         int64\n",
       "Fare        float64\n",
       "Embarked     object\n",
       "Survived      int64\n",
       "dtype: object"
      ]
     },
     "execution_count": 22,
     "metadata": {},
     "output_type": "execute_result"
    }
   ],
   "source": [
    "titDf.dtypes"
   ]
  },
  {
   "cell_type": "code",
   "execution_count": 23,
   "metadata": {
    "slideshow": {
     "slide_type": "fragment"
    }
   },
   "outputs": [
    {
     "data": {
      "text/html": [
       "<div>\n",
       "<style scoped>\n",
       "    .dataframe tbody tr th:only-of-type {\n",
       "        vertical-align: middle;\n",
       "    }\n",
       "\n",
       "    .dataframe tbody tr th {\n",
       "        vertical-align: top;\n",
       "    }\n",
       "\n",
       "    .dataframe thead th {\n",
       "        text-align: right;\n",
       "    }\n",
       "</style>\n",
       "<table border=\"1\" class=\"dataframe\">\n",
       "  <thead>\n",
       "    <tr style=\"text-align: right;\">\n",
       "      <th></th>\n",
       "      <th>Pclass</th>\n",
       "      <th>Sex</th>\n",
       "      <th>Age</th>\n",
       "      <th>SibSp</th>\n",
       "      <th>Parch</th>\n",
       "      <th>Fare</th>\n",
       "      <th>Embarked</th>\n",
       "    </tr>\n",
       "    <tr>\n",
       "      <th>PassengerId</th>\n",
       "      <th></th>\n",
       "      <th></th>\n",
       "      <th></th>\n",
       "      <th></th>\n",
       "      <th></th>\n",
       "      <th></th>\n",
       "      <th></th>\n",
       "    </tr>\n",
       "  </thead>\n",
       "  <tbody>\n",
       "    <tr>\n",
       "      <th>1</th>\n",
       "      <td>3</td>\n",
       "      <td>male</td>\n",
       "      <td>22.0</td>\n",
       "      <td>1</td>\n",
       "      <td>0</td>\n",
       "      <td>7.2500</td>\n",
       "      <td>S</td>\n",
       "    </tr>\n",
       "    <tr>\n",
       "      <th>2</th>\n",
       "      <td>1</td>\n",
       "      <td>female</td>\n",
       "      <td>38.0</td>\n",
       "      <td>1</td>\n",
       "      <td>0</td>\n",
       "      <td>71.2833</td>\n",
       "      <td>C</td>\n",
       "    </tr>\n",
       "    <tr>\n",
       "      <th>3</th>\n",
       "      <td>3</td>\n",
       "      <td>female</td>\n",
       "      <td>26.0</td>\n",
       "      <td>0</td>\n",
       "      <td>0</td>\n",
       "      <td>7.9250</td>\n",
       "      <td>S</td>\n",
       "    </tr>\n",
       "    <tr>\n",
       "      <th>4</th>\n",
       "      <td>1</td>\n",
       "      <td>female</td>\n",
       "      <td>35.0</td>\n",
       "      <td>1</td>\n",
       "      <td>0</td>\n",
       "      <td>53.1000</td>\n",
       "      <td>S</td>\n",
       "    </tr>\n",
       "    <tr>\n",
       "      <th>5</th>\n",
       "      <td>3</td>\n",
       "      <td>male</td>\n",
       "      <td>35.0</td>\n",
       "      <td>0</td>\n",
       "      <td>0</td>\n",
       "      <td>8.0500</td>\n",
       "      <td>S</td>\n",
       "    </tr>\n",
       "  </tbody>\n",
       "</table>\n",
       "</div>"
      ],
      "text/plain": [
       "             Pclass     Sex   Age  SibSp  Parch     Fare Embarked\n",
       "PassengerId                                                      \n",
       "1                 3    male  22.0      1      0   7.2500        S\n",
       "2                 1  female  38.0      1      0  71.2833        C\n",
       "3                 3  female  26.0      0      0   7.9250        S\n",
       "4                 1  female  35.0      1      0  53.1000        S\n",
       "5                 3    male  35.0      0      0   8.0500        S"
      ]
     },
     "execution_count": 23,
     "metadata": {},
     "output_type": "execute_result"
    }
   ],
   "source": [
    "titX = titDf.iloc[:,:-1]\n",
    "titY = titDf['Survived']\n",
    "titX.head()"
   ]
  },
  {
   "cell_type": "code",
   "execution_count": 24,
   "metadata": {
    "slideshow": {
     "slide_type": "fragment"
    }
   },
   "outputs": [
    {
     "data": {
      "text/html": [
       "<div>\n",
       "<style scoped>\n",
       "    .dataframe tbody tr th:only-of-type {\n",
       "        vertical-align: middle;\n",
       "    }\n",
       "\n",
       "    .dataframe tbody tr th {\n",
       "        vertical-align: top;\n",
       "    }\n",
       "\n",
       "    .dataframe thead th {\n",
       "        text-align: right;\n",
       "    }\n",
       "</style>\n",
       "<table border=\"1\" class=\"dataframe\">\n",
       "  <thead>\n",
       "    <tr style=\"text-align: right;\">\n",
       "      <th></th>\n",
       "      <th>Pclass</th>\n",
       "      <th>Age</th>\n",
       "      <th>SibSp</th>\n",
       "      <th>Parch</th>\n",
       "      <th>Fare</th>\n",
       "      <th>Sex_female</th>\n",
       "      <th>Sex_male</th>\n",
       "      <th>Embarked_C</th>\n",
       "      <th>Embarked_Q</th>\n",
       "      <th>Embarked_S</th>\n",
       "    </tr>\n",
       "    <tr>\n",
       "      <th>PassengerId</th>\n",
       "      <th></th>\n",
       "      <th></th>\n",
       "      <th></th>\n",
       "      <th></th>\n",
       "      <th></th>\n",
       "      <th></th>\n",
       "      <th></th>\n",
       "      <th></th>\n",
       "      <th></th>\n",
       "      <th></th>\n",
       "    </tr>\n",
       "  </thead>\n",
       "  <tbody>\n",
       "    <tr>\n",
       "      <th>1</th>\n",
       "      <td>3</td>\n",
       "      <td>22.0</td>\n",
       "      <td>1</td>\n",
       "      <td>0</td>\n",
       "      <td>7.2500</td>\n",
       "      <td>0</td>\n",
       "      <td>1</td>\n",
       "      <td>0</td>\n",
       "      <td>0</td>\n",
       "      <td>1</td>\n",
       "    </tr>\n",
       "    <tr>\n",
       "      <th>2</th>\n",
       "      <td>1</td>\n",
       "      <td>38.0</td>\n",
       "      <td>1</td>\n",
       "      <td>0</td>\n",
       "      <td>71.2833</td>\n",
       "      <td>1</td>\n",
       "      <td>0</td>\n",
       "      <td>1</td>\n",
       "      <td>0</td>\n",
       "      <td>0</td>\n",
       "    </tr>\n",
       "    <tr>\n",
       "      <th>3</th>\n",
       "      <td>3</td>\n",
       "      <td>26.0</td>\n",
       "      <td>0</td>\n",
       "      <td>0</td>\n",
       "      <td>7.9250</td>\n",
       "      <td>1</td>\n",
       "      <td>0</td>\n",
       "      <td>0</td>\n",
       "      <td>0</td>\n",
       "      <td>1</td>\n",
       "    </tr>\n",
       "    <tr>\n",
       "      <th>4</th>\n",
       "      <td>1</td>\n",
       "      <td>35.0</td>\n",
       "      <td>1</td>\n",
       "      <td>0</td>\n",
       "      <td>53.1000</td>\n",
       "      <td>1</td>\n",
       "      <td>0</td>\n",
       "      <td>0</td>\n",
       "      <td>0</td>\n",
       "      <td>1</td>\n",
       "    </tr>\n",
       "    <tr>\n",
       "      <th>5</th>\n",
       "      <td>3</td>\n",
       "      <td>35.0</td>\n",
       "      <td>0</td>\n",
       "      <td>0</td>\n",
       "      <td>8.0500</td>\n",
       "      <td>0</td>\n",
       "      <td>1</td>\n",
       "      <td>0</td>\n",
       "      <td>0</td>\n",
       "      <td>1</td>\n",
       "    </tr>\n",
       "  </tbody>\n",
       "</table>\n",
       "</div>"
      ],
      "text/plain": [
       "             Pclass   Age  SibSp  Parch     Fare  Sex_female  Sex_male  \\\n",
       "PassengerId                                                              \n",
       "1                 3  22.0      1      0   7.2500           0         1   \n",
       "2                 1  38.0      1      0  71.2833           1         0   \n",
       "3                 3  26.0      0      0   7.9250           1         0   \n",
       "4                 1  35.0      1      0  53.1000           1         0   \n",
       "5                 3  35.0      0      0   8.0500           0         1   \n",
       "\n",
       "             Embarked_C  Embarked_Q  Embarked_S  \n",
       "PassengerId                                      \n",
       "1                     0           0           1  \n",
       "2                     1           0           0  \n",
       "3                     0           0           1  \n",
       "4                     0           0           1  \n",
       "5                     0           0           1  "
      ]
     },
     "execution_count": 24,
     "metadata": {},
     "output_type": "execute_result"
    }
   ],
   "source": [
    "titXOH = pd.get_dummies(titX,columns=['Sex','Embarked'])\n",
    "titXOH.head()"
   ]
  },
  {
   "cell_type": "markdown",
   "metadata": {
    "slideshow": {
     "slide_type": "slide"
    }
   },
   "source": [
    "#### 分割训练集与测试集"
   ]
  },
  {
   "cell_type": "markdown",
   "metadata": {
    "slideshow": {
     "slide_type": "fragment"
    }
   },
   "source": [
    "```python\n",
    "from sklearn.model_selection import train_test_split\n",
    "train_test_split(*arrays, test_size=0.25)\n",
    "```"
   ]
  },
  {
   "cell_type": "markdown",
   "metadata": {
    "slideshow": {
     "slide_type": "fragment"
    }
   },
   "source": [
    "- `*arrays`：需要被划分的数据集，可以是`lists`类型、`numpy.arrays`类型，`pandas.DataFrame`类型"
   ]
  },
  {
   "cell_type": "markdown",
   "metadata": {
    "slideshow": {
     "slide_type": "fragment"
    }
   },
   "source": [
    "- `test_size`：检验集的规模\n",
    "    + `float`类型，取值范围`[0,1]`，表示检验集占原数据集的比例\n",
    "    + `int`类型，表示检验集包含的数据记录的绝对数量\n",
    "    + 默认为0.25"
   ]
  },
  {
   "cell_type": "markdown",
   "metadata": {
    "slideshow": {
     "slide_type": "fragment"
    }
   },
   "source": [
    "- 返回值：分割好的训练集与检验集，与输入的`*array`的类型相同"
   ]
  },
  {
   "cell_type": "code",
   "execution_count": 25,
   "metadata": {
    "slideshow": {
     "slide_type": "fragment"
    }
   },
   "outputs": [],
   "source": [
    "from sklearn.model_selection import train_test_split"
   ]
  },
  {
   "cell_type": "code",
   "execution_count": 26,
   "metadata": {
    "scrolled": true,
    "slideshow": {
     "slide_type": "fragment"
    }
   },
   "outputs": [
    {
     "data": {
      "text/html": [
       "<div>\n",
       "<style scoped>\n",
       "    .dataframe tbody tr th:only-of-type {\n",
       "        vertical-align: middle;\n",
       "    }\n",
       "\n",
       "    .dataframe tbody tr th {\n",
       "        vertical-align: top;\n",
       "    }\n",
       "\n",
       "    .dataframe thead th {\n",
       "        text-align: right;\n",
       "    }\n",
       "</style>\n",
       "<table border=\"1\" class=\"dataframe\">\n",
       "  <thead>\n",
       "    <tr style=\"text-align: right;\">\n",
       "      <th></th>\n",
       "      <th>Pclass</th>\n",
       "      <th>Age</th>\n",
       "      <th>SibSp</th>\n",
       "      <th>Parch</th>\n",
       "      <th>Fare</th>\n",
       "      <th>Sex_female</th>\n",
       "      <th>Sex_male</th>\n",
       "      <th>Embarked_C</th>\n",
       "      <th>Embarked_Q</th>\n",
       "      <th>Embarked_S</th>\n",
       "    </tr>\n",
       "    <tr>\n",
       "      <th>PassengerId</th>\n",
       "      <th></th>\n",
       "      <th></th>\n",
       "      <th></th>\n",
       "      <th></th>\n",
       "      <th></th>\n",
       "      <th></th>\n",
       "      <th></th>\n",
       "      <th></th>\n",
       "      <th></th>\n",
       "      <th></th>\n",
       "    </tr>\n",
       "  </thead>\n",
       "  <tbody>\n",
       "    <tr>\n",
       "      <th>123</th>\n",
       "      <td>2</td>\n",
       "      <td>32.5</td>\n",
       "      <td>1</td>\n",
       "      <td>0</td>\n",
       "      <td>30.0708</td>\n",
       "      <td>0</td>\n",
       "      <td>1</td>\n",
       "      <td>1</td>\n",
       "      <td>0</td>\n",
       "      <td>0</td>\n",
       "    </tr>\n",
       "    <tr>\n",
       "      <th>521</th>\n",
       "      <td>1</td>\n",
       "      <td>30.0</td>\n",
       "      <td>0</td>\n",
       "      <td>0</td>\n",
       "      <td>93.5000</td>\n",
       "      <td>1</td>\n",
       "      <td>0</td>\n",
       "      <td>0</td>\n",
       "      <td>0</td>\n",
       "      <td>1</td>\n",
       "    </tr>\n",
       "    <tr>\n",
       "      <th>738</th>\n",
       "      <td>1</td>\n",
       "      <td>35.0</td>\n",
       "      <td>0</td>\n",
       "      <td>0</td>\n",
       "      <td>512.3292</td>\n",
       "      <td>0</td>\n",
       "      <td>1</td>\n",
       "      <td>1</td>\n",
       "      <td>0</td>\n",
       "      <td>0</td>\n",
       "    </tr>\n",
       "    <tr>\n",
       "      <th>511</th>\n",
       "      <td>3</td>\n",
       "      <td>29.0</td>\n",
       "      <td>0</td>\n",
       "      <td>0</td>\n",
       "      <td>7.7500</td>\n",
       "      <td>0</td>\n",
       "      <td>1</td>\n",
       "      <td>0</td>\n",
       "      <td>1</td>\n",
       "      <td>0</td>\n",
       "    </tr>\n",
       "    <tr>\n",
       "      <th>440</th>\n",
       "      <td>2</td>\n",
       "      <td>31.0</td>\n",
       "      <td>0</td>\n",
       "      <td>0</td>\n",
       "      <td>10.5000</td>\n",
       "      <td>0</td>\n",
       "      <td>1</td>\n",
       "      <td>0</td>\n",
       "      <td>0</td>\n",
       "      <td>1</td>\n",
       "    </tr>\n",
       "    <tr>\n",
       "      <th>...</th>\n",
       "      <td>...</td>\n",
       "      <td>...</td>\n",
       "      <td>...</td>\n",
       "      <td>...</td>\n",
       "      <td>...</td>\n",
       "      <td>...</td>\n",
       "      <td>...</td>\n",
       "      <td>...</td>\n",
       "      <td>...</td>\n",
       "      <td>...</td>\n",
       "    </tr>\n",
       "    <tr>\n",
       "      <th>347</th>\n",
       "      <td>2</td>\n",
       "      <td>40.0</td>\n",
       "      <td>0</td>\n",
       "      <td>0</td>\n",
       "      <td>13.0000</td>\n",
       "      <td>1</td>\n",
       "      <td>0</td>\n",
       "      <td>0</td>\n",
       "      <td>0</td>\n",
       "      <td>1</td>\n",
       "    </tr>\n",
       "    <tr>\n",
       "      <th>855</th>\n",
       "      <td>2</td>\n",
       "      <td>44.0</td>\n",
       "      <td>1</td>\n",
       "      <td>0</td>\n",
       "      <td>26.0000</td>\n",
       "      <td>1</td>\n",
       "      <td>0</td>\n",
       "      <td>0</td>\n",
       "      <td>0</td>\n",
       "      <td>1</td>\n",
       "    </tr>\n",
       "    <tr>\n",
       "      <th>240</th>\n",
       "      <td>2</td>\n",
       "      <td>33.0</td>\n",
       "      <td>0</td>\n",
       "      <td>0</td>\n",
       "      <td>12.2750</td>\n",
       "      <td>0</td>\n",
       "      <td>1</td>\n",
       "      <td>0</td>\n",
       "      <td>0</td>\n",
       "      <td>1</td>\n",
       "    </tr>\n",
       "    <tr>\n",
       "      <th>454</th>\n",
       "      <td>1</td>\n",
       "      <td>49.0</td>\n",
       "      <td>1</td>\n",
       "      <td>0</td>\n",
       "      <td>89.1042</td>\n",
       "      <td>0</td>\n",
       "      <td>1</td>\n",
       "      <td>1</td>\n",
       "      <td>0</td>\n",
       "      <td>0</td>\n",
       "    </tr>\n",
       "    <tr>\n",
       "      <th>81</th>\n",
       "      <td>3</td>\n",
       "      <td>22.0</td>\n",
       "      <td>0</td>\n",
       "      <td>0</td>\n",
       "      <td>9.0000</td>\n",
       "      <td>0</td>\n",
       "      <td>1</td>\n",
       "      <td>0</td>\n",
       "      <td>0</td>\n",
       "      <td>1</td>\n",
       "    </tr>\n",
       "  </tbody>\n",
       "</table>\n",
       "<p>534 rows × 10 columns</p>\n",
       "</div>"
      ],
      "text/plain": [
       "             Pclass   Age  SibSp  Parch      Fare  Sex_female  Sex_male  \\\n",
       "PassengerId                                                               \n",
       "123               2  32.5      1      0   30.0708           0         1   \n",
       "521               1  30.0      0      0   93.5000           1         0   \n",
       "738               1  35.0      0      0  512.3292           0         1   \n",
       "511               3  29.0      0      0    7.7500           0         1   \n",
       "440               2  31.0      0      0   10.5000           0         1   \n",
       "...             ...   ...    ...    ...       ...         ...       ...   \n",
       "347               2  40.0      0      0   13.0000           1         0   \n",
       "855               2  44.0      1      0   26.0000           1         0   \n",
       "240               2  33.0      0      0   12.2750           0         1   \n",
       "454               1  49.0      1      0   89.1042           0         1   \n",
       "81                3  22.0      0      0    9.0000           0         1   \n",
       "\n",
       "             Embarked_C  Embarked_Q  Embarked_S  \n",
       "PassengerId                                      \n",
       "123                   1           0           0  \n",
       "521                   0           0           1  \n",
       "738                   1           0           0  \n",
       "511                   0           1           0  \n",
       "440                   0           0           1  \n",
       "...                 ...         ...         ...  \n",
       "347                   0           0           1  \n",
       "855                   0           0           1  \n",
       "240                   0           0           1  \n",
       "454                   1           0           0  \n",
       "81                    0           0           1  \n",
       "\n",
       "[534 rows x 10 columns]"
      ]
     },
     "execution_count": 26,
     "metadata": {},
     "output_type": "execute_result"
    },
    {
     "data": {
      "text/html": [
       "<div>\n",
       "<style scoped>\n",
       "    .dataframe tbody tr th:only-of-type {\n",
       "        vertical-align: middle;\n",
       "    }\n",
       "\n",
       "    .dataframe tbody tr th {\n",
       "        vertical-align: top;\n",
       "    }\n",
       "\n",
       "    .dataframe thead th {\n",
       "        text-align: right;\n",
       "    }\n",
       "</style>\n",
       "<table border=\"1\" class=\"dataframe\">\n",
       "  <thead>\n",
       "    <tr style=\"text-align: right;\">\n",
       "      <th></th>\n",
       "      <th>Pclass</th>\n",
       "      <th>Age</th>\n",
       "      <th>SibSp</th>\n",
       "      <th>Parch</th>\n",
       "      <th>Fare</th>\n",
       "      <th>Sex_female</th>\n",
       "      <th>Sex_male</th>\n",
       "      <th>Embarked_C</th>\n",
       "      <th>Embarked_Q</th>\n",
       "      <th>Embarked_S</th>\n",
       "    </tr>\n",
       "    <tr>\n",
       "      <th>PassengerId</th>\n",
       "      <th></th>\n",
       "      <th></th>\n",
       "      <th></th>\n",
       "      <th></th>\n",
       "      <th></th>\n",
       "      <th></th>\n",
       "      <th></th>\n",
       "      <th></th>\n",
       "      <th></th>\n",
       "      <th></th>\n",
       "    </tr>\n",
       "  </thead>\n",
       "  <tbody>\n",
       "    <tr>\n",
       "      <th>211</th>\n",
       "      <td>3</td>\n",
       "      <td>24.00</td>\n",
       "      <td>0</td>\n",
       "      <td>0</td>\n",
       "      <td>7.0500</td>\n",
       "      <td>0</td>\n",
       "      <td>1</td>\n",
       "      <td>0</td>\n",
       "      <td>0</td>\n",
       "      <td>1</td>\n",
       "    </tr>\n",
       "    <tr>\n",
       "      <th>624</th>\n",
       "      <td>3</td>\n",
       "      <td>21.00</td>\n",
       "      <td>0</td>\n",
       "      <td>0</td>\n",
       "      <td>7.8542</td>\n",
       "      <td>0</td>\n",
       "      <td>1</td>\n",
       "      <td>0</td>\n",
       "      <td>0</td>\n",
       "      <td>1</td>\n",
       "    </tr>\n",
       "    <tr>\n",
       "      <th>237</th>\n",
       "      <td>2</td>\n",
       "      <td>44.00</td>\n",
       "      <td>1</td>\n",
       "      <td>0</td>\n",
       "      <td>26.0000</td>\n",
       "      <td>0</td>\n",
       "      <td>1</td>\n",
       "      <td>0</td>\n",
       "      <td>0</td>\n",
       "      <td>1</td>\n",
       "    </tr>\n",
       "    <tr>\n",
       "      <th>832</th>\n",
       "      <td>2</td>\n",
       "      <td>0.83</td>\n",
       "      <td>1</td>\n",
       "      <td>1</td>\n",
       "      <td>18.7500</td>\n",
       "      <td>0</td>\n",
       "      <td>1</td>\n",
       "      <td>0</td>\n",
       "      <td>0</td>\n",
       "      <td>1</td>\n",
       "    </tr>\n",
       "    <tr>\n",
       "      <th>806</th>\n",
       "      <td>3</td>\n",
       "      <td>31.00</td>\n",
       "      <td>0</td>\n",
       "      <td>0</td>\n",
       "      <td>7.7750</td>\n",
       "      <td>0</td>\n",
       "      <td>1</td>\n",
       "      <td>0</td>\n",
       "      <td>0</td>\n",
       "      <td>1</td>\n",
       "    </tr>\n",
       "    <tr>\n",
       "      <th>...</th>\n",
       "      <td>...</td>\n",
       "      <td>...</td>\n",
       "      <td>...</td>\n",
       "      <td>...</td>\n",
       "      <td>...</td>\n",
       "      <td>...</td>\n",
       "      <td>...</td>\n",
       "      <td>...</td>\n",
       "      <td>...</td>\n",
       "      <td>...</td>\n",
       "    </tr>\n",
       "    <tr>\n",
       "      <th>196</th>\n",
       "      <td>1</td>\n",
       "      <td>58.00</td>\n",
       "      <td>0</td>\n",
       "      <td>0</td>\n",
       "      <td>146.5208</td>\n",
       "      <td>1</td>\n",
       "      <td>0</td>\n",
       "      <td>1</td>\n",
       "      <td>0</td>\n",
       "      <td>0</td>\n",
       "    </tr>\n",
       "    <tr>\n",
       "      <th>785</th>\n",
       "      <td>3</td>\n",
       "      <td>25.00</td>\n",
       "      <td>0</td>\n",
       "      <td>0</td>\n",
       "      <td>7.0500</td>\n",
       "      <td>0</td>\n",
       "      <td>1</td>\n",
       "      <td>0</td>\n",
       "      <td>0</td>\n",
       "      <td>1</td>\n",
       "    </tr>\n",
       "    <tr>\n",
       "      <th>424</th>\n",
       "      <td>3</td>\n",
       "      <td>28.00</td>\n",
       "      <td>1</td>\n",
       "      <td>1</td>\n",
       "      <td>14.4000</td>\n",
       "      <td>1</td>\n",
       "      <td>0</td>\n",
       "      <td>0</td>\n",
       "      <td>0</td>\n",
       "      <td>1</td>\n",
       "    </tr>\n",
       "    <tr>\n",
       "      <th>834</th>\n",
       "      <td>3</td>\n",
       "      <td>23.00</td>\n",
       "      <td>0</td>\n",
       "      <td>0</td>\n",
       "      <td>7.8542</td>\n",
       "      <td>0</td>\n",
       "      <td>1</td>\n",
       "      <td>0</td>\n",
       "      <td>0</td>\n",
       "      <td>1</td>\n",
       "    </tr>\n",
       "    <tr>\n",
       "      <th>571</th>\n",
       "      <td>2</td>\n",
       "      <td>62.00</td>\n",
       "      <td>0</td>\n",
       "      <td>0</td>\n",
       "      <td>10.5000</td>\n",
       "      <td>0</td>\n",
       "      <td>1</td>\n",
       "      <td>0</td>\n",
       "      <td>0</td>\n",
       "      <td>1</td>\n",
       "    </tr>\n",
       "  </tbody>\n",
       "</table>\n",
       "<p>178 rows × 10 columns</p>\n",
       "</div>"
      ],
      "text/plain": [
       "             Pclass    Age  SibSp  Parch      Fare  Sex_female  Sex_male  \\\n",
       "PassengerId                                                                \n",
       "211               3  24.00      0      0    7.0500           0         1   \n",
       "624               3  21.00      0      0    7.8542           0         1   \n",
       "237               2  44.00      1      0   26.0000           0         1   \n",
       "832               2   0.83      1      1   18.7500           0         1   \n",
       "806               3  31.00      0      0    7.7750           0         1   \n",
       "...             ...    ...    ...    ...       ...         ...       ...   \n",
       "196               1  58.00      0      0  146.5208           1         0   \n",
       "785               3  25.00      0      0    7.0500           0         1   \n",
       "424               3  28.00      1      1   14.4000           1         0   \n",
       "834               3  23.00      0      0    7.8542           0         1   \n",
       "571               2  62.00      0      0   10.5000           0         1   \n",
       "\n",
       "             Embarked_C  Embarked_Q  Embarked_S  \n",
       "PassengerId                                      \n",
       "211                   0           0           1  \n",
       "624                   0           0           1  \n",
       "237                   0           0           1  \n",
       "832                   0           0           1  \n",
       "806                   0           0           1  \n",
       "...                 ...         ...         ...  \n",
       "196                   1           0           0  \n",
       "785                   0           0           1  \n",
       "424                   0           0           1  \n",
       "834                   0           0           1  \n",
       "571                   0           0           1  \n",
       "\n",
       "[178 rows x 10 columns]"
      ]
     },
     "execution_count": 26,
     "metadata": {},
     "output_type": "execute_result"
    },
    {
     "data": {
      "text/plain": [
       "0    309\n",
       "1    225\n",
       "Name: Survived, dtype: int64"
      ]
     },
     "execution_count": 26,
     "metadata": {},
     "output_type": "execute_result"
    },
    {
     "data": {
      "text/plain": [
       "0    115\n",
       "1     63\n",
       "Name: Survived, dtype: int64"
      ]
     },
     "execution_count": 26,
     "metadata": {},
     "output_type": "execute_result"
    }
   ],
   "source": [
    "titTrainX,titTestX,titTrainY,titTestY = train_test_split(titXOH,titY)\n",
    "titTrainX\n",
    "titTestX\n",
    "titTrainY.value_counts()\n",
    "titTestY.value_counts()"
   ]
  },
  {
   "cell_type": "markdown",
   "metadata": {
    "slideshow": {
     "slide_type": "slide"
    }
   },
   "source": [
    "#### 建立决策树模型"
   ]
  },
  {
   "cell_type": "code",
   "execution_count": 27,
   "metadata": {
    "slideshow": {
     "slide_type": "fragment"
    }
   },
   "outputs": [],
   "source": [
    "titDt = tree.DecisionTreeClassifier(random_state=10)"
   ]
  },
  {
   "cell_type": "markdown",
   "metadata": {
    "slideshow": {
     "slide_type": "fragment"
    }
   },
   "source": [
    "#### 在训练集上训练模型"
   ]
  },
  {
   "cell_type": "code",
   "execution_count": 28,
   "metadata": {
    "scrolled": false,
    "slideshow": {
     "slide_type": "fragment"
    }
   },
   "outputs": [
    {
     "data": {
      "text/plain": [
       "DecisionTreeClassifier(ccp_alpha=0.0, class_weight=None, criterion='gini',\n",
       "                       max_depth=None, max_features=None, max_leaf_nodes=None,\n",
       "                       min_impurity_decrease=0.0, min_impurity_split=None,\n",
       "                       min_samples_leaf=1, min_samples_split=2,\n",
       "                       min_weight_fraction_leaf=0.0, presort='deprecated',\n",
       "                       random_state=10, splitter='best')"
      ]
     },
     "execution_count": 28,
     "metadata": {},
     "output_type": "execute_result"
    }
   ],
   "source": [
    "titDt.fit(titTrainX,titTrainY)"
   ]
  },
  {
   "cell_type": "markdown",
   "metadata": {
    "slideshow": {
     "slide_type": "slide"
    }
   },
   "source": [
    "#### 可视化决策树"
   ]
  },
  {
   "cell_type": "code",
   "execution_count": 71,
   "metadata": {
    "slideshow": {
     "slide_type": "fragment"
    }
   },
   "outputs": [
    {
     "name": "stdout",
     "output_type": "stream",
     "text": [
      "|--- Sex_female <= 0.50\n",
      "|   |--- Age <= 3.50\n",
      "|   |   |--- SibSp <= 2.50\n",
      "|   |   |   |--- class: 1\n",
      "|   |   |--- SibSp >  2.50\n",
      "|   |   |   |--- Parch <= 1.50\n",
      "|   |   |   |   |--- class: 0\n",
      "|   |   |   |--- Parch >  1.50\n",
      "|   |   |   |   |--- class: 1\n",
      "|   |--- Age >  3.50\n",
      "|   |   |--- Pclass <= 1.50\n",
      "|   |   |   |--- Age <= 53.00\n",
      "|   |   |   |   |--- Age <= 17.50\n",
      "|   |   |   |   |   |--- class: 1\n",
      "|   |   |   |   |--- Age >  17.50\n",
      "|   |   |   |   |   |--- Age <= 22.50\n",
      "|   |   |   |   |   |   |--- class: 0\n",
      "|   |   |   |   |   |--- Age >  22.50\n",
      "|   |   |   |   |   |   |--- Fare <= 25.94\n",
      "|   |   |   |   |   |   |   |--- class: 0\n",
      "|   |   |   |   |   |   |--- Fare >  25.94\n",
      "|   |   |   |   |   |   |   |--- Fare <= 27.14\n",
      "|   |   |   |   |   |   |   |   |--- Age <= 43.50\n",
      "|   |   |   |   |   |   |   |   |   |--- class: 1\n",
      "|   |   |   |   |   |   |   |   |--- Age >  43.50\n",
      "|   |   |   |   |   |   |   |   |   |--- Age <= 46.50\n",
      "|   |   |   |   |   |   |   |   |   |   |--- class: 0\n",
      "|   |   |   |   |   |   |   |   |   |--- Age >  46.50\n",
      "|   |   |   |   |   |   |   |   |   |   |--- class: 1\n",
      "|   |   |   |   |   |   |   |--- Fare >  27.14\n",
      "|   |   |   |   |   |   |   |   |--- Fare <= 29.85\n",
      "|   |   |   |   |   |   |   |   |   |--- class: 0\n",
      "|   |   |   |   |   |   |   |   |--- Fare >  29.85\n",
      "|   |   |   |   |   |   |   |   |   |--- Fare <= 37.00\n",
      "|   |   |   |   |   |   |   |   |   |   |--- Fare <= 30.25\n",
      "|   |   |   |   |   |   |   |   |   |   |   |--- truncated branch of depth 2\n",
      "|   |   |   |   |   |   |   |   |   |   |--- Fare >  30.25\n",
      "|   |   |   |   |   |   |   |   |   |   |   |--- class: 1\n",
      "|   |   |   |   |   |   |   |   |   |--- Fare >  37.00\n",
      "|   |   |   |   |   |   |   |   |   |   |--- SibSp <= 0.50\n",
      "|   |   |   |   |   |   |   |   |   |   |   |--- truncated branch of depth 3\n",
      "|   |   |   |   |   |   |   |   |   |   |--- SibSp >  0.50\n",
      "|   |   |   |   |   |   |   |   |   |   |   |--- truncated branch of depth 8\n",
      "|   |   |   |--- Age >  53.00\n",
      "|   |   |   |   |--- Age <= 75.50\n",
      "|   |   |   |   |   |--- SibSp <= 0.50\n",
      "|   |   |   |   |   |   |--- class: 0\n",
      "|   |   |   |   |   |--- SibSp >  0.50\n",
      "|   |   |   |   |   |   |--- Age <= 62.00\n",
      "|   |   |   |   |   |   |   |--- class: 1\n",
      "|   |   |   |   |   |   |--- Age >  62.00\n",
      "|   |   |   |   |   |   |   |--- class: 0\n",
      "|   |   |   |   |--- Age >  75.50\n",
      "|   |   |   |   |   |--- class: 1\n",
      "|   |   |--- Pclass >  1.50\n",
      "|   |   |   |--- Age <= 32.25\n",
      "|   |   |   |   |--- Age <= 30.75\n",
      "|   |   |   |   |   |--- Embarked_C <= 0.50\n",
      "|   |   |   |   |   |   |--- Fare <= 7.01\n",
      "|   |   |   |   |   |   |   |--- SibSp <= 0.50\n",
      "|   |   |   |   |   |   |   |   |--- class: 1\n",
      "|   |   |   |   |   |   |   |--- SibSp >  0.50\n",
      "|   |   |   |   |   |   |   |   |--- class: 0\n",
      "|   |   |   |   |   |   |--- Fare >  7.01\n",
      "|   |   |   |   |   |   |   |--- Fare <= 7.83\n",
      "|   |   |   |   |   |   |   |   |--- Embarked_S <= 0.50\n",
      "|   |   |   |   |   |   |   |   |   |--- Age <= 27.00\n",
      "|   |   |   |   |   |   |   |   |   |   |--- class: 0\n",
      "|   |   |   |   |   |   |   |   |   |--- Age >  27.00\n",
      "|   |   |   |   |   |   |   |   |   |   |--- class: 1\n",
      "|   |   |   |   |   |   |   |   |--- Embarked_S >  0.50\n",
      "|   |   |   |   |   |   |   |   |   |--- SibSp <= 0.50\n",
      "|   |   |   |   |   |   |   |   |   |   |--- Fare <= 7.20\n",
      "|   |   |   |   |   |   |   |   |   |   |   |--- truncated branch of depth 2\n",
      "|   |   |   |   |   |   |   |   |   |   |--- Fare >  7.20\n",
      "|   |   |   |   |   |   |   |   |   |   |   |--- truncated branch of depth 4\n",
      "|   |   |   |   |   |   |   |   |   |--- SibSp >  0.50\n",
      "|   |   |   |   |   |   |   |   |   |   |--- Age <= 23.50\n",
      "|   |   |   |   |   |   |   |   |   |   |   |--- class: 0\n",
      "|   |   |   |   |   |   |   |   |   |   |--- Age >  23.50\n",
      "|   |   |   |   |   |   |   |   |   |   |   |--- class: 0\n",
      "|   |   |   |   |   |   |   |--- Fare >  7.83\n",
      "|   |   |   |   |   |   |   |   |--- Age <= 20.50\n",
      "|   |   |   |   |   |   |   |   |   |--- Fare <= 8.10\n",
      "|   |   |   |   |   |   |   |   |   |   |--- Fare <= 7.91\n",
      "|   |   |   |   |   |   |   |   |   |   |   |--- class: 0\n",
      "|   |   |   |   |   |   |   |   |   |   |--- Fare >  7.91\n",
      "|   |   |   |   |   |   |   |   |   |   |   |--- truncated branch of depth 3\n",
      "|   |   |   |   |   |   |   |   |   |--- Fare >  8.10\n",
      "|   |   |   |   |   |   |   |   |   |   |--- SibSp <= 0.50\n",
      "|   |   |   |   |   |   |   |   |   |   |   |--- truncated branch of depth 5\n",
      "|   |   |   |   |   |   |   |   |   |   |--- SibSp >  0.50\n",
      "|   |   |   |   |   |   |   |   |   |   |   |--- class: 0\n",
      "|   |   |   |   |   |   |   |   |--- Age >  20.50\n",
      "|   |   |   |   |   |   |   |   |   |--- Fare <= 44.75\n",
      "|   |   |   |   |   |   |   |   |   |   |--- Age <= 29.50\n",
      "|   |   |   |   |   |   |   |   |   |   |   |--- class: 0\n",
      "|   |   |   |   |   |   |   |   |   |   |--- Age >  29.50\n",
      "|   |   |   |   |   |   |   |   |   |   |   |--- truncated branch of depth 3\n",
      "|   |   |   |   |   |   |   |   |   |--- Fare >  44.75\n",
      "|   |   |   |   |   |   |   |   |   |   |--- Age <= 25.00\n",
      "|   |   |   |   |   |   |   |   |   |   |   |--- class: 0\n",
      "|   |   |   |   |   |   |   |   |   |   |--- Age >  25.00\n",
      "|   |   |   |   |   |   |   |   |   |   |   |--- truncated branch of depth 2\n",
      "|   |   |   |   |   |--- Embarked_C >  0.50\n",
      "|   |   |   |   |   |   |--- Age <= 26.50\n",
      "|   |   |   |   |   |   |   |--- Age <= 18.50\n",
      "|   |   |   |   |   |   |   |   |--- Fare <= 9.24\n",
      "|   |   |   |   |   |   |   |   |   |--- class: 0\n",
      "|   |   |   |   |   |   |   |   |--- Fare >  9.24\n",
      "|   |   |   |   |   |   |   |   |   |--- SibSp <= 0.50\n",
      "|   |   |   |   |   |   |   |   |   |   |--- class: 0\n",
      "|   |   |   |   |   |   |   |   |   |--- SibSp >  0.50\n",
      "|   |   |   |   |   |   |   |   |   |   |--- class: 1\n",
      "|   |   |   |   |   |   |   |--- Age >  18.50\n",
      "|   |   |   |   |   |   |   |   |--- Fare <= 15.39\n",
      "|   |   |   |   |   |   |   |   |   |--- Fare <= 10.84\n",
      "|   |   |   |   |   |   |   |   |   |   |--- Fare <= 5.62\n",
      "|   |   |   |   |   |   |   |   |   |   |   |--- class: 0\n",
      "|   |   |   |   |   |   |   |   |   |   |--- Fare >  5.62\n",
      "|   |   |   |   |   |   |   |   |   |   |   |--- class: 1\n",
      "|   |   |   |   |   |   |   |   |   |--- Fare >  10.84\n",
      "|   |   |   |   |   |   |   |   |   |   |--- class: 0\n",
      "|   |   |   |   |   |   |   |   |--- Fare >  15.39\n",
      "|   |   |   |   |   |   |   |   |   |--- class: 1\n",
      "|   |   |   |   |   |   |--- Age >  26.50\n",
      "|   |   |   |   |   |   |   |--- Fare <= 7.56\n",
      "|   |   |   |   |   |   |   |   |--- class: 0\n",
      "|   |   |   |   |   |   |   |--- Fare >  7.56\n",
      "|   |   |   |   |   |   |   |   |--- SibSp <= 0.50\n",
      "|   |   |   |   |   |   |   |   |   |--- class: 1\n",
      "|   |   |   |   |   |   |   |   |--- SibSp >  0.50\n",
      "|   |   |   |   |   |   |   |   |   |--- class: 0\n",
      "|   |   |   |   |--- Age >  30.75\n",
      "|   |   |   |   |   |--- SibSp <= 0.50\n",
      "|   |   |   |   |   |   |--- Fare <= 11.75\n",
      "|   |   |   |   |   |   |   |--- Fare <= 8.21\n",
      "|   |   |   |   |   |   |   |   |--- Embarked_S <= 0.50\n",
      "|   |   |   |   |   |   |   |   |   |--- class: 0\n",
      "|   |   |   |   |   |   |   |   |--- Embarked_S >  0.50\n",
      "|   |   |   |   |   |   |   |   |   |--- Fare <= 7.89\n",
      "|   |   |   |   |   |   |   |   |   |   |--- class: 1\n",
      "|   |   |   |   |   |   |   |   |   |--- Fare >  7.89\n",
      "|   |   |   |   |   |   |   |   |   |   |--- Age <= 31.50\n",
      "|   |   |   |   |   |   |   |   |   |   |   |--- class: 1\n",
      "|   |   |   |   |   |   |   |   |   |   |--- Age >  31.50\n",
      "|   |   |   |   |   |   |   |   |   |   |   |--- truncated branch of depth 2\n",
      "|   |   |   |   |   |   |   |--- Fare >  8.21\n",
      "|   |   |   |   |   |   |   |   |--- class: 0\n",
      "|   |   |   |   |   |   |--- Fare >  11.75\n",
      "|   |   |   |   |   |   |   |--- class: 1\n",
      "|   |   |   |   |   |--- SibSp >  0.50\n",
      "|   |   |   |   |   |   |--- class: 0\n",
      "|   |   |   |--- Age >  32.25\n",
      "|   |   |   |   |--- Fare <= 7.91\n",
      "|   |   |   |   |   |--- class: 0\n",
      "|   |   |   |   |--- Fare >  7.91\n",
      "|   |   |   |   |   |--- Fare <= 7.99\n",
      "|   |   |   |   |   |   |--- Age <= 41.50\n",
      "|   |   |   |   |   |   |   |--- class: 0\n",
      "|   |   |   |   |   |   |--- Age >  41.50\n",
      "|   |   |   |   |   |   |   |--- class: 1\n",
      "|   |   |   |   |   |--- Fare >  7.99\n",
      "|   |   |   |   |   |   |--- Age <= 34.50\n",
      "|   |   |   |   |   |   |   |--- Fare <= 13.70\n",
      "|   |   |   |   |   |   |   |   |--- Fare <= 12.64\n",
      "|   |   |   |   |   |   |   |   |   |--- class: 0\n",
      "|   |   |   |   |   |   |   |   |--- Fare >  12.64\n",
      "|   |   |   |   |   |   |   |   |   |--- class: 0\n",
      "|   |   |   |   |   |   |   |--- Fare >  13.70\n",
      "|   |   |   |   |   |   |   |   |--- class: 0\n",
      "|   |   |   |   |   |   |--- Age >  34.50\n",
      "|   |   |   |   |   |   |   |--- class: 0\n",
      "|--- Sex_female >  0.50\n",
      "|   |--- Pclass <= 2.50\n",
      "|   |   |--- Age <= 2.50\n",
      "|   |   |   |--- Fare <= 88.78\n",
      "|   |   |   |   |--- class: 1\n",
      "|   |   |   |--- Fare >  88.78\n",
      "|   |   |   |   |--- class: 0\n",
      "|   |   |--- Age >  2.50\n",
      "|   |   |   |--- Fare <= 26.12\n",
      "|   |   |   |   |--- SibSp <= 0.50\n",
      "|   |   |   |   |   |--- Fare <= 13.25\n",
      "|   |   |   |   |   |   |--- Fare <= 12.82\n",
      "|   |   |   |   |   |   |   |--- class: 1\n",
      "|   |   |   |   |   |   |--- Fare >  12.82\n",
      "|   |   |   |   |   |   |   |--- Age <= 26.00\n",
      "|   |   |   |   |   |   |   |   |--- class: 0\n",
      "|   |   |   |   |   |   |   |--- Age >  26.00\n",
      "|   |   |   |   |   |   |   |   |--- Age <= 37.00\n",
      "|   |   |   |   |   |   |   |   |   |--- class: 1\n",
      "|   |   |   |   |   |   |   |   |--- Age >  37.00\n",
      "|   |   |   |   |   |   |   |   |   |--- Age <= 39.00\n",
      "|   |   |   |   |   |   |   |   |   |   |--- class: 0\n",
      "|   |   |   |   |   |   |   |   |   |--- Age >  39.00\n",
      "|   |   |   |   |   |   |   |   |   |   |--- class: 1\n",
      "|   |   |   |   |   |--- Fare >  13.25\n",
      "|   |   |   |   |   |   |--- class: 1\n",
      "|   |   |   |   |--- SibSp >  0.50\n",
      "|   |   |   |   |   |--- Age <= 25.00\n",
      "|   |   |   |   |   |   |--- class: 1\n",
      "|   |   |   |   |   |--- Age >  25.00\n",
      "|   |   |   |   |   |   |--- Age <= 27.50\n",
      "|   |   |   |   |   |   |   |--- Embarked_S <= 0.50\n",
      "|   |   |   |   |   |   |   |   |--- class: 1\n",
      "|   |   |   |   |   |   |   |--- Embarked_S >  0.50\n",
      "|   |   |   |   |   |   |   |   |--- class: 0\n",
      "|   |   |   |   |   |   |--- Age >  27.50\n",
      "|   |   |   |   |   |   |   |--- Age <= 43.00\n",
      "|   |   |   |   |   |   |   |   |--- class: 1\n",
      "|   |   |   |   |   |   |   |--- Age >  43.00\n",
      "|   |   |   |   |   |   |   |   |--- Parch <= 1.50\n",
      "|   |   |   |   |   |   |   |   |   |--- class: 0\n",
      "|   |   |   |   |   |   |   |   |--- Parch >  1.50\n",
      "|   |   |   |   |   |   |   |   |   |--- class: 1\n",
      "|   |   |   |--- Fare >  26.12\n",
      "|   |   |   |   |--- Parch <= 1.50\n",
      "|   |   |   |   |   |--- class: 1\n",
      "|   |   |   |   |--- Parch >  1.50\n",
      "|   |   |   |   |   |--- Age <= 24.50\n",
      "|   |   |   |   |   |   |--- class: 1\n",
      "|   |   |   |   |   |--- Age >  24.50\n",
      "|   |   |   |   |   |   |--- Age <= 28.00\n",
      "|   |   |   |   |   |   |   |--- class: 0\n",
      "|   |   |   |   |   |   |--- Age >  28.00\n",
      "|   |   |   |   |   |   |   |--- class: 1\n",
      "|   |--- Pclass >  2.50\n",
      "|   |   |--- Fare <= 7.74\n",
      "|   |   |   |--- class: 1\n",
      "|   |   |--- Fare >  7.74\n",
      "|   |   |   |--- Age <= 38.50\n",
      "|   |   |   |   |--- Age <= 1.50\n",
      "|   |   |   |   |   |--- class: 1\n",
      "|   |   |   |   |--- Age >  1.50\n",
      "|   |   |   |   |   |--- Age <= 32.50\n",
      "|   |   |   |   |   |   |--- Fare <= 8.29\n",
      "|   |   |   |   |   |   |   |--- Age <= 27.50\n",
      "|   |   |   |   |   |   |   |   |--- Age <= 15.00\n",
      "|   |   |   |   |   |   |   |   |   |--- class: 0\n",
      "|   |   |   |   |   |   |   |   |--- Age >  15.00\n",
      "|   |   |   |   |   |   |   |   |   |--- Age <= 22.50\n",
      "|   |   |   |   |   |   |   |   |   |   |--- Age <= 20.00\n",
      "|   |   |   |   |   |   |   |   |   |   |   |--- class: 1\n",
      "|   |   |   |   |   |   |   |   |   |   |--- Age >  20.00\n",
      "|   |   |   |   |   |   |   |   |   |   |   |--- truncated branch of depth 2\n",
      "|   |   |   |   |   |   |   |   |   |--- Age >  22.50\n",
      "|   |   |   |   |   |   |   |   |   |   |--- Age <= 25.50\n",
      "|   |   |   |   |   |   |   |   |   |   |   |--- class: 0\n",
      "|   |   |   |   |   |   |   |   |   |   |--- Age >  25.50\n",
      "|   |   |   |   |   |   |   |   |   |   |   |--- class: 1\n",
      "|   |   |   |   |   |   |   |--- Age >  27.50\n",
      "|   |   |   |   |   |   |   |   |--- class: 0\n",
      "|   |   |   |   |   |   |--- Fare >  8.29\n",
      "|   |   |   |   |   |   |   |--- Fare <= 10.80\n",
      "|   |   |   |   |   |   |   |   |--- Age <= 30.50\n",
      "|   |   |   |   |   |   |   |   |   |--- class: 0\n",
      "|   |   |   |   |   |   |   |   |--- Age >  30.50\n",
      "|   |   |   |   |   |   |   |   |   |--- class: 1\n",
      "|   |   |   |   |   |   |   |--- Fare >  10.80\n",
      "|   |   |   |   |   |   |   |   |--- Fare <= 13.46\n",
      "|   |   |   |   |   |   |   |   |   |--- class: 1\n",
      "|   |   |   |   |   |   |   |   |--- Fare >  13.46\n",
      "|   |   |   |   |   |   |   |   |   |--- Age <= 6.50\n",
      "|   |   |   |   |   |   |   |   |   |   |--- Age <= 3.50\n",
      "|   |   |   |   |   |   |   |   |   |   |   |--- class: 0\n",
      "|   |   |   |   |   |   |   |   |   |   |--- Age >  3.50\n",
      "|   |   |   |   |   |   |   |   |   |   |   |--- class: 1\n",
      "|   |   |   |   |   |   |   |   |   |--- Age >  6.50\n",
      "|   |   |   |   |   |   |   |   |   |   |--- Age <= 21.00\n",
      "|   |   |   |   |   |   |   |   |   |   |   |--- truncated branch of depth 4\n",
      "|   |   |   |   |   |   |   |   |   |   |--- Age >  21.00\n",
      "|   |   |   |   |   |   |   |   |   |   |   |--- truncated branch of depth 4\n",
      "|   |   |   |   |   |--- Age >  32.50\n",
      "|   |   |   |   |   |   |--- SibSp <= 0.50\n",
      "|   |   |   |   |   |   |   |--- class: 0\n",
      "|   |   |   |   |   |   |--- SibSp >  0.50\n",
      "|   |   |   |   |   |   |   |--- class: 1\n",
      "|   |   |   |--- Age >  38.50\n",
      "|   |   |   |   |--- Age <= 55.50\n",
      "|   |   |   |   |   |--- class: 0\n",
      "|   |   |   |   |--- Age >  55.50\n",
      "|   |   |   |   |   |--- class: 1\n",
      "\n"
     ]
    }
   ],
   "source": [
    "print(tree.export_text(titDt,feature_names=list(titTrainX.columns)))"
   ]
  },
  {
   "cell_type": "code",
   "execution_count": 72,
   "metadata": {
    "slideshow": {
     "slide_type": "subslide"
    }
   },
   "outputs": [
    {
     "data": {
      "image/svg+xml": [
       "<?xml version=\"1.0\" encoding=\"UTF-8\" standalone=\"no\"?>\n",
       "<!DOCTYPE svg PUBLIC \"-//W3C//DTD SVG 1.1//EN\"\n",
       " \"http://www.w3.org/Graphics/SVG/1.1/DTD/svg11.dtd\">\n",
       "<!-- Generated by graphviz version 2.38.0 (20140413.2041)\n",
       " -->\n",
       "<!-- Title: Tree Pages: 1 -->\n",
       "<svg width=\"4708pt\" height=\"2218pt\"\n",
       " viewBox=\"0.00 0.00 4708.00 2218.00\" xmlns=\"http://www.w3.org/2000/svg\" xmlns:xlink=\"http://www.w3.org/1999/xlink\">\n",
       "<g id=\"graph0\" class=\"graph\" transform=\"scale(1 1) rotate(0) translate(4 2214)\">\n",
       "<title>Tree</title>\n",
       "<polygon fill=\"white\" stroke=\"none\" points=\"-4,4 -4,-2214 4704,-2214 4704,4 -4,4\"/>\n",
       "<!-- 0 -->\n",
       "<g id=\"node1\" class=\"node\"><title>0</title>\n",
       "<polygon fill=\"#f8ddc9\" stroke=\"black\" points=\"2588,-2210 2466,-2210 2466,-2127 2588,-2127 2588,-2210\"/>\n",
       "<text text-anchor=\"middle\" x=\"2527\" y=\"-2194.8\" font-family=\"Times,serif\" font-size=\"14.00\">Sex_female &lt;= 0.5</text>\n",
       "<text text-anchor=\"middle\" x=\"2527\" y=\"-2179.8\" font-family=\"Times,serif\" font-size=\"14.00\">gini = 0.488</text>\n",
       "<text text-anchor=\"middle\" x=\"2527\" y=\"-2164.8\" font-family=\"Times,serif\" font-size=\"14.00\">samples = 534</text>\n",
       "<text text-anchor=\"middle\" x=\"2527\" y=\"-2149.8\" font-family=\"Times,serif\" font-size=\"14.00\">value = [309, 225]</text>\n",
       "<text text-anchor=\"middle\" x=\"2527\" y=\"-2134.8\" font-family=\"Times,serif\" font-size=\"14.00\">class = 未生还</text>\n",
       "</g>\n",
       "<!-- 1 -->\n",
       "<g id=\"node2\" class=\"node\"><title>1</title>\n",
       "<polygon fill=\"#eca470\" stroke=\"black\" points=\"1788,-2091 1676,-2091 1676,-2008 1788,-2008 1788,-2091\"/>\n",
       "<text text-anchor=\"middle\" x=\"1732\" y=\"-2075.8\" font-family=\"Times,serif\" font-size=\"14.00\">Age &lt;= 3.5</text>\n",
       "<text text-anchor=\"middle\" x=\"1732\" y=\"-2060.8\" font-family=\"Times,serif\" font-size=\"14.00\">gini = 0.34</text>\n",
       "<text text-anchor=\"middle\" x=\"1732\" y=\"-2045.8\" font-family=\"Times,serif\" font-size=\"14.00\">samples = 336</text>\n",
       "<text text-anchor=\"middle\" x=\"1732\" y=\"-2030.8\" font-family=\"Times,serif\" font-size=\"14.00\">value = [263, 73]</text>\n",
       "<text text-anchor=\"middle\" x=\"1732\" y=\"-2015.8\" font-family=\"Times,serif\" font-size=\"14.00\">class = 未生还</text>\n",
       "</g>\n",
       "<!-- 0&#45;&gt;1 -->\n",
       "<g id=\"edge1\" class=\"edge\"><title>0&#45;&gt;1</title>\n",
       "<path fill=\"none\" stroke=\"black\" d=\"M2465.94,-2158.51C2319.59,-2136.98 1949.76,-2082.55 1798.27,-2060.25\"/>\n",
       "<polygon fill=\"black\" stroke=\"black\" points=\"1798.58,-2056.76 1788.18,-2058.77 1797.56,-2063.69 1798.58,-2056.76\"/>\n",
       "<text text-anchor=\"middle\" x=\"1803.09\" y=\"-2075.13\" font-family=\"Times,serif\" font-size=\"14.00\">True</text>\n",
       "</g>\n",
       "<!-- 170 -->\n",
       "<g id=\"node171\" class=\"node\"><title>170</title>\n",
       "<polygon fill=\"#75bbed\" stroke=\"black\" points=\"3347,-2091 3235,-2091 3235,-2008 3347,-2008 3347,-2091\"/>\n",
       "<text text-anchor=\"middle\" x=\"3291\" y=\"-2075.8\" font-family=\"Times,serif\" font-size=\"14.00\">Pclass &lt;= 2.5</text>\n",
       "<text text-anchor=\"middle\" x=\"3291\" y=\"-2060.8\" font-family=\"Times,serif\" font-size=\"14.00\">gini = 0.357</text>\n",
       "<text text-anchor=\"middle\" x=\"3291\" y=\"-2045.8\" font-family=\"Times,serif\" font-size=\"14.00\">samples = 198</text>\n",
       "<text text-anchor=\"middle\" x=\"3291\" y=\"-2030.8\" font-family=\"Times,serif\" font-size=\"14.00\">value = [46, 152]</text>\n",
       "<text text-anchor=\"middle\" x=\"3291\" y=\"-2015.8\" font-family=\"Times,serif\" font-size=\"14.00\">class = 生还</text>\n",
       "</g>\n",
       "<!-- 0&#45;&gt;170 -->\n",
       "<g id=\"edge170\" class=\"edge\"><title>0&#45;&gt;170</title>\n",
       "<path fill=\"none\" stroke=\"black\" d=\"M2588.23,-2158.12C2729.75,-2136.45 3078.54,-2083.04 3224.78,-2060.64\"/>\n",
       "<polygon fill=\"black\" stroke=\"black\" points=\"3225.6,-2064.06 3234.96,-2059.08 3224.54,-2057.14 3225.6,-2064.06\"/>\n",
       "<text text-anchor=\"middle\" x=\"3220.16\" y=\"-2075.53\" font-family=\"Times,serif\" font-size=\"14.00\">False</text>\n",
       "</g>\n",
       "<!-- 2 -->\n",
       "<g id=\"node3\" class=\"node\"><title>2</title>\n",
       "<polygon fill=\"#6fb8ec\" stroke=\"black\" points=\"707,-1972 609,-1972 609,-1889 707,-1889 707,-1972\"/>\n",
       "<text text-anchor=\"middle\" x=\"658\" y=\"-1956.8\" font-family=\"Times,serif\" font-size=\"14.00\">SibSp &lt;= 2.5</text>\n",
       "<text text-anchor=\"middle\" x=\"658\" y=\"-1941.8\" font-family=\"Times,serif\" font-size=\"14.00\">gini = 0.337</text>\n",
       "<text text-anchor=\"middle\" x=\"658\" y=\"-1926.8\" font-family=\"Times,serif\" font-size=\"14.00\">samples = 14</text>\n",
       "<text text-anchor=\"middle\" x=\"658\" y=\"-1911.8\" font-family=\"Times,serif\" font-size=\"14.00\">value = [3, 11]</text>\n",
       "<text text-anchor=\"middle\" x=\"658\" y=\"-1896.8\" font-family=\"Times,serif\" font-size=\"14.00\">class = 生还</text>\n",
       "</g>\n",
       "<!-- 1&#45;&gt;2 -->\n",
       "<g id=\"edge2\" class=\"edge\"><title>1&#45;&gt;2</title>\n",
       "<path fill=\"none\" stroke=\"black\" d=\"M1675.77,-2042.37C1491.31,-2022.28 905.629,-1958.48 717.088,-1937.94\"/>\n",
       "<polygon fill=\"black\" stroke=\"black\" points=\"717.41,-1934.45 707.09,-1936.85 716.652,-1941.41 717.41,-1934.45\"/>\n",
       "</g>\n",
       "<!-- 7 -->\n",
       "<g id=\"node8\" class=\"node\"><title>7</title>\n",
       "<polygon fill=\"#eb9f68\" stroke=\"black\" points=\"1788,-1972 1676,-1972 1676,-1889 1788,-1889 1788,-1972\"/>\n",
       "<text text-anchor=\"middle\" x=\"1732\" y=\"-1956.8\" font-family=\"Times,serif\" font-size=\"14.00\">Pclass &lt;= 1.5</text>\n",
       "<text text-anchor=\"middle\" x=\"1732\" y=\"-1941.8\" font-family=\"Times,serif\" font-size=\"14.00\">gini = 0.311</text>\n",
       "<text text-anchor=\"middle\" x=\"1732\" y=\"-1926.8\" font-family=\"Times,serif\" font-size=\"14.00\">samples = 322</text>\n",
       "<text text-anchor=\"middle\" x=\"1732\" y=\"-1911.8\" font-family=\"Times,serif\" font-size=\"14.00\">value = [260, 62]</text>\n",
       "<text text-anchor=\"middle\" x=\"1732\" y=\"-1896.8\" font-family=\"Times,serif\" font-size=\"14.00\">class = 未生还</text>\n",
       "</g>\n",
       "<!-- 1&#45;&gt;7 -->\n",
       "<g id=\"edge7\" class=\"edge\"><title>1&#45;&gt;7</title>\n",
       "<path fill=\"none\" stroke=\"black\" d=\"M1732,-2007.91C1732,-1999.65 1732,-1990.86 1732,-1982.3\"/>\n",
       "<polygon fill=\"black\" stroke=\"black\" points=\"1735.5,-1982.02 1732,-1972.02 1728.5,-1982.02 1735.5,-1982.02\"/>\n",
       "</g>\n",
       "<!-- 3 -->\n",
       "<g id=\"node4\" class=\"node\"><title>3</title>\n",
       "<polygon fill=\"#399de5\" stroke=\"black\" points=\"589,-1845.5 491,-1845.5 491,-1777.5 589,-1777.5 589,-1845.5\"/>\n",
       "<text text-anchor=\"middle\" x=\"540\" y=\"-1830.3\" font-family=\"Times,serif\" font-size=\"14.00\">gini = 0.0</text>\n",
       "<text text-anchor=\"middle\" x=\"540\" y=\"-1815.3\" font-family=\"Times,serif\" font-size=\"14.00\">samples = 10</text>\n",
       "<text text-anchor=\"middle\" x=\"540\" y=\"-1800.3\" font-family=\"Times,serif\" font-size=\"14.00\">value = [0, 10]</text>\n",
       "<text text-anchor=\"middle\" x=\"540\" y=\"-1785.3\" font-family=\"Times,serif\" font-size=\"14.00\">class = 生还</text>\n",
       "</g>\n",
       "<!-- 2&#45;&gt;3 -->\n",
       "<g id=\"edge3\" class=\"edge\"><title>2&#45;&gt;3</title>\n",
       "<path fill=\"none\" stroke=\"black\" d=\"M617.06,-1888.91C605.264,-1877.21 592.401,-1864.46 580.624,-1852.78\"/>\n",
       "<polygon fill=\"black\" stroke=\"black\" points=\"583.016,-1850.22 573.45,-1845.67 578.087,-1855.19 583.016,-1850.22\"/>\n",
       "</g>\n",
       "<!-- 4 -->\n",
       "<g id=\"node5\" class=\"node\"><title>4</title>\n",
       "<polygon fill=\"#eeab7b\" stroke=\"black\" points=\"708.5,-1853 607.5,-1853 607.5,-1770 708.5,-1770 708.5,-1853\"/>\n",
       "<text text-anchor=\"middle\" x=\"658\" y=\"-1837.8\" font-family=\"Times,serif\" font-size=\"14.00\">Parch &lt;= 1.5</text>\n",
       "<text text-anchor=\"middle\" x=\"658\" y=\"-1822.8\" font-family=\"Times,serif\" font-size=\"14.00\">gini = 0.375</text>\n",
       "<text text-anchor=\"middle\" x=\"658\" y=\"-1807.8\" font-family=\"Times,serif\" font-size=\"14.00\">samples = 4</text>\n",
       "<text text-anchor=\"middle\" x=\"658\" y=\"-1792.8\" font-family=\"Times,serif\" font-size=\"14.00\">value = [3, 1]</text>\n",
       "<text text-anchor=\"middle\" x=\"658\" y=\"-1777.8\" font-family=\"Times,serif\" font-size=\"14.00\">class = 未生还</text>\n",
       "</g>\n",
       "<!-- 2&#45;&gt;4 -->\n",
       "<g id=\"edge4\" class=\"edge\"><title>2&#45;&gt;4</title>\n",
       "<path fill=\"none\" stroke=\"black\" d=\"M658,-1888.91C658,-1880.65 658,-1871.86 658,-1863.3\"/>\n",
       "<polygon fill=\"black\" stroke=\"black\" points=\"661.5,-1863.02 658,-1853.02 654.5,-1863.02 661.5,-1863.02\"/>\n",
       "</g>\n",
       "<!-- 5 -->\n",
       "<g id=\"node6\" class=\"node\"><title>5</title>\n",
       "<polygon fill=\"#e58139\" stroke=\"black\" points=\"593.5,-1726.5 492.5,-1726.5 492.5,-1658.5 593.5,-1658.5 593.5,-1726.5\"/>\n",
       "<text text-anchor=\"middle\" x=\"543\" y=\"-1711.3\" font-family=\"Times,serif\" font-size=\"14.00\">gini = 0.0</text>\n",
       "<text text-anchor=\"middle\" x=\"543\" y=\"-1696.3\" font-family=\"Times,serif\" font-size=\"14.00\">samples = 3</text>\n",
       "<text text-anchor=\"middle\" x=\"543\" y=\"-1681.3\" font-family=\"Times,serif\" font-size=\"14.00\">value = [3, 0]</text>\n",
       "<text text-anchor=\"middle\" x=\"543\" y=\"-1666.3\" font-family=\"Times,serif\" font-size=\"14.00\">class = 未生还</text>\n",
       "</g>\n",
       "<!-- 4&#45;&gt;5 -->\n",
       "<g id=\"edge5\" class=\"edge\"><title>4&#45;&gt;5</title>\n",
       "<path fill=\"none\" stroke=\"black\" d=\"M618.101,-1769.91C606.713,-1758.32 594.306,-1745.7 582.916,-1734.11\"/>\n",
       "<polygon fill=\"black\" stroke=\"black\" points=\"585.106,-1731.35 575.6,-1726.67 580.114,-1736.25 585.106,-1731.35\"/>\n",
       "</g>\n",
       "<!-- 6 -->\n",
       "<g id=\"node7\" class=\"node\"><title>6</title>\n",
       "<polygon fill=\"#399de5\" stroke=\"black\" points=\"704,-1726.5 612,-1726.5 612,-1658.5 704,-1658.5 704,-1726.5\"/>\n",
       "<text text-anchor=\"middle\" x=\"658\" y=\"-1711.3\" font-family=\"Times,serif\" font-size=\"14.00\">gini = 0.0</text>\n",
       "<text text-anchor=\"middle\" x=\"658\" y=\"-1696.3\" font-family=\"Times,serif\" font-size=\"14.00\">samples = 1</text>\n",
       "<text text-anchor=\"middle\" x=\"658\" y=\"-1681.3\" font-family=\"Times,serif\" font-size=\"14.00\">value = [0, 1]</text>\n",
       "<text text-anchor=\"middle\" x=\"658\" y=\"-1666.3\" font-family=\"Times,serif\" font-size=\"14.00\">class = 生还</text>\n",
       "</g>\n",
       "<!-- 4&#45;&gt;6 -->\n",
       "<g id=\"edge6\" class=\"edge\"><title>4&#45;&gt;6</title>\n",
       "<path fill=\"none\" stroke=\"black\" d=\"M658,-1769.91C658,-1759.2 658,-1747.62 658,-1736.78\"/>\n",
       "<polygon fill=\"black\" stroke=\"black\" points=\"661.5,-1736.67 658,-1726.67 654.5,-1736.67 661.5,-1736.67\"/>\n",
       "</g>\n",
       "<!-- 8 -->\n",
       "<g id=\"node9\" class=\"node\"><title>8</title>\n",
       "<polygon fill=\"#f8ddca\" stroke=\"black\" points=\"1065.5,-1853 960.5,-1853 960.5,-1770 1065.5,-1770 1065.5,-1853\"/>\n",
       "<text text-anchor=\"middle\" x=\"1013\" y=\"-1837.8\" font-family=\"Times,serif\" font-size=\"14.00\">Age &lt;= 53.0</text>\n",
       "<text text-anchor=\"middle\" x=\"1013\" y=\"-1822.8\" font-family=\"Times,serif\" font-size=\"14.00\">gini = 0.488</text>\n",
       "<text text-anchor=\"middle\" x=\"1013\" y=\"-1807.8\" font-family=\"Times,serif\" font-size=\"14.00\">samples = 78</text>\n",
       "<text text-anchor=\"middle\" x=\"1013\" y=\"-1792.8\" font-family=\"Times,serif\" font-size=\"14.00\">value = [45, 33]</text>\n",
       "<text text-anchor=\"middle\" x=\"1013\" y=\"-1777.8\" font-family=\"Times,serif\" font-size=\"14.00\">class = 未生还</text>\n",
       "</g>\n",
       "<!-- 7&#45;&gt;8 -->\n",
       "<g id=\"edge8\" class=\"edge\"><title>7&#45;&gt;8</title>\n",
       "<path fill=\"none\" stroke=\"black\" d=\"M1675.88,-1920.37C1543.85,-1898.88 1214.27,-1845.25 1075.82,-1822.72\"/>\n",
       "<polygon fill=\"black\" stroke=\"black\" points=\"1076.22,-1819.24 1065.79,-1821.09 1075.1,-1826.15 1076.22,-1819.24\"/>\n",
       "</g>\n",
       "<!-- 63 -->\n",
       "<g id=\"node64\" class=\"node\"><title>63</title>\n",
       "<polygon fill=\"#e99254\" stroke=\"black\" points=\"2278,-1853 2166,-1853 2166,-1770 2278,-1770 2278,-1853\"/>\n",
       "<text text-anchor=\"middle\" x=\"2222\" y=\"-1837.8\" font-family=\"Times,serif\" font-size=\"14.00\">Age &lt;= 32.25</text>\n",
       "<text text-anchor=\"middle\" x=\"2222\" y=\"-1822.8\" font-family=\"Times,serif\" font-size=\"14.00\">gini = 0.209</text>\n",
       "<text text-anchor=\"middle\" x=\"2222\" y=\"-1807.8\" font-family=\"Times,serif\" font-size=\"14.00\">samples = 244</text>\n",
       "<text text-anchor=\"middle\" x=\"2222\" y=\"-1792.8\" font-family=\"Times,serif\" font-size=\"14.00\">value = [215, 29]</text>\n",
       "<text text-anchor=\"middle\" x=\"2222\" y=\"-1777.8\" font-family=\"Times,serif\" font-size=\"14.00\">class = 未生还</text>\n",
       "</g>\n",
       "<!-- 7&#45;&gt;63 -->\n",
       "<g id=\"edge63\" class=\"edge\"><title>7&#45;&gt;63</title>\n",
       "<path fill=\"none\" stroke=\"black\" d=\"M1788.21,-1916.08C1879.26,-1894.34 2058.56,-1851.53 2155.7,-1828.33\"/>\n",
       "<polygon fill=\"black\" stroke=\"black\" points=\"2156.78,-1831.67 2165.69,-1825.94 2155.15,-1824.86 2156.78,-1831.67\"/>\n",
       "</g>\n",
       "<!-- 9 -->\n",
       "<g id=\"node10\" class=\"node\"><title>9</title>\n",
       "<polygon fill=\"#fefbf9\" stroke=\"black\" points=\"827.5,-1734 722.5,-1734 722.5,-1651 827.5,-1651 827.5,-1734\"/>\n",
       "<text text-anchor=\"middle\" x=\"775\" y=\"-1718.8\" font-family=\"Times,serif\" font-size=\"14.00\">Age &lt;= 17.5</text>\n",
       "<text text-anchor=\"middle\" x=\"775\" y=\"-1703.8\" font-family=\"Times,serif\" font-size=\"14.00\">gini = 0.5</text>\n",
       "<text text-anchor=\"middle\" x=\"775\" y=\"-1688.8\" font-family=\"Times,serif\" font-size=\"14.00\">samples = 63</text>\n",
       "<text text-anchor=\"middle\" x=\"775\" y=\"-1673.8\" font-family=\"Times,serif\" font-size=\"14.00\">value = [32, 31]</text>\n",
       "<text text-anchor=\"middle\" x=\"775\" y=\"-1658.8\" font-family=\"Times,serif\" font-size=\"14.00\">class = 未生还</text>\n",
       "</g>\n",
       "<!-- 8&#45;&gt;9 -->\n",
       "<g id=\"edge9\" class=\"edge\"><title>8&#45;&gt;9</title>\n",
       "<path fill=\"none\" stroke=\"black\" d=\"M960.475,-1784.68C923.977,-1766.74 875.194,-1742.75 836.819,-1723.89\"/>\n",
       "<polygon fill=\"black\" stroke=\"black\" points=\"838.32,-1720.73 827.801,-1719.46 835.232,-1727.01 838.32,-1720.73\"/>\n",
       "</g>\n",
       "<!-- 56 -->\n",
       "<g id=\"node57\" class=\"node\"><title>56</title>\n",
       "<polygon fill=\"#e99457\" stroke=\"black\" points=\"1063.5,-1734 962.5,-1734 962.5,-1651 1063.5,-1651 1063.5,-1734\"/>\n",
       "<text text-anchor=\"middle\" x=\"1013\" y=\"-1718.8\" font-family=\"Times,serif\" font-size=\"14.00\">Age &lt;= 75.5</text>\n",
       "<text text-anchor=\"middle\" x=\"1013\" y=\"-1703.8\" font-family=\"Times,serif\" font-size=\"14.00\">gini = 0.231</text>\n",
       "<text text-anchor=\"middle\" x=\"1013\" y=\"-1688.8\" font-family=\"Times,serif\" font-size=\"14.00\">samples = 15</text>\n",
       "<text text-anchor=\"middle\" x=\"1013\" y=\"-1673.8\" font-family=\"Times,serif\" font-size=\"14.00\">value = [13, 2]</text>\n",
       "<text text-anchor=\"middle\" x=\"1013\" y=\"-1658.8\" font-family=\"Times,serif\" font-size=\"14.00\">class = 未生还</text>\n",
       "</g>\n",
       "<!-- 8&#45;&gt;56 -->\n",
       "<g id=\"edge56\" class=\"edge\"><title>8&#45;&gt;56</title>\n",
       "<path fill=\"none\" stroke=\"black\" d=\"M1013,-1769.91C1013,-1761.65 1013,-1752.86 1013,-1744.3\"/>\n",
       "<polygon fill=\"black\" stroke=\"black\" points=\"1016.5,-1744.02 1013,-1734.02 1009.5,-1744.02 1016.5,-1744.02\"/>\n",
       "</g>\n",
       "<!-- 10 -->\n",
       "<g id=\"node11\" class=\"node\"><title>10</title>\n",
       "<polygon fill=\"#399de5\" stroke=\"black\" points=\"663,-1607.5 571,-1607.5 571,-1539.5 663,-1539.5 663,-1607.5\"/>\n",
       "<text text-anchor=\"middle\" x=\"617\" y=\"-1592.3\" font-family=\"Times,serif\" font-size=\"14.00\">gini = 0.0</text>\n",
       "<text text-anchor=\"middle\" x=\"617\" y=\"-1577.3\" font-family=\"Times,serif\" font-size=\"14.00\">samples = 3</text>\n",
       "<text text-anchor=\"middle\" x=\"617\" y=\"-1562.3\" font-family=\"Times,serif\" font-size=\"14.00\">value = [0, 3]</text>\n",
       "<text text-anchor=\"middle\" x=\"617\" y=\"-1547.3\" font-family=\"Times,serif\" font-size=\"14.00\">class = 生还</text>\n",
       "</g>\n",
       "<!-- 9&#45;&gt;10 -->\n",
       "<g id=\"edge10\" class=\"edge\"><title>9&#45;&gt;10</title>\n",
       "<path fill=\"none\" stroke=\"black\" d=\"M722.388,-1652.54C705.493,-1640.03 686.779,-1626.17 669.866,-1613.65\"/>\n",
       "<polygon fill=\"black\" stroke=\"black\" points=\"671.843,-1610.76 661.724,-1607.62 667.677,-1616.38 671.843,-1610.76\"/>\n",
       "</g>\n",
       "<!-- 11 -->\n",
       "<g id=\"node12\" class=\"node\"><title>11</title>\n",
       "<polygon fill=\"#fcefe6\" stroke=\"black\" points=\"786.5,-1615 681.5,-1615 681.5,-1532 786.5,-1532 786.5,-1615\"/>\n",
       "<text text-anchor=\"middle\" x=\"734\" y=\"-1599.8\" font-family=\"Times,serif\" font-size=\"14.00\">Age &lt;= 22.5</text>\n",
       "<text text-anchor=\"middle\" x=\"734\" y=\"-1584.8\" font-family=\"Times,serif\" font-size=\"14.00\">gini = 0.498</text>\n",
       "<text text-anchor=\"middle\" x=\"734\" y=\"-1569.8\" font-family=\"Times,serif\" font-size=\"14.00\">samples = 60</text>\n",
       "<text text-anchor=\"middle\" x=\"734\" y=\"-1554.8\" font-family=\"Times,serif\" font-size=\"14.00\">value = [32, 28]</text>\n",
       "<text text-anchor=\"middle\" x=\"734\" y=\"-1539.8\" font-family=\"Times,serif\" font-size=\"14.00\">class = 未生还</text>\n",
       "</g>\n",
       "<!-- 9&#45;&gt;11 -->\n",
       "<g id=\"edge11\" class=\"edge\"><title>9&#45;&gt;11</title>\n",
       "<path fill=\"none\" stroke=\"black\" d=\"M760.775,-1650.91C757.818,-1642.47 754.667,-1633.48 751.605,-1624.74\"/>\n",
       "<polygon fill=\"black\" stroke=\"black\" points=\"754.81,-1623.3 748.2,-1615.02 748.204,-1625.62 754.81,-1623.3\"/>\n",
       "</g>\n",
       "<!-- 12 -->\n",
       "<g id=\"node13\" class=\"node\"><title>12</title>\n",
       "<polygon fill=\"#e58139\" stroke=\"black\" points=\"525.5,-1488.5 424.5,-1488.5 424.5,-1420.5 525.5,-1420.5 525.5,-1488.5\"/>\n",
       "<text text-anchor=\"middle\" x=\"475\" y=\"-1473.3\" font-family=\"Times,serif\" font-size=\"14.00\">gini = 0.0</text>\n",
       "<text text-anchor=\"middle\" x=\"475\" y=\"-1458.3\" font-family=\"Times,serif\" font-size=\"14.00\">samples = 5</text>\n",
       "<text text-anchor=\"middle\" x=\"475\" y=\"-1443.3\" font-family=\"Times,serif\" font-size=\"14.00\">value = [5, 0]</text>\n",
       "<text text-anchor=\"middle\" x=\"475\" y=\"-1428.3\" font-family=\"Times,serif\" font-size=\"14.00\">class = 未生还</text>\n",
       "</g>\n",
       "<!-- 11&#45;&gt;12 -->\n",
       "<g id=\"edge12\" class=\"edge\"><title>11&#45;&gt;12</title>\n",
       "<path fill=\"none\" stroke=\"black\" d=\"M681.19,-1536.45C678.132,-1534.85 675.056,-1533.35 672,-1532 614.043,-1506.33 591.659,-1522.33 534,-1496 532.22,-1495.19 530.436,-1494.32 528.654,-1493.41\"/>\n",
       "<polygon fill=\"black\" stroke=\"black\" points=\"530.255,-1490.3 519.806,-1488.54 526.881,-1496.43 530.255,-1490.3\"/>\n",
       "</g>\n",
       "<!-- 13 -->\n",
       "<g id=\"node14\" class=\"node\"><title>13</title>\n",
       "<polygon fill=\"#f8fcfe\" stroke=\"black\" points=\"648.5,-1496 543.5,-1496 543.5,-1413 648.5,-1413 648.5,-1496\"/>\n",
       "<text text-anchor=\"middle\" x=\"596\" y=\"-1480.8\" font-family=\"Times,serif\" font-size=\"14.00\">Fare &lt;= 25.938</text>\n",
       "<text text-anchor=\"middle\" x=\"596\" y=\"-1465.8\" font-family=\"Times,serif\" font-size=\"14.00\">gini = 0.5</text>\n",
       "<text text-anchor=\"middle\" x=\"596\" y=\"-1450.8\" font-family=\"Times,serif\" font-size=\"14.00\">samples = 55</text>\n",
       "<text text-anchor=\"middle\" x=\"596\" y=\"-1435.8\" font-family=\"Times,serif\" font-size=\"14.00\">value = [27, 28]</text>\n",
       "<text text-anchor=\"middle\" x=\"596\" y=\"-1420.8\" font-family=\"Times,serif\" font-size=\"14.00\">class = 生还</text>\n",
       "</g>\n",
       "<!-- 11&#45;&gt;13 -->\n",
       "<g id=\"edge13\" class=\"edge\"><title>11&#45;&gt;13</title>\n",
       "<path fill=\"none\" stroke=\"black\" d=\"M686.122,-1531.91C674.989,-1522.47 663.046,-1512.34 651.612,-1502.65\"/>\n",
       "<polygon fill=\"black\" stroke=\"black\" points=\"653.685,-1499.82 643.794,-1496.02 649.158,-1505.16 653.685,-1499.82\"/>\n",
       "</g>\n",
       "<!-- 14 -->\n",
       "<g id=\"node15\" class=\"node\"><title>14</title>\n",
       "<polygon fill=\"#e58139\" stroke=\"black\" points=\"445.5,-1369.5 344.5,-1369.5 344.5,-1301.5 445.5,-1301.5 445.5,-1369.5\"/>\n",
       "<text text-anchor=\"middle\" x=\"395\" y=\"-1354.3\" font-family=\"Times,serif\" font-size=\"14.00\">gini = 0.0</text>\n",
       "<text text-anchor=\"middle\" x=\"395\" y=\"-1339.3\" font-family=\"Times,serif\" font-size=\"14.00\">samples = 3</text>\n",
       "<text text-anchor=\"middle\" x=\"395\" y=\"-1324.3\" font-family=\"Times,serif\" font-size=\"14.00\">value = [3, 0]</text>\n",
       "<text text-anchor=\"middle\" x=\"395\" y=\"-1309.3\" font-family=\"Times,serif\" font-size=\"14.00\">class = 未生还</text>\n",
       "</g>\n",
       "<!-- 13&#45;&gt;14 -->\n",
       "<g id=\"edge14\" class=\"edge\"><title>13&#45;&gt;14</title>\n",
       "<path fill=\"none\" stroke=\"black\" d=\"M543.234,-1418.26C540.138,-1416.43 537.045,-1414.67 534,-1413 499.797,-1394.28 487.986,-1396.11 454,-1377 452.714,-1376.28 451.42,-1375.53 450.122,-1374.77\"/>\n",
       "<polygon fill=\"black\" stroke=\"black\" points=\"451.897,-1371.76 441.533,-1369.55 448.261,-1377.74 451.897,-1371.76\"/>\n",
       "</g>\n",
       "<!-- 15 -->\n",
       "<g id=\"node16\" class=\"node\"><title>15</title>\n",
       "<polygon fill=\"#e3f1fb\" stroke=\"black\" points=\"568.5,-1377 463.5,-1377 463.5,-1294 568.5,-1294 568.5,-1377\"/>\n",
       "<text text-anchor=\"middle\" x=\"516\" y=\"-1361.8\" font-family=\"Times,serif\" font-size=\"14.00\">Fare &lt;= 27.135</text>\n",
       "<text text-anchor=\"middle\" x=\"516\" y=\"-1346.8\" font-family=\"Times,serif\" font-size=\"14.00\">gini = 0.497</text>\n",
       "<text text-anchor=\"middle\" x=\"516\" y=\"-1331.8\" font-family=\"Times,serif\" font-size=\"14.00\">samples = 52</text>\n",
       "<text text-anchor=\"middle\" x=\"516\" y=\"-1316.8\" font-family=\"Times,serif\" font-size=\"14.00\">value = [24, 28]</text>\n",
       "<text text-anchor=\"middle\" x=\"516\" y=\"-1301.8\" font-family=\"Times,serif\" font-size=\"14.00\">class = 生还</text>\n",
       "</g>\n",
       "<!-- 13&#45;&gt;15 -->\n",
       "<g id=\"edge15\" class=\"edge\"><title>13&#45;&gt;15</title>\n",
       "<path fill=\"none\" stroke=\"black\" d=\"M568.244,-1412.91C562.163,-1404.01 555.664,-1394.51 549.389,-1385.33\"/>\n",
       "<polygon fill=\"black\" stroke=\"black\" points=\"552.24,-1383.3 543.707,-1377.02 546.462,-1387.25 552.24,-1383.3\"/>\n",
       "</g>\n",
       "<!-- 16 -->\n",
       "<g id=\"node17\" class=\"node\"><title>16</title>\n",
       "<polygon fill=\"#52a9e8\" stroke=\"black\" points=\"240,-1258 148,-1258 148,-1175 240,-1175 240,-1258\"/>\n",
       "<text text-anchor=\"middle\" x=\"194\" y=\"-1242.8\" font-family=\"Times,serif\" font-size=\"14.00\">Age &lt;= 43.5</text>\n",
       "<text text-anchor=\"middle\" x=\"194\" y=\"-1227.8\" font-family=\"Times,serif\" font-size=\"14.00\">gini = 0.198</text>\n",
       "<text text-anchor=\"middle\" x=\"194\" y=\"-1212.8\" font-family=\"Times,serif\" font-size=\"14.00\">samples = 9</text>\n",
       "<text text-anchor=\"middle\" x=\"194\" y=\"-1197.8\" font-family=\"Times,serif\" font-size=\"14.00\">value = [1, 8]</text>\n",
       "<text text-anchor=\"middle\" x=\"194\" y=\"-1182.8\" font-family=\"Times,serif\" font-size=\"14.00\">class = 生还</text>\n",
       "</g>\n",
       "<!-- 15&#45;&gt;16 -->\n",
       "<g id=\"edge16\" class=\"edge\"><title>15&#45;&gt;16</title>\n",
       "<path fill=\"none\" stroke=\"black\" d=\"M463.49,-1298.75C460.329,-1297.05 457.152,-1295.45 454,-1294 386.774,-1262.97 303.956,-1241.19 250.115,-1229\"/>\n",
       "<polygon fill=\"black\" stroke=\"black\" points=\"250.6,-1225.52 240.078,-1226.77 249.078,-1232.36 250.6,-1225.52\"/>\n",
       "</g>\n",
       "<!-- 21 -->\n",
       "<g id=\"node22\" class=\"node\"><title>21</title>\n",
       "<polygon fill=\"#fcefe5\" stroke=\"black\" points=\"540.5,-1258 435.5,-1258 435.5,-1175 540.5,-1175 540.5,-1258\"/>\n",
       "<text text-anchor=\"middle\" x=\"488\" y=\"-1242.8\" font-family=\"Times,serif\" font-size=\"14.00\">Fare &lt;= 29.85</text>\n",
       "<text text-anchor=\"middle\" x=\"488\" y=\"-1227.8\" font-family=\"Times,serif\" font-size=\"14.00\">gini = 0.498</text>\n",
       "<text text-anchor=\"middle\" x=\"488\" y=\"-1212.8\" font-family=\"Times,serif\" font-size=\"14.00\">samples = 43</text>\n",
       "<text text-anchor=\"middle\" x=\"488\" y=\"-1197.8\" font-family=\"Times,serif\" font-size=\"14.00\">value = [23, 20]</text>\n",
       "<text text-anchor=\"middle\" x=\"488\" y=\"-1182.8\" font-family=\"Times,serif\" font-size=\"14.00\">class = 未生还</text>\n",
       "</g>\n",
       "<!-- 15&#45;&gt;21 -->\n",
       "<g id=\"edge21\" class=\"edge\"><title>15&#45;&gt;21</title>\n",
       "<path fill=\"none\" stroke=\"black\" d=\"M506.286,-1293.91C504.287,-1285.56 502.161,-1276.67 500.09,-1268.02\"/>\n",
       "<polygon fill=\"black\" stroke=\"black\" points=\"503.429,-1266.93 497.697,-1258.02 496.621,-1268.56 503.429,-1266.93\"/>\n",
       "</g>\n",
       "<!-- 17 -->\n",
       "<g id=\"node18\" class=\"node\"><title>17</title>\n",
       "<polygon fill=\"#399de5\" stroke=\"black\" points=\"130,-1131.5 38,-1131.5 38,-1063.5 130,-1063.5 130,-1131.5\"/>\n",
       "<text text-anchor=\"middle\" x=\"84\" y=\"-1116.3\" font-family=\"Times,serif\" font-size=\"14.00\">gini = 0.0</text>\n",
       "<text text-anchor=\"middle\" x=\"84\" y=\"-1101.3\" font-family=\"Times,serif\" font-size=\"14.00\">samples = 5</text>\n",
       "<text text-anchor=\"middle\" x=\"84\" y=\"-1086.3\" font-family=\"Times,serif\" font-size=\"14.00\">value = [0, 5]</text>\n",
       "<text text-anchor=\"middle\" x=\"84\" y=\"-1071.3\" font-family=\"Times,serif\" font-size=\"14.00\">class = 生还</text>\n",
       "</g>\n",
       "<!-- 16&#45;&gt;17 -->\n",
       "<g id=\"edge17\" class=\"edge\"><title>16&#45;&gt;17</title>\n",
       "<path fill=\"none\" stroke=\"black\" d=\"M155.836,-1174.91C144.943,-1163.32 133.075,-1150.7 122.181,-1139.11\"/>\n",
       "<polygon fill=\"black\" stroke=\"black\" points=\"124.582,-1136.56 115.183,-1131.67 119.482,-1141.35 124.582,-1136.56\"/>\n",
       "</g>\n",
       "<!-- 18 -->\n",
       "<g id=\"node19\" class=\"node\"><title>18</title>\n",
       "<polygon fill=\"#7bbeee\" stroke=\"black\" points=\"240,-1139 148,-1139 148,-1056 240,-1056 240,-1139\"/>\n",
       "<text text-anchor=\"middle\" x=\"194\" y=\"-1123.8\" font-family=\"Times,serif\" font-size=\"14.00\">Age &lt;= 46.5</text>\n",
       "<text text-anchor=\"middle\" x=\"194\" y=\"-1108.8\" font-family=\"Times,serif\" font-size=\"14.00\">gini = 0.375</text>\n",
       "<text text-anchor=\"middle\" x=\"194\" y=\"-1093.8\" font-family=\"Times,serif\" font-size=\"14.00\">samples = 4</text>\n",
       "<text text-anchor=\"middle\" x=\"194\" y=\"-1078.8\" font-family=\"Times,serif\" font-size=\"14.00\">value = [1, 3]</text>\n",
       "<text text-anchor=\"middle\" x=\"194\" y=\"-1063.8\" font-family=\"Times,serif\" font-size=\"14.00\">class = 生还</text>\n",
       "</g>\n",
       "<!-- 16&#45;&gt;18 -->\n",
       "<g id=\"edge18\" class=\"edge\"><title>16&#45;&gt;18</title>\n",
       "<path fill=\"none\" stroke=\"black\" d=\"M194,-1174.91C194,-1166.65 194,-1157.86 194,-1149.3\"/>\n",
       "<polygon fill=\"black\" stroke=\"black\" points=\"197.5,-1149.02 194,-1139.02 190.5,-1149.02 197.5,-1149.02\"/>\n",
       "</g>\n",
       "<!-- 19 -->\n",
       "<g id=\"node20\" class=\"node\"><title>19</title>\n",
       "<polygon fill=\"#ffffff\" stroke=\"black\" points=\"129.5,-1012.5 28.5,-1012.5 28.5,-944.5 129.5,-944.5 129.5,-1012.5\"/>\n",
       "<text text-anchor=\"middle\" x=\"79\" y=\"-997.3\" font-family=\"Times,serif\" font-size=\"14.00\">gini = 0.5</text>\n",
       "<text text-anchor=\"middle\" x=\"79\" y=\"-982.3\" font-family=\"Times,serif\" font-size=\"14.00\">samples = 2</text>\n",
       "<text text-anchor=\"middle\" x=\"79\" y=\"-967.3\" font-family=\"Times,serif\" font-size=\"14.00\">value = [1, 1]</text>\n",
       "<text text-anchor=\"middle\" x=\"79\" y=\"-952.3\" font-family=\"Times,serif\" font-size=\"14.00\">class = 未生还</text>\n",
       "</g>\n",
       "<!-- 18&#45;&gt;19 -->\n",
       "<g id=\"edge19\" class=\"edge\"><title>18&#45;&gt;19</title>\n",
       "<path fill=\"none\" stroke=\"black\" d=\"M154.101,-1055.91C142.713,-1044.32 130.306,-1031.7 118.916,-1020.11\"/>\n",
       "<polygon fill=\"black\" stroke=\"black\" points=\"121.106,-1017.35 111.6,-1012.67 116.114,-1022.25 121.106,-1017.35\"/>\n",
       "</g>\n",
       "<!-- 20 -->\n",
       "<g id=\"node21\" class=\"node\"><title>20</title>\n",
       "<polygon fill=\"#399de5\" stroke=\"black\" points=\"240,-1012.5 148,-1012.5 148,-944.5 240,-944.5 240,-1012.5\"/>\n",
       "<text text-anchor=\"middle\" x=\"194\" y=\"-997.3\" font-family=\"Times,serif\" font-size=\"14.00\">gini = 0.0</text>\n",
       "<text text-anchor=\"middle\" x=\"194\" y=\"-982.3\" font-family=\"Times,serif\" font-size=\"14.00\">samples = 2</text>\n",
       "<text text-anchor=\"middle\" x=\"194\" y=\"-967.3\" font-family=\"Times,serif\" font-size=\"14.00\">value = [0, 2]</text>\n",
       "<text text-anchor=\"middle\" x=\"194\" y=\"-952.3\" font-family=\"Times,serif\" font-size=\"14.00\">class = 生还</text>\n",
       "</g>\n",
       "<!-- 18&#45;&gt;20 -->\n",
       "<g id=\"edge20\" class=\"edge\"><title>18&#45;&gt;20</title>\n",
       "<path fill=\"none\" stroke=\"black\" d=\"M194,-1055.91C194,-1045.2 194,-1033.62 194,-1022.78\"/>\n",
       "<polygon fill=\"black\" stroke=\"black\" points=\"197.5,-1022.67 194,-1012.67 190.5,-1022.67 197.5,-1022.67\"/>\n",
       "</g>\n",
       "<!-- 22 -->\n",
       "<g id=\"node23\" class=\"node\"><title>22</title>\n",
       "<polygon fill=\"#e58139\" stroke=\"black\" points=\"417.5,-1131.5 316.5,-1131.5 316.5,-1063.5 417.5,-1063.5 417.5,-1131.5\"/>\n",
       "<text text-anchor=\"middle\" x=\"367\" y=\"-1116.3\" font-family=\"Times,serif\" font-size=\"14.00\">gini = 0.0</text>\n",
       "<text text-anchor=\"middle\" x=\"367\" y=\"-1101.3\" font-family=\"Times,serif\" font-size=\"14.00\">samples = 3</text>\n",
       "<text text-anchor=\"middle\" x=\"367\" y=\"-1086.3\" font-family=\"Times,serif\" font-size=\"14.00\">value = [3, 0]</text>\n",
       "<text text-anchor=\"middle\" x=\"367\" y=\"-1071.3\" font-family=\"Times,serif\" font-size=\"14.00\">class = 未生还</text>\n",
       "</g>\n",
       "<!-- 21&#45;&gt;22 -->\n",
       "<g id=\"edge22\" class=\"edge\"><title>21&#45;&gt;22</title>\n",
       "<path fill=\"none\" stroke=\"black\" d=\"M446.02,-1174.91C433.923,-1163.21 420.734,-1150.46 408.657,-1138.78\"/>\n",
       "<polygon fill=\"black\" stroke=\"black\" points=\"410.923,-1136.1 401.301,-1131.67 406.057,-1141.13 410.923,-1136.1\"/>\n",
       "</g>\n",
       "<!-- 23 -->\n",
       "<g id=\"node24\" class=\"node\"><title>23</title>\n",
       "<polygon fill=\"#ffffff\" stroke=\"black\" points=\"540.5,-1139 435.5,-1139 435.5,-1056 540.5,-1056 540.5,-1139\"/>\n",
       "<text text-anchor=\"middle\" x=\"488\" y=\"-1123.8\" font-family=\"Times,serif\" font-size=\"14.00\">Fare &lt;= 37.0</text>\n",
       "<text text-anchor=\"middle\" x=\"488\" y=\"-1108.8\" font-family=\"Times,serif\" font-size=\"14.00\">gini = 0.5</text>\n",
       "<text text-anchor=\"middle\" x=\"488\" y=\"-1093.8\" font-family=\"Times,serif\" font-size=\"14.00\">samples = 40</text>\n",
       "<text text-anchor=\"middle\" x=\"488\" y=\"-1078.8\" font-family=\"Times,serif\" font-size=\"14.00\">value = [20, 20]</text>\n",
       "<text text-anchor=\"middle\" x=\"488\" y=\"-1063.8\" font-family=\"Times,serif\" font-size=\"14.00\">class = 未生还</text>\n",
       "</g>\n",
       "<!-- 21&#45;&gt;23 -->\n",
       "<g id=\"edge23\" class=\"edge\"><title>21&#45;&gt;23</title>\n",
       "<path fill=\"none\" stroke=\"black\" d=\"M488,-1174.91C488,-1166.65 488,-1157.86 488,-1149.3\"/>\n",
       "<polygon fill=\"black\" stroke=\"black\" points=\"491.5,-1149.02 488,-1139.02 484.5,-1149.02 491.5,-1149.02\"/>\n",
       "</g>\n",
       "<!-- 24 -->\n",
       "<g id=\"node25\" class=\"node\"><title>24</title>\n",
       "<polygon fill=\"#61b1ea\" stroke=\"black\" points=\"353.5,-1020 258.5,-1020 258.5,-937 353.5,-937 353.5,-1020\"/>\n",
       "<text text-anchor=\"middle\" x=\"306\" y=\"-1004.8\" font-family=\"Times,serif\" font-size=\"14.00\">Fare &lt;= 30.25</text>\n",
       "<text text-anchor=\"middle\" x=\"306\" y=\"-989.8\" font-family=\"Times,serif\" font-size=\"14.00\">gini = 0.278</text>\n",
       "<text text-anchor=\"middle\" x=\"306\" y=\"-974.8\" font-family=\"Times,serif\" font-size=\"14.00\">samples = 6</text>\n",
       "<text text-anchor=\"middle\" x=\"306\" y=\"-959.8\" font-family=\"Times,serif\" font-size=\"14.00\">value = [1, 5]</text>\n",
       "<text text-anchor=\"middle\" x=\"306\" y=\"-944.8\" font-family=\"Times,serif\" font-size=\"14.00\">class = 生还</text>\n",
       "</g>\n",
       "<!-- 23&#45;&gt;24 -->\n",
       "<g id=\"edge24\" class=\"edge\"><title>23&#45;&gt;24</title>\n",
       "<path fill=\"none\" stroke=\"black\" d=\"M435.261,-1061.99C432.13,-1059.96 429.025,-1057.95 426,-1056 405.202,-1042.58 382.303,-1027.95 362.134,-1015.1\"/>\n",
       "<polygon fill=\"black\" stroke=\"black\" points=\"363.987,-1012.14 353.671,-1009.72 360.229,-1018.04 363.987,-1012.14\"/>\n",
       "</g>\n",
       "<!-- 29 -->\n",
       "<g id=\"node30\" class=\"node\"><title>29</title>\n",
       "<polygon fill=\"#fae4d5\" stroke=\"black\" points=\"540.5,-1020 435.5,-1020 435.5,-937 540.5,-937 540.5,-1020\"/>\n",
       "<text text-anchor=\"middle\" x=\"488\" y=\"-1004.8\" font-family=\"Times,serif\" font-size=\"14.00\">SibSp &lt;= 0.5</text>\n",
       "<text text-anchor=\"middle\" x=\"488\" y=\"-989.8\" font-family=\"Times,serif\" font-size=\"14.00\">gini = 0.493</text>\n",
       "<text text-anchor=\"middle\" x=\"488\" y=\"-974.8\" font-family=\"Times,serif\" font-size=\"14.00\">samples = 34</text>\n",
       "<text text-anchor=\"middle\" x=\"488\" y=\"-959.8\" font-family=\"Times,serif\" font-size=\"14.00\">value = [19, 15]</text>\n",
       "<text text-anchor=\"middle\" x=\"488\" y=\"-944.8\" font-family=\"Times,serif\" font-size=\"14.00\">class = 未生还</text>\n",
       "</g>\n",
       "<!-- 23&#45;&gt;29 -->\n",
       "<g id=\"edge29\" class=\"edge\"><title>23&#45;&gt;29</title>\n",
       "<path fill=\"none\" stroke=\"black\" d=\"M488,-1055.91C488,-1047.65 488,-1038.86 488,-1030.3\"/>\n",
       "<polygon fill=\"black\" stroke=\"black\" points=\"491.5,-1030.02 488,-1020.02 484.5,-1030.02 491.5,-1030.02\"/>\n",
       "</g>\n",
       "<!-- 25 -->\n",
       "<g id=\"node26\" class=\"node\"><title>25</title>\n",
       "<polygon fill=\"#ffffff\" stroke=\"black\" points=\"211.5,-901 110.5,-901 110.5,-818 211.5,-818 211.5,-901\"/>\n",
       "<text text-anchor=\"middle\" x=\"161\" y=\"-885.8\" font-family=\"Times,serif\" font-size=\"14.00\">Age &lt;= 27.5</text>\n",
       "<text text-anchor=\"middle\" x=\"161\" y=\"-870.8\" font-family=\"Times,serif\" font-size=\"14.00\">gini = 0.5</text>\n",
       "<text text-anchor=\"middle\" x=\"161\" y=\"-855.8\" font-family=\"Times,serif\" font-size=\"14.00\">samples = 2</text>\n",
       "<text text-anchor=\"middle\" x=\"161\" y=\"-840.8\" font-family=\"Times,serif\" font-size=\"14.00\">value = [1, 1]</text>\n",
       "<text text-anchor=\"middle\" x=\"161\" y=\"-825.8\" font-family=\"Times,serif\" font-size=\"14.00\">class = 未生还</text>\n",
       "</g>\n",
       "<!-- 24&#45;&gt;25 -->\n",
       "<g id=\"edge25\" class=\"edge\"><title>24&#45;&gt;25</title>\n",
       "<path fill=\"none\" stroke=\"black\" d=\"M258.12,-938.866C245.687,-928.833 232.158,-917.917 219.255,-907.506\"/>\n",
       "<polygon fill=\"black\" stroke=\"black\" points=\"221.298,-904.657 211.318,-901.102 216.903,-910.105 221.298,-904.657\"/>\n",
       "</g>\n",
       "<!-- 28 -->\n",
       "<g id=\"node29\" class=\"node\"><title>28</title>\n",
       "<polygon fill=\"#399de5\" stroke=\"black\" points=\"322,-893.5 230,-893.5 230,-825.5 322,-825.5 322,-893.5\"/>\n",
       "<text text-anchor=\"middle\" x=\"276\" y=\"-878.3\" font-family=\"Times,serif\" font-size=\"14.00\">gini = 0.0</text>\n",
       "<text text-anchor=\"middle\" x=\"276\" y=\"-863.3\" font-family=\"Times,serif\" font-size=\"14.00\">samples = 4</text>\n",
       "<text text-anchor=\"middle\" x=\"276\" y=\"-848.3\" font-family=\"Times,serif\" font-size=\"14.00\">value = [0, 4]</text>\n",
       "<text text-anchor=\"middle\" x=\"276\" y=\"-833.3\" font-family=\"Times,serif\" font-size=\"14.00\">class = 生还</text>\n",
       "</g>\n",
       "<!-- 24&#45;&gt;28 -->\n",
       "<g id=\"edge28\" class=\"edge\"><title>24&#45;&gt;28</title>\n",
       "<path fill=\"none\" stroke=\"black\" d=\"M295.592,-936.907C292.819,-926.094 289.814,-914.376 287.011,-903.441\"/>\n",
       "<polygon fill=\"black\" stroke=\"black\" points=\"290.378,-902.484 284.504,-893.667 283.598,-904.223 290.378,-902.484\"/>\n",
       "</g>\n",
       "<!-- 26 -->\n",
       "<g id=\"node27\" class=\"node\"><title>26</title>\n",
       "<polygon fill=\"#399de5\" stroke=\"black\" points=\"92,-774.5 0,-774.5 0,-706.5 92,-706.5 92,-774.5\"/>\n",
       "<text text-anchor=\"middle\" x=\"46\" y=\"-759.3\" font-family=\"Times,serif\" font-size=\"14.00\">gini = 0.0</text>\n",
       "<text text-anchor=\"middle\" x=\"46\" y=\"-744.3\" font-family=\"Times,serif\" font-size=\"14.00\">samples = 1</text>\n",
       "<text text-anchor=\"middle\" x=\"46\" y=\"-729.3\" font-family=\"Times,serif\" font-size=\"14.00\">value = [0, 1]</text>\n",
       "<text text-anchor=\"middle\" x=\"46\" y=\"-714.3\" font-family=\"Times,serif\" font-size=\"14.00\">class = 生还</text>\n",
       "</g>\n",
       "<!-- 25&#45;&gt;26 -->\n",
       "<g id=\"edge26\" class=\"edge\"><title>25&#45;&gt;26</title>\n",
       "<path fill=\"none\" stroke=\"black\" d=\"M121.101,-817.907C109.713,-806.321 97.3055,-793.698 85.9163,-782.111\"/>\n",
       "<polygon fill=\"black\" stroke=\"black\" points=\"88.106,-779.345 78.6,-774.667 83.1137,-784.252 88.106,-779.345\"/>\n",
       "</g>\n",
       "<!-- 27 -->\n",
       "<g id=\"node28\" class=\"node\"><title>27</title>\n",
       "<polygon fill=\"#e58139\" stroke=\"black\" points=\"211.5,-774.5 110.5,-774.5 110.5,-706.5 211.5,-706.5 211.5,-774.5\"/>\n",
       "<text text-anchor=\"middle\" x=\"161\" y=\"-759.3\" font-family=\"Times,serif\" font-size=\"14.00\">gini = 0.0</text>\n",
       "<text text-anchor=\"middle\" x=\"161\" y=\"-744.3\" font-family=\"Times,serif\" font-size=\"14.00\">samples = 1</text>\n",
       "<text text-anchor=\"middle\" x=\"161\" y=\"-729.3\" font-family=\"Times,serif\" font-size=\"14.00\">value = [1, 0]</text>\n",
       "<text text-anchor=\"middle\" x=\"161\" y=\"-714.3\" font-family=\"Times,serif\" font-size=\"14.00\">class = 未生还</text>\n",
       "</g>\n",
       "<!-- 25&#45;&gt;27 -->\n",
       "<g id=\"edge27\" class=\"edge\"><title>25&#45;&gt;27</title>\n",
       "<path fill=\"none\" stroke=\"black\" d=\"M161,-817.907C161,-807.204 161,-795.615 161,-784.776\"/>\n",
       "<polygon fill=\"black\" stroke=\"black\" points=\"164.5,-784.667 161,-774.667 157.5,-784.667 164.5,-784.667\"/>\n",
       "</g>\n",
       "<!-- 30 -->\n",
       "<g id=\"node31\" class=\"node\"><title>30</title>\n",
       "<polygon fill=\"#eda774\" stroke=\"black\" points=\"449.5,-901 340.5,-901 340.5,-818 449.5,-818 449.5,-901\"/>\n",
       "<text text-anchor=\"middle\" x=\"395\" y=\"-885.8\" font-family=\"Times,serif\" font-size=\"14.00\">Fare &lt;= 379.925</text>\n",
       "<text text-anchor=\"middle\" x=\"395\" y=\"-870.8\" font-family=\"Times,serif\" font-size=\"14.00\">gini = 0.355</text>\n",
       "<text text-anchor=\"middle\" x=\"395\" y=\"-855.8\" font-family=\"Times,serif\" font-size=\"14.00\">samples = 13</text>\n",
       "<text text-anchor=\"middle\" x=\"395\" y=\"-840.8\" font-family=\"Times,serif\" font-size=\"14.00\">value = [10, 3]</text>\n",
       "<text text-anchor=\"middle\" x=\"395\" y=\"-825.8\" font-family=\"Times,serif\" font-size=\"14.00\">class = 未生还</text>\n",
       "</g>\n",
       "<!-- 29&#45;&gt;30 -->\n",
       "<g id=\"edge30\" class=\"edge\"><title>29&#45;&gt;30</title>\n",
       "<path fill=\"none\" stroke=\"black\" d=\"M455.734,-936.907C448.593,-927.923 440.956,-918.315 433.591,-909.05\"/>\n",
       "<polygon fill=\"black\" stroke=\"black\" points=\"436.171,-906.671 427.209,-901.021 430.691,-911.027 436.171,-906.671\"/>\n",
       "</g>\n",
       "<!-- 35 -->\n",
       "<g id=\"node36\" class=\"node\"><title>35</title>\n",
       "<polygon fill=\"#cee6f8\" stroke=\"black\" points=\"566,-901 468,-901 468,-818 566,-818 566,-901\"/>\n",
       "<text text-anchor=\"middle\" x=\"517\" y=\"-885.8\" font-family=\"Times,serif\" font-size=\"14.00\">Age &lt;= 29.0</text>\n",
       "<text text-anchor=\"middle\" x=\"517\" y=\"-870.8\" font-family=\"Times,serif\" font-size=\"14.00\">gini = 0.49</text>\n",
       "<text text-anchor=\"middle\" x=\"517\" y=\"-855.8\" font-family=\"Times,serif\" font-size=\"14.00\">samples = 21</text>\n",
       "<text text-anchor=\"middle\" x=\"517\" y=\"-840.8\" font-family=\"Times,serif\" font-size=\"14.00\">value = [9, 12]</text>\n",
       "<text text-anchor=\"middle\" x=\"517\" y=\"-825.8\" font-family=\"Times,serif\" font-size=\"14.00\">class = 生还</text>\n",
       "</g>\n",
       "<!-- 29&#45;&gt;35 -->\n",
       "<g id=\"edge35\" class=\"edge\"><title>29&#45;&gt;35</title>\n",
       "<path fill=\"none\" stroke=\"black\" d=\"M498.061,-936.907C500.153,-928.468 502.382,-919.477 504.548,-910.738\"/>\n",
       "<polygon fill=\"black\" stroke=\"black\" points=\"507.948,-911.569 506.956,-901.021 501.153,-909.885 507.948,-911.569\"/>\n",
       "</g>\n",
       "<!-- 31 -->\n",
       "<g id=\"node32\" class=\"node\"><title>31</title>\n",
       "<polygon fill=\"#e88e4d\" stroke=\"black\" points=\"330.5,-782 229.5,-782 229.5,-699 330.5,-699 330.5,-782\"/>\n",
       "<text text-anchor=\"middle\" x=\"280\" y=\"-766.8\" font-family=\"Times,serif\" font-size=\"14.00\">Age &lt;= 23.5</text>\n",
       "<text text-anchor=\"middle\" x=\"280\" y=\"-751.8\" font-family=\"Times,serif\" font-size=\"14.00\">gini = 0.165</text>\n",
       "<text text-anchor=\"middle\" x=\"280\" y=\"-736.8\" font-family=\"Times,serif\" font-size=\"14.00\">samples = 11</text>\n",
       "<text text-anchor=\"middle\" x=\"280\" y=\"-721.8\" font-family=\"Times,serif\" font-size=\"14.00\">value = [10, 1]</text>\n",
       "<text text-anchor=\"middle\" x=\"280\" y=\"-706.8\" font-family=\"Times,serif\" font-size=\"14.00\">class = 未生还</text>\n",
       "</g>\n",
       "<!-- 30&#45;&gt;31 -->\n",
       "<g id=\"edge31\" class=\"edge\"><title>30&#45;&gt;31</title>\n",
       "<path fill=\"none\" stroke=\"black\" d=\"M355.101,-817.907C346.003,-808.651 336.254,-798.732 326.893,-789.209\"/>\n",
       "<polygon fill=\"black\" stroke=\"black\" points=\"329.334,-786.699 319.828,-782.021 324.342,-791.606 329.334,-786.699\"/>\n",
       "</g>\n",
       "<!-- 34 -->\n",
       "<g id=\"node35\" class=\"node\"><title>34</title>\n",
       "<polygon fill=\"#399de5\" stroke=\"black\" points=\"441,-774.5 349,-774.5 349,-706.5 441,-706.5 441,-774.5\"/>\n",
       "<text text-anchor=\"middle\" x=\"395\" y=\"-759.3\" font-family=\"Times,serif\" font-size=\"14.00\">gini = 0.0</text>\n",
       "<text text-anchor=\"middle\" x=\"395\" y=\"-744.3\" font-family=\"Times,serif\" font-size=\"14.00\">samples = 2</text>\n",
       "<text text-anchor=\"middle\" x=\"395\" y=\"-729.3\" font-family=\"Times,serif\" font-size=\"14.00\">value = [0, 2]</text>\n",
       "<text text-anchor=\"middle\" x=\"395\" y=\"-714.3\" font-family=\"Times,serif\" font-size=\"14.00\">class = 生还</text>\n",
       "</g>\n",
       "<!-- 30&#45;&gt;34 -->\n",
       "<g id=\"edge34\" class=\"edge\"><title>30&#45;&gt;34</title>\n",
       "<path fill=\"none\" stroke=\"black\" d=\"M395,-817.907C395,-807.204 395,-795.615 395,-784.776\"/>\n",
       "<polygon fill=\"black\" stroke=\"black\" points=\"398.5,-784.667 395,-774.667 391.5,-784.667 398.5,-784.667\"/>\n",
       "</g>\n",
       "<!-- 32 -->\n",
       "<g id=\"node33\" class=\"node\"><title>32</title>\n",
       "<polygon fill=\"#399de5\" stroke=\"black\" points=\"296,-655.5 204,-655.5 204,-587.5 296,-587.5 296,-655.5\"/>\n",
       "<text text-anchor=\"middle\" x=\"250\" y=\"-640.3\" font-family=\"Times,serif\" font-size=\"14.00\">gini = 0.0</text>\n",
       "<text text-anchor=\"middle\" x=\"250\" y=\"-625.3\" font-family=\"Times,serif\" font-size=\"14.00\">samples = 1</text>\n",
       "<text text-anchor=\"middle\" x=\"250\" y=\"-610.3\" font-family=\"Times,serif\" font-size=\"14.00\">value = [0, 1]</text>\n",
       "<text text-anchor=\"middle\" x=\"250\" y=\"-595.3\" font-family=\"Times,serif\" font-size=\"14.00\">class = 生还</text>\n",
       "</g>\n",
       "<!-- 31&#45;&gt;32 -->\n",
       "<g id=\"edge32\" class=\"edge\"><title>31&#45;&gt;32</title>\n",
       "<path fill=\"none\" stroke=\"black\" d=\"M269.592,-698.907C266.819,-688.094 263.814,-676.376 261.011,-665.441\"/>\n",
       "<polygon fill=\"black\" stroke=\"black\" points=\"264.378,-664.484 258.504,-655.667 257.598,-666.223 264.378,-664.484\"/>\n",
       "</g>\n",
       "<!-- 33 -->\n",
       "<g id=\"node34\" class=\"node\"><title>33</title>\n",
       "<polygon fill=\"#e58139\" stroke=\"black\" points=\"415.5,-655.5 314.5,-655.5 314.5,-587.5 415.5,-587.5 415.5,-655.5\"/>\n",
       "<text text-anchor=\"middle\" x=\"365\" y=\"-640.3\" font-family=\"Times,serif\" font-size=\"14.00\">gini = 0.0</text>\n",
       "<text text-anchor=\"middle\" x=\"365\" y=\"-625.3\" font-family=\"Times,serif\" font-size=\"14.00\">samples = 10</text>\n",
       "<text text-anchor=\"middle\" x=\"365\" y=\"-610.3\" font-family=\"Times,serif\" font-size=\"14.00\">value = [10, 0]</text>\n",
       "<text text-anchor=\"middle\" x=\"365\" y=\"-595.3\" font-family=\"Times,serif\" font-size=\"14.00\">class = 未生还</text>\n",
       "</g>\n",
       "<!-- 31&#45;&gt;33 -->\n",
       "<g id=\"edge33\" class=\"edge\"><title>31&#45;&gt;33</title>\n",
       "<path fill=\"none\" stroke=\"black\" d=\"M309.49,-698.907C317.747,-687.542 326.729,-675.178 335.015,-663.774\"/>\n",
       "<polygon fill=\"black\" stroke=\"black\" points=\"337.858,-665.814 340.904,-655.667 332.195,-661.7 337.858,-665.814\"/>\n",
       "</g>\n",
       "<!-- 36 -->\n",
       "<g id=\"node37\" class=\"node\"><title>36</title>\n",
       "<polygon fill=\"#399de5\" stroke=\"black\" points=\"551,-774.5 459,-774.5 459,-706.5 551,-706.5 551,-774.5\"/>\n",
       "<text text-anchor=\"middle\" x=\"505\" y=\"-759.3\" font-family=\"Times,serif\" font-size=\"14.00\">gini = 0.0</text>\n",
       "<text text-anchor=\"middle\" x=\"505\" y=\"-744.3\" font-family=\"Times,serif\" font-size=\"14.00\">samples = 3</text>\n",
       "<text text-anchor=\"middle\" x=\"505\" y=\"-729.3\" font-family=\"Times,serif\" font-size=\"14.00\">value = [0, 3]</text>\n",
       "<text text-anchor=\"middle\" x=\"505\" y=\"-714.3\" font-family=\"Times,serif\" font-size=\"14.00\">class = 生还</text>\n",
       "</g>\n",
       "<!-- 35&#45;&gt;36 -->\n",
       "<g id=\"edge36\" class=\"edge\"><title>35&#45;&gt;36</title>\n",
       "<path fill=\"none\" stroke=\"black\" d=\"M512.837,-817.907C511.739,-807.204 510.55,-795.615 509.439,-784.776\"/>\n",
       "<polygon fill=\"black\" stroke=\"black\" points=\"512.904,-784.258 508.402,-774.667 505.94,-784.972 512.904,-784.258\"/>\n",
       "</g>\n",
       "<!-- 37 -->\n",
       "<g id=\"node38\" class=\"node\"><title>37</title>\n",
       "<polygon fill=\"#ffffff\" stroke=\"black\" points=\"678.5,-782 569.5,-782 569.5,-699 678.5,-699 678.5,-782\"/>\n",
       "<text text-anchor=\"middle\" x=\"624\" y=\"-766.8\" font-family=\"Times,serif\" font-size=\"14.00\">Fare &lt;= 115.442</text>\n",
       "<text text-anchor=\"middle\" x=\"624\" y=\"-751.8\" font-family=\"Times,serif\" font-size=\"14.00\">gini = 0.5</text>\n",
       "<text text-anchor=\"middle\" x=\"624\" y=\"-736.8\" font-family=\"Times,serif\" font-size=\"14.00\">samples = 18</text>\n",
       "<text text-anchor=\"middle\" x=\"624\" y=\"-721.8\" font-family=\"Times,serif\" font-size=\"14.00\">value = [9, 9]</text>\n",
       "<text text-anchor=\"middle\" x=\"624\" y=\"-706.8\" font-family=\"Times,serif\" font-size=\"14.00\">class = 未生还</text>\n",
       "</g>\n",
       "<!-- 35&#45;&gt;37 -->\n",
       "<g id=\"edge37\" class=\"edge\"><title>35&#45;&gt;37</title>\n",
       "<path fill=\"none\" stroke=\"black\" d=\"M554.123,-817.907C562.506,-808.742 571.482,-798.927 580.113,-789.489\"/>\n",
       "<polygon fill=\"black\" stroke=\"black\" points=\"582.777,-791.762 586.943,-782.021 577.611,-787.038 582.777,-791.762\"/>\n",
       "</g>\n",
       "<!-- 38 -->\n",
       "<g id=\"node39\" class=\"node\"><title>38</title>\n",
       "<polygon fill=\"#f9e3d3\" stroke=\"black\" points=\"589.5,-663 488.5,-663 488.5,-580 589.5,-580 589.5,-663\"/>\n",
       "<text text-anchor=\"middle\" x=\"539\" y=\"-647.8\" font-family=\"Times,serif\" font-size=\"14.00\">Fare &lt;= 77.79</text>\n",
       "<text text-anchor=\"middle\" x=\"539\" y=\"-632.8\" font-family=\"Times,serif\" font-size=\"14.00\">gini = 0.492</text>\n",
       "<text text-anchor=\"middle\" x=\"539\" y=\"-617.8\" font-family=\"Times,serif\" font-size=\"14.00\">samples = 16</text>\n",
       "<text text-anchor=\"middle\" x=\"539\" y=\"-602.8\" font-family=\"Times,serif\" font-size=\"14.00\">value = [9, 7]</text>\n",
       "<text text-anchor=\"middle\" x=\"539\" y=\"-587.8\" font-family=\"Times,serif\" font-size=\"14.00\">class = 未生还</text>\n",
       "</g>\n",
       "<!-- 37&#45;&gt;38 -->\n",
       "<g id=\"edge38\" class=\"edge\"><title>37&#45;&gt;38</title>\n",
       "<path fill=\"none\" stroke=\"black\" d=\"M594.51,-698.907C588.049,-690.014 581.143,-680.509 574.476,-671.331\"/>\n",
       "<polygon fill=\"black\" stroke=\"black\" points=\"577.147,-669.054 568.438,-663.021 571.484,-673.168 577.147,-669.054\"/>\n",
       "</g>\n",
       "<!-- 55 -->\n",
       "<g id=\"node56\" class=\"node\"><title>55</title>\n",
       "<polygon fill=\"#399de5\" stroke=\"black\" points=\"700,-655.5 608,-655.5 608,-587.5 700,-587.5 700,-655.5\"/>\n",
       "<text text-anchor=\"middle\" x=\"654\" y=\"-640.3\" font-family=\"Times,serif\" font-size=\"14.00\">gini = 0.0</text>\n",
       "<text text-anchor=\"middle\" x=\"654\" y=\"-625.3\" font-family=\"Times,serif\" font-size=\"14.00\">samples = 2</text>\n",
       "<text text-anchor=\"middle\" x=\"654\" y=\"-610.3\" font-family=\"Times,serif\" font-size=\"14.00\">value = [0, 2]</text>\n",
       "<text text-anchor=\"middle\" x=\"654\" y=\"-595.3\" font-family=\"Times,serif\" font-size=\"14.00\">class = 生还</text>\n",
       "</g>\n",
       "<!-- 37&#45;&gt;55 -->\n",
       "<g id=\"edge55\" class=\"edge\"><title>37&#45;&gt;55</title>\n",
       "<path fill=\"none\" stroke=\"black\" d=\"M634.408,-698.907C637.181,-688.094 640.186,-676.376 642.989,-665.441\"/>\n",
       "<polygon fill=\"black\" stroke=\"black\" points=\"646.402,-666.223 645.496,-655.667 639.622,-664.484 646.402,-666.223\"/>\n",
       "</g>\n",
       "<!-- 39 -->\n",
       "<g id=\"node40\" class=\"node\"><title>39</title>\n",
       "<polygon fill=\"#d7ebfa\" stroke=\"black\" points=\"527,-544 435,-544 435,-461 527,-461 527,-544\"/>\n",
       "<text text-anchor=\"middle\" x=\"481\" y=\"-528.8\" font-family=\"Times,serif\" font-size=\"14.00\">Age &lt;= 47.0</text>\n",
       "<text text-anchor=\"middle\" x=\"481\" y=\"-513.8\" font-family=\"Times,serif\" font-size=\"14.00\">gini = 0.494</text>\n",
       "<text text-anchor=\"middle\" x=\"481\" y=\"-498.8\" font-family=\"Times,serif\" font-size=\"14.00\">samples = 9</text>\n",
       "<text text-anchor=\"middle\" x=\"481\" y=\"-483.8\" font-family=\"Times,serif\" font-size=\"14.00\">value = [4, 5]</text>\n",
       "<text text-anchor=\"middle\" x=\"481\" y=\"-468.8\" font-family=\"Times,serif\" font-size=\"14.00\">class = 生还</text>\n",
       "</g>\n",
       "<!-- 38&#45;&gt;39 -->\n",
       "<g id=\"edge39\" class=\"edge\"><title>38&#45;&gt;39</title>\n",
       "<path fill=\"none\" stroke=\"black\" d=\"M518.877,-579.907C514.603,-571.286 510.045,-562.09 505.625,-553.175\"/>\n",
       "<polygon fill=\"black\" stroke=\"black\" points=\"508.665,-551.426 501.087,-544.021 502.393,-554.535 508.665,-551.426\"/>\n",
       "</g>\n",
       "<!-- 48 -->\n",
       "<g id=\"node49\" class=\"node\"><title>48</title>\n",
       "<polygon fill=\"#efb388\" stroke=\"black\" points=\"646.5,-544 545.5,-544 545.5,-461 646.5,-461 646.5,-544\"/>\n",
       "<text text-anchor=\"middle\" x=\"596\" y=\"-528.8\" font-family=\"Times,serif\" font-size=\"14.00\">Fare &lt;= 86.29</text>\n",
       "<text text-anchor=\"middle\" x=\"596\" y=\"-513.8\" font-family=\"Times,serif\" font-size=\"14.00\">gini = 0.408</text>\n",
       "<text text-anchor=\"middle\" x=\"596\" y=\"-498.8\" font-family=\"Times,serif\" font-size=\"14.00\">samples = 7</text>\n",
       "<text text-anchor=\"middle\" x=\"596\" y=\"-483.8\" font-family=\"Times,serif\" font-size=\"14.00\">value = [5, 2]</text>\n",
       "<text text-anchor=\"middle\" x=\"596\" y=\"-468.8\" font-family=\"Times,serif\" font-size=\"14.00\">class = 未生还</text>\n",
       "</g>\n",
       "<!-- 38&#45;&gt;48 -->\n",
       "<g id=\"edge48\" class=\"edge\"><title>38&#45;&gt;48</title>\n",
       "<path fill=\"none\" stroke=\"black\" d=\"M558.776,-579.907C562.976,-571.286 567.456,-562.09 571.799,-553.175\"/>\n",
       "<polygon fill=\"black\" stroke=\"black\" points=\"575.026,-554.544 576.259,-544.021 568.733,-551.478 575.026,-554.544\"/>\n",
       "</g>\n",
       "<!-- 40 -->\n",
       "<g id=\"node41\" class=\"node\"><title>40</title>\n",
       "<polygon fill=\"#f8e0ce\" stroke=\"black\" points=\"417,-425 315,-425 315,-342 417,-342 417,-425\"/>\n",
       "<text text-anchor=\"middle\" x=\"366\" y=\"-409.8\" font-family=\"Times,serif\" font-size=\"14.00\">Fare &lt;= 52.277</text>\n",
       "<text text-anchor=\"middle\" x=\"366\" y=\"-394.8\" font-family=\"Times,serif\" font-size=\"14.00\">gini = 0.49</text>\n",
       "<text text-anchor=\"middle\" x=\"366\" y=\"-379.8\" font-family=\"Times,serif\" font-size=\"14.00\">samples = 7</text>\n",
       "<text text-anchor=\"middle\" x=\"366\" y=\"-364.8\" font-family=\"Times,serif\" font-size=\"14.00\">value = [4, 3]</text>\n",
       "<text text-anchor=\"middle\" x=\"366\" y=\"-349.8\" font-family=\"Times,serif\" font-size=\"14.00\">class = 未生还</text>\n",
       "</g>\n",
       "<!-- 39&#45;&gt;40 -->\n",
       "<g id=\"edge40\" class=\"edge\"><title>39&#45;&gt;40</title>\n",
       "<path fill=\"none\" stroke=\"black\" d=\"M441.101,-460.907C432.003,-451.651 422.254,-441.732 412.893,-432.209\"/>\n",
       "<polygon fill=\"black\" stroke=\"black\" points=\"415.334,-429.699 405.828,-425.021 410.342,-434.606 415.334,-429.699\"/>\n",
       "</g>\n",
       "<!-- 47 -->\n",
       "<g id=\"node48\" class=\"node\"><title>47</title>\n",
       "<polygon fill=\"#399de5\" stroke=\"black\" points=\"527,-417.5 435,-417.5 435,-349.5 527,-349.5 527,-417.5\"/>\n",
       "<text text-anchor=\"middle\" x=\"481\" y=\"-402.3\" font-family=\"Times,serif\" font-size=\"14.00\">gini = 0.0</text>\n",
       "<text text-anchor=\"middle\" x=\"481\" y=\"-387.3\" font-family=\"Times,serif\" font-size=\"14.00\">samples = 2</text>\n",
       "<text text-anchor=\"middle\" x=\"481\" y=\"-372.3\" font-family=\"Times,serif\" font-size=\"14.00\">value = [0, 2]</text>\n",
       "<text text-anchor=\"middle\" x=\"481\" y=\"-357.3\" font-family=\"Times,serif\" font-size=\"14.00\">class = 生还</text>\n",
       "</g>\n",
       "<!-- 39&#45;&gt;47 -->\n",
       "<g id=\"edge47\" class=\"edge\"><title>39&#45;&gt;47</title>\n",
       "<path fill=\"none\" stroke=\"black\" d=\"M481,-460.907C481,-450.204 481,-438.615 481,-427.776\"/>\n",
       "<polygon fill=\"black\" stroke=\"black\" points=\"484.5,-427.667 481,-417.667 477.5,-427.667 484.5,-427.667\"/>\n",
       "</g>\n",
       "<!-- 41 -->\n",
       "<g id=\"node42\" class=\"node\"><title>41</title>\n",
       "<polygon fill=\"#e58139\" stroke=\"black\" points=\"362.5,-298.5 261.5,-298.5 261.5,-230.5 362.5,-230.5 362.5,-298.5\"/>\n",
       "<text text-anchor=\"middle\" x=\"312\" y=\"-283.3\" font-family=\"Times,serif\" font-size=\"14.00\">gini = 0.0</text>\n",
       "<text text-anchor=\"middle\" x=\"312\" y=\"-268.3\" font-family=\"Times,serif\" font-size=\"14.00\">samples = 2</text>\n",
       "<text text-anchor=\"middle\" x=\"312\" y=\"-253.3\" font-family=\"Times,serif\" font-size=\"14.00\">value = [2, 0]</text>\n",
       "<text text-anchor=\"middle\" x=\"312\" y=\"-238.3\" font-family=\"Times,serif\" font-size=\"14.00\">class = 未生还</text>\n",
       "</g>\n",
       "<!-- 40&#45;&gt;41 -->\n",
       "<g id=\"edge41\" class=\"edge\"><title>40&#45;&gt;41</title>\n",
       "<path fill=\"none\" stroke=\"black\" d=\"M347.265,-341.907C342.172,-330.873 336.645,-318.898 331.51,-307.773\"/>\n",
       "<polygon fill=\"black\" stroke=\"black\" points=\"334.676,-306.28 327.308,-298.667 328.321,-309.213 334.676,-306.28\"/>\n",
       "</g>\n",
       "<!-- 42 -->\n",
       "<g id=\"node43\" class=\"node\"><title>42</title>\n",
       "<polygon fill=\"#bddef6\" stroke=\"black\" points=\"483,-306 381,-306 381,-223 483,-223 483,-306\"/>\n",
       "<text text-anchor=\"middle\" x=\"432\" y=\"-290.8\" font-family=\"Times,serif\" font-size=\"14.00\">Fare &lt;= 52.827</text>\n",
       "<text text-anchor=\"middle\" x=\"432\" y=\"-275.8\" font-family=\"Times,serif\" font-size=\"14.00\">gini = 0.48</text>\n",
       "<text text-anchor=\"middle\" x=\"432\" y=\"-260.8\" font-family=\"Times,serif\" font-size=\"14.00\">samples = 5</text>\n",
       "<text text-anchor=\"middle\" x=\"432\" y=\"-245.8\" font-family=\"Times,serif\" font-size=\"14.00\">value = [2, 3]</text>\n",
       "<text text-anchor=\"middle\" x=\"432\" y=\"-230.8\" font-family=\"Times,serif\" font-size=\"14.00\">class = 生还</text>\n",
       "</g>\n",
       "<!-- 40&#45;&gt;42 -->\n",
       "<g id=\"edge42\" class=\"edge\"><title>40&#45;&gt;42</title>\n",
       "<path fill=\"none\" stroke=\"black\" d=\"M388.898,-341.907C393.813,-333.195 399.058,-323.897 404.137,-314.893\"/>\n",
       "<polygon fill=\"black\" stroke=\"black\" points=\"407.277,-316.45 409.142,-306.021 401.18,-313.011 407.277,-316.45\"/>\n",
       "</g>\n",
       "<!-- 43 -->\n",
       "<g id=\"node44\" class=\"node\"><title>43</title>\n",
       "<polygon fill=\"#399de5\" stroke=\"black\" points=\"387,-179.5 295,-179.5 295,-111.5 387,-111.5 387,-179.5\"/>\n",
       "<text text-anchor=\"middle\" x=\"341\" y=\"-164.3\" font-family=\"Times,serif\" font-size=\"14.00\">gini = 0.0</text>\n",
       "<text text-anchor=\"middle\" x=\"341\" y=\"-149.3\" font-family=\"Times,serif\" font-size=\"14.00\">samples = 2</text>\n",
       "<text text-anchor=\"middle\" x=\"341\" y=\"-134.3\" font-family=\"Times,serif\" font-size=\"14.00\">value = [0, 2]</text>\n",
       "<text text-anchor=\"middle\" x=\"341\" y=\"-119.3\" font-family=\"Times,serif\" font-size=\"14.00\">class = 生还</text>\n",
       "</g>\n",
       "<!-- 42&#45;&gt;43 -->\n",
       "<g id=\"edge43\" class=\"edge\"><title>42&#45;&gt;43</title>\n",
       "<path fill=\"none\" stroke=\"black\" d=\"M400.428,-222.907C391.588,-211.542 381.972,-199.178 373.102,-187.774\"/>\n",
       "<polygon fill=\"black\" stroke=\"black\" points=\"375.699,-185.412 366.797,-179.667 370.173,-189.709 375.699,-185.412\"/>\n",
       "</g>\n",
       "<!-- 44 -->\n",
       "<g id=\"node45\" class=\"node\"><title>44</title>\n",
       "<polygon fill=\"#f2c09c\" stroke=\"black\" points=\"506.5,-187 405.5,-187 405.5,-104 506.5,-104 506.5,-187\"/>\n",
       "<text text-anchor=\"middle\" x=\"456\" y=\"-171.8\" font-family=\"Times,serif\" font-size=\"14.00\">Age &lt;= 34.0</text>\n",
       "<text text-anchor=\"middle\" x=\"456\" y=\"-156.8\" font-family=\"Times,serif\" font-size=\"14.00\">gini = 0.444</text>\n",
       "<text text-anchor=\"middle\" x=\"456\" y=\"-141.8\" font-family=\"Times,serif\" font-size=\"14.00\">samples = 3</text>\n",
       "<text text-anchor=\"middle\" x=\"456\" y=\"-126.8\" font-family=\"Times,serif\" font-size=\"14.00\">value = [2, 1]</text>\n",
       "<text text-anchor=\"middle\" x=\"456\" y=\"-111.8\" font-family=\"Times,serif\" font-size=\"14.00\">class = 未生还</text>\n",
       "</g>\n",
       "<!-- 42&#45;&gt;44 -->\n",
       "<g id=\"edge44\" class=\"edge\"><title>42&#45;&gt;44</title>\n",
       "<path fill=\"none\" stroke=\"black\" d=\"M440.327,-222.907C442.039,-214.558 443.862,-205.671 445.637,-197.02\"/>\n",
       "<polygon fill=\"black\" stroke=\"black\" points=\"449.107,-197.52 447.688,-187.021 442.25,-196.114 449.107,-197.52\"/>\n",
       "</g>\n",
       "<!-- 45 -->\n",
       "<g id=\"node46\" class=\"node\"><title>45</title>\n",
       "<polygon fill=\"#399de5\" stroke=\"black\" points=\"444,-68 352,-68 352,-0 444,-0 444,-68\"/>\n",
       "<text text-anchor=\"middle\" x=\"398\" y=\"-52.8\" font-family=\"Times,serif\" font-size=\"14.00\">gini = 0.0</text>\n",
       "<text text-anchor=\"middle\" x=\"398\" y=\"-37.8\" font-family=\"Times,serif\" font-size=\"14.00\">samples = 1</text>\n",
       "<text text-anchor=\"middle\" x=\"398\" y=\"-22.8\" font-family=\"Times,serif\" font-size=\"14.00\">value = [0, 1]</text>\n",
       "<text text-anchor=\"middle\" x=\"398\" y=\"-7.8\" font-family=\"Times,serif\" font-size=\"14.00\">class = 生还</text>\n",
       "</g>\n",
       "<!-- 44&#45;&gt;45 -->\n",
       "<g id=\"edge45\" class=\"edge\"><title>44&#45;&gt;45</title>\n",
       "<path fill=\"none\" stroke=\"black\" d=\"M434.403,-103.726C429.813,-95.0615 424.959,-85.8962 420.342,-77.1802\"/>\n",
       "<polygon fill=\"black\" stroke=\"black\" points=\"423.412,-75.4982 415.638,-68.2996 417.226,-78.7748 423.412,-75.4982\"/>\n",
       "</g>\n",
       "<!-- 46 -->\n",
       "<g id=\"node47\" class=\"node\"><title>46</title>\n",
       "<polygon fill=\"#e58139\" stroke=\"black\" points=\"563.5,-68 462.5,-68 462.5,-0 563.5,-0 563.5,-68\"/>\n",
       "<text text-anchor=\"middle\" x=\"513\" y=\"-52.8\" font-family=\"Times,serif\" font-size=\"14.00\">gini = 0.0</text>\n",
       "<text text-anchor=\"middle\" x=\"513\" y=\"-37.8\" font-family=\"Times,serif\" font-size=\"14.00\">samples = 2</text>\n",
       "<text text-anchor=\"middle\" x=\"513\" y=\"-22.8\" font-family=\"Times,serif\" font-size=\"14.00\">value = [2, 0]</text>\n",
       "<text text-anchor=\"middle\" x=\"513\" y=\"-7.8\" font-family=\"Times,serif\" font-size=\"14.00\">class = 未生还</text>\n",
       "</g>\n",
       "<!-- 44&#45;&gt;46 -->\n",
       "<g id=\"edge46\" class=\"edge\"><title>44&#45;&gt;46</title>\n",
       "<path fill=\"none\" stroke=\"black\" d=\"M477.225,-103.726C481.735,-95.0615 486.506,-85.8962 491.043,-77.1802\"/>\n",
       "<polygon fill=\"black\" stroke=\"black\" points=\"494.153,-78.7859 495.666,-68.2996 487.944,-75.5537 494.153,-78.7859\"/>\n",
       "</g>\n",
       "<!-- 49 -->\n",
       "<g id=\"node50\" class=\"node\"><title>49</title>\n",
       "<polygon fill=\"#e58139\" stroke=\"black\" points=\"646.5,-417.5 545.5,-417.5 545.5,-349.5 646.5,-349.5 646.5,-417.5\"/>\n",
       "<text text-anchor=\"middle\" x=\"596\" y=\"-402.3\" font-family=\"Times,serif\" font-size=\"14.00\">gini = 0.0</text>\n",
       "<text text-anchor=\"middle\" x=\"596\" y=\"-387.3\" font-family=\"Times,serif\" font-size=\"14.00\">samples = 3</text>\n",
       "<text text-anchor=\"middle\" x=\"596\" y=\"-372.3\" font-family=\"Times,serif\" font-size=\"14.00\">value = [3, 0]</text>\n",
       "<text text-anchor=\"middle\" x=\"596\" y=\"-357.3\" font-family=\"Times,serif\" font-size=\"14.00\">class = 未生还</text>\n",
       "</g>\n",
       "<!-- 48&#45;&gt;49 -->\n",
       "<g id=\"edge49\" class=\"edge\"><title>48&#45;&gt;49</title>\n",
       "<path fill=\"none\" stroke=\"black\" d=\"M596,-460.907C596,-450.204 596,-438.615 596,-427.776\"/>\n",
       "<polygon fill=\"black\" stroke=\"black\" points=\"599.5,-427.667 596,-417.667 592.5,-427.667 599.5,-427.667\"/>\n",
       "</g>\n",
       "<!-- 50 -->\n",
       "<g id=\"node51\" class=\"node\"><title>50</title>\n",
       "<polygon fill=\"#ffffff\" stroke=\"black\" points=\"795.5,-425 664.5,-425 664.5,-342 795.5,-342 795.5,-425\"/>\n",
       "<text text-anchor=\"middle\" x=\"730\" y=\"-409.8\" font-family=\"Times,serif\" font-size=\"14.00\">Embarked_Q &lt;= 0.5</text>\n",
       "<text text-anchor=\"middle\" x=\"730\" y=\"-394.8\" font-family=\"Times,serif\" font-size=\"14.00\">gini = 0.5</text>\n",
       "<text text-anchor=\"middle\" x=\"730\" y=\"-379.8\" font-family=\"Times,serif\" font-size=\"14.00\">samples = 4</text>\n",
       "<text text-anchor=\"middle\" x=\"730\" y=\"-364.8\" font-family=\"Times,serif\" font-size=\"14.00\">value = [2, 2]</text>\n",
       "<text text-anchor=\"middle\" x=\"730\" y=\"-349.8\" font-family=\"Times,serif\" font-size=\"14.00\">class = 未生还</text>\n",
       "</g>\n",
       "<!-- 48&#45;&gt;50 -->\n",
       "<g id=\"edge50\" class=\"edge\"><title>48&#45;&gt;50</title>\n",
       "<path fill=\"none\" stroke=\"black\" d=\"M642.491,-460.907C653.3,-451.469 664.898,-441.343 676,-431.649\"/>\n",
       "<polygon fill=\"black\" stroke=\"black\" points=\"678.361,-434.234 683.592,-425.021 673.757,-428.961 678.361,-434.234\"/>\n",
       "</g>\n",
       "<!-- 51 -->\n",
       "<g id=\"node52\" class=\"node\"><title>51</title>\n",
       "<polygon fill=\"#9ccef2\" stroke=\"black\" points=\"760.5,-306 651.5,-306 651.5,-223 760.5,-223 760.5,-306\"/>\n",
       "<text text-anchor=\"middle\" x=\"706\" y=\"-290.8\" font-family=\"Times,serif\" font-size=\"14.00\">Fare &lt;= 100.442</text>\n",
       "<text text-anchor=\"middle\" x=\"706\" y=\"-275.8\" font-family=\"Times,serif\" font-size=\"14.00\">gini = 0.444</text>\n",
       "<text text-anchor=\"middle\" x=\"706\" y=\"-260.8\" font-family=\"Times,serif\" font-size=\"14.00\">samples = 3</text>\n",
       "<text text-anchor=\"middle\" x=\"706\" y=\"-245.8\" font-family=\"Times,serif\" font-size=\"14.00\">value = [1, 2]</text>\n",
       "<text text-anchor=\"middle\" x=\"706\" y=\"-230.8\" font-family=\"Times,serif\" font-size=\"14.00\">class = 生还</text>\n",
       "</g>\n",
       "<!-- 50&#45;&gt;51 -->\n",
       "<g id=\"edge51\" class=\"edge\"><title>50&#45;&gt;51</title>\n",
       "<path fill=\"none\" stroke=\"black\" d=\"M721.673,-341.907C719.961,-333.558 718.138,-324.671 716.363,-316.02\"/>\n",
       "<polygon fill=\"black\" stroke=\"black\" points=\"719.75,-315.114 714.312,-306.021 712.893,-316.52 719.75,-315.114\"/>\n",
       "</g>\n",
       "<!-- 54 -->\n",
       "<g id=\"node55\" class=\"node\"><title>54</title>\n",
       "<polygon fill=\"#e58139\" stroke=\"black\" points=\"879.5,-298.5 778.5,-298.5 778.5,-230.5 879.5,-230.5 879.5,-298.5\"/>\n",
       "<text text-anchor=\"middle\" x=\"829\" y=\"-283.3\" font-family=\"Times,serif\" font-size=\"14.00\">gini = 0.0</text>\n",
       "<text text-anchor=\"middle\" x=\"829\" y=\"-268.3\" font-family=\"Times,serif\" font-size=\"14.00\">samples = 1</text>\n",
       "<text text-anchor=\"middle\" x=\"829\" y=\"-253.3\" font-family=\"Times,serif\" font-size=\"14.00\">value = [1, 0]</text>\n",
       "<text text-anchor=\"middle\" x=\"829\" y=\"-238.3\" font-family=\"Times,serif\" font-size=\"14.00\">class = 未生还</text>\n",
       "</g>\n",
       "<!-- 50&#45;&gt;54 -->\n",
       "<g id=\"edge54\" class=\"edge\"><title>50&#45;&gt;54</title>\n",
       "<path fill=\"none\" stroke=\"black\" d=\"M764.348,-341.907C774.058,-330.432 784.629,-317.938 794.357,-306.442\"/>\n",
       "<polygon fill=\"black\" stroke=\"black\" points=\"797.148,-308.562 800.936,-298.667 791.804,-304.04 797.148,-308.562\"/>\n",
       "</g>\n",
       "<!-- 52 -->\n",
       "<g id=\"node53\" class=\"node\"><title>52</title>\n",
       "<polygon fill=\"#399de5\" stroke=\"black\" points=\"664,-179.5 572,-179.5 572,-111.5 664,-111.5 664,-179.5\"/>\n",
       "<text text-anchor=\"middle\" x=\"618\" y=\"-164.3\" font-family=\"Times,serif\" font-size=\"14.00\">gini = 0.0</text>\n",
       "<text text-anchor=\"middle\" x=\"618\" y=\"-149.3\" font-family=\"Times,serif\" font-size=\"14.00\">samples = 2</text>\n",
       "<text text-anchor=\"middle\" x=\"618\" y=\"-134.3\" font-family=\"Times,serif\" font-size=\"14.00\">value = [0, 2]</text>\n",
       "<text text-anchor=\"middle\" x=\"618\" y=\"-119.3\" font-family=\"Times,serif\" font-size=\"14.00\">class = 生还</text>\n",
       "</g>\n",
       "<!-- 51&#45;&gt;52 -->\n",
       "<g id=\"edge52\" class=\"edge\"><title>51&#45;&gt;52</title>\n",
       "<path fill=\"none\" stroke=\"black\" d=\"M675.469,-222.907C666.92,-211.542 657.621,-199.178 649.044,-187.774\"/>\n",
       "<polygon fill=\"black\" stroke=\"black\" points=\"651.754,-185.555 642.946,-179.667 646.16,-189.763 651.754,-185.555\"/>\n",
       "</g>\n",
       "<!-- 53 -->\n",
       "<g id=\"node54\" class=\"node\"><title>53</title>\n",
       "<polygon fill=\"#e58139\" stroke=\"black\" points=\"783.5,-179.5 682.5,-179.5 682.5,-111.5 783.5,-111.5 783.5,-179.5\"/>\n",
       "<text text-anchor=\"middle\" x=\"733\" y=\"-164.3\" font-family=\"Times,serif\" font-size=\"14.00\">gini = 0.0</text>\n",
       "<text text-anchor=\"middle\" x=\"733\" y=\"-149.3\" font-family=\"Times,serif\" font-size=\"14.00\">samples = 1</text>\n",
       "<text text-anchor=\"middle\" x=\"733\" y=\"-134.3\" font-family=\"Times,serif\" font-size=\"14.00\">value = [1, 0]</text>\n",
       "<text text-anchor=\"middle\" x=\"733\" y=\"-119.3\" font-family=\"Times,serif\" font-size=\"14.00\">class = 未生还</text>\n",
       "</g>\n",
       "<!-- 51&#45;&gt;53 -->\n",
       "<g id=\"edge53\" class=\"edge\"><title>51&#45;&gt;53</title>\n",
       "<path fill=\"none\" stroke=\"black\" d=\"M715.368,-222.907C717.863,-212.094 720.567,-200.376 723.09,-189.441\"/>\n",
       "<polygon fill=\"black\" stroke=\"black\" points=\"726.508,-190.198 725.346,-179.667 719.687,-188.624 726.508,-190.198\"/>\n",
       "</g>\n",
       "<!-- 57 -->\n",
       "<g id=\"node58\" class=\"node\"><title>57</title>\n",
       "<polygon fill=\"#e78b48\" stroke=\"black\" points=\"1005.5,-1615 904.5,-1615 904.5,-1532 1005.5,-1532 1005.5,-1615\"/>\n",
       "<text text-anchor=\"middle\" x=\"955\" y=\"-1599.8\" font-family=\"Times,serif\" font-size=\"14.00\">SibSp &lt;= 0.5</text>\n",
       "<text text-anchor=\"middle\" x=\"955\" y=\"-1584.8\" font-family=\"Times,serif\" font-size=\"14.00\">gini = 0.133</text>\n",
       "<text text-anchor=\"middle\" x=\"955\" y=\"-1569.8\" font-family=\"Times,serif\" font-size=\"14.00\">samples = 14</text>\n",
       "<text text-anchor=\"middle\" x=\"955\" y=\"-1554.8\" font-family=\"Times,serif\" font-size=\"14.00\">value = [13, 1]</text>\n",
       "<text text-anchor=\"middle\" x=\"955\" y=\"-1539.8\" font-family=\"Times,serif\" font-size=\"14.00\">class = 未生还</text>\n",
       "</g>\n",
       "<!-- 56&#45;&gt;57 -->\n",
       "<g id=\"edge57\" class=\"edge\"><title>56&#45;&gt;57</title>\n",
       "<path fill=\"none\" stroke=\"black\" d=\"M992.877,-1650.91C988.603,-1642.29 984.045,-1633.09 979.625,-1624.17\"/>\n",
       "<polygon fill=\"black\" stroke=\"black\" points=\"982.665,-1622.43 975.087,-1615.02 976.393,-1625.53 982.665,-1622.43\"/>\n",
       "</g>\n",
       "<!-- 62 -->\n",
       "<g id=\"node63\" class=\"node\"><title>62</title>\n",
       "<polygon fill=\"#399de5\" stroke=\"black\" points=\"1116,-1607.5 1024,-1607.5 1024,-1539.5 1116,-1539.5 1116,-1607.5\"/>\n",
       "<text text-anchor=\"middle\" x=\"1070\" y=\"-1592.3\" font-family=\"Times,serif\" font-size=\"14.00\">gini = 0.0</text>\n",
       "<text text-anchor=\"middle\" x=\"1070\" y=\"-1577.3\" font-family=\"Times,serif\" font-size=\"14.00\">samples = 1</text>\n",
       "<text text-anchor=\"middle\" x=\"1070\" y=\"-1562.3\" font-family=\"Times,serif\" font-size=\"14.00\">value = [0, 1]</text>\n",
       "<text text-anchor=\"middle\" x=\"1070\" y=\"-1547.3\" font-family=\"Times,serif\" font-size=\"14.00\">class = 生还</text>\n",
       "</g>\n",
       "<!-- 56&#45;&gt;62 -->\n",
       "<g id=\"edge62\" class=\"edge\"><title>56&#45;&gt;62</title>\n",
       "<path fill=\"none\" stroke=\"black\" d=\"M1032.78,-1650.91C1038.15,-1639.87 1043.99,-1627.9 1049.41,-1616.77\"/>\n",
       "<polygon fill=\"black\" stroke=\"black\" points=\"1052.61,-1618.19 1053.84,-1607.67 1046.32,-1615.12 1052.61,-1618.19\"/>\n",
       "</g>\n",
       "<!-- 58 -->\n",
       "<g id=\"node59\" class=\"node\"><title>58</title>\n",
       "<polygon fill=\"#e58139\" stroke=\"black\" points=\"927.5,-1488.5 826.5,-1488.5 826.5,-1420.5 927.5,-1420.5 927.5,-1488.5\"/>\n",
       "<text text-anchor=\"middle\" x=\"877\" y=\"-1473.3\" font-family=\"Times,serif\" font-size=\"14.00\">gini = 0.0</text>\n",
       "<text text-anchor=\"middle\" x=\"877\" y=\"-1458.3\" font-family=\"Times,serif\" font-size=\"14.00\">samples = 11</text>\n",
       "<text text-anchor=\"middle\" x=\"877\" y=\"-1443.3\" font-family=\"Times,serif\" font-size=\"14.00\">value = [11, 0]</text>\n",
       "<text text-anchor=\"middle\" x=\"877\" y=\"-1428.3\" font-family=\"Times,serif\" font-size=\"14.00\">class = 未生还</text>\n",
       "</g>\n",
       "<!-- 57&#45;&gt;58 -->\n",
       "<g id=\"edge58\" class=\"edge\"><title>57&#45;&gt;58</title>\n",
       "<path fill=\"none\" stroke=\"black\" d=\"M927.938,-1531.91C920.435,-1520.65 912.279,-1508.42 904.737,-1497.11\"/>\n",
       "<polygon fill=\"black\" stroke=\"black\" points=\"907.571,-1495.05 899.111,-1488.67 901.746,-1498.93 907.571,-1495.05\"/>\n",
       "</g>\n",
       "<!-- 59 -->\n",
       "<g id=\"node60\" class=\"node\"><title>59</title>\n",
       "<polygon fill=\"#f2c09c\" stroke=\"black\" points=\"1046.5,-1496 945.5,-1496 945.5,-1413 1046.5,-1413 1046.5,-1496\"/>\n",
       "<text text-anchor=\"middle\" x=\"996\" y=\"-1480.8\" font-family=\"Times,serif\" font-size=\"14.00\">Age &lt;= 62.0</text>\n",
       "<text text-anchor=\"middle\" x=\"996\" y=\"-1465.8\" font-family=\"Times,serif\" font-size=\"14.00\">gini = 0.444</text>\n",
       "<text text-anchor=\"middle\" x=\"996\" y=\"-1450.8\" font-family=\"Times,serif\" font-size=\"14.00\">samples = 3</text>\n",
       "<text text-anchor=\"middle\" x=\"996\" y=\"-1435.8\" font-family=\"Times,serif\" font-size=\"14.00\">value = [2, 1]</text>\n",
       "<text text-anchor=\"middle\" x=\"996\" y=\"-1420.8\" font-family=\"Times,serif\" font-size=\"14.00\">class = 未生还</text>\n",
       "</g>\n",
       "<!-- 57&#45;&gt;59 -->\n",
       "<g id=\"edge59\" class=\"edge\"><title>57&#45;&gt;59</title>\n",
       "<path fill=\"none\" stroke=\"black\" d=\"M969.225,-1531.91C972.182,-1523.47 975.333,-1514.48 978.395,-1505.74\"/>\n",
       "<polygon fill=\"black\" stroke=\"black\" points=\"981.796,-1506.62 981.8,-1496.02 975.19,-1504.3 981.796,-1506.62\"/>\n",
       "</g>\n",
       "<!-- 60 -->\n",
       "<g id=\"node61\" class=\"node\"><title>60</title>\n",
       "<polygon fill=\"#399de5\" stroke=\"black\" points=\"947,-1369.5 855,-1369.5 855,-1301.5 947,-1301.5 947,-1369.5\"/>\n",
       "<text text-anchor=\"middle\" x=\"901\" y=\"-1354.3\" font-family=\"Times,serif\" font-size=\"14.00\">gini = 0.0</text>\n",
       "<text text-anchor=\"middle\" x=\"901\" y=\"-1339.3\" font-family=\"Times,serif\" font-size=\"14.00\">samples = 1</text>\n",
       "<text text-anchor=\"middle\" x=\"901\" y=\"-1324.3\" font-family=\"Times,serif\" font-size=\"14.00\">value = [0, 1]</text>\n",
       "<text text-anchor=\"middle\" x=\"901\" y=\"-1309.3\" font-family=\"Times,serif\" font-size=\"14.00\">class = 生还</text>\n",
       "</g>\n",
       "<!-- 59&#45;&gt;60 -->\n",
       "<g id=\"edge60\" class=\"edge\"><title>59&#45;&gt;60</title>\n",
       "<path fill=\"none\" stroke=\"black\" d=\"M963.04,-1412.91C953.722,-1401.43 943.578,-1388.94 934.243,-1377.44\"/>\n",
       "<polygon fill=\"black\" stroke=\"black\" points=\"936.951,-1375.22 927.93,-1369.67 931.517,-1379.64 936.951,-1375.22\"/>\n",
       "</g>\n",
       "<!-- 61 -->\n",
       "<g id=\"node62\" class=\"node\"><title>61</title>\n",
       "<polygon fill=\"#e58139\" stroke=\"black\" points=\"1066.5,-1369.5 965.5,-1369.5 965.5,-1301.5 1066.5,-1301.5 1066.5,-1369.5\"/>\n",
       "<text text-anchor=\"middle\" x=\"1016\" y=\"-1354.3\" font-family=\"Times,serif\" font-size=\"14.00\">gini = 0.0</text>\n",
       "<text text-anchor=\"middle\" x=\"1016\" y=\"-1339.3\" font-family=\"Times,serif\" font-size=\"14.00\">samples = 2</text>\n",
       "<text text-anchor=\"middle\" x=\"1016\" y=\"-1324.3\" font-family=\"Times,serif\" font-size=\"14.00\">value = [2, 0]</text>\n",
       "<text text-anchor=\"middle\" x=\"1016\" y=\"-1309.3\" font-family=\"Times,serif\" font-size=\"14.00\">class = 未生还</text>\n",
       "</g>\n",
       "<!-- 59&#45;&gt;61 -->\n",
       "<g id=\"edge61\" class=\"edge\"><title>59&#45;&gt;61</title>\n",
       "<path fill=\"none\" stroke=\"black\" d=\"M1002.94,-1412.91C1004.77,-1402.2 1006.75,-1390.62 1008.6,-1379.78\"/>\n",
       "<polygon fill=\"black\" stroke=\"black\" points=\"1012.1,-1380.11 1010.33,-1369.67 1005.2,-1378.93 1012.1,-1380.11\"/>\n",
       "</g>\n",
       "<!-- 64 -->\n",
       "<g id=\"node65\" class=\"node\"><title>64</title>\n",
       "<polygon fill=\"#ea985d\" stroke=\"black\" points=\"2278,-1734 2166,-1734 2166,-1651 2278,-1651 2278,-1734\"/>\n",
       "<text text-anchor=\"middle\" x=\"2222\" y=\"-1718.8\" font-family=\"Times,serif\" font-size=\"14.00\">Age &lt;= 30.75</text>\n",
       "<text text-anchor=\"middle\" x=\"2222\" y=\"-1703.8\" font-family=\"Times,serif\" font-size=\"14.00\">gini = 0.259</text>\n",
       "<text text-anchor=\"middle\" x=\"2222\" y=\"-1688.8\" font-family=\"Times,serif\" font-size=\"14.00\">samples = 170</text>\n",
       "<text text-anchor=\"middle\" x=\"2222\" y=\"-1673.8\" font-family=\"Times,serif\" font-size=\"14.00\">value = [144, 26]</text>\n",
       "<text text-anchor=\"middle\" x=\"2222\" y=\"-1658.8\" font-family=\"Times,serif\" font-size=\"14.00\">class = 未生还</text>\n",
       "</g>\n",
       "<!-- 63&#45;&gt;64 -->\n",
       "<g id=\"edge64\" class=\"edge\"><title>63&#45;&gt;64</title>\n",
       "<path fill=\"none\" stroke=\"black\" d=\"M2222,-1769.91C2222,-1761.65 2222,-1752.86 2222,-1744.3\"/>\n",
       "<polygon fill=\"black\" stroke=\"black\" points=\"2225.5,-1744.02 2222,-1734.02 2218.5,-1744.02 2225.5,-1744.02\"/>\n",
       "</g>\n",
       "<!-- 157 -->\n",
       "<g id=\"node158\" class=\"node\"><title>157</title>\n",
       "<polygon fill=\"#e68641\" stroke=\"black\" points=\"2511.5,-1734 2410.5,-1734 2410.5,-1651 2511.5,-1651 2511.5,-1734\"/>\n",
       "<text text-anchor=\"middle\" x=\"2461\" y=\"-1718.8\" font-family=\"Times,serif\" font-size=\"14.00\">Fare &lt;= 7.91</text>\n",
       "<text text-anchor=\"middle\" x=\"2461\" y=\"-1703.8\" font-family=\"Times,serif\" font-size=\"14.00\">gini = 0.078</text>\n",
       "<text text-anchor=\"middle\" x=\"2461\" y=\"-1688.8\" font-family=\"Times,serif\" font-size=\"14.00\">samples = 74</text>\n",
       "<text text-anchor=\"middle\" x=\"2461\" y=\"-1673.8\" font-family=\"Times,serif\" font-size=\"14.00\">value = [71, 3]</text>\n",
       "<text text-anchor=\"middle\" x=\"2461\" y=\"-1658.8\" font-family=\"Times,serif\" font-size=\"14.00\">class = 未生还</text>\n",
       "</g>\n",
       "<!-- 63&#45;&gt;157 -->\n",
       "<g id=\"edge157\" class=\"edge\"><title>63&#45;&gt;157</title>\n",
       "<path fill=\"none\" stroke=\"black\" d=\"M2278.03,-1783.07C2314.92,-1765.01 2363.17,-1741.39 2400.86,-1722.94\"/>\n",
       "<polygon fill=\"black\" stroke=\"black\" points=\"2402.76,-1725.91 2410.2,-1718.37 2399.68,-1719.62 2402.76,-1725.91\"/>\n",
       "</g>\n",
       "<!-- 65 -->\n",
       "<g id=\"node66\" class=\"node\"><title>65</title>\n",
       "<polygon fill=\"#e99254\" stroke=\"black\" points=\"2199,-1615 2069,-1615 2069,-1532 2199,-1532 2199,-1615\"/>\n",
       "<text text-anchor=\"middle\" x=\"2134\" y=\"-1599.8\" font-family=\"Times,serif\" font-size=\"14.00\">Embarked_C &lt;= 0.5</text>\n",
       "<text text-anchor=\"middle\" x=\"2134\" y=\"-1584.8\" font-family=\"Times,serif\" font-size=\"14.00\">gini = 0.213</text>\n",
       "<text text-anchor=\"middle\" x=\"2134\" y=\"-1569.8\" font-family=\"Times,serif\" font-size=\"14.00\">samples = 157</text>\n",
       "<text text-anchor=\"middle\" x=\"2134\" y=\"-1554.8\" font-family=\"Times,serif\" font-size=\"14.00\">value = [138, 19]</text>\n",
       "<text text-anchor=\"middle\" x=\"2134\" y=\"-1539.8\" font-family=\"Times,serif\" font-size=\"14.00\">class = 未生还</text>\n",
       "</g>\n",
       "<!-- 64&#45;&gt;65 -->\n",
       "<g id=\"edge65\" class=\"edge\"><title>64&#45;&gt;65</title>\n",
       "<path fill=\"none\" stroke=\"black\" d=\"M2191.47,-1650.91C2184.71,-1641.92 2177.48,-1632.32 2170.52,-1623.05\"/>\n",
       "<polygon fill=\"black\" stroke=\"black\" points=\"2173.29,-1620.91 2164.48,-1615.02 2167.69,-1625.12 2173.29,-1620.91\"/>\n",
       "</g>\n",
       "<!-- 142 -->\n",
       "<g id=\"node143\" class=\"node\"><title>142</title>\n",
       "<polygon fill=\"#e3f1fb\" stroke=\"black\" points=\"2364,-1615 2272,-1615 2272,-1532 2364,-1532 2364,-1615\"/>\n",
       "<text text-anchor=\"middle\" x=\"2318\" y=\"-1599.8\" font-family=\"Times,serif\" font-size=\"14.00\">SibSp &lt;= 0.5</text>\n",
       "<text text-anchor=\"middle\" x=\"2318\" y=\"-1584.8\" font-family=\"Times,serif\" font-size=\"14.00\">gini = 0.497</text>\n",
       "<text text-anchor=\"middle\" x=\"2318\" y=\"-1569.8\" font-family=\"Times,serif\" font-size=\"14.00\">samples = 13</text>\n",
       "<text text-anchor=\"middle\" x=\"2318\" y=\"-1554.8\" font-family=\"Times,serif\" font-size=\"14.00\">value = [6, 7]</text>\n",
       "<text text-anchor=\"middle\" x=\"2318\" y=\"-1539.8\" font-family=\"Times,serif\" font-size=\"14.00\">class = 生还</text>\n",
       "</g>\n",
       "<!-- 64&#45;&gt;142 -->\n",
       "<g id=\"edge142\" class=\"edge\"><title>64&#45;&gt;142</title>\n",
       "<path fill=\"none\" stroke=\"black\" d=\"M2255.31,-1650.91C2262.75,-1641.83 2270.72,-1632.12 2278.39,-1622.77\"/>\n",
       "<polygon fill=\"black\" stroke=\"black\" points=\"2281.11,-1624.97 2284.75,-1615.02 2275.7,-1620.53 2281.11,-1624.97\"/>\n",
       "</g>\n",
       "<!-- 66 -->\n",
       "<g id=\"node67\" class=\"node\"><title>66</title>\n",
       "<polygon fill=\"#e88e4d\" stroke=\"black\" points=\"1441,-1496 1329,-1496 1329,-1413 1441,-1413 1441,-1496\"/>\n",
       "<text text-anchor=\"middle\" x=\"1385\" y=\"-1480.8\" font-family=\"Times,serif\" font-size=\"14.00\">Fare &lt;= 7.013</text>\n",
       "<text text-anchor=\"middle\" x=\"1385\" y=\"-1465.8\" font-family=\"Times,serif\" font-size=\"14.00\">gini = 0.17</text>\n",
       "<text text-anchor=\"middle\" x=\"1385\" y=\"-1450.8\" font-family=\"Times,serif\" font-size=\"14.00\">samples = 139</text>\n",
       "<text text-anchor=\"middle\" x=\"1385\" y=\"-1435.8\" font-family=\"Times,serif\" font-size=\"14.00\">value = [126, 13]</text>\n",
       "<text text-anchor=\"middle\" x=\"1385\" y=\"-1420.8\" font-family=\"Times,serif\" font-size=\"14.00\">class = 未生还</text>\n",
       "</g>\n",
       "<!-- 65&#45;&gt;66 -->\n",
       "<g id=\"edge66\" class=\"edge\"><title>65&#45;&gt;66</title>\n",
       "<path fill=\"none\" stroke=\"black\" d=\"M2068.84,-1562.32C1927.38,-1540.22 1593.45,-1488.06 1451.12,-1465.83\"/>\n",
       "<polygon fill=\"black\" stroke=\"black\" points=\"1451.63,-1462.37 1441.21,-1464.28 1450.55,-1469.28 1451.63,-1462.37\"/>\n",
       "</g>\n",
       "<!-- 123 -->\n",
       "<g id=\"node124\" class=\"node\"><title>123</title>\n",
       "<polygon fill=\"#f2c09c\" stroke=\"black\" points=\"2184.5,-1496 2083.5,-1496 2083.5,-1413 2184.5,-1413 2184.5,-1496\"/>\n",
       "<text text-anchor=\"middle\" x=\"2134\" y=\"-1480.8\" font-family=\"Times,serif\" font-size=\"14.00\">Age &lt;= 26.5</text>\n",
       "<text text-anchor=\"middle\" x=\"2134\" y=\"-1465.8\" font-family=\"Times,serif\" font-size=\"14.00\">gini = 0.444</text>\n",
       "<text text-anchor=\"middle\" x=\"2134\" y=\"-1450.8\" font-family=\"Times,serif\" font-size=\"14.00\">samples = 18</text>\n",
       "<text text-anchor=\"middle\" x=\"2134\" y=\"-1435.8\" font-family=\"Times,serif\" font-size=\"14.00\">value = [12, 6]</text>\n",
       "<text text-anchor=\"middle\" x=\"2134\" y=\"-1420.8\" font-family=\"Times,serif\" font-size=\"14.00\">class = 未生还</text>\n",
       "</g>\n",
       "<!-- 65&#45;&gt;123 -->\n",
       "<g id=\"edge123\" class=\"edge\"><title>65&#45;&gt;123</title>\n",
       "<path fill=\"none\" stroke=\"black\" d=\"M2134,-1531.91C2134,-1523.65 2134,-1514.86 2134,-1506.3\"/>\n",
       "<polygon fill=\"black\" stroke=\"black\" points=\"2137.5,-1506.02 2134,-1496.02 2130.5,-1506.02 2137.5,-1506.02\"/>\n",
       "</g>\n",
       "<!-- 67 -->\n",
       "<g id=\"node68\" class=\"node\"><title>67</title>\n",
       "<polygon fill=\"#9ccef2\" stroke=\"black\" points=\"1217,-1377 1125,-1377 1125,-1294 1217,-1294 1217,-1377\"/>\n",
       "<text text-anchor=\"middle\" x=\"1171\" y=\"-1361.8\" font-family=\"Times,serif\" font-size=\"14.00\">SibSp &lt;= 0.5</text>\n",
       "<text text-anchor=\"middle\" x=\"1171\" y=\"-1346.8\" font-family=\"Times,serif\" font-size=\"14.00\">gini = 0.444</text>\n",
       "<text text-anchor=\"middle\" x=\"1171\" y=\"-1331.8\" font-family=\"Times,serif\" font-size=\"14.00\">samples = 3</text>\n",
       "<text text-anchor=\"middle\" x=\"1171\" y=\"-1316.8\" font-family=\"Times,serif\" font-size=\"14.00\">value = [1, 2]</text>\n",
       "<text text-anchor=\"middle\" x=\"1171\" y=\"-1301.8\" font-family=\"Times,serif\" font-size=\"14.00\">class = 生还</text>\n",
       "</g>\n",
       "<!-- 66&#45;&gt;67 -->\n",
       "<g id=\"edge67\" class=\"edge\"><title>66&#45;&gt;67</title>\n",
       "<path fill=\"none\" stroke=\"black\" d=\"M1328.77,-1422.76C1297.1,-1405.44 1257.7,-1383.9 1226.2,-1366.68\"/>\n",
       "<polygon fill=\"black\" stroke=\"black\" points=\"1227.57,-1363.44 1217.12,-1361.71 1224.21,-1369.58 1227.57,-1363.44\"/>\n",
       "</g>\n",
       "<!-- 70 -->\n",
       "<g id=\"node71\" class=\"node\"><title>70</title>\n",
       "<polygon fill=\"#e78c4a\" stroke=\"black\" points=\"1441,-1377 1329,-1377 1329,-1294 1441,-1294 1441,-1377\"/>\n",
       "<text text-anchor=\"middle\" x=\"1385\" y=\"-1361.8\" font-family=\"Times,serif\" font-size=\"14.00\">Fare &lt;= 7.825</text>\n",
       "<text text-anchor=\"middle\" x=\"1385\" y=\"-1346.8\" font-family=\"Times,serif\" font-size=\"14.00\">gini = 0.149</text>\n",
       "<text text-anchor=\"middle\" x=\"1385\" y=\"-1331.8\" font-family=\"Times,serif\" font-size=\"14.00\">samples = 136</text>\n",
       "<text text-anchor=\"middle\" x=\"1385\" y=\"-1316.8\" font-family=\"Times,serif\" font-size=\"14.00\">value = [125, 11]</text>\n",
       "<text text-anchor=\"middle\" x=\"1385\" y=\"-1301.8\" font-family=\"Times,serif\" font-size=\"14.00\">class = 未生还</text>\n",
       "</g>\n",
       "<!-- 66&#45;&gt;70 -->\n",
       "<g id=\"edge70\" class=\"edge\"><title>66&#45;&gt;70</title>\n",
       "<path fill=\"none\" stroke=\"black\" d=\"M1385,-1412.91C1385,-1404.65 1385,-1395.86 1385,-1387.3\"/>\n",
       "<polygon fill=\"black\" stroke=\"black\" points=\"1388.5,-1387.02 1385,-1377.02 1381.5,-1387.02 1388.5,-1387.02\"/>\n",
       "</g>\n",
       "<!-- 68 -->\n",
       "<g id=\"node69\" class=\"node\"><title>68</title>\n",
       "<polygon fill=\"#399de5\" stroke=\"black\" points=\"1102,-1250.5 1010,-1250.5 1010,-1182.5 1102,-1182.5 1102,-1250.5\"/>\n",
       "<text text-anchor=\"middle\" x=\"1056\" y=\"-1235.3\" font-family=\"Times,serif\" font-size=\"14.00\">gini = 0.0</text>\n",
       "<text text-anchor=\"middle\" x=\"1056\" y=\"-1220.3\" font-family=\"Times,serif\" font-size=\"14.00\">samples = 2</text>\n",
       "<text text-anchor=\"middle\" x=\"1056\" y=\"-1205.3\" font-family=\"Times,serif\" font-size=\"14.00\">value = [0, 2]</text>\n",
       "<text text-anchor=\"middle\" x=\"1056\" y=\"-1190.3\" font-family=\"Times,serif\" font-size=\"14.00\">class = 生还</text>\n",
       "</g>\n",
       "<!-- 67&#45;&gt;68 -->\n",
       "<g id=\"edge68\" class=\"edge\"><title>67&#45;&gt;68</title>\n",
       "<path fill=\"none\" stroke=\"black\" d=\"M1131.1,-1293.91C1119.71,-1282.32 1107.31,-1269.7 1095.92,-1258.11\"/>\n",
       "<polygon fill=\"black\" stroke=\"black\" points=\"1098.11,-1255.35 1088.6,-1250.67 1093.11,-1260.25 1098.11,-1255.35\"/>\n",
       "</g>\n",
       "<!-- 69 -->\n",
       "<g id=\"node70\" class=\"node\"><title>69</title>\n",
       "<polygon fill=\"#e58139\" stroke=\"black\" points=\"1221.5,-1250.5 1120.5,-1250.5 1120.5,-1182.5 1221.5,-1182.5 1221.5,-1250.5\"/>\n",
       "<text text-anchor=\"middle\" x=\"1171\" y=\"-1235.3\" font-family=\"Times,serif\" font-size=\"14.00\">gini = 0.0</text>\n",
       "<text text-anchor=\"middle\" x=\"1171\" y=\"-1220.3\" font-family=\"Times,serif\" font-size=\"14.00\">samples = 1</text>\n",
       "<text text-anchor=\"middle\" x=\"1171\" y=\"-1205.3\" font-family=\"Times,serif\" font-size=\"14.00\">value = [1, 0]</text>\n",
       "<text text-anchor=\"middle\" x=\"1171\" y=\"-1190.3\" font-family=\"Times,serif\" font-size=\"14.00\">class = 未生还</text>\n",
       "</g>\n",
       "<!-- 67&#45;&gt;69 -->\n",
       "<g id=\"edge69\" class=\"edge\"><title>67&#45;&gt;69</title>\n",
       "<path fill=\"none\" stroke=\"black\" d=\"M1171,-1293.91C1171,-1283.2 1171,-1271.62 1171,-1260.78\"/>\n",
       "<polygon fill=\"black\" stroke=\"black\" points=\"1174.5,-1260.67 1171,-1250.67 1167.5,-1260.67 1174.5,-1260.67\"/>\n",
       "</g>\n",
       "<!-- 71 -->\n",
       "<g id=\"node72\" class=\"node\"><title>71</title>\n",
       "<polygon fill=\"#ea975b\" stroke=\"black\" points=\"1368,-1258 1240,-1258 1240,-1175 1368,-1175 1368,-1258\"/>\n",
       "<text text-anchor=\"middle\" x=\"1304\" y=\"-1242.8\" font-family=\"Times,serif\" font-size=\"14.00\">Embarked_S &lt;= 0.5</text>\n",
       "<text text-anchor=\"middle\" x=\"1304\" y=\"-1227.8\" font-family=\"Times,serif\" font-size=\"14.00\">gini = 0.252</text>\n",
       "<text text-anchor=\"middle\" x=\"1304\" y=\"-1212.8\" font-family=\"Times,serif\" font-size=\"14.00\">samples = 27</text>\n",
       "<text text-anchor=\"middle\" x=\"1304\" y=\"-1197.8\" font-family=\"Times,serif\" font-size=\"14.00\">value = [23, 4]</text>\n",
       "<text text-anchor=\"middle\" x=\"1304\" y=\"-1182.8\" font-family=\"Times,serif\" font-size=\"14.00\">class = 未生还</text>\n",
       "</g>\n",
       "<!-- 70&#45;&gt;71 -->\n",
       "<g id=\"edge71\" class=\"edge\"><title>70&#45;&gt;71</title>\n",
       "<path fill=\"none\" stroke=\"black\" d=\"M1356.9,-1293.91C1350.74,-1285.01 1344.16,-1275.51 1337.81,-1266.33\"/>\n",
       "<polygon fill=\"black\" stroke=\"black\" points=\"1340.62,-1264.25 1332.05,-1258.02 1334.87,-1268.24 1340.62,-1264.25\"/>\n",
       "</g>\n",
       "<!-- 90 -->\n",
       "<g id=\"node91\" class=\"node\"><title>90</title>\n",
       "<polygon fill=\"#e78a47\" stroke=\"black\" points=\"1518.5,-1258 1413.5,-1258 1413.5,-1175 1518.5,-1175 1518.5,-1258\"/>\n",
       "<text text-anchor=\"middle\" x=\"1466\" y=\"-1242.8\" font-family=\"Times,serif\" font-size=\"14.00\">Age &lt;= 20.5</text>\n",
       "<text text-anchor=\"middle\" x=\"1466\" y=\"-1227.8\" font-family=\"Times,serif\" font-size=\"14.00\">gini = 0.12</text>\n",
       "<text text-anchor=\"middle\" x=\"1466\" y=\"-1212.8\" font-family=\"Times,serif\" font-size=\"14.00\">samples = 109</text>\n",
       "<text text-anchor=\"middle\" x=\"1466\" y=\"-1197.8\" font-family=\"Times,serif\" font-size=\"14.00\">value = [102, 7]</text>\n",
       "<text text-anchor=\"middle\" x=\"1466\" y=\"-1182.8\" font-family=\"Times,serif\" font-size=\"14.00\">class = 未生还</text>\n",
       "</g>\n",
       "<!-- 70&#45;&gt;90 -->\n",
       "<g id=\"edge90\" class=\"edge\"><title>70&#45;&gt;90</title>\n",
       "<path fill=\"none\" stroke=\"black\" d=\"M1413.1,-1293.91C1419.26,-1285.01 1425.84,-1275.51 1432.19,-1266.33\"/>\n",
       "<polygon fill=\"black\" stroke=\"black\" points=\"1435.13,-1268.24 1437.95,-1258.02 1429.38,-1264.25 1435.13,-1268.24\"/>\n",
       "</g>\n",
       "<!-- 72 -->\n",
       "<g id=\"node73\" class=\"node\"><title>72</title>\n",
       "<polygon fill=\"#ffffff\" stroke=\"black\" points=\"832.5,-1139 731.5,-1139 731.5,-1056 832.5,-1056 832.5,-1139\"/>\n",
       "<text text-anchor=\"middle\" x=\"782\" y=\"-1123.8\" font-family=\"Times,serif\" font-size=\"14.00\">Age &lt;= 27.0</text>\n",
       "<text text-anchor=\"middle\" x=\"782\" y=\"-1108.8\" font-family=\"Times,serif\" font-size=\"14.00\">gini = 0.5</text>\n",
       "<text text-anchor=\"middle\" x=\"782\" y=\"-1093.8\" font-family=\"Times,serif\" font-size=\"14.00\">samples = 2</text>\n",
       "<text text-anchor=\"middle\" x=\"782\" y=\"-1078.8\" font-family=\"Times,serif\" font-size=\"14.00\">value = [1, 1]</text>\n",
       "<text text-anchor=\"middle\" x=\"782\" y=\"-1063.8\" font-family=\"Times,serif\" font-size=\"14.00\">class = 未生还</text>\n",
       "</g>\n",
       "<!-- 71&#45;&gt;72 -->\n",
       "<g id=\"edge72\" class=\"edge\"><title>71&#45;&gt;72</title>\n",
       "<path fill=\"none\" stroke=\"black\" d=\"M1239.6,-1178.64C1236.4,-1177.32 1233.19,-1176.09 1230,-1175 1135.46,-1142.54 1106.53,-1155.82 1008,-1139 951.926,-1129.43 888.14,-1117.94 842.664,-1109.65\"/>\n",
       "<polygon fill=\"black\" stroke=\"black\" points=\"843.138,-1106.18 832.672,-1107.83 841.88,-1113.07 843.138,-1106.18\"/>\n",
       "</g>\n",
       "<!-- 75 -->\n",
       "<g id=\"node76\" class=\"node\"><title>75</title>\n",
       "<polygon fill=\"#e99254\" stroke=\"black\" points=\"1118.5,-1139 1017.5,-1139 1017.5,-1056 1118.5,-1056 1118.5,-1139\"/>\n",
       "<text text-anchor=\"middle\" x=\"1068\" y=\"-1123.8\" font-family=\"Times,serif\" font-size=\"14.00\">SibSp &lt;= 0.5</text>\n",
       "<text text-anchor=\"middle\" x=\"1068\" y=\"-1108.8\" font-family=\"Times,serif\" font-size=\"14.00\">gini = 0.211</text>\n",
       "<text text-anchor=\"middle\" x=\"1068\" y=\"-1093.8\" font-family=\"Times,serif\" font-size=\"14.00\">samples = 25</text>\n",
       "<text text-anchor=\"middle\" x=\"1068\" y=\"-1078.8\" font-family=\"Times,serif\" font-size=\"14.00\">value = [22, 3]</text>\n",
       "<text text-anchor=\"middle\" x=\"1068\" y=\"-1063.8\" font-family=\"Times,serif\" font-size=\"14.00\">class = 未生还</text>\n",
       "</g>\n",
       "<!-- 71&#45;&gt;75 -->\n",
       "<g id=\"edge75\" class=\"edge\"><title>71&#45;&gt;75</title>\n",
       "<path fill=\"none\" stroke=\"black\" d=\"M1239.95,-1180.14C1236.59,-1178.38 1233.26,-1176.66 1230,-1175 1196.59,-1157.99 1158.73,-1140.04 1128.02,-1125.8\"/>\n",
       "<polygon fill=\"black\" stroke=\"black\" points=\"1129.27,-1122.53 1118.73,-1121.51 1126.34,-1128.88 1129.27,-1122.53\"/>\n",
       "</g>\n",
       "<!-- 73 -->\n",
       "<g id=\"node74\" class=\"node\"><title>73</title>\n",
       "<polygon fill=\"#e58139\" stroke=\"black\" points=\"717.5,-1012.5 616.5,-1012.5 616.5,-944.5 717.5,-944.5 717.5,-1012.5\"/>\n",
       "<text text-anchor=\"middle\" x=\"667\" y=\"-997.3\" font-family=\"Times,serif\" font-size=\"14.00\">gini = 0.0</text>\n",
       "<text text-anchor=\"middle\" x=\"667\" y=\"-982.3\" font-family=\"Times,serif\" font-size=\"14.00\">samples = 1</text>\n",
       "<text text-anchor=\"middle\" x=\"667\" y=\"-967.3\" font-family=\"Times,serif\" font-size=\"14.00\">value = [1, 0]</text>\n",
       "<text text-anchor=\"middle\" x=\"667\" y=\"-952.3\" font-family=\"Times,serif\" font-size=\"14.00\">class = 未生还</text>\n",
       "</g>\n",
       "<!-- 72&#45;&gt;73 -->\n",
       "<g id=\"edge73\" class=\"edge\"><title>72&#45;&gt;73</title>\n",
       "<path fill=\"none\" stroke=\"black\" d=\"M742.101,-1055.91C730.713,-1044.32 718.306,-1031.7 706.916,-1020.11\"/>\n",
       "<polygon fill=\"black\" stroke=\"black\" points=\"709.106,-1017.35 699.6,-1012.67 704.114,-1022.25 709.106,-1017.35\"/>\n",
       "</g>\n",
       "<!-- 74 -->\n",
       "<g id=\"node75\" class=\"node\"><title>74</title>\n",
       "<polygon fill=\"#399de5\" stroke=\"black\" points=\"828,-1012.5 736,-1012.5 736,-944.5 828,-944.5 828,-1012.5\"/>\n",
       "<text text-anchor=\"middle\" x=\"782\" y=\"-997.3\" font-family=\"Times,serif\" font-size=\"14.00\">gini = 0.0</text>\n",
       "<text text-anchor=\"middle\" x=\"782\" y=\"-982.3\" font-family=\"Times,serif\" font-size=\"14.00\">samples = 1</text>\n",
       "<text text-anchor=\"middle\" x=\"782\" y=\"-967.3\" font-family=\"Times,serif\" font-size=\"14.00\">value = [0, 1]</text>\n",
       "<text text-anchor=\"middle\" x=\"782\" y=\"-952.3\" font-family=\"Times,serif\" font-size=\"14.00\">class = 生还</text>\n",
       "</g>\n",
       "<!-- 72&#45;&gt;74 -->\n",
       "<g id=\"edge74\" class=\"edge\"><title>72&#45;&gt;74</title>\n",
       "<path fill=\"none\" stroke=\"black\" d=\"M782,-1055.91C782,-1045.2 782,-1033.62 782,-1022.78\"/>\n",
       "<polygon fill=\"black\" stroke=\"black\" points=\"785.5,-1022.67 782,-1012.67 778.5,-1022.67 785.5,-1022.67\"/>\n",
       "</g>\n",
       "<!-- 76 -->\n",
       "<g id=\"node77\" class=\"node\"><title>76</title>\n",
       "<polygon fill=\"#e88e4d\" stroke=\"black\" points=\"947.5,-1020 846.5,-1020 846.5,-937 947.5,-937 947.5,-1020\"/>\n",
       "<text text-anchor=\"middle\" x=\"897\" y=\"-1004.8\" font-family=\"Times,serif\" font-size=\"14.00\">Fare &lt;= 7.196</text>\n",
       "<text text-anchor=\"middle\" x=\"897\" y=\"-989.8\" font-family=\"Times,serif\" font-size=\"14.00\">gini = 0.165</text>\n",
       "<text text-anchor=\"middle\" x=\"897\" y=\"-974.8\" font-family=\"Times,serif\" font-size=\"14.00\">samples = 22</text>\n",
       "<text text-anchor=\"middle\" x=\"897\" y=\"-959.8\" font-family=\"Times,serif\" font-size=\"14.00\">value = [20, 2]</text>\n",
       "<text text-anchor=\"middle\" x=\"897\" y=\"-944.8\" font-family=\"Times,serif\" font-size=\"14.00\">class = 未生还</text>\n",
       "</g>\n",
       "<!-- 75&#45;&gt;76 -->\n",
       "<g id=\"edge76\" class=\"edge\"><title>75&#45;&gt;76</title>\n",
       "<path fill=\"none\" stroke=\"black\" d=\"M1017.16,-1061.71C997.947,-1048.57 975.928,-1033.5 956.03,-1019.89\"/>\n",
       "<polygon fill=\"black\" stroke=\"black\" points=\"957.876,-1016.91 947.647,-1014.15 953.923,-1022.69 957.876,-1016.91\"/>\n",
       "</g>\n",
       "<!-- 87 -->\n",
       "<g id=\"node88\" class=\"node\"><title>87</title>\n",
       "<polygon fill=\"#f2c09c\" stroke=\"black\" points=\"1118.5,-1020 1017.5,-1020 1017.5,-937 1118.5,-937 1118.5,-1020\"/>\n",
       "<text text-anchor=\"middle\" x=\"1068\" y=\"-1004.8\" font-family=\"Times,serif\" font-size=\"14.00\">Age &lt;= 23.5</text>\n",
       "<text text-anchor=\"middle\" x=\"1068\" y=\"-989.8\" font-family=\"Times,serif\" font-size=\"14.00\">gini = 0.444</text>\n",
       "<text text-anchor=\"middle\" x=\"1068\" y=\"-974.8\" font-family=\"Times,serif\" font-size=\"14.00\">samples = 3</text>\n",
       "<text text-anchor=\"middle\" x=\"1068\" y=\"-959.8\" font-family=\"Times,serif\" font-size=\"14.00\">value = [2, 1]</text>\n",
       "<text text-anchor=\"middle\" x=\"1068\" y=\"-944.8\" font-family=\"Times,serif\" font-size=\"14.00\">class = 未生还</text>\n",
       "</g>\n",
       "<!-- 75&#45;&gt;87 -->\n",
       "<g id=\"edge87\" class=\"edge\"><title>75&#45;&gt;87</title>\n",
       "<path fill=\"none\" stroke=\"black\" d=\"M1068,-1055.91C1068,-1047.65 1068,-1038.86 1068,-1030.3\"/>\n",
       "<polygon fill=\"black\" stroke=\"black\" points=\"1071.5,-1030.02 1068,-1020.02 1064.5,-1030.02 1071.5,-1030.02\"/>\n",
       "</g>\n",
       "<!-- 77 -->\n",
       "<g id=\"node78\" class=\"node\"><title>77</title>\n",
       "<polygon fill=\"#eeab7b\" stroke=\"black\" points=\"812.5,-901 711.5,-901 711.5,-818 812.5,-818 812.5,-901\"/>\n",
       "<text text-anchor=\"middle\" x=\"762\" y=\"-885.8\" font-family=\"Times,serif\" font-size=\"14.00\">Fare &lt;= 7.133</text>\n",
       "<text text-anchor=\"middle\" x=\"762\" y=\"-870.8\" font-family=\"Times,serif\" font-size=\"14.00\">gini = 0.375</text>\n",
       "<text text-anchor=\"middle\" x=\"762\" y=\"-855.8\" font-family=\"Times,serif\" font-size=\"14.00\">samples = 4</text>\n",
       "<text text-anchor=\"middle\" x=\"762\" y=\"-840.8\" font-family=\"Times,serif\" font-size=\"14.00\">value = [3, 1]</text>\n",
       "<text text-anchor=\"middle\" x=\"762\" y=\"-825.8\" font-family=\"Times,serif\" font-size=\"14.00\">class = 未生还</text>\n",
       "</g>\n",
       "<!-- 76&#45;&gt;77 -->\n",
       "<g id=\"edge77\" class=\"edge\"><title>76&#45;&gt;77</title>\n",
       "<path fill=\"none\" stroke=\"black\" d=\"M850.162,-936.907C839.272,-927.469 827.588,-917.343 816.403,-907.649\"/>\n",
       "<polygon fill=\"black\" stroke=\"black\" points=\"818.604,-904.925 808.755,-901.021 814.019,-910.215 818.604,-904.925\"/>\n",
       "</g>\n",
       "<!-- 80 -->\n",
       "<g id=\"node81\" class=\"node\"><title>80</title>\n",
       "<polygon fill=\"#e78845\" stroke=\"black\" points=\"931.5,-901 830.5,-901 830.5,-818 931.5,-818 931.5,-901\"/>\n",
       "<text text-anchor=\"middle\" x=\"881\" y=\"-885.8\" font-family=\"Times,serif\" font-size=\"14.00\">Fare &lt;= 7.785</text>\n",
       "<text text-anchor=\"middle\" x=\"881\" y=\"-870.8\" font-family=\"Times,serif\" font-size=\"14.00\">gini = 0.105</text>\n",
       "<text text-anchor=\"middle\" x=\"881\" y=\"-855.8\" font-family=\"Times,serif\" font-size=\"14.00\">samples = 18</text>\n",
       "<text text-anchor=\"middle\" x=\"881\" y=\"-840.8\" font-family=\"Times,serif\" font-size=\"14.00\">value = [17, 1]</text>\n",
       "<text text-anchor=\"middle\" x=\"881\" y=\"-825.8\" font-family=\"Times,serif\" font-size=\"14.00\">class = 未生还</text>\n",
       "</g>\n",
       "<!-- 76&#45;&gt;80 -->\n",
       "<g id=\"edge80\" class=\"edge\"><title>76&#45;&gt;80</title>\n",
       "<path fill=\"none\" stroke=\"black\" d=\"M891.449,-936.907C890.307,-928.558 889.092,-919.671 887.909,-911.02\"/>\n",
       "<polygon fill=\"black\" stroke=\"black\" points=\"891.364,-910.454 886.541,-901.021 884.429,-911.403 891.364,-910.454\"/>\n",
       "</g>\n",
       "<!-- 78 -->\n",
       "<g id=\"node79\" class=\"node\"><title>78</title>\n",
       "<polygon fill=\"#e58139\" stroke=\"black\" points=\"797.5,-774.5 696.5,-774.5 696.5,-706.5 797.5,-706.5 797.5,-774.5\"/>\n",
       "<text text-anchor=\"middle\" x=\"747\" y=\"-759.3\" font-family=\"Times,serif\" font-size=\"14.00\">gini = 0.0</text>\n",
       "<text text-anchor=\"middle\" x=\"747\" y=\"-744.3\" font-family=\"Times,serif\" font-size=\"14.00\">samples = 3</text>\n",
       "<text text-anchor=\"middle\" x=\"747\" y=\"-729.3\" font-family=\"Times,serif\" font-size=\"14.00\">value = [3, 0]</text>\n",
       "<text text-anchor=\"middle\" x=\"747\" y=\"-714.3\" font-family=\"Times,serif\" font-size=\"14.00\">class = 未生还</text>\n",
       "</g>\n",
       "<!-- 77&#45;&gt;78 -->\n",
       "<g id=\"edge78\" class=\"edge\"><title>77&#45;&gt;78</title>\n",
       "<path fill=\"none\" stroke=\"black\" d=\"M756.796,-817.907C755.424,-807.204 753.938,-795.615 752.548,-784.776\"/>\n",
       "<polygon fill=\"black\" stroke=\"black\" points=\"755.995,-784.141 751.252,-774.667 749.052,-785.031 755.995,-784.141\"/>\n",
       "</g>\n",
       "<!-- 79 -->\n",
       "<g id=\"node80\" class=\"node\"><title>79</title>\n",
       "<polygon fill=\"#399de5\" stroke=\"black\" points=\"908,-774.5 816,-774.5 816,-706.5 908,-706.5 908,-774.5\"/>\n",
       "<text text-anchor=\"middle\" x=\"862\" y=\"-759.3\" font-family=\"Times,serif\" font-size=\"14.00\">gini = 0.0</text>\n",
       "<text text-anchor=\"middle\" x=\"862\" y=\"-744.3\" font-family=\"Times,serif\" font-size=\"14.00\">samples = 1</text>\n",
       "<text text-anchor=\"middle\" x=\"862\" y=\"-729.3\" font-family=\"Times,serif\" font-size=\"14.00\">value = [0, 1]</text>\n",
       "<text text-anchor=\"middle\" x=\"862\" y=\"-714.3\" font-family=\"Times,serif\" font-size=\"14.00\">class = 生还</text>\n",
       "</g>\n",
       "<!-- 77&#45;&gt;79 -->\n",
       "<g id=\"edge79\" class=\"edge\"><title>77&#45;&gt;79</title>\n",
       "<path fill=\"none\" stroke=\"black\" d=\"M796.695,-817.907C806.503,-806.432 817.181,-793.938 827.007,-782.442\"/>\n",
       "<polygon fill=\"black\" stroke=\"black\" points=\"829.816,-784.543 833.652,-774.667 824.494,-779.995 829.816,-784.543\"/>\n",
       "</g>\n",
       "<!-- 81 -->\n",
       "<g id=\"node82\" class=\"node\"><title>81</title>\n",
       "<polygon fill=\"#e58139\" stroke=\"black\" points=\"1027.5,-774.5 926.5,-774.5 926.5,-706.5 1027.5,-706.5 1027.5,-774.5\"/>\n",
       "<text text-anchor=\"middle\" x=\"977\" y=\"-759.3\" font-family=\"Times,serif\" font-size=\"14.00\">gini = 0.0</text>\n",
       "<text text-anchor=\"middle\" x=\"977\" y=\"-744.3\" font-family=\"Times,serif\" font-size=\"14.00\">samples = 14</text>\n",
       "<text text-anchor=\"middle\" x=\"977\" y=\"-729.3\" font-family=\"Times,serif\" font-size=\"14.00\">value = [14, 0]</text>\n",
       "<text text-anchor=\"middle\" x=\"977\" y=\"-714.3\" font-family=\"Times,serif\" font-size=\"14.00\">class = 未生还</text>\n",
       "</g>\n",
       "<!-- 80&#45;&gt;81 -->\n",
       "<g id=\"edge81\" class=\"edge\"><title>80&#45;&gt;81</title>\n",
       "<path fill=\"none\" stroke=\"black\" d=\"M914.307,-817.907C923.723,-806.432 933.974,-793.938 943.407,-782.442\"/>\n",
       "<polygon fill=\"black\" stroke=\"black\" points=\"946.149,-784.618 949.786,-774.667 940.737,-780.178 946.149,-784.618\"/>\n",
       "</g>\n",
       "<!-- 82 -->\n",
       "<g id=\"node83\" class=\"node\"><title>82</title>\n",
       "<polygon fill=\"#eeab7b\" stroke=\"black\" points=\"1146.5,-782 1045.5,-782 1045.5,-699 1146.5,-699 1146.5,-782\"/>\n",
       "<text text-anchor=\"middle\" x=\"1096\" y=\"-766.8\" font-family=\"Times,serif\" font-size=\"14.00\">Age &lt;= 21.5</text>\n",
       "<text text-anchor=\"middle\" x=\"1096\" y=\"-751.8\" font-family=\"Times,serif\" font-size=\"14.00\">gini = 0.375</text>\n",
       "<text text-anchor=\"middle\" x=\"1096\" y=\"-736.8\" font-family=\"Times,serif\" font-size=\"14.00\">samples = 4</text>\n",
       "<text text-anchor=\"middle\" x=\"1096\" y=\"-721.8\" font-family=\"Times,serif\" font-size=\"14.00\">value = [3, 1]</text>\n",
       "<text text-anchor=\"middle\" x=\"1096\" y=\"-706.8\" font-family=\"Times,serif\" font-size=\"14.00\">class = 未生还</text>\n",
       "</g>\n",
       "<!-- 80&#45;&gt;82 -->\n",
       "<g id=\"edge82\" class=\"edge\"><title>80&#45;&gt;82</title>\n",
       "<path fill=\"none\" stroke=\"black\" d=\"M931.693,-822.588C934.466,-820.976 937.245,-819.435 940,-818 980.415,-796.951 995.503,-802.891 1036,-782 1036.2,-781.899 1036.39,-781.798 1036.59,-781.696\"/>\n",
       "<polygon fill=\"black\" stroke=\"black\" points=\"1038.37,-784.708 1045.44,-776.813 1034.99,-778.579 1038.37,-784.708\"/>\n",
       "</g>\n",
       "<!-- 83 -->\n",
       "<g id=\"node84\" class=\"node\"><title>83</title>\n",
       "<polygon fill=\"#ffffff\" stroke=\"black\" points=\"1049.5,-663 948.5,-663 948.5,-580 1049.5,-580 1049.5,-663\"/>\n",
       "<text text-anchor=\"middle\" x=\"999\" y=\"-647.8\" font-family=\"Times,serif\" font-size=\"14.00\">Age &lt;= 19.5</text>\n",
       "<text text-anchor=\"middle\" x=\"999\" y=\"-632.8\" font-family=\"Times,serif\" font-size=\"14.00\">gini = 0.5</text>\n",
       "<text text-anchor=\"middle\" x=\"999\" y=\"-617.8\" font-family=\"Times,serif\" font-size=\"14.00\">samples = 2</text>\n",
       "<text text-anchor=\"middle\" x=\"999\" y=\"-602.8\" font-family=\"Times,serif\" font-size=\"14.00\">value = [1, 1]</text>\n",
       "<text text-anchor=\"middle\" x=\"999\" y=\"-587.8\" font-family=\"Times,serif\" font-size=\"14.00\">class = 未生还</text>\n",
       "</g>\n",
       "<!-- 82&#45;&gt;83 -->\n",
       "<g id=\"edge83\" class=\"edge\"><title>82&#45;&gt;83</title>\n",
       "<path fill=\"none\" stroke=\"black\" d=\"M1062.35,-698.907C1054.82,-689.832 1046.77,-680.121 1039.02,-670.769\"/>\n",
       "<polygon fill=\"black\" stroke=\"black\" points=\"1041.67,-668.485 1032.59,-663.021 1036.28,-672.953 1041.67,-668.485\"/>\n",
       "</g>\n",
       "<!-- 86 -->\n",
       "<g id=\"node87\" class=\"node\"><title>86</title>\n",
       "<polygon fill=\"#e58139\" stroke=\"black\" points=\"1168.5,-655.5 1067.5,-655.5 1067.5,-587.5 1168.5,-587.5 1168.5,-655.5\"/>\n",
       "<text text-anchor=\"middle\" x=\"1118\" y=\"-640.3\" font-family=\"Times,serif\" font-size=\"14.00\">gini = 0.0</text>\n",
       "<text text-anchor=\"middle\" x=\"1118\" y=\"-625.3\" font-family=\"Times,serif\" font-size=\"14.00\">samples = 2</text>\n",
       "<text text-anchor=\"middle\" x=\"1118\" y=\"-610.3\" font-family=\"Times,serif\" font-size=\"14.00\">value = [2, 0]</text>\n",
       "<text text-anchor=\"middle\" x=\"1118\" y=\"-595.3\" font-family=\"Times,serif\" font-size=\"14.00\">class = 未生还</text>\n",
       "</g>\n",
       "<!-- 82&#45;&gt;86 -->\n",
       "<g id=\"edge86\" class=\"edge\"><title>82&#45;&gt;86</title>\n",
       "<path fill=\"none\" stroke=\"black\" d=\"M1103.63,-698.907C1105.65,-688.204 1107.82,-676.615 1109.86,-665.776\"/>\n",
       "<polygon fill=\"black\" stroke=\"black\" points=\"1113.36,-666.142 1111.76,-655.667 1106.48,-664.848 1113.36,-666.142\"/>\n",
       "</g>\n",
       "<!-- 84 -->\n",
       "<g id=\"node85\" class=\"node\"><title>84</title>\n",
       "<polygon fill=\"#e58139\" stroke=\"black\" points=\"992.5,-536.5 891.5,-536.5 891.5,-468.5 992.5,-468.5 992.5,-536.5\"/>\n",
       "<text text-anchor=\"middle\" x=\"942\" y=\"-521.3\" font-family=\"Times,serif\" font-size=\"14.00\">gini = 0.0</text>\n",
       "<text text-anchor=\"middle\" x=\"942\" y=\"-506.3\" font-family=\"Times,serif\" font-size=\"14.00\">samples = 1</text>\n",
       "<text text-anchor=\"middle\" x=\"942\" y=\"-491.3\" font-family=\"Times,serif\" font-size=\"14.00\">value = [1, 0]</text>\n",
       "<text text-anchor=\"middle\" x=\"942\" y=\"-476.3\" font-family=\"Times,serif\" font-size=\"14.00\">class = 未生还</text>\n",
       "</g>\n",
       "<!-- 83&#45;&gt;84 -->\n",
       "<g id=\"edge84\" class=\"edge\"><title>83&#45;&gt;84</title>\n",
       "<path fill=\"none\" stroke=\"black\" d=\"M979.224,-579.907C973.848,-568.873 968.014,-556.898 962.594,-545.773\"/>\n",
       "<polygon fill=\"black\" stroke=\"black\" points=\"965.684,-544.124 958.158,-536.667 959.392,-547.19 965.684,-544.124\"/>\n",
       "</g>\n",
       "<!-- 85 -->\n",
       "<g id=\"node86\" class=\"node\"><title>85</title>\n",
       "<polygon fill=\"#399de5\" stroke=\"black\" points=\"1103,-536.5 1011,-536.5 1011,-468.5 1103,-468.5 1103,-536.5\"/>\n",
       "<text text-anchor=\"middle\" x=\"1057\" y=\"-521.3\" font-family=\"Times,serif\" font-size=\"14.00\">gini = 0.0</text>\n",
       "<text text-anchor=\"middle\" x=\"1057\" y=\"-506.3\" font-family=\"Times,serif\" font-size=\"14.00\">samples = 1</text>\n",
       "<text text-anchor=\"middle\" x=\"1057\" y=\"-491.3\" font-family=\"Times,serif\" font-size=\"14.00\">value = [0, 1]</text>\n",
       "<text text-anchor=\"middle\" x=\"1057\" y=\"-476.3\" font-family=\"Times,serif\" font-size=\"14.00\">class = 生还</text>\n",
       "</g>\n",
       "<!-- 83&#45;&gt;85 -->\n",
       "<g id=\"edge85\" class=\"edge\"><title>83&#45;&gt;85</title>\n",
       "<path fill=\"none\" stroke=\"black\" d=\"M1019.12,-579.907C1024.59,-568.873 1030.53,-556.898 1036.04,-545.773\"/>\n",
       "<polygon fill=\"black\" stroke=\"black\" points=\"1039.25,-547.181 1040.56,-536.667 1032.98,-544.072 1039.25,-547.181\"/>\n",
       "</g>\n",
       "<!-- 88 -->\n",
       "<g id=\"node89\" class=\"node\"><title>88</title>\n",
       "<polygon fill=\"#e58139\" stroke=\"black\" points=\"1050.5,-893.5 949.5,-893.5 949.5,-825.5 1050.5,-825.5 1050.5,-893.5\"/>\n",
       "<text text-anchor=\"middle\" x=\"1000\" y=\"-878.3\" font-family=\"Times,serif\" font-size=\"14.00\">gini = 0.0</text>\n",
       "<text text-anchor=\"middle\" x=\"1000\" y=\"-863.3\" font-family=\"Times,serif\" font-size=\"14.00\">samples = 1</text>\n",
       "<text text-anchor=\"middle\" x=\"1000\" y=\"-848.3\" font-family=\"Times,serif\" font-size=\"14.00\">value = [1, 0]</text>\n",
       "<text text-anchor=\"middle\" x=\"1000\" y=\"-833.3\" font-family=\"Times,serif\" font-size=\"14.00\">class = 未生还</text>\n",
       "</g>\n",
       "<!-- 87&#45;&gt;88 -->\n",
       "<g id=\"edge88\" class=\"edge\"><title>87&#45;&gt;88</title>\n",
       "<path fill=\"none\" stroke=\"black\" d=\"M1044.41,-936.907C1037.93,-925.763 1030.9,-913.658 1024.37,-902.439\"/>\n",
       "<polygon fill=\"black\" stroke=\"black\" points=\"1027.33,-900.554 1019.28,-893.667 1021.28,-904.072 1027.33,-900.554\"/>\n",
       "</g>\n",
       "<!-- 89 -->\n",
       "<g id=\"node90\" class=\"node\"><title>89</title>\n",
       "<polygon fill=\"#ffffff\" stroke=\"black\" points=\"1169.5,-893.5 1068.5,-893.5 1068.5,-825.5 1169.5,-825.5 1169.5,-893.5\"/>\n",
       "<text text-anchor=\"middle\" x=\"1119\" y=\"-878.3\" font-family=\"Times,serif\" font-size=\"14.00\">gini = 0.5</text>\n",
       "<text text-anchor=\"middle\" x=\"1119\" y=\"-863.3\" font-family=\"Times,serif\" font-size=\"14.00\">samples = 2</text>\n",
       "<text text-anchor=\"middle\" x=\"1119\" y=\"-848.3\" font-family=\"Times,serif\" font-size=\"14.00\">value = [1, 1]</text>\n",
       "<text text-anchor=\"middle\" x=\"1119\" y=\"-833.3\" font-family=\"Times,serif\" font-size=\"14.00\">class = 未生还</text>\n",
       "</g>\n",
       "<!-- 87&#45;&gt;89 -->\n",
       "<g id=\"edge89\" class=\"edge\"><title>87&#45;&gt;89</title>\n",
       "<path fill=\"none\" stroke=\"black\" d=\"M1085.69,-936.907C1090.46,-925.983 1095.62,-914.137 1100.43,-903.107\"/>\n",
       "<polygon fill=\"black\" stroke=\"black\" points=\"1103.76,-904.232 1104.54,-893.667 1097.34,-901.435 1103.76,-904.232\"/>\n",
       "</g>\n",
       "<!-- 91 -->\n",
       "<g id=\"node92\" class=\"node\"><title>91</title>\n",
       "<polygon fill=\"#e89152\" stroke=\"black\" points=\"1516.5,-1139 1415.5,-1139 1415.5,-1056 1516.5,-1056 1516.5,-1139\"/>\n",
       "<text text-anchor=\"middle\" x=\"1466\" y=\"-1123.8\" font-family=\"Times,serif\" font-size=\"14.00\">Fare &lt;= 8.104</text>\n",
       "<text text-anchor=\"middle\" x=\"1466\" y=\"-1108.8\" font-family=\"Times,serif\" font-size=\"14.00\">gini = 0.201</text>\n",
       "<text text-anchor=\"middle\" x=\"1466\" y=\"-1093.8\" font-family=\"Times,serif\" font-size=\"14.00\">samples = 44</text>\n",
       "<text text-anchor=\"middle\" x=\"1466\" y=\"-1078.8\" font-family=\"Times,serif\" font-size=\"14.00\">value = [39, 5]</text>\n",
       "<text text-anchor=\"middle\" x=\"1466\" y=\"-1063.8\" font-family=\"Times,serif\" font-size=\"14.00\">class = 未生还</text>\n",
       "</g>\n",
       "<!-- 90&#45;&gt;91 -->\n",
       "<g id=\"edge91\" class=\"edge\"><title>90&#45;&gt;91</title>\n",
       "<path fill=\"none\" stroke=\"black\" d=\"M1466,-1174.91C1466,-1166.65 1466,-1157.86 1466,-1149.3\"/>\n",
       "<polygon fill=\"black\" stroke=\"black\" points=\"1469.5,-1149.02 1466,-1139.02 1462.5,-1149.02 1469.5,-1149.02\"/>\n",
       "</g>\n",
       "<!-- 110 -->\n",
       "<g id=\"node111\" class=\"node\"><title>110</title>\n",
       "<polygon fill=\"#e6853f\" stroke=\"black\" points=\"1766,-1139 1664,-1139 1664,-1056 1766,-1056 1766,-1139\"/>\n",
       "<text text-anchor=\"middle\" x=\"1715\" y=\"-1123.8\" font-family=\"Times,serif\" font-size=\"14.00\">Fare &lt;= 44.748</text>\n",
       "<text text-anchor=\"middle\" x=\"1715\" y=\"-1108.8\" font-family=\"Times,serif\" font-size=\"14.00\">gini = 0.06</text>\n",
       "<text text-anchor=\"middle\" x=\"1715\" y=\"-1093.8\" font-family=\"Times,serif\" font-size=\"14.00\">samples = 65</text>\n",
       "<text text-anchor=\"middle\" x=\"1715\" y=\"-1078.8\" font-family=\"Times,serif\" font-size=\"14.00\">value = [63, 2]</text>\n",
       "<text text-anchor=\"middle\" x=\"1715\" y=\"-1063.8\" font-family=\"Times,serif\" font-size=\"14.00\">class = 未生还</text>\n",
       "</g>\n",
       "<!-- 90&#45;&gt;110 -->\n",
       "<g id=\"edge110\" class=\"edge\"><title>90&#45;&gt;110</title>\n",
       "<path fill=\"none\" stroke=\"black\" d=\"M1518.5,-1190.83C1558.3,-1172.13 1613.05,-1146.41 1654.65,-1126.86\"/>\n",
       "<polygon fill=\"black\" stroke=\"black\" points=\"1656.29,-1129.96 1663.85,-1122.54 1653.31,-1123.62 1656.29,-1129.96\"/>\n",
       "</g>\n",
       "<!-- 92 -->\n",
       "<g id=\"node93\" class=\"node\"><title>92</title>\n",
       "<polygon fill=\"#efb083\" stroke=\"black\" points=\"1407.5,-1020 1306.5,-1020 1306.5,-937 1407.5,-937 1407.5,-1020\"/>\n",
       "<text text-anchor=\"middle\" x=\"1357\" y=\"-1004.8\" font-family=\"Times,serif\" font-size=\"14.00\">Fare &lt;= 7.91</text>\n",
       "<text text-anchor=\"middle\" x=\"1357\" y=\"-989.8\" font-family=\"Times,serif\" font-size=\"14.00\">gini = 0.397</text>\n",
       "<text text-anchor=\"middle\" x=\"1357\" y=\"-974.8\" font-family=\"Times,serif\" font-size=\"14.00\">samples = 11</text>\n",
       "<text text-anchor=\"middle\" x=\"1357\" y=\"-959.8\" font-family=\"Times,serif\" font-size=\"14.00\">value = [8, 3]</text>\n",
       "<text text-anchor=\"middle\" x=\"1357\" y=\"-944.8\" font-family=\"Times,serif\" font-size=\"14.00\">class = 未生还</text>\n",
       "</g>\n",
       "<!-- 91&#45;&gt;92 -->\n",
       "<g id=\"edge92\" class=\"edge\"><title>91&#45;&gt;92</title>\n",
       "<path fill=\"none\" stroke=\"black\" d=\"M1428.18,-1055.91C1419.64,-1046.74 1410.5,-1036.93 1401.71,-1027.49\"/>\n",
       "<polygon fill=\"black\" stroke=\"black\" points=\"1404.13,-1024.95 1394.75,-1020.02 1399.01,-1029.72 1404.13,-1024.95\"/>\n",
       "</g>\n",
       "<!-- 99 -->\n",
       "<g id=\"node100\" class=\"node\"><title>99</title>\n",
       "<polygon fill=\"#e78946\" stroke=\"black\" points=\"1526.5,-1020 1425.5,-1020 1425.5,-937 1526.5,-937 1526.5,-1020\"/>\n",
       "<text text-anchor=\"middle\" x=\"1476\" y=\"-1004.8\" font-family=\"Times,serif\" font-size=\"14.00\">SibSp &lt;= 0.5</text>\n",
       "<text text-anchor=\"middle\" x=\"1476\" y=\"-989.8\" font-family=\"Times,serif\" font-size=\"14.00\">gini = 0.114</text>\n",
       "<text text-anchor=\"middle\" x=\"1476\" y=\"-974.8\" font-family=\"Times,serif\" font-size=\"14.00\">samples = 33</text>\n",
       "<text text-anchor=\"middle\" x=\"1476\" y=\"-959.8\" font-family=\"Times,serif\" font-size=\"14.00\">value = [31, 2]</text>\n",
       "<text text-anchor=\"middle\" x=\"1476\" y=\"-944.8\" font-family=\"Times,serif\" font-size=\"14.00\">class = 未生还</text>\n",
       "</g>\n",
       "<!-- 91&#45;&gt;99 -->\n",
       "<g id=\"edge99\" class=\"edge\"><title>91&#45;&gt;99</title>\n",
       "<path fill=\"none\" stroke=\"black\" d=\"M1469.47,-1055.91C1470.18,-1047.56 1470.94,-1038.67 1471.68,-1030.02\"/>\n",
       "<polygon fill=\"black\" stroke=\"black\" points=\"1475.17,-1030.28 1472.54,-1020.02 1468.2,-1029.69 1475.17,-1030.28\"/>\n",
       "</g>\n",
       "<!-- 93 -->\n",
       "<g id=\"node94\" class=\"node\"><title>93</title>\n",
       "<polygon fill=\"#e58139\" stroke=\"black\" points=\"1288.5,-893.5 1187.5,-893.5 1187.5,-825.5 1288.5,-825.5 1288.5,-893.5\"/>\n",
       "<text text-anchor=\"middle\" x=\"1238\" y=\"-878.3\" font-family=\"Times,serif\" font-size=\"14.00\">gini = 0.0</text>\n",
       "<text text-anchor=\"middle\" x=\"1238\" y=\"-863.3\" font-family=\"Times,serif\" font-size=\"14.00\">samples = 5</text>\n",
       "<text text-anchor=\"middle\" x=\"1238\" y=\"-848.3\" font-family=\"Times,serif\" font-size=\"14.00\">value = [5, 0]</text>\n",
       "<text text-anchor=\"middle\" x=\"1238\" y=\"-833.3\" font-family=\"Times,serif\" font-size=\"14.00\">class = 未生还</text>\n",
       "</g>\n",
       "<!-- 92&#45;&gt;93 -->\n",
       "<g id=\"edge93\" class=\"edge\"><title>92&#45;&gt;93</title>\n",
       "<path fill=\"none\" stroke=\"black\" d=\"M1315.71,-936.907C1303.82,-925.211 1290.85,-912.457 1278.97,-900.78\"/>\n",
       "<polygon fill=\"black\" stroke=\"black\" points=\"1281.32,-898.182 1271.73,-893.667 1276.41,-903.174 1281.32,-898.182\"/>\n",
       "</g>\n",
       "<!-- 94 -->\n",
       "<g id=\"node95\" class=\"node\"><title>94</title>\n",
       "<polygon fill=\"#ffffff\" stroke=\"black\" points=\"1407.5,-901 1306.5,-901 1306.5,-818 1407.5,-818 1407.5,-901\"/>\n",
       "<text text-anchor=\"middle\" x=\"1357\" y=\"-885.8\" font-family=\"Times,serif\" font-size=\"14.00\">Age &lt;= 18.5</text>\n",
       "<text text-anchor=\"middle\" x=\"1357\" y=\"-870.8\" font-family=\"Times,serif\" font-size=\"14.00\">gini = 0.5</text>\n",
       "<text text-anchor=\"middle\" x=\"1357\" y=\"-855.8\" font-family=\"Times,serif\" font-size=\"14.00\">samples = 6</text>\n",
       "<text text-anchor=\"middle\" x=\"1357\" y=\"-840.8\" font-family=\"Times,serif\" font-size=\"14.00\">value = [3, 3]</text>\n",
       "<text text-anchor=\"middle\" x=\"1357\" y=\"-825.8\" font-family=\"Times,serif\" font-size=\"14.00\">class = 未生还</text>\n",
       "</g>\n",
       "<!-- 92&#45;&gt;94 -->\n",
       "<g id=\"edge94\" class=\"edge\"><title>92&#45;&gt;94</title>\n",
       "<path fill=\"none\" stroke=\"black\" d=\"M1357,-936.907C1357,-928.649 1357,-919.864 1357,-911.302\"/>\n",
       "<polygon fill=\"black\" stroke=\"black\" points=\"1360.5,-911.021 1357,-901.021 1353.5,-911.021 1360.5,-911.021\"/>\n",
       "</g>\n",
       "<!-- 95 -->\n",
       "<g id=\"node96\" class=\"node\"><title>95</title>\n",
       "<polygon fill=\"#399de5\" stroke=\"black\" points=\"1288,-774.5 1196,-774.5 1196,-706.5 1288,-706.5 1288,-774.5\"/>\n",
       "<text text-anchor=\"middle\" x=\"1242\" y=\"-759.3\" font-family=\"Times,serif\" font-size=\"14.00\">gini = 0.0</text>\n",
       "<text text-anchor=\"middle\" x=\"1242\" y=\"-744.3\" font-family=\"Times,serif\" font-size=\"14.00\">samples = 2</text>\n",
       "<text text-anchor=\"middle\" x=\"1242\" y=\"-729.3\" font-family=\"Times,serif\" font-size=\"14.00\">value = [0, 2]</text>\n",
       "<text text-anchor=\"middle\" x=\"1242\" y=\"-714.3\" font-family=\"Times,serif\" font-size=\"14.00\">class = 生还</text>\n",
       "</g>\n",
       "<!-- 94&#45;&gt;95 -->\n",
       "<g id=\"edge95\" class=\"edge\"><title>94&#45;&gt;95</title>\n",
       "<path fill=\"none\" stroke=\"black\" d=\"M1317.1,-817.907C1305.71,-806.321 1293.31,-793.698 1281.92,-782.111\"/>\n",
       "<polygon fill=\"black\" stroke=\"black\" points=\"1284.11,-779.345 1274.6,-774.667 1279.11,-784.252 1284.11,-779.345\"/>\n",
       "</g>\n",
       "<!-- 96 -->\n",
       "<g id=\"node97\" class=\"node\"><title>96</title>\n",
       "<polygon fill=\"#eeab7b\" stroke=\"black\" points=\"1407.5,-782 1306.5,-782 1306.5,-699 1407.5,-699 1407.5,-782\"/>\n",
       "<text text-anchor=\"middle\" x=\"1357\" y=\"-766.8\" font-family=\"Times,serif\" font-size=\"14.00\">SibSp &lt;= 0.5</text>\n",
       "<text text-anchor=\"middle\" x=\"1357\" y=\"-751.8\" font-family=\"Times,serif\" font-size=\"14.00\">gini = 0.375</text>\n",
       "<text text-anchor=\"middle\" x=\"1357\" y=\"-736.8\" font-family=\"Times,serif\" font-size=\"14.00\">samples = 4</text>\n",
       "<text text-anchor=\"middle\" x=\"1357\" y=\"-721.8\" font-family=\"Times,serif\" font-size=\"14.00\">value = [3, 1]</text>\n",
       "<text text-anchor=\"middle\" x=\"1357\" y=\"-706.8\" font-family=\"Times,serif\" font-size=\"14.00\">class = 未生还</text>\n",
       "</g>\n",
       "<!-- 94&#45;&gt;96 -->\n",
       "<g id=\"edge96\" class=\"edge\"><title>94&#45;&gt;96</title>\n",
       "<path fill=\"none\" stroke=\"black\" d=\"M1357,-817.907C1357,-809.649 1357,-800.864 1357,-792.302\"/>\n",
       "<polygon fill=\"black\" stroke=\"black\" points=\"1360.5,-792.021 1357,-782.021 1353.5,-792.021 1360.5,-792.021\"/>\n",
       "</g>\n",
       "<!-- 97 -->\n",
       "<g id=\"node98\" class=\"node\"><title>97</title>\n",
       "<polygon fill=\"#e58139\" stroke=\"black\" points=\"1294.5,-655.5 1193.5,-655.5 1193.5,-587.5 1294.5,-587.5 1294.5,-655.5\"/>\n",
       "<text text-anchor=\"middle\" x=\"1244\" y=\"-640.3\" font-family=\"Times,serif\" font-size=\"14.00\">gini = 0.0</text>\n",
       "<text text-anchor=\"middle\" x=\"1244\" y=\"-625.3\" font-family=\"Times,serif\" font-size=\"14.00\">samples = 3</text>\n",
       "<text text-anchor=\"middle\" x=\"1244\" y=\"-610.3\" font-family=\"Times,serif\" font-size=\"14.00\">value = [3, 0]</text>\n",
       "<text text-anchor=\"middle\" x=\"1244\" y=\"-595.3\" font-family=\"Times,serif\" font-size=\"14.00\">class = 未生还</text>\n",
       "</g>\n",
       "<!-- 96&#45;&gt;97 -->\n",
       "<g id=\"edge97\" class=\"edge\"><title>96&#45;&gt;97</title>\n",
       "<path fill=\"none\" stroke=\"black\" d=\"M1317.8,-698.907C1306.61,-687.321 1294.41,-674.698 1283.22,-663.111\"/>\n",
       "<polygon fill=\"black\" stroke=\"black\" points=\"1285.5,-660.428 1276.03,-655.667 1280.46,-665.291 1285.5,-660.428\"/>\n",
       "</g>\n",
       "<!-- 98 -->\n",
       "<g id=\"node99\" class=\"node\"><title>98</title>\n",
       "<polygon fill=\"#399de5\" stroke=\"black\" points=\"1405,-655.5 1313,-655.5 1313,-587.5 1405,-587.5 1405,-655.5\"/>\n",
       "<text text-anchor=\"middle\" x=\"1359\" y=\"-640.3\" font-family=\"Times,serif\" font-size=\"14.00\">gini = 0.0</text>\n",
       "<text text-anchor=\"middle\" x=\"1359\" y=\"-625.3\" font-family=\"Times,serif\" font-size=\"14.00\">samples = 1</text>\n",
       "<text text-anchor=\"middle\" x=\"1359\" y=\"-610.3\" font-family=\"Times,serif\" font-size=\"14.00\">value = [0, 1]</text>\n",
       "<text text-anchor=\"middle\" x=\"1359\" y=\"-595.3\" font-family=\"Times,serif\" font-size=\"14.00\">class = 生还</text>\n",
       "</g>\n",
       "<!-- 96&#45;&gt;98 -->\n",
       "<g id=\"edge98\" class=\"edge\"><title>96&#45;&gt;98</title>\n",
       "<path fill=\"none\" stroke=\"black\" d=\"M1357.69,-698.907C1357.88,-688.204 1358.07,-676.615 1358.26,-665.776\"/>\n",
       "<polygon fill=\"black\" stroke=\"black\" points=\"1361.76,-665.725 1358.43,-655.667 1354.76,-665.606 1361.76,-665.725\"/>\n",
       "</g>\n",
       "<!-- 100 -->\n",
       "<g id=\"node101\" class=\"node\"><title>100</title>\n",
       "<polygon fill=\"#e89152\" stroke=\"black\" points=\"1526.5,-901 1425.5,-901 1425.5,-818 1526.5,-818 1526.5,-901\"/>\n",
       "<text text-anchor=\"middle\" x=\"1476\" y=\"-885.8\" font-family=\"Times,serif\" font-size=\"14.00\">Parch &lt;= 1.0</text>\n",
       "<text text-anchor=\"middle\" x=\"1476\" y=\"-870.8\" font-family=\"Times,serif\" font-size=\"14.00\">gini = 0.198</text>\n",
       "<text text-anchor=\"middle\" x=\"1476\" y=\"-855.8\" font-family=\"Times,serif\" font-size=\"14.00\">samples = 18</text>\n",
       "<text text-anchor=\"middle\" x=\"1476\" y=\"-840.8\" font-family=\"Times,serif\" font-size=\"14.00\">value = [16, 2]</text>\n",
       "<text text-anchor=\"middle\" x=\"1476\" y=\"-825.8\" font-family=\"Times,serif\" font-size=\"14.00\">class = 未生还</text>\n",
       "</g>\n",
       "<!-- 99&#45;&gt;100 -->\n",
       "<g id=\"edge100\" class=\"edge\"><title>99&#45;&gt;100</title>\n",
       "<path fill=\"none\" stroke=\"black\" d=\"M1476,-936.907C1476,-928.649 1476,-919.864 1476,-911.302\"/>\n",
       "<polygon fill=\"black\" stroke=\"black\" points=\"1479.5,-911.021 1476,-901.021 1472.5,-911.021 1479.5,-911.021\"/>\n",
       "</g>\n",
       "<!-- 109 -->\n",
       "<g id=\"node110\" class=\"node\"><title>109</title>\n",
       "<polygon fill=\"#e58139\" stroke=\"black\" points=\"1645.5,-893.5 1544.5,-893.5 1544.5,-825.5 1645.5,-825.5 1645.5,-893.5\"/>\n",
       "<text text-anchor=\"middle\" x=\"1595\" y=\"-878.3\" font-family=\"Times,serif\" font-size=\"14.00\">gini = 0.0</text>\n",
       "<text text-anchor=\"middle\" x=\"1595\" y=\"-863.3\" font-family=\"Times,serif\" font-size=\"14.00\">samples = 15</text>\n",
       "<text text-anchor=\"middle\" x=\"1595\" y=\"-848.3\" font-family=\"Times,serif\" font-size=\"14.00\">value = [15, 0]</text>\n",
       "<text text-anchor=\"middle\" x=\"1595\" y=\"-833.3\" font-family=\"Times,serif\" font-size=\"14.00\">class = 未生还</text>\n",
       "</g>\n",
       "<!-- 99&#45;&gt;109 -->\n",
       "<g id=\"edge109\" class=\"edge\"><title>99&#45;&gt;109</title>\n",
       "<path fill=\"none\" stroke=\"black\" d=\"M1517.29,-936.907C1529.18,-925.211 1542.15,-912.457 1554.03,-900.78\"/>\n",
       "<polygon fill=\"black\" stroke=\"black\" points=\"1556.59,-903.174 1561.27,-893.667 1551.68,-898.182 1556.59,-903.174\"/>\n",
       "</g>\n",
       "<!-- 101 -->\n",
       "<g id=\"node102\" class=\"node\"><title>101</title>\n",
       "<polygon fill=\"#e78945\" stroke=\"black\" points=\"1528,-782 1426,-782 1426,-699 1528,-699 1528,-782\"/>\n",
       "<text text-anchor=\"middle\" x=\"1477\" y=\"-766.8\" font-family=\"Times,serif\" font-size=\"14.00\">Fare &lt;= 10.173</text>\n",
       "<text text-anchor=\"middle\" x=\"1477\" y=\"-751.8\" font-family=\"Times,serif\" font-size=\"14.00\">gini = 0.111</text>\n",
       "<text text-anchor=\"middle\" x=\"1477\" y=\"-736.8\" font-family=\"Times,serif\" font-size=\"14.00\">samples = 17</text>\n",
       "<text text-anchor=\"middle\" x=\"1477\" y=\"-721.8\" font-family=\"Times,serif\" font-size=\"14.00\">value = [16, 1]</text>\n",
       "<text text-anchor=\"middle\" x=\"1477\" y=\"-706.8\" font-family=\"Times,serif\" font-size=\"14.00\">class = 未生还</text>\n",
       "</g>\n",
       "<!-- 100&#45;&gt;101 -->\n",
       "<g id=\"edge101\" class=\"edge\"><title>100&#45;&gt;101</title>\n",
       "<path fill=\"none\" stroke=\"black\" d=\"M1476.35,-817.907C1476.42,-809.649 1476.49,-800.864 1476.57,-792.302\"/>\n",
       "<polygon fill=\"black\" stroke=\"black\" points=\"1480.07,-792.05 1476.65,-782.021 1473.07,-791.99 1480.07,-792.05\"/>\n",
       "</g>\n",
       "<!-- 108 -->\n",
       "<g id=\"node109\" class=\"node\"><title>108</title>\n",
       "<polygon fill=\"#399de5\" stroke=\"black\" points=\"1638,-774.5 1546,-774.5 1546,-706.5 1638,-706.5 1638,-774.5\"/>\n",
       "<text text-anchor=\"middle\" x=\"1592\" y=\"-759.3\" font-family=\"Times,serif\" font-size=\"14.00\">gini = 0.0</text>\n",
       "<text text-anchor=\"middle\" x=\"1592\" y=\"-744.3\" font-family=\"Times,serif\" font-size=\"14.00\">samples = 1</text>\n",
       "<text text-anchor=\"middle\" x=\"1592\" y=\"-729.3\" font-family=\"Times,serif\" font-size=\"14.00\">value = [0, 1]</text>\n",
       "<text text-anchor=\"middle\" x=\"1592\" y=\"-714.3\" font-family=\"Times,serif\" font-size=\"14.00\">class = 生还</text>\n",
       "</g>\n",
       "<!-- 100&#45;&gt;108 -->\n",
       "<g id=\"edge108\" class=\"edge\"><title>100&#45;&gt;108</title>\n",
       "<path fill=\"none\" stroke=\"black\" d=\"M1516.25,-817.907C1527.84,-806.211 1540.49,-793.457 1552.06,-781.78\"/>\n",
       "<polygon fill=\"black\" stroke=\"black\" points=\"1554.56,-784.233 1559.12,-774.667 1549.59,-779.304 1554.56,-784.233\"/>\n",
       "</g>\n",
       "<!-- 102 -->\n",
       "<g id=\"node103\" class=\"node\"><title>102</title>\n",
       "<polygon fill=\"#e58139\" stroke=\"black\" points=\"1525.5,-655.5 1424.5,-655.5 1424.5,-587.5 1525.5,-587.5 1525.5,-655.5\"/>\n",
       "<text text-anchor=\"middle\" x=\"1475\" y=\"-640.3\" font-family=\"Times,serif\" font-size=\"14.00\">gini = 0.0</text>\n",
       "<text text-anchor=\"middle\" x=\"1475\" y=\"-625.3\" font-family=\"Times,serif\" font-size=\"14.00\">samples = 10</text>\n",
       "<text text-anchor=\"middle\" x=\"1475\" y=\"-610.3\" font-family=\"Times,serif\" font-size=\"14.00\">value = [10, 0]</text>\n",
       "<text text-anchor=\"middle\" x=\"1475\" y=\"-595.3\" font-family=\"Times,serif\" font-size=\"14.00\">class = 未生还</text>\n",
       "</g>\n",
       "<!-- 101&#45;&gt;102 -->\n",
       "<g id=\"edge102\" class=\"edge\"><title>101&#45;&gt;102</title>\n",
       "<path fill=\"none\" stroke=\"black\" d=\"M1476.31,-698.907C1476.12,-688.204 1475.93,-676.615 1475.74,-665.776\"/>\n",
       "<polygon fill=\"black\" stroke=\"black\" points=\"1479.24,-665.606 1475.57,-655.667 1472.24,-665.725 1479.24,-665.606\"/>\n",
       "</g>\n",
       "<!-- 103 -->\n",
       "<g id=\"node104\" class=\"node\"><title>103</title>\n",
       "<polygon fill=\"#e9965a\" stroke=\"black\" points=\"1644.5,-663 1543.5,-663 1543.5,-580 1644.5,-580 1644.5,-663\"/>\n",
       "<text text-anchor=\"middle\" x=\"1594\" y=\"-647.8\" font-family=\"Times,serif\" font-size=\"14.00\">Age &lt;= 18.5</text>\n",
       "<text text-anchor=\"middle\" x=\"1594\" y=\"-632.8\" font-family=\"Times,serif\" font-size=\"14.00\">gini = 0.245</text>\n",
       "<text text-anchor=\"middle\" x=\"1594\" y=\"-617.8\" font-family=\"Times,serif\" font-size=\"14.00\">samples = 7</text>\n",
       "<text text-anchor=\"middle\" x=\"1594\" y=\"-602.8\" font-family=\"Times,serif\" font-size=\"14.00\">value = [6, 1]</text>\n",
       "<text text-anchor=\"middle\" x=\"1594\" y=\"-587.8\" font-family=\"Times,serif\" font-size=\"14.00\">class = 未生还</text>\n",
       "</g>\n",
       "<!-- 101&#45;&gt;103 -->\n",
       "<g id=\"edge103\" class=\"edge\"><title>101&#45;&gt;103</title>\n",
       "<path fill=\"none\" stroke=\"black\" d=\"M1517.59,-698.907C1526.85,-689.651 1536.77,-679.732 1546.29,-670.209\"/>\n",
       "<polygon fill=\"black\" stroke=\"black\" points=\"1548.88,-672.567 1553.48,-663.021 1543.93,-667.617 1548.88,-672.567\"/>\n",
       "</g>\n",
       "<!-- 104 -->\n",
       "<g id=\"node105\" class=\"node\"><title>104</title>\n",
       "<polygon fill=\"#e58139\" stroke=\"black\" points=\"1584.5,-536.5 1483.5,-536.5 1483.5,-468.5 1584.5,-468.5 1584.5,-536.5\"/>\n",
       "<text text-anchor=\"middle\" x=\"1534\" y=\"-521.3\" font-family=\"Times,serif\" font-size=\"14.00\">gini = 0.0</text>\n",
       "<text text-anchor=\"middle\" x=\"1534\" y=\"-506.3\" font-family=\"Times,serif\" font-size=\"14.00\">samples = 4</text>\n",
       "<text text-anchor=\"middle\" x=\"1534\" y=\"-491.3\" font-family=\"Times,serif\" font-size=\"14.00\">value = [4, 0]</text>\n",
       "<text text-anchor=\"middle\" x=\"1534\" y=\"-476.3\" font-family=\"Times,serif\" font-size=\"14.00\">class = 未生还</text>\n",
       "</g>\n",
       "<!-- 103&#45;&gt;104 -->\n",
       "<g id=\"edge104\" class=\"edge\"><title>103&#45;&gt;104</title>\n",
       "<path fill=\"none\" stroke=\"black\" d=\"M1573.18,-579.907C1567.52,-568.873 1561.38,-556.898 1555.68,-545.773\"/>\n",
       "<polygon fill=\"black\" stroke=\"black\" points=\"1558.69,-543.968 1551.01,-536.667 1552.46,-547.162 1558.69,-543.968\"/>\n",
       "</g>\n",
       "<!-- 105 -->\n",
       "<g id=\"node106\" class=\"node\"><title>105</title>\n",
       "<polygon fill=\"#f2c09c\" stroke=\"black\" points=\"1703.5,-544 1602.5,-544 1602.5,-461 1703.5,-461 1703.5,-544\"/>\n",
       "<text text-anchor=\"middle\" x=\"1653\" y=\"-528.8\" font-family=\"Times,serif\" font-size=\"14.00\">Fare &lt;= 11.75</text>\n",
       "<text text-anchor=\"middle\" x=\"1653\" y=\"-513.8\" font-family=\"Times,serif\" font-size=\"14.00\">gini = 0.444</text>\n",
       "<text text-anchor=\"middle\" x=\"1653\" y=\"-498.8\" font-family=\"Times,serif\" font-size=\"14.00\">samples = 3</text>\n",
       "<text text-anchor=\"middle\" x=\"1653\" y=\"-483.8\" font-family=\"Times,serif\" font-size=\"14.00\">value = [2, 1]</text>\n",
       "<text text-anchor=\"middle\" x=\"1653\" y=\"-468.8\" font-family=\"Times,serif\" font-size=\"14.00\">class = 未生还</text>\n",
       "</g>\n",
       "<!-- 103&#45;&gt;105 -->\n",
       "<g id=\"edge105\" class=\"edge\"><title>103&#45;&gt;105</title>\n",
       "<path fill=\"none\" stroke=\"black\" d=\"M1614.47,-579.907C1618.82,-571.286 1623.45,-562.09 1627.95,-553.175\"/>\n",
       "<polygon fill=\"black\" stroke=\"black\" points=\"1631.19,-554.526 1632.57,-544.021 1624.94,-551.374 1631.19,-554.526\"/>\n",
       "</g>\n",
       "<!-- 106 -->\n",
       "<g id=\"node107\" class=\"node\"><title>106</title>\n",
       "<polygon fill=\"#ffffff\" stroke=\"black\" points=\"1643.5,-417.5 1542.5,-417.5 1542.5,-349.5 1643.5,-349.5 1643.5,-417.5\"/>\n",
       "<text text-anchor=\"middle\" x=\"1593\" y=\"-402.3\" font-family=\"Times,serif\" font-size=\"14.00\">gini = 0.5</text>\n",
       "<text text-anchor=\"middle\" x=\"1593\" y=\"-387.3\" font-family=\"Times,serif\" font-size=\"14.00\">samples = 2</text>\n",
       "<text text-anchor=\"middle\" x=\"1593\" y=\"-372.3\" font-family=\"Times,serif\" font-size=\"14.00\">value = [1, 1]</text>\n",
       "<text text-anchor=\"middle\" x=\"1593\" y=\"-357.3\" font-family=\"Times,serif\" font-size=\"14.00\">class = 未生还</text>\n",
       "</g>\n",
       "<!-- 105&#45;&gt;106 -->\n",
       "<g id=\"edge106\" class=\"edge\"><title>105&#45;&gt;106</title>\n",
       "<path fill=\"none\" stroke=\"black\" d=\"M1632.18,-460.907C1626.52,-449.873 1620.38,-437.898 1614.68,-426.773\"/>\n",
       "<polygon fill=\"black\" stroke=\"black\" points=\"1617.69,-424.968 1610.01,-417.667 1611.46,-428.162 1617.69,-424.968\"/>\n",
       "</g>\n",
       "<!-- 107 -->\n",
       "<g id=\"node108\" class=\"node\"><title>107</title>\n",
       "<polygon fill=\"#e58139\" stroke=\"black\" points=\"1762.5,-417.5 1661.5,-417.5 1661.5,-349.5 1762.5,-349.5 1762.5,-417.5\"/>\n",
       "<text text-anchor=\"middle\" x=\"1712\" y=\"-402.3\" font-family=\"Times,serif\" font-size=\"14.00\">gini = 0.0</text>\n",
       "<text text-anchor=\"middle\" x=\"1712\" y=\"-387.3\" font-family=\"Times,serif\" font-size=\"14.00\">samples = 1</text>\n",
       "<text text-anchor=\"middle\" x=\"1712\" y=\"-372.3\" font-family=\"Times,serif\" font-size=\"14.00\">value = [1, 0]</text>\n",
       "<text text-anchor=\"middle\" x=\"1712\" y=\"-357.3\" font-family=\"Times,serif\" font-size=\"14.00\">class = 未生还</text>\n",
       "</g>\n",
       "<!-- 105&#45;&gt;107 -->\n",
       "<g id=\"edge107\" class=\"edge\"><title>105&#45;&gt;107</title>\n",
       "<path fill=\"none\" stroke=\"black\" d=\"M1673.47,-460.907C1679.03,-449.873 1685.07,-437.898 1690.68,-426.773\"/>\n",
       "<polygon fill=\"black\" stroke=\"black\" points=\"1693.9,-428.172 1695.27,-417.667 1687.65,-425.02 1693.9,-428.172\"/>\n",
       "</g>\n",
       "<!-- 111 -->\n",
       "<g id=\"node112\" class=\"node\"><title>111</title>\n",
       "<polygon fill=\"#e5833c\" stroke=\"black\" points=\"1765.5,-1020 1664.5,-1020 1664.5,-937 1765.5,-937 1765.5,-1020\"/>\n",
       "<text text-anchor=\"middle\" x=\"1715\" y=\"-1004.8\" font-family=\"Times,serif\" font-size=\"14.00\">Age &lt;= 29.5</text>\n",
       "<text text-anchor=\"middle\" x=\"1715\" y=\"-989.8\" font-family=\"Times,serif\" font-size=\"14.00\">gini = 0.033</text>\n",
       "<text text-anchor=\"middle\" x=\"1715\" y=\"-974.8\" font-family=\"Times,serif\" font-size=\"14.00\">samples = 60</text>\n",
       "<text text-anchor=\"middle\" x=\"1715\" y=\"-959.8\" font-family=\"Times,serif\" font-size=\"14.00\">value = [59, 1]</text>\n",
       "<text text-anchor=\"middle\" x=\"1715\" y=\"-944.8\" font-family=\"Times,serif\" font-size=\"14.00\">class = 未生还</text>\n",
       "</g>\n",
       "<!-- 110&#45;&gt;111 -->\n",
       "<g id=\"edge111\" class=\"edge\"><title>110&#45;&gt;111</title>\n",
       "<path fill=\"none\" stroke=\"black\" d=\"M1715,-1055.91C1715,-1047.65 1715,-1038.86 1715,-1030.3\"/>\n",
       "<polygon fill=\"black\" stroke=\"black\" points=\"1718.5,-1030.02 1715,-1020.02 1711.5,-1030.02 1718.5,-1030.02\"/>\n",
       "</g>\n",
       "<!-- 118 -->\n",
       "<g id=\"node119\" class=\"node\"><title>118</title>\n",
       "<polygon fill=\"#eca06a\" stroke=\"black\" points=\"1890.5,-1020 1789.5,-1020 1789.5,-937 1890.5,-937 1890.5,-1020\"/>\n",
       "<text text-anchor=\"middle\" x=\"1840\" y=\"-1004.8\" font-family=\"Times,serif\" font-size=\"14.00\">Age &lt;= 25.0</text>\n",
       "<text text-anchor=\"middle\" x=\"1840\" y=\"-989.8\" font-family=\"Times,serif\" font-size=\"14.00\">gini = 0.32</text>\n",
       "<text text-anchor=\"middle\" x=\"1840\" y=\"-974.8\" font-family=\"Times,serif\" font-size=\"14.00\">samples = 5</text>\n",
       "<text text-anchor=\"middle\" x=\"1840\" y=\"-959.8\" font-family=\"Times,serif\" font-size=\"14.00\">value = [4, 1]</text>\n",
       "<text text-anchor=\"middle\" x=\"1840\" y=\"-944.8\" font-family=\"Times,serif\" font-size=\"14.00\">class = 未生还</text>\n",
       "</g>\n",
       "<!-- 110&#45;&gt;118 -->\n",
       "<g id=\"edge118\" class=\"edge\"><title>110&#45;&gt;118</title>\n",
       "<path fill=\"none\" stroke=\"black\" d=\"M1758.37,-1055.91C1768.35,-1046.56 1779.06,-1036.54 1789.33,-1026.93\"/>\n",
       "<polygon fill=\"black\" stroke=\"black\" points=\"1791.8,-1029.41 1796.71,-1020.02 1787.02,-1024.3 1791.8,-1029.41\"/>\n",
       "</g>\n",
       "<!-- 112 -->\n",
       "<g id=\"node113\" class=\"node\"><title>112</title>\n",
       "<polygon fill=\"#e58139\" stroke=\"black\" points=\"1764.5,-893.5 1663.5,-893.5 1663.5,-825.5 1764.5,-825.5 1764.5,-893.5\"/>\n",
       "<text text-anchor=\"middle\" x=\"1714\" y=\"-878.3\" font-family=\"Times,serif\" font-size=\"14.00\">gini = 0.0</text>\n",
       "<text text-anchor=\"middle\" x=\"1714\" y=\"-863.3\" font-family=\"Times,serif\" font-size=\"14.00\">samples = 53</text>\n",
       "<text text-anchor=\"middle\" x=\"1714\" y=\"-848.3\" font-family=\"Times,serif\" font-size=\"14.00\">value = [53, 0]</text>\n",
       "<text text-anchor=\"middle\" x=\"1714\" y=\"-833.3\" font-family=\"Times,serif\" font-size=\"14.00\">class = 未生还</text>\n",
       "</g>\n",
       "<!-- 111&#45;&gt;112 -->\n",
       "<g id=\"edge112\" class=\"edge\"><title>111&#45;&gt;112</title>\n",
       "<path fill=\"none\" stroke=\"black\" d=\"M1714.65,-936.907C1714.56,-926.204 1714.46,-914.615 1714.37,-903.776\"/>\n",
       "<polygon fill=\"black\" stroke=\"black\" points=\"1717.87,-903.637 1714.28,-893.667 1710.87,-903.697 1717.87,-903.637\"/>\n",
       "</g>\n",
       "<!-- 113 -->\n",
       "<g id=\"node114\" class=\"node\"><title>113</title>\n",
       "<polygon fill=\"#e9965a\" stroke=\"black\" points=\"1883.5,-901 1782.5,-901 1782.5,-818 1883.5,-818 1883.5,-901\"/>\n",
       "<text text-anchor=\"middle\" x=\"1833\" y=\"-885.8\" font-family=\"Times,serif\" font-size=\"14.00\">Fare &lt;= 8.775</text>\n",
       "<text text-anchor=\"middle\" x=\"1833\" y=\"-870.8\" font-family=\"Times,serif\" font-size=\"14.00\">gini = 0.245</text>\n",
       "<text text-anchor=\"middle\" x=\"1833\" y=\"-855.8\" font-family=\"Times,serif\" font-size=\"14.00\">samples = 7</text>\n",
       "<text text-anchor=\"middle\" x=\"1833\" y=\"-840.8\" font-family=\"Times,serif\" font-size=\"14.00\">value = [6, 1]</text>\n",
       "<text text-anchor=\"middle\" x=\"1833\" y=\"-825.8\" font-family=\"Times,serif\" font-size=\"14.00\">class = 未生还</text>\n",
       "</g>\n",
       "<!-- 111&#45;&gt;113 -->\n",
       "<g id=\"edge113\" class=\"edge\"><title>111&#45;&gt;113</title>\n",
       "<path fill=\"none\" stroke=\"black\" d=\"M1755.94,-936.907C1765.28,-927.651 1775.28,-917.732 1784.88,-908.209\"/>\n",
       "<polygon fill=\"black\" stroke=\"black\" points=\"1787.5,-910.547 1792.13,-901.021 1782.57,-905.576 1787.5,-910.547\"/>\n",
       "</g>\n",
       "<!-- 114 -->\n",
       "<g id=\"node115\" class=\"node\"><title>114</title>\n",
       "<polygon fill=\"#e58139\" stroke=\"black\" points=\"1824.5,-774.5 1723.5,-774.5 1723.5,-706.5 1824.5,-706.5 1824.5,-774.5\"/>\n",
       "<text text-anchor=\"middle\" x=\"1774\" y=\"-759.3\" font-family=\"Times,serif\" font-size=\"14.00\">gini = 0.0</text>\n",
       "<text text-anchor=\"middle\" x=\"1774\" y=\"-744.3\" font-family=\"Times,serif\" font-size=\"14.00\">samples = 4</text>\n",
       "<text text-anchor=\"middle\" x=\"1774\" y=\"-729.3\" font-family=\"Times,serif\" font-size=\"14.00\">value = [4, 0]</text>\n",
       "<text text-anchor=\"middle\" x=\"1774\" y=\"-714.3\" font-family=\"Times,serif\" font-size=\"14.00\">class = 未生还</text>\n",
       "</g>\n",
       "<!-- 113&#45;&gt;114 -->\n",
       "<g id=\"edge114\" class=\"edge\"><title>113&#45;&gt;114</title>\n",
       "<path fill=\"none\" stroke=\"black\" d=\"M1812.53,-817.907C1806.97,-806.873 1800.93,-794.898 1795.32,-783.773\"/>\n",
       "<polygon fill=\"black\" stroke=\"black\" points=\"1798.35,-782.02 1790.73,-774.667 1792.1,-785.172 1798.35,-782.02\"/>\n",
       "</g>\n",
       "<!-- 115 -->\n",
       "<g id=\"node116\" class=\"node\"><title>115</title>\n",
       "<polygon fill=\"#f2c09c\" stroke=\"black\" points=\"1943.5,-782 1842.5,-782 1842.5,-699 1943.5,-699 1943.5,-782\"/>\n",
       "<text text-anchor=\"middle\" x=\"1893\" y=\"-766.8\" font-family=\"Times,serif\" font-size=\"14.00\">Fare &lt;= 11.25</text>\n",
       "<text text-anchor=\"middle\" x=\"1893\" y=\"-751.8\" font-family=\"Times,serif\" font-size=\"14.00\">gini = 0.444</text>\n",
       "<text text-anchor=\"middle\" x=\"1893\" y=\"-736.8\" font-family=\"Times,serif\" font-size=\"14.00\">samples = 3</text>\n",
       "<text text-anchor=\"middle\" x=\"1893\" y=\"-721.8\" font-family=\"Times,serif\" font-size=\"14.00\">value = [2, 1]</text>\n",
       "<text text-anchor=\"middle\" x=\"1893\" y=\"-706.8\" font-family=\"Times,serif\" font-size=\"14.00\">class = 未生还</text>\n",
       "</g>\n",
       "<!-- 113&#45;&gt;115 -->\n",
       "<g id=\"edge115\" class=\"edge\"><title>113&#45;&gt;115</title>\n",
       "<path fill=\"none\" stroke=\"black\" d=\"M1853.82,-817.907C1858.24,-809.286 1862.95,-800.09 1867.53,-791.175\"/>\n",
       "<polygon fill=\"black\" stroke=\"black\" points=\"1870.77,-792.516 1872.22,-782.021 1864.54,-789.322 1870.77,-792.516\"/>\n",
       "</g>\n",
       "<!-- 116 -->\n",
       "<g id=\"node117\" class=\"node\"><title>116</title>\n",
       "<polygon fill=\"#399de5\" stroke=\"black\" points=\"1881,-655.5 1789,-655.5 1789,-587.5 1881,-587.5 1881,-655.5\"/>\n",
       "<text text-anchor=\"middle\" x=\"1835\" y=\"-640.3\" font-family=\"Times,serif\" font-size=\"14.00\">gini = 0.0</text>\n",
       "<text text-anchor=\"middle\" x=\"1835\" y=\"-625.3\" font-family=\"Times,serif\" font-size=\"14.00\">samples = 1</text>\n",
       "<text text-anchor=\"middle\" x=\"1835\" y=\"-610.3\" font-family=\"Times,serif\" font-size=\"14.00\">value = [0, 1]</text>\n",
       "<text text-anchor=\"middle\" x=\"1835\" y=\"-595.3\" font-family=\"Times,serif\" font-size=\"14.00\">class = 生还</text>\n",
       "</g>\n",
       "<!-- 115&#45;&gt;116 -->\n",
       "<g id=\"edge116\" class=\"edge\"><title>115&#45;&gt;116</title>\n",
       "<path fill=\"none\" stroke=\"black\" d=\"M1872.88,-698.907C1867.41,-687.873 1861.47,-675.898 1855.96,-664.773\"/>\n",
       "<polygon fill=\"black\" stroke=\"black\" points=\"1859.02,-663.072 1851.44,-655.667 1852.75,-666.181 1859.02,-663.072\"/>\n",
       "</g>\n",
       "<!-- 117 -->\n",
       "<g id=\"node118\" class=\"node\"><title>117</title>\n",
       "<polygon fill=\"#e58139\" stroke=\"black\" points=\"2000.5,-655.5 1899.5,-655.5 1899.5,-587.5 2000.5,-587.5 2000.5,-655.5\"/>\n",
       "<text text-anchor=\"middle\" x=\"1950\" y=\"-640.3\" font-family=\"Times,serif\" font-size=\"14.00\">gini = 0.0</text>\n",
       "<text text-anchor=\"middle\" x=\"1950\" y=\"-625.3\" font-family=\"Times,serif\" font-size=\"14.00\">samples = 2</text>\n",
       "<text text-anchor=\"middle\" x=\"1950\" y=\"-610.3\" font-family=\"Times,serif\" font-size=\"14.00\">value = [2, 0]</text>\n",
       "<text text-anchor=\"middle\" x=\"1950\" y=\"-595.3\" font-family=\"Times,serif\" font-size=\"14.00\">class = 未生还</text>\n",
       "</g>\n",
       "<!-- 115&#45;&gt;117 -->\n",
       "<g id=\"edge117\" class=\"edge\"><title>115&#45;&gt;117</title>\n",
       "<path fill=\"none\" stroke=\"black\" d=\"M1912.78,-698.907C1918.15,-687.873 1923.99,-675.898 1929.41,-664.773\"/>\n",
       "<polygon fill=\"black\" stroke=\"black\" points=\"1932.61,-666.19 1933.84,-655.667 1926.32,-663.124 1932.61,-666.19\"/>\n",
       "</g>\n",
       "<!-- 119 -->\n",
       "<g id=\"node120\" class=\"node\"><title>119</title>\n",
       "<polygon fill=\"#e58139\" stroke=\"black\" points=\"2002.5,-893.5 1901.5,-893.5 1901.5,-825.5 2002.5,-825.5 2002.5,-893.5\"/>\n",
       "<text text-anchor=\"middle\" x=\"1952\" y=\"-878.3\" font-family=\"Times,serif\" font-size=\"14.00\">gini = 0.0</text>\n",
       "<text text-anchor=\"middle\" x=\"1952\" y=\"-863.3\" font-family=\"Times,serif\" font-size=\"14.00\">samples = 3</text>\n",
       "<text text-anchor=\"middle\" x=\"1952\" y=\"-848.3\" font-family=\"Times,serif\" font-size=\"14.00\">value = [3, 0]</text>\n",
       "<text text-anchor=\"middle\" x=\"1952\" y=\"-833.3\" font-family=\"Times,serif\" font-size=\"14.00\">class = 未生还</text>\n",
       "</g>\n",
       "<!-- 118&#45;&gt;119 -->\n",
       "<g id=\"edge119\" class=\"edge\"><title>118&#45;&gt;119</title>\n",
       "<path fill=\"none\" stroke=\"black\" d=\"M1878.86,-936.907C1889.95,-925.321 1902.03,-912.698 1913.12,-901.111\"/>\n",
       "<polygon fill=\"black\" stroke=\"black\" points=\"1915.86,-903.311 1920.25,-893.667 1910.81,-898.47 1915.86,-903.311\"/>\n",
       "</g>\n",
       "<!-- 120 -->\n",
       "<g id=\"node121\" class=\"node\"><title>120</title>\n",
       "<polygon fill=\"#ffffff\" stroke=\"black\" points=\"2121.5,-901 2020.5,-901 2020.5,-818 2121.5,-818 2121.5,-901\"/>\n",
       "<text text-anchor=\"middle\" x=\"2071\" y=\"-885.8\" font-family=\"Times,serif\" font-size=\"14.00\">Age &lt;= 27.0</text>\n",
       "<text text-anchor=\"middle\" x=\"2071\" y=\"-870.8\" font-family=\"Times,serif\" font-size=\"14.00\">gini = 0.5</text>\n",
       "<text text-anchor=\"middle\" x=\"2071\" y=\"-855.8\" font-family=\"Times,serif\" font-size=\"14.00\">samples = 2</text>\n",
       "<text text-anchor=\"middle\" x=\"2071\" y=\"-840.8\" font-family=\"Times,serif\" font-size=\"14.00\">value = [1, 1]</text>\n",
       "<text text-anchor=\"middle\" x=\"2071\" y=\"-825.8\" font-family=\"Times,serif\" font-size=\"14.00\">class = 未生还</text>\n",
       "</g>\n",
       "<!-- 118&#45;&gt;120 -->\n",
       "<g id=\"edge120\" class=\"edge\"><title>118&#45;&gt;120</title>\n",
       "<path fill=\"none\" stroke=\"black\" d=\"M1890.61,-941.426C1893.41,-939.856 1896.21,-938.369 1899,-937 1945.94,-913.962 1963.97,-923.854 2011,-901 2011.1,-900.954 2011.19,-900.907 2011.29,-900.861\"/>\n",
       "<polygon fill=\"black\" stroke=\"black\" points=\"2012.96,-903.933 2020.19,-896.183 2009.71,-897.736 2012.96,-903.933\"/>\n",
       "</g>\n",
       "<!-- 121 -->\n",
       "<g id=\"node122\" class=\"node\"><title>121</title>\n",
       "<polygon fill=\"#399de5\" stroke=\"black\" points=\"2086,-774.5 1994,-774.5 1994,-706.5 2086,-706.5 2086,-774.5\"/>\n",
       "<text text-anchor=\"middle\" x=\"2040\" y=\"-759.3\" font-family=\"Times,serif\" font-size=\"14.00\">gini = 0.0</text>\n",
       "<text text-anchor=\"middle\" x=\"2040\" y=\"-744.3\" font-family=\"Times,serif\" font-size=\"14.00\">samples = 1</text>\n",
       "<text text-anchor=\"middle\" x=\"2040\" y=\"-729.3\" font-family=\"Times,serif\" font-size=\"14.00\">value = [0, 1]</text>\n",
       "<text text-anchor=\"middle\" x=\"2040\" y=\"-714.3\" font-family=\"Times,serif\" font-size=\"14.00\">class = 生还</text>\n",
       "</g>\n",
       "<!-- 120&#45;&gt;121 -->\n",
       "<g id=\"edge121\" class=\"edge\"><title>120&#45;&gt;121</title>\n",
       "<path fill=\"none\" stroke=\"black\" d=\"M2060.24,-817.907C2057.38,-807.094 2054.27,-795.376 2051.38,-784.441\"/>\n",
       "<polygon fill=\"black\" stroke=\"black\" points=\"2054.73,-783.437 2048.79,-774.667 2047.97,-785.23 2054.73,-783.437\"/>\n",
       "</g>\n",
       "<!-- 122 -->\n",
       "<g id=\"node123\" class=\"node\"><title>122</title>\n",
       "<polygon fill=\"#e58139\" stroke=\"black\" points=\"2205.5,-774.5 2104.5,-774.5 2104.5,-706.5 2205.5,-706.5 2205.5,-774.5\"/>\n",
       "<text text-anchor=\"middle\" x=\"2155\" y=\"-759.3\" font-family=\"Times,serif\" font-size=\"14.00\">gini = 0.0</text>\n",
       "<text text-anchor=\"middle\" x=\"2155\" y=\"-744.3\" font-family=\"Times,serif\" font-size=\"14.00\">samples = 1</text>\n",
       "<text text-anchor=\"middle\" x=\"2155\" y=\"-729.3\" font-family=\"Times,serif\" font-size=\"14.00\">value = [1, 0]</text>\n",
       "<text text-anchor=\"middle\" x=\"2155\" y=\"-714.3\" font-family=\"Times,serif\" font-size=\"14.00\">class = 未生还</text>\n",
       "</g>\n",
       "<!-- 120&#45;&gt;122 -->\n",
       "<g id=\"edge122\" class=\"edge\"><title>120&#45;&gt;122</title>\n",
       "<path fill=\"none\" stroke=\"black\" d=\"M2100.14,-817.907C2108.22,-806.652 2117.01,-794.418 2125.13,-783.106\"/>\n",
       "<polygon fill=\"black\" stroke=\"black\" points=\"2128.2,-784.831 2131.19,-774.667 2122.51,-780.749 2128.2,-784.831\"/>\n",
       "</g>\n",
       "<!-- 124 -->\n",
       "<g id=\"node125\" class=\"node\"><title>124</title>\n",
       "<polygon fill=\"#fbeade\" stroke=\"black\" points=\"2129.5,-1377 2028.5,-1377 2028.5,-1294 2129.5,-1294 2129.5,-1377\"/>\n",
       "<text text-anchor=\"middle\" x=\"2079\" y=\"-1361.8\" font-family=\"Times,serif\" font-size=\"14.00\">Age &lt;= 18.5</text>\n",
       "<text text-anchor=\"middle\" x=\"2079\" y=\"-1346.8\" font-family=\"Times,serif\" font-size=\"14.00\">gini = 0.496</text>\n",
       "<text text-anchor=\"middle\" x=\"2079\" y=\"-1331.8\" font-family=\"Times,serif\" font-size=\"14.00\">samples = 11</text>\n",
       "<text text-anchor=\"middle\" x=\"2079\" y=\"-1316.8\" font-family=\"Times,serif\" font-size=\"14.00\">value = [6, 5]</text>\n",
       "<text text-anchor=\"middle\" x=\"2079\" y=\"-1301.8\" font-family=\"Times,serif\" font-size=\"14.00\">class = 未生还</text>\n",
       "</g>\n",
       "<!-- 123&#45;&gt;124 -->\n",
       "<g id=\"edge124\" class=\"edge\"><title>123&#45;&gt;124</title>\n",
       "<path fill=\"none\" stroke=\"black\" d=\"M2114.92,-1412.91C2110.87,-1404.29 2106.54,-1395.09 2102.35,-1386.17\"/>\n",
       "<polygon fill=\"black\" stroke=\"black\" points=\"2105.47,-1384.58 2098.05,-1377.02 2099.14,-1387.56 2105.47,-1384.58\"/>\n",
       "</g>\n",
       "<!-- 137 -->\n",
       "<g id=\"node138\" class=\"node\"><title>137</title>\n",
       "<polygon fill=\"#e9965a\" stroke=\"black\" points=\"2249.5,-1377 2148.5,-1377 2148.5,-1294 2249.5,-1294 2249.5,-1377\"/>\n",
       "<text text-anchor=\"middle\" x=\"2199\" y=\"-1361.8\" font-family=\"Times,serif\" font-size=\"14.00\">Fare &lt;= 7.562</text>\n",
       "<text text-anchor=\"middle\" x=\"2199\" y=\"-1346.8\" font-family=\"Times,serif\" font-size=\"14.00\">gini = 0.245</text>\n",
       "<text text-anchor=\"middle\" x=\"2199\" y=\"-1331.8\" font-family=\"Times,serif\" font-size=\"14.00\">samples = 7</text>\n",
       "<text text-anchor=\"middle\" x=\"2199\" y=\"-1316.8\" font-family=\"Times,serif\" font-size=\"14.00\">value = [6, 1]</text>\n",
       "<text text-anchor=\"middle\" x=\"2199\" y=\"-1301.8\" font-family=\"Times,serif\" font-size=\"14.00\">class = 未生还</text>\n",
       "</g>\n",
       "<!-- 123&#45;&gt;137 -->\n",
       "<g id=\"edge137\" class=\"edge\"><title>123&#45;&gt;137</title>\n",
       "<path fill=\"none\" stroke=\"black\" d=\"M2156.55,-1412.91C2161.39,-1404.2 2166.56,-1394.9 2171.56,-1385.89\"/>\n",
       "<polygon fill=\"black\" stroke=\"black\" points=\"2174.69,-1387.46 2176.49,-1377.02 2168.57,-1384.06 2174.69,-1387.46\"/>\n",
       "</g>\n",
       "<!-- 125 -->\n",
       "<g id=\"node126\" class=\"node\"><title>125</title>\n",
       "<polygon fill=\"#eeab7b\" stroke=\"black\" points=\"2009.5,-1258 1908.5,-1258 1908.5,-1175 2009.5,-1175 2009.5,-1258\"/>\n",
       "<text text-anchor=\"middle\" x=\"1959\" y=\"-1242.8\" font-family=\"Times,serif\" font-size=\"14.00\">Fare &lt;= 9.235</text>\n",
       "<text text-anchor=\"middle\" x=\"1959\" y=\"-1227.8\" font-family=\"Times,serif\" font-size=\"14.00\">gini = 0.375</text>\n",
       "<text text-anchor=\"middle\" x=\"1959\" y=\"-1212.8\" font-family=\"Times,serif\" font-size=\"14.00\">samples = 4</text>\n",
       "<text text-anchor=\"middle\" x=\"1959\" y=\"-1197.8\" font-family=\"Times,serif\" font-size=\"14.00\">value = [3, 1]</text>\n",
       "<text text-anchor=\"middle\" x=\"1959\" y=\"-1182.8\" font-family=\"Times,serif\" font-size=\"14.00\">class = 未生还</text>\n",
       "</g>\n",
       "<!-- 124&#45;&gt;125 -->\n",
       "<g id=\"edge125\" class=\"edge\"><title>124&#45;&gt;125</title>\n",
       "<path fill=\"none\" stroke=\"black\" d=\"M2037.37,-1293.91C2027.87,-1284.65 2017.7,-1274.73 2007.93,-1265.21\"/>\n",
       "<polygon fill=\"black\" stroke=\"black\" points=\"2010.16,-1262.5 2000.56,-1258.02 2005.28,-1267.51 2010.16,-1262.5\"/>\n",
       "</g>\n",
       "<!-- 130 -->\n",
       "<g id=\"node131\" class=\"node\"><title>130</title>\n",
       "<polygon fill=\"#cee6f8\" stroke=\"black\" points=\"2130,-1258 2028,-1258 2028,-1175 2130,-1175 2130,-1258\"/>\n",
       "<text text-anchor=\"middle\" x=\"2079\" y=\"-1242.8\" font-family=\"Times,serif\" font-size=\"14.00\">Fare &lt;= 15.394</text>\n",
       "<text text-anchor=\"middle\" x=\"2079\" y=\"-1227.8\" font-family=\"Times,serif\" font-size=\"14.00\">gini = 0.49</text>\n",
       "<text text-anchor=\"middle\" x=\"2079\" y=\"-1212.8\" font-family=\"Times,serif\" font-size=\"14.00\">samples = 7</text>\n",
       "<text text-anchor=\"middle\" x=\"2079\" y=\"-1197.8\" font-family=\"Times,serif\" font-size=\"14.00\">value = [3, 4]</text>\n",
       "<text text-anchor=\"middle\" x=\"2079\" y=\"-1182.8\" font-family=\"Times,serif\" font-size=\"14.00\">class = 生还</text>\n",
       "</g>\n",
       "<!-- 124&#45;&gt;130 -->\n",
       "<g id=\"edge130\" class=\"edge\"><title>124&#45;&gt;130</title>\n",
       "<path fill=\"none\" stroke=\"black\" d=\"M2079,-1293.91C2079,-1285.65 2079,-1276.86 2079,-1268.3\"/>\n",
       "<polygon fill=\"black\" stroke=\"black\" points=\"2082.5,-1268.02 2079,-1258.02 2075.5,-1268.02 2082.5,-1268.02\"/>\n",
       "</g>\n",
       "<!-- 126 -->\n",
       "<g id=\"node127\" class=\"node\"><title>126</title>\n",
       "<polygon fill=\"#e58139\" stroke=\"black\" points=\"1890.5,-1131.5 1789.5,-1131.5 1789.5,-1063.5 1890.5,-1063.5 1890.5,-1131.5\"/>\n",
       "<text text-anchor=\"middle\" x=\"1840\" y=\"-1116.3\" font-family=\"Times,serif\" font-size=\"14.00\">gini = 0.0</text>\n",
       "<text text-anchor=\"middle\" x=\"1840\" y=\"-1101.3\" font-family=\"Times,serif\" font-size=\"14.00\">samples = 2</text>\n",
       "<text text-anchor=\"middle\" x=\"1840\" y=\"-1086.3\" font-family=\"Times,serif\" font-size=\"14.00\">value = [2, 0]</text>\n",
       "<text text-anchor=\"middle\" x=\"1840\" y=\"-1071.3\" font-family=\"Times,serif\" font-size=\"14.00\">class = 未生还</text>\n",
       "</g>\n",
       "<!-- 125&#45;&gt;126 -->\n",
       "<g id=\"edge126\" class=\"edge\"><title>125&#45;&gt;126</title>\n",
       "<path fill=\"none\" stroke=\"black\" d=\"M1917.71,-1174.91C1905.82,-1163.21 1892.85,-1150.46 1880.97,-1138.78\"/>\n",
       "<polygon fill=\"black\" stroke=\"black\" points=\"1883.32,-1136.18 1873.73,-1131.67 1878.41,-1141.17 1883.32,-1136.18\"/>\n",
       "</g>\n",
       "<!-- 127 -->\n",
       "<g id=\"node128\" class=\"node\"><title>127</title>\n",
       "<polygon fill=\"#ffffff\" stroke=\"black\" points=\"2009.5,-1139 1908.5,-1139 1908.5,-1056 2009.5,-1056 2009.5,-1139\"/>\n",
       "<text text-anchor=\"middle\" x=\"1959\" y=\"-1123.8\" font-family=\"Times,serif\" font-size=\"14.00\">SibSp &lt;= 0.5</text>\n",
       "<text text-anchor=\"middle\" x=\"1959\" y=\"-1108.8\" font-family=\"Times,serif\" font-size=\"14.00\">gini = 0.5</text>\n",
       "<text text-anchor=\"middle\" x=\"1959\" y=\"-1093.8\" font-family=\"Times,serif\" font-size=\"14.00\">samples = 2</text>\n",
       "<text text-anchor=\"middle\" x=\"1959\" y=\"-1078.8\" font-family=\"Times,serif\" font-size=\"14.00\">value = [1, 1]</text>\n",
       "<text text-anchor=\"middle\" x=\"1959\" y=\"-1063.8\" font-family=\"Times,serif\" font-size=\"14.00\">class = 未生还</text>\n",
       "</g>\n",
       "<!-- 125&#45;&gt;127 -->\n",
       "<g id=\"edge127\" class=\"edge\"><title>125&#45;&gt;127</title>\n",
       "<path fill=\"none\" stroke=\"black\" d=\"M1959,-1174.91C1959,-1166.65 1959,-1157.86 1959,-1149.3\"/>\n",
       "<polygon fill=\"black\" stroke=\"black\" points=\"1962.5,-1149.02 1959,-1139.02 1955.5,-1149.02 1962.5,-1149.02\"/>\n",
       "</g>\n",
       "<!-- 128 -->\n",
       "<g id=\"node129\" class=\"node\"><title>128</title>\n",
       "<polygon fill=\"#e58139\" stroke=\"black\" points=\"2009.5,-1012.5 1908.5,-1012.5 1908.5,-944.5 2009.5,-944.5 2009.5,-1012.5\"/>\n",
       "<text text-anchor=\"middle\" x=\"1959\" y=\"-997.3\" font-family=\"Times,serif\" font-size=\"14.00\">gini = 0.0</text>\n",
       "<text text-anchor=\"middle\" x=\"1959\" y=\"-982.3\" font-family=\"Times,serif\" font-size=\"14.00\">samples = 1</text>\n",
       "<text text-anchor=\"middle\" x=\"1959\" y=\"-967.3\" font-family=\"Times,serif\" font-size=\"14.00\">value = [1, 0]</text>\n",
       "<text text-anchor=\"middle\" x=\"1959\" y=\"-952.3\" font-family=\"Times,serif\" font-size=\"14.00\">class = 未生还</text>\n",
       "</g>\n",
       "<!-- 127&#45;&gt;128 -->\n",
       "<g id=\"edge128\" class=\"edge\"><title>127&#45;&gt;128</title>\n",
       "<path fill=\"none\" stroke=\"black\" d=\"M1959,-1055.91C1959,-1045.2 1959,-1033.62 1959,-1022.78\"/>\n",
       "<polygon fill=\"black\" stroke=\"black\" points=\"1962.5,-1022.67 1959,-1012.67 1955.5,-1022.67 1962.5,-1022.67\"/>\n",
       "</g>\n",
       "<!-- 129 -->\n",
       "<g id=\"node130\" class=\"node\"><title>129</title>\n",
       "<polygon fill=\"#399de5\" stroke=\"black\" points=\"2120,-1012.5 2028,-1012.5 2028,-944.5 2120,-944.5 2120,-1012.5\"/>\n",
       "<text text-anchor=\"middle\" x=\"2074\" y=\"-997.3\" font-family=\"Times,serif\" font-size=\"14.00\">gini = 0.0</text>\n",
       "<text text-anchor=\"middle\" x=\"2074\" y=\"-982.3\" font-family=\"Times,serif\" font-size=\"14.00\">samples = 1</text>\n",
       "<text text-anchor=\"middle\" x=\"2074\" y=\"-967.3\" font-family=\"Times,serif\" font-size=\"14.00\">value = [0, 1]</text>\n",
       "<text text-anchor=\"middle\" x=\"2074\" y=\"-952.3\" font-family=\"Times,serif\" font-size=\"14.00\">class = 生还</text>\n",
       "</g>\n",
       "<!-- 127&#45;&gt;129 -->\n",
       "<g id=\"edge129\" class=\"edge\"><title>127&#45;&gt;129</title>\n",
       "<path fill=\"none\" stroke=\"black\" d=\"M1998.9,-1055.91C2010.29,-1044.32 2022.69,-1031.7 2034.08,-1020.11\"/>\n",
       "<polygon fill=\"black\" stroke=\"black\" points=\"2036.89,-1022.25 2041.4,-1012.67 2031.89,-1017.35 2036.89,-1022.25\"/>\n",
       "</g>\n",
       "<!-- 131 -->\n",
       "<g id=\"node132\" class=\"node\"><title>131</title>\n",
       "<polygon fill=\"#f6d5bd\" stroke=\"black\" points=\"2130,-1139 2028,-1139 2028,-1056 2130,-1056 2130,-1139\"/>\n",
       "<text text-anchor=\"middle\" x=\"2079\" y=\"-1123.8\" font-family=\"Times,serif\" font-size=\"14.00\">Fare &lt;= 10.842</text>\n",
       "<text text-anchor=\"middle\" x=\"2079\" y=\"-1108.8\" font-family=\"Times,serif\" font-size=\"14.00\">gini = 0.48</text>\n",
       "<text text-anchor=\"middle\" x=\"2079\" y=\"-1093.8\" font-family=\"Times,serif\" font-size=\"14.00\">samples = 5</text>\n",
       "<text text-anchor=\"middle\" x=\"2079\" y=\"-1078.8\" font-family=\"Times,serif\" font-size=\"14.00\">value = [3, 2]</text>\n",
       "<text text-anchor=\"middle\" x=\"2079\" y=\"-1063.8\" font-family=\"Times,serif\" font-size=\"14.00\">class = 未生还</text>\n",
       "</g>\n",
       "<!-- 130&#45;&gt;131 -->\n",
       "<g id=\"edge131\" class=\"edge\"><title>130&#45;&gt;131</title>\n",
       "<path fill=\"none\" stroke=\"black\" d=\"M2079,-1174.91C2079,-1166.65 2079,-1157.86 2079,-1149.3\"/>\n",
       "<polygon fill=\"black\" stroke=\"black\" points=\"2082.5,-1149.02 2079,-1139.02 2075.5,-1149.02 2082.5,-1149.02\"/>\n",
       "</g>\n",
       "<!-- 136 -->\n",
       "<g id=\"node137\" class=\"node\"><title>136</title>\n",
       "<polygon fill=\"#399de5\" stroke=\"black\" points=\"2240,-1131.5 2148,-1131.5 2148,-1063.5 2240,-1063.5 2240,-1131.5\"/>\n",
       "<text text-anchor=\"middle\" x=\"2194\" y=\"-1116.3\" font-family=\"Times,serif\" font-size=\"14.00\">gini = 0.0</text>\n",
       "<text text-anchor=\"middle\" x=\"2194\" y=\"-1101.3\" font-family=\"Times,serif\" font-size=\"14.00\">samples = 2</text>\n",
       "<text text-anchor=\"middle\" x=\"2194\" y=\"-1086.3\" font-family=\"Times,serif\" font-size=\"14.00\">value = [0, 2]</text>\n",
       "<text text-anchor=\"middle\" x=\"2194\" y=\"-1071.3\" font-family=\"Times,serif\" font-size=\"14.00\">class = 生还</text>\n",
       "</g>\n",
       "<!-- 130&#45;&gt;136 -->\n",
       "<g id=\"edge136\" class=\"edge\"><title>130&#45;&gt;136</title>\n",
       "<path fill=\"none\" stroke=\"black\" d=\"M2118.9,-1174.91C2130.29,-1163.32 2142.69,-1150.7 2154.08,-1139.11\"/>\n",
       "<polygon fill=\"black\" stroke=\"black\" points=\"2156.89,-1141.25 2161.4,-1131.67 2151.89,-1136.35 2156.89,-1141.25\"/>\n",
       "</g>\n",
       "<!-- 132 -->\n",
       "<g id=\"node133\" class=\"node\"><title>132</title>\n",
       "<polygon fill=\"#9ccef2\" stroke=\"black\" points=\"2235.5,-1020 2140.5,-1020 2140.5,-937 2235.5,-937 2235.5,-1020\"/>\n",
       "<text text-anchor=\"middle\" x=\"2188\" y=\"-1004.8\" font-family=\"Times,serif\" font-size=\"14.00\">Fare &lt;= 5.619</text>\n",
       "<text text-anchor=\"middle\" x=\"2188\" y=\"-989.8\" font-family=\"Times,serif\" font-size=\"14.00\">gini = 0.444</text>\n",
       "<text text-anchor=\"middle\" x=\"2188\" y=\"-974.8\" font-family=\"Times,serif\" font-size=\"14.00\">samples = 3</text>\n",
       "<text text-anchor=\"middle\" x=\"2188\" y=\"-959.8\" font-family=\"Times,serif\" font-size=\"14.00\">value = [1, 2]</text>\n",
       "<text text-anchor=\"middle\" x=\"2188\" y=\"-944.8\" font-family=\"Times,serif\" font-size=\"14.00\">class = 生还</text>\n",
       "</g>\n",
       "<!-- 131&#45;&gt;132 -->\n",
       "<g id=\"edge132\" class=\"edge\"><title>131&#45;&gt;132</title>\n",
       "<path fill=\"none\" stroke=\"black\" d=\"M2116.82,-1055.91C2125.36,-1046.74 2134.5,-1036.93 2143.29,-1027.49\"/>\n",
       "<polygon fill=\"black\" stroke=\"black\" points=\"2145.99,-1029.72 2150.25,-1020.02 2140.87,-1024.95 2145.99,-1029.72\"/>\n",
       "</g>\n",
       "<!-- 135 -->\n",
       "<g id=\"node136\" class=\"node\"><title>135</title>\n",
       "<polygon fill=\"#e58139\" stroke=\"black\" points=\"2354.5,-1012.5 2253.5,-1012.5 2253.5,-944.5 2354.5,-944.5 2354.5,-1012.5\"/>\n",
       "<text text-anchor=\"middle\" x=\"2304\" y=\"-997.3\" font-family=\"Times,serif\" font-size=\"14.00\">gini = 0.0</text>\n",
       "<text text-anchor=\"middle\" x=\"2304\" y=\"-982.3\" font-family=\"Times,serif\" font-size=\"14.00\">samples = 2</text>\n",
       "<text text-anchor=\"middle\" x=\"2304\" y=\"-967.3\" font-family=\"Times,serif\" font-size=\"14.00\">value = [2, 0]</text>\n",
       "<text text-anchor=\"middle\" x=\"2304\" y=\"-952.3\" font-family=\"Times,serif\" font-size=\"14.00\">class = 未生还</text>\n",
       "</g>\n",
       "<!-- 131&#45;&gt;135 -->\n",
       "<g id=\"edge135\" class=\"edge\"><title>131&#45;&gt;135</title>\n",
       "<path fill=\"none\" stroke=\"black\" d=\"M2130.19,-1060.7C2133.13,-1059.04 2136.08,-1057.46 2139,-1056 2183.16,-1034.01 2199.84,-1041.99 2244,-1020 2245.55,-1019.23 2247.1,-1018.43 2248.66,-1017.59\"/>\n",
       "<polygon fill=\"black\" stroke=\"black\" points=\"2250.57,-1020.53 2257.55,-1012.56 2247.12,-1014.44 2250.57,-1020.53\"/>\n",
       "</g>\n",
       "<!-- 133 -->\n",
       "<g id=\"node134\" class=\"node\"><title>133</title>\n",
       "<polygon fill=\"#e58139\" stroke=\"black\" points=\"2240.5,-893.5 2139.5,-893.5 2139.5,-825.5 2240.5,-825.5 2240.5,-893.5\"/>\n",
       "<text text-anchor=\"middle\" x=\"2190\" y=\"-878.3\" font-family=\"Times,serif\" font-size=\"14.00\">gini = 0.0</text>\n",
       "<text text-anchor=\"middle\" x=\"2190\" y=\"-863.3\" font-family=\"Times,serif\" font-size=\"14.00\">samples = 1</text>\n",
       "<text text-anchor=\"middle\" x=\"2190\" y=\"-848.3\" font-family=\"Times,serif\" font-size=\"14.00\">value = [1, 0]</text>\n",
       "<text text-anchor=\"middle\" x=\"2190\" y=\"-833.3\" font-family=\"Times,serif\" font-size=\"14.00\">class = 未生还</text>\n",
       "</g>\n",
       "<!-- 132&#45;&gt;133 -->\n",
       "<g id=\"edge133\" class=\"edge\"><title>132&#45;&gt;133</title>\n",
       "<path fill=\"none\" stroke=\"black\" d=\"M2188.69,-936.907C2188.88,-926.204 2189.07,-914.615 2189.26,-903.776\"/>\n",
       "<polygon fill=\"black\" stroke=\"black\" points=\"2192.76,-903.725 2189.43,-893.667 2185.76,-903.606 2192.76,-903.725\"/>\n",
       "</g>\n",
       "<!-- 134 -->\n",
       "<g id=\"node135\" class=\"node\"><title>134</title>\n",
       "<polygon fill=\"#399de5\" stroke=\"black\" points=\"2351,-893.5 2259,-893.5 2259,-825.5 2351,-825.5 2351,-893.5\"/>\n",
       "<text text-anchor=\"middle\" x=\"2305\" y=\"-878.3\" font-family=\"Times,serif\" font-size=\"14.00\">gini = 0.0</text>\n",
       "<text text-anchor=\"middle\" x=\"2305\" y=\"-863.3\" font-family=\"Times,serif\" font-size=\"14.00\">samples = 2</text>\n",
       "<text text-anchor=\"middle\" x=\"2305\" y=\"-848.3\" font-family=\"Times,serif\" font-size=\"14.00\">value = [0, 2]</text>\n",
       "<text text-anchor=\"middle\" x=\"2305\" y=\"-833.3\" font-family=\"Times,serif\" font-size=\"14.00\">class = 生还</text>\n",
       "</g>\n",
       "<!-- 132&#45;&gt;134 -->\n",
       "<g id=\"edge134\" class=\"edge\"><title>132&#45;&gt;134</title>\n",
       "<path fill=\"none\" stroke=\"black\" d=\"M2228.59,-936.907C2240.29,-925.211 2253.04,-912.457 2264.72,-900.78\"/>\n",
       "<polygon fill=\"black\" stroke=\"black\" points=\"2267.24,-903.213 2271.83,-893.667 2262.29,-898.263 2267.24,-903.213\"/>\n",
       "</g>\n",
       "<!-- 138 -->\n",
       "<g id=\"node139\" class=\"node\"><title>138</title>\n",
       "<polygon fill=\"#e58139\" stroke=\"black\" points=\"2249.5,-1250.5 2148.5,-1250.5 2148.5,-1182.5 2249.5,-1182.5 2249.5,-1250.5\"/>\n",
       "<text text-anchor=\"middle\" x=\"2199\" y=\"-1235.3\" font-family=\"Times,serif\" font-size=\"14.00\">gini = 0.0</text>\n",
       "<text text-anchor=\"middle\" x=\"2199\" y=\"-1220.3\" font-family=\"Times,serif\" font-size=\"14.00\">samples = 3</text>\n",
       "<text text-anchor=\"middle\" x=\"2199\" y=\"-1205.3\" font-family=\"Times,serif\" font-size=\"14.00\">value = [3, 0]</text>\n",
       "<text text-anchor=\"middle\" x=\"2199\" y=\"-1190.3\" font-family=\"Times,serif\" font-size=\"14.00\">class = 未生还</text>\n",
       "</g>\n",
       "<!-- 137&#45;&gt;138 -->\n",
       "<g id=\"edge138\" class=\"edge\"><title>137&#45;&gt;138</title>\n",
       "<path fill=\"none\" stroke=\"black\" d=\"M2199,-1293.91C2199,-1283.2 2199,-1271.62 2199,-1260.78\"/>\n",
       "<polygon fill=\"black\" stroke=\"black\" points=\"2202.5,-1260.67 2199,-1250.67 2195.5,-1260.67 2202.5,-1260.67\"/>\n",
       "</g>\n",
       "<!-- 139 -->\n",
       "<g id=\"node140\" class=\"node\"><title>139</title>\n",
       "<polygon fill=\"#eeab7b\" stroke=\"black\" points=\"2368.5,-1258 2267.5,-1258 2267.5,-1175 2368.5,-1175 2368.5,-1258\"/>\n",
       "<text text-anchor=\"middle\" x=\"2318\" y=\"-1242.8\" font-family=\"Times,serif\" font-size=\"14.00\">SibSp &lt;= 0.5</text>\n",
       "<text text-anchor=\"middle\" x=\"2318\" y=\"-1227.8\" font-family=\"Times,serif\" font-size=\"14.00\">gini = 0.375</text>\n",
       "<text text-anchor=\"middle\" x=\"2318\" y=\"-1212.8\" font-family=\"Times,serif\" font-size=\"14.00\">samples = 4</text>\n",
       "<text text-anchor=\"middle\" x=\"2318\" y=\"-1197.8\" font-family=\"Times,serif\" font-size=\"14.00\">value = [3, 1]</text>\n",
       "<text text-anchor=\"middle\" x=\"2318\" y=\"-1182.8\" font-family=\"Times,serif\" font-size=\"14.00\">class = 未生还</text>\n",
       "</g>\n",
       "<!-- 137&#45;&gt;139 -->\n",
       "<g id=\"edge139\" class=\"edge\"><title>137&#45;&gt;139</title>\n",
       "<path fill=\"none\" stroke=\"black\" d=\"M2240.29,-1293.91C2249.7,-1284.65 2259.79,-1274.73 2269.48,-1265.21\"/>\n",
       "<polygon fill=\"black\" stroke=\"black\" points=\"2272.11,-1267.53 2276.79,-1258.02 2267.2,-1262.54 2272.11,-1267.53\"/>\n",
       "</g>\n",
       "<!-- 140 -->\n",
       "<g id=\"node141\" class=\"node\"><title>140</title>\n",
       "<polygon fill=\"#399de5\" stroke=\"black\" points=\"2350,-1131.5 2258,-1131.5 2258,-1063.5 2350,-1063.5 2350,-1131.5\"/>\n",
       "<text text-anchor=\"middle\" x=\"2304\" y=\"-1116.3\" font-family=\"Times,serif\" font-size=\"14.00\">gini = 0.0</text>\n",
       "<text text-anchor=\"middle\" x=\"2304\" y=\"-1101.3\" font-family=\"Times,serif\" font-size=\"14.00\">samples = 1</text>\n",
       "<text text-anchor=\"middle\" x=\"2304\" y=\"-1086.3\" font-family=\"Times,serif\" font-size=\"14.00\">value = [0, 1]</text>\n",
       "<text text-anchor=\"middle\" x=\"2304\" y=\"-1071.3\" font-family=\"Times,serif\" font-size=\"14.00\">class = 生还</text>\n",
       "</g>\n",
       "<!-- 139&#45;&gt;140 -->\n",
       "<g id=\"edge140\" class=\"edge\"><title>139&#45;&gt;140</title>\n",
       "<path fill=\"none\" stroke=\"black\" d=\"M2313.14,-1174.91C2311.86,-1164.2 2310.48,-1152.62 2309.18,-1141.78\"/>\n",
       "<polygon fill=\"black\" stroke=\"black\" points=\"2312.63,-1141.18 2307.97,-1131.67 2305.68,-1142.01 2312.63,-1141.18\"/>\n",
       "</g>\n",
       "<!-- 141 -->\n",
       "<g id=\"node142\" class=\"node\"><title>141</title>\n",
       "<polygon fill=\"#e58139\" stroke=\"black\" points=\"2469.5,-1131.5 2368.5,-1131.5 2368.5,-1063.5 2469.5,-1063.5 2469.5,-1131.5\"/>\n",
       "<text text-anchor=\"middle\" x=\"2419\" y=\"-1116.3\" font-family=\"Times,serif\" font-size=\"14.00\">gini = 0.0</text>\n",
       "<text text-anchor=\"middle\" x=\"2419\" y=\"-1101.3\" font-family=\"Times,serif\" font-size=\"14.00\">samples = 3</text>\n",
       "<text text-anchor=\"middle\" x=\"2419\" y=\"-1086.3\" font-family=\"Times,serif\" font-size=\"14.00\">value = [3, 0]</text>\n",
       "<text text-anchor=\"middle\" x=\"2419\" y=\"-1071.3\" font-family=\"Times,serif\" font-size=\"14.00\">class = 未生还</text>\n",
       "</g>\n",
       "<!-- 139&#45;&gt;141 -->\n",
       "<g id=\"edge141\" class=\"edge\"><title>139&#45;&gt;141</title>\n",
       "<path fill=\"none\" stroke=\"black\" d=\"M2353.04,-1174.91C2362.95,-1163.43 2373.73,-1150.94 2383.66,-1139.44\"/>\n",
       "<polygon fill=\"black\" stroke=\"black\" points=\"2386.48,-1141.52 2390.37,-1131.67 2381.18,-1136.95 2386.48,-1141.52\"/>\n",
       "</g>\n",
       "<!-- 143 -->\n",
       "<g id=\"node144\" class=\"node\"><title>143</title>\n",
       "<polygon fill=\"#aad5f4\" stroke=\"black\" points=\"2365.5,-1496 2270.5,-1496 2270.5,-1413 2365.5,-1413 2365.5,-1496\"/>\n",
       "<text text-anchor=\"middle\" x=\"2318\" y=\"-1480.8\" font-family=\"Times,serif\" font-size=\"14.00\">Fare &lt;= 11.75</text>\n",
       "<text text-anchor=\"middle\" x=\"2318\" y=\"-1465.8\" font-family=\"Times,serif\" font-size=\"14.00\">gini = 0.463</text>\n",
       "<text text-anchor=\"middle\" x=\"2318\" y=\"-1450.8\" font-family=\"Times,serif\" font-size=\"14.00\">samples = 11</text>\n",
       "<text text-anchor=\"middle\" x=\"2318\" y=\"-1435.8\" font-family=\"Times,serif\" font-size=\"14.00\">value = [4, 7]</text>\n",
       "<text text-anchor=\"middle\" x=\"2318\" y=\"-1420.8\" font-family=\"Times,serif\" font-size=\"14.00\">class = 生还</text>\n",
       "</g>\n",
       "<!-- 142&#45;&gt;143 -->\n",
       "<g id=\"edge143\" class=\"edge\"><title>142&#45;&gt;143</title>\n",
       "<path fill=\"none\" stroke=\"black\" d=\"M2318,-1531.91C2318,-1523.65 2318,-1514.86 2318,-1506.3\"/>\n",
       "<polygon fill=\"black\" stroke=\"black\" points=\"2321.5,-1506.02 2318,-1496.02 2314.5,-1506.02 2321.5,-1506.02\"/>\n",
       "</g>\n",
       "<!-- 156 -->\n",
       "<g id=\"node157\" class=\"node\"><title>156</title>\n",
       "<polygon fill=\"#e58139\" stroke=\"black\" points=\"2484.5,-1488.5 2383.5,-1488.5 2383.5,-1420.5 2484.5,-1420.5 2484.5,-1488.5\"/>\n",
       "<text text-anchor=\"middle\" x=\"2434\" y=\"-1473.3\" font-family=\"Times,serif\" font-size=\"14.00\">gini = 0.0</text>\n",
       "<text text-anchor=\"middle\" x=\"2434\" y=\"-1458.3\" font-family=\"Times,serif\" font-size=\"14.00\">samples = 2</text>\n",
       "<text text-anchor=\"middle\" x=\"2434\" y=\"-1443.3\" font-family=\"Times,serif\" font-size=\"14.00\">value = [2, 0]</text>\n",
       "<text text-anchor=\"middle\" x=\"2434\" y=\"-1428.3\" font-family=\"Times,serif\" font-size=\"14.00\">class = 未生还</text>\n",
       "</g>\n",
       "<!-- 142&#45;&gt;156 -->\n",
       "<g id=\"edge156\" class=\"edge\"><title>142&#45;&gt;156</title>\n",
       "<path fill=\"none\" stroke=\"black\" d=\"M2358.25,-1531.91C2369.84,-1520.21 2382.49,-1507.46 2394.06,-1495.78\"/>\n",
       "<polygon fill=\"black\" stroke=\"black\" points=\"2396.56,-1498.23 2401.12,-1488.67 2391.59,-1493.3 2396.56,-1498.23\"/>\n",
       "</g>\n",
       "<!-- 144 -->\n",
       "<g id=\"node145\" class=\"node\"><title>144</title>\n",
       "<polygon fill=\"#ffffff\" stroke=\"black\" points=\"2368.5,-1377 2267.5,-1377 2267.5,-1294 2368.5,-1294 2368.5,-1377\"/>\n",
       "<text text-anchor=\"middle\" x=\"2318\" y=\"-1361.8\" font-family=\"Times,serif\" font-size=\"14.00\">Fare &lt;= 8.206</text>\n",
       "<text text-anchor=\"middle\" x=\"2318\" y=\"-1346.8\" font-family=\"Times,serif\" font-size=\"14.00\">gini = 0.5</text>\n",
       "<text text-anchor=\"middle\" x=\"2318\" y=\"-1331.8\" font-family=\"Times,serif\" font-size=\"14.00\">samples = 8</text>\n",
       "<text text-anchor=\"middle\" x=\"2318\" y=\"-1316.8\" font-family=\"Times,serif\" font-size=\"14.00\">value = [4, 4]</text>\n",
       "<text text-anchor=\"middle\" x=\"2318\" y=\"-1301.8\" font-family=\"Times,serif\" font-size=\"14.00\">class = 未生还</text>\n",
       "</g>\n",
       "<!-- 143&#45;&gt;144 -->\n",
       "<g id=\"edge144\" class=\"edge\"><title>143&#45;&gt;144</title>\n",
       "<path fill=\"none\" stroke=\"black\" d=\"M2318,-1412.91C2318,-1404.65 2318,-1395.86 2318,-1387.3\"/>\n",
       "<polygon fill=\"black\" stroke=\"black\" points=\"2321.5,-1387.02 2318,-1377.02 2314.5,-1387.02 2321.5,-1387.02\"/>\n",
       "</g>\n",
       "<!-- 155 -->\n",
       "<g id=\"node156\" class=\"node\"><title>155</title>\n",
       "<polygon fill=\"#399de5\" stroke=\"black\" points=\"2479,-1369.5 2387,-1369.5 2387,-1301.5 2479,-1301.5 2479,-1369.5\"/>\n",
       "<text text-anchor=\"middle\" x=\"2433\" y=\"-1354.3\" font-family=\"Times,serif\" font-size=\"14.00\">gini = 0.0</text>\n",
       "<text text-anchor=\"middle\" x=\"2433\" y=\"-1339.3\" font-family=\"Times,serif\" font-size=\"14.00\">samples = 3</text>\n",
       "<text text-anchor=\"middle\" x=\"2433\" y=\"-1324.3\" font-family=\"Times,serif\" font-size=\"14.00\">value = [0, 3]</text>\n",
       "<text text-anchor=\"middle\" x=\"2433\" y=\"-1309.3\" font-family=\"Times,serif\" font-size=\"14.00\">class = 生还</text>\n",
       "</g>\n",
       "<!-- 143&#45;&gt;155 -->\n",
       "<g id=\"edge155\" class=\"edge\"><title>143&#45;&gt;155</title>\n",
       "<path fill=\"none\" stroke=\"black\" d=\"M2357.9,-1412.91C2369.29,-1401.32 2381.69,-1388.7 2393.08,-1377.11\"/>\n",
       "<polygon fill=\"black\" stroke=\"black\" points=\"2395.89,-1379.25 2400.4,-1369.67 2390.89,-1374.35 2395.89,-1379.25\"/>\n",
       "</g>\n",
       "<!-- 145 -->\n",
       "<g id=\"node146\" class=\"node\"><title>145</title>\n",
       "<polygon fill=\"#9ccef2\" stroke=\"black\" points=\"2547,-1258 2419,-1258 2419,-1175 2547,-1175 2547,-1258\"/>\n",
       "<text text-anchor=\"middle\" x=\"2483\" y=\"-1242.8\" font-family=\"Times,serif\" font-size=\"14.00\">Embarked_S &lt;= 0.5</text>\n",
       "<text text-anchor=\"middle\" x=\"2483\" y=\"-1227.8\" font-family=\"Times,serif\" font-size=\"14.00\">gini = 0.444</text>\n",
       "<text text-anchor=\"middle\" x=\"2483\" y=\"-1212.8\" font-family=\"Times,serif\" font-size=\"14.00\">samples = 6</text>\n",
       "<text text-anchor=\"middle\" x=\"2483\" y=\"-1197.8\" font-family=\"Times,serif\" font-size=\"14.00\">value = [2, 4]</text>\n",
       "<text text-anchor=\"middle\" x=\"2483\" y=\"-1182.8\" font-family=\"Times,serif\" font-size=\"14.00\">class = 生还</text>\n",
       "</g>\n",
       "<!-- 144&#45;&gt;145 -->\n",
       "<g id=\"edge145\" class=\"edge\"><title>144&#45;&gt;145</title>\n",
       "<path fill=\"none\" stroke=\"black\" d=\"M2368.85,-1298.44C2384.17,-1287.58 2401.21,-1275.5 2417.35,-1264.05\"/>\n",
       "<polygon fill=\"black\" stroke=\"black\" points=\"2419.56,-1266.78 2425.69,-1258.14 2415.51,-1261.07 2419.56,-1266.78\"/>\n",
       "</g>\n",
       "<!-- 154 -->\n",
       "<g id=\"node155\" class=\"node\"><title>154</title>\n",
       "<polygon fill=\"#e58139\" stroke=\"black\" points=\"2666.5,-1250.5 2565.5,-1250.5 2565.5,-1182.5 2666.5,-1182.5 2666.5,-1250.5\"/>\n",
       "<text text-anchor=\"middle\" x=\"2616\" y=\"-1235.3\" font-family=\"Times,serif\" font-size=\"14.00\">gini = 0.0</text>\n",
       "<text text-anchor=\"middle\" x=\"2616\" y=\"-1220.3\" font-family=\"Times,serif\" font-size=\"14.00\">samples = 2</text>\n",
       "<text text-anchor=\"middle\" x=\"2616\" y=\"-1205.3\" font-family=\"Times,serif\" font-size=\"14.00\">value = [2, 0]</text>\n",
       "<text text-anchor=\"middle\" x=\"2616\" y=\"-1190.3\" font-family=\"Times,serif\" font-size=\"14.00\">class = 未生还</text>\n",
       "</g>\n",
       "<!-- 144&#45;&gt;154 -->\n",
       "<g id=\"edge154\" class=\"edge\"><title>144&#45;&gt;154</title>\n",
       "<path fill=\"none\" stroke=\"black\" d=\"M2368.63,-1298.4C2371.73,-1296.8 2374.87,-1295.31 2378,-1294 2452.45,-1262.82 2481.55,-1289.18 2556,-1258 2557.87,-1257.22 2559.74,-1256.37 2561.61,-1255.48\"/>\n",
       "<polygon fill=\"black\" stroke=\"black\" points=\"2563.63,-1258.37 2570.86,-1250.62 2560.38,-1252.17 2563.63,-1258.37\"/>\n",
       "</g>\n",
       "<!-- 146 -->\n",
       "<g id=\"node147\" class=\"node\"><title>146</title>\n",
       "<polygon fill=\"#e58139\" stroke=\"black\" points=\"2588.5,-1131.5 2487.5,-1131.5 2487.5,-1063.5 2588.5,-1063.5 2588.5,-1131.5\"/>\n",
       "<text text-anchor=\"middle\" x=\"2538\" y=\"-1116.3\" font-family=\"Times,serif\" font-size=\"14.00\">gini = 0.0</text>\n",
       "<text text-anchor=\"middle\" x=\"2538\" y=\"-1101.3\" font-family=\"Times,serif\" font-size=\"14.00\">samples = 1</text>\n",
       "<text text-anchor=\"middle\" x=\"2538\" y=\"-1086.3\" font-family=\"Times,serif\" font-size=\"14.00\">value = [1, 0]</text>\n",
       "<text text-anchor=\"middle\" x=\"2538\" y=\"-1071.3\" font-family=\"Times,serif\" font-size=\"14.00\">class = 未生还</text>\n",
       "</g>\n",
       "<!-- 145&#45;&gt;146 -->\n",
       "<g id=\"edge146\" class=\"edge\"><title>145&#45;&gt;146</title>\n",
       "<path fill=\"none\" stroke=\"black\" d=\"M2502.08,-1174.91C2507.27,-1163.87 2512.9,-1151.9 2518.13,-1140.77\"/>\n",
       "<polygon fill=\"black\" stroke=\"black\" points=\"2521.32,-1142.21 2522.41,-1131.67 2514.99,-1139.23 2521.32,-1142.21\"/>\n",
       "</g>\n",
       "<!-- 147 -->\n",
       "<g id=\"node148\" class=\"node\"><title>147</title>\n",
       "<polygon fill=\"#6ab6ec\" stroke=\"black\" points=\"2699,-1139 2607,-1139 2607,-1056 2699,-1056 2699,-1139\"/>\n",
       "<text text-anchor=\"middle\" x=\"2653\" y=\"-1123.8\" font-family=\"Times,serif\" font-size=\"14.00\">Fare &lt;= 7.89</text>\n",
       "<text text-anchor=\"middle\" x=\"2653\" y=\"-1108.8\" font-family=\"Times,serif\" font-size=\"14.00\">gini = 0.32</text>\n",
       "<text text-anchor=\"middle\" x=\"2653\" y=\"-1093.8\" font-family=\"Times,serif\" font-size=\"14.00\">samples = 5</text>\n",
       "<text text-anchor=\"middle\" x=\"2653\" y=\"-1078.8\" font-family=\"Times,serif\" font-size=\"14.00\">value = [1, 4]</text>\n",
       "<text text-anchor=\"middle\" x=\"2653\" y=\"-1063.8\" font-family=\"Times,serif\" font-size=\"14.00\">class = 生还</text>\n",
       "</g>\n",
       "<!-- 145&#45;&gt;147 -->\n",
       "<g id=\"edge147\" class=\"edge\"><title>145&#45;&gt;147</title>\n",
       "<path fill=\"none\" stroke=\"black\" d=\"M2544.5,-1174.8C2561.58,-1163.34 2580.08,-1150.79 2597,-1139 2597.51,-1138.65 2598.02,-1138.29 2598.53,-1137.93\"/>\n",
       "<polygon fill=\"black\" stroke=\"black\" points=\"2600.79,-1140.62 2606.95,-1132 2596.76,-1134.9 2600.79,-1140.62\"/>\n",
       "</g>\n",
       "<!-- 148 -->\n",
       "<g id=\"node149\" class=\"node\"><title>148</title>\n",
       "<polygon fill=\"#399de5\" stroke=\"black\" points=\"2644,-1012.5 2552,-1012.5 2552,-944.5 2644,-944.5 2644,-1012.5\"/>\n",
       "<text text-anchor=\"middle\" x=\"2598\" y=\"-997.3\" font-family=\"Times,serif\" font-size=\"14.00\">gini = 0.0</text>\n",
       "<text text-anchor=\"middle\" x=\"2598\" y=\"-982.3\" font-family=\"Times,serif\" font-size=\"14.00\">samples = 1</text>\n",
       "<text text-anchor=\"middle\" x=\"2598\" y=\"-967.3\" font-family=\"Times,serif\" font-size=\"14.00\">value = [0, 1]</text>\n",
       "<text text-anchor=\"middle\" x=\"2598\" y=\"-952.3\" font-family=\"Times,serif\" font-size=\"14.00\">class = 生还</text>\n",
       "</g>\n",
       "<!-- 147&#45;&gt;148 -->\n",
       "<g id=\"edge148\" class=\"edge\"><title>147&#45;&gt;148</title>\n",
       "<path fill=\"none\" stroke=\"black\" d=\"M2633.92,-1055.91C2628.73,-1044.87 2623.1,-1032.9 2617.87,-1021.77\"/>\n",
       "<polygon fill=\"black\" stroke=\"black\" points=\"2621.01,-1020.23 2613.59,-1012.67 2614.68,-1023.21 2621.01,-1020.23\"/>\n",
       "</g>\n",
       "<!-- 149 -->\n",
       "<g id=\"node150\" class=\"node\"><title>149</title>\n",
       "<polygon fill=\"#7bbeee\" stroke=\"black\" points=\"2754,-1020 2662,-1020 2662,-937 2754,-937 2754,-1020\"/>\n",
       "<text text-anchor=\"middle\" x=\"2708\" y=\"-1004.8\" font-family=\"Times,serif\" font-size=\"14.00\">Age &lt;= 31.5</text>\n",
       "<text text-anchor=\"middle\" x=\"2708\" y=\"-989.8\" font-family=\"Times,serif\" font-size=\"14.00\">gini = 0.375</text>\n",
       "<text text-anchor=\"middle\" x=\"2708\" y=\"-974.8\" font-family=\"Times,serif\" font-size=\"14.00\">samples = 4</text>\n",
       "<text text-anchor=\"middle\" x=\"2708\" y=\"-959.8\" font-family=\"Times,serif\" font-size=\"14.00\">value = [1, 3]</text>\n",
       "<text text-anchor=\"middle\" x=\"2708\" y=\"-944.8\" font-family=\"Times,serif\" font-size=\"14.00\">class = 生还</text>\n",
       "</g>\n",
       "<!-- 147&#45;&gt;149 -->\n",
       "<g id=\"edge149\" class=\"edge\"><title>147&#45;&gt;149</title>\n",
       "<path fill=\"none\" stroke=\"black\" d=\"M2672.08,-1055.91C2676.13,-1047.29 2680.46,-1038.09 2684.65,-1029.17\"/>\n",
       "<polygon fill=\"black\" stroke=\"black\" points=\"2687.86,-1030.56 2688.95,-1020.02 2681.53,-1027.58 2687.86,-1030.56\"/>\n",
       "</g>\n",
       "<!-- 150 -->\n",
       "<g id=\"node151\" class=\"node\"><title>150</title>\n",
       "<polygon fill=\"#399de5\" stroke=\"black\" points=\"2698,-893.5 2606,-893.5 2606,-825.5 2698,-825.5 2698,-893.5\"/>\n",
       "<text text-anchor=\"middle\" x=\"2652\" y=\"-878.3\" font-family=\"Times,serif\" font-size=\"14.00\">gini = 0.0</text>\n",
       "<text text-anchor=\"middle\" x=\"2652\" y=\"-863.3\" font-family=\"Times,serif\" font-size=\"14.00\">samples = 1</text>\n",
       "<text text-anchor=\"middle\" x=\"2652\" y=\"-848.3\" font-family=\"Times,serif\" font-size=\"14.00\">value = [0, 1]</text>\n",
       "<text text-anchor=\"middle\" x=\"2652\" y=\"-833.3\" font-family=\"Times,serif\" font-size=\"14.00\">class = 生还</text>\n",
       "</g>\n",
       "<!-- 149&#45;&gt;150 -->\n",
       "<g id=\"edge150\" class=\"edge\"><title>149&#45;&gt;150</title>\n",
       "<path fill=\"none\" stroke=\"black\" d=\"M2688.57,-936.907C2683.29,-925.873 2677.56,-913.898 2672.23,-902.773\"/>\n",
       "<polygon fill=\"black\" stroke=\"black\" points=\"2675.35,-901.176 2667.87,-893.667 2669.04,-904.198 2675.35,-901.176\"/>\n",
       "</g>\n",
       "<!-- 151 -->\n",
       "<g id=\"node152\" class=\"node\"><title>151</title>\n",
       "<polygon fill=\"#9ccef2\" stroke=\"black\" points=\"2811.5,-901 2716.5,-901 2716.5,-818 2811.5,-818 2811.5,-901\"/>\n",
       "<text text-anchor=\"middle\" x=\"2764\" y=\"-885.8\" font-family=\"Times,serif\" font-size=\"14.00\">Fare &lt;= 7.988</text>\n",
       "<text text-anchor=\"middle\" x=\"2764\" y=\"-870.8\" font-family=\"Times,serif\" font-size=\"14.00\">gini = 0.444</text>\n",
       "<text text-anchor=\"middle\" x=\"2764\" y=\"-855.8\" font-family=\"Times,serif\" font-size=\"14.00\">samples = 3</text>\n",
       "<text text-anchor=\"middle\" x=\"2764\" y=\"-840.8\" font-family=\"Times,serif\" font-size=\"14.00\">value = [1, 2]</text>\n",
       "<text text-anchor=\"middle\" x=\"2764\" y=\"-825.8\" font-family=\"Times,serif\" font-size=\"14.00\">class = 生还</text>\n",
       "</g>\n",
       "<!-- 149&#45;&gt;151 -->\n",
       "<g id=\"edge151\" class=\"edge\"><title>149&#45;&gt;151</title>\n",
       "<path fill=\"none\" stroke=\"black\" d=\"M2727.43,-936.907C2731.56,-928.286 2735.96,-919.09 2740.22,-910.175\"/>\n",
       "<polygon fill=\"black\" stroke=\"black\" points=\"2743.45,-911.552 2744.61,-901.021 2737.13,-908.53 2743.45,-911.552\"/>\n",
       "</g>\n",
       "<!-- 152 -->\n",
       "<g id=\"node153\" class=\"node\"><title>152</title>\n",
       "<polygon fill=\"#ffffff\" stroke=\"black\" points=\"2756.5,-774.5 2655.5,-774.5 2655.5,-706.5 2756.5,-706.5 2756.5,-774.5\"/>\n",
       "<text text-anchor=\"middle\" x=\"2706\" y=\"-759.3\" font-family=\"Times,serif\" font-size=\"14.00\">gini = 0.5</text>\n",
       "<text text-anchor=\"middle\" x=\"2706\" y=\"-744.3\" font-family=\"Times,serif\" font-size=\"14.00\">samples = 2</text>\n",
       "<text text-anchor=\"middle\" x=\"2706\" y=\"-729.3\" font-family=\"Times,serif\" font-size=\"14.00\">value = [1, 1]</text>\n",
       "<text text-anchor=\"middle\" x=\"2706\" y=\"-714.3\" font-family=\"Times,serif\" font-size=\"14.00\">class = 未生还</text>\n",
       "</g>\n",
       "<!-- 151&#45;&gt;152 -->\n",
       "<g id=\"edge152\" class=\"edge\"><title>151&#45;&gt;152</title>\n",
       "<path fill=\"none\" stroke=\"black\" d=\"M2743.88,-817.907C2738.41,-806.873 2732.47,-794.898 2726.96,-783.773\"/>\n",
       "<polygon fill=\"black\" stroke=\"black\" points=\"2730.02,-782.072 2722.44,-774.667 2723.75,-785.181 2730.02,-782.072\"/>\n",
       "</g>\n",
       "<!-- 153 -->\n",
       "<g id=\"node154\" class=\"node\"><title>153</title>\n",
       "<polygon fill=\"#399de5\" stroke=\"black\" points=\"2867,-774.5 2775,-774.5 2775,-706.5 2867,-706.5 2867,-774.5\"/>\n",
       "<text text-anchor=\"middle\" x=\"2821\" y=\"-759.3\" font-family=\"Times,serif\" font-size=\"14.00\">gini = 0.0</text>\n",
       "<text text-anchor=\"middle\" x=\"2821\" y=\"-744.3\" font-family=\"Times,serif\" font-size=\"14.00\">samples = 1</text>\n",
       "<text text-anchor=\"middle\" x=\"2821\" y=\"-729.3\" font-family=\"Times,serif\" font-size=\"14.00\">value = [0, 1]</text>\n",
       "<text text-anchor=\"middle\" x=\"2821\" y=\"-714.3\" font-family=\"Times,serif\" font-size=\"14.00\">class = 生还</text>\n",
       "</g>\n",
       "<!-- 151&#45;&gt;153 -->\n",
       "<g id=\"edge153\" class=\"edge\"><title>151&#45;&gt;153</title>\n",
       "<path fill=\"none\" stroke=\"black\" d=\"M2783.78,-817.907C2789.15,-806.873 2794.99,-794.898 2800.41,-783.773\"/>\n",
       "<polygon fill=\"black\" stroke=\"black\" points=\"2803.61,-785.19 2804.84,-774.667 2797.32,-782.124 2803.61,-785.19\"/>\n",
       "</g>\n",
       "<!-- 158 -->\n",
       "<g id=\"node159\" class=\"node\"><title>158</title>\n",
       "<polygon fill=\"#e58139\" stroke=\"black\" points=\"2511.5,-1607.5 2410.5,-1607.5 2410.5,-1539.5 2511.5,-1539.5 2511.5,-1607.5\"/>\n",
       "<text text-anchor=\"middle\" x=\"2461\" y=\"-1592.3\" font-family=\"Times,serif\" font-size=\"14.00\">gini = 0.0</text>\n",
       "<text text-anchor=\"middle\" x=\"2461\" y=\"-1577.3\" font-family=\"Times,serif\" font-size=\"14.00\">samples = 24</text>\n",
       "<text text-anchor=\"middle\" x=\"2461\" y=\"-1562.3\" font-family=\"Times,serif\" font-size=\"14.00\">value = [24, 0]</text>\n",
       "<text text-anchor=\"middle\" x=\"2461\" y=\"-1547.3\" font-family=\"Times,serif\" font-size=\"14.00\">class = 未生还</text>\n",
       "</g>\n",
       "<!-- 157&#45;&gt;158 -->\n",
       "<g id=\"edge158\" class=\"edge\"><title>157&#45;&gt;158</title>\n",
       "<path fill=\"none\" stroke=\"black\" d=\"M2461,-1650.91C2461,-1640.2 2461,-1628.62 2461,-1617.78\"/>\n",
       "<polygon fill=\"black\" stroke=\"black\" points=\"2464.5,-1617.67 2461,-1607.67 2457.5,-1617.67 2464.5,-1617.67\"/>\n",
       "</g>\n",
       "<!-- 159 -->\n",
       "<g id=\"node160\" class=\"node\"><title>159</title>\n",
       "<polygon fill=\"#e78946\" stroke=\"black\" points=\"2685.5,-1615 2584.5,-1615 2584.5,-1532 2685.5,-1532 2685.5,-1615\"/>\n",
       "<text text-anchor=\"middle\" x=\"2635\" y=\"-1599.8\" font-family=\"Times,serif\" font-size=\"14.00\">Fare &lt;= 7.988</text>\n",
       "<text text-anchor=\"middle\" x=\"2635\" y=\"-1584.8\" font-family=\"Times,serif\" font-size=\"14.00\">gini = 0.113</text>\n",
       "<text text-anchor=\"middle\" x=\"2635\" y=\"-1569.8\" font-family=\"Times,serif\" font-size=\"14.00\">samples = 50</text>\n",
       "<text text-anchor=\"middle\" x=\"2635\" y=\"-1554.8\" font-family=\"Times,serif\" font-size=\"14.00\">value = [47, 3]</text>\n",
       "<text text-anchor=\"middle\" x=\"2635\" y=\"-1539.8\" font-family=\"Times,serif\" font-size=\"14.00\">class = 未生还</text>\n",
       "</g>\n",
       "<!-- 157&#45;&gt;159 -->\n",
       "<g id=\"edge159\" class=\"edge\"><title>157&#45;&gt;159</title>\n",
       "<path fill=\"none\" stroke=\"black\" d=\"M2511.8,-1657.34C2531.9,-1643.83 2555.14,-1628.2 2575.98,-1614.19\"/>\n",
       "<polygon fill=\"black\" stroke=\"black\" points=\"2578.1,-1616.98 2584.44,-1608.5 2574.19,-1611.17 2578.1,-1616.98\"/>\n",
       "</g>\n",
       "<!-- 160 -->\n",
       "<g id=\"node161\" class=\"node\"><title>160</title>\n",
       "<polygon fill=\"#9ccef2\" stroke=\"black\" points=\"2681,-1496 2589,-1496 2589,-1413 2681,-1413 2681,-1496\"/>\n",
       "<text text-anchor=\"middle\" x=\"2635\" y=\"-1480.8\" font-family=\"Times,serif\" font-size=\"14.00\">Age &lt;= 41.5</text>\n",
       "<text text-anchor=\"middle\" x=\"2635\" y=\"-1465.8\" font-family=\"Times,serif\" font-size=\"14.00\">gini = 0.444</text>\n",
       "<text text-anchor=\"middle\" x=\"2635\" y=\"-1450.8\" font-family=\"Times,serif\" font-size=\"14.00\">samples = 3</text>\n",
       "<text text-anchor=\"middle\" x=\"2635\" y=\"-1435.8\" font-family=\"Times,serif\" font-size=\"14.00\">value = [1, 2]</text>\n",
       "<text text-anchor=\"middle\" x=\"2635\" y=\"-1420.8\" font-family=\"Times,serif\" font-size=\"14.00\">class = 生还</text>\n",
       "</g>\n",
       "<!-- 159&#45;&gt;160 -->\n",
       "<g id=\"edge160\" class=\"edge\"><title>159&#45;&gt;160</title>\n",
       "<path fill=\"none\" stroke=\"black\" d=\"M2635,-1531.91C2635,-1523.65 2635,-1514.86 2635,-1506.3\"/>\n",
       "<polygon fill=\"black\" stroke=\"black\" points=\"2638.5,-1506.02 2635,-1496.02 2631.5,-1506.02 2638.5,-1506.02\"/>\n",
       "</g>\n",
       "<!-- 163 -->\n",
       "<g id=\"node164\" class=\"node\"><title>163</title>\n",
       "<polygon fill=\"#e6843d\" stroke=\"black\" points=\"2828.5,-1496 2727.5,-1496 2727.5,-1413 2828.5,-1413 2828.5,-1496\"/>\n",
       "<text text-anchor=\"middle\" x=\"2778\" y=\"-1480.8\" font-family=\"Times,serif\" font-size=\"14.00\">Age &lt;= 34.5</text>\n",
       "<text text-anchor=\"middle\" x=\"2778\" y=\"-1465.8\" font-family=\"Times,serif\" font-size=\"14.00\">gini = 0.042</text>\n",
       "<text text-anchor=\"middle\" x=\"2778\" y=\"-1450.8\" font-family=\"Times,serif\" font-size=\"14.00\">samples = 47</text>\n",
       "<text text-anchor=\"middle\" x=\"2778\" y=\"-1435.8\" font-family=\"Times,serif\" font-size=\"14.00\">value = [46, 1]</text>\n",
       "<text text-anchor=\"middle\" x=\"2778\" y=\"-1420.8\" font-family=\"Times,serif\" font-size=\"14.00\">class = 未生还</text>\n",
       "</g>\n",
       "<!-- 159&#45;&gt;163 -->\n",
       "<g id=\"edge163\" class=\"edge\"><title>159&#45;&gt;163</title>\n",
       "<path fill=\"none\" stroke=\"black\" d=\"M2684.61,-1531.91C2696.26,-1522.38 2708.76,-1512.15 2720.71,-1502.37\"/>\n",
       "<polygon fill=\"black\" stroke=\"black\" points=\"2722.95,-1505.06 2728.47,-1496.02 2718.52,-1499.64 2722.95,-1505.06\"/>\n",
       "</g>\n",
       "<!-- 161 -->\n",
       "<g id=\"node162\" class=\"node\"><title>161</title>\n",
       "<polygon fill=\"#ffffff\" stroke=\"black\" points=\"2598.5,-1369.5 2497.5,-1369.5 2497.5,-1301.5 2598.5,-1301.5 2598.5,-1369.5\"/>\n",
       "<text text-anchor=\"middle\" x=\"2548\" y=\"-1354.3\" font-family=\"Times,serif\" font-size=\"14.00\">gini = 0.5</text>\n",
       "<text text-anchor=\"middle\" x=\"2548\" y=\"-1339.3\" font-family=\"Times,serif\" font-size=\"14.00\">samples = 2</text>\n",
       "<text text-anchor=\"middle\" x=\"2548\" y=\"-1324.3\" font-family=\"Times,serif\" font-size=\"14.00\">value = [1, 1]</text>\n",
       "<text text-anchor=\"middle\" x=\"2548\" y=\"-1309.3\" font-family=\"Times,serif\" font-size=\"14.00\">class = 未生还</text>\n",
       "</g>\n",
       "<!-- 160&#45;&gt;161 -->\n",
       "<g id=\"edge161\" class=\"edge\"><title>160&#45;&gt;161</title>\n",
       "<path fill=\"none\" stroke=\"black\" d=\"M2604.82,-1412.91C2596.36,-1401.54 2587.17,-1389.18 2578.69,-1377.77\"/>\n",
       "<polygon fill=\"black\" stroke=\"black\" points=\"2581.44,-1375.6 2572.66,-1369.67 2575.82,-1379.78 2581.44,-1375.6\"/>\n",
       "</g>\n",
       "<!-- 162 -->\n",
       "<g id=\"node163\" class=\"node\"><title>162</title>\n",
       "<polygon fill=\"#399de5\" stroke=\"black\" points=\"2709,-1369.5 2617,-1369.5 2617,-1301.5 2709,-1301.5 2709,-1369.5\"/>\n",
       "<text text-anchor=\"middle\" x=\"2663\" y=\"-1354.3\" font-family=\"Times,serif\" font-size=\"14.00\">gini = 0.0</text>\n",
       "<text text-anchor=\"middle\" x=\"2663\" y=\"-1339.3\" font-family=\"Times,serif\" font-size=\"14.00\">samples = 1</text>\n",
       "<text text-anchor=\"middle\" x=\"2663\" y=\"-1324.3\" font-family=\"Times,serif\" font-size=\"14.00\">value = [0, 1]</text>\n",
       "<text text-anchor=\"middle\" x=\"2663\" y=\"-1309.3\" font-family=\"Times,serif\" font-size=\"14.00\">class = 生还</text>\n",
       "</g>\n",
       "<!-- 160&#45;&gt;162 -->\n",
       "<g id=\"edge162\" class=\"edge\"><title>160&#45;&gt;162</title>\n",
       "<path fill=\"none\" stroke=\"black\" d=\"M2644.71,-1412.91C2647.3,-1402.09 2650.11,-1390.38 2652.72,-1379.44\"/>\n",
       "<polygon fill=\"black\" stroke=\"black\" points=\"2656.14,-1380.21 2655.06,-1369.67 2649.33,-1378.58 2656.14,-1380.21\"/>\n",
       "</g>\n",
       "<!-- 164 -->\n",
       "<g id=\"node165\" class=\"node\"><title>164</title>\n",
       "<polygon fill=\"#e88e4d\" stroke=\"black\" points=\"2828.5,-1377 2727.5,-1377 2727.5,-1294 2828.5,-1294 2828.5,-1377\"/>\n",
       "<text text-anchor=\"middle\" x=\"2778\" y=\"-1361.8\" font-family=\"Times,serif\" font-size=\"14.00\">Fare &lt;= 13.7</text>\n",
       "<text text-anchor=\"middle\" x=\"2778\" y=\"-1346.8\" font-family=\"Times,serif\" font-size=\"14.00\">gini = 0.165</text>\n",
       "<text text-anchor=\"middle\" x=\"2778\" y=\"-1331.8\" font-family=\"Times,serif\" font-size=\"14.00\">samples = 11</text>\n",
       "<text text-anchor=\"middle\" x=\"2778\" y=\"-1316.8\" font-family=\"Times,serif\" font-size=\"14.00\">value = [10, 1]</text>\n",
       "<text text-anchor=\"middle\" x=\"2778\" y=\"-1301.8\" font-family=\"Times,serif\" font-size=\"14.00\">class = 未生还</text>\n",
       "</g>\n",
       "<!-- 163&#45;&gt;164 -->\n",
       "<g id=\"edge164\" class=\"edge\"><title>163&#45;&gt;164</title>\n",
       "<path fill=\"none\" stroke=\"black\" d=\"M2778,-1412.91C2778,-1404.65 2778,-1395.86 2778,-1387.3\"/>\n",
       "<polygon fill=\"black\" stroke=\"black\" points=\"2781.5,-1387.02 2778,-1377.02 2774.5,-1387.02 2781.5,-1387.02\"/>\n",
       "</g>\n",
       "<!-- 169 -->\n",
       "<g id=\"node170\" class=\"node\"><title>169</title>\n",
       "<polygon fill=\"#e58139\" stroke=\"black\" points=\"2947.5,-1369.5 2846.5,-1369.5 2846.5,-1301.5 2947.5,-1301.5 2947.5,-1369.5\"/>\n",
       "<text text-anchor=\"middle\" x=\"2897\" y=\"-1354.3\" font-family=\"Times,serif\" font-size=\"14.00\">gini = 0.0</text>\n",
       "<text text-anchor=\"middle\" x=\"2897\" y=\"-1339.3\" font-family=\"Times,serif\" font-size=\"14.00\">samples = 36</text>\n",
       "<text text-anchor=\"middle\" x=\"2897\" y=\"-1324.3\" font-family=\"Times,serif\" font-size=\"14.00\">value = [36, 0]</text>\n",
       "<text text-anchor=\"middle\" x=\"2897\" y=\"-1309.3\" font-family=\"Times,serif\" font-size=\"14.00\">class = 未生还</text>\n",
       "</g>\n",
       "<!-- 163&#45;&gt;169 -->\n",
       "<g id=\"edge169\" class=\"edge\"><title>163&#45;&gt;169</title>\n",
       "<path fill=\"none\" stroke=\"black\" d=\"M2819.29,-1412.91C2831.18,-1401.21 2844.15,-1388.46 2856.03,-1376.78\"/>\n",
       "<polygon fill=\"black\" stroke=\"black\" points=\"2858.59,-1379.17 2863.27,-1369.67 2853.68,-1374.18 2858.59,-1379.17\"/>\n",
       "</g>\n",
       "<!-- 165 -->\n",
       "<g id=\"node166\" class=\"node\"><title>165</title>\n",
       "<polygon fill=\"#eca06a\" stroke=\"black\" points=\"2819,-1258 2717,-1258 2717,-1175 2819,-1175 2819,-1258\"/>\n",
       "<text text-anchor=\"middle\" x=\"2768\" y=\"-1242.8\" font-family=\"Times,serif\" font-size=\"14.00\">Fare &lt;= 12.637</text>\n",
       "<text text-anchor=\"middle\" x=\"2768\" y=\"-1227.8\" font-family=\"Times,serif\" font-size=\"14.00\">gini = 0.32</text>\n",
       "<text text-anchor=\"middle\" x=\"2768\" y=\"-1212.8\" font-family=\"Times,serif\" font-size=\"14.00\">samples = 5</text>\n",
       "<text text-anchor=\"middle\" x=\"2768\" y=\"-1197.8\" font-family=\"Times,serif\" font-size=\"14.00\">value = [4, 1]</text>\n",
       "<text text-anchor=\"middle\" x=\"2768\" y=\"-1182.8\" font-family=\"Times,serif\" font-size=\"14.00\">class = 未生还</text>\n",
       "</g>\n",
       "<!-- 164&#45;&gt;165 -->\n",
       "<g id=\"edge165\" class=\"edge\"><title>164&#45;&gt;165</title>\n",
       "<path fill=\"none\" stroke=\"black\" d=\"M2774.53,-1293.91C2773.82,-1285.56 2773.06,-1276.67 2772.32,-1268.02\"/>\n",
       "<polygon fill=\"black\" stroke=\"black\" points=\"2775.8,-1267.69 2771.46,-1258.02 2768.83,-1268.28 2775.8,-1267.69\"/>\n",
       "</g>\n",
       "<!-- 168 -->\n",
       "<g id=\"node169\" class=\"node\"><title>168</title>\n",
       "<polygon fill=\"#e58139\" stroke=\"black\" points=\"2938.5,-1250.5 2837.5,-1250.5 2837.5,-1182.5 2938.5,-1182.5 2938.5,-1250.5\"/>\n",
       "<text text-anchor=\"middle\" x=\"2888\" y=\"-1235.3\" font-family=\"Times,serif\" font-size=\"14.00\">gini = 0.0</text>\n",
       "<text text-anchor=\"middle\" x=\"2888\" y=\"-1220.3\" font-family=\"Times,serif\" font-size=\"14.00\">samples = 6</text>\n",
       "<text text-anchor=\"middle\" x=\"2888\" y=\"-1205.3\" font-family=\"Times,serif\" font-size=\"14.00\">value = [6, 0]</text>\n",
       "<text text-anchor=\"middle\" x=\"2888\" y=\"-1190.3\" font-family=\"Times,serif\" font-size=\"14.00\">class = 未生还</text>\n",
       "</g>\n",
       "<!-- 164&#45;&gt;168 -->\n",
       "<g id=\"edge168\" class=\"edge\"><title>164&#45;&gt;168</title>\n",
       "<path fill=\"none\" stroke=\"black\" d=\"M2816.16,-1293.91C2827.06,-1282.32 2838.93,-1269.7 2849.82,-1258.11\"/>\n",
       "<polygon fill=\"black\" stroke=\"black\" points=\"2852.52,-1260.35 2856.82,-1250.67 2847.42,-1255.56 2852.52,-1260.35\"/>\n",
       "</g>\n",
       "<!-- 166 -->\n",
       "<g id=\"node167\" class=\"node\"><title>166</title>\n",
       "<polygon fill=\"#e58139\" stroke=\"black\" points=\"2818.5,-1131.5 2717.5,-1131.5 2717.5,-1063.5 2818.5,-1063.5 2818.5,-1131.5\"/>\n",
       "<text text-anchor=\"middle\" x=\"2768\" y=\"-1116.3\" font-family=\"Times,serif\" font-size=\"14.00\">gini = 0.0</text>\n",
       "<text text-anchor=\"middle\" x=\"2768\" y=\"-1101.3\" font-family=\"Times,serif\" font-size=\"14.00\">samples = 3</text>\n",
       "<text text-anchor=\"middle\" x=\"2768\" y=\"-1086.3\" font-family=\"Times,serif\" font-size=\"14.00\">value = [3, 0]</text>\n",
       "<text text-anchor=\"middle\" x=\"2768\" y=\"-1071.3\" font-family=\"Times,serif\" font-size=\"14.00\">class = 未生还</text>\n",
       "</g>\n",
       "<!-- 165&#45;&gt;166 -->\n",
       "<g id=\"edge166\" class=\"edge\"><title>165&#45;&gt;166</title>\n",
       "<path fill=\"none\" stroke=\"black\" d=\"M2768,-1174.91C2768,-1164.2 2768,-1152.62 2768,-1141.78\"/>\n",
       "<polygon fill=\"black\" stroke=\"black\" points=\"2771.5,-1141.67 2768,-1131.67 2764.5,-1141.67 2771.5,-1141.67\"/>\n",
       "</g>\n",
       "<!-- 167 -->\n",
       "<g id=\"node168\" class=\"node\"><title>167</title>\n",
       "<polygon fill=\"#ffffff\" stroke=\"black\" points=\"2937.5,-1131.5 2836.5,-1131.5 2836.5,-1063.5 2937.5,-1063.5 2937.5,-1131.5\"/>\n",
       "<text text-anchor=\"middle\" x=\"2887\" y=\"-1116.3\" font-family=\"Times,serif\" font-size=\"14.00\">gini = 0.5</text>\n",
       "<text text-anchor=\"middle\" x=\"2887\" y=\"-1101.3\" font-family=\"Times,serif\" font-size=\"14.00\">samples = 2</text>\n",
       "<text text-anchor=\"middle\" x=\"2887\" y=\"-1086.3\" font-family=\"Times,serif\" font-size=\"14.00\">value = [1, 1]</text>\n",
       "<text text-anchor=\"middle\" x=\"2887\" y=\"-1071.3\" font-family=\"Times,serif\" font-size=\"14.00\">class = 未生还</text>\n",
       "</g>\n",
       "<!-- 165&#45;&gt;167 -->\n",
       "<g id=\"edge167\" class=\"edge\"><title>165&#45;&gt;167</title>\n",
       "<path fill=\"none\" stroke=\"black\" d=\"M2809.29,-1174.91C2821.18,-1163.21 2834.15,-1150.46 2846.03,-1138.78\"/>\n",
       "<polygon fill=\"black\" stroke=\"black\" points=\"2848.59,-1141.17 2853.27,-1131.67 2843.68,-1136.18 2848.59,-1141.17\"/>\n",
       "</g>\n",
       "<!-- 171 -->\n",
       "<g id=\"node172\" class=\"node\"><title>171</title>\n",
       "<polygon fill=\"#45a3e7\" stroke=\"black\" points=\"3343.5,-1972 3238.5,-1972 3238.5,-1889 3343.5,-1889 3343.5,-1972\"/>\n",
       "<text text-anchor=\"middle\" x=\"3291\" y=\"-1956.8\" font-family=\"Times,serif\" font-size=\"14.00\">Age &lt;= 2.5</text>\n",
       "<text text-anchor=\"middle\" x=\"3291\" y=\"-1941.8\" font-family=\"Times,serif\" font-size=\"14.00\">gini = 0.105</text>\n",
       "<text text-anchor=\"middle\" x=\"3291\" y=\"-1926.8\" font-family=\"Times,serif\" font-size=\"14.00\">samples = 126</text>\n",
       "<text text-anchor=\"middle\" x=\"3291\" y=\"-1911.8\" font-family=\"Times,serif\" font-size=\"14.00\">value = [7, 119]</text>\n",
       "<text text-anchor=\"middle\" x=\"3291\" y=\"-1896.8\" font-family=\"Times,serif\" font-size=\"14.00\">class = 生还</text>\n",
       "</g>\n",
       "<!-- 170&#45;&gt;171 -->\n",
       "<g id=\"edge171\" class=\"edge\"><title>170&#45;&gt;171</title>\n",
       "<path fill=\"none\" stroke=\"black\" d=\"M3291,-2007.91C3291,-1999.65 3291,-1990.86 3291,-1982.3\"/>\n",
       "<polygon fill=\"black\" stroke=\"black\" points=\"3294.5,-1982.02 3291,-1972.02 3287.5,-1982.02 3294.5,-1982.02\"/>\n",
       "</g>\n",
       "<!-- 206 -->\n",
       "<g id=\"node207\" class=\"node\"><title>206</title>\n",
       "<polygon fill=\"#fbece1\" stroke=\"black\" points=\"3713.5,-1972 3608.5,-1972 3608.5,-1889 3713.5,-1889 3713.5,-1972\"/>\n",
       "<text text-anchor=\"middle\" x=\"3661\" y=\"-1956.8\" font-family=\"Times,serif\" font-size=\"14.00\">Fare &lt;= 7.742</text>\n",
       "<text text-anchor=\"middle\" x=\"3661\" y=\"-1941.8\" font-family=\"Times,serif\" font-size=\"14.00\">gini = 0.497</text>\n",
       "<text text-anchor=\"middle\" x=\"3661\" y=\"-1926.8\" font-family=\"Times,serif\" font-size=\"14.00\">samples = 72</text>\n",
       "<text text-anchor=\"middle\" x=\"3661\" y=\"-1911.8\" font-family=\"Times,serif\" font-size=\"14.00\">value = [39, 33]</text>\n",
       "<text text-anchor=\"middle\" x=\"3661\" y=\"-1896.8\" font-family=\"Times,serif\" font-size=\"14.00\">class = 未生还</text>\n",
       "</g>\n",
       "<!-- 170&#45;&gt;206 -->\n",
       "<g id=\"edge206\" class=\"edge\"><title>170&#45;&gt;206</title>\n",
       "<path fill=\"none\" stroke=\"black\" d=\"M3347.2,-2030.73C3414.97,-2009.3 3528.52,-1973.39 3598.85,-1951.15\"/>\n",
       "<polygon fill=\"black\" stroke=\"black\" points=\"3600,-1954.46 3608.48,-1948.11 3597.89,-1947.79 3600,-1954.46\"/>\n",
       "</g>\n",
       "<!-- 172 -->\n",
       "<g id=\"node173\" class=\"node\"><title>172</title>\n",
       "<polygon fill=\"#ffffff\" stroke=\"black\" points=\"3281,-1853 3179,-1853 3179,-1770 3281,-1770 3281,-1853\"/>\n",
       "<text text-anchor=\"middle\" x=\"3230\" y=\"-1837.8\" font-family=\"Times,serif\" font-size=\"14.00\">Fare &lt;= 88.775</text>\n",
       "<text text-anchor=\"middle\" x=\"3230\" y=\"-1822.8\" font-family=\"Times,serif\" font-size=\"14.00\">gini = 0.5</text>\n",
       "<text text-anchor=\"middle\" x=\"3230\" y=\"-1807.8\" font-family=\"Times,serif\" font-size=\"14.00\">samples = 2</text>\n",
       "<text text-anchor=\"middle\" x=\"3230\" y=\"-1792.8\" font-family=\"Times,serif\" font-size=\"14.00\">value = [1, 1]</text>\n",
       "<text text-anchor=\"middle\" x=\"3230\" y=\"-1777.8\" font-family=\"Times,serif\" font-size=\"14.00\">class = 未生还</text>\n",
       "</g>\n",
       "<!-- 171&#45;&gt;172 -->\n",
       "<g id=\"edge172\" class=\"edge\"><title>171&#45;&gt;172</title>\n",
       "<path fill=\"none\" stroke=\"black\" d=\"M3269.84,-1888.91C3265.29,-1880.2 3260.45,-1870.9 3255.75,-1861.89\"/>\n",
       "<polygon fill=\"black\" stroke=\"black\" points=\"3258.85,-1860.27 3251.13,-1853.02 3252.65,-1863.51 3258.85,-1860.27\"/>\n",
       "</g>\n",
       "<!-- 175 -->\n",
       "<g id=\"node176\" class=\"node\"><title>175</title>\n",
       "<polygon fill=\"#43a2e6\" stroke=\"black\" points=\"3404.5,-1853 3299.5,-1853 3299.5,-1770 3404.5,-1770 3404.5,-1853\"/>\n",
       "<text text-anchor=\"middle\" x=\"3352\" y=\"-1837.8\" font-family=\"Times,serif\" font-size=\"14.00\">Fare &lt;= 26.125</text>\n",
       "<text text-anchor=\"middle\" x=\"3352\" y=\"-1822.8\" font-family=\"Times,serif\" font-size=\"14.00\">gini = 0.092</text>\n",
       "<text text-anchor=\"middle\" x=\"3352\" y=\"-1807.8\" font-family=\"Times,serif\" font-size=\"14.00\">samples = 124</text>\n",
       "<text text-anchor=\"middle\" x=\"3352\" y=\"-1792.8\" font-family=\"Times,serif\" font-size=\"14.00\">value = [6, 118]</text>\n",
       "<text text-anchor=\"middle\" x=\"3352\" y=\"-1777.8\" font-family=\"Times,serif\" font-size=\"14.00\">class = 生还</text>\n",
       "</g>\n",
       "<!-- 171&#45;&gt;175 -->\n",
       "<g id=\"edge175\" class=\"edge\"><title>171&#45;&gt;175</title>\n",
       "<path fill=\"none\" stroke=\"black\" d=\"M3312.16,-1888.91C3316.71,-1880.2 3321.55,-1870.9 3326.25,-1861.89\"/>\n",
       "<polygon fill=\"black\" stroke=\"black\" points=\"3329.35,-1863.51 3330.87,-1853.02 3323.15,-1860.27 3329.35,-1863.51\"/>\n",
       "</g>\n",
       "<!-- 173 -->\n",
       "<g id=\"node174\" class=\"node\"><title>173</title>\n",
       "<polygon fill=\"#399de5\" stroke=\"black\" points=\"3163,-1726.5 3071,-1726.5 3071,-1658.5 3163,-1658.5 3163,-1726.5\"/>\n",
       "<text text-anchor=\"middle\" x=\"3117\" y=\"-1711.3\" font-family=\"Times,serif\" font-size=\"14.00\">gini = 0.0</text>\n",
       "<text text-anchor=\"middle\" x=\"3117\" y=\"-1696.3\" font-family=\"Times,serif\" font-size=\"14.00\">samples = 1</text>\n",
       "<text text-anchor=\"middle\" x=\"3117\" y=\"-1681.3\" font-family=\"Times,serif\" font-size=\"14.00\">value = [0, 1]</text>\n",
       "<text text-anchor=\"middle\" x=\"3117\" y=\"-1666.3\" font-family=\"Times,serif\" font-size=\"14.00\">class = 生还</text>\n",
       "</g>\n",
       "<!-- 172&#45;&gt;173 -->\n",
       "<g id=\"edge173\" class=\"edge\"><title>172&#45;&gt;173</title>\n",
       "<path fill=\"none\" stroke=\"black\" d=\"M3190.8,-1769.91C3179.61,-1758.32 3167.41,-1745.7 3156.22,-1734.11\"/>\n",
       "<polygon fill=\"black\" stroke=\"black\" points=\"3158.5,-1731.43 3149.03,-1726.67 3153.46,-1736.29 3158.5,-1731.43\"/>\n",
       "</g>\n",
       "<!-- 174 -->\n",
       "<g id=\"node175\" class=\"node\"><title>174</title>\n",
       "<polygon fill=\"#e58139\" stroke=\"black\" points=\"3282.5,-1726.5 3181.5,-1726.5 3181.5,-1658.5 3282.5,-1658.5 3282.5,-1726.5\"/>\n",
       "<text text-anchor=\"middle\" x=\"3232\" y=\"-1711.3\" font-family=\"Times,serif\" font-size=\"14.00\">gini = 0.0</text>\n",
       "<text text-anchor=\"middle\" x=\"3232\" y=\"-1696.3\" font-family=\"Times,serif\" font-size=\"14.00\">samples = 1</text>\n",
       "<text text-anchor=\"middle\" x=\"3232\" y=\"-1681.3\" font-family=\"Times,serif\" font-size=\"14.00\">value = [1, 0]</text>\n",
       "<text text-anchor=\"middle\" x=\"3232\" y=\"-1666.3\" font-family=\"Times,serif\" font-size=\"14.00\">class = 未生还</text>\n",
       "</g>\n",
       "<!-- 172&#45;&gt;174 -->\n",
       "<g id=\"edge174\" class=\"edge\"><title>172&#45;&gt;174</title>\n",
       "<path fill=\"none\" stroke=\"black\" d=\"M3230.69,-1769.91C3230.88,-1759.2 3231.07,-1747.62 3231.26,-1736.78\"/>\n",
       "<polygon fill=\"black\" stroke=\"black\" points=\"3234.76,-1736.73 3231.43,-1726.67 3227.76,-1736.61 3234.76,-1736.73\"/>\n",
       "</g>\n",
       "<!-- 176 -->\n",
       "<g id=\"node177\" class=\"node\"><title>176</title>\n",
       "<polygon fill=\"#52aae8\" stroke=\"black\" points=\"3400,-1734 3302,-1734 3302,-1651 3400,-1651 3400,-1734\"/>\n",
       "<text text-anchor=\"middle\" x=\"3351\" y=\"-1718.8\" font-family=\"Times,serif\" font-size=\"14.00\">SibSp &lt;= 0.5</text>\n",
       "<text text-anchor=\"middle\" x=\"3351\" y=\"-1703.8\" font-family=\"Times,serif\" font-size=\"14.00\">gini = 0.201</text>\n",
       "<text text-anchor=\"middle\" x=\"3351\" y=\"-1688.8\" font-family=\"Times,serif\" font-size=\"14.00\">samples = 44</text>\n",
       "<text text-anchor=\"middle\" x=\"3351\" y=\"-1673.8\" font-family=\"Times,serif\" font-size=\"14.00\">value = [5, 39]</text>\n",
       "<text text-anchor=\"middle\" x=\"3351\" y=\"-1658.8\" font-family=\"Times,serif\" font-size=\"14.00\">class = 生还</text>\n",
       "</g>\n",
       "<!-- 175&#45;&gt;176 -->\n",
       "<g id=\"edge176\" class=\"edge\"><title>175&#45;&gt;176</title>\n",
       "<path fill=\"none\" stroke=\"black\" d=\"M3351.65,-1769.91C3351.58,-1761.65 3351.51,-1752.86 3351.43,-1744.3\"/>\n",
       "<polygon fill=\"black\" stroke=\"black\" points=\"3354.93,-1743.99 3351.35,-1734.02 3347.93,-1744.05 3354.93,-1743.99\"/>\n",
       "</g>\n",
       "<!-- 199 -->\n",
       "<g id=\"node200\" class=\"node\"><title>199</title>\n",
       "<polygon fill=\"#3c9ee5\" stroke=\"black\" points=\"3516,-1734 3418,-1734 3418,-1651 3516,-1651 3516,-1734\"/>\n",
       "<text text-anchor=\"middle\" x=\"3467\" y=\"-1718.8\" font-family=\"Times,serif\" font-size=\"14.00\">Parch &lt;= 1.5</text>\n",
       "<text text-anchor=\"middle\" x=\"3467\" y=\"-1703.8\" font-family=\"Times,serif\" font-size=\"14.00\">gini = 0.025</text>\n",
       "<text text-anchor=\"middle\" x=\"3467\" y=\"-1688.8\" font-family=\"Times,serif\" font-size=\"14.00\">samples = 80</text>\n",
       "<text text-anchor=\"middle\" x=\"3467\" y=\"-1673.8\" font-family=\"Times,serif\" font-size=\"14.00\">value = [1, 79]</text>\n",
       "<text text-anchor=\"middle\" x=\"3467\" y=\"-1658.8\" font-family=\"Times,serif\" font-size=\"14.00\">class = 生还</text>\n",
       "</g>\n",
       "<!-- 175&#45;&gt;199 -->\n",
       "<g id=\"edge199\" class=\"edge\"><title>175&#45;&gt;199</title>\n",
       "<path fill=\"none\" stroke=\"black\" d=\"M3391.9,-1769.91C3401,-1760.65 3410.75,-1750.73 3420.11,-1741.21\"/>\n",
       "<polygon fill=\"black\" stroke=\"black\" points=\"3422.66,-1743.61 3427.17,-1734.02 3417.67,-1738.7 3422.66,-1743.61\"/>\n",
       "</g>\n",
       "<!-- 177 -->\n",
       "<g id=\"node178\" class=\"node\"><title>177</title>\n",
       "<polygon fill=\"#47a4e7\" stroke=\"black\" points=\"3284,-1615 3186,-1615 3186,-1532 3284,-1532 3284,-1615\"/>\n",
       "<text text-anchor=\"middle\" x=\"3235\" y=\"-1599.8\" font-family=\"Times,serif\" font-size=\"14.00\">Fare &lt;= 13.25</text>\n",
       "<text text-anchor=\"middle\" x=\"3235\" y=\"-1584.8\" font-family=\"Times,serif\" font-size=\"14.00\">gini = 0.124</text>\n",
       "<text text-anchor=\"middle\" x=\"3235\" y=\"-1569.8\" font-family=\"Times,serif\" font-size=\"14.00\">samples = 30</text>\n",
       "<text text-anchor=\"middle\" x=\"3235\" y=\"-1554.8\" font-family=\"Times,serif\" font-size=\"14.00\">value = [2, 28]</text>\n",
       "<text text-anchor=\"middle\" x=\"3235\" y=\"-1539.8\" font-family=\"Times,serif\" font-size=\"14.00\">class = 生还</text>\n",
       "</g>\n",
       "<!-- 176&#45;&gt;177 -->\n",
       "<g id=\"edge177\" class=\"edge\"><title>176&#45;&gt;177</title>\n",
       "<path fill=\"none\" stroke=\"black\" d=\"M3310.75,-1650.91C3301.58,-1641.65 3291.74,-1631.73 3282.3,-1622.21\"/>\n",
       "<polygon fill=\"black\" stroke=\"black\" points=\"3284.7,-1619.66 3275.17,-1615.02 3279.73,-1624.59 3284.7,-1619.66\"/>\n",
       "</g>\n",
       "<!-- 188 -->\n",
       "<g id=\"node189\" class=\"node\"><title>188</title>\n",
       "<polygon fill=\"#6fb8ec\" stroke=\"black\" points=\"3400,-1615 3302,-1615 3302,-1532 3400,-1532 3400,-1615\"/>\n",
       "<text text-anchor=\"middle\" x=\"3351\" y=\"-1599.8\" font-family=\"Times,serif\" font-size=\"14.00\">Age &lt;= 25.0</text>\n",
       "<text text-anchor=\"middle\" x=\"3351\" y=\"-1584.8\" font-family=\"Times,serif\" font-size=\"14.00\">gini = 0.337</text>\n",
       "<text text-anchor=\"middle\" x=\"3351\" y=\"-1569.8\" font-family=\"Times,serif\" font-size=\"14.00\">samples = 14</text>\n",
       "<text text-anchor=\"middle\" x=\"3351\" y=\"-1554.8\" font-family=\"Times,serif\" font-size=\"14.00\">value = [3, 11]</text>\n",
       "<text text-anchor=\"middle\" x=\"3351\" y=\"-1539.8\" font-family=\"Times,serif\" font-size=\"14.00\">class = 生还</text>\n",
       "</g>\n",
       "<!-- 176&#45;&gt;188 -->\n",
       "<g id=\"edge188\" class=\"edge\"><title>176&#45;&gt;188</title>\n",
       "<path fill=\"none\" stroke=\"black\" d=\"M3351,-1650.91C3351,-1642.65 3351,-1633.86 3351,-1625.3\"/>\n",
       "<polygon fill=\"black\" stroke=\"black\" points=\"3354.5,-1625.02 3351,-1615.02 3347.5,-1625.02 3354.5,-1625.02\"/>\n",
       "</g>\n",
       "<!-- 178 -->\n",
       "<g id=\"node179\" class=\"node\"><title>178</title>\n",
       "<polygon fill=\"#55abe9\" stroke=\"black\" points=\"3169,-1496 3067,-1496 3067,-1413 3169,-1413 3169,-1496\"/>\n",
       "<text text-anchor=\"middle\" x=\"3118\" y=\"-1480.8\" font-family=\"Times,serif\" font-size=\"14.00\">Fare &lt;= 12.825</text>\n",
       "<text text-anchor=\"middle\" x=\"3118\" y=\"-1465.8\" font-family=\"Times,serif\" font-size=\"14.00\">gini = 0.219</text>\n",
       "<text text-anchor=\"middle\" x=\"3118\" y=\"-1450.8\" font-family=\"Times,serif\" font-size=\"14.00\">samples = 16</text>\n",
       "<text text-anchor=\"middle\" x=\"3118\" y=\"-1435.8\" font-family=\"Times,serif\" font-size=\"14.00\">value = [2, 14]</text>\n",
       "<text text-anchor=\"middle\" x=\"3118\" y=\"-1420.8\" font-family=\"Times,serif\" font-size=\"14.00\">class = 生还</text>\n",
       "</g>\n",
       "<!-- 177&#45;&gt;178 -->\n",
       "<g id=\"edge178\" class=\"edge\"><title>177&#45;&gt;178</title>\n",
       "<path fill=\"none\" stroke=\"black\" d=\"M3194.41,-1531.91C3185.15,-1522.65 3175.23,-1512.73 3165.71,-1503.21\"/>\n",
       "<polygon fill=\"black\" stroke=\"black\" points=\"3168.07,-1500.62 3158.52,-1496.02 3163.12,-1505.57 3168.07,-1500.62\"/>\n",
       "</g>\n",
       "<!-- 187 -->\n",
       "<g id=\"node188\" class=\"node\"><title>187</title>\n",
       "<polygon fill=\"#399de5\" stroke=\"black\" points=\"3285,-1488.5 3187,-1488.5 3187,-1420.5 3285,-1420.5 3285,-1488.5\"/>\n",
       "<text text-anchor=\"middle\" x=\"3236\" y=\"-1473.3\" font-family=\"Times,serif\" font-size=\"14.00\">gini = 0.0</text>\n",
       "<text text-anchor=\"middle\" x=\"3236\" y=\"-1458.3\" font-family=\"Times,serif\" font-size=\"14.00\">samples = 14</text>\n",
       "<text text-anchor=\"middle\" x=\"3236\" y=\"-1443.3\" font-family=\"Times,serif\" font-size=\"14.00\">value = [0, 14]</text>\n",
       "<text text-anchor=\"middle\" x=\"3236\" y=\"-1428.3\" font-family=\"Times,serif\" font-size=\"14.00\">class = 生还</text>\n",
       "</g>\n",
       "<!-- 177&#45;&gt;187 -->\n",
       "<g id=\"edge187\" class=\"edge\"><title>177&#45;&gt;187</title>\n",
       "<path fill=\"none\" stroke=\"black\" d=\"M3235.35,-1531.91C3235.44,-1521.2 3235.54,-1509.62 3235.63,-1498.78\"/>\n",
       "<polygon fill=\"black\" stroke=\"black\" points=\"3239.13,-1498.7 3235.72,-1488.67 3232.13,-1498.64 3239.13,-1498.7\"/>\n",
       "</g>\n",
       "<!-- 179 -->\n",
       "<g id=\"node180\" class=\"node\"><title>179</title>\n",
       "<polygon fill=\"#399de5\" stroke=\"black\" points=\"3058,-1369.5 2966,-1369.5 2966,-1301.5 3058,-1301.5 3058,-1369.5\"/>\n",
       "<text text-anchor=\"middle\" x=\"3012\" y=\"-1354.3\" font-family=\"Times,serif\" font-size=\"14.00\">gini = 0.0</text>\n",
       "<text text-anchor=\"middle\" x=\"3012\" y=\"-1339.3\" font-family=\"Times,serif\" font-size=\"14.00\">samples = 6</text>\n",
       "<text text-anchor=\"middle\" x=\"3012\" y=\"-1324.3\" font-family=\"Times,serif\" font-size=\"14.00\">value = [0, 6]</text>\n",
       "<text text-anchor=\"middle\" x=\"3012\" y=\"-1309.3\" font-family=\"Times,serif\" font-size=\"14.00\">class = 生还</text>\n",
       "</g>\n",
       "<!-- 178&#45;&gt;179 -->\n",
       "<g id=\"edge179\" class=\"edge\"><title>178&#45;&gt;179</title>\n",
       "<path fill=\"none\" stroke=\"black\" d=\"M3081.22,-1412.91C3070.73,-1401.32 3059.29,-1388.7 3048.79,-1377.11\"/>\n",
       "<polygon fill=\"black\" stroke=\"black\" points=\"3051.36,-1374.73 3042.05,-1369.67 3046.17,-1379.43 3051.36,-1374.73\"/>\n",
       "</g>\n",
       "<!-- 180 -->\n",
       "<g id=\"node181\" class=\"node\"><title>180</title>\n",
       "<polygon fill=\"#6ab6ec\" stroke=\"black\" points=\"3168,-1377 3076,-1377 3076,-1294 3168,-1294 3168,-1377\"/>\n",
       "<text text-anchor=\"middle\" x=\"3122\" y=\"-1361.8\" font-family=\"Times,serif\" font-size=\"14.00\">Age &lt;= 26.0</text>\n",
       "<text text-anchor=\"middle\" x=\"3122\" y=\"-1346.8\" font-family=\"Times,serif\" font-size=\"14.00\">gini = 0.32</text>\n",
       "<text text-anchor=\"middle\" x=\"3122\" y=\"-1331.8\" font-family=\"Times,serif\" font-size=\"14.00\">samples = 10</text>\n",
       "<text text-anchor=\"middle\" x=\"3122\" y=\"-1316.8\" font-family=\"Times,serif\" font-size=\"14.00\">value = [2, 8]</text>\n",
       "<text text-anchor=\"middle\" x=\"3122\" y=\"-1301.8\" font-family=\"Times,serif\" font-size=\"14.00\">class = 生还</text>\n",
       "</g>\n",
       "<!-- 178&#45;&gt;180 -->\n",
       "<g id=\"edge180\" class=\"edge\"><title>178&#45;&gt;180</title>\n",
       "<path fill=\"none\" stroke=\"black\" d=\"M3119.39,-1412.91C3119.67,-1404.56 3119.98,-1395.67 3120.27,-1387.02\"/>\n",
       "<polygon fill=\"black\" stroke=\"black\" points=\"3123.77,-1387.13 3120.61,-1377.02 3116.77,-1386.9 3123.77,-1387.13\"/>\n",
       "</g>\n",
       "<!-- 181 -->\n",
       "<g id=\"node182\" class=\"node\"><title>181</title>\n",
       "<polygon fill=\"#ffffff\" stroke=\"black\" points=\"3057.5,-1250.5 2956.5,-1250.5 2956.5,-1182.5 3057.5,-1182.5 3057.5,-1250.5\"/>\n",
       "<text text-anchor=\"middle\" x=\"3007\" y=\"-1235.3\" font-family=\"Times,serif\" font-size=\"14.00\">gini = 0.5</text>\n",
       "<text text-anchor=\"middle\" x=\"3007\" y=\"-1220.3\" font-family=\"Times,serif\" font-size=\"14.00\">samples = 2</text>\n",
       "<text text-anchor=\"middle\" x=\"3007\" y=\"-1205.3\" font-family=\"Times,serif\" font-size=\"14.00\">value = [1, 1]</text>\n",
       "<text text-anchor=\"middle\" x=\"3007\" y=\"-1190.3\" font-family=\"Times,serif\" font-size=\"14.00\">class = 未生还</text>\n",
       "</g>\n",
       "<!-- 180&#45;&gt;181 -->\n",
       "<g id=\"edge181\" class=\"edge\"><title>180&#45;&gt;181</title>\n",
       "<path fill=\"none\" stroke=\"black\" d=\"M3082.1,-1293.91C3070.71,-1282.32 3058.31,-1269.7 3046.92,-1258.11\"/>\n",
       "<polygon fill=\"black\" stroke=\"black\" points=\"3049.11,-1255.35 3039.6,-1250.67 3044.11,-1260.25 3049.11,-1255.35\"/>\n",
       "</g>\n",
       "<!-- 182 -->\n",
       "<g id=\"node183\" class=\"node\"><title>182</title>\n",
       "<polygon fill=\"#55abe9\" stroke=\"black\" points=\"3168,-1258 3076,-1258 3076,-1175 3168,-1175 3168,-1258\"/>\n",
       "<text text-anchor=\"middle\" x=\"3122\" y=\"-1242.8\" font-family=\"Times,serif\" font-size=\"14.00\">Age &lt;= 37.0</text>\n",
       "<text text-anchor=\"middle\" x=\"3122\" y=\"-1227.8\" font-family=\"Times,serif\" font-size=\"14.00\">gini = 0.219</text>\n",
       "<text text-anchor=\"middle\" x=\"3122\" y=\"-1212.8\" font-family=\"Times,serif\" font-size=\"14.00\">samples = 8</text>\n",
       "<text text-anchor=\"middle\" x=\"3122\" y=\"-1197.8\" font-family=\"Times,serif\" font-size=\"14.00\">value = [1, 7]</text>\n",
       "<text text-anchor=\"middle\" x=\"3122\" y=\"-1182.8\" font-family=\"Times,serif\" font-size=\"14.00\">class = 生还</text>\n",
       "</g>\n",
       "<!-- 180&#45;&gt;182 -->\n",
       "<g id=\"edge182\" class=\"edge\"><title>180&#45;&gt;182</title>\n",
       "<path fill=\"none\" stroke=\"black\" d=\"M3122,-1293.91C3122,-1285.65 3122,-1276.86 3122,-1268.3\"/>\n",
       "<polygon fill=\"black\" stroke=\"black\" points=\"3125.5,-1268.02 3122,-1258.02 3118.5,-1268.02 3125.5,-1268.02\"/>\n",
       "</g>\n",
       "<!-- 183 -->\n",
       "<g id=\"node184\" class=\"node\"><title>183</title>\n",
       "<polygon fill=\"#399de5\" stroke=\"black\" points=\"3111,-1131.5 3019,-1131.5 3019,-1063.5 3111,-1063.5 3111,-1131.5\"/>\n",
       "<text text-anchor=\"middle\" x=\"3065\" y=\"-1116.3\" font-family=\"Times,serif\" font-size=\"14.00\">gini = 0.0</text>\n",
       "<text text-anchor=\"middle\" x=\"3065\" y=\"-1101.3\" font-family=\"Times,serif\" font-size=\"14.00\">samples = 6</text>\n",
       "<text text-anchor=\"middle\" x=\"3065\" y=\"-1086.3\" font-family=\"Times,serif\" font-size=\"14.00\">value = [0, 6]</text>\n",
       "<text text-anchor=\"middle\" x=\"3065\" y=\"-1071.3\" font-family=\"Times,serif\" font-size=\"14.00\">class = 生还</text>\n",
       "</g>\n",
       "<!-- 182&#45;&gt;183 -->\n",
       "<g id=\"edge183\" class=\"edge\"><title>182&#45;&gt;183</title>\n",
       "<path fill=\"none\" stroke=\"black\" d=\"M3102.22,-1174.91C3096.85,-1163.87 3091.01,-1151.9 3085.59,-1140.77\"/>\n",
       "<polygon fill=\"black\" stroke=\"black\" points=\"3088.68,-1139.12 3081.16,-1131.67 3082.39,-1142.19 3088.68,-1139.12\"/>\n",
       "</g>\n",
       "<!-- 184 -->\n",
       "<g id=\"node185\" class=\"node\"><title>184</title>\n",
       "<polygon fill=\"#ffffff\" stroke=\"black\" points=\"3230.5,-1139 3129.5,-1139 3129.5,-1056 3230.5,-1056 3230.5,-1139\"/>\n",
       "<text text-anchor=\"middle\" x=\"3180\" y=\"-1123.8\" font-family=\"Times,serif\" font-size=\"14.00\">Age &lt;= 39.0</text>\n",
       "<text text-anchor=\"middle\" x=\"3180\" y=\"-1108.8\" font-family=\"Times,serif\" font-size=\"14.00\">gini = 0.5</text>\n",
       "<text text-anchor=\"middle\" x=\"3180\" y=\"-1093.8\" font-family=\"Times,serif\" font-size=\"14.00\">samples = 2</text>\n",
       "<text text-anchor=\"middle\" x=\"3180\" y=\"-1078.8\" font-family=\"Times,serif\" font-size=\"14.00\">value = [1, 1]</text>\n",
       "<text text-anchor=\"middle\" x=\"3180\" y=\"-1063.8\" font-family=\"Times,serif\" font-size=\"14.00\">class = 未生还</text>\n",
       "</g>\n",
       "<!-- 182&#45;&gt;184 -->\n",
       "<g id=\"edge184\" class=\"edge\"><title>182&#45;&gt;184</title>\n",
       "<path fill=\"none\" stroke=\"black\" d=\"M3142.12,-1174.91C3146.4,-1166.29 3150.96,-1157.09 3155.37,-1148.17\"/>\n",
       "<polygon fill=\"black\" stroke=\"black\" points=\"3158.61,-1149.53 3159.91,-1139.02 3152.34,-1146.43 3158.61,-1149.53\"/>\n",
       "</g>\n",
       "<!-- 185 -->\n",
       "<g id=\"node186\" class=\"node\"><title>185</title>\n",
       "<polygon fill=\"#e58139\" stroke=\"black\" points=\"3173.5,-1012.5 3072.5,-1012.5 3072.5,-944.5 3173.5,-944.5 3173.5,-1012.5\"/>\n",
       "<text text-anchor=\"middle\" x=\"3123\" y=\"-997.3\" font-family=\"Times,serif\" font-size=\"14.00\">gini = 0.0</text>\n",
       "<text text-anchor=\"middle\" x=\"3123\" y=\"-982.3\" font-family=\"Times,serif\" font-size=\"14.00\">samples = 1</text>\n",
       "<text text-anchor=\"middle\" x=\"3123\" y=\"-967.3\" font-family=\"Times,serif\" font-size=\"14.00\">value = [1, 0]</text>\n",
       "<text text-anchor=\"middle\" x=\"3123\" y=\"-952.3\" font-family=\"Times,serif\" font-size=\"14.00\">class = 未生还</text>\n",
       "</g>\n",
       "<!-- 184&#45;&gt;185 -->\n",
       "<g id=\"edge185\" class=\"edge\"><title>184&#45;&gt;185</title>\n",
       "<path fill=\"none\" stroke=\"black\" d=\"M3160.22,-1055.91C3154.85,-1044.87 3149.01,-1032.9 3143.59,-1021.77\"/>\n",
       "<polygon fill=\"black\" stroke=\"black\" points=\"3146.68,-1020.12 3139.16,-1012.67 3140.39,-1023.19 3146.68,-1020.12\"/>\n",
       "</g>\n",
       "<!-- 186 -->\n",
       "<g id=\"node187\" class=\"node\"><title>186</title>\n",
       "<polygon fill=\"#399de5\" stroke=\"black\" points=\"3284,-1012.5 3192,-1012.5 3192,-944.5 3284,-944.5 3284,-1012.5\"/>\n",
       "<text text-anchor=\"middle\" x=\"3238\" y=\"-997.3\" font-family=\"Times,serif\" font-size=\"14.00\">gini = 0.0</text>\n",
       "<text text-anchor=\"middle\" x=\"3238\" y=\"-982.3\" font-family=\"Times,serif\" font-size=\"14.00\">samples = 1</text>\n",
       "<text text-anchor=\"middle\" x=\"3238\" y=\"-967.3\" font-family=\"Times,serif\" font-size=\"14.00\">value = [0, 1]</text>\n",
       "<text text-anchor=\"middle\" x=\"3238\" y=\"-952.3\" font-family=\"Times,serif\" font-size=\"14.00\">class = 生还</text>\n",
       "</g>\n",
       "<!-- 184&#45;&gt;186 -->\n",
       "<g id=\"edge186\" class=\"edge\"><title>184&#45;&gt;186</title>\n",
       "<path fill=\"none\" stroke=\"black\" d=\"M3200.12,-1055.91C3205.59,-1044.87 3211.53,-1032.9 3217.04,-1021.77\"/>\n",
       "<polygon fill=\"black\" stroke=\"black\" points=\"3220.25,-1023.18 3221.56,-1012.67 3213.98,-1020.07 3220.25,-1023.18\"/>\n",
       "</g>\n",
       "<!-- 189 -->\n",
       "<g id=\"node190\" class=\"node\"><title>189</title>\n",
       "<polygon fill=\"#399de5\" stroke=\"black\" points=\"3396,-1488.5 3304,-1488.5 3304,-1420.5 3396,-1420.5 3396,-1488.5\"/>\n",
       "<text text-anchor=\"middle\" x=\"3350\" y=\"-1473.3\" font-family=\"Times,serif\" font-size=\"14.00\">gini = 0.0</text>\n",
       "<text text-anchor=\"middle\" x=\"3350\" y=\"-1458.3\" font-family=\"Times,serif\" font-size=\"14.00\">samples = 4</text>\n",
       "<text text-anchor=\"middle\" x=\"3350\" y=\"-1443.3\" font-family=\"Times,serif\" font-size=\"14.00\">value = [0, 4]</text>\n",
       "<text text-anchor=\"middle\" x=\"3350\" y=\"-1428.3\" font-family=\"Times,serif\" font-size=\"14.00\">class = 生还</text>\n",
       "</g>\n",
       "<!-- 188&#45;&gt;189 -->\n",
       "<g id=\"edge189\" class=\"edge\"><title>188&#45;&gt;189</title>\n",
       "<path fill=\"none\" stroke=\"black\" d=\"M3350.65,-1531.91C3350.56,-1521.2 3350.46,-1509.62 3350.37,-1498.78\"/>\n",
       "<polygon fill=\"black\" stroke=\"black\" points=\"3353.87,-1498.64 3350.28,-1488.67 3346.87,-1498.7 3353.87,-1498.64\"/>\n",
       "</g>\n",
       "<!-- 190 -->\n",
       "<g id=\"node191\" class=\"node\"><title>190</title>\n",
       "<polygon fill=\"#8ec7f0\" stroke=\"black\" points=\"3506,-1496 3414,-1496 3414,-1413 3506,-1413 3506,-1496\"/>\n",
       "<text text-anchor=\"middle\" x=\"3460\" y=\"-1480.8\" font-family=\"Times,serif\" font-size=\"14.00\">Age &lt;= 27.5</text>\n",
       "<text text-anchor=\"middle\" x=\"3460\" y=\"-1465.8\" font-family=\"Times,serif\" font-size=\"14.00\">gini = 0.42</text>\n",
       "<text text-anchor=\"middle\" x=\"3460\" y=\"-1450.8\" font-family=\"Times,serif\" font-size=\"14.00\">samples = 10</text>\n",
       "<text text-anchor=\"middle\" x=\"3460\" y=\"-1435.8\" font-family=\"Times,serif\" font-size=\"14.00\">value = [3, 7]</text>\n",
       "<text text-anchor=\"middle\" x=\"3460\" y=\"-1420.8\" font-family=\"Times,serif\" font-size=\"14.00\">class = 生还</text>\n",
       "</g>\n",
       "<!-- 188&#45;&gt;190 -->\n",
       "<g id=\"edge190\" class=\"edge\"><title>188&#45;&gt;190</title>\n",
       "<path fill=\"none\" stroke=\"black\" d=\"M3388.82,-1531.91C3397.36,-1522.74 3406.5,-1512.93 3415.29,-1503.49\"/>\n",
       "<polygon fill=\"black\" stroke=\"black\" points=\"3417.99,-1505.72 3422.25,-1496.02 3412.87,-1500.95 3417.99,-1505.72\"/>\n",
       "</g>\n",
       "<!-- 191 -->\n",
       "<g id=\"node192\" class=\"node\"><title>191</title>\n",
       "<polygon fill=\"#f2c09c\" stroke=\"black\" points=\"3399,-1377 3271,-1377 3271,-1294 3399,-1294 3399,-1377\"/>\n",
       "<text text-anchor=\"middle\" x=\"3335\" y=\"-1361.8\" font-family=\"Times,serif\" font-size=\"14.00\">Embarked_S &lt;= 0.5</text>\n",
       "<text text-anchor=\"middle\" x=\"3335\" y=\"-1346.8\" font-family=\"Times,serif\" font-size=\"14.00\">gini = 0.444</text>\n",
       "<text text-anchor=\"middle\" x=\"3335\" y=\"-1331.8\" font-family=\"Times,serif\" font-size=\"14.00\">samples = 3</text>\n",
       "<text text-anchor=\"middle\" x=\"3335\" y=\"-1316.8\" font-family=\"Times,serif\" font-size=\"14.00\">value = [2, 1]</text>\n",
       "<text text-anchor=\"middle\" x=\"3335\" y=\"-1301.8\" font-family=\"Times,serif\" font-size=\"14.00\">class = 未生还</text>\n",
       "</g>\n",
       "<!-- 190&#45;&gt;191 -->\n",
       "<g id=\"edge191\" class=\"edge\"><title>190&#45;&gt;191</title>\n",
       "<path fill=\"none\" stroke=\"black\" d=\"M3416.63,-1412.91C3406.65,-1403.56 3395.94,-1393.54 3385.67,-1383.93\"/>\n",
       "<polygon fill=\"black\" stroke=\"black\" points=\"3387.98,-1381.3 3378.29,-1377.02 3383.2,-1386.41 3387.98,-1381.3\"/>\n",
       "</g>\n",
       "<!-- 194 -->\n",
       "<g id=\"node195\" class=\"node\"><title>194</title>\n",
       "<polygon fill=\"#5aade9\" stroke=\"black\" points=\"3509,-1377 3417,-1377 3417,-1294 3509,-1294 3509,-1377\"/>\n",
       "<text text-anchor=\"middle\" x=\"3463\" y=\"-1361.8\" font-family=\"Times,serif\" font-size=\"14.00\">Age &lt;= 43.0</text>\n",
       "<text text-anchor=\"middle\" x=\"3463\" y=\"-1346.8\" font-family=\"Times,serif\" font-size=\"14.00\">gini = 0.245</text>\n",
       "<text text-anchor=\"middle\" x=\"3463\" y=\"-1331.8\" font-family=\"Times,serif\" font-size=\"14.00\">samples = 7</text>\n",
       "<text text-anchor=\"middle\" x=\"3463\" y=\"-1316.8\" font-family=\"Times,serif\" font-size=\"14.00\">value = [1, 6]</text>\n",
       "<text text-anchor=\"middle\" x=\"3463\" y=\"-1301.8\" font-family=\"Times,serif\" font-size=\"14.00\">class = 生还</text>\n",
       "</g>\n",
       "<!-- 190&#45;&gt;194 -->\n",
       "<g id=\"edge194\" class=\"edge\"><title>190&#45;&gt;194</title>\n",
       "<path fill=\"none\" stroke=\"black\" d=\"M3461.04,-1412.91C3461.25,-1404.56 3461.48,-1395.67 3461.7,-1387.02\"/>\n",
       "<polygon fill=\"black\" stroke=\"black\" points=\"3465.2,-1387.11 3461.96,-1377.02 3458.21,-1386.93 3465.2,-1387.11\"/>\n",
       "</g>\n",
       "<!-- 192 -->\n",
       "<g id=\"node193\" class=\"node\"><title>192</title>\n",
       "<polygon fill=\"#399de5\" stroke=\"black\" points=\"3278,-1250.5 3186,-1250.5 3186,-1182.5 3278,-1182.5 3278,-1250.5\"/>\n",
       "<text text-anchor=\"middle\" x=\"3232\" y=\"-1235.3\" font-family=\"Times,serif\" font-size=\"14.00\">gini = 0.0</text>\n",
       "<text text-anchor=\"middle\" x=\"3232\" y=\"-1220.3\" font-family=\"Times,serif\" font-size=\"14.00\">samples = 1</text>\n",
       "<text text-anchor=\"middle\" x=\"3232\" y=\"-1205.3\" font-family=\"Times,serif\" font-size=\"14.00\">value = [0, 1]</text>\n",
       "<text text-anchor=\"middle\" x=\"3232\" y=\"-1190.3\" font-family=\"Times,serif\" font-size=\"14.00\">class = 生还</text>\n",
       "</g>\n",
       "<!-- 191&#45;&gt;192 -->\n",
       "<g id=\"edge192\" class=\"edge\"><title>191&#45;&gt;192</title>\n",
       "<path fill=\"none\" stroke=\"black\" d=\"M3299.26,-1293.91C3289.16,-1282.43 3278.16,-1269.94 3268.04,-1258.44\"/>\n",
       "<polygon fill=\"black\" stroke=\"black\" points=\"3270.43,-1255.86 3261.2,-1250.67 3265.18,-1260.49 3270.43,-1255.86\"/>\n",
       "</g>\n",
       "<!-- 193 -->\n",
       "<g id=\"node194\" class=\"node\"><title>193</title>\n",
       "<polygon fill=\"#e58139\" stroke=\"black\" points=\"3397.5,-1250.5 3296.5,-1250.5 3296.5,-1182.5 3397.5,-1182.5 3397.5,-1250.5\"/>\n",
       "<text text-anchor=\"middle\" x=\"3347\" y=\"-1235.3\" font-family=\"Times,serif\" font-size=\"14.00\">gini = 0.0</text>\n",
       "<text text-anchor=\"middle\" x=\"3347\" y=\"-1220.3\" font-family=\"Times,serif\" font-size=\"14.00\">samples = 2</text>\n",
       "<text text-anchor=\"middle\" x=\"3347\" y=\"-1205.3\" font-family=\"Times,serif\" font-size=\"14.00\">value = [2, 0]</text>\n",
       "<text text-anchor=\"middle\" x=\"3347\" y=\"-1190.3\" font-family=\"Times,serif\" font-size=\"14.00\">class = 未生还</text>\n",
       "</g>\n",
       "<!-- 191&#45;&gt;193 -->\n",
       "<g id=\"edge193\" class=\"edge\"><title>191&#45;&gt;193</title>\n",
       "<path fill=\"none\" stroke=\"black\" d=\"M3339.16,-1293.91C3340.26,-1283.2 3341.45,-1271.62 3342.56,-1260.78\"/>\n",
       "<polygon fill=\"black\" stroke=\"black\" points=\"3346.06,-1260.97 3343.6,-1250.67 3339.1,-1260.26 3346.06,-1260.97\"/>\n",
       "</g>\n",
       "<!-- 195 -->\n",
       "<g id=\"node196\" class=\"node\"><title>195</title>\n",
       "<polygon fill=\"#399de5\" stroke=\"black\" points=\"3508,-1250.5 3416,-1250.5 3416,-1182.5 3508,-1182.5 3508,-1250.5\"/>\n",
       "<text text-anchor=\"middle\" x=\"3462\" y=\"-1235.3\" font-family=\"Times,serif\" font-size=\"14.00\">gini = 0.0</text>\n",
       "<text text-anchor=\"middle\" x=\"3462\" y=\"-1220.3\" font-family=\"Times,serif\" font-size=\"14.00\">samples = 5</text>\n",
       "<text text-anchor=\"middle\" x=\"3462\" y=\"-1205.3\" font-family=\"Times,serif\" font-size=\"14.00\">value = [0, 5]</text>\n",
       "<text text-anchor=\"middle\" x=\"3462\" y=\"-1190.3\" font-family=\"Times,serif\" font-size=\"14.00\">class = 生还</text>\n",
       "</g>\n",
       "<!-- 194&#45;&gt;195 -->\n",
       "<g id=\"edge195\" class=\"edge\"><title>194&#45;&gt;195</title>\n",
       "<path fill=\"none\" stroke=\"black\" d=\"M3462.65,-1293.91C3462.56,-1283.2 3462.46,-1271.62 3462.37,-1260.78\"/>\n",
       "<polygon fill=\"black\" stroke=\"black\" points=\"3465.87,-1260.64 3462.28,-1250.67 3458.87,-1260.7 3465.87,-1260.64\"/>\n",
       "</g>\n",
       "<!-- 196 -->\n",
       "<g id=\"node197\" class=\"node\"><title>196</title>\n",
       "<polygon fill=\"#ffffff\" stroke=\"black\" points=\"3627.5,-1258 3526.5,-1258 3526.5,-1175 3627.5,-1175 3627.5,-1258\"/>\n",
       "<text text-anchor=\"middle\" x=\"3577\" y=\"-1242.8\" font-family=\"Times,serif\" font-size=\"14.00\">Parch &lt;= 1.5</text>\n",
       "<text text-anchor=\"middle\" x=\"3577\" y=\"-1227.8\" font-family=\"Times,serif\" font-size=\"14.00\">gini = 0.5</text>\n",
       "<text text-anchor=\"middle\" x=\"3577\" y=\"-1212.8\" font-family=\"Times,serif\" font-size=\"14.00\">samples = 2</text>\n",
       "<text text-anchor=\"middle\" x=\"3577\" y=\"-1197.8\" font-family=\"Times,serif\" font-size=\"14.00\">value = [1, 1]</text>\n",
       "<text text-anchor=\"middle\" x=\"3577\" y=\"-1182.8\" font-family=\"Times,serif\" font-size=\"14.00\">class = 未生还</text>\n",
       "</g>\n",
       "<!-- 194&#45;&gt;196 -->\n",
       "<g id=\"edge196\" class=\"edge\"><title>194&#45;&gt;196</title>\n",
       "<path fill=\"none\" stroke=\"black\" d=\"M3502.55,-1293.91C3511.57,-1284.65 3521.24,-1274.73 3530.51,-1265.21\"/>\n",
       "<polygon fill=\"black\" stroke=\"black\" points=\"3533.05,-1267.63 3537.52,-1258.02 3528.03,-1262.74 3533.05,-1267.63\"/>\n",
       "</g>\n",
       "<!-- 197 -->\n",
       "<g id=\"node198\" class=\"node\"><title>197</title>\n",
       "<polygon fill=\"#e58139\" stroke=\"black\" points=\"3512.5,-1131.5 3411.5,-1131.5 3411.5,-1063.5 3512.5,-1063.5 3512.5,-1131.5\"/>\n",
       "<text text-anchor=\"middle\" x=\"3462\" y=\"-1116.3\" font-family=\"Times,serif\" font-size=\"14.00\">gini = 0.0</text>\n",
       "<text text-anchor=\"middle\" x=\"3462\" y=\"-1101.3\" font-family=\"Times,serif\" font-size=\"14.00\">samples = 1</text>\n",
       "<text text-anchor=\"middle\" x=\"3462\" y=\"-1086.3\" font-family=\"Times,serif\" font-size=\"14.00\">value = [1, 0]</text>\n",
       "<text text-anchor=\"middle\" x=\"3462\" y=\"-1071.3\" font-family=\"Times,serif\" font-size=\"14.00\">class = 未生还</text>\n",
       "</g>\n",
       "<!-- 196&#45;&gt;197 -->\n",
       "<g id=\"edge197\" class=\"edge\"><title>196&#45;&gt;197</title>\n",
       "<path fill=\"none\" stroke=\"black\" d=\"M3537.1,-1174.91C3525.71,-1163.32 3513.31,-1150.7 3501.92,-1139.11\"/>\n",
       "<polygon fill=\"black\" stroke=\"black\" points=\"3504.11,-1136.35 3494.6,-1131.67 3499.11,-1141.25 3504.11,-1136.35\"/>\n",
       "</g>\n",
       "<!-- 198 -->\n",
       "<g id=\"node199\" class=\"node\"><title>198</title>\n",
       "<polygon fill=\"#399de5\" stroke=\"black\" points=\"3623,-1131.5 3531,-1131.5 3531,-1063.5 3623,-1063.5 3623,-1131.5\"/>\n",
       "<text text-anchor=\"middle\" x=\"3577\" y=\"-1116.3\" font-family=\"Times,serif\" font-size=\"14.00\">gini = 0.0</text>\n",
       "<text text-anchor=\"middle\" x=\"3577\" y=\"-1101.3\" font-family=\"Times,serif\" font-size=\"14.00\">samples = 1</text>\n",
       "<text text-anchor=\"middle\" x=\"3577\" y=\"-1086.3\" font-family=\"Times,serif\" font-size=\"14.00\">value = [0, 1]</text>\n",
       "<text text-anchor=\"middle\" x=\"3577\" y=\"-1071.3\" font-family=\"Times,serif\" font-size=\"14.00\">class = 生还</text>\n",
       "</g>\n",
       "<!-- 196&#45;&gt;198 -->\n",
       "<g id=\"edge198\" class=\"edge\"><title>196&#45;&gt;198</title>\n",
       "<path fill=\"none\" stroke=\"black\" d=\"M3577,-1174.91C3577,-1164.2 3577,-1152.62 3577,-1141.78\"/>\n",
       "<polygon fill=\"black\" stroke=\"black\" points=\"3580.5,-1141.67 3577,-1131.67 3573.5,-1141.67 3580.5,-1141.67\"/>\n",
       "</g>\n",
       "<!-- 200 -->\n",
       "<g id=\"node201\" class=\"node\"><title>200</title>\n",
       "<polygon fill=\"#399de5\" stroke=\"black\" points=\"3516,-1607.5 3418,-1607.5 3418,-1539.5 3516,-1539.5 3516,-1607.5\"/>\n",
       "<text text-anchor=\"middle\" x=\"3467\" y=\"-1592.3\" font-family=\"Times,serif\" font-size=\"14.00\">gini = 0.0</text>\n",
       "<text text-anchor=\"middle\" x=\"3467\" y=\"-1577.3\" font-family=\"Times,serif\" font-size=\"14.00\">samples = 65</text>\n",
       "<text text-anchor=\"middle\" x=\"3467\" y=\"-1562.3\" font-family=\"Times,serif\" font-size=\"14.00\">value = [0, 65]</text>\n",
       "<text text-anchor=\"middle\" x=\"3467\" y=\"-1547.3\" font-family=\"Times,serif\" font-size=\"14.00\">class = 生还</text>\n",
       "</g>\n",
       "<!-- 199&#45;&gt;200 -->\n",
       "<g id=\"edge200\" class=\"edge\"><title>199&#45;&gt;200</title>\n",
       "<path fill=\"none\" stroke=\"black\" d=\"M3467,-1650.91C3467,-1640.2 3467,-1628.62 3467,-1617.78\"/>\n",
       "<polygon fill=\"black\" stroke=\"black\" points=\"3470.5,-1617.67 3467,-1607.67 3463.5,-1617.67 3470.5,-1617.67\"/>\n",
       "</g>\n",
       "<!-- 201 -->\n",
       "<g id=\"node202\" class=\"node\"><title>201</title>\n",
       "<polygon fill=\"#47a4e7\" stroke=\"black\" points=\"3632,-1615 3534,-1615 3534,-1532 3632,-1532 3632,-1615\"/>\n",
       "<text text-anchor=\"middle\" x=\"3583\" y=\"-1599.8\" font-family=\"Times,serif\" font-size=\"14.00\">Age &lt;= 24.5</text>\n",
       "<text text-anchor=\"middle\" x=\"3583\" y=\"-1584.8\" font-family=\"Times,serif\" font-size=\"14.00\">gini = 0.124</text>\n",
       "<text text-anchor=\"middle\" x=\"3583\" y=\"-1569.8\" font-family=\"Times,serif\" font-size=\"14.00\">samples = 15</text>\n",
       "<text text-anchor=\"middle\" x=\"3583\" y=\"-1554.8\" font-family=\"Times,serif\" font-size=\"14.00\">value = [1, 14]</text>\n",
       "<text text-anchor=\"middle\" x=\"3583\" y=\"-1539.8\" font-family=\"Times,serif\" font-size=\"14.00\">class = 生还</text>\n",
       "</g>\n",
       "<!-- 199&#45;&gt;201 -->\n",
       "<g id=\"edge201\" class=\"edge\"><title>199&#45;&gt;201</title>\n",
       "<path fill=\"none\" stroke=\"black\" d=\"M3507.25,-1650.91C3516.42,-1641.65 3526.26,-1631.73 3535.7,-1622.21\"/>\n",
       "<polygon fill=\"black\" stroke=\"black\" points=\"3538.27,-1624.59 3542.83,-1615.02 3533.3,-1619.66 3538.27,-1624.59\"/>\n",
       "</g>\n",
       "<!-- 202 -->\n",
       "<g id=\"node203\" class=\"node\"><title>202</title>\n",
       "<polygon fill=\"#399de5\" stroke=\"black\" points=\"3629,-1488.5 3531,-1488.5 3531,-1420.5 3629,-1420.5 3629,-1488.5\"/>\n",
       "<text text-anchor=\"middle\" x=\"3580\" y=\"-1473.3\" font-family=\"Times,serif\" font-size=\"14.00\">gini = 0.0</text>\n",
       "<text text-anchor=\"middle\" x=\"3580\" y=\"-1458.3\" font-family=\"Times,serif\" font-size=\"14.00\">samples = 11</text>\n",
       "<text text-anchor=\"middle\" x=\"3580\" y=\"-1443.3\" font-family=\"Times,serif\" font-size=\"14.00\">value = [0, 11]</text>\n",
       "<text text-anchor=\"middle\" x=\"3580\" y=\"-1428.3\" font-family=\"Times,serif\" font-size=\"14.00\">class = 生还</text>\n",
       "</g>\n",
       "<!-- 201&#45;&gt;202 -->\n",
       "<g id=\"edge202\" class=\"edge\"><title>201&#45;&gt;202</title>\n",
       "<path fill=\"none\" stroke=\"black\" d=\"M3581.96,-1531.91C3581.68,-1521.2 3581.39,-1509.62 3581.11,-1498.78\"/>\n",
       "<polygon fill=\"black\" stroke=\"black\" points=\"3584.61,-1498.57 3580.85,-1488.67 3577.61,-1498.75 3584.61,-1498.57\"/>\n",
       "</g>\n",
       "<!-- 203 -->\n",
       "<g id=\"node204\" class=\"node\"><title>203</title>\n",
       "<polygon fill=\"#7bbeee\" stroke=\"black\" points=\"3739,-1496 3647,-1496 3647,-1413 3739,-1413 3739,-1496\"/>\n",
       "<text text-anchor=\"middle\" x=\"3693\" y=\"-1480.8\" font-family=\"Times,serif\" font-size=\"14.00\">Age &lt;= 28.0</text>\n",
       "<text text-anchor=\"middle\" x=\"3693\" y=\"-1465.8\" font-family=\"Times,serif\" font-size=\"14.00\">gini = 0.375</text>\n",
       "<text text-anchor=\"middle\" x=\"3693\" y=\"-1450.8\" font-family=\"Times,serif\" font-size=\"14.00\">samples = 4</text>\n",
       "<text text-anchor=\"middle\" x=\"3693\" y=\"-1435.8\" font-family=\"Times,serif\" font-size=\"14.00\">value = [1, 3]</text>\n",
       "<text text-anchor=\"middle\" x=\"3693\" y=\"-1420.8\" font-family=\"Times,serif\" font-size=\"14.00\">class = 生还</text>\n",
       "</g>\n",
       "<!-- 201&#45;&gt;203 -->\n",
       "<g id=\"edge203\" class=\"edge\"><title>201&#45;&gt;203</title>\n",
       "<path fill=\"none\" stroke=\"black\" d=\"M3621.16,-1531.91C3629.78,-1522.74 3639.01,-1512.93 3647.88,-1503.49\"/>\n",
       "<polygon fill=\"black\" stroke=\"black\" points=\"3650.6,-1505.7 3654.9,-1496.02 3645.5,-1500.91 3650.6,-1505.7\"/>\n",
       "</g>\n",
       "<!-- 204 -->\n",
       "<g id=\"node205\" class=\"node\"><title>204</title>\n",
       "<polygon fill=\"#e58139\" stroke=\"black\" points=\"3631.5,-1369.5 3530.5,-1369.5 3530.5,-1301.5 3631.5,-1301.5 3631.5,-1369.5\"/>\n",
       "<text text-anchor=\"middle\" x=\"3581\" y=\"-1354.3\" font-family=\"Times,serif\" font-size=\"14.00\">gini = 0.0</text>\n",
       "<text text-anchor=\"middle\" x=\"3581\" y=\"-1339.3\" font-family=\"Times,serif\" font-size=\"14.00\">samples = 1</text>\n",
       "<text text-anchor=\"middle\" x=\"3581\" y=\"-1324.3\" font-family=\"Times,serif\" font-size=\"14.00\">value = [1, 0]</text>\n",
       "<text text-anchor=\"middle\" x=\"3581\" y=\"-1309.3\" font-family=\"Times,serif\" font-size=\"14.00\">class = 未生还</text>\n",
       "</g>\n",
       "<!-- 203&#45;&gt;204 -->\n",
       "<g id=\"edge204\" class=\"edge\"><title>203&#45;&gt;204</title>\n",
       "<path fill=\"none\" stroke=\"black\" d=\"M3654.14,-1412.91C3643.05,-1401.32 3630.97,-1388.7 3619.88,-1377.11\"/>\n",
       "<polygon fill=\"black\" stroke=\"black\" points=\"3622.19,-1374.47 3612.75,-1369.67 3617.14,-1379.31 3622.19,-1374.47\"/>\n",
       "</g>\n",
       "<!-- 205 -->\n",
       "<g id=\"node206\" class=\"node\"><title>205</title>\n",
       "<polygon fill=\"#399de5\" stroke=\"black\" points=\"3742,-1369.5 3650,-1369.5 3650,-1301.5 3742,-1301.5 3742,-1369.5\"/>\n",
       "<text text-anchor=\"middle\" x=\"3696\" y=\"-1354.3\" font-family=\"Times,serif\" font-size=\"14.00\">gini = 0.0</text>\n",
       "<text text-anchor=\"middle\" x=\"3696\" y=\"-1339.3\" font-family=\"Times,serif\" font-size=\"14.00\">samples = 3</text>\n",
       "<text text-anchor=\"middle\" x=\"3696\" y=\"-1324.3\" font-family=\"Times,serif\" font-size=\"14.00\">value = [0, 3]</text>\n",
       "<text text-anchor=\"middle\" x=\"3696\" y=\"-1309.3\" font-family=\"Times,serif\" font-size=\"14.00\">class = 生还</text>\n",
       "</g>\n",
       "<!-- 203&#45;&gt;205 -->\n",
       "<g id=\"edge205\" class=\"edge\"><title>203&#45;&gt;205</title>\n",
       "<path fill=\"none\" stroke=\"black\" d=\"M3694.04,-1412.91C3694.32,-1402.2 3694.61,-1390.62 3694.89,-1379.78\"/>\n",
       "<polygon fill=\"black\" stroke=\"black\" points=\"3698.39,-1379.75 3695.15,-1369.67 3691.39,-1379.57 3698.39,-1379.75\"/>\n",
       "</g>\n",
       "<!-- 207 -->\n",
       "<g id=\"node208\" class=\"node\"><title>207</title>\n",
       "<polygon fill=\"#399de5\" stroke=\"black\" points=\"3707,-1845.5 3615,-1845.5 3615,-1777.5 3707,-1777.5 3707,-1845.5\"/>\n",
       "<text text-anchor=\"middle\" x=\"3661\" y=\"-1830.3\" font-family=\"Times,serif\" font-size=\"14.00\">gini = 0.0</text>\n",
       "<text text-anchor=\"middle\" x=\"3661\" y=\"-1815.3\" font-family=\"Times,serif\" font-size=\"14.00\">samples = 5</text>\n",
       "<text text-anchor=\"middle\" x=\"3661\" y=\"-1800.3\" font-family=\"Times,serif\" font-size=\"14.00\">value = [0, 5]</text>\n",
       "<text text-anchor=\"middle\" x=\"3661\" y=\"-1785.3\" font-family=\"Times,serif\" font-size=\"14.00\">class = 生还</text>\n",
       "</g>\n",
       "<!-- 206&#45;&gt;207 -->\n",
       "<g id=\"edge207\" class=\"edge\"><title>206&#45;&gt;207</title>\n",
       "<path fill=\"none\" stroke=\"black\" d=\"M3661,-1888.91C3661,-1878.2 3661,-1866.62 3661,-1855.78\"/>\n",
       "<polygon fill=\"black\" stroke=\"black\" points=\"3664.5,-1855.67 3661,-1845.67 3657.5,-1855.67 3664.5,-1855.67\"/>\n",
       "</g>\n",
       "<!-- 208 -->\n",
       "<g id=\"node209\" class=\"node\"><title>208</title>\n",
       "<polygon fill=\"#f8dbc7\" stroke=\"black\" points=\"3915.5,-1853 3810.5,-1853 3810.5,-1770 3915.5,-1770 3915.5,-1853\"/>\n",
       "<text text-anchor=\"middle\" x=\"3863\" y=\"-1837.8\" font-family=\"Times,serif\" font-size=\"14.00\">Age &lt;= 38.5</text>\n",
       "<text text-anchor=\"middle\" x=\"3863\" y=\"-1822.8\" font-family=\"Times,serif\" font-size=\"14.00\">gini = 0.487</text>\n",
       "<text text-anchor=\"middle\" x=\"3863\" y=\"-1807.8\" font-family=\"Times,serif\" font-size=\"14.00\">samples = 67</text>\n",
       "<text text-anchor=\"middle\" x=\"3863\" y=\"-1792.8\" font-family=\"Times,serif\" font-size=\"14.00\">value = [39, 28]</text>\n",
       "<text text-anchor=\"middle\" x=\"3863\" y=\"-1777.8\" font-family=\"Times,serif\" font-size=\"14.00\">class = 未生还</text>\n",
       "</g>\n",
       "<!-- 206&#45;&gt;208 -->\n",
       "<g id=\"edge208\" class=\"edge\"><title>206&#45;&gt;208</title>\n",
       "<path fill=\"none\" stroke=\"black\" d=\"M3713.55,-1899.07C3740.44,-1883.49 3773.35,-1864.43 3801.43,-1848.16\"/>\n",
       "<polygon fill=\"black\" stroke=\"black\" points=\"3803.47,-1851.03 3810.37,-1842.99 3799.96,-1844.97 3803.47,-1851.03\"/>\n",
       "</g>\n",
       "<!-- 209 -->\n",
       "<g id=\"node210\" class=\"node\"><title>209</title>\n",
       "<polygon fill=\"#fcefe5\" stroke=\"black\" points=\"3915.5,-1734 3810.5,-1734 3810.5,-1651 3915.5,-1651 3915.5,-1734\"/>\n",
       "<text text-anchor=\"middle\" x=\"3863\" y=\"-1718.8\" font-family=\"Times,serif\" font-size=\"14.00\">Age &lt;= 1.5</text>\n",
       "<text text-anchor=\"middle\" x=\"3863\" y=\"-1703.8\" font-family=\"Times,serif\" font-size=\"14.00\">gini = 0.498</text>\n",
       "<text text-anchor=\"middle\" x=\"3863\" y=\"-1688.8\" font-family=\"Times,serif\" font-size=\"14.00\">samples = 58</text>\n",
       "<text text-anchor=\"middle\" x=\"3863\" y=\"-1673.8\" font-family=\"Times,serif\" font-size=\"14.00\">value = [31, 27]</text>\n",
       "<text text-anchor=\"middle\" x=\"3863\" y=\"-1658.8\" font-family=\"Times,serif\" font-size=\"14.00\">class = 未生还</text>\n",
       "</g>\n",
       "<!-- 208&#45;&gt;209 -->\n",
       "<g id=\"edge209\" class=\"edge\"><title>208&#45;&gt;209</title>\n",
       "<path fill=\"none\" stroke=\"black\" d=\"M3863,-1769.91C3863,-1761.65 3863,-1752.86 3863,-1744.3\"/>\n",
       "<polygon fill=\"black\" stroke=\"black\" points=\"3866.5,-1744.02 3863,-1734.02 3859.5,-1744.02 3866.5,-1744.02\"/>\n",
       "</g>\n",
       "<!-- 254 -->\n",
       "<g id=\"node255\" class=\"node\"><title>254</title>\n",
       "<polygon fill=\"#e89152\" stroke=\"black\" points=\"4093.5,-1734 3992.5,-1734 3992.5,-1651 4093.5,-1651 4093.5,-1734\"/>\n",
       "<text text-anchor=\"middle\" x=\"4043\" y=\"-1718.8\" font-family=\"Times,serif\" font-size=\"14.00\">Age &lt;= 55.5</text>\n",
       "<text text-anchor=\"middle\" x=\"4043\" y=\"-1703.8\" font-family=\"Times,serif\" font-size=\"14.00\">gini = 0.198</text>\n",
       "<text text-anchor=\"middle\" x=\"4043\" y=\"-1688.8\" font-family=\"Times,serif\" font-size=\"14.00\">samples = 9</text>\n",
       "<text text-anchor=\"middle\" x=\"4043\" y=\"-1673.8\" font-family=\"Times,serif\" font-size=\"14.00\">value = [8, 1]</text>\n",
       "<text text-anchor=\"middle\" x=\"4043\" y=\"-1658.8\" font-family=\"Times,serif\" font-size=\"14.00\">class = 未生还</text>\n",
       "</g>\n",
       "<!-- 208&#45;&gt;254 -->\n",
       "<g id=\"edge254\" class=\"edge\"><title>208&#45;&gt;254</title>\n",
       "<path fill=\"none\" stroke=\"black\" d=\"M3915.55,-1776.34C3936.89,-1762.47 3961.66,-1746.37 3983.65,-1732.08\"/>\n",
       "<polygon fill=\"black\" stroke=\"black\" points=\"3985.77,-1734.87 3992.25,-1726.49 3981.96,-1729 3985.77,-1734.87\"/>\n",
       "</g>\n",
       "<!-- 210 -->\n",
       "<g id=\"node211\" class=\"node\"><title>210</title>\n",
       "<polygon fill=\"#399de5\" stroke=\"black\" points=\"3851,-1607.5 3759,-1607.5 3759,-1539.5 3851,-1539.5 3851,-1607.5\"/>\n",
       "<text text-anchor=\"middle\" x=\"3805\" y=\"-1592.3\" font-family=\"Times,serif\" font-size=\"14.00\">gini = 0.0</text>\n",
       "<text text-anchor=\"middle\" x=\"3805\" y=\"-1577.3\" font-family=\"Times,serif\" font-size=\"14.00\">samples = 2</text>\n",
       "<text text-anchor=\"middle\" x=\"3805\" y=\"-1562.3\" font-family=\"Times,serif\" font-size=\"14.00\">value = [0, 2]</text>\n",
       "<text text-anchor=\"middle\" x=\"3805\" y=\"-1547.3\" font-family=\"Times,serif\" font-size=\"14.00\">class = 生还</text>\n",
       "</g>\n",
       "<!-- 209&#45;&gt;210 -->\n",
       "<g id=\"edge210\" class=\"edge\"><title>209&#45;&gt;210</title>\n",
       "<path fill=\"none\" stroke=\"black\" d=\"M3842.88,-1650.91C3837.41,-1639.87 3831.47,-1627.9 3825.96,-1616.77\"/>\n",
       "<polygon fill=\"black\" stroke=\"black\" points=\"3829.02,-1615.07 3821.44,-1607.67 3822.75,-1618.18 3829.02,-1615.07\"/>\n",
       "</g>\n",
       "<!-- 211 -->\n",
       "<g id=\"node212\" class=\"node\"><title>211</title>\n",
       "<polygon fill=\"#fae7d9\" stroke=\"black\" points=\"3974.5,-1615 3869.5,-1615 3869.5,-1532 3974.5,-1532 3974.5,-1615\"/>\n",
       "<text text-anchor=\"middle\" x=\"3922\" y=\"-1599.8\" font-family=\"Times,serif\" font-size=\"14.00\">Age &lt;= 32.5</text>\n",
       "<text text-anchor=\"middle\" x=\"3922\" y=\"-1584.8\" font-family=\"Times,serif\" font-size=\"14.00\">gini = 0.494</text>\n",
       "<text text-anchor=\"middle\" x=\"3922\" y=\"-1569.8\" font-family=\"Times,serif\" font-size=\"14.00\">samples = 56</text>\n",
       "<text text-anchor=\"middle\" x=\"3922\" y=\"-1554.8\" font-family=\"Times,serif\" font-size=\"14.00\">value = [31, 25]</text>\n",
       "<text text-anchor=\"middle\" x=\"3922\" y=\"-1539.8\" font-family=\"Times,serif\" font-size=\"14.00\">class = 未生还</text>\n",
       "</g>\n",
       "<!-- 209&#45;&gt;211 -->\n",
       "<g id=\"edge211\" class=\"edge\"><title>209&#45;&gt;211</title>\n",
       "<path fill=\"none\" stroke=\"black\" d=\"M3883.47,-1650.91C3887.82,-1642.29 3892.45,-1633.09 3896.95,-1624.17\"/>\n",
       "<polygon fill=\"black\" stroke=\"black\" points=\"3900.19,-1625.53 3901.57,-1615.02 3893.94,-1622.37 3900.19,-1625.53\"/>\n",
       "</g>\n",
       "<!-- 212 -->\n",
       "<g id=\"node213\" class=\"node\"><title>212</title>\n",
       "<polygon fill=\"#f8ddca\" stroke=\"black\" points=\"3974.5,-1496 3869.5,-1496 3869.5,-1413 3974.5,-1413 3974.5,-1496\"/>\n",
       "<text text-anchor=\"middle\" x=\"3922\" y=\"-1480.8\" font-family=\"Times,serif\" font-size=\"14.00\">Fare &lt;= 8.294</text>\n",
       "<text text-anchor=\"middle\" x=\"3922\" y=\"-1465.8\" font-family=\"Times,serif\" font-size=\"14.00\">gini = 0.488</text>\n",
       "<text text-anchor=\"middle\" x=\"3922\" y=\"-1450.8\" font-family=\"Times,serif\" font-size=\"14.00\">samples = 52</text>\n",
       "<text text-anchor=\"middle\" x=\"3922\" y=\"-1435.8\" font-family=\"Times,serif\" font-size=\"14.00\">value = [30, 22]</text>\n",
       "<text text-anchor=\"middle\" x=\"3922\" y=\"-1420.8\" font-family=\"Times,serif\" font-size=\"14.00\">class = 未生还</text>\n",
       "</g>\n",
       "<!-- 211&#45;&gt;212 -->\n",
       "<g id=\"edge212\" class=\"edge\"><title>211&#45;&gt;212</title>\n",
       "<path fill=\"none\" stroke=\"black\" d=\"M3922,-1531.91C3922,-1523.65 3922,-1514.86 3922,-1506.3\"/>\n",
       "<polygon fill=\"black\" stroke=\"black\" points=\"3925.5,-1506.02 3922,-1496.02 3918.5,-1506.02 3925.5,-1506.02\"/>\n",
       "</g>\n",
       "<!-- 251 -->\n",
       "<g id=\"node252\" class=\"node\"><title>251</title>\n",
       "<polygon fill=\"#7bbeee\" stroke=\"black\" points=\"4149,-1496 4057,-1496 4057,-1413 4149,-1413 4149,-1496\"/>\n",
       "<text text-anchor=\"middle\" x=\"4103\" y=\"-1480.8\" font-family=\"Times,serif\" font-size=\"14.00\">SibSp &lt;= 0.5</text>\n",
       "<text text-anchor=\"middle\" x=\"4103\" y=\"-1465.8\" font-family=\"Times,serif\" font-size=\"14.00\">gini = 0.375</text>\n",
       "<text text-anchor=\"middle\" x=\"4103\" y=\"-1450.8\" font-family=\"Times,serif\" font-size=\"14.00\">samples = 4</text>\n",
       "<text text-anchor=\"middle\" x=\"4103\" y=\"-1435.8\" font-family=\"Times,serif\" font-size=\"14.00\">value = [1, 3]</text>\n",
       "<text text-anchor=\"middle\" x=\"4103\" y=\"-1420.8\" font-family=\"Times,serif\" font-size=\"14.00\">class = 生还</text>\n",
       "</g>\n",
       "<!-- 211&#45;&gt;251 -->\n",
       "<g id=\"edge251\" class=\"edge\"><title>211&#45;&gt;251</title>\n",
       "<path fill=\"none\" stroke=\"black\" d=\"M3974.75,-1538.01C3977.88,-1535.97 3980.98,-1533.96 3984,-1532 4005.01,-1518.38 4028.16,-1503.48 4048.41,-1490.48\"/>\n",
       "<polygon fill=\"black\" stroke=\"black\" points=\"4050.37,-1493.38 4056.89,-1485.03 4046.59,-1487.49 4050.37,-1493.38\"/>\n",
       "</g>\n",
       "<!-- 213 -->\n",
       "<g id=\"node214\" class=\"node\"><title>213</title>\n",
       "<polygon fill=\"#d7ebfa\" stroke=\"black\" points=\"3911,-1377 3813,-1377 3813,-1294 3911,-1294 3911,-1377\"/>\n",
       "<text text-anchor=\"middle\" x=\"3862\" y=\"-1361.8\" font-family=\"Times,serif\" font-size=\"14.00\">Age &lt;= 27.5</text>\n",
       "<text text-anchor=\"middle\" x=\"3862\" y=\"-1346.8\" font-family=\"Times,serif\" font-size=\"14.00\">gini = 0.494</text>\n",
       "<text text-anchor=\"middle\" x=\"3862\" y=\"-1331.8\" font-family=\"Times,serif\" font-size=\"14.00\">samples = 18</text>\n",
       "<text text-anchor=\"middle\" x=\"3862\" y=\"-1316.8\" font-family=\"Times,serif\" font-size=\"14.00\">value = [8, 10]</text>\n",
       "<text text-anchor=\"middle\" x=\"3862\" y=\"-1301.8\" font-family=\"Times,serif\" font-size=\"14.00\">class = 生还</text>\n",
       "</g>\n",
       "<!-- 212&#45;&gt;213 -->\n",
       "<g id=\"edge213\" class=\"edge\"><title>212&#45;&gt;213</title>\n",
       "<path fill=\"none\" stroke=\"black\" d=\"M3901.18,-1412.91C3896.76,-1404.29 3892.05,-1395.09 3887.47,-1386.17\"/>\n",
       "<polygon fill=\"black\" stroke=\"black\" points=\"3890.46,-1384.32 3882.78,-1377.02 3884.23,-1387.52 3890.46,-1384.32\"/>\n",
       "</g>\n",
       "<!-- 226 -->\n",
       "<g id=\"node227\" class=\"node\"><title>226</title>\n",
       "<polygon fill=\"#f3c6a5\" stroke=\"black\" points=\"4034.5,-1377 3929.5,-1377 3929.5,-1294 4034.5,-1294 4034.5,-1377\"/>\n",
       "<text text-anchor=\"middle\" x=\"3982\" y=\"-1361.8\" font-family=\"Times,serif\" font-size=\"14.00\">Fare &lt;= 10.798</text>\n",
       "<text text-anchor=\"middle\" x=\"3982\" y=\"-1346.8\" font-family=\"Times,serif\" font-size=\"14.00\">gini = 0.457</text>\n",
       "<text text-anchor=\"middle\" x=\"3982\" y=\"-1331.8\" font-family=\"Times,serif\" font-size=\"14.00\">samples = 34</text>\n",
       "<text text-anchor=\"middle\" x=\"3982\" y=\"-1316.8\" font-family=\"Times,serif\" font-size=\"14.00\">value = [22, 12]</text>\n",
       "<text text-anchor=\"middle\" x=\"3982\" y=\"-1301.8\" font-family=\"Times,serif\" font-size=\"14.00\">class = 未生还</text>\n",
       "</g>\n",
       "<!-- 212&#45;&gt;226 -->\n",
       "<g id=\"edge226\" class=\"edge\"><title>212&#45;&gt;226</title>\n",
       "<path fill=\"none\" stroke=\"black\" d=\"M3942.82,-1412.91C3947.24,-1404.29 3951.95,-1395.09 3956.53,-1386.17\"/>\n",
       "<polygon fill=\"black\" stroke=\"black\" points=\"3959.77,-1387.52 3961.22,-1377.02 3953.54,-1384.32 3959.77,-1387.52\"/>\n",
       "</g>\n",
       "<!-- 214 -->\n",
       "<g id=\"node215\" class=\"node\"><title>214</title>\n",
       "<polygon fill=\"#9ccef2\" stroke=\"black\" points=\"3794,-1258 3696,-1258 3696,-1175 3794,-1175 3794,-1258\"/>\n",
       "<text text-anchor=\"middle\" x=\"3745\" y=\"-1242.8\" font-family=\"Times,serif\" font-size=\"14.00\">Age &lt;= 15.0</text>\n",
       "<text text-anchor=\"middle\" x=\"3745\" y=\"-1227.8\" font-family=\"Times,serif\" font-size=\"14.00\">gini = 0.444</text>\n",
       "<text text-anchor=\"middle\" x=\"3745\" y=\"-1212.8\" font-family=\"Times,serif\" font-size=\"14.00\">samples = 15</text>\n",
       "<text text-anchor=\"middle\" x=\"3745\" y=\"-1197.8\" font-family=\"Times,serif\" font-size=\"14.00\">value = [5, 10]</text>\n",
       "<text text-anchor=\"middle\" x=\"3745\" y=\"-1182.8\" font-family=\"Times,serif\" font-size=\"14.00\">class = 生还</text>\n",
       "</g>\n",
       "<!-- 213&#45;&gt;214 -->\n",
       "<g id=\"edge214\" class=\"edge\"><title>213&#45;&gt;214</title>\n",
       "<path fill=\"none\" stroke=\"black\" d=\"M3821.41,-1293.91C3812.15,-1284.65 3802.23,-1274.73 3792.71,-1265.21\"/>\n",
       "<polygon fill=\"black\" stroke=\"black\" points=\"3795.07,-1262.62 3785.52,-1258.02 3790.12,-1267.57 3795.07,-1262.62\"/>\n",
       "</g>\n",
       "<!-- 225 -->\n",
       "<g id=\"node226\" class=\"node\"><title>225</title>\n",
       "<polygon fill=\"#e58139\" stroke=\"black\" points=\"3913.5,-1250.5 3812.5,-1250.5 3812.5,-1182.5 3913.5,-1182.5 3913.5,-1250.5\"/>\n",
       "<text text-anchor=\"middle\" x=\"3863\" y=\"-1235.3\" font-family=\"Times,serif\" font-size=\"14.00\">gini = 0.0</text>\n",
       "<text text-anchor=\"middle\" x=\"3863\" y=\"-1220.3\" font-family=\"Times,serif\" font-size=\"14.00\">samples = 3</text>\n",
       "<text text-anchor=\"middle\" x=\"3863\" y=\"-1205.3\" font-family=\"Times,serif\" font-size=\"14.00\">value = [3, 0]</text>\n",
       "<text text-anchor=\"middle\" x=\"3863\" y=\"-1190.3\" font-family=\"Times,serif\" font-size=\"14.00\">class = 未生还</text>\n",
       "</g>\n",
       "<!-- 213&#45;&gt;225 -->\n",
       "<g id=\"edge225\" class=\"edge\"><title>213&#45;&gt;225</title>\n",
       "<path fill=\"none\" stroke=\"black\" d=\"M3862.35,-1293.91C3862.44,-1283.2 3862.54,-1271.62 3862.63,-1260.78\"/>\n",
       "<polygon fill=\"black\" stroke=\"black\" points=\"3866.13,-1260.7 3862.72,-1250.67 3859.13,-1260.64 3866.13,-1260.7\"/>\n",
       "</g>\n",
       "<!-- 215 -->\n",
       "<g id=\"node216\" class=\"node\"><title>215</title>\n",
       "<polygon fill=\"#e58139\" stroke=\"black\" points=\"3742.5,-1131.5 3641.5,-1131.5 3641.5,-1063.5 3742.5,-1063.5 3742.5,-1131.5\"/>\n",
       "<text text-anchor=\"middle\" x=\"3692\" y=\"-1116.3\" font-family=\"Times,serif\" font-size=\"14.00\">gini = 0.0</text>\n",
       "<text text-anchor=\"middle\" x=\"3692\" y=\"-1101.3\" font-family=\"Times,serif\" font-size=\"14.00\">samples = 1</text>\n",
       "<text text-anchor=\"middle\" x=\"3692\" y=\"-1086.3\" font-family=\"Times,serif\" font-size=\"14.00\">value = [1, 0]</text>\n",
       "<text text-anchor=\"middle\" x=\"3692\" y=\"-1071.3\" font-family=\"Times,serif\" font-size=\"14.00\">class = 未生还</text>\n",
       "</g>\n",
       "<!-- 214&#45;&gt;215 -->\n",
       "<g id=\"edge215\" class=\"edge\"><title>214&#45;&gt;215</title>\n",
       "<path fill=\"none\" stroke=\"black\" d=\"M3726.61,-1174.91C3721.66,-1163.98 3716.3,-1152.14 3711.3,-1141.11\"/>\n",
       "<polygon fill=\"black\" stroke=\"black\" points=\"3714.34,-1139.33 3707.02,-1131.67 3707.96,-1142.22 3714.34,-1139.33\"/>\n",
       "</g>\n",
       "<!-- 216 -->\n",
       "<g id=\"node217\" class=\"node\"><title>216</title>\n",
       "<polygon fill=\"#88c4ef\" stroke=\"black\" points=\"3859,-1139 3761,-1139 3761,-1056 3859,-1056 3859,-1139\"/>\n",
       "<text text-anchor=\"middle\" x=\"3810\" y=\"-1123.8\" font-family=\"Times,serif\" font-size=\"14.00\">Age &lt;= 22.5</text>\n",
       "<text text-anchor=\"middle\" x=\"3810\" y=\"-1108.8\" font-family=\"Times,serif\" font-size=\"14.00\">gini = 0.408</text>\n",
       "<text text-anchor=\"middle\" x=\"3810\" y=\"-1093.8\" font-family=\"Times,serif\" font-size=\"14.00\">samples = 14</text>\n",
       "<text text-anchor=\"middle\" x=\"3810\" y=\"-1078.8\" font-family=\"Times,serif\" font-size=\"14.00\">value = [4, 10]</text>\n",
       "<text text-anchor=\"middle\" x=\"3810\" y=\"-1063.8\" font-family=\"Times,serif\" font-size=\"14.00\">class = 生还</text>\n",
       "</g>\n",
       "<!-- 214&#45;&gt;216 -->\n",
       "<g id=\"edge216\" class=\"edge\"><title>214&#45;&gt;216</title>\n",
       "<path fill=\"none\" stroke=\"black\" d=\"M3767.55,-1174.91C3772.39,-1166.2 3777.56,-1156.9 3782.56,-1147.89\"/>\n",
       "<polygon fill=\"black\" stroke=\"black\" points=\"3785.69,-1149.46 3787.49,-1139.02 3779.57,-1146.06 3785.69,-1149.46\"/>\n",
       "</g>\n",
       "<!-- 217 -->\n",
       "<g id=\"node218\" class=\"node\"><title>217</title>\n",
       "<polygon fill=\"#55abe9\" stroke=\"black\" points=\"3769,-1020 3677,-1020 3677,-937 3769,-937 3769,-1020\"/>\n",
       "<text text-anchor=\"middle\" x=\"3723\" y=\"-1004.8\" font-family=\"Times,serif\" font-size=\"14.00\">Age &lt;= 20.0</text>\n",
       "<text text-anchor=\"middle\" x=\"3723\" y=\"-989.8\" font-family=\"Times,serif\" font-size=\"14.00\">gini = 0.219</text>\n",
       "<text text-anchor=\"middle\" x=\"3723\" y=\"-974.8\" font-family=\"Times,serif\" font-size=\"14.00\">samples = 8</text>\n",
       "<text text-anchor=\"middle\" x=\"3723\" y=\"-959.8\" font-family=\"Times,serif\" font-size=\"14.00\">value = [1, 7]</text>\n",
       "<text text-anchor=\"middle\" x=\"3723\" y=\"-944.8\" font-family=\"Times,serif\" font-size=\"14.00\">class = 生还</text>\n",
       "</g>\n",
       "<!-- 216&#45;&gt;217 -->\n",
       "<g id=\"edge217\" class=\"edge\"><title>216&#45;&gt;217</title>\n",
       "<path fill=\"none\" stroke=\"black\" d=\"M3779.82,-1055.91C3773.14,-1046.92 3765.99,-1037.32 3759.1,-1028.05\"/>\n",
       "<polygon fill=\"black\" stroke=\"black\" points=\"3761.91,-1025.96 3753.13,-1020.02 3756.29,-1030.13 3761.91,-1025.96\"/>\n",
       "</g>\n",
       "<!-- 222 -->\n",
       "<g id=\"node223\" class=\"node\"><title>222</title>\n",
       "<polygon fill=\"#ffffff\" stroke=\"black\" points=\"3888.5,-1020 3787.5,-1020 3787.5,-937 3888.5,-937 3888.5,-1020\"/>\n",
       "<text text-anchor=\"middle\" x=\"3838\" y=\"-1004.8\" font-family=\"Times,serif\" font-size=\"14.00\">Age &lt;= 25.5</text>\n",
       "<text text-anchor=\"middle\" x=\"3838\" y=\"-989.8\" font-family=\"Times,serif\" font-size=\"14.00\">gini = 0.5</text>\n",
       "<text text-anchor=\"middle\" x=\"3838\" y=\"-974.8\" font-family=\"Times,serif\" font-size=\"14.00\">samples = 6</text>\n",
       "<text text-anchor=\"middle\" x=\"3838\" y=\"-959.8\" font-family=\"Times,serif\" font-size=\"14.00\">value = [3, 3]</text>\n",
       "<text text-anchor=\"middle\" x=\"3838\" y=\"-944.8\" font-family=\"Times,serif\" font-size=\"14.00\">class = 未生还</text>\n",
       "</g>\n",
       "<!-- 216&#45;&gt;222 -->\n",
       "<g id=\"edge222\" class=\"edge\"><title>216&#45;&gt;222</title>\n",
       "<path fill=\"none\" stroke=\"black\" d=\"M3819.71,-1055.91C3821.71,-1047.56 3823.84,-1038.67 3825.91,-1030.02\"/>\n",
       "<polygon fill=\"black\" stroke=\"black\" points=\"3829.38,-1030.56 3828.3,-1020.02 3822.57,-1028.93 3829.38,-1030.56\"/>\n",
       "</g>\n",
       "<!-- 218 -->\n",
       "<g id=\"node219\" class=\"node\"><title>218</title>\n",
       "<polygon fill=\"#399de5\" stroke=\"black\" points=\"3659,-893.5 3567,-893.5 3567,-825.5 3659,-825.5 3659,-893.5\"/>\n",
       "<text text-anchor=\"middle\" x=\"3613\" y=\"-878.3\" font-family=\"Times,serif\" font-size=\"14.00\">gini = 0.0</text>\n",
       "<text text-anchor=\"middle\" x=\"3613\" y=\"-863.3\" font-family=\"Times,serif\" font-size=\"14.00\">samples = 4</text>\n",
       "<text text-anchor=\"middle\" x=\"3613\" y=\"-848.3\" font-family=\"Times,serif\" font-size=\"14.00\">value = [0, 4]</text>\n",
       "<text text-anchor=\"middle\" x=\"3613\" y=\"-833.3\" font-family=\"Times,serif\" font-size=\"14.00\">class = 生还</text>\n",
       "</g>\n",
       "<!-- 217&#45;&gt;218 -->\n",
       "<g id=\"edge218\" class=\"edge\"><title>217&#45;&gt;218</title>\n",
       "<path fill=\"none\" stroke=\"black\" d=\"M3684.84,-936.907C3673.94,-925.321 3662.07,-912.698 3651.18,-901.111\"/>\n",
       "<polygon fill=\"black\" stroke=\"black\" points=\"3653.58,-898.555 3644.18,-893.667 3648.48,-903.35 3653.58,-898.555\"/>\n",
       "</g>\n",
       "<!-- 219 -->\n",
       "<g id=\"node220\" class=\"node\"><title>219</title>\n",
       "<polygon fill=\"#7bbeee\" stroke=\"black\" points=\"3769,-901 3677,-901 3677,-818 3769,-818 3769,-901\"/>\n",
       "<text text-anchor=\"middle\" x=\"3723\" y=\"-885.8\" font-family=\"Times,serif\" font-size=\"14.00\">Age &lt;= 21.5</text>\n",
       "<text text-anchor=\"middle\" x=\"3723\" y=\"-870.8\" font-family=\"Times,serif\" font-size=\"14.00\">gini = 0.375</text>\n",
       "<text text-anchor=\"middle\" x=\"3723\" y=\"-855.8\" font-family=\"Times,serif\" font-size=\"14.00\">samples = 4</text>\n",
       "<text text-anchor=\"middle\" x=\"3723\" y=\"-840.8\" font-family=\"Times,serif\" font-size=\"14.00\">value = [1, 3]</text>\n",
       "<text text-anchor=\"middle\" x=\"3723\" y=\"-825.8\" font-family=\"Times,serif\" font-size=\"14.00\">class = 生还</text>\n",
       "</g>\n",
       "<!-- 217&#45;&gt;219 -->\n",
       "<g id=\"edge219\" class=\"edge\"><title>217&#45;&gt;219</title>\n",
       "<path fill=\"none\" stroke=\"black\" d=\"M3723,-936.907C3723,-928.649 3723,-919.864 3723,-911.302\"/>\n",
       "<polygon fill=\"black\" stroke=\"black\" points=\"3726.5,-911.021 3723,-901.021 3719.5,-911.021 3726.5,-911.021\"/>\n",
       "</g>\n",
       "<!-- 220 -->\n",
       "<g id=\"node221\" class=\"node\"><title>220</title>\n",
       "<polygon fill=\"#e58139\" stroke=\"black\" points=\"3715.5,-774.5 3614.5,-774.5 3614.5,-706.5 3715.5,-706.5 3715.5,-774.5\"/>\n",
       "<text text-anchor=\"middle\" x=\"3665\" y=\"-759.3\" font-family=\"Times,serif\" font-size=\"14.00\">gini = 0.0</text>\n",
       "<text text-anchor=\"middle\" x=\"3665\" y=\"-744.3\" font-family=\"Times,serif\" font-size=\"14.00\">samples = 1</text>\n",
       "<text text-anchor=\"middle\" x=\"3665\" y=\"-729.3\" font-family=\"Times,serif\" font-size=\"14.00\">value = [1, 0]</text>\n",
       "<text text-anchor=\"middle\" x=\"3665\" y=\"-714.3\" font-family=\"Times,serif\" font-size=\"14.00\">class = 未生还</text>\n",
       "</g>\n",
       "<!-- 219&#45;&gt;220 -->\n",
       "<g id=\"edge220\" class=\"edge\"><title>219&#45;&gt;220</title>\n",
       "<path fill=\"none\" stroke=\"black\" d=\"M3702.88,-817.907C3697.41,-806.873 3691.47,-794.898 3685.96,-783.773\"/>\n",
       "<polygon fill=\"black\" stroke=\"black\" points=\"3689.02,-782.072 3681.44,-774.667 3682.75,-785.181 3689.02,-782.072\"/>\n",
       "</g>\n",
       "<!-- 221 -->\n",
       "<g id=\"node222\" class=\"node\"><title>221</title>\n",
       "<polygon fill=\"#399de5\" stroke=\"black\" points=\"3826,-774.5 3734,-774.5 3734,-706.5 3826,-706.5 3826,-774.5\"/>\n",
       "<text text-anchor=\"middle\" x=\"3780\" y=\"-759.3\" font-family=\"Times,serif\" font-size=\"14.00\">gini = 0.0</text>\n",
       "<text text-anchor=\"middle\" x=\"3780\" y=\"-744.3\" font-family=\"Times,serif\" font-size=\"14.00\">samples = 3</text>\n",
       "<text text-anchor=\"middle\" x=\"3780\" y=\"-729.3\" font-family=\"Times,serif\" font-size=\"14.00\">value = [0, 3]</text>\n",
       "<text text-anchor=\"middle\" x=\"3780\" y=\"-714.3\" font-family=\"Times,serif\" font-size=\"14.00\">class = 生还</text>\n",
       "</g>\n",
       "<!-- 219&#45;&gt;221 -->\n",
       "<g id=\"edge221\" class=\"edge\"><title>219&#45;&gt;221</title>\n",
       "<path fill=\"none\" stroke=\"black\" d=\"M3742.78,-817.907C3748.15,-806.873 3753.99,-794.898 3759.41,-783.773\"/>\n",
       "<polygon fill=\"black\" stroke=\"black\" points=\"3762.61,-785.19 3763.84,-774.667 3756.32,-782.124 3762.61,-785.19\"/>\n",
       "</g>\n",
       "<!-- 223 -->\n",
       "<g id=\"node224\" class=\"node\"><title>223</title>\n",
       "<polygon fill=\"#e58139\" stroke=\"black\" points=\"3888.5,-893.5 3787.5,-893.5 3787.5,-825.5 3888.5,-825.5 3888.5,-893.5\"/>\n",
       "<text text-anchor=\"middle\" x=\"3838\" y=\"-878.3\" font-family=\"Times,serif\" font-size=\"14.00\">gini = 0.0</text>\n",
       "<text text-anchor=\"middle\" x=\"3838\" y=\"-863.3\" font-family=\"Times,serif\" font-size=\"14.00\">samples = 3</text>\n",
       "<text text-anchor=\"middle\" x=\"3838\" y=\"-848.3\" font-family=\"Times,serif\" font-size=\"14.00\">value = [3, 0]</text>\n",
       "<text text-anchor=\"middle\" x=\"3838\" y=\"-833.3\" font-family=\"Times,serif\" font-size=\"14.00\">class = 未生还</text>\n",
       "</g>\n",
       "<!-- 222&#45;&gt;223 -->\n",
       "<g id=\"edge223\" class=\"edge\"><title>222&#45;&gt;223</title>\n",
       "<path fill=\"none\" stroke=\"black\" d=\"M3838,-936.907C3838,-926.204 3838,-914.615 3838,-903.776\"/>\n",
       "<polygon fill=\"black\" stroke=\"black\" points=\"3841.5,-903.667 3838,-893.667 3834.5,-903.667 3841.5,-903.667\"/>\n",
       "</g>\n",
       "<!-- 224 -->\n",
       "<g id=\"node225\" class=\"node\"><title>224</title>\n",
       "<polygon fill=\"#399de5\" stroke=\"black\" points=\"3999,-893.5 3907,-893.5 3907,-825.5 3999,-825.5 3999,-893.5\"/>\n",
       "<text text-anchor=\"middle\" x=\"3953\" y=\"-878.3\" font-family=\"Times,serif\" font-size=\"14.00\">gini = 0.0</text>\n",
       "<text text-anchor=\"middle\" x=\"3953\" y=\"-863.3\" font-family=\"Times,serif\" font-size=\"14.00\">samples = 3</text>\n",
       "<text text-anchor=\"middle\" x=\"3953\" y=\"-848.3\" font-family=\"Times,serif\" font-size=\"14.00\">value = [0, 3]</text>\n",
       "<text text-anchor=\"middle\" x=\"3953\" y=\"-833.3\" font-family=\"Times,serif\" font-size=\"14.00\">class = 生还</text>\n",
       "</g>\n",
       "<!-- 222&#45;&gt;224 -->\n",
       "<g id=\"edge224\" class=\"edge\"><title>222&#45;&gt;224</title>\n",
       "<path fill=\"none\" stroke=\"black\" d=\"M3877.9,-936.907C3889.29,-925.321 3901.69,-912.698 3913.08,-901.111\"/>\n",
       "<polygon fill=\"black\" stroke=\"black\" points=\"3915.89,-903.252 3920.4,-893.667 3910.89,-898.345 3915.89,-903.252\"/>\n",
       "</g>\n",
       "<!-- 227 -->\n",
       "<g id=\"node228\" class=\"node\"><title>227</title>\n",
       "<polygon fill=\"#e99355\" stroke=\"black\" points=\"4032.5,-1258 3931.5,-1258 3931.5,-1175 4032.5,-1175 4032.5,-1258\"/>\n",
       "<text text-anchor=\"middle\" x=\"3982\" y=\"-1242.8\" font-family=\"Times,serif\" font-size=\"14.00\">Age &lt;= 30.5</text>\n",
       "<text text-anchor=\"middle\" x=\"3982\" y=\"-1227.8\" font-family=\"Times,serif\" font-size=\"14.00\">gini = 0.219</text>\n",
       "<text text-anchor=\"middle\" x=\"3982\" y=\"-1212.8\" font-family=\"Times,serif\" font-size=\"14.00\">samples = 8</text>\n",
       "<text text-anchor=\"middle\" x=\"3982\" y=\"-1197.8\" font-family=\"Times,serif\" font-size=\"14.00\">value = [7, 1]</text>\n",
       "<text text-anchor=\"middle\" x=\"3982\" y=\"-1182.8\" font-family=\"Times,serif\" font-size=\"14.00\">class = 未生还</text>\n",
       "</g>\n",
       "<!-- 226&#45;&gt;227 -->\n",
       "<g id=\"edge227\" class=\"edge\"><title>226&#45;&gt;227</title>\n",
       "<path fill=\"none\" stroke=\"black\" d=\"M3982,-1293.91C3982,-1285.65 3982,-1276.86 3982,-1268.3\"/>\n",
       "<polygon fill=\"black\" stroke=\"black\" points=\"3985.5,-1268.02 3982,-1258.02 3978.5,-1268.02 3985.5,-1268.02\"/>\n",
       "</g>\n",
       "<!-- 230 -->\n",
       "<g id=\"node231\" class=\"node\"><title>230</title>\n",
       "<polygon fill=\"#f8ddca\" stroke=\"black\" points=\"4205.5,-1258 4100.5,-1258 4100.5,-1175 4205.5,-1175 4205.5,-1258\"/>\n",
       "<text text-anchor=\"middle\" x=\"4153\" y=\"-1242.8\" font-family=\"Times,serif\" font-size=\"14.00\">Fare &lt;= 13.465</text>\n",
       "<text text-anchor=\"middle\" x=\"4153\" y=\"-1227.8\" font-family=\"Times,serif\" font-size=\"14.00\">gini = 0.488</text>\n",
       "<text text-anchor=\"middle\" x=\"4153\" y=\"-1212.8\" font-family=\"Times,serif\" font-size=\"14.00\">samples = 26</text>\n",
       "<text text-anchor=\"middle\" x=\"4153\" y=\"-1197.8\" font-family=\"Times,serif\" font-size=\"14.00\">value = [15, 11]</text>\n",
       "<text text-anchor=\"middle\" x=\"4153\" y=\"-1182.8\" font-family=\"Times,serif\" font-size=\"14.00\">class = 未生还</text>\n",
       "</g>\n",
       "<!-- 226&#45;&gt;230 -->\n",
       "<g id=\"edge230\" class=\"edge\"><title>226&#45;&gt;230</title>\n",
       "<path fill=\"none\" stroke=\"black\" d=\"M4034.7,-1298.44C4052.83,-1286.04 4073.27,-1272.05 4092,-1259.24\"/>\n",
       "<polygon fill=\"black\" stroke=\"black\" points=\"4094.2,-1261.97 4100.47,-1253.44 4090.24,-1256.2 4094.2,-1261.97\"/>\n",
       "</g>\n",
       "<!-- 228 -->\n",
       "<g id=\"node229\" class=\"node\"><title>228</title>\n",
       "<polygon fill=\"#e58139\" stroke=\"black\" points=\"3978.5,-1131.5 3877.5,-1131.5 3877.5,-1063.5 3978.5,-1063.5 3978.5,-1131.5\"/>\n",
       "<text text-anchor=\"middle\" x=\"3928\" y=\"-1116.3\" font-family=\"Times,serif\" font-size=\"14.00\">gini = 0.0</text>\n",
       "<text text-anchor=\"middle\" x=\"3928\" y=\"-1101.3\" font-family=\"Times,serif\" font-size=\"14.00\">samples = 7</text>\n",
       "<text text-anchor=\"middle\" x=\"3928\" y=\"-1086.3\" font-family=\"Times,serif\" font-size=\"14.00\">value = [7, 0]</text>\n",
       "<text text-anchor=\"middle\" x=\"3928\" y=\"-1071.3\" font-family=\"Times,serif\" font-size=\"14.00\">class = 未生还</text>\n",
       "</g>\n",
       "<!-- 227&#45;&gt;228 -->\n",
       "<g id=\"edge228\" class=\"edge\"><title>227&#45;&gt;228</title>\n",
       "<path fill=\"none\" stroke=\"black\" d=\"M3963.26,-1174.91C3958.17,-1163.87 3952.65,-1151.9 3947.51,-1140.77\"/>\n",
       "<polygon fill=\"black\" stroke=\"black\" points=\"3950.68,-1139.28 3943.31,-1131.67 3944.32,-1142.21 3950.68,-1139.28\"/>\n",
       "</g>\n",
       "<!-- 229 -->\n",
       "<g id=\"node230\" class=\"node\"><title>229</title>\n",
       "<polygon fill=\"#399de5\" stroke=\"black\" points=\"4089,-1131.5 3997,-1131.5 3997,-1063.5 4089,-1063.5 4089,-1131.5\"/>\n",
       "<text text-anchor=\"middle\" x=\"4043\" y=\"-1116.3\" font-family=\"Times,serif\" font-size=\"14.00\">gini = 0.0</text>\n",
       "<text text-anchor=\"middle\" x=\"4043\" y=\"-1101.3\" font-family=\"Times,serif\" font-size=\"14.00\">samples = 1</text>\n",
       "<text text-anchor=\"middle\" x=\"4043\" y=\"-1086.3\" font-family=\"Times,serif\" font-size=\"14.00\">value = [0, 1]</text>\n",
       "<text text-anchor=\"middle\" x=\"4043\" y=\"-1071.3\" font-family=\"Times,serif\" font-size=\"14.00\">class = 生还</text>\n",
       "</g>\n",
       "<!-- 227&#45;&gt;229 -->\n",
       "<g id=\"edge229\" class=\"edge\"><title>227&#45;&gt;229</title>\n",
       "<path fill=\"none\" stroke=\"black\" d=\"M4003.16,-1174.91C4008.92,-1163.87 4015.16,-1151.9 4020.96,-1140.77\"/>\n",
       "<polygon fill=\"black\" stroke=\"black\" points=\"4024.19,-1142.15 4025.71,-1131.67 4017.98,-1138.92 4024.19,-1142.15\"/>\n",
       "</g>\n",
       "<!-- 231 -->\n",
       "<g id=\"node232\" class=\"node\"><title>231</title>\n",
       "<polygon fill=\"#399de5\" stroke=\"black\" points=\"4199,-1131.5 4107,-1131.5 4107,-1063.5 4199,-1063.5 4199,-1131.5\"/>\n",
       "<text text-anchor=\"middle\" x=\"4153\" y=\"-1116.3\" font-family=\"Times,serif\" font-size=\"14.00\">gini = 0.0</text>\n",
       "<text text-anchor=\"middle\" x=\"4153\" y=\"-1101.3\" font-family=\"Times,serif\" font-size=\"14.00\">samples = 4</text>\n",
       "<text text-anchor=\"middle\" x=\"4153\" y=\"-1086.3\" font-family=\"Times,serif\" font-size=\"14.00\">value = [0, 4]</text>\n",
       "<text text-anchor=\"middle\" x=\"4153\" y=\"-1071.3\" font-family=\"Times,serif\" font-size=\"14.00\">class = 生还</text>\n",
       "</g>\n",
       "<!-- 230&#45;&gt;231 -->\n",
       "<g id=\"edge231\" class=\"edge\"><title>230&#45;&gt;231</title>\n",
       "<path fill=\"none\" stroke=\"black\" d=\"M4153,-1174.91C4153,-1164.2 4153,-1152.62 4153,-1141.78\"/>\n",
       "<polygon fill=\"black\" stroke=\"black\" points=\"4156.5,-1141.67 4153,-1131.67 4149.5,-1141.67 4156.5,-1141.67\"/>\n",
       "</g>\n",
       "<!-- 232 -->\n",
       "<g id=\"node233\" class=\"node\"><title>232</title>\n",
       "<polygon fill=\"#f1bc95\" stroke=\"black\" points=\"4318.5,-1139 4217.5,-1139 4217.5,-1056 4318.5,-1056 4318.5,-1139\"/>\n",
       "<text text-anchor=\"middle\" x=\"4268\" y=\"-1123.8\" font-family=\"Times,serif\" font-size=\"14.00\">Age &lt;= 6.5</text>\n",
       "<text text-anchor=\"middle\" x=\"4268\" y=\"-1108.8\" font-family=\"Times,serif\" font-size=\"14.00\">gini = 0.434</text>\n",
       "<text text-anchor=\"middle\" x=\"4268\" y=\"-1093.8\" font-family=\"Times,serif\" font-size=\"14.00\">samples = 22</text>\n",
       "<text text-anchor=\"middle\" x=\"4268\" y=\"-1078.8\" font-family=\"Times,serif\" font-size=\"14.00\">value = [15, 7]</text>\n",
       "<text text-anchor=\"middle\" x=\"4268\" y=\"-1063.8\" font-family=\"Times,serif\" font-size=\"14.00\">class = 未生还</text>\n",
       "</g>\n",
       "<!-- 230&#45;&gt;232 -->\n",
       "<g id=\"edge232\" class=\"edge\"><title>230&#45;&gt;232</title>\n",
       "<path fill=\"none\" stroke=\"black\" d=\"M4192.9,-1174.91C4202,-1165.65 4211.75,-1155.73 4221.11,-1146.21\"/>\n",
       "<polygon fill=\"black\" stroke=\"black\" points=\"4223.66,-1148.61 4228.17,-1139.02 4218.67,-1143.7 4223.66,-1148.61\"/>\n",
       "</g>\n",
       "<!-- 233 -->\n",
       "<g id=\"node234\" class=\"node\"><title>233</title>\n",
       "<polygon fill=\"#cee6f8\" stroke=\"black\" points=\"4285,-1020 4193,-1020 4193,-937 4285,-937 4285,-1020\"/>\n",
       "<text text-anchor=\"middle\" x=\"4239\" y=\"-1004.8\" font-family=\"Times,serif\" font-size=\"14.00\">Age &lt;= 3.5</text>\n",
       "<text text-anchor=\"middle\" x=\"4239\" y=\"-989.8\" font-family=\"Times,serif\" font-size=\"14.00\">gini = 0.49</text>\n",
       "<text text-anchor=\"middle\" x=\"4239\" y=\"-974.8\" font-family=\"Times,serif\" font-size=\"14.00\">samples = 7</text>\n",
       "<text text-anchor=\"middle\" x=\"4239\" y=\"-959.8\" font-family=\"Times,serif\" font-size=\"14.00\">value = [3, 4]</text>\n",
       "<text text-anchor=\"middle\" x=\"4239\" y=\"-944.8\" font-family=\"Times,serif\" font-size=\"14.00\">class = 生还</text>\n",
       "</g>\n",
       "<!-- 232&#45;&gt;233 -->\n",
       "<g id=\"edge233\" class=\"edge\"><title>232&#45;&gt;233</title>\n",
       "<path fill=\"none\" stroke=\"black\" d=\"M4257.94,-1055.91C4255.85,-1047.47 4253.62,-1038.48 4251.45,-1029.74\"/>\n",
       "<polygon fill=\"black\" stroke=\"black\" points=\"4254.85,-1028.89 4249.04,-1020.02 4248.05,-1030.57 4254.85,-1028.89\"/>\n",
       "</g>\n",
       "<!-- 236 -->\n",
       "<g id=\"node237\" class=\"node\"><title>236</title>\n",
       "<polygon fill=\"#eca06a\" stroke=\"black\" points=\"4404.5,-1020 4303.5,-1020 4303.5,-937 4404.5,-937 4404.5,-1020\"/>\n",
       "<text text-anchor=\"middle\" x=\"4354\" y=\"-1004.8\" font-family=\"Times,serif\" font-size=\"14.00\">Age &lt;= 21.0</text>\n",
       "<text text-anchor=\"middle\" x=\"4354\" y=\"-989.8\" font-family=\"Times,serif\" font-size=\"14.00\">gini = 0.32</text>\n",
       "<text text-anchor=\"middle\" x=\"4354\" y=\"-974.8\" font-family=\"Times,serif\" font-size=\"14.00\">samples = 15</text>\n",
       "<text text-anchor=\"middle\" x=\"4354\" y=\"-959.8\" font-family=\"Times,serif\" font-size=\"14.00\">value = [12, 3]</text>\n",
       "<text text-anchor=\"middle\" x=\"4354\" y=\"-944.8\" font-family=\"Times,serif\" font-size=\"14.00\">class = 未生还</text>\n",
       "</g>\n",
       "<!-- 232&#45;&gt;236 -->\n",
       "<g id=\"edge236\" class=\"edge\"><title>232&#45;&gt;236</title>\n",
       "<path fill=\"none\" stroke=\"black\" d=\"M4297.84,-1055.91C4304.37,-1047.01 4311.36,-1037.51 4318.11,-1028.33\"/>\n",
       "<polygon fill=\"black\" stroke=\"black\" points=\"4321.11,-1030.15 4324.22,-1020.02 4315.47,-1026.01 4321.11,-1030.15\"/>\n",
       "</g>\n",
       "<!-- 234 -->\n",
       "<g id=\"node235\" class=\"node\"><title>234</title>\n",
       "<polygon fill=\"#e58139\" stroke=\"black\" points=\"4174.5,-893.5 4073.5,-893.5 4073.5,-825.5 4174.5,-825.5 4174.5,-893.5\"/>\n",
       "<text text-anchor=\"middle\" x=\"4124\" y=\"-878.3\" font-family=\"Times,serif\" font-size=\"14.00\">gini = 0.0</text>\n",
       "<text text-anchor=\"middle\" x=\"4124\" y=\"-863.3\" font-family=\"Times,serif\" font-size=\"14.00\">samples = 3</text>\n",
       "<text text-anchor=\"middle\" x=\"4124\" y=\"-848.3\" font-family=\"Times,serif\" font-size=\"14.00\">value = [3, 0]</text>\n",
       "<text text-anchor=\"middle\" x=\"4124\" y=\"-833.3\" font-family=\"Times,serif\" font-size=\"14.00\">class = 未生还</text>\n",
       "</g>\n",
       "<!-- 233&#45;&gt;234 -->\n",
       "<g id=\"edge234\" class=\"edge\"><title>233&#45;&gt;234</title>\n",
       "<path fill=\"none\" stroke=\"black\" d=\"M4199.1,-936.907C4187.71,-925.321 4175.31,-912.698 4163.92,-901.111\"/>\n",
       "<polygon fill=\"black\" stroke=\"black\" points=\"4166.11,-898.345 4156.6,-893.667 4161.11,-903.252 4166.11,-898.345\"/>\n",
       "</g>\n",
       "<!-- 235 -->\n",
       "<g id=\"node236\" class=\"node\"><title>235</title>\n",
       "<polygon fill=\"#399de5\" stroke=\"black\" points=\"4285,-893.5 4193,-893.5 4193,-825.5 4285,-825.5 4285,-893.5\"/>\n",
       "<text text-anchor=\"middle\" x=\"4239\" y=\"-878.3\" font-family=\"Times,serif\" font-size=\"14.00\">gini = 0.0</text>\n",
       "<text text-anchor=\"middle\" x=\"4239\" y=\"-863.3\" font-family=\"Times,serif\" font-size=\"14.00\">samples = 4</text>\n",
       "<text text-anchor=\"middle\" x=\"4239\" y=\"-848.3\" font-family=\"Times,serif\" font-size=\"14.00\">value = [0, 4]</text>\n",
       "<text text-anchor=\"middle\" x=\"4239\" y=\"-833.3\" font-family=\"Times,serif\" font-size=\"14.00\">class = 生还</text>\n",
       "</g>\n",
       "<!-- 233&#45;&gt;235 -->\n",
       "<g id=\"edge235\" class=\"edge\"><title>233&#45;&gt;235</title>\n",
       "<path fill=\"none\" stroke=\"black\" d=\"M4239,-936.907C4239,-926.204 4239,-914.615 4239,-903.776\"/>\n",
       "<polygon fill=\"black\" stroke=\"black\" points=\"4242.5,-903.667 4239,-893.667 4235.5,-903.667 4242.5,-903.667\"/>\n",
       "</g>\n",
       "<!-- 237 -->\n",
       "<g id=\"node238\" class=\"node\"><title>237</title>\n",
       "<polygon fill=\"#e88f4f\" stroke=\"black\" points=\"4405,-901 4303,-901 4303,-818 4405,-818 4405,-901\"/>\n",
       "<text text-anchor=\"middle\" x=\"4354\" y=\"-885.8\" font-family=\"Times,serif\" font-size=\"14.00\">Fare &lt;= 14.456</text>\n",
       "<text text-anchor=\"middle\" x=\"4354\" y=\"-870.8\" font-family=\"Times,serif\" font-size=\"14.00\">gini = 0.18</text>\n",
       "<text text-anchor=\"middle\" x=\"4354\" y=\"-855.8\" font-family=\"Times,serif\" font-size=\"14.00\">samples = 10</text>\n",
       "<text text-anchor=\"middle\" x=\"4354\" y=\"-840.8\" font-family=\"Times,serif\" font-size=\"14.00\">value = [9, 1]</text>\n",
       "<text text-anchor=\"middle\" x=\"4354\" y=\"-825.8\" font-family=\"Times,serif\" font-size=\"14.00\">class = 未生还</text>\n",
       "</g>\n",
       "<!-- 236&#45;&gt;237 -->\n",
       "<g id=\"edge237\" class=\"edge\"><title>236&#45;&gt;237</title>\n",
       "<path fill=\"none\" stroke=\"black\" d=\"M4354,-936.907C4354,-928.649 4354,-919.864 4354,-911.302\"/>\n",
       "<polygon fill=\"black\" stroke=\"black\" points=\"4357.5,-911.021 4354,-901.021 4350.5,-911.021 4357.5,-911.021\"/>\n",
       "</g>\n",
       "<!-- 244 -->\n",
       "<g id=\"node245\" class=\"node\"><title>244</title>\n",
       "<polygon fill=\"#f6d5bd\" stroke=\"black\" points=\"4524.5,-901 4423.5,-901 4423.5,-818 4524.5,-818 4524.5,-901\"/>\n",
       "<text text-anchor=\"middle\" x=\"4474\" y=\"-885.8\" font-family=\"Times,serif\" font-size=\"14.00\">Age &lt;= 27.0</text>\n",
       "<text text-anchor=\"middle\" x=\"4474\" y=\"-870.8\" font-family=\"Times,serif\" font-size=\"14.00\">gini = 0.48</text>\n",
       "<text text-anchor=\"middle\" x=\"4474\" y=\"-855.8\" font-family=\"Times,serif\" font-size=\"14.00\">samples = 5</text>\n",
       "<text text-anchor=\"middle\" x=\"4474\" y=\"-840.8\" font-family=\"Times,serif\" font-size=\"14.00\">value = [3, 2]</text>\n",
       "<text text-anchor=\"middle\" x=\"4474\" y=\"-825.8\" font-family=\"Times,serif\" font-size=\"14.00\">class = 未生还</text>\n",
       "</g>\n",
       "<!-- 236&#45;&gt;244 -->\n",
       "<g id=\"edge244\" class=\"edge\"><title>236&#45;&gt;244</title>\n",
       "<path fill=\"none\" stroke=\"black\" d=\"M4395.63,-936.907C4405.13,-927.651 4415.3,-917.732 4425.07,-908.209\"/>\n",
       "<polygon fill=\"black\" stroke=\"black\" points=\"4427.72,-910.508 4432.44,-901.021 4422.84,-905.496 4427.72,-910.508\"/>\n",
       "</g>\n",
       "<!-- 238 -->\n",
       "<g id=\"node239\" class=\"node\"><title>238</title>\n",
       "<polygon fill=\"#f2c09c\" stroke=\"black\" points=\"4286.5,-782 4185.5,-782 4185.5,-699 4286.5,-699 4286.5,-782\"/>\n",
       "<text text-anchor=\"middle\" x=\"4236\" y=\"-766.8\" font-family=\"Times,serif\" font-size=\"14.00\">SibSp &lt;= 0.5</text>\n",
       "<text text-anchor=\"middle\" x=\"4236\" y=\"-751.8\" font-family=\"Times,serif\" font-size=\"14.00\">gini = 0.444</text>\n",
       "<text text-anchor=\"middle\" x=\"4236\" y=\"-736.8\" font-family=\"Times,serif\" font-size=\"14.00\">samples = 3</text>\n",
       "<text text-anchor=\"middle\" x=\"4236\" y=\"-721.8\" font-family=\"Times,serif\" font-size=\"14.00\">value = [2, 1]</text>\n",
       "<text text-anchor=\"middle\" x=\"4236\" y=\"-706.8\" font-family=\"Times,serif\" font-size=\"14.00\">class = 未生还</text>\n",
       "</g>\n",
       "<!-- 237&#45;&gt;238 -->\n",
       "<g id=\"edge238\" class=\"edge\"><title>237&#45;&gt;238</title>\n",
       "<path fill=\"none\" stroke=\"black\" d=\"M4313.06,-817.907C4303.72,-808.651 4293.72,-798.732 4284.12,-789.209\"/>\n",
       "<polygon fill=\"black\" stroke=\"black\" points=\"4286.43,-786.576 4276.87,-782.021 4281.5,-791.547 4286.43,-786.576\"/>\n",
       "</g>\n",
       "<!-- 243 -->\n",
       "<g id=\"node244\" class=\"node\"><title>243</title>\n",
       "<polygon fill=\"#e58139\" stroke=\"black\" points=\"4405.5,-774.5 4304.5,-774.5 4304.5,-706.5 4405.5,-706.5 4405.5,-774.5\"/>\n",
       "<text text-anchor=\"middle\" x=\"4355\" y=\"-759.3\" font-family=\"Times,serif\" font-size=\"14.00\">gini = 0.0</text>\n",
       "<text text-anchor=\"middle\" x=\"4355\" y=\"-744.3\" font-family=\"Times,serif\" font-size=\"14.00\">samples = 7</text>\n",
       "<text text-anchor=\"middle\" x=\"4355\" y=\"-729.3\" font-family=\"Times,serif\" font-size=\"14.00\">value = [7, 0]</text>\n",
       "<text text-anchor=\"middle\" x=\"4355\" y=\"-714.3\" font-family=\"Times,serif\" font-size=\"14.00\">class = 未生还</text>\n",
       "</g>\n",
       "<!-- 237&#45;&gt;243 -->\n",
       "<g id=\"edge243\" class=\"edge\"><title>237&#45;&gt;243</title>\n",
       "<path fill=\"none\" stroke=\"black\" d=\"M4354.35,-817.907C4354.44,-807.204 4354.54,-795.615 4354.63,-784.776\"/>\n",
       "<polygon fill=\"black\" stroke=\"black\" points=\"4358.13,-784.697 4354.72,-774.667 4351.13,-784.637 4358.13,-784.697\"/>\n",
       "</g>\n",
       "<!-- 239 -->\n",
       "<g id=\"node240\" class=\"node\"><title>239</title>\n",
       "<polygon fill=\"#e58139\" stroke=\"black\" points=\"4249.5,-655.5 4148.5,-655.5 4148.5,-587.5 4249.5,-587.5 4249.5,-655.5\"/>\n",
       "<text text-anchor=\"middle\" x=\"4199\" y=\"-640.3\" font-family=\"Times,serif\" font-size=\"14.00\">gini = 0.0</text>\n",
       "<text text-anchor=\"middle\" x=\"4199\" y=\"-625.3\" font-family=\"Times,serif\" font-size=\"14.00\">samples = 1</text>\n",
       "<text text-anchor=\"middle\" x=\"4199\" y=\"-610.3\" font-family=\"Times,serif\" font-size=\"14.00\">value = [1, 0]</text>\n",
       "<text text-anchor=\"middle\" x=\"4199\" y=\"-595.3\" font-family=\"Times,serif\" font-size=\"14.00\">class = 未生还</text>\n",
       "</g>\n",
       "<!-- 238&#45;&gt;239 -->\n",
       "<g id=\"edge239\" class=\"edge\"><title>238&#45;&gt;239</title>\n",
       "<path fill=\"none\" stroke=\"black\" d=\"M4223.16,-698.907C4219.74,-688.094 4216.04,-676.376 4212.58,-665.441\"/>\n",
       "<polygon fill=\"black\" stroke=\"black\" points=\"4215.84,-664.146 4209.49,-655.667 4209.17,-666.257 4215.84,-664.146\"/>\n",
       "</g>\n",
       "<!-- 240 -->\n",
       "<g id=\"node241\" class=\"node\"><title>240</title>\n",
       "<polygon fill=\"#ffffff\" stroke=\"black\" points=\"4368.5,-663 4267.5,-663 4267.5,-580 4368.5,-580 4368.5,-663\"/>\n",
       "<text text-anchor=\"middle\" x=\"4318\" y=\"-647.8\" font-family=\"Times,serif\" font-size=\"14.00\">Age &lt;= 14.75</text>\n",
       "<text text-anchor=\"middle\" x=\"4318\" y=\"-632.8\" font-family=\"Times,serif\" font-size=\"14.00\">gini = 0.5</text>\n",
       "<text text-anchor=\"middle\" x=\"4318\" y=\"-617.8\" font-family=\"Times,serif\" font-size=\"14.00\">samples = 2</text>\n",
       "<text text-anchor=\"middle\" x=\"4318\" y=\"-602.8\" font-family=\"Times,serif\" font-size=\"14.00\">value = [1, 1]</text>\n",
       "<text text-anchor=\"middle\" x=\"4318\" y=\"-587.8\" font-family=\"Times,serif\" font-size=\"14.00\">class = 未生还</text>\n",
       "</g>\n",
       "<!-- 238&#45;&gt;240 -->\n",
       "<g id=\"edge240\" class=\"edge\"><title>238&#45;&gt;240</title>\n",
       "<path fill=\"none\" stroke=\"black\" d=\"M4264.45,-698.907C4270.68,-690.014 4277.34,-680.509 4283.78,-671.331\"/>\n",
       "<polygon fill=\"black\" stroke=\"black\" points=\"4286.73,-673.219 4289.6,-663.021 4281,-669.201 4286.73,-673.219\"/>\n",
       "</g>\n",
       "<!-- 241 -->\n",
       "<g id=\"node242\" class=\"node\"><title>241</title>\n",
       "<polygon fill=\"#e58139\" stroke=\"black\" points=\"4315.5,-536.5 4214.5,-536.5 4214.5,-468.5 4315.5,-468.5 4315.5,-536.5\"/>\n",
       "<text text-anchor=\"middle\" x=\"4265\" y=\"-521.3\" font-family=\"Times,serif\" font-size=\"14.00\">gini = 0.0</text>\n",
       "<text text-anchor=\"middle\" x=\"4265\" y=\"-506.3\" font-family=\"Times,serif\" font-size=\"14.00\">samples = 1</text>\n",
       "<text text-anchor=\"middle\" x=\"4265\" y=\"-491.3\" font-family=\"Times,serif\" font-size=\"14.00\">value = [1, 0]</text>\n",
       "<text text-anchor=\"middle\" x=\"4265\" y=\"-476.3\" font-family=\"Times,serif\" font-size=\"14.00\">class = 未生还</text>\n",
       "</g>\n",
       "<!-- 240&#45;&gt;241 -->\n",
       "<g id=\"edge241\" class=\"edge\"><title>240&#45;&gt;241</title>\n",
       "<path fill=\"none\" stroke=\"black\" d=\"M4299.61,-579.907C4294.66,-568.983 4289.3,-557.137 4284.3,-546.107\"/>\n",
       "<polygon fill=\"black\" stroke=\"black\" points=\"4287.34,-544.332 4280.02,-536.667 4280.96,-547.22 4287.34,-544.332\"/>\n",
       "</g>\n",
       "<!-- 242 -->\n",
       "<g id=\"node243\" class=\"node\"><title>242</title>\n",
       "<polygon fill=\"#399de5\" stroke=\"black\" points=\"4426,-536.5 4334,-536.5 4334,-468.5 4426,-468.5 4426,-536.5\"/>\n",
       "<text text-anchor=\"middle\" x=\"4380\" y=\"-521.3\" font-family=\"Times,serif\" font-size=\"14.00\">gini = 0.0</text>\n",
       "<text text-anchor=\"middle\" x=\"4380\" y=\"-506.3\" font-family=\"Times,serif\" font-size=\"14.00\">samples = 1</text>\n",
       "<text text-anchor=\"middle\" x=\"4380\" y=\"-491.3\" font-family=\"Times,serif\" font-size=\"14.00\">value = [0, 1]</text>\n",
       "<text text-anchor=\"middle\" x=\"4380\" y=\"-476.3\" font-family=\"Times,serif\" font-size=\"14.00\">class = 生还</text>\n",
       "</g>\n",
       "<!-- 240&#45;&gt;242 -->\n",
       "<g id=\"edge242\" class=\"edge\"><title>240&#45;&gt;242</title>\n",
       "<path fill=\"none\" stroke=\"black\" d=\"M4339.51,-579.907C4345.36,-568.873 4351.7,-556.898 4357.6,-545.773\"/>\n",
       "<polygon fill=\"black\" stroke=\"black\" points=\"4360.83,-547.142 4362.42,-536.667 4354.65,-543.864 4360.83,-547.142\"/>\n",
       "</g>\n",
       "<!-- 245 -->\n",
       "<g id=\"node246\" class=\"node\"><title>245</title>\n",
       "<polygon fill=\"#399de5\" stroke=\"black\" points=\"4518,-774.5 4426,-774.5 4426,-706.5 4518,-706.5 4518,-774.5\"/>\n",
       "<text text-anchor=\"middle\" x=\"4472\" y=\"-759.3\" font-family=\"Times,serif\" font-size=\"14.00\">gini = 0.0</text>\n",
       "<text text-anchor=\"middle\" x=\"4472\" y=\"-744.3\" font-family=\"Times,serif\" font-size=\"14.00\">samples = 1</text>\n",
       "<text text-anchor=\"middle\" x=\"4472\" y=\"-729.3\" font-family=\"Times,serif\" font-size=\"14.00\">value = [0, 1]</text>\n",
       "<text text-anchor=\"middle\" x=\"4472\" y=\"-714.3\" font-family=\"Times,serif\" font-size=\"14.00\">class = 生还</text>\n",
       "</g>\n",
       "<!-- 244&#45;&gt;245 -->\n",
       "<g id=\"edge245\" class=\"edge\"><title>244&#45;&gt;245</title>\n",
       "<path fill=\"none\" stroke=\"black\" d=\"M4473.31,-817.907C4473.12,-807.204 4472.93,-795.615 4472.74,-784.776\"/>\n",
       "<polygon fill=\"black\" stroke=\"black\" points=\"4476.24,-784.606 4472.57,-774.667 4469.24,-784.725 4476.24,-784.606\"/>\n",
       "</g>\n",
       "<!-- 246 -->\n",
       "<g id=\"node247\" class=\"node\"><title>246</title>\n",
       "<polygon fill=\"#eeab7b\" stroke=\"black\" points=\"4638,-782 4536,-782 4536,-699 4638,-699 4638,-782\"/>\n",
       "<text text-anchor=\"middle\" x=\"4587\" y=\"-766.8\" font-family=\"Times,serif\" font-size=\"14.00\">Fare &lt;= 19.262</text>\n",
       "<text text-anchor=\"middle\" x=\"4587\" y=\"-751.8\" font-family=\"Times,serif\" font-size=\"14.00\">gini = 0.375</text>\n",
       "<text text-anchor=\"middle\" x=\"4587\" y=\"-736.8\" font-family=\"Times,serif\" font-size=\"14.00\">samples = 4</text>\n",
       "<text text-anchor=\"middle\" x=\"4587\" y=\"-721.8\" font-family=\"Times,serif\" font-size=\"14.00\">value = [3, 1]</text>\n",
       "<text text-anchor=\"middle\" x=\"4587\" y=\"-706.8\" font-family=\"Times,serif\" font-size=\"14.00\">class = 未生还</text>\n",
       "</g>\n",
       "<!-- 244&#45;&gt;246 -->\n",
       "<g id=\"edge246\" class=\"edge\"><title>244&#45;&gt;246</title>\n",
       "<path fill=\"none\" stroke=\"black\" d=\"M4513.2,-817.907C4522.06,-808.742 4531.54,-798.927 4540.65,-789.489\"/>\n",
       "<polygon fill=\"black\" stroke=\"black\" points=\"4543.43,-791.645 4547.86,-782.021 4538.4,-786.782 4543.43,-791.645\"/>\n",
       "</g>\n",
       "<!-- 247 -->\n",
       "<g id=\"node248\" class=\"node\"><title>247</title>\n",
       "<polygon fill=\"#e58139\" stroke=\"black\" points=\"4548.5,-655.5 4447.5,-655.5 4447.5,-587.5 4548.5,-587.5 4548.5,-655.5\"/>\n",
       "<text text-anchor=\"middle\" x=\"4498\" y=\"-640.3\" font-family=\"Times,serif\" font-size=\"14.00\">gini = 0.0</text>\n",
       "<text text-anchor=\"middle\" x=\"4498\" y=\"-625.3\" font-family=\"Times,serif\" font-size=\"14.00\">samples = 2</text>\n",
       "<text text-anchor=\"middle\" x=\"4498\" y=\"-610.3\" font-family=\"Times,serif\" font-size=\"14.00\">value = [2, 0]</text>\n",
       "<text text-anchor=\"middle\" x=\"4498\" y=\"-595.3\" font-family=\"Times,serif\" font-size=\"14.00\">class = 未生还</text>\n",
       "</g>\n",
       "<!-- 246&#45;&gt;247 -->\n",
       "<g id=\"edge247\" class=\"edge\"><title>246&#45;&gt;247</title>\n",
       "<path fill=\"none\" stroke=\"black\" d=\"M4556.12,-698.907C4547.48,-687.542 4538.07,-675.178 4529.4,-663.774\"/>\n",
       "<polygon fill=\"black\" stroke=\"black\" points=\"4532.07,-661.507 4523.23,-655.667 4526.5,-665.745 4532.07,-661.507\"/>\n",
       "</g>\n",
       "<!-- 248 -->\n",
       "<g id=\"node249\" class=\"node\"><title>248</title>\n",
       "<polygon fill=\"#ffffff\" stroke=\"black\" points=\"4667.5,-663 4566.5,-663 4566.5,-580 4667.5,-580 4667.5,-663\"/>\n",
       "<text text-anchor=\"middle\" x=\"4617\" y=\"-647.8\" font-family=\"Times,serif\" font-size=\"14.00\">Age &lt;= 30.5</text>\n",
       "<text text-anchor=\"middle\" x=\"4617\" y=\"-632.8\" font-family=\"Times,serif\" font-size=\"14.00\">gini = 0.5</text>\n",
       "<text text-anchor=\"middle\" x=\"4617\" y=\"-617.8\" font-family=\"Times,serif\" font-size=\"14.00\">samples = 2</text>\n",
       "<text text-anchor=\"middle\" x=\"4617\" y=\"-602.8\" font-family=\"Times,serif\" font-size=\"14.00\">value = [1, 1]</text>\n",
       "<text text-anchor=\"middle\" x=\"4617\" y=\"-587.8\" font-family=\"Times,serif\" font-size=\"14.00\">class = 未生还</text>\n",
       "</g>\n",
       "<!-- 246&#45;&gt;248 -->\n",
       "<g id=\"edge248\" class=\"edge\"><title>246&#45;&gt;248</title>\n",
       "<path fill=\"none\" stroke=\"black\" d=\"M4597.41,-698.907C4599.57,-690.468 4601.88,-681.477 4604.12,-672.738\"/>\n",
       "<polygon fill=\"black\" stroke=\"black\" points=\"4607.52,-673.577 4606.61,-663.021 4600.74,-671.838 4607.52,-673.577\"/>\n",
       "</g>\n",
       "<!-- 249 -->\n",
       "<g id=\"node250\" class=\"node\"><title>249</title>\n",
       "<polygon fill=\"#e58139\" stroke=\"black\" points=\"4589.5,-536.5 4488.5,-536.5 4488.5,-468.5 4589.5,-468.5 4589.5,-536.5\"/>\n",
       "<text text-anchor=\"middle\" x=\"4539\" y=\"-521.3\" font-family=\"Times,serif\" font-size=\"14.00\">gini = 0.0</text>\n",
       "<text text-anchor=\"middle\" x=\"4539\" y=\"-506.3\" font-family=\"Times,serif\" font-size=\"14.00\">samples = 1</text>\n",
       "<text text-anchor=\"middle\" x=\"4539\" y=\"-491.3\" font-family=\"Times,serif\" font-size=\"14.00\">value = [1, 0]</text>\n",
       "<text text-anchor=\"middle\" x=\"4539\" y=\"-476.3\" font-family=\"Times,serif\" font-size=\"14.00\">class = 未生还</text>\n",
       "</g>\n",
       "<!-- 248&#45;&gt;249 -->\n",
       "<g id=\"edge249\" class=\"edge\"><title>248&#45;&gt;249</title>\n",
       "<path fill=\"none\" stroke=\"black\" d=\"M4589.94,-579.907C4582.43,-568.652 4574.28,-556.418 4566.74,-545.106\"/>\n",
       "<polygon fill=\"black\" stroke=\"black\" points=\"4569.57,-543.046 4561.11,-536.667 4563.75,-546.929 4569.57,-543.046\"/>\n",
       "</g>\n",
       "<!-- 250 -->\n",
       "<g id=\"node251\" class=\"node\"><title>250</title>\n",
       "<polygon fill=\"#399de5\" stroke=\"black\" points=\"4700,-536.5 4608,-536.5 4608,-468.5 4700,-468.5 4700,-536.5\"/>\n",
       "<text text-anchor=\"middle\" x=\"4654\" y=\"-521.3\" font-family=\"Times,serif\" font-size=\"14.00\">gini = 0.0</text>\n",
       "<text text-anchor=\"middle\" x=\"4654\" y=\"-506.3\" font-family=\"Times,serif\" font-size=\"14.00\">samples = 1</text>\n",
       "<text text-anchor=\"middle\" x=\"4654\" y=\"-491.3\" font-family=\"Times,serif\" font-size=\"14.00\">value = [0, 1]</text>\n",
       "<text text-anchor=\"middle\" x=\"4654\" y=\"-476.3\" font-family=\"Times,serif\" font-size=\"14.00\">class = 生还</text>\n",
       "</g>\n",
       "<!-- 248&#45;&gt;250 -->\n",
       "<g id=\"edge250\" class=\"edge\"><title>248&#45;&gt;250</title>\n",
       "<path fill=\"none\" stroke=\"black\" d=\"M4629.84,-579.907C4633.26,-569.094 4636.96,-557.376 4640.42,-546.441\"/>\n",
       "<polygon fill=\"black\" stroke=\"black\" points=\"4643.83,-547.257 4643.51,-536.667 4637.16,-545.146 4643.83,-547.257\"/>\n",
       "</g>\n",
       "<!-- 252 -->\n",
       "<g id=\"node253\" class=\"node\"><title>252</title>\n",
       "<polygon fill=\"#e58139\" stroke=\"black\" points=\"4153.5,-1369.5 4052.5,-1369.5 4052.5,-1301.5 4153.5,-1301.5 4153.5,-1369.5\"/>\n",
       "<text text-anchor=\"middle\" x=\"4103\" y=\"-1354.3\" font-family=\"Times,serif\" font-size=\"14.00\">gini = 0.0</text>\n",
       "<text text-anchor=\"middle\" x=\"4103\" y=\"-1339.3\" font-family=\"Times,serif\" font-size=\"14.00\">samples = 1</text>\n",
       "<text text-anchor=\"middle\" x=\"4103\" y=\"-1324.3\" font-family=\"Times,serif\" font-size=\"14.00\">value = [1, 0]</text>\n",
       "<text text-anchor=\"middle\" x=\"4103\" y=\"-1309.3\" font-family=\"Times,serif\" font-size=\"14.00\">class = 未生还</text>\n",
       "</g>\n",
       "<!-- 251&#45;&gt;252 -->\n",
       "<g id=\"edge252\" class=\"edge\"><title>251&#45;&gt;252</title>\n",
       "<path fill=\"none\" stroke=\"black\" d=\"M4103,-1412.91C4103,-1402.2 4103,-1390.62 4103,-1379.78\"/>\n",
       "<polygon fill=\"black\" stroke=\"black\" points=\"4106.5,-1379.67 4103,-1369.67 4099.5,-1379.67 4106.5,-1379.67\"/>\n",
       "</g>\n",
       "<!-- 253 -->\n",
       "<g id=\"node254\" class=\"node\"><title>253</title>\n",
       "<polygon fill=\"#399de5\" stroke=\"black\" points=\"4264,-1369.5 4172,-1369.5 4172,-1301.5 4264,-1301.5 4264,-1369.5\"/>\n",
       "<text text-anchor=\"middle\" x=\"4218\" y=\"-1354.3\" font-family=\"Times,serif\" font-size=\"14.00\">gini = 0.0</text>\n",
       "<text text-anchor=\"middle\" x=\"4218\" y=\"-1339.3\" font-family=\"Times,serif\" font-size=\"14.00\">samples = 3</text>\n",
       "<text text-anchor=\"middle\" x=\"4218\" y=\"-1324.3\" font-family=\"Times,serif\" font-size=\"14.00\">value = [0, 3]</text>\n",
       "<text text-anchor=\"middle\" x=\"4218\" y=\"-1309.3\" font-family=\"Times,serif\" font-size=\"14.00\">class = 生还</text>\n",
       "</g>\n",
       "<!-- 251&#45;&gt;253 -->\n",
       "<g id=\"edge253\" class=\"edge\"><title>251&#45;&gt;253</title>\n",
       "<path fill=\"none\" stroke=\"black\" d=\"M4142.9,-1412.91C4154.29,-1401.32 4166.69,-1388.7 4178.08,-1377.11\"/>\n",
       "<polygon fill=\"black\" stroke=\"black\" points=\"4180.89,-1379.25 4185.4,-1369.67 4175.89,-1374.35 4180.89,-1379.25\"/>\n",
       "</g>\n",
       "<!-- 255 -->\n",
       "<g id=\"node256\" class=\"node\"><title>255</title>\n",
       "<polygon fill=\"#e58139\" stroke=\"black\" points=\"4093.5,-1607.5 3992.5,-1607.5 3992.5,-1539.5 4093.5,-1539.5 4093.5,-1607.5\"/>\n",
       "<text text-anchor=\"middle\" x=\"4043\" y=\"-1592.3\" font-family=\"Times,serif\" font-size=\"14.00\">gini = 0.0</text>\n",
       "<text text-anchor=\"middle\" x=\"4043\" y=\"-1577.3\" font-family=\"Times,serif\" font-size=\"14.00\">samples = 8</text>\n",
       "<text text-anchor=\"middle\" x=\"4043\" y=\"-1562.3\" font-family=\"Times,serif\" font-size=\"14.00\">value = [8, 0]</text>\n",
       "<text text-anchor=\"middle\" x=\"4043\" y=\"-1547.3\" font-family=\"Times,serif\" font-size=\"14.00\">class = 未生还</text>\n",
       "</g>\n",
       "<!-- 254&#45;&gt;255 -->\n",
       "<g id=\"edge255\" class=\"edge\"><title>254&#45;&gt;255</title>\n",
       "<path fill=\"none\" stroke=\"black\" d=\"M4043,-1650.91C4043,-1640.2 4043,-1628.62 4043,-1617.78\"/>\n",
       "<polygon fill=\"black\" stroke=\"black\" points=\"4046.5,-1617.67 4043,-1607.67 4039.5,-1617.67 4046.5,-1617.67\"/>\n",
       "</g>\n",
       "<!-- 256 -->\n",
       "<g id=\"node257\" class=\"node\"><title>256</title>\n",
       "<polygon fill=\"#399de5\" stroke=\"black\" points=\"4204,-1607.5 4112,-1607.5 4112,-1539.5 4204,-1539.5 4204,-1607.5\"/>\n",
       "<text text-anchor=\"middle\" x=\"4158\" y=\"-1592.3\" font-family=\"Times,serif\" font-size=\"14.00\">gini = 0.0</text>\n",
       "<text text-anchor=\"middle\" x=\"4158\" y=\"-1577.3\" font-family=\"Times,serif\" font-size=\"14.00\">samples = 1</text>\n",
       "<text text-anchor=\"middle\" x=\"4158\" y=\"-1562.3\" font-family=\"Times,serif\" font-size=\"14.00\">value = [0, 1]</text>\n",
       "<text text-anchor=\"middle\" x=\"4158\" y=\"-1547.3\" font-family=\"Times,serif\" font-size=\"14.00\">class = 生还</text>\n",
       "</g>\n",
       "<!-- 254&#45;&gt;256 -->\n",
       "<g id=\"edge256\" class=\"edge\"><title>254&#45;&gt;256</title>\n",
       "<path fill=\"none\" stroke=\"black\" d=\"M4082.9,-1650.91C4094.29,-1639.32 4106.69,-1626.7 4118.08,-1615.11\"/>\n",
       "<polygon fill=\"black\" stroke=\"black\" points=\"4120.89,-1617.25 4125.4,-1607.67 4115.89,-1612.35 4120.89,-1617.25\"/>\n",
       "</g>\n",
       "</g>\n",
       "</svg>\n"
      ],
      "text/plain": [
       "<graphviz.files.Source at 0x7f37f9330390>"
      ]
     },
     "execution_count": 72,
     "metadata": {},
     "output_type": "execute_result"
    }
   ],
   "source": [
    "titDot = tree.export_graphviz(titDt,feature_names=list(titTrainX.columns),class_names=['未生还','生还'],filled=True)\n",
    "titDtGraph = graphviz.Source(titDot)\n",
    "titDtGraph"
   ]
  },
  {
   "cell_type": "markdown",
   "metadata": {
    "slideshow": {
     "slide_type": "fragment"
    }
   },
   "source": [
    "保存决策树图片\n",
    "\n",
    "```python\n",
    "graph.render(filename=None, directory=None, cleanup=False, format=None)\n",
    "```\n",
    "- `filename`：保存的文件名称\n",
    "- `directory`：保存的文件所在的路径\n",
    "- `cleanup`：删除中间文件\n",
    "- `format`：保存的图片格式，例如`png`,`pdf`"
   ]
  },
  {
   "cell_type": "code",
   "execution_count": 73,
   "metadata": {
    "slideshow": {
     "slide_type": "fragment"
    }
   },
   "outputs": [
    {
     "data": {
      "text/plain": [
       "'./img/classification/titDt.pdf'"
      ]
     },
     "execution_count": 73,
     "metadata": {},
     "output_type": "execute_result"
    }
   ],
   "source": [
    "titDtGraph.render(filename='titDt',directory='./img/classification/',cleanup=True,format='pdf')"
   ]
  },
  {
   "cell_type": "markdown",
   "metadata": {
    "slideshow": {
     "slide_type": "slide"
    }
   },
   "source": [
    "#### 分类性能度量 "
   ]
  },
  {
   "cell_type": "code",
   "execution_count": 74,
   "metadata": {
    "slideshow": {
     "slide_type": "fragment"
    }
   },
   "outputs": [],
   "source": [
    "titTrainYPre = titDt.predict(titTrainX)"
   ]
  },
  {
   "cell_type": "markdown",
   "metadata": {
    "slideshow": {
     "slide_type": "fragment"
    }
   },
   "source": [
    "##### 混淆矩阵"
   ]
  },
  {
   "cell_type": "markdown",
   "metadata": {
    "slideshow": {
     "slide_type": "fragment"
    }
   },
   "source": [
    "```python\n",
    "    from sklear import metrics\n",
    "    metrics.confusion_matrix(y_true, y_pred)\n",
    "    metrics.plot_confusion_matrix(estimator, X, y_true, values_format=None)\n",
    "```\n",
    "- `estimator`：训练好的分类器\n",
    "- `X`：预测属性\n",
    "- `value_formats`：数字的显示格式"
   ]
  },
  {
   "cell_type": "code",
   "execution_count": 75,
   "metadata": {
    "slideshow": {
     "slide_type": "fragment"
    }
   },
   "outputs": [],
   "source": [
    "from sklearn import metrics"
   ]
  },
  {
   "cell_type": "code",
   "execution_count": 76,
   "metadata": {
    "scrolled": true,
    "slideshow": {
     "slide_type": "fragment"
    }
   },
   "outputs": [
    {
     "data": {
      "text/plain": [
       "array([[309,   0],\n",
       "       [  7, 218]])"
      ]
     },
     "execution_count": 76,
     "metadata": {},
     "output_type": "execute_result"
    },
    {
     "data": {
      "text/plain": [
       "<sklearn.metrics._plot.confusion_matrix.ConfusionMatrixDisplay at 0x7f37f92ed4e0>"
      ]
     },
     "execution_count": 76,
     "metadata": {},
     "output_type": "execute_result"
    },
    {
     "data": {
      "image/png": "[encoded data removed]",
      "text/plain": [
       "<Figure size 432x288 with 2 Axes>"
      ]
     },
     "metadata": {
      "needs_background": "light"
     },
     "output_type": "display_data"
    }
   ],
   "source": [
    "metrics.confusion_matrix(titTrainY, titTrainYPre)\n",
    "metrics.plot_confusion_matrix(titDt,titTrainX,titTrainY,values_format='.0f')"
   ]
  },
  {
   "cell_type": "markdown",
   "metadata": {
    "slideshow": {
     "slide_type": "slide"
    }
   },
   "source": [
    "<center><img src=\"./img/classification/classificationScoreN1.png\" width=80%></center>"
   ]
  },
  {
   "cell_type": "markdown",
   "metadata": {
    "slideshow": {
     "slide_type": "slide"
    }
   },
   "source": [
    "##### 准确率 (accuracy score)"
   ]
  },
  {
   "cell_type": "markdown",
   "metadata": {
    "slideshow": {
     "slide_type": "fragment"
    }
   },
   "source": [
    "```python\n",
    "from sklearn import metrics\n",
    "metrics.accuracy_score(y_true, y_pred)\n",
    "```\n",
    "- `y_true`：真实类标签构成的数组\n",
    "- `y_pred`：分类模型预测的类标签构成的数组"
   ]
  },
  {
   "cell_type": "code",
   "execution_count": 77,
   "metadata": {
    "slideshow": {
     "slide_type": "fragment"
    }
   },
   "outputs": [
    {
     "data": {
      "text/plain": [
       "0.9868913857677902"
      ]
     },
     "execution_count": 77,
     "metadata": {},
     "output_type": "execute_result"
    }
   ],
   "source": [
    "metrics.accuracy_score(titTrainY,titTrainYPre)"
   ]
  },
  {
   "cell_type": "markdown",
   "metadata": {
    "slideshow": {
     "slide_type": "slide"
    }
   },
   "source": [
    "##### 召回率 （recall score）"
   ]
  },
  {
   "cell_type": "markdown",
   "metadata": {
    "slideshow": {
     "slide_type": "fragment"
    }
   },
   "source": [
    "- 能够识别所有属于某个真实类别的样本的能力"
   ]
  },
  {
   "cell_type": "markdown",
   "metadata": {
    "slideshow": {
     "slide_type": "fragment"
    }
   },
   "source": [
    "```python\n",
    "metrics.recall_score(y_true, y_pred, pos_label=1)\n",
    "```"
   ]
  },
  {
   "cell_type": "code",
   "execution_count": 78,
   "metadata": {
    "slideshow": {
     "slide_type": "fragment"
    }
   },
   "outputs": [
    {
     "name": "stdout",
     "output_type": "stream",
     "text": [
      "未生还的分类的召回率是1.0\n"
     ]
    }
   ],
   "source": [
    "print(f'未生还的分类的召回率是{metrics.recall_score(titTrainY,titTrainYPre,pos_label=0)}')"
   ]
  },
  {
   "cell_type": "code",
   "execution_count": 79,
   "metadata": {
    "scrolled": true,
    "slideshow": {
     "slide_type": "fragment"
    }
   },
   "outputs": [
    {
     "name": "stdout",
     "output_type": "stream",
     "text": [
      "生还的分类的召回率是0.9688888888888889\n"
     ]
    }
   ],
   "source": [
    "print(f'生还的分类的召回率是{metrics.recall_score(titTrainY,titDt.predict(titTrainX),pos_label=1)}')"
   ]
  },
  {
   "cell_type": "markdown",
   "metadata": {
    "slideshow": {
     "slide_type": "slide"
    }
   },
   "source": [
    "##### 精确率（precision score）"
   ]
  },
  {
   "cell_type": "markdown",
   "metadata": {
    "slideshow": {
     "slide_type": "fragment"
    }
   },
   "source": [
    "- 针对某个类别的样本，不做出错误分类的能力"
   ]
  },
  {
   "cell_type": "markdown",
   "metadata": {
    "slideshow": {
     "slide_type": "fragment"
    }
   },
   "source": [
    "```python\n",
    "from sklearn import metrics\n",
    "metrics.precision_score(y_true, y_pred, pos_label=1)\n",
    "```"
   ]
  },
  {
   "cell_type": "code",
   "execution_count": 80,
   "metadata": {
    "slideshow": {
     "slide_type": "fragment"
    }
   },
   "outputs": [
    {
     "name": "stdout",
     "output_type": "stream",
     "text": [
      "未生还的分类的精确率是0.9778481012658228\n"
     ]
    }
   ],
   "source": [
    "print(f'未生还的分类的精确率是{metrics.precision_score(titTrainY,titTrainYPre,pos_label=0)}')"
   ]
  },
  {
   "cell_type": "code",
   "execution_count": 81,
   "metadata": {
    "scrolled": true,
    "slideshow": {
     "slide_type": "fragment"
    }
   },
   "outputs": [
    {
     "name": "stdout",
     "output_type": "stream",
     "text": [
      "生还的分类的精确率是1.0\n"
     ]
    }
   ],
   "source": [
    "print(f'生还的分类的精确率是{metrics.precision_score(titTrainY,titTrainYPre,pos_label=1)}')"
   ]
  },
  {
   "cell_type": "markdown",
   "metadata": {
    "slideshow": {
     "slide_type": "slide"
    }
   },
   "source": [
    "##### $F_1$ score"
   ]
  },
  {
   "cell_type": "markdown",
   "metadata": {
    "slideshow": {
     "slide_type": "fragment"
    }
   },
   "source": [
    "- 同时考虑召回率和精确率，是召回率和精确率的几何均值"
   ]
  },
  {
   "cell_type": "markdown",
   "metadata": {
    "slideshow": {
     "slide_type": "fragment"
    }
   },
   "source": [
    "```python\n",
    "from sklearn import metrics\n",
    "metrics.f1_score(y_true, y_pred, pos_label=1)\n",
    "```"
   ]
  },
  {
   "cell_type": "code",
   "execution_count": 82,
   "metadata": {
    "slideshow": {
     "slide_type": "fragment"
    }
   },
   "outputs": [
    {
     "name": "stdout",
     "output_type": "stream",
     "text": [
      "未生还的分类的F1_score是0.9888\n"
     ]
    }
   ],
   "source": [
    "print(f'未生还的分类的F1_score是{metrics.f1_score(titTrainY,titTrainYPre,pos_label=0)}')"
   ]
  },
  {
   "cell_type": "code",
   "execution_count": 83,
   "metadata": {
    "slideshow": {
     "slide_type": "fragment"
    }
   },
   "outputs": [
    {
     "name": "stdout",
     "output_type": "stream",
     "text": [
      "生还的分类的F1_score是0.9841986455981941\n"
     ]
    }
   ],
   "source": [
    "print(f'生还的分类的F1_score是{metrics.f1_score(titTrainY,titTrainYPre,pos_label=1)}')"
   ]
  },
  {
   "cell_type": "markdown",
   "metadata": {
    "slideshow": {
     "slide_type": "slide"
    }
   },
   "source": [
    "##### 在检验集上的分类性能"
   ]
  },
  {
   "cell_type": "markdown",
   "metadata": {
    "slideshow": {
     "slide_type": "fragment"
    }
   },
   "source": [
    "###### 生成检验集的类别预测"
   ]
  },
  {
   "cell_type": "code",
   "execution_count": 84,
   "metadata": {
    "slideshow": {
     "slide_type": "fragment"
    }
   },
   "outputs": [],
   "source": [
    "titTestYPre = titDt.predict(titTestX)"
   ]
  },
  {
   "cell_type": "markdown",
   "metadata": {
    "slideshow": {
     "slide_type": "fragment"
    }
   },
   "source": [
    "###### 分类性能指标"
   ]
  },
  {
   "cell_type": "code",
   "execution_count": 85,
   "metadata": {
    "slideshow": {
     "slide_type": "fragment"
    }
   },
   "outputs": [
    {
     "name": "stdout",
     "output_type": "stream",
     "text": [
      "对检验集的分类准确率是0.7696629213483146\n"
     ]
    }
   ],
   "source": [
    "print(f'对检验集的分类准确率是{metrics.accuracy_score(titTestY,titTestYPre)}')"
   ]
  },
  {
   "cell_type": "code",
   "execution_count": 86,
   "metadata": {
    "slideshow": {
     "slide_type": "fragment"
    }
   },
   "outputs": [
    {
     "name": "stdout",
     "output_type": "stream",
     "text": [
      "在检验集上未生还分类的召回率是0.808695652173913\n"
     ]
    }
   ],
   "source": [
    "print(f'在检验集上未生还分类的召回率是{metrics.recall_score(titTestY,titTestYPre,pos_label=0)}')"
   ]
  },
  {
   "cell_type": "code",
   "execution_count": 87,
   "metadata": {
    "slideshow": {
     "slide_type": "fragment"
    }
   },
   "outputs": [
    {
     "name": "stdout",
     "output_type": "stream",
     "text": [
      "在检验集上生还分类的召回率是0.6984126984126984\n"
     ]
    }
   ],
   "source": [
    "print(f'在检验集上生还分类的召回率是{metrics.recall_score(titTestY,titTestYPre,pos_label=1)}')"
   ]
  },
  {
   "cell_type": "markdown",
   "metadata": {
    "slideshow": {
     "slide_type": "slide"
    }
   },
   "source": [
    "###### 分类性能指标-续"
   ]
  },
  {
   "cell_type": "code",
   "execution_count": 88,
   "metadata": {
    "slideshow": {
     "slide_type": "fragment"
    }
   },
   "outputs": [
    {
     "name": "stdout",
     "output_type": "stream",
     "text": [
      "在检验集上未生还分类的精确率是0.8303571428571429\n"
     ]
    }
   ],
   "source": [
    "print(f'在检验集上未生还分类的精确率是{metrics.precision_score(titTestY,titTestYPre,pos_label=0)}')"
   ]
  },
  {
   "cell_type": "code",
   "execution_count": 89,
   "metadata": {
    "slideshow": {
     "slide_type": "fragment"
    }
   },
   "outputs": [
    {
     "name": "stdout",
     "output_type": "stream",
     "text": [
      "在检验集上生还分类的精确率是0.6666666666666666\n"
     ]
    }
   ],
   "source": [
    "print(f'在检验集上生还分类的精确率是{metrics.precision_score(titTestY,titTestYPre,pos_label=1)}')"
   ]
  },
  {
   "cell_type": "code",
   "execution_count": 90,
   "metadata": {
    "slideshow": {
     "slide_type": "fragment"
    }
   },
   "outputs": [
    {
     "name": "stdout",
     "output_type": "stream",
     "text": [
      "在检验集上未生还分类的F1_score是0.8193832599118942\n"
     ]
    }
   ],
   "source": [
    "print(f'在检验集上未生还分类的F1_score是{metrics.f1_score(titTestY,titTestYPre,pos_label=0)}')"
   ]
  },
  {
   "cell_type": "code",
   "execution_count": 91,
   "metadata": {
    "slideshow": {
     "slide_type": "fragment"
    }
   },
   "outputs": [
    {
     "name": "stdout",
     "output_type": "stream",
     "text": [
      "在检验集上生还分类的F1_score是0.6821705426356589\n"
     ]
    }
   ],
   "source": [
    "print(f'在检验集上生还分类的F1_score是{metrics.f1_score(titTestY,titTestYPre,pos_label=1)}')"
   ]
  },
  {
   "cell_type": "markdown",
   "metadata": {
    "slideshow": {
     "slide_type": "fragment"
    }
   },
   "source": [
    "<p class=\"alert alert-danger\">生成的决策树模型在<strong>训练集</strong>上的分类性能优异，但是在<strong>检验集</strong>上的分类性能一般。</p>"
   ]
  },
  {
   "cell_type": "markdown",
   "metadata": {
    "slideshow": {
     "slide_type": "slide"
    }
   },
   "source": [
    "### 决策树的剪枝"
   ]
  },
  {
   "cell_type": "markdown",
   "metadata": {
    "slideshow": {
     "slide_type": "fragment"
    }
   },
   "source": [
    "- 为什么需要剪枝？\n",
    "    + 生成的决策树过于复杂，对训练集的过度拟合\n",
    "    + 决策树算法没有考虑数据中存在噪声"
   ]
  },
  {
   "cell_type": "markdown",
   "metadata": {
    "slideshow": {
     "slide_type": "fragment"
    }
   },
   "source": [
    "- 剪枝方法\n",
    "    + 先剪枝\n",
    "    + 后剪枝"
   ]
  },
  {
   "cell_type": "markdown",
   "metadata": {
    "slideshow": {
     "slide_type": "slide"
    }
   },
   "source": [
    "#### 先剪枝（Forward-Pruning）"
   ]
  },
  {
   "cell_type": "markdown",
   "metadata": {
    "slideshow": {
     "slide_type": "fragment"
    }
   },
   "source": [
    "<p class=\"alert alert-info\">提前停止树的构造而对树进行剪枝</p>\n",
    "\n",
    "- 在决策树到达一定高度的情况下就停止树的生长\n",
    "- 到达结点的样本个数小于某一个阈值可停止树的生长"
   ]
  },
  {
   "cell_type": "markdown",
   "metadata": {
    "slideshow": {
     "slide_type": "slide"
    }
   },
   "source": [
    "```python\n",
    "tree.DecisionTreeClassifier(max_depth=None, min_samples_split=2, min_samples_leaf=1)\n",
    "```"
   ]
  },
  {
   "cell_type": "markdown",
   "metadata": {
    "slideshow": {
     "slide_type": "fragment"
    }
   },
   "source": [
    "- `max_depth`：`int`类型或`None`，树的最大深度。若为`None`，则所有的叶结点都只包含纯类，或者所有叶结点包含的样本数量小于`min_samples_split`\n",
    "    + 值过大会导致算法对训练集的**过拟合**，而过小会妨碍算法对数据的学习\n",
    "    + 推荐初始设置为3，先观察生成的决策树对数据的初步拟合状况，再决定是否要增加深度"
   ]
  },
  {
   "cell_type": "markdown",
   "metadata": {
    "slideshow": {
     "slide_type": "fragment"
    }
   },
   "source": [
    "- `min_samples_split`：`int`类型或`float`类型，划分一个内部结点需要的最少的样本数量。\n",
    "    + `int`类型，`min_samples_split`为最小值，默认是2个样本\n",
    "    + `float`类型，在全部样本中的占比，`ceil(min_samples_split * n_samples)`为最小值\n",
    "    + 值越大，决策树的枝越少，达到一定的先剪枝效果"
   ]
  },
  {
   "cell_type": "markdown",
   "metadata": {
    "slideshow": {
     "slide_type": "fragment"
    }
   },
   "source": [
    "- `min_samples_leaf`：`int`类型或`float`类型，每个叶结点需要包含的最少的样本数量。\n",
    "    + `int`类型，`min_samples_leaf`为最小值，默认是1个样本\n",
    "    + `float`类型，在全部样本中的占比，`ceil(min_samples_leaf * n_samples)`为最小值\n",
    "    + 值越大，决策树的枝越少，达到一定的先剪枝效果"
   ]
  },
  {
   "cell_type": "markdown",
   "metadata": {
    "slideshow": {
     "slide_type": "slide"
    }
   },
   "source": [
    "#### 对titanic决策树先剪枝"
   ]
  },
  {
   "cell_type": "markdown",
   "metadata": {
    "slideshow": {
     "slide_type": "fragment"
    }
   },
   "source": [
    "##### 决策树模型"
   ]
  },
  {
   "cell_type": "code",
   "execution_count": 92,
   "metadata": {
    "slideshow": {
     "slide_type": "fragment"
    }
   },
   "outputs": [],
   "source": [
    "titDtForp = tree.DecisionTreeClassifier(max_depth=5,min_samples_split=10,min_samples_leaf=10)"
   ]
  },
  {
   "cell_type": "markdown",
   "metadata": {
    "slideshow": {
     "slide_type": "fragment"
    }
   },
   "source": [
    "##### 训练"
   ]
  },
  {
   "cell_type": "code",
   "execution_count": 93,
   "metadata": {
    "slideshow": {
     "slide_type": "fragment"
    }
   },
   "outputs": [
    {
     "data": {
      "text/plain": [
       "DecisionTreeClassifier(ccp_alpha=0.0, class_weight=None, criterion='gini',\n",
       "                       max_depth=5, max_features=None, max_leaf_nodes=None,\n",
       "                       min_impurity_decrease=0.0, min_impurity_split=None,\n",
       "                       min_samples_leaf=10, min_samples_split=10,\n",
       "                       min_weight_fraction_leaf=0.0, presort='deprecated',\n",
       "                       random_state=None, splitter='best')"
      ]
     },
     "execution_count": 93,
     "metadata": {},
     "output_type": "execute_result"
    }
   ],
   "source": [
    "titDtForp.fit(titTrainX,titTrainY)"
   ]
  },
  {
   "cell_type": "code",
   "execution_count": 94,
   "metadata": {
    "slideshow": {
     "slide_type": "fragment"
    }
   },
   "outputs": [
    {
     "data": {
      "image/svg+xml": [
       "<?xml version=\"1.0\" encoding=\"UTF-8\" standalone=\"no\"?>\n",
       "<!DOCTYPE svg PUBLIC \"-//W3C//DTD SVG 1.1//EN\"\n",
       " \"http://www.w3.org/Graphics/SVG/1.1/DTD/svg11.dtd\">\n",
       "<!-- Generated by graphviz version 2.38.0 (20140413.2041)\n",
       " -->\n",
       "<!-- Title: Tree Pages: 1 -->\n",
       "<svg width=\"1598pt\" height=\"671pt\"\n",
       " viewBox=\"0.00 0.00 1597.50 671.00\" xmlns=\"http://www.w3.org/2000/svg\" xmlns:xlink=\"http://www.w3.org/1999/xlink\">\n",
       "<g id=\"graph0\" class=\"graph\" transform=\"scale(1 1) rotate(0) translate(4 667)\">\n",
       "<title>Tree</title>\n",
       "<polygon fill=\"white\" stroke=\"none\" points=\"-4,4 -4,-667 1593.5,-667 1593.5,4 -4,4\"/>\n",
       "<!-- 0 -->\n",
       "<g id=\"node1\" class=\"node\"><title>0</title>\n",
       "<polygon fill=\"#f8ddc9\" stroke=\"black\" points=\"902.5,-663 783.5,-663 783.5,-580 902.5,-580 902.5,-663\"/>\n",
       "<text text-anchor=\"middle\" x=\"843\" y=\"-647.8\" font-family=\"Times,serif\" font-size=\"14.00\">Sex_male &lt;= 0.5</text>\n",
       "<text text-anchor=\"middle\" x=\"843\" y=\"-632.8\" font-family=\"Times,serif\" font-size=\"14.00\">gini = 0.488</text>\n",
       "<text text-anchor=\"middle\" x=\"843\" y=\"-617.8\" font-family=\"Times,serif\" font-size=\"14.00\">samples = 534</text>\n",
       "<text text-anchor=\"middle\" x=\"843\" y=\"-602.8\" font-family=\"Times,serif\" font-size=\"14.00\">value = [309, 225]</text>\n",
       "<text text-anchor=\"middle\" x=\"843\" y=\"-587.8\" font-family=\"Times,serif\" font-size=\"14.00\">class = 未生还</text>\n",
       "</g>\n",
       "<!-- 1 -->\n",
       "<g id=\"node2\" class=\"node\"><title>1</title>\n",
       "<polygon fill=\"#75bbed\" stroke=\"black\" points=\"808,-544 696,-544 696,-461 808,-461 808,-544\"/>\n",
       "<text text-anchor=\"middle\" x=\"752\" y=\"-528.8\" font-family=\"Times,serif\" font-size=\"14.00\">Pclass &lt;= 2.5</text>\n",
       "<text text-anchor=\"middle\" x=\"752\" y=\"-513.8\" font-family=\"Times,serif\" font-size=\"14.00\">gini = 0.357</text>\n",
       "<text text-anchor=\"middle\" x=\"752\" y=\"-498.8\" font-family=\"Times,serif\" font-size=\"14.00\">samples = 198</text>\n",
       "<text text-anchor=\"middle\" x=\"752\" y=\"-483.8\" font-family=\"Times,serif\" font-size=\"14.00\">value = [46, 152]</text>\n",
       "<text text-anchor=\"middle\" x=\"752\" y=\"-468.8\" font-family=\"Times,serif\" font-size=\"14.00\">class = 生还</text>\n",
       "</g>\n",
       "<!-- 0&#45;&gt;1 -->\n",
       "<g id=\"edge1\" class=\"edge\"><title>0&#45;&gt;1</title>\n",
       "<path fill=\"none\" stroke=\"black\" d=\"M811.428,-579.907C804.44,-570.923 796.967,-561.315 789.761,-552.05\"/>\n",
       "<polygon fill=\"black\" stroke=\"black\" points=\"792.418,-549.766 783.516,-544.021 786.893,-554.063 792.418,-549.766\"/>\n",
       "<text text-anchor=\"middle\" x=\"780.415\" y=\"-565.128\" font-family=\"Times,serif\" font-size=\"14.00\">True</text>\n",
       "</g>\n",
       "<!-- 22 -->\n",
       "<g id=\"node23\" class=\"node\"><title>22</title>\n",
       "<polygon fill=\"#eca470\" stroke=\"black\" points=\"991,-544 879,-544 879,-461 991,-461 991,-544\"/>\n",
       "<text text-anchor=\"middle\" x=\"935\" y=\"-528.8\" font-family=\"Times,serif\" font-size=\"14.00\">Age &lt;= 3.5</text>\n",
       "<text text-anchor=\"middle\" x=\"935\" y=\"-513.8\" font-family=\"Times,serif\" font-size=\"14.00\">gini = 0.34</text>\n",
       "<text text-anchor=\"middle\" x=\"935\" y=\"-498.8\" font-family=\"Times,serif\" font-size=\"14.00\">samples = 336</text>\n",
       "<text text-anchor=\"middle\" x=\"935\" y=\"-483.8\" font-family=\"Times,serif\" font-size=\"14.00\">value = [263, 73]</text>\n",
       "<text text-anchor=\"middle\" x=\"935\" y=\"-468.8\" font-family=\"Times,serif\" font-size=\"14.00\">class = 未生还</text>\n",
       "</g>\n",
       "<!-- 0&#45;&gt;22 -->\n",
       "<g id=\"edge22\" class=\"edge\"><title>0&#45;&gt;22</title>\n",
       "<path fill=\"none\" stroke=\"black\" d=\"M874.919,-579.907C881.984,-570.923 889.539,-561.315 896.824,-552.05\"/>\n",
       "<polygon fill=\"black\" stroke=\"black\" points=\"899.708,-554.045 903.137,-544.021 894.205,-549.718 899.708,-554.045\"/>\n",
       "<text text-anchor=\"middle\" x=\"906.107\" y=\"-565.144\" font-family=\"Times,serif\" font-size=\"14.00\">False</text>\n",
       "</g>\n",
       "<!-- 2 -->\n",
       "<g id=\"node3\" class=\"node\"><title>2</title>\n",
       "<polygon fill=\"#45a3e7\" stroke=\"black\" points=\"449.5,-425 344.5,-425 344.5,-342 449.5,-342 449.5,-425\"/>\n",
       "<text text-anchor=\"middle\" x=\"397\" y=\"-409.8\" font-family=\"Times,serif\" font-size=\"14.00\">Fare &lt;= 26.125</text>\n",
       "<text text-anchor=\"middle\" x=\"397\" y=\"-394.8\" font-family=\"Times,serif\" font-size=\"14.00\">gini = 0.105</text>\n",
       "<text text-anchor=\"middle\" x=\"397\" y=\"-379.8\" font-family=\"Times,serif\" font-size=\"14.00\">samples = 126</text>\n",
       "<text text-anchor=\"middle\" x=\"397\" y=\"-364.8\" font-family=\"Times,serif\" font-size=\"14.00\">value = [7, 119]</text>\n",
       "<text text-anchor=\"middle\" x=\"397\" y=\"-349.8\" font-family=\"Times,serif\" font-size=\"14.00\">class = 生还</text>\n",
       "</g>\n",
       "<!-- 1&#45;&gt;2 -->\n",
       "<g id=\"edge2\" class=\"edge\"><title>1&#45;&gt;2</title>\n",
       "<path fill=\"none\" stroke=\"black\" d=\"M695.749,-482.961C631.274,-461.711 525.914,-426.987 459.087,-404.962\"/>\n",
       "<polygon fill=\"black\" stroke=\"black\" points=\"460.109,-401.614 449.516,-401.808 457.918,-408.262 460.109,-401.614\"/>\n",
       "</g>\n",
       "<!-- 11 -->\n",
       "<g id=\"node12\" class=\"node\"><title>11</title>\n",
       "<polygon fill=\"#fbece1\" stroke=\"black\" points=\"804.5,-425 699.5,-425 699.5,-342 804.5,-342 804.5,-425\"/>\n",
       "<text text-anchor=\"middle\" x=\"752\" y=\"-409.8\" font-family=\"Times,serif\" font-size=\"14.00\">Age &lt;= 27.5</text>\n",
       "<text text-anchor=\"middle\" x=\"752\" y=\"-394.8\" font-family=\"Times,serif\" font-size=\"14.00\">gini = 0.497</text>\n",
       "<text text-anchor=\"middle\" x=\"752\" y=\"-379.8\" font-family=\"Times,serif\" font-size=\"14.00\">samples = 72</text>\n",
       "<text text-anchor=\"middle\" x=\"752\" y=\"-364.8\" font-family=\"Times,serif\" font-size=\"14.00\">value = [39, 33]</text>\n",
       "<text text-anchor=\"middle\" x=\"752\" y=\"-349.8\" font-family=\"Times,serif\" font-size=\"14.00\">class = 未生还</text>\n",
       "</g>\n",
       "<!-- 1&#45;&gt;11 -->\n",
       "<g id=\"edge11\" class=\"edge\"><title>1&#45;&gt;11</title>\n",
       "<path fill=\"none\" stroke=\"black\" d=\"M752,-460.907C752,-452.649 752,-443.864 752,-435.302\"/>\n",
       "<polygon fill=\"black\" stroke=\"black\" points=\"755.5,-435.021 752,-425.021 748.5,-435.021 755.5,-435.021\"/>\n",
       "</g>\n",
       "<!-- 3 -->\n",
       "<g id=\"node4\" class=\"node\"><title>3</title>\n",
       "<polygon fill=\"#52a9e8\" stroke=\"black\" points=\"272,-306 174,-306 174,-223 272,-223 272,-306\"/>\n",
       "<text text-anchor=\"middle\" x=\"223\" y=\"-290.8\" font-family=\"Times,serif\" font-size=\"14.00\">SibSp &lt;= 0.5</text>\n",
       "<text text-anchor=\"middle\" x=\"223\" y=\"-275.8\" font-family=\"Times,serif\" font-size=\"14.00\">gini = 0.198</text>\n",
       "<text text-anchor=\"middle\" x=\"223\" y=\"-260.8\" font-family=\"Times,serif\" font-size=\"14.00\">samples = 45</text>\n",
       "<text text-anchor=\"middle\" x=\"223\" y=\"-245.8\" font-family=\"Times,serif\" font-size=\"14.00\">value = [5, 40]</text>\n",
       "<text text-anchor=\"middle\" x=\"223\" y=\"-230.8\" font-family=\"Times,serif\" font-size=\"14.00\">class = 生还</text>\n",
       "</g>\n",
       "<!-- 2&#45;&gt;3 -->\n",
       "<g id=\"edge3\" class=\"edge\"><title>2&#45;&gt;3</title>\n",
       "<path fill=\"none\" stroke=\"black\" d=\"M344.322,-347.079C324.19,-333.542 301.138,-318.041 280.573,-304.213\"/>\n",
       "<polygon fill=\"black\" stroke=\"black\" points=\"282.48,-301.277 272.228,-298.602 278.574,-307.086 282.48,-301.277\"/>\n",
       "</g>\n",
       "<!-- 8 -->\n",
       "<g id=\"node9\" class=\"node\"><title>8</title>\n",
       "<polygon fill=\"#3e9fe6\" stroke=\"black\" points=\"446,-306 348,-306 348,-223 446,-223 446,-306\"/>\n",
       "<text text-anchor=\"middle\" x=\"397\" y=\"-290.8\" font-family=\"Times,serif\" font-size=\"14.00\">Parch &lt;= 1.5</text>\n",
       "<text text-anchor=\"middle\" x=\"397\" y=\"-275.8\" font-family=\"Times,serif\" font-size=\"14.00\">gini = 0.048</text>\n",
       "<text text-anchor=\"middle\" x=\"397\" y=\"-260.8\" font-family=\"Times,serif\" font-size=\"14.00\">samples = 81</text>\n",
       "<text text-anchor=\"middle\" x=\"397\" y=\"-245.8\" font-family=\"Times,serif\" font-size=\"14.00\">value = [2, 79]</text>\n",
       "<text text-anchor=\"middle\" x=\"397\" y=\"-230.8\" font-family=\"Times,serif\" font-size=\"14.00\">class = 生还</text>\n",
       "</g>\n",
       "<!-- 2&#45;&gt;8 -->\n",
       "<g id=\"edge8\" class=\"edge\"><title>2&#45;&gt;8</title>\n",
       "<path fill=\"none\" stroke=\"black\" d=\"M397,-341.907C397,-333.649 397,-324.864 397,-316.302\"/>\n",
       "<polygon fill=\"black\" stroke=\"black\" points=\"400.5,-316.021 397,-306.021 393.5,-316.021 400.5,-316.021\"/>\n",
       "</g>\n",
       "<!-- 4 -->\n",
       "<g id=\"node5\" class=\"node\"><title>4</title>\n",
       "<polygon fill=\"#47a4e7\" stroke=\"black\" points=\"156,-187 58,-187 58,-104 156,-104 156,-187\"/>\n",
       "<text text-anchor=\"middle\" x=\"107\" y=\"-171.8\" font-family=\"Times,serif\" font-size=\"14.00\">Fare &lt;= 13.25</text>\n",
       "<text text-anchor=\"middle\" x=\"107\" y=\"-156.8\" font-family=\"Times,serif\" font-size=\"14.00\">gini = 0.124</text>\n",
       "<text text-anchor=\"middle\" x=\"107\" y=\"-141.8\" font-family=\"Times,serif\" font-size=\"14.00\">samples = 30</text>\n",
       "<text text-anchor=\"middle\" x=\"107\" y=\"-126.8\" font-family=\"Times,serif\" font-size=\"14.00\">value = [2, 28]</text>\n",
       "<text text-anchor=\"middle\" x=\"107\" y=\"-111.8\" font-family=\"Times,serif\" font-size=\"14.00\">class = 生还</text>\n",
       "</g>\n",
       "<!-- 3&#45;&gt;4 -->\n",
       "<g id=\"edge4\" class=\"edge\"><title>3&#45;&gt;4</title>\n",
       "<path fill=\"none\" stroke=\"black\" d=\"M182.754,-222.907C173.577,-213.651 163.743,-203.732 154.301,-194.209\"/>\n",
       "<polygon fill=\"black\" stroke=\"black\" points=\"156.701,-191.658 147.174,-187.021 151.73,-196.586 156.701,-191.658\"/>\n",
       "</g>\n",
       "<!-- 7 -->\n",
       "<g id=\"node8\" class=\"node\"><title>7</title>\n",
       "<polygon fill=\"#6ab6ec\" stroke=\"black\" points=\"272,-179.5 174,-179.5 174,-111.5 272,-111.5 272,-179.5\"/>\n",
       "<text text-anchor=\"middle\" x=\"223\" y=\"-164.3\" font-family=\"Times,serif\" font-size=\"14.00\">gini = 0.32</text>\n",
       "<text text-anchor=\"middle\" x=\"223\" y=\"-149.3\" font-family=\"Times,serif\" font-size=\"14.00\">samples = 15</text>\n",
       "<text text-anchor=\"middle\" x=\"223\" y=\"-134.3\" font-family=\"Times,serif\" font-size=\"14.00\">value = [3, 12]</text>\n",
       "<text text-anchor=\"middle\" x=\"223\" y=\"-119.3\" font-family=\"Times,serif\" font-size=\"14.00\">class = 生还</text>\n",
       "</g>\n",
       "<!-- 3&#45;&gt;7 -->\n",
       "<g id=\"edge7\" class=\"edge\"><title>3&#45;&gt;7</title>\n",
       "<path fill=\"none\" stroke=\"black\" d=\"M223,-222.907C223,-212.204 223,-200.615 223,-189.776\"/>\n",
       "<polygon fill=\"black\" stroke=\"black\" points=\"226.5,-189.667 223,-179.667 219.5,-189.667 226.5,-189.667\"/>\n",
       "</g>\n",
       "<!-- 5 -->\n",
       "<g id=\"node6\" class=\"node\"><title>5</title>\n",
       "<polygon fill=\"#55abe9\" stroke=\"black\" points=\"98,-68 7.10543e-15,-68 7.10543e-15,-0 98,-0 98,-68\"/>\n",
       "<text text-anchor=\"middle\" x=\"49\" y=\"-52.8\" font-family=\"Times,serif\" font-size=\"14.00\">gini = 0.219</text>\n",
       "<text text-anchor=\"middle\" x=\"49\" y=\"-37.8\" font-family=\"Times,serif\" font-size=\"14.00\">samples = 16</text>\n",
       "<text text-anchor=\"middle\" x=\"49\" y=\"-22.8\" font-family=\"Times,serif\" font-size=\"14.00\">value = [2, 14]</text>\n",
       "<text text-anchor=\"middle\" x=\"49\" y=\"-7.8\" font-family=\"Times,serif\" font-size=\"14.00\">class = 生还</text>\n",
       "</g>\n",
       "<!-- 4&#45;&gt;5 -->\n",
       "<g id=\"edge5\" class=\"edge\"><title>4&#45;&gt;5</title>\n",
       "<path fill=\"none\" stroke=\"black\" d=\"M85.4029,-103.726C80.8134,-95.0615 75.9587,-85.8962 71.342,-77.1802\"/>\n",
       "<polygon fill=\"black\" stroke=\"black\" points=\"74.4118,-75.4982 66.6381,-68.2996 68.226,-78.7748 74.4118,-75.4982\"/>\n",
       "</g>\n",
       "<!-- 6 -->\n",
       "<g id=\"node7\" class=\"node\"><title>6</title>\n",
       "<polygon fill=\"#399de5\" stroke=\"black\" points=\"214,-68 116,-68 116,-0 214,-0 214,-68\"/>\n",
       "<text text-anchor=\"middle\" x=\"165\" y=\"-52.8\" font-family=\"Times,serif\" font-size=\"14.00\">gini = 0.0</text>\n",
       "<text text-anchor=\"middle\" x=\"165\" y=\"-37.8\" font-family=\"Times,serif\" font-size=\"14.00\">samples = 14</text>\n",
       "<text text-anchor=\"middle\" x=\"165\" y=\"-22.8\" font-family=\"Times,serif\" font-size=\"14.00\">value = [0, 14]</text>\n",
       "<text text-anchor=\"middle\" x=\"165\" y=\"-7.8\" font-family=\"Times,serif\" font-size=\"14.00\">class = 生还</text>\n",
       "</g>\n",
       "<!-- 4&#45;&gt;6 -->\n",
       "<g id=\"edge6\" class=\"edge\"><title>4&#45;&gt;6</title>\n",
       "<path fill=\"none\" stroke=\"black\" d=\"M128.597,-103.726C133.187,-95.0615 138.041,-85.8962 142.658,-77.1802\"/>\n",
       "<polygon fill=\"black\" stroke=\"black\" points=\"145.774,-78.7748 147.362,-68.2996 139.588,-75.4982 145.774,-78.7748\"/>\n",
       "</g>\n",
       "<!-- 9 -->\n",
       "<g id=\"node10\" class=\"node\"><title>9</title>\n",
       "<polygon fill=\"#399de5\" stroke=\"black\" points=\"388,-179.5 290,-179.5 290,-111.5 388,-111.5 388,-179.5\"/>\n",
       "<text text-anchor=\"middle\" x=\"339\" y=\"-164.3\" font-family=\"Times,serif\" font-size=\"14.00\">gini = 0.0</text>\n",
       "<text text-anchor=\"middle\" x=\"339\" y=\"-149.3\" font-family=\"Times,serif\" font-size=\"14.00\">samples = 65</text>\n",
       "<text text-anchor=\"middle\" x=\"339\" y=\"-134.3\" font-family=\"Times,serif\" font-size=\"14.00\">value = [0, 65]</text>\n",
       "<text text-anchor=\"middle\" x=\"339\" y=\"-119.3\" font-family=\"Times,serif\" font-size=\"14.00\">class = 生还</text>\n",
       "</g>\n",
       "<!-- 8&#45;&gt;9 -->\n",
       "<g id=\"edge9\" class=\"edge\"><title>8&#45;&gt;9</title>\n",
       "<path fill=\"none\" stroke=\"black\" d=\"M376.877,-222.907C371.407,-211.873 365.471,-199.898 359.956,-188.773\"/>\n",
       "<polygon fill=\"black\" stroke=\"black\" points=\"363.019,-187.072 355.442,-179.667 356.747,-190.181 363.019,-187.072\"/>\n",
       "</g>\n",
       "<!-- 10 -->\n",
       "<g id=\"node11\" class=\"node\"><title>10</title>\n",
       "<polygon fill=\"#55abe9\" stroke=\"black\" points=\"504,-179.5 406,-179.5 406,-111.5 504,-111.5 504,-179.5\"/>\n",
       "<text text-anchor=\"middle\" x=\"455\" y=\"-164.3\" font-family=\"Times,serif\" font-size=\"14.00\">gini = 0.219</text>\n",
       "<text text-anchor=\"middle\" x=\"455\" y=\"-149.3\" font-family=\"Times,serif\" font-size=\"14.00\">samples = 16</text>\n",
       "<text text-anchor=\"middle\" x=\"455\" y=\"-134.3\" font-family=\"Times,serif\" font-size=\"14.00\">value = [2, 14]</text>\n",
       "<text text-anchor=\"middle\" x=\"455\" y=\"-119.3\" font-family=\"Times,serif\" font-size=\"14.00\">class = 生还</text>\n",
       "</g>\n",
       "<!-- 8&#45;&gt;10 -->\n",
       "<g id=\"edge10\" class=\"edge\"><title>8&#45;&gt;10</title>\n",
       "<path fill=\"none\" stroke=\"black\" d=\"M417.123,-222.907C422.593,-211.873 428.529,-199.898 434.044,-188.773\"/>\n",
       "<polygon fill=\"black\" stroke=\"black\" points=\"437.253,-190.181 438.558,-179.667 430.981,-187.072 437.253,-190.181\"/>\n",
       "</g>\n",
       "<!-- 12 -->\n",
       "<g id=\"node13\" class=\"node\"><title>12</title>\n",
       "<polygon fill=\"#e2f0fb\" stroke=\"black\" points=\"743.5,-306 638.5,-306 638.5,-223 743.5,-223 743.5,-306\"/>\n",
       "<text text-anchor=\"middle\" x=\"691\" y=\"-290.8\" font-family=\"Times,serif\" font-size=\"14.00\">Fare &lt;= 8.294</text>\n",
       "<text text-anchor=\"middle\" x=\"691\" y=\"-275.8\" font-family=\"Times,serif\" font-size=\"14.00\">gini = 0.497</text>\n",
       "<text text-anchor=\"middle\" x=\"691\" y=\"-260.8\" font-family=\"Times,serif\" font-size=\"14.00\">samples = 50</text>\n",
       "<text text-anchor=\"middle\" x=\"691\" y=\"-245.8\" font-family=\"Times,serif\" font-size=\"14.00\">value = [23, 27]</text>\n",
       "<text text-anchor=\"middle\" x=\"691\" y=\"-230.8\" font-family=\"Times,serif\" font-size=\"14.00\">class = 生还</text>\n",
       "</g>\n",
       "<!-- 11&#45;&gt;12 -->\n",
       "<g id=\"edge12\" class=\"edge\"><title>11&#45;&gt;12</title>\n",
       "<path fill=\"none\" stroke=\"black\" d=\"M730.836,-341.907C726.294,-333.195 721.446,-323.897 716.752,-314.893\"/>\n",
       "<polygon fill=\"black\" stroke=\"black\" points=\"719.853,-313.27 712.126,-306.021 713.646,-316.506 719.853,-313.27\"/>\n",
       "</g>\n",
       "<!-- 19 -->\n",
       "<g id=\"node20\" class=\"node\"><title>19</title>\n",
       "<polygon fill=\"#efb083\" stroke=\"black\" points=\"864,-306 762,-306 762,-223 864,-223 864,-306\"/>\n",
       "<text text-anchor=\"middle\" x=\"813\" y=\"-290.8\" font-family=\"Times,serif\" font-size=\"14.00\">Fare &lt;= 15.675</text>\n",
       "<text text-anchor=\"middle\" x=\"813\" y=\"-275.8\" font-family=\"Times,serif\" font-size=\"14.00\">gini = 0.397</text>\n",
       "<text text-anchor=\"middle\" x=\"813\" y=\"-260.8\" font-family=\"Times,serif\" font-size=\"14.00\">samples = 22</text>\n",
       "<text text-anchor=\"middle\" x=\"813\" y=\"-245.8\" font-family=\"Times,serif\" font-size=\"14.00\">value = [16, 6]</text>\n",
       "<text text-anchor=\"middle\" x=\"813\" y=\"-230.8\" font-family=\"Times,serif\" font-size=\"14.00\">class = 未生还</text>\n",
       "</g>\n",
       "<!-- 11&#45;&gt;19 -->\n",
       "<g id=\"edge19\" class=\"edge\"><title>11&#45;&gt;19</title>\n",
       "<path fill=\"none\" stroke=\"black\" d=\"M773.164,-341.907C777.706,-333.195 782.554,-323.897 787.248,-314.893\"/>\n",
       "<polygon fill=\"black\" stroke=\"black\" points=\"790.354,-316.506 791.874,-306.021 784.147,-313.27 790.354,-316.506\"/>\n",
       "</g>\n",
       "<!-- 13 -->\n",
       "<g id=\"node14\" class=\"node\"><title>13</title>\n",
       "<polygon fill=\"#7bbeee\" stroke=\"black\" points=\"620,-187 522,-187 522,-104 620,-104 620,-187\"/>\n",
       "<text text-anchor=\"middle\" x=\"571\" y=\"-171.8\" font-family=\"Times,serif\" font-size=\"14.00\">Age &lt;= 21.5</text>\n",
       "<text text-anchor=\"middle\" x=\"571\" y=\"-156.8\" font-family=\"Times,serif\" font-size=\"14.00\">gini = 0.375</text>\n",
       "<text text-anchor=\"middle\" x=\"571\" y=\"-141.8\" font-family=\"Times,serif\" font-size=\"14.00\">samples = 20</text>\n",
       "<text text-anchor=\"middle\" x=\"571\" y=\"-126.8\" font-family=\"Times,serif\" font-size=\"14.00\">value = [5, 15]</text>\n",
       "<text text-anchor=\"middle\" x=\"571\" y=\"-111.8\" font-family=\"Times,serif\" font-size=\"14.00\">class = 生还</text>\n",
       "</g>\n",
       "<!-- 12&#45;&gt;13 -->\n",
       "<g id=\"edge13\" class=\"edge\"><title>12&#45;&gt;13</title>\n",
       "<path fill=\"none\" stroke=\"black\" d=\"M649.367,-222.907C639.873,-213.651 629.7,-203.732 619.932,-194.209\"/>\n",
       "<polygon fill=\"black\" stroke=\"black\" points=\"622.163,-191.496 612.56,-187.021 617.276,-196.508 622.163,-191.496\"/>\n",
       "</g>\n",
       "<!-- 16 -->\n",
       "<g id=\"node17\" class=\"node\"><title>16</title>\n",
       "<polygon fill=\"#f6d5bd\" stroke=\"black\" points=\"743.5,-187 638.5,-187 638.5,-104 743.5,-104 743.5,-187\"/>\n",
       "<text text-anchor=\"middle\" x=\"691\" y=\"-171.8\" font-family=\"Times,serif\" font-size=\"14.00\">Age &lt;= 6.5</text>\n",
       "<text text-anchor=\"middle\" x=\"691\" y=\"-156.8\" font-family=\"Times,serif\" font-size=\"14.00\">gini = 0.48</text>\n",
       "<text text-anchor=\"middle\" x=\"691\" y=\"-141.8\" font-family=\"Times,serif\" font-size=\"14.00\">samples = 30</text>\n",
       "<text text-anchor=\"middle\" x=\"691\" y=\"-126.8\" font-family=\"Times,serif\" font-size=\"14.00\">value = [18, 12]</text>\n",
       "<text text-anchor=\"middle\" x=\"691\" y=\"-111.8\" font-family=\"Times,serif\" font-size=\"14.00\">class = 未生还</text>\n",
       "</g>\n",
       "<!-- 12&#45;&gt;16 -->\n",
       "<g id=\"edge16\" class=\"edge\"><title>12&#45;&gt;16</title>\n",
       "<path fill=\"none\" stroke=\"black\" d=\"M691,-222.907C691,-214.649 691,-205.864 691,-197.302\"/>\n",
       "<polygon fill=\"black\" stroke=\"black\" points=\"694.5,-197.021 691,-187.021 687.5,-197.021 694.5,-197.021\"/>\n",
       "</g>\n",
       "<!-- 14 -->\n",
       "<g id=\"node15\" class=\"node\"><title>14</title>\n",
       "<polygon fill=\"#6ab6ec\" stroke=\"black\" points=\"509,-68 417,-68 417,-0 509,-0 509,-68\"/>\n",
       "<text text-anchor=\"middle\" x=\"463\" y=\"-52.8\" font-family=\"Times,serif\" font-size=\"14.00\">gini = 0.32</text>\n",
       "<text text-anchor=\"middle\" x=\"463\" y=\"-37.8\" font-family=\"Times,serif\" font-size=\"14.00\">samples = 10</text>\n",
       "<text text-anchor=\"middle\" x=\"463\" y=\"-22.8\" font-family=\"Times,serif\" font-size=\"14.00\">value = [2, 8]</text>\n",
       "<text text-anchor=\"middle\" x=\"463\" y=\"-7.8\" font-family=\"Times,serif\" font-size=\"14.00\">class = 生还</text>\n",
       "</g>\n",
       "<!-- 13&#45;&gt;14 -->\n",
       "<g id=\"edge14\" class=\"edge\"><title>13&#45;&gt;14</title>\n",
       "<path fill=\"none\" stroke=\"black\" d=\"M530.785,-103.726C521.699,-94.5142 512.055,-84.7364 502.979,-75.5343\"/>\n",
       "<polygon fill=\"black\" stroke=\"black\" points=\"505.357,-72.9615 495.843,-68.2996 500.374,-77.877 505.357,-72.9615\"/>\n",
       "</g>\n",
       "<!-- 15 -->\n",
       "<g id=\"node16\" class=\"node\"><title>15</title>\n",
       "<polygon fill=\"#8ec7f0\" stroke=\"black\" points=\"619,-68 527,-68 527,-0 619,-0 619,-68\"/>\n",
       "<text text-anchor=\"middle\" x=\"573\" y=\"-52.8\" font-family=\"Times,serif\" font-size=\"14.00\">gini = 0.42</text>\n",
       "<text text-anchor=\"middle\" x=\"573\" y=\"-37.8\" font-family=\"Times,serif\" font-size=\"14.00\">samples = 10</text>\n",
       "<text text-anchor=\"middle\" x=\"573\" y=\"-22.8\" font-family=\"Times,serif\" font-size=\"14.00\">value = [3, 7]</text>\n",
       "<text text-anchor=\"middle\" x=\"573\" y=\"-7.8\" font-family=\"Times,serif\" font-size=\"14.00\">class = 生还</text>\n",
       "</g>\n",
       "<!-- 13&#45;&gt;15 -->\n",
       "<g id=\"edge15\" class=\"edge\"><title>13&#45;&gt;15</title>\n",
       "<path fill=\"none\" stroke=\"black\" d=\"M571.745,-103.726C571.895,-95.5175 572.053,-86.8595 572.204,-78.56\"/>\n",
       "<polygon fill=\"black\" stroke=\"black\" points=\"575.708,-78.3619 572.392,-68.2996 568.71,-78.234 575.708,-78.3619\"/>\n",
       "</g>\n",
       "<!-- 17 -->\n",
       "<g id=\"node18\" class=\"node\"><title>17</title>\n",
       "<polygon fill=\"#aad5f4\" stroke=\"black\" points=\"734,-68 642,-68 642,-0 734,-0 734,-68\"/>\n",
       "<text text-anchor=\"middle\" x=\"688\" y=\"-52.8\" font-family=\"Times,serif\" font-size=\"14.00\">gini = 0.463</text>\n",
       "<text text-anchor=\"middle\" x=\"688\" y=\"-37.8\" font-family=\"Times,serif\" font-size=\"14.00\">samples = 11</text>\n",
       "<text text-anchor=\"middle\" x=\"688\" y=\"-22.8\" font-family=\"Times,serif\" font-size=\"14.00\">value = [4, 7]</text>\n",
       "<text text-anchor=\"middle\" x=\"688\" y=\"-7.8\" font-family=\"Times,serif\" font-size=\"14.00\">class = 生还</text>\n",
       "</g>\n",
       "<!-- 16&#45;&gt;17 -->\n",
       "<g id=\"edge17\" class=\"edge\"><title>16&#45;&gt;17</title>\n",
       "<path fill=\"none\" stroke=\"black\" d=\"M689.883,-103.726C689.658,-95.5175 689.421,-86.8595 689.193,-78.56\"/>\n",
       "<polygon fill=\"black\" stroke=\"black\" points=\"692.685,-78.2 688.912,-68.2996 685.688,-78.3917 692.685,-78.2\"/>\n",
       "</g>\n",
       "<!-- 18 -->\n",
       "<g id=\"node19\" class=\"node\"><title>18</title>\n",
       "<polygon fill=\"#eeae80\" stroke=\"black\" points=\"853.5,-68 752.5,-68 752.5,-0 853.5,-0 853.5,-68\"/>\n",
       "<text text-anchor=\"middle\" x=\"803\" y=\"-52.8\" font-family=\"Times,serif\" font-size=\"14.00\">gini = 0.388</text>\n",
       "<text text-anchor=\"middle\" x=\"803\" y=\"-37.8\" font-family=\"Times,serif\" font-size=\"14.00\">samples = 19</text>\n",
       "<text text-anchor=\"middle\" x=\"803\" y=\"-22.8\" font-family=\"Times,serif\" font-size=\"14.00\">value = [14, 5]</text>\n",
       "<text text-anchor=\"middle\" x=\"803\" y=\"-7.8\" font-family=\"Times,serif\" font-size=\"14.00\">class = 未生还</text>\n",
       "</g>\n",
       "<!-- 16&#45;&gt;18 -->\n",
       "<g id=\"edge18\" class=\"edge\"><title>16&#45;&gt;18</title>\n",
       "<path fill=\"none\" stroke=\"black\" d=\"M732.705,-103.726C742.127,-94.5142 752.128,-84.7364 761.54,-75.5343\"/>\n",
       "<polygon fill=\"black\" stroke=\"black\" points=\"764.236,-77.7931 768.94,-68.2996 759.343,-72.7878 764.236,-77.7931\"/>\n",
       "</g>\n",
       "<!-- 20 -->\n",
       "<g id=\"node21\" class=\"node\"><title>20</title>\n",
       "<polygon fill=\"#eb9d65\" stroke=\"black\" points=\"862.5,-179.5 761.5,-179.5 761.5,-111.5 862.5,-111.5 862.5,-179.5\"/>\n",
       "<text text-anchor=\"middle\" x=\"812\" y=\"-164.3\" font-family=\"Times,serif\" font-size=\"14.00\">gini = 0.298</text>\n",
       "<text text-anchor=\"middle\" x=\"812\" y=\"-149.3\" font-family=\"Times,serif\" font-size=\"14.00\">samples = 11</text>\n",
       "<text text-anchor=\"middle\" x=\"812\" y=\"-134.3\" font-family=\"Times,serif\" font-size=\"14.00\">value = [9, 2]</text>\n",
       "<text text-anchor=\"middle\" x=\"812\" y=\"-119.3\" font-family=\"Times,serif\" font-size=\"14.00\">class = 未生还</text>\n",
       "</g>\n",
       "<!-- 19&#45;&gt;20 -->\n",
       "<g id=\"edge20\" class=\"edge\"><title>19&#45;&gt;20</title>\n",
       "<path fill=\"none\" stroke=\"black\" d=\"M812.653,-222.907C812.562,-212.204 812.463,-200.615 812.37,-189.776\"/>\n",
       "<polygon fill=\"black\" stroke=\"black\" points=\"815.869,-189.637 812.283,-179.667 808.869,-189.697 815.869,-189.637\"/>\n",
       "</g>\n",
       "<!-- 21 -->\n",
       "<g id=\"node22\" class=\"node\"><title>21</title>\n",
       "<polygon fill=\"#f4c9aa\" stroke=\"black\" points=\"981.5,-179.5 880.5,-179.5 880.5,-111.5 981.5,-111.5 981.5,-179.5\"/>\n",
       "<text text-anchor=\"middle\" x=\"931\" y=\"-164.3\" font-family=\"Times,serif\" font-size=\"14.00\">gini = 0.463</text>\n",
       "<text text-anchor=\"middle\" x=\"931\" y=\"-149.3\" font-family=\"Times,serif\" font-size=\"14.00\">samples = 11</text>\n",
       "<text text-anchor=\"middle\" x=\"931\" y=\"-134.3\" font-family=\"Times,serif\" font-size=\"14.00\">value = [7, 4]</text>\n",
       "<text text-anchor=\"middle\" x=\"931\" y=\"-119.3\" font-family=\"Times,serif\" font-size=\"14.00\">class = 未生还</text>\n",
       "</g>\n",
       "<!-- 19&#45;&gt;21 -->\n",
       "<g id=\"edge21\" class=\"edge\"><title>19&#45;&gt;21</title>\n",
       "<path fill=\"none\" stroke=\"black\" d=\"M853.94,-222.907C865.736,-211.211 878.599,-198.457 890.376,-186.78\"/>\n",
       "<polygon fill=\"black\" stroke=\"black\" points=\"892.913,-189.193 897.55,-179.667 887.984,-184.222 892.913,-189.193\"/>\n",
       "</g>\n",
       "<!-- 23 -->\n",
       "<g id=\"node24\" class=\"node\"><title>23</title>\n",
       "<polygon fill=\"#6fb8ec\" stroke=\"black\" points=\"984,-417.5 886,-417.5 886,-349.5 984,-349.5 984,-417.5\"/>\n",
       "<text text-anchor=\"middle\" x=\"935\" y=\"-402.3\" font-family=\"Times,serif\" font-size=\"14.00\">gini = 0.337</text>\n",
       "<text text-anchor=\"middle\" x=\"935\" y=\"-387.3\" font-family=\"Times,serif\" font-size=\"14.00\">samples = 14</text>\n",
       "<text text-anchor=\"middle\" x=\"935\" y=\"-372.3\" font-family=\"Times,serif\" font-size=\"14.00\">value = [3, 11]</text>\n",
       "<text text-anchor=\"middle\" x=\"935\" y=\"-357.3\" font-family=\"Times,serif\" font-size=\"14.00\">class = 生还</text>\n",
       "</g>\n",
       "<!-- 22&#45;&gt;23 -->\n",
       "<g id=\"edge23\" class=\"edge\"><title>22&#45;&gt;23</title>\n",
       "<path fill=\"none\" stroke=\"black\" d=\"M935,-460.907C935,-450.204 935,-438.615 935,-427.776\"/>\n",
       "<polygon fill=\"black\" stroke=\"black\" points=\"938.5,-427.667 935,-417.667 931.5,-427.667 938.5,-427.667\"/>\n",
       "</g>\n",
       "<!-- 24 -->\n",
       "<g id=\"node25\" class=\"node\"><title>24</title>\n",
       "<polygon fill=\"#eb9f68\" stroke=\"black\" points=\"1167,-425 1055,-425 1055,-342 1167,-342 1167,-425\"/>\n",
       "<text text-anchor=\"middle\" x=\"1111\" y=\"-409.8\" font-family=\"Times,serif\" font-size=\"14.00\">Pclass &lt;= 1.5</text>\n",
       "<text text-anchor=\"middle\" x=\"1111\" y=\"-394.8\" font-family=\"Times,serif\" font-size=\"14.00\">gini = 0.311</text>\n",
       "<text text-anchor=\"middle\" x=\"1111\" y=\"-379.8\" font-family=\"Times,serif\" font-size=\"14.00\">samples = 322</text>\n",
       "<text text-anchor=\"middle\" x=\"1111\" y=\"-364.8\" font-family=\"Times,serif\" font-size=\"14.00\">value = [260, 62]</text>\n",
       "<text text-anchor=\"middle\" x=\"1111\" y=\"-349.8\" font-family=\"Times,serif\" font-size=\"14.00\">class = 未生还</text>\n",
       "</g>\n",
       "<!-- 22&#45;&gt;24 -->\n",
       "<g id=\"edge24\" class=\"edge\"><title>22&#45;&gt;24</title>\n",
       "<path fill=\"none\" stroke=\"black\" d=\"M991.171,-464.159C1008.64,-452.549 1028.03,-439.655 1046.04,-427.682\"/>\n",
       "<polygon fill=\"black\" stroke=\"black\" points=\"1048.37,-430.339 1054.76,-421.888 1044.49,-424.509 1048.37,-430.339\"/>\n",
       "</g>\n",
       "<!-- 25 -->\n",
       "<g id=\"node26\" class=\"node\"><title>25</title>\n",
       "<polygon fill=\"#f8ddca\" stroke=\"black\" points=\"1163.5,-306 1058.5,-306 1058.5,-223 1163.5,-223 1163.5,-306\"/>\n",
       "<text text-anchor=\"middle\" x=\"1111\" y=\"-290.8\" font-family=\"Times,serif\" font-size=\"14.00\">Age &lt;= 53.0</text>\n",
       "<text text-anchor=\"middle\" x=\"1111\" y=\"-275.8\" font-family=\"Times,serif\" font-size=\"14.00\">gini = 0.488</text>\n",
       "<text text-anchor=\"middle\" x=\"1111\" y=\"-260.8\" font-family=\"Times,serif\" font-size=\"14.00\">samples = 78</text>\n",
       "<text text-anchor=\"middle\" x=\"1111\" y=\"-245.8\" font-family=\"Times,serif\" font-size=\"14.00\">value = [45, 33]</text>\n",
       "<text text-anchor=\"middle\" x=\"1111\" y=\"-230.8\" font-family=\"Times,serif\" font-size=\"14.00\">class = 未生还</text>\n",
       "</g>\n",
       "<!-- 24&#45;&gt;25 -->\n",
       "<g id=\"edge25\" class=\"edge\"><title>24&#45;&gt;25</title>\n",
       "<path fill=\"none\" stroke=\"black\" d=\"M1111,-341.907C1111,-333.649 1111,-324.864 1111,-316.302\"/>\n",
       "<polygon fill=\"black\" stroke=\"black\" points=\"1114.5,-316.021 1111,-306.021 1107.5,-316.021 1114.5,-316.021\"/>\n",
       "</g>\n",
       "<!-- 30 -->\n",
       "<g id=\"node31\" class=\"node\"><title>30</title>\n",
       "<polygon fill=\"#e99254\" stroke=\"black\" points=\"1354,-306 1242,-306 1242,-223 1354,-223 1354,-306\"/>\n",
       "<text text-anchor=\"middle\" x=\"1298\" y=\"-290.8\" font-family=\"Times,serif\" font-size=\"14.00\">Age &lt;= 32.25</text>\n",
       "<text text-anchor=\"middle\" x=\"1298\" y=\"-275.8\" font-family=\"Times,serif\" font-size=\"14.00\">gini = 0.209</text>\n",
       "<text text-anchor=\"middle\" x=\"1298\" y=\"-260.8\" font-family=\"Times,serif\" font-size=\"14.00\">samples = 244</text>\n",
       "<text text-anchor=\"middle\" x=\"1298\" y=\"-245.8\" font-family=\"Times,serif\" font-size=\"14.00\">value = [215, 29]</text>\n",
       "<text text-anchor=\"middle\" x=\"1298\" y=\"-230.8\" font-family=\"Times,serif\" font-size=\"14.00\">class = 未生还</text>\n",
       "</g>\n",
       "<!-- 24&#45;&gt;30 -->\n",
       "<g id=\"edge30\" class=\"edge\"><title>24&#45;&gt;30</title>\n",
       "<path fill=\"none\" stroke=\"black\" d=\"M1167.11,-347.396C1187.91,-334.381 1211.67,-319.516 1233.18,-306.055\"/>\n",
       "<polygon fill=\"black\" stroke=\"black\" points=\"1235.31,-308.85 1241.93,-300.579 1231.6,-302.916 1235.31,-308.85\"/>\n",
       "</g>\n",
       "<!-- 26 -->\n",
       "<g id=\"node27\" class=\"node\"><title>26</title>\n",
       "<polygon fill=\"#fefbf9\" stroke=\"black\" points=\"1104.5,-187 999.5,-187 999.5,-104 1104.5,-104 1104.5,-187\"/>\n",
       "<text text-anchor=\"middle\" x=\"1052\" y=\"-171.8\" font-family=\"Times,serif\" font-size=\"14.00\">Age &lt;= 47.5</text>\n",
       "<text text-anchor=\"middle\" x=\"1052\" y=\"-156.8\" font-family=\"Times,serif\" font-size=\"14.00\">gini = 0.5</text>\n",
       "<text text-anchor=\"middle\" x=\"1052\" y=\"-141.8\" font-family=\"Times,serif\" font-size=\"14.00\">samples = 63</text>\n",
       "<text text-anchor=\"middle\" x=\"1052\" y=\"-126.8\" font-family=\"Times,serif\" font-size=\"14.00\">value = [32, 31]</text>\n",
       "<text text-anchor=\"middle\" x=\"1052\" y=\"-111.8\" font-family=\"Times,serif\" font-size=\"14.00\">class = 未生还</text>\n",
       "</g>\n",
       "<!-- 25&#45;&gt;26 -->\n",
       "<g id=\"edge26\" class=\"edge\"><title>25&#45;&gt;26</title>\n",
       "<path fill=\"none\" stroke=\"black\" d=\"M1090.53,-222.907C1086.18,-214.286 1081.55,-205.09 1077.05,-196.175\"/>\n",
       "<polygon fill=\"black\" stroke=\"black\" points=\"1080.06,-194.374 1072.43,-187.021 1073.81,-197.526 1080.06,-194.374\"/>\n",
       "</g>\n",
       "<!-- 29 -->\n",
       "<g id=\"node30\" class=\"node\"><title>29</title>\n",
       "<polygon fill=\"#e99457\" stroke=\"black\" points=\"1223.5,-179.5 1122.5,-179.5 1122.5,-111.5 1223.5,-111.5 1223.5,-179.5\"/>\n",
       "<text text-anchor=\"middle\" x=\"1173\" y=\"-164.3\" font-family=\"Times,serif\" font-size=\"14.00\">gini = 0.231</text>\n",
       "<text text-anchor=\"middle\" x=\"1173\" y=\"-149.3\" font-family=\"Times,serif\" font-size=\"14.00\">samples = 15</text>\n",
       "<text text-anchor=\"middle\" x=\"1173\" y=\"-134.3\" font-family=\"Times,serif\" font-size=\"14.00\">value = [13, 2]</text>\n",
       "<text text-anchor=\"middle\" x=\"1173\" y=\"-119.3\" font-family=\"Times,serif\" font-size=\"14.00\">class = 未生还</text>\n",
       "</g>\n",
       "<!-- 25&#45;&gt;29 -->\n",
       "<g id=\"edge29\" class=\"edge\"><title>25&#45;&gt;29</title>\n",
       "<path fill=\"none\" stroke=\"black\" d=\"M1132.51,-222.907C1138.36,-211.873 1144.7,-199.898 1150.6,-188.773\"/>\n",
       "<polygon fill=\"black\" stroke=\"black\" points=\"1153.83,-190.142 1155.42,-179.667 1147.65,-186.864 1153.83,-190.142\"/>\n",
       "</g>\n",
       "<!-- 27 -->\n",
       "<g id=\"node28\" class=\"node\"><title>27</title>\n",
       "<polygon fill=\"#fbe9dd\" stroke=\"black\" points=\"990.5,-68 885.5,-68 885.5,-0 990.5,-0 990.5,-68\"/>\n",
       "<text text-anchor=\"middle\" x=\"938\" y=\"-52.8\" font-family=\"Times,serif\" font-size=\"14.00\">gini = 0.496</text>\n",
       "<text text-anchor=\"middle\" x=\"938\" y=\"-37.8\" font-family=\"Times,serif\" font-size=\"14.00\">samples = 53</text>\n",
       "<text text-anchor=\"middle\" x=\"938\" y=\"-22.8\" font-family=\"Times,serif\" font-size=\"14.00\">value = [29, 24]</text>\n",
       "<text text-anchor=\"middle\" x=\"938\" y=\"-7.8\" font-family=\"Times,serif\" font-size=\"14.00\">class = 未生还</text>\n",
       "</g>\n",
       "<!-- 26&#45;&gt;27 -->\n",
       "<g id=\"edge27\" class=\"edge\"><title>26&#45;&gt;27</title>\n",
       "<path fill=\"none\" stroke=\"black\" d=\"M1009.55,-103.726C999.865,-94.423 989.579,-84.5428 979.916,-75.2612\"/>\n",
       "<polygon fill=\"black\" stroke=\"black\" points=\"982.305,-72.7027 972.668,-68.2996 977.456,-77.7511 982.305,-72.7027\"/>\n",
       "</g>\n",
       "<!-- 28 -->\n",
       "<g id=\"node29\" class=\"node\"><title>28</title>\n",
       "<polygon fill=\"#8ec7f0\" stroke=\"black\" points=\"1101,-68 1009,-68 1009,-0 1101,-0 1101,-68\"/>\n",
       "<text text-anchor=\"middle\" x=\"1055\" y=\"-52.8\" font-family=\"Times,serif\" font-size=\"14.00\">gini = 0.42</text>\n",
       "<text text-anchor=\"middle\" x=\"1055\" y=\"-37.8\" font-family=\"Times,serif\" font-size=\"14.00\">samples = 10</text>\n",
       "<text text-anchor=\"middle\" x=\"1055\" y=\"-22.8\" font-family=\"Times,serif\" font-size=\"14.00\">value = [3, 7]</text>\n",
       "<text text-anchor=\"middle\" x=\"1055\" y=\"-7.8\" font-family=\"Times,serif\" font-size=\"14.00\">class = 生还</text>\n",
       "</g>\n",
       "<!-- 26&#45;&gt;28 -->\n",
       "<g id=\"edge28\" class=\"edge\"><title>26&#45;&gt;28</title>\n",
       "<path fill=\"none\" stroke=\"black\" d=\"M1053.12,-103.726C1053.34,-95.5175 1053.58,-86.8595 1053.81,-78.56\"/>\n",
       "<polygon fill=\"black\" stroke=\"black\" points=\"1057.31,-78.3917 1054.09,-68.2996 1050.32,-78.2 1057.31,-78.3917\"/>\n",
       "</g>\n",
       "<!-- 31 -->\n",
       "<g id=\"node32\" class=\"node\"><title>31</title>\n",
       "<polygon fill=\"#ea985d\" stroke=\"black\" points=\"1354,-187 1242,-187 1242,-104 1354,-104 1354,-187\"/>\n",
       "<text text-anchor=\"middle\" x=\"1298\" y=\"-171.8\" font-family=\"Times,serif\" font-size=\"14.00\">Age &lt;= 30.75</text>\n",
       "<text text-anchor=\"middle\" x=\"1298\" y=\"-156.8\" font-family=\"Times,serif\" font-size=\"14.00\">gini = 0.259</text>\n",
       "<text text-anchor=\"middle\" x=\"1298\" y=\"-141.8\" font-family=\"Times,serif\" font-size=\"14.00\">samples = 170</text>\n",
       "<text text-anchor=\"middle\" x=\"1298\" y=\"-126.8\" font-family=\"Times,serif\" font-size=\"14.00\">value = [144, 26]</text>\n",
       "<text text-anchor=\"middle\" x=\"1298\" y=\"-111.8\" font-family=\"Times,serif\" font-size=\"14.00\">class = 未生还</text>\n",
       "</g>\n",
       "<!-- 30&#45;&gt;31 -->\n",
       "<g id=\"edge31\" class=\"edge\"><title>30&#45;&gt;31</title>\n",
       "<path fill=\"none\" stroke=\"black\" d=\"M1298,-222.907C1298,-214.649 1298,-205.864 1298,-197.302\"/>\n",
       "<polygon fill=\"black\" stroke=\"black\" points=\"1301.5,-197.021 1298,-187.021 1294.5,-197.021 1301.5,-197.021\"/>\n",
       "</g>\n",
       "<!-- 34 -->\n",
       "<g id=\"node35\" class=\"node\"><title>34</title>\n",
       "<polygon fill=\"#e68641\" stroke=\"black\" points=\"1473.5,-187 1372.5,-187 1372.5,-104 1473.5,-104 1473.5,-187\"/>\n",
       "<text text-anchor=\"middle\" x=\"1423\" y=\"-171.8\" font-family=\"Times,serif\" font-size=\"14.00\">Fare &lt;= 7.91</text>\n",
       "<text text-anchor=\"middle\" x=\"1423\" y=\"-156.8\" font-family=\"Times,serif\" font-size=\"14.00\">gini = 0.078</text>\n",
       "<text text-anchor=\"middle\" x=\"1423\" y=\"-141.8\" font-family=\"Times,serif\" font-size=\"14.00\">samples = 74</text>\n",
       "<text text-anchor=\"middle\" x=\"1423\" y=\"-126.8\" font-family=\"Times,serif\" font-size=\"14.00\">value = [71, 3]</text>\n",
       "<text text-anchor=\"middle\" x=\"1423\" y=\"-111.8\" font-family=\"Times,serif\" font-size=\"14.00\">class = 未生还</text>\n",
       "</g>\n",
       "<!-- 30&#45;&gt;34 -->\n",
       "<g id=\"edge34\" class=\"edge\"><title>30&#45;&gt;34</title>\n",
       "<path fill=\"none\" stroke=\"black\" d=\"M1341.37,-222.907C1351.35,-213.56 1362.06,-203.538 1372.33,-193.929\"/>\n",
       "<polygon fill=\"black\" stroke=\"black\" points=\"1374.8,-196.41 1379.71,-187.021 1370.02,-191.299 1374.8,-196.41\"/>\n",
       "</g>\n",
       "<!-- 32 -->\n",
       "<g id=\"node33\" class=\"node\"><title>32</title>\n",
       "<polygon fill=\"#e99254\" stroke=\"black\" points=\"1236,-68 1124,-68 1124,-0 1236,-0 1236,-68\"/>\n",
       "<text text-anchor=\"middle\" x=\"1180\" y=\"-52.8\" font-family=\"Times,serif\" font-size=\"14.00\">gini = 0.213</text>\n",
       "<text text-anchor=\"middle\" x=\"1180\" y=\"-37.8\" font-family=\"Times,serif\" font-size=\"14.00\">samples = 157</text>\n",
       "<text text-anchor=\"middle\" x=\"1180\" y=\"-22.8\" font-family=\"Times,serif\" font-size=\"14.00\">value = [138, 19]</text>\n",
       "<text text-anchor=\"middle\" x=\"1180\" y=\"-7.8\" font-family=\"Times,serif\" font-size=\"14.00\">class = 未生还</text>\n",
       "</g>\n",
       "<!-- 31&#45;&gt;32 -->\n",
       "<g id=\"edge32\" class=\"edge\"><title>31&#45;&gt;32</title>\n",
       "<path fill=\"none\" stroke=\"black\" d=\"M1254.06,-103.726C1244.04,-94.423 1233.39,-84.5428 1223.39,-75.2612\"/>\n",
       "<polygon fill=\"black\" stroke=\"black\" points=\"1225.6,-72.5362 1215.88,-68.2996 1220.83,-77.6673 1225.6,-72.5362\"/>\n",
       "</g>\n",
       "<!-- 33 -->\n",
       "<g id=\"node34\" class=\"node\"><title>33</title>\n",
       "<polygon fill=\"#e3f1fb\" stroke=\"black\" points=\"1346,-68 1254,-68 1254,-0 1346,-0 1346,-68\"/>\n",
       "<text text-anchor=\"middle\" x=\"1300\" y=\"-52.8\" font-family=\"Times,serif\" font-size=\"14.00\">gini = 0.497</text>\n",
       "<text text-anchor=\"middle\" x=\"1300\" y=\"-37.8\" font-family=\"Times,serif\" font-size=\"14.00\">samples = 13</text>\n",
       "<text text-anchor=\"middle\" x=\"1300\" y=\"-22.8\" font-family=\"Times,serif\" font-size=\"14.00\">value = [6, 7]</text>\n",
       "<text text-anchor=\"middle\" x=\"1300\" y=\"-7.8\" font-family=\"Times,serif\" font-size=\"14.00\">class = 生还</text>\n",
       "</g>\n",
       "<!-- 31&#45;&gt;33 -->\n",
       "<g id=\"edge33\" class=\"edge\"><title>31&#45;&gt;33</title>\n",
       "<path fill=\"none\" stroke=\"black\" d=\"M1298.74,-103.726C1298.89,-95.5175 1299.05,-86.8595 1299.2,-78.56\"/>\n",
       "<polygon fill=\"black\" stroke=\"black\" points=\"1302.71,-78.3619 1299.39,-68.2996 1295.71,-78.234 1302.71,-78.3619\"/>\n",
       "</g>\n",
       "<!-- 35 -->\n",
       "<g id=\"node36\" class=\"node\"><title>35</title>\n",
       "<polygon fill=\"#e58139\" stroke=\"black\" points=\"1470.5,-68 1369.5,-68 1369.5,-0 1470.5,-0 1470.5,-68\"/>\n",
       "<text text-anchor=\"middle\" x=\"1420\" y=\"-52.8\" font-family=\"Times,serif\" font-size=\"14.00\">gini = 0.0</text>\n",
       "<text text-anchor=\"middle\" x=\"1420\" y=\"-37.8\" font-family=\"Times,serif\" font-size=\"14.00\">samples = 24</text>\n",
       "<text text-anchor=\"middle\" x=\"1420\" y=\"-22.8\" font-family=\"Times,serif\" font-size=\"14.00\">value = [24, 0]</text>\n",
       "<text text-anchor=\"middle\" x=\"1420\" y=\"-7.8\" font-family=\"Times,serif\" font-size=\"14.00\">class = 未生还</text>\n",
       "</g>\n",
       "<!-- 34&#45;&gt;35 -->\n",
       "<g id=\"edge35\" class=\"edge\"><title>34&#45;&gt;35</title>\n",
       "<path fill=\"none\" stroke=\"black\" d=\"M1421.88,-103.726C1421.66,-95.5175 1421.42,-86.8595 1421.19,-78.56\"/>\n",
       "<polygon fill=\"black\" stroke=\"black\" points=\"1424.68,-78.2 1420.91,-68.2996 1417.69,-78.3917 1424.68,-78.2\"/>\n",
       "</g>\n",
       "<!-- 36 -->\n",
       "<g id=\"node37\" class=\"node\"><title>36</title>\n",
       "<polygon fill=\"#e78946\" stroke=\"black\" points=\"1589.5,-68 1488.5,-68 1488.5,-0 1589.5,-0 1589.5,-68\"/>\n",
       "<text text-anchor=\"middle\" x=\"1539\" y=\"-52.8\" font-family=\"Times,serif\" font-size=\"14.00\">gini = 0.113</text>\n",
       "<text text-anchor=\"middle\" x=\"1539\" y=\"-37.8\" font-family=\"Times,serif\" font-size=\"14.00\">samples = 50</text>\n",
       "<text text-anchor=\"middle\" x=\"1539\" y=\"-22.8\" font-family=\"Times,serif\" font-size=\"14.00\">value = [47, 3]</text>\n",
       "<text text-anchor=\"middle\" x=\"1539\" y=\"-7.8\" font-family=\"Times,serif\" font-size=\"14.00\">class = 未生还</text>\n",
       "</g>\n",
       "<!-- 34&#45;&gt;36 -->\n",
       "<g id=\"edge36\" class=\"edge\"><title>34&#45;&gt;36</title>\n",
       "<path fill=\"none\" stroke=\"black\" d=\"M1466.19,-103.726C1476.05,-94.423 1486.52,-84.5428 1496.35,-75.2612\"/>\n",
       "<polygon fill=\"black\" stroke=\"black\" points=\"1498.85,-77.7092 1503.72,-68.2996 1494.05,-72.6189 1498.85,-77.7092\"/>\n",
       "</g>\n",
       "</g>\n",
       "</svg>\n"
      ],
      "text/plain": [
       "<graphviz.files.Source at 0x7f3808497198>"
      ]
     },
     "execution_count": 94,
     "metadata": {},
     "output_type": "execute_result"
    }
   ],
   "source": [
    "titDotForp = tree.export_graphviz(titDtForp,feature_names=list(titTrainX.columns),class_names=['未生还','生还'],filled=True)\n",
    "titDtForpGraph = graphviz.Source(titDotForp)\n",
    "titDtForpGraph"
   ]
  },
  {
   "cell_type": "markdown",
   "metadata": {
    "slideshow": {
     "slide_type": "slide"
    }
   },
   "source": [
    "##### 决策树在训练集上的性能"
   ]
  },
  {
   "cell_type": "code",
   "execution_count": 95,
   "metadata": {
    "slideshow": {
     "slide_type": "fragment"
    }
   },
   "outputs": [],
   "source": [
    "titTrainYPreForp = titDtForp.predict(titTrainX)"
   ]
  },
  {
   "cell_type": "code",
   "execution_count": 96,
   "metadata": {
    "slideshow": {
     "slide_type": "fragment"
    }
   },
   "outputs": [
    {
     "name": "stdout",
     "output_type": "stream",
     "text": [
      "先剪枝的决策树在训练集上的F1_score是0.79236276849642\n"
     ]
    }
   ],
   "source": [
    "print(f'先剪枝的决策树在训练集上的F1_score是{metrics.f1_score(titTrainY,titTrainYPreForp)}')"
   ]
  },
  {
   "cell_type": "markdown",
   "metadata": {
    "slideshow": {
     "slide_type": "fragment"
    }
   },
   "source": [
    "##### 决策树在检验集上的性能"
   ]
  },
  {
   "cell_type": "code",
   "execution_count": 97,
   "metadata": {
    "slideshow": {
     "slide_type": "fragment"
    }
   },
   "outputs": [],
   "source": [
    "titTestYPreForp = titDtForp.predict(titTestX)"
   ]
  },
  {
   "cell_type": "code",
   "execution_count": 98,
   "metadata": {
    "slideshow": {
     "slide_type": "fragment"
    }
   },
   "outputs": [
    {
     "name": "stdout",
     "output_type": "stream",
     "text": [
      "先剪枝的决策树在训练集上的F1_score是0.6722689075630252\n"
     ]
    }
   ],
   "source": [
    "print(f'先剪枝的决策树在训练集上的F1_score是{metrics.f1_score(titTestY,titTestYPreForp)}')"
   ]
  },
  {
   "cell_type": "markdown",
   "metadata": {
    "slideshow": {
     "slide_type": "slide"
    }
   },
   "source": [
    "#### 后剪枝（Post-Pruning）"
   ]
  },
  {
   "cell_type": "markdown",
   "metadata": {
    "slideshow": {
     "slide_type": "fragment"
    }
   },
   "source": [
    "<p class=\"alert alert-danger\">构造完整的决策树，然后用叶结点替换那些置信度不够的结点的子树，该叶结点所应标记的类别为被替换的子树中大多数样本所属的类别。</p>"
   ]
  },
  {
   "cell_type": "markdown",
   "metadata": {
    "slideshow": {
     "slide_type": "fragment"
    }
   },
   "source": [
    "```python\n",
    "tree.DecisionTreeClassifier(ccp_alpha=None)\n",
    "```\n",
    "- `ccp_alpha`：非负的浮点数，利用成本复杂度剪枝（cost-complexity pruning），保留那些成本复杂度值低于该参数的子树"
   ]
  },
  {
   "cell_type": "markdown",
   "metadata": {
    "slideshow": {
     "slide_type": "slide"
    }
   },
   "source": [
    "#### 对titanic决策树后剪枝"
   ]
  },
  {
   "cell_type": "markdown",
   "metadata": {
    "slideshow": {
     "slide_type": "fragment"
    }
   },
   "source": [
    "##### 建立后剪枝模型"
   ]
  },
  {
   "cell_type": "code",
   "execution_count": 99,
   "metadata": {
    "slideshow": {
     "slide_type": "fragment"
    }
   },
   "outputs": [],
   "source": [
    "titDtPostp = tree.DecisionTreeClassifier(ccp_alpha=0.035,random_state=10)"
   ]
  },
  {
   "cell_type": "markdown",
   "metadata": {
    "slideshow": {
     "slide_type": "fragment"
    }
   },
   "source": [
    "##### 训练决策树"
   ]
  },
  {
   "cell_type": "code",
   "execution_count": 100,
   "metadata": {
    "slideshow": {
     "slide_type": "fragment"
    }
   },
   "outputs": [
    {
     "data": {
      "text/plain": [
       "DecisionTreeClassifier(ccp_alpha=0.035, class_weight=None, criterion='gini',\n",
       "                       max_depth=None, max_features=None, max_leaf_nodes=None,\n",
       "                       min_impurity_decrease=0.0, min_impurity_split=None,\n",
       "                       min_samples_leaf=1, min_samples_split=2,\n",
       "                       min_weight_fraction_leaf=0.0, presort='deprecated',\n",
       "                       random_state=10, splitter='best')"
      ]
     },
     "execution_count": 100,
     "metadata": {},
     "output_type": "execute_result"
    }
   ],
   "source": [
    "titDtPostp.fit(titTrainX,titTrainY)"
   ]
  },
  {
   "cell_type": "markdown",
   "metadata": {
    "slideshow": {
     "slide_type": "slide"
    }
   },
   "source": [
    "##### 可视化决策树"
   ]
  },
  {
   "cell_type": "code",
   "execution_count": 101,
   "metadata": {
    "scrolled": true,
    "slideshow": {
     "slide_type": "fragment"
    }
   },
   "outputs": [
    {
     "data": {
      "image/svg+xml": [
       "<?xml version=\"1.0\" encoding=\"UTF-8\" standalone=\"no\"?>\n",
       "<!DOCTYPE svg PUBLIC \"-//W3C//DTD SVG 1.1//EN\"\n",
       " \"http://www.w3.org/Graphics/SVG/1.1/DTD/svg11.dtd\">\n",
       "<!-- Generated by graphviz version 2.38.0 (20140413.2041)\n",
       " -->\n",
       "<!-- Title: Tree Pages: 1 -->\n",
       "<svg width=\"308pt\" height=\"314pt\"\n",
       " viewBox=\"0.00 0.00 307.50 314.00\" xmlns=\"http://www.w3.org/2000/svg\" xmlns:xlink=\"http://www.w3.org/1999/xlink\">\n",
       "<g id=\"graph0\" class=\"graph\" transform=\"scale(1 1) rotate(0) translate(4 310)\">\n",
       "<title>Tree</title>\n",
       "<polygon fill=\"white\" stroke=\"none\" points=\"-4,4 -4,-310 303.5,-310 303.5,4 -4,4\"/>\n",
       "<!-- 0 -->\n",
       "<g id=\"node1\" class=\"node\"><title>0</title>\n",
       "<polygon fill=\"#f8ddc9\" stroke=\"black\" points=\"182,-306 60,-306 60,-223 182,-223 182,-306\"/>\n",
       "<text text-anchor=\"middle\" x=\"121\" y=\"-290.8\" font-family=\"Times,serif\" font-size=\"14.00\">Sex_female &lt;= 0.5</text>\n",
       "<text text-anchor=\"middle\" x=\"121\" y=\"-275.8\" font-family=\"Times,serif\" font-size=\"14.00\">gini = 0.488</text>\n",
       "<text text-anchor=\"middle\" x=\"121\" y=\"-260.8\" font-family=\"Times,serif\" font-size=\"14.00\">samples = 534</text>\n",
       "<text text-anchor=\"middle\" x=\"121\" y=\"-245.8\" font-family=\"Times,serif\" font-size=\"14.00\">value = [309, 225]</text>\n",
       "<text text-anchor=\"middle\" x=\"121\" y=\"-230.8\" font-family=\"Times,serif\" font-size=\"14.00\">class = 未生还</text>\n",
       "</g>\n",
       "<!-- 1 -->\n",
       "<g id=\"node2\" class=\"node\"><title>1</title>\n",
       "<polygon fill=\"#eca470\" stroke=\"black\" points=\"112,-179.5 -7.10543e-15,-179.5 -7.10543e-15,-111.5 112,-111.5 112,-179.5\"/>\n",
       "<text text-anchor=\"middle\" x=\"56\" y=\"-164.3\" font-family=\"Times,serif\" font-size=\"14.00\">gini = 0.34</text>\n",
       "<text text-anchor=\"middle\" x=\"56\" y=\"-149.3\" font-family=\"Times,serif\" font-size=\"14.00\">samples = 336</text>\n",
       "<text text-anchor=\"middle\" x=\"56\" y=\"-134.3\" font-family=\"Times,serif\" font-size=\"14.00\">value = [263, 73]</text>\n",
       "<text text-anchor=\"middle\" x=\"56\" y=\"-119.3\" font-family=\"Times,serif\" font-size=\"14.00\">class = 未生还</text>\n",
       "</g>\n",
       "<!-- 0&#45;&gt;1 -->\n",
       "<g id=\"edge1\" class=\"edge\"><title>0&#45;&gt;1</title>\n",
       "<path fill=\"none\" stroke=\"black\" d=\"M98.4486,-222.907C92.257,-211.763 85.5323,-199.658 79.2995,-188.439\"/>\n",
       "<polygon fill=\"black\" stroke=\"black\" points=\"82.3421,-186.709 74.4261,-179.667 76.223,-190.108 82.3421,-186.709\"/>\n",
       "<text text-anchor=\"middle\" x=\"67.558\" y=\"-200.005\" font-family=\"Times,serif\" font-size=\"14.00\">True</text>\n",
       "</g>\n",
       "<!-- 2 -->\n",
       "<g id=\"node3\" class=\"node\"><title>2</title>\n",
       "<polygon fill=\"#75bbed\" stroke=\"black\" points=\"242,-187 130,-187 130,-104 242,-104 242,-187\"/>\n",
       "<text text-anchor=\"middle\" x=\"186\" y=\"-171.8\" font-family=\"Times,serif\" font-size=\"14.00\">Pclass &lt;= 2.5</text>\n",
       "<text text-anchor=\"middle\" x=\"186\" y=\"-156.8\" font-family=\"Times,serif\" font-size=\"14.00\">gini = 0.357</text>\n",
       "<text text-anchor=\"middle\" x=\"186\" y=\"-141.8\" font-family=\"Times,serif\" font-size=\"14.00\">samples = 198</text>\n",
       "<text text-anchor=\"middle\" x=\"186\" y=\"-126.8\" font-family=\"Times,serif\" font-size=\"14.00\">value = [46, 152]</text>\n",
       "<text text-anchor=\"middle\" x=\"186\" y=\"-111.8\" font-family=\"Times,serif\" font-size=\"14.00\">class = 生还</text>\n",
       "</g>\n",
       "<!-- 0&#45;&gt;2 -->\n",
       "<g id=\"edge2\" class=\"edge\"><title>0&#45;&gt;2</title>\n",
       "<path fill=\"none\" stroke=\"black\" d=\"M143.551,-222.907C148.391,-214.195 153.557,-204.897 158.559,-195.893\"/>\n",
       "<polygon fill=\"black\" stroke=\"black\" points=\"161.692,-197.462 163.488,-187.021 155.572,-194.063 161.692,-197.462\"/>\n",
       "<text text-anchor=\"middle\" x=\"170.356\" y=\"-207.359\" font-family=\"Times,serif\" font-size=\"14.00\">False</text>\n",
       "</g>\n",
       "<!-- 3 -->\n",
       "<g id=\"node4\" class=\"node\"><title>3</title>\n",
       "<polygon fill=\"#45a3e7\" stroke=\"black\" points=\"176.5,-68 71.5,-68 71.5,-0 176.5,-0 176.5,-68\"/>\n",
       "<text text-anchor=\"middle\" x=\"124\" y=\"-52.8\" font-family=\"Times,serif\" font-size=\"14.00\">gini = 0.105</text>\n",
       "<text text-anchor=\"middle\" x=\"124\" y=\"-37.8\" font-family=\"Times,serif\" font-size=\"14.00\">samples = 126</text>\n",
       "<text text-anchor=\"middle\" x=\"124\" y=\"-22.8\" font-family=\"Times,serif\" font-size=\"14.00\">value = [7, 119]</text>\n",
       "<text text-anchor=\"middle\" x=\"124\" y=\"-7.8\" font-family=\"Times,serif\" font-size=\"14.00\">class = 生还</text>\n",
       "</g>\n",
       "<!-- 2&#45;&gt;3 -->\n",
       "<g id=\"edge3\" class=\"edge\"><title>2&#45;&gt;3</title>\n",
       "<path fill=\"none\" stroke=\"black\" d=\"M162.913,-103.726C158.007,-95.0615 152.818,-85.8962 147.883,-77.1802\"/>\n",
       "<polygon fill=\"black\" stroke=\"black\" points=\"150.827,-75.277 142.855,-68.2996 144.736,-78.726 150.827,-75.277\"/>\n",
       "</g>\n",
       "<!-- 4 -->\n",
       "<g id=\"node5\" class=\"node\"><title>4</title>\n",
       "<polygon fill=\"#fbece1\" stroke=\"black\" points=\"299.5,-68 194.5,-68 194.5,-0 299.5,-0 299.5,-68\"/>\n",
       "<text text-anchor=\"middle\" x=\"247\" y=\"-52.8\" font-family=\"Times,serif\" font-size=\"14.00\">gini = 0.497</text>\n",
       "<text text-anchor=\"middle\" x=\"247\" y=\"-37.8\" font-family=\"Times,serif\" font-size=\"14.00\">samples = 72</text>\n",
       "<text text-anchor=\"middle\" x=\"247\" y=\"-22.8\" font-family=\"Times,serif\" font-size=\"14.00\">value = [39, 33]</text>\n",
       "<text text-anchor=\"middle\" x=\"247\" y=\"-7.8\" font-family=\"Times,serif\" font-size=\"14.00\">class = 未生还</text>\n",
       "</g>\n",
       "<!-- 2&#45;&gt;4 -->\n",
       "<g id=\"edge4\" class=\"edge\"><title>2&#45;&gt;4</title>\n",
       "<path fill=\"none\" stroke=\"black\" d=\"M208.714,-103.726C213.541,-95.0615 218.647,-85.8962 223.502,-77.1802\"/>\n",
       "<polygon fill=\"black\" stroke=\"black\" points=\"226.64,-78.7389 228.45,-68.2996 220.525,-75.3322 226.64,-78.7389\"/>\n",
       "</g>\n",
       "</g>\n",
       "</svg>\n"
      ],
      "text/plain": [
       "<graphviz.files.Source at 0x7f37f922b7f0>"
      ]
     },
     "execution_count": 101,
     "metadata": {},
     "output_type": "execute_result"
    }
   ],
   "source": [
    "titDotPostp = tree.export_graphviz(titDtPostp,feature_names=list(titTrainX.columns),class_names=['未生还','生还'],filled=True)\n",
    "titDtPostpGraph = graphviz.Source(titDotPostp)\n",
    "titDtPostpGraph"
   ]
  },
  {
   "cell_type": "markdown",
   "metadata": {
    "slideshow": {
     "slide_type": "slide"
    }
   },
   "source": [
    "##### 在训练集上的分类性能"
   ]
  },
  {
   "cell_type": "code",
   "execution_count": 102,
   "metadata": {
    "slideshow": {
     "slide_type": "fragment"
    }
   },
   "outputs": [],
   "source": [
    "titTrainYPrePostp = titDtPostp.predict(titTrainX)"
   ]
  },
  {
   "cell_type": "code",
   "execution_count": 103,
   "metadata": {
    "slideshow": {
     "slide_type": "fragment"
    }
   },
   "outputs": [
    {
     "name": "stdout",
     "output_type": "stream",
     "text": [
      "后剪枝的决策树在训练集上的F1_score是0.6780626780626781\n"
     ]
    }
   ],
   "source": [
    "print(f'后剪枝的决策树在训练集上的F1_score是{metrics.f1_score(titTrainY,titTrainYPrePostp)}')"
   ]
  },
  {
   "cell_type": "markdown",
   "metadata": {
    "slideshow": {
     "slide_type": "fragment"
    }
   },
   "source": [
    "##### 在检验集上的分类性能"
   ]
  },
  {
   "cell_type": "code",
   "execution_count": 104,
   "metadata": {
    "slideshow": {
     "slide_type": "fragment"
    }
   },
   "outputs": [],
   "source": [
    "titTestYPrePostp = titDtPostp.predict(titTestX)"
   ]
  },
  {
   "cell_type": "code",
   "execution_count": 105,
   "metadata": {
    "slideshow": {
     "slide_type": "fragment"
    }
   },
   "outputs": [
    {
     "name": "stdout",
     "output_type": "stream",
     "text": [
      "后剪枝的决策树在检验集上的F1_score是0.6170212765957446\n"
     ]
    }
   ],
   "source": [
    "print(f'后剪枝的决策树在检验集上的F1_score是{metrics.f1_score(titTestY,titTestYPrePostp)}')"
   ]
  },
  {
   "cell_type": "markdown",
   "metadata": {
    "slideshow": {
     "slide_type": "slide"
    }
   },
   "source": [
    "##### 如何选择$ccp\\_alpha$?"
   ]
  },
  {
   "cell_type": "markdown",
   "metadata": {
    "slideshow": {
     "slide_type": "fragment"
    }
   },
   "source": [
    "```python\n",
    "dt.cost_complexity_pruning_path(self, X, y)\n",
    "```\n",
    "- 返回利用成本复杂度剪枝计算过程，字典结构，包括`ccp_alpha`数组和`impurities`数组\n",
    "- `X`：训练集的预测属性\n",
    "- `y`：类别列表"
   ]
  },
  {
   "cell_type": "markdown",
   "metadata": {
    "slideshow": {
     "slide_type": "fragment"
    }
   },
   "source": [
    "###### 得到剪枝的`ccp_alpha`"
   ]
  },
  {
   "cell_type": "code",
   "execution_count": 106,
   "metadata": {
    "slideshow": {
     "slide_type": "fragment"
    }
   },
   "outputs": [],
   "source": [
    "ccp_path = titDt.cost_complexity_pruning_path(titTrainX, titTrainY)\n",
    "alphas = ccp_path['ccp_alphas']"
   ]
  },
  {
   "cell_type": "markdown",
   "metadata": {
    "slideshow": {
     "slide_type": "fragment"
    }
   },
   "source": [
    "###### 生成具有不同`ccp_alpha`决策树列表"
   ]
  },
  {
   "cell_type": "code",
   "execution_count": 107,
   "metadata": {
    "slideshow": {
     "slide_type": "fragment"
    }
   },
   "outputs": [
    {
     "data": {
      "text/plain": [
       "DecisionTreeClassifier(ccp_alpha=0.0, class_weight=None, criterion='gini',\n",
       "                       max_depth=None, max_features=None, max_leaf_nodes=None,\n",
       "                       min_impurity_decrease=0.0, min_impurity_split=None,\n",
       "                       min_samples_leaf=1, min_samples_split=2,\n",
       "                       min_weight_fraction_leaf=0.0, presort='deprecated',\n",
       "                       random_state=10, splitter='best')"
      ]
     },
     "execution_count": 107,
     "metadata": {},
     "output_type": "execute_result"
    },
    {
     "data": {
      "text/plain": [
       "DecisionTreeClassifier(ccp_alpha=0.00037453183520599225, class_weight=None,\n",
       "                       criterion='gini', max_depth=None, max_features=None,\n",
       "                       max_leaf_nodes=None, min_impurity_decrease=0.0,\n",
       "                       min_impurity_split=None, min_samples_leaf=1,\n",
       "                       min_samples_split=2, min_weight_fraction_leaf=0.0,\n",
       "                       presort='deprecated', random_state=10, splitter='best')"
      ]
     },
     "execution_count": 107,
     "metadata": {},
     "output_type": "execute_result"
    },
    {
     "data": {
      "text/plain": [
       "DecisionTreeClassifier(ccp_alpha=0.000550782110597048, class_weight=None,\n",
       "                       criterion='gini', max_depth=None, max_features=None,\n",
       "                       max_leaf_nodes=None, min_impurity_decrease=0.0,\n",
       "                       min_impurity_split=None, min_samples_leaf=1,\n",
       "                       min_samples_split=2, min_weight_fraction_leaf=0.0,\n",
       "                       presort='deprecated', random_state=10, splitter='best')"
      ]
     },
     "execution_count": 107,
     "metadata": {},
     "output_type": "execute_result"
    },
    {
     "data": {
      "text/plain": [
       "DecisionTreeClassifier(ccp_alpha=0.0005976571838393508, class_weight=None,\n",
       "                       criterion='gini', max_depth=None, max_features=None,\n",
       "                       max_leaf_nodes=None, min_impurity_decrease=0.0,\n",
       "                       min_impurity_split=None, min_samples_leaf=1,\n",
       "                       min_samples_split=2, min_weight_fraction_leaf=0.0,\n",
       "                       presort='deprecated', random_state=10, splitter='best')"
      ]
     },
     "execution_count": 107,
     "metadata": {},
     "output_type": "execute_result"
    },
    {
     "data": {
      "text/plain": [
       "DecisionTreeClassifier(ccp_alpha=0.0006242197253433209, class_weight=None,\n",
       "                       criterion='gini', max_depth=None, max_features=None,\n",
       "                       max_leaf_nodes=None, min_impurity_decrease=0.0,\n",
       "                       min_impurity_split=None, min_samples_leaf=1,\n",
       "                       min_samples_split=2, min_weight_fraction_leaf=0.0,\n",
       "                       presort='deprecated', random_state=10, splitter='best')"
      ]
     },
     "execution_count": 107,
     "metadata": {},
     "output_type": "execute_result"
    },
    {
     "data": {
      "text/plain": [
       "DecisionTreeClassifier(ccp_alpha=0.0006242197253433209, class_weight=None,\n",
       "                       criterion='gini', max_depth=None, max_features=None,\n",
       "                       max_leaf_nodes=None, min_impurity_decrease=0.0,\n",
       "                       min_impurity_split=None, min_samples_leaf=1,\n",
       "                       min_samples_split=2, min_weight_fraction_leaf=0.0,\n",
       "                       presort='deprecated', random_state=10, splitter='best')"
      ]
     },
     "execution_count": 107,
     "metadata": {},
     "output_type": "execute_result"
    },
    {
     "data": {
      "text/plain": [
       "DecisionTreeClassifier(ccp_alpha=0.0007282563462338742, class_weight=None,\n",
       "                       criterion='gini', max_depth=None, max_features=None,\n",
       "                       max_leaf_nodes=None, min_impurity_decrease=0.0,\n",
       "                       min_impurity_split=None, min_samples_leaf=1,\n",
       "                       min_samples_split=2, min_weight_fraction_leaf=0.0,\n",
       "                       presort='deprecated', random_state=10, splitter='best')"
      ]
     },
     "execution_count": 107,
     "metadata": {},
     "output_type": "execute_result"
    },
    {
     "data": {
      "text/plain": [
       "DecisionTreeClassifier(ccp_alpha=0.0010237203495630466, class_weight=None,\n",
       "                       criterion='gini', max_depth=None, max_features=None,\n",
       "                       max_leaf_nodes=None, min_impurity_decrease=0.0,\n",
       "                       min_impurity_split=None, min_samples_leaf=1,\n",
       "                       min_samples_split=2, min_weight_fraction_leaf=0.0,\n",
       "                       presort='deprecated', random_state=10, splitter='best')"
      ]
     },
     "execution_count": 107,
     "metadata": {},
     "output_type": "execute_result"
    },
    {
     "data": {
      "text/plain": [
       "DecisionTreeClassifier(ccp_alpha=0.0011235955056179778, class_weight=None,\n",
       "                       criterion='gini', max_depth=None, max_features=None,\n",
       "                       max_leaf_nodes=None, min_impurity_decrease=0.0,\n",
       "                       min_impurity_split=None, min_samples_leaf=1,\n",
       "                       min_samples_split=2, min_weight_fraction_leaf=0.0,\n",
       "                       presort='deprecated', random_state=10, splitter='best')"
      ]
     },
     "execution_count": 107,
     "metadata": {},
     "output_type": "execute_result"
    },
    {
     "data": {
      "text/plain": [
       "DecisionTreeClassifier(ccp_alpha=0.001179081703426273, class_weight=None,\n",
       "                       criterion='gini', max_depth=None, max_features=None,\n",
       "                       max_leaf_nodes=None, min_impurity_decrease=0.0,\n",
       "                       min_impurity_split=None, min_samples_leaf=1,\n",
       "                       min_samples_split=2, min_weight_fraction_leaf=0.0,\n",
       "                       presort='deprecated', random_state=10, splitter='best')"
      ]
     },
     "execution_count": 107,
     "metadata": {},
     "output_type": "execute_result"
    },
    {
     "data": {
      "text/plain": [
       "DecisionTreeClassifier(ccp_alpha=0.0012100259291270518, class_weight=None,\n",
       "                       criterion='gini', max_depth=None, max_features=None,\n",
       "                       max_leaf_nodes=None, min_impurity_decrease=0.0,\n",
       "                       min_impurity_split=None, min_samples_leaf=1,\n",
       "                       min_samples_split=2, min_weight_fraction_leaf=0.0,\n",
       "                       presort='deprecated', random_state=10, splitter='best')"
      ]
     },
     "execution_count": 107,
     "metadata": {},
     "output_type": "execute_result"
    },
    {
     "data": {
      "text/plain": [
       "DecisionTreeClassifier(ccp_alpha=0.0012328339575530575, class_weight=None,\n",
       "                       criterion='gini', max_depth=None, max_features=None,\n",
       "                       max_leaf_nodes=None, min_impurity_decrease=0.0,\n",
       "                       min_impurity_split=None, min_samples_leaf=1,\n",
       "                       min_samples_split=2, min_weight_fraction_leaf=0.0,\n",
       "                       presort='deprecated', random_state=10, splitter='best')"
      ]
     },
     "execution_count": 107,
     "metadata": {},
     "output_type": "execute_result"
    },
    {
     "data": {
      "text/plain": [
       "DecisionTreeClassifier(ccp_alpha=0.0012845054792620344, class_weight=None,\n",
       "                       criterion='gini', max_depth=None, max_features=None,\n",
       "                       max_leaf_nodes=None, min_impurity_decrease=0.0,\n",
       "                       min_impurity_split=None, min_samples_leaf=1,\n",
       "                       min_samples_split=2, min_weight_fraction_leaf=0.0,\n",
       "                       presort='deprecated', random_state=10, splitter='best')"
      ]
     },
     "execution_count": 107,
     "metadata": {},
     "output_type": "execute_result"
    },
    {
     "data": {
      "text/plain": [
       "DecisionTreeClassifier(ccp_alpha=0.001404494382022471, class_weight=None,\n",
       "                       criterion='gini', max_depth=None, max_features=None,\n",
       "                       max_leaf_nodes=None, min_impurity_decrease=0.0,\n",
       "                       min_impurity_split=None, min_samples_leaf=1,\n",
       "                       min_samples_split=2, min_weight_fraction_leaf=0.0,\n",
       "                       presort='deprecated', random_state=10, splitter='best')"
      ]
     },
     "execution_count": 107,
     "metadata": {},
     "output_type": "execute_result"
    },
    {
     "data": {
      "text/plain": [
       "DecisionTreeClassifier(ccp_alpha=0.0014044943820224719, class_weight=None,\n",
       "                       criterion='gini', max_depth=None, max_features=None,\n",
       "                       max_leaf_nodes=None, min_impurity_decrease=0.0,\n",
       "                       min_impurity_split=None, min_samples_leaf=1,\n",
       "                       min_samples_split=2, min_weight_fraction_leaf=0.0,\n",
       "                       presort='deprecated', random_state=10, splitter='best')"
      ]
     },
     "execution_count": 107,
     "metadata": {},
     "output_type": "execute_result"
    },
    {
     "data": {
      "text/plain": [
       "DecisionTreeClassifier(ccp_alpha=0.0014370925232348453, class_weight=None,\n",
       "                       criterion='gini', max_depth=None, max_features=None,\n",
       "                       max_leaf_nodes=None, min_impurity_decrease=0.0,\n",
       "                       min_impurity_split=None, min_samples_leaf=1,\n",
       "                       min_samples_split=2, min_weight_fraction_leaf=0.0,\n",
       "                       presort='deprecated', random_state=10, splitter='best')"
      ]
     },
     "execution_count": 107,
     "metadata": {},
     "output_type": "execute_result"
    },
    {
     "data": {
      "text/plain": [
       "DecisionTreeClassifier(ccp_alpha=0.0015278281180782084, class_weight=None,\n",
       "                       criterion='gini', max_depth=None, max_features=None,\n",
       "                       max_leaf_nodes=None, min_impurity_decrease=0.0,\n",
       "                       min_impurity_split=None, min_samples_leaf=1,\n",
       "                       min_samples_split=2, min_weight_fraction_leaf=0.0,\n",
       "                       presort='deprecated', random_state=10, splitter='best')"
      ]
     },
     "execution_count": 107,
     "metadata": {},
     "output_type": "execute_result"
    },
    {
     "data": {
      "text/plain": [
       "DecisionTreeClassifier(ccp_alpha=0.0015605493133583022, class_weight=None,\n",
       "                       criterion='gini', max_depth=None, max_features=None,\n",
       "                       max_leaf_nodes=None, min_impurity_decrease=0.0,\n",
       "                       min_impurity_split=None, min_samples_leaf=1,\n",
       "                       min_samples_split=2, min_weight_fraction_leaf=0.0,\n",
       "                       presort='deprecated', random_state=10, splitter='best')"
      ]
     },
     "execution_count": 107,
     "metadata": {},
     "output_type": "execute_result"
    },
    {
     "data": {
      "text/plain": [
       "DecisionTreeClassifier(ccp_alpha=0.0016051364365971112, class_weight=None,\n",
       "                       criterion='gini', max_depth=None, max_features=None,\n",
       "                       max_leaf_nodes=None, min_impurity_decrease=0.0,\n",
       "                       min_impurity_split=None, min_samples_leaf=1,\n",
       "                       min_samples_split=2, min_weight_fraction_leaf=0.0,\n",
       "                       presort='deprecated', random_state=10, splitter='best')"
      ]
     },
     "execution_count": 107,
     "metadata": {},
     "output_type": "execute_result"
    },
    {
     "data": {
      "text/plain": [
       "DecisionTreeClassifier(ccp_alpha=0.0016385767790262173, class_weight=None,\n",
       "                       criterion='gini', max_depth=None, max_features=None,\n",
       "                       max_leaf_nodes=None, min_impurity_decrease=0.0,\n",
       "                       min_impurity_split=None, min_samples_leaf=1,\n",
       "                       min_samples_split=2, min_weight_fraction_leaf=0.0,\n",
       "                       presort='deprecated', random_state=10, splitter='best')"
      ]
     },
     "execution_count": 107,
     "metadata": {},
     "output_type": "execute_result"
    },
    {
     "data": {
      "text/plain": [
       "DecisionTreeClassifier(ccp_alpha=0.0016880780744499523, class_weight=None,\n",
       "                       criterion='gini', max_depth=None, max_features=None,\n",
       "                       max_leaf_nodes=None, min_impurity_decrease=0.0,\n",
       "                       min_impurity_split=None, min_samples_leaf=1,\n",
       "                       min_samples_split=2, min_weight_fraction_leaf=0.0,\n",
       "                       presort='deprecated', random_state=10, splitter='best')"
      ]
     },
     "execution_count": 107,
     "metadata": {},
     "output_type": "execute_result"
    },
    {
     "data": {
      "text/plain": [
       "DecisionTreeClassifier(ccp_alpha=0.001738897806313537, class_weight=None,\n",
       "                       criterion='gini', max_depth=None, max_features=None,\n",
       "                       max_leaf_nodes=None, min_impurity_decrease=0.0,\n",
       "                       min_impurity_split=None, min_samples_leaf=1,\n",
       "                       min_samples_split=2, min_weight_fraction_leaf=0.0,\n",
       "                       presort='deprecated', random_state=10, splitter='best')"
      ]
     },
     "execution_count": 107,
     "metadata": {},
     "output_type": "execute_result"
    },
    {
     "data": {
      "text/plain": [
       "DecisionTreeClassifier(ccp_alpha=0.0017558266071154359, class_weight=None,\n",
       "                       criterion='gini', max_depth=None, max_features=None,\n",
       "                       max_leaf_nodes=None, min_impurity_decrease=0.0,\n",
       "                       min_impurity_split=None, min_samples_leaf=1,\n",
       "                       min_samples_split=2, min_weight_fraction_leaf=0.0,\n",
       "                       presort='deprecated', random_state=10, splitter='best')"
      ]
     },
     "execution_count": 107,
     "metadata": {},
     "output_type": "execute_result"
    },
    {
     "data": {
      "text/plain": [
       "DecisionTreeClassifier(ccp_alpha=0.0017834849295523451, class_weight=None,\n",
       "                       criterion='gini', max_depth=None, max_features=None,\n",
       "                       max_leaf_nodes=None, min_impurity_decrease=0.0,\n",
       "                       min_impurity_split=None, min_samples_leaf=1,\n",
       "                       min_samples_split=2, min_weight_fraction_leaf=0.0,\n",
       "                       presort='deprecated', random_state=10, splitter='best')"
      ]
     },
     "execution_count": 107,
     "metadata": {},
     "output_type": "execute_result"
    },
    {
     "data": {
      "text/plain": [
       "DecisionTreeClassifier(ccp_alpha=0.001792402354200107, class_weight=None,\n",
       "                       criterion='gini', max_depth=None, max_features=None,\n",
       "                       max_leaf_nodes=None, min_impurity_decrease=0.0,\n",
       "                       min_impurity_split=None, min_samples_leaf=1,\n",
       "                       min_samples_split=2, min_weight_fraction_leaf=0.0,\n",
       "                       presort='deprecated', random_state=10, splitter='best')"
      ]
     },
     "execution_count": 107,
     "metadata": {},
     "output_type": "execute_result"
    },
    {
     "data": {
      "text/plain": [
       "DecisionTreeClassifier(ccp_alpha=0.001801271718470808, class_weight=None,\n",
       "                       criterion='gini', max_depth=None, max_features=None,\n",
       "                       max_leaf_nodes=None, min_impurity_decrease=0.0,\n",
       "                       min_impurity_split=None, min_samples_leaf=1,\n",
       "                       min_samples_split=2, min_weight_fraction_leaf=0.0,\n",
       "                       presort='deprecated', random_state=10, splitter='best')"
      ]
     },
     "execution_count": 107,
     "metadata": {},
     "output_type": "execute_result"
    },
    {
     "data": {
      "text/plain": [
       "DecisionTreeClassifier(ccp_alpha=0.0018793472445157839, class_weight=None,\n",
       "                       criterion='gini', max_depth=None, max_features=None,\n",
       "                       max_leaf_nodes=None, min_impurity_decrease=0.0,\n",
       "                       min_impurity_split=None, min_samples_leaf=1,\n",
       "                       min_samples_split=2, min_weight_fraction_leaf=0.0,\n",
       "                       presort='deprecated', random_state=10, splitter='best')"
      ]
     },
     "execution_count": 107,
     "metadata": {},
     "output_type": "execute_result"
    },
    {
     "data": {
      "text/plain": [
       "DecisionTreeClassifier(ccp_alpha=0.0019975031210986275, class_weight=None,\n",
       "                       criterion='gini', max_depth=None, max_features=None,\n",
       "                       max_leaf_nodes=None, min_impurity_decrease=0.0,\n",
       "                       min_impurity_split=None, min_samples_leaf=1,\n",
       "                       min_samples_split=2, min_weight_fraction_leaf=0.0,\n",
       "                       presort='deprecated', random_state=10, splitter='best')"
      ]
     },
     "execution_count": 107,
     "metadata": {},
     "output_type": "execute_result"
    },
    {
     "data": {
      "text/plain": [
       "DecisionTreeClassifier(ccp_alpha=0.002106741573033706, class_weight=None,\n",
       "                       criterion='gini', max_depth=None, max_features=None,\n",
       "                       max_leaf_nodes=None, min_impurity_decrease=0.0,\n",
       "                       min_impurity_split=None, min_samples_leaf=1,\n",
       "                       min_samples_split=2, min_weight_fraction_leaf=0.0,\n",
       "                       presort='deprecated', random_state=10, splitter='best')"
      ]
     },
     "execution_count": 107,
     "metadata": {},
     "output_type": "execute_result"
    },
    {
     "data": {
      "text/plain": [
       "DecisionTreeClassifier(ccp_alpha=0.002269889910339349, class_weight=None,\n",
       "                       criterion='gini', max_depth=None, max_features=None,\n",
       "                       max_leaf_nodes=None, min_impurity_decrease=0.0,\n",
       "                       min_impurity_split=None, min_samples_leaf=1,\n",
       "                       min_samples_split=2, min_weight_fraction_leaf=0.0,\n",
       "                       presort='deprecated', random_state=10, splitter='best')"
      ]
     },
     "execution_count": 107,
     "metadata": {},
     "output_type": "execute_result"
    },
    {
     "data": {
      "text/plain": [
       "DecisionTreeClassifier(ccp_alpha=0.0023089668678958615, class_weight=None,\n",
       "                       criterion='gini', max_depth=None, max_features=None,\n",
       "                       max_leaf_nodes=None, min_impurity_decrease=0.0,\n",
       "                       min_impurity_split=None, min_samples_leaf=1,\n",
       "                       min_samples_split=2, min_weight_fraction_leaf=0.0,\n",
       "                       presort='deprecated', random_state=10, splitter='best')"
      ]
     },
     "execution_count": 107,
     "metadata": {},
     "output_type": "execute_result"
    },
    {
     "data": {
      "text/plain": [
       "DecisionTreeClassifier(ccp_alpha=0.0024077046548956656, class_weight=None,\n",
       "                       criterion='gini', max_depth=None, max_features=None,\n",
       "                       max_leaf_nodes=None, min_impurity_decrease=0.0,\n",
       "                       min_impurity_split=None, min_samples_leaf=1,\n",
       "                       min_samples_split=2, min_weight_fraction_leaf=0.0,\n",
       "                       presort='deprecated', random_state=10, splitter='best')"
      ]
     },
     "execution_count": 107,
     "metadata": {},
     "output_type": "execute_result"
    },
    {
     "data": {
      "text/plain": [
       "DecisionTreeClassifier(ccp_alpha=0.0024968789013732834, class_weight=None,\n",
       "                       criterion='gini', max_depth=None, max_features=None,\n",
       "                       max_leaf_nodes=None, min_impurity_decrease=0.0,\n",
       "                       min_impurity_split=None, min_samples_leaf=1,\n",
       "                       min_samples_split=2, min_weight_fraction_leaf=0.0,\n",
       "                       presort='deprecated', random_state=10, splitter='best')"
      ]
     },
     "execution_count": 107,
     "metadata": {},
     "output_type": "execute_result"
    },
    {
     "data": {
      "text/plain": [
       "DecisionTreeClassifier(ccp_alpha=0.0025667216678452627, class_weight=None,\n",
       "                       criterion='gini', max_depth=None, max_features=None,\n",
       "                       max_leaf_nodes=None, min_impurity_decrease=0.0,\n",
       "                       min_impurity_split=None, min_samples_leaf=1,\n",
       "                       min_samples_split=2, min_weight_fraction_leaf=0.0,\n",
       "                       presort='deprecated', random_state=10, splitter='best')"
      ]
     },
     "execution_count": 107,
     "metadata": {},
     "output_type": "execute_result"
    },
    {
     "data": {
      "text/plain": [
       "DecisionTreeClassifier(ccp_alpha=0.0028089887640449437, class_weight=None,\n",
       "                       criterion='gini', max_depth=None, max_features=None,\n",
       "                       max_leaf_nodes=None, min_impurity_decrease=0.0,\n",
       "                       min_impurity_split=None, min_samples_leaf=1,\n",
       "                       min_samples_split=2, min_weight_fraction_leaf=0.0,\n",
       "                       presort='deprecated', random_state=10, splitter='best')"
      ]
     },
     "execution_count": 107,
     "metadata": {},
     "output_type": "execute_result"
    },
    {
     "data": {
      "text/plain": [
       "DecisionTreeClassifier(ccp_alpha=0.0028089887640449437, class_weight=None,\n",
       "                       criterion='gini', max_depth=None, max_features=None,\n",
       "                       max_leaf_nodes=None, min_impurity_decrease=0.0,\n",
       "                       min_impurity_split=None, min_samples_leaf=1,\n",
       "                       min_samples_split=2, min_weight_fraction_leaf=0.0,\n",
       "                       presort='deprecated', random_state=10, splitter='best')"
      ]
     },
     "execution_count": 107,
     "metadata": {},
     "output_type": "execute_result"
    },
    {
     "data": {
      "text/plain": [
       "DecisionTreeClassifier(ccp_alpha=0.0030140895309434634, class_weight=None,\n",
       "                       criterion='gini', max_depth=None, max_features=None,\n",
       "                       max_leaf_nodes=None, min_impurity_decrease=0.0,\n",
       "                       min_impurity_split=None, min_samples_leaf=1,\n",
       "                       min_samples_split=2, min_weight_fraction_leaf=0.0,\n",
       "                       presort='deprecated', random_state=10, splitter='best')"
      ]
     },
     "execution_count": 107,
     "metadata": {},
     "output_type": "execute_result"
    },
    {
     "data": {
      "text/plain": [
       "DecisionTreeClassifier(ccp_alpha=0.003069080316271327, class_weight=None,\n",
       "                       criterion='gini', max_depth=None, max_features=None,\n",
       "                       max_leaf_nodes=None, min_impurity_decrease=0.0,\n",
       "                       min_impurity_split=None, min_samples_leaf=1,\n",
       "                       min_samples_split=2, min_weight_fraction_leaf=0.0,\n",
       "                       presort='deprecated', random_state=10, splitter='best')"
      ]
     },
     "execution_count": 107,
     "metadata": {},
     "output_type": "execute_result"
    },
    {
     "data": {
      "text/plain": [
       "DecisionTreeClassifier(ccp_alpha=0.0032771535580524347, class_weight=None,\n",
       "                       criterion='gini', max_depth=None, max_features=None,\n",
       "                       max_leaf_nodes=None, min_impurity_decrease=0.0,\n",
       "                       min_impurity_split=None, min_samples_leaf=1,\n",
       "                       min_samples_split=2, min_weight_fraction_leaf=0.0,\n",
       "                       presort='deprecated', random_state=10, splitter='best')"
      ]
     },
     "execution_count": 107,
     "metadata": {},
     "output_type": "execute_result"
    },
    {
     "data": {
      "text/plain": [
       "DecisionTreeClassifier(ccp_alpha=0.0033111896766972325, class_weight=None,\n",
       "                       criterion='gini', max_depth=None, max_features=None,\n",
       "                       max_leaf_nodes=None, min_impurity_decrease=0.0,\n",
       "                       min_impurity_split=None, min_samples_leaf=1,\n",
       "                       min_samples_split=2, min_weight_fraction_leaf=0.0,\n",
       "                       presort='deprecated', random_state=10, splitter='best')"
      ]
     },
     "execution_count": 107,
     "metadata": {},
     "output_type": "execute_result"
    },
    {
     "data": {
      "text/plain": [
       "DecisionTreeClassifier(ccp_alpha=0.003329171868497711, class_weight=None,\n",
       "                       criterion='gini', max_depth=None, max_features=None,\n",
       "                       max_leaf_nodes=None, min_impurity_decrease=0.0,\n",
       "                       min_impurity_split=None, min_samples_leaf=1,\n",
       "                       min_samples_split=2, min_weight_fraction_leaf=0.0,\n",
       "                       presort='deprecated', random_state=10, splitter='best')"
      ]
     },
     "execution_count": 107,
     "metadata": {},
     "output_type": "execute_result"
    },
    {
     "data": {
      "text/plain": [
       "DecisionTreeClassifier(ccp_alpha=0.003404834865509023, class_weight=None,\n",
       "                       criterion='gini', max_depth=None, max_features=None,\n",
       "                       max_leaf_nodes=None, min_impurity_decrease=0.0,\n",
       "                       min_impurity_split=None, min_samples_leaf=1,\n",
       "                       min_samples_split=2, min_weight_fraction_leaf=0.0,\n",
       "                       presort='deprecated', random_state=10, splitter='best')"
      ]
     },
     "execution_count": 107,
     "metadata": {},
     "output_type": "execute_result"
    },
    {
     "data": {
      "text/plain": [
       "DecisionTreeClassifier(ccp_alpha=0.0035696563982427574, class_weight=None,\n",
       "                       criterion='gini', max_depth=None, max_features=None,\n",
       "                       max_leaf_nodes=None, min_impurity_decrease=0.0,\n",
       "                       min_impurity_split=None, min_samples_leaf=1,\n",
       "                       min_samples_split=2, min_weight_fraction_leaf=0.0,\n",
       "                       presort='deprecated', random_state=10, splitter='best')"
      ]
     },
     "execution_count": 107,
     "metadata": {},
     "output_type": "execute_result"
    },
    {
     "data": {
      "text/plain": [
       "DecisionTreeClassifier(ccp_alpha=0.0036023898096656064, class_weight=None,\n",
       "                       criterion='gini', max_depth=None, max_features=None,\n",
       "                       max_leaf_nodes=None, min_impurity_decrease=0.0,\n",
       "                       min_impurity_split=None, min_samples_leaf=1,\n",
       "                       min_samples_split=2, min_weight_fraction_leaf=0.0,\n",
       "                       presort='deprecated', random_state=10, splitter='best')"
      ]
     },
     "execution_count": 107,
     "metadata": {},
     "output_type": "execute_result"
    },
    {
     "data": {
      "text/plain": [
       "DecisionTreeClassifier(ccp_alpha=0.003665108955202459, class_weight=None,\n",
       "                       criterion='gini', max_depth=None, max_features=None,\n",
       "                       max_leaf_nodes=None, min_impurity_decrease=0.0,\n",
       "                       min_impurity_split=None, min_samples_leaf=1,\n",
       "                       min_samples_split=2, min_weight_fraction_leaf=0.0,\n",
       "                       presort='deprecated', random_state=10, splitter='best')"
      ]
     },
     "execution_count": 107,
     "metadata": {},
     "output_type": "execute_result"
    },
    {
     "data": {
      "text/plain": [
       "DecisionTreeClassifier(ccp_alpha=0.003894633369417798, class_weight=None,\n",
       "                       criterion='gini', max_depth=None, max_features=None,\n",
       "                       max_leaf_nodes=None, min_impurity_decrease=0.0,\n",
       "                       min_impurity_split=None, min_samples_leaf=1,\n",
       "                       min_samples_split=2, min_weight_fraction_leaf=0.0,\n",
       "                       presort='deprecated', random_state=10, splitter='best')"
      ]
     },
     "execution_count": 107,
     "metadata": {},
     "output_type": "execute_result"
    },
    {
     "data": {
      "text/plain": [
       "DecisionTreeClassifier(ccp_alpha=0.005137629469479078, class_weight=None,\n",
       "                       criterion='gini', max_depth=None, max_features=None,\n",
       "                       max_leaf_nodes=None, min_impurity_decrease=0.0,\n",
       "                       min_impurity_split=None, min_samples_leaf=1,\n",
       "                       min_samples_split=2, min_weight_fraction_leaf=0.0,\n",
       "                       presort='deprecated', random_state=10, splitter='best')"
      ]
     },
     "execution_count": 107,
     "metadata": {},
     "output_type": "execute_result"
    },
    {
     "data": {
      "text/plain": [
       "DecisionTreeClassifier(ccp_alpha=0.005839312580885617, class_weight=None,\n",
       "                       criterion='gini', max_depth=None, max_features=None,\n",
       "                       max_leaf_nodes=None, min_impurity_decrease=0.0,\n",
       "                       min_impurity_split=None, min_samples_leaf=1,\n",
       "                       min_samples_split=2, min_weight_fraction_leaf=0.0,\n",
       "                       presort='deprecated', random_state=10, splitter='best')"
      ]
     },
     "execution_count": 107,
     "metadata": {},
     "output_type": "execute_result"
    },
    {
     "data": {
      "text/plain": [
       "DecisionTreeClassifier(ccp_alpha=0.0059044664318855175, class_weight=None,\n",
       "                       criterion='gini', max_depth=None, max_features=None,\n",
       "                       max_leaf_nodes=None, min_impurity_decrease=0.0,\n",
       "                       min_impurity_split=None, min_samples_leaf=1,\n",
       "                       min_samples_split=2, min_weight_fraction_leaf=0.0,\n",
       "                       presort='deprecated', random_state=10, splitter='best')"
      ]
     },
     "execution_count": 107,
     "metadata": {},
     "output_type": "execute_result"
    },
    {
     "data": {
      "text/plain": [
       "DecisionTreeClassifier(ccp_alpha=0.006019261637239167, class_weight=None,\n",
       "                       criterion='gini', max_depth=None, max_features=None,\n",
       "                       max_leaf_nodes=None, min_impurity_decrease=0.0,\n",
       "                       min_impurity_split=None, min_samples_leaf=1,\n",
       "                       min_samples_split=2, min_weight_fraction_leaf=0.0,\n",
       "                       presort='deprecated', random_state=10, splitter='best')"
      ]
     },
     "execution_count": 107,
     "metadata": {},
     "output_type": "execute_result"
    },
    {
     "data": {
      "text/plain": [
       "DecisionTreeClassifier(ccp_alpha=0.01908426567088385, class_weight=None,\n",
       "                       criterion='gini', max_depth=None, max_features=None,\n",
       "                       max_leaf_nodes=None, min_impurity_decrease=0.0,\n",
       "                       min_impurity_split=None, min_samples_leaf=1,\n",
       "                       min_samples_split=2, min_weight_fraction_leaf=0.0,\n",
       "                       presort='deprecated', random_state=10, splitter='best')"
      ]
     },
     "execution_count": 107,
     "metadata": {},
     "output_type": "execute_result"
    },
    {
     "data": {
      "text/plain": [
       "DecisionTreeClassifier(ccp_alpha=0.0405506374607498, class_weight=None,\n",
       "                       criterion='gini', max_depth=None, max_features=None,\n",
       "                       max_leaf_nodes=None, min_impurity_decrease=0.0,\n",
       "                       min_impurity_split=None, min_samples_leaf=1,\n",
       "                       min_samples_split=2, min_weight_fraction_leaf=0.0,\n",
       "                       presort='deprecated', random_state=10, splitter='best')"
      ]
     },
     "execution_count": 107,
     "metadata": {},
     "output_type": "execute_result"
    }
   ],
   "source": [
    "dts = []\n",
    "for ccp_alpha in alphas[:-1]:\n",
    "    # alphas[:-1]去除掉最大值，因为只包含一个节点\n",
    "    dt = tree.DecisionTreeClassifier(random_state=10, ccp_alpha=ccp_alpha)\n",
    "    dt.fit(titTrainX, titTrainY)\n",
    "    dts.append(dt)"
   ]
  },
  {
   "cell_type": "markdown",
   "metadata": {
    "slideshow": {
     "slide_type": "slide"
    }
   },
   "source": [
    "###### 计算每个决策树在训练集和检验集上的准确率"
   ]
  },
  {
   "cell_type": "code",
   "execution_count": 108,
   "metadata": {
    "slideshow": {
     "slide_type": "fragment"
    }
   },
   "outputs": [],
   "source": [
    "trainScoreLst = [metrics.accuracy_score(titTrainY,dt.predict(titTrainX)) for dt in dts]\n",
    "testScoreLst = [metrics.accuracy_score(titTestY,dt.predict(titTestX)) for dt in dts]"
   ]
  },
  {
   "cell_type": "code",
   "execution_count": 109,
   "metadata": {
    "slideshow": {
     "slide_type": "fragment"
    }
   },
   "outputs": [
    {
     "data": {
      "text/plain": [
       "<matplotlib.axes._subplots.AxesSubplot at 0x7f37f9233198>"
      ]
     },
     "execution_count": 109,
     "metadata": {},
     "output_type": "execute_result"
    },
    {
     "data": {
      "text/plain": [
       "[Text(0, 0.5, 'accuracy'),\n",
       " Text(0.5, 0, 'ccp_alpha'),\n",
       " Text(0.5, 1.0, 'ccp_alpha v.s. accuracy')]"
      ]
     },
     "execution_count": 109,
     "metadata": {},
     "output_type": "execute_result"
    },
    {
     "data": {
      "image/png": "[encoded data removed]",
      "text/plain": [
       "<Figure size 864x432 with 1 Axes>"
      ]
     },
     "metadata": {
      "needs_background": "light"
     },
     "output_type": "display_data"
    }
   ],
   "source": [
    "alphaTestDf = pd.DataFrame({'a':alphas[:-1],'train':trainScoreLst,'test':testScoreLst})\n",
    "ax = alphaTestDf.plot(x='a',y='train',kind='line',figsize=(12,6),marker='o')\n",
    "alphaTestDf.plot(x='a',y='test',kind='line',marker='d',ax=ax)\n",
    "ax.set(title='ccp_alpha v.s. accuracy',xlabel='ccp_alpha',ylabel='accuracy')"
   ]
  },
  {
   "cell_type": "markdown",
   "metadata": {
    "slideshow": {
     "slide_type": "fragment"
    }
   },
   "source": [
    "[绘图数据点可选标记 https://matplotlib.org/3.2.1/api/markers_api.html](https://matplotlib.org/3.2.1/api/markers_api.html)"
   ]
  },
  {
   "cell_type": "markdown",
   "metadata": {
    "slideshow": {
     "slide_type": "fragment"
    }
   },
   "source": [
    "##### 选取最佳的`ccp_alpha`"
   ]
  },
  {
   "cell_type": "code",
   "execution_count": 110,
   "metadata": {
    "scrolled": true,
    "slideshow": {
     "slide_type": "fragment"
    }
   },
   "outputs": [
    {
     "data": {
      "text/html": [
       "<div>\n",
       "<style scoped>\n",
       "    .dataframe tbody tr th:only-of-type {\n",
       "        vertical-align: middle;\n",
       "    }\n",
       "\n",
       "    .dataframe tbody tr th {\n",
       "        vertical-align: top;\n",
       "    }\n",
       "\n",
       "    .dataframe thead th {\n",
       "        text-align: right;\n",
       "    }\n",
       "</style>\n",
       "<table border=\"1\" class=\"dataframe\">\n",
       "  <thead>\n",
       "    <tr style=\"text-align: right;\">\n",
       "      <th></th>\n",
       "      <th>a</th>\n",
       "      <th>train</th>\n",
       "      <th>test</th>\n",
       "    </tr>\n",
       "  </thead>\n",
       "  <tbody>\n",
       "    <tr>\n",
       "      <th>46</th>\n",
       "      <td>0.005138</td>\n",
       "      <td>0.816479</td>\n",
       "      <td>0.814607</td>\n",
       "    </tr>\n",
       "    <tr>\n",
       "      <th>47</th>\n",
       "      <td>0.005839</td>\n",
       "      <td>0.816479</td>\n",
       "      <td>0.814607</td>\n",
       "    </tr>\n",
       "  </tbody>\n",
       "</table>\n",
       "</div>"
      ],
      "text/plain": [
       "           a     train      test\n",
       "46  0.005138  0.816479  0.814607\n",
       "47  0.005839  0.816479  0.814607"
      ]
     },
     "execution_count": 110,
     "metadata": {},
     "output_type": "execute_result"
    }
   ],
   "source": [
    "alphaTestDf.loc[(alphaTestDf['train']>=0.8)& (alphaTestDf['test']==alphaTestDf['test'].max()),:]"
   ]
  },
  {
   "cell_type": "markdown",
   "metadata": {
    "slideshow": {
     "slide_type": "slide"
    }
   },
   "source": [
    "##### 可视化决策树"
   ]
  },
  {
   "cell_type": "code",
   "execution_count": 113,
   "metadata": {
    "slideshow": {
     "slide_type": "fragment"
    }
   },
   "outputs": [
    {
     "name": "stdout",
     "output_type": "stream",
     "text": [
      "|--- Sex_female <= 0.50\n",
      "|   |--- Age <= 3.50\n",
      "|   |   |--- SibSp <= 2.50\n",
      "|   |   |   |--- class: 1\n",
      "|   |   |--- SibSp >  2.50\n",
      "|   |   |   |--- class: 0\n",
      "|   |--- Age >  3.50\n",
      "|   |   |--- Pclass <= 1.50\n",
      "|   |   |   |--- Age <= 53.00\n",
      "|   |   |   |   |--- class: 0\n",
      "|   |   |   |--- Age >  53.00\n",
      "|   |   |   |   |--- class: 0\n",
      "|   |   |--- Pclass >  1.50\n",
      "|   |   |   |--- class: 0\n",
      "|--- Sex_female >  0.50\n",
      "|   |--- Pclass <= 2.50\n",
      "|   |   |--- class: 1\n",
      "|   |--- Pclass >  2.50\n",
      "|   |   |--- Fare <= 7.74\n",
      "|   |   |   |--- class: 1\n",
      "|   |   |--- Fare >  7.74\n",
      "|   |   |   |--- class: 0\n",
      "\n"
     ]
    }
   ],
   "source": [
    "print(tree.export_text(dts[46],feature_names=list(titTrainX.columns)))"
   ]
  },
  {
   "cell_type": "code",
   "execution_count": 114,
   "metadata": {
    "slideshow": {
     "slide_type": "fragment"
    }
   },
   "outputs": [
    {
     "data": {
      "image/svg+xml": [
       "<?xml version=\"1.0\" encoding=\"UTF-8\" standalone=\"no\"?>\n",
       "<!DOCTYPE svg PUBLIC \"-//W3C//DTD SVG 1.1//EN\"\n",
       " \"http://www.w3.org/Graphics/SVG/1.1/DTD/svg11.dtd\">\n",
       "<!-- Generated by graphviz version 2.38.0 (20140413.2041)\n",
       " -->\n",
       "<!-- Title: Tree Pages: 1 -->\n",
       "<svg width=\"716pt\" height=\"552pt\"\n",
       " viewBox=\"0.00 0.00 715.50 552.00\" xmlns=\"http://www.w3.org/2000/svg\" xmlns:xlink=\"http://www.w3.org/1999/xlink\">\n",
       "<g id=\"graph0\" class=\"graph\" transform=\"scale(1 1) rotate(0) translate(4 548)\">\n",
       "<title>Tree</title>\n",
       "<polygon fill=\"white\" stroke=\"none\" points=\"-4,4 -4,-548 711.5,-548 711.5,4 -4,4\"/>\n",
       "<!-- 0 -->\n",
       "<g id=\"node1\" class=\"node\"><title>0</title>\n",
       "<polygon fill=\"#f8ddc9\" stroke=\"black\" points=\"414,-544 292,-544 292,-461 414,-461 414,-544\"/>\n",
       "<text text-anchor=\"middle\" x=\"353\" y=\"-528.8\" font-family=\"Times,serif\" font-size=\"14.00\">Sex_female &lt;= 0.5</text>\n",
       "<text text-anchor=\"middle\" x=\"353\" y=\"-513.8\" font-family=\"Times,serif\" font-size=\"14.00\">gini = 0.488</text>\n",
       "<text text-anchor=\"middle\" x=\"353\" y=\"-498.8\" font-family=\"Times,serif\" font-size=\"14.00\">samples = 534</text>\n",
       "<text text-anchor=\"middle\" x=\"353\" y=\"-483.8\" font-family=\"Times,serif\" font-size=\"14.00\">value = [309, 225]</text>\n",
       "<text text-anchor=\"middle\" x=\"353\" y=\"-468.8\" font-family=\"Times,serif\" font-size=\"14.00\">class = 未生还</text>\n",
       "</g>\n",
       "<!-- 1 -->\n",
       "<g id=\"node2\" class=\"node\"><title>1</title>\n",
       "<polygon fill=\"#eca470\" stroke=\"black\" points=\"344,-425 232,-425 232,-342 344,-342 344,-425\"/>\n",
       "<text text-anchor=\"middle\" x=\"288\" y=\"-409.8\" font-family=\"Times,serif\" font-size=\"14.00\">Age &lt;= 3.5</text>\n",
       "<text text-anchor=\"middle\" x=\"288\" y=\"-394.8\" font-family=\"Times,serif\" font-size=\"14.00\">gini = 0.34</text>\n",
       "<text text-anchor=\"middle\" x=\"288\" y=\"-379.8\" font-family=\"Times,serif\" font-size=\"14.00\">samples = 336</text>\n",
       "<text text-anchor=\"middle\" x=\"288\" y=\"-364.8\" font-family=\"Times,serif\" font-size=\"14.00\">value = [263, 73]</text>\n",
       "<text text-anchor=\"middle\" x=\"288\" y=\"-349.8\" font-family=\"Times,serif\" font-size=\"14.00\">class = 未生还</text>\n",
       "</g>\n",
       "<!-- 0&#45;&gt;1 -->\n",
       "<g id=\"edge1\" class=\"edge\"><title>0&#45;&gt;1</title>\n",
       "<path fill=\"none\" stroke=\"black\" d=\"M330.449,-460.907C325.609,-452.195 320.443,-442.897 315.441,-433.893\"/>\n",
       "<polygon fill=\"black\" stroke=\"black\" points=\"318.428,-432.063 310.512,-425.021 312.308,-435.462 318.428,-432.063\"/>\n",
       "<text text-anchor=\"middle\" x=\"303.644\" y=\"-445.359\" font-family=\"Times,serif\" font-size=\"14.00\">True</text>\n",
       "</g>\n",
       "<!-- 10 -->\n",
       "<g id=\"node11\" class=\"node\"><title>10</title>\n",
       "<polygon fill=\"#75bbed\" stroke=\"black\" points=\"474,-425 362,-425 362,-342 474,-342 474,-425\"/>\n",
       "<text text-anchor=\"middle\" x=\"418\" y=\"-409.8\" font-family=\"Times,serif\" font-size=\"14.00\">Pclass &lt;= 2.5</text>\n",
       "<text text-anchor=\"middle\" x=\"418\" y=\"-394.8\" font-family=\"Times,serif\" font-size=\"14.00\">gini = 0.357</text>\n",
       "<text text-anchor=\"middle\" x=\"418\" y=\"-379.8\" font-family=\"Times,serif\" font-size=\"14.00\">samples = 198</text>\n",
       "<text text-anchor=\"middle\" x=\"418\" y=\"-364.8\" font-family=\"Times,serif\" font-size=\"14.00\">value = [46, 152]</text>\n",
       "<text text-anchor=\"middle\" x=\"418\" y=\"-349.8\" font-family=\"Times,serif\" font-size=\"14.00\">class = 生还</text>\n",
       "</g>\n",
       "<!-- 0&#45;&gt;10 -->\n",
       "<g id=\"edge10\" class=\"edge\"><title>0&#45;&gt;10</title>\n",
       "<path fill=\"none\" stroke=\"black\" d=\"M375.551,-460.907C380.391,-452.195 385.557,-442.897 390.559,-433.893\"/>\n",
       "<polygon fill=\"black\" stroke=\"black\" points=\"393.692,-435.462 395.488,-425.021 387.572,-432.063 393.692,-435.462\"/>\n",
       "<text text-anchor=\"middle\" x=\"402.356\" y=\"-445.359\" font-family=\"Times,serif\" font-size=\"14.00\">False</text>\n",
       "</g>\n",
       "<!-- 2 -->\n",
       "<g id=\"node3\" class=\"node\"><title>2</title>\n",
       "<polygon fill=\"#6fb8ec\" stroke=\"black\" points=\"215,-306 117,-306 117,-223 215,-223 215,-306\"/>\n",
       "<text text-anchor=\"middle\" x=\"166\" y=\"-290.8\" font-family=\"Times,serif\" font-size=\"14.00\">SibSp &lt;= 2.5</text>\n",
       "<text text-anchor=\"middle\" x=\"166\" y=\"-275.8\" font-family=\"Times,serif\" font-size=\"14.00\">gini = 0.337</text>\n",
       "<text text-anchor=\"middle\" x=\"166\" y=\"-260.8\" font-family=\"Times,serif\" font-size=\"14.00\">samples = 14</text>\n",
       "<text text-anchor=\"middle\" x=\"166\" y=\"-245.8\" font-family=\"Times,serif\" font-size=\"14.00\">value = [3, 11]</text>\n",
       "<text text-anchor=\"middle\" x=\"166\" y=\"-230.8\" font-family=\"Times,serif\" font-size=\"14.00\">class = 生还</text>\n",
       "</g>\n",
       "<!-- 1&#45;&gt;2 -->\n",
       "<g id=\"edge2\" class=\"edge\"><title>1&#45;&gt;2</title>\n",
       "<path fill=\"none\" stroke=\"black\" d=\"M245.673,-341.907C236.021,-332.651 225.678,-322.732 215.748,-313.209\"/>\n",
       "<polygon fill=\"black\" stroke=\"black\" points=\"217.892,-310.416 208.252,-306.021 213.047,-315.469 217.892,-310.416\"/>\n",
       "</g>\n",
       "<!-- 5 -->\n",
       "<g id=\"node6\" class=\"node\"><title>5</title>\n",
       "<polygon fill=\"#eb9f68\" stroke=\"black\" points=\"345,-306 233,-306 233,-223 345,-223 345,-306\"/>\n",
       "<text text-anchor=\"middle\" x=\"289\" y=\"-290.8\" font-family=\"Times,serif\" font-size=\"14.00\">Pclass &lt;= 1.5</text>\n",
       "<text text-anchor=\"middle\" x=\"289\" y=\"-275.8\" font-family=\"Times,serif\" font-size=\"14.00\">gini = 0.311</text>\n",
       "<text text-anchor=\"middle\" x=\"289\" y=\"-260.8\" font-family=\"Times,serif\" font-size=\"14.00\">samples = 322</text>\n",
       "<text text-anchor=\"middle\" x=\"289\" y=\"-245.8\" font-family=\"Times,serif\" font-size=\"14.00\">value = [260, 62]</text>\n",
       "<text text-anchor=\"middle\" x=\"289\" y=\"-230.8\" font-family=\"Times,serif\" font-size=\"14.00\">class = 未生还</text>\n",
       "</g>\n",
       "<!-- 1&#45;&gt;5 -->\n",
       "<g id=\"edge5\" class=\"edge\"><title>1&#45;&gt;5</title>\n",
       "<path fill=\"none\" stroke=\"black\" d=\"M288.347,-341.907C288.418,-333.649 288.493,-324.864 288.566,-316.302\"/>\n",
       "<polygon fill=\"black\" stroke=\"black\" points=\"292.068,-316.05 288.654,-306.021 285.068,-315.99 292.068,-316.05\"/>\n",
       "</g>\n",
       "<!-- 3 -->\n",
       "<g id=\"node4\" class=\"node\"><title>3</title>\n",
       "<polygon fill=\"#399de5\" stroke=\"black\" points=\"98,-179.5 7.10543e-15,-179.5 7.10543e-15,-111.5 98,-111.5 98,-179.5\"/>\n",
       "<text text-anchor=\"middle\" x=\"49\" y=\"-164.3\" font-family=\"Times,serif\" font-size=\"14.00\">gini = 0.0</text>\n",
       "<text text-anchor=\"middle\" x=\"49\" y=\"-149.3\" font-family=\"Times,serif\" font-size=\"14.00\">samples = 10</text>\n",
       "<text text-anchor=\"middle\" x=\"49\" y=\"-134.3\" font-family=\"Times,serif\" font-size=\"14.00\">value = [0, 10]</text>\n",
       "<text text-anchor=\"middle\" x=\"49\" y=\"-119.3\" font-family=\"Times,serif\" font-size=\"14.00\">class = 生还</text>\n",
       "</g>\n",
       "<!-- 2&#45;&gt;3 -->\n",
       "<g id=\"edge3\" class=\"edge\"><title>2&#45;&gt;3</title>\n",
       "<path fill=\"none\" stroke=\"black\" d=\"M125.407,-222.907C113.711,-211.211 100.957,-198.457 89.2797,-186.78\"/>\n",
       "<polygon fill=\"black\" stroke=\"black\" points=\"91.7129,-184.263 82.1669,-179.667 86.7632,-189.213 91.7129,-184.263\"/>\n",
       "</g>\n",
       "<!-- 4 -->\n",
       "<g id=\"node5\" class=\"node\"><title>4</title>\n",
       "<polygon fill=\"#eeab7b\" stroke=\"black\" points=\"217.5,-179.5 116.5,-179.5 116.5,-111.5 217.5,-111.5 217.5,-179.5\"/>\n",
       "<text text-anchor=\"middle\" x=\"167\" y=\"-164.3\" font-family=\"Times,serif\" font-size=\"14.00\">gini = 0.375</text>\n",
       "<text text-anchor=\"middle\" x=\"167\" y=\"-149.3\" font-family=\"Times,serif\" font-size=\"14.00\">samples = 4</text>\n",
       "<text text-anchor=\"middle\" x=\"167\" y=\"-134.3\" font-family=\"Times,serif\" font-size=\"14.00\">value = [3, 1]</text>\n",
       "<text text-anchor=\"middle\" x=\"167\" y=\"-119.3\" font-family=\"Times,serif\" font-size=\"14.00\">class = 未生还</text>\n",
       "</g>\n",
       "<!-- 2&#45;&gt;4 -->\n",
       "<g id=\"edge4\" class=\"edge\"><title>2&#45;&gt;4</title>\n",
       "<path fill=\"none\" stroke=\"black\" d=\"M166.347,-222.907C166.438,-212.204 166.537,-200.615 166.63,-189.776\"/>\n",
       "<polygon fill=\"black\" stroke=\"black\" points=\"170.131,-189.697 166.717,-179.667 163.131,-189.637 170.131,-189.697\"/>\n",
       "</g>\n",
       "<!-- 6 -->\n",
       "<g id=\"node7\" class=\"node\"><title>6</title>\n",
       "<polygon fill=\"#f8ddca\" stroke=\"black\" points=\"341.5,-187 236.5,-187 236.5,-104 341.5,-104 341.5,-187\"/>\n",
       "<text text-anchor=\"middle\" x=\"289\" y=\"-171.8\" font-family=\"Times,serif\" font-size=\"14.00\">Age &lt;= 53.0</text>\n",
       "<text text-anchor=\"middle\" x=\"289\" y=\"-156.8\" font-family=\"Times,serif\" font-size=\"14.00\">gini = 0.488</text>\n",
       "<text text-anchor=\"middle\" x=\"289\" y=\"-141.8\" font-family=\"Times,serif\" font-size=\"14.00\">samples = 78</text>\n",
       "<text text-anchor=\"middle\" x=\"289\" y=\"-126.8\" font-family=\"Times,serif\" font-size=\"14.00\">value = [45, 33]</text>\n",
       "<text text-anchor=\"middle\" x=\"289\" y=\"-111.8\" font-family=\"Times,serif\" font-size=\"14.00\">class = 未生还</text>\n",
       "</g>\n",
       "<!-- 5&#45;&gt;6 -->\n",
       "<g id=\"edge6\" class=\"edge\"><title>5&#45;&gt;6</title>\n",
       "<path fill=\"none\" stroke=\"black\" d=\"M289,-222.907C289,-214.649 289,-205.864 289,-197.302\"/>\n",
       "<polygon fill=\"black\" stroke=\"black\" points=\"292.5,-197.021 289,-187.021 285.5,-197.021 292.5,-197.021\"/>\n",
       "</g>\n",
       "<!-- 9 -->\n",
       "<g id=\"node10\" class=\"node\"><title>9</title>\n",
       "<polygon fill=\"#e99254\" stroke=\"black\" points=\"472,-179.5 360,-179.5 360,-111.5 472,-111.5 472,-179.5\"/>\n",
       "<text text-anchor=\"middle\" x=\"416\" y=\"-164.3\" font-family=\"Times,serif\" font-size=\"14.00\">gini = 0.209</text>\n",
       "<text text-anchor=\"middle\" x=\"416\" y=\"-149.3\" font-family=\"Times,serif\" font-size=\"14.00\">samples = 244</text>\n",
       "<text text-anchor=\"middle\" x=\"416\" y=\"-134.3\" font-family=\"Times,serif\" font-size=\"14.00\">value = [215, 29]</text>\n",
       "<text text-anchor=\"middle\" x=\"416\" y=\"-119.3\" font-family=\"Times,serif\" font-size=\"14.00\">class = 未生还</text>\n",
       "</g>\n",
       "<!-- 5&#45;&gt;9 -->\n",
       "<g id=\"edge9\" class=\"edge\"><title>5&#45;&gt;9</title>\n",
       "<path fill=\"none\" stroke=\"black\" d=\"M333.062,-222.907C345.878,-211.101 359.863,-198.217 372.636,-186.45\"/>\n",
       "<polygon fill=\"black\" stroke=\"black\" points=\"375.015,-189.017 379.998,-179.667 370.272,-183.868 375.015,-189.017\"/>\n",
       "</g>\n",
       "<!-- 7 -->\n",
       "<g id=\"node8\" class=\"node\"><title>7</title>\n",
       "<polygon fill=\"#fefbf9\" stroke=\"black\" points=\"280.5,-68 175.5,-68 175.5,-0 280.5,-0 280.5,-68\"/>\n",
       "<text text-anchor=\"middle\" x=\"228\" y=\"-52.8\" font-family=\"Times,serif\" font-size=\"14.00\">gini = 0.5</text>\n",
       "<text text-anchor=\"middle\" x=\"228\" y=\"-37.8\" font-family=\"Times,serif\" font-size=\"14.00\">samples = 63</text>\n",
       "<text text-anchor=\"middle\" x=\"228\" y=\"-22.8\" font-family=\"Times,serif\" font-size=\"14.00\">value = [32, 31]</text>\n",
       "<text text-anchor=\"middle\" x=\"228\" y=\"-7.8\" font-family=\"Times,serif\" font-size=\"14.00\">class = 未生还</text>\n",
       "</g>\n",
       "<!-- 6&#45;&gt;7 -->\n",
       "<g id=\"edge7\" class=\"edge\"><title>6&#45;&gt;7</title>\n",
       "<path fill=\"none\" stroke=\"black\" d=\"M266.286,-103.726C261.459,-95.0615 256.353,-85.8962 251.498,-77.1802\"/>\n",
       "<polygon fill=\"black\" stroke=\"black\" points=\"254.475,-75.3322 246.55,-68.2996 248.36,-78.7389 254.475,-75.3322\"/>\n",
       "</g>\n",
       "<!-- 8 -->\n",
       "<g id=\"node9\" class=\"node\"><title>8</title>\n",
       "<polygon fill=\"#e99457\" stroke=\"black\" points=\"399.5,-68 298.5,-68 298.5,-0 399.5,-0 399.5,-68\"/>\n",
       "<text text-anchor=\"middle\" x=\"349\" y=\"-52.8\" font-family=\"Times,serif\" font-size=\"14.00\">gini = 0.231</text>\n",
       "<text text-anchor=\"middle\" x=\"349\" y=\"-37.8\" font-family=\"Times,serif\" font-size=\"14.00\">samples = 15</text>\n",
       "<text text-anchor=\"middle\" x=\"349\" y=\"-22.8\" font-family=\"Times,serif\" font-size=\"14.00\">value = [13, 2]</text>\n",
       "<text text-anchor=\"middle\" x=\"349\" y=\"-7.8\" font-family=\"Times,serif\" font-size=\"14.00\">class = 未生还</text>\n",
       "</g>\n",
       "<!-- 6&#45;&gt;8 -->\n",
       "<g id=\"edge8\" class=\"edge\"><title>6&#45;&gt;8</title>\n",
       "<path fill=\"none\" stroke=\"black\" d=\"M311.342,-103.726C316.09,-95.0615 321.112,-85.8962 325.888,-77.1802\"/>\n",
       "<polygon fill=\"black\" stroke=\"black\" points=\"329.018,-78.7513 330.754,-68.2996 322.879,-75.3875 329.018,-78.7513\"/>\n",
       "</g>\n",
       "<!-- 11 -->\n",
       "<g id=\"node12\" class=\"node\"><title>11</title>\n",
       "<polygon fill=\"#45a3e7\" stroke=\"black\" points=\"469.5,-298.5 364.5,-298.5 364.5,-230.5 469.5,-230.5 469.5,-298.5\"/>\n",
       "<text text-anchor=\"middle\" x=\"417\" y=\"-283.3\" font-family=\"Times,serif\" font-size=\"14.00\">gini = 0.105</text>\n",
       "<text text-anchor=\"middle\" x=\"417\" y=\"-268.3\" font-family=\"Times,serif\" font-size=\"14.00\">samples = 126</text>\n",
       "<text text-anchor=\"middle\" x=\"417\" y=\"-253.3\" font-family=\"Times,serif\" font-size=\"14.00\">value = [7, 119]</text>\n",
       "<text text-anchor=\"middle\" x=\"417\" y=\"-238.3\" font-family=\"Times,serif\" font-size=\"14.00\">class = 生还</text>\n",
       "</g>\n",
       "<!-- 10&#45;&gt;11 -->\n",
       "<g id=\"edge11\" class=\"edge\"><title>10&#45;&gt;11</title>\n",
       "<path fill=\"none\" stroke=\"black\" d=\"M417.653,-341.907C417.562,-331.204 417.463,-319.615 417.37,-308.776\"/>\n",
       "<polygon fill=\"black\" stroke=\"black\" points=\"420.869,-308.637 417.283,-298.667 413.869,-308.697 420.869,-308.637\"/>\n",
       "</g>\n",
       "<!-- 12 -->\n",
       "<g id=\"node13\" class=\"node\"><title>12</title>\n",
       "<polygon fill=\"#fbece1\" stroke=\"black\" points=\"592.5,-306 487.5,-306 487.5,-223 592.5,-223 592.5,-306\"/>\n",
       "<text text-anchor=\"middle\" x=\"540\" y=\"-290.8\" font-family=\"Times,serif\" font-size=\"14.00\">Fare &lt;= 7.742</text>\n",
       "<text text-anchor=\"middle\" x=\"540\" y=\"-275.8\" font-family=\"Times,serif\" font-size=\"14.00\">gini = 0.497</text>\n",
       "<text text-anchor=\"middle\" x=\"540\" y=\"-260.8\" font-family=\"Times,serif\" font-size=\"14.00\">samples = 72</text>\n",
       "<text text-anchor=\"middle\" x=\"540\" y=\"-245.8\" font-family=\"Times,serif\" font-size=\"14.00\">value = [39, 33]</text>\n",
       "<text text-anchor=\"middle\" x=\"540\" y=\"-230.8\" font-family=\"Times,serif\" font-size=\"14.00\">class = 未生还</text>\n",
       "</g>\n",
       "<!-- 10&#45;&gt;12 -->\n",
       "<g id=\"edge12\" class=\"edge\"><title>10&#45;&gt;12</title>\n",
       "<path fill=\"none\" stroke=\"black\" d=\"M460.327,-341.907C469.979,-332.651 480.322,-322.732 490.252,-313.209\"/>\n",
       "<polygon fill=\"black\" stroke=\"black\" points=\"492.953,-315.469 497.748,-306.021 488.108,-310.416 492.953,-315.469\"/>\n",
       "</g>\n",
       "<!-- 13 -->\n",
       "<g id=\"node14\" class=\"node\"><title>13</title>\n",
       "<polygon fill=\"#399de5\" stroke=\"black\" points=\"584,-179.5 492,-179.5 492,-111.5 584,-111.5 584,-179.5\"/>\n",
       "<text text-anchor=\"middle\" x=\"538\" y=\"-164.3\" font-family=\"Times,serif\" font-size=\"14.00\">gini = 0.0</text>\n",
       "<text text-anchor=\"middle\" x=\"538\" y=\"-149.3\" font-family=\"Times,serif\" font-size=\"14.00\">samples = 5</text>\n",
       "<text text-anchor=\"middle\" x=\"538\" y=\"-134.3\" font-family=\"Times,serif\" font-size=\"14.00\">value = [0, 5]</text>\n",
       "<text text-anchor=\"middle\" x=\"538\" y=\"-119.3\" font-family=\"Times,serif\" font-size=\"14.00\">class = 生还</text>\n",
       "</g>\n",
       "<!-- 12&#45;&gt;13 -->\n",
       "<g id=\"edge13\" class=\"edge\"><title>12&#45;&gt;13</title>\n",
       "<path fill=\"none\" stroke=\"black\" d=\"M539.306,-222.907C539.123,-212.204 538.925,-200.615 538.74,-189.776\"/>\n",
       "<polygon fill=\"black\" stroke=\"black\" points=\"542.237,-189.606 538.567,-179.667 535.238,-189.725 542.237,-189.606\"/>\n",
       "</g>\n",
       "<!-- 14 -->\n",
       "<g id=\"node15\" class=\"node\"><title>14</title>\n",
       "<polygon fill=\"#f8dbc7\" stroke=\"black\" points=\"707.5,-179.5 602.5,-179.5 602.5,-111.5 707.5,-111.5 707.5,-179.5\"/>\n",
       "<text text-anchor=\"middle\" x=\"655\" y=\"-164.3\" font-family=\"Times,serif\" font-size=\"14.00\">gini = 0.487</text>\n",
       "<text text-anchor=\"middle\" x=\"655\" y=\"-149.3\" font-family=\"Times,serif\" font-size=\"14.00\">samples = 67</text>\n",
       "<text text-anchor=\"middle\" x=\"655\" y=\"-134.3\" font-family=\"Times,serif\" font-size=\"14.00\">value = [39, 28]</text>\n",
       "<text text-anchor=\"middle\" x=\"655\" y=\"-119.3\" font-family=\"Times,serif\" font-size=\"14.00\">class = 未生还</text>\n",
       "</g>\n",
       "<!-- 12&#45;&gt;14 -->\n",
       "<g id=\"edge14\" class=\"edge\"><title>12&#45;&gt;14</title>\n",
       "<path fill=\"none\" stroke=\"black\" d=\"M579.899,-222.907C591.287,-211.321 603.694,-198.698 615.084,-187.111\"/>\n",
       "<polygon fill=\"black\" stroke=\"black\" points=\"617.886,-189.252 622.4,-179.667 612.894,-184.345 617.886,-189.252\"/>\n",
       "</g>\n",
       "</g>\n",
       "</svg>\n"
      ],
      "text/plain": [
       "<graphviz.files.Source at 0x7f37f85445c0>"
      ]
     },
     "execution_count": 114,
     "metadata": {},
     "output_type": "execute_result"
    }
   ],
   "source": [
    "dtDot = tree.export_graphviz(dts[46],feature_names=list(titTrainX.columns),class_names=['未生还','生还'],filled=True)\n",
    "dtGraph = graphviz.Source(dtDot)\n",
    "dtGraph"
   ]
  }
 ],
 "metadata": {
  "celltoolbar": "幻灯片",
  "hide_input": false,
  "kernelspec": {
   "display_name": "Python 3",
   "language": "python",
   "name": "python3"
  },
  "language_info": {
   "codemirror_mode": {
    "name": "ipython",
    "version": 3
   },
   "file_extension": ".py",
   "mimetype": "text/x-python",
   "name": "python",
   "nbconvert_exporter": "python",
   "pygments_lexer": "ipython3",
   "version": "3.6.8"
  },
  "toc": {
   "base_numbering": 1,
   "nav_menu": {},
   "number_sections": true,
   "sideBar": true,
   "skip_h1_title": false,
   "title_cell": "Table of Contents",
   "title_sidebar": "Contents",
   "toc_cell": false,
   "toc_position": {
    "height": "calc(100% - 180px)",
    "left": "10px",
    "top": "150px",
    "width": "245px"
   },
   "toc_section_display": true,
   "toc_window_display": false
  },
  "varInspector": {
   "cols": {
    "lenName": 16,
    "lenType": 16,
    "lenVar": 40
   },
   "kernels_config": {
    "python": {
     "delete_cmd_postfix": "",
     "delete_cmd_prefix": "del ",
     "library": "var_list.py",
     "varRefreshCmd": "print(var_dic_list())"
    },
    "r": {
     "delete_cmd_postfix": ") ",
     "delete_cmd_prefix": "rm(",
     "library": "var_list.r",
     "varRefreshCmd": "cat(var_dic_list()) "
    }
   },
   "types_to_exclude": [
    "module",
    "function",
    "builtin_function_or_method",
    "instance",
    "_Feature"
   ],
   "window_display": false
  }
 },
 "nbformat": 4,
 "nbformat_minor": 2
}
