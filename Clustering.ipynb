{
 "cells": [
  {
   "cell_type": "code",
   "execution_count": 42,
   "metadata": {
    "init_cell": true,
    "slideshow": {
     "slide_type": "skip"
    }
   },
   "outputs": [],
   "source": [
    "import pandas as pd\n",
    "import numpy as np\n",
    "import matplotlib.pyplot as plt\n",
    "from IPython.display import display\n",
    "from IPython.core.interactiveshell import InteractiveShell\n",
    "InteractiveShell.ast_node_interactivity = \"all\"\n",
    "plt.rcParams['font.sans-serif']=['Microsoft Yahei']\n",
    "plt.style.use(\"seaborn-talk\")"
   ]
  },
  {
   "cell_type": "markdown",
   "metadata": {
    "cell_style": "center",
    "slideshow": {
     "slide_type": "slide"
    }
   },
   "source": [
    "<div class=\"jumbotron\">\n",
    "    <h1 class=\"display-1\">聚类技术</h1>\n",
    "    <hr class=\"my-4\">\n",
    "    <p>主讲：李岩</p>\n",
    "    <p>管理学院</p>\n",
    "    <p>liyan@cumtb.edu.cn</p>\n",
    "</div>"
   ]
  },
  {
   "cell_type": "markdown",
   "metadata": {
    "slideshow": {
     "slide_type": "slide"
    }
   },
   "source": [
    "<p class=\"h3\">客户关系管理的目标是什么？</p>"
   ]
  },
  {
   "cell_type": "markdown",
   "metadata": {
    "slideshow": {
     "slide_type": "fragment"
    }
   },
   "source": [
    "- 有的放矢，生成可控的目标客户群"
   ]
  },
  {
   "cell_type": "markdown",
   "metadata": {
    "slideshow": {
     "slide_type": "fragment"
    }
   },
   "source": [
    "- 量体裁衣，制定有针对性的营销计划"
   ]
  },
  {
   "cell_type": "markdown",
   "metadata": {
    "slideshow": {
     "slide_type": "fragment"
    }
   },
   "source": [
    "- 识别战略焦点与业务发展方向"
   ]
  },
  {
   "cell_type": "markdown",
   "metadata": {
    "slideshow": {
     "slide_type": "fragment"
    }
   },
   "source": [
    "> 核心是将客户进行**分群**管理"
   ]
  },
  {
   "cell_type": "markdown",
   "metadata": {
    "slideshow": {
     "slide_type": "subslide"
    }
   },
   "source": [
    "- 例：电信客户营销"
   ]
  },
  {
   "cell_type": "markdown",
   "metadata": {
    "slideshow": {
     "slide_type": "fragment"
    }
   },
   "source": [
    "群组|群组特征|营销策略\n",
    "---|---|---\n",
    "1|深夜通话<br>多发短信<br>多与预付费客户通话<br>避免忙时通话|夜间通话套餐，短信礼包，转为预付费，激励通话量\n",
    "2|多发短信<br>多与预付费用户通话<br>避免忙时通话|闲时通话套餐,短信礼包，激励通话量\n",
    "3|高通话量<br>多与网外用户通话<br>有国际长途|激励国际长途电话，高端资费方案\n",
    "4|交往圈固定<br>多与后付费用户通话|高价值客户礼包，业务引荐奖励\n",
    "5|高通话量<br>多与网外用户通话|激励话音用量\n",
    "6|固网通话多<br>高通话量<br>喜欢早晨通话|移动-固网通话套餐，晨间通话套餐\n",
    "7|多发短信<br>忙时通话多|短信激励，忙时通话套餐\n",
    "8|高通话量<br>喜欢深夜通话<br>闲时通话多|夜间通话套餐，闲时通话套餐\n"
   ]
  },
  {
   "cell_type": "markdown",
   "metadata": {
    "slideshow": {
     "slide_type": "fragment"
    }
   },
   "source": [
    "- 分组的目标：拥有相似特征的客户位于同一组内，而具有不同特征的客户分配在不同组"
   ]
  },
  {
   "cell_type": "markdown",
   "metadata": {
    "slideshow": {
     "slide_type": "fragment"
    }
   },
   "source": [
    "> 需要**聚类分析（clustering analysis）**技术"
   ]
  },
  {
   "cell_type": "markdown",
   "metadata": {
    "slideshow": {
     "slide_type": "slide"
    }
   },
   "source": [
    "- 聚类分析的应用\n",
    "    + 客户关系管理\n",
    "    + 项目管理种实现对项目的分组管理\n",
    "    + 网页搜索将返回的结果分成不同的类别\n",
    "    + 医学中用于识别疾病之间的关联\n",
    "    + 图像识别中用于识别不同的手写体\n",
    "    + 识别异常点（outlier detection）"
   ]
  },
  {
   "cell_type": "markdown",
   "metadata": {
    "slideshow": {
     "slide_type": "slide"
    }
   },
   "source": [
    "## 基本概念"
   ]
  },
  {
   "cell_type": "markdown",
   "metadata": {
    "slideshow": {
     "slide_type": "fragment"
    }
   },
   "source": [
    "### 聚类分析定义"
   ]
  },
  {
   "cell_type": "markdown",
   "metadata": {
    "slideshow": {
     "slide_type": "fragment"
    }
   },
   "source": [
    "<dl class=\"row alert-info\">\n",
    "    <dt class=\"col-md-2\">聚类</dt>\n",
    "    <dd class=\"col-md-10\">是一种将特征相似的样本聚集到一起，从而达到区分具有不同特征的样本的目的无监督的算法</dd>\n",
    "</dl>"
   ]
  },
  {
   "cell_type": "markdown",
   "metadata": {
    "slideshow": {
     "slide_type": "fragment"
    }
   },
   "source": [
    "- 不需要事先知道类别信息"
   ]
  },
  {
   "cell_type": "markdown",
   "metadata": {
    "slideshow": {
     "slide_type": "fragment"
    }
   },
   "source": [
    "- 聚类形成的每一个组，被称为**簇（cluster）**"
   ]
  },
  {
   "cell_type": "markdown",
   "metadata": {
    "slideshow": {
     "slide_type": "fragment"
    }
   },
   "source": [
    "- 聚类的目标：簇内的样本之间尽可能相似，不同簇的样本尽可能不同"
   ]
  },
  {
   "cell_type": "markdown",
   "metadata": {
    "slideshow": {
     "slide_type": "fragment"
    }
   },
   "source": [
    "<img src=\"./img/clustering/clustering.png\" width=50%>"
   ]
  },
  {
   "cell_type": "markdown",
   "metadata": {
    "slideshow": {
     "slide_type": "slide"
    }
   },
   "source": [
    "### 聚类类型"
   ]
  },
  {
   "cell_type": "markdown",
   "metadata": {
    "cell_style": "center",
    "slideshow": {
     "slide_type": "fragment"
    }
   },
   "source": [
    "##### 划分聚类（paritional clustering）"
   ]
  },
  {
   "cell_type": "markdown",
   "metadata": {
    "cell_style": "split",
    "slideshow": {
     "slide_type": "fragment"
    }
   },
   "source": [
    "- 将数据对象集划分成**不重叠**的子集（簇），使得每个数据对象**恰**在一个簇中"
   ]
  },
  {
   "cell_type": "markdown",
   "metadata": {
    "cell_style": "split",
    "slideshow": {
     "slide_type": "fragment"
    }
   },
   "source": [
    "<img src=\"./img/clustering/partition.png\" width=70%>"
   ]
  },
  {
   "cell_type": "markdown",
   "metadata": {
    "cell_style": "center",
    "slideshow": {
     "slide_type": "slide"
    }
   },
   "source": [
    "##### 层次聚类（hierarchical clustering）"
   ]
  },
  {
   "cell_type": "markdown",
   "metadata": {
    "cell_style": "split",
    "slideshow": {
     "slide_type": "fragment"
    }
   },
   "source": [
    "- 嵌套簇的集族，形成一个树形结构"
   ]
  },
  {
   "cell_type": "markdown",
   "metadata": {
    "cell_style": "split",
    "slideshow": {
     "slide_type": "fragment"
    }
   },
   "source": [
    "<img src=\"./img/clustering/hierarchical.png\" width=70%>"
   ]
  },
  {
   "cell_type": "markdown",
   "metadata": {
    "slideshow": {
     "slide_type": "fragment"
    }
   },
   "source": [
    "- 树的每个节点（簇）都是子簇的**并**，而树根是包含所有对象的簇"
   ]
  },
  {
   "cell_type": "markdown",
   "metadata": {
    "slideshow": {
     "slide_type": "slide"
    }
   },
   "source": [
    "### 聚类分析方法"
   ]
  },
  {
   "cell_type": "markdown",
   "metadata": {
    "slideshow": {
     "slide_type": "fragment"
    }
   },
   "source": [
    "- $K$均值（$K$-means）\n",
    "    + 基于划分的聚类，发现指定个数（$K$）的簇\n",
    "    + 样本之间的相似性通过**距离**反映\n",
    "    + 簇之间彼此**互斥**，即每个样本**只能**分属于一个簇"
   ]
  },
  {
   "cell_type": "markdown",
   "metadata": {
    "slideshow": {
     "slide_type": "fragment"
    }
   },
   "source": [
    "- 层次聚类（hierarchical clustering）：对数据进行层次化（hierarchical）分解\n",
    "    + 凝聚的层次聚类（agglomerative hierarchical clustering）：“自底向上”的方式，从每个样本开始逐步向上合并\n",
    "    + 分裂的层次聚类（divisive hierarchical clustering）：“自顶向下”的方式，从所有样本属于一个初始簇开始，不断划分子簇"
   ]
  },
  {
   "cell_type": "markdown",
   "metadata": {
    "slideshow": {
     "slide_type": "fragment"
    }
   },
   "source": [
    "- 基于密度的方法（density-based methods）\n",
    "    + 不同于$K$均值方法通过**距离**划分簇，通过**密度**划分簇\n",
    "    + 只要某一个簇周边的数据点（样本点）密度超过阈值，就一直增加该簇"
   ]
  },
  {
   "cell_type": "markdown",
   "metadata": {
    "slideshow": {
     "slide_type": "slide"
    }
   },
   "source": [
    "## K均值"
   ]
  },
  {
   "cell_type": "markdown",
   "metadata": {
    "slideshow": {
     "slide_type": "fragment"
    }
   },
   "source": [
    "- 基本思想：利用样本之间的距离衡量样本之间的相似性，用一组样本的质心（该组样本的均值）作为簇的中心，找到紧凑且独立的簇"
   ]
  },
  {
   "cell_type": "markdown",
   "metadata": {
    "slideshow": {
     "slide_type": "slide"
    }
   },
   "source": [
    "### 基本算法"
   ]
  },
  {
   "cell_type": "markdown",
   "metadata": {
    "slideshow": {
     "slide_type": "fragment"
    }
   },
   "source": [
    "<center><img src='./img/clustering/kmago.svg' width=40%></center>"
   ]
  },
  {
   "cell_type": "markdown",
   "metadata": {
    "slideshow": {
     "slide_type": "slide"
    }
   },
   "source": [
    "##### $K$均值聚类过程示例\n",
    "\n",
    "<center><img src=\"./img/clustering/kmeansProcess.gif\" width=60%></center>"
   ]
  },
  {
   "cell_type": "markdown",
   "metadata": {
    "slideshow": {
     "slide_type": "slide"
    }
   },
   "source": [
    "#### 距离的度量"
   ]
  },
  {
   "cell_type": "markdown",
   "metadata": {
    "slideshow": {
     "slide_type": "fragment"
    }
   },
   "source": [
    "- 欧式空间：欧几里得距离，$n$维空间中两个点$\\boldsymbol{x}$和$\\boldsymbol{y}$之间的欧几里得距离是:\n",
    "$$\n",
    "d(\\boldsymbol{x}, \\boldsymbol{y}) = \\sqrt{\\sum_{k=1}^n(x_k-y_k)^2}\n",
    "$$"
   ]
  },
  {
   "cell_type": "markdown",
   "metadata": {
    "slideshow": {
     "slide_type": "subslide"
    }
   },
   "source": [
    "#### 目标函数"
   ]
  },
  {
   "cell_type": "markdown",
   "metadata": {
    "slideshow": {
     "slide_type": "fragment"
    }
   },
   "source": [
    "> 通过设定**目标函数**，重新计算每个簇的质心"
   ]
  },
  {
   "cell_type": "markdown",
   "metadata": {
    "slideshow": {
     "slide_type": "fragment"
    }
   },
   "source": [
    "- 目标函数为每个点到最近质心的欧几里得距离的**误差平方和**（sum of the squared error, SSE）最小"
   ]
  },
  {
   "cell_type": "markdown",
   "metadata": {
    "slideshow": {
     "slide_type": "fragment"
    }
   },
   "source": [
    "$$\n",
    "\\begin{split}\n",
    "SSE &= \\sum_{i=1}^K\\sum_{\\boldsymbol{x}\\in C_i}d(\\boldsymbol{c}_i, \\boldsymbol{x})^2\\\\\n",
    "\\boldsymbol{c}_i&=\\frac{1}{m_i}\\sum_{\\boldsymbol{x}\\in C_i}\\boldsymbol{x}\n",
    "\\end{split}\n",
    "$$\n",
    "其中，$\\boldsymbol{x}$是数据点，$C_i$是第$i$个簇，$c_i$是第$i$个簇的质心，$m_i$是第$i$个簇包含的数据点的个数，$K$是簇的个数"
   ]
  },
  {
   "cell_type": "markdown",
   "metadata": {
    "slideshow": {
     "slide_type": "fragment"
    }
   },
   "source": [
    "- 簇内的误差平方和（SSE）也被称作cluster inertia"
   ]
  },
  {
   "cell_type": "markdown",
   "metadata": {
    "slideshow": {
     "slide_type": "slide"
    }
   },
   "source": [
    "#### 初始质心"
   ]
  },
  {
   "cell_type": "markdown",
   "metadata": {
    "slideshow": {
     "slide_type": "fragment"
    }
   },
   "source": [
    "- 随机选择$K$个样本作为初始质心"
   ]
  },
  {
   "cell_type": "markdown",
   "metadata": {
    "slideshow": {
     "slide_type": "fragment"
    }
   },
   "source": [
    "- 初始质心的选择对聚类结果有显著影响"
   ]
  },
  {
   "cell_type": "markdown",
   "metadata": {
    "slideshow": {
     "slide_type": "fragment"
    }
   },
   "source": [
    "<p class=\"h3\">恰当的初始质心</p>\n",
    "<center><img src=\"./img/clustering/kmeansProcess.gif\" width=60%></center>"
   ]
  },
  {
   "cell_type": "markdown",
   "metadata": {
    "slideshow": {
     "slide_type": "slide"
    }
   },
   "source": [
    "<p class=\"h3\">错误的初始质心</p>\n",
    "<center><img src=\"./img/clustering/kmeansInitialCentroid.gif\" width=60%></center>"
   ]
  },
  {
   "cell_type": "markdown",
   "metadata": {
    "slideshow": {
     "slide_type": "slide"
    }
   },
   "source": [
    "##### 改进初始质心的选择"
   ]
  },
  {
   "cell_type": "markdown",
   "metadata": {
    "slideshow": {
     "slide_type": "fragment"
    }
   },
   "source": [
    "<p class=\"h3\">$K$-means++方法初始化质心</p>"
   ]
  },
  {
   "cell_type": "markdown",
   "metadata": {
    "slideshow": {
     "slide_type": "fragment"
    }
   },
   "source": [
    "- 顺次选择$k$个初始质心"
   ]
  },
  {
   "cell_type": "markdown",
   "metadata": {
    "slideshow": {
     "slide_type": "fragment"
    }
   },
   "source": [
    "- 主要思路\n",
    "    + 随机选择一个数据点（样本）作为第一个质心\n",
    "    + 之后每个数据点选作质心的概率与该数据点距离最近的质心(已经选择的质心)的距离平方成正比 "
   ]
  },
  {
   "cell_type": "markdown",
   "metadata": {
    "slideshow": {
     "slide_type": "fragment"
    }
   },
   "source": [
    "- 优势\n",
    "    + 既保证了初始质心选择的随机性，同时又保证初始的质心分散较开"
   ]
  },
  {
   "cell_type": "markdown",
   "metadata": {
    "slideshow": {
     "slide_type": "subslide"
    }
   },
   "source": [
    "#### 离群点"
   ]
  },
  {
   "cell_type": "markdown",
   "metadata": {
    "slideshow": {
     "slide_type": "fragment"
    }
   },
   "source": [
    "> $K$均值聚类对离群点非常敏感"
   ]
  },
  {
   "cell_type": "markdown",
   "metadata": {
    "slideshow": {
     "slide_type": "subslide"
    }
   },
   "source": [
    "<p class=\"h3\">例如，给定一组数据$\\{1,2,3,8,9,10,25\\}$，很容易观察到$\\{1,2,3\\}$属于一组，$\\{8,9,10\\}$属于一组，而25是离群点</p>"
   ]
  },
  {
   "cell_type": "markdown",
   "metadata": {
    "slideshow": {
     "slide_type": "fragment"
    }
   },
   "source": [
    "<p class=\"h3\">应用$K$均值方法，假设$K=2$，</p>"
   ]
  },
  {
   "cell_type": "markdown",
   "metadata": {
    "slideshow": {
     "slide_type": "fragment"
    }
   },
   "source": [
    "- 如果划分成$\\{1,2,3\\}$和$\\{8,9,10,25\\}$两组，质心分别为2和13，则SSE（误差平方和）为\n",
    "\n",
    "$$\n",
    "    (1-2)^2+(2-2)^2+(3-2)^2+(8-13)^2+(9-13)^2+(10-13)^2+(25-13)^2=196\n",
    "$$"
   ]
  },
  {
   "cell_type": "markdown",
   "metadata": {
    "slideshow": {
     "slide_type": "fragment"
    }
   },
   "source": [
    "- 如果划分成$\\{1,2,3,8\\}$和$\\{9,10,25\\}$两组，质心分别为3.5和14.67，则SSE（误差平方和）为\n",
    "\n",
    "$$\n",
    "    (1-3.5)^2+(2-3.5)^2+(3-3.5)^2+(8-3.5)^2+(9-14.67)^2+(10-14.67)^2+(25-14.67)^2=189.67\n",
    "$$"
   ]
  },
  {
   "cell_type": "markdown",
   "metadata": {
    "slideshow": {
     "slide_type": "fragment"
    }
   },
   "source": [
    "- 由于第二种划分的SSE**小于**第一种划分，所以$K$均值方法会选择第二种结果"
   ]
  },
  {
   "cell_type": "markdown",
   "metadata": {
    "slideshow": {
     "slide_type": "slide"
    }
   },
   "source": [
    "##### 如何消除离群点的影响"
   ]
  },
  {
   "cell_type": "markdown",
   "metadata": {
    "slideshow": {
     "slide_type": "fragment"
    }
   },
   "source": [
    "- 聚类之前剔除离群点"
   ]
  },
  {
   "cell_type": "markdown",
   "metadata": {
    "slideshow": {
     "slide_type": "fragment"
    }
   },
   "source": [
    "- 聚类过程中剔除离群点\n",
    "    + 根据每个点对SSE的影响\n",
    "    + 删除很小的簇，因为往往这些簇都是由离群点构成"
   ]
  },
  {
   "cell_type": "markdown",
   "metadata": {
    "slideshow": {
     "slide_type": "slide"
    }
   },
   "source": [
    "### $K$均值的问题与改进"
   ]
  },
  {
   "cell_type": "markdown",
   "metadata": {
    "slideshow": {
     "slide_type": "fragment"
    }
   },
   "source": [
    "#### $K$均值的不足"
   ]
  },
  {
   "cell_type": "markdown",
   "metadata": {
    "slideshow": {
     "slide_type": "fragment"
    }
   },
   "source": [
    "- 当簇具有**不同大小**、**不同密度**、**非球形状**时，$K$均值方法很难检测到“自然的”簇"
   ]
  },
  {
   "cell_type": "markdown",
   "metadata": {
    "slideshow": {
     "slide_type": "fragment"
    }
   },
   "source": [
    "##### 不同大小"
   ]
  },
  {
   "cell_type": "markdown",
   "metadata": {
    "slideshow": {
     "slide_type": "fragment"
    }
   },
   "source": [
    "<img src=\"./img/clustering/size.png\" width=80%>"
   ]
  },
  {
   "cell_type": "markdown",
   "metadata": {
    "slideshow": {
     "slide_type": "slide"
    }
   },
   "source": [
    "##### 不同的密度"
   ]
  },
  {
   "cell_type": "markdown",
   "metadata": {
    "slideshow": {
     "slide_type": "fragment"
    }
   },
   "source": [
    "<img src=\"./img/clustering/density.png\" width=80%>"
   ]
  },
  {
   "cell_type": "markdown",
   "metadata": {
    "slideshow": {
     "slide_type": "slide"
    }
   },
   "source": [
    "##### 非球形状"
   ]
  },
  {
   "cell_type": "markdown",
   "metadata": {
    "slideshow": {
     "slide_type": "fragment"
    }
   },
   "source": [
    "<img src=\"./img/clustering/shape.png\" width=80%>"
   ]
  },
  {
   "cell_type": "markdown",
   "metadata": {
    "slideshow": {
     "slide_type": "subslide"
    }
   },
   "source": [
    "#### 改进方法"
   ]
  },
  {
   "cell_type": "markdown",
   "metadata": {
    "slideshow": {
     "slide_type": "fragment"
    }
   },
   "source": [
    "> 初始用更多的簇，然后再将其合并"
   ]
  },
  {
   "cell_type": "markdown",
   "metadata": {
    "slideshow": {
     "slide_type": "fragment"
    }
   },
   "source": [
    "##### 不同大小"
   ]
  },
  {
   "cell_type": "markdown",
   "metadata": {
    "slideshow": {
     "slide_type": "fragment"
    }
   },
   "source": [
    "<img src=\"./img/clustering/sizesmall.png\" width=80%>"
   ]
  },
  {
   "cell_type": "markdown",
   "metadata": {
    "slideshow": {
     "slide_type": "slide"
    }
   },
   "source": [
    "##### 不同密度"
   ]
  },
  {
   "cell_type": "markdown",
   "metadata": {
    "slideshow": {
     "slide_type": "fragment"
    }
   },
   "source": [
    "<img src=\"./img/clustering/densitysmall.png\" width=80%>"
   ]
  },
  {
   "cell_type": "markdown",
   "metadata": {
    "slideshow": {
     "slide_type": "slide"
    }
   },
   "source": [
    "##### 非球形状"
   ]
  },
  {
   "cell_type": "markdown",
   "metadata": {
    "slideshow": {
     "slide_type": "fragment"
    }
   },
   "source": [
    "<img src=\"./img/clustering/shapesmall.png\" width=80%>"
   ]
  },
  {
   "cell_type": "markdown",
   "metadata": {
    "slideshow": {
     "slide_type": "slide"
    }
   },
   "source": [
    "### $K$均值的`Python`实现"
   ]
  },
  {
   "cell_type": "markdown",
   "metadata": {
    "slideshow": {
     "slide_type": "fragment"
    }
   },
   "source": [
    "```python\n",
    "from sklearn.cluster import KMeans\n",
    "KMeans(n_clusters=8, init=’k-means++’, max_iter=300, random_state=None, n_jobs=None)\n",
    "```\n",
    "- `n_clusters`：`int`类型，簇的个数\n",
    "- `init`：初始质心的方法，可以选择`k-means++`或`random`\n",
    "- `max_iter`：最大迭代次数\n",
    "- `random_state`：初始质心的随机生成种子\n",
    "- `n_jobs`：用多少个CPU运行"
   ]
  },
  {
   "cell_type": "markdown",
   "metadata": {
    "slideshow": {
     "slide_type": "slide"
    }
   },
   "source": [
    "#### 建立$K$均值聚类模型"
   ]
  },
  {
   "cell_type": "markdown",
   "metadata": {
    "slideshow": {
     "slide_type": "fragment"
    }
   },
   "source": [
    "##### 读取`iris`数据"
   ]
  },
  {
   "cell_type": "code",
   "execution_count": 3,
   "metadata": {
    "scrolled": false,
    "slideshow": {
     "slide_type": "fragment"
    }
   },
   "outputs": [
    {
     "data": {
      "text/html": [
       "<div>\n",
       "<style scoped>\n",
       "    .dataframe tbody tr th:only-of-type {\n",
       "        vertical-align: middle;\n",
       "    }\n",
       "\n",
       "    .dataframe tbody tr th {\n",
       "        vertical-align: top;\n",
       "    }\n",
       "\n",
       "    .dataframe thead th {\n",
       "        text-align: right;\n",
       "    }\n",
       "</style>\n",
       "<table border=\"1\" class=\"dataframe\">\n",
       "  <thead>\n",
       "    <tr style=\"text-align: right;\">\n",
       "      <th></th>\n",
       "      <th>sepal_length</th>\n",
       "      <th>sepal_width</th>\n",
       "      <th>petal_length</th>\n",
       "      <th>petal_width</th>\n",
       "      <th>species</th>\n",
       "    </tr>\n",
       "  </thead>\n",
       "  <tbody>\n",
       "    <tr>\n",
       "      <th>0</th>\n",
       "      <td>5.1</td>\n",
       "      <td>3.5</td>\n",
       "      <td>1.4</td>\n",
       "      <td>0.2</td>\n",
       "      <td>setosa</td>\n",
       "    </tr>\n",
       "    <tr>\n",
       "      <th>1</th>\n",
       "      <td>4.9</td>\n",
       "      <td>3.0</td>\n",
       "      <td>1.4</td>\n",
       "      <td>0.2</td>\n",
       "      <td>setosa</td>\n",
       "    </tr>\n",
       "    <tr>\n",
       "      <th>2</th>\n",
       "      <td>4.7</td>\n",
       "      <td>3.2</td>\n",
       "      <td>1.3</td>\n",
       "      <td>0.2</td>\n",
       "      <td>setosa</td>\n",
       "    </tr>\n",
       "    <tr>\n",
       "      <th>3</th>\n",
       "      <td>4.6</td>\n",
       "      <td>3.1</td>\n",
       "      <td>1.5</td>\n",
       "      <td>0.2</td>\n",
       "      <td>setosa</td>\n",
       "    </tr>\n",
       "    <tr>\n",
       "      <th>4</th>\n",
       "      <td>5.0</td>\n",
       "      <td>3.6</td>\n",
       "      <td>1.4</td>\n",
       "      <td>0.2</td>\n",
       "      <td>setosa</td>\n",
       "    </tr>\n",
       "  </tbody>\n",
       "</table>\n",
       "</div>"
      ],
      "text/plain": [
       "   sepal_length  sepal_width  petal_length  petal_width species\n",
       "0           5.1          3.5           1.4          0.2  setosa\n",
       "1           4.9          3.0           1.4          0.2  setosa\n",
       "2           4.7          3.2           1.3          0.2  setosa\n",
       "3           4.6          3.1           1.5          0.2  setosa\n",
       "4           5.0          3.6           1.4          0.2  setosa"
      ]
     },
     "execution_count": 3,
     "metadata": {},
     "output_type": "execute_result"
    },
    {
     "data": {
      "text/plain": [
       "(150, 5)"
      ]
     },
     "execution_count": 3,
     "metadata": {},
     "output_type": "execute_result"
    }
   ],
   "source": [
    "irisdf = pd.read_csv('./data/visualization/iris.csv',header=0)\n",
    "irisdf.head()\n",
    "irisdf.shape"
   ]
  },
  {
   "cell_type": "markdown",
   "metadata": {
    "slideshow": {
     "slide_type": "slide"
    }
   },
   "source": [
    "##### 绘制属性箱型图，检查属性取值范围"
   ]
  },
  {
   "cell_type": "code",
   "execution_count": 4,
   "metadata": {
    "scrolled": true,
    "slideshow": {
     "slide_type": "fragment"
    }
   },
   "outputs": [
    {
     "data": {
      "text/plain": [
       "<matplotlib.axes._subplots.AxesSubplot at 0x7f616cdde5f8>"
      ]
     },
     "execution_count": 4,
     "metadata": {},
     "output_type": "execute_result"
    },
    {
     "data": {
      "image/png": "[encoded data removed]",
      "text/plain": [
       "<Figure size 864x432 with 1 Axes>"
      ]
     },
     "metadata": {
      "needs_background": "light"
     },
     "output_type": "display_data"
    }
   ],
   "source": [
    "irisdf.plot(y=['sepal_length','sepal_width','petal_length','petal_width'],kind='box',figsize=(12,6))"
   ]
  },
  {
   "cell_type": "markdown",
   "metadata": {
    "slideshow": {
     "slide_type": "fragment"
    }
   },
   "source": [
    "- 各个属性取值基本可比，不需要进行标准化处理"
   ]
  },
  {
   "cell_type": "markdown",
   "metadata": {
    "slideshow": {
     "slide_type": "slide"
    }
   },
   "source": [
    "##### 建立聚类模型"
   ]
  },
  {
   "cell_type": "code",
   "execution_count": 5,
   "metadata": {
    "slideshow": {
     "slide_type": "fragment"
    }
   },
   "outputs": [],
   "source": [
    "from sklearn.cluster import KMeans"
   ]
  },
  {
   "cell_type": "code",
   "execution_count": 6,
   "metadata": {
    "scrolled": true,
    "slideshow": {
     "slide_type": "fragment"
    }
   },
   "outputs": [
    {
     "data": {
      "text/plain": [
       "KMeans(algorithm='auto', copy_x=True, init='k-means++', max_iter=300,\n",
       "       n_clusters=3, n_init=10, n_jobs=-1, precompute_distances='auto',\n",
       "       random_state=0, tol=0.0001, verbose=0)"
      ]
     },
     "execution_count": 6,
     "metadata": {},
     "output_type": "execute_result"
    }
   ],
   "source": [
    "irisKmeans = KMeans(n_clusters=3,random_state=0,n_jobs=-1)\n",
    "irisKmeans"
   ]
  },
  {
   "cell_type": "markdown",
   "metadata": {
    "slideshow": {
     "slide_type": "slide"
    }
   },
   "source": [
    "#### 训练$K$均值聚类模型"
   ]
  },
  {
   "cell_type": "markdown",
   "metadata": {
    "slideshow": {
     "slide_type": "fragment"
    }
   },
   "source": [
    "```python\n",
    "kmeans.fit(X)\n",
    "```\n",
    "- `X`：需要聚类的数据集"
   ]
  },
  {
   "cell_type": "code",
   "execution_count": 7,
   "metadata": {
    "slideshow": {
     "slide_type": "fragment"
    }
   },
   "outputs": [
    {
     "data": {
      "text/html": [
       "<div>\n",
       "<style scoped>\n",
       "    .dataframe tbody tr th:only-of-type {\n",
       "        vertical-align: middle;\n",
       "    }\n",
       "\n",
       "    .dataframe tbody tr th {\n",
       "        vertical-align: top;\n",
       "    }\n",
       "\n",
       "    .dataframe thead th {\n",
       "        text-align: right;\n",
       "    }\n",
       "</style>\n",
       "<table border=\"1\" class=\"dataframe\">\n",
       "  <thead>\n",
       "    <tr style=\"text-align: right;\">\n",
       "      <th></th>\n",
       "      <th>sepal_length</th>\n",
       "      <th>sepal_width</th>\n",
       "      <th>petal_length</th>\n",
       "      <th>petal_width</th>\n",
       "    </tr>\n",
       "  </thead>\n",
       "  <tbody>\n",
       "    <tr>\n",
       "      <th>0</th>\n",
       "      <td>5.1</td>\n",
       "      <td>3.5</td>\n",
       "      <td>1.4</td>\n",
       "      <td>0.2</td>\n",
       "    </tr>\n",
       "    <tr>\n",
       "      <th>1</th>\n",
       "      <td>4.9</td>\n",
       "      <td>3.0</td>\n",
       "      <td>1.4</td>\n",
       "      <td>0.2</td>\n",
       "    </tr>\n",
       "    <tr>\n",
       "      <th>2</th>\n",
       "      <td>4.7</td>\n",
       "      <td>3.2</td>\n",
       "      <td>1.3</td>\n",
       "      <td>0.2</td>\n",
       "    </tr>\n",
       "    <tr>\n",
       "      <th>3</th>\n",
       "      <td>4.6</td>\n",
       "      <td>3.1</td>\n",
       "      <td>1.5</td>\n",
       "      <td>0.2</td>\n",
       "    </tr>\n",
       "    <tr>\n",
       "      <th>4</th>\n",
       "      <td>5.0</td>\n",
       "      <td>3.6</td>\n",
       "      <td>1.4</td>\n",
       "      <td>0.2</td>\n",
       "    </tr>\n",
       "  </tbody>\n",
       "</table>\n",
       "</div>"
      ],
      "text/plain": [
       "   sepal_length  sepal_width  petal_length  petal_width\n",
       "0           5.1          3.5           1.4          0.2\n",
       "1           4.9          3.0           1.4          0.2\n",
       "2           4.7          3.2           1.3          0.2\n",
       "3           4.6          3.1           1.5          0.2\n",
       "4           5.0          3.6           1.4          0.2"
      ]
     },
     "execution_count": 7,
     "metadata": {},
     "output_type": "execute_result"
    }
   ],
   "source": [
    "irisX = irisdf.iloc[:,:-1]\n",
    "irisX.head()"
   ]
  },
  {
   "cell_type": "code",
   "execution_count": 8,
   "metadata": {
    "slideshow": {
     "slide_type": "fragment"
    }
   },
   "outputs": [
    {
     "data": {
      "text/plain": [
       "KMeans(algorithm='auto', copy_x=True, init='k-means++', max_iter=300,\n",
       "       n_clusters=3, n_init=10, n_jobs=-1, precompute_distances='auto',\n",
       "       random_state=0, tol=0.0001, verbose=0)"
      ]
     },
     "execution_count": 8,
     "metadata": {},
     "output_type": "execute_result"
    }
   ],
   "source": [
    "irisKmeans.fit(irisX)"
   ]
  },
  {
   "cell_type": "markdown",
   "metadata": {
    "slideshow": {
     "slide_type": "fragment"
    }
   },
   "source": [
    "##### 训练好的聚类模型的属性"
   ]
  },
  {
   "cell_type": "markdown",
   "metadata": {
    "slideshow": {
     "slide_type": "fragment"
    }
   },
   "source": [
    "- `labels_`：每个数据点（样本）的标签，即所属的簇"
   ]
  },
  {
   "cell_type": "code",
   "execution_count": 9,
   "metadata": {
    "slideshow": {
     "slide_type": "fragment"
    }
   },
   "outputs": [
    {
     "data": {
      "text/plain": [
       "array([1, 1, 1, 1, 1, 1, 1, 1, 1, 1, 1, 1, 1, 1, 1, 1, 1, 1, 1, 1, 1, 1,\n",
       "       1, 1, 1, 1, 1, 1, 1, 1, 1, 1, 1, 1, 1, 1, 1, 1, 1, 1, 1, 1, 1, 1,\n",
       "       1, 1, 1, 1, 1, 1, 2, 2, 0, 2, 2, 2, 2, 2, 2, 2, 2, 2, 2, 2, 2, 2,\n",
       "       2, 2, 2, 2, 2, 2, 2, 2, 2, 2, 2, 0, 2, 2, 2, 2, 2, 2, 2, 2, 2, 2,\n",
       "       2, 2, 2, 2, 2, 2, 2, 2, 2, 2, 2, 2, 0, 2, 0, 0, 0, 0, 2, 0, 0, 0,\n",
       "       0, 0, 0, 2, 2, 0, 0, 0, 0, 2, 0, 2, 0, 2, 0, 0, 2, 2, 0, 0, 0, 0,\n",
       "       0, 2, 0, 0, 0, 0, 2, 0, 0, 0, 2, 0, 0, 0, 2, 0, 0, 2], dtype=int32)"
      ]
     },
     "execution_count": 9,
     "metadata": {},
     "output_type": "execute_result"
    }
   ],
   "source": [
    "irisKmeans.labels_"
   ]
  },
  {
   "cell_type": "markdown",
   "metadata": {
    "slideshow": {
     "slide_type": "fragment"
    }
   },
   "source": [
    "- `inertia_`：簇内误差平方和"
   ]
  },
  {
   "cell_type": "code",
   "execution_count": 10,
   "metadata": {
    "slideshow": {
     "slide_type": "fragment"
    }
   },
   "outputs": [
    {
     "data": {
      "text/plain": [
       "78.94084142614602"
      ]
     },
     "execution_count": 10,
     "metadata": {},
     "output_type": "execute_result"
    }
   ],
   "source": [
    "irisKmeans.inertia_"
   ]
  },
  {
   "cell_type": "markdown",
   "metadata": {
    "slideshow": {
     "slide_type": "slide"
    }
   },
   "source": [
    "#### 预测样本所属的距离最近的簇"
   ]
  },
  {
   "cell_type": "markdown",
   "metadata": {
    "slideshow": {
     "slide_type": "fragment"
    }
   },
   "source": [
    "```python\n",
    "kmean.predict(X)\n",
    "```\n",
    "- 返回值：每个样本属于的簇的标签，是一个数组结构，形状为`[n_samples]`"
   ]
  },
  {
   "cell_type": "code",
   "execution_count": 11,
   "metadata": {
    "slideshow": {
     "slide_type": "fragment"
    }
   },
   "outputs": [
    {
     "data": {
      "text/plain": [
       "array([1, 1, 1, 1, 1, 1, 1, 1, 1, 1, 1, 1, 1, 1, 1, 1, 1, 1, 1, 1, 1, 1,\n",
       "       1, 1, 1, 1, 1, 1, 1, 1, 1, 1, 1, 1, 1, 1, 1, 1, 1, 1, 1, 1, 1, 1,\n",
       "       1, 1, 1, 1, 1, 1, 2, 2, 0, 2, 2, 2, 2, 2, 2, 2, 2, 2, 2, 2, 2, 2,\n",
       "       2, 2, 2, 2, 2, 2, 2, 2, 2, 2, 2, 0, 2, 2, 2, 2, 2, 2, 2, 2, 2, 2,\n",
       "       2, 2, 2, 2, 2, 2, 2, 2, 2, 2, 2, 2, 0, 2, 0, 0, 0, 0, 2, 0, 0, 0,\n",
       "       0, 0, 0, 2, 2, 0, 0, 0, 0, 2, 0, 2, 0, 2, 0, 0, 2, 2, 0, 0, 0, 0,\n",
       "       0, 2, 0, 0, 0, 0, 2, 0, 0, 0, 2, 0, 0, 0, 2, 0, 0, 2], dtype=int32)"
      ]
     },
     "execution_count": 11,
     "metadata": {},
     "output_type": "execute_result"
    }
   ],
   "source": [
    "irisLabel = irisKmeans.predict(irisX)\n",
    "irisLabel"
   ]
  },
  {
   "cell_type": "markdown",
   "metadata": {
    "slideshow": {
     "slide_type": "slide"
    }
   },
   "source": [
    "#### 选择$K$值"
   ]
  },
  {
   "cell_type": "markdown",
   "metadata": {
    "slideshow": {
     "slide_type": "fragment"
    }
   },
   "source": [
    "> 随着$K$值的增大，簇内误差平方和（SSE）会降低"
   ]
  },
  {
   "cell_type": "markdown",
   "metadata": {
    "slideshow": {
     "slide_type": "fragment"
    }
   },
   "source": [
    "<dl class=\"row alert-info\">\n",
    "    <dt class=\"col-xl-4\">肘部(elbow)法则<dt>\n",
    "    <dd class=\"col-xl-8\">识别SSE<strong>开始快速增大</strong>处的$K$值</dd>\n",
    "</dl>"
   ]
  },
  {
   "cell_type": "code",
   "execution_count": 12,
   "metadata": {
    "scrolled": true,
    "slideshow": {
     "slide_type": "fragment"
    }
   },
   "outputs": [
    {
     "data": {
      "text/plain": [
       "KMeans(algorithm='auto', copy_x=True, init='k-means++', max_iter=300,\n",
       "       n_clusters=1, n_init=10, n_jobs=-1, precompute_distances='auto',\n",
       "       random_state=0, tol=0.0001, verbose=0)"
      ]
     },
     "execution_count": 12,
     "metadata": {},
     "output_type": "execute_result"
    },
    {
     "data": {
      "text/plain": [
       "KMeans(algorithm='auto', copy_x=True, init='k-means++', max_iter=300,\n",
       "       n_clusters=2, n_init=10, n_jobs=-1, precompute_distances='auto',\n",
       "       random_state=0, tol=0.0001, verbose=0)"
      ]
     },
     "execution_count": 12,
     "metadata": {},
     "output_type": "execute_result"
    },
    {
     "data": {
      "text/plain": [
       "KMeans(algorithm='auto', copy_x=True, init='k-means++', max_iter=300,\n",
       "       n_clusters=3, n_init=10, n_jobs=-1, precompute_distances='auto',\n",
       "       random_state=0, tol=0.0001, verbose=0)"
      ]
     },
     "execution_count": 12,
     "metadata": {},
     "output_type": "execute_result"
    },
    {
     "data": {
      "text/plain": [
       "KMeans(algorithm='auto', copy_x=True, init='k-means++', max_iter=300,\n",
       "       n_clusters=4, n_init=10, n_jobs=-1, precompute_distances='auto',\n",
       "       random_state=0, tol=0.0001, verbose=0)"
      ]
     },
     "execution_count": 12,
     "metadata": {},
     "output_type": "execute_result"
    },
    {
     "data": {
      "text/plain": [
       "KMeans(algorithm='auto', copy_x=True, init='k-means++', max_iter=300,\n",
       "       n_clusters=5, n_init=10, n_jobs=-1, precompute_distances='auto',\n",
       "       random_state=0, tol=0.0001, verbose=0)"
      ]
     },
     "execution_count": 12,
     "metadata": {},
     "output_type": "execute_result"
    },
    {
     "data": {
      "text/plain": [
       "KMeans(algorithm='auto', copy_x=True, init='k-means++', max_iter=300,\n",
       "       n_clusters=6, n_init=10, n_jobs=-1, precompute_distances='auto',\n",
       "       random_state=0, tol=0.0001, verbose=0)"
      ]
     },
     "execution_count": 12,
     "metadata": {},
     "output_type": "execute_result"
    },
    {
     "data": {
      "text/plain": [
       "KMeans(algorithm='auto', copy_x=True, init='k-means++', max_iter=300,\n",
       "       n_clusters=7, n_init=10, n_jobs=-1, precompute_distances='auto',\n",
       "       random_state=0, tol=0.0001, verbose=0)"
      ]
     },
     "execution_count": 12,
     "metadata": {},
     "output_type": "execute_result"
    },
    {
     "data": {
      "text/plain": [
       "KMeans(algorithm='auto', copy_x=True, init='k-means++', max_iter=300,\n",
       "       n_clusters=8, n_init=10, n_jobs=-1, precompute_distances='auto',\n",
       "       random_state=0, tol=0.0001, verbose=0)"
      ]
     },
     "execution_count": 12,
     "metadata": {},
     "output_type": "execute_result"
    },
    {
     "data": {
      "text/plain": [
       "KMeans(algorithm='auto', copy_x=True, init='k-means++', max_iter=300,\n",
       "       n_clusters=9, n_init=10, n_jobs=-1, precompute_distances='auto',\n",
       "       random_state=0, tol=0.0001, verbose=0)"
      ]
     },
     "execution_count": 12,
     "metadata": {},
     "output_type": "execute_result"
    },
    {
     "data": {
      "text/plain": [
       "KMeans(algorithm='auto', copy_x=True, init='k-means++', max_iter=300,\n",
       "       n_clusters=10, n_init=10, n_jobs=-1, precompute_distances='auto',\n",
       "       random_state=0, tol=0.0001, verbose=0)"
      ]
     },
     "execution_count": 12,
     "metadata": {},
     "output_type": "execute_result"
    },
    {
     "data": {
      "text/plain": [
       "[[Text(0, 0, '1'),\n",
       "  Text(0, 0, '2'),\n",
       "  Text(0, 0, '3'),\n",
       "  Text(0, 0, '4'),\n",
       "  Text(0, 0, '5'),\n",
       "  Text(0, 0, '6'),\n",
       "  Text(0, 0, '7'),\n",
       "  Text(0, 0, '8'),\n",
       "  Text(0, 0, '9'),\n",
       "  Text(0, 0, '10')]]"
      ]
     },
     "execution_count": 12,
     "metadata": {},
     "output_type": "execute_result"
    },
    {
     "data": {
      "image/png": "[encoded data removed]",
      "text/plain": [
       "<Figure size 864x432 with 1 Axes>"
      ]
     },
     "metadata": {
      "needs_background": "light"
     },
     "output_type": "display_data"
    }
   ],
   "source": [
    "sse = []                ###记录每个k值对应的SSE\n",
    "for k in range(1,11):\n",
    "    km = KMeans(n_clusters=k,random_state=0,n_jobs=-1)\n",
    "    km.fit(irisX)\n",
    "    sse.append(km.inertia_)\n",
    "ax = pd.Series(sse).plot(kind='line',figsize=(12,6),marker='o',grid=True,xticks=range(0,10))   #xticks：在哪些位置显示x轴刻度标签\n",
    "ax.set(xticklabels=range(1,11))        # 改变x轴标签显示，默认是从0开始"
   ]
  },
  {
   "cell_type": "markdown",
   "metadata": {
    "slideshow": {
     "slide_type": "fragment"
    }
   },
   "source": [
    "- 当$K=3$的时候，SSE**开始快速增大**，所以选择3个簇"
   ]
  },
  {
   "cell_type": "markdown",
   "metadata": {
    "slideshow": {
     "slide_type": "slide"
    }
   },
   "source": [
    "## 凝聚层次聚类"
   ]
  },
  {
   "cell_type": "markdown",
   "metadata": {
    "slideshow": {
     "slide_type": "fragment"
    }
   },
   "source": [
    "<dl class=\"row alert-danger\">\n",
    "    <dt class=\"col-md-4\">树状图（dendrogram）</dt>\n",
    "    <dd class=\"col-md-8\">显示簇——子簇联系，以及簇合并或分裂的次序</dd>\n",
    "</dl>"
   ]
  },
  {
   "cell_type": "markdown",
   "metadata": {
    "slideshow": {
     "slide_type": "fragment"
    }
   },
   "source": [
    "<img src=\"./img/clustering/dendrogram.png\" width=80%>"
   ]
  },
  {
   "cell_type": "markdown",
   "metadata": {
    "slideshow": {
     "slide_type": "slide"
    }
   },
   "source": [
    "> 生成层次聚类的方法"
   ]
  },
  {
   "cell_type": "markdown",
   "metadata": {
    "slideshow": {
     "slide_type": "fragment"
    }
   },
   "source": [
    "- 凝聚的（agglomerative）\n",
    "    + 从每个数据点（样本）作为个体簇开始，每一步合并两个最接近的簇"
   ]
  },
  {
   "cell_type": "markdown",
   "metadata": {
    "slideshow": {
     "slide_type": "fragment"
    }
   },
   "source": [
    "- 分裂的（divisive）\n",
    "    + 从包含所有数据点（样本）的簇开始，每一步分裂一个簇，直到仅剩下单点簇"
   ]
  },
  {
   "cell_type": "markdown",
   "metadata": {
    "slideshow": {
     "slide_type": "slide"
    }
   },
   "source": [
    "### 基本算法"
   ]
  },
  {
   "cell_type": "markdown",
   "metadata": {
    "slideshow": {
     "slide_type": "fragment"
    }
   },
   "source": [
    "<center><img src=\"./img/clustering/agglomerativeCluster.svg\" width=30%></center>"
   ]
  },
  {
   "cell_type": "markdown",
   "metadata": {
    "slideshow": {
     "slide_type": "slide"
    }
   },
   "source": [
    "#### 近邻度矩阵 "
   ]
  },
  {
   "cell_type": "markdown",
   "metadata": {
    "slideshow": {
     "slide_type": "fragment"
    }
   },
   "source": [
    "<dl class=\"row alert-danger\">\n",
    "    <dt class=\"col-xl-4\">近邻度矩阵</dt>\n",
    "    <dd class=\"col-xl-8\">由两两簇之间的距离或相似度构成的矩阵</dd>\n",
    "</dl>"
   ]
  },
  {
   "cell_type": "markdown",
   "metadata": {
    "slideshow": {
     "slide_type": "fragment"
    }
   },
   "source": [
    "<p class=\"h3\">计算下列数据的近邻度矩阵，假设每个样本构成一个簇</p>"
   ]
  },
  {
   "cell_type": "code",
   "execution_count": 13,
   "metadata": {
    "scrolled": true,
    "slideshow": {
     "slide_type": "fragment"
    }
   },
   "outputs": [
    {
     "data": {
      "text/html": [
       "<div>\n",
       "<style scoped>\n",
       "    .dataframe tbody tr th:only-of-type {\n",
       "        vertical-align: middle;\n",
       "    }\n",
       "\n",
       "    .dataframe tbody tr th {\n",
       "        vertical-align: top;\n",
       "    }\n",
       "\n",
       "    .dataframe thead th {\n",
       "        text-align: right;\n",
       "    }\n",
       "</style>\n",
       "<table border=\"1\" class=\"dataframe\">\n",
       "  <thead>\n",
       "    <tr style=\"text-align: right;\">\n",
       "      <th></th>\n",
       "      <th>X</th>\n",
       "      <th>Y</th>\n",
       "      <th>Z</th>\n",
       "    </tr>\n",
       "  </thead>\n",
       "  <tbody>\n",
       "    <tr>\n",
       "      <th>ID_0</th>\n",
       "      <td>2.666063</td>\n",
       "      <td>0.121414</td>\n",
       "      <td>1.713072</td>\n",
       "    </tr>\n",
       "    <tr>\n",
       "      <th>ID_1</th>\n",
       "      <td>2.168293</td>\n",
       "      <td>8.716449</td>\n",
       "      <td>7.753482</td>\n",
       "    </tr>\n",
       "    <tr>\n",
       "      <th>ID_2</th>\n",
       "      <td>2.703733</td>\n",
       "      <td>5.951136</td>\n",
       "      <td>1.730927</td>\n",
       "    </tr>\n",
       "    <tr>\n",
       "      <th>ID_3</th>\n",
       "      <td>8.215822</td>\n",
       "      <td>1.638099</td>\n",
       "      <td>9.973807</td>\n",
       "    </tr>\n",
       "    <tr>\n",
       "      <th>ID_4</th>\n",
       "      <td>4.049742</td>\n",
       "      <td>4.556296</td>\n",
       "      <td>3.039389</td>\n",
       "    </tr>\n",
       "  </tbody>\n",
       "</table>\n",
       "</div>"
      ],
      "text/plain": [
       "             X         Y         Z\n",
       "ID_0  2.666063  0.121414  1.713072\n",
       "ID_1  2.168293  8.716449  7.753482\n",
       "ID_2  2.703733  5.951136  1.730927\n",
       "ID_3  8.215822  1.638099  9.973807\n",
       "ID_4  4.049742  4.556296  3.039389"
      ]
     },
     "execution_count": 13,
     "metadata": {},
     "output_type": "execute_result"
    }
   ],
   "source": [
    "labels = [f'ID_{i}' for i in range(5)]\n",
    "egDf = pd.DataFrame(np.random.random_sample([5,3])*10,columns=['X','Y','Z'],index=labels)\n",
    "egDf"
   ]
  },
  {
   "cell_type": "code",
   "execution_count": 14,
   "metadata": {
    "slideshow": {
     "slide_type": "fragment"
    }
   },
   "outputs": [],
   "source": [
    "from scipy.spatial.distance import pdist,squareform"
   ]
  },
  {
   "cell_type": "code",
   "execution_count": 15,
   "metadata": {
    "slideshow": {
     "slide_type": "fragment"
    }
   },
   "outputs": [
    {
     "data": {
      "text/html": [
       "<div>\n",
       "<style scoped>\n",
       "    .dataframe tbody tr th:only-of-type {\n",
       "        vertical-align: middle;\n",
       "    }\n",
       "\n",
       "    .dataframe tbody tr th {\n",
       "        vertical-align: top;\n",
       "    }\n",
       "\n",
       "    .dataframe thead th {\n",
       "        text-align: right;\n",
       "    }\n",
       "</style>\n",
       "<table border=\"1\" class=\"dataframe\">\n",
       "  <thead>\n",
       "    <tr style=\"text-align: right;\">\n",
       "      <th></th>\n",
       "      <th>ID_0</th>\n",
       "      <th>ID_1</th>\n",
       "      <th>ID_2</th>\n",
       "      <th>ID_3</th>\n",
       "      <th>ID_4</th>\n",
       "    </tr>\n",
       "  </thead>\n",
       "  <tbody>\n",
       "    <tr>\n",
       "      <th>ID_0</th>\n",
       "      <td>0.000000</td>\n",
       "      <td>10.517079</td>\n",
       "      <td>5.829871</td>\n",
       "      <td>10.066773</td>\n",
       "      <td>4.831341</td>\n",
       "    </tr>\n",
       "    <tr>\n",
       "      <th>ID_1</th>\n",
       "      <td>10.517079</td>\n",
       "      <td>0.000000</td>\n",
       "      <td>6.648671</td>\n",
       "      <td>9.571076</td>\n",
       "      <td>6.562728</td>\n",
       "    </tr>\n",
       "    <tr>\n",
       "      <th>ID_2</th>\n",
       "      <td>5.829871</td>\n",
       "      <td>6.648671</td>\n",
       "      <td>0.000000</td>\n",
       "      <td>10.813440</td>\n",
       "      <td>2.338673</td>\n",
       "    </tr>\n",
       "    <tr>\n",
       "      <th>ID_3</th>\n",
       "      <td>10.066773</td>\n",
       "      <td>9.571076</td>\n",
       "      <td>10.813440</td>\n",
       "      <td>0.000000</td>\n",
       "      <td>8.599898</td>\n",
       "    </tr>\n",
       "    <tr>\n",
       "      <th>ID_4</th>\n",
       "      <td>4.831341</td>\n",
       "      <td>6.562728</td>\n",
       "      <td>2.338673</td>\n",
       "      <td>8.599898</td>\n",
       "      <td>0.000000</td>\n",
       "    </tr>\n",
       "  </tbody>\n",
       "</table>\n",
       "</div>"
      ],
      "text/plain": [
       "           ID_0       ID_1       ID_2       ID_3      ID_4\n",
       "ID_0   0.000000  10.517079   5.829871  10.066773  4.831341\n",
       "ID_1  10.517079   0.000000   6.648671   9.571076  6.562728\n",
       "ID_2   5.829871   6.648671   0.000000  10.813440  2.338673\n",
       "ID_3  10.066773   9.571076  10.813440   0.000000  8.599898\n",
       "ID_4   4.831341   6.562728   2.338673   8.599898  0.000000"
      ]
     },
     "execution_count": 15,
     "metadata": {},
     "output_type": "execute_result"
    }
   ],
   "source": [
    "rowDist = pd.DataFrame(squareform(pdist(egDf,metric='euclidean')),columns=labels,index=labels)\n",
    "rowDist"
   ]
  },
  {
   "cell_type": "markdown",
   "metadata": {
    "slideshow": {
     "slide_type": "subslide"
    }
   },
   "source": [
    "```python\n",
    "from scipy.spatial.distance import pdist,squareform\n",
    "```\n",
    "- `pdist(X, metric='euclidean')`：计算数据点两两之间的近邻度\n",
    "- `squareform(X)`：将距离数组转换成矩阵形式"
   ]
  },
  {
   "cell_type": "markdown",
   "metadata": {
    "slideshow": {
     "slide_type": "fragment"
    }
   },
   "source": [
    "- 从近邻度矩阵中找到距离**最小**的两个簇，将其合并\n",
    "- 计算合并的新簇与其他簇之间的距离，更新近邻度矩阵"
   ]
  },
  {
   "cell_type": "markdown",
   "metadata": {
    "slideshow": {
     "slide_type": "slide"
    }
   },
   "source": [
    "#### 簇之间的近邻性度量"
   ]
  },
  {
   "cell_type": "markdown",
   "metadata": {
    "slideshow": {
     "slide_type": "fragment"
    }
   },
   "source": [
    "- 三种方法计算簇之间的距离\n",
    "    + 单链接\n",
    "    + 完全链接\n",
    "    + 平均链接"
   ]
  },
  {
   "cell_type": "markdown",
   "metadata": {
    "slideshow": {
     "slide_type": "fragment"
    }
   },
   "source": [
    "##### 单链接（single linkage）"
   ]
  },
  {
   "cell_type": "markdown",
   "metadata": {
    "slideshow": {
     "slide_type": "fragment"
    }
   },
   "source": [
    "- 簇间距离等于两个簇包含的数据点（样本）之间的**最小**距离"
   ]
  },
  {
   "cell_type": "markdown",
   "metadata": {
    "slideshow": {
     "slide_type": "fragment"
    }
   },
   "source": [
    "<center><img src=\"./img/clustering/min.png\" width=60%></center>"
   ]
  },
  {
   "cell_type": "markdown",
   "metadata": {
    "slideshow": {
     "slide_type": "slide"
    }
   },
   "source": [
    "##### 完全链接（complete linkage）"
   ]
  },
  {
   "cell_type": "markdown",
   "metadata": {
    "slideshow": {
     "slide_type": "fragment"
    }
   },
   "source": [
    "- 簇间距离等于两个簇包含数据点（样本）之间的**最大**距离"
   ]
  },
  {
   "cell_type": "markdown",
   "metadata": {
    "slideshow": {
     "slide_type": "fragment"
    }
   },
   "source": [
    "<center><img src=\"./img/clustering/max.png\" width=60%></center>"
   ]
  },
  {
   "cell_type": "markdown",
   "metadata": {
    "slideshow": {
     "slide_type": "slide"
    }
   },
   "source": [
    "##### 平均链接（average linkage）"
   ]
  },
  {
   "cell_type": "markdown",
   "metadata": {
    "slideshow": {
     "slide_type": "fragment"
    }
   },
   "source": [
    "- 簇间距离等于两个簇包含数据点（样本）之间的**平均**距离"
   ]
  },
  {
   "cell_type": "markdown",
   "metadata": {
    "slideshow": {
     "slide_type": "fragment"
    }
   },
   "source": [
    "<center><img src=\"./img/clustering/gpavg.png\" width=60%></center>"
   ]
  },
  {
   "cell_type": "markdown",
   "metadata": {
    "slideshow": {
     "slide_type": "slide"
    }
   },
   "source": [
    "### 层次聚类的不足"
   ]
  },
  {
   "cell_type": "markdown",
   "metadata": {
    "slideshow": {
     "slide_type": "fragment"
    }
   },
   "source": [
    "- 一旦两个簇合并之后，该过程不可逆"
   ]
  },
  {
   "cell_type": "markdown",
   "metadata": {
    "slideshow": {
     "slide_type": "fragment"
    }
   },
   "source": [
    "- 缺乏全局目标函数"
   ]
  },
  {
   "cell_type": "markdown",
   "metadata": {
    "slideshow": {
     "slide_type": "slide"
    }
   },
   "source": [
    "### 凝聚层次聚类的`Python`实现"
   ]
  },
  {
   "cell_type": "markdown",
   "metadata": {
    "slideshow": {
     "slide_type": "fragment"
    }
   },
   "source": [
    "```python\n",
    "from scipy.cluster import hierarchy\n",
    "hierarchy.linkage(y, method='single', metric='euclidean')\n",
    "```\n",
    "- `y`：利用`pdist()`函数得到的两两样本之间的距离数组，或者是原始数据\n",
    "- `method`：簇之间的近邻性度量方法，可取的值包括`single`，`complete`，`average`等\n",
    "- `metric`：选用的距离\n",
    "- 返回值：`linkage`矩阵，层次聚类的结果"
   ]
  },
  {
   "cell_type": "markdown",
   "metadata": {
    "slideshow": {
     "slide_type": "slide"
    }
   },
   "source": [
    "#### 读取数据并预处理"
   ]
  },
  {
   "cell_type": "code",
   "execution_count": 16,
   "metadata": {
    "slideshow": {
     "slide_type": "fragment"
    }
   },
   "outputs": [
    {
     "data": {
      "text/html": [
       "<div>\n",
       "<style scoped>\n",
       "    .dataframe tbody tr th:only-of-type {\n",
       "        vertical-align: middle;\n",
       "    }\n",
       "\n",
       "    .dataframe tbody tr th {\n",
       "        vertical-align: top;\n",
       "    }\n",
       "\n",
       "    .dataframe thead th {\n",
       "        text-align: right;\n",
       "    }\n",
       "</style>\n",
       "<table border=\"1\" class=\"dataframe\">\n",
       "  <thead>\n",
       "    <tr style=\"text-align: right;\">\n",
       "      <th></th>\n",
       "      <th>AREA</th>\n",
       "      <th>X1</th>\n",
       "      <th>X2</th>\n",
       "      <th>X3</th>\n",
       "      <th>X4</th>\n",
       "      <th>X5</th>\n",
       "      <th>X6</th>\n",
       "      <th>X7</th>\n",
       "      <th>X8</th>\n",
       "      <th>X9</th>\n",
       "    </tr>\n",
       "  </thead>\n",
       "  <tbody>\n",
       "    <tr>\n",
       "      <th>0</th>\n",
       "      <td>Liaoning</td>\n",
       "      <td>5458.2</td>\n",
       "      <td>13000</td>\n",
       "      <td>1376.2</td>\n",
       "      <td>2258.4</td>\n",
       "      <td>1315.9</td>\n",
       "      <td>529.0</td>\n",
       "      <td>2258.4</td>\n",
       "      <td>123.7</td>\n",
       "      <td>399.7</td>\n",
       "    </tr>\n",
       "    <tr>\n",
       "      <th>1</th>\n",
       "      <td>Shandong</td>\n",
       "      <td>10550.0</td>\n",
       "      <td>11643</td>\n",
       "      <td>3502.5</td>\n",
       "      <td>3851.0</td>\n",
       "      <td>2288.7</td>\n",
       "      <td>1070.7</td>\n",
       "      <td>3181.9</td>\n",
       "      <td>211.1</td>\n",
       "      <td>610.2</td>\n",
       "    </tr>\n",
       "    <tr>\n",
       "      <th>2</th>\n",
       "      <td>Hebei</td>\n",
       "      <td>6076.6</td>\n",
       "      <td>9047</td>\n",
       "      <td>1406.7</td>\n",
       "      <td>2092.6</td>\n",
       "      <td>1161.6</td>\n",
       "      <td>597.1</td>\n",
       "      <td>1968.3</td>\n",
       "      <td>45.9</td>\n",
       "      <td>302.3</td>\n",
       "    </tr>\n",
       "    <tr>\n",
       "      <th>3</th>\n",
       "      <td>Tianjin</td>\n",
       "      <td>2022.6</td>\n",
       "      <td>22068</td>\n",
       "      <td>822.8</td>\n",
       "      <td>960.0</td>\n",
       "      <td>703.7</td>\n",
       "      <td>361.9</td>\n",
       "      <td>941.4</td>\n",
       "      <td>115.7</td>\n",
       "      <td>171.8</td>\n",
       "    </tr>\n",
       "    <tr>\n",
       "      <th>4</th>\n",
       "      <td>Jiangsu</td>\n",
       "      <td>10636.3</td>\n",
       "      <td>14397</td>\n",
       "      <td>3536.3</td>\n",
       "      <td>3967.2</td>\n",
       "      <td>2320.0</td>\n",
       "      <td>1141.3</td>\n",
       "      <td>3215.8</td>\n",
       "      <td>384.7</td>\n",
       "      <td>643.7</td>\n",
       "    </tr>\n",
       "  </tbody>\n",
       "</table>\n",
       "</div>"
      ],
      "text/plain": [
       "       AREA       X1     X2      X3      X4      X5      X6      X7     X8  \\\n",
       "0  Liaoning   5458.2  13000  1376.2  2258.4  1315.9   529.0  2258.4  123.7   \n",
       "1  Shandong  10550.0  11643  3502.5  3851.0  2288.7  1070.7  3181.9  211.1   \n",
       "2     Hebei   6076.6   9047  1406.7  2092.6  1161.6   597.1  1968.3   45.9   \n",
       "3   Tianjin   2022.6  22068   822.8   960.0   703.7   361.9   941.4  115.7   \n",
       "4   Jiangsu  10636.3  14397  3536.3  3967.2  2320.0  1141.3  3215.8  384.7   \n",
       "\n",
       "      X9  \n",
       "0  399.7  \n",
       "1  610.2  \n",
       "2  302.3  \n",
       "3  171.8  \n",
       "4  643.7  "
      ]
     },
     "execution_count": 16,
     "metadata": {},
     "output_type": "execute_result"
    }
   ],
   "source": [
    "cityDf = pd.read_csv('./data/clustering/cities_10.csv',header=0)\n",
    "cityDf.head()"
   ]
  },
  {
   "cell_type": "code",
   "execution_count": 17,
   "metadata": {
    "scrolled": true,
    "slideshow": {
     "slide_type": "fragment"
    }
   },
   "outputs": [
    {
     "data": {
      "text/html": [
       "<div>\n",
       "<style scoped>\n",
       "    .dataframe tbody tr th:only-of-type {\n",
       "        vertical-align: middle;\n",
       "    }\n",
       "\n",
       "    .dataframe tbody tr th {\n",
       "        vertical-align: top;\n",
       "    }\n",
       "\n",
       "    .dataframe thead th {\n",
       "        text-align: right;\n",
       "    }\n",
       "</style>\n",
       "<table border=\"1\" class=\"dataframe\">\n",
       "  <thead>\n",
       "    <tr style=\"text-align: right;\">\n",
       "      <th></th>\n",
       "      <th>X1</th>\n",
       "      <th>X2</th>\n",
       "      <th>X3</th>\n",
       "      <th>X4</th>\n",
       "      <th>X5</th>\n",
       "      <th>X6</th>\n",
       "      <th>X7</th>\n",
       "      <th>X8</th>\n",
       "      <th>X9</th>\n",
       "    </tr>\n",
       "    <tr>\n",
       "      <th>AREA</th>\n",
       "      <th></th>\n",
       "      <th></th>\n",
       "      <th></th>\n",
       "      <th></th>\n",
       "      <th></th>\n",
       "      <th></th>\n",
       "      <th></th>\n",
       "      <th></th>\n",
       "      <th></th>\n",
       "    </tr>\n",
       "  </thead>\n",
       "  <tbody>\n",
       "    <tr>\n",
       "      <th>Liaoning</th>\n",
       "      <td>5458.2</td>\n",
       "      <td>13000</td>\n",
       "      <td>1376.2</td>\n",
       "      <td>2258.4</td>\n",
       "      <td>1315.9</td>\n",
       "      <td>529.0</td>\n",
       "      <td>2258.4</td>\n",
       "      <td>123.7</td>\n",
       "      <td>399.7</td>\n",
       "    </tr>\n",
       "    <tr>\n",
       "      <th>Shandong</th>\n",
       "      <td>10550.0</td>\n",
       "      <td>11643</td>\n",
       "      <td>3502.5</td>\n",
       "      <td>3851.0</td>\n",
       "      <td>2288.7</td>\n",
       "      <td>1070.7</td>\n",
       "      <td>3181.9</td>\n",
       "      <td>211.1</td>\n",
       "      <td>610.2</td>\n",
       "    </tr>\n",
       "    <tr>\n",
       "      <th>Hebei</th>\n",
       "      <td>6076.6</td>\n",
       "      <td>9047</td>\n",
       "      <td>1406.7</td>\n",
       "      <td>2092.6</td>\n",
       "      <td>1161.6</td>\n",
       "      <td>597.1</td>\n",
       "      <td>1968.3</td>\n",
       "      <td>45.9</td>\n",
       "      <td>302.3</td>\n",
       "    </tr>\n",
       "    <tr>\n",
       "      <th>Tianjin</th>\n",
       "      <td>2022.6</td>\n",
       "      <td>22068</td>\n",
       "      <td>822.8</td>\n",
       "      <td>960.0</td>\n",
       "      <td>703.7</td>\n",
       "      <td>361.9</td>\n",
       "      <td>941.4</td>\n",
       "      <td>115.7</td>\n",
       "      <td>171.8</td>\n",
       "    </tr>\n",
       "    <tr>\n",
       "      <th>Jiangsu</th>\n",
       "      <td>10636.3</td>\n",
       "      <td>14397</td>\n",
       "      <td>3536.3</td>\n",
       "      <td>3967.2</td>\n",
       "      <td>2320.0</td>\n",
       "      <td>1141.3</td>\n",
       "      <td>3215.8</td>\n",
       "      <td>384.7</td>\n",
       "      <td>643.7</td>\n",
       "    </tr>\n",
       "    <tr>\n",
       "      <th>Shanghai</th>\n",
       "      <td>5408.8</td>\n",
       "      <td>40627</td>\n",
       "      <td>2196.2</td>\n",
       "      <td>2755.8</td>\n",
       "      <td>1970.2</td>\n",
       "      <td>779.3</td>\n",
       "      <td>2035.2</td>\n",
       "      <td>320.5</td>\n",
       "      <td>709.0</td>\n",
       "    </tr>\n",
       "    <tr>\n",
       "      <th>Zhejiang</th>\n",
       "      <td>7670.0</td>\n",
       "      <td>16570</td>\n",
       "      <td>2356.5</td>\n",
       "      <td>3065.0</td>\n",
       "      <td>2296.6</td>\n",
       "      <td>1180.6</td>\n",
       "      <td>2877.5</td>\n",
       "      <td>294.2</td>\n",
       "      <td>566.9</td>\n",
       "    </tr>\n",
       "    <tr>\n",
       "      <th>Fujian</th>\n",
       "      <td>4682.0</td>\n",
       "      <td>13510</td>\n",
       "      <td>1047.1</td>\n",
       "      <td>1859.0</td>\n",
       "      <td>964.5</td>\n",
       "      <td>397.9</td>\n",
       "      <td>1663.3</td>\n",
       "      <td>173.7</td>\n",
       "      <td>272.9</td>\n",
       "    </tr>\n",
       "    <tr>\n",
       "      <th>Guangdong</th>\n",
       "      <td>11769.7</td>\n",
       "      <td>15030</td>\n",
       "      <td>4224.6</td>\n",
       "      <td>4793.6</td>\n",
       "      <td>3022.9</td>\n",
       "      <td>1275.5</td>\n",
       "      <td>5013.6</td>\n",
       "      <td>1843.7</td>\n",
       "      <td>1201.6</td>\n",
       "    </tr>\n",
       "    <tr>\n",
       "      <th>Guangxi</th>\n",
       "      <td>2455.4</td>\n",
       "      <td>5062</td>\n",
       "      <td>367.0</td>\n",
       "      <td>995.7</td>\n",
       "      <td>542.2</td>\n",
       "      <td>352.7</td>\n",
       "      <td>1025.5</td>\n",
       "      <td>15.1</td>\n",
       "      <td>186.7</td>\n",
       "    </tr>\n",
       "  </tbody>\n",
       "</table>\n",
       "</div>"
      ],
      "text/plain": [
       "                X1     X2      X3      X4      X5      X6      X7      X8  \\\n",
       "AREA                                                                        \n",
       "Liaoning    5458.2  13000  1376.2  2258.4  1315.9   529.0  2258.4   123.7   \n",
       "Shandong   10550.0  11643  3502.5  3851.0  2288.7  1070.7  3181.9   211.1   \n",
       "Hebei       6076.6   9047  1406.7  2092.6  1161.6   597.1  1968.3    45.9   \n",
       "Tianjin     2022.6  22068   822.8   960.0   703.7   361.9   941.4   115.7   \n",
       "Jiangsu    10636.3  14397  3536.3  3967.2  2320.0  1141.3  3215.8   384.7   \n",
       "Shanghai    5408.8  40627  2196.2  2755.8  1970.2   779.3  2035.2   320.5   \n",
       "Zhejiang    7670.0  16570  2356.5  3065.0  2296.6  1180.6  2877.5   294.2   \n",
       "Fujian      4682.0  13510  1047.1  1859.0   964.5   397.9  1663.3   173.7   \n",
       "Guangdong  11769.7  15030  4224.6  4793.6  3022.9  1275.5  5013.6  1843.7   \n",
       "Guangxi     2455.4   5062   367.0   995.7   542.2   352.7  1025.5    15.1   \n",
       "\n",
       "               X9  \n",
       "AREA               \n",
       "Liaoning    399.7  \n",
       "Shandong    610.2  \n",
       "Hebei       302.3  \n",
       "Tianjin     171.8  \n",
       "Jiangsu     643.7  \n",
       "Shanghai    709.0  \n",
       "Zhejiang    566.9  \n",
       "Fujian      272.9  \n",
       "Guangdong  1201.6  \n",
       "Guangxi     186.7  "
      ]
     },
     "execution_count": 17,
     "metadata": {},
     "output_type": "execute_result"
    }
   ],
   "source": [
    "cityDf.set_index(cityDf.pop('AREA'),inplace=True)\n",
    "cityDf"
   ]
  },
  {
   "cell_type": "markdown",
   "metadata": {
    "slideshow": {
     "slide_type": "slide"
    }
   },
   "source": [
    "##### 绘制属性的箱型图，展示各个属性的取值范围"
   ]
  },
  {
   "cell_type": "code",
   "execution_count": 18,
   "metadata": {
    "scrolled": true,
    "slideshow": {
     "slide_type": "fragment"
    }
   },
   "outputs": [
    {
     "data": {
      "text/plain": [
       "<matplotlib.axes._subplots.AxesSubplot at 0x7f615a83a048>"
      ]
     },
     "execution_count": 18,
     "metadata": {},
     "output_type": "execute_result"
    },
    {
     "data": {
      "image/png": "[encoded data removed]",
      "text/plain": [
       "<Figure size 864x432 with 1 Axes>"
      ]
     },
     "metadata": {
      "needs_background": "light"
     },
     "output_type": "display_data"
    }
   ],
   "source": [
    "cityDf.plot(y=[f'X{i}' for i in range(1,10)],kind='box',figsize=(12,6))"
   ]
  },
  {
   "cell_type": "markdown",
   "metadata": {
    "slideshow": {
     "slide_type": "fragment"
    }
   },
   "source": [
    "- 各个属性取值范围差异较大，需要对数据进行标准化"
   ]
  },
  {
   "cell_type": "code",
   "execution_count": 19,
   "metadata": {
    "slideshow": {
     "slide_type": "slide"
    }
   },
   "outputs": [],
   "source": [
    "from sklearn.preprocessing import StandardScaler"
   ]
  },
  {
   "cell_type": "code",
   "execution_count": 20,
   "metadata": {
    "slideshow": {
     "slide_type": "fragment"
    }
   },
   "outputs": [
    {
     "data": {
      "text/plain": [
       "array([[-0.37574772, -0.33589708, -0.57070001, -0.33180084, -0.4351153 ,\n",
       "        -0.68608742, -0.13882664, -0.44958874, -0.36008526],\n",
       "       [ 1.19924012, -0.48315182,  1.14473196,  0.98455823,  0.79990984,\n",
       "         0.8650543 ,  0.66401891, -0.27809633,  0.34976628],\n",
       "       [-0.18446517, -0.76485655, -0.54609356, -0.46884237, -0.63100796,\n",
       "        -0.49108511, -0.39102534, -0.60224445, -0.68853914],\n",
       "       [-1.43844228,  0.6481162 , -1.01716572, -1.40498973, -1.21233816,\n",
       "        -1.16457327, -1.28376177, -0.46528598, -1.12861338],\n",
       "       [ 1.2259343 , -0.18430174,  1.17200074,  1.08060301,  0.83964698,\n",
       "         1.06721529,  0.6934899 ,  0.0625339 ,  0.46273553],\n",
       "       [-0.39102805,  2.66204455,  0.09085021,  0.07932373,  0.3955559 ,\n",
       "         0.03063913, -0.33286576, -0.06343649,  0.68294126],\n",
       "       [ 0.3084029 ,  0.05150118,  0.22017521,  0.33489213,  0.80993934,\n",
       "         1.17974966,  0.39938849, -0.11504119,  0.20374931],\n",
       "       [-0.61584072, -0.28055447, -0.83620754, -0.66192379, -0.88123767,\n",
       "        -1.06148835, -0.65617736, -0.35148095, -0.7876823 ],\n",
       "       [ 1.57651587, -0.11561179,  1.72729954,  1.76366162,  1.73201866,\n",
       "         1.45149297,  2.25640894,  2.92531908,  2.34409505],\n",
       "       [-1.30456925, -1.19728849, -1.38489083, -1.37548199, -1.41737163,\n",
       "        -1.19091719, -1.21064936, -0.66267885, -1.07836735]])"
      ]
     },
     "execution_count": 20,
     "metadata": {},
     "output_type": "execute_result"
    }
   ],
   "source": [
    "cityScaler = StandardScaler()\n",
    "cityX = cityScaler.fit_transform(cityDf)\n",
    "cityX"
   ]
  },
  {
   "cell_type": "markdown",
   "metadata": {
    "slideshow": {
     "slide_type": "slide"
    }
   },
   "source": [
    "#### 建立凝聚层次模型"
   ]
  },
  {
   "cell_type": "code",
   "execution_count": 21,
   "metadata": {
    "slideshow": {
     "slide_type": "fragment"
    }
   },
   "outputs": [],
   "source": [
    "from scipy.cluster import hierarchy"
   ]
  },
  {
   "cell_type": "code",
   "execution_count": 22,
   "metadata": {
    "slideshow": {
     "slide_type": "fragment"
    }
   },
   "outputs": [
    {
     "data": {
      "text/plain": [
       "array([[ 1.        ,  4.        ,  0.52163185,  2.        ],\n",
       "       [ 0.        ,  2.        ,  0.71496212,  2.        ],\n",
       "       [ 7.        , 11.        ,  1.02790917,  3.        ],\n",
       "       [ 6.        , 10.        ,  1.60180338,  3.        ],\n",
       "       [ 3.        ,  9.        ,  1.91026168,  2.        ],\n",
       "       [12.        , 14.        ,  2.18719558,  5.        ],\n",
       "       [ 5.        , 13.        ,  3.6865092 ,  4.        ],\n",
       "       [15.        , 16.        ,  4.35894698,  9.        ],\n",
       "       [ 8.        , 17.        ,  6.58954454, 10.        ]])"
      ]
     },
     "execution_count": 22,
     "metadata": {},
     "output_type": "execute_result"
    }
   ],
   "source": [
    "cityAve = hierarchy.linkage(cityX,method='average',metric='euclidean')\n",
    "cityAve"
   ]
  },
  {
   "cell_type": "code",
   "execution_count": 23,
   "metadata": {
    "slideshow": {
     "slide_type": "fragment"
    }
   },
   "outputs": [
    {
     "data": {
      "text/html": [
       "<div>\n",
       "<style scoped>\n",
       "    .dataframe tbody tr th:only-of-type {\n",
       "        vertical-align: middle;\n",
       "    }\n",
       "\n",
       "    .dataframe tbody tr th {\n",
       "        vertical-align: top;\n",
       "    }\n",
       "\n",
       "    .dataframe thead th {\n",
       "        text-align: right;\n",
       "    }\n",
       "</style>\n",
       "<table border=\"1\" class=\"dataframe\">\n",
       "  <thead>\n",
       "    <tr style=\"text-align: right;\">\n",
       "      <th></th>\n",
       "      <th>行号</th>\n",
       "      <th>行号</th>\n",
       "      <th>距离</th>\n",
       "      <th>簇中包含的样本数量</th>\n",
       "    </tr>\n",
       "  </thead>\n",
       "  <tbody>\n",
       "    <tr>\n",
       "      <th>簇0</th>\n",
       "      <td>1.0</td>\n",
       "      <td>4.0</td>\n",
       "      <td>0.521632</td>\n",
       "      <td>2.0</td>\n",
       "    </tr>\n",
       "    <tr>\n",
       "      <th>簇1</th>\n",
       "      <td>0.0</td>\n",
       "      <td>2.0</td>\n",
       "      <td>0.714962</td>\n",
       "      <td>2.0</td>\n",
       "    </tr>\n",
       "    <tr>\n",
       "      <th>簇2</th>\n",
       "      <td>7.0</td>\n",
       "      <td>11.0</td>\n",
       "      <td>1.027909</td>\n",
       "      <td>3.0</td>\n",
       "    </tr>\n",
       "    <tr>\n",
       "      <th>簇3</th>\n",
       "      <td>6.0</td>\n",
       "      <td>10.0</td>\n",
       "      <td>1.601803</td>\n",
       "      <td>3.0</td>\n",
       "    </tr>\n",
       "    <tr>\n",
       "      <th>簇4</th>\n",
       "      <td>3.0</td>\n",
       "      <td>9.0</td>\n",
       "      <td>1.910262</td>\n",
       "      <td>2.0</td>\n",
       "    </tr>\n",
       "    <tr>\n",
       "      <th>簇5</th>\n",
       "      <td>12.0</td>\n",
       "      <td>14.0</td>\n",
       "      <td>2.187196</td>\n",
       "      <td>5.0</td>\n",
       "    </tr>\n",
       "    <tr>\n",
       "      <th>簇6</th>\n",
       "      <td>5.0</td>\n",
       "      <td>13.0</td>\n",
       "      <td>3.686509</td>\n",
       "      <td>4.0</td>\n",
       "    </tr>\n",
       "    <tr>\n",
       "      <th>簇7</th>\n",
       "      <td>15.0</td>\n",
       "      <td>16.0</td>\n",
       "      <td>4.358947</td>\n",
       "      <td>9.0</td>\n",
       "    </tr>\n",
       "    <tr>\n",
       "      <th>簇8</th>\n",
       "      <td>8.0</td>\n",
       "      <td>17.0</td>\n",
       "      <td>6.589545</td>\n",
       "      <td>10.0</td>\n",
       "    </tr>\n",
       "  </tbody>\n",
       "</table>\n",
       "</div>"
      ],
      "text/plain": [
       "      行号    行号        距离  簇中包含的样本数量\n",
       "簇0   1.0   4.0  0.521632        2.0\n",
       "簇1   0.0   2.0  0.714962        2.0\n",
       "簇2   7.0  11.0  1.027909        3.0\n",
       "簇3   6.0  10.0  1.601803        3.0\n",
       "簇4   3.0   9.0  1.910262        2.0\n",
       "簇5  12.0  14.0  2.187196        5.0\n",
       "簇6   5.0  13.0  3.686509        4.0\n",
       "簇7  15.0  16.0  4.358947        9.0\n",
       "簇8   8.0  17.0  6.589545       10.0"
      ]
     },
     "execution_count": 23,
     "metadata": {},
     "output_type": "execute_result"
    }
   ],
   "source": [
    "pd.DataFrame(cityAve,columns=['行号','行号','距离','簇中包含的样本数量'],index=[f'簇{i}' for i in range(cityAve.shape[0])])"
   ]
  },
  {
   "cell_type": "markdown",
   "metadata": {
    "slideshow": {
     "slide_type": "slide"
    }
   },
   "source": [
    "#### 树状图展示"
   ]
  },
  {
   "cell_type": "markdown",
   "metadata": {
    "slideshow": {
     "slide_type": "fragment"
    }
   },
   "source": [
    "```python\n",
    "from scipy.cluster import hierarchy\n",
    "hierarchy.dendrogram(Z, orientation='top', labels=None, ax=None)\n",
    "```\n",
    "- `Z`：`linkage`矩阵，层次聚类结果\n",
    "- `orientation`：根结点的位置，可选`{\"top\", \"bottom\",\"left\",\"right\"}\n",
    "- `labels`：原始数据点的标签，默认为`None`，即原始数据样本默认的行标签\n",
    "- `ax`：`matplotlib Axes`对象"
   ]
  },
  {
   "cell_type": "code",
   "execution_count": 24,
   "metadata": {
    "slideshow": {
     "slide_type": "fragment"
    }
   },
   "outputs": [],
   "source": [
    "import matplotlib.pyplot as plt "
   ]
  },
  {
   "cell_type": "code",
   "execution_count": 25,
   "metadata": {
    "scrolled": true,
    "slideshow": {
     "slide_type": "fragment"
    }
   },
   "outputs": [
    {
     "data": {
      "image/png": "[encoded data removed]",
      "text/plain": [
       "<Figure size 864x432 with 1 Axes>"
      ]
     },
     "metadata": {
      "needs_background": "light"
     },
     "output_type": "display_data"
    }
   ],
   "source": [
    "fig, ax = plt.subplots(figsize=(12,6))\n",
    "cityDn = hierarchy.dendrogram(cityAve,ax=ax,labels=cityDf.index)\n",
    "plt.show()"
   ]
  },
  {
   "cell_type": "markdown",
   "metadata": {
    "slideshow": {
     "slide_type": "slide"
    }
   },
   "source": [
    "#### 三种近邻性度量比较"
   ]
  },
  {
   "cell_type": "code",
   "execution_count": 26,
   "metadata": {
    "scrolled": true,
    "slideshow": {
     "slide_type": "fragment"
    }
   },
   "outputs": [
    {
     "data": {
      "image/png": "[encoded data removed]",
      "text/plain": [
       "<Figure size 864x864 with 3 Axes>"
      ]
     },
     "metadata": {
      "needs_background": "light"
     },
     "output_type": "display_data"
    }
   ],
   "source": [
    "cityLinkages = []\n",
    "fig,axes = plt.subplots(3,1,figsize=(12,12))\n",
    "for idx,linkage in enumerate(['single','complete','average']):\n",
    "    lnk = hierarchy.linkage(cityX,method=linkage,metric='euclidean')\n",
    "    dn = hierarchy.dendrogram(lnk,ax=axes[idx],labels=cityDf.index)\n",
    "plt.show()"
   ]
  },
  {
   "cell_type": "markdown",
   "metadata": {
    "slideshow": {
     "slide_type": "slide"
    }
   },
   "source": [
    "#### `sklearn`中的凝聚层次聚类"
   ]
  },
  {
   "cell_type": "markdown",
   "metadata": {
    "slideshow": {
     "slide_type": "fragment"
    }
   },
   "source": [
    "```python\n",
    "from sklearn.cluster import AgglomerativeClustering\n",
    "AgglomerativeClustering(n_clusters=2, affinity=’euclidean’, linkage=’ward’)\n",
    "```\n",
    "- `n_clusters`：`int`类型，簇的个数\n",
    "- `affinity`：近邻度的度量，可以选择`'euclidean', 'manhattan', 'cosine'`等\n",
    "- `linkage`：`str`类型，簇之间的链接类型，可以选择`'ward', 'complete', 'average', 'single'`"
   ]
  },
  {
   "cell_type": "markdown",
   "metadata": {
    "slideshow": {
     "slide_type": "fragment"
    }
   },
   "source": [
    "> 利用`AgglomerativeClustering`对凝聚层次聚类剪枝"
   ]
  },
  {
   "cell_type": "markdown",
   "metadata": {
    "slideshow": {
     "slide_type": "slide"
    }
   },
   "source": [
    "##### 建立凝聚层次模型"
   ]
  },
  {
   "cell_type": "code",
   "execution_count": 27,
   "metadata": {
    "slideshow": {
     "slide_type": "fragment"
    }
   },
   "outputs": [],
   "source": [
    "from sklearn.cluster import AgglomerativeClustering"
   ]
  },
  {
   "cell_type": "code",
   "execution_count": 28,
   "metadata": {
    "slideshow": {
     "slide_type": "fragment"
    }
   },
   "outputs": [
    {
     "data": {
      "text/plain": [
       "AgglomerativeClustering(affinity='euclidean', compute_full_tree='auto',\n",
       "                        connectivity=None, distance_threshold=None,\n",
       "                        linkage='average', memory=None, n_clusters=4)"
      ]
     },
     "execution_count": 28,
     "metadata": {},
     "output_type": "execute_result"
    }
   ],
   "source": [
    "cityAc = AgglomerativeClustering(n_clusters=4,affinity='euclidean',linkage='average')\n",
    "cityAc"
   ]
  },
  {
   "cell_type": "markdown",
   "metadata": {
    "slideshow": {
     "slide_type": "slide"
    }
   },
   "source": [
    "##### 训练模型并预测样本所属的簇"
   ]
  },
  {
   "cell_type": "code",
   "execution_count": 29,
   "metadata": {
    "slideshow": {
     "slide_type": "fragment"
    }
   },
   "outputs": [
    {
     "data": {
      "text/plain": [
       "array([0, 2, 0, 0, 2, 3, 2, 0, 1, 0])"
      ]
     },
     "execution_count": 29,
     "metadata": {},
     "output_type": "execute_result"
    }
   ],
   "source": [
    "cityLabels = cityAc.fit_predict(cityX)\n",
    "cityLabels"
   ]
  },
  {
   "cell_type": "code",
   "execution_count": 30,
   "metadata": {
    "slideshow": {
     "slide_type": "fragment"
    }
   },
   "outputs": [
    {
     "data": {
      "text/html": [
       "<div>\n",
       "<style scoped>\n",
       "    .dataframe tbody tr th:only-of-type {\n",
       "        vertical-align: middle;\n",
       "    }\n",
       "\n",
       "    .dataframe tbody tr th {\n",
       "        vertical-align: top;\n",
       "    }\n",
       "\n",
       "    .dataframe thead th {\n",
       "        text-align: right;\n",
       "    }\n",
       "</style>\n",
       "<table border=\"1\" class=\"dataframe\">\n",
       "  <thead>\n",
       "    <tr style=\"text-align: right;\">\n",
       "      <th></th>\n",
       "      <th>X1</th>\n",
       "      <th>X2</th>\n",
       "      <th>X3</th>\n",
       "      <th>X4</th>\n",
       "      <th>X5</th>\n",
       "      <th>X6</th>\n",
       "      <th>X7</th>\n",
       "      <th>X8</th>\n",
       "      <th>X9</th>\n",
       "      <th>cluster</th>\n",
       "    </tr>\n",
       "    <tr>\n",
       "      <th>AREA</th>\n",
       "      <th></th>\n",
       "      <th></th>\n",
       "      <th></th>\n",
       "      <th></th>\n",
       "      <th></th>\n",
       "      <th></th>\n",
       "      <th></th>\n",
       "      <th></th>\n",
       "      <th></th>\n",
       "      <th></th>\n",
       "    </tr>\n",
       "  </thead>\n",
       "  <tbody>\n",
       "    <tr>\n",
       "      <th>Liaoning</th>\n",
       "      <td>5458.2</td>\n",
       "      <td>13000</td>\n",
       "      <td>1376.2</td>\n",
       "      <td>2258.4</td>\n",
       "      <td>1315.9</td>\n",
       "      <td>529.0</td>\n",
       "      <td>2258.4</td>\n",
       "      <td>123.7</td>\n",
       "      <td>399.7</td>\n",
       "      <td>0</td>\n",
       "    </tr>\n",
       "    <tr>\n",
       "      <th>Shandong</th>\n",
       "      <td>10550.0</td>\n",
       "      <td>11643</td>\n",
       "      <td>3502.5</td>\n",
       "      <td>3851.0</td>\n",
       "      <td>2288.7</td>\n",
       "      <td>1070.7</td>\n",
       "      <td>3181.9</td>\n",
       "      <td>211.1</td>\n",
       "      <td>610.2</td>\n",
       "      <td>2</td>\n",
       "    </tr>\n",
       "    <tr>\n",
       "      <th>Hebei</th>\n",
       "      <td>6076.6</td>\n",
       "      <td>9047</td>\n",
       "      <td>1406.7</td>\n",
       "      <td>2092.6</td>\n",
       "      <td>1161.6</td>\n",
       "      <td>597.1</td>\n",
       "      <td>1968.3</td>\n",
       "      <td>45.9</td>\n",
       "      <td>302.3</td>\n",
       "      <td>0</td>\n",
       "    </tr>\n",
       "    <tr>\n",
       "      <th>Tianjin</th>\n",
       "      <td>2022.6</td>\n",
       "      <td>22068</td>\n",
       "      <td>822.8</td>\n",
       "      <td>960.0</td>\n",
       "      <td>703.7</td>\n",
       "      <td>361.9</td>\n",
       "      <td>941.4</td>\n",
       "      <td>115.7</td>\n",
       "      <td>171.8</td>\n",
       "      <td>0</td>\n",
       "    </tr>\n",
       "    <tr>\n",
       "      <th>Jiangsu</th>\n",
       "      <td>10636.3</td>\n",
       "      <td>14397</td>\n",
       "      <td>3536.3</td>\n",
       "      <td>3967.2</td>\n",
       "      <td>2320.0</td>\n",
       "      <td>1141.3</td>\n",
       "      <td>3215.8</td>\n",
       "      <td>384.7</td>\n",
       "      <td>643.7</td>\n",
       "      <td>2</td>\n",
       "    </tr>\n",
       "    <tr>\n",
       "      <th>Shanghai</th>\n",
       "      <td>5408.8</td>\n",
       "      <td>40627</td>\n",
       "      <td>2196.2</td>\n",
       "      <td>2755.8</td>\n",
       "      <td>1970.2</td>\n",
       "      <td>779.3</td>\n",
       "      <td>2035.2</td>\n",
       "      <td>320.5</td>\n",
       "      <td>709.0</td>\n",
       "      <td>3</td>\n",
       "    </tr>\n",
       "    <tr>\n",
       "      <th>Zhejiang</th>\n",
       "      <td>7670.0</td>\n",
       "      <td>16570</td>\n",
       "      <td>2356.5</td>\n",
       "      <td>3065.0</td>\n",
       "      <td>2296.6</td>\n",
       "      <td>1180.6</td>\n",
       "      <td>2877.5</td>\n",
       "      <td>294.2</td>\n",
       "      <td>566.9</td>\n",
       "      <td>2</td>\n",
       "    </tr>\n",
       "    <tr>\n",
       "      <th>Fujian</th>\n",
       "      <td>4682.0</td>\n",
       "      <td>13510</td>\n",
       "      <td>1047.1</td>\n",
       "      <td>1859.0</td>\n",
       "      <td>964.5</td>\n",
       "      <td>397.9</td>\n",
       "      <td>1663.3</td>\n",
       "      <td>173.7</td>\n",
       "      <td>272.9</td>\n",
       "      <td>0</td>\n",
       "    </tr>\n",
       "    <tr>\n",
       "      <th>Guangdong</th>\n",
       "      <td>11769.7</td>\n",
       "      <td>15030</td>\n",
       "      <td>4224.6</td>\n",
       "      <td>4793.6</td>\n",
       "      <td>3022.9</td>\n",
       "      <td>1275.5</td>\n",
       "      <td>5013.6</td>\n",
       "      <td>1843.7</td>\n",
       "      <td>1201.6</td>\n",
       "      <td>1</td>\n",
       "    </tr>\n",
       "    <tr>\n",
       "      <th>Guangxi</th>\n",
       "      <td>2455.4</td>\n",
       "      <td>5062</td>\n",
       "      <td>367.0</td>\n",
       "      <td>995.7</td>\n",
       "      <td>542.2</td>\n",
       "      <td>352.7</td>\n",
       "      <td>1025.5</td>\n",
       "      <td>15.1</td>\n",
       "      <td>186.7</td>\n",
       "      <td>0</td>\n",
       "    </tr>\n",
       "  </tbody>\n",
       "</table>\n",
       "</div>"
      ],
      "text/plain": [
       "                X1     X2      X3      X4      X5      X6      X7      X8  \\\n",
       "AREA                                                                        \n",
       "Liaoning    5458.2  13000  1376.2  2258.4  1315.9   529.0  2258.4   123.7   \n",
       "Shandong   10550.0  11643  3502.5  3851.0  2288.7  1070.7  3181.9   211.1   \n",
       "Hebei       6076.6   9047  1406.7  2092.6  1161.6   597.1  1968.3    45.9   \n",
       "Tianjin     2022.6  22068   822.8   960.0   703.7   361.9   941.4   115.7   \n",
       "Jiangsu    10636.3  14397  3536.3  3967.2  2320.0  1141.3  3215.8   384.7   \n",
       "Shanghai    5408.8  40627  2196.2  2755.8  1970.2   779.3  2035.2   320.5   \n",
       "Zhejiang    7670.0  16570  2356.5  3065.0  2296.6  1180.6  2877.5   294.2   \n",
       "Fujian      4682.0  13510  1047.1  1859.0   964.5   397.9  1663.3   173.7   \n",
       "Guangdong  11769.7  15030  4224.6  4793.6  3022.9  1275.5  5013.6  1843.7   \n",
       "Guangxi     2455.4   5062   367.0   995.7   542.2   352.7  1025.5    15.1   \n",
       "\n",
       "               X9  cluster  \n",
       "AREA                        \n",
       "Liaoning    399.7        0  \n",
       "Shandong    610.2        2  \n",
       "Hebei       302.3        0  \n",
       "Tianjin     171.8        0  \n",
       "Jiangsu     643.7        2  \n",
       "Shanghai    709.0        3  \n",
       "Zhejiang    566.9        2  \n",
       "Fujian      272.9        0  \n",
       "Guangdong  1201.6        1  \n",
       "Guangxi     186.7        0  "
      ]
     },
     "execution_count": 30,
     "metadata": {},
     "output_type": "execute_result"
    }
   ],
   "source": [
    "cityDf['cluster']=cityLabels\n",
    "cityDf"
   ]
  },
  {
   "cell_type": "markdown",
   "metadata": {
    "slideshow": {
     "slide_type": "slide"
    }
   },
   "source": [
    "## 基于密度的聚类"
   ]
  },
  {
   "cell_type": "markdown",
   "metadata": {
    "slideshow": {
     "slide_type": "fragment"
    }
   },
   "source": [
    "### 基本概念"
   ]
  },
  {
   "cell_type": "markdown",
   "metadata": {
    "slideshow": {
     "slide_type": "fragment"
    }
   },
   "source": [
    "> Density-Based Spatial Clustering of Applications with Noise（DBSCAN）"
   ]
  },
  {
   "cell_type": "markdown",
   "metadata": {
    "slideshow": {
     "slide_type": "fragment"
    }
   },
   "source": [
    "<dl class=\"row alert-danger\">\n",
    "    <dt class=\"col-xl-4\">密度</dt>\n",
    "    <dd class=\"col-xl-8\">在一定半径（$Eps$）之内的数据点的个数</dd>\n",
    "</dl>"
   ]
  },
  {
   "cell_type": "markdown",
   "metadata": {
    "slideshow": {
     "slide_type": "fragment"
    }
   },
   "source": [
    "##### 点分类"
   ]
  },
  {
   "cell_type": "markdown",
   "metadata": {
    "slideshow": {
     "slide_type": "fragment"
    }
   },
   "source": [
    "<dl class=\"row alert-danger\">\n",
    "    <dt class=\"col-xl-4\">核心点(core point)</dt>\n",
    "    <dd class=\"col-xl-8\">该点的邻域（$Eps$）内包含的数据点的个数超过指定的阈值（$MinPts$）</dd>\n",
    "</dl>"
   ]
  },
  {
   "cell_type": "markdown",
   "metadata": {
    "slideshow": {
     "slide_type": "fragment"
    }
   },
   "source": [
    "<dl class=\"row alert-info\">\n",
    "    <dt class=\"col-xl-4\">边界点(border point)</dt>\n",
    "    <dd class=\"col-xl-8\">不是核心点，但是落在核心点的邻域($Eps$)内</dd>\n",
    "</dl>"
   ]
  },
  {
   "cell_type": "markdown",
   "metadata": {
    "slideshow": {
     "slide_type": "fragment"
    }
   },
   "source": [
    "<dl class=\"row alert-success\">\n",
    "    <dt class=\"col-xl-4\">噪声点(noise point)</dt>\n",
    "    <dd class=\"col-xl-8\">既非核心点也非边界点</dd>\n",
    "</dl>"
   ]
  },
  {
   "cell_type": "markdown",
   "metadata": {
    "slideshow": {
     "slide_type": "subslide"
    }
   },
   "source": [
    "<center><img src=\"./img/clustering/densityPoints.gif\" width=60%></center>"
   ]
  },
  {
   "cell_type": "markdown",
   "metadata": {
    "slideshow": {
     "slide_type": "slide"
    }
   },
   "source": [
    "### 基本算法"
   ]
  },
  {
   "cell_type": "markdown",
   "metadata": {
    "slideshow": {
     "slide_type": "fragment"
    }
   },
   "source": [
    "1. 将所有点标记为核心点、边界点、噪声点\n",
    "2. 删除噪声点\n",
    "3. 连接距离在$Eps$之内的所有核心点\n",
    "4. 每组连通的核心点形成一个簇\n",
    "5. 将每个边界点指派到一个与之关联的核心点的簇中"
   ]
  },
  {
   "cell_type": "markdown",
   "metadata": {
    "slideshow": {
     "slide_type": "slide"
    }
   },
   "source": [
    "### 优势"
   ]
  },
  {
   "cell_type": "markdown",
   "metadata": {
    "slideshow": {
     "slide_type": "fragment"
    }
   },
   "source": [
    "- 不像$K$均值方法对簇的形状有要求"
   ]
  },
  {
   "cell_type": "markdown",
   "metadata": {
    "slideshow": {
     "slide_type": "fragment"
    }
   },
   "source": [
    "- 不像$K$均值和层次聚类，需要将每个数据点（样本）归到一个簇中，可以去除噪声点"
   ]
  },
  {
   "cell_type": "markdown",
   "metadata": {
    "slideshow": {
     "slide_type": "fragment"
    }
   },
   "source": [
    "### 不足"
   ]
  },
  {
   "cell_type": "markdown",
   "metadata": {
    "slideshow": {
     "slide_type": "fragment"
    }
   },
   "source": [
    "- 不适用簇的密度变化较大的情况"
   ]
  },
  {
   "cell_type": "markdown",
   "metadata": {
    "slideshow": {
     "slide_type": "fragment"
    }
   },
   "source": [
    "<center><img src=\"./img/clustering/varyingDensity.GIF\" width=40%></center>\n",
    "明暗表明密度\n",
    "\n",
    "簇A和B周围噪声的密度与簇C和D的密度一致"
   ]
  },
  {
   "cell_type": "markdown",
   "metadata": {
    "slideshow": {
     "slide_type": "fragment"
    }
   },
   "source": [
    "- 如果$Eps$过大，DBSCAN能够识别簇A和簇B，但是会将簇C和D识别为噪声"
   ]
  },
  {
   "cell_type": "markdown",
   "metadata": {
    "slideshow": {
     "slide_type": "fragment"
    }
   },
   "source": [
    "- 如果$Eps$过小，DBSCAN能够识别簇C和D，但是簇A和B以及它们周围的噪声将被识别为一个单一簇"
   ]
  },
  {
   "cell_type": "markdown",
   "metadata": {
    "slideshow": {
     "slide_type": "slide"
    }
   },
   "source": [
    "### DBSCAN的`Python`实现"
   ]
  },
  {
   "cell_type": "markdown",
   "metadata": {
    "slideshow": {
     "slide_type": "fragment"
    }
   },
   "source": [
    "```python\n",
    "from sklearn.cluster import DBSCAN\n",
    "DBSCAN(eps=0.5, min_samples=5, metric='euclidean', n_jobs=None)\n",
    "```\n",
    "- `eps`：`float`类型，半径，两个数据点被认为属于同一个邻域的最大距离\n",
    "- `min_samples`：`int`类型，核心点所在邻域所要包含的数据点的最小数量，核心点包括在内\n",
    "- `metric`：距离的度量，可以选择`'minkowski','euclidean'`等"
   ]
  },
  {
   "cell_type": "markdown",
   "metadata": {
    "slideshow": {
     "slide_type": "slide"
    }
   },
   "source": [
    "#### 建立DBSCAN模型"
   ]
  },
  {
   "cell_type": "code",
   "execution_count": 31,
   "metadata": {
    "slideshow": {
     "slide_type": "fragment"
    }
   },
   "outputs": [],
   "source": [
    "from sklearn.cluster import DBSCAN"
   ]
  },
  {
   "cell_type": "code",
   "execution_count": 32,
   "metadata": {
    "slideshow": {
     "slide_type": "fragment"
    }
   },
   "outputs": [],
   "source": [
    "irisDB = DBSCAN(eps=1,min_samples=30,metric='euclidean',n_jobs=-1)"
   ]
  },
  {
   "cell_type": "markdown",
   "metadata": {
    "slideshow": {
     "slide_type": "slide"
    }
   },
   "source": [
    "#### 训练模型并预测样本所属簇"
   ]
  },
  {
   "cell_type": "code",
   "execution_count": 33,
   "metadata": {
    "slideshow": {
     "slide_type": "fragment"
    }
   },
   "outputs": [
    {
     "data": {
      "text/plain": [
       "array([ 0,  0,  0,  0,  0,  0,  0,  0,  0,  0,  0,  0,  0,  0,  0,  0,  0,\n",
       "        0,  0,  0,  0,  0,  0,  0,  0,  0,  0,  0,  0,  0,  0,  0,  0,  0,\n",
       "        0,  0,  0,  0,  0,  0,  0,  0,  0,  0,  0,  0,  0,  0,  0,  0,  1,\n",
       "        1,  1,  1,  1,  1,  1,  1,  1,  1,  1,  1,  1,  1,  1,  1,  1,  1,\n",
       "        1,  1,  1,  1,  1,  1,  1,  1,  1,  1,  1,  1,  1,  1,  1,  1,  1,\n",
       "        1,  1,  1,  1,  1,  1,  1,  1,  1,  1,  1,  1,  1, -1,  1,  1,  1,\n",
       "        1,  1,  1, -1,  1,  1,  1,  1,  1,  1,  1,  1,  1,  1,  1, -1, -1,\n",
       "        1,  1,  1, -1,  1,  1,  1,  1,  1,  1,  1,  1, -1,  1,  1,  1,  1,\n",
       "        1,  1,  1,  1,  1,  1,  1,  1,  1,  1,  1,  1,  1,  1])"
      ]
     },
     "execution_count": 33,
     "metadata": {},
     "output_type": "execute_result"
    }
   ],
   "source": [
    "irisLabelsDB = irisDB.fit_predict(irisX)\n",
    "irisLabelsDB"
   ]
  },
  {
   "cell_type": "markdown",
   "metadata": {
    "slideshow": {
     "slide_type": "fragment"
    }
   },
   "source": [
    "- $-1$表示是噪声"
   ]
  },
  {
   "cell_type": "markdown",
   "metadata": {
    "slideshow": {
     "slide_type": "slide"
    }
   },
   "source": [
    "## 聚类检验"
   ]
  },
  {
   "cell_type": "markdown",
   "metadata": {
    "slideshow": {
     "slide_type": "fragment"
    }
   },
   "source": [
    "<dl class=\"row alert-info\">\n",
    "    <dt class=\"col-md-4\">聚类检验</dt>\n",
    "    <dd class=\"col-md-8\">检验聚类效果的优劣</dd>\n",
    "</dl>"
   ]
  },
  {
   "cell_type": "markdown",
   "metadata": {
    "slideshow": {
     "slide_type": "fragment"
    }
   },
   "source": [
    "- 评估指标\n",
    "    + 监督评估，利用外部信息（例如类别）来判断聚类效果的优劣\n",
    "    + 非监督评估：利用数据本身的信息来判断"
   ]
  },
  {
   "cell_type": "markdown",
   "metadata": {
    "slideshow": {
     "slide_type": "slide"
    }
   },
   "source": [
    "### 非监督评估"
   ]
  },
  {
   "cell_type": "markdown",
   "metadata": {
    "slideshow": {
     "slide_type": "fragment"
    }
   },
   "source": [
    "<dl class=\"row alert-info\">\n",
    "    <dt class=\"col-lg-4\">凝聚度(cohesion)</dt>\n",
    "    <dd class=\"col-lg-8\">簇内数据点之间的密切程度</dd>\n",
    "</dl>"
   ]
  },
  {
   "cell_type": "markdown",
   "metadata": {
    "slideshow": {
     "slide_type": "fragment"
    }
   },
   "source": [
    "- 可以是簇内各个数据点之间距离的均值"
   ]
  },
  {
   "cell_type": "markdown",
   "metadata": {
    "slideshow": {
     "slide_type": "fragment"
    }
   },
   "source": [
    "<dl class=\"row alert-danger\">\n",
    "    <dt class=\"col-lg-4\">分离度(separation)</dt>\n",
    "    <dd class=\"col-lg-8\">某个簇不同于其他簇的程度</dd>\n",
    "</dl>"
   ]
  },
  {
   "cell_type": "markdown",
   "metadata": {
    "slideshow": {
     "slide_type": "fragment"
    }
   },
   "source": [
    "- 不同簇的数据点之间的距离的均值"
   ]
  },
  {
   "cell_type": "markdown",
   "metadata": {
    "cell_style": "split",
    "slideshow": {
     "slide_type": "fragment"
    }
   },
   "source": [
    "<center><img src=\"./img/clustering/cohesionSeparation.png\" width=60%></center>"
   ]
  },
  {
   "cell_type": "markdown",
   "metadata": {
    "slideshow": {
     "slide_type": "slide"
    }
   },
   "source": [
    "### 轮廓系数（silhouette coefficient）"
   ]
  },
  {
   "cell_type": "markdown",
   "metadata": {
    "cell_style": "split",
    "slideshow": {
     "slide_type": "fragment"
    }
   },
   "source": [
    "<center><img src=\"./img/clustering/silhouette.png\" width=40%></center>"
   ]
  },
  {
   "cell_type": "markdown",
   "metadata": {
    "cell_style": "split",
    "slideshow": {
     "slide_type": "fragment"
    }
   },
   "source": [
    "$a_i$是第$i$个数据对象到所属簇中其他所有数据对象距离的平均值"
   ]
  },
  {
   "cell_type": "markdown",
   "metadata": {
    "cell_style": "split",
    "slideshow": {
     "slide_type": "fragment"
    }
   },
   "source": [
    "计算第$i$个数据对象到给定簇中所有数据对象距离的平均值，所有$K-1$（$K$为簇的数量）个这样的值中的最小值为$b_i$"
   ]
  },
  {
   "cell_type": "markdown",
   "metadata": {
    "cell_style": "split",
    "slideshow": {
     "slide_type": "fragment"
    }
   },
   "source": [
    "$$\n",
    "s_i = \\frac{b_i-a_i}{\\max(a_i,b_i)}\n",
    "$$\n",
    "\n",
    "$s_i\\in[-1,1]$，轮廓系数越接近1越好"
   ]
  },
  {
   "cell_type": "markdown",
   "metadata": {
    "slideshow": {
     "slide_type": "slide"
    }
   },
   "source": [
    "#### `Python`实现"
   ]
  },
  {
   "cell_type": "markdown",
   "metadata": {
    "slideshow": {
     "slide_type": "fragment"
    }
   },
   "source": [
    "```python\n",
    "from sklearn.metrics import silhouette_score\n",
    "sklearn.metrics.silhouette_score(X, labels, metric=’euclidean’)\n",
    "```\n",
    "- `X`：用于聚类的数据\n",
    "- `labels`：用聚类技术计算的每个数据样本所属的簇\n",
    "- 返回值：`float`类型，所有数据样本的轮廓系数的平均值"
   ]
  },
  {
   "cell_type": "code",
   "execution_count": 34,
   "metadata": {
    "slideshow": {
     "slide_type": "fragment"
    }
   },
   "outputs": [],
   "source": [
    "from sklearn.metrics import silhouette_score"
   ]
  },
  {
   "cell_type": "code",
   "execution_count": 35,
   "metadata": {
    "slideshow": {
     "slide_type": "fragment"
    }
   },
   "outputs": [
    {
     "data": {
      "text/plain": [
       "0.5525919445499757"
      ]
     },
     "execution_count": 35,
     "metadata": {},
     "output_type": "execute_result"
    }
   ],
   "source": [
    "silhouette_score(irisdf.iloc[:,:-1],irisKmeans.labels_)"
   ]
  }
 ],
 "metadata": {
  "celltoolbar": "幻灯片",
  "hide_input": false,
  "kernelspec": {
   "display_name": "Python 3",
   "language": "python",
   "name": "python3"
  },
  "language_info": {
   "codemirror_mode": {
    "name": "ipython",
    "version": 3
   },
   "file_extension": ".py",
   "mimetype": "text/x-python",
   "name": "python",
   "nbconvert_exporter": "python",
   "pygments_lexer": "ipython3",
   "version": "3.6.8"
  },
  "toc": {
   "base_numbering": 1,
   "nav_menu": {},
   "number_sections": true,
   "sideBar": true,
   "skip_h1_title": false,
   "title_cell": "Table of Contents",
   "title_sidebar": "Contents",
   "toc_cell": false,
   "toc_position": {
    "height": "calc(100% - 180px)",
    "left": "10px",
    "top": "150px",
    "width": "193.797px"
   },
   "toc_section_display": true,
   "toc_window_display": true
  }
 },
 "nbformat": 4,
 "nbformat_minor": 2
}
