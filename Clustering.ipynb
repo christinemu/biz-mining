{
 "cells": [
  {
   "cell_type": "code",
   "execution_count": 81,
   "metadata": {
    "init_cell": true,
    "slideshow": {
     "slide_type": "skip"
    }
   },
   "outputs": [],
   "source": [
    "import pandas as pd\n",
    "import numpy as np\n",
    "import matplotlib.pyplot as plt\n",
    "from IPython.display import display\n",
    "from IPython.core.interactiveshell import InteractiveShell\n",
    "InteractiveShell.ast_node_interactivity = \"all\"\n",
    "plt.rcParams['font.sans-serif']=['Microsoft Yahei']\n",
    "plt.style.use(\"seaborn-talk\")\n",
    "%matplotlib inline"
   ]
  },
  {
   "cell_type": "markdown",
   "metadata": {
    "cell_style": "center",
    "slideshow": {
     "slide_type": "slide"
    }
   },
   "source": [
    "<div class=\"jumbotron\">\n",
    "    <h1 class=\"display-1\">聚类技术</h1>\n",
    "    <hr class=\"my-4\">\n",
    "    <p>主讲：李岩</p>\n",
    "    <p>管理学院</p>\n",
    "    <p>liyan@cumtb.edu.cn</p>\n",
    "</div>"
   ]
  },
  {
   "cell_type": "markdown",
   "metadata": {
    "slideshow": {
     "slide_type": "slide"
    }
   },
   "source": [
    "<p class=\"h3\">客户关系管理的目标是什么？</p>"
   ]
  },
  {
   "cell_type": "markdown",
   "metadata": {
    "slideshow": {
     "slide_type": "fragment"
    }
   },
   "source": [
    "- 有的放矢，生成可控的目标客户群"
   ]
  },
  {
   "cell_type": "markdown",
   "metadata": {
    "slideshow": {
     "slide_type": "fragment"
    }
   },
   "source": [
    "- 量体裁衣，制定有针对性的营销计划"
   ]
  },
  {
   "cell_type": "markdown",
   "metadata": {
    "slideshow": {
     "slide_type": "fragment"
    }
   },
   "source": [
    "- 识别战略焦点与业务发展方向"
   ]
  },
  {
   "cell_type": "markdown",
   "metadata": {
    "slideshow": {
     "slide_type": "fragment"
    }
   },
   "source": [
    "> 核心是将客户进行**分群**管理"
   ]
  },
  {
   "cell_type": "markdown",
   "metadata": {
    "slideshow": {
     "slide_type": "subslide"
    }
   },
   "source": [
    "- 例：电信客户营销"
   ]
  },
  {
   "cell_type": "markdown",
   "metadata": {
    "slideshow": {
     "slide_type": "fragment"
    }
   },
   "source": [
    "群组|群组特征|营销策略\n",
    "---|---|---\n",
    "1|深夜通话<br>多发短信<br>多与预付费客户通话<br>避免忙时通话|夜间通话套餐，短信礼包，转为预付费，激励通话量\n",
    "2|多发短信<br>多与预付费用户通话<br>避免忙时通话|闲时通话套餐,短信礼包，激励通话量\n",
    "3|高通话量<br>多与网外用户通话<br>有国际长途|激励国际长途电话，高端资费方案\n",
    "4|交往圈固定<br>多与后付费用户通话|高价值客户礼包，业务引荐奖励\n",
    "5|高通话量<br>多与网外用户通话|激励话音用量\n",
    "6|固网通话多<br>高通话量<br>喜欢早晨通话|移动-固网通话套餐，晨间通话套餐\n",
    "7|多发短信<br>忙时通话多|短信激励，忙时通话套餐\n",
    "8|高通话量<br>喜欢深夜通话<br>闲时通话多|夜间通话套餐，闲时通话套餐\n"
   ]
  },
  {
   "cell_type": "markdown",
   "metadata": {
    "slideshow": {
     "slide_type": "fragment"
    }
   },
   "source": [
    "- 分组的目标：拥有相似特征的客户位于同一组内，而具有不同特征的客户分配在不同组"
   ]
  },
  {
   "cell_type": "markdown",
   "metadata": {
    "slideshow": {
     "slide_type": "fragment"
    }
   },
   "source": [
    "> 需要**聚类分析（clustering analysis）**技术"
   ]
  },
  {
   "cell_type": "markdown",
   "metadata": {
    "slideshow": {
     "slide_type": "slide"
    }
   },
   "source": [
    "- 聚类分析的应用\n",
    "    + 客户关系管理\n",
    "    + 项目管理种实现对项目的分组管理\n",
    "    + 网页搜索将返回的结果分成不同的类别\n",
    "    + 医学中用于识别疾病之间的关联\n",
    "    + 图像识别中用于识别不同的手写体\n",
    "    + 识别异常点（outlier detection）"
   ]
  },
  {
   "cell_type": "markdown",
   "metadata": {
    "slideshow": {
     "slide_type": "slide"
    }
   },
   "source": [
    "## 基本概念"
   ]
  },
  {
   "cell_type": "markdown",
   "metadata": {
    "slideshow": {
     "slide_type": "fragment"
    }
   },
   "source": [
    "### 聚类分析定义"
   ]
  },
  {
   "cell_type": "markdown",
   "metadata": {
    "slideshow": {
     "slide_type": "fragment"
    }
   },
   "source": [
    "<dl class=\"row alert-info\">\n",
    "    <dt class=\"col-md-2\">聚类</dt>\n",
    "    <dd class=\"col-md-10\">是一种将特征相似的样本聚集到一起，从而达到区分具有不同特征的样本的目的无监督的算法</dd>\n",
    "</dl>"
   ]
  },
  {
   "cell_type": "markdown",
   "metadata": {
    "slideshow": {
     "slide_type": "fragment"
    }
   },
   "source": [
    "- 不需要事先知道类别信息"
   ]
  },
  {
   "cell_type": "markdown",
   "metadata": {
    "slideshow": {
     "slide_type": "fragment"
    }
   },
   "source": [
    "- 聚类形成的每一个组，被称为**簇（cluster）**"
   ]
  },
  {
   "cell_type": "markdown",
   "metadata": {
    "slideshow": {
     "slide_type": "fragment"
    }
   },
   "source": [
    "- 聚类的目标：簇内的样本之间尽可能相似，不同簇的样本尽可能不同"
   ]
  },
  {
   "cell_type": "markdown",
   "metadata": {
    "slideshow": {
     "slide_type": "fragment"
    }
   },
   "source": [
    "<img src=\"./img/clustering/clustering.png\" width=50%>"
   ]
  },
  {
   "cell_type": "markdown",
   "metadata": {
    "slideshow": {
     "slide_type": "slide"
    }
   },
   "source": [
    "### 聚类类型"
   ]
  },
  {
   "cell_type": "markdown",
   "metadata": {
    "cell_style": "center",
    "slideshow": {
     "slide_type": "fragment"
    }
   },
   "source": [
    "##### 划分聚类（paritional clustering）"
   ]
  },
  {
   "cell_type": "markdown",
   "metadata": {
    "cell_style": "split",
    "slideshow": {
     "slide_type": "fragment"
    }
   },
   "source": [
    "- 将数据对象集划分成**不重叠**的子集（簇），使得每个数据对象**恰**在一个簇中"
   ]
  },
  {
   "cell_type": "markdown",
   "metadata": {
    "cell_style": "split",
    "slideshow": {
     "slide_type": "fragment"
    }
   },
   "source": [
    "<img src=\"./img/clustering/partition.png\" width=70%>"
   ]
  },
  {
   "cell_type": "markdown",
   "metadata": {
    "cell_style": "center",
    "slideshow": {
     "slide_type": "slide"
    }
   },
   "source": [
    "##### 层次聚类（hierarchical clustering）"
   ]
  },
  {
   "cell_type": "markdown",
   "metadata": {
    "cell_style": "split",
    "slideshow": {
     "slide_type": "fragment"
    }
   },
   "source": [
    "- 嵌套簇的集族，形成一个树形结构"
   ]
  },
  {
   "cell_type": "markdown",
   "metadata": {
    "cell_style": "split",
    "slideshow": {
     "slide_type": "fragment"
    }
   },
   "source": [
    "<img src=\"./img/clustering/hierarchical.png\" width=70%>"
   ]
  },
  {
   "cell_type": "markdown",
   "metadata": {
    "slideshow": {
     "slide_type": "fragment"
    }
   },
   "source": [
    "- 树的每个节点（簇）都是子簇的**并**，而树根是包含所有对象的簇"
   ]
  },
  {
   "cell_type": "markdown",
   "metadata": {
    "slideshow": {
     "slide_type": "slide"
    }
   },
   "source": [
    "### 聚类分析方法"
   ]
  },
  {
   "cell_type": "markdown",
   "metadata": {
    "slideshow": {
     "slide_type": "fragment"
    }
   },
   "source": [
    "- $K$均值（$K$-means）\n",
    "    + 基于划分的聚类，发现指定个数（$K$）的簇\n",
    "    + 样本之间的相似性通过**距离**反映\n",
    "    + 簇之间彼此**互斥**，即每个样本**只能**分属于一个簇"
   ]
  },
  {
   "cell_type": "markdown",
   "metadata": {
    "slideshow": {
     "slide_type": "fragment"
    }
   },
   "source": [
    "- 层次聚类（hierarchical clustering）：对数据进行层次化（hierarchical）分解\n",
    "    + 凝聚的层次聚类（agglomerative hierarchical clustering）：“自底向上”的方式，从每个样本开始逐步向上合并\n",
    "    + 分裂的层次聚类（divisive hierarchical clustering）：“自顶向下”的方式，从所有样本属于一个初始簇开始，不断划分子簇"
   ]
  },
  {
   "cell_type": "markdown",
   "metadata": {
    "slideshow": {
     "slide_type": "fragment"
    }
   },
   "source": [
    "- 基于密度的方法（density-based methods）\n",
    "    + 不同于$K$均值方法通过**距离**划分簇，通过**密度**划分簇\n",
    "    + 只要某一个簇周边的数据点（样本点）密度超过阈值，就一直增加该簇"
   ]
  },
  {
   "cell_type": "markdown",
   "metadata": {
    "slideshow": {
     "slide_type": "slide"
    }
   },
   "source": [
    "## K均值"
   ]
  },
  {
   "cell_type": "markdown",
   "metadata": {
    "slideshow": {
     "slide_type": "fragment"
    }
   },
   "source": [
    "- 基本思想：利用样本之间的距离衡量样本之间的相似性，用一组样本的质心（该组样本的均值）作为簇的中心，找到紧凑且独立的簇"
   ]
  },
  {
   "cell_type": "markdown",
   "metadata": {
    "slideshow": {
     "slide_type": "slide"
    }
   },
   "source": [
    "### 基本算法"
   ]
  },
  {
   "cell_type": "markdown",
   "metadata": {
    "slideshow": {
     "slide_type": "fragment"
    }
   },
   "source": [
    "<center><img src='./img/clustering/kmago.svg' width=40%></center>"
   ]
  },
  {
   "cell_type": "markdown",
   "metadata": {
    "slideshow": {
     "slide_type": "slide"
    }
   },
   "source": [
    "##### $K$均值聚类过程示例\n",
    "\n",
    "<center><img src=\"./img/clustering/kmeansProcess.gif\" width=60%></center>"
   ]
  },
  {
   "cell_type": "markdown",
   "metadata": {
    "slideshow": {
     "slide_type": "slide"
    }
   },
   "source": [
    "#### 距离的度量"
   ]
  },
  {
   "cell_type": "markdown",
   "metadata": {
    "slideshow": {
     "slide_type": "fragment"
    }
   },
   "source": [
    "- 欧式空间：欧几里得距离，$n$维空间中两个点$\\boldsymbol{x}$和$\\boldsymbol{y}$之间的欧几里得距离是:\n",
    "$$\n",
    "d(\\boldsymbol{x}, \\boldsymbol{y}) = \\sqrt{\\sum_{k=1}^n(x_k-y_k)^2}\n",
    "$$"
   ]
  },
  {
   "cell_type": "markdown",
   "metadata": {
    "slideshow": {
     "slide_type": "subslide"
    }
   },
   "source": [
    "#### 目标函数"
   ]
  },
  {
   "cell_type": "markdown",
   "metadata": {
    "slideshow": {
     "slide_type": "fragment"
    }
   },
   "source": [
    "> 通过设定**目标函数**，重新计算每个簇的质心"
   ]
  },
  {
   "cell_type": "markdown",
   "metadata": {
    "slideshow": {
     "slide_type": "fragment"
    }
   },
   "source": [
    "- 目标函数为每个点到最近质心的欧几里得距离的**误差平方和**（sum of the squared error, SSE）最小"
   ]
  },
  {
   "cell_type": "markdown",
   "metadata": {
    "slideshow": {
     "slide_type": "fragment"
    }
   },
   "source": [
    "$$\n",
    "\\begin{split}\n",
    "SSE &= \\sum_{i=1}^K\\sum_{\\boldsymbol{x}\\in C_i}d(\\boldsymbol{c}_i, \\boldsymbol{x})^2\\\\\n",
    "\\boldsymbol{c}_i&=\\frac{1}{m_i}\\sum_{\\boldsymbol{x}\\in C_i}\\boldsymbol{x}\n",
    "\\end{split}\n",
    "$$\n",
    "其中，$\\boldsymbol{x}$是数据点，$C_i$是第$i$个簇，$c_i$是第$i$个簇的质心，$m_i$是第$i$个簇包含的数据点的个数，$K$是簇的个数"
   ]
  },
  {
   "cell_type": "markdown",
   "metadata": {
    "slideshow": {
     "slide_type": "fragment"
    }
   },
   "source": [
    "- 簇内的误差平方和（SSE）也被称作cluster inertia"
   ]
  },
  {
   "cell_type": "markdown",
   "metadata": {
    "slideshow": {
     "slide_type": "slide"
    }
   },
   "source": [
    "#### 初始质心"
   ]
  },
  {
   "cell_type": "markdown",
   "metadata": {
    "slideshow": {
     "slide_type": "fragment"
    }
   },
   "source": [
    "- 随机选择$K$个样本作为初始质心"
   ]
  },
  {
   "cell_type": "markdown",
   "metadata": {
    "slideshow": {
     "slide_type": "fragment"
    }
   },
   "source": [
    "- 初始质心的选择对聚类结果有显著影响"
   ]
  },
  {
   "cell_type": "markdown",
   "metadata": {
    "slideshow": {
     "slide_type": "fragment"
    }
   },
   "source": [
    "<p class=\"h3\">恰当的初始质心</p>\n",
    "<center><img src=\"./img/clustering/kmeansProcess.gif\" width=60%></center>"
   ]
  },
  {
   "cell_type": "markdown",
   "metadata": {
    "slideshow": {
     "slide_type": "slide"
    }
   },
   "source": [
    "<p class=\"h3\">错误的初始质心</p>\n",
    "<center><img src=\"./img/clustering/kmeansInitialCentroid.gif\" width=60%></center>"
   ]
  },
  {
   "cell_type": "markdown",
   "metadata": {
    "slideshow": {
     "slide_type": "slide"
    }
   },
   "source": [
    "##### 改进初始质心的选择"
   ]
  },
  {
   "cell_type": "markdown",
   "metadata": {
    "slideshow": {
     "slide_type": "fragment"
    }
   },
   "source": [
    "<p class=\"h3\">$K$-means++方法初始化质心</p>"
   ]
  },
  {
   "cell_type": "markdown",
   "metadata": {
    "slideshow": {
     "slide_type": "fragment"
    }
   },
   "source": [
    "- 顺次选择$k$个初始质心"
   ]
  },
  {
   "cell_type": "markdown",
   "metadata": {
    "slideshow": {
     "slide_type": "fragment"
    }
   },
   "source": [
    "- 主要思路\n",
    "    + 随机选择一个数据点（样本）作为第一个质心\n",
    "    + 之后每个数据点选作质心的概率与该数据点距离最近的质心(已经选择的质心)的距离平方成正比 "
   ]
  },
  {
   "cell_type": "markdown",
   "metadata": {
    "slideshow": {
     "slide_type": "fragment"
    }
   },
   "source": [
    "- 优势\n",
    "    + 既保证了初始质心选择的随机性，同时又保证初始的质心分散较开"
   ]
  },
  {
   "cell_type": "markdown",
   "metadata": {
    "slideshow": {
     "slide_type": "subslide"
    }
   },
   "source": [
    "#### 离群点"
   ]
  },
  {
   "cell_type": "markdown",
   "metadata": {
    "slideshow": {
     "slide_type": "fragment"
    }
   },
   "source": [
    "> $K$均值聚类对离群点非常敏感"
   ]
  },
  {
   "cell_type": "markdown",
   "metadata": {
    "slideshow": {
     "slide_type": "subslide"
    }
   },
   "source": [
    "<p class=\"h3\">例如，给定一组数据$\\{1,2,3,8,9,10,25\\}$，很容易观察到$\\{1,2,3\\}$属于一组，$\\{8,9,10\\}$属于一组，而25是离群点</p>"
   ]
  },
  {
   "cell_type": "markdown",
   "metadata": {
    "slideshow": {
     "slide_type": "fragment"
    }
   },
   "source": [
    "<p class=\"h3\">应用$K$均值方法，假设$K=2$，</p>"
   ]
  },
  {
   "cell_type": "markdown",
   "metadata": {
    "slideshow": {
     "slide_type": "fragment"
    }
   },
   "source": [
    "- 如果划分成$\\{1,2,3\\}$和$\\{8,9,10,25\\}$两组，质心分别为2和13，则SSE（误差平方和）为\n",
    "\n",
    "$$\n",
    "    (1-2)^2+(2-2)^2+(3-2)^2+(8-13)^2+(9-13)^2+(10-13)^2+(25-13)^2=196\n",
    "$$"
   ]
  },
  {
   "cell_type": "markdown",
   "metadata": {
    "slideshow": {
     "slide_type": "fragment"
    }
   },
   "source": [
    "- 如果划分成$\\{1,2,3,8\\}$和$\\{9,10,25\\}$两组，质心分别为3.5和14.67，则SSE（误差平方和）为\n",
    "\n",
    "$$\n",
    "    (1-3.5)^2+(2-3.5)^2+(3-3.5)^2+(8-3.5)^2+(9-14.67)^2+(10-14.67)^2+(25-14.67)^2=189.67\n",
    "$$"
   ]
  },
  {
   "cell_type": "markdown",
   "metadata": {
    "slideshow": {
     "slide_type": "fragment"
    }
   },
   "source": [
    "- 由于第二种划分的SSE**小于**第一种划分，所以$K$均值方法会选择第二种结果"
   ]
  },
  {
   "cell_type": "markdown",
   "metadata": {
    "slideshow": {
     "slide_type": "slide"
    }
   },
   "source": [
    "##### 如何消除离群点的影响"
   ]
  },
  {
   "cell_type": "markdown",
   "metadata": {
    "slideshow": {
     "slide_type": "fragment"
    }
   },
   "source": [
    "- 聚类之前剔除离群点"
   ]
  },
  {
   "cell_type": "markdown",
   "metadata": {
    "slideshow": {
     "slide_type": "fragment"
    }
   },
   "source": [
    "- 聚类过程中剔除离群点\n",
    "    + 根据每个点对SSE的影响\n",
    "    + 删除很小的簇，因为往往这些簇都是由离群点构成"
   ]
  },
  {
   "cell_type": "markdown",
   "metadata": {
    "slideshow": {
     "slide_type": "slide"
    }
   },
   "source": [
    "### $K$均值的问题与改进"
   ]
  },
  {
   "cell_type": "markdown",
   "metadata": {
    "slideshow": {
     "slide_type": "fragment"
    }
   },
   "source": [
    "#### $K$均值的不足"
   ]
  },
  {
   "cell_type": "markdown",
   "metadata": {
    "slideshow": {
     "slide_type": "fragment"
    }
   },
   "source": [
    "- 当簇具有**不同大小**、**不同密度**、**非球形状**时，$K$均值方法很难检测到“自然的”簇"
   ]
  },
  {
   "cell_type": "markdown",
   "metadata": {
    "slideshow": {
     "slide_type": "fragment"
    }
   },
   "source": [
    "##### 不同大小"
   ]
  },
  {
   "cell_type": "markdown",
   "metadata": {
    "slideshow": {
     "slide_type": "fragment"
    }
   },
   "source": [
    "<img src=\"./img/clustering/size.png\" width=80%>"
   ]
  },
  {
   "cell_type": "markdown",
   "metadata": {
    "slideshow": {
     "slide_type": "slide"
    }
   },
   "source": [
    "##### 不同的密度"
   ]
  },
  {
   "cell_type": "markdown",
   "metadata": {
    "slideshow": {
     "slide_type": "fragment"
    }
   },
   "source": [
    "<img src=\"./img/clustering/density.png\" width=80%>"
   ]
  },
  {
   "cell_type": "markdown",
   "metadata": {
    "slideshow": {
     "slide_type": "slide"
    }
   },
   "source": [
    "##### 非球形状"
   ]
  },
  {
   "cell_type": "markdown",
   "metadata": {
    "slideshow": {
     "slide_type": "fragment"
    }
   },
   "source": [
    "<img src=\"./img/clustering/shape.png\" width=80%>"
   ]
  },
  {
   "cell_type": "markdown",
   "metadata": {
    "slideshow": {
     "slide_type": "subslide"
    }
   },
   "source": [
    "#### 改进方法"
   ]
  },
  {
   "cell_type": "markdown",
   "metadata": {
    "slideshow": {
     "slide_type": "fragment"
    }
   },
   "source": [
    "> 初始用更多的簇，然后再将其合并"
   ]
  },
  {
   "cell_type": "markdown",
   "metadata": {
    "slideshow": {
     "slide_type": "fragment"
    }
   },
   "source": [
    "##### 不同大小"
   ]
  },
  {
   "cell_type": "markdown",
   "metadata": {
    "slideshow": {
     "slide_type": "fragment"
    }
   },
   "source": [
    "<img src=\"./img/clustering/sizesmall.png\" width=80%>"
   ]
  },
  {
   "cell_type": "markdown",
   "metadata": {
    "slideshow": {
     "slide_type": "slide"
    }
   },
   "source": [
    "##### 不同密度"
   ]
  },
  {
   "cell_type": "markdown",
   "metadata": {
    "slideshow": {
     "slide_type": "fragment"
    }
   },
   "source": [
    "<img src=\"./img/clustering/densitysmall.png\" width=80%>"
   ]
  },
  {
   "cell_type": "markdown",
   "metadata": {
    "slideshow": {
     "slide_type": "slide"
    }
   },
   "source": [
    "##### 非球形状"
   ]
  },
  {
   "cell_type": "markdown",
   "metadata": {
    "slideshow": {
     "slide_type": "fragment"
    }
   },
   "source": [
    "<img src=\"./img/clustering/shapesmall.png\" width=80%>"
   ]
  },
  {
   "cell_type": "markdown",
   "metadata": {
    "slideshow": {
     "slide_type": "slide"
    }
   },
   "source": [
    "### $K$均值的`Python`实现"
   ]
  },
  {
   "cell_type": "markdown",
   "metadata": {
    "slideshow": {
     "slide_type": "fragment"
    }
   },
   "source": [
    "```python\n",
    "from sklearn.cluster import KMeans\n",
    "KMeans(n_clusters=8, init=’k-means++’, max_iter=300, random_state=None, n_jobs=None)\n",
    "```\n",
    "- `n_clusters`：`int`类型，簇的个数\n",
    "- `init`：初始质心的方法，可以选择`k-means++`或`random`\n",
    "- `max_iter`：最大迭代次数\n",
    "- `random_state`：初始质心的随机生成种子\n",
    "- `n_jobs`：用多少个CPU运行"
   ]
  },
  {
   "cell_type": "markdown",
   "metadata": {
    "slideshow": {
     "slide_type": "slide"
    }
   },
   "source": [
    "#### 建立$K$均值聚类模型"
   ]
  },
  {
   "cell_type": "markdown",
   "metadata": {
    "slideshow": {
     "slide_type": "fragment"
    }
   },
   "source": [
    "##### 读取`iris`数据"
   ]
  },
  {
   "cell_type": "code",
   "execution_count": 3,
   "metadata": {
    "scrolled": false,
    "slideshow": {
     "slide_type": "fragment"
    }
   },
   "outputs": [
    {
     "data": {
      "text/html": [
       "<div>\n",
       "<style scoped>\n",
       "    .dataframe tbody tr th:only-of-type {\n",
       "        vertical-align: middle;\n",
       "    }\n",
       "\n",
       "    .dataframe tbody tr th {\n",
       "        vertical-align: top;\n",
       "    }\n",
       "\n",
       "    .dataframe thead th {\n",
       "        text-align: right;\n",
       "    }\n",
       "</style>\n",
       "<table border=\"1\" class=\"dataframe\">\n",
       "  <thead>\n",
       "    <tr style=\"text-align: right;\">\n",
       "      <th></th>\n",
       "      <th>sepal_length</th>\n",
       "      <th>sepal_width</th>\n",
       "      <th>petal_length</th>\n",
       "      <th>petal_width</th>\n",
       "      <th>species</th>\n",
       "    </tr>\n",
       "  </thead>\n",
       "  <tbody>\n",
       "    <tr>\n",
       "      <th>0</th>\n",
       "      <td>5.1</td>\n",
       "      <td>3.5</td>\n",
       "      <td>1.4</td>\n",
       "      <td>0.2</td>\n",
       "      <td>setosa</td>\n",
       "    </tr>\n",
       "    <tr>\n",
       "      <th>1</th>\n",
       "      <td>4.9</td>\n",
       "      <td>3.0</td>\n",
       "      <td>1.4</td>\n",
       "      <td>0.2</td>\n",
       "      <td>setosa</td>\n",
       "    </tr>\n",
       "    <tr>\n",
       "      <th>2</th>\n",
       "      <td>4.7</td>\n",
       "      <td>3.2</td>\n",
       "      <td>1.3</td>\n",
       "      <td>0.2</td>\n",
       "      <td>setosa</td>\n",
       "    </tr>\n",
       "    <tr>\n",
       "      <th>3</th>\n",
       "      <td>4.6</td>\n",
       "      <td>3.1</td>\n",
       "      <td>1.5</td>\n",
       "      <td>0.2</td>\n",
       "      <td>setosa</td>\n",
       "    </tr>\n",
       "    <tr>\n",
       "      <th>4</th>\n",
       "      <td>5.0</td>\n",
       "      <td>3.6</td>\n",
       "      <td>1.4</td>\n",
       "      <td>0.2</td>\n",
       "      <td>setosa</td>\n",
       "    </tr>\n",
       "  </tbody>\n",
       "</table>\n",
       "</div>"
      ],
      "text/plain": [
       "   sepal_length  sepal_width  petal_length  petal_width species\n",
       "0           5.1          3.5           1.4          0.2  setosa\n",
       "1           4.9          3.0           1.4          0.2  setosa\n",
       "2           4.7          3.2           1.3          0.2  setosa\n",
       "3           4.6          3.1           1.5          0.2  setosa\n",
       "4           5.0          3.6           1.4          0.2  setosa"
      ]
     },
     "execution_count": 3,
     "metadata": {},
     "output_type": "execute_result"
    },
    {
     "data": {
      "text/plain": [
       "(150, 5)"
      ]
     },
     "execution_count": 3,
     "metadata": {},
     "output_type": "execute_result"
    }
   ],
   "source": [
    "irisdf = pd.read_csv('./data/visualization/iris.csv',header=0)\n",
    "irisdf.head()\n",
    "irisdf.shape"
   ]
  },
  {
   "cell_type": "markdown",
   "metadata": {
    "slideshow": {
     "slide_type": "slide"
    }
   },
   "source": [
    "##### 绘制属性箱型图，检查属性取值范围"
   ]
  },
  {
   "cell_type": "code",
   "execution_count": 4,
   "metadata": {
    "scrolled": true,
    "slideshow": {
     "slide_type": "fragment"
    }
   },
   "outputs": [
    {
     "data": {
      "text/plain": [
       "<matplotlib.axes._subplots.AxesSubplot at 0x7f93eb6fa6d8>"
      ]
     },
     "execution_count": 4,
     "metadata": {},
     "output_type": "execute_result"
    },
    {
     "data": {
      "image/png": "[encoded data removed]",
      "text/plain": [
       "<Figure size 864x432 with 1 Axes>"
      ]
     },
     "metadata": {
      "needs_background": "light"
     },
     "output_type": "display_data"
    }
   ],
   "source": [
    "irisdf.plot(y=['sepal_length','sepal_width','petal_length','petal_width'],kind='box',figsize=(12,6))"
   ]
  },
  {
   "cell_type": "markdown",
   "metadata": {
    "slideshow": {
     "slide_type": "fragment"
    }
   },
   "source": [
    "- 各个属性取值基本可比，不需要进行标准化处理"
   ]
  },
  {
   "cell_type": "markdown",
   "metadata": {
    "slideshow": {
     "slide_type": "slide"
    }
   },
   "source": [
    "##### 建立聚类模型"
   ]
  },
  {
   "cell_type": "code",
   "execution_count": 5,
   "metadata": {
    "slideshow": {
     "slide_type": "fragment"
    }
   },
   "outputs": [],
   "source": [
    "from sklearn.cluster import KMeans"
   ]
  },
  {
   "cell_type": "code",
   "execution_count": 6,
   "metadata": {
    "scrolled": true,
    "slideshow": {
     "slide_type": "fragment"
    }
   },
   "outputs": [
    {
     "data": {
      "text/plain": [
       "KMeans(algorithm='auto', copy_x=True, init='k-means++', max_iter=300,\n",
       "       n_clusters=3, n_init=10, n_jobs=-1, precompute_distances='auto',\n",
       "       random_state=0, tol=0.0001, verbose=0)"
      ]
     },
     "execution_count": 6,
     "metadata": {},
     "output_type": "execute_result"
    }
   ],
   "source": [
    "irisKmeans = KMeans(n_clusters=3,random_state=0,n_jobs=-1)\n",
    "irisKmeans"
   ]
  },
  {
   "cell_type": "markdown",
   "metadata": {
    "slideshow": {
     "slide_type": "slide"
    }
   },
   "source": [
    "#### 训练$K$均值聚类模型"
   ]
  },
  {
   "cell_type": "markdown",
   "metadata": {
    "slideshow": {
     "slide_type": "fragment"
    }
   },
   "source": [
    "```python\n",
    "kmeans.fit(X)\n",
    "```\n",
    "- `X`：需要聚类的数据集"
   ]
  },
  {
   "cell_type": "code",
   "execution_count": 7,
   "metadata": {
    "slideshow": {
     "slide_type": "fragment"
    }
   },
   "outputs": [
    {
     "data": {
      "text/html": [
       "<div>\n",
       "<style scoped>\n",
       "    .dataframe tbody tr th:only-of-type {\n",
       "        vertical-align: middle;\n",
       "    }\n",
       "\n",
       "    .dataframe tbody tr th {\n",
       "        vertical-align: top;\n",
       "    }\n",
       "\n",
       "    .dataframe thead th {\n",
       "        text-align: right;\n",
       "    }\n",
       "</style>\n",
       "<table border=\"1\" class=\"dataframe\">\n",
       "  <thead>\n",
       "    <tr style=\"text-align: right;\">\n",
       "      <th></th>\n",
       "      <th>sepal_length</th>\n",
       "      <th>sepal_width</th>\n",
       "      <th>petal_length</th>\n",
       "      <th>petal_width</th>\n",
       "    </tr>\n",
       "  </thead>\n",
       "  <tbody>\n",
       "    <tr>\n",
       "      <th>0</th>\n",
       "      <td>5.1</td>\n",
       "      <td>3.5</td>\n",
       "      <td>1.4</td>\n",
       "      <td>0.2</td>\n",
       "    </tr>\n",
       "    <tr>\n",
       "      <th>1</th>\n",
       "      <td>4.9</td>\n",
       "      <td>3.0</td>\n",
       "      <td>1.4</td>\n",
       "      <td>0.2</td>\n",
       "    </tr>\n",
       "    <tr>\n",
       "      <th>2</th>\n",
       "      <td>4.7</td>\n",
       "      <td>3.2</td>\n",
       "      <td>1.3</td>\n",
       "      <td>0.2</td>\n",
       "    </tr>\n",
       "    <tr>\n",
       "      <th>3</th>\n",
       "      <td>4.6</td>\n",
       "      <td>3.1</td>\n",
       "      <td>1.5</td>\n",
       "      <td>0.2</td>\n",
       "    </tr>\n",
       "    <tr>\n",
       "      <th>4</th>\n",
       "      <td>5.0</td>\n",
       "      <td>3.6</td>\n",
       "      <td>1.4</td>\n",
       "      <td>0.2</td>\n",
       "    </tr>\n",
       "  </tbody>\n",
       "</table>\n",
       "</div>"
      ],
      "text/plain": [
       "   sepal_length  sepal_width  petal_length  petal_width\n",
       "0           5.1          3.5           1.4          0.2\n",
       "1           4.9          3.0           1.4          0.2\n",
       "2           4.7          3.2           1.3          0.2\n",
       "3           4.6          3.1           1.5          0.2\n",
       "4           5.0          3.6           1.4          0.2"
      ]
     },
     "execution_count": 7,
     "metadata": {},
     "output_type": "execute_result"
    }
   ],
   "source": [
    "irisX = irisdf.iloc[:,:-1]\n",
    "irisX.head()"
   ]
  },
  {
   "cell_type": "code",
   "execution_count": 8,
   "metadata": {
    "slideshow": {
     "slide_type": "fragment"
    }
   },
   "outputs": [
    {
     "data": {
      "text/plain": [
       "KMeans(algorithm='auto', copy_x=True, init='k-means++', max_iter=300,\n",
       "       n_clusters=3, n_init=10, n_jobs=-1, precompute_distances='auto',\n",
       "       random_state=0, tol=0.0001, verbose=0)"
      ]
     },
     "execution_count": 8,
     "metadata": {},
     "output_type": "execute_result"
    }
   ],
   "source": [
    "irisKmeans.fit(irisX)"
   ]
  },
  {
   "cell_type": "markdown",
   "metadata": {
    "slideshow": {
     "slide_type": "fragment"
    }
   },
   "source": [
    "##### 训练好的聚类模型的属性"
   ]
  },
  {
   "cell_type": "markdown",
   "metadata": {
    "slideshow": {
     "slide_type": "fragment"
    }
   },
   "source": [
    "- `labels_`：每个数据点（样本）的标签，即所属的簇"
   ]
  },
  {
   "cell_type": "code",
   "execution_count": 9,
   "metadata": {
    "slideshow": {
     "slide_type": "fragment"
    }
   },
   "outputs": [
    {
     "data": {
      "text/plain": [
       "array([1, 1, 1, 1, 1, 1, 1, 1, 1, 1, 1, 1, 1, 1, 1, 1, 1, 1, 1, 1, 1, 1,\n",
       "       1, 1, 1, 1, 1, 1, 1, 1, 1, 1, 1, 1, 1, 1, 1, 1, 1, 1, 1, 1, 1, 1,\n",
       "       1, 1, 1, 1, 1, 1, 2, 2, 0, 2, 2, 2, 2, 2, 2, 2, 2, 2, 2, 2, 2, 2,\n",
       "       2, 2, 2, 2, 2, 2, 2, 2, 2, 2, 2, 0, 2, 2, 2, 2, 2, 2, 2, 2, 2, 2,\n",
       "       2, 2, 2, 2, 2, 2, 2, 2, 2, 2, 2, 2, 0, 2, 0, 0, 0, 0, 2, 0, 0, 0,\n",
       "       0, 0, 0, 2, 2, 0, 0, 0, 0, 2, 0, 2, 0, 2, 0, 0, 2, 2, 0, 0, 0, 0,\n",
       "       0, 2, 0, 0, 0, 0, 2, 0, 0, 0, 2, 0, 0, 0, 2, 0, 0, 2], dtype=int32)"
      ]
     },
     "execution_count": 9,
     "metadata": {},
     "output_type": "execute_result"
    }
   ],
   "source": [
    "irisKmeans.labels_"
   ]
  },
  {
   "cell_type": "markdown",
   "metadata": {
    "slideshow": {
     "slide_type": "fragment"
    }
   },
   "source": [
    "- `inertia_`：簇内误差平方和"
   ]
  },
  {
   "cell_type": "code",
   "execution_count": 10,
   "metadata": {
    "slideshow": {
     "slide_type": "fragment"
    }
   },
   "outputs": [
    {
     "data": {
      "text/plain": [
       "78.94084142614602"
      ]
     },
     "execution_count": 10,
     "metadata": {},
     "output_type": "execute_result"
    }
   ],
   "source": [
    "irisKmeans.inertia_"
   ]
  },
  {
   "cell_type": "markdown",
   "metadata": {
    "slideshow": {
     "slide_type": "slide"
    }
   },
   "source": [
    "#### 预测样本所属的距离最近的簇"
   ]
  },
  {
   "cell_type": "markdown",
   "metadata": {
    "slideshow": {
     "slide_type": "fragment"
    }
   },
   "source": [
    "```python\n",
    "kmean.predict(X)\n",
    "```\n",
    "- 返回值：每个样本属于的簇的标签，是一个数组结构，形状为`[n_samples]`"
   ]
  },
  {
   "cell_type": "code",
   "execution_count": 11,
   "metadata": {
    "slideshow": {
     "slide_type": "fragment"
    }
   },
   "outputs": [
    {
     "data": {
      "text/plain": [
       "array([1, 1, 1, 1, 1, 1, 1, 1, 1, 1, 1, 1, 1, 1, 1, 1, 1, 1, 1, 1, 1, 1,\n",
       "       1, 1, 1, 1, 1, 1, 1, 1, 1, 1, 1, 1, 1, 1, 1, 1, 1, 1, 1, 1, 1, 1,\n",
       "       1, 1, 1, 1, 1, 1, 2, 2, 0, 2, 2, 2, 2, 2, 2, 2, 2, 2, 2, 2, 2, 2,\n",
       "       2, 2, 2, 2, 2, 2, 2, 2, 2, 2, 2, 0, 2, 2, 2, 2, 2, 2, 2, 2, 2, 2,\n",
       "       2, 2, 2, 2, 2, 2, 2, 2, 2, 2, 2, 2, 0, 2, 0, 0, 0, 0, 2, 0, 0, 0,\n",
       "       0, 0, 0, 2, 2, 0, 0, 0, 0, 2, 0, 2, 0, 2, 0, 0, 2, 2, 0, 0, 0, 0,\n",
       "       0, 2, 0, 0, 0, 0, 2, 0, 0, 0, 2, 0, 0, 0, 2, 0, 0, 2], dtype=int32)"
      ]
     },
     "execution_count": 11,
     "metadata": {},
     "output_type": "execute_result"
    }
   ],
   "source": [
    "irisLabel = irisKmeans.predict(irisX)\n",
    "irisLabel"
   ]
  },
  {
   "cell_type": "markdown",
   "metadata": {
    "slideshow": {
     "slide_type": "slide"
    }
   },
   "source": [
    "#### 选择$K$值"
   ]
  },
  {
   "cell_type": "markdown",
   "metadata": {
    "slideshow": {
     "slide_type": "fragment"
    }
   },
   "source": [
    "> 随着$K$值的增大，簇内误差平方和（SSE）会降低"
   ]
  },
  {
   "cell_type": "markdown",
   "metadata": {
    "slideshow": {
     "slide_type": "fragment"
    }
   },
   "source": [
    "<dl class=\"row alert-info\">\n",
    "    <dt class=\"col-xl-4\">肘部(elbow)法则<dt>\n",
    "    <dd class=\"col-xl-8\">识别SSE<strong>开始快速增大</strong>处的$K$值</dd>\n",
    "</dl>"
   ]
  },
  {
   "cell_type": "code",
   "execution_count": 12,
   "metadata": {
    "scrolled": true,
    "slideshow": {
     "slide_type": "fragment"
    }
   },
   "outputs": [
    {
     "data": {
      "text/plain": [
       "KMeans(algorithm='auto', copy_x=True, init='k-means++', max_iter=300,\n",
       "       n_clusters=1, n_init=10, n_jobs=-1, precompute_distances='auto',\n",
       "       random_state=0, tol=0.0001, verbose=0)"
      ]
     },
     "execution_count": 12,
     "metadata": {},
     "output_type": "execute_result"
    },
    {
     "data": {
      "text/plain": [
       "KMeans(algorithm='auto', copy_x=True, init='k-means++', max_iter=300,\n",
       "       n_clusters=2, n_init=10, n_jobs=-1, precompute_distances='auto',\n",
       "       random_state=0, tol=0.0001, verbose=0)"
      ]
     },
     "execution_count": 12,
     "metadata": {},
     "output_type": "execute_result"
    },
    {
     "data": {
      "text/plain": [
       "KMeans(algorithm='auto', copy_x=True, init='k-means++', max_iter=300,\n",
       "       n_clusters=3, n_init=10, n_jobs=-1, precompute_distances='auto',\n",
       "       random_state=0, tol=0.0001, verbose=0)"
      ]
     },
     "execution_count": 12,
     "metadata": {},
     "output_type": "execute_result"
    },
    {
     "data": {
      "text/plain": [
       "KMeans(algorithm='auto', copy_x=True, init='k-means++', max_iter=300,\n",
       "       n_clusters=4, n_init=10, n_jobs=-1, precompute_distances='auto',\n",
       "       random_state=0, tol=0.0001, verbose=0)"
      ]
     },
     "execution_count": 12,
     "metadata": {},
     "output_type": "execute_result"
    },
    {
     "data": {
      "text/plain": [
       "KMeans(algorithm='auto', copy_x=True, init='k-means++', max_iter=300,\n",
       "       n_clusters=5, n_init=10, n_jobs=-1, precompute_distances='auto',\n",
       "       random_state=0, tol=0.0001, verbose=0)"
      ]
     },
     "execution_count": 12,
     "metadata": {},
     "output_type": "execute_result"
    },
    {
     "data": {
      "text/plain": [
       "KMeans(algorithm='auto', copy_x=True, init='k-means++', max_iter=300,\n",
       "       n_clusters=6, n_init=10, n_jobs=-1, precompute_distances='auto',\n",
       "       random_state=0, tol=0.0001, verbose=0)"
      ]
     },
     "execution_count": 12,
     "metadata": {},
     "output_type": "execute_result"
    },
    {
     "data": {
      "text/plain": [
       "KMeans(algorithm='auto', copy_x=True, init='k-means++', max_iter=300,\n",
       "       n_clusters=7, n_init=10, n_jobs=-1, precompute_distances='auto',\n",
       "       random_state=0, tol=0.0001, verbose=0)"
      ]
     },
     "execution_count": 12,
     "metadata": {},
     "output_type": "execute_result"
    },
    {
     "data": {
      "text/plain": [
       "KMeans(algorithm='auto', copy_x=True, init='k-means++', max_iter=300,\n",
       "       n_clusters=8, n_init=10, n_jobs=-1, precompute_distances='auto',\n",
       "       random_state=0, tol=0.0001, verbose=0)"
      ]
     },
     "execution_count": 12,
     "metadata": {},
     "output_type": "execute_result"
    },
    {
     "data": {
      "text/plain": [
       "KMeans(algorithm='auto', copy_x=True, init='k-means++', max_iter=300,\n",
       "       n_clusters=9, n_init=10, n_jobs=-1, precompute_distances='auto',\n",
       "       random_state=0, tol=0.0001, verbose=0)"
      ]
     },
     "execution_count": 12,
     "metadata": {},
     "output_type": "execute_result"
    },
    {
     "data": {
      "text/plain": [
       "KMeans(algorithm='auto', copy_x=True, init='k-means++', max_iter=300,\n",
       "       n_clusters=10, n_init=10, n_jobs=-1, precompute_distances='auto',\n",
       "       random_state=0, tol=0.0001, verbose=0)"
      ]
     },
     "execution_count": 12,
     "metadata": {},
     "output_type": "execute_result"
    },
    {
     "data": {
      "text/plain": [
       "[[Text(0, 0, '1'),\n",
       "  Text(0, 0, '2'),\n",
       "  Text(0, 0, '3'),\n",
       "  Text(0, 0, '4'),\n",
       "  Text(0, 0, '5'),\n",
       "  Text(0, 0, '6'),\n",
       "  Text(0, 0, '7'),\n",
       "  Text(0, 0, '8'),\n",
       "  Text(0, 0, '9'),\n",
       "  Text(0, 0, '10')]]"
      ]
     },
     "execution_count": 12,
     "metadata": {},
     "output_type": "execute_result"
    },
    {
     "data": {
      "image/png": "[encoded data removed]",
      "text/plain": [
       "<Figure size 864x432 with 1 Axes>"
      ]
     },
     "metadata": {
      "needs_background": "light"
     },
     "output_type": "display_data"
    }
   ],
   "source": [
    "sse = []                ###记录每个k值对应的SSE\n",
    "for k in range(1,11):\n",
    "    km = KMeans(n_clusters=k,random_state=0,n_jobs=-1)\n",
    "    km.fit(irisX)\n",
    "    sse.append(km.inertia_)\n",
    "ax = pd.Series(sse).plot(kind='line',figsize=(12,6),marker='o',grid=True,xticks=range(0,10))   #xticks：在哪些位置显示x轴刻度标签\n",
    "ax.set(xticklabels=range(1,11))        # 改变x轴标签显示，默认是从0开始"
   ]
  },
  {
   "cell_type": "markdown",
   "metadata": {
    "slideshow": {
     "slide_type": "fragment"
    }
   },
   "source": [
    "- 当$K=3$的时候，SSE**开始快速增大**，所以选择3个簇"
   ]
  },
  {
   "cell_type": "markdown",
   "metadata": {
    "slideshow": {
     "slide_type": "slide"
    }
   },
   "source": [
    "## 凝聚层次聚类"
   ]
  },
  {
   "cell_type": "markdown",
   "metadata": {
    "slideshow": {
     "slide_type": "fragment"
    }
   },
   "source": [
    "<dl class=\"row alert-danger\">\n",
    "    <dt class=\"col-md-4\">树状图（dendrogram）</dt>\n",
    "    <dd class=\"col-md-8\">显示簇——子簇联系，以及簇合并或分裂的次序</dd>\n",
    "</dl>"
   ]
  },
  {
   "cell_type": "markdown",
   "metadata": {
    "slideshow": {
     "slide_type": "fragment"
    }
   },
   "source": [
    "<img src=\"./img/clustering/dendrogram.png\" width=80%>"
   ]
  },
  {
   "cell_type": "markdown",
   "metadata": {
    "slideshow": {
     "slide_type": "slide"
    }
   },
   "source": [
    "> 生成层次聚类的方法"
   ]
  },
  {
   "cell_type": "markdown",
   "metadata": {
    "slideshow": {
     "slide_type": "fragment"
    }
   },
   "source": [
    "- 凝聚的（agglomerative）\n",
    "    + 从每个数据点（样本）作为个体簇开始，每一步合并两个最接近的簇"
   ]
  },
  {
   "cell_type": "markdown",
   "metadata": {
    "slideshow": {
     "slide_type": "fragment"
    }
   },
   "source": [
    "- 分裂的（divisive）\n",
    "    + 从包含所有数据点（样本）的簇开始，每一步分裂一个簇，直到仅剩下单点簇"
   ]
  },
  {
   "cell_type": "markdown",
   "metadata": {
    "slideshow": {
     "slide_type": "slide"
    }
   },
   "source": [
    "### 基本算法"
   ]
  },
  {
   "cell_type": "markdown",
   "metadata": {
    "slideshow": {
     "slide_type": "fragment"
    }
   },
   "source": [
    "<center><img src=\"./img/clustering/agglomerativeCluster.svg\" width=30%></center>"
   ]
  },
  {
   "cell_type": "markdown",
   "metadata": {
    "slideshow": {
     "slide_type": "slide"
    }
   },
   "source": [
    "#### 近邻度矩阵 "
   ]
  },
  {
   "cell_type": "markdown",
   "metadata": {
    "slideshow": {
     "slide_type": "fragment"
    }
   },
   "source": [
    "<dl class=\"row alert-danger\">\n",
    "    <dt class=\"col-xl-4\">近邻度矩阵</dt>\n",
    "    <dd class=\"col-xl-8\">由两两簇之间的距离或相似度构成的矩阵</dd>\n",
    "</dl>"
   ]
  },
  {
   "cell_type": "markdown",
   "metadata": {
    "slideshow": {
     "slide_type": "fragment"
    }
   },
   "source": [
    "<p class=\"h3\">计算下列数据的近邻度矩阵，假设每个样本构成一个簇</p>"
   ]
  },
  {
   "cell_type": "code",
   "execution_count": 13,
   "metadata": {
    "scrolled": true,
    "slideshow": {
     "slide_type": "fragment"
    }
   },
   "outputs": [
    {
     "data": {
      "text/html": [
       "<div>\n",
       "<style scoped>\n",
       "    .dataframe tbody tr th:only-of-type {\n",
       "        vertical-align: middle;\n",
       "    }\n",
       "\n",
       "    .dataframe tbody tr th {\n",
       "        vertical-align: top;\n",
       "    }\n",
       "\n",
       "    .dataframe thead th {\n",
       "        text-align: right;\n",
       "    }\n",
       "</style>\n",
       "<table border=\"1\" class=\"dataframe\">\n",
       "  <thead>\n",
       "    <tr style=\"text-align: right;\">\n",
       "      <th></th>\n",
       "      <th>X</th>\n",
       "      <th>Y</th>\n",
       "      <th>Z</th>\n",
       "    </tr>\n",
       "  </thead>\n",
       "  <tbody>\n",
       "    <tr>\n",
       "      <th>ID_0</th>\n",
       "      <td>6.009352</td>\n",
       "      <td>8.194939</td>\n",
       "      <td>5.041410</td>\n",
       "    </tr>\n",
       "    <tr>\n",
       "      <th>ID_1</th>\n",
       "      <td>8.154850</td>\n",
       "      <td>5.767736</td>\n",
       "      <td>7.350660</td>\n",
       "    </tr>\n",
       "    <tr>\n",
       "      <th>ID_2</th>\n",
       "      <td>1.449999</td>\n",
       "      <td>4.613539</td>\n",
       "      <td>9.790233</td>\n",
       "    </tr>\n",
       "    <tr>\n",
       "      <th>ID_3</th>\n",
       "      <td>5.992159</td>\n",
       "      <td>0.016161</td>\n",
       "      <td>7.589198</td>\n",
       "    </tr>\n",
       "    <tr>\n",
       "      <th>ID_4</th>\n",
       "      <td>6.451146</td>\n",
       "      <td>0.186966</td>\n",
       "      <td>1.003015</td>\n",
       "    </tr>\n",
       "  </tbody>\n",
       "</table>\n",
       "</div>"
      ],
      "text/plain": [
       "             X         Y         Z\n",
       "ID_0  6.009352  8.194939  5.041410\n",
       "ID_1  8.154850  5.767736  7.350660\n",
       "ID_2  1.449999  4.613539  9.790233\n",
       "ID_3  5.992159  0.016161  7.589198\n",
       "ID_4  6.451146  0.186966  1.003015"
      ]
     },
     "execution_count": 13,
     "metadata": {},
     "output_type": "execute_result"
    }
   ],
   "source": [
    "labels = [f'ID_{i}' for i in range(5)]\n",
    "egDf = pd.DataFrame(np.random.random_sample([5,3])*10,columns=['X','Y','Z'],index=labels)\n",
    "egDf"
   ]
  },
  {
   "cell_type": "code",
   "execution_count": 14,
   "metadata": {
    "slideshow": {
     "slide_type": "fragment"
    }
   },
   "outputs": [],
   "source": [
    "from scipy.spatial.distance import pdist,squareform"
   ]
  },
  {
   "cell_type": "code",
   "execution_count": 15,
   "metadata": {
    "slideshow": {
     "slide_type": "fragment"
    }
   },
   "outputs": [
    {
     "data": {
      "text/html": [
       "<div>\n",
       "<style scoped>\n",
       "    .dataframe tbody tr th:only-of-type {\n",
       "        vertical-align: middle;\n",
       "    }\n",
       "\n",
       "    .dataframe tbody tr th {\n",
       "        vertical-align: top;\n",
       "    }\n",
       "\n",
       "    .dataframe thead th {\n",
       "        text-align: right;\n",
       "    }\n",
       "</style>\n",
       "<table border=\"1\" class=\"dataframe\">\n",
       "  <thead>\n",
       "    <tr style=\"text-align: right;\">\n",
       "      <th></th>\n",
       "      <th>ID_0</th>\n",
       "      <th>ID_1</th>\n",
       "      <th>ID_2</th>\n",
       "      <th>ID_3</th>\n",
       "      <th>ID_4</th>\n",
       "    </tr>\n",
       "  </thead>\n",
       "  <tbody>\n",
       "    <tr>\n",
       "      <th>ID_0</th>\n",
       "      <td>0.000000</td>\n",
       "      <td>3.978331</td>\n",
       "      <td>7.494361</td>\n",
       "      <td>8.566443</td>\n",
       "      <td>8.979502</td>\n",
       "    </tr>\n",
       "    <tr>\n",
       "      <th>ID_1</th>\n",
       "      <td>3.978331</td>\n",
       "      <td>0.000000</td>\n",
       "      <td>7.227636</td>\n",
       "      <td>6.149370</td>\n",
       "      <td>8.622076</td>\n",
       "    </tr>\n",
       "    <tr>\n",
       "      <th>ID_2</th>\n",
       "      <td>7.494361</td>\n",
       "      <td>7.227636</td>\n",
       "      <td>0.000000</td>\n",
       "      <td>6.827273</td>\n",
       "      <td>11.037265</td>\n",
       "    </tr>\n",
       "    <tr>\n",
       "      <th>ID_3</th>\n",
       "      <td>8.566443</td>\n",
       "      <td>6.149370</td>\n",
       "      <td>6.827273</td>\n",
       "      <td>0.000000</td>\n",
       "      <td>6.604366</td>\n",
       "    </tr>\n",
       "    <tr>\n",
       "      <th>ID_4</th>\n",
       "      <td>8.979502</td>\n",
       "      <td>8.622076</td>\n",
       "      <td>11.037265</td>\n",
       "      <td>6.604366</td>\n",
       "      <td>0.000000</td>\n",
       "    </tr>\n",
       "  </tbody>\n",
       "</table>\n",
       "</div>"
      ],
      "text/plain": [
       "          ID_0      ID_1       ID_2      ID_3       ID_4\n",
       "ID_0  0.000000  3.978331   7.494361  8.566443   8.979502\n",
       "ID_1  3.978331  0.000000   7.227636  6.149370   8.622076\n",
       "ID_2  7.494361  7.227636   0.000000  6.827273  11.037265\n",
       "ID_3  8.566443  6.149370   6.827273  0.000000   6.604366\n",
       "ID_4  8.979502  8.622076  11.037265  6.604366   0.000000"
      ]
     },
     "execution_count": 15,
     "metadata": {},
     "output_type": "execute_result"
    }
   ],
   "source": [
    "rowDist = pd.DataFrame(squareform(pdist(egDf,metric='euclidean')),columns=labels,index=labels)\n",
    "rowDist"
   ]
  },
  {
   "cell_type": "markdown",
   "metadata": {
    "slideshow": {
     "slide_type": "subslide"
    }
   },
   "source": [
    "```python\n",
    "from scipy.spatial.distance import pdist,squareform\n",
    "```\n",
    "- `pdist(X, metric='euclidean')`：计算数据点两两之间的近邻度\n",
    "- `squareform(X)`：将距离数组转换成矩阵形式"
   ]
  },
  {
   "cell_type": "markdown",
   "metadata": {
    "slideshow": {
     "slide_type": "fragment"
    }
   },
   "source": [
    "- 从近邻度矩阵中找到距离**最小**的两个簇，将其合并\n",
    "- 计算合并的新簇与其他簇之间的距离，更新近邻度矩阵"
   ]
  },
  {
   "cell_type": "markdown",
   "metadata": {
    "slideshow": {
     "slide_type": "slide"
    }
   },
   "source": [
    "#### 簇之间的近邻性度量"
   ]
  },
  {
   "cell_type": "markdown",
   "metadata": {
    "slideshow": {
     "slide_type": "fragment"
    }
   },
   "source": [
    "- 三种方法计算簇之间的距离\n",
    "    + 单链接\n",
    "    + 完全链接\n",
    "    + 平均链接"
   ]
  },
  {
   "cell_type": "markdown",
   "metadata": {
    "slideshow": {
     "slide_type": "fragment"
    }
   },
   "source": [
    "##### 单链接（single linkage）"
   ]
  },
  {
   "cell_type": "markdown",
   "metadata": {
    "slideshow": {
     "slide_type": "fragment"
    }
   },
   "source": [
    "- 簇间距离等于两个簇包含的数据点（样本）之间的**最小**距离"
   ]
  },
  {
   "cell_type": "markdown",
   "metadata": {
    "slideshow": {
     "slide_type": "fragment"
    }
   },
   "source": [
    "<center><img src=\"./img/clustering/min.png\" width=60%></center>"
   ]
  },
  {
   "cell_type": "markdown",
   "metadata": {
    "slideshow": {
     "slide_type": "slide"
    }
   },
   "source": [
    "##### 完全链接（complete linkage）"
   ]
  },
  {
   "cell_type": "markdown",
   "metadata": {
    "slideshow": {
     "slide_type": "fragment"
    }
   },
   "source": [
    "- 簇间距离等于两个簇包含数据点（样本）之间的**最大**距离"
   ]
  },
  {
   "cell_type": "markdown",
   "metadata": {
    "slideshow": {
     "slide_type": "fragment"
    }
   },
   "source": [
    "<center><img src=\"./img/clustering/max.png\" width=60%></center>"
   ]
  },
  {
   "cell_type": "markdown",
   "metadata": {
    "slideshow": {
     "slide_type": "slide"
    }
   },
   "source": [
    "##### 平均链接（average linkage）"
   ]
  },
  {
   "cell_type": "markdown",
   "metadata": {
    "slideshow": {
     "slide_type": "fragment"
    }
   },
   "source": [
    "- 簇间距离等于两个簇包含数据点（样本）之间的**平均**距离"
   ]
  },
  {
   "cell_type": "markdown",
   "metadata": {
    "slideshow": {
     "slide_type": "fragment"
    }
   },
   "source": [
    "<center><img src=\"./img/clustering/gpavg.png\" width=60%></center>"
   ]
  },
  {
   "cell_type": "markdown",
   "metadata": {
    "slideshow": {
     "slide_type": "slide"
    }
   },
   "source": [
    "### 层次聚类的不足"
   ]
  },
  {
   "cell_type": "markdown",
   "metadata": {
    "slideshow": {
     "slide_type": "fragment"
    }
   },
   "source": [
    "- 一旦两个簇合并之后，该过程不可逆"
   ]
  },
  {
   "cell_type": "markdown",
   "metadata": {
    "slideshow": {
     "slide_type": "fragment"
    }
   },
   "source": [
    "- 缺乏全局目标函数"
   ]
  },
  {
   "cell_type": "markdown",
   "metadata": {
    "slideshow": {
     "slide_type": "slide"
    }
   },
   "source": [
    "### 凝聚层次聚类的`Python`实现"
   ]
  },
  {
   "cell_type": "markdown",
   "metadata": {
    "slideshow": {
     "slide_type": "fragment"
    }
   },
   "source": [
    "```python\n",
    "from scipy.cluster import hierarchy\n",
    "hierarchy.linkage(y, method='single', metric='euclidean')\n",
    "```\n",
    "- `y`：利用`pdist()`函数得到的两两样本之间的距离数组，或者是原始数据\n",
    "- `method`：簇之间的近邻性度量方法，可取的值包括`single`，`complete`，`average`等\n",
    "- `metric`：选用的距离\n",
    "- 返回值：`linkage`矩阵，层次聚类的结果"
   ]
  },
  {
   "cell_type": "markdown",
   "metadata": {
    "slideshow": {
     "slide_type": "slide"
    }
   },
   "source": [
    "#### 读取数据并预处理"
   ]
  },
  {
   "cell_type": "code",
   "execution_count": 16,
   "metadata": {
    "slideshow": {
     "slide_type": "fragment"
    }
   },
   "outputs": [
    {
     "data": {
      "text/html": [
       "<div>\n",
       "<style scoped>\n",
       "    .dataframe tbody tr th:only-of-type {\n",
       "        vertical-align: middle;\n",
       "    }\n",
       "\n",
       "    .dataframe tbody tr th {\n",
       "        vertical-align: top;\n",
       "    }\n",
       "\n",
       "    .dataframe thead th {\n",
       "        text-align: right;\n",
       "    }\n",
       "</style>\n",
       "<table border=\"1\" class=\"dataframe\">\n",
       "  <thead>\n",
       "    <tr style=\"text-align: right;\">\n",
       "      <th></th>\n",
       "      <th>AREA</th>\n",
       "      <th>X1</th>\n",
       "      <th>X2</th>\n",
       "      <th>X3</th>\n",
       "      <th>X4</th>\n",
       "      <th>X5</th>\n",
       "      <th>X6</th>\n",
       "      <th>X7</th>\n",
       "      <th>X8</th>\n",
       "      <th>X9</th>\n",
       "    </tr>\n",
       "  </thead>\n",
       "  <tbody>\n",
       "    <tr>\n",
       "      <th>0</th>\n",
       "      <td>Liaoning</td>\n",
       "      <td>5458.2</td>\n",
       "      <td>13000</td>\n",
       "      <td>1376.2</td>\n",
       "      <td>2258.4</td>\n",
       "      <td>1315.9</td>\n",
       "      <td>529.0</td>\n",
       "      <td>2258.4</td>\n",
       "      <td>123.7</td>\n",
       "      <td>399.7</td>\n",
       "    </tr>\n",
       "    <tr>\n",
       "      <th>1</th>\n",
       "      <td>Shandong</td>\n",
       "      <td>10550.0</td>\n",
       "      <td>11643</td>\n",
       "      <td>3502.5</td>\n",
       "      <td>3851.0</td>\n",
       "      <td>2288.7</td>\n",
       "      <td>1070.7</td>\n",
       "      <td>3181.9</td>\n",
       "      <td>211.1</td>\n",
       "      <td>610.2</td>\n",
       "    </tr>\n",
       "    <tr>\n",
       "      <th>2</th>\n",
       "      <td>Hebei</td>\n",
       "      <td>6076.6</td>\n",
       "      <td>9047</td>\n",
       "      <td>1406.7</td>\n",
       "      <td>2092.6</td>\n",
       "      <td>1161.6</td>\n",
       "      <td>597.1</td>\n",
       "      <td>1968.3</td>\n",
       "      <td>45.9</td>\n",
       "      <td>302.3</td>\n",
       "    </tr>\n",
       "    <tr>\n",
       "      <th>3</th>\n",
       "      <td>Tianjin</td>\n",
       "      <td>2022.6</td>\n",
       "      <td>22068</td>\n",
       "      <td>822.8</td>\n",
       "      <td>960.0</td>\n",
       "      <td>703.7</td>\n",
       "      <td>361.9</td>\n",
       "      <td>941.4</td>\n",
       "      <td>115.7</td>\n",
       "      <td>171.8</td>\n",
       "    </tr>\n",
       "    <tr>\n",
       "      <th>4</th>\n",
       "      <td>Jiangsu</td>\n",
       "      <td>10636.3</td>\n",
       "      <td>14397</td>\n",
       "      <td>3536.3</td>\n",
       "      <td>3967.2</td>\n",
       "      <td>2320.0</td>\n",
       "      <td>1141.3</td>\n",
       "      <td>3215.8</td>\n",
       "      <td>384.7</td>\n",
       "      <td>643.7</td>\n",
       "    </tr>\n",
       "  </tbody>\n",
       "</table>\n",
       "</div>"
      ],
      "text/plain": [
       "       AREA       X1     X2      X3      X4      X5      X6      X7     X8  \\\n",
       "0  Liaoning   5458.2  13000  1376.2  2258.4  1315.9   529.0  2258.4  123.7   \n",
       "1  Shandong  10550.0  11643  3502.5  3851.0  2288.7  1070.7  3181.9  211.1   \n",
       "2     Hebei   6076.6   9047  1406.7  2092.6  1161.6   597.1  1968.3   45.9   \n",
       "3   Tianjin   2022.6  22068   822.8   960.0   703.7   361.9   941.4  115.7   \n",
       "4   Jiangsu  10636.3  14397  3536.3  3967.2  2320.0  1141.3  3215.8  384.7   \n",
       "\n",
       "      X9  \n",
       "0  399.7  \n",
       "1  610.2  \n",
       "2  302.3  \n",
       "3  171.8  \n",
       "4  643.7  "
      ]
     },
     "execution_count": 16,
     "metadata": {},
     "output_type": "execute_result"
    }
   ],
   "source": [
    "cityDf = pd.read_csv('./data/clustering/cities_10.csv',header=0)\n",
    "cityDf.head()"
   ]
  },
  {
   "cell_type": "code",
   "execution_count": 17,
   "metadata": {
    "scrolled": true,
    "slideshow": {
     "slide_type": "fragment"
    }
   },
   "outputs": [
    {
     "data": {
      "text/html": [
       "<div>\n",
       "<style scoped>\n",
       "    .dataframe tbody tr th:only-of-type {\n",
       "        vertical-align: middle;\n",
       "    }\n",
       "\n",
       "    .dataframe tbody tr th {\n",
       "        vertical-align: top;\n",
       "    }\n",
       "\n",
       "    .dataframe thead th {\n",
       "        text-align: right;\n",
       "    }\n",
       "</style>\n",
       "<table border=\"1\" class=\"dataframe\">\n",
       "  <thead>\n",
       "    <tr style=\"text-align: right;\">\n",
       "      <th></th>\n",
       "      <th>X1</th>\n",
       "      <th>X2</th>\n",
       "      <th>X3</th>\n",
       "      <th>X4</th>\n",
       "      <th>X5</th>\n",
       "      <th>X6</th>\n",
       "      <th>X7</th>\n",
       "      <th>X8</th>\n",
       "      <th>X9</th>\n",
       "    </tr>\n",
       "    <tr>\n",
       "      <th>AREA</th>\n",
       "      <th></th>\n",
       "      <th></th>\n",
       "      <th></th>\n",
       "      <th></th>\n",
       "      <th></th>\n",
       "      <th></th>\n",
       "      <th></th>\n",
       "      <th></th>\n",
       "      <th></th>\n",
       "    </tr>\n",
       "  </thead>\n",
       "  <tbody>\n",
       "    <tr>\n",
       "      <th>Liaoning</th>\n",
       "      <td>5458.2</td>\n",
       "      <td>13000</td>\n",
       "      <td>1376.2</td>\n",
       "      <td>2258.4</td>\n",
       "      <td>1315.9</td>\n",
       "      <td>529.0</td>\n",
       "      <td>2258.4</td>\n",
       "      <td>123.7</td>\n",
       "      <td>399.7</td>\n",
       "    </tr>\n",
       "    <tr>\n",
       "      <th>Shandong</th>\n",
       "      <td>10550.0</td>\n",
       "      <td>11643</td>\n",
       "      <td>3502.5</td>\n",
       "      <td>3851.0</td>\n",
       "      <td>2288.7</td>\n",
       "      <td>1070.7</td>\n",
       "      <td>3181.9</td>\n",
       "      <td>211.1</td>\n",
       "      <td>610.2</td>\n",
       "    </tr>\n",
       "    <tr>\n",
       "      <th>Hebei</th>\n",
       "      <td>6076.6</td>\n",
       "      <td>9047</td>\n",
       "      <td>1406.7</td>\n",
       "      <td>2092.6</td>\n",
       "      <td>1161.6</td>\n",
       "      <td>597.1</td>\n",
       "      <td>1968.3</td>\n",
       "      <td>45.9</td>\n",
       "      <td>302.3</td>\n",
       "    </tr>\n",
       "    <tr>\n",
       "      <th>Tianjin</th>\n",
       "      <td>2022.6</td>\n",
       "      <td>22068</td>\n",
       "      <td>822.8</td>\n",
       "      <td>960.0</td>\n",
       "      <td>703.7</td>\n",
       "      <td>361.9</td>\n",
       "      <td>941.4</td>\n",
       "      <td>115.7</td>\n",
       "      <td>171.8</td>\n",
       "    </tr>\n",
       "    <tr>\n",
       "      <th>Jiangsu</th>\n",
       "      <td>10636.3</td>\n",
       "      <td>14397</td>\n",
       "      <td>3536.3</td>\n",
       "      <td>3967.2</td>\n",
       "      <td>2320.0</td>\n",
       "      <td>1141.3</td>\n",
       "      <td>3215.8</td>\n",
       "      <td>384.7</td>\n",
       "      <td>643.7</td>\n",
       "    </tr>\n",
       "    <tr>\n",
       "      <th>Shanghai</th>\n",
       "      <td>5408.8</td>\n",
       "      <td>40627</td>\n",
       "      <td>2196.2</td>\n",
       "      <td>2755.8</td>\n",
       "      <td>1970.2</td>\n",
       "      <td>779.3</td>\n",
       "      <td>2035.2</td>\n",
       "      <td>320.5</td>\n",
       "      <td>709.0</td>\n",
       "    </tr>\n",
       "    <tr>\n",
       "      <th>Zhejiang</th>\n",
       "      <td>7670.0</td>\n",
       "      <td>16570</td>\n",
       "      <td>2356.5</td>\n",
       "      <td>3065.0</td>\n",
       "      <td>2296.6</td>\n",
       "      <td>1180.6</td>\n",
       "      <td>2877.5</td>\n",
       "      <td>294.2</td>\n",
       "      <td>566.9</td>\n",
       "    </tr>\n",
       "    <tr>\n",
       "      <th>Fujian</th>\n",
       "      <td>4682.0</td>\n",
       "      <td>13510</td>\n",
       "      <td>1047.1</td>\n",
       "      <td>1859.0</td>\n",
       "      <td>964.5</td>\n",
       "      <td>397.9</td>\n",
       "      <td>1663.3</td>\n",
       "      <td>173.7</td>\n",
       "      <td>272.9</td>\n",
       "    </tr>\n",
       "    <tr>\n",
       "      <th>Guangdong</th>\n",
       "      <td>11769.7</td>\n",
       "      <td>15030</td>\n",
       "      <td>4224.6</td>\n",
       "      <td>4793.6</td>\n",
       "      <td>3022.9</td>\n",
       "      <td>1275.5</td>\n",
       "      <td>5013.6</td>\n",
       "      <td>1843.7</td>\n",
       "      <td>1201.6</td>\n",
       "    </tr>\n",
       "    <tr>\n",
       "      <th>Guangxi</th>\n",
       "      <td>2455.4</td>\n",
       "      <td>5062</td>\n",
       "      <td>367.0</td>\n",
       "      <td>995.7</td>\n",
       "      <td>542.2</td>\n",
       "      <td>352.7</td>\n",
       "      <td>1025.5</td>\n",
       "      <td>15.1</td>\n",
       "      <td>186.7</td>\n",
       "    </tr>\n",
       "  </tbody>\n",
       "</table>\n",
       "</div>"
      ],
      "text/plain": [
       "                X1     X2      X3      X4      X5      X6      X7      X8  \\\n",
       "AREA                                                                        \n",
       "Liaoning    5458.2  13000  1376.2  2258.4  1315.9   529.0  2258.4   123.7   \n",
       "Shandong   10550.0  11643  3502.5  3851.0  2288.7  1070.7  3181.9   211.1   \n",
       "Hebei       6076.6   9047  1406.7  2092.6  1161.6   597.1  1968.3    45.9   \n",
       "Tianjin     2022.6  22068   822.8   960.0   703.7   361.9   941.4   115.7   \n",
       "Jiangsu    10636.3  14397  3536.3  3967.2  2320.0  1141.3  3215.8   384.7   \n",
       "Shanghai    5408.8  40627  2196.2  2755.8  1970.2   779.3  2035.2   320.5   \n",
       "Zhejiang    7670.0  16570  2356.5  3065.0  2296.6  1180.6  2877.5   294.2   \n",
       "Fujian      4682.0  13510  1047.1  1859.0   964.5   397.9  1663.3   173.7   \n",
       "Guangdong  11769.7  15030  4224.6  4793.6  3022.9  1275.5  5013.6  1843.7   \n",
       "Guangxi     2455.4   5062   367.0   995.7   542.2   352.7  1025.5    15.1   \n",
       "\n",
       "               X9  \n",
       "AREA               \n",
       "Liaoning    399.7  \n",
       "Shandong    610.2  \n",
       "Hebei       302.3  \n",
       "Tianjin     171.8  \n",
       "Jiangsu     643.7  \n",
       "Shanghai    709.0  \n",
       "Zhejiang    566.9  \n",
       "Fujian      272.9  \n",
       "Guangdong  1201.6  \n",
       "Guangxi     186.7  "
      ]
     },
     "execution_count": 17,
     "metadata": {},
     "output_type": "execute_result"
    }
   ],
   "source": [
    "cityDf.set_index(cityDf.pop('AREA'),inplace=True)\n",
    "cityDf"
   ]
  },
  {
   "cell_type": "markdown",
   "metadata": {
    "slideshow": {
     "slide_type": "slide"
    }
   },
   "source": [
    "##### 绘制属性的箱型图，展示各个属性的取值范围"
   ]
  },
  {
   "cell_type": "code",
   "execution_count": 18,
   "metadata": {
    "scrolled": true,
    "slideshow": {
     "slide_type": "fragment"
    }
   },
   "outputs": [
    {
     "data": {
      "text/plain": [
       "<matplotlib.axes._subplots.AxesSubplot at 0x7f93d915c048>"
      ]
     },
     "execution_count": 18,
     "metadata": {},
     "output_type": "execute_result"
    },
    {
     "data": {
      "image/png": "[encoded data removed]",
      "text/plain": [
       "<Figure size 864x432 with 1 Axes>"
      ]
     },
     "metadata": {
      "needs_background": "light"
     },
     "output_type": "display_data"
    }
   ],
   "source": [
    "cityDf.plot(y=[f'X{i}' for i in range(1,10)],kind='box',figsize=(12,6))"
   ]
  },
  {
   "cell_type": "markdown",
   "metadata": {
    "slideshow": {
     "slide_type": "fragment"
    }
   },
   "source": [
    "- 各个属性取值范围差异较大，需要对数据进行标准化"
   ]
  },
  {
   "cell_type": "code",
   "execution_count": 19,
   "metadata": {
    "slideshow": {
     "slide_type": "slide"
    }
   },
   "outputs": [],
   "source": [
    "from sklearn.preprocessing import StandardScaler"
   ]
  },
  {
   "cell_type": "code",
   "execution_count": 20,
   "metadata": {
    "slideshow": {
     "slide_type": "fragment"
    }
   },
   "outputs": [
    {
     "data": {
      "text/plain": [
       "array([[-0.37574772, -0.33589708, -0.57070001, -0.33180084, -0.4351153 ,\n",
       "        -0.68608742, -0.13882664, -0.44958874, -0.36008526],\n",
       "       [ 1.19924012, -0.48315182,  1.14473196,  0.98455823,  0.79990984,\n",
       "         0.8650543 ,  0.66401891, -0.27809633,  0.34976628],\n",
       "       [-0.18446517, -0.76485655, -0.54609356, -0.46884237, -0.63100796,\n",
       "        -0.49108511, -0.39102534, -0.60224445, -0.68853914],\n",
       "       [-1.43844228,  0.6481162 , -1.01716572, -1.40498973, -1.21233816,\n",
       "        -1.16457327, -1.28376177, -0.46528598, -1.12861338],\n",
       "       [ 1.2259343 , -0.18430174,  1.17200074,  1.08060301,  0.83964698,\n",
       "         1.06721529,  0.6934899 ,  0.0625339 ,  0.46273553],\n",
       "       [-0.39102805,  2.66204455,  0.09085021,  0.07932373,  0.3955559 ,\n",
       "         0.03063913, -0.33286576, -0.06343649,  0.68294126],\n",
       "       [ 0.3084029 ,  0.05150118,  0.22017521,  0.33489213,  0.80993934,\n",
       "         1.17974966,  0.39938849, -0.11504119,  0.20374931],\n",
       "       [-0.61584072, -0.28055447, -0.83620754, -0.66192379, -0.88123767,\n",
       "        -1.06148835, -0.65617736, -0.35148095, -0.7876823 ],\n",
       "       [ 1.57651587, -0.11561179,  1.72729954,  1.76366162,  1.73201866,\n",
       "         1.45149297,  2.25640894,  2.92531908,  2.34409505],\n",
       "       [-1.30456925, -1.19728849, -1.38489083, -1.37548199, -1.41737163,\n",
       "        -1.19091719, -1.21064936, -0.66267885, -1.07836735]])"
      ]
     },
     "execution_count": 20,
     "metadata": {},
     "output_type": "execute_result"
    }
   ],
   "source": [
    "cityScaler = StandardScaler()\n",
    "cityX = cityScaler.fit_transform(cityDf)\n",
    "cityX"
   ]
  },
  {
   "cell_type": "markdown",
   "metadata": {
    "slideshow": {
     "slide_type": "slide"
    }
   },
   "source": [
    "#### 建立凝聚层次模型"
   ]
  },
  {
   "cell_type": "code",
   "execution_count": 21,
   "metadata": {
    "slideshow": {
     "slide_type": "fragment"
    }
   },
   "outputs": [],
   "source": [
    "from scipy.cluster import hierarchy"
   ]
  },
  {
   "cell_type": "code",
   "execution_count": 22,
   "metadata": {
    "slideshow": {
     "slide_type": "fragment"
    }
   },
   "outputs": [
    {
     "data": {
      "text/plain": [
       "array([[ 1.        ,  4.        ,  0.52163185,  2.        ],\n",
       "       [ 0.        ,  2.        ,  0.71496212,  2.        ],\n",
       "       [ 7.        , 11.        ,  1.02790917,  3.        ],\n",
       "       [ 6.        , 10.        ,  1.60180338,  3.        ],\n",
       "       [ 3.        ,  9.        ,  1.91026168,  2.        ],\n",
       "       [12.        , 14.        ,  2.18719558,  5.        ],\n",
       "       [ 5.        , 13.        ,  3.6865092 ,  4.        ],\n",
       "       [15.        , 16.        ,  4.35894698,  9.        ],\n",
       "       [ 8.        , 17.        ,  6.58954454, 10.        ]])"
      ]
     },
     "execution_count": 22,
     "metadata": {},
     "output_type": "execute_result"
    }
   ],
   "source": [
    "cityAve = hierarchy.linkage(cityX,method='average',metric='euclidean')\n",
    "cityAve"
   ]
  },
  {
   "cell_type": "code",
   "execution_count": 23,
   "metadata": {
    "slideshow": {
     "slide_type": "fragment"
    }
   },
   "outputs": [
    {
     "data": {
      "text/html": [
       "<div>\n",
       "<style scoped>\n",
       "    .dataframe tbody tr th:only-of-type {\n",
       "        vertical-align: middle;\n",
       "    }\n",
       "\n",
       "    .dataframe tbody tr th {\n",
       "        vertical-align: top;\n",
       "    }\n",
       "\n",
       "    .dataframe thead th {\n",
       "        text-align: right;\n",
       "    }\n",
       "</style>\n",
       "<table border=\"1\" class=\"dataframe\">\n",
       "  <thead>\n",
       "    <tr style=\"text-align: right;\">\n",
       "      <th></th>\n",
       "      <th>行号</th>\n",
       "      <th>行号</th>\n",
       "      <th>距离</th>\n",
       "      <th>簇中包含的样本数量</th>\n",
       "    </tr>\n",
       "  </thead>\n",
       "  <tbody>\n",
       "    <tr>\n",
       "      <th>簇0</th>\n",
       "      <td>1.0</td>\n",
       "      <td>4.0</td>\n",
       "      <td>0.521632</td>\n",
       "      <td>2.0</td>\n",
       "    </tr>\n",
       "    <tr>\n",
       "      <th>簇1</th>\n",
       "      <td>0.0</td>\n",
       "      <td>2.0</td>\n",
       "      <td>0.714962</td>\n",
       "      <td>2.0</td>\n",
       "    </tr>\n",
       "    <tr>\n",
       "      <th>簇2</th>\n",
       "      <td>7.0</td>\n",
       "      <td>11.0</td>\n",
       "      <td>1.027909</td>\n",
       "      <td>3.0</td>\n",
       "    </tr>\n",
       "    <tr>\n",
       "      <th>簇3</th>\n",
       "      <td>6.0</td>\n",
       "      <td>10.0</td>\n",
       "      <td>1.601803</td>\n",
       "      <td>3.0</td>\n",
       "    </tr>\n",
       "    <tr>\n",
       "      <th>簇4</th>\n",
       "      <td>3.0</td>\n",
       "      <td>9.0</td>\n",
       "      <td>1.910262</td>\n",
       "      <td>2.0</td>\n",
       "    </tr>\n",
       "    <tr>\n",
       "      <th>簇5</th>\n",
       "      <td>12.0</td>\n",
       "      <td>14.0</td>\n",
       "      <td>2.187196</td>\n",
       "      <td>5.0</td>\n",
       "    </tr>\n",
       "    <tr>\n",
       "      <th>簇6</th>\n",
       "      <td>5.0</td>\n",
       "      <td>13.0</td>\n",
       "      <td>3.686509</td>\n",
       "      <td>4.0</td>\n",
       "    </tr>\n",
       "    <tr>\n",
       "      <th>簇7</th>\n",
       "      <td>15.0</td>\n",
       "      <td>16.0</td>\n",
       "      <td>4.358947</td>\n",
       "      <td>9.0</td>\n",
       "    </tr>\n",
       "    <tr>\n",
       "      <th>簇8</th>\n",
       "      <td>8.0</td>\n",
       "      <td>17.0</td>\n",
       "      <td>6.589545</td>\n",
       "      <td>10.0</td>\n",
       "    </tr>\n",
       "  </tbody>\n",
       "</table>\n",
       "</div>"
      ],
      "text/plain": [
       "      行号    行号        距离  簇中包含的样本数量\n",
       "簇0   1.0   4.0  0.521632        2.0\n",
       "簇1   0.0   2.0  0.714962        2.0\n",
       "簇2   7.0  11.0  1.027909        3.0\n",
       "簇3   6.0  10.0  1.601803        3.0\n",
       "簇4   3.0   9.0  1.910262        2.0\n",
       "簇5  12.0  14.0  2.187196        5.0\n",
       "簇6   5.0  13.0  3.686509        4.0\n",
       "簇7  15.0  16.0  4.358947        9.0\n",
       "簇8   8.0  17.0  6.589545       10.0"
      ]
     },
     "execution_count": 23,
     "metadata": {},
     "output_type": "execute_result"
    }
   ],
   "source": [
    "pd.DataFrame(cityAve,columns=['行号','行号','距离','簇中包含的样本数量'],index=[f'簇{i}' for i in range(cityAve.shape[0])])"
   ]
  },
  {
   "cell_type": "markdown",
   "metadata": {
    "slideshow": {
     "slide_type": "slide"
    }
   },
   "source": [
    "#### 树状图展示"
   ]
  },
  {
   "cell_type": "markdown",
   "metadata": {
    "slideshow": {
     "slide_type": "fragment"
    }
   },
   "source": [
    "```python\n",
    "from scipy.cluster import hierarchy\n",
    "hierarchy.dendrogram(Z, orientation='top', labels=None, ax=None)\n",
    "```\n",
    "- `Z`：`linkage`矩阵，层次聚类结果\n",
    "- `orientation`：根结点的位置，可选`{\"top\", \"bottom\",\"left\",\"right\"}\n",
    "- `labels`：原始数据点的标签，默认为`None`，即原始数据样本默认的行标签\n",
    "- `ax`：`matplotlib Axes`对象"
   ]
  },
  {
   "cell_type": "code",
   "execution_count": 24,
   "metadata": {
    "slideshow": {
     "slide_type": "fragment"
    }
   },
   "outputs": [],
   "source": [
    "import matplotlib.pyplot as plt "
   ]
  },
  {
   "cell_type": "code",
   "execution_count": 25,
   "metadata": {
    "scrolled": true,
    "slideshow": {
     "slide_type": "fragment"
    }
   },
   "outputs": [
    {
     "data": {
      "image/png": "[encoded data removed]",
      "text/plain": [
       "<Figure size 864x432 with 1 Axes>"
      ]
     },
     "metadata": {
      "needs_background": "light"
     },
     "output_type": "display_data"
    }
   ],
   "source": [
    "fig, ax = plt.subplots(figsize=(12,6))\n",
    "cityDn = hierarchy.dendrogram(cityAve,ax=ax,labels=cityDf.index)\n",
    "plt.show()"
   ]
  },
  {
   "cell_type": "markdown",
   "metadata": {
    "slideshow": {
     "slide_type": "slide"
    }
   },
   "source": [
    "#### 三种近邻性度量比较"
   ]
  },
  {
   "cell_type": "code",
   "execution_count": 26,
   "metadata": {
    "scrolled": true,
    "slideshow": {
     "slide_type": "fragment"
    }
   },
   "outputs": [
    {
     "data": {
      "image/png": "[encoded data removed]",
      "text/plain": [
       "<Figure size 864x864 with 3 Axes>"
      ]
     },
     "metadata": {
      "needs_background": "light"
     },
     "output_type": "display_data"
    }
   ],
   "source": [
    "cityLinkages = []\n",
    "fig,axes = plt.subplots(3,1,figsize=(12,12))\n",
    "for idx,linkage in enumerate(['single','complete','average']):\n",
    "    lnk = hierarchy.linkage(cityX,method=linkage,metric='euclidean')\n",
    "    dn = hierarchy.dendrogram(lnk,ax=axes[idx],labels=cityDf.index)\n",
    "plt.show()"
   ]
  },
  {
   "cell_type": "markdown",
   "metadata": {
    "slideshow": {
     "slide_type": "slide"
    }
   },
   "source": [
    "#### `sklearn`中的凝聚层次聚类"
   ]
  },
  {
   "cell_type": "markdown",
   "metadata": {
    "slideshow": {
     "slide_type": "fragment"
    }
   },
   "source": [
    "```python\n",
    "from sklearn.cluster import AgglomerativeClustering\n",
    "AgglomerativeClustering(n_clusters=2, affinity=’euclidean’, linkage=’ward’)\n",
    "```\n",
    "- `n_clusters`：`int`类型，簇的个数\n",
    "- `affinity`：近邻度的度量，可以选择`'euclidean', 'manhattan', 'cosine'`等\n",
    "- `linkage`：`str`类型，簇之间的链接类型，可以选择`'ward', 'complete', 'average', 'single'`"
   ]
  },
  {
   "cell_type": "markdown",
   "metadata": {
    "slideshow": {
     "slide_type": "fragment"
    }
   },
   "source": [
    "> 利用`AgglomerativeClustering`对凝聚层次聚类剪枝"
   ]
  },
  {
   "cell_type": "markdown",
   "metadata": {
    "slideshow": {
     "slide_type": "slide"
    }
   },
   "source": [
    "##### 建立凝聚层次模型"
   ]
  },
  {
   "cell_type": "code",
   "execution_count": 27,
   "metadata": {
    "slideshow": {
     "slide_type": "fragment"
    }
   },
   "outputs": [],
   "source": [
    "from sklearn.cluster import AgglomerativeClustering"
   ]
  },
  {
   "cell_type": "code",
   "execution_count": 28,
   "metadata": {
    "slideshow": {
     "slide_type": "fragment"
    }
   },
   "outputs": [
    {
     "data": {
      "text/plain": [
       "AgglomerativeClustering(affinity='euclidean', compute_full_tree='auto',\n",
       "                        connectivity=None, distance_threshold=None,\n",
       "                        linkage='average', memory=None, n_clusters=4)"
      ]
     },
     "execution_count": 28,
     "metadata": {},
     "output_type": "execute_result"
    }
   ],
   "source": [
    "cityAc = AgglomerativeClustering(n_clusters=4,affinity='euclidean',linkage='average')\n",
    "cityAc"
   ]
  },
  {
   "cell_type": "markdown",
   "metadata": {
    "slideshow": {
     "slide_type": "slide"
    }
   },
   "source": [
    "##### 训练模型并预测样本所属的簇"
   ]
  },
  {
   "cell_type": "code",
   "execution_count": 29,
   "metadata": {
    "slideshow": {
     "slide_type": "fragment"
    }
   },
   "outputs": [
    {
     "data": {
      "text/plain": [
       "array([0, 2, 0, 0, 2, 3, 2, 0, 1, 0])"
      ]
     },
     "execution_count": 29,
     "metadata": {},
     "output_type": "execute_result"
    }
   ],
   "source": [
    "cityLabels = cityAc.fit_predict(cityX)\n",
    "cityLabels"
   ]
  },
  {
   "cell_type": "code",
   "execution_count": 30,
   "metadata": {
    "slideshow": {
     "slide_type": "fragment"
    }
   },
   "outputs": [
    {
     "data": {
      "text/html": [
       "<div>\n",
       "<style scoped>\n",
       "    .dataframe tbody tr th:only-of-type {\n",
       "        vertical-align: middle;\n",
       "    }\n",
       "\n",
       "    .dataframe tbody tr th {\n",
       "        vertical-align: top;\n",
       "    }\n",
       "\n",
       "    .dataframe thead th {\n",
       "        text-align: right;\n",
       "    }\n",
       "</style>\n",
       "<table border=\"1\" class=\"dataframe\">\n",
       "  <thead>\n",
       "    <tr style=\"text-align: right;\">\n",
       "      <th></th>\n",
       "      <th>X1</th>\n",
       "      <th>X2</th>\n",
       "      <th>X3</th>\n",
       "      <th>X4</th>\n",
       "      <th>X5</th>\n",
       "      <th>X6</th>\n",
       "      <th>X7</th>\n",
       "      <th>X8</th>\n",
       "      <th>X9</th>\n",
       "      <th>cluster</th>\n",
       "    </tr>\n",
       "    <tr>\n",
       "      <th>AREA</th>\n",
       "      <th></th>\n",
       "      <th></th>\n",
       "      <th></th>\n",
       "      <th></th>\n",
       "      <th></th>\n",
       "      <th></th>\n",
       "      <th></th>\n",
       "      <th></th>\n",
       "      <th></th>\n",
       "      <th></th>\n",
       "    </tr>\n",
       "  </thead>\n",
       "  <tbody>\n",
       "    <tr>\n",
       "      <th>Liaoning</th>\n",
       "      <td>5458.2</td>\n",
       "      <td>13000</td>\n",
       "      <td>1376.2</td>\n",
       "      <td>2258.4</td>\n",
       "      <td>1315.9</td>\n",
       "      <td>529.0</td>\n",
       "      <td>2258.4</td>\n",
       "      <td>123.7</td>\n",
       "      <td>399.7</td>\n",
       "      <td>0</td>\n",
       "    </tr>\n",
       "    <tr>\n",
       "      <th>Shandong</th>\n",
       "      <td>10550.0</td>\n",
       "      <td>11643</td>\n",
       "      <td>3502.5</td>\n",
       "      <td>3851.0</td>\n",
       "      <td>2288.7</td>\n",
       "      <td>1070.7</td>\n",
       "      <td>3181.9</td>\n",
       "      <td>211.1</td>\n",
       "      <td>610.2</td>\n",
       "      <td>2</td>\n",
       "    </tr>\n",
       "    <tr>\n",
       "      <th>Hebei</th>\n",
       "      <td>6076.6</td>\n",
       "      <td>9047</td>\n",
       "      <td>1406.7</td>\n",
       "      <td>2092.6</td>\n",
       "      <td>1161.6</td>\n",
       "      <td>597.1</td>\n",
       "      <td>1968.3</td>\n",
       "      <td>45.9</td>\n",
       "      <td>302.3</td>\n",
       "      <td>0</td>\n",
       "    </tr>\n",
       "    <tr>\n",
       "      <th>Tianjin</th>\n",
       "      <td>2022.6</td>\n",
       "      <td>22068</td>\n",
       "      <td>822.8</td>\n",
       "      <td>960.0</td>\n",
       "      <td>703.7</td>\n",
       "      <td>361.9</td>\n",
       "      <td>941.4</td>\n",
       "      <td>115.7</td>\n",
       "      <td>171.8</td>\n",
       "      <td>0</td>\n",
       "    </tr>\n",
       "    <tr>\n",
       "      <th>Jiangsu</th>\n",
       "      <td>10636.3</td>\n",
       "      <td>14397</td>\n",
       "      <td>3536.3</td>\n",
       "      <td>3967.2</td>\n",
       "      <td>2320.0</td>\n",
       "      <td>1141.3</td>\n",
       "      <td>3215.8</td>\n",
       "      <td>384.7</td>\n",
       "      <td>643.7</td>\n",
       "      <td>2</td>\n",
       "    </tr>\n",
       "    <tr>\n",
       "      <th>Shanghai</th>\n",
       "      <td>5408.8</td>\n",
       "      <td>40627</td>\n",
       "      <td>2196.2</td>\n",
       "      <td>2755.8</td>\n",
       "      <td>1970.2</td>\n",
       "      <td>779.3</td>\n",
       "      <td>2035.2</td>\n",
       "      <td>320.5</td>\n",
       "      <td>709.0</td>\n",
       "      <td>3</td>\n",
       "    </tr>\n",
       "    <tr>\n",
       "      <th>Zhejiang</th>\n",
       "      <td>7670.0</td>\n",
       "      <td>16570</td>\n",
       "      <td>2356.5</td>\n",
       "      <td>3065.0</td>\n",
       "      <td>2296.6</td>\n",
       "      <td>1180.6</td>\n",
       "      <td>2877.5</td>\n",
       "      <td>294.2</td>\n",
       "      <td>566.9</td>\n",
       "      <td>2</td>\n",
       "    </tr>\n",
       "    <tr>\n",
       "      <th>Fujian</th>\n",
       "      <td>4682.0</td>\n",
       "      <td>13510</td>\n",
       "      <td>1047.1</td>\n",
       "      <td>1859.0</td>\n",
       "      <td>964.5</td>\n",
       "      <td>397.9</td>\n",
       "      <td>1663.3</td>\n",
       "      <td>173.7</td>\n",
       "      <td>272.9</td>\n",
       "      <td>0</td>\n",
       "    </tr>\n",
       "    <tr>\n",
       "      <th>Guangdong</th>\n",
       "      <td>11769.7</td>\n",
       "      <td>15030</td>\n",
       "      <td>4224.6</td>\n",
       "      <td>4793.6</td>\n",
       "      <td>3022.9</td>\n",
       "      <td>1275.5</td>\n",
       "      <td>5013.6</td>\n",
       "      <td>1843.7</td>\n",
       "      <td>1201.6</td>\n",
       "      <td>1</td>\n",
       "    </tr>\n",
       "    <tr>\n",
       "      <th>Guangxi</th>\n",
       "      <td>2455.4</td>\n",
       "      <td>5062</td>\n",
       "      <td>367.0</td>\n",
       "      <td>995.7</td>\n",
       "      <td>542.2</td>\n",
       "      <td>352.7</td>\n",
       "      <td>1025.5</td>\n",
       "      <td>15.1</td>\n",
       "      <td>186.7</td>\n",
       "      <td>0</td>\n",
       "    </tr>\n",
       "  </tbody>\n",
       "</table>\n",
       "</div>"
      ],
      "text/plain": [
       "                X1     X2      X3      X4      X5      X6      X7      X8  \\\n",
       "AREA                                                                        \n",
       "Liaoning    5458.2  13000  1376.2  2258.4  1315.9   529.0  2258.4   123.7   \n",
       "Shandong   10550.0  11643  3502.5  3851.0  2288.7  1070.7  3181.9   211.1   \n",
       "Hebei       6076.6   9047  1406.7  2092.6  1161.6   597.1  1968.3    45.9   \n",
       "Tianjin     2022.6  22068   822.8   960.0   703.7   361.9   941.4   115.7   \n",
       "Jiangsu    10636.3  14397  3536.3  3967.2  2320.0  1141.3  3215.8   384.7   \n",
       "Shanghai    5408.8  40627  2196.2  2755.8  1970.2   779.3  2035.2   320.5   \n",
       "Zhejiang    7670.0  16570  2356.5  3065.0  2296.6  1180.6  2877.5   294.2   \n",
       "Fujian      4682.0  13510  1047.1  1859.0   964.5   397.9  1663.3   173.7   \n",
       "Guangdong  11769.7  15030  4224.6  4793.6  3022.9  1275.5  5013.6  1843.7   \n",
       "Guangxi     2455.4   5062   367.0   995.7   542.2   352.7  1025.5    15.1   \n",
       "\n",
       "               X9  cluster  \n",
       "AREA                        \n",
       "Liaoning    399.7        0  \n",
       "Shandong    610.2        2  \n",
       "Hebei       302.3        0  \n",
       "Tianjin     171.8        0  \n",
       "Jiangsu     643.7        2  \n",
       "Shanghai    709.0        3  \n",
       "Zhejiang    566.9        2  \n",
       "Fujian      272.9        0  \n",
       "Guangdong  1201.6        1  \n",
       "Guangxi     186.7        0  "
      ]
     },
     "execution_count": 30,
     "metadata": {},
     "output_type": "execute_result"
    }
   ],
   "source": [
    "cityDf['cluster']=cityLabels\n",
    "cityDf"
   ]
  },
  {
   "cell_type": "markdown",
   "metadata": {
    "slideshow": {
     "slide_type": "slide"
    }
   },
   "source": [
    "## 基于密度的聚类"
   ]
  },
  {
   "cell_type": "markdown",
   "metadata": {
    "slideshow": {
     "slide_type": "fragment"
    }
   },
   "source": [
    "### 基本概念"
   ]
  },
  {
   "cell_type": "markdown",
   "metadata": {
    "slideshow": {
     "slide_type": "fragment"
    }
   },
   "source": [
    "> Density-Based Spatial Clustering of Applications with Noise（DBSCAN）"
   ]
  },
  {
   "cell_type": "markdown",
   "metadata": {
    "slideshow": {
     "slide_type": "fragment"
    }
   },
   "source": [
    "<dl class=\"row alert-danger\">\n",
    "    <dt class=\"col-xl-4\">密度</dt>\n",
    "    <dd class=\"col-xl-8\">在一定半径（$Eps$）之内的数据点的个数</dd>\n",
    "</dl>"
   ]
  },
  {
   "cell_type": "markdown",
   "metadata": {
    "slideshow": {
     "slide_type": "fragment"
    }
   },
   "source": [
    "##### 点分类"
   ]
  },
  {
   "cell_type": "markdown",
   "metadata": {
    "slideshow": {
     "slide_type": "fragment"
    }
   },
   "source": [
    "<dl class=\"row alert-danger\">\n",
    "    <dt class=\"col-xl-4\">核心点(core point)</dt>\n",
    "    <dd class=\"col-xl-8\">该点的邻域（$Eps$）内包含的数据点的个数超过指定的阈值（$MinPts$）</dd>\n",
    "</dl>"
   ]
  },
  {
   "cell_type": "markdown",
   "metadata": {
    "slideshow": {
     "slide_type": "fragment"
    }
   },
   "source": [
    "<dl class=\"row alert-info\">\n",
    "    <dt class=\"col-xl-4\">边界点(border point)</dt>\n",
    "    <dd class=\"col-xl-8\">不是核心点，但是落在核心点的邻域($Eps$)内</dd>\n",
    "</dl>"
   ]
  },
  {
   "cell_type": "markdown",
   "metadata": {
    "slideshow": {
     "slide_type": "fragment"
    }
   },
   "source": [
    "<dl class=\"row alert-success\">\n",
    "    <dt class=\"col-xl-4\">噪声点(noise point)</dt>\n",
    "    <dd class=\"col-xl-8\">既非核心点也非边界点</dd>\n",
    "</dl>"
   ]
  },
  {
   "cell_type": "markdown",
   "metadata": {
    "slideshow": {
     "slide_type": "subslide"
    }
   },
   "source": [
    "<center><img src=\"./img/clustering/densityPoints.gif\" width=60%></center>"
   ]
  },
  {
   "cell_type": "markdown",
   "metadata": {
    "slideshow": {
     "slide_type": "slide"
    }
   },
   "source": [
    "### 基本算法"
   ]
  },
  {
   "cell_type": "markdown",
   "metadata": {
    "slideshow": {
     "slide_type": "fragment"
    }
   },
   "source": [
    "1. 将所有点标记为核心点、边界点、噪声点\n",
    "2. 删除噪声点\n",
    "3. 连接距离在$Eps$之内的所有核心点\n",
    "4. 每组连通的核心点形成一个簇\n",
    "5. 将每个边界点指派到一个与之关联的核心点的簇中"
   ]
  },
  {
   "cell_type": "markdown",
   "metadata": {
    "slideshow": {
     "slide_type": "slide"
    }
   },
   "source": [
    "### 优势"
   ]
  },
  {
   "cell_type": "markdown",
   "metadata": {
    "slideshow": {
     "slide_type": "fragment"
    }
   },
   "source": [
    "- 不像$K$均值方法对簇的形状有要求"
   ]
  },
  {
   "cell_type": "markdown",
   "metadata": {
    "slideshow": {
     "slide_type": "fragment"
    }
   },
   "source": [
    "- 不像$K$均值和层次聚类，需要将每个数据点（样本）归到一个簇中，可以去除噪声点"
   ]
  },
  {
   "cell_type": "markdown",
   "metadata": {
    "slideshow": {
     "slide_type": "fragment"
    }
   },
   "source": [
    "### 不足"
   ]
  },
  {
   "cell_type": "markdown",
   "metadata": {
    "slideshow": {
     "slide_type": "fragment"
    }
   },
   "source": [
    "- 不适用簇的密度变化较大的情况"
   ]
  },
  {
   "cell_type": "markdown",
   "metadata": {
    "slideshow": {
     "slide_type": "fragment"
    }
   },
   "source": [
    "<center><img src=\"./img/clustering/varyingDensity.GIF\" width=40%></center>\n",
    "明暗表明密度\n",
    "\n",
    "簇A和B周围噪声的密度与簇C和D的密度一致"
   ]
  },
  {
   "cell_type": "markdown",
   "metadata": {
    "slideshow": {
     "slide_type": "fragment"
    }
   },
   "source": [
    "- 如果$Eps$过大，DBSCAN能够识别簇A和簇B，但是会将簇C和D识别为噪声"
   ]
  },
  {
   "cell_type": "markdown",
   "metadata": {
    "slideshow": {
     "slide_type": "fragment"
    }
   },
   "source": [
    "- 如果$Eps$过小，DBSCAN能够识别簇C和D，但是簇A和B以及它们周围的噪声将被识别为一个单一簇"
   ]
  },
  {
   "cell_type": "markdown",
   "metadata": {
    "slideshow": {
     "slide_type": "slide"
    }
   },
   "source": [
    "### DBSCAN的`Python`实现"
   ]
  },
  {
   "cell_type": "markdown",
   "metadata": {
    "slideshow": {
     "slide_type": "fragment"
    }
   },
   "source": [
    "```python\n",
    "from sklearn.cluster import DBSCAN\n",
    "DBSCAN(eps=0.5, min_samples=5, metric='euclidean', n_jobs=None)\n",
    "```\n",
    "- `eps`：`float`类型，半径，两个数据点被认为属于同一个邻域的最大距离\n",
    "- `min_samples`：`int`类型，核心点所在邻域所要包含的数据点的最小数量，核心点包括在内\n",
    "- `metric`：距离的度量，可以选择`'minkowski','euclidean'`等"
   ]
  },
  {
   "cell_type": "markdown",
   "metadata": {
    "slideshow": {
     "slide_type": "slide"
    }
   },
   "source": [
    "#### 建立DBSCAN模型"
   ]
  },
  {
   "cell_type": "code",
   "execution_count": 31,
   "metadata": {
    "slideshow": {
     "slide_type": "fragment"
    }
   },
   "outputs": [],
   "source": [
    "from sklearn.cluster import DBSCAN"
   ]
  },
  {
   "cell_type": "code",
   "execution_count": 32,
   "metadata": {
    "slideshow": {
     "slide_type": "fragment"
    }
   },
   "outputs": [],
   "source": [
    "irisDB = DBSCAN(eps=1,min_samples=30,metric='euclidean',n_jobs=-1)"
   ]
  },
  {
   "cell_type": "markdown",
   "metadata": {
    "slideshow": {
     "slide_type": "slide"
    }
   },
   "source": [
    "#### 训练模型并预测样本所属簇"
   ]
  },
  {
   "cell_type": "code",
   "execution_count": 33,
   "metadata": {
    "slideshow": {
     "slide_type": "fragment"
    }
   },
   "outputs": [
    {
     "data": {
      "text/plain": [
       "array([ 0,  0,  0,  0,  0,  0,  0,  0,  0,  0,  0,  0,  0,  0,  0,  0,  0,\n",
       "        0,  0,  0,  0,  0,  0,  0,  0,  0,  0,  0,  0,  0,  0,  0,  0,  0,\n",
       "        0,  0,  0,  0,  0,  0,  0,  0,  0,  0,  0,  0,  0,  0,  0,  0,  1,\n",
       "        1,  1,  1,  1,  1,  1,  1,  1,  1,  1,  1,  1,  1,  1,  1,  1,  1,\n",
       "        1,  1,  1,  1,  1,  1,  1,  1,  1,  1,  1,  1,  1,  1,  1,  1,  1,\n",
       "        1,  1,  1,  1,  1,  1,  1,  1,  1,  1,  1,  1,  1, -1,  1,  1,  1,\n",
       "        1,  1,  1, -1,  1,  1,  1,  1,  1,  1,  1,  1,  1,  1,  1, -1, -1,\n",
       "        1,  1,  1, -1,  1,  1,  1,  1,  1,  1,  1,  1, -1,  1,  1,  1,  1,\n",
       "        1,  1,  1,  1,  1,  1,  1,  1,  1,  1,  1,  1,  1,  1])"
      ]
     },
     "execution_count": 33,
     "metadata": {},
     "output_type": "execute_result"
    }
   ],
   "source": [
    "irisLabelsDB = irisDB.fit_predict(irisX)\n",
    "irisLabelsDB"
   ]
  },
  {
   "cell_type": "markdown",
   "metadata": {
    "slideshow": {
     "slide_type": "fragment"
    }
   },
   "source": [
    "- $-1$表示是噪声"
   ]
  },
  {
   "cell_type": "markdown",
   "metadata": {
    "slideshow": {
     "slide_type": "slide"
    }
   },
   "source": [
    "## 聚类检验"
   ]
  },
  {
   "cell_type": "markdown",
   "metadata": {
    "slideshow": {
     "slide_type": "fragment"
    }
   },
   "source": [
    "<dl class=\"row alert-info\">\n",
    "    <dt class=\"col-md-4\">聚类检验</dt>\n",
    "    <dd class=\"col-md-8\">检验聚类效果的优劣</dd>\n",
    "</dl>"
   ]
  },
  {
   "cell_type": "markdown",
   "metadata": {
    "slideshow": {
     "slide_type": "fragment"
    }
   },
   "source": [
    "- 评估指标\n",
    "    + 监督评估，利用外部信息（例如类别）来判断聚类效果的优劣\n",
    "    + 非监督评估：利用数据本身的信息来判断"
   ]
  },
  {
   "cell_type": "markdown",
   "metadata": {
    "slideshow": {
     "slide_type": "slide"
    }
   },
   "source": [
    "### 非监督评估"
   ]
  },
  {
   "cell_type": "markdown",
   "metadata": {
    "slideshow": {
     "slide_type": "fragment"
    }
   },
   "source": [
    "<dl class=\"row alert-info\">\n",
    "    <dt class=\"col-lg-4\">凝聚度(cohesion)</dt>\n",
    "    <dd class=\"col-lg-8\">簇内数据点之间的密切程度</dd>\n",
    "</dl>"
   ]
  },
  {
   "cell_type": "markdown",
   "metadata": {
    "slideshow": {
     "slide_type": "fragment"
    }
   },
   "source": [
    "- 可以是簇内各个数据点之间距离的均值"
   ]
  },
  {
   "cell_type": "markdown",
   "metadata": {
    "slideshow": {
     "slide_type": "fragment"
    }
   },
   "source": [
    "<dl class=\"row alert-danger\">\n",
    "    <dt class=\"col-lg-4\">分离度(separation)</dt>\n",
    "    <dd class=\"col-lg-8\">某个簇不同于其他簇的程度</dd>\n",
    "</dl>"
   ]
  },
  {
   "cell_type": "markdown",
   "metadata": {
    "slideshow": {
     "slide_type": "fragment"
    }
   },
   "source": [
    "- 不同簇的数据点之间的距离的均值"
   ]
  },
  {
   "cell_type": "markdown",
   "metadata": {
    "cell_style": "split",
    "slideshow": {
     "slide_type": "fragment"
    }
   },
   "source": [
    "<center><img src=\"./img/clustering/cohesionSeparation.png\" width=60%></center>"
   ]
  },
  {
   "cell_type": "markdown",
   "metadata": {
    "slideshow": {
     "slide_type": "slide"
    }
   },
   "source": [
    "### 轮廓系数（silhouette coefficient）"
   ]
  },
  {
   "cell_type": "markdown",
   "metadata": {
    "cell_style": "split",
    "slideshow": {
     "slide_type": "fragment"
    }
   },
   "source": [
    "<center><img src=\"./img/clustering/silhouette.png\" width=40%></center>"
   ]
  },
  {
   "cell_type": "markdown",
   "metadata": {
    "cell_style": "split",
    "slideshow": {
     "slide_type": "fragment"
    }
   },
   "source": [
    "- $a_i$是第$i$个数据对象到所属簇中其他所有数据对象距离的平均值"
   ]
  },
  {
   "cell_type": "markdown",
   "metadata": {
    "cell_style": "split",
    "slideshow": {
     "slide_type": "fragment"
    }
   },
   "source": [
    "- 计算第$i$个数据对象到给定簇(**非所属簇**)中所有数据对象距离的平均值\n",
    "- 所有$K-1$（$K$为簇的数量）个这样的值中的最小值定义为$b_i$"
   ]
  },
  {
   "cell_type": "markdown",
   "metadata": {
    "cell_style": "split",
    "slideshow": {
     "slide_type": "fragment"
    }
   },
   "source": [
    "$$\n",
    "s_i = \\frac{b_i-a_i}{\\max(a_i,b_i)}\n",
    "$$\n",
    "\n",
    "$s_i\\in[-1,1]$"
   ]
  },
  {
   "cell_type": "markdown",
   "metadata": {
    "slideshow": {
     "slide_type": "fragment"
    }
   },
   "source": [
    "- 轮廓系数越接近1越好\n",
    "- 0表示两个簇重合\n",
    "- -1表示数据点被分配到了错误的簇中"
   ]
  },
  {
   "cell_type": "markdown",
   "metadata": {
    "slideshow": {
     "slide_type": "slide"
    }
   },
   "source": [
    "#### `Python`实现"
   ]
  },
  {
   "cell_type": "markdown",
   "metadata": {
    "slideshow": {
     "slide_type": "fragment"
    }
   },
   "source": [
    "```python\n",
    "from sklearn.metrics import silouette_samples, silhouette_score\n",
    "```"
   ]
  },
  {
   "cell_type": "markdown",
   "metadata": {
    "slideshow": {
     "slide_type": "fragment"
    }
   },
   "source": [
    "```python\n",
    "silhouette_samples(X, labels, metric=’euclidean’)\n",
    "```\n",
    "- `X`：用于聚类的数据\n",
    "- `labels`：用聚类技术计算的每个数据样本所属的簇\n",
    "- 返回值：由所有样本的轮廓系数构成的数据，形状为`[n_samples]`"
   ]
  },
  {
   "cell_type": "markdown",
   "metadata": {
    "slideshow": {
     "slide_type": "fragment"
    }
   },
   "source": [
    "```python\n",
    "silhouette_score(X, labels, metric=’euclidean’)\n",
    "```\n",
    "- `X`：用于聚类的数据\n",
    "- `labels`：用聚类技术计算的每个数据样本所属的簇\n",
    "- 返回值：`float`类型，所有数据样本的轮廓系数的平均值"
   ]
  },
  {
   "cell_type": "code",
   "execution_count": 34,
   "metadata": {
    "slideshow": {
     "slide_type": "slide"
    }
   },
   "outputs": [],
   "source": [
    "from sklearn.metrics import silhouette_samples, silhouette_score"
   ]
  },
  {
   "cell_type": "code",
   "execution_count": 35,
   "metadata": {
    "slideshow": {
     "slide_type": "fragment"
    }
   },
   "outputs": [
    {
     "data": {
      "text/plain": [
       "array([0.85157298, 0.817887  , 0.83008729, 0.8065908 , 0.84699565,\n",
       "       0.74628444, 0.8210796 , 0.85340748, 0.75384818, 0.82895302,\n",
       "       0.80150542, 0.83563957, 0.81325176, 0.74707696, 0.70091086,\n",
       "       0.64149392, 0.77354754, 0.84964579, 0.70548523, 0.8178354 ,\n",
       "       0.78413148, 0.8237893 , 0.79157875, 0.79422255, 0.77521625,\n",
       "       0.80130908, 0.8329435 , 0.84096492, 0.84314169, 0.81915866,\n",
       "       0.81735915, 0.79854746, 0.76017812, 0.71993736, 0.82895302,\n",
       "       0.83285788, 0.79335138, 0.82895302, 0.7698255 , 0.84989778,\n",
       "       0.84788216, 0.6413782 , 0.78707116, 0.7991425 , 0.74523195,\n",
       "       0.81162359, 0.81106264, 0.8198735 , 0.81643527, 0.85237895,\n",
       "       0.02672203, 0.38118643, 0.05340075, 0.59294381, 0.36885321,\n",
       "       0.59221025, 0.28232583, 0.26365142, 0.34419223, 0.57829491,\n",
       "       0.3733641 , 0.58710354, 0.55107857, 0.48216686, 0.56268236,\n",
       "       0.32459291, 0.55751057, 0.61072967, 0.46149897, 0.6115753 ,\n",
       "       0.32909528, 0.58968904, 0.31046301, 0.49424779, 0.5000461 ,\n",
       "       0.38548959, 0.12629433, 0.11798213, 0.55293611, 0.50620254,\n",
       "       0.59466094, 0.56000896, 0.61972579, 0.26087292, 0.54077013,\n",
       "       0.41598629, 0.16655431, 0.48935747, 0.60716023, 0.61436443,\n",
       "       0.59560929, 0.50352722, 0.62444848, 0.29200997, 0.62754454,\n",
       "       0.60657448, 0.62205599, 0.55780204, 0.13937138, 0.63064081,\n",
       "       0.49927538, 0.23225278, 0.61193633, 0.36075942, 0.5577792 ,\n",
       "       0.54384277, 0.46682151, 0.55917348, 0.44076207, 0.56152256,\n",
       "       0.26062588, 0.22965423, 0.55509948, 0.28503067, 0.02635881,\n",
       "       0.39825264, 0.42110831, 0.49486598, 0.48341063, 0.32868889,\n",
       "       0.6070348 , 0.33355947, 0.51237366, 0.20297372, 0.580154  ,\n",
       "       0.57818326, 0.30904249, 0.25226992, 0.45434264, 0.51608826,\n",
       "       0.56017398, 0.48442397, 0.46255248, 0.13900039, 0.05328614,\n",
       "       0.55186784, 0.45549975, 0.3887791 , 0.35124673, 0.53444618,\n",
       "       0.5702338 , 0.41025549, 0.23225278, 0.61324746, 0.5670778 ,\n",
       "       0.42513648, 0.10417086, 0.31493016, 0.35245379, 0.18544229])"
      ]
     },
     "execution_count": 35,
     "metadata": {},
     "output_type": "execute_result"
    }
   ],
   "source": [
    "irisSilhouetteVals = silhouette_samples(irisX,irisKmeans.labels_)\n",
    "irisSilhouetteVals"
   ]
  },
  {
   "cell_type": "code",
   "execution_count": 36,
   "metadata": {
    "slideshow": {
     "slide_type": "fragment"
    }
   },
   "outputs": [
    {
     "data": {
      "text/plain": [
       "0.5525919445499757"
      ]
     },
     "execution_count": 36,
     "metadata": {},
     "output_type": "execute_result"
    }
   ],
   "source": [
    "irisSilhouetteScore = silhouette_score(irisdf.iloc[:,:-1],irisKmeans.labels_)\n",
    "irisSilhouetteScore"
   ]
  },
  {
   "cell_type": "markdown",
   "metadata": {
    "slideshow": {
     "slide_type": "fragment"
    }
   },
   "source": [
    "- `silhouette_score`实际上等于`silhouette_samples`返回值的**均值**"
   ]
  },
  {
   "cell_type": "code",
   "execution_count": 37,
   "metadata": {
    "slideshow": {
     "slide_type": "fragment"
    }
   },
   "outputs": [
    {
     "data": {
      "text/plain": [
       "0.5525919445499757"
      ]
     },
     "execution_count": 37,
     "metadata": {},
     "output_type": "execute_result"
    }
   ],
   "source": [
    "irisSilhouetteVals.mean()"
   ]
  },
  {
   "cell_type": "markdown",
   "metadata": {
    "slideshow": {
     "slide_type": "slide"
    }
   },
   "source": [
    "#### 轮廓系数图"
   ]
  },
  {
   "cell_type": "markdown",
   "metadata": {
    "slideshow": {
     "slide_type": "fragment"
    }
   },
   "source": [
    "- 将每个簇中的样本的轮廓系数按升序排序，绘制成的水平柱状图"
   ]
  },
  {
   "cell_type": "markdown",
   "metadata": {
    "slideshow": {
     "slide_type": "fragment"
    }
   },
   "source": [
    "<center><img src=\"./img/clustering/silhouettePlot1.svg\" width=60%></center>"
   ]
  },
  {
   "cell_type": "code",
   "execution_count": 38,
   "metadata": {
    "slideshow": {
     "slide_type": "subslide"
    }
   },
   "outputs": [],
   "source": [
    "from matplotlib import cm"
   ]
  },
  {
   "cell_type": "code",
   "execution_count": 39,
   "metadata": {
    "slideshow": {
     "slide_type": "fragment"
    }
   },
   "outputs": [],
   "source": [
    "def silhouette_plot(clusterLabels, X):\n",
    "    \"\"\"绘制轮廓系数图,clusterLabels是聚类预测得到的簇标签，X是原始数据集\"\"\"\n",
    "    silhouetteVals = silhouette_samples(X,clusterLabels)  # 计算所有样本的轮廓系数\n",
    "    fig,ax = plt.subplots(figsize=(12,12))\n",
    "    yLower = 10  # 每个簇纵坐标的下界\n",
    "    yTicks = []  # 记录纵坐标标记的位置\n",
    "    uniqueClusters = np.unique(clusterLabels) #获得独特的簇标签\n",
    "    for k in uniqueClusters:\n",
    "        # 筛选出第k簇样本的所有轮廓系数\n",
    "        kthClusterSilhouetteVals = silhouetteVals[clusterLabels==k]\n",
    "        # 对筛选出的第k簇的轮廓系数排序\n",
    "        kthClusterSilhouetteVals.sort()\n",
    "        # 每个簇纵坐标的上界\n",
    "        yUpper = yLower + len(kthClusterSilhouetteVals)\n",
    "        # 为每个簇设定一个颜色\n",
    "        colors = cm.nipy_spectral(k / len(uniqueClusters))\n",
    "        # 绘制水平柱状图\n",
    "        ax.barh(range(yLower,yUpper),kthClusterSilhouetteVals,height=1.0,edgecolor='b',color=colors)\n",
    "        # 设置纵坐标标记的显示位置\n",
    "        yTicks.append((yLower+yUpper)/2)\n",
    "        # 更新下一个簇的纵坐标的下界\n",
    "        yLower = yUpper + 10\n",
    "    ax.set(xticks=np.linspace(-0.1,1,12), yticks=yTicks,yticklabels=uniqueClusters,xlabel='轮廓系数',ylabel='簇标签',xlim=[-0.1,1])\n",
    "    # 将平均轮廓系数用垂直线绘制在图中\n",
    "    ax.axvline(x=silhouetteVals.mean(), color=\"red\", linestyle=\"--\")\n",
    "    plt.show()"
   ]
  },
  {
   "cell_type": "code",
   "execution_count": 40,
   "metadata": {
    "scrolled": true,
    "slideshow": {
     "slide_type": "slide"
    }
   },
   "outputs": [
    {
     "data": {
      "image/png": "[encoded data removed]",
      "text/plain": [
       "<Figure size 864x864 with 1 Axes>"
      ]
     },
     "metadata": {
      "needs_background": "light"
     },
     "output_type": "display_data"
    }
   ],
   "source": [
    "silhouette_plot(irisLabel,irisX)"
   ]
  },
  {
   "cell_type": "markdown",
   "metadata": {
    "slideshow": {
     "slide_type": "fragment"
    }
   },
   "source": [
    "- 好的聚类，轮廓系数图应当满足**各个簇的长度和宽度近似相等**"
   ]
  },
  {
   "cell_type": "markdown",
   "metadata": {
    "slideshow": {
     "slide_type": "slide"
    }
   },
   "source": [
    "## 网站运营分析示例"
   ]
  },
  {
   "cell_type": "markdown",
   "metadata": {
    "slideshow": {
     "slide_type": "fragment"
    }
   },
   "source": [
    "<p class=\"h3\">某企业由于投放的广告渠道比较多，需要对其做广告效果分析以实现有针对性的广告效果测量和优化工作。要求：将广告分类并找出重点特征，为后续的业务讨论提供支持。</p>"
   ]
  },
  {
   "cell_type": "markdown",
   "metadata": {
    "slideshow": {
     "slide_type": "fragment"
    }
   },
   "source": [
    "### 读入数据"
   ]
  },
  {
   "cell_type": "code",
   "execution_count": 41,
   "metadata": {
    "scrolled": true,
    "slideshow": {
     "slide_type": "fragment"
    }
   },
   "outputs": [
    {
     "data": {
      "text/html": [
       "<div>\n",
       "<style scoped>\n",
       "    .dataframe tbody tr th:only-of-type {\n",
       "        vertical-align: middle;\n",
       "    }\n",
       "\n",
       "    .dataframe tbody tr th {\n",
       "        vertical-align: top;\n",
       "    }\n",
       "\n",
       "    .dataframe thead th {\n",
       "        text-align: right;\n",
       "    }\n",
       "</style>\n",
       "<table border=\"1\" class=\"dataframe\">\n",
       "  <thead>\n",
       "    <tr style=\"text-align: right;\">\n",
       "      <th></th>\n",
       "      <th>渠道代号</th>\n",
       "      <th>日均UV</th>\n",
       "      <th>平均注册率</th>\n",
       "      <th>平均搜索量</th>\n",
       "      <th>访问深度</th>\n",
       "      <th>平均停留时间</th>\n",
       "      <th>订单转化率</th>\n",
       "      <th>投放总时间</th>\n",
       "      <th>素材类型</th>\n",
       "      <th>广告类型</th>\n",
       "      <th>合作方式</th>\n",
       "      <th>广告尺寸</th>\n",
       "      <th>广告卖点</th>\n",
       "    </tr>\n",
       "  </thead>\n",
       "  <tbody>\n",
       "    <tr>\n",
       "      <th>0</th>\n",
       "      <td>A203</td>\n",
       "      <td>3.69</td>\n",
       "      <td>0.0071</td>\n",
       "      <td>0.0214</td>\n",
       "      <td>2.3071</td>\n",
       "      <td>419.77</td>\n",
       "      <td>0.0258</td>\n",
       "      <td>20.0</td>\n",
       "      <td>jpg</td>\n",
       "      <td>banner</td>\n",
       "      <td>roi</td>\n",
       "      <td>140*40</td>\n",
       "      <td>打折</td>\n",
       "    </tr>\n",
       "    <tr>\n",
       "      <th>1</th>\n",
       "      <td>A387</td>\n",
       "      <td>178.70</td>\n",
       "      <td>0.0040</td>\n",
       "      <td>0.0324</td>\n",
       "      <td>2.0489</td>\n",
       "      <td>157.94</td>\n",
       "      <td>0.0030</td>\n",
       "      <td>19.0</td>\n",
       "      <td>jpg</td>\n",
       "      <td>banner</td>\n",
       "      <td>cpc</td>\n",
       "      <td>140*40</td>\n",
       "      <td>满减</td>\n",
       "    </tr>\n",
       "    <tr>\n",
       "      <th>2</th>\n",
       "      <td>A388</td>\n",
       "      <td>91.77</td>\n",
       "      <td>0.0022</td>\n",
       "      <td>0.0530</td>\n",
       "      <td>1.8771</td>\n",
       "      <td>357.93</td>\n",
       "      <td>0.0026</td>\n",
       "      <td>4.0</td>\n",
       "      <td>jpg</td>\n",
       "      <td>banner</td>\n",
       "      <td>cpc</td>\n",
       "      <td>140*40</td>\n",
       "      <td>满减</td>\n",
       "    </tr>\n",
       "    <tr>\n",
       "      <th>3</th>\n",
       "      <td>A389</td>\n",
       "      <td>1.09</td>\n",
       "      <td>0.0074</td>\n",
       "      <td>0.3382</td>\n",
       "      <td>4.2426</td>\n",
       "      <td>364.07</td>\n",
       "      <td>0.0153</td>\n",
       "      <td>10.0</td>\n",
       "      <td>jpg</td>\n",
       "      <td>banner</td>\n",
       "      <td>cpc</td>\n",
       "      <td>140*40</td>\n",
       "      <td>满减</td>\n",
       "    </tr>\n",
       "    <tr>\n",
       "      <th>4</th>\n",
       "      <td>A390</td>\n",
       "      <td>3.37</td>\n",
       "      <td>0.0028</td>\n",
       "      <td>0.1740</td>\n",
       "      <td>2.1934</td>\n",
       "      <td>313.34</td>\n",
       "      <td>0.0007</td>\n",
       "      <td>30.0</td>\n",
       "      <td>jpg</td>\n",
       "      <td>banner</td>\n",
       "      <td>cpc</td>\n",
       "      <td>140*40</td>\n",
       "      <td>满减</td>\n",
       "    </tr>\n",
       "  </tbody>\n",
       "</table>\n",
       "</div>"
      ],
      "text/plain": [
       "   渠道代号    日均UV   平均注册率   平均搜索量    访问深度  平均停留时间   订单转化率  投放总时间 素材类型    广告类型  \\\n",
       "0  A203    3.69  0.0071  0.0214  2.3071  419.77  0.0258   20.0  jpg  banner   \n",
       "1  A387  178.70  0.0040  0.0324  2.0489  157.94  0.0030   19.0  jpg  banner   \n",
       "2  A388   91.77  0.0022  0.0530  1.8771  357.93  0.0026    4.0  jpg  banner   \n",
       "3  A389    1.09  0.0074  0.3382  4.2426  364.07  0.0153   10.0  jpg  banner   \n",
       "4  A390    3.37  0.0028  0.1740  2.1934  313.34  0.0007   30.0  jpg  banner   \n",
       "\n",
       "  合作方式    广告尺寸 广告卖点  \n",
       "0  roi  140*40   打折  \n",
       "1  cpc  140*40   满减  \n",
       "2  cpc  140*40   满减  \n",
       "3  cpc  140*40   满减  \n",
       "4  cpc  140*40   满减  "
      ]
     },
     "execution_count": 41,
     "metadata": {},
     "output_type": "execute_result"
    },
    {
     "data": {
      "text/plain": [
       "(889, 13)"
      ]
     },
     "execution_count": 41,
     "metadata": {},
     "output_type": "execute_result"
    },
    {
     "data": {
      "text/plain": [
       "渠道代号       object\n",
       "日均UV      float64\n",
       "平均注册率     float64\n",
       "平均搜索量     float64\n",
       "访问深度      float64\n",
       "平均停留时间    float64\n",
       "订单转化率     float64\n",
       "投放总时间     float64\n",
       "素材类型       object\n",
       "广告类型       object\n",
       "合作方式       object\n",
       "广告尺寸       object\n",
       "广告卖点       object\n",
       "dtype: object"
      ]
     },
     "execution_count": 41,
     "metadata": {},
     "output_type": "execute_result"
    }
   ],
   "source": [
    "adRaw = pd.read_csv('./data/clustering/ad_performance.txt',sep='\\t')\n",
    "adRaw.head()\n",
    "adRaw.shape\n",
    "adRaw.dtypes"
   ]
  },
  {
   "cell_type": "markdown",
   "metadata": {
    "slideshow": {
     "slide_type": "slide"
    }
   },
   "source": [
    "### 数据探索"
   ]
  },
  {
   "cell_type": "markdown",
   "metadata": {
    "slideshow": {
     "slide_type": "fragment"
    }
   },
   "source": [
    "#### 描述性统计"
   ]
  },
  {
   "cell_type": "code",
   "execution_count": 42,
   "metadata": {
    "scrolled": true,
    "slideshow": {
     "slide_type": "fragment"
    }
   },
   "outputs": [
    {
     "data": {
      "text/html": [
       "<div>\n",
       "<style scoped>\n",
       "    .dataframe tbody tr th:only-of-type {\n",
       "        vertical-align: middle;\n",
       "    }\n",
       "\n",
       "    .dataframe tbody tr th {\n",
       "        vertical-align: top;\n",
       "    }\n",
       "\n",
       "    .dataframe thead th {\n",
       "        text-align: right;\n",
       "    }\n",
       "</style>\n",
       "<table border=\"1\" class=\"dataframe\">\n",
       "  <thead>\n",
       "    <tr style=\"text-align: right;\">\n",
       "      <th></th>\n",
       "      <th>日均UV</th>\n",
       "      <th>平均注册率</th>\n",
       "      <th>平均搜索量</th>\n",
       "      <th>访问深度</th>\n",
       "      <th>平均停留时间</th>\n",
       "      <th>订单转化率</th>\n",
       "      <th>投放总时间</th>\n",
       "    </tr>\n",
       "  </thead>\n",
       "  <tbody>\n",
       "    <tr>\n",
       "      <th>count</th>\n",
       "      <td>889.000000</td>\n",
       "      <td>889.000000</td>\n",
       "      <td>889.000000</td>\n",
       "      <td>889.000000</td>\n",
       "      <td>887.000000</td>\n",
       "      <td>889.000000</td>\n",
       "      <td>889.000000</td>\n",
       "    </tr>\n",
       "    <tr>\n",
       "      <th>mean</th>\n",
       "      <td>540.846772</td>\n",
       "      <td>0.001408</td>\n",
       "      <td>0.030493</td>\n",
       "      <td>2.167166</td>\n",
       "      <td>262.669188</td>\n",
       "      <td>0.002852</td>\n",
       "      <td>16.052868</td>\n",
       "    </tr>\n",
       "    <tr>\n",
       "      <th>std</th>\n",
       "      <td>1634.410463</td>\n",
       "      <td>0.003291</td>\n",
       "      <td>0.106199</td>\n",
       "      <td>3.800528</td>\n",
       "      <td>224.364932</td>\n",
       "      <td>0.011608</td>\n",
       "      <td>8.509435</td>\n",
       "    </tr>\n",
       "    <tr>\n",
       "      <th>min</th>\n",
       "      <td>0.060000</td>\n",
       "      <td>0.000000</td>\n",
       "      <td>0.000000</td>\n",
       "      <td>1.000000</td>\n",
       "      <td>1.640000</td>\n",
       "      <td>0.000000</td>\n",
       "      <td>1.000000</td>\n",
       "    </tr>\n",
       "    <tr>\n",
       "      <th>25%</th>\n",
       "      <td>6.180000</td>\n",
       "      <td>0.000000</td>\n",
       "      <td>0.000600</td>\n",
       "      <td>1.392300</td>\n",
       "      <td>126.020000</td>\n",
       "      <td>0.000000</td>\n",
       "      <td>9.000000</td>\n",
       "    </tr>\n",
       "    <tr>\n",
       "      <th>50%</th>\n",
       "      <td>114.180000</td>\n",
       "      <td>0.000000</td>\n",
       "      <td>0.003200</td>\n",
       "      <td>1.793100</td>\n",
       "      <td>236.550000</td>\n",
       "      <td>0.000200</td>\n",
       "      <td>16.000000</td>\n",
       "    </tr>\n",
       "    <tr>\n",
       "      <th>75%</th>\n",
       "      <td>466.870000</td>\n",
       "      <td>0.001400</td>\n",
       "      <td>0.011800</td>\n",
       "      <td>2.216200</td>\n",
       "      <td>357.985000</td>\n",
       "      <td>0.002000</td>\n",
       "      <td>24.000000</td>\n",
       "    </tr>\n",
       "    <tr>\n",
       "      <th>max</th>\n",
       "      <td>25294.770000</td>\n",
       "      <td>0.039100</td>\n",
       "      <td>1.037000</td>\n",
       "      <td>98.979900</td>\n",
       "      <td>4450.830000</td>\n",
       "      <td>0.216500</td>\n",
       "      <td>30.000000</td>\n",
       "    </tr>\n",
       "  </tbody>\n",
       "</table>\n",
       "</div>"
      ],
      "text/plain": [
       "               日均UV       平均注册率       平均搜索量        访问深度       平均停留时间  \\\n",
       "count    889.000000  889.000000  889.000000  889.000000   887.000000   \n",
       "mean     540.846772    0.001408    0.030493    2.167166   262.669188   \n",
       "std     1634.410463    0.003291    0.106199    3.800528   224.364932   \n",
       "min        0.060000    0.000000    0.000000    1.000000     1.640000   \n",
       "25%        6.180000    0.000000    0.000600    1.392300   126.020000   \n",
       "50%      114.180000    0.000000    0.003200    1.793100   236.550000   \n",
       "75%      466.870000    0.001400    0.011800    2.216200   357.985000   \n",
       "max    25294.770000    0.039100    1.037000   98.979900  4450.830000   \n",
       "\n",
       "            订单转化率       投放总时间  \n",
       "count  889.000000  889.000000  \n",
       "mean     0.002852   16.052868  \n",
       "std      0.011608    8.509435  \n",
       "min      0.000000    1.000000  \n",
       "25%      0.000000    9.000000  \n",
       "50%      0.000200   16.000000  \n",
       "75%      0.002000   24.000000  \n",
       "max      0.216500   30.000000  "
      ]
     },
     "execution_count": 42,
     "metadata": {},
     "output_type": "execute_result"
    }
   ],
   "source": [
    "adRaw.describe()"
   ]
  },
  {
   "cell_type": "markdown",
   "metadata": {
    "slideshow": {
     "slide_type": "fragment"
    }
   },
   "source": [
    "- 发现\n",
    "    + `平均停留时间`有2个缺失值\n",
    "    + `日均UV`的波动性非常大（`std`值大）"
   ]
  },
  {
   "cell_type": "code",
   "execution_count": 43,
   "metadata": {
    "scrolled": true,
    "slideshow": {
     "slide_type": "fragment"
    }
   },
   "outputs": [
    {
     "data": {
      "text/plain": [
       "jpg    0.602925\n",
       "swf    0.391451\n",
       "gif    0.004499\n",
       "sp     0.001125\n",
       "Name: 素材类型, dtype: float64"
      ]
     },
     "execution_count": 43,
     "metadata": {},
     "output_type": "execute_result"
    },
    {
     "data": {
      "text/plain": [
       "不确定       0.735658\n",
       "banner    0.172103\n",
       "tips      0.060742\n",
       "通栏        0.021372\n",
       "横幅        0.008999\n",
       "暂停        0.001125\n",
       "Name: 广告类型, dtype: float64"
      ]
     },
     "execution_count": 43,
     "metadata": {},
     "output_type": "execute_result"
    },
    {
     "data": {
      "text/plain": [
       "cpc    0.665917\n",
       "roi    0.274466\n",
       "cpd    0.033746\n",
       "cpm    0.025872\n",
       "Name: 合作方式, dtype: float64"
      ]
     },
     "execution_count": 43,
     "metadata": {},
     "output_type": "execute_result"
    },
    {
     "data": {
      "text/plain": [
       "600*90     0.725534\n",
       "308*388    0.116985\n",
       "450*300    0.060742\n",
       "140*40     0.055118\n",
       "900*120    0.021372\n",
       "480*360    0.010124\n",
       "960*126    0.008999\n",
       "390*270    0.001125\n",
       "Name: 广告尺寸, dtype: float64"
      ]
     },
     "execution_count": 43,
     "metadata": {},
     "output_type": "execute_result"
    },
    {
     "data": {
      "text/plain": [
       "打折    0.379078\n",
       "满减    0.194601\n",
       "直降    0.190101\n",
       "秒杀    0.085489\n",
       "满返    0.078740\n",
       "满赠    0.071991\n",
       "Name: 广告卖点, dtype: float64"
      ]
     },
     "execution_count": 43,
     "metadata": {},
     "output_type": "execute_result"
    }
   ],
   "source": [
    "for colName in adRaw.columns[-5:]:\n",
    "    adRaw[colName].value_counts(normalize=True)"
   ]
  },
  {
   "cell_type": "markdown",
   "metadata": {
    "slideshow": {
     "slide_type": "slide"
    }
   },
   "source": [
    "#### 数据可视化"
   ]
  },
  {
   "cell_type": "markdown",
   "metadata": {
    "slideshow": {
     "slide_type": "fragment"
    }
   },
   "source": [
    "##### 属性的分布特征"
   ]
  },
  {
   "cell_type": "code",
   "execution_count": 44,
   "metadata": {
    "slideshow": {
     "slide_type": "fragment"
    }
   },
   "outputs": [
    {
     "data": {
      "image/png": "[encoded data removed]",
      "text/plain": [
       "<Figure size 864x864 with 9 Axes>"
      ]
     },
     "metadata": {
      "needs_background": "light"
     },
     "output_type": "display_data"
    }
   ],
   "source": [
    "_ = adRaw.plot(y=['日均UV','平均注册率','平均搜索量','访问深度','平均停留时间','订单转化率','投放总时间'],kind='hist',bins=50,figsize=(12,12),subplots=True,layout=(3,3),sharey=False)"
   ]
  },
  {
   "cell_type": "code",
   "execution_count": 45,
   "metadata": {
    "slideshow": {
     "slide_type": "slide"
    }
   },
   "outputs": [
    {
     "data": {
      "image/png": "[encoded data removed]",
      "text/plain": [
       "<Figure size 864x2592 with 7 Axes>"
      ]
     },
     "metadata": {
      "needs_background": "light"
     },
     "output_type": "display_data"
    }
   ],
   "source": [
    "colNames = ['日均UV','平均注册率','平均搜索量','访问深度','平均停留时间','订单转化率','投放总时间']\n",
    "fig,axes = plt.subplots(len(colNames),1,figsize=(12,36))\n",
    "for i,colName in enumerate(colNames):\n",
    "    _ = adRaw[colName].plot(y=colName,kind='hist',bins=50,ax=axes[i],color=cm.gist_earth(i/len(colNames)))\n",
    "    _ = axes[i].set(xlabel=colName)"
   ]
  },
  {
   "cell_type": "markdown",
   "metadata": {
    "slideshow": {
     "slide_type": "fragment"
    }
   },
   "source": [
    "- 发现\n",
    "    + `日均UV`,`平均注册率`,`平均搜索量`,`访问深度`,`平均停留时间`,`订单转化率`均呈现偏态分布"
   ]
  },
  {
   "cell_type": "markdown",
   "metadata": {
    "slideshow": {
     "slide_type": "slide"
    }
   },
   "source": [
    "##### 属性的波动范围特征"
   ]
  },
  {
   "cell_type": "code",
   "execution_count": 46,
   "metadata": {
    "scrolled": true,
    "slideshow": {
     "slide_type": "fragment"
    }
   },
   "outputs": [
    {
     "data": {
      "image/png": "[encoded data removed]",
      "text/plain": [
       "<Figure size 864x432 with 1 Axes>"
      ]
     },
     "metadata": {
      "needs_background": "light"
     },
     "output_type": "display_data"
    }
   ],
   "source": [
    "_ = adRaw.plot(y=colNames,kind='box',figsize=(12,6))"
   ]
  },
  {
   "cell_type": "markdown",
   "metadata": {
    "slideshow": {
     "slide_type": "fragment"
    }
   },
   "source": [
    "- 发现\n",
    "    + 各个属性的波动范围差异较大\n",
    "    + `日均UV`有较多的异常点"
   ]
  },
  {
   "cell_type": "markdown",
   "metadata": {
    "slideshow": {
     "slide_type": "slide"
    }
   },
   "source": [
    "### 数据预处理"
   ]
  },
  {
   "cell_type": "markdown",
   "metadata": {
    "slideshow": {
     "slide_type": "fragment"
    }
   },
   "source": [
    "#### 缺失值"
   ]
  },
  {
   "cell_type": "code",
   "execution_count": 47,
   "metadata": {
    "scrolled": true,
    "slideshow": {
     "slide_type": "fragment"
    }
   },
   "outputs": [
    {
     "data": {
      "text/plain": [
       "渠道代号      0\n",
       "日均UV      0\n",
       "平均注册率     0\n",
       "平均搜索量     0\n",
       "访问深度      0\n",
       "平均停留时间    2\n",
       "订单转化率     0\n",
       "投放总时间     0\n",
       "素材类型      0\n",
       "广告类型      0\n",
       "合作方式      0\n",
       "广告尺寸      0\n",
       "广告卖点      0\n",
       "dtype: int64"
      ]
     },
     "execution_count": 47,
     "metadata": {},
     "output_type": "execute_result"
    }
   ],
   "source": [
    "adRaw.isna().sum()"
   ]
  },
  {
   "cell_type": "markdown",
   "metadata": {
    "slideshow": {
     "slide_type": "fragment"
    }
   },
   "source": [
    "##### 筛选含有缺失值的记录"
   ]
  },
  {
   "cell_type": "code",
   "execution_count": 48,
   "metadata": {
    "slideshow": {
     "slide_type": "fragment"
    }
   },
   "outputs": [
    {
     "data": {
      "text/html": [
       "<div>\n",
       "<style scoped>\n",
       "    .dataframe tbody tr th:only-of-type {\n",
       "        vertical-align: middle;\n",
       "    }\n",
       "\n",
       "    .dataframe tbody tr th {\n",
       "        vertical-align: top;\n",
       "    }\n",
       "\n",
       "    .dataframe thead th {\n",
       "        text-align: right;\n",
       "    }\n",
       "</style>\n",
       "<table border=\"1\" class=\"dataframe\">\n",
       "  <thead>\n",
       "    <tr style=\"text-align: right;\">\n",
       "      <th></th>\n",
       "      <th>渠道代号</th>\n",
       "      <th>日均UV</th>\n",
       "      <th>平均注册率</th>\n",
       "      <th>平均搜索量</th>\n",
       "      <th>访问深度</th>\n",
       "      <th>平均停留时间</th>\n",
       "      <th>订单转化率</th>\n",
       "      <th>投放总时间</th>\n",
       "      <th>素材类型</th>\n",
       "      <th>广告类型</th>\n",
       "      <th>合作方式</th>\n",
       "      <th>广告尺寸</th>\n",
       "      <th>广告卖点</th>\n",
       "    </tr>\n",
       "  </thead>\n",
       "  <tbody>\n",
       "    <tr>\n",
       "      <th>498</th>\n",
       "      <td>A347</td>\n",
       "      <td>1.53</td>\n",
       "      <td>0.0</td>\n",
       "      <td>0.0</td>\n",
       "      <td>1.0</td>\n",
       "      <td>NaN</td>\n",
       "      <td>0.0</td>\n",
       "      <td>26.0</td>\n",
       "      <td>swf</td>\n",
       "      <td>不确定</td>\n",
       "      <td>roi</td>\n",
       "      <td>600*90</td>\n",
       "      <td>满减</td>\n",
       "    </tr>\n",
       "    <tr>\n",
       "      <th>528</th>\n",
       "      <td>A377</td>\n",
       "      <td>0.75</td>\n",
       "      <td>0.0</td>\n",
       "      <td>0.0</td>\n",
       "      <td>1.0</td>\n",
       "      <td>NaN</td>\n",
       "      <td>0.0</td>\n",
       "      <td>20.0</td>\n",
       "      <td>swf</td>\n",
       "      <td>不确定</td>\n",
       "      <td>roi</td>\n",
       "      <td>600*90</td>\n",
       "      <td>满减</td>\n",
       "    </tr>\n",
       "  </tbody>\n",
       "</table>\n",
       "</div>"
      ],
      "text/plain": [
       "     渠道代号  日均UV  平均注册率  平均搜索量  访问深度  平均停留时间  订单转化率  投放总时间 素材类型 广告类型 合作方式  \\\n",
       "498  A347  1.53    0.0    0.0   1.0     NaN    0.0   26.0  swf  不确定  roi   \n",
       "528  A377  0.75    0.0    0.0   1.0     NaN    0.0   20.0  swf  不确定  roi   \n",
       "\n",
       "       广告尺寸 广告卖点  \n",
       "498  600*90   满减  \n",
       "528  600*90   满减  "
      ]
     },
     "execution_count": 48,
     "metadata": {},
     "output_type": "execute_result"
    }
   ],
   "source": [
    "adRaw.loc[adRaw['平均停留时间'].isna(),:]"
   ]
  },
  {
   "cell_type": "markdown",
   "metadata": {
    "slideshow": {
     "slide_type": "slide"
    }
   },
   "source": [
    "##### 用均值填充缺失值"
   ]
  },
  {
   "cell_type": "code",
   "execution_count": 49,
   "metadata": {
    "slideshow": {
     "slide_type": "fragment"
    }
   },
   "outputs": [
    {
     "data": {
      "text/plain": [
       "渠道代号      0\n",
       "日均UV      0\n",
       "平均注册率     0\n",
       "平均搜索量     0\n",
       "访问深度      0\n",
       "平均停留时间    0\n",
       "订单转化率     0\n",
       "投放总时间     0\n",
       "素材类型      0\n",
       "广告类型      0\n",
       "合作方式      0\n",
       "广告尺寸      0\n",
       "广告卖点      0\n",
       "dtype: int64"
      ]
     },
     "execution_count": 49,
     "metadata": {},
     "output_type": "execute_result"
    }
   ],
   "source": [
    "adRaw.fillna({'平均停留时间':adRaw['平均停留时间'].mean()},inplace=True)\n",
    "adRaw.isna().sum()"
   ]
  },
  {
   "cell_type": "markdown",
   "metadata": {
    "slideshow": {
     "slide_type": "slide"
    }
   },
   "source": [
    "#### 重复记录"
   ]
  },
  {
   "cell_type": "code",
   "execution_count": 50,
   "metadata": {
    "slideshow": {
     "slide_type": "fragment"
    }
   },
   "outputs": [
    {
     "data": {
      "text/plain": [
       "array([False])"
      ]
     },
     "execution_count": 50,
     "metadata": {},
     "output_type": "execute_result"
    }
   ],
   "source": [
    "adRaw.duplicated().unique()"
   ]
  },
  {
   "cell_type": "markdown",
   "metadata": {
    "slideshow": {
     "slide_type": "fragment"
    }
   },
   "source": [
    "- 不含有重复记录"
   ]
  },
  {
   "cell_type": "markdown",
   "metadata": {
    "slideshow": {
     "slide_type": "slide"
    }
   },
   "source": [
    "#### 标称属性转换为数值型"
   ]
  },
  {
   "cell_type": "code",
   "execution_count": 51,
   "metadata": {
    "scrolled": false,
    "slideshow": {
     "slide_type": "fragment"
    }
   },
   "outputs": [
    {
     "data": {
      "text/html": [
       "<div>\n",
       "<style scoped>\n",
       "    .dataframe tbody tr th:only-of-type {\n",
       "        vertical-align: middle;\n",
       "    }\n",
       "\n",
       "    .dataframe tbody tr th {\n",
       "        vertical-align: top;\n",
       "    }\n",
       "\n",
       "    .dataframe thead th {\n",
       "        text-align: right;\n",
       "    }\n",
       "</style>\n",
       "<table border=\"1\" class=\"dataframe\">\n",
       "  <thead>\n",
       "    <tr style=\"text-align: right;\">\n",
       "      <th></th>\n",
       "      <th>渠道代号</th>\n",
       "      <th>日均UV</th>\n",
       "      <th>平均注册率</th>\n",
       "      <th>平均搜索量</th>\n",
       "      <th>访问深度</th>\n",
       "      <th>平均停留时间</th>\n",
       "      <th>订单转化率</th>\n",
       "      <th>投放总时间</th>\n",
       "      <th>素材类型</th>\n",
       "      <th>广告类型</th>\n",
       "      <th>合作方式</th>\n",
       "      <th>广告尺寸</th>\n",
       "      <th>广告卖点</th>\n",
       "    </tr>\n",
       "  </thead>\n",
       "  <tbody>\n",
       "    <tr>\n",
       "      <th>0</th>\n",
       "      <td>A203</td>\n",
       "      <td>3.69</td>\n",
       "      <td>0.0071</td>\n",
       "      <td>0.0214</td>\n",
       "      <td>2.3071</td>\n",
       "      <td>419.77</td>\n",
       "      <td>0.0258</td>\n",
       "      <td>20.0</td>\n",
       "      <td>0</td>\n",
       "      <td>0</td>\n",
       "      <td>0</td>\n",
       "      <td>0</td>\n",
       "      <td>0</td>\n",
       "    </tr>\n",
       "    <tr>\n",
       "      <th>1</th>\n",
       "      <td>A387</td>\n",
       "      <td>178.70</td>\n",
       "      <td>0.0040</td>\n",
       "      <td>0.0324</td>\n",
       "      <td>2.0489</td>\n",
       "      <td>157.94</td>\n",
       "      <td>0.0030</td>\n",
       "      <td>19.0</td>\n",
       "      <td>0</td>\n",
       "      <td>0</td>\n",
       "      <td>1</td>\n",
       "      <td>0</td>\n",
       "      <td>1</td>\n",
       "    </tr>\n",
       "    <tr>\n",
       "      <th>2</th>\n",
       "      <td>A388</td>\n",
       "      <td>91.77</td>\n",
       "      <td>0.0022</td>\n",
       "      <td>0.0530</td>\n",
       "      <td>1.8771</td>\n",
       "      <td>357.93</td>\n",
       "      <td>0.0026</td>\n",
       "      <td>4.0</td>\n",
       "      <td>0</td>\n",
       "      <td>0</td>\n",
       "      <td>1</td>\n",
       "      <td>0</td>\n",
       "      <td>1</td>\n",
       "    </tr>\n",
       "    <tr>\n",
       "      <th>3</th>\n",
       "      <td>A389</td>\n",
       "      <td>1.09</td>\n",
       "      <td>0.0074</td>\n",
       "      <td>0.3382</td>\n",
       "      <td>4.2426</td>\n",
       "      <td>364.07</td>\n",
       "      <td>0.0153</td>\n",
       "      <td>10.0</td>\n",
       "      <td>0</td>\n",
       "      <td>0</td>\n",
       "      <td>1</td>\n",
       "      <td>0</td>\n",
       "      <td>1</td>\n",
       "    </tr>\n",
       "    <tr>\n",
       "      <th>4</th>\n",
       "      <td>A390</td>\n",
       "      <td>3.37</td>\n",
       "      <td>0.0028</td>\n",
       "      <td>0.1740</td>\n",
       "      <td>2.1934</td>\n",
       "      <td>313.34</td>\n",
       "      <td>0.0007</td>\n",
       "      <td>30.0</td>\n",
       "      <td>0</td>\n",
       "      <td>0</td>\n",
       "      <td>1</td>\n",
       "      <td>0</td>\n",
       "      <td>1</td>\n",
       "    </tr>\n",
       "  </tbody>\n",
       "</table>\n",
       "</div>"
      ],
      "text/plain": [
       "   渠道代号    日均UV   平均注册率   平均搜索量    访问深度  平均停留时间   订单转化率  投放总时间  素材类型  广告类型  \\\n",
       "0  A203    3.69  0.0071  0.0214  2.3071  419.77  0.0258   20.0     0     0   \n",
       "1  A387  178.70  0.0040  0.0324  2.0489  157.94  0.0030   19.0     0     0   \n",
       "2  A388   91.77  0.0022  0.0530  1.8771  357.93  0.0026    4.0     0     0   \n",
       "3  A389    1.09  0.0074  0.3382  4.2426  364.07  0.0153   10.0     0     0   \n",
       "4  A390    3.37  0.0028  0.1740  2.1934  313.34  0.0007   30.0     0     0   \n",
       "\n",
       "   合作方式  广告尺寸  广告卖点  \n",
       "0     0     0     0  \n",
       "1     1     0     1  \n",
       "2     1     0     1  \n",
       "3     1     0     1  \n",
       "4     1     0     1  "
      ]
     },
     "execution_count": 51,
     "metadata": {},
     "output_type": "execute_result"
    }
   ],
   "source": [
    "adX = adRaw.copy()\n",
    "for colName in adRaw.columns[-5:]:\n",
    "    codes,_ = pd.factorize(adX[colName])\n",
    "    adX[colName] = codes\n",
    "adX.head()"
   ]
  },
  {
   "cell_type": "code",
   "execution_count": 52,
   "metadata": {
    "scrolled": true,
    "slideshow": {
     "slide_type": "fragment"
    }
   },
   "outputs": [
    {
     "data": {
      "text/html": [
       "<div>\n",
       "<style scoped>\n",
       "    .dataframe tbody tr th:only-of-type {\n",
       "        vertical-align: middle;\n",
       "    }\n",
       "\n",
       "    .dataframe tbody tr th {\n",
       "        vertical-align: top;\n",
       "    }\n",
       "\n",
       "    .dataframe thead th {\n",
       "        text-align: right;\n",
       "    }\n",
       "</style>\n",
       "<table border=\"1\" class=\"dataframe\">\n",
       "  <thead>\n",
       "    <tr style=\"text-align: right;\">\n",
       "      <th></th>\n",
       "      <th>日均UV</th>\n",
       "      <th>平均注册率</th>\n",
       "      <th>平均搜索量</th>\n",
       "      <th>访问深度</th>\n",
       "      <th>平均停留时间</th>\n",
       "      <th>订单转化率</th>\n",
       "      <th>投放总时间</th>\n",
       "      <th>素材类型</th>\n",
       "      <th>广告类型</th>\n",
       "      <th>合作方式</th>\n",
       "      <th>广告尺寸</th>\n",
       "      <th>广告卖点</th>\n",
       "    </tr>\n",
       "    <tr>\n",
       "      <th>渠道代号</th>\n",
       "      <th></th>\n",
       "      <th></th>\n",
       "      <th></th>\n",
       "      <th></th>\n",
       "      <th></th>\n",
       "      <th></th>\n",
       "      <th></th>\n",
       "      <th></th>\n",
       "      <th></th>\n",
       "      <th></th>\n",
       "      <th></th>\n",
       "      <th></th>\n",
       "    </tr>\n",
       "  </thead>\n",
       "  <tbody>\n",
       "    <tr>\n",
       "      <th>A203</th>\n",
       "      <td>3.69</td>\n",
       "      <td>0.0071</td>\n",
       "      <td>0.0214</td>\n",
       "      <td>2.3071</td>\n",
       "      <td>419.77</td>\n",
       "      <td>0.0258</td>\n",
       "      <td>20.0</td>\n",
       "      <td>0</td>\n",
       "      <td>0</td>\n",
       "      <td>0</td>\n",
       "      <td>0</td>\n",
       "      <td>0</td>\n",
       "    </tr>\n",
       "    <tr>\n",
       "      <th>A387</th>\n",
       "      <td>178.70</td>\n",
       "      <td>0.0040</td>\n",
       "      <td>0.0324</td>\n",
       "      <td>2.0489</td>\n",
       "      <td>157.94</td>\n",
       "      <td>0.0030</td>\n",
       "      <td>19.0</td>\n",
       "      <td>0</td>\n",
       "      <td>0</td>\n",
       "      <td>1</td>\n",
       "      <td>0</td>\n",
       "      <td>1</td>\n",
       "    </tr>\n",
       "    <tr>\n",
       "      <th>A388</th>\n",
       "      <td>91.77</td>\n",
       "      <td>0.0022</td>\n",
       "      <td>0.0530</td>\n",
       "      <td>1.8771</td>\n",
       "      <td>357.93</td>\n",
       "      <td>0.0026</td>\n",
       "      <td>4.0</td>\n",
       "      <td>0</td>\n",
       "      <td>0</td>\n",
       "      <td>1</td>\n",
       "      <td>0</td>\n",
       "      <td>1</td>\n",
       "    </tr>\n",
       "    <tr>\n",
       "      <th>A389</th>\n",
       "      <td>1.09</td>\n",
       "      <td>0.0074</td>\n",
       "      <td>0.3382</td>\n",
       "      <td>4.2426</td>\n",
       "      <td>364.07</td>\n",
       "      <td>0.0153</td>\n",
       "      <td>10.0</td>\n",
       "      <td>0</td>\n",
       "      <td>0</td>\n",
       "      <td>1</td>\n",
       "      <td>0</td>\n",
       "      <td>1</td>\n",
       "    </tr>\n",
       "    <tr>\n",
       "      <th>A390</th>\n",
       "      <td>3.37</td>\n",
       "      <td>0.0028</td>\n",
       "      <td>0.1740</td>\n",
       "      <td>2.1934</td>\n",
       "      <td>313.34</td>\n",
       "      <td>0.0007</td>\n",
       "      <td>30.0</td>\n",
       "      <td>0</td>\n",
       "      <td>0</td>\n",
       "      <td>1</td>\n",
       "      <td>0</td>\n",
       "      <td>1</td>\n",
       "    </tr>\n",
       "  </tbody>\n",
       "</table>\n",
       "</div>"
      ],
      "text/plain": [
       "        日均UV   平均注册率   平均搜索量    访问深度  平均停留时间   订单转化率  投放总时间  素材类型  广告类型  合作方式  \\\n",
       "渠道代号                                                                            \n",
       "A203    3.69  0.0071  0.0214  2.3071  419.77  0.0258   20.0     0     0     0   \n",
       "A387  178.70  0.0040  0.0324  2.0489  157.94  0.0030   19.0     0     0     1   \n",
       "A388   91.77  0.0022  0.0530  1.8771  357.93  0.0026    4.0     0     0     1   \n",
       "A389    1.09  0.0074  0.3382  4.2426  364.07  0.0153   10.0     0     0     1   \n",
       "A390    3.37  0.0028  0.1740  2.1934  313.34  0.0007   30.0     0     0     1   \n",
       "\n",
       "      广告尺寸  广告卖点  \n",
       "渠道代号              \n",
       "A203     0     0  \n",
       "A387     0     1  \n",
       "A388     0     1  \n",
       "A389     0     1  \n",
       "A390     0     1  "
      ]
     },
     "execution_count": 52,
     "metadata": {},
     "output_type": "execute_result"
    }
   ],
   "source": [
    "adX.set_index(keys='渠道代号',inplace=True)\n",
    "adX.head()"
   ]
  },
  {
   "cell_type": "markdown",
   "metadata": {
    "slideshow": {
     "slide_type": "slide"
    }
   },
   "source": [
    "#### 标准化数据"
   ]
  },
  {
   "cell_type": "code",
   "execution_count": 53,
   "metadata": {
    "slideshow": {
     "slide_type": "fragment"
    }
   },
   "outputs": [],
   "source": [
    "from sklearn.preprocessing import MinMaxScaler"
   ]
  },
  {
   "cell_type": "code",
   "execution_count": 54,
   "metadata": {
    "slideshow": {
     "slide_type": "fragment"
    }
   },
   "outputs": [
    {
     "data": {
      "text/html": [
       "<div>\n",
       "<style scoped>\n",
       "    .dataframe tbody tr th:only-of-type {\n",
       "        vertical-align: middle;\n",
       "    }\n",
       "\n",
       "    .dataframe tbody tr th {\n",
       "        vertical-align: top;\n",
       "    }\n",
       "\n",
       "    .dataframe thead th {\n",
       "        text-align: right;\n",
       "    }\n",
       "</style>\n",
       "<table border=\"1\" class=\"dataframe\">\n",
       "  <thead>\n",
       "    <tr style=\"text-align: right;\">\n",
       "      <th></th>\n",
       "      <th>日均UV</th>\n",
       "      <th>平均注册率</th>\n",
       "      <th>平均搜索量</th>\n",
       "      <th>访问深度</th>\n",
       "      <th>平均停留时间</th>\n",
       "      <th>订单转化率</th>\n",
       "      <th>投放总时间</th>\n",
       "    </tr>\n",
       "    <tr>\n",
       "      <th>渠道代号</th>\n",
       "      <th></th>\n",
       "      <th></th>\n",
       "      <th></th>\n",
       "      <th></th>\n",
       "      <th></th>\n",
       "      <th></th>\n",
       "      <th></th>\n",
       "    </tr>\n",
       "  </thead>\n",
       "  <tbody>\n",
       "    <tr>\n",
       "      <th>A203</th>\n",
       "      <td>0.000144</td>\n",
       "      <td>0.181586</td>\n",
       "      <td>0.020636</td>\n",
       "      <td>0.013340</td>\n",
       "      <td>0.093979</td>\n",
       "      <td>0.119169</td>\n",
       "      <td>0.655172</td>\n",
       "    </tr>\n",
       "    <tr>\n",
       "      <th>A387</th>\n",
       "      <td>0.007062</td>\n",
       "      <td>0.102302</td>\n",
       "      <td>0.031244</td>\n",
       "      <td>0.010705</td>\n",
       "      <td>0.035130</td>\n",
       "      <td>0.013857</td>\n",
       "      <td>0.620690</td>\n",
       "    </tr>\n",
       "    <tr>\n",
       "      <th>A388</th>\n",
       "      <td>0.003626</td>\n",
       "      <td>0.056266</td>\n",
       "      <td>0.051109</td>\n",
       "      <td>0.008952</td>\n",
       "      <td>0.080080</td>\n",
       "      <td>0.012009</td>\n",
       "      <td>0.103448</td>\n",
       "    </tr>\n",
       "    <tr>\n",
       "      <th>A389</th>\n",
       "      <td>0.000041</td>\n",
       "      <td>0.189258</td>\n",
       "      <td>0.326133</td>\n",
       "      <td>0.033095</td>\n",
       "      <td>0.081460</td>\n",
       "      <td>0.070670</td>\n",
       "      <td>0.310345</td>\n",
       "    </tr>\n",
       "    <tr>\n",
       "      <th>A390</th>\n",
       "      <td>0.000131</td>\n",
       "      <td>0.071611</td>\n",
       "      <td>0.167792</td>\n",
       "      <td>0.012180</td>\n",
       "      <td>0.070058</td>\n",
       "      <td>0.003233</td>\n",
       "      <td>1.000000</td>\n",
       "    </tr>\n",
       "  </tbody>\n",
       "</table>\n",
       "</div>"
      ],
      "text/plain": [
       "          日均UV     平均注册率     平均搜索量      访问深度    平均停留时间     订单转化率     投放总时间\n",
       "渠道代号                                                                      \n",
       "A203  0.000144  0.181586  0.020636  0.013340  0.093979  0.119169  0.655172\n",
       "A387  0.007062  0.102302  0.031244  0.010705  0.035130  0.013857  0.620690\n",
       "A388  0.003626  0.056266  0.051109  0.008952  0.080080  0.012009  0.103448\n",
       "A389  0.000041  0.189258  0.326133  0.033095  0.081460  0.070670  0.310345\n",
       "A390  0.000131  0.071611  0.167792  0.012180  0.070058  0.003233  1.000000"
      ]
     },
     "execution_count": 54,
     "metadata": {},
     "output_type": "execute_result"
    }
   ],
   "source": [
    "adScale = MinMaxScaler()\n",
    "scaleDat = adScale.fit_transform(adX.iloc[:,:7])\n",
    "scaleDf = pd.DataFrame(scaleDat,columns = adX.columns[:7],index=adX.index)\n",
    "scaleDf.head()"
   ]
  },
  {
   "cell_type": "code",
   "execution_count": 55,
   "metadata": {
    "slideshow": {
     "slide_type": "fragment"
    }
   },
   "outputs": [
    {
     "data": {
      "text/html": [
       "<div>\n",
       "<style scoped>\n",
       "    .dataframe tbody tr th:only-of-type {\n",
       "        vertical-align: middle;\n",
       "    }\n",
       "\n",
       "    .dataframe tbody tr th {\n",
       "        vertical-align: top;\n",
       "    }\n",
       "\n",
       "    .dataframe thead th {\n",
       "        text-align: right;\n",
       "    }\n",
       "</style>\n",
       "<table border=\"1\" class=\"dataframe\">\n",
       "  <thead>\n",
       "    <tr style=\"text-align: right;\">\n",
       "      <th></th>\n",
       "      <th>日均UV</th>\n",
       "      <th>平均注册率</th>\n",
       "      <th>平均搜索量</th>\n",
       "      <th>访问深度</th>\n",
       "      <th>平均停留时间</th>\n",
       "      <th>订单转化率</th>\n",
       "      <th>投放总时间</th>\n",
       "      <th>素材类型</th>\n",
       "      <th>广告类型</th>\n",
       "      <th>合作方式</th>\n",
       "      <th>广告尺寸</th>\n",
       "      <th>广告卖点</th>\n",
       "    </tr>\n",
       "    <tr>\n",
       "      <th>渠道代号</th>\n",
       "      <th></th>\n",
       "      <th></th>\n",
       "      <th></th>\n",
       "      <th></th>\n",
       "      <th></th>\n",
       "      <th></th>\n",
       "      <th></th>\n",
       "      <th></th>\n",
       "      <th></th>\n",
       "      <th></th>\n",
       "      <th></th>\n",
       "      <th></th>\n",
       "    </tr>\n",
       "  </thead>\n",
       "  <tbody>\n",
       "    <tr>\n",
       "      <th>A203</th>\n",
       "      <td>0.000144</td>\n",
       "      <td>0.181586</td>\n",
       "      <td>0.020636</td>\n",
       "      <td>0.013340</td>\n",
       "      <td>0.093979</td>\n",
       "      <td>0.119169</td>\n",
       "      <td>0.655172</td>\n",
       "      <td>0</td>\n",
       "      <td>0</td>\n",
       "      <td>0</td>\n",
       "      <td>0</td>\n",
       "      <td>0</td>\n",
       "    </tr>\n",
       "    <tr>\n",
       "      <th>A387</th>\n",
       "      <td>0.007062</td>\n",
       "      <td>0.102302</td>\n",
       "      <td>0.031244</td>\n",
       "      <td>0.010705</td>\n",
       "      <td>0.035130</td>\n",
       "      <td>0.013857</td>\n",
       "      <td>0.620690</td>\n",
       "      <td>0</td>\n",
       "      <td>0</td>\n",
       "      <td>1</td>\n",
       "      <td>0</td>\n",
       "      <td>1</td>\n",
       "    </tr>\n",
       "    <tr>\n",
       "      <th>A388</th>\n",
       "      <td>0.003626</td>\n",
       "      <td>0.056266</td>\n",
       "      <td>0.051109</td>\n",
       "      <td>0.008952</td>\n",
       "      <td>0.080080</td>\n",
       "      <td>0.012009</td>\n",
       "      <td>0.103448</td>\n",
       "      <td>0</td>\n",
       "      <td>0</td>\n",
       "      <td>1</td>\n",
       "      <td>0</td>\n",
       "      <td>1</td>\n",
       "    </tr>\n",
       "    <tr>\n",
       "      <th>A389</th>\n",
       "      <td>0.000041</td>\n",
       "      <td>0.189258</td>\n",
       "      <td>0.326133</td>\n",
       "      <td>0.033095</td>\n",
       "      <td>0.081460</td>\n",
       "      <td>0.070670</td>\n",
       "      <td>0.310345</td>\n",
       "      <td>0</td>\n",
       "      <td>0</td>\n",
       "      <td>1</td>\n",
       "      <td>0</td>\n",
       "      <td>1</td>\n",
       "    </tr>\n",
       "    <tr>\n",
       "      <th>A390</th>\n",
       "      <td>0.000131</td>\n",
       "      <td>0.071611</td>\n",
       "      <td>0.167792</td>\n",
       "      <td>0.012180</td>\n",
       "      <td>0.070058</td>\n",
       "      <td>0.003233</td>\n",
       "      <td>1.000000</td>\n",
       "      <td>0</td>\n",
       "      <td>0</td>\n",
       "      <td>1</td>\n",
       "      <td>0</td>\n",
       "      <td>1</td>\n",
       "    </tr>\n",
       "  </tbody>\n",
       "</table>\n",
       "</div>"
      ],
      "text/plain": [
       "          日均UV     平均注册率     平均搜索量      访问深度    平均停留时间     订单转化率     投放总时间  \\\n",
       "渠道代号                                                                         \n",
       "A203  0.000144  0.181586  0.020636  0.013340  0.093979  0.119169  0.655172   \n",
       "A387  0.007062  0.102302  0.031244  0.010705  0.035130  0.013857  0.620690   \n",
       "A388  0.003626  0.056266  0.051109  0.008952  0.080080  0.012009  0.103448   \n",
       "A389  0.000041  0.189258  0.326133  0.033095  0.081460  0.070670  0.310345   \n",
       "A390  0.000131  0.071611  0.167792  0.012180  0.070058  0.003233  1.000000   \n",
       "\n",
       "      素材类型  广告类型  合作方式  广告尺寸  广告卖点  \n",
       "渠道代号                                \n",
       "A203     0     0     0     0     0  \n",
       "A387     0     0     1     0     1  \n",
       "A388     0     0     1     0     1  \n",
       "A389     0     0     1     0     1  \n",
       "A390     0     0     1     0     1  "
      ]
     },
     "execution_count": 55,
     "metadata": {},
     "output_type": "execute_result"
    }
   ],
   "source": [
    "adXScale = scaleDf.merge(right=adX.iloc[:,-5:],left_index=True,right_index=True)\n",
    "adXScale.head()"
   ]
  },
  {
   "cell_type": "code",
   "execution_count": 56,
   "metadata": {},
   "outputs": [
    {
     "data": {
      "text/html": [
       "<div>\n",
       "<style scoped>\n",
       "    .dataframe tbody tr th:only-of-type {\n",
       "        vertical-align: middle;\n",
       "    }\n",
       "\n",
       "    .dataframe tbody tr th {\n",
       "        vertical-align: top;\n",
       "    }\n",
       "\n",
       "    .dataframe thead th {\n",
       "        text-align: right;\n",
       "    }\n",
       "</style>\n",
       "<table border=\"1\" class=\"dataframe\">\n",
       "  <thead>\n",
       "    <tr style=\"text-align: right;\">\n",
       "      <th></th>\n",
       "      <th>日均UV</th>\n",
       "      <th>平均注册率</th>\n",
       "      <th>平均搜索量</th>\n",
       "      <th>访问深度</th>\n",
       "      <th>平均停留时间</th>\n",
       "      <th>订单转化率</th>\n",
       "      <th>投放总时间</th>\n",
       "      <th>素材类型</th>\n",
       "      <th>广告类型</th>\n",
       "      <th>合作方式</th>\n",
       "      <th>广告尺寸</th>\n",
       "      <th>广告卖点</th>\n",
       "    </tr>\n",
       "    <tr>\n",
       "      <th>渠道代号</th>\n",
       "      <th></th>\n",
       "      <th></th>\n",
       "      <th></th>\n",
       "      <th></th>\n",
       "      <th></th>\n",
       "      <th></th>\n",
       "      <th></th>\n",
       "      <th></th>\n",
       "      <th></th>\n",
       "      <th></th>\n",
       "      <th></th>\n",
       "      <th></th>\n",
       "    </tr>\n",
       "  </thead>\n",
       "  <tbody>\n",
       "    <tr>\n",
       "      <th>A203</th>\n",
       "      <td>0.000144</td>\n",
       "      <td>0.181586</td>\n",
       "      <td>0.020636</td>\n",
       "      <td>0.013340</td>\n",
       "      <td>0.093979</td>\n",
       "      <td>0.119169</td>\n",
       "      <td>0.655172</td>\n",
       "      <td>0</td>\n",
       "      <td>0</td>\n",
       "      <td>0</td>\n",
       "      <td>0</td>\n",
       "      <td>0</td>\n",
       "    </tr>\n",
       "    <tr>\n",
       "      <th>A387</th>\n",
       "      <td>0.007062</td>\n",
       "      <td>0.102302</td>\n",
       "      <td>0.031244</td>\n",
       "      <td>0.010705</td>\n",
       "      <td>0.035130</td>\n",
       "      <td>0.013857</td>\n",
       "      <td>0.620690</td>\n",
       "      <td>0</td>\n",
       "      <td>0</td>\n",
       "      <td>1</td>\n",
       "      <td>0</td>\n",
       "      <td>1</td>\n",
       "    </tr>\n",
       "    <tr>\n",
       "      <th>A388</th>\n",
       "      <td>0.003626</td>\n",
       "      <td>0.056266</td>\n",
       "      <td>0.051109</td>\n",
       "      <td>0.008952</td>\n",
       "      <td>0.080080</td>\n",
       "      <td>0.012009</td>\n",
       "      <td>0.103448</td>\n",
       "      <td>0</td>\n",
       "      <td>0</td>\n",
       "      <td>1</td>\n",
       "      <td>0</td>\n",
       "      <td>1</td>\n",
       "    </tr>\n",
       "    <tr>\n",
       "      <th>A389</th>\n",
       "      <td>0.000041</td>\n",
       "      <td>0.189258</td>\n",
       "      <td>0.326133</td>\n",
       "      <td>0.033095</td>\n",
       "      <td>0.081460</td>\n",
       "      <td>0.070670</td>\n",
       "      <td>0.310345</td>\n",
       "      <td>0</td>\n",
       "      <td>0</td>\n",
       "      <td>1</td>\n",
       "      <td>0</td>\n",
       "      <td>1</td>\n",
       "    </tr>\n",
       "    <tr>\n",
       "      <th>A390</th>\n",
       "      <td>0.000131</td>\n",
       "      <td>0.071611</td>\n",
       "      <td>0.167792</td>\n",
       "      <td>0.012180</td>\n",
       "      <td>0.070058</td>\n",
       "      <td>0.003233</td>\n",
       "      <td>1.000000</td>\n",
       "      <td>0</td>\n",
       "      <td>0</td>\n",
       "      <td>1</td>\n",
       "      <td>0</td>\n",
       "      <td>1</td>\n",
       "    </tr>\n",
       "  </tbody>\n",
       "</table>\n",
       "</div>"
      ],
      "text/plain": [
       "          日均UV     平均注册率     平均搜索量      访问深度    平均停留时间     订单转化率     投放总时间  \\\n",
       "渠道代号                                                                         \n",
       "A203  0.000144  0.181586  0.020636  0.013340  0.093979  0.119169  0.655172   \n",
       "A387  0.007062  0.102302  0.031244  0.010705  0.035130  0.013857  0.620690   \n",
       "A388  0.003626  0.056266  0.051109  0.008952  0.080080  0.012009  0.103448   \n",
       "A389  0.000041  0.189258  0.326133  0.033095  0.081460  0.070670  0.310345   \n",
       "A390  0.000131  0.071611  0.167792  0.012180  0.070058  0.003233  1.000000   \n",
       "\n",
       "      素材类型  广告类型  合作方式  广告尺寸  广告卖点  \n",
       "渠道代号                                \n",
       "A203     0     0     0     0     0  \n",
       "A387     0     0     1     0     1  \n",
       "A388     0     0     1     0     1  \n",
       "A389     0     0     1     0     1  \n",
       "A390     0     0     1     0     1  "
      ]
     },
     "execution_count": 56,
     "metadata": {},
     "output_type": "execute_result"
    }
   ],
   "source": [
    "adXScale = scaleDf.merge(right=adX.iloc[:,7:],left_index=True,right_index=True)\n",
    "adXScale.head()"
   ]
  },
  {
   "cell_type": "markdown",
   "metadata": {
    "slideshow": {
     "slide_type": "slide"
    }
   },
   "source": [
    "### $K$均值聚类"
   ]
  },
  {
   "cell_type": "markdown",
   "metadata": {
    "slideshow": {
     "slide_type": "fragment"
    }
   },
   "source": [
    "#### 选择$K$值"
   ]
  },
  {
   "cell_type": "code",
   "execution_count": 57,
   "metadata": {
    "scrolled": true,
    "slideshow": {
     "slide_type": "fragment"
    }
   },
   "outputs": [
    {
     "data": {
      "image/png": "[encoded data removed]",
      "text/plain": [
       "<Figure size 864x432 with 1 Axes>"
      ]
     },
     "metadata": {
      "needs_background": "light"
     },
     "output_type": "display_data"
    }
   ],
   "source": [
    "inertias = []\n",
    "for k in range(2,21):\n",
    "    km = KMeans(n_clusters=k,random_state=20,n_jobs=-1)\n",
    "    _ = km.fit(adXScale)\n",
    "    inertias.append(km.inertia_)\n",
    "adAx = pd.Series(inertias).plot(kind='line',marker='o',grid=True,figsize=(12,6))\n",
    "_ = adAx.set(xticks=range(0,20),xticklabels=range(2,21),xlabel='$K$',ylabel='SSE')"
   ]
  },
  {
   "cell_type": "markdown",
   "metadata": {
    "slideshow": {
     "slide_type": "fragment"
    }
   },
   "source": [
    "- SSE曲线变化连续，无明显肘部\n",
    "- 绘制轮廓系数图"
   ]
  },
  {
   "cell_type": "code",
   "execution_count": 58,
   "metadata": {
    "slideshow": {
     "slide_type": "slide"
    }
   },
   "outputs": [
    {
     "data": {
      "image/png": "[encoded data removed]",
      "text/plain": [
       "<Figure size 864x432 with 1 Axes>"
      ]
     },
     "metadata": {
      "needs_background": "light"
     },
     "output_type": "display_data"
    }
   ],
   "source": [
    "sil = []\n",
    "K = range(2,21)\n",
    "for k in K:\n",
    "    km = KMeans(n_clusters=k,random_state=20,n_jobs=-1)\n",
    "    kmPred = km.fit_predict(adXScale)\n",
    "    sil.append(silhouette_score(adXScale,kmPred))\n",
    "adAx = pd.Series(sil).plot(kind='line',marker='o',grid=True,figsize=(12,6))\n",
    "_ = adAx.set(xticks=range(0,20),xticklabels=range(2,21),xlabel='$K$',ylabel='轮廓系数')"
   ]
  },
  {
   "cell_type": "markdown",
   "metadata": {
    "slideshow": {
     "slide_type": "fragment"
    }
   },
   "source": [
    "- 选择$K=4$"
   ]
  },
  {
   "cell_type": "markdown",
   "metadata": {
    "slideshow": {
     "slide_type": "slide"
    }
   },
   "source": [
    "#### 建立并训练$K$均值模型"
   ]
  },
  {
   "cell_type": "code",
   "execution_count": 59,
   "metadata": {
    "slideshow": {
     "slide_type": "fragment"
    }
   },
   "outputs": [],
   "source": [
    "adKm = KMeans(n_clusters=4,random_state=20,n_jobs=-1)\n",
    "adClusters = adKm.fit_predict(adXScale)"
   ]
  },
  {
   "cell_type": "code",
   "execution_count": 60,
   "metadata": {
    "slideshow": {
     "slide_type": "fragment"
    }
   },
   "outputs": [
    {
     "data": {
      "text/plain": [
       "0    411\n",
       "1    297\n",
       "3    154\n",
       "2     27\n",
       "dtype: int64"
      ]
     },
     "execution_count": 60,
     "metadata": {},
     "output_type": "execute_result"
    }
   ],
   "source": [
    "pd.Series(adClusters).value_counts()"
   ]
  },
  {
   "cell_type": "markdown",
   "metadata": {
    "slideshow": {
     "slide_type": "slide"
    }
   },
   "source": [
    "#### 评估聚类效果"
   ]
  },
  {
   "cell_type": "markdown",
   "metadata": {
    "slideshow": {
     "slide_type": "fragment"
    }
   },
   "source": [
    "##### 轮廓系数均值"
   ]
  },
  {
   "cell_type": "code",
   "execution_count": 61,
   "metadata": {
    "slideshow": {
     "slide_type": "fragment"
    }
   },
   "outputs": [
    {
     "data": {
      "text/plain": [
       "0.5696854692292721"
      ]
     },
     "execution_count": 61,
     "metadata": {},
     "output_type": "execute_result"
    }
   ],
   "source": [
    "silhouette_score(X=adXScale,labels=adClusters)"
   ]
  },
  {
   "cell_type": "markdown",
   "metadata": {
    "slideshow": {
     "slide_type": "fragment"
    }
   },
   "source": [
    "##### 轮廓系数图"
   ]
  },
  {
   "cell_type": "code",
   "execution_count": 62,
   "metadata": {
    "scrolled": true,
    "slideshow": {
     "slide_type": "fragment"
    }
   },
   "outputs": [
    {
     "data": {
      "image/png": "[encoded data removed]",
      "text/plain": [
       "<Figure size 864x864 with 1 Axes>"
      ]
     },
     "metadata": {
      "needs_background": "light"
     },
     "output_type": "display_data"
    }
   ],
   "source": [
    "silhouette_plot(adClusters,adXScale)"
   ]
  },
  {
   "cell_type": "markdown",
   "metadata": {
    "slideshow": {
     "slide_type": "slide"
    }
   },
   "source": [
    "### 凝聚层次聚类"
   ]
  },
  {
   "cell_type": "markdown",
   "metadata": {
    "slideshow": {
     "slide_type": "fragment"
    }
   },
   "source": [
    "#### 建立凝聚层次模型"
   ]
  },
  {
   "cell_type": "markdown",
   "metadata": {
    "slideshow": {
     "slide_type": "fragment"
    }
   },
   "source": [
    "```python\n",
    "from scipy import hierarchy\n",
    "```"
   ]
  },
  {
   "cell_type": "code",
   "execution_count": 63,
   "metadata": {
    "slideshow": {
     "slide_type": "fragment"
    }
   },
   "outputs": [],
   "source": [
    "adLinkage = hierarchy.linkage(adXScale,method='average')"
   ]
  },
  {
   "cell_type": "markdown",
   "metadata": {
    "slideshow": {
     "slide_type": "fragment"
    }
   },
   "source": [
    "#### 绘制层次聚类树状图"
   ]
  },
  {
   "cell_type": "code",
   "execution_count": 64,
   "metadata": {
    "scrolled": true,
    "slideshow": {
     "slide_type": "fragment"
    }
   },
   "outputs": [
    {
     "data": {
      "image/png": "[encoded data removed]",
      "text/plain": [
       "<Figure size 2592x1728 with 1 Axes>"
      ]
     },
     "metadata": {
      "needs_background": "light"
     },
     "output_type": "display_data"
    }
   ],
   "source": [
    "fig,axe = plt.subplots(figsize=(36,24))\n",
    "_ = hierarchy.dendrogram(adLinkage,ax=axe,labels=adX.index)"
   ]
  },
  {
   "cell_type": "markdown",
   "metadata": {
    "slideshow": {
     "slide_type": "slide"
    }
   },
   "source": [
    "#### 建立指定簇个数的凝聚层次模型"
   ]
  },
  {
   "cell_type": "code",
   "execution_count": 65,
   "metadata": {
    "slideshow": {
     "slide_type": "fragment"
    }
   },
   "outputs": [],
   "source": [
    "adHierarchy = AgglomerativeClustering(n_clusters=5,linkage='average')\n",
    "adHierarchyClusters = adHierarchy.fit_predict(adXScale)"
   ]
  },
  {
   "cell_type": "markdown",
   "metadata": {
    "slideshow": {
     "slide_type": "fragment"
    }
   },
   "source": [
    "#### 检验聚类效果"
   ]
  },
  {
   "cell_type": "code",
   "execution_count": 66,
   "metadata": {
    "slideshow": {
     "slide_type": "fragment"
    }
   },
   "outputs": [
    {
     "data": {
      "text/plain": [
       "0.5695658078190916"
      ]
     },
     "execution_count": 66,
     "metadata": {},
     "output_type": "execute_result"
    }
   ],
   "source": [
    "silhouette_score(adXScale,adHierarchyClusters)"
   ]
  },
  {
   "cell_type": "code",
   "execution_count": 67,
   "metadata": {
    "scrolled": true,
    "slideshow": {
     "slide_type": "fragment"
    }
   },
   "outputs": [
    {
     "data": {
      "image/png": "[encoded data removed]",
      "text/plain": [
       "<Figure size 864x864 with 1 Axes>"
      ]
     },
     "metadata": {
      "needs_background": "light"
     },
     "output_type": "display_data"
    }
   ],
   "source": [
    "silhouette_plot(adHierarchyClusters,adXScale)"
   ]
  },
  {
   "cell_type": "markdown",
   "metadata": {
    "slideshow": {
     "slide_type": "slide"
    }
   },
   "source": [
    "### 基于密度的聚类"
   ]
  },
  {
   "cell_type": "markdown",
   "metadata": {
    "slideshow": {
     "slide_type": "fragment"
    }
   },
   "source": [
    "#### 确定`min_samples`"
   ]
  },
  {
   "cell_type": "markdown",
   "metadata": {
    "slideshow": {
     "slide_type": "fragment"
    }
   },
   "source": [
    "- `min_samples`过小，簇数量过多\n",
    "- `min_samples`过大，簇数量过少"
   ]
  },
  {
   "cell_type": "markdown",
   "metadata": {
    "slideshow": {
     "slide_type": "fragment"
    }
   },
   "source": [
    "- 经验值$\\text{min_samples}=2\\times 属性数量$\n",
    "- 数据样本点非常多或者噪声非常多的数据，`min_samples`应当增大"
   ]
  },
  {
   "cell_type": "markdown",
   "metadata": {
    "slideshow": {
     "slide_type": "slide"
    }
   },
   "source": [
    "#### 确定`eps`半径"
   ]
  },
  {
   "cell_type": "markdown",
   "metadata": {
    "slideshow": {
     "slide_type": "fragment"
    }
   },
   "source": [
    "- 利用$k$最近距离判断数据点之间的聚类大小\n",
    "- 令$k=\\text{min_samples}$\n",
    "- 追至$k$最邻近距离图像，图像的肘部(elbow)位置对应的距离即为`eps`"
   ]
  },
  {
   "cell_type": "code",
   "execution_count": 68,
   "metadata": {
    "slideshow": {
     "slide_type": "subslide"
    }
   },
   "outputs": [],
   "source": [
    "def kNearestDistance(X,k=3):\n",
    "    \"\"\"计算k最邻近距离并绘图,X为输入数据，k为第几个最近距离\"\"\"\n",
    "    distance = pdist(X)  # 计算两两数据点之间的距离,scipy中的函数\n",
    "    squareDistance = squareform(distance)  # 将两两数据点之间的距离表示成矩阵形式，scipy中的函数\n",
    "    nearestLst = []\n",
    "    for row in squareDistance:\n",
    "        row.sort()   # 对每行距离按从小到大排序\n",
    "        nearestLst.append(row[k-1]) # 记录第k个最近距离的值，列表从0开始计数\n",
    "    nearestLst.sort() # 把所有点的第k个最近距离从小到大排序\n",
    "    ax = pd.Series(nearestLst).plot(kind='line',figsize=(12,6),grid=True)\n",
    "    ax.set(xlabel='数据点',ylabel=f'{k}-最近距离')"
   ]
  },
  {
   "cell_type": "code",
   "execution_count": 69,
   "metadata": {
    "scrolled": true,
    "slideshow": {
     "slide_type": "slide"
    }
   },
   "outputs": [
    {
     "data": {
      "image/png": "[encoded data removed]",
      "text/plain": [
       "<Figure size 864x432 with 1 Axes>"
      ]
     },
     "metadata": {
      "needs_background": "light"
     },
     "output_type": "display_data"
    }
   ],
   "source": [
    "kNearestDistance(adXScale,24)"
   ]
  },
  {
   "cell_type": "markdown",
   "metadata": {
    "slideshow": {
     "slide_type": "fragment"
    }
   },
   "source": [
    "- 肘部位置对应的距离是1，所以`eps=1`"
   ]
  },
  {
   "cell_type": "markdown",
   "metadata": {
    "slideshow": {
     "slide_type": "fragment"
    }
   },
   "source": [
    "#### 建立DBSCAN模型并预测簇"
   ]
  },
  {
   "cell_type": "code",
   "execution_count": 70,
   "metadata": {
    "scrolled": true,
    "slideshow": {
     "slide_type": "slide"
    }
   },
   "outputs": [],
   "source": [
    "adDB = DBSCAN(eps=1,min_samples=24,metric='euclidean',n_jobs=-1)\n",
    "adLabels = adDB.fit_predict(adXScale)"
   ]
  },
  {
   "cell_type": "markdown",
   "metadata": {
    "slideshow": {
     "slide_type": "slide"
    }
   },
   "source": [
    "#### 评估聚类效果"
   ]
  },
  {
   "cell_type": "code",
   "execution_count": 71,
   "metadata": {
    "slideshow": {
     "slide_type": "fragment"
    }
   },
   "outputs": [
    {
     "data": {
      "text/plain": [
       "0.42775202520601036"
      ]
     },
     "execution_count": 71,
     "metadata": {},
     "output_type": "execute_result"
    }
   ],
   "source": [
    "silhouette_score(X=adXScale,labels=adLabels)"
   ]
  },
  {
   "cell_type": "code",
   "execution_count": 72,
   "metadata": {
    "slideshow": {
     "slide_type": "fragment"
    }
   },
   "outputs": [
    {
     "data": {
      "image/png": "[encoded data removed]",
      "text/plain": [
       "<Figure size 864x864 with 1 Axes>"
      ]
     },
     "metadata": {
      "needs_background": "light"
     },
     "output_type": "display_data"
    }
   ],
   "source": [
    "silhouette_plot(adLabels,adXScale)"
   ]
  },
  {
   "cell_type": "markdown",
   "metadata": {
    "slideshow": {
     "slide_type": "slide"
    }
   },
   "source": [
    "#### 去掉噪声点，重新评估聚类效果"
   ]
  },
  {
   "cell_type": "code",
   "execution_count": 73,
   "metadata": {
    "slideshow": {
     "slide_type": "fragment"
    }
   },
   "outputs": [],
   "source": [
    "adXSel = adXScale.loc[adLabels>=0,:]\n",
    "adLabelSel = adLabels[adLabels>=0]"
   ]
  },
  {
   "cell_type": "code",
   "execution_count": 74,
   "metadata": {
    "slideshow": {
     "slide_type": "fragment"
    }
   },
   "outputs": [
    {
     "data": {
      "text/plain": [
       "0.6719365726927707"
      ]
     },
     "execution_count": 74,
     "metadata": {},
     "output_type": "execute_result"
    }
   ],
   "source": [
    "silhouette_score(X=adXSel,labels=adLabelSel)"
   ]
  },
  {
   "cell_type": "code",
   "execution_count": 75,
   "metadata": {
    "slideshow": {
     "slide_type": "fragment"
    }
   },
   "outputs": [
    {
     "data": {
      "image/png": "[encoded data removed]",
      "text/plain": [
       "<Figure size 864x864 with 1 Axes>"
      ]
     },
     "metadata": {
      "needs_background": "light"
     },
     "output_type": "display_data"
    }
   ],
   "source": [
    "silhouette_plot(adLabelSel,adXSel)"
   ]
  },
  {
   "cell_type": "markdown",
   "metadata": {
    "slideshow": {
     "slide_type": "slide"
    }
   },
   "source": [
    "### 簇特征分析"
   ]
  },
  {
   "cell_type": "code",
   "execution_count": 76,
   "metadata": {
    "slideshow": {
     "slide_type": "fragment"
    }
   },
   "outputs": [],
   "source": [
    "adDf = adRaw.copy()\n",
    "adDf.set_index('渠道代号',inplace=True)"
   ]
  },
  {
   "cell_type": "markdown",
   "metadata": {
    "slideshow": {
     "slide_type": "fragment"
    }
   },
   "source": [
    "- 选用$K$均值聚类得到的4簇"
   ]
  },
  {
   "cell_type": "markdown",
   "metadata": {
    "slideshow": {
     "slide_type": "fragment"
    }
   },
   "source": [
    "#### 将簇标签增加到原数据集上"
   ]
  },
  {
   "cell_type": "code",
   "execution_count": 77,
   "metadata": {
    "scrolled": true,
    "slideshow": {
     "slide_type": "fragment"
    }
   },
   "outputs": [
    {
     "data": {
      "text/html": [
       "<div>\n",
       "<style scoped>\n",
       "    .dataframe tbody tr th:only-of-type {\n",
       "        vertical-align: middle;\n",
       "    }\n",
       "\n",
       "    .dataframe tbody tr th {\n",
       "        vertical-align: top;\n",
       "    }\n",
       "\n",
       "    .dataframe thead th {\n",
       "        text-align: right;\n",
       "    }\n",
       "</style>\n",
       "<table border=\"1\" class=\"dataframe\">\n",
       "  <thead>\n",
       "    <tr style=\"text-align: right;\">\n",
       "      <th></th>\n",
       "      <th>日均UV</th>\n",
       "      <th>平均注册率</th>\n",
       "      <th>平均搜索量</th>\n",
       "      <th>访问深度</th>\n",
       "      <th>平均停留时间</th>\n",
       "      <th>订单转化率</th>\n",
       "      <th>投放总时间</th>\n",
       "      <th>素材类型</th>\n",
       "      <th>广告类型</th>\n",
       "      <th>合作方式</th>\n",
       "      <th>广告尺寸</th>\n",
       "      <th>广告卖点</th>\n",
       "      <th>cluster</th>\n",
       "    </tr>\n",
       "    <tr>\n",
       "      <th>渠道代号</th>\n",
       "      <th></th>\n",
       "      <th></th>\n",
       "      <th></th>\n",
       "      <th></th>\n",
       "      <th></th>\n",
       "      <th></th>\n",
       "      <th></th>\n",
       "      <th></th>\n",
       "      <th></th>\n",
       "      <th></th>\n",
       "      <th></th>\n",
       "      <th></th>\n",
       "      <th></th>\n",
       "    </tr>\n",
       "  </thead>\n",
       "  <tbody>\n",
       "    <tr>\n",
       "      <th>A203</th>\n",
       "      <td>3.69</td>\n",
       "      <td>0.0071</td>\n",
       "      <td>0.0214</td>\n",
       "      <td>2.3071</td>\n",
       "      <td>419.77</td>\n",
       "      <td>0.0258</td>\n",
       "      <td>20.0</td>\n",
       "      <td>jpg</td>\n",
       "      <td>banner</td>\n",
       "      <td>roi</td>\n",
       "      <td>140*40</td>\n",
       "      <td>打折</td>\n",
       "      <td>3</td>\n",
       "    </tr>\n",
       "    <tr>\n",
       "      <th>A387</th>\n",
       "      <td>178.70</td>\n",
       "      <td>0.0040</td>\n",
       "      <td>0.0324</td>\n",
       "      <td>2.0489</td>\n",
       "      <td>157.94</td>\n",
       "      <td>0.0030</td>\n",
       "      <td>19.0</td>\n",
       "      <td>jpg</td>\n",
       "      <td>banner</td>\n",
       "      <td>cpc</td>\n",
       "      <td>140*40</td>\n",
       "      <td>满减</td>\n",
       "      <td>3</td>\n",
       "    </tr>\n",
       "    <tr>\n",
       "      <th>A388</th>\n",
       "      <td>91.77</td>\n",
       "      <td>0.0022</td>\n",
       "      <td>0.0530</td>\n",
       "      <td>1.8771</td>\n",
       "      <td>357.93</td>\n",
       "      <td>0.0026</td>\n",
       "      <td>4.0</td>\n",
       "      <td>jpg</td>\n",
       "      <td>banner</td>\n",
       "      <td>cpc</td>\n",
       "      <td>140*40</td>\n",
       "      <td>满减</td>\n",
       "      <td>3</td>\n",
       "    </tr>\n",
       "    <tr>\n",
       "      <th>A389</th>\n",
       "      <td>1.09</td>\n",
       "      <td>0.0074</td>\n",
       "      <td>0.3382</td>\n",
       "      <td>4.2426</td>\n",
       "      <td>364.07</td>\n",
       "      <td>0.0153</td>\n",
       "      <td>10.0</td>\n",
       "      <td>jpg</td>\n",
       "      <td>banner</td>\n",
       "      <td>cpc</td>\n",
       "      <td>140*40</td>\n",
       "      <td>满减</td>\n",
       "      <td>3</td>\n",
       "    </tr>\n",
       "    <tr>\n",
       "      <th>A390</th>\n",
       "      <td>3.37</td>\n",
       "      <td>0.0028</td>\n",
       "      <td>0.1740</td>\n",
       "      <td>2.1934</td>\n",
       "      <td>313.34</td>\n",
       "      <td>0.0007</td>\n",
       "      <td>30.0</td>\n",
       "      <td>jpg</td>\n",
       "      <td>banner</td>\n",
       "      <td>cpc</td>\n",
       "      <td>140*40</td>\n",
       "      <td>满减</td>\n",
       "      <td>3</td>\n",
       "    </tr>\n",
       "  </tbody>\n",
       "</table>\n",
       "</div>"
      ],
      "text/plain": [
       "        日均UV   平均注册率   平均搜索量    访问深度  平均停留时间   订单转化率  投放总时间 素材类型    广告类型 合作方式  \\\n",
       "渠道代号                                                                            \n",
       "A203    3.69  0.0071  0.0214  2.3071  419.77  0.0258   20.0  jpg  banner  roi   \n",
       "A387  178.70  0.0040  0.0324  2.0489  157.94  0.0030   19.0  jpg  banner  cpc   \n",
       "A388   91.77  0.0022  0.0530  1.8771  357.93  0.0026    4.0  jpg  banner  cpc   \n",
       "A389    1.09  0.0074  0.3382  4.2426  364.07  0.0153   10.0  jpg  banner  cpc   \n",
       "A390    3.37  0.0028  0.1740  2.1934  313.34  0.0007   30.0  jpg  banner  cpc   \n",
       "\n",
       "        广告尺寸 广告卖点  cluster  \n",
       "渠道代号                        \n",
       "A203  140*40   打折        3  \n",
       "A387  140*40   满减        3  \n",
       "A388  140*40   满减        3  \n",
       "A389  140*40   满减        3  \n",
       "A390  140*40   满减        3  "
      ]
     },
     "execution_count": 77,
     "metadata": {},
     "output_type": "execute_result"
    }
   ],
   "source": [
    "adDf['cluster'] = adClusters\n",
    "adDf.head()"
   ]
  },
  {
   "cell_type": "markdown",
   "metadata": {
    "slideshow": {
     "slide_type": "slide"
    }
   },
   "source": [
    "#### 按簇标签分组"
   ]
  },
  {
   "cell_type": "code",
   "execution_count": 78,
   "metadata": {
    "slideshow": {
     "slide_type": "fragment"
    }
   },
   "outputs": [],
   "source": [
    "adGps = adDf.groupby(by='cluster')"
   ]
  },
  {
   "cell_type": "code",
   "execution_count": 79,
   "metadata": {
    "slideshow": {
     "slide_type": "fragment"
    }
   },
   "outputs": [],
   "source": [
    "resLst = []\n",
    "for gp in adGps:\n",
    "    realCol = gp[1].iloc[:,:7].describe()   # 得到数值型属性的描述性统计\n",
    "    typeCol = gp[1].iloc[:,-6:-1].describe(include='all')   # 得到标称型属性的描述性统计\n",
    "    combCol = pd.concat([realCol.loc['mean',:],typeCol.loc['top',:]]) # 取数值型属性的均值，与标称型属性的频繁类别，并合并为新列\n",
    "    resLst.append(pd.concat([pd.Series(realCol.loc['count','日均UV'],index=['样本数量']),combCol])) # 把合并后的新列追加到列表中"
   ]
  },
  {
   "cell_type": "code",
   "execution_count": 80,
   "metadata": {
    "scrolled": true,
    "slideshow": {
     "slide_type": "fragment"
    }
   },
   "outputs": [
    {
     "data": {
      "text/html": [
       "<div>\n",
       "<style scoped>\n",
       "    .dataframe tbody tr th:only-of-type {\n",
       "        vertical-align: middle;\n",
       "    }\n",
       "\n",
       "    .dataframe tbody tr th {\n",
       "        vertical-align: top;\n",
       "    }\n",
       "\n",
       "    .dataframe thead th {\n",
       "        text-align: right;\n",
       "    }\n",
       "</style>\n",
       "<table border=\"1\" class=\"dataframe\">\n",
       "  <thead>\n",
       "    <tr style=\"text-align: right;\">\n",
       "      <th></th>\n",
       "      <th>0</th>\n",
       "      <th>1</th>\n",
       "      <th>2</th>\n",
       "      <th>3</th>\n",
       "    </tr>\n",
       "  </thead>\n",
       "  <tbody>\n",
       "    <tr>\n",
       "      <th>样本数量</th>\n",
       "      <td>411</td>\n",
       "      <td>297</td>\n",
       "      <td>27</td>\n",
       "      <td>154</td>\n",
       "    </tr>\n",
       "    <tr>\n",
       "      <th>日均UV</th>\n",
       "      <td>539.117</td>\n",
       "      <td>461.381</td>\n",
       "      <td>973.638</td>\n",
       "      <td>622.838</td>\n",
       "    </tr>\n",
       "    <tr>\n",
       "      <th>平均注册率</th>\n",
       "      <td>0.000959611</td>\n",
       "      <td>0.00140135</td>\n",
       "      <td>0.0012037</td>\n",
       "      <td>0.00265195</td>\n",
       "    </tr>\n",
       "    <tr>\n",
       "      <th>平均搜索量</th>\n",
       "      <td>0.0231255</td>\n",
       "      <td>0.0442333</td>\n",
       "      <td>0.0508407</td>\n",
       "      <td>0.0200877</td>\n",
       "    </tr>\n",
       "    <tr>\n",
       "      <th>访问深度</th>\n",
       "      <td>1.86348</td>\n",
       "      <td>2.42415</td>\n",
       "      <td>3.8731</td>\n",
       "      <td>2.18295</td>\n",
       "    </tr>\n",
       "    <tr>\n",
       "      <th>平均停留时间</th>\n",
       "      <td>203.328</td>\n",
       "      <td>335.252</td>\n",
       "      <td>441.967</td>\n",
       "      <td>249.625</td>\n",
       "    </tr>\n",
       "    <tr>\n",
       "      <th>订单转化率</th>\n",
       "      <td>0.00193455</td>\n",
       "      <td>0.00359663</td>\n",
       "      <td>0.00600741</td>\n",
       "      <td>0.00330909</td>\n",
       "    </tr>\n",
       "    <tr>\n",
       "      <th>投放总时间</th>\n",
       "      <td>15.601</td>\n",
       "      <td>16.8788</td>\n",
       "      <td>15.3704</td>\n",
       "      <td>15.7857</td>\n",
       "    </tr>\n",
       "    <tr>\n",
       "      <th>素材类型</th>\n",
       "      <td>swf</td>\n",
       "      <td>jpg</td>\n",
       "      <td>swf</td>\n",
       "      <td>jpg</td>\n",
       "    </tr>\n",
       "    <tr>\n",
       "      <th>广告类型</th>\n",
       "      <td>不确定</td>\n",
       "      <td>不确定</td>\n",
       "      <td>通栏</td>\n",
       "      <td>banner</td>\n",
       "    </tr>\n",
       "    <tr>\n",
       "      <th>合作方式</th>\n",
       "      <td>cpc</td>\n",
       "      <td>cpc</td>\n",
       "      <td>cpc</td>\n",
       "      <td>cpc</td>\n",
       "    </tr>\n",
       "    <tr>\n",
       "      <th>广告尺寸</th>\n",
       "      <td>600*90</td>\n",
       "      <td>600*90</td>\n",
       "      <td>900*120</td>\n",
       "      <td>308*388</td>\n",
       "    </tr>\n",
       "    <tr>\n",
       "      <th>广告卖点</th>\n",
       "      <td>打折</td>\n",
       "      <td>直降</td>\n",
       "      <td>打折</td>\n",
       "      <td>满减</td>\n",
       "    </tr>\n",
       "  </tbody>\n",
       "</table>\n",
       "</div>"
      ],
      "text/plain": [
       "                  0           1           2           3\n",
       "样本数量            411         297          27         154\n",
       "日均UV        539.117     461.381     973.638     622.838\n",
       "平均注册率   0.000959611  0.00140135   0.0012037  0.00265195\n",
       "平均搜索量     0.0231255   0.0442333   0.0508407   0.0200877\n",
       "访问深度        1.86348     2.42415      3.8731     2.18295\n",
       "平均停留时间      203.328     335.252     441.967     249.625\n",
       "订单转化率    0.00193455  0.00359663  0.00600741  0.00330909\n",
       "投放总时间        15.601     16.8788     15.3704     15.7857\n",
       "素材类型            swf         jpg         swf         jpg\n",
       "广告类型            不确定         不确定          通栏      banner\n",
       "合作方式            cpc         cpc         cpc         cpc\n",
       "广告尺寸         600*90      600*90     900*120     308*388\n",
       "广告卖点             打折          直降          打折          满减"
      ]
     },
     "execution_count": 80,
     "metadata": {},
     "output_type": "execute_result"
    }
   ],
   "source": [
    "pd.concat(resLst,axis=1) # 把存有4个簇各个属性特征的series合并成一个dataframe"
   ]
  }
 ],
 "metadata": {
  "celltoolbar": "幻灯片",
  "hide_input": false,
  "kernelspec": {
   "display_name": "Python 3",
   "language": "python",
   "name": "python3"
  },
  "language_info": {
   "codemirror_mode": {
    "name": "ipython",
    "version": 3
   },
   "file_extension": ".py",
   "mimetype": "text/x-python",
   "name": "python",
   "nbconvert_exporter": "python",
   "pygments_lexer": "ipython3",
   "version": "3.6.8"
  },
  "toc": {
   "base_numbering": 1,
   "nav_menu": {},
   "number_sections": true,
   "sideBar": true,
   "skip_h1_title": false,
   "title_cell": "Table of Contents",
   "title_sidebar": "Contents",
   "toc_cell": false,
   "toc_position": {
    "height": "calc(100% - 180px)",
    "left": "10px",
    "top": "150px",
    "width": "193.773px"
   },
   "toc_section_display": true,
   "toc_window_display": false
  }
 },
 "nbformat": 4,
 "nbformat_minor": 2
}
