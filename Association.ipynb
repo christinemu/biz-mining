{
 "cells": [
  {
   "cell_type": "code",
   "execution_count": 1,
   "metadata": {
    "init_cell": true,
    "slideshow": {
     "slide_type": "notes"
    }
   },
   "outputs": [
    {
     "name": "stderr",
     "output_type": "stream",
     "text": [
      "/home/VENV36/lib/python3.6/site-packages/pandas/compat/__init__.py:117: UserWarning: Could not import the lzma module. Your installed Python is incomplete. Attempting to use lzma compression will result in a RuntimeError.\n",
      "  warnings.warn(msg)\n"
     ]
    }
   ],
   "source": [
    "import pandas as pd\n",
    "import numpy as np\n",
    "from graphviz import Digraph,Graph\n",
    "import matplotlib.pyplot as plt\n",
    "from sklearn.model_selection import train_test_split\n",
    "from sklearn.metrics import accuracy_score\n",
    "from IPython.display import display\n",
    "from IPython.core.interactiveshell import InteractiveShell\n",
    "InteractiveShell.ast_node_interactivity = \"all\""
   ]
  },
  {
   "cell_type": "markdown",
   "metadata": {
    "slideshow": {
     "slide_type": "slide"
    }
   },
   "source": [
    "<div class=\"jumbotron\">\n",
    "    <h1 class=\"display-1\">关联分析</h1>\n",
    "    <hr class=\"my-4\">\n",
    "    <p>主讲：李岩</p>\n",
    "    <p>管理学院</p>\n",
    "    <p>liyan@cumtb.edu.cn</p>\n",
    "</div>"
   ]
  },
  {
   "cell_type": "markdown",
   "metadata": {
    "slideshow": {
     "slide_type": "slide"
    }
   },
   "source": [
    "<center><img src=\"./img/association/supermarket.jpg\" width=30%></center>"
   ]
  },
  {
   "cell_type": "markdown",
   "metadata": {
    "slideshow": {
     "slide_type": "fragment"
    }
   },
   "source": [
    "<center><img src=\"./img/association/supermarket2.jpg\" width=30%></center>"
   ]
  },
  {
   "cell_type": "markdown",
   "metadata": {
    "slideshow": {
     "slide_type": "slide"
    }
   },
   "source": [
    "给定**购物篮事务**（market basket transaction）"
   ]
  },
  {
   "cell_type": "markdown",
   "metadata": {
    "slideshow": {
     "slide_type": "fragment"
    }
   },
   "source": [
    "TID|项集\n",
    "---|---\n",
    "1|{面包，牛奶}\n",
    "2|{面包，尿布，啤酒，鸡蛋}\n",
    "3|{牛奶，尿布，啤酒，可乐}\n",
    "4|{面包，牛奶，尿布，啤酒}\n",
    "5|{面包，牛奶，尿布，可乐}"
   ]
  },
  {
   "cell_type": "markdown",
   "metadata": {
    "slideshow": {
     "slide_type": "fragment"
    }
   },
   "source": [
    "$$\n",
    "\\{啤酒\\}\\to\\{尿布\\}\n",
    "$$"
   ]
  },
  {
   "cell_type": "markdown",
   "metadata": {
    "slideshow": {
     "slide_type": "fragment"
    }
   },
   "source": [
    "> 关联规则（association rule）"
   ]
  },
  {
   "cell_type": "markdown",
   "metadata": {
    "slideshow": {
     "slide_type": "slide"
    }
   },
   "source": [
    "<dl class=\"row alert-info\">\n",
    "    <dt class=\"col-md-4\">关联分析(association analysis)</dt>\n",
    "    <dd class=\"auto\">在大规模数据集中寻找数据之间有意义的关系（<strong>关联规则</strong>）的无监督的算法</dd>\n",
    "</dl>"
   ]
  },
  {
   "cell_type": "markdown",
   "metadata": {
    "slideshow": {
     "slide_type": "fragment"
    }
   },
   "source": [
    "- 应用的领域\n",
    "    + 零售中的产品组合、促销\n",
    "    + 移动通信可选服务的绑定\n",
    "    + 通过识别不寻常的保险索赔组合发现保险欺诈\n",
    "    + 。。。"
   ]
  },
  {
   "cell_type": "markdown",
   "metadata": {
    "slideshow": {
     "slide_type": "slide"
    }
   },
   "source": [
    "## 基本概念"
   ]
  },
  {
   "cell_type": "markdown",
   "metadata": {
    "slideshow": {
     "slide_type": "fragment"
    }
   },
   "source": [
    "- 令$I=\\{i_1,i_2,\\cdots,i_d\\}$是购物篮中所有**项**的集合，$T=\\{t_1,t_2,\\cdots,t_N\\}$是所有**事务**的集合"
   ]
  },
  {
   "cell_type": "markdown",
   "metadata": {
    "slideshow": {
     "slide_type": "fragment"
    }
   },
   "source": [
    "- 例如，$I=\\{面包,牛奶,啤酒,尿布,鸡蛋,可乐\\}$\n",
    "- $T=\\left\\{\\{面包,牛奶\\},\\{面包,尿布,啤酒\\},\\{鸡蛋,可乐\\},\\cdots\\right\\}$"
   ]
  },
  {
   "cell_type": "markdown",
   "metadata": {
    "slideshow": {
     "slide_type": "slide"
    }
   },
   "source": [
    "### 项集（itemset）"
   ]
  },
  {
   "cell_type": "markdown",
   "metadata": {
    "slideshow": {
     "slide_type": "fragment"
    }
   },
   "source": [
    "<dl class=\"row alert-info\">\n",
    "    <dt class=\"col-md-3\">项集</dt>\n",
    "    <dd class=\"col-md-12\">包含0个或多个项的集合</dd>\n",
    "</dl>"
   ]
  },
  {
   "cell_type": "markdown",
   "metadata": {
    "slideshow": {
     "slide_type": "fragment"
    }
   },
   "source": [
    "<dl class=\"row alert-success\">\n",
    "    <dt class=\"col-md-3\">$k$-项集</dt>\n",
    "    <dd class=\"col-md-9\">包含$k$个项的项集，$k=0,1,2,\\cdots$</dd>\n",
    "</dl>"
   ]
  },
  {
   "cell_type": "markdown",
   "metadata": {
    "slideshow": {
     "slide_type": "fragment"
    }
   },
   "source": [
    "> {啤酒，尿布，牛奶}是一个3-项集"
   ]
  },
  {
   "cell_type": "markdown",
   "metadata": {
    "slideshow": {
     "slide_type": "fragment"
    }
   },
   "source": [
    "<dl class=\"row alert-info\">\n",
    "    <dt class=\"col-md-3\">空集</dt>\n",
    "    <dd class=\"col-md-9\">不包含任何项的项集</dd>\n",
    "</dl>"
   ]
  },
  {
   "cell_type": "markdown",
   "metadata": {
    "slideshow": {
     "slide_type": "slide"
    }
   },
   "source": [
    "<dl class=\"row alert-danger\">\n",
    "    <dt class=\"col-md-4\">支持度计数</dt>\n",
    "    <dd class=\"col-md-8\">包含特定项集的<strong>事务</strong>的<strong>个数</strong></dd>\n",
    "</dl>"
   ]
  },
  {
   "cell_type": "markdown",
   "metadata": {
    "slideshow": {
     "slide_type": "fragment"
    }
   },
   "source": [
    "<dl class=\"row alert-success\">\n",
    "    <dt class=\"col-md-3\">支持度（support）</dt>\n",
    "    <dd class=\"col-md-9\">包含特定项集的<strong>事务</strong>在所有事务中的<strong>占比</strong>，取值范围$[0,1]$</dd>\n",
    "</dl>"
   ]
  },
  {
   "cell_type": "markdown",
   "metadata": {
    "slideshow": {
     "slide_type": "fragment"
    }
   },
   "source": [
    "令$\\sigma(X)$表示项集$X$的支持度计数，则，\n",
    "\n",
    "$$\n",
    "\\sigma(X)=|\\{t_i|X\\subseteq t_i, t_i\\in T\\}|\n",
    "$$\n",
    "\n",
    "符号$|\\cdot|$表示计算集合中元素的个数"
   ]
  },
  {
   "cell_type": "markdown",
   "metadata": {
    "cell_style": "split",
    "slideshow": {
     "slide_type": "subslide"
    }
   },
   "source": [
    "TID|项集\n",
    "---|---\n",
    "1|{面包，牛奶}\n",
    "2|{面包，尿布，啤酒，鸡蛋}\n",
    "3|{牛奶，尿布，啤酒，可乐}\n",
    "4|{面包，牛奶，尿布，啤酒}\n",
    "5|{面包，牛奶，尿布，可乐}"
   ]
  },
  {
   "cell_type": "markdown",
   "metadata": {
    "slideshow": {
     "slide_type": "fragment"
    }
   },
   "source": [
    "- $\\{尿布\\}$的支持度计数是多少？"
   ]
  },
  {
   "cell_type": "markdown",
   "metadata": {
    "slideshow": {
     "slide_type": "fragment"
    }
   },
   "source": [
    "$$\\sigma(\\{尿布\\})=4$$"
   ]
  },
  {
   "cell_type": "markdown",
   "metadata": {
    "slideshow": {
     "slide_type": "fragment"
    }
   },
   "source": [
    "- $\\{啤酒, 尿布\\}$的支持度计数是多少？"
   ]
  },
  {
   "cell_type": "markdown",
   "metadata": {
    "slideshow": {
     "slide_type": "fragment"
    }
   },
   "source": [
    "$$\\sigma(\\{啤酒,尿布\\})=3$$"
   ]
  },
  {
   "cell_type": "markdown",
   "metadata": {
    "cell_style": "split",
    "slideshow": {
     "slide_type": "fragment"
    }
   },
   "source": [
    "- $\\{啤酒，尿布，牛奶\\}$的支持度计数是多少？"
   ]
  },
  {
   "cell_type": "markdown",
   "metadata": {
    "cell_style": "split",
    "slideshow": {
     "slide_type": "fragment"
    }
   },
   "source": [
    "$$\\sigma(\\{啤酒，尿布，牛奶\\})=2$$"
   ]
  },
  {
   "cell_type": "markdown",
   "metadata": {
    "slideshow": {
     "slide_type": "slide"
    }
   },
   "source": [
    "### 关联规则（association rule）"
   ]
  },
  {
   "cell_type": "markdown",
   "metadata": {
    "slideshow": {
     "slide_type": "fragment"
    }
   },
   "source": [
    "假设$X$和$Y$是两个项集，则**关联规则**是\n",
    "- 形如$X\\to Y$的表达式，其中$X\\cap Y=\\emptyset$"
   ]
  },
  {
   "cell_type": "markdown",
   "metadata": {
    "cell_style": "split",
    "slideshow": {
     "slide_type": "fragment"
    }
   },
   "source": [
    "TID|项集\n",
    "---|---\n",
    "1|{面包，牛奶}\n",
    "2|{面包，尿布，啤酒，鸡蛋}\n",
    "3|{牛奶，尿布，啤酒，可乐}\n",
    "4|{面包，牛奶，尿布，啤酒}\n",
    "5|{面包，牛奶，尿布，可乐}"
   ]
  },
  {
   "cell_type": "markdown",
   "metadata": {
    "cell_style": "split",
    "slideshow": {
     "slide_type": "fragment"
    }
   },
   "source": [
    "$$\\{面包，尿布\\}\\to\\{鸡蛋\\}$$"
   ]
  },
  {
   "cell_type": "markdown",
   "metadata": {
    "cell_style": "split",
    "slideshow": {
     "slide_type": "fragment"
    }
   },
   "source": [
    "$$\\{面包\\}\\to\\{牛奶，尿布\\}$$"
   ]
  },
  {
   "cell_type": "markdown",
   "metadata": {
    "slideshow": {
     "slide_type": "slide"
    }
   },
   "source": [
    "- 如何判断哪些是**有效**的关联规则？"
   ]
  },
  {
   "cell_type": "markdown",
   "metadata": {
    "slideshow": {
     "slide_type": "fragment"
    }
   },
   "source": [
    "> 需要根据关联规则的**强度**判断关联规则的有效性"
   ]
  },
  {
   "cell_type": "code",
   "execution_count": 2,
   "metadata": {
    "slideshow": {
     "slide_type": "skip"
    }
   },
   "outputs": [
    {
     "data": {
      "text/plain": [
       "'./img/association/arstrength.svg'"
      ]
     },
     "execution_count": 2,
     "metadata": {},
     "output_type": "execute_result"
    }
   ],
   "source": [
    "arstr = Digraph(format='svg',\n",
    "                node_attr={'fontname':'STKAITI'},\n",
    "                graph_attr={'rankdir':'LR'})\n",
    "arstr.node('A','关联规则强度',shape='plaintext')\n",
    "arstr.node('B','支持度')\n",
    "arstr.node('C','置信度')\n",
    "arstr.edges(['AB','AC'])\n",
    "arstr.render(filename='arstrength',directory='./img/association/')"
   ]
  },
  {
   "cell_type": "markdown",
   "metadata": {
    "slideshow": {
     "slide_type": "fragment"
    }
   },
   "source": [
    "<img src=\"./img/association/arstrength.svg\" width=40%>"
   ]
  },
  {
   "cell_type": "markdown",
   "metadata": {
    "slideshow": {
     "slide_type": "slide"
    }
   },
   "source": [
    "#### 关联规则的支持度"
   ]
  },
  {
   "cell_type": "markdown",
   "metadata": {
    "slideshow": {
     "slide_type": "fragment"
    }
   },
   "source": [
    "- 关联规则的支持度衡量该关联规则包含的数据项集的频繁程度"
   ]
  },
  {
   "cell_type": "markdown",
   "metadata": {
    "slideshow": {
     "slide_type": "fragment"
    }
   },
   "source": [
    "令$s(X\\to Y)$表示关联规则$X\\to Y$的支持度，$N$为所有事务的总数，则"
   ]
  },
  {
   "cell_type": "markdown",
   "metadata": {
    "slideshow": {
     "slide_type": "fragment"
    }
   },
   "source": [
    "$$\n",
    "s(X\\to Y)=\\frac{\\sigma(X\\cup Y)}{N}\n",
    "$$"
   ]
  },
  {
   "cell_type": "markdown",
   "metadata": {
    "slideshow": {
     "slide_type": "fragment"
    }
   },
   "source": [
    "- 支持度用于去除偶然出现的关系"
   ]
  },
  {
   "cell_type": "markdown",
   "metadata": {
    "cell_style": "split",
    "slideshow": {
     "slide_type": "slide"
    }
   },
   "source": [
    "TID|项集\n",
    "---|---\n",
    "1|{面包，牛奶}\n",
    "2|{面包，尿布，啤酒，鸡蛋}\n",
    "3|{牛奶，尿布，啤酒，可乐}\n",
    "4|{面包，牛奶，尿布，啤酒}\n",
    "5|{面包，牛奶，尿布，可乐}"
   ]
  },
  {
   "cell_type": "markdown",
   "metadata": {
    "cell_style": "split",
    "slideshow": {
     "slide_type": "fragment"
    }
   },
   "source": [
    "- 计算关联规则$\\{面包，尿布\\}\\to\\{鸡蛋\\}$的支持度"
   ]
  },
  {
   "cell_type": "markdown",
   "metadata": {
    "cell_style": "split",
    "slideshow": {
     "slide_type": "fragment"
    }
   },
   "source": [
    "$$\n",
    "\\begin{split}\n",
    "s(\\{面包，尿布\\}\\to\\{鸡蛋\\})&=\\frac{\\sigma(\\{面包，尿布，鸡蛋\\})}{N}\\\\\n",
    "&=\\frac{1}{5}\n",
    "\\end{split}\n",
    "$$"
   ]
  },
  {
   "cell_type": "markdown",
   "metadata": {
    "cell_style": "center",
    "slideshow": {
     "slide_type": "fragment"
    }
   },
   "source": [
    "- 计算关联规则$\\{面包\\}\\to\\{牛奶，尿布\\}$的支持度"
   ]
  },
  {
   "cell_type": "markdown",
   "metadata": {
    "slideshow": {
     "slide_type": "fragment"
    }
   },
   "source": [
    "$$\n",
    "\\begin{split}\n",
    "s(\\{面包\\}\\to\\{牛奶，尿布\\})&=\\frac{\\sigma(\\{面包,牛奶,尿布\\})}{N}\\\\\n",
    "&=\\frac{2}{5}\n",
    "\\end{split}\n",
    "$$"
   ]
  },
  {
   "cell_type": "markdown",
   "metadata": {
    "slideshow": {
     "slide_type": "slide"
    }
   },
   "source": [
    "##### 支持度的不足"
   ]
  },
  {
   "cell_type": "markdown",
   "metadata": {
    "slideshow": {
     "slide_type": "fragment"
    }
   },
   "source": [
    "<center><img src=\"./img/association/supportShortN.png\" width=50%></center>"
   ]
  },
  {
   "cell_type": "markdown",
   "metadata": {
    "slideshow": {
     "slide_type": "fragment"
    }
   },
   "source": [
    "- 对于关联规则$\\{A,B\\}\\to\\{C\\}$而言，项集$\\{A,B\\}$出现了8次，但是只有3次与$\\{C\\}$同时"
   ]
  },
  {
   "cell_type": "markdown",
   "metadata": {
    "slideshow": {
     "slide_type": "fragment"
    }
   },
   "source": [
    "- 对于关联规则$\\{B,E\\}\\to\\{G\\}$而言，项集$\\{B,E\\}$出现了3次，但是3次都与$\\{G\\}$同时"
   ]
  },
  {
   "cell_type": "markdown",
   "metadata": {
    "slideshow": {
     "slide_type": "slide"
    }
   },
   "source": [
    "#### 关联规则的置信度"
   ]
  },
  {
   "cell_type": "markdown",
   "metadata": {
    "slideshow": {
     "slide_type": "fragment"
    }
   },
   "source": [
    "<dl class=\"row alert-success\">\n",
    "    <dt class=\"col-md-4\">置信度（confidence）</dt>\n",
    "    <dd class=\"col-md-8\">衡量项集$Y$在包含项集$X$的事务中出现的频繁程度</dd>\n",
    "</dl>"
   ]
  },
  {
   "cell_type": "markdown",
   "metadata": {
    "slideshow": {
     "slide_type": "fragment"
    }
   },
   "source": [
    "令$c(X\\to Y)$表示关联规则$X\\to Y$的置信度，则"
   ]
  },
  {
   "cell_type": "markdown",
   "metadata": {
    "slideshow": {
     "slide_type": "fragment"
    }
   },
   "source": [
    "$$\n",
    "c(X\\to Y)=\\frac{\\sigma(X\\cup Y)}{\\sigma(X)}\n",
    "$$\n",
    "\n",
    "取值范围$[0,1]$"
   ]
  },
  {
   "cell_type": "markdown",
   "metadata": {
    "slideshow": {
     "slide_type": "fragment"
    }
   },
   "source": [
    "- 置信度提升通过规则进行推理的可靠性"
   ]
  },
  {
   "cell_type": "markdown",
   "metadata": {
    "cell_style": "split",
    "slideshow": {
     "slide_type": "slide"
    }
   },
   "source": [
    "TID|项集\n",
    "---|---\n",
    "1|{面包，牛奶}\n",
    "2|{面包，尿布，啤酒，鸡蛋}\n",
    "3|{牛奶，尿布，啤酒，可乐}\n",
    "4|{面包，牛奶，尿布，啤酒}\n",
    "5|{面包，牛奶，尿布，可乐}"
   ]
  },
  {
   "cell_type": "markdown",
   "metadata": {
    "cell_style": "split",
    "slideshow": {
     "slide_type": "fragment"
    }
   },
   "source": [
    "- 计算关联规则$\\{面包，尿布\\}\\to\\{鸡蛋\\}$的置信度"
   ]
  },
  {
   "cell_type": "markdown",
   "metadata": {
    "cell_style": "split",
    "slideshow": {
     "slide_type": "fragment"
    }
   },
   "source": [
    "$$\n",
    "\\begin{split}\n",
    "c(\\{面包，尿布\\}\\to\\{鸡蛋\\})&=\\frac{\\sigma(\\{面包，尿布，鸡蛋\\})}{\\sigma(\\{面包，尿布\\})}\\\\\n",
    "&=\\frac{1}{3}\n",
    "\\end{split}\n",
    "$$"
   ]
  },
  {
   "cell_type": "markdown",
   "metadata": {
    "cell_style": "center",
    "slideshow": {
     "slide_type": "fragment"
    }
   },
   "source": [
    "- 计算关联规则$\\{面包\\}\\to\\{牛奶，尿布\\}$的置信度"
   ]
  },
  {
   "cell_type": "markdown",
   "metadata": {
    "slideshow": {
     "slide_type": "fragment"
    }
   },
   "source": [
    "$$\n",
    "\\begin{split}\n",
    "c(\\{面包\\}\\to\\{牛奶，尿布\\})&=\\frac{\\sigma(\\{面包,牛奶,尿布\\})}{\\sigma(\\{面包\\})}\\\\\n",
    "&=\\frac{2}{4}=\\frac{1}{2}\n",
    "\\end{split}\n",
    "$$"
   ]
  },
  {
   "cell_type": "markdown",
   "metadata": {
    "slideshow": {
     "slide_type": "subslide"
    }
   },
   "source": [
    "### 关联规则挖掘的问题表述"
   ]
  },
  {
   "cell_type": "markdown",
   "metadata": {
    "slideshow": {
     "slide_type": "fragment"
    }
   },
   "source": [
    "- 关联规则发现：给定事务集$T$，找出满足下列条件的所有规则\n",
    "    + **支持度**$\\ge minsup$\n",
    "    + **置信度**$\\ge minconf$"
   ]
  },
  {
   "cell_type": "markdown",
   "metadata": {
    "slideshow": {
     "slide_type": "fragment"
    }
   },
   "source": [
    "> 关联规则并不一定是**因果关系**，只是表明关联规则中涉及到的项集会**同时出现**"
   ]
  },
  {
   "cell_type": "markdown",
   "metadata": {
    "slideshow": {
     "slide_type": "slide"
    }
   },
   "source": [
    "## 频繁项集"
   ]
  },
  {
   "cell_type": "markdown",
   "metadata": {
    "slideshow": {
     "slide_type": "fragment"
    }
   },
   "source": [
    "若数据集中包含的所有项的个数为$d$，那么"
   ]
  },
  {
   "cell_type": "markdown",
   "metadata": {
    "slideshow": {
     "slide_type": "fragment"
    }
   },
   "source": [
    "- 所有项集的个数为\n",
    "\n",
    "$$\n",
    "\\sum_{k=0}^dC_d^k=2^d\n",
    "$$"
   ]
  },
  {
   "cell_type": "markdown",
   "metadata": {
    "slideshow": {
     "slide_type": "fragment"
    }
   },
   "source": [
    "- 所有可能的关联规则的个数为\n",
    "\n",
    "$$\n",
    "\\sum_{k=1}^{d-1}\\left(C_d^k\\times \\sum_{j=1}^{d-k}C_{d-k}^j\\right)=3^d-2^{d+1}+1\n",
    "$$"
   ]
  },
  {
   "cell_type": "markdown",
   "metadata": {
    "slideshow": {
     "slide_type": "fragment"
    }
   },
   "source": [
    "- 例如，某超市出售1000种商品，那么可能的关联规则的数量是"
   ]
  },
  {
   "cell_type": "code",
   "execution_count": 3,
   "metadata": {
    "slideshow": {
     "slide_type": "fragment"
    }
   },
   "outputs": [
    {
     "data": {
      "text/plain": [
       "1322070819480806636890455259752144365965422032752148167664920368226828597346704899540778313850608061963909777696872582355950954582100618911865342725257953674027620225198320803856584602085239494855421899136388581829900851581512422289186558405647065651991783728261512768091629891845145437466402431751173230506983987691809427140831266790438752347270094433242749727484630958415937995632602566797855058053311525307758583546709976985207992693374081496689754702826924329094491519081250"
      ]
     },
     "execution_count": 3,
     "metadata": {},
     "output_type": "execute_result"
    }
   ],
   "source": [
    "pow(3,1000)-pow(2,1001)+1"
   ]
  },
  {
   "cell_type": "markdown",
   "metadata": {
    "slideshow": {
     "slide_type": "slide"
    }
   },
   "source": [
    "### 频繁项集"
   ]
  },
  {
   "cell_type": "markdown",
   "metadata": {
    "slideshow": {
     "slide_type": "fragment"
    }
   },
   "source": [
    "- 关联规则的支持度\n",
    "$$\n",
    "s(X\\to Y)=\\frac{\\sigma(X\\cup Y)}{N}\n",
    "$$"
   ]
  },
  {
   "cell_type": "markdown",
   "metadata": {
    "slideshow": {
     "slide_type": "fragment"
    }
   },
   "source": [
    "> 关联规则的支持度仅依赖于项集**$X\\cup Y$的支持度**"
   ]
  },
  {
   "cell_type": "markdown",
   "metadata": {
    "slideshow": {
     "slide_type": "fragment"
    }
   },
   "source": [
    "- 例如，$\\{啤酒，尿布\\}\\to\\{牛奶\\}$，$\\{啤酒，牛奶\\}\\to\\{尿布\\}$，$\\{牛奶\\}\\to\\{啤酒，尿布\\}$都拥有相同的支持度"
   ]
  },
  {
   "cell_type": "markdown",
   "metadata": {
    "slideshow": {
     "slide_type": "fragment"
    }
   },
   "source": [
    "- 如果对应的项集$\\{啤酒，尿布，牛奶\\}$**不是**事务数据集中频繁出现的，就可以不考虑包含它的规则"
   ]
  },
  {
   "cell_type": "markdown",
   "metadata": {
    "slideshow": {
     "slide_type": "fragment"
    }
   },
   "source": [
    "<dl class=\"row alert-info\">\n",
    "    <dt class=\"col-md-6\">频繁项集（frequent itemset）</dt>\n",
    "    <dd class=\"col-md-6\">满足最小支持度阈值的所有项集</dd>\n",
    "</dl>"
   ]
  },
  {
   "cell_type": "markdown",
   "metadata": {
    "slideshow": {
     "slide_type": "slide"
    }
   },
   "source": [
    "### 关联规则挖掘的基本策略"
   ]
  },
  {
   "cell_type": "markdown",
   "metadata": {
    "slideshow": {
     "slide_type": "fragment"
    }
   },
   "source": [
    "1. 生成频繁项集"
   ]
  },
  {
   "cell_type": "markdown",
   "metadata": {
    "slideshow": {
     "slide_type": "fragment"
    }
   },
   "source": [
    "2. 从频繁项集中提取所有高置信度的规则，即**强规则**（strong rule）"
   ]
  },
  {
   "cell_type": "markdown",
   "metadata": {
    "slideshow": {
     "slide_type": "slide"
    }
   },
   "source": [
    "## 频繁项集的产生"
   ]
  },
  {
   "cell_type": "markdown",
   "metadata": {
    "slideshow": {
     "slide_type": "fragment"
    }
   },
   "source": [
    "### 格结构"
   ]
  },
  {
   "cell_type": "markdown",
   "metadata": {
    "slideshow": {
     "slide_type": "fragment"
    }
   },
   "source": [
    "<dl class=\"row alert-info\">\n",
    "    <dt class=\"col-md-7\">格结构（lattice structure）</dt>\n",
    "    <dd class=\"col-md-5\">枚举所有可能的项集</dd>\n",
    "</dl>"
   ]
  },
  {
   "cell_type": "markdown",
   "metadata": {
    "slideshow": {
     "slide_type": "fragment"
    }
   },
   "source": [
    "- 给定项的集合$I=\\{A,B,C,D,E\\}$，则该集合的格结构为"
   ]
  },
  {
   "cell_type": "code",
   "execution_count": 4,
   "metadata": {
    "slideshow": {
     "slide_type": "skip"
    }
   },
   "outputs": [
    {
     "data": {
      "image/svg+xml": [
       "<?xml version=\"1.0\" encoding=\"UTF-8\" standalone=\"no\"?>\n",
       "<!DOCTYPE svg PUBLIC \"-//W3C//DTD SVG 1.1//EN\"\n",
       " \"http://www.w3.org/Graphics/SVG/1.1/DTD/svg11.dtd\">\n",
       "<!-- Generated by graphviz version 2.38.0 (20140413.2041)\n",
       " -->\n",
       "<!-- Title: %3 Pages: 1 -->\n",
       "<svg width=\"710pt\" height=\"404pt\"\n",
       " viewBox=\"0.00 0.00 710.00 404.00\" xmlns=\"http://www.w3.org/2000/svg\" xmlns:xlink=\"http://www.w3.org/1999/xlink\">\n",
       "<g id=\"graph0\" class=\"graph\" transform=\"scale(1 1) rotate(0) translate(4 400)\">\n",
       "<title>%3</title>\n",
       "<polygon fill=\"white\" stroke=\"none\" points=\"-4,4 -4,-400 706,-400 706,4 -4,4\"/>\n",
       "<!-- A -->\n",
       "<g id=\"node1\" class=\"node\"><title>A</title>\n",
       "<ellipse fill=\"none\" stroke=\"black\" cx=\"351\" cy=\"-378\" rx=\"27\" ry=\"18\"/>\n",
       "<text text-anchor=\"middle\" x=\"351\" y=\"-374.3\" font-family=\"Times,serif\" font-size=\"14.00\">null</text>\n",
       "</g>\n",
       "<!-- a -->\n",
       "<g id=\"node2\" class=\"node\"><title>a</title>\n",
       "<ellipse fill=\"none\" stroke=\"black\" cx=\"423\" cy=\"-306\" rx=\"27\" ry=\"18\"/>\n",
       "<text text-anchor=\"middle\" x=\"423\" y=\"-302.3\" font-family=\"Times,serif\" font-size=\"14.00\">a</text>\n",
       "</g>\n",
       "<!-- A&#45;&#45;a -->\n",
       "<g id=\"edge1\" class=\"edge\"><title>A&#45;&#45;a</title>\n",
       "<path fill=\"none\" stroke=\"black\" d=\"M365.57,-362.834C377.98,-350.77 395.731,-333.512 408.204,-321.385\"/>\n",
       "</g>\n",
       "<!-- b -->\n",
       "<g id=\"node3\" class=\"node\"><title>b</title>\n",
       "<ellipse fill=\"none\" stroke=\"black\" cx=\"171\" cy=\"-306\" rx=\"27\" ry=\"18\"/>\n",
       "<text text-anchor=\"middle\" x=\"171\" y=\"-302.3\" font-family=\"Times,serif\" font-size=\"14.00\">b</text>\n",
       "</g>\n",
       "<!-- A&#45;&#45;b -->\n",
       "<g id=\"edge2\" class=\"edge\"><title>A&#45;&#45;b</title>\n",
       "<path fill=\"none\" stroke=\"black\" d=\"M328.203,-368.134C293.674,-354.706 228.483,-329.355 193.896,-315.904\"/>\n",
       "</g>\n",
       "<!-- c -->\n",
       "<g id=\"node4\" class=\"node\"><title>c</title>\n",
       "<ellipse fill=\"none\" stroke=\"black\" cx=\"279\" cy=\"-306\" rx=\"27\" ry=\"18\"/>\n",
       "<text text-anchor=\"middle\" x=\"279\" y=\"-302.3\" font-family=\"Times,serif\" font-size=\"14.00\">c</text>\n",
       "</g>\n",
       "<!-- A&#45;&#45;c -->\n",
       "<g id=\"edge3\" class=\"edge\"><title>A&#45;&#45;c</title>\n",
       "<path fill=\"none\" stroke=\"black\" d=\"M336.43,-362.834C324.02,-350.77 306.269,-333.512 293.796,-321.385\"/>\n",
       "</g>\n",
       "<!-- d -->\n",
       "<g id=\"node5\" class=\"node\"><title>d</title>\n",
       "<ellipse fill=\"none\" stroke=\"black\" cx=\"531\" cy=\"-306\" rx=\"27\" ry=\"18\"/>\n",
       "<text text-anchor=\"middle\" x=\"531\" y=\"-302.3\" font-family=\"Times,serif\" font-size=\"14.00\">d</text>\n",
       "</g>\n",
       "<!-- A&#45;&#45;d -->\n",
       "<g id=\"edge4\" class=\"edge\"><title>A&#45;&#45;d</title>\n",
       "<path fill=\"none\" stroke=\"black\" d=\"M373.797,-368.134C408.326,-354.706 473.517,-329.355 508.104,-315.904\"/>\n",
       "</g>\n",
       "<!-- e -->\n",
       "<g id=\"node6\" class=\"node\"><title>e</title>\n",
       "<ellipse fill=\"none\" stroke=\"black\" cx=\"351\" cy=\"-306\" rx=\"27\" ry=\"18\"/>\n",
       "<text text-anchor=\"middle\" x=\"351\" y=\"-302.3\" font-family=\"Times,serif\" font-size=\"14.00\">e</text>\n",
       "</g>\n",
       "<!-- A&#45;&#45;e -->\n",
       "<g id=\"edge5\" class=\"edge\"><title>A&#45;&#45;e</title>\n",
       "<path fill=\"none\" stroke=\"black\" d=\"M351,-359.697C351,-348.846 351,-334.917 351,-324.104\"/>\n",
       "</g>\n",
       "<!-- ab -->\n",
       "<g id=\"node7\" class=\"node\"><title>ab</title>\n",
       "<ellipse fill=\"none\" stroke=\"black\" cx=\"99\" cy=\"-234\" rx=\"27\" ry=\"18\"/>\n",
       "<text text-anchor=\"middle\" x=\"99\" y=\"-230.3\" font-family=\"Times,serif\" font-size=\"14.00\">ab</text>\n",
       "</g>\n",
       "<!-- a&#45;&#45;ab -->\n",
       "<g id=\"edge6\" class=\"edge\"><title>a&#45;&#45;ab</title>\n",
       "<path fill=\"none\" stroke=\"black\" d=\"M402.479,-294.02C397.523,-291.733 392.164,-289.55 387,-288 278.637,-255.481 243.363,-284.519 135,-252 129.836,-250.45 124.477,-248.267 119.521,-245.98\"/>\n",
       "</g>\n",
       "<!-- ac -->\n",
       "<g id=\"node8\" class=\"node\"><title>ac</title>\n",
       "<ellipse fill=\"none\" stroke=\"black\" cx=\"387\" cy=\"-234\" rx=\"27\" ry=\"18\"/>\n",
       "<text text-anchor=\"middle\" x=\"387\" y=\"-230.3\" font-family=\"Times,serif\" font-size=\"14.00\">ac</text>\n",
       "</g>\n",
       "<!-- a&#45;&#45;ac -->\n",
       "<g id=\"edge7\" class=\"edge\"><title>a&#45;&#45;ac</title>\n",
       "<path fill=\"none\" stroke=\"black\" d=\"M414.65,-288.765C408.835,-277.456 401.11,-262.437 395.304,-251.147\"/>\n",
       "</g>\n",
       "<!-- ad -->\n",
       "<g id=\"node9\" class=\"node\"><title>ad</title>\n",
       "<ellipse fill=\"none\" stroke=\"black\" cx=\"675\" cy=\"-234\" rx=\"27\" ry=\"18\"/>\n",
       "<text text-anchor=\"middle\" x=\"675\" y=\"-230.3\" font-family=\"Times,serif\" font-size=\"14.00\">ad</text>\n",
       "</g>\n",
       "<!-- a&#45;&#45;ad -->\n",
       "<g id=\"edge8\" class=\"edge\"><title>a&#45;&#45;ad</title>\n",
       "<path fill=\"none\" stroke=\"black\" d=\"M448.18,-298.964C503.184,-285.761 629.902,-255.227 639,-252 644.081,-250.198 649.408,-247.915 654.359,-245.613\"/>\n",
       "</g>\n",
       "<!-- ae -->\n",
       "<g id=\"node10\" class=\"node\"><title>ae</title>\n",
       "<ellipse fill=\"none\" stroke=\"black\" cx=\"459\" cy=\"-234\" rx=\"27\" ry=\"18\"/>\n",
       "<text text-anchor=\"middle\" x=\"459\" y=\"-230.3\" font-family=\"Times,serif\" font-size=\"14.00\">ae</text>\n",
       "</g>\n",
       "<!-- a&#45;&#45;ae -->\n",
       "<g id=\"edge9\" class=\"edge\"><title>a&#45;&#45;ae</title>\n",
       "<path fill=\"none\" stroke=\"black\" d=\"M431.35,-288.765C437.165,-277.456 444.89,-262.437 450.696,-251.147\"/>\n",
       "</g>\n",
       "<!-- b&#45;&#45;ab -->\n",
       "<g id=\"edge10\" class=\"edge\"><title>b&#45;&#45;ab</title>\n",
       "<path fill=\"none\" stroke=\"black\" d=\"M156.43,-290.834C144.02,-278.77 126.269,-261.512 113.796,-249.385\"/>\n",
       "</g>\n",
       "<!-- bc -->\n",
       "<g id=\"node11\" class=\"node\"><title>bc</title>\n",
       "<ellipse fill=\"none\" stroke=\"black\" cx=\"171\" cy=\"-234\" rx=\"27\" ry=\"18\"/>\n",
       "<text text-anchor=\"middle\" x=\"171\" y=\"-230.3\" font-family=\"Times,serif\" font-size=\"14.00\">bc</text>\n",
       "</g>\n",
       "<!-- b&#45;&#45;bc -->\n",
       "<g id=\"edge11\" class=\"edge\"><title>b&#45;&#45;bc</title>\n",
       "<path fill=\"none\" stroke=\"black\" d=\"M171,-287.697C171,-276.846 171,-262.917 171,-252.104\"/>\n",
       "</g>\n",
       "<!-- bd -->\n",
       "<g id=\"node12\" class=\"node\"><title>bd</title>\n",
       "<ellipse fill=\"none\" stroke=\"black\" cx=\"315\" cy=\"-234\" rx=\"27\" ry=\"18\"/>\n",
       "<text text-anchor=\"middle\" x=\"315\" y=\"-230.3\" font-family=\"Times,serif\" font-size=\"14.00\">bd</text>\n",
       "</g>\n",
       "<!-- b&#45;&#45;bd -->\n",
       "<g id=\"edge12\" class=\"edge\"><title>b&#45;&#45;bd</title>\n",
       "<path fill=\"none\" stroke=\"black\" d=\"M192.248,-294.671C219.473,-281.437 266.398,-258.626 293.665,-245.371\"/>\n",
       "</g>\n",
       "<!-- be -->\n",
       "<g id=\"node13\" class=\"node\"><title>be</title>\n",
       "<ellipse fill=\"none\" stroke=\"black\" cx=\"27\" cy=\"-234\" rx=\"27\" ry=\"18\"/>\n",
       "<text text-anchor=\"middle\" x=\"27\" y=\"-230.3\" font-family=\"Times,serif\" font-size=\"14.00\">be</text>\n",
       "</g>\n",
       "<!-- b&#45;&#45;be -->\n",
       "<g id=\"edge13\" class=\"edge\"><title>b&#45;&#45;be</title>\n",
       "<path fill=\"none\" stroke=\"black\" d=\"M149.752,-294.671C122.527,-281.437 75.6024,-258.626 48.3349,-245.371\"/>\n",
       "</g>\n",
       "<!-- c&#45;&#45;ac -->\n",
       "<g id=\"edge14\" class=\"edge\"><title>c&#45;&#45;ac</title>\n",
       "<path fill=\"none\" stroke=\"black\" d=\"M297.812,-292.807C317.635,-279.959 348.662,-259.848 368.403,-247.053\"/>\n",
       "</g>\n",
       "<!-- c&#45;&#45;bc -->\n",
       "<g id=\"edge15\" class=\"edge\"><title>c&#45;&#45;bc</title>\n",
       "<path fill=\"none\" stroke=\"black\" d=\"M260.188,-292.807C240.365,-279.959 209.338,-259.848 189.597,-247.053\"/>\n",
       "</g>\n",
       "<!-- cd -->\n",
       "<g id=\"node14\" class=\"node\"><title>cd</title>\n",
       "<ellipse fill=\"none\" stroke=\"black\" cx=\"531\" cy=\"-234\" rx=\"27\" ry=\"18\"/>\n",
       "<text text-anchor=\"middle\" x=\"531\" y=\"-230.3\" font-family=\"Times,serif\" font-size=\"14.00\">cd</text>\n",
       "</g>\n",
       "<!-- c&#45;&#45;cd -->\n",
       "<g id=\"edge16\" class=\"edge\"><title>c&#45;&#45;cd</title>\n",
       "<path fill=\"none\" stroke=\"black\" d=\"M299.586,-294.227C304.54,-291.931 309.881,-289.692 315,-288 392.461,-262.391 417.539,-277.609 495,-252 500.119,-250.308 505.46,-248.069 510.414,-245.773\"/>\n",
       "</g>\n",
       "<!-- ce -->\n",
       "<g id=\"node15\" class=\"node\"><title>ce</title>\n",
       "<ellipse fill=\"none\" stroke=\"black\" cx=\"243\" cy=\"-234\" rx=\"27\" ry=\"18\"/>\n",
       "<text text-anchor=\"middle\" x=\"243\" y=\"-230.3\" font-family=\"Times,serif\" font-size=\"14.00\">ce</text>\n",
       "</g>\n",
       "<!-- c&#45;&#45;ce -->\n",
       "<g id=\"edge17\" class=\"edge\"><title>c&#45;&#45;ce</title>\n",
       "<path fill=\"none\" stroke=\"black\" d=\"M270.65,-288.765C264.835,-277.456 257.11,-262.437 251.304,-251.147\"/>\n",
       "</g>\n",
       "<!-- d&#45;&#45;ad -->\n",
       "<g id=\"edge18\" class=\"edge\"><title>d&#45;&#45;ad</title>\n",
       "<path fill=\"none\" stroke=\"black\" d=\"M552.248,-294.671C579.473,-281.437 626.398,-258.626 653.665,-245.371\"/>\n",
       "</g>\n",
       "<!-- d&#45;&#45;bd -->\n",
       "<g id=\"edge19\" class=\"edge\"><title>d&#45;&#45;bd</title>\n",
       "<path fill=\"none\" stroke=\"black\" d=\"M505.848,-298.909C470.676,-290.097 405.04,-272.573 351,-252 346.091,-250.131 340.924,-247.873 336.084,-245.623\"/>\n",
       "</g>\n",
       "<!-- d&#45;&#45;cd -->\n",
       "<g id=\"edge20\" class=\"edge\"><title>d&#45;&#45;cd</title>\n",
       "<path fill=\"none\" stroke=\"black\" d=\"M531,-287.697C531,-276.846 531,-262.917 531,-252.104\"/>\n",
       "</g>\n",
       "<!-- de -->\n",
       "<g id=\"node16\" class=\"node\"><title>de</title>\n",
       "<ellipse fill=\"none\" stroke=\"black\" cx=\"603\" cy=\"-234\" rx=\"27\" ry=\"18\"/>\n",
       "<text text-anchor=\"middle\" x=\"603\" y=\"-230.3\" font-family=\"Times,serif\" font-size=\"14.00\">de</text>\n",
       "</g>\n",
       "<!-- d&#45;&#45;de -->\n",
       "<g id=\"edge21\" class=\"edge\"><title>d&#45;&#45;de</title>\n",
       "<path fill=\"none\" stroke=\"black\" d=\"M545.57,-290.834C557.98,-278.77 575.731,-261.512 588.204,-249.385\"/>\n",
       "</g>\n",
       "<!-- e&#45;&#45;ae -->\n",
       "<g id=\"edge22\" class=\"edge\"><title>e&#45;&#45;ae</title>\n",
       "<path fill=\"none\" stroke=\"black\" d=\"M369.812,-292.807C389.635,-279.959 420.662,-259.848 440.403,-247.053\"/>\n",
       "</g>\n",
       "<!-- e&#45;&#45;be -->\n",
       "<g id=\"edge23\" class=\"edge\"><title>e&#45;&#45;be</title>\n",
       "<path fill=\"none\" stroke=\"black\" d=\"M330.479,-294.02C325.523,-291.733 320.164,-289.55 315,-288 206.637,-255.481 171.363,-284.519 63,-252 57.8363,-250.45 52.4772,-248.267 47.5211,-245.98\"/>\n",
       "</g>\n",
       "<!-- e&#45;&#45;ce -->\n",
       "<g id=\"edge24\" class=\"edge\"><title>e&#45;&#45;ce</title>\n",
       "<path fill=\"none\" stroke=\"black\" d=\"M332.188,-292.807C312.365,-279.959 281.338,-259.848 261.597,-247.053\"/>\n",
       "</g>\n",
       "<!-- e&#45;&#45;de -->\n",
       "<g id=\"edge25\" class=\"edge\"><title>e&#45;&#45;de</title>\n",
       "<path fill=\"none\" stroke=\"black\" d=\"M371.586,-294.227C376.54,-291.931 381.881,-289.692 387,-288 464.461,-262.391 489.539,-277.609 567,-252 572.119,-250.308 577.46,-248.069 582.414,-245.773\"/>\n",
       "</g>\n",
       "<!-- abc -->\n",
       "<g id=\"node17\" class=\"node\"><title>abc</title>\n",
       "<ellipse fill=\"none\" stroke=\"black\" cx=\"99\" cy=\"-162\" rx=\"27\" ry=\"18\"/>\n",
       "<text text-anchor=\"middle\" x=\"99\" y=\"-158.3\" font-family=\"Times,serif\" font-size=\"14.00\">abc</text>\n",
       "</g>\n",
       "<!-- ab&#45;&#45;abc -->\n",
       "<g id=\"edge26\" class=\"edge\"><title>ab&#45;&#45;abc</title>\n",
       "<path fill=\"none\" stroke=\"black\" d=\"M99,-215.697C99,-204.846 99,-190.917 99,-180.104\"/>\n",
       "</g>\n",
       "<!-- abd -->\n",
       "<g id=\"node18\" class=\"node\"><title>abd</title>\n",
       "<ellipse fill=\"none\" stroke=\"black\" cx=\"243\" cy=\"-162\" rx=\"27\" ry=\"18\"/>\n",
       "<text text-anchor=\"middle\" x=\"243\" y=\"-158.3\" font-family=\"Times,serif\" font-size=\"14.00\">abd</text>\n",
       "</g>\n",
       "<!-- ab&#45;&#45;abd -->\n",
       "<g id=\"edge27\" class=\"edge\"><title>ab&#45;&#45;abd</title>\n",
       "<path fill=\"none\" stroke=\"black\" d=\"M120.248,-222.671C147.473,-209.437 194.398,-186.626 221.665,-173.371\"/>\n",
       "</g>\n",
       "<!-- abe -->\n",
       "<g id=\"node19\" class=\"node\"><title>abe</title>\n",
       "<ellipse fill=\"none\" stroke=\"black\" cx=\"27\" cy=\"-162\" rx=\"27\" ry=\"18\"/>\n",
       "<text text-anchor=\"middle\" x=\"27\" y=\"-158.3\" font-family=\"Times,serif\" font-size=\"14.00\">abe</text>\n",
       "</g>\n",
       "<!-- ab&#45;&#45;abe -->\n",
       "<g id=\"edge28\" class=\"edge\"><title>ab&#45;&#45;abe</title>\n",
       "<path fill=\"none\" stroke=\"black\" d=\"M84.4297,-218.834C72.0202,-206.77 54.2694,-189.512 41.7957,-177.385\"/>\n",
       "</g>\n",
       "<!-- acd -->\n",
       "<g id=\"node20\" class=\"node\"><title>acd</title>\n",
       "<ellipse fill=\"none\" stroke=\"black\" cx=\"459\" cy=\"-162\" rx=\"27\" ry=\"18\"/>\n",
       "<text text-anchor=\"middle\" x=\"459\" y=\"-158.3\" font-family=\"Times,serif\" font-size=\"14.00\">acd</text>\n",
       "</g>\n",
       "<!-- ac&#45;&#45;acd -->\n",
       "<g id=\"edge29\" class=\"edge\"><title>ac&#45;&#45;acd</title>\n",
       "<path fill=\"none\" stroke=\"black\" d=\"M401.57,-218.834C413.98,-206.77 431.731,-189.512 444.204,-177.385\"/>\n",
       "</g>\n",
       "<!-- ace -->\n",
       "<g id=\"node21\" class=\"node\"><title>ace</title>\n",
       "<ellipse fill=\"none\" stroke=\"black\" cx=\"315\" cy=\"-162\" rx=\"27\" ry=\"18\"/>\n",
       "<text text-anchor=\"middle\" x=\"315\" y=\"-158.3\" font-family=\"Times,serif\" font-size=\"14.00\">ace</text>\n",
       "</g>\n",
       "<!-- ac&#45;&#45;ace -->\n",
       "<g id=\"edge30\" class=\"edge\"><title>ac&#45;&#45;ace</title>\n",
       "<path fill=\"none\" stroke=\"black\" d=\"M372.43,-218.834C360.02,-206.77 342.269,-189.512 329.796,-177.385\"/>\n",
       "</g>\n",
       "<!-- ade -->\n",
       "<g id=\"node22\" class=\"node\"><title>ade</title>\n",
       "<ellipse fill=\"none\" stroke=\"black\" cx=\"675\" cy=\"-162\" rx=\"27\" ry=\"18\"/>\n",
       "<text text-anchor=\"middle\" x=\"675\" y=\"-158.3\" font-family=\"Times,serif\" font-size=\"14.00\">ade</text>\n",
       "</g>\n",
       "<!-- ad&#45;&#45;ade -->\n",
       "<g id=\"edge31\" class=\"edge\"><title>ad&#45;&#45;ade</title>\n",
       "<path fill=\"none\" stroke=\"black\" d=\"M675,-215.697C675,-204.846 675,-190.917 675,-180.104\"/>\n",
       "</g>\n",
       "<!-- bc&#45;&#45;abc -->\n",
       "<g id=\"edge32\" class=\"edge\"><title>bc&#45;&#45;abc</title>\n",
       "<path fill=\"none\" stroke=\"black\" d=\"M156.43,-218.834C144.02,-206.77 126.269,-189.512 113.796,-177.385\"/>\n",
       "</g>\n",
       "<!-- bcd -->\n",
       "<g id=\"node23\" class=\"node\"><title>bcd</title>\n",
       "<ellipse fill=\"none\" stroke=\"black\" cx=\"387\" cy=\"-162\" rx=\"27\" ry=\"18\"/>\n",
       "<text text-anchor=\"middle\" x=\"387\" y=\"-158.3\" font-family=\"Times,serif\" font-size=\"14.00\">bcd</text>\n",
       "</g>\n",
       "<!-- bc&#45;&#45;bcd -->\n",
       "<g id=\"edge33\" class=\"edge\"><title>bc&#45;&#45;bcd</title>\n",
       "<path fill=\"none\" stroke=\"black\" d=\"M192.028,-222.226C196.871,-219.983 202.053,-217.767 207,-216 269.125,-193.809 288.875,-202.191 351,-180 355.947,-178.233 361.129,-176.017 365.972,-173.774\"/>\n",
       "</g>\n",
       "<!-- bce -->\n",
       "<g id=\"node24\" class=\"node\"><title>bce</title>\n",
       "<ellipse fill=\"none\" stroke=\"black\" cx=\"171\" cy=\"-162\" rx=\"27\" ry=\"18\"/>\n",
       "<text text-anchor=\"middle\" x=\"171\" y=\"-158.3\" font-family=\"Times,serif\" font-size=\"14.00\">bce</text>\n",
       "</g>\n",
       "<!-- bc&#45;&#45;bce -->\n",
       "<g id=\"edge34\" class=\"edge\"><title>bc&#45;&#45;bce</title>\n",
       "<path fill=\"none\" stroke=\"black\" d=\"M171,-215.697C171,-204.846 171,-190.917 171,-180.104\"/>\n",
       "</g>\n",
       "<!-- bd&#45;&#45;abd -->\n",
       "<g id=\"edge35\" class=\"edge\"><title>bd&#45;&#45;abd</title>\n",
       "<path fill=\"none\" stroke=\"black\" d=\"M300.43,-218.834C288.02,-206.77 270.269,-189.512 257.796,-177.385\"/>\n",
       "</g>\n",
       "<!-- bde -->\n",
       "<g id=\"node25\" class=\"node\"><title>bde</title>\n",
       "<ellipse fill=\"none\" stroke=\"black\" cx=\"531\" cy=\"-162\" rx=\"27\" ry=\"18\"/>\n",
       "<text text-anchor=\"middle\" x=\"531\" y=\"-158.3\" font-family=\"Times,serif\" font-size=\"14.00\">bde</text>\n",
       "</g>\n",
       "<!-- bd&#45;&#45;bde -->\n",
       "<g id=\"edge36\" class=\"edge\"><title>bd&#45;&#45;bde</title>\n",
       "<path fill=\"none\" stroke=\"black\" d=\"M336.028,-222.226C340.871,-219.983 346.053,-217.767 351,-216 413.125,-193.809 432.875,-202.191 495,-180 499.947,-178.233 505.129,-176.017 509.972,-173.774\"/>\n",
       "</g>\n",
       "<!-- be&#45;&#45;abe -->\n",
       "<g id=\"edge37\" class=\"edge\"><title>be&#45;&#45;abe</title>\n",
       "<path fill=\"none\" stroke=\"black\" d=\"M27,-215.697C27,-204.846 27,-190.917 27,-180.104\"/>\n",
       "</g>\n",
       "<!-- cd&#45;&#45;acd -->\n",
       "<g id=\"edge38\" class=\"edge\"><title>cd&#45;&#45;acd</title>\n",
       "<path fill=\"none\" stroke=\"black\" d=\"M516.43,-218.834C504.02,-206.77 486.269,-189.512 473.796,-177.385\"/>\n",
       "</g>\n",
       "<!-- cd&#45;&#45;bcd -->\n",
       "<g id=\"edge39\" class=\"edge\"><title>cd&#45;&#45;bcd</title>\n",
       "<path fill=\"none\" stroke=\"black\" d=\"M509.752,-222.671C482.527,-209.437 435.602,-186.626 408.335,-173.371\"/>\n",
       "</g>\n",
       "<!-- cde -->\n",
       "<g id=\"node26\" class=\"node\"><title>cde</title>\n",
       "<ellipse fill=\"none\" stroke=\"black\" cx=\"603\" cy=\"-162\" rx=\"27\" ry=\"18\"/>\n",
       "<text text-anchor=\"middle\" x=\"603\" y=\"-158.3\" font-family=\"Times,serif\" font-size=\"14.00\">cde</text>\n",
       "</g>\n",
       "<!-- cd&#45;&#45;cde -->\n",
       "<g id=\"edge40\" class=\"edge\"><title>cd&#45;&#45;cde</title>\n",
       "<path fill=\"none\" stroke=\"black\" d=\"M545.57,-218.834C557.98,-206.77 575.731,-189.512 588.204,-177.385\"/>\n",
       "</g>\n",
       "<!-- ce&#45;&#45;ace -->\n",
       "<g id=\"edge41\" class=\"edge\"><title>ce&#45;&#45;ace</title>\n",
       "<path fill=\"none\" stroke=\"black\" d=\"M257.57,-218.834C269.98,-206.77 287.731,-189.512 300.204,-177.385\"/>\n",
       "</g>\n",
       "<!-- ce&#45;&#45;bce -->\n",
       "<g id=\"edge42\" class=\"edge\"><title>ce&#45;&#45;bce</title>\n",
       "<path fill=\"none\" stroke=\"black\" d=\"M228.43,-218.834C216.02,-206.77 198.269,-189.512 185.796,-177.385\"/>\n",
       "</g>\n",
       "<!-- de&#45;&#45;ade -->\n",
       "<g id=\"edge43\" class=\"edge\"><title>de&#45;&#45;ade</title>\n",
       "<path fill=\"none\" stroke=\"black\" d=\"M617.57,-218.834C629.98,-206.77 647.731,-189.512 660.204,-177.385\"/>\n",
       "</g>\n",
       "<!-- de&#45;&#45;bde -->\n",
       "<g id=\"edge44\" class=\"edge\"><title>de&#45;&#45;bde</title>\n",
       "<path fill=\"none\" stroke=\"black\" d=\"M588.43,-218.834C576.02,-206.77 558.269,-189.512 545.796,-177.385\"/>\n",
       "</g>\n",
       "<!-- de&#45;&#45;cde -->\n",
       "<g id=\"edge45\" class=\"edge\"><title>de&#45;&#45;cde</title>\n",
       "<path fill=\"none\" stroke=\"black\" d=\"M603,-215.697C603,-204.846 603,-190.917 603,-180.104\"/>\n",
       "</g>\n",
       "<!-- abcd -->\n",
       "<g id=\"node27\" class=\"node\"><title>abcd</title>\n",
       "<ellipse fill=\"none\" stroke=\"black\" cx=\"243\" cy=\"-90\" rx=\"27.0966\" ry=\"18\"/>\n",
       "<text text-anchor=\"middle\" x=\"243\" y=\"-86.3\" font-family=\"Times,serif\" font-size=\"14.00\">abcd</text>\n",
       "</g>\n",
       "<!-- abc&#45;&#45;abcd -->\n",
       "<g id=\"edge46\" class=\"edge\"><title>abc&#45;&#45;abcd</title>\n",
       "<path fill=\"none\" stroke=\"black\" d=\"M120.248,-150.671C147.473,-137.437 194.398,-114.626 221.665,-101.371\"/>\n",
       "</g>\n",
       "<!-- abce -->\n",
       "<g id=\"node28\" class=\"node\"><title>abce</title>\n",
       "<ellipse fill=\"none\" stroke=\"black\" cx=\"171\" cy=\"-90\" rx=\"27\" ry=\"18\"/>\n",
       "<text text-anchor=\"middle\" x=\"171\" y=\"-86.3\" font-family=\"Times,serif\" font-size=\"14.00\">abce</text>\n",
       "</g>\n",
       "<!-- abc&#45;&#45;abce -->\n",
       "<g id=\"edge47\" class=\"edge\"><title>abc&#45;&#45;abce</title>\n",
       "<path fill=\"none\" stroke=\"black\" d=\"M113.57,-146.834C125.98,-134.77 143.731,-117.512 156.204,-105.385\"/>\n",
       "</g>\n",
       "<!-- abd&#45;&#45;abcd -->\n",
       "<g id=\"edge48\" class=\"edge\"><title>abd&#45;&#45;abcd</title>\n",
       "<path fill=\"none\" stroke=\"black\" d=\"M243,-143.697C243,-132.846 243,-118.917 243,-108.104\"/>\n",
       "</g>\n",
       "<!-- abde -->\n",
       "<g id=\"node29\" class=\"node\"><title>abde</title>\n",
       "<ellipse fill=\"none\" stroke=\"black\" cx=\"316\" cy=\"-90\" rx=\"27.0966\" ry=\"18\"/>\n",
       "<text text-anchor=\"middle\" x=\"316\" y=\"-86.3\" font-family=\"Times,serif\" font-size=\"14.00\">abde</text>\n",
       "</g>\n",
       "<!-- abd&#45;&#45;abde -->\n",
       "<g id=\"edge49\" class=\"edge\"><title>abd&#45;&#45;abde</title>\n",
       "<path fill=\"none\" stroke=\"black\" d=\"M257.773,-146.834C270.354,-134.77 288.352,-117.512 300.999,-105.385\"/>\n",
       "</g>\n",
       "<!-- abe&#45;&#45;abce -->\n",
       "<g id=\"edge50\" class=\"edge\"><title>abe&#45;&#45;abce</title>\n",
       "<path fill=\"none\" stroke=\"black\" d=\"M48.2477,-150.671C75.4733,-137.437 122.398,-114.626 149.665,-101.371\"/>\n",
       "</g>\n",
       "<!-- abe&#45;&#45;abde -->\n",
       "<g id=\"edge51\" class=\"edge\"><title>abe&#45;&#45;abde</title>\n",
       "<path fill=\"none\" stroke=\"black\" d=\"M47.5477,-150.107C52.5027,-147.816 57.8546,-145.61 63,-144 155.886,-114.945 185.963,-136.568 279,-108 284.406,-106.34 290.047,-104.057 295.247,-101.703\"/>\n",
       "</g>\n",
       "<!-- acd&#45;&#45;abcd -->\n",
       "<g id=\"edge52\" class=\"edge\"><title>acd&#45;&#45;abcd</title>\n",
       "<path fill=\"none\" stroke=\"black\" d=\"M437.969,-150.232C433.127,-147.989 427.945,-145.771 423,-144 361.299,-121.903 341.816,-129.773 280,-108 274.799,-106.168 269.333,-103.874 264.245,-101.57\"/>\n",
       "</g>\n",
       "<!-- acde -->\n",
       "<g id=\"node30\" class=\"node\"><title>acde</title>\n",
       "<ellipse fill=\"none\" stroke=\"black\" cx=\"461\" cy=\"-90\" rx=\"27\" ry=\"18\"/>\n",
       "<text text-anchor=\"middle\" x=\"461\" y=\"-86.3\" font-family=\"Times,serif\" font-size=\"14.00\">acde</text>\n",
       "</g>\n",
       "<!-- acd&#45;&#45;acde -->\n",
       "<g id=\"edge53\" class=\"edge\"><title>acd&#45;&#45;acde</title>\n",
       "<path fill=\"none\" stroke=\"black\" d=\"M459.494,-143.697C459.804,-132.846 460.202,-118.917 460.511,-108.104\"/>\n",
       "</g>\n",
       "<!-- ace&#45;&#45;abce -->\n",
       "<g id=\"edge54\" class=\"edge\"><title>ace&#45;&#45;abce</title>\n",
       "<path fill=\"none\" stroke=\"black\" d=\"M293.752,-150.671C266.527,-137.437 219.602,-114.626 192.335,-101.371\"/>\n",
       "</g>\n",
       "<!-- ace&#45;&#45;acde -->\n",
       "<g id=\"edge55\" class=\"edge\"><title>ace&#45;&#45;acde</title>\n",
       "<path fill=\"none\" stroke=\"black\" d=\"M336.23,-150.821C363.91,-137.55 412.052,-114.468 439.745,-101.191\"/>\n",
       "</g>\n",
       "<!-- ade&#45;&#45;abde -->\n",
       "<g id=\"edge56\" class=\"edge\"><title>ade&#45;&#45;abde</title>\n",
       "<path fill=\"none\" stroke=\"black\" d=\"M654.497,-149.958C649.541,-147.673 644.176,-145.506 639,-144 515.989,-108.201 476.197,-143.153 353,-108 347.562,-106.448 341.909,-104.206 336.707,-101.857\"/>\n",
       "</g>\n",
       "<!-- ade&#45;&#45;acde -->\n",
       "<g id=\"edge57\" class=\"edge\"><title>ade&#45;&#45;acde</title>\n",
       "<path fill=\"none\" stroke=\"black\" d=\"M653.912,-150.388C649.072,-148.137 643.906,-145.876 639,-144 585.544,-123.556 520.643,-105.982 485.867,-97.1272\"/>\n",
       "</g>\n",
       "<!-- bcd&#45;&#45;abcd -->\n",
       "<g id=\"edge58\" class=\"edge\"><title>bcd&#45;&#45;abcd</title>\n",
       "<path fill=\"none\" stroke=\"black\" d=\"M365.752,-150.671C338.527,-137.437 291.602,-114.626 264.335,-101.371\"/>\n",
       "</g>\n",
       "<!-- bcde -->\n",
       "<g id=\"node31\" class=\"node\"><title>bcde</title>\n",
       "<ellipse fill=\"none\" stroke=\"black\" cx=\"389\" cy=\"-90\" rx=\"27.0966\" ry=\"18\"/>\n",
       "<text text-anchor=\"middle\" x=\"389\" y=\"-86.3\" font-family=\"Times,serif\" font-size=\"14.00\">bcde</text>\n",
       "</g>\n",
       "<!-- bcd&#45;&#45;bcde -->\n",
       "<g id=\"edge59\" class=\"edge\"><title>bcd&#45;&#45;bcde</title>\n",
       "<path fill=\"none\" stroke=\"black\" d=\"M387.494,-143.697C387.804,-132.846 388.202,-118.917 388.511,-108.104\"/>\n",
       "</g>\n",
       "<!-- bce&#45;&#45;abce -->\n",
       "<g id=\"edge60\" class=\"edge\"><title>bce&#45;&#45;abce</title>\n",
       "<path fill=\"none\" stroke=\"black\" d=\"M171,-143.697C171,-132.846 171,-118.917 171,-108.104\"/>\n",
       "</g>\n",
       "<!-- bce&#45;&#45;bcde -->\n",
       "<g id=\"edge61\" class=\"edge\"><title>bce&#45;&#45;bcde</title>\n",
       "<path fill=\"none\" stroke=\"black\" d=\"M191.645,-150.397C196.596,-148.094 201.921,-145.809 207,-144 269.549,-121.714 289.335,-129.957 352,-108 357.204,-106.177 362.671,-103.886 367.759,-101.583\"/>\n",
       "</g>\n",
       "<!-- bde&#45;&#45;abde -->\n",
       "<g id=\"edge62\" class=\"edge\"><title>bde&#45;&#45;abde</title>\n",
       "<path fill=\"none\" stroke=\"black\" d=\"M509.967,-150.238C505.125,-147.995 499.944,-145.775 495,-144 433.723,-121.997 414.392,-129.681 353,-108 347.801,-106.164 342.335,-103.868 337.248,-101.564\"/>\n",
       "</g>\n",
       "<!-- bde&#45;&#45;bcde -->\n",
       "<g id=\"edge63\" class=\"edge\"><title>bde&#45;&#45;bcde</title>\n",
       "<path fill=\"none\" stroke=\"black\" d=\"M509.741,-150.52C482.971,-137.324 437.242,-114.781 410.404,-101.551\"/>\n",
       "</g>\n",
       "<!-- cde&#45;&#45;acde -->\n",
       "<g id=\"edge64\" class=\"edge\"><title>cde&#45;&#45;acde</title>\n",
       "<path fill=\"none\" stroke=\"black\" d=\"M581.741,-150.52C554.971,-137.324 509.242,-114.781 482.404,-101.551\"/>\n",
       "</g>\n",
       "<!-- cde&#45;&#45;bcde -->\n",
       "<g id=\"edge65\" class=\"edge\"><title>cde&#45;&#45;bcde</title>\n",
       "<path fill=\"none\" stroke=\"black\" d=\"M581.967,-150.238C577.125,-147.995 571.944,-145.775 567,-144 505.723,-121.997 486.277,-130.003 425,-108 420.056,-106.225 414.875,-104.005 410.033,-101.762\"/>\n",
       "</g>\n",
       "<!-- abcde -->\n",
       "<g id=\"node32\" class=\"node\"><title>abcde</title>\n",
       "<ellipse fill=\"none\" stroke=\"black\" cx=\"316\" cy=\"-18\" rx=\"31.3957\" ry=\"18\"/>\n",
       "<text text-anchor=\"middle\" x=\"316\" y=\"-14.3\" font-family=\"Times,serif\" font-size=\"14.00\">abcde</text>\n",
       "</g>\n",
       "<!-- abcd&#45;&#45;abcde -->\n",
       "<g id=\"edge66\" class=\"edge\"><title>abcd&#45;&#45;abcde</title>\n",
       "<path fill=\"none\" stroke=\"black\" d=\"M257.773,-74.8345C270.188,-62.9295 287.876,-45.9681 300.493,-33.8693\"/>\n",
       "</g>\n",
       "<!-- abce&#45;&#45;abcde -->\n",
       "<g id=\"edge67\" class=\"edge\"><title>abce&#45;&#45;abcde</title>\n",
       "<path fill=\"none\" stroke=\"black\" d=\"M192.395,-78.6713C219.18,-65.7409 264.898,-43.6699 292.592,-30.3002\"/>\n",
       "</g>\n",
       "<!-- abde&#45;&#45;abcde -->\n",
       "<g id=\"edge68\" class=\"edge\"><title>abde&#45;&#45;abcde</title>\n",
       "<path fill=\"none\" stroke=\"black\" d=\"M316,-71.6966C316,-60.8463 316,-46.9167 316,-36.1043\"/>\n",
       "</g>\n",
       "<!-- acde&#45;&#45;abcde -->\n",
       "<g id=\"edge69\" class=\"edge\"><title>acde&#45;&#45;abcde</title>\n",
       "<path fill=\"none\" stroke=\"black\" d=\"M439.605,-78.6713C412.82,-65.7409 367.102,-43.6699 339.408,-30.3002\"/>\n",
       "</g>\n",
       "<!-- bcde&#45;&#45;abcde -->\n",
       "<g id=\"edge70\" class=\"edge\"><title>bcde&#45;&#45;abcde</title>\n",
       "<path fill=\"none\" stroke=\"black\" d=\"M374.227,-74.8345C361.812,-62.9295 344.124,-45.9681 331.507,-33.8693\"/>\n",
       "</g>\n",
       "</g>\n",
       "</svg>\n"
      ],
      "text/plain": [
       "<graphviz.dot.Graph at 0x7f049857d710>"
      ]
     },
     "execution_count": 4,
     "metadata": {},
     "output_type": "execute_result"
    }
   ],
   "source": [
    "lattice = Graph(format='svg')\n",
    "items = ['a','b','c','d','e']\n",
    "lattice.attr(size='10,10')\n",
    "lattice.node('A','null')\n",
    "for i in items:\n",
    "    lattice.edge('A',i)\n",
    "secLayer = []\n",
    "for i in items:\n",
    "    tmp = items[items.index(i)+1:]\n",
    "    for j in tmp:\n",
    "        secLayer.append(i+j)\n",
    "thrLayer = []\n",
    "for i in items:\n",
    "    tmp = items[items.index(i)+1:]\n",
    "    for j in tmp:\n",
    "        tmp1 = tmp[tmp.index(j)+1:]\n",
    "        for k in tmp1:\n",
    "            thrLayer.append(i+j+k)\n",
    "fourLayer = []\n",
    "for i in items:\n",
    "    tmp = items[items.index(i)+1:]\n",
    "    for j in tmp:\n",
    "        tmp1 = tmp[tmp.index(j)+1:]\n",
    "        for k in tmp1:\n",
    "            tmp2 = tmp1[tmp1.index(k)+1:]\n",
    "            for m in tmp2:\n",
    "                fourLayer.append(i+j+k+m)\n",
    "for i in items:\n",
    "    for j in secLayer:\n",
    "        if i in j:\n",
    "            lattice.edge(i,j)\n",
    "for i in secLayer:\n",
    "    for j in thrLayer:\n",
    "        if i in j:\n",
    "            lattice.edge(i,j)\n",
    "for i in thrLayer:\n",
    "    for j in fourLayer:\n",
    "        if all([i[l-1] in j for l in range(len(i))]):\n",
    "            lattice.edge(i,j)\n",
    "for i in fourLayer:\n",
    "    lattice.edge(i,'abcde')\n",
    "lattice"
   ]
  },
  {
   "cell_type": "markdown",
   "metadata": {
    "slideshow": {
     "slide_type": "fragment"
    }
   },
   "source": [
    "<center><img src=\"./img/association/lattice.png\" width=80%></center>"
   ]
  },
  {
   "cell_type": "markdown",
   "metadata": {
    "slideshow": {
     "slide_type": "slide"
    }
   },
   "source": [
    "##### 如何加快计算候选项集（candidate itemset）的支持度？"
   ]
  },
  {
   "cell_type": "markdown",
   "metadata": {
    "slideshow": {
     "slide_type": "fragment"
    }
   },
   "source": [
    "- 减少候选项集的数量"
   ]
  },
  {
   "cell_type": "markdown",
   "metadata": {
    "slideshow": {
     "slide_type": "fragment"
    }
   },
   "source": [
    "- 减少比较次数"
   ]
  },
  {
   "cell_type": "markdown",
   "metadata": {
    "slideshow": {
     "slide_type": "slide"
    }
   },
   "source": [
    "### 先验原理（apriori）"
   ]
  },
  {
   "cell_type": "markdown",
   "metadata": {
    "slideshow": {
     "slide_type": "fragment"
    }
   },
   "source": [
    "<p class=\"h2 text-info\"><strong>如果一个项集是频繁项集，则它的所有子集一定也是频繁项集。</strong></p>"
   ]
  },
  {
   "cell_type": "markdown",
   "metadata": {
    "slideshow": {
     "slide_type": "fragment"
    }
   },
   "source": [
    "![](./img/association/latticeFreq.png)"
   ]
  },
  {
   "cell_type": "markdown",
   "metadata": {
    "slideshow": {
     "slide_type": "fragment"
    }
   },
   "source": [
    "<p class=\"h2 text-info\"><strong>如果项集是<u>非频繁</u>项集，则它的所有超集也一定是<u>非频繁</u>项集。</strong></p>"
   ]
  },
  {
   "cell_type": "markdown",
   "metadata": {
    "slideshow": {
     "slide_type": "fragment"
    }
   },
   "source": [
    "![](./img/association/latticePrun.png)"
   ]
  },
  {
   "cell_type": "markdown",
   "metadata": {
    "slideshow": {
     "slide_type": "fragment"
    }
   },
   "source": [
    "- 反单调性（anti-monotone）"
   ]
  },
  {
   "cell_type": "markdown",
   "metadata": {
    "slideshow": {
     "slide_type": "fragment"
    }
   },
   "source": [
    "$$\n",
    "\\forall X,Y:(X\\subseteq Y)\\Rightarrow s(X)\\ge s(Y)\n",
    "$$"
   ]
  },
  {
   "cell_type": "markdown",
   "metadata": {
    "slideshow": {
     "slide_type": "slide"
    }
   },
   "source": [
    "### Apriori算法产生频繁项集"
   ]
  },
  {
   "cell_type": "markdown",
   "metadata": {
    "slideshow": {
     "slide_type": "fragment"
    }
   },
   "source": [
    "#### 示例"
   ]
  },
  {
   "cell_type": "markdown",
   "metadata": {
    "cell_style": "split",
    "slideshow": {
     "slide_type": "fragment"
    }
   },
   "source": [
    "TID|事务\n",
    "---|---\n",
    "1|{面包，牛奶}\n",
    "2|{面包，尿布，啤酒，鸡蛋}\n",
    "3|{牛奶，尿布，啤酒，可乐}\n",
    "4|{面包，牛奶，尿布，啤酒}\n",
    "5|{面包，牛奶，尿布，可乐}"
   ]
  },
  {
   "cell_type": "markdown",
   "metadata": {
    "cell_style": "split",
    "slideshow": {
     "slide_type": "fragment"
    }
   },
   "source": [
    "- 假设支持度阈值为**60%**，即最小支持度计数为**3**"
   ]
  },
  {
   "cell_type": "markdown",
   "metadata": {
    "slideshow": {
     "slide_type": "fragment"
    }
   },
   "source": [
    "1. 生成1-项集"
   ]
  },
  {
   "cell_type": "markdown",
   "metadata": {
    "cell_style": "split",
    "slideshow": {
     "slide_type": "fragment"
    }
   },
   "source": [
    "项集|支持度计数\n",
    "---|---\n",
    "啤酒|3\n",
    "面包|4\n",
    "可乐|2\n",
    "尿布|4\n",
    "牛奶|4\n",
    "鸡蛋|1"
   ]
  },
  {
   "cell_type": "markdown",
   "metadata": {
    "cell_style": "split",
    "slideshow": {
     "slide_type": "fragment"
    }
   },
   "source": [
    "- $\\{可乐\\}$和$\\{鸡蛋\\}$可以删除"
   ]
  },
  {
   "cell_type": "markdown",
   "metadata": {
    "slideshow": {
     "slide_type": "slide"
    }
   },
   "source": [
    "2. 生成2-项集"
   ]
  },
  {
   "cell_type": "markdown",
   "metadata": {
    "slideshow": {
     "slide_type": "fragment"
    }
   },
   "source": [
    "项集|支持度计数\n",
    "---|---\n",
    "啤酒|3\n",
    "面包|4\n",
    "尿布|4\n",
    "牛奶|4"
   ]
  },
  {
   "cell_type": "markdown",
   "metadata": {
    "cell_style": "split",
    "slideshow": {
     "slide_type": "fragment"
    }
   },
   "source": [
    "项集|支持度计数\n",
    "---|---\n",
    "{啤酒，面包}|2\n",
    "{啤酒，尿布}|3\n",
    "{啤酒，牛奶}|2\n",
    "{面包，尿布}|3\n",
    "{面包，牛奶}|3\n",
    "{尿布，牛奶}|3"
   ]
  },
  {
   "cell_type": "markdown",
   "metadata": {
    "cell_style": "split",
    "slideshow": {
     "slide_type": "fragment"
    }
   },
   "source": [
    "- $\\{啤酒，面包\\}$和$\\{啤酒，牛奶\\}$可以删除"
   ]
  },
  {
   "cell_type": "markdown",
   "metadata": {
    "slideshow": {
     "slide_type": "slide"
    }
   },
   "source": [
    "3. 生成3-项集"
   ]
  },
  {
   "cell_type": "markdown",
   "metadata": {
    "slideshow": {
     "slide_type": "fragment"
    }
   },
   "source": [
    "项集|支持度计数\n",
    "---|---\n",
    "{啤酒,尿布}|3\n",
    "{面包,尿布}|3\n",
    "{面包,牛奶}|3\n",
    "{尿布,牛奶}|3"
   ]
  },
  {
   "cell_type": "markdown",
   "metadata": {
    "slideshow": {
     "slide_type": "fragment"
    }
   },
   "source": [
    "项集|支持度计数\n",
    "---|---\n",
    "{面包，尿布，牛奶}|2"
   ]
  },
  {
   "cell_type": "markdown",
   "metadata": {
    "slideshow": {
     "slide_type": "fragment"
    }
   },
   "source": [
    "- $\\{啤酒,尿布,面包\\}$舍去，由于$\\{啤酒,面包\\}$是非频繁项集\n",
    "- $\\{啤酒,尿布,牛奶\\}$舍去，由于$\\{啤酒,牛奶\\}$是非频繁项集"
   ]
  },
  {
   "cell_type": "markdown",
   "metadata": {
    "slideshow": {
     "slide_type": "slide"
    }
   },
   "source": [
    "<p class=\"h2 text-info\"><strong>Apriori算法产生频繁项集的核心：</strong></p>"
   ]
  },
  {
   "cell_type": "markdown",
   "metadata": {
    "slideshow": {
     "slide_type": "fragment"
    }
   },
   "source": [
    "1. 从频繁$(k-1)$-项集，生成候选$k$-项集"
   ]
  },
  {
   "cell_type": "markdown",
   "metadata": {
    "slideshow": {
     "slide_type": "fragment"
    }
   },
   "source": [
    "2. 计算候选$k$-项集的支持度计数，删除支持度计数$\\lt minsup\\times N$的候选项集"
   ]
  },
  {
   "cell_type": "markdown",
   "metadata": {
    "slideshow": {
     "slide_type": "slide"
    }
   },
   "source": [
    "#### 关联规则产生"
   ]
  },
  {
   "cell_type": "markdown",
   "metadata": {
    "slideshow": {
     "slide_type": "fragment"
    }
   },
   "source": [
    "##### 关联规则的提取"
   ]
  },
  {
   "cell_type": "markdown",
   "metadata": {
    "slideshow": {
     "slide_type": "fragment"
    }
   },
   "source": [
    "> 将项集$Y$划分成两个非空的子集$X$和$Y-X$，使得$X\\to Y-X$满足置信度阈值"
   ]
  },
  {
   "cell_type": "markdown",
   "metadata": {
    "slideshow": {
     "slide_type": "fragment"
    }
   },
   "source": [
    "- 假设$\\{A,B,C\\}$是频繁项集，则由该项集可以产生的关联规则有："
   ]
  },
  {
   "cell_type": "markdown",
   "metadata": {
    "slideshow": {
     "slide_type": "fragment"
    }
   },
   "source": [
    "$$\n",
    "\\{A,B\\}\\to\\{C\\},\\quad \\{A,C\\}\\to\\{B\\},\\quad \\{B,C\\}\\to\\{A\\},\\quad \\{A\\}\\to\\{B,C\\},\n",
    "\\quad \\{B\\}\\to\\{A,C\\},\\quad \\{C\\}\\to\\{A,B\\}\n",
    "$$"
   ]
  },
  {
   "cell_type": "markdown",
   "metadata": {
    "slideshow": {
     "slide_type": "slide"
    }
   },
   "source": [
    "##### 基于置信度的剪枝"
   ]
  },
  {
   "cell_type": "markdown",
   "metadata": {
    "slideshow": {
     "slide_type": "fragment"
    }
   },
   "source": [
    "> 如果规则$X\\to Y-X$**不满足**置信度阈值，则形如$X'\\to Y-X'$的规则一定也**不满足**置信度阈值，其中$X'\\subset X$"
   ]
  },
  {
   "cell_type": "markdown",
   "metadata": {
    "slideshow": {
     "slide_type": "fragment"
    }
   },
   "source": [
    "- 假设$\\{A,B,C,D\\}$是一个频繁4-项集，则"
   ]
  },
  {
   "cell_type": "markdown",
   "metadata": {
    "slideshow": {
     "slide_type": "fragment"
    }
   },
   "source": [
    "$$\n",
    "c(\\{A,B,C\\}\\to\\{D\\})\\ge c(\\{A,B\\}\\to\\{C,D\\})\\ge c(\\{A\\}\\to\\{B,C,D\\})\n",
    "$$"
   ]
  },
  {
   "cell_type": "markdown",
   "metadata": {
    "slideshow": {
     "slide_type": "fragment"
    }
   },
   "source": [
    "$$\n",
    "\\begin{split}\n",
    "c(\\{A,B,C\\}\\to\\{D\\})&=\\frac{\\sigma(\\{A,B,C,D\\})}{\\sigma(\\{A,B,C\\})}\\\\\n",
    "c(\\{A,B\\}\\to\\{C,D\\})&=\\frac{\\sigma(\\{A,B,C,D\\})}{\\sigma(\\{A,B\\})}\\\\\n",
    "c(\\{A\\}\\to\\{B,C,D\\})&=\\frac{\\sigma(\\{A,B,C,D\\})}{\\sigma(\\{A\\})}\n",
    "\\end{split}\n",
    "$$"
   ]
  },
  {
   "cell_type": "markdown",
   "metadata": {
    "slideshow": {
     "slide_type": "fragment"
    }
   },
   "source": [
    "由于$\\sigma(\\{A,B,C\\})\\le\\sigma(\\{A,B\\})\\le\\sigma(\\{A\\})$"
   ]
  },
  {
   "cell_type": "markdown",
   "metadata": {
    "slideshow": {
     "slide_type": "slide"
    }
   },
   "source": [
    "- 同一频繁集中产生的关联规则的置信度具有**反单调**性质："
   ]
  },
  {
   "cell_type": "markdown",
   "metadata": {
    "slideshow": {
     "slide_type": "fragment"
    }
   },
   "source": [
    "<p class=\"h2 alert-info\">随着关联规则<strong>右侧项</strong>的数目<mark>增加</mark>，关联规则的置信度<mark>降低</mark></p>"
   ]
  },
  {
   "cell_type": "markdown",
   "metadata": {
    "slideshow": {
     "slide_type": "fragment"
    }
   },
   "source": [
    "![](./img/association/confidence.png)"
   ]
  },
  {
   "cell_type": "markdown",
   "metadata": {
    "slideshow": {
     "slide_type": "slide"
    }
   },
   "source": [
    "### FP-growth算法"
   ]
  },
  {
   "cell_type": "markdown",
   "metadata": {
    "slideshow": {
     "slide_type": "fragment"
    }
   },
   "source": [
    "- Apiori算法的不足:\n",
    "    + 每次计算生成的$k-$项集的支持度，都需要重新读取事务数据集，导致效率低，运算时间长"
   ]
  },
  {
   "cell_type": "markdown",
   "metadata": {
    "slideshow": {
     "slide_type": "fragment"
    }
   },
   "source": [
    "<dl class=\"row alert-info\">\n",
    "    <dt class=\"col-md-4\">FP增长算法</dt>\n",
    "    <dd class=\"col-md-8\">将频繁项集按照支持度降序压缩存储在FP-tree(frequent pattern)中，并从FP-tree中生成关联规则</dd>\n",
    "</dl>"
   ]
  },
  {
   "cell_type": "markdown",
   "metadata": {
    "slideshow": {
     "slide_type": "fragment"
    }
   },
   "source": [
    "- FP增长算法的优势：\n",
    "    + 逐个读入事务，并把事务映射到FP树的一条路径\n",
    "    + 由于不同的事务可能具有若干相同的项，这些事务在FP树中的路径可能重叠\n",
    "    + 如果FP树足够小，可以存放在内存中，运算速度加快"
   ]
  },
  {
   "cell_type": "markdown",
   "metadata": {
    "slideshow": {
     "slide_type": "slide"
    }
   },
   "source": [
    "#### FP树构造示例"
   ]
  },
  {
   "cell_type": "markdown",
   "metadata": {
    "slideshow": {
     "slide_type": "fragment"
    }
   },
   "source": [
    "<center><img src=\"./img/association/fpTree.Gif\" width=40%></center>"
   ]
  },
  {
   "cell_type": "markdown",
   "metadata": {
    "slideshow": {
     "slide_type": "fragment"
    }
   },
   "source": [
    "1. **第一次**读取事务数据集，确定每个**项**的支持度计数。舍去非频繁项，将频繁项按照支持度降序排序。上图中频繁项降序排列为$a,b,c,d,e$"
   ]
  },
  {
   "cell_type": "markdown",
   "metadata": {
    "slideshow": {
     "slide_type": "fragment"
    }
   },
   "source": [
    "2. **第二次**读取事务数据集，构建FP树。读入第一个事务$\\{a,b\\}$，创建标记为$a$和$b$的节点，形成$null\\to a\\to b$路径。在每个节点上计数，表示映射到该路径上的事务的个数"
   ]
  },
  {
   "cell_type": "markdown",
   "metadata": {
    "slideshow": {
     "slide_type": "fragment"
    }
   },
   "source": [
    "3. 读入第二个事务$\\{b,c,d\\}$，形成代表该事务的路径$null\\to b\\to c\\to d$，该路径上每个节点的计数为1。尽管前2个事务具有共同的项$b$，但是由于他们没有共同的前缀，所以两条路径不相交"
   ]
  },
  {
   "cell_type": "markdown",
   "metadata": {
    "slideshow": {
     "slide_type": "fragment"
    }
   },
   "source": [
    "4. 读入第三个事务$\\{a,c,d,e\\}$，由于该事务与第一个事务$\\{a,b\\}$具有共同的前缀$a$，因此该事务的路径与第一个事务的路径部分重叠。此时，$a$节点的计数为2，而在第三个事务路径上的节点$c,d,e$的计数为1"
   ]
  },
  {
   "cell_type": "markdown",
   "metadata": {
    "slideshow": {
     "slide_type": "fragment"
    }
   },
   "source": [
    "5. 继续上述过程，直到每个事务都映射成为FP树的一条路径"
   ]
  },
  {
   "cell_type": "markdown",
   "metadata": {
    "slideshow": {
     "slide_type": "slide"
    }
   },
   "source": [
    "#### 产生频繁项集"
   ]
  },
  {
   "cell_type": "markdown",
   "metadata": {
    "slideshow": {
     "slide_type": "fragment"
    }
   },
   "source": [
    "<p class=\"h2 alert-info\">FP增长算法采用<strong>自底向上</strong>方式探索FP树，生成频繁项集</p>"
   ]
  },
  {
   "cell_type": "markdown",
   "metadata": {
    "slideshow": {
     "slide_type": "fragment"
    }
   },
   "source": [
    "<center><img src=\"./img/association/fpTreeFull.Gif\" width=40%></center>"
   ]
  },
  {
   "cell_type": "markdown",
   "metadata": {
    "slideshow": {
     "slide_type": "fragment"
    }
   },
   "source": [
    "- 首先查找以$e$结尾的频繁项集，然后依次查找$d,c,b,a$"
   ]
  },
  {
   "cell_type": "markdown",
   "metadata": {
    "slideshow": {
     "slide_type": "fragment"
    }
   },
   "source": [
    "- 因为每个事务都映射到FP树的一条路径，因此，仅考察包含特点节点（例如$e$）的路径，就能够发现以$e$结尾的频繁项集"
   ]
  },
  {
   "cell_type": "markdown",
   "metadata": {
    "slideshow": {
     "slide_type": "slide"
    }
   },
   "source": [
    "## 关联规则的评估"
   ]
  },
  {
   "cell_type": "markdown",
   "metadata": {
    "slideshow": {
     "slide_type": "fragment"
    }
   },
   "source": [
    "- 在提取出来的众多的规则中，要寻找令人感**兴趣**的关联规则"
   ]
  },
  {
   "cell_type": "markdown",
   "metadata": {
    "slideshow": {
     "slide_type": "fragment"
    }
   },
   "source": [
    "### 评价关联规则的质量标准"
   ]
  },
  {
   "cell_type": "markdown",
   "metadata": {
    "slideshow": {
     "slide_type": "fragment"
    }
   },
   "source": [
    "1. 客观兴趣度度量:\n",
    "    - 利用统计量估计关联规则是否有兴趣"
   ]
  },
  {
   "cell_type": "markdown",
   "metadata": {
    "slideshow": {
     "slide_type": "fragment"
    }
   },
   "source": [
    "2. 根据主观论据判别\n",
    "    - 利用领域的相关知识来评价哪些关联规则是有趣的"
   ]
  },
  {
   "cell_type": "markdown",
   "metadata": {
    "slideshow": {
     "slide_type": "slide"
    }
   },
   "source": [
    "### 客观兴趣度度量"
   ]
  },
  {
   "cell_type": "markdown",
   "metadata": {
    "slideshow": {
     "slide_type": "fragment"
    }
   },
   "source": [
    "#### 支持度-置信度框架的局限"
   ]
  },
  {
   "cell_type": "markdown",
   "metadata": {
    "slideshow": {
     "slide_type": "subslide"
    }
   },
   "source": [
    "##### 咖啡与茶的例子"
   ]
  },
  {
   "cell_type": "markdown",
   "metadata": {
    "cell_style": "split",
    "slideshow": {
     "slide_type": "fragment"
    }
   },
   "source": [
    "$\\quad$|{咖啡}|不包含{咖啡}|边际||\n",
    "---|---|---|---|---\n",
    "{茶}|150|50|200|**{茶}支持度计数**\n",
    "不包含{茶}|650|150|800|\n",
    "边际|800|200|1000|\n",
    "|**{咖啡}支持度计数**|||"
   ]
  },
  {
   "cell_type": "markdown",
   "metadata": {
    "cell_style": "split",
    "slideshow": {
     "slide_type": "fragment"
    }
   },
   "source": [
    "- 评估$\\{茶\\}\\to\\{咖啡\\}$关联规则\n",
    "    + 支持度：$s(\\{茶\\}\\to\\{咖啡\\})=\\frac{\\sigma(\\{茶\\}\\cup\\{咖啡\\})}{N}=\\frac{150}{1000}=15\\%$\n",
    "    + 置信度：$c(\\{茶\\}\\to\\{咖啡\\})=\\frac{\\sigma(\\{茶\\}\\cup\\{咖啡\\})}{\\sigma(\\{茶\\})}=\\frac{150}{200}=75\\%$"
   ]
  },
  {
   "cell_type": "markdown",
   "metadata": {
    "cell_style": "split",
    "slideshow": {
     "slide_type": "fragment"
    }
   },
   "source": [
    "- 喝咖啡的消费者占的比例为$\\frac{800}{1000}=80\\%$"
   ]
  },
  {
   "cell_type": "markdown",
   "metadata": {
    "cell_style": "split",
    "slideshow": {
     "slide_type": "fragment"
    }
   },
   "source": [
    "- 喝茶的消费者中又喝咖啡的占的比例为$75\\%$"
   ]
  },
  {
   "cell_type": "markdown",
   "metadata": {
    "cell_style": "split",
    "slideshow": {
     "slide_type": "fragment"
    }
   },
   "source": [
    "- 结果与提取的关联规则产生了矛盾\n",
    "    + 没有该关联规则的情况下，一个消费者有<mark>$80\\%$</mark>的概率会喝咖啡\n",
    "    + 如果知道一个人喝茶，那么这个人喝咖啡的概率则降低到<mark>$75\\%$</mark>"
   ]
  },
  {
   "cell_type": "markdown",
   "metadata": {
    "slideshow": {
     "slide_type": "slide"
    }
   },
   "source": [
    "##### 应该提取什么样的关联规则？"
   ]
  },
  {
   "cell_type": "markdown",
   "metadata": {
    "slideshow": {
     "slide_type": "fragment"
    }
   },
   "source": [
    "- 置信度高的规则，$c(X\\to Y)$大\n",
    "    + 购买$X$的时候也会更加可能买$Y$"
   ]
  },
  {
   "cell_type": "markdown",
   "metadata": {
    "slideshow": {
     "slide_type": "fragment"
    }
   },
   "source": [
    "- $c(X\\to Y)\\gt s(Y)$的规则\n",
    "    + 否则，提取的关联规则会导致相反的结果：购买$X$实际上会降低购买$Y$的概率"
   ]
  },
  {
   "cell_type": "markdown",
   "metadata": {
    "slideshow": {
     "slide_type": "slide"
    }
   },
   "source": [
    "#### 提升度（lift）"
   ]
  },
  {
   "cell_type": "markdown",
   "metadata": {
    "slideshow": {
     "slide_type": "fragment"
    }
   },
   "source": [
    "- 考虑关联规则中后项集的支持度"
   ]
  },
  {
   "cell_type": "markdown",
   "metadata": {
    "slideshow": {
     "slide_type": "fragment"
    }
   },
   "source": [
    "- 给定关联规则$X\\to Y$，其提升度为，\n",
    "$$\n",
    "\\text{lift}(X\\to Y)=\\frac{c(X\\to Y)}{s(Y)}\n",
    "$$\n",
    "取值范围在$[0,\\infty]$"
   ]
  },
  {
   "cell_type": "markdown",
   "metadata": {
    "slideshow": {
     "slide_type": "fragment"
    }
   },
   "source": [
    "- 衡量了$X$的出现对$Y$的出现的概率有多大程度的改变"
   ]
  },
  {
   "cell_type": "markdown",
   "metadata": {
    "slideshow": {
     "slide_type": "slide"
    }
   },
   "source": [
    "#### 杠杆率（leverage）"
   ]
  },
  {
   "cell_type": "markdown",
   "metadata": {
    "slideshow": {
     "slide_type": "fragment"
    }
   },
   "source": [
    "- 给定关联规则$X\\to Y$，其杠杆率为，\n",
    "$$\n",
    "\\text{leverage}(X\\to Y)=s(X\\to Y)-s(X)\\times s(Y)\n",
    "$$\n",
    "取值范围$[-1,1]$"
   ]
  },
  {
   "cell_type": "markdown",
   "metadata": {
    "slideshow": {
     "slide_type": "fragment"
    }
   },
   "source": [
    "- 衡量了关联规则的后项集和前项集直接的紧密程度，**杠杆率越大，$X$和$Y$的关系越紧密**"
   ]
  },
  {
   "cell_type": "markdown",
   "metadata": {
    "slideshow": {
     "slide_type": "fragment"
    }
   },
   "source": [
    "- 如果$X$和$Y$相互独立，$\\text{leverage}(X\\to Y)=0$"
   ]
  },
  {
   "cell_type": "markdown",
   "metadata": {
    "slideshow": {
     "slide_type": "slide"
    }
   },
   "source": [
    "#### 确信度（conviction）"
   ]
  },
  {
   "cell_type": "markdown",
   "metadata": {
    "slideshow": {
     "slide_type": "fragment"
    }
   },
   "source": [
    "- 给定关联规则$X\\to Y$，其确信度为，\n",
    "$$\n",
    "\\text{conviction}(X\\to Y)=\\frac{1-s(Y)}{1-c(X\\to Y)}\n",
    "$$\n",
    "取值范围$[0,\\infty)$"
   ]
  },
  {
   "cell_type": "markdown",
   "metadata": {
    "slideshow": {
     "slide_type": "fragment"
    }
   },
   "source": [
    "- 衡量了关联规则后项集对前项集的依赖程度，**确信度越高，依赖程度越大**"
   ]
  },
  {
   "cell_type": "markdown",
   "metadata": {
    "slideshow": {
     "slide_type": "fragment"
    }
   },
   "source": [
    "- 如果$X$和$Y$相互独立，$\\text{conviction}(X\\to Y)=1$"
   ]
  },
  {
   "cell_type": "markdown",
   "metadata": {
    "slideshow": {
     "slide_type": "slide"
    }
   },
   "source": [
    "## Python实现"
   ]
  },
  {
   "cell_type": "markdown",
   "metadata": {
    "slideshow": {
     "slide_type": "fragment"
    }
   },
   "source": [
    "- Mlxtend (machine learning extensions) 是`python`机器学习的一个扩展包"
   ]
  },
  {
   "cell_type": "markdown",
   "metadata": {
    "slideshow": {
     "slide_type": "fragment"
    }
   },
   "source": [
    "- [http://rasbt.github.io/mlxtend/](http://rasbt.github.io/mlxtend/)"
   ]
  },
  {
   "cell_type": "markdown",
   "metadata": {
    "slideshow": {
     "slide_type": "fragment"
    }
   },
   "source": [
    "- `Windows`系统：`pip install -U mlxtend`\n",
    "- `Mac`系统：`pip3 install -U mlxtend`"
   ]
  },
  {
   "cell_type": "markdown",
   "metadata": {
    "slideshow": {
     "slide_type": "slide"
    }
   },
   "source": [
    "### 生成频繁集"
   ]
  },
  {
   "cell_type": "markdown",
   "metadata": {
    "slideshow": {
     "slide_type": "fragment"
    }
   },
   "source": [
    "#### apriori算法"
   ]
  },
  {
   "cell_type": "markdown",
   "metadata": {
    "slideshow": {
     "slide_type": "fragment"
    }
   },
   "source": [
    "```python\n",
    "from mlxtend.frequent_patterns import apriori\n",
    "apriori(df, min_support=0.5, use_colnames=False, max_len=None)\n",
    "```\n",
    "- `df`：`pandas`的`dataframe`类型，经过`one-hot`编码\n",
    "- `min_support`：`float`类型，取值[0,1]，支持度阈值\n",
    "- `use_colnames`：`bool`类型，返回的频繁项集是否用原有的列名，`False`用列的位置\n",
    "- `max_len`：生成项集的最大数量，默认生成所有项集\n",
    "- 返回值：由项集构成的`dataframe`，列包括`[\"support\", \"itemsets\"]`"
   ]
  },
  {
   "cell_type": "code",
   "execution_count": 5,
   "metadata": {
    "scrolled": false,
    "slideshow": {
     "slide_type": "slide"
    }
   },
   "outputs": [
    {
     "data": {
      "text/html": [
       "<div>\n",
       "<style scoped>\n",
       "    .dataframe tbody tr th:only-of-type {\n",
       "        vertical-align: middle;\n",
       "    }\n",
       "\n",
       "    .dataframe tbody tr th {\n",
       "        vertical-align: top;\n",
       "    }\n",
       "\n",
       "    .dataframe thead th {\n",
       "        text-align: right;\n",
       "    }\n",
       "</style>\n",
       "<table border=\"1\" class=\"dataframe\">\n",
       "  <thead>\n",
       "    <tr style=\"text-align: right;\">\n",
       "      <th></th>\n",
       "      <th>事务</th>\n",
       "    </tr>\n",
       "  </thead>\n",
       "  <tbody>\n",
       "    <tr>\n",
       "      <th>0</th>\n",
       "      <td>Milk,Onion,Nutmeg,Kidney Beans,Eggs,Yogurt</td>\n",
       "    </tr>\n",
       "    <tr>\n",
       "      <th>1</th>\n",
       "      <td>Dill,Onion,Nutmeg,Kidney Beans,Eggs,Yogurt</td>\n",
       "    </tr>\n",
       "    <tr>\n",
       "      <th>2</th>\n",
       "      <td>Milk,Apple,Kidney Beans,Eggs</td>\n",
       "    </tr>\n",
       "    <tr>\n",
       "      <th>3</th>\n",
       "      <td>Milk,Unicorn,Corn,Kidney Beans,Yogurt</td>\n",
       "    </tr>\n",
       "    <tr>\n",
       "      <th>4</th>\n",
       "      <td>Corn,Onion,Onion,Kidney Beans,Ice cream,Eggs</td>\n",
       "    </tr>\n",
       "  </tbody>\n",
       "</table>\n",
       "</div>"
      ],
      "text/plain": [
       "                                             事务\n",
       "0    Milk,Onion,Nutmeg,Kidney Beans,Eggs,Yogurt\n",
       "1    Dill,Onion,Nutmeg,Kidney Beans,Eggs,Yogurt\n",
       "2                  Milk,Apple,Kidney Beans,Eggs\n",
       "3         Milk,Unicorn,Corn,Kidney Beans,Yogurt\n",
       "4  Corn,Onion,Onion,Kidney Beans,Ice cream,Eggs"
      ]
     },
     "execution_count": 5,
     "metadata": {},
     "output_type": "execute_result"
    }
   ],
   "source": [
    "bskt = [['Milk', 'Onion', 'Nutmeg', 'Kidney Beans', 'Eggs', 'Yogurt'],\n",
    "           ['Dill', 'Onion', 'Nutmeg', 'Kidney Beans', 'Eggs', 'Yogurt'],\n",
    "           ['Milk', 'Apple', 'Kidney Beans', 'Eggs'],\n",
    "           ['Milk', 'Unicorn', 'Corn', 'Kidney Beans', 'Yogurt'],\n",
    "           ['Corn', 'Onion', 'Onion', 'Kidney Beans', 'Ice cream', 'Eggs']]\n",
    "tp = [','.join(each) for each in bskt]\n",
    "pd.DataFrame(tp,columns=['事务'])"
   ]
  },
  {
   "cell_type": "markdown",
   "metadata": {
    "slideshow": {
     "slide_type": "fragment"
    }
   },
   "source": [
    "##### 转换事务数据集表达形式"
   ]
  },
  {
   "cell_type": "markdown",
   "metadata": {
    "slideshow": {
     "slide_type": "fragment"
    }
   },
   "source": [
    "```python\n",
    "from mlxtend.preprocessing import TransactionEncoder\n",
    "TransactionEncoder()\n",
    "```\n",
    "- 建立`one-hot`编码模型\n",
    "- 对事务数据集进行`one-hot`编码"
   ]
  },
  {
   "cell_type": "markdown",
   "metadata": {
    "slideshow": {
     "slide_type": "fragment"
    }
   },
   "source": [
    "```python\n",
    "te = TransactionEncoder()\n",
    "te.fit_transform(X)\n",
    "```\n",
    "- 利用建立的`one-hot`编码模型对原始事务数据集$X$进行编码转换，$X$是一个**`list of lists`**\n",
    "- 返回值：编码过后的`Numpy`数组，形状为`[n_transactions, n_unique_items]`，值为`True`或`False`"
   ]
  },
  {
   "cell_type": "markdown",
   "metadata": {
    "slideshow": {
     "slide_type": "fragment"
    }
   },
   "source": [
    "- `te.columns_`：经过`one-hot`编码后数组的列名，即所有独特项的名称"
   ]
  },
  {
   "cell_type": "code",
   "execution_count": 6,
   "metadata": {
    "slideshow": {
     "slide_type": "slide"
    }
   },
   "outputs": [],
   "source": [
    "from mlxtend.preprocessing import TransactionEncoder\n",
    "te = TransactionEncoder()"
   ]
  },
  {
   "cell_type": "code",
   "execution_count": 7,
   "metadata": {
    "scrolled": true,
    "slideshow": {
     "slide_type": "fragment"
    }
   },
   "outputs": [
    {
     "data": {
      "text/plain": [
       "array([[False, False, False,  True, False,  True,  True,  True,  True,\n",
       "        False,  True],\n",
       "       [False, False,  True,  True, False,  True, False,  True,  True,\n",
       "        False,  True],\n",
       "       [ True, False, False,  True, False,  True,  True, False, False,\n",
       "        False, False],\n",
       "       [False,  True, False, False, False,  True,  True, False, False,\n",
       "         True,  True],\n",
       "       [False,  True, False,  True,  True,  True, False, False,  True,\n",
       "        False, False]])"
      ]
     },
     "execution_count": 7,
     "metadata": {},
     "output_type": "execute_result"
    },
    {
     "data": {
      "text/html": [
       "<div>\n",
       "<style scoped>\n",
       "    .dataframe tbody tr th:only-of-type {\n",
       "        vertical-align: middle;\n",
       "    }\n",
       "\n",
       "    .dataframe tbody tr th {\n",
       "        vertical-align: top;\n",
       "    }\n",
       "\n",
       "    .dataframe thead th {\n",
       "        text-align: right;\n",
       "    }\n",
       "</style>\n",
       "<table border=\"1\" class=\"dataframe\">\n",
       "  <thead>\n",
       "    <tr style=\"text-align: right;\">\n",
       "      <th></th>\n",
       "      <th>Apple</th>\n",
       "      <th>Corn</th>\n",
       "      <th>Dill</th>\n",
       "      <th>Eggs</th>\n",
       "      <th>Ice cream</th>\n",
       "      <th>Kidney Beans</th>\n",
       "      <th>Milk</th>\n",
       "      <th>Nutmeg</th>\n",
       "      <th>Onion</th>\n",
       "      <th>Unicorn</th>\n",
       "      <th>Yogurt</th>\n",
       "    </tr>\n",
       "  </thead>\n",
       "  <tbody>\n",
       "    <tr>\n",
       "      <th>0</th>\n",
       "      <td>False</td>\n",
       "      <td>False</td>\n",
       "      <td>False</td>\n",
       "      <td>True</td>\n",
       "      <td>False</td>\n",
       "      <td>True</td>\n",
       "      <td>True</td>\n",
       "      <td>True</td>\n",
       "      <td>True</td>\n",
       "      <td>False</td>\n",
       "      <td>True</td>\n",
       "    </tr>\n",
       "    <tr>\n",
       "      <th>1</th>\n",
       "      <td>False</td>\n",
       "      <td>False</td>\n",
       "      <td>True</td>\n",
       "      <td>True</td>\n",
       "      <td>False</td>\n",
       "      <td>True</td>\n",
       "      <td>False</td>\n",
       "      <td>True</td>\n",
       "      <td>True</td>\n",
       "      <td>False</td>\n",
       "      <td>True</td>\n",
       "    </tr>\n",
       "    <tr>\n",
       "      <th>2</th>\n",
       "      <td>True</td>\n",
       "      <td>False</td>\n",
       "      <td>False</td>\n",
       "      <td>True</td>\n",
       "      <td>False</td>\n",
       "      <td>True</td>\n",
       "      <td>True</td>\n",
       "      <td>False</td>\n",
       "      <td>False</td>\n",
       "      <td>False</td>\n",
       "      <td>False</td>\n",
       "    </tr>\n",
       "    <tr>\n",
       "      <th>3</th>\n",
       "      <td>False</td>\n",
       "      <td>True</td>\n",
       "      <td>False</td>\n",
       "      <td>False</td>\n",
       "      <td>False</td>\n",
       "      <td>True</td>\n",
       "      <td>True</td>\n",
       "      <td>False</td>\n",
       "      <td>False</td>\n",
       "      <td>True</td>\n",
       "      <td>True</td>\n",
       "    </tr>\n",
       "    <tr>\n",
       "      <th>4</th>\n",
       "      <td>False</td>\n",
       "      <td>True</td>\n",
       "      <td>False</td>\n",
       "      <td>True</td>\n",
       "      <td>True</td>\n",
       "      <td>True</td>\n",
       "      <td>False</td>\n",
       "      <td>False</td>\n",
       "      <td>True</td>\n",
       "      <td>False</td>\n",
       "      <td>False</td>\n",
       "    </tr>\n",
       "  </tbody>\n",
       "</table>\n",
       "</div>"
      ],
      "text/plain": [
       "   Apple   Corn   Dill   Eggs  Ice cream  Kidney Beans   Milk  Nutmeg  Onion  \\\n",
       "0  False  False  False   True      False          True   True    True   True   \n",
       "1  False  False   True   True      False          True  False    True   True   \n",
       "2   True  False  False   True      False          True   True   False  False   \n",
       "3  False   True  False  False      False          True   True   False  False   \n",
       "4  False   True  False   True       True          True  False   False   True   \n",
       "\n",
       "   Unicorn  Yogurt  \n",
       "0    False    True  \n",
       "1    False    True  \n",
       "2    False   False  \n",
       "3     True    True  \n",
       "4    False   False  "
      ]
     },
     "execution_count": 7,
     "metadata": {},
     "output_type": "execute_result"
    }
   ],
   "source": [
    "bsktOH = te.fit_transform(bskt)\n",
    "bsktOH\n",
    "bsktdf = pd.DataFrame(bsktOH,columns=te.columns_)\n",
    "bsktdf"
   ]
  },
  {
   "cell_type": "markdown",
   "metadata": {
    "slideshow": {
     "slide_type": "slide"
    }
   },
   "source": [
    "##### apriori算法提取频繁项集"
   ]
  },
  {
   "cell_type": "code",
   "execution_count": 8,
   "metadata": {
    "slideshow": {
     "slide_type": "fragment"
    }
   },
   "outputs": [],
   "source": [
    "from mlxtend.frequent_patterns import apriori"
   ]
  },
  {
   "cell_type": "code",
   "execution_count": 9,
   "metadata": {
    "scrolled": false,
    "slideshow": {
     "slide_type": "fragment"
    }
   },
   "outputs": [
    {
     "name": "stdout",
     "output_type": "stream",
     "text": [
      "CPU times: user 20 ms, sys: 0 ns, total: 20 ms\n",
      "Wall time: 19.7 ms\n"
     ]
    },
    {
     "data": {
      "text/html": [
       "<div>\n",
       "<style scoped>\n",
       "    .dataframe tbody tr th:only-of-type {\n",
       "        vertical-align: middle;\n",
       "    }\n",
       "\n",
       "    .dataframe tbody tr th {\n",
       "        vertical-align: top;\n",
       "    }\n",
       "\n",
       "    .dataframe thead th {\n",
       "        text-align: right;\n",
       "    }\n",
       "</style>\n",
       "<table border=\"1\" class=\"dataframe\">\n",
       "  <thead>\n",
       "    <tr style=\"text-align: right;\">\n",
       "      <th></th>\n",
       "      <th>support</th>\n",
       "      <th>itemsets</th>\n",
       "    </tr>\n",
       "  </thead>\n",
       "  <tbody>\n",
       "    <tr>\n",
       "      <th>0</th>\n",
       "      <td>0.8</td>\n",
       "      <td>(Eggs)</td>\n",
       "    </tr>\n",
       "    <tr>\n",
       "      <th>1</th>\n",
       "      <td>1.0</td>\n",
       "      <td>(Kidney Beans)</td>\n",
       "    </tr>\n",
       "    <tr>\n",
       "      <th>2</th>\n",
       "      <td>0.6</td>\n",
       "      <td>(Milk)</td>\n",
       "    </tr>\n",
       "    <tr>\n",
       "      <th>3</th>\n",
       "      <td>0.6</td>\n",
       "      <td>(Onion)</td>\n",
       "    </tr>\n",
       "    <tr>\n",
       "      <th>4</th>\n",
       "      <td>0.6</td>\n",
       "      <td>(Yogurt)</td>\n",
       "    </tr>\n",
       "    <tr>\n",
       "      <th>5</th>\n",
       "      <td>0.8</td>\n",
       "      <td>(Kidney Beans, Eggs)</td>\n",
       "    </tr>\n",
       "    <tr>\n",
       "      <th>6</th>\n",
       "      <td>0.6</td>\n",
       "      <td>(Onion, Eggs)</td>\n",
       "    </tr>\n",
       "    <tr>\n",
       "      <th>7</th>\n",
       "      <td>0.6</td>\n",
       "      <td>(Kidney Beans, Milk)</td>\n",
       "    </tr>\n",
       "    <tr>\n",
       "      <th>8</th>\n",
       "      <td>0.6</td>\n",
       "      <td>(Kidney Beans, Onion)</td>\n",
       "    </tr>\n",
       "    <tr>\n",
       "      <th>9</th>\n",
       "      <td>0.6</td>\n",
       "      <td>(Kidney Beans, Yogurt)</td>\n",
       "    </tr>\n",
       "    <tr>\n",
       "      <th>10</th>\n",
       "      <td>0.6</td>\n",
       "      <td>(Kidney Beans, Onion, Eggs)</td>\n",
       "    </tr>\n",
       "  </tbody>\n",
       "</table>\n",
       "</div>"
      ],
      "text/plain": [
       "    support                     itemsets\n",
       "0       0.8                       (Eggs)\n",
       "1       1.0               (Kidney Beans)\n",
       "2       0.6                       (Milk)\n",
       "3       0.6                      (Onion)\n",
       "4       0.6                     (Yogurt)\n",
       "5       0.8         (Kidney Beans, Eggs)\n",
       "6       0.6                (Onion, Eggs)\n",
       "7       0.6         (Kidney Beans, Milk)\n",
       "8       0.6        (Kidney Beans, Onion)\n",
       "9       0.6       (Kidney Beans, Yogurt)\n",
       "10      0.6  (Kidney Beans, Onion, Eggs)"
      ]
     },
     "execution_count": 9,
     "metadata": {},
     "output_type": "execute_result"
    }
   ],
   "source": [
    "%%time\n",
    "itemsets = apriori(bsktdf,min_support=0.6,use_colnames=True)\n",
    "itemsets"
   ]
  },
  {
   "cell_type": "markdown",
   "metadata": {
    "slideshow": {
     "slide_type": "slide"
    }
   },
   "source": [
    "#### FP增长树算法"
   ]
  },
  {
   "cell_type": "markdown",
   "metadata": {
    "slideshow": {
     "slide_type": "fragment"
    }
   },
   "source": [
    "```python\n",
    "from mlxtend.frequent_patterns import fpgrowth\n",
    "fpgrowth(df, min_support=0.5, use_colnames=False, max_len=None)\n",
    "```\n",
    "- `df`：`pandas`的`DataFrame`，经过`one-hot`编码后的数据集\n",
    "- `min_support`：支持度阈值\n",
    "- `use_colnames`：返回的频繁项集是否用原有的列名\n",
    "- `max_len`：生成项集的最大数量，默认生成所有项集"
   ]
  },
  {
   "cell_type": "code",
   "execution_count": 10,
   "metadata": {
    "slideshow": {
     "slide_type": "fragment"
    }
   },
   "outputs": [],
   "source": [
    "from mlxtend.frequent_patterns import fpgrowth"
   ]
  },
  {
   "cell_type": "code",
   "execution_count": 11,
   "metadata": {
    "slideshow": {
     "slide_type": "fragment"
    }
   },
   "outputs": [
    {
     "name": "stdout",
     "output_type": "stream",
     "text": [
      "CPU times: user 4 ms, sys: 0 ns, total: 4 ms\n",
      "Wall time: 5.88 ms\n"
     ]
    },
    {
     "data": {
      "text/html": [
       "<div>\n",
       "<style scoped>\n",
       "    .dataframe tbody tr th:only-of-type {\n",
       "        vertical-align: middle;\n",
       "    }\n",
       "\n",
       "    .dataframe tbody tr th {\n",
       "        vertical-align: top;\n",
       "    }\n",
       "\n",
       "    .dataframe thead th {\n",
       "        text-align: right;\n",
       "    }\n",
       "</style>\n",
       "<table border=\"1\" class=\"dataframe\">\n",
       "  <thead>\n",
       "    <tr style=\"text-align: right;\">\n",
       "      <th></th>\n",
       "      <th>support</th>\n",
       "      <th>itemsets</th>\n",
       "    </tr>\n",
       "  </thead>\n",
       "  <tbody>\n",
       "    <tr>\n",
       "      <th>0</th>\n",
       "      <td>1.0</td>\n",
       "      <td>(Kidney Beans)</td>\n",
       "    </tr>\n",
       "    <tr>\n",
       "      <th>1</th>\n",
       "      <td>0.8</td>\n",
       "      <td>(Eggs)</td>\n",
       "    </tr>\n",
       "    <tr>\n",
       "      <th>2</th>\n",
       "      <td>0.6</td>\n",
       "      <td>(Yogurt)</td>\n",
       "    </tr>\n",
       "    <tr>\n",
       "      <th>3</th>\n",
       "      <td>0.6</td>\n",
       "      <td>(Onion)</td>\n",
       "    </tr>\n",
       "    <tr>\n",
       "      <th>4</th>\n",
       "      <td>0.6</td>\n",
       "      <td>(Milk)</td>\n",
       "    </tr>\n",
       "    <tr>\n",
       "      <th>5</th>\n",
       "      <td>0.8</td>\n",
       "      <td>(Kidney Beans, Eggs)</td>\n",
       "    </tr>\n",
       "    <tr>\n",
       "      <th>6</th>\n",
       "      <td>0.6</td>\n",
       "      <td>(Kidney Beans, Yogurt)</td>\n",
       "    </tr>\n",
       "    <tr>\n",
       "      <th>7</th>\n",
       "      <td>0.6</td>\n",
       "      <td>(Onion, Eggs)</td>\n",
       "    </tr>\n",
       "    <tr>\n",
       "      <th>8</th>\n",
       "      <td>0.6</td>\n",
       "      <td>(Kidney Beans, Onion)</td>\n",
       "    </tr>\n",
       "    <tr>\n",
       "      <th>9</th>\n",
       "      <td>0.6</td>\n",
       "      <td>(Kidney Beans, Onion, Eggs)</td>\n",
       "    </tr>\n",
       "    <tr>\n",
       "      <th>10</th>\n",
       "      <td>0.6</td>\n",
       "      <td>(Kidney Beans, Milk)</td>\n",
       "    </tr>\n",
       "  </tbody>\n",
       "</table>\n",
       "</div>"
      ],
      "text/plain": [
       "    support                     itemsets\n",
       "0       1.0               (Kidney Beans)\n",
       "1       0.8                       (Eggs)\n",
       "2       0.6                     (Yogurt)\n",
       "3       0.6                      (Onion)\n",
       "4       0.6                       (Milk)\n",
       "5       0.8         (Kidney Beans, Eggs)\n",
       "6       0.6       (Kidney Beans, Yogurt)\n",
       "7       0.6                (Onion, Eggs)\n",
       "8       0.6        (Kidney Beans, Onion)\n",
       "9       0.6  (Kidney Beans, Onion, Eggs)\n",
       "10      0.6         (Kidney Beans, Milk)"
      ]
     },
     "execution_count": 11,
     "metadata": {},
     "output_type": "execute_result"
    }
   ],
   "source": [
    "%%time\n",
    "itemsetsFp = fpgrowth(bsktdf,min_support=0.6,use_colnames=True)\n",
    "itemsetsFp"
   ]
  },
  {
   "cell_type": "markdown",
   "metadata": {
    "slideshow": {
     "slide_type": "slide"
    }
   },
   "source": [
    "### 提取关联规则"
   ]
  },
  {
   "cell_type": "markdown",
   "metadata": {
    "slideshow": {
     "slide_type": "fragment"
    }
   },
   "source": [
    "```python\n",
    "from mlxtend.frequent_patterns import association_rules\n",
    "association_rules(df, metric='confidence', min_threshold=0.8)\n",
    "```\n",
    "- `df`：生成的频繁项集\n",
    "- `metric`：`str`类型，可以是`support, confidence, lift`\n",
    "- `min_threshold`：`float`类型，设定所选顶`metric`的阈值"
   ]
  },
  {
   "cell_type": "code",
   "execution_count": 12,
   "metadata": {
    "slideshow": {
     "slide_type": "fragment"
    }
   },
   "outputs": [],
   "source": [
    "from mlxtend.frequent_patterns import association_rules"
   ]
  },
  {
   "cell_type": "code",
   "execution_count": 13,
   "metadata": {
    "slideshow": {
     "slide_type": "fragment"
    }
   },
   "outputs": [
    {
     "data": {
      "text/html": [
       "<div>\n",
       "<style scoped>\n",
       "    .dataframe tbody tr th:only-of-type {\n",
       "        vertical-align: middle;\n",
       "    }\n",
       "\n",
       "    .dataframe tbody tr th {\n",
       "        vertical-align: top;\n",
       "    }\n",
       "\n",
       "    .dataframe thead th {\n",
       "        text-align: right;\n",
       "    }\n",
       "</style>\n",
       "<table border=\"1\" class=\"dataframe\">\n",
       "  <thead>\n",
       "    <tr style=\"text-align: right;\">\n",
       "      <th></th>\n",
       "      <th>antecedents</th>\n",
       "      <th>consequents</th>\n",
       "      <th>antecedent support</th>\n",
       "      <th>consequent support</th>\n",
       "      <th>support</th>\n",
       "      <th>confidence</th>\n",
       "      <th>lift</th>\n",
       "      <th>leverage</th>\n",
       "      <th>conviction</th>\n",
       "    </tr>\n",
       "  </thead>\n",
       "  <tbody>\n",
       "    <tr>\n",
       "      <th>0</th>\n",
       "      <td>(Kidney Beans)</td>\n",
       "      <td>(Eggs)</td>\n",
       "      <td>1.0</td>\n",
       "      <td>0.8</td>\n",
       "      <td>0.8</td>\n",
       "      <td>0.8</td>\n",
       "      <td>1.00</td>\n",
       "      <td>0.00</td>\n",
       "      <td>1.0</td>\n",
       "    </tr>\n",
       "    <tr>\n",
       "      <th>1</th>\n",
       "      <td>(Eggs)</td>\n",
       "      <td>(Kidney Beans)</td>\n",
       "      <td>0.8</td>\n",
       "      <td>1.0</td>\n",
       "      <td>0.8</td>\n",
       "      <td>1.0</td>\n",
       "      <td>1.00</td>\n",
       "      <td>0.00</td>\n",
       "      <td>inf</td>\n",
       "    </tr>\n",
       "    <tr>\n",
       "      <th>2</th>\n",
       "      <td>(Onion)</td>\n",
       "      <td>(Eggs)</td>\n",
       "      <td>0.6</td>\n",
       "      <td>0.8</td>\n",
       "      <td>0.6</td>\n",
       "      <td>1.0</td>\n",
       "      <td>1.25</td>\n",
       "      <td>0.12</td>\n",
       "      <td>inf</td>\n",
       "    </tr>\n",
       "    <tr>\n",
       "      <th>3</th>\n",
       "      <td>(Milk)</td>\n",
       "      <td>(Kidney Beans)</td>\n",
       "      <td>0.6</td>\n",
       "      <td>1.0</td>\n",
       "      <td>0.6</td>\n",
       "      <td>1.0</td>\n",
       "      <td>1.00</td>\n",
       "      <td>0.00</td>\n",
       "      <td>inf</td>\n",
       "    </tr>\n",
       "    <tr>\n",
       "      <th>4</th>\n",
       "      <td>(Onion)</td>\n",
       "      <td>(Kidney Beans)</td>\n",
       "      <td>0.6</td>\n",
       "      <td>1.0</td>\n",
       "      <td>0.6</td>\n",
       "      <td>1.0</td>\n",
       "      <td>1.00</td>\n",
       "      <td>0.00</td>\n",
       "      <td>inf</td>\n",
       "    </tr>\n",
       "    <tr>\n",
       "      <th>5</th>\n",
       "      <td>(Yogurt)</td>\n",
       "      <td>(Kidney Beans)</td>\n",
       "      <td>0.6</td>\n",
       "      <td>1.0</td>\n",
       "      <td>0.6</td>\n",
       "      <td>1.0</td>\n",
       "      <td>1.00</td>\n",
       "      <td>0.00</td>\n",
       "      <td>inf</td>\n",
       "    </tr>\n",
       "    <tr>\n",
       "      <th>6</th>\n",
       "      <td>(Kidney Beans, Onion)</td>\n",
       "      <td>(Eggs)</td>\n",
       "      <td>0.6</td>\n",
       "      <td>0.8</td>\n",
       "      <td>0.6</td>\n",
       "      <td>1.0</td>\n",
       "      <td>1.25</td>\n",
       "      <td>0.12</td>\n",
       "      <td>inf</td>\n",
       "    </tr>\n",
       "    <tr>\n",
       "      <th>7</th>\n",
       "      <td>(Onion, Eggs)</td>\n",
       "      <td>(Kidney Beans)</td>\n",
       "      <td>0.6</td>\n",
       "      <td>1.0</td>\n",
       "      <td>0.6</td>\n",
       "      <td>1.0</td>\n",
       "      <td>1.00</td>\n",
       "      <td>0.00</td>\n",
       "      <td>inf</td>\n",
       "    </tr>\n",
       "    <tr>\n",
       "      <th>8</th>\n",
       "      <td>(Onion)</td>\n",
       "      <td>(Kidney Beans, Eggs)</td>\n",
       "      <td>0.6</td>\n",
       "      <td>0.8</td>\n",
       "      <td>0.6</td>\n",
       "      <td>1.0</td>\n",
       "      <td>1.25</td>\n",
       "      <td>0.12</td>\n",
       "      <td>inf</td>\n",
       "    </tr>\n",
       "  </tbody>\n",
       "</table>\n",
       "</div>"
      ],
      "text/plain": [
       "             antecedents           consequents  antecedent support  \\\n",
       "0         (Kidney Beans)                (Eggs)                 1.0   \n",
       "1                 (Eggs)        (Kidney Beans)                 0.8   \n",
       "2                (Onion)                (Eggs)                 0.6   \n",
       "3                 (Milk)        (Kidney Beans)                 0.6   \n",
       "4                (Onion)        (Kidney Beans)                 0.6   \n",
       "5               (Yogurt)        (Kidney Beans)                 0.6   \n",
       "6  (Kidney Beans, Onion)                (Eggs)                 0.6   \n",
       "7          (Onion, Eggs)        (Kidney Beans)                 0.6   \n",
       "8                (Onion)  (Kidney Beans, Eggs)                 0.6   \n",
       "\n",
       "   consequent support  support  confidence  lift  leverage  conviction  \n",
       "0                 0.8      0.8         0.8  1.00      0.00         1.0  \n",
       "1                 1.0      0.8         1.0  1.00      0.00         inf  \n",
       "2                 0.8      0.6         1.0  1.25      0.12         inf  \n",
       "3                 1.0      0.6         1.0  1.00      0.00         inf  \n",
       "4                 1.0      0.6         1.0  1.00      0.00         inf  \n",
       "5                 1.0      0.6         1.0  1.00      0.00         inf  \n",
       "6                 0.8      0.6         1.0  1.25      0.12         inf  \n",
       "7                 1.0      0.6         1.0  1.00      0.00         inf  \n",
       "8                 0.8      0.6         1.0  1.25      0.12         inf  "
      ]
     },
     "execution_count": 13,
     "metadata": {},
     "output_type": "execute_result"
    }
   ],
   "source": [
    "association_rules(itemsets)"
   ]
  }
 ],
 "metadata": {
  "celltoolbar": "幻灯片",
  "hide_input": false,
  "kernelspec": {
   "display_name": "Python 3",
   "language": "python",
   "name": "python3"
  },
  "language_info": {
   "codemirror_mode": {
    "name": "ipython",
    "version": 3
   },
   "file_extension": ".py",
   "mimetype": "text/x-python",
   "name": "python",
   "nbconvert_exporter": "python",
   "pygments_lexer": "ipython3",
   "version": "3.6.8"
  },
  "toc": {
   "base_numbering": 1,
   "nav_menu": {},
   "number_sections": true,
   "sideBar": true,
   "skip_h1_title": false,
   "title_cell": "Table of Contents",
   "title_sidebar": "Contents",
   "toc_cell": false,
   "toc_position": {
    "height": "calc(100% - 180px)",
    "left": "10px",
    "top": "150px",
    "width": "221.784px"
   },
   "toc_section_display": true,
   "toc_window_display": true
  }
 },
 "nbformat": 4,
 "nbformat_minor": 2
}
