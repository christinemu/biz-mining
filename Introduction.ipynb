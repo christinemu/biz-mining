{
 "cells": [
  {
   "cell_type": "code",
   "execution_count": 76,
   "metadata": {
    "slideshow": {
     "slide_type": "notes"
    }
   },
   "outputs": [],
   "source": [
    "import json\n",
    "import pandas as pd\n",
    "import numpy as np\n",
    "import matplotlib as mpl\n",
    "import matplotlib.pyplot as plt"
   ]
  },
  {
   "cell_type": "code",
   "execution_count": 84,
   "metadata": {
    "slideshow": {
     "slide_type": "notes"
    }
   },
   "outputs": [],
   "source": [
    "def set_chinese_font():\n",
    "    mpl.rcParams['font.sans-serif'] = ['Microsoft Yahei']\n",
    "    mpl.rcParams['font.serif'] = ['Microsoft Yahei']\n",
    "    mpl.rcParams['axes.unicode_minus'] = False"
   ]
  },
  {
   "cell_type": "code",
   "execution_count": 85,
   "metadata": {
    "slideshow": {
     "slide_type": "notes"
    }
   },
   "outputs": [],
   "source": [
    "%matplotlib inline\n",
    "set_chinese_font()"
   ]
  },
  {
   "cell_type": "markdown",
   "metadata": {
    "slideshow": {
     "slide_type": "slide"
    }
   },
   "source": [
    "<div class=\"jumbotron\">\n",
    "    <p class=\"display-1 h1\">商业数据分析与挖掘</p>\n",
    "    <hr class=\"my-4\">\n",
    "    <p>主讲：李岩</p>\n",
    "    <p>管理学院</p>\n",
    "    <p>liyan@cumtb.edu.cn</p>\n",
    "</div>"
   ]
  },
  {
   "cell_type": "markdown",
   "metadata": {
    "slideshow": {
     "slide_type": "slide"
    }
   },
   "source": [
    "# 为什么要学习数据分析与挖掘？"
   ]
  },
  {
   "cell_type": "markdown",
   "metadata": {
    "slideshow": {
     "slide_type": "fragment"
    }
   },
   "source": [
    "> <span class=\"girk\">有竞争力的现代人</span>"
   ]
  },
  {
   "cell_type": "markdown",
   "metadata": {
    "slideshow": {
     "slide_type": "fragment"
    }
   },
   "source": [
    "- 全局观\n",
    "- 专业性\n",
    "- 有自己的观点"
   ]
  },
  {
   "cell_type": "markdown",
   "metadata": {
    "slideshow": {
     "slide_type": "slide"
    }
   },
   "source": [
    "## 全局观"
   ]
  },
  {
   "cell_type": "markdown",
   "metadata": {
    "slideshow": {
     "slide_type": "fragment"
    }
   },
   "source": [
    "- 如何获得全局观？"
   ]
  },
  {
   "cell_type": "markdown",
   "metadata": {
    "slideshow": {
     "slide_type": "fragment"
    }
   },
   "source": [
    "<span class=\"mark\">大数据的特点（5V）</span>"
   ]
  },
  {
   "cell_type": "markdown",
   "metadata": {
    "slideshow": {
     "slide_type": "fragment"
    }
   },
   "source": [
    "- 规模（Volume）\n",
    "- 速度（Velocity）\n",
    "- 多样性（Varity）\n",
    "- 真实性（Veracity）\n",
    "- 价值（Value）"
   ]
  },
  {
   "cell_type": "markdown",
   "metadata": {
    "slideshow": {
     "slide_type": "slide"
    }
   },
   "source": [
    "### 规模（Volume）"
   ]
  },
  {
   "cell_type": "markdown",
   "metadata": {
    "cell_style": "split",
    "slideshow": {
     "slide_type": "subslide"
    }
   },
   "source": [
    "<center>\n",
    "<img src=\"./img/introduction/LIBRARY-OF-ALEXANDRIA.jpg\" width=\"40%\">\n",
    "</center>"
   ]
  },
  {
   "cell_type": "markdown",
   "metadata": {
    "cell_style": "split",
    "slideshow": {
     "slide_type": "fragment"
    }
   },
   "source": [
    "- 古埃及的亚历山大图书馆（the Library of Alexandria）在公元3世纪被认为存储了当时人类所有的知识"
   ]
  },
  {
   "cell_type": "markdown",
   "metadata": {
    "cell_style": "split",
    "slideshow": {
     "slide_type": "fragment"
    }
   },
   "source": [
    "- 当今全球每个人能够获得的数据是古亚历山大图书馆收藏量的320倍，达到1200 exabytes"
   ]
  },
  {
   "cell_type": "markdown",
   "metadata": {
    "cell_style": "split",
    "slideshow": {
     "slide_type": "subslide"
    }
   },
   "source": [
    "<center>\n",
    "<img src=\"./img/introduction/bytes.jpg\" width=\"80%\">\n",
    "</center>"
   ]
  },
  {
   "cell_type": "markdown",
   "metadata": {
    "slideshow": {
     "slide_type": "slide"
    }
   },
   "source": [
    "### 速度（Velocity）"
   ]
  },
  {
   "cell_type": "markdown",
   "metadata": {
    "slideshow": {
     "slide_type": "fragment"
    }
   },
   "source": [
    "<center>\n",
    "<img src=\"./img/introduction/DataNeverSleeps2.jpg\">\n",
    "</center>"
   ]
  },
  {
   "cell_type": "markdown",
   "metadata": {
    "slideshow": {
     "slide_type": "slide"
    }
   },
   "source": [
    "### 多样（Variety）"
   ]
  },
  {
   "cell_type": "markdown",
   "metadata": {
    "slideshow": {
     "slide_type": "fragment"
    }
   },
   "source": [
    "<center>\n",
    "<img src=\"./img/introduction/forms-of-big-data-variety.png\">\n",
    "</center>"
   ]
  },
  {
   "cell_type": "markdown",
   "metadata": {
    "slideshow": {
     "slide_type": "fragment"
    }
   },
   "source": [
    "- 数据形态多样"
   ]
  },
  {
   "cell_type": "markdown",
   "metadata": {
    "slideshow": {
     "slide_type": "fragment"
    }
   },
   "source": [
    "- 非结构化（unstructured）数据大量涌现"
   ]
  },
  {
   "cell_type": "markdown",
   "metadata": {
    "slideshow": {
     "slide_type": "slide"
    }
   },
   "source": [
    "### 真实性（Veracity）"
   ]
  },
  {
   "cell_type": "markdown",
   "metadata": {
    "slideshow": {
     "slide_type": "fragment"
    }
   },
   "source": [
    "<center>\n",
    "<img src=\"./img/introduction/veracitycn.png\" width=\"60%\">\n",
    "</center>"
   ]
  },
  {
   "cell_type": "markdown",
   "metadata": {
    "slideshow": {
     "slide_type": "slide"
    }
   },
   "source": [
    "### 价值（Value）"
   ]
  },
  {
   "cell_type": "markdown",
   "metadata": {
    "slideshow": {
     "slide_type": "fragment"
    }
   },
   "source": [
    "<center>\n",
    "<img src=\"./img/introduction/data-value.jpg\">\n",
    "</center>"
   ]
  },
  {
   "cell_type": "markdown",
   "metadata": {
    "slideshow": {
     "slide_type": "slide"
    }
   },
   "source": [
    "## 专业性"
   ]
  },
  {
   "cell_type": "markdown",
   "metadata": {
    "slideshow": {
     "slide_type": "fragment"
    }
   },
   "source": [
    "### 如何体现出专业性？"
   ]
  },
  {
   "cell_type": "markdown",
   "metadata": {
    "slideshow": {
     "slide_type": "subslide"
    }
   },
   "source": [
    "- 着装？"
   ]
  },
  {
   "cell_type": "markdown",
   "metadata": {
    "slideshow": {
     "slide_type": "fragment"
    }
   },
   "source": [
    "<center>\n",
    "<img src=\"./img/introduction/Professional-dress.jpg\" width=\"40%\">\n",
    "</center>"
   ]
  },
  {
   "cell_type": "markdown",
   "metadata": {
    "slideshow": {
     "slide_type": "subslide"
    }
   },
   "source": [
    "- 工具？"
   ]
  },
  {
   "cell_type": "markdown",
   "metadata": {
    "slideshow": {
     "slide_type": "fragment"
    }
   },
   "source": [
    "<center>\n",
    "<img src=\"./img/introduction/macbookair.jpg\" width=\"60%\">\n",
    "</center>"
   ]
  },
  {
   "cell_type": "markdown",
   "metadata": {
    "slideshow": {
     "slide_type": "subslide"
    }
   },
   "source": [
    "- 语言？"
   ]
  },
  {
   "cell_type": "markdown",
   "metadata": {
    "slideshow": {
     "slide_type": "fragment"
    }
   },
   "source": [
    "<center>\n",
    "    <img src=\"./img/introduction/thanks.jpg\" width=\"50%\">\n",
    "</center>"
   ]
  },
  {
   "cell_type": "markdown",
   "metadata": {
    "slideshow": {
     "slide_type": "slide"
    }
   },
   "source": [
    "### 用数据分析解决问题的能力"
   ]
  },
  {
   "cell_type": "markdown",
   "metadata": {
    "slideshow": {
     "slide_type": "fragment"
    }
   },
   "source": [
    "<center>\n",
    "<img src=\"./img/introduction/dataAnalystsAbility.jpg\" width=\"40%\">\n",
    "</center>"
   ]
  },
  {
   "cell_type": "markdown",
   "metadata": {
    "slideshow": {
     "slide_type": "subslide"
    }
   },
   "source": [
    "##### 数学知识"
   ]
  },
  {
   "cell_type": "markdown",
   "metadata": {
    "slideshow": {
     "slide_type": "fragment"
    }
   },
   "source": [
    "- 对于初级数据分析师，了解描述统计相关的基础内容，有一定的公式计算能力"
   ]
  },
  {
   "cell_type": "markdown",
   "metadata": {
    "slideshow": {
     "slide_type": "fragment"
    }
   },
   "source": [
    "- 对于高级数据分析师，统计模型相关知识是必备能力，矩阵运算有一定了解"
   ]
  },
  {
   "cell_type": "markdown",
   "metadata": {
    "slideshow": {
     "slide_type": "fragment"
    }
   },
   "source": [
    "- 对于数据挖掘工程师，除了统计学以外，各类算法也需要熟练使用"
   ]
  },
  {
   "cell_type": "markdown",
   "metadata": {
    "slideshow": {
     "slide_type": "subslide"
    }
   },
   "source": [
    "##### 分析工具"
   ]
  },
  {
   "cell_type": "markdown",
   "metadata": {
    "slideshow": {
     "slide_type": "fragment"
    }
   },
   "source": [
    "-  对于初级数据分析师，熟练使用Excel，例如数据透视表和公式。另外，还要学会一个统计分析工具，例如SPSS"
   ]
  },
  {
   "cell_type": "markdown",
   "metadata": {
    "slideshow": {
     "slide_type": "fragment"
    }
   },
   "source": [
    "- 对于高级数据分析师，使用分析工具是核心能力，SAS/Stata/Python/R/Matlab至少要熟练使用其中之一"
   ]
  },
  {
   "cell_type": "markdown",
   "metadata": {
    "slideshow": {
     "slide_type": "fragment"
    }
   },
   "source": [
    "- 对于数据挖掘工程师，商业分析工具不是其核心，主要工作要依靠自己编写代码来解决"
   ]
  },
  {
   "cell_type": "markdown",
   "metadata": {
    "slideshow": {
     "slide_type": "subslide"
    }
   },
   "source": [
    "##### 编程语言"
   ]
  },
  {
   "cell_type": "markdown",
   "metadata": {
    "slideshow": {
     "slide_type": "fragment"
    }
   },
   "source": [
    " - 对于初级数据分析师，熟悉SQL语句基本就可以了"
   ]
  },
  {
   "cell_type": "markdown",
   "metadata": {
    "slideshow": {
     "slide_type": "fragment"
    }
   },
   "source": [
    "- 对于高级数据分析师，除了SQL以外，学习Python是很有必要的，用来获取和处理数据都将会事半功倍"
   ]
  },
  {
   "cell_type": "markdown",
   "metadata": {
    "slideshow": {
     "slide_type": "fragment"
    }
   },
   "source": [
    "- 对于数据挖掘工程师，Python/Java/C++至少得熟悉一门"
   ]
  },
  {
   "cell_type": "markdown",
   "metadata": {
    "slideshow": {
     "slide_type": "subslide"
    }
   },
   "source": [
    "##### 数据可视化"
   ]
  },
  {
   "cell_type": "markdown",
   "metadata": {
    "slideshow": {
     "slide_type": "fragment"
    }
   },
   "source": [
    "- 对于初级数据分析师，能用Excel和PPT做出基本的图表和报告，能清楚的展示数据"
   ]
  },
  {
   "cell_type": "markdown",
   "metadata": {
    "slideshow": {
     "slide_type": "fragment"
    }
   },
   "source": [
    "- 对于高级数据分析师，需要探寻更好的数据可视化方法，使用更有效的数据可视化工具，根据实际需求做出适合受众的数据可视化内容，掌握R/Python"
   ]
  },
  {
   "cell_type": "markdown",
   "metadata": {
    "slideshow": {
     "slide_type": "fragment"
    }
   },
   "source": [
    "- 对于数据挖掘工程师，了解一些数据可视化工具是有必要的，也要根据需求做一些复杂的可视化图表"
   ]
  },
  {
   "cell_type": "markdown",
   "metadata": {
    "slideshow": {
     "slide_type": "slide"
    }
   },
   "source": [
    "## 就业"
   ]
  },
  {
   "cell_type": "markdown",
   "metadata": {
    "slideshow": {
     "slide_type": "fragment"
    }
   },
   "source": [
    "<center><img src=\"./img/introduction/dataAnalysisIndustry.png\" width=\"40%\"></center>"
   ]
  },
  {
   "cell_type": "markdown",
   "metadata": {
    "slideshow": {
     "slide_type": "subslide"
    }
   },
   "source": [
    "<center><img src=\"./img/introduction/dataSalary.jpg\" width=\"80%\"></center>"
   ]
  },
  {
   "cell_type": "markdown",
   "metadata": {
    "slideshow": {
     "slide_type": "slide"
    }
   },
   "source": [
    "# 数据科学"
   ]
  },
  {
   "cell_type": "markdown",
   "metadata": {
    "slideshow": {
     "slide_type": "subslide"
    }
   },
   "source": [
    "## 数据科学定义"
   ]
  },
  {
   "cell_type": "markdown",
   "metadata": {
    "slideshow": {
     "slide_type": "fragment"
    }
   },
   "source": [
    "<div class=\"alert alert-info\">\n",
    "    <strong>利用计算机的运算能力对数据进行处理，从数据中提取信息，进而形成“知识”的一门学科。</strong>\n",
    "</div>"
   ]
  },
  {
   "cell_type": "markdown",
   "metadata": {
    "slideshow": {
     "slide_type": "fragment"
    }
   },
   "source": [
    "<center>\n",
    "<img src=\"./img/introduction/dataScience.jpg\">\n",
    "</center>"
   ]
  },
  {
   "cell_type": "markdown",
   "metadata": {
    "slideshow": {
     "slide_type": "slide"
    }
   },
   "source": [
    "## 数据科学分析流程"
   ]
  },
  {
   "cell_type": "markdown",
   "metadata": {
    "slideshow": {
     "slide_type": "fragment"
    }
   },
   "source": [
    "<center><img src=\"./img/introduction/dataAnalysisProcess.png\"></center>"
   ]
  },
  {
   "cell_type": "markdown",
   "metadata": {
    "slideshow": {
     "slide_type": "slide"
    }
   },
   "source": [
    "### 数据收集"
   ]
  },
  {
   "cell_type": "markdown",
   "metadata": {
    "slideshow": {
     "slide_type": "fragment"
    }
   },
   "source": [
    "#### 一手数据"
   ]
  },
  {
   "cell_type": "markdown",
   "metadata": {
    "slideshow": {
     "slide_type": "fragment"
    }
   },
   "source": [
    "- 调研\n",
    "- 访谈\n",
    "- 实验"
   ]
  },
  {
   "cell_type": "markdown",
   "metadata": {
    "slideshow": {
     "slide_type": "subslide"
    }
   },
   "source": [
    "<p class=\"display-1 h2\">瑞幸咖啡遭做空，收盘跌幅10.74％</p>"
   ]
  },
  {
   "cell_type": "markdown",
   "metadata": {
    "slideshow": {
     "slide_type": "fragment"
    }
   },
   "source": [
    "<center><img src=\"./img/introduction/luckin.jpg\" width=\"30%\"></center>"
   ]
  },
  {
   "cell_type": "markdown",
   "metadata": {
    "slideshow": {
     "slide_type": "fragment"
    }
   },
   "source": [
    "- 美东时间2020年1月31日，浑水（Muddy Waters LLC）发布匿名报告指控瑞幸咖啡（NASDAQ:LK）财务造假"
   ]
  },
  {
   "cell_type": "markdown",
   "metadata": {
    "slideshow": {
     "slide_type": "fragment"
    }
   },
   "source": [
    "- 报告声称：“在2019年第三季度和2019年第四季度，每店每日商品数量分别夸大了至少69%和88%”"
   ]
  },
  {
   "cell_type": "markdown",
   "metadata": {
    "slideshow": {
     "slide_type": "fragment"
    }
   },
   "source": [
    "- 瑞幸股价盘中大跌超过25%，收跌近11%"
   ]
  },
  {
   "cell_type": "markdown",
   "metadata": {
    "slideshow": {
     "slide_type": "subslide"
    }
   },
   "source": [
    "- 如何收集数据？\n",
    "    + 雇佣了92个全职和1400个兼职调查员\n",
    "    + 收集了25000多张小票\n",
    "    + 11,260小时的门店流量视频\n",
    "    + 大量内部微信聊天记录"
   ]
  },
  {
   "cell_type": "markdown",
   "metadata": {
    "slideshow": {
     "slide_type": "subslide"
    }
   },
   "source": [
    "<center><img src=\"./img/introduction/luckinwechat.jpg\" width=\"50%\"></center>"
   ]
  },
  {
   "cell_type": "markdown",
   "metadata": {
    "slideshow": {
     "slide_type": "slide"
    }
   },
   "source": [
    "- 网络爬虫\n",
    "    - 网络爬虫是一种按照一定的规则，自动地抓取互联网信息的程序或者脚本\n",
    "    - 可以理解为一个自动访问网页并进行相关操作的小机器人"
   ]
  },
  {
   "cell_type": "markdown",
   "metadata": {
    "slideshow": {
     "slide_type": "slide"
    }
   },
   "source": [
    "#### 二手数据"
   ]
  },
  {
   "cell_type": "markdown",
   "metadata": {
    "slideshow": {
     "slide_type": "fragment"
    }
   },
   "source": [
    "- RESSET锐思数据库\n",
    "- Wind万德数据库"
   ]
  },
  {
   "cell_type": "markdown",
   "metadata": {
    "slideshow": {
     "slide_type": "fragment"
    }
   },
   "source": [
    "- [Tushare财经数据接口   /http://tushare.org/](http://tushare.org/)"
   ]
  },
  {
   "cell_type": "markdown",
   "metadata": {
    "slideshow": {
     "slide_type": "slide"
    }
   },
   "source": [
    "### 数据整理（data processing）"
   ]
  },
  {
   "cell_type": "markdown",
   "metadata": {
    "slideshow": {
     "slide_type": "fragment"
    }
   },
   "source": [
    "- 把原始数据转换成结构化的数据"
   ]
  },
  {
   "cell_type": "markdown",
   "metadata": {
    "slideshow": {
     "slide_type": "fragment"
    }
   },
   "source": [
    "id|姓名|性别|年龄|学号|成绩\n",
    "---|---|---|---|---|---\n",
    "1|Tom|男|21|20170201|90"
   ]
  },
  {
   "cell_type": "markdown",
   "metadata": {
    "slideshow": {
     "slide_type": "slide"
    }
   },
   "source": [
    "### 数据清理（data cleaning）"
   ]
  },
  {
   "cell_type": "markdown",
   "metadata": {
    "slideshow": {
     "slide_type": "fragment"
    }
   },
   "source": [
    "- 识别异常点（outliers）\n",
    "- 删除无效数据（invalid）\n",
    "- 剔除重复数据(duplicates)\n",
    "- 补全缺失数据（missing values）"
   ]
  },
  {
   "cell_type": "markdown",
   "metadata": {
    "slideshow": {
     "slide_type": "slide"
    }
   },
   "source": [
    "### 探索性分析（exploratory data analysis）"
   ]
  },
  {
   "cell_type": "markdown",
   "metadata": {
    "slideshow": {
     "slide_type": "fragment"
    }
   },
   "source": [
    "- 描述型统计（descriptive statistics）\n",
    "    + 均值\n",
    "    + 标准差\n",
    "    + 分位数"
   ]
  },
  {
   "cell_type": "markdown",
   "metadata": {
    "slideshow": {
     "slide_type": "fragment"
    }
   },
   "source": [
    "- 数据可视化（data visualization）\n",
    "    + 直方图显示数据分布\n",
    "    + 散点图显示变量间关系\n",
    "    + 曲线图表示数据变化趋势"
   ]
  },
  {
   "cell_type": "markdown",
   "metadata": {
    "slideshow": {
     "slide_type": "slide"
    }
   },
   "source": [
    "### 建模与算法"
   ]
  },
  {
   "cell_type": "markdown",
   "metadata": {
    "slideshow": {
     "slide_type": "fragment"
    }
   },
   "source": [
    "- 统计、计量模型\n",
    "    + 多元线性回归、逻辑回归\n",
    "    + 因子分析、主成分分析\n",
    "    + 时间序列分析"
   ]
  },
  {
   "cell_type": "markdown",
   "metadata": {
    "slideshow": {
     "slide_type": "fragment"
    }
   },
   "source": [
    "- 挖掘模型\n",
    "    + 分类\n",
    "    + 聚类\n",
    "    + 关联分析"
   ]
  },
  {
   "cell_type": "markdown",
   "metadata": {
    "slideshow": {
     "slide_type": "fragment"
    }
   },
   "source": [
    "- 根据所要分析的问题，选择相应的建模方法\n",
    "    + 分类、预测，还是解释现象？"
   ]
  },
  {
   "cell_type": "markdown",
   "metadata": {
    "slideshow": {
     "slide_type": "slide"
    }
   },
   "source": [
    "### 交流、可视化结果"
   ]
  },
  {
   "cell_type": "markdown",
   "metadata": {
    "slideshow": {
     "slide_type": "fragment"
    }
   },
   "source": [
    "- 交作业\n",
    "- 向主管领导汇报、与同事交流结果\n",
    "- 在期刊上发表论文\n",
    "- 参加学术会议演讲结果"
   ]
  },
  {
   "cell_type": "markdown",
   "metadata": {
    "slideshow": {
     "slide_type": "slide"
    }
   },
   "source": [
    "### 数据产品 "
   ]
  },
  {
   "cell_type": "markdown",
   "metadata": {
    "slideshow": {
     "slide_type": "fragment"
    }
   },
   "source": [
    "- 推荐系统\n",
    "- 客户管理系统"
   ]
  },
  {
   "cell_type": "markdown",
   "metadata": {
    "slideshow": {
     "slide_type": "fragment"
    }
   },
   "source": [
    "- 作用于真实世界，形成一个完整的反馈"
   ]
  },
  {
   "cell_type": "markdown",
   "metadata": {
    "slideshow": {
     "slide_type": "slide"
    }
   },
   "source": [
    "# 课程结构安排"
   ]
  },
  {
   "cell_type": "markdown",
   "metadata": {
    "slideshow": {
     "slide_type": "fragment"
    }
   },
   "source": [
    "<center><img src=\"./img/introduction/structure.png\" width=\"30%\"></center>"
   ]
  },
  {
   "cell_type": "markdown",
   "metadata": {
    "slideshow": {
     "slide_type": "subslide"
    }
   },
   "source": [
    "## 基础"
   ]
  },
  {
   "cell_type": "markdown",
   "metadata": {
    "slideshow": {
     "slide_type": "fragment"
    }
   },
   "source": [
    "- Python安装与Jupyter Notebook配置"
   ]
  },
  {
   "cell_type": "markdown",
   "metadata": {
    "slideshow": {
     "slide_type": "fragment"
    }
   },
   "source": [
    "- Python编程基础"
   ]
  },
  {
   "cell_type": "markdown",
   "metadata": {
    "slideshow": {
     "slide_type": "subslide"
    }
   },
   "source": [
    "## 数据整理"
   ]
  },
  {
   "cell_type": "markdown",
   "metadata": {
    "slideshow": {
     "slide_type": "fragment"
    }
   },
   "source": [
    "- 数据探索：数据整理、清洗"
   ]
  },
  {
   "cell_type": "markdown",
   "metadata": {
    "slideshow": {
     "slide_type": "fragment"
    }
   },
   "source": [
    "- Pandas：Python的数据分析库"
   ]
  },
  {
   "cell_type": "markdown",
   "metadata": {
    "slideshow": {
     "slide_type": "fragment"
    }
   },
   "source": [
    "- Numpy: 数组运算，通常作为Pandas的分析输入基础"
   ]
  },
  {
   "cell_type": "markdown",
   "metadata": {
    "slideshow": {
     "slide_type": "fragment"
    }
   },
   "source": [
    "- 描述性统计与可视化"
   ]
  },
  {
   "cell_type": "markdown",
   "metadata": {
    "slideshow": {
     "slide_type": "fragment"
    }
   },
   "source": [
    "- Matplotlib：Python的二维绘图库"
   ]
  },
  {
   "cell_type": "markdown",
   "metadata": {
    "slideshow": {
     "slide_type": "subslide"
    }
   },
   "source": [
    "# 建模与算法"
   ]
  },
  {
   "cell_type": "markdown",
   "metadata": {
    "slideshow": {
     "slide_type": "fragment"
    }
   },
   "source": [
    "- 分类问题\n",
    "    + 决策树\n",
    "    + 神经网络"
   ]
  },
  {
   "cell_type": "markdown",
   "metadata": {
    "slideshow": {
     "slide_type": "fragment"
    }
   },
   "source": [
    "- 聚类问题\n",
    "    + k-means聚类\n",
    "    + 层次聚类"
   ]
  },
  {
   "cell_type": "markdown",
   "metadata": {
    "slideshow": {
     "slide_type": "fragment"
    }
   },
   "source": [
    "- 关联分析\n",
    "    + apriori算法"
   ]
  },
  {
   "cell_type": "markdown",
   "metadata": {
    "slideshow": {
     "slide_type": "fragment"
    }
   },
   "source": [
    "- Scikit-learn：数据挖掘和分析工具库"
   ]
  },
  {
   "cell_type": "markdown",
   "metadata": {
    "slideshow": {
     "slide_type": "slide"
    }
   },
   "source": [
    "# 豆瓣电影评分靠谱吗？"
   ]
  },
  {
   "cell_type": "markdown",
   "metadata": {
    "slideshow": {
     "slide_type": "subslide"
    }
   },
   "source": [
    "[豆瓣的电影评分靠谱吗？ —— 一点数据分析的视角/https://zhuanlan.zhihu.com/p/24815577](https://zhuanlan.zhihu.com/p/24815577)"
   ]
  },
  {
   "cell_type": "markdown",
   "metadata": {
    "slideshow": {
     "slide_type": "fragment"
    }
   },
   "source": [
    "## 动机"
   ]
  },
  {
   "cell_type": "markdown",
   "metadata": {
    "slideshow": {
     "slide_type": "fragment"
    }
   },
   "source": [
    "<center><img src=\"./img/introduction/secret_life.png\">"
   ]
  },
  {
   "cell_type": "markdown",
   "metadata": {
    "slideshow": {
     "slide_type": "fragment"
    }
   },
   "source": [
    "- 有的人觉得这是导演“令人满意的答卷”，有的却说这部电影\"令人失望（disappointing）"
   ]
  },
  {
   "cell_type": "markdown",
   "metadata": {
    "slideshow": {
     "slide_type": "fragment"
    }
   },
   "source": [
    "> 豆瓣电影的评分是否可靠？会不会存在一些国内外评价差异比较大的电影？"
   ]
  },
  {
   "cell_type": "markdown",
   "metadata": {
    "slideshow": {
     "slide_type": "subslide"
    }
   },
   "source": [
    "## 数据收集"
   ]
  },
  {
   "cell_type": "markdown",
   "metadata": {
    "slideshow": {
     "slide_type": "fragment"
    }
   },
   "source": [
    "- 针对Movieinsider 2008-2014国外上映的电影的榜单（北美为主）\n",
    "- 抓取豆瓣和IMDB的评分, 总共2000+部"
   ]
  },
  {
   "cell_type": "code",
   "execution_count": 34,
   "metadata": {
    "slideshow": {
     "slide_type": "fragment"
    }
   },
   "outputs": [
    {
     "data": {
      "text/html": [
       "<div>\n",
       "<style scoped>\n",
       "    .dataframe tbody tr th:only-of-type {\n",
       "        vertical-align: middle;\n",
       "    }\n",
       "\n",
       "    .dataframe tbody tr th {\n",
       "        vertical-align: top;\n",
       "    }\n",
       "\n",
       "    .dataframe thead th {\n",
       "        text-align: right;\n",
       "    }\n",
       "</style>\n",
       "<table border=\"1\" class=\"dataframe\">\n",
       "  <thead>\n",
       "    <tr style=\"text-align: right;\">\n",
       "      <th></th>\n",
       "      <th>detail_url</th>\n",
       "      <th>douban_info</th>\n",
       "      <th>movie_tt_id</th>\n",
       "      <th>name</th>\n",
       "      <th>omdb_info</th>\n",
       "    </tr>\n",
       "  </thead>\n",
       "  <tbody>\n",
       "    <tr>\n",
       "      <th>0</th>\n",
       "      <td>http://www.movieinsider.com/m2401/one-missed-c...</td>\n",
       "      <td>{'comments_count': 586, 'genres': ['恐怖', '悬疑',...</td>\n",
       "      <td>tt0479968</td>\n",
       "      <td>One Missed Call</td>\n",
       "      <td>{'Type': 'movie', 'Awards': '2 nominations.', ...</td>\n",
       "    </tr>\n",
       "    <tr>\n",
       "      <th>1</th>\n",
       "      <td>http://www.movieinsider.com/m3221/the-pirates-...</td>\n",
       "      <td>{'comments_count': 121, 'genres': ['动画', '冒险',...</td>\n",
       "      <td>tt0475998</td>\n",
       "      <td>The Pirates Who Don't Do Anything: A VeggieTal...</td>\n",
       "      <td>{'Type': 'movie', 'Awards': 'N/A', 'Poster': '...</td>\n",
       "    </tr>\n",
       "    <tr>\n",
       "      <th>2</th>\n",
       "      <td>http://www.movieinsider.com/m2828/in-the-name-...</td>\n",
       "      <td>{'comments_count': 664, 'genres': ['动作', '冒险',...</td>\n",
       "      <td>tt0460780</td>\n",
       "      <td>In the Name of the King: A Dungeon Siege Tale</td>\n",
       "      <td>{'Type': 'movie', 'Awards': '4 wins &amp; 5 nomina...</td>\n",
       "    </tr>\n",
       "    <tr>\n",
       "      <th>3</th>\n",
       "      <td>http://www.movieinsider.com/m3101/first-sunday/</td>\n",
       "      <td>{'comments_count': 88, 'genres': ['喜剧', '犯罪', ...</td>\n",
       "      <td>tt0486578</td>\n",
       "      <td>First Sunday</td>\n",
       "      <td>{'Type': 'movie', 'Awards': 'N/A', 'Poster': '...</td>\n",
       "    </tr>\n",
       "    <tr>\n",
       "      <th>4</th>\n",
       "      <td>http://www.movieinsider.com/m1023/teeth/</td>\n",
       "      <td>{'comments_count': 4772, 'genres': ['喜剧', '恐怖'...</td>\n",
       "      <td>tt0780622</td>\n",
       "      <td>Teeth</td>\n",
       "      <td>{'Type': 'movie', 'Awards': '3 wins &amp; 8 nomina...</td>\n",
       "    </tr>\n",
       "  </tbody>\n",
       "</table>\n",
       "</div>"
      ],
      "text/plain": [
       "                                          detail_url  \\\n",
       "0  http://www.movieinsider.com/m2401/one-missed-c...   \n",
       "1  http://www.movieinsider.com/m3221/the-pirates-...   \n",
       "2  http://www.movieinsider.com/m2828/in-the-name-...   \n",
       "3    http://www.movieinsider.com/m3101/first-sunday/   \n",
       "4           http://www.movieinsider.com/m1023/teeth/   \n",
       "\n",
       "                                         douban_info movie_tt_id  \\\n",
       "0  {'comments_count': 586, 'genres': ['恐怖', '悬疑',...   tt0479968   \n",
       "1  {'comments_count': 121, 'genres': ['动画', '冒险',...   tt0475998   \n",
       "2  {'comments_count': 664, 'genres': ['动作', '冒险',...   tt0460780   \n",
       "3  {'comments_count': 88, 'genres': ['喜剧', '犯罪', ...   tt0486578   \n",
       "4  {'comments_count': 4772, 'genres': ['喜剧', '恐怖'...   tt0780622   \n",
       "\n",
       "                                                name  \\\n",
       "0                                    One Missed Call   \n",
       "1  The Pirates Who Don't Do Anything: A VeggieTal...   \n",
       "2      In the Name of the King: A Dungeon Siege Tale   \n",
       "3                                       First Sunday   \n",
       "4                                              Teeth   \n",
       "\n",
       "                                           omdb_info  \n",
       "0  {'Type': 'movie', 'Awards': '2 nominations.', ...  \n",
       "1  {'Type': 'movie', 'Awards': 'N/A', 'Poster': '...  \n",
       "2  {'Type': 'movie', 'Awards': '4 wins & 5 nomina...  \n",
       "3  {'Type': 'movie', 'Awards': 'N/A', 'Poster': '...  \n",
       "4  {'Type': 'movie', 'Awards': '3 wins & 8 nomina...  "
      ]
     },
     "execution_count": 34,
     "metadata": {},
     "output_type": "execute_result"
    }
   ],
   "source": [
    "data = []\n",
    "for year in range(2008,2015):\n",
    "    file = \"./data/introduction/movie/movie_list_%s_v2.json\" % year\n",
    "    with open(file, encoding='utf-8' ) as data_file:    \n",
    "        data += json.load(data_file)   \n",
    "df = pd.DataFrame(data)\n",
    "df.head()"
   ]
  },
  {
   "cell_type": "code",
   "execution_count": 35,
   "metadata": {
    "slideshow": {
     "slide_type": "notes"
    }
   },
   "outputs": [],
   "source": [
    "# Problem, handling unicode json\n",
    "df.drop('detail_url', 1, inplace=True)\n",
    "df.drop_duplicates('movie_tt_id', inplace=True)\n",
    "df['temp_string'] = df['douban_info'].astype(str)\n",
    "df.drop_duplicates('temp_string', inplace=True)\n",
    "df['temp_string'] = df['omdb_info'].astype(str)\n",
    "df.drop_duplicates('temp_string', inplace=True)\n",
    "df = df.dropna()\n",
    "df.drop('temp_string', 1, inplace=True)"
   ]
  },
  {
   "cell_type": "code",
   "execution_count": 37,
   "metadata": {
    "slideshow": {
     "slide_type": "subslide"
    }
   },
   "outputs": [],
   "source": [
    "df['omdb_info'][0];"
   ]
  },
  {
   "cell_type": "code",
   "execution_count": 38,
   "metadata": {
    "slideshow": {
     "slide_type": "subslide"
    }
   },
   "outputs": [],
   "source": [
    "df['douban_info'][1];"
   ]
  },
  {
   "cell_type": "markdown",
   "metadata": {
    "slideshow": {
     "slide_type": "slide"
    }
   },
   "source": [
    "## 数据清理"
   ]
  },
  {
   "cell_type": "markdown",
   "metadata": {
    "slideshow": {
     "slide_type": "fragment"
    }
   },
   "source": [
    "- 数据存在的问题\n",
    "    + ['imdb_info']['imdbRating'] 可能不存在\n",
    "    + ['imdb_rating'] 有 'N/A'的情况\n",
    "    + 有的['imdb_rating']为类似'23,421', 需要去掉逗号"
   ]
  },
  {
   "cell_type": "code",
   "execution_count": 39,
   "metadata": {},
   "outputs": [],
   "source": [
    "df['imdb_rating'] = df['omdb_info'].apply(lambda x: x.get('imdbRating', np.nan))\n",
    "df['metascore'] = df['omdb_info'].apply(lambda x: x.get('Metascore', np.nan))\n",
    "df = df.dropna()\n",
    "df = df[(df.imdb_rating != 'N/A') &(df.metascore != 'N/A')]\n",
    "\n",
    "df['year']=df['omdb_info'].apply(lambda x: x.get('Year', np.nan))\n",
    "df['year'] = df['year'].astype(float)\n",
    "df['imdb_ratings_count'] = df['omdb_info'].apply(lambda x: int(x['imdbVotes'].replace(',', '')))\n",
    "df['imdb_rating'] = df['imdb_rating'].astype(float)\n",
    "df['imdb_ratings_count'] = df['imdb_ratings_count'].astype(int)\n",
    "# df['name'] = df['name'].apply(lambda x: x.encode('ascii','ignore'))\n",
    "df['metascore'] = df['metascore'].astype(float)\n",
    "df['metascore'] = df['metascore']/10\n",
    "df['genre']=df['omdb_info'].apply(lambda x: x.get('Genre', 'none'))\n",
    "df['country']=df['omdb_info'].apply(lambda x: x.get('Country', 'none'))\n",
    "# df['genre'] = df['genre_all'].apply(lambda x: x)\n",
    "# # df['country'] = df['country_all'].apply(lambda x: x.split(',')[0])\n",
    "# df['country'] = df['country_all'].apply(lambda x: x)\n",
    "\n",
    "df['name'] = df['douban_info'].apply(lambda x: x['title'])\n",
    "df['db_rating'] = df['douban_info'].apply(lambda x: x['rating']['average'])\n",
    "df['db_ratings_count'] = df['douban_info'].apply(lambda x: x['ratings_count'])\n",
    "df['image_url']=df['douban_info'].apply(lambda x: x['images']['large'])\n",
    "df['douban_url']=df['douban_info'].apply(lambda x: x['alt'])\n",
    "df['douban_year']=df['douban_info'].apply(lambda x: x['year'])\n",
    "df['genre_douban']=df['douban_info'].apply(lambda x: x['genres'])\n",
    "df['country_douban']=df['douban_info'].apply(lambda x: x['countries'])\n",
    "\n",
    "df.drop('douban_info', 1, inplace=True)\n",
    "df.drop('omdb_info', 1, inplace=True)"
   ]
  },
  {
   "cell_type": "markdown",
   "metadata": {
    "slideshow": {
     "slide_type": "subslide"
    }
   },
   "source": [
    "## 数据探索分析"
   ]
  },
  {
   "cell_type": "code",
   "execution_count": 40,
   "metadata": {
    "scrolled": true,
    "slideshow": {
     "slide_type": "fragment"
    }
   },
   "outputs": [
    {
     "data": {
      "text/html": [
       "<div>\n",
       "<style scoped>\n",
       "    .dataframe tbody tr th:only-of-type {\n",
       "        vertical-align: middle;\n",
       "    }\n",
       "\n",
       "    .dataframe tbody tr th {\n",
       "        vertical-align: top;\n",
       "    }\n",
       "\n",
       "    .dataframe thead th {\n",
       "        text-align: right;\n",
       "    }\n",
       "</style>\n",
       "<table border=\"1\" class=\"dataframe\">\n",
       "  <thead>\n",
       "    <tr style=\"text-align: right;\">\n",
       "      <th></th>\n",
       "      <th>imdb_rating</th>\n",
       "      <th>metascore</th>\n",
       "      <th>year</th>\n",
       "      <th>imdb_ratings_count</th>\n",
       "      <th>db_rating</th>\n",
       "      <th>db_ratings_count</th>\n",
       "    </tr>\n",
       "  </thead>\n",
       "  <tbody>\n",
       "    <tr>\n",
       "      <th>count</th>\n",
       "      <td>2502.000000</td>\n",
       "      <td>2502.000000</td>\n",
       "      <td>2502.000000</td>\n",
       "      <td>2.502000e+03</td>\n",
       "      <td>2502.000000</td>\n",
       "      <td>2502.000000</td>\n",
       "    </tr>\n",
       "    <tr>\n",
       "      <th>mean</th>\n",
       "      <td>6.374221</td>\n",
       "      <td>5.441647</td>\n",
       "      <td>2010.620703</td>\n",
       "      <td>5.662486e+04</td>\n",
       "      <td>6.085651</td>\n",
       "      <td>20699.289768</td>\n",
       "    </tr>\n",
       "    <tr>\n",
       "      <th>std</th>\n",
       "      <td>0.993491</td>\n",
       "      <td>1.721034</td>\n",
       "      <td>3.179870</td>\n",
       "      <td>1.093372e+05</td>\n",
       "      <td>2.324885</td>\n",
       "      <td>50322.771295</td>\n",
       "    </tr>\n",
       "    <tr>\n",
       "      <th>min</th>\n",
       "      <td>1.600000</td>\n",
       "      <td>0.100000</td>\n",
       "      <td>1939.000000</td>\n",
       "      <td>1.200000e+01</td>\n",
       "      <td>0.000000</td>\n",
       "      <td>0.000000</td>\n",
       "    </tr>\n",
       "    <tr>\n",
       "      <th>25%</th>\n",
       "      <td>5.800000</td>\n",
       "      <td>4.200000</td>\n",
       "      <td>2009.000000</td>\n",
       "      <td>2.821000e+03</td>\n",
       "      <td>5.900000</td>\n",
       "      <td>235.000000</td>\n",
       "    </tr>\n",
       "    <tr>\n",
       "      <th>50%</th>\n",
       "      <td>6.450000</td>\n",
       "      <td>5.500000</td>\n",
       "      <td>2011.000000</td>\n",
       "      <td>1.350950e+04</td>\n",
       "      <td>6.700000</td>\n",
       "      <td>2592.500000</td>\n",
       "    </tr>\n",
       "    <tr>\n",
       "      <th>75%</th>\n",
       "      <td>7.100000</td>\n",
       "      <td>6.700000</td>\n",
       "      <td>2012.000000</td>\n",
       "      <td>6.073825e+04</td>\n",
       "      <td>7.500000</td>\n",
       "      <td>14463.750000</td>\n",
       "    </tr>\n",
       "    <tr>\n",
       "      <th>max</th>\n",
       "      <td>9.000000</td>\n",
       "      <td>10.000000</td>\n",
       "      <td>2014.000000</td>\n",
       "      <td>1.451699e+06</td>\n",
       "      <td>9.500000</td>\n",
       "      <td>586362.000000</td>\n",
       "    </tr>\n",
       "  </tbody>\n",
       "</table>\n",
       "</div>"
      ],
      "text/plain": [
       "       imdb_rating    metascore         year  imdb_ratings_count    db_rating  \\\n",
       "count  2502.000000  2502.000000  2502.000000        2.502000e+03  2502.000000   \n",
       "mean      6.374221     5.441647  2010.620703        5.662486e+04     6.085651   \n",
       "std       0.993491     1.721034     3.179870        1.093372e+05     2.324885   \n",
       "min       1.600000     0.100000  1939.000000        1.200000e+01     0.000000   \n",
       "25%       5.800000     4.200000  2009.000000        2.821000e+03     5.900000   \n",
       "50%       6.450000     5.500000  2011.000000        1.350950e+04     6.700000   \n",
       "75%       7.100000     6.700000  2012.000000        6.073825e+04     7.500000   \n",
       "max       9.000000    10.000000  2014.000000        1.451699e+06     9.500000   \n",
       "\n",
       "       db_ratings_count  \n",
       "count       2502.000000  \n",
       "mean       20699.289768  \n",
       "std        50322.771295  \n",
       "min            0.000000  \n",
       "25%          235.000000  \n",
       "50%         2592.500000  \n",
       "75%        14463.750000  \n",
       "max       586362.000000  "
      ]
     },
     "execution_count": 40,
     "metadata": {},
     "output_type": "execute_result"
    }
   ],
   "source": [
    "df.describe()"
   ]
  },
  {
   "cell_type": "code",
   "execution_count": 53,
   "metadata": {
    "slideshow": {
     "slide_type": "subslide"
    }
   },
   "outputs": [
    {
     "data": {
      "image/png": "[encoded data removed]",
      "text/plain": [
       "<Figure size 864x432 with 1 Axes>"
      ]
     },
     "metadata": {
      "needs_background": "light"
     },
     "output_type": "display_data"
    }
   ],
   "source": [
    "bins=np.linspace(0,10)\n",
    "df['imdb_rating'].hist(bins=bins, alpha=0.5, density=True, label = 'IMDB', figsize=(12,6))\n",
    "df['db_rating'].hist(bins=bins, alpha=0.5, density=True,label = 'douban', figsize=(12,6))\n",
    "plt.legend()\n",
    "plt.show()"
   ]
  },
  {
   "cell_type": "markdown",
   "metadata": {
    "slideshow": {
     "slide_type": "fragment"
    }
   },
   "source": [
    "- 可见，豆瓣有些电影没有评分"
   ]
  },
  {
   "cell_type": "markdown",
   "metadata": {
    "slideshow": {
     "slide_type": "subslide"
    }
   },
   "source": [
    "## 重新数据清理"
   ]
  },
  {
   "cell_type": "markdown",
   "metadata": {
    "slideshow": {
     "slide_type": "fragment"
    }
   },
   "source": [
    "- 筛选出Imdb和豆瓣都有评分的电影"
   ]
  },
  {
   "cell_type": "code",
   "execution_count": 45,
   "metadata": {
    "slideshow": {
     "slide_type": "fragment"
    }
   },
   "outputs": [],
   "source": [
    "dfFilter = df.query('db_rating > 0')"
   ]
  },
  {
   "cell_type": "markdown",
   "metadata": {
    "slideshow": {
     "slide_type": "subslide"
    }
   },
   "source": [
    "## 重新数据探索"
   ]
  },
  {
   "cell_type": "code",
   "execution_count": 46,
   "metadata": {
    "slideshow": {
     "slide_type": "fragment"
    }
   },
   "outputs": [
    {
     "data": {
      "text/html": [
       "<div>\n",
       "<style scoped>\n",
       "    .dataframe tbody tr th:only-of-type {\n",
       "        vertical-align: middle;\n",
       "    }\n",
       "\n",
       "    .dataframe tbody tr th {\n",
       "        vertical-align: top;\n",
       "    }\n",
       "\n",
       "    .dataframe thead th {\n",
       "        text-align: right;\n",
       "    }\n",
       "</style>\n",
       "<table border=\"1\" class=\"dataframe\">\n",
       "  <thead>\n",
       "    <tr style=\"text-align: right;\">\n",
       "      <th></th>\n",
       "      <th>imdb_rating</th>\n",
       "      <th>metascore</th>\n",
       "      <th>year</th>\n",
       "      <th>imdb_ratings_count</th>\n",
       "      <th>db_rating</th>\n",
       "      <th>db_ratings_count</th>\n",
       "    </tr>\n",
       "  </thead>\n",
       "  <tbody>\n",
       "    <tr>\n",
       "      <th>count</th>\n",
       "      <td>2231.000000</td>\n",
       "      <td>2231.000000</td>\n",
       "      <td>2231.000000</td>\n",
       "      <td>2.231000e+03</td>\n",
       "      <td>2231.000000</td>\n",
       "      <td>2231.000000</td>\n",
       "    </tr>\n",
       "    <tr>\n",
       "      <th>mean</th>\n",
       "      <td>6.413043</td>\n",
       "      <td>5.473151</td>\n",
       "      <td>2010.589870</td>\n",
       "      <td>6.341743e+04</td>\n",
       "      <td>6.824877</td>\n",
       "      <td>23212.752577</td>\n",
       "    </tr>\n",
       "    <tr>\n",
       "      <th>std</th>\n",
       "      <td>0.969127</td>\n",
       "      <td>1.728433</td>\n",
       "      <td>3.272232</td>\n",
       "      <td>1.139344e+05</td>\n",
       "      <td>1.007254</td>\n",
       "      <td>52742.542957</td>\n",
       "    </tr>\n",
       "    <tr>\n",
       "      <th>min</th>\n",
       "      <td>1.600000</td>\n",
       "      <td>0.100000</td>\n",
       "      <td>1939.000000</td>\n",
       "      <td>1.580000e+02</td>\n",
       "      <td>2.600000</td>\n",
       "      <td>20.000000</td>\n",
       "    </tr>\n",
       "    <tr>\n",
       "      <th>25%</th>\n",
       "      <td>5.800000</td>\n",
       "      <td>4.200000</td>\n",
       "      <td>2009.000000</td>\n",
       "      <td>4.834000e+03</td>\n",
       "      <td>6.200000</td>\n",
       "      <td>622.000000</td>\n",
       "    </tr>\n",
       "    <tr>\n",
       "      <th>50%</th>\n",
       "      <td>6.500000</td>\n",
       "      <td>5.500000</td>\n",
       "      <td>2011.000000</td>\n",
       "      <td>1.882100e+04</td>\n",
       "      <td>6.800000</td>\n",
       "      <td>3735.000000</td>\n",
       "    </tr>\n",
       "    <tr>\n",
       "      <th>75%</th>\n",
       "      <td>7.100000</td>\n",
       "      <td>6.700000</td>\n",
       "      <td>2012.000000</td>\n",
       "      <td>7.037450e+04</td>\n",
       "      <td>7.550000</td>\n",
       "      <td>18163.500000</td>\n",
       "    </tr>\n",
       "    <tr>\n",
       "      <th>max</th>\n",
       "      <td>9.000000</td>\n",
       "      <td>10.000000</td>\n",
       "      <td>2014.000000</td>\n",
       "      <td>1.451699e+06</td>\n",
       "      <td>9.500000</td>\n",
       "      <td>586362.000000</td>\n",
       "    </tr>\n",
       "  </tbody>\n",
       "</table>\n",
       "</div>"
      ],
      "text/plain": [
       "       imdb_rating    metascore         year  imdb_ratings_count    db_rating  \\\n",
       "count  2231.000000  2231.000000  2231.000000        2.231000e+03  2231.000000   \n",
       "mean      6.413043     5.473151  2010.589870        6.341743e+04     6.824877   \n",
       "std       0.969127     1.728433     3.272232        1.139344e+05     1.007254   \n",
       "min       1.600000     0.100000  1939.000000        1.580000e+02     2.600000   \n",
       "25%       5.800000     4.200000  2009.000000        4.834000e+03     6.200000   \n",
       "50%       6.500000     5.500000  2011.000000        1.882100e+04     6.800000   \n",
       "75%       7.100000     6.700000  2012.000000        7.037450e+04     7.550000   \n",
       "max       9.000000    10.000000  2014.000000        1.451699e+06     9.500000   \n",
       "\n",
       "       db_ratings_count  \n",
       "count       2231.000000  \n",
       "mean       23212.752577  \n",
       "std        52742.542957  \n",
       "min           20.000000  \n",
       "25%          622.000000  \n",
       "50%         3735.000000  \n",
       "75%        18163.500000  \n",
       "max       586362.000000  "
      ]
     },
     "execution_count": 46,
     "metadata": {},
     "output_type": "execute_result"
    }
   ],
   "source": [
    "dfFilter.describe()"
   ]
  },
  {
   "cell_type": "code",
   "execution_count": 54,
   "metadata": {
    "scrolled": false,
    "slideshow": {
     "slide_type": "subslide"
    }
   },
   "outputs": [
    {
     "data": {
      "image/png": "[encoded data removed]",
      "text/plain": [
       "<Figure size 864x432 with 1 Axes>"
      ]
     },
     "metadata": {
      "needs_background": "light"
     },
     "output_type": "display_data"
    }
   ],
   "source": [
    "dfFilter['imdb_rating'].hist(bins=bins, alpha=0.5, density=True, label = 'IMDB', figsize=(12,6))\n",
    "dfFilter['db_rating'].hist(bins=bins,alpha=0.5,  density=True, label = 'douban', figsize=(12,6))\n",
    "plt.legend()\n",
    "plt.show()"
   ]
  },
  {
   "cell_type": "code",
   "execution_count": 59,
   "metadata": {
    "slideshow": {
     "slide_type": "notes"
    }
   },
   "outputs": [],
   "source": [
    "def plt_configure(ax=None, xlabel=None, ylabel=None, title='', legend=False, tight=False, figsize=False, no_axis=False):\n",
    "    if ax == None :\n",
    "        ax=plt.gca()\n",
    "        plt.suptitle(title)\n",
    "    else:\n",
    "        ax.set_title(title)\n",
    "    if xlabel:\n",
    "        ax.set_xlabel(xlabel)\n",
    "    if ylabel:\n",
    "        ax.set_ylabel(ylabel)\n",
    "    if legend:\n",
    "        if isinstance(legend, dict):\n",
    "            ax.legend(**legend)\n",
    "        else:\n",
    "            ax.legend()\n",
    "    if tight:\n",
    "        if tight == 'xtight' or tight == 'x':\n",
    "            ax.autoscale(enable=True, axis='x', tight=True)\n",
    "        elif tight == 'ytight':\n",
    "            ax.autoscale(enable=True, axis='y', tight=True)\n",
    "        else:\n",
    "            ax.axis('tight')\n",
    "    if figsize:\n",
    "        plt.gcf().set_size_inches(figsize)\n",
    "    if no_axis:\n",
    "        plt.gca().axis('off')\n",
    "        legend = ax.legend()\n",
    "        if legend:\n",
    "            legend.remove()"
   ]
  },
  {
   "cell_type": "code",
   "execution_count": 62,
   "metadata": {
    "slideshow": {
     "slide_type": "notes"
    }
   },
   "outputs": [],
   "source": [
    "def plot_movie_scatter_comparison(df, title='', type='rank', legend=True, regression=True):\n",
    "    fig, ax = plt.subplots(figsize=(12,6))\n",
    "    # 1. plot scatter\n",
    "    if type == 'rating':\n",
    "        douban, imdb = df.db_rating, df.imdb_rating\n",
    "        start, scale = 0, 10\n",
    "    elif type =='rank_norm':\n",
    "        douban, imdb = df.db_rank_norm, df.imdb_rank_norm\n",
    "        start, scale = -4, 4\n",
    "        deviation_range = 1.28\n",
    "    else:\n",
    "        douban, imdb = df.db_rank, df.imdb_rank\n",
    "        start, scale = 0, 100\n",
    "        deviation_range = 20\n",
    "    x = [start, scale]\n",
    "    plt.plot(x, x, '--', color='black', label='1:1')\n",
    "\n",
    "    # 2. regression\n",
    "    x = np.linspace(start, scale)\n",
    "    if type != 'rating':\n",
    "        plt.fill_between(x, x - deviation_range, x + deviation_range, alpha=0.15)\n",
    "    if regression and len(df) >=20:\n",
    "        fit = np.polyfit(douban, imdb, 1)\n",
    "        fit_fn = np.poly1d(fit)\n",
    "        plt.plot(x, fit_fn(x), '-', label='Regression')\n",
    "    else:\n",
    "        fit_fn = 'Not available'\n",
    "\n",
    "    # 3. Plot scatter\n",
    "    scatter_plot = ax.scatter(douban, imdb, alpha=0.3)\n",
    "\n",
    "    plt.axis([start, scale, start, scale])\n",
    "    if type == 'rating':\n",
    "        plt_configure(xlabel='Douban Rating', ylabel='IMDB Rating', title=title)\n",
    "    elif type == 'rank_norm':\n",
    "        plt_configure(xlabel='Douban Rank (Normed)', ylabel='IMDB Rank (Normed)', title=title)\n",
    "    else:\n",
    "        plt_configure(xlabel='Douban Rank', ylabel='IMDB Rank', title=title)\n",
    "    if legend == True:\n",
    "        plt.gca().legend(loc='best')\n",
    "    plt.gca().set_aspect('equal')\n",
    "    return fig, fit_fn, scatter_plot"
   ]
  },
  {
   "cell_type": "markdown",
   "metadata": {
    "slideshow": {
     "slide_type": "subslide"
    }
   },
   "source": [
    "### 散点图可以非常直观的比较两者的差别"
   ]
  },
  {
   "cell_type": "code",
   "execution_count": 90,
   "metadata": {
    "scrolled": true,
    "slideshow": {
     "slide_type": "fragment"
    }
   },
   "outputs": [
    {
     "name": "stdout",
     "output_type": "stream",
     "text": [
      "回归线： \n",
      "0.7563 x + 1.251\n"
     ]
    },
    {
     "data": {
      "image/png": "[encoded data removed]",
      "text/plain": [
       "<Figure size 864x432 with 1 Axes>"
      ]
     },
     "metadata": {
      "needs_background": "light"
     },
     "output_type": "display_data"
    }
   ],
   "source": [
    "fig, fit_fn , scatter_plot = plot_movie_scatter_comparison(dfFilter, title='', type='rating')\n",
    "print('回归线：{}'.format(fit_fn))\n",
    "# plt.show()"
   ]
  },
  {
   "cell_type": "code",
   "execution_count": 70,
   "metadata": {
    "scrolled": true,
    "slideshow": {
     "slide_type": "notes"
    }
   },
   "outputs": [
    {
     "name": "stderr",
     "output_type": "stream",
     "text": [
      "/home/VENV/lib/python3.5/site-packages/pandas/core/indexing.py:543: SettingWithCopyWarning: \n",
      "A value is trying to be set on a copy of a slice from a DataFrame.\n",
      "Try using .loc[row_indexer,col_indexer] = value instead\n",
      "\n",
      "See the caveats in the documentation: http://pandas.pydata.org/pandas-docs/stable/indexing.html#indexing-view-versus-copy\n",
      "  self.obj[item] = s\n"
     ]
    }
   ],
   "source": [
    "dfFilter.loc[:,'diff']=dfFilter['db_rating']-dfFilter['imdb_rating']\n",
    "dfFilter.loc[:,'diff_abs']=dfFilter['diff'].abs()\n",
    "dfFilter.loc[:,'imdb_rank'] = dfFilter['imdb_rating'].rank()/len(dfFilter)*100\n",
    "dfFilter.loc[:,'db_rank'] = dfFilter['db_rating'].rank()/len(dfFilter)*100\n",
    "dfFilter.loc[:,'rank_diff']=dfFilter['db_rank']-dfFilter['imdb_rank']\n",
    "dfFilter.loc[:,'rank_diff_abs']=dfFilter['rank_diff'].abs()"
   ]
  },
  {
   "cell_type": "markdown",
   "metadata": {
    "slideshow": {
     "slide_type": "subslide"
    }
   },
   "source": [
    "### 分剧情比较"
   ]
  },
  {
   "cell_type": "code",
   "execution_count": 87,
   "metadata": {
    "slideshow": {
     "slide_type": "notes"
    }
   },
   "outputs": [],
   "source": [
    "def category_overview2(df, category_name, category, main=False):\n",
    "    if main:\n",
    "        mask = df[category_name].apply(lambda x: category in x[0:1])\n",
    "    else:\n",
    "        mask = df[category_name].apply(lambda x: category in x[0:2])\n",
    "    sub_df = df[mask]\n",
    "    fig, fit_fn , scatter_plot = plot_movie_scatter_comparison(sub_df, legend=False)\n",
    "    slope = fit_fn[1]\n",
    "    mean_rank_diff = sub_df['rank_diff'].mean()\n",
    "#     print(category, len(sub_df), fit_fn, mean_rank_diff)\n",
    "    return len(sub_df), slope, mean_rank_diff"
   ]
  },
  {
   "cell_type": "code",
   "execution_count": 89,
   "metadata": {
    "scrolled": false,
    "slideshow": {
     "slide_type": "fragment"
    }
   },
   "outputs": [
    {
     "data": {
      "image/png": "[encoded data removed]",
      "text/plain": [
       "<Figure size 864x432 with 1 Axes>"
      ]
     },
     "metadata": {
      "needs_background": "light"
     },
     "output_type": "display_data"
    },
    {
     "data": {
      "image/png": "[encoded data removed]",
      "text/plain": [
       "<Figure size 864x432 with 1 Axes>"
      ]
     },
     "metadata": {
      "needs_background": "light"
     },
     "output_type": "display_data"
    },
    {
     "data": {
      "image/png": "[encoded data removed]",
      "text/plain": [
       "<Figure size 864x432 with 1 Axes>"
      ]
     },
     "metadata": {
      "needs_background": "light"
     },
     "output_type": "display_data"
    },
    {
     "data": {
      "image/png": "[encoded data removed]",
      "text/plain": [
       "<Figure size 864x432 with 1 Axes>"
      ]
     },
     "metadata": {
      "needs_background": "light"
     },
     "output_type": "display_data"
    },
    {
     "data": {
      "image/png": "[encoded data removed]",
      "text/plain": [
       "<Figure size 864x432 with 1 Axes>"
      ]
     },
     "metadata": {
      "needs_background": "light"
     },
     "output_type": "display_data"
    },
    {
     "data": {
      "image/png": "[encoded data removed]",
      "text/plain": [
       "<Figure size 864x432 with 1 Axes>"
      ]
     },
     "metadata": {
      "needs_background": "light"
     },
     "output_type": "display_data"
    },
    {
     "data": {
      "image/png": "[encoded data removed]",
      "text/plain": [
       "<Figure size 864x432 with 1 Axes>"
      ]
     },
     "metadata": {
      "needs_background": "light"
     },
     "output_type": "display_data"
    },
    {
     "data": {
      "image/png": "[encoded data removed]",
      "text/plain": [
       "<Figure size 864x432 with 1 Axes>"
      ]
     },
     "metadata": {
      "needs_background": "light"
     },
     "output_type": "display_data"
    },
    {
     "data": {
      "image/png": "[encoded data removed]",
      "text/plain": [
       "<Figure size 864x432 with 1 Axes>"
      ]
     },
     "metadata": {
      "needs_background": "light"
     },
     "output_type": "display_data"
    }
   ],
   "source": [
    "categories = ['剧情','喜剧',  '动作', '爱情','犯罪', '动画', '科幻', '冒险','悬疑']\n",
    "slopes = []\n",
    "mean_deviations = []\n",
    "for category in categories:\n",
    "    movie_number, slope, mean_rank_diff = category_overview2(dfFilter, 'genre_douban',category)\n",
    "    slopes.append(slope)\n",
    "    mean_deviations.append(mean_rank_diff)\n",
    "    plt_configure(title=category + ' (N: '+str(movie_number) +')')\n",
    "    plt.gcf().set_size_inches(12,6)\n",
    "# align_figures()"
   ]
  }
 ],
 "metadata": {
  "celltoolbar": "幻灯片",
  "kernelspec": {
   "display_name": "Python 3",
   "language": "python",
   "name": "python3"
  },
  "language_info": {
   "codemirror_mode": {
    "name": "ipython",
    "version": 3
   },
   "file_extension": ".py",
   "mimetype": "text/x-python",
   "name": "python",
   "nbconvert_exporter": "python",
   "pygments_lexer": "ipython3",
   "version": "3.5.2"
  },
  "toc": {
   "base_numbering": 1,
   "nav_menu": {},
   "number_sections": false,
   "sideBar": true,
   "skip_h1_title": false,
   "title_cell": "Table of Contents",
   "title_sidebar": "Contents",
   "toc_cell": false,
   "toc_position": {
    "height": "calc(100% - 180px)",
    "left": "10px",
    "top": "150px",
    "width": "249.159px"
   },
   "toc_section_display": true,
   "toc_window_display": false
  },
  "varInspector": {
   "cols": {
    "lenName": 16,
    "lenType": 16,
    "lenVar": 40
   },
   "kernels_config": {
    "python": {
     "delete_cmd_postfix": "",
     "delete_cmd_prefix": "del ",
     "library": "var_list.py",
     "varRefreshCmd": "print(var_dic_list())"
    },
    "r": {
     "delete_cmd_postfix": ") ",
     "delete_cmd_prefix": "rm(",
     "library": "var_list.r",
     "varRefreshCmd": "cat(var_dic_list()) "
    }
   },
   "types_to_exclude": [
    "module",
    "function",
    "builtin_function_or_method",
    "instance",
    "_Feature"
   ],
   "window_display": false
  }
 },
 "nbformat": 4,
 "nbformat_minor": 2
}
