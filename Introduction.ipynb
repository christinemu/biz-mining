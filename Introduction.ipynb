{
 "cells": [
  {
   "cell_type": "code",
   "execution_count": 13,
   "metadata": {
    "init_cell": true,
    "slideshow": {
     "slide_type": "notes"
    }
   },
   "outputs": [],
   "source": [
    "import json\n",
    "import pandas as pd\n",
    "import numpy as np\n",
    "import matplotlib as mpl\n",
    "import matplotlib.pyplot as plt"
   ]
  },
  {
   "cell_type": "code",
   "execution_count": 14,
   "metadata": {
    "hide_input": false,
    "init_cell": true,
    "slideshow": {
     "slide_type": "notes"
    }
   },
   "outputs": [],
   "source": [
    "def set_chinese_font():\n",
    "    mpl.rcParams['font.sans-serif'] = ['Microsoft Yahei']\n",
    "    mpl.rcParams['font.serif'] = ['Microsoft Yahei']\n",
    "    mpl.rcParams['axes.unicode_minus'] = False"
   ]
  },
  {
   "cell_type": "code",
   "execution_count": 15,
   "metadata": {
    "init_cell": true,
    "slideshow": {
     "slide_type": "notes"
    }
   },
   "outputs": [],
   "source": [
    "%matplotlib inline\n",
    "set_chinese_font()"
   ]
  },
  {
   "cell_type": "markdown",
   "metadata": {
    "slideshow": {
     "slide_type": "slide"
    }
   },
   "source": [
    "<div class=\"jumbotron\">\n",
    "    <h1 class=\"display-1\">商业数据分析与挖掘</h1>\n",
    "    <hr class=\"my-4\">\n",
    "    <p>主讲：李岩</p>\n",
    "    <p>管理学院</p>\n",
    "    <p>liyan@cumtb.edu.cn</p>\n",
    "</div>"
   ]
  },
  {
   "cell_type": "markdown",
   "metadata": {
    "slideshow": {
     "slide_type": "slide"
    }
   },
   "source": [
    "## 为什么要学习数据分析与挖掘？"
   ]
  },
  {
   "cell_type": "markdown",
   "metadata": {
    "slideshow": {
     "slide_type": "fragment"
    }
   },
   "source": [
    "> <span class=\"girk\">有竞争力的现代人</span>"
   ]
  },
  {
   "cell_type": "markdown",
   "metadata": {
    "slideshow": {
     "slide_type": "fragment"
    }
   },
   "source": [
    "- 全局观\n",
    "- 专业性\n",
    "- 有自己的观点"
   ]
  },
  {
   "cell_type": "markdown",
   "metadata": {
    "slideshow": {
     "slide_type": "slide"
    }
   },
   "source": [
    "### 全局观"
   ]
  },
  {
   "cell_type": "markdown",
   "metadata": {
    "slideshow": {
     "slide_type": "fragment"
    }
   },
   "source": [
    "- 如何获得全局观？"
   ]
  },
  {
   "cell_type": "markdown",
   "metadata": {
    "slideshow": {
     "slide_type": "fragment"
    }
   },
   "source": [
    "<span class=\"mark\">大数据的特点（5V）</span>"
   ]
  },
  {
   "cell_type": "markdown",
   "metadata": {
    "slideshow": {
     "slide_type": "fragment"
    }
   },
   "source": [
    "- 规模（Volume）\n",
    "- 速度（Velocity）\n",
    "- 多样性（Varity）\n",
    "- 真实性（Veracity）\n",
    "- 价值（Value）"
   ]
  },
  {
   "cell_type": "markdown",
   "metadata": {
    "slideshow": {
     "slide_type": "slide"
    }
   },
   "source": [
    "#### 规模（Volume）"
   ]
  },
  {
   "cell_type": "markdown",
   "metadata": {
    "cell_style": "split",
    "slideshow": {
     "slide_type": "subslide"
    }
   },
   "source": [
    "<center>\n",
    "<img src=\"./img/introduction/LIBRARY-OF-ALEXANDRIA.jpg\" width=\"40%\">\n",
    "</center>"
   ]
  },
  {
   "cell_type": "markdown",
   "metadata": {
    "cell_style": "split",
    "slideshow": {
     "slide_type": "fragment"
    }
   },
   "source": [
    "- 古埃及的亚历山大图书馆（the Library of Alexandria）在公元3世纪被认为存储了当时人类所有的知识"
   ]
  },
  {
   "cell_type": "markdown",
   "metadata": {
    "cell_style": "split",
    "slideshow": {
     "slide_type": "fragment"
    }
   },
   "source": [
    "- 当今全球每个人能够获得的数据是古亚历山大图书馆收藏量的320倍，达到1200 exabytes"
   ]
  },
  {
   "cell_type": "markdown",
   "metadata": {
    "cell_style": "split",
    "slideshow": {
     "slide_type": "subslide"
    }
   },
   "source": [
    "<center>\n",
    "<img src=\"./img/introduction/bytes.jpg\" width=\"80%\">\n",
    "</center>"
   ]
  },
  {
   "cell_type": "markdown",
   "metadata": {
    "slideshow": {
     "slide_type": "slide"
    }
   },
   "source": [
    "#### 速度（Velocity）"
   ]
  },
  {
   "cell_type": "markdown",
   "metadata": {
    "slideshow": {
     "slide_type": "fragment"
    }
   },
   "source": [
    "<center>\n",
    "<img src=\"./img/introduction/DataNeverSleeps2.jpg\">\n",
    "</center>"
   ]
  },
  {
   "cell_type": "markdown",
   "metadata": {
    "slideshow": {
     "slide_type": "slide"
    }
   },
   "source": [
    "#### 多样（Variety）"
   ]
  },
  {
   "cell_type": "markdown",
   "metadata": {
    "slideshow": {
     "slide_type": "fragment"
    }
   },
   "source": [
    "<center>\n",
    "<img src=\"./img/introduction/forms-of-big-data-variety.png\">\n",
    "</center>"
   ]
  },
  {
   "cell_type": "markdown",
   "metadata": {
    "slideshow": {
     "slide_type": "fragment"
    }
   },
   "source": [
    "- 数据形态多样"
   ]
  },
  {
   "cell_type": "markdown",
   "metadata": {
    "slideshow": {
     "slide_type": "fragment"
    }
   },
   "source": [
    "- 非结构化（unstructured）数据大量涌现"
   ]
  },
  {
   "cell_type": "markdown",
   "metadata": {
    "slideshow": {
     "slide_type": "slide"
    }
   },
   "source": [
    "#### 真实性（Veracity）"
   ]
  },
  {
   "cell_type": "markdown",
   "metadata": {
    "slideshow": {
     "slide_type": "fragment"
    }
   },
   "source": [
    "<center>\n",
    "<img src=\"./img/introduction/veracitycn.png\" width=\"60%\">\n",
    "</center>"
   ]
  },
  {
   "cell_type": "markdown",
   "metadata": {
    "slideshow": {
     "slide_type": "slide"
    }
   },
   "source": [
    "#### 价值（Value）"
   ]
  },
  {
   "cell_type": "markdown",
   "metadata": {
    "slideshow": {
     "slide_type": "fragment"
    }
   },
   "source": [
    "<center>\n",
    "<img src=\"./img/introduction/data-value.jpg\">\n",
    "</center>"
   ]
  },
  {
   "cell_type": "markdown",
   "metadata": {
    "slideshow": {
     "slide_type": "slide"
    }
   },
   "source": [
    "### 专业性"
   ]
  },
  {
   "cell_type": "markdown",
   "metadata": {
    "slideshow": {
     "slide_type": "fragment"
    }
   },
   "source": [
    "#### 如何体现出专业性？"
   ]
  },
  {
   "cell_type": "markdown",
   "metadata": {
    "slideshow": {
     "slide_type": "subslide"
    }
   },
   "source": [
    "- 着装？"
   ]
  },
  {
   "cell_type": "markdown",
   "metadata": {
    "slideshow": {
     "slide_type": "fragment"
    }
   },
   "source": [
    "<center>\n",
    "<img src=\"./img/introduction/Professional-dress.jpg\" width=\"40%\">\n",
    "</center>"
   ]
  },
  {
   "cell_type": "markdown",
   "metadata": {
    "slideshow": {
     "slide_type": "subslide"
    }
   },
   "source": [
    "- 工具？"
   ]
  },
  {
   "cell_type": "markdown",
   "metadata": {
    "slideshow": {
     "slide_type": "fragment"
    }
   },
   "source": [
    "<center>\n",
    "<img src=\"./img/introduction/macbookair.jpg\" width=\"60%\">\n",
    "</center>"
   ]
  },
  {
   "cell_type": "markdown",
   "metadata": {
    "slideshow": {
     "slide_type": "subslide"
    }
   },
   "source": [
    "- 语言？"
   ]
  },
  {
   "cell_type": "markdown",
   "metadata": {
    "slideshow": {
     "slide_type": "fragment"
    }
   },
   "source": [
    "<center>\n",
    "    <img src=\"./img/introduction/thanks.jpg\" width=\"50%\">\n",
    "</center>"
   ]
  },
  {
   "cell_type": "markdown",
   "metadata": {
    "slideshow": {
     "slide_type": "slide"
    }
   },
   "source": [
    "#### 用数据分析解决问题的能力"
   ]
  },
  {
   "cell_type": "markdown",
   "metadata": {
    "slideshow": {
     "slide_type": "fragment"
    }
   },
   "source": [
    "<center>\n",
    "<img src=\"./img/introduction/dataAnalystsAbility.jpg\" width=\"40%\">\n",
    "</center>"
   ]
  },
  {
   "cell_type": "markdown",
   "metadata": {
    "slideshow": {
     "slide_type": "subslide"
    }
   },
   "source": [
    "##### 数学知识"
   ]
  },
  {
   "cell_type": "markdown",
   "metadata": {
    "slideshow": {
     "slide_type": "fragment"
    }
   },
   "source": [
    "- 对于初级数据分析师，了解描述统计相关的基础内容，有一定的公式计算能力"
   ]
  },
  {
   "cell_type": "markdown",
   "metadata": {
    "slideshow": {
     "slide_type": "fragment"
    }
   },
   "source": [
    "- 对于高级数据分析师，统计模型相关知识是必备能力，矩阵运算有一定了解"
   ]
  },
  {
   "cell_type": "markdown",
   "metadata": {
    "slideshow": {
     "slide_type": "fragment"
    }
   },
   "source": [
    "- 对于数据挖掘工程师，除了统计学以外，各类算法也需要熟练使用"
   ]
  },
  {
   "cell_type": "markdown",
   "metadata": {
    "slideshow": {
     "slide_type": "subslide"
    }
   },
   "source": [
    "##### 分析工具"
   ]
  },
  {
   "cell_type": "markdown",
   "metadata": {
    "slideshow": {
     "slide_type": "fragment"
    }
   },
   "source": [
    "-  对于初级数据分析师，熟练使用Excel，例如数据透视表和公式。另外，还要学会一个统计分析工具，例如SPSS"
   ]
  },
  {
   "cell_type": "markdown",
   "metadata": {
    "slideshow": {
     "slide_type": "fragment"
    }
   },
   "source": [
    "- 对于高级数据分析师，使用分析工具是核心能力，SAS/Stata/Python/R/Matlab至少要熟练使用其中之一"
   ]
  },
  {
   "cell_type": "markdown",
   "metadata": {
    "slideshow": {
     "slide_type": "fragment"
    }
   },
   "source": [
    "- 对于数据挖掘工程师，商业分析工具不是其核心，主要工作要依靠自己编写代码来解决"
   ]
  },
  {
   "cell_type": "markdown",
   "metadata": {
    "slideshow": {
     "slide_type": "subslide"
    }
   },
   "source": [
    "##### 编程语言"
   ]
  },
  {
   "cell_type": "markdown",
   "metadata": {
    "slideshow": {
     "slide_type": "fragment"
    }
   },
   "source": [
    " - 对于初级数据分析师，熟悉SQL语句基本就可以了"
   ]
  },
  {
   "cell_type": "markdown",
   "metadata": {
    "slideshow": {
     "slide_type": "fragment"
    }
   },
   "source": [
    "- 对于高级数据分析师，除了SQL以外，学习Python是很有必要的，用来获取和处理数据都将会事半功倍"
   ]
  },
  {
   "cell_type": "markdown",
   "metadata": {
    "slideshow": {
     "slide_type": "fragment"
    }
   },
   "source": [
    "- 对于数据挖掘工程师，Python/Java/C++至少得熟悉一门"
   ]
  },
  {
   "cell_type": "markdown",
   "metadata": {
    "slideshow": {
     "slide_type": "subslide"
    }
   },
   "source": [
    "##### 数据可视化"
   ]
  },
  {
   "cell_type": "markdown",
   "metadata": {
    "slideshow": {
     "slide_type": "fragment"
    }
   },
   "source": [
    "- 对于初级数据分析师，能用Excel和PPT做出基本的图表和报告，能清楚的展示数据"
   ]
  },
  {
   "cell_type": "markdown",
   "metadata": {
    "slideshow": {
     "slide_type": "fragment"
    }
   },
   "source": [
    "- 对于高级数据分析师，需要探寻更好的数据可视化方法，使用更有效的数据可视化工具，根据实际需求做出适合受众的数据可视化内容，掌握R/Python"
   ]
  },
  {
   "cell_type": "markdown",
   "metadata": {
    "slideshow": {
     "slide_type": "fragment"
    }
   },
   "source": [
    "- 对于数据挖掘工程师，了解一些数据可视化工具是有必要的，也要根据需求做一些复杂的可视化图表"
   ]
  },
  {
   "cell_type": "markdown",
   "metadata": {
    "slideshow": {
     "slide_type": "slide"
    }
   },
   "source": [
    "### 就业"
   ]
  },
  {
   "cell_type": "markdown",
   "metadata": {
    "slideshow": {
     "slide_type": "fragment"
    }
   },
   "source": [
    "<center><img src=\"./img/introduction/dataAnalysisIndustry.png\" width=\"40%\"></center>"
   ]
  },
  {
   "cell_type": "markdown",
   "metadata": {
    "slideshow": {
     "slide_type": "subslide"
    }
   },
   "source": [
    "<center><img src=\"./img/introduction/dataSalary.jpg\" width=\"80%\"></center>"
   ]
  },
  {
   "cell_type": "markdown",
   "metadata": {
    "slideshow": {
     "slide_type": "slide"
    }
   },
   "source": [
    "## 数据科学"
   ]
  },
  {
   "cell_type": "markdown",
   "metadata": {
    "slideshow": {
     "slide_type": "subslide"
    }
   },
   "source": [
    "### 数据科学定义"
   ]
  },
  {
   "cell_type": "markdown",
   "metadata": {
    "slideshow": {
     "slide_type": "fragment"
    }
   },
   "source": [
    "<div class=\"alert alert-info\">\n",
    "    <strong>利用计算机的运算能力对数据进行处理，从数据中提取信息，进而形成“知识”的一门学科。</strong>\n",
    "</div>"
   ]
  },
  {
   "cell_type": "markdown",
   "metadata": {
    "slideshow": {
     "slide_type": "fragment"
    }
   },
   "source": [
    "<center>\n",
    "<img src=\"./img/introduction/dataScience.jpg\">\n",
    "</center>"
   ]
  },
  {
   "cell_type": "markdown",
   "metadata": {
    "slideshow": {
     "slide_type": "slide"
    }
   },
   "source": [
    "### 数据科学分析流程"
   ]
  },
  {
   "cell_type": "markdown",
   "metadata": {
    "slideshow": {
     "slide_type": "fragment"
    }
   },
   "source": [
    "<center><img src=\"./img/introduction/dataAnalysisProcess.png\"></center>"
   ]
  },
  {
   "cell_type": "markdown",
   "metadata": {
    "slideshow": {
     "slide_type": "slide"
    }
   },
   "source": [
    "#### 数据收集"
   ]
  },
  {
   "cell_type": "markdown",
   "metadata": {
    "slideshow": {
     "slide_type": "fragment"
    }
   },
   "source": [
    "##### 一手数据"
   ]
  },
  {
   "cell_type": "markdown",
   "metadata": {
    "slideshow": {
     "slide_type": "fragment"
    }
   },
   "source": [
    "- 调研\n",
    "- 访谈\n",
    "- 实验"
   ]
  },
  {
   "cell_type": "markdown",
   "metadata": {
    "slideshow": {
     "slide_type": "subslide"
    }
   },
   "source": [
    "<p class=\"display-1 h2\">瑞幸咖啡遭做空，收盘跌幅10.74％</p>"
   ]
  },
  {
   "cell_type": "markdown",
   "metadata": {
    "slideshow": {
     "slide_type": "fragment"
    }
   },
   "source": [
    "<center><img src=\"./img/introduction/luckin.jpg\" width=\"30%\"></center>"
   ]
  },
  {
   "cell_type": "markdown",
   "metadata": {
    "slideshow": {
     "slide_type": "fragment"
    }
   },
   "source": [
    "- 美东时间2020年1月31日，浑水（Muddy Waters LLC）发布匿名报告指控瑞幸咖啡（NASDAQ:LK）财务造假"
   ]
  },
  {
   "cell_type": "markdown",
   "metadata": {
    "slideshow": {
     "slide_type": "fragment"
    }
   },
   "source": [
    "- 报告声称：“在2019年第三季度和2019年第四季度，每店每日商品数量分别夸大了至少69%和88%”"
   ]
  },
  {
   "cell_type": "markdown",
   "metadata": {
    "slideshow": {
     "slide_type": "fragment"
    }
   },
   "source": [
    "- 瑞幸股价盘中大跌超过25%，收跌近11%"
   ]
  },
  {
   "cell_type": "markdown",
   "metadata": {
    "slideshow": {
     "slide_type": "subslide"
    }
   },
   "source": [
    "- 如何收集数据？\n",
    "    + 雇佣了92个全职和1400个兼职调查员\n",
    "    + 收集了25000多张小票\n",
    "    + 11,260小时的门店流量视频\n",
    "    + 大量内部微信聊天记录"
   ]
  },
  {
   "cell_type": "markdown",
   "metadata": {
    "slideshow": {
     "slide_type": "subslide"
    }
   },
   "source": [
    "<center><img src=\"./img/introduction/luckinwechat.jpg\" width=\"50%\"></center>"
   ]
  },
  {
   "cell_type": "markdown",
   "metadata": {
    "slideshow": {
     "slide_type": "slide"
    }
   },
   "source": [
    "- 网络爬虫\n",
    "    - 网络爬虫是一种按照一定的规则，自动地抓取互联网信息的程序或者脚本\n",
    "    - 可以理解为一个自动访问网页并进行相关操作的小机器人"
   ]
  },
  {
   "cell_type": "markdown",
   "metadata": {
    "slideshow": {
     "slide_type": "slide"
    }
   },
   "source": [
    "##### 二手数据"
   ]
  },
  {
   "cell_type": "markdown",
   "metadata": {
    "slideshow": {
     "slide_type": "fragment"
    }
   },
   "source": [
    "- RESSET锐思数据库\n",
    "- Wind万德数据库"
   ]
  },
  {
   "cell_type": "markdown",
   "metadata": {
    "slideshow": {
     "slide_type": "fragment"
    }
   },
   "source": [
    "- [Tushare财经数据接口   /http://tushare.org/](http://tushare.org/)"
   ]
  },
  {
   "cell_type": "markdown",
   "metadata": {
    "slideshow": {
     "slide_type": "slide"
    }
   },
   "source": [
    "#### 数据整理（data processing）"
   ]
  },
  {
   "cell_type": "markdown",
   "metadata": {
    "slideshow": {
     "slide_type": "fragment"
    }
   },
   "source": [
    "- 把原始数据转换成结构化的数据"
   ]
  },
  {
   "cell_type": "markdown",
   "metadata": {
    "slideshow": {
     "slide_type": "fragment"
    }
   },
   "source": [
    "id|姓名|性别|年龄|学号|成绩\n",
    "---|---|---|---|---|---\n",
    "1|Tom|男|21|20170201|90"
   ]
  },
  {
   "cell_type": "markdown",
   "metadata": {
    "slideshow": {
     "slide_type": "slide"
    }
   },
   "source": [
    "#### 数据清理（data cleaning）"
   ]
  },
  {
   "cell_type": "markdown",
   "metadata": {
    "slideshow": {
     "slide_type": "fragment"
    }
   },
   "source": [
    "- 识别异常点（outliers）\n",
    "- 删除无效数据（invalid）\n",
    "- 剔除重复数据(duplicates)\n",
    "- 补全缺失数据（missing values）"
   ]
  },
  {
   "cell_type": "markdown",
   "metadata": {
    "slideshow": {
     "slide_type": "slide"
    }
   },
   "source": [
    "#### 探索性分析（exploratory data analysis）"
   ]
  },
  {
   "cell_type": "markdown",
   "metadata": {
    "slideshow": {
     "slide_type": "fragment"
    }
   },
   "source": [
    "- 描述型统计（descriptive statistics）\n",
    "    + 均值\n",
    "    + 标准差\n",
    "    + 分位数"
   ]
  },
  {
   "cell_type": "markdown",
   "metadata": {
    "slideshow": {
     "slide_type": "fragment"
    }
   },
   "source": [
    "- 数据可视化（data visualization）\n",
    "    + 直方图显示数据分布\n",
    "    + 散点图显示变量间关系\n",
    "    + 曲线图表示数据变化趋势"
   ]
  },
  {
   "cell_type": "markdown",
   "metadata": {
    "slideshow": {
     "slide_type": "slide"
    }
   },
   "source": [
    "#### 建模与算法"
   ]
  },
  {
   "cell_type": "markdown",
   "metadata": {
    "slideshow": {
     "slide_type": "fragment"
    }
   },
   "source": [
    "- 统计、计量模型\n",
    "    + 多元线性回归、逻辑回归\n",
    "    + 因子分析、主成分分析\n",
    "    + 时间序列分析"
   ]
  },
  {
   "cell_type": "markdown",
   "metadata": {
    "slideshow": {
     "slide_type": "fragment"
    }
   },
   "source": [
    "- 挖掘模型\n",
    "    + 分类\n",
    "    + 聚类\n",
    "    + 关联分析"
   ]
  },
  {
   "cell_type": "markdown",
   "metadata": {
    "slideshow": {
     "slide_type": "fragment"
    }
   },
   "source": [
    "- 根据所要分析的问题，选择相应的建模方法\n",
    "    + 分类、预测，还是解释现象？"
   ]
  },
  {
   "cell_type": "markdown",
   "metadata": {
    "slideshow": {
     "slide_type": "slide"
    }
   },
   "source": [
    "#### 交流、可视化结果"
   ]
  },
  {
   "cell_type": "markdown",
   "metadata": {
    "slideshow": {
     "slide_type": "fragment"
    }
   },
   "source": [
    "- 交作业\n",
    "- 向主管领导汇报、与同事交流结果\n",
    "- 在期刊上发表论文\n",
    "- 参加学术会议演讲结果"
   ]
  },
  {
   "cell_type": "markdown",
   "metadata": {
    "slideshow": {
     "slide_type": "slide"
    }
   },
   "source": [
    "#### 数据产品 "
   ]
  },
  {
   "cell_type": "markdown",
   "metadata": {
    "slideshow": {
     "slide_type": "fragment"
    }
   },
   "source": [
    "- 推荐系统\n",
    "- 客户管理系统"
   ]
  },
  {
   "cell_type": "markdown",
   "metadata": {
    "slideshow": {
     "slide_type": "fragment"
    }
   },
   "source": [
    "- 作用于真实世界，形成一个完整的反馈"
   ]
  },
  {
   "cell_type": "markdown",
   "metadata": {
    "slideshow": {
     "slide_type": "slide"
    }
   },
   "source": [
    "## 课程结构安排"
   ]
  },
  {
   "cell_type": "markdown",
   "metadata": {
    "slideshow": {
     "slide_type": "fragment"
    }
   },
   "source": [
    "<center><img src=\"./img/introduction/structure.png\" width=\"30%\"></center>"
   ]
  },
  {
   "cell_type": "markdown",
   "metadata": {
    "slideshow": {
     "slide_type": "subslide"
    }
   },
   "source": [
    "### 基础"
   ]
  },
  {
   "cell_type": "markdown",
   "metadata": {
    "slideshow": {
     "slide_type": "fragment"
    }
   },
   "source": [
    "- Python安装与Jupyter Notebook配置"
   ]
  },
  {
   "cell_type": "markdown",
   "metadata": {
    "slideshow": {
     "slide_type": "fragment"
    }
   },
   "source": [
    "- Python编程基础"
   ]
  },
  {
   "cell_type": "markdown",
   "metadata": {
    "slideshow": {
     "slide_type": "subslide"
    }
   },
   "source": [
    "### 数据整理"
   ]
  },
  {
   "cell_type": "markdown",
   "metadata": {
    "slideshow": {
     "slide_type": "fragment"
    }
   },
   "source": [
    "- 数据探索：数据整理、清洗"
   ]
  },
  {
   "cell_type": "markdown",
   "metadata": {
    "slideshow": {
     "slide_type": "fragment"
    }
   },
   "source": [
    "- Pandas：Python的数据分析库"
   ]
  },
  {
   "cell_type": "markdown",
   "metadata": {
    "slideshow": {
     "slide_type": "fragment"
    }
   },
   "source": [
    "- Numpy: 数组运算，通常作为Pandas的分析输入基础"
   ]
  },
  {
   "cell_type": "markdown",
   "metadata": {
    "slideshow": {
     "slide_type": "fragment"
    }
   },
   "source": [
    "- 描述性统计与可视化"
   ]
  },
  {
   "cell_type": "markdown",
   "metadata": {
    "slideshow": {
     "slide_type": "fragment"
    }
   },
   "source": [
    "- Matplotlib：Python的二维绘图库"
   ]
  },
  {
   "cell_type": "markdown",
   "metadata": {
    "slideshow": {
     "slide_type": "subslide"
    }
   },
   "source": [
    "### 建模与算法"
   ]
  },
  {
   "cell_type": "markdown",
   "metadata": {
    "slideshow": {
     "slide_type": "fragment"
    }
   },
   "source": [
    "- 分类问题\n",
    "    + 决策树\n",
    "    + 神经网络"
   ]
  },
  {
   "cell_type": "markdown",
   "metadata": {
    "slideshow": {
     "slide_type": "fragment"
    }
   },
   "source": [
    "- 聚类问题\n",
    "    + k-means聚类\n",
    "    + 层次聚类"
   ]
  },
  {
   "cell_type": "markdown",
   "metadata": {
    "slideshow": {
     "slide_type": "fragment"
    }
   },
   "source": [
    "- 关联分析\n",
    "    + apriori算法"
   ]
  },
  {
   "cell_type": "markdown",
   "metadata": {
    "slideshow": {
     "slide_type": "fragment"
    }
   },
   "source": [
    "- Scikit-learn：数据挖掘和分析工具库"
   ]
  },
  {
   "cell_type": "markdown",
   "metadata": {
    "slideshow": {
     "slide_type": "slide"
    }
   },
   "source": [
    "### 考核"
   ]
  },
  {
   "cell_type": "markdown",
   "metadata": {
    "slideshow": {
     "slide_type": "fragment"
    }
   },
   "source": [
    "<center>\n",
    "    \n",
    "考核内容|百分比\n",
    ":---:|:---:\n",
    "考勤、提问|10%\n",
    "作业、报告|40%\n",
    "考试|50%\n",
    "    \n",
    "</center>"
   ]
  },
  {
   "cell_type": "markdown",
   "metadata": {
    "slideshow": {
     "slide_type": "slide"
    }
   },
   "source": [
    "## 豆瓣电影评分靠谱吗？"
   ]
  },
  {
   "cell_type": "markdown",
   "metadata": {
    "slideshow": {
     "slide_type": "subslide"
    }
   },
   "source": [
    "[豆瓣的电影评分靠谱吗？ —— 一点数据分析的视角/https://zhuanlan.zhihu.com/p/24815577](https://zhuanlan.zhihu.com/p/24815577)"
   ]
  },
  {
   "cell_type": "markdown",
   "metadata": {
    "slideshow": {
     "slide_type": "fragment"
    }
   },
   "source": [
    "### 动机"
   ]
  },
  {
   "cell_type": "markdown",
   "metadata": {
    "slideshow": {
     "slide_type": "fragment"
    }
   },
   "source": [
    "<center><img src=\"./img/introduction/secret_life.png\">"
   ]
  },
  {
   "cell_type": "markdown",
   "metadata": {
    "slideshow": {
     "slide_type": "fragment"
    }
   },
   "source": [
    "- 有的人觉得这是导演“令人满意的答卷”，有的却说这部电影\"令人失望（disappointing）"
   ]
  },
  {
   "cell_type": "markdown",
   "metadata": {
    "slideshow": {
     "slide_type": "fragment"
    }
   },
   "source": [
    "> 豆瓣电影的评分是否可靠？会不会存在一些国内外评价差异比较大的电影？"
   ]
  },
  {
   "cell_type": "markdown",
   "metadata": {
    "slideshow": {
     "slide_type": "subslide"
    }
   },
   "source": [
    "### 数据收集"
   ]
  },
  {
   "cell_type": "markdown",
   "metadata": {
    "slideshow": {
     "slide_type": "fragment"
    }
   },
   "source": [
    "- 针对Movieinsider 2008-2014国外上映的电影的榜单（北美为主）\n",
    "- 抓取豆瓣和IMDB的评分, 总共2000+部"
   ]
  },
  {
   "cell_type": "code",
   "execution_count": 34,
   "metadata": {
    "slideshow": {
     "slide_type": "fragment"
    }
   },
   "outputs": [
    {
     "data": {
      "text/html": [
       "<div>\n",
       "<style scoped>\n",
       "    .dataframe tbody tr th:only-of-type {\n",
       "        vertical-align: middle;\n",
       "    }\n",
       "\n",
       "    .dataframe tbody tr th {\n",
       "        vertical-align: top;\n",
       "    }\n",
       "\n",
       "    .dataframe thead th {\n",
       "        text-align: right;\n",
       "    }\n",
       "</style>\n",
       "<table border=\"1\" class=\"dataframe\">\n",
       "  <thead>\n",
       "    <tr style=\"text-align: right;\">\n",
       "      <th></th>\n",
       "      <th>detail_url</th>\n",
       "      <th>douban_info</th>\n",
       "      <th>movie_tt_id</th>\n",
       "      <th>name</th>\n",
       "      <th>omdb_info</th>\n",
       "    </tr>\n",
       "  </thead>\n",
       "  <tbody>\n",
       "    <tr>\n",
       "      <th>0</th>\n",
       "      <td>http://www.movieinsider.com/m2401/one-missed-c...</td>\n",
       "      <td>{'comments_count': 586, 'genres': ['恐怖', '悬疑',...</td>\n",
       "      <td>tt0479968</td>\n",
       "      <td>One Missed Call</td>\n",
       "      <td>{'Type': 'movie', 'Awards': '2 nominations.', ...</td>\n",
       "    </tr>\n",
       "    <tr>\n",
       "      <th>1</th>\n",
       "      <td>http://www.movieinsider.com/m3221/the-pirates-...</td>\n",
       "      <td>{'comments_count': 121, 'genres': ['动画', '冒险',...</td>\n",
       "      <td>tt0475998</td>\n",
       "      <td>The Pirates Who Don't Do Anything: A VeggieTal...</td>\n",
       "      <td>{'Type': 'movie', 'Awards': 'N/A', 'Poster': '...</td>\n",
       "    </tr>\n",
       "    <tr>\n",
       "      <th>2</th>\n",
       "      <td>http://www.movieinsider.com/m2828/in-the-name-...</td>\n",
       "      <td>{'comments_count': 664, 'genres': ['动作', '冒险',...</td>\n",
       "      <td>tt0460780</td>\n",
       "      <td>In the Name of the King: A Dungeon Siege Tale</td>\n",
       "      <td>{'Type': 'movie', 'Awards': '4 wins &amp; 5 nomina...</td>\n",
       "    </tr>\n",
       "    <tr>\n",
       "      <th>3</th>\n",
       "      <td>http://www.movieinsider.com/m3101/first-sunday/</td>\n",
       "      <td>{'comments_count': 88, 'genres': ['喜剧', '犯罪', ...</td>\n",
       "      <td>tt0486578</td>\n",
       "      <td>First Sunday</td>\n",
       "      <td>{'Type': 'movie', 'Awards': 'N/A', 'Poster': '...</td>\n",
       "    </tr>\n",
       "    <tr>\n",
       "      <th>4</th>\n",
       "      <td>http://www.movieinsider.com/m1023/teeth/</td>\n",
       "      <td>{'comments_count': 4772, 'genres': ['喜剧', '恐怖'...</td>\n",
       "      <td>tt0780622</td>\n",
       "      <td>Teeth</td>\n",
       "      <td>{'Type': 'movie', 'Awards': '3 wins &amp; 8 nomina...</td>\n",
       "    </tr>\n",
       "  </tbody>\n",
       "</table>\n",
       "</div>"
      ],
      "text/plain": [
       "                                          detail_url  \\\n",
       "0  http://www.movieinsider.com/m2401/one-missed-c...   \n",
       "1  http://www.movieinsider.com/m3221/the-pirates-...   \n",
       "2  http://www.movieinsider.com/m2828/in-the-name-...   \n",
       "3    http://www.movieinsider.com/m3101/first-sunday/   \n",
       "4           http://www.movieinsider.com/m1023/teeth/   \n",
       "\n",
       "                                         douban_info movie_tt_id  \\\n",
       "0  {'comments_count': 586, 'genres': ['恐怖', '悬疑',...   tt0479968   \n",
       "1  {'comments_count': 121, 'genres': ['动画', '冒险',...   tt0475998   \n",
       "2  {'comments_count': 664, 'genres': ['动作', '冒险',...   tt0460780   \n",
       "3  {'comments_count': 88, 'genres': ['喜剧', '犯罪', ...   tt0486578   \n",
       "4  {'comments_count': 4772, 'genres': ['喜剧', '恐怖'...   tt0780622   \n",
       "\n",
       "                                                name  \\\n",
       "0                                    One Missed Call   \n",
       "1  The Pirates Who Don't Do Anything: A VeggieTal...   \n",
       "2      In the Name of the King: A Dungeon Siege Tale   \n",
       "3                                       First Sunday   \n",
       "4                                              Teeth   \n",
       "\n",
       "                                           omdb_info  \n",
       "0  {'Type': 'movie', 'Awards': '2 nominations.', ...  \n",
       "1  {'Type': 'movie', 'Awards': 'N/A', 'Poster': '...  \n",
       "2  {'Type': 'movie', 'Awards': '4 wins & 5 nomina...  \n",
       "3  {'Type': 'movie', 'Awards': 'N/A', 'Poster': '...  \n",
       "4  {'Type': 'movie', 'Awards': '3 wins & 8 nomina...  "
      ]
     },
     "execution_count": 34,
     "metadata": {},
     "output_type": "execute_result"
    }
   ],
   "source": [
    "data = []\n",
    "for year in range(2008,2015):\n",
    "    file = \"./data/introduction/movie/movie_list_%s_v2.json\" % year\n",
    "    with open(file, encoding='utf-8' ) as data_file:    \n",
    "        data += json.load(data_file)   \n",
    "df = pd.DataFrame(data)\n",
    "df.head()"
   ]
  },
  {
   "cell_type": "code",
   "execution_count": 35,
   "metadata": {
    "slideshow": {
     "slide_type": "notes"
    }
   },
   "outputs": [],
   "source": [
    "# Problem, handling unicode json\n",
    "df.drop('detail_url', 1, inplace=True)\n",
    "df.drop_duplicates('movie_tt_id', inplace=True)\n",
    "df['temp_string'] = df['douban_info'].astype(str)\n",
    "df.drop_duplicates('temp_string', inplace=True)\n",
    "df['temp_string'] = df['omdb_info'].astype(str)\n",
    "df.drop_duplicates('temp_string', inplace=True)\n",
    "df = df.dropna()\n",
    "df.drop('temp_string', 1, inplace=True)"
   ]
  },
  {
   "cell_type": "code",
   "execution_count": 15,
   "metadata": {
    "slideshow": {
     "slide_type": "subslide"
    }
   },
   "outputs": [
    {
     "data": {
      "text/plain": [
       "{'Actors': 'Shannyn Sossamon, Edward Burns, Ana Claudia Talancón, Ray Wise',\n",
       " 'Awards': '2 nominations.',\n",
       " 'Country': 'Japan, USA, Germany',\n",
       " 'Director': 'Eric Valette',\n",
       " 'Genre': 'Horror, Mystery',\n",
       " 'Language': 'English',\n",
       " 'Metascore': '24',\n",
       " 'Plot': 'Several people start receiving voice-mails from their future selves - messages which include the date, time, and some of the details of their deaths.',\n",
       " 'Poster': 'http://ia.media-imdb.com/images/M/MV5BMjA2NTk0OTcyMV5BMl5BanBnXkFtZTcwMzk1MDU1MQ@@._V1_SX300.jpg',\n",
       " 'Rated': 'PG-13',\n",
       " 'Released': '4 Jan 2008',\n",
       " 'Response': 'True',\n",
       " 'Runtime': '87 min',\n",
       " 'Title': 'One Missed Call',\n",
       " 'Type': 'movie',\n",
       " 'Writer': 'Andrew Klavan (screenplay), Yasushi Akimoto (novel), Minako Daira (screenplay)',\n",
       " 'Year': '2008',\n",
       " 'imdbID': 'tt0479968',\n",
       " 'imdbRating': '3.9',\n",
       " 'imdbVotes': '24943'}"
      ]
     },
     "execution_count": 15,
     "metadata": {},
     "output_type": "execute_result"
    }
   ],
   "source": [
    "df['omdb_info'][0]"
   ]
  },
  {
   "cell_type": "code",
   "execution_count": 14,
   "metadata": {
    "slideshow": {
     "slide_type": "subslide"
    }
   },
   "outputs": [
    {
     "data": {
      "text/plain": [
       "{'aka': ['蔬菜海盗历险记', '无所事事的海盗'],\n",
       " 'alt': 'https://movie.douban.com/subject/1939774/',\n",
       " 'casts': [{'alt': None, 'avatars': None, 'id': None, 'name': 'Phil Vischer'},\n",
       "  {'alt': None, 'avatars': None, 'id': None, 'name': 'Mike Nawrocki'},\n",
       "  {'alt': 'https://movie.douban.com/celebrity/1076005/',\n",
       "   'avatars': {'large': 'http://img6.douban.com/f/movie/63acc16ca6309ef191f0378faf793d1096a3e606/pics/movie/celebrity-default-large.png',\n",
       "    'medium': 'http://img6.douban.com/f/movie/8dd0c794499fe925ae2ae89ee30cd225750457b4/pics/movie/celebrity-default-medium.png',\n",
       "    'small': 'http://img6.douban.com/f/movie/ca527386eb8c4e325611e22dfcb04cc116d6b423/pics/movie/celebrity-default-small.png'},\n",
       "   'id': '1076005',\n",
       "   'name': 'Cam Clarke'},\n",
       "  {'alt': None, 'avatars': None, 'id': None, 'name': 'Laura Gerow'}],\n",
       " 'collect_count': 809,\n",
       " 'comments_count': 121,\n",
       " 'countries': ['美国'],\n",
       " 'current_season': None,\n",
       " 'directors': [{'alt': None,\n",
       "   'avatars': None,\n",
       "   'id': None,\n",
       "   'name': 'Mike Nawrocki'}],\n",
       " 'do_count': None,\n",
       " 'douban_site': '',\n",
       " 'episodes_count': None,\n",
       " 'genres': ['动画', '冒险', '喜剧'],\n",
       " 'id': '1939774',\n",
       " 'images': {'large': 'http://img6.douban.com/lpic/s2767431.jpg',\n",
       "  'medium': 'http://img6.douban.com/mpic/s2767431.jpg',\n",
       "  'small': 'http://img6.douban.com/spic/s2767431.jpg'},\n",
       " 'mobile_url': 'https://movie.douban.com/subject/1939774/mobile',\n",
       " 'original_title': \"The Pirates Who Don't Do Anything: A VeggieTales Movie\",\n",
       " 'rating': {'average': 6, 'max': 10, 'min': 0, 'stars': '30'},\n",
       " 'ratings_count': 608,\n",
       " 'reviews_count': 4,\n",
       " 'schedule_url': '',\n",
       " 'seasons_count': None,\n",
       " 'share_url': 'http://m.douban.com/movie/subject/1939774',\n",
       " 'subtype': 'movie',\n",
       " 'summary': '艾略特（Mike Nawrocki 配音）、乔治（Phil Vischer 配音）和塞其维克在同一间餐厅打工，每天重复着日复一日的枯燥生活，它们感到自己的灵魂正在繁重的工作中慢慢死去。三人的心中都有着各自的英雄梦，它们都觉得自己不会在碌碌无为中了却此生，然而残酷的现实预示着，这恐怖噩梦的预想或许就要成真。\\n某日，一个神秘的魔法球掉落到了三人的脚边，彻底改变了它们平凡的命运，在魔法力量的影响下，三人穿越回了十七世纪，改头换面成为了驰骋在无垠大海中的海盗。等待着它们的，是一位又一位凶险的敌人和一个又一个艰巨的任务，在寻找回家的路的同时，三人亦领略了何为勇气和爱。©豆瓣',\n",
       " 'title': '无所事事的海盗',\n",
       " 'wish_count': 235,\n",
       " 'year': '2008'}"
      ]
     },
     "execution_count": 14,
     "metadata": {},
     "output_type": "execute_result"
    }
   ],
   "source": [
    "df['douban_info'][1]"
   ]
  },
  {
   "cell_type": "markdown",
   "metadata": {
    "slideshow": {
     "slide_type": "slide"
    }
   },
   "source": [
    "### 数据清理"
   ]
  },
  {
   "cell_type": "markdown",
   "metadata": {
    "slideshow": {
     "slide_type": "fragment"
    }
   },
   "source": [
    "- 数据存在的问题\n",
    "    + ['imdb_info']['imdbRating'] 可能不存在\n",
    "    + ['imdb_rating'] 有 'N/A'的情况\n",
    "    + 有的['imdb_rating']为类似'23,421', 需要去掉逗号"
   ]
  },
  {
   "cell_type": "code",
   "execution_count": 23,
   "metadata": {},
   "outputs": [],
   "source": [
    "df['imdb_rating'] = df['omdb_info'].apply(lambda x: x.get('imdbRating', np.nan))\n",
    "df['metascore'] = df['omdb_info'].apply(lambda x: x.get('Metascore', np.nan))\n",
    "df = df.dropna()\n",
    "df = df[(df.imdb_rating != 'N/A') &(df.metascore != 'N/A')]\n",
    "\n",
    "df['year']=df['omdb_info'].apply(lambda x: x.get('Year', np.nan))\n",
    "df['year'] = df['year'].astype(float)\n",
    "df['imdb_ratings_count'] = df['omdb_info'].apply(lambda x: int(x['imdbVotes'].replace(',', '')))\n",
    "df['imdb_rating'] = df['imdb_rating'].astype(float)\n",
    "df['imdb_ratings_count'] = df['imdb_ratings_count'].astype(int)\n",
    "# df['name'] = df['name'].apply(lambda x: x.encode('ascii','ignore'))\n",
    "df['metascore'] = df['metascore'].astype(float)\n",
    "df['metascore'] = df['metascore']/10\n",
    "df['genre']=df['omdb_info'].apply(lambda x: x.get('Genre', 'none'))\n",
    "df['country']=df['omdb_info'].apply(lambda x: x.get('Country', 'none'))\n",
    "# df['genre'] = df['genre_all'].apply(lambda x: x)\n",
    "# # df['country'] = df['country_all'].apply(lambda x: x.split(',')[0])\n",
    "# df['country'] = df['country_all'].apply(lambda x: x)\n",
    "\n",
    "df['name'] = df['douban_info'].apply(lambda x: x['title'])\n",
    "df['db_rating'] = df['douban_info'].apply(lambda x: x['rating']['average'])\n",
    "df['db_ratings_count'] = df['douban_info'].apply(lambda x: x['ratings_count'])\n",
    "df['image_url']=df['douban_info'].apply(lambda x: x['images']['large'])\n",
    "df['douban_url']=df['douban_info'].apply(lambda x: x['alt'])\n",
    "df['douban_year']=df['douban_info'].apply(lambda x: x['year'])\n",
    "df['genre_douban']=df['douban_info'].apply(lambda x: x['genres'])\n",
    "df['country_douban']=df['douban_info'].apply(lambda x: x['countries'])\n",
    "\n",
    "df.drop('douban_info', 1, inplace=True)\n",
    "df.drop('omdb_info', 1, inplace=True)"
   ]
  },
  {
   "cell_type": "markdown",
   "metadata": {
    "slideshow": {
     "slide_type": "subslide"
    }
   },
   "source": [
    "### 数据探索分析"
   ]
  },
  {
   "cell_type": "code",
   "execution_count": 40,
   "metadata": {
    "scrolled": true,
    "slideshow": {
     "slide_type": "fragment"
    }
   },
   "outputs": [
    {
     "data": {
      "text/html": [
       "<div>\n",
       "<style scoped>\n",
       "    .dataframe tbody tr th:only-of-type {\n",
       "        vertical-align: middle;\n",
       "    }\n",
       "\n",
       "    .dataframe tbody tr th {\n",
       "        vertical-align: top;\n",
       "    }\n",
       "\n",
       "    .dataframe thead th {\n",
       "        text-align: right;\n",
       "    }\n",
       "</style>\n",
       "<table border=\"1\" class=\"dataframe\">\n",
       "  <thead>\n",
       "    <tr style=\"text-align: right;\">\n",
       "      <th></th>\n",
       "      <th>imdb_rating</th>\n",
       "      <th>metascore</th>\n",
       "      <th>year</th>\n",
       "      <th>imdb_ratings_count</th>\n",
       "      <th>db_rating</th>\n",
       "      <th>db_ratings_count</th>\n",
       "    </tr>\n",
       "  </thead>\n",
       "  <tbody>\n",
       "    <tr>\n",
       "      <th>count</th>\n",
       "      <td>2502.000000</td>\n",
       "      <td>2502.000000</td>\n",
       "      <td>2502.000000</td>\n",
       "      <td>2.502000e+03</td>\n",
       "      <td>2502.000000</td>\n",
       "      <td>2502.000000</td>\n",
       "    </tr>\n",
       "    <tr>\n",
       "      <th>mean</th>\n",
       "      <td>6.374221</td>\n",
       "      <td>5.441647</td>\n",
       "      <td>2010.620703</td>\n",
       "      <td>5.662486e+04</td>\n",
       "      <td>6.085651</td>\n",
       "      <td>20699.289768</td>\n",
       "    </tr>\n",
       "    <tr>\n",
       "      <th>std</th>\n",
       "      <td>0.993491</td>\n",
       "      <td>1.721034</td>\n",
       "      <td>3.179870</td>\n",
       "      <td>1.093372e+05</td>\n",
       "      <td>2.324885</td>\n",
       "      <td>50322.771295</td>\n",
       "    </tr>\n",
       "    <tr>\n",
       "      <th>min</th>\n",
       "      <td>1.600000</td>\n",
       "      <td>0.100000</td>\n",
       "      <td>1939.000000</td>\n",
       "      <td>1.200000e+01</td>\n",
       "      <td>0.000000</td>\n",
       "      <td>0.000000</td>\n",
       "    </tr>\n",
       "    <tr>\n",
       "      <th>25%</th>\n",
       "      <td>5.800000</td>\n",
       "      <td>4.200000</td>\n",
       "      <td>2009.000000</td>\n",
       "      <td>2.821000e+03</td>\n",
       "      <td>5.900000</td>\n",
       "      <td>235.000000</td>\n",
       "    </tr>\n",
       "    <tr>\n",
       "      <th>50%</th>\n",
       "      <td>6.450000</td>\n",
       "      <td>5.500000</td>\n",
       "      <td>2011.000000</td>\n",
       "      <td>1.350950e+04</td>\n",
       "      <td>6.700000</td>\n",
       "      <td>2592.500000</td>\n",
       "    </tr>\n",
       "    <tr>\n",
       "      <th>75%</th>\n",
       "      <td>7.100000</td>\n",
       "      <td>6.700000</td>\n",
       "      <td>2012.000000</td>\n",
       "      <td>6.073825e+04</td>\n",
       "      <td>7.500000</td>\n",
       "      <td>14463.750000</td>\n",
       "    </tr>\n",
       "    <tr>\n",
       "      <th>max</th>\n",
       "      <td>9.000000</td>\n",
       "      <td>10.000000</td>\n",
       "      <td>2014.000000</td>\n",
       "      <td>1.451699e+06</td>\n",
       "      <td>9.500000</td>\n",
       "      <td>586362.000000</td>\n",
       "    </tr>\n",
       "  </tbody>\n",
       "</table>\n",
       "</div>"
      ],
      "text/plain": [
       "       imdb_rating    metascore         year  imdb_ratings_count    db_rating  \\\n",
       "count  2502.000000  2502.000000  2502.000000        2.502000e+03  2502.000000   \n",
       "mean      6.374221     5.441647  2010.620703        5.662486e+04     6.085651   \n",
       "std       0.993491     1.721034     3.179870        1.093372e+05     2.324885   \n",
       "min       1.600000     0.100000  1939.000000        1.200000e+01     0.000000   \n",
       "25%       5.800000     4.200000  2009.000000        2.821000e+03     5.900000   \n",
       "50%       6.450000     5.500000  2011.000000        1.350950e+04     6.700000   \n",
       "75%       7.100000     6.700000  2012.000000        6.073825e+04     7.500000   \n",
       "max       9.000000    10.000000  2014.000000        1.451699e+06     9.500000   \n",
       "\n",
       "       db_ratings_count  \n",
       "count       2502.000000  \n",
       "mean       20699.289768  \n",
       "std        50322.771295  \n",
       "min            0.000000  \n",
       "25%          235.000000  \n",
       "50%         2592.500000  \n",
       "75%        14463.750000  \n",
       "max       586362.000000  "
      ]
     },
     "execution_count": 40,
     "metadata": {},
     "output_type": "execute_result"
    }
   ],
   "source": [
    "df.describe()"
   ]
  },
  {
   "cell_type": "code",
   "execution_count": 53,
   "metadata": {
    "slideshow": {
     "slide_type": "subslide"
    }
   },
   "outputs": [
    {
     "data": {
      "image/png": "[encoded data removed]",
      "text/plain": [
       "<Figure size 864x432 with 1 Axes>"
      ]
     },
     "metadata": {
      "needs_background": "light"
     },
     "output_type": "display_data"
    }
   ],
   "source": [
    "bins=np.linspace(0,10)\n",
    "df['imdb_rating'].hist(bins=bins, alpha=0.5, density=True, label = 'IMDB', figsize=(12,6))\n",
    "df['db_rating'].hist(bins=bins, alpha=0.5, density=True,label = 'douban', figsize=(12,6))\n",
    "plt.legend()\n",
    "plt.show()"
   ]
  },
  {
   "cell_type": "markdown",
   "metadata": {
    "slideshow": {
     "slide_type": "fragment"
    }
   },
   "source": [
    "- 可见，豆瓣有些电影没有评分"
   ]
  },
  {
   "cell_type": "markdown",
   "metadata": {
    "slideshow": {
     "slide_type": "subslide"
    }
   },
   "source": [
    "### 重新数据清理"
   ]
  },
  {
   "cell_type": "markdown",
   "metadata": {
    "slideshow": {
     "slide_type": "fragment"
    }
   },
   "source": [
    "- 筛选出Imdb和豆瓣都有评分的电影"
   ]
  },
  {
   "cell_type": "code",
   "execution_count": 24,
   "metadata": {
    "slideshow": {
     "slide_type": "fragment"
    }
   },
   "outputs": [],
   "source": [
    "dfFilter = df.query('db_rating > 0')"
   ]
  },
  {
   "cell_type": "markdown",
   "metadata": {
    "slideshow": {
     "slide_type": "subslide"
    }
   },
   "source": [
    "### 重新数据探索"
   ]
  },
  {
   "cell_type": "code",
   "execution_count": 46,
   "metadata": {
    "slideshow": {
     "slide_type": "fragment"
    }
   },
   "outputs": [
    {
     "data": {
      "text/html": [
       "<div>\n",
       "<style scoped>\n",
       "    .dataframe tbody tr th:only-of-type {\n",
       "        vertical-align: middle;\n",
       "    }\n",
       "\n",
       "    .dataframe tbody tr th {\n",
       "        vertical-align: top;\n",
       "    }\n",
       "\n",
       "    .dataframe thead th {\n",
       "        text-align: right;\n",
       "    }\n",
       "</style>\n",
       "<table border=\"1\" class=\"dataframe\">\n",
       "  <thead>\n",
       "    <tr style=\"text-align: right;\">\n",
       "      <th></th>\n",
       "      <th>imdb_rating</th>\n",
       "      <th>metascore</th>\n",
       "      <th>year</th>\n",
       "      <th>imdb_ratings_count</th>\n",
       "      <th>db_rating</th>\n",
       "      <th>db_ratings_count</th>\n",
       "    </tr>\n",
       "  </thead>\n",
       "  <tbody>\n",
       "    <tr>\n",
       "      <th>count</th>\n",
       "      <td>2231.000000</td>\n",
       "      <td>2231.000000</td>\n",
       "      <td>2231.000000</td>\n",
       "      <td>2.231000e+03</td>\n",
       "      <td>2231.000000</td>\n",
       "      <td>2231.000000</td>\n",
       "    </tr>\n",
       "    <tr>\n",
       "      <th>mean</th>\n",
       "      <td>6.413043</td>\n",
       "      <td>5.473151</td>\n",
       "      <td>2010.589870</td>\n",
       "      <td>6.341743e+04</td>\n",
       "      <td>6.824877</td>\n",
       "      <td>23212.752577</td>\n",
       "    </tr>\n",
       "    <tr>\n",
       "      <th>std</th>\n",
       "      <td>0.969127</td>\n",
       "      <td>1.728433</td>\n",
       "      <td>3.272232</td>\n",
       "      <td>1.139344e+05</td>\n",
       "      <td>1.007254</td>\n",
       "      <td>52742.542957</td>\n",
       "    </tr>\n",
       "    <tr>\n",
       "      <th>min</th>\n",
       "      <td>1.600000</td>\n",
       "      <td>0.100000</td>\n",
       "      <td>1939.000000</td>\n",
       "      <td>1.580000e+02</td>\n",
       "      <td>2.600000</td>\n",
       "      <td>20.000000</td>\n",
       "    </tr>\n",
       "    <tr>\n",
       "      <th>25%</th>\n",
       "      <td>5.800000</td>\n",
       "      <td>4.200000</td>\n",
       "      <td>2009.000000</td>\n",
       "      <td>4.834000e+03</td>\n",
       "      <td>6.200000</td>\n",
       "      <td>622.000000</td>\n",
       "    </tr>\n",
       "    <tr>\n",
       "      <th>50%</th>\n",
       "      <td>6.500000</td>\n",
       "      <td>5.500000</td>\n",
       "      <td>2011.000000</td>\n",
       "      <td>1.882100e+04</td>\n",
       "      <td>6.800000</td>\n",
       "      <td>3735.000000</td>\n",
       "    </tr>\n",
       "    <tr>\n",
       "      <th>75%</th>\n",
       "      <td>7.100000</td>\n",
       "      <td>6.700000</td>\n",
       "      <td>2012.000000</td>\n",
       "      <td>7.037450e+04</td>\n",
       "      <td>7.550000</td>\n",
       "      <td>18163.500000</td>\n",
       "    </tr>\n",
       "    <tr>\n",
       "      <th>max</th>\n",
       "      <td>9.000000</td>\n",
       "      <td>10.000000</td>\n",
       "      <td>2014.000000</td>\n",
       "      <td>1.451699e+06</td>\n",
       "      <td>9.500000</td>\n",
       "      <td>586362.000000</td>\n",
       "    </tr>\n",
       "  </tbody>\n",
       "</table>\n",
       "</div>"
      ],
      "text/plain": [
       "       imdb_rating    metascore         year  imdb_ratings_count    db_rating  \\\n",
       "count  2231.000000  2231.000000  2231.000000        2.231000e+03  2231.000000   \n",
       "mean      6.413043     5.473151  2010.589870        6.341743e+04     6.824877   \n",
       "std       0.969127     1.728433     3.272232        1.139344e+05     1.007254   \n",
       "min       1.600000     0.100000  1939.000000        1.580000e+02     2.600000   \n",
       "25%       5.800000     4.200000  2009.000000        4.834000e+03     6.200000   \n",
       "50%       6.500000     5.500000  2011.000000        1.882100e+04     6.800000   \n",
       "75%       7.100000     6.700000  2012.000000        7.037450e+04     7.550000   \n",
       "max       9.000000    10.000000  2014.000000        1.451699e+06     9.500000   \n",
       "\n",
       "       db_ratings_count  \n",
       "count       2231.000000  \n",
       "mean       23212.752577  \n",
       "std        52742.542957  \n",
       "min           20.000000  \n",
       "25%          622.000000  \n",
       "50%         3735.000000  \n",
       "75%        18163.500000  \n",
       "max       586362.000000  "
      ]
     },
     "execution_count": 46,
     "metadata": {},
     "output_type": "execute_result"
    }
   ],
   "source": [
    "dfFilter.describe()"
   ]
  },
  {
   "cell_type": "code",
   "execution_count": 54,
   "metadata": {
    "scrolled": false,
    "slideshow": {
     "slide_type": "subslide"
    }
   },
   "outputs": [
    {
     "data": {
      "image/png": "[encoded data removed]",
      "text/plain": [
       "<Figure size 864x432 with 1 Axes>"
      ]
     },
     "metadata": {
      "needs_background": "light"
     },
     "output_type": "display_data"
    }
   ],
   "source": [
    "dfFilter['imdb_rating'].hist(bins=bins, alpha=0.5, density=True, label = 'IMDB', figsize=(12,6))\n",
    "dfFilter['db_rating'].hist(bins=bins,alpha=0.5,  density=True, label = 'douban', figsize=(12,6))\n",
    "plt.legend()\n",
    "plt.show()"
   ]
  },
  {
   "cell_type": "code",
   "execution_count": 25,
   "metadata": {
    "slideshow": {
     "slide_type": "notes"
    }
   },
   "outputs": [],
   "source": [
    "def plt_configure(ax=None, xlabel=None, ylabel=None, title='', legend=False, tight=False, figsize=False, no_axis=False):\n",
    "    if ax == None :\n",
    "        ax=plt.gca()\n",
    "        plt.suptitle(title)\n",
    "    else:\n",
    "        ax.set_title(title)\n",
    "    if xlabel:\n",
    "        ax.set_xlabel(xlabel)\n",
    "    if ylabel:\n",
    "        ax.set_ylabel(ylabel)\n",
    "    if legend:\n",
    "        if isinstance(legend, dict):\n",
    "            ax.legend(**legend)\n",
    "        else:\n",
    "            ax.legend()\n",
    "    if tight:\n",
    "        if tight == 'xtight' or tight == 'x':\n",
    "            ax.autoscale(enable=True, axis='x', tight=True)\n",
    "        elif tight == 'ytight':\n",
    "            ax.autoscale(enable=True, axis='y', tight=True)\n",
    "        else:\n",
    "            ax.axis('tight')\n",
    "    if figsize:\n",
    "        plt.gcf().set_size_inches(figsize)\n",
    "    if no_axis:\n",
    "        plt.gca().axis('off')\n",
    "        legend = ax.legend()\n",
    "        if legend:\n",
    "            legend.remove()"
   ]
  },
  {
   "cell_type": "code",
   "execution_count": 26,
   "metadata": {
    "slideshow": {
     "slide_type": "notes"
    }
   },
   "outputs": [],
   "source": [
    "def plot_movie_scatter_comparison(df, title='', type='rank', legend=True, regression=True):\n",
    "    fig, ax = plt.subplots(figsize=(12,6))\n",
    "    # 1. plot scatter\n",
    "    if type == 'rating':\n",
    "        douban, imdb = df.db_rating, df.imdb_rating\n",
    "        start, scale = 0, 10\n",
    "    elif type =='rank_norm':\n",
    "        douban, imdb = df.db_rank_norm, df.imdb_rank_norm\n",
    "        start, scale = -4, 4\n",
    "        deviation_range = 1.28\n",
    "    else:\n",
    "        douban, imdb = df.db_rank, df.imdb_rank\n",
    "        start, scale = 0, 100\n",
    "        deviation_range = 20\n",
    "    x = [start, scale]\n",
    "    plt.plot(x, x, '--', color='black', label='1:1')\n",
    "\n",
    "    # 2. regression\n",
    "    x = np.linspace(start, scale)\n",
    "    if type != 'rating':\n",
    "        plt.fill_between(x, x - deviation_range, x + deviation_range, alpha=0.15)\n",
    "    if regression and len(df) >=20:\n",
    "        fit = np.polyfit(douban, imdb, 1)\n",
    "        fit_fn = np.poly1d(fit)\n",
    "        plt.plot(x, fit_fn(x), '-', label='Regression')\n",
    "    else:\n",
    "        fit_fn = 'Not available'\n",
    "\n",
    "    # 3. Plot scatter\n",
    "    scatter_plot = ax.scatter(douban, imdb, alpha=0.3)\n",
    "\n",
    "    plt.axis([start, scale, start, scale])\n",
    "    if type == 'rating':\n",
    "        plt_configure(xlabel='Douban Rating', ylabel='IMDB Rating', title=title)\n",
    "    elif type == 'rank_norm':\n",
    "        plt_configure(xlabel='Douban Rank (Normed)', ylabel='IMDB Rank (Normed)', title=title)\n",
    "    else:\n",
    "        plt_configure(xlabel='Douban Rank', ylabel='IMDB Rank', title=title)\n",
    "    if legend == True:\n",
    "        plt.gca().legend(loc='best')\n",
    "    plt.gca().set_aspect('equal')\n",
    "    return fig, fit_fn, scatter_plot"
   ]
  },
  {
   "cell_type": "markdown",
   "metadata": {
    "slideshow": {
     "slide_type": "subslide"
    }
   },
   "source": [
    "#### 散点图可以非常直观的比较两者的差别"
   ]
  },
  {
   "cell_type": "code",
   "execution_count": 90,
   "metadata": {
    "scrolled": true,
    "slideshow": {
     "slide_type": "fragment"
    }
   },
   "outputs": [
    {
     "name": "stdout",
     "output_type": "stream",
     "text": [
      "回归线： \n",
      "0.7563 x + 1.251\n"
     ]
    },
    {
     "data": {
      "image/png": "[encoded data removed]",
      "text/plain": [
       "<Figure size 864x432 with 1 Axes>"
      ]
     },
     "metadata": {
      "needs_background": "light"
     },
     "output_type": "display_data"
    }
   ],
   "source": [
    "fig, fit_fn , scatter_plot = plot_movie_scatter_comparison(dfFilter, title='', type='rating')\n",
    "print('回归线：{}'.format(fit_fn))\n",
    "# plt.show()"
   ]
  },
  {
   "cell_type": "code",
   "execution_count": 36,
   "metadata": {
    "scrolled": true,
    "slideshow": {
     "slide_type": "notes"
    }
   },
   "outputs": [],
   "source": [
    "dfFilter.loc[:,'diff']=dfFilter['db_rating']-dfFilter['imdb_rating'];\n",
    "dfFilter.loc[:,'diff_abs']=dfFilter['diff'].abs();\n",
    "dfFilter.loc[:,'imdb_rank'] = dfFilter['imdb_rating'].rank()/len(dfFilter)*100;\n",
    "dfFilter.loc[:,'db_rank'] = dfFilter['db_rating'].rank()/len(dfFilter)*100;\n",
    "dfFilter.loc[:,'rank_diff']=dfFilter['db_rank']-dfFilter['imdb_rank'];\n",
    "dfFilter.loc[:,'rank_diff_abs']=dfFilter['rank_diff'].abs();"
   ]
  },
  {
   "cell_type": "markdown",
   "metadata": {
    "slideshow": {
     "slide_type": "subslide"
    }
   },
   "source": [
    "#### 分剧情比较"
   ]
  },
  {
   "cell_type": "code",
   "execution_count": 21,
   "metadata": {
    "slideshow": {
     "slide_type": "notes"
    }
   },
   "outputs": [],
   "source": [
    "def category_overview2(df, category_name, category, main=False):\n",
    "    if main:\n",
    "        mask = df[category_name].apply(lambda x: category in x[0:1])\n",
    "    else:\n",
    "        mask = df[category_name].apply(lambda x: category in x[0:2])\n",
    "    sub_df = df[mask]\n",
    "    fig, fit_fn , scatter_plot = plot_movie_scatter_comparison(sub_df, legend=False)\n",
    "    slope = fit_fn[1]\n",
    "    mean_rank_diff = sub_df['rank_diff'].mean()\n",
    "#     print(category, len(sub_df), fit_fn, mean_rank_diff)\n",
    "    return len(sub_df), slope, mean_rank_diff"
   ]
  },
  {
   "cell_type": "code",
   "execution_count": 33,
   "metadata": {
    "slideshow": {
     "slide_type": "notes"
    }
   },
   "outputs": [],
   "source": [
    "def align_figures():\n",
    "    import matplotlib\n",
    "    from matplotlib._pylab_helpers import Gcf\n",
    "    from IPython.display import display_html\n",
    "    import base64\n",
    "    from ipykernel.pylab.backend_inline import show\n",
    "\n",
    "    images = []\n",
    "    for figure_manager in Gcf.get_all_fig_managers():\n",
    "        fig = figure_manager.canvas.figure\n",
    "        png = get_ipython().display_formatter.format(fig)[0]['image/png']\n",
    "        src = base64.encodebytes(png).decode()\n",
    "        images.append('<img style=\"margin:0\" align=\"left\" src=\"data:image/png;base64,{}\"/>'.format(src))\n",
    "\n",
    "    html = \"{}\".format(\"\".join(images))\n",
    "    show._draw_called = False\n",
    "    matplotlib.pyplot.close('all')\n",
    "    display_html(html, raw=True)"
   ]
  },
  {
   "cell_type": "code",
   "execution_count": 34,
   "metadata": {
    "scrolled": true,
    "slideshow": {
     "slide_type": "fragment"
    }
   },
   "outputs": [
    {
     "data": {
      "text/html": [
       "<img style=\"margin:0\" align=\"left\" src=\"data:image/png;base64,iVBORw0KGgoAAAANSUhEUgAAARkAAAEnCAYAAACdYDfKAAAABHNCSVQICAgIfAhkiAAAAAlwSFlz\n",
       "AAALEgAACxIB0t1+/AAAADl0RVh0U29mdHdhcmUAbWF0cGxvdGxpYiB2ZXJzaW9uIDMuMC4zLCBo\n",
       "dHRwOi8vbWF0cGxvdGxpYi5vcmcvnQurowAAIABJREFUeJzsnXmcW1X5/9/n3myTzGTWttOFtrSl\n",
       "0JaldGOtoLIvooCyf1HZRL8gKF/9qnxdQJCfoqC4gaKiAspeQRRBRKHI1toCLdCVLrN0prMkmaw3\n",
       "957fHyfJJDOTm8zaKdzP65VXJmd9bu7NM+c8z+c8j5BS4sCBAwejBW1PC+DAgYP3Nhwl48CBg1GF\n",
       "o2QcOHAwqnCUjAMHDkYVjpJx4MDBqMJRMg4cOBhVOErmPQwhxHNCiMbM30cIIW4coM1LQohpZYw1\n",
       "QQjxlhCiUQjxSSGEFEJc2afNzEx5ZRnjeYUQJwshbhmg7lghxHohRFwI8WchRH1e3alCiDeFENHM\n",
       "9c22qxNCaEKI54UQx5aSycHowFEyeymEEFsyP6j8VzSjBM4coIsXqBVCVGYUy0tCiJeABcCf8sr+\n",
       "r8iUtwA/klK2Zj5HgRuEEDVDkP0DwG7gLuDSPnUNwKPAV4FGQAC3ZeoagQeA64FJwGbgTrs6KaUF\n",
       "fAa4UwjhPO97AM6XvvciJaU8MP8FvJqpuyG/oRBiElANfAg4Cfgu8IfMqwNYkff5930nEkJMAE4B\n",
       "fpNX/DawGvjmEGTfBBwEXDRA3bnAKinlY1LKEPAt4CwhhAeYB0QzdT3AI0B2JVO0Tkq5DtgCnDYE\n",
       "WR0ME46S2XvhFkL8Nf8FHFyk7WXAUuBFlJJpQimJt4E46r9+9nPPAP0/DLwgpYz3Kb8WuFwIccBA\n",
       "kwohVgoh+v2wpZTNUsp3i8i6FHgl7/N/gAqUwliDuu6PCyHcwBWoVQ8l6gD+DJxcZE4HowjXnhbA\n",
       "wZBhSClPAhBC/AW4GLgaSAzQdhbwL6AG+Cvwk7w6gVIW2fMlO4CP9el/CGrVUgAp5XohxJ2o7Uy/\n",
       "H7CU8qhBXE8WjSjFkh0jJYSIAHVSyreEECdkruFHwLPAlzPtuorVZbAaOH8I8jgYJhwls/fCI4T4\n",
       "dubv+cBXUHaSDwzQNglsB5ZIKZ8QQiSAAwdol5ZS/niA8npgaxE5vglsFEKcCqwbhPzFoNN/ha0B\n",
       "lhDCl5nvHWAlaoV2HvBbu7rMGLsz1+FgjOEomb0XOvBS5u8zgFVAN7Ctb0Mp5ZV9vCvnopRO39XJ\n",
       "3cBASiaBMhz3g5QyJIT4KvADRsbm0QXUZT9kbDGVQBvKSDwVWCqlNIQQLwK/E0I8BHy6WJ2UMoba\n",
       "cg20ynMwynCUzF4IIYQXSKNWKIehfoQHAj2ZlUo5w5yHMubmw1+kbROwj81Yv0J5cD5bzsQl8AZw\n",
       "dN7nZSjj9FaUcfffUkojU/c0EAAmlKjbBkzLXIeDMYZj+N07cTCwETg18/la1KrmkkGMca2U8vD8\n",
       "FxAq0vYFBt6GAZBxE1+NMrYOF/cDy4UQZ2e8Yt8E7srM8TLwUSHEIiFEAGVzeRe1KrOrIyP/yhGQ\n",
       "z8Eg4SiZvRPnowyboLw+j0kpHyOjJKSUBwohXCgjarrIGLfl82UynJnqIm3/DdQJIeYVE0hK+SLw\n",
       "cH5ZMe9ShmwngX8A9RkCn8yMsxG19bkd5fXaSq+b/HeoLd2TQDNwOHC6VEGRitZlvE3nAPcVk9/B\n",
       "6EE4Qav2PgghbkL9CL+GsoNk3c77SykrhBDPAzOA1VLKj2b6HAucLaX8byHEL4GHpJR/zRvTC2yT\n",
       "UjYWmfM84Cwp5dmjdV2jBSHEVcCBUsqRWGk5GCQcm8xeCCnl1zJ/XpN59a1fXu5YQogPAb9AubIf\n",
       "sJnzfiFErRBiopSybZAi7zEIZaDyAF/c07K8X+GsZBw4cDCqcGwyDhw4GFU4SsaBAwejCkfJOHDg\n",
       "YFThKBkHDhyMKhwl48CBg1GFo2QcOHAwqnCUjAMHDkYVjpJx4MDBqMJRMg4cOBhVOErGgQMHowpH\n",
       "yThw4GBUMWZKRghRIYSYO1bzOXDgYHxg1JWMECIohHgM2AV8Ka/880KI7UKId4QQJ+eV3yKE2CmE\n",
       "eEMIsXi05XPgwMHoYixCPVjAHcATqEBCZLL+fQ6VWGwf4BkhxAxgOSr04kzgg6ggRAvHQEYHDhyM\n",
       "EkZ9JSOl7JFS/p3CCG0fAx6QUkaklOtRYRIXA2cCv5FSpqWUTwMTMpkBHThwsJdiTwWt2gd4M+/z\n",
       "TmBypnxFXnlTprw1rwwhxOXA5QCBQGDxAQcMmFvMgYM9A9MAIwaWAZob3H7Q3blqS0oMc+hxnISZ\n",
       "QqTjCCuN1FxIVwVS95Ts4+ppBisNmhspNISZQKSTCGkhNR0VtwywTAQWKQs2dlj43ciOmBzygmRP\n",
       "KRkPahuVhQWYNuUFkFLehcqjzJIlS+Rrr702epI6cDAYhJrgnSfBFwRPJaR6IBGG/U+B6qlEEgbt\n",
       "keSQh9cjzQS2/g3TW4V0BxBGFD0ZIbrvCZhVU2z7+Dc8guWfBDKNu3MjWjICRhRNprFcfjQziUQg\n",
       "rDgtEYvj7omhC5hZM7wNz55SMi2oHDlZTENlLuxbPgW1ynHgYO9A02qlYLxB9Tn73rSaiHci7ZEk\n",
       "eqQZb9tatPhurIoGkhMPwayaMmC5Ht1FYPOT6NEWzMBkTG8NZlUj0lMFgPRUYQLetrXEBlAyeqSZ\n",
       "4Ou/Rkt0IKSF3rkRPRVGj7ejrCXqf7hm9AAWAplTMDvDFk9cWMUX/xod1leyp3gyfwbOFUL4hRDz\n",
       "Ucm81mTKLxZC6EKI44ENUsrOPSSjAweDR2y3WsHkw1NJPLQrp2ACW/+GSMew/BMQ6RiBrX/D0/qf\n",
       "fuXBtXdT++ptCCOCWTkVYUQIbP4Tes+uguGlO4AW391PlOxcSmlNwJI6nshWRDqGykqczrxL1KZB\n",
       "YlqS0+/LKJgL/CyfLpCSYcXoHfWVjBCiCpXbuArwZaLmXwb8HpXWNAFcmkld8ShwDLAFldDLyV3s\n",
       "YO+Cv0FtkbIrGCDWEyIsVLYZb9tapJXG07kBkQwjvUHSFRMIbH6SVMMBBSsUd9cmpDSQPpVQU/rq\n",
       "MCvq8bW8RE/dnNz4woiiJcPUrrwpt+KJzj4FV7QVaaXRUxHcoa24uzcgLYlmRQYQXOkRXRPc9GEf\n",
       "fjcsn6HUgxCUlS2wGEZdyUgpI8CcAar+Adzcp202SdjVoy2XAwejgqmLlE0GwFNJrCdELNRJct8T\n",
       "AHB3b8Yd2o7p8SO91WAm8HZuQEt0kJxcSAvTUhGkq6KgLB3cF2/bfxCpSM4m42lfj6drI0bVFLXi\n",
       "SYWoWXMnaW8tAhOpedHjXWhGlAFMnAC0RCxe3GFy1nw3J87JqAVXJdJKk7Z6jAE7lQnnWIEDByOJ\n",
       "6qnKyOvyE+9qIZx2FxhltUQIS9PA5Qeh3i1NAykRRqHtw/JUIYXVZwKT5IRDkC4/Wqwd6fIjjChG\n",
       "1RS14tF0pK+OtK8Gb/ta5UWSBumqKfT6VLS8FzkbzGV/irM7lp1HYFkWlqeK7sTwTBZO3iUH71+E\n",
       "mpShNrZbbXOmLlJKYgQQN0wiCQMKFyKY3iCenma0nlaEZSI1HcsdIFUzGz0ZwYTcCsWonYO3+VV8\n",
       "7z6NMA2k7sby1BJaeBma7KWd6bE2TH8j7q5NiHQc6aog7WsA08DVvR3v7tcR0oScaaX3PWfkjUj+\n",
       "fEEVDX4BuLA0nXTdfkT3+wg9qS/1MAw4KxkH709kXc3pGFROVO/vPKnKhzlufN3jhCOhAsOuHmkG\n",
       "wPLVIczs7kOtLIRpkK6eSXTfEwpWKPEphyPdSktlzSLCTFHR/FKBgVhPdOJtXwOWgXT5wTLwdK0H\n",
       "KfB0vQMIJC5yPJiMkmmJyJwX6fFPTeaofSsAF5bQldeqcjKWrwZNoA/nK3FWMg7en7BxNQ9nNRN/\n",
       "91XCVoW9i9ldgVExBXQfmAlc8S4AzKopBW7o2pU3YdTui/T12mrcbWtwd28kOfWw3PjpwGS87W9g\n",
       "VtQq8p+VUorMiGG5K5AV9ejJMNJMIky1JbM81Ty2sVt5kT49hcPmTyUtwXQFcCd3k5hwKGZgAp6O\n",
       "9bg0R8k4cFAcxbZEsd1qBZMPTyX0lJmBd4BxI96JxDtbkP4JBU2lO4AWa898skgFpuBveh4t0Y3l\n",
       "qyE2dTmFHFQFPdqCRMe7+3lEqgfpqQRTImSKyrceREt0YvnqkIDpq8Pbvg5hxJCWROoedCOMxIUQ\n",
       "Qi1iLAuJAGmhpcJcucjFiQfNZXp9BSKqeDPCm8TwT0WzUhDvxHL76YzL7kF+6wVwtksO3ruw2xJl\n",
       "Xc35SPWo8iGMG1/3OJ3NW7EqGvoZcIURxapQ42rJMP6mf2H6qjEa5mP6qvE3/QstGe43jZQavl2v\n",
       "gGkg3UFlYwltQQvvBDOGVVEPZgxv86u4uzaSrqjH9NShWUl0IwxIBCmQSaRwI4VOa8Rk+a/ivByd\n",
       "jumvY2YgjtR8GLX7gbeKdKAR3B5MXy1CaKQmHEzKxPEuOXAwIPK3REJT776gKp+6SNH9k2GQlnpP\n",
       "hFX5IMeNCT9hqwJv21rF0k1GEKkISAuRiqAnIyQnHgKAK7wDqbtB8wACNA9Sd+MK7+g/jyBjPpEZ\n",
       "c4pEyDRoWkF/YcZBSnD50BO7QeiguTKdBSAQZpzWcIrj7onxRptJIhFH6hWq1ggjPQEszYWWjiuX\n",
       "d6wda1jsmF44SsbBexdF2LfEdhe4mulpU++Z80WDGTeWShOOGznWrVk1pZ8Bt8CFbfSQqp0Pmlsx\n",
       "bzU3qdr5GVp/IQQWycnLQPegpSKgezA9tUhvTUF/dDfoXhAuhDRA6EjdC4DUKgBBS8TguHvC7IxI\n",
       "nrioluXTlSKyXAE0SzF/01X7IKSJsNIIK0Vy8mEMtI0bLBybjIP3LgZg3xZsiaqnDs3I62+AltdJ\n",
       "tbwBkQ4qfbUk6+ZhTJgP9Dfg5sMMTMYV2ooea0NL9WB5KpHSIl29b7+zS5a7CoQkMW15rr9v6zNo\n",
       "8U48La+hGTEstx9pmUhdR0t2Zk4JpBACQAchaIvpHHdPhJ1hiz9fWMnRM9wYniDS7UMzE0gL3KFt\n",
       "CKMH6Q5g+XWE7sXb+hqWrx6PjnvAiykTzkrGwXsXw9kS2UFzkX7rz6SiXVi+OkiFCLz7NyxR+n92\n",
       "smYO3rY1kAxhuQOQDOFtW4Pha+h3dkm6/LgiLYhEpwq/kOhEWElc8fYcH0ak4+hGD65ECFJRTFcV\n",
       "YIIZx9IDCDNOtcfgkEadJy6s4ejpGhYaemw3erQNLR1HGIYiA0oNmTaoaHsVUjGEcJEOTKKuQtQM\n",
       "5+tyVjIO3rvIbomaVqstkb8B9j962IS75NYXSVbvh2YmlfHXW0vK30hFyyskZh1v29fbvYnEhENw\n",
       "x9sQqSjSGyRRMwd/68tE55xa4PpOTZyPWVGHnuxG72nCDExGWpJ0YDIaKUgb4KnAsjJHBdx+hART\n",
       "1CJkitZQDJcvSL0nxb3nVmJ5AqSED92KKyIgkK6coVY9msCqqEVLdGNqQXQjTKxxEVZFHWmryFmE\n",
       "MuEoGQfvbQx1S1QEkYSB7NyBWTkVU8ujj1gmek9pIp8ebcGsnYNZv39BX/fOF5DuQEFb6Q5g+YKE\n",
       "l3wuVzZt458wAxOx8uZ2GxvBShOb85FcWevuEB/98S+onTyJv1+xP9LfoIzfUmKlY6Tq5+fkNSun\n",
       "QmY8d/vroFco93iFOphpSUfJOHi/Y6jHA3augvUrINwCwckw/wyYVjx2fTbgVG1gMu7d63CHt6Gl\n",
       "olieAEZwBkb9PAD86/5I9bp70GMdmP56QgsuJrbgHEDZZPSuTb0rGU8Ao2IiZmAS7rZ1eDvfQkt0\n",
       "YWXsPNLlKzhdbepeRLhZrUYyRw2kkUS6vLljBS09cMYtz9LcneLWLx+HZr2Otut1NJmCZBQhTTzN\n",
       "r2F5qzArJuLq2orQNaTuQ5gJLEIquBXwxLvasBm/jk3Gwd6NoR4P2LkKXrwDUhGomabeX7xDlQ+A\n",
       "/Ih2hq8BX+sqMKJYbj8YUXytqzB8DfjX/ZG6V78HRhQzMBGMKHWvfg//uj8Cyibja18LybBauSTD\n",
       "+NrXkvJPJfDu3yAV6rXzbHgU/7tPF8STEVYad6IVkU4qb1I6qZSHFJDsoiUiOeXmp2nu6OH+b3+G\n",
       "DzZ0YgofrmQHIh5CM2MIK42WjqGlk7jC7+Lq2QHJMHq8G2mlcfe0EKvYh1vX6Hx7tXvYjF9HyTjY\n",
       "u2HHhbHD+hXgrwV/vdoq+OvV5/Ur+jXtGzLT3/oyqeA+4K5Udhl3JangPvhbX6Z63T2Y7gD4atW4\n",
       "vlpMd4DqdfcAyiaTnLgQvNUq9IK3muTEhVS0ryJVNxe8tYr34q1Fai5EOlpwulpIE8tdDS4fwjLA\n",
       "5cOsmIAM1IOnhqvuXklzd5I/3vBJjp5TRbxxCbpMkPbWIzABgXR5sDyVoGlItx9wqe9NJhFCZ/v0\n",
       "M/nMxkN5aIuL8+cYw2b8OtslB3s3hno8INyiVjD58NVAd2G014Fi8urRXZjBGQV2EWWTaVZbpEBf\n",
       "eYLo0bZM3xbSNbNJ180t6Otte4PEtOUFdh5X5wZEupBsq5kp8PhJNC7pbde9BWHE6Jn3cb590wdp\n",
       "3rWbxQfNRd/0BMnJi5G6F2PiwehNYaTuIxsFT1hphO5FZN3k0mJ9p+Tatw8nlISvnXIAH543ie9c\n",
       "5jB+HbyfMdTjAcHJkOjzDzrRrcozKBb02wxMglSfvqluzMAkTH89pPocEUiFVTnKJiNSoYJqkQph\n",
       "+uv7lUvdjeUqpKhYugerT6C65u4YX/9bB6ZpMnVSA0sPPgBhRNVcRhTLVwvpGJbuAzOZYQOjMh1I\n",
       "Cytz0vvx1mo+9c7haEju/ECSD8+bNMAXN3g4KxkHeweKGXenLoI196ly01DsV38DLCwRuXX+GfDP\n",
       "70LXNnL8fc0Nx6gkp5GEQWTtE0x86361cglMIjzvPBKzjic87zzqXrlVJRLz1ECqG1ciTOfBl6PF\n",
       "O2l47ksINuWmkrjYfex3AYjOPoWaV2+H8PY81r+b0IKLqV7zC9zR7Yh0GulyYbjrwRvA//YjaGYS\n",
       "S/di6YpAp3dtQOCiORTjlB+/zc5Qmo8vv5P59ZpSHu5KjLo5+Lc+i0yn8Ia2INHQ0wkszQ0SLJcL\n",
       "IU1iFdP5/jo/v++ez9LKdr5zYCvuuWcOz6WUB2cl42D8oyzjrujzXgJVjdCwn/qvbsTUe8N+UNWY\n",
       "UzB1r9wKRgSzcgoYEepeuRXflqdJzDqezmXXgbsKvacZ3FV0LruOxKzj8e58CVGQxxAEabw7XwLU\n",
       "KsiomQOaS9lzNBdGzRxcoW24w9uQlsqBJC0LT7wlE4fGzLiYTXQzQap6NmheWjtDnPKTDewMpXn0\n",
       "6qUc0OgHIdBju9AjO7HQQRroZoxU1b5YgQbMijos3YNZUYtRux87pp7G5e1n8fvug7iwfiM/nfcG\n",
       "de6RUi+Z65dyWIHI9zicvEvvA6x/PEN6yzsekAyr80ZQvG7+6YMeMy69tEw5jol//jQYEfDV99Yn\n",
       "OsBdRdupvyo67PSfzUZYaXB5ewvTSaTmYvuVm/Fv/oti82ZIdwAiFaH2hRtUgjVPrzyu0LtINBKz\n",
       "TsiV6V0bQPOyYdYnOftz36B5VwePfn4pR86pwZi4EHfXJpVUzkqhJ0IkJi9BIJC6h2TjYhUb2OUn\n",
       "NvtkNu6K8I2HX6MzKfjKojQnT7dy8mTbAMyeWLVKStlrBBoknJWMg/EPu4OOdnWDHDOGj0hnC6CM\n",
       "u3j6sOk9NarcBsJKQd/jBcKlygEtvntA0p1mRHuVZq4ic+o6fyhcaKkIW3e00B3q4b7br+foGb7e\n",
       "yHnpuDqh7QqgJbpB9yF1H1rGTpQ9yPn3t3Zx9R/WYEmLOz+QzCmY/DYjBccm42D8o9RBR7u6MseM\n",
       "pdJEwt3ITNyXnHE3fyWTMe7aQWoetZLJp5bINFJTaWSz8WYKVjJGVJ1jSscKVjIIgexDUUmkU3g9\n",
       "VRx+6HxefvSn+Ct8WOtWqfSzoLIbWCmwUli+GjATCARWZlwzGeVHmydz36a3OWhqNbcc1EKDK4ak\n",
       "jzwVZcTVKROOknEwfAySOTsg7Fi7pYy7eSlIetPCHm0/39RF8NLPYPcGjHgYS/fjqd6P8MJLAJRx\n",
       "99/fQcY7UArDRFjQecTlQHFWb2TWRwhueggyZDlkGrCIzFKU/+TEQ6h97np8bavQjDiWu4LExMWE\n",
       "511A7dpfYCXDanuDVMZZBL4tf0PINM09ghN+G+FzJ83jEm6jNhXB8lRhBCajW0ncbWsQRgJ3pAlh\n",
       "xjG9dfg3/xWQWL4Goru2cl3zMbwUb+BC30q+JF4kkTgdl5lAJDvQ491oqW5AJzbzOPRIc9HUt4OB\n",
       "s11yMDwMkjk7IMpm7Q5g3B1qXJhIK+zeiGGkSOIBK427e1NuO2RMWECicSloHrTMFiTRuBRjwgJb\n",
       "Vm/XibcRnnM2UnOBTCE1F+E5Z9N14m0AVGx4nEDzSoSVUjR+K0WgeSVaMkIqOAOh6QjLRGg6pqca\n",
       "nXQmdSyccE+IHd0GC3ztYCUzQcOTeLs2YGoBZUxORiAdQ+o+pMuLMHoQqR7eSU3k3K0nszo+iZsr\n",
       "H+RrE/+NOx2hZs3Pce1ai5bqwRXZDlYayx1ApOMFAdCHA8fw62B4+NvXlWLx520rYh3gqYITbihv\n",
       "DDvD7vzTS9cPUe5kLERMr84ViUQn0l1F11FfK2qglS4/1avuACOqWL1ZJLrAHaDlE0/aTjv1d0dC\n",
       "OlG4LUqF0YwY0bkfzWWLBKhc80uENNkpGznppxvY2Z3iiQsqWT7TS3zfvsZgD6FlX6DyrQfU+Lob\n",
       "d9cmLLefv8Tm8bWu06giyk8qfs7CijbSVfsAoEV2gOYhtt9HEGZKbbfSMdC9pOrmIl1+Jh/xCcfw\n",
       "62APItyimLL58NWo8nJRyng7VOOuDVLdTcRE4ZjSU40eVXIXNdDGd6PHOgqVBChWb6yj5LxaItTf\n",
       "wOvyq7CXnurCtlaKmKHlFMyfrtiP5TPcOftLL3S0DCFRS3Sp8TUPMhnj++Hj+ELnx5jnamFFxU0s\n",
       "9LQi0qlcTyHcaKkoWirLBgZ0n0qhO0IGYEfJOBgeymDOlkQp1u5wgn4PgEjCIOqZODDzNqDktgsI\n",
       "XorVawfLV61WCvlIx7BcFf3ksTQPfrfFJUc08Kcr9uOoWZUq5K/W15RqqrNIkGP3hgy4LPYZfhle\n",
       "xjmB1fx68kPUew0wE0iXJ9dTSgPLE8DyBBFmIjNcAukNjpgB2FEyDoaH+WdArEttkSxTvce6VHm5\n",
       "KBXBbgQj3GWPCkRnn4Ir0V0Qdc6V6CY6+xQA24DgoQUXoxtRtUWyTEh0oRtRQgsuLjl/aP7F6EZc\n",
       "KSkrDakwuhEnst/HC+TZ1bKDV0JKaV19ZAVHzfRBKowQOqanRnF2LBMSHQgLkg2HIFIREpMWsTmi\n",
       "c+7WU/h3ajY3Vj7MjYEHIDiTVHBfNDOFJdw5uYVpkZi4mHTFBIQRRSQ60VMx0hUTCgKgDweOTcbB\n",
       "8DHa3qVy6stA37NIntb/ENj8ZC5WS3T2KaQaD83V9425m5x4SM7bYhczphQqV91J9fp7VF5sXzWh\n",
       "+RfTs/iKnDztOzdz2i1/J2LovPyLLzBp030FbdO1swj2Oe5gTFiAt20tz22N8q036ghoBj+Y/iKH\n",
       "VHaBJRFCqng0wk1g53MFcienL8fbthZX1yb0ZBjLV41RMzt3vcMl4zkubAf2KOfHPW1xaaUyXCUR\n",
       "aYWdr/YqsuCU3v52Y2cUYKq7ibRnIp48ReLb8jSBtx9Ay/BUTOEuUDLu9nVUvv1g7sdsCVdOyaTr\n",
       "55KYelROQaXre09V1z1xBVXbngIMwE1kxol0nnZnrt7y1WB5axCmieWtUXwWQIvtpuPdNzn9lr/T\n",
       "3J3i9z+8AU9wQr+2lr8Bo2Y2ltuPGZiM5W8gFZjMXS1J7l27nQUNOj+YvorJRgeWq5J0cB8EUtmD\n",
       "PBWEFl9VoDB7U+jWkK6dU1A3EnBWMg6KI+ta9gX7cFDKTB1S7jil6rNucn+tMionutWW7Mir1Bmk\n",
       "Yn0jrfDiHSQ91cREJSIVwpXopnvhFfi2PE3t2juxdE8uXaxmpug65ArCR34J35an1SFIX7DwEOSy\n",
       "67D8DdSsuZO0rwbpqS4Yt/K1n1O17QmUm13xa0ASmXEanafdmXN/m+6AMh6nwuhGlJ4ZJxPa8AIn\n",
       "/vgtmruTPHL1Yo6t60ZYcdL+ht628S7MwFSSkw/JzR2LRvli+Fz+3ZzmtNlubvD8Hs0fBKnh6VqP\n",
       "SMYwq6aRrpyIkBap2rkIzUU046EKbP0bprcK6Q4gjCh6MlKQxsU5VuBg9DDUgFCDHadUvV2AKbu+\n",
       "61coBaNX54I+pX01BDY/SfCte5WC8QRA18ETwNI9BN+6F4DgW/crBePLzOmrJ+0LEnzrfgKbn1QK\n",
       "Ji+YVHZctYJRSdfQ9FwSNlVO0aBWVRsf5Pv/bFcK5roPcuRBc9DSITBTBW2FNNGjO3Nzb7amcO7W\n",
       "k3m1JcXnPzyHGxr+geYPIn11uBK7sby1oIEea0H66pDuAK54O6a3Cm/bWrxta5WC8VSB0FTu7kzd\n",
       "SMFRMg6KY6Rcx8N1Udu5yW362rmpNSOqVjD50H2qHPuzS3q0pZ+7udf9bUC/aJV6ppyi7m8tHeeG\n",
       "c5fx96+fwJH7q6BXwjLRrD7J1aRUgauAf3TU8l+vH0iP5eYX+/6TMxZOxRXrlS17jkkg0AzlOcqe\n",
       "Y8q6p+1c9SMFR8k4KI6Rch0P10Vt5yYv0jfurrV1U1vuAGRdtlmYCVVOicBUxQJPBSYDbugXicXM\n",
       "lNPP/d0SSnL+nWtoTXjwWBEW7NNL8JOajqX1+YkKQVrz8vPtU/nC23OZWRHn/gNWsnBiZvw82bLn\n",
       "mCQSy60UqjATyl2dcU+Xyt09EnCUjIPiGCnX8XBd1HZu8gH6xnu6aKuab+umDs+7QK0IUlEwTUhF\n",
       "0cwU4XkXAOrskisRLnAVuxJhwvPOsx03MuNE1KGjlOpnpVA2mRMBCtzfLV0xTv7Bqzz9dog3A8f0\n",
       "m89yVYPuKXCVRwjw2dTV3LljGqdPaONX+61kqtWac73ny5b2NaAlu8AC0z9ZJYczogXu6VK5u0cC\n",
       "e9TwK4T4AnAlyst1q5TyJ0I2EKYTAAAgAElEQVSIzwNfBOLANVLKv9iN4Rh+Rxkj4Doua5xS9XZu\n",
       "8ry+cXctbVXzc0ZLOzd18MXvEnzr3px3KTzvAsJHfik3pW/L0/1cxdnkbXbjlvIu+df9kdiLv+Dk\n",
       "2/9DUyjNvbf+Dwede/2A82nxzpyrfJN7P66MfIqdMRdfnLGZCypXY1X2d73ny2a5C71LpjfYz4Nk\n",
       "56qH4Rt+95gLWwgxE7gaWAD4gC1CiOeAz2XK9gGeEULMkFIOK5CxgyIoR4HYuY4HM06pJGul6qsa\n",
       "YdrS3jmqGvs1iRsmobRBXtQCtNhu3N2b0aO70IwYWp49yfJWIz0BpJVGegJY3kI7izFhAT3y47kf\n",
       "nzFhQa7Ozv0dm382LmHklEVs3tkF43a9+Swfu+01mkImT1xUwyG1HXShlIOndRWaEUWP7MRTewCJ\n",
       "WceTmHoUL7TAV3Yejsvl5scHb+NDLb9E61TcGcPXgBmYlFMUoGFUz8Sonk52s6IlOgEQovdwaV/l\n",
       "Ep/x4RF1XWexx1YyQoipwEpgHhAEVgE/BKqllNdn2rwIfEFK+VKxcZyVzBBRjnvaznWcv4oYCTf3\n",
       "UGUFeOdJYlqAsOkpcMG629cVdUO7urZQt+p2THeFOuuTjqEbcToXX0PP4ivQI81FXbuBN35f1P2d\n",
       "ajy06JyJWcdT+9S1RP/zAB+9P8r3T6ri6OkaYJGonIMvtr1wzHScRGA6P/VcxE+b9+MAf5gfB37D\n",
       "jOgbmL6qXrlTPcSmLie+3ymIdBJvy8toEpJ1B+DtfBtpqAOPlrcSzbJI1s1FM6IICUb1tKKu6yz2\n",
       "2pWMlLJJCPFN4CWUuj0fOAt4M6/ZTqDfIRghxOXA5QDTp08fdVnfk8h3/ULve9PqXuWQ7zqG3vf1\n",
       "K3qVTDnjjKasoBSM5QOhckibgLdtLZVvP9jrhgblhka5p92dbysFk/X0eIKYQPX6e+hZfEWha5fC\n",
       "cQvc3wB6ACsFwbfuJdX1dtE5m6sPZcrGFQSrXLx05YTeVUU6ia9nA5Y7WDBmjyH5UtcZPGXO5dQJ\n",
       "u7l+9hYmrHsTKWSB3NKI42t9ldiCc/B0blAudSS+XasxglNxJ0NgGZjV0zHTMVzxdkQ6jgSkZ16/\n",
       "64vlKZkqX2G2hKFgjxl+hRBBlGL5PPAD4DrAg0oKk4VFf1M9Usq7pJRLpJRLJkyYMBbivvdQjnu6\n",
       "nBPWo3BCejCyxkO7CJuegqrcaWkbN3TR09AJ5Zmxc+3aub+LzdnWvJ1zTj+Bzz0eUuE487YtuXCd\n",
       "eWNuM+s5O/l1njEP5bp9t3Hjfpvx6RKRNnKhNnPQ3CrmDfSeptZ9aouk+1R8GsvIzSGSYUin0MxC\n",
       "K0Rf13WVz82EKi/DxZ70Ll0IvC6lfE5K+etMWSuQ/+9vGrBjzCV7P6Ac93Q5J6xH+IT0YGSNu2sJ\n",
       "ierip6Vt3NBFT0P7lF3GzrVr5/4eaM7WtlZOumM9rc3NXHSoPxMtLw/Zz5kx/5XanzND17BbBvmN\n",
       "9/tcMKWVrE6SLreKmpcPy8ByqdxJudPUZkKluzUTKvuB5s7NIb1BcHmw9MJVSr7reqQUDOxZJZMA\n",
       "Fgoh3EKIKmAu8AxwrhDCL4SYD9QBa/agjO9dlOOeLueE9QiekB6MrFk3tZ0L1s4NXew0dGi+Oklt\n",
       "P25x93ffOVtbmzj11pdpChn8+g+PcMgHzwYsFZ7TNNU7FonKuYh0ijsjR3Np5FKmit085v0mS4Lh\n",
       "Ale5EZiOkKJAbiFNEo1LEakIRnCGcqnHu0hMWoQr3oWlubHclQUnrE1fPdJbP+D1jaSCgT1r+PUA\n",
       "vwKOQbmr75FS3iSE+CpwGUoJXSqlXGk3jmP4HQbK8QqVc8J6pNzcZcra101t54K1c0MXOw2dhd24\n",
       "du7v7JxaTyvLv/8mb++K8+s/rmDJ4UcCUPvUtVRt+ZMKwal5iMz6CM0fvJXb7lvBMx31nKa/zE2V\n",
       "D2DM/wSJWcf3c5V7ml7pJ3d87ukF3iUFi3zvUt8T1kC/6/NPmNFPwQghhmX4dQ5IOtirUCx17HjF\n",
       "ay+9CJBTMAOhuTvO11es492OKJctn8UnlkwrtNmMEYqtYIarZJxQDw72GuwtCqZtVysvPPcsZ55z\n",
       "vq1yAXjt3U5u/PNbAHznzINYOrPOtv1oYaS3SPlwlMzeinK2KGOxjYHytlRv/wVW/06R+6oaYdFF\n",
       "cMDJvfXP3wGr7oZ4N1TUwOJLYPlVuero5pdJv/EYDQMwbO3Yt3bBpUptl+y2RMXq2na18l8nLKGl\n",
       "I8x57/4Pk4I+IrM+kstWkJUp+OY9/KbzQG6Nncy+lSbfPOcoZne+QPDPAwejKsbGzSJ/a+cKN6m/\n",
       "U+F+W8SBMJoKBpzt0t6JcghwY0GSg/IIe2//BZ77DlRUg7cGkt0QD8GxX1GK5vk7YOX3wFUB7kow\n",
       "eiAdh6P+B5ZfRXTzy8gX7xgwfgtQNLaLq2PDgLFbOpf+D1qi25aMF3zxu0UJd8CAdW/tcz5nfu3X\n",
       "NO8O8cQFVSyfWZHLu5RNi+Jf90d8r/yQr8bO48nEwZzofZNbAvciZ34Y/65XCkl80Q4SjUtJTltm\n",
       "S5jLJw66OjZRteFhLJcHs2omUiYLyIB9UY6CcWwy70clU06KkNFIIzIQykmJct/5Kq903zbuKjj/\n",
       "Prh9oVIqvjxafyIErgoin3mV9F+/jjAiBelCsulLgKJ1vqaVRVOXaMnuAVOT4PLRdNGLTLv7EISZ\n",
       "6iXHAaSiSF1xcvrWtXSEOf5Xu2kKpXni/EqWz87j9eTlwjbvO4+r2s/gnXQj19as5NLqVxHJLlzR\n",
       "XSQnHlSQsTI/1Unu2vrkqQYK0rdUv/Yj9V26fCBcmJWTi+bwLncFM1wl45zC3htRDgFuLEhyUB5h\n",
       "L9KqVjD58NaoclBbJHcfWd2VmPEu2iNJ2/gttnU2qUtKkvFsCHcD1T292aQ5lOaJ8wNqBZOPTC7s\n",
       "1du6+HjrRTSZtfx84mNcVvOq4r9k4sn0I/HlpTrJXdsAsV7yiYNaohvcATWnmbFfDZDDe7S3SAXy\n",
       "jcksDkYW5RDgxoIkB+UR9qoa1RYpH8nu3kOOFTVqi5QHMxUhnTmwaBe/xbbOJnVJSTKeDeEuvy67\n",
       "E/ivhR7e/OI+HL1vf7KdtNLcbZ7Klx5+nXo9zgP1P+cD/ncLZLJcFf2Jg3mpTnLXNkCsl3zioOWr\n",
       "Uas3mUbqGSXSJ4f3WCoYcJTM3olyCHBjQZKD8gh7iy5SNphYhyKgxTrU50UXqfrFl6glfiIEpokZ\n",
       "70ameolxdvFb7OrsUpeUIuPZE+5UXUtHmCN/tI2VGzrRzBSBwy7O5LzuJdslDIsvGldws3EeR85u\n",
       "4K5jTWbLHf1kUilRComD+alO7GK95BMHY1OXq7+TISx3VQEBEcZewYDjXdo7kc3/3LRa5X/2N6gE\n",
       "8/kG3XLajASmLVZG3vUroHunWsEsvLDQu5T1Iq3+nTJIVzXCYZ/tLc96kVbdjRnbTdpbTWjxFTlP\n",
       "T6rxULoXXqE8SD1NmIHJdB9wTs6DVKwuW1+97h70aBumv57OhZ8tSF2ivEtdWL5qOg/unTPnRXrr\n",
       "XjQjguUO0HXgp3LlrZ0RzvryT2gKpbE0F12HXFoQi6Zqy59oMav4TOpa1ssZfOqomVxw2HSEWECn\n",
       "Sw4oUyJLHOxpxgxMovOIy3u9S7F2rIoGolOO6OddMqumEN33BHWoMziFnrlnqj7JLjXOwZeTmHX8\n",
       "HlEw4Bh+HYwj7E08mAs+dgqtzc386g8Ps/Two/q1WbOjm289vp60afHVU+ZxxOzS2SVHE8NRMA4Z\n",
       "z8F7AnuLguns2G2rYKSUPPqfZn763Cam1fq54YwFTK/zFxltbLCnVjBZOEpmLDAapLixItqVItGV\n",
       "28aGsBdJGETWPsHEImeMYOiEu+GE3xxo3PT+Z7F42eGcf9hkTtx+E/rbvXXd+3+c257ZwFPrdvEh\n",
       "30Zulb+l4pnKftkli52nGnC++rn95Ndiu/v1t/wN/UJuWt4g3upJVM8+jMLgBmMLZ7s02hgNUtxY\n",
       "Ee1KkejKbWND2Is0HExk7RO20eQ8rf8ZEuEuXT+3aL9Syd36JmFrae9AT8fwfvgrAP3mbE+4+Iz8\n",
       "X9aHPFxV8RSfCb6I5q0qkCe24JyiSeNik5ZRue0vBWO64l2kK6eSbOxN5ObpeBstupt0cHKuvzvc\n",
       "gulvINVwQG9CN9PA3P8MKidMHfaz4fBkxjtGKkHaaI85EFb/TikPf71KgOavV59X/25wbYokZ0u+\n",
       "8RjtkaRtIjXANplasWRp1evuse1XKrlb/rgtkTQn/2wzZ97TQvDN3/Sb8zUO5GPhL/BuWHJH/SN8\n",
       "tnolWkVNP3mgeNK4qo0P9rsOpIne01Qgvx5pQViJgv5YSfSe1oKEbpq/jsr21aP3bAwCjpIZbYwG\n",
       "KW6siHalSHTlthmAsJd0BUl2qnhkdhHsVP3QCHd2/Uomd8uM2xJKcvJtq2nqTvLds+fiinfm6qSE\n",
       "+8IH86nWs6jUUjwUvIMTeamoPHbXqsh4hf2EBM0stFNpZrLfj1aTMtdOpOO43F68FVVqtQij82wM\n",
       "Ao6SGW2MBilurIh2pUh05bbpQ9hLGibxSEcmGZp9IjVVPzTCnV2/ksnd/PW0tHfkFMyK/17IkdM1\n",
       "Na6/nlQyyv91HMeNnR/myIptPFD3c/YNmrby2F2rIuMV9pMCLL3QYGvpXvrklMQSItdO8wbwaaYi\n",
       "5PkzxylG49kYBBwlM9oYDVLcWBHtSpHoym2TR9hLpgzi4fYcYQ7sE6mBPRnPjnA3nORuoQUX88WH\n",
       "ttLUlWDFZw/iyGkyN+6m2Z/ivzo+ycM9B3FF8CV+GryHWrNDkfxs5LG71sh+H+/XD6FjVk4tkN+s\n",
       "mozUfAX90byYlY14jW4qqhsh3qm+72lLR+/ZGAQcw+9YwPEuwc5VJN94jGTnjn5eHrCPYAd7xrsU\n",
       "e+EXdKy8hyMmGblxX6k5iW8+vp54IsEtNSs4mX/3m9NOHrtrHY53qaJmMrXbnlRbU08l1M1QB05H\n",
       "4NlwTmHvDUrGwV7Dg2nb1covf/JD/uf/bsDtLgy0/cTrLfzo7xuZGPRy4xkHsm9DoMgoY4tRjwfj\n",
       "kPHGEcZqdTFS8pSzAln1e3jtbojuhkADLLkEFl9Y2KZE0KpIwqCzeSt+m+BLdisOsI+3a9fXrq7v\n",
       "imLjhBO54Jr/R2tzM2edeyEH1aUIbH4SK9LKze1H8XDbZJbOrOX6U+dR3/0mgZUDj1sqGFYxmQa6\n",
       "Rj26q1/b/GyROR5MiPH17OXBWcmMFMaKuzJS8pTDb1n1e/jnzeCtBHcQjDAke+CYr/YqmhJBq7IK\n",
       "plg2RrNqii0PJvvjK9Zfj+4q2heKB7TSYrsL+Cqtba2ceuvL7IxIfv3HFRw5s4KaNXfSqk/kuq1L\n",
       "WRMJ8un69Vx8wmHomig6rqfpFdtgWMWuNTz3LDw9TQXX6Glbj7t7E+mqyb1tIy0YNXNITZyPL1BN\n",
       "tZ6Eru3qXtROH5Vnz+HJjBeMFXdlpOQph9/y2t1KwVTUgktX795KVZ5FEQ4M61fktkgF2RiFprIV\n",
       "eqvwtq0F7HkwgG1/u772PJlevkprOMUpt62mKZTi0WuOYMnhRxLY/CT/MWdw3tvLeTsa4Ja5G7l6\n",
       "5jaCW/9iz9tZf09vZkrNpTJTuiuoXn+P7bUG37q/3zW6QxtBGgVtkQbu0EZ8lbVU+73qvsY61Apm\n",
       "vDx7feAomZHCWHFXRkqecvgt0d1qBZMPd1CVZ1EkaFWquylng7HLxgj2PJhS/Ycc0CqPr9LUGaMn\n",
       "YfDIF49l+VSVsPTxHV4+/c7huIXFbw5ez4kTOssat1QwrOJ9d/W7Ri0VpW8eNyS4zRjVFXn2IjMF\n",
       "fbJB7mluTD4cJTNSGCvuykjJUw6/JdCgtkj5MMKqPIsBglYlezqJeibmPttlYwR7Hkyp/kMOaBWY\n",
       "RCyiCHKLZ9Xz+vfO4MiZbhL+Rn749418vWkpiyo7ufeQdewfiJU9bqlgWMX7Tup3jZYnQN+MtC5d\n",
       "w1vRR/HrHuiTDXJPc2Py4SiZkcJYcVdGSp5y+C1LLlE2mHgXpE31nuxR5Vn0CVqVDLdjRDpyHBiw\n",
       "z8YI9jyYUv2HGtBq44QTWX7jC/z0z6vAMvFZ3YSiaT61+0JWrGnm3Hke7tznGWrNtsEFyioRDKtY\n",
       "3/C88/pdo1G9Hwh3rq3X6Mbn8ULD3ML76q9XCmW8PHt94Bh+RxLvc+9SqruJqGdiP88Q2HuHYGy9\n",
       "SzvFZBWuoWkHj15zBMunmqzV5nN126mEDJ3rTpjLh+dNGrLXajS8S77ELirqpimlXtXY/77CqD17\n",
       "jgt7b0CxH3s5+YqKoRwFMRII1EPVZECoeQIDBF/a9RbGluch0obPX0+yZk4/JVMKZmASycZFuR9Y\n",
       "fkxaUGd+vK2rcz/MdKBxwPxDfeHq2ICvaWWO4LbdbOCC/72T1uZm/nDDJRyj/YsV7QdwfeJE6r1p\n",
       "fnTuYvabVDVg3/zrspPX8tVgeWsQponlrVFxd8u41oGuMdV4KN6Zy6jI58GEmgb13e5pOCuZkUIx\n",
       "l/GURdC8un95cBq8/kf7fEXFUI77eSRc2GW6uc1/fJuUq3+ohSzL1c4FbVZNKVlv5+KG8vMuJaLd\n",
       "HHHrenaEBX+48VKOSzzOd4xz+G3yGJa5NnKH907E0kvpWXxFv1AP+deVnL68qLze7c8X7RdbcE7R\n",
       "a01VTiW44eF+12Es+29q9z/c/jlzXNjvExRzGa9fMXD56t8Vdf2WRDnu55FwYZfRxnj1bqVgBgi1\n",
       "kEUpF/ZwXNyDCQPhq6rnqmMb+dOV+7OEVVycuJbfJo/hYv+/+XX9fdR4zZyr2S6EhJ28dv3srlW5\n",
       "1AuvQwvUqaMCpZ6z2G5lE3Nc2O9xFHMZZ8+S9C2PtJbOV1QM5bifR8KFXaJNJGEgI222oQ2gtAt7\n",
       "OC7ucsJAtISSvLhJecA+fcws6idM5KyOK1mTnsn/q36Erwb/iktYha5mu5xNdi51m35216pHdxVc\n",
       "h8el4Q/W938eBrqvpqHc2AVzOi7s9x6KuYyDkwcur2osna+oGMpxP4+EC9umTZZoVyq0AZR2YQ/H\n",
       "xV0qDERLewen3L6a8+96nVjK5PHQTM4Jfw5L6NwXvIOPVqzt7ZjvarbL2WTnUi/xfRTrawYm5a7D\n",
       "49IIeF0DPw8D3VfdrdzYBXM6Luz3Hoq5jOefMXD5ootK5ysqhnLczyPhwi7SJnbg+TmiXanQBlDa\n",
       "hT0cF7dd3YbGMzjlp++wszPB7y49iB93H8GXQmczr0by68PbWSg3FHU1212Xnbylvo9ifVUIiG68\n",
       "RjcBtyj+PAx0X/0NaivruLBHB+PG8AvFvUh7yrs0Ei7sPm1iB55P6+RjC5qUCm0ApV3Yw3FxF3NT\n",
       "X3jmqbTs2MZ9Vy7kj4FzeNGYy9nTo1x+5km4dK2kq9nuuuzkLfV9FOtb2/lmb7gGu+dhoPsK49aF\n",
       "7SgZB2VjbwnXAHDrzd/inrt+xs13P8wftrrY3ZPkmuPmcvKBjaU77wHs6bQldnB4Mg7GBHuTggG4\n",
       "9svXM/WIM/jZ6xECPovbz1nIvMnB0h33AMazghkJlKVkhBCTpJS7+pQtllKuGs7kQohq4E5gOZAA\n",
       "5gFXAl8E4sA1Usq/DGeOUcFIMXvtxik1RzkyjIScz99B+rW78cW7mDrAlgKg9qlrqdryJ4SVQmoe\n",
       "IrM+QteJtxW0KbWFKFVvF8Wu/tH/orL5H7RE0nzmiQTf+dTx3LvfLfxhdYiDalL8xH8XjU9tH1TU\n",
       "vHJkKoZS4+bHsSE4mYqlF6tt6kDb5562sSFdjiLK2i4JITYBH5NSvpH5fBZwh5SyNOXSftzfAhuA\n",
       "mwAvKgPVX4DFwD7AM8AMKaVRbIwx3y6NVNwYu3HAfo5yZBgJOZ+/A/P575J2DRwbBZSCCW56CNBA\n",
       "uECmAYvwnLNzisaO2BZbcE7J+uCL3y2aI8m9600qm/9OS8TiuHtiNKX8HHvp//KGZyEf2yfGjdFv\n",
       "ont8g8rJlGo8tKRMxVAqNk5+3iVXRR0+M6yM6ws+Di2rCsmZLetUDN/glOJkyDHAWJHxPg08IoQ4\n",
       "XQjxVeBG4INDnRRACNEIHAncLBUSwMeAB6SUESnleuBdlMIZPxipuDF245SaoxwZRkDO9Gt3KwVT\n",
       "JDYKqMTyoIHLqwh7Li+gZcoVShHUStXb5UhSKxilYFrc+zDv8tt523MgN7l+yc3coRTMIHMylSNT\n",
       "MZQaNxvHxhVowOd19xIcV93dn5zZ0wxGwp4wuRegLCUjpfwXcAzwv8AyYJmU8p1hzr0A2Ao8LIR4\n",
       "RwhxK2r1si2vzU6gH3FECHG5EOI1IcRr7e3twxRjkBipuDF245SaoxwZhilnJGEg4122sVEAhJVS\n",
       "K5h8CJcqz6AUQa0kgc0mR1JLJM1x98Rom3Q4jRd9H+nyca/n25zrenbIOZnKkakYSo4b3aVWMG69\n",
       "t4G3BuLd/cmZ6RRYfRKg9CVM7gUoqmSEEIYQIpV9oVYVhwGnAl2ZsuFgIjAfuApYBBwFfAQK0spY\n",
       "gNm3o5TyLinlEinlkgkTJgxTjEFipOLG2I1Tao5yZBiGnFkjb6nYKABS82S2SHmQaVWeQclcRKUI\n",
       "bDY5kjRdx334hQRP/yrz9Z2s8H2dxdoGQBtyTqZyZCqGUuMSnKy2SPlIdkNFTX9ypssDmta/bdX4\n",
       "9JAVQ1ElI6V0Syk9fV6uTLlbSukp1rdMtAGrpJQ7pZRR4GngNxRmBp8G7BjmPCOLkYobYzdOqTnK\n",
       "kWGIcuZ7kUrFRgGIzMr8X0gnFWEvnQSsTLlCKYJa6VxF/XMk7Q4l2DLzfL4cuIXIgZ/gE/qz3Ou5\n",
       "kUmolVrPlA8OOSdTOTIVg924VT63MvIORIJcfEl/cmblFHD77AmTewHK5skIIQ4HZgC5dZ6U8r4h\n",
       "TyxEAFgLfADoAP4BPAxcAiwBZgIPAQukjZB7hCfzHvUuDeSmLkVYg7H3LjXFvXz4sSDaSV/B9NXw\n",
       "v3Uv8KnIzxDCAjR6pnyQjo/9tuS4Y+ld8s5c1uumLkaCHKfepTEh4wkh7kP98F8Bsp4eKaX89FAn\n",
       "zox7MnAryrP0GynltzOG5ctQLu1LpZQr7cZwyHgjg72FB9O2q5XzP/sl0kvOIxjwc9OZCzloWnXp\n",
       "jnsQezsPZqyUzE5gTsYDNK7gKJnhY29RMK2tLVzwtR8h55/EPpWCW88/bNz/ePd2BQNj58J+DhgW\n",
       "J8bB+MTeomB6EgYX3/44cv5JLJko+MUlR4/7H+97QcGMBMo9VjANWCuEWA3knkgp5QmjItV4x3iw\n",
       "yYyAnNHNL5N+4zEaitgkYGQOP0Jp245dLuztnTG+8cC/MRvmcEH8Ab7m2Ur4nV456p64gqptT6F2\n",
       "8m4iM06k87Q7S4471JzV5cBWwRQ7GFvuPR9vsaRLoNzt0jEDlUsp/zniEg0S70vG7wjIGd38MvLF\n",
       "O4oyU6E0UxdKh9YEpWDssirms2Dx1ECqG1ciTOey63i0a19++I+tBLQUt9c8wLKqzgI5fFufpWrb\n",
       "E6jcITqK8SCJzDiN2Pyzi46rxTttr81OplKKpqSCGSjj5sHnQHhn6Xu+BzKVjskBSSnlP4UQLmAC\n",
       "/TLBvM+Qz6SF3vem1YO7yXbjwPDnsBk/4p1I+o3HEFlmKihmKoqxmlUyBaxXUKzXTHlWyRSEkwQV\n",
       "TjJTHssomYKsiqCYw5nynsVXFGRzVPPUk5Jw19Nr+E3ERbptO7/e50EWVfsAvUAOT/t6QECOl6OD\n",
       "laJq21O4hNFv3DRkVietttc2kEzZvnZKpuQWKT/jJvS+r/4dHHhG6Xs+Us/fGKIsm4wQ4gsoN/MW\n",
       "lIdpO2Dr9XnPYjwwfocxfjy0i/ZIsiQzFcpjvZYKnQmUkVWxN5sjQNR08dnmU/lNzzIS77zA3RU/\n",
       "YVFjn+RlOTkM8lgVWckBo9+4ql8NenRXaRayTd9iKMsGUyTjJpHW8u75eMtUWgbKNfxeDcwCngAO\n",
       "BY4GnhotocY1xgPjd4jjx3pChESpTIa9pzhGIrQmUEZWxUmQUmzX7clKztl0HC/EptPzz1/yw09/\n",
       "iA8saLSRw01/UrgJuAvG7e3XjRmYVJqFbNN3IJRt5B0g4yaJDIu3nHs+3jKVloFylUxKStkBrAMW\n",
       "SilfAk4aPbHGMcYD43cI48ciXcRCnWVnbYSRCa0JpZnDKvRkmBc6A5y75QTaUh7Cj3yDX35yKUuP\n",
       "OMpWjsiMEwEJVkrVWSmUTebE3LgkMizaRAeuRJjwvPPKYBkX79sXg/Ii9cm4mQuzueii8u75eMtU\n",
       "WgbKNfx+HngVtWV6FugEtkgpywhIO7p43zJ+BzF+PLSLkKgedNZGGBvvkpSSB//6LHeu1znA3cbt\n",
       "+zyPMeNY/IvOKkuOPeldGpKbei/zLo15+E0hRD2K8r9BShkZ6sQjBYeMZ4/xzoOJp0y++9Q7/HND\n",
       "O3rTWr5y2oF86EMf2tNilYX3Cw9m1Ml4QohlQoizMvFfyGyb6oFhRcVzMPoY7wqmuTvOVff/h39t\n",
       "bEe8voLWR24m6PeV7jgO8H5RMCMBWxe2EOJG4EzgNeAWIcSFwGdRIRrOH33xxgEGExl+sPmp7bIV\n",
       "lMpkUGKuSMIgtPElassMA1lsOzBSW6q+bf426TKuf3MilmUh/vUzdv3nWR66/kyOCt+HufIf/eax\n",
       "227ZbdfsrnEwYTLz+1b53EwIvQn/LnJ/Sj0Hg3lOxjgzwWjAdrskhNgKHCiljAoh9gFeB34CfF1K\n",
       "aRXtOIYY1e3SYPIO6xXw6l32eaPzUYyUdeRVqr5Y3bTFJXNUZxVMuWEgi5HNSoWShPIIe/ltpDvI\n",
       "r7oP4geR45nuN9j+yPfYtWEtj37haJYdMnfAeezIfPG5pxclA7rb1xW9RsvfMKTvJ3HU/1IzcUrx\n",
       "+9PTZp8/vJz84kN5/sYxGa/UdsnIxHpBSrkDCDGOFMyoYzB5h1+7u3Ru6Xzkk7L65sK2qwPbHNXZ\n",
       "LVK5YSDxZebw1ZP2BavAFEQAACAASURBVAm+dX9OxFJjQHlhKrNtYp4JXNd5GrdGTuQE33oerP4x\n",
       "y5cu5KHrz1QKplgozHwyX58woHZ5qe2ucSjfj/DXUPP2/fb3p1T+8HJykA/l+Rsnea8HQiklM1UI\n",
       "8bfsC2gA/pr3+b2NweQdju4unVs6H8VIWeEW+zoomqPaCDfnbDDlhIEsRTYbKcKeHutgp7YPF7Sc\n",
       "w1+i+3NpxXNcoz1GdWoX37j5exw1w2U7jx2ZzzYvtR0Zb5Dfj0sXeAN16ru3uz+lcoyXk4M8i70w\n",
       "7/VAKHWs4JQS9e9tZIlP3rwfke6m38mKVA8EGtTSNz88o12oxCwpK799fu5ju7psjuq8eiPWRdI3\n",
       "Mfc5S7bLHhuAPuEls2QzX94cfchmpcaAPMJelp4P/Qh7K7VDubblI5jo3Fz5IN/88UP8QbN46StL\n",
       "yponR+bLV2YZMl+WDJg91gB5ealtrnEw349LFyomb6xDffd29y4VtX8OBrh3RZ+TwTx/eysZT0r5\n",
       "T7vXWAm5xzCYvMNLLimdWzofxUhZ88+wr4N+OaqNyG7MaFcBUawU2a4cstlwCXtSSh5ctZNL2s+l\n",
       "QYvwE8+P+eaPH6SpK8GPPjqBnoM+WdY8dmQ+OzKg3TWW+/24U134NArvp939KZVjvJwc5EN5/vZ2\n",
       "Mt54xqjzZMa5d8kIN5P0TRySZ2g0vUtdc8/m+09v4Jm32jh6TgOfC77IJ6/+Gk1dCR777EEceMbV\n",
       "BR6oUvPsCe9S3Y5/KBvMQPfT7v68x7xLTi7s9zEZb7zyYHaFE3x9xTo2tfXwyaNmcsFh0/nClZfw\n",
       "978+ya/+8DBLDz9qT4tYEg4PphdjqmSEEFXAXGCjlDJcqv1Y4P2qZMarglmzo5tvPb6etGnxlVMO\n",
       "4MjZylYQ6u7i3S2bOWTRkJ/VMYOjYAoxqi5sIcSpQog1Qoi7hRDLgDeBHwBvCiHe30bhPYjxqGCk\n",
       "lDyyuonrHlxL0OfiJxcsYk5lmm98+QskEwmqa2odBfM+RSnv0veBS1FhHh4HPiilXC+EmA48mXk5\n",
       "GEOMRwWTSlvc9swGnlq3iyNm1fOVUw4g1r2bCz52Cq3NzZxz4SeZf9DBe1rMknAUzOiglJJxSSlf\n",
       "AF4QQtyYyU+NlHK7EGJ83Y3xEPd0sIZfO5kHMCxGGg7OKZhyDLKlDLvl5FSq+cf/UbXxQbR0HMtV\n",
       "QWS/j9P9wRtz9e2RJN+69xnWRyu5yr2Cz3U8y6anT+eCm/9Ma3Mzv/7DI8w/6OCSspSTu6kY7Ma2\n",
       "u8Z8g7WsnIB32aWw+MLy7o8dSj0Hgxl3PDzXw0SpYwW7UdsjgGuA27NVwDVSyjHOEdsfS5Yska/9\n",
       "fcWYxz3th8HQxcE+VmuktR9tPdXTQduCy0g1/v/2zjzOrars499zs2f2rZ22QxdKSxdKF8pWdoUq\n",
       "ZVOQTVQElUVUUN9XAZEXFBFQAcHXBUVQBJEKiizyIi4IskMpdKP7NvuemUzWm/P+cZJMkslyZ5rM\n",
       "ZKb39/mUIfeenPvkJnlyzvP8nt+z1BDdP1fZQC7dXVAOpmLDb5GaVclbRoKISJjeBZ+h56Tv8v7e\n",
       "Xm5+4k0CIZ0fOB/gFOcHNPd4WXl/G3v6NR547GmWH7Uipy1V//dVyrf+EdBUX20ZBiJ4DvpETkeT\n",
       "bW5r9/aMrzHirIyXOlicldj1Pgj0wwnXK0czUi3dXJ+D4cw7Bnq+6VDosoJ7UdJjNlTNUuz/rcBP\n",
       "RnrRvCMd/Xq0qdbDoYvnsjmFth6wVTJgKY9T3o3Q/XOVDWSj6sdQtmW1cjA2l3pNNhdSs1K6eTVP\n",
       "vtvE11avpVzvZrX7dk4p2QoWCx1BB4EwPH1xHcuPWmHIlrLtfwE0sDrUdawOQIsez45sc2d7jbFS\n",
       "B4u7GrvdCq4qcJSq8pBc78++fA6GM28xfK7zgKzbJSnlzaNlyD5hoANKJyUfs5eqYrXRQl/L0F8X\n",
       "R6X6NUqHbDZ7mqGyAYBASGcgqIO9Aku/msvibUYvTb6WTDivxrSil6a0yrJXYulvAohuH6qSz1vd\n",
       "aP7u+EMt7ENakun8AeHmZt8neOzvWzhyVjU/a72KMruVPr+g1CFYNMXBuq/PxCH72W3QFhEJgkhp\n",
       "rS6s6ngOZJs722sUug5l9ditCb+ztnLoj5ZVjPQzletzMJx5i+FznQcY0ZNZIYT4lxCiTwjRLYR4\n",
       "WgixZDSMM4xi0D2N0cUTka2sIJvNUdp63MGQSnk3oM+bQ6M2l+4uQMTqispZKrRGKrjIdw2P6Sdy\n",
       "0ZHTueVjh1Bq12ju8XL0vbu47R9dANhFgEhCPVEuW6Rmj26REiDD6ngOZJs722uUpXVqi5SIkEeV\n",
       "h8DIP1O5PgfDmbcYPtd5QK4U9lHAr4FbgcnA9OjjPxSVoykG3dPh0MVz2bzgLIL9nfg87Wkp70bo\n",
       "/rnKBnLp7gL0zTkXEQlDyMc7wRl8rO8bbI40cMes9/jcsbOwaILNk89k5f1tNPaGOH6mA4JeND2I\n",
       "Z/5Fhm3pO/BMIALhgLp34QAQiR7Pjqw6vhleY2DRJSrIG+gHXzeEdfU30K/KQ3K9P/vyORjOvMXw\n",
       "uc4DcgV+nwf+R0r5asrxE4BvSinHnCsTJ+MVQxQ+T9mlmB5MtuzRaGaXnlnfwncCF1AvuvnRvK3U\n",
       "rroWgLbWFpWm3ruTpy+u47hpOhFbCZ75F+FZ8Y1h2TJa2aXAoksoP+Wr6olv/07FYLwdagWz/HNm\n",
       "dikNCsr4FULskVIeMNxzo4mJxvgtJh5MSI/wk39s5an3mlk+o4obTptPuUv1PwoGg5z54WNo3LOH\n",
       "Bx59Ih7kLWaYPJiRodAdJH1Zzg1kOWdiBCgmB9PZH+CmpzawvsnDBYcfEN8exWC32/niNf/N1GkN\n",
       "poMxkRW5nMwMIcTmNMcFMOarmImEYnIwG5s93PiX9Xj9Yb592nxOmjeY4WhrbWHLpo0cc8JJnHnO\n",
       "eWNopXGYDmZskcvJzB0VK4oJuSQW8jlnNCYQ9rZhddTgThDgzhXDMBKTyTUmnUTD4/IE7n5hMzUl\n",
       "Du69cCmL2p+h4jE1Zm+ojE/9fBdd3iD/emsdpaVKKMpI36VczOGR2Bq7V9meWxFsp6Z93ejGNHLF\n",
       "UTKdL4L4SyFgSj0kIpu490gdTaY5qw6C9x8hbC0hZC1NEuCOuKqzMmSNMH5zjUkVAA8F+rm952Qe\n",
       "DhzLYdMrueH0BUzZ/kR8TLPPwal3v0NjT5CHf/gNFl1wA6AcTCYh75ijycUcHq6tifcqXDM343Nd\n",
       "1Q3UNL4wuozZXCzdTOenLoOmd8ac3ZsOha7C3iKE2Jzm35YM26jxjVwC3vmcc81vlIOxVwwR4M7F\n",
       "kDXC+M01JlEAvFOWcmnP53k4cCyfLX2D2845lAqXLT6mOeDm1B+vpbE3zJOXz2Gl9kr8OtmEvGPI\n",
       "xBwu27J62Lam3qtMz63a/Rw1vetGnzGbi6Wb6fyGJycEuzcdcpHx/o2Kv/wN1WfplOi/k6N/JxZy\n",
       "CXjncU490KdWMImICnDnEvk2JPCdSyg7KgC+LjCZTzRdxPvBen5Q8zTXO/4YD/DGxvzmP0009gR4\n",
       "8ktLWDFvapJIeDYh7/iYsE+tYBKh2dXxYdia/l4Nfa6tpJoSX1t6Ie5Ci27numam857m0bd1lJBL\n",
       "4/dzwHJgC4qE9z2gQUq5S0q5a18vLoSwCyE2CCF+FX18tRBitxDiAyFEFoJJgRATiE5EooB3nuYM\n",
       "9HepX+Zgiu5XVIA7F0PWGOM3+xjdXcOfe2dxUfN5CCQP1/+B021vJAmAx0TCv3nqTF657ghWHFQ5\n",
       "RCQ8JuSddJ2okHd8TApzWB0MquMGbc18r5Kfa7dqlET61H0fC8ZsrmtmOl8+ZUKwe9MhZ1mBlLJX\n",
       "Snm3lPJQ4AHgaiHEG0KIL+bh+tcDOwGEELOBq4CFwMeB+4UQtjxcwzhyCXjnYc6Ap51QXyee+Rdl\n",
       "FODOxZA1wvjNNiasR7hJ+xLX9Z7DUvtu/lj/EAvlB/Hrg8oiffTBTna2dCMCPcypcyTZGEM2Ie8Y\n",
       "EpnD6DqEfIhImL455xp6PdnEyhOfa7dAid47+J6NBWM21zUznV9w1oRg96bDcOU3lwGXAycAq6WU\n",
       "3x7xhYWYD/wQWA0cC2wCKqWUN0TPvwJ8TUr5WrZ58k7GK2B2KdjTiNc+KZ79yJYxKVR2qa18Id95\n",
       "eiPv7unh/BlevqX/FKevPen6cSZvUxO/v+1LnKK9krUFbTFkl6p2P6e2SKnv2VhkbCZYdqngGr9C\n",
       "CDcqHnM54AV+DjwupQyN+KJCCOB54EqUgzk2Ovc6KeUvo2MeA34vpfxTmudfBlwGMH369MN27drn\n",
       "nVvBUQw8mC2tfXz7yfV0DwT5+ilzWblwaPFmooMxmbwmoPDZpf9F9b9eAlwspTxRSvnovjiYKK4A\n",
       "/iWl3JpwzA4ktr+NAHq6J0sp75NSLpdSLq+rG3PdrJwoBgfz942tfOXRd5ES7rlgaVoH097aajoY\n",
       "E3lHLjLelagv+uXAZWoBAqiMk5RS5q7FT49PA2VCiHOBaqAEuAdIXBs2AHtGOP/Ikbpk1ayw+9Xk\n",
       "7VNZffplbQbJzL61TzMpzdYn2xYh2/YAoPyVOyjf+DBayJuxKNG9/g+UrPstd3Ucya/9J7CkKsgN\n",
       "5x9JdYl621K3ZKHpZzF12gF8/86fxB1MPgoxjdhr5DqpiDuYkfZAyrU9KcTWOZdNExBjTsYTQnwW\n",
       "tV36GfAQKps1E/gjsFDmMDCvMZlUolTze/DBX6Funvrw+Xugtwlq58CURcmkqfIGeO8PQyQzeyoX\n",
       "U77liSHEOs+cs3G3r0lLIrN2bs5IPhtYeD7lr9xB1dpfELHYweIE3Y+mB+lefHn8i+te/wfE6//L\n",
       "1d7P8lpwNp90v871zsfpP+JrDCw8P0m2ss3npFTzUi69dB7+dQKzVwK5CX2QW+YTyGmvkeukIsnB\n",
       "ZCJQ9rdllsKccmh20lwhiJkwfJnWIkCht0s/H8m5kUBK+TbwO2A98DjwhVwOJu9IJUq1rlcfhrB/\n",
       "kEgXCUHH5qGkqXceSiuZWbHhN2mJdep4egJaNvIZQPnGh9UX1l6iyG32EiIWO+UbH46/lOY1z3K2\n",
       "52u8HZzBLTXP8+1Jr2CxOxPmUIS/Fr+bU2/7B5f8eqOya9Oj8TnyIfNpxF4j10lE0hYpG4EymxRm\n",
       "LtJcIYiZMHyZ1gmAXCnsy4QQQSFEKOFfUAgRAr6QDwOklA9KKT8f/f9bpZSzpJTzpZT/ycf8w0Iq\n",
       "UcrXpX5tktTVBARSFNXspWrpGyXdxRTtpL0Czd+bllin+XszEtCykc8AtJBXrQgSYXGq48A/N7Vx\n",
       "YeunCGHloSmrOads/ZA5LN5WWgYcnPb9F2jsGuDqVfOTCH9qjBHSX3bioBF7jVwnhiExmGwEyr4W\n",
       "9f4lwlGpjucizRWCmAnZbZqgyOVkHpBS2qWUtoR/dimlDXhwFOwbXaQSpVzVajlrTdS5leAoS35e\n",
       "sF/trdNIZkacFWmJdRFnRUYCWjbyGaCkLXV/8nndT8hayn3/3s53n9nIfHsbf6z+GYsdLWnnaAyV\n",
       "c9ptysE88V8nseLgSUmEP8iPzGc2e2MSnUauAxmCvNkIlNmkMHOR5gpBzIThy7ROABhh/A773LhF\n",
       "KlFq8kK1X7Y6B8l5mg1q5w4lTS37dFrJzN4FF6cl1qnj6Qlo2chnAJ75F6HpQQh6Fbkt6KUvbOVS\n",
       "bubRN/dwxuIp3HOilfpIa9o5pJR85rc7aOzy8cRXDmPFnJohhD/Ij8xnJnsTJTqNXCdjFikbgTKb\n",
       "FGYu0lwhiJkwfJnWCYAxD/zuK/JOxhthdqnPMSmjZGam7Eu+skubtIO4IvhVWkIuvvLhOZx+6JSc\n",
       "c2zetBH/hr9xsuPdrFmhYsgu5UxTm9mlgqLgZLxiRzHIb44lD+bfm9u57blNuO1WbjpjAYdMq8g4\n",
       "tq21haeeWM2lV3yJBDpCUcPkwYw9Ci2/aSIHxsrB6BHJg6/s5OHXd7NgShk3nbmQ2tLMX8ZEJu/K\n",
       "VWdwwIyZo2fsCGE6mImB/cvJxJbHnVvA1wOuSpVClBKQ6bdH049W7TTSLKlTHUymGp5Mx0faw7nf\n",
       "H+b7f3yJV1s1PlGyluvL3sPfdj7+0uQtSuy67Xu38amv30tLRw8PPPqnuIPJh7oeGNsuGalvSsQQ\n",
       "B5Nt65LtXLYtUaFqhUZauzSSucYB9p/tUoxoFwlD2ybQNPD3gR4Euxumr1BEu83PwqSDFbnOsxfa\n",
       "PoC5q2DqoiTCVp9j0hAHk04hzj9pMc6YsFPC8bDFReX7vx52D+f1Mz/FjavfpNkb4braf3NebSMi\n",
       "NJQAF7OnqU/n7GvuoLmtkz/ceiWLzrwSvWxqXtT1wBgZz4h6XiLSOphMxDjIfK6sPjPhDgrTZ3qk\n",
       "ynj7cS/siYMY+aq/DRwlagUT7Ac9AO5q6N4BbesUMSoUUASsUEA9bluXRNjy7XxzyBYpk0JcybZn\n",
       "0x6vWJ+epJeth/Oba97gqkfWMOD38+upf+b8yS0IS3oCXMyed7e10NHVyyN3f5vDly+JK9blQ10P\n",
       "jJHxjKjnxZB2i5SNGJftXDbCXaH6TI9UGW8C98Lef5xMjHwV8EBULIlIWKUnrS51PJV8Fx5Qj31d\n",
       "g9PgpK9rKCErk0Kcxduc/vhAZ0YSm+bvTeLmRKTgXv/pXNX7GQ6ocvPHSQ+wrMKX9rnx5/S3Im0l\n",
       "rDzucF7/0884csn8JMW6fKjrqTEGyHgG1PMgSwwmGzEu27lshLtCqeaNVBkv3XXHQtmvANh/nEyM\n",
       "fOUoh6jsI5pV/fqFfep4KvnO6laPXdUADATD9Hl6klTfYsikEKeXTEl/3F1jqIdzf8TBVT0X8JOB\n",
       "D/Nx59v8+IIl1FWUZCXAtbW2cPIVP+C5v/8bgIqykvh1Y7bnQ11PjTFAxjOgnpc1yJuNGJftXDbC\n",
       "XaFU80aqjLe/9sKeUIiRr0onQcCrSFD2UrA4YKALqmbBpEMUMcrmUCscm0M9nnQIA4Egfb1dQ1Tf\n",
       "YsikEOedvSrt8d6F6Ul6iT2ct/scnNv5eV4MzOFGx6Nce2QJdquWlQAXyyLtau6g1m3JqFi3r+p6\n",
       "MRgh4+VSz8uZRcpGjMt2LhvhrlCqeSNVxttfe2GPBwyLJzPC7JIvEKCvqzlnViSf2aU1//cw/7O+\n",
       "Fhshflzxe+YtOT6pT3W65+4uWZSkB3PkwplZMzrFkF0ynKY2s0vjthf2/pXCrpg2VOYwFVMOTWJf\n",
       "xtPUCX5luNonFm8rjpZ34uPDJfXoZVPxH3jKkC9jREoefm03D6xrYL6jk3urV1Nf4cJTdWDyOHct\n",
       "ocrZRGxu9JIpdIcdQwSnbNv/Rumm1fEvf0RYk5yMtXMzzsb/xBnBgcqDhrwOI2NSbYmkWc7rZVMZ\n",
       "SHHOw+LBlNVDw+GDXzajtT6x93y45wqJ4Vx3rGzMI/avlQwkpwVDAdgd7SE0fYXaHiWkCNMR7TKl\n",
       "dT1zz8He3zgkTRssnUb55scNaaUMBMPc9tcPeHlrB2e63ufG+pdxOssMNXez+Lq57t8ax5/1aZYf\n",
       "tSJnajlbw7RY6YGRMSPRgoFhOphsqdy+lsLovowURZJ2zifMFPZwkZgW7N6h0texFHZCijATkzdT\n",
       "Wrd84+/TpmlVije3Vsre7gGuemQNr2zr4BuT3uR7U17E6a7M2dytpWeALZ0S3VXFd09viCva5Uot\n",
       "59KsMTpmuFowMAImb7ZUbqF0X0aKCZJ2zif2PyeTmBYMeFSFdSyFDWAvxdfbmrFUIHNatzVDCrs1\n",
       "Zxr49R2dXPnwO3R7g9xxzqFc4vgnIlVzJE1zt5auPs761kN88pZHCVnKhpVazqVZY3jMMLRgYISl\n",
       "AtlSuYXSfRkpJkjaOZ/Y/5xMYlrQUa5U72IpbGCgv5dekbnIMHNad3KGFPbkjGlgKSWPvL6b659Y\n",
       "R325k59/6jCWzagy1NyttbWJs771EE2dHu758hnY9L5hpZZzadYYHmNQCwb2oRYpWyq3ULovI8UE\n",
       "STvnE/ufk0lMC1bNUunraAp7oK+bgd6utCnqGDKldT3zL0ybplUp3qHj26efys1Pb+BXL+/gxIPr\n",
       "uPfCpdRXKPW4XGnh7eVHcOZNT9DU0cvqGy/g6ANLh51azqVZY3SMkTQ37GOxY7ZUbqF0X0aKCZJ2\n",
       "zif2v8AvJGeXhAZS4guF6RUVOQv3IHN2KVOaNnX85kkf5bpXJDs7vXz+uAM5f3nDEOmFbGnhb159\n",
       "Jc/++XH+eMPZHDPDOuLUci7NGqNjcmXb8lJNnS2VWyjdl0LYOg5hprCNIN2bvuCM+Dnfzjfp62sG\n",
       "VzTdPIxq4URkSlXrJZMJ1C9D83Xwat8kbvi/ARAaPzzJzUkDv8Xyt6FfTmv3dmxdm9D8vWiBbqzd\n",
       "2+PXufF7P+Di8z/O0sk6/qidiQzb0UawfqmxrgLZHMFYCDkVyjmNNO08wZxTDBN/JZMtpQj41j+F\n",
       "J+JSQVrPXlwtb+GrX45e3pC2WjhTyrb/gJMo3fPPjKntsL2M3+2s4KfrrRxYGuLWo2FBU/rUtr3x\n",
       "jSFV2G1d/XzjnQau/8VfKJeenFXNo5XCzgZDbUsaDsvdJqQQKexCtTwZKYo49W2msHMhS0rRt/NN\n",
       "5WCiaWerr52wsxKrrz1jtXCmlK2qqk6f2vZay/j22ip+st7GidMi/PJYDwv2ZE5tp1ZhN/tcnPzr\n",
       "Dp568W22bd1sqKp5tFLYmWC4bQnkbhNSiBS2mfoeNUx8J5MhpejrbaWvK7lCWgQ8qo1JQkYltVo4\n",
       "Y8p2oDPt8ZZeH194pZoX9mp8cWGY7x0RxuXKntpOrMJu7g3xkZ9+QGOvzlMX13LokmWGqppHK4Wd\n",
       "DsNqWwK524QUIoVtpr5HDRPfyaRJKcbS1KnVwdJRrtqYJHyxUquFM6Zs3TVDjr/ZYeETbZ+leQB+\n",
       "tCLMZw7WESJ3ajtWhR13MD0hnrx0KivmqbiLkarm0Uphp2LYbUsgd5uQQqSwzdT3qGHiO5mUlGJi\n",
       "mjq1OjjsqsPq7yHsqktbLQyZU7aqqlodl7rO73aVc8WWw6ly2/nN4Y0cU91rKLXtnb0qXoXd399L\n",
       "JCJ58tKpnNAAvQtU6jhXVTOMXgo7ESNqWwK524QUIoVtpr5HDRM/8AvxqL2vt3VImjo17Rwuqcfq\n",
       "bcmaXcqUsrW3rMGy5Tlu2TyNZ3pmcPwBVr7xsSMpC7QZSm3H5vH09jBly6NUbvwtEW8PWkllksZv\n",
       "OrvT2TlaKWzYx7YlkDu7VIgUtpn6NgSzJYpBnsxodBVo9fi58cn1bG3r57PHzOSiI6ejDbP1SEwP\n",
       "ZuWqM/jvG24ukKX5hdlVYGLD5MkYQH/bLrzb36A0za9+6oogIqy4mt+Iry5CzlrcLa8nrQYi7toh\n",
       "K5A3Q7O4+cn3CIdD3DPjNY7VX8bbOrzmbtvLj+Ciy79JS1MTH1pxGO5tf90nLZhcMKIDk2tMmdNG\n",
       "XeM/Cs9xyfYrvy8N3EwUHBN+JdPftgv/+0+l5ZQASXwTW/sGSnb8H4HquURKp2Jtex9X2xqClTOJ\n",
       "lDZAsAd7XzNhVw3B2vkqOxTo5bGmOu5oPYzpNg93zVnLjHJrnPcyULeU8i1PDOGreOacjbt9TZwn\n",
       "09raxJk3PUFjT4gHH/gVJ9V2ZeTBjFReIRFGugzkGhN3MNk4LvlANg5J83uZrz/l0KLlnownmDyZ\n",
       "LOjzh+jf/kZGTkkq38TRuZGwsxyLrroV2Pt3o9tcKvgZ5ZpI3Y+lvxXprCaAlRv3Luf7Lcs5wbGV\n",
       "hxa8wYxKRzJ/ZkP6rgTquOLJhKXgnFufpalrgNU3nM1xM2xZeTAjkVdIhZEuA9nGxLdIuTgu+UA2\n",
       "Dkm2609g7sl4woR1MrEYTDZOSeo5zd8F9kpEVGhcCw6A1Y0W8sfHCCnRdD+tATufe38BT7XVcXnD\n",
       "Hn7q/hUlrpTr2CsU5yUNX0Xz98Z5MlaLxnUXncBjN17AsTOsOXkww5VXSAcjXQYyjbH72gZjMLk4\n",
       "LvlANg5JtutPYO7JeMKEdDKJQd5snJLUcxFnNQR7kNGWKRG7ovRHbM74GCkEb0TmcdHahewYcHHn\n",
       "vM1cOXkdsqQ6Le8l4qxIy1eJONUW6bk3NgNw2lHzWDGnQvFkcvBghiOvkAlGugykG2MLe7BXJGSx\n",
       "cnFc8oFsHJJs15/A3JPxhAnnZFKzSNk4JannAjXzsfo96BbVrSBYOh1LyKeo9REd6evk94Hjudhz\n",
       "GSVaiN8ueo8PlWwbwpNJ4s8sSN+VYHP9xznzpie48q4/0+vxJvFkcvFgjMorZIORLgOpY2zBbhyh\n",
       "vkH+CuTmuOQD2Tgk2a4/gbkn4wkTKvCbKU2djVNiNLuk93dwc98ZPNE7lxVTrdw29SUqA3uH8GTS\n",
       "ZXxSMzRb6j7CJ665nZbGvRnlGnLxYEY7u2T3takVTLrM0WhUUJvZpTHDuE1hCyGcwD3AiYADuFtK\n",
       "eZcQ4mrg64APuEZK+Vcj8/X5Q3Q17cCd8sUEcO36J/b29xAIAnWLkp7n2P1SEtmsb/ZZcVmGGDmv\n",
       "1TGD617TWNfr4DNLq7lkeTX2dg9+3zRDMguJXQliPJiWpiYe+tkPOKpiL6SJpaRT90+ENtCBrWeb\n",
       "6jgZGkBLE2fI5ahCdQvpl+fGz4fqFg6ZI1S3EN12AfZIr/qSTjl0qDHzTs3tVHJ92XMR47LJJ2S7\n",
       "/gRQ+x/vGLOVjBCiBuVgngBqgPXAecAvgcOAA4AXgBlSylCmeZYvXy7/+fKrdDXtGCJ/YPXsRfN7\n",
       "0AIdSEclErD6ewhWHkj/vHNx7H4pScpA83dj8XXSP+s0/LNPxuLZy6btO7mm8SQGdAs3LunjI+7t\n",
       "SAHh8oYRdSW4/2f3cvft3+Ohn97OSu3VEaWh89HkPtf52BzVjX+nrKJ631LAuWQMik12wUQSxm0K\n",
       "W0rZKaV8XCp0AHuA44HHpJR9UsoNwE6Uw8mIiJS09wXSyh9Y/J3YercgndUqW2MrIeyqwuLvxNG2\n",
       "dqiUgWZBt7lwtAoHvwAAH75JREFUtbwKQuPJHRqX7Pwwbi3Er04McdIMByLQicXfOeyuBDFnfukV\n",
       "X+LZF1/jpIq9I05D56PJvRG5iMqedcrB7GsKOFcqudhkF0zkFUUR+BVCHAI4gVpgV8KpvcCQlIkQ\n",
       "4jIhxFtCiLda29qB9E3dCQfRgl6kZTA7hMWpjvs6hkoZ6CGwugn7B7h9jZVbts/miPJeHj74P8yu\n",
       "UE5C00MQDiZdJldXgrbWFj75sVPZvGkjQggOmDFzn9LQ+Whyn+t8mdNGRaQ3PyngXKnkYpNdMJFX\n",
       "jLmTEULUAg8BlwB2IJJwOgLoqc+RUt4npVwupVxeXaPSkenSvljtROwlCH2Q54LuV8ddtUOlDCw2\n",
       "2oMWPu27hj/tsHDJtL3cO/s1ykrcgwZZbGC1J7+GLNINjYEyLvr4KtatfRdPT/egGfuQhs5Hk/ts\n",
       "5+NEu3ylgHPNU2yyCybyijGtXRJCVAFPA9dLKd8UQpwKJG72G1DbqJwIl9RTtvER0MNE3HVELE60\n",
       "gU4I+bG3v0+ofCYAVs9OpK0Mrepg+mafReX7v1RezF7O2sAUvtx7AR5KuX3mGj5auRtLfye+qoNU\n",
       "KjnkRTqUY3LufVmtaKx2dGcNnvkXUvn2/yrRKT1IxGJnb7iaM+7bTUtbB4/ceS1Hl24jsq2XwKTF\n",
       "eGevovo/N2Ppa0bTA0QsDvSyKXQd8z9A9uyRZ/6F1PznZujZiZARpNDA4qDzmMvi9yMwaTEVb/wY\n",
       "R8datGA/EXspgdrF9B5xdfx8+bv3Y+vdghb0ErGXEKqYQ+TIK6iJEe2mLYN3H1ErDj0EFptyDEs+\n",
       "mXzzcwV1py2DF++ApjUQ6ANHGUxdCid8Q51fcJaKyUByTGbJp4y89SOHmXkaFYzZSkYIUQ48BdyS\n",
       "kEF6BrhACOEWQiwAqoF3c81l6WvC2baWYNXBRNx1WD27ce95kVDFgQzM/RjB8unYOzdg79hAuGw6\n",
       "A7NOQdqcaDYHPYu+ALYS/tQ5nYu6v4DFYuWBhe/w0ZpWIvZSQpUHIa0utIF2pNXNwPTjkfZypHoN\n",
       "6q8EzdcV3WpEkJpGa1+QVXe9SXNLK3/43mUctXA6EXcdIjxAyY7nsXZuRvN2ADpYrICO5u1AG+iI\n",
       "1yaJUB966TREqI/Kd3+BvWUNoHpP664aEBoiooPQ0F01ST2obe3rcba8CZEgEasLIkGcLW9ia1+v\n",
       "7pm3FVvPVoiEiVgcEAnj6ttOjexK926l/E1ALKgbHoDSServB8+q4zE0vwd73oBISG2TIiH1uPk9\n",
       "db7hMBXktZdBz171t9BBXyN2m8gLxnIl8xVgKXC3EOLu6LGVwO9QmSY/8HlpIP2VGMTUK6aDEOjO\n",
       "SjQZJOSuxX/gR8FeigQCDcfGn6cDIddkrq35MU/uaeLwOp3vLQ1SXroEX3SMCPYp5zJbpUjd2/5K\n",
       "qKIBaZ8fn0cE+6hYez/h8ikqGAs4A2HmTPXw0w/Vc8jyJSrACspGGDIeAH8n5Rt/T6hy9mBQGFRQ\n",
       "GFWzFKxfqv7Wzkc2HDNog78rfh6iweGSmrTz+w88RdU/lU2JX8Nu1XDqvSrYGvtyN74DVdOh/pDB\n",
       "OQIedTz2i58Y1IXBv4lj3nkISmtVQDeGgU51PJZ6bjhsdDNJRuw2kReMZXbpFilliZTyoIR/26WU\n",
       "t0opZ0kp50sp/2NkrtQgZjqtXsJBFbRNQGekhC+9pPHku02ce1gDP17SSHlC/AWGaudmCpiqIHIl\n",
       "rT0+egeCuB1WHv3qhzhuSjjr+CREg7e5gsJGgsY5NX4T5rBbNUoc1qHBViO1P0bGjEZ903Bh1jWN\n",
       "GsY88JsPGNHqxWpXQdsoNnYLPvsPOxs9Dr61ah5XnjgbrSS3dm6mgKnurqGlrYVTv/8Cn773JZWy\n",
       "DvYo7d8M4zMFb3MFhY0EjY20uhXB3kEHA0ODrUYCv0bGjEZ903Bh1jWNGiaEaFVg0mJFLEOtEsKu\n",
       "Oly9u/BVDgZsdWcNQqqtzTPN5dy2xka1XecnZ01n9qzJaecRIS/2tg2I8ADubc+gl0zBN+UI7IG+\n",
       "pDGWQB+b68/ivC9+i6aeIPedVYG9dQ1YHXQv/RL23r2IQCeaHiJisSEdSsay+p17kT07EFIihUBY\n",
       "nHQccxkRd63Si4Fkot48JXvpnb2K6pduwjLQEg8y6+56uo67KX5PPPMvpPrV7yN9nYAF0BER6Dr6\n",
       "svgcNevuw6XbIJIh2Gok8DttmYplQArRbnBbyrJPK80XSNZ8OfKLefwUDBNG7C4UChFwLuIg9oRY\n",
       "yehlU/HOWom0utEG2tHLptGz5HL0smnxgG3/vHPpPvgT3Lmhgu+8bWdRdYRfnDuH2bMOzDiPpa9F\n",
       "BUeFjAdgyzc/TrB0WnyMtLrZUbKEc/7rHhp7wvzl89M5ZqYdBETsVURc1UihQqZSSvVXQMRVTdhV\n",
       "A1hV8BYr4WjwNli/lJ4llyNtZVj6G5G2siQmsDbQgcXfCbHMkoxg8XcmlRaE6hbirz8cNDta2Aea\n",
       "HX/94fHSAcfMI3Add43BYGuWwG/FNMXctbqhv039TWUEzztViUjZytSXwVaWX1GrkcCI3YVAIQLO\n",
       "RR7EHvcFkouWLJNP/u3fOcf1DAT5ztMbeXdPD+csm8YVJ8zGomXX3636z/cQob54cBRUgFXayug+\n",
       "5lvxYxefexZrXn+J1defzlFLDkkaa/W24T3otHjgF9RqqmTrM4RLJuWcOx0mPXMphPqGBHWxldF2\n",
       "2q8BFaAW4YEh15VWN5aFZxrT5N3wlPrAOhK2nQGP+kLG2vyaGB4KcU8L/D6N2wLJ0cSW1j6+/eR6\n",
       "ugeCXHvqPFYuMNY32uJtRi9N/mWT9gos/cm/EN+54y5Cz1zL4YfOHzq27f30gV9vK6GqOTnnTm9X\n",
       "K3ppSvGkvRJLf1P8oebrIOKuG3LdklA3ZUZFvwc61C9j0nVK1S+/iZGhEPe0yN+nCbFdyoa/b2zl\n",
       "K4++i5RwzwVLDTsYyB5gbWtt4Sd33kEkEmHGrAM5fOniDGMnpw/8ZmnultuukTF+3QQoqx5GsNUM\n",
       "juYfhbinRf4+TciVjKWvCUvLWn72XpiHd5azeIqLGz+2hCq3PX4+V88iiAZYX/k+IvgWQg8jLVak\n",
       "vZoPGs7h06efSFNrB+csraFh+akZx/Ys+QL2/sYhgWLP/AupfPeXQ8Z3rbgOyM34rX7jh4QhuQr7\n",
       "0GTGb/na+7H1bEEL9COc5bimzIN5Vxq/kUaDo/kIOhZx4DKvKETAeSyD2AYw4VYylr4mQh+8wNde\n",
       "sfLwznLOnenjFws2UKt3xM+X7HgeER5IYuBa+prSzic1AVJDSEBqNPf0cf7l36CprYNH7v4WB02t\n",
       "pGTH82gDHUPGSk0QcdcmBZOl1Y131koi7tq044GcjF//gafQdcR/ga1MbZFsZUkyDxBl9HYrRq/F\n",
       "UYLLokPHluFxU4wER/MRdCzywGVeUYiA81gFsQ1iwgV+G995jm++bqfdr/HNJWFOnxlJYu1mC4jG\n",
       "WL0xpAZ+W7r6+Ni1v6Kx28fD99zMkUvmx58/3EButqAyYCjgnA2x+W2ltYM8mIFOlUVa+R1DcxhC\n",
       "PoKOZoC5qDFu9WQKgX990MYX/u0gFNH42fEhTp+pCrqHI3GQiFRm7abd7XT0B/jzl5fFHUzs+dmk\n",
       "HtIhG2s3P90ImrGVVA86GCiMfEI+mLMm+3ZCY0LEZPSI5P6Xd/Dom3tYVC25fVk31eWDH9pUiQOL\n",
       "Zy9WXzsi4AE0RNiPtFhxb/trUnxGL5mCpb+JcGAAOwFOmeFm/XePo9wuiWx8DM3fTcRZRaB6PnrJ\n",
       "ZLT+Jix6ABH2Ia0udIsjYyA3NremB9TKyupWldjR8SLYm7ySGWY3AkvlNEoifSjRwSgKIZ8QCzom\n",
       "rkKGG3TMxxyZsL/EeooY434lE4lIrv/T+zz65h7OWDyFuz5+MJOEJ6PSf7ikHlfLW4hAL6Bh71iP\n",
       "vXsT4fIZQ+IzvilH0LljHcd++1n+8HorBLqp1ttU/U+wN9pCpZeSnc/jr5qHo2szBLqVSFagG0fX\n",
       "ZnxTjkhrt2/KEdjj410Q6MYeHb+v3QjKnDZKFp+tGLwD0W4EA53q8YKz8nLf48hHR4BCdRXYn2I9\n",
       "RYxx72R2dQ2wZncPXztlLl89eS5a5bS0gdbY6sTqbcFXvxzpqMDm2UnEWUGwZgGWYO8QCcr29nY+\n",
       "8oud7O70M6NcB3sFIVcd4bIGcFSB7gNHFcHquTi7N+Gd9ZFo4zbVJM476yNoMpzWbk2G8c5cCfaK\n",
       "6PgKvDNXoslwTsZvNsQFp0ZLPiEfQcdCBS7NDpJFgXG/XYpIyZ3nLeaQaRVY+ppw7fonzqbXVHra\n",
       "WYt/2lFJ4zVfB0IPYuvehrV3FxFbCSLoRfRsB0B4WnA1v0rgmW9x/n27aOqVPHzPTRyyZD79QPma\n",
       "XxCxOAhVHZRghI5t78uE5p9HaFKCLIKMoA20p7Vb83Wgl00hJINoQQ8Rezl62ZR4bChYv3TYLU7i\n",
       "DiZ+oB4aDh/cKhSqIDEfHQH2ZY5MW6JcJDVzKzUqGPcrmRnV7riDKd20GveeF1WAVAgsAy24d/+L\n",
       "0k2r41sgze+hZPszEPapgK2vHXv3FiQCe/NayrY/Tb8vwEd+2cjenhBPf6aK46sGHUXEXjKkhCcb\n",
       "6S6xgjsZGo7m1xF6kIi9EqEHcTS/zkjfkiEOZn/ZKmR7ndlIavvL/SkCjHsnY7Wol+BoW6uKBiNB\n",
       "pL0c7OVIeylEgvHuBADWvr1ENBtYHEgh1DJas6AF+7B1bySiWSlxl3DBkfU8edUiVhxYhnv33+Px\n",
       "nVDFHBC2IfESz/wLs3Z9TAdNgkSi/ivRRsgmGOJgYP/ZKmR7ndliPfvL/SkCjPvtUgyarwPCQUQk\n",
       "jLRGU9SaHRHyovl7cO1+Ec3Xgb3rA8LlM9DCPiWTYK9AC3qx9jfT0t1Le6icQxoE3zx1FgB6qAxr\n",
       "fyPaQDsRVy2eJZ/D4m1VbNz+RvSSKfTMO59g/VJCMSZxdKx36tFpmcQKEXxTj8Tm2YUI9CId5fim\n",
       "HglyiG56VqR1MKC2AMICbW+oL5ejHKpmQXBgWPMXPbJtiWKxnsZ31GN3rWLBVkyDLc8Xdb3PRMKE\n",
       "cTIRVy1Y7UjNqjRkLXaIBBXjta+JYN0CJTDuKMXau4vgpEUQ9mHtb0J3lNCsl3Pqg3sJhnp579r5\n",
       "gzdG9xEuP4D+QwZ7O+tlU9PGS3J1fUy1V4QHCNQPBmJjpECjyOhgQP06734F3NXgrICwXz2efrTh\n",
       "+ccFcqW/M8V6Cpk2N5GEcb9diiEwaTG6s0atXoIeCHoQwX4VF3FWE6pZAELDP3UFQoaw9myDSASh\n",
       "B2nr6uej92yg0RPhwbPLcOCPNqHvxhLy0rvw4oLYO9ztVSKyOhiAJCa3yHB8AmCk6e9Cpc1NDMGE\n",
       "WcnoZVPpn3cu+q7aeHZJd9cjwl50Vw2O9rVE7OWEKmbhPfA0nHtfwhLoZY9ex6r73qCpa4DVN32S\n",
       "xQ02ZPOrWLxt6O4aeuZ9EpzllK57KKm/droCS6OFlzF7/ZMWDymCzLy9GkROBwOAhNKpsONF8Her\n",
       "LpmzTlDHxwKFyuRk2xIV4nlGYGatkjDhapcSYelrovKtu5DCgnRUIXQ/IjRAsGoOepl606+74+c8\n",
       "9twrPHL3DRy5ZH5SHVO6ftG23r1pe2H7Jy3GGeuakKG3dKptuXpRp4MxBwO8dBdseko5l3hlbjfM\n",
       "OwOO+6qxm5sv5OqFPZEwAV+rKVqVBY62tYRd9bha30KyA2krR7c6cbaswWd1YQl0c9vHD+TTK5ex\n",
       "YPHB8S2Ld+rR8efLSBh712bVAcFRjuZtRzpKCdWq2qVYixPVpmTekNYnjra1BBi68knqRZ0yfiDD\n",
       "qshdN2PQweT6tezdAxEJvq5oEFhTi5heQ73y8ov9qf3I/vRaDWLCxGTSwdq9FauvlVBZA9JWDsFe\n",
       "bH2NtLU0csWtD9JuqUerX8hh1f1Yu7YMYQfberapUgE9gHRUgB7A3rsDLaWlqiqQbE5beGnt3ppW\n",
       "WsLavTVjoWY6OYrqxr9TF4kWDBrhePS3gNWZND9Wpzo+2tifCiD3p9dqEBNuJZMo9mTr2U64ZArh\n",
       "moPjUpSdm19j1Y9eo6k3yFUfepbJC+cQrDoYvWxafIvk3vZXNF8HjpZ30G0lgxkHqxvd5kTzpyja\n",
       "hbyq4DFaeBlj8IZddVgCHoJlU4esWOx9jeghb7LkRJS8l7rKcZZWUaY5B38NG98BXYe2TYPp6ZLJ\n",
       "yb+WEVQ6XLOBHlB/pZ7cadwI8hFf2J8yOfvTazWICbGSiTmGqldupeblm9C8LVFtXg1Hx3osPTtB\n",
       "Rmhpa+O0H7xMU7eP1d8+m2UL54IewNG1GVvPtiErCGmxYe/bo0oDpESEfUQc1ao9bEpWyDfliHjh\n",
       "ZcRWjgj04mp5C4RIu2KJOCsyZpc0XwciHMDR8jbljf+momMNhAKDv4adW6B9o3IeTrXCon2jOh5D\n",
       "WT30t6oPuGZXf/tbh1dakC9W7P6UydmfXqtBjPuVjNCD8QCqrXs7utWO1d9FyFGJXjYVqVmw9Wyl\n",
       "va2Vs374Ck3dSg/msEVz1QRWN5GwH83fO2QFEa6YidTsWPzdYLESsZcTmLwUaXXFCzBjpDtH21p8\n",
       "9cvjEhLSUYGv8iCs3lZEmhVLqHJ2PDYzlLynSg6sJbW4y2sg7FMclwOidVi+HtA0sEU5NTY3hHzq\n",
       "eAyOUph8SNTR9Kkle9UsdTyGXKuUfMUXCpnJKTbsT6/VIMa/kwn74o5BC3QTcdUgIyGsnp0Iqaqu\n",
       "NV83erAKh9B56tJpHNVgIRj9Ygvdj5ARwo7yIQr/oYpZWHzd6BYbvgNOiGeABmacNCQDpO36O3p5\n",
       "g+rFHYOMIMI+LGmawcUcSibyns2i4XZYSEo5iyjfxVUJnibobQIZBmEFRxlUHDA41lUJJbVQPQOs\n",
       "LuWoAl51HJKzIKWT1Erng2eTsyD5VMHPRxHleMH+9FoNYPw7mchgr+mIsxrCXsCCzbOHcOkUunv6\n",
       "qLLqzCoN8dp/L8JCAIlU2rjR1UmodFo8pZ246oi4qglUz8Xqbc1ZKhDrDpC6YglXHZRlxZIeLpuG\n",
       "e/Zx0L0D/L1qBTF9xWDJgbtGrVoG2hWT1+pU5MHEhvY1c8DmUg7B36PmmHQAlDeo80ZWKWZ8wUQe\n",
       "MO6djNSs8S+3v/4wSnY8B0EPEauL1pYWVv2imZPmVXHnhVPQhJWwbRLW/hZEJJi0OomR7FLb1ArN\n",
       "iufQS3KS5NK1uDWyYklFmdOm2paEB+CABMGrmOYtwEAX+LvUlz3OxehSx2OYtkxlkibNS+ZrxGID\n",
       "Rmqb4m1qO0EPqlINd01ym9rxDJM0NyoY94FfaXXFA6jhypkMNByPiOg0e8Kceu869noifOLwqapy\n",
       "Wg+CvZyIowKEdYioVWqb2tSUdjbEGLz2jk24tz6NvWMT/iyM33SIE+1yBQ97dsOk+WAvUc7IXqIe\n",
       "9+wenCynEJRQcR49oLR/9YB6nK4VbXzLloG42duoxMDfekD9HQ9yCabUw6hh/K9kLHa8s1bGtyOh\n",
       "2vls8Ts5++t30ezReeLqIzmmQUfqfqTFDiEv0mLBO/t0+g+5aMh8w1l1JMLS14Szba0i5E05DBHy\n",
       "KgZwyeThlwoYCR46yqEsQa836IWQP3nSbLEBkehM0sR9QF2/ajrUJwhxBTzJWyojsZ1ihEmaGzWM\n",
       "eycj9GASM9ZXu4gLPvc/NLV18eitV3BUnQfZu12lny0OhO4nWLsE34yTAOON3nIhF4M3GwyXCsQw\n",
       "dQnsflU5BKtTxWV83cOrsJYRFefJFPcBY4Ffo1/WYtuaFHlr14mEce9ktKBnkBkb8lK26wWu++Z/\n",
       "43Q6OHy6jWD3ViL2MrRQPxGbm2Ddofii2aHE+qHY80t2PG94i5RkR4be05nkN2NI62ByrQ4OOll9\n",
       "GQY6VQDYYofq2eq4Ubhrs8d9YmNyBX6NfFmLcbVjBrVHDePeyVh8nVS89RMawzX8s7uOM049mZPn\n",
       "qgLHXPJM+7L6SEWm7FJm+c0sK5hcq4OKaSr4ui8rAyOtTY2MMfJlLcatSZG3dp1IGPdORiJoGrCw\n",
       "6sf/otkT5thFB1I92RirdaSrj3TIll1Kh6xbJCOrg33lYhiJ+xgZYyQDVYxbE5M0N2ooOicjhDgP\n",
       "uB3QgVullL/ONj4UgVPveZ/GnhB/vnI+DQPr6Hcdku0pcYxk9ZEJscyUET5MzhjMaC3ljTgqw84s\n",
       "SwaqWLcmJmluVFBUTkYIUQb8CDgK5WTeFUI8JaXMuLTY0jqAVRP8+aolHDvTivS1G1aXG+7qIxeM\n",
       "ZKYMBXnH01LeSAZqPL0eE3lHsfFkPgK8KKVslFK2AP8APpztCSFd8ucvLeHYmXakEATqDjUctN0X\n",
       "XsxIYDiLVKhmZ4WAEWmD8fR6TOQdRbWSAQ4AdiU83gsMad4shLgMuAzAqhH54oPveiwa1ogk3NT3\n",
       "enN/8H+LVZK/FhhPwiI57a12iUpNoEXkYO5bE8ISkUS6fJf2ZHtunjHh7m0R4eB9eXKxORk7yYon\n",
       "EdS2KQlSyvuA+wCEEG9t7tRHLA04mhBCvLUvMoajjfFk73iyFcaXvUKIt/bl+cW2XWoGEtfQDcAY\n",
       "6EWaMGEiXyg2J/M88BEhxCQhRD2wInrMhAkT4xRFtV2SUrYIIb4FvBo99HUppTfbc4hum8YJxpOt\n",
       "ML7sHU+2wviyd59sHfctUUyYMFHcKLbtkgkTJiYYTCdjwoQJAIQQLiHE3HzPO26djBDiPCHEDiHE\n",
       "ViHEpWNtTyqEEE4hxH1CiM1CiF1CiK9Gj18thNgthPhACHHqWNuZCCGEXQixQQjxq+jjYra1Qgjx\n",
       "qBCiUQixLWp7UdorhPiaEGJL9PN6VfRY0dgqhCgXQvwZaAW+kXA8rY1CiNuEEHuFEO8LIQ7LeQEp\n",
       "5bj7B5ShUtvTgHqgBagba7tSbKwBzkFJzdVG38ATgM1R+xcATYBtrG1NsPkm4FngV8DsIrf1t8AN\n",
       "0fvrLFZ7gZnATqAk+pnoBRYWk61AKYpZ/3ngV9Fjae8n8CHgZVTS6BTg3Vzzj9eVzLDLD0YbUspO\n",
       "KeXjUqED5RSPBx6TUvZJKTegPny5fwlGAUKI+cDhwGPRQx+neG2N0Rtujd5fP8Vrbyj6N4L6YvYB\n",
       "qygiW6WU/VLKvwPhhMOZ7ufZwINSyrCU8m9AXfT9yIjx6mQMlR8UC4QQh6B+bWspQruFEAK4B7g6\n",
       "4XAx3+OFwA7g8ehS/ocUqb1SykbUCvE14AXgkyiSadHZmoJM9zP1eCM5bB+vTsZQ+UExQAhRCzwE\n",
       "XELx2n0F8C8p5daEY8VqK8Ak1BL+y8Ay4BjgTIrQXiFEOcqxXA3cCfwXxX1vY8hk47BtLyoy3jDQ\n",
       "DJyY8LgBeH1sTMkMIUQV8DRwvZTyzWjwrBjLJj4NlAkhzgWqUfGDeyhOWwHagLellHsBhBB/Q33Q\n",
       "i9HeTwHvSSn/BfxLCPFxVAyxGG1NRKYSn9TjU1GrnIwYryuZoi8/iP6CPQXcIqX8a/TwM8AFQgi3\n",
       "EGIB6gv97ljZGIOUcoWUcpGUcglwI/AnlHMsOlujeA1YIISYKoRwACcD/RSnvX5giRDCFtVLmova\n",
       "NhWjrYnI9Fl9BrhYCGERQpwCbJZSdmWbaFyuZOTIyg9GG18BlgJ3CyHujh5bCfwOWI/68H1eRkP5\n",
       "xQYp5dtCiKK0VUrpFUJ8Gfgb4EAFIn8UdTjFZu/vUBmZ7YAP+I2U8j/FdG+jzm8NKpPkFEKcCHyB\n",
       "NJ9VIcSfUFnS7UAnaiuYff7ieB9MmDAxUTFet0smTJgYJzCdjAkTJgoK08mYMGGioDCdjAkTJgoK\n",
       "08mYMGGioDCdjAkTJgoK08mY2GcIIXYKIRrG2o50EEKcKIR4Yazt2J9hOpn9EEIIGdXh2SuEeFUI\n",
       "cdpY25QKIcRNQojOqFbMFiHE2WNtk4mRYVwyfk3sM3Qp5UEAUcr4Q0KIUinlH8bYrlTcJaW8JSpD\n",
       "8bIQ4i9SynDOZ5koKpgrmf0cUa2QTwK3Q1yC8efR1cMWIcTl0eNJ2w4hxINCiE8lTHVhVFVvmxDi\n",
       "pOiYRUKIt6KKcC8IIUqjx3cKIa4XQmyMSjXMz2HjRsALVEWf/0j0OluFEB+KHrtJKCXCfwohWoUQ\n",
       "16TOI4S4TgjxnBDCsg+3zMQwYToZE0gpPwBcQohJwLWoFe5c4Cjg60KIQw1MUyOlXAB8Drg/eiwA\n",
       "nCalnAX0AJ9Iue58YDXw1WwTCyFWAh1SyvbooZ9LKWcD16AKOmM4HDgdOA64RQhhTZnjQuA8mdBS\n",
       "10ThYToZEzFYUSpuq4B7oopzncDjJMtqZML9AFFJA5sQogYlDXC2EOLXKN2XRImA2NbsRWBGhjmv\n",
       "FkK0onRYViXaKoS4E/haypxPSym9UsrNKJnLuujxacBPgLOklB4Dr8VEHmE6GRMIIZYBrVLKbpSz\n",
       "iaQM0VHSjInbDFvKmMRYiRNVcfwASuP2VtSKRSSMCUT/hlLmTcSPgYNQ+iurorZ+FPgh8ChKACrd\n",
       "nKnz+qJ/MzkzEwWE6WT2cwghFgMPMqhS/zfgy0KhGvgYSv9kFzBPCOEQQjiBo1OmOjc63znANinl\n",
       "AHAI8ARKonFEGsxSyj6UquBNUe2gQ4DXpZRvoHRkjKALOB8V4J4zEjtMjBxmdmn/hEUIsRW14tgB\n",
       "fE1KGQvqfgf4KbANtQL4bjRmgxDiIeAVlMbI5pQ5a4QQG4AB4OLosTtRAli7gI0jNVZKuUcI8WOU\n",
       "Wt9/A88IIT5AOTCjc6wRQlwLPC2EOCq6ajMxCjD1ZEyYMFFQmNslEyZMFBSmkzFhwkRBYToZEyZM\n",
       "FBSmkzFhwkRBYToZEyZMFBSmkzFhwkRBYToZEyZMFBSmkzFhwkRBYToZEyZMFBT/DwpcugMu7HCr\n",
       "AAAAAElFTkSuQmCC\n",
       "\"/><img style=\"margin:0\" align=\"left\" src=\"data:image/png;base64,iVBORw0KGgoAAAANSUhEUgAAARkAAAEnCAYAAACdYDfKAAAABHNCSVQICAgIfAhkiAAAAAlwSFlz\n",
       "AAALEgAACxIB0t1+/AAAADl0RVh0U29mdHdhcmUAbWF0cGxvdGxpYiB2ZXJzaW9uIDMuMC4zLCBo\n",
       "dHRwOi8vbWF0cGxvdGxpYi5vcmcvnQurowAAIABJREFUeJzsnXecXFXd/99n+u7s7mxNr6RAEmoS\n",
       "QigKqCBNEAFBgQceQLqIIA/8VKqAdEFEAaVEOkhX4AGR8lADCQmQRkhI215nd6eX8/vjzkxmZmfu\n",
       "vdO25b5fr83u3Hva7J395pzz/ZzvV0gpMTAwMCgVpqEegIGBwejGMDIGBgYlxTAyBgYGJcUwMgYG\n",
       "BiXFMDIGBgYlxTAyBgYGJcUwMqMAIYRDCFGf9nWxEOKqDNfLc2j3bSHEuCz3GoQQa4QQ44QQpwsh\n",
       "pBDivLQy02LXK3T0ZRZCXCuEaBZC+IUQdyWNQaZ9hYUQNbH7RwohvhRCeGJlZwghTEKI/xNCHKT3\n",
       "vRqUDstQD8CgKMwHfpx2bR5gB2rTrr8GvCaE2Ah40+5NB2YA+0kpn9Po8ybgj1LKFiEEgAe4Tgjx\n",
       "hJSyJ4/3cBPwbeBAoAmYCSClPCi5kBDiQuBIKWV3zAA+DZwM/Bu4C7hPSvk9IcS5wHNCiDlSymge\n",
       "4zEoEoaRGQVIKT8QQnwXODLpcgPK87UlXXtPSvla7OeglHLX5HaEEG/HfrwOyGpkhBANwBHAhUmX\n",
       "1wKdwDXAxbmMXwgxEfgFMEdKuSF2eUWW4qcDt8d+ngN4pJQvxNp5DvgTgJRyVcyQHgW8lMt4DIqL\n",
       "YWRGD9cDazTKvJz0s1UI8Vra/d119vVdFIPlS7v+S+BTIcS9Usq16ZWEEO8Dv5dS/jPt1pHA0iQD\n",
       "kxEhxDxgFvBC7NKK2Ps4IXbtHOD5pCr/Ag7HMDJDirEnM3owo/wPX5/l63dATVL5kJTyMCnlYYAE\n",
       "/gv4M+DX0dcewPL0i1LK1cB9wB8yVZJS7p/BwIAyI2kSQvxDCOEVQnwuhNg/Q7nTgX/EjZuUshs4\n",
       "FLgX2AL0AZcnlV8eG6vBEGLMZEYXtcApWe6NT3ttE0JcH/t5LvD/UPZVvq2jnzrgmyz3rgHWCyGO\n",
       "BFbpaAugAjgEOAnFkFwGPCOE2ElK6QdlYxhl7+Un8UpCCEesv3XA+8DPYvf/HivSERurwRBiGJnR\n",
       "QxS4GuhG2ad4GkAIcQjKZupjKEYkjhn4KPbzMcAyoAfYrKMvP8qm8gCklG4hxK+BO1D2Q/TQAfxb\n",
       "Svm/sTH/DsXo7cL2vZnvAwHg3aR6ZwETgb2llCEhxAfAI0KIf0gpvUAZ+mZmBiXEMDKjgNgf5SGx\n",
       "l+XADCHEJbHXs4AulE3Z04QQy1H2TsIof7T7oMwkdgX6pZT/jHmL1GgEJqvcfxA4Fzhf51tYCyxM\n",
       "eh1fxicbxdOAR2Vq2IA5wIdSylDs9RuAE2XTezMwKTZWgyHEMDKjACnllUKIW4DjNIq+JKXsEkLs\n",
       "DaxH2XDtQDE6oOylXJ+tchLvsd3Dk2k8USHERShuZT08A9wW28B9DbgS+BLYACCEqAaOZuDG9MfA\n",
       "zUKIv6IsmS4HNqHsz4Cy9Htf5xgMSoSx8Tt6GAuch7LkyfR1OjAlVvanwH9iP78npXwh5gZ2A0gp\n",
       "dxVCWIBxKDOedD4EaoUQc7INRkr5AfBs8jUhxPtCiAFLqNjS5ngU13kzijH5UZK+5SRghZRyfVrV\n",
       "R4AHgFdQtDWLgR9IKaUQwgqcCDyebYwGg4MwglaNDoQQM1H+Z8/mxp4NHCqlXCGEuAG4E/gNyr5J\n",
       "f6zMzlLKMiHE/wFTgeVSyh9m6e8nwHFSyuOL+T6KhRDi58CuUspzhnosOzrGcml08X8qRuHR+M9S\n",
       "yt/EfryYDMI5KeW3tDqSUj4hhKgRQoyRUrblO+BSIJRNJRtw6VCPxcCYyRgYGJQYY0/GwMCgpBhG\n",
       "xsDAoKQYRsbAwKCkGEbGwMCgpBhGxsDAoKQYRsbAwKCkGEbGwMCgpBhGxsDAoKQYRsbAwKCkGEbG\n",
       "wMCgpBhGxsDAoKQMmpERQpQJIWYPVn8GBgbDg5IbGSFElRDiBaAV+J+k678QQmwRQqwTQhyedP0m\n",
       "IcQ2IcQXQogFpR6fgYFBaRmMUA9R4G7gnyhBhRBCzAAuQElANhn4txBiKvAt4ABgGnAwSkCiPQdh\n",
       "jAYGBiWi5DMZKWW/lPJNUiOsHQs8LaXsi6XR2AQsAH4EPCylDEsp3wAasqVJNTAwGBkMVdCqySgx\n",
       "XONsQ0nZMRl4Mel6Y+x6S3JlIcTZwNkATqdzwS677FLSwRoY5EQkBCEvRENgsoK1HMzWxO2olIQi\n",
       "xY3jJCJBRNiHiIaRJgvSUoY027Qrxuqagn2IUD+YLBCNICIhwqEgX7UHsYiovz8oy/Id21AZGRvK\n",
       "MipOFIioXE9BSnk/cD/AwoUL5aefflq6kRoY5IK7Eda9Ao4qsFVAsB/8vbDzEeCaSJ8/RHtfoKhd\n",
       "mvuacH7zOhF7JdLqRIQ8mAN9eKYfSqRygq66ZvdGBAIR8lLW+D6N/WYOu2ctFhNMqjQVNOChMjLN\n",
       "KPly4kwCtma4PgFllmNgMDJoXK4YGHuV8jr+vXE5ffYxRTEw5r4m7G0rMfk6iJbVY/J1KQbGVgmA\n",
       "tFUSAextK/GmGZlMdWU0jK37a8CMKdjDtj7B4fesprE3wgvnzeP8R1YVNO0aKp3Mv4CThBDlQoi5\n",
       "KJkPV8SunyaEMMeSkn0lpewaojEaGOSOt0OZwSRjq8Dnbi2agXF+8zoi7CVa3oAIe3E0vocIp7Yt\n",
       "rU5Mvg7NumWbXsfeugJpsiFNFiIBLz/663oa3SFeOGc2+8+uL3jMJZ/JCCEqgc+ASsAhhDgIJZ3o\n",
       "oyhpTP3AWbE0Fs+jZDvciJKM7KelHp+BQVEpr1eWSPEZDODtd9MrXEVp3t62csCsJVregL35U6LO\n",
       "BkSgF2mvIlzWQKRy+6LA3NdE1ecPYfJ1YHaOIeSaTrSsFoFEBLoIV8/A2rMRk9XBdT+YTLlF8q1p\n",
       "DiKmwuchg+Fd6pNSzpRSjpVSumI/vyWlvFFKOV1KOUdK+X6sbFRKeZGUcqqUcr6Ucm2px2dgUFQm\n",
       "zlf2YAK9IKN4+7rxursIjNmjKM2bfB1IqzPlWrh8PPbO1YiAG2mrQgTclLV8StipOGbjMxiTv5No\n",
       "+RiIBHC0fobJ10XU5sIU8tHc4+Mfq8NEbRUcNsPGfnMn0TfnJIJjdie6Pf9VXhgpUQwMiolrorLJ\n",
       "27gcX3czvcJFQMcGrF6iZfWIkCcxkwGweJsJ1M1F2l2Ygr1E7S581TOxeFoIsn32Yy5vQESCSEs5\n",
       "EcDq/oZIWQ3N7jDHXP0MLV397H//+dSM3wdT2EfUXom/ejpbe/9Q0L6oYWQMDIqNa2LJNnnDznGU\n",
       "bX0Xs78TwkGw2LC4t+KdfgjR8qT9ExnF5G0HlNlPtLyBkGs69tbPlNsmO+buTbT2BvnBjf9LU4+f\n",
       "J265mMpp85CBPnqTDGMwQmjAwHLAOCBpYFBkiuWmzrhRu/VdTP5eJCCEQAJRaxki5E2pK0IeomWK\n",
       "0YnPfqJltQTG7oU02zC7N9He3soRt7xLY0+QZ357LAfWNCNCfl2u71wwZjIGBkWkmDqYTJu8Zn8n\n",
       "EghMOiBRzuzegq1rHf6ymlSdzIR9AQiM2UPR0QBRRzVB82wcvi6e3RKkqbOXx++6kr32nIMv2Kcs\n",
       "pYpoYMAwMgYGRUOvgbG1fIZzwyuYPc1EnOPxzDiC4Li9BpQz+TpAmLF1fZXwGpl83QDYW5YlroWq\n",
       "phJ11GDrWJvSZtxYRCon4Jl+qLLs8rYTcdQRdk3lv07+Lt895BAmV5mwtixD+N0IFKNUTENjLJcM\n",
       "DIpALgamesV9iFAfkYqJiFAf1Svuw9byWYbSJsqaPoZIAGl3QSSApXcTVvemlGvlm9/C3NdIsH4X\n",
       "vDOPIli/C462lZj7mhItRSon4J1xOBsbDuHIi25nWatAhDxMrjLhaP0MIgGw2IlabIoCOKluoRhG\n",
       "xsCgQHJZIjk3vELYUY101ILJjHTUEnZU49zwSsbyUQECgfKvQEiQyNRrgS6k2aEsq4RJUfzaK7G3\n",
       "rUxpq621hZOPPYJ1q1fRWzYZc6APW+dqIhaH0k7YT6hubsa6hWAYGQODAsh1D8bsaUbaUoV50ubC\n",
       "7GnOUDpKYPw+SLMNU7AHabYRrJpG2DU95VrEOQGZdAATBip+4wampamJh558jvkHH41n+qEQDmCK\n",
       "BJFmG4GxexEtq82oFi4EY0/GYHTjblTOE3k7FDXuxPmKlqUIdfPZ5I04x2Pub8IUCSDCXqSlnKjZ\n",
       "TsQ5fkDZaFk9IuwlMG577DZH2EcUUq7Zwz5EWt24d8nc10Tf2nc59dzf0tLRwyN/uZ39GtyYvnyE\n",
       "aFk9wYbdkVZHiu7G3LsNi6eVilgZmxkrBWDMZAxGL/ET0WEvVIxRvq97RbleYN18vUi+8YuwdX0F\n",
       "gW6kuQwC3di6vsI3ftGAsoExe2AO9CGCfSCjiGAfEUcd0l6Xck3a64g4Uq+ZA32EneNwfvM6VQ6Y\n",
       "t/MMnrzhbA41fYi5rzHhErd4O7D0bkvUNbu3xNTCYxNlastEdc5vNAljJmMwelE5Ea05mynRaWqT\n",
       "DOOZdij2rjWY/F1EHTV4xi3GJMMDyqZ7haJl9fTvcoIynKRrfXMGXvNM2Jee1W9jE4KahlruveFS\n",
       "7C3LCAeiWHztRFxTkLZKQq5JiJAfaSnH5G3H4mnFN24hEdcUQHGbh6MDw63kgmFkDEYv3g5lFpKM\n",
       "rQL62/Ku6+tuLkgHY/J1EBozj9DY3bZfTFLnphOpnDAgXAOgea2ttYVTz7+Kurpanr/3dwghFJe3\n",
       "TTl6kOja6kSEvHhnKGG2K758hGh5Q0q7UWkYGQODzGQ4EU2wX7meR91inKaOltVjbVsVm8l0E3XU\n",
       "EKidQ6hhbsby6ccK9GhYEpu8HT3cfsWZCKHs2Ei7cngyalfeg8nXhbVzNaZwkOiGVwmM2SPj2SiT\n",
       "wFzIezb2ZAxGL2knogn0Kq8nzs+5brFOU0eFBeem1yHoJuqohaAb56bXiYqB/99nOlagpWFJ9iIt\n",
       "efhB9tt5fGK/JVzWgMXfQ7isAZO3A3vTh1j8bgJjdk+0HXaOG7APZDEZRsbAIDPxE9GWcmWJZClP\n",
       "hMHMpa6vu5nesLUoZ3rKmpcSrJ0N9hqI+MBeQ7B2NmXNSweUTTlWoKJ/SebXl1w4wE0d32+JVE6k\n",
       "Z89ziFROxNa2Eml34Zu4L9Hy+kTbFk9LSh1pKafLJ3sKec/GcslgdOOaqN9lnaFusU5TxzF7molU\n",
       "TCRiSpocRCOY+wd6vOKnp5ORVmfW/RuA6265k+bGbSxYtBjIvKcTTG5bbJ9nxNtOr2OcwjYwKBGl\n",
       "CPodcY5HBN0p10TQnV0nE/Kklk06XR2nrbWF239/HZFIhAkTJyUMjBp62y4GxkzGYGRQiKguDwox\n",
       "MGqbtZ4ZR1D9yZ3QuwWBQCJBWOnZ+8SMsWMcbSuJQMrpar9rJ8o3vIrJ10Gzx8wpF99Mc3Mrxxz3\n",
       "Y2bOVk8PFO/D2rMBi3szwdqdiVRNGnByu5gYMxmD4U8horo8KNTAqG3WRpxjCdXMBJMFEfKByaK8\n",
       "hoEBwttW4h+zR8r+iH/MHjjaViLCXpq9Fk648BqaG7ex5KH7dRmYeB+hmpkEa3fG1r0OS9d6pKW8\n",
       "6HFk4hgzGYPhTyGiuhwpdImUKQZMcnoSe9tKgg1zCUzcJ1FHBPtwbniFYP0uA+pZPC0JDQtA+YZX\n",
       "idgraekNc/yF19LU1s0Tt/+KRVOspIat0h5bxDVFiUFjKU/po9gYMxmD4U+WNCN4i3eID4qzB5Mp\n",
       "0HfygcNs982eZtV66e1/s7WZHnc/j9/5WxYt2EvXgUatsZUKYyZjMPwpRFSnk2Jt8mYSs2UKhZl+\n",
       "P+Icr1ovjs/swhHysHivuXz8/J8pL3Mggn26Nmy1xlYqDCNjMDgUsnE7cb6yBwNpqV8PUK+nc0w+\n",
       "dyse4cKcQ0S4bJu7yaEus4XCrFj7TEog8IijDs+MIyjf8i4i0IkpEiJqtiLtdYlzSRA7KnDmVVxw\n",
       "xG6cfuB0HEn142ea0se2fbESBUxYezYiZCil7+S6pcBYLhmUnkI3bgsR1WmMyevtw22q1qWmjaO2\n",
       "uRs/1Ji8WZu+oaoEntoeCFzEksBKAQKQUirfk+I3tLW2cMqPjqSpqZnZE+sz1k8fG8JMWfNS7C1L\n",
       "QZgRYR+27vWIQH/GuqXCmMkYlJ5ibNwWIqrLMiavyUlv1AFCPX90Olqbu9kONcbrhlyTkLY5iWvJ\n",
       "G7+h+tTr9raVbPKaOOVHR9Lc2Mjjd1zBgnlTCCQveWLl4hvL8bHZur4iXFaDQGDt3QxAqHIC0u5K\n",
       "xKNJrlsqjJmMQekZpI3bXPC5W+mN2FKu6d0ELWQDNdeNX393U8LAPPTkc+w7u173xrII9ILZgTQ7\n",
       "MAV7MQWVU9gi0JuxbjrBcJQ73vhK8z1pYcxkDErPIGzc5kKfP4RHuPLeBC1kAzXXjV9HzQROOvW/\n",
       "2X3P+SxcvB/RDW7dG8vSXgURPwJB1Kb87kXArQQg1xh3R3+Aa15axermPs33pIUxkzEoPYWchi4y\n",
       "cS9Spqhz5kCfrlPWpajrmXFEyvW2pq18+cUqAmP24IxzL2Th4v109Z18P1Q1FYuvG+HvIlQ1NeUU\n",
       "ttq4v2x0c+6jy9nY4eHqH2QOQZELQspB2PkpIQsXLpSffvrpUA/DQItBPhaQiXQ3dT6xWkpZN369\n",
       "fdsGjr30bjzBCP9Z+iV2hyOnvrN5l+JHFSyelox1pZS8tLKZe976mjFVdn53zK5Mr3cyY0zlMinl\n",
       "Ql1vLgPGcslgcCh047ZAI5VJB6O2QQvqSdjMnlbsLcsT98LOcYk/1vJVT+FatQSzt5NIeR3ueafh\n",
       "nXei5hit7avo/+jvHH/Tm7T0BHn0rusoD3Vhb0w1KGp963lfwbTX5r4maF7J7Z/4eamllv1r+7h6\n",
       "sRm73U0EZ8Y2csGYyRgMf+IucEdVmk5Gnxs7H6FdPAlb2FGtbJYG3Vj8PfTseQ5A1nuWzq+o/eRW\n",
       "IlYn2Kog2Is55KFr78vwzjsx4WKO2CtTdDRhcxm+9+7l+39aQ1NPgOcuWsCBE6L4xu9NYOKiRFlb\n",
       "+2qs3V8Trhw/oO9MWSi1MPc10b/mTS5bOYbVvQ5+Nu5rzh+3jnDdbITJgmf6oUybsXNBMxljT8Zg\n",
       "+JPsAhcm5bujSrmuQb5KXrUkbGr3XKuWKAbGUQMmMzhqiFiduFYtAbIHonKtWsLt77QrBuZXB7Pf\n",
       "bjOJmsDe/nlKWWvPepAh3cnhtFi9+gtO+XgSmz0W7pj1JefP6AR7uRJsvEhJ3ozlksHwJ8+A4AWd\n",
       "po4Fl0pG2lyJ4FLZ7pm9nUSc6WOtwuxRxpotEJXZ28l1Jy3i1IM9zJtcA4DAomzwJmEK9COtZVnH\n",
       "pRcpJc9/1sRf3rczySm5c+qHTHNZAQFmh+KF0giQpRdjJmMw/Im7wJPRcIEXehZJLbiU6r3yOkjK\n",
       "BqCMtVe5zsBgUa0d3Zx1+c00RyqxRfsSBgZAEiaa5KoGiNorlBg0GfrWSyAU4ebX1vGnt75mv7ER\n",
       "Hty/m2kuMyLij715vxJ0vEjnmgwjYzD8ydEFXozDjp4ZR2Dx9yD8XRCNIPxdWPw9eGYcoXrPPe80\n",
       "zCEP+LshGgF/N+aQB/e804BUF3NreyfHn/db3vr4c76s+g4Wfy/4O2P1OjFFIdCwe4q7OlQ9C4Q1\n",
       "Y996aO31c9GTK3h9dSun7zeV636wC65oL+GyBkTIg/B3YQ56CZc16HbLazGkG79CiEuA81CWbbdJ\n",
       "Ke8RQvwCuBTwARdLKV9Va8PY+N1B0OldKmbITDXvkto9Le+Sua+JntVvc/z5V9HU0cOShx9k/sFH\n",
       "49j4BlVrnsDsaSXiHEvvnJ8Qapg3wF1t9rRm7VuNFVt7uPbl1YQjUX59xBz2nVGXGI+9bSWW7q8x\n",
       "B3qJOlyEqmck3Nsj1oUthJgGXATMAxzARiHE28AFsWuTgX8LIaZKKQsKZGyQhcHUrmxbBqtfhN5m\n",
       "qBoPc4+BSQu068XR4QLP1cAUonUxeTuw9mzA7GnFFPJiSjoiEa6bjX/i/ttdzHWzU+q2tbXxkwuu\n",
       "pbm9h8fv/A17LlxIBIiW1xOqnkHUWk7EOZ5onoro9Pflb9idp9dL7n1nA5NryrnumHlMri0fUC/q\n",
       "qCZcMzOn34MehnK5FDccURRj1wccATwtpeyTUq4GNgE5fBINdDOYIS23LYMP7oZgH1RPUr5/cLdy\n",
       "vUjkY2DUwmTGXdgi1EekYiIi1Ef1ivuwtXyGY+Mb1C69DUJ9RComQKiP2qW34dj4hmq9eL9lW97B\n",
       "WWbj8Tt/w+J5U3B+8zqOjW8MrPfJnVStfCBljFUrHqD6kztV209+X4GAl5tfXsGf397AfjPquefk\n",
       "vVIMTD65nXJlyGYyUspGIcQ1wEcoxu6nwHHAl0nFtgEDdrSEEGcDZwNMmTKl5GMdlQxiSEtWvwjl\n",
       "NRDb/Ex8X/1ibrOZLOSzRNI6SZ3ipgbFVYzi2rb2bCDsqAJH7H046ggDVWueIFQ9I2u9FutkxnUs\n",
       "p2HCJF5bclsi3EIkVjfsHJNSj94tWHvWJ0J1SlslVvd6kOGM7QfH7ZXyvpo8cMVHtax3C86dE+T4\n",
       "w+diEknxI3T8Hiod1px+r5kYspmMEKIKxbD8ArgD+BVgQ5nZxInCwDy8Usr7pZQLpZQLGxoa0m8b\n",
       "6GEwT0b3NoOjOvWao1q5XiD57sFonaQ2e5qRttSUtNLmwuxpxuxpBVva+7FVY/a0Zq3Xvm0DJ/7g\n",
       "UC7//d2KsC7pj105hd06oJ5AYAqketVMQQ9pzqXEuJLf19I2welv2WjyCm7fN8gZU1oGGBit30Ol\n",
       "w0pDpX1AnVwZyuXSKcDnUsq3pZQPxa61AMn/jU4Ctg76yHYE8nAL503VePCnJSH09yjXC6CQTV6t\n",
       "vEPqLuyxEEx7P8EeIs6xGeu1tjZx1E1v0tLUxI+PPixjvxHn2AH1JJKoPfU/gqjNqUS2yjAugIij\n",
       "nsfWRrn4PSv1DslDBwfZvy57eM5svwe7a2xRDAwMrZHxA3sKIaxCiEpgNvBv4CQhRLkQYi5QC6wY\n",
       "wjGOXgbzZPTcY8DbDd6Ye9bbqbyee0zeTRbqRdI6zazmpu6d85MB7maLv5feOT8ZUK+1eStHX/Mc\n",
       "jV0+HnryOfY85MSM/SptpvaHsBKqnpXqwnZld2H7QhF+88UY7l7j5KDxQf52YIApNvUT4pl+D+XS\n",
       "i2vGPhnL58OQubCFEDbgQeBAFHf1EinlDUKIXwM/QzFCZ0kp31drx3BhF8BI8i4lUSw3tZZ3Sc1N\n",
       "ncnd7N/pkJR6pv4mDr72ddY1unnoqRcS4Rqy9Zupv4hzrC4X9ibHLlz10iq+afdw9qI6Th+/FbNf\n",
       "n9cseTx211jFwCR9DoQQBbmwjQOSBiOKUqSOLSWffvQBQMLAlIJPNnVx/b/WAPDbI+ew97TavNrJ\n",
       "tgdTqJExzi4ZjBhGioFpa23hvbf/w49O/GlJjYuUkic/2coD733DtHon1x09jwnVZdoVM1CsTd5M\n",
       "GEbGQJ1iLakKbKe/bTOejUupyFE4V4jgLp/lUltrCycfcyitLc0cNr6L+okzVINKJY8pk1I4XDc7\n",
       "4xh8wQg3/+9a3v2qg4N3buBX39+ZMqs5r/dcSgMDxnLJQI0C47gUq53+ts34v3h5QAwWrdzN2WK3\n",
       "6Mn5rBZPxuTtoHbpbYpWxlYNwR4s/l7W7HQGx190Ay1NjTx+26Xss3D+gD6zjSkaClD9xV9T4tBY\n",
       "/N2Ey8YTmLBXyhi+nPEz/t8Hks2dHs7+9k6csGBSwiWe63vWY2CM5ZJB6SiWYK+Advr8ITwblyJU\n",
       "BGPZ0BKaqZGrGG9bj58Tz/olLe6gYmD2Xpixz2xjql55//Y4NKB893Zg9jYiHd9NjOFtdz3/7189\n",
       "CKuDm4/bnQVTa0gml/dc6hlMHOMUtkF2iiXYy7Od+B5MvilICkldkqsY79/rvDR3e3ni9xewz8JU\n",
       "GYCeXNgmv1uZwSQhpMQUUYJlRiX8besEfv71QiZa+7j3lAUDDEwu73mwDAwYRsZAjWIJ9gqMB6Ml\n",
       "nMtGvvVAvxgvvt1wyj61fHbT4SzaZ7Fqn1nH5HANiEMjhSBqtuEJm7hs7Szu2TKZw2ubeHC3NYxz\n",
       "pQYXz+U9D6aBAcPIGKhRLMFegfFg8k1BUkjqEj1ivJaWRg665jU++OJrLP5eyvc9I6eUJcn33XMH\n",
       "xqHBZOZr227818o5vNNVw2WTVnPzuHeJzj4s7/c82AYGjI1fAy0G2buUzU2dr5eoVN4l99KnOPGs\n",
       "X9LU5eHZS7/NbsdclBDj5ZKyRM279M+Gs7nmixqsMsRtk99nwViLrtgx2drP18AYYjzDyIwaRpIO\n",
       "5uRjj6ClqYkHn3yWvRfvX9T2o1LyyIebWfLhZmaPreDao+cxtirz8kgvhcxgDO+SwahgpBiYrs6O\n",
       "khqY/kCYm15dywcbOjl07lh++b1Z2GP6l3wZiiVSMoaRGUqGOquinv4HYYx6DIza0kUNtaWL2vkj\n",
       "gIpl9+FavQST303U4cI99zTCe5zJgkWLOfGQRXwn8jbm15/IKTSn2pi2btnEVa9+wzaP4JLdQhy9\n",
       "uJKoTgOTLWukw2qjymEGXxf4eqCsGupmDepnzVguDRXFErqVsv9BGKNeA5NNGKdmaNSEadb2VRkF\n",
       "dV2LfoV/p0OoWHYftcvuJGItA0s5zV29mMN+7AddSnDiorwSvwXH7ZV1TK8H5nL9+x7sZrhxnxDz\n",
       "XX26hYPJbYpwgLKmj4kKMDXMpbJvPYQ8IGxQVgXRKDTMAbNZ93M0lksjlcGMTJdv/yUeo94lkpow\n",
       "Ts3IqAnTKtY+kzW6nX+nQ3CtXqIYGFsVze4Q3/9rE5U2eK/hYXz+jqzjAVTHmj6miLWSe9eV89B6\n",
       "H3NdEW7aN8qYcpDoFw4mt2nr+opwWQ02sxlnx2dQMwU6ukEEoW46hLzgaYUxuwzaZ81wYQ8VgxmZ\n",
       "Lt/+SzjGXPZg1IRxaqgJ09Si2wGKOM5SrhiYP6+jsSfELcdMwhzo1RDqqY81eUx9QbjsQwsPrS/n\n",
       "hzXf8JcDw4xJiu+tVziY3KbD5s9/AAAgAElEQVQI9GJzOHE6K5QlksUBMqy4xUF5Hegd1M+aYWSG\n",
       "isGMTJdv/yUaY66bvGrCODXUhGlq0e0Aog4XzV29CQPz0jmz2H+KiajDlXfit+QxbewV/PdbVj5q\n",
       "NXHZrv1cNbsRRzQ/4WDy+7Q6a3CaQhD2QVkthP0gLErKXFBe26sG9bNmGJmhYjAj0+XbfwnGmI8X\n",
       "SU0Yp4aaME0tuh2Ae+5pXPJ8C409QV762XT2nxTFHPLhnnta3onf4mN6e0uEM9+y4g0L/ryvmxPH\n",
       "t+OdeUTewsH4+yyXPpxjZ4K3S/mauLfy3WoDa4USkTDgAefYQf2sGRu/Q8kO5l0qxE09FN4l35u3\n",
       "0fnho+w7NpTwLvUvOEdzPNnuRaKSh97/hseXbmXXmgg37d5CfU1NYkyFCAddwXbq3F8qz0mYQEpA\n",
       "bv+5AO+SIcYbyUZmB2Kk6GDaWlv42z13cdmV12G1Fp4OJE6fP8QN/1rD0k3dHLnbeH7+nZnYLMVZ\n",
       "SJQ8HozhXRoBlGLGMlizoCLMdophYNT+ly/Wva2M5+RTz6ClqYnjTjqF3WqDeaWiTZ/JfF77fa54\n",
       "P0J7X4BLDpnFUbvrz86oNbtJGJihnhWrYOzJlJpSZGocrOyPevrRKFMsA5Mty2Gx7rW1NPHTHx9H\n",
       "S1MjDz35HLvVBrNmgixf9RS1n9wKIQ8R5xgIeaj95FbKVz01IIPk661Ozn3VTTAY4A8n7pGzgVHL\n",
       "7phiYAYrG2geGDOZUlMKrclgaWwK1NL02ccUZYmkpncBCr7X2tHNcRffQnOHm8f/8Bt2W7wfzvdv\n",
       "yKp3cTS+PyDAVARwrVqCf+L+hB3VhO21/GnzZB5unMCezi5u2Xk9lgnfLtr7NjdM3b5EGmrNlQbG\n",
       "TKbUlEJrMlgamwK0ND53a9H2YNT0LsW419zWicfr5/E//IZ9ZytuXVUtjLdzQIApbFWYvZ2YPc10\n",
       "izouXL0LDzdO4Phxrdy/6zrGhbYU7X07wz2pezBDrbnSwJjJlJq41sSe9KEsVKNQijbz7SdDGW+/\n",
       "m16R+gdaCHEdSPx/dEjVkOR7z9fXRVlVPXvOncmHz95DmQgQtShquLjeJT6TgSQtTHmdEmDKkRSZ\n",
       "LthLpLyO1czkks93pj3k4OqZG/nh2HaEv0dT06P3fZcToLJ2XGrBwfo85Ikxkyk1pdDDDJbGJg8t\n",
       "jbevG6+7S5e+Qy9qepd8721lPIeecSV/e+xZkFHKREB3Bkn3vIEBpswhD0/XnMNpq/ciEoUHd/6I\n",
       "Hza06Nb06Hnf5dJHlfAOfM5DrbnSwHBhDwY7iHfJ527FLVw56Tv0UkzvUrPXFAvX0Mjjd1zBvrPr\n",
       "c84gmexdCpTVc6PlAp7Y5GT3SS6uXxRhctNrOWt61N63M9yjzGCyPecSfh4MF3Y2hsKll63P+Fcx\n",
       "KUaben5HfS2w7ZPt6WWrJgws0/w5wc8eh54mKpxjiQpLzkZGMzyCpxV7y/LE/bBzXKKPSOUEzUOE\n",
       "cdra2hJu6iUP/ZV9plghy/mgiHMsgXHzEwYqfuQAIDDlW7gdVbjdXfzmi/F82mHm2L0mct6BO2H3\n",
       "thCIZq6XK5HKCZgbplI5hPFgCmV0LpeGwqU3zN2IA9Az3m3L4IO7IdgH1ZOU7x/crVyPs/ZVwv+5\n",
       "gaC3h0jFBAj1Ubv0Nhwb39A9lHS3b7K7WM/9bKS7gAOeHk4+8XhamhpZ8tD9HFTXldU9rMf9va4z\n",
       "wGkfTeDzLhPXzGvn4r3LsXtbVN3OuaJLaDfMP3ujcyYzFC69Ye5GHICe8a5+EcproDwWDiH+ffWL\n",
       "MGkBAMFlfydorcwaMkEPWqEcihXqwV5ZxzknHs7MGTuxzxQrkXD2/ERabvOX2+u56fMKqu1w/4Eh\n",
       "5jgFUsNtrne2FUe3kneYf/ZG50xmKFx6w9yNOAA94+1tBkdaOARHtXIdRWgX6WlSDZmgB63wCIWG\n",
       "emjt6ObjFUpC+pOPO5J9Z9dr5ifKdj/q6eAPyyNcu6KSebWShw4OskuN1OU2z4WcjgoM88/e6DQy\n",
       "QxFGYahDN+SKnvFWjQd/WjgEfw9UjU8oebVCJuhBKzxCIaEe2pobOf6Cqznrilvx+gMJF7ZWfqJM\n",
       "97v7vVywfCJPbankJ9N9/PGAELWO1LqF5HqKk/NZpGH+2RudRmYoXHrD3I04AD3jnXsMeLuVEAHR\n",
       "iPLd241nxpEJoZ1WyAQ9aIVHyDfUw1bGc/wvfk9Tawd/+/2lOE1BXe5tGOg+XtPm4/R3XazqsfDb\n",
       "g8dy6cwWrOHc3OZ6yOuw4zD/7I1eF/Zw8i4NV/SMd9syZQ8m5l3yzDiS1qp5KUW0QiboQcu7lGuo\n",
       "h7bWFk750ZE0N27L6qbWmx/pX1/7uHl1LbXlVq794e7MGluZt0tdjYJOUw9jF/boNTIGRWekhGsA\n",
       "uO3Ga1ly/1946MnnWLh4v7zaCEWi/PmtDby4son5U6q58si5uMqLF/4hmaFOW6KGYWQMIzMojCQD\n",
       "AxCJRNj49Xpm7bxLXvW7PEGueWkVXzb1cuLCSZz1rZ0wm0SRR6kwnA0MDJIYTwgxVkrZmnZtgZRy\n",
       "WbY6Ott1AfcB3wL8wBzgPOBSwAdcLKV8tZA+BpW0pQVzj0m4enNGa/pbjKh2yx6FTx8ATwc462Hh\n",
       "mbDglAHvKfDFC8iurdRkWaboWcrkm7o1TtUHt1C15jFMIQ9Rq5PeOSfTu9//ANvzI7W2dXHey73c\n",
       "cMUvqDrscmbtvIvq2LL1ubqpl6tfXkW/P8xvj5zDd3YZM+DxFBLFLrmu3TUW14x9gCxLm0zPEEbU\n",
       "slzXTEYI8TVwrJTyi9jr44C7pZQFaceFEH8HvgJuAOwov+lXgQXAZODfwFQpZShbG8NmJhMXrpXX\n",
       "KG5ef4+yabrfz3M3NFr5joqRM2nZo/DOjWCvAGsVhHoh0A8H/nq7odm2jOB7d+E1V2XNd6QnJ5Ja\n",
       "/qN42Em1+1Uf3ELNyvuImm1gdkDEjykSpHuPc4jaXdQuu5NtPivfv7+JRneQV0+vZ+djL1fNjxRx\n",
       "js3Y51OBfbjz/XbqK+xcd/Q8ZoypGPB4tMarRnJdh9OFyxzInssq0zPsjp3mrpkyaPm6ButYwRnA\n",
       "c0KIS4DdgFOAg/PtFEAIMQ7YDzhdKpbOL4Q4FnhaStkHrBZCbEIxOB8V0tegoEO4phstcVUxciZ9\n",
       "+oBiYMpiJ4ktse+fPpAwMoEvXsBnrlIVwekRyqkJ27SEb97KCVSteUwxMLaY/sTsJBqEqjWPIW1O\n",
       "xcD8tYlGd4iXzpnNoklRWL0Er0p+pMC4+Sl9BsyV/GGdk+e3tLFwag2/PXIOVWWZ91+0xqtGvK6j\n",
       "ogZXmRXl/1YyC+cyPUNvByBg3K6Zn+swRJcLW0r5LnAgcAWwCFgkpVxXYN/zgG+AZ4UQ64QQt6HM\n",
       "XjYnldkGDBBDCCHOFkJ8KoT4tL29vcBhFAkN4VpOaImripEzydOhzGCSsVYp11H2YAJdWzVFcHqE\n",
       "cvkK3xL3Qx5lBpOM2YEp5KG1rUuZwcTTluxUAZZyTH636tiS+2z3wQX/Z+X5LWWcNt3N73+0W1YD\n",
       "o2e8aph8HcoMJrn9bMK5TM8wEoJIMPXaMBLeZSKrkRFChIQQwfgXsAnYBzgS6I5dK4QxwFzg58B8\n",
       "YH/gaCCaVCYKRNIrSinvl1IulFIubGhoKHAYRUJFuJYzWuKqYuRMctYrS6RkQr3grE8S2mmL4PSU\n",
       "yUf4lnLf6oSIP3WsET9RqxNzeRV1TrHdwACEvZr5keJ9ruwUnP4fG1+7BTfO7+W8PayaG7yFCO7s\n",
       "rrHKEimZbMK5TM/QbAWzTV/9YUJWIyOltEopbWlflth1q5TSlq2uTtqAZVLKbVJKD/AG8DCpO2CT\n",
       "gK0F9jM4ZBGuMfeY3NvSElcVI2fSwjOVPRhfN4QjyvdAP749Tk94kfSI4PSUyVX4ln6/d87JmCJB\n",
       "CHogEoGghw63n/aZJ2JddCbvnFnH/pOiEA1DsFdXfiR/w+48/zVc8K6VMovkgf17OLSuM6c8R7kK\n",
       "7iodVmWTV69wLtMzLK9XluLDVHiXCd0ubCHEYmAqYI5fk1I+nnfHQjiBlcC3gU7gLeBZ4ExgITAN\n",
       "+AcwT6oMcths/MKI9y759jid5hnHpTShx3M02N6lRp+d7/3dw5x9vsOd9z6Y8C6Z/G5d+ZH66/fg\n",
       "j2+u55UvW9h3bITfzWuioqoubw+RHu9Sips6F+HcMPAuDYpORgjxOMof/lIg7umRUsoz8u041u7h\n",
       "wG0ou18PSymvF0L8GvgZikv7LCnl+2ptDCsjM4IZKTqYttaWWMCppryEdu19Aa5+aRVrW/o4ZfEU\n",
       "Ttt3Wsn0L3GGuw5Gi8EyMtuAmVJKv2bhQcYwMoWzoxiYz7f1cO3Lq/GHolxx+C58a1bp9zFGuoGB\n",
       "wXNhvw1MADbm25HB8GSkGBgpJef/98l5GRgpJS+uaOKetzcw3uXgjh/PY2qdU7tigYwGA1MM9BqZ\n",
       "ScBKIcRyIPGJlFIeWpJRjTbyObxWzP2dLOgxMPnmoE5HLeOiHuytK7j9pLkE3bUsiryFp6VMM/c0\n",
       "gFj/Bn98ZwsvuGdyoHMrv9l/LJaYgdHaV8lHLRxH1cAUephxhB3E1btcOjDTdSnlO0UfUY4M++WS\n",
       "HnVuOsVUD2dBr4HRUvPqIZ5xMWJ1KvmKgr2YQx669r5M09C0tbbw1lP38vPZLRnHAWQdY3tHB1f+\n",
       "p4MvQxM4r/5zzqt6F1ugl65FvyLUME9Vtav23rOpheN1NQ1Mrp+HYtbPg0FZLkkp3xFCWIAGoLS7\n",
       "ZKONfEIjFlM9nAG9S6R8w16m41q1JGvGRTUjE9+Dad22iR/c8RMmVg8cB5BxjGuWv8/lX80kEK3n\n",
       "7snvcnBVI1BHWCihQfvlCaqqXbX3nq4WzprZMROFhsoc5qE2M6FL8Rs7TtCJsiezFNgCqHp9DGLk\n",
       "ExqxmOrhNHLZg8k37OWAdlQyLmYjeZP32cu+y8QJkzKOI32MUsJjnbtw7pp5VAsvT0x/LWZg4v0q\n",
       "oUG1VLt61cLJdQdkdsxEoaEyh3mozUzojYx3EbAT8E9gL+AA4H9LNahRRT6hEYupHk4i103efMNe\n",
       "DmgnnnExmVjGxUyke5EWzd8z6ziSx+iLmLhy/Qxu3TSdb9V08/j0/2UnkZYeNhYaVEu1q0ctnEzG\n",
       "zI6ZKDRU5jAPtZkJvUYmKKXsBFYBe0opPwIOK92wRhH5hEYspno4Rj5epHzDXqaTLeOie95pGct/\n",
       "+vGHtLW0JLxIauOI32ty+zjjizm80l7HhQ2fc93h04juenzW0KBaql21PnVndsxEoaEyh3mozUzo\n",
       "3fj9BfAJypLpP0AXsFFKmf+nvkgM+41fGHLvUiFu6sH0LkWjUUwm5f+9rs4Oauu2/++sNo7PV3zC\n",
       "Ne+4iUQlN8xaz/yF+ybuqYUGLYZ3STOzYyZGmHdp0CPjCSHqUCT/X8VCMgwpI8LIDCEjRQfT1trC\n",
       "mT85jsuv+h0HHPQdXXWklDyzbBv3v7uRybXl/O6YeUyqKS/xSLezo+hgSu5dEkIsQgnB8L6UskVK\n",
       "2SmEWAAsA2bn27FB6RlJBia+B+NwOLQrAP5QhNte/4r/rG3j27Pq+Z/DdqbcNni5CncUA1MMVJ+K\n",
       "EOJ3wI+AT4GbhBCnAOejhGj4aemHN8LIdYmjNu3Vamvtq7D8ESVXdeU4mH8q7HJ44nafP4Tno78z\n",
       "XmWJUqylkJ5sBdkOMSYMTOM2/vHbH7F/7+NE3n9LNVvBZvM0Lt60Dxt7opx1wHROm9JBxSc35yya\n",
       "y/fQZqXDSkO0A1ZneXZay5lBEFoOJ7Q2fk9BCVB1GvAd4DWU0Av7SCmNNUoyevJGJ6OWv1irrbWv\n",
       "wtu/h1Cf8uEN9Smv1yrhkOMGpvaTWyHkIeIcAyEPtZ/cSvmqp4D880un49j4BrVLb4NQX9Zc2BXL\n",
       "7qN22Z0Q9hN11EDYT+2yOwm9/YeEgXn+kgPYd1a1Zi7s98JzOfmLPWjv9XPrweWcPrWTmpX3Z3wf\n",
       "evJZ55oL2xVsVwxMtmenlZc618/JKEBrfhmKxXpBSrlVCOEGrpJSRjXq7XjkKqBTE1Vt+0S9reWP\n",
       "QJlr4P3lj9A37Xu09wUYryGAK5bQrmrNE4QdVaq5sF2rlxCxlm3XytiqiABTNj/NAQd9l5Om97Fo\n",
       "lnou7JC9moc75nH35snMKPdxx06fMMlnhg2ZxXhaojlQz1mdKcSmzWqhyv0luMn+7FC555pYcqHl\n",
       "cERrJjNRCPF6/AuoB15Lem0QJ1cBnZqoSqutvhawp923VxPqbUrswWgJ4IomtPO0aubCNvndYNm+\n",
       "IdvsDrG514Il2MvVN97K/lMtqmMJ9LbxP5v35q7NU/heXRdLdl/FpEprRjFecl01wV2uIUHLbBaq\n",
       "XNXK81F7dlpiuRIKLYcrWjOZ3AQROzJxAV2ywExNQBcXVdmTDEFcVKXVVuU4CKTeD3m7CTi2p+5I\n",
       "CODiMxlIEcDFxWbxGQDkKbSL58J2JI01LRd21OFSlg22KprdIb7/53VYTZKll87WHEtjt49rv/k+\n",
       "G33lXDx1C/81sRkhQPi3jzVb3bhoLj4bgVTBndq95LplNosSkzcemQ6yPzute7l+TkYBqjMZKeU7\n",
       "al+DNcgRQa4COjVRlVZb808Fn1u5HokQ6usg4ulOyT+tJYArltBOTy5s99zTMId8NHd08f171tHY\n",
       "E+RPR7no3/V01bH823EI5z22nLZIBfdOfZvT61chZGYxnh7RXC45q+P3y6UPl8Oc+nzUnp2WWK4E\n",
       "QsvhjpFBspgMgXcp1NtEwDEmo0dHSwA3mN4lzxu3cvzFN9PoDvLiz6az21HnJ0Jkpo8lXD6ee/3f\n",
       "5a8rA+zU4OS6Y+Yx1bc261jzDcmg5V1yBdupc3+ZuwdplHmXjDS1w8nIDDIjRQcDcPG5Z/Dma6/w\n",
       "4JPPsvfi/bOW8wbD3PzaOv5vfQff3WUMlx46G4fVnLV8qTB0MNsZVCMjhKhEEeCtl1L2apUfDHZU\n",
       "IzOSDAyAu6ebTRs3sMf87J/Vbd1ernxxFVu7vJxz4AyOnz8RIQY/sohhYFIp1Mio7skIIY4UQqwQ\n",
       "QjwQU/5+CdwBfCmEMDaFh4iRYmDaWlu4+vJLCPj9uKprVA3MRxs7Oe+x5fR4Q9xy/O6csGCSYWBG\n",
       "CVrepduBs1DCPLwMHCylXC2EmAK8EvsyGERGkoGJHxU48ZTTmbvb7hnLRaXksY+28PAHm5gxpoLr\n",
       "jpnHuCp9RwuKjWFgSoOWkbFIKd8D3hNC/E5KuRpASrlFCDE6n0YpTrhmOwKQ4wZgsoEpRj4ktXxF\n",
       "cfRs6qZvMH817hhOvuK+RDyYubvtnnETun3mcdz06lre39DJYZMjXF92L87XmjL2ozYOtQ1uvaew\n",
       "7a6xSuI1dOa2Unt2Ws81Ld8VC89M5B8fjajuyQghOlCWRwAXA3fGbwEXSymHPEdsUfdkShE/NX4E\n",
       "oMylCOgCPYr7ed4J0LxMdxzfdAOjFXtXq0xc6h+xlilCubAXc8hH14KLE4YmfmQg7KhSBHfBHix+\n",
       "JUZu8h94cvze5vZODr9nHdv6BA89/RILF++XMcbvJr+Tc0OXstVr4aLdwpzTcQuRssz9qI3D5OvK\n",
       "Gj84WlabtV5yjF+H06Wkjk1+1mqfhb6W7DGYQT0+87JH4Z0bwV6h5B4P9SqZPA/89bA1NCXdkwHu\n",
       "Bqyxr3uSfrYAf8q302FLstRfmJTvjqrtcvF8SD4CYDYr38tcsOyB7fJyU+x6eY3yP2Aa6UuklCMB\n",
       "JrMipXdUJ2Le6imTIvU3WRSpv7UM1+oliTZSjgyYzMqRAUcVVWueSJRJid9rMtMZLicQgZfO2zmR\n",
       "tiS9zJvRBRzv/gV9vgC3n7AHZwUfUwxMln7UxpHeNo4aIlYnrlVLVOvFjw04KmpwldsHPmu1z0Ly\n",
       "0YD0Z6d2D5QZjL0CymrAYla+2yuU66MU1eWSlPLawRrIsMDboRxqS8ZWAf1t+bfZ1zJwFmSvBt8X\n",
       "meXlPdtSq2fYgzF7molUpLYpbS7M/Y26yyhLpJqU+1jKMfm7k9poVQ49JmOrxtzftL2Mt5OIcwx9\n",
       "/jAVdjO7Tqxg5dWLKQt0sC2tTFTCPT378mf3Yna1tXBP+QNEJh+B+UP1ftTGEW879V4VZk8bILLW\n",
       "M/k6sFePV5S8iXtJz1rts9DbrBxuTCb52and83RAxdjU+9Yq6G9ltKIZflMIsZ8Q4m0hRJ8QolsI\n",
       "8U8hxJ6DMbhBpxTxU+NHAJIJ9EBZtWYc32ybvHpi72qVSUj9kwl7leuJNmJHBpJJOzIQKa+jub2T\n",
       "b930Cbe8tgkAW7Q/JX5vpLyOXn+QC9qO4c/uxRxbsYpHa+5nTKVFVz9q99XiB6vVs7vGKkuklHtJ\n",
       "z1rts6AWg1krPrOzXlkiJRPqVa6PUrRc2IuBB4EbgbHAlNjrp0aloSlF/NS0IwB4O5XXC85UlZer\n",
       "eZH0HAnQKhOX+hPshWg4tpfhwz13e9xdPUcGvhp3DIffs47Gbj/fmlGVMX7viqlncGLHz3jPN5Ur\n",
       "a/7NDc6nKA+7E2W0+lG7r3Z8Ilu98O6nKpu8as8632MfWscGFp6p7MH4uiEcUb4H+pXroxStjd/X\n",
       "gaullB+mXT8QuFxKOeRamaKL8YaBd6lYmR1L7V1KuKm3beGl83bmW+PDA7w7765v5+ZX11Emgvyx\n",
       "+gkWRT7PeMRBy4tVLO9SePdTqZ7/A6VRrWdteJeAEit+hRBbpZSTc703mIw2xe9I0cEEg0GO/u7+\n",
       "NG7dmjE3dSQqefiDTTz28RbmjK/kmh/MG3INiqGDyY9Sx/j1qdzzqtwzyIORYmAAbDYb5198GRMm\n",
       "ThpgYPr8IW741xqWburmiN3GcdF3ZmGz6M2+UxoMAzN0aBmZqUKIrzJcFyjBxQ2KxEgxMG2tLaxf\n",
       "u4b9DzyYo4/78YD733R4uPLFL2nrDXDJIbM4avcJGVoZXAwDM7RoGZkdLxtBKfZkNNboGd3UBeQE\n",
       "0tuG1n1I3e/YFqrklHs30+UJ8vanX1JRUZkyljebzFy5bRHlNgt3/HgPdp3o0t2X1p5MvmEpXMF2\n",
       "6trzCNegRSF1R1ioh0LRClq1We1rsAY5aGgFgc4HjcDR2QyMWpBrPUHA8w2UHb8P29W8hDxsC7s4\n",
       "/K4VtLS28tA1P0sxMJWf3c8fvxnPr7bsy+yyXv4x5TnmmzfqHotWMPJ8g567gu3UNf47v4DfahRS\n",
       "dwcMJK7lwl4vhPgqw9f6LMuokU0pFL8qCtBsS6SUINbCpAS5tlcmAmDrUfxqtaF1H7YrdZsD5Rx+\n",
       "10oa3WFePGcWh5o+SJQJr3udc7d9l4daZ3DCuFb+uvt6aiodOY1FS1ms5/2mU+mwKgGnsj3PQp51\n",
       "IXW1FMGjEK3l0rvAt4HXgYeA9pKPaCgpheI3izo02LUl6x6MyddBtDz1WJi0OjF5lV+/HsWvVhta\n",
       "92G7UnfJf7bQ2BPgxQv3ZL+dKmNqWtjQ1s81K3elLVzOVTM3cuzY9rzGoqUs1vN+k0nswWg9z3yf\n",
       "dSGfEy218ChEa7l0JrAQWI8iwrsBmFSs5ZIQwiaEWC2E+Fvs9S+EEFuEEOuEEIdr1S86pVD8ZlCA\n",
       "Bvq78NjGZKmwPYh1MslBrvUofrXa0LoP24ORX374ND74f4vYb2Z1Qk37n7VtXPjEZ4SElQd3/ihh\n",
       "YPIZi7biV/v9xknZ5FV7noU860LqaimCRyGafkUppVtKeaeUcneU2cwvhBBLhRDnF6H/XwObAIQQ\n",
       "M4ALgHnAscADQghr9qoloBSK3zQFaKC3nVBfp2rAbq0g13oUv3oDZWe739bawmEPd7KppRsR6GFW\n",
       "gx383cigj+vNF3L9v9Ywe2wFfz2qjr3Mmwsai5biV2/Q8wFepEICfqtRSF0jkLhGYSHmA+cABwLP\n",
       "SCmvzLtjIeYAtwHPAAcAa4FqKeVvY/c/AC6RUn6k1s6IUPzGvAnBnkY8tjG6PCND6V1KDjj1xE0X\n",
       "cojpA8zeTjrsk7gocA6fdtr54Z4TOO+gGVjNpqKMpVDvUlY3dSEBv9XYgbxLJY/xK4QoR8l7fQ7g\n",
       "Ae4FnpVShvLuVImr+DpwHoqBOSDW9pdSyr/GyjwNPCGlfD5D/bOBswGmTJmyYPPm4e/oGkk6mLiB\n",
       "SVbyftXax9UvraLLE+SX35vNYbuOG+KRbsfQwZSWUsf4vQf4HNgTOE1KeZCU8slCDEyMc4G3pZRf\n",
       "J12zAcnpb6NAJFNlKeX9UsqFUsqFDQ1DHjdLk5FiYNpbWzMamDdWt3LRkyuQEv540l6GgTHICS3v\n",
       "0nkof+jnAGcnBXYWgJRS2vLs91SgUghxAlALOIE/khL7kEnA1jzbz59CpsEZDkL2Tfse7vUfUZNh\n",
       "qq83NGQ+yws9ZdIPFkam/ZgJEyfz+zv+xMLF+xGORHnw+dd4crOTRZYN3FH5CpbOE/COOzGlHz3L\n",
       "pVLkgEoYmHyXRIXkRxqqpdYIZMjzLgkhTkdZLv0FeATFmzUN+AcwT2oMcNiE38wQZjPs6aZrp2Mp\n",
       "b/9sQBhMb8NeVK1/TjM0pLQ6ESEP5kAfnumHEqmcoCssplaZ5JCYrX4HlSYvlcJH58Jf4dv1JLq9\n",
       "QW546m2Wd9k5tfxDLqv7EGuoJxHaMm4g9IQCzRR+M7kdPW2kk2Jgsj0zyO+ea+J20VymMJqV4/L/\n",
       "nJQixGuJKfVy6d587uWDlHIZ8CiwCngW+JmWgSk6hYis0sJshmw1+K2VuFYvySgkU66rh4bMV7ym\n",
       "p0yy0O6wu1Zw2mPbiFidVK/+O+ta+jjv0eWs6jZxs+sf/HrMR1jNIiW0ZRw9Qjm1EJl620gmZYmk\n",
       "9szyvQfqormhEvKNULRc2GcLIYJCiFDSV1AIEQJ+VowBSCkfllKeFfv5RinldCnlHCnl+8VoPye8\n",
       "Hcr/LsnYKpTrWvS1KDMYIBSOEghHwVaNye9G2lwpRaXNhcnvVmYYKX1VY/a0YvJ1IK3O1DpWJyaf\n",
       "Mg6zpzVr3ThaZczeTmjzvhIAACAASURBVJp9do64cznbugP88pCpYKvixa5pXPTkZwgBT1b9maNd\n",
       "m9LaqMLs7Uzqpznj+zN7mreX8XYqM5gs7ehpI86APRi1Z5bvPVCWSJnCo/Y2F/Y5KaTuCEXLyDwk\n",
       "pbRJKa1JXzYppRV4eBDGN7gUIrKKhdlMGBiAYA9RhyujkCzqcGUVoBUqXtNTZluoMmFgXrxwT/ae\n",
       "Ucv1HQdwhedEdp3o4t6TF7BLlT9raMvt/egIBaoSIlNvG5BlkzdfwZ3Ws1YTzQ2VkG+Eokfxm/O9\n",
       "EUshIqv5pxL2dBPob08RlLnnnpZRSKZczyxAK1S8plVGSskpT3ezrSfIi2fPYPbUsfx30zE85l3M\n",
       "T6Z5uOW43XGVW1VDW8bRI5TTakdPG1m9SPkK7rSetZpobqiEfCOUId/4LZThIsbr84foW/nPjN6c\n",
       "bJ6TofQufbV2DYEVzzI29A2/6Dgat3Ty6908HHBIqvJUyysEpfcuabqpDe9SSSm5GG+4MxzCb44U\n",
       "HUxbawsvP/cMZ5x7IUIIXvmimbveXE+d087vjpnHjDEV2o0MMoYOZugpdfhNAw1GkoGJC+2+c9hR\n",
       "vLAhxMsrm1kwtYbfHjknNf/QMMEwMKMDw8ikkz6V9bkVXUN6pgH0G5h8lktaSxA9y6X4kqt92wZO\n",
       "ufRuWjp6uOvvz3HHRz2saurllOn9XB66BftTHQUthfSg1U768tA6eSF1DdP1NZ7v8mOoli0jbLlU\n",
       "KEMb3Xm4kR7xbMuHSt5ib7vyIQj1KYK7ta/mZGAyRXWrWHZf1mhwWpHgtCLJwfZodG0tTRz7q7tp\n",
       "bu/k91dfxl9WSTa09XP9Hj1c1Xs1lnC/koEx5KH2k1spX/WU5ti1ItLp/R3E20mPnFcugkpEu1JG\n",
       "qStFFEQ9DFW/Q4hhZJJJF0pt+VjJUyxESh7r4LK/614iZROaqYnxtMRpesR4cUHfig0tdHS5ufC6\n",
       "O/lj90LKRIg//XQvjuu6T1UgpzZ2tYh0ufwO4u0kiw/L7DaqqmtLL24bKlGcIcbbwUkXSvm6lTzF\n",
       "4e0GJWR1EelpylA5M9mEZmpiPC1xmh4xXrS/FWl1ctB+e/OTG5bwVMdkFo6J8vA+jezUUKEpkFMb\n",
       "eyaRnBpa7cTFh2U2y/a9oVKL24ZKFGeI8XZw0oVSZTVKnmKLsvkYCkcJeDpTRG9aZBOaqYnxtMRp\n",
       "WkK7ttYWvnfurTz9xsec966VVxsdnLZzmDsWdlNRFRPAaQjk1MaeKSJdPr+DRF7usnrKCaRuPpda\n",
       "3DZUojhDjLeDky6UmrKPkqdYSkKhMIH+9gGiNy2yCc3UxHha4jQ1oV3ci9RIHX/17svGXsGNiwKc\n",
       "P6sHW3C7oK9YQrtCfgfxdqyTF1IlvIMrbhsqUZwhxht5lFyM53MTXPsvIj1NWb04WgyWd2mLczd+\n",
       "euwRuOt2xXXwmUyosnLLgl5mWtszCvqKJbQr5HegK1yDFoZ3qaQYOpli45qY8sD7/CHap/wwpYie\n",
       "pGjJRJxjCYybnygfX9b4dzokq8HKVidOtLyeUPUMotZyIs7xdIft/PS4o/HMOZrKuQezaHotVy8I\n",
       "MW7rW4k/7LBzXMo4o2W1RJzjABE7M1Wb8zjy+X3ESdHBpP3eB6D2h6lVNxvNn8OKJ7bLE0yWwflj\n",
       "z3e8IxRjuaRCPonX0sm1vJ46mVzCtrXPU3nUFZTNPZj/WjyVWxaHmLz6/qK4wdXGrqdMpvHWfXk/\n",
       "De4v9T2IUrh94/F/Qn0D5AkGxcUwMlnIN/FaoeX11El2Cbf0eHmhsYYff3M4YYeL3x0zj9P3n0bl\n",
       "xleL5gZXG7ueMukubGtFPWWV9foTmpXC7ZsW/ycuT2D5I/m3aZARw8hkQE1opxXrpdDyeurEXcLN\n",
       "nX0c9fcWrmnamypLhMd3+jf7z6xPKZPSRo5ucD1j11MmeSw2iwmn3bI9NoseSuH2TYr/k8BerVw3\n",
       "KCqGkUlDS8mrJylaIeX11Ik4x7OluYWjXikjsvcp7GFv4bFd3mdK3fY/xELd4HrHritJXGwsCQMD\n",
       "uSU0K4XbNxb/J4VAj3LdoKgYRiYJPUcFtGK9FFpeT52PrYv44bK9iEzflx/Yv+Ch3T6nOtSR4lou\n",
       "xA2ey9j1lPHMOAJ72I0z4s4voVkp3L7zT1XOpXk7IRIbk8+tXDcoKoYLO0Yup6lz9abk433JVuez\n",
       "Ld1c/uRSguEoF1Z/wrkz27K6lot5yFJt7FplKh1WZZO3kIRmpXD7ZsguET/8arAdw4VdBJINTPof\n",
       "TFRYKGteOuAP1ZvBSGTTnVjbV1Gx9pnEH3NUWDSNTHqdCBae/CrKfe9sYGJdNWeM38IPXWYlJV4W\n",
       "TN4OrD0blLjBIS+mtD2MUMM8+uUJifcaapg3oI2yr17GtXoJJr+iUnbPPY3+BeeklDF7WrG3LM/o\n",
       "Kk+4qRvboONr5Q866BmYnF7LiKi5ffMNTLXL4YZRGQR2+OVSuoFJdsdaO9ZQu/Q2TJ4WzVPI8bQf\n",
       "hDwpp5qr37pS01WcTrp72RfwcdU/1/KXtzewz7RqHjjUygmmN1VPR2u5qPW4niuW3Uftsjsh7Cfq\n",
       "qIGwn9pld1Kx7L5EGbUT1gkDo+UuLsRFrVZ3BzzxPBzZoY1M+hIp3R1r71xD2FGFORLQPIWcLe1H\n",
       "5fpnNF3F6SS7l7eFqzhp2wm8GdoVz/uP8OPpYRq2qLun09vI1K8e17Nr9RIi1jLlIKXJArYqItYy\n",
       "XKu1T2rXbHltu9BOy11cqhQjO+CJ5+HIDmtkMu3BpLtjTf4usFUjwr7EtWynkLOdajaFfZqu4gFt\n",
       "xdzLH/SP44SvD2VDvwP3i9fzxMK17LHXAn1pSDRc1Lrc0343WMpT27CUK9cT/Qwci9VZi9OXtBzS\n",
       "cheXKsXIDnjieTiyQxqZbJu86e7YqKMWgj1IS1niWrZTyNlONUctZZqu4nTC5WN5sHU6524+kP6u\n",
       "Nroev5Qnj4bFe8xW+tKThkTDRa3LPe1wKUuMlMF5leuJflLHYrOYcEb7Ut3TWu7iUqUY2QFPPA9H\n",
       "djgjo+ZFSnfHBurmYPH3EjHbNU8hZzvV3DfrBE1XcTK+UISL+0/hjq79WWz5CtO/ruKZ0yZw4GRL\n",
       "oo6e09FaLmo9rmf33NMwh3yK8YyGY+llfbjnZj6p/f/bO/M4Oeoy/7+fqupreu4rcyQhIRByIYEE\n",
       "CAgouoQliKiIiOt6H6ireK4Kniwe8AJlddefoLgqHhyiywqoHALKmYQQJOQOOcjc03P33VXf3x/f\n",
       "7pnuTs90QzLJTKY+r9e86lXfqv7WUzVdTz/f5/g8XhMdps4PTxcLF09Wi5EZWPE8FTGjQtilhKlL\n",
       "jS4VwnjRpVJCxQBtA1G+fs+L7AmFuWJJio+lfg3DnUhl0wGfKaU6uth1SwlPlz97c9HokrfzOWr2\n",
       "/VkvkcYLTxcLF09WFfY0q3ieinBbopSoZKZ6V4F1e/q49r4tOI5D9OEfcf7KhXzhK9880mKVBLer\n",
       "wNENN0+mGAbbiO5ZR7Svg7ICv9b5v+apYBNWuHN03xjYR8Wue3Ksk/jcswtaAONZBuNZHeZwO96u\n",
       "5/nV5gQ/2lHF3EqTl++8hq4dL7D6PatovO8D41ohh8KSKYVPpqREO6cXNhexFopZFEeq0ZqLScfR\n",
       "bckMthF98Y8MOQGUJ4gkw5jxYcLzV48qheDuB3Qo1xPEHNpPoHM90aaV2JWz8e96iPLd92EH6nSe\n",
       "SGIIMzZEtOW1xI49N2fOWONJ+DNh4azxRHkrldvv1mFer+6LbcUGGFp4CamBdr6xtZm/dvg4p26Y\n",
       "J3/0BTq6+/jV967igsT9OgTtrYbEAFZsiL7TPj/akbJ6480HzDmw/KOjiiaTJzPeHJm8HtsT1FGx\n",
       "xBBmMkzfqV8YVTT5zyf/+Y0qmG3369Cwt1w7VmNDcMKa3CXLROcUO77/WXjyh1BWowsrYwPa73Pm\n",
       "J/XSq9j1XRwUDtaSOaodv9E967SCGScXJD9XxIr2kPJXY0V7QAwCnU/pPBHDHM19UaaBv+fZA+YM\n",
       "7rq/YN6Jzlc5MI+k//l7ed/62Tza4eUTSxKsu+WLdHT18Osbv8h5vucnzHEppYtAsTyZ8fJ6srsV\n",
       "TJRLM5bJW0IuSrFzih3ffI9WMGXpeymr0/ub73FzYaYBjtrl0nAsSbSvA1XWkDOuPEGMSA+gc0Wc\n",
       "rOMSH9KdBNKhaCM+jOOrROxk1gwWRiI39Ks8QZ0v0ryiwHgXyZrjc8b/Fp7H1bvnY3hM/vOsJKc2\n",
       "Kuo/8k5qKss5c2E95uYunaWbDW815ojOxjXDHdjlub/SyluFOTKWyWqGi8wRCenM5JzjlZjhsfyW\n",
       "/OeTuadgsp+KjA8m0quzaXPmKc8tGyh2TrHjQx1QPTv3uL8aBvaXdn0XRxRHpSWTcfIWywXJP658\n",
       "lbqTQDqpzvFVQCqCMrNbuKZwvLlJbJIM63yRAteyg7NG80gcBT95uYUrty5itjfMDUv20r9tLQAX\n",
       "vO50zlg6d4zicoIcl0ORJ1NKt4JCz6+MOBW1WXQIpeSiFDun2PHKZr1EykaGKsLNhZnyOOqUTHYU\n",
       "qVguSP7xVKABKzZAKtAAyiHadIbOE3Hs0dwXsR1iDSsOmDO8YE3Ba+l8lQHC4SE+v+U4frRvDhdW\n",
       "7eHrK5J8/N+v4VPf+AGDQ8M5shXLcTkUeTKldCvIfz5lKqq7CmTnmZSSi1LsnGLHl1ysfTCR0IFU\n",
       "EW4uzJTHUeX4HY+Td6LoyOGILnVuX8/VD/awL+bns8fs4fSFs7nsii/S2d7Gb773Jc5YWH+AbMUi\n",
       "Q4c7uhRMDWgL5tVEjko5x40uTVlM2xC2iPiBHwCvB3zATUqp74vIlcDngCjwaaVUSczO4+XB2BUt\n",
       "pMJdBDs3YLY/g69zQ84LmU9TQPVx+AZ25ry8HXnJZ/6XHixI3VCI0uFvXV6+++cwXmVxy/y/0eKJ\n",
       "cdGHbqCzO8Tt33w/q8N3YTx1YKJbKTQMB4v43LMZ9FfmKMVCCHhNKqwJviqlsO8fLEP/7BXj88/M\n",
       "MPb/6YYjZsmISB1awfweqANeBN4B/ARYAcwBHgKOUUolx5mGlStXqkcef2rcRLuJwr1AzjFrYBe+\n",
       "7o3EGk7CrjnuFYWGR+a+kfJ9D4+OO/EBbul5Df81fA5L/CFuPP4fNJX7+NHvH+M7dzzDnVe9ldVm\n",
       "OnpllUEqgpmM0rfi00QXXjRh6PhQhLCLhadBWzG1bQ9TUVU7ueHhYiFsF0cU09aSUUqFgLvTu70i\n",
       "8jJwDnCnUmoY2Cwie9AK5+nx5nGUmjCTNyfcCzrcmx4Hco5ZkW5sTxBPtBu77oScczMvb05oGHRo\n",
       "GKjc8msSdQvBX8ew7eHLPW/h0eHZvNX/LF9c3Is3UAUifOySc3nTaceyZOCv2J6yscptbyU2ml7B\n",
       "qZ47FjoGHTpGh5QjFS0T3lNxOX9L7NjzcsPTBa4BUD2wSSsYX1rGzLZtw6F9+bPD0JN5HRdHBFPC\n",
       "8SsiywA/UA/szTq0Hzig5FlEPiIi60VkfVd3z4RzT0SLkH/MSIyAtxLJClGXSqFgJMPgrWZXrJLL\n",
       "X1rN48MtXD1rLdd5bqU/Ilx01S/Zsq8bEWHu7DmaAmIcGoVSuxUUuqdicpZK9VDh91DlDB4eqgSX\n",
       "kuGoxhFXMiJSD9wGvB/wAk7WYQew8z+jlLpFKbVSKbWytm7iUOVE4d78Y463HBJDqKwQdamhYccT\n",
       "5KG+Wi7fvZoh28ut8/7K5eVraU+WcfFXfsnzuzoYHImNzulYgXFpFErpVjCZVA+jiXaHKzzshqGP\n",
       "ahzRZDwRqQHuBa5SSq0TkQuAbPt4NvBysXkmiiCFF6zR/gvI9V8s0lGU6nU3wdA+UKCUgzfaS9JO\n",
       "Eth1P8r0oIwAkQXnU77pNpxAPSPzzqd23feR1BbESaEMi5RZwXXBL3JrWyuvMffw3/4fM6t/mPaI\n",
       "j/N+3k9HaIS7rr6IVYtaR8PNw8dfStXW36R/rR3AAMND6LSPEm88SftLINdf0nLG6D3VPfJlzHAb\n",
       "hp3AMb3YwVZC535n9JkMLb6c2se/iQzswUDhICjDR99ZHwF0eLr6iW/j734WIxHG8QaJNa4g9Yav\n",
       "U5dJtGs9BTamZbSTYHr0i7/8Xbn/gIkiPxlMFAFqPUX7ZCDPJ3NWsX+9i2mAI2bJiEgl8Efg2qwI\n",
       "0n3AO0WkTESWALXAxgnnsRMTctUmmk5mYPlHUZ4KzJE2lKdi1EFqB2eRrD4ODAvDjoOY2OIH04sg\n",
       "YCcw4/1IKj46t797A8pOod3lwqAKcMXwe7m1rZW3+9bxm+D3aTb66R62Of/mPbSHhvnlzTex6sQT\n",
       "cq/fuAxbGYACBFDYysDxV2NXtBCevxpllWFEelBWWY5D1gptx4q0I8pBiYkoByvSjhXaPvpcnLJ6\n",
       "nLJ6wNAcLhhZY+Db93cCbU+Ak0B5ysBJEOx8grrOJwo95bxtFjJ1RYlhnZWbGNb7+58dO6cY125V\n",
       "q3byWmU6U9cqc52+RxGOpCXzKeBk4CYRuSk9thr4FTrSFAM+pIqEvyQVLerATDSdXJADxtf9PInG\n",
       "JcRnnw5A+ZY7cSwv+GqI1RyHp38ndrwfX2gLycZlKK+u23ECFdi1K9kRq+LKl8+mPVnGNwN38Lbm\n",
       "HgisIgZ44ymOb3mEH65ZynFr3kt/3rXr/nY1dlULtr9mbDDWT9WLvyCy9DLsipaCHRFA1x2l/DW6\n",
       "7qjAZyHtBK5fhJp95tizivWNOoerXvwFtr9ydA7TEKzkIKy/FVa8W3+gbQPUzIWmZWPXiQ/lOmSz\n",
       "64pgbLv5njFrphTHrhuGPmpxxCwZpdS1SqmgUuq4rL+XlFLfVkrNV0otVkoV+lnNgTipV9wGNoMD\n",
       "OX3705y+2lciaX5eI9Y3dk58GDG8PDA4h3ftPo+IY/GzYx7iX4wHEF81XQNRBiMJynwWt3/mDZzd\n",
       "eoBLCRifE9iMhIrKXcpni7apzZrDNASvZYCnEsJZz60Uh+xQh64jykZ+C1rXsTujccQdvwcLZViv\n",
       "uA1sBgdy+takOX111Eel+XmddKgYIOmt5MaBs/ns/rNY6BvkzmP/winWDhxPkM7uTi74zkP86w//\n",
       "jlJqQi7fUmqHxkMpny3apjY9x6iCAUgOQfAV1BzBxHVFr2QeF0ctpn0VtrICmPHhcZ2kEyHfwRqv\n",
       "XUxwzwMkyprAsbFNH77YEOHmM0A5DIUjfHb4gzwZbuAy31N81f97PCGFMnxsn/VmLvnij2gfTHLL\n",
       "hT58bU+gPOWEzv6Pgo7pwaXvpe7pb0GkF1GgBDBMQss/DkxcEjC49L3UPXktKtqDKEGJQpRJ6MyP\n",
       "j95beMGaHKc2AoiHgVMvG52jft13sYYjYHjASYLjwBs+NfaASnH8LrlY+2Agl+tl+btz5ynm2J2s\n",
       "0oCpWHIwFWWaREx/S8b0TugknQj5DtZkwxL6Tvs8drAJc6QNJ9hE32mfJ1m/mF1dA7z/8RrWjdTz\n",
       "zdoHuab8D/hUEjBoS1Tw1q/9mrbBFPe+r4Gz5nkRFKLAiPYVdEw7gVpSgWaUGKCSKDFIBZpJ1S0s\n",
       "2pgtVbeQVMUcRCzETiFikaqYQ6pu4di95Tu1DYtk9XGjlpXn+DdgzTtHK5hEWG/nnQXHnVvgSU3g\n",
       "+J29QpNHeSs09YK3Qu9nR5eKOXYnqwnbVGzuNhVlmmRM+wLJE5efou558G+Teo1Ht3Vz/Z+3EfRb\n",
       "fO+YdZzkbx/NtgW45Cs/Z+3WNn5/5amceeJxYx+MhTATYYZO+uCoYxpAEsMEd95HKtiYM4/E+lCe\n",
       "CjwDu3SXRX9dzlx4Kui+8GfUPPEtJDlc8LP9r70agLJdf0JSkQOuq6wyzKVvpuHlB/QX3Jfl24kP\n",
       "aQWw5CK9v/mPxc85FJis6xwu+ae7TEXgMuNNImxHcfNju7jm3i0c11jOze9ewcnG9gMcqjd87E3c\n",
       "974Gzlw6P3cCbzVmJFTQMW2GuybIRJ44W7eUjN/xMnqDqQGdaFeKM/ZwOWwn6zpT0eE8FWWaZLhK\n",
       "ZhwMRpN86e5/cMf6/Vy8vIUb33EStUHvqEO1s2+YG+74O46jOLbOYNUJjYUzbMvqipJZjY6PZiIf\n",
       "PGlVUcKpQ0E2dagwWdeZig7nqSjTJGPaO36zke1gHdOfTg6Nga/7eXxdz+Hp34kSSFUtOICLZWf3\n",
       "CF+750VC4ThffF0jb63ZibHlaZxAPdHm04is/RVvue4R2kIjvPXUVhbV6kZoVVvvwImGECwUKQwH\n",
       "+pd/FKuAY3po8eVUr/8hZrQLw47jmD7swCz6zvkmRqQ3na27GwOdD6wM/2i2bjGnLminduXzt+IZ\n",
       "2IERH0H8lQSaF8Gij+kTSnHGjjp+Q2AnwPTqPJj8jN+DdWROVsbvZGYSv9p7noHZzUeNJZOhLpBU\n",
       "BMQk0LEWX+daEBNJRajYchflW+/C07MZf/taSA5jJKOY4U6qN96Mt/M5AB7e0sUnf/sctqP44UWz\n",
       "udT7TI7Ttm/vZi648RnaQiPc/YU3suCYOQws/yjRhRcRbT4VDJ+WwfARbT6V+NyzCzqmAcx4v2Zz\n",
       "EwuUgxnvx4j06szcYD1ggp0CTJzgWLZuMacu6AJJT/9OcFKYviAB04beHWP9p19Rlq3K22bhUDgy\n",
       "Jyvjd7LmPZh7noHZzUeN4zfb0enrfBbsOIKgTC/xphX49j+OANZwO6SiOgpiJ8CwSAVqSVoVXJe6\n",
       "jN8928ZrZlfx9YuW0NrxcI7ztKu3n0s//lXauvv4nzv+j5WrxrJpJ3K0RhZckC82jfd9YFznbrJ6\n",
       "wYSO3VKulXEOe8rrCfrSBmskpO979TWlPdxSnJTT0JF50Jhh9+w6ftPIdnRKfAhMP8r0j3UesJOQ\n",
       "SuisXivtEDU8SCpCSOr4+KaF/O7ZNt52cis3vP011JR5D3CebntpH70DI9z+3U/kKJj862cwUebx\n",
       "RM7dYo7dUq5lhjvwBGvHFAwcmIlbDFPJOTyVMBPv+SAw7X0yRnyQ8k234RncRyoVx66ai/JVgh1D\n",
       "EBxvJUa0D3OkDXOkGzPciThbwfLhmAFeUPP41M6FhJwg1yzYzj/NS2Ds2YER7cUzuA/V/xL078Wf\n",
       "GmRNRS0bbvkk5ZWVmE98K4ei0wnUYw7tx4r26NYqvkpSgQbsitaCfLx2cBZGpFu7U+w4yvSh0Esh\n",
       "O9iMOdKul0KpCFhl2meTduxmnLo5lkxelrNZ3Uow1gHDY3Pg8eVm4hZDxkmZ/Ys9nnN4onOONszE\n",
       "ez4ITH9LRjk4ZQ2kgrMIdK7HHNxHsvIYrGg/EuvD9lbha38KIx7BjPWhMDFSESQR5v8GF/Cu3veD\n",
       "svnFMQ9ycdk/qF17A57eLbrfkJ1k+Lk/cNZX7+e3G4YgMUDL/vso2/0AkhzGLm9FksNUb7wZYkME\n",
       "Otcj8UGUtxKJDxLoXA+xIao33nzA+bGaRVgjbRAfQBkeiA9gjbQxMu98os2n4e3bDvF+MAMQ78fb\n",
       "t51o82lA8S4MFX4PwQVnQfc23Y3ADOht9zaYWzwTehSHohPB0YiZeM8HgemvZMQEMbCr5hJtWokV\n",
       "7gJlE20+jXjTaVhDe1G+KhyPj2TlXPCXEbequCZxOV9IfJBTzF3c0fo7lgX7Me04KX8lvtAWEIPQ\n",
       "/p2s/kkH+/qizK31gK8G2zCQZPSA7o3le/5CtGklyleFkRxC+aqINq2kfM9fCnZ79PdvJTz/TeCt\n",
       "SBdmVuh9fyWGShGetxq8Vbo401tFeN5qDJUCDsxUzs5yHiWcclKwcA34qiAa0tuFa/R4qSjFSTkD\n",
       "HZkz8p4PAtN/uZQYwtf5LLavBjPWhxnuIN50yihxVfkmbelU9ryI46+jJ6b4dPwK1idm837fY/x7\n",
       "8F7sypNHK69Vuuq6q7efy777EG0DCf7wmdey8szXkwSsvu1IIoynfyeSiqKsACl/vU6u85RBFDK+\n",
       "dOUpK9hBUnmrMLtfYGTxO4jPzfLtKGe0u6Vd0UxSJUaXXnZFc47PpVBnhLKGY7SCAe0fqGoBJ65/\n",
       "aX2Vev+V+g0ORyeC6YiZeM+vEkeFJaPrg/6MOdKBXd6SQ1yV8V84/hpeGAlySff72ZSYxfV19/Ol\n",
       "8vsxTEMTN1mB0arrQVXB2z/xdfb3x/n9p1ZwxuKxFqkKB3Hi4CR1tbaTxNu/Gcf0EWh/Buw4ylcF\n",
       "dpxA+zPYvqpxEudmTVA9bhScK/PvKlTbVP/sDTS0/TV7Ntj3JNhx7fC143q/UP2RCxeTiOmvZFCY\n",
       "sQFs04MZ7SVZfWxOY/iM/+LO5Fm85+U3YeHw25qf8KbyrShvOcrwYcT7SfnrsU0fVmwIT+uJXHL+\n",
       "2dzxzfdwzhwT2/SNdmoULM0F7CQABU4CsZM4/locQTPqIdrpLJCoP7Fgt8ehxZdP6FcpNFcGOZ0I\n",
       "DBMrWI83WAsbbhs7SSTnGRUed+Fi8jHtl0sgGLE+HF8NNuAZ3I3R8zyOpwLbW8HgvPP5Xtty7tk5\n",
       "yOlV/dzY+BdqY2HMaB+O4cEpq8f2VmMkh2iLV9AZXM1yO8ZVZ/uwg42MSCvB/Y9itq/FLqsj1nAi\n",
       "qbpF+Ls2YERDOP5awseehTf0IvHm0/EM7cVIDOB4K0k0nw7KJrLgn3V0aaQNO9jMwKLLSDSdjFMo\n",
       "6lTRAjjYZc0E2h7HiA3g+KuJtp5FhmPdDHdpCwawTMHvMcGozk0GUw40LIb96zT1QlkNzD5Vj2cw\n",
       "wygHXBwZTHsl43iCxJtXYgy3Y0V7cewEjrcaifczOBLh879dxwtdMS5bOZsPnX0OdB+Ds/FmEv5l\n",
       "OcTi25ov5h0f/hypyCCP/+Z6PM0r8HS/SPmeB0jULiQ2+2wkMYivdwt25VxGFl86KoMkhrFjfSjL\n",
       "R7xpRc64ssoK0n+aw+34u5/XFJnNK5BkGH/38zq0HRsi0PZ3bF8NdrAFUhECbX8n7NW9rjO1TVaw\n",
       "XisYgPgAVDSNXUAM6Nmi6TMbFkIqpvcz0aXshmrljToEu+1+14Hp4pDjqFgupQINeIf2YQfqUaYP\n",
       "7CgvjFTxzu3nRRhHYwAAFS9JREFUsqM3ylcvXMxHX7cA05DcxmjpaM/+qIfL3/MhOjva+eFXr8AT\n",
       "rAEx8PVtIeWvTKfu63OTlXPxd607YJkTXrBmwuVPPnKaq4mRs8SzhvejxKNJokTA9KDEgzW8H9Cd\n",
       "CLzJIfzJAU0SHglBdBBO+desx5KdyS0Hjmfz7oqht/5KPe7CxSHEtLdkxElhV7QSazkdiY/g6XmB\n",
       "3w0u4tqeVczyO9x6eifNi14/er4Z7sDxVqWjQxE6RoQ3X/cY7aFhbr/+U5y+5Bg8nc9iJIaw+ndi\n",
       "++sxh/bqNH6rjFSgASMawtu79YBm93Zwli7QjPTgBOoJt5wxLnmWEe3VuThZUJ4gRqQHIzlMon4p\n",
       "VrQHUmGwykjUL8VIO5A9S9bgtcKa9Du0R1NmnvoRWJRdvqCgvAV2P6ZzZPw1MP91jPpnIr3agsmG\n",
       "t1yHZCcDM2lpNpPutQRMeyVjB+qILLhAZ/W2rec/Bi/k7u5WzqwKcX3rk3grTia7sN7xVOAJvYjy\n",
       "16KsINff8wztoSHuuupiVpy4EF/HMyh/LY63GiUW3oFt2GWzUFZQR5K6nwPDV3CZM1GHgXxMlLVr\n",
       "B5uR5DDJmjECLIn1YQebdR6M0wt2FM64IreSd7Bt7MscHYA9j0KgBqpm63P2PAr+dG3N4cxanUlL\n",
       "s5l0ryVi2iuZDHpiBl9+6Wz+EanjA61tfKJ1B1Y8STI2QNmuP43y6zreSgwniW3HQSy+++YWPrw0\n",
       "wbLqduxd94GYJP01gEJ5y5GRdiTWjzW4ByVgxgeI1Z9csAVLPL3NbzJXiON3ogZuqWBTwYZ0yde8\n",
       "W+fBbN6gk+q6t47lwJQ35rYYGXwZDC9YXr1asrx6fzDdK6/1FHjmx+k5wuALQuMiOP2KQ//PmUm9\n",
       "rmfSvZaIo8AnA5vaBnnPU7PYEa/h+oXbuLL5BQzLS7LmBLyhTTlUDdbIPnYHlvOBn25kqHMn5fFO\n",
       "li5cgBNsRFIxzGgII9KPxAfBtEgGWxExdJ6JmNhWJXi8OddXniCegV0FuXy9nc8VHAfGzdot1JAu\n",
       "edq/UXPCKn3B0A6tHLJzYLq36vEMYsMwa5nm7k2mOXxnLdPjoCkfureBSoE3oLfd28aoIA4lZlJB\n",
       "4Uy61xIx7S2ZwaEhPnPHc7T4Evz3yd0cW1uJM1iJxIfwh7Zg+xtyrI72eIC3fPUXtPdH+LfXVlIz\n",
       "rwHlL9dVzZ4gdrwfMxVm5PgLsSK9IILtmz+6dPF0P4c53Ikv7bdxvLoQ0ogNkihvPsDCGW2yVqj5\n",
       "3IILxl1e2cFZxJtOwYj24quaRVXTnLGD0QFd9Bjtzy1+jGax6VU2H6gw4kNjBZKb74Hq1rFmbKAd\n",
       "yNlN2Q4VZlJB4Uy61xIx7S2ZrqhweqPDL05rZ1n/w5Tt/asO15pejFgfZqwf/97H8O99hIGN9/Pm\n",
       "r9xOe2iI3195Kqe3mKAcrJEOHE85qeAsRCyMSDcoB2UYmHYS21cFSukyAsOPGQsh8UEcz1ghpIJx\n",
       "uHw7xqVlMIfbKdv1J8o33UbZrj+NttbNJuDyVTdTZSVzSZHEgO7t0L8bhrv1tnu7Hs9g7hnQszW3\n",
       "QLJn61gIu5SmbIcKM6mgcCbda4mY9pZMnU9xw5kpDJmNPVSHNbQfbzKMQqHEhxHpxBKH/ckaLv7a\n",
       "7bT3R/nffzuZVSc0IT2bMBCU5cMT2oRdOQ/HKkOsAEakh1TFXBLVCzFUYjTBzvHXEPfXonxV6bqi\n",
       "KqLVx2GFuwo6crUT98BxMLRPxlehl1HJMMHdDxCev3o0vO0vr6Eq4AHS9UiZdX1sMK1QDMBm9N8Y\n",
       "yypfcFJwwgXQ9aIukAzUwtwzxwokK5thcD+k4prEywqA9QqpIEpFpqCwbYOOXpXVa7rJo9FHMZPu\n",
       "tURMeyUzywpTtu8RlK8SMz6E4SSJNSwB04+3cwNWZIiU6cUJJ/BYwh8/0MyqOYJt+khWHY+3fwsp\n",
       "qw5xDIj344kN0Xfa54kdex7mcDsVW+6C+KCO/KaimLF+IvPPG6XCBHRhox0r3GRuwRodfcobdwzP\n",
       "uD28jWivtmACnrFrZIeX4yNgWpqaM8Pxa1p6PINILzS/BlqW58g5OsfcM+DR70CgCnzV2tKJDsLS\n",
       "tx3y/xEwswoKZ9K9loBpr2RApYsIY1gDu3B8NdpHAWD56KKG2lSK+YEhnvnCUgyVNgKcFGYiRMpf\n",
       "D4ZP+za8VYSbVo1SKgBIYgjP4B6M+AiOrxywkGQkRwJJhklWLyDeeFLBPJlC+TOBvQ8XXkZFerQP\n",
       "xowzasFA7rpeBEZCEO2FVEJHjgL1UJPVkqWsHgb2aaWSHYGqTBd7Oin9i9u1CSJ9uuxg7mtfGRXE\n",
       "K4GbOzJjMe2VjKTieHteRBlmOpnV0b4T00/HYII116/j3JPmcuO7TgI7gm07mLEQoCCVBE+AROOJ\n",
       "xGedjBOozaFbCOx9BCPWS6p6Acr0I3YMY2g/vq7niAZqSm6LWyh/Zrw8GV/VLKoWnD4xo/1IL4Q7\n",
       "wPKDv0oXa4Y79HgGlS2w6W6tPDLtY/t2w5ma+EpbOidCS1ZGcralk8GhUA6l5I4cCSXkKr7Dgmnv\n",
       "+NXQRX/KX43tqUSZXrq72lhzw5O0D8R5yzkn4ngCGMkEgk2idnG6S4AC0zumYMilsfT2/APlq9YU\n",
       "ECIoK4BT0YJCCnYfKN96F/72p/D2vIi//SnN95J25uajELtdmYpoBVOMFGnoZfAEdYsSHL31BPV4\n",
       "BkPt0LAIRnpg31q9bVikx6G0/j+lsvIPtmly7fX/o7f5x4uVMByJ1q0zsF3skcK0t2SUJ0Cy+ljN\n",
       "iOcksEba2Rs8ibd86y909Ee565r3seLUlaieF0hWzkFZfkCRrGgi3nASVrgDZXr0i55nlQiCk389\n",
       "QLzlB3QgKN/0a3w9mzT1g2OjDBNruAM7UM/Isn85QO4Mu11mGeWrmkXFgn8aUyQTreudlH4xnCTY\n",
       "SV3jZHggGR07J7QDhjtyCySHO/TSCkrr/9O2QddGZSf9BWflJf2VYKUUK2EoJYHtUFsdbtLcYcO0\n",
       "VzKk4vjbn9ZOUMMk4a/jXV/+IR1dw/zmpq+w9LzLGKloIZp24ko8hGEnUako4isjPG81gY61BegW\n",
       "IN5wIoGOtaREwPRrv09sgGSwmZo8InF/29NIfEBz1Hj8WtnEB/C3PV1QycDYMqrC76Gqwpd7cKKX\n",
       "qnY+9O+BQDUYllY60QE9nkF0AAwDPGn/lKdMK6FMLk1VK7ScovNihjp0VGnJxbkvWGgH9O/V2cD+\n",
       "qrFK7lSWT6qUl7WsHvpfhnBXrrIqVQlNRqr+4a7dmsGY9krGsONIKgoIpFJ4JMTXP3Ah3qpGTj1p\n",
       "Ecbeh3EC9aSCTSjR60OllK5LTgzh7908bh1S9JhzMaO92ocTGwDLi2358YU2k6xo0cTgiUGqN96M\n",
       "MfAyTlkVmGllYfpQZhwjNnGm5ygnbzaKvVSnfhgevkYrDbF0tq7p0+MZBKp1SDsZ0eHpVBQcR49n\n",
       "rtG+AZqWwtzT9TXaN2i6iOz6p4kUFZT2sla2wHO/0pYXAihteb3u3/XxYglsk2F1uElzhw3T3iej\n",
       "RMAM0BaxuOuFCI63igsa2jm3Ys9oKr853EbN09fh69yANdyOJCMoK4ARG0DioYJ0C6AtjZFFlxJr\n",
       "OYNEw1JiLWcAgu2rwor24Q29iJUmvzJSEcRO6IZxSoGdQOxETpuSfBRUMKBfnkxt0q6/6q2TGvNh\n",
       "LLoA3vg1qJ6vX9bq+Xo/uwq77nhdi2T6tII0fXq/7vixaxSjeghUa8WUjOh7SkZyFRWU5tvp2qSX\n",
       "aaYnHW736P2uTfp4sQS2yUjVd5PmDhumvSWDgvb+CBf8v510DCZ47YpltKT24KRzUKz+lyjb8wCe\n",
       "/h1g29jBRoxAHQnLi2fwJVIVs3Omk1QcX/vanGLGbP9LcNtdGMlomhNYV2abiWGUZWmOGieBpMIo\n",
       "Q+/HWlYVFHtcBQN5y5RqbYV0b831uSy6II/aIQ+tp8BIp1Ys2T6X7Be3mAVSdzx4AnosNqAVUeOc\n",
       "sTB45jrFfDvtG3UluDcrZJ8I6/EV7y2ewDYZVoebNHfYMOWUjIi8A7gOncr6baXUzyY6P4HF+T/e\n",
       "RftAnLs/dy6NnjASGcGM9OHf+yi+nn9gJIbTrVMcjFQUifRgecp0xCmL5NuI9mmqB1/VAVm4GT+N\n",
       "KFAqlY7sAKYXlRzGDjQQr1+ql1bp3BXbX0f0mHMPkHlCBQOlLVOK4VC8uMUUVSnXGUV+O+S8/Ykc\n",
       "3ZPVpN5NmjssmFJKRkQqgBuBVWgls1FE/qiU6hnvMzs7h7EM4e7Pvo6z5yjMSDepYBNOWR3WSDvW\n",
       "cDupQB2GYQEKJQbYKayRdhK1i5GkDiMrTxBPaDOGgmjdkrHlE+lixrSSSdYch799LXZiWLe7TYUx\n",
       "U0liLSczsujSglQP2SiqYCDPn+LXDtf8ZUopONgXt1QFUuxlbT4JXn5aL8sy/qHoAMwpbOUVvA/X\n",
       "6pi2mFJKBjgfeEwp1QYgIn8F3gjcPt4HkimHP3ztzaxa1IgTGyRZMQdBIQqMWA+OYWIkhlGGB+Up\n",
       "BxwkMYIjQeKzlqeXPTrnxUgliLacPpozA2NZuBnEZ52MY/jw9W3BiIVw/DVEGk8h2bCkKGlVSQoG\n",
       "9DLFKtPRmNigtjYa5h7al+pQKZBScPx5EO7RS7Rov/bJ1C7Q469EXlepTEuIUvlm7JGDiHwGqFdK\n",
       "XZ3evx7oUEp9P++8jwAfSe8u85psK/dKsMZPTcImEU8RA6j0S5XfImAKZtwmZgpmZopIUoWjKSJ9\n",
       "UTWQsEkC1Aak2hAMRyk7cy1DxHQUTl9UDQB4TTy1AalOOdiOwjYE0zIws+eZAPVAUW/lQV7jUKIk\n",
       "eUuB18RT7pWgx8BKOqRGEip8iO/lkMl6mDCd5D1BKVVR/LTCmGqWTDqFdRQOetmUA6XULcAtACKy\n",
       "Pp5SKw+PeAcHEVmv1PSQFaaXvNNJVphe8orI+oP5/FQLYXcA2TbxbODlcc514cLFNMBUUzIPAOeL\n",
       "SKOINAFnpsdcuHAxTTGllktKqU4RuRp4Kj30OaVUeKLPkF42TRNMJ1lhesk7nWSF6SXvQck6pRy/\n",
       "Lly4OPow1ZZLLly4OMrgKhkXLlwAICIBEVl4qOedtkpGRN4hIrtFZKeIfOBIy5MPEfGLyC0isl1E\n",
       "9qZzgBCRK0Vkn4hsE5EJio8OP0TEKyKbReSn6f2pLGuViNwuIm0isist+5SUV0Q+KyI70t/XT6TH\n",
       "poysIlIpIv8LdAH/njVeUEYR+a6I7BeRF0SkeP8cpdS0+wMq0KHtVqAJ6AQajrRceTLWAZeg647r\n",
       "0//A1wHb0/IvAdoBz5GWNUvmbwD3Az8FFkxxWX8JfCX9fP1TVV5gHrAHCKa/E4PA0qkkK1COzqz/\n",
       "EPDT9FjB5wm8AXgcHTQ6D9hYbP7pasmMlh8opTqBTPnBlIFSKqSUultp9KKV4jnAnUqpYaXUZvSX\n",
       "7xB3Unt1EJHFwKnAnemhtzJ1Zc2kN3w7/XxjTF15M1nNDvrFHAbWMIVkVUqNKKUeBrJZ5Md7nm8D\n",
       "fq6USimlHgQa0v+PcTFdlcwcYG/W/n5gEhoGHRqIyDL0r209U1BuERHgB8CVWcNT+RkvBXYDd6dN\n",
       "+RuYovIqXYf3DeBp4CHgXegk0yknax7Ge575420UkX26KpmSyg+mAkSkHrgNeD9TV+4rgEeVUjuz\n",
       "xqaqrACNaBP+k8ApwGuBNzMF5RWRSrRiuRL4HvB5pvazzWA8GV+x7FMqGe8VoAN4fdb+bOCZIyPK\n",
       "+BCRGuBe4Cql1Lq082wqlk38K1AhIpcCtWj/wQ+YmrICdAPPKqX2A4jIg+gv+lSU993AP5RSjwKP\n",
       "ishb0T7EqShrNsYr8ckfb0FbOeNiuloyU778IP0L9kfgWqXUn9LD9wHvFJEyEVmCfqE3HikZM1BK\n",
       "namUOlEptRz4GvAHtHKccrKm8TSwRERaRMQH/BMwwtSUNwYsFxFPmi9pIXrZNBVlzcZ439X7gPeK\n",
       "iCki5wHblVJ9E000LS0Z9erKDw43PgWcDNwkIjelx1YDvwJeRH/5PqTSrvypBqXUsyIyJWVVSoVF\n",
       "5JPAg+g2mz9XSt2YVjhTTd5foSMyLwFR4BdKqSem0rNNK7/n0JEkv4i8HvgwBb6rIvIHdJT0JSCE\n",
       "XgpOPP/U+D+4cOHiaMV0XS65cOFimsBVMi5cuJhUuErGhQsXkwpXybhw4WJS4SoZFy5cTCpcJePC\n",
       "hYtJhatkXBw0RGSPiMwufubhh4i8XkQeOtJyzGS4SmYGQkRUmodnv4g8JSIXHmmZ8iEi3xCRUJor\n",
       "ZoeIvO1Iy+Ti1WFaZvy6OGjYSqnjANIp47eJSLlS6o4jLFc+vq+UujZNQ/G4iPyfUipV9FMuphRc\n",
       "S2aGI80V8i7gOhilYPxx2nrYISIfTY/nLDtE5Oci8u6sqS5Ps+rtEpFz0+ecKCLr04xwD4lIeXp8\n",
       "j4hcJSJb0lQNi4vIuAUIAzXpz/8mfZ2dIvKG9Ng3RDMRPiIiXSLy6fx5ROTLIvJnETHzj7mYPLhK\n",
       "xgVKqW1AQEQagS+hLdyFwCrgcyLymhKmqVNKLQE+CNyaHosDFyql5gMDwNvzrrsYuAv4zEQTi8hq\n",
       "oFcplWlK/mOl1ALg0+iCzgxOBd4EnA1cKyJW3hyXA+9QWW2IXUw+XCXjIgMLzeK2BvhBmnEuBNxN\n",
       "Lq3GeLgVIE1p4BGROjQ1wNtE5Gdo3pdsioDM0uwx4Jhx5rxSRLrQPCxrsmUVke8Bn82b816lVFgp\n",
       "tR1Nc9mQHm8F/gu4WCk1VMK9uDiEcJWMC0TkFKBLKdWPVjZO3ik2mpoxe5nhyTsn21fiR1cc/w+a\n",
       "4/bbaItFss6Jp7fJvHmz8Z/AcWj+lTVpWf8ZuAG4HU0AVWjO/Hmj6e14yszFJMJVMjMcInIS8HPG\n",
       "WOofBD4pGrXAW9D8J3uBRSLiExE/cEbeVJem57sE2KWUigDLgN+jKRpfFQezUmoYzSr4jTR30DLg\n",
       "GaXUWjSPTCnoAy5DO7iPfzVyuHj1cKNLMxOmiOxEWxy7gc8qpTJO3WuAHwG70BbAf6R9NojIbcCT\n",
       "aI6R7Xlz1onIZiACvDc99j00AdZeYMurFVYp9bKI/Ceare8LwH0isg2twEqd4zkR+RJwr4isSltt\n",
       "Lg4DXD4ZFy5cTCrc5ZILFy4mFa6SceHCxaTCVTIuXLiYVLhKxoULF5MKV8m4cOFiUuEqGRcuXEwq\n",
       "XCXjwoWLSYWrZFy4cDGpcJWMCxcuJhX/H425knukCHfqAAAAAElFTkSuQmCC\n",
       "\"/><img style=\"margin:0\" align=\"left\" src=\"data:image/png;base64,iVBORw0KGgoAAAANSUhEUgAAARkAAAEnCAYAAACdYDfKAAAABHNCSVQICAgIfAhkiAAAAAlwSFlz\n",
       "AAALEgAACxIB0t1+/AAAADl0RVh0U29mdHdhcmUAbWF0cGxvdGxpYiB2ZXJzaW9uIDMuMC4zLCBo\n",
       "dHRwOi8vbWF0cGxvdGxpYi5vcmcvnQurowAAIABJREFUeJzsnXd4nMXVt+/ZppVW3bItW7axMbgJ\n",
       "sLENppgWwIBJANMD5qMkoRNIgJeEHggECAFeSCCQACEQ6hvAgVBDDcXYxgV3G3eVVZd2tbvaOt8f\n",
       "z668K215tkvWc1+XLlkz88zMrlbHM3N+c46QUqKhoaGRLXT5noCGhsaejWZkNDQ0sopmZDQ0NLKK\n",
       "ZmQ0NDSyimZkNDQ0sopmZDQ0NLKKZmT2cIQQrwgh5seoO1cIcW3w39cKIa5Oot/hQoj1QohqIcRF\n",
       "QggphLiiT5vxwfLiBH2NEkJ8LISwCyEahRC39Km/QgixRQjhEEL8XQhh7lN/jRBiuxDCLYR4I1j2\n",
       "khDiQrWvRyN7aEZmD0AIMUcI8X2fr4uC1TrAF+PRnwHbg/++FFiSxLD3AY9KKa3Bnx3AXUKI8uRm\n",
       "D4ABuAcYCSwAfi2EOBZACHEKcBtwBjARGA/8JvSgEOIq4OfA6UAF8Ntg1TXAPUKIkhTmo5FBhCbG\n",
       "2zMRQvwAOBs4HlgH1AernpVSfiOEGA0sB8YCM4H3UAyFGbCGdbVBSnlmn76HA98Be0spXUGDdjXQ\n",
       "BqyXUl4XbDce2AaUSCm7k5j7MhQD9nchxIvAZinlHcG6I4FXpJSjgiuaRuAMKeXHUfp5IjifR9WO\n",
       "rZF5tJXMnss64G9AA/Dv4L9HABOC9ZegGBAv8ADw/4Bbgb9JKfcL+zqzb8fAscAXUkpXn/JfAJcK\n",
       "IaZEm5AQ4kshxA9jTVgIYRFCnA0MC84ZoBAI/5+wBagWQlQARwLd0QxMkH8DJ8UaTyM3aEZmD0AI\n",
       "8XLwTKL3C3hLSrkYcAPLgv+2AR4hxDDghuCz5wBSSvlWEkNOR1kFRSClXAc8CTwc7SEp5eFSyrdj\n",
       "vQagO/j8tVLKtmDV+8BPhBAHCCEqgTuC5RZgKrBNCPGEEKJbCLFZCHFqWLfLg3PVyCOakdkDkFKe\n",
       "C0xG+X0eIKUcL6U8KFhdAzQF/10E9KCsWL4Mli0Hrg3r7iIhxJqwrxOjDDkMZWsUjTuBWUKIk1N4\n",
       "DSXAecDTQogfBav+ArwMfASsB9YGy7uBYmA28BVQDdwPvCiEGBVs0xqcq0Ye0YzMnsPpKNuDccEt\n",
       "B0KIQpQtUuiMpRDFyEiCKwIp5WYp5aqwfvpul96LMlYPUBBtElLKLuBm4CHAmMwLkFJ2SynfRVnN\n",
       "XBIs80spb5RSDpdSjkQxNm1Syk4UI7JWSvl88Nm/ohjUOX1er0Ye0YzMnsO1wCMoK4zfCiF0wNHA\n",
       "kuC5CygrGZeU8pcoK4FUqUc5MI7FM4AduDLF/gMoh9DROAvlkBpgA9DXm6ULe3YMuw+8NfKEZmT2\n",
       "AIL6Fg/KluFIlJXKqcB1wCthTQuJ/ccbou926dIobb4IjhMVKWUAxa18mcr5XyiEOCJ48Ds3+NxL\n",
       "wbqxwfMYsxDiLOBC4N7go58DPiHEdUKIEiHENSju8K+D9Ueye1uokSc0I7NnIFBWMCEtyd+Bn6Bo\n",
       "Sl4QCkXBupYEffXdLj0Vpc3XQKUQYmqsTqSUXwH/jJhkbO+SOzjnVuAp4H+klCHvUjnKNrALuAlY\n",
       "EDxgRir6i7OA81G2ST8GfhjmLr8IeD7B69XIMppOZg9ECDEC5ZD0RBQ9S0ew6l/BA1aCbuY/SymP\n",
       "DnvuImA/KeUNKsb4MYo+JZqLO+8ED46vllKekO+5DHUM+Z6ARuaRUjYLIWZLKbcFi4qEEEJm8H8U\n",
       "KeVLQogKIcQIKWVzpvrNIKOAi/M9CQ1tJaOhoZFltDMZDQ2NrKIZGQ0NjayiGRkNDY2sohkZDQ2N\n",
       "rKIZGQ0NjayiGRkNDY2sohkZDQ2NrKIZGQ0NjayiGRkNDY2sohkZDQ2NrKIZGQ0NjaySMyMjhCgU\n",
       "QkzK1XgaGhoDg6wbGSFEqRDiTZR4H/8TVn6tEGKnEGKjEOKksPL7hBB1QojVQohZ2Z6fhoZGdslF\n",
       "qIcA8BjwNnAIgBBiInAVUIsSxvE/Qoi9gCOAuSjBlo4BngZm5GCOGhoaWSLrK5lggOePiMxiuAB4\n",
       "VUppD0Y52w7MQgmG/TcppU9K+SEwXAhRne05amhoZI98Ba0aC6wJ+7kOJcjQWGBRWHl9sDw8oyHB\n",
       "uLOXAlgslllTpkTNJaahMSAJSInXHxnHSefuAhkAod9dKP0gdAQKyiLaCr8H4XMhAj6kzoA0FCL1\n",
       "poTjGroblT51YX/2AR8IPb5iJYuM3tWG1BnQeZ14fX6+b2hHj9/p8EhLqq83X0bGhLKNChEA/HHK\n",
       "IwjGnX0KYPbs2XLZsmXZm6mGRgax93hpsbv7lReveZ5A0XAQYZsLGUDnbKF7vwt6i/T2BizbPsBf\n",
       "UII0WhBeB3q3HceEefhLRscdu+qDq/EX14AuzJAF/Oi762md90cAira8i/A56Vz/GT/6zb8w6HVU\n",
       "FQTs6bzmfBmZRpSkYyHGALuilI9GWeVoaAweuuqhfjk4W6GoCmpmQllNTAMDECisQm+rw+BqQeex\n",
       "ETCV4iscjr+kJqJdQfMqZMCHqX1TRLuC5lU4g0ZGb2+goHkVOlcrgcIq3COm4y8Zjd8yCuHpQpor\n",
       "e/sTni4CxhKKtryLztUK6Git28Zpd75JQ3s3r956Olc/+Gpaxyr50sn8GzhXCFEkhJgGVAIrg+UX\n",
       "CiH0QojjgU1SyvY8zVFDI3m66mHjO+BzQvEI5fvGd+hu3hHTwAD4LNUUWpch3F0EjKUIdxeF1mX4\n",
       "LJFHkoaO7zF1bEL4PQRM5Qi/B1PHJgwd3wO7VzrC5yRQNBzhc2LZ9gF6ewOOifMx9HQietoh4Ef0\n",
       "tGOwNyINRb3tfToT5975d+rbHfzfDcdw2NTROLwJ0+jEJesxfoUQJcAKlBSkZpSUHD8DDg1+7wF+\n",
       "KqX8MpiQ7BGUnEFtwHlSyg3x+te2SxoDinVvKYaloLS3yGnvwOYz4px4UszHira8i95ej8HVgnDb\n",
       "kAXKCkUaCgkUVvauSsw7PwchI1cjPe3oHa0IAhjbNxIwleAc9wO81YpjVnjsSEMRzoknYbKuwLLl\n",
       "HfSORvyWUfgLyvGXVCNNJb39ffrfrzBbSjlw3rkUNK9ixnHn7LB2B8an+pZkfbskpbQD+0Sp+oTd\n",
       "SbpCbUNJwX6e7XlpaGQFZ6uyggn96PFh85vQueKnu9K5WvGXjsFfNm53mbOVwrovcI4/VlmVeB0Y\n",
       "HFYCRgt+gxn0ZvD3YOjcSUH7BtyVE5HGYvB7KNn8BnbAWz0DabSgcyrje6oPxFN9YO8YxWueRxot\n",
       "NLV2sHTVBn547KEcPfcQ5SyoZDTOktE0OWRrOm+JlhJFQyOTFFWBpxsKShUD4/IivA4ChVVxHwsU\n",
       "ViG8jogVhal9A76iqt4yaSrBWzYWndsB+gKEuwtZUIreacVnLgPzMKTPA9KAXwiK6j6nq3pG3PED\n",
       "hVU0N9ZzxnUP0NzayaGzaqkqEgnnmwza3SUNjUxSMxN6bMoWyelGeOzo3XbcI6bHfcw9YjoGWx3m\n",
       "ui8wb/8Yc90XGGy78FZGyjO8lVMQfieeykn0jDsKT+Uk9B4HsmAY+u5GhKcbvaMZXY8NQ+eOYD91\n",
       "Ucc3WVfQuepdzrr811itTbx45/+jqkiomm8yaEZGQyOTlNXQPX4eNp8RnbMFaShS5V4GEFJJYi6E\n",
       "QAIBfSHC64xoIw0F9NTMRRqKevv3FY9G57KC9CH1JoT0o/PakTqT0l+UY1eTdQU9nz7CKXe9QX2n\n",
       "j9evm8Ox5tXo7VbV81WLtl3S0Mgg9h4vLWIYxDnkjUZB8yq8ZWOQpt3pxfVdOzF1bKSnsCKuJsbU\n",
       "tIriTa/j1/eg83sICB06vRH3qJm4x8xFeOwRLm4Ay5Z3eOW7NhraHbz2m/M4aNo43D3t6N2dEX23\n",
       "dcf2iKlFMzIaA4MY2pIB228U4ulgwommY9G5WhUxXhj+0jF4fa7eVUugsArH6EPRO5oo/e7ZXg8R\n",
       "QuAYfwJFuz5G72xBGi24h88gYFHOVcIPfgGklOgdjVzyw8OZd+h0xgxXFMXSVIa+u7633UarndsW\n",
       "rSFdtO2SRv6JoS2hqz7xs/noNwrJGJhoOhbQIbyRchThdeCr2AfnxJPo3u8CnBNPQu9oonzlkwiv\n",
       "HX9xDcJrx7zrvxht23FOOJ6ecUfhHj4N4e9BInr7CR3kNjdZOevk41huFQhPV6+BAUWY57co1ws+\n",
       "Wt/Mta+sRK8Tab83mpHRyD/1y8FcqmhLhE75bi5Vygdiv31Qa2BA2Rb5C0oUj5HQIU0l+AsU75He\n",
       "bUd47CADMQ+MLVvewWcuV3QyOj3SXEnAWIihux6BwFc0Ep3Pg5BeCMiIfpqbrJy/YD4b162lvWp2\n",
       "f2FeTye2CSfxl/9u5Z531jOluoQnzp+Z9vujbZc08k8fbQkApmLobh6Y/YaRjIEBom6LlPMWJ44J\n",
       "85RtVNjWqO8BrN7RqNw/Cn9eb0YaipB6Ezp/D57KfSEglcNfQxGO0YfS6NRx/oL5WBsaePbl15lx\n",
       "yGF0Wg9QhHnd9fgto6ifeDZ3fGNk8dZd/PCAUVzzg30w6tNfh2hGRiP/hGlLevF0K+UDsV+Arnpc\n",
       "25fiam+kKOx+EMS+OwTR9TBqdDQhot0/QoC/qBJ39e4Yb+Eq39aWFs5fcEKvgZl9yGFApDCvvsPF\n",
       "rW+uYVeHnZ//YB9OnTEaIdLfKoG2XdIYCAS1JbhtSrgDt035uSbNpXq2+u2qx7X2LWz2rn73g+Ld\n",
       "HQJFDxNtW+SzVMd9LkS0+0cII96yfWNutUpKS5m63wERBiac5Ts6uPLF5XQ4PTxw5gGcdmBNxgwM\n",
       "5ODuUrbR7i7tIQwi75Jr1ZvY7F2Rq5HgygFA+JxR60J3l6KtdAqaVyV8LkTf+0eOifPxW0b267PR\n",
       "qcNoNFJROSzq65BS8saKBh7/9HvGVRbx29P2Y3R5Yb92E0eUfCulnJ3q+6VtlzQGBmU12XEtZ7hf\n",
       "e48XV3sjMsq5SshNHO3MJdyF7A/eCQpHt+OjhM+F6Hv/KER4n6FD3mFVw3lp0Xv9ViZef4D//Wgz\n",
       "76y2ctjEYdw8fwpFpuyYA83IaAxdEq1y+tR3Vx1AixhGUWEVxpZ1FLStR9fTTsBciXvYVLxVipAu\n",
       "0ZlLtJVIrLMandtGxZf3JFy1+KMYGGtDA7976I/9DEyH08Mdi9aypsHG+XPGcfHh49FlcHvUF+1M\n",
       "RmNokkhD06fe6bTTs/ot9PYGAsKAZdv74OkkYK4ETyeWbe8TEIaYZy6h8xGTdUU/nUv5yicJCEO/\n",
       "50wt6yhs+Cay7dJHKF31dMyzm3ADE+0M5vvmbq54YTmbm7u57eSp/GTuhKwaGNCMjMZQJZGGJqze\n",
       "6Q1gC5jxF5RQ0LyKwsYluCsnQUEFwt8DBRW4KydR2LgEf8loHBPmRdwtCr8GEE3n4jOXU9i4pN9z\n",
       "wuvAWzI6oi3Si7Fzcz+dTUHzKgBu/uXVMQ3Mpxtb+PlLK5AS/vfcGRwzpY97P0to2yWNoUkiDU2w\n",
       "PhSuAXafkYS0KoEosXIh+plLiKg6l6Ccv+9zRVv+3a+tQCDc3ZHPh53d3PXAIzTW1zHr4EN2T01K\n",
       "nvtqO88v3sm0UaXcdWotlZbEgcczhbaS0RiahDQ04YRraIqqcHZ39RoY2H22EtKqhBMuyY9HMs9G\n",
       "ayuRBAqKI8qaG+u59+//we/3M7pmTISBcXn83PGvtTy/eCcn1lbz0NnTc2pgQFvJaOSKdF3JmXZF\n",
       "18xUzlxAWcF4uhUNzeS5AHRXHUDP6rcQfbMCjD4Un6WaiqUPI207EFKHFAGEMNJx0C8SDuuYOJ/y\n",
       "lU/iQ1nBCE8Xhp5OOqeco6otwoi3fB/FvW200NxYz5nX/o76Vjvzf7qZfSZN6XWRN7Z1cOOK4Wzt\n",
       "NvLLKZ2ctY8Tj6sko2Ec1KCtZDSyT7oXFbNx0bGsBibPB0ORskUyFCk/B7MKNIthMc9W/JaReCr2\n",
       "BWFC+FwgTHgq9sVvGZlwWE/1gXTOuAxpLEHfXY80ltA547KoLumobQ+6Dtv0nyANRbTs+p4zrvs9\n",
       "9a12nn35jV4DY9n2ASuaPFy0uJomF/xp7y85d7wTnT+6wC/baCsZjewTfsgKu7/XL1e3Gkn3+VhE\n",
       "0dCE30WKdbZS0LwKz/BpuGvm9JZFi9kSi1g6l2TabnfqWHjzrTS2dPLsy2/0HvIWNK/iNetwHlxj\n",
       "YazZxSP7fsf4Qh/StgN39Sz8wTZq5pkptJWMRvZxtipbknBMxUp5Lp5XidrLjjpXK9IYmVBRGi3B\n",
       "vEW5Yce2LXR2dER4kXz+AL//1s/9q4uZMyLA85O/Yq9iidSb0XlseZknaCsZjVyQ7kXFbF50DJLM\n",
       "bep0Lzmmg9vtpqCggIMOOZxPl66myKIYuy6nlzvfWsuquhIumOjk8gP0FDUVgb8HgSBgKs3pPMPR\n",
       "jMxgJYcR39KmZiasfBGcbeD3gN4ERcNgxnnqn49zSJsywffQ1dWEQ5Sh76OcjYV7xHQlVSz0OxSG\n",
       "+LewkyW8r0aHnjN/8QCXXHkd5yy8qNfAbGnp5rY319LmcHPLMSM53f8++vo2dD2dinjQXIl75AwK\n",
       "6r7A4GzFVXM4entDzg6Ate3SYCSHEd8yi+zzXSVxDmlTJvgeOp12unTlMW89RyOe4C7RLexkCO+r\n",
       "0WngrKvvpKFuF/vW7A7z8N/NrVzz0gq8gQCPnDODefuW9gYkl0YLvtJxEPBS0PgNAnCNmYs0mnN6\n",
       "AKytZAYj2ToIzRb1y6FiHFTvt7vMbUtuvpm+QFm/HKfOgi1gBqHkNErmUDTeoXBv5DuS7zdaX1ab\n",
       "jzOv/g0NzR289IcbOHicEYeUvLB4J89+tZ0p1SXcdWotVcUFFGz5sl9AcnPdF0jAPWb3yi+XB8Ca\n",
       "kRmM5CDiW0YZgPN1dTVh05VD2LWdWLeekyFW5LtU+tW5WunWlXLmVbfQ0NTGi4/cysHTJ+O2tXLX\n",
       "2+v5bFMLx08byfXHT8Jk0MUcH5+n3/2kTLxWtWhGZjCSg4PQjDLA5mvv8eIQZVk5vM3koXCgsAqL\n",
       "z8nC045nxtR9mDNjKk1dDm5cVsP3thYuO3Jvzp49JuKWdbTxMZgI9Ok7lwfA2pnMYCRbEd+yxQCa\n",
       "b8iLlOi2dKpkqt/mJivLmvTo3XYuP+No5kyfzCqri4s+L6PeaeCeBftxzkFj+4VxiDa+3zwMWTAs\n",
       "469VLVpkvMHKYPIuwYCYb183dSa9QOGk228oXIPT4eDTj96jrGsDb212cf+6SqpLTfx2wQzGDStK\n",
       "anwg5TlpkfGGKtmKJNcXNcZBTZtczTcG0XQw8W5LJyJa4Cm1Kt54fdqXvsr/u/XvNHW4+PufH0ZX\n",
       "OZ77v/Pzxtp6Dhpfwa0nT6Xc20LBls9iGoxYryuXKt9wtO2SRmzUuMoHgTs92bQliYgVeMpkXZGy\n",
       "CzuUm/rU216gocPFazf/kDmBb/nVS1/yxop6zpxVw70L9qfc25IxF3mu0FYyGrFR4yof4O70TBsY\n",
       "6BN4CpTAU8Fyd/XMlFzYli3v8Lv3tyi5qe88j+HjJ3PuuolYPV7+54SpnLhfNZBZF3mu0FYyGrFR\n",
       "c2coR/eKUiEbBgaUwFPSVBZRJk1l6B2NKd9r0jsauf2iE3n/gYvxVB/Ahd/V4gwYeWbCJ70GBgbG\n",
       "valk0YyMRmwSBXZS2yYPZMvAQPzAUyEXckRdHHdxc5OVqy5ZiNVbiinQzWLDDK5bP4lxZhcvTvmS\n",
       "/UYURLRPtv+BgGZkNGKjxvU8gNzTIbJpYCB6gjVDTyeOifOTcmGHvEiff/wfvtPVcsuWqTy2Yxwn\n",
       "DGvlmUlfUhOw4pg4P+KZbLnes0lejYwQ4pdCiM1CiG1CiKuCZdcKIXYKITYKIU5K1IdGFlFzZygb\n",
       "94rSINsGBuIHnkoUSDxEeFaBh5/7J0+1TeHdrvFcM3Y794/6FHOBJWowK7X9DyTyppMRQowHPgVq\n",
       "ATOwFTgMeAOYBYwF/gPsJaX0Ru2EIayTGWzUfQvrFoGtEUpHwbRTYcysxM+FUOEmT9bAJNKzxKtP\n",
       "RwvTtmUlPz7nHBqb27j3vnt4rrMWlw9uOXkKh00ceNuedHUy+VzJhAxHAMXLZQfmA69KKe1SynXA\n",
       "dhSDozGYqfsWvnoMPHYoH6N8/+oxpVwNKtzkqRiYeK7gePXp3LTW2xso3PkZlkIT1939B/7YNJlC\n",
       "enji1JoBaWAyQd6MjJSyHrgTWIyyYjkPGAPsCGtWB/QL4y6EuFQIsUwIsaylJTeXvDTSYN0iKKpQ\n",
       "Ysjo9Mr3ogqlXA0JciSlskWKcAVHyV8Urz7Rs7Fob2tF37CciuoxzL/hEf7ROp7pwyTPHmFjim9D\n",
       "UvPPFSVmY9p95E0nI4QoRTEs1wITgBuAeoi4yxVAuZUegZTyKeApULZLWZ+sRnrYGpUVTDjmcuis\n",
       "U/d8nFvcqZ7BJLotnag+2ZvWoTOY2VPGII65jsXNes6a6OPa/f0YRFHObkQnQ4nZyPCSgsQNE5DP\n",
       "7dJC4Dsp5adSymeDZVYgfKM9BtiV85lpZJbSUdDTGVnW06mUqyGGm9xlrEj5kDeRKzhefSpu6vMX\n",
       "zKfFKdk24yqWtej41YFerp/ux6AbmC7oTBkYyK+R6QFmCCGMQogSYBLKtulcIUSREGIaUAmszOMc\n",
       "NTLBtFPB2aGE3wz4le/ODqVcDVHc5K7uDppLpqU8pUSu4Hj1qbip240jGH3RI3j0Fp6Y1ciCmq4B\n",
       "64LOpIGB/HqXTMAzwFGAC3hOSnmPEOJm4GcoRuinUsov4/WjeZcGCRn0LrmMFTSXTEvbbZtt75KU\n",
       "ktNOOJpGy76UzL2AicOLufu0WkaL9qzc/s4E0QyMECIt75IW6kFjUJELHUym8PgC3PLiF3zbIjly\n",
       "UhU3nTiFQqM+8YN5ItYKJl0jo12Q1Bg0DBYD09xk5b2PPmWxnMSGFsnFh41n4SHj+gWYGkhkeosU\n",
       "jmZkNOKTqWBTG96F5c+D3Qol1TDzApgSJuhOsJ1ybPkG3+o3qYoSvyVebJd0tjypPNvcZOW8Sy7D\n",
       "e/BFFJV385tTajli39we6iYrFMymgQFtu6QRj5AIzlzaJ99RktcGNrwLn/4OCsugoBzcneDqgqN/\n",
       "rRiakFivqEJxbfd0KgfDh10DY2bh2PIN8qvHlPAK4UnqZ1wGoCSlj1Lnt4xU8iMVlETmR5owDyBm\n",
       "XXhqk2Se3WaZwdk3/5HAzHOotJj4/Tmz2Ht4ccy3JRvEm3c0Q6PGwGjbJY3skalYMcufVwxM0TDl\n",
       "59D35c8rRiZcrBdev24R9qoD8K1+ExEjfguQUmwXIG5clnhxW6I9u6ulk7P/92XkwRcwsRT+cP5h\n",
       "lBWlL2RLlmTizWR7BRNCu4WtEZtMxYqxW5UVTDgF5Uo5KFskc596czmeznpa7O648VtSje2SKC5L\n",
       "Ms86vPDLJaXIaScxZ6TgiUuOyIuBAfXxZnJlYEAzMhrxyFSsmJJqZYsUjrtTKYeoYj13dzsOk6Ly\n",
       "jRe/JdXYLpkS4+20w08+NbKT4Vw+sZPfLTwSoz5/f1ZqhIK5NDCgGRmNeGQqVszMC5QzGGcb+INi\n",
       "PFeXUg79xHpuWwtee1tvLJV48VtSje2SCTHe++taOeffflocfv4008qPjz0ok+9+SiR6Xbk2MKAd\n",
       "/GokIsfeJU9nPQ7TiH7R/+N5kHLtXZJS8sKHS3h2lQNfex2/mW7juJNPHzCCuljzTtXAaGI8zcjs\n",
       "MQwGHYzHF+D+t7/jky1duLcs4f7zDmXu3LmJH8wz6axgNO+Sxh7BYDAw7Q4Pt76+ig3NThxL/o9H\n",
       "rzuHOYfu2QYmE2hGJhekcm9nAGRcVD0PNW3ivAf2Hi/tDdsoirN1STWZWqpbqb5sbrJz26K1dLm8\n",
       "7NP6JZdddjxHjLCjW/N80vePspW5Mhr5NjCgHfxmn1Siwg2UhGmZSu4W5z0IGZh4kebiJVOLR6aS\n",
       "sH26sZlrXlqB3+/n0XNn8PTNF3FMVXvKkfFylZxtIBgY0IxM9kklKlyCSHA5Q8081LSJ8R64V79J\n",
       "i92dMNJcRDI1nV4R3JnLe8V4sYj3nJrodgEpeebLbdz19no8TVtw//se9hlRnHJkPEgckS9TDBQD\n",
       "A5qRyT4xhGbYGmM/M1ASpmUquVuU98BtKMXdrsQjSyQgiye4i0c6SdicHh93LFrLC4t3IrYtpuWV\n",
       "W7n91lsRQqSVYC0XydkGkoEBzchkn1Siwg2UhGmZSu7W5z1we/247G34Lcp7kEhAFk9wF49UhXoN\n",
       "nS6ueWklX29tQ6x8nea3H+bZF19j9iGHqZpvPLKdnG2gGRjQjEz2SSUq3EBJmJap5G5h74Hb48Vl\n",
       "a+kVzEFiAVk8wV08UhHqfe3blyv/sZzWbjc1W/9N839f4dmXX+81MGrmG49sJmcbiAYGNJ1MbtC8\n",
       "S1D3Le7Vb+Ju3xXVO5TI45Jt75LfXMUrrXvx6FctjK0o4ren7UeBr5tdO7Zx4OyD+/WbjocoG96l\n",
       "bBoYTYw3GIyMxoDWwXj9Af748fe89V0jM2sslK57k1/fdgdGY34uOSZL1uPBaGK8AcRAWX1kkgy8\n",
       "JnuPl67Ni6lIYSWSLolWDZ1OD3e+tY7v6ro4tbaSt+66iKaGes4598dMnlabcr+5YqBukcLRzmQy\n",
       "xUDRtmSSDLymkIFJReeSLok0KVtaurniH8vZYLVz9eGjePuuC2lqqOfZl19PaGBypXWJx2AwMKAZ\n",
       "mcwxULQtmSTN1xTaIqWqc0mXeJqUzze3KAK7gOSO48fyxC/PxdrQ0O+QN9l+c8VgMTCgGZnMMVC0\n",
       "LZkkjdcUfgaTqs4lXaJpUvwGC8+s9nDnv9YxocrCE+fPxOJuw9HdrcrAxOo301qXeAwmAwPamUzm\n",
       "COlFQiEqIT/alkyS4mvqe8gb0quEQmSCOp1LuoQ0KaFQlC4f3LVExyfWcuZNG8kVh4+hrLiAYQfO\n",
       "4pMl31FgNqfUL+QuC+RgMzCgrWQyx0DRtmSSFF5TNC9SqjqXdAnXpDQ6JJd+quczq4krD6ni4gPL\n",
       "OPPEI3n2qccBVBuYvv3mMgszzePOAAAgAElEQVTkYDQwoBmZzFFWo0TxNxRBd7PyPdmo/gONJF9T\n",
       "LDe1p/pAOmdchjSWoO+uRxpL6JxxWda9S/6S0TgmzGNFZzGXfGKk0annvpNqOHKfYSw8/WSsDQ3s\n",
       "f8CMlPuVhiJ0zhakoShmNoBMMVgNDGjbpcQk48Itq0nOqKTjHlbzbKJodN++AMueBkcrWKpg9k9g\n",
       "1sLIPuxWqFu6W0hYOjqqGM+1fSmu9kaKYrhz/ZaRuKtn9rp8/ZaREfXZShm7aJvg0a8KqS4z89vT\n",
       "9sPstXH+gvlYGxp4/vH7Ocb/CfoPXkzare4vGd0v+n+IVIWDsRjMBga0lUx8sumWTqdvNc+Gch15\n",
       "7YpR8NqVnze8q9R/+wJ8di/4HFA8Uvn+2b1KeQg1YSq66nGtfQubvSumOzeRyzed+lh1squeRz/a\n",
       "zEMfbuLAceU8ft5MRhbpelcwzz9+P/N0X2fcrZ5qWIpYDHYDA5qRiU823dLp9K3m2fBcR/pgeIXC\n",
       "MqUclBVMQTEUVoBBr3wvKFbKQ6gIU+HavhRboDCuOzeRyzed+mh17aKUm97cyJsrGzh79hjuXbA/\n",
       "xWYDBWYzl1x+Nc++/DrHlNVlxa2eSXf9nmBgQDMy8cmmWzqdvtU8myjXkaMVjKWR9cZSpTxEgjAV\n",
       "9h4v9vbGhO7cdHIcJarvW7fVJrj4ywpWten41YmTufyoibS1NLFs8VcAnHvBxcw+5LCsudUz1e+e\n",
       "YmBAMzLxyWbIhXT6VvNsolxHlirw2iLrvTalPEScMBWhQ141oQvSyXGUqD687vMGHT/91EiPD544\n",
       "ws282mqam6wsPP1krrxkIS6ns/f5VMNHJCIT/e5JBgY0IxOfbLql0+lbzbOJch3N/gm4u8HVAT6/\n",
       "8t3drZSHiBGmwjHx5F4vkhp3bjo5jhLVu0dMR9dj57m1Pm5abGAvi4/nD65j3yn79xqYxvp6Hn/m\n",
       "BQqLinrnlC23err97mkGBrRb2InJ5qXHweBd6hOmwjHxZJpKI+/1qLksmI73KF59j9fPg2+v5OOt\n",
       "3ZwwysGvZwvEqOk0OnW9BiaWkjfTXqB0+x2oBkYL9aCFesgZAy1cQ4vdzW2L1rC5qZufHjGBcw8a\n",
       "ixACgAfv/Q3PPfWE6qsC+WagGhjQjIxmZHLEQDMwaxu6uH3RWty+ALfMn8qhE4dF1Pv9frZ+v5l9\n",
       "J0/J0wzVM5ANDOQonowQYqSUsqlP2SwpZZy8Hqr6LQOeBI4AeoCpwBXA9YALuE5K+W46Y+SUWFuY\n",
       "ZMshtWh6aucTQuUYiQyMeeuHlK5/Cb2jCb9lJLapP6Zn7+OTbhOP8C3I647p3LN9EsNLzfzh7OlM\n",
       "NHVRsOVdWuq2cP0jr3HX/Q8zYtJM9p08Ja24L+nOWQ0D3cBkArUHv18KIfYP/SCEOAN4KwPjPwas\n",
       "AcYAtcBY4KrgvxcATwshBkd4slgCubpvkyvvqk8tV5Pa+YQEeyrHUGNgKpc8CF47/uLR4LVTueRB\n",
       "zFs/TKpNPEICN7+nm/tbD+fOrZOYVWjlr8cZmWjqwrLtA5qtDSy44TG+XL6WjuWL4gr11MR9SXfO\n",
       "ahgKBgbUG5lLgNeFED8SQtwM3A0ck87AQohq4DDgXqnQg2JYXpVS2qWU64DtQJL/feeJWAK5dYuS\n",
       "K69fnlquJrXzCQn2VIyhZotUuv4lfOZSMAf7MQ/DZy6ldP1LSbWJh2XLO7Qbqrhm6yH8o3E0541q\n",
       "5I+TVzKq7l0KmlfRYPdz+nUP0NjczouP3MbMAw+IKdRTG/cl3TknYqgYGFBpZKSUnwNHAb8CDgYO\n",
       "llJuTHPsWmAb8E8hxEYhxIMoK5kdYW3qgH4CAyHEpUKIZUKIZS0tLWlOI0PEEsjZGpMrd7amlqtJ\n",
       "7XxCgj0VQjs1ZzB6RxOY+vRjKlfKk2gTj51t3SzcOJelXaXcvs9Wbtx7J/qCUvSORlrqtoQZmFuZ\n",
       "M2NqTKEeqI/7ku6c4zGUDAzEMTJCCK8QwhP6QllVzAFOBjqCZekwApgGXAPMBA4HTgECYW0CgL/v\n",
       "g1LKp6SUs6WUs4cPH57mNDJELIFc6ajkyouqUsvVpHY+IcGeCqGdGvyWkeDp04+nM+ICpJo2sfhm\n",
       "Wxvnbz2Obp+Ov+y3ngUjlf9UQgI3XfFwhpVaeg0MRBfqhVAb9yWdOcdjqBkYiGNkpJRGKaWpz5ch\n",
       "WG6UUprSHLsZ+FZKWSeldAAfAn8DwsUeY4BdaY6TG2IJ5Kadmlx5zczUcjWpnU9IsKdCaKcG29Qf\n",
       "Y+ixQU+wn542DD02bFN/nFSbvkgpeWXpLm5+fQ2jSk28MuE9DjTt7BW4dTRbaR97HMWTjuDth67h\n",
       "kGljogr1Uo37ksqcEzEUDQwk4cIWQhwC7AXoQ2VSyhdTHlgIC7AKOBJoAz4B/gn8BJgNjAf+D6iV\n",
       "cSY5oFzYg9y7FE1op4ZMe5c8vgAPfrCR/6xv5qhJw/mfEydT1vZdr3ep3l3Cj+7+F9NmzuGRPz+T\n",
       "chiITLwutQxmA5MTnYwQ4kWUP/wlgDdYLKWUl6Q6cLDfk4AHgQLgb1LK3wYPln+G4tL+qZTyy3h9\n",
       "DCgjM4gZKDqY1m43ty9aywarnYsPH8/COeN6BXYAzU3W3ngwmtAuN+TKyNQB+wQ9QAMKzcikz0Ax\n",
       "MOsbbdy+aC0Oj4+bT5rK3H0jz040A5MfcpXc7VNgNLA11YE0BiYDxcB8uK6JBz/YyDBLAX/88YHs\n",
       "PTzSMyal5MqLz9cMzCBErZEZA6wSQiwHej+RUsp5WZlVpsl3ZscBeiajxsCoOdNQcyEwVht/QPLX\n",
       "/27llWV1zKzyc9/+uyi1teM2R45j6G7kd1edjsc2l4OGd+G2N6g6d4lXl60Lknp7A+WdaygLdGXn\n",
       "85bvz3OSqN0uHRWtXEr5WcZnlCQJt0sh5au5VNGJeLoVL0uugnzHGn/0TGhYHn1edquivi2qULQr\n",
       "PZ2KJ+iwa9QbmgSvW62BsWz7QBG0GS0IrwO92x4RNDukxvWZy5GmMoSnC0NPZ0Sg8Fht6qZdyh3L\n",
       "jHyzrZ2zxti47gAP+oLIcRqdOj568x9cduiwqPMAYs4xXp3e0ZRw3qmgtzdQWf8RJWWV2fm85eHz\n",
       "nJPtkpTyMyGEARgOiETtBxThylfY/b1+eW6MTKzx1y2C6tro86pbuluNC7u/r1uk3sjEed32ghGq\n",
       "tkgRillQFLPB8lAQ7Yhwk6CEmwyWh/5Yo7XZ0lPEtW81sctj4abpHk4f6+k3Tue6Tzn/Fw9ird/J\n",
       "Sc/fy+ix/ecBxJxjvLoC6/KE806F8s41ioHJ1uct35/nFFCl+BVC/BLFzbwVxcO0E4jr9Rkw5Duz\n",
       "Y7JK4Cwrfl1dTarPYNQoZtWEm+zb5uuOMhZuOJwur54HzzqAM6qt/caxdnk488rbsTY08PJ9VzF6\n",
       "zLio80gmNGd4XTbCb5aYjcoWKZuft3x/nlNA7d2lnwN7A28DBwJzgfezNamMks0QmumMnwfFr7O7\n",
       "iy5RFuOB/qhRzKoJN9mbQVLCPxqquXrdZEaZnLyw/3dMH1Peb5ym1g7OvPJ2Glo7efbl1zno4ENU\n",
       "hd9Mpi7T4Td7D3mz/XnL9+c5BdQaGY+Usg1YC8yQUi4GTszetDJIvjM7JqsEzpLi12nvwNnVnlSW\n",
       "QzWKWTXhJh0T5xNw2vjNxhoe3LYXR5c38cJe71NWe2zUcZZ8uxxrayfP/e0ZZh9yWMLwm6nUZTL8\n",
       "ZoQXKduft3x/nlNA7cHvtcBSlC3Tx0A7sFVKmcSnPjuo0snk+zQ+z94lV1cTXaIsKbVriEx4l9od\n",
       "Hu78vyWsafVz+Yi1/GxCB659Itvo7Q0YrSswuNsJFFbRaBhL2V77qZpHPr1LUd3U2f685fjznPPI\n",
       "eEKIYSiS/01SSnuqA2cKTYwXn3zrYDY12bntzbXYerzcdOIUjp4c/UJrc5OVn/z4DG66/W7mHv2D\n",
       "HM8yNYaKDiZdI5NwuySEOFgIcUYw/gvBbdMwIK2oeBrZJ98G5uMNzfz85ZUIAY/9+MC4Bub8BfPZ\n",
       "vnUL5iQS3+eToWJgMkFcF7YQ4m7gdGAZcJ8QYiFwJUqIhvOyP70BQDJL02SXselslxJkIrD3eHEs\n",
       "/juj1j6H3tmGv2gYXbUX4qw9p7dNpsRoffux730ST26p4B/f7GT/mlLuPKWWUdbPKF3a/7Kh2qsC\n",
       "2dguJfu6Qu9PidnI8EArrBs8grh8Ene7JITYBuwnpXQIIcYC3wF/Am6XUgZiPphDsrpdSkb4lKxI\n",
       "Kl77RGK8UJ7rwjIlK6S7U8mpdPSvYcpJvQamcunv8RstYCoFjw2910H7QTfirD1HlYhODX37cbgc\n",
       "3LZlKp/YxzB//2quPXZfSnZ8ROWSB5VIc6Zy8HRi6LGxZfJlnHLVb1UZmFQEd/HqEhmaWO+P9+Cr\n",
       "qagem1+BZ47JthjPG4z1gpRylxCiiwFkYLJOMsKnZEVS8donEuOF57kOr1/+PPbxx9FidzNq7XOK\n",
       "gTFXKHXmCvxA2drncNaeo0pEp4bwfna5CvjFphlsd5q5afwW5h1/JEKIyFCWoISyBMbWvcXco4/l\n",
       "5FMWxL2LFE8UCKmJ8ZwJjEy090en11Gx4x3wHzToBHH5JJGRqRFCfBD2cxXwXujq/aC5u5QqzlYl\n",
       "CHc4pmLobk6vbaL2tkYluHc45nLorFP+bbf2/zAXlOPt3NV7BqN3tuG39O2/FL1DmY/e0Yi/OLIP\n",
       "aSpD310ffb4xCPWzpLOU/9m4DwCPT1vHofr1tIpLgm2alGDcQaydLjweIxPMzdxx77MJx9C5WgkU\n",
       "RZ7nSKMFnVOJkpdqnZrXFcJk0FFUOEz5HST7ux7iJDIy6eXsHOyEhE+h/6kgtvApmbaJ2ofEeKEV\n",
       "CkSK8UJ5rsPqvc4O3ObdH3x/0TDw2HavZAA8NqWcMIFc8H9qSE2M5isaxat1Zfx+1xT2KnTxyNRN\n",
       "jBON+I3hYrxgKEvzMKydLub/7j8YRYCv7lYntQqJ6kIrEogUBaZaF4/w98dk0GEpMCh6pdJRyf+u\n",
       "hzhxvUtSys/ifeVqknkjGeFTsiKpeO0TifH65Ln22lvxOzoiQkN21V6I3uuAno5g+MgO9F4HXbUX\n",
       "ApnJBe31B7iz7Rju21XL3LJmnttvNeNEY79+QqEsrdZ65t/7IQ3tDv73rPE4atX5DrIhxktE6P0p\n",
       "8HZiMYrI38EgFMTlEy2DZCIGuHfJa2vAbR4RNTRk0dpXKMuSd6nT6eGOf61jdX0XF9SauK74Y4zO\n",
       "2P10LXmFc376CxraHfzz+iPZ/9SfJxXKMh/epYr2NcoZTLTfQb4FnjlES1M7hMV4+dLBbGnu5tZF\n",
       "a+hwerlx3mSOnToi4TPXXX4JH733Ds+8/E8OOuTwHMwyPTQdzG5yamSEECXAJGCzlNKW6qCZZKga\n",
       "mXwZmM83tXDfuxsoNhu4+9T9mFxdkvghoKuzg+1btzB9Zsqf1ZyhGZhIsqr4FUKcLIRYKYR4Wghx\n",
       "MEpK2YeANUKIoX0onEfyYWACUvK3r7Zz51vr2Hu4hT8vnJXQwDQ3Wbnjpl/i7umhrLxCMzBDlETe\n",
       "pT8AP0UJ8/AWcIyUcp0QYhzwTvBLI4fkw8C4PH7ue28D/93cygm1I/nFcZMwGeLfSAlX8p6z8CKm\n",
       "7X9AjmabOpqByQ6JjIxBSvkF8IUQ4u5gfmqklDuFEAPrtzEQDuKSnUO8w90ofYVHtFNzoJmojZo+\n",
       "2r7/lps/bGKLs4jr99rGadNL8CZhYJ59+XWm7X9AwrESHULHq8/EwW9UA5Pk72dPPfhNl0QXJMuF\n",
       "EDcHcyEVhv4thLgFKE/wbO4ISfR9TkUk5XMqP3clJyzL6RzqvlWuDnjsivDOY1d+rvs2al+utW/R\n",
       "3rAN2C2zFz4ngaLhCJ8Ty7YP0NsbertP1EZNH+tWLeXSt1uxuk38ceo6LqjaSMWqpzBZV8R8G6Ld\n",
       "RUo0VkjCL7x2/MU1CK+d8pVP9o4Trz5e32peI8QxMEn8fnL+eRtEJDIyjwHG4Nefwv5tAP6Y3akl\n",
       "QbhEX+iU7+ZSpXygzmHdot1XB3R65XtRhVLepy+nKMIWKOyVykfI7IVOkcsXlPTWq2mTqP7t7xq4\n",
       "7qNuygw+np++jkMru5WrB+ZyLFti75I72trweDwRd5ESjRUh4dfp+40Trz5e32rep5hbpCR+P3n5\n",
       "vA0i4m6XpJS/ydVE0mIgyLyTnUO8qwNhfTk9PmwuL4TJ4RPJ7NW0iVUf6G7hfz/azKKVDcwtbuLe\n",
       "qTspCct6HuvqQXe3HYulmMnTavnwq+WYTLsfSjSXRFcc4tWnc+Ug7hmMyt9PL9q1gpioiSdzmBDi\n",
       "UyGEXQjRIYR4WwgxIxeTU81AiHua7BzixfEN9tVrYIiUw6uJvZuoTbR6m8PJNStqWLSygXNmj+GR\n",
       "2i2UBtoj+4hy9aC5ycqCeUfx+CMPAkQYGDVzSRRvN159qjF+Ex7yqvj9RKBdK4hJIhf2IcAzwL3A\n",
       "SGBc8OdXBpShGQgy72TnEO/qQM1MXN0d2Lvao8rh1cjlE7XpW7+11cnF/y1ldYeBX500hcuOmkjP\n",
       "PomvHoSfwcw5NLrILtFcEl1xiFefyrUC49jZib1ICX4/ef+8DSISxZP5ALhDSvl1n/KjgJuklHnX\n",
       "yvSK8QbCaX+GvEv2Hi/tDdvS9gyp9S79d4eDO1ZXUWgycNdpBzB11O6Lf/G8Osnkph4o3iXj2NkM\n",
       "q5kQ77eY8PcDDIzPW47IquJXCLFLSjk22bpcsqcpfnOpg5FS8o9vdvLMl9uZXF3CXafUqtaJeDwe\n",
       "Tjn2cOp37dJyU+/hZDtolStOnTPVQTWik0sD0+P18/v3N/LJxhaOmzqC64+fRIFRr/p5k8nEldfd\n",
       "yOiaMZqB0YhLIiOzlxBiU5RyAeR9FbMnkUsD02zr4dZFa9nS3M2lR0zgnIPGEgpElvDZJiubN6zn\n",
       "8KOO4ZQzzs7yTDODZmDySyIjMykns8gVavbR2dhrqwj6nSsDs6a+izv+tRaPL8B9J47mKPNadGs/\n",
       "U5VTqd5dwsK7/0W7rZtPl62huLikX5tYoR7SCbkAYN76IaXr+wciT0RcA5Ovc5UhdJ4DiYNW7Yj3\n",
       "latJZgQ1Ks1sKDlDQb+9duWD5LUrP294F8itgXl3dSO/fHUVRSYDj586hmP9X8ZVw4Yrbes9ZZx6\n",
       "2wtYGxv460N3RRiYeGpdUKcujod564dULnkQvHYljKfXTuWSBzFv/TDucwkNTD5Uu0NQLZzIhb1Z\n",
       "CLEpytfmGNuogYsalWY2lJzhQb/1QeVoYZkS9DtHBsYfkPzpk+/5/QebmD62nMfPP5DJ3vUJ1bAh\n",
       "pW2j08ipt/2DhnYHr93yI44pq+vXJpZaF9QplOMREYhcp1cCkZtLKV3/UsxnEm6R8qXaHYJq4UTb\n",
       "pc+BI4EPgGeBxBGYBypqVJrZUHKqCPqdTWwuL3f/ez3f7ujg9Jk1XHHURPQ6oUo1HFLavrDoKxra\n",
       "bLx253kcMqUmQvGrJiC5mrHi0TcQOQCmcvTd0VdCqs5g8qXaHYJq4UTbpZ8As4HNKCK8e4Axmdou\n",
       "CSFMQoh1Qoi/Bn++VgixUwixUQhxUqLnk0KNSjMbSs5Q0O8w+gb9zhY72hxc9eIKVu3q5MZ5k7j6\n",
       "mH3Q65QDXjWq4ZDS9vqz5/LJwz/jkGnj+il+E6l11Y4Vj95A5OF4OpXyPqg+5M2XancIqoUTXiuQ\n",
       "UnZJKR+RUh6Aspq5VgixRAhxZQbGvxnYDiCEmAhcBdQCC4CnhRDGDIyhoEalmQ0lp4qg39lg8dY2\n",
       "rnpxBU6Pj4fOns5J+0deBUikwm1usnLqA/9h545d6Nwd7DOqPKriV01A8nQCesPuQOT0BNW3PW0Y\n",
       "emz93sOkvEj5Uu0OQbVwQiPTh47gVymQXO6MPgghpgIHAa8GixYAr0op7cG4NduBWTEeT56yGiXD\n",
       "n6FIWZoaivpn/FPTJlmmnKRkdjSW4O3chVtXRPvBNyQVRDsZpJS8tGQnt7yxhpryQp44fyb71ZT1\n",
       "a+cvGY1jwjykoQidswVpKOrNrBhS8n67aj1bRpyANJag765HGkv6ZZj0VB9I54zL4raJN5YaevY+\n",
       "nvaDbwBjibJFMpb0ew+TdlNn43c9kMfNIwlj/AohilDyXl8GOIA/A/+UUnpTHlQRZXwAXAHMDX45\n",
       "gDVSyr8E27wKvCSlfCPK85cClwKMGzdu1o4dA9/RlYtDXrfXz4MfbOKjDc0cM3k4N54wGXMSAjtI\n",
       "7qrAQEHTwWSXrCp+hRB/Ak4A3gMuDEXGywCXA59KKb8XQswNlpmA8PS3AcAf7WEp5VPAU6BcK8jQ\n",
       "nLJGLgxMi93N7YvWsrHJzk/mjue8g8epFtj19tHUpBkYjYyTyLt0Bcof+mXApWEfWgFIKaUp1oMJ\n",
       "uAAoEUKcBVQCFuBRIHzNOAbYlWL/u0k3F1LpaLA1pJx3yV4wgvaGbRRFEaLFE6glErgVf/skZeue\n",
       "Q9fTxQr9flzl+BkOaebuU2s5fB/lEDHZ8JuWwomMrhnL7x76Y6+BSVdEFyKdC5Cx0AzM4CDveZeE\n",
       "EBehbJeeAJ5H8WaNB/4PqJUJJhj3gmRI+GQuVdyEnm7lkC3WHrhv+45dsGsxjJsD5ePiPx9lLFd3\n",
       "B20ltZhDOhGjBeF1oHfb6RkxPWq5Y8I89I4mylc+qehPTGUITxeGns7es47ib5+k8ttH8BsLedN7\n",
       "GLfZT2Ok6OSBWXZGHnUxsFsAF63/kIEL1TfbvBSbApQID93jjydQWqOqD7WEBHuxXk+i+mhoBiZ3\n",
       "ZDslyp9TqUsFKeW3wAvAWuCfwM8SGZiEJCt86tve0aSEXOxuTvx8jJCZli3vRBWixSovaF6VUOBW\n",
       "tu45PIYi7u85k5vsZ3GgaRevlT3CzJ1/6Z2O2vCbVpuP06+6kyvu+iv+ghLMLd+p7kMt6YTXjIZm\n",
       "YAYXibxLlwohPEIIb9iXRwjhBX6WiQlIKf8mpfxp8N/3SiknSCmnSim/TLtzZ6uyqgjHVKyUq2nv\n",
       "tikhF91heexiPR/2bCiinTRa0DsakUZLRNN45TpXq1JnivQISVMZekcjAN0uD5c5LucZ5+EsLPqG\n",
       "pyuep8IEup7dehWdqzVm/6F6a5eHM6+6g4amNq5YeGpEvZo+1JLo9SSqD0czMIOPREbmWSmlSUpp\n",
       "DPsySSmNwN9yML/0SFb41Ld9QakScrFgdxCnmM/HCJnpt4yKKkSLVR4orIorcNvV7uRM50187ZnI\n",
       "XaX/4rbSdzCKAPicBMy7/1ATCeAaHXrOChqYFx+5lTkzpiYdwlMt6YTXDEczMIMTNYrfpOsGDMkK\n",
       "n/q2t4xUQi4Wj0j8fIyQmY6J86MK0WKVu0dMjylw+7hwHle+uJwOXSV/L3yYcwyfQMAHHht6r4uu\n",
       "aRf2TieeAE5KyWW/fZr6pjZeevCXzJk+OaUQnmpJJ7xmCM3ADF7yfvCbLgkj4+XIuxQvZGYsD41a\n",
       "75KvaBTPeI/l8RVuxldZ+O2p+7HP98/1epcC5jK6pl1I96zLIuYUr/9NG9bT3biZueOMaYXwVEs6\n",
       "3iXNwOSXrIbfHAwMhPCb2dTBeHwBHv7PJt5f28SR+1Zx04lTKDQlJ7AL0dxk5a3XX+OSy69OWkOT\n",
       "LzQDk3+yHX5TIwHZNDBt3W7u+Nda1jXaufDQvbjg0L3QpWgcwpW88+b/iLF7jc/sZLOAZmD2DIam\n",
       "kQnfErk6oWsX9Nj7R6SH6BHrAdYtwtNZj880AlNwaR9ryR8rqlu8LcK2b//DzV94sPmNPDz6S+ZU\n",
       "H06PGJ/UywxtdVrqtrDw+sewtnby7Mtv9BqYTGQ8UNtG7VwjsgoMV5lVQGNAM/S2S+GiuS4rbFgE\n",
       "OhOM3A/wKwe9h12jGJpQPuSiCsWV3dMJrVtAgLtsAk5R3Csc6x57DMW7PuknKHMOP5DSza8rQZdM\n",
       "5eDpVG4Q73s6RS0rogrQPtrUzr1LJcMMLh4d+zlTdNsx9NiSulgZEtI12P2cft0DNDa38cq9V7D/\n",
       "KVf0E+PFEtplqo3auYb6KMJNqXDu8RcHBwtZFePtkYSL5uqXgrlCMSKO5sh8xxA9H7KrDW93G059\n",
       "WYRwrGztc1EFZWXrnosa1U0pj2zvKSjn2U/WcsdSA/ubm3l54n+YUmRXFQmuLyEh3cotVlrbu3jx\n",
       "kds4aPaMjObTVttG7VylqYTCAhOl5ZV7fLS4ocTQMzLhgjtXu/JvvUmJtQrKisUWFIHZGpWfw/D5\n",
       "vAQ8kWcw0lSG3tkWVVCm6+lSVjDhmMrR9XRFtO/26blu2xyebhjL2ZaV/GX8Z1Qa3BHP6B1Nql9m\n",
       "oLsJabQw74iD+OaNJ5gzY2o/MV4ioV2m2iQi1EehyUBZYTCEUDzRpMagYugZmXDBXWGl8m+/R4nr\n",
       "AbvzHUO/fMhurx8vegKGyFhawtOFv2hYVEFZwFwWNapbwFzW236Xq4ALv5vGlx3l/Hr899w2ZhVG\n",
       "b3u/Z6JFgotGc5OV4y7/Pe999DkAZSWKEch0Pm21bRIRKKyiCPduAwN7fLS4ocTQMzLhgruag6Cn\n",
       "QzmHsYyIzHcMEfmQ3R4vLlsLAVMFAXNlP+FYV+2FUQVlXdMujBrVTSnvZEmzYOGqWto8Bp7a61NO\n",
       "Pnwm9mnqIsFFI+RF2tHYSlWRXnUu7FTFeJkQ7BnHzlbOYIZQtLihxNA7+IWkvUvu1W/ibt/V6wEC\n",
       "onqFkvEuuSYcx1ufL+GxZS4mFNh4eOomKmqP7fUupZJnqG/AqTm147OeT1ttm1j0uqmHWC6iwYSm\n",
       "k0mFshrVH+BuUxXdFQegM48O3isaib9kdNQQBJ7qA6OWe4fX0i3P6v0jdFZO46EPN/HO6h6OqPZz\n",
       "V62NwpJa3GHboZ69j49rVPr+YTebJ3D+WedFBJzyA84U1Lnh+EtGp91HLCJ0MEn8TgY8CZL5DTWG\n",
       "3nYpCbqbd9Cz+q2Uk5JB/8RmHQ4XN/xzDe+stnLJhE4emNVJYWlVUn1HS5Y2qvVrTjz+B6oj2qWb\n",
       "cC3dfvZYoV2CZH5DEbgCCFgAACAASURBVM3IxMDe46V765KMumc3dem56ItK1tsKuG+fDVxW60MU\n",
       "JN93eJ9NbV18b7UTMJdy2/87VnXIzEzFikmlnz3WwEDcZH5DFc3IRCF0VSCT7tmP6nRc+pkRCTx5\n",
       "lJv5hatT7jvUZ1NrB2dceTsXXv87vMKc0rxSGT+dfvZoAwPKFqmgj2ShoFwpH6JoRqYP4XeRMuGe\n",
       "9Zmr+MsayS1LjOxbJnn2GA9TLd1x48kkIlBYRXNjPWdceTuNze384ZYrMcqepN3GmYgVk0w/e7yB\n",
       "gajJ/HB3KuVDFM3IhNH3smO67lmXx89Nq4bz9OYifji2hz/NdVOlSxxPJhG7GMUZP7+XxuY2Xnz4\n",
       "Zg6ZNiZpt3GmYsWo7WdIGBjol8wPZ5vy88wL8j2zvDE0vUtRiHabOpSUrKB5FTpnC4HCKhyjD1Xl\n",
       "nrV29XDrm2vY3ubgmkOrOG/ETvQ9rRF9+C0jU+r7gUefpKGtmxcfvoVDJ1URMBSpfjYTry3ZfoaM\n",
       "gYHdXqTlzytu+ZJqmHPlkPYuaUamqx7X9qW42hspiqYlcTRRYF3eq33xWapj/iGG3Mor6+38atUI\n",
       "fOj53en7c9D4SlzU9msfzz0c74b27ff8ngvPWcDskX6Ic4aSSL+ixj2tJlVJvPdoQOtgsjWnKScN\n",
       "aaPSl6G9Xeqqx7X2LWz2rqju11CqDuG14y+uQXjtlK98EpN1Rb+uQq7cN7YEuGrZCMpNfv4+eweH\n",
       "DOtJelrRxu359BF+fek5OLq7KZU2DiluiOs2zoSLWs3rj9cmwsBsfEe5H1Y8Qvm+8R2lPF8MxDnt\n",
       "oQxpI+PavhRboDCm+zWZVB166yp+t6ma+1cXM2dEgL8e46emsjBpl3C0cRudRubf9zH/fu9Dtny/\n",
       "KWe3o9W8/lhtKna+t3uLlGxqmlwwEOe0hzJkjYy9x4u9PXZaElCfqqPL6eXa/+r4545CFk7y8fvD\n",
       "fBQbU3MJ9x3X2m7n1Fuep6Hdwf/dcCwHzJiZs9vRal5/tDZGSyUWV/PugmRT0+SCgTinPZQhaWRC\n",
       "h7yJ3K9qUnVsaenmin8sZ3VXAXfOsHP1fn70on9fyRAat9fAtNl49dc/ZM6sGUDubkeref1925gM\n",
       "OiwB++6b7JB8appcMBDntIcy5IxMuBcpkfs1UaqOLza3cs1LK/AGAjx6yjh+OLw1bZdw+LiOzhYC\n",
       "UvLqr3/IkROKesfN1e1oNalKwtuY9GDxd0XeZIfkU9PkgoE4pz2UIXULO5qbOpEHJpp3xT1yBi8s\n",
       "3smzX21nSnUJd51aS1VxQcbSh9i6Ohnm3Erx1neRtnpEaU0/r06uYu+q8S6ZrCuo2PmeskWKdpMd\n",
       "hpZ3aQ9DS4mi0shkKquAy+vngfc28tmmFo6fNpLrj5+EyZC5BWEoXMO8+T/ixlt/k7F+s8mQ0sEM\n",
       "QbRQD4lIoINJRPj/5HWG8Vy3fQ5bOgNcftTenDVrTET+olj/68cq77vS2MUozr/gEqwNDRx34AQq\n",
       "vrwn7goiEdnIItC3jxKzkeFda+DrPhkd+q5k8kU+ViuJxhxiK6g9+0wmgQ4mEeEakGWBKZy/+gAa\n",
       "u3q4/6hCzp49tp+BiaYXKVr7StRy89YPI3QszdYGzjv7DKwN9fz9T/dxgn6xKn1OLDKhk0nUR6+B\n",
       "+eox8NihfIzy/avHlEwP+SYfWphEYw5Bfc4ebWQS6WASEdKAvN41mUvX1VJiCPD81MUc1/NhzLb9\n",
       "shXEyGJQuv6lXh2Lzy8598aHaGjt4h9/uIkflNer1ufEItNZBPr20btFipbRITzjQz7JhxYm0ZhD\n",
       "UJ+zx26X7D1eXO2NyKLhEeXSaEHnbFHVh+y28kDrYbxkHc2h5Z3cN/l7SnUG9N39/9fROxrxF0cu\n",
       "eeNlMdA37w71YDDoufHSc6koLeawSVXoG76J3leUcWOhc7USSOO1x+vD4u2gJHQGY2tUVjDhmMuh\n",
       "s071OFnD2aqsFsIxFUN3c/T2uRgzH3PKM3vkSkatDiYeNpeXK3Ydy0vW0Swc3cij0zZSavD304mE\n",
       "iKkpiZHFwG8ZSXNjPR/8dykAJx01h0NrxwVDfCbWpyQiU1kE+vZRhJuSyrCwBX0yOgCRGR/yST60\n",
       "MInGHIL6nD3OyCSjg4nF9jYHV764nOX2Cn47ejE3jFqJQUbXiYSIpSmJlcVg8/ATOOPn9/LzOx+l\n",
       "y2aPmJsafUoiMqGT6dtHkXQpWQXCtSRhGR0I+PtnfMgn+dDCJBpzCOpz9igXdio6mL58vaWNe95Z\n",
       "T4FBx12n1nKgbmtCnUgItd6lraUHc/ZlN2FtqOfFh36lhGvoMzc1+pREZNK7ZPF1KiuYaJ6QaPnC\n",
       "Ne/SHuNdGrQubCGEGXgUOBooAB6RUj4shLgWuB5wAddJKVVFYI6lg0kUziD0RyScrTxXV80T60xM\n",
       "Lvfz++lWhru68FmqcVfP7P1D9VtGJv3HG57FIDJtyRvsf8hhdEd5xm8Z2W/caPOON4dMZBrwl4xG\n",
       "P3yv3Wcw0RgzK32jkq0/vHxkQUg05p6UmUEF+dwuWYD3gcnALOBXQoijgKuAWmAB8LQQwhi7C4VU\n",
       "hXYhF63b7eS2daN5fJ2JE0t38JcZ2xheWYneXk/5yifR2+t7XbjFG16jZP1r/dy65q0fqgoL8dbr\n",
       "r0WkLYk3r1iu40xlGlBDToR2Q9CtO5TIm5GRUrZJKf8pFVqBXcCRwKtSSruUch2wHcUAxSQgZcpK\n",
       "3oLmVTQGyrj860o+rNNz9bgd3LvPOoo9zSB0GFwt+MzlGFwtvS5cfU8bwt3Wz61buv6luG7n0Lb0\n",
       "ksuv5p3PFsfNKpDI/ZypTAOJyJmSdwi6dYcSA+LgVwixH2AGqoAdYVV1QD83hRDiUiHEMiHEsqZm\n",
       "9S7ZvqxttHHRFxXs6Bbcf4iPnw5fDwVl6Dw2AHQeG9JUhnDbdj/k86DzeyP6kUYLekdTzLAIzU1W\n",
       "zjvtJDZtWI8QgrF7jY87r0RhGjKVaSAeOb0qoIVd2KPJu5ERQlQBzwMXAyYgEFYdAPx9n5FSPiWl\n",
       "nC2lnF05LDXX3/trrVy+dCRmfYC/Hu3lyNEBZEEpwtNFwFSqDG5SfpYFpbsfNJgI6CN3cMLrwG8Z\n",
       "GdXtXO8u4fwF81mzaiW2zg5Vc0vkfs5UpoFY5Pwu0hB06w4l8irGE0JUAG8DN0splwohTgLCT8TG\n",
       "oGyj4hLvELRvnaPqAP68oof/3965x9lZlff++7yXfZ1LZiaTTCYJCYQkJNwmIXITxFKCB2ipTYtH\n",
       "FOs5rUf8tChVjqgV+tEWkcOhiuKn7YditeKhtKm1KoZzgBZFRMFwLUJuQ8hlZvbcr/u+33edP9a7\n",
       "J3smc8kkM5m9J+v7+YTNXu9+136yZ8+TtZ71PL9n+4uH2dwc4961u6iOxFEqTiHaSHTwAOlFZ4Ly\n",
       "KUQbifW8SaGQI3rgaXzbRYmLCtUguWGUG0fySezsMEMbbqRu5wNY6QSWl8O3Q7Tl6vjtvztMoqtH\n",
       "nyJVteK3Dk4bKM4uOZ/4/ifwYMx7JJsvOabrJ8K8FDsu36xjMKBXMLkRfay7/rKTa4dhTpi3lYyI\n",
       "1AA/Au4qOUH6MfB+EYmJyEagHnhlynm83KRB0PEB0uFUmju+/xrbXzzMe1uaued9W3DXX4VyYlip\n",
       "brzq5Qy03IxXvRwr1Y1youTq1qLCVSilEMAP15A67V2j9ygnRvL0qwGwcv2gAGw6hwpc87UX6Uh0\n",
       "8k9f+igXn33aMQdpix0Axr9H0TFNd/14mbdq6trlsP5acGI689WJ6een0AnMQmY+VzKfADYB94vI\n",
       "/cHY1cB3gV8DGeAjappEHimkjwRBQQdBYTQIWrx2YFj49C/qaE8Kn23JcvVvrtXXJzjmzQWPsdbH\n",
       "ybmR0bkBJDeMk0yQWjNWjb7hmTvIVzVBpAGASLbA2mWD/PUHmzhnS8uE9k11vDzd8fNsHE+XMu9y\n",
       "DafYse6pxLw5GaXUXcBdE1y6O/hzTIhfmDgIGtTo+LFGnktY/PmvHFwLvnFZjs2xzglzU8Yzk/of\n",
       "O9mJV9VM50CaSMimNhbi0U9eSajrNfqmsK8cmHcHY1jQzHvg90RRljNpENSLLOb/7PK57TmH5phu\n",
       "EbupdviYA6QzCbB68aUkuhJc8+Wn+NADP9NH1rkBXbs0h0HaE8U4GMNcU/FV2MqJYmeHjwqC9i25\n",
       "iPt+1sUTe4e5clmWO7f4VKUOE+rcjR+pI5x4CS9cgx+pD2byjwoaZ5ecT9Wu7diZXijkwAnhRRpI\n",
       "r3wXsdbHxwSa9za+h/d/5hbaB3L8zQ0rcAb2Ij4MtNyMM4F9yeZLpiwdmC0pz6mozXXT0P16xaS3\n",
       "GyqTyl/J2KGjgqAHllzJJ3ZoB/OHW+r50oUe1UN7CfXvphBfhp0ZQPLDhHp3Ezn4E6IdL4DYEwZl\n",
       "RelYroigACs7ROzgM2MCzcM7t3PDLX9B22CBH/zx2Vy2ygUrRKbpHWRPu3zCIK2d7Jw0Q/hkZPTW\n",
       "5rppaHvKZNka5pyKX8nA2CDorsQQd/7g1ySzBb54/dlcvnYxac5FWh/Hq24m1LcHLxQDJ4Y1kgAg\n",
       "H63DHTpAtumCMUHZcNer5GtXoEIbRt8rcvhZyPaOjqlQNbfc948kEh088pXbOXvLBRSzYSQ3rOda\n",
       "c81RQdqa1751JEMYdIYwWvwq27R50mD2bAR7qyOuXsEUs2zhyGPbS2Y1Y5hVFoSTKfLvb3Zy7//b\n",
       "TX08xAM3bmJN45Es0mIQV7JDqLDOzBU/D1hgR5CsTqQrDcpOFPilkMMqkd0EuOczH2PotR2cd8HY\n",
       "KumpAryTilyNtM2K4NRkjMZgTkHxJMP8UPHbJQDPVzz4zFt8accuNiyr4W8+uHmMg4EjQVwVrgFP\n",
       "96dWlouybPAyo1m902XWFjN+O3v6+erf/wu+73P60mresen8GQV4pxKmmquM3jFBXpNlazhJVLye\n",
       "zDnnnKPO/6O7+XmnzbaVI9x21gCu5XPEf+qAbiHeRKTrVZRfINy3B9+ysLIj2Mku7Ew3vhPTr6tq\n",
       "Itd4HrqiwcJJ9egtUxC0dYYO09k7zHvv/A5tXX08+dAXWbc0TmbJ+UQPPXNUkHjkrBsmDNiGEi9T\n",
       "99yXsXL9iJdH2S5+qI7+Sz+HF1+qK72zvVheXmcahxsY3jDxXMfCUadIxcrnSM24LFuTBGcYS8Xq\n",
       "ycwWB/ozpLssbt84wIec/8DvgnzdesJ9u/EFsssuQgopIl2vkllyPk4yQd7LYGUG8ZXg9u/DC9eB\n",
       "E0Vyw0TaD+LFlpJv3KhXPgKSzyD5FH50MW/VX8GNn/gwHV19PHrPn3DGGWeQDNTmikFiSwQ/eD4l\n",
       "wbZL0EFlSrZhSrSbHM00lokmODYmPKYuZtm2vaS3SLHFOo3fOBjDLFPxK5lY81q1/e/u5VJvJ3hZ\n",
       "BMEZOkS+ZoX+5bVDZJsu0LVGTmxMpm7dz7+E5IdHg69u/z7I9kNoESMbbgAYc19XZ4Kbtl1HR1vb\n",
       "UXowsdbHkULqqOzg8e852XsDSKYP5VaTbdo8o7mmwuTBGE6UE13JVHxMZnW1zwWNSssx2BGUHcHK\n",
       "9B/5/0C2YSIpBDvZMUaeQQppCC3CyvSNjpXet3fXm/T19kwoODVT+YXx7w1HpCFmS8rBOBhDOVDx\n",
       "26WwN0L04NPYqW4Kfh5C1fiROvAyCIIfqsFK9+H2voGd6scdPKi3JUrhBEWUuHEQsLID+Fj4sSOn\n",
       "LvbQYfyBdqpef5itKxbzs6efJLps3VF2jAaWS1cfxxD4HbOSKQn82kOHcdLdWLkh/FANhWgjXvWx\n",
       "b2WMgzGUCxW/khHfw7dCeOFFhHvfxBo6TGbpZpx0P5LpwwvVEm7/Be5wB6Cwkwki7c9jJxP4ThR3\n",
       "4G3sof3gK3zAHWkjV70ClI89eJDBXT/j3Z9+mO3P7EIKKZZ2PzdhUtxMuwNM1ZGgEG8imtiJZAfx\n",
       "3RokO0g0sZNCvGnCucZjHIyhnKh4J+O7VeBEULZLru4s/Ohi/HA16WUXkm26EGfoACpcSyHeiB9v\n",
       "xPKyeOEqLC8LtkuhdhUqVIM90oaKNZE847cQy8FKddNzqJVr//ezHOwaYMWyJVPKXM5UfiHXtImB\n",
       "lptRbrV+b7eagZabyTVtwkkmSDdtQYVrkZzO60k3bcFJJqb9PIyDMZQbFb9dUpZDtukCvSUaeAt7\n",
       "pB2wsDIDuMOHcPv2kq9aiZtsw3fCOOkelBXGTrcihSzKCZNedjGEoqRP+w1QPlaqm7cat/IH/+2L\n",
       "tPUM8sj9d3JRS5DhO0VS3EzlF0q7GJSiYzIx3a+h+Pd0Y2NiMhPVPYVXX2gcjKHsqPiVDICV7iPc\n",
       "+TKSG8J3a4ge+inx/TtQvs4xiXS9gJ1M6OZj+Qyh/l3gF/CdKMr3iSZ2Qi4F6DjKkB/npm3X0dY9\n",
       "wD/ed9uogylen/sKaoto+/PgZXV2spfVz4MfVyjx8lF1Tw2vP0jj4OtzbJfBMHMqfiWD8nAH3kKJ\n",
       "YCmFL4L4ObzwIpzcMNghsML4gJPpxcqPoIJ8FpwI+HkUYKe6R+Mozuqt/M7vv59LWtZzaUMf3jip\n",
       "zdmQuZwOX4r5M6ID2CV5MvHWHWPqntyqxUQ9VzdYK5emagZDQOU7GbGwR9rxqprJLDqDUNer4OXB\n",
       "iesjaRT56pU4qS6U7yNeBmWFsbwc+VAcP7wIfB87O0BiIEtXtopzu1/jM1ub8KMumbhO4LNS3Voj\n",
       "uPmSWZNcmFzOwSdft55I50tYmX78SB2ZpZspaqyX1j2FHIt42AG/TJrcHy8V1lXRcOxUvJPxw7Wk\n",
       "1lw3mrymwjVgu1BIHsk1yafwwrVg2RRsF/wM2FFUqIZC7Wrw8xwaPo1tt95DITXIs4/cixtrRPJJ\n",
       "Il2vzop+7niKcg5euFoXbuaTxPc/EegFW7j9uynUrETVrUW8DG7/brJNFwJHjr/dqsXawUD5NLk/\n",
       "HkpLHKqW6BKH3TtMicMCYUHEZEqPj/M1q1BWCDs7QCFUjReqwc72YxXSFKqWk69djV1I63iM5eAM\n",
       "tNKT6OC3//KHJDraeeDOj+HG6+a0aRpM36DNUqBQ6P8qrJLE7OSaawkXBol7g+XX5P54MM3dFjQV\n",
       "v5KBI8fH4a5XkXyK9MorcAYPEu55DckO4Vs689ceaadQezojZ76XUP9erHQfHYNZrvnGm3T0DPEv\n",
       "n7uWCzauGtP4SQpZIu2/mnWFuunkHNLNF+EOHUCyuu9TuvkiULoFVXj1hUTrYjoGM3BYr2Babqrc\n",
       "eIyRnVjQLAgnA2OPj4tbkVS8cbTi2h18Gy/agKUK5GpXkWvahD14kHvue4j23iEeuf/zXNLYj3Q8\n",
       "T7b5EvxoPVa6j2j78xQitUdtaU7U0UyXISyFFNmmI06jWLs0mgdTPQtN7suFouxEaRM9IzuxYFgQ\n",
       "26VSQomXaXjmDmJ7/pWqvf8G+aRWnateiZPuwRch1PkakcPPEm99jLs+eCE/+vrtXLTpbHING7EU\n",
       "uL1vgPIJ9b6BL5Bv2Djr26epMoQnu+au3LIw82CWb9YyE9khUL5+zAzpcUPFs6CcTDF/xMoO4MeW\n",
       "YuWThHtexx5J6O4FsSWARd++F/jIV3fQbS0lVFXHlpperHQffrSedPNFWIWc3rYUsmSXXYQfPVJf\n",
       "NFs9p6fKEJ7ompx1HQ3LTz/h9y1LTHO3Bc2C2S7Zw+0sevEBrOyAltXMjeie1vkR3IF9+JFavKom\n",
       "Oru7uf4bu2jvT3HLuxrZ4mbxYo24g/vJRut1BvBpV5Bac82ofEMps5mMN1WGcOm16ohLw0JcwZRi\n",
       "mrstWBbESqYYg7HSPfiRBnwnjptsx8dGsLDSvUg+SVsqxPV3PEp7X5Ltd26jpUXrtrgDb2OPdBxV\n",
       "1DjTose5wNQiGSqdBeFkisfBfmwpeClUZBGF+DIs8vh2GN+J0dnVy7bb7qe9P8X3bt/KxeeuQ0Vq\n",
       "ydetx3cc7FTPSes5fawYB2NYCCyI7ZLTvw87N4wCQoOHKMQaUZF6lJ/DD1eTX3QmQ/4SnMjP+f4f\n",
       "r+aKRYfIJYRC3VqwXbzqleSrV06oOjfbPaePlWkdjMmQNVQIFe9kxMsR6t2Fle0HBC/SgJ3uRaX7\n",
       "wI3Sl7FZpPaw3jnIC59pQUSR9/PY2WGsnl+TW7yBXN26GQlCzTXVEZdGvwfemMSJDLbBK4/oa15e\n",
       "Zzh374KWDxhHYyg7Kn67ZCcThBMvEurZhT3SiXIiKMvF8rK0ZavYevfT3P7dl3AH3wZVQPwCVj4L\n",
       "vtaTcYYPY+eSJzXOMhWjDmb3jsm7O+59EvpawbIhWqcf+1r1uMFQZlT8SsbKp/DD1aDAzg5hpQew\n",
       "Ckk6ksJ139pH20CeG86Lg5/D9nN4Thw3340fiuOLg+TTqBPoBDCbjG6R3nhp6u6OHa9CdBG4MT3u\n",
       "xiDq6/FSzJbKUAZU/EoGEbBCEIrjhWuxVIaOEY+t3+ykrT/LD29ey2Wrw4iXR/Ip7OwgCkW2aQv5\n",
       "hnXkmjZTqFkxJ/VJM2FMDCbVo9PqSwlV6fFRxnvGcc+LRYem17Vhnql4J6MsF/Gy4OexCml8r8D1\n",
       "3+mhbbDAD25p4ZJ1DfhuHGwX8QtIIUmhZhXKsrHzafK1p89agt3xclSQd7rujs0tkO6HfEpnyOZT\n",
       "+nlzy5HXm6JDQ5lQ8dslZYfwnSh2sgsn0wOex5ffs4hQ/XIuPqsZyfQihTSF6mYyTRcSSbyA78TB\n",
       "DpOpPws/Wo/khidNsJtc82V2mPAUaflmveqAcd0dL9NjZ16lM2NTvZAe0MJc9Wv0eBFTdGgoEyp+\n",
       "JWNlhwj17qK7M8H2/8zgO1Gu3FDPO0+vQtkOvrj4Vohc43l48aWkl18OtqUFrYKOBJH2X+L07yPW\n",
       "+viYTgTFJD8ppHSBZCFFfP8TE3YrOB4mPaaeLs2+drk+SVr1Tmg6Vz+OP1kyva4NZULFr2RQHomB\n",
       "NFf9wzDtI4rLNzZRV78M8fNIIUN+yUaGN3wAL75Ui0RVN5GJ1uH27SK2/0l8N0Z26Sa8mhVHVVmP\n",
       "0XwBXSCJTv470dyZafNgpkuzn+76dKshg+EkUXYrGRF5n4jsF5F9IvKH070+7wtXfWeEw8OKH3yo\n",
       "kfraKgRdyJhfdAYDWz5JrmnTGIfhxxaTXXEZ+dqV+LEGvNrTJhaOmqVOjuM5KZm8pujQUCaU1UpG\n",
       "RKqBvwIuBjzgFRH5kVJq4h4kwJ6eAo4Fj/1BA5etcvC9LIVQnGz9OrIlerwTiURZXp7xvcBLhaNm\n",
       "2hXyWDippQKm6NBQBpTbSuY9wE+VUm1KqQTwH8BvTnVD3lM89uGlXH6aAyjdfcDPo8INYxLsig6j\n",
       "FN92wQmNGSt1IrNdIGlqkQynIjL+X/L5REQ+CSxWSn0+eH4v0KGU+uq4130U+ChAyGbzWQ1W3rKw\n",
       "APF88j0p1dObVn05j3zxnpCNWx+VRQUfz1d4lmCHbUIAWY9cccyxsPvSaqB4b8jGrQpJ3LVw8j6F\n",
       "kZxKls47QxYD83dWPnMqyd5KshUqy971Sqnq6V82MWW1XQJCMEZi10dvm8aglHoQeBBARHa+2ult\n",
       "OTnmnRgislMpVRG2QmXZW0m2QmXZKyI7T+T+ctsudQClQYQVwKF5ssVgMMwC5eZkngDeIyJLRKQJ\n",
       "uDQYMxgMFUpZbZeUUgkR+Tzwi2DoNqVUcqp7CLZNFUIl2QqVZW8l2QqVZe8J2VpWgV+DwbDwKLft\n",
       "ksFgWGAYJ2MwGAAQkaiIrJvteSvWycy0/OBkIyIREXlQRPaIyIEgBwgRuVVEDorIbhE5WlR4HhGR\n",
       "kIi8ISIPBc/L2dZaEXlURNpEpDWwvSztFZFPicje4Pv6J8FY2dgqIjUi8m9AJ3B7yfiENorIPSJy\n",
       "WET+U0Smb2OqlKq4P0A1+mh7OdAEJIDG+bZrnI0NwO+h1aQWBz/AK4A9gf0bgXbAnW9bS2z+ArAD\n",
       "eAhYU+a2fge4I/h8I+VqL7AaeBuIB9+JQeDscrIVqEJn1n8EeCgYm/DzBK4EnkUfGm0FXplu/kpd\n",
       "ycy4/OBko5TqVUp9T2l60E7xXcA/K6WGlVJvoL98ZdHQWkQ2AO8A/jkY+l3K19ZiesPdweeboXzt\n",
       "LWaH++hfzGHgWsrIVqXUiFLq34FCyfBkn+c24NtKqYJS6kmgMfh5TEqlOpmVwIGS54eBZfNky7SI\n",
       "yDnof20XU4Z2i4gAXwduLRku58/4bGA/8L1gKX8fZWqvUqoNvUL8JfAU8AF0kmnZ2TqOyT7P8eNt\n",
       "TGN7pTqZYyo/KAdEZDHwMPDfKV+7Pwb8RCm1r2SsXG0FWIJewn8c2Ay8E7ieMrRXRGrQjuVW4CvA\n",
       "/6S8P9sik9k4Y9vLKhlvBnQA7y55vgJ4fn5MmRwRqQMeA/5MKfWrIHhWjmUTHwKqReQGoB4dP/g6\n",
       "5WkrQBfwolLqMICIPIn+opejvTcBrymlfgL8RER+Fx1DLEdbS5msxGf8eDN6lTMplbqSKfvyg+Bf\n",
       "sB8BdymlHg+Gfwy8X0RiIrIR/Qv9ynzZWEQpdalS6lylVAvw58D30c6x7GwN+CWwUUSaRSQMXAWM\n",
       "UJ72ZoAWEXEDvaR16G1TOdpaymTf1R8DHxYRW0S2AnuUUn1TTVSRKxl1fOUHJ5tPAJuA+0Xk/mDs\n",
       "auC7wK/RX76PqCCUX24opV4UkbK0VSmVFJGPA08CYXQg8q8Ch1Nu9n4XfSLzFpAG/kEp9fNy+mwD\n",
       "5/cy+iQpIiLvBv4HE3xXReT76FPSt4Be9FZw6vnL4+dgMBgWKpW6XTIYDBWCcTIGg2FOMU7GYDDM\n",
       "KcbJGAyGOcU4GYPBMKcYJ2MwGOYU42QMJ4yIvC0iK+bbjokQkXeLyFPzbcepjHEypyAiogIdnsMi\n",
       "8gsRuW6+bRqPiHxBRHoDrZi9IrJtvm0yHB8VmfFrOGE8pdSZAEHK+MMiUqWU+qd5tms8X1VK3RXI\n",
       "UDwrIj9UShWmvctQVpiVzClOoBXyAeB/wagE498Gq4e9InJzMD5m2yEi3xaRm0qmujFQ1WsVkd8I\n",
       "XnOuiOwMFOGeIeuIUQAAAlVJREFUEpGqYPxtEfkzEXkzkGrYMI2NbwJJoC64/5HgffaJyJXB2BdE\n",
       "KxE+LSKdIvKn4+cRkc+JyP8VEfsEPjLDDDFOxoBSajcQFZElwGfRK9x1wMXAbSJy3jFM06CU2gj8\n",
       "EfDNYCwLXKeUOh0YAH5/3PtuALYDn5xqYhG5GuhRSnUHQ3+rlFoD/Cm6oLPIO4DfAi4H7hIRZ9wc\n",
       "NwLvU0qVm6zCgsY4GUMRB63idi3w9UBxrhf4HmNlNSbjmwCBpIErIg1oaYBtIvL3aN2XUomA4tbs\n",
       "p8CqSea8VUQ60Tos15baKiJfAT41bs7HlFJJpdQetMxlYzC+HPgG8DtKqaFj+LsYZhHjZAyIyGag\n",
       "UynVj3Y2/riXeGhpxtJthjvuNaWxkgi64vhbaI3bu9ErFil5TTZ4zI+bt5SvAWei9VeuDWz9L8B9\n",
       "wKNoAaiJ5hw/bzp4nMyZGeYQ42ROcUTkfODbHFGpfxL4uGjqgfei9U8OAGeJSFhEIsAl46a6IZjv\n",
       "94BWpVQKOAf4V7RE43FpMCulhtGqgl8ItIPOAZ5XSr2A1pE5FvqA/4oOcK89HjsMx485XTo1sUVk\n",
       "H3rFsR/4lFKqGNT9C+CvgVb0CuAvg5gNIvIw8BxaY2TPuDkbROQNIAV8OBj7CloA6wDw5vEaq5Q6\n",
       "JCJfQ6v1fRr4sYjsRjuwY53jZRH5LPCYiFwcrNoMJwGjJ2MwGOYUs10yGAxzinEyBoNhTjFOxmAw\n",
       "zCnGyRgMhjnFOBmDwTCnGCdjMBjmFONkDAbDnGKcjMFgmFOMkzEYDHPK/wfN1EId4zbgwgAAAABJ\n",
       "RU5ErkJggg==\n",
       "\"/><img style=\"margin:0\" align=\"left\" src=\"data:image/png;base64,iVBORw0KGgoAAAANSUhEUgAAARkAAAEnCAYAAACdYDfKAAAABHNCSVQICAgIfAhkiAAAAAlwSFlz\n",
       "AAALEgAACxIB0t1+/AAAADl0RVh0U29mdHdhcmUAbWF0cGxvdGxpYiB2ZXJzaW9uIDMuMC4zLCBo\n",
       "dHRwOi8vbWF0cGxvdGxpYi5vcmcvnQurowAAIABJREFUeJzsnXd4XMXVh9/ZplWXbMlF7g13Wy7Y\n",
       "xpgacMC0YCC2gSRf6KETIGB6hxB6SYAkmBYwxfSY3jEQg7GNG7gX9S6ttNKutDvfH3dXXknb9660\n",
       "kuZ9HkXs3Htn5trZn2fOOXOOkFKiUCgU8cLQ1RNQKBQ9GyUyCoUiriiRUSgUcUWJjEKhiCtKZBQK\n",
       "RVxRIqNQKOKKEplegBDCLIToI4QYLoQweNoOEkLc7ufe74QQg8PoM1cIsUUIMUAI8X9CCCmE+FO7\n",
       "e4Z72tNC9JUphHhYCLFHCFErhHhNCNHHcy1JCHGLEGK7EKJeCPGREGKY55oQQlwmhNgshGjwzH2q\n",
       "59rdQoibw/9TUsQLJTI9ACFEfyHERiHEBiHEOiHEWiHEViHED0KIH4CvgM+Bx4Acz2NJQLYQIs3z\n",
       "5fxOCPEdMBF426ftxgDD3gM8IqUs8XxuAG4TQmRF8QqzgTrgQGCsZ453e66NAAYCRwCDgUrgKZ93\n",
       "OBz4DdAfWAW84rl2C/B7IcTIKOaj0BGhgvF6BkIIATwPvCalfFMI8TegWEr5gBDiROAa4CgpZaMQ\n",
       "oj8wB+2LfBPgBoZ6urocWAbUej6/JaXc1W6sXOAnYKSnv/8DLkYTgC1Syss99w0HdgHpUsr6IHM3\n",
       "SCndPp8XATdKKSf5uTYb+ERKmeZ5Z6Tn/8Se9yoBcqWUFUKIa4D+Uso/R/BHqdAZU1dPQBE7Qohj\n",
       "gYfRxOJAIcQdnksmIcRZgNXz+SchxDnAIZ62b4BjgH8Cds89jcAOoMLz2Z84/Ar4WkrZ2K79CuAH\n",
       "IcQTUsqf/cxzFXC3lPJd33ZfEfGQiyZYoa61/xcyF3ACNs/n/wKvAkpkuhAlMj0DE/C6lPJaACHE\n",
       "S8BFUsoq35uEEP8AjMBI4EsgC3gfeNz3NjSx8H6B9wEntxtvKvBj+0lIKTcLIZ4EHgSO9XP94FAv\n",
       "IoSwABcCDwS45XK0FZs/rgBelVI6PJ83ASOEEBYppTPU2Ir4oESmZzAZmCeE+Brt73QGMMSzm2hP\n",
       "KeAA9gIzpZTvCiGagEl+7m2RUj7mp70v2jbIH7cA24QQx6F9ySPlEbQtz9PtLwghlgJ5wF1+ri0B\n",
       "FgDTvG1SSimEqPLMtziKuSh0QIlMz+B+tC8naCuTU4BPA9zbLKV0CCEO92lbjCY67Vcn/0YzFren\n",
       "Cc3o2gEpZa0Q4jq0lcjxYc3eg8eGcjgwt/02SQixGLjUc83e7tqhnnke42OI9pLsma+ii1Ai0wPw\n",
       "bA8cQog/AnPRbCy+/3Kb0LxGR0gpPw/QjXcl4EtKgHsLgSFBpvQ0cAHaticshBB/8Nx/iJ9t3lFo\n",
       "IjrfjxF6MvAacLqU8vt219IBM1AT7jwU+qNEpocghDgM+AuaG/hZ4AbPVqg/8ALayuaLIF1cIaV8\n",
       "v12fBQHu/Rpt9eQXKaVbCHEp8HGYc1+A5uk6Ukq5t9216cB/gIVSynXtrg0DVgIXSyk/8NP1POBb\n",
       "PwZiRSei4mR6AEKI04DngMVSyjXAfOBGIcSnwAbgOSnlpSG+bA/6xst4YmYyA9z7LdBHCDE+UGdS\n",
       "ym+AFe3muUoI4W8LdTVaLMwWT/CeFEJ87rl2CdAP+Mrn2m7Ptf9Di5152eea7zv+H4GNxIpOQsXJ\n",
       "9ACEEPcDH6C5cKcCR6K5ot8FpgOHocW1bAc+lVK+5rHJnCqlvFgI8S+0+Jr3ffpMAvZIKQcEGHMJ\n",
       "cIqU8tT4vVn0CCGmocX7HCilbO7q+fRm1HapByClvFIIcSCamHwLPCilbLXJCCGS0TxQk4GdwfoS\n",
       "QhyJZtMR7I+e9TfmS0KIbCFEPyllmQ6voTdj0Ow0SmC6GLWSUSgUcUXZZBQKRVxRIqNQKOKKEhmF\n",
       "QhFXlMgoFIq4okRGoVDEFSUyCoUiriiRUSgUcUWJjEKhiCtKZBQKRVxRIqNQKOKKEhmFQhFXOk1k\n",
       "hBDJQogDOms8hUKRGMRdZIQQGUKIN9Fyy/7Fp/0yIcReIcQvnmz73vZ7hBAFnhpCM+I9P4VCEV86\n",
       "I9WDG3gULbfJHAAhxCjgIrSUkEOAjz1Zzg5By2Y2HK2Y17+B/E6Yo0KhiBNxX8lIKeullJ8ALT7N\n",
       "JwOvSCltUsrNwG60DPsLgWeklC1Syo+AXCGE36RJCoWie9BVSauGABt9PhegpV8cArzl017oaW+T\n",
       "gV4IcR5wHkBqauqMcePGxXWyCoWeuKWk2ZXYeZxMtgJaHI1sK7NjEW5HnUNaQz8VoC89JxYBFrRt\n",
       "lBc34ArS3gYp5VN46iHPnDlT/vDDD/GbqUKhI7amZsptjtA3djHy6eM49qEfMRkM9E+VDbH01VUu\n",
       "7GJgkM/nwWiVCtu356GtchSKbk93EZiy0hKOfWgNRdWNrLjqiJj76yqR+S+wWAiRIoSYAPQB1nna\n",
       "/yCEMAohjga2tq/Bo1B0R7qLwLhcLs5ecgqFNc28eeEkDh4RqPRW+MR9u+QpsLUWSAesniz556LV\n",
       "AtqEVt3vHE9J0TfQkmHvRCuqfnq856dQxJuuFBijrYiksvUYGitwJ+fgFiaSi1djbCjGlTqQhlEL\n",
       "cKX2b3PPNVdeSnJyMjPM66F2GyaDMMcyh26fSFzZZBSJTFcLTOquD3ElpSPNqZjLN5O66wMcfQ7A\n",
       "nZaHcNZithXhzB7DPpHH6i17OeGQKRgdNhpGzAcgqWw9+Uct2lNS7x4e7TxUSRSFIk509RYpqWy9\n",
       "JjCWdO1z5RZarBkYXQ7cBiPS2gdZt4fKXRtY+MgLlFXUcNDrj5OTkk5S2Xrso47Fnp5HaYOsiGUe\n",
       "SmQUijgQTGDab2Ec/abiSs/TfQ6GxgoMjnqspe9jaKrCVLuH5ozh0NLYek9ptZPj7vua4jo3Lz50\n",
       "A32zMpDSjcFert88dOtJoVAAoQUmddeHiBY77pRcRIud1F0fYrQV6T4Pg6OO1J3vgsuOO7kv0mDG\n",
       "UvMLNDcBUFJl49j7V1FY4+DFh25gdr5WdVg0N+BOztFvHrr1pFAoQm6R2mxhhAFpSceVpG1P9MZU\n",
       "tw9pNIPBAghcaQNBujE0loLbxcqv11JU3cSrNy1izoTBIN0Ipw2jw4aj31T95qFbTwpFLyccG4yh\n",
       "sQKEEUvVVoSjDpmUQXPGMESz3e/94W6tfO8zNNVhshWQsuczXEmZCMxgtuJOycGJEXPlJlK3vsmF\n",
       "+X05/Oi76T9+DpYdK9t6nHTcvqmVjEKhA+EbeQ0kF/0PXA5kUia4HNpnP1/FcLdWvvcZHDZSd63E\n",
       "UrkFlzUT3A7MjWW0JOfgNqdRXryLQ/9VzTfGOTj6TWFs/XekbnsXZ8447KOPx5kzDmvZel23b0pk\n",
       "FIoYidSL5BYgEGj/K3AL//eFu7Xyvc9a+iOupGzcydm4LZkYENp5neptVOxYw6//sYuNxU00NruQ\n",
       "1j4gmzHXbovr9k2JjEIRA5G7qd04Bs5GGi0YnDVIowXHwNm0PbKnYWisQJpT27RJc6q25Qpwn6Gp\n",
       "GkwpYLAgzUk4+k8HczplxUUc++gmCuvcvHrrGcyZMNTTIRicDSHHiAVlk1EooiSaOBh3cg6ixY5j\n",
       "wP58bMJpQ5o6hu+7k3MQzQ2tcS6geX7AQMqO91rtNGDAWFeAqbEc4azD6KzHndxHW5WkDaC0oYXj\n",
       "lm2gqM7Nq9efsF9gAAS4LW2FTHmXFIoEINpAO0e/qRgdNoTTFtKb4+9eU10BJntFGzuNuWYnKfu+\n",
       "RDhqcWZPwNhch6l2N25TCqKpij6GRsZNzue5Jx7kkOFaG26X9luYac4cE9Z8okUdK1AoIiTWSN5I\n",
       "gvHa32torEKarW1WN9aCrxGOetypuQhHHcJpx9RQTEl1AwycRtK0U3AOmAaApWQtqe09Se3OLrWf\n",
       "z6h+6WuklDOjfV+1XVIoIkCPowKu9DzsYbqI29+btvH5DnYaWpxgSmqzBSstr+TUO24ke1ALL711\n",
       "O17bsnPAtFbB8SXQfN7bUBzWPIOhREahCJOuPosE/u00mCxtzMalFdWceuFNFFXUcOfjNyPEfveV\n",
       "v5WMP9GRUvLMN7t5/ru9Mc9Z2WQUijBIBIEB/3Yal7UvMqkvwmnTVjB/uoGisiqefeZpZs6Z2/qs\n",
       "pWQtWeueRDTbcKUNQjTbyFr3JJaStW3GaHa5uef9X3j+u70cMzH2FNtKZBSKECSKwIC2fWoYMR9p\n",
       "SsFgL0eaUqgfdxq28achTSlcdccjFJVX8+yzy5h+xIltnk3dsZIWa5YWH+M5hd1izSJ1x8rWe+od\n",
       "LVz7+gY+2lzKH+cO5+pfx14qTW2XFIogJJLAeAlk07Gn53HzPyZTXFjA9FlzOlw3NhTjShvUpk1a\n",
       "MjHWFwJQVtfE0jc2srfKzjXHjOXXOqxiQK1kFIqAJKLA+KOstIT7774Nl8tF3qDBzPAjMACu1IEI\n",
       "Z22bNuGsxZU6kB1l9Vz00lrK6pq4Z+Fk3QQG1EpGofBLVwiMP9c2ENS9XFZawpkLj6O4sJCTTvkt\n",
       "ow8IXB6oYdQCsr9/EFm3ByENSOFGCDMfDr6E619eR6rFxMOL8xmZm6bre6mVjELRjq4SmPaHIdN+\n",
       "fpX0La8GPCDpKzDLlr8eVGAAXKn9cWaPAWFBtDSCsPBayzyu+szOgEwrj50+TXeBAbWSUSja0FVb\n",
       "pPapMqUlHWNTJRKQlvGtbS7PvbvthjYC4+tFCjaGM3cCjkGzkRL+/bORf201MSvXxY2L8klNio8c\n",
       "KJFRKDx0pQ3G0FiBOyW3bWOLE4Noe0RbmlMx2MvZU76DmurqsAXGd4xmN9zzo4n/7jVy/NAWrhtb\n",
       "RFOcBAaUyCgUQNcbecMJsgNwNtRgScnhwEkH8/n3G0hJbRf9G2KMBruda9dm832ZgXPHt3D2yBow\n",
       "63cY0h9KZBS9nkACE6+E3/76dfSbqtlfHJUYXM24jWakMCMtGdopbXMqZcWFnHbZPZx1wcWcNurY\n",
       "iAQGYF/KBK77+Bd2NghunO7k+Lw6rfzJoINifqdgKMOvolcTTGDikfA7YL8NpUgBAi2kXwDupAzs\n",
       "Qw9FmlIo37edUy7/GwUVdYyYdGDE4+4or+dPbxdR6EjmgYMcnJBbgjSl0DBiflwqJfiiVjKKXkuw\n",
       "LZI/Q6zX6Bru4cZI+k3dsRJnzjiac8a33iucNkwNJexOm8aZ191AcXkNy5a/EbYNxssPu6u45Z3N\n",
       "pFiMPLxkGqNy06iP+g0iR61kFL2SUDaYcLPSRUqgfo0NxX7bm6qLIvYi+fL+xhKWvrGRARlWHj99\n",
       "OqPi4KIOhVrJKHod4Rh5A2WlizVjXKB+XakD/bZbs/NY/Ls/MiV/ekQCI6XkuW/38Oy3e5gxNIub\n",
       "T5xIWhw9SMFQKxlFryJcL1IkGewiIVC/DaMWtGkvK9rHxg2bcPSbylkXXByRwLS43Pztg608++0e\n",
       "fj2xP3ctnNxlAgNqJaPoRUTipvaedk4qW4/BXq65f/MOitlIGqxfb4a68n3bWXjlozQ4XXx6/F9I\n",
       "iqD/BkcLt7yzmTV7qvn9nGH8Ye6wNvlkugIlMoruQW0hFP4I9gpIyYFB0yFzUOjnPEQTB2NsKCWp\n",
       "5MfWBE8tqQPCEplQiaECnaJ2peex227gjKXXU1JRy7Llr5PSXEVSYXhu9HKbg+ve2MDuSjtXzz+A\n",
       "YycPjOh944XaLikSn9pC+GUltNghrZ/2+5eVWnsYRCMw4SZ40us50M4inXHyAkqKili2/HVmTxwe\n",
       "tht9Z3k9F7+4lqKaJu46eVLCCAwokVF0Bwp/BGsGJGWAMGi/rRlaewiijeQNJ8GTns8B/POxh1oF\n",
       "ZuacuWEXd/txTzWXLV+HG8nDi/M5cHifiN83niiRUSQ+9gqwtHO9WtK09iDEclTA2FCMtGS2aZOW\n",
       "TIwNwRNrR/scwNU33sZrKz9pNfKG40b/cHMp17y+gdz0JB5fMo3R/TrfRR0KJTKKxCclB5ztwsec\n",
       "9Vp7AGI9ixQswZOez5WVlnDRWWdSUV6OxWJh7ISJrde87u42fXnc6FJKnv9uD/e89zNTBmfyyOJp\n",
       "9MuwRvKKnYYSGUXiM2g6NNWBow6kW/vdVKe1+0GPw44NoxZgaqppUwjN1FRDw6gFuj3ntcF8+enH\n",
       "7Nuzq8P1gO7unCnc/+FWlq3azdET+nPPwsmkWRPXh9OlIiOE+LMQYpsQYpcQ4iJP22VCiL1CiF+E\n",
       "EMd25fwUCULmIBi7QKvxXF+m/R67wK93Sa/T1M4B06jJPx9pTsdYX4g0p1OTf77f8iHRPNfeyDtt\n",
       "5qwOfflLGl4+6Ciu/biSlRtL+N2coVx7zFjMxsReK3SZ/AkhhgOXAhMBK7BTCPE5cJGnbQjwsRBi\n",
       "mJSyuYumqUgUMgeFdFlHKjAhXc2p/XEMmN7qPnal9g/r2UAF1LxUb/iI3//+HEor6njtpkVMHp6M\n",
       "M0CfvmOWNwqu+KqAnVUOrpp/AAsSyIMUjK6UQK9wuNHEzgYsAF6RUtqklJuB3cAM/48rFPuJRmCC\n",
       "uZqDncKOxU1tKVlL5qYXSE0y8urNSzhoTBZZ654kZdPLHfv8/iEy1v8b0WJnW0s/zvnCQlFNI/cc\n",
       "k9dtBAa6UGSklIXALcB3wMfA6cBgYI/PbQVAhz9NIcR5QogfhBA/lJeXd8JsFYlMNFukUK7mYO7j\n",
       "aN3UVZUVJG19l5wBA/nkwfOZM2l467OZm57t0CeyGXPNNr6vyeD8L5NwYeCJubUcmrQ96j+rSEm3\n",
       "mmPuo8tERgiRgSYslwEPAFcBFmiTDMwNuNo/K6V8Sko5U0o5Mzc3t/1lRS8iWhtMKFdzMPdxNG7q\n",
       "stISFp0wnysffQNpyWwT6i8tmRjtlR36FAjerRzE5avM9EuW/OtwJwfkWGM+CR4u6VYzuemRHGrw\n",
       "T1dul84EfpJSfi6lXOZpKwF8N96DgX2dPjNFtyAWI28oV3Mw93E0bmqvkXfJ/Fn+n03p26ZdSnii\n",
       "Kp9rK45hao7kyUObGZCiz0nwcNBLYKBrRaYJyBdCmIUQ6cABaNumxUKIFCHEBKAPsK4L56hIUGL1\n",
       "IoVyNQc7hR2Nm9rrRZp8wvl+n62d+IfW9uYWN7dvzePRylkc17eUhw+sIt2s30nwUOgpMNC1IvMC\n",
       "2splJ7AGeF5KucrTvglYAZwrpZRdN0VFIqKHmzqUq9mf+9ibqjJcN7WUkvN+t6jNUYFAz9onLqIm\n",
       "/3zqDVlcsWk4b1QM4fcTLVy98GBMlo5ziBd6CwyA6O7f4ZkzZ8offvihq6eh6CS6uqpApPzw3TcA\n",
       "YeWDqax3sPSNjewsr+fyo8Zw/JT45t5tTyCBEUKskVLOjLbfxA0TVCja0V0Epqy0hK8//5SFi04P\n",
       "O9nU7soGrl2xgbqmZu48eRKzR/SN8yzbEo8VjBclMorgxJjHJWwK1sDmt6CuGDIGwoSTYPD+EKn6\n",
       "sj007FxNWoTlSaw7PyJjy0sYG0pxpfanbvwSmkYeHdaUgpVECXStrLSEM48/nNLSUk6xLSN34JCQ\n",
       "Y67bV8ONb20kyWTkoUX5HNA/PeC98SCeAgPq7JIiGDHmcQmbgjXwzaPgtEHWYO33N49q7WgC07Th\n",
       "nYjLk1h3fkSf1fdBsw1XWh402+iz+j6sOz8KOaVgwXiBrlXuWMeZxx9OSXExr10yndy84SHH/GRL\n",
       "KX957SdyUpN47PRpPU5gQImMIhgx5HGJiM1vQUo2pPQFg1H7nZINm9/C1tRM/c7VYeVVaU/Glpdo\n",
       "sWaA1dOvtS8t1gwytrwUckrBgvH8XSuyuViyaBElJSWsuGwmB08eE3RMKSUv/m8vd678mUmDMnhk\n",
       "ST4DOvkUdWcIDCiRUQQjyjwuEVNXDNastm3WLJw1hZTbHFGXJzE2lIKlXb+WLK09BMHG9HftszVb\n",
       "KSmv5M0/TeLgiSODjulySx78eBv/+noXvxrXj3sWTtElsjYSOktgQNlkFMHw5nFJytjfFiKPS1Rk\n",
       "DISmGm0F48FRX4Xd0g+IvjyJK7U/OGu0lUzr/GvaHDoMRKgxvdeklAghWPzrWRw+eyqjKj4OOmaj\n",
       "08Vt727mf7uqWDJrCGfPG4GhkxN9d6bAgFrJKIIRYR6XqJlwEtirwV4JbheOunKabZVhBcYFo278\n",
       "EkxNddCk9UtTJaamOurGLwk5pWBjeq+VFe3j2D9ew+of1mB02MiacHjQMSvrHVz+8jq+313FFUeN\n",
       "4dxDRvZ4gQG1klEEw5vHpfBHLY9LSg6Mnae/d2nwDJh7CWx+C2fVXuyWfjTkn9ohMC7S8iRNI4+m\n",
       "Cs02Y6wvwpXan6op54XlXQo15q7UfJactYjiskrchqTWIDlXep7fMX/OnMvSl9ZS29jMHb+ZxJyR\n",
       "neuihq4RGFDBeIoEojvFwXiPCjy9fAUHzjk46P3r99Vw41ubMBsFdy+c3OkeJIhNYFQwnqJH0F0E\n",
       "pqqyIiKB+WRLKfd+8At5mcncvXAyAzI7Pw9vV61gvCiRUcROiEC6UNiamqnd9h3ZQbLURUuwgLpo\n",
       "yMjMYsasOZx24jEckluHYePzfvuVUrL8+33886tdTB2cyW0nTQzpQdJ7rtD1AgPK8KuIlRCBdKHw\n",
       "Cky0meaCESygLlLKSksoKy3BZDLxt9tv4IicqoD9utyShz7Zxj+/2sURY3P56ymhXdR6ztVLIggM\n",
       "KJFRxEqQQLpQeLdIsRREC0a4xdFC4bXBnPe7RUgpg/bb6HRx41sbeWd9MYsPHML1x43HYgr9NdNr\n",
       "rl4SRWBAbZcUsVJXrK1gfLFmQU1B0Md8bTDGhmJcaW09VtKSibE+tuMLhsYK3CltMydKcyoGe/gp\n",
       "W9vngxFCBOy3qrqSK75dx/Yy7RT1iVPD3+roMVcviSQwoFYyiljxBtL50lSjtQegvZE32kJqoQiW\n",
       "3S4c2guM90S1v353VzVx9uo89lbauf2kSREJjB5z9ZJoAgNKZBSx0i6QDnul9nnCSX5v9+dFiraQ\n",
       "WiiiDeLzcsu1V3YQGH/9ritu5NxVGTRJMw8uyuegUZHHwMQ6V0hMgQEVJ6PQgzC9S8Hc1KFqIEVL\n",
       "LB6bivJy9u3Z5bfwmrffj3fauXVjXwZmWLj71GkMzEzukrnGU2BijZNRIqPoFLpLHExZaQn/evxh\n",
       "rr7xNszmwB4hKSUvf7+Pp77axeRBmdx+0kQykjv3kKOXeK9gVDCeIuHpSoGJZHXga4M5ZfGZTBiS\n",
       "7fdZl1vy6KfbeXt9EUeMzeWaY8a18SCFGlPPeJhE3SL5omwyirjS1QITbuxJeyPvhCHZfp91VhVw\n",
       "41sbeXt9kV8Xdagx9YyH6Q4CA0pkFHGkq7dI4cae+PMi+Xu2jAyueGMrq3dVcemRoznv0I6nqEON\n",
       "qVc8THcRGFAio4gTXS0wEDzxlC8lRYU01Ne38SK1f3aPTXDOqmx22QS3nTSR30zzfxI91JjRJuDy\n",
       "pTsJDCibjCIOJILAQOjEU412O8kpKUyZNoPPVv9EktXq99l1FYK/fGvGKCR/n+dk+KjAsSuhxow2\n",
       "AZeX7iYwoFYyCp1JFIGB4LEnZaUlnHjUPJY99XeANgLj++wnux1c+rWZLIuLZQcWMmrs5KjHDOd6\n",
       "MLqjwIASGYWOJJLAQOAqkMV2Q6sNZvKUfL/PtqQN5N91B3L9jxmMz3Dwz8OcZE88MqQXKFjlyXCu\n",
       "B6K7Cgyo7VLXEu+aRqH612v82kIad39PY1UxKVG6ZGNx+wa75krPw+7Tj6+R99llTzEvt7ZDugaX\n",
       "W/L4Z9t5c10Fhx+Qy7XHjsNsMuCK/E/GL+3nFIruLDCgVjJdR7xrGoXqX6/xawtp3PQOdbbaqF2y\n",
       "sbh9I3EJO5qaOHPhca0Cc3jfjukamqsLuPntTby5rojfzhzMDceHd4o63HeJlO4uMKBWMl2Hb00j\n",
       "2P+78Ed9VjOh+tdp/Mbd31PnTm41ZEpLOi40V224/1q3cev66SPYdSDos23GsVo564KLGT1mLPNy\n",
       "a3G1tH2u3CG48o2t/Fxj5NIjRwf0IMXyLpHQEwQG1Eqm64h3TaNQ/eswvq2pGVtVccwu2VjcvuG4\n",
       "hMtKS1oL3y/+3R+ZOWeuXxf12auy2VEruPXEwC7qWN8lXHqKwIASma7DW9PIFz1rGoXqP8bxvUZe\n",
       "PVIUhOoj2PVQz5aVlnDmwuO48KwzabTb/Y65vlJw7hdmGlvg74c4OXh09H8Hevx59CSBASUyXUe8\n",
       "axqF6j+G8X29SHqkKIjF7RvKTX3mwuMoLizk70+/QHJKSocxP93t4JKvzGSZNRf16BAu6ljfJRQ9\n",
       "TWBAncLuWrqhd8mfm1qPA396e5eK7YZWgWmfDwa0U9QrvtnM37+rYGpWE/fOdWMdHHvi7lj+PBJV\n",
       "YFSqh+4sMt2MRIuDCcZ9d93Ks0/9w6/A7HdRF3HYAbksPXZcRB6keJCoAgNKZJTIdBLdSWAAXC4X\n",
       "O7dvY8zYcW3am5pd3PnfLazaUclpMwZz/mGdXyq2PYksMNBJ+WSEEP2llKXt2mZIKcOrexG430zg\n",
       "SeAQoAkYD/wJuBJoBC6XUr4Xyxi9Gj22SzoE2oVDLNslb1a98oIdXPrsj9x+11/pm//rDgJTbXdy\n",
       "/Rsb+aXExsVHjGbh9OBbw2gDACN5l6TM/mSOmg0EmEuMNa0SgXDXiKuEEK0WMSHEKcA7Ooz/KLAR\n",
       "GAxMBIYAF3n++2Tg30KIrkk31t3RIxhPh0C7cIglGM9SspasdU9SWlbC8fd8wtcb9lD31VMdajbt\n",
       "q7Jz8Ytr2VXRwG0nTQxLYKIJAIzkXZKyBpJpag4cBBljTatEIdxgvLOA14UQfwYmA2cCR8QysBBi\n",
       "ADAX+D+p7dmahBAnA69IKW3AZiHEbmAG8F0sY/VKdAjG0yPQLhxiCcZLKvmRgkYzJ972DkWVNl69\n",
       "9QxmjExD7ljZmiN4Y2EtN7y5EYMQPPDbqYwfmBHTnCBwAGCwa77vYk3LJjPZDHi2Sf6CIH1rWsH+\n",
       "35vf6larmbBERkr5pRDiMOBVoByYJaWsD/FYKCYCu4AVQogJaCsjM9rKxksB0KEuhhDiPOA8gKFD\n",
       "h8Y4jR6KvUJbofhiSYP6srCAshVFAAAgAElEQVSu25qaaawqRupUCygYoWoOBbteXrCDE+/5RBOY\n",
       "W05nzoShSLertWbTl1vLuXPlFvpnWLl74WQGZYWX6DvUnKK9Zmis0FYwvvmAff9efImyplWiEVBk\n",
       "hBDNQHursMHTVi2EkFJKSwxj9wMmALOBauBjYADwk889buh4Lk1K+RTwFGiG3xjm0HPxBtsl+fyr\n",
       "7S8Yz891r5E3JcbcJ+ESSw4WQ8ZA+qQl8fAlJzBngvYPjnDW0pIykFfXFPDE5zsYPzCDO38zicyU\n",
       "8HfeoeYU7bWkzP5kGh20rmAgcBCkt6ZVik+JlRA1rRKRgDYZKaVZSmlp92PytJtjFBiAMmCNlLJA\n",
       "StkAfAQ8Q1sL2GBgX4zj9E6iDMarz5mia6BdOEQTjFdVUkRd5nis007lo+uO4KCRaa01m0RjLXfV\n",
       "HMk/Pt/BIWNyuP+0KREJTKg5RXst3WrWjLzhBkFGWNMqUQnbhS2EmAMMA4zeNinli1EPLEQqsB44\n",
       "FKgEPgNWAGcDM4HhwGvARBlkksqFHYQIvUv1OVMoE20Lk+mZWT8YkXhkihuMLLzsHibmz+ShJ55u\n",
       "U7Op3jqIa0sO5ct9LZw6YxAXHDYqahe1nt6llNxh+93UkQRBJoB3qVPiZIQQL6J98VcDzZ5mKaU8\n",
       "K9qBPf0eC9yHtnZ8Rkp5hxDiOuBcNJf2OVLKVcH6UCKjD90lDiZQ6ViAGruTG97cyJZiGxcdMYqF\n",
       "0wcH6anzSPQ4mFB0lsgUAKOllE3RDhQvlMjETk8QmIJqO9e+voGKeifXLxjPIWP0tRtFS3cXGOi8\n",
       "4m6fA3nAzmgHUiQm3UVgpJRc+Mcz/ArMpqJarn9jI0IIHjhtKhPyQruoO4OeIDB6EK7IDAbWCyF+\n",
       "BFr/HymlnB+XWcWbeB9M7CbUl+2hYedq0oLYW/SqUW3d+REZW17C2FCKK7U/deOX0DTy6NbroWwy\n",
       "pvpi7r5oIc66eRyYW4vDVoQrPY8vt5Vz138309/cyD+GfMagXZ/RYNg/x1hsSolam7q7Ee526TB/\n",
       "7VLKL3SfUYREvF3yRrpaM7T4BGe9Zt0fu6BXCU192R6aNryjBY6ZUxHNDRgdtjZJrb3RtC3WLKQl\n",
       "E+GsxdRUQ03++REJjXXnR/RZfR8t1gywZIGzBlNTHVWzrqJp5NGtUbD+5lJsN/DJm//h/IP6drj+\n",
       "TP2BPP5tBVOSK3hwzHqyU5PbzNGV2j9gv6HEIticenLSb3/Eul0K61iBR0xWAVuBbT4/3Q/fSFdh\n",
       "0H5bM7T2XoKtqZn6natDVjJM3bFSExhrHzAYkdY+tFizSN2xMqLxMra8pAmMtS8YjGDtS4s1g4wt\n",
       "LwGBqyrWbP6cM05ewF133c3eGmfr9RZzOn/bPoDHvq3giOwKnhy3huz0tA5zjKVaY7TP9jSB0YOw\n",
       "RMZznKASzSazGtiLJjrdj3invUxwvDaYcNJEGhuKkZbMtvdYMjE2FEc0prGhVFvB+GLJ0trxn7Ky\n",
       "pNbJqRfeRElREcvvuYi8wVqgXZMLrv+fiZd3JbN4aB33D/qMJGt6m2e9c4wlFWY0zyqB8U+4ByQv\n",
       "BUYC7wLTgHnAB/GaVFyJd9rLBMbXyBtOmkhX6kCEs7btPc5aXKmRRZy6UvuDs6Zto7NGa/czl9KK\n",
       "ak698CaKKmpYtvx1Dpw1B9HcQI0DLvnKzBdFBi6fUM/l002QFniOsaTCjPRZJTCBCVdknFLKSmAT\n",
       "kC+l/A44Jn7TiiPxTnuZoLT3IoUTzdswagGmphpEU1VrNK2pqYaGUQsiGrtu/BJMTXXQ5IlcbarE\n",
       "1FRH3fglfueyes2PlFTU8OwzTzNzzlwc/aZSVN3IOZ+Z2FojuGuGjTMHlePoNzXoHGOJWI7kWSUw\n",
       "wQnX8HsZ8D3alulToArYKaXs8vjmqOJkepl3KZCbOhzvSWd6l8wlazE5qnAn51BsGkLmsEkAbC6q\n",
       "4/o3fgJ3C/fnlzIpL8NvPhl/c4y3d6k3CEynZ8YTQvRFC/nf6knJ0KWoYLzgdJc4mLLSEs5ecgrX\n",
       "3HQ78w4/srX9q20V3LlyCzlpFu5ZOJnB2SlBeulceoPAQCcE4wkhZqElk1olpSyRUlYKIWYAa4AD\n",
       "oh1YEX+6k8B4I3mtPoXvX/+xkMc/2864genc+ZtJZKXEeiZXP3qLwOhBUJERQtwOLAR+AO4RQpwJ\n",
       "XIiWouH0+E9PES16CUw4W4ZY7mkVmMICXrthIQfXvUjz159xb+2RvPyzk4NH9+X6BeNJbSolaYe+\n",
       "BzVjqirgroDNAbbcvWw7HopQht8z0RJU/QE4EngfLfXCbCml2qMkKHoKTKi6zrHcY9u3uVVg3vjz\n",
       "PA4ak0VD8hCu+WU0L//s5NSxFm45YSKpTaW61pcOd97+aBWYQKlL413jvBsSarvU7Mn1gpRynxCi\n",
       "FrhJSumO/9QU0aDnFimcus6x3JPbtIt5h/+KxSNszBqTRZWxH1dsOYD1tnSuHLyFM7IqqTEcpGt9\n",
       "6UjerT2tW6TNQVKXQnxrnHdDQonMICHEhz6fc4D3hSc/R7c9u9RD0dsGEyoFZbT3lFZU43Q6GZZp\n",
       "5+a7/kbOhxez292PizdNoMSRxL1jt3F0n2qM9cVhjxGPd/OljQ0mVGrTYNd6IaFEJrKACEWXEQ8j\n",
       "b6gUlNHcU1pRzSkX3oTZaODj5+4DYJ17DJdtGI8bA09O2kJ+Rj2iaX/QXzhjxOPdvHQw8oZKbRrs\n",
       "Wi8kqE1GSvlFsJ/OmqQiOPHyIoUTkBbJPWVF+zjlwpsoLqvk3ktOoWXgNFZtr+Dcn/NJFU6eG/sN\n",
       "+Wm1HYL+4pEGNNw+/XqRggV09tJgz2CoCpLdnHi7qfXyLlXuWMeSRYsoLqvkPw9ex7T5i3ltu+Sx\n",
       "T7czdkA6fztYMrjw/YBBf/FIAxqqz6Bu6mAepB7mXVJlanuxyHSXOBiAyy84i0/eX8nTy1cwY/Zc\n",
       "nvxiJ6+uKeDgUX25/rjxWM3G0J10IioOZj+dKjJCiHS0ALxtUsq6aAfVk94qMt1JYABqa6rZvXMH\n",
       "46dM5+73fuaLreWclJ/HxUeMxmjo2lrU7VEC05a45pMRQhwnhFgnhPi3J/J3I/AAsFEIoYzCXUR3\n",
       "EZiy0hJuvubPOJqayMzKZvj4qVz16nq+2FrOBYeN5NIjlcD0BkJ5l+4HzkFL8/AOcISUcrMQYiiw\n",
       "0vOj6ES6k8B4jwosOvP/yBoyhmtf30BpXRM3HT+ew8f2C91JJ6MEJj6EEhmTlPJr4GshxO1Sys0A\n",
       "Usq9Qgj1t9GeSA1+EdbU8RUYvQyyoQjnFHb7cfYxkDN+d1Zr0m9D7nAueeF/uJsdLMtZQf72FurM\n",
       "keX4jZZw++1UgelhhuFQhDpWkCWEuM5TCynZ+99CiOuBrBDP9i4iDScvWAPfPApOm1bv2GnTPhes\n",
       "8Xt7e4HRI9w/FN4cv6LZhittEKLZRta6J7GUrA04TllJEaf/9hRKigpZtvx1HDkHcMXyH0lpqeWF\n",
       "Qa+R31dCs40+q+/DuvMj3ebqj3D77XSB6WXHDkKJzKOA2fPzuM9/m4DH4ju1bkakuYM3vwUp2Vqd\n",
       "Y4NR+52SrbW3o/0WKZz8s7Hkt/USTo7f9uNU2t04Wty8+MC1FFqHcfPbmxhjruQ/g1cwIsMYUY7f\n",
       "SObqj3D67fQtUi/MMR10uySlvLWzJtLtCRVq3p66Ym0F44s1C2oK2jT5s8HoFe4fCmNDMa60tst4\n",
       "acnEWL//X13vOPUNjaSmWBk/ehhfvvwI/9oEL3yynYNG9uUxx4MktZsLliyM9UW6zdUfofrtEhtM\n",
       "pP8/6QGETL8phJgrhPhcCGETQlQLId4VQuR3xuS6FZHmDs4YCE3t8t421WjtHgIZecPJPxtLflsv\n",
       "4eT4dSfnUFZcyDF//AsPP7MChwvuWJvEC7szOGlqHredNJGk9D4R5fiNZq7+CNZvlxl5e2GO6VAu\n",
       "7DnA08BdQH9gqOfzy0po2hFpOPmEk8BeDXZP3lt7pfZ5gpbRNJgXSa9w/1CEk+N3HwM55dK7KC6r\n",
       "ZMrkSVz2lYGPi5I4f1ZfLv2V5qKONMevHscGgvVrHjKz67xIvfDYQdBgPM8J7JullN+2az8MuEZK\n",
       "2eWxMgkVjKeTdykcN3UieJf2u6kLefSvN/Fs9ViKGk1cd8RADssf26afWCtIRkv7fs1DZtJ30IiY\n",
       "+42JbuZdimvErxBin5RySKTXOpOEEhkd6C5xME6nkxN/dTCF+/Zx2z9f44XtBlrckttPmsiUwYnp\n",
       "eFRxMNER7xy/jUGu2aMdVOGf7iIwABaLhQsvv5qa5Dz+uVmSlWLkgYWTGNY3NfTDXYASmK4jlMgM\n",
       "E0Js9dMu0JKLK3SiuwhMWWkJ237ewsGHHQGj5/HcJ9sY3S+Nu06eTJ/UxEn07YsSmK4llMioagSd\n",
       "QFcJTKQ1lbw2mOqqKv74+PusWFfKnJF9uPG4CSRbYjtFHYtNJth7RJ2uIRS9KNVDrIRKWrUn2E9n\n",
       "TbIn05UCEyqa15dWI29JGYcsfY4V60o5YepAbj9pki4CE23Eb7D3CCkw0UbeBnu2F0b0hiJUSZRt\n",
       "gD/LsACklFKtdGKgK7dIbaJ5QYvm9bS3X814Baa0spZZS19kfYXk3ENGsPjAIXjzPcdCLInCA71H\n",
       "9t73SZ18SOAHfSNvIbKE38GeBZVIvB2htktfAocCHwLLgNhCMBWtdLUNJpxoXi+v/Oc5ymzNTLjs\n",
       "aQoa4PoF4/nVeP1OUccS8evvPcypfUi1Fwd/MJbIW5VIPCJCbZfOBmYC29CC8O4EBuu1XRJCWIQQ\n",
       "m4UQ//J8vkwIsVcI8YsQ4thY+09UulpgILxoXi9Hn34BI87/O3a3iXtPmaKrwEBsEb/t38NiMpDq\n",
       "trWJnPZLLJG3wZ7thRG9oQh5rEBKWSulfEhKOQVtNXOZEGK1EOJCHca/DtgNIIQYBVwETAROBv4t\n",
       "hDDrMEZCkQgCA6GjectKS/jDaSfx9jebuOLl9SQnmXl0ST5Th+gfAxNLxK/ve1iMkOqqbRM5HZBY\n",
       "Im9VIvGICCky7aj2/GQAIf6pCI4QYjxwIPCKp+lk4BUppc2Tt2Y3EDi5SjckUQQGwDlgGjX55yPN\n",
       "6RjrC5HmdGryz8c5YFqrDWazPY2Hv61gSJ8UHlsyLW4xMK70PBpGzEeaUjDYy5GmFBpGzA/Lu+R9\n",
       "D3NKprZFsqTD3EuC5uUBNPvI2AVgStG2MqYU7XM4dpNgz8bSbw8lZI5fIUQKWt3r84EG4AlghZSy\n",
       "OepBNWvhh8CfgHmenwZgo5Tyn557XgFeklK+4ef584DzAIYOHTpjz57Ed3QlksAEo6y0hNNPPo76\n",
       "YYeQMvNkZo/ow03Hx+6ijicqDia+xDXiVwjxOPBrtBrYf/BmxtOBC4DPpZTbhRDzPG0WwLf8rRtw\n",
       "+XtYSvkU8BRoxwp0mlPc6C4CU15ayumnnIB90kJSxs7j+CkDuexXYxIuD68vSmASn1DepT+hfdHP\n",
       "B87zcVd6XdjRhnj+DkgXQpwG9AFSgUcA3zXlYGBflP1Hj86BVPESmHgcfqzIPhTzkZdhzRzCOfNG\n",
       "sGTWEEz1xbocXIw08C8cwhIYFRjX5YTyLhmklGbPj8XnxxyDwCClnCulnCylzAduAt4A3gUWCyFS\n",
       "hBAT0MRnXbRjRIXOgVTxFBg9U2sWt2Sys6qRpZ9W48oewvULxnH67KGY6ot1SYsZaeBfOIQtMCow\n",
       "rssJlU/miWiuRYOUcg3wArAJWAGcKzu78pyOqRHjuUXSM7Vmsd3Mcfd/zaINsyltSeHvYzfwq/H9\n",
       "dRvHd6xgaTwjIewtUi9MdZmIhPIunSeEcAohmn1+nEKIZuBcPSYgpXxGSnmO57/vklKOkFKOl1Ku\n",
       "0qP/iLBXaIFTvljStPYIiLcNxtBYgTS39fRIcyqGxvDnaWwoprjeyAl/X0/zUUvJSDbyzKSNzDH9\n",
       "rOs43rGkJbNtP5ZMjA0hAub8EJENRqe/T0VshBKZZT7bI99tkxl4phPm17noEEjVGUZePdJVFjrS\n",
       "OeHZfTQfdjlDk5t4afovjDaVdEitqUdazEgC/4IRsZFXBcYlBOFE/EZ8rdsSYyBVZ3mRYk1X6Xa7\n",
       "OfUDKy1zzmaiuYiXZvxCf1naIbWmXmkxw0njGYqovEgqMC4hiDQYr2cTQyBVZ7qpYwlea3a5uef9\n",
       "X2gYcTizs2w8O3MPGY372gTj6TGOL8EC/8Ihaje1CoxLCEIG4yU6iZB+s7vEwezaV8h1r62j1J3G\n",
       "2fOGc/qsobqcoo4nKg6m64l3+k1FCLqLwGzeuY+Ln1mFTMvl/Dl9WTx7WFdPKSRKYHoGSmRCESSY\n",
       "K1aBiSVALZJgvP9t2c3SFT/htmZwwZQkFh86Kew+Ousev1UFcn2qCqhMdN0WZZMJRpBgLj0EJtoA\n",
       "tUiC8T5cu4Olb/2Cq6WZq+ZksviYeWH30Vn3tL+eIpz0Lfx4f9CcykTXrVEiE4wAwVyNu7+PeYsU\n",
       "S4BauEFyKzcU89dP99FSW8JNRwzg+CMPjqiPzrrH93pykoWMrD5tg+aCBdWpgLuER22XguEnA5od\n",
       "K/VVRRBj3bFIMtO1J1QmOSklT3+9k/+sLmDW8D5c8fvJ9M/tG1EfnXmP93qyxURmsieFkG82OZWJ\n",
       "rlujVjLBaBfMZXe2YKuriblGM8QWoBYsSK7Z5eaWN9bxn9UFTMl0csdvJnUQmFB9dPY97uQcUnDs\n",
       "FxhoGzSnMtF1a5TIBMMnmMvucGKrrdKlRjPEFqAWKEiuInMSf16+hq921dHw7XLOmJiCyej/r1iv\n",
       "etp63GMeMpMMYQ8cNKcy0XVrVJxMKGoLadz9PbaqYl1rNIO+3qV9KRO44r9FFFTbqfv4CZ649Qpm\n",
       "zpkbUR9d4V1qdVOH8hAp71KXoeJk4owtqR/leUfFbIPxh3PAtKhzqrjS81rLhWwvq+faFeupqrVR\n",
       "8+7feOq+25k5Z64uOVx8x4nlHn/02DgYJXptUNulIHSHQLvvd1dx2fJ1GA0GDnFvaCMwwVzkeuSk\n",
       "CRd/Y/Up/IRct+c0dCg3dHdyYSfafBIAtZIJQHcQmJUbinngo60MSjdx3+Lp5KYf1HotVPG2WAqq\n",
       "RUr7saxp2aQbrPsLnoUqtNadiqnFUjSuh6JWMn5IdIGRUrJs1S7u+3Ar7uItFDx3JdnJbRN9h8rh\n",
       "oleumHDwHavVTe2b1yVU3pdg1xMtZ0yizScBUCuZdiS6wDS73Nz/4VY+3FyK2PUdZSsfYdmLr2Iy\n",
       "tf2r9LrIvSsZaOsi97qVvasLiC5XTDh4x7KmZe93U/tzUXv/1Y/0erBrnU2oufZC1ErGh0QXmHpH\n",
       "C0tf36AJzKb3KHv3QZa9+KpfL1IoF7leuWLCwdFvKinSTqahMXIXdajriebCTrT5JADKhe0h0QWm\n",
       "rK6JpW9sZG+VnaHl37L6xQdZtvz1oG7qUN4lPSoehEO61awZeaN1UYe6nmjenESbT4woF7YOBBOY\n",
       "SL6Ige6NtB3aCsRmRnPx9uk0ugzcs3Ay4/pOZ+ei+UyeGtwd7Urtj2PA9Nb+Xan9216P0vUcCfvd\n",
       "1INi+6Jlxvh8Z9Kd5toJ9PrtUiiBCdfNG+heS8naiNqNtqI27uevWyZw9qbJ4Khn5C//YVxfM6lp\n",
       "aSEFpjNd1IEIOw4mFrevchknPL1aZEJtkSIpCRLo3tQdKyNqTypb3+p+frP2AC79eTz9zI3UvrqU\n",
       "z95+mR3bt4b1bnqVM4mWiALtYjlJrU5hJzy9VmTCscFE4uYNdK+xoTiidkNjBYb6Yv5ROolbto9i\n",
       "cko1Bc9dRXHBPl676ldMyQ/PgNiZLur2RBzJG4vbV7mME55eKTLhGnkjKQkS6F5X6sCI2h1JOdxQ\n",
       "cihPFgzh6MwiNj51NcUlZbyy9Hhmz8gP9xV1K2cSKVEdFYjlJLU6hZ3w9DqRicSLFImbN9C9DaMW\n",
       "hN3e2FDPFWtyeKeiPxfmbuC85C+Q7hZeWXo8h45IiaiESGe6qL1EfRYpFrevchknPL3KhR2Nm7qz\n",
       "vEsl5HLF95nsrmnmwnmD+e3gGtJ2voesK0RkDIrqcGNnuahBh8OOsbh9e5jLONGI1YXda0QmkeNg\n",
       "dpTXs/T1DdidLi4/ZCB/vfA05i84gatvuLWrpxYWPfY0tQJQcTKh8eSDaawqJkWnf831XCH8sLuK\n",
       "W97ZTIrFyM1HD+a6sxZSUlTE4UfNj2mO0DnBeJ0mMN0pGE/Rhp5tk6ktpHHTO9TZanWLFdEz/uSD\n",
       "TSUsfWMjAzKs3OojME8vX8GBcw4O3UEQOiPVQ6cKTHdJ9aDoQI9eyTTu/p46d7Ku6Qz0SJEgpeT5\n",
       "7/bwzDd7mDE0ixsWjGXJgsN1ExiIf6qHTt0idadUD4oO9FiRsTU101hVjAyRST9SwsnOH4wWl5sH\n",
       "PtrG+5tK+PXE/vz56AMwGw1cfs31ZPfpo4vAQOhqCLG8R6fbYFS1gm5Nj9wueY288YgViaXPBkcL\n",
       "172xkfc3lfD7OcP4v/xMvvz4fQDmLzhBN4GB0NUQon2PLjHyqmoF3ZoeJzK+XqR4xIpE22e5zcHl\n",
       "L6/jx73VXD3/ABaMtnLmwuO46uLzqautiXo+gYhHqocu8yJ1p1QPig70KJFp76Z2pefRMGI+0pSC\n",
       "wV6ONKXQMGJ+TN6laPrcWV7PxS+upaimibsXTmZGP8EZJy+gpKiIfz7/MhmZWVHPJxDOAdOoyT8f\n",
       "aU7HWF+INKdTk39+q3cp0vfoUjd15iAYuwBMKdo2yJSiffaedg50TZEQdFmcjBDCCjwCHA4kAQ9J\n",
       "KR8UQlwGXAk0ApdLKd8L1o83TibaOBg9MvoH6+s7x3BufnsTVouRu0+eTIasbxWYZ5c9xbyh5rgF\n",
       "y+nlaldxML2bWONkunIlkwp8AIwFZgDXCiEOAy4CJgInA/8WQpgDd6ERi8BEW/Q+nL6++PwDrlnx\n",
       "E/0yrDy+ZBqj+6XxzuuvtgrM4X2r4paKQS9XuxIYRax0mchIKSullCukRgWwDzgUeEVKaZNSbgZ2\n",
       "owlQQNxSRh3JG0vR+2B9SWHkqfJJXF94EDPSa3h4UX7rF/WsCy5m5RffMW+oOa6pGPRI9aAERqEH\n",
       "CWGTEUJMAqxADrDH51IB0KE4tBDiPCHED0KIH0rLondHh8roH01fzW7BbdtH8Pe9Qzgup4x/DPkY\n",
       "e20Fp//mWLb+vAUhBEOGDY97KoZY+1cCo9CLLhcZIUQO8DzwR8ACuH0uuwFX+2eklE9JKWdKKWf2\n",
       "6Ru9qzKWovf++rI31nP5lgN4s6wf5w4u4I6hayhrTuOMkxewcf066mqqW++PdyqGWPpXAqPQky4N\n",
       "xhNCZAPvAtdJKb8XQhwL+LoFBqNtoyIiXINnw6gFZK17kha0FYxw1mJqqqFm3KKI+9oz8BiuXbmH\n",
       "bY4Mbs39glOSt1Ba4OKERzdRUlbZIem3o99UMtb/G3P1dgxOG25LOs3Zo6mbenakr+uXcPr3Z6hO\n",
       "Gj6rrcD05HNBPfndEoguW8kIITKAd4A7fDxI/wUWCyFShBATgD7Aukj6jcTgGcrNG25fuyoaOO/D\n",
       "JvY2Z/L4oI84LXUdZXVujn3gfxSXVfitKmBsKMVSvQ2kE2lKBunEUr0NY0NpJK8b+M8hRP/+DNV9\n",
       "Nz5Fbu3G/Z305HNBPfndEoyuXMlcCkwDHhJCPORpmw+8AGwCmoBzZIQ+9kjP5AQreh9OXz/urebm\n",
       "tzeRLJp54mAbB+QeTh2HQ5ODUSOK+duNJzPZT9mS1B0raU7Pa1t8ramq9WxRrITqv/3ZJnNaDsku\n",
       "M2x+CwZ7bO09ueRqT363BKPLREZKeQdwh59Ld3l+oiLWs0WR9PXR5lL+9sEvDM5O5pGJe+nXtw9l\n",
       "ldVYkyxkpKWy7L7rMNjLqffTd6izRbESqn/f6xaTgdQkE7izoKZg/wOhzgx1Z3ryuyUYXW741Rs9\n",
       "DaoB8/Zac3jhuz3c/d7PTBqUwSOLp9GvTzZlxYUs/NNNnLv0PqSUQcfV0+gcTf/e660CA9BUAxk+\n",
       "4/fkc0E9+d0SjB4nMnqeV/LXl2y0cecvA3h61W6OGt+PexZOIc1qYh8DOeWSOygpLefa40aRXLgK\n",
       "U11BwHFDnS2ylKwle9Wd5Hx4Mdmr7ow4QDBU/w2jFpDUUkuqqxbcLrBXgr0aJpy0v5OefC6oJ79b\n",
       "gtHjREbP80rt+6qXKVy6dSLv/lzHGbOHsvTYcVhMBspKS1h8xu8prqjj1RtOZu74QUhABLEmBTM6\n",
       "6xGJHMqonTR8FsmHXA6WdG2LZEmHuZfst8dAzz4X1JPfLcHo9jl+J+dPl2999GXcx6msd7D0jY3s\n",
       "LK/n8qPGcPyU/aL1h9NO4sfVq3jpviuZNXP/l1Q4bUhTCvZRx0Y0VvaqOxHNtg5GW2lOp/rg62N+\n",
       "FxUHo4gEleO3E9hd2cC1KzZQ19TMnSdPYvaIvm2u33bvgzT87zlmzmjrFYrW4BxPo7ASGEVn0+O2\n",
       "S3qzbl8Nl7y0lha35KFF+a0CU1ZawmMP3Ivb7WbYiJHMPHC2bgbneBmFlcAougK1kgnCJ1tK+ev7\n",
       "PzM41c3D0/bSv74GR8pUiu0Gzlx4HMWFhRx30smMGDUGR7+ppO76EBfaCkY0N2hF3PIOCth/oDQT\n",
       "4UQih4NvtHJSZn8yR82mbUB1GKioWEWMqJWMH6SUvPi/vdy58memZDbyz4Oq6d+3D6LFju2HVznz\n",
       "N7+muLCQZctfZ8SoMUDkBudgxt1QRttw8I1WTsoaSKapOfKIVhUVq9ABtZJph8steeSTbbzzUzHz\n",
       "B7dw4+QGzMlaxG9JXQun/eVxisuqWPby2x2OCrjS88KuWBCqmkCwSORw8EYrW9OyyUw2o+UFI7KI\n",
       "VhUVq9ABtZLxodHp4oY3N/LOT8UsmTWE2yYUYbbuT5fwy869VNTUs/yeizoITKTomWbCH4bGCqyp\n",
       "mR6B8WBJ07Y94WKv0J7xJdI+FL2eXr+S8dotqmqq+PPaPLbVGbjiqDGcMDUPdvyCaG7AIaxYzGYO\n",
       "nTWV71+5l9SMvthjHDA3EFUAAA9hSURBVNeVOhBjfREGl0PbhphScBuTdIv4TcrsT6bRQesKBiKP\n",
       "aPVGxXpXMNH0oej19OqVjNdusbvawVmr89hTL3hgagm/Galdd/SbSnlRAfN/dyUr3vsC4bSRaWyJ\n",
       "qdqBl8aBs7BUbQVHNRiTwVGNpWorjQNnxdx3utWsGXljjWhVUbEKHejVIpNUtp7v67M595ssnC7B\n",
       "Pw5t5qDBptYUlcV2A7+57mn2lVQwNNukS7UDLwbZQsPw+WDJxNBUBZZMGobPxyBbYuq31U2tR0Sr\n",
       "iopV6ECv3C55t0ifr/mJGwtmMSjFxQPzXOSlgpRaAF1ZaYnmpi4uZdnLbzNxztyYt0i+GBorcKUP\n",
       "pFk6MTjrcFsycKUPDDs9ZlgJp7wlQ2JBjz4SFeWe7xR63UrGaCsiZeeHPP+z5Np9c5iSWsPzoz5l\n",
       "sKEK0ALo6typrXEw/hJO6YOBpOL/IVxO3JYshMtJUvH/COevJKyEU4rgKPd8p9HrVjLGkvXcvW0A\n",
       "r+9JZv7ARu7qvxqTUSJrduI0mjE6bJiGH81Jpy5m9kEHx0lgNAwSWpCARCIxhnmMLKyEU4rgKPd8\n",
       "p9GjRCZUPt7GZhc3fSv4ujyZ3x3Qwp8mGqBmGKbi7zGWbaCk0kZB5gxGZQzioiuujvNs3TTmzcZc\n",
       "twfhqEUmZdCYNxtkh7zpHQgr4ZQiOCppVafRY0TG6ylyJaVr+XibG0jd9WGrobaqwcl1b2xge7mV\n",
       "v0yqZ+EBZgyNVZhrd9GSmss+2Z8Tb3kVp/NFPv5sJsa+w+M6X3dyDqLFjmNAx1PbofCebTKn5QRO\n",
       "OKUIjnLPdxo9xiYTrJjZ3ko7F7+4lr2Vdu78dR6/HViOcNow1+xECkFZVT0n3vwqReU1PHrjBaTX\n",
       "bIn7fGNJrhVWwilFcJR7vtPoMSuZQPl41xXUcfX7azEZBA8uymfsgHQabGkkla3HWF9EoTODE+/8\n",
       "gKKKGl586AZmTR0bVXqGSPGedUoqW4/BXo47OYeGvIPCco8nDZ9FcnaKZoOpKdBWMPlnKntMJHjd\n",
       "84U/aluklBwYO0/ZY+JAjxEZbz5eb2UBgI/3NHPrun4MyDRzzymTGZiZDLQ9Y3TvvU+0Cszs/PEI\n",
       "p023AmuhiOSsk5fWOJj0GUpUYqUnu+cTiB4jMr6pFtymVP7zi5vHtmQweYCV2xdOI8P3DI/PM7ef\n",
       "ezxnnnAYEyeMbd2yBEvP0Fn4M2Kn5A6LLB+MigNRJAA9xibj3X60GFO4f00Lj21J5ciRafxt0YEd\n",
       "BKastITLLziLKlcyrrHHMXH8+JjzAeuJv6JyfQo/IdcdwcFEFQeiSBB6zEoGoN7anzs2DOHbfZUs\n",
       "PnAI5xwyAoMQbe4pKy3hjJMXUFJUxB/Pu5DM6TMj3rLEm/ZF5axp2aQbrJGnaXC5oOxnzaiZlAGp\n",
       "/VUciKLT6TEiU9Xg5Po3N7Kt1MalR47mN9M6fpF8BWbZ8teZOj3q3Mi6ECiux9eInWwxaekapDGy\n",
       "GI7KbVC9B5JSwZoJLU1QvkVb0SgUnUiPEJm9VXaWvr6BqgYnt544kYNHdzTcthcYbyRvqAC+eBEs\n",
       "rsdrxN6fcIrIYzgaa8BgALMn7sacAs2NWrsXZbNRdALd3ibT6HRx6UtraWp28eCiqR0ExmgrImXH\n",
       "e5g3LCdJOnh22VNtBKa97SN114cYbUUdnk/b+DwpO95rcy0WgsX1OPpNJUXayTQ0Rh/DkZwFbjc0\n",
       "20FK7bfbrbWDstkoOo1uv5IpqLZzYLKZuxdOJi8ruc01o60I5/o3sPTtx6CR4/jk6VswN1fRYCvC\n",
       "lZ7XwfYhLem40ATAnp6H0VZE+pZXEY5KDK5m3EYzlsqt2MafFvNqJ1id7ZTcYaT3PTG2GI6+Y8Cc\n",
       "rD3fVKPZZPoNgYzB2nV1dkfRSXR7kbGajTyyZFrbNJMeajZ/zqmXP8Shs6dx51XnIKyZuAyGVhEJ\n",
       "9kUHSN7zGca6nUhrH9xJqQhXE4a6nSTv+Yz6SWfENG9/cT2iuUHLaJeeBMQYwzFoOtSXQL9x2pkc\n",
       "Z33b1ZC9AoQRylbvNwxnjwCnstko9KXbb5cGZyf7FZiy0hJOvfAmisqrOfGog1vbpTm1NWeL94vu\n",
       "i2+tJEv5T8ikLKQpGYRAmpKRSVlYyn+Ked7+jhWkSLunbIkOhEw4JWDvN+BygDVL+733G61dodCR\n",
       "br+SEaLjl6LVyFtRo5WOzR+//34fEQlVK0kgcLfrWwIGHb6I7Y8VJGX2J33UUfpuVYJFtLb5c5MB\n",
       "2hWK2On2ItMet9vN2UtOoaSoiGefeZq5fatwOW1IcyrGugIs1b/QnD6UlB3v4eg3Nej5IUfuZJKL\n",
       "V9MiBBit4GrC1FSjSx5e2H+sIN1q9myROhHphqFzoXoXNNVq26Whc8NKNaFQREKPExmDwcA1N91O\n",
       "iqxn3lAzVNuw2ApBCAxN1Tj7jMWVMbiNy9g+6li/fTUOOwJjYwXGpkrNeGqy4MwaSeOwI3Sbb5eV\n",
       "jk3J0TxKQ3wE01GnbasUCh3p9jYZL2WlJfz3rdcBOGzGOA7vW4VosdPSZwzOnHH7BSZzaAeXcSBc\n",
       "6XnUjzuNpryDcOZOpCnvIOrHxe5Z8tKltalVqgNFJ9EjVjJeG0xZSQlzDj6EIbUdXdNIFyZ7mSYy\n",
       "Hnw9SYGI5qR0OHSpwIBKdaDoNBJOZIQQvwX+CriAu6SUTwe7v6W5uTWS9+nlK+ibk4uhpKNr2p2c\n",
       "00FQfI3AnUmXC4wXlepA0QkklMgIIdKB+4E5aCKzTgjxjpQy4HJj545tmIwmnl6+gv9v7/xjvK7r\n",
       "OP54yt2BiDblx5zSqmkUiGVubGSryPLHsFlimjKbq8zaGqFYzaw1VszVZqSsNcfQKFwzG9kKqgUV\n",
       "bpZaOF0tGAcIJCSUaAWn4h08++P9vvre1/sexx3f+74/3Oux3W7f176f9z3v8/3c897v9+f9fn5m\n",
       "zU63qvtbg9Izfgodh15MEZf93EkaKYoxmCAYIUqbk7kMeMT2Htt7gd8C7x/ogJ7u7j4GA/2vQdFJ\n",
       "bRyYPh+3jW9ZrEMYTDAaKaonA7we2FXzejfwmnRsSTcDN+eXh6678vLXPHCoYwztEzp0SvtJtHUf\n",
       "oefgq+569TDdTVE9eCYBVXpafZX0VkkrVEvvW4ZzcGkm0wF91r8dIQ2b+mB7ObAcQNJG263NbBgk\n",
       "VdIK1dJbJa1QLb2SNg7n+NKGS88BtTORU4FnW6QlCILjQGkm82vgMklTJJ0JXJRrQRBUlKKGS7b3\n",
       "Svoy8Fgu3Wa7a6BjyMOmilAlrVAtvVXSCtXSOyytsgf5AOYgCIIhUNpwKQiCE4wwmSAIAJB0sqRp\n",
       "x7vdypqMpGsl7ZC0TdInWq2nHknjJC2X1Clpl6Rbc32hpL9J2iKp/+3fLUJSh6RNklbk1yVrfZ2k\n",
       "ByXtkbQ9ay9Sr6RFkrbm6/WzuVaMVkmnSfopsA/4Yk29X42SviFpt6S/SDr6Y0xtV+4LOJV0a/ts\n",
       "4ExgLzC51brqNE4EriZFzU3KH+B7gc6sfwbwd6C91VprNC8GfgGsAM4pXOsPgK/k8zuuVL3AG4Gd\n",
       "wCn5mvg3cF5JWoEJpJX1NwErcq3f8wlcDDxKuml0CfD00dqvak/mmLcfjDS299te7cTzJFN8D/CQ\n",
       "7QO2N5EuviIeaC1pOjALeCiXrqJcrb3LG+7M5/cVytXbu8r8COkP8wAwl4K02j5o+zdAT0250fmc\n",
       "B6y03WN7HTA5fx4NqarJDGr7QSlImkn6bzuJAnUrZZguAxbWlEs+x+cBO4DVuSt/F4Xqtb2H1EN8\n",
       "HFgPzCctMi1Oax2Nzmd9fQ9H0V5VkxnU9oMSkDQJWAV8nHJ1fwbYYHtbTa1UrQBTSF34BcCFwLuA\n",
       "KylQr6TTSMayEFgKfJ6yz20vjTQes/aiFuMdA88Bc2peTwWeaI2Uxkg6HVgD3GH7T3nyrMRtEx8D\n",
       "TpV0DXAGaf5gGWVqBfgH8KTt3QCS1pEu9BL13gD82fYGYIOkq0hziCVqraXRFp/6+lmkXk5DqtqT\n",
       "KX77Qf4P9nNgie1f5vJa4DpJ4yXNIP1BP90qjb3Yvsj2+bYvAL4KPEwyx+K0Zh4HZkg6S9JY4APA\n",
       "QcrU+wpwgaT2nJc0jTRsKlFrLY2u1bXAjZLGSLoE6LT9wkANVbIn46FtPxhpPge8A7hb0t25dinw\n",
       "APBX0sV3k/NUfmnYflJSkVptd0laAKwDxpImIr+VDac0vQ+Q7sg8A7wMfN/270s6t9n8niLdSRon\n",
       "aQ7wKfq5ViU9TLpL+gywnzQUHLj9Mj6HIAhOVKo6XAqCoCKEyQRB0FTCZIIgaCphMkEQNJUwmSAI\n",
       "mkqYTBAETSVMJhg2knZKmtpqHf0haY6k9a3WMZoJkxmFSHLO4dkt6TFJV7RaUz2SFkvan7Nitkqa\n",
       "12pNwdCo5IrfYNgctn0uQF4yvkrSBNs/arGuer5te0mOoXhU0s9s9xz1qKAooiczyslZIfOBb8L/\n",
       "Ihjvzb2HrZI+net9hh2SVkq6oaap63Oq3nZJ78vvOV/SxpwIt17ShFzfKekOSZtzVMP0o2jcDHQB\n",
       "p+fjf5h/zjZJF+faYqUkwt9J2ifplvp2JH1J0q8kjRnGKQuOkTCZANtbgJMlTQFuJ/VwpwGzgdsk\n",
       "vW0QzUy0PQP4JHBfrh0CrrD9JuBfwEfqfu504MfArQM1LOlS4Hnb/8yle22fA9xC2tDZyyzgg8C7\n",
       "gSWS2urauB641nZpsQonNGEyQS9tpBS3ucCynDi3H1hN31iNRtwHkCMN2iVNJEUDzJN0Pyn3pTYi\n",
       "oHdo9gjwhgZtLpS0j5TDMrdWq6SlwKK6NtfY7rLdSYq5nJzrZwPfAT5k+z+D+F2C40iYTICkC4F9\n",
       "tl8kmc2RurccJkUz1g4z2uveUztXMo604/h7pIzbO0k9FtW851D+3l3Xbi33AOeS8lfmZq2XA3cB\n",
       "D5ICoPprs77dl/P3RmYWNJEwmVGOpLcDK/l/Sv06YIESZwAfJuWf7ALeKmmspHHAO+uauia3dzWw\n",
       "3fZLwEzgJ6SIxiFlMNs+QEoVXJyzg2YCT9j+IylHZjC8AHyUNMH95qHoCIZO3F0anYyRtI3U49gB\n",
       "LLLdO6n7NeC7wHZSD+Drec4GSauAP5AyRjrr2pwoaRPwEnBjri0lBWDtAjYPVaztZyXdQ0rr+wKw\n",
       "VtIWkoENto2nJN0OrJE0O/faghEg8mSCIGgqMVwKgqCphMkEQdBUwmSCIGgqYTJBEDSVMJkgCJpK\n",
       "mEwQBE0lTCYIgqYSJhMEQVMJkwmCoKn8FwscPJokg2jyAAAAAElFTkSuQmCC\n",
       "\"/><img style=\"margin:0\" align=\"left\" src=\"data:image/png;base64,iVBORw0KGgoAAAANSUhEUgAAARkAAAEnCAYAAACdYDfKAAAABHNCSVQICAgIfAhkiAAAAAlwSFlz\n",
       "AAALEgAACxIB0t1+/AAAADl0RVh0U29mdHdhcmUAbWF0cGxvdGxpYiB2ZXJzaW9uIDMuMC4zLCBo\n",
       "dHRwOi8vbWF0cGxvdGxpYi5vcmcvnQurowAAIABJREFUeJzsnXd8m9X1/99HsmTZ8oqd4cSZBDIh\n",
       "iwABwm5DCavMstpSStkttGX0x95QoJSyybdllLZAKQUKDW2AAm2hjBASyCCEbA95xEuWh9b9/fFY\n",
       "jmxrL1v2fb9efsV6Hj33HjnOJ/eec+45opRCo9Fo0oVpoA3QaDRDGy0yGo0mrWiR0Wg0aUWLjEaj\n",
       "SStaZDQaTVrRIqPRaNKKFpkhgIiMFZEp3d+Xi4hkYM5RIrKhe75zRUSJyMV93jO5+3pBDOPlisgx\n",
       "InJ3iHvHishaEXGJyLsiMjXEewI2HNf9+jkR+X4yn1GTGrTIDA3GA38TkVnAW8A0EflQRDaLyJfd\n",
       "X1+JyHoAERkvIm0isrr7qzPM920iMjnMnHcDDyqlHN2vXcCtIlISr/EicijQACwDzu9zrxz4M3A9\n",
       "MAbYDDzR5z35wHVAY9DlHwN3iEhhvPZoUosWmSGAUuoT4DfAKuAqpdTG7ltHKaVmKKVmAAcB3qDH\n",
       "Viql5iml5gHbwny/MtR8IjIKWAo8HXT5y+75b07gI3wN7AN8N8S9mYBLKfWKUqoN+CvQdyVzJfB3\n",
       "wBm4oJRqAF4DfpCAPZoUokVmCCAiczD+564FqsK8zQJ4gl4vDKxYgM4w3y8MM9ZRwH+VUh19rv8U\n",
       "uEBEZoSx8/3AdiYYpVS1UmpbmLlWAxYROU1ELMCFwMtBY44FLgBuC/Hs34FjwoyryRBaZIYGUzFW\n",
       "AQ8DJ4R5jw3o6v6+FbgsaMXyV2ABcCTwZND1y4DmEGPNxVi19EIptR5jK/PrUAYopQ5WSr0e86cy\n",
       "nmkClgCPAzswVivXBL3lduA3SqldIR5f1W2rZgDRIjMEUEq9DKwFFgPzw7xtEobfBAwhurLbmboW\n",
       "w99hAoqAu4KuXwkcFmKsMiDUP2owtkv7isixiXyWvoiIrXvMjcAfgGOBM7vvzQEOBx4M83hDt62a\n",
       "ASRnoA3QJI+ImIFHMbZLc/rcOw/jf/s84HIApdQfMP7BBt6zLeiRz5RSi6NM2QnkhrqhlGoRkWuB\n",
       "+4F+W6MEOB+oAPZTSnlE5APgWRH5C/Ar4AalVFeYZ/O6bdUMIHolMzS4DWMLdA1gD76hlHpSKTVO\n",
       "KTVCKfV7ABGZElitdK9YxgU9Mj/4nogE3wtQBUyIYM+TGNuaS5L5UN3MBP6nlAr4k97E+IyjgEOA\n",
       "R0WkWUSagYnA8yJyWfd7xxPeR6XJEHolMzS4WSnlFpEyIGyOjIiUAi8opb4J7B10fVvQ22JZyfwX\n",
       "YxUREqWUX0R+ghFOT5aPgF+KyP9hbJmuAbYBO5RStuA3dn+Oy4L8PocC76fABk0S6JXMEEAp5e7+\n",
       "dgFQ2f19J8b/7MEsAZpF5P/iWMk8EmLK/wGlIjIzgk0fAC8FXwsXXRKRw0VEAe8AZd1JdYFCR88C\n",
       "vwOWA9XAIuB4FVshpHO7n9cMIKKLVmU/3T6Q84Bi4Cyl1Jsi8j2M1UbAQZuD8Z/KWUqpD/s8vw3Y\n",
       "E2N78YcYVjKIyJnAKUqpU1P2QVKIiByPsao5eqBtGe7o7dLQ4D6MbNmWgO+i2//y+3RNqJR6TkRG\n",
       "iMhopVRduuZJgrHoRLxBgV7JaDSatKJ9MhqNJq1okdFoNGlFi4xGo0krWmQ0Gk1a0SKj0WjSihYZ\n",
       "jUaTVrTIaDSatKJFRqPRpBUtMhqNJq1okdFoNGlFi4xGo0krGRMZEckTkWmZmk+j0QwO0i4yIlIk\n",
       "Iq9glIa8Ouj65SKyQ0Q2isgxQdfvFpFKEflCRPZNt30ajSa9ZKLUgx94CHgdo+AQ3R0ALwVmY5Rx\n",
       "fEtEJmGUU1wMTAaOwChWNC8DNmo0mjSR9pWMUqpNKfU2vRuLnQT8WSnl7G6jsQ3YFzgZeFop5VVK\n",
       "vQmM6u4gqNFospSBKlo1AaOFR4BKjCJDE4BXg65XdV93BF1DRC7AaOiF3W7fd8aMkL3ENJpBiV8p\n",
       "PL701HESnxtTZxOivKAUiKAkB7+1EPF7EL8XZcpB5eShzFbMHbtA+TB52sHvA5MZvyUfxExXThFb\n",
       "N2+iq6urQSk1KlGbBkpkrBjbqAB+wBfhei+UUsswKsGxcOFCtXJlyG6qGs2gw9npod4ZroNL8hSs\n",
       "/SO5jo9RtlKU2Yb4OjG3VqFMOXRMOQplsSMeF+YuJ64pS7BvfBn71uX4cksgxw5eF+auZjYXL+bE\n",
       "m1/EbM4BurYnY9NAhbBrMHrpBBgP7AxxfRy7C2NrNFlNIgJjdlaTv/kNCtY+S/7mNzA7qyO+31r/\n",
       "OSq3BJWTZ6xicvIQfxfmjgaUtRDEhLIW4sstJLduDTnOSvwmC5hzQQTMuVQ7/Zx89aM4qqt58vmX\n",
       "Is4XCwMlMn8HzhCRfBGZBZRi9Dz+O/B9ETGLyDeBr5RSjQNko0aTMhIVGPvWFYi3HX/+KMTbjn3r\n",
       "iohCIwh9N2Li6QBT702LstgxdTRg8jjxlM0GUw7ideHDxEmPf0n1rjaefP4l9lt0cFw2hyLt2yUR\n",
       "KQQ+AwoBm4gcDvwIo4PhOozWHecrpZSIvIzRFnULRpX9s9Jtn0aTbhLdIuXWrcGXW2isQMBYgXRf\n",
       "by8M1XMPukbtQ17Nx3hFwGwDXyfgx2vvHT8Rjwt/3kh89rGIx4lnxJ499246q508exEzUiAwkAGR\n",
       "UUo5Mdpt9OUd4M4+7/UDP+n+0miynmR8MKaOBvz5vf2tymLH1F4f9pmOSUdg7mjA3LkLOpshx4p7\n",
       "1FyUtQhxO3v7ZMYdiNdeTsnqJ6hscvHh5ha+vXAcR88oonnehbjDzhIfuiWKRpMmknXy+vNGIh5X\n",
       "z0oGdq9AwuErHEfbjNPIrVtjiFTeSLpGzwWMFZCpvR5/3khc4w7EVzgOX+E4NlacwpnfO5/aRieL\n",
       "H78Y2/wLcZfPT9juvmiR0WhSTUsVHds+oaOxhvzuf+S+MNubSHSNnot96wp80GsF0lm8B/mb3+gl\n",
       "IsHjm1215DpWYXbV4LOPxWsvx10+P+QWq67WwdkXXoOjqYunXngd06KDUraCCaAPSGo0qaSlio51\n",
       "r9HqbInZWRsOX+E4XFOWoHLyMbXXo3Ly6Rw9F1vdmrDOYKvjM0pWP4F4nPgKKhCPk5LVT2B1fNZv\n",
       "/LpaB2eftBRHdTVPPf9XFi46qL8N/uTzefRKRqNJIR3bPqHVnxeXszYSvsJxvZ7L3/xGRGewffNy\n",
       "vLYSlK3UuG8rxQvYNy/vtwV6c/nrEQWmrcvLHX/fELfNfdEio9EkQksVVK2C9gbIHwkVC3Dmjqaj\n",
       "sQYVxVlrdlb385nEup2K5gw2u2rwFVT0vm8txtxWtfu1UogIZ//gfI5Y8i3GVYzvN09VUwfXv7KW\n",
       "yuaOmOyKaHPSI2g0w42WKti4HLztUDAavO10rHuNxuqtPc7aYIKdtYnkvgQTbXyffSzibul9392C\n",
       "zz4WMLZIpx37DdZ+vhogpMCs2tHEJX9aRVO7m3tO2ScmuyKhRUajiZeqVWArgtwiEBPtkk+rP4/c\n",
       "ujV0jZ6LucuJuJ2g/IjbibnL2SvC07Pd6ZN9GwvRxndNXUpOZzPS2Qh+H9LZSE5nM66pS3t8MBvX\n",
       "r6Ozvb3f2EopXvmsiqv/8jlldiuPnr2A+RNHJP3j0iKj0cRLewNYC4xv3V5aOzw9GbShnLWuKUt6\n",
       "tkOmjgaUxd5ruMCzsRBtfHf5fJrnXYiyFGJuq0JZCmmedyGVMjaik9fj8/PAW5t48F9fc8CUMh46\n",
       "cz7jSvKS/UkB2iejGc6E8KtQXBH9ufyR4G4zVjAdHiB6/kqARHJf+tLXGdwXd/n8Xk7ehvp6zj7x\n",
       "6H4CE/ANtbY08ovPx/LZLjNn7j+B8w6egtkkMdsTDb2S0QxPQvhV2LjcuB6NigV0tDXhbGnst2WJ\n",
       "5nOJtt1JB4VFRczce04/gbFvXcHmxi6+/9E41jWZuG3vOi6aZ0upwIAWGc1wpY9fhdwi43XVqqiP\n",
       "OnNHU1d+ZMgtSzSfS7TtTiqpq3XQ1LiL3NxcHlz2dK8tUm7dGv7VVMaPPijB4xceP9TDksmmmH1D\n",
       "8aC3S5rhSXuDsYIJxloAbXURH+s5KhBmyxLLeaNo251UEHDylo0cxXOv/gOR3asTpRTPrHPz+KZi\n",
       "Zo5Q/HKRh1F5oFTkc1GJokVGk/0k4lvp9quQW7T7mrvNuB5m3LaRc6iXMsDIrLVvXt6Tuu+auhR3\n",
       "+Xz8eSOx1K0jt3EDps4m/LYRdJXOxDNqVso+brQ8m+BM3rvuf7iXwHR5fNy74iv+tamEo8d18v/2\n",
       "E2xm4168vqFY0dslTXaTqG+lYgF0tkJXKyi/8Wdnq3E9xLjt7U46v3gNs7M6Yuq+X3Kwb1sB7hb8\n",
       "tlJwt2DftgK/pOb/82g+n0hHBeqdXVzxwhre+bKOC/Yv4/ZZNeT50u8b0isZTXYT7FuB3X9WrYq8\n",
       "mimugOlLjfe11RkrmOmLdz8TNG6720ur34Z0+1ZyHavCpu4DuEunYfJ1Id52VO4I3Pnl5NV8TOce\n",
       "30z640arMXPtzy4LKTAbalq58dV1tLt93HribA7ecyTtztKQJ7NTjRYZTXaToG8FMAQlnBB1jxvI\n",
       "g4HdvpVoqfu+ggp8JvPum35fr7T+ZIjm87n1ngeoqapk3/0X9dx/c30t963YSJk9l4fO3Ic9Rhk5\n",
       "PpnwDYHeLmmynYBvJZi+vpUEx21va+kRGOhTTS5M6n60tP5kCXWsoK6mijt//xY+n49xFeN7BMbn\n",
       "Vyz79xbueuNLZo0t4rGzF/QITCbRKxlNdlOxwPCdgLGCcbcZvpXpi41rCSbctY2cQ9fKP2Dr3AVe\n",
       "N+RY8dnKaJtxGl57OSM++TWqdTuiTCjxI2Khab+fAlCy+gm8GKsbcbeQ09lM84zvpOTj9q0xU1dT\n",
       "xamX30VVg5Ol529iz2lGeyBXl5c7lm/gwy2NHD9nLJcduScW88CsKfRKRpPdBHwrOfnGFikn33hd\n",
       "XJGwU9jZ6WFXWxeiQAEiRnFu6S6t4rOPwT1iLxAr4u0AseIesZdxPUxaf6oqzQXn2dTv/JpTrriX\n",
       "qgYnTz3/co/AVDV3cNlzn/Hx1kYuP2pPfvrNaQMmMKBXMpqhQDjfSgJO4UAeTH7dGjzF41HWmT33\n",
       "xO3sSVZzj5pFV8UB/e61F47rl9afanyF49jWbuKca6+npr6Zp55/ucfJu2pHE7e+th4F3HPKHBZM\n",
       "Sv6AY7JokdEMXeJ0CgfX5I3mYI23wHeq2b51M81NTb2iSK+uruKhf33NhBH53H7S3lSk6IBjsmiR\n",
       "0QxdYkm466Zv0e9oBxmTPeSYKF1dXeTm5rLfooN595MvyLfb8fr8PPTO17y2poZFe5Ry3dKZ2HMH\n",
       "zz/twWOJRpNqojmFuwnVVSBcEW/XuAMBIt5LJcHZvTUuM6f+9B7Ou+QKvnPOueTb7bS0e7jl9XWs\n",
       "3tnCdxaO5/xD9sDqqiG3Mky3ggSq8SWLdvxqhi6RnMLdhGtbEukgY6YOOQZn99a053DaZTdTXbmT\n",
       "vSqMJMCtDS4u+dMq1lW38otjZnDhYVOxumr6ZQQXfPkihRteTLgaX7LolYxmaBMh4S5aX6RIyWqZ\n",
       "SGQLZPc6Wr2cetktVNc18dyvrmT/iRbe2tzAHX//kjyrmQe+M4+ZY4t6PROcEWzu3IWCHid2ssXN\n",
       "40WLjGZYkmzjtUxg6migzVTEqZdeR3XtLv70wPXsN2c6z67r4tFN69hrTAG3nbg3owpzez3T1ymN\n",
       "141JeteIyaSjWouMZtiRDQIDhvPZ7m3nnG9/k3kz92TuPjO5+WPFP6tLOGL6KK46ejo2i7nfM32d\n",
       "0uRY8fcZO1OOatAioxlmZIvA1NU6aKg1s6jAyUWnHE6d184l75pY32Lh/IVlnHnozF4lHAKEclj7\n",
       "bGWIImQv7EygRUYzbMgmgTn7pKW0u1y8+/Y/qNr2Fdd8mEOb18ztS8Zy0D7Twj4bcEoHn65um3Ea\n",
       "ELoXdibQIqOJTKLFtjM5TwzPhhKYcIWnYiF/3QsUr3sGc/sufPlltMz+Pu2zkzufZHZW07z+Xb57\n",
       "yY04Gpp55ukn+c/OLu75Ty5lVh/LDu1k4uQCfFHGCeeUzoSTNxQ6hK0JTzLFtjM1TwzPhhOYWHtG\n",
       "9yV/3QuUfnIveFz47KPB46L0k3vJX/dC3B89gNlZjXPli5x66U1UNzTzx3t/zrr6Tm7/Vy2zS7w8\n",
       "eaSHaXZXRkPPqUKLjCY8SRTbztg8UZ4Nt0Xq1TPaZDYKT9lKegpPRaJ43TP4LHawjQCTGWwj8Fns\n",
       "FK97Ju6PHiC3bg0Pv/QfquubefL+m3jJewBP7RzDKaOqePBQPyNs8TeCGyzo7ZImPMkUhMrUPBGe\n",
       "jeSDiaVndDjM7buMFUyvOYswuxL/uZg6Grj2x9/nyGOO5YnqyWxzCr8Yv44zRu+k03TEbhszfEYq\n",
       "FeiVjCY86SoIlcp5wjzbYRkROdEuieJSvvwycLf2mbPVuB4ndbUOLj3vHOo6LKzb5eeOLVOo7xB+\n",
       "fbCHM8Y5UDmW3jZmMPScKrTIaMITrdj2YJgnxLMdbU3UFUbuDhCpZ3Q0WmZ/H7PHBZ1N4PdBZxNm\n",
       "j4uW2d+P9RMDu6NI//7XWzyzvZTLPixmhNXHbw/v4oCSVny2MlRuWUYbwaWDARUZEfmZiGwSka0i\n",
       "cmn3tctFZIeIbBSRYwbSvmFPDGd/BnyePs92qFzqyo+MGp5NprhU++zv0LjfVWCxG1ski53G/a6K\n",
       "K7rU01XAUcuJd7zIi9tzWTjezm8PczPZVIfKyadtxmk4Z56WkUZw6WTAfDIiMhn4CTAbsAFbRORd\n",
       "4NLuaxOAt0RkklLKE2YYTbqJVGx7sMzT/Wy8eTA++xi6yhf0nEz22cfE/GzXxENosRX1O+kMYNvy\n",
       "JkUbnsPsqsVnH0PrzDN7dSoICEztrhYOvPY5PnD4OX3heH50yB6YTEKfzV+/0HO0vkuDjYFcyQSE\n",
       "w48hdk5gKfBnpZRTKbUe2AbsOzDmabKJeAUmWv+iRJ+1bXmT0o/vA48TX8E48Dgp/fg+bFve7DVG\n",
       "7ugpTP/Jk2xvg2u+NZ2LDpsaUw/qZOweKAZMZJRSVcDNwIfAW8BZwHhge9DbKoF+njgRuUBEVorI\n",
       "yvr67PK0a1JPIpm80XpWJ/ps0Ybn8NqKwFbWHd4uw2sromjDczTuasDr9bLFZYGjforfZOH+0+dy\n",
       "9OzyjNidCIU2S/Q3RWEgt0tFGMJyOTAFuBKogl5nufzQP8FRKbUMWAawcOFClXZjNYOWRI8KxNKz\n",
       "OpFnza5aYwUTjLWEuqqtnH78EiqOOpfKkrnsObqA206czegiW8bsjpdCm6XXCe9EGcjt0jnA50qp\n",
       "d5VST3VfcwDBG/PxwM6MW6bJCpI5ixSqf1Gs4eFIz/rsY8Dd3Oueo87B0Y9son32Sewsmcth00bx\n",
       "mzPmxS0wydodD6kSGBhYkekE5omIRUQKgWkY26YzRCRfRGYBpcDqAbRRM0hJ9rBj1+i5mLucCYWH\n",
       "Iz3bOvNMcjpboXMX+H04HFUsfWQj7d+8HtuMQ/nBwZO54biZ/Uo0ZMLuWEmlwMDAZvz+ATgS2AJ0\n",
       "AM8opd4XkT8A6zBE6HyllN4OaXqRitPUoU4rx3oyOdKzvsJxNAJFG57D5KzilOdcdBx3N/aiMq47\n",
       "bjaH7JXciiMZu2Mh1QIDINn+b3jhwoVq5cqVA22GJkNkS7kGgHe+rOOuNzZQaIF7Tt+XqaMz3yI2\n",
       "HsIJjIh8qpRamOi4+uySJmvIFoFxOGq4/28rWeksYp+KIm4+YTYj8q0DbVZE0rGCCaBFJlvJVJ2X\n",
       "QWJLtgjMjspqzr3/JaiYw5F7FnPNcXP6tYgdbMl06RQY0GeXspNM1XkZJLZki8Cs3byTc5e9hxq7\n",
       "NydMMXHdCXNDCsxgSqZLt8CAFpnsJFN1XgaBLdkiMO99voWfvPA5/twizt8nhytOPiRkDd5MJ9NF\n",
       "IhMCA1pkspP2BqNmSjDWAuP6ELIlWwTm9c9ruO3NHXjbW7j6oGLO/tYhYd9r6mhAWey9rimLHVNH\n",
       "Zv/uMiUwoH0y2UkcPZ6z1ZZsEBifX/HoO1/z8upq9p9cyoWn78WUCZF9UdF6bGeCTAoM6JVMdpKp\n",
       "Oi8DZEs2CExrh4efPbeSl1dXc8g4E3ectE9UgYHMJNNFItMCA1pkspNM1XkZAFuyQWC273Jx0bOf\n",
       "8EVVK61vPcZxU0wxnaCGyD22081ACAzo7VL2kqk6L7GQIluyQWA+3LKL215fT4ezhabX7mHZA3ex\n",
       "36KD4xojE320+zJQAgNaZDSDhMEuMEop/ryykmX/3oJqrmTXy3fy298ui1tgBoKBFBjQIqPJFBES\n",
       "9mIRmEgJbMk0aYtEYFyvs5ZbaxfzWsMYDt2rDNc7f+F0LTAxo88uadJPIGHPVmSEt91thnN4+lKc\n",
       "uaNjEhj71hVGfklwL+cpSzC7ailZ/YTRQ8lajLhbyOlsjrlebzgCzd8c5tH8dMv+fNFWyPcKV/Gj\n",
       "4w/DM3YAHOwJkCqBSfbsknb8atJPmIS9jm2fxLRFipTAlkyTtkjYNy/nC/9Ezv5yMV+58sl57yFe\n",
       "f+rhpMfNFINhBRNAi4wm/YRI2GvHhrOxJqbHIyWwmV01KGtx73vWYsyu2MYOx1tVZn6wcRHK78f3\n",
       "+s04Vv+LO354NDntjqTGzQSDSWBAi4wmE/RpwNbu9uJsbY45AS1yJbrEm7SFnEspnnp/K1ftPJA9\n",
       "LE00PXcVjq/X8uLNZ3HgnkUJj5spBpvAgBYZTSYISthr73LjbGmMKwEtUgJbMk3a+tLh9nHz39bz\n",
       "7Ic7OHaqBfMbt1BTVcmLN57BgXsUJDxuphiMAgPa8avJFC1VdGz7BGdjTULlDdIdXXK0dnL9K2vZ\n",
       "1uDiosOmcsqCCpzr36Huo7+waLwppVGrdJBOgUnW8atFRpMRBnMezBeVLdz0t3V4/H5+cvBYPnn5\n",
       "t1x1w61YLMm3A8kE6V7B6Mp4mvSSgoJUqRCYdBV6+vvnNfzm7U2UF9v42eJyrjr32ziqqznljHOY\n",
       "Pmt22OcirZ4StTWR5wbrFikY7ZPRhCcFBalSJTCpLvTk8ysefudrfvXmV8ybUMLN36joEZinnv9r\n",
       "VIEpWf0E4nHiK6hAPE5KVj+B1fFZwrYm8lw2CAzolYwmEsH5LbD7z6pVMa1mUrVF6pUnA0aeTPf1\n",
       "RM4AOTs93Pr6Bj7d3sSp+1Zw0nQ73zvl2B6BWbjooIjP98rNASM3p/t6V/mChGyN9zNmi8CAXslo\n",
       "IpFEQapU+mBSWehpx652Lv3TZ6zZ2cxVS6ZxyeF7Uu+oxtXWFpPAABFzcxK1NZ7nsklgQK9kNJFI\n",
       "sCBVqp28qSr09PHWRm77+3osJhO/Om0ue5Yajt058/flnY8/J9cWW0fHQG5OYCUDu3NzErU11uey\n",
       "TWBAr2Q0kUigIFU6okjJFnpSSvHiyp1c+/IXlBfZeOycBYyxdHDCNxbz1LJHAWIWGCBibk6itsby\n",
       "XDYKDGiR0UQizoJU6QpTJ1Poye31c88/N/LYe1tYvOdIHjxzPtLRzNknLcVRXc0+c+bFbY+7fD7N\n",
       "8y5EWQoxt1WhLIU9BzITtTXac9kqMDCUt0uDqS9ROkjF54tljFgKUnUn2nU01pAfJvSazl5D4cLJ\n",
       "jS43N/1tHeuqW/negZP43oGTaKir7RGYaD6YSDa7y+eHTcyLVpQq3LjhnstmgYGhupIZTH2J0kEq\n",
       "Pl+qfkYtVXSse41WZ0vY0GuyIehIz4cLJ29bv5KL/7CKr+vauPG4WZx70GQ8XV2cc3JsUaR09UeK\n",
       "d9xsFxgYqiuZJEOvg55UfL4U/Yw6tn1Cqz8vYug12RB0pOdzHav6hZOXN5Vz4z9bKbLn8+AZ89hr\n",
       "jPFcrs3GeRddxp57TY8aRUp12DyRcYeCwMBQXckMpr5E6SAVny8FYzg7PTgba6KGXpMNQcda6sGv\n",
       "4LEdFVy9ZT7TbU08evYC9hpTSF2tg5UffgDAGd/9QUxh6nT1R4p13KEiMDBURaZPaQFg4PoSpYNU\n",
       "fL4kxwg4eSOVYQgQy3siEUuphw6fias27sWyneM5oaySZXtvpNRupa7WwTknH8sl551DR3t7TPOl\n",
       "wuZkxh1KAgNDVWQGU1+idJCKz5fEGMFRpFhCr8mGoKOVeqhrdXPumum8u2sEPx+/gTvG/AfPXsf0\n",
       "CExNVRWPPvkH8vLzY/7xpKs/UrRxh5rAwFA+ha2jS2kZI1SYOpbIUbLRpXDPf1HZwk2vrMHr9XDP\n",
       "hA84sNyEa+pSKmVsj8DEmskb65zJEm7cwSowutSDLvWQMQZbuYY3vqjh128ZJ6hvP3FvJpbtXqnc\n",
       "d+ctPLPssYQFJtMMVoEBLTJaZDLEYBIYn1/x+HubeWlVFftOGsGNx82k0Na79ovP52PL15vYa/qM\n",
       "AbIydgazwECG6smIyBilVG2fa/sqpT5NdOLuMYqBJ4BDgE5gJnAx8HOgA7hCKfVGMnNoIhDjdima\n",
       "wMSyrbBteZOiDc9hdtXis4+hdeaZdO7xzZjHCNxva93F9WvH8VGdmZMXVHDxYVPJq1uNffNy6is3\n",
       "85NnVnHbnb+kbN7RSQtMNJtTwWAXmFQQq+P3fRHZJ/BCRE4BXkvB/A8Ba4HxwGxgAnBp9/cnAb8T\n",
       "kewoT5ZtxJiMF4vAREsus215k9KP7wOPE1/BOPA4Kf34Pmxb3oxpjMD9Hc1dnPdxBZ/Wm7h+Vj2X\n",
       "L8wnr241JaufoLbOwXF3v81/v9hO63+WYXV8ltSPJ5rNqWA4CAzELjLnAX8VkeNF5FrgNuCIZCYW\n",
       "kXLgIOBOZdCJISx/Vko5lVLrgW3AvsnMowlDmF5IVK3qeUssW6RIPZECFG14Dq+tCGxlYDKDrQyv\n",
       "rYiiDc/FNEZu3RrebynlvPdLcHqEhw/xcPwe0tN3qbLDwgm3vkb1Licv3nI2++6zV9L9kaLZnCzD\n",
       "RWAgxu2SUurfInIY8CJQD+yvlGqL8lg0ZgNbgZdEZBbGysiCsbIJUAn060EhIhcAFwBMnDgxSTOG\n",
       "Ke0NxgomGGuBcRCS2H0wpo4Gwx10AAAgAElEQVQG/Pmjel1TFjum9vqe12ZXrbEa6DVXCea26qhj\n",
       "KKV4fkMXD24sYY9ixb0HehibD0oZ9+srN3PC3W8bAnPzWSyaNRHl92FuS+4ISTSbk2E4CQxEEBkR\n",
       "8QB9vcKm7mtNIqKUUtYk5h4NzAIOAJqAt4By4POg9/gBX98HlVLLgGVgOH6TsGH4EqFWTDxO3ljq\n",
       "oPjsY8DdbKwKeuZqNq5HGKPTOpJ7//kV/9g4gsPLu7hxf8jP6T2HqWgspQW5/ObHx7NolvEfTjJ9\n",
       "l2K1OVGGm8BAhO2SUsqilLL2+crpvm5JUmAA6oBPlVKVSikX8CbwNBDseRwP7ExyHk0owiTjtY2c\n",
       "E1cUKZaktdaZZ5LT2Qqdu8Dvg85d5HS20jrzzLBjNLe6uPTjUv6xzsH3FpRyz97V2P277zc6qmkt\n",
       "nolt/qm8ee0RHLhHQdJ9l4KJZnMiDEeBgThC2CKyCJgEmAPXlFJ/SnhiETuwBjgU2AW8A7wE/BBY\n",
       "CEwG/gLMVhGM1CHsJOgTXWobOYc6KYv+XB9SHV36smsUV35SSEuXn6uPns4RM0b3ul/jMnPy5Xcz\n",
       "e95CHnj8yZT0XQpFKqNL2SwwGcmTEZE/YfzD/xjwdF9WSqnzEp24e9xjgPuAXOBppdTt3Y7lH2GE\n",
       "tM9XSr0faQwtMqlhsOTB/HtTPXcv/5ICWw63f3tvpo0p7HW/rtYRcz2YwUI2CwxkTmQqgT27I0CD\n",
       "Ci0yyTMYBEYpxbMfbufpD7Yzc2wht54wm7KC3v8wtcAMDJlq7vYuMA7YkuhEmsHJYBCYDo+Pe/6x\n",
       "kfe+qmfJrDH87JvTsOb0dhcqpbjkB2drgclCYhWZ8cAaEVkF9PxGKqWWpMWqdDPUD0/GSCwCk6pD\n",
       "guHGqW3t5IZX17G5ro0fz3ZzTsUnqO1b+80jItx01310dXT0E5hMdmyM9bOWNK+l2N8yrH+/AsS6\n",
       "XTos1HWl1HsptyhO4t4uBTJdbUVGXoi7zYiyRCiQPRSJVWDsW1cYiXIWO+JxYe5yxlzEO9o4H+Ud\n",
       "wvVv1eL2+LhjdjUHjs/pN09Nu4m33vg7Z537w5TamKrPFmrc0qq3KSwuHTK/XxnZLiml3hORHGAU\n",
       "IIlONigY6qU5YyDWLVKqSlCGGufVnbnc/cVORhXl8eiiVvbIz+k3T/P6dzn7p/fhqK7m8G8ezbiK\n",
       "8SmzMV3lNUua1xoCM4x/v/oS07ECEfkZRph5C0aEaQcQMeozaBnqpTmjEI8PJlUlKIPH8frhgc/N\n",
       "3LamkHklXTx61gKmWur7zeNocXPqJTf2+GBCCUwyNqajvGahzWJskYbx71coYj279BNgD+B1YD6w\n",
       "GPhnuoxKK0O9NGcE4nXypqoEZWAcpxuu/MDC81/ncPrkDn692E9RnqXfPLUNTZx6yY1UNzRHdfIm\n",
       "amOqy2v2OHmH8e9XOGIVGbdSahewDpinlPoQ+Fb6zEojQ700ZxgSiSKlqgRl1+i5VDZ2cP47Zj6p\n",
       "F36xj5Or93LgK58bcp6PP12Fo6GZZ55+MmoUKZ0dG2OlVxRpmP5+RSJWx+/lwCcYW6Z/AY3AFqXU\n",
       "iek1LzoJ5ckMs+hSMmHqVERgVm5r5NbX1mHGxy/n1jGvojBkvRiL4zNyuhrx542kJmcCxZP2TquN\n",
       "qfhsIcPUQ+z3K+OV8USkDCPl/yullDPRiVOFTsaLzEDmwSil+OtnVTz27mYmldm5/duzGVucF/K9\n",
       "dbUOfnjmKVxz420sPvzIDFuaGMMlDybt0SUR2R+jmNT7SimHUmqXiOwLfApMS3RiTfoZSIHx+Pz8\n",
       "5q1NLF/r4OCpZfy/pTPIt4b+dQvO5LXF0fh+IBkuApMKIoqMiNwGnAysBO4WkXOASzBKNJyVfvOy\n",
       "jHiXyZWfwvpXobUGisbCrBNh/L7R7wF8+QasehacDigshwXfhRnH9Nx2dnporN5KfgwlLVOdaOco\n",
       "nM0N/9rFF1WtnH3ARH5w8GRMEjrzIWuPCvgbYH0GtkRDYOsVzfF7DkaBqu8DRwL/wCi9cIBSSu9R\n",
       "gom3t3Tlp/DBQ+B2Qsl4488PHjKuR7oHhsC8exd4nMYvnMdpvP7SKIccEJhYSlom2+u57zibGru4\n",
       "+MWv2Ohwct3Smfxw8ZSwAtPc1Ji9ApOJXutDpKd7NJHxdNd6QSm1E2gBblRK+dNuWbYRQznLXqx/\n",
       "FfJHQH53ecf8MuP1+lcj3wNjBZNXbFw3d9/PK4ZVz/ZskWIpaRmtbGYsBI/zbnUOP3q/BK8y8fji\n",
       "Do6aOTris0XFJSw+/KjsEpjC3Pj/rhMlU/OkmWg+mQoRWRH0eiTwD+n+nylrzy6lgyjlLPvRWmOs\n",
       "UoKxlUBzpfF9pHtOR/8lc24JnuadPT6YaGUxYymbGQumjgZ8eaN4aoOZZRtymDXCzz2L3Iz21xOu\n",
       "PmtdrQOP203FhIncdOe9cc03UPTywcT7d50omZonzUQTmeTKiw0nIpSzDEnRWOhsNlYhATqbjeuB\n",
       "78PdKyyHrt73Pe1NdNl2/0JGK4sZS9nMWGi3jOT2j0y8VZPDtyb4+H8LvNh8Lvy5occJ+GByLBZe\n",
       "/9cHmM3mkO8bTPRz8sb7d50omZonzUTcLiml3ov0lSkjs4J4k7BmnQjtTdDeXd6xfZfxetaJke+B\n",
       "4eTtaDGu+3x4nA34XE29SkNGSzZLRTJaXWsnP/rfCN6usXLpDBc37evG5gs/TrCT99Zf3p+dAgOZ\n",
       "S7gbIol9uoNkKhmA6JKntZou2+iQpSFjbZiWSHRpXXULN766ji6vnxuOGM0ReZsjjhMsME8+/xL7\n",
       "LTo4pnkGkohh6kxFfQZBdEm3qR1MIpNhBioP5p/rHNz/5leMLMjl9m/vzZSR9qjPXHHRebz9j+VD\n",
       "Q2CGGRkVGREpxEjA26SUak100lQyXEVmIATG51cs+/cWXvy0knkTSrjp+FkU58XW4LOluYltWzYz\n",
       "d0HCv6sZQwtMb5IVmYg+GRE5VkRWi8jvujN/1wL3A2tFRDuFB4iBEJi2Li/XvbKWFz+t5MS547jn\n",
       "lH2iCkxdrYObrvkZXZ2dFJeM0AIzTIkWXfoVcD5GmYfXgCOUUutFZCKwvPtLk0EGQmAqm9q5/pV1\n",
       "VDV3cMU39uKEudH9NsE+mO+ccy6z9pmTAUuTQwtMeogmMjlKqf8C/xWR27r7U6OU2iEi+m8jWSI5\n",
       "9ULcc+aOzrjAfLbha255sxLw8+CBHvbeo39Lz759j7YU7c/ZF17Tk8kbi8Ak46RORd+ljArMIHDm\n",
       "ZpJoGb8lInJtdy+kvMD3InIdUJIB+4YukVLGQ9zrWPcajdVbM2aeUopX/reeq9+oZKTNx1NHeFg4\n",
       "oq3f0QOr4zNKVj+BeJz4CiqorXNw5jnn4qiqjDmTN9oRh0j3+84vHiclq5/A6vgs5s+acYEZAkcF\n",
       "4iHaSuYhILDxfiToe4CH02LRcCFSrWHoda9d8nH6O5OuPxsrHp+fB9/+mr9/Uc8hY9zcvD/YLYKi\n",
       "fx1c++bleG0lKFspALu6rHR5FX+5/mSmx3hUIFq93Uj3cx2res2vbKV4u+2KZTWT8S3SMKwxHVFk\n",
       "lFK3ZMqQYUe0lPHue+1uL60dHkgg5T8Rmtvd3Pzaej6vbOHcKS1cMNeKybR7wdv36IHZVYOvoAJn\n",
       "excFeVZmTR7Dx49eQl6Xg1ir2iZzBCIwf6971mLMbdFXBgPigxkiRwXiIWr5TRE5SETeFRGniDSJ\n",
       "yOsiMi8Txg1pItWC7b7XIzAkV382VrbUt3HJHz9jQ00r1y2dwUVzLZi9kevg+uxjqa2t5hs//x33\n",
       "v/hfAHJVGz772JjnjVZvN9J9n30s4m7pfc/dEnX+AXPyDsMawNFC2IuAJ4E7gTHAxO7XL2ihSZJI\n",
       "KeMVC+hoa8LZ0ph0/dlYef/rBn783Gqj2NQZ8zhq5piYjh5sKdqfE27+K9UNLRw8awLS2UhOZzOu\n",
       "qbFnOCRzBMI1dSk5nc1IZyP4fTHNP6BRpCFyVCAeIibjdZ/Avkkp9b8+1w8DrlFKDXiuTFYn44WJ\n",
       "MgTqwaSju2FflFL86eMdPPnfbUwrL+S2E2czMqgHdaSoTk+YuqqSv1x/MgdPykk4upOp6NKgCFNn\n",
       "WXQprRm/IrJTKTUh3nuZJKtFJgSZzIPp8vi4d8VX/OvLOo6aMZorl0wj1xLboUW3280JRx1M1c6d\n",
       "2VcPRhMX6a7x2xHhXnuik2pCk0mBqXd2ccOra9lU28b5i6dw5v4TkDAV7EJhtVq55IqrGFcxXguM\n",
       "JiLRRGaSiHwV4rpgFBfXpIhMCsyGmlZueHUdHW4ft317NgdNjd3pWFfrYNOXGzj4sCM44ZTT02hl\n",
       "6tACM7BEExndjSADhBKYVJRpCPWef+w0c9+KjYwsyOVXx5Qz0/sJprWx+X0CPpimxl28u3ItBQWF\n",
       "Yd8bL6kqat6XQVGuYZgTrWjV9khfmTJyKBNOYJItAt73PX5PO79b8Ql3vfEls8YW8fiJ49in5b2Y\n",
       "C4kHn0V6/OnnUi4wqShq3peoAjPMMm8HimgtUTYBoTzDAiillF7pJEG4LVIyGbCBTNzg97g8cOOn\n",
       "I3jfYeakyR4u/vYcirb9M+oYAdLdtiSWzxMvUbdIwzDzdqCItl36N3AosAJ4Ckh/yukwIZIPJhVF\n",
       "wAPv2dkGV/3Pws424cq5bk4vd9BmNsVVSPzPf/x9WtuWpKqoeYCYfDDDMPN2oIi2XfohsBDYhJGE\n",
       "dwcwPlXbJRGxish6Eflt9+vLRWSHiGwUkWOiPZ+tRHPyJpMBGzzGpzVufviulcYu4TcHezhtQmtc\n",
       "YwS49KdX8be3/5O2KFI8tkQjZifvMMy8HSiiHitQSrUopR5QSs3BWM1cLiIfi8glKZj/WmAbgIhM\n",
       "BS4FZgMnAb8TkdjKrmURsUSRUlEE/Pn6SfzkoyLKrD6ePKyL/Upa4xqjrtbB9087ke1btyAiTJm6\n",
       "V5p+Iqkpag5xRpGGYebtQBFVZPrQ1P1VBMR+OCUEIjIT2A/4c/elk4A/K6Wc3XVrtgH7hnk8K4k1\n",
       "TO0rHIdryhJUTj6m9npUTj6uKUt6oi2R7nt9fn791lc88H49+08o4LeHuZloqotrjIAPZtUnH1Ff\n",
       "V5vWn0ksnzcW4g5TF1fA9KWQk29skXLyjdfaH5NyovlkEJF8jL7XFwIu4HHgMqWUJ9FJxcj6ehC4\n",
       "GFjcfXkCRnnPAJWEETIRuQC4AGDixImJmpFR4s2D8RWOi+j0DHW/pd3Dza+tY01lC2fsN4EfLp6C\n",
       "mCRsk7VQY/Rz8h5wYMw2J0O0zxuJhPNgiiu0qGSAaNGlR4CjMXpgfz9QGS8FXAS8q5T6WkQCImMF\n",
       "gtvf+ulfhA0ApdQyYBkYxwpSZFPayESi3dYGF9e/spaGti6uXTqDb8wcE/cY9bW12dmbWifaDWqi\n",
       "rWQuxviHfiFwQVDaeSCEbU1w3u8ChSJyGlAK2DFWNsH/rYwHdiY4fuKkOEErcNgxP0SiWaSDffEk\n",
       "473XPIYbV9nIt1p44DvzmDm2KJw5veg7hz1vKuMqJnDX/Q/HJTCxHFBMRw8oLTDZwYD3XRKRczG2\n",
       "TI8Bz2JEsyYDfwFmqygGpvSAZCBBy1ZkhDPdbYYzMMG9ekBg7FtXGHkgFjvicWHucuIuqKDoq5eM\n",
       "qm7WYsTdQk5nM83zLsRnHxPymYCfIpC85rUW8szWYh5fn8PMIje3Hj+D0vLYto+BMXy5hdS1eiiw\n",
       "+ikUN22Tv4m/KPbPGih/GepzBAtmLJ8n3P1QaIHJHOluifJ4IvcSQSn1KfAHYB3wEvCjaAKTcoIT\n",
       "tMRk/Gkr2l0SMw4CW6ReiWZiMhLNcgsp2vDc7rKRJrNRNtJWgn3z8rDP5NatAYwkNVdOITd+PoLH\n",
       "1lv45ng/jx3sZLxrXcz2BeZwtHo5+dKbufjW3+LLLcRW/3lcn7NX+c0+n6PvXJE+T6T7fdECk11E\n",
       "iy5dICJuEfEEfblFxAP8KBUGKKWeVkqd3/39nUqpKUqpmUqp91Mxfly0NxgrmGCsBcb1OAj2wZg6\n",
       "GlCW3h0WlcWO2VWLshb3vm4txuyqCfuMqcOwo6GpiYs/LOXNnSYunu3llv285Np2348FU0cDjhY3\n",
       "p156E9W1u7j4nBN7zRErZldN2M8RPFekzxPtfjBaYLKPaCLzlFLKqpSyBH1ZlVIW4OkM2JdZUpCg\n",
       "1dfJGy7RzGcfE7ZsZKTktA01rZz70Vi2tcIvF3n5/nQfIvEnr9W4zJzWLTB/euB6Dpg3M6EEuFjK\n",
       "X6YiuRC0wGQrsWT8xn0va0kyQStUFClcolnrzDPDlo0M98zrrVO44oXV5FisPLlfNYeNbEkoeU0p\n",
       "xYW3/46q2l08d9/POGDu9IQT4GIpf5mK5EItMNnLgDt+kyXllfESjC5FClOHi5zEGl3y2kbyyPYK\n",
       "/ri6ibnji7n5+NmU+uqTKo3w1ZcbaKvZxOKJlqTLK6Q7uqQFZmBJa/nNbGAwlN9MZx6Mq8vLncu/\n",
       "5H9bdnH8nLFcduSeWMzxJmob1NU6eO2vL3LeRZfFVQVvINECM/Cku/ymJgrpFJjq5g6uf2UtOxrb\n",
       "ufyoPTlxXuL5OsGZvEuWHs+ESZNTZ2ia0AIzNNAik8j2qPJTWP8q7uYqvNbRWBOozg+Rtwif7Wji\n",
       "ltfWo4B7TpnDgkkjEh6/vnIz5/z8IRwNzTz1/MuDUmD6/iwsExZSNmrKQJulSQGJrbuHColUR6v8\n",
       "FD54iK72Fly55Qn1XobI1eBeXV3N1S99wYh8K4+evSBhgbFvXUGdo5qTrnyImvpdvHDHBRwwe3Lc\n",
       "Y6Wbvj+LfHFTVvWWrlI3RBjeK5lEqqOtf5UuazHtZiM3JN7eywFCVYPr8sODb67npa0WFu1RynVL\n",
       "Z2LPTeyvKDD+6tVf0tDYwp8euIH9Zo1HZaifdjwE/yzyrDkU5dmhK0dXqRsiDG+RSaA6mru5ivbc\n",
       "8l7XYu29HEzfanAtXXDtxyP4tMHMdxaO5/xD9sBsStw562+rxVRYzpJD9uOjlx+juNCOUv6M9NOO\n",
       "l8DPIs+aQ3FedwkhXaVuyDC8t0txJt85Oz24rKMT6r3cl+AEtC2twnnvWvmi0cRNC7q48LCpSQlM\n",
       "Xa2Db1x0L/94+98AFBca2bSZ6KedCP68keTTtVtgQFepG0IMb5GJI/kuEEVKpPdyKAIJaO/v7OT8\n",
       "dy10ehXLFtZw5MK9k/pIgSjS9poGRuabk642lwksExZSJO26St0QZXiLTIzV0YLD1O7y+TTPuxBl\n",
       "KcTcVoWyFPY6cRwr3oKx/F/LQq78pIiJ+W6eOryLKfMOS6rXUO+CUy+zzwkXJ1VtLhMU2iyUVUzR\n",
       "VeqGMMPbJxMDofJg3OXzEwpZ9zzv9XPfio28tWEXR0wfzVVHT8dmMYeu0BUjrS3N/QtORelblGiD\n",
       "uFQJVa88mKFUpU43jevF8F7JRAlhpyPRrqGtiyteWM1bG+o47+DJXH/sTGwxNrmPRGFRMUcfe0KP\n",
       "wKSjQVyqmq7BEE60003j+jG8VzIRQtjO3NEpF5iNDifXv7oWV5eXW0+YzeK9knds1tU6cLU5mTJ1\n",
       "L6687uae66luEBfuPYkwZAUGdNO4EAxvkQkTwu5oqkm5wLy9oY57V2xkRL6Fh86cz9RRBdEfikLA\n",
       "B6OU4h//+YScnN1/nalsEBfpPfEypAUGdNO4EAxvkQmEsHN318Rtb2uhVYojPBQffqV46v1t/PGj\n",
       "HcwZX8zNx8+iJD/R0si76dtVIFhgYHeIPLAKgdA1XMLdj/U98TDkBQZC/k4N93D88PbJ9Alhtzub\n",
       "aG9pTFmYt93t5cZX1/HHj3Zw7D5juffUOWkRmFBFv1NRwyVVTddgmAgM6KZxIRjeIhMUwu5oqqHV\n",
       "a0lZmLempYMfP7eaD7fs4rIj9uRn39wr4RINffnVnbdEbVuSTIO4WMeIlWEjMKCbxoVgeG+XAIor\n",
       "4nbyRgvrrtnZzE1/W4cCfnnKHPZN4IBjJG68417OOe8C9pkbOYyeTMO0VDGsBCbAUArHp4DhvZIh\n",
       "/jB1tLDua2uqufIvn1OSb+WRs+anTGDqah1cc/nFuNrasBcURBWYaGQihD0sBUbTj2EtMonkwYRr\n",
       "32F2rOE3b2/i129tYt9JI3j4rPmMH5GfEjsDPpjlr77M5q+/SsmYsbQhibdVSTBaYDQBhu12KdFE\n",
       "u1Bh3WZl57r/Cisbqzl94Xh+lOQJ6mCCnbxPPv8Sc+alxoGYzhC2FhhNMMNSZJLJ5O0b1t3aKlz1\n",
       "gZXaThPXfGs6R88ujzJC7PQVmP0WHZyysdMVwtYCo+nLsNsuJXtUIDis+34N/PDdHDq8igeOn5BS\n",
       "gQFwtTnx+/0pFxhITwhbC4wmFMOqW0GqziKZWqv4ywfreWSdhWnFituP3YOysZOSHjdAa0szhUXF\n",
       "iAher7dfol2qSOUBSS0wQxfdrSBGUiUwbq+fX73v5M31Vg6fNoqrvzU9JQccAwS2SEuWHs9V19+S\n",
       "NoGB2ELcsbxHC4wmEsNCZBJpvBbqfp2M5OpVpayv6+SCmW5+OOFT1I7tKSt/EOyDOfKgfcnf/EZa\n",
       "SizEQ7SfT8wCM1DlD3TZhQFnyPtkoglMrOUQ1neN5gfv5rKlwcW9M7fyw6mtKHvqyh8EC8zTTy7j\n",
       "iJGNaSmxEA/Rfj5xCcxAlD/QZRcGBUNaZKJtkaLlgQTur6gr5sL/5GI2mXhm1kq+UbglodyRcHi9\n",
       "Xs49/ds9UaRDJlkSzk9JJZF+PnFtkYLLH4jJ+NNWZFxPJwM1r6YXQ3a7FIsPJmoeSHsDj20fy9Mb\n",
       "Lcwt83PXAR7GORoRn4R/JgFycnK44prrGFFayn6LDsa09tmUl1hIhHA/H7unicJ4fDADVf5Al10Y\n",
       "FAzJlUysTt7gjgEBAnkgHW4f13wxjqc3Wjh+ko+HD/FQagNyrPjNlpDPxEtdrYO3/7kcgCVLj+8J\n",
       "U0eyK5OEsiOfLgpL4wzVx9kVImUM1LyaXgw5kYknihQuD2Rb3ix+/Nxn/MeRw5XTd3Hd3k1YxLjv\n",
       "s5WhcsuSLn8Q8MFcedmFtLY0x2RXpjsN9LUjX3UYXQXiLVswUOUPdNmFQcGQypNJJEzdN3rysW8a\n",
       "N7xVi8+vuPG4mRxQ1tkvugIkVVw7lnow6SzgHQ8BO+zeZmMFk2h0RkeXspaszZMRERvwIHA4kAs8\n",
       "oJT6tYhcDvwc6ACuUEq9Ect44QQmnn+sr2wzc++aSsbb/dy3r4MJvla8rv5bA7OrllzHKsyuGnz2\n",
       "sXjt5TELQLDAPPPUMhaPajF8MH1si5afkikR8hWOwzxqUnw+mFAMVPkDXXZhwBnI7ZId+CcwHdgX\n",
       "+IWIHAZcCswGTgJ+JyKW8EMYRBKYWELUPnc7924ax92rc1lkr+GpBVuZMGoEZmcVJaufwOys6nm+\n",
       "aPXvKPnkAcTjxFdQgXiclKx+Aqvjs5g+9Gt/fbFHYA4vSyxMnc4uAn3RiXaaZBkwkVFK7VJKvaQM\n",
       "GoCdwKHAn5VSTqXUemAbhgCFxa9U2C1SLCHqRiniipWlvLglh3PGVvObaWsY4a0FMZHTUY/XVkJO\n",
       "R33P85aWTaA8KFspmMwoWyleWwn2zcujfV4AzrvoMpa/9yGLJyYepk6mBEM8aIHRpIJB4fgVkb0B\n",
       "GzAS2B50qxLo12RaRC4QkZUisrK2LnxY19TRgLLYe11TFjumjgYAttc3c977I/isXrhugYcrx32O\n",
       "ObcIk7vVeN7dirIWI12tu8d0u6CPG0tZizG7asLaUVfr4KxvH8NXX25ARJgwaXJU2yKRzLOxogVG\n",
       "kyoGXGREZCTwLPADwAr4g277oX9jRaXUMqXUQqXUwtKy8OHISKHgD7fs4ryPxuLywCOHejh+sh+V\n",
       "W4S4W/BbjUrzfqvxWgVVnvdb7dCnVIy4W/DZ+2khsNsHs3bNalqbm2KyLRrpDnFrgdGkkgFNxhOR\n",
       "EcDrwLVKqU9E5Bgg2Es3HmMblRBdo+caPheM/+nF48LU6eSpXRU89tkXTCvo5DeT3qcsZxI+NR5v\n",
       "3ijyWrbTUbInKD/evFHkN2zA63WTt/0d/GYL3ryx5LQ7kM5GY5XjbiGns5nmGd/pN3+kKFIo28xd\n",
       "TlzjDgTA6vgM++blPc5l19SlPa1xoz2bDFpgYkRHrWJmwFYyIlIEvAbcHhRB+jtwhojki8gsoBRY\n",
       "negcfavtd0o+N26ZxqOfdXF4uZvHj4Cy8klYmzaS07gJX2EFzfMuxFdY0V2dPw/3iL1QuQUopRDA\n",
       "VzSO1tnnoCyFmNuqUJZCmudd2K83dkNdXcQwdaROAFbHZ5SsfiKsczlVXQT6ogUmRvSZqLgYyJXM\n",
       "T4D5wAMi8kD3tSXAH4B1QCdwvkoykScQCm50ubnx1XWsr2nlR9Nc/GB2DiYx4SueSGfeCFROPu1T\n",
       "jwHA3f1s/uY3cFtsvSvDuZ2YlJemg6+LOK+9oIA99pzGXfc/HLFtSagwtX3zcry2EsO5DIZzuft6\n",
       "QMxS3YlAC0wc6Fa0cTFgIqOUuh24PcStO7u/UsZXtU5ueGUdzk4Pd82t54g9Cnr5VcKdC0qkxm19\n",
       "bS22PBuFRcU88fvnE7LX7KrBV9D7l1VZizG3ped/Si0wcaLPRMXFgDt+0827G+u4/PnViMCDZ87n\n",
       "iCn2mJ2m8TpY62odnHXSMVx63ndJZgHms49F3C29543gXE4GLTAJoM9ExcWQPYXtV4pnPtjGsx/u\n",
       "YPa4Im45YTaj/A2Y6hrJq3ofb/5IPKUzUDm5YZ2m4RysncV79CsoVdNu6vHB3HX/w4gk3q3ANXUp\n",
       "JaufwAtRncuRSFnBKU1vKhYYPhgwVjDuNuNM1PTFA2vXIGVIrmQ63D5ueW09z364g2/NLudXp81l\n",
       "lL8B+9YVKIuNjvGLEcBW+R/E0xnWaRrKwdo5ei62ujW9sm2dK1/k7BOXRG0dGyvu8vk0z7swqnM5\n",
       "EikrOKXpj25FGxdDbiXjaO3k+lfWsq3BxcWHT+XUBRWISK8sWWUtpDN/MeJ2onLyI0Zl+jpY8ze/\n",
       "sTvbFlDWQi677zkcNaWhnoYAAA3cSURBVNU89cLfkhaYAO7y+XGJSl96ZQV32+nrvm4eNUkLTLLo\n",
       "M1ExM6RE5ovKFm762zo8fj93nbwP+00u7bmXaKOyvoQa5+5rLqKhehuzUiQwqSBlBac0miQZMtul\n",
       "N76o4ecvrqHAlsMjZy3oJTCQuizZwDi1DU38+sm/4Pf7mTKmkIX7HZD0Z0glKSs4pdEkSfavZBQ8\n",
       "8s7XvLSqin0njeDG42ZS4qknd/N7vRye8Thxw3Ur8OeNxGsvp3nDvznt6keoqmvkxEPnMm2MHde4\n",
       "AwdNDRjo77TOp6u74NThqZ9MZ79qIpD1K5nK5nZeWlXFKQsquPvkfSjx1Id0eAIxOXHDdSsI3G/e\n",
       "8G9O+sUyquoaef7uS9ljjz1wTVkCkLHyC7EQ7LS2e5ooKixKj3NSZ79qopD1K5kOt4/bl0zjmH2M\n",
       "HJJIDs/2qcdEdeL2vLdwXL+xHK1eTrv6EarrGnnqhb8xe9FBtMc41kCQsoJTkdDZr5ooZP1KZvyI\n",
       "/B6BgfjKIER7b9/7G7fsoKG5jefvvrRfFCkT5RfiJSNh6vYGI1ckGGuBcV2jYQisZPKsvVvEBhye\n",
       "vc4bdTt4Az4TS/NmTJ0tmNsc+PJH4CmbhT+vtNd7g8fqEhtWi4VD95/LJ3++B3tRWc8KJpZ5w5FO\n",
       "H07G8mAC2a9B5TB09qsmmKxfyfQlXKV/r72820dShaVlB+JxAgqLs4bc6v9ham/o1xWga/Rc6qsr\n",
       "WfLdn/PSG+8hbifFZm/IrgHxdhhIZwnNjCba6Y4AmigMOZEJVwYhx+XAl1tITkc9Pms+ylaK3z4K\n",
       "r30UKrcYa92afiUTatpNfPvaJ9npaGDiiJyIJRXiLb+QrhKaGc/k1dmvmihk/XYpFKHKIJi2v22s\n",
       "GLpaUbnFACizDZOvk46KgzC11/eUegDjsOM5Jx9LTU1tPydvPPOGI9nkwFBbrfyByuTV2a+aCAy5\n",
       "lUw4enwmuUXg6wRAfJ1Gic0+vpO2NqchMFVVKTmLFMmeYGJNDgy11SqteptRfu1s1Qw+ho3IBHwm\n",
       "3rxRmN3tSGcj4nEZr/v4Tuz2Ak489Yy0CUywPYl0iey71bIVjKCwuFQ3ktcMSobkdqkvga0Fbic5\n",
       "Xa34bCWgFN7cInyFFT1RnbpaB027djF91mwu/elVabUp4MPJrVuDqb0ef95IXOMOjCm6FLzVyrPm\n",
       "UJxnAWXWRZM0g5IhLzI9DdxyC/GW7oUvUHS7j1M2UPTb7Xbz5gersFqtabct0RKaga2WrWCEITCg\n",
       "w8aaQcuQ3y7FEsUJ7irwq4eXZURgkqFr9FzyVTvFpg4dNtYMeoa8yETLxI3UtmSwkj9qEoVzTtBh\n",
       "Y01WMOS3S9EycR+5/56sEpjdeTA6bKzJDob8SiZaFOfaW+7khddWZJnAaDTZw5AXmVCZuFvt8/jx\n",
       "VdfT0txErs3GrH3mDLSZUdECo8lWhvx2CXpHcepqHZxz/FE4HDX8dK6LyXPm9GoBOxjRAqPJZob8\n",
       "SiaYHoGpqebFa49j3tx5/VrADja0wGiynWEjMj1RJEcNL153PIvm7Q0ms9EC1laCffPygTaxH1pg\n",
       "NEOBYSMyHrcbi8XKS1cdxaI5M3vdU9ZizK6aAbIsNFpgNEOFIeuTCRwlaKndTuGoCUwsn8/r73xA\n",
       "2f/uQtwtPc3sIX0tYBNFC4xmKDEkVzKBowR1jmqOvfzX3PCr/8O+dQUWlwPX1KXkdDYjnY3g9yGd\n",
       "jeR0NuOaunSgzQa0wGiGHkNyJZNbt4Zqp4+Tr7iHmrpGTjj6iJ6jBO1Tj6F53oXYNy/H3FaFzz6W\n",
       "5hnfSUl0KdlymlpgNEORISky9ZWbOfnKh6ipa+RPD1zPAfNmopS/pyBUsi1gQxF8ENOfPwrxuLBv\n",
       "XRGxOl4wWmA0Q5UhJzJ+v5+zrn2Cmrpd/OmBGzhgnuHkTaRbZDhCrVgitmKJIjJaYDRDmSEhMn3/\n",
       "0f+/K39MUftO9ps1HqX8Pd0iXeMOTMlcoVYsuJ14S/fq9d5YymlqgdEMdbLe8Ss+d4+T95UPNiHe\n",
       "dpZMtTLvqJNjLuodD+FKR5i7WuMup6kFRjMcyPqVjHg7epy8tfVNHLTwEUbZC8lxOXoKg/esdLa/\n",
       "nXR/o3AFwP22Ysxdzn69tsOtnrTAaIYLg24lIyKni8hWEflaRM6L9n6vu6snivTs/dcyckRxr3ox\n",
       "qe5vFK4AuKdkaswtUbTAaIYTg2olIyKFwK+ARYAPWC0irymlwjo2NlfWYTab+OOvr2fR/FnGOEHb\n",
       "lGQcsqHoGj3X8MnQf8USSzlNLTCa4cZgW8kcDbynlKpSSjmAfwFHRXrA4/Xx/J0XceDsCSHrxaS6\n",
       "R3W8TdyC0QKjGY4MqpUMMAHYHvS6EuiX7y8iFwAXdL/sOvXK32wssIrdYiLH48fb5lYutw8PQGme\n",
       "lJgEk18pX+B5k4jZr/A3dlzSnMbPEoqRQDY1R8ome7PJVsgue6cn8/BgExkr4A967cfYNvVCKbUM\n",
       "WAYgIiu7vGphZsxLDhFZqVR22ArZZW822QrZZa+IrEzm+cG2XaoBggvXjgd2DpAtGo0mBQw2kVkB\n",
       "HC0io0WkHDio+5pGo8lSBtV2SSnlEJHrgP91X/q5UsoV6Rm6t01ZQjbZCtllbzbZCtllb1K2ilIq\n",
       "VYZoNBpNPwbbdkmj0QwxtMhoNBoARCRPRKaletysFZl4jx9kGhGxicgyEflKRLaLyE+7r18uIjtE\n",
       "ZKOIHDPQdgYjIlYRWS8iv+1+PZhtLRaR50WkSkQ2d9s+KO0VkZ+JyKbu39dLu68NGltFpEhEXgFq\n",
       "gauDroe0UUTuFpFKEflCRPaNOoFSKuu+gEKM0HYFUA44gFEDbVcfG8uAUwDBSLyqBQ4Dvuq2fxZQ\n",
       "DVgG2tYgm28GlgO/BaYOclt/D/z/9s41xKoqDMPPi4pTWZC3HyVUZJG3skDoQmFSEWNUWlaKEZFR\n",
       "f0yzApMIKRECs5IIf2QZSpRhQikFY2Rg90IJUrwbKWGpXbzj5e3HWlPHwxznYntmT/M9fw7zcc53\n",
       "3llnz3vWXnuvd57J41tXVr3AhcB24Kx8TPwJDCmTVqAX6c76ScDrudbkeAKjgNWki0Y3A2ub699Z\n",
       "ZzKt3n7Q3tjeY3upE7tJpngDsMT2PtvrSAdf898E7YCkQcAIYEkujaG8Whtvb5idx/cw5dV7ND+e\n",
       "IP1h7gPqKZFW2/ttfwIcqyjXGs+xwELbx2w3AP3y51GTzmoyLdp+UBYkDSV92/alhLolCZgHTKko\n",
       "l3mMhwDbgKV5Kj+Hkuq1vZM0Q/wKWAlMIN1kWjqtVdQaz+r6TprR3llNpkXbD8qApL7AIuBByqv7\n",
       "UWCV7c0VtbJqBehPmsJPBq4CrgNup4R6JZ1DMpYpwFzgSco9to3U0thq7aW6Ga8V/AKMrPh5APB1\n",
       "x0ipjaRzgeXADNvf5sWzMm6buB84W9I4oDdp/WAe5dQK8Cvwve0dAJIaSAd6GfVOBH6wvQpYJWkM\n",
       "aQ2xjForqbXFp7p+HmmWU5POOpMp/faD/A32ITDL9ke5vAK4T9KZkgaT/qDXdpTGRmxfa3uY7eHA\n",
       "s8AykjmWTmvmK2CwpPMk9QRuAvZTTr2HgeGSeuS8pEtJp01l1FpJrWN1BfCApG6SbgY22t57qkad\n",
       "cibjtm0/aG8eA64EXpb0cq7dAiwGfiQdfJOcl/LLhu3vJZVSq+0DkiYDDUBP0kLki9lwyqZ3MemK\n",
       "zFbgEPCW7c/LNLbZ/NaQriTVSRoJPEwTx6qkZaSrpFuBPaRTwVP3L8fnEATB/5XOeroUBEEnIUwm\n",
       "CIJCCZMJgqBQwmSCICiUMJkgCAolTCYIgkIJkwlOG0nbJQ3oaB1NIWmkpJUdraMrEybTBZHknMOz\n",
       "Q9KXkkZ3tKZqJM2UtCdnxWySNLajNQVto1Pe8RucNsdtDwTIt4wvktTL9rsdrKual2zPyjEUqyV9\n",
       "YPtYs68KSkXMZLo4OStkAvAC/BPBOD/PHjZJeiTXTzrtkLRQ0sSKVuNzqt4WSTfm5wyT9F1OhFsp\n",
       "qVeub5c0Q9L6HNUwqBmN64EDwLn59W/n99ksaVSuzVRKIvxU0i5JU6v7SHpa0seSup3GkAWtJEwm\n",
       "wPYG4AxJ/YHppBnupcDVwBOSLm9Bmz62BwMPAQty7Qgw2vZFwB/A3VXvOwh4D3j8VI0l3QLstv1b\n",
       "Ls23fTEwlbShs5ERwG3A9cAsSd2reowH7nHFvywOiidMJmikOynFrR6YlxPn9gBLOTlWoxYLAHKk\n",
       "QQ9JfUjRAGMlvUHKfamMCGg8NfsMuKBGzymSdpFyWOortUqaC0yr6rnc9gHbG0kxl/1y/XzgVeAO\n",
       "23+14HcJ/kPCZAIkXQXssv07yWxOVD3lOCmasfI0o0fVcyrXSupIO47fJGXczibNWFTxnCP58WhV\n",
       "30peAQaS8lfqs9ZbgTnAO6QAqKZ6Vvc9lB9rmVlQIGEyXRxJVwAL+TelvgGYrERv4E5S/slPwGWS\n",
       "ekqqA66pajUu97sL2GL7IDAUeJ8U0dimDGbb+0ipgjNzdtBQ4Gvb35ByZFrCXuBe0gL3JW3REbSd\n",
       "uLrUNekmaTNpxrENmGa7cVH3OeA1YAtpBvB8XrNB0iLgC1LGyMaqnn0krQMOAg/k2lxSANZPwPq2\n",
       "irX9s6RXSGl9TwErJG0gGVhLe6yRNB1YLunqPGsL2oHIkwmCoFDidCkIgkIJkwmCoFDCZIIgKJQw\n",
       "mSAICiVMJgiCQgmTCYKgUMJkgiAolDCZIAgKJUwmCIJC+RsIpzzBTviXLgAAAABJRU5ErkJggg==\n",
       "\"/><img style=\"margin:0\" align=\"left\" src=\"data:image/png;base64,iVBORw0KGgoAAAANSUhEUgAAARkAAAEnCAYAAACdYDfKAAAABHNCSVQICAgIfAhkiAAAAAlwSFlz\n",
       "AAALEgAACxIB0t1+/AAAADl0RVh0U29mdHdhcmUAbWF0cGxvdGxpYiB2ZXJzaW9uIDMuMC4zLCBo\n",
       "dHRwOi8vbWF0cGxvdGxpYi5vcmcvnQurowAAIABJREFUeJztnXl8lNX1/99nJpnsCYR9F1GQLSCi\n",
       "orjWqhUVy6bW5dddW7VFRepW97UIaq3tt7VabW2tiqBWxYrWat0VUPZ9J8kkJCH7PnN+fzwzMAlJ\n",
       "ZjLzTDKT3Pfrlddk7vM89zlPMvnk3HPPPVdUFYPBYIgWjs42wGAwdG2MyBgMhqhiRMZgMEQVIzIG\n",
       "gyGqGJExGAxRxYiMwWCIKkZkuhEi8pKITItCv31EZKOI9BeRH4iIisjPm51zhK89PUhfu3znBX6V\n",
       "BBx3isg9IpIvIrUi8lsRcYjIRyJyht3PZoichM42wGAvInIi8I9mzfer6nNY/1Qam53/AHB+iN3/\n",
       "S1XvbKH9YeAJVXWLCEAVcK+I/FNVS9tjv6oe0cy+hUBas3udBpwO5AFHqapXRH4GLBWR0arqbc89\n",
       "DdFFTDJe10dEvgVcDJwNbAByfYeeVdUvAs5bBgxsdvlOVZ3RRt99gDXAkapaIyI/AK4DioGNqnq9\n",
       "77wjgJ1AhqpWhmh3ArAXmKmqn4nIIF8fo1V1ewvnvw38n6r+K5T+DR2DGS51DzYAz2H953/L931f\n",
       "YLhvqPEH33ljVHWi7/jTwGRgNICI/KmVvs8CPlbVmmbtNwBXicgxLV0kIp+IyAVB7D4XqFDVz3zv\n",
       "zwe+bElgfLwFnBekT0MHY0SmiyEiL/riGge/gDdU9XOgDljh+74cqMf6DIQSp2ltSDUBWNW8UVU3\n",
       "AH8CHmvpIlWdqqpvBrnnD4DnA96PBvJE5BURqRaRNSIyNeD4Kp89hhjCxGS6GKp6qYgkAVuBcapa\n",
       "HnB4EFDg+z4VqG1+vYh8A/QBFPhJCLfshTWEaYm7ga0icj6wPqQHOGRHT+ACYH5AczrWkO9SLAGa\n",
       "DywWkSNVtRYo8tljiCGMJ9M1mYk1dBgqIhcDiEgK1hDJ7TsnhRZExjdcegQrwDo5hHvVAkktHVDV\n",
       "MuA24FEgsX2PwPewhka7AtqKgPdU9R1fXOc+oDfgH5K1+EyGzsWITNdkLvA4VvD1fhFxAGdg/dE2\n",
       "+M5JBZrHUfyezHzgFmBFCPfKBYa0cfwvQAVwTajG+/g+8LdmbZuAHgHv/Z/fKt/rYA4FtQ0xghGZ\n",
       "LoaIXIcVa+mPNdWrwEXA9cBLAaemcOiP08+HqjpRVQep6mBgEvD3ILf82HefFvFNJ/8SuLodzzAa\n",
       "GA8sbnZoMTBRROaISAZwP7AO8AeCTwM+CfU+ho7BiEzXQ7A8mFnACCxv4MfAEcDfxSLVd2x/4IWq\n",
       "+v1m772qen+Q+30GZPuEoUVU9VNgSRMj255d+j7werN4EqpaDcwG7gXygRys6W2viCQClwAvBLHX\n",
       "0MGYPJkujoj0BTYC38HKZzngO/QvX5DYCewIaG+NMarqauUe3wNmqepsm8xuNyLyC6xAd8gek6Fj\n",
       "MLNLXRxVLRSRyarqnwFKFRFR338XVfUAw4L1IyL72rjHP0Wkp4j0VdVCeywPHbHSjF3AvI6+tyE4\n",
       "xpMxGAxRxcRkDAZDVDEiYzAYoooRGYPBEFWMyBgMhqhiRMZgMEQVIzIGgyGqGJExGAxRxYiMwWCI\n",
       "KkZkDAZDVDEiYzAYoooRGYPBEFU6TGREJEVERnbU/QwGQ2wQdZERkUwReQ2rtuyvAtrnisgeEdks\n",
       "IucFtD8sIvtEZK2IHBdt+wwGQ3TpiFIPXuB3wJvAFAARGQFcC4zFKt34nogMA04FTsEqsHQm8Aww\n",
       "sQNsNBgMUSLqnoyqVqrqf2i6c+EM4GVVrfBtnbELOA6rAPZzqtqoqu8CfUSkf7RtNBgM0aOzilYN\n",
       "warN6mcfMMDX/npAe66v3R3QhohcBVwFkJaWdtwxx7S4f5jBEJN4VWnw2FvHSRqqcdaVgbcBHIl4\n",
       "krLQxNTQrvXU46ivQBoqwZGAOpNRcdDYUM/23CLq6uqLVLVPuLZ1lsi4sIZRfryAp432JqjqU8BT\n",
       "AJMnT9YVK0Ipqm8wdD4VtQ3sr6iztU+X+2t6fPMnGpN7oK4spL6MhNpSSideTX3/Y9u81lmRR9rO\n",
       "5TjLdiAIKoKzoYbdCcOZecMinA4B2B2JfZ01hZ2PtdGYn8FYex43bx+I5eUYDHFPNAQGIG37Mktg\n",
       "krPB4QRJhPoyen7xCKnb38ZZkXfwXGdFHqnb3yZ93fOkbn+blN3/xZOUgcPbgCakQkIquRUeZv3y\n",
       "IfL2H+CfD10bsX2dJTJvAZeKSKqIjAGygW987d8XEaeInA1sUdWSTrLRYLCNaAkMgLMqH3VlASB1\n",
       "FSSW7QBHEtJYizRWW55KRd5Br0Uaq/Gm9kEaq0nO/RhprMPrykQ8tXg8Xi554DXyiip44ZEbOeHE\n",
       "KRHbF/Xhkm9/nK+BDCBZRM4Afoq1n896rB3/fqKqKiKvAqdjVc8vBi6Ltn0GQ7SJpsAAeNIGIPVl\n",
       "aHI2CdUFqNMF3nq8Kb1QVwYeIKlwtXVuUgbqygBAPA046qtJ2/IqDT2PxlFfTkJqH+68fCqpSU5O\n",
       "OGYgVX0j31o87guJm5iMIZaJtsBA05hMYtleVBRnQzVVw79DY88jQb04qq0ttrypfUAcOGpKSC74\n",
       "GvV6SCzdzh7HYL5au5PpJ4/E4amlZtBUaoadiSdjICP6ZqxU1VC2LG4RsyWKwRAlOkJgAOr7H0vp\n",
       "xKtJ274MaaxBXRmHBAaQhiq8Kb0Pfq+uDBLLduJJTEEQ9jiHMv2e1ygoqeCk4yeQeMpNeDIG2maf\n",
       "ERmDIQrYJTDOijySClfjqCnCm9KbOt/wpXlbff9jqe9/7MG4iycpA9SLNFThrKugauBJANYxQGrL\n",
       "ICGJgv1FXPjAO+SVVPPCY3eQOaQ3lTYKDJgFkgaD7dgpMM0DtembFpOxcXGTNn9gF8CTMZCq4eeg\n",
       "Cak4qvejCalUDT8HT8bAJscEyD9QwQUPvENeUSkvPP5rpowdetDjsRPjyRgMNmLnECmpcHWTQK26\n",
       "MnDWFqOAukYfbPMHdqt9HognY+DB75vjP1bXdwJv/vYO8ooO8MJjtzNlzOAmHo+dGJExdF/KciF3\n",
       "FVQXQWpvGDQJsgYFv64V7I7BOGqKQJy4SrYgdeVoUiaOmgOoK73JeZqYdjCw2xqBwy5Pci/q+03k\n",
       "4rn38a1vncEwVynOok14k7NIKlxNHdgakzHDJUP3pCwXNi+DxmpI72u9bl5mtYdBdIK8DlLyvgBP\n",
       "HZqUBZ46nFX50Nj0PoGB3ZYIHHblVycw/arb2bb8GQB6jz8LXBnU9z6Ghp5HHTb8sgPjyRi6J7mr\n",
       "IDkTkjKt9/7X3FXt9maiOYvkFax0fwRB8CZlW0l29RVoYtphgd2W8A+73OWNzLr2bvILS6jyJrSY\n",
       "O9PS8CtSjCdj6J5UF0GzYQeudKu9HUR3mtpL3YATUacLR30p6nRRM+wMGvqMaTGw2xqOmiLcZfXM\n",
       "uuZO8gtLeOHxX3PCccfiqCnCUVOEJqY1OV8T06yhmk0YT8bQPUntDfWVhzwYsN6nhj67Eu08GG9K\n",
       "b6Sxmrr+h2q3SX0FnqSebV4XGH8BB2XbVjDn7iW4S6p5ccENHD9xNFJfcXCI5SzfR0LN/oNxn8aU\n",
       "Pngywo9NNcd4MobuyaBJUFsOdeWgXuu1ttxqD4GOSLSr6zsBZ10FUl9h5bzUV5BQvo+E6qJWp7AD\n",
       "4y+IkyT3l2Q7Khk/pCeLb7uA0/pV4Czbg7Ougrq+E2hM60+KewVSV4a6MpG6MlLcK2hMs8o4ebyR\n",
       "rwgwImPonmQNglHTICEVKgut11HTQorHdFQmb0s5L56U3jRkDbZiKOKwYihJGQfjK4HT3sW71lPc\n",
       "kIIjewjPzJvOlAmjwdNAQlXBwSFWQpWbmv6T0aQsHA3laFIWNf0nk1DlxqvKwuWbI34OM1wydF+y\n",
       "BsVUkLclmue8pK97vuUYim8K21FThDe1DwVFB5hz+9/o3SODNx+8EqHOGnb51jH5YziOmiI8mYPx\n",
       "ZA0N6NCLVO3nt+9t5Z31BRE/gxEZgyFEOlpgWsKb0vvg+iM/gVPY3pTeFObnMuv6BbhLqvjttd9B\n",
       "vHWAgyT3ShxVhXhTeh8cXiWW7cHhXoU3rS8NWcPxpmRDfRWPbhvAGzvyufT4IfwmQpvNcMlgCIFY\n",
       "EBhoOU7jj68A7GUAs375IPmFxfxzwfWcPDyVxIo8HHVlSF0ZOBNpTOtHxsbFpG9aTGNaP3AmInVl\n",
       "JLtX4Sjdwx/WJ/DSjkRmTRrET08dHrHNRmQMhiDEisBA22uTAG6+837yiit54bHbOXHccOr6n0Bj\n",
       "ci80wYUmZVHXbxKerKFIXTHO2mI8WUOp6zcJTcpCtZGnNyfxt109mD5hINecMQIRidhmM1wyGNog\n",
       "lgTGT1trk+5d8Dj5ufsYf8IUKn1t6eueP1hHxo/D04C/lpQ3JZu6lGye2+TgqdxEpo3rzy/POsoW\n",
       "gQHjyRgMrRKLAtMShQVuFj10Lx6Ph4GDBnPcCU1LZvrjOE3anImQ4Dr4/oWtTv64IZFzBzdyw9kj\n",
       "cdgkMGBExmBokXgSmCtmns9zf/oDO7dvbfGcluI4mtQLT3IvpL6CJRtreGJtAudk7uGu0W5cVfm2\n",
       "2mhExmBoRrwJTH5uLs++uJSjRra8/1hLcZyK0XOoPGYOr+908MjGHpzRYz93T3HiTEo2CyQNhmgS\n",
       "rwIzecrJbZ7fUhxn+YYCfrO+Jyf1qefekzNxOEHBLJA0GKJFvAgMwO6d2yk9cCAkgWmJDzYXsuDf\n",
       "mzguu46HTvLgch46ZhZIGgxRIF4Epq6ujqSkJI6fMpUPvlpLalpa8Iua8fHWIu5/ayNjB2bxyLHV\n",
       "pHirUVpO7rMD48kYuj12C0zzXRqbxzeCHW+NwgI308+aykt/fw4gLIH5fEcx9765gWP6Z/DQzHE4\n",
       "Brad3GcHRmQM3ZpoCEzz4t+trZJu6Xhr+GMwefv2MeKokWHZtnL3Ae7613qG907j4Zk5pLoSgib3\n",
       "2YEZLhm6LdEYIrVU/DswkBrseEu0N8jbEqv3lvLr19YxpGcqC2bnkJ586E+/reQ+OzCejKFbEq0Y\n",
       "TLBKc+2tRFdTXR2xwKzLLePWV9fSPzOZR+bkkJWS2O4+IsF4MoZuR1Rr8oawSrqt481JSU3l0it/\n",
       "SM7ESWEJzCZ3ObcuXUuvtCQWzsmhZ6or+EU2YzwZQ7ci2rNIwVZJBzvup7DAzdrVXwPwo59dF5bA\n",
       "bCus5OYla8lITmTRnBx6pSdF/oBhYETG0G3oiGnqYIHUUAKthQVuLp8xjZ/9v0upq60Ny46dRVXM\n",
       "f2UNyQlOFl2cQ9/MZFueLxzMcMnQLYjGLFLz/ag9IezgGOy4X2DceXk8++JSkpIPF4e27g2wp6Sa\n",
       "mxavJsEhLLo4hwFZKRE/UyQYT8bQ5enoaepwaS4wLQ2Rgt07t7SGeYtXowoL5+QwuGdqpz4TGE/G\n",
       "0MXpjGnqcPnzk4+3KTDB7r1Ds5n38moaGr0sungCw3qFnqzXVr+RYjwZQ5els6apw2X+HffyyrL/\n",
       "tBnkbe3eRQcOMO/l1VTVN7Jgdg4j+qS30kP7+rVjDZMRGUOXpCOmqQMJd71PYYGba390BUX79+Ny\n",
       "uRg1Zmy7711SUc21KwdQWt3Aglk5jOyX0crV7evXrjVMRmQMXY7OnqYOFX8M5n/vv8fe3TvDundZ\n",
       "ZSXXfZZBQa2Th2aOY/SAzOCdhNCvnWuYOlVkRORGEdkqIjtF5Fpf21wR2SMim0XkvM60zxB/xMI0\n",
       "dSg0D/IeO/mEdt+7sqyIX3zRk321Sdw/Yzw5g3uE+0hRXcPUaYFfETkC+CUwFkgGdojIB8C1vrYh\n",
       "wHsiMkxVGzrJTEMcES/lGkKZRWoLT8ZA9rv6ctMra9hZWcl9F41j0tC298cOtd9orGHqTE/GLxxe\n",
       "LLGrAKYBL6tqhapuAHYBx7V8ucFwiI4UGDume1PT0sNei1RT7+HWpWvZVljJnReM4YTh2e3uoyPp\n",
       "NE9GVXNF5G7gcyyxuwyYBawLOG0fMKD5tSJyFXAVwNChQ5sfNnQzOtqDCXcKu6S4iMysHvTt15/X\n",
       "ln8Y1pYjtQ0ebn9tLRvyy7njgjFMPcq+4lItkZEc+WLKTvNkRCQTS1jmAo8CNwEuLM/Gjxer5GgT\n",
       "VPUpVZ2sqpP79OnTEeYaYpTOGCKFM91bWODmkgvP4Y75cwHCEpj6Ri93vr6e1XvLuPW8Yzh9ZHQ/\n",
       "+xnJifTJiHy9U2cOl64A1qjqB6r6rK/NDQTugD4Y2Nvhlhnigs6KwbR3ujcwBjPrksvDumeDx8vd\n",
       "b6xnxe4D3HTuKM4a3S+sfkLFLoGBzhWZWmCiiCSKSAYwEngPuFREUkVkDJANfNOJNhpilM4M8rZn\n",
       "ujfSIC9Ao8fL/W9t5PMdJVz/7aM5b1x/Ox6jVewUGOjcZQV/B74F7ABqgL+q6ici8ndgPZYI/UT9\n",
       "e2kaDD46exbJP92bVLgaR/V+vCm9qRp40mHTvarKVVdeEpHAeLzKQ29v4qOtRVx75gimT4heBTuw\n",
       "X2AAJN7/hidPnqwrVqzobDMMHURnC0x7WfH5pwBhCYxXlUfe2cw76wu46tThXHpCdCc5WhMYEVmp\n",
       "qpPD7ddk/BrihngRmMICN0tfegGwxCUcgVFVHn9vK++sL+AHJw/rNIGxA7MK2xAXdIbAhFNfxR+D\n",
       "KcjP59QzzqJPv9ADtP77SXURC7cN4M0diVx2whCunDIs0kdpk2gKDBhPxhAHdJbAtDfhLjDI+8w/\n",
       "X2m3wKTtXA4N1TyxYwCLdyRy+dAyrpqQFNZ0d6hEW2DAiIwhxumsIVKThDtxWAl3SRmt1lcJFJi/\n",
       "vLiE46dMDet+f9rWg39sS2TWkR5+Mb6B5P1r7HicFukIgQEjMoYYpjNjMO1NuPvff9+jID8/LIHx\n",
       "3++Z7Vk8uzmBC4d5mDehEVz27kkdSEcJDJiYjCFG6ewgb6hbl6gqIsLsS6/gtDO/Td9+4eWwPL+v\n",
       "P09tTOS8oR5umdSIQ0Dq7d2T2k9HCgwYT8YQg3S2wEBoCXeFBW5mnHvGwWnqcAVm6apcfrfexdn9\n",
       "Kvn1uAM4ic6e1NDxAgNGZAwxRiwIDASvr+KPwWzfshkl/FyzN9fk8eR/tzH1qF7ccuFEnK7o7Und\n",
       "GQIDZrhkiCFiRWD8tFZfJdIgr5931rt57N2tnDg8mzvOH4MkOKjOGhT8wjDoLIEB48kYYoRYE5jW\n",
       "KCkuskVg3t9UyCPvbGbS0B7cM30sroTo/Sl2psCA8WQMMUA0BSaSDctc7q9J274MZ1U+nrQBVI2Y\n",
       "Rmbv8Rx3whRmXXp52ALz0dYiHly2kXGDsrjvu+NsF5jAZ05OdJGZ7ISaEqgphZQe0OtoGDQJouQ1\n",
       "NcesXTJ0KtEWmLSdy618l8Q0pKEKZ11FSLEOl/trenzzJxqTe6CuLAoK8kioKyf5jOup739s2DZ9\n",
       "tr2Yu/61npH9MlgwezypLnv/zwc+c4p4yCz8EhqqQFyQkgleL/QZDU4njJoWktCYtUuGuCXaQ6T2\n",
       "JtQFkrZ9mSUwydm4S6uZfu8bXPzbj0nd9lbY9ny1q4S731jPiD7pPDzLfoGBQ8+cnN6TzJq9kJoN\n",
       "DfXQUAmpvSApDaoKIDkTclfZfv+WMCJj6BQ6IgYTyYZlzqp81JWFu6SCi25/nrzich748bkkVLvD\n",
       "suWbvaXc+fp6hman8ptZ40lPik6kwlFTRHJaFlkpiVBXDgnJoI3g9RWYTEi22l3pUB2dRL/mmJiM\n",
       "ocPpqCBvqAl1LeFJG0BBQR4X3fsGecXlLL77Mk46Mh1PYvs3TluXW8Ztr66lf1Yyj8zOITMl8rq5\n",
       "rZGU1Y8sZx2QBEmZ0FgLkgD+5U+NtVZ7fSWkRrc+sB/jyRg6lI6cRYpkw7KqEdO4+c//Ia+ojMV3\n",
       "XspJR6aTUFtK1Yhp7bJhY345tyxdS+/0JBbNmUCPVFe4jxOUjOREskacCLXllrfSczhUl0CiCxLT\n",
       "oboY6qogrZ91zqBJUbMlEBP4NXQY8VKuwU/5+vcp/OIVpgx2HJxdak/Qd1thJTe+vJqM5AQev2Ri\n",
       "VKeRm0xTl+Va8ZbqIhAHqEY0uxRp4NcMlwwdQmflwbR3w7LCAjdP//63zL/jXjLHfovMsd8inMjF\n",
       "zqIqblq8mlSXk0UXT+g4gQFLPDpoejoUjMgYok6sJto193L2MoDLr/yRtavApVcwaszYsPrdU1zN\n",
       "TYtXk5jgYNGcCfTPTA7LnlC8rs5OtAsFE5MxRJVYFpjAolSF7jwuu3gW7rxcnn1xadgCk1taw7xX\n",
       "rCnyRbMnMKhnSlj2hFIkKx4EBozIGKJIrAoMNM2hKSguY+b1C8grKuOFR28JqyYvgLu8lnkvr6ah\n",
       "0cvCORMY2is1LHtCyemJF4EBIzKGKBHLAgNNc2jyC4upqq7lhcdu56SR4U3r7q+oY97Lq6mu97Bg\n",
       "dg7De6cFv6gVe/y0ltMTTwIDJiZjiAKxLjBg5dDUVJSQktmbiWOO4rMlvydF6vAmhO59+Cmpqmfe\n",
       "4tWU1TTwyOwcRvZrfy5NqDk98SYwYDwZg83Eg8AA7GUA5/zoDp7+xxJQLylSF1aRqNJqS2CKKut4\n",
       "eOZ4Rg/IDMueUHJ64lFgwIiMwUbiRWAKC9xceuWPyCuuZPyYY8IuElVe08CvXllLflktD3x3HOMG\n",
       "ZYVtU7AiWfEqMGCGSwabiFWBaWua+tkXX2X8lJOpDPHawCnlyrpGbl6ylt0lVdz/3XEcO7RnxLa2\n",
       "ltMTzwIDxpMx2EAsC0zgtHBdVSmXXzL74DR1W7NIbU0pV9c3csuStWzbX8ndF47l+COyo/YM8S4w\n",
       "YDwZQ4TEqsBAs2lhICmjF1dfch5HjTiS8UGmqZtfq64MPIDmreb2bwawyV3OnReM4aQRvaJmf1cQ\n",
       "GDCejCECYllg4NC0cEHRAb74ZiMAl886P6Rp6pamlGsdadz8mbA2t4xbzxvNaSP7RMVu6DoCA8aT\n",
       "MYRJrAsMWNPChfm5zL7hEUrLKvnitf8jzVEfUqmH5lPKDV647XMnXxS7uPk7ozhrdN+o2d2VBAaM\n",
       "J2MIg3gQGLCmqWfPfYi8giKefmgeaY76kKepA6eUGz1e7vgcPil0Me/Uvpw7Nrz9lUKhqwkMGJEx\n",
       "tJN4EZjCAjff+38/Jreo4mAmb3umqf1Tyg2OVO75wssH7iTmntyH808YHTWbu6LAgBkuGdpBvAgM\n",
       "wN+e+RP5ublBp6nboiF9APdvK+dddwFXn3YkFx0/xHY7/XRVgQFTtMoQIvEkMAAej4cd27Zy9Khj\n",
       "wrreq8qj725h2Vo3P5p6BFdMGWazhYeIdYHpkN0KRKRfC23HhXvTgD6yRORFEckVke0i4hKRuSKy\n",
       "R0Q2i8h5kd7DEDnxIjCFBW5+esUc8vNycTqdYQuMqvLk+9tYttbNFVOGtltgnBV5pG5/m/R1z5O6\n",
       "/e3QyzWU5cKGN2DFs9ZrWW7LF4V6XowQakzmExEZ738jIrOAN2y4/++AdcBgYCwwBLjW9/0M4BkR\n",
       "iV7VZUNQ4klgLp8xjc8//oj83H1h96Oq/PHDHbz2TR4XTx7MD08+ol3Xt6cuzGECs3kZNFZDel/r\n",
       "dfOywwUk1PNiiFBF5kfAUhG5UERuA+4DzozkxiLSHzgZeFAtarGE5WVVrVDVDcAuIGKPyRAe8SYw\n",
       "1lKBpUw6/sSw+/rLJ7tYvHIfM44dxNWnHYmIBL8ogFDrwhw2RMpdZe2FlJRp1eVNymx5b6RQz4sh\n",
       "Qgr8qur/ROR0YDGwHzhBVcOJpQUyFtgJLBGRMVieUSKWZ+NnHzCg+YUichVwFcDQoUMjNMPQEvEq\n",
       "MOEWnAJ4/rPd/OOLPVyQM4DrzhzRboEBK4nPm9o0SU8T03BU7z/4vsUYTHWR5ZkE4kqHysLwzosh\n",
       "WhUZEWkAmkeFHb62AyKiqhrJ/g59gTHAicAB4D2gP7Am4Bwv4Gl+oao+BTwFVuA3AhsMLRAvAgOQ\n",
       "kJBAz+xePPTokxEJzItf7uHZT3dx7th+XP/to8MSGAheF6bVIG9qb2svpKSAUhEt7Y0U6nkxRKsi\n",
       "o6rRjoUUAitVdR+AiLyLJSiBZdYHA3ujbIchgHgRmKL9+8nIzCS7V29eemN52KIAsHTVPp76aCdn\n",
       "jurDTeeMwhFBX3V9J1h7UUPT/bcHntT2LNKgSVZsBSzPpL7S2htp1CnhnRdDhJyMJyJTROQSEbnM\n",
       "/xXhvT8HxojIQBFJAr4NVAKXikiqbwiVDXwT4X0MIRIvAlNY4OZ7F53LzXN/DhCRwLyxOo8n/7ud\n",
       "U47qza3nHYPTEX5f0HpdmNQ+w9qeps4aBKOmQUKqNfRJSLXeN9/aJNTzYoiQYjIi8gIwGfgSaPA1\n",
       "K/BCuDdW1SoR+QXwLpAEPKeqi3yCsx6oBX6i8Z7IEyfEk8D4YzAPPfpkRH39e52bx97bypQjs7nj\n",
       "gtEkOO1JgG9eFybkPJhQ90uKsX2VghFqxu9pwFG+GSDbUNW3gbebtT0IPGjnfQxtE48CE2mQ9z8b\n",
       "C3jknc1MHtaTuy8cS6JNAtOcWE+06whC/cl+AIRel9AQN8SLwKgq1/zwclsE5n9b9vPQ25uYMCSL\n",
       "ey8aiyvBCEw0CdWTGQysFpFVwMFPpKqeExWrDB1CLAlMsN0TRYS7HlpIXU1NRALz6fYi7ntrI6MH\n",
       "ZPLAd8eTnOi0w/zDMAJziFBF5q6oWmHocGJNYNJ2LseTlGFlyTZUkbZzOVXDzyG/2sF7b7/FZT/4\n",
       "MeMnhL7ZfUt8tauEe97YwFF903lo5nhSXEZgOoJQk/E+FJEEoA8QWfjd0OnEksBA66UuSzd8wOU3\n",
       "LMSdl8cZZ5/LwEGDw77H13sOcMfr6xmWncaCWeNJT4pOAQIjMIcT6gLJG4FiYAfWDNMe4JMo2mWI\n",
       "ErEmMNByqUt3WT2zr7nzYAwmEoFZu6+M219dx8CsZB6ZnUNGcnRSwIzAtEyoEa9fAkcCbwLHAqcA\n",
       "70TLKEN0iEWBgUNZsn4Kig4w+5o7ySsqjTjIuzG/nFtfXUufjCQWzplAVqoRmI4mVJGpV9VirPyV\n",
       "iar6OfCd6JllsJtYFRg4fPeWxdmMAAAgAElEQVTEL1euwl1Uyl+f+0tEArOloIJfLVlDj9REFs6Z\n",
       "QHZaJKtgWscITNuEVLRKROYCX2ENmd4HSoAdqnpRdM0LjilaFZxYFhg/zoo8Et1fk1BXgjelN/kJ\n",
       "Q8gaNi7s/nbsr+TGl1eT4nLy+CUT6ZeZbKO1h+gOAtMhRatU9beq+qmqbgZygB8AV4R7U0PHEQ8C\n",
       "A5Bf7eDsqx/k30WDqB5xXkQCs6e4mvmvrMGV4GDRnAlGYDqZoCIjIieIyCxf/Rd8w6ZewMpoG2eI\n",
       "jHgRGH8m764d20lOjkwQcg/UMG+xVbtl0ZwJDOyRYoeJh2EEJnTanMcTkfuAmcAK4GERuQK4BqtE\n",
       "Q6QLJA1luVaxoeoia6n+oEm2rUmJNYFpLdku1KUCbSXr+Y+5Sw5w01cDaNREHr3kWIZkp0blWYzA\n",
       "tI9gnswVWAWqvg98C/g3VumFE1XVBEIiIYplFGNRYFoqSVmxd0PIAtNaSUv/scKKWq5ZMYCaRvi/\n",
       "iXs4KqksKs9iBKb9BMtIalDVKgBV3SsiZcCdquqNvmldnMAyinDoNXdVRN5MrAkMtJ5s16d2J6ec\n",
       "cRbnT5/R5ixSa9f7S1oWaCbXftGDsnrhyVMbGJGWhBaubrIS2g6MwIRHMJEZJCLLA973Bv7tr99h\n",
       "1i5FQBTKKMaiwMDhJSkLig5QX1/PsKxq7nrwkXZfD4dKWpbUObh25UCKaoQnTmlgdE9FtWm5Szsw\n",
       "AhM+wURmWodY0R2xuYxirAoMNC1JWVB0gFnX3Emi08F7f1vY7uv9SEMVB5y9uW5VMvlVwmNTGxjf\n",
       "Sw8eC2W/61AxAhMZbYqMqn7YUYZ0O2wsoxjLAgOHSlLmFZUy6/oF5BcW8+KDP6NxQGgLHlsqaVld\n",
       "WcUv1w1iT1U9j07M47isRFSblru0AyMwkWP2wu4sbCqjGOsCA1aluJ1pE5k5dwH5BcX849HbyJl+\n",
       "TUh7UvuvDyxpWampXLthFNtL6rl7+ljGTz7tsHKXofbdFkZg7MHshd2ZRFhGMR4Exs99jzxBflEZ\n",
       "f3n5dXKmTD18C4og+Eta1jR4uGXJWjbtL+OuC8cy5cheeMAEeWOYdu2FLSIZwEhgq6qWR82qdtBd\n",
       "lxXEk8AAlJUeYNeO7UyYFHZ2OnUNHm5/bR3f7C3l9mmjOfOYvsEvCgMjME2J6rICETlfRL4RkWdE\n",
       "5ASsjdceBdaJiAkKdxLxIjCFBW7uuvlG6mpryerRMyKBqW/0ctcbG/h6Tym/+s4xRmDiiGAxmUXA\n",
       "dcCHWDs8nqeqp2OVelgQZdsMLRBPAnP5jGksfekFtm/dElFfjR4v9725gS93lnDj2SM5Z0w/m6xs\n",
       "ihGY6BAsJpOgqh8DH4vIfb79qVHVPb6tSwwdSLwJjD+Td8z4nKA1fFvD41UeWLaJT7YX88tvHcX5\n",
       "OYftWmwLHSowUVxOEosEE5keInKb7/uUgO8F6BE9swzNiVeBmTzl5DZr+LYlNB6v8pt/b+LDLfv5\n",
       "+elH8t1jo/OH2OECs3mZle2d3tdKXdi8LOY3aIuEYMOl3wGJvq/fB3yfAES2s5YhZOJFYAAOFBdT\n",
       "X1/fZC1Sk2UB4rCWBSRlHFwW0BJeVR57dwvvbSzkJ6cMZ87kIVGxt8OHSIHLScRhvSZnWu1dlGDJ\n",
       "ePd0lCGGlokXgamsrCAtLZ1RY8by7qercLkOVaFra1lAS6gqv/vPNpatc3PllKFcduLQqNjcKTGY\n",
       "KCwniXVCqSdzsoh8ICIVInJARN4UkYkdYVx3J14EprDAzYxzTucPj1vLBAIFBg6v4Qutp/6rKv/3\n",
       "4XZeX53HpccP4QcnHxEVmzstyOtfThJIBMtJ4oFgU9hTgL9gbRvbDxjqe/+SEZroEk8C44/BnHjS\n",
       "1BbPaV7DV+orcNZVUNd3QpPzVJWnP97JKytzmTlpED89dTj+xbh20qmzSIMmWctH6spBvdZrbbnV\n",
       "3kUJ5sncC/xQVZerarWqVqjqUuAqzH7VUSMeBaatejDNlwW0lvr//Oe7+eeXe7lwwgCuPWNE1xMY\n",
       "sG05STwRbHZptKp+1rzRt9nb36NkU7cmXgSmvr6e/zf7wpD3pvYvC2iNf365h+c+3c13xvZn7llH\n",
       "d02B8RPhcpJ4I5jI1LRxrNpOQwzxIzBgxV2uuX4+AwcNjmjbEoBXVu7jzx/t5Kxj+jLvnJE4urLA\n",
       "dEOCicwwEWkpXVOA6MwpdlPiRWAKC9xs3bSRqaefyfRZF0fc3+vf5PGHD7Zz2tG9ueW8Y3A6jMB0\n",
       "NYKJzMgOsaKbE08Cc/mMaRwoKeaDFetIT88IflEbvL02n9/+ZysnHdmL288fbQSmixIsT2Z3RxnS\n",
       "XYk3gfHHYCIVmPc2FrBw+RaOP6Ind104hkSn/aWNjMDEBsG2RNkKtFQLQgBVVePpREC8CkykMZgP\n",
       "Nu/n4bc3MWFID+6ZPhZXghGYrkyw4dL/gNOA5cCzgL3Vmbsx8SIwAC//42+2Ccwn24p4YNlGxgzI\n",
       "5IHvjiM50WmTlYcwAhNbtPkvRFV/DEwGtmIl4T0ADFbV3XYMpUTEJSIbRORp3/u5IrJHRDaLyHmR\n",
       "9h+rxJPAAFx7w3z+9Z+PIhaYL3eWcO+bGzi6bzoPzRxPissITHcgqJ+qqmWq+riq5mB5M3NF5EsR\n",
       "ucaG+98G7AIQkRHAtcBYYAbwjIgk2nCPmCJeBKawwM3351zE7p07EBGGjzg6ov5W7T7Anf9az7Be\n",
       "afxm1njSkuyv/GoEJjZp72D4gO8rE4iosIeIjAaOB172Nc0AXvZlFW/AEp/jIrlHrBFPAnP5jGms\n",
       "+uoL9hcWRNzfmn2l/Pq1dQzukcIjs3LISLb/f4cRmNgl6L8TEUnF2vf6aqAK+CNwnao2hHtTsdI5\n",
       "nwB+jlVlD6y8m3UBp+2jFSETkauwljYwdGh0VujaTbwJzMEYzImRbS2yIa+cW5euo29mMgtm55CV\n",
       "agSmuxFsgeTvgTXAROD7qnqGqr4YicD4+BnwgapuC2hzAYHb33qh5aL2qvqUqk5W1cl9+vRp6ZSY\n",
       "Il4EZn9Bga2zSFsKKrh56Rqy01wsnJNDdpor+EXtxAhM7BPMk/k51h/61cBVAetJ/FPY4X5qrgQy\n",
       "RGQOkA2kYXk2gQs6BgN7w+w/ZogXgQFITk1h4KAhPPTokxELzPb9lfzqlTVkJCWyaE4OvdPtFwIj\n",
       "MGHQCaU/gyXjRWXzN1U9+AkWkR9gDZneBJ4XkYXAEVji80007t9RxIvAFBUWkpaeTkZGJs+9/FrE\n",
       "ixN3F1cxf/EakhKcLLo4h76ZyTZZeggjMGHQSaU/gw2X/hjOsXBQ1ZXA34H1wBLgp9qeTaFijHgR\n",
       "mMICN5fNOI/rf/ZDgIgFZt+Bam5avAaHQ1h0cQ4DslLsMLMJRmDCpJNKfwbzVK4SkXoRaQj4qheR\n",
       "BuCndhigqs+p6k983z+oqsNVdbSqfmJH/51BPAnMFTPPJz83l59eMzfi/vLLapj38ho8XmXhnBwG\n",
       "90y1wcqmGIGJgOoiq9RnIK50qz2KBBOZZ1XVpaqJAV8uVU0EnouqZXFKPAqMHUHewvJa5r28hrpG\n",
       "D4/MyeGIXmk2WXoIIzAR0kmlP0PJ+G33se5KvAiMqnL91T+0TWCKKuuYt3gNFXUNLJidw4g+6cEv\n",
       "aidGYGygk0p/2p922U2JF4EBK+5y98OPUl56IGKBOVBdz02L11BSVc8js3MY2S+y1dktYQTGJvyl\n",
       "P3NXWaU/U3vDqFM6d3bJEBrxIjCFBW7eWLqYH/3sOkYeMzri/spqGpi/eA2F5bU8PGs8YwZm2mBl\n",
       "U4zA2EwnlP40IhMh8SQw/kS7c6ZdyJBhR0TUX2VtI796ZQ17D1Tz0Izx5Ay2f0NRIzBdAyMyERCP\n",
       "AvPsi0vbJTAt7WFd7urLzUvXsKu4insvGsvx2TUkbf+8zX2u27sXthGYrkNUku26A/EqMO2Jwfj3\n",
       "sJbGamsP68ZqHNve5bZXVrKloJI7LxjDyb3rDjsnbedynBV5bfbT/JxAjMB0LYzIhEG8CAzA2m9W\n",
       "UbR/f1izSM33sK5xZnDD6oGsd9dw+7TRTD2qd0j7XLdnL2wjMF0PM1xqJ/EiMI2NjSQkJHDWudP4\n",
       "cMVaMrPaHzMJ3MO63gO3fJbIymLh7vHFnDqqz2Hn+Gm+z3Woe2EbgemaGE+mHcSLwBQWuJl+1iks\n",
       "X/YGQFgCA4f2sG7wwm1fJPB5oYPbcio5d0TqYecE0nyf61DOMQLTdTEiEyLxJDCXz5jG3t27yM7u\n",
       "FVFfdX0noDUV3PUFfOx2Mn9cJTP6FTXZwzqUfa6DnWMEpmtjRCYE4k1g7KoHU582gDt25/B+fhLX\n",
       "jzrArKMch+1hHco+122dYwSm62NiMkGIF4EpLyu1VWC8qixavoV3t1Xwk1OGM/3E01vdlzjYPtet\n",
       "ndNEYDqhzomhYzCeTBvEi8AAZGRmce75020RGFXlt//Zyr/Xu/l/Jw3jshPtL3F6mMBsXgaN1Vad\n",
       "k8Zq631Zru33NXQ8xpNphXgRmMICN1WVFQwfcTQ33X53xP2pKr//YDtvrM7neycM4fsnDYvcyGYc\n",
       "NkQKrHMCh15zVxlvpgtgRKYF4klgLp8xDVXl3x99RUJCZL9OVeXPH+1k6apcZk0axE9OGR5xEavm\n",
       "tBiDqS6yPJhAXOnWIj5D3GNEphnxJjD+GEykAgPw18928+JXe5k+YSDXnDGiYwQGDtU5SQpYYNkB\n",
       "dU4MHYOJyQQQrwITaQwG4IUv9vC3z3Zz3rj+/PKsozpOYKDT6pwYOgYjMj7iRWAAFj14j60Cs3jl\n",
       "Pp7+eCffHt2XG88eiaMjBQYO1TlJSLWGSAmpUS9ubeg4JI5rdQMwefJkXbFiRUR92CUw7V1pHC5V\n",
       "lZXs2L6V8ROOjbiv177O5Yn3t3H6yD78+vzROB1NBSbSZ+r0PBgzNR4xIrJSVSeHe32392TsFJj2\n",
       "rDRuL4UFbm6e+3OqKitJS0+3RWCWrc3nife3MXVEL26fdkyLAhPJM8WEwJip8U6nW4uMnUOk9qw0\n",
       "bi/+GMyy119l+7YtNlgLyzcUsGj5Fk4Yns0dF4whwXn4RyGSZ+p0gYFO2wLE0JRuKzJ2x2AcNUVo\n",
       "YtMK/ZqYhqMmsu0mAoO8f3lxCTkTIw+GfrC5kAX/3sSxQ3twz4VjcCW0/DEI95liQmCg07YAMTSl\n",
       "W4pMNIK8oaw0bi/NBeb4KVMjNZOPtxZx/1sbGTswi/u+O46kRGer54bzTDEjMNBpW4AYmtLtRCZa\n",
       "s0ihrEZuL1WVFXi9XtsE5vMdxdz75gaO6Z/BQzPHkdKGwED7nymmBAbM1HiM0K1ml6I9TW3X7FJ5\n",
       "WSkZmVmIyMHiU5GycvcBbnt1LUf0SmPRnAmkJ4fWZ6jPFHMC48fMLkVMpLNL3SbjtyPyYEJZjRwM\n",
       "/xDpnGkXMv/X99giMKv3lfLr19YxpGcqC2bnhCwwENozxazAQKdsAWJoSrcQmUgEpqNyX6BpDOZb\n",
       "Jx9H6va3I77v+rwyblu6jv6ZyTwyJ4eslERbbY5pgeksjPfUhC4fk4lUYKKZ+xJIoMA895enOLN3\n",
       "ScT33eyu4JYla8lOc7FwTg49U1222mwEpgVMbs5hdGmRiXSIFM3cl0AaGxv5wcXfPTiLdOqwxIjv\n",
       "u72wkl8tWUNGciKL5uTQK91eMTAC0womN+cwuuxwyY4YTKhV9iMlISGB62++nZ7Z2Rw/ZSqOdc9H\n",
       "dN9dxVXMf2UNKYlOFl2cQ9/MZFvtNQLTBqZsxWF0SU/GriBvNHJfAikscPOfd5YBcM60Cw9OU0dy\n",
       "370l1dy0eA1Oh7BwTg4DslJssdWPEZggmNycw+hyImPnLFI0cl/8+GMwN113NeVlpbbcN6+0hnmL\n",
       "V+P1Kgvn5DC4Z2qb57cXIzAhYHJzDqNLiYzd09ShVOIPh8Ag75+ff+mwfZHCuW9BeS3zFq+mvtHL\n",
       "I3NyGNYrrdVzw8EITIiYshWH0WkxGRFJBp4AzgCSgMdV9TERmQvMA2qA61X17VD6i2a5huoR59nW\n",
       "Z36Vk8vnPozbXdhmPZj25NwUVdYxb/FqKusaWTRnAiP6pLf6LOEIpBGYdmJyc5rQmZ5MGvAOMAo4\n",
       "DrhFRE4HrgXGAjOAZ0QkaGJHLJdraN7na//+L+68XP767FO2FJwqqarnpsVrKK1uYMGsHEb2y7D1\n",
       "WYzAGCKl0zwZVS0GlvjeFonIXuA04GVVrQA2iMguLAH6vLV+vKrRKdcA1tSxrz3cTF5/n97EdESE\n",
       "q66czXmnHcfQoYmt7mMUKmXVDcx/ZQ2F5bX8ZlYOowccqpFrx7MYgTHYQUzEZERkHJAM9AZ2Bxza\n",
       "Bwxo4fyrRGSFiKwoKLRvOjka5RocNUW4y+qZ+fM72bxjDyLC0GFHRFwCoqK2gflL1pBbWsP9M8Yx\n",
       "fnDWYfeN5FmMwBjsotNFRkR6A88DPwRcgDfgsBfwNL9GVZ9S1cmqOjm7l31Tg9GYss6vcjL7mjtZ\n",
       "s2kHpeVVtvRZVdfIzUvWsru4ivsuGsukoT0POyeSZzECY7CTThUZEekJvAncpqpfAflAYMRsMLC3\n",
       "o+yxe8q6sMDNzLkPk1dYwj8X3siJE0ZF3GdNvYdbl65la2Eld104huOPyLb1WYzAGOym00RGRDKB\n",
       "N4D7A2aQ3gIuFZFUERkDZAPfdJRNdk5ZFxUWWtPU7kL++tdnOWHSxIj7rG3wcPtra9mQX86vzx/N\n",
       "ySNa90rCeRYjMIZo0JnLCn4JHAs8LiKP+9rOAf4OrAdqgZ9oBxe8saNcA0BaejpHHjWShx59kklT\n",
       "To44yFvf6OXO19ezem8Zt007htNH9gl6TXuexQiMIVrEfdGq8RMn6evv/q+zzTjI/oICklOSycjM\n",
       "Cn5yiDR4vNz1r/V8vqOE+eeO4rxx/W3rG4zAGNrGbIkSQxQWuLlsxnlc+6MrsUu8PV7l/rc28vmO\n",
       "Eq7/9tFGYAxxR5ddhd3RBC4VeOjRJ23Z5tXjVR56exMfbS3i2jNHMH2CvcWyQhKYeC/AFO/2dwGM\n",
       "J2MD0dib2qvKwuWbeX9TIVedOpxZkwbbYOkhQhaYeC7AFO/2dxGMyNjA/OuutlVgVJXH39vKO+sL\n",
       "+MHJw7j0hKE2WHmIkIdI8V6AKd7t7yKY4ZIN3LvgMfYXFjD5xJMi7ktV+f1/t/PmmnwuO2EIV04Z\n",
       "ZoOFh2hXDCbeCzDFu/1dBOPJhElhgZsnH12A1+tl2PAjbROYP3+0k6Vf5zLnuMH8+JThtsR2/LQ7\n",
       "yBvvBZji3f4ugvFkwqCwwM0VM88nPzeX8y+awfARR9vS718/3c2LX+3logkD+dnpR0YsMC7316Rt\n",
       "X4azKh9nj0GkTZgJGceF3sGgSVYMAywPoL7SKsA06pSI7Oow4t3+LoLxZNpJoMA8++JS2wTmH1/s\n",
       "5m+f72ba+P784qyjbBGYHt/8CWmowNlzKGlaDZ/+DvatDL2TeC/AFO/2dxGMJ9MOmguMHUFegJdX\n",
       "7OWZj3dx9ph+3PDtkThsGCKlbV9GY3IPEtN7k5aUAPSyDmx4HQa3w5uJ9wJM8W5/F8B4Mu1g66aN\n",
       "lBQX2Sowr32dyx8/3MEZI/vwq3NH4XTYE4NxVuWTmJbtExgfyT2gPN+W/g2GUDGeTAjU19fjcrmY\n",
       "evqZfLBiHenpGbb0++aafJ54fxtTj+rFbdOOaZfABCut6ewxiDRvBQc9GIDaUsg8rDyPwRBVjCcT\n",
       "hMICN9O/fQqvv/ISgG0Cs3y9m8fe3cKJw7O54/wxJDhD/1UEK62ZkZxoBXmrD0B1MXg91mv1ARhz\n",
       "kS32GwyhYkSmDfwxmNw9exg0eIht/f53UyEL3tnMpKE9uGf6WFwJ7fs1tLWz5cFp6sHHwcm/AFcG\n",
       "lO6zXk/+RfviMQaDDZjhUitEK8j70dYiHli2kXGDsrj3u+PaLTBgldZEnLhKtuCoL8fryqQhcxip\n",
       "1JMRmAcz+DgjKoZOx3gyLVBZWREVgfl8RzH3vbmBY/pn8OCMcaQkOsPsyUFS/heIpx6vqwfiqSej\n",
       "cAUZyUE3djAYOhzjybRAWlo6F82+lBNPmmqbwHy1q4S7/rWeI/uk8fDMHFJdkf3oHQqNKKC4nA5S\n",
       "cICN2cEGg10YkQmgsMDNgeJiRo0Zy7U3zLet32/2lnLn6+sZkp3Kglk5pCdH+mP3UjPwRBLLd5Pk\n",
       "qSQ1oyf0HAt6WM31+MGUZOiyGJHx4S/XUF9fz7ufrsLlctnS77rcMm57dS39s5JZODuHzJTIhzTe\n",
       "lN5IYzWOoSeS6u+vrtzKaI1H/CUZkjOtBY31ldZ7k53bJTAxGZrWg1n05FO2CczG/HJuWbqW3ulJ\n",
       "LJydQ49Ue/qt6zuBVK0my1HTNTZ1NyUZujTdXmSiUXAKYGtBBTcvWUtWSiKL5kygV7p9JS5T+wwj\n",
       "I2d611mTU11kLWAMxJVutRvinm4/XPr9owtsF5idRVXMf2UNqS4ni+ZMsLWG7qFyDV1oTY6/JEPS\n",
       "oW12TUmGrkO392Ruu+dBXnpjuW0Cs6e4mpsWryYxwcGiORPon5VsS7/QhYt+D5pkDffqyrvG8M/Q\n",
       "hG4pMoUFbq7/2Y8oKz1AUnIyY8bn2NJvbmkN815ZDcCi2RMY1DPFln6hCwsMmJIMXZxuN1wKjMH8\n",
       "8KprmDCp7e1kgi1E9OMur2Xey6tpaPTy2CUTGdrLvpmeLi0wfkxJhi5Lt/Jkmgd5QxGYthYi+tlf\n",
       "Uce8l1dTXe/hkdk5DO+dZpvN3UJgDF2abuPJhDOL1GQhIlgLEX3t/u1fS6rqmbd4NWU1DTwyO4ej\n",
       "+x2+SjtUb6g5RmAMXYFuIzIN9fUkJrraNYvkqCnCm9p0z2lNTMNRvR+A0mpLYIoq61gwK4fRAzIP\n",
       "68PvDXmSMixvqKGKtJ3LqRp+TptC07NkHT13L7OKTGUOsEo0mMWOhjiky4tM6YESMrN6MGjIUN78\n",
       "76c4HKGPEL0pvZGGqoOeDIA0VOFN6U15TQPzX1lDflktD80Yx7hBWS16LKF4Q83pWbKOnqv/CKk9\n",
       "ocdgq9jUp79rf6mGWErVjyVbDB1Kl47JFBa4mXP+t7n39l8BtEtgwMqsddZVIPUVoF6kvgJnXQXF\n",
       "PcZx85K17Cmp5r6LxnLs0J6txm8SDmxDE5vGaDQxzSrX0AIZyYmWB5PaE1J7gcNpvab2tOrzhkos\n",
       "7Z4YS7YYOpwuKzKBMZgLLpoZVh+ejIFUDT8HTUjFUb0fTUhl/6BvM/+dIrbtr+TuC8dy/BHZQOuF\n",
       "pJx15UhDVZN+/d5Qcw7GYMrzrXq8gbS3Pm8sperHki2GDqdLDpfsXCrgyRh4cFhT2+Dh1qVr2eQu\n",
       "584LxnDSiEP1c1uL33iTs3DWVeDxvZeGKpx1FVQNbLoZXJMgb+YAa4iUGkF93ljaPTGWbDF0OF3O\n",
       "k/F6vfz4e7NsXypQ3+jljtfWsTa3jFvPG81pI5sKij9+E4g0VNHQY8Rh3lDzoO9hs0hjLoq8Pm8s\n",
       "7Z4YS7YYOpwu58k4HA5uvvM+kpOTbROYBo+Xu/61npV7Srn5O6M4a3Tfw86p6zvBmkXicI8l0Btq\n",
       "TovT1P76vBtet+rzZg6AiVe0L+gbS7snxpIthg5HVLWzbYiI8RMn6evv/o/CAjdfff4p54cZf2mN\n",
       "Ro+Xe97cwCfbirnx7KO5IKf1aef25sNEPQ8mlmZ0YskWQ7sQkZWq2nbmaht0CU/GH4MpdLuZMvVU\n",
       "evXuE/yiEPB4lQeXbeKTbcVcd+aINgUGaNNjaU6HJNrFUqp+LNli6FBiLiYjIheLyE4R2SYiPwp2\n",
       "fmNDw8Eg79MvLLZVYBa8s5kPtuznqtOOZOakwbb0CyaT19C9iKnhkohkABuAKYAH+AYYr6r7W7sm\n",
       "KTlZE5wJ/OXFJRw/ZaotdnhVefTdLSxb6+aHU4/gyinDbOkXjMAY4o9Ih0ux5smcC3yoqrmq6gbe\n",
       "B85q64LGhgZbBUZV+d3721i21s3lJw41AmMwREiseTI3AL1V9Xbf+wVAvqo+1uy8q4CrfG/HAes6\n",
       "1NDw6Q3EU03JeLI3nmyF+LJ3lKqGvT9zrAV+XYA34L0Xa9jUBFV9CngKQERWROLKdSTxZCvEl73x\n",
       "ZCvEl70isiKS62NtuJQPBE5BDAb2dpItBoPBBmJNZJYD54pIXxHpD5zsazMYDHFKTA2XVNUtIrcD\n",
       "n/ma5qlqVVvX4Bs2xQnxZCvEl73xZCvEl70R2RpTgV+DwdD1iLXhksFg6GIYkTEYDACISIqIjLS7\n",
       "37gVmfYuP+hoRCRZRJ4SkS0istuXA4SIzBWRPSKyWUTO62w7AxERl4hsEJGnfe9j2dYsEXlRRHJF\n",
       "ZLvP9pi0V0RuFJGtvs/rtb62mLFVRDJF5DWgAPhVQHuLNorIwyKyT0TWikjw0gCqGndfQAbW1PYg\n",
       "oD/gBvp0tl3NbOwFzAIEK/GqADgd2OKzfwyQByR2tq0BNt8NLAOeBkbEuK1/A37t+/kmx6q9wBHA\n",
       "LiDN95koA8bGkq1AOlZm/U+Ap31tLf48gW8BH2NNGp0NfBOs/3j1ZNq9/KCjUdViVV2iFkVYonga\n",
       "8LKqVqjqBqwPX0xsQSAio4HjgZd9TTOIXVv96Q0P+n6+tcSuvQ2+Vy/WH2YFMI0YslVVK1X1P0Bj\n",
       "QHNrP8+ZwHOq2qiq7wJ9fL+PVolXkRkC7A54vw9oR23KjkVExmH9t+1NDNotIgI8AcwNaI7ln/FY\n",
       "YCewxOfKLyRG7VXVXCwP8XPgPeAyrCTTmLO1Ga39PJu35xLE9ngVmZCWH8QCItIbeB74IbFr98+A\n",
       "D1R1W0BbrNoK0BfLhf8FMAmYCkwnBu0VkUwsYZkLPArcRGz/bP20ZmO7bY+pZLx2kA+cEfB+MPBF\n",
       "55jSOiLSE3gTuE1Vv/IFz2Jx2cSVQIaIzAGyseIHTxCbtgIUAitVdR+AiLyL9UGPRXuvANao6gfA\n",
       "ByIyAyuGGIu2BtLaEp/m7QOxvJxWiVdPJuaXH/j+g70B3K+qb/ua3wIuFZFUERmD9Qf9TWfZ6EdV\n",
       "T1bV8ao6EbgTeBVLHBHlSX0AAAO1SURBVGPOVh+fA2NEZKCIJAHfBiqJTXtrgYkikuirlzQSa9gU\n",
       "i7YG0tpn9S3g+yLiFJGzgS2qWtJWR3HpyWh4yw86ml8CxwKPi8jjvrZzgL8D67E+fD9RXyg/1lDV\n",
       "lSISk7aqapWI/AJ4F0jCCkQu8glOrNn7d6wZmR1ADfBXVf0kln62PvH7GmsmKVlEzgB+SgufVRF5\n",
       "FWuWdAdQjDUUbLv/2Pg9GAyGrkq8DpcMBkOcYETGYDBEFSMyBoMhqhiRMRgMUcWIjMFgiCpGZAwG\n",
       "Q1QxImOIGBHZJSL2bbFpIyJyhoi819l2dGeMyHRDRER9dXj2ichnInJ+Z9vUHBG5W0SKfbVitorI\n",
       "zM62yRAecZnxa4gYj6oeBeBLGX9eRNJV9aVOtqs5j6nq/b4yFB+LyL9UtTHoVYaYwngy3RxfrZDL\n",
       "gN/AwRKMf/R5D1tF5Gpfe5Nhh4g8JyJXBHT1PV9Vve0icqbvnPEissJXEe49EUn3te8SkdtEZKOv\n",
       "VMPoIDZuBKqAnr7rX/DdZ5uIfMvXdrdYlQj/KyIFInJ9835E5FYR+beIOCP4kRnaiREZA6q6GUgR\n",
       "kb7ALVge7khgCjBPRHJC6KaXqo4Bfgw842urA85X1eFAKTC72X1HA4uBG9rqWETOAYpUdb+v6Y+q\n",
       "OgK4HmtBp5/jgQuAU4H7RSShWR/fAy5W1Vgrq9ClMSJj8JOAVcVtGvCEr+JcMbCEpmU1WuMZAF9J\n",
       "g0QR6YVVGmCmiPwFq+5LYIkA/9DsQ2BYK33OFZECrDos0wJtFZFHgRub9fmmqlap6hasMpd9fO2D\n",
       "gCeBi1S1PIRnMdiIERkDIjIJKFDVA1hi4212igerNGPgMCOx2TmBsZJkrBXHz2LVuH0Qy2ORgHPq\n",
       "fK8NzfoN5LfAUVj1V6b5bP0OsBB4EasAVEt9Nu+3xvfampgZoogRmW6OiEwAnuNQlfp3gV+IRTbw\n",
       "Xaz6J7uBY0QkSUSSgZOadTXH198sYLuqVgPjgKVYJRrDqsGsqhVYVQXv9tUOGgd8oapfYtWRCYUS\n",
       "4BKsAPfR4dhhCB8zu9Q9cYrINiyPYydwo6r6g7r3An8AtmN5APf5YjaIyPPAp1g1RrY067OXiGwA\n",
       "qoHv+9oexSqAtRvYGK6xqrpXRH6LVa1vPvCWiGzGErBQ+/haRG4B3hSRKT6vzdABmHoyBoMhqpjh\n",
       "ksFgiCpGZAwGQ1QxImMwGKKKERmDwRBVjMgYDIaoYkTGYDBEFSMyBoMhqhiRMRgMUcWIjMFgiCr/\n",
       "H5LuRtPH7cReAAAAAElFTkSuQmCC\n",
       "\"/><img style=\"margin:0\" align=\"left\" src=\"data:image/png;base64,iVBORw0KGgoAAAANSUhEUgAAARkAAAEnCAYAAACdYDfKAAAABHNCSVQICAgIfAhkiAAAAAlwSFlz\n",
       "AAALEgAACxIB0t1+/AAAADl0RVh0U29mdHdhcmUAbWF0cGxvdGxpYiB2ZXJzaW9uIDMuMC4zLCBo\n",
       "dHRwOi8vbWF0cGxvdGxpYi5vcmcvnQurowAAIABJREFUeJztnXd8lFX2/99n0nsIPXQRlF5EQWTt\n",
       "4gJfC7Cuiu5aF3vX1VUXFdvay7r+1F3FbcLqYlkV+9rLKgIqRXpNMpmE9DqZmfv745nBSZiWqc8k\n",
       "9/165RXmaffMkHxy7znnniNKKTQajSZWWBJtgEaj6dpokdFoNDFFi4xGo4kpWmQ0Gk1M0SKj0Whi\n",
       "ihYZjUYTU7TIdAFEpFBExovILBG5UERu8HGN1cexg0Xk5TDH7C0iG0Skn4icKyJKRC7pcM1Q9/Hc\n",
       "EJ6X4bb/Dz7OHS0i60WkWUTeFJGePq7x2PB/7tdLReSccN6bJrpokeka/AK4CfgzMATYLiIFIvJX\n",
       "Eekf4L7rgQ8AROQ+EdnS4atFRDL93PsH4HGllEe8GoHFIlLYWeNF5EigEngGuLDDuV7AK8DNQD9A\n",
       "gEc6XJMN3AJUeR2+ArhbRPI6a48myiil9FcX+QLeBw70en0csAEYA1g7XFsM/AikAznAOB/PKwPE\n",
       "x/He7nNZ7tfnAiuBd4BHva4bCiggN4jdxe5rjwYqO5y7HHjf6/VUDEFL9zq2CHgU2AH8n9fx/wdc\n",
       "mej/l+7+pWcyXQAReUhEfgQOB94RkR9FJF8p9QEwB9jk47aHgVuVUnbgUjrMINxYlPu3tQPHAZ8p\n",
       "pZo7HL8GWCgiB/ux83PPcsYbpVSpUmqHn7d3KPC11+vVQBYw3P3M/sBC4E4f974JzPLzXE2c0CLT\n",
       "BVBKXQdMBlzAiUqpg4E/ichipdQ2pVSb9/UiMhPoqZT6t3t5czpwq69H+xlyArDKhx3rgafpsJzx\n",
       "On+EUuqNUN+Xm36AzesZdqAeKHIfugt4TCm118e9q9y2ahKIFpmuw1wgF/iniByF8dd9mohc7ePa\n",
       "qcAgEfkWY4lxl1KqvhNj9QR8/VID3A4cIiJzOvG8QKSw/8+pBXCJyHiMJdbjfu6txLBVk0C0yHQd\n",
       "fgNsARYDzwKpwKnAPzpeqJS60z3buRR4Qyn1asdrRMQCOP2M1QJk+DqhlKrFcNI+DKR1/m3sRzU/\n",
       "zVoQkXQMMbUBDwG/V0q1+rk3y22rJoFokekCiMipQAOwE9gI/Ao4BcNpequIvAj0FJHtIvJf9z29\n",
       "gAeAy0XkYRE5tsNjM/H/C1oCDApg0nMYS5pLw3xL3vwAHOb1+jCMWVQb8DPgSRGpEZEaYDCwTEQu\n",
       "d1870G2rJoFokekaXEh7x+dQjCVRCoaj9M8YM4LJSqljRSQDWI7hh2nBCGM/ICLi9YwcoKNj18Nn\n",
       "wJH+jFFKuYArgYvCeTMdWAr8TER+ISJ9MZZjzyildimlMpVShZ4vYBdwhlLqCfe9RwKfR8EGTQSk\n",
       "JtoATVS4Sim11aMRSqmlGL+c+xARl1Kq2v3yBCAPuBi4AGPpUYUxM/jEfc1UYI+f8b4EikRklFJq\n",
       "g68LlFJfiMhy4GwvGz4H7u3o/BWRo4EPvV4r9zNEKbVZRM7HCFEXut/X7X4/ifacC+yXmKiJL+I7\n",
       "QqlJRkTkfeBipdQWH+esSql+Qe6/DeOXsgVoAs5XSr3v59ozgflKqV9Ebnn0EZGTgMuVUicm2pbu\n",
       "jp7JaPahlLpDRO7EyI9xBLl2qYj0EJE+SilboGsTRH/gvEQbodEzGY1GE2O041ej0cQULTIajSam\n",
       "aJHRaDQxRYuMRqOJKVpkNBpNTNEio9FoYooWGY1GE1O0yGg0mpiiRUaj0cQULTIajSamaJHRaDQx\n",
       "JW4iIyJZIjIyXuNpNBpzEHOREZF8EXkVKAd+63X8KhHZJSIbRWSW1/E/iMgeEflBRA6JtX0ajSa2\n",
       "xKPUgwv4I/AGMA1ARIYDl2H0AxoEvC8iQzCKJs3AqOx2DEat2olxsFGj0cSImM9klFIN7v4/3vVJ\n",
       "5gIvKqXq3W00dgCHAPOA55VSDqXUe0BvEQlYaEmj0ZibRBWtGgSs9Xq9B6PI0CDgNa/jJe7j7fo4\n",
       "i8hCjJYf5OTkHHLwwT57iWk0psSlFG3O8Os4idOOOJoRlwNlSUWlZqFS0qNmn6W1FpQLh1OxdVcp\n",
       "ytlW1+pQBeE+L1Eik46xjPLgwmi/4e94O5RSz2D0TWbKlClq5cqVsbNUo4ki9S1tVNT76+ASnJT6\n",
       "UnK2v4szIw+VloO0NZLSWk/jsJk484qjYmPu2r9T1pTK/MtuJyUlhcyUtogqHyYqhF0GDPB6PRDY\n",
       "7eN4Mf6LWWs0SUWkAgOQYfvOEJj0PBALKj0PZ0YeGbbv9l2TUl9K9ta3yF37d7K3vkVKfWmnxihr\n",
       "TOEXly6izFbFPx+5JSJ7IXEi8yZwhohki8hojOZda9zHzxGRFBE5AdiklKpKkI0aTdSIhsAAWJor\n",
       "UWk57Y6ptBwszZXATzMdcTThyu6NOJrI2f5uyELjdDpZcOOjlNqqeOGBa5g28WAsIimR2Bzz5ZKI\n",
       "5GH0/skDMt3tL36D0dlwHUZl/AuVUkpEXgGOArZhNPBaEGv7NJpYE4nApNSXkmH7DktzJa6sXoAF\n",
       "aWs0ZjJupK3Rfa7DTAeMmY77eFNe8X7Pa+0zod0yKyUlhRsW3UMOTUwdkoalqQKXaufC6DRJX0hc\n",
       "+2Q0ZiZSgenof0mt24MoaCsY6NMnk7v277iye4N4LVKUC0tTBc1DjvPrzylrsvDt118x66RT29lg\n",
       "d7gYVVzwrVJqSrifgW6JotHEiEiXSL5mJY78gUhbCyo125hlZPWisfjwfbMRV1YvvzMdf7OcmvUf\n",
       "cdY1D2IrL2fq9BkU9TRmRVWNdha9tpZI0SKj0cSAaPhgLM2VxqzEC2MG0kTT8FntjnuWQWk1W0mt\n",
       "3Ym96CCc+QN/mq0UH07Wzg9AUkiv2oTFXocrPZ89bYX84pqHsO5tYMmyl/cJzLaKBm5+ZS21zW0R\n",
       "vQfQGyQ1mqgTLSevZ1bijbf/xYO3s7etx4HYiw4ivXojqVWbUanZXuFtCxll/0OcdlzphZRXVDH/\n",
       "irsprahhybKXmTJtOgBfbt3LFUvX4FSKx86IPOFez2Q0migSLYEBaO0zwfChQHsfSvHh7a7ruAxy\n",
       "FgymJasHKjV7vxmPRYEDBSje/HozpVWNLLv/asZMm45Sin9/u4enPt7GiL653HnKWHrnZUT8PrTI\n",
       "aDRRIpoCA+DMK6Zx2EwjGuTlf0lpLCf/+yWkNJbhzOkPIrT2m9zuXpWWg6WposMTXTQXTyW1dgeW\n",
       "1lrOnzOVY487ngG9C6h2unj8gy28+UMZR47oxU2zDiYzLaLI9T60yGg0USDaAuPBmVdMk1eIOd26\n",
       "msI1T+PILMSZOwCx15JRuQFXSiZtfcbuu87XssqV1QubtZQLFr3M3ddfyPghB1Bsr6falc2Ny79n\n",
       "ze5azpo6mPOOGIpFJGrvQYuMRhMhsRIYX+RsXYEjsxCVWQSAyizCnj+YTOvXOAqHBFxW7aY/C668\n",
       "nNLKWpqbmxF7PXuqmrlqXX/KG+q4adbBzBzdN+o2a5HRaCIgngIDGEuk3AHtjrlyi3G1NfoNawPY\n",
       "yq2c9avzse5t4IVHbuHwkb34X3Uuv1vZh9QUeOi0CYwdEPYeyIBokdFowiTeAgPgzOmP2Gv3zWQA\n",
       "xF6Lo3D4fk5eD5UVFZw1dzbW0lKWLHuFcdOms/S7Uh77YjODizK5e+5Y+hdkxcxmHcLWaMIgEQID\n",
       "0Dh8NqktNUhLFbicSEsVqS01NA6f7feevPx8Ro0dz5JlLzPpsMN54sMtPPL+ZqYMLeKPZ06KqcCA\n",
       "3lag0XSaRAmMh3TranK2rtgXXWocPht7v0n7XWcrt5KWlkaPop4ANLY6uOvNDfxvexXzJw/g4qOG\n",
       "k2IJ7uAd3idPbyvQaOJFogUGwN5vkk9R8cZWbuWsubPp2as3S197m/K6Vm55dS27qpq45vgRnDQh\n",
       "OrVnQkGLjEYTImYQmFDwCIy1tJR7H36CdaV1LHptHQ6X4r5545g8pEdc7dEio9GEQDIKzJJlL1Od\n",
       "P5wHX/qOvvmZ3H3qWAYVZcfdJi0yGk0QkkVgAG6+9nKspaU8u3Q53zn688+3fmTioEJuP2k0+Vlp\n",
       "CbFJi4xGE4BkEhiAxfc/ys5du1lRkc8nm3cxZ1x/rjruQFJTEhdI1iFsjcYPySIwtnIrD927GKfT\n",
       "SVp+b57fks6nmyu55OjhXHvCiIQKDOiZjCZe1JZAySpoqoTsXjBgMhQMCH5fgjCzwHiHsEta8/jV\n",
       "Xf+htHwvE4+by1OrG2hqdXLXqWM5fHjPRJsK6JmMJh7UlsDGFeBogtw+xveNK4zjJsTsAlO45mmk\n",
       "rZ4SewGnLvonZaWl3PCHP/LglzWkiPD4mRNNIzCgZzKaeFCyCjLzISPfeO35XrLKdLMZMwsM/LRB\n",
       "sqwpjVMW/Z3SvQ1ccMMtPF/Sh9H9c1h8yliKcqLX6C0a6JmMJvY0VUJ6bvtj6bnGcRNhdoEBY4Ok\n",
       "Si9ge1k1NY0O5tzwCK+1Hcqsgl08/MuJphMY0DMZTTzI7gX2hp9mMGC8zu7l/544kwwCA9CU3ptM\n",
       "ey0HjTyAqdc8yf8aC7i0eBMXDrJRk2rOOYMWGU3sGTDZ8MGAMYOxN0BLHRw0I7F2uZ3RzbXlNEoB\n",
       "KR16EJkNW7mVX9/0EguOG8e7/Y5ib1sG9w1bzZzsH6k58KJEm+cXc0qfpmtRMAAOmg2p2dBgM74f\n",
       "NDux/hi3M7qpqZ5aS2GnOy3GG1u5lbPnzaEiYyBLey3ErlJ57oAPmdm3kZqJFwXdy5RI9ExGEx8K\n",
       "BpjLyVuyiiZLDnWuTJD9Oy2aCVu5lbPmzaG25zgKjzqPQT1zuXvuWHrnnUB1oo0LAS0ymm5Jc205\n",
       "dZZC8Kp04Lv4dmJpbmrirPkn0TDi5+SOm8n0A3ty86xRZKVHp8h3PNAio+l21Le00SgFAXtKmwWH\n",
       "JY3e82/D6crjjEMHceHPhkW1yHc80CKj6VZ4okgpIfY0ShS2cis/bNvDXze4qCSf3544kp+P7Zdo\n",
       "s8JCi4ym2+AdpvbX08gM0SVbuZUFv7kC57TzKCgo4MHTxjN+YGGizQobLTKawCTZniN/+MqD6djT\n",
       "qDN4ek9bmitxZfWi1Sv8HehcMGzlVs685g5cMy6mb24qDy2YzIDC2NbgjTU6hK3xT5LtOfJHtBPt\n",
       "vHtPu7J7twt/BzoXDGtZGWcuegp1yBkc1DONv1xwRNILDOiZjCYQSbTnyB+xyOTt2HvaO/wN+D0X\n",
       "aNbUZHdw5V8/RY08hun9LNxx5oyQinwnA1pkNP5pqjRmMN6k5xoJdUlArLYKWJorcWX3bnfMO/wd\n",
       "6JwvyutauOXVtVSl9+X0UTlcNCvsxgCmRIuMxj9JsOfIH7Hci+TK6hUw/N2Z0Pjna7dz+xs/kp6d\n",
       "y73zxnHo0CKf1yUz2iej8c+AycYeo9Y6UC7je0udcdzExHqzY2ufCaS01iP2elAuxF5PSms9rX0m\n",
       "BDzXkVf/t4nfr9iKvamOyyekdUmBgQSLjIhcKyKbRWS7iFzmPnaViOwSkY0i4rvvpiY+mHHPURDi\n",
       "sZvaE/729J5Wqdk0DpuJM6844DkPSin+9O5aHv+sDLt1C4tPGMiso6bF1OZEkrDlkogMBa4ExgCZ\n",
       "wDYR+Qi4zH1sEPC+iAxRSrUlyExNtPYcxSEUHs9yDYHC34HOtbY5Wfzad3y5s56W9R/x8AXHM236\n",
       "EbE0NeEkcibjEQ4XhtjVA7OBF5VS9Uqp9cAO4JDEmKeJGnEIhSdDPZi9Da1c8+J3fLWznvSN7/DY\n",
       "hV1fYCCBMxmlVImI3A58hSF2C4D5wFqvy/YA/TveKyILgYUAgwcPjrmtmgiJcSg8GQRmi62B3y3/\n",
       "jga7iztOHsMRBx6JJMEepLzMyHs1JWwmIyL5GMJyFfAwcD2QjjGz8eACnB3vVUo9o5SaopSa0rt3\n",
       "746nNWYjhuU3k0FgPt9SyRVLV7G3soIRJW8zY0SvpBGY3nkZET8nkculs4HvlVIfKaWWuI9ZAe8/\n",
       "bQOB3XG3TBNdPKFwb6IQCje7wCilWPbNbha9to5W2w72Lr2JX8+bk2izQiJaAgOJFZkWYKKIpIlI\n",
       "HjASeB84Q0SyRWQ0UASsSaCNmmgQg1C42QWmzenigXc28cwn22D3aiqW3cKzzz3HlGnTE21aUKIp\n",
       "MJDYZLx/AMcC24Bm4K9Kqc9F5B/AOgwRulAppRJooyYaeELhJauMUHh2L6O+b5j+GLMLTG1zG7f9\n",
       "Zx3f76klfcuHlLz1NEuWLe+WAgMgyf47PGXKFLVy5cpEm6GJE2YXmF17m7j51R+oqG/ltyceTEHt\n",
       "FoCkFhgR+VYpFfZeB72tQJM0mF1gVu6o4o431pMqcEpROceNOhLoE/Q+MxCLGYwHLTJdGTPVgglm\n",
       "S5Dz4QqMd99oZ05/GofP3lfZP5K6Lx15bU0Jf/zvFgYWpLNn6a08tXU9p514JL379g3refEklgID\n",
       "eu9S18VMtWCC2RLkfCQC4+kb7cwdgLTVU7jmadKtqyOq++KN06V4/IPNPPbBFiYW57Dnr9dSvmUd\n",
       "zy79txYYN3om01UxUy2YYLYEOF+f0SfsJZKnb7TKNDYeqswiHO7jrf0mh1X3xZuGVgd3vrGeb3ZU\n",
       "M2dUD9666zzKS0t4btlyDp1m/kzeeAgM6JlM18VM/aeD2eLnfHNteUQ+GE/faG9UegEpjWVYmitR\n",
       "aTntz6XlYGkO7fMprWnmihdWs2pXDdedMJIhdd9jKyvVAuMDPZPpqpipFkwwW3ycb2qopU4KiARn\n",
       "Tn/EXrtvJgMg9lqcOf2D1oQJxPd7alj02joUcN+8cUwe0gPGn82RxxxPn77m7ygQT4EBPZPpupip\n",
       "FkwwWzqcb6qvpqm2ymcNls7QOHw2qS01SEsVuJxISxWpLTU0Dp/dqbov3ryzzsr1L31PflYai2cO\n",
       "YvFvTmXlV18AaIHxgxaZroqZasEEs8XrfHN1GXWOtP1qsISDvd8kaiZehErLI6WhBJWWt69vdCh1\n",
       "X7xxKcWfP93GfW9vZNzAAm4/fgDXn3MqWzdtRJEcuWaJEBjQyXgaE2HWPJjmNif3rNjA51v2ctL4\n",
       "/pw+No9z5s/BWto9fDA6GU/TJTCrwFTUt3LLq2vZVtHAZccM5+jBGZxx8ondRmCigRYZsxKPRLp4\n",
       "JusFGCsUgQk3cS6SJmybtm7jlrd20eJQPDjNziEjLLRm9eCQw6Yx/4yz/ApMsOdGMwkwGIkWGNDL\n",
       "JXPiSU7LzDdCu/YGwzEaTZ9KPMYIYaxQ8mA8iXPOjLz2fauD+G0C3QcEfObHazbyhw9LKcpQPDi9\n",
       "jbzGPVjsDeRNOS3sMZ15xWG/l3CIlsDo5VJXJB6JdPFM1vMzVvOOb6goPj7o7YGaqQVKnAunCVt6\n",
       "+Xc8s7aNJV9YGd/DyX3TXdjra5h39f3kZmXw1nMjaA5zzKa84rDfS2cxwwzGg44umZF4JNLFM1nP\n",
       "x1hNZFJfVRbS7eEmzgW6z9e5FksOt3+tWPLFDmYVN/LEzxzY66uZf+kiymxV3HH1eaS07I3I1kiT\n",
       "AEPBTAIDWmTMSYwqycV9DD9jNdkd1NfVhJT4Bj81U/MmlMS5QPd1PLe3BS77JJV3ynK4cMYwFh0q\n",
       "1NhK9gnMC4/eyrQxgyMaM5L3EipmExjQImNO4pFIF89kPa+xmlrt1NdWhZT45iHcxLlQm7BtrlFc\n",
       "8GEqm+tSuPOE/iyYOhh73wnc/NASymx7eeGRm5k2emDEY0byXkLBjAID2vFrXrpgdKl5xzfUV5WF\n",
       "FVGJVXTpm+9/YNE36eSkwd2zhnDgAQfsu7d6+w9Yv/8vhw4vitqYkbyXQMRSYCJ1/GqR0cQFs+XB\n",
       "KKX497d7eOrjbYzom8udp4yld14GtnIrf/nTY9zw+8WkpUXeDiQexHoGo6NLGtNT39JG7eav6OGn\n",
       "eFS8aXO6eOyDzaz4wcqRI3px06yDyUxLwVZu5ay5s7GWljL/jLMZPahH3PJZwsWsSyRvtE9GE1M8\n",
       "AuOveFS8qWtu48bl37PiBytnTR3MopNG7ycwS5a9zOhBPaJS1CqWJIPAgBYZTQzxLJHaFY+ypBjF\n",
       "ozILydm6Iq727Kpq4rIXVrOutI6bZh3MBTOGYRHZT2CmTJvePp9FLEY+S0bevhybRJMsAgN6uaSJ\n",
       "Ed4+mJTGMpy57R3KKr2AlIb4lQJdtbOa219fT6pFeOi0CYwd8FOtGmtpCY0NDfsEBox8Fld2++6k\n",
       "Ki0HS1NF3Gz2RzIJDGiR0cSAjk7eQMWj4sHr35Xy2AebGVyUzT1zx9GvIBOA5qYmsrKzGT/pED78\n",
       "+nsyMjP33RNJUatYkmwCA3q5pIkyvqJIgYpHxRKnS/HEh1t45P3NTBlaxB/PnLRPYGzlVk4+fgZL\n",
       "nnkSoJ3AQGzzWcIlGQUGtMhoooi/MHWg4lGxorHVwa2vruXlVSXMmzSAu08dS06GMXH39sGMGz/R\n",
       "5/2dLWoVa5JVYEAvl4ITy4S1SJ5tpp5KBM+DsfebFLeQtbW2hVteXcvOvY1cc/wITprwkzB4C8zf\n",
       "n7yPY5wfkvLuCz7D6s684qhuWgyXZBYY0DOZwMSyd1EkzzZTTyXMlWi3tqSWS/+5ior6Vu6bP76d\n",
       "wLS2tHD2vDn7BGam5UtThNUDkewCA3omE5hYlkOI5Nkm6qlkJoF5b305D767kT55mdw9dyyDi7Lb\n",
       "nc/IzOT8iy/nwBEHcYzzQxxtvnsyJSpJsCNdQWBAz2QCE8tyCJE82yQ9lcwiMC6lePaz7dz71o+M\n",
       "Kc7niQWT2gmMrdy6r6PAGb86jynTpgfsyWQGuorAgJ7JBCaWvYsiebYJeiqZRWBa2pz84a0f+WRz\n",
       "JbPH9eOq40aQlvLT305buZWz582hprqaj1euJSvbEJ9Eh9UD0ZUEBvRMJjCxLIcQybMT3FPJLAJT\n",
       "Ud/K1f9aw6ebK7nkqAO47oSRPgWmrKSEJ5/7xz6BgcSF1YPR1QQGtMgEJpa9iyJ5dgJ7KplFYDaV\n",
       "13PpC6vYXdXMnaeO4bQpgxCRfee9BcY7k9dDIsLqweiKAgN6uRScggGx++WN5NmxtMsPZhGYTzZX\n",
       "cO+KHynISuPxMycyvHfuftf87dmn/QqMh3iG1YPRVQUGdD0ZTYiYQWCUUiz9ejd/+Ww7o/vnsfiU\n",
       "sRTlpPu81ul0sm3LZkYcdHCcrew8ZheYuNSTEZG+SqnyDscOUUp9G+7A7mcUAE8DPwNagFHAJcB1\n",
       "QDNwtVLqrUjGMAWJSpyL0rjREJhIq8U5a/bwyLsbWbE7lZkDHVw/sw+pHQTGVm7lluuuYPH9j9K/\n",
       "eIAWGJMQqk/mcxEZ53khIvOB16Mw/h+BtcBAYAwwCLjM/e+5wLMikhzlyfyRqMS5KI0bLYEJVJsl\n",
       "2Pl62y6uX76OFbtTWTiqjcUTaija/X672i6eTN6vPvuUspI9EdkbL7qDwEDoPpnzgZdF5FpgHHA2\n",
       "cEwkA4tIP2A6cK4y1mwtIjIXeFEpVQ+sF5EdwCHAV5GMlVASlTgXhXGjtUSKpBfRutYCbl2+laqW\n",
       "DO46rI3jB7qAPJzy0/0d68FMPnRqxDbHmu4iMBCiyCilPhGRo4CXgArgMKVUQ5DbgjEG2A4sF5HR\n",
       "GDOjNIyZjYc9wH6JCyKyEFgIMHjw4AjNiDFNlcZMwpv0XCMqZOJxo+mDCVabxd/5r3bWc/Pa1WSh\n",
       "+H9H2hldJPvd76vglNnpTgIDAURGRNqAjl5hi/tYtYgopZRvr1to9AFGA1OBauB9oB/wvdc1LsDZ\n",
       "8Ual1DPAM2A4fiOwIfYkKnEugnGj7eQNVpul43ml4KVNTh5d15sDemfx8OQG+qY1otj//tTUVHoU\n",
       "9eTeh5/QAmNS/PpklFJpSqn0Dl+p7uNpEQoMgA34Vim1RynVCLwHPA94z+UHArsjHCexJCpxLsxx\n",
       "YxFF6kwvIofTxQOrXDy8LpfpQ3N57IyJFAwZv9/9VdZS6gpGUdSzF/96/V0tMCYm5GQ8EZkmIqeL\n",
       "yALPV4RjfwWMFpFiEckAjgcagDNEJNu9hCoC1kQ4TmJJVOJcGOPGKkwdrDaL53ytK5trPhVe3pnF\n",
       "ggk9uH3eIWSlp+x3v7Wmlf+78c9cf+tigHZJeGaluwoMhB7CfgGYAnwNtLkPK+CFcAdWSjWKyBUY\n",
       "M5gM4Hml1ENuwVmHEdK+UCV7Ig8kJHGus+PGOg8mWG2WnY5Cbv6yJ9baFn574kh+Prafz/tt5VbO\n",
       "Wjgbq9XGvedeGDN7o0l3FhgIMRlPRPYAByqlWmJvUufQyXiRk+hEuzW7a7jtP+sQYPEpYxg/sNDn\n",
       "ddrJmxji1dztI6AY2BbuQBpzkmiBWfFDGY+8v5mBhVncNXcsAwqzfF6nlOLS887SApOEhCoyA4Hv\n",
       "RGQVsO8nUik1MyZWaeKSJZxIgXG6FM98so2Xvt3DlCE9WHTSaHIz/P84igi33fsgrc3NWmCSjFBF\n",
       "5raYWqFpjydbNzPfyHWxNxivo+gwTqTANNkd3P3mj3y5bS+nTCzm8mMOJMXi23lrK7fy/ltvsuDc\n",
       "Cxg3wRybGYOhBaY9oSbjfSwiqUBvwPyu/GQnxlnCiRSY8jqjyPeOykauOPZA5k7y/368fTBHn3Ai\n",
       "xQMGxtHS8NACsz+hRpeuxZjNpAN7MZLmdgPDYmdaNyaGWcKJFJj1pXX8/rW12B0u7p03jkOHFvm9\n",
       "tqOTVwtM8hJqnsyVwAHAG8AkYAbwTqyM6vZ4snW9iUKWcCIF5r8/2rjmxTVkpqXwxwWTOiUw2geT\n",
       "3IQqMnal1F6M/JWJSqmvgJ/HzqxuTgyyhBMlMEopnv9iB3e9uYGD++Xz5ILJDO2ZE/Celf/7EpvV\n",
       "qgWmixBqnsxVwDcYS6X/AlXANqXUKbE1LzhdNk8mitGlRAlMa5uT+9/ZyIcbKzhxTF+uOX4k6an+\n",
       "/665XC4sFuN81d5Kinomtu90KHQHgYlLnoxS6jGvAccDQ4FN4Q6qCYEoZQknSmD2NrTy+9fWsdFa\n",
       "z8KfDeP0QwcFTP+3lVu54Mz53LjoTmYcfawWmC5EUJERkcMwikl9rpSyKqX2isghwLfAyFgbqAmf\n",
       "RAnMFlsDt7yylvqWNu44eQypRukpAAAgAElEQVQzRgQWDG8fTGaHxvdmRQtM6AQUGRG5E5gHrAT+\n",
       "ICJnA5dilGiIdIOkJobUt7RRu/kremxdQUpjmc9ez8FKXobD51squXvFBvIy0nj8zEkc2Cc34Fhm\n",
       "dvL6s1kLTOcI5vg9G6NA1TnAscDbGKHrqUqpLugI6Rp4BKZwzdN+ez0HK3nZWZRSLPt6F4teW8fQ\n",
       "njk8eVZ7gfE1Vv3u9aYWGF82F9grtMB0kmDLpTZ3rReUUrtFpBZYpJRyxd40TTh4lkg9tq7Akem/\n",
       "13Owkpidoc3p4pH3NvP2OitHj+zNjT8/iIy0lH3n/Y3Vu2U7M44+jjknzzWVwIBvm9PTUsmvXQsD\n",
       "dHpYZwgmMgNE5F2v172Atz0OPL13yVx4+2BSGstw5rZ3HKv0AlIajELiwUpihkptUxuL/rOOH0pq\n",
       "+fXhQzjn8CH7OXg7jlVeWY3dbmdIQRO33fNAp8aLFx1tzkpPJT+zMPZlU7sgwUQmsT07NSHT0ckb\n",
       "rNdzsJKYobBzbyM3v7KWyoZWbpk9iuNG9fF5nfdY5ZXVzL90EWkpFt7/24OdfZtxw9vmrPRUCrLS\n",
       "jHylOPYb7yoEFBml1MfxMkQTPr6iSI3DZ1O45mkcGDMYsdeS2lJDzcGnA0bJy5zt7+LEmMFIWyMp\n",
       "rfU0Fh8e0pjf7Khi8RvrSU+x8MgvJzK6ON/vtZ6xSitrmH/1/ZTZ9rLsnotx9DfvhkePzelp7hmM\n",
       "JyHyoBmJNi3p0B0kk5xAYep062pyYhBdenV1CU98uIWhvXK4+9Sx9M0PHnbeu3UNZ55+OmW2vfzz\n",
       "kZuZNPOMiCNZsabAXkHP2rXxb8pnMuJVtEpjQoLlwQTr9RysJOZ+17sUf/pwC6+uKWXaAUXcOmcU\n",
       "2emh/Qjd+cDjlFXW8tyLrzF+2hH7t6AwGXmZafTsPUw7eaNAp2YyIpKHkYC3WSlVFzOrOkF3ncnE\n",
       "O9GuodXBnW+s55sd1Zx2yEAWHnmA3xowvqitqWbHtq1MmBz2H8S4ofNg2hPpTCZgnoyIzBGRNSLy\n",
       "rDvzdy3wMLBWRLRTOEHEW2BKa5q54oXVrNpVw3UnjOSSo4eHJDC2ciu33XgtrS0tFBT20ALTTQk2\n",
       "130IuBCjzMPrwDFKqfUiMhhY4f7SxJF4C8z3e2pY9No6FHD//HFMGtwjpPu8M3lPP/tcRo8bH1tD\n",
       "o4AWmNgQTGRSlVKfAZ+JyJ1KqfUASqld7tYlmljhYxd2fUafuArM22utPPzeJvoVZHLP3LEM7JEd\n",
       "0n0dtwpEQ2BisQXCG58CE4c6y92BYCJTKCI3u/+d5fVvAXz3rdBEjo8av83rXqeq37EQh4iMSyn+\n",
       "8ul2ln2zm8mDC7ntpNHkZaaFdG8s9iJ5UvydGXlGin9bIznb323XIC4S/ApMjOssdxeCicwfAc9P\n",
       "15+8/g3wREws0uxX47dJsql3tYSV8t9Zmu1O7nlrA59v2ctJE/pzxTEHkpoScqNRqvfuxW63R3Uv\n",
       "UjS3QHTE7xIpxnWWuxPBkvHuiJchGi+8avw22R3UNbdBGCn/naWivpVbXlnLtsoGLj9mOHMnDQi5\n",
       "BWxDQz05ObkcNHoM732xivT0SFul/0S0tkB0JKAPJoZ1lrsbQf9Eich0EflIROpFpFpE3hCRifEw\n",
       "rtvirvG7T2DofMp/Z/nRWscl/1xFaW0zd88dy7zJA0MWGFu5lbkzj+LJR41tAtEUGPgpxd+bSD+P\n",
       "oE7eGNVZ7o4EC2FPA54D7gH6AoPdr/+lhSaGDJhMc0M19bVVoFyIvZ6U1npa+0yIyXAfbbRx9b++\n",
       "Iz3Fwh/PnMTUYT1DvtfbBzP18CNiYl9rnwmktNYj9vqofB4hRZFiUGe5uxJsJrMYOE8p9a5Sqkkp\n",
       "Va+UehlYiCE8mhhQn9EHW79jUanZWJoqUKnZUXNyeqOU4u9f7mTxGxsY2SeXP501iWG9Ahf59iZe\n",
       "BaececU0DpsZlc8j5DB1wQDDyZuabSyRUrO10zdMAmb8ishupdSgzp6LJ10t4zdeeTB2h4sH3tnI\n",
       "Bz/aOGF0X647IXCR7/3ut9s5+bgjKNm923QFp/yh82DCI9Z7l5oDnGsKd1CNb+IlMFWNdha9tpb1\n",
       "ZfVcMGMoCw4bHLL/xUN6ejqXXn0DxQMGaoHRBCSYyAwREV9dCQSjuLgmSsRLYLZVNHDzK2upbW7j\n",
       "9pNGc+TI3sFv8sJWbmXzjxs44qhjOHn+L2NkZXTRApNYgomM7kbgiyhngsZLYL7cupe73txAdkYK\n",
       "j50xkZF984Lf5IXHB1NdtZePVq4lN9e4P9bZuBC8bIU/tMAknoCLcKXUzkBf8TLSVHgyQR1NRh6F\n",
       "o8l4XVsS1uPiITBKKV5auZtbX13LoKIsnlwwOWyBsZaW8tTzS9sJTDQLkvsi3bo6YFF0f2iBMQfB\n",
       "WqJsBnx5hgVQSqnuN9OJYiZoPASmzeni8Q+28OYPZfxsRC9umnUwWV5FvkMhUBQpltm4HnKCFEX3\n",
       "hRYY8xBsufQJcCTwLrAEiG3KaTIQpUzQeAhMXXMbt7++njW7azhr6mDOO2Iolk46eAFe/Off/Iap\n",
       "Y5WN602wougd0QJjLoItly4ApgCbMZLw7gYGRmu5JCLpIrJeRP7ifn2ViOwSkY0iMivS58eEKGSC\n",
       "xkNgdlc1cfnS1awrreWmWQdzwYxhYQkMwGXX3MB/PvjUZxQpFtm4HfEURW83hldRdG+0wJiPoIkR\n",
       "SqlapdSjSqnxGLOZq0TkaxG5NArj3wzsABCR4cBlwBhgLvCsiIS29TeeRJgJGg+BWbWzmsteWE1D\n",
       "i4OHTpvAzNF9O/0MW7mVc047hZ3btyEiDBs+wud10c7G9UXj8NmkttQgLVXgciItVaS21NA4vH3d\n",
       "NC0w5iT07CuDavdXPrD/n5FOICKjgEOBF92H5gIvurOK12OIzyGRjBETIsgEjYfAvPF9KTe+/AO9\n",
       "ctP501mTGDugoNPP8PhgVn3zPyps5QGvjWY2rj/s/SZRM/EiVFoeKQ0lqLQ8aiZe1M4fowXGvASt\n",
       "Ai0i2Rh9ry8CGoGngMuVUm3hDipG5tfjwCWAp8fEIIzynh724EfIRGQhxtYGBg8eHK4Z4VMwwHRO\n",
       "XqdL8dTHW1m+qoTDhhXx+zmjyMnofJ34/Zy8U4O3SOlsQfJwCFQUXQuMuQkWXfoTcCJGD+xzPJXx\n",
       "osDFwEdKqS0i4hGZdMC7/a0LfBe1V0o9AzwDxraCKNkUM2ItMI2tDu56cwP/217FvMkDuOSo0Grw\n",
       "dqSivNy0van9oQXG/AT7U3cJxi/6RcBCr9RzTwg73D39vwLyROQ0oAjIwZjZeE8PBgK7w3y+aYiV\n",
       "wHgS4KxV1Vy3pj876i1cffwITp4Q/owiMzuL4gGDuPfhJ/YJTDwS7cJFC0xyEKxoVWd9NiGhlNr3\n",
       "J1JEzsVYMr0B/F1EHgSGYojPmliMHy9iKTA5299ldWMPfruyGIdSPD6pjLEHjAirn1GlzUZObi55\n",
       "efk8/+Kr+/YxxbrsZSRogUkegtWTeSqcc+GglPoW+AewDlgO/EYlcXvLWC6RMmzf8WZFLy79qoCc\n",
       "NMVfjnYwpTiNDNt3nX6WrdzKgrmzuPri8wDabZRsl2gnFiPRLiMvrHGiiRaY5CLYTGWhiNhFpM3r\n",
       "yy4ibcBvomGAUup5pdSF7n/fo5QappQapZT6PBrPTwSxFBiXUjz9fRu3rcljXJHi2aPbGJKnjAS4\n",
       "5spOPctWbuXseXMoKynhN5detd95S3MlKq19fZlwxokmWmCSj2Ais0Qpla6USvP6SldKpQHPx8G+\n",
       "pCOWAtPS5mTxG+tZsq2Akwe18NiMNgrcv2+dTYDzFhh/Tt54JNp1Bi0wyUkoGb+dPtddiaXAVDa0\n",
       "cvW/1vDppkoundaL3x9URrojvAQ4pRRXX3ReQIGB+CTahYoWmOSl84kUGp/EUmA2lddzy6traWp1\n",
       "cuepY5g+vBdN9T2MqE9TBa6sXjQWHx6yM1ZEuP0PD1NXUx0wTO1JtAt3nGihBSa50SITBWIpMJ9s\n",
       "ruAPK34kPyuNx8+cyPDeuUB4CXC2ciuvv/wS5198OSMPHhXSPfFItAuEFpjkR4tMhMRKYJRSLP16\n",
       "N3/5bDuj+udx5yljKcoJv9WIdybvzNknMWjI0OgZGyO0wHQNtMhEQEeB6Wzimr/r7Q4Xj6xYwzub\n",
       "65nZr5FbpjSBqx9OwptRdNwqoAVGE09ikmzXHfAlMJ2pEOfv+nrbLm741ze8s7mehSMbuWOahUwV\n",
       "frW5eLUtiSZaYLoWeiYTBr6WSJ2tEOfr+s31KVy3fCt7W4S7J9dz3NCMkJ4ViB/WrKKyokILjCZh\n",
       "aJHpJP58MJ2tENfx+i+twq1fF5JpcfHUoTZGFbcv0dDZanMOh4PU1FSOO3E2H6/8gfyCwpDvTRRa\n",
       "YLomernUCQI5eTubuOa5Xin415YUrvsijQHZTpYcY2dU//yIkuBs5VZOPm4G7654HUALjCahaJEJ\n",
       "kWBRpM4mrrX2mYBqrueBVS4e+T6Vn/W185dD9lAwZHxESXAeH8zunTsoKgq9p3Ui0QLTtdEiEwKh\n",
       "hKk7WyGuJq03l/04mpd3ZvGroXXcO82JGnECzrzisKvNaSevxox0XZ9MlBqwNdh20rjta3JDCEv7\n",
       "S1zrGKremjGKm961UVbbwm9PPIifj+1HS4jP8kddbY0WGLMQ5eZ/yU7XnMlEqQFbg20nLT+8HlHj\n",
       "so6h6lXWNi5Zvo26plYePG08Px/br7Pvzid5+QWcOOdkLTCJJsrN/7oCXXMmE4UGbPUtbTRu+xqJ\n",
       "sHGZd6j6Pzss3Lc6k0E5Th48vJGigZE7ZG3lVhob6hk2fATX33J7xM+LB11WYCCqzf+6Cl1TZCJs\n",
       "wObxweRGoXGZpbmStqze/OmHFF7YnMrUPi7uPqyN/LYKGoLfHhCPD0YpxduffkNqqvn/O7u0wEDU\n",
       "mv91Jcz/UxkOngZsnr8iEHIDNm8n774wc/pPfaM7W0+lPrUXt32Rwme2VH5xgJOrxztIc0Rek6Wj\n",
       "k1cLjEmI4Gevq9I1fTJhNmDrGEWKtJ6Kta6FhV8W8mVFGtePbeD6CXbSHJHXZNFRJBMTYfO/rkjX\n",
       "FJkwGrD5ClNH0rhsfWkdl/1zFdYGJ/fNGsAvDrRErfnZQ/fcoQXGrETQ/K+rIklcqxsw+i6tXLky\n",
       "omdEu1zDBxts3P/Oj/TKzeCeuWMZ0jMn+E0dCLSju7GhgW1bNzNugu9mZ9EYI1rXdCuB6aKIyLdK\n",
       "qSnh3t81ZzKdIJoCo5Ti+c93cPeKDRzcL58nF0wOW2A67tCuX/kSN116Do0NDeTk5kZFYILtGo/0\n",
       "Gi0wGujmIhNNgWltc3LXmxv421c7OXFMXx74xXgKstPCelbHViTWOgdzb3iCN998k61bNkXF3lDa\n",
       "nURyTWHNWi0wGqCrRpdCIJoCs7ehld+/to6N1noW/mwYpx86qF3/os7ivUO7vLKa+ZcuoqyimqX3\n",
       "XsbYidFxIIayazzcazJzCihwVkfFTk3y0y1FJpoCs8XWwC2vrKW+pY07Th7DjBGRhyo9oXNrncMQ\n",
       "GFsVLzxwLYcdMommKNjsPUag8Hw412Slp1JgaYaM7huy1bSn2y2Xoikwn2+p5MplqwF47IyJUREY\n",
       "+Cl03lhTiXIpXnjgGo44uDiqrUhCCc939pqsNIshMN08ZKtpT7eKLkVLYJRS/GvlHv78yTZG9svj\n",
       "rlPG0DM3ev6HutoaCqWRzIrvcTWUY8ntG5NG99GMLhXWrKXAVas3BHZBIo0udZvlUrQEps3p4pH3\n",
       "NvP2OitHj+zNjT8/iIy0lChYaOBJtJs5+yRuuPWOqD3XF6Hs9A7lmuzeQyg4YGQ0TdN0IbqFyAQS\n",
       "mGB/qb3PV1l6ceOannxX1syvpw3h19OHYAnBwetvjHTranK2riClsQxnTn+25R/GWRfdiLW0lKOP\n",
       "nxnx++5s94RwnmGKMHWylVZINnsjpMv7ZIIJTKA8EO/zWx19uODjDDaUN/L7Y/tx7hFDQxYYX2Nk\n",
       "bnuPwjVPI231OHMHUG6zcubZ52It2cNzy5Zz6LQjInrfne2eEM4zTCMwyVRaIdnsjQJdWmSCLZGC\n",
       "5YF4zn9Vnc9vPsmgyWnhycPrmJO/LWQb/I2Rv2EpjsxCVGYRDiXMv2cFpVVNvHTrvIgFJpT3Fukz\n",
       "TCEw0L60gliM75n5xnEzkmz2RoEuu1wKxQcTLA/E0lzJi9Z+PPJ9GkPzFA9Ob6N/VkanSz34GiOl\n",
       "sZy2HiMASE2x8LuzjqIoJ4MZQ1KoDPnpnR83GrbntFWTZwaBgeQrrZBs9kaBLjmTCdXJG6jDgNOl\n",
       "uH9Tfx78Lp1pfV08c1Qb/bM7X+rB3xjOnL6Ul5fy9tdGBu+caQczfUQBzpz+IT87nHEjtT2bVvKK\n",
       "olPNLyp4Sit4Y+bSCslmbxTociLTmSiSvzyQvYVjufmVH/j39jTOHlLLA4dUk5Pa+VIPgcbY3PtE\n",
       "Tr79ZS555FVq6xqRlipSW2poHD473Lce0riR2J6tmsmXJnPlwCRbaYVkszcKdKk8mXDC1B2jJ9sz\n",
       "R3PTezb2VDdz9XEjOHmYinqEZjf9OeNX52Mt2cO/b53HEUNSceb0p3H4bOz9Itv4GGjcSGzPcdQY\n",
       "MxgzRkKSLVqTZPZGmieTMJERkUzgceBoIAN4VCn1iIhcBVwHNANXK6XeCvQcj8hEIw/m+z01LHpt\n",
       "HQq4/aTRTBrcw+d1HUPPHnEI5Zfau+DUX5c8w4zBaRGJQDwwjZNXkxCSudRDDvAOcBBwCHCTiBwF\n",
       "XAaMAeYCz4pI0K3M0RCYd9ZZuf6l78nPSuNPCyYFFBjv0LO01VO45mkyt70XUsj49Zdf2icwR/es\n",
       "iijEHA+0wGgiJWEio5Taq5Rargwqgd3AkcCLSql6pdR6YAeGAPnFpVREAuNSij9/uo373t7I+IEF\n",
       "/GnBJAb2yPZ7fc7WFftCz1hSjBB0ZiH5G5YGDBl7ZoznX3w5Kz7+ihmD0yIOMccaLTCaaGAKx6+I\n",
       "jAUygV7ATq9Te4D9wi0islBEVorIynJb6CHZjjS3Obn9P+tZ+vVuThrfnz/MG0deZuCJU0pjGSq9\n",
       "oN0xlV5ASmM5Kq19gSqVloOluRJbuZUFp85i048bEBEGDRmKpbnS7/VmQAuMJlokXGREpBfwd+A8\n",
       "IB1weZ12Ac6O9yilnlFKTVFKTSnqGV7or6K+lauWreGLrZVcdsxwrj5+BKkpwT8OZ05/xF7b/j3Y\n",
       "a3Hm9PUZMi5rTOGsubNZ+90a6mp+qrESjRBzrNACo4kmCU3GE5EewBvAzUqpb0RkFuDtZh+IsYyK\n",
       "Ch7H7I/WOq5f04cmZyp3zx3L1GE997vG44x15PQjtdG673Vz/8PI37QcB8YMRuy1pLbUUDfqTNIb\n",
       "SnBizEikrZGK0j3M+92zWK22/Yp+t/aZQM72d9tdn9JaT2Px4dF6u2GhBUYTbRI2kxGRfOB14C6v\n",
       "CNKbwBkiki0io4EiYE00xvPsw/nvLgcXfd2XNFE8N2UX03u17neNxxmbUl9C4ZqnSakv2eecTW8o\n",
       "oW7kfFRaHikNJai0PGomXkTLASe062xgq7Nzih+Bgcg6IcQKLTCaWJDImcyVwCTgURF51H1sJvAP\n",
       "YB3QAlyoohRjTy//jj/v6sPTG3MYV+TivmkOeloyUV4tZ9vt1QFSmytwZBaS2lyBs2Dwvja1FuWg\n",
       "+ohb9hvDuyyCpamJA0a+xr2PPuW3bUkoZRTihRYYTaxImMgope4C7vJx6h73V9SwO1zc97XinbIc\n",
       "fj7Iye8mO8hIAaUC16u12OtwpRcgrXU/2R1k/09FeTmZWZnk5Rfw9N+WRfNtxAwtMJpY0mU3SHqo\n",
       "arSz6LV1rC/L4ZKDGvn16FQ8FRqC1at1pecjrbWojJ+iSYGcs55Eu/7FA/nrS69FVEw8XmiB0cSa\n",
       "LikyHuftNlst167uS7U9hcXH92O2fImzLc+vo7WjM9aR1Zusyh9xOtrI3PFfSE3HmdmThoNP229M\n",
       "70zeex9+op3ARCO9PxZogdHEg4SHsKONx3n7eUkbF37dD6dL8edD9nDUAXlBHa37O2OzaCs8EFdG\n",
       "DiKCAsSHhyhQb+poFI+KBVpgNPGiy81k0su/4x8lvXl8fQ4jChUPHO6gb0qG4eAdPqtTNW2zt76F\n",
       "PS2zfUsQez0ZXs5igBsuv8hvb+qOzmSP87jjM+KJFhhNPOlSIuNwurjvWxev7snl6GInt01xkJW6\n",
       "v4M3VEIt/LT4/keosJUzZer+OS7RKB4VTbTAaOJNl1ku1TW38dvlP/DqnlzOPbCJe6YaAgPhZ9IG\n",
       "ysq1lVt54uH7cblcDBl2gE+BCfaMeKMFRpMIuoTI7K5q4vKlq1lXWsvNR/fl8mHlpLSFX6zJg7/C\n",
       "T7vpz9nz5vD04w+zc/vWsJ4RzUZtoaAFRpMokr5o1fDR41XWaQ+QahEWnzKGsQMKohrN8VVw6sxf\n",
       "X0BZSYlPH0woz4h3dEkLjCYSun1ztz3VzRyem849c8fRryATiG4mrfezbOVWzp43p1MCE217OosW\n",
       "GE2iSXqRyUlP5Y9nTiInI/ZvZfOPG6jaW9kpgUkkWmA0ZiDpRWZAYVanBcZ7+WJprSO1bjeWtga/\n",
       "dXbtdjvp6ekccdQxfLRyLbm5eX6ebB60wGjMQvI7fjuZue+dHGdpbSBn2wrSq3/ElZa/r5RmunX1\n",
       "vutt5VZOPn4Gr/37XwBaYDSaTpL8ItNJvJPjMstX4cwsxJXRg9SWyn2lNHO2rgB+8sGU7NrFgIGD\n",
       "Emx5aGiB0ZiNpF8udRbv5DhLSxWurJ6AII4mwF1Ks6EkLCevjiJpNPvT7WYy3slxrswicDSCy45K\n",
       "zQKMUpo1lqKwBCaRe5S0wGjMSrcTGe/kuJa+k0lpqcHSWo0js9e+Lo4y5lRO+cUZnYoiRaPBfbho\n",
       "gdGYmW63XPLstM6wfYcrI5fGA2a7o0t1lLTmsafgeIb3n8xl13SubWigPUqxXEZpgdGYnW4nMuA7\n",
       "Oc5TrsFuf533vjiZ9PT0Tj2zY8ErwL0ssxg1ajLyjGVUWyM529+NSj1fLTCaZKDbLZd84V0P5qEn\n",
       "num0wID/PUpATJZRWmA0yUKXmMkEWo4EW6rs3bqGs08/HattLy88egsTxwzdv9FTCHgvwyxNFbiy\n",
       "etFYfDhZOz/w3cQtglIPWmA0yUTSi4w47X6XI0DApUpKfSn/796bKaswBGbamMGkRLCU8bUM87eM\n",
       "CrfUgxYYTbKR/CLjaPZbeQ4IWJUuw/Ydt135KxacdgpjRw5DQdSr1kWziZsWGE0ykvQ+GXE5/PaU\n",
       "9tdvumLPVq6++HzqbLvIyO3B2JHD9rs3WkSriZsWGE2ykvQzGWVJDbgc6XjOVlbCvOv+SFllLVtn\n",
       "T2JyUfSWMv6ItNSDFhhNMpP0MxmVmuW38lzHiI+tdDfzr7yHssoalix7mdHHzDdF1bpAaIHRJDvJ\n",
       "LzIp6X6XI95LlYrdW5h31f2U7m1gybJXmDJtuin7UXujBUbTFUj65RL4Xo50DF3X9Z1Kas4/WPLE\n",
       "knZbBczUj9obLTCarkLSi4w47eSu/ScZFT+gUNh7j8feazSZ7r1Ee9syKUxp4KC2ct76z79RBQMT\n",
       "bXJQtMBouhJJv1yytFSTVfY1rtQMSM0kw/o1+Wv+jHI5sNY5OGnhrdz6xEs4M/LIqvwh0eYGRQuM\n",
       "pquR/DMZ5cCR1QNSs1EAYiG1Yh2Ve7Yx/47llNmqOPn4IxLaUC1UtMBouiJJLzIoBSmZP71MycRa\n",
       "5+CUh/9GWU0rLzx6K1MnjkLs9QlpqBYqWmA0XZWkXy4hAs6WfS9VWzNzn1hFaVUjSx+8lqkTDjJl\n",
       "aNobLTCarkzSz2SUpJLaXI0jUyGAxV7DbReehAyawmEH9Wm3WdEsoWlvtMBoujpJLzKiXEhTBdU7\n",
       "1vPZTjuzT/0lUxbMNULTiTYuCFpgNN2B5BeZtkastc3MfmI9ZbWtfDPTRVaijQoBLTCa7oLpfDIi\n",
       "8ksR2S4iW0Tk/GDXt7kszH7wf5RWNfKvG+fQo29xXOrqRoIWGE13wlQzGRHJAx4CpmFUXVgjIq8r\n",
       "pfzGnjeX15NqsbD8mhkcMaCNBpOHqrXAaLobZpvJnAh8rJQqUUpZgf8CxwW6oc3hYvn1x3DEyF4I\n",
       "EpNd1NFCC4ymO2KqmQwwCNjp9XoP0L/jRSKyEFgIkGrBdeVTH9RbQFqdyt7seL2pqlnV2J20xcfk\n",
       "TtELiF6xmtiTTPYmk62QXPYeFMnNZhOZdMDl9doF+5fcVUo9AzwDICIrN1Y6p8THvMgQkZVKqaSw\n",
       "FZLL3mSyFZLLXhFZGcn9ZlsulQEDvF4PBHYnyBaNRhMFzCYy7wInikgfEekHTHcf02g0SYqplktK\n",
       "KauI3AJ86T50nVKqMchtz8TYrGiSTLZCctmbTLZCctkbka2ilIqWIRqNRrMfZlsuaTSaLoYWGY1G\n",
       "A4CIZInIyGg/N2lFprPbD+KNiGSKyDMisklEdorINe7jV4nILhHZKCKzEm2nNyKSLiLrReQv7tdm\n",
       "trVARJaJSImIbHXbbkp7ReRaEdns/nm9zH3MNLaKSL6IvAqUA7/1Ou7TRhH5g4jsEZEfROSQoAMo\n",
       "pZLuC8jDCG0PAPoBVqB3ou3qYGNPYD4gGIlX5cBRwCa3/aOBUiAt0bZ62Xw7sAL4CzDc5Lb+DbjV\n",
       "/flmmtVeYCiwA8hx/0zUAmPMZCuQi5FZfyHwF/cxn58ncCzwGUbQ6ARgTbDnJ+tMptPbD+KNUmqv\n",
       "Umq5MqjEEMUjgReVUvVKqfUYP3zB/xLEAREZBRwKvOg+NBfz2upJb7jH/fm2YF57PZnnLoxfzHpg\n",
       "NiayVSnVoJT6AHB4Hfb3ec4DnldKOZRS7wG93f8ffklWkQlp+4FZEJGxGH9te2FCu0VEgMeBq7wO\n",
       "m/kzHgNsB5a7p/IPYlJ7lVIlGDPEr4D3gQUYSaams7UD/j7PjsdLCGJ7sopMSNsPzICI9AL+DpyH\n",
       "ee2+GPhIKbXF65hZbQvyLv8AAARwSURBVAXogzGFvwKYDBwBnIwJ7RWRfAxhuQp4GLgec3+2HvzZ\n",
       "2GnbTZWM1wnKgKO9Xg8E/pcYU/wjIj2AN4CblVLfuJ1nZtw28SsgT0ROA4ow/AePY05bAWzAt0qp\n",
       "PQAi8h7GD7oZ7T0b+F4p9RHwkYjMxfAhmtFWb/xt8el4vBhjluOXZJ3JmH77gfsv2OvAXUqpt9yH\n",
       "3wTOEJFsERmN8Qu9JlE2elBKTVdKjVNKTQQWAa9giKPpbHXzFTBaRIpFJAM4HmjAnPa2ABNFJM1d\n",
       "L2kkxrLJjLZ64+9n9U3gHBFJEZETgE1KqapAD0rKmYwKb/tBvLkSmAQ8KiKPuo/NBP4BrMP44btQ\n",
       "uV35ZkMp9a2ImNJWpVSjiFwBvAdkYDgiH3ILjtns/QdGRGYb0Az8VSn1uZk+W7f4rcaIJGWKyNHA\n",
       "b/Dxsyoir2BESbcBezGWgoGfb47/B41G01VJ1uWSRqNJErTIaDSamKJFRqPRxBQtMhqNJqZokdFo\n",
       "NDFFi4xGo4kpWmQ0ESMiO0RkYKLt8IWIHC0i7yfaju6MFpluiIgodx2ePSLypYjMSbRNHRGR20Vk\n",
       "r7tWzGYRmZdomzThkZQZv5qIcSqlDgRwp4z/XURylVL/SrBdHXlEKXWXuwzFZyLyH6WUI+hdGlOh\n",
       "ZzLdHHetkAXAfbCvBONT7tnDZhG5yH283bJDRJ4XkbO9HnWmu6reVhE5xn3NOBFZ6a4I976I5LqP\n",
       "7xCRm0Vkg7tUw6ggNm4AGoEe7vtfcI+zRUSOdR+7XYxKhB+KSLmIXN3xOSLyOxF5W0RSIvjINJ1E\n",
       "i4wGpdRGIEtE+gA3YcxwRwLTgOtEZHwIj+mplBoNXAA86z7WCsxRSg0DaoBfdBh3FPAScE2gB4vI\n",
       "TKBSKVXhPvSUUmo4cDXGhk4PhwL/B/wMuEtEUjs840zgl0ops5VV6NJokdF4SMWo4jYbeNxdcW4v\n",
       "sJz2ZTX88SyAu6RBmoj0xCgNME9EnsOo++JdIsCzNPsYGOLnmVeJSDlGHZbZ3raKyMPAtR2e+YZS\n",
       "qlEptQmjzGVv9/EBwBPAKUqpuhDeiyaKaJHRICKTgXKlVDWG2Lg6XOLEKM3ovcxI63CNt68kE2PH\n",
       "8RKMGrf3YMxYxOuaVvf3tg7P9eYx4ECM+iuz3bb+HHgQWIZRAMrXMzs+t9n93Z+YaWKIFplujohM\n",
       "AJ7npyr17wFXiEERcCpG/ZOdwMEikiEimcDhHR51mvt584GtSqkmYCzwMkaJxrBqMCul6jGqCt7u\n",
       "rh00FvifUuprjDoyoVAFnI7h4B4Rjh2a8NHRpe5JiohswZhxbAeuVUp5nLqLgSeBrRgzgDvdPhtE\n",
       "5O/AFxg1RjZ1eGZPEVkPNAHnuI89jFEAayewIVxjlVK7ReQxjGp9NwBvishGDAEL9RmrReQm4A0R\n",
       "meaetWnigK4no9FoYopeLmk0mpiiRUaj0cQULTIajSamaJHRaDQxRYuMRqOJKVpkNBpNTNEio9Fo\n",
       "YooWGY1GE1O0yGg0mpjy/wEsWh9D4lC3twAAAABJRU5ErkJggg==\n",
       "\"/><img style=\"margin:0\" align=\"left\" src=\"data:image/png;base64,iVBORw0KGgoAAAANSUhEUgAAARkAAAEnCAYAAACdYDfKAAAABHNCSVQICAgIfAhkiAAAAAlwSFlz\n",
       "AAALEgAACxIB0t1+/AAAADl0RVh0U29mdHdhcmUAbWF0cGxvdGxpYiB2ZXJzaW9uIDMuMC4zLCBo\n",
       "dHRwOi8vbWF0cGxvdGxpYi5vcmcvnQurowAAIABJREFUeJztnXd0XNW1h7+t0Yxkdcu92xhsLHdc\n",
       "MIaASSjBVBeKKS+hhECooYReAiR0cCgJ8AKGB7ENxCYEMDVgCC3EFTeMkbvaSJbVRn3mvD/uSIyk\n",
       "6TN3iny+tbTkuffOufuOrJ/O2XufvUUphUaj0ZhFSrwN0Gg03RstMhqNxlS0yGg0GlPRIqPRaExF\n",
       "i4xGozEVLTIajcZUtMho2hGRDBHZLiK/DOLaPiKyRUT6i8gvRUSJyOWdrhnuPp4VxHhpInKSiDzg\n",
       "5ZxFRI4RkUdFJL3TuRdFpEJEqkTkbyKS6T6+RER+EfChNaYjOk+meyAiTcCGAJcNV0r1FpFZwHKg\n",
       "GDgUyFFK1YvI88BPgR7AdKXUbj/3ex5YpZT6i1uUngIagEOUUlXua4YDO4BspVSdn7GOBt4BqoAe\n",
       "SqneHucOBv4DOIAhnccSkQXACiAPeBN4Syl1h4j0BtYBY5RStQE+F42J6JlM96EE+BnQ6O1LKTUV\n",
       "8PxFfw04HVjtFpgHgCOAacD9wAciMszbjUSkDzAbeNHj8HfAGuDuMGz/ARgPXODlXAXwE+Bob29U\n",
       "Si1RSlUrpXYBHwGD3McrgLeAC8OwRxNFUuNtgCaq1AK/DOH684FlIvIq0B/4qfuX808i4gBWisj1\n",
       "Sqnlnd73M+BzpVRDp+O/BVaJyDNKqe8630xEvgDuV0q97XlcKVXsPj+883vcs6Iqb+c8xrUCk4BT\n",
       "gUs9Tr0DXAE84eu9GvPRItO9yMJYtnjj516OnQFcBAhwCYaoeJ5/Fqj08r6JGLOWDiilNovIs8Dj\n",
       "wElezh/pz/hwEJHLgL8ALuAe4DOP02vctmriiF4udR9uBD7F8E10+RKR9cBlnd6zGJitlHoQKACm\n",
       "A9crpQ4FxgDvK6VWerlXL2CfDzvuBqaIyMkRPU2QKKWeAdKAqcApwEMepyswbNXEET2T6T5sA7Yq\n",
       "pc7xdlJEVmL4TTz5K/ChiJQCfTBmQc+IyFAM/8z/AmO9DNeI8YvdBaVUtYjcCjyG8UtvOkqpZmCt\n",
       "iNwCvI4huGA4sBtjYYPGN1pkuhc/E5HPfZwb3/mAUmq/iGRjLDGWKqUeEJFiYDIwB1jiY6wijEiP\n",
       "L17AmDX9JmjLo4MLIwrVxmAMWzVxRItM92Ibvn0yd3Z6Pc79l79ZKbVNRLJE5CCMmUA/4CzgGB9j\n",
       "fQ486ssIpZRLRK7GiPaYhogcCQzFCGH3Ae7FWAK2cTTwhZk2aAKjfTLdi1aMMLW3L2ena/cDLRgz\n",
       "FoCrgHql1CNAPbBLKbXTx32+AvJFZIwvQ5RSXwLLPI+JyBci0mUJJSKzREQBnwC93Al8yn1uuPvf\n",
       "O9yX17rPDwdqgN9hhO8/Bv4N3OEx9C+Bl33ZqIkNOhmvmyAikzBmDj/4uKQAmKCU2ulOxjtHKXWZ\n",
       "iMwAlna6NgewYAjRQqXUQi/3WwDMU0rNj9YzRBMRORW4Uil1YrxtOdDRy6XuxUcBHL9dUEp9DQwP\n",
       "9UZKqSUi0lNE+iql7KG+PwYMQCfiJQR6JqPRaExF+2Q0Go2paJHRaDSmokVGo9GYihYZjUZjKlpk\n",
       "NBqNqWiR0Wg0pqJFRqPRmIoWGY1GYypaZDQajalokdFoNKaiRUaj0ZhKzERGRHqIyKhY3U+j0SQG\n",
       "pouMiOSIyD+AMozaH23HrxGR3SKyVURO8jj+gIjsFZENIjLFbPs0Go25xKLUgwt4EngbmAEgIiMx\n",
       "WlWMxSjj+JG7x89PgKMwSg8cCzyP0epCo9EkKabPZJRSdUqpf2FUbWtjDvCaUqpWKbUZ2AlMAeYC\n",
       "LyqlWpVSHwJ9RKS/2TZqNBrziFfRqiHARo/XezGKDA3BaDXaRpH7eKnnm0XkUtxNvDIzM6cceuih\n",
       "phqr0UQTl1K0ODvWcUppqgblArH8eFA5QVJwpeUGHFOczUhrA+JqRaWkolJ7oCy2iOxsbWlhR+E2\n",
       "mpqaKpRSfcIdJ14iY8NYRrXhwqhB6+t4B5RSzwHPAUydOlWtWrXKPEs1mihS29hCeW1Tl+NZG1/G\n",
       "ldEHxGNxoVyk1JdTN85b994fsdQWk7njA5xp2ShrJtLiwNJUi2PECTizB4Zlp72slPPmzMZiSQWa\n",
       "doU1iJt4hbBLcPcsdjMY2OPl+ECMWY5Gk/T4EhgAV4/eSIujwzFpceDq0TvguGn29YbA2LJBUlC2\n",
       "bJxp2aTZ14dlZ5vAlBYX88LSZYHfEIB4icw7wDkikiEiBUA+sM59/BciYhGR44HvlVLe2qRqNEmF\n",
       "P4EBaOo7EUtTLdJcC8qFNNdiaaqlqW/gLrspDRUoa2aHY8qaSUpDRch2Op1OLl4wr11gps2IvLOw\n",
       "6csld/OwtUA2kO6ulP8r4BVgE0aHv0uUUkpE3sDo9bMdow3quWbbp9GYTSCBAXBmD8Qx4gTS7OtJ\n",
       "qS/H1aM3joFHYHGUkfPtIiyOEpyZA3CMnE1z/8kd3ts2C1K27PZjwc6COmOxWLjx9t/TI6NHVAQG\n",
       "ukEhce2T0SQywQiML2yla8lb9yyt6XkoWy7SXE1qYxVVk37dQWii4ZOxl5Wy+puvOenUM7qcG9k3\n",
       "e7VSampYD4HeVqDRmEYkAgOQWbjCEJj0fEixoNLzaU3PI7NwRYfr2mZBKjWDlPpyVGpGyAJz3pzZ\n",
       "3HztFVTuC32JFQjdd0mjMYFwBMZSW2wslxoqcPXojbV6Oy15B3e4RtlysdR1be/tzB5IfYiRJEtt\n",
       "MVWbV3LBb+6ktKKKl158gfxeoS+xAqFnMhpNlAlXYDJ3fIC01uPK6IO01iPNDix1xR2uk+ZqnJkD\n",
       "IrbRUltM7arXmX/FXRRXVLHkkeuZ1asSS21x4DeHiBYZjSaKhLtE8haGbuw/DWvtbqSxElxOpLGS\n",
       "1MYqHCNnR2xnmn097/zne4rLq1i88A6mT50SUdjbH3q5pNFEiUh8MCkNFUYyngctfcfS4GxEAEtd\n",
       "Ec7MAVQdenaX6FIweC7FnOm9sFZv5xdnncpxs45kUD9jiaSsmaTUl4dlvz+0yGg0USBSJ6+vMHRz\n",
       "/8OoH3mSn3cGxjP6VFKfyiVX38Yj502kYEo6g/oN7XC/cMLegdDLJY0mQiIVGIgsGS8QbUux0ppW\n",
       "5l1xN5sL91KTNhDb/q1+76eU4pWvI9pRAOiZjEYTEdEQGPCdjBfu3iNPUhoqKKlPZd4Vd1Nir2Tx\n",
       "wtuZNnE0LZXb2sPene/ndCn+9K9tvP1tScT31yKj0YRJtASmjWDD0J1D3U19J/oVI3uDlfm/uYOS\n",
       "8ioWL7ydwyeNQZprae15sNelWEOLk3vf3szX2ys57/Ch/DGip9LLJY0mLKItMMHiLdSdueMDv6Fn\n",
       "24gZjDtoIEseuY7DJ472uxTbX9/Mda+t55sdlVx73CFcfNSIiG3WMxmNJkTiJTDQKdQNxo5r9/HO\n",
       "syB7WSlWq5WevYez8PklAZdie/fXc/PyDeyra+b3p43lyIOj4wTWIqPRhEA8BQa8h7q9hZ7btgr0\n",
       "6t2HJW++F3AptqWkhlvfMOrIPXrmRAoG5kTNZi0yGk2QeApMqH6RaOEr1A0pZBS+azh5HRbOu+YB\n",
       "Skvt3P/YU4iI17HanuHzXQ5u+7Y3vTNt3D9/EoN7ZkTVZu2T0WiCoLPAhOoXiRbeQt3W6r1YGiqQ\n",
       "1npK6lOZf8VdlBYX8dKi55g6Y6bXcdqe4Y1CF79b25uRWa0smvwDw1Krom6zFhmNJgCdl0jRrkQX\n",
       "Ct52XLdm9KY1ZzDKls0N9z9LcXkVSx69gaOGWn2OYytbz5M7+vHghiyO6O/i6WNc5GZn6m0FGk2s\n",
       "8eaDCdYvYhad/StZG19ur4z3wE2XUlxWwbTxo3za0+J08fA3indLMjljuJMbJrWSmgJKmfMMeiaj\n",
       "0fjAl5M3knq8ZlDisPDgn/8Pp9PJoH69mTbhUJ/21DW1csvyDbxbksnlox3cNNkQGNDbCjSamOIv\n",
       "imTmFoBQsZeVMu/aB3nutffZXviDX3vKa5u49tV1rN9bzS2z+nHxUDspLeY/g14uaTSdCBSmNnML\n",
       "QCjYy0o5f+7JlJSU8dJLizhkqNWnPTsqHNy8bAN1Ta38cc44pg3Px1GbE5Nn0CKj0XgQbB5MOJXo\n",
       "okm7wBQVsWjpcg6bMZN6H9eu31PF7W9uJD3VwsKzJ3JIPyP8Hatn0CKj0biJd6JdKOzaUUjV/v0s\n",
       "WrrcZ5ga4JPv7Dzw3ncMzO3B/fPG0z8nPYZWGmiR0WhIHoFpamoiLS2NaTOOZOV/N5CRmen1OqUU\n",
       "r6/eyzOfbmf8oFzuPX0sOT18h7TNRDt+k5XqItj8FqxaZHyv7lpcWhMcySIw9rJSTvvZkbz6yosA\n",
       "PgXG6VI8vbKQZz7dzjGj+vDw/AlxExjQIpOcVBfB1hXQWg9ZfY3vW1dooQmDZBKY8+eeTPHevYw8\n",
       "eJTP65rcZRqWryli/pRB3HHKGGyp8f0118ulZKRoDaTnQJp7E1vb96I1kDvI9/s0HUg2gWlz8vry\n",
       "wdQ0tHD7PzayqbiGy2eN5Mwpg2NsqXe0yCQj9RXGDMYTWxbU2eNjTxKSLALTUF8flMCUVjdy8/IN\n",
       "lFQ3cMcpBcwa3cfrdfFAi0wyktEbmut+nMGA8TojPhmnyUayCAxAj4wMzrngQiZMOsynwGwrq+WW\n",
       "NzYa2wXmT2DC4LwYW+kf7ZNJRgYdBo010FQDymV8b6wxjmv8kiwCYy8rZcP6tQBcdNmVPgXmvzsr\n",
       "ufbV9aSmCH86Z1LCCQzomUxykjsIRs82fDB1dmMGM/oo7Y8JQDIJzHlzZlPvcPDxf9aTlu49t+Xd\n",
       "jaU8+sFWRvTO5P654+mdlRZjS4NDi0yykjsocUSlusgQvPoKQ/AGHZY4trlJNoEpLS5m0dLlZLRU\n",
       "klbUsThWa9YAXv56Fy9+uYspw3py96kFZKYl7q+yXi5pIiMJwunJKjCHjx3epThWWuEHPLZiHS9+\n",
       "uYsTCvpx/5xxCS0woGcymkhJ8HB6sggMwP8+tbBdYKbOmEla4bsdioY7UrK5fUMOX9prOO/woVx0\n",
       "5HCfpTUTCT2T0URGfYURPvfElmUcjzPJJDAAN95xD39f8a92J29KQ0V7Map9jXDFZ1a+tlu5uaCS\n",
       "i48akRQCA1pkNJHSFk73JAHC6ckiMPayUq646Hwqysux2WyMLhjbfq6tONbuWuHST21srxUemlbL\n",
       "GaNiv8kxErTIaCIjAcPpySQw582ZzWcff8SeXTu6nG/qO5FNZc38amUqjhb4y4xqZuXti0txrEiI\n",
       "q8iIyHUisk1EdojIFe5j14jIbhHZKiJde2hqEou2cHpqhhFOT80wXsfJH5NsAtPmg5k8dXqXaz4r\n",
       "s3HZmkFk2+D56SUU9LHhGHFCzItjRUrcHL8iMhy4GhgLpAPbRWQlcIX72BDgIxEZppRqiZOZmmCI\n",
       "RTg9iDB5tAXGrN5KnQXGW6Ldm+uKePLjHxjVL5s/zhlHXoatvShVvHo+hUs8ZzJtwuHCELtaYDbw\n",
       "mlKqVim1GdgJTImPeZqEIYgwuRkCY2ZvpYzMLK8C41KK//33dv70rx84fEQvHj1rInkZtpjZZQZx\n",
       "m8kopYpE5G7gawyxOxeYB2z0uGwvMKDze0XkUuBSgKFDh5puqybOBAiTm7FECqXndLBU7qsgJzeP\n",
       "vv36848PPu0SHWpxunj4/a18tMXOqRMGcPXPDsGS0vEaM+zyR3Z65HVo4jaTEZEcDGG5BngMuAGw\n",
       "Ycxs2nABzs7vVUo9p5SaqpSa2qdP4uw21ZiEnzC5WT4Yz/BxG8qaSUpDeKF5e1kpZ596AnfceA1A\n",
       "F4Gpa2rl5uUb+GiLnUuOGsG1x3UVGDPs8kd2upU+2ZFvVYjncul84Ful1Eql1CL3sVLAc6E9GNgT\n",
       "c8s0iYWPMHmDtadpTt5o9lby9MHMO/u8LufbWpV8u7eam086lHMPH+ozByZWPZ+iJTAQX5FpBCaJ\n",
       "iFVEsoFRwEfAOSKSISIFQD6wLo42ahIBL2Hyhrr92LMLTLtltHorBXLy7qhwcOXitZRWN3L/nHGc\n",
       "UNAvJnb5I5oCA/EVmVcwZi7bgdXAy0qpL9zHNwHLgF8ppVT8TNQkBJ3C5A0qDXv/n5oaUfHWczrU\n",
       "8LFSiksvONunwKzbU8XVS9fiUoqFZ09i6vD8mNjlj2gLDIAk++/w1KlT1apVq+JthiZGJEseTBur\n",
       "vv4SoIvAfPydnQff+46BeT14YO54+sWhVUlnfAmMiKxWSk0Nd1y9QVKTNCSLwNjLSvl85cfMPfvc\n",
       "LuKilOK1VXt59rPtTBhstCqJRgQnUsyYwbShRUaTFNTZd+HY/g1ZMUxACyfprc0HU1ZSwk9m/Yw+\n",
       "/X70sThdij+vLOSNtUXMGtWHm086NO6dBMBcgQG9d0mTBNTZd9G44a2YJqCFk/Tm6eR9fsnfOwhM\n",
       "U4uTe97ezBtrizhzymBuT4BWJWC+wICeyWgSnNrGFhzbv0FimIAGoSe9eQrMC0uXMW3Gke3nqt2t\n",
       "SjYX1/CbWSOZnyCtSmIhMKBFRpPAtPlgshoqcGV0TLpU1kxS6stNu3dKiPf87JOPKCsp6SIwJdUN\n",
       "3LRsA2U1jQnVqiRWAgNaZDQJiqeTty0BrW1WAeYkoHkS7D2VUogI8885n6OPPY6+/fq3n/u+rJZb\n",
       "lm+g1aUSqlVJLAUGtE9Gk4B0jiLFIgGtM8Hc015WypwTZ7WHqT0F5j879nHtq+uwWlJ4IoFalcRa\n",
       "YECLjCbB8BamNjsBzRuB7tnmgyn8fiuKjrlm724o4bY3NjI4L4Onz53MsF6Z3m4Rc+IhMKCXS5oE\n",
       "wl8ejDN7oGlOXl/4uqcvJ69Siv/7ahcvfbWLqcN6cvdpBWTYEuNXLF4CA1pkNAlCsiTaVe6r8Cow\n",
       "rU4XCz/axoqNpZw4th/XHz+KVEtiLBTiKTCgRUYTiGAat0V4TTACkyjV4HJy85gyfQbzzjmvXWAa\n",
       "mp38/u3NfLOjkvNnDOXCmYnTqiTeAgN675LGH20V6dJzjPotzXXGbmjPGr4RXlOb1jcogcnc8YGR\n",
       "t2LNRFocWJpqY1rv1l5WCnR07gJUOpq5ZfkGCsvruPa4UZwyoUuNtbgRLYGJdO9SYsznNImJZ0U6\n",
       "STG+p+cYx6NwTcPO/wa1ROqQGCcpRmJcWjZp9vUmPHRX2nwwl15wNp5/lHdX1nPl4rXsqaznvjPG\n",
       "dUuBiQZ6uaTxTX2FUVPXE1uW0ZUgwmvqSaeushiCmIiEmhgXTTrXg2lbBm0squb2f2wkRYTHzp7I\n",
       "of1zTLclWBJJYEDPZDT+CKZxWxjX1De3UltTFXQyXayqwXXGV8Gpf2+r4Ia/f0t2upUnz52sBSYA\n",
       "WmQ0vgmmcVuI19Q3NVNbXRlSMl08kvEA7r75+i4C88baIu7+5yZG9snkyQWTGJTXw1QbQiERBQa0\n",
       "41cTiChGlxp2/pfaypKwokPxiC5VlJezZ9cOJk+dbrQq+Ww7r67ay8yRvbj95DGkWy2m3j8UzBSY\n",
       "SB2/WmQ0MSFZ8mDsZaX89ek/ceMd92C1GsWkmltdPPT+Vj7+zs5pEwdy1U8P9tpJIF6YPYPRlfE0\n",
       "CU+i5sF0vuceBnDeBRcZXQXOOZ/RBWOpa2zlzn9uYt2eKi45agQLpg9JmBwYSNwlkifaJ6MxlWAF\n",
       "JtZdETvf015azLlnzaO0uIhFS5czumAs9ppGrnl1HRuLqrklQKuSeJAMAgN6JqMxkWCXSLHuitj5\n",
       "nmUV+5l37UOUVFSz+PHbGD9jJtvL67h5+Qbqm508MHc8hw3raYod4ZIsAgN6JqMxiVB8MLHsiujt\n",
       "niX2fTjqG1n8+G0cMao3a3bv55ql61DAn86epAUmQvRMRhN1QnXyxqsoVUNtJT1yejOp4GC+WvY0\n",
       "PaSJd0uyuffDDQzqmTitSjxJNoEBPZPRRJlwokjxyIPZwwBOuOgO/vq3ZaBcpNPEK1tTuGt1GmMH\n",
       "5vDEOZO0wEQJPZPRRI1ww9RtBaLS7OtJqS/H1aM3joFHmBZdspeVGlGkfXWMLzgU5Sjn0W0D+PsO\n",
       "K8eO7sNNP0+MViWeJKvAgBaZ7k0wSXJRItI8mFgVpeq4VeANRk05nBtXfMfnOyo4a+pgLj36IFIi\n",
       "jCBFMxxvqS0mr2ojua5q03+GZpFYcq2JHm3lFVrrjc2JrfXG6+qiqN8qWRLtmhobOX/uye1bBQ6Z\n",
       "MI3rX/+WL36o4IpjR3LZMSOjIjDRCsdbaovJL/oXuaktpv8MzUTPZLornuUV4MfvRWui+pcwWQQG\n",
       "IC09nYsuu5KDDxnNwEMnc9XStZTVNHLXqQUcPSo6rUqiGY7Pq9pIdm6+6T9Ds9Ezme5KfYVRcsET\n",
       "W5ZxPEoki8DYy0rbOwqcc8GFZA8fz1VL1lLd0MKjZ06MmsBA9MLx2elWY4lk8s8wFuiZTHelrbxC\n",
       "mkcZgs4lGCIgmQTm/LknU7V/P5+u2sj60gbueXszuT2sPD53AkN7ZUT1ftEIx7c7eU3+GcYKPZPp\n",
       "rgRTgiFMkk1gSoqK+PMLr/BJoVFoanDPDJ5aMDnqAgORh+M7RJFM/BnGEi0y3ZXcQUad3dQMo0pd\n",
       "akbHurthkowC88KSZWx0DuSRD75nyrCeLDx7Ir2yzAkHR9IjqkuY2qSfYazRy6XuTO6gA9bJ+3/P\n",
       "P0tJURF/XbyMT6p7896mXTFrVRJOON5nHkyUf4bxQNeT0QRFMgkMgNPpZPN3W/nbd618s3M//zNj\n",
       "GL+YOSyhdlG3keiJdjGpJyMi/ZRSZZ2OTVFKrQ73xu4xcoFngZ8AjcAY4HLgeqABuFYp9W4k9zig\n",
       "iVIyXiCBsZWuJbNwBRZHCc7MAThGzqa5/+QO15hZL6Zt7PK9hVy/8HXuefBxUgeN46k1DRSW13Hd\n",
       "8bFtVRLKs3YQmBgmT8aSYOeNX4jI+LYXIjIPeCsK938S2AgMBsYCQ4Ar3P+eAzwvItYo3OfAI0rJ\n",
       "eMEITN66Z5GWWpxZg5CWWvLWPYutdG37NWbWi2kb215azJwbnuSLNZvY8p8PufJv/41Lq5JQnrWL\n",
       "wMQoeTLWBCsyFwHLReRUEbkVuBc4NpIbi0h/YCbwR2XQiCEsrymlapVSm4GdwJRI7nPAEkw/pAAE\n",
       "s0TKLFxBa3oeKj0fUiyo9Hxa0/PILFzRfo2ZfZPS7OsprnUy99qHKLFXct8DD/D4/uk0Nbfw+NmT\n",
       "mHFQr4jvEao9wTxrlyVSFH5eiUpQIqOU+gw4BrgZmA5MV0ptjfDeY4EdwDIR2Soij2DMZHZ5XLMX\n",
       "6PJnSEQuFZFVIrKqvNz83jtJSYTJeMH6YCyOEpQtt8MxZcvF4ihpf21mvZjyvYXtAnPTHx7mmdKD\n",
       "ybXBC9OLGd0/O/AAUSaYZ/Xqg4lB8mS88OmTEZEWoLNXOMV9bL+IKKWULYJ79wUKgMOB/cBHQH/g\n",
       "W49rXICz8xuVUs8Bz4Hh+I3Ahu5LBIlcoTh5nZkDkOZqYybjRpqrcWb++LfBzHoxKVl96JWTyelX\n",
       "3MmiskGMzVc8OnU/uRk9qY949NAJ9Kw+nbzdJPHOGz5nMkopq1LK1ukr1X3cGqHAANiB1UqpvUop\n",
       "B/Ah8CLg6ekaDOyJ8D4HJmEmcoUaRXKMnE1qYxXSWAkuJ9JYSWpjFY6Rs9uvMaNeTEV5OU1NTWQc\n",
       "chTHX34Xy/YN5ugBLp4+vJJeqsb0nky+8PesfqNI3STxzhtBh7BFZAYwDGhvNqOUWhz2jUUygfXA\n",
       "0cA+4BNgGXAxMBUYDvwdGKv8GKlD2H4IMVoRbpg61tGltnINYyYeRp+Tr+OTreXMH9HC9YeUIBmx\n",
       "6XTgD2/PmtFnWOAwdYJGl2IVwl6M8Yv/DdDiPqyAsEVGKeUQkaswZjBpwItKqUdFJA3YhBHSvsSf\n",
       "wGgCEEIiVyR5MM39J3cRlc5Eq15Mm8CUVVQx7LD/4ZOt5fzqJyM4Z9oQGhIkB6bzswadB9MNEu+8\n",
       "EdRMRkT2Age7I0AJhZ7JRE6yJNq1CYy9pomCK/7Mvkbhdz8fzXFj+sXbNJ8keqJdMEQ6kwk2hL0S\n",
       "iN/8U2MaySIwSil+c+F5lDelMuLXf6au1cID88ZrgUkCgt27NBhYLyJrgPb/kUqpE0yxShMToiUw\n",
       "wfhbIvXJiAgLbnyA59fXY7PZuH/ueEb2yQr4vvTtH5KzZQkWRxnOzH7UjFlA40HHh/yMoWKqwCSo\n",
       "78YXwYrMXaZaoYk50RSYzB0f4EzLNjJcWxxk7vigw87jYK7xhb2slI/efYe+h5/Cs+saGNwzgwfm\n",
       "jqdvEJ0E0rd/SP43j9CanoMzayA0V5H/zSNUgqlCY7rAbF1hJOpl9TXC3FtXJPTu7KBERin1qYik\n",
       "An2AxPCuacImmkukYMpNhluS0l5WyrlzZlMzYBpZ+w5m0pBc7jltHFnpwf1tzNmyhNb0HEh3Z/2m\n",
       "96LVfdwskTF9iRSjsqrRJCifjIhchxFm3o4RYdoNfGGiXRqTiLYPJpgM13Ayfg2BORnHIT8na+a5\n",
       "HDu6Dw/MnRC0wABYHGVgy+t40JZnHDeBmPhgkjAzOFjH79XAQcDbwGTgKOB9s4zSmIMZTt62DFdP\n",
       "OmfzBnONJ/ayUs6dfzoNkxfQY8KJnDNtCLedPCbkXkjOzH7QXNXxYHOVcTzKxMzJ25YZ7EmCZwYH\n",
       "+1NrVkrtw8hfmaSU+hr4uXlmaaKNWVGkYLJ5Q834/ezLr2macQnpB03jymMPDrsXUs2YBaQ21kDj\n",
       "PnA5oXEfqY011IxZEPbzeiOmUaQkzAwOVmSeFpGZwBLgRRHZgJGtq0kCzAxTB1NuMtiSlC6Xi+Kq\n",
       "Bv65fyCZg0Zz12kFzD0sfD9D40HHUzn9BrBmY6krBms2ldNviKo/JuZh6iQsyRlyZTwR6YWR8v+9\n",
       "UqrWDKNCQSfj+SdZ8mDsZaX88rKrscz6DZZUK/edMY5xg3IDvzGOHCh5MKYn44nIdBGZ567/gnvZ\n",
       "1AuIqCqexnySSWDOvfx6Gg6/GJtFeGLBZC0w3Qi/rnoRuReYC6wCHhCR84HfYJRoONd887o5e1fD\n",
       "5jehpgRyBkDB6TA4OjW6YimgO1B7AAAgAElEQVQwkWyQtJeVsuC3v8d1xMUMzrbwpwuOID+z6wZ/\n",
       "M8t3hkp2upU+rgrYnDwJcfEk0EzmfIwCVb8Afgq8h1F64XCllF6jRMLe1fDlk9BcC3mDje9fPmkc\n",
       "j5BYC0y45Tdrdm9iwa1PoKacw6H5qTx70ZE+Bcas8p2h0i4w3bRUphkEEpkWd60XlFJ7gGrgTqWU\n",
       "y3TLujub34SMnpDRC1IsxveMnsbxCIj1Einc8ptN1mye+7oEVXAiU/sKT/7yKDJs3ifWZpbvDIX2\n",
       "JVI3LpVpBoEymwaJyAcer3sD77W1ldB7lyKgpsSYwXiSngdVe8MeMh4+GIujBGdWx2WCsuViqfvx\n",
       "r3pKQwWujB/7Te8oreKBTTmsr7byP0cM4xdH+G9V0vn94E7mq49d6dUOPpj6CmMG44kty4j2aLoQ\n",
       "SGRmBzivCZecAdBYZcxg2misMo6HQbycvKGW39xSVM2F7zZBno2bJjVy4szhAe9hZvnOYOji5O3G\n",
       "pTLNwO9ySSn1qb+vWBnZLSk4Her3Q707Uax+n/G64PSQh4pnFCmU8purC0u58OMUVHZfLuv1LbNn\n",
       "jPcz8o+YUb4zWLxGkZIwIS6e6F7Y8WLwFJh5FdiyjSWSLdt4HWJ0Kd5h6ub+k6ma9GuUNRtLXRHK\n",
       "mk3VpF93iC45sweyonEcV3zTG5ekcv3QHSw486ygo0OR9JeOBL+tY5MsIS6e6Da1SUy8BSZYPvu+\n",
       "nN+/uYGW6jJuPW4IP591VLxNCojOg/mRmNT49bhZNjAK2KaUqgn3pprISRaBWb5mL09/Usgh/bK5\n",
       "4CfZHDljWrxNCogWmOgSKBnvZOAPGNm9zwKvY3R1HCEilymlVvh5u8YkkkFgXEqx8N0NvL1lP0eM\n",
       "6Mkdp44l3WoJ/MY4owUm+gTyyTwKXAl8itH7+iSl1DEYpR4eMtk2jReSQWCaW13csWwtb2/ZT8O3\n",
       "77HgYKUF5gAm0HIpVSn1OfC5iNzr7k+NUmq3u3WJJhL81Wr1cq42rW+7wESj15EZqfq1jS3c/Ppa\n",
       "ttgbqPvibzx94y8YNyE+jdZCQQuMeQSayeSJyK0icivQo+3fInIbkBfgvRp/tNVq9Zaa7uVcw6a3\n",
       "qCzeAUSWyt+Wim9Gqn5ZTSNXvLKKLaW11Lz/BH/+3S+ZdsSRkX1OMUALjLkEEpknAav762mPf6cC\n",
       "T5lrWjfHX2p6p3P1kkGNq0d7Gn24qfyeqfjRTtUvtNdx5ZK1VDhacK58mmfuuZ6pM2ZG/jmZjBYY\n",
       "8/G7XFJK/T5WhhxwBEpNd5+rb26lpqEFPNLow0nlh46p+NFM1V+zaz93vLmRzLRUnjz3MIZcvhSb\n",
       "LdJW6eajBSY2BFNPZqaIrBSRWhHZLyJvi8ikWBjXrfFXq9V9rl1g6JhG35bK74mvVP4O13iMEWrd\n",
       "XV98uLmMm5Z9S0PFXqY5/sPIPllaYDQd8CsyIjIDeAH4I9APGOp+/aoWmgjxl5o+6DAa6vZTW13p\n",
       "NY0+lFR+X6n4kabqK6VY/J/d3P/udzjLtlGx9DaOnTk9+p+TCWiBiS1+M37dO7DvUkp91en4McBN\n",
       "Sqm4b6BM6oxfH9Gl2sYWKot3+I38xDO65HQpnvz4B/65vhjZvRr7W4+xaPFr2gfTTYk04zeQyOxR\n",
       "Sg0J9VwsSWqR8UKi58E0tji5750tfFm4j5TvP6bs/edYtHSZFphujNnbChr8nKsP96Ya7yS6wFTV\n",
       "N3PbPzbyXUktV//0YFKGlzHwQi0wGv8EEplhIvK9l+MCxH0W051IdIEpqmrg5mUbsNc2cs5IF2dM\n",
       "HgSTz4q3WUGhBSa+BBKZUTGx4gDHLIGJRkavpbaYwq0buP4rK60uwfnhQp4tXMeC4zaSlZUdeIAo\n",
       "2hIOWmDiT6A8mV2xMuRAxUyBydzxAc60bCOjt8VB5o4PQqrDYqktZs03/+aWDf3ISXVS+487KSvc\n",
       "wksvLQpZYCK1JRy0wCQGgXZhbwO8eYYFUEopPdOJADOXSB0yesHI6HUfrw/yF/vdbzby0Lp+jMhq\n",
       "Zecrt1C6eydLHr2B6UOtITnkomFLqGiBSRwCLZc+A44GPgAWAbGr3NzNMdsHE0lGr1KKRV/u5JV1\n",
       "aRzRz8mArcv5evdOFi+8nekTR4ecFRzrQuBaYBKLQMuli0UkF7gQIwnvW+AvSqkvonFzEbEB64Av\n",
       "lVKXiMg1wPUYUa1rlVLvRuM+iUYsnLzhFt9udbp49MPveX9TGacObeXmcVWkzDydecdNZ+TQgUhz\n",
       "bchZwbEsBK4FJvEIuK1AKVWtlFqolJqAMZu5RkS+EZHfROH+t2IUwUJERgJXAGOBOcDzImKNwj0S\n",
       "ilhFkcLJ6HU0tXLLGxt5f1MZ88b3Yt2ShynetZ2UljpGDukfdgHvWBUC1wKTmIRaSHy/+ysHCK93\n",
       "hxsRGQNMA15zH5oDvKaUqnXXrdkJRKdna4IQyzB1qMW3K+qa+O2r61m7ez+/ntGff9z9P6xZs47d\n",
       "aYdGXMA7FoXAtcAkLgFr/IpIBkbf618DDuAZ4EqlVEu4NxWjk9cTwOUYVfbAyLvZ6HHZXnwImYhc\n",
       "ClwKMHTo0HDNiCnxyINxZg8MyrG6a5+Dm5ZtoKaxhRtnDeKRK8+itLiYRUuXM3nGzKhkXQZrSzho\n",
       "gUlsAm2QfBrDDzMJ+IVSapZSamkkAuPmMmClUuoHj2M2wLP9rQtwenuzUuo5pdRUpdTUPn36eLsk\n",
       "oUjkRLtv91Zx9dJ1tDhd3HXc0A4CozN5NdEg0Ezmcoxf9F8Dl3q0Em0LYYe7p/8CIFtEzgTygUyM\n",
       "mY1nkZTBwJ4wx/8RfyUuY4A/gfGXoBaL5LV/r9/KHz4uoX96K48f2UpaXm8GDhrC/Y89FXOBCed5\n",
       "tcAkB3HvuyQiv8RYMv0FeBmYCgwH/g6MVQEM9LtBsq2MZXqOURCquc4opxCjRlyBBKYtQU1ZM5EW\n",
       "B5amWhwjjPbivs5FS2je+HITT31Vzvierdx06D4GZjrJlmbqhh+PKye2Tcr8fRa+nlcLTOyIdINk\n",
       "oOXSM+GcCwel1GrgFWATsAz4VSCBCYi/EpcmE2iJ5K/8ZbRLY3riUoq/rCzkya8qOKZ/M7cX7OOX\n",
       "197F5ff8FWdaNunl30Z8j1AJ9Xm1wCQXgaJLl4pIs4i0eHw1i0gL8KtoGKCUelEpdYn7339USo1Q\n",
       "So2JSi5OfYUxg/HElmUcN5FgfDApDRUoa2aHY8qaSUpDhd9zkdDc6uK+t7fw+uq9nDW0lqsP3sd5\n",
       "V99Fcdk+Lj//9KjcIxxCeV4tMMlHIJFZpJSyKaWsHl82pZQVeDEG9kWGvxKXJhGsk9df+ctolcbs\n",
       "bNfvln3Lyu/LufTogzh3SA3nXGkIzOKFt3P4pDGmJcgFItjn1QKTnPgVGaXUxeGcSxj8lbg0gVCi\n",
       "SP4S1KKdvFZa08jVS9axubiG22aP4eypg7nsD89TVLaPJY9cx+ETR5uWIBcMwTyvFpjkJe6O30gJ\n",
       "WBkvRtGlcMLUsYgu/WCv45blG2hsdXLPaWOZPLQnAN9/t4W6km0cNdQa8/IL3vD3vFpg4oup5TeT\n",
       "gUQov5moeTCrdlZy91ubybSlcv/ccWS56nhr+etcdNmVeKQjJDRaYOKP2eU3NQFIVIH5YHMZD7+/\n",
       "lWH5Gdw/dzyqfj/nzZlNaXExJ8w+lSHDhsfbxIBogekeaJGJgM4CE6/qb54opVj8zW6e/3wnk4bk\n",
       "cc/pY6mvqmgXmEVLl7cLTDD2RuuZQh2ni8DEOalSEz6hbpDUuPEmMNHuLR0qTpdi4b+28fznO/nZ\n",
       "oX15cN74LgLTlskbjL3ReqZQx/EqML76hmsSHi0yYeBtiWRmAl0wNLQ4ufPNTby1voQF04dwy+xD\n",
       "sVpS2LBuDRXl5V32IgVjb7SeKZRxvC6R4phUqYkcvVwKEV8+mFhXf/Okqr6ZW9/YyPdlRquSMyYP\n",
       "orW1lZTUVH524mw+XbWBnNy8kO2N1jMFO45PH0ygvuGahEbPZELAn5PXjAS6YCja38BVS9axvcLB\n",
       "708byxmTB2EvK+W0nx3FByveAugiMMHaG61nCmYcv07eOCRVaqKHFpkgCRRFilX1N0+2lNRw1ZK1\n",
       "1Da28OiZEzjy4N7Yy0o5b85s9uzaSX5+r4jsjdYzBRonYBQpxkmVmuiiRSYIgglTx6L6mydfFe7j\n",
       "utfW08Nm4ckFkxk7MLddYIKpBxOMvdF6Jn/jBBWmzh1k7JxPzTCWSKkZMdtJr4kc7ZMJQJ19F47t\n",
       "35AVROg11Opv4YaH3/62mIUfbeOQvtn8Yc448jNt1FRXBS0wodibMBXtcgdpUUlS9EzGD3X2XTRu\n",
       "eMuUsHQ44WGlFM9/voPHPtzGtOH5PHbWRPIzjbph2Tm5nHjyaQlZ0c7bs+YX/Ys+rtjv+NbEHj2T\n",
       "8UFtYwuO7d8gJjUlC7XhWYvTxaMffM8Hm8uYPb4/vz1uFJYUwV5WiqOulhEjD+GG2+6OyCaz6Pys\n",
       "6Vk9yU5JN0LQenbS7dEi44U2H0yWiWHpUMLDjqZW7n5rM6t37eeXM4dxwYxhiEi7D0YpxXv//i+p\n",
       "qYn54/R81h62VHJ7WEFZdAj6ACEx/1fGEU8nr5lNyYIdu6KuiVuXb2R7RR03njiak8b1B+ji5E1U\n",
       "gYEfnzU9q6chMKBD0AcQ2ifjQecokplh6WDG3rnPwZWL11JU1cD9c8f7FJhE88F0pqnvRDJUPbkp\n",
       "DToEfQCiRcaNtzC1mWHpQGN/u7eKq5eso9WlePzsiUwbnt/+3kf/+PukERiAjD7DyJ5wmg5BH6Do\n",
       "ejKE37Ykkmv9sXJrOfe/u4X+Oek8OG8C/XPTO5x31NWx69svmdrPmRAFp/yhyzUkP6Z2KzgQCKZt\n",
       "STBh5mjtWP776r3c+/ZmRvfL5skFk9sFxl5Wyk3XXI6jro4cVcOMrOK47vgOBi0wGjjARSaStiWR\n",
       "XOsNl1I8/ckP/HllIUcd0puH508gx+0kbfPBrHjzDQp/+D7uO76DQQuMpo0DVmQibVsSybWdaW51\n",
       "ce/bW1i2poi5kwdx5ykFpFktQEcn7wtLlzFh0mGmtUyJFlpgNJ4kbtzTREJtWxJMCDvccHdNQwt3\n",
       "vLmJDUXVXHbMQZw5ZXB7/d3OAjNtxpER3SsWaIHRdOaAm8lEq21JJNe2UVrTyDVL1/FdaQ23nzyG\n",
       "s6YO6VDg21FXi8vl6iAw4d4rFmiB0XjjgIouRbttSSTXerYquff0cUwa8mPNl5rqKrJzchERWltb\n",
       "vSbaJUI9YU+0wHRfdLeCIAm3q0Aou5CDvfa/Oyu5+5+byU5P5YlzJjOi94/+lbYl0gmzT+XG23/v\n",
       "M5PXzN3RoaIFRuOPA0JkImlbEo0Zg+cYb5X3449r0xjWO5P754zv8Mvp6YP56cwpZBS+6/O+wdhl\n",
       "K11LZuEKLI4SnJkDcIycTXP/yWF9Dr7ITrfSp3ojfPUm1JRAzgAoOB0GT4nqfcJGdzmIO93eJxOp\n",
       "wESa+9I2Bi31PL9nAPeuSWNKzwaePLmfT4F58YXnOLZ3pc/7BmOXrXQteeueRVpqcWYNQlpqyVv3\n",
       "LLbStWF9Ft5oF5gvn4TmWsgbbHz/8knYuzpq9wkb3eUgIejWIhNp47Vo5KOk2dfTZM3mwc09eXaz\n",
       "lROHOHlshoNeVRvbr2ltbeWXZ53RHkX6yTCr3/sGY1dm4Qpa0/NQ6fmQYkGl59Oankdm4YqwPw9P\n",
       "2pdIm9+EjJ6Q0QtSLMb3jJ7G8XijuxwkBN12uRSNzo7RqNbfVLuPWzcN5ItSC/8zqpXLxzoROo6R\n",
       "mprKtTfdRs/8fKbNOJKUjS/7vW8wdlkcJTizOi4LlC0XS13kf8U7+GBqSowZjCfpeVC1N+L7RIzu\n",
       "cpAQdMuZTLRax0ZarX9/fTOXrxnIV6Up3DCxhd+McyLy4xj2slL+9b4xszhh9qld8mB83TcYu5yZ\n",
       "A5Dm6o7XNFfjzBwQlO2+6OLkzRkAjVUdL2qsMo7HG93lICHodiITzd7UkeSjGK1K1lJYk8pDE+2c\n",
       "OaS6wxh7GMB5c2Zzw5W/pqa64y9poPsGY5dj5GxSG6uQxkpwOZHGSlIbq3CMnB325+E1ilRwOtTv\n",
       "h/p94HIa3+v3G8fjje5ykBB0qzyZaApMG+FEl7aU1HDrG4bP5Q9njGN8dl2HMfYwgHMuuMhvuYZA\n",
       "9411dMlvmHrvasMHo6NL3ZJI82TiJjIikg48AcwC0oCFSqnHReQa4HqgAbhWKfWuv3HaRCZaAhPp\n",
       "L+YXP1Rw3ztbyM+08eC88QzumdFBEEocFuZe8wClpfakqQej82AObJK51EMm8D4wGpgC3CwixwBX\n",
       "AGOBOcDzImINNFA0BSaSsO8/1xdz1z83Mbx3Jk+dO7ldYDzDzf947xNKi4t4adFzWmA0BwRxiy4p\n",
       "pfYBy9wvK0RkD3A08JpSqhbYLCI7MQToa1/juJSK2hKpQ9gXjLCv+7i/2YxSihe+2Mnf/rObGQfl\n",
       "c8cpBfRw76JuCze7rFmICJdeMJ+Tjp7C0KFW6qNitXlogdFEg4Rw/IrIOCAd6A3s8ji1F+gSphCR\n",
       "S0VklYisKrNHr6G9xVGCsuV2OKZsuVgcJT7f0+J08cB7W/nbf3Zz8vgB3Hv6uHaBASPcXFrdzNzL\n",
       "72Tr9t2ICEOHDU+Ysgy+0AKjiRZxFxkR6Q28DFwI2ACXx2kX4Oz8HqXUc0qpqUqpqfm9oheODDXs\n",
       "62hq5dblG/hwcxkXHjmc644/BEuKdLimxGFh/m/u5NvvtlNVY4SdE6Usgy+0wGiiSVyT8USkJ/A2\n",
       "cKtS6r8ichLg6fofDOyJ5B6hRIccI2eTt+5ZWjFmMNJcTWpjFVWHnt1lzOpd33LdFxZ2OKzcfEx/\n",
       "Tpg6rMt49rJSzrvmAUrtlSx59AamTxzdHm52DDwikscyDS0wmmgTt5mMiOQAbwH3eUSQ3gHOEZEM\n",
       "ESkA8oF14d4j1L1Hzf0nUzXp1yhrNpa6IpQ1m6pJv+7gj7HUFlO24RN+9amN4kYrj02vYb7t6y5j\n",
       "Vtjtxl6kUjsvvbSI6YdNinrHg2ijBUZjBvGcyVwNTAYWishC97ETgFeATUAjcImKIMYeaitYMITG\n",
       "n5N38+YN/G7VQGwpwl+ObmF0XjrO5uwuY2ZmZXHQwaO4/7GnOGzGTO3k1RywxDO6dB9wn5dTf3R/\n",
       "RUw09h55snKrnfu/SGNgpmLhUc0MyOg6ZnlZGek90snOyeXZ/1sakf2xQguMxkzi7vg1k0j3Hnny\n",
       "+uq93PP2FgryXfzvzP3tAuM5pr2slHPnnMQVF11AsmRSa4HRmE233YUNxh6fzB0f4MSYbUiLI2Sn\n",
       "q0sp/rKykGVrijh6VG9uPyqX/D0f4WxWHcbckTqyvR7M/Y891aFWb6KSUAKj0/+7Ld16JhNpm9nm\n",
       "Vhf3vL2ZZWuKmHeY0aoktefgLmPuyJwUcC9SopFwAqOLS3VbuvVMBsKvhWu0KtnIhqIaLp81kjOn\n",
       "/FgzpfOY1515uhaYSPAsLgU/fi9ao2cz3YBuLzLhUFrdyM3LN1BS3cCdp4xh1ui+fq+/56HHKbeX\n",
       "MfXwxMx98SThBAZ0caluTrdeLoXDtrJarlyylkpHMw/Nn+BTYOxlpTz12EO4XC6GjThIC0wk6OJS\n",
       "3ZpuMZOJVg8iz1YljyyYxPBemV6vs5eVcv7ckykpKuLk0+cwYuQhkT6CKXiWrbDkDSJz4lzITpA6\n",
       "L54MOszwwYAxg2muM4pLjT4qvnZpokLSz2TE2RxxRwGA9zaWcusbGxmYl85T504OSmAWLV2e0ALT\n",
       "VrbC0nMomao+cboIdCZ3EIyeDakZxhIpNcN4rf0x3YKkn8lIa0PIWb2eKKV45evdLPpyJ1OG5nH3\n",
       "aWPJTPP+sXQWmER28raVrbBm9XY/Ty/jxOY3E6dqnSe5g7SodFOSX2RcrShrx1lHsFm9Tpdi4Ufb\n",
       "eGdDCccX9OOGE0Zhtfie3G37bguV+yoSXmDAKFth6Tm0o2AmShcBzQFF0ouMSklFWhztMxkILqu3\n",
       "ocXJvW9v5uvtlZx3+FAuOnK4zwS65uZmbDYbRx5zLCtXbSQrK9vrdbEkYA3gvEFkumppn8FA4nQR\n",
       "0BxQJL1PRqX2CLmjwP76Zq57dT3f7Kjk2uMO4eKjRvgUGHtZKacddxRv/v1VgIQRGH9+qOx0q+Hk\n",
       "TdQuApoDiuQXGYstpKzevfvruXLxWnbuc/D708Zy2kTffps2H0zR7t0MGjzErEcIGX8dJNvD1IOn\n",
       "wMyrwJZtLJFs2cbrRPTHaLo1Sb9cguCzejcX13DrGxsQFH8+sp7xje/iKvQe8g7HyRutUHogfO0u\n",
       "z2zZT7ZnHszgKVpUNHEn6WcywfLFDxVc//p6sm3Ci1N2Mi67zmfIu66uNiyBiUYoPRi87S7PoIns\n",
       "/P5Rv5dGEykHhMi8uc5oVTKidyZ/PbKagT17+G9Wn5nF6fPPCSmK5G8JE206d5DMUA3kSL3ujKhJ\n",
       "SLrFcskXSime/3wHi7/ZwxEH9eL2U8bQa+tiXOneC1nZy0rZv28fowvGcsVvbwzpXuEUyAp3edW2\n",
       "uzzNvt5YIuX3h0GzdJ6JJiHptiLT4nTx8Ptb+WiLnVMnDODqnxmdBNqWGp1D3iUOC+ddOpvm5mY+\n",
       "/HINNpstpPv5GtdXKL1teeVMyzaWVy0OMnd8EHQpCmf2QCx9hnX0wWg0CUi3XC7VNbVyy/INfLTF\n",
       "zsVHDefa435sVeKtWX158V6jdWxxMY8+9VzIAuNrXH+h9EiXVwm72VGj6US3m8mU1zZxyxsb2LWv\n",
       "npt/PpoTxnZ0hnouNVLqy43e1Lc8H3Fvamf2QBr7TuzSR9vXrCSS+sNaYDTJRLcSmR0VDm5etgFH\n",
       "cyv3zxnH1OH5Xq/zDHk/ctN1EQsMGMufdPt6mnsfihowBWlxkG5fjzOzn1ehCXV51YYWGE2y0W1E\n",
       "Zt2eKu54cyPpqRYWnj2Jg/tmBfW+22+8il/MOoQJWYW4Cqu7pucH6Zz1136lyf3dc4xw6g9HXWB0\n",
       "XV1NDOgWPpmPv7Nz07Jv6Z2ZxlPnTg4oMPayUq697CLq9m6hV/GnjD+or9fcllByX1IaKrxu1Ezd\n",
       "/4PXMYCQMpVNERhdV1cTA5J+JrPf0cx972xh/KBc7jtjLNnpVr/X28tK27sKXD57Mv1GD/RZJiKU\n",
       "5nC+lj+Wphqas33cY+RJQWUqm7JE0nV1NTEi6Wcy5XVNHDOqDw/PnxCSwCxaupwpB+V5LxPRUAH4\n",
       "np20nffEV3TJlZ4b9BjeMM0HU19hVKHzxJZlHNdookjSz2R6Zli545QxpAToc9RZYKbOmImrsNqv\n",
       "8zUU52znqJWrR28cA48gzb4eS81eUhvKkaYaVFoOrT364MwOPFsw1cnbVle3bQYDuq6uxhSSXmT6\n",
       "ZKcHFBiAluZmrFZbhyhSIOdrqM5Zbxs1Wx1lZG17k9b0PJQtF2mqpkf1Lqr6+9+42LNyIz13rYCa\n",
       "EqMGTMHp0d3sqOvqamKEJEs7VV+Mn3SYevPDz3yer9pfSU5uHikpKbhcLlJSOq4QAxZ/CiH139u1\n",
       "afb1WGqLSG0oJ6W5Bpftx5lM/ciTvI7Ts3IjPdc/Axk9jWp2jVVGLZhol2rQ0SVNEIjIaqXU1HDf\n",
       "n/QzGXE2k1H4bodfbDAcq+V7Cznr+ic56pifcuejf+kiMBC4TESwZSR8bROguZbW/ENw5g798WLl\n",
       "8pl0l51uNWYwGT0hw13VLsOk+ry6rq4mBiS9yKQ01/wYHm5xkLP+eVLrSimuczLvD+9Ssq+O+Yf1\n",
       "xlJbbEptlzZ8RaJstUU4g/TrtPtgakogb3DHk7o+ryZJSXqRUWJBnC3YKtdiqSvBVr6RvY09OPXJ\n",
       "TRTvq2XZLacwZewwnEF2LwgXX9sEXOm5WJpqA/p1Ojh5cwYYS6QMXZ9Xk/wkfQhblIu0srWIs5mU\n",
       "lgaczlbmP/lfivfV8Prd5zJj/EhS6+1Bh4zDxVshKWlx0JI3MmDSXZcoUsHpuj6vptuQ9DMZcTai\n",
       "rBngaiW1djfibOAPJ/fFmj+UaQVDUUqRUl+Gq9/ksMYP1vHrLxLlz6/jNUzdVp9385vGEilnAEw6\n",
       "P7lLaWon8wFL8ouMqxVpqqVi73a+2lzOmeOzOO7QdKCWhqYaUK0gFp8lF/yJSCg1X3zlyfjzA/nN\n",
       "g+lO9XnbtjCk5xhbGJrrjNe6S+QBQdKLjBILld9/zeynt1JS08JPCn5C7+w0UlrqsFZupTVvOLUF\n",
       "53r9ZQ8kIqFsK4DgI1FwgO2m1lsYDmgSzicjImeJyA4R+UFELgp0fbNK5ed/3kZRdQt/v+pwevYb\n",
       "AhYrLT0PoSXvIKqm/pbm/t6XSoEKR4WyrSAUDiiBAb2F4QAnoWYyIpINPArMAJzAOhF5Synls5JT\n",
       "YVEFqQLLfnskR43MxuVqxnHI6SiLFZWa4Xe5EqhwVLg1X/xxwAkM6C0MBziJNpM5EfhUKVWklCoF\n",
       "PgZ+5u8NLS2tLH74Wo6YPI6m/NE4M/qgLNaAXSTBd0SoTURCLakZiANSYMBw8jbWQFMNKJfxvbFG\n",
       "d1c4QEiomQwwBNjl8Xov0CU5REQuBS4FSBFaLrzp4V2pIqk9rPRIEVKqm6ipa1aOZict/m5ms2DN\n",
       "7yF5rS6cLoUzRbCkpmCpbFBVbe+1WbBm2STTmkJqi4vWYMb1Q28gmdYIUbM3yp+jNw7YzzYGjI7k\n",
       "zYkmMjbA5fHahbFs6oBS6jngOQARWbWvPvx9FbFERFZFsgck1iSTvclkKySXvSKyKpL3J9pyqQTw\n",
       "DDcMBvbEyRaNRhMFEk1kPgBOFJG+ItIfmOk+ptFokpSEWi4ppUpF5DbgK/eh65VSDn/vwb1sShKS\n",
       "yVZILnuTyVZILnsjsjXp68loNJrEJtGWSxqNppuhRUaj0QAgIj1EZFS0x01akQl1+0GsEZF0EXlO\n",
       "RL4XkV0i8lv38WtEZLeIbBUR7/U344SI2ERks4j81f06kW3NFZGlIlIkIoVu2xPSXhG5TkS2uf+/\n",
       "XuE+ljC2ikiOiPwDKNWiiT0AAAWuSURBVAN+53Hcq40i8oCI7BWRDSISeBevUirpvoBsjND2IKA/\n",
       "UAr0ibddnWzsBcwDBCPxqgw4BvjebX8BUAxY422rh813AyuAvwIjE9zW/wNud3++6YlqLzAc2Alk\n",
       "uv9PVANjE8lWIAsjs/4S4K/uY14/T+CnwOcYQaPjgXWBxk/WmUzI2w9ijVJqn1JqmTKowBDFo4HX\n",
       "lFK1SqnNGP/5EqKeg4iMAaYBr7kPzSFxbW1Lb/ij+/NtJHHtbctqdmH8YtYCs0kgW5VSdUqpfwGt\n",
       "Hod9fZ5zgReVUq1KqQ+BPu6fh0+SVWSC2n6QKIjIOIy/tr1JQLtFRIAngGs8DifyZzwW2AEsc0/l\n",
       "HyFB7VVKFWHMEL8GPgLOxUgyTThbO+Hr8+x8vIgAtieryAS1/SAREJHewMvAhSSu3ZcBK5VSP3gc\n",
       "S1RbAfpiTOGvAg4DjgROIwHtFZEcDGG5BngMuIHE/mzb8GVjyLYnVDJeCJQAszxeDwb+Ex9TfCMi\n",
       "PYG3gVuVUv91O88ScdvEBUC2iJwJ5GP4D54gMW0FsAOrlVJ7AUTkQ4z/6Ilo7/nAt0qplcBKEZmD\n",
       "4UNMRFs98bXFp/PxgRizHJ8k60wm4bcfuP+CvQXcp5R61334HeAcEckQkQKMX+h18bKxDaXUTKXU\n",
       "eKXUJOBO4A0McUw4W918DRSIyEARSQOOA+pITHsbgUkiYnXXSxqFsWxKRFs98fV/9R3gFyJiEZHj\n",
       "ge+VUpX+BkrKmYwKb/tBrLkamAwsFJGF7mMnAK8AmzD+812i3K78REMptVpEEtJWpZRDRK4CPgTS\n",
       "MByRj7oFJ9HsfQUjIrMdaABeUkp9kUifrVv81mJEktJFZBbwK7z8XxWRNzCipNuBfRhLQf/jJ8bP\n",
       "QaPRdFeSdbmk0WiSBC0yGo3GVLTIaDQaU9Eio9FoTEWLjEajMRUtMhqNxlS0yGgiRkR2isjgeNvh\n",
       "DRGZJSIfxduOAxktMgcgIqLcdXj2ishXInJyvG3qjIjcLSL73LVitonI3HjbpAmPpMz41USMUyl1\n",
       "MIA7ZfxlEclSSr0aZ7s687hS6j53GYrPReSfSqnWgO/SJBR6JnOA464Vci7wILSXYHzGPXvYJiK/\n",
       "dh/vsOwQkRdF5HyPoRa4q+oVisix7mvGi8gqd0W4j0Qky318p4jcKiJb3KUaxgSwcQvgAHq637/Y\n",
       "fZ8fROSn7mN3i1GJ8BMRKRORazuPIyK3iMh7ImKJ4CPThIgWGQ1Kqa1ADxHpC9yMMcMdBcwArheR\n",
       "CUEM00spVQBcDDzvPtYEnKyUGgFUAfM73XcM8DrwW38Di8gJQIVSqtx96Bml1EjgWowNnW1MA04B\n",
       "fgLcJyKpncZYAJyllEq0sgrdGi0ymjZSMaq4zQaecFec2wcso2NZDV88D+AuaWAVkV4YpQHmisgL\n",
       "GHVfPEsEtC3NPgWG+RjzGhEpw6jDMtvTVhF5DLiu05hvK6UcSqnvMcpc9nEfHwQ8BZyulKoJ4lk0\n",
       "UUSLjAYROQwoU0rtxxAbV6dLnBilGT2XGdZO13j6StIxdhwvwqhx+0eMGYt4XNPk/t7SaVxP/gQc\n",
       "jFF/Zbbb1p8DjwBLMQpAeRuz87gN7u++xExjIlpkDnBEZCLwIj9Wqf8QuEoM8oEzMOqf7AIOFZE0\n",
       "EUkHjug01Jnu8eYBhUqpemAcsByjRGNYNZiVUrUYVQXvdtcOGgf8Ryn1DUYdmWCoBM7GcHAfEo4d\n",
       "mvDR0aUDE4uI/IAx49gBXKeUanPq3gP8GSjEmAHc6/bZICIvA19i1Bj5vtOYvURkM1AP/MJ97DGM\n",
       "Ali7gC3hGquU2iMif8Ko1ncj8I6IbMUQsGDHWCsiNwNvi8gM96xNEwN0PRmNRmMqermk0WhMRYuM\n",
       "RqMxFS0yGo3GVLTIaDQaU9Eio9FoTEWLjEajMRUtMhqNxlS0yGg0GlPRIqPRaEzl/wHQQt/zP5sT\n",
       "lAAAAABJRU5ErkJggg==\n",
       "\"/><img style=\"margin:0\" align=\"left\" src=\"data:image/png;base64,iVBORw0KGgoAAAANSUhEUgAAARkAAAEnCAYAAACdYDfKAAAABHNCSVQICAgIfAhkiAAAAAlwSFlz\n",
       "AAALEgAACxIB0t1+/AAAADl0RVh0U29mdHdhcmUAbWF0cGxvdGxpYiB2ZXJzaW9uIDMuMC4zLCBo\n",
       "dHRwOi8vbWF0cGxvdGxpYi5vcmcvnQurowAAIABJREFUeJztnXd8lFX2/98nkzqphNCRXqSGEhTF\n",
       "vru4oKCIrti+rq5iF3vvvcuqu191bbvuT0AFXAv6RdfOrgXpRXpNMgmppJeZ+/vjmQmTMJlek/t+\n",
       "vYZk7vM89zlPyHxy77nnniNKKTQajSZUxEXaAI1G07HRIqPRaEKKFhmNRhNStMhoNJqQokVGo9GE\n",
       "FC0yGo0mpGiR0Wg0IUWLTCdFRH51+j5LRHJ8vL6biGwWkZ4i8kcRUSJyVZtzBtjb07zoL0lEponI\n",
       "Ey6OnSQim0SkTkQ+EZGu7o6JSJyIfCciJ/nyTJrQoEWmgyAiR4pIqYh8386rsq2QiMh0EVkE/AQc\n",
       "JSIb2ryaROTCdm75BPCCUspif18DPCQiWX7YfgJQArwKXNbmWA6wFLgL6AkI8Ly7Y0opG3Al8IqI\n",
       "6N/xCKP/AzoWCmhu59WWeGAE8BBwCXAi8HtgETAG+Bfwvv19K0SkGzAdeMup+VdgFfCAH3Zvt9/z\n",
       "IhfH5gC/KKU+UEpVAg8Cs0Uk0d0xpdRGYCdwuh/2aIJIfKQN0ASV3cBr7Ry7t837H4ATgKHAZOBu\n",
       "IB/oBWwGvgUusI8K2vIb4HulVF2b9huBlSLyslLq17YXicgK4HGl1MfO7UqpAvvxAS7uNQljpOVg\n",
       "NZACDPZwbDPwCTAN+NBFv5owoUcyHQsrUN3Oy9rm3O0Y046XgFMwphovAjagB9AVeEFErnRxn1yM\n",
       "UUsrlFKbgFfs/R6GUmpKW4Hxgp5AsVMfjUAVkO3hGHYbc328nybI6JFMB0BE3gMGYQjDIxiCUeV0\n",
       "SgKQDiwTkZUYo5a5GNMkM1AE3Mqh6c/pwOPAHzBGBW3pCuxqx5wHgG0ichqw0d9ncsLE4X8M4zDE\n",
       "0N0xMPw8XdFEFC0yHQCl1DkAInIOcDVwmVJqh4gkAL2Bj4FLlFJf2M+7ELgHOAjkKqXutbcvUUqd\n",
       "JSL1SqmVItIEFLi4ZT2Q1I4tlSJyF/AcwfGHlHNoZILdF5OGMYJxdwyMqVN9EGzQBIAWmQ6Cffn4\n",
       "QYwP3vsiYsOYJtUBO4DbRORYpdRDwETgZCALSBaRGRh+i2H27hJFZIP9+7/aX87kA0e4MecNjNWd\n",
       "qwN+MFgPHOf0/iigFGMk5e4YQF+7rZoIon0yHQAREWAq0A8ow3Dk/gR8rJT6PfApcAvG9AKl1I1K\n",
       "qXEYK0jf2c9/FugmIslAo1JqtP3VVmAAvsdwGrvE7iy+HrgiCI+3ADheRM4WkR4Y07FX7fdwdwy7\n",
       "jSuCYIMmALTIdAxmAFalVD2QAWQCNwD7RcQMPAxsAY4VkWsBRGQccCqwDPjS3kct8DqGD8cd/wWy\n",
       "RWREeycopf4DLHZuE5EVInLYFMoeUKeAr4Cu9gA+Ze9nG3ApMB9jRLYL+zK5u2P2qeK5wDsenkUT\n",
       "YkRnxot9ROQCYI1SaqOI3Ifh1K2wH84C3lJK3WOPlB2KMaJ5GzhXKfWziAwHlgBnAOcB1wBNGA7k\n",
       "b5VS57u453nAbKXU2SF+PL8QkeuA0UqpYIymNAGgRaYTIiLpQFel1G77exMwUSn1k9M5guGzU0op\n",
       "V8F8iMjVwPtKqWJXxyOF3fabgFeUUtWRtqezo0VGo9GEFO2T0Wg0IUWLjEajCSlaZDQaTUjRIqPR\n",
       "aEKKFhmNRhNStMhoNJqQokVGo9GEFC0yGo0mpGiR0Wg0IUWLjEajCSlhExkRSRGRYZ7P1Gg0HYmQ\n",
       "i4yIZIjIBxgpHm9zap8nIntFZIuITHNqf0JE9ovIehGZGGr7NBpNaAlHZjwbRoLqjzGSIyEigzHS\n",
       "CYzCyLD2hYj0B47HyHQ2ACNz2+vAuDDYqNFoQkTIRzJKqWql1L9pXftnFvCuUqrKnuF+N0ZKyLMw\n",
       "cp80K6U+x8jU1jPUNmo0mtARqRy/RwAbnN7vx6j3cwRGSkgHjjpAFqc2RGQuRmImUlNTJx555JEh\n",
       "NVajCSY2pWiy+p9iRayNSHMdYmtGxcWj4lNQpsQgWmjQ3NTErh3baGhoKFFKdfO3n0iJTCKHylZg\n",
       "/97qpr0VSqlXMUqakpeXp1auXBk6SzWaIFJV38SBqga/rzdVFZC6aznWpHRUQirSVIOpoYqagVOx\n",
       "pvcOmp3FRRYumDUdkykeaNgTSF+REplCoI/T+77APhftvTFGORpNzBOowAAkFa81BCYxHQCVmI7V\n",
       "3l7rhciYqgpIKl5LXF0Jh7wlNmwpOTR0z8Wa3rtFYCwFBbyxcDFzZv4+IJsjFSfzCTBHRMwiMhKj\n",
       "ds4ae/vFImISkd8BW5VSZRGyUaMJGsEQGIC4uhJUQmqrNpWQahcN9zhGQdJcC2IiyfITKYU/gZiQ\n",
       "5lpSdy2Hin386bzZLQIzafKUgG0O+UjGnk92NUYFw2QROQm4HPgnRoXBeoxiZEpElmIUft+JUT/n\n",
       "sATWGk2sESyBAbCl5CBNNS0jGQBpqsGWkuPxWudRUGLZVlRyNs0oEg7uoaHnRKyAuXQDt97zICnm\n",
       "FCZNnkKz1VUpdN8IucgopaqAIS4OfQU81uZcR72e60Ntl0YTDoIpMAAN3XMNnwy09sn0PsbjtXF1\n",
       "JdjMhv82rvEgtsQsQCENlRSVlPPz2k3MnDyEE065CID6JisPfbwpYJt1BUmNJkQEW2AArOm9qRk4\n",
       "1fCr1B7AlpJDTe9jvHL6Oo+CbIkZiLUehaKwJo7Zt95HcUk5x7z/Iil22+9euoGNBQcDtlmLjEYT\n",
       "AkIhMA6s6b29cvK2xXkU1JTRn6TCHzlQVsvMJ7+isKSCRY9dRdqw4ymqbuD2xevZX17LfTNGcumT\n",
       "gdmrN0hqNEEmlAITCI5RkIo3g7KyN2E405/8ioIDFbzz/N2MmXkVu5uyuG7BaiyV9Tw+awwnDvM7\n",
       "PKYFPZLRaIJItAqMA+dR0AdvvkZBaTVvvvshYyYfy+aiKu5YvAYFPPeHXIb3THffmZdokdFogkS4\n",
       "BMY51sU5vsWbc5tTe2KqLsRUX8rlJ/Tht//3CT2GT2TV3nLu/WAjGSnxPDl7LP2yzUGzV0+XNJog\n",
       "EE6BccS62MzdWuJbTFUFHs81VeVT//V8Zl52O2v2ViHNtQxtWM/3a7dw55L19MhI4oU544MqMKBH\n",
       "MhpNwIRziuRLxG/bc0vyd3HGE19SUFZDXUMTKjGd9/ck8eT6Qkb2zuTRM0eTkZIQdJv1SEajCYBw\n",
       "+2B8ifh1PreopJwz7v4HBWU1vHfXDI7KHcGbv5p4Yn06x3ar5+mzx4ZEYECPZDQav4mEk9eXiF/H\n",
       "uQeqbcy++j4sZTW8d9fpHDX2SJ5cZ+LdHfGc1rWQB/uupXmvcuvbCQQ9ktFo/CBSq0gN3XMxNVQh\n",
       "jVWgbEhjFaaGKhq657Z7bkaildFDB7DgsSuZ3C+Nu3aO4d0d8VzUbRuP9f4vth5j3Pp2AkWPZDQa\n",
       "H4nkMrUvEb+FtXEkZ02iZ9NeXr3rQmoScrjil3R+KrIyr/ev/LFPPg05x2BLyTb6xvvd3L6gRUaj\n",
       "8YFoiIPxJuLXka6ha043FvzrMw7WN3PX0vVssVRx69RhnCN7aTAfC3JoMqMSUomrPRB0e7XIaDRe\n",
       "4q3A+BLHEgqc88E8/txLHKgytgkUVNbxwIxRHDc0B9sO/3dz+4r2yWg0XuCLwHgbxxIKnAXmzYVL\n",
       "6DY0l+sWrKGkuoGnZo/luKGGiPji2wkULTIajQd8mSK1ik2ROCOOJSmdpOK1IbbS4K6brm0RmNT+\n",
       "o5m3cA3NNhvPnzuO3COyWs5z3scUV3sAFW8OegpPB3q6pNG4wVcfjHPOFgeh8nW44qGn5lOYvx9b\n",
       "92Hc/N5aupgTeerssfTJSjnsXH93c/uKHsloNO3gj5PXEZviTKh8HQ6Kiyw8+/hDWK1WevfpS2XG\n",
       "IO5euoE+WSm8eN54lwITTvRIRqNxQVV9E2UFuzC348Btz7nb0D2XtF/fw1RfCs2NEJ+INbkr1Uee\n",
       "ExI7i4ssXHjWaRTm53PG7D+wviadl77czpi+mTxy5mjSkiL/EdcjGY2mDQ6Bac+B68m5KwoUICLG\n",
       "V/9LLLnFWWDeWLCY7w8k8+KX2zl2cFeePGtMVAgM6JGMRtMKxxTJ7GYjIuD2WFNmX1TiiJY+pbEq\n",
       "6EFuzgLz+oLFfF/TjY/W7mHa6J7c9LthmOIkaPcKFC0yGo0dZx+MJweuv8eCxZ5dO6goL+dv7yxm\n",
       "WUkW324tZM6kI7j8+IGIRI/AgJ4uaTTA4U5edw5cf48Fg4YGw8ZJk6ewbMUa3s9P49utJVx54iDm\n",
       "njAo6gQG9EhGEy1U5kP+KqgtAXMO9JkAmX08XxeEe9ZVFlEjmZicHLueSo/4eywQiossXDT7dC69\n",
       "8lpOPet87vlkG9uLq7nj98OZOqqnV31EIhpZj2Q0kacyH7Ysg+ZaSOtufN2yzGgP8T1ra6uojMs6\n",
       "zHnrLljN32OB4PDBFOzfT5e+Q7l+4Rp2l9by8BmjfRKYSEQj65GMJvLkr4LkDEjKMN47vuavCt1o\n",
       "Jn8VtXGpHLQlg7jOMOcuWM3fY/7g7OR9/PXF/G1LHA1NTTw9eyxj+mZ63U+gdbT9RY9kNJGntgQS\n",
       "01q3JaYZ7SGirrKIg9bEVm3e1pQOJ3W1tS0Cc/+r7/PqZkDB/HNzfRIYCKyOdiDokYwm8phzoLH6\n",
       "0AgGjPfm0ETJVtU3USOZYduFHAgpZjNzLrqEhH7jeH2zIictkafPHkvPzGSf+wqkjnYg6JGMJvL0\n",
       "mQD1B6HhICib8bX+oNEeZByrSOHchewPxUUW1q9dDcARJ5zD33+10i/bzAvnjfNLYCC8O6+d0SMZ\n",
       "TeTJ7APDpxs+mOpiYwQz/Lig+2Ocl6kDqSkdahzpGmprarjulc94dcVexvfL4qGZo0gNIIo3Us+s\n",
       "RUYTHWT2CemStavNjoE4aEO1FOycD+YPT7zHqyv2csKwHO6aNoLE+MAnHuHaee2Mni5pOjzBTpkZ\n",
       "qqXgFoEptHDaI+/yVb6NGWN7ce9pI4MiMJFCj2Q0HZpQ5OQN1VLw316aj6XoACfdt5CfihT/M7k/\n",
       "Fx/bPyqjeH1Bi4ymwxKqpN+hSkx19W33sXfQDDaWNXPtyUM4a0KII57DROyOwTQaN4SyqkAw9ycV\n",
       "F1m45tIL2b63kNuWbmJnhZW7p4/oMAIDeiSj6YCEumyJp31N3uLwwRRXN1P80TZqmoXHZo1m0oDs\n",
       "0BgeISI6khGRm0Rkm4jsEpFr7G3zRGSviGwRkWmRtE8Te4SjLlIw9ic5BOZAYwL9L3uRJkw8+4fc\n",
       "DicwEMGRjIgMAK4HRgHJwE4R+Rq4xt52BPCFiPRXSjVFyExNDOFKYNwtNUeqPpJDYErJpPeFD5CS\n",
       "lMRTZ4+hf9dUzxfHIJEcyTiEw4YhdlXAdOBdpVSVUmoTsBuYGBnzNLFEewLjbwpNdwRjCTthYB45\n",
       "Zz9A90wjirejCgxEcCSjlMoXkQeAHzDE7nxgNrDB6bT9QK+214rIXGAuQL9+/UJuqya6aW+K5G6p\n",
       "GdpPoelpGdrfJeyy0hIyMrP4pVjROPEChvVI5/FZY8g0J/j+0GEiPTlw2yI5XcrAEJZ5wEDgFiAf\n",
       "Y2TjwIZRB7wVSqlXgVcB8vLyQpSmWRMLuPPBBJJC0x3+LGEXF1k4f9Z0+vzmj+zLyiWvfxcenDmK\n",
       "lESTx/tFivTkBLqlJwXcTySnSxcC65RSXyul3rS3WQDntbu+wL6wW6aJCTw5eUOVJtPXaw2BOY3q\n",
       "gaewLyuXk4d349FZozuFwEBkRaYeGCciCSKSDgwDvgDmiIhZREYC2cCaCNqoiVK8WUVyt+s4kB3J\n",
       "vlxbXGTh/LNOp3bkGZgnzODMcb25+7QRJJiiN0QtmAIDkRWZf2KMXHYCvwBvK6VW2Ns3AouBy5VS\n",
       "ejqkaYW3y9ShSpPp7bVKKS6/+ELqxp9P8ogTuWTKAK47ZQhxUbxNINgCAyCx/hnOy8tTK1eujLQZ\n",
       "mjARjjiYYFFV38S8f/yXPVWKeb8dyszcyKeRcEd7AiMivyil8vztV0f8amKGWBGY4iILn/37a75p\n",
       "GkJ+Ldw3YyQnDuvm+cIIEooRjAMtMh2ZcJUZCcZ9PPQRCoFJtKwmdccyTDWFWFN7UTN4Oo09xwfU\n",
       "Z3GRhfMvupimYy4nNbuOx2eNYUL/LkGyODSEUmBAb5DsuISrzEgw7uOhj1AJTNaaV5CmKqxpfZCm\n",
       "KrLWvEKiZbXffRYXWTj/krk0H38NGV27MX/OuE4vMKBFpuPiXGZE4oyvyRlGe7Tdx00foZoipe5Y\n",
       "RnNyFio5G+JMqORsmpOzSN2xzK/+iossnD/3epqPv4quXTL564WTGNYj3fOFESQcAgNaZDou4Soz\n",
       "Eoz7tNNHXWVRyHwwpppCVGLrkiIqMRNTTaFf/b25bAXWKXPplWXm5Ysnc0S2ORhmhoxwCQxokem4\n",
       "OMqMOBOKMiPBuI+LPmqrK6kU3+oK+YI1tRfSWNmqTRorsaYetovFLUopPlpbwPKyHIb3TOeVPx4b\n",
       "tg+vv4RTYECLTMclXGVGgnGfNn3UVpVTW1kW0lIdNYOnE19fgdSXgc2K1JcRX19BzeDpXvdRZClk\n",
       "+lX38/wX2zh6UDbzz8sjIyV69yFB+AUGtMh0XBxlRuLNRpmReLPxPtirS8G4j1MfdeWFHGxOCEr9\n",
       "aHc09hxPxbgrUAnpmKrzUQnpVIy7wuvVJYulkPMffI2Gob9hQjfhoZmjSE6I3m0CEBmBAb2E3bEJ\n",
       "cZmRoN4nsw9VSd3DGgfT2HO8X0vWBQWFXPTkAtSQEzi+t3D/nOOjOooXIicwoEVGEyXESqBdgaWY\n",
       "C5//F/SbyLT+cdwy+7ioryYQSYEBLTKaKCBaBaZt5rzijNE88u9i6DGcc/rVcvN4iNv4z7Bm1fPW\n",
       "Voc9kRYY0D4ZTYSJZoFxzn63cU8x17y7iZ0Hanj01D7cPrwo6MXdgmWrw57MxgMRFxjQIqOJINEq\n",
       "MNA6+93KfdX8aUUG+6oU8yfX8hvzjkOZ8STOyIyXlN6ScS+StjrsSUzrQtfKDZ4vDgNaZDQRIZoF\n",
       "BozsdyohlW93VnPtihRsSrit/27y0g60HHNGJaQSVxfkQEcfbXWQkhhPRmZW8AMv/USLjCbsRLvA\n",
       "gJH97rPN5dy2Mg1rfTX3H1nI7AndAs6qFypbHfakJMaTmZIQmsBLP9EiowkrsSAwAMsODuLBTd1p\n",
       "Li/gsdHFnJ7bPShZ9UKBwx6zqiMz2RS6wEs/0atLmrARKwKzZFU+f/nKwojuyVw6uIoThmVhizdT\n",
       "0/uYlhWkmoFTjdWc2gPYUnJaHQs31vTeyJGnkVG5wQiINOfA8OPCEyPlBVpkNGEhFgRGKcVfPt/I\n",
       "kvWlHDMom/tOH0lSwhSqXZxrTe/tsXRKuEhPTqBrt4HQZ2CkTXGJFhlN4AQh4VSkqjk6sNoUT368\n",
       "li+2VVK38UsuOPUczPVFJO313aZgPounvqIhDsYT2iejCYwgJJwKRkXGQGhstnHP4lV8sa2S2pUf\n",
       "8MLlUxnTP9svm4L5LJ76igWBAS0ymkAJQsIpV3Ee4Yo7qW1s5uZFv/Dj3mqqv/sHL807h0nHTPHb\n",
       "pmA+i7u+YkVgQIuMJlCCkHAqUnEn5bWN3PTuWjYX1dL43Rv89Y4/kTf52IBsCuaztNdXanNFzAgM\n",
       "aJ+MJlAcCaeSMlqaaqsrOehDwilHnIejtjSEPu7EUlnPLe+tobSmiYfPGM2Eq18hKTk5YJuC+Syu\n",
       "+jLTQHp2T5/7iiR6JKMJjCAknAp33Mmukhqu+X+/UHCgnJMStnPM4K6tBCYQm4L5LG37Mqs6MqQ2\n",
       "auJfvEWLjCYwgpBwKpBqjr6yIb+S6xesoryslLL37+M3E4YH1aZgPotzX6lN5WSkZ4Qm8ViI0dOl\n",
       "SBKuukihJggJp0w1RSRZVrXUQGpO7en1B9PbJeMfdpbywIcbaawspvT9B3n9b6+0+GBc4W8sTDBj\n",
       "aKzpvTF16096DPlg2qJHMpEiXHWRwkCggXaB1EDydsl4+UYL93ywgcaSvZQsvMujwEQLsbSK1B56\n",
       "JBMpnJd+4dDX/FUxNZoJRiRvqxpIYNRAsrd7So/ZapkXjGVee7tjNPHeyn387zc7Gd8vi9yuuxj5\n",
       "5ltaYMKIFplIUVtijGCcSUwz9p7ECMHaKmCqKcSa1lpYVWImpmrPo7q4uhJs5tZ1plVCquEPUYrX\n",
       "vt/Fgp/2Maar8PisMSTGR2YTo690FIEBPV2KHOGqixQigrkXKZAaSO2lXWhMyuGZ5VtZ8NM+ZOd/\n",
       "+O/Tl2BtrA+KvaGmIwkMaJGJHOGqixQCgr3ZMZAaSK6WjJtqq7ljbTc+3WBBNv8fxZ/8mb++/jYp\n",
       "5uiu6ggdT2BAi0zkCFddpCATit3UgdRAartkXKXMXLN5BCv21BC3ZgnFX7zBmwuXaB9MBNE+mUgS\n",
       "rrpIQSKU6Rr8rYEEh5aMy2oauX3xOvaU1pLbtInPv1ukBSYK0CKj8YpozweTX1HHbe+vo7y2kUdn\n",
       "jWbCEVPYOetkhg4/MtKmeaQjCwx4KTIi0kMpVdSmbaJS6pdAbi4imcArwPFAPTACuAq4GagDblBK\n",
       "fRrIPWKWaAnUq8ynbvfP1JUVYm4n0C3SuWC2F1dz++J1NDVb6bphEX3PvhOTKZuhw4+MuG2e6OgC\n",
       "A977ZFaIyBjHGxGZDXwUhPu/CGwA+gKjgCOAa+zfzwJeF5HormAeCqIlUK8yn7qNH3GwqrLdQLdI\n",
       "54JZu6+CGxetQVDUfvwoa5a/T2H+/qiwzROdQWDAe5G5FFgiIjNE5C7gYeDkQG4sIj2BY4HHlEE9\n",
       "hrC8q5SqUkptAnYDEwO5T0ziJkdLOKnb/TMHbSluc6NEMhfMiu0l3LZ4HZnJJirev5eiLWt4c+ES\n",
       "Jkw6OuK2eaKzCAx4OV1SSn0rIicC7wEHgKOUUq5Sn/rCKGAXsFhERmKMjBIwRjYO9gOHBUuIyFxg\n",
       "LkC/fv0CNCMKiYJAvar6JurKClHtBLo5cBcMF0o+XV/Is59vZVDXZHa+eTNFu7cf5uSNlG2e6EwC\n",
       "A25GMiLSJCKNjhfGqOJo4DSg3N4WCN2BkcB1wARgCjATsDmdYwOsbS9USr2qlMpTSuV169at7eHY\n",
       "J8KBeg4nrzf1hcJdg0gpxYKf9vL08q1M7N+F+08dQHZaistVpGirjwSdT2DAzUhGKRVqX0gx8ItS\n",
       "aj+AiHyOISjO3s2+wL4Q2xF99Jlg+GDAGME0VhuBesOPC/mtnVeRGrrnkrprOVaMEYA01WBqqKKm\n",
       "9zEt53tzTrCwKcUr3+zkvV/2c+yADO6YNpQ0cwqLPlqOiBx2fjht84bOKDDgQzCeiEwWkXNF5HzH\n",
       "K8B7/wCMFJHeIpIE/BaoBuaIiNk+hcoG1gR4n9gjQoF6bZepvcmNEq5cMM1WG099toX3ftnPqcOz\n",
       "+OHZy7jnpmsAXApMOG3zhs4qMOD9EvY7QB7wE9Bkb1bAO/7eWClVIyLXAZ8DScBbSqln7YKzEWNJ\n",
       "+zKllPL3HjFNmAP12ouD8SY3SqhrENU3WXno4038sLOMc8Z2ZfH9/0NRQQFPPPeix2ujoT5SZxYY\n",
       "APHmMywi+4Eh9hWgqCIvL0+tXLky0mbENNEcaFdV38RdSzewqeAglx7Vg7duPx9LQYGO5A0jIvKL\n",
       "UirP3+u9nS59DURPBJMmaESzwJRUN3DDorVsLari3tNHsPTxa7TAxCDebivoC6wVkVVAy2+kUmpq\n",
       "SKzShIVoruy4r6yW2xevp7KuicdnjWFC/y50ffwZGurqDhMYf20M5bNpgTmEt9OlE121K6W+CbpF\n",
       "PqKnS/7hS2VHa1J669WZEDtPtxZVccfi9QDcelJvdv30b87/45+CamMon62jCUyg0yVvg/G+EZF4\n",
       "oBvg2pWviRn8quyI69SWwWbV3nLu/WAjGSnx3H5Sb269+EwsBQWc9LtT6d2nb9BsDNWzdTSBCQZe\n",
       "+WRE5CagFNiJscK0F1gRQrs0IcIXH0y4Kzt+u/UAdy5ZT8/MZO7/bd8WgXlz4RKXAhOIjaF4Ni0w\n",
       "rvHW8Xs9MAj4GBgPHAf8X6iM0oQGX5284YyY/XhdAQ9+tInhPdK5++ReXHfBTK+cvP7aGOxn0wLT\n",
       "Pt6KTKNSqhQjfmWcUuoH4PehM0sTbPxZRQpHZUelFG//sIfnPt/G0YOyeerssfy65ieKLRavVpGi\n",
       "odKjFhj3eOv4nQf8jDFl+hIoA3Yqpc4IrXme0Y5fzwSyTB3KFRibUvzlqx0sXZ3P1JE9uOm3Q0hM\n",
       "MNyEZaUlZHf1blQRydWlziAw4XL8/tnphmOBAcBWf2+qCR+BxsGEKmK2yWrjyc+28OWvxZwzsS+z\n",
       "jjQz+9QTuf2+hznupFO8FphAbAz02TqDwAQDjyIjIkdhJJNaoZSyKKVKRWQi8AswLNQGavwnWgPt\n",
       "6hqtPPDRRn7eXc7c4wdySv9ELpg1HUtBAcltCt9HK1pgvMetyIjIw8BZwErgCRG5ELgaI0VDoBsk\n",
       "Ox7RkjITQ2DKCnZhjpLUk4mW1aTuWMbBylJu33sKm2rTuXXqMCZ2lxaB0ZG8HRNPjt8LMRJUXQyc\n",
       "AnyGkXrhaKWUdoQ4Ey0pMzkkMNGSetJR69pS08Qfd/+OrbVm5vf9lhMSt2qB6QR4mi41KaVqAJRS\n",
       "+0SkErhPKWXzcF3nI0pqWzumSOYIBNK1R+qOZWxVfbhqy9HUWE38ddQW8pJqsBZ/x3En/YbTZs7S\n",
       "AtOB8SQyfURkudP7HOAzR/4OvXfJiShJmenwwURT6smNBxq4Zs8JxIvitdGbyWwsYm8FDDBbuP+x\n",
       "l8Jujz9ogfEfTyLjuU6oxsCRMtMxgoGIpMx04Ag2c4xkIDKpJ3/eXcb9u04iJ76Bv47eSkJdCWfc\n",
       "/TbxcYpvn78srLb4ixaYwHArMtGwATJmiJKUmQ6iIfXkvzcX8+RnvzIgM4HXun1IfYWVmQ99SEHJ\n",
       "QRbfcjL1w04Pmy3+ogUmcHQFyWDhSJmZv8qYIplzDIEJc8pMB47Uk0nFa4mrPYAtJYea3seEbXVp\n",
       "6ep8XvpyO2P6ZvLImaMp3VrljZQuAAAgAElEQVTPef9zGQUlB3n3vnMZNcO7WteRRAtMcNAiE0yi\n",
       "JGWmg0iknlRK8ff/7OEfP+xhypCu3HvaSBLj47jhLwvIL2/gjfc+5sjJUwi01EWo0QITPLzaVtBy\n",
       "skg6RgDeNqXUwZBZ5QOddVtBNAbaWW2KF77cxkdrC5k2uic3/W4YpjhjkaCyopzdO3eQO8Hv6PSw\n",
       "oQWmNSFNvykip4nIGhF53R75uwF4DtggItopHCGiUWAam208/MkmPlpbyHlHHcEtU4dReqCI+2+/\n",
       "iYb6ejKzumiB6aR4CsZ7FrgW+AajwuM0pdSJGKkengqxbRoXRKPA1DY2c+fS9Xy7tYSrThzE5ccP\n",
       "4kBxERfMms6SRe+wY1tsbHPTAhMaPPlk4pVS3wPfi8jD9vrUKKX22kuXaMJIJATG007l8tpG7lyy\n",
       "nu3F1dwx7UimjuxBcZGlVSTvyDFjw2qzL/Y70AITOjyJTJaI3GX/PsXpewGyQmeWpi2REhhHHlyb\n",
       "uRvSVEPqruUteXAtlfXctngdB6oaeOTM0Uwe1PUwgYlkJK8n+x1ogQktnkTmRcBRrvYvTt8DxEao\n",
       "ZgcgUlMkd3lwNzZkctvidTQ02Xj67LGM7pMJQHlpKY2NjREXGPAuj68WmNDjKRjvwXAZonFNJH0w\n",
       "7W1NWJ9fyY2friEpIY4/zxnHwJxUqqurSE1NY/jIUXz+n1UkJiZGxGZnPG2t0AITHjym3xSRY0Xk\n",
       "axGpEpFyEflYRMaFw7jOTqSdvK7y4K7Y38i1v/Qgy5zAi3PGMzAnleIiC7Omnshf5z8DEBUCA+7z\n",
       "+GqBCR+elrAnA28AjwE9gH7294u00ISWSAsMHJ4H99Odjdy2MoP+XZL585xx9MxMbuWDOfqYKRG1\n",
       "ty3t5fFNOCJPC0wY8TSSeQi4RCm1XClVq5SqUkotAeZiCI8mBESDwMChrQkq3syCTfU8uCad3F5m\n",
       "njsvjy7mxKhy8rrC2f642gOoeDNy5Gl07TMw0qZ1Kjw5fkcopf7bttFe7O2fIbKpUxMtAuOgOa0X\n",
       "L6+pZ8GWfZwwLIe7po0gMT6OxsZG/ufsGVErMA6ct1akJyfQVY9gwo4nkalzc6w2mIZook9grDbF\n",
       "859vZdkGCzPG9uL63wxt2SaQmJjI1TfcSu8+faNWYJzRPpjI4Ulk+ouIq3BNwUgurgkS0SYwDU1W\n",
       "HvlkMyt2lHLR5H788dgBiAjFRRa2/bqZKSeezMzZf4i0mV6hBSayeBIZXY0gDPgjMN5EsjqSd5tq\n",
       "CrGm9qJm8HSv0itUNzRzzwcbWL+/kutOGcKs8cbOcocPpryslK9XbiAtLd1DT77ZGwoCEpgoSgwf\n",
       "y7h1/Cql9rh7hcvIjoy/AuMpSbgjebc0VWFN64M0VZG15hUSLavd9l1W08iNi9awqeAgd5824jCB\n",
       "sRQU8PJbC3wWmEgkNQ9YYKIkMXys46kkyjbAVS4IAZRSSo90AsDfKZI3kaypO5bRnJyFSs42zknO\n",
       "ptne3t5oJr+ijtveX0d5bSOPzhrNpAHGtYGuInljb7AJeIoUJYnhOwKepkvfAicAy4E3gfBnoe6g\n",
       "BOKD8SZJuKmmEGta6w+DSszEVO36L/H24mpuX7wOq03x7Dm5jOh1KFfxu//vHwGtIoU7qXlQfDBR\n",
       "kBi+o+BpuvQnIA/YhhGE9yjQN1jTJRFJFJFNIvKa/f08EdkrIltEZFqg/UcrgTp53UWyOrCm9kIa\n",
       "K1uf01iJNbXXYf2t3VfBjYvWEB9nbBNwFhiAa268lQ///Z3fq0je2BssgubkdSSGdyaMieE7Eh63\n",
       "FSilKpVS85VSYzFGM/NE5CcRuToI978L2A0gIoOBa4BRwCzgdRFJaP/S2CQYq0jtRbI2dM9tOadm\n",
       "8HTi6yuQ+jKwWZH6MuLrK6gZ3DrX2IrtJdy2eB1d05J48bxx9O+aChhTpIvPOYM9u3YiIgwcPDSk\n",
       "9gaDoK4i9ZlgJIJvOAjKZnytP2i0a3zCo8i0odz+ygAO/5PoAyIyApgEvGtvmgW8a48q3oQhPhMD\n",
       "uUe0EaxlaleRrG3TFzT2HE/FuCtQCemYqvNRCelUjGudvPvT9YXc/+FGhnRP489zxtE9w6hD7fDB\n",
       "rPr5Rw4UF4XF3kAJ+jK1IzF8vNmYIsWbjffaH+MzHhOJi4gZo+71FUAN8DJwrVKqyd+bilEd7gXg\n",
       "Kowse2DE3WxwOm0/7QiZiMzF2NpAv379/DUjrAQ7DsabJOGNPce7dPIqpVj48z7+9t0u8vp34cGZ\n",
       "o0hJNAEunLxHB6eESiiTmocsDibMieE7Kp42SP4FWAeMAy5WSp2klFoYiMDYuRL4Wim13aktEXAu\n",
       "f2sDrK4uVkq9qpTKU0rldevWzdUpUUU0BdrZlOLlb3byt+92cfLwbjw6a3SLwBwoKorqvUiu0IF2\n",
       "0Y+nkcxVGB/0K4C5jvK0HFrC9ndP/0VAuoicA2QDqRgjG+c/G32BfX72HzwCDMiqqm+irGAXZheB\n",
       "aOEOUGu22nhm+VaWbyrizHG9ufaUIcQd+j8l2ZxC7z5H8PhzL7UIjDc2BuM5/OlDC0xs4FNJlJAY\n",
       "IPJHjCnT/wJvY6xmDQDeB0YpDwaGtCSKIyArOaNNVUjv5uYOgXGkgHSu5FjfPZdkR/yIc4XHIPsq\n",
       "HNQ3WXno4038sLOMS6YM4MKj++H4o1FSXExqWhopZjNKqZZ25/SV7dnozTme8KcPLTDhI9QlUV72\n",
       "55g/KKV+Af4JbAQWA5d7EpiQ4xyQJXHG1+QMo90DjilSq0A0iTMC0ZLSSd2xzGV7UvHaoD9GVX0T\n",
       "t72/jh93lnHjb4dy0eT+LUJSXGTh/FnTuOHKSwBwGq22a7uzjd6c4wlf+9ACE1t4Wl2aKyKNItLk\n",
       "9GoUkSbg8mAYoJR6Syl1mf37x5RSA5VSI5RSK4LRf0DUlhgjGGcS04x2Nzj7YOLqSlAJqa2Oq4RU\n",
       "TDWFLtvj6tz37Ssl1Q3csGgtW4qquG/GSGbkHhoZFBdZuPCs0yjMz+fyq+cddm17tjvb6M05nvCl\n",
       "Dy0wsYcnkXlTKZWolEpweiUqpRKAt8JgX2TxIyCrrZO3vUA0a2qvkAeo7Sur5boFq7FU1vP4WWM4\n",
       "cdghJ7mzwLTn5PUmiC4YgXbe9qEFJjbxJuLX52MdBh8DslytIrUXiFYzeHpIA9S2FlUxb+EaGpps\n",
       "PH9uLhP6dWk5ppTihisucSsw7mx3tjEYgXbe9KEFJnaJuOM3UEJeC9vL1SV3y9TtrZyEanVp1d5y\n",
       "7v1gIxkp8Tw1eyxHZJsPO2frr5s5WFHucZk6GlaXtMBElkAdv1pkgkA0xcF8s/UAjy3bTN8uZp44\n",
       "a0yrD2dxkYWPlrzHpVde28rBG81ogYk8gYqMx4hfjXuiSWA+XFvAn7/YxqjeGTw6azTpyYe2fjlH\n",
       "8k6dPoMj+g+InKFeogWmY6BFxh/sU6i6yiJqJBNTmLK8tYdSin/+sJc3/7ObyYOyue/0kSQnmFqm\n",
       "IAf27+DCm1/EUlLBmwuXtghMpLLVeYMWmI6DrxskNfYAvdraKirjssKW5a09bErx0lc7ePM/u5k6\n",
       "sgcPzRzVIjCpu5ZTbClg1i0vUniglEWPzuXoUQOAyGWr8wYtMB0LLTK+kr+K2rhUDtqSQx5E54km\n",
       "q43Hlv3K0tX5nDOxL7f9fjjxJuO/1BHgtmaHhZKySt6Zfy+T8sa12BmMILpQoAWm46GnSz5SV1nE\n",
       "wbgsY/eWnVBmeWvXjkYr93+4kZV7ypl7/EDmHNV6N7qtuoi49J5MPX4SPy79XzLTU1HK1mJnuLPV\n",
       "eYMWmI6JHsn4QFV9E5WSGbYsb+1RWdvEze+tZdXecm6dOuwwgSkusvDbK5/ms39/C0BmeuphdoYz\n",
       "W503aIHpuGiR8RLHKlK4sry1R/HBeuYtWsOOA9U8OHMU08a0TrnjWEXaU1hCjtnUrp2Rfg5ntMB0\n",
       "bLTIeIHzMnU4sry1x57SGq5bsIbS6gaemj2WKUNajzpaJ5xaypiZV7VrZySfwxktMB0f7ZPxgKs4\n",
       "mFBmeWuPzYUHuXPJekxxwvPnjmNI99YbNw9WVhyecCoIK0WhXObWAtM50CMZN0RLoN3Pu8u4+d21\n",
       "pCbF88J54w8TGID0jExOPW1mi8B4WqL2Zgk7lMvcWmA6D3ok0w7RIjD/3lzMk5/9Sv+uZp6cPZbs\n",
       "1NbJCIuLLNRUVzFw8FBuufuBlnZPBdW8KbgWqqJsWmA6F1pkXBAtArN0dT4vfbmdMX0zeeTM0aQl\n",
       "tf7vcvhglFJ89t3PxMcfOu5pidqbJexQLHNrgel8aJFpQzQIjFKKv/9nD//4YQ9ThnTl3tNGkhjf\n",
       "embbtqqAs8DAoSVqxygEXC9ht3fc23N8QQtM50T7ZJyIBoGx2hTz/72Nf/ywh+mje/LAjFEeBcZV\n",
       "ugZPS9ThyhXjQAtM50WLjJ1oEJjGZhsPf7KJj9YWcv5RR3Dz1GGY4g5PyfDsYw96LFviaYnamyXs\n",
       "YC1za4Hp3OjpEr4LTCiSUNU2NnPvvzayem8FV504iDnDTSTt/MxlX/c9+jQXXjqXMbmHF25rZWdN\n",
       "EUmWVZhqCrGm9qI5tafPAuHNcr1XCacCLC2jiV06/UjGH4FxtaybaFnt93JveW0jN727lrX7Krhj\n",
       "2pHMGW46rK+qle9xx9UXU1NdTWpamkeBSbSsJmvNK0hTFda0PkhTFVlrXiHRstrtc/i6PO2un1YC\n",
       "s2UZNNdCWnfj65ZlRrumw9OpRcafKVKwS5xYKuuZt3ANe0preeTM0Uwd2eOwe1gONjPr1pf45JNP\n",
       "2LF9q1d2pu5YRnNyFio5G+JMqORsmpOzSN2xzO1z+LoLu71+sio2HJoiBVBaRhP7dFqR8dcHE8wS\n",
       "JzsPVHPdwtVU1Dbx9NljmTyo62H3KCopZ/bV91FwoJwFj1/D2HGuk5i3xVRTiErMbG1PYiammkK3\n",
       "z+FrSRZX/SSnZpJpqzzU4GdpGU3HoFOKTCBO3mCVONmQX8kNi4xRw/xzcxnd55AgOO7hEJjC4jLe\n",
       "efomjjp6std2WlN7IY2VrdqksRJrai+3z+Hr8nTbflIS48k0NbQuG+NHaRlNx6HTiUygq0jBKHHy\n",
       "w85Sbn1/HVnmBF6cM55B3dJc3qOmogRlU7zz9I1MObK3T0vHNYOnE19fgdSXgc2K1JcRX19BzeDp\n",
       "bp/D1+Vp535SEuLIjKs7vGyMj6VlNB2LTlWtIFjL1IGsLi3fVMRTn/3KkO5pPH7WGLqYEw/r/2Bl\n",
       "BVlSQ/KBdUbyqbQefm1MTLSsJnXHspbVpZrB02nsechhHKzNj6aqArIqNhhTpPZWjvTqUsyiS6J4\n",
       "KTLREAfz3i/7+d+vdzChXxYPnTEKc+LhEQSOQLup02dw6z0PRsBK39FxMB0bXRLFCyItMEopXvt+\n",
       "Fwt+2scJw3K4a9qIw6J4oXUk70m/nRrwfUNddA20wGg80+F9MpEWGKtN8czyrSz4aR8zcnu53IcE\n",
       "rQXmjYWLmTR5SkD3DUYcjKc+tMBovKFDj2QiLTANTVYe+WQzK3aU8j/H9OfiY/q7rNzY3NzMH/9w\n",
       "ZtAEBoKTpsFdH6Zu/bXAaLyiw4pMpAWmuqGZez/YwLr9lVx3yhBmjW/fyRkfH88Nt99Nl+zsoAgM\n",
       "BCdNQ3t9pDaVk64FRuMlHVJkIi0wZTWN3L54HXtKa7lr+gh+M6K7y/OKiyysX7OK35xqOHqDSTDS\n",
       "NLjqw0wD6dk9g2qrpmPT4XwykRaY/Io6rluwmvyKOh6dNdqtwFwwazq3XHsFBysrgm5HMOJg2vZh\n",
       "VnVkSK2Ob9H4RIcSmUgLzPbiaq5fsJqahmaePSeXSQOyXZ7n7OT929uLyMjMCrotwUjT4NxHalM5\n",
       "GekZMHy6jm/R+ETEpksikgy8AJwEJAHzlVLPi8g84GagDrhBKfWpN/1FWmDW7q/gnqUbMCfG89wf\n",
       "xtC/a6rL87xJOBUsglFVwZreG1O3/toHo/GbSPpkUoH/A64AugIbRWQVcA0wCjgC+EJE+iulmtx1\n",
       "FGmBWbG9hIc+3kSvzBSemj2G7hnJ7Z770ZL3wiIwwUIvU2sCJWoifkVkJfAvIEkpdY+97T/ATUqp\n",
       "H9q7bsLEier9z74Jk5WH8+n6Qp79fCvDe6bz2KwxZKYkuDxPKYWIoJRi/949HNF/QHgN9QMtMBoI\n",
       "POI3KnwyIjIaSAZygD1Oh/YDvVycP1dEVorIyqLiyBSIV0qx4Ke9PL18KxP7d+GZs3PbFZjiIgvn\n",
       "nzmNrb9uRkS0wGg6FREXGRHJAd4GLgESAZvTYRtgbXuNUupVpVSeUiovu2v40wXYlOLlb3byt+92\n",
       "ccqR3XnkzNGkJJpcnuvwwWxYu4aDFeVhttQ/tMBogklE42REpAvwMXCXUupnEZkGOC9d9AX2+dO3\n",
       "856bQ1pqC7jUarPVxjPLt7J8UxGzxvfhmpMHE+ciihecnbz5vPPcHRyTtgPbjsqglnoNNlpgvETv\n",
       "KveaiI1kRCQD+Ah4xGkF6RNgjoiYRWQkkA2s8bVv5z03iIkky0+kFP4EYgqo1Gp9k5X7PtzI8k1F\n",
       "XDJlANe6EZiS4uIWgVn06Fwmj+oX9FKvwUYLjJfonMU+Ecnp0vXAeGC+iGwXke1AOfBPYCOwGLhc\n",
       "+eGZdt5zk3Bwj5HfNqWL8b2fuWyr6pu49f11/LizjBt/O5SLJrveh+QgNS2NQUOG8c5zdzApb1zA\n",
       "uXRDjRYYH9A5i30iYtMlpdQjwCMuDj1mf/mN856buMaD2BKzAIU0GOkofd3DU1LdwO2L17O/vJb7\n",
       "ZozkxGHd2j33QFERySnJpGdk8so/FpK24W1srnLpBlDqNdhogfGR2hJjBONMYhpUF0fGnign4o7f\n",
       "UOCcd9aWmIFY68Faj0rKAHzbw7OvrJbrFqzGUlnP42eNcSswxUUWzp81jWsuvQjHACxYuXRDhRYY\n",
       "P9A5i32iQ4qM856bpoz+Rn7bunLj+8Yq4g/uJ66ujLQNb2Pe8Wm7/pGtRVXMW7iGhiYbz5+by4R+\n",
       "Xdq9Z3GRhQvOmIolfy+3zx5P6s7PMFUVBLXUa7DRAuMnOmexT3RIkXHec4Oy0tDzKOp6HQXKijTV\n",
       "IwpUQrJbR+yqveXcuGgtyQkmXjhvHMN6pLdzNyeBKchnwTM3M+noY1r6BYJS6jXYaIEJgMw+xh6u\n",
       "eLMxRYo36z1dbuiQqR6g/X075h2f0pSQ7DaZ0zdbD/DYss307WLmydljyElz/2G89dorsBQWsODZ\n",
       "Wzgqb+Lh/Q6eFvAeomCiBSYIZPbRouIlHVZk2sNTMqcP1xbw5y+2Map3Bo/OGk16susoXmceeup5\n",
       "an78B3kTW5eOjTYHL2iB0YSfDjldcke7xdmSc3j7v3uY/8U2jh6UzVNnj3UrMMVFFl567ilsNhv9\n",
       "Bw4ib9LRUe3gBS0wmsjQ6UYyDd1zSd21HCvGSEOaapD6Kp4qHMzSjbuZOrIHt0wdRrzJ0F9X2foL\n",
       "a+O48KzTKMzP57QzZjFw8FCX/ZoaqqjpfUxEn9dBSAVGR79q3NDpRjJtkzk1xpm5Y9cYlm6s5JyJ\n",
       "fbnt98NbCUzbbP1VK9/jwjNPpTA/nzcXLmHg4KEu+40WBy+EQWB09KvGDZ1uJAOHnMJ1jVbu/3Aj\n",
       "K/eUc/nxA5kz6YhWUbxts/VbDjZzzm1/obC4jDcXfXhYPphgJIkKNiGfIjlHv8Khr/mr9GhGA3RS\n",
       "kQGorG3izqXr2VpUxa1ThzFtzGEZJQ5zEm/ZuZeSimoWPnENo3TCKQMd/arxQKcUmaKD9dy+eD2W\n",
       "g/U8OHMUU4a4ds46nMQNkkxiQgInHJXLz+8+RWpGV2rDbHNboqayoyP61TGCAR39qmlFp/PJ7Cmt\n",
       "4foFayitbuDJ2WPaFRgwnMQHCvYz9aKbWfzpN0hjFZmm5ohH60ZVZUcd/arxQKcSmc2FB5m3cA1W\n",
       "pZh/7jhy+7qvElBYG8eZd73BPksJ/brER40zt5WvqM3O7rAvU+voV40HOtx0qb1pxM+7y7j/XxvJ\n",
       "Tkvkqdlj6Z2V4raf4iKLsUxdWMSbiz5k1ORj/Z4i+VP43t01UVfZUUe/atzQoUYy7U0jvlq9hbuW\n",
       "bqBvFzMvzBnvUWCqq6ta4mACrSrgT+F7T9e4CijUlR010UqHEhlX04iFBd145MtCRvfO4Llzc8lO\n",
       "TfTYT2pqGmecPScoZUvcTW38vUZXdtTEEh1quuSYRsTVlRFfsYuXd3fn1cIhnJRTyR2zTyAx3r2m\n",
       "FhdZqNy3mdwu9dz+u57YUippqCoIyAcTV1cCYiKxbCvScBCVlGGknGhqf/LlaX+VI/AvqXitMUXK\n",
       "7gl9TtJTFk1U0qFExpaSg+ngfuLLtvFIfi6Li/swq+s+7um7juq6PLdi4UjX0FxbyffvPEWCuRvS\n",
       "VEPqruUBOnvjSCn4keaULqikTLDWk1Lwo5F6ws1ztC1033YflK7sqIkVOtR0qaF7LpRu49ZdE1hc\n",
       "3IdLe+/h/n7rsXUd5nZ60lJVoLCAF++9koTULkHNx2sTEATjX8HWfmrglufwlOhKb3bUxAodaiRT\n",
       "ldSdW3Yfz88V6dzSdzMX9CunMXM8tuSsVikXnFduCmtMXDDvCSyWYhY+cQ2TvEjX4NtqkY2GXkeT\n",
       "cHAPcY0V2BIzaOx1NKjDykm14Dwdiqs9gC0lh5rex7TcQwuMJpboMCJTXtvInUvWs6MyjfvHVTFt\n",
       "0CAc1bGlsaplquFYubEmpWMzd2P+i/+LpSCfv//9TSb1S/A4TWl7vacplS0lB2mupaHnxEN9NlYZ\n",
       "Wfvc0N4+KC0wmlijQ0yXLJX1zFu4hj2ltTx6ah9mdCtpd6qRVLwWZWsmsWwryXu/4bHz8/jo+es5\n",
       "rl+CV9MUX1eLgpnjVwuMJhaJeZFpaLZy3YLVVNQ28fTZYzlq1FC3KRcSKnZQvmM1lz+zhPKmRJJN\n",
       "VvK61JBQscOrdA1xdSUoVyVO6kpc2hesFBBaYDSxSsxPl/aV1TFS4M9zxjEwx/jwu0u5UFyQzxkP\n",
       "f0hBWQ1XnlFB3oAM4qr3k1S1D3PWYBq651I7eFq79/Nm5actgaaA0AKjiWViXmRMccJfZvRmQOW3\n",
       "xFncO2KLiyxcdP9CCkuree++s8nrn05i6a8owJraqyWy1t1II1wZ8BzO5dTmCnscjM42p4lNYn66\n",
       "1C8zgSElX3kM23csUxeUVrHg8auYPHoQCZW7sCWYac4cgDW9l1dL1uHIgOdwLpulkfSc3jrbnCam\n",
       "ifmRTFJDKQnFazGldqcpcyC2lOzDSpyYqgowbfuCJFsNC5+4jmOHZNGY0Repr4T4JKS5nqbMgYB3\n",
       "FQZCnQEvqXgtiWldyMjKtjfobHOa2CXmRQZbMzZzd7A2kFy0mvoereNiqvZtolfpD/TrlskX/3we\n",
       "k7UOqdxvFHkDbCgae4zHlmJ8oKOhwkBqc4UxgnFGZ5vTxCgxP10iLh6xNUK8GWtCCgmVu1qEorjI\n",
       "wuxZs7jz5Q9RienEmeJRiek0ZfbFlpJNRd71WDMHoUwJUVNCNj05wfDB6FrLmg5CzIuMMiUhTbVI\n",
       "cx3EJRFXU4ypoYp99OKCWdMpLC5l5tQTW19jX3KOtgoDLatIOtucpgMR89MlFRdPQ4/xJFTuagnB\n",
       "35U6jjkXXYqloIB35t/N5FH9UE7XOE+JoqXCQKtlake2ufxVxhTJnAPDj9P+GE1MEvMig7JiS86i\n",
       "0TQMU2ovanPGcOk5F2HZX8g78+9m4rEnYSpeG9QlZ38y3bnDZRyMzjan6SDEvshIXMsIpj5zEObi\n",
       "tdx71dkkmTOYPKofpuK11HfPJb7G4nKzoa/4unfJEzrQTtPRiXmRsSVlUj36IoqLLKz74C+ccdI4\n",
       "TphijFIUYAXiayxuo3h9oW3BN5WYftiSubdogdF0BmJeZOBQoF1xwT6OzXuJnOxDx7yJe/EFT1nr\n",
       "vEULjKazEHWrSyLyBxHZJSLbReRST+c3NzUZCacKCnj72TvpltZaN4Md9+Iqibev99ACo+lMRNVI\n",
       "RkTSgWeByRgznTUi8pFSqt1hws4d24g3xfPGwsWMHzUQU4j3FQW6d0kLjKazEW0jmVOBb5RS+Uop\n",
       "C/Al8Bt3FzQ3NfHGwsVMmjwlLHEvgdxDC4ymMxJVIxngCGCP0/v9QK+2J4nIXGCu/W3DnJm/3xAG\n",
       "24JBDuA68Ux0Ekv2xpKtEFv2Dg/k4mgTmUTA5vTehjFtaoVS6lXgVQARWamUyguPeYERS7ZCbNkb\n",
       "S7ZCbNkrIisDuT7apkuFgHMEWl9gX4Rs0Wg0QSDaRGY5cKqIdBeRnsCx9jaNRhOjRNV0SSllEZG7\n",
       "gf/am25WStW4uwb7tClGiCVbIbbsjSVbIbbsDchWUUp5Pkuj0Wj8JNqmSxqNpoOhRUaj0QAgIiki\n",
       "MizY/casyPi6/SDciEiyiLwqIltFZI+I3Ghvnycie0Vki4gEZ9dmkBCRRBHZJCKv2d9Hs62ZIrJQ\n",
       "RPJFZIfd9qi0V0RuEpFt9t/Xa+xtUWOriGSIyAdAEXCbU7tLG0XkCRHZLyLrRWSiqz5boZSKuReQ\n",
       "jrG03QfoCViAbpG2q42NXYHZgGAEXhUBJwJb7faPBAqAhEjb6mTzA8Ay4DVgcJTb+g/gHvvPNzla\n",
       "7QUGALuBVPvvRCUwKppsBdIwIusvA16zt7n8eQKnAN9jLBr9Dljjqf9YHcn4vP0g3CilSpVSi5VB\n",
       "CYYongC8q5SqUkptwvjl8/yXIAyIyAhgEvCuvWkW0WurI7zhMfvPt57otbfJ/tWG8cGsAqYTRbYq\n",
       "paqVUv8Gmp2a2/t5ngW8pZRqVkp9DnSz/3+0S6yKjFfbD6IFERmN8dc2hyi0W0QEeAGY59QczT/j\n",
       "UcAuYLF9KP8MUWqvUiofY4T4A/AFcD5GkGnU2dqG9n6ebdvz8WB7rIqMV9sPogERyQHeBi4heu2+\n",
       "EvhaKbXdqS1abQXojjGEvw6YAEwBZhKF9opIBoawzAOeA24hun+2Dtqz0WfboyoYzwcKgZOc3vcF\n",
       "foyMKe0jIl2Aj4G7lI+6AlAAAAQySURBVFI/251n0bht4iIgXUTOAbIx/AcvEJ22AhQDvyil9gOI\n",
       "yOcYv+jRaO+FwDql1NfA1yIyC8OHGI22OtPeFp+27b0xRjntEqsjmajffmD/C/YR8IhS6lN78yfA\n",
       "HBExi8hIjA/0mkjZ6EApdaxSaoxSahxwH7AUQxyjzlY7PwAjRaS3iCQBvwWqiU5764FxIpJgz5c0\n",
       "DGPaFI22OtPe7+onwMUiYhKR3wFblVJl7jqKyZGM8m/7Qbi5HhgPzBeR+fa2qcA/gY0Yv3yXKbsr\n",
       "P9pQSv0iIlFpq1KqRkSuAz4HkjAckc/aBSfa7P0nxorMTqAO+LtSakU0/Wzt4rcaYyUpWUROAi7H\n",
       "xe+qiCzFWCXdCZRiTAXd9x8d/w8ajaajEqvTJY1GEyNokdFoNCFFi4xGowkpWmQ0Gk1I0SKj0WhC\n",
       "ihYZjUYTUrTIaAJGRHaLSN9I2+EKETlJRL6ItB2dGS0ynRARUfY8PPtF5L8iclqkbWqLiDwgIqX2\n",
       "XDHbROSsSNuk8Y+YjPjVBIxVKTUEwB4y/raIpCmlFkXYrrY8r5R6xJ6G4nsR+VAp1ezxKk1UoUcy\n",
       "nRx7rpDzgSehJQXjy/bRwzYRucLe3mraISJviciFTl2dZ8+qt0NETrafM0ZEVtozwn0hImn29t0i\n",
       "cpeIbLanahjhwcbNQA3QxX79O/b7bBeRU+xtD4iRifArESkSkRva9iMid4rIZyJiCuBHpvERLTIa\n",
       "lFJbgBQR6Q7cgTHCHQZMBm4WkbFedNNVKTUS+BPwur2tAThNKTUQqADObnPfEcB7wI3uOhaRqUCJ\n",
       "UuqAvellpdRg4AaMDZ0OJgGnA8cDj4hIfJs+zgP+oJSKtrQKHRotMhoH8RhZ3KYDL9gzzpUCi2md\n",
       "VqM9XgewpzRIEJGuGKkBzhKRNzDyvjinCHBMzb4B+rfT5zwRKcLIwzLd2VYReQ64qU2fHyulapRS\n",
       "WzHSXHazt/cBXgLOUEod9OJZNEFEi4wGEZkAFCmlyjHExtbmFCtGakbnaUZCm3OcfSXJGDuO38TI\n",
       "cfsYxohFnM5psH9tatOvM38GhmDkX5lut/X3wDPAQowEUK76bNtvnf1re2KmCSFaZDo5IpILvMWh\n",
       "LPWfA9eJQTZwJkb+kz3AkSKSJCLJwDFtujrH3t9sYIdSqhYYDSzBSNHoVw5mpVQVRlbBB+y5g0YD\n",
       "PyqlfsLII+MNZcC5GA7uof7YofEfvbrUOTGJyHaMEccu4CallMOp+xDwV2AHxgjgYbvPBhF5G/gP\n",
       "Ro6RrW367Coim4Ba4GJ723MYCbD2AJv9NVYptU9E/oyRre9W4BMR2YIhYN72sVpE7gA+FpHJ9lGb\n",
       "JgzofDIajSak6OmSRqMJKVpkNBpNSNEio9FoQooWGY1GE1K0yGg0mpCiRUaj0YQULTIajSakaJHR\n",
       "aDQhRYuMRqMJKf8fbdE8p8Fl2ooAAAAASUVORK5CYII=\n",
       "\"/>"
      ]
     },
     "metadata": {},
     "output_type": "display_data"
    }
   ],
   "source": [
    "categories = ['剧情','喜剧',  '动作', '爱情','犯罪', '动画', '科幻', '冒险','悬疑']\n",
    "slopes = []\n",
    "mean_deviations = []\n",
    "for category in categories:\n",
    "    movie_number, slope, mean_rank_diff = category_overview2(dfFilter, 'genre_douban',category)\n",
    "    slopes.append(slope)\n",
    "    mean_deviations.append(mean_rank_diff)\n",
    "    plt_configure(title=category + ' (N: '+str(movie_number) +')')\n",
    "    plt.gcf().set_size_inches(8,4)\n",
    "align_figures()"
   ]
  }
 ],
 "metadata": {
  "celltoolbar": "幻灯片",
  "hide_input": true,
  "kernelspec": {
   "display_name": "Python 3",
   "language": "python",
   "name": "python3"
  },
  "language_info": {
   "codemirror_mode": {
    "name": "ipython",
    "version": 3
   },
   "file_extension": ".py",
   "mimetype": "text/x-python",
   "name": "python",
   "nbconvert_exporter": "python",
   "pygments_lexer": "ipython3",
   "version": "3.5.2"
  },
  "toc": {
   "base_numbering": 1,
   "nav_menu": {},
   "number_sections": true,
   "sideBar": true,
   "skip_h1_title": true,
   "title_cell": "Table of Contents",
   "title_sidebar": "Contents",
   "toc_cell": false,
   "toc_position": {
    "height": "calc(100% - 180px)",
    "left": "10px",
    "top": "150px",
    "width": "249.159px"
   },
   "toc_section_display": true,
   "toc_window_display": true
  },
  "varInspector": {
   "cols": {
    "lenName": 16,
    "lenType": 16,
    "lenVar": 40
   },
   "kernels_config": {
    "python": {
     "delete_cmd_postfix": "",
     "delete_cmd_prefix": "del ",
     "library": "var_list.py",
     "varRefreshCmd": "print(var_dic_list())"
    },
    "r": {
     "delete_cmd_postfix": ") ",
     "delete_cmd_prefix": "rm(",
     "library": "var_list.r",
     "varRefreshCmd": "cat(var_dic_list()) "
    }
   },
   "types_to_exclude": [
    "module",
    "function",
    "builtin_function_or_method",
    "instance",
    "_Feature"
   ],
   "window_display": false
  }
 },
 "nbformat": 4,
 "nbformat_minor": 2
}
