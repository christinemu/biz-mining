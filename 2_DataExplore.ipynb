{
 "cells": [
  {
   "cell_type": "code",
   "execution_count": 1,
   "metadata": {
    "hide_input": false,
    "init_cell": true,
    "slideshow": {
     "slide_type": "notes"
    }
   },
   "outputs": [],
   "source": [
    "import pandas as pd\n",
    "import numpy as np\n",
    "import math\n",
    "from scipy import stats\n",
    "from statsmodels.stats.stattools import medcouple\n",
    "from IPython.core.interactiveshell import InteractiveShell \n",
    "InteractiveShell.ast_node_interactivity = 'all' #默认为'last'"
   ]
  },
  {
   "cell_type": "markdown",
   "metadata": {
    "slideshow": {
     "slide_type": "slide"
    }
   },
   "source": [
    "<div class=\"jumbotron\">\n",
    "    <h1 class=\"display-1\">数据与探索</h1>\n",
    "    <hr class=\"my-4\">\n",
    "    <p>主讲：李岩</p>\n",
    "    <p>管理学院</p>\n",
    "    <p>liyan@cumtb.edu.cn</p>\n",
    "</div>"
   ]
  },
  {
   "cell_type": "markdown",
   "metadata": {
    "slideshow": {
     "slide_type": "slide"
    }
   },
   "source": [
    "## 数据（Data）"
   ]
  },
  {
   "cell_type": "markdown",
   "metadata": {
    "slideshow": {
     "slide_type": "fragment"
    }
   },
   "source": [
    "### 定义 "
   ]
  },
  {
   "cell_type": "markdown",
   "metadata": {
    "slideshow": {
     "slide_type": "fragment"
    }
   },
   "source": [
    "<dl class=\"row alert alert-info\">\n",
    "    <dt class=\"col-md-1\">数据</dt>\n",
    "    <dd class=\"col-md-11\">对象（objects）与它们属性（attributes）的集合。</dd>\n",
    "</dl>"
   ]
  },
  {
   "cell_type": "markdown",
   "metadata": {
    "slideshow": {
     "slide_type": "fragment"
    }
   },
   "source": [
    "<center><img src=\"./img/explore/data.svg\" width=100%></center>"
   ]
  },
  {
   "cell_type": "markdown",
   "metadata": {
    "slideshow": {
     "slide_type": "subslide"
    }
   },
   "source": [
    "<dl class=\"row alert alert-danger\">\n",
    "    <dt class=\"col-md-1\">属性</dt>\n",
    "    <dd class=\"col-md-11\">对象的特性（characteristic）或性质（property）。</dd>\n",
    "</dl>"
   ]
  },
  {
   "cell_type": "markdown",
   "metadata": {
    "slideshow": {
     "slide_type": "fragment"
    }
   },
   "source": [
    "- 通常也被称作*变量（variable）*、*字段（field）*、*维度（dimension）*、*特征（feature）*"
   ]
  },
  {
   "cell_type": "markdown",
   "metadata": {
    "slideshow": {
     "slide_type": "fragment"
    }
   },
   "source": [
    "<dl class=\"row alert alert-info\">\n",
    "    <dt class=\"col-md-4\">对象</dt>\n",
    "    <dd class=\"col-md-8\">属性的集合</dt>\n",
    "</dl>"
   ]
  },
  {
   "cell_type": "markdown",
   "metadata": {
    "slideshow": {
     "slide_type": "fragment"
    }
   },
   "source": [
    "- 通常也被称为*记录（record）*、*点（point）*、*样本（sample）*、*实例（instance）*、*案例（case）*、*实体（entity）* "
   ]
  },
  {
   "cell_type": "markdown",
   "metadata": {
    "slideshow": {
     "slide_type": "slide"
    }
   },
   "source": [
    "### 属性的类型"
   ]
  },
  {
   "cell_type": "markdown",
   "metadata": {
    "cell_style": "center",
    "slideshow": {
     "slide_type": "fragment"
    }
   },
   "source": [
    "- 属性的类型取决于该属性的数值具备下列哪些性质\n",
    "    + **相异性**（distinctness）：$=$ 和 $\\ne$\n",
    "    + **序**（order）：$\\lt$，$\\le$，$\\gt$ 和 $\\ge$\n",
    "    + **有意义的差**（meaningful differences）：$+$ 和 $-$\n",
    "    + **有意义的比率**（meaningful ratios）：$\\times$ 和 $/$"
   ]
  },
  {
   "cell_type": "markdown",
   "metadata": {
    "cell_style": "center",
    "slideshow": {
     "slide_type": "fragment"
    }
   },
   "source": [
    "属性类型|特点|包含的性质|示例|适合的统计量\n",
    "---|---|---|---|---\n",
    "标称（nominal）|仅仅是名称|相异性|名字、班级、颜色|众数\n",
    "序数（ordinal）|具有自然排序|相异性、序|年级、等级|众数、中位数\n",
    "区间（interval）|没有绝对零点、等间隔|相异性、序、有意义的差|温度、日期、IQ|众数、中位数、均值、方差\n",
    "比率（ratio）|有绝对零点|相异性、序、有意义的差、有意义的比率|距离、重量、收入|众数、中位数、均值、方差、几何均值"
   ]
  },
  {
   "cell_type": "markdown",
   "metadata": {
    "slideshow": {
     "slide_type": "slide"
    }
   },
   "source": [
    "ID|工作状况|教育水平|居住年限|信用状况\n",
    "---|---|---|---|---\n",
    "1|就业|研究生|5|好\n",
    "2|就业|高中|2|差\n",
    "3|失业|本科生|1|差\n",
    "4|就业|高中|10|好"
   ]
  },
  {
   "cell_type": "markdown",
   "metadata": {
    "slideshow": {
     "slide_type": "fragment"
    }
   },
   "source": [
    "- ID: 标称"
   ]
  },
  {
   "cell_type": "markdown",
   "metadata": {
    "slideshow": {
     "slide_type": "fragment"
    }
   },
   "source": [
    "- 工作状况：标称"
   ]
  },
  {
   "cell_type": "markdown",
   "metadata": {
    "slideshow": {
     "slide_type": "fragment"
    }
   },
   "source": [
    "- 教育水平：序数"
   ]
  },
  {
   "cell_type": "markdown",
   "metadata": {
    "slideshow": {
     "slide_type": "fragment"
    }
   },
   "source": [
    "- 居住年限：比率"
   ]
  },
  {
   "cell_type": "markdown",
   "metadata": {
    "slideshow": {
     "slide_type": "fragment"
    }
   },
   "source": [
    "- 信用状况：序数"
   ]
  },
  {
   "cell_type": "markdown",
   "metadata": {
    "slideshow": {
     "slide_type": "slide"
    }
   },
   "source": [
    "# 数据获取"
   ]
  },
  {
   "cell_type": "markdown",
   "metadata": {
    "slideshow": {
     "slide_type": "fragment"
    }
   },
   "source": [
    "<center>\n",
    "    <img src=\"./img/explore/dataAcquire.svg\" width=80%>\n",
    "</center>"
   ]
  },
  {
   "cell_type": "markdown",
   "metadata": {
    "slideshow": {
     "slide_type": "slide"
    }
   },
   "source": [
    "## 从键盘、文本文件、office文件获取数据"
   ]
  },
  {
   "cell_type": "markdown",
   "metadata": {
    "slideshow": {
     "slide_type": "fragment"
    }
   },
   "source": [
    "### 从键盘获取数据"
   ]
  },
  {
   "cell_type": "markdown",
   "metadata": {
    "slideshow": {
     "slide_type": "fragment"
    }
   },
   "source": [
    "```python\n",
    "input([prompt])\n",
    "```\n",
    "- `Python`内置函数，接收任意输入，将所有输入默认为字符串处理，并返回<span class=\"mark\">**字符串类型**</span>\n",
    "- `prompt`：提示信息，可以不设置"
   ]
  },
  {
   "cell_type": "markdown",
   "metadata": {
    "slideshow": {
     "slide_type": "fragment"
    }
   },
   "source": [
    "```python\n",
    "a = input('请输入：')\n",
    "type(a)\n",
    "```"
   ]
  },
  {
   "cell_type": "markdown",
   "metadata": {
    "slideshow": {
     "slide_type": "subslide"
    }
   },
   "source": [
    "> 如何识别输入的数值？"
   ]
  },
  {
   "cell_type": "markdown",
   "metadata": {
    "slideshow": {
     "slide_type": "fragment"
    }
   },
   "source": [
    "- `int()`：转换为整型"
   ]
  },
  {
   "cell_type": "markdown",
   "metadata": {
    "slideshow": {
     "slide_type": "fragment"
    }
   },
   "source": [
    "- `float()`：转换为浮点型"
   ]
  },
  {
   "cell_type": "markdown",
   "metadata": {
    "slideshow": {
     "slide_type": "slide"
    }
   },
   "source": [
    "### 从文本获取数据"
   ]
  },
  {
   "cell_type": "markdown",
   "metadata": {
    "slideshow": {
     "slide_type": "fragment"
    }
   },
   "source": [
    "<p class=\"alert alert-info\">以<code>.txt</code>、<code>.csv</code>、<code>.json</code>为后缀名的文件</p>"
   ]
  },
  {
   "attachments": {
    "image.png": {
     "image/png": "[encoded data removed]"
    }
   },
   "cell_type": "markdown",
   "metadata": {
    "slideshow": {
     "slide_type": "fragment"
    }
   },
   "source": [
    "![image.png](attachment:image.png)"
   ]
  },
  {
   "cell_type": "markdown",
   "metadata": {
    "slideshow": {
     "slide_type": "slide"
    }
   },
   "source": [
    "#### 打开文本"
   ]
  },
  {
   "cell_type": "markdown",
   "metadata": {
    "slideshow": {
     "slide_type": "fragment"
    }
   },
   "source": [
    "```python\n",
    "open(file, mode='r', encoding=None)\n",
    "```\n",
    "- `Python`内置函数，打开一个文件，并返回**<span class=\"mark\">文件对象</span>**\n",
    "- `file`：必需，文件路径（相对或者绝对路径）\n",
    "- `mode`：可选，文件打开模式\n",
    "- `encoding`：用哪种编码打开文本，一般使用'utf8'，打开中文有时令`encoding='gbk'`或`encoding='gb2312'`"
   ]
  },
  {
   "cell_type": "markdown",
   "metadata": {
    "slideshow": {
     "slide_type": "fragment"
    }
   },
   "source": [
    "模式|描述\n",
    ":---:|:---\n",
    "`r`|以只读方式打开文件，这是默认模式。\n",
    "`w`|打开一个文件只用于写入。如果该文件已存在则打开文件，原有内容会被删除。如果该文件不存在，创建新文件。\n",
    "`a`|打开一个文件用于追加。如果该文件已存在，新的内容将会被写入到已有内容之后。如果该文件不存在，创建新文件进行写入。"
   ]
  },
  {
   "cell_type": "markdown",
   "metadata": {
    "slideshow": {
     "slide_type": "slide"
    }
   },
   "source": [
    "#### 读取`txt`数据"
   ]
  },
  {
   "cell_type": "markdown",
   "metadata": {
    "slideshow": {
     "slide_type": "fragment"
    }
   },
   "source": [
    "```python\n",
    "file.read([size])\n",
    "```\n",
    "- `file`是一个被打开的文本对象。\n",
    "- `size`：从文件读取指定的字节数，如果未给定或为负则读取所有内容。"
   ]
  },
  {
   "cell_type": "markdown",
   "metadata": {
    "slideshow": {
     "slide_type": "fragment"
    }
   },
   "source": [
    "```python\n",
    "file.readline()\n",
    "```\n",
    "- 读取整行，包括 \"\\n\" 字符。\n",
    "- 多行本文，只能读取第一行。"
   ]
  },
  {
   "cell_type": "markdown",
   "metadata": {
    "slideshow": {
     "slide_type": "fragment"
    }
   },
   "source": [
    "```python\t\n",
    "file.readlines()\n",
    "```\n",
    "- 读取所有行并返回列表，形如`[line1,line2,…,lineN]`"
   ]
  },
  {
   "cell_type": "markdown",
   "metadata": {
    "slideshow": {
     "slide_type": "fragment"
    }
   },
   "source": [
    "```python\n",
    "file.close()\n",
    "```\n",
    "- 关闭文件。关闭后文件不能再进行读写操作。"
   ]
  },
  {
   "cell_type": "markdown",
   "metadata": {
    "slideshow": {
     "slide_type": "slide"
    }
   },
   "source": [
    "<p class=\"h2 display-1\">读取<code>BASKETS.txt</code></p>"
   ]
  },
  {
   "cell_type": "markdown",
   "metadata": {
    "slideshow": {
     "slide_type": "fragment"
    }
   },
   "source": [
    "```python\n",
    "f = open('./data/explore/BASKETS.txt', mode='r')\n",
    "```"
   ]
  },
  {
   "cell_type": "markdown",
   "metadata": {
    "slideshow": {
     "slide_type": "fragment"
    }
   },
   "source": [
    "```python\n",
    "cnt = f.read()\n",
    "```"
   ]
  },
  {
   "cell_type": "markdown",
   "metadata": {
    "slideshow": {
     "slide_type": "fragment"
    }
   },
   "source": [
    "```python\n",
    "line = f.readline()\n",
    "```"
   ]
  },
  {
   "cell_type": "markdown",
   "metadata": {
    "slideshow": {
     "slide_type": "fragment"
    }
   },
   "source": [
    "```python\n",
    "lines = f.readlines()\n",
    "for line in lines:\n",
    "    print(line)\n",
    "```"
   ]
  },
  {
   "cell_type": "markdown",
   "metadata": {
    "slideshow": {
     "slide_type": "fragment"
    }
   },
   "source": [
    "```python\n",
    "f.close()\n",
    "```"
   ]
  },
  {
   "cell_type": "markdown",
   "metadata": {
    "slideshow": {
     "slide_type": "subslide"
    }
   },
   "source": [
    "#### json (JavaScript Object Notation)"
   ]
  },
  {
   "cell_type": "markdown",
   "metadata": {
    "slideshow": {
     "slide_type": "fragment"
    }
   },
   "source": [
    "- 一种轻量级的数据格式，便于人的阅读和书写，也便于计算机的解析和生成。"
   ]
  },
  {
   "cell_type": "markdown",
   "metadata": {
    "slideshow": {
     "slide_type": "fragment"
    }
   },
   "source": [
    "- name/value pairs的集合，即`Python`中的字典（dictionary）类型。"
   ]
  },
  {
   "cell_type": "markdown",
   "metadata": {
    "slideshow": {
     "slide_type": "fragment"
    }
   },
   "source": [
    "<img src=\"./img/pandas/object.gif\" width=60%>"
   ]
  },
  {
   "cell_type": "markdown",
   "metadata": {
    "slideshow": {
     "slide_type": "subslide"
    }
   },
   "source": [
    "- name是**<span class=\"mark\">字符串</span>**，而value可以取的值的类型包括\n",
    "<center><img src=\"./img/pandas/value.gif\" width=80%></center>"
   ]
  },
  {
   "cell_type": "markdown",
   "metadata": {
    "code_folding": [],
    "scrolled": true,
    "slideshow": {
     "slide_type": "fragment"
    }
   },
   "source": [
    "```json\n",
    "{\n",
    "    \"name\": \"John Smith\",\n",
    "    \"studentID\": \"stu001\",\n",
    "    \"age\": 20,\n",
    "    \"class\": \"管理2019\",\n",
    "    \"courses\": [\"管理学\",\"经济学\",\"数据分析\"],\n",
    "    \"graduated\": False\n",
    "}\n",
    "```"
   ]
  },
  {
   "cell_type": "markdown",
   "metadata": {
    "slideshow": {
     "slide_type": "slide"
    }
   },
   "source": [
    "#### 读取`json`数据"
   ]
  },
  {
   "cell_type": "markdown",
   "metadata": {
    "slideshow": {
     "slide_type": "fragment"
    }
   },
   "source": [
    "```python\n",
    "import json\n",
    "json.load(fp)\n",
    "```\n",
    "- `fp`：用`open()`方法打开的包含`json`格式的文本对象\n",
    "- 返回一个`Python`对象"
   ]
  },
  {
   "cell_type": "markdown",
   "metadata": {
    "slideshow": {
     "slide_type": "fragment"
    }
   },
   "source": [
    "```python\n",
    "import json\n",
    "f = open('./data/introduction/movie/movie_list_2015_v2.json', 'r')\n",
    "jsn = json.load(f)\n",
    "f.close()\n",
    "```"
   ]
  },
  {
   "cell_type": "markdown",
   "metadata": {
    "slideshow": {
     "slide_type": "slide"
    }
   },
   "source": [
    "### 从数据库获取数据"
   ]
  },
  {
   "cell_type": "markdown",
   "metadata": {
    "slideshow": {
     "slide_type": "fragment"
    }
   },
   "source": [
    "- MySQL数据库"
   ]
  },
  {
   "cell_type": "markdown",
   "metadata": {
    "slideshow": {
     "slide_type": "fragment"
    }
   },
   "source": [
    "- 接口包：`PyMySQL`"
   ]
  },
  {
   "cell_type": "markdown",
   "metadata": {
    "slideshow": {
     "slide_type": "fragment"
    }
   },
   "source": [
    "- 安装方式\n",
    "    + `Windows`：在`Jupyter Notebook`的代码单元格中输入`!pip install -U PyMySQL`\n",
    "    + `Mac`：在`Jupyter Notebook`的代码单元格中输入`!pip3 install -U PyMySQL`"
   ]
  },
  {
   "cell_type": "markdown",
   "metadata": {
    "slideshow": {
     "slide_type": "fragment"
    }
   },
   "source": [
    "- 使用方式参考\n",
    "\n",
    "[Python3 MySQL 数据库连接  https://www.runoob.com/python3/python3-mysql.html](https://www.runoob.com/python3/python3-mysql.html)"
   ]
  },
  {
   "cell_type": "markdown",
   "metadata": {
    "slideshow": {
     "slide_type": "slide"
    }
   },
   "source": [
    "### 从互联网上获取数据"
   ]
  },
  {
   "cell_type": "markdown",
   "metadata": {
    "slideshow": {
     "slide_type": "fragment"
    }
   },
   "source": [
    "<dl class=\"row alert alert-info\">\n",
    "    <dt class=\"col-md-1\">爬虫</dt>\n",
    "    <dd class=\"col-md-auto\">即网络爬虫，是一种按照一定的规则，自动的抓取互联网信息的程序或者脚本。</dd>\n",
    "</dl>"
   ]
  },
  {
   "cell_type": "markdown",
   "metadata": {
    "slideshow": {
     "slide_type": "fragment"
    }
   },
   "source": [
    "<dl class=\"row alert alert-primary\">\n",
    "    <dt class=\"col-md-1\">静态网页</dt>\n",
    "    <dd class=\"col-md-auto\">纯粹HTML格式的网页，文件扩展名是<code>.htm</code>、<code>.html</code>。没有后台数据库、不可交互的网页。</dd>\n",
    "</dl>"
   ]
  },
  {
   "cell_type": "markdown",
   "metadata": {
    "slideshow": {
     "slide_type": "fragment"
    }
   },
   "source": [
    "<dl class=\"row alert alert-warning\">\n",
    "    <dt class=\"col-md-1\">动态网页</dt>\n",
    "    <dd class=\"col-md-auto\">基本的HTML语法规范与高级程序设计语言、数据库编程等多种技术的融合，以期实现对网站内容和风格的高效、动态和交互式的管理。</dd>\n",
    "</dl>"
   ]
  },
  {
   "cell_type": "markdown",
   "metadata": {
    "slideshow": {
     "slide_type": "slide"
    }
   },
   "source": [
    "- `requests-HTML`包, [https://requests-html.kennethreitz.org/](https://requests-html.kennethreitz.org/)"
   ]
  },
  {
   "cell_type": "markdown",
   "metadata": {
    "slideshow": {
     "slide_type": "fragment"
    }
   },
   "source": [
    "- 通过`Jupyter Notebook`安装\n",
    "    + `Windows`：`!pip install requests-html`\n",
    "    + `Mac`：`!pip3 install requests-html`"
   ]
  },
  {
   "cell_type": "markdown",
   "metadata": {
    "slideshow": {
     "slide_type": "slide"
    }
   },
   "source": [
    "#### 爬取网页"
   ]
  },
  {
   "cell_type": "markdown",
   "metadata": {
    "slideshow": {
     "slide_type": "fragment"
    }
   },
   "source": [
    "```python\n",
    "from requests_html import HTMLSession\n",
    "ss = HTMLSession()                   # 生成一个HTMLSession对象ss\n",
    "ct = ss.get('http://quotes.toscrape.com/')   # 爬取网页内容，存储在变量ct中\n",
    "```"
   ]
  },
  {
   "cell_type": "markdown",
   "metadata": {
    "slideshow": {
     "slide_type": "fragment"
    }
   },
   "source": [
    "<dl class=\"row alert alert-primary\">\n",
    "    <dt class=\"col-md-1\">Session</dt>\n",
    "    <dd class=\"col-md-auto\">在网络应用中，称为“会话控制”。</dd>\n",
    "    <dd class=\"col-md-auto\">Session对象存储特定用户会话所需的属性及配置信息。</dd>\n",
    "</dl>"
   ]
  },
  {
   "cell_type": "markdown",
   "metadata": {
    "slideshow": {
     "slide_type": "slide"
    }
   },
   "source": [
    "#### 获取网页上的元素"
   ]
  },
  {
   "cell_type": "markdown",
   "metadata": {
    "slideshow": {
     "slide_type": "fragment"
    }
   },
   "source": [
    "##### 获取网页上的链接"
   ]
  },
  {
   "cell_type": "markdown",
   "metadata": {
    "slideshow": {
     "slide_type": "fragment"
    }
   },
   "source": [
    "```python\n",
    "ct.html.absolute_links    # 获取网页页面上的所有链接，返回链接的列表\n",
    "```"
   ]
  },
  {
   "cell_type": "markdown",
   "metadata": {
    "slideshow": {
     "slide_type": "fragment"
    }
   },
   "source": [
    "```python\n",
    "for html in ct.html:\n",
    "    print(html)        # 获取网页包含的分页网址\n",
    "```"
   ]
  },
  {
   "cell_type": "markdown",
   "metadata": {
    "slideshow": {
     "slide_type": "subslide"
    }
   },
   "source": [
    "##### 查找网页上某个元素"
   ]
  },
  {
   "cell_type": "markdown",
   "metadata": {
    "slideshow": {
     "slide_type": "fragment"
    }
   },
   "source": [
    "- 查找[http://quotes.toscrape.com/](http://quotes.toscrape.com/)上的所有作者"
   ]
  },
  {
   "cell_type": "markdown",
   "metadata": {
    "slideshow": {
     "slide_type": "fragment"
    }
   },
   "source": [
    "<center>\n",
    "    <div class=\"row\">\n",
    "        <div class=\"col-md-6\">Chrome<img src=\"./img/explore/inspectEle.jpg\" width=95%></div>\n",
    "        <div class=\"col-md-6\">FireFox<img src=\"./img/explore/inspectEleF.jpg\" width=95%></div>\n",
    "    </div>\n",
    "</center>"
   ]
  },
  {
   "cell_type": "markdown",
   "metadata": {
    "slideshow": {
     "slide_type": "slide"
    }
   },
   "source": [
    "<center><img src=\"./img/explore/selectEle.jpg\" width=80%></center>"
   ]
  },
  {
   "cell_type": "markdown",
   "metadata": {
    "slideshow": {
     "slide_type": "fragment"
    }
   },
   "source": [
    "```python\n",
    "authors = ct.html.find('.author',first=False) \n",
    "# first=False 找到页面上所有属于author类的元素，返回列表\n",
    "# first=True 找到页面上第一个属于author类的元素\n",
    "\n",
    "for author in authors:\n",
    "    print(author.text)               # 用text显示每个元素包含的文本\n",
    "```"
   ]
  },
  {
   "cell_type": "markdown",
   "metadata": {
    "slideshow": {
     "slide_type": "slide"
    }
   },
   "source": [
    "##### 获取元素的属性"
   ]
  },
  {
   "cell_type": "markdown",
   "metadata": {
    "slideshow": {
     "slide_type": "fragment"
    }
   },
   "source": [
    "- 获取学校主页上的新闻题目"
   ]
  },
  {
   "cell_type": "markdown",
   "metadata": {
    "slideshow": {
     "slide_type": "fragment"
    }
   },
   "source": [
    "```python\n",
    "ctn = ss.get('https://www.cumtb.edu.cn')\n",
    "titles = ctn.html.find('.li-str',first=False)\n",
    "for title in titles:\n",
    "    print(title.attrs['title'])    # attrs[] 括号中填入属性的名称\n",
    "```"
   ]
  },
  {
   "cell_type": "markdown",
   "metadata": {
    "slideshow": {
     "slide_type": "slide"
    }
   },
   "source": [
    "# 数据预处理"
   ]
  },
  {
   "cell_type": "markdown",
   "metadata": {
    "slideshow": {
     "slide_type": "fragment"
    }
   },
   "source": [
    "<dl class=\"row alert alert-info\">\n",
    "    <dt class=\"col-md-3\">数据预处理 (Data preprocessing)</dt>\n",
    "    <dd class=\"col-md-auto\">指在对数据进行数据挖掘以前，先对原始数据进行必要的清洗、集成、转换、离散和归约等一系列的处理工作，以达到分析挖掘方法进行知识获取研究所要求的规范和标准。</dd>\n",
    "</dl>"
   ]
  },
  {
   "cell_type": "markdown",
   "metadata": {
    "slideshow": {
     "slide_type": "fragment"
    }
   },
   "source": [
    "- 数据清洗\n",
    "- 数据集成\n",
    "- 数据变化\n",
    "- 数据规约"
   ]
  },
  {
   "cell_type": "markdown",
   "metadata": {
    "slideshow": {
     "slide_type": "slide"
    }
   },
   "source": [
    "## 数据清洗"
   ]
  },
  {
   "cell_type": "markdown",
   "metadata": {
    "slideshow": {
     "slide_type": "fragment"
    }
   },
   "source": [
    "<dl class=\"row alert alert-info\">\n",
    "    <dt class=\"col-md-2\">数据清洗 (Data cleansing)</dt>\n",
    "    <dd class=\"col-md-auto\">指的是填充缺失数据、消除噪声数据等操作，通过分析“脏数据”的产生原因和存在形式，利用现有的数据挖掘手段和方法将“脏数据”转化为满足数据质量要求或应用要求的数据。</dd>\n",
    "</dl>"
   ]
  },
  {
   "cell_type": "markdown",
   "metadata": {
    "slideshow": {
     "slide_type": "slide"
    }
   },
   "source": [
    "### 数据质量"
   ]
  },
  {
   "cell_type": "markdown",
   "metadata": {
    "slideshow": {
     "slide_type": "fragment"
    }
   },
   "source": [
    "<center><img src=\"./img/explore/dataQuality.svg\" width=60%></center>"
   ]
  },
  {
   "cell_type": "markdown",
   "metadata": {
    "slideshow": {
     "slide_type": "slide"
    }
   },
   "source": [
    "### 数据质量问题分类"
   ]
  },
  {
   "cell_type": "markdown",
   "metadata": {
    "slideshow": {
     "slide_type": "fragment"
    }
   },
   "source": [
    "<center><img src=\"./img/explore/dataQualityProp.svg\" width=80%></center>"
   ]
  },
  {
   "cell_type": "markdown",
   "metadata": {
    "slideshow": {
     "slide_type": "slide"
    }
   },
   "source": [
    "### 数据清洗处理"
   ]
  },
  {
   "cell_type": "markdown",
   "metadata": {
    "slideshow": {
     "slide_type": "fragment"
    }
   },
   "source": [
    "- 针对实例层数据清洗"
   ]
  },
  {
   "cell_type": "markdown",
   "metadata": {
    "slideshow": {
     "slide_type": "fragment"
    }
   },
   "source": [
    "<center><img src=\"./img/explore/dataClean.svg\" width=80%></center>"
   ]
  },
  {
   "cell_type": "markdown",
   "metadata": {
    "slideshow": {
     "slide_type": "fragment"
    }
   },
   "source": [
    "##### 缺失数据处理"
   ]
  },
  {
   "cell_type": "markdown",
   "metadata": {
    "slideshow": {
     "slide_type": "fragment"
    }
   },
   "source": [
    "- 删除含有缺失值的记录或属性"
   ]
  },
  {
   "cell_type": "markdown",
   "metadata": {
    "slideshow": {
     "slide_type": "fragment"
    }
   },
   "source": [
    "- 统计量填补缺失值，例如均值、众数、极值等"
   ]
  },
  {
   "cell_type": "markdown",
   "metadata": {
    "slideshow": {
     "slide_type": "fragment"
    }
   },
   "source": [
    "##### 相似重复对象检验"
   ]
  },
  {
   "cell_type": "markdown",
   "metadata": {
    "slideshow": {
     "slide_type": "fragment"
    }
   },
   "source": [
    "<dl class=\"row alert alert-info\">\n",
    "    <dt class=\"col-md-4\">重复记录</dt>\n",
    "    <dd class=\"col-md-auto\">多个记录代表同一实体的现象。</dd>\n",
    "</dl>"
   ]
  },
  {
   "cell_type": "markdown",
   "metadata": {
    "slideshow": {
     "slide_type": "fragment"
    }
   },
   "source": [
    "<dl class=\"row alert alert-warning\">\n",
    "    <dt class=\"col-md-2\">相似重复记录</dt>\n",
    "    <dd class=\"col-md-auto\">有些记录并非完全重复，其个别字段存在一定差别，但表示的却是同一对象。</dd>\n",
    "</dl>"
   ]
  },
  {
   "cell_type": "markdown",
   "metadata": {
    "slideshow": {
     "slide_type": "fragment"
    }
   },
   "source": [
    "- 基于**字段**的重复检测\n",
    "- 基于**记录**的重复检测"
   ]
  },
  {
   "cell_type": "markdown",
   "metadata": {
    "slideshow": {
     "slide_type": "slide"
    }
   },
   "source": [
    "##### 异常数据处理 "
   ]
  },
  {
   "cell_type": "markdown",
   "metadata": {
    "slideshow": {
     "slide_type": "fragment"
    }
   },
   "source": [
    "<dl class=\"row alert alert-info\">\n",
    "    <dt class=\"col-md-2\">异常数据</dt>\n",
    "    <dd class=\"col-md-auto\">指数据中不符合一般规律的数据对象，又称为孤立点。</dd>\n",
    "</dl>"
   ]
  },
  {
   "cell_type": "markdown",
   "metadata": {
    "slideshow": {
     "slide_type": "fragment"
    }
   },
   "source": [
    "- 利用统计量检测，例如3倍标准差\n",
    "- 基于距离检测\n",
    "- 基于密度，离群点的局部密度显著低于大部分近邻点"
   ]
  },
  {
   "cell_type": "markdown",
   "metadata": {
    "slideshow": {
     "slide_type": "fragment"
    }
   },
   "source": [
    "> 异常数据可能是去掉的噪声，也可能是含有**重要信息**的数据单元。"
   ]
  },
  {
   "cell_type": "markdown",
   "metadata": {
    "slideshow": {
     "slide_type": "slide"
    }
   },
   "source": [
    "##### 逻辑错误检测"
   ]
  },
  {
   "cell_type": "markdown",
   "metadata": {
    "slideshow": {
     "slide_type": "fragment"
    }
   },
   "source": [
    "<dl class=\"row alert alert-info\">\n",
    "    <dt class=\"col-md-2\">逻辑错误</dt>\n",
    "    <dd class=\"col-md-auto\">指数据集中的属性值与实际值不符，或违背了业务规则或逻辑。</dd>\n",
    "</dl>"
   ]
  },
  {
   "cell_type": "markdown",
   "metadata": {
    "slideshow": {
     "slide_type": "fragment"
    }
   },
   "source": [
    "- 利用专业知识指定约束规则，生成属性值的有效范围"
   ]
  },
  {
   "cell_type": "markdown",
   "metadata": {
    "slideshow": {
     "slide_type": "fragment"
    }
   },
   "source": [
    "##### 不一致数据"
   ]
  },
  {
   "cell_type": "markdown",
   "metadata": {
    "slideshow": {
     "slide_type": "fragment"
    }
   },
   "source": [
    "<dl class=\"row alert alert-warning\">\n",
    "    <dt class=\"col-md-2\">不一致数据</dt>\n",
    "    <dd class=\"col-md-auto\">多数据源数据集成时，由于不同数据源对同一现实事物可能存在不一致的表示，从而产生不一致的数据。</dd>\n",
    "</dl>"
   ]
  },
  {
   "cell_type": "markdown",
   "metadata": {
    "slideshow": {
     "slide_type": "slide"
    }
   },
   "source": [
    "## 数据集成"
   ]
  },
  {
   "cell_type": "markdown",
   "metadata": {
    "slideshow": {
     "slide_type": "fragment"
    }
   },
   "source": [
    "<p class=\"alert alert-info\">将多个数据源中的数据合并并存放到一个一致的数据存储（如数据仓库）中</p>"
   ]
  },
  {
   "cell_type": "markdown",
   "metadata": {
    "slideshow": {
     "slide_type": "fragment"
    }
   },
   "source": [
    "<p class=\"h2 display-1\">数据集成中需要注意的问题：</p>"
   ]
  },
  {
   "cell_type": "markdown",
   "metadata": {
    "slideshow": {
     "slide_type": "fragment"
    }
   },
   "source": [
    "- 多个数据源的记录如何匹配\n",
    "    + 例，一个数据库中的`customer_id`和另一个数据库中的`cust_number`指的是否同一实体?"
   ]
  },
  {
   "cell_type": "markdown",
   "metadata": {
    "slideshow": {
     "slide_type": "fragment"
    }
   },
   "source": [
    "- 如何处理属性的冗余\n",
    "    + 例，一名员工的年薪属性可以从其工资表中计算得到。"
   ]
  },
  {
   "cell_type": "markdown",
   "metadata": {
    "slideshow": {
     "slide_type": "fragment"
    }
   },
   "source": [
    "- 多个数据源属性值冲突的检测与处理\n",
    "    + 例，同一个属性在一个数据源中用**米**为单位，而在另一个数据源中用**英尺**为单位"
   ]
  },
  {
   "cell_type": "markdown",
   "metadata": {
    "slideshow": {
     "slide_type": "slide"
    }
   },
   "source": [
    "## 数据变换"
   ]
  },
  {
   "cell_type": "markdown",
   "metadata": {
    "slideshow": {
     "slide_type": "fragment"
    }
   },
   "source": [
    "<p class=\"alert alert-danger\">对数据进行规范化处理，构成一个适合数据挖掘的描述形式。</p>"
   ]
  },
  {
   "cell_type": "markdown",
   "metadata": {
    "slideshow": {
     "slide_type": "fragment"
    }
   },
   "source": [
    "<center><img src=\"./img/explore/dataTransform.svg\" width=80%></center>"
   ]
  },
  {
   "cell_type": "markdown",
   "metadata": {
    "slideshow": {
     "slide_type": "slide"
    }
   },
   "source": [
    "## 数据规约"
   ]
  },
  {
   "cell_type": "markdown",
   "metadata": {
    "slideshow": {
     "slide_type": "fragment"
    }
   },
   "source": [
    "<p class=\"alert alert-warning\">减小数据集容量，但仍接近保持原数据的完整性。</p>"
   ]
  },
  {
   "cell_type": "markdown",
   "metadata": {
    "slideshow": {
     "slide_type": "fragment"
    }
   },
   "source": [
    "<center><img src=\"./img/explore/dataReduction.svg\" width=80%></center>"
   ]
  },
  {
   "cell_type": "markdown",
   "metadata": {
    "slideshow": {
     "slide_type": "slide"
    }
   },
   "source": [
    "### 记录数量的降低"
   ]
  },
  {
   "cell_type": "markdown",
   "metadata": {
    "slideshow": {
     "slide_type": "fragment"
    }
   },
   "source": [
    "- 数据立方体存储多维聚集信息\n",
    "    + 按照属性的多个概念分层将数据聚集，用聚集后的数据展开分析\n",
    "    + 例，对产品销售额按照城市、省、区域等聚集分析"
   ]
  },
  {
   "cell_type": "markdown",
   "metadata": {
    "slideshow": {
     "slide_type": "fragment"
    }
   },
   "source": [
    "<center><img src=\"./img/explore/dataCuboid.svg\" width=100%></center>"
   ]
  },
  {
   "cell_type": "markdown",
   "metadata": {
    "slideshow": {
     "slide_type": "slide"
    }
   },
   "source": [
    "<center><img src=\"./img/explore/dataAgg.svg\" width=80%></center>"
   ]
  },
  {
   "cell_type": "markdown",
   "metadata": {
    "slideshow": {
     "slide_type": "slide"
    }
   },
   "source": [
    "### 属性数值的数量降低"
   ]
  },
  {
   "cell_type": "markdown",
   "metadata": {
    "slideshow": {
     "slide_type": "fragment"
    }
   },
   "source": [
    "- 数值规约\n",
    "    + 用替代的、较小的数据来减少数据量\n",
    "    + 例，回归模型用回归参数代替原始数据\n",
    "    + 例，构建直方图，利用属性数值的分布划分类型"
   ]
  },
  {
   "cell_type": "markdown",
   "metadata": {
    "slideshow": {
     "slide_type": "fragment"
    }
   },
   "source": [
    "- 概念分层\n",
    "    + 将标称数据泛化到更抽象的概念层\n",
    "    + 例，将班级抽象到专业"
   ]
  },
  {
   "cell_type": "markdown",
   "metadata": {
    "slideshow": {
     "slide_type": "slide"
    }
   },
   "source": [
    "### 属性数量的减少"
   ]
  },
  {
   "cell_type": "markdown",
   "metadata": {
    "slideshow": {
     "slide_type": "fragment"
    }
   },
   "source": [
    "- 属性子集选择\n",
    "    + 从众多属性中选出与分析挖掘任务相关的最小属性集合"
   ]
  },
  {
   "cell_type": "markdown",
   "metadata": {
    "slideshow": {
     "slide_type": "fragment"
    }
   },
   "source": [
    "<p class=\"h3 display-1 text-danger\"><ins>顾客在线购买预测</ins></p>\n",
    "\n",
    "顾客ID|页面1|页面2|页面3|...|页面1000|买书？\n",
    "---|---|---|---|---|---|---\n",
    "cus001|1|3|1|...|1|是\n",
    "cus002|2|1|0|...|2|是\n",
    "cus003|2|0|0|...|0|否\n",
    "...|...|...|...|...|...|...\n",
    "\n",
    "只需要保留与买书相关的页面、订单页面，其他页面是无关信息"
   ]
  },
  {
   "cell_type": "markdown",
   "metadata": {
    "slideshow": {
     "slide_type": "slide"
    }
   },
   "source": [
    "- 维度规约\n",
    "    + 将现有数据降低到更小的维度\n",
    "    + 例，主成分分析方法，将大量相关属性转变成为少量不相关的变量（即主成分）"
   ]
  },
  {
   "cell_type": "markdown",
   "metadata": {
    "slideshow": {
     "slide_type": "fragment"
    }
   },
   "source": [
    "<p class=\"h3 display-1 text-danger\"><ins>能否用少量指标表示公司的财务绩效？</ins></p>\n",
    "\n",
    "公司|销售净利率|资产净利率|净资产收益率|销售毛利率\n",
    "---|---|---|---|---\n",
    "歌华有线|43.31|7.39|8.73|54.89\n",
    "五粮液|17.11|12.13|17.29|44.25\n",
    "用友软件|21.11|6.03|7.00|89.37\n",
    "...|...|...|...|..."
   ]
  },
  {
   "cell_type": "markdown",
   "metadata": {
    "slideshow": {
     "slide_type": "slide"
    }
   },
   "source": [
    "# Pandas"
   ]
  },
  {
   "cell_type": "markdown",
   "metadata": {
    "slideshow": {
     "slide_type": "fragment"
    }
   },
   "source": [
    "- 是从Panel Data而来的"
   ]
  },
  {
   "cell_type": "markdown",
   "metadata": {
    "slideshow": {
     "slide_type": "fragment"
    }
   },
   "source": [
    "- 一款开放源码的Python库，为Python编程语言提供了高性能，易于使用的数据结构和数据分析工具"
   ]
  },
  {
   "cell_type": "markdown",
   "metadata": {
    "slideshow": {
     "slide_type": "fragment"
    }
   },
   "source": [
    "[https://pandas.pydata.org/](https://pandas.pydata.org/)"
   ]
  },
  {
   "cell_type": "markdown",
   "metadata": {
    "slideshow": {
     "slide_type": "fragment"
    }
   },
   "source": [
    "从零开始学pandas  [http://wiki.jikexueyuan.com/project/start-learning-python/311.html](http://wiki.jikexueyuan.com/project/start-learning-python/311.html)"
   ]
  },
  {
   "cell_type": "markdown",
   "metadata": {
    "slideshow": {
     "slide_type": "fragment"
    }
   },
   "source": [
    "- 安装`pandas`\n",
    "    + `Windows`：`!pip install pandas`\n",
    "    + `Mac`：`!pip3 install pandas`"
   ]
  },
  {
   "cell_type": "markdown",
   "metadata": {
    "slideshow": {
     "slide_type": "slide"
    }
   },
   "source": [
    "## 数据结构"
   ]
  },
  {
   "cell_type": "markdown",
   "metadata": {
    "slideshow": {
     "slide_type": "fragment"
    }
   },
   "source": [
    "- 加载`Pandas`的方式\n",
    "\n",
    "```python\n",
    "import pandas as pd\n",
    "```"
   ]
  },
  {
   "cell_type": "markdown",
   "metadata": {
    "slideshow": {
     "slide_type": "fragment"
    }
   },
   "source": [
    "- Series\n",
    "- DataFrame"
   ]
  },
  {
   "cell_type": "markdown",
   "metadata": {
    "slideshow": {
     "slide_type": "slide"
    }
   },
   "source": [
    "### Series：一维的带标签（label）的数组"
   ]
  },
  {
   "cell_type": "markdown",
   "metadata": {
    "slideshow": {
     "slide_type": "fragment"
    }
   },
   "source": [
    "- 可以包含任何类型的数据，例如整型、字符串、浮点数、python对象等"
   ]
  },
  {
   "cell_type": "markdown",
   "metadata": {
    "slideshow": {
     "slide_type": "fragment"
    }
   },
   "source": [
    "- 标签的集合被称为索引（index）"
   ]
  },
  {
   "cell_type": "markdown",
   "metadata": {
    "slideshow": {
     "slide_type": "fragment"
    }
   },
   "source": [
    "|数据|9|3|8|\n",
    "|---|---|---|---|\n",
    "|索引|0|1|2|"
   ]
  },
  {
   "cell_type": "markdown",
   "metadata": {
    "slideshow": {
     "slide_type": "fragment"
    }
   },
   "source": [
    "-  s = pd.Series(data, index=index)\n",
    "    + data可以是列表、字典、单个数值等"
   ]
  },
  {
   "cell_type": "markdown",
   "metadata": {
    "slideshow": {
     "slide_type": "slide"
    }
   },
   "source": [
    "#### 由列表（list）生成"
   ]
  },
  {
   "cell_type": "markdown",
   "metadata": {
    "slideshow": {
     "slide_type": "fragment"
    }
   },
   "source": [
    "```python\n",
    "s = pd.Series([100, 'python', 'soochow', 'qiwsir'])\n",
    "```"
   ]
  },
  {
   "cell_type": "markdown",
   "metadata": {
    "slideshow": {
     "slide_type": "fragment"
    }
   },
   "source": [
    "- 获得Series的数据值"
   ]
  },
  {
   "cell_type": "markdown",
   "metadata": {
    "slideshow": {
     "slide_type": "fragment"
    }
   },
   "source": [
    "```python\n",
    "s.values\n",
    "```\n",
    "- 值的类型为`numpy`的`ndarray`"
   ]
  },
  {
   "cell_type": "markdown",
   "metadata": {
    "slideshow": {
     "slide_type": "fragment"
    }
   },
   "source": [
    "- 获得Series的索引"
   ]
  },
  {
   "cell_type": "markdown",
   "metadata": {
    "slideshow": {
     "slide_type": "fragment"
    }
   },
   "source": [
    "```python\n",
    "s.index\n",
    "```"
   ]
  },
  {
   "cell_type": "markdown",
   "metadata": {
    "slideshow": {
     "slide_type": "fragment"
    }
   },
   "source": [
    "- 自定义索引"
   ]
  },
  {
   "cell_type": "markdown",
   "metadata": {
    "slideshow": {
     "slide_type": "fragment"
    }
   },
   "source": [
    "```python\n",
    "s = pd.Series([100, 'python', 'soochow', 'qiwsir'], index=['mark', 'little', 'university', 'name'])\n",
    "```"
   ]
  },
  {
   "cell_type": "markdown",
   "metadata": {
    "slideshow": {
     "slide_type": "fragment"
    }
   },
   "source": [
    "```python\n",
    "s[0]\n",
    "```"
   ]
  },
  {
   "cell_type": "code",
   "execution_count": 2,
   "metadata": {},
   "outputs": [
    {
     "data": {
      "text/plain": [
       "mark              100\n",
       "little         python\n",
       "university    soochow\n",
       "name           qiwsir\n",
       "dtype: object"
      ]
     },
     "execution_count": 2,
     "metadata": {},
     "output_type": "execute_result"
    },
    {
     "data": {
      "text/plain": [
       "array([100, 'python', 'soochow', 'qiwsir'], dtype=object)"
      ]
     },
     "execution_count": 2,
     "metadata": {},
     "output_type": "execute_result"
    },
    {
     "data": {
      "text/plain": [
       "Index(['mark', 'little', 'university', 'name'], dtype='object')"
      ]
     },
     "execution_count": 2,
     "metadata": {},
     "output_type": "execute_result"
    },
    {
     "data": {
      "text/plain": [
       "100"
      ]
     },
     "execution_count": 2,
     "metadata": {},
     "output_type": "execute_result"
    },
    {
     "data": {
      "text/plain": [
       "'python'"
      ]
     },
     "execution_count": 2,
     "metadata": {},
     "output_type": "execute_result"
    }
   ],
   "source": [
    "s = pd.Series([100, 'python', 'soochow', 'qiwsir'], index=['mark', 'little', 'university', 'name'])\n",
    "s\n",
    "s.values\n",
    "s.index\n",
    "s[0]\n",
    "s['little']"
   ]
  },
  {
   "cell_type": "markdown",
   "metadata": {
    "slideshow": {
     "slide_type": "fragment"
    }
   },
   "source": [
    "```\n",
    "s['mark']\n",
    "```\n",
    "- 可以用`index`访问`Series`的元素"
   ]
  },
  {
   "cell_type": "markdown",
   "metadata": {
    "slideshow": {
     "slide_type": "slide"
    }
   },
   "source": [
    "#### 由字典（dict）生成"
   ]
  },
  {
   "cell_type": "code",
   "execution_count": 13,
   "metadata": {},
   "outputs": [
    {
     "data": {
      "text/plain": [
       "java         NaN\n",
       "python    8000.0\n",
       "C++       4100.0\n",
       "C#        4000.0\n",
       "dtype: float64"
      ]
     },
     "execution_count": 13,
     "metadata": {},
     "output_type": "execute_result"
    }
   ],
   "source": [
    "s = pd.Series({'python': 8000, 'C++': 4100, 'C#': 4000}, index =['java', 'python', 'C++', 'C#'])\n",
    "s"
   ]
  },
  {
   "cell_type": "markdown",
   "metadata": {
    "slideshow": {
     "slide_type": "fragment"
    }
   },
   "source": [
    "```python\n",
    "s = pd.Series({'python': 8000, 'C++': 4100, 'C#': 4000})\n",
    "```"
   ]
  },
  {
   "cell_type": "markdown",
   "metadata": {
    "slideshow": {
     "slide_type": "fragment"
    }
   },
   "source": [
    "- 字典的键自动变为索引\n",
    "- 同样可以自定义索引。如果自定义了索引，新索引会自动寻找原来的索引，如果一样，就取原来索引对应的数据值"
   ]
  },
  {
   "cell_type": "markdown",
   "metadata": {
    "slideshow": {
     "slide_type": "fragment"
    }
   },
   "source": [
    "```python\n",
    "s = pd.Series({'python': 8000, 'C++': 4100, 'C#': 4000}, index =['java', 'python', 'C++', 'C#'])\n",
    "```"
   ]
  },
  {
   "cell_type": "markdown",
   "metadata": {
    "slideshow": {
     "slide_type": "slide"
    }
   },
   "source": [
    "#### 由单一数值生成"
   ]
  },
  {
   "cell_type": "markdown",
   "metadata": {
    "slideshow": {
     "slide_type": "fragment"
    }
   },
   "source": [
    "- <span class=\"mark\">提供index</span>，单一数值将会重复索引长度那么多次数"
   ]
  },
  {
   "cell_type": "markdown",
   "metadata": {
    "slideshow": {
     "slide_type": "fragment"
    }
   },
   "source": [
    "```python\n",
    "s = pd.Series(5., index=['a', 'b', 'c', 'd', 'e'])\n",
    "```"
   ]
  },
  {
   "cell_type": "markdown",
   "metadata": {
    "slideshow": {
     "slide_type": "slide"
    }
   },
   "source": [
    "### DataFrame：二维的带标签的数据结构"
   ]
  },
  {
   "cell_type": "markdown",
   "metadata": {
    "slideshow": {
     "slide_type": "fragment"
    }
   },
   "source": [
    "- 类似于excel或者sql的数据表"
   ]
  },
  {
   "cell_type": "markdown",
   "metadata": {
    "slideshow": {
     "slide_type": "fragment"
    }
   },
   "source": [
    "<img src=\"./img/pandas/dataframe.png\" width=60%>"
   ]
  },
  {
   "cell_type": "markdown",
   "metadata": {
    "slideshow": {
     "slide_type": "fragment"
    }
   },
   "source": [
    "- 横行标签被称为Index，竖列标签被称为columns"
   ]
  },
  {
   "cell_type": "markdown",
   "metadata": {
    "slideshow": {
     "slide_type": "fragment"
    }
   },
   "source": [
    "- DataFrame可以由多种类型的数据生成，包括列表、字典、Series、二维矩阵表、其他的DataFrame等"
   ]
  },
  {
   "cell_type": "markdown",
   "metadata": {
    "slideshow": {
     "slide_type": "slide"
    }
   },
   "source": [
    "#### 由dicts of series生成"
   ]
  },
  {
   "cell_type": "code",
   "execution_count": 4,
   "metadata": {
    "slideshow": {
     "slide_type": "fragment"
    }
   },
   "outputs": [
    {
     "data": {
      "text/html": [
       "<div>\n",
       "<style scoped>\n",
       "    .dataframe tbody tr th:only-of-type {\n",
       "        vertical-align: middle;\n",
       "    }\n",
       "\n",
       "    .dataframe tbody tr th {\n",
       "        vertical-align: top;\n",
       "    }\n",
       "\n",
       "    .dataframe thead th {\n",
       "        text-align: right;\n",
       "    }\n",
       "</style>\n",
       "<table border=\"1\" class=\"dataframe\">\n",
       "  <thead>\n",
       "    <tr style=\"text-align: right;\">\n",
       "      <th></th>\n",
       "      <th>one</th>\n",
       "      <th>two</th>\n",
       "    </tr>\n",
       "  </thead>\n",
       "  <tbody>\n",
       "    <tr>\n",
       "      <th>a</th>\n",
       "      <td>1.0</td>\n",
       "      <td>1.0</td>\n",
       "    </tr>\n",
       "    <tr>\n",
       "      <th>b</th>\n",
       "      <td>2.0</td>\n",
       "      <td>2.0</td>\n",
       "    </tr>\n",
       "    <tr>\n",
       "      <th>c</th>\n",
       "      <td>3.0</td>\n",
       "      <td>3.0</td>\n",
       "    </tr>\n",
       "    <tr>\n",
       "      <th>d</th>\n",
       "      <td>NaN</td>\n",
       "      <td>4.0</td>\n",
       "    </tr>\n",
       "  </tbody>\n",
       "</table>\n",
       "</div>"
      ],
      "text/plain": [
       "   one  two\n",
       "a  1.0  1.0\n",
       "b  2.0  2.0\n",
       "c  3.0  3.0\n",
       "d  NaN  4.0"
      ]
     },
     "execution_count": 4,
     "metadata": {},
     "output_type": "execute_result"
    }
   ],
   "source": [
    "data = {\n",
    "    'one': pd.Series([1., 2., 3.], index=['a', 'b', 'c']),\n",
    "    'two': pd.Series([1., 2., 3., 4.], index=['a', 'b', 'c', 'd'])\n",
    "}\n",
    "d1 = pd.DataFrame(data)\n",
    "d1"
   ]
  },
  {
   "cell_type": "markdown",
   "metadata": {
    "slideshow": {
     "slide_type": "slide"
    }
   },
   "source": [
    "#### 由dicts of lists生成"
   ]
  },
  {
   "cell_type": "code",
   "execution_count": 5,
   "metadata": {
    "slideshow": {
     "slide_type": "fragment"
    }
   },
   "outputs": [
    {
     "data": {
      "text/html": [
       "<div>\n",
       "<style scoped>\n",
       "    .dataframe tbody tr th:only-of-type {\n",
       "        vertical-align: middle;\n",
       "    }\n",
       "\n",
       "    .dataframe tbody tr th {\n",
       "        vertical-align: top;\n",
       "    }\n",
       "\n",
       "    .dataframe thead th {\n",
       "        text-align: right;\n",
       "    }\n",
       "</style>\n",
       "<table border=\"1\" class=\"dataframe\">\n",
       "  <thead>\n",
       "    <tr style=\"text-align: right;\">\n",
       "      <th></th>\n",
       "      <th>name</th>\n",
       "      <th>marks</th>\n",
       "      <th>price</th>\n",
       "    </tr>\n",
       "  </thead>\n",
       "  <tbody>\n",
       "    <tr>\n",
       "      <th>0</th>\n",
       "      <td>yahoo</td>\n",
       "      <td>200</td>\n",
       "      <td>9</td>\n",
       "    </tr>\n",
       "    <tr>\n",
       "      <th>1</th>\n",
       "      <td>google</td>\n",
       "      <td>400</td>\n",
       "      <td>3</td>\n",
       "    </tr>\n",
       "    <tr>\n",
       "      <th>2</th>\n",
       "      <td>facebook</td>\n",
       "      <td>800</td>\n",
       "      <td>7</td>\n",
       "    </tr>\n",
       "  </tbody>\n",
       "</table>\n",
       "</div>"
      ],
      "text/plain": [
       "       name  marks  price\n",
       "0     yahoo    200      9\n",
       "1    google    400      3\n",
       "2  facebook    800      7"
      ]
     },
     "execution_count": 5,
     "metadata": {},
     "output_type": "execute_result"
    }
   ],
   "source": [
    "data = {\n",
    "    \"name\": [\"yahoo\",\"google\",\"facebook\"], \n",
    "    \"marks\": [200,400,800], \n",
    "    \"price\": [9, 3, 7]\n",
    "}\n",
    "d1= pd.DataFrame(data)\n",
    "d1"
   ]
  },
  {
   "cell_type": "markdown",
   "metadata": {
    "slideshow": {
     "slide_type": "skip"
    }
   },
   "source": [
    "字典的“键”（\"name\"，\"marks\"，\"price\"）就是 DataFrame 的 columns 的值（名称），字典中每个“键”的“值”是一个列表，它们就是那一竖列中的具体填充数据。上面的定义中没有确定索引，所以，按照惯例（Series 中已经形成的惯例）就是从 0 开始的整数。"
   ]
  },
  {
   "cell_type": "code",
   "execution_count": 6,
   "metadata": {
    "slideshow": {
     "slide_type": "fragment"
    }
   },
   "outputs": [
    {
     "data": {
      "text/html": [
       "<div>\n",
       "<style scoped>\n",
       "    .dataframe tbody tr th:only-of-type {\n",
       "        vertical-align: middle;\n",
       "    }\n",
       "\n",
       "    .dataframe tbody tr th {\n",
       "        vertical-align: top;\n",
       "    }\n",
       "\n",
       "    .dataframe thead th {\n",
       "        text-align: right;\n",
       "    }\n",
       "</style>\n",
       "<table border=\"1\" class=\"dataframe\">\n",
       "  <thead>\n",
       "    <tr style=\"text-align: right;\">\n",
       "      <th></th>\n",
       "      <th>name</th>\n",
       "      <th>price</th>\n",
       "      <th>marks</th>\n",
       "      <th>debt</th>\n",
       "    </tr>\n",
       "  </thead>\n",
       "  <tbody>\n",
       "    <tr>\n",
       "      <th>a</th>\n",
       "      <td>yahoo</td>\n",
       "      <td>9</td>\n",
       "      <td>200</td>\n",
       "      <td>NaN</td>\n",
       "    </tr>\n",
       "    <tr>\n",
       "      <th>b</th>\n",
       "      <td>google</td>\n",
       "      <td>3</td>\n",
       "      <td>400</td>\n",
       "      <td>NaN</td>\n",
       "    </tr>\n",
       "    <tr>\n",
       "      <th>c</th>\n",
       "      <td>facebook</td>\n",
       "      <td>7</td>\n",
       "      <td>800</td>\n",
       "      <td>NaN</td>\n",
       "    </tr>\n",
       "  </tbody>\n",
       "</table>\n",
       "</div>"
      ],
      "text/plain": [
       "       name  price  marks debt\n",
       "a     yahoo      9    200  NaN\n",
       "b    google      3    400  NaN\n",
       "c  facebook      7    800  NaN"
      ]
     },
     "execution_count": 6,
     "metadata": {},
     "output_type": "execute_result"
    }
   ],
   "source": [
    "d2 = pd.DataFrame(data, columns=['name', 'price', 'marks', 'debt'], index=['a','b','c'])\n",
    "d2"
   ]
  },
  {
   "cell_type": "markdown",
   "metadata": {
    "slideshow": {
     "slide_type": "slide"
    }
   },
   "source": [
    "#### 由dicts of dicts生成"
   ]
  },
  {
   "cell_type": "code",
   "execution_count": 7,
   "metadata": {
    "slideshow": {
     "slide_type": "fragment"
    }
   },
   "outputs": [
    {
     "data": {
      "text/html": [
       "<div>\n",
       "<style scoped>\n",
       "    .dataframe tbody tr th:only-of-type {\n",
       "        vertical-align: middle;\n",
       "    }\n",
       "\n",
       "    .dataframe tbody tr th {\n",
       "        vertical-align: top;\n",
       "    }\n",
       "\n",
       "    .dataframe thead th {\n",
       "        text-align: right;\n",
       "    }\n",
       "</style>\n",
       "<table border=\"1\" class=\"dataframe\">\n",
       "  <thead>\n",
       "    <tr style=\"text-align: right;\">\n",
       "      <th></th>\n",
       "      <th>lang</th>\n",
       "      <th>price</th>\n",
       "    </tr>\n",
       "  </thead>\n",
       "  <tbody>\n",
       "    <tr>\n",
       "      <th>firstline</th>\n",
       "      <td>python</td>\n",
       "      <td>8000.0</td>\n",
       "    </tr>\n",
       "    <tr>\n",
       "      <th>secondline</th>\n",
       "      <td>java</td>\n",
       "      <td>NaN</td>\n",
       "    </tr>\n",
       "  </tbody>\n",
       "</table>\n",
       "</div>"
      ],
      "text/plain": [
       "              lang   price\n",
       "firstline   python  8000.0\n",
       "secondline    java     NaN"
      ]
     },
     "execution_count": 7,
     "metadata": {},
     "output_type": "execute_result"
    }
   ],
   "source": [
    "newData = {\n",
    "    \"lang\":{\n",
    "        \"firstline\":\"python\",\n",
    "        \"secondline\":\"java\"\n",
    "    },\n",
    "    \"price\":{\n",
    "        \"firstline\":8000\n",
    "    }\n",
    "}\n",
    "d3 = pd.DataFrame(newData)\n",
    "d3"
   ]
  },
  {
   "cell_type": "raw",
   "metadata": {
    "slideshow": {
     "slide_type": "skip"
    }
   },
   "source": [
    "在字典中就规定好数列名称（第一层键）和每横行索引（第二层字典键）以及对应的数据（第二层字典值），也就是在字典中规定好了每个数据格子中的数据，没有规定的都是空。"
   ]
  },
  {
   "cell_type": "code",
   "execution_count": 8,
   "metadata": {
    "slideshow": {
     "slide_type": "fragment"
    }
   },
   "outputs": [
    {
     "data": {
      "text/html": [
       "<div>\n",
       "<style scoped>\n",
       "    .dataframe tbody tr th:only-of-type {\n",
       "        vertical-align: middle;\n",
       "    }\n",
       "\n",
       "    .dataframe tbody tr th {\n",
       "        vertical-align: top;\n",
       "    }\n",
       "\n",
       "    .dataframe thead tr th {\n",
       "        text-align: left;\n",
       "    }\n",
       "</style>\n",
       "<table border=\"1\" class=\"dataframe\">\n",
       "  <thead>\n",
       "    <tr>\n",
       "      <th></th>\n",
       "      <th></th>\n",
       "      <th colspan=\"2\" halign=\"left\">a</th>\n",
       "      <th colspan=\"2\" halign=\"left\">b</th>\n",
       "    </tr>\n",
       "    <tr>\n",
       "      <th></th>\n",
       "      <th></th>\n",
       "      <th>a</th>\n",
       "      <th>c</th>\n",
       "      <th>a</th>\n",
       "      <th>b</th>\n",
       "    </tr>\n",
       "  </thead>\n",
       "  <tbody>\n",
       "    <tr>\n",
       "      <th rowspan=\"3\" valign=\"top\">A</th>\n",
       "      <th>C</th>\n",
       "      <td>3.0</td>\n",
       "      <td>6.0</td>\n",
       "      <td>7.0</td>\n",
       "      <td>NaN</td>\n",
       "    </tr>\n",
       "    <tr>\n",
       "      <th>B</th>\n",
       "      <td>4.0</td>\n",
       "      <td>5.0</td>\n",
       "      <td>8.0</td>\n",
       "      <td>10.0</td>\n",
       "    </tr>\n",
       "    <tr>\n",
       "      <th>D</th>\n",
       "      <td>NaN</td>\n",
       "      <td>NaN</td>\n",
       "      <td>NaN</td>\n",
       "      <td>9.0</td>\n",
       "    </tr>\n",
       "  </tbody>\n",
       "</table>\n",
       "</div>"
      ],
      "text/plain": [
       "       a         b      \n",
       "       a    c    a     b\n",
       "A C  3.0  6.0  7.0   NaN\n",
       "  B  4.0  5.0  8.0  10.0\n",
       "  D  NaN  NaN  NaN   9.0"
      ]
     },
     "execution_count": 8,
     "metadata": {},
     "output_type": "execute_result"
    }
   ],
   "source": [
    "newData = {\n",
    "    ('a', 'a'): {\n",
    "        ('A', 'C'): 3, \n",
    "        ('A', 'B'): 4\n",
    "    },\n",
    "    ('a', 'c'): {\n",
    "        ('A', 'B'): 5, \n",
    "        ('A', 'C'): 6\n",
    "    },\n",
    "    ('b', 'a'): {\n",
    "        ('A', 'C'): 7, \n",
    "        ('A', 'B'): 8\n",
    "    },\n",
    "    ('b', 'b'): {\n",
    "        ('A', 'D'): 9, \n",
    "        ('A', 'B'): 10\n",
    "    }\n",
    "}\n",
    "d3 = pd.DataFrame(newData) \n",
    "d3"
   ]
  },
  {
   "cell_type": "markdown",
   "metadata": {
    "slideshow": {
     "slide_type": "slide"
    }
   },
   "source": [
    "## 数据引用"
   ]
  },
  {
   "cell_type": "markdown",
   "metadata": {
    "slideshow": {
     "slide_type": "fragment"
    }
   },
   "source": [
    "### 列的选择、添加和删除"
   ]
  },
  {
   "cell_type": "code",
   "execution_count": 9,
   "metadata": {
    "slideshow": {
     "slide_type": "fragment"
    }
   },
   "outputs": [
    {
     "data": {
      "text/html": [
       "<div>\n",
       "<style scoped>\n",
       "    .dataframe tbody tr th:only-of-type {\n",
       "        vertical-align: middle;\n",
       "    }\n",
       "\n",
       "    .dataframe tbody tr th {\n",
       "        vertical-align: top;\n",
       "    }\n",
       "\n",
       "    .dataframe thead th {\n",
       "        text-align: right;\n",
       "    }\n",
       "</style>\n",
       "<table border=\"1\" class=\"dataframe\">\n",
       "  <thead>\n",
       "    <tr style=\"text-align: right;\">\n",
       "      <th></th>\n",
       "      <th>one</th>\n",
       "      <th>two</th>\n",
       "    </tr>\n",
       "  </thead>\n",
       "  <tbody>\n",
       "    <tr>\n",
       "      <th>0</th>\n",
       "      <td>1.0</td>\n",
       "      <td>4.0</td>\n",
       "    </tr>\n",
       "    <tr>\n",
       "      <th>1</th>\n",
       "      <td>2.0</td>\n",
       "      <td>3.0</td>\n",
       "    </tr>\n",
       "    <tr>\n",
       "      <th>2</th>\n",
       "      <td>3.0</td>\n",
       "      <td>2.0</td>\n",
       "    </tr>\n",
       "    <tr>\n",
       "      <th>3</th>\n",
       "      <td>4.0</td>\n",
       "      <td>1.0</td>\n",
       "    </tr>\n",
       "  </tbody>\n",
       "</table>\n",
       "</div>"
      ],
      "text/plain": [
       "   one  two\n",
       "0  1.0  4.0\n",
       "1  2.0  3.0\n",
       "2  3.0  2.0\n",
       "3  4.0  1.0"
      ]
     },
     "execution_count": 9,
     "metadata": {},
     "output_type": "execute_result"
    }
   ],
   "source": [
    "df = pd.DataFrame({'one': [1., 2., 3., 4.], 'two': [4., 3., 2., 1.]})\n",
    "df"
   ]
  },
  {
   "cell_type": "markdown",
   "metadata": {
    "slideshow": {
     "slide_type": "fragment"
    }
   },
   "source": [
    "- 选择列"
   ]
  },
  {
   "cell_type": "code",
   "execution_count": 10,
   "metadata": {
    "slideshow": {
     "slide_type": "fragment"
    }
   },
   "outputs": [
    {
     "data": {
      "text/plain": [
       "0    1.0\n",
       "1    2.0\n",
       "2    3.0\n",
       "3    4.0\n",
       "Name: one, dtype: float64"
      ]
     },
     "execution_count": 10,
     "metadata": {},
     "output_type": "execute_result"
    }
   ],
   "source": [
    "df['one']"
   ]
  },
  {
   "cell_type": "markdown",
   "metadata": {
    "slideshow": {
     "slide_type": "fragment"
    }
   },
   "source": [
    "- 添加列"
   ]
  },
  {
   "cell_type": "code",
   "execution_count": 11,
   "metadata": {
    "slideshow": {
     "slide_type": "fragment"
    }
   },
   "outputs": [
    {
     "data": {
      "text/html": [
       "<div>\n",
       "<style scoped>\n",
       "    .dataframe tbody tr th:only-of-type {\n",
       "        vertical-align: middle;\n",
       "    }\n",
       "\n",
       "    .dataframe tbody tr th {\n",
       "        vertical-align: top;\n",
       "    }\n",
       "\n",
       "    .dataframe thead th {\n",
       "        text-align: right;\n",
       "    }\n",
       "</style>\n",
       "<table border=\"1\" class=\"dataframe\">\n",
       "  <thead>\n",
       "    <tr style=\"text-align: right;\">\n",
       "      <th></th>\n",
       "      <th>one</th>\n",
       "      <th>two</th>\n",
       "      <th>three</th>\n",
       "    </tr>\n",
       "  </thead>\n",
       "  <tbody>\n",
       "    <tr>\n",
       "      <th>0</th>\n",
       "      <td>1.0</td>\n",
       "      <td>4.0</td>\n",
       "      <td>1.0</td>\n",
       "    </tr>\n",
       "    <tr>\n",
       "      <th>1</th>\n",
       "      <td>2.0</td>\n",
       "      <td>3.0</td>\n",
       "      <td>4.0</td>\n",
       "    </tr>\n",
       "    <tr>\n",
       "      <th>2</th>\n",
       "      <td>3.0</td>\n",
       "      <td>2.0</td>\n",
       "      <td>9.0</td>\n",
       "    </tr>\n",
       "    <tr>\n",
       "      <th>3</th>\n",
       "      <td>4.0</td>\n",
       "      <td>1.0</td>\n",
       "      <td>16.0</td>\n",
       "    </tr>\n",
       "  </tbody>\n",
       "</table>\n",
       "</div>"
      ],
      "text/plain": [
       "   one  two  three\n",
       "0  1.0  4.0    1.0\n",
       "1  2.0  3.0    4.0\n",
       "2  3.0  2.0    9.0\n",
       "3  4.0  1.0   16.0"
      ]
     },
     "execution_count": 11,
     "metadata": {},
     "output_type": "execute_result"
    }
   ],
   "source": [
    "df['three'] = df['one'] * df['one']\n",
    "df"
   ]
  },
  {
   "cell_type": "code",
   "execution_count": 12,
   "metadata": {
    "slideshow": {
     "slide_type": "fragment"
    }
   },
   "outputs": [
    {
     "data": {
      "text/html": [
       "<div>\n",
       "<style scoped>\n",
       "    .dataframe tbody tr th:only-of-type {\n",
       "        vertical-align: middle;\n",
       "    }\n",
       "\n",
       "    .dataframe tbody tr th {\n",
       "        vertical-align: top;\n",
       "    }\n",
       "\n",
       "    .dataframe thead th {\n",
       "        text-align: right;\n",
       "    }\n",
       "</style>\n",
       "<table border=\"1\" class=\"dataframe\">\n",
       "  <thead>\n",
       "    <tr style=\"text-align: right;\">\n",
       "      <th></th>\n",
       "      <th>one</th>\n",
       "      <th>two</th>\n",
       "      <th>three</th>\n",
       "      <th>flag</th>\n",
       "    </tr>\n",
       "  </thead>\n",
       "  <tbody>\n",
       "    <tr>\n",
       "      <th>0</th>\n",
       "      <td>1.0</td>\n",
       "      <td>4.0</td>\n",
       "      <td>1.0</td>\n",
       "      <td>False</td>\n",
       "    </tr>\n",
       "    <tr>\n",
       "      <th>1</th>\n",
       "      <td>2.0</td>\n",
       "      <td>3.0</td>\n",
       "      <td>4.0</td>\n",
       "      <td>False</td>\n",
       "    </tr>\n",
       "    <tr>\n",
       "      <th>2</th>\n",
       "      <td>3.0</td>\n",
       "      <td>2.0</td>\n",
       "      <td>9.0</td>\n",
       "      <td>True</td>\n",
       "    </tr>\n",
       "    <tr>\n",
       "      <th>3</th>\n",
       "      <td>4.0</td>\n",
       "      <td>1.0</td>\n",
       "      <td>16.0</td>\n",
       "      <td>True</td>\n",
       "    </tr>\n",
       "  </tbody>\n",
       "</table>\n",
       "</div>"
      ],
      "text/plain": [
       "   one  two  three   flag\n",
       "0  1.0  4.0    1.0  False\n",
       "1  2.0  3.0    4.0  False\n",
       "2  3.0  2.0    9.0   True\n",
       "3  4.0  1.0   16.0   True"
      ]
     },
     "execution_count": 12,
     "metadata": {},
     "output_type": "execute_result"
    }
   ],
   "source": [
    "df['flag'] = df['one'] > 2\n",
    "df"
   ]
  },
  {
   "cell_type": "code",
   "execution_count": 13,
   "metadata": {
    "slideshow": {
     "slide_type": "fragment"
    }
   },
   "outputs": [
    {
     "data": {
      "text/html": [
       "<div>\n",
       "<style scoped>\n",
       "    .dataframe tbody tr th:only-of-type {\n",
       "        vertical-align: middle;\n",
       "    }\n",
       "\n",
       "    .dataframe tbody tr th {\n",
       "        vertical-align: top;\n",
       "    }\n",
       "\n",
       "    .dataframe thead th {\n",
       "        text-align: right;\n",
       "    }\n",
       "</style>\n",
       "<table border=\"1\" class=\"dataframe\">\n",
       "  <thead>\n",
       "    <tr style=\"text-align: right;\">\n",
       "      <th></th>\n",
       "      <th>one</th>\n",
       "      <th>two</th>\n",
       "      <th>three</th>\n",
       "      <th>flag</th>\n",
       "      <th>foo</th>\n",
       "    </tr>\n",
       "  </thead>\n",
       "  <tbody>\n",
       "    <tr>\n",
       "      <th>0</th>\n",
       "      <td>1.0</td>\n",
       "      <td>4.0</td>\n",
       "      <td>1.0</td>\n",
       "      <td>False</td>\n",
       "      <td>bar</td>\n",
       "    </tr>\n",
       "    <tr>\n",
       "      <th>1</th>\n",
       "      <td>2.0</td>\n",
       "      <td>3.0</td>\n",
       "      <td>4.0</td>\n",
       "      <td>False</td>\n",
       "      <td>bar</td>\n",
       "    </tr>\n",
       "    <tr>\n",
       "      <th>2</th>\n",
       "      <td>3.0</td>\n",
       "      <td>2.0</td>\n",
       "      <td>9.0</td>\n",
       "      <td>True</td>\n",
       "      <td>bar</td>\n",
       "    </tr>\n",
       "    <tr>\n",
       "      <th>3</th>\n",
       "      <td>4.0</td>\n",
       "      <td>1.0</td>\n",
       "      <td>16.0</td>\n",
       "      <td>True</td>\n",
       "      <td>bar</td>\n",
       "    </tr>\n",
       "  </tbody>\n",
       "</table>\n",
       "</div>"
      ],
      "text/plain": [
       "   one  two  three   flag  foo\n",
       "0  1.0  4.0    1.0  False  bar\n",
       "1  2.0  3.0    4.0  False  bar\n",
       "2  3.0  2.0    9.0   True  bar\n",
       "3  4.0  1.0   16.0   True  bar"
      ]
     },
     "execution_count": 13,
     "metadata": {},
     "output_type": "execute_result"
    }
   ],
   "source": [
    "df['foo'] = 'bar'\n",
    "df\n",
    "dfbk = df.copy()"
   ]
  },
  {
   "cell_type": "markdown",
   "metadata": {
    "slideshow": {
     "slide_type": "fragment"
    }
   },
   "source": [
    "- 删除列"
   ]
  },
  {
   "cell_type": "code",
   "execution_count": 14,
   "metadata": {
    "slideshow": {
     "slide_type": "fragment"
    }
   },
   "outputs": [
    {
     "data": {
      "text/html": [
       "<div>\n",
       "<style scoped>\n",
       "    .dataframe tbody tr th:only-of-type {\n",
       "        vertical-align: middle;\n",
       "    }\n",
       "\n",
       "    .dataframe tbody tr th {\n",
       "        vertical-align: top;\n",
       "    }\n",
       "\n",
       "    .dataframe thead th {\n",
       "        text-align: right;\n",
       "    }\n",
       "</style>\n",
       "<table border=\"1\" class=\"dataframe\">\n",
       "  <thead>\n",
       "    <tr style=\"text-align: right;\">\n",
       "      <th></th>\n",
       "      <th>one</th>\n",
       "      <th>three</th>\n",
       "      <th>flag</th>\n",
       "      <th>foo</th>\n",
       "    </tr>\n",
       "  </thead>\n",
       "  <tbody>\n",
       "    <tr>\n",
       "      <th>0</th>\n",
       "      <td>1.0</td>\n",
       "      <td>1.0</td>\n",
       "      <td>False</td>\n",
       "      <td>bar</td>\n",
       "    </tr>\n",
       "    <tr>\n",
       "      <th>1</th>\n",
       "      <td>2.0</td>\n",
       "      <td>4.0</td>\n",
       "      <td>False</td>\n",
       "      <td>bar</td>\n",
       "    </tr>\n",
       "    <tr>\n",
       "      <th>2</th>\n",
       "      <td>3.0</td>\n",
       "      <td>9.0</td>\n",
       "      <td>True</td>\n",
       "      <td>bar</td>\n",
       "    </tr>\n",
       "    <tr>\n",
       "      <th>3</th>\n",
       "      <td>4.0</td>\n",
       "      <td>16.0</td>\n",
       "      <td>True</td>\n",
       "      <td>bar</td>\n",
       "    </tr>\n",
       "  </tbody>\n",
       "</table>\n",
       "</div>"
      ],
      "text/plain": [
       "   one  three   flag  foo\n",
       "0  1.0    1.0  False  bar\n",
       "1  2.0    4.0  False  bar\n",
       "2  3.0    9.0   True  bar\n",
       "3  4.0   16.0   True  bar"
      ]
     },
     "execution_count": 14,
     "metadata": {},
     "output_type": "execute_result"
    }
   ],
   "source": [
    "del df['two']\n",
    "df"
   ]
  },
  {
   "cell_type": "code",
   "execution_count": 15,
   "metadata": {
    "slideshow": {
     "slide_type": "fragment"
    }
   },
   "outputs": [
    {
     "data": {
      "text/html": [
       "<div>\n",
       "<style scoped>\n",
       "    .dataframe tbody tr th:only-of-type {\n",
       "        vertical-align: middle;\n",
       "    }\n",
       "\n",
       "    .dataframe tbody tr th {\n",
       "        vertical-align: top;\n",
       "    }\n",
       "\n",
       "    .dataframe thead th {\n",
       "        text-align: right;\n",
       "    }\n",
       "</style>\n",
       "<table border=\"1\" class=\"dataframe\">\n",
       "  <thead>\n",
       "    <tr style=\"text-align: right;\">\n",
       "      <th></th>\n",
       "      <th>one</th>\n",
       "      <th>flag</th>\n",
       "      <th>foo</th>\n",
       "    </tr>\n",
       "  </thead>\n",
       "  <tbody>\n",
       "    <tr>\n",
       "      <th>0</th>\n",
       "      <td>1.0</td>\n",
       "      <td>False</td>\n",
       "      <td>bar</td>\n",
       "    </tr>\n",
       "    <tr>\n",
       "      <th>1</th>\n",
       "      <td>2.0</td>\n",
       "      <td>False</td>\n",
       "      <td>bar</td>\n",
       "    </tr>\n",
       "    <tr>\n",
       "      <th>2</th>\n",
       "      <td>3.0</td>\n",
       "      <td>True</td>\n",
       "      <td>bar</td>\n",
       "    </tr>\n",
       "    <tr>\n",
       "      <th>3</th>\n",
       "      <td>4.0</td>\n",
       "      <td>True</td>\n",
       "      <td>bar</td>\n",
       "    </tr>\n",
       "  </tbody>\n",
       "</table>\n",
       "</div>"
      ],
      "text/plain": [
       "   one   flag  foo\n",
       "0  1.0  False  bar\n",
       "1  2.0  False  bar\n",
       "2  3.0   True  bar\n",
       "3  4.0   True  bar"
      ]
     },
     "execution_count": 15,
     "metadata": {},
     "output_type": "execute_result"
    },
    {
     "data": {
      "text/plain": [
       "0     1.0\n",
       "1     4.0\n",
       "2     9.0\n",
       "3    16.0\n",
       "Name: three, dtype: float64"
      ]
     },
     "execution_count": 15,
     "metadata": {},
     "output_type": "execute_result"
    }
   ],
   "source": [
    "three = df.pop('three')\n",
    "df\n",
    "three"
   ]
  },
  {
   "cell_type": "markdown",
   "metadata": {
    "slideshow": {
     "slide_type": "slide"
    }
   },
   "source": [
    "- 选择多列\n",
    "    + 列名列表，例如`['col1','col2','col3']`，返回的是`DataFrame`类型"
   ]
  },
  {
   "cell_type": "code",
   "execution_count": 16,
   "metadata": {
    "slideshow": {
     "slide_type": "fragment"
    },
    "variables": {
     "dfbk": "<div>\n<style scoped>\n    .dataframe tbody tr th:only-of-type {\n        vertical-align: middle;\n    }\n\n    .dataframe tbody tr th {\n        vertical-align: top;\n    }\n\n    .dataframe thead th {\n        text-align: right;\n    }\n</style>\n<table border=\"1\" class=\"dataframe\">\n  <thead>\n    <tr style=\"text-align: right;\">\n      <th></th>\n      <th>one</th>\n      <th>two</th>\n      <th>three</th>\n      <th>flag</th>\n      <th>foo</th>\n    </tr>\n  </thead>\n  <tbody>\n    <tr>\n      <th>0</th>\n      <td>1.0</td>\n      <td>4.0</td>\n      <td>1.0</td>\n      <td>False</td>\n      <td>bar</td>\n    </tr>\n    <tr>\n      <th>1</th>\n      <td>2.0</td>\n      <td>3.0</td>\n      <td>4.0</td>\n      <td>False</td>\n      <td>bar</td>\n    </tr>\n    <tr>\n      <th>2</th>\n      <td>3.0</td>\n      <td>2.0</td>\n      <td>9.0</td>\n      <td>True</td>\n      <td>bar</td>\n    </tr>\n    <tr>\n      <th>3</th>\n      <td>4.0</td>\n      <td>1.0</td>\n      <td>16.0</td>\n      <td>True</td>\n      <td>bar</td>\n    </tr>\n  </tbody>\n</table>\n</div>"
    }
   },
   "outputs": [
    {
     "data": {
      "text/html": [
       "<div>\n",
       "<style scoped>\n",
       "    .dataframe tbody tr th:only-of-type {\n",
       "        vertical-align: middle;\n",
       "    }\n",
       "\n",
       "    .dataframe tbody tr th {\n",
       "        vertical-align: top;\n",
       "    }\n",
       "\n",
       "    .dataframe thead th {\n",
       "        text-align: right;\n",
       "    }\n",
       "</style>\n",
       "<table border=\"1\" class=\"dataframe\">\n",
       "  <thead>\n",
       "    <tr style=\"text-align: right;\">\n",
       "      <th></th>\n",
       "      <th>one</th>\n",
       "      <th>two</th>\n",
       "      <th>three</th>\n",
       "      <th>flag</th>\n",
       "      <th>foo</th>\n",
       "    </tr>\n",
       "  </thead>\n",
       "  <tbody>\n",
       "    <tr>\n",
       "      <th>0</th>\n",
       "      <td>1.0</td>\n",
       "      <td>4.0</td>\n",
       "      <td>1.0</td>\n",
       "      <td>False</td>\n",
       "      <td>bar</td>\n",
       "    </tr>\n",
       "    <tr>\n",
       "      <th>1</th>\n",
       "      <td>2.0</td>\n",
       "      <td>3.0</td>\n",
       "      <td>4.0</td>\n",
       "      <td>False</td>\n",
       "      <td>bar</td>\n",
       "    </tr>\n",
       "    <tr>\n",
       "      <th>2</th>\n",
       "      <td>3.0</td>\n",
       "      <td>2.0</td>\n",
       "      <td>9.0</td>\n",
       "      <td>True</td>\n",
       "      <td>bar</td>\n",
       "    </tr>\n",
       "    <tr>\n",
       "      <th>3</th>\n",
       "      <td>4.0</td>\n",
       "      <td>1.0</td>\n",
       "      <td>16.0</td>\n",
       "      <td>True</td>\n",
       "      <td>bar</td>\n",
       "    </tr>\n",
       "  </tbody>\n",
       "</table>\n",
       "</div>"
      ],
      "text/plain": [
       "   one  two  three   flag  foo\n",
       "0  1.0  4.0    1.0  False  bar\n",
       "1  2.0  3.0    4.0  False  bar\n",
       "2  3.0  2.0    9.0   True  bar\n",
       "3  4.0  1.0   16.0   True  bar"
      ]
     },
     "execution_count": 16,
     "metadata": {},
     "output_type": "execute_result"
    }
   ],
   "source": [
    "# dfbk\n",
    "dfbk"
   ]
  },
  {
   "cell_type": "code",
   "execution_count": 17,
   "metadata": {
    "slideshow": {
     "slide_type": "fragment"
    }
   },
   "outputs": [
    {
     "data": {
      "text/html": [
       "<div>\n",
       "<style scoped>\n",
       "    .dataframe tbody tr th:only-of-type {\n",
       "        vertical-align: middle;\n",
       "    }\n",
       "\n",
       "    .dataframe tbody tr th {\n",
       "        vertical-align: top;\n",
       "    }\n",
       "\n",
       "    .dataframe thead th {\n",
       "        text-align: right;\n",
       "    }\n",
       "</style>\n",
       "<table border=\"1\" class=\"dataframe\">\n",
       "  <thead>\n",
       "    <tr style=\"text-align: right;\">\n",
       "      <th></th>\n",
       "      <th>one</th>\n",
       "      <th>flag</th>\n",
       "    </tr>\n",
       "  </thead>\n",
       "  <tbody>\n",
       "    <tr>\n",
       "      <th>0</th>\n",
       "      <td>1.0</td>\n",
       "      <td>False</td>\n",
       "    </tr>\n",
       "    <tr>\n",
       "      <th>1</th>\n",
       "      <td>2.0</td>\n",
       "      <td>False</td>\n",
       "    </tr>\n",
       "    <tr>\n",
       "      <th>2</th>\n",
       "      <td>3.0</td>\n",
       "      <td>True</td>\n",
       "    </tr>\n",
       "    <tr>\n",
       "      <th>3</th>\n",
       "      <td>4.0</td>\n",
       "      <td>True</td>\n",
       "    </tr>\n",
       "  </tbody>\n",
       "</table>\n",
       "</div>"
      ],
      "text/plain": [
       "   one   flag\n",
       "0  1.0  False\n",
       "1  2.0  False\n",
       "2  3.0   True\n",
       "3  4.0   True"
      ]
     },
     "execution_count": 17,
     "metadata": {},
     "output_type": "execute_result"
    }
   ],
   "source": [
    "dfbk[['one','flag']]"
   ]
  },
  {
   "cell_type": "markdown",
   "metadata": {
    "slideshow": {
     "slide_type": "subslide"
    }
   },
   "source": [
    "### 选择行"
   ]
  },
  {
   "cell_type": "markdown",
   "metadata": {
    "slideshow": {
     "slide_type": "fragment"
    }
   },
   "source": [
    "- 用标签选择行，`df.loc[label]`\n",
    "- 用位置选择行，`df.iloc[rowNum]`"
   ]
  },
  {
   "cell_type": "markdown",
   "metadata": {
    "slideshow": {
     "slide_type": "subslide"
    }
   },
   "source": [
    "#### 用标签选择行 "
   ]
  },
  {
   "cell_type": "markdown",
   "metadata": {
    "slideshow": {
     "slide_type": "fragment"
    }
   },
   "source": [
    "- 单个标签，例如`'a'`(自定义标签)，`1`（默认标签），返回的是`Series`类型\n",
    "- 标签列表，例如`['a','b','c']`，返回的是`DataFrame`类型\n",
    "- 标签切片，例如`'a':'c'`，返回的是`DataFrame`类型\n",
    "- 一组与数据行数相同的布尔值，例如`[True, False, True]`，可以用判断条件筛选行，返回的是`DataFrame`类型"
   ]
  },
  {
   "cell_type": "code",
   "execution_count": 18,
   "metadata": {
    "slideshow": {
     "slide_type": "fragment"
    }
   },
   "outputs": [
    {
     "data": {
      "text/html": [
       "<div>\n",
       "<style scoped>\n",
       "    .dataframe tbody tr th:only-of-type {\n",
       "        vertical-align: middle;\n",
       "    }\n",
       "\n",
       "    .dataframe tbody tr th {\n",
       "        vertical-align: top;\n",
       "    }\n",
       "\n",
       "    .dataframe thead th {\n",
       "        text-align: right;\n",
       "    }\n",
       "</style>\n",
       "<table border=\"1\" class=\"dataframe\">\n",
       "  <thead>\n",
       "    <tr style=\"text-align: right;\">\n",
       "      <th></th>\n",
       "      <th>max_speed</th>\n",
       "      <th>shield</th>\n",
       "    </tr>\n",
       "  </thead>\n",
       "  <tbody>\n",
       "    <tr>\n",
       "      <th>cobra</th>\n",
       "      <td>1</td>\n",
       "      <td>2</td>\n",
       "    </tr>\n",
       "    <tr>\n",
       "      <th>viper</th>\n",
       "      <td>4</td>\n",
       "      <td>5</td>\n",
       "    </tr>\n",
       "    <tr>\n",
       "      <th>sidewinder</th>\n",
       "      <td>7</td>\n",
       "      <td>8</td>\n",
       "    </tr>\n",
       "  </tbody>\n",
       "</table>\n",
       "</div>"
      ],
      "text/plain": [
       "            max_speed  shield\n",
       "cobra               1       2\n",
       "viper               4       5\n",
       "sidewinder          7       8"
      ]
     },
     "execution_count": 18,
     "metadata": {},
     "output_type": "execute_result"
    }
   ],
   "source": [
    "locDf = pd.DataFrame([[1, 2], [4, 5], [7, 8]], index=['cobra', 'viper', 'sidewinder'], columns=['max_speed', 'shield'])\n",
    "locDf"
   ]
  },
  {
   "cell_type": "code",
   "execution_count": 21,
   "metadata": {
    "scrolled": true,
    "slideshow": {
     "slide_type": "fragment"
    }
   },
   "outputs": [],
   "source": [
    "# locDf.loc['cobra']\n",
    "# locDf.loc[['cobra','sidewinder']]\n",
    "# locDf.loc['viper':'sidewinder']                                # 结果包含切片结束的位置\n",
    "# locDf.loc[locDf['shield']>6]\n",
    "# locDf.loc[(locDf['max_speed']>=4) & (locDf['shield']>5)]       # 逻辑与用&，每个条件用（）包围\n",
    "# locDf.loc[(locDf['max_speed']!=4) | (locDf['shield']>5)]       # 逻辑或用|"
   ]
  },
  {
   "cell_type": "markdown",
   "metadata": {
    "slideshow": {
     "slide_type": "subslide"
    }
   },
   "source": [
    "#### 用位置选择行 "
   ]
  },
  {
   "cell_type": "markdown",
   "metadata": {
    "slideshow": {
     "slide_type": "fragment"
    }
   },
   "source": [
    "- 单个整数，返回的是`Series`类型\n",
    "- 整数列表，返回的是`DataFrame`类型\n",
    "- 整数切片，例如`1:7`，`df.iloc[:]`表示选择所有行，返回的是`DataFrame`类型"
   ]
  },
  {
   "cell_type": "code",
   "execution_count": 24,
   "metadata": {
    "scrolled": true,
    "slideshow": {
     "slide_type": "fragment"
    }
   },
   "outputs": [],
   "source": [
    "# locDf.iloc[1]\n",
    "# locDf.iloc[[0,2]]\n",
    "# locDf.iloc[0:2]        # 结果不包括切片结束的位置\n",
    "# locDf.iloc[:]"
   ]
  },
  {
   "cell_type": "markdown",
   "metadata": {
    "slideshow": {
     "slide_type": "slide"
    }
   },
   "source": [
    "### 同时选择行与列"
   ]
  },
  {
   "cell_type": "markdown",
   "metadata": {
    "slideshow": {
     "slide_type": "fragment"
    }
   },
   "source": [
    "<p class=\"h3\"><strong><code>df.iloc[<span class=\"bg-primary\">行位置</span>，<span class=\"bg-danger\">列位置</span>]</code></strong></p>\n",
    "<p class=\"h3\"><strong><code>df.loc[<span class=\"bg-primary\">行标签</span>，<span class=\"bg-danger\">列名</span>]</code></strong></p>"
   ]
  },
  {
   "cell_type": "code",
   "execution_count": 25,
   "metadata": {
    "slideshow": {
     "slide_type": "fragment"
    }
   },
   "outputs": [
    {
     "data": {
      "text/html": [
       "<div>\n",
       "<style scoped>\n",
       "    .dataframe tbody tr th:only-of-type {\n",
       "        vertical-align: middle;\n",
       "    }\n",
       "\n",
       "    .dataframe tbody tr th {\n",
       "        vertical-align: top;\n",
       "    }\n",
       "\n",
       "    .dataframe thead th {\n",
       "        text-align: right;\n",
       "    }\n",
       "</style>\n",
       "<table border=\"1\" class=\"dataframe\">\n",
       "  <thead>\n",
       "    <tr style=\"text-align: right;\">\n",
       "      <th></th>\n",
       "      <th>max_speed</th>\n",
       "      <th>shield</th>\n",
       "    </tr>\n",
       "  </thead>\n",
       "  <tbody>\n",
       "    <tr>\n",
       "      <th>0</th>\n",
       "      <td>1</td>\n",
       "      <td>2</td>\n",
       "    </tr>\n",
       "    <tr>\n",
       "      <th>1</th>\n",
       "      <td>4</td>\n",
       "      <td>5</td>\n",
       "    </tr>\n",
       "    <tr>\n",
       "      <th>2</th>\n",
       "      <td>7</td>\n",
       "      <td>8</td>\n",
       "    </tr>\n",
       "  </tbody>\n",
       "</table>\n",
       "</div>"
      ],
      "text/plain": [
       "   max_speed  shield\n",
       "0          1       2\n",
       "1          4       5\n",
       "2          7       8"
      ]
     },
     "execution_count": 25,
     "metadata": {},
     "output_type": "execute_result"
    }
   ],
   "source": [
    "dfcar = pd.DataFrame([[1, 2], [4, 5], [7, 8]], columns=['max_speed', 'shield'])\n",
    "dfcar"
   ]
  },
  {
   "cell_type": "code",
   "execution_count": 28,
   "metadata": {
    "slideshow": {
     "slide_type": "fragment"
    }
   },
   "outputs": [
    {
     "data": {
      "text/html": [
       "<div>\n",
       "<style scoped>\n",
       "    .dataframe tbody tr th:only-of-type {\n",
       "        vertical-align: middle;\n",
       "    }\n",
       "\n",
       "    .dataframe tbody tr th {\n",
       "        vertical-align: top;\n",
       "    }\n",
       "\n",
       "    .dataframe thead th {\n",
       "        text-align: right;\n",
       "    }\n",
       "</style>\n",
       "<table border=\"1\" class=\"dataframe\">\n",
       "  <thead>\n",
       "    <tr style=\"text-align: right;\">\n",
       "      <th></th>\n",
       "      <th>max_speed</th>\n",
       "      <th>shield</th>\n",
       "    </tr>\n",
       "  </thead>\n",
       "  <tbody>\n",
       "    <tr>\n",
       "      <th>0</th>\n",
       "      <td>1</td>\n",
       "      <td>2</td>\n",
       "    </tr>\n",
       "    <tr>\n",
       "      <th>2</th>\n",
       "      <td>7</td>\n",
       "      <td>8</td>\n",
       "    </tr>\n",
       "  </tbody>\n",
       "</table>\n",
       "</div>"
      ],
      "text/plain": [
       "   max_speed  shield\n",
       "0          1       2\n",
       "2          7       8"
      ]
     },
     "execution_count": 28,
     "metadata": {},
     "output_type": "execute_result"
    }
   ],
   "source": [
    "# dfcar.iloc[1,1]           # 取某个具体的值\n",
    "# dfcar.iloc[[0,2],[0,1]]   # 用列表选取指定的行与列构成的DataFrame\n",
    "# dfcar.iloc[1:2,:1]       # 用切片选取指定的行与列构成的DataFrame\n",
    "# dfcar.iloc[1:3,[0,1]]     # 切片与列表搭配选择DataFrame\n",
    "# dfcar.iloc[[0,2],0:3]     # 切片与列表搭配选择DataFrame"
   ]
  },
  {
   "cell_type": "code",
   "execution_count": 29,
   "metadata": {
    "slideshow": {
     "slide_type": "fragment"
    }
   },
   "outputs": [
    {
     "data": {
      "text/html": [
       "<div>\n",
       "<style scoped>\n",
       "    .dataframe tbody tr th:only-of-type {\n",
       "        vertical-align: middle;\n",
       "    }\n",
       "\n",
       "    .dataframe tbody tr th {\n",
       "        vertical-align: top;\n",
       "    }\n",
       "\n",
       "    .dataframe thead th {\n",
       "        text-align: right;\n",
       "    }\n",
       "</style>\n",
       "<table border=\"1\" class=\"dataframe\">\n",
       "  <thead>\n",
       "    <tr style=\"text-align: right;\">\n",
       "      <th></th>\n",
       "      <th>max_speed</th>\n",
       "      <th>shield</th>\n",
       "    </tr>\n",
       "  </thead>\n",
       "  <tbody>\n",
       "    <tr>\n",
       "      <th>alpha</th>\n",
       "      <td>1</td>\n",
       "      <td>2</td>\n",
       "    </tr>\n",
       "    <tr>\n",
       "      <th>beta</th>\n",
       "      <td>4</td>\n",
       "      <td>5</td>\n",
       "    </tr>\n",
       "    <tr>\n",
       "      <th>gamma</th>\n",
       "      <td>7</td>\n",
       "      <td>8</td>\n",
       "    </tr>\n",
       "  </tbody>\n",
       "</table>\n",
       "</div>"
      ],
      "text/plain": [
       "       max_speed  shield\n",
       "alpha          1       2\n",
       "beta           4       5\n",
       "gamma          7       8"
      ]
     },
     "execution_count": 29,
     "metadata": {},
     "output_type": "execute_result"
    }
   ],
   "source": [
    "dfcaridx = dfcar.copy()\n",
    "dfcaridx.index = ['alpha','beta','gamma']\n",
    "dfcaridx"
   ]
  },
  {
   "cell_type": "code",
   "execution_count": 54,
   "metadata": {
    "scrolled": false,
    "slideshow": {
     "slide_type": "fragment"
    }
   },
   "outputs": [
    {
     "data": {
      "text/html": [
       "<div>\n",
       "<style scoped>\n",
       "    .dataframe tbody tr th:only-of-type {\n",
       "        vertical-align: middle;\n",
       "    }\n",
       "\n",
       "    .dataframe tbody tr th {\n",
       "        vertical-align: top;\n",
       "    }\n",
       "\n",
       "    .dataframe thead th {\n",
       "        text-align: right;\n",
       "    }\n",
       "</style>\n",
       "<table border=\"1\" class=\"dataframe\">\n",
       "  <thead>\n",
       "    <tr style=\"text-align: right;\">\n",
       "      <th></th>\n",
       "      <th>max_speed</th>\n",
       "      <th>shield</th>\n",
       "    </tr>\n",
       "  </thead>\n",
       "  <tbody>\n",
       "    <tr>\n",
       "      <th>beta</th>\n",
       "      <td>4</td>\n",
       "      <td>5</td>\n",
       "    </tr>\n",
       "    <tr>\n",
       "      <th>gamma</th>\n",
       "      <td>7</td>\n",
       "      <td>8</td>\n",
       "    </tr>\n",
       "  </tbody>\n",
       "</table>\n",
       "</div>"
      ],
      "text/plain": [
       "       max_speed  shield\n",
       "beta           4       5\n",
       "gamma          7       8"
      ]
     },
     "execution_count": 54,
     "metadata": {},
     "output_type": "execute_result"
    }
   ],
   "source": [
    "# dfcaridx['max_speed']>=4\n",
    "# dfcaridx.loc[(dfcaridx['max_speed']>=4)|(dfcaridx['shield']>5),:]\n",
    "# dfcaridx.loc['beta','shield']                                # 取具体单元格值\n",
    "# dfcaridx.loc[['beta','gamma'],['max_speed','shield']]      # 用列表选取指定的行与列构成的DataFrame\n",
    "# dfcaridx.loc['beta':'delta','two':'flag']                 # 用标签切片选取指定的行与列构成的DataFrame\n",
    "# dfcaridx.loc['beta':'delta',['two','flag']]               # 用标签切片选行，用列表选列，构成DataFrame\n",
    "# dfcaridx.loc[dfbkidx['flag']==True,['one','three']]      # 用逻辑判断选行，用列表选列，构成DataFrame\n",
    "# dfcaridx.loc[(dfbkidx['one']>=2) & (dfbkidx['two']<2),['one','three','flag']]      # 用逻辑判断选行，用列表选列，构成DataFrame"
   ]
  },
  {
   "cell_type": "markdown",
   "metadata": {
    "slideshow": {
     "slide_type": "slide"
    }
   },
   "source": [
    "### 利用`query()`筛选`dataframe`"
   ]
  },
  {
   "cell_type": "markdown",
   "metadata": {
    "slideshow": {
     "slide_type": "fragment"
    }
   },
   "source": [
    "```python\n",
    "df.query(expr, inplace=False)\n",
    "```\n",
    "- `expr`：字符串表达式\n",
    "    - 如果引用外部变量，则须在变量前添加`@`\n",
    "    - 如果列名中有空格，则列名两侧添加``"
   ]
  },
  {
   "cell_type": "code",
   "execution_count": 33,
   "metadata": {
    "slideshow": {
     "slide_type": "fragment"
    }
   },
   "outputs": [
    {
     "data": {
      "text/html": [
       "<div>\n",
       "<style scoped>\n",
       "    .dataframe tbody tr th:only-of-type {\n",
       "        vertical-align: middle;\n",
       "    }\n",
       "\n",
       "    .dataframe tbody tr th {\n",
       "        vertical-align: top;\n",
       "    }\n",
       "\n",
       "    .dataframe thead th {\n",
       "        text-align: right;\n",
       "    }\n",
       "</style>\n",
       "<table border=\"1\" class=\"dataframe\">\n",
       "  <thead>\n",
       "    <tr style=\"text-align: right;\">\n",
       "      <th></th>\n",
       "      <th>A</th>\n",
       "      <th>B</th>\n",
       "      <th>C C</th>\n",
       "    </tr>\n",
       "  </thead>\n",
       "  <tbody>\n",
       "    <tr>\n",
       "      <th>0</th>\n",
       "      <td>1</td>\n",
       "      <td>10</td>\n",
       "      <td>10</td>\n",
       "    </tr>\n",
       "    <tr>\n",
       "      <th>1</th>\n",
       "      <td>2</td>\n",
       "      <td>8</td>\n",
       "      <td>9</td>\n",
       "    </tr>\n",
       "    <tr>\n",
       "      <th>2</th>\n",
       "      <td>3</td>\n",
       "      <td>6</td>\n",
       "      <td>8</td>\n",
       "    </tr>\n",
       "    <tr>\n",
       "      <th>3</th>\n",
       "      <td>4</td>\n",
       "      <td>4</td>\n",
       "      <td>7</td>\n",
       "    </tr>\n",
       "    <tr>\n",
       "      <th>4</th>\n",
       "      <td>5</td>\n",
       "      <td>2</td>\n",
       "      <td>6</td>\n",
       "    </tr>\n",
       "  </tbody>\n",
       "</table>\n",
       "</div>"
      ],
      "text/plain": [
       "   A   B  C C\n",
       "0  1  10   10\n",
       "1  2   8    9\n",
       "2  3   6    8\n",
       "3  4   4    7\n",
       "4  5   2    6"
      ]
     },
     "execution_count": 33,
     "metadata": {},
     "output_type": "execute_result"
    }
   ],
   "source": [
    "dfq = pd.DataFrame({'A': range(1, 6),'B': range(10, 0, -2),'C C': range(10, 5, -1)})\n",
    "dfq"
   ]
  },
  {
   "cell_type": "code",
   "execution_count": 35,
   "metadata": {
    "slideshow": {
     "slide_type": "fragment"
    }
   },
   "outputs": [
    {
     "data": {
      "text/html": [
       "<div>\n",
       "<style scoped>\n",
       "    .dataframe tbody tr th:only-of-type {\n",
       "        vertical-align: middle;\n",
       "    }\n",
       "\n",
       "    .dataframe tbody tr th {\n",
       "        vertical-align: top;\n",
       "    }\n",
       "\n",
       "    .dataframe thead th {\n",
       "        text-align: right;\n",
       "    }\n",
       "</style>\n",
       "<table border=\"1\" class=\"dataframe\">\n",
       "  <thead>\n",
       "    <tr style=\"text-align: right;\">\n",
       "      <th></th>\n",
       "      <th>A</th>\n",
       "      <th>B</th>\n",
       "      <th>C C</th>\n",
       "    </tr>\n",
       "  </thead>\n",
       "  <tbody>\n",
       "    <tr>\n",
       "      <th>3</th>\n",
       "      <td>4</td>\n",
       "      <td>4</td>\n",
       "      <td>7</td>\n",
       "    </tr>\n",
       "    <tr>\n",
       "      <th>4</th>\n",
       "      <td>5</td>\n",
       "      <td>2</td>\n",
       "      <td>6</td>\n",
       "    </tr>\n",
       "  </tbody>\n",
       "</table>\n",
       "</div>"
      ],
      "text/plain": [
       "   A  B  C C\n",
       "3  4  4    7\n",
       "4  5  2    6"
      ]
     },
     "execution_count": 35,
     "metadata": {},
     "output_type": "execute_result"
    }
   ],
   "source": [
    "# dfq.query(\"A>B\")\n",
    "# dfq.query(\"b==`C C`\")\n",
    "# var = 3\n",
    "# dfq.query(\"B>A*@var\")\n",
    "# dfq.query(\"A>3 and B<6\")"
   ]
  },
  {
   "cell_type": "markdown",
   "metadata": {
    "slideshow": {
     "slide_type": "slide"
    }
   },
   "source": [
    "## 数据读取与存储"
   ]
  },
  {
   "cell_type": "markdown",
   "metadata": {
    "slideshow": {
     "slide_type": "fragment"
    }
   },
   "source": [
    "### 读取与存储`.csv`文件"
   ]
  },
  {
   "cell_type": "markdown",
   "metadata": {
    "slideshow": {
     "slide_type": "fragment"
    }
   },
   "source": [
    "```python\n",
    "pd.read_csv('path_to_file.csv')\n",
    "```\n",
    "- `'path_to_file.csv`：要打开的`.csv`文件的完整路径\n",
    "- 返回`DataFrame`对象"
   ]
  },
  {
   "cell_type": "code",
   "execution_count": 55,
   "metadata": {
    "slideshow": {
     "slide_type": "fragment"
    }
   },
   "outputs": [
    {
     "data": {
      "text/plain": [
       "pandas.core.frame.DataFrame"
      ]
     },
     "execution_count": 55,
     "metadata": {},
     "output_type": "execute_result"
    }
   ],
   "source": [
    "acceptDf = pd.read_csv('./data/pandas/accepts.csv')\n",
    "# acceptDf\n",
    "type(acceptDf)"
   ]
  },
  {
   "cell_type": "markdown",
   "metadata": {
    "slideshow": {
     "slide_type": "subslide"
    }
   },
   "source": [
    "```python\n",
    "df.to_csv('path_to_file.csv', index=True)\n",
    "```\n",
    "- `'path_to_file.csv'`：保存的以`.csv`结尾的文件的完整路径\n",
    "- `index`：是否把行索引写入到`.csv`文件中，默认是写入"
   ]
  },
  {
   "cell_type": "code",
   "execution_count": 23,
   "metadata": {
    "slideshow": {
     "slide_type": "fragment"
    }
   },
   "outputs": [],
   "source": [
    "dfcaridx.to_csv('./data/explore/dfcaridx.csv')"
   ]
  },
  {
   "cell_type": "markdown",
   "metadata": {
    "slideshow": {
     "slide_type": "slide"
    }
   },
   "source": [
    "### 读取与存储`excel`文件"
   ]
  },
  {
   "cell_type": "markdown",
   "metadata": {
    "slideshow": {
     "slide_type": "fragment"
    }
   },
   "source": [
    "- 安装excel的支持包\n",
    "    + `Windows`\n",
    "        - `!pip install xlrd`\n",
    "        - `!pip install openpyxl`\n",
    "    + `Mac`\n",
    "        - `!pip3 install xlrd`\n",
    "        - `!pip3 install openpyxl`"
   ]
  },
  {
   "cell_type": "markdown",
   "metadata": {
    "slideshow": {
     "slide_type": "fragment"
    }
   },
   "source": [
    "```python\n",
    "pd.read_excel('path_to_file.xls', sheet_name='Sheet1',engine=None)\n",
    "```\n",
    "- `'path_to_file.xls'`：要打开的excel文件的完整路径\n",
    "- `sheet_name`：打开哪张表格；`sheet_name=['Sheet1','Sheet2','Sheet3']`打开多张表格；`sheet_name=None`打开所有表格\n",
    "- `engine`：默认为`xlrd`，能够打开旧的excel，例如'.xls'，新的'.xlsx'需要设置为`openpyxl`"
   ]
  },
  {
   "cell_type": "code",
   "execution_count": 25,
   "metadata": {
    "slideshow": {
     "slide_type": "fragment"
    }
   },
   "outputs": [
    {
     "data": {
      "text/plain": [
       "pandas.core.frame.DataFrame"
      ]
     },
     "execution_count": 25,
     "metadata": {},
     "output_type": "execute_result"
    }
   ],
   "source": [
    "drinks = pd.read_excel('./data/explore/drinks.xlsx')\n",
    "type(drinks)"
   ]
  },
  {
   "cell_type": "markdown",
   "metadata": {
    "slideshow": {
     "slide_type": "subslide"
    }
   },
   "source": [
    "```python\n",
    "df.to_excel('path_to_file.xlsx', sheet_name='Sheet1')\n",
    "```\n",
    "- `'path_to_file.xls'`：要保存的excel文件的完整路径"
   ]
  },
  {
   "cell_type": "code",
   "execution_count": 26,
   "metadata": {
    "slideshow": {
     "slide_type": "fragment"
    }
   },
   "outputs": [],
   "source": [
    "# dfbkidx.to_excel('./data/explore/dfbkidx.xlsx', sheet_name='Sheet1')"
   ]
  },
  {
   "cell_type": "markdown",
   "metadata": {
    "slideshow": {
     "slide_type": "slide"
    }
   },
   "source": [
    "## 查看`DataFrame`信息"
   ]
  },
  {
   "cell_type": "markdown",
   "metadata": {
    "slideshow": {
     "slide_type": "fragment"
    }
   },
   "source": [
    "<p class=\"h4\">(1) 查看数据的头和尾</p>"
   ]
  },
  {
   "cell_type": "markdown",
   "metadata": {
    "slideshow": {
     "slide_type": "fragment"
    }
   },
   "source": [
    "```python\n",
    "df.head([n=5])\n",
    "df.tail([n=5])\n",
    "```\n",
    "- `n`：显示的行数，默认是5"
   ]
  },
  {
   "cell_type": "code",
   "execution_count": 27,
   "metadata": {
    "slideshow": {
     "slide_type": "fragment"
    }
   },
   "outputs": [
    {
     "data": {
      "text/html": [
       "<div>\n",
       "<style scoped>\n",
       "    .dataframe tbody tr th:only-of-type {\n",
       "        vertical-align: middle;\n",
       "    }\n",
       "\n",
       "    .dataframe tbody tr th {\n",
       "        vertical-align: top;\n",
       "    }\n",
       "\n",
       "    .dataframe thead th {\n",
       "        text-align: right;\n",
       "    }\n",
       "</style>\n",
       "<table border=\"1\" class=\"dataframe\">\n",
       "  <thead>\n",
       "    <tr style=\"text-align: right;\">\n",
       "      <th></th>\n",
       "      <th>application_id</th>\n",
       "      <th>account_number</th>\n",
       "      <th>bad_ind</th>\n",
       "      <th>vehicle_year</th>\n",
       "      <th>vehicle_make</th>\n",
       "      <th>bankruptcy_ind</th>\n",
       "      <th>tot_derog</th>\n",
       "      <th>tot_tr</th>\n",
       "      <th>age_oldest_tr</th>\n",
       "      <th>tot_open_tr</th>\n",
       "      <th>...</th>\n",
       "      <th>fico_score</th>\n",
       "      <th>purch_price</th>\n",
       "      <th>msrp</th>\n",
       "      <th>down_pyt</th>\n",
       "      <th>loan_term</th>\n",
       "      <th>loan_amt</th>\n",
       "      <th>ltv</th>\n",
       "      <th>tot_income</th>\n",
       "      <th>veh_mileage</th>\n",
       "      <th>used_ind</th>\n",
       "    </tr>\n",
       "  </thead>\n",
       "  <tbody>\n",
       "    <tr>\n",
       "      <th>0</th>\n",
       "      <td>2314049</td>\n",
       "      <td>11613</td>\n",
       "      <td>1</td>\n",
       "      <td>1998.0</td>\n",
       "      <td>FORD</td>\n",
       "      <td>N</td>\n",
       "      <td>7.0</td>\n",
       "      <td>9.0</td>\n",
       "      <td>64.0</td>\n",
       "      <td>2.0</td>\n",
       "      <td>...</td>\n",
       "      <td>650.0</td>\n",
       "      <td>17200.00</td>\n",
       "      <td>17350.0</td>\n",
       "      <td>0.00</td>\n",
       "      <td>36</td>\n",
       "      <td>17200.00</td>\n",
       "      <td>99.0</td>\n",
       "      <td>6550.00</td>\n",
       "      <td>24000.0</td>\n",
       "      <td>1</td>\n",
       "    </tr>\n",
       "    <tr>\n",
       "      <th>1</th>\n",
       "      <td>63539</td>\n",
       "      <td>13449</td>\n",
       "      <td>0</td>\n",
       "      <td>2000.0</td>\n",
       "      <td>DAEWOO</td>\n",
       "      <td>N</td>\n",
       "      <td>0.0</td>\n",
       "      <td>21.0</td>\n",
       "      <td>240.0</td>\n",
       "      <td>11.0</td>\n",
       "      <td>...</td>\n",
       "      <td>649.0</td>\n",
       "      <td>19588.54</td>\n",
       "      <td>19788.0</td>\n",
       "      <td>683.54</td>\n",
       "      <td>60</td>\n",
       "      <td>19588.54</td>\n",
       "      <td>99.0</td>\n",
       "      <td>4666.67</td>\n",
       "      <td>22.0</td>\n",
       "      <td>0</td>\n",
       "    </tr>\n",
       "    <tr>\n",
       "      <th>2</th>\n",
       "      <td>7328510</td>\n",
       "      <td>14323</td>\n",
       "      <td>1</td>\n",
       "      <td>1998.0</td>\n",
       "      <td>PLYMOUTH</td>\n",
       "      <td>N</td>\n",
       "      <td>7.0</td>\n",
       "      <td>10.0</td>\n",
       "      <td>60.0</td>\n",
       "      <td>NaN</td>\n",
       "      <td>...</td>\n",
       "      <td>613.0</td>\n",
       "      <td>13595.00</td>\n",
       "      <td>11450.0</td>\n",
       "      <td>0.00</td>\n",
       "      <td>60</td>\n",
       "      <td>10500.00</td>\n",
       "      <td>92.0</td>\n",
       "      <td>2000.00</td>\n",
       "      <td>19600.0</td>\n",
       "      <td>1</td>\n",
       "    </tr>\n",
       "    <tr>\n",
       "      <th>3</th>\n",
       "      <td>8725187</td>\n",
       "      <td>15359</td>\n",
       "      <td>1</td>\n",
       "      <td>1997.0</td>\n",
       "      <td>FORD</td>\n",
       "      <td>N</td>\n",
       "      <td>3.0</td>\n",
       "      <td>10.0</td>\n",
       "      <td>35.0</td>\n",
       "      <td>5.0</td>\n",
       "      <td>...</td>\n",
       "      <td>603.0</td>\n",
       "      <td>12999.00</td>\n",
       "      <td>12100.0</td>\n",
       "      <td>3099.00</td>\n",
       "      <td>60</td>\n",
       "      <td>10800.00</td>\n",
       "      <td>118.0</td>\n",
       "      <td>1500.00</td>\n",
       "      <td>10000.0</td>\n",
       "      <td>1</td>\n",
       "    </tr>\n",
       "    <tr>\n",
       "      <th>4</th>\n",
       "      <td>4275127</td>\n",
       "      <td>15812</td>\n",
       "      <td>0</td>\n",
       "      <td>2000.0</td>\n",
       "      <td>TOYOTA</td>\n",
       "      <td>N</td>\n",
       "      <td>0.0</td>\n",
       "      <td>10.0</td>\n",
       "      <td>104.0</td>\n",
       "      <td>2.0</td>\n",
       "      <td>...</td>\n",
       "      <td>764.0</td>\n",
       "      <td>26328.04</td>\n",
       "      <td>22024.0</td>\n",
       "      <td>0.00</td>\n",
       "      <td>60</td>\n",
       "      <td>26328.04</td>\n",
       "      <td>122.0</td>\n",
       "      <td>4144.00</td>\n",
       "      <td>14.0</td>\n",
       "      <td>0</td>\n",
       "    </tr>\n",
       "  </tbody>\n",
       "</table>\n",
       "<p>5 rows × 24 columns</p>\n",
       "</div>"
      ],
      "text/plain": [
       "   application_id  account_number  bad_ind  vehicle_year vehicle_make  \\\n",
       "0         2314049           11613        1        1998.0         FORD   \n",
       "1           63539           13449        0        2000.0       DAEWOO   \n",
       "2         7328510           14323        1        1998.0     PLYMOUTH   \n",
       "3         8725187           15359        1        1997.0         FORD   \n",
       "4         4275127           15812        0        2000.0       TOYOTA   \n",
       "\n",
       "  bankruptcy_ind  tot_derog  tot_tr  age_oldest_tr  tot_open_tr  ...  \\\n",
       "0              N        7.0     9.0           64.0          2.0  ...   \n",
       "1              N        0.0    21.0          240.0         11.0  ...   \n",
       "2              N        7.0    10.0           60.0          NaN  ...   \n",
       "3              N        3.0    10.0           35.0          5.0  ...   \n",
       "4              N        0.0    10.0          104.0          2.0  ...   \n",
       "\n",
       "   fico_score  purch_price     msrp  down_pyt  loan_term  loan_amt    ltv  \\\n",
       "0       650.0     17200.00  17350.0      0.00         36  17200.00   99.0   \n",
       "1       649.0     19588.54  19788.0    683.54         60  19588.54   99.0   \n",
       "2       613.0     13595.00  11450.0      0.00         60  10500.00   92.0   \n",
       "3       603.0     12999.00  12100.0   3099.00         60  10800.00  118.0   \n",
       "4       764.0     26328.04  22024.0      0.00         60  26328.04  122.0   \n",
       "\n",
       "   tot_income  veh_mileage  used_ind  \n",
       "0     6550.00      24000.0         1  \n",
       "1     4666.67         22.0         0  \n",
       "2     2000.00      19600.0         1  \n",
       "3     1500.00      10000.0         1  \n",
       "4     4144.00         14.0         0  \n",
       "\n",
       "[5 rows x 24 columns]"
      ]
     },
     "execution_count": 27,
     "metadata": {},
     "output_type": "execute_result"
    },
    {
     "data": {
      "text/html": [
       "<div>\n",
       "<style scoped>\n",
       "    .dataframe tbody tr th:only-of-type {\n",
       "        vertical-align: middle;\n",
       "    }\n",
       "\n",
       "    .dataframe tbody tr th {\n",
       "        vertical-align: top;\n",
       "    }\n",
       "\n",
       "    .dataframe thead th {\n",
       "        text-align: right;\n",
       "    }\n",
       "</style>\n",
       "<table border=\"1\" class=\"dataframe\">\n",
       "  <thead>\n",
       "    <tr style=\"text-align: right;\">\n",
       "      <th></th>\n",
       "      <th>application_id</th>\n",
       "      <th>account_number</th>\n",
       "      <th>bad_ind</th>\n",
       "      <th>vehicle_year</th>\n",
       "      <th>vehicle_make</th>\n",
       "      <th>bankruptcy_ind</th>\n",
       "      <th>tot_derog</th>\n",
       "      <th>tot_tr</th>\n",
       "      <th>age_oldest_tr</th>\n",
       "      <th>tot_open_tr</th>\n",
       "      <th>...</th>\n",
       "      <th>fico_score</th>\n",
       "      <th>purch_price</th>\n",
       "      <th>msrp</th>\n",
       "      <th>down_pyt</th>\n",
       "      <th>loan_term</th>\n",
       "      <th>loan_amt</th>\n",
       "      <th>ltv</th>\n",
       "      <th>tot_income</th>\n",
       "      <th>veh_mileage</th>\n",
       "      <th>used_ind</th>\n",
       "    </tr>\n",
       "  </thead>\n",
       "  <tbody>\n",
       "    <tr>\n",
       "      <th>5835</th>\n",
       "      <td>9205520</td>\n",
       "      <td>9988480</td>\n",
       "      <td>0</td>\n",
       "      <td>1999.0</td>\n",
       "      <td>PONTIAC</td>\n",
       "      <td>N</td>\n",
       "      <td>1.0</td>\n",
       "      <td>21.0</td>\n",
       "      <td>100.0</td>\n",
       "      <td>4.0</td>\n",
       "      <td>...</td>\n",
       "      <td>714.0</td>\n",
       "      <td>21000.00</td>\n",
       "      <td>18000.0</td>\n",
       "      <td>0.0</td>\n",
       "      <td>66</td>\n",
       "      <td>21000.00</td>\n",
       "      <td>123.0</td>\n",
       "      <td>2958.33</td>\n",
       "      <td>30000.0</td>\n",
       "      <td>1</td>\n",
       "    </tr>\n",
       "    <tr>\n",
       "      <th>5836</th>\n",
       "      <td>551247</td>\n",
       "      <td>9993925</td>\n",
       "      <td>0</td>\n",
       "      <td>1999.0</td>\n",
       "      <td>MAZDA</td>\n",
       "      <td>N</td>\n",
       "      <td>0.0</td>\n",
       "      <td>12.0</td>\n",
       "      <td>118.0</td>\n",
       "      <td>3.0</td>\n",
       "      <td>...</td>\n",
       "      <td>705.0</td>\n",
       "      <td>33388.40</td>\n",
       "      <td>29575.0</td>\n",
       "      <td>4256.1</td>\n",
       "      <td>60</td>\n",
       "      <td>29132.30</td>\n",
       "      <td>99.0</td>\n",
       "      <td>3416.67</td>\n",
       "      <td>18.0</td>\n",
       "      <td>1</td>\n",
       "    </tr>\n",
       "    <tr>\n",
       "      <th>5837</th>\n",
       "      <td>7820738</td>\n",
       "      <td>9994277</td>\n",
       "      <td>0</td>\n",
       "      <td>1996.0</td>\n",
       "      <td>FORD</td>\n",
       "      <td>N</td>\n",
       "      <td>3.0</td>\n",
       "      <td>15.0</td>\n",
       "      <td>116.0</td>\n",
       "      <td>NaN</td>\n",
       "      <td>...</td>\n",
       "      <td>714.0</td>\n",
       "      <td>7316.50</td>\n",
       "      <td>5500.0</td>\n",
       "      <td>1200.0</td>\n",
       "      <td>48</td>\n",
       "      <td>4116.50</td>\n",
       "      <td>82.0</td>\n",
       "      <td>1300.00</td>\n",
       "      <td>69386.0</td>\n",
       "      <td>1</td>\n",
       "    </tr>\n",
       "    <tr>\n",
       "      <th>5838</th>\n",
       "      <td>8856051</td>\n",
       "      <td>9996910</td>\n",
       "      <td>0</td>\n",
       "      <td>2000.0</td>\n",
       "      <td>CHEVY</td>\n",
       "      <td>N</td>\n",
       "      <td>0.0</td>\n",
       "      <td>30.0</td>\n",
       "      <td>285.0</td>\n",
       "      <td>NaN</td>\n",
       "      <td>...</td>\n",
       "      <td>725.0</td>\n",
       "      <td>33886.66</td>\n",
       "      <td>28873.0</td>\n",
       "      <td>2000.0</td>\n",
       "      <td>63</td>\n",
       "      <td>31886.66</td>\n",
       "      <td>114.0</td>\n",
       "      <td>5135.00</td>\n",
       "      <td>15.0</td>\n",
       "      <td>0</td>\n",
       "    </tr>\n",
       "    <tr>\n",
       "      <th>5839</th>\n",
       "      <td>3879206</td>\n",
       "      <td>10000510</td>\n",
       "      <td>0</td>\n",
       "      <td>1995.0</td>\n",
       "      <td>CHEVY</td>\n",
       "      <td>N</td>\n",
       "      <td>9.0</td>\n",
       "      <td>16.0</td>\n",
       "      <td>143.0</td>\n",
       "      <td>NaN</td>\n",
       "      <td>...</td>\n",
       "      <td>650.0</td>\n",
       "      <td>16490.00</td>\n",
       "      <td>14000.0</td>\n",
       "      <td>2500.0</td>\n",
       "      <td>60</td>\n",
       "      <td>13990.00</td>\n",
       "      <td>112.0</td>\n",
       "      <td>3150.00</td>\n",
       "      <td>72000.0</td>\n",
       "      <td>1</td>\n",
       "    </tr>\n",
       "    <tr>\n",
       "      <th>5840</th>\n",
       "      <td>2291068</td>\n",
       "      <td>10005156</td>\n",
       "      <td>0</td>\n",
       "      <td>1997.0</td>\n",
       "      <td>PORSCHE</td>\n",
       "      <td>N</td>\n",
       "      <td>0.0</td>\n",
       "      <td>21.0</td>\n",
       "      <td>417.0</td>\n",
       "      <td>4.0</td>\n",
       "      <td>...</td>\n",
       "      <td>801.0</td>\n",
       "      <td>0.00</td>\n",
       "      <td>31000.0</td>\n",
       "      <td>0.0</td>\n",
       "      <td>36</td>\n",
       "      <td>31000.00</td>\n",
       "      <td>100.0</td>\n",
       "      <td>5000.00</td>\n",
       "      <td>45000.0</td>\n",
       "      <td>1</td>\n",
       "    </tr>\n",
       "    <tr>\n",
       "      <th>5841</th>\n",
       "      <td>7647192</td>\n",
       "      <td>10005616</td>\n",
       "      <td>0</td>\n",
       "      <td>2000.0</td>\n",
       "      <td>TOYOTA</td>\n",
       "      <td>Y</td>\n",
       "      <td>2.0</td>\n",
       "      <td>8.0</td>\n",
       "      <td>62.0</td>\n",
       "      <td>5.0</td>\n",
       "      <td>...</td>\n",
       "      <td>628.0</td>\n",
       "      <td>24970.00</td>\n",
       "      <td>22024.0</td>\n",
       "      <td>0.0</td>\n",
       "      <td>60</td>\n",
       "      <td>24970.00</td>\n",
       "      <td>117.0</td>\n",
       "      <td>2400.00</td>\n",
       "      <td>21.0</td>\n",
       "      <td>0</td>\n",
       "    </tr>\n",
       "    <tr>\n",
       "      <th>5842</th>\n",
       "      <td>5993246</td>\n",
       "      <td>10006591</td>\n",
       "      <td>0</td>\n",
       "      <td>1997.0</td>\n",
       "      <td>CHEVROLET</td>\n",
       "      <td>N</td>\n",
       "      <td>0.0</td>\n",
       "      <td>6.0</td>\n",
       "      <td>30.0</td>\n",
       "      <td>4.0</td>\n",
       "      <td>...</td>\n",
       "      <td>735.0</td>\n",
       "      <td>20949.00</td>\n",
       "      <td>18950.0</td>\n",
       "      <td>0.0</td>\n",
       "      <td>36</td>\n",
       "      <td>20949.00</td>\n",
       "      <td>113.0</td>\n",
       "      <td>1837.50</td>\n",
       "      <td>25000.0</td>\n",
       "      <td>1</td>\n",
       "    </tr>\n",
       "    <tr>\n",
       "      <th>5843</th>\n",
       "      <td>4766566</td>\n",
       "      <td>10010208</td>\n",
       "      <td>0</td>\n",
       "      <td>1999.0</td>\n",
       "      <td>MERCURY</td>\n",
       "      <td>N</td>\n",
       "      <td>0.0</td>\n",
       "      <td>9.0</td>\n",
       "      <td>67.0</td>\n",
       "      <td>7.0</td>\n",
       "      <td>...</td>\n",
       "      <td>737.0</td>\n",
       "      <td>22400.00</td>\n",
       "      <td>28700.0</td>\n",
       "      <td>5300.0</td>\n",
       "      <td>48</td>\n",
       "      <td>17100.00</td>\n",
       "      <td>60.0</td>\n",
       "      <td>28000.00</td>\n",
       "      <td>0.0</td>\n",
       "      <td>0</td>\n",
       "    </tr>\n",
       "    <tr>\n",
       "      <th>5844</th>\n",
       "      <td>1928782</td>\n",
       "      <td>10010219</td>\n",
       "      <td>0</td>\n",
       "      <td>2000.0</td>\n",
       "      <td>JEEP</td>\n",
       "      <td>N</td>\n",
       "      <td>1.0</td>\n",
       "      <td>34.0</td>\n",
       "      <td>130.0</td>\n",
       "      <td>8.0</td>\n",
       "      <td>...</td>\n",
       "      <td>741.0</td>\n",
       "      <td>19609.90</td>\n",
       "      <td>20145.0</td>\n",
       "      <td>0.0</td>\n",
       "      <td>52</td>\n",
       "      <td>19609.90</td>\n",
       "      <td>97.0</td>\n",
       "      <td>2700.00</td>\n",
       "      <td>12.0</td>\n",
       "      <td>0</td>\n",
       "    </tr>\n",
       "  </tbody>\n",
       "</table>\n",
       "<p>10 rows × 24 columns</p>\n",
       "</div>"
      ],
      "text/plain": [
       "      application_id  account_number  bad_ind  vehicle_year vehicle_make  \\\n",
       "5835         9205520         9988480        0        1999.0      PONTIAC   \n",
       "5836          551247         9993925        0        1999.0        MAZDA   \n",
       "5837         7820738         9994277        0        1996.0         FORD   \n",
       "5838         8856051         9996910        0        2000.0        CHEVY   \n",
       "5839         3879206        10000510        0        1995.0        CHEVY   \n",
       "5840         2291068        10005156        0        1997.0      PORSCHE   \n",
       "5841         7647192        10005616        0        2000.0       TOYOTA   \n",
       "5842         5993246        10006591        0        1997.0    CHEVROLET   \n",
       "5843         4766566        10010208        0        1999.0      MERCURY   \n",
       "5844         1928782        10010219        0        2000.0         JEEP   \n",
       "\n",
       "     bankruptcy_ind  tot_derog  tot_tr  age_oldest_tr  tot_open_tr  ...  \\\n",
       "5835              N        1.0    21.0          100.0          4.0  ...   \n",
       "5836              N        0.0    12.0          118.0          3.0  ...   \n",
       "5837              N        3.0    15.0          116.0          NaN  ...   \n",
       "5838              N        0.0    30.0          285.0          NaN  ...   \n",
       "5839              N        9.0    16.0          143.0          NaN  ...   \n",
       "5840              N        0.0    21.0          417.0          4.0  ...   \n",
       "5841              Y        2.0     8.0           62.0          5.0  ...   \n",
       "5842              N        0.0     6.0           30.0          4.0  ...   \n",
       "5843              N        0.0     9.0           67.0          7.0  ...   \n",
       "5844              N        1.0    34.0          130.0          8.0  ...   \n",
       "\n",
       "      fico_score  purch_price     msrp  down_pyt  loan_term  loan_amt    ltv  \\\n",
       "5835       714.0     21000.00  18000.0       0.0         66  21000.00  123.0   \n",
       "5836       705.0     33388.40  29575.0    4256.1         60  29132.30   99.0   \n",
       "5837       714.0      7316.50   5500.0    1200.0         48   4116.50   82.0   \n",
       "5838       725.0     33886.66  28873.0    2000.0         63  31886.66  114.0   \n",
       "5839       650.0     16490.00  14000.0    2500.0         60  13990.00  112.0   \n",
       "5840       801.0         0.00  31000.0       0.0         36  31000.00  100.0   \n",
       "5841       628.0     24970.00  22024.0       0.0         60  24970.00  117.0   \n",
       "5842       735.0     20949.00  18950.0       0.0         36  20949.00  113.0   \n",
       "5843       737.0     22400.00  28700.0    5300.0         48  17100.00   60.0   \n",
       "5844       741.0     19609.90  20145.0       0.0         52  19609.90   97.0   \n",
       "\n",
       "      tot_income  veh_mileage  used_ind  \n",
       "5835     2958.33      30000.0         1  \n",
       "5836     3416.67         18.0         1  \n",
       "5837     1300.00      69386.0         1  \n",
       "5838     5135.00         15.0         0  \n",
       "5839     3150.00      72000.0         1  \n",
       "5840     5000.00      45000.0         1  \n",
       "5841     2400.00         21.0         0  \n",
       "5842     1837.50      25000.0         1  \n",
       "5843    28000.00          0.0         0  \n",
       "5844     2700.00         12.0         0  \n",
       "\n",
       "[10 rows x 24 columns]"
      ]
     },
     "execution_count": 27,
     "metadata": {},
     "output_type": "execute_result"
    }
   ],
   "source": [
    "acceptDf.head()\n",
    "acceptDf.tail(10)"
   ]
  },
  {
   "cell_type": "markdown",
   "metadata": {
    "slideshow": {
     "slide_type": "subslide"
    }
   },
   "source": [
    "<p class=\"h4\">(2) 查看数据的行索引与列名</p>"
   ]
  },
  {
   "cell_type": "markdown",
   "metadata": {
    "slideshow": {
     "slide_type": "fragment"
    }
   },
   "source": [
    "```python\n",
    "df.index          # 行索引\n",
    "df.columns         # 列名\n",
    "```"
   ]
  },
  {
   "cell_type": "code",
   "execution_count": 28,
   "metadata": {
    "slideshow": {
     "slide_type": "fragment"
    }
   },
   "outputs": [
    {
     "data": {
      "text/plain": [
       "RangeIndex(start=0, stop=5845, step=1)"
      ]
     },
     "execution_count": 28,
     "metadata": {},
     "output_type": "execute_result"
    },
    {
     "data": {
      "text/plain": [
       "Index(['application_id', 'account_number', 'bad_ind', 'vehicle_year',\n",
       "       'vehicle_make', 'bankruptcy_ind', 'tot_derog', 'tot_tr',\n",
       "       'age_oldest_tr', 'tot_open_tr', 'tot_rev_tr', 'tot_rev_debt',\n",
       "       'tot_rev_line', 'rev_util', 'fico_score', 'purch_price', 'msrp',\n",
       "       'down_pyt', 'loan_term', 'loan_amt', 'ltv', 'tot_income', 'veh_mileage',\n",
       "       'used_ind'],\n",
       "      dtype='object')"
      ]
     },
     "execution_count": 28,
     "metadata": {},
     "output_type": "execute_result"
    }
   ],
   "source": [
    "acceptDf.index\n",
    "acceptDf.columns"
   ]
  },
  {
   "cell_type": "markdown",
   "metadata": {
    "slideshow": {
     "slide_type": "subslide"
    }
   },
   "source": [
    "<p class=\"h4\">(3) 查看数据的维度</p>"
   ]
  },
  {
   "cell_type": "markdown",
   "metadata": {
    "slideshow": {
     "slide_type": "fragment"
    }
   },
   "source": [
    "```python\n",
    "df.shape\n",
    "```\n",
    "- 返回一个元组包含2个元素，第一是数据的行数，第二个是数据列数"
   ]
  },
  {
   "cell_type": "code",
   "execution_count": 29,
   "metadata": {
    "slideshow": {
     "slide_type": "fragment"
    }
   },
   "outputs": [
    {
     "data": {
      "text/plain": [
       "(5845, 24)"
      ]
     },
     "execution_count": 29,
     "metadata": {},
     "output_type": "execute_result"
    }
   ],
   "source": [
    "acceptDf.shape"
   ]
  },
  {
   "cell_type": "markdown",
   "metadata": {
    "slideshow": {
     "slide_type": "slide"
    }
   },
   "source": [
    "# 数据清理"
   ]
  },
  {
   "cell_type": "code",
   "execution_count": 56,
   "metadata": {
    "slideshow": {
     "slide_type": "fragment"
    }
   },
   "outputs": [],
   "source": [
    "accept = pd.read_csv('./data/pandas/accepts.csv')"
   ]
  },
  {
   "cell_type": "markdown",
   "metadata": {
    "slideshow": {
     "slide_type": "slide"
    }
   },
   "source": [
    "## 缺失值（missing value）"
   ]
  },
  {
   "cell_type": "markdown",
   "metadata": {
    "slideshow": {
     "slide_type": "fragment"
    }
   },
   "source": [
    "- 在Python中用`NaN`（Not a Number）表示缺失值"
   ]
  },
  {
   "cell_type": "code",
   "execution_count": 19,
   "metadata": {
    "slideshow": {
     "slide_type": "fragment"
    }
   },
   "outputs": [
    {
     "data": {
      "text/html": [
       "<div>\n",
       "<style scoped>\n",
       "    .dataframe tbody tr th:only-of-type {\n",
       "        vertical-align: middle;\n",
       "    }\n",
       "\n",
       "    .dataframe tbody tr th {\n",
       "        vertical-align: top;\n",
       "    }\n",
       "\n",
       "    .dataframe thead th {\n",
       "        text-align: right;\n",
       "    }\n",
       "</style>\n",
       "<table border=\"1\" class=\"dataframe\">\n",
       "  <thead>\n",
       "    <tr style=\"text-align: right;\">\n",
       "      <th></th>\n",
       "      <th>application_id</th>\n",
       "      <th>account_number</th>\n",
       "      <th>bad_ind</th>\n",
       "      <th>vehicle_year</th>\n",
       "      <th>vehicle_make</th>\n",
       "      <th>bankruptcy_ind</th>\n",
       "      <th>tot_derog</th>\n",
       "      <th>tot_tr</th>\n",
       "      <th>age_oldest_tr</th>\n",
       "      <th>tot_open_tr</th>\n",
       "      <th>...</th>\n",
       "      <th>fico_score</th>\n",
       "      <th>purch_price</th>\n",
       "      <th>msrp</th>\n",
       "      <th>down_pyt</th>\n",
       "      <th>loan_term</th>\n",
       "      <th>loan_amt</th>\n",
       "      <th>ltv</th>\n",
       "      <th>tot_income</th>\n",
       "      <th>veh_mileage</th>\n",
       "      <th>used_ind</th>\n",
       "    </tr>\n",
       "  </thead>\n",
       "  <tbody>\n",
       "    <tr>\n",
       "      <th>0</th>\n",
       "      <td>2314049</td>\n",
       "      <td>11613</td>\n",
       "      <td>1</td>\n",
       "      <td>1998.0</td>\n",
       "      <td>FORD</td>\n",
       "      <td>N</td>\n",
       "      <td>7.0</td>\n",
       "      <td>9.0</td>\n",
       "      <td>64.0</td>\n",
       "      <td>2.0</td>\n",
       "      <td>...</td>\n",
       "      <td>650.0</td>\n",
       "      <td>17200.00</td>\n",
       "      <td>17350.0</td>\n",
       "      <td>0.00</td>\n",
       "      <td>36</td>\n",
       "      <td>17200.00</td>\n",
       "      <td>99.0</td>\n",
       "      <td>6550.00</td>\n",
       "      <td>24000.0</td>\n",
       "      <td>1</td>\n",
       "    </tr>\n",
       "    <tr>\n",
       "      <th>1</th>\n",
       "      <td>63539</td>\n",
       "      <td>13449</td>\n",
       "      <td>0</td>\n",
       "      <td>2000.0</td>\n",
       "      <td>DAEWOO</td>\n",
       "      <td>N</td>\n",
       "      <td>0.0</td>\n",
       "      <td>21.0</td>\n",
       "      <td>240.0</td>\n",
       "      <td>11.0</td>\n",
       "      <td>...</td>\n",
       "      <td>649.0</td>\n",
       "      <td>19588.54</td>\n",
       "      <td>19788.0</td>\n",
       "      <td>683.54</td>\n",
       "      <td>60</td>\n",
       "      <td>19588.54</td>\n",
       "      <td>99.0</td>\n",
       "      <td>4666.67</td>\n",
       "      <td>22.0</td>\n",
       "      <td>0</td>\n",
       "    </tr>\n",
       "    <tr>\n",
       "      <th>2</th>\n",
       "      <td>7328510</td>\n",
       "      <td>14323</td>\n",
       "      <td>1</td>\n",
       "      <td>1998.0</td>\n",
       "      <td>PLYMOUTH</td>\n",
       "      <td>N</td>\n",
       "      <td>7.0</td>\n",
       "      <td>10.0</td>\n",
       "      <td>60.0</td>\n",
       "      <td>NaN</td>\n",
       "      <td>...</td>\n",
       "      <td>613.0</td>\n",
       "      <td>13595.00</td>\n",
       "      <td>11450.0</td>\n",
       "      <td>0.00</td>\n",
       "      <td>60</td>\n",
       "      <td>10500.00</td>\n",
       "      <td>92.0</td>\n",
       "      <td>2000.00</td>\n",
       "      <td>19600.0</td>\n",
       "      <td>1</td>\n",
       "    </tr>\n",
       "    <tr>\n",
       "      <th>3</th>\n",
       "      <td>8725187</td>\n",
       "      <td>15359</td>\n",
       "      <td>1</td>\n",
       "      <td>1997.0</td>\n",
       "      <td>FORD</td>\n",
       "      <td>N</td>\n",
       "      <td>3.0</td>\n",
       "      <td>10.0</td>\n",
       "      <td>35.0</td>\n",
       "      <td>5.0</td>\n",
       "      <td>...</td>\n",
       "      <td>603.0</td>\n",
       "      <td>12999.00</td>\n",
       "      <td>12100.0</td>\n",
       "      <td>3099.00</td>\n",
       "      <td>60</td>\n",
       "      <td>10800.00</td>\n",
       "      <td>118.0</td>\n",
       "      <td>1500.00</td>\n",
       "      <td>10000.0</td>\n",
       "      <td>1</td>\n",
       "    </tr>\n",
       "    <tr>\n",
       "      <th>4</th>\n",
       "      <td>4275127</td>\n",
       "      <td>15812</td>\n",
       "      <td>0</td>\n",
       "      <td>2000.0</td>\n",
       "      <td>TOYOTA</td>\n",
       "      <td>N</td>\n",
       "      <td>0.0</td>\n",
       "      <td>10.0</td>\n",
       "      <td>104.0</td>\n",
       "      <td>2.0</td>\n",
       "      <td>...</td>\n",
       "      <td>764.0</td>\n",
       "      <td>26328.04</td>\n",
       "      <td>22024.0</td>\n",
       "      <td>0.00</td>\n",
       "      <td>60</td>\n",
       "      <td>26328.04</td>\n",
       "      <td>122.0</td>\n",
       "      <td>4144.00</td>\n",
       "      <td>14.0</td>\n",
       "      <td>0</td>\n",
       "    </tr>\n",
       "    <tr>\n",
       "      <th>5</th>\n",
       "      <td>8712513</td>\n",
       "      <td>16979</td>\n",
       "      <td>0</td>\n",
       "      <td>2000.0</td>\n",
       "      <td>DODGE</td>\n",
       "      <td>Y</td>\n",
       "      <td>2.0</td>\n",
       "      <td>15.0</td>\n",
       "      <td>136.0</td>\n",
       "      <td>4.0</td>\n",
       "      <td>...</td>\n",
       "      <td>680.0</td>\n",
       "      <td>26272.72</td>\n",
       "      <td>26375.0</td>\n",
       "      <td>0.00</td>\n",
       "      <td>36</td>\n",
       "      <td>26272.72</td>\n",
       "      <td>100.0</td>\n",
       "      <td>5400.00</td>\n",
       "      <td>1.0</td>\n",
       "      <td>0</td>\n",
       "    </tr>\n",
       "    <tr>\n",
       "      <th>6</th>\n",
       "      <td>2063896</td>\n",
       "      <td>17842</td>\n",
       "      <td>0</td>\n",
       "      <td>2000.0</td>\n",
       "      <td>INFINITI</td>\n",
       "      <td>N</td>\n",
       "      <td>0.0</td>\n",
       "      <td>13.0</td>\n",
       "      <td>339.0</td>\n",
       "      <td>4.0</td>\n",
       "      <td>...</td>\n",
       "      <td>794.0</td>\n",
       "      <td>31069.00</td>\n",
       "      <td>30519.0</td>\n",
       "      <td>0.00</td>\n",
       "      <td>36</td>\n",
       "      <td>9550.00</td>\n",
       "      <td>32.0</td>\n",
       "      <td>5416.67</td>\n",
       "      <td>500.0</td>\n",
       "      <td>0</td>\n",
       "    </tr>\n",
       "    <tr>\n",
       "      <th>7</th>\n",
       "      <td>598458</td>\n",
       "      <td>19715</td>\n",
       "      <td>0</td>\n",
       "      <td>1994.0</td>\n",
       "      <td>BUICK</td>\n",
       "      <td>N</td>\n",
       "      <td>0.0</td>\n",
       "      <td>2.0</td>\n",
       "      <td>261.0</td>\n",
       "      <td>NaN</td>\n",
       "      <td>...</td>\n",
       "      <td>722.0</td>\n",
       "      <td>9600.00</td>\n",
       "      <td>8900.0</td>\n",
       "      <td>0.00</td>\n",
       "      <td>54</td>\n",
       "      <td>8600.00</td>\n",
       "      <td>98.0</td>\n",
       "      <td>1560.00</td>\n",
       "      <td>77267.0</td>\n",
       "      <td>1</td>\n",
       "    </tr>\n",
       "    <tr>\n",
       "      <th>8</th>\n",
       "      <td>1526052</td>\n",
       "      <td>23924</td>\n",
       "      <td>1</td>\n",
       "      <td>1994.0</td>\n",
       "      <td>MITT</td>\n",
       "      <td>N</td>\n",
       "      <td>2.0</td>\n",
       "      <td>13.0</td>\n",
       "      <td>213.0</td>\n",
       "      <td>3.0</td>\n",
       "      <td>...</td>\n",
       "      <td>664.0</td>\n",
       "      <td>6700.00</td>\n",
       "      <td>6350.0</td>\n",
       "      <td>500.00</td>\n",
       "      <td>42</td>\n",
       "      <td>6800.00</td>\n",
       "      <td>139.0</td>\n",
       "      <td>2416.67</td>\n",
       "      <td>40000.0</td>\n",
       "      <td>1</td>\n",
       "    </tr>\n",
       "    <tr>\n",
       "      <th>9</th>\n",
       "      <td>8073975</td>\n",
       "      <td>24866</td>\n",
       "      <td>0</td>\n",
       "      <td>1999.0</td>\n",
       "      <td>CHEV</td>\n",
       "      <td>Y</td>\n",
       "      <td>11.0</td>\n",
       "      <td>20.0</td>\n",
       "      <td>178.0</td>\n",
       "      <td>NaN</td>\n",
       "      <td>...</td>\n",
       "      <td>646.0</td>\n",
       "      <td>15543.00</td>\n",
       "      <td>15100.0</td>\n",
       "      <td>0.00</td>\n",
       "      <td>60</td>\n",
       "      <td>14543.00</td>\n",
       "      <td>102.0</td>\n",
       "      <td>2933.33</td>\n",
       "      <td>6000.0</td>\n",
       "      <td>1</td>\n",
       "    </tr>\n",
       "  </tbody>\n",
       "</table>\n",
       "<p>10 rows × 24 columns</p>\n",
       "</div>"
      ],
      "text/plain": [
       "   application_id  account_number  bad_ind  vehicle_year vehicle_make  \\\n",
       "0         2314049           11613        1        1998.0         FORD   \n",
       "1           63539           13449        0        2000.0       DAEWOO   \n",
       "2         7328510           14323        1        1998.0     PLYMOUTH   \n",
       "3         8725187           15359        1        1997.0         FORD   \n",
       "4         4275127           15812        0        2000.0       TOYOTA   \n",
       "5         8712513           16979        0        2000.0        DODGE   \n",
       "6         2063896           17842        0        2000.0     INFINITI   \n",
       "7          598458           19715        0        1994.0        BUICK   \n",
       "8         1526052           23924        1        1994.0         MITT   \n",
       "9         8073975           24866        0        1999.0         CHEV   \n",
       "\n",
       "  bankruptcy_ind  tot_derog  tot_tr  age_oldest_tr  tot_open_tr  ...  \\\n",
       "0              N        7.0     9.0           64.0          2.0  ...   \n",
       "1              N        0.0    21.0          240.0         11.0  ...   \n",
       "2              N        7.0    10.0           60.0          NaN  ...   \n",
       "3              N        3.0    10.0           35.0          5.0  ...   \n",
       "4              N        0.0    10.0          104.0          2.0  ...   \n",
       "5              Y        2.0    15.0          136.0          4.0  ...   \n",
       "6              N        0.0    13.0          339.0          4.0  ...   \n",
       "7              N        0.0     2.0          261.0          NaN  ...   \n",
       "8              N        2.0    13.0          213.0          3.0  ...   \n",
       "9              Y       11.0    20.0          178.0          NaN  ...   \n",
       "\n",
       "   fico_score  purch_price     msrp  down_pyt  loan_term  loan_amt    ltv  \\\n",
       "0       650.0     17200.00  17350.0      0.00         36  17200.00   99.0   \n",
       "1       649.0     19588.54  19788.0    683.54         60  19588.54   99.0   \n",
       "2       613.0     13595.00  11450.0      0.00         60  10500.00   92.0   \n",
       "3       603.0     12999.00  12100.0   3099.00         60  10800.00  118.0   \n",
       "4       764.0     26328.04  22024.0      0.00         60  26328.04  122.0   \n",
       "5       680.0     26272.72  26375.0      0.00         36  26272.72  100.0   \n",
       "6       794.0     31069.00  30519.0      0.00         36   9550.00   32.0   \n",
       "7       722.0      9600.00   8900.0      0.00         54   8600.00   98.0   \n",
       "8       664.0      6700.00   6350.0    500.00         42   6800.00  139.0   \n",
       "9       646.0     15543.00  15100.0      0.00         60  14543.00  102.0   \n",
       "\n",
       "   tot_income  veh_mileage  used_ind  \n",
       "0     6550.00      24000.0         1  \n",
       "1     4666.67         22.0         0  \n",
       "2     2000.00      19600.0         1  \n",
       "3     1500.00      10000.0         1  \n",
       "4     4144.00         14.0         0  \n",
       "5     5400.00          1.0         0  \n",
       "6     5416.67        500.0         0  \n",
       "7     1560.00      77267.0         1  \n",
       "8     2416.67      40000.0         1  \n",
       "9     2933.33       6000.0         1  \n",
       "\n",
       "[10 rows x 24 columns]"
      ]
     },
     "execution_count": 19,
     "metadata": {},
     "output_type": "execute_result"
    }
   ],
   "source": [
    "accept.head(10)"
   ]
  },
  {
   "cell_type": "markdown",
   "metadata": {
    "slideshow": {
     "slide_type": "subslide"
    }
   },
   "source": [
    "### 判断是否含有缺失值"
   ]
  },
  {
   "cell_type": "markdown",
   "metadata": {
    "slideshow": {
     "slide_type": "fragment"
    }
   },
   "source": [
    "- ```python\n",
    "DataFrame.isna()\n",
    "```"
   ]
  },
  {
   "cell_type": "code",
   "execution_count": 57,
   "metadata": {
    "slideshow": {
     "slide_type": "fragment"
    }
   },
   "outputs": [
    {
     "data": {
      "text/html": [
       "<div>\n",
       "<style scoped>\n",
       "    .dataframe tbody tr th:only-of-type {\n",
       "        vertical-align: middle;\n",
       "    }\n",
       "\n",
       "    .dataframe tbody tr th {\n",
       "        vertical-align: top;\n",
       "    }\n",
       "\n",
       "    .dataframe thead th {\n",
       "        text-align: right;\n",
       "    }\n",
       "</style>\n",
       "<table border=\"1\" class=\"dataframe\">\n",
       "  <thead>\n",
       "    <tr style=\"text-align: right;\">\n",
       "      <th></th>\n",
       "      <th>application_id</th>\n",
       "      <th>account_number</th>\n",
       "      <th>bad_ind</th>\n",
       "      <th>vehicle_year</th>\n",
       "      <th>vehicle_make</th>\n",
       "      <th>bankruptcy_ind</th>\n",
       "      <th>tot_derog</th>\n",
       "      <th>tot_tr</th>\n",
       "      <th>age_oldest_tr</th>\n",
       "      <th>tot_open_tr</th>\n",
       "      <th>...</th>\n",
       "      <th>fico_score</th>\n",
       "      <th>purch_price</th>\n",
       "      <th>msrp</th>\n",
       "      <th>down_pyt</th>\n",
       "      <th>loan_term</th>\n",
       "      <th>loan_amt</th>\n",
       "      <th>ltv</th>\n",
       "      <th>tot_income</th>\n",
       "      <th>veh_mileage</th>\n",
       "      <th>used_ind</th>\n",
       "    </tr>\n",
       "  </thead>\n",
       "  <tbody>\n",
       "    <tr>\n",
       "      <th>0</th>\n",
       "      <td>False</td>\n",
       "      <td>False</td>\n",
       "      <td>False</td>\n",
       "      <td>False</td>\n",
       "      <td>False</td>\n",
       "      <td>False</td>\n",
       "      <td>False</td>\n",
       "      <td>False</td>\n",
       "      <td>False</td>\n",
       "      <td>False</td>\n",
       "      <td>...</td>\n",
       "      <td>False</td>\n",
       "      <td>False</td>\n",
       "      <td>False</td>\n",
       "      <td>False</td>\n",
       "      <td>False</td>\n",
       "      <td>False</td>\n",
       "      <td>False</td>\n",
       "      <td>False</td>\n",
       "      <td>False</td>\n",
       "      <td>False</td>\n",
       "    </tr>\n",
       "    <tr>\n",
       "      <th>1</th>\n",
       "      <td>False</td>\n",
       "      <td>False</td>\n",
       "      <td>False</td>\n",
       "      <td>False</td>\n",
       "      <td>False</td>\n",
       "      <td>False</td>\n",
       "      <td>False</td>\n",
       "      <td>False</td>\n",
       "      <td>False</td>\n",
       "      <td>False</td>\n",
       "      <td>...</td>\n",
       "      <td>False</td>\n",
       "      <td>False</td>\n",
       "      <td>False</td>\n",
       "      <td>False</td>\n",
       "      <td>False</td>\n",
       "      <td>False</td>\n",
       "      <td>False</td>\n",
       "      <td>False</td>\n",
       "      <td>False</td>\n",
       "      <td>False</td>\n",
       "    </tr>\n",
       "    <tr>\n",
       "      <th>2</th>\n",
       "      <td>False</td>\n",
       "      <td>False</td>\n",
       "      <td>False</td>\n",
       "      <td>False</td>\n",
       "      <td>False</td>\n",
       "      <td>False</td>\n",
       "      <td>False</td>\n",
       "      <td>False</td>\n",
       "      <td>False</td>\n",
       "      <td>True</td>\n",
       "      <td>...</td>\n",
       "      <td>False</td>\n",
       "      <td>False</td>\n",
       "      <td>False</td>\n",
       "      <td>False</td>\n",
       "      <td>False</td>\n",
       "      <td>False</td>\n",
       "      <td>False</td>\n",
       "      <td>False</td>\n",
       "      <td>False</td>\n",
       "      <td>False</td>\n",
       "    </tr>\n",
       "    <tr>\n",
       "      <th>3</th>\n",
       "      <td>False</td>\n",
       "      <td>False</td>\n",
       "      <td>False</td>\n",
       "      <td>False</td>\n",
       "      <td>False</td>\n",
       "      <td>False</td>\n",
       "      <td>False</td>\n",
       "      <td>False</td>\n",
       "      <td>False</td>\n",
       "      <td>False</td>\n",
       "      <td>...</td>\n",
       "      <td>False</td>\n",
       "      <td>False</td>\n",
       "      <td>False</td>\n",
       "      <td>False</td>\n",
       "      <td>False</td>\n",
       "      <td>False</td>\n",
       "      <td>False</td>\n",
       "      <td>False</td>\n",
       "      <td>False</td>\n",
       "      <td>False</td>\n",
       "    </tr>\n",
       "    <tr>\n",
       "      <th>4</th>\n",
       "      <td>False</td>\n",
       "      <td>False</td>\n",
       "      <td>False</td>\n",
       "      <td>False</td>\n",
       "      <td>False</td>\n",
       "      <td>False</td>\n",
       "      <td>False</td>\n",
       "      <td>False</td>\n",
       "      <td>False</td>\n",
       "      <td>False</td>\n",
       "      <td>...</td>\n",
       "      <td>False</td>\n",
       "      <td>False</td>\n",
       "      <td>False</td>\n",
       "      <td>False</td>\n",
       "      <td>False</td>\n",
       "      <td>False</td>\n",
       "      <td>False</td>\n",
       "      <td>False</td>\n",
       "      <td>False</td>\n",
       "      <td>False</td>\n",
       "    </tr>\n",
       "    <tr>\n",
       "      <th>...</th>\n",
       "      <td>...</td>\n",
       "      <td>...</td>\n",
       "      <td>...</td>\n",
       "      <td>...</td>\n",
       "      <td>...</td>\n",
       "      <td>...</td>\n",
       "      <td>...</td>\n",
       "      <td>...</td>\n",
       "      <td>...</td>\n",
       "      <td>...</td>\n",
       "      <td>...</td>\n",
       "      <td>...</td>\n",
       "      <td>...</td>\n",
       "      <td>...</td>\n",
       "      <td>...</td>\n",
       "      <td>...</td>\n",
       "      <td>...</td>\n",
       "      <td>...</td>\n",
       "      <td>...</td>\n",
       "      <td>...</td>\n",
       "      <td>...</td>\n",
       "    </tr>\n",
       "    <tr>\n",
       "      <th>5840</th>\n",
       "      <td>False</td>\n",
       "      <td>False</td>\n",
       "      <td>False</td>\n",
       "      <td>False</td>\n",
       "      <td>False</td>\n",
       "      <td>False</td>\n",
       "      <td>False</td>\n",
       "      <td>False</td>\n",
       "      <td>False</td>\n",
       "      <td>False</td>\n",
       "      <td>...</td>\n",
       "      <td>False</td>\n",
       "      <td>False</td>\n",
       "      <td>False</td>\n",
       "      <td>False</td>\n",
       "      <td>False</td>\n",
       "      <td>False</td>\n",
       "      <td>False</td>\n",
       "      <td>False</td>\n",
       "      <td>False</td>\n",
       "      <td>False</td>\n",
       "    </tr>\n",
       "    <tr>\n",
       "      <th>5841</th>\n",
       "      <td>False</td>\n",
       "      <td>False</td>\n",
       "      <td>False</td>\n",
       "      <td>False</td>\n",
       "      <td>False</td>\n",
       "      <td>False</td>\n",
       "      <td>False</td>\n",
       "      <td>False</td>\n",
       "      <td>False</td>\n",
       "      <td>False</td>\n",
       "      <td>...</td>\n",
       "      <td>False</td>\n",
       "      <td>False</td>\n",
       "      <td>False</td>\n",
       "      <td>False</td>\n",
       "      <td>False</td>\n",
       "      <td>False</td>\n",
       "      <td>False</td>\n",
       "      <td>False</td>\n",
       "      <td>False</td>\n",
       "      <td>False</td>\n",
       "    </tr>\n",
       "    <tr>\n",
       "      <th>5842</th>\n",
       "      <td>False</td>\n",
       "      <td>False</td>\n",
       "      <td>False</td>\n",
       "      <td>False</td>\n",
       "      <td>False</td>\n",
       "      <td>False</td>\n",
       "      <td>False</td>\n",
       "      <td>False</td>\n",
       "      <td>False</td>\n",
       "      <td>False</td>\n",
       "      <td>...</td>\n",
       "      <td>False</td>\n",
       "      <td>False</td>\n",
       "      <td>False</td>\n",
       "      <td>False</td>\n",
       "      <td>False</td>\n",
       "      <td>False</td>\n",
       "      <td>False</td>\n",
       "      <td>False</td>\n",
       "      <td>False</td>\n",
       "      <td>False</td>\n",
       "    </tr>\n",
       "    <tr>\n",
       "      <th>5843</th>\n",
       "      <td>False</td>\n",
       "      <td>False</td>\n",
       "      <td>False</td>\n",
       "      <td>False</td>\n",
       "      <td>False</td>\n",
       "      <td>False</td>\n",
       "      <td>False</td>\n",
       "      <td>False</td>\n",
       "      <td>False</td>\n",
       "      <td>False</td>\n",
       "      <td>...</td>\n",
       "      <td>False</td>\n",
       "      <td>False</td>\n",
       "      <td>False</td>\n",
       "      <td>False</td>\n",
       "      <td>False</td>\n",
       "      <td>False</td>\n",
       "      <td>False</td>\n",
       "      <td>False</td>\n",
       "      <td>False</td>\n",
       "      <td>False</td>\n",
       "    </tr>\n",
       "    <tr>\n",
       "      <th>5844</th>\n",
       "      <td>False</td>\n",
       "      <td>False</td>\n",
       "      <td>False</td>\n",
       "      <td>False</td>\n",
       "      <td>False</td>\n",
       "      <td>False</td>\n",
       "      <td>False</td>\n",
       "      <td>False</td>\n",
       "      <td>False</td>\n",
       "      <td>False</td>\n",
       "      <td>...</td>\n",
       "      <td>False</td>\n",
       "      <td>False</td>\n",
       "      <td>False</td>\n",
       "      <td>False</td>\n",
       "      <td>False</td>\n",
       "      <td>False</td>\n",
       "      <td>False</td>\n",
       "      <td>False</td>\n",
       "      <td>False</td>\n",
       "      <td>False</td>\n",
       "    </tr>\n",
       "  </tbody>\n",
       "</table>\n",
       "<p>5845 rows × 24 columns</p>\n",
       "</div>"
      ],
      "text/plain": [
       "      application_id  account_number  bad_ind  vehicle_year  vehicle_make  \\\n",
       "0              False           False    False         False         False   \n",
       "1              False           False    False         False         False   \n",
       "2              False           False    False         False         False   \n",
       "3              False           False    False         False         False   \n",
       "4              False           False    False         False         False   \n",
       "...              ...             ...      ...           ...           ...   \n",
       "5840           False           False    False         False         False   \n",
       "5841           False           False    False         False         False   \n",
       "5842           False           False    False         False         False   \n",
       "5843           False           False    False         False         False   \n",
       "5844           False           False    False         False         False   \n",
       "\n",
       "      bankruptcy_ind  tot_derog  tot_tr  age_oldest_tr  tot_open_tr  ...  \\\n",
       "0              False      False   False          False        False  ...   \n",
       "1              False      False   False          False        False  ...   \n",
       "2              False      False   False          False         True  ...   \n",
       "3              False      False   False          False        False  ...   \n",
       "4              False      False   False          False        False  ...   \n",
       "...              ...        ...     ...            ...          ...  ...   \n",
       "5840           False      False   False          False        False  ...   \n",
       "5841           False      False   False          False        False  ...   \n",
       "5842           False      False   False          False        False  ...   \n",
       "5843           False      False   False          False        False  ...   \n",
       "5844           False      False   False          False        False  ...   \n",
       "\n",
       "      fico_score  purch_price   msrp  down_pyt  loan_term  loan_amt    ltv  \\\n",
       "0          False        False  False     False      False     False  False   \n",
       "1          False        False  False     False      False     False  False   \n",
       "2          False        False  False     False      False     False  False   \n",
       "3          False        False  False     False      False     False  False   \n",
       "4          False        False  False     False      False     False  False   \n",
       "...          ...          ...    ...       ...        ...       ...    ...   \n",
       "5840       False        False  False     False      False     False  False   \n",
       "5841       False        False  False     False      False     False  False   \n",
       "5842       False        False  False     False      False     False  False   \n",
       "5843       False        False  False     False      False     False  False   \n",
       "5844       False        False  False     False      False     False  False   \n",
       "\n",
       "      tot_income  veh_mileage  used_ind  \n",
       "0          False        False     False  \n",
       "1          False        False     False  \n",
       "2          False        False     False  \n",
       "3          False        False     False  \n",
       "4          False        False     False  \n",
       "...          ...          ...       ...  \n",
       "5840       False        False     False  \n",
       "5841       False        False     False  \n",
       "5842       False        False     False  \n",
       "5843       False        False     False  \n",
       "5844       False        False     False  \n",
       "\n",
       "[5845 rows x 24 columns]"
      ]
     },
     "execution_count": 57,
     "metadata": {},
     "output_type": "execute_result"
    }
   ],
   "source": [
    "accept.isna()"
   ]
  },
  {
   "cell_type": "code",
   "execution_count": 85,
   "metadata": {
    "slideshow": {
     "slide_type": "fragment"
    }
   },
   "outputs": [
    {
     "data": {
      "text/html": [
       "<div>\n",
       "<style scoped>\n",
       "    .dataframe tbody tr th:only-of-type {\n",
       "        vertical-align: middle;\n",
       "    }\n",
       "\n",
       "    .dataframe tbody tr th {\n",
       "        vertical-align: top;\n",
       "    }\n",
       "\n",
       "    .dataframe thead th {\n",
       "        text-align: right;\n",
       "    }\n",
       "</style>\n",
       "<table border=\"1\" class=\"dataframe\">\n",
       "  <thead>\n",
       "    <tr style=\"text-align: right;\">\n",
       "      <th></th>\n",
       "      <th>application_id</th>\n",
       "      <th>account_number</th>\n",
       "      <th>bad_ind</th>\n",
       "      <th>vehicle_year</th>\n",
       "      <th>vehicle_make</th>\n",
       "      <th>bankruptcy_ind</th>\n",
       "      <th>tot_derog</th>\n",
       "      <th>tot_tr</th>\n",
       "      <th>age_oldest_tr</th>\n",
       "      <th>tot_open_tr</th>\n",
       "      <th>...</th>\n",
       "      <th>fico_score</th>\n",
       "      <th>purch_price</th>\n",
       "      <th>msrp</th>\n",
       "      <th>down_pyt</th>\n",
       "      <th>loan_term</th>\n",
       "      <th>loan_amt</th>\n",
       "      <th>ltv</th>\n",
       "      <th>tot_income</th>\n",
       "      <th>veh_mileage</th>\n",
       "      <th>used_ind</th>\n",
       "    </tr>\n",
       "  </thead>\n",
       "  <tbody>\n",
       "    <tr>\n",
       "      <th>2</th>\n",
       "      <td>7328510</td>\n",
       "      <td>14323</td>\n",
       "      <td>1</td>\n",
       "      <td>1998.0</td>\n",
       "      <td>PLYMOUTH</td>\n",
       "      <td>N</td>\n",
       "      <td>7.0</td>\n",
       "      <td>10.0</td>\n",
       "      <td>60.0</td>\n",
       "      <td>NaN</td>\n",
       "      <td>...</td>\n",
       "      <td>613.0</td>\n",
       "      <td>13595.00</td>\n",
       "      <td>11450.0</td>\n",
       "      <td>0.0</td>\n",
       "      <td>60</td>\n",
       "      <td>10500.00</td>\n",
       "      <td>92.0</td>\n",
       "      <td>2000.00</td>\n",
       "      <td>19600.0</td>\n",
       "      <td>1</td>\n",
       "    </tr>\n",
       "    <tr>\n",
       "      <th>7</th>\n",
       "      <td>598458</td>\n",
       "      <td>19715</td>\n",
       "      <td>0</td>\n",
       "      <td>1994.0</td>\n",
       "      <td>BUICK</td>\n",
       "      <td>N</td>\n",
       "      <td>0.0</td>\n",
       "      <td>2.0</td>\n",
       "      <td>261.0</td>\n",
       "      <td>NaN</td>\n",
       "      <td>...</td>\n",
       "      <td>722.0</td>\n",
       "      <td>9600.00</td>\n",
       "      <td>8900.0</td>\n",
       "      <td>0.0</td>\n",
       "      <td>54</td>\n",
       "      <td>8600.00</td>\n",
       "      <td>98.0</td>\n",
       "      <td>1560.00</td>\n",
       "      <td>77267.0</td>\n",
       "      <td>1</td>\n",
       "    </tr>\n",
       "    <tr>\n",
       "      <th>9</th>\n",
       "      <td>8073975</td>\n",
       "      <td>24866</td>\n",
       "      <td>0</td>\n",
       "      <td>1999.0</td>\n",
       "      <td>CHEV</td>\n",
       "      <td>Y</td>\n",
       "      <td>11.0</td>\n",
       "      <td>20.0</td>\n",
       "      <td>178.0</td>\n",
       "      <td>NaN</td>\n",
       "      <td>...</td>\n",
       "      <td>646.0</td>\n",
       "      <td>15543.00</td>\n",
       "      <td>15100.0</td>\n",
       "      <td>0.0</td>\n",
       "      <td>60</td>\n",
       "      <td>14543.00</td>\n",
       "      <td>102.0</td>\n",
       "      <td>2933.33</td>\n",
       "      <td>6000.0</td>\n",
       "      <td>1</td>\n",
       "    </tr>\n",
       "    <tr>\n",
       "      <th>14</th>\n",
       "      <td>8394551</td>\n",
       "      <td>34052</td>\n",
       "      <td>0</td>\n",
       "      <td>1998.0</td>\n",
       "      <td>NISSAN</td>\n",
       "      <td>N</td>\n",
       "      <td>0.0</td>\n",
       "      <td>1.0</td>\n",
       "      <td>12.0</td>\n",
       "      <td>NaN</td>\n",
       "      <td>...</td>\n",
       "      <td>639.0</td>\n",
       "      <td>15651.93</td>\n",
       "      <td>15500.0</td>\n",
       "      <td>500.0</td>\n",
       "      <td>60</td>\n",
       "      <td>15151.93</td>\n",
       "      <td>106.0</td>\n",
       "      <td>1833.33</td>\n",
       "      <td>35984.0</td>\n",
       "      <td>1</td>\n",
       "    </tr>\n",
       "    <tr>\n",
       "      <th>19</th>\n",
       "      <td>9784596</td>\n",
       "      <td>52260</td>\n",
       "      <td>0</td>\n",
       "      <td>2000.0</td>\n",
       "      <td>CHEVROLET</td>\n",
       "      <td>Y</td>\n",
       "      <td>6.0</td>\n",
       "      <td>8.0</td>\n",
       "      <td>233.0</td>\n",
       "      <td>NaN</td>\n",
       "      <td>...</td>\n",
       "      <td>557.0</td>\n",
       "      <td>14550.00</td>\n",
       "      <td>15300.0</td>\n",
       "      <td>1000.0</td>\n",
       "      <td>60</td>\n",
       "      <td>13550.00</td>\n",
       "      <td>91.0</td>\n",
       "      <td>0.00</td>\n",
       "      <td>1.0</td>\n",
       "      <td>0</td>\n",
       "    </tr>\n",
       "    <tr>\n",
       "      <th>...</th>\n",
       "      <td>...</td>\n",
       "      <td>...</td>\n",
       "      <td>...</td>\n",
       "      <td>...</td>\n",
       "      <td>...</td>\n",
       "      <td>...</td>\n",
       "      <td>...</td>\n",
       "      <td>...</td>\n",
       "      <td>...</td>\n",
       "      <td>...</td>\n",
       "      <td>...</td>\n",
       "      <td>...</td>\n",
       "      <td>...</td>\n",
       "      <td>...</td>\n",
       "      <td>...</td>\n",
       "      <td>...</td>\n",
       "      <td>...</td>\n",
       "      <td>...</td>\n",
       "      <td>...</td>\n",
       "      <td>...</td>\n",
       "      <td>...</td>\n",
       "    </tr>\n",
       "    <tr>\n",
       "      <th>5832</th>\n",
       "      <td>8921166</td>\n",
       "      <td>9986461</td>\n",
       "      <td>0</td>\n",
       "      <td>1996.0</td>\n",
       "      <td>CHRYSLER</td>\n",
       "      <td>N</td>\n",
       "      <td>NaN</td>\n",
       "      <td>NaN</td>\n",
       "      <td>NaN</td>\n",
       "      <td>NaN</td>\n",
       "      <td>...</td>\n",
       "      <td>632.0</td>\n",
       "      <td>12581.00</td>\n",
       "      <td>11400.0</td>\n",
       "      <td>1200.0</td>\n",
       "      <td>54</td>\n",
       "      <td>11381.00</td>\n",
       "      <td>101.0</td>\n",
       "      <td>3800.00</td>\n",
       "      <td>36789.0</td>\n",
       "      <td>1</td>\n",
       "    </tr>\n",
       "    <tr>\n",
       "      <th>5834</th>\n",
       "      <td>3886066</td>\n",
       "      <td>9987642</td>\n",
       "      <td>1</td>\n",
       "      <td>1997.0</td>\n",
       "      <td>CHRYSLER</td>\n",
       "      <td>N</td>\n",
       "      <td>3.0</td>\n",
       "      <td>14.0</td>\n",
       "      <td>160.0</td>\n",
       "      <td>NaN</td>\n",
       "      <td>...</td>\n",
       "      <td>675.0</td>\n",
       "      <td>15000.00</td>\n",
       "      <td>12750.0</td>\n",
       "      <td>1000.0</td>\n",
       "      <td>60</td>\n",
       "      <td>14000.00</td>\n",
       "      <td>111.0</td>\n",
       "      <td>1833.33</td>\n",
       "      <td>35000.0</td>\n",
       "      <td>1</td>\n",
       "    </tr>\n",
       "    <tr>\n",
       "      <th>5837</th>\n",
       "      <td>7820738</td>\n",
       "      <td>9994277</td>\n",
       "      <td>0</td>\n",
       "      <td>1996.0</td>\n",
       "      <td>FORD</td>\n",
       "      <td>N</td>\n",
       "      <td>3.0</td>\n",
       "      <td>15.0</td>\n",
       "      <td>116.0</td>\n",
       "      <td>NaN</td>\n",
       "      <td>...</td>\n",
       "      <td>714.0</td>\n",
       "      <td>7316.50</td>\n",
       "      <td>5500.0</td>\n",
       "      <td>1200.0</td>\n",
       "      <td>48</td>\n",
       "      <td>4116.50</td>\n",
       "      <td>82.0</td>\n",
       "      <td>1300.00</td>\n",
       "      <td>69386.0</td>\n",
       "      <td>1</td>\n",
       "    </tr>\n",
       "    <tr>\n",
       "      <th>5838</th>\n",
       "      <td>8856051</td>\n",
       "      <td>9996910</td>\n",
       "      <td>0</td>\n",
       "      <td>2000.0</td>\n",
       "      <td>CHEVY</td>\n",
       "      <td>N</td>\n",
       "      <td>0.0</td>\n",
       "      <td>30.0</td>\n",
       "      <td>285.0</td>\n",
       "      <td>NaN</td>\n",
       "      <td>...</td>\n",
       "      <td>725.0</td>\n",
       "      <td>33886.66</td>\n",
       "      <td>28873.0</td>\n",
       "      <td>2000.0</td>\n",
       "      <td>63</td>\n",
       "      <td>31886.66</td>\n",
       "      <td>114.0</td>\n",
       "      <td>5135.00</td>\n",
       "      <td>15.0</td>\n",
       "      <td>0</td>\n",
       "    </tr>\n",
       "    <tr>\n",
       "      <th>5839</th>\n",
       "      <td>3879206</td>\n",
       "      <td>10000510</td>\n",
       "      <td>0</td>\n",
       "      <td>1995.0</td>\n",
       "      <td>CHEVY</td>\n",
       "      <td>N</td>\n",
       "      <td>9.0</td>\n",
       "      <td>16.0</td>\n",
       "      <td>143.0</td>\n",
       "      <td>NaN</td>\n",
       "      <td>...</td>\n",
       "      <td>650.0</td>\n",
       "      <td>16490.00</td>\n",
       "      <td>14000.0</td>\n",
       "      <td>2500.0</td>\n",
       "      <td>60</td>\n",
       "      <td>13990.00</td>\n",
       "      <td>112.0</td>\n",
       "      <td>3150.00</td>\n",
       "      <td>72000.0</td>\n",
       "      <td>1</td>\n",
       "    </tr>\n",
       "  </tbody>\n",
       "</table>\n",
       "<p>1740 rows × 24 columns</p>\n",
       "</div>"
      ],
      "text/plain": [
       "      application_id  account_number  bad_ind  vehicle_year vehicle_make  \\\n",
       "2            7328510           14323        1        1998.0     PLYMOUTH   \n",
       "7             598458           19715        0        1994.0        BUICK   \n",
       "9            8073975           24866        0        1999.0         CHEV   \n",
       "14           8394551           34052        0        1998.0       NISSAN   \n",
       "19           9784596           52260        0        2000.0    CHEVROLET   \n",
       "...              ...             ...      ...           ...          ...   \n",
       "5832         8921166         9986461        0        1996.0     CHRYSLER   \n",
       "5834         3886066         9987642        1        1997.0     CHRYSLER   \n",
       "5837         7820738         9994277        0        1996.0         FORD   \n",
       "5838         8856051         9996910        0        2000.0        CHEVY   \n",
       "5839         3879206        10000510        0        1995.0        CHEVY   \n",
       "\n",
       "     bankruptcy_ind  tot_derog  tot_tr  age_oldest_tr  tot_open_tr  ...  \\\n",
       "2                 N        7.0    10.0           60.0          NaN  ...   \n",
       "7                 N        0.0     2.0          261.0          NaN  ...   \n",
       "9                 Y       11.0    20.0          178.0          NaN  ...   \n",
       "14                N        0.0     1.0           12.0          NaN  ...   \n",
       "19                Y        6.0     8.0          233.0          NaN  ...   \n",
       "...             ...        ...     ...            ...          ...  ...   \n",
       "5832              N        NaN     NaN            NaN          NaN  ...   \n",
       "5834              N        3.0    14.0          160.0          NaN  ...   \n",
       "5837              N        3.0    15.0          116.0          NaN  ...   \n",
       "5838              N        0.0    30.0          285.0          NaN  ...   \n",
       "5839              N        9.0    16.0          143.0          NaN  ...   \n",
       "\n",
       "      fico_score  purch_price     msrp  down_pyt  loan_term  loan_amt    ltv  \\\n",
       "2          613.0     13595.00  11450.0       0.0         60  10500.00   92.0   \n",
       "7          722.0      9600.00   8900.0       0.0         54   8600.00   98.0   \n",
       "9          646.0     15543.00  15100.0       0.0         60  14543.00  102.0   \n",
       "14         639.0     15651.93  15500.0     500.0         60  15151.93  106.0   \n",
       "19         557.0     14550.00  15300.0    1000.0         60  13550.00   91.0   \n",
       "...          ...          ...      ...       ...        ...       ...    ...   \n",
       "5832       632.0     12581.00  11400.0    1200.0         54  11381.00  101.0   \n",
       "5834       675.0     15000.00  12750.0    1000.0         60  14000.00  111.0   \n",
       "5837       714.0      7316.50   5500.0    1200.0         48   4116.50   82.0   \n",
       "5838       725.0     33886.66  28873.0    2000.0         63  31886.66  114.0   \n",
       "5839       650.0     16490.00  14000.0    2500.0         60  13990.00  112.0   \n",
       "\n",
       "      tot_income  veh_mileage  used_ind  \n",
       "2        2000.00      19600.0         1  \n",
       "7        1560.00      77267.0         1  \n",
       "9        2933.33       6000.0         1  \n",
       "14       1833.33      35984.0         1  \n",
       "19          0.00          1.0         0  \n",
       "...          ...          ...       ...  \n",
       "5832     3800.00      36789.0         1  \n",
       "5834     1833.33      35000.0         1  \n",
       "5837     1300.00      69386.0         1  \n",
       "5838     5135.00         15.0         0  \n",
       "5839     3150.00      72000.0         1  \n",
       "\n",
       "[1740 rows x 24 columns]"
      ]
     },
     "execution_count": 85,
     "metadata": {},
     "output_type": "execute_result"
    }
   ],
   "source": [
    "# accept.isna().sum(axis=1)\n",
    "accept.loc[accept.isna().sum(axis=1)>0,:]"
   ]
  },
  {
   "cell_type": "markdown",
   "metadata": {
    "slideshow": {
     "slide_type": "subslide"
    }
   },
   "source": [
    "### 删除数据对象或属性"
   ]
  },
  {
   "cell_type": "markdown",
   "metadata": {
    "slideshow": {
     "slide_type": "fragment"
    }
   },
   "source": [
    "- ```python\n",
    "DataFrame.dropna(axis=0, how='any', inplace=False)\n",
    "```\n",
    "    + `axis`\n",
    "        * 0：删除含有缺失值的行\n",
    "        * 1：删除含有缺失值的列\n",
    "    + `how`\n",
    "        * `any`：只要包含缺失值，就删除相应的行或列\n",
    "        * `all`：只有当某行（列）所有值都是缺失值的时候，才删除该行（列）\n",
    "    + `inplace`\n",
    "        * `True`：改变原数据\n",
    "        * `False`：不改变原数据，返回删除缺失值的新数据"
   ]
  },
  {
   "cell_type": "code",
   "execution_count": 23,
   "metadata": {
    "slideshow": {
     "slide_type": "fragment"
    }
   },
   "outputs": [
    {
     "data": {
      "text/html": [
       "<div>\n",
       "<style scoped>\n",
       "    .dataframe tbody tr th:only-of-type {\n",
       "        vertical-align: middle;\n",
       "    }\n",
       "\n",
       "    .dataframe tbody tr th {\n",
       "        vertical-align: top;\n",
       "    }\n",
       "\n",
       "    .dataframe thead th {\n",
       "        text-align: right;\n",
       "    }\n",
       "</style>\n",
       "<table border=\"1\" class=\"dataframe\">\n",
       "  <thead>\n",
       "    <tr style=\"text-align: right;\">\n",
       "      <th></th>\n",
       "      <th>application_id</th>\n",
       "      <th>account_number</th>\n",
       "      <th>bad_ind</th>\n",
       "      <th>rev_util</th>\n",
       "      <th>purch_price</th>\n",
       "      <th>down_pyt</th>\n",
       "      <th>loan_term</th>\n",
       "      <th>loan_amt</th>\n",
       "      <th>used_ind</th>\n",
       "    </tr>\n",
       "  </thead>\n",
       "  <tbody>\n",
       "    <tr>\n",
       "      <th>0</th>\n",
       "      <td>2314049</td>\n",
       "      <td>11613</td>\n",
       "      <td>1</td>\n",
       "      <td>101</td>\n",
       "      <td>17200.00</td>\n",
       "      <td>0.00</td>\n",
       "      <td>36</td>\n",
       "      <td>17200.00</td>\n",
       "      <td>1</td>\n",
       "    </tr>\n",
       "    <tr>\n",
       "      <th>1</th>\n",
       "      <td>63539</td>\n",
       "      <td>13449</td>\n",
       "      <td>0</td>\n",
       "      <td>60</td>\n",
       "      <td>19588.54</td>\n",
       "      <td>683.54</td>\n",
       "      <td>60</td>\n",
       "      <td>19588.54</td>\n",
       "      <td>0</td>\n",
       "    </tr>\n",
       "    <tr>\n",
       "      <th>2</th>\n",
       "      <td>7328510</td>\n",
       "      <td>14323</td>\n",
       "      <td>1</td>\n",
       "      <td>0</td>\n",
       "      <td>13595.00</td>\n",
       "      <td>0.00</td>\n",
       "      <td>60</td>\n",
       "      <td>10500.00</td>\n",
       "      <td>1</td>\n",
       "    </tr>\n",
       "    <tr>\n",
       "      <th>3</th>\n",
       "      <td>8725187</td>\n",
       "      <td>15359</td>\n",
       "      <td>1</td>\n",
       "      <td>68</td>\n",
       "      <td>12999.00</td>\n",
       "      <td>3099.00</td>\n",
       "      <td>60</td>\n",
       "      <td>10800.00</td>\n",
       "      <td>1</td>\n",
       "    </tr>\n",
       "    <tr>\n",
       "      <th>4</th>\n",
       "      <td>4275127</td>\n",
       "      <td>15812</td>\n",
       "      <td>0</td>\n",
       "      <td>0</td>\n",
       "      <td>26328.04</td>\n",
       "      <td>0.00</td>\n",
       "      <td>60</td>\n",
       "      <td>26328.04</td>\n",
       "      <td>0</td>\n",
       "    </tr>\n",
       "  </tbody>\n",
       "</table>\n",
       "</div>"
      ],
      "text/plain": [
       "   application_id  account_number  bad_ind  rev_util  purch_price  down_pyt  \\\n",
       "0         2314049           11613        1       101     17200.00      0.00   \n",
       "1           63539           13449        0        60     19588.54    683.54   \n",
       "2         7328510           14323        1         0     13595.00      0.00   \n",
       "3         8725187           15359        1        68     12999.00   3099.00   \n",
       "4         4275127           15812        0         0     26328.04      0.00   \n",
       "\n",
       "   loan_term  loan_amt  used_ind  \n",
       "0         36  17200.00         1  \n",
       "1         60  19588.54         0  \n",
       "2         60  10500.00         1  \n",
       "3         60  10800.00         1  \n",
       "4         60  26328.04         0  "
      ]
     },
     "execution_count": 23,
     "metadata": {},
     "output_type": "execute_result"
    },
    {
     "data": {
      "text/html": [
       "<div>\n",
       "<style scoped>\n",
       "    .dataframe tbody tr th:only-of-type {\n",
       "        vertical-align: middle;\n",
       "    }\n",
       "\n",
       "    .dataframe tbody tr th {\n",
       "        vertical-align: top;\n",
       "    }\n",
       "\n",
       "    .dataframe thead th {\n",
       "        text-align: right;\n",
       "    }\n",
       "</style>\n",
       "<table border=\"1\" class=\"dataframe\">\n",
       "  <thead>\n",
       "    <tr style=\"text-align: right;\">\n",
       "      <th></th>\n",
       "      <th>application_id</th>\n",
       "      <th>account_number</th>\n",
       "      <th>bad_ind</th>\n",
       "      <th>vehicle_year</th>\n",
       "      <th>vehicle_make</th>\n",
       "      <th>bankruptcy_ind</th>\n",
       "      <th>tot_derog</th>\n",
       "      <th>tot_tr</th>\n",
       "      <th>age_oldest_tr</th>\n",
       "      <th>tot_open_tr</th>\n",
       "      <th>...</th>\n",
       "      <th>fico_score</th>\n",
       "      <th>purch_price</th>\n",
       "      <th>msrp</th>\n",
       "      <th>down_pyt</th>\n",
       "      <th>loan_term</th>\n",
       "      <th>loan_amt</th>\n",
       "      <th>ltv</th>\n",
       "      <th>tot_income</th>\n",
       "      <th>veh_mileage</th>\n",
       "      <th>used_ind</th>\n",
       "    </tr>\n",
       "  </thead>\n",
       "  <tbody>\n",
       "    <tr>\n",
       "      <th>0</th>\n",
       "      <td>2314049</td>\n",
       "      <td>11613</td>\n",
       "      <td>1</td>\n",
       "      <td>1998.0</td>\n",
       "      <td>FORD</td>\n",
       "      <td>N</td>\n",
       "      <td>7.0</td>\n",
       "      <td>9.0</td>\n",
       "      <td>64.0</td>\n",
       "      <td>2.0</td>\n",
       "      <td>...</td>\n",
       "      <td>650.0</td>\n",
       "      <td>17200.00</td>\n",
       "      <td>17350.0</td>\n",
       "      <td>0.00</td>\n",
       "      <td>36</td>\n",
       "      <td>17200.00</td>\n",
       "      <td>99.0</td>\n",
       "      <td>6550.00</td>\n",
       "      <td>24000.0</td>\n",
       "      <td>1</td>\n",
       "    </tr>\n",
       "    <tr>\n",
       "      <th>1</th>\n",
       "      <td>63539</td>\n",
       "      <td>13449</td>\n",
       "      <td>0</td>\n",
       "      <td>2000.0</td>\n",
       "      <td>DAEWOO</td>\n",
       "      <td>N</td>\n",
       "      <td>0.0</td>\n",
       "      <td>21.0</td>\n",
       "      <td>240.0</td>\n",
       "      <td>11.0</td>\n",
       "      <td>...</td>\n",
       "      <td>649.0</td>\n",
       "      <td>19588.54</td>\n",
       "      <td>19788.0</td>\n",
       "      <td>683.54</td>\n",
       "      <td>60</td>\n",
       "      <td>19588.54</td>\n",
       "      <td>99.0</td>\n",
       "      <td>4666.67</td>\n",
       "      <td>22.0</td>\n",
       "      <td>0</td>\n",
       "    </tr>\n",
       "    <tr>\n",
       "      <th>2</th>\n",
       "      <td>7328510</td>\n",
       "      <td>14323</td>\n",
       "      <td>1</td>\n",
       "      <td>1998.0</td>\n",
       "      <td>PLYMOUTH</td>\n",
       "      <td>N</td>\n",
       "      <td>7.0</td>\n",
       "      <td>10.0</td>\n",
       "      <td>60.0</td>\n",
       "      <td>NaN</td>\n",
       "      <td>...</td>\n",
       "      <td>613.0</td>\n",
       "      <td>13595.00</td>\n",
       "      <td>11450.0</td>\n",
       "      <td>0.00</td>\n",
       "      <td>60</td>\n",
       "      <td>10500.00</td>\n",
       "      <td>92.0</td>\n",
       "      <td>2000.00</td>\n",
       "      <td>19600.0</td>\n",
       "      <td>1</td>\n",
       "    </tr>\n",
       "    <tr>\n",
       "      <th>3</th>\n",
       "      <td>8725187</td>\n",
       "      <td>15359</td>\n",
       "      <td>1</td>\n",
       "      <td>1997.0</td>\n",
       "      <td>FORD</td>\n",
       "      <td>N</td>\n",
       "      <td>3.0</td>\n",
       "      <td>10.0</td>\n",
       "      <td>35.0</td>\n",
       "      <td>5.0</td>\n",
       "      <td>...</td>\n",
       "      <td>603.0</td>\n",
       "      <td>12999.00</td>\n",
       "      <td>12100.0</td>\n",
       "      <td>3099.00</td>\n",
       "      <td>60</td>\n",
       "      <td>10800.00</td>\n",
       "      <td>118.0</td>\n",
       "      <td>1500.00</td>\n",
       "      <td>10000.0</td>\n",
       "      <td>1</td>\n",
       "    </tr>\n",
       "    <tr>\n",
       "      <th>4</th>\n",
       "      <td>4275127</td>\n",
       "      <td>15812</td>\n",
       "      <td>0</td>\n",
       "      <td>2000.0</td>\n",
       "      <td>TOYOTA</td>\n",
       "      <td>N</td>\n",
       "      <td>0.0</td>\n",
       "      <td>10.0</td>\n",
       "      <td>104.0</td>\n",
       "      <td>2.0</td>\n",
       "      <td>...</td>\n",
       "      <td>764.0</td>\n",
       "      <td>26328.04</td>\n",
       "      <td>22024.0</td>\n",
       "      <td>0.00</td>\n",
       "      <td>60</td>\n",
       "      <td>26328.04</td>\n",
       "      <td>122.0</td>\n",
       "      <td>4144.00</td>\n",
       "      <td>14.0</td>\n",
       "      <td>0</td>\n",
       "    </tr>\n",
       "  </tbody>\n",
       "</table>\n",
       "<p>5 rows × 24 columns</p>\n",
       "</div>"
      ],
      "text/plain": [
       "   application_id  account_number  bad_ind  vehicle_year vehicle_make  \\\n",
       "0         2314049           11613        1        1998.0         FORD   \n",
       "1           63539           13449        0        2000.0       DAEWOO   \n",
       "2         7328510           14323        1        1998.0     PLYMOUTH   \n",
       "3         8725187           15359        1        1997.0         FORD   \n",
       "4         4275127           15812        0        2000.0       TOYOTA   \n",
       "\n",
       "  bankruptcy_ind  tot_derog  tot_tr  age_oldest_tr  tot_open_tr  ...  \\\n",
       "0              N        7.0     9.0           64.0          2.0  ...   \n",
       "1              N        0.0    21.0          240.0         11.0  ...   \n",
       "2              N        7.0    10.0           60.0          NaN  ...   \n",
       "3              N        3.0    10.0           35.0          5.0  ...   \n",
       "4              N        0.0    10.0          104.0          2.0  ...   \n",
       "\n",
       "   fico_score  purch_price     msrp  down_pyt  loan_term  loan_amt    ltv  \\\n",
       "0       650.0     17200.00  17350.0      0.00         36  17200.00   99.0   \n",
       "1       649.0     19588.54  19788.0    683.54         60  19588.54   99.0   \n",
       "2       613.0     13595.00  11450.0      0.00         60  10500.00   92.0   \n",
       "3       603.0     12999.00  12100.0   3099.00         60  10800.00  118.0   \n",
       "4       764.0     26328.04  22024.0      0.00         60  26328.04  122.0   \n",
       "\n",
       "   tot_income  veh_mileage  used_ind  \n",
       "0     6550.00      24000.0         1  \n",
       "1     4666.67         22.0         0  \n",
       "2     2000.00      19600.0         1  \n",
       "3     1500.00      10000.0         1  \n",
       "4     4144.00         14.0         0  \n",
       "\n",
       "[5 rows x 24 columns]"
      ]
     },
     "execution_count": 23,
     "metadata": {},
     "output_type": "execute_result"
    }
   ],
   "source": [
    "tmp = accept.dropna(axis=1)\n",
    "tmp.head()\n",
    "accept.head()"
   ]
  },
  {
   "cell_type": "markdown",
   "metadata": {
    "slideshow": {
     "slide_type": "subslide"
    }
   },
   "source": [
    "### 填充缺失值"
   ]
  },
  {
   "cell_type": "markdown",
   "metadata": {
    "slideshow": {
     "slide_type": "fragment"
    }
   },
   "source": [
    "- ```python\n",
    "DataFrame.fillna(value=None, method=None, axis=None, inplace=False, limit=None)\n",
    "```\n",
    "    + `value`：用于填充缺失值的**标量值**或**字典对象**\n",
    "        * 标量值：所有缺失值均填相同的数值\n",
    "        * 字典对象：按列填充不同的缺失值\n",
    "    + `method`：填充方式\n",
    "        * `pad`或`ffill`：前向替换，用缺失值的前一个有效值替换该缺失值\n",
    "        * `backfill`或`bfill`：后向替换，用缺失值的后一个有效值替换该缺失值\n",
    "    + `limit`：前向或者后向填充的最大连续缺失值的数量"
   ]
  },
  {
   "cell_type": "code",
   "execution_count": 58,
   "metadata": {
    "slideshow": {
     "slide_type": "fragment"
    }
   },
   "outputs": [
    {
     "data": {
      "text/html": [
       "<div>\n",
       "<style scoped>\n",
       "    .dataframe tbody tr th:only-of-type {\n",
       "        vertical-align: middle;\n",
       "    }\n",
       "\n",
       "    .dataframe tbody tr th {\n",
       "        vertical-align: top;\n",
       "    }\n",
       "\n",
       "    .dataframe thead th {\n",
       "        text-align: right;\n",
       "    }\n",
       "</style>\n",
       "<table border=\"1\" class=\"dataframe\">\n",
       "  <thead>\n",
       "    <tr style=\"text-align: right;\">\n",
       "      <th></th>\n",
       "      <th>A</th>\n",
       "      <th>B</th>\n",
       "      <th>C</th>\n",
       "      <th>D</th>\n",
       "    </tr>\n",
       "  </thead>\n",
       "  <tbody>\n",
       "    <tr>\n",
       "      <th>0</th>\n",
       "      <td>NaN</td>\n",
       "      <td>2.0</td>\n",
       "      <td>NaN</td>\n",
       "      <td>0</td>\n",
       "    </tr>\n",
       "    <tr>\n",
       "      <th>1</th>\n",
       "      <td>3.0</td>\n",
       "      <td>4.0</td>\n",
       "      <td>NaN</td>\n",
       "      <td>1</td>\n",
       "    </tr>\n",
       "    <tr>\n",
       "      <th>2</th>\n",
       "      <td>NaN</td>\n",
       "      <td>NaN</td>\n",
       "      <td>NaN</td>\n",
       "      <td>5</td>\n",
       "    </tr>\n",
       "    <tr>\n",
       "      <th>3</th>\n",
       "      <td>NaN</td>\n",
       "      <td>3.0</td>\n",
       "      <td>NaN</td>\n",
       "      <td>4</td>\n",
       "    </tr>\n",
       "  </tbody>\n",
       "</table>\n",
       "</div>"
      ],
      "text/plain": [
       "     A    B   C  D\n",
       "0  NaN  2.0 NaN  0\n",
       "1  3.0  4.0 NaN  1\n",
       "2  NaN  NaN NaN  5\n",
       "3  NaN  3.0 NaN  4"
      ]
     },
     "execution_count": 58,
     "metadata": {},
     "output_type": "execute_result"
    }
   ],
   "source": [
    "df = pd.DataFrame([[np.nan, 2, np.nan, 0], [3, 4, np.nan, 1], [np.nan, np.nan, np.nan, 5], [np.nan, 3, np.nan, 4]], columns=list('ABCD'))\n",
    "df"
   ]
  },
  {
   "cell_type": "code",
   "execution_count": 61,
   "metadata": {
    "slideshow": {
     "slide_type": "fragment"
    }
   },
   "outputs": [
    {
     "data": {
      "text/html": [
       "<div>\n",
       "<style scoped>\n",
       "    .dataframe tbody tr th:only-of-type {\n",
       "        vertical-align: middle;\n",
       "    }\n",
       "\n",
       "    .dataframe tbody tr th {\n",
       "        vertical-align: top;\n",
       "    }\n",
       "\n",
       "    .dataframe thead th {\n",
       "        text-align: right;\n",
       "    }\n",
       "</style>\n",
       "<table border=\"1\" class=\"dataframe\">\n",
       "  <thead>\n",
       "    <tr style=\"text-align: right;\">\n",
       "      <th></th>\n",
       "      <th>A</th>\n",
       "      <th>B</th>\n",
       "      <th>C</th>\n",
       "      <th>D</th>\n",
       "    </tr>\n",
       "  </thead>\n",
       "  <tbody>\n",
       "    <tr>\n",
       "      <th>0</th>\n",
       "      <td>3.0</td>\n",
       "      <td>2.0</td>\n",
       "      <td>NaN</td>\n",
       "      <td>0</td>\n",
       "    </tr>\n",
       "    <tr>\n",
       "      <th>1</th>\n",
       "      <td>3.0</td>\n",
       "      <td>4.0</td>\n",
       "      <td>NaN</td>\n",
       "      <td>1</td>\n",
       "    </tr>\n",
       "    <tr>\n",
       "      <th>2</th>\n",
       "      <td>3.0</td>\n",
       "      <td>3.0</td>\n",
       "      <td>NaN</td>\n",
       "      <td>5</td>\n",
       "    </tr>\n",
       "    <tr>\n",
       "      <th>3</th>\n",
       "      <td>3.0</td>\n",
       "      <td>3.0</td>\n",
       "      <td>NaN</td>\n",
       "      <td>4</td>\n",
       "    </tr>\n",
       "  </tbody>\n",
       "</table>\n",
       "</div>"
      ],
      "text/plain": [
       "     A    B   C  D\n",
       "0  3.0  2.0 NaN  0\n",
       "1  3.0  4.0 NaN  1\n",
       "2  3.0  3.0 NaN  5\n",
       "3  3.0  3.0 NaN  4"
      ]
     },
     "execution_count": 61,
     "metadata": {},
     "output_type": "execute_result"
    }
   ],
   "source": [
    "# df.fillna(method='bfill',limit=1)\n",
    "df.fillna({'A':df['A'].mean(), 'B':df['B'].mean()})"
   ]
  },
  {
   "cell_type": "markdown",
   "metadata": {
    "slideshow": {
     "slide_type": "subslide"
    }
   },
   "source": [
    "### 用插值法估计缺失值"
   ]
  },
  {
   "cell_type": "markdown",
   "metadata": {
    "slideshow": {
     "slide_type": "fragment"
    }
   },
   "source": [
    "- ```python\n",
    "DataFrame.interpolate(method='linear', axis=0, limit=None, inplace=False, limit_direction='forward')\n",
    "```\n",
    "    + `method`\n",
    "        * `linear`：线性插值，数值之间等间距\n",
    "        * `polynomial`：多项式插值，要补充参数，该多项式的阶数`order=n`\n",
    "        * `pad`：用现有值估计"
   ]
  },
  {
   "cell_type": "code",
   "execution_count": 62,
   "metadata": {
    "slideshow": {
     "slide_type": "fragment"
    }
   },
   "outputs": [
    {
     "data": {
      "text/html": [
       "<div>\n",
       "<style scoped>\n",
       "    .dataframe tbody tr th:only-of-type {\n",
       "        vertical-align: middle;\n",
       "    }\n",
       "\n",
       "    .dataframe tbody tr th {\n",
       "        vertical-align: top;\n",
       "    }\n",
       "\n",
       "    .dataframe thead th {\n",
       "        text-align: right;\n",
       "    }\n",
       "</style>\n",
       "<table border=\"1\" class=\"dataframe\">\n",
       "  <thead>\n",
       "    <tr style=\"text-align: right;\">\n",
       "      <th></th>\n",
       "      <th>a</th>\n",
       "      <th>b</th>\n",
       "      <th>c</th>\n",
       "      <th>d</th>\n",
       "    </tr>\n",
       "  </thead>\n",
       "  <tbody>\n",
       "    <tr>\n",
       "      <th>0</th>\n",
       "      <td>0.0</td>\n",
       "      <td>NaN</td>\n",
       "      <td>-1.0</td>\n",
       "      <td>9.0</td>\n",
       "    </tr>\n",
       "    <tr>\n",
       "      <th>1</th>\n",
       "      <td>NaN</td>\n",
       "      <td>2.0</td>\n",
       "      <td>NaN</td>\n",
       "      <td>NaN</td>\n",
       "    </tr>\n",
       "    <tr>\n",
       "      <th>2</th>\n",
       "      <td>2.0</td>\n",
       "      <td>3.0</td>\n",
       "      <td>NaN</td>\n",
       "      <td>25.0</td>\n",
       "    </tr>\n",
       "    <tr>\n",
       "      <th>3</th>\n",
       "      <td>NaN</td>\n",
       "      <td>4.0</td>\n",
       "      <td>-4.0</td>\n",
       "      <td>36.0</td>\n",
       "    </tr>\n",
       "  </tbody>\n",
       "</table>\n",
       "</div>"
      ],
      "text/plain": [
       "     a    b    c     d\n",
       "0  0.0  NaN -1.0   9.0\n",
       "1  NaN  2.0  NaN   NaN\n",
       "2  2.0  3.0  NaN  25.0\n",
       "3  NaN  4.0 -4.0  36.0"
      ]
     },
     "execution_count": 62,
     "metadata": {},
     "output_type": "execute_result"
    }
   ],
   "source": [
    "df = pd.DataFrame([(0.0,  np.nan, -1.0, 9.0), (np.nan, 2.0, np.nan, np.nan), (2.0, 3.0, np.nan, 25.0), (np.nan, 4.0, -4.0, 36.0)], columns=list('abcd'))\n",
    "df\n"
   ]
  },
  {
   "cell_type": "code",
   "execution_count": 28,
   "metadata": {
    "slideshow": {
     "slide_type": "fragment"
    }
   },
   "outputs": [
    {
     "data": {
      "text/plain": [
       "0     9.0\n",
       "1    16.0\n",
       "2    25.0\n",
       "3    36.0\n",
       "Name: d, dtype: float64"
      ]
     },
     "execution_count": 28,
     "metadata": {},
     "output_type": "execute_result"
    }
   ],
   "source": [
    "df['d'].interpolate(method='polynomial', order=2)"
   ]
  },
  {
   "cell_type": "markdown",
   "metadata": {
    "slideshow": {
     "slide_type": "slide"
    }
   },
   "source": [
    "## 重复数据（duplicates）"
   ]
  },
  {
   "cell_type": "markdown",
   "metadata": {
    "slideshow": {
     "slide_type": "subslide"
    }
   },
   "source": [
    "### 识别重复数据"
   ]
  },
  {
   "cell_type": "markdown",
   "metadata": {
    "slideshow": {
     "slide_type": "fragment"
    }
   },
   "source": [
    "- ```python\n",
    "DataFrame.duplicated(keep='first')\n",
    "```\n",
    "    + 返回布尔变量构成的序列，标明哪些行是重复的\n",
    "    + `keep`\n",
    "        * `first`：第一次出现的标记为`False`，其他重复的标记为`True`\n",
    "        * `last`：最后一次出现的标记为`False`，其他重复的标记为`True`\n",
    "        * `False`：重复的全部标记为`True`"
   ]
  },
  {
   "cell_type": "code",
   "execution_count": 64,
   "metadata": {
    "slideshow": {
     "slide_type": "fragment"
    }
   },
   "outputs": [
    {
     "data": {
      "text/html": [
       "<div>\n",
       "<style scoped>\n",
       "    .dataframe tbody tr th:only-of-type {\n",
       "        vertical-align: middle;\n",
       "    }\n",
       "\n",
       "    .dataframe tbody tr th {\n",
       "        vertical-align: top;\n",
       "    }\n",
       "\n",
       "    .dataframe thead th {\n",
       "        text-align: right;\n",
       "    }\n",
       "</style>\n",
       "<table border=\"1\" class=\"dataframe\">\n",
       "  <thead>\n",
       "    <tr style=\"text-align: right;\">\n",
       "      <th></th>\n",
       "      <th>k1</th>\n",
       "      <th>k2</th>\n",
       "    </tr>\n",
       "  </thead>\n",
       "  <tbody>\n",
       "    <tr>\n",
       "      <th>0</th>\n",
       "      <td>one</td>\n",
       "      <td>1</td>\n",
       "    </tr>\n",
       "    <tr>\n",
       "      <th>1</th>\n",
       "      <td>two</td>\n",
       "      <td>1</td>\n",
       "    </tr>\n",
       "    <tr>\n",
       "      <th>2</th>\n",
       "      <td>one</td>\n",
       "      <td>2</td>\n",
       "    </tr>\n",
       "    <tr>\n",
       "      <th>3</th>\n",
       "      <td>two</td>\n",
       "      <td>3</td>\n",
       "    </tr>\n",
       "    <tr>\n",
       "      <th>4</th>\n",
       "      <td>one</td>\n",
       "      <td>3</td>\n",
       "    </tr>\n",
       "    <tr>\n",
       "      <th>5</th>\n",
       "      <td>two</td>\n",
       "      <td>4</td>\n",
       "    </tr>\n",
       "    <tr>\n",
       "      <th>6</th>\n",
       "      <td>two</td>\n",
       "      <td>4</td>\n",
       "    </tr>\n",
       "  </tbody>\n",
       "</table>\n",
       "</div>"
      ],
      "text/plain": [
       "    k1  k2\n",
       "0  one   1\n",
       "1  two   1\n",
       "2  one   2\n",
       "3  two   3\n",
       "4  one   3\n",
       "5  two   4\n",
       "6  two   4"
      ]
     },
     "execution_count": 64,
     "metadata": {},
     "output_type": "execute_result"
    },
    {
     "data": {
      "text/plain": [
       "0    False\n",
       "1    False\n",
       "2    False\n",
       "3    False\n",
       "4    False\n",
       "5    False\n",
       "6     True\n",
       "dtype: bool"
      ]
     },
     "execution_count": 64,
     "metadata": {},
     "output_type": "execute_result"
    }
   ],
   "source": [
    "df = pd.DataFrame({'k1': ['one', 'two'] * 3 + ['two'], 'k2': [1, 1, 2, 3, 3, 4, 4]})\n",
    "df\n",
    "df.duplicated(keep='first')"
   ]
  },
  {
   "cell_type": "code",
   "execution_count": 112,
   "metadata": {
    "scrolled": true,
    "slideshow": {
     "slide_type": "fragment"
    }
   },
   "outputs": [
    {
     "data": {
      "text/html": [
       "<div>\n",
       "<style scoped>\n",
       "    .dataframe tbody tr th:only-of-type {\n",
       "        vertical-align: middle;\n",
       "    }\n",
       "\n",
       "    .dataframe tbody tr th {\n",
       "        vertical-align: top;\n",
       "    }\n",
       "\n",
       "    .dataframe thead th {\n",
       "        text-align: right;\n",
       "    }\n",
       "</style>\n",
       "<table border=\"1\" class=\"dataframe\">\n",
       "  <thead>\n",
       "    <tr style=\"text-align: right;\">\n",
       "      <th></th>\n",
       "      <th>k1</th>\n",
       "      <th>k2</th>\n",
       "    </tr>\n",
       "  </thead>\n",
       "  <tbody>\n",
       "    <tr>\n",
       "      <th>0</th>\n",
       "      <td>one</td>\n",
       "      <td>1</td>\n",
       "    </tr>\n",
       "    <tr>\n",
       "      <th>1</th>\n",
       "      <td>two</td>\n",
       "      <td>1</td>\n",
       "    </tr>\n",
       "    <tr>\n",
       "      <th>2</th>\n",
       "      <td>one</td>\n",
       "      <td>2</td>\n",
       "    </tr>\n",
       "    <tr>\n",
       "      <th>3</th>\n",
       "      <td>two</td>\n",
       "      <td>3</td>\n",
       "    </tr>\n",
       "    <tr>\n",
       "      <th>4</th>\n",
       "      <td>one</td>\n",
       "      <td>3</td>\n",
       "    </tr>\n",
       "  </tbody>\n",
       "</table>\n",
       "</div>"
      ],
      "text/plain": [
       "    k1  k2\n",
       "0  one   1\n",
       "1  two   1\n",
       "2  one   2\n",
       "3  two   3\n",
       "4  one   3"
      ]
     },
     "execution_count": 112,
     "metadata": {},
     "output_type": "execute_result"
    }
   ],
   "source": [
    "df.loc[~df.duplicated(keep=False),:]"
   ]
  },
  {
   "cell_type": "markdown",
   "metadata": {
    "slideshow": {
     "slide_type": "slide"
    }
   },
   "source": [
    "### 删除重复数据"
   ]
  },
  {
   "cell_type": "markdown",
   "metadata": {
    "slideshow": {
     "slide_type": "fragment"
    }
   },
   "source": [
    "- ```python\n",
    "DataFrame.drop_duplicates(keep='first', inplace=False)\n",
    "```"
   ]
  },
  {
   "cell_type": "code",
   "execution_count": 31,
   "metadata": {
    "slideshow": {
     "slide_type": "fragment"
    }
   },
   "outputs": [
    {
     "data": {
      "text/html": [
       "<div>\n",
       "<style scoped>\n",
       "    .dataframe tbody tr th:only-of-type {\n",
       "        vertical-align: middle;\n",
       "    }\n",
       "\n",
       "    .dataframe tbody tr th {\n",
       "        vertical-align: top;\n",
       "    }\n",
       "\n",
       "    .dataframe thead th {\n",
       "        text-align: right;\n",
       "    }\n",
       "</style>\n",
       "<table border=\"1\" class=\"dataframe\">\n",
       "  <thead>\n",
       "    <tr style=\"text-align: right;\">\n",
       "      <th></th>\n",
       "      <th>k1</th>\n",
       "      <th>k2</th>\n",
       "    </tr>\n",
       "  </thead>\n",
       "  <tbody>\n",
       "    <tr>\n",
       "      <th>0</th>\n",
       "      <td>one</td>\n",
       "      <td>1</td>\n",
       "    </tr>\n",
       "    <tr>\n",
       "      <th>1</th>\n",
       "      <td>two</td>\n",
       "      <td>1</td>\n",
       "    </tr>\n",
       "    <tr>\n",
       "      <th>2</th>\n",
       "      <td>one</td>\n",
       "      <td>2</td>\n",
       "    </tr>\n",
       "    <tr>\n",
       "      <th>3</th>\n",
       "      <td>two</td>\n",
       "      <td>3</td>\n",
       "    </tr>\n",
       "    <tr>\n",
       "      <th>4</th>\n",
       "      <td>one</td>\n",
       "      <td>3</td>\n",
       "    </tr>\n",
       "    <tr>\n",
       "      <th>6</th>\n",
       "      <td>two</td>\n",
       "      <td>4</td>\n",
       "    </tr>\n",
       "  </tbody>\n",
       "</table>\n",
       "</div>"
      ],
      "text/plain": [
       "    k1  k2\n",
       "0  one   1\n",
       "1  two   1\n",
       "2  one   2\n",
       "3  two   3\n",
       "4  one   3\n",
       "6  two   4"
      ]
     },
     "execution_count": 31,
     "metadata": {},
     "output_type": "execute_result"
    }
   ],
   "source": [
    "df.drop_duplicates(keep='last') "
   ]
  },
  {
   "cell_type": "markdown",
   "metadata": {
    "slideshow": {
     "slide_type": "slide"
    }
   },
   "source": [
    "### 是否所有的重复数据都需要删除？"
   ]
  },
  {
   "cell_type": "markdown",
   "metadata": {
    "slideshow": {
     "slide_type": "fragment"
    }
   },
   "source": [
    "- 重复记录，处理样本不均衡\n",
    "    + 分组或分类问题中，有些组/类的样本少，需要采用**随机过采样**的方法复制样本"
   ]
  },
  {
   "cell_type": "markdown",
   "metadata": {
    "slideshow": {
     "slide_type": "fragment"
    }
   },
   "source": [
    "- 检验业务规则中存在的问题\n",
    "    + 例如，在线购物的时候多次点击下单，如果出现重复的订单记录，可能说明下单系统存在问题"
   ]
  },
  {
   "cell_type": "markdown",
   "metadata": {
    "slideshow": {
     "slide_type": "slide"
    }
   },
   "source": [
    "## 离群点（outliers）"
   ]
  },
  {
   "cell_type": "markdown",
   "metadata": {
    "slideshow": {
     "slide_type": "fragment"
    }
   },
   "source": [
    "- 拥有与数据集中大部分数据显著不同特征的数据对象"
   ]
  },
  {
   "cell_type": "markdown",
   "metadata": {
    "slideshow": {
     "slide_type": "fragment"
    }
   },
   "source": [
    "<img src=\"./img/pandas/outliers.png\" width=50%>"
   ]
  },
  {
   "cell_type": "markdown",
   "metadata": {
    "slideshow": {
     "slide_type": "fragment"
    }
   },
   "source": [
    "- 一些离群点会干扰数据分析，是需要去除的"
   ]
  },
  {
   "cell_type": "markdown",
   "metadata": {
    "slideshow": {
     "slide_type": "fragment"
    }
   },
   "source": [
    "- 另外一些离群点则会是数据挖掘的分析对象\n",
    "    + 信用证欺诈\n",
    "    + 网络入侵"
   ]
  },
  {
   "cell_type": "markdown",
   "metadata": {
    "slideshow": {
     "slide_type": "slide"
    }
   },
   "source": [
    "### 如何判断是否有离群点?"
   ]
  },
  {
   "cell_type": "markdown",
   "metadata": {
    "slideshow": {
     "slide_type": "fragment"
    }
   },
   "source": [
    "- 箱型图"
   ]
  },
  {
   "cell_type": "code",
   "execution_count": 99,
   "metadata": {
    "slideshow": {
     "slide_type": "fragment"
    }
   },
   "outputs": [
    {
     "data": {
      "image/png": "[encoded data removed]",
      "text/plain": [
       "<Figure size 576x432 with 3 Axes>"
      ]
     },
     "metadata": {
      "needs_background": "light"
     },
     "output_type": "display_data"
    }
   ],
   "source": [
    "_ = accept[['loan_amt','purch_price','tot_tr']].plot(kind='box',figsize=(8,6),subplots=True,layout=(1,3),grid=True)"
   ]
  },
  {
   "cell_type": "markdown",
   "metadata": {
    "slideshow": {
     "slide_type": "slide"
    }
   },
   "source": [
    "### Z-score方法"
   ]
  },
  {
   "cell_type": "markdown",
   "metadata": {
    "slideshow": {
     "slide_type": "fragment"
    }
   },
   "source": [
    "- 在正态分布下，99.7%的数据位于$[\\mu-3\\sigma,\\mu+3\\sigma]$"
   ]
  },
  {
   "cell_type": "markdown",
   "metadata": {
    "slideshow": {
     "slide_type": "fragment"
    }
   },
   "source": [
    "<img src=\"./img/pandas/normalDist.png\" width=50%>"
   ]
  },
  {
   "cell_type": "code",
   "execution_count": 39,
   "metadata": {
    "slideshow": {
     "slide_type": "slide"
    }
   },
   "outputs": [],
   "source": [
    "# 生成正态随机数\n",
    "\n",
    "normalData = np.random.normal(loc=0.0, scale=1.0, size=10000)"
   ]
  },
  {
   "cell_type": "code",
   "execution_count": 44,
   "metadata": {
    "slideshow": {
     "slide_type": "fragment"
    }
   },
   "outputs": [
    {
     "data": {
      "text/plain": [
       "<AxesSubplot:ylabel='Density'>"
      ]
     },
     "execution_count": 44,
     "metadata": {},
     "output_type": "execute_result"
    },
    {
     "data": {
      "image/png": "[encoded data removed]",
      "text/plain": [
       "<Figure size 576x432 with 1 Axes>"
      ]
     },
     "metadata": {
      "needs_background": "light"
     },
     "output_type": "display_data"
    }
   ],
   "source": [
    "# 绘制正态分布密度函数\n",
    "\n",
    "pd.Series(normalData).plot(kind='kde',figsize=(8,6))"
   ]
  },
  {
   "cell_type": "code",
   "execution_count": 48,
   "metadata": {
    "slideshow": {
     "slide_type": "fragment"
    }
   },
   "outputs": [
    {
     "data": {
      "text/plain": [
       "0.9973002039367398"
      ]
     },
     "execution_count": 48,
     "metadata": {},
     "output_type": "execute_result"
    }
   ],
   "source": [
    "# 计算标准正态分布3倍标准差之内数据的概率\n",
    "\n",
    "stats.norm.cdf(3)-stats.norm.cdf(-3)"
   ]
  },
  {
   "cell_type": "markdown",
   "metadata": {
    "slideshow": {
     "slide_type": "fragment"
    }
   },
   "source": [
    "```python \n",
    "from scipy import stats\n",
    "```"
   ]
  },
  {
   "cell_type": "markdown",
   "metadata": {
    "slideshow": {
     "slide_type": "slide"
    }
   },
   "source": [
    "- Z-score公式\n",
    "$$\n",
    "\\hat{x}=\\frac{x-\\mu}{\\sigma}\n",
    "$$"
   ]
  },
  {
   "cell_type": "code",
   "execution_count": 54,
   "metadata": {
    "slideshow": {
     "slide_type": "fragment"
    }
   },
   "outputs": [
    {
     "data": {
      "text/plain": [
       "315      60980.00\n",
       "425      46418.92\n",
       "474      49921.92\n",
       "599      45600.00\n",
       "685      45500.00\n",
       "716     111554.00\n",
       "724      45500.00\n",
       "935      63345.00\n",
       "1124     49321.56\n",
       "1228     89000.00\n",
       "1252     47622.00\n",
       "1364     45049.00\n",
       "1374     92999.75\n",
       "1549     46820.41\n",
       "1654     45994.15\n",
       "1683     50604.35\n",
       "1835     55280.45\n",
       "1857     48214.00\n",
       "1859     79750.00\n",
       "1902     74500.00\n",
       "1923     51611.00\n",
       "2327     51502.81\n",
       "2377     49400.00\n",
       "2401     52000.00\n",
       "2415     55945.00\n",
       "2566     60868.00\n",
       "2588     45512.00\n",
       "2779     52093.00\n",
       "3072     50485.00\n",
       "3155     47723.25\n",
       "3248     96692.33\n",
       "3659     49967.00\n",
       "3660     57000.00\n",
       "3687     45424.00\n",
       "4139     54825.00\n",
       "4404     54837.00\n",
       "4481     54500.00\n",
       "4585     70000.00\n",
       "4644     61327.00\n",
       "4646     46000.00\n",
       "4794     84183.25\n",
       "4832     52050.00\n",
       "4872     45630.00\n",
       "5080     51590.18\n",
       "5102     51750.00\n",
       "5145     45112.00\n",
       "5275     53883.00\n",
       "5421     45870.00\n",
       "5442     47058.79\n",
       "5680     59975.00\n",
       "5686     56330.07\n",
       "Name: loan_amt, dtype: float64"
      ]
     },
     "execution_count": 54,
     "metadata": {},
     "output_type": "execute_result"
    }
   ],
   "source": [
    "rev = accept.loc[np.abs((accept['loan_amt']-accept['loan_amt'].mean())/accept['loan_amt'].std())>3,'loan_amt']\n",
    "rev"
   ]
  },
  {
   "cell_type": "markdown",
   "metadata": {
    "slideshow": {
     "slide_type": "slide"
    }
   },
   "source": [
    "- 利用`scipy.stats`中的`zscore`函数计算"
   ]
  },
  {
   "cell_type": "code",
   "execution_count": 101,
   "metadata": {
    "slideshow": {
     "slide_type": "fragment"
    }
   },
   "outputs": [
    {
     "data": {
      "text/html": [
       "<div>\n",
       "<style scoped>\n",
       "    .dataframe tbody tr th:only-of-type {\n",
       "        vertical-align: middle;\n",
       "    }\n",
       "\n",
       "    .dataframe tbody tr th {\n",
       "        vertical-align: top;\n",
       "    }\n",
       "\n",
       "    .dataframe thead th {\n",
       "        text-align: right;\n",
       "    }\n",
       "</style>\n",
       "<table border=\"1\" class=\"dataframe\">\n",
       "  <thead>\n",
       "    <tr style=\"text-align: right;\">\n",
       "      <th></th>\n",
       "      <th>application_id</th>\n",
       "      <th>account_number</th>\n",
       "      <th>bad_ind</th>\n",
       "      <th>vehicle_year</th>\n",
       "      <th>vehicle_make</th>\n",
       "      <th>bankruptcy_ind</th>\n",
       "      <th>tot_derog</th>\n",
       "      <th>tot_tr</th>\n",
       "      <th>age_oldest_tr</th>\n",
       "      <th>tot_open_tr</th>\n",
       "      <th>...</th>\n",
       "      <th>fico_score</th>\n",
       "      <th>purch_price</th>\n",
       "      <th>msrp</th>\n",
       "      <th>down_pyt</th>\n",
       "      <th>loan_term</th>\n",
       "      <th>loan_amt</th>\n",
       "      <th>ltv</th>\n",
       "      <th>tot_income</th>\n",
       "      <th>veh_mileage</th>\n",
       "      <th>used_ind</th>\n",
       "    </tr>\n",
       "  </thead>\n",
       "  <tbody>\n",
       "    <tr>\n",
       "      <th>15</th>\n",
       "      <td>6442136</td>\n",
       "      <td>38793</td>\n",
       "      <td>0</td>\n",
       "      <td>1997.0</td>\n",
       "      <td>LOTUS</td>\n",
       "      <td>N</td>\n",
       "      <td>1.0</td>\n",
       "      <td>11.0</td>\n",
       "      <td>58.0</td>\n",
       "      <td>5.0</td>\n",
       "      <td>...</td>\n",
       "      <td>689.0</td>\n",
       "      <td>63700.00</td>\n",
       "      <td>57000.0</td>\n",
       "      <td>35000.00</td>\n",
       "      <td>60</td>\n",
       "      <td>28700.00</td>\n",
       "      <td>50.0</td>\n",
       "      <td>8333.33</td>\n",
       "      <td>14000.0</td>\n",
       "      <td>1</td>\n",
       "    </tr>\n",
       "    <tr>\n",
       "      <th>315</th>\n",
       "      <td>7576141</td>\n",
       "      <td>539438</td>\n",
       "      <td>0</td>\n",
       "      <td>2000.0</td>\n",
       "      <td>BMW</td>\n",
       "      <td>N</td>\n",
       "      <td>0.0</td>\n",
       "      <td>10.0</td>\n",
       "      <td>134.0</td>\n",
       "      <td>NaN</td>\n",
       "      <td>...</td>\n",
       "      <td>724.0</td>\n",
       "      <td>59635.00</td>\n",
       "      <td>57000.0</td>\n",
       "      <td>0.00</td>\n",
       "      <td>48</td>\n",
       "      <td>60980.00</td>\n",
       "      <td>107.0</td>\n",
       "      <td>12000.00</td>\n",
       "      <td>1.0</td>\n",
       "      <td>0</td>\n",
       "    </tr>\n",
       "    <tr>\n",
       "      <th>389</th>\n",
       "      <td>3003154</td>\n",
       "      <td>656814</td>\n",
       "      <td>0</td>\n",
       "      <td>2000.0</td>\n",
       "      <td>FORD</td>\n",
       "      <td>N</td>\n",
       "      <td>12.0</td>\n",
       "      <td>39.0</td>\n",
       "      <td>255.0</td>\n",
       "      <td>17.0</td>\n",
       "      <td>...</td>\n",
       "      <td>690.0</td>\n",
       "      <td>47570.00</td>\n",
       "      <td>42015.0</td>\n",
       "      <td>3382.15</td>\n",
       "      <td>60</td>\n",
       "      <td>44187.85</td>\n",
       "      <td>105.0</td>\n",
       "      <td>16666.67</td>\n",
       "      <td>11.0</td>\n",
       "      <td>0</td>\n",
       "    </tr>\n",
       "    <tr>\n",
       "      <th>425</th>\n",
       "      <td>9871684</td>\n",
       "      <td>730329</td>\n",
       "      <td>0</td>\n",
       "      <td>1998.0</td>\n",
       "      <td>LEXUS</td>\n",
       "      <td>N</td>\n",
       "      <td>2.0</td>\n",
       "      <td>60.0</td>\n",
       "      <td>296.0</td>\n",
       "      <td>9.0</td>\n",
       "      <td>...</td>\n",
       "      <td>677.0</td>\n",
       "      <td>47141.56</td>\n",
       "      <td>47000.0</td>\n",
       "      <td>722.64</td>\n",
       "      <td>48</td>\n",
       "      <td>46418.92</td>\n",
       "      <td>100.0</td>\n",
       "      <td>16666.67</td>\n",
       "      <td>27500.0</td>\n",
       "      <td>1</td>\n",
       "    </tr>\n",
       "    <tr>\n",
       "      <th>474</th>\n",
       "      <td>2821423</td>\n",
       "      <td>818833</td>\n",
       "      <td>0</td>\n",
       "      <td>2000.0</td>\n",
       "      <td>TOYOTA</td>\n",
       "      <td>N</td>\n",
       "      <td>0.0</td>\n",
       "      <td>20.0</td>\n",
       "      <td>219.0</td>\n",
       "      <td>4.0</td>\n",
       "      <td>...</td>\n",
       "      <td>751.0</td>\n",
       "      <td>49921.92</td>\n",
       "      <td>57254.0</td>\n",
       "      <td>0.00</td>\n",
       "      <td>60</td>\n",
       "      <td>49921.92</td>\n",
       "      <td>90.0</td>\n",
       "      <td>10416.67</td>\n",
       "      <td>11.0</td>\n",
       "      <td>0</td>\n",
       "    </tr>\n",
       "    <tr>\n",
       "      <th>599</th>\n",
       "      <td>4359949</td>\n",
       "      <td>1083123</td>\n",
       "      <td>0</td>\n",
       "      <td>2000.0</td>\n",
       "      <td>FORD</td>\n",
       "      <td>N</td>\n",
       "      <td>0.0</td>\n",
       "      <td>37.0</td>\n",
       "      <td>222.0</td>\n",
       "      <td>7.0</td>\n",
       "      <td>...</td>\n",
       "      <td>780.0</td>\n",
       "      <td>45600.00</td>\n",
       "      <td>46000.0</td>\n",
       "      <td>0.00</td>\n",
       "      <td>63</td>\n",
       "      <td>45600.00</td>\n",
       "      <td>101.0</td>\n",
       "      <td>11000.00</td>\n",
       "      <td>200.0</td>\n",
       "      <td>1</td>\n",
       "    </tr>\n",
       "    <tr>\n",
       "      <th>685</th>\n",
       "      <td>8728773</td>\n",
       "      <td>1245731</td>\n",
       "      <td>1</td>\n",
       "      <td>2000.0</td>\n",
       "      <td>JEEP</td>\n",
       "      <td>N</td>\n",
       "      <td>1.0</td>\n",
       "      <td>22.0</td>\n",
       "      <td>258.0</td>\n",
       "      <td>4.0</td>\n",
       "      <td>...</td>\n",
       "      <td>721.0</td>\n",
       "      <td>45500.00</td>\n",
       "      <td>38100.0</td>\n",
       "      <td>0.00</td>\n",
       "      <td>60</td>\n",
       "      <td>45500.00</td>\n",
       "      <td>119.0</td>\n",
       "      <td>5000.00</td>\n",
       "      <td>4600.0</td>\n",
       "      <td>0</td>\n",
       "    </tr>\n",
       "    <tr>\n",
       "      <th>716</th>\n",
       "      <td>9940911</td>\n",
       "      <td>1289971</td>\n",
       "      <td>0</td>\n",
       "      <td>0.0</td>\n",
       "      <td>NaN</td>\n",
       "      <td>N</td>\n",
       "      <td>10.0</td>\n",
       "      <td>62.0</td>\n",
       "      <td>219.0</td>\n",
       "      <td>18.0</td>\n",
       "      <td>...</td>\n",
       "      <td>632.0</td>\n",
       "      <td>111554.00</td>\n",
       "      <td>200000.0</td>\n",
       "      <td>0.00</td>\n",
       "      <td>66</td>\n",
       "      <td>111554.00</td>\n",
       "      <td>56.0</td>\n",
       "      <td>25000.00</td>\n",
       "      <td>0.0</td>\n",
       "      <td>0</td>\n",
       "    </tr>\n",
       "    <tr>\n",
       "      <th>724</th>\n",
       "      <td>5970514</td>\n",
       "      <td>1305446</td>\n",
       "      <td>1</td>\n",
       "      <td>2000.0</td>\n",
       "      <td>CHEV</td>\n",
       "      <td>N</td>\n",
       "      <td>1.0</td>\n",
       "      <td>29.0</td>\n",
       "      <td>304.0</td>\n",
       "      <td>11.0</td>\n",
       "      <td>...</td>\n",
       "      <td>637.0</td>\n",
       "      <td>48700.00</td>\n",
       "      <td>45609.0</td>\n",
       "      <td>3291.00</td>\n",
       "      <td>60</td>\n",
       "      <td>45500.00</td>\n",
       "      <td>102.0</td>\n",
       "      <td>4200.00</td>\n",
       "      <td>50.0</td>\n",
       "      <td>0</td>\n",
       "    </tr>\n",
       "    <tr>\n",
       "      <th>935</th>\n",
       "      <td>1212101</td>\n",
       "      <td>1683911</td>\n",
       "      <td>0</td>\n",
       "      <td>2000.0</td>\n",
       "      <td>MERCEDES</td>\n",
       "      <td>N</td>\n",
       "      <td>2.0</td>\n",
       "      <td>18.0</td>\n",
       "      <td>183.0</td>\n",
       "      <td>7.0</td>\n",
       "      <td>...</td>\n",
       "      <td>668.0</td>\n",
       "      <td>62800.00</td>\n",
       "      <td>59900.0</td>\n",
       "      <td>0.00</td>\n",
       "      <td>60</td>\n",
       "      <td>63345.00</td>\n",
       "      <td>106.0</td>\n",
       "      <td>10000.00</td>\n",
       "      <td>1.0</td>\n",
       "      <td>0</td>\n",
       "    </tr>\n",
       "    <tr>\n",
       "      <th>1124</th>\n",
       "      <td>3373337</td>\n",
       "      <td>2011594</td>\n",
       "      <td>0</td>\n",
       "      <td>2000.0</td>\n",
       "      <td>FORD</td>\n",
       "      <td>N</td>\n",
       "      <td>0.0</td>\n",
       "      <td>32.0</td>\n",
       "      <td>318.0</td>\n",
       "      <td>10.0</td>\n",
       "      <td>...</td>\n",
       "      <td>697.0</td>\n",
       "      <td>54696.56</td>\n",
       "      <td>46407.0</td>\n",
       "      <td>5375.00</td>\n",
       "      <td>48</td>\n",
       "      <td>49321.56</td>\n",
       "      <td>106.0</td>\n",
       "      <td>15750.00</td>\n",
       "      <td>1.0</td>\n",
       "      <td>0</td>\n",
       "    </tr>\n",
       "    <tr>\n",
       "      <th>1228</th>\n",
       "      <td>5839774</td>\n",
       "      <td>2174717</td>\n",
       "      <td>0</td>\n",
       "      <td>2000.0</td>\n",
       "      <td>PORSCHE</td>\n",
       "      <td>N</td>\n",
       "      <td>0.0</td>\n",
       "      <td>35.0</td>\n",
       "      <td>332.0</td>\n",
       "      <td>8.0</td>\n",
       "      <td>...</td>\n",
       "      <td>714.0</td>\n",
       "      <td>90000.00</td>\n",
       "      <td>89765.0</td>\n",
       "      <td>1000.00</td>\n",
       "      <td>36</td>\n",
       "      <td>89000.00</td>\n",
       "      <td>99.0</td>\n",
       "      <td>11000.00</td>\n",
       "      <td>35.0</td>\n",
       "      <td>0</td>\n",
       "    </tr>\n",
       "    <tr>\n",
       "      <th>1252</th>\n",
       "      <td>3478815</td>\n",
       "      <td>2218851</td>\n",
       "      <td>0</td>\n",
       "      <td>2000.0</td>\n",
       "      <td>FORD</td>\n",
       "      <td>N</td>\n",
       "      <td>0.0</td>\n",
       "      <td>15.0</td>\n",
       "      <td>122.0</td>\n",
       "      <td>5.0</td>\n",
       "      <td>...</td>\n",
       "      <td>749.0</td>\n",
       "      <td>47622.00</td>\n",
       "      <td>39590.0</td>\n",
       "      <td>0.00</td>\n",
       "      <td>72</td>\n",
       "      <td>47622.00</td>\n",
       "      <td>122.0</td>\n",
       "      <td>6000.00</td>\n",
       "      <td>1.0</td>\n",
       "      <td>0</td>\n",
       "    </tr>\n",
       "    <tr>\n",
       "      <th>1364</th>\n",
       "      <td>3685848</td>\n",
       "      <td>2384012</td>\n",
       "      <td>0</td>\n",
       "      <td>2000.0</td>\n",
       "      <td>CHEVY</td>\n",
       "      <td>N</td>\n",
       "      <td>0.0</td>\n",
       "      <td>36.0</td>\n",
       "      <td>197.0</td>\n",
       "      <td>NaN</td>\n",
       "      <td>...</td>\n",
       "      <td>748.0</td>\n",
       "      <td>48549.00</td>\n",
       "      <td>49549.0</td>\n",
       "      <td>3500.00</td>\n",
       "      <td>24</td>\n",
       "      <td>45049.00</td>\n",
       "      <td>93.0</td>\n",
       "      <td>14583.33</td>\n",
       "      <td>1.0</td>\n",
       "      <td>0</td>\n",
       "    </tr>\n",
       "    <tr>\n",
       "      <th>1374</th>\n",
       "      <td>9072105</td>\n",
       "      <td>2401195</td>\n",
       "      <td>0</td>\n",
       "      <td>2000.0</td>\n",
       "      <td>MERCEDES</td>\n",
       "      <td>N</td>\n",
       "      <td>0.0</td>\n",
       "      <td>20.0</td>\n",
       "      <td>174.0</td>\n",
       "      <td>6.0</td>\n",
       "      <td>...</td>\n",
       "      <td>713.0</td>\n",
       "      <td>92999.75</td>\n",
       "      <td>89695.0</td>\n",
       "      <td>0.00</td>\n",
       "      <td>36</td>\n",
       "      <td>92999.75</td>\n",
       "      <td>104.0</td>\n",
       "      <td>291666.67</td>\n",
       "      <td>1.0</td>\n",
       "      <td>0</td>\n",
       "    </tr>\n",
       "    <tr>\n",
       "      <th>1549</th>\n",
       "      <td>9210161</td>\n",
       "      <td>2702643</td>\n",
       "      <td>0</td>\n",
       "      <td>2000.0</td>\n",
       "      <td>FORD</td>\n",
       "      <td>N</td>\n",
       "      <td>1.0</td>\n",
       "      <td>23.0</td>\n",
       "      <td>148.0</td>\n",
       "      <td>8.0</td>\n",
       "      <td>...</td>\n",
       "      <td>782.0</td>\n",
       "      <td>46820.41</td>\n",
       "      <td>38400.0</td>\n",
       "      <td>0.00</td>\n",
       "      <td>60</td>\n",
       "      <td>46820.41</td>\n",
       "      <td>131.0</td>\n",
       "      <td>6500.00</td>\n",
       "      <td>13.0</td>\n",
       "      <td>0</td>\n",
       "    </tr>\n",
       "    <tr>\n",
       "      <th>1612</th>\n",
       "      <td>9276538</td>\n",
       "      <td>2811798</td>\n",
       "      <td>0</td>\n",
       "      <td>2000.0</td>\n",
       "      <td>TOYOTA</td>\n",
       "      <td>N</td>\n",
       "      <td>0.0</td>\n",
       "      <td>15.0</td>\n",
       "      <td>142.0</td>\n",
       "      <td>5.0</td>\n",
       "      <td>...</td>\n",
       "      <td>753.0</td>\n",
       "      <td>52626.00</td>\n",
       "      <td>1.0</td>\n",
       "      <td>20000.00</td>\n",
       "      <td>60</td>\n",
       "      <td>32626.00</td>\n",
       "      <td>62.0</td>\n",
       "      <td>6000.00</td>\n",
       "      <td>1.0</td>\n",
       "      <td>0</td>\n",
       "    </tr>\n",
       "    <tr>\n",
       "      <th>1654</th>\n",
       "      <td>5885047</td>\n",
       "      <td>2867794</td>\n",
       "      <td>0</td>\n",
       "      <td>1998.0</td>\n",
       "      <td>MB</td>\n",
       "      <td>N</td>\n",
       "      <td>4.0</td>\n",
       "      <td>31.0</td>\n",
       "      <td>216.0</td>\n",
       "      <td>8.0</td>\n",
       "      <td>...</td>\n",
       "      <td>733.0</td>\n",
       "      <td>46994.15</td>\n",
       "      <td>45500.0</td>\n",
       "      <td>1000.00</td>\n",
       "      <td>72</td>\n",
       "      <td>45994.15</td>\n",
       "      <td>101.0</td>\n",
       "      <td>14701.75</td>\n",
       "      <td>20000.0</td>\n",
       "      <td>1</td>\n",
       "    </tr>\n",
       "    <tr>\n",
       "      <th>1683</th>\n",
       "      <td>7138745</td>\n",
       "      <td>2905309</td>\n",
       "      <td>0</td>\n",
       "      <td>2000.0</td>\n",
       "      <td>PORCHE</td>\n",
       "      <td>N</td>\n",
       "      <td>2.0</td>\n",
       "      <td>23.0</td>\n",
       "      <td>171.0</td>\n",
       "      <td>3.0</td>\n",
       "      <td>...</td>\n",
       "      <td>NaN</td>\n",
       "      <td>54247.00</td>\n",
       "      <td>54246.0</td>\n",
       "      <td>5000.00</td>\n",
       "      <td>48</td>\n",
       "      <td>50604.35</td>\n",
       "      <td>93.0</td>\n",
       "      <td>46666.67</td>\n",
       "      <td>1.0</td>\n",
       "      <td>0</td>\n",
       "    </tr>\n",
       "    <tr>\n",
       "      <th>1835</th>\n",
       "      <td>6040333</td>\n",
       "      <td>3176287</td>\n",
       "      <td>0</td>\n",
       "      <td>2000.0</td>\n",
       "      <td>PORSHE</td>\n",
       "      <td>Y</td>\n",
       "      <td>3.0</td>\n",
       "      <td>19.0</td>\n",
       "      <td>155.0</td>\n",
       "      <td>2.0</td>\n",
       "      <td>...</td>\n",
       "      <td>NaN</td>\n",
       "      <td>55280.45</td>\n",
       "      <td>49149.0</td>\n",
       "      <td>6781.90</td>\n",
       "      <td>60</td>\n",
       "      <td>55280.45</td>\n",
       "      <td>112.0</td>\n",
       "      <td>10000.00</td>\n",
       "      <td>0.0</td>\n",
       "      <td>0</td>\n",
       "    </tr>\n",
       "    <tr>\n",
       "      <th>1857</th>\n",
       "      <td>598625</td>\n",
       "      <td>3207678</td>\n",
       "      <td>1</td>\n",
       "      <td>2000.0</td>\n",
       "      <td>CHEVY</td>\n",
       "      <td>N</td>\n",
       "      <td>0.0</td>\n",
       "      <td>21.0</td>\n",
       "      <td>158.0</td>\n",
       "      <td>NaN</td>\n",
       "      <td>...</td>\n",
       "      <td>NaN</td>\n",
       "      <td>49214.00</td>\n",
       "      <td>46014.0</td>\n",
       "      <td>1000.00</td>\n",
       "      <td>60</td>\n",
       "      <td>48214.00</td>\n",
       "      <td>106.0</td>\n",
       "      <td>0.00</td>\n",
       "      <td>60.0</td>\n",
       "      <td>0</td>\n",
       "    </tr>\n",
       "    <tr>\n",
       "      <th>1859</th>\n",
       "      <td>882254</td>\n",
       "      <td>3213303</td>\n",
       "      <td>0</td>\n",
       "      <td>2000.0</td>\n",
       "      <td>JAGUAR</td>\n",
       "      <td>N</td>\n",
       "      <td>0.0</td>\n",
       "      <td>33.0</td>\n",
       "      <td>148.0</td>\n",
       "      <td>17.0</td>\n",
       "      <td>...</td>\n",
       "      <td>665.0</td>\n",
       "      <td>87840.00</td>\n",
       "      <td>69145.0</td>\n",
       "      <td>8090.00</td>\n",
       "      <td>60</td>\n",
       "      <td>79750.00</td>\n",
       "      <td>115.0</td>\n",
       "      <td>16063.33</td>\n",
       "      <td>1.0</td>\n",
       "      <td>0</td>\n",
       "    </tr>\n",
       "    <tr>\n",
       "      <th>1902</th>\n",
       "      <td>7596942</td>\n",
       "      <td>3287149</td>\n",
       "      <td>0</td>\n",
       "      <td>2000.0</td>\n",
       "      <td>M-B</td>\n",
       "      <td>NaN</td>\n",
       "      <td>NaN</td>\n",
       "      <td>NaN</td>\n",
       "      <td>NaN</td>\n",
       "      <td>NaN</td>\n",
       "      <td>...</td>\n",
       "      <td>696.0</td>\n",
       "      <td>74500.00</td>\n",
       "      <td>68500.0</td>\n",
       "      <td>0.00</td>\n",
       "      <td>36</td>\n",
       "      <td>74500.00</td>\n",
       "      <td>110.0</td>\n",
       "      <td>0.00</td>\n",
       "      <td>11600.0</td>\n",
       "      <td>0</td>\n",
       "    </tr>\n",
       "    <tr>\n",
       "      <th>1923</th>\n",
       "      <td>3919252</td>\n",
       "      <td>3324931</td>\n",
       "      <td>0</td>\n",
       "      <td>2000.0</td>\n",
       "      <td>TOYOTA</td>\n",
       "      <td>N</td>\n",
       "      <td>1.0</td>\n",
       "      <td>23.0</td>\n",
       "      <td>207.0</td>\n",
       "      <td>5.0</td>\n",
       "      <td>...</td>\n",
       "      <td>693.0</td>\n",
       "      <td>51611.00</td>\n",
       "      <td>56859.0</td>\n",
       "      <td>0.00</td>\n",
       "      <td>24</td>\n",
       "      <td>51611.00</td>\n",
       "      <td>91.0</td>\n",
       "      <td>15000.00</td>\n",
       "      <td>18.0</td>\n",
       "      <td>0</td>\n",
       "    </tr>\n",
       "    <tr>\n",
       "      <th>2327</th>\n",
       "      <td>2774439</td>\n",
       "      <td>3990494</td>\n",
       "      <td>0</td>\n",
       "      <td>2000.0</td>\n",
       "      <td>CHEVY</td>\n",
       "      <td>N</td>\n",
       "      <td>0.0</td>\n",
       "      <td>51.0</td>\n",
       "      <td>139.0</td>\n",
       "      <td>7.0</td>\n",
       "      <td>...</td>\n",
       "      <td>758.0</td>\n",
       "      <td>52561.00</td>\n",
       "      <td>48200.0</td>\n",
       "      <td>1058.19</td>\n",
       "      <td>39</td>\n",
       "      <td>51502.81</td>\n",
       "      <td>107.0</td>\n",
       "      <td>7083.33</td>\n",
       "      <td>15.0</td>\n",
       "      <td>0</td>\n",
       "    </tr>\n",
       "    <tr>\n",
       "      <th>2377</th>\n",
       "      <td>1819285</td>\n",
       "      <td>4054612</td>\n",
       "      <td>0</td>\n",
       "      <td>2000.0</td>\n",
       "      <td>LEXUS</td>\n",
       "      <td>N</td>\n",
       "      <td>2.0</td>\n",
       "      <td>53.0</td>\n",
       "      <td>145.0</td>\n",
       "      <td>8.0</td>\n",
       "      <td>...</td>\n",
       "      <td>684.0</td>\n",
       "      <td>49400.00</td>\n",
       "      <td>50865.0</td>\n",
       "      <td>0.00</td>\n",
       "      <td>48</td>\n",
       "      <td>49400.00</td>\n",
       "      <td>97.0</td>\n",
       "      <td>10916.67</td>\n",
       "      <td>1.0</td>\n",
       "      <td>0</td>\n",
       "    </tr>\n",
       "    <tr>\n",
       "      <th>2401</th>\n",
       "      <td>3353402</td>\n",
       "      <td>4087429</td>\n",
       "      <td>0</td>\n",
       "      <td>2000.0</td>\n",
       "      <td>MERCEDES</td>\n",
       "      <td>N</td>\n",
       "      <td>0.0</td>\n",
       "      <td>45.0</td>\n",
       "      <td>257.0</td>\n",
       "      <td>5.0</td>\n",
       "      <td>...</td>\n",
       "      <td>720.0</td>\n",
       "      <td>52000.00</td>\n",
       "      <td>52000.0</td>\n",
       "      <td>0.00</td>\n",
       "      <td>60</td>\n",
       "      <td>52000.00</td>\n",
       "      <td>101.0</td>\n",
       "      <td>12500.00</td>\n",
       "      <td>1.0</td>\n",
       "      <td>0</td>\n",
       "    </tr>\n",
       "    <tr>\n",
       "      <th>2415</th>\n",
       "      <td>8143039</td>\n",
       "      <td>4113512</td>\n",
       "      <td>0</td>\n",
       "      <td>2000.0</td>\n",
       "      <td>PORSCHE</td>\n",
       "      <td>N</td>\n",
       "      <td>0.0</td>\n",
       "      <td>31.0</td>\n",
       "      <td>187.0</td>\n",
       "      <td>3.0</td>\n",
       "      <td>...</td>\n",
       "      <td>793.0</td>\n",
       "      <td>56940.00</td>\n",
       "      <td>55262.0</td>\n",
       "      <td>995.00</td>\n",
       "      <td>60</td>\n",
       "      <td>55945.00</td>\n",
       "      <td>101.0</td>\n",
       "      <td>8333.33</td>\n",
       "      <td>1.0</td>\n",
       "      <td>0</td>\n",
       "    </tr>\n",
       "    <tr>\n",
       "      <th>2566</th>\n",
       "      <td>9955435</td>\n",
       "      <td>4370660</td>\n",
       "      <td>0</td>\n",
       "      <td>2000.0</td>\n",
       "      <td>PORSCHE</td>\n",
       "      <td>N</td>\n",
       "      <td>1.0</td>\n",
       "      <td>45.0</td>\n",
       "      <td>210.0</td>\n",
       "      <td>14.0</td>\n",
       "      <td>...</td>\n",
       "      <td>681.0</td>\n",
       "      <td>60868.00</td>\n",
       "      <td>59717.0</td>\n",
       "      <td>0.00</td>\n",
       "      <td>36</td>\n",
       "      <td>60868.00</td>\n",
       "      <td>102.0</td>\n",
       "      <td>20833.33</td>\n",
       "      <td>20.0</td>\n",
       "      <td>0</td>\n",
       "    </tr>\n",
       "    <tr>\n",
       "      <th>2588</th>\n",
       "      <td>1148961</td>\n",
       "      <td>4394359</td>\n",
       "      <td>0</td>\n",
       "      <td>2000.0</td>\n",
       "      <td>FORD</td>\n",
       "      <td>N</td>\n",
       "      <td>0.0</td>\n",
       "      <td>24.0</td>\n",
       "      <td>198.0</td>\n",
       "      <td>6.0</td>\n",
       "      <td>...</td>\n",
       "      <td>778.0</td>\n",
       "      <td>46012.00</td>\n",
       "      <td>46245.0</td>\n",
       "      <td>500.00</td>\n",
       "      <td>66</td>\n",
       "      <td>45512.00</td>\n",
       "      <td>100.0</td>\n",
       "      <td>8000.00</td>\n",
       "      <td>1.0</td>\n",
       "      <td>0</td>\n",
       "    </tr>\n",
       "    <tr>\n",
       "      <th>2779</th>\n",
       "      <td>4152593</td>\n",
       "      <td>4745186</td>\n",
       "      <td>0</td>\n",
       "      <td>2000.0</td>\n",
       "      <td>CHEVY</td>\n",
       "      <td>N</td>\n",
       "      <td>1.0</td>\n",
       "      <td>25.0</td>\n",
       "      <td>79.0</td>\n",
       "      <td>12.0</td>\n",
       "      <td>...</td>\n",
       "      <td>614.0</td>\n",
       "      <td>50648.00</td>\n",
       "      <td>52634.0</td>\n",
       "      <td>2000.00</td>\n",
       "      <td>72</td>\n",
       "      <td>52093.00</td>\n",
       "      <td>102.0</td>\n",
       "      <td>16666.67</td>\n",
       "      <td>1.0</td>\n",
       "      <td>0</td>\n",
       "    </tr>\n",
       "    <tr>\n",
       "      <th>2832</th>\n",
       "      <td>8273112</td>\n",
       "      <td>4833040</td>\n",
       "      <td>0</td>\n",
       "      <td>2000.0</td>\n",
       "      <td>PORSCHE</td>\n",
       "      <td>Y</td>\n",
       "      <td>20.0</td>\n",
       "      <td>33.0</td>\n",
       "      <td>78.0</td>\n",
       "      <td>9.0</td>\n",
       "      <td>...</td>\n",
       "      <td>715.0</td>\n",
       "      <td>53337.00</td>\n",
       "      <td>50042.0</td>\n",
       "      <td>3000.00</td>\n",
       "      <td>60</td>\n",
       "      <td>44300.00</td>\n",
       "      <td>89.0</td>\n",
       "      <td>9833.33</td>\n",
       "      <td>1.0</td>\n",
       "      <td>0</td>\n",
       "    </tr>\n",
       "    <tr>\n",
       "      <th>3072</th>\n",
       "      <td>6018352</td>\n",
       "      <td>5264041</td>\n",
       "      <td>0</td>\n",
       "      <td>2000.0</td>\n",
       "      <td>MB</td>\n",
       "      <td>N</td>\n",
       "      <td>5.0</td>\n",
       "      <td>22.0</td>\n",
       "      <td>412.0</td>\n",
       "      <td>6.0</td>\n",
       "      <td>...</td>\n",
       "      <td>699.0</td>\n",
       "      <td>50485.00</td>\n",
       "      <td>50485.0</td>\n",
       "      <td>0.00</td>\n",
       "      <td>48</td>\n",
       "      <td>50485.00</td>\n",
       "      <td>102.0</td>\n",
       "      <td>20833.33</td>\n",
       "      <td>1.0</td>\n",
       "      <td>0</td>\n",
       "    </tr>\n",
       "    <tr>\n",
       "      <th>3155</th>\n",
       "      <td>499070</td>\n",
       "      <td>5408839</td>\n",
       "      <td>0</td>\n",
       "      <td>2000.0</td>\n",
       "      <td>LEXUS</td>\n",
       "      <td>N</td>\n",
       "      <td>0.0</td>\n",
       "      <td>10.0</td>\n",
       "      <td>252.0</td>\n",
       "      <td>NaN</td>\n",
       "      <td>...</td>\n",
       "      <td>754.0</td>\n",
       "      <td>47723.25</td>\n",
       "      <td>49665.0</td>\n",
       "      <td>0.00</td>\n",
       "      <td>36</td>\n",
       "      <td>47723.25</td>\n",
       "      <td>96.0</td>\n",
       "      <td>20833.33</td>\n",
       "      <td>126.0</td>\n",
       "      <td>0</td>\n",
       "    </tr>\n",
       "    <tr>\n",
       "      <th>3248</th>\n",
       "      <td>9108386</td>\n",
       "      <td>5585244</td>\n",
       "      <td>1</td>\n",
       "      <td>2000.0</td>\n",
       "      <td>PORSCHE</td>\n",
       "      <td>N</td>\n",
       "      <td>0.0</td>\n",
       "      <td>34.0</td>\n",
       "      <td>254.0</td>\n",
       "      <td>5.0</td>\n",
       "      <td>...</td>\n",
       "      <td>760.0</td>\n",
       "      <td>96692.33</td>\n",
       "      <td>93280.0</td>\n",
       "      <td>0.00</td>\n",
       "      <td>60</td>\n",
       "      <td>96692.33</td>\n",
       "      <td>104.0</td>\n",
       "      <td>5833.33</td>\n",
       "      <td>1.0</td>\n",
       "      <td>0</td>\n",
       "    </tr>\n",
       "    <tr>\n",
       "      <th>3446</th>\n",
       "      <td>4804521</td>\n",
       "      <td>5900074</td>\n",
       "      <td>1</td>\n",
       "      <td>2000.0</td>\n",
       "      <td>CHEVROLET</td>\n",
       "      <td>Y</td>\n",
       "      <td>9.0</td>\n",
       "      <td>43.0</td>\n",
       "      <td>172.0</td>\n",
       "      <td>13.0</td>\n",
       "      <td>...</td>\n",
       "      <td>647.0</td>\n",
       "      <td>55349.00</td>\n",
       "      <td>41545.0</td>\n",
       "      <td>10621.00</td>\n",
       "      <td>60</td>\n",
       "      <td>44728.00</td>\n",
       "      <td>116.0</td>\n",
       "      <td>8333.33</td>\n",
       "      <td>1.0</td>\n",
       "      <td>0</td>\n",
       "    </tr>\n",
       "    <tr>\n",
       "      <th>3659</th>\n",
       "      <td>6858188</td>\n",
       "      <td>6244663</td>\n",
       "      <td>0</td>\n",
       "      <td>2000.0</td>\n",
       "      <td>PORS</td>\n",
       "      <td>N</td>\n",
       "      <td>2.0</td>\n",
       "      <td>45.0</td>\n",
       "      <td>214.0</td>\n",
       "      <td>19.0</td>\n",
       "      <td>...</td>\n",
       "      <td>640.0</td>\n",
       "      <td>49800.00</td>\n",
       "      <td>49837.0</td>\n",
       "      <td>0.00</td>\n",
       "      <td>36</td>\n",
       "      <td>49967.00</td>\n",
       "      <td>101.0</td>\n",
       "      <td>10000.00</td>\n",
       "      <td>1.0</td>\n",
       "      <td>0</td>\n",
       "    </tr>\n",
       "    <tr>\n",
       "      <th>3660</th>\n",
       "      <td>1378603</td>\n",
       "      <td>6249530</td>\n",
       "      <td>0</td>\n",
       "      <td>2000.0</td>\n",
       "      <td>LEXUS</td>\n",
       "      <td>NaN</td>\n",
       "      <td>NaN</td>\n",
       "      <td>NaN</td>\n",
       "      <td>NaN</td>\n",
       "      <td>NaN</td>\n",
       "      <td>...</td>\n",
       "      <td>726.0</td>\n",
       "      <td>57000.00</td>\n",
       "      <td>57000.0</td>\n",
       "      <td>0.00</td>\n",
       "      <td>60</td>\n",
       "      <td>57000.00</td>\n",
       "      <td>100.0</td>\n",
       "      <td>0.00</td>\n",
       "      <td>1.0</td>\n",
       "      <td>0</td>\n",
       "    </tr>\n",
       "    <tr>\n",
       "      <th>3687</th>\n",
       "      <td>176130</td>\n",
       "      <td>6298357</td>\n",
       "      <td>1</td>\n",
       "      <td>2000.0</td>\n",
       "      <td>CHEVY</td>\n",
       "      <td>Y</td>\n",
       "      <td>16.0</td>\n",
       "      <td>43.0</td>\n",
       "      <td>340.0</td>\n",
       "      <td>9.0</td>\n",
       "      <td>...</td>\n",
       "      <td>557.0</td>\n",
       "      <td>50424.00</td>\n",
       "      <td>50424.0</td>\n",
       "      <td>5000.00</td>\n",
       "      <td>24</td>\n",
       "      <td>45424.00</td>\n",
       "      <td>91.0</td>\n",
       "      <td>16666.67</td>\n",
       "      <td>1.0</td>\n",
       "      <td>0</td>\n",
       "    </tr>\n",
       "    <tr>\n",
       "      <th>3929</th>\n",
       "      <td>4889804</td>\n",
       "      <td>6756108</td>\n",
       "      <td>0</td>\n",
       "      <td>2000.0</td>\n",
       "      <td>PORSCHE</td>\n",
       "      <td>N</td>\n",
       "      <td>7.0</td>\n",
       "      <td>11.0</td>\n",
       "      <td>149.0</td>\n",
       "      <td>NaN</td>\n",
       "      <td>...</td>\n",
       "      <td>797.0</td>\n",
       "      <td>53100.00</td>\n",
       "      <td>52500.0</td>\n",
       "      <td>25047.00</td>\n",
       "      <td>60</td>\n",
       "      <td>28053.00</td>\n",
       "      <td>53.0</td>\n",
       "      <td>26833.33</td>\n",
       "      <td>1.0</td>\n",
       "      <td>0</td>\n",
       "    </tr>\n",
       "    <tr>\n",
       "      <th>4131</th>\n",
       "      <td>8826098</td>\n",
       "      <td>7115789</td>\n",
       "      <td>1</td>\n",
       "      <td>1995.0</td>\n",
       "      <td>MERCEDES</td>\n",
       "      <td>N</td>\n",
       "      <td>12.0</td>\n",
       "      <td>21.0</td>\n",
       "      <td>250.0</td>\n",
       "      <td>5.0</td>\n",
       "      <td>...</td>\n",
       "      <td>531.0</td>\n",
       "      <td>50000.00</td>\n",
       "      <td>30000.0</td>\n",
       "      <td>0.00</td>\n",
       "      <td>36</td>\n",
       "      <td>20000.00</td>\n",
       "      <td>68.0</td>\n",
       "      <td>6083.33</td>\n",
       "      <td>100.0</td>\n",
       "      <td>1</td>\n",
       "    </tr>\n",
       "    <tr>\n",
       "      <th>4139</th>\n",
       "      <td>7867640</td>\n",
       "      <td>7128019</td>\n",
       "      <td>0</td>\n",
       "      <td>2000.0</td>\n",
       "      <td>MERCEDES BENZ</td>\n",
       "      <td>N</td>\n",
       "      <td>0.0</td>\n",
       "      <td>36.0</td>\n",
       "      <td>133.0</td>\n",
       "      <td>6.0</td>\n",
       "      <td>...</td>\n",
       "      <td>700.0</td>\n",
       "      <td>55825.00</td>\n",
       "      <td>54780.0</td>\n",
       "      <td>1000.00</td>\n",
       "      <td>24</td>\n",
       "      <td>54825.00</td>\n",
       "      <td>100.0</td>\n",
       "      <td>11000.00</td>\n",
       "      <td>27.0</td>\n",
       "      <td>0</td>\n",
       "    </tr>\n",
       "    <tr>\n",
       "      <th>4404</th>\n",
       "      <td>8268612</td>\n",
       "      <td>7590108</td>\n",
       "      <td>0</td>\n",
       "      <td>2000.0</td>\n",
       "      <td>PORSCHE</td>\n",
       "      <td>N</td>\n",
       "      <td>0.0</td>\n",
       "      <td>32.0</td>\n",
       "      <td>203.0</td>\n",
       "      <td>6.0</td>\n",
       "      <td>...</td>\n",
       "      <td>742.0</td>\n",
       "      <td>54837.00</td>\n",
       "      <td>49500.0</td>\n",
       "      <td>0.00</td>\n",
       "      <td>48</td>\n",
       "      <td>54837.00</td>\n",
       "      <td>111.0</td>\n",
       "      <td>8333.33</td>\n",
       "      <td>1.0</td>\n",
       "      <td>0</td>\n",
       "    </tr>\n",
       "    <tr>\n",
       "      <th>4481</th>\n",
       "      <td>1629727</td>\n",
       "      <td>7718158</td>\n",
       "      <td>0</td>\n",
       "      <td>2000.0</td>\n",
       "      <td>LEXUS</td>\n",
       "      <td>N</td>\n",
       "      <td>1.0</td>\n",
       "      <td>23.0</td>\n",
       "      <td>456.0</td>\n",
       "      <td>NaN</td>\n",
       "      <td>...</td>\n",
       "      <td>710.0</td>\n",
       "      <td>54500.00</td>\n",
       "      <td>57575.0</td>\n",
       "      <td>0.00</td>\n",
       "      <td>36</td>\n",
       "      <td>54500.00</td>\n",
       "      <td>99.0</td>\n",
       "      <td>12500.00</td>\n",
       "      <td>1.0</td>\n",
       "      <td>0</td>\n",
       "    </tr>\n",
       "    <tr>\n",
       "      <th>4585</th>\n",
       "      <td>5805304</td>\n",
       "      <td>7867516</td>\n",
       "      <td>0</td>\n",
       "      <td>2000.0</td>\n",
       "      <td>PORSCHE</td>\n",
       "      <td>N</td>\n",
       "      <td>1.0</td>\n",
       "      <td>20.0</td>\n",
       "      <td>228.0</td>\n",
       "      <td>NaN</td>\n",
       "      <td>...</td>\n",
       "      <td>779.0</td>\n",
       "      <td>83281.25</td>\n",
       "      <td>79175.0</td>\n",
       "      <td>13281.25</td>\n",
       "      <td>60</td>\n",
       "      <td>70000.00</td>\n",
       "      <td>89.0</td>\n",
       "      <td>12044.00</td>\n",
       "      <td>1.0</td>\n",
       "      <td>0</td>\n",
       "    </tr>\n",
       "    <tr>\n",
       "      <th>4644</th>\n",
       "      <td>9539120</td>\n",
       "      <td>7978485</td>\n",
       "      <td>0</td>\n",
       "      <td>2000.0</td>\n",
       "      <td>PORSCHE</td>\n",
       "      <td>N</td>\n",
       "      <td>3.0</td>\n",
       "      <td>31.0</td>\n",
       "      <td>215.0</td>\n",
       "      <td>7.0</td>\n",
       "      <td>...</td>\n",
       "      <td>685.0</td>\n",
       "      <td>59327.00</td>\n",
       "      <td>59657.0</td>\n",
       "      <td>0.00</td>\n",
       "      <td>36</td>\n",
       "      <td>61327.00</td>\n",
       "      <td>103.0</td>\n",
       "      <td>13333.33</td>\n",
       "      <td>1.0</td>\n",
       "      <td>0</td>\n",
       "    </tr>\n",
       "    <tr>\n",
       "      <th>4646</th>\n",
       "      <td>3109674</td>\n",
       "      <td>7986128</td>\n",
       "      <td>0</td>\n",
       "      <td>2000.0</td>\n",
       "      <td>LINCOLN</td>\n",
       "      <td>N</td>\n",
       "      <td>0.0</td>\n",
       "      <td>33.0</td>\n",
       "      <td>324.0</td>\n",
       "      <td>8.0</td>\n",
       "      <td>...</td>\n",
       "      <td>712.0</td>\n",
       "      <td>46000.00</td>\n",
       "      <td>46000.0</td>\n",
       "      <td>0.00</td>\n",
       "      <td>39</td>\n",
       "      <td>46000.00</td>\n",
       "      <td>100.0</td>\n",
       "      <td>20833.33</td>\n",
       "      <td>1.0</td>\n",
       "      <td>0</td>\n",
       "    </tr>\n",
       "    <tr>\n",
       "      <th>4794</th>\n",
       "      <td>7584203</td>\n",
       "      <td>8221217</td>\n",
       "      <td>0</td>\n",
       "      <td>2000.0</td>\n",
       "      <td>MERC BENZ</td>\n",
       "      <td>N</td>\n",
       "      <td>1.0</td>\n",
       "      <td>38.0</td>\n",
       "      <td>202.0</td>\n",
       "      <td>10.0</td>\n",
       "      <td>...</td>\n",
       "      <td>NaN</td>\n",
       "      <td>1432.02</td>\n",
       "      <td>81065.0</td>\n",
       "      <td>1432.02</td>\n",
       "      <td>48</td>\n",
       "      <td>84183.25</td>\n",
       "      <td>104.0</td>\n",
       "      <td>37250.00</td>\n",
       "      <td>1900.0</td>\n",
       "      <td>1</td>\n",
       "    </tr>\n",
       "    <tr>\n",
       "      <th>4832</th>\n",
       "      <td>6501528</td>\n",
       "      <td>8284526</td>\n",
       "      <td>1</td>\n",
       "      <td>2000.0</td>\n",
       "      <td>AUDI</td>\n",
       "      <td>N</td>\n",
       "      <td>0.0</td>\n",
       "      <td>18.0</td>\n",
       "      <td>195.0</td>\n",
       "      <td>3.0</td>\n",
       "      <td>...</td>\n",
       "      <td>732.0</td>\n",
       "      <td>45000.00</td>\n",
       "      <td>52500.0</td>\n",
       "      <td>0.00</td>\n",
       "      <td>60</td>\n",
       "      <td>52050.00</td>\n",
       "      <td>99.0</td>\n",
       "      <td>8333.33</td>\n",
       "      <td>1.0</td>\n",
       "      <td>0</td>\n",
       "    </tr>\n",
       "    <tr>\n",
       "      <th>4872</th>\n",
       "      <td>2693013</td>\n",
       "      <td>8344603</td>\n",
       "      <td>0</td>\n",
       "      <td>2000.0</td>\n",
       "      <td>MERCEDES BENZ</td>\n",
       "      <td>N</td>\n",
       "      <td>0.0</td>\n",
       "      <td>53.0</td>\n",
       "      <td>376.0</td>\n",
       "      <td>9.0</td>\n",
       "      <td>...</td>\n",
       "      <td>717.0</td>\n",
       "      <td>45630.00</td>\n",
       "      <td>45630.0</td>\n",
       "      <td>0.00</td>\n",
       "      <td>48</td>\n",
       "      <td>45630.00</td>\n",
       "      <td>104.0</td>\n",
       "      <td>12500.00</td>\n",
       "      <td>1.0</td>\n",
       "      <td>0</td>\n",
       "    </tr>\n",
       "    <tr>\n",
       "      <th>5080</th>\n",
       "      <td>8643186</td>\n",
       "      <td>8692616</td>\n",
       "      <td>0</td>\n",
       "      <td>1999.0</td>\n",
       "      <td>MERCEDES</td>\n",
       "      <td>N</td>\n",
       "      <td>0.0</td>\n",
       "      <td>49.0</td>\n",
       "      <td>162.0</td>\n",
       "      <td>13.0</td>\n",
       "      <td>...</td>\n",
       "      <td>699.0</td>\n",
       "      <td>56040.00</td>\n",
       "      <td>54025.0</td>\n",
       "      <td>4449.82</td>\n",
       "      <td>48</td>\n",
       "      <td>51590.18</td>\n",
       "      <td>95.0</td>\n",
       "      <td>10000.00</td>\n",
       "      <td>8928.0</td>\n",
       "      <td>1</td>\n",
       "    </tr>\n",
       "    <tr>\n",
       "      <th>5102</th>\n",
       "      <td>1638424</td>\n",
       "      <td>8727208</td>\n",
       "      <td>0</td>\n",
       "      <td>2000.0</td>\n",
       "      <td>AUDI</td>\n",
       "      <td>N</td>\n",
       "      <td>0.0</td>\n",
       "      <td>21.0</td>\n",
       "      <td>269.0</td>\n",
       "      <td>NaN</td>\n",
       "      <td>...</td>\n",
       "      <td>720.0</td>\n",
       "      <td>51750.00</td>\n",
       "      <td>52980.0</td>\n",
       "      <td>0.00</td>\n",
       "      <td>36</td>\n",
       "      <td>51750.00</td>\n",
       "      <td>100.0</td>\n",
       "      <td>34583.33</td>\n",
       "      <td>1.0</td>\n",
       "      <td>0</td>\n",
       "    </tr>\n",
       "    <tr>\n",
       "      <th>5145</th>\n",
       "      <td>8821369</td>\n",
       "      <td>8786527</td>\n",
       "      <td>0</td>\n",
       "      <td>2000.0</td>\n",
       "      <td>PORSCHE</td>\n",
       "      <td>N</td>\n",
       "      <td>0.0</td>\n",
       "      <td>32.0</td>\n",
       "      <td>246.0</td>\n",
       "      <td>4.0</td>\n",
       "      <td>...</td>\n",
       "      <td>766.0</td>\n",
       "      <td>45112.00</td>\n",
       "      <td>48897.0</td>\n",
       "      <td>0.00</td>\n",
       "      <td>36</td>\n",
       "      <td>45112.00</td>\n",
       "      <td>92.0</td>\n",
       "      <td>16666.67</td>\n",
       "      <td>1.0</td>\n",
       "      <td>0</td>\n",
       "    </tr>\n",
       "    <tr>\n",
       "      <th>5275</th>\n",
       "      <td>210563</td>\n",
       "      <td>9006905</td>\n",
       "      <td>0</td>\n",
       "      <td>2000.0</td>\n",
       "      <td>CADILLAC</td>\n",
       "      <td>N</td>\n",
       "      <td>13.0</td>\n",
       "      <td>34.0</td>\n",
       "      <td>396.0</td>\n",
       "      <td>6.0</td>\n",
       "      <td>...</td>\n",
       "      <td>666.0</td>\n",
       "      <td>53082.00</td>\n",
       "      <td>50000.0</td>\n",
       "      <td>1000.00</td>\n",
       "      <td>63</td>\n",
       "      <td>53883.00</td>\n",
       "      <td>108.0</td>\n",
       "      <td>3583.33</td>\n",
       "      <td>1.0</td>\n",
       "      <td>0</td>\n",
       "    </tr>\n",
       "    <tr>\n",
       "      <th>5421</th>\n",
       "      <td>7750280</td>\n",
       "      <td>9252877</td>\n",
       "      <td>0</td>\n",
       "      <td>2000.0</td>\n",
       "      <td>MERC BENZ</td>\n",
       "      <td>N</td>\n",
       "      <td>0.0</td>\n",
       "      <td>5.0</td>\n",
       "      <td>111.0</td>\n",
       "      <td>3.0</td>\n",
       "      <td>...</td>\n",
       "      <td>742.0</td>\n",
       "      <td>45870.00</td>\n",
       "      <td>45870.0</td>\n",
       "      <td>0.00</td>\n",
       "      <td>48</td>\n",
       "      <td>45870.00</td>\n",
       "      <td>102.0</td>\n",
       "      <td>5208.33</td>\n",
       "      <td>1.0</td>\n",
       "      <td>0</td>\n",
       "    </tr>\n",
       "    <tr>\n",
       "      <th>5442</th>\n",
       "      <td>4628220</td>\n",
       "      <td>9305332</td>\n",
       "      <td>0</td>\n",
       "      <td>2000.0</td>\n",
       "      <td>CHEVY</td>\n",
       "      <td>N</td>\n",
       "      <td>3.0</td>\n",
       "      <td>27.0</td>\n",
       "      <td>97.0</td>\n",
       "      <td>6.0</td>\n",
       "      <td>...</td>\n",
       "      <td>682.0</td>\n",
       "      <td>47926.65</td>\n",
       "      <td>47000.0</td>\n",
       "      <td>867.86</td>\n",
       "      <td>63</td>\n",
       "      <td>47058.79</td>\n",
       "      <td>100.0</td>\n",
       "      <td>7083.33</td>\n",
       "      <td>9.0</td>\n",
       "      <td>0</td>\n",
       "    </tr>\n",
       "    <tr>\n",
       "      <th>5573</th>\n",
       "      <td>8988413</td>\n",
       "      <td>9515970</td>\n",
       "      <td>0</td>\n",
       "      <td>2000.0</td>\n",
       "      <td>BMW</td>\n",
       "      <td>Y</td>\n",
       "      <td>12.0</td>\n",
       "      <td>16.0</td>\n",
       "      <td>133.0</td>\n",
       "      <td>3.0</td>\n",
       "      <td>...</td>\n",
       "      <td>NaN</td>\n",
       "      <td>48059.75</td>\n",
       "      <td>45295.0</td>\n",
       "      <td>10000.00</td>\n",
       "      <td>60</td>\n",
       "      <td>37600.00</td>\n",
       "      <td>88.0</td>\n",
       "      <td>33333.33</td>\n",
       "      <td>1.0</td>\n",
       "      <td>0</td>\n",
       "    </tr>\n",
       "    <tr>\n",
       "      <th>5680</th>\n",
       "      <td>8974580</td>\n",
       "      <td>9719404</td>\n",
       "      <td>0</td>\n",
       "      <td>1996.0</td>\n",
       "      <td>PORSCHE</td>\n",
       "      <td>N</td>\n",
       "      <td>0.0</td>\n",
       "      <td>13.0</td>\n",
       "      <td>183.0</td>\n",
       "      <td>NaN</td>\n",
       "      <td>...</td>\n",
       "      <td>759.0</td>\n",
       "      <td>60970.00</td>\n",
       "      <td>57975.0</td>\n",
       "      <td>995.00</td>\n",
       "      <td>60</td>\n",
       "      <td>59975.00</td>\n",
       "      <td>104.0</td>\n",
       "      <td>5833.33</td>\n",
       "      <td>5991.0</td>\n",
       "      <td>1</td>\n",
       "    </tr>\n",
       "    <tr>\n",
       "      <th>5686</th>\n",
       "      <td>9287460</td>\n",
       "      <td>9728486</td>\n",
       "      <td>0</td>\n",
       "      <td>2000.0</td>\n",
       "      <td>TOYOTA</td>\n",
       "      <td>N</td>\n",
       "      <td>2.0</td>\n",
       "      <td>38.0</td>\n",
       "      <td>196.0</td>\n",
       "      <td>7.0</td>\n",
       "      <td>...</td>\n",
       "      <td>756.0</td>\n",
       "      <td>57157.66</td>\n",
       "      <td>57718.0</td>\n",
       "      <td>827.59</td>\n",
       "      <td>39</td>\n",
       "      <td>56330.07</td>\n",
       "      <td>98.0</td>\n",
       "      <td>41666.66</td>\n",
       "      <td>27.0</td>\n",
       "      <td>0</td>\n",
       "    </tr>\n",
       "  </tbody>\n",
       "</table>\n",
       "<p>59 rows × 24 columns</p>\n",
       "</div>"
      ],
      "text/plain": [
       "      application_id  account_number  bad_ind  vehicle_year   vehicle_make  \\\n",
       "15           6442136           38793        0        1997.0          LOTUS   \n",
       "315          7576141          539438        0        2000.0            BMW   \n",
       "389          3003154          656814        0        2000.0           FORD   \n",
       "425          9871684          730329        0        1998.0          LEXUS   \n",
       "474          2821423          818833        0        2000.0         TOYOTA   \n",
       "599          4359949         1083123        0        2000.0           FORD   \n",
       "685          8728773         1245731        1        2000.0           JEEP   \n",
       "716          9940911         1289971        0           0.0            NaN   \n",
       "724          5970514         1305446        1        2000.0           CHEV   \n",
       "935          1212101         1683911        0        2000.0       MERCEDES   \n",
       "1124         3373337         2011594        0        2000.0           FORD   \n",
       "1228         5839774         2174717        0        2000.0        PORSCHE   \n",
       "1252         3478815         2218851        0        2000.0           FORD   \n",
       "1364         3685848         2384012        0        2000.0          CHEVY   \n",
       "1374         9072105         2401195        0        2000.0       MERCEDES   \n",
       "1549         9210161         2702643        0        2000.0           FORD   \n",
       "1612         9276538         2811798        0        2000.0         TOYOTA   \n",
       "1654         5885047         2867794        0        1998.0             MB   \n",
       "1683         7138745         2905309        0        2000.0         PORCHE   \n",
       "1835         6040333         3176287        0        2000.0         PORSHE   \n",
       "1857          598625         3207678        1        2000.0          CHEVY   \n",
       "1859          882254         3213303        0        2000.0         JAGUAR   \n",
       "1902         7596942         3287149        0        2000.0            M-B   \n",
       "1923         3919252         3324931        0        2000.0         TOYOTA   \n",
       "2327         2774439         3990494        0        2000.0          CHEVY   \n",
       "2377         1819285         4054612        0        2000.0          LEXUS   \n",
       "2401         3353402         4087429        0        2000.0       MERCEDES   \n",
       "2415         8143039         4113512        0        2000.0        PORSCHE   \n",
       "2566         9955435         4370660        0        2000.0        PORSCHE   \n",
       "2588         1148961         4394359        0        2000.0           FORD   \n",
       "2779         4152593         4745186        0        2000.0          CHEVY   \n",
       "2832         8273112         4833040        0        2000.0        PORSCHE   \n",
       "3072         6018352         5264041        0        2000.0             MB   \n",
       "3155          499070         5408839        0        2000.0          LEXUS   \n",
       "3248         9108386         5585244        1        2000.0        PORSCHE   \n",
       "3446         4804521         5900074        1        2000.0      CHEVROLET   \n",
       "3659         6858188         6244663        0        2000.0           PORS   \n",
       "3660         1378603         6249530        0        2000.0          LEXUS   \n",
       "3687          176130         6298357        1        2000.0          CHEVY   \n",
       "3929         4889804         6756108        0        2000.0        PORSCHE   \n",
       "4131         8826098         7115789        1        1995.0       MERCEDES   \n",
       "4139         7867640         7128019        0        2000.0  MERCEDES BENZ   \n",
       "4404         8268612         7590108        0        2000.0        PORSCHE   \n",
       "4481         1629727         7718158        0        2000.0          LEXUS   \n",
       "4585         5805304         7867516        0        2000.0        PORSCHE   \n",
       "4644         9539120         7978485        0        2000.0        PORSCHE   \n",
       "4646         3109674         7986128        0        2000.0        LINCOLN   \n",
       "4794         7584203         8221217        0        2000.0      MERC BENZ   \n",
       "4832         6501528         8284526        1        2000.0           AUDI   \n",
       "4872         2693013         8344603        0        2000.0  MERCEDES BENZ   \n",
       "5080         8643186         8692616        0        1999.0       MERCEDES   \n",
       "5102         1638424         8727208        0        2000.0           AUDI   \n",
       "5145         8821369         8786527        0        2000.0        PORSCHE   \n",
       "5275          210563         9006905        0        2000.0       CADILLAC   \n",
       "5421         7750280         9252877        0        2000.0      MERC BENZ   \n",
       "5442         4628220         9305332        0        2000.0          CHEVY   \n",
       "5573         8988413         9515970        0        2000.0            BMW   \n",
       "5680         8974580         9719404        0        1996.0        PORSCHE   \n",
       "5686         9287460         9728486        0        2000.0         TOYOTA   \n",
       "\n",
       "     bankruptcy_ind  tot_derog  tot_tr  age_oldest_tr  tot_open_tr  ...  \\\n",
       "15                N        1.0    11.0           58.0          5.0  ...   \n",
       "315               N        0.0    10.0          134.0          NaN  ...   \n",
       "389               N       12.0    39.0          255.0         17.0  ...   \n",
       "425               N        2.0    60.0          296.0          9.0  ...   \n",
       "474               N        0.0    20.0          219.0          4.0  ...   \n",
       "599               N        0.0    37.0          222.0          7.0  ...   \n",
       "685               N        1.0    22.0          258.0          4.0  ...   \n",
       "716               N       10.0    62.0          219.0         18.0  ...   \n",
       "724               N        1.0    29.0          304.0         11.0  ...   \n",
       "935               N        2.0    18.0          183.0          7.0  ...   \n",
       "1124              N        0.0    32.0          318.0         10.0  ...   \n",
       "1228              N        0.0    35.0          332.0          8.0  ...   \n",
       "1252              N        0.0    15.0          122.0          5.0  ...   \n",
       "1364              N        0.0    36.0          197.0          NaN  ...   \n",
       "1374              N        0.0    20.0          174.0          6.0  ...   \n",
       "1549              N        1.0    23.0          148.0          8.0  ...   \n",
       "1612              N        0.0    15.0          142.0          5.0  ...   \n",
       "1654              N        4.0    31.0          216.0          8.0  ...   \n",
       "1683              N        2.0    23.0          171.0          3.0  ...   \n",
       "1835              Y        3.0    19.0          155.0          2.0  ...   \n",
       "1857              N        0.0    21.0          158.0          NaN  ...   \n",
       "1859              N        0.0    33.0          148.0         17.0  ...   \n",
       "1902            NaN        NaN     NaN            NaN          NaN  ...   \n",
       "1923              N        1.0    23.0          207.0          5.0  ...   \n",
       "2327              N        0.0    51.0          139.0          7.0  ...   \n",
       "2377              N        2.0    53.0          145.0          8.0  ...   \n",
       "2401              N        0.0    45.0          257.0          5.0  ...   \n",
       "2415              N        0.0    31.0          187.0          3.0  ...   \n",
       "2566              N        1.0    45.0          210.0         14.0  ...   \n",
       "2588              N        0.0    24.0          198.0          6.0  ...   \n",
       "2779              N        1.0    25.0           79.0         12.0  ...   \n",
       "2832              Y       20.0    33.0           78.0          9.0  ...   \n",
       "3072              N        5.0    22.0          412.0          6.0  ...   \n",
       "3155              N        0.0    10.0          252.0          NaN  ...   \n",
       "3248              N        0.0    34.0          254.0          5.0  ...   \n",
       "3446              Y        9.0    43.0          172.0         13.0  ...   \n",
       "3659              N        2.0    45.0          214.0         19.0  ...   \n",
       "3660            NaN        NaN     NaN            NaN          NaN  ...   \n",
       "3687              Y       16.0    43.0          340.0          9.0  ...   \n",
       "3929              N        7.0    11.0          149.0          NaN  ...   \n",
       "4131              N       12.0    21.0          250.0          5.0  ...   \n",
       "4139              N        0.0    36.0          133.0          6.0  ...   \n",
       "4404              N        0.0    32.0          203.0          6.0  ...   \n",
       "4481              N        1.0    23.0          456.0          NaN  ...   \n",
       "4585              N        1.0    20.0          228.0          NaN  ...   \n",
       "4644              N        3.0    31.0          215.0          7.0  ...   \n",
       "4646              N        0.0    33.0          324.0          8.0  ...   \n",
       "4794              N        1.0    38.0          202.0         10.0  ...   \n",
       "4832              N        0.0    18.0          195.0          3.0  ...   \n",
       "4872              N        0.0    53.0          376.0          9.0  ...   \n",
       "5080              N        0.0    49.0          162.0         13.0  ...   \n",
       "5102              N        0.0    21.0          269.0          NaN  ...   \n",
       "5145              N        0.0    32.0          246.0          4.0  ...   \n",
       "5275              N       13.0    34.0          396.0          6.0  ...   \n",
       "5421              N        0.0     5.0          111.0          3.0  ...   \n",
       "5442              N        3.0    27.0           97.0          6.0  ...   \n",
       "5573              Y       12.0    16.0          133.0          3.0  ...   \n",
       "5680              N        0.0    13.0          183.0          NaN  ...   \n",
       "5686              N        2.0    38.0          196.0          7.0  ...   \n",
       "\n",
       "      fico_score  purch_price      msrp  down_pyt  loan_term   loan_amt  \\\n",
       "15         689.0     63700.00   57000.0  35000.00         60   28700.00   \n",
       "315        724.0     59635.00   57000.0      0.00         48   60980.00   \n",
       "389        690.0     47570.00   42015.0   3382.15         60   44187.85   \n",
       "425        677.0     47141.56   47000.0    722.64         48   46418.92   \n",
       "474        751.0     49921.92   57254.0      0.00         60   49921.92   \n",
       "599        780.0     45600.00   46000.0      0.00         63   45600.00   \n",
       "685        721.0     45500.00   38100.0      0.00         60   45500.00   \n",
       "716        632.0    111554.00  200000.0      0.00         66  111554.00   \n",
       "724        637.0     48700.00   45609.0   3291.00         60   45500.00   \n",
       "935        668.0     62800.00   59900.0      0.00         60   63345.00   \n",
       "1124       697.0     54696.56   46407.0   5375.00         48   49321.56   \n",
       "1228       714.0     90000.00   89765.0   1000.00         36   89000.00   \n",
       "1252       749.0     47622.00   39590.0      0.00         72   47622.00   \n",
       "1364       748.0     48549.00   49549.0   3500.00         24   45049.00   \n",
       "1374       713.0     92999.75   89695.0      0.00         36   92999.75   \n",
       "1549       782.0     46820.41   38400.0      0.00         60   46820.41   \n",
       "1612       753.0     52626.00       1.0  20000.00         60   32626.00   \n",
       "1654       733.0     46994.15   45500.0   1000.00         72   45994.15   \n",
       "1683         NaN     54247.00   54246.0   5000.00         48   50604.35   \n",
       "1835         NaN     55280.45   49149.0   6781.90         60   55280.45   \n",
       "1857         NaN     49214.00   46014.0   1000.00         60   48214.00   \n",
       "1859       665.0     87840.00   69145.0   8090.00         60   79750.00   \n",
       "1902       696.0     74500.00   68500.0      0.00         36   74500.00   \n",
       "1923       693.0     51611.00   56859.0      0.00         24   51611.00   \n",
       "2327       758.0     52561.00   48200.0   1058.19         39   51502.81   \n",
       "2377       684.0     49400.00   50865.0      0.00         48   49400.00   \n",
       "2401       720.0     52000.00   52000.0      0.00         60   52000.00   \n",
       "2415       793.0     56940.00   55262.0    995.00         60   55945.00   \n",
       "2566       681.0     60868.00   59717.0      0.00         36   60868.00   \n",
       "2588       778.0     46012.00   46245.0    500.00         66   45512.00   \n",
       "2779       614.0     50648.00   52634.0   2000.00         72   52093.00   \n",
       "2832       715.0     53337.00   50042.0   3000.00         60   44300.00   \n",
       "3072       699.0     50485.00   50485.0      0.00         48   50485.00   \n",
       "3155       754.0     47723.25   49665.0      0.00         36   47723.25   \n",
       "3248       760.0     96692.33   93280.0      0.00         60   96692.33   \n",
       "3446       647.0     55349.00   41545.0  10621.00         60   44728.00   \n",
       "3659       640.0     49800.00   49837.0      0.00         36   49967.00   \n",
       "3660       726.0     57000.00   57000.0      0.00         60   57000.00   \n",
       "3687       557.0     50424.00   50424.0   5000.00         24   45424.00   \n",
       "3929       797.0     53100.00   52500.0  25047.00         60   28053.00   \n",
       "4131       531.0     50000.00   30000.0      0.00         36   20000.00   \n",
       "4139       700.0     55825.00   54780.0   1000.00         24   54825.00   \n",
       "4404       742.0     54837.00   49500.0      0.00         48   54837.00   \n",
       "4481       710.0     54500.00   57575.0      0.00         36   54500.00   \n",
       "4585       779.0     83281.25   79175.0  13281.25         60   70000.00   \n",
       "4644       685.0     59327.00   59657.0      0.00         36   61327.00   \n",
       "4646       712.0     46000.00   46000.0      0.00         39   46000.00   \n",
       "4794         NaN      1432.02   81065.0   1432.02         48   84183.25   \n",
       "4832       732.0     45000.00   52500.0      0.00         60   52050.00   \n",
       "4872       717.0     45630.00   45630.0      0.00         48   45630.00   \n",
       "5080       699.0     56040.00   54025.0   4449.82         48   51590.18   \n",
       "5102       720.0     51750.00   52980.0      0.00         36   51750.00   \n",
       "5145       766.0     45112.00   48897.0      0.00         36   45112.00   \n",
       "5275       666.0     53082.00   50000.0   1000.00         63   53883.00   \n",
       "5421       742.0     45870.00   45870.0      0.00         48   45870.00   \n",
       "5442       682.0     47926.65   47000.0    867.86         63   47058.79   \n",
       "5573         NaN     48059.75   45295.0  10000.00         60   37600.00   \n",
       "5680       759.0     60970.00   57975.0    995.00         60   59975.00   \n",
       "5686       756.0     57157.66   57718.0    827.59         39   56330.07   \n",
       "\n",
       "        ltv  tot_income  veh_mileage  used_ind  \n",
       "15     50.0     8333.33      14000.0         1  \n",
       "315   107.0    12000.00          1.0         0  \n",
       "389   105.0    16666.67         11.0         0  \n",
       "425   100.0    16666.67      27500.0         1  \n",
       "474    90.0    10416.67         11.0         0  \n",
       "599   101.0    11000.00        200.0         1  \n",
       "685   119.0     5000.00       4600.0         0  \n",
       "716    56.0    25000.00          0.0         0  \n",
       "724   102.0     4200.00         50.0         0  \n",
       "935   106.0    10000.00          1.0         0  \n",
       "1124  106.0    15750.00          1.0         0  \n",
       "1228   99.0    11000.00         35.0         0  \n",
       "1252  122.0     6000.00          1.0         0  \n",
       "1364   93.0    14583.33          1.0         0  \n",
       "1374  104.0   291666.67          1.0         0  \n",
       "1549  131.0     6500.00         13.0         0  \n",
       "1612   62.0     6000.00          1.0         0  \n",
       "1654  101.0    14701.75      20000.0         1  \n",
       "1683   93.0    46666.67          1.0         0  \n",
       "1835  112.0    10000.00          0.0         0  \n",
       "1857  106.0        0.00         60.0         0  \n",
       "1859  115.0    16063.33          1.0         0  \n",
       "1902  110.0        0.00      11600.0         0  \n",
       "1923   91.0    15000.00         18.0         0  \n",
       "2327  107.0     7083.33         15.0         0  \n",
       "2377   97.0    10916.67          1.0         0  \n",
       "2401  101.0    12500.00          1.0         0  \n",
       "2415  101.0     8333.33          1.0         0  \n",
       "2566  102.0    20833.33         20.0         0  \n",
       "2588  100.0     8000.00          1.0         0  \n",
       "2779  102.0    16666.67          1.0         0  \n",
       "2832   89.0     9833.33          1.0         0  \n",
       "3072  102.0    20833.33          1.0         0  \n",
       "3155   96.0    20833.33        126.0         0  \n",
       "3248  104.0     5833.33          1.0         0  \n",
       "3446  116.0     8333.33          1.0         0  \n",
       "3659  101.0    10000.00          1.0         0  \n",
       "3660  100.0        0.00          1.0         0  \n",
       "3687   91.0    16666.67          1.0         0  \n",
       "3929   53.0    26833.33          1.0         0  \n",
       "4131   68.0     6083.33        100.0         1  \n",
       "4139  100.0    11000.00         27.0         0  \n",
       "4404  111.0     8333.33          1.0         0  \n",
       "4481   99.0    12500.00          1.0         0  \n",
       "4585   89.0    12044.00          1.0         0  \n",
       "4644  103.0    13333.33          1.0         0  \n",
       "4646  100.0    20833.33          1.0         0  \n",
       "4794  104.0    37250.00       1900.0         1  \n",
       "4832   99.0     8333.33          1.0         0  \n",
       "4872  104.0    12500.00          1.0         0  \n",
       "5080   95.0    10000.00       8928.0         1  \n",
       "5102  100.0    34583.33          1.0         0  \n",
       "5145   92.0    16666.67          1.0         0  \n",
       "5275  108.0     3583.33          1.0         0  \n",
       "5421  102.0     5208.33          1.0         0  \n",
       "5442  100.0     7083.33          9.0         0  \n",
       "5573   88.0    33333.33          1.0         0  \n",
       "5680  104.0     5833.33       5991.0         1  \n",
       "5686   98.0    41666.66         27.0         0  \n",
       "\n",
       "[59 rows x 24 columns]"
      ]
     },
     "execution_count": 101,
     "metadata": {},
     "output_type": "execute_result"
    }
   ],
   "source": [
    "# np.abs(stats.zscore(accept[['loan_amt','purch_price']])) > 3\n",
    "rev1 = accept[(np.abs(stats.zscore(accept[['loan_amt','purch_price']])) > 3).any(axis=1)]\n",
    "rev1"
   ]
  },
  {
   "cell_type": "markdown",
   "metadata": {
    "slideshow": {
     "slide_type": "slide"
    }
   },
   "source": [
    "### Tukey's method"
   ]
  },
  {
   "cell_type": "markdown",
   "metadata": {
    "slideshow": {
     "slide_type": "fragment"
    }
   },
   "source": [
    "![](./img/explore/boxplot_eg.png)"
   ]
  },
  {
   "cell_type": "markdown",
   "metadata": {
    "slideshow": {
     "slide_type": "fragment"
    }
   },
   "source": [
    "- 属于位于$[Q1-1.5\\times \\text{IQR}, Q_3+1.5\\times \\text{IQR}]$之外的为离群点"
   ]
  },
  {
   "cell_type": "markdown",
   "metadata": {
    "slideshow": {
     "slide_type": "fragment"
    }
   },
   "source": [
    "- IQR（interquantile range）：四分位距，或四分位差"
   ]
  },
  {
   "cell_type": "markdown",
   "metadata": {
    "slideshow": {
     "slide_type": "fragment"
    }
   },
   "source": [
    "- 利用`dataframe`的`quantile`函数\n",
    "\n",
    "```python\n",
    "DataFrame.quantile(q=0.5,axis=0)\n",
    "```\n",
    "- `q`：分位数\n",
    "- `axis`：0，逐行；1，逐列"
   ]
  },
  {
   "cell_type": "code",
   "execution_count": 70,
   "metadata": {
    "scrolled": true,
    "slideshow": {
     "slide_type": "fragment"
    }
   },
   "outputs": [
    {
     "data": {
      "text/plain": [
       "loan_amt       11023.0\n",
       "purch_price    12684.0\n",
       "tot_tr             9.0\n",
       "Name: 0.25, dtype: float64"
      ]
     },
     "execution_count": 70,
     "metadata": {},
     "output_type": "execute_result"
    },
    {
     "data": {
      "text/plain": [
       "loan_amt       22800.0\n",
       "purch_price    24500.0\n",
       "tot_tr            24.0\n",
       "Name: 0.75, dtype: float64"
      ]
     },
     "execution_count": 70,
     "metadata": {},
     "output_type": "execute_result"
    },
    {
     "data": {
      "text/plain": [
       "loan_amt       11777.0\n",
       "purch_price    11816.0\n",
       "tot_tr            15.0\n",
       "dtype: float64"
      ]
     },
     "execution_count": 70,
     "metadata": {},
     "output_type": "execute_result"
    },
    {
     "data": {
      "text/html": [
       "<div>\n",
       "<style scoped>\n",
       "    .dataframe tbody tr th:only-of-type {\n",
       "        vertical-align: middle;\n",
       "    }\n",
       "\n",
       "    .dataframe tbody tr th {\n",
       "        vertical-align: top;\n",
       "    }\n",
       "\n",
       "    .dataframe thead th {\n",
       "        text-align: right;\n",
       "    }\n",
       "</style>\n",
       "<table border=\"1\" class=\"dataframe\">\n",
       "  <thead>\n",
       "    <tr style=\"text-align: right;\">\n",
       "      <th></th>\n",
       "      <th>application_id</th>\n",
       "      <th>account_number</th>\n",
       "      <th>bad_ind</th>\n",
       "      <th>vehicle_year</th>\n",
       "      <th>vehicle_make</th>\n",
       "      <th>bankruptcy_ind</th>\n",
       "      <th>tot_derog</th>\n",
       "      <th>tot_tr</th>\n",
       "      <th>age_oldest_tr</th>\n",
       "      <th>tot_open_tr</th>\n",
       "      <th>...</th>\n",
       "      <th>fico_score</th>\n",
       "      <th>purch_price</th>\n",
       "      <th>msrp</th>\n",
       "      <th>down_pyt</th>\n",
       "      <th>loan_term</th>\n",
       "      <th>loan_amt</th>\n",
       "      <th>ltv</th>\n",
       "      <th>tot_income</th>\n",
       "      <th>veh_mileage</th>\n",
       "      <th>used_ind</th>\n",
       "    </tr>\n",
       "  </thead>\n",
       "  <tbody>\n",
       "    <tr>\n",
       "      <th>15</th>\n",
       "      <td>6442136</td>\n",
       "      <td>38793</td>\n",
       "      <td>0</td>\n",
       "      <td>1997.0</td>\n",
       "      <td>LOTUS</td>\n",
       "      <td>N</td>\n",
       "      <td>1.0</td>\n",
       "      <td>11.0</td>\n",
       "      <td>58.0</td>\n",
       "      <td>5.0</td>\n",
       "      <td>...</td>\n",
       "      <td>689.0</td>\n",
       "      <td>63700.00</td>\n",
       "      <td>57000.0</td>\n",
       "      <td>35000.00</td>\n",
       "      <td>60</td>\n",
       "      <td>28700.00</td>\n",
       "      <td>50.0</td>\n",
       "      <td>8333.33</td>\n",
       "      <td>14000.0</td>\n",
       "      <td>1</td>\n",
       "    </tr>\n",
       "    <tr>\n",
       "      <th>29</th>\n",
       "      <td>2796882</td>\n",
       "      <td>67733</td>\n",
       "      <td>0</td>\n",
       "      <td>2000.0</td>\n",
       "      <td>CHEV</td>\n",
       "      <td>N</td>\n",
       "      <td>0.0</td>\n",
       "      <td>47.0</td>\n",
       "      <td>281.0</td>\n",
       "      <td>10.0</td>\n",
       "      <td>...</td>\n",
       "      <td>685.0</td>\n",
       "      <td>31120.00</td>\n",
       "      <td>34192.0</td>\n",
       "      <td>3000.00</td>\n",
       "      <td>60</td>\n",
       "      <td>28120.00</td>\n",
       "      <td>82.0</td>\n",
       "      <td>4583.33</td>\n",
       "      <td>1.0</td>\n",
       "      <td>0</td>\n",
       "    </tr>\n",
       "    <tr>\n",
       "      <th>65</th>\n",
       "      <td>6835066</td>\n",
       "      <td>119722</td>\n",
       "      <td>0</td>\n",
       "      <td>1999.0</td>\n",
       "      <td>MERCEDES BENZ</td>\n",
       "      <td>N</td>\n",
       "      <td>4.0</td>\n",
       "      <td>22.0</td>\n",
       "      <td>111.0</td>\n",
       "      <td>12.0</td>\n",
       "      <td>...</td>\n",
       "      <td>605.0</td>\n",
       "      <td>43000.00</td>\n",
       "      <td>43000.0</td>\n",
       "      <td>0.00</td>\n",
       "      <td>60</td>\n",
       "      <td>43000.00</td>\n",
       "      <td>100.0</td>\n",
       "      <td>866.66</td>\n",
       "      <td>6000.0</td>\n",
       "      <td>0</td>\n",
       "    </tr>\n",
       "    <tr>\n",
       "      <th>118</th>\n",
       "      <td>6242701</td>\n",
       "      <td>225065</td>\n",
       "      <td>1</td>\n",
       "      <td>2000.0</td>\n",
       "      <td>CHEVY</td>\n",
       "      <td>N</td>\n",
       "      <td>0.0</td>\n",
       "      <td>9.0</td>\n",
       "      <td>201.0</td>\n",
       "      <td>5.0</td>\n",
       "      <td>...</td>\n",
       "      <td>680.0</td>\n",
       "      <td>41076.00</td>\n",
       "      <td>45995.0</td>\n",
       "      <td>500.00</td>\n",
       "      <td>60</td>\n",
       "      <td>40576.00</td>\n",
       "      <td>92.0</td>\n",
       "      <td>16666.67</td>\n",
       "      <td>1.0</td>\n",
       "      <td>0</td>\n",
       "    </tr>\n",
       "    <tr>\n",
       "      <th>159</th>\n",
       "      <td>896477</td>\n",
       "      <td>292991</td>\n",
       "      <td>0</td>\n",
       "      <td>1999.0</td>\n",
       "      <td>CHEVROLET</td>\n",
       "      <td>N</td>\n",
       "      <td>0.0</td>\n",
       "      <td>49.0</td>\n",
       "      <td>247.0</td>\n",
       "      <td>10.0</td>\n",
       "      <td>...</td>\n",
       "      <td>709.0</td>\n",
       "      <td>39300.00</td>\n",
       "      <td>41355.0</td>\n",
       "      <td>2000.00</td>\n",
       "      <td>72</td>\n",
       "      <td>27000.00</td>\n",
       "      <td>65.0</td>\n",
       "      <td>8333.33</td>\n",
       "      <td>1.0</td>\n",
       "      <td>0</td>\n",
       "    </tr>\n",
       "    <tr>\n",
       "      <th>...</th>\n",
       "      <td>...</td>\n",
       "      <td>...</td>\n",
       "      <td>...</td>\n",
       "      <td>...</td>\n",
       "      <td>...</td>\n",
       "      <td>...</td>\n",
       "      <td>...</td>\n",
       "      <td>...</td>\n",
       "      <td>...</td>\n",
       "      <td>...</td>\n",
       "      <td>...</td>\n",
       "      <td>...</td>\n",
       "      <td>...</td>\n",
       "      <td>...</td>\n",
       "      <td>...</td>\n",
       "      <td>...</td>\n",
       "      <td>...</td>\n",
       "      <td>...</td>\n",
       "      <td>...</td>\n",
       "      <td>...</td>\n",
       "      <td>...</td>\n",
       "    </tr>\n",
       "    <tr>\n",
       "      <th>5680</th>\n",
       "      <td>8974580</td>\n",
       "      <td>9719404</td>\n",
       "      <td>0</td>\n",
       "      <td>1996.0</td>\n",
       "      <td>PORSCHE</td>\n",
       "      <td>N</td>\n",
       "      <td>0.0</td>\n",
       "      <td>13.0</td>\n",
       "      <td>183.0</td>\n",
       "      <td>NaN</td>\n",
       "      <td>...</td>\n",
       "      <td>759.0</td>\n",
       "      <td>60970.00</td>\n",
       "      <td>57975.0</td>\n",
       "      <td>995.00</td>\n",
       "      <td>60</td>\n",
       "      <td>59975.00</td>\n",
       "      <td>104.0</td>\n",
       "      <td>5833.33</td>\n",
       "      <td>5991.0</td>\n",
       "      <td>1</td>\n",
       "    </tr>\n",
       "    <tr>\n",
       "      <th>5686</th>\n",
       "      <td>9287460</td>\n",
       "      <td>9728486</td>\n",
       "      <td>0</td>\n",
       "      <td>2000.0</td>\n",
       "      <td>TOYOTA</td>\n",
       "      <td>N</td>\n",
       "      <td>2.0</td>\n",
       "      <td>38.0</td>\n",
       "      <td>196.0</td>\n",
       "      <td>7.0</td>\n",
       "      <td>...</td>\n",
       "      <td>756.0</td>\n",
       "      <td>57157.66</td>\n",
       "      <td>57718.0</td>\n",
       "      <td>827.59</td>\n",
       "      <td>39</td>\n",
       "      <td>56330.07</td>\n",
       "      <td>98.0</td>\n",
       "      <td>41666.66</td>\n",
       "      <td>27.0</td>\n",
       "      <td>0</td>\n",
       "    </tr>\n",
       "    <tr>\n",
       "      <th>5713</th>\n",
       "      <td>1179050</td>\n",
       "      <td>9778053</td>\n",
       "      <td>0</td>\n",
       "      <td>2000.0</td>\n",
       "      <td>NISSAN</td>\n",
       "      <td>N</td>\n",
       "      <td>2.0</td>\n",
       "      <td>50.0</td>\n",
       "      <td>142.0</td>\n",
       "      <td>6.0</td>\n",
       "      <td>...</td>\n",
       "      <td>732.0</td>\n",
       "      <td>25323.53</td>\n",
       "      <td>28296.0</td>\n",
       "      <td>1600.00</td>\n",
       "      <td>60</td>\n",
       "      <td>23723.53</td>\n",
       "      <td>87.0</td>\n",
       "      <td>5416.66</td>\n",
       "      <td>20.0</td>\n",
       "      <td>0</td>\n",
       "    </tr>\n",
       "    <tr>\n",
       "      <th>5724</th>\n",
       "      <td>8195502</td>\n",
       "      <td>9801619</td>\n",
       "      <td>0</td>\n",
       "      <td>1998.0</td>\n",
       "      <td>LINCOLN</td>\n",
       "      <td>N</td>\n",
       "      <td>0.0</td>\n",
       "      <td>49.0</td>\n",
       "      <td>240.0</td>\n",
       "      <td>14.0</td>\n",
       "      <td>...</td>\n",
       "      <td>707.0</td>\n",
       "      <td>34904.00</td>\n",
       "      <td>35650.0</td>\n",
       "      <td>0.00</td>\n",
       "      <td>48</td>\n",
       "      <td>34904.00</td>\n",
       "      <td>98.0</td>\n",
       "      <td>6500.00</td>\n",
       "      <td>21031.0</td>\n",
       "      <td>1</td>\n",
       "    </tr>\n",
       "    <tr>\n",
       "      <th>5825</th>\n",
       "      <td>1387385</td>\n",
       "      <td>9977392</td>\n",
       "      <td>0</td>\n",
       "      <td>1996.0</td>\n",
       "      <td>NISSAN</td>\n",
       "      <td>N</td>\n",
       "      <td>2.0</td>\n",
       "      <td>54.0</td>\n",
       "      <td>199.0</td>\n",
       "      <td>11.0</td>\n",
       "      <td>...</td>\n",
       "      <td>687.0</td>\n",
       "      <td>9574.00</td>\n",
       "      <td>9200.0</td>\n",
       "      <td>1000.00</td>\n",
       "      <td>60</td>\n",
       "      <td>8574.00</td>\n",
       "      <td>104.0</td>\n",
       "      <td>3750.00</td>\n",
       "      <td>57190.0</td>\n",
       "      <td>1</td>\n",
       "    </tr>\n",
       "  </tbody>\n",
       "</table>\n",
       "<p>168 rows × 24 columns</p>\n",
       "</div>"
      ],
      "text/plain": [
       "      application_id  account_number  bad_ind  vehicle_year   vehicle_make  \\\n",
       "15           6442136           38793        0        1997.0          LOTUS   \n",
       "29           2796882           67733        0        2000.0           CHEV   \n",
       "65           6835066          119722        0        1999.0  MERCEDES BENZ   \n",
       "118          6242701          225065        1        2000.0          CHEVY   \n",
       "159           896477          292991        0        1999.0      CHEVROLET   \n",
       "...              ...             ...      ...           ...            ...   \n",
       "5680         8974580         9719404        0        1996.0        PORSCHE   \n",
       "5686         9287460         9728486        0        2000.0         TOYOTA   \n",
       "5713         1179050         9778053        0        2000.0         NISSAN   \n",
       "5724         8195502         9801619        0        1998.0        LINCOLN   \n",
       "5825         1387385         9977392        0        1996.0         NISSAN   \n",
       "\n",
       "     bankruptcy_ind  tot_derog  tot_tr  age_oldest_tr  tot_open_tr  ...  \\\n",
       "15                N        1.0    11.0           58.0          5.0  ...   \n",
       "29                N        0.0    47.0          281.0         10.0  ...   \n",
       "65                N        4.0    22.0          111.0         12.0  ...   \n",
       "118               N        0.0     9.0          201.0          5.0  ...   \n",
       "159               N        0.0    49.0          247.0         10.0  ...   \n",
       "...             ...        ...     ...            ...          ...  ...   \n",
       "5680              N        0.0    13.0          183.0          NaN  ...   \n",
       "5686              N        2.0    38.0          196.0          7.0  ...   \n",
       "5713              N        2.0    50.0          142.0          6.0  ...   \n",
       "5724              N        0.0    49.0          240.0         14.0  ...   \n",
       "5825              N        2.0    54.0          199.0         11.0  ...   \n",
       "\n",
       "      fico_score  purch_price     msrp  down_pyt  loan_term  loan_amt    ltv  \\\n",
       "15         689.0     63700.00  57000.0  35000.00         60  28700.00   50.0   \n",
       "29         685.0     31120.00  34192.0   3000.00         60  28120.00   82.0   \n",
       "65         605.0     43000.00  43000.0      0.00         60  43000.00  100.0   \n",
       "118        680.0     41076.00  45995.0    500.00         60  40576.00   92.0   \n",
       "159        709.0     39300.00  41355.0   2000.00         72  27000.00   65.0   \n",
       "...          ...          ...      ...       ...        ...       ...    ...   \n",
       "5680       759.0     60970.00  57975.0    995.00         60  59975.00  104.0   \n",
       "5686       756.0     57157.66  57718.0    827.59         39  56330.07   98.0   \n",
       "5713       732.0     25323.53  28296.0   1600.00         60  23723.53   87.0   \n",
       "5724       707.0     34904.00  35650.0      0.00         48  34904.00   98.0   \n",
       "5825       687.0      9574.00   9200.0   1000.00         60   8574.00  104.0   \n",
       "\n",
       "      tot_income  veh_mileage  used_ind  \n",
       "15       8333.33      14000.0         1  \n",
       "29       4583.33          1.0         0  \n",
       "65        866.66       6000.0         0  \n",
       "118     16666.67          1.0         0  \n",
       "159      8333.33          1.0         0  \n",
       "...          ...          ...       ...  \n",
       "5680     5833.33       5991.0         1  \n",
       "5686    41666.66         27.0         0  \n",
       "5713     5416.66         20.0         0  \n",
       "5724     6500.00      21031.0         1  \n",
       "5825     3750.00      57190.0         1  \n",
       "\n",
       "[168 rows x 24 columns]"
      ]
     },
     "execution_count": 70,
     "metadata": {},
     "output_type": "execute_result"
    }
   ],
   "source": [
    "Q1 = accept[['loan_amt','purch_price','tot_tr']].quantile(0.25)\n",
    "Q1\n",
    "Q3 = accept[['loan_amt','purch_price','tot_tr']].quantile(0.75)\n",
    "Q3\n",
    "IQR = Q3-Q1\n",
    "IQR\n",
    "rev3 = accept[((accept[['loan_amt','purch_price','tot_tr']] < (Q1 - 1.5 * IQR)) | (accept[['loan_amt','purch_price','tot_tr']] > (Q3 + 1.5 * IQR))).any(axis=1)]\n",
    "rev3"
   ]
  },
  {
   "cell_type": "markdown",
   "metadata": {
    "slideshow": {
     "slide_type": "slide"
    }
   },
   "source": [
    "### 调整的箱型图方法"
   ]
  },
  {
   "cell_type": "markdown",
   "metadata": {
    "slideshow": {
     "slide_type": "fragment"
    }
   },
   "source": [
    "- Z-score和Turkey方法均适用于数据对称情形"
   ]
  },
  {
   "cell_type": "markdown",
   "metadata": {
    "slideshow": {
     "slide_type": "fragment"
    }
   },
   "source": [
    "- 如果数据有偏度（skewness），需要考虑偏度的影响"
   ]
  },
  {
   "cell_type": "code",
   "execution_count": 73,
   "metadata": {
    "slideshow": {
     "slide_type": "fragment"
    }
   },
   "outputs": [
    {
     "data": {
      "text/plain": [
       "array([[<AxesSubplot:ylabel='Density'>, <AxesSubplot:ylabel='Density'>,\n",
       "        <AxesSubplot:ylabel='Density'>]], dtype=object)"
      ]
     },
     "execution_count": 73,
     "metadata": {},
     "output_type": "execute_result"
    },
    {
     "data": {
      "image/png": "[encoded data removed]",
      "text/plain": [
       "<Figure size 576x432 with 3 Axes>"
      ]
     },
     "metadata": {
      "needs_background": "light"
     },
     "output_type": "display_data"
    }
   ],
   "source": [
    "accept[['loan_amt','purch_price','tot_tr']].plot(kind='kde',figsize=(8,6),subplots=True,layout=(1,3),sharex=False)"
   ]
  },
  {
   "cell_type": "markdown",
   "metadata": {
    "slideshow": {
     "slide_type": "slide"
    }
   },
   "source": [
    "- 定义MC（mdcouple），衡量偏度的指标\n",
    "\n",
    "$$\n",
    "\\text{MC} = \\underset{x_i\\le Q_2\\le x_j}{\\text{median}}\\; h(x_i,xj)\n",
    "$$\n",
    "\n",
    "- 其中，$Q_2$为数据的中位数"
   ]
  },
  {
   "cell_type": "markdown",
   "metadata": {
    "slideshow": {
     "slide_type": "fragment"
    }
   },
   "source": [
    "$$\n",
    "h(x_i,x_j)=\\frac{(x_j-Q_2)-(Q_2-x_i)}{x_j-x_i}\n",
    "$$"
   ]
  },
  {
   "cell_type": "markdown",
   "metadata": {
    "slideshow": {
     "slide_type": "fragment"
    }
   },
   "source": [
    "$$\n",
    "\\begin{cases}\n",
    "    \\text{MC}>0,分布右偏\\\\\n",
    "    \\text{MC}<0,分布左偏\\\\\n",
    "    \\text{MC}=0,分布对称\\\\\n",
    "\\end{cases}\n",
    "$$"
   ]
  },
  {
   "cell_type": "markdown",
   "metadata": {
    "slideshow": {
     "slide_type": "fragment"
    }
   },
   "source": [
    "- 正常数据区间\n",
    "$$\n",
    "\\begin{cases}\n",
    "    [Q_1-1.5e^{-4\\mathbf{MC}}\\mathbf{IQR},Q_3+1.5e^{3\\mathbf{MC}}\\mathbf{IQR}],\\mathbf{MC}>0\\\\\n",
    "    [Q_1-1.5e^{-3\\mathbf{MC}}\\mathbf{IQR},Q_3+1.5e^{4\\mathbf{MC}}\\mathbf{IQR}],\\mathbf{MC}<0\n",
    "\\end{cases}\n",
    "$$"
   ]
  },
  {
   "cell_type": "markdown",
   "metadata": {
    "slideshow": {
     "slide_type": "slide"
    }
   },
   "source": [
    "- 利用statsmodels计算MC"
   ]
  },
  {
   "cell_type": "markdown",
   "metadata": {
    "slideshow": {
     "slide_type": "fragment"
    }
   },
   "source": [
    "```python\n",
    "from statsmodels.stats.stattools import medcouple\n",
    "```"
   ]
  },
  {
   "cell_type": "code",
   "execution_count": 82,
   "metadata": {
    "slideshow": {
     "slide_type": "fragment"
    }
   },
   "outputs": [
    {
     "data": {
      "text/plain": [
       "loan_amt       0.156675\n",
       "purch_price    0.109720\n",
       "tot_tr         0.096774\n",
       "dtype: float64"
      ]
     },
     "execution_count": 82,
     "metadata": {},
     "output_type": "execute_result"
    }
   ],
   "source": [
    "mc = accept[['loan_amt','purch_price','tot_tr']].apply(medcouple, axis=0).astype(float) #对于每一列计算MC\n",
    "mc"
   ]
  },
  {
   "cell_type": "code",
   "execution_count": 79,
   "metadata": {
    "slideshow": {
     "slide_type": "fragment"
    }
   },
   "outputs": [
    {
     "data": {
      "text/plain": [
       "array([0.53435266, 0.64475811, 0.67902538])"
      ]
     },
     "execution_count": 79,
     "metadata": {},
     "output_type": "execute_result"
    },
    {
     "data": {
      "text/plain": [
       "array([1.60003328, 1.38980026, 1.33685866])"
      ]
     },
     "execution_count": 79,
     "metadata": {},
     "output_type": "execute_result"
    }
   ],
   "source": [
    "# 计算左界系数和右界系数\n",
    "left_adj = np.where(mc>0, np.exp(-4*mc), np.exp(-3*mc))\n",
    "right_adj = np.where(mc>0, np.exp(3*mc), np.exp(4*mc))\n",
    "left_adj\n",
    "right_adj"
   ]
  },
  {
   "cell_type": "code",
   "execution_count": 80,
   "metadata": {
    "slideshow": {
     "slide_type": "fragment"
    }
   },
   "outputs": [
    {
     "data": {
      "text/html": [
       "<div>\n",
       "<style scoped>\n",
       "    .dataframe tbody tr th:only-of-type {\n",
       "        vertical-align: middle;\n",
       "    }\n",
       "\n",
       "    .dataframe tbody tr th {\n",
       "        vertical-align: top;\n",
       "    }\n",
       "\n",
       "    .dataframe thead th {\n",
       "        text-align: right;\n",
       "    }\n",
       "</style>\n",
       "<table border=\"1\" class=\"dataframe\">\n",
       "  <thead>\n",
       "    <tr style=\"text-align: right;\">\n",
       "      <th></th>\n",
       "      <th>loan_amt</th>\n",
       "      <th>purch_price</th>\n",
       "      <th>tot_tr</th>\n",
       "    </tr>\n",
       "  </thead>\n",
       "  <tbody>\n",
       "    <tr>\n",
       "      <th>15</th>\n",
       "      <td>28700.00</td>\n",
       "      <td>63700.00</td>\n",
       "      <td>11.0</td>\n",
       "    </tr>\n",
       "    <tr>\n",
       "      <th>66</th>\n",
       "      <td>20212.00</td>\n",
       "      <td>0.00</td>\n",
       "      <td>5.0</td>\n",
       "    </tr>\n",
       "    <tr>\n",
       "      <th>101</th>\n",
       "      <td>21345.00</td>\n",
       "      <td>0.00</td>\n",
       "      <td>31.0</td>\n",
       "    </tr>\n",
       "    <tr>\n",
       "      <th>312</th>\n",
       "      <td>21000.00</td>\n",
       "      <td>0.00</td>\n",
       "      <td>14.0</td>\n",
       "    </tr>\n",
       "    <tr>\n",
       "      <th>315</th>\n",
       "      <td>60980.00</td>\n",
       "      <td>59635.00</td>\n",
       "      <td>10.0</td>\n",
       "    </tr>\n",
       "    <tr>\n",
       "      <th>...</th>\n",
       "      <td>...</td>\n",
       "      <td>...</td>\n",
       "      <td>...</td>\n",
       "    </tr>\n",
       "    <tr>\n",
       "      <th>5628</th>\n",
       "      <td>26367.28</td>\n",
       "      <td>1.00</td>\n",
       "      <td>13.0</td>\n",
       "    </tr>\n",
       "    <tr>\n",
       "      <th>5680</th>\n",
       "      <td>59975.00</td>\n",
       "      <td>60970.00</td>\n",
       "      <td>13.0</td>\n",
       "    </tr>\n",
       "    <tr>\n",
       "      <th>5686</th>\n",
       "      <td>56330.07</td>\n",
       "      <td>57157.66</td>\n",
       "      <td>38.0</td>\n",
       "    </tr>\n",
       "    <tr>\n",
       "      <th>5707</th>\n",
       "      <td>23351.00</td>\n",
       "      <td>0.00</td>\n",
       "      <td>33.0</td>\n",
       "    </tr>\n",
       "    <tr>\n",
       "      <th>5840</th>\n",
       "      <td>31000.00</td>\n",
       "      <td>0.00</td>\n",
       "      <td>21.0</td>\n",
       "    </tr>\n",
       "  </tbody>\n",
       "</table>\n",
       "<p>111 rows × 3 columns</p>\n",
       "</div>"
      ],
      "text/plain": [
       "      loan_amt  purch_price  tot_tr\n",
       "15    28700.00     63700.00    11.0\n",
       "66    20212.00         0.00     5.0\n",
       "101   21345.00         0.00    31.0\n",
       "312   21000.00         0.00    14.0\n",
       "315   60980.00     59635.00    10.0\n",
       "...        ...          ...     ...\n",
       "5628  26367.28         1.00    13.0\n",
       "5680  59975.00     60970.00    13.0\n",
       "5686  56330.07     57157.66    38.0\n",
       "5707  23351.00         0.00    33.0\n",
       "5840  31000.00         0.00    21.0\n",
       "\n",
       "[111 rows x 3 columns]"
      ]
     },
     "execution_count": 80,
     "metadata": {},
     "output_type": "execute_result"
    }
   ],
   "source": [
    "df = accept[['loan_amt','purch_price','tot_tr']]\n",
    "rev4 = df[((df < (Q1 - 1.5 * left_adj*IQR)) | (df > (Q3 + 1.5 * right_adj*IQR))).any(axis=1)]\n",
    "rev4"
   ]
  },
  {
   "cell_type": "markdown",
   "metadata": {
    "slideshow": {
     "slide_type": "slide"
    }
   },
   "source": [
    "# 数据集成"
   ]
  },
  {
   "cell_type": "markdown",
   "metadata": {
    "slideshow": {
     "slide_type": "fragment"
    }
   },
   "source": [
    "## 数据的横向合并"
   ]
  },
  {
   "cell_type": "markdown",
   "metadata": {
    "slideshow": {
     "slide_type": "fragment"
    }
   },
   "source": [
    "- 把多个`DataFrame`按照行衔接起来"
   ]
  },
  {
   "cell_type": "code",
   "execution_count": 36,
   "metadata": {
    "slideshow": {
     "slide_type": "fragment"
    }
   },
   "outputs": [],
   "source": [
    "h1Df = pd.DataFrame({'语文':[93,80,85,76,60],'数学':[87,99,95,85,70],'英语':[80,85,97,65,88]},index=['韩梅','李雷','李华','王铭','赵毅'])\n",
    "h2Df = pd.DataFrame({'篮球':[93,80,85,76],'舞蹈':[87,99,95,85]},index=['李华','王铭','赵毅','刘强'])"
   ]
  },
  {
   "cell_type": "code",
   "execution_count": 37,
   "metadata": {
    "slideshow": {
     "slide_type": "fragment"
    }
   },
   "outputs": [
    {
     "data": {
      "text/html": [
       "<div>\n",
       "<style scoped>\n",
       "    .dataframe tbody tr th:only-of-type {\n",
       "        vertical-align: middle;\n",
       "    }\n",
       "\n",
       "    .dataframe tbody tr th {\n",
       "        vertical-align: top;\n",
       "    }\n",
       "\n",
       "    .dataframe thead th {\n",
       "        text-align: right;\n",
       "    }\n",
       "</style>\n",
       "<table border=\"1\" class=\"dataframe\">\n",
       "  <thead>\n",
       "    <tr style=\"text-align: right;\">\n",
       "      <th></th>\n",
       "      <th>语文</th>\n",
       "      <th>数学</th>\n",
       "      <th>英语</th>\n",
       "    </tr>\n",
       "  </thead>\n",
       "  <tbody>\n",
       "    <tr>\n",
       "      <th>韩梅</th>\n",
       "      <td>93</td>\n",
       "      <td>87</td>\n",
       "      <td>80</td>\n",
       "    </tr>\n",
       "    <tr>\n",
       "      <th>李雷</th>\n",
       "      <td>80</td>\n",
       "      <td>99</td>\n",
       "      <td>85</td>\n",
       "    </tr>\n",
       "    <tr>\n",
       "      <th>李华</th>\n",
       "      <td>85</td>\n",
       "      <td>95</td>\n",
       "      <td>97</td>\n",
       "    </tr>\n",
       "    <tr>\n",
       "      <th>王铭</th>\n",
       "      <td>76</td>\n",
       "      <td>85</td>\n",
       "      <td>65</td>\n",
       "    </tr>\n",
       "    <tr>\n",
       "      <th>赵毅</th>\n",
       "      <td>60</td>\n",
       "      <td>70</td>\n",
       "      <td>88</td>\n",
       "    </tr>\n",
       "  </tbody>\n",
       "</table>\n",
       "</div>"
      ],
      "text/plain": [
       "    语文  数学  英语\n",
       "韩梅  93  87  80\n",
       "李雷  80  99  85\n",
       "李华  85  95  97\n",
       "王铭  76  85  65\n",
       "赵毅  60  70  88"
      ]
     },
     "execution_count": 37,
     "metadata": {},
     "output_type": "execute_result"
    },
    {
     "data": {
      "text/html": [
       "<div>\n",
       "<style scoped>\n",
       "    .dataframe tbody tr th:only-of-type {\n",
       "        vertical-align: middle;\n",
       "    }\n",
       "\n",
       "    .dataframe tbody tr th {\n",
       "        vertical-align: top;\n",
       "    }\n",
       "\n",
       "    .dataframe thead th {\n",
       "        text-align: right;\n",
       "    }\n",
       "</style>\n",
       "<table border=\"1\" class=\"dataframe\">\n",
       "  <thead>\n",
       "    <tr style=\"text-align: right;\">\n",
       "      <th></th>\n",
       "      <th>篮球</th>\n",
       "      <th>舞蹈</th>\n",
       "    </tr>\n",
       "  </thead>\n",
       "  <tbody>\n",
       "    <tr>\n",
       "      <th>李华</th>\n",
       "      <td>93</td>\n",
       "      <td>87</td>\n",
       "    </tr>\n",
       "    <tr>\n",
       "      <th>王铭</th>\n",
       "      <td>80</td>\n",
       "      <td>99</td>\n",
       "    </tr>\n",
       "    <tr>\n",
       "      <th>赵毅</th>\n",
       "      <td>85</td>\n",
       "      <td>95</td>\n",
       "    </tr>\n",
       "    <tr>\n",
       "      <th>刘强</th>\n",
       "      <td>76</td>\n",
       "      <td>85</td>\n",
       "    </tr>\n",
       "  </tbody>\n",
       "</table>\n",
       "</div>"
      ],
      "text/plain": [
       "    篮球  舞蹈\n",
       "李华  93  87\n",
       "王铭  80  99\n",
       "赵毅  85  95\n",
       "刘强  76  85"
      ]
     },
     "execution_count": 37,
     "metadata": {},
     "output_type": "execute_result"
    }
   ],
   "source": [
    "h1Df\n",
    "h2Df"
   ]
  },
  {
   "cell_type": "markdown",
   "metadata": {
    "slideshow": {
     "slide_type": "fragment"
    }
   },
   "source": [
    "```python\n",
    "DataFrame.merge(right, how='inner', left_index=False, right_index=False)\n",
    "```\n",
    "- `right`：要被连接的`DataFrame`，即右`DataFrame`\n",
    "- `how`：如何连接两个`DataFrame`\n",
    "    + `inner`：连接左右两个`DataFrame`的`index`中共同出现的行\n",
    "    + `outer`：连接左右两个`DataFrame`的所有`index`\n",
    "    + `left`：用左`DataFrame`的`index`连接\n",
    "    + `right`：用右`DataFrame`的`index`连接\n",
    "- `left_index`：是否用左`DataFrame`的`index`作为连接的条件，默认为`False`\n",
    "- `right_index`：是否用右`DataFrame`的`index`作为连接的条件，默认为`False`\n",
    "- 返回的值是连接后的`DataFrame`"
   ]
  },
  {
   "cell_type": "markdown",
   "metadata": {
    "slideshow": {
     "slide_type": "slide"
    }
   },
   "source": [
    "<center><img src=\"./img/explore/pandasMergeInner.svg\" width=80%></center>"
   ]
  },
  {
   "cell_type": "code",
   "execution_count": 33,
   "metadata": {
    "scrolled": true,
    "slideshow": {
     "slide_type": "fragment"
    }
   },
   "outputs": [
    {
     "data": {
      "text/html": [
       "<div>\n",
       "<style scoped>\n",
       "    .dataframe tbody tr th:only-of-type {\n",
       "        vertical-align: middle;\n",
       "    }\n",
       "\n",
       "    .dataframe tbody tr th {\n",
       "        vertical-align: top;\n",
       "    }\n",
       "\n",
       "    .dataframe thead th {\n",
       "        text-align: right;\n",
       "    }\n",
       "</style>\n",
       "<table border=\"1\" class=\"dataframe\">\n",
       "  <thead>\n",
       "    <tr style=\"text-align: right;\">\n",
       "      <th></th>\n",
       "      <th>语文</th>\n",
       "      <th>数学</th>\n",
       "      <th>英语</th>\n",
       "      <th>篮球</th>\n",
       "      <th>舞蹈</th>\n",
       "    </tr>\n",
       "  </thead>\n",
       "  <tbody>\n",
       "    <tr>\n",
       "      <th>李华</th>\n",
       "      <td>85</td>\n",
       "      <td>95</td>\n",
       "      <td>97</td>\n",
       "      <td>93</td>\n",
       "      <td>87</td>\n",
       "    </tr>\n",
       "    <tr>\n",
       "      <th>王铭</th>\n",
       "      <td>76</td>\n",
       "      <td>85</td>\n",
       "      <td>65</td>\n",
       "      <td>80</td>\n",
       "      <td>99</td>\n",
       "    </tr>\n",
       "    <tr>\n",
       "      <th>赵毅</th>\n",
       "      <td>60</td>\n",
       "      <td>70</td>\n",
       "      <td>88</td>\n",
       "      <td>85</td>\n",
       "      <td>95</td>\n",
       "    </tr>\n",
       "  </tbody>\n",
       "</table>\n",
       "</div>"
      ],
      "text/plain": [
       "    语文  数学  英语  篮球  舞蹈\n",
       "李华  85  95  97  93  87\n",
       "王铭  76  85  65  80  99\n",
       "赵毅  60  70  88  85  95"
      ]
     },
     "execution_count": 33,
     "metadata": {},
     "output_type": "execute_result"
    }
   ],
   "source": [
    "h1Df.merge(h2Df,how='inner',left_index=True,right_index=True)"
   ]
  },
  {
   "cell_type": "markdown",
   "metadata": {
    "slideshow": {
     "slide_type": "slide"
    }
   },
   "source": [
    "<center><img src=\"./img/explore/pandasMergeLeft.svg\" width=80%></center>"
   ]
  },
  {
   "cell_type": "code",
   "execution_count": 34,
   "metadata": {
    "slideshow": {
     "slide_type": "fragment"
    }
   },
   "outputs": [
    {
     "data": {
      "text/html": [
       "<div>\n",
       "<style scoped>\n",
       "    .dataframe tbody tr th:only-of-type {\n",
       "        vertical-align: middle;\n",
       "    }\n",
       "\n",
       "    .dataframe tbody tr th {\n",
       "        vertical-align: top;\n",
       "    }\n",
       "\n",
       "    .dataframe thead th {\n",
       "        text-align: right;\n",
       "    }\n",
       "</style>\n",
       "<table border=\"1\" class=\"dataframe\">\n",
       "  <thead>\n",
       "    <tr style=\"text-align: right;\">\n",
       "      <th></th>\n",
       "      <th>语文</th>\n",
       "      <th>数学</th>\n",
       "      <th>英语</th>\n",
       "      <th>篮球</th>\n",
       "      <th>舞蹈</th>\n",
       "    </tr>\n",
       "  </thead>\n",
       "  <tbody>\n",
       "    <tr>\n",
       "      <th>韩梅</th>\n",
       "      <td>93</td>\n",
       "      <td>87</td>\n",
       "      <td>80</td>\n",
       "      <td>NaN</td>\n",
       "      <td>NaN</td>\n",
       "    </tr>\n",
       "    <tr>\n",
       "      <th>李雷</th>\n",
       "      <td>80</td>\n",
       "      <td>99</td>\n",
       "      <td>85</td>\n",
       "      <td>NaN</td>\n",
       "      <td>NaN</td>\n",
       "    </tr>\n",
       "    <tr>\n",
       "      <th>李华</th>\n",
       "      <td>85</td>\n",
       "      <td>95</td>\n",
       "      <td>97</td>\n",
       "      <td>93.0</td>\n",
       "      <td>87.0</td>\n",
       "    </tr>\n",
       "    <tr>\n",
       "      <th>王铭</th>\n",
       "      <td>76</td>\n",
       "      <td>85</td>\n",
       "      <td>65</td>\n",
       "      <td>80.0</td>\n",
       "      <td>99.0</td>\n",
       "    </tr>\n",
       "    <tr>\n",
       "      <th>赵毅</th>\n",
       "      <td>60</td>\n",
       "      <td>70</td>\n",
       "      <td>88</td>\n",
       "      <td>85.0</td>\n",
       "      <td>95.0</td>\n",
       "    </tr>\n",
       "  </tbody>\n",
       "</table>\n",
       "</div>"
      ],
      "text/plain": [
       "    语文  数学  英语    篮球    舞蹈\n",
       "韩梅  93  87  80   NaN   NaN\n",
       "李雷  80  99  85   NaN   NaN\n",
       "李华  85  95  97  93.0  87.0\n",
       "王铭  76  85  65  80.0  99.0\n",
       "赵毅  60  70  88  85.0  95.0"
      ]
     },
     "execution_count": 34,
     "metadata": {},
     "output_type": "execute_result"
    }
   ],
   "source": [
    "h1Df.merge(h2Df,how='left',left_index=True,right_index=True)"
   ]
  },
  {
   "cell_type": "markdown",
   "metadata": {
    "slideshow": {
     "slide_type": "slide"
    }
   },
   "source": [
    "<center><img src=\"./img/explore/pandasMergeRight.svg\" width=80%></center>"
   ]
  },
  {
   "cell_type": "code",
   "execution_count": 35,
   "metadata": {
    "slideshow": {
     "slide_type": "fragment"
    }
   },
   "outputs": [
    {
     "data": {
      "text/html": [
       "<div>\n",
       "<style scoped>\n",
       "    .dataframe tbody tr th:only-of-type {\n",
       "        vertical-align: middle;\n",
       "    }\n",
       "\n",
       "    .dataframe tbody tr th {\n",
       "        vertical-align: top;\n",
       "    }\n",
       "\n",
       "    .dataframe thead th {\n",
       "        text-align: right;\n",
       "    }\n",
       "</style>\n",
       "<table border=\"1\" class=\"dataframe\">\n",
       "  <thead>\n",
       "    <tr style=\"text-align: right;\">\n",
       "      <th></th>\n",
       "      <th>语文</th>\n",
       "      <th>数学</th>\n",
       "      <th>英语</th>\n",
       "      <th>篮球</th>\n",
       "      <th>舞蹈</th>\n",
       "    </tr>\n",
       "  </thead>\n",
       "  <tbody>\n",
       "    <tr>\n",
       "      <th>李华</th>\n",
       "      <td>85.0</td>\n",
       "      <td>95.0</td>\n",
       "      <td>97.0</td>\n",
       "      <td>93</td>\n",
       "      <td>87</td>\n",
       "    </tr>\n",
       "    <tr>\n",
       "      <th>王铭</th>\n",
       "      <td>76.0</td>\n",
       "      <td>85.0</td>\n",
       "      <td>65.0</td>\n",
       "      <td>80</td>\n",
       "      <td>99</td>\n",
       "    </tr>\n",
       "    <tr>\n",
       "      <th>赵毅</th>\n",
       "      <td>60.0</td>\n",
       "      <td>70.0</td>\n",
       "      <td>88.0</td>\n",
       "      <td>85</td>\n",
       "      <td>95</td>\n",
       "    </tr>\n",
       "    <tr>\n",
       "      <th>刘强</th>\n",
       "      <td>NaN</td>\n",
       "      <td>NaN</td>\n",
       "      <td>NaN</td>\n",
       "      <td>76</td>\n",
       "      <td>85</td>\n",
       "    </tr>\n",
       "  </tbody>\n",
       "</table>\n",
       "</div>"
      ],
      "text/plain": [
       "      语文    数学    英语  篮球  舞蹈\n",
       "李华  85.0  95.0  97.0  93  87\n",
       "王铭  76.0  85.0  65.0  80  99\n",
       "赵毅  60.0  70.0  88.0  85  95\n",
       "刘强   NaN   NaN   NaN  76  85"
      ]
     },
     "execution_count": 35,
     "metadata": {},
     "output_type": "execute_result"
    }
   ],
   "source": [
    "h1Df.merge(h2Df,how='right',left_index=True,right_index=True)"
   ]
  },
  {
   "cell_type": "markdown",
   "metadata": {
    "slideshow": {
     "slide_type": "slide"
    }
   },
   "source": [
    "<center><img src=\"./img/explore/pandasMergeOuter.svg\" width=80%></center>"
   ]
  },
  {
   "cell_type": "code",
   "execution_count": 36,
   "metadata": {
    "scrolled": true,
    "slideshow": {
     "slide_type": "fragment"
    }
   },
   "outputs": [
    {
     "data": {
      "text/html": [
       "<div>\n",
       "<style scoped>\n",
       "    .dataframe tbody tr th:only-of-type {\n",
       "        vertical-align: middle;\n",
       "    }\n",
       "\n",
       "    .dataframe tbody tr th {\n",
       "        vertical-align: top;\n",
       "    }\n",
       "\n",
       "    .dataframe thead th {\n",
       "        text-align: right;\n",
       "    }\n",
       "</style>\n",
       "<table border=\"1\" class=\"dataframe\">\n",
       "  <thead>\n",
       "    <tr style=\"text-align: right;\">\n",
       "      <th></th>\n",
       "      <th>语文</th>\n",
       "      <th>数学</th>\n",
       "      <th>英语</th>\n",
       "      <th>篮球</th>\n",
       "      <th>舞蹈</th>\n",
       "    </tr>\n",
       "  </thead>\n",
       "  <tbody>\n",
       "    <tr>\n",
       "      <th>刘强</th>\n",
       "      <td>NaN</td>\n",
       "      <td>NaN</td>\n",
       "      <td>NaN</td>\n",
       "      <td>76.0</td>\n",
       "      <td>85.0</td>\n",
       "    </tr>\n",
       "    <tr>\n",
       "      <th>李华</th>\n",
       "      <td>85.0</td>\n",
       "      <td>95.0</td>\n",
       "      <td>97.0</td>\n",
       "      <td>93.0</td>\n",
       "      <td>87.0</td>\n",
       "    </tr>\n",
       "    <tr>\n",
       "      <th>李雷</th>\n",
       "      <td>80.0</td>\n",
       "      <td>99.0</td>\n",
       "      <td>85.0</td>\n",
       "      <td>NaN</td>\n",
       "      <td>NaN</td>\n",
       "    </tr>\n",
       "    <tr>\n",
       "      <th>王铭</th>\n",
       "      <td>76.0</td>\n",
       "      <td>85.0</td>\n",
       "      <td>65.0</td>\n",
       "      <td>80.0</td>\n",
       "      <td>99.0</td>\n",
       "    </tr>\n",
       "    <tr>\n",
       "      <th>赵毅</th>\n",
       "      <td>60.0</td>\n",
       "      <td>70.0</td>\n",
       "      <td>88.0</td>\n",
       "      <td>85.0</td>\n",
       "      <td>95.0</td>\n",
       "    </tr>\n",
       "    <tr>\n",
       "      <th>韩梅</th>\n",
       "      <td>93.0</td>\n",
       "      <td>87.0</td>\n",
       "      <td>80.0</td>\n",
       "      <td>NaN</td>\n",
       "      <td>NaN</td>\n",
       "    </tr>\n",
       "  </tbody>\n",
       "</table>\n",
       "</div>"
      ],
      "text/plain": [
       "      语文    数学    英语    篮球    舞蹈\n",
       "刘强   NaN   NaN   NaN  76.0  85.0\n",
       "李华  85.0  95.0  97.0  93.0  87.0\n",
       "李雷  80.0  99.0  85.0   NaN   NaN\n",
       "王铭  76.0  85.0  65.0  80.0  99.0\n",
       "赵毅  60.0  70.0  88.0  85.0  95.0\n",
       "韩梅  93.0  87.0  80.0   NaN   NaN"
      ]
     },
     "execution_count": 36,
     "metadata": {},
     "output_type": "execute_result"
    }
   ],
   "source": [
    "h1Df.merge(h2Df,how='outer',left_index=True,right_index=True)"
   ]
  },
  {
   "cell_type": "markdown",
   "metadata": {
    "slideshow": {
     "slide_type": "slide"
    }
   },
   "source": [
    "## 数据的纵向合并"
   ]
  },
  {
   "cell_type": "markdown",
   "metadata": {
    "slideshow": {
     "slide_type": "fragment"
    }
   },
   "source": [
    "- 把多个具有相同列名的`DataFrame`按列衔接起来"
   ]
  },
  {
   "cell_type": "markdown",
   "metadata": {
    "slideshow": {
     "slide_type": "fragment"
    }
   },
   "source": [
    "```python\n",
    "pd.concat(objs, axis=0, join='outer',ignore_index=False)\n",
    "```\n",
    "- `objs`：需要纵向连接的所有`DataFrame`构成的**列表**\n",
    "- `join`：连接方式，可选值'inner'或者'outer'\n",
    "- 返回纵向连接后的`DataFrame`"
   ]
  },
  {
   "cell_type": "code",
   "execution_count": 15,
   "metadata": {
    "slideshow": {
     "slide_type": "fragment"
    }
   },
   "outputs": [
    {
     "data": {
      "text/html": [
       "<div>\n",
       "<style scoped>\n",
       "    .dataframe tbody tr th:only-of-type {\n",
       "        vertical-align: middle;\n",
       "    }\n",
       "\n",
       "    .dataframe tbody tr th {\n",
       "        vertical-align: top;\n",
       "    }\n",
       "\n",
       "    .dataframe thead th {\n",
       "        text-align: right;\n",
       "    }\n",
       "</style>\n",
       "<table border=\"1\" class=\"dataframe\">\n",
       "  <thead>\n",
       "    <tr style=\"text-align: right;\">\n",
       "      <th></th>\n",
       "      <th>语文</th>\n",
       "      <th>数学</th>\n",
       "      <th>英语</th>\n",
       "      <th>篮球</th>\n",
       "      <th>舞蹈</th>\n",
       "    </tr>\n",
       "  </thead>\n",
       "  <tbody>\n",
       "    <tr>\n",
       "      <th>0</th>\n",
       "      <td>93.0</td>\n",
       "      <td>87.0</td>\n",
       "      <td>80.0</td>\n",
       "      <td>NaN</td>\n",
       "      <td>NaN</td>\n",
       "    </tr>\n",
       "    <tr>\n",
       "      <th>1</th>\n",
       "      <td>80.0</td>\n",
       "      <td>99.0</td>\n",
       "      <td>85.0</td>\n",
       "      <td>NaN</td>\n",
       "      <td>NaN</td>\n",
       "    </tr>\n",
       "    <tr>\n",
       "      <th>2</th>\n",
       "      <td>85.0</td>\n",
       "      <td>95.0</td>\n",
       "      <td>97.0</td>\n",
       "      <td>NaN</td>\n",
       "      <td>NaN</td>\n",
       "    </tr>\n",
       "    <tr>\n",
       "      <th>3</th>\n",
       "      <td>76.0</td>\n",
       "      <td>85.0</td>\n",
       "      <td>65.0</td>\n",
       "      <td>NaN</td>\n",
       "      <td>NaN</td>\n",
       "    </tr>\n",
       "    <tr>\n",
       "      <th>4</th>\n",
       "      <td>60.0</td>\n",
       "      <td>70.0</td>\n",
       "      <td>88.0</td>\n",
       "      <td>NaN</td>\n",
       "      <td>NaN</td>\n",
       "    </tr>\n",
       "    <tr>\n",
       "      <th>5</th>\n",
       "      <td>NaN</td>\n",
       "      <td>NaN</td>\n",
       "      <td>NaN</td>\n",
       "      <td>93.0</td>\n",
       "      <td>87.0</td>\n",
       "    </tr>\n",
       "    <tr>\n",
       "      <th>6</th>\n",
       "      <td>NaN</td>\n",
       "      <td>NaN</td>\n",
       "      <td>NaN</td>\n",
       "      <td>80.0</td>\n",
       "      <td>99.0</td>\n",
       "    </tr>\n",
       "    <tr>\n",
       "      <th>7</th>\n",
       "      <td>NaN</td>\n",
       "      <td>NaN</td>\n",
       "      <td>NaN</td>\n",
       "      <td>85.0</td>\n",
       "      <td>95.0</td>\n",
       "    </tr>\n",
       "    <tr>\n",
       "      <th>8</th>\n",
       "      <td>NaN</td>\n",
       "      <td>NaN</td>\n",
       "      <td>NaN</td>\n",
       "      <td>76.0</td>\n",
       "      <td>85.0</td>\n",
       "    </tr>\n",
       "  </tbody>\n",
       "</table>\n",
       "</div>"
      ],
      "text/plain": [
       "     语文    数学    英语    篮球    舞蹈\n",
       "0  93.0  87.0  80.0   NaN   NaN\n",
       "1  80.0  99.0  85.0   NaN   NaN\n",
       "2  85.0  95.0  97.0   NaN   NaN\n",
       "3  76.0  85.0  65.0   NaN   NaN\n",
       "4  60.0  70.0  88.0   NaN   NaN\n",
       "5   NaN   NaN   NaN  93.0  87.0\n",
       "6   NaN   NaN   NaN  80.0  99.0\n",
       "7   NaN   NaN   NaN  85.0  95.0\n",
       "8   NaN   NaN   NaN  76.0  85.0"
      ]
     },
     "execution_count": 15,
     "metadata": {},
     "output_type": "execute_result"
    }
   ],
   "source": [
    "pd.concat([h1Df,h2Df],ignore_index=True)"
   ]
  },
  {
   "cell_type": "markdown",
   "metadata": {
    "slideshow": {
     "slide_type": "slide"
    }
   },
   "source": [
    "# 数据变换"
   ]
  },
  {
   "cell_type": "markdown",
   "metadata": {
    "slideshow": {
     "slide_type": "fragment"
    }
   },
   "source": [
    "## 通过函数或映射"
   ]
  },
  {
   "cell_type": "markdown",
   "metadata": {
    "slideshow": {
     "slide_type": "fragment"
    }
   },
   "source": [
    "- 通过函数将原始数据的属性值映射为一系列新值"
   ]
  },
  {
   "cell_type": "markdown",
   "metadata": {
    "slideshow": {
     "slide_type": "fragment"
    }
   },
   "source": [
    "- 简单函数变化，例如通过$\\log_x$可以降低不同属性之间数据的波动"
   ]
  },
  {
   "cell_type": "markdown",
   "metadata": {
    "slideshow": {
     "slide_type": "fragment"
    }
   },
   "source": [
    "```python\n",
    "import math\n",
    "```"
   ]
  },
  {
   "cell_type": "code",
   "execution_count": 42,
   "metadata": {},
   "outputs": [],
   "source": [
    "# math.log(5400)\n",
    "# math.log(10)"
   ]
  },
  {
   "cell_type": "markdown",
   "metadata": {
    "slideshow": {
     "slide_type": "subslide"
    }
   },
   "source": [
    "- 通过`pandas`的`map()`函数映射"
   ]
  },
  {
   "cell_type": "markdown",
   "metadata": {
    "slideshow": {
     "slide_type": "fragment"
    }
   },
   "source": [
    "```python\n",
    "Series.map(arg, na_action=None)\n",
    "```\n",
    "- 可以对`Pandas`的`Series`或者`Dataframe`的某一列的所有元素进行映射\n",
    "- `arg`：映射的函数或者字典\n",
    "- `na_action`：取值为`None`或者`ignore`。如果为`ignore`，则不对序列（`Series`）中的缺失值进行映射"
   ]
  },
  {
   "cell_type": "code",
   "execution_count": 69,
   "metadata": {
    "slideshow": {
     "slide_type": "subslide"
    }
   },
   "outputs": [
    {
     "data": {
      "text/plain": [
       "0       cat\n",
       "1       dog\n",
       "2       NaN\n",
       "3    rabbit\n",
       "dtype: object"
      ]
     },
     "execution_count": 69,
     "metadata": {},
     "output_type": "execute_result"
    },
    {
     "data": {
      "text/plain": [
       "0    kitten\n",
       "1     puppy\n",
       "2       NaN\n",
       "3       NaN\n",
       "dtype: object"
      ]
     },
     "execution_count": 69,
     "metadata": {},
     "output_type": "execute_result"
    }
   ],
   "source": [
    "s = pd.Series(['cat', 'dog', np.nan, 'rabbit'])\n",
    "s\n",
    "# s.map('这是一个{}'.format)\n",
    "# s.map('这是一个{}'.format,na_action='ignore')\n",
    "s.map({'cat': 'kitten', 'dog': 'puppy'})"
   ]
  },
  {
   "cell_type": "markdown",
   "metadata": {
    "slideshow": {
     "slide_type": "slide"
    }
   },
   "source": [
    "## 标准化"
   ]
  },
  {
   "cell_type": "markdown",
   "metadata": {
    "slideshow": {
     "slide_type": "fragment"
    }
   },
   "source": [
    "- 规范化（normalization）\n",
    "    + 利用频率、均值、方差、范围等调整不同属性之间波动差异的过程\n",
    "    + $\\hat{x}=\\frac{x-\\bar{x}}{s_x}$，其中$\\bar{x}$和$s_x$分别是均值和标准差，将原始数据**标准化**（standardization）为均值为$0$，标准差为$1$的数据"
   ]
  },
  {
   "cell_type": "code",
   "execution_count": 45,
   "metadata": {
    "slideshow": {
     "slide_type": "fragment"
    }
   },
   "outputs": [],
   "source": [
    "# accDf = pd.read_csv('./data/pandas/accepts.csv', header=0)\n",
    "# def standardize(x):\n",
    "#     return (x-accDf['purch_price'].mean())/accDf['purch_price'].std()\n",
    "\n",
    "# newPurch = accDf['purch_price'].apply(standardize)"
   ]
  },
  {
   "cell_type": "markdown",
   "metadata": {
    "slideshow": {
     "slide_type": "slide"
    }
   },
   "source": [
    "## 离散化（discretization）"
   ]
  },
  {
   "cell_type": "markdown",
   "metadata": {
    "slideshow": {
     "slide_type": "fragment"
    }
   },
   "source": [
    "- 将连续属性变成分类属性\n",
    "    + 分类算法经常使用离散变量"
   ]
  },
  {
   "cell_type": "markdown",
   "metadata": {
    "slideshow": {
     "slide_type": "fragment"
    }
   },
   "source": [
    "- 将连续或者分类属性变成二元属性 \n",
    "    + 关联分析经常使用非对称的二元属性"
   ]
  },
  {
   "cell_type": "markdown",
   "metadata": {
    "slideshow": {
     "slide_type": "slide"
    }
   },
   "source": [
    "### 分类属性二元化"
   ]
  },
  {
   "cell_type": "markdown",
   "metadata": {
    "slideshow": {
     "slide_type": "fragment"
    }
   },
   "source": [
    "- 假设有$m$个分类值，对应$[0, m-1]$中的整数"
   ]
  },
  {
   "cell_type": "markdown",
   "metadata": {
    "slideshow": {
     "slide_type": "fragment"
    }
   },
   "source": [
    "- 将分类属性二元化，就是将每个分类对应的整数用**二进制**表示"
   ]
  },
  {
   "cell_type": "markdown",
   "metadata": {
    "slideshow": {
     "slide_type": "fragment"
    }
   },
   "source": [
    "- 总共需要$n=\\lceil\\log_2^m\\rceil$个二进制数表示所有的分类值"
   ]
  },
  {
   "cell_type": "markdown",
   "metadata": {
    "slideshow": {
     "slide_type": "slide"
    }
   },
   "source": [
    "- 假设一个具有五个值的分类属性：`[awful, poor, OK, good, great]`，对应的整数值分别是`0, 1, 2, 3, 4`"
   ]
  },
  {
   "cell_type": "markdown",
   "metadata": {
    "slideshow": {
     "slide_type": "fragment"
    }
   },
   "source": [
    "分类值|整数值|$x_1$|$x_2$|$x_3$\n",
    "---|---|---|---|---\n",
    "awful|0|0|0|0\n",
    "poor|1|0|0|1\n",
    "OK|2|0|1|0\n",
    "good|3|0|1|1\n",
    "great|4|1|0|0"
   ]
  },
  {
   "cell_type": "markdown",
   "metadata": {
    "slideshow": {
     "slide_type": "fragment"
    }
   },
   "source": [
    "- 为每一个分类值引入一个二元属性，形成非对称的二元属性"
   ]
  },
  {
   "cell_type": "markdown",
   "metadata": {
    "slideshow": {
     "slide_type": "fragment"
    }
   },
   "source": [
    "分类值|整数值|$x_1$|$x_2$|$x_3$|$x_4$|$x_5$\n",
    "---|---|---|---|---|---|---\n",
    "awful|0|1|0|0|0|0\n",
    "poor|1|0|1|0|0|0\n",
    "OK|2|0|0|1|0|0|0\n",
    "good|3|0|0|0|1|0\n",
    "great|4|0|0|0|0|1"
   ]
  },
  {
   "cell_type": "markdown",
   "metadata": {
    "slideshow": {
     "slide_type": "slide"
    }
   },
   "source": [
    "### 连续属性离散化"
   ]
  },
  {
   "cell_type": "markdown",
   "metadata": {
    "slideshow": {
     "slide_type": "fragment"
    }
   },
   "source": [
    "- 确定分成多少个区间"
   ]
  },
  {
   "cell_type": "markdown",
   "metadata": {
    "slideshow": {
     "slide_type": "fragment"
    }
   },
   "source": [
    "- 确定分割点（split point）的位置"
   ]
  },
  {
   "cell_type": "markdown",
   "metadata": {
    "slideshow": {
     "slide_type": "slide"
    }
   },
   "source": [
    "#### 等宽（equal width）方法"
   ]
  },
  {
   "cell_type": "markdown",
   "metadata": {
    "slideshow": {
     "slide_type": "fragment"
    }
   },
   "source": [
    "- 将属性的值域划分成相同宽度的区间"
   ]
  },
  {
   "cell_type": "markdown",
   "metadata": {
    "slideshow": {
     "slide_type": "fragment"
    }
   },
   "source": [
    "- ```python\n",
    "pandas.cut(x, bins, right=True, labels=None, retbins=False)\n",
    "```\n",
    "    + `x`：需要被离散化的**一维**数组数据\n",
    "    + `bins`：等分的区间数量，`int`类型\n",
    "    + `right`：区间是否包含右边界，默认包含。例如，$[1, 2, 3, 4]$划分成$(1, 2], (2, 3], (3, 4]$\n",
    "    + `labels`：给每个区间添加自定义标签\n",
    "    + `retbins`：返回划分的区间"
   ]
  },
  {
   "cell_type": "code",
   "execution_count": 46,
   "metadata": {
    "slideshow": {
     "slide_type": "skip"
    }
   },
   "outputs": [],
   "source": [
    "# import numpy as np\n",
    "# import pandas as pd\n",
    "# d1 = 0.2*np.random.randn(100)+5\n",
    "# d1y = np.random.random(100)\n",
    "# d2 = 0.2*np.random.randn(50)+8\n",
    "# d3 = 0.2*np.random.randn(50)+10\n",
    "# d23 = np.hstack((d2,d3))\n",
    "# d23y = np.random.random(100)\n",
    "# d4 = 0.2*np.random.randn(100)+15\n",
    "# d4y= np.random.random(100)\n",
    "# d0=0\n",
    "# d5=20\n",
    "# d0z = np.array([d0, np.random.random(1), 0]).reshape(1,3)\n",
    "# d1z = np.array([d1,d1y, np.ones(100)]).transpose()\n",
    "# d2z = np.array([d23,d23y, np.ones(100)*2]).transpose()\n",
    "# d4z = np.array([d4,d4y,np.ones(100)*3]).transpose()\n",
    "# d5z = np.array([d5, np.random.random(1), 4]).reshape(1,3)\n",
    "# d5z.shape\n",
    "# d = np.vstack((d0z,d1z,d2z,d4z,d5z))\n",
    "# pd.DataFrame(d).to_csv('./data/pandas/descritization.csv', index=False, header=['x', 'y', 'class'])"
   ]
  },
  {
   "cell_type": "code",
   "execution_count": 47,
   "metadata": {
    "scrolled": true,
    "slideshow": {
     "slide_type": "skip"
    }
   },
   "outputs": [],
   "source": [
    "# %matplotlib inline\n",
    "# import pandas as pd\n",
    "# import numpy as np\n",
    "# import matplotlib.pyplot as plt\n",
    "# d = pd.read_csv('./data/pandas/descritization.csv', header=0)\n",
    "# print(d.head())\n",
    "# plt.figure(figsize=(12,6))\n",
    "# plt.scatter(d.iloc[:,0], d.iloc[:, 1], c=np.hstack((4, np.zeros(100), np.ones(100)*20, np.ones(100)*40, 60)))\n",
    "# plt.plot(np.ones(100)*5, np.random.random(100), c='red')\n",
    "# plt.plot(np.ones(100)*10, np.random.random(100), c='red')\n",
    "# plt.plot(np.ones(100)*15, np.random.random(100), c='red')\n",
    "# plt.savefig('./img/pandas/descritization.svg')\n",
    "# equalW = pd.cut(d.iloc[:,0], 4, retbins=True)\n",
    "# print(equalW)\n",
    "# equalW[0].value_counts()"
   ]
  },
  {
   "cell_type": "markdown",
   "metadata": {
    "slideshow": {
     "slide_type": "fragment"
    }
   },
   "source": [
    "<center><img src=\"./img/pandas/descritization.svg\" width=100%></center>"
   ]
  },
  {
   "cell_type": "markdown",
   "metadata": {
    "slideshow": {
     "slide_type": "slide"
    }
   },
   "source": [
    "#### 等频率（equal frequency）方法"
   ]
  },
  {
   "cell_type": "markdown",
   "metadata": {
    "slideshow": {
     "slide_type": "fragment"
    }
   },
   "source": [
    "- 将相同数量的对象放进每个区间"
   ]
  },
  {
   "cell_type": "markdown",
   "metadata": {
    "slideshow": {
     "slide_type": "fragment"
    }
   },
   "source": [
    "- ```python\n",
    "pandas.qcut(x, q, labels=None, retbins=False)\n",
    "```\n",
    "    + 基于分位数的离散化函数\n",
    "    + `q`：分位数的数量"
   ]
  },
  {
   "cell_type": "code",
   "execution_count": 48,
   "metadata": {
    "scrolled": true,
    "slideshow": {
     "slide_type": "skip"
    }
   },
   "outputs": [],
   "source": [
    "# equalF = pd.qcut(d.iloc[:,0], 4, retbins=True)\n",
    "# print(equalF[0].value_counts())\n",
    "# gbins = equalF[1]\n",
    "# plt.figure(figsize=(12,6))\n",
    "# plt.scatter(d.iloc[:,0], d.iloc[:, 1], c=np.hstack((4, np.zeros(100), np.ones(100)*20, np.ones(100)*40, 60)))\n",
    "# plt.plot(np.ones(100)*gbins[1], np.random.random(100), 'm--')\n",
    "# plt.plot(np.ones(100)*gbins[2], np.random.random(100), 'm--')\n",
    "# plt.plot(np.ones(100)*gbins[3], np.random.random(100), 'm--')\n",
    "# # plt.plot(np.ones(100)*5, np.random.random(100), c='red')\n",
    "# # plt.plot(np.ones(100)*10, np.random.random(100), c='red')\n",
    "# # plt.plot(np.ones(100)*15, np.random.random(100), c='red')\n",
    "# plt.savefig('./img/pandas/descritizationEqual.svg')"
   ]
  },
  {
   "cell_type": "markdown",
   "metadata": {
    "slideshow": {
     "slide_type": "fragment"
    }
   },
   "source": [
    "```python\n",
    "equalF = pd.qcut(d.iloc[:,0], 4, retbins=True)\n",
    "```"
   ]
  },
  {
   "cell_type": "markdown",
   "metadata": {
    "slideshow": {
     "slide_type": "fragment"
    }
   },
   "source": [
    "<center><img src=\"./img/pandas/descritizationEqual.svg\" width=100%></center>"
   ]
  },
  {
   "cell_type": "markdown",
   "metadata": {
    "hide_input": true,
    "slideshow": {
     "slide_type": "slide"
    }
   },
   "source": [
    "# 数据规约"
   ]
  },
  {
   "cell_type": "markdown",
   "metadata": {
    "slideshow": {
     "slide_type": "slide"
    }
   },
   "source": [
    "## 聚集（aggregation）"
   ]
  },
  {
   "cell_type": "markdown",
   "metadata": {
    "slideshow": {
     "slide_type": "fragment"
    }
   },
   "source": [
    "- 将两个或多个对象合并成单个对象"
   ]
  },
  {
   "cell_type": "markdown",
   "metadata": {
    "slideshow": {
     "slide_type": "fragment"
    }
   },
   "source": [
    "- 减少数据对象的数量"
   ]
  },
  {
   "cell_type": "markdown",
   "metadata": {
    "slideshow": {
     "slide_type": "fragment"
    }
   },
   "source": [
    "- 改变数据的分辨率\n",
    "    + 城市聚集成地区、省份、国家\n",
    "    + 日数据聚集成周数据、月数据、年数据"
   ]
  },
  {
   "cell_type": "markdown",
   "metadata": {
    "slideshow": {
     "slide_type": "fragment"
    }
   },
   "source": [
    "- 聚集可以平滑数据"
   ]
  },
  {
   "cell_type": "markdown",
   "metadata": {
    "slideshow": {
     "slide_type": "slide"
    }
   },
   "source": [
    "### 分组运算"
   ]
  },
  {
   "cell_type": "markdown",
   "metadata": {
    "slideshow": {
     "slide_type": "fragment"
    }
   },
   "source": [
    "- 聚集本质上是对数据的分组运算"
   ]
  },
  {
   "cell_type": "markdown",
   "metadata": {
    "slideshow": {
     "slide_type": "fragment"
    }
   },
   "source": [
    "- 分组运算机制：拆分－应用－合并（split-apply-combine）"
   ]
  },
  {
   "cell_type": "markdown",
   "metadata": {
    "slideshow": {
     "slide_type": "fragment"
    }
   },
   "source": [
    "<center><img src=\"./img/pandas/groupby.png\" width=60%></center>"
   ]
  },
  {
   "cell_type": "markdown",
   "metadata": {
    "hide_input": false,
    "slideshow": {
     "slide_type": "slide"
    }
   },
   "source": [
    "### `groupby`函数"
   ]
  },
  {
   "cell_type": "markdown",
   "metadata": {
    "slideshow": {
     "slide_type": "fragment"
    }
   },
   "source": [
    "- ```python\n",
    "DataFrame.groupby(by=None, axis=0, sort=True)\n",
    "```\n",
    "    + `by`：分组的依据\n",
    "        * `label`或者`list of labels`：列的名称\n",
    "        * `dict`：字典的值是分组的依据\n",
    "    + `sort`：排序分组的键，令`sort=False`可以提高分组的效率"
   ]
  },
  {
   "cell_type": "code",
   "execution_count": 70,
   "metadata": {
    "slideshow": {
     "slide_type": "fragment"
    }
   },
   "outputs": [
    {
     "data": {
      "text/html": [
       "<div>\n",
       "<style scoped>\n",
       "    .dataframe tbody tr th:only-of-type {\n",
       "        vertical-align: middle;\n",
       "    }\n",
       "\n",
       "    .dataframe tbody tr th {\n",
       "        vertical-align: top;\n",
       "    }\n",
       "\n",
       "    .dataframe thead th {\n",
       "        text-align: right;\n",
       "    }\n",
       "</style>\n",
       "<table border=\"1\" class=\"dataframe\">\n",
       "  <thead>\n",
       "    <tr style=\"text-align: right;\">\n",
       "      <th></th>\n",
       "      <th>key1</th>\n",
       "      <th>key2</th>\n",
       "      <th>data1</th>\n",
       "      <th>data2</th>\n",
       "    </tr>\n",
       "  </thead>\n",
       "  <tbody>\n",
       "    <tr>\n",
       "      <th>0</th>\n",
       "      <td>a</td>\n",
       "      <td>one</td>\n",
       "      <td>1.644327</td>\n",
       "      <td>0.856074</td>\n",
       "    </tr>\n",
       "    <tr>\n",
       "      <th>1</th>\n",
       "      <td>a</td>\n",
       "      <td>two</td>\n",
       "      <td>0.372429</td>\n",
       "      <td>-0.427077</td>\n",
       "    </tr>\n",
       "    <tr>\n",
       "      <th>2</th>\n",
       "      <td>b</td>\n",
       "      <td>one</td>\n",
       "      <td>0.762597</td>\n",
       "      <td>-0.988409</td>\n",
       "    </tr>\n",
       "    <tr>\n",
       "      <th>3</th>\n",
       "      <td>b</td>\n",
       "      <td>two</td>\n",
       "      <td>0.153580</td>\n",
       "      <td>0.049430</td>\n",
       "    </tr>\n",
       "    <tr>\n",
       "      <th>4</th>\n",
       "      <td>a</td>\n",
       "      <td>one</td>\n",
       "      <td>-1.423149</td>\n",
       "      <td>-1.052199</td>\n",
       "    </tr>\n",
       "  </tbody>\n",
       "</table>\n",
       "</div>"
      ],
      "text/plain": [
       "  key1 key2     data1     data2\n",
       "0    a  one  1.644327  0.856074\n",
       "1    a  two  0.372429 -0.427077\n",
       "2    b  one  0.762597 -0.988409\n",
       "3    b  two  0.153580  0.049430\n",
       "4    a  one -1.423149 -1.052199"
      ]
     },
     "execution_count": 70,
     "metadata": {},
     "output_type": "execute_result"
    },
    {
     "data": {
      "text/plain": [
       "<pandas.core.groupby.generic.DataFrameGroupBy object at 0x7fba024ae320>"
      ]
     },
     "execution_count": 70,
     "metadata": {},
     "output_type": "execute_result"
    }
   ],
   "source": [
    "df = pd.DataFrame({'key1' : ['a', 'a', 'b', 'b', 'a'], 'key2' : ['one', 'two', 'one', 'two', 'one'], 'data1' : np.random.randn(5), 'data2' : np.random.randn(5)})\n",
    "df\n",
    "gp = df.groupby(by='key2')\n",
    "gp"
   ]
  },
  {
   "cell_type": "code",
   "execution_count": 71,
   "metadata": {
    "slideshow": {
     "slide_type": "fragment"
    }
   },
   "outputs": [
    {
     "data": {
      "text/plain": [
       "<pandas.core.groupby.generic.DataFrameGroupBy object at 0x7fba024ae438>"
      ]
     },
     "execution_count": 71,
     "metadata": {},
     "output_type": "execute_result"
    }
   ],
   "source": [
    "grouped = df.groupby(['key1', 'key2'])\n",
    "grouped"
   ]
  },
  {
   "cell_type": "markdown",
   "metadata": {
    "slideshow": {
     "slide_type": "slide"
    }
   },
   "source": [
    "- 对`groupby`对象进行迭代\n",
    "    + 分组标志为迭代对象的标签\n",
    "    + 组形成数据块"
   ]
  },
  {
   "cell_type": "code",
   "execution_count": 73,
   "metadata": {
    "slideshow": {
     "slide_type": "fragment"
    }
   },
   "outputs": [
    {
     "name": "stdout",
     "output_type": "stream",
     "text": [
      "a one\n",
      "  key1 key2     data1     data2\n",
      "0    a  one  1.644327  0.856074\n",
      "4    a  one -1.423149 -1.052199\n",
      "a two\n",
      "  key1 key2     data1     data2\n",
      "1    a  two  0.372429 -0.427077\n",
      "b one\n",
      "  key1 key2     data1     data2\n",
      "2    b  one  0.762597 -0.988409\n",
      "b two\n",
      "  key1 key2    data1    data2\n",
      "3    b  two  0.15358  0.04943\n"
     ]
    }
   ],
   "source": [
    "# for each in grouped:\n",
    "#     print(each)\n",
    "for (label1, label2), group in grouped:\n",
    "    print(label1, label2)\n",
    "    print(group)"
   ]
  },
  {
   "cell_type": "markdown",
   "metadata": {
    "slideshow": {
     "slide_type": "slide"
    }
   },
   "source": [
    "- 利用字典进行分组\n",
    "    + 按列分组，`axis=1`"
   ]
  },
  {
   "cell_type": "code",
   "execution_count": 108,
   "metadata": {
    "slideshow": {
     "slide_type": "fragment"
    }
   },
   "outputs": [
    {
     "data": {
      "text/html": [
       "<div>\n",
       "<style scoped>\n",
       "    .dataframe tbody tr th:only-of-type {\n",
       "        vertical-align: middle;\n",
       "    }\n",
       "\n",
       "    .dataframe tbody tr th {\n",
       "        vertical-align: top;\n",
       "    }\n",
       "\n",
       "    .dataframe thead th {\n",
       "        text-align: right;\n",
       "    }\n",
       "</style>\n",
       "<table border=\"1\" class=\"dataframe\">\n",
       "  <thead>\n",
       "    <tr style=\"text-align: right;\">\n",
       "      <th></th>\n",
       "      <th>a</th>\n",
       "      <th>b</th>\n",
       "      <th>c</th>\n",
       "      <th>d</th>\n",
       "      <th>e</th>\n",
       "    </tr>\n",
       "  </thead>\n",
       "  <tbody>\n",
       "    <tr>\n",
       "      <th>Joe</th>\n",
       "      <td>0.579968</td>\n",
       "      <td>0.080609</td>\n",
       "      <td>1.713611</td>\n",
       "      <td>0.745434</td>\n",
       "      <td>0.031481</td>\n",
       "    </tr>\n",
       "    <tr>\n",
       "      <th>Steve</th>\n",
       "      <td>0.703997</td>\n",
       "      <td>0.566236</td>\n",
       "      <td>0.593159</td>\n",
       "      <td>0.169146</td>\n",
       "      <td>-1.577003</td>\n",
       "    </tr>\n",
       "    <tr>\n",
       "      <th>Wes</th>\n",
       "      <td>-0.282523</td>\n",
       "      <td>-0.517844</td>\n",
       "      <td>1.158383</td>\n",
       "      <td>1.201100</td>\n",
       "      <td>-0.456551</td>\n",
       "    </tr>\n",
       "    <tr>\n",
       "      <th>Jim</th>\n",
       "      <td>-1.377054</td>\n",
       "      <td>0.727628</td>\n",
       "      <td>1.200159</td>\n",
       "      <td>0.851049</td>\n",
       "      <td>-0.740768</td>\n",
       "    </tr>\n",
       "    <tr>\n",
       "      <th>Travis</th>\n",
       "      <td>-1.210369</td>\n",
       "      <td>-0.397417</td>\n",
       "      <td>0.901824</td>\n",
       "      <td>-1.308957</td>\n",
       "      <td>-1.459697</td>\n",
       "    </tr>\n",
       "  </tbody>\n",
       "</table>\n",
       "</div>"
      ],
      "text/plain": [
       "               a         b         c         d         e\n",
       "Joe     0.579968  0.080609  1.713611  0.745434  0.031481\n",
       "Steve   0.703997  0.566236  0.593159  0.169146 -1.577003\n",
       "Wes    -0.282523 -0.517844  1.158383  1.201100 -0.456551\n",
       "Jim    -1.377054  0.727628  1.200159  0.851049 -0.740768\n",
       "Travis -1.210369 -0.397417  0.901824 -1.308957 -1.459697"
      ]
     },
     "execution_count": 108,
     "metadata": {},
     "output_type": "execute_result"
    },
    {
     "data": {
      "text/html": [
       "<div>\n",
       "<style scoped>\n",
       "    .dataframe tbody tr th:only-of-type {\n",
       "        vertical-align: middle;\n",
       "    }\n",
       "\n",
       "    .dataframe tbody tr th {\n",
       "        vertical-align: top;\n",
       "    }\n",
       "\n",
       "    .dataframe thead th {\n",
       "        text-align: right;\n",
       "    }\n",
       "</style>\n",
       "<table border=\"1\" class=\"dataframe\">\n",
       "  <thead>\n",
       "    <tr style=\"text-align: right;\">\n",
       "      <th></th>\n",
       "      <th>blue</th>\n",
       "      <th>red</th>\n",
       "    </tr>\n",
       "  </thead>\n",
       "  <tbody>\n",
       "    <tr>\n",
       "      <th>Joe</th>\n",
       "      <td>2</td>\n",
       "      <td>3</td>\n",
       "    </tr>\n",
       "    <tr>\n",
       "      <th>Steve</th>\n",
       "      <td>2</td>\n",
       "      <td>3</td>\n",
       "    </tr>\n",
       "    <tr>\n",
       "      <th>Wes</th>\n",
       "      <td>2</td>\n",
       "      <td>3</td>\n",
       "    </tr>\n",
       "    <tr>\n",
       "      <th>Jim</th>\n",
       "      <td>2</td>\n",
       "      <td>3</td>\n",
       "    </tr>\n",
       "    <tr>\n",
       "      <th>Travis</th>\n",
       "      <td>2</td>\n",
       "      <td>3</td>\n",
       "    </tr>\n",
       "  </tbody>\n",
       "</table>\n",
       "</div>"
      ],
      "text/plain": [
       "        blue  red\n",
       "Joe        2    3\n",
       "Steve      2    3\n",
       "Wes        2    3\n",
       "Jim        2    3\n",
       "Travis     2    3"
      ]
     },
     "execution_count": 108,
     "metadata": {},
     "output_type": "execute_result"
    }
   ],
   "source": [
    "people = pd.DataFrame(np.random.randn(5, 5), columns=['a', 'b', 'c', 'd', 'e'],  index=['Joe', 'Steve', 'Wes', 'Jim', 'Travis'])\n",
    "people\n",
    "mapping = {'a': 'red', 'b': 'red', 'c': 'blue', 'd': 'blue', 'e': 'red', 'f' : 'orange'}\n",
    "people.groupby(mapping, axis=1).count()"
   ]
  },
  {
   "cell_type": "markdown",
   "metadata": {
    "slideshow": {
     "slide_type": "fragment"
    }
   },
   "source": [
    "- 对分组对象应用`size()`函数，返回各个分组的大小"
   ]
  },
  {
   "cell_type": "code",
   "execution_count": 50,
   "metadata": {
    "slideshow": {
     "slide_type": "fragment"
    }
   },
   "outputs": [],
   "source": [
    "# grouped.mean()"
   ]
  },
  {
   "cell_type": "markdown",
   "metadata": {
    "slideshow": {
     "slide_type": "slide"
    }
   },
   "source": [
    "## 聚合计算"
   ]
  },
  {
   "cell_type": "markdown",
   "metadata": {
    "slideshow": {
     "slide_type": "fragment"
    }
   },
   "source": [
    "- 对分组的数据进行计算"
   ]
  },
  {
   "cell_type": "markdown",
   "metadata": {
    "slideshow": {
     "slide_type": "fragment"
    }
   },
   "source": [
    "函数|说明\n",
    "---|---\n",
    "`count()`|分组中非`NaN`的数量\n",
    "`sum()`|非`NaN`的和\n",
    "`mean()`|非`NaN`的均值 \n",
    "`median()`|非`NaN`的中位数\n",
    "`std()`, `var()`|非`NaN`的标准差和方差\n",
    "`min()`, `max()`|非`NaN`的最小值和最大值\n",
    "`prod()`|非`NaN`的积\n",
    "`first()`, `last()`|第一个或最后一个非`NaN`的值\n"
   ]
  },
  {
   "cell_type": "markdown",
   "metadata": {
    "slideshow": {
     "slide_type": "slide"
    }
   },
   "source": [
    "### 聚合函数`agg`或`aggregate`"
   ]
  },
  {
   "cell_type": "markdown",
   "metadata": {
    "slideshow": {
     "slide_type": "fragment"
    }
   },
   "source": [
    "- ```python\n",
    "DataFrame.agg(func, axis=0)\n",
    "```\n",
    "    + `func`：\n",
    "        * 函数或函数名称\n",
    "        * 函数列表或函数名称列表，计算结果会有相应的函数名称标明\n",
    "        * 字典，格式为`label: 函数，函数名称，或它们的列表`，可以为不同的列应用不同的函数"
   ]
  },
  {
   "cell_type": "code",
   "execution_count": 75,
   "metadata": {
    "slideshow": {
     "slide_type": "fragment"
    }
   },
   "outputs": [
    {
     "data": {
      "text/html": [
       "<div>\n",
       "<style scoped>\n",
       "    .dataframe tbody tr th:only-of-type {\n",
       "        vertical-align: middle;\n",
       "    }\n",
       "\n",
       "    .dataframe tbody tr th {\n",
       "        vertical-align: top;\n",
       "    }\n",
       "\n",
       "    .dataframe thead tr th {\n",
       "        text-align: left;\n",
       "    }\n",
       "\n",
       "    .dataframe thead tr:last-of-type th {\n",
       "        text-align: right;\n",
       "    }\n",
       "</style>\n",
       "<table border=\"1\" class=\"dataframe\">\n",
       "  <thead>\n",
       "    <tr>\n",
       "      <th></th>\n",
       "      <th>data1</th>\n",
       "      <th>data2</th>\n",
       "    </tr>\n",
       "    <tr>\n",
       "      <th></th>\n",
       "      <th>mean</th>\n",
       "      <th>std</th>\n",
       "    </tr>\n",
       "    <tr>\n",
       "      <th>key1</th>\n",
       "      <th></th>\n",
       "      <th></th>\n",
       "    </tr>\n",
       "  </thead>\n",
       "  <tbody>\n",
       "    <tr>\n",
       "      <th>a</th>\n",
       "      <td>0.197869</td>\n",
       "      <td>0.972861</td>\n",
       "    </tr>\n",
       "    <tr>\n",
       "      <th>b</th>\n",
       "      <td>0.458089</td>\n",
       "      <td>0.733863</td>\n",
       "    </tr>\n",
       "  </tbody>\n",
       "</table>\n",
       "</div>"
      ],
      "text/plain": [
       "         data1     data2\n",
       "          mean       std\n",
       "key1                    \n",
       "a     0.197869  0.972861\n",
       "b     0.458089  0.733863"
      ]
     },
     "execution_count": 75,
     "metadata": {},
     "output_type": "execute_result"
    }
   ],
   "source": [
    "# df.groupby('key1').agg(['mean','std'])\n",
    "df.groupby(['key1']).agg({'data1': ['mean'], 'data2': ['std']})"
   ]
  },
  {
   "cell_type": "markdown",
   "metadata": {
    "slideshow": {
     "slide_type": "slide"
    }
   },
   "source": [
    "- 可以给`agg`传入自定义函数"
   ]
  },
  {
   "cell_type": "code",
   "execution_count": 119,
   "metadata": {
    "slideshow": {
     "slide_type": "fragment"
    }
   },
   "outputs": [
    {
     "data": {
      "text/html": [
       "<div>\n",
       "<style scoped>\n",
       "    .dataframe tbody tr th:only-of-type {\n",
       "        vertical-align: middle;\n",
       "    }\n",
       "\n",
       "    .dataframe tbody tr th {\n",
       "        vertical-align: top;\n",
       "    }\n",
       "\n",
       "    .dataframe thead tr th {\n",
       "        text-align: left;\n",
       "    }\n",
       "\n",
       "    .dataframe thead tr:last-of-type th {\n",
       "        text-align: right;\n",
       "    }\n",
       "</style>\n",
       "<table border=\"1\" class=\"dataframe\">\n",
       "  <thead>\n",
       "    <tr>\n",
       "      <th></th>\n",
       "      <th colspan=\"2\" halign=\"left\">data1</th>\n",
       "      <th colspan=\"2\" halign=\"left\">data2</th>\n",
       "    </tr>\n",
       "    <tr>\n",
       "      <th></th>\n",
       "      <th>mean</th>\n",
       "      <th>maxMinRatio</th>\n",
       "      <th>mean</th>\n",
       "      <th>maxMinRatio</th>\n",
       "    </tr>\n",
       "    <tr>\n",
       "      <th>key1</th>\n",
       "      <th></th>\n",
       "      <th></th>\n",
       "      <th></th>\n",
       "      <th></th>\n",
       "    </tr>\n",
       "  </thead>\n",
       "  <tbody>\n",
       "    <tr>\n",
       "      <th>a</th>\n",
       "      <td>1.088756</td>\n",
       "      <td>4.402310</td>\n",
       "      <td>-0.409956</td>\n",
       "      <td>0.334861</td>\n",
       "    </tr>\n",
       "    <tr>\n",
       "      <th>b</th>\n",
       "      <td>-0.108346</td>\n",
       "      <td>0.807305</td>\n",
       "      <td>0.789026</td>\n",
       "      <td>5.073579</td>\n",
       "    </tr>\n",
       "  </tbody>\n",
       "</table>\n",
       "</div>"
      ],
      "text/plain": [
       "         data1                 data2            \n",
       "          mean maxMinRatio      mean maxMinRatio\n",
       "key1                                            \n",
       "a     1.088756    4.402310 -0.409956    0.334861\n",
       "b    -0.108346    0.807305  0.789026    5.073579"
      ]
     },
     "execution_count": 119,
     "metadata": {},
     "output_type": "execute_result"
    }
   ],
   "source": [
    "def maxMinRatio(arr):\n",
    "    return arr.max()/arr.min()\n",
    "df.groupby('key1').agg(['mean', maxMinRatio])"
   ]
  },
  {
   "cell_type": "markdown",
   "metadata": {
    "slideshow": {
     "slide_type": "slide"
    }
   },
   "source": [
    "### `apply`函数"
   ]
  },
  {
   "cell_type": "markdown",
   "metadata": {
    "slideshow": {
     "slide_type": "fragment"
    }
   },
   "source": [
    "- ```python\n",
    "DataFrame.apply(func, axis=0)\n",
    "```\n",
    "    + `fun`：对每行或列应用的函数"
   ]
  },
  {
   "cell_type": "code",
   "execution_count": 76,
   "metadata": {
    "slideshow": {
     "slide_type": "fragment"
    }
   },
   "outputs": [
    {
     "data": {
      "text/html": [
       "<div>\n",
       "<style scoped>\n",
       "    .dataframe tbody tr th:only-of-type {\n",
       "        vertical-align: middle;\n",
       "    }\n",
       "\n",
       "    .dataframe tbody tr th {\n",
       "        vertical-align: top;\n",
       "    }\n",
       "\n",
       "    .dataframe thead th {\n",
       "        text-align: right;\n",
       "    }\n",
       "</style>\n",
       "<table border=\"1\" class=\"dataframe\">\n",
       "  <thead>\n",
       "    <tr style=\"text-align: right;\">\n",
       "      <th></th>\n",
       "      <th>A</th>\n",
       "      <th>B</th>\n",
       "    </tr>\n",
       "  </thead>\n",
       "  <tbody>\n",
       "    <tr>\n",
       "      <th>0</th>\n",
       "      <td>4</td>\n",
       "      <td>9</td>\n",
       "    </tr>\n",
       "    <tr>\n",
       "      <th>1</th>\n",
       "      <td>4</td>\n",
       "      <td>9</td>\n",
       "    </tr>\n",
       "    <tr>\n",
       "      <th>2</th>\n",
       "      <td>4</td>\n",
       "      <td>9</td>\n",
       "    </tr>\n",
       "  </tbody>\n",
       "</table>\n",
       "</div>"
      ],
      "text/plain": [
       "   A  B\n",
       "0  4  9\n",
       "1  4  9\n",
       "2  4  9"
      ]
     },
     "execution_count": 76,
     "metadata": {},
     "output_type": "execute_result"
    },
    {
     "data": {
      "text/plain": [
       "0    9\n",
       "1    9\n",
       "2    9\n",
       "dtype: int64"
      ]
     },
     "execution_count": 76,
     "metadata": {},
     "output_type": "execute_result"
    }
   ],
   "source": [
    "applyDf = pd.DataFrame([[4, 9],] * 3, columns=['A', 'B'])\n",
    "applyDf\n",
    "applyDf.apply('max', axis=1) "
   ]
  }
 ],
 "metadata": {
  "celltoolbar": "幻灯片",
  "hide_input": false,
  "kernelspec": {
   "display_name": "Python 3",
   "language": "python",
   "name": "python3"
  },
  "language_info": {
   "codemirror_mode": {
    "name": "ipython",
    "version": 3
   },
   "file_extension": ".py",
   "mimetype": "text/x-python",
   "name": "python",
   "nbconvert_exporter": "python",
   "pygments_lexer": "ipython3",
   "version": "3.6.8"
  },
  "latex_envs": {
   "LaTeX_envs_menu_present": true,
   "autoclose": true,
   "autocomplete": true,
   "bibliofile": "biblio.bib",
   "cite_by": "apalike",
   "current_citInitial": 1,
   "eqLabelWithNumbers": true,
   "eqNumInitial": 1,
   "hotkeys": {
    "equation": "Ctrl-E",
    "itemize": "Ctrl-I"
   },
   "labels_anchors": false,
   "latex_user_defs": false,
   "report_style_numbering": false,
   "user_envs_cfg": false
  },
  "toc": {
   "base_numbering": 1,
   "nav_menu": {},
   "number_sections": true,
   "sideBar": true,
   "skip_h1_title": false,
   "title_cell": "Table of Contents",
   "title_sidebar": "Contents",
   "toc_cell": false,
   "toc_position": {
    "height": "calc(100% - 180px)",
    "left": "10px",
    "top": "150px",
    "width": "376.938px"
   },
   "toc_section_display": true,
   "toc_window_display": true
  },
  "varInspector": {
   "cols": {
    "lenName": 16,
    "lenType": 16,
    "lenVar": 40
   },
   "kernels_config": {
    "python": {
     "delete_cmd_postfix": "",
     "delete_cmd_prefix": "del ",
     "library": "var_list.py",
     "varRefreshCmd": "print(var_dic_list())"
    },
    "r": {
     "delete_cmd_postfix": ") ",
     "delete_cmd_prefix": "rm(",
     "library": "var_list.r",
     "varRefreshCmd": "cat(var_dic_list()) "
    }
   },
   "types_to_exclude": [
    "module",
    "function",
    "builtin_function_or_method",
    "instance",
    "_Feature"
   ],
   "window_display": false
  }
 },
 "nbformat": 4,
 "nbformat_minor": 2
}
